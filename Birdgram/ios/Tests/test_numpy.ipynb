{
 "cells": [
  {
   "cell_type": "markdown",
   "metadata": {},
   "source": [
    "# Test ios np.fft.rfft vs. py"
   ]
  },
  {
   "cell_type": "code",
   "execution_count": null,
   "metadata": {
    "time": "2.879s"
   },
   "outputs": [
    {
     "name": "stdout",
     "output_type": "stream",
     "text": "INFO     [17:17:38.711] [76529] 150 logging_/<module>: {logging_yaml: None}"
    },
    {
     "name": "stdout",
     "output_type": "stream",
     "text": "\n"
    }
   ],
   "source": [
    "from notebooks import *\n",
    "figsize(aspect=1/12)\n",
    "def sigp(x):\n",
    "    pp((x.shape, x[:7]))\n",
    "def sig0(x):\n",
    "    sigp(x)\n",
    "    plt.plot(x); plt.show()\n",
    "def sig(x):\n",
    "    sig0(x)\n",
    "    plt.plot(x[1:]); plt.show()"
   ]
  },
  {
   "cell_type": "code",
   "execution_count": null,
   "metadata": {},
   "outputs": [
    {
     "name": "stdout",
     "output_type": "stream",
     "text": " 685 scipy.signal.spectral/spectrogram: args , x_shape=(2048,), x=array([0.494, 0.018, 0.22 , 0.26 , 0.71 ]), fs=22050, window='hann', nperseg=128, noverlap=64, nfft=None, detrend='constant', return_onesided=True, scaling='spectrum', mode='magnitude'"
    },
    {
     "name": "stdout",
     "output_type": "stream",
     "text": "\n"
    },
    {
     "name": "stdout",
     "output_type": "stream",
     "text": "1481 scipy.signal.spectral/_spectral_helper: args , x_shape=(2048,), x=array([0.494, 0.018, 0.22 , 0.26 , 0.71 ]), fs=22050, nperseg=128, noverlap=64, nfft=None, detrend='constant', return_onesided=True, scaling='spectrum', mode='stft'"
    },
    {
     "name": "stdout",
     "output_type": "stream",
     "text": "\n"
    },
    {
     "name": "stdout",
     "output_type": "stream",
     "text": "1710 scipy.signal.spectral/_fft_helper: args  , x_shape=(2048,), x=array([0.494, 0.018, 0.22 , 0.26 , 0.71 ]), nperseg=128, noverlap=64, nfft=128, sides='onesided'"
    },
    {
     "name": "stdout",
     "output_type": "stream",
     "text": "\n"
    },
    {
     "name": "stdout",
     "output_type": "stream",
     "text": "1721 scipy.signal.spectral/_fft_helper: strid, result_shape=(31, 128), result=array([0.494, 0.018, 0.22 , 0.26 , 0.71 ]), step=64, strides=(512, 8), shape=(31, 128)"
    },
    {
     "name": "stdout",
     "output_type": "stream",
     "text": "\n"
    },
    {
     "name": "stdout",
     "output_type": "stream",
     "text": "1725 scipy.signal.spectral/_fft_helper: detre, result_shape=(31, 128), result=array([ 0.016, -0.46 , -0.258, -0.219,  0.232])"
    },
    {
     "name": "stdout",
     "output_type": "stream",
     "text": "\n"
    },
    {
     "name": "stdout",
     "output_type": "stream",
     "text": "1729 scipy.signal.spectral/_fft_helper: windo, result_shape=(31, 128), result=array([ 0.   , -0.   , -0.001, -0.001,  0.002]), win=array([0.   , 0.001, 0.002, 0.005, 0.01 ])"
    },
    {
     "name": "stdout",
     "output_type": "stream",
     "text": "\n"
    },
    {
     "name": "stdout",
     "output_type": "stream",
     "text": "1738 scipy.signal.spectral/_fft_helper: fft  , result_shape=(31, 65), result=array([ 2.583+0.j   , -2.948-1.307j,  2.307+1.435j, -1.208+0.281j,  1.365-1.301j]), func=<function rfft at 0x11919b0d0>"
    },
    {
     "name": "stdout",
     "output_type": "stream",
     "text": "\n"
    },
    {
     "name": "stdout",
     "output_type": "stream",
     "text": "1657 scipy.signal.spectral/_spectral_helper: scale, result_shape=(31, 65), result=array([ 0.04 +0.j   , -0.046-0.02j ,  0.036+0.022j, -0.019+0.004j,  0.021-0.02j ])"
    },
    {
     "name": "stdout",
     "output_type": "stream",
     "text": "\n"
    },
    {
     "name": "stdout",
     "output_type": "stream",
     "text": " 713 scipy.signal.spectral/spectrogram: mode , Sxx_shape=(65, 31), Sxx=array([0.04 , 0.05 , 0.042, 0.019, 0.029])"
    },
    {
     "name": "stdout",
     "output_type": "stream",
     "text": "\n"
    },
    {
     "name": "stdout",
     "output_type": "stream",
     "text": "("
    },
    {
     "name": "stdout",
     "output_type": "stream",
     "text": "("
    },
    {
     "name": "stdout",
     "output_type": "stream",
     "text": "65"
    },
    {
     "name": "stdout",
     "output_type": "stream",
     "text": ","
    },
    {
     "name": "stdout",
     "output_type": "stream",
     "text": ")"
    },
    {
     "name": "stdout",
     "output_type": "stream",
     "text": ","
    },
    {
     "name": "stdout",
     "output_type": "stream",
     "text": " "
    },
    {
     "name": "stdout",
     "output_type": "stream",
     "text": "("
    },
    {
     "name": "stdout",
     "output_type": "stream",
     "text": "31"
    },
    {
     "name": "stdout",
     "output_type": "stream",
     "text": ","
    },
    {
     "name": "stdout",
     "output_type": "stream",
     "text": ")"
    },
    {
     "name": "stdout",
     "output_type": "stream",
     "text": ","
    },
    {
     "name": "stdout",
     "output_type": "stream",
     "text": " "
    },
    {
     "name": "stdout",
     "output_type": "stream",
     "text": "("
    },
    {
     "name": "stdout",
     "output_type": "stream",
     "text": "65"
    },
    {
     "name": "stdout",
     "output_type": "stream",
     "text": ","
    },
    {
     "name": "stdout",
     "output_type": "stream",
     "text": " "
    },
    {
     "name": "stdout",
     "output_type": "stream",
     "text": "31"
    },
    {
     "name": "stdout",
     "output_type": "stream",
     "text": ")"
    },
    {
     "name": "stdout",
     "output_type": "stream",
     "text": ")"
    },
    {
     "name": "stdout",
     "output_type": "stream",
     "text": "\n"
    },
    {
     "name": "stdout",
     "output_type": "stream",
     "text": "{"
    },
    {
     "name": "stdout",
     "output_type": "stream",
     "text": "\n  "
    },
    {
     "name": "stdout",
     "output_type": "stream",
     "text": "'"
    },
    {
     "name": "stdout",
     "output_type": "stream",
     "text": "strid"
    },
    {
     "name": "stdout",
     "output_type": "stream",
     "text": "'"
    },
    {
     "name": "stdout",
     "output_type": "stream",
     "text": ":"
    },
    {
     "name": "stdout",
     "output_type": "stream",
     "text": " "
    },
    {
     "name": "stdout",
     "output_type": "stream",
     "text": "array([0.494, 0.018, 0.22 , 0.26 , 0.71 , 0.57 , 0.944])"
    },
    {
     "name": "stdout",
     "output_type": "stream",
     "text": ","
    },
    {
     "name": "stdout",
     "output_type": "stream",
     "text": "\n  "
    },
    {
     "name": "stdout",
     "output_type": "stream",
     "text": "'"
    },
    {
     "name": "stdout",
     "output_type": "stream",
     "text": "detre"
    },
    {
     "name": "stdout",
     "output_type": "stream",
     "text": "'"
    },
    {
     "name": "stdout",
     "output_type": "stream",
     "text": ":"
    },
    {
     "name": "stdout",
     "output_type": "stream",
     "text": " "
    },
    {
     "name": "stdout",
     "output_type": "stream",
     "text": "array([ 0.016, -0.46 , -0.258, -0.219,  0.232,  0.091,  0.466])"
    },
    {
     "name": "stdout",
     "output_type": "stream",
     "text": ","
    },
    {
     "name": "stdout",
     "output_type": "stream",
     "text": "\n  "
    },
    {
     "name": "stdout",
     "output_type": "stream",
     "text": "'"
    },
    {
     "name": "stdout",
     "output_type": "stream",
     "text": "windo"
    },
    {
     "name": "stdout",
     "output_type": "stream",
     "text": "'"
    },
    {
     "name": "stdout",
     "output_type": "stream",
     "text": ":"
    },
    {
     "name": "stdout",
     "output_type": "stream",
     "text": " "
    },
    {
     "name": "stdout",
     "output_type": "stream",
     "text": "array([ 0.   , -0.   , -0.001, -0.001,  0.002,  0.001,  0.01 ])"
    },
    {
     "name": "stdout",
     "output_type": "stream",
     "text": ","
    },
    {
     "name": "stdout",
     "output_type": "stream",
     "text": "\n  "
    },
    {
     "name": "stdout",
     "output_type": "stream",
     "text": "'"
    },
    {
     "name": "stdout",
     "output_type": "stream",
     "text": "fft  "
    },
    {
     "name": "stdout",
     "output_type": "stream",
     "text": "'"
    },
    {
     "name": "stdout",
     "output_type": "stream",
     "text": ":"
    },
    {
     "name": "stdout",
     "output_type": "stream",
     "text": " "
    },
    {
     "name": "stdout",
     "output_type": "stream",
     "text": "array([ 2.583+0.j   , -2.948-1.307j,  2.307+1.435j, -1.208+0.281j,  1.365-1.301j, -2.337-0.41j ,  2.43 +0.204j])"
    },
    {
     "name": "stdout",
     "output_type": "stream",
     "text": ","
    },
    {
     "name": "stdout",
     "output_type": "stream",
     "text": "\n  "
    },
    {
     "name": "stdout",
     "output_type": "stream",
     "text": "'"
    },
    {
     "name": "stdout",
     "output_type": "stream",
     "text": "scale"
    },
    {
     "name": "stdout",
     "output_type": "stream",
     "text": "'"
    },
    {
     "name": "stdout",
     "output_type": "stream",
     "text": ":"
    },
    {
     "name": "stdout",
     "output_type": "stream",
     "text": " "
    },
    {
     "name": "stdout",
     "output_type": "stream",
     "text": "array([ 0.04 +0.j   , -0.046-0.02j ,  0.036+0.022j, -0.019+0.004j,  0.021-0.02j , -0.037-0.006j,  0.038+0.003j])"
    },
    {
     "name": "stdout",
     "output_type": "stream",
     "text": ","
    },
    {
     "name": "stdout",
     "output_type": "stream",
     "text": "\n  "
    },
    {
     "name": "stdout",
     "output_type": "stream",
     "text": "'"
    },
    {
     "name": "stdout",
     "output_type": "stream",
     "text": "mode "
    },
    {
     "name": "stdout",
     "output_type": "stream",
     "text": "'"
    },
    {
     "name": "stdout",
     "output_type": "stream",
     "text": ":"
    },
    {
     "name": "stdout",
     "output_type": "stream",
     "text": " "
    },
    {
     "name": "stdout",
     "output_type": "stream",
     "text": "array([0.04 , 0.05 , 0.042, 0.019, 0.029, 0.037, 0.038])"
    },
    {
     "name": "stdout",
     "output_type": "stream",
     "text": ","
    },
    {
     "name": "stdout",
     "output_type": "stream",
     "text": "\n  "
    },
    {
     "name": "stdout",
     "output_type": "stream",
     "text": "'"
    },
    {
     "name": "stdout",
     "output_type": "stream",
     "text": "TEST="
    },
    {
     "name": "stdout",
     "output_type": "stream",
     "text": "'"
    },
    {
     "name": "stdout",
     "output_type": "stream",
     "text": ":"
    },
    {
     "name": "stdout",
     "output_type": "stream",
     "text": " "
    },
    {
     "name": "stdout",
     "output_type": "stream",
     "text": "array([0.04 , 0.05 , 0.042, 0.019, 0.029, 0.037, 0.038])"
    },
    {
     "name": "stdout",
     "output_type": "stream",
     "text": "\n"
    },
    {
     "name": "stdout",
     "output_type": "stream",
     "text": "}"
    },
    {
     "name": "stdout",
     "output_type": "stream",
     "text": "\n"
    }
   ],
   "source": [
    "# Q: What is scipy.signal.spectrogram doing?\n",
    "n       = 2048\n",
    "x       = np.random.rand(n)\n",
    "nperseg = 128\n",
    "nf      = nperseg // 2 + 1\n",
    "x0      = x[:nperseg]\n",
    "detrend = lambda xs: xs - xs.mean()\n",
    "window  = 'hann'\n",
    "win     = scipy.signal.windows.get_window(window, nperseg)\n",
    "scale   = np.sqrt(1.0 / win.sum()**2)\n",
    "(f,t,S) = scipy.signal.spectrogram(x, 22050,\n",
    "    window   = window,\n",
    "    nperseg  = nperseg,\n",
    "    noverlap = int(.5 * nperseg),\n",
    "    scaling  = 'spectrum',   # Return units X**2 ('spectrum'), not units X**2/Hz ('density')\n",
    "    mode     = 'magnitude',  # Return |STFT(x)**2|, not STFT(x)**2 (because \"humans can't hear complex phase\")\n",
    ")\n",
    "pp((f.shape, t.shape, S.shape))\n",
    "pp({\n",
    "    'strid': x0[:7],\n",
    "    'detre': detrend(x0)[:7],\n",
    "    'windo': (win * detrend(x0))[:7],\n",
    "    'fft  ': np.fft.rfft(win * detrend(x0))[:7],\n",
    "    'scale': scale * np.fft.rfft(win * detrend(x0))[:7],\n",
    "    'mode ': np.abs(scale * np.fft.rfft(win * detrend(x0)))[:7],\n",
    "    'TEST=': S.T[0][:7],\n",
    "})"
   ]
  },
  {
   "cell_type": "code",
   "execution_count": null,
   "metadata": {},
   "outputs": [
    {
     "name": "stdout",
     "output_type": "stream",
     "text": "("
    },
    {
     "name": "stdout",
     "output_type": "stream",
     "text": "("
    },
    {
     "name": "stdout",
     "output_type": "stream",
     "text": "65"
    },
    {
     "name": "stdout",
     "output_type": "stream",
     "text": ","
    },
    {
     "name": "stdout",
     "output_type": "stream",
     "text": ")"
    },
    {
     "name": "stdout",
     "output_type": "stream",
     "text": ","
    },
    {
     "name": "stdout",
     "output_type": "stream",
     "text": " "
    },
    {
     "name": "stdout",
     "output_type": "stream",
     "text": "array([0.04 , 0.05 , 0.042, 0.019, 0.029, 0.037, 0.038])"
    },
    {
     "name": "stdout",
     "output_type": "stream",
     "text": ")"
    },
    {
     "name": "stdout",
     "output_type": "stream",
     "text": "\n"
    },
    {
     "data": {
      "image/png": "[encoded data removed]",
      "text/plain": "<matplotlib.figure.Figure object at 0x12e6bc748>"
     },
     "metadata": {
      "image/png": {
       "height": 87,
       "width": 721
      }
     },
     "output_type": "display_data",
     "transient": {}
    },
    {
     "data": {
      "image/png": "[encoded data removed]",
      "text/plain": "<matplotlib.figure.Figure object at 0x134082278>"
     },
     "metadata": {
      "image/png": {
       "height": 87,
       "width": 721
      }
     },
     "output_type": "display_data",
     "transient": {}
    }
   ],
   "source": [
    "# Recreate f0 in vDSP\n",
    "#   - Maybe also simplify the np target? [XXX Nope, dct's don't look simply related; stick to abs(rfft)]\n",
    "detrend = lambda xs: xs - xs.mean()\n",
    "window  = 'hann'\n",
    "win     = scipy.signal.windows.get_window(window, nperseg)\n",
    "scale   = np.sqrt(1.0 / win.sum()**2)\n",
    "f0      = np.abs(scale * np.fft.rfft(win * detrend(x0)))\n",
    "sig(f0)"
   ]
  },
  {
   "cell_type": "code",
   "execution_count": null,
   "metadata": {},
   "outputs": [
    {
     "name": "stdout",
     "output_type": "stream",
     "text": "[0.4940140229790255, 0.017981532701817793, 0.22045047471643042, 0.25979756787131414, 0.7101849277608944, 0.5697283049774661, 0.9439275587914135, 0.842371845837429, 0.5711204203575068, 0.32674946303924146, 0.08802192445806534, 0.12426003259764495, 0.4026434375518072, 0.22829886508920028, 0.6663955425892332, 0.5910155126147232]"
    },
    {
     "name": "stdout",
     "output_type": "stream",
     "text": "\n"
    },
    {
     "name": "stdout",
     "output_type": "stream",
     "text": "[7.056961433933213, 1.278535206380839, 2.393728303455053, 0.2532280382495736, 0.7227516602446252, 0.22349296717789197, 0.5266739566268884, 0.45329539014527787, 1.1365551844755393]"
    },
    {
     "name": "stdout",
     "output_type": "stream",
     "text": "\n"
    },
    {
     "name": "stdout",
     "output_type": "stream",
     "text": "("
    },
    {
     "name": "stdout",
     "output_type": "stream",
     "text": "("
    },
    {
     "name": "stdout",
     "output_type": "stream",
     "text": "16"
    },
    {
     "name": "stdout",
     "output_type": "stream",
     "text": ","
    },
    {
     "name": "stdout",
     "output_type": "stream",
     "text": ")"
    },
    {
     "name": "stdout",
     "output_type": "stream",
     "text": ","
    },
    {
     "name": "stdout",
     "output_type": "stream",
     "text": " "
    },
    {
     "name": "stdout",
     "output_type": "stream",
     "text": "array([0.494, 0.018, 0.22 , 0.26 , 0.71 , 0.57 , 0.944])"
    },
    {
     "name": "stdout",
     "output_type": "stream",
     "text": ")"
    },
    {
     "name": "stdout",
     "output_type": "stream",
     "text": "\n"
    },
    {
     "name": "stdout",
     "output_type": "stream",
     "text": "("
    },
    {
     "name": "stdout",
     "output_type": "stream",
     "text": "("
    },
    {
     "name": "stdout",
     "output_type": "stream",
     "text": "9"
    },
    {
     "name": "stdout",
     "output_type": "stream",
     "text": ","
    },
    {
     "name": "stdout",
     "output_type": "stream",
     "text": ")"
    },
    {
     "name": "stdout",
     "output_type": "stream",
     "text": ","
    },
    {
     "name": "stdout",
     "output_type": "stream",
     "text": " "
    },
    {
     "name": "stdout",
     "output_type": "stream",
     "text": "array([7.057, 1.279, 2.394, 0.253, 0.723, 0.223, 0.527])"
    },
    {
     "name": "stdout",
     "output_type": "stream",
     "text": ")"
    },
    {
     "name": "stdout",
     "output_type": "stream",
     "text": "\n"
    },
    {
     "data": {
      "image/png": "[encoded data removed]",
      "text/plain": "<matplotlib.figure.Figure object at 0x1340c0940>"
     },
     "metadata": {
      "image/png": {
       "height": 87,
       "width": 699
      }
     },
     "output_type": "display_data",
     "transient": {}
    },
    {
     "name": "stdout",
     "output_type": "stream",
     "text": "("
    },
    {
     "name": "stdout",
     "output_type": "stream",
     "text": "("
    },
    {
     "name": "stdout",
     "output_type": "stream",
     "text": "9"
    },
    {
     "name": "stdout",
     "output_type": "stream",
     "text": ","
    },
    {
     "name": "stdout",
     "output_type": "stream",
     "text": ")"
    },
    {
     "name": "stdout",
     "output_type": "stream",
     "text": ","
    },
    {
     "name": "stdout",
     "output_type": "stream",
     "text": " "
    },
    {
     "name": "stdout",
     "output_type": "stream",
     "text": "array([7.057, 1.279, 2.394, 0.253, 0.723, 0.223, 0.527])"
    },
    {
     "name": "stdout",
     "output_type": "stream",
     "text": ")"
    },
    {
     "name": "stdout",
     "output_type": "stream",
     "text": "\n"
    },
    {
     "data": {
      "image/png": "[encoded data removed]",
      "text/plain": "<matplotlib.figure.Figure object at 0x133d8ba58>"
     },
     "metadata": {
      "image/png": {
       "height": 87,
       "width": 699
      }
     },
     "output_type": "display_data",
     "transient": {}
    }
   ],
   "source": [
    "# Recreate abs(rfft) in vDSP (trivial to extend back to f0)\n",
    "# y = x0    # Real-sized input (128)\n",
    "y = x0[:16] # Mock input for swift dev\n",
    "print(json.dumps(list(y)))                       # To copy to .swift\n",
    "print(json.dumps(list(np.abs(np.fft.rfft(y)))))  # To copy to .swift\n",
    "sigp(y)\n",
    "sig0(np.abs(np.fft.rfft(y)))               # Goal: abs(rfft(x))\n",
    "sig0(np.abs(np.fft.fft(y)[:len(y)//2+1]))  # Same: abs(fft(x[:n//2+1]))"
   ]
  },
  {
   "cell_type": "code",
   "execution_count": null,
   "metadata": {
    "skip": true
   },
   "outputs": [
    {
     "name": "stdout",
     "output_type": "stream",
     "text": "[skip]"
    }
   ],
   "source": [
    "# Maybe simplify in np (for simpler/faster vDSP)?\n",
    "#   - XXX Nope, dct's don't look simply related; stick to abs(rfft)\n",
    "dcts = {\n",
    "    type: scipy.fftpack.dct(x0, type=type)\n",
    "    for type in [1,2,3]\n",
    "}\n",
    "for type, d in dcts.items():\n",
    "    print(f'type={type}: ', end='')\n",
    "    sig(d[:nf])"
   ]
  },
  {
   "cell_type": "code",
   "execution_count": null,
   "metadata": {},
   "outputs": [],
   "source": []
  }
 ],
 "metadata": {
  "kernelspec": {
   "display_name": "bubo-features (PYTHONSTARTUP)",
   "language": "python",
   "name": "bubo-features (PYTHONSTARTUP)"
  }
 },
 "nbformat": 4,
 "nbformat_minor": 2
}
