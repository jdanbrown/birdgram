{
 "cells": [
  {
   "cell_type": "markdown",
   "metadata": {},
   "source": [
    "# Test ios features vs. py"
   ]
  },
  {
   "cell_type": "code",
   "execution_count": null,
   "metadata": {
    "time": "5.95s"
   },
   "outputs": [
    {
     "name": "stdout",
     "output_type": "stream",
     "text": "INFO     [16:37:02.960] [97915] 151 logging_/<module>: {logging_yaml: None}"
    },
    {
     "name": "stdout",
     "output_type": "stream",
     "text": "\n"
    },
    {
     "name": "stdout",
     "output_type": "stream",
     "text": "INFO     [16:37:03.412] [97915]  32 api.server_globals/init"
    },
    {
     "name": "stdout",
     "output_type": "stream",
     "text": "\n"
    },
    {
     "name": "stdout",
     "output_type": "stream",
     "text": "DEBUG    [16:37:03.420] [97915]  75 api.server_globals/load: load_search..."
    },
    {
     "name": "stdout",
     "output_type": "stream",
     "text": "\n"
    },
    {
     "name": "stdout",
     "output_type": "stream",
     "text": "INFO     [16:37:03.817] [97915]  79 api.server_globals/load: load_search (took 0.388s)"
    },
    {
     "name": "stdout",
     "output_type": "stream",
     "text": "\n"
    },
    {
     "name": "stdout",
     "output_type": "stream",
     "text": "DEBUG    [16:37:03.826] [97915]  75 api.server_globals/load: load_xc_meta..."
    },
    {
     "name": "stdout",
     "output_type": "stream",
     "text": "\n"
    },
    {
     "name": "stdout",
     "output_type": "stream",
     "text": "INFO     [16:37:04.294] [97915]  79 api.server_globals/load: load_xc_meta (took 0.462s)"
    },
    {
     "name": "stdout",
     "output_type": "stream",
     "text": "\n"
    },
    {
     "name": "stdout",
     "output_type": "stream",
     "text": "DEBUG    [16:37:04.302] [97915]  75 api.server_globals/load: load_feat_info..."
    },
    {
     "name": "stdout",
     "output_type": "stream",
     "text": "\n"
    },
    {
     "name": "stdout",
     "output_type": "stream",
     "text": "INFO     [16:37:04.311] [97915] 110 api.server_globals/load_feat_info"
    },
    {
     "name": "stdout",
     "output_type": "stream",
     "text": "\n"
    },
    {
     "name": "stdout",
     "output_type": "stream",
     "text": "INFO     [16:37:04.318] [97915]  79 api.server_globals/load: load_feat_info (took 0.008s)"
    },
    {
     "name": "stdout",
     "output_type": "stream",
     "text": "\n"
    },
    {
     "name": "stdout",
     "output_type": "stream",
     "text": "DEBUG    [16:37:04.325] [97915]  75 api.server_globals/load: load_search_recs..."
    },
    {
     "name": "stdout",
     "output_type": "stream",
     "text": "\n"
    },
    {
     "name": "stdout",
     "output_type": "stream",
     "text": "INFO     [16:37:04.332] [97915] 118 api.server_globals/load_search_recs"
    },
    {
     "name": "stdout",
     "output_type": "stream",
     "text": "\n"
    },
    {
     "name": "stdout",
     "output_type": "stream",
     "text": "INFO     [16:37:04.339] [97915] 601 api.recs/get_search_recs"
    },
    {
     "name": "stdout",
     "output_type": "stream",
     "text": "\n"
    },
    {
     "name": "stdout",
     "output_type": "stream",
     "text": "INFO     [16:37:04.360] [97915] 151 payloads/df_cache_hybrid: Hit: payloads/search_recs-version[8],limit[3500],audio_s[10],countries_k[na],com_names_k[ca],num_recs[None]-064a482"
    },
    {
     "name": "stdout",
     "output_type": "stream",
     "text": "\n"
    },
    {
     "name": "stdout",
     "output_type": "stream",
     "text": "DEBUG    [16:37:04.374] [97915] 152 payloads/df_cache_hybrid: Hit ..."
    },
    {
     "name": "stdout",
     "output_type": "stream",
     "text": "\n"
    },
    {
     "name": "stdout",
     "output_type": "stream",
     "text": "DEBUG    [16:37:04.388] [97915] 161 payloads/df_cache_hybrid: Hit: Read api/lite.parquet (5.1 MB) ..."
    },
    {
     "name": "stdout",
     "output_type": "stream",
     "text": "\n"
    },
    {
     "name": "stdout",
     "output_type": "stream",
     "text": "INFO     [16:37:05.862] [97915] 168 payloads/df_cache_hybrid: Hit: Read api/lite.parquet (5.1 MB) [1.474s]"
    },
    {
     "name": "stdout",
     "output_type": "stream",
     "text": "\n"
    },
    {
     "name": "stdout",
     "output_type": "stream",
     "text": "DEBUG    [16:37:05.881] [97915] 173 payloads/df_cache_hybrid: Hit: Read api/bytes-audio_bytes.parquet (142.0 MB) ..."
    },
    {
     "name": "stdout",
     "output_type": "stream",
     "text": "\n"
    },
    {
     "name": "stdout",
     "output_type": "stream",
     "text": "INFO     [16:37:06.288] [97915] 180 payloads/df_cache_hybrid: Hit: Read api/bytes-audio_bytes.parquet (142.0 MB) [0.407s]"
    },
    {
     "name": "stdout",
     "output_type": "stream",
     "text": "\n"
    },
    {
     "name": "stdout",
     "output_type": "stream",
     "text": "DEBUG    [16:37:06.302] [97915] 173 payloads/df_cache_hybrid: Hit: Read api/bytes-spectro_bytes.parquet (38.5 MB) ..."
    },
    {
     "name": "stdout",
     "output_type": "stream",
     "text": "\n"
    },
    {
     "name": "stdout",
     "output_type": "stream",
     "text": "INFO     [16:37:06.406] [97915] 180 payloads/df_cache_hybrid: Hit: Read api/bytes-spectro_bytes.parquet (38.5 MB) [0.104s]"
    },
    {
     "name": "stdout",
     "output_type": "stream",
     "text": "\n"
    },
    {
     "name": "stdout",
     "output_type": "stream",
     "text": "DEBUG    [16:37:06.420] [97915] 185 payloads/df_cache_hybrid: Hit: Read api/feat-f_preds.npy (4.6 MB) ..."
    },
    {
     "name": "stdout",
     "output_type": "stream",
     "text": "\n"
    },
    {
     "name": "stdout",
     "output_type": "stream",
     "text": "INFO     [16:37:06.432] [97915] 187 payloads/df_cache_hybrid: Hit: Read api/feat-f_preds.npy (4.6 MB) [float32, 0.012s]"
    },
    {
     "name": "stdout",
     "output_type": "stream",
     "text": "\n"
    },
    {
     "name": "stdout",
     "output_type": "stream",
     "text": "DEBUG    [16:37:06.443] [97915] 185 payloads/df_cache_hybrid: Hit: Read api/feat-feat.npy (21.0 MB) ..."
    },
    {
     "name": "stdout",
     "output_type": "stream",
     "text": "\n"
    },
    {
     "name": "stdout",
     "output_type": "stream",
     "text": "INFO     [16:37:06.471] [97915] 187 payloads/df_cache_hybrid: Hit: Read api/feat-feat.npy (21.0 MB) [float32, 0.028s]"
    },
    {
     "name": "stdout",
     "output_type": "stream",
     "text": "\n"
    },
    {
     "name": "stdout",
     "output_type": "stream",
     "text": "INFO     [16:37:06.479] [97915] 190 payloads/df_cache_hybrid: Hit: Join lite + bytes + feats"
    },
    {
     "name": "stdout",
     "output_type": "stream",
     "text": "\n"
    },
    {
     "name": "stdout",
     "output_type": "stream",
     "text": "INFO     [16:37:06.528] [97915] 201 payloads/df_cache_hybrid: Hit [2.154s]"
    },
    {
     "name": "stdout",
     "output_type": "stream",
     "text": "\n"
    },
    {
     "data": {
      "text/html": "<table border=\"1\" class=\"dataframe\">\n  <thead>\n    <tr style=\"text-align: right;\">\n      <th></th>\n      <th>dir</th>\n      <th>file</th>\n      <th>size</th>\n      <th>frac</th>\n    </tr>\n  </thead>\n  <tbody>\n    <tr>\n      <th>5</th>\n      <td><div class=\"not-number\">api</div></td>\n      <td><div class=\"not-number\">TOTAL</div></td>\n      <td>211258662</td>\n      <td>1.000</td>\n    </tr>\n    <tr>\n      <th>1</th>\n      <td><div class=\"not-number\">api</div></td>\n      <td><div class=\"not-number\">api/bytes-audio_bytes.parquet</div></td>\n      <td>142018687</td>\n      <td>0.672</td>\n    </tr>\n    <tr>\n      <th>2</th>\n      <td><div class=\"not-number\">api</div></td>\n      <td><div class=\"not-number\">api/bytes-spectro_bytes.parquet</div></td>\n      <td>38468688</td>\n      <td>0.182</td>\n    </tr>\n    <tr>\n      <th>4</th>\n      <td><div class=\"not-number\">api</div></td>\n      <td><div class=\"not-number\">api/feat-feat.npy: float32</div></td>\n      <td>21000128</td>\n      <td>0.099</td>\n    </tr>\n    <tr>\n      <th>0</th>\n      <td><div class=\"not-number\">api</div></td>\n      <td><div class=\"not-number\">api/lite.parquet</div></td>\n      <td>5137031</td>\n      <td>0.024</td>\n    </tr>\n    <tr>\n      <th>3</th>\n      <td><div class=\"not-number\">api</div></td>\n      <td><div class=\"not-number\">api/feat-f_preds.npy: float32</div></td>\n      <td>4634128</td>\n      <td>0.022</td>\n    </tr>\n  </tbody>\n</table>",
      "text/plain": "   dir                             file       size   frac\n5  api                            TOTAL  211258662  1.000\n1  api    api/bytes-audio_bytes.parquet  142018687  0.672\n2  api  api/bytes-spectro_bytes.parquet   38468688  0.182\n4  api       api/feat-feat.npy: float32   21000128  0.099\n0  api                 api/lite.parquet    5137031  0.024\n3  api    api/feat-f_preds.npy: float32    4634128  0.022"
     },
     "metadata": {},
     "output_type": "display_data",
     "transient": {}
    },
    {
     "name": "stdout",
     "output_type": "stream",
     "text": "INFO     [16:37:06.573] [97915]  79 api.server_globals/load: load_search_recs (took 2.241s)"
    },
    {
     "name": "stdout",
     "output_type": "stream",
     "text": "\n"
    },
    {
     "name": "stdout",
     "output_type": "stream",
     "text": "INFO     [16:37:06.581] [97915]  34 api.server_globals/init: done"
    },
    {
     "name": "stdout",
     "output_type": "stream",
     "text": "\n"
    }
   ],
   "source": [
    "from notebooks import *\n",
    "sg.init(None)\n",
    "figsize(aspect=1/12)\n",
    "def sigp(x):\n",
    "    pp((x.shape, x[:7]))\n",
    "def sig(x):\n",
    "    sigp(x)\n",
    "    plt.plot(x); plt.show()\n",
    "def mat(X, rows=10, cols=10, **show_img_kwargs):\n",
    "    pp(X.shape)\n",
    "    pp(X[:rows, :cols])\n",
    "    show_img(X, **show_img_kwargs)\n",
    "def mat_flip(*args, **kwargs):\n",
    "    mat(*args, **{\n",
    "        'origin': 'lower',\n",
    "        **kwargs,\n",
    "    })"
   ]
  },
  {
   "cell_type": "markdown",
   "metadata": {},
   "source": [
    "# SpectroLike"
   ]
  },
  {
   "cell_type": "code",
   "execution_count": null,
   "metadata": {},
   "outputs": [
    {
     "name": "stdout",
     "output_type": "stream",
     "text": "("
    },
    {
     "name": "stdout",
     "output_type": "stream",
     "text": "4"
    },
    {
     "name": "stdout",
     "output_type": "stream",
     "text": ","
    },
    {
     "name": "stdout",
     "output_type": "stream",
     "text": " "
    },
    {
     "name": "stdout",
     "output_type": "stream",
     "text": "5"
    },
    {
     "name": "stdout",
     "output_type": "stream",
     "text": ")"
    },
    {
     "name": "stdout",
     "output_type": "stream",
     "text": "\n"
    },
    {
     "name": "stdout",
     "output_type": "stream",
     "text": "array([[0.222, 0.622, 0.863, 0.6  , 0.229],\n       [0.986, 0.885, 0.048, 0.067, 0.42 ],\n       [0.667, 0.697, 0.403, 0.596, 0.999],\n       [0.032, 0.195, 0.814, 0.82 , 0.073]])"
    },
    {
     "name": "stdout",
     "output_type": "stream",
     "text": "\n"
    },
    {
     "data": {
      "image/png": "[encoded data removed]",
      "text/plain": "<PIL.Image.Image image mode=RGBA size=50x40 at 0x13E90FBE0>"
     },
     "metadata": {},
     "output_type": "display_data",
     "transient": {}
    },
    {
     "name": "stdout",
     "output_type": "stream",
     "text": "("
    },
    {
     "name": "stdout",
     "output_type": "stream",
     "text": "4"
    },
    {
     "name": "stdout",
     "output_type": "stream",
     "text": ","
    },
    {
     "name": "stdout",
     "output_type": "stream",
     "text": " "
    },
    {
     "name": "stdout",
     "output_type": "stream",
     "text": "5"
    },
    {
     "name": "stdout",
     "output_type": "stream",
     "text": ")"
    },
    {
     "name": "stdout",
     "output_type": "stream",
     "text": "\n"
    },
    {
     "name": "stdout",
     "output_type": "stream",
     "text": "array([[0.365, 1.026, 1.423, 0.989, 0.378],\n       [1.626, 1.459, 0.08 , 0.111, 0.692],\n       [1.099, 1.149, 0.665, 0.983, 1.647],\n       [0.052, 0.322, 1.342, 1.352, 0.121]])"
    },
    {
     "name": "stdout",
     "output_type": "stream",
     "text": "\n"
    },
    {
     "data": {
      "image/png": "[encoded data removed]",
      "text/plain": "<PIL.Image.Image image mode=RGBA size=50x40 at 0x13EA0ECC0>"
     },
     "metadata": {},
     "output_type": "display_data",
     "transient": {}
    }
   ],
   "source": [
    "with test_for_swift('SpectroLike.norm_rms') as (name, Dump):\n",
    "    spectro = SpectroLike()  # Mock\n",
    "    spectro.S = np.random.rand(4,5); spectro.S\n",
    "    X = spectro.S\n",
    "    Y = spectro.norm_rms().S\n",
    "    mat_flip(X, scale=10)\n",
    "    mat_flip(Y, scale=10)\n",
    "    raise Dump(X=X.tolist(), Y=Y.tolist())"
   ]
  },
  {
   "cell_type": "code",
   "execution_count": null,
   "metadata": {},
   "outputs": [
    {
     "name": "stdout",
     "output_type": "stream",
     "text": "("
    },
    {
     "name": "stdout",
     "output_type": "stream",
     "text": "4"
    },
    {
     "name": "stdout",
     "output_type": "stream",
     "text": ","
    },
    {
     "name": "stdout",
     "output_type": "stream",
     "text": " "
    },
    {
     "name": "stdout",
     "output_type": "stream",
     "text": "5"
    },
    {
     "name": "stdout",
     "output_type": "stream",
     "text": ")"
    },
    {
     "name": "stdout",
     "output_type": "stream",
     "text": "\n"
    },
    {
     "name": "stdout",
     "output_type": "stream",
     "text": "array([[0.81 , 0.34 , 0.408, 0.699, 0.12 ],\n       [0.432, 0.062, 0.047, 0.733, 0.991],\n       [0.338, 0.001, 0.623, 0.801, 0.264],\n       [0.119, 0.503, 0.694, 0.229, 0.163]])"
    },
    {
     "name": "stdout",
     "output_type": "stream",
     "text": "\n"
    },
    {
     "data": {
      "image/png": "[encoded data removed]",
      "text/plain": "<PIL.Image.Image image mode=RGBA size=50x40 at 0x12B9C6BE0>"
     },
     "metadata": {},
     "output_type": "display_data",
     "transient": {}
    },
    {
     "name": "stdout",
     "output_type": "stream",
     "text": "("
    },
    {
     "name": "stdout",
     "output_type": "stream",
     "text": "4"
    },
    {
     "name": "stdout",
     "output_type": "stream",
     "text": ","
    },
    {
     "name": "stdout",
     "output_type": "stream",
     "text": " "
    },
    {
     "name": "stdout",
     "output_type": "stream",
     "text": "5"
    },
    {
     "name": "stdout",
     "output_type": "stream",
     "text": ")"
    },
    {
     "name": "stdout",
     "output_type": "stream",
     "text": "\n"
    },
    {
     "name": "stdout",
     "output_type": "stream",
     "text": "array([[0.402, 0.   , 0.   , 0.291, 0.   ],\n       [0.   , 0.   , 0.   , 0.301, 0.559],\n       [0.   , 0.   , 0.285, 0.463, 0.   ],\n       [0.   , 0.274, 0.465, 0.   , 0.   ]])"
    },
    {
     "name": "stdout",
     "output_type": "stream",
     "text": "\n"
    },
    {
     "data": {
      "image/png": "[encoded data removed]",
      "text/plain": "<PIL.Image.Image image mode=RGBA size=50x40 at 0x13E7B4BE0>"
     },
     "metadata": {},
     "output_type": "display_data",
     "transient": {}
    }
   ],
   "source": [
    "with test_for_swift('SpectroLike.clip_below_median_per_freq') as (name, Dump):\n",
    "    spectro = SpectroLike()  # Mock\n",
    "    spectro.S = np.random.rand(4,5); spectro.S\n",
    "    X = spectro.S\n",
    "    Y = spectro.clip_below_median_per_freq().S\n",
    "    mat_flip(X, scale=10)\n",
    "    mat_flip(Y, scale=10)\n",
    "    raise Dump(X=X.tolist(), Y=Y.tolist())"
   ]
  },
  {
   "cell_type": "code",
   "execution_count": null,
   "metadata": {},
   "outputs": [],
   "source": []
  }
 ],
 "metadata": {
  "kernelspec": {
   "display_name": "bubo-features (PYTHONSTARTUP)",
   "language": "python",
   "name": "bubo-features (PYTHONSTARTUP)"
  }
 },
 "nbformat": 4,
 "nbformat_minor": 2
}
