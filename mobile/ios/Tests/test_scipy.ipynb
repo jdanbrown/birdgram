{
 "cells": [
  {
   "cell_type": "markdown",
   "metadata": {},
   "source": [
    "# Test ios scipy.signal.spectrogram vs. py"
   ]
  },
  {
   "cell_type": "code",
   "execution_count": null,
   "metadata": {
    "time": "2.756s"
   },
   "outputs": [
    {
     "name": "stdout",
     "output_type": "stream",
     "text": "INFO     [18:05:18.929] [26360] 150 logging_/<module>: {logging_yaml: None}"
    },
    {
     "name": "stdout",
     "output_type": "stream",
     "text": "\n"
    }
   ],
   "source": [
    "from notebooks import *\n",
    "figsize(aspect=1/12)\n",
    "def sigp(x):\n",
    "    pp((x.shape, x[:7]))\n",
    "def sig0(x):\n",
    "    sigp(x)\n",
    "    plt.plot(x); plt.show()\n",
    "def sig(x):\n",
    "    sig0(x)\n",
    "    plt.plot(x[1:]); plt.show()"
   ]
  },
  {
   "cell_type": "code",
   "execution_count": null,
   "metadata": {},
   "outputs": [
    {
     "name": "stdout",
     "output_type": "stream",
     "text": "hann"
    },
    {
     "name": "stdout",
     "output_type": "stream",
     "text": "\n"
    },
    {
     "name": "stdout",
     "output_type": "stream",
     "text": "32"
    },
    {
     "name": "stdout",
     "output_type": "stream",
     "text": "\n"
    },
    {
     "name": "stdout",
     "output_type": "stream",
     "text": "[0.    0.01  0.038 0.084 0.146 0.222 0.309 0.402 0.5   0.598 0.691 0.778 0.854 0.916 0.962 0.99  1.    0.99  0.962\n 0.916 0.854 0.778 0.691 0.598 0.5   0.402 0.309 0.222 0.146 0.084 0.038 0.01 ]"
    },
    {
     "name": "stdout",
     "output_type": "stream",
     "text": "\n"
    },
    {
     "name": "stdout",
     "output_type": "stream",
     "text": " 685 scipy.signal.spectral/spectrogram: args , x_shape=(128,), x=array([0.42 , 0.512, 0.23 , 0.329, 0.559]), fs=22050, window='hann', nperseg=32, noverlap=16, nfft=None, detrend='constant', return_onesided=True, scaling='spectrum', mode='magnitude'"
    },
    {
     "name": "stdout",
     "output_type": "stream",
     "text": "\n"
    },
    {
     "name": "stdout",
     "output_type": "stream",
     "text": "1481 scipy.signal.spectral/_spectral_helper: args , x_shape=(128,), x=array([0.42 , 0.512, 0.23 , 0.329, 0.559]), fs=22050, nperseg=32, noverlap=16, nfft=None, detrend='constant', return_onesided=True, scaling='spectrum', mode='stft'"
    },
    {
     "name": "stdout",
     "output_type": "stream",
     "text": "\n"
    },
    {
     "name": "stdout",
     "output_type": "stream",
     "text": "1710 scipy.signal.spectral/_fft_helper: args  , x_shape=(128,), x=array([0.42 , 0.512, 0.23 , 0.329, 0.559]), nperseg=32, noverlap=16, nfft=32, sides='onesided'"
    },
    {
     "name": "stdout",
     "output_type": "stream",
     "text": "\n"
    },
    {
     "name": "stdout",
     "output_type": "stream",
     "text": "1721 scipy.signal.spectral/_fft_helper: strid, result_shape=(7, 32), result=array([0.42 , 0.512, 0.23 , 0.329, 0.559]), step=16, strides=(128, 8), shape=(7, 32)"
    },
    {
     "name": "stdout",
     "output_type": "stream",
     "text": "\n"
    },
    {
     "name": "stdout",
     "output_type": "stream",
     "text": "1725 scipy.signal.spectral/_fft_helper: detre, result_shape=(7, 32), result=array([-0.08 ,  0.012, -0.27 , -0.171,  0.059])"
    },
    {
     "name": "stdout",
     "output_type": "stream",
     "text": "\n"
    },
    {
     "name": "stdout",
     "output_type": "stream",
     "text": "1729 scipy.signal.spectral/_fft_helper: windo, result_shape=(7, 32), result=array([-0.   ,  0.   , -0.01 , -0.014,  0.009]), win=array([0.   , 0.01 , 0.038, 0.084, 0.146])"
    },
    {
     "name": "stdout",
     "output_type": "stream",
     "text": "\n"
    },
    {
     "name": "stdout",
     "output_type": "stream",
     "text": "1738 scipy.signal.spectral/_fft_helper: fft  , result_shape=(7, 17), result=array([ 0.294+0.j   , -0.098-0.606j, -0.727+0.78j ,  0.889-0.649j,  0.251+0.534j]), func=<function rfft at 0x110d6d0d0>"
    },
    {
     "name": "stdout",
     "output_type": "stream",
     "text": "\n"
    },
    {
     "name": "stdout",
     "output_type": "stream",
     "text": "1657 scipy.signal.spectral/_spectral_helper: scale, result_shape=(7, 17), result=array([ 0.018+0.j   , -0.006-0.038j, -0.045+0.049j,  0.056-0.041j,  0.016+0.033j])"
    },
    {
     "name": "stdout",
     "output_type": "stream",
     "text": "\n"
    },
    {
     "name": "stdout",
     "output_type": "stream",
     "text": " 713 scipy.signal.spectral/spectrogram: mode , Sxx_shape=(17, 7), Sxx=array([0.018, 0.038, 0.067, 0.069, 0.037])"
    },
    {
     "name": "stdout",
     "output_type": "stream",
     "text": "\n"
    },
    {
     "name": "stdout",
     "output_type": "stream",
     "text": "("
    },
    {
     "name": "stdout",
     "output_type": "stream",
     "text": "("
    },
    {
     "name": "stdout",
     "output_type": "stream",
     "text": "17"
    },
    {
     "name": "stdout",
     "output_type": "stream",
     "text": ","
    },
    {
     "name": "stdout",
     "output_type": "stream",
     "text": ")"
    },
    {
     "name": "stdout",
     "output_type": "stream",
     "text": ","
    },
    {
     "name": "stdout",
     "output_type": "stream",
     "text": " "
    },
    {
     "name": "stdout",
     "output_type": "stream",
     "text": "("
    },
    {
     "name": "stdout",
     "output_type": "stream",
     "text": "7"
    },
    {
     "name": "stdout",
     "output_type": "stream",
     "text": ","
    },
    {
     "name": "stdout",
     "output_type": "stream",
     "text": ")"
    },
    {
     "name": "stdout",
     "output_type": "stream",
     "text": ","
    },
    {
     "name": "stdout",
     "output_type": "stream",
     "text": " "
    },
    {
     "name": "stdout",
     "output_type": "stream",
     "text": "("
    },
    {
     "name": "stdout",
     "output_type": "stream",
     "text": "17"
    },
    {
     "name": "stdout",
     "output_type": "stream",
     "text": ","
    },
    {
     "name": "stdout",
     "output_type": "stream",
     "text": " "
    },
    {
     "name": "stdout",
     "output_type": "stream",
     "text": "7"
    },
    {
     "name": "stdout",
     "output_type": "stream",
     "text": ")"
    },
    {
     "name": "stdout",
     "output_type": "stream",
     "text": ")"
    },
    {
     "name": "stdout",
     "output_type": "stream",
     "text": "\n"
    },
    {
     "name": "stdout",
     "output_type": "stream",
     "text": "{"
    },
    {
     "name": "stdout",
     "output_type": "stream",
     "text": "\n  "
    },
    {
     "name": "stdout",
     "output_type": "stream",
     "text": "'"
    },
    {
     "name": "stdout",
     "output_type": "stream",
     "text": "strid"
    },
    {
     "name": "stdout",
     "output_type": "stream",
     "text": "'"
    },
    {
     "name": "stdout",
     "output_type": "stream",
     "text": ":"
    },
    {
     "name": "stdout",
     "output_type": "stream",
     "text": " "
    },
    {
     "name": "stdout",
     "output_type": "stream",
     "text": "array([0.42 , 0.512, 0.23 , 0.329, 0.559, 0.335, 0.081])"
    },
    {
     "name": "stdout",
     "output_type": "stream",
     "text": ","
    },
    {
     "name": "stdout",
     "output_type": "stream",
     "text": "\n  "
    },
    {
     "name": "stdout",
     "output_type": "stream",
     "text": "'"
    },
    {
     "name": "stdout",
     "output_type": "stream",
     "text": "detre"
    },
    {
     "name": "stdout",
     "output_type": "stream",
     "text": "'"
    },
    {
     "name": "stdout",
     "output_type": "stream",
     "text": ":"
    },
    {
     "name": "stdout",
     "output_type": "stream",
     "text": " "
    },
    {
     "name": "stdout",
     "output_type": "stream",
     "text": "array([-0.08 ,  0.012, -0.27 , -0.171,  0.059, -0.165, -0.419])"
    },
    {
     "name": "stdout",
     "output_type": "stream",
     "text": ","
    },
    {
     "name": "stdout",
     "output_type": "stream",
     "text": "\n  "
    },
    {
     "name": "stdout",
     "output_type": "stream",
     "text": "'"
    },
    {
     "name": "stdout",
     "output_type": "stream",
     "text": "windo"
    },
    {
     "name": "stdout",
     "output_type": "stream",
     "text": "'"
    },
    {
     "name": "stdout",
     "output_type": "stream",
     "text": ":"
    },
    {
     "name": "stdout",
     "output_type": "stream",
     "text": " "
    },
    {
     "name": "stdout",
     "output_type": "stream",
     "text": "array([-0.000e+00,  1.192e-04, -1.027e-02, -1.441e-02,  8.672e-03, -3.673e-02, -1.293e-01])"
    },
    {
     "name": "stdout",
     "output_type": "stream",
     "text": ","
    },
    {
     "name": "stdout",
     "output_type": "stream",
     "text": "\n  "
    },
    {
     "name": "stdout",
     "output_type": "stream",
     "text": "'"
    },
    {
     "name": "stdout",
     "output_type": "stream",
     "text": "fft  "
    },
    {
     "name": "stdout",
     "output_type": "stream",
     "text": "'"
    },
    {
     "name": "stdout",
     "output_type": "stream",
     "text": ":"
    },
    {
     "name": "stdout",
     "output_type": "stream",
     "text": " "
    },
    {
     "name": "stdout",
     "output_type": "stream",
     "text": "array([ 0.294+0.j   , -0.098-0.606j, -0.727+0.78j ,  0.889-0.649j,  0.251+0.534j, -0.116-0.083j, -0.833-0.479j])"
    },
    {
     "name": "stdout",
     "output_type": "stream",
     "text": ","
    },
    {
     "name": "stdout",
     "output_type": "stream",
     "text": "\n  "
    },
    {
     "name": "stdout",
     "output_type": "stream",
     "text": "'"
    },
    {
     "name": "stdout",
     "output_type": "stream",
     "text": "scale"
    },
    {
     "name": "stdout",
     "output_type": "stream",
     "text": "'"
    },
    {
     "name": "stdout",
     "output_type": "stream",
     "text": ":"
    },
    {
     "name": "stdout",
     "output_type": "stream",
     "text": " "
    },
    {
     "name": "stdout",
     "output_type": "stream",
     "text": "array([ 0.018+0.j   , -0.006-0.038j, -0.045+0.049j,  0.056-0.041j,  0.016+0.033j, -0.007-0.005j, -0.052-0.03j ])"
    },
    {
     "name": "stdout",
     "output_type": "stream",
     "text": ","
    },
    {
     "name": "stdout",
     "output_type": "stream",
     "text": "\n  "
    },
    {
     "name": "stdout",
     "output_type": "stream",
     "text": "'"
    },
    {
     "name": "stdout",
     "output_type": "stream",
     "text": "mode "
    },
    {
     "name": "stdout",
     "output_type": "stream",
     "text": "'"
    },
    {
     "name": "stdout",
     "output_type": "stream",
     "text": ":"
    },
    {
     "name": "stdout",
     "output_type": "stream",
     "text": " "
    },
    {
     "name": "stdout",
     "output_type": "stream",
     "text": "array([0.018, 0.038, 0.067, 0.069, 0.037, 0.009, 0.06 ])"
    },
    {
     "name": "stdout",
     "output_type": "stream",
     "text": ","
    },
    {
     "name": "stdout",
     "output_type": "stream",
     "text": "\n  "
    },
    {
     "name": "stdout",
     "output_type": "stream",
     "text": "'"
    },
    {
     "name": "stdout",
     "output_type": "stream",
     "text": "TEST="
    },
    {
     "name": "stdout",
     "output_type": "stream",
     "text": "'"
    },
    {
     "name": "stdout",
     "output_type": "stream",
     "text": ":"
    },
    {
     "name": "stdout",
     "output_type": "stream",
     "text": " "
    },
    {
     "name": "stdout",
     "output_type": "stream",
     "text": "array([0.018, 0.038, 0.067, 0.069, 0.037, 0.009, 0.06 ])"
    },
    {
     "name": "stdout",
     "output_type": "stream",
     "text": "\n"
    },
    {
     "name": "stdout",
     "output_type": "stream",
     "text": "}"
    },
    {
     "name": "stdout",
     "output_type": "stream",
     "text": "\n"
    },
    {
     "name": "stdout",
     "output_type": "stream",
     "text": "{\"n\": 128, \"nperseg\": 32, \"x\": [0.41984197528307843, 0.5124491748643939, 0.23019772988506038, 0.3290750107232998, 0.5592627137820625, 0.3347391066629919, 0.08103554052589479, 0.513230822493737, 0.9448487760155975, 0.9399872484015727, 0.34308682708350247, 0.4027725389314868, 0.9452845403659282, 0.7685669351723686, 0.5780579975390903, 0.10031089725372211, 0.8744511621816106, 0.10352671743369601, 0.4748592248261658, 0.43846041233676647, 0.07840072782051521, 0.9158618063258561, 0.2384174536492616, 0.9303914056949673, 0.6988676298331289, 0.3022135260448944, 0.5471636706186457, 0.010064540368563857, 0.23177052999258219, 0.7949683428444667, 0.8288000129776132, 0.5304826287533557, 0.6901898366353371, 0.2935412615194266, 0.002390247381978239, 0.467337090054862, 0.9082171999667027, 0.21643370242202797, 0.2540933463127112, 0.48425414225489083, 0.6675411350089319, 0.19135051666325087, 0.5076014962535628, 0.842191683920988, 0.33661586342345695, 0.24717678521351372, 0.7964775513468987, 0.8051593404920043, 0.28572696444639656, 0.293276304375203, 0.6099058861198051, 0.39819496920756337, 0.03691813333287364, 0.418408730861376, 0.26232451418356084, 0.19046885196827767, 0.26691140067270624, 0.25608526509025686, 0.8880863422232286, 0.7714681464234019, 0.7609016113316699, 0.01015575477639341, 0.534329857082615, 0.15415792639433779, 0.9198186167852034, 0.34794792428983246, 0.8575399552210419, 0.09993156772732747, 0.16442815022155066, 0.2578888637903578, 0.06894583389147568, 0.8192642612005077, 0.3343876138009986, 0.5805538225694676, 0.9103813314269679, 0.26924999221501644, 0.5821578264848946, 0.5504241433217779, 0.25356256724087634, 0.1049767105614664, 0.7451671338300482, 0.1716268436298185, 0.8382436370671521, 0.9264110619348246, 0.5650800380918145, 0.4183328226510197, 0.5863305172396127, 0.3712234507773242, 0.47353950857090255, 0.7907373810435826, 0.20542497036807994, 0.2506746311938022, 0.8402833215570229, 0.9773942447012975, 0.3317757984174573, 0.8873733339754238, 0.9793880368201799, 0.595033576838214, 0.19192673434286356, 0.5770821450216044, 0.9066942751284374, 0.09674704432746128, 0.34873884662370036, 0.8250745292821102, 0.6245209000578565, 0.032652639535160954, 0.47468828528077245, 0.6082659791084796, 0.6854532745304097, 0.8141137926628655, 0.13651161738512518, 0.27284757645481483, 0.41993284196332004, 0.987570361148655, 0.5988219033034069, 0.38811761475476725, 0.7609703193898433, 0.570940996321775, 0.033836315797615146, 0.8560002982808498, 0.9764823871924732, 0.7597244139330407, 0.3011634618321334, 0.9548446265961393, 0.763137599032532, 0.18192493126537368, 0.6869689664797353, 0.30887390727316655], \"S\": [[0.018390569610792863, 0.01803067322007693, 0.00624398513840024, 0.028441953233203573, 0.010414350176344657, 0.021780570581507334, 0.007840315219209845], [0.03835855349793606, 0.020754864486630248, 0.0466653866233522, 0.027867495361341605, 0.023563055233062343, 0.045024475373422974, 0.038337695423397405], [0.06662360657276188, 0.021345702890358236, 0.07173110596132859, 0.06525374335743081, 0.03152881821679609, 0.07134253645260812, 0.012485409385732386], [0.06877616936181473, 0.05251424841355525, 0.0455021051241912, 0.020030287326996667, 0.08508899445431144, 0.05776850377263092, 0.0038409223590566114], [0.036898619774870814, 0.08392520189069512, 0.012048253318273158, 0.09490089280307265, 0.07183678885510605, 0.045799284775989685, 0.048523889676954604], [0.008909162261372946, 0.10825266057039865, 0.02597062351203648, 0.1149988971440225, 0.042642077310355304, 0.030073924634573847, 0.09174279788382021], [0.060073773699579, 0.08160939470919334, 0.03074703212728482, 0.07330309127620498, 0.04663699710186818, 0.019549312669990857, 0.09079828296741224], [0.07130175445697687, 0.042866591037231186, 0.02979955900336397, 0.026969407491099932, 0.020669261995948117, 0.01880468983173079, 0.06619170218302566], [0.07949152432370372, 0.04982887825596489, 0.09666162652864242, 0.032133206502103, 0.0040186009778741755, 0.12296451602150203, 0.09029199220881894], [0.061675318384168905, 0.0954415757730813, 0.11751992546197941, 0.02138817409676074, 0.017534633434619327, 0.16449112916950312, 0.08566990549183214], [0.03229630001668943, 0.10121492178986323, 0.07962008954043046, 0.0154783029205868, 0.09653498709286333, 0.08825512189018557, 0.09048813917094566], [0.04888007533990011, 0.05943288642151077, 0.017389929302447638, 0.029386162954842608, 0.11474872828574122, 0.021522606420874148, 0.009190259564754645], [0.08555224449390968, 0.02803143747977851, 0.023051237012852496, 0.048813951943507156, 0.04733333155859929, 0.03523719915287709, 0.047247573067312684], [0.12310408051089851, 0.03900786121633179, 0.030688750070423296, 0.07036727376632844, 0.004145487887060848, 0.024414896559296094, 0.054453579740007606], [0.11452243820812859, 0.014012991967441778, 0.01634952451382313, 0.10976202427705954, 0.05681366036529619, 0.04508689908692291, 0.025847029993887338], [0.06008576766647401, 0.03975568494803747, 0.019896145322535426, 0.12145319259931346, 0.06883583074224726, 0.04083487822421638, 0.047137240017944275], [0.023437846975149966, 0.0320362114430839, 0.007800678310300343, 0.11925973036191427, 0.05606062316073073, 0.013426535544556799, 0.046813128830665365]]}"
    },
    {
     "name": "stdout",
     "output_type": "stream",
     "text": "\n"
    }
   ],
   "source": [
    "# Q: What is scipy.signal.spectrogram doing?\n",
    "n       = 128\n",
    "x       = np.random.rand(n)\n",
    "# x       = np.array(json.loads('''\n",
    "# ...\n",
    "# ''')['x'])\n",
    "nperseg = 32\n",
    "nf      = nperseg // 2 + 1\n",
    "x0      = x[:nperseg]\n",
    "detrend = lambda xs: xs - xs.mean()\n",
    "window  = 'hann'\n",
    "win     = puts(scipy.signal.windows.get_window(puts(window), puts(nperseg)))\n",
    "scale   = np.sqrt(1.0 / win.sum()**2)\n",
    "(f,t,S) = scipy.signal.spectrogram(x, 22050,\n",
    "    window   = window,\n",
    "    nperseg  = nperseg,\n",
    "    noverlap = int(.5 * nperseg),\n",
    "    scaling  = 'spectrum',   # Return units X**2 ('spectrum'), not units X**2/Hz ('density')\n",
    "    mode     = 'magnitude',  # Return |STFT(x)**2|, not STFT(x)**2 (because \"humans can't hear complex phase\")\n",
    ")\n",
    "pp((f.shape, t.shape, S.shape))\n",
    "pp({\n",
    "    'strid': x0[:7],\n",
    "    'detre': detrend(x0)[:7],\n",
    "    'windo': (win * detrend(x0))[:7],\n",
    "    'fft  ': np.fft.rfft(win * detrend(x0))[:7],\n",
    "    'scale': scale * np.fft.rfft(win * detrend(x0))[:7],\n",
    "    'mode ': np.abs(scale * np.fft.rfft(win * detrend(x0)))[:7],\n",
    "    'TEST=': S.T[0][:7],\n",
    "})\n",
    "print(json.dumps(dict(n=n, nperseg=nperseg, x=x.tolist(), S=S.tolist())))  # To copy to .swift notebook"
   ]
  },
  {
   "cell_type": "code",
   "execution_count": null,
   "metadata": {},
   "outputs": [],
   "source": []
  }
 ],
 "metadata": {
  "kernelspec": {
   "display_name": "python",
   "language": "python",
   "name": "python"
  }
 },
 "nbformat": 4,
 "nbformat_minor": 2
}
