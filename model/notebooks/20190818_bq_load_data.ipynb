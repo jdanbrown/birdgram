{
 "cells": [
  {
   "cell_type": "code",
   "execution_count": null,
   "metadata": {
    "time": "4.66s"
   },
   "outputs": [
    {
     "name": "stdout",
     "output_type": "stream",
     "text": "INFO     [15:50:04.654] [63774] 151 logging_/<module>: {logging_yaml: None}"
    },
    {
     "name": "stdout",
     "output_type": "stream",
     "text": "\n"
    }
   ],
   "source": [
    "from notebooks import *"
   ]
  },
  {
   "cell_type": "code",
   "execution_count": null,
   "metadata": {},
   "outputs": [],
   "source": [
    "# Import bqq() / %%bqq\n",
    "#   - HACK Add pydatalab\n",
    "#       - Use local fork to avoid having to deal with upgrades and porting old patches\n",
    "sys.path.insert(1, os.path.expanduser('~/hack/pydatalab'))\n",
    "from potoo.bqq import *\n",
    "%load_ext potoo.sql_magic"
   ]
  },
  {
   "cell_type": "markdown",
   "metadata": {},
   "source": [
    "# Load tables for bq dataset: ebird\n",
    "- Loaded manually, didn't record my steps\n",
    "- TODO Retrace my steps and encode a notebook/script so that it's reproducible"
   ]
  },
  {
   "cell_type": "markdown",
   "metadata": {},
   "source": [
    "# Load tables for bq dataset: xc\n",
    "- Loaded manually, didn't record my steps\n",
    "- TODO Retrace my steps and encode a notebook/script so that it's reproducible"
   ]
  },
  {
   "cell_type": "markdown",
   "metadata": {},
   "source": [
    "# Load tables for bq dataset: metadata"
   ]
  },
  {
   "cell_type": "markdown",
   "metadata": {},
   "source": [
    "## bq table: metadata.species\n",
    "- Run this to dump a .parquet\n",
    "- Load the .parquet into table `metadata.species` (I used the web UI, but cli/api should be equally simple)"
   ]
  },
  {
   "cell_type": "code",
   "execution_count": null,
   "metadata": {},
   "outputs": [
    {
     "data": {
      "text/plain": "(10553, 13)"
     },
     "metadata": {},
     "output_type": "display_data",
     "transient": {}
    },
    {
     "data": {
      "text/html": "<table border=\"1\" class=\"dataframe\">\n  <thead>\n    <tr style=\"text-align: right;\">\n      <th></th>\n      <th>shorthand</th>\n      <th>longhand</th>\n      <th>sci_name</th>\n      <th>com_name</th>\n      <th>species_code</th>\n      <th>taxon_order</th>\n      <th>taxon_id</th>\n      <th>com_name_codes</th>\n      <th>sci_name_codes</th>\n      <th>banding_codes</th>\n      <th>species_group</th>\n      <th>family</th>\n      <th>order</th>\n    </tr>\n  </thead>\n  <tbody>\n    <tr>\n      <th>0</th>\n      <td><div class=\"not-number\">COOS</div></td>\n      <td><div class=\"not-number\">Common Ostrich - COOS</div></td>\n      <td><div class=\"not-number\">Struthio camelus</div></td>\n      <td><div class=\"not-number\">Common Ostrich</div></td>\n      <td><div class=\"not-number\">ostric2</div></td>\n      <td><div class=\"not-number\">3.0</div></td>\n      <td><div class=\"not-number\">TC000002</div></td>\n      <td><div class=\"not-number\">COOS</div></td>\n      <td><div class=\"not-number\">STCA</div></td>\n      <td>NaN</td>\n      <td><div class=\"not-number\">Ostriches</div></td>\n      <td><div class=\"not-number\">Struthionidae (Ostriches)</div></td>\n      <td><div class=\"not-number\">Struthioniformes</div></td>\n    </tr>\n    <tr>\n      <th>1</th>\n      <td><div class=\"not-number\">SOOS</div></td>\n      <td><div class=\"not-number\">Somali Ostrich - SOOS</div></td>\n      <td><div class=\"not-number\">Struthio molybdophanes</div></td>\n      <td><div class=\"not-number\">Somali Ostrich</div></td>\n      <td><div class=\"not-number\">ostric3</div></td>\n      <td><div class=\"not-number\">5.0</div></td>\n      <td><div class=\"not-number\">TC000003</div></td>\n      <td><div class=\"not-number\">SOOS</div></td>\n      <td><div class=\"not-number\">STMO</div></td>\n      <td>NaN</td>\n      <td><div class=\"not-number\">Ostriches</div></td>\n      <td><div class=\"not-number\">Struthionidae (Ostriches)</div></td>\n      <td><div class=\"not-number\">Struthioniformes</div></td>\n    </tr>\n    <tr>\n      <th>2</th>\n      <td><div class=\"not-number\">GRRH</div></td>\n      <td><div class=\"not-number\">Greater Rhea - GRRH</div></td>\n      <td><div class=\"not-number\">Rhea americana</div></td>\n      <td><div class=\"not-number\">Greater Rhea</div></td>\n      <td><div class=\"not-number\">grerhe1</div></td>\n      <td><div class=\"not-number\">7.0</div></td>\n      <td><div class=\"not-number\">TC000004</div></td>\n      <td><div class=\"not-number\">GRRH</div></td>\n      <td><div class=\"not-number\">RHAM</div></td>\n      <td>NaN</td>\n      <td><div class=\"not-number\">Rheas</div></td>\n      <td><div class=\"not-number\">Rheidae (Rheas)</div></td>\n      <td><div class=\"not-number\">Rheiformes</div></td>\n    </tr>\n    <tr>\n      <th>3</th>\n      <td><div class=\"not-number\">LERH</div></td>\n      <td><div class=\"not-number\">Lesser Rhea - LERH</div></td>\n      <td><div class=\"not-number\">Rhea pennata</div></td>\n      <td><div class=\"not-number\">Lesser Rhea</div></td>\n      <td><div class=\"not-number\">lesrhe2</div></td>\n      <td><div class=\"not-number\">13.0</div></td>\n      <td><div class=\"not-number\">TC000005</div></td>\n      <td><div class=\"not-number\">LERH</div></td>\n      <td><div class=\"not-number\">RHPE</div></td>\n      <td>NaN</td>\n      <td><div class=\"not-number\">Rheas</div></td>\n      <td><div class=\"not-number\">Rheidae (Rheas)</div></td>\n      <td><div class=\"not-number\">Rheiformes</div></td>\n    </tr>\n    <tr>\n      <th>4</th>\n      <td><div class=\"not-number\">TBTI</div></td>\n      <td><div class=\"not-number\">Tawny-breasted Tinamou - TBTI</div></td>\n      <td><div class=\"not-number\">Nothocercus julius</div></td>\n      <td><div class=\"not-number\">Tawny-breasted Tinamou</div></td>\n      <td><div class=\"not-number\">tabtin1</div></td>\n      <td><div class=\"not-number\">32.0</div></td>\n      <td><div class=\"not-number\">TC000018</div></td>\n      <td><div class=\"not-number\">TBTI</div></td>\n      <td><div class=\"not-number\">NOJU</div></td>\n      <td>NaN</td>\n      <td><div class=\"not-number\">Tinamous</div></td>\n      <td><div class=\"not-number\">Tinamidae (Tinamous)</div></td>\n      <td><div class=\"not-number\">Tinamiformes</div></td>\n    </tr>\n    <tr>\n      <th>5</th>\n      <td><div class=\"not-number\">HITI</div></td>\n      <td><div class=\"not-number\">Highland Tinamou - HITI</div></td>\n      <td><div class=\"not-number\">Nothocercus bonapartei</div></td>\n      <td><div class=\"not-number\">Highland Tinamou</div></td>\n      <td><div class=\"not-number\">higtin1</div></td>\n      <td><div class=\"not-number\">33.0</div></td>\n      <td><div class=\"not-number\">TC000019</div></td>\n      <td>NaN</td>\n      <td><div class=\"not-number\">NOBO</div></td>\n      <td><div class=\"not-number\">HITI</div></td>\n      <td><div class=\"not-number\">Tinamous</div></td>\n      <td><div class=\"not-number\">Tinamidae (Tinamous)</div></td>\n      <td><div class=\"not-number\">Tinamiformes</div></td>\n    </tr>\n    <tr>\n      <th>6</th>\n      <td><div class=\"not-number\">HOTI</div></td>\n      <td><div class=\"not-number\">Hooded Tinamou - HOTI</div></td>\n      <td><div class=\"not-number\">Nothocercus nigrocapillus</div></td>\n      <td><div class=\"not-number\">Hooded Tinamou</div></td>\n      <td><div class=\"not-number\">hootin1</div></td>\n      <td><div class=\"not-number\">40.0</div></td>\n      <td><div class=\"not-number\">TC000022</div></td>\n      <td><div class=\"not-number\">HOTI</div></td>\n      <td><div class=\"not-number\">NONI</div></td>\n      <td>NaN</td>\n      <td><div class=\"not-number\">Tinamous</div></td>\n      <td><div class=\"not-number\">Tinamidae (Tinamous)</div></td>\n      <td><div class=\"not-number\">Tinamiformes</div></td>\n    </tr>\n    <tr>\n      <th>7</th>\n      <td><div class=\"not-number\">grytin1</div></td>\n      <td><div class=\"not-number\">Gray Tinamou - grytin1</div></td>\n      <td><div class=\"not-number\">Tinamus tao</div></td>\n      <td><div class=\"not-number\">Gray Tinamou</div></td>\n      <td><div class=\"not-number\">grytin1</div></td>\n      <td><div class=\"not-number\">43.0</div></td>\n      <td><div class=\"not-number\">TC000023</div></td>\n      <td><div class=\"not-number\">GRTI</div></td>\n      <td><div class=\"not-number\">TITA</div></td>\n      <td>NaN</td>\n      <td><div class=\"not-number\">Tinamous</div></td>\n      <td><div class=\"not-number\">Tinamidae (Tinamous)</div></td>\n      <td><div class=\"not-number\">Tinamiformes</div></td>\n    </tr>\n    <tr>\n      <th>8</th>\n      <td><div class=\"not-number\">soltin1</div></td>\n      <td><div class=\"not-number\">Solitary Tinamou - soltin1</div></td>\n      <td><div class=\"not-number\">Tinamus solitarius</div></td>\n      <td><div class=\"not-number\">Solitary Tinamou</div></td>\n      <td><div class=\"not-number\">soltin1</div></td>\n      <td><div class=\"not-number\">48.0</div></td>\n      <td><div class=\"not-number\">TC000024</div></td>\n      <td><div class=\"not-number\">SOTI</div></td>\n      <td><div class=\"not-number\">TISO</div></td>\n      <td>NaN</td>\n      <td><div class=\"not-number\">Tinamous</div></td>\n      <td><div class=\"not-number\">Tinamidae (Tinamous)</div></td>\n      <td><div class=\"not-number\">Tinamiformes</div></td>\n    </tr>\n    <tr>\n      <th>9</th>\n      <td><div class=\"not-number\">BLTI</div></td>\n      <td><div class=\"not-number\">Black Tinamou - BLTI</div></td>\n      <td><div class=\"not-number\">Tinamus osgoodi</div></td>\n      <td><div class=\"not-number\">Black Tinamou</div></td>\n      <td><div class=\"not-number\">blatin1</div></td>\n      <td><div class=\"not-number\">49.0</div></td>\n      <td><div class=\"not-number\">TC000025</div></td>\n      <td><div class=\"not-number\">BLTI</div></td>\n      <td><div class=\"not-number\">TIOS</div></td>\n      <td>NaN</td>\n      <td><div class=\"not-number\">Tinamous</div></td>\n      <td><div class=\"not-number\">Tinamidae (Tinamous)</div></td>\n      <td><div class=\"not-number\">Tinamiformes</div></td>\n    </tr>\n  </tbody>\n</table>",
      "text/plain": "  shorthand                       longhand                   sci_name                com_name species_code taxon_order  taxon_id com_name_codes sci_name_codes banding_codes species_group                     family             order\n0      COOS          Common Ostrich - COOS           Struthio camelus          Common Ostrich      ostric2         3.0  TC000002           COOS           STCA           NaN     Ostriches  Struthionidae (Ostriches)  Struthioniformes\n1      SOOS          Somali Ostrich - SOOS     Struthio molybdophanes          Somali Ostrich      ostric3         5.0  TC000003           SOOS           STMO           NaN     Ostriches  Struthionidae (Ostriches)  Struthioniformes\n2      GRRH            Greater Rhea - GRRH             Rhea americana            Greater Rhea      grerhe1         7.0  TC000004           GRRH           RHAM           NaN         Rheas            Rheidae (Rheas)        Rheiformes\n3      LERH             Lesser Rhea - LERH               Rhea pennata             Lesser Rhea      lesrhe2        13.0  TC000005           LERH           RHPE           NaN         Rheas            Rheidae (Rheas)        Rheiformes\n4      TBTI  Tawny-breasted Tinamou - TBTI         Nothocercus julius  Tawny-breasted Tinamou      tabtin1        32.0  TC000018           TBTI           NOJU           NaN      Tinamous       Tinamidae (Tinamous)      Tinamiformes\n5      HITI        Highland Tinamou - HITI     Nothocercus bonapartei        Highland Tinamou      higtin1        33.0  TC000019            NaN           NOBO          HITI      Tinamous       Tinamidae (Tinamous)      Tinamiformes\n6      HOTI          Hooded Tinamou - HOTI  Nothocercus nigrocapillus          Hooded Tinamou      hootin1        40.0  TC000022           HOTI           NONI           NaN      Tinamous       Tinamidae (Tinamous)      Tinamiformes\n7   grytin1         Gray Tinamou - grytin1                Tinamus tao            Gray Tinamou      grytin1        43.0  TC000023           GRTI           TITA           NaN      Tinamous       Tinamidae (Tinamous)      Tinamiformes\n8   soltin1     Solitary Tinamou - soltin1         Tinamus solitarius        Solitary Tinamou      soltin1        48.0  TC000024           SOTI           TISO           NaN      Tinamous       Tinamidae (Tinamous)      Tinamiformes\n9      BLTI           Black Tinamou - BLTI            Tinamus osgoodi           Black Tinamou      blatin1        49.0  TC000025           BLTI           TIOS           NaN      Tinamous       Tinamidae (Tinamous)      Tinamiformes"
     },
     "metadata": {},
     "output_type": "display_data",
     "transient": {}
    }
   ],
   "source": [
    "(metadata.species.df\n",
    "    .pipe(df_inspect, lambda df: (df.shape,))\n",
    "    .pipe(df_inspect, lambda df: df[:10])\n",
    "    .to_parquet('/Users/danb/Desktop/metadata_species.parquet')\n",
    ")"
   ]
  },
  {
   "cell_type": "code",
   "execution_count": null,
   "metadata": {},
   "outputs": [],
   "source": [
    "# TODO Ensure no/few species unmapped species\n",
    "#   - cf. model.metadata.com_names_to_species\n",
    "# (bqq('''\n",
    "#     with ebird_species as (\n",
    "#         select distinct\n",
    "#             common_name,\n",
    "#             category\n",
    "#         # from ebird.obs_sample_001\n",
    "#         from ebird.obs_all_expensive\n",
    "#         where true\n",
    "#             and category in ('species', 'issf', 'form', 'intergrade')\n",
    "#             # and country_code = 'US'\n",
    "#     )\n",
    "#     select\n",
    "#         category,\n",
    "#         common_name,\n",
    "#         com_name,\n",
    "#         shorthand\n",
    "#     from ebird_species e\n",
    "#         full outer join metadata.species s on (e.common_name = s.com_name)\n",
    "#     where true\n",
    "#         and (common_name is null or com_name is null)\n",
    "# ''')\n",
    "#     .pipe(df_inspect, lambda df: (df.shape,))\n",
    "# )"
   ]
  },
  {
   "cell_type": "code",
   "execution_count": null,
   "metadata": {},
   "outputs": [],
   "source": []
  }
 ],
 "metadata": {
  "kernelspec": {
   "display_name": "python",
   "language": "python",
   "name": "python"
  }
 },
 "nbformat": 4,
 "nbformat_minor": 2
}
