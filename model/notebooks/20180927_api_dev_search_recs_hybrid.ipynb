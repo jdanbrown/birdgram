{
 "cells": [
  {
   "cell_type": "markdown",
   "metadata": {},
   "source": [
    "# Problem (from notebooks/api_search_recs_pkl_parquet_sqlite)\n",
    "- search_recs write/read with either .sqlite/.parquet is fast\n",
    "- But I forgot to account for the _~20s_ it takes to convert back _to_ search_recs from the serialized df"
   ]
  },
  {
   "cell_type": "markdown",
   "metadata": {},
   "source": [
    "# Solution: save/load separate files\n",
    "- feats.npy for heavy np.array cols + non_feats.parquet for normal df cols\n",
    "- A little more complexity to manage, but an ok tradeoff\n",
    "- Conclusion: ~1s read, ~3s write"
   ]
  },
  {
   "cell_type": "code",
   "execution_count": null,
   "metadata": {
    "time": "2.171s"
   },
   "outputs": [
    {
     "name": "stdout",
     "output_type": "stream",
     "text": "INFO     [18:18:15.112] [ 2144]  52 logging_/init_logging: {logging_yaml: None}"
    },
    {
     "name": "stdout",
     "output_type": "stream",
     "text": "\n"
    },
    {
     "name": "stdout",
     "output_type": "stream",
     "text": "INFO     [18:18:15.494] [ 2144]  32 api.server_globals/init"
    },
    {
     "name": "stdout",
     "output_type": "stream",
     "text": "\n"
    },
    {
     "name": "stdout",
     "output_type": "stream",
     "text": "DEBUG    [18:18:15.500] [ 2144]  75 api.server_globals/load: load_search..."
    },
    {
     "name": "stdout",
     "output_type": "stream",
     "text": "\n"
    },
    {
     "name": "stdout",
     "output_type": "stream",
     "text": "INFO     [18:18:15.757] [ 2144]  79 api.server_globals/load: load_search (took 0.252s)"
    },
    {
     "name": "stdout",
     "output_type": "stream",
     "text": "\n"
    },
    {
     "name": "stdout",
     "output_type": "stream",
     "text": "DEBUG    [18:18:15.764] [ 2144]  75 api.server_globals/load: load_xc_meta..."
    },
    {
     "name": "stdout",
     "output_type": "stream",
     "text": "\n"
    },
    {
     "name": "stdout",
     "output_type": "stream",
     "text": "INFO     [18:18:16.061] [ 2144]  79 api.server_globals/load: load_xc_meta (took 0.292s)"
    },
    {
     "name": "stdout",
     "output_type": "stream",
     "text": "\n"
    },
    {
     "name": "stdout",
     "output_type": "stream",
     "text": "DEBUG    [18:18:16.067] [ 2144]  75 api.server_globals/load: load_feat_info..."
    },
    {
     "name": "stdout",
     "output_type": "stream",
     "text": "\n"
    },
    {
     "name": "stdout",
     "output_type": "stream",
     "text": "INFO     [18:18:16.075] [ 2144] 110 api.server_globals/load_feat_info"
    },
    {
     "name": "stdout",
     "output_type": "stream",
     "text": "\n"
    },
    {
     "name": "stdout",
     "output_type": "stream",
     "text": "INFO     [18:18:16.081] [ 2144]  79 api.server_globals/load: load_feat_info (took 0.006s)"
    },
    {
     "name": "stdout",
     "output_type": "stream",
     "text": "\n"
    },
    {
     "name": "stdout",
     "output_type": "stream",
     "text": "WARNING  [18:18:16.088] [ 2144]  73 api.server_globals/load: load_search_recs [skipped]"
    },
    {
     "name": "stdout",
     "output_type": "stream",
     "text": "\n"
    },
    {
     "name": "stdout",
     "output_type": "stream",
     "text": "INFO     [18:18:16.094] [ 2144]  34 api.server_globals/init: done"
    },
    {
     "name": "stdout",
     "output_type": "stream",
     "text": "\n"
    }
   ],
   "source": [
    "from notebooks import *\n",
    "sg.init(None, skip=[sg_load.load_search_recs])\n",
    "get_search_recs.cache_clear()"
   ]
  },
  {
   "cell_type": "code",
   "execution_count": null,
   "metadata": {
    "time": "4.126s"
   },
   "outputs": [
    {
     "name": "stdout",
     "output_type": "stream",
     "text": "\n"
    },
    {
     "name": "stdout",
     "output_type": "stream",
     "text": "search_recs(**{'cache_type': 'hybrid', 'refresh': True})"
    },
    {
     "name": "stdout",
     "output_type": "stream",
     "text": "\n"
    },
    {
     "name": "stdout",
     "output_type": "stream",
     "text": "INFO     [18:18:16.252] [ 2144] 305 api.recs/get_search_recs"
    },
    {
     "name": "stdout",
     "output_type": "stream",
     "text": "\n"
    },
    {
     "name": "stdout",
     "output_type": "stream",
     "text": "INFO     [18:18:16.265] [ 2144]  61 payloads/df_cache_hybrid: Miss: payloads/search_recs-version[0],limit[10],audio_s[10],scale[1],countries_k[na],com_names_k[ca],num_recs[None]-84c26f9"
    },
    {
     "name": "stdout",
     "output_type": "stream",
     "text": "\n"
    },
    {
     "name": "stderr",
     "output_type": "stream",
     "text": "\rdf_cache_hybrid:compute[search_recs]:   0%|                                                      | 0/1 [00:00<?, ?it/s]"
    },
    {
     "name": "stdout",
     "output_type": "stream",
     "text": "INFO     [18:18:16.274] [ 2144] 362 api.recs/_compute_search_recs: {len(sg.xc_meta): 35233, countries_k: na, com_names_k: ca, num_recs: null}"
    },
    {
     "name": "stdout",
     "output_type": "stream",
     "text": "\n"
    },
    {
     "name": "stdout",
     "output_type": "stream",
     "text": "\rf_preds: ["
    },
    {
     "name": "stdout",
     "output_type": "stream",
     "text": "                                                                                        "
    },
    {
     "name": "stdout",
     "output_type": "stream",
     "text": "] |   0% (10) |  0.0s"
    },
    {
     "name": "stdout",
     "output_type": "stream",
     "text": "\rf_preds: ["
    },
    {
     "name": "stdout",
     "output_type": "stream",
     "text": "                                                                                        "
    },
    {
     "name": "stdout",
     "output_type": "stream",
     "text": "] |   0% (10) |  0.1s"
    },
    {
     "name": "stdout",
     "output_type": "stream",
     "text": "\rf_preds: ["
    },
    {
     "name": "stdout",
     "output_type": "stream",
     "text": "                                                                                        "
    },
    {
     "name": "stdout",
     "output_type": "stream",
     "text": "] |   0% (10) |  0.3s"
    },
    {
     "name": "stdout",
     "output_type": "stream",
     "text": "\rf_preds: ["
    },
    {
     "name": "stdout",
     "output_type": "stream",
     "text": "########################################################################################"
    },
    {
     "name": "stdout",
     "output_type": "stream",
     "text": "] | 100% (10) |  0.4s"
    },
    {
     "name": "stdout",
     "output_type": "stream",
     "text": "\n"
    },
    {
     "name": "stdout",
     "output_type": "stream",
     "text": "INFO     [18:18:18.229] [ 2144] 231 load/audio: {len(recs): 10}"
    },
    {
     "name": "stdout",
     "output_type": "stream",
     "text": "\n"
    },
    {
     "name": "stdout",
     "output_type": "stream",
     "text": "\raudio: ["
    },
    {
     "name": "stdout",
     "output_type": "stream",
     "text": "                                                                                          "
    },
    {
     "name": "stdout",
     "output_type": "stream",
     "text": "] |   0% (10) |  0.0s"
    },
    {
     "name": "stdout",
     "output_type": "stream",
     "text": "INFO     [18:18:18.248] [ 2144] 536 load/read_audio: Read: cache/audio/xc/data/GHOW/417557/audio.mp3.resample(22050,1,16).enc(wav).slice(0,10000).spectro_denoise().enc(mp4,libfdk_aac,32k)"
    },
    {
     "name": "stdout",
     "output_type": "stream",
     "text": "\n"
    },
    {
     "name": "stdout",
     "output_type": "stream",
     "text": "INFO     [18:18:18.250] [ 2144] 536 load/read_audio: Read: cache/audio/xc/data/BUSH/417549/audio.mp3.resample(22050,1,16).enc(wav).slice(0,10000).spectro_denoise().enc(mp4,libfdk_aac,32k)"
    },
    {
     "name": "stdout",
     "output_type": "stream",
     "text": "\n"
    },
    {
     "name": "stdout",
     "output_type": "stream",
     "text": "INFO     [18:18:18.250] [ 2144] 536 load/read_audio: Read: cache/audio/xc/data/TOSO/417610/audio.mp3.resample(22050,1,16).enc(wav).slice(0,10000).spectro_denoise().enc(mp4,libfdk_aac,32k)"
    },
    {
     "name": "stdout",
     "output_type": "stream",
     "text": "\n"
    },
    {
     "name": "stdout",
     "output_type": "stream",
     "text": "INFO     [18:18:18.253] [ 2144] 536 load/read_audio: Read: cache/audio/xc/data/BTYW/417728/audio.mp3.resample(22050,1,16).enc(wav).slice(0,10000).spectro_denoise().enc(mp4,libfdk_aac,32k)"
    },
    {
     "name": "stdout",
     "output_type": "stream",
     "text": "\n"
    },
    {
     "name": "stdout",
     "output_type": "stream",
     "text": "INFO     [18:18:18.252] [ 2144] 536 load/read_audio: Read: cache/audio/xc/data/SWTH/417559/audio.mp3.resample(22050,1,16).enc(wav).slice(0,10000).spectro_denoise().enc(mp4,libfdk_aac,32k)"
    },
    {
     "name": "stdout",
     "output_type": "stream",
     "text": "\n"
    },
    {
     "name": "stdout",
     "output_type": "stream",
     "text": "INFO     [18:18:18.255] [ 2144] 536 load/read_audio: Read: cache/audio/xc/data/GTGR/417621/audio.mp3.resample(22050,1,16).enc(wav).slice(0,10000).spectro_denoise().enc(mp4,libfdk_aac,32k)"
    },
    {
     "name": "stdout",
     "output_type": "stream",
     "text": "\n"
    },
    {
     "name": "stdout",
     "output_type": "stream",
     "text": "INFO     [18:18:18.254] [ 2144] 536 load/read_audio: Read: cache/audio/xc/data/BHCO/417729/audio.mp3.resample(22050,1,16).enc(wav).slice(0,10000).spectro_denoise().enc(mp4,libfdk_aac,32k)"
    },
    {
     "name": "stdout",
     "output_type": "stream",
     "text": "\n"
    },
    {
     "name": "stdout",
     "output_type": "stream",
     "text": "INFO     [18:18:18.260] [ 2144] 536 load/read_audio: Read: cache/audio/xc/data/GTGR/417620/audio.mp3.resample(22050,1,16).enc(wav).slice(0,10000).spectro_denoise().enc(mp4,libfdk_aac,32k)"
    },
    {
     "name": "stdout",
     "output_type": "stream",
     "text": "\n"
    },
    {
     "name": "stdout",
     "output_type": "stream",
     "text": "\raudio: ["
    },
    {
     "name": "stdout",
     "output_type": "stream",
     "text": "                                                                                          "
    },
    {
     "name": "stdout",
     "output_type": "stream",
     "text": "] |   0% (10) |  0.1s"
    },
    {
     "name": "stdout",
     "output_type": "stream",
     "text": "\raudio: ["
    },
    {
     "name": "stdout",
     "output_type": "stream",
     "text": "                                                                                          "
    },
    {
     "name": "stdout",
     "output_type": "stream",
     "text": "] |   0% (10) |  0.3s"
    },
    {
     "name": "stdout",
     "output_type": "stream",
     "text": "INFO     [18:18:18.540] [ 2144] 536 load/read_audio: Read: cache/audio/xc/data/HOFI/417550/audio.mp3.resample(22050,1,16).enc(wav).slice(0,10000).spectro_denoise().enc(mp4,libfdk_aac,32k)"
    },
    {
     "name": "stdout",
     "output_type": "stream",
     "text": "\n"
    },
    {
     "name": "stdout",
     "output_type": "stream",
     "text": "INFO     [18:18:18.595] [ 2144] 536 load/read_audio: Read: cache/audio/xc/data/HOSP/417551/audio.mp3.resample(22050,1,16).enc(wav).slice(0,10000).spectro_denoise().enc(mp4,libfdk_aac,32k)"
    },
    {
     "name": "stdout",
     "output_type": "stream",
     "text": "\n"
    },
    {
     "name": "stdout",
     "output_type": "stream",
     "text": "\raudio: ["
    },
    {
     "name": "stdout",
     "output_type": "stream",
     "text": "####################################                                                      "
    },
    {
     "name": "stdout",
     "output_type": "stream",
     "text": "] |  40% (10) |  0.4s"
    },
    {
     "name": "stdout",
     "output_type": "stream",
     "text": "\raudio: ["
    },
    {
     "name": "stdout",
     "output_type": "stream",
     "text": "##########################################################################################"
    },
    {
     "name": "stdout",
     "output_type": "stream",
     "text": "] | 100% (10) |  0.5s"
    },
    {
     "name": "stdout",
     "output_type": "stream",
     "text": "\n"
    },
    {
     "name": "stdout",
     "output_type": "stream",
     "text": "\rspectro: ["
    },
    {
     "name": "stdout",
     "output_type": "stream",
     "text": "                                                                                        "
    },
    {
     "name": "stdout",
     "output_type": "stream",
     "text": "] |   0% (10) |  0.0s"
    },
    {
     "name": "stdout",
     "output_type": "stream",
     "text": "\rspectro: ["
    },
    {
     "name": "stdout",
     "output_type": "stream",
     "text": "########################################################################################"
    },
    {
     "name": "stdout",
     "output_type": "stream",
     "text": "] | 100% (10) |  0.1s"
    },
    {
     "name": "stdout",
     "output_type": "stream",
     "text": "\n"
    },
    {
     "name": "stdout",
     "output_type": "stream",
     "text": "\rplot_slice: ["
    },
    {
     "name": "stdout",
     "output_type": "stream",
     "text": "                                                                                     "
    },
    {
     "name": "stdout",
     "output_type": "stream",
     "text": "] |   0% (10) |  0.0s"
    },
    {
     "name": "stdout",
     "output_type": "stream",
     "text": "\rplot_slice: ["
    },
    {
     "name": "stdout",
     "output_type": "stream",
     "text": "#####################################################################################"
    },
    {
     "name": "stdout",
     "output_type": "stream",
     "text": "] | 100% (10) |  0.1s"
    },
    {
     "name": "stdout",
     "output_type": "stream",
     "text": "\n"
    },
    {
     "name": "stderr",
     "output_type": "stream",
     "text": "\rdf_cache_hybrid:compute[search_recs]: 100%|██████████████████████████████████████████████| 1/1 [00:02<00:00,  2.85s/it]"
    },
    {
     "name": "stderr",
     "output_type": "stream",
     "text": "\n"
    },
    {
     "name": "stdout",
     "output_type": "stream",
     "text": "INFO     [18:18:19.144] [ 2144]  79 payloads/df_cache_hybrid: Miss: Inferred feat_cols['feat', 'f_preds']"
    },
    {
     "name": "stdout",
     "output_type": "stream",
     "text": "\n"
    },
    {
     "name": "stdout",
     "output_type": "stream",
     "text": "INFO     [18:18:19.595] [ 2144]  87 payloads/df_cache_hybrid: Miss: Wrote non_feats.parquet (1.3 MB)"
    },
    {
     "name": "stdout",
     "output_type": "stream",
     "text": "\n"
    },
    {
     "name": "stdout",
     "output_type": "stream",
     "text": "INFO     [18:18:19.606] [ 2144]  94 payloads/df_cache_hybrid: Miss: Wrote feat-feat.npy: float32 (60.1 kB)"
    },
    {
     "name": "stdout",
     "output_type": "stream",
     "text": "\n"
    },
    {
     "name": "stdout",
     "output_type": "stream",
     "text": "INFO     [18:18:19.614] [ 2144]  94 payloads/df_cache_hybrid: Miss: Wrote feat-f_preds.npy: float32 (13.4 kB)"
    },
    {
     "name": "stdout",
     "output_type": "stream",
     "text": "\n"
    },
    {
     "name": "stdout",
     "output_type": "stream",
     "text": "INFO     [18:18:19.621] [ 2144] 114 payloads/df_cache_hybrid: Miss: Done (took: 0.493s)"
    },
    {
     "name": "stdout",
     "output_type": "stream",
     "text": "\n"
    },
    {
     "data": {
      "text/html": "<table border=\"1\" class=\"dataframe\">\n  <thead>\n    <tr style=\"text-align: right;\">\n      <th></th>\n      <th>size</th>\n      <th>type</th>\n      <th>0</th>\n    </tr>\n  </thead>\n  <tbody>\n    <tr>\n      <th>xc_id</th>\n      <td>36</td>\n      <td><div class=\"not-number\">int</div></td>\n      <td>417610</td>\n    </tr>\n    <tr>\n      <th>feat</th>\n      <td>6104</td>\n      <td><div class=\"not-number\">ndarray</div></td>\n      <td><div class=\"not-number\">[ 6.140e-02 -2.948e-02  1.953e-02 -3.798e-02  2.723e-02 -2.374e-03  5.391e-02 -5.180e-02  1.074e-01 -2.686e-02\n -1.881e-01  9.991e-02 -1.477e-02 -7.756e-02  9.021e-02 -1.45...</td>\n    </tr>\n    <tr>\n      <th>f_preds</th>\n      <td>104</td>\n      <td><div class=\"not-number\">ndarray</div></td>\n      <td><div class=\"not-number\">[2.549e-03 1.458e-03 1.498e-04 1.324e-03 6.637e-04 2.818e-03 3.106e-03 1.472e-03 2.511e-03 4.366e-03 3.564e-04\n 9.183e-04 5.002e-03 9.269e-03 4.268e-03 2.612e-03 3.691e-04 ...</td>\n    </tr>\n    <tr>\n      <th>background</th>\n      <td>104</td>\n      <td><div class=\"not-number\">list</div></td>\n      <td><div class=\"not-number\">['Chipping Sparrow (Spizella passerina)', 'Black-backed Woodpecker (Picoides arcticus)', \"Audubon's Warbler (Setophaga auduboni)\", 'Hermit Warbler (Setophaga occidentalis)'...</td>\n    </tr>\n    <tr>\n      <th>background_species</th>\n      <td>80</td>\n      <td><div class=\"not-number\">list</div></td>\n      <td><div class=\"not-number\">['CHSP', 'BBWO', \"Audubon's Warbler\", 'HEWA']</div></td>\n    </tr>\n  </tbody>\n</table>",
      "text/plain": "                    size     type                                                                                                                                                                                                        0\nxc_id                 36      int                                                                                                                                                                                                   417610\nfeat                6104  ndarray  [0.061403506, -0.029481066, 0.01952801, -0.037981223, 0.027227003, -0.0023738123, 0.05391393, -0.051803716, 0.10741602, -0.026860315, -0.18813689, 0.09990807, -0.014769095, -0.077562384, 0.0902056...\nf_preds              104  ndarray  [0.0025490976, 0.0014581785, 0.00014983733, 0.0013239175, 0.00066372735, 0.0028184745, 0.0031057363, 0.0014720223, 0.0025107, 0.0043656128, 0.00035637402, 0.00091833324, 0.005002325, 0.009269086, ...\nbackground           104     list                                    [Chipping Sparrow (Spizella passerina), Black-backed Woodpecker (Picoides arcticus), Audubon's Warbler (Setophaga auduboni), Hermit Warbler (Setophaga occidentalis)]\nbackground_species    80     list                                                                                                                                                                    [CHSP, BBWO, Audubon's Warbler, HEWA]"
     },
     "metadata": {},
     "output_type": "display_data",
     "transient": {}
    },
    {
     "name": "stdout",
     "output_type": "stream",
     "text": "\n"
    },
    {
     "name": "stdout",
     "output_type": "stream",
     "text": "search_recs(**{'cache_type': 'hybrid'})"
    },
    {
     "name": "stdout",
     "output_type": "stream",
     "text": "\n"
    },
    {
     "name": "stdout",
     "output_type": "stream",
     "text": "INFO     [18:18:19.660] [ 2144] 305 api.recs/get_search_recs"
    },
    {
     "name": "stdout",
     "output_type": "stream",
     "text": "\n"
    },
    {
     "name": "stdout",
     "output_type": "stream",
     "text": "INFO     [18:18:19.672] [ 2144] 119 payloads/df_cache_hybrid: Hit: payloads/search_recs-version[0],limit[10],audio_s[10],scale[1],countries_k[na],com_names_k[ca],num_recs[None]-84c26f9"
    },
    {
     "name": "stdout",
     "output_type": "stream",
     "text": "\n"
    },
    {
     "name": "stdout",
     "output_type": "stream",
     "text": "INFO     [18:18:20.004] [ 2144] 137 payloads/df_cache_hybrid: Hit: Read non_feats.parquet (1.3 MB)"
    },
    {
     "name": "stdout",
     "output_type": "stream",
     "text": "\n"
    },
    {
     "name": "stdout",
     "output_type": "stream",
     "text": "INFO     [18:18:20.014] [ 2144] 144 payloads/df_cache_hybrid: Hit: Read feat-feat.npy: float32 (60.1 kB)"
    },
    {
     "name": "stdout",
     "output_type": "stream",
     "text": "\n"
    },
    {
     "name": "stdout",
     "output_type": "stream",
     "text": "INFO     [18:18:20.020] [ 2144] 144 payloads/df_cache_hybrid: Hit: Read feat-f_preds.npy: float32 (13.4 kB)"
    },
    {
     "name": "stdout",
     "output_type": "stream",
     "text": "\n"
    },
    {
     "name": "stdout",
     "output_type": "stream",
     "text": "INFO     [18:18:20.026] [ 2144] 148 payloads/df_cache_hybrid: Hit: Join non_feats + feats"
    },
    {
     "name": "stdout",
     "output_type": "stream",
     "text": "\n"
    },
    {
     "name": "stdout",
     "output_type": "stream",
     "text": "INFO     [18:18:20.049] [ 2144] 162 payloads/df_cache_hybrid: Hit: Done (took: 0.370s)"
    },
    {
     "name": "stdout",
     "output_type": "stream",
     "text": "\n"
    },
    {
     "data": {
      "text/html": "<table border=\"1\" class=\"dataframe\">\n  <thead>\n    <tr style=\"text-align: right;\">\n      <th></th>\n      <th>size</th>\n      <th>type</th>\n      <th>0</th>\n    </tr>\n  </thead>\n  <tbody>\n    <tr>\n      <th>xc_id</th>\n      <td>36</td>\n      <td><div class=\"not-number\">int</div></td>\n      <td>417610</td>\n    </tr>\n    <tr>\n      <th>feat</th>\n      <td>104</td>\n      <td><div class=\"not-number\">ndarray</div></td>\n      <td><div class=\"not-number\">[ 6.140e-02 -2.948e-02  1.953e-02 -3.798e-02  2.723e-02 -2.374e-03  5.391e-02 -5.180e-02  1.074e-01 -2.686e-02\n -1.881e-01  9.991e-02 -1.477e-02 -7.756e-02  9.021e-02 -1.45...</td>\n    </tr>\n    <tr>\n      <th>f_preds</th>\n      <td>104</td>\n      <td><div class=\"not-number\">ndarray</div></td>\n      <td><div class=\"not-number\">[2.549e-03 1.458e-03 1.498e-04 1.324e-03 6.637e-04 2.818e-03 3.106e-03 1.472e-03 2.511e-03 4.366e-03 3.564e-04\n 9.183e-04 5.002e-03 9.269e-03 4.268e-03 2.612e-03 3.691e-04 ...</td>\n    </tr>\n    <tr>\n      <th>background</th>\n      <td>80</td>\n      <td><div class=\"not-number\">list</div></td>\n      <td><div class=\"not-number\">['Chipping Sparrow (Spizella passerina)', 'Black-backed Woodpecker (Picoides arcticus)', \"Audubon's Warbler (Setophaga auduboni)\", 'Hermit Warbler (Setophaga occidentalis)'...</td>\n    </tr>\n    <tr>\n      <th>background_species</th>\n      <td>80</td>\n      <td><div class=\"not-number\">list</div></td>\n      <td><div class=\"not-number\">['CHSP', 'BBWO', \"Audubon's Warbler\", 'HEWA']</div></td>\n    </tr>\n  </tbody>\n</table>",
      "text/plain": "                    size     type                                                                                                                                                                                                        0\nxc_id                 36      int                                                                                                                                                                                                   417610\nfeat                 104  ndarray  [0.061403506, -0.029481066, 0.01952801, -0.037981223, 0.027227003, -0.0023738123, 0.05391393, -0.051803716, 0.10741602, -0.026860315, -0.18813689, 0.09990807, -0.014769095, -0.077562384, 0.0902056...\nf_preds              104  ndarray  [0.0025490976, 0.0014581785, 0.00014983733, 0.0013239175, 0.00066372735, 0.0028184745, 0.0031057363, 0.0014720223, 0.0025107, 0.0043656128, 0.00035637402, 0.00091833324, 0.005002325, 0.009269086, ...\nbackground            80     list                                    [Chipping Sparrow (Spizella passerina), Black-backed Woodpecker (Picoides arcticus), Audubon's Warbler (Setophaga auduboni), Hermit Warbler (Setophaga occidentalis)]\nbackground_species    80     list                                                                                                                                                                    [CHSP, BBWO, Audubon's Warbler, HEWA]"
     },
     "metadata": {},
     "output_type": "display_data",
     "transient": {}
    }
   ],
   "source": [
    "kwargss = [\n",
    "    dict(cache_type='hybrid', refresh=True),  # Simulate cache miss\n",
    "    dict(cache_type='hybrid'),                # Simulate cache hit\n",
    "]\n",
    "search_recss = []\n",
    "for kwargs in kwargss:\n",
    "    print()\n",
    "    print(f'search_recs(**{kwargs})')\n",
    "    get_search_recs.cache_clear()\n",
    "    search_recs = get_search_recs(**kwargs)\n",
    "    search_recss.append(search_recs)\n",
    "    display(search_recs\n",
    "        [['xc_id', 'feat', 'f_preds', 'background', 'background_species']]\n",
    "        [2:3].reset_index(drop=True).T\n",
    "        .pipe(df_assign_first,\n",
    "            size=lambda df: df.T.memory_usage(deep=True),\n",
    "            type=lambda df: df[0].map(lambda x: type(x).__name__),\n",
    "        )\n",
    "    )"
   ]
  },
  {
   "cell_type": "code",
   "execution_count": null,
   "metadata": {},
   "outputs": [],
   "source": [
    "# TODO Turn this into unit tests\n",
    "#   - Should roundtrip, should preserve category dtypes, should fail if index present\n",
    "[a, b] = search_recss\n",
    "pd.testing.assert_frame_equal(a, b, check_column_type=True,\n",
    "    check_index_type=False,  # Allow Int64Index vs. RangeIndex\n",
    ")"
   ]
  },
  {
   "cell_type": "code",
   "execution_count": null,
   "metadata": {},
   "outputs": [],
   "source": []
  }
 ],
 "metadata": {
  "kernelspec": {
   "display_name": "bubo-features (PYTHONSTARTUP)",
   "language": "python",
   "name": "bubo-features (PYTHONSTARTUP)"
  }
 },
 "nbformat": 4,
 "nbformat_minor": 2
}
