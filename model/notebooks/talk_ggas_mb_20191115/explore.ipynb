{
 "cells": [
  {
   "cell_type": "code",
   "execution_count": null,
   "metadata": {
    "time": "27.492s"
   },
   "outputs": [],
   "source": [
    "from notebooks.talk_ggas_mb_20191115.shared import *"
   ]
  },
  {
   "cell_type": "code",
   "execution_count": null,
   "metadata": {},
   "outputs": [],
   "source": [
    "# All the damn wraa calls\n",
    "#   - To search for examples\n",
    "(search_recs\n",
    "    .pipe(df_inspect, lambda df: (df.shape,))\n",
    "    # Filter\n",
    "    [lambda df: reduce(lambda x, y: x & y, [\n",
    "        df.species == 'GGSH',\n",
    "    ])]\n",
    "    .pipe(df_inspect, lambda df: (df.shape,))\n",
    "    # Sort\n",
    "    .sample(frac=1, random_state=0)\n",
    "    # View\n",
    "    .pipe(talk_recs_show,\n",
    "        # scale=3,\n",
    "    )\n",
    "    [:250]\n",
    ")"
   ]
  },
  {
   "cell_type": "code",
   "execution_count": null,
   "metadata": {},
   "outputs": [],
   "source": [
    "# BEWR HOWR PAWR\n",
    "# BGGN\n",
    "# CATH\n",
    "# NOMO\n",
    "# LEGO\n",
    "# BRCR\n",
    "# RBNU WBNU PYNU\n",
    "# OATI CBCH\n",
    "# HUVI WAVI CAVI\n",
    "# WEKI\n",
    "# BLPH SAPH WEWP OSFL ATFL PSFL\n",
    "# RBSA\n",
    "# HAWO DOWO NUWO ACWO PIWO NOFL\n",
    "# RTHA(age) RSHA COHA SSHA AMKE MERL\n",
    "# COLO"
   ]
  },
  {
   "cell_type": "code",
   "execution_count": null,
   "metadata": {},
   "outputs": [],
   "source": [
    "# WCSP\n",
    "#   - Around bay area?\n",
    "(search_recs\n",
    "    .pipe(df_inspect, lambda df: (df.shape,))\n",
    "    # Filter\n",
    "    [lambda df: reduce(lambda x, y: x & y, [\n",
    "        df.species == 'WCSP',\n",
    "        df.state.str.lower().str.match(r'.*\\b(ca|california)\\b.*'),\n",
    "    ])]\n",
    "    .pipe(df_inspect, lambda df: (df.shape,))\n",
    "    # Sort\n",
    "    .sort_values(['subspecies', 'lat'], ascending=[True, False])\n",
    "    # .sort_values(['lat'], ascending=False)\n",
    "    # .sort_values(['lng'], ascending=True)\n",
    "    # View\n",
    "    .pipe(talk_recs_show,\n",
    "        # scale=3,\n",
    "    )\n",
    "    [:500]\n",
    ")"
   ]
  },
  {
   "cell_type": "code",
   "execution_count": null,
   "metadata": {
    "time": "1.812s"
   },
   "outputs": [],
   "source": [
    "# SOSP\n",
    "#   - Don't know what to do with this one\n",
    "#   - By subspecies?\n",
    "(search_recs\n",
    "    .pipe(df_inspect, lambda df: (df.shape,))\n",
    "    # Filter\n",
    "    [lambda df: reduce(lambda x, y: x & y, [\n",
    "        df.species == 'SOSP',\n",
    "    ])]\n",
    "    .pipe(df_inspect, lambda df: (df.shape,))\n",
    "    # Sort\n",
    "    [lambda df: ~df.subspecies.isin([''])]\n",
    "    .sample(100, random_state=0)\n",
    "    .sort_values(['subspecies'], ascending=[True])\n",
    "    # View\n",
    "    .pipe(talk_recs_show,\n",
    "        # scale=3,\n",
    "    )\n",
    "    [:100]\n",
    ")"
   ]
  },
  {
   "cell_type": "code",
   "execution_count": null,
   "metadata": {
    "time": "1.558s"
   },
   "outputs": [],
   "source": [
    "# BEWR\n",
    "#   - Don't know what to do with this one\n",
    "#   - Around US?\n",
    "#   - Across individuals?\n",
    "(search_recs\n",
    "    .pipe(df_inspect, lambda df: (df.shape,))\n",
    "    # Filter\n",
    "    [lambda df: reduce(lambda x, y: x & y, [\n",
    "        df.species == 'BEWR',\n",
    "    ])]\n",
    "    .pipe(df_inspect, lambda df: (df.shape,))\n",
    "    # Sort\n",
    "    .sample(100, random_state=0)\n",
    "    .sort_values(['lng'], ascending=[True])\n",
    "    # View\n",
    "    .pipe(talk_recs_show,\n",
    "        # scale=3,\n",
    "    )\n",
    "    [:100]\n",
    ")"
   ]
  },
  {
   "cell_type": "markdown",
   "metadata": {},
   "source": [
    "# Parts of the talk I cut"
   ]
  },
  {
   "cell_type": "markdown",
   "metadata": {
    "slideshow": {
     "slide_type": "slide"
    }
   },
   "source": [
    "# By age\n",
    "- RTHA\n",
    "    - [Pie19] p205\n",
    "        - Squeal: \"Given by immature birds in their first summer and fall... May transition gradually into adult Scream\n",
    "          over course of first fall and winter; more study needed.\"\n",
    "    - Rec notes\n",
    "        - RTHA/187482 - squeal (juv) - clean\n",
    "        - RTHA/139200 - squeal (juv) - messy\n",
    "        - RTHA/65409  - scream (adult) - clean\n",
    "        - RTHA/173877 - transitional squeal/scream [good]\n",
    "        - RTHA/173880 - transitional squeal/scream [good, but too quiet]"
   ]
  },
  {
   "cell_type": "code",
   "execution_count": null,
   "metadata": {},
   "outputs": [],
   "source": [
    "(search_recs\n",
    "    .pipe(df_inspect, lambda df: (df.shape,))\n",
    "    # Filter\n",
    "    [lambda df: reduce(lambda x, y: x & y, [\n",
    "        df.species == 'RTHA',\n",
    "        df.xc_id.isin([187482, 139200, 65409, 173877, 173880]),\n",
    "    ])]\n",
    "    .pipe(df_inspect, lambda df: (df.shape,))\n",
    "    # Sort\n",
    "    # .sample(frac=1, random_state=0)\n",
    "    # [lambda df: ~df.subspecies.isin([''])].sort_values(['subspecies'], ascending=[True])\n",
    "    # .sort_values('month_day')\n",
    "    # View\n",
    "    .pipe(talk_recs_show,\n",
    "        scale=3,\n",
    "    )\n",
    "    [:100]\n",
    "    [['spectro_disp']]\n",
    "    .pipe(talk_hide_index_and_columns)\n",
    ")"
   ]
  },
  {
   "cell_type": "markdown",
   "metadata": {
    "slideshow": {
     "slide_type": "slide"
    }
   },
   "source": [
    "# By time of day\n",
    "- PSFL: dawn song vs. normal song\n",
    "    - [Pie19] p272\n",
    "        - Dawn song, normal song\n",
    "        - (No \"dawn\" at [PFGBS] https://academy.allaboutbirds.org/peterson-field-guide-to-bird-sounds/?speciesCode=pasfly)\n",
    "    - [BNA] https://birdsna.org/Species-Account/bna/species/pasfly/sounds\n",
    "        - Same as [Pie19]\n",
    "    - Rec notes\n",
    "        - PSFL/348155 dawn song\n",
    "        - PSFL/348142 song"
   ]
  },
  {
   "cell_type": "code",
   "execution_count": null,
   "metadata": {},
   "outputs": [],
   "source": [
    "(search_recs\n",
    "    .pipe(df_inspect, lambda df: (df.shape,))\n",
    "    # Filter\n",
    "    [lambda df: reduce(lambda x, y: x & y, [\n",
    "        df.species == 'PSFL',\n",
    "        df.recordist.str.lower().str.match(r'.*webster.*'),\n",
    "        df.xc_id.isin([348155, 348142]),\n",
    "    ])]\n",
    "    .pipe(df_inspect, lambda df: (df.shape,))\n",
    "    # Sort\n",
    "    # .sort_values(['subspecies', 'lat'], ascending=[True, False])\n",
    "    # .sort_values(['lat'], ascending=False)\n",
    "    # .sort_values(['lng'], ascending=True)\n",
    "    .sort_values(['time'], ascending=True)\n",
    "    # View\n",
    "    .pipe(talk_recs_show,\n",
    "        scale=3,\n",
    "    )\n",
    "    [:100]\n",
    "    [['spectro_disp']]\n",
    "    .pipe(talk_hide_index_and_columns)\n",
    ")"
   ]
  },
  {
   "cell_type": "markdown",
   "metadata": {
    "slideshow": {
     "slide_type": "slide"
    }
   },
   "source": [
    "# By time of year (season)\n",
    "- WIWA"
   ]
  },
  {
   "cell_type": "code",
   "execution_count": null,
   "metadata": {
    "time": "1.806s"
   },
   "outputs": [],
   "source": [
    "# Good: visually apparent\n",
    "talk_recs_show_seasonal('WIWA')"
   ]
  },
  {
   "cell_type": "markdown",
   "metadata": {
    "slideshow": {
     "slide_type": "slide"
    }
   },
   "source": [
    "# By time of year (season)\n",
    "- SPTO"
   ]
  },
  {
   "cell_type": "code",
   "execution_count": null,
   "metadata": {
    "time": "3.502s"
   },
   "outputs": [],
   "source": [
    "# Good\n",
    "#   - Take a moment to explain wraa calls on the left vs. trill songs on the right\n",
    "talk_recs_show_seasonal('SPTO')"
   ]
  },
  {
   "cell_type": "markdown",
   "metadata": {
    "slideshow": {
     "slide_type": "slide"
    }
   },
   "source": [
    "# By time of year (season)\n",
    "- FOSP"
   ]
  },
  {
   "cell_type": "code",
   "execution_count": null,
   "metadata": {
    "time": "3.514s"
   },
   "outputs": [],
   "source": [
    "# Good\n",
    "#   - Take a moment to explain chips on the left vs. songs on the right\n",
    "talk_recs_show_seasonal('FOSP')"
   ]
  },
  {
   "cell_type": "markdown",
   "metadata": {
    "slideshow": {
     "slide_type": "slide"
    }
   },
   "source": [
    "# By time of year (season)\n",
    "- SOSP"
   ]
  },
  {
   "cell_type": "code",
   "execution_count": null,
   "metadata": {
    "time": "4.371s"
   },
   "outputs": [],
   "source": [
    "# [Skippable]\n",
    "# Good example of partial switch\n",
    "#   - [Pie19] \"All year, but mostly Mar—Aug\"\n",
    "talk_recs_show_seasonal('SOSP')"
   ]
  },
  {
   "cell_type": "markdown",
   "metadata": {
    "slideshow": {
     "slide_type": "skip"
    }
   },
   "source": [
    "# By time of year (season)\n",
    "- Omitted: not worthwhile given the ones we already have above\n",
    "    - YRWA - visually similar to WIWA, doesn't add much\n",
    "    - HETH - takes a moment to see\n",
    "    - RCKI - hard to visually parse"
   ]
  },
  {
   "cell_type": "markdown",
   "metadata": {
    "slideshow": {
     "slide_type": "slide"
    }
   },
   "source": [
    "# Wrentit song (gender)\n",
    "- Male: accelerating\n",
    "- Female: slower, more even rhythm"
   ]
  },
  {
   "cell_type": "code",
   "execution_count": null,
   "metadata": {},
   "outputs": [],
   "source": [
    "(search_recs\n",
    "    .pipe(df_inspect, lambda df: (df.shape,))\n",
    "    # Filter\n",
    "    [lambda df: reduce(lambda x, y: x & y, [\n",
    "        df.species == 'WREN',\n",
    "        # df.remarks.str.lower().str.contains('female'),  # Not useful\n",
    "        # df.remarks.str.lower().str.contains('slow'),  # Not useful\n",
    "        # df.remarks.str.lower().str.contains('male'),  # Not useful\n",
    "        df.xc_id.isin([90158]),\n",
    "    ])]\n",
    "    .pipe(df_inspect, lambda df: (df.shape,))\n",
    "    # Sort\n",
    "    .sort_values('date', ascending=False)\n",
    "    # View\n",
    "    .pipe(talk_recs_show,\n",
    "        scale=3,\n",
    "    )\n",
    "    [:100]\n",
    "    [['spectro_disp']]\n",
    "    .pipe(talk_hide_index_and_columns)\n",
    ")"
   ]
  },
  {
   "cell_type": "code",
   "execution_count": null,
   "metadata": {},
   "outputs": [],
   "source": [
    "talk_show_refs('''\n",
    "https://www.xeno-canto.org/species/Chamaea-fasciata\n",
    "https://academy.allaboutbirds.org/peterson-field-guide-to-bird-sounds/?speciesCode=wrenti\n",
    "https://birdsna.org/Species-Account/bna/species/wrenti/sounds\n",
    "''')"
   ]
  },
  {
   "cell_type": "markdown",
   "metadata": {
    "slideshow": {
     "slide_type": "slide"
    }
   },
   "source": [
    "# Geography — Spotted Towhee\n",
    "- West coast: no intro notes, then fast or slow\n",
    "- Interior: intro notes, then slow\n",
    "- Randomly select west (of -117°) vs. east (of -110°) → can see different song patterns!"
   ]
  },
  {
   "cell_type": "code",
   "execution_count": null,
   "metadata": {
    "time": "3.753s"
   },
   "outputs": [],
   "source": [
    "# Lots of variations I tried before simple 2-col west/east\n",
    "(search_recs\n",
    "    .pipe(df_inspect, lambda df: (df.shape,))\n",
    "    # Filter\n",
    "    [lambda df: reduce(lambda x, y: x & y, [\n",
    "        df.species == 'SPTO',\n",
    "        # df.type.str.lower().str.match(r'.*song.*'),\n",
    "        # df.type.str.lower().str.match(r'^song$'),\n",
    "        df.quality.isin(['A', 'B']),\n",
    "    ])]\n",
    "    .pipe(df_inspect, lambda df: (df.shape,))\n",
    "    # Sort\n",
    "    # .sample(250, random_state=0)\n",
    "    # .sample(50, random_state=0)\n",
    "    # .sort_values(['subspecies', 'lat'], ascending=False)\n",
    "    # .sort_values(['lat'], ascending=False)\n",
    "    # .sort_values(['lng'], ascending=True)\n",
    "    .pipe(df_inspect, lambda df: (df.shape,))\n",
    "    # View\n",
    "    .pipe(talk_recs_show,\n",
    "        scale=1.9,\n",
    "    )\n",
    "\n",
    "    # Bin by geo (2 bins)\n",
    "    #   - Very rough, but decent results\n",
    "\n",
    "    # .assign(geo=lambda df: df.state.str.lower().str.replace('.', '').str.split(r',\\s*').map(lambda states: first(\n",
    "    #     [\n",
    "    #         geo\n",
    "    #         for state in states\n",
    "    #         for geo in [{\n",
    "    #\n",
    "    #             # # 'british columbia': 'west coast',\n",
    "    #             # # 'bc':               'west coast',\n",
    "    #             # # 'washington':       'west coast',\n",
    "    #             # # 'wa':               'west coast',\n",
    "    #             # # 'oregon':           'west coast',\n",
    "    #             # 'california':       'west coast',\n",
    "    #             # 'ca':               'west coast',\n",
    "    #             # # 'inyo county':      'interior',  # Right? (Inyo County ~ Death Valley, CA)\n",
    "    #             # # 'colorado':         'interior',\n",
    "    #             # # 'utah':             'interior',\n",
    "    #             # 'arizona':          'interior',\n",
    "    #             # 'az':               'interior',\n",
    "    #             # 'new mexico':       'interior',\n",
    "    #             # # 'mexico':           'interior',\n",
    "    #\n",
    "    #             # 'british columbia': 'west coast',\n",
    "    #             # 'bc':               'west coast',\n",
    "    #             # 'washington':       'west coast',\n",
    "    #             # 'wa':               'west coast',\n",
    "    #             # 'oregon':           'west coast',\n",
    "    #             'california':       'california',\n",
    "    #             'ca':               'california',\n",
    "    #             # 'inyo county':      'interior',  # Right? (Inyo County ~ Death Valley, CA)\n",
    "    #             'colorado':         'colorado',\n",
    "    #             # 'utah':             'interior',\n",
    "    #             # 'arizona':          'arizona',\n",
    "    #             # 'az':               'arizona',\n",
    "    #             # # 'new mexico':       'new mexico',\n",
    "    #             # 'mexico':           'mexico',\n",
    "    #\n",
    "    #         }.get(state)]\n",
    "    #         if geo is not None\n",
    "    #     ] + [\n",
    "    #         None,\n",
    "    #     ]\n",
    "    # )))\n",
    "\n",
    "    .assign(geo=lambda df: df.pipe(df_map_rows, lambda row: (\n",
    "        'W -117° (west coast)' if row.lng < -117 else  # -117 to exclude Inyo County (Death Valley) which behaves ~like interior\n",
    "        'E -110° (interior)'   if row.lng > -110 else  # -110 to include CO/AZ/MX (at least)\n",
    "        None                                          # Throw out everything in the middle, to simplify analysis\n",
    "    )))\n",
    "\n",
    "    [lambda df: df.geo.notnull()]\n",
    "    .assign(geo=lambda df: df.geo.pipe(lambda s: s.pipe(as_ordered_cat, [\n",
    "        # 'west coast', 'interior',\n",
    "        # 'california', 'colorado', 'arizona', 'mexico',\n",
    "        # 'california', 'colorado',\n",
    "        'W -117° (west coast)', 'E -110° (interior)',\n",
    "    ])))\n",
    "    # .pipe(df_inspect, lambda df: df[:250])  # Debug\n",
    "\n",
    "    # Pivot by geo (manually)\n",
    "    .pipe(lambda df: pd.concat(axis=1, objs=[\n",
    "        (df\n",
    "            [df.geo == geo]\n",
    "            [['spectro_disp']]\n",
    "            .rename(columns={'spectro_disp': geo})\n",
    "            .sample(frac=1, random_state=0)  # Randomize per column (to avoid weird biases from incidental sorting above)\n",
    "            .reset_index(drop=True)\n",
    "        )\n",
    "        for geo in df.geo.sort_values().unique()\n",
    "    ]))\n",
    "    .fillna('')\n",
    "    .pipe(df_inspect, lambda df: (df.shape,))\n",
    "    [:25]\n",
    "    .pipe(df_inspect, lambda df: (df.shape,))\n",
    "\n",
    "    .pipe(talk_hide_index)\n",
    ")"
   ]
  },
  {
   "cell_type": "markdown",
   "metadata": {
    "slideshow": {
     "slide_type": "slide"
    }
   },
   "source": [
    "# [Final quiz]"
   ]
  },
  {
   "cell_type": "code",
   "execution_count": null,
   "metadata": {},
   "outputs": [],
   "source": [
    "# All the damn wraa calls\n",
    "(search_recs\n",
    "    .pipe(df_inspect, lambda df: (df.shape,))\n",
    "    # Filter\n",
    "    [lambda df: reduce(lambda x, y: x | y, [\n",
    "\n",
    "        (df.species == 'SPTO') & df.xc_id.isin([127012]),\n",
    "        (df.species == 'EATO') & df.xc_id.isin([293823]),\n",
    "\n",
    "        (df.species == 'HUVI') & df.xc_id.isin([297120]),\n",
    "        # (df.species == 'HUVI') & df.xc_id.isin([348987]),\n",
    "        (df.species == 'WAVI') & df.xc_id.isin([159366]),\n",
    "        # (df.species == 'WAVI') & df.xc_id.isin([381527]),\n",
    "\n",
    "        (df.species == 'HETH') & df.xc_id.isin([314303]),\n",
    "        # (df.species == 'HETH') & df.xc_id.isin([131636]),\n",
    "\n",
    "        (df.species == 'BEWR') & df.xc_id.isin([163209]),\n",
    "        # (df.species == 'BEWR') & df.xc_id.isin([141349]),\n",
    "        (df.species == 'HOWR') & df.xc_id.isin([265810]),\n",
    "\n",
    "        (df.species == 'BANO') & df.xc_id.isin([294969]),  # Juv shriek [PFGBS]\n",
    "        (df.species == 'GHOW') & df.xc_id.isin([154990]),  # Juv shriek [PFGBS]\n",
    "\n",
    "        (df.species == 'BGGN') & df.xc_id.isin([376229]),\n",
    "        # (df.species == 'BGGN') & df.xc_id.isin([81059]),\n",
    "        (df.species == 'BCGN') & df.xc_id.isin([30087]),\n",
    "        (df.species == 'BTGN') & df.xc_id.isin([253889]),\n",
    "        (df.species == 'CAGN') & df.xc_id.isin([17808]),\n",
    "\n",
    "        (df.species == 'LOSH') & df.xc_id.isin([255158]),\n",
    "        # (df.species == 'LOSH') & df.xc_id.isin([255145]),\n",
    "        (df.species == 'GGSH') & df.xc_id.isin([91968]),  # NOSH (Northern Shrike) used to be GGSH (Great Gray Shrike)\n",
    "\n",
    "        (df.species == 'CASJ') & df.xc_id.isin([347904]),\n",
    "        (df.species == 'STJA') & df.xc_id.isin([146610]),\n",
    "\n",
    "    ])]\n",
    "    .pipe(df_inspect, lambda df: (df.shape,))\n",
    "    # View\n",
    "    .pipe(talk_recs_show,\n",
    "        scale=2.9,\n",
    "    )\n",
    "    .pipe(df_ordered_cats_like, species=metadata.ebird.df.shorthand)\n",
    "    .sort_values(['species'])\n",
    "    [['spectro_disp', 'species_com_name']]\n",
    "    .pipe(talk_hide_index_and_columns)\n",
    ")"
   ]
  },
  {
   "cell_type": "code",
   "execution_count": null,
   "metadata": {},
   "outputs": [],
   "source": []
  }
 ],
 "metadata": {
  "kernelspec": {
   "display_name": "python",
   "language": "python",
   "name": "python"
  }
 },
 "nbformat": 4,
 "nbformat_minor": 2
}
