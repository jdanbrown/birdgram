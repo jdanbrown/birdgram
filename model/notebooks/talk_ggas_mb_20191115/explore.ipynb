{
 "cells": [
  {
   "cell_type": "code",
   "execution_count": null,
   "metadata": {
    "time": "27.492s"
   },
   "outputs": [
    {
     "name": "stdout",
     "output_type": "stream",
     "text": "INFO     [17:31:27.234] [64226] 154 logging_/<module>: {logging_yaml: None}"
    },
    {
     "name": "stdout",
     "output_type": "stream",
     "text": "\n"
    },
    {
     "name": "stdout",
     "output_type": "stream",
     "text": "INFO     [17:31:27.640] [64226]  36 api.server_globals/init"
    },
    {
     "name": "stdout",
     "output_type": "stream",
     "text": "\n"
    },
    {
     "name": "stdout",
     "output_type": "stream",
     "text": "DEBUG    [17:31:27.664] [64226]  84 api.server_globals/load: load_search..."
    },
    {
     "name": "stdout",
     "output_type": "stream",
     "text": "\n"
    },
    {
     "name": "stdout",
     "output_type": "stream",
     "text": "INFO     [17:31:28.306] [64226]  88 api.server_globals/load: load_search (took 0.619s)"
    },
    {
     "name": "stdout",
     "output_type": "stream",
     "text": "\n"
    },
    {
     "name": "stdout",
     "output_type": "stream",
     "text": "DEBUG    [17:31:28.326] [64226]  84 api.server_globals/load: load_xc_meta..."
    },
    {
     "name": "stdout",
     "output_type": "stream",
     "text": "\n"
    },
    {
     "name": "stdout",
     "output_type": "stream",
     "text": "INFO     [17:31:28.952] [64226]  88 api.server_globals/load: load_xc_meta (took 0.603s)"
    },
    {
     "name": "stdout",
     "output_type": "stream",
     "text": "\n"
    },
    {
     "name": "stdout",
     "output_type": "stream",
     "text": "DEBUG    [17:31:28.974] [64226]  84 api.server_globals/load: load_feat_info..."
    },
    {
     "name": "stdout",
     "output_type": "stream",
     "text": "\n"
    },
    {
     "name": "stdout",
     "output_type": "stream",
     "text": "INFO     [17:31:28.994] [64226] 120 api.server_globals/load_feat_info"
    },
    {
     "name": "stdout",
     "output_type": "stream",
     "text": "\n"
    },
    {
     "name": "stdout",
     "output_type": "stream",
     "text": "INFO     [17:31:29.019] [64226]  88 api.server_globals/load: load_feat_info (took 0.024s)"
    },
    {
     "name": "stdout",
     "output_type": "stream",
     "text": "\n"
    },
    {
     "name": "stdout",
     "output_type": "stream",
     "text": "DEBUG    [17:31:29.039] [64226]  84 api.server_globals/load: load_search_recs..."
    },
    {
     "name": "stdout",
     "output_type": "stream",
     "text": "\n"
    },
    {
     "name": "stdout",
     "output_type": "stream",
     "text": "INFO     [17:31:29.060] [64226] 128 api.server_globals/load_search_recs"
    },
    {
     "name": "stdout",
     "output_type": "stream",
     "text": "\n"
    },
    {
     "name": "stdout",
     "output_type": "stream",
     "text": "INFO     [17:31:29.080] [64226] 602 api.recs/get_search_recs"
    },
    {
     "name": "stdout",
     "output_type": "stream",
     "text": "\n"
    },
    {
     "name": "stdout",
     "output_type": "stream",
     "text": "INFO     [17:31:29.102] [64226] 152 payloads/df_cache_hybrid: Hit: payloads/search_recs-audio_s(10),version(8),com_names_k(us),countries_k(na),num_recs(None)-7fe4a7b"
    },
    {
     "name": "stdout",
     "output_type": "stream",
     "text": "\n"
    },
    {
     "name": "stdout",
     "output_type": "stream",
     "text": "DEBUG    [17:31:29.145] [64226] 153 payloads/df_cache_hybrid: Hit ..."
    },
    {
     "name": "stdout",
     "output_type": "stream",
     "text": "\n"
    },
    {
     "name": "stdout",
     "output_type": "stream",
     "text": "DEBUG    [17:31:29.193] [64226] 162 payloads/df_cache_hybrid: Hit: Read api/lite.parquet (75.9 MB) ..."
    },
    {
     "name": "stdout",
     "output_type": "stream",
     "text": "\n"
    },
    {
     "name": "stdout",
     "output_type": "stream",
     "text": "INFO     [17:31:31.281] [64226] 169 payloads/df_cache_hybrid: Hit: Read api/lite.parquet (75.9 MB) [2.088s]"
    },
    {
     "name": "stdout",
     "output_type": "stream",
     "text": "\n"
    },
    {
     "name": "stdout",
     "output_type": "stream",
     "text": "DEBUG    [17:31:31.334] [64226] 174 payloads/df_cache_hybrid: Hit: Read api/bytes-audio_bytes.parquet (2.1 GB) ..."
    },
    {
     "name": "stdout",
     "output_type": "stream",
     "text": "\n"
    },
    {
     "name": "stdout",
     "output_type": "stream",
     "text": "INFO     [17:31:44.810] [64226] 181 payloads/df_cache_hybrid: Hit: Read api/bytes-audio_bytes.parquet (2.1 GB) [13.475s]"
    },
    {
     "name": "stdout",
     "output_type": "stream",
     "text": "\n"
    },
    {
     "name": "stdout",
     "output_type": "stream",
     "text": "DEBUG    [17:31:44.942] [64226] 174 payloads/df_cache_hybrid: Hit: Read api/bytes-spectro_bytes.parquet (570.0 MB) ..."
    },
    {
     "name": "stdout",
     "output_type": "stream",
     "text": "\n"
    },
    {
     "name": "stdout",
     "output_type": "stream",
     "text": "INFO     [17:31:48.497] [64226] 181 payloads/df_cache_hybrid: Hit: Read api/bytes-spectro_bytes.parquet (570.0 MB) [3.555s]"
    },
    {
     "name": "stdout",
     "output_type": "stream",
     "text": "\n"
    },
    {
     "name": "stdout",
     "output_type": "stream",
     "text": "DEBUG    [17:31:48.559] [64226] 186 payloads/df_cache_hybrid: Hit: Read api/feat-f_preds.npy (155.5 MB) ..."
    },
    {
     "name": "stdout",
     "output_type": "stream",
     "text": "\n"
    },
    {
     "name": "stdout",
     "output_type": "stream",
     "text": "INFO     [17:31:48.762] [64226] 188 payloads/df_cache_hybrid: Hit: Read api/feat-f_preds.npy (155.5 MB) [float32, 0.202s]"
    },
    {
     "name": "stdout",
     "output_type": "stream",
     "text": "\n"
    },
    {
     "name": "stdout",
     "output_type": "stream",
     "text": "DEBUG    [17:31:48.809] [64226] 186 payloads/df_cache_hybrid: Hit: Read api/feat-feat.npy (315.7 MB) ..."
    },
    {
     "name": "stdout",
     "output_type": "stream",
     "text": "\n"
    },
    {
     "name": "stdout",
     "output_type": "stream",
     "text": "INFO     [17:31:49.247] [64226] 188 payloads/df_cache_hybrid: Hit: Read api/feat-feat.npy (315.7 MB) [float32, 0.438s]"
    },
    {
     "name": "stdout",
     "output_type": "stream",
     "text": "\n"
    },
    {
     "name": "stdout",
     "output_type": "stream",
     "text": "INFO     [17:31:49.290] [64226] 191 payloads/df_cache_hybrid: Hit: Join lite + bytes + feats"
    },
    {
     "name": "stdout",
     "output_type": "stream",
     "text": "\n"
    },
    {
     "name": "stdout",
     "output_type": "stream",
     "text": "INFO     [17:31:52.292] [64226] 202 payloads/df_cache_hybrid: Hit [23.146s]"
    },
    {
     "name": "stdout",
     "output_type": "stream",
     "text": "\n"
    },
    {
     "data": {
      "text/html": "<table border=\"1\" class=\"dataframe\">\n  <thead>\n    <tr style=\"text-align: right;\">\n      <th></th>\n      <th>dir</th>\n      <th>file</th>\n      <th>size</th>\n      <th>frac</th>\n    </tr>\n  </thead>\n  <tbody>\n    <tr>\n      <th>5</th>\n      <td><div class=\"not-number\">api</div></td>\n      <td><div class=\"not-number\">TOTAL</div></td>\n      <td>3225111245</td>\n      <td>1.000</td>\n    </tr>\n    <tr>\n      <th>1</th>\n      <td><div class=\"not-number\">api</div></td>\n      <td><div class=\"not-number\">api/bytes-audio_bytes.parquet</div></td>\n      <td>2108033743</td>\n      <td>0.654</td>\n    </tr>\n    <tr>\n      <th>2</th>\n      <td><div class=\"not-number\">api</div></td>\n      <td><div class=\"not-number\">api/bytes-spectro_bytes.parquet</div></td>\n      <td>569952021</td>\n      <td>0.177</td>\n    </tr>\n    <tr>\n      <th>4</th>\n      <td><div class=\"not-number\">api</div></td>\n      <td><div class=\"not-number\">api/feat-feat.npy: float32</div></td>\n      <td>315678128</td>\n      <td>0.098</td>\n    </tr>\n    <tr>\n      <th>3</th>\n      <td><div class=\"not-number\">api</div></td>\n      <td><div class=\"not-number\">api/feat-f_preds.npy: float32</div></td>\n      <td>155524156</td>\n      <td>0.048</td>\n    </tr>\n    <tr>\n      <th>0</th>\n      <td><div class=\"not-number\">api</div></td>\n      <td><div class=\"not-number\">api/lite.parquet</div></td>\n      <td>75923197</td>\n      <td>0.024</td>\n    </tr>\n  </tbody>\n</table>",
      "text/plain": "   dir                             file        size   frac\n5  api                            TOTAL  3225111245  1.000\n1  api    api/bytes-audio_bytes.parquet  2108033743  0.654\n2  api  api/bytes-spectro_bytes.parquet   569952021  0.177\n4  api       api/feat-feat.npy: float32   315678128  0.098\n3  api    api/feat-f_preds.npy: float32   155524156  0.048\n0  api                 api/lite.parquet    75923197  0.024"
     },
     "metadata": {},
     "output_type": "display_data",
     "transient": {}
    },
    {
     "name": "stdout",
     "output_type": "stream",
     "text": "INFO     [17:31:52.642] [64226]  88 api.server_globals/load: load_search_recs (took 23.582s)"
    },
    {
     "name": "stdout",
     "output_type": "stream",
     "text": "\n"
    },
    {
     "name": "stdout",
     "output_type": "stream",
     "text": "INFO     [17:31:52.675] [64226]  38 api.server_globals/init: done"
    },
    {
     "name": "stdout",
     "output_type": "stream",
     "text": "\n"
    }
   ],
   "source": [
    "from notebooks.talk_ggas_mb_20191115.shared import *"
   ]
  },
  {
   "cell_type": "markdown",
   "metadata": {},
   "source": [
    "# Final quiz\n",
    "- (All the damn wraa calls)"
   ]
  },
  {
   "cell_type": "code",
   "execution_count": null,
   "metadata": {},
   "outputs": [],
   "source": [
    "# To search for examples\n",
    "(search_recs\n",
    "    .pipe(df_inspect, lambda df: (df.shape,))\n",
    "    # Filter\n",
    "    [lambda df: reduce(lambda x, y: x & y, [\n",
    "        df.species == 'GGSH',\n",
    "    ])]\n",
    "    .pipe(df_inspect, lambda df: (df.shape,))\n",
    "    # Sort\n",
    "    .sample(frac=1, random_state=0)\n",
    "    # View\n",
    "    .pipe(talk_recs_show,\n",
    "        # scale=3,\n",
    "    )\n",
    "    [:250]\n",
    ")"
   ]
  },
  {
   "cell_type": "markdown",
   "metadata": {},
   "source": [
    "# XXX Attic"
   ]
  },
  {
   "cell_type": "code",
   "execution_count": null,
   "metadata": {},
   "outputs": [],
   "source": [
    "# BEWR HOWR PAWR\n",
    "# BGGN\n",
    "# CATH\n",
    "# NOMO\n",
    "# LEGO\n",
    "# BRCR\n",
    "# RBNU WBNU PYNU\n",
    "# OATI CBCH\n",
    "# HUVI WAVI CAVI\n",
    "# WEKI\n",
    "# BLPH SAPH WEWP OSFL ATFL PSFL\n",
    "# RBSA\n",
    "# HAWO DOWO NUWO ACWO PIWO NOFL\n",
    "# RTHA(age) RSHA COHA SSHA AMKE MERL\n",
    "# COLO"
   ]
  },
  {
   "cell_type": "code",
   "execution_count": null,
   "metadata": {},
   "outputs": [],
   "source": [
    "# WCSP\n",
    "#   - Around bay area?\n",
    "(search_recs\n",
    "    .pipe(df_inspect, lambda df: (df.shape,))\n",
    "    # Filter\n",
    "    [lambda df: reduce(lambda x, y: x & y, [\n",
    "        df.species == 'WCSP',\n",
    "        df.state.str.lower().str.match(r'.*\\b(ca|california)\\b.*'),\n",
    "    ])]\n",
    "    .pipe(df_inspect, lambda df: (df.shape,))\n",
    "    # Sort\n",
    "    .sort_values(['subspecies', 'lat'], ascending=[True, False])\n",
    "    # .sort_values(['lat'], ascending=False)\n",
    "    # .sort_values(['lng'], ascending=True)\n",
    "    # View\n",
    "    .pipe(talk_recs_show,\n",
    "        # scale=3,\n",
    "    )\n",
    "    [:500]\n",
    ")"
   ]
  },
  {
   "cell_type": "code",
   "execution_count": null,
   "metadata": {
    "time": "1.812s"
   },
   "outputs": [],
   "source": [
    "# SOSP\n",
    "#   - Don't know what to do with this one\n",
    "#   - By subspecies?\n",
    "(search_recs\n",
    "    .pipe(df_inspect, lambda df: (df.shape,))\n",
    "    # Filter\n",
    "    [lambda df: reduce(lambda x, y: x & y, [\n",
    "        df.species == 'SOSP',\n",
    "    ])]\n",
    "    .pipe(df_inspect, lambda df: (df.shape,))\n",
    "    # Sort\n",
    "    [lambda df: ~df.subspecies.isin([''])]\n",
    "    .sample(100, random_state=0)\n",
    "    .sort_values(['subspecies'], ascending=[True])\n",
    "    # View\n",
    "    .pipe(talk_recs_show,\n",
    "        # scale=3,\n",
    "    )\n",
    "    [:100]\n",
    ")"
   ]
  },
  {
   "cell_type": "code",
   "execution_count": null,
   "metadata": {
    "time": "1.558s"
   },
   "outputs": [],
   "source": [
    "# BEWR\n",
    "#   - Don't know what to do with this one\n",
    "#   - Around US?\n",
    "#   - Across individuals?\n",
    "(search_recs\n",
    "    .pipe(df_inspect, lambda df: (df.shape,))\n",
    "    # Filter\n",
    "    [lambda df: reduce(lambda x, y: x & y, [\n",
    "        df.species == 'BEWR',\n",
    "    ])]\n",
    "    .pipe(df_inspect, lambda df: (df.shape,))\n",
    "    # Sort\n",
    "    .sample(100, random_state=0)\n",
    "    .sort_values(['lng'], ascending=[True])\n",
    "    # View\n",
    "    .pipe(talk_recs_show,\n",
    "        # scale=3,\n",
    "    )\n",
    "    [:100]\n",
    ")"
   ]
  },
  {
   "cell_type": "code",
   "execution_count": null,
   "metadata": {},
   "outputs": [],
   "source": []
  }
 ],
 "metadata": {
  "kernelspec": {
   "display_name": "bubo-features",
   "language": "python",
   "name": "bubo-features"
  }
 },
 "nbformat": 4,
 "nbformat_minor": 2
}
