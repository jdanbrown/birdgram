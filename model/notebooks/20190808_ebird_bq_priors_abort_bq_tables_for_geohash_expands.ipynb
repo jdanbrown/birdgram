{
 "cells": [
  {
   "cell_type": "markdown",
   "metadata": {},
   "source": [
    "# Imports"
   ]
  },
  {
   "cell_type": "code",
   "execution_count": null,
   "metadata": {
    "time": "4.269s"
   },
   "outputs": [
    {
     "name": "stdout",
     "output_type": "stream",
     "text": "INFO     [21:34:26.480] [44030] 151 logging_/<module>: {logging_yaml: None}"
    },
    {
     "name": "stdout",
     "output_type": "stream",
     "text": "\n"
    }
   ],
   "source": [
    "from notebooks import *"
   ]
  },
  {
   "cell_type": "code",
   "execution_count": null,
   "metadata": {},
   "outputs": [],
   "source": [
    "# Import bqq() / %%bqq\n",
    "#   - HACK Add pydatalab\n",
    "#       - Use local fork to avoid having to deal with upgrades and porting old patches\n",
    "sys.path.insert(1, os.path.expanduser('~/hack/pydatalab'))\n",
    "from potoo.bqq import *\n",
    "%load_ext potoo.sql_magic"
   ]
  },
  {
   "cell_type": "code",
   "execution_count": null,
   "metadata": {},
   "outputs": [],
   "source": [
    "def var_checkpoint(var_name, env, pkl_path='/tmp/var_checkpoint/%s.pkl'):\n",
    "    pkl_path = pkl_path % var_name\n",
    "    if var_name in env:\n",
    "        print('dump: %(var_name)s -> %(pkl_path)s' % locals())\n",
    "        joblib.dump(env[var_name], ensure_parent_dir(pkl_path))\n",
    "    else:\n",
    "        print('load: %(var_name)s <- %(pkl_path)s' % locals())\n",
    "        env[var_name] = joblib.load(pkl_path)\n",
    "\n",
    "def sort_like(xs, ys):\n",
    "    ys = list(ys)\n",
    "    return sorted(xs, key=lambda x: ys.index(x) if x in ys else -1)\n",
    "\n",
    "def sort_like_com_name(xs):\n",
    "    return sort_like(xs, metadata.species.df.com_name.dtype.categories)\n",
    "\n",
    "def sort_like_species_group(xs):\n",
    "    return sort_like(xs, metadata.species.df.species_group.dtype.categories)\n",
    "\n",
    "species_group_for_com_name = (metadata.species.df\n",
    "    [['com_name', 'species_group']]\n",
    "    .set_index('com_name')\n",
    "    .to_dict()['species_group']\n",
    ")"
   ]
  },
  {
   "cell_type": "markdown",
   "metadata": {},
   "source": [
    "# bq utils"
   ]
  },
  {
   "cell_type": "code",
   "execution_count": null,
   "metadata": {
    "time": "5.327s"
   },
   "outputs": [
    {
     "name": "stdout",
     "output_type": "stream",
     "text": "Running query..."
    },
    {
     "name": "stdout",
     "output_type": "stream",
     "text": "\n"
    },
    {
     "name": "stdout",
     "output_type": "stream",
     "text": "[5s] cost[$0.0002, 48.6 MB] rows[20] size[0 B] url[https://console.cloud.google.com/bigquery?project=bubo-1&j=bq:US:job_OuooxaXaplVIZ3wesHdp39r01FkB&page=queryresults]"
    },
    {
     "name": "stdout",
     "output_type": "stream",
     "text": "\n"
    },
    {
     "name": "stdout",
     "output_type": "stream",
     "text": "Fetching results..."
    },
    {
     "name": "stdout",
     "output_type": "stream",
     "text": "\n"
    },
    {
     "name": "stdout",
     "output_type": "stream",
     "text": "[0s]"
    },
    {
     "name": "stdout",
     "output_type": "stream",
     "text": "\n"
    },
    {
     "data": {
      "text/html": "<table border=\"1\" class=\"dataframe\">\n  <thead>\n    <tr style=\"text-align: right;\">\n      <th></th>\n      <th>0</th>\n      <th>1</th>\n      <th>2</th>\n      <th>3</th>\n      <th>4</th>\n      <th>5</th>\n      <th>6</th>\n      <th>7</th>\n      <th>8</th>\n      <th>9</th>\n      <th>10</th>\n      <th>11</th>\n      <th>12</th>\n      <th>13</th>\n      <th>14</th>\n      <th>15</th>\n      <th>16</th>\n      <th>17</th>\n      <th>18</th>\n      <th>19</th>\n    </tr>\n  </thead>\n  <tbody>\n    <tr>\n      <th>common_name</th>\n      <td><div class=\"not-number\">White-crowned Sparrow</div></td>\n      <td><div class=\"not-number\">Cliff Swallow</div></td>\n      <td><div class=\"not-number\">Bufflehead</div></td>\n      <td><div class=\"not-number\">Black Phoebe</div></td>\n      <td><div class=\"not-number\">Brown Pelican</div></td>\n      <td><div class=\"not-number\">Greater White-fronted Goose</div></td>\n      <td><div class=\"not-number\">Osprey</div></td>\n      <td><div class=\"not-number\">Dark-eyed Junco</div></td>\n      <td><div class=\"not-number\">American Kestrel</div></td>\n      <td><div class=\"not-number\">Varied Thrush</div></td>\n      <td><div class=\"not-number\">White-throated Sparrow</div></td>\n      <td><div class=\"not-number\">Red-tailed Hawk</div></td>\n      <td><div class=\"not-number\">Cassin's Vireo</div></td>\n      <td><div class=\"not-number\">Mourning Dove</div></td>\n      <td><div class=\"not-number\">Orange-crowned Warbler</div></td>\n      <td><div class=\"not-number\">Black-necked Stilt</div></td>\n      <td><div class=\"not-number\">Hairy Woodpecker</div></td>\n      <td><div class=\"not-number\">Wilson's Warbler</div></td>\n      <td><div class=\"not-number\">Band-tailed Pigeon</div></td>\n      <td><div class=\"not-number\">Ruby-crowned Kinglet</div></td>\n    </tr>\n    <tr>\n      <th>observation_week</th>\n      <td>5</td>\n      <td>21</td>\n      <td>8</td>\n      <td>47</td>\n      <td>36</td>\n      <td>3</td>\n      <td>18</td>\n      <td>10</td>\n      <td>43</td>\n      <td>43</td>\n      <td>3</td>\n      <td>15</td>\n      <td>18</td>\n      <td>17</td>\n      <td>17</td>\n      <td>20</td>\n      <td>26</td>\n      <td>19</td>\n      <td>21</td>\n      <td>0</td>\n    </tr>\n    <tr>\n      <th>locality_id</th>\n      <td><div class=\"not-number\">L247968</div></td>\n      <td><div class=\"not-number\">L3615819</div></td>\n      <td><div class=\"not-number\">L2698912</div></td>\n      <td><div class=\"not-number\">L6617340</div></td>\n      <td><div class=\"not-number\">L351583</div></td>\n      <td><div class=\"not-number\">L168785</div></td>\n      <td><div class=\"not-number\">L481707</div></td>\n      <td><div class=\"not-number\">L4397650</div></td>\n      <td><div class=\"not-number\">L370676</div></td>\n      <td><div class=\"not-number\">L661996</div></td>\n      <td><div class=\"not-number\">L468377</div></td>\n      <td><div class=\"not-number\">L1072372</div></td>\n      <td><div class=\"not-number\">L249749</div></td>\n      <td><div class=\"not-number\">L2281623</div></td>\n      <td><div class=\"not-number\">L419660</div></td>\n      <td><div class=\"not-number\">L2288311</div></td>\n      <td><div class=\"not-number\">L350696</div></td>\n      <td><div class=\"not-number\">L824120</div></td>\n      <td><div class=\"not-number\">L951033</div></td>\n      <td><div class=\"not-number\">L271485</div></td>\n    </tr>\n    <tr>\n      <th>locality</th>\n      <td><div class=\"not-number\">San Bruno Mountain Park</div></td>\n      <td><div class=\"not-number\">Edwards AFB--Piute Ponds: Point 2</div></td>\n      <td><div class=\"not-number\">Ed Levin County Park--Sandy Wool area</div></td>\n      <td><div class=\"not-number\">east end of Village Lane, Cambria, California, US (35.564, -121.079)</div></td>\n      <td><div class=\"not-number\">Ventura Harbor</div></td>\n      <td><div class=\"not-number\">Sacramento NWR</div></td>\n      <td><div class=\"not-number\">Tomales Bay--Cypress Grove Pt.</div></td>\n      <td><div class=\"not-number\">Rambler Trail, Clover Valley Preserve, Grass Valley</div></td>\n      <td><div class=\"not-number\">Moss Landing--town or marina</div></td>\n      <td><div class=\"not-number\">Woodlawn Cemetery (LA Co.)</div></td>\n      <td><div class=\"not-number\">Lodi Lake Nature Area</div></td>\n      <td><div class=\"not-number\">UC Santa Barbara--Lagoon</div></td>\n      <td><div class=\"not-number\">San Luis NWR</div></td>\n      <td><div class=\"not-number\">6948 Corte Verde, Pleasanton, CA</div></td>\n      <td><div class=\"not-number\">Desert Center--Lake Tamarisk</div></td>\n      <td><div class=\"not-number\">Crittenden Marsh / Moffett Field</div></td>\n      <td><div class=\"not-number\">Pacific Grove--yard 282 Grove Acre</div></td>\n      <td><div class=\"not-number\">Kyburz Flat area</div></td>\n      <td><div class=\"not-number\">SCZ FBMP BONN 13</div></td>\n      <td><div class=\"not-number\">Arcata Marsh--Oxidation Ponds</div></td>\n    </tr>\n    <tr>\n      <th>n_all</th>\n      <td><div class=\"not-number\">9q8ymyvhgm45jdxfxtrd</div></td>\n      <td><div class=\"not-number\">9qhjbq3d3r246jttgxuw</div></td>\n      <td><div class=\"not-number\">9q9m4ftuts848bche9j6</div></td>\n      <td><div class=\"not-number\">9q3fkf16yn870edeycqz</div></td>\n      <td><div class=\"not-number\">9q54y4bjq1200y3jhent</div></td>\n      <td><div class=\"not-number\">9r105vt1k1m1yh5wdt71</div></td>\n      <td><div class=\"not-number\">9qb95k1bk08427dkphpf</div></td>\n      <td><div class=\"not-number\">9qcyt9rgn9byr8h9fque</div></td>\n      <td><div class=\"not-number\">9q93kevf39s4rcyprb13</div></td>\n      <td><div class=\"not-number\">9q5c80b244b4cp7scxfn</div></td>\n      <td><div class=\"not-number\">9qc9pcjxegxgr1n0t0wf</div></td>\n      <td><div class=\"not-number\">9q4g8z9h1brypb7kg2wu</div></td>\n      <td><div class=\"not-number\">9qd5ehh1eyx7tu13wwsg</div></td>\n      <td><div class=\"not-number\">9q9q3cnz9uh42t3htdrr</div></td>\n      <td><div class=\"not-number\">9mvzynhp6qxbxmg4cyqx</div></td>\n      <td><div class=\"not-number\">9q9hym7wfctrj70nx2dx</div></td>\n      <td><div class=\"not-number\">9q92377vrks8c55u89p1</div></td>\n      <td><div class=\"not-number\">9r42xzebk12n0e7kvw6k</div></td>\n      <td><div class=\"not-number\">9q94sjqfndrbqvx1x1fg</div></td>\n      <td><div class=\"not-number\">9prb2k9p3489sxuygtss</div></td>\n    </tr>\n    <tr>\n      <th>n_20</th>\n      <td><div class=\"not-number\">9q8ymyvhgm45jdxfxtrd</div></td>\n      <td><div class=\"not-number\">9qhjbq3d3r246jttgxuw</div></td>\n      <td><div class=\"not-number\">9q9m4ftuts848bche9j6</div></td>\n      <td><div class=\"not-number\">9q3fkf16yn870edeycqz</div></td>\n      <td><div class=\"not-number\">9q54y4bjq1200y3jhent</div></td>\n      <td><div class=\"not-number\">9r105vt1k1m1yh5wdt71</div></td>\n      <td><div class=\"not-number\">9qb95k1bk08427dkphpf</div></td>\n      <td><div class=\"not-number\">9qcyt9rgn9byr8h9fque</div></td>\n      <td><div class=\"not-number\">9q93kevf39s4rcyprb13</div></td>\n      <td><div class=\"not-number\">9q5c80b244b4cp7scxfn</div></td>\n      <td><div class=\"not-number\">9qc9pcjxegxgr1n0t0wf</div></td>\n      <td><div class=\"not-number\">9q4g8z9h1brypb7kg2wu</div></td>\n      <td><div class=\"not-number\">9qd5ehh1eyx7tu13wwsg</div></td>\n      <td><div class=\"not-number\">9q9q3cnz9uh42t3htdrr</div></td>\n      <td><div class=\"not-number\">9mvzynhp6qxbxmg4cyqx</div></td>\n      <td><div class=\"not-number\">9q9hym7wfctrj70nx2dx</div></td>\n      <td><div class=\"not-number\">9q92377vrks8c55u89p1</div></td>\n      <td><div class=\"not-number\">9r42xzebk12n0e7kvw6k</div></td>\n      <td><div class=\"not-number\">9q94sjqfndrbqvx1x1fg</div></td>\n      <td><div class=\"not-number\">9prb2k9p3489sxuygtss</div></td>\n    </tr>\n    <tr>\n      <th>b_100</th>\n      <td><div class=\"not-number\">9q8ymyvhgm45jdxfxtrd</div></td>\n      <td><div class=\"not-number\">9qhjbq3d3r246jttgxuw</div></td>\n      <td><div class=\"not-number\">9q9m4ftuts848bche9j6</div></td>\n      <td><div class=\"not-number\">9q3fkf16yn870edeycqz</div></td>\n      <td><div class=\"not-number\">9q54y4bjq1200y3jhent</div></td>\n      <td><div class=\"not-number\">9r105vt1k1m1yh5wdt71</div></td>\n      <td><div class=\"not-number\">9qb95k1bk08427dkphpf</div></td>\n      <td><div class=\"not-number\">9qcyt9rgn9byr8h9fque</div></td>\n      <td><div class=\"not-number\">9q93kevf39s4rcyprb13</div></td>\n      <td><div class=\"not-number\">9q5c80b244b4cp7scxfn</div></td>\n      <td><div class=\"not-number\">9qc9pcjxegxgr1n0t0wf</div></td>\n      <td><div class=\"not-number\">9q4g8z9h1brypb7kg2wu</div></td>\n      <td><div class=\"not-number\">9qd5ehh1eyx7tu13wwsg</div></td>\n      <td><div class=\"not-number\">9q9q3cnz9uh42t3htdrr</div></td>\n      <td><div class=\"not-number\">9mvzynhp6qxbxmg4cyqx</div></td>\n      <td><div class=\"not-number\">9q9hym7wfctrj70nx2dx</div></td>\n      <td><div class=\"not-number\">9q92377vrks8c55u89p1</div></td>\n      <td><div class=\"not-number\">9r42xzebk12n0e7kvw6k</div></td>\n      <td><div class=\"not-number\">9q94sjqfndrbqvx1x1fg</div></td>\n      <td><div class=\"not-number\">9prb2k9p3489sxuygtss</div></td>\n    </tr>\n    <tr>\n      <th>b_99</th>\n      <td><div class=\"not-number\">9q8ymyvhgm45jdxfxtrd</div></td>\n      <td><div class=\"not-number\">9qhjbq3d3r246jttgxuw</div></td>\n      <td><div class=\"not-number\">9q9m4ftuts848bche9j6</div></td>\n      <td><div class=\"not-number\">9q3fkf16yn870edeycqy</div></td>\n      <td><div class=\"not-number\">9q54y4bjq1200y3jhens</div></td>\n      <td><div class=\"not-number\">9r105vt1k1m1yh5wdt70</div></td>\n      <td><div class=\"not-number\">9qb95k1bk08427dkphpf</div></td>\n      <td><div class=\"not-number\">9qcyt9rgn9byr8h9fqud</div></td>\n      <td><div class=\"not-number\">9q93kevf39s4rcyprb12</div></td>\n      <td><div class=\"not-number\">9q5c80b244b4cp7scxfn</div></td>\n      <td><div class=\"not-number\">9qc9pcjxegxgr1n0t0wf</div></td>\n      <td><div class=\"not-number\">9q4g8z9h1brypb7kg2wu</div></td>\n      <td><div class=\"not-number\">9qd5ehh1eyx7tu13wwsf</div></td>\n      <td><div class=\"not-number\">9q9q3cnz9uh42t3htdrq</div></td>\n      <td><div class=\"not-number\">9mvzynhp6qxbxmg4cyqw</div></td>\n      <td><div class=\"not-number\">9q9hym7wfctrj70nx2dw</div></td>\n      <td><div class=\"not-number\">9q92377vrks8c55u89p0</div></td>\n      <td><div class=\"not-number\">9r42xzebk12n0e7kvw6k</div></td>\n      <td><div class=\"not-number\">9q94sjqfndrbqvx1x1ff</div></td>\n      <td><div class=\"not-number\">9prb2k9p3489sxuygtss</div></td>\n    </tr>\n    <tr>\n      <th>b_98</th>\n      <td><div class=\"not-number\">9q8ymyvhgm45jdxfxtrd</div></td>\n      <td><div class=\"not-number\">9qhjbq3d3r246jttgxuw</div></td>\n      <td><div class=\"not-number\">9q9m4ftuts848bche9j4</div></td>\n      <td><div class=\"not-number\">9q3fkf16yn870edeycqw</div></td>\n      <td><div class=\"not-number\">9q54y4bjq1200y3jhens</div></td>\n      <td><div class=\"not-number\">9r105vt1k1m1yh5wdt70</div></td>\n      <td><div class=\"not-number\">9qb95k1bk08427dkphpd</div></td>\n      <td><div class=\"not-number\">9qcyt9rgn9byr8h9fqud</div></td>\n      <td><div class=\"not-number\">9q93kevf39s4rcyprb10</div></td>\n      <td><div class=\"not-number\">9q5c80b244b4cp7scxfn</div></td>\n      <td><div class=\"not-number\">9qc9pcjxegxgr1n0t0wd</div></td>\n      <td><div class=\"not-number\">9q4g8z9h1brypb7kg2ws</div></td>\n      <td><div class=\"not-number\">9qd5ehh1eyx7tu13wwsd</div></td>\n      <td><div class=\"not-number\">9q9q3cnz9uh42t3htdrn</div></td>\n      <td><div class=\"not-number\">9mvzynhp6qxbxmg4cyqw</div></td>\n      <td><div class=\"not-number\">9q9hym7wfctrj70nx2dw</div></td>\n      <td><div class=\"not-number\">9q92377vrks8c55u89p0</div></td>\n      <td><div class=\"not-number\">9r42xzebk12n0e7kvw6h</div></td>\n      <td><div class=\"not-number\">9q94sjqfndrbqvx1x1fd</div></td>\n      <td><div class=\"not-number\">9prb2k9p3489sxuygtss</div></td>\n    </tr>\n    <tr>\n      <th>b_97</th>\n      <td><div class=\"not-number\">9q8ymyvhgm45jdxfxtr8</div></td>\n      <td><div class=\"not-number\">9qhjbq3d3r246jttgxus</div></td>\n      <td><div class=\"not-number\">9q9m4ftuts848bche9j0</div></td>\n      <td><div class=\"not-number\">9q3fkf16yn870edeycqs</div></td>\n      <td><div class=\"not-number\">9q54y4bjq1200y3jhens</div></td>\n      <td><div class=\"not-number\">9r105vt1k1m1yh5wdt70</div></td>\n      <td><div class=\"not-number\">9qb95k1bk08427dkphp8</div></td>\n      <td><div class=\"not-number\">9qcyt9rgn9byr8h9fqu8</div></td>\n      <td><div class=\"not-number\">9q93kevf39s4rcyprb10</div></td>\n      <td><div class=\"not-number\">9q5c80b244b4cp7scxfh</div></td>\n      <td><div class=\"not-number\">9qc9pcjxegxgr1n0t0w8</div></td>\n      <td><div class=\"not-number\">9q4g8z9h1brypb7kg2ws</div></td>\n      <td><div class=\"not-number\">9qd5ehh1eyx7tu13wws8</div></td>\n      <td><div class=\"not-number\">9q9q3cnz9uh42t3htdrh</div></td>\n      <td><div class=\"not-number\">9mvzynhp6qxbxmg4cyqs</div></td>\n      <td><div class=\"not-number\">9q9hym7wfctrj70nx2ds</div></td>\n      <td><div class=\"not-number\">9q92377vrks8c55u89p0</div></td>\n      <td><div class=\"not-number\">9r42xzebk12n0e7kvw6h</div></td>\n      <td><div class=\"not-number\">9q94sjqfndrbqvx1x1f8</div></td>\n      <td><div class=\"not-number\">9prb2k9p3489sxuygtss</div></td>\n    </tr>\n    <tr>\n      <th>b_96</th>\n      <td><div class=\"not-number\">9q8ymyvhgm45jdxfxtr0</div></td>\n      <td><div class=\"not-number\">9qhjbq3d3r246jttgxuh</div></td>\n      <td><div class=\"not-number\">9q9m4ftuts848bche9j0</div></td>\n      <td><div class=\"not-number\">9q3fkf16yn870edeycqh</div></td>\n      <td><div class=\"not-number\">9q54y4bjq1200y3jhenh</div></td>\n      <td><div class=\"not-number\">9r105vt1k1m1yh5wdt70</div></td>\n      <td><div class=\"not-number\">9qb95k1bk08427dkphp0</div></td>\n      <td><div class=\"not-number\">9qcyt9rgn9byr8h9fqu0</div></td>\n      <td><div class=\"not-number\">9q93kevf39s4rcyprb10</div></td>\n      <td><div class=\"not-number\">9q5c80b244b4cp7scxfh</div></td>\n      <td><div class=\"not-number\">9qc9pcjxegxgr1n0t0w0</div></td>\n      <td><div class=\"not-number\">9q4g8z9h1brypb7kg2wh</div></td>\n      <td><div class=\"not-number\">9qd5ehh1eyx7tu13wws0</div></td>\n      <td><div class=\"not-number\">9q9q3cnz9uh42t3htdrh</div></td>\n      <td><div class=\"not-number\">9mvzynhp6qxbxmg4cyqh</div></td>\n      <td><div class=\"not-number\">9q9hym7wfctrj70nx2dh</div></td>\n      <td><div class=\"not-number\">9q92377vrks8c55u89p0</div></td>\n      <td><div class=\"not-number\">9r42xzebk12n0e7kvw6h</div></td>\n      <td><div class=\"not-number\">9q94sjqfndrbqvx1x1f0</div></td>\n      <td><div class=\"not-number\">9prb2k9p3489sxuygtsh</div></td>\n    </tr>\n    <tr>\n      <th>n_19</th>\n      <td><div class=\"not-number\">9q8ymyvhgm45jdxfxtr</div></td>\n      <td><div class=\"not-number\">9qhjbq3d3r246jttgxu</div></td>\n      <td><div class=\"not-number\">9q9m4ftuts848bche9j</div></td>\n      <td><div class=\"not-number\">9q3fkf16yn870edeycq</div></td>\n      <td><div class=\"not-number\">9q54y4bjq1200y3jhen</div></td>\n      <td><div class=\"not-number\">9r105vt1k1m1yh5wdt7</div></td>\n      <td><div class=\"not-number\">9qb95k1bk08427dkphp</div></td>\n      <td><div class=\"not-number\">9qcyt9rgn9byr8h9fqu</div></td>\n      <td><div class=\"not-number\">9q93kevf39s4rcyprb1</div></td>\n      <td><div class=\"not-number\">9q5c80b244b4cp7scxf</div></td>\n      <td><div class=\"not-number\">9qc9pcjxegxgr1n0t0w</div></td>\n      <td><div class=\"not-number\">9q4g8z9h1brypb7kg2w</div></td>\n      <td><div class=\"not-number\">9qd5ehh1eyx7tu13wws</div></td>\n      <td><div class=\"not-number\">9q9q3cnz9uh42t3htdr</div></td>\n      <td><div class=\"not-number\">9mvzynhp6qxbxmg4cyq</div></td>\n      <td><div class=\"not-number\">9q9hym7wfctrj70nx2d</div></td>\n      <td><div class=\"not-number\">9q92377vrks8c55u89p</div></td>\n      <td><div class=\"not-number\">9r42xzebk12n0e7kvw6</div></td>\n      <td><div class=\"not-number\">9q94sjqfndrbqvx1x1f</div></td>\n      <td><div class=\"not-number\">9prb2k9p3489sxuygts</div></td>\n    </tr>\n    <tr>\n      <th>b_95</th>\n      <td><div class=\"not-number\">9q8ymyvhgm45jdxfxtr</div></td>\n      <td><div class=\"not-number\">9qhjbq3d3r246jttgxu</div></td>\n      <td><div class=\"not-number\">9q9m4ftuts848bche9j</div></td>\n      <td><div class=\"not-number\">9q3fkf16yn870edeycq</div></td>\n      <td><div class=\"not-number\">9q54y4bjq1200y3jhen</div></td>\n      <td><div class=\"not-number\">9r105vt1k1m1yh5wdt7</div></td>\n      <td><div class=\"not-number\">9qb95k1bk08427dkphp</div></td>\n      <td><div class=\"not-number\">9qcyt9rgn9byr8h9fqu</div></td>\n      <td><div class=\"not-number\">9q93kevf39s4rcyprb1</div></td>\n      <td><div class=\"not-number\">9q5c80b244b4cp7scxf</div></td>\n      <td><div class=\"not-number\">9qc9pcjxegxgr1n0t0w</div></td>\n      <td><div class=\"not-number\">9q4g8z9h1brypb7kg2w</div></td>\n      <td><div class=\"not-number\">9qd5ehh1eyx7tu13wws</div></td>\n      <td><div class=\"not-number\">9q9q3cnz9uh42t3htdr</div></td>\n      <td><div class=\"not-number\">9mvzynhp6qxbxmg4cyq</div></td>\n      <td><div class=\"not-number\">9q9hym7wfctrj70nx2d</div></td>\n      <td><div class=\"not-number\">9q92377vrks8c55u89p</div></td>\n      <td><div class=\"not-number\">9r42xzebk12n0e7kvw6</div></td>\n      <td><div class=\"not-number\">9q94sjqfndrbqvx1x1f</div></td>\n      <td><div class=\"not-number\">9prb2k9p3489sxuygts</div></td>\n    </tr>\n    <tr>\n      <th>b_94</th>\n      <td><div class=\"not-number\">9q8ymyvhgm45jdxfxtq</div></td>\n      <td><div class=\"not-number\">9qhjbq3d3r246jttgxu</div></td>\n      <td><div class=\"not-number\">9q9m4ftuts848bche9h</div></td>\n      <td><div class=\"not-number\">9q3fkf16yn870edeycq</div></td>\n      <td><div class=\"not-number\">9q54y4bjq1200y3jhen</div></td>\n      <td><div class=\"not-number\">9r105vt1k1m1yh5wdt6</div></td>\n      <td><div class=\"not-number\">9qb95k1bk08427dkphn</div></td>\n      <td><div class=\"not-number\">9qcyt9rgn9byr8h9fqu</div></td>\n      <td><div class=\"not-number\">9q93kevf39s4rcyprb0</div></td>\n      <td><div class=\"not-number\">9q5c80b244b4cp7scxf</div></td>\n      <td><div class=\"not-number\">9qc9pcjxegxgr1n0t0w</div></td>\n      <td><div class=\"not-number\">9q4g8z9h1brypb7kg2w</div></td>\n      <td><div class=\"not-number\">9qd5ehh1eyx7tu13wws</div></td>\n      <td><div class=\"not-number\">9q9q3cnz9uh42t3htdq</div></td>\n      <td><div class=\"not-number\">9mvzynhp6qxbxmg4cyq</div></td>\n      <td><div class=\"not-number\">9q9hym7wfctrj70nx2d</div></td>\n      <td><div class=\"not-number\">9q92377vrks8c55u89n</div></td>\n      <td><div class=\"not-number\">9r42xzebk12n0e7kvw6</div></td>\n      <td><div class=\"not-number\">9q94sjqfndrbqvx1x1f</div></td>\n      <td><div class=\"not-number\">9prb2k9p3489sxuygts</div></td>\n    </tr>\n    <tr>\n      <th>b_93</th>\n      <td><div class=\"not-number\">9q8ymyvhgm45jdxfxtn</div></td>\n      <td><div class=\"not-number\">9qhjbq3d3r246jttgxs</div></td>\n      <td><div class=\"not-number\">9q9m4ftuts848bche9h</div></td>\n      <td><div class=\"not-number\">9q3fkf16yn870edeycn</div></td>\n      <td><div class=\"not-number\">9q54y4bjq1200y3jhen</div></td>\n      <td><div class=\"not-number\">9r105vt1k1m1yh5wdt4</div></td>\n      <td><div class=\"not-number\">9qb95k1bk08427dkphn</div></td>\n      <td><div class=\"not-number\">9qcyt9rgn9byr8h9fqs</div></td>\n      <td><div class=\"not-number\">9q93kevf39s4rcyprb0</div></td>\n      <td><div class=\"not-number\">9q5c80b244b4cp7scxd</div></td>\n      <td><div class=\"not-number\">9qc9pcjxegxgr1n0t0w</div></td>\n      <td><div class=\"not-number\">9q4g8z9h1brypb7kg2w</div></td>\n      <td><div class=\"not-number\">9qd5ehh1eyx7tu13wws</div></td>\n      <td><div class=\"not-number\">9q9q3cnz9uh42t3htdn</div></td>\n      <td><div class=\"not-number\">9mvzynhp6qxbxmg4cyn</div></td>\n      <td><div class=\"not-number\">9q9hym7wfctrj70nx2d</div></td>\n      <td><div class=\"not-number\">9q92377vrks8c55u89n</div></td>\n      <td><div class=\"not-number\">9r42xzebk12n0e7kvw4</div></td>\n      <td><div class=\"not-number\">9q94sjqfndrbqvx1x1d</div></td>\n      <td><div class=\"not-number\">9prb2k9p3489sxuygts</div></td>\n    </tr>\n    <tr>\n      <th>b_92</th>\n      <td><div class=\"not-number\">9q8ymyvhgm45jdxfxth</div></td>\n      <td><div class=\"not-number\">9qhjbq3d3r246jttgxs</div></td>\n      <td><div class=\"not-number\">9q9m4ftuts848bche9h</div></td>\n      <td><div class=\"not-number\">9q3fkf16yn870edeych</div></td>\n      <td><div class=\"not-number\">9q54y4bjq1200y3jheh</div></td>\n      <td><div class=\"not-number\">9r105vt1k1m1yh5wdt0</div></td>\n      <td><div class=\"not-number\">9qb95k1bk08427dkphh</div></td>\n      <td><div class=\"not-number\">9qcyt9rgn9byr8h9fqs</div></td>\n      <td><div class=\"not-number\">9q93kevf39s4rcyprb0</div></td>\n      <td><div class=\"not-number\">9q5c80b244b4cp7scx8</div></td>\n      <td><div class=\"not-number\">9qc9pcjxegxgr1n0t0s</div></td>\n      <td><div class=\"not-number\">9q4g8z9h1brypb7kg2s</div></td>\n      <td><div class=\"not-number\">9qd5ehh1eyx7tu13wws</div></td>\n      <td><div class=\"not-number\">9q9q3cnz9uh42t3htdh</div></td>\n      <td><div class=\"not-number\">9mvzynhp6qxbxmg4cyh</div></td>\n      <td><div class=\"not-number\">9q9hym7wfctrj70nx28</div></td>\n      <td><div class=\"not-number\">9q92377vrks8c55u89h</div></td>\n      <td><div class=\"not-number\">9r42xzebk12n0e7kvw0</div></td>\n      <td><div class=\"not-number\">9q94sjqfndrbqvx1x18</div></td>\n      <td><div class=\"not-number\">9prb2k9p3489sxuygts</div></td>\n    </tr>\n    <tr>\n      <th>b_91</th>\n      <td><div class=\"not-number\">9q8ymyvhgm45jdxfxth</div></td>\n      <td><div class=\"not-number\">9qhjbq3d3r246jttgxh</div></td>\n      <td><div class=\"not-number\">9q9m4ftuts848bche9h</div></td>\n      <td><div class=\"not-number\">9q3fkf16yn870edeych</div></td>\n      <td><div class=\"not-number\">9q54y4bjq1200y3jheh</div></td>\n      <td><div class=\"not-number\">9r105vt1k1m1yh5wdt0</div></td>\n      <td><div class=\"not-number\">9qb95k1bk08427dkphh</div></td>\n      <td><div class=\"not-number\">9qcyt9rgn9byr8h9fqh</div></td>\n      <td><div class=\"not-number\">9q93kevf39s4rcyprb0</div></td>\n      <td><div class=\"not-number\">9q5c80b244b4cp7scx0</div></td>\n      <td><div class=\"not-number\">9qc9pcjxegxgr1n0t0h</div></td>\n      <td><div class=\"not-number\">9q4g8z9h1brypb7kg2h</div></td>\n      <td><div class=\"not-number\">9qd5ehh1eyx7tu13wwh</div></td>\n      <td><div class=\"not-number\">9q9q3cnz9uh42t3htdh</div></td>\n      <td><div class=\"not-number\">9mvzynhp6qxbxmg4cyh</div></td>\n      <td><div class=\"not-number\">9q9hym7wfctrj70nx20</div></td>\n      <td><div class=\"not-number\">9q92377vrks8c55u89h</div></td>\n      <td><div class=\"not-number\">9r42xzebk12n0e7kvw0</div></td>\n      <td><div class=\"not-number\">9q94sjqfndrbqvx1x10</div></td>\n      <td><div class=\"not-number\">9prb2k9p3489sxuygth</div></td>\n    </tr>\n    <tr>\n      <th>n_2</th>\n      <td><div class=\"not-number\">9q</div></td>\n      <td><div class=\"not-number\">9q</div></td>\n      <td><div class=\"not-number\">9q</div></td>\n      <td><div class=\"not-number\">9q</div></td>\n      <td><div class=\"not-number\">9q</div></td>\n      <td><div class=\"not-number\">9r</div></td>\n      <td><div class=\"not-number\">9q</div></td>\n      <td><div class=\"not-number\">9q</div></td>\n      <td><div class=\"not-number\">9q</div></td>\n      <td><div class=\"not-number\">9q</div></td>\n      <td><div class=\"not-number\">9q</div></td>\n      <td><div class=\"not-number\">9q</div></td>\n      <td><div class=\"not-number\">9q</div></td>\n      <td><div class=\"not-number\">9q</div></td>\n      <td><div class=\"not-number\">9m</div></td>\n      <td><div class=\"not-number\">9q</div></td>\n      <td><div class=\"not-number\">9q</div></td>\n      <td><div class=\"not-number\">9r</div></td>\n      <td><div class=\"not-number\">9q</div></td>\n      <td><div class=\"not-number\">9p</div></td>\n    </tr>\n    <tr>\n      <th>b_10</th>\n      <td><div class=\"not-number\">9q</div></td>\n      <td><div class=\"not-number\">9q</div></td>\n      <td><div class=\"not-number\">9q</div></td>\n      <td><div class=\"not-number\">9q</div></td>\n      <td><div class=\"not-number\">9q</div></td>\n      <td><div class=\"not-number\">9r</div></td>\n      <td><div class=\"not-number\">9q</div></td>\n      <td><div class=\"not-number\">9q</div></td>\n      <td><div class=\"not-number\">9q</div></td>\n      <td><div class=\"not-number\">9q</div></td>\n      <td><div class=\"not-number\">9q</div></td>\n      <td><div class=\"not-number\">9q</div></td>\n      <td><div class=\"not-number\">9q</div></td>\n      <td><div class=\"not-number\">9q</div></td>\n      <td><div class=\"not-number\">9m</div></td>\n      <td><div class=\"not-number\">9q</div></td>\n      <td><div class=\"not-number\">9q</div></td>\n      <td><div class=\"not-number\">9r</div></td>\n      <td><div class=\"not-number\">9q</div></td>\n      <td><div class=\"not-number\">9p</div></td>\n    </tr>\n    <tr>\n      <th>b_9</th>\n      <td><div class=\"not-number\">9q</div></td>\n      <td><div class=\"not-number\">9q</div></td>\n      <td><div class=\"not-number\">9q</div></td>\n      <td><div class=\"not-number\">9q</div></td>\n      <td><div class=\"not-number\">9q</div></td>\n      <td><div class=\"not-number\">9q</div></td>\n      <td><div class=\"not-number\">9q</div></td>\n      <td><div class=\"not-number\">9q</div></td>\n      <td><div class=\"not-number\">9q</div></td>\n      <td><div class=\"not-number\">9q</div></td>\n      <td><div class=\"not-number\">9q</div></td>\n      <td><div class=\"not-number\">9q</div></td>\n      <td><div class=\"not-number\">9q</div></td>\n      <td><div class=\"not-number\">9q</div></td>\n      <td><div class=\"not-number\">9k</div></td>\n      <td><div class=\"not-number\">9q</div></td>\n      <td><div class=\"not-number\">9q</div></td>\n      <td><div class=\"not-number\">9q</div></td>\n      <td><div class=\"not-number\">9q</div></td>\n      <td><div class=\"not-number\">9n</div></td>\n    </tr>\n    <tr>\n      <th>b_8</th>\n      <td><div class=\"not-number\">9n</div></td>\n      <td><div class=\"not-number\">9n</div></td>\n      <td><div class=\"not-number\">9n</div></td>\n      <td><div class=\"not-number\">9n</div></td>\n      <td><div class=\"not-number\">9n</div></td>\n      <td><div class=\"not-number\">9n</div></td>\n      <td><div class=\"not-number\">9n</div></td>\n      <td><div class=\"not-number\">9n</div></td>\n      <td><div class=\"not-number\">9n</div></td>\n      <td><div class=\"not-number\">9n</div></td>\n      <td><div class=\"not-number\">9n</div></td>\n      <td><div class=\"not-number\">9n</div></td>\n      <td><div class=\"not-number\">9n</div></td>\n      <td><div class=\"not-number\">9n</div></td>\n      <td><div class=\"not-number\">9h</div></td>\n      <td><div class=\"not-number\">9n</div></td>\n      <td><div class=\"not-number\">9n</div></td>\n      <td><div class=\"not-number\">9n</div></td>\n      <td><div class=\"not-number\">9n</div></td>\n      <td><div class=\"not-number\">9n</div></td>\n    </tr>\n    <tr>\n      <th>b_7</th>\n      <td><div class=\"not-number\">9h</div></td>\n      <td><div class=\"not-number\">9h</div></td>\n      <td><div class=\"not-number\">9h</div></td>\n      <td><div class=\"not-number\">9h</div></td>\n      <td><div class=\"not-number\">9h</div></td>\n      <td><div class=\"not-number\">9h</div></td>\n      <td><div class=\"not-number\">9h</div></td>\n      <td><div class=\"not-number\">9h</div></td>\n      <td><div class=\"not-number\">9h</div></td>\n      <td><div class=\"not-number\">9h</div></td>\n      <td><div class=\"not-number\">9h</div></td>\n      <td><div class=\"not-number\">9h</div></td>\n      <td><div class=\"not-number\">9h</div></td>\n      <td><div class=\"not-number\">9h</div></td>\n      <td><div class=\"not-number\">9h</div></td>\n      <td><div class=\"not-number\">9h</div></td>\n      <td><div class=\"not-number\">9h</div></td>\n      <td><div class=\"not-number\">9h</div></td>\n      <td><div class=\"not-number\">9h</div></td>\n      <td><div class=\"not-number\">9h</div></td>\n    </tr>\n    <tr>\n      <th>b_6</th>\n      <td><div class=\"not-number\">9h</div></td>\n      <td><div class=\"not-number\">9h</div></td>\n      <td><div class=\"not-number\">9h</div></td>\n      <td><div class=\"not-number\">9h</div></td>\n      <td><div class=\"not-number\">9h</div></td>\n      <td><div class=\"not-number\">9h</div></td>\n      <td><div class=\"not-number\">9h</div></td>\n      <td><div class=\"not-number\">9h</div></td>\n      <td><div class=\"not-number\">9h</div></td>\n      <td><div class=\"not-number\">9h</div></td>\n      <td><div class=\"not-number\">9h</div></td>\n      <td><div class=\"not-number\">9h</div></td>\n      <td><div class=\"not-number\">9h</div></td>\n      <td><div class=\"not-number\">9h</div></td>\n      <td><div class=\"not-number\">9h</div></td>\n      <td><div class=\"not-number\">9h</div></td>\n      <td><div class=\"not-number\">9h</div></td>\n      <td><div class=\"not-number\">9h</div></td>\n      <td><div class=\"not-number\">9h</div></td>\n      <td><div class=\"not-number\">9h</div></td>\n    </tr>\n    <tr>\n      <th>n_1</th>\n      <td><div class=\"not-number\">9</div></td>\n      <td><div class=\"not-number\">9</div></td>\n      <td><div class=\"not-number\">9</div></td>\n      <td><div class=\"not-number\">9</div></td>\n      <td><div class=\"not-number\">9</div></td>\n      <td><div class=\"not-number\">9</div></td>\n      <td><div class=\"not-number\">9</div></td>\n      <td><div class=\"not-number\">9</div></td>\n      <td><div class=\"not-number\">9</div></td>\n      <td><div class=\"not-number\">9</div></td>\n      <td><div class=\"not-number\">9</div></td>\n      <td><div class=\"not-number\">9</div></td>\n      <td><div class=\"not-number\">9</div></td>\n      <td><div class=\"not-number\">9</div></td>\n      <td><div class=\"not-number\">9</div></td>\n      <td><div class=\"not-number\">9</div></td>\n      <td><div class=\"not-number\">9</div></td>\n      <td><div class=\"not-number\">9</div></td>\n      <td><div class=\"not-number\">9</div></td>\n      <td><div class=\"not-number\">9</div></td>\n    </tr>\n    <tr>\n      <th>b_5</th>\n      <td><div class=\"not-number\">9</div></td>\n      <td><div class=\"not-number\">9</div></td>\n      <td><div class=\"not-number\">9</div></td>\n      <td><div class=\"not-number\">9</div></td>\n      <td><div class=\"not-number\">9</div></td>\n      <td><div class=\"not-number\">9</div></td>\n      <td><div class=\"not-number\">9</div></td>\n      <td><div class=\"not-number\">9</div></td>\n      <td><div class=\"not-number\">9</div></td>\n      <td><div class=\"not-number\">9</div></td>\n      <td><div class=\"not-number\">9</div></td>\n      <td><div class=\"not-number\">9</div></td>\n      <td><div class=\"not-number\">9</div></td>\n      <td><div class=\"not-number\">9</div></td>\n      <td><div class=\"not-number\">9</div></td>\n      <td><div class=\"not-number\">9</div></td>\n      <td><div class=\"not-number\">9</div></td>\n      <td><div class=\"not-number\">9</div></td>\n      <td><div class=\"not-number\">9</div></td>\n      <td><div class=\"not-number\">9</div></td>\n    </tr>\n    <tr>\n      <th>b_4</th>\n      <td><div class=\"not-number\">8</div></td>\n      <td><div class=\"not-number\">8</div></td>\n      <td><div class=\"not-number\">8</div></td>\n      <td><div class=\"not-number\">8</div></td>\n      <td><div class=\"not-number\">8</div></td>\n      <td><div class=\"not-number\">8</div></td>\n      <td><div class=\"not-number\">8</div></td>\n      <td><div class=\"not-number\">8</div></td>\n      <td><div class=\"not-number\">8</div></td>\n      <td><div class=\"not-number\">8</div></td>\n      <td><div class=\"not-number\">8</div></td>\n      <td><div class=\"not-number\">8</div></td>\n      <td><div class=\"not-number\">8</div></td>\n      <td><div class=\"not-number\">8</div></td>\n      <td><div class=\"not-number\">8</div></td>\n      <td><div class=\"not-number\">8</div></td>\n      <td><div class=\"not-number\">8</div></td>\n      <td><div class=\"not-number\">8</div></td>\n      <td><div class=\"not-number\">8</div></td>\n      <td><div class=\"not-number\">8</div></td>\n    </tr>\n    <tr>\n      <th>b_3</th>\n      <td><div class=\"not-number\">8</div></td>\n      <td><div class=\"not-number\">8</div></td>\n      <td><div class=\"not-number\">8</div></td>\n      <td><div class=\"not-number\">8</div></td>\n      <td><div class=\"not-number\">8</div></td>\n      <td><div class=\"not-number\">8</div></td>\n      <td><div class=\"not-number\">8</div></td>\n      <td><div class=\"not-number\">8</div></td>\n      <td><div class=\"not-number\">8</div></td>\n      <td><div class=\"not-number\">8</div></td>\n      <td><div class=\"not-number\">8</div></td>\n      <td><div class=\"not-number\">8</div></td>\n      <td><div class=\"not-number\">8</div></td>\n      <td><div class=\"not-number\">8</div></td>\n      <td><div class=\"not-number\">8</div></td>\n      <td><div class=\"not-number\">8</div></td>\n      <td><div class=\"not-number\">8</div></td>\n      <td><div class=\"not-number\">8</div></td>\n      <td><div class=\"not-number\">8</div></td>\n      <td><div class=\"not-number\">8</div></td>\n    </tr>\n    <tr>\n      <th>b_2</th>\n      <td><div class=\"not-number\">8</div></td>\n      <td><div class=\"not-number\">8</div></td>\n      <td><div class=\"not-number\">8</div></td>\n      <td><div class=\"not-number\">8</div></td>\n      <td><div class=\"not-number\">8</div></td>\n      <td><div class=\"not-number\">8</div></td>\n      <td><div class=\"not-number\">8</div></td>\n      <td><div class=\"not-number\">8</div></td>\n      <td><div class=\"not-number\">8</div></td>\n      <td><div class=\"not-number\">8</div></td>\n      <td><div class=\"not-number\">8</div></td>\n      <td><div class=\"not-number\">8</div></td>\n      <td><div class=\"not-number\">8</div></td>\n      <td><div class=\"not-number\">8</div></td>\n      <td><div class=\"not-number\">8</div></td>\n      <td><div class=\"not-number\">8</div></td>\n      <td><div class=\"not-number\">8</div></td>\n      <td><div class=\"not-number\">8</div></td>\n      <td><div class=\"not-number\">8</div></td>\n      <td><div class=\"not-number\">8</div></td>\n    </tr>\n    <tr>\n      <th>b_1</th>\n      <td><div class=\"not-number\">0</div></td>\n      <td><div class=\"not-number\">0</div></td>\n      <td><div class=\"not-number\">0</div></td>\n      <td><div class=\"not-number\">0</div></td>\n      <td><div class=\"not-number\">0</div></td>\n      <td><div class=\"not-number\">0</div></td>\n      <td><div class=\"not-number\">0</div></td>\n      <td><div class=\"not-number\">0</div></td>\n      <td><div class=\"not-number\">0</div></td>\n      <td><div class=\"not-number\">0</div></td>\n      <td><div class=\"not-number\">0</div></td>\n      <td><div class=\"not-number\">0</div></td>\n      <td><div class=\"not-number\">0</div></td>\n      <td><div class=\"not-number\">0</div></td>\n      <td><div class=\"not-number\">0</div></td>\n      <td><div class=\"not-number\">0</div></td>\n      <td><div class=\"not-number\">0</div></td>\n      <td><div class=\"not-number\">0</div></td>\n      <td><div class=\"not-number\">0</div></td>\n      <td><div class=\"not-number\">0</div></td>\n    </tr>\n    <tr>\n      <th>f0_</th>\n      <td><div class=\"not-number\"></div></td>\n      <td><div class=\"not-number\"></div></td>\n      <td><div class=\"not-number\"></div></td>\n      <td><div class=\"not-number\"></div></td>\n      <td><div class=\"not-number\"></div></td>\n      <td><div class=\"not-number\"></div></td>\n      <td><div class=\"not-number\"></div></td>\n      <td><div class=\"not-number\"></div></td>\n      <td><div class=\"not-number\"></div></td>\n      <td><div class=\"not-number\"></div></td>\n      <td><div class=\"not-number\"></div></td>\n      <td><div class=\"not-number\"></div></td>\n      <td><div class=\"not-number\"></div></td>\n      <td><div class=\"not-number\"></div></td>\n      <td><div class=\"not-number\"></div></td>\n      <td><div class=\"not-number\"></div></td>\n      <td><div class=\"not-number\"></div></td>\n      <td><div class=\"not-number\"></div></td>\n      <td><div class=\"not-number\"></div></td>\n      <td><div class=\"not-number\"></div></td>\n    </tr>\n  </tbody>\n</table>",
      "text/plain": "                                       0                                  1                                      2                                                                     3                     4                            5                               6                                                    7                             8                           9                       10                        11                    12                                13                            14                                15                                  16                    17                    18                             19\ncommon_name         White-crowned Sparrow                      Cliff Swallow                             Bufflehead                                                          Black Phoebe         Brown Pelican  Greater White-fronted Goose                          Osprey                                      Dark-eyed Junco              American Kestrel               Varied Thrush  White-throated Sparrow           Red-tailed Hawk        Cassin's Vireo                     Mourning Dove        Orange-crowned Warbler                Black-necked Stilt                    Hairy Woodpecker      Wilson's Warbler    Band-tailed Pigeon           Ruby-crowned Kinglet\nobservation_week                        5                                 21                                      8                                                                    47                    36                            3                              18                                                   10                            43                          43                       3                        15                    18                                17                            17                                20                                  26                    19                    21                              0\nlocality_id                       L247968                           L3615819                               L2698912                                                              L6617340               L351583                      L168785                         L481707                                             L4397650                       L370676                     L661996                 L468377                  L1072372               L249749                          L2281623                       L419660                          L2288311                             L350696               L824120               L951033                        L271485\nlocality          San Bruno Mountain Park  Edwards AFB--Piute Ponds: Point 2  Ed Levin County Park--Sandy Wool area  east end of Village Lane, Cambria, California, US (35.564, -121.079)        Ventura Harbor               Sacramento NWR  Tomales Bay--Cypress Grove Pt.  Rambler Trail, Clover Valley Preserve, Grass Valley  Moss Landing--town or marina  Woodlawn Cemetery (LA Co.)   Lodi Lake Nature Area  UC Santa Barbara--Lagoon          San Luis NWR  6948 Corte Verde, Pleasanton, CA  Desert Center--Lake Tamarisk  Crittenden Marsh / Moffett Field  Pacific Grove--yard 282 Grove Acre      Kyburz Flat area      SCZ FBMP BONN 13  Arcata Marsh--Oxidation Ponds\nn_all                9q8ymyvhgm45jdxfxtrd               9qhjbq3d3r246jttgxuw                   9q9m4ftuts848bche9j6                                                  9q3fkf16yn870edeycqz  9q54y4bjq1200y3jhent         9r105vt1k1m1yh5wdt71            9qb95k1bk08427dkphpf                                 9qcyt9rgn9byr8h9fque          9q93kevf39s4rcyprb13        9q5c80b244b4cp7scxfn    9qc9pcjxegxgr1n0t0wf      9q4g8z9h1brypb7kg2wu  9qd5ehh1eyx7tu13wwsg              9q9q3cnz9uh42t3htdrr          9mvzynhp6qxbxmg4cyqx              9q9hym7wfctrj70nx2dx                9q92377vrks8c55u89p1  9r42xzebk12n0e7kvw6k  9q94sjqfndrbqvx1x1fg           9prb2k9p3489sxuygtss\nn_20                 9q8ymyvhgm45jdxfxtrd               9qhjbq3d3r246jttgxuw                   9q9m4ftuts848bche9j6                                                  9q3fkf16yn870edeycqz  9q54y4bjq1200y3jhent         9r105vt1k1m1yh5wdt71            9qb95k1bk08427dkphpf                                 9qcyt9rgn9byr8h9fque          9q93kevf39s4rcyprb13        9q5c80b244b4cp7scxfn    9qc9pcjxegxgr1n0t0wf      9q4g8z9h1brypb7kg2wu  9qd5ehh1eyx7tu13wwsg              9q9q3cnz9uh42t3htdrr          9mvzynhp6qxbxmg4cyqx              9q9hym7wfctrj70nx2dx                9q92377vrks8c55u89p1  9r42xzebk12n0e7kvw6k  9q94sjqfndrbqvx1x1fg           9prb2k9p3489sxuygtss\nb_100                9q8ymyvhgm45jdxfxtrd               9qhjbq3d3r246jttgxuw                   9q9m4ftuts848bche9j6                                                  9q3fkf16yn870edeycqz  9q54y4bjq1200y3jhent         9r105vt1k1m1yh5wdt71            9qb95k1bk08427dkphpf                                 9qcyt9rgn9byr8h9fque          9q93kevf39s4rcyprb13        9q5c80b244b4cp7scxfn    9qc9pcjxegxgr1n0t0wf      9q4g8z9h1brypb7kg2wu  9qd5ehh1eyx7tu13wwsg              9q9q3cnz9uh42t3htdrr          9mvzynhp6qxbxmg4cyqx              9q9hym7wfctrj70nx2dx                9q92377vrks8c55u89p1  9r42xzebk12n0e7kvw6k  9q94sjqfndrbqvx1x1fg           9prb2k9p3489sxuygtss\nb_99                 9q8ymyvhgm45jdxfxtrd               9qhjbq3d3r246jttgxuw                   9q9m4ftuts848bche9j6                                                  9q3fkf16yn870edeycqy  9q54y4bjq1200y3jhens         9r105vt1k1m1yh5wdt70            9qb95k1bk08427dkphpf                                 9qcyt9rgn9byr8h9fqud          9q93kevf39s4rcyprb12        9q5c80b244b4cp7scxfn    9qc9pcjxegxgr1n0t0wf      9q4g8z9h1brypb7kg2wu  9qd5ehh1eyx7tu13wwsf              9q9q3cnz9uh42t3htdrq          9mvzynhp6qxbxmg4cyqw              9q9hym7wfctrj70nx2dw                9q92377vrks8c55u89p0  9r42xzebk12n0e7kvw6k  9q94sjqfndrbqvx1x1ff           9prb2k9p3489sxuygtss\nb_98                 9q8ymyvhgm45jdxfxtrd               9qhjbq3d3r246jttgxuw                   9q9m4ftuts848bche9j4                                                  9q3fkf16yn870edeycqw  9q54y4bjq1200y3jhens         9r105vt1k1m1yh5wdt70            9qb95k1bk08427dkphpd                                 9qcyt9rgn9byr8h9fqud          9q93kevf39s4rcyprb10        9q5c80b244b4cp7scxfn    9qc9pcjxegxgr1n0t0wd      9q4g8z9h1brypb7kg2ws  9qd5ehh1eyx7tu13wwsd              9q9q3cnz9uh42t3htdrn          9mvzynhp6qxbxmg4cyqw              9q9hym7wfctrj70nx2dw                9q92377vrks8c55u89p0  9r42xzebk12n0e7kvw6h  9q94sjqfndrbqvx1x1fd           9prb2k9p3489sxuygtss\nb_97                 9q8ymyvhgm45jdxfxtr8               9qhjbq3d3r246jttgxus                   9q9m4ftuts848bche9j0                                                  9q3fkf16yn870edeycqs  9q54y4bjq1200y3jhens         9r105vt1k1m1yh5wdt70            9qb95k1bk08427dkphp8                                 9qcyt9rgn9byr8h9fqu8          9q93kevf39s4rcyprb10        9q5c80b244b4cp7scxfh    9qc9pcjxegxgr1n0t0w8      9q4g8z9h1brypb7kg2ws  9qd5ehh1eyx7tu13wws8              9q9q3cnz9uh42t3htdrh          9mvzynhp6qxbxmg4cyqs              9q9hym7wfctrj70nx2ds                9q92377vrks8c55u89p0  9r42xzebk12n0e7kvw6h  9q94sjqfndrbqvx1x1f8           9prb2k9p3489sxuygtss\nb_96                 9q8ymyvhgm45jdxfxtr0               9qhjbq3d3r246jttgxuh                   9q9m4ftuts848bche9j0                                                  9q3fkf16yn870edeycqh  9q54y4bjq1200y3jhenh         9r105vt1k1m1yh5wdt70            9qb95k1bk08427dkphp0                                 9qcyt9rgn9byr8h9fqu0          9q93kevf39s4rcyprb10        9q5c80b244b4cp7scxfh    9qc9pcjxegxgr1n0t0w0      9q4g8z9h1brypb7kg2wh  9qd5ehh1eyx7tu13wws0              9q9q3cnz9uh42t3htdrh          9mvzynhp6qxbxmg4cyqh              9q9hym7wfctrj70nx2dh                9q92377vrks8c55u89p0  9r42xzebk12n0e7kvw6h  9q94sjqfndrbqvx1x1f0           9prb2k9p3489sxuygtsh\nn_19                  9q8ymyvhgm45jdxfxtr                9qhjbq3d3r246jttgxu                    9q9m4ftuts848bche9j                                                   9q3fkf16yn870edeycq   9q54y4bjq1200y3jhen          9r105vt1k1m1yh5wdt7             9qb95k1bk08427dkphp                                  9qcyt9rgn9byr8h9fqu           9q93kevf39s4rcyprb1         9q5c80b244b4cp7scxf     9qc9pcjxegxgr1n0t0w       9q4g8z9h1brypb7kg2w   9qd5ehh1eyx7tu13wws               9q9q3cnz9uh42t3htdr           9mvzynhp6qxbxmg4cyq               9q9hym7wfctrj70nx2d                 9q92377vrks8c55u89p   9r42xzebk12n0e7kvw6   9q94sjqfndrbqvx1x1f            9prb2k9p3489sxuygts\nb_95                  9q8ymyvhgm45jdxfxtr                9qhjbq3d3r246jttgxu                    9q9m4ftuts848bche9j                                                   9q3fkf16yn870edeycq   9q54y4bjq1200y3jhen          9r105vt1k1m1yh5wdt7             9qb95k1bk08427dkphp                                  9qcyt9rgn9byr8h9fqu           9q93kevf39s4rcyprb1         9q5c80b244b4cp7scxf     9qc9pcjxegxgr1n0t0w       9q4g8z9h1brypb7kg2w   9qd5ehh1eyx7tu13wws               9q9q3cnz9uh42t3htdr           9mvzynhp6qxbxmg4cyq               9q9hym7wfctrj70nx2d                 9q92377vrks8c55u89p   9r42xzebk12n0e7kvw6   9q94sjqfndrbqvx1x1f            9prb2k9p3489sxuygts\nb_94                  9q8ymyvhgm45jdxfxtq                9qhjbq3d3r246jttgxu                    9q9m4ftuts848bche9h                                                   9q3fkf16yn870edeycq   9q54y4bjq1200y3jhen          9r105vt1k1m1yh5wdt6             9qb95k1bk08427dkphn                                  9qcyt9rgn9byr8h9fqu           9q93kevf39s4rcyprb0         9q5c80b244b4cp7scxf     9qc9pcjxegxgr1n0t0w       9q4g8z9h1brypb7kg2w   9qd5ehh1eyx7tu13wws               9q9q3cnz9uh42t3htdq           9mvzynhp6qxbxmg4cyq               9q9hym7wfctrj70nx2d                 9q92377vrks8c55u89n   9r42xzebk12n0e7kvw6   9q94sjqfndrbqvx1x1f            9prb2k9p3489sxuygts\nb_93                  9q8ymyvhgm45jdxfxtn                9qhjbq3d3r246jttgxs                    9q9m4ftuts848bche9h                                                   9q3fkf16yn870edeycn   9q54y4bjq1200y3jhen          9r105vt1k1m1yh5wdt4             9qb95k1bk08427dkphn                                  9qcyt9rgn9byr8h9fqs           9q93kevf39s4rcyprb0         9q5c80b244b4cp7scxd     9qc9pcjxegxgr1n0t0w       9q4g8z9h1brypb7kg2w   9qd5ehh1eyx7tu13wws               9q9q3cnz9uh42t3htdn           9mvzynhp6qxbxmg4cyn               9q9hym7wfctrj70nx2d                 9q92377vrks8c55u89n   9r42xzebk12n0e7kvw4   9q94sjqfndrbqvx1x1d            9prb2k9p3489sxuygts\nb_92                  9q8ymyvhgm45jdxfxth                9qhjbq3d3r246jttgxs                    9q9m4ftuts848bche9h                                                   9q3fkf16yn870edeych   9q54y4bjq1200y3jheh          9r105vt1k1m1yh5wdt0             9qb95k1bk08427dkphh                                  9qcyt9rgn9byr8h9fqs           9q93kevf39s4rcyprb0         9q5c80b244b4cp7scx8     9qc9pcjxegxgr1n0t0s       9q4g8z9h1brypb7kg2s   9qd5ehh1eyx7tu13wws               9q9q3cnz9uh42t3htdh           9mvzynhp6qxbxmg4cyh               9q9hym7wfctrj70nx28                 9q92377vrks8c55u89h   9r42xzebk12n0e7kvw0   9q94sjqfndrbqvx1x18            9prb2k9p3489sxuygts\nb_91                  9q8ymyvhgm45jdxfxth                9qhjbq3d3r246jttgxh                    9q9m4ftuts848bche9h                                                   9q3fkf16yn870edeych   9q54y4bjq1200y3jheh          9r105vt1k1m1yh5wdt0             9qb95k1bk08427dkphh                                  9qcyt9rgn9byr8h9fqh           9q93kevf39s4rcyprb0         9q5c80b244b4cp7scx0     9qc9pcjxegxgr1n0t0h       9q4g8z9h1brypb7kg2h   9qd5ehh1eyx7tu13wwh               9q9q3cnz9uh42t3htdh           9mvzynhp6qxbxmg4cyh               9q9hym7wfctrj70nx20                 9q92377vrks8c55u89h   9r42xzebk12n0e7kvw0   9q94sjqfndrbqvx1x10            9prb2k9p3489sxuygth\nn_2                                    9q                                 9q                                     9q                                                                    9q                    9q                           9r                              9q                                                   9q                            9q                          9q                      9q                        9q                    9q                                9q                            9m                                9q                                  9q                    9r                    9q                             9p\nb_10                                   9q                                 9q                                     9q                                                                    9q                    9q                           9r                              9q                                                   9q                            9q                          9q                      9q                        9q                    9q                                9q                            9m                                9q                                  9q                    9r                    9q                             9p\nb_9                                    9q                                 9q                                     9q                                                                    9q                    9q                           9q                              9q                                                   9q                            9q                          9q                      9q                        9q                    9q                                9q                            9k                                9q                                  9q                    9q                    9q                             9n\nb_8                                    9n                                 9n                                     9n                                                                    9n                    9n                           9n                              9n                                                   9n                            9n                          9n                      9n                        9n                    9n                                9n                            9h                                9n                                  9n                    9n                    9n                             9n\nb_7                                    9h                                 9h                                     9h                                                                    9h                    9h                           9h                              9h                                                   9h                            9h                          9h                      9h                        9h                    9h                                9h                            9h                                9h                                  9h                    9h                    9h                             9h\nb_6                                    9h                                 9h                                     9h                                                                    9h                    9h                           9h                              9h                                                   9h                            9h                          9h                      9h                        9h                    9h                                9h                            9h                                9h                                  9h                    9h                    9h                             9h\nn_1                                     9                                  9                                      9                                                                     9                     9                            9                               9                                                    9                             9                           9                       9                         9                     9                                 9                             9                                 9                                   9                     9                     9                              9\nb_5                                     9                                  9                                      9                                                                     9                     9                            9                               9                                                    9                             9                           9                       9                         9                     9                                 9                             9                                 9                                   9                     9                     9                              9\nb_4                                     8                                  8                                      8                                                                     8                     8                            8                               8                                                    8                             8                           8                       8                         8                     8                                 8                             8                                 8                                   8                     8                     8                              8\nb_3                                     8                                  8                                      8                                                                     8                     8                            8                               8                                                    8                             8                           8                       8                         8                     8                                 8                             8                                 8                                   8                     8                     8                              8\nb_2                                     8                                  8                                      8                                                                     8                     8                            8                               8                                                    8                             8                           8                       8                         8                     8                                 8                             8                                 8                                   8                     8                     8                              8\nb_1                                     0                                  0                                      0                                                                     0                     0                            0                               0                                                    0                             0                           0                       0                         0                     0                                 0                             0                                 0                                   0                     0                     0                              0\nf0_"
     },
     "execution_count": 4,
     "metadata": {},
     "output_type": "execute_result"
    }
   ],
   "source": [
    "# TODO Are these preventing bq cache hits?\n",
    "defs = '''\n",
    "\n",
    "    create temp function mul_trunc(x int64, y int64) as (\n",
    "        div(x, y) * y\n",
    "    );\n",
    "\n",
    "    # Mimic ebird_week in ebird_priors.py\n",
    "    # 'Week' like ebird barchart weeks: 4 weeks per month, where the 4th week includes all days past 28\n",
    "    #   - 0-indexed (0–47)\n",
    "    create temp function ebird_week(d date) as (\n",
    "        (extract(month from d) - 1) * 4 +\n",
    "        least(div(extract(day from d) - 1, 7), 3)\n",
    "    );\n",
    "\n",
    "    # Mimic ebird_bar_width in ebird_priors.py\n",
    "    # https://help.ebird.org/customer/portal/articles/1010553-understanding-the-ebird-bar-charts\n",
    "    # https://help.ebird.org/customer/en/portal/articles/1210247-what-is-frequency-\n",
    "    create temp function ebird_bar_width(p float64) as (\n",
    "        case\n",
    "            when p >= .600 then 9\n",
    "            when p >= .400 then 8\n",
    "            when p >= .300 then 7\n",
    "            when p >= .200 then 6\n",
    "            when p >= .100 then 5\n",
    "            when p >= .050 then 4\n",
    "            when p >= .010 then 3\n",
    "            when p >= .003 then 2\n",
    "            when p >= .000 then 1\n",
    "        end\n",
    "    );\n",
    "\n",
    "    create temp function _geohash_char_at_bits(c string, char_bits int64) as (\n",
    "        # https://en.wikipedia.org/wiki/Geohash\n",
    "        substr(\n",
    "            case char_bits\n",
    "                when 0 then '0123456789bcdefghjkmnpqrstuvwxyz'\n",
    "                when 1 then '0000000000000000hhhhhhhhhhhhhhhh'\n",
    "                when 2 then '0000000088888888hhhhhhhhssssssss'\n",
    "                when 3 then '000044448888ddddhhhhnnnnsssswwww'\n",
    "                when 4 then '0022446688bbddffhhkknnqqssuuwwyy'\n",
    "            end,\n",
    "            strpos('0123456789bcdefghjkmnpqrstuvwxyz', c),\n",
    "            1\n",
    "        )\n",
    "    );\n",
    "\n",
    "    create temp function geohash_at_bits(geo geography, bits int64) as (\n",
    "        case\n",
    "            # Guard against bits > 100 since st_geohash returns max 20 chars (* 5 = 100 bits)\n",
    "            when not (0 < bits and bits <= 100) then error(format('Expected 0 < bits[%d] <= 100', bits))\n",
    "            else concat(\n",
    "                # All but last char in geohash ((bits - 1) // 5)\n",
    "                #   - Manually substr(st_geohash(geo, 20), ...) to avoid st_geohash(geo, 0), which returns all 20 bits\n",
    "                substr(st_geohash(geo, 20), 1, div(bits - 1, 5)),\n",
    "                # Last char in geohash, truncated to remaining bits (% 5)\n",
    "                _geohash_char_at_bits(\n",
    "                    substr(st_geohash(geo, div(bits - 1, 5) + 1), -1, 1),\n",
    "                    mod(bits, 5)\n",
    "                )\n",
    "            )\n",
    "        end\n",
    "    );\n",
    "\n",
    "'''\n",
    "\n",
    "# Inspect defs\n",
    "#   - TODO Add some asserts\n",
    "(bqq(defs=defs, sql='''\n",
    "    select\n",
    "        common_name,\n",
    "        ebird_week(observation_date) as observation_week,\n",
    "        locality_id,\n",
    "        locality,\n",
    "        st_geohash(st_geogpoint(longitude, latitude))           as n_all,\n",
    "        st_geohash(st_geogpoint(longitude, latitude), 20)       as n_20,\n",
    "        geohash_at_bits(st_geogpoint(longitude, latitude), 100) as b_100,\n",
    "        geohash_at_bits(st_geogpoint(longitude, latitude), 99)  as b_99,\n",
    "        geohash_at_bits(st_geogpoint(longitude, latitude), 98)  as b_98,\n",
    "        geohash_at_bits(st_geogpoint(longitude, latitude), 97)  as b_97,\n",
    "        geohash_at_bits(st_geogpoint(longitude, latitude), 96)  as b_96,\n",
    "        st_geohash(st_geogpoint(longitude, latitude), 19)       as n_19,\n",
    "        geohash_at_bits(st_geogpoint(longitude, latitude), 95)  as b_95,\n",
    "        geohash_at_bits(st_geogpoint(longitude, latitude), 94)  as b_94,\n",
    "        geohash_at_bits(st_geogpoint(longitude, latitude), 93)  as b_93,\n",
    "        geohash_at_bits(st_geogpoint(longitude, latitude), 92)  as b_92,\n",
    "        geohash_at_bits(st_geogpoint(longitude, latitude), 91)  as b_91,\n",
    "        st_geohash(st_geogpoint(longitude, latitude), 2)        as n_2,\n",
    "        geohash_at_bits(st_geogpoint(longitude, latitude), 10)  as b_10,\n",
    "        geohash_at_bits(st_geogpoint(longitude, latitude), 9)   as b_9,\n",
    "        geohash_at_bits(st_geogpoint(longitude, latitude), 8)   as b_8,\n",
    "        geohash_at_bits(st_geogpoint(longitude, latitude), 7)   as b_7,\n",
    "        geohash_at_bits(st_geogpoint(longitude, latitude), 6)   as b_6,\n",
    "        st_geohash(st_geogpoint(longitude, latitude), 1)        as n_1,\n",
    "        geohash_at_bits(st_geogpoint(longitude, latitude), 5)   as b_5,\n",
    "        geohash_at_bits(st_geogpoint(longitude, latitude), 4)   as b_4,\n",
    "        geohash_at_bits(st_geogpoint(longitude, latitude), 3)   as b_3,\n",
    "        geohash_at_bits(st_geogpoint(longitude, latitude), 2)   as b_2,\n",
    "        geohash_at_bits(st_geogpoint(longitude, latitude), 1)   as b_1,\n",
    "        # count(*) as n,\n",
    "        ''\n",
    "    from ebird.obs_sample_001\n",
    "    where true\n",
    "        and state_code = 'US-CA'\n",
    "        and category in ('species', 'issf', 'form', 'intergrade')\n",
    "    # group by 1,2,3,4,5,6,7,8,9\n",
    "    order by rand()\n",
    "    limit 20\n",
    "''')\n",
    "    .T\n",
    ")"
   ]
  },
  {
   "cell_type": "code",
   "execution_count": null,
   "metadata": {
    "time": "2.436s"
   },
   "outputs": [
    {
     "name": "stdout",
     "output_type": "stream",
     "text": "Running query..."
    },
    {
     "name": "stdout",
     "output_type": "stream",
     "text": "\n"
    },
    {
     "name": "stdout",
     "output_type": "stream",
     "text": "[2s] cost[cached] rows[2] size[0 B] url[https://console.cloud.google.com/bigquery?project=bubo-1&j=bq:US:job_S3-PifTDBKiV7M_dd1-wfvJFZggE&page=queryresults]"
    },
    {
     "name": "stdout",
     "output_type": "stream",
     "text": "\n"
    },
    {
     "name": "stdout",
     "output_type": "stream",
     "text": "Fetching results..."
    },
    {
     "name": "stdout",
     "output_type": "stream",
     "text": "\n"
    },
    {
     "name": "stdout",
     "output_type": "stream",
     "text": "[0s]"
    },
    {
     "name": "stdout",
     "output_type": "stream",
     "text": "\n"
    },
    {
     "data": {
      "text/plain": "(2, 4)"
     },
     "metadata": {},
     "output_type": "display_data",
     "transient": {}
    },
    {
     "data": {
      "text/html": "<table border=\"1\" class=\"dataframe\">\n  <thead>\n    <tr style=\"text-align: right;\">\n      <th></th>\n      <th>category</th>\n      <th>common_name</th>\n      <th>com_name</th>\n      <th>shorthand</th>\n    </tr>\n  </thead>\n  <tbody>\n    <tr>\n      <th>0</th>\n      <td><div class=\"not-number\">form</div></td>\n      <td><div class=\"not-number\">Leach's/Townsend's Storm-Petrel (dark-rumped)</div></td>\n      <td><div class=\"not-number\"></div></td>\n      <td><div class=\"not-number\"></div></td>\n    </tr>\n    <tr>\n      <th>1</th>\n      <td><div class=\"not-number\">form</div></td>\n      <td><div class=\"not-number\">Leach's/Townsend's Storm-Petrel (white-rumped)</div></td>\n      <td><div class=\"not-number\"></div></td>\n      <td><div class=\"not-number\"></div></td>\n    </tr>\n  </tbody>\n</table>",
      "text/plain": "  category                                     common_name com_name shorthand\n0     form   Leach's/Townsend's Storm-Petrel (dark-rumped)                   \n1     form  Leach's/Townsend's Storm-Petrel (white-rumped)"
     },
     "execution_count": 312,
     "metadata": {},
     "output_type": "execute_result"
    }
   ],
   "source": [
    "# For join with metadata.ebird.shorthand, ensure no/few species unmapped species\n",
    "#   - cf. model.metadata.com_names_to_species\n",
    "(bqq('''\n",
    "    with ebird_species as (\n",
    "        select distinct\n",
    "            common_name,\n",
    "            category\n",
    "        from ebird.obs_all_expensive\n",
    "        where true\n",
    "            and category in ('species', 'issf', 'form', 'intergrade')\n",
    "            and country_code = 'US'\n",
    "    )\n",
    "    select\n",
    "        category,\n",
    "        common_name,\n",
    "        com_name,\n",
    "        shorthand\n",
    "    from ebird_species e\n",
    "        left join metadata.species s on (e.common_name = s.com_name)\n",
    "    where true\n",
    "        and (common_name is null or com_name is null)\n",
    "''')\n",
    "    .pipe(df_inspect, lambda df: (df.shape,))\n",
    "    .fillna('')\n",
    ")"
   ]
  },
  {
   "cell_type": "markdown",
   "metadata": {},
   "source": [
    "# Basic stats"
   ]
  },
  {
   "cell_type": "code",
   "execution_count": null,
   "metadata": {
    "time": "2.164s"
   },
   "outputs": [
    {
     "name": "stdout",
     "output_type": "stream",
     "text": "Running query..."
    },
    {
     "name": "stdout",
     "output_type": "stream",
     "text": "\n"
    },
    {
     "name": "stdout",
     "output_type": "stream",
     "text": "[1s] cost[cached] rows[1] url[https://console.cloud.google.com/bigquery?project=bubo-1&j=bq:US:job_P_-fB-hEzYXy1c6cdXk7WbhTnKMy&page=queryresults]"
    },
    {
     "name": "stdout",
     "output_type": "stream",
     "text": "\n"
    },
    {
     "name": "stdout",
     "output_type": "stream",
     "text": "Fetching results..."
    },
    {
     "name": "stdout",
     "output_type": "stream",
     "text": "\n"
    },
    {
     "name": "stdout",
     "output_type": "stream",
     "text": "[1s]"
    },
    {
     "name": "stdout",
     "output_type": "stream",
     "text": "\n"
    },
    {
     "data": {
      "text/html": "<table border=\"1\" class=\"dataframe\">\n  <thead>\n    <tr style=\"text-align: right;\">\n      <th></th>\n      <th>0</th>\n    </tr>\n  </thead>\n  <tbody>\n    <tr>\n      <th>n</th>\n      <td>508111445</td>\n    </tr>\n    <tr>\n      <th>n_checklists</th>\n      <td>36812628</td>\n    </tr>\n    <tr>\n      <th>n_hotspots</th>\n      <td>5710382</td>\n    </tr>\n    <tr>\n      <th>n_species</th>\n      <td>11726</td>\n    </tr>\n    <tr>\n      <th>f0_</th>\n      <td><div class=\"not-number\"></div></td>\n    </tr>\n  </tbody>\n</table>",
      "text/plain": "                      0\nn             508111445\nn_checklists   36812628\nn_hotspots      5710382\nn_species         11726\nf0_"
     },
     "execution_count": 252,
     "metadata": {},
     "output_type": "execute_result"
    }
   ],
   "source": [
    "# WARNING $0.09\n",
    "# How many obs, checklists, hotspots, species?\n",
    "(bqq('''\n",
    "    select\n",
    "        count(*)                                  as n,\n",
    "        count(distinct sampling_event_identifier) as n_checklists,\n",
    "        count(distinct locality_id)               as n_hotspots,\n",
    "        count(distinct common_name)               as n_species,\n",
    "        ''\n",
    "    from ebird.obs_all_expensive\n",
    "''')\n",
    "    .T\n",
    ")"
   ]
  },
  {
   "cell_type": "code",
   "execution_count": null,
   "metadata": {
    "time": "3.697s"
   },
   "outputs": [
    {
     "name": "stdout",
     "output_type": "stream",
     "text": "Running query..."
    },
    {
     "name": "stdout",
     "output_type": "stream",
     "text": "\n"
    },
    {
     "name": "stdout",
     "output_type": "stream",
     "text": "[3s] cost[$0.0092, 2.0 GB] rows[10] url[https://console.cloud.google.com/bigquery?project=bubo-1&j=bq:US:job_puyHAyw2hV3s481S0FqgF08oaXxd&page=queryresults]"
    },
    {
     "name": "stdout",
     "output_type": "stream",
     "text": "\n"
    },
    {
     "name": "stdout",
     "output_type": "stream",
     "text": "Fetching results..."
    },
    {
     "name": "stdout",
     "output_type": "stream",
     "text": "\n"
    },
    {
     "name": "stdout",
     "output_type": "stream",
     "text": "[1s]"
    },
    {
     "name": "stdout",
     "output_type": "stream",
     "text": "\n"
    },
    {
     "data": {
      "text/html": "<table border=\"1\" class=\"dataframe\">\n  <thead>\n    <tr style=\"text-align: right;\">\n      <th></th>\n      <th>country_code</th>\n      <th>n_obs</th>\n      <th>total_obs</th>\n    </tr>\n  </thead>\n  <tbody>\n    <tr>\n      <th>0</th>\n      <td><div class=\"not-number\">US</div></td>\n      <td>362480201</td>\n      <td>508111445</td>\n    </tr>\n    <tr>\n      <th>1</th>\n      <td><div class=\"not-number\">CA</div></td>\n      <td>50217998</td>\n      <td>508111445</td>\n    </tr>\n    <tr>\n      <th>2</th>\n      <td><div class=\"not-number\">AU</div></td>\n      <td>14418719</td>\n      <td>508111445</td>\n    </tr>\n    <tr>\n      <th>3</th>\n      <td><div class=\"not-number\">IN</div></td>\n      <td>10349707</td>\n      <td>508111445</td>\n    </tr>\n    <tr>\n      <th>4</th>\n      <td><div class=\"not-number\">MX</div></td>\n      <td>6293521</td>\n      <td>508111445</td>\n    </tr>\n    <tr>\n      <th>5</th>\n      <td><div class=\"not-number\">CR</div></td>\n      <td>4931603</td>\n      <td>508111445</td>\n    </tr>\n    <tr>\n      <th>6</th>\n      <td><div class=\"not-number\">GB</div></td>\n      <td>4471881</td>\n      <td>508111445</td>\n    </tr>\n    <tr>\n      <th>7</th>\n      <td><div class=\"not-number\">ES</div></td>\n      <td>3897594</td>\n      <td>508111445</td>\n    </tr>\n    <tr>\n      <th>8</th>\n      <td><div class=\"not-number\">PT</div></td>\n      <td>3345458</td>\n      <td>508111445</td>\n    </tr>\n    <tr>\n      <th>9</th>\n      <td><div class=\"not-number\">BR</div></td>\n      <td>3210548</td>\n      <td>508111445</td>\n    </tr>\n  </tbody>\n</table>",
      "text/plain": "  country_code      n_obs  total_obs\n0           US  362480201  508111445\n1           CA   50217998  508111445\n2           AU   14418719  508111445\n3           IN   10349707  508111445\n4           MX    6293521  508111445\n5           CR    4931603  508111445\n6           GB    4471881  508111445\n7           ES    3897594  508111445\n8           PT    3345458  508111445\n9           BR    3210548  508111445"
     },
     "execution_count": 253,
     "metadata": {},
     "output_type": "execute_result"
    }
   ],
   "source": [
    "# WARNING $0.01\n",
    "# How many obs by country?\n",
    "#   - 362m/508m in US\n",
    "#   -  50m/508m is next biggest country\n",
    "bqq('''\n",
    "    select\n",
    "        country_code,\n",
    "        count(*) n_obs,\n",
    "        sum(count(*)) over () total_obs\n",
    "    from ebird.obs_all_expensive\n",
    "    group by 1\n",
    "    order by 2 desc\n",
    "    limit 10\n",
    "''')"
   ]
  },
  {
   "cell_type": "code",
   "execution_count": null,
   "metadata": {
    "time": "34.85s"
   },
   "outputs": [
    {
     "name": "stdout",
     "output_type": "stream",
     "text": "Running query..."
    },
    {
     "name": "stdout",
     "output_type": "stream",
     "text": "\n"
    },
    {
     "name": "stdout",
     "output_type": "stream",
     "text": "[34s] cost[$0.0370, 8.1 GB] rows[1] url[https://console.cloud.google.com/bigquery?project=bubo-1&j=bq:US:job_L28ABB9d5C10VhwDEa_I3I55809e&page=queryresults]"
    },
    {
     "name": "stdout",
     "output_type": "stream",
     "text": "\n"
    },
    {
     "name": "stdout",
     "output_type": "stream",
     "text": "Fetching results..."
    },
    {
     "name": "stdout",
     "output_type": "stream",
     "text": "\n"
    },
    {
     "name": "stdout",
     "output_type": "stream",
     "text": "[1s]"
    },
    {
     "name": "stdout",
     "output_type": "stream",
     "text": "\n"
    },
    {
     "data": {
      "text/html": "<table border=\"1\" class=\"dataframe\">\n  <thead>\n    <tr style=\"text-align: right;\">\n      <th></th>\n      <th>0</th>\n    </tr>\n  </thead>\n  <tbody>\n    <tr>\n      <th>n</th>\n      <td>508111445</td>\n    </tr>\n    <tr>\n      <th>n_geohash_0_4mi</th>\n      <td>2946715</td>\n    </tr>\n    <tr>\n      <th>n_geohash_0_8mi</th>\n      <td>2041719</td>\n    </tr>\n    <tr>\n      <th>n_geohash_1_5mi</th>\n      <td>1239658</td>\n    </tr>\n    <tr>\n      <th>n_geohash_3mi</th>\n      <td>666661</td>\n    </tr>\n    <tr>\n      <th>n_geohash_6mi</th>\n      <td>324744</td>\n    </tr>\n    <tr>\n      <th>n_geohash_12mi</th>\n      <td>146243</td>\n    </tr>\n    <tr>\n      <th>n_geohash_24mi</th>\n      <td>62410</td>\n    </tr>\n    <tr>\n      <th>n_geohash_48mi</th>\n      <td>25512</td>\n    </tr>\n    <tr>\n      <th>n_geohash_97mi</th>\n      <td>10065</td>\n    </tr>\n    <tr>\n      <th>n_geohash_194mi</th>\n      <td>3760</td>\n    </tr>\n    <tr>\n      <th>f0_</th>\n      <td><div class=\"not-number\"></div></td>\n    </tr>\n  </tbody>\n</table>",
      "text/plain": "                         0\nn                508111445\nn_geohash_0_4mi    2946715\nn_geohash_0_8mi    2041719\nn_geohash_1_5mi    1239658\nn_geohash_3mi       666661\nn_geohash_6mi       324744\nn_geohash_12mi      146243\nn_geohash_24mi       62410\nn_geohash_48mi       25512\nn_geohash_97mi       10065\nn_geohash_194mi       3760\nf0_"
     },
     "execution_count": 254,
     "metadata": {},
     "output_type": "execute_result"
    }
   ],
   "source": [
    "# WARNING $0.04\n",
    "# How many unique geohashes, at various precisions?\n",
    "#   - See ebird_priors.py for bits:mi mapping (EbirdPriors._loc_binwidths)\n",
    "(bqq(defs=defs, sql='''\n",
    "    select\n",
    "        count(*)                                                               as n,\n",
    "        count(distinct geohash_at_bits(st_geogpoint(longitude, latitude), 31)) as n_geohash_0_4mi,\n",
    "        count(distinct geohash_at_bits(st_geogpoint(longitude, latitude), 29)) as n_geohash_0_8mi,\n",
    "        count(distinct geohash_at_bits(st_geogpoint(longitude, latitude), 27)) as n_geohash_1_5mi,\n",
    "        count(distinct geohash_at_bits(st_geogpoint(longitude, latitude), 25)) as n_geohash_3mi,\n",
    "        count(distinct geohash_at_bits(st_geogpoint(longitude, latitude), 23)) as n_geohash_6mi,\n",
    "        count(distinct geohash_at_bits(st_geogpoint(longitude, latitude), 21)) as n_geohash_12mi,\n",
    "        count(distinct geohash_at_bits(st_geogpoint(longitude, latitude), 19)) as n_geohash_24mi,\n",
    "        count(distinct geohash_at_bits(st_geogpoint(longitude, latitude), 17)) as n_geohash_48mi,\n",
    "        count(distinct geohash_at_bits(st_geogpoint(longitude, latitude), 15)) as n_geohash_97mi,\n",
    "        count(distinct geohash_at_bits(st_geogpoint(longitude, latitude), 13)) as n_geohash_194mi,\n",
    "        ''\n",
    "    from ebird.obs_all_expensive\n",
    "''')\n",
    "    .T\n",
    ")"
   ]
  },
  {
   "cell_type": "markdown",
   "metadata": {},
   "source": [
    "# Priors: Start with something simple"
   ]
  },
  {
   "cell_type": "code",
   "execution_count": null,
   "metadata": {
    "time": "6.653s"
   },
   "outputs": [
    {
     "name": "stdout",
     "output_type": "stream",
     "text": "  tableId   Type    Labels   Time Partitioning  \r\n --------- ------- -------- ------------------- \r\n  species   TABLE                               \r\n"
    },
    {
     "name": "stdout",
     "output_type": "stream",
     "text": "           tableId             Type    Labels   Time Partitioning  \r\n ---------------------------- ------- -------- ------------------- \r\n  _rec_count_per_species_csv   TABLE                               \r\n  n_recs_per_species           VIEW                                \r\n"
    },
    {
     "name": "stdout",
     "output_type": "stream",
     "text": "            tableId              Type    Labels   Time Partitioning  \r\n ------------------------------ ------- -------- ------------------- \r\n  _ebd_relMay_2018_txt           TABLE                               \r\n  _ebd_relMay_2018_txt_001       TABLE                               \r\n  _ebd_relMay_2018_txt_1000      TABLE                               \r\n  _ebd_relMay_2018_txt_1000000   TABLE                               \r\n  _ws1_1_taxa_species_csv        TABLE                               \r\n  checklist_species_us_az        TABLE                               \r\n  checklist_species_us_az_trip   TABLE                               \r\n  obs_all_expensive              VIEW                                \r\n  obs_sample_001                 VIEW                                \r\n  ws1_1_taxa_species             VIEW                                \r\n"
    }
   ],
   "source": [
    "# Inspect available tables\n",
    "!bq ls metadata\n",
    "!bq ls xc\n",
    "!bq ls ebird"
   ]
  },
  {
   "cell_type": "code",
   "execution_count": null,
   "metadata": {
    "time": "4.274s"
   },
   "outputs": [
    {
     "name": "stdout",
     "output_type": "stream",
     "text": "Running query..."
    },
    {
     "name": "stdout",
     "output_type": "stream",
     "text": "\n"
    },
    {
     "name": "stdout",
     "output_type": "stream",
     "text": "[3s] cost[$0.0009, 203.6 MB] rows[20] url[https://console.cloud.google.com/bigquery?project=bubo-1&j=bq:US:job_2rqkj81cTvvGxtHq3jTmBIHeBWWl&page=queryresults]"
    },
    {
     "name": "stdout",
     "output_type": "stream",
     "text": "\n"
    },
    {
     "name": "stdout",
     "output_type": "stream",
     "text": "Fetching results..."
    },
    {
     "name": "stdout",
     "output_type": "stream",
     "text": "\n"
    },
    {
     "name": "stdout",
     "output_type": "stream",
     "text": "[1s]"
    },
    {
     "name": "stdout",
     "output_type": "stream",
     "text": "\n"
    },
    {
     "data": {
      "text/html": "<table border=\"1\" class=\"dataframe\">\n  <thead>\n    <tr style=\"text-align: right;\">\n      <th></th>\n      <th>global_unique_identifier</th>\n      <th>last_edited_date</th>\n      <th>taxonomic_order</th>\n      <th>category</th>\n      <th>common_name</th>\n      <th>scientific_name</th>\n      <th>subspecies_common_name</th>\n      <th>subspecies_scientific_name</th>\n      <th>observation_count</th>\n      <th>breeding_bird_atlas_code</th>\n      <th>breeding_bird_atlas_category</th>\n      <th>age_sex</th>\n      <th>country</th>\n      <th>country_code</th>\n      <th>state</th>\n      <th>state_code</th>\n      <th>county</th>\n      <th>county_code</th>\n      <th>iba_code</th>\n      <th>bcr_code</th>\n      <th>usfws_code</th>\n      <th>atlas_block</th>\n      <th>locality</th>\n      <th>locality_id</th>\n      <th>_locality_type</th>\n      <th>latitude</th>\n      <th>longitude</th>\n      <th>observation_date</th>\n      <th>time_observations_started</th>\n      <th>observer_id</th>\n      <th>sampling_event_identifier</th>\n      <th>protocol_type</th>\n      <th>protocol_code</th>\n      <th>project_code</th>\n      <th>duration_minutes</th>\n      <th>effort_distance_km</th>\n      <th>effort_area_ha</th>\n      <th>number_observers</th>\n      <th>all_species_reported</th>\n      <th>group_identifier</th>\n      <th>has_media</th>\n      <th>approved</th>\n      <th>reviewed</th>\n      <th>reason</th>\n      <th>trip_comments</th>\n      <th>species_comments</th>\n    </tr>\n  </thead>\n  <tbody>\n    <tr>\n      <th>0</th>\n      <td><div class=\"not-number\">URN:CornellLabOfOrnithology:EBIRD:OBS169396759</div></td>\n      <td><div class=\"not-number\">2016-08-09 15:15:45</div></td>\n      <td>30000.0</td>\n      <td><div class=\"not-number\">species</div></td>\n      <td><div class=\"not-number\">White-crowned Sparrow</div></td>\n      <td><div class=\"not-number\">Zonotrichia leucophrys</div></td>\n      <td><div class=\"not-number\">None</div></td>\n      <td><div class=\"not-number\">None</div></td>\n      <td><div class=\"not-number\">20</div></td>\n      <td><div class=\"not-number\">None</div></td>\n      <td><div class=\"not-number\">None</div></td>\n      <td><div class=\"not-number\">None</div></td>\n      <td><div class=\"not-number\">United States</div></td>\n      <td><div class=\"not-number\">US</div></td>\n      <td><div class=\"not-number\">California</div></td>\n      <td><div class=\"not-number\">US-CA</div></td>\n      <td><div class=\"not-number\">Alameda</div></td>\n      <td><div class=\"not-number\">US-CA-001</div></td>\n      <td><div class=\"not-number\">None</div></td>\n      <td>NaN</td>\n      <td><div class=\"not-number\">None</div></td>\n      <td><div class=\"not-number\">None</div></td>\n      <td><div class=\"not-number\">San Lorenzo Trail-Grant Ave</div></td>\n      <td><div class=\"not-number\">L1803364</div></td>\n      <td><div class=\"not-number\">P</div></td>\n      <td>37.7</td>\n      <td>-122.0</td>\n      <td><div class=\"not-number\">2012-11-11</div></td>\n      <td><div class=\"not-number\">10:00:00</div></td>\n      <td><div class=\"not-number\">obsr293948</div></td>\n      <td><div class=\"not-number\">S12020443</div></td>\n      <td><div class=\"not-number\">Traveling</div></td>\n      <td><div class=\"not-number\">P22</div></td>\n      <td><div class=\"not-number\">EBIRD</div></td>\n      <td>25.0</td>\n      <td>0.201</td>\n      <td>NaN</td>\n      <td>3.0</td>\n      <td>1</td>\n      <td><div class=\"not-number\">G576066</div></td>\n      <td>0</td>\n      <td>1</td>\n      <td>0</td>\n      <td><div class=\"not-number\">None</div></td>\n      <td><div class=\"not-number\">None</div></td>\n      <td><div class=\"not-number\">None</div></td>\n    </tr>\n    <tr>\n      <th>1</th>\n      <td><div class=\"not-number\">URN:CornellLabOfOrnithology:EBIRD:OBS152695281</div></td>\n      <td><div class=\"not-number\">2016-08-09 15:25:47</div></td>\n      <td>8910.0</td>\n      <td><div class=\"not-number\">species</div></td>\n      <td><div class=\"not-number\">Anna's Hummingbird</div></td>\n      <td><div class=\"not-number\">Calypte anna</div></td>\n      <td><div class=\"not-number\">None</div></td>\n      <td><div class=\"not-number\">None</div></td>\n      <td><div class=\"not-number\">1</div></td>\n      <td><div class=\"not-number\">None</div></td>\n      <td><div class=\"not-number\">None</div></td>\n      <td><div class=\"not-number\">None</div></td>\n      <td><div class=\"not-number\">United States</div></td>\n      <td><div class=\"not-number\">US</div></td>\n      <td><div class=\"not-number\">California</div></td>\n      <td><div class=\"not-number\">US-CA</div></td>\n      <td><div class=\"not-number\">Contra Costa</div></td>\n      <td><div class=\"not-number\">US-CA-013</div></td>\n      <td><div class=\"not-number\">None</div></td>\n      <td>32.0</td>\n      <td><div class=\"not-number\">None</div></td>\n      <td><div class=\"not-number\">None</div></td>\n      <td><div class=\"not-number\">EBMUD--Valle Vista Staging Area (permit required)</div></td>\n      <td><div class=\"not-number\">L596210</div></td>\n      <td><div class=\"not-number\">H</div></td>\n      <td>37.8</td>\n      <td>-122.0</td>\n      <td><div class=\"not-number\">2012-05-13</div></td>\n      <td><div class=\"not-number\">09:20:00</div></td>\n      <td><div class=\"not-number\">obsr58810</div></td>\n      <td><div class=\"not-number\">S10734725</div></td>\n      <td><div class=\"not-number\">Traveling</div></td>\n      <td><div class=\"not-number\">P22</div></td>\n      <td><div class=\"not-number\">EBIRD</div></td>\n      <td>65.0</td>\n      <td>0.483</td>\n      <td>NaN</td>\n      <td>1.0</td>\n      <td>1</td>\n      <td><div class=\"not-number\">None</div></td>\n      <td>0</td>\n      <td>1</td>\n      <td>0</td>\n      <td><div class=\"not-number\">None</div></td>\n      <td><div class=\"not-number\">None</div></td>\n      <td><div class=\"not-number\">None</div></td>\n    </tr>\n    <tr>\n      <th>2</th>\n      <td><div class=\"not-number\">URN:CornellLabOfOrnithology:EBIRD:OBS158990811</div></td>\n      <td><div class=\"not-number\">2012-07-18 16:53:58</div></td>\n      <td>14900.0</td>\n      <td><div class=\"not-number\">species</div></td>\n      <td><div class=\"not-number\">Ash-throated Flycatcher</div></td>\n      <td><div class=\"not-number\">Myiarchus cinerascens</div></td>\n      <td><div class=\"not-number\">None</div></td>\n      <td><div class=\"not-number\">None</div></td>\n      <td><div class=\"not-number\">1</div></td>\n      <td><div class=\"not-number\">None</div></td>\n      <td><div class=\"not-number\">None</div></td>\n      <td><div class=\"not-number\">None</div></td>\n      <td><div class=\"not-number\">United States</div></td>\n      <td><div class=\"not-number\">US</div></td>\n      <td><div class=\"not-number\">California</div></td>\n      <td><div class=\"not-number\">US-CA</div></td>\n      <td><div class=\"not-number\">El Dorado</div></td>\n      <td><div class=\"not-number\">US-CA-017</div></td>\n      <td><div class=\"not-number\">None</div></td>\n      <td>15.0</td>\n      <td><div class=\"not-number\">None</div></td>\n      <td><div class=\"not-number\">None</div></td>\n      <td><div class=\"not-number\">Mt. Tallac Trail</div></td>\n      <td><div class=\"not-number\">L1627922</div></td>\n      <td><div class=\"not-number\">P</div></td>\n      <td>38.9</td>\n      <td>-120.0</td>\n      <td><div class=\"not-number\">2012-07-17</div></td>\n      <td><div class=\"not-number\">09:20:00</div></td>\n      <td><div class=\"not-number\">obsr150458</div></td>\n      <td><div class=\"not-number\">S11174533</div></td>\n      <td><div class=\"not-number\">Incidental</div></td>\n      <td><div class=\"not-number\">P20</div></td>\n      <td><div class=\"not-number\">EBIRD</div></td>\n      <td>NaN</td>\n      <td>NaN</td>\n      <td>NaN</td>\n      <td>2.0</td>\n      <td>1</td>\n      <td><div class=\"not-number\">None</div></td>\n      <td>0</td>\n      <td>1</td>\n      <td>0</td>\n      <td><div class=\"not-number\">None</div></td>\n      <td><div class=\"not-number\">Hike to Mt. Tallac via Mt. Tallac Trail</div></td>\n      <td><div class=\"not-number\">None</div></td>\n    </tr>\n    <tr>\n      <th>3</th>\n      <td><div class=\"not-number\">URN:CornellLabOfOrnithology:EBIRD:OBS147837396</div></td>\n      <td><div class=\"not-number\">2017-08-16 08:21:29</div></td>\n      <td>30900.0</td>\n      <td><div class=\"not-number\">species</div></td>\n      <td><div class=\"not-number\">House Finch</div></td>\n      <td><div class=\"not-number\">Haemorhous mexicanus</div></td>\n      <td><div class=\"not-number\">None</div></td>\n      <td><div class=\"not-number\">None</div></td>\n      <td><div class=\"not-number\">X</div></td>\n      <td><div class=\"not-number\">None</div></td>\n      <td><div class=\"not-number\">None</div></td>\n      <td><div class=\"not-number\">None</div></td>\n      <td><div class=\"not-number\">United States</div></td>\n      <td><div class=\"not-number\">US</div></td>\n      <td><div class=\"not-number\">California</div></td>\n      <td><div class=\"not-number\">US-CA</div></td>\n      <td><div class=\"not-number\">Humboldt</div></td>\n      <td><div class=\"not-number\">US-CA-023</div></td>\n      <td><div class=\"not-number\">US-CA_43</div></td>\n      <td>5.0</td>\n      <td><div class=\"not-number\">None</div></td>\n      <td><div class=\"not-number\">None</div></td>\n      <td><div class=\"not-number\">Arcata Marsh--Brackish Pond</div></td>\n      <td><div class=\"not-number\">L772156</div></td>\n      <td><div class=\"not-number\">H</div></td>\n      <td>40.9</td>\n      <td>-124.0</td>\n      <td><div class=\"not-number\">2012-04-09</div></td>\n      <td><div class=\"not-number\">19:00:00</div></td>\n      <td><div class=\"not-number\">obsr252573</div></td>\n      <td><div class=\"not-number\">S10410161</div></td>\n      <td><div class=\"not-number\">Stationary</div></td>\n      <td><div class=\"not-number\">P21</div></td>\n      <td><div class=\"not-number\">EBIRD</div></td>\n      <td>20.0</td>\n      <td>NaN</td>\n      <td>NaN</td>\n      <td>1.0</td>\n      <td>1</td>\n      <td><div class=\"not-number\">None</div></td>\n      <td>0</td>\n      <td>1</td>\n      <td>0</td>\n      <td><div class=\"not-number\">None</div></td>\n      <td><div class=\"not-number\">None</div></td>\n      <td><div class=\"not-number\">None</div></td>\n    </tr>\n    <tr>\n      <th>4</th>\n      <td><div class=\"not-number\">URN:CornellLabOfOrnithology:EBIRD:OBS174141474</div></td>\n      <td><div class=\"not-number\">2016-08-09 15:37:46</div></td>\n      <td>11200.0</td>\n      <td><div class=\"not-number\">species</div></td>\n      <td><div class=\"not-number\">Hairy Woodpecker</div></td>\n      <td><div class=\"not-number\">Picoides villosus</div></td>\n      <td><div class=\"not-number\">None</div></td>\n      <td><div class=\"not-number\">None</div></td>\n      <td><div class=\"not-number\">1</div></td>\n      <td><div class=\"not-number\">None</div></td>\n      <td><div class=\"not-number\">None</div></td>\n      <td><div class=\"not-number\">None</div></td>\n      <td><div class=\"not-number\">United States</div></td>\n      <td><div class=\"not-number\">US</div></td>\n      <td><div class=\"not-number\">California</div></td>\n      <td><div class=\"not-number\">US-CA</div></td>\n      <td><div class=\"not-number\">Humboldt</div></td>\n      <td><div class=\"not-number\">US-CA-023</div></td>\n      <td><div class=\"not-number\">None</div></td>\n      <td>5.0</td>\n      <td><div class=\"not-number\">None</div></td>\n      <td><div class=\"not-number\">None</div></td>\n      <td><div class=\"not-number\">Trinity River Farm</div></td>\n      <td><div class=\"not-number\">L1854380</div></td>\n      <td><div class=\"not-number\">H</div></td>\n      <td>41.0</td>\n      <td>-124.0</td>\n      <td><div class=\"not-number\">2012-12-27</div></td>\n      <td><div class=\"not-number\">12:20:00</div></td>\n      <td><div class=\"not-number\">obsr27015</div></td>\n      <td><div class=\"not-number\">S12403128</div></td>\n      <td><div class=\"not-number\">Area</div></td>\n      <td><div class=\"not-number\">P23</div></td>\n      <td><div class=\"not-number\">EBIRD</div></td>\n      <td>130.0</td>\n      <td>NaN</td>\n      <td>6.0</td>\n      <td>2.0</td>\n      <td>1</td>\n      <td><div class=\"not-number\">None</div></td>\n      <td>0</td>\n      <td>1</td>\n      <td>0</td>\n      <td><div class=\"not-number\">None</div></td>\n      <td><div class=\"not-number\">Rob Hewitt and I spent a lot of quality time here searching it a second time after David Fix and Jude Power visited in the morning. A great spot for birding with LOTS of sp...</td>\n      <td><div class=\"not-number\">None</div></td>\n    </tr>\n    <tr>\n      <th>5</th>\n      <td><div class=\"not-number\">URN:CornellLabOfOrnithology:EBIRD:OBS168359167</div></td>\n      <td><div class=\"not-number\">2012-11-03 21:11:12</div></td>\n      <td>11100.0</td>\n      <td><div class=\"not-number\">species</div></td>\n      <td><div class=\"not-number\">Downy Woodpecker</div></td>\n      <td><div class=\"not-number\">Picoides pubescens</div></td>\n      <td><div class=\"not-number\">None</div></td>\n      <td><div class=\"not-number\">None</div></td>\n      <td><div class=\"not-number\">1</div></td>\n      <td><div class=\"not-number\">None</div></td>\n      <td><div class=\"not-number\">None</div></td>\n      <td><div class=\"not-number\">None</div></td>\n      <td><div class=\"not-number\">United States</div></td>\n      <td><div class=\"not-number\">US</div></td>\n      <td><div class=\"not-number\">California</div></td>\n      <td><div class=\"not-number\">US-CA</div></td>\n      <td><div class=\"not-number\">Inyo</div></td>\n      <td><div class=\"not-number\">US-CA-027</div></td>\n      <td><div class=\"not-number\">None</div></td>\n      <td>9.0</td>\n      <td><div class=\"not-number\">None</div></td>\n      <td><div class=\"not-number\">None</div></td>\n      <td><div class=\"not-number\">Bishop City Park</div></td>\n      <td><div class=\"not-number\">L812982</div></td>\n      <td><div class=\"not-number\">H</div></td>\n      <td>37.4</td>\n      <td>-118.0</td>\n      <td><div class=\"not-number\">2012-11-02</div></td>\n      <td><div class=\"not-number\">10:00:00</div></td>\n      <td><div class=\"not-number\">obsr204942</div></td>\n      <td><div class=\"not-number\">S11948072</div></td>\n      <td><div class=\"not-number\">Traveling</div></td>\n      <td><div class=\"not-number\">P22</div></td>\n      <td><div class=\"not-number\">EBIRD</div></td>\n      <td>191.0</td>\n      <td>0.805</td>\n      <td>NaN</td>\n      <td>7.0</td>\n      <td>1</td>\n      <td><div class=\"not-number\">G484136</div></td>\n      <td>0</td>\n      <td>1</td>\n      <td>0</td>\n      <td><div class=\"not-number\">None</div></td>\n      <td><div class=\"not-number\">w/ Overholtzes, Howards & JLD</div></td>\n      <td><div class=\"not-number\">None</div></td>\n    </tr>\n    <tr>\n      <th>6</th>\n      <td><div class=\"not-number\">URN:CornellLabOfOrnithology:EBIRD:OBS163369388</div></td>\n      <td><div class=\"not-number\">2012-09-10 21:22:49</div></td>\n      <td>10900.0</td>\n      <td><div class=\"not-number\">species</div></td>\n      <td><div class=\"not-number\">Red-breasted Sapsucker</div></td>\n      <td><div class=\"not-number\">Sphyrapicus ruber</div></td>\n      <td><div class=\"not-number\">None</div></td>\n      <td><div class=\"not-number\">None</div></td>\n      <td><div class=\"not-number\">1</div></td>\n      <td><div class=\"not-number\">None</div></td>\n      <td><div class=\"not-number\">None</div></td>\n      <td><div class=\"not-number\">None</div></td>\n      <td><div class=\"not-number\">United States</div></td>\n      <td><div class=\"not-number\">US</div></td>\n      <td><div class=\"not-number\">California</div></td>\n      <td><div class=\"not-number\">US-CA</div></td>\n      <td><div class=\"not-number\">Inyo</div></td>\n      <td><div class=\"not-number\">US-CA-027</div></td>\n      <td><div class=\"not-number\">None</div></td>\n      <td>15.0</td>\n      <td><div class=\"not-number\">None</div></td>\n      <td><div class=\"not-number\">None</div></td>\n      <td><div class=\"not-number\">North Lake (INY Co.)</div></td>\n      <td><div class=\"not-number\">L955403</div></td>\n      <td><div class=\"not-number\">H</div></td>\n      <td>37.2</td>\n      <td>-119.0</td>\n      <td><div class=\"not-number\">2012-09-08</div></td>\n      <td><div class=\"not-number\">06:55:00</div></td>\n      <td><div class=\"not-number\">obsr266240</div></td>\n      <td><div class=\"not-number\">S11557977</div></td>\n      <td><div class=\"not-number\">Traveling</div></td>\n      <td><div class=\"not-number\">P22</div></td>\n      <td><div class=\"not-number\">EBIRD</div></td>\n      <td>462.0</td>\n      <td>16.100</td>\n      <td>NaN</td>\n      <td>1.0</td>\n      <td>1</td>\n      <td><div class=\"not-number\">G462502</div></td>\n      <td>0</td>\n      <td>1</td>\n      <td>0</td>\n      <td><div class=\"not-number\">None</div></td>\n      <td><div class=\"not-number\">Hike from north lake to Emerson lake <br />Submitted from BirdLog NA for iOS, version 1.4.8</div></td>\n      <td><div class=\"not-number\">None</div></td>\n    </tr>\n    <tr>\n      <th>7</th>\n      <td><div class=\"not-number\">URN:CornellLabOfOrnithology:EBIRD:OBS155916886</div></td>\n      <td><div class=\"not-number\">2016-03-16 16:34:18</div></td>\n      <td>17800.0</td>\n      <td><div class=\"not-number\">species</div></td>\n      <td><div class=\"not-number\">Warbling Vireo</div></td>\n      <td><div class=\"not-number\">Vireo gilvus</div></td>\n      <td><div class=\"not-number\">None</div></td>\n      <td><div class=\"not-number\">None</div></td>\n      <td><div class=\"not-number\">1</div></td>\n      <td><div class=\"not-number\">None</div></td>\n      <td><div class=\"not-number\">None</div></td>\n      <td><div class=\"not-number\">None</div></td>\n      <td><div class=\"not-number\">United States</div></td>\n      <td><div class=\"not-number\">US</div></td>\n      <td><div class=\"not-number\">California</div></td>\n      <td><div class=\"not-number\">US-CA</div></td>\n      <td><div class=\"not-number\">Inyo</div></td>\n      <td><div class=\"not-number\">US-CA-027</div></td>\n      <td><div class=\"not-number\">None</div></td>\n      <td>33.0</td>\n      <td><div class=\"not-number\">None</div></td>\n      <td><div class=\"not-number\">None</div></td>\n      <td><div class=\"not-number\">Mesquite Springs CG, Death VAlley CA</div></td>\n      <td><div class=\"not-number\">L1577199</div></td>\n      <td><div class=\"not-number\">P</div></td>\n      <td>37.0</td>\n      <td>-117.0</td>\n      <td><div class=\"not-number\">2012-05-08</div></td>\n      <td><div class=\"not-number\">06:10:00</div></td>\n      <td><div class=\"not-number\">obsr40579</div></td>\n      <td><div class=\"not-number\">S10949032</div></td>\n      <td><div class=\"not-number\">Traveling</div></td>\n      <td><div class=\"not-number\">P22</div></td>\n      <td><div class=\"not-number\">EBIRD</div></td>\n      <td>140.0</td>\n      <td>0.402</td>\n      <td>NaN</td>\n      <td>2.0</td>\n      <td>1</td>\n      <td><div class=\"not-number\">None</div></td>\n      <td>0</td>\n      <td>1</td>\n      <td>0</td>\n      <td><div class=\"not-number\">None</div></td>\n      <td><div class=\"not-number\">None</div></td>\n      <td><div class=\"not-number\">None</div></td>\n    </tr>\n    <tr>\n      <th>8</th>\n      <td><div class=\"not-number\">URN:CornellLabOfOrnithology:EBIRD:OBS170805557</div></td>\n      <td><div class=\"not-number\">2017-08-16 08:56:04</div></td>\n      <td>21900.0</td>\n      <td><div class=\"not-number\">species</div></td>\n      <td><div class=\"not-number\">Ruby-crowned Kinglet</div></td>\n      <td><div class=\"not-number\">Regulus calendula</div></td>\n      <td><div class=\"not-number\">None</div></td>\n      <td><div class=\"not-number\">None</div></td>\n      <td><div class=\"not-number\">2</div></td>\n      <td><div class=\"not-number\">None</div></td>\n      <td><div class=\"not-number\">None</div></td>\n      <td><div class=\"not-number\">None</div></td>\n      <td><div class=\"not-number\">United States</div></td>\n      <td><div class=\"not-number\">US</div></td>\n      <td><div class=\"not-number\">California</div></td>\n      <td><div class=\"not-number\">US-CA</div></td>\n      <td><div class=\"not-number\">Kern</div></td>\n      <td><div class=\"not-number\">US-CA-029</div></td>\n      <td><div class=\"not-number\">None</div></td>\n      <td>33.0</td>\n      <td><div class=\"not-number\">None</div></td>\n      <td><div class=\"not-number\">None</div></td>\n      <td><div class=\"not-number\">California City Central Park</div></td>\n      <td><div class=\"not-number\">L163614</div></td>\n      <td><div class=\"not-number\">H</div></td>\n      <td>35.1</td>\n      <td>-118.0</td>\n      <td><div class=\"not-number\">2012-11-10</div></td>\n      <td><div class=\"not-number\">15:45:00</div></td>\n      <td><div class=\"not-number\">obsr100605</div></td>\n      <td><div class=\"not-number\">S12153110</div></td>\n      <td><div class=\"not-number\">Traveling</div></td>\n      <td><div class=\"not-number\">P22</div></td>\n      <td><div class=\"not-number\">EBIRD</div></td>\n      <td>75.0</td>\n      <td>1.610</td>\n      <td>NaN</td>\n      <td>1.0</td>\n      <td>1</td>\n      <td><div class=\"not-number\">None</div></td>\n      <td>0</td>\n      <td>1</td>\n      <td>0</td>\n      <td><div class=\"not-number\">None</div></td>\n      <td><div class=\"not-number\">a chilly 48 F at start, dropping to 44 F by 5PM; sunset approx 4:45 PM. clear with a persistent west wind 5-15 mph. Very slow, wind and near dark hour severely limited bird...</td>\n      <td><div class=\"not-number\">None</div></td>\n    </tr>\n    <tr>\n      <th>9</th>\n      <td><div class=\"not-number\">URN:CornellLabOfOrnithology:EBIRD:OBS153940741</div></td>\n      <td><div class=\"not-number\">2012-05-22 21:12:39</div></td>\n      <td>17800.0</td>\n      <td><div class=\"not-number\">species</div></td>\n      <td><div class=\"not-number\">Warbling Vireo</div></td>\n      <td><div class=\"not-number\">Vireo gilvus</div></td>\n      <td><div class=\"not-number\">None</div></td>\n      <td><div class=\"not-number\">None</div></td>\n      <td><div class=\"not-number\">2</div></td>\n      <td><div class=\"not-number\">None</div></td>\n      <td><div class=\"not-number\">None</div></td>\n      <td><div class=\"not-number\">None</div></td>\n      <td><div class=\"not-number\">United States</div></td>\n      <td><div class=\"not-number\">US</div></td>\n      <td><div class=\"not-number\">California</div></td>\n      <td><div class=\"not-number\">US-CA</div></td>\n      <td><div class=\"not-number\">Kern</div></td>\n      <td><div class=\"not-number\">US-CA-029</div></td>\n      <td><div class=\"not-number\">None</div></td>\n      <td>33.0</td>\n      <td><div class=\"not-number\">None</div></td>\n      <td><div class=\"not-number\">None</div></td>\n      <td><div class=\"not-number\">California City Central Park</div></td>\n      <td><div class=\"not-number\">L163614</div></td>\n      <td><div class=\"not-number\">H</div></td>\n      <td>35.1</td>\n      <td>-118.0</td>\n      <td><div class=\"not-number\">2012-05-20</div></td>\n      <td><div class=\"not-number\">13:30:00</div></td>\n      <td><div class=\"not-number\">obsr193622</div></td>\n      <td><div class=\"not-number\">S10816154</div></td>\n      <td><div class=\"not-number\">Traveling</div></td>\n      <td><div class=\"not-number\">P22</div></td>\n      <td><div class=\"not-number\">EBIRD</div></td>\n      <td>120.0</td>\n      <td>1.610</td>\n      <td>NaN</td>\n      <td>6.0</td>\n      <td>1</td>\n      <td><div class=\"not-number\">G415323</div></td>\n      <td>0</td>\n      <td>1</td>\n      <td>0</td>\n      <td><div class=\"not-number\">None</div></td>\n      <td><div class=\"not-number\">SWBSC, 6 observers. Sunny, 90, Winds, 5-10. Leader: Jim Abernathy.</div></td>\n      <td><div class=\"not-number\">None</div></td>\n    </tr>\n    <tr>\n      <th>10</th>\n      <td><div class=\"not-number\">URN:CornellLabOfOrnithology:EBIRD:OBS162809200</div></td>\n      <td><div class=\"not-number\">2013-10-30 22:45:22</div></td>\n      <td>26600.0</td>\n      <td><div class=\"not-number\">species</div></td>\n      <td><div class=\"not-number\">European Starling</div></td>\n      <td><div class=\"not-number\">Sturnus vulgaris</div></td>\n      <td><div class=\"not-number\">None</div></td>\n      <td><div class=\"not-number\">None</div></td>\n      <td><div class=\"not-number\">10</div></td>\n      <td><div class=\"not-number\">None</div></td>\n      <td><div class=\"not-number\">None</div></td>\n      <td><div class=\"not-number\">None</div></td>\n      <td><div class=\"not-number\">United States</div></td>\n      <td><div class=\"not-number\">US</div></td>\n      <td><div class=\"not-number\">California</div></td>\n      <td><div class=\"not-number\">US-CA</div></td>\n      <td><div class=\"not-number\">Kern</div></td>\n      <td><div class=\"not-number\">US-CA-029</div></td>\n      <td><div class=\"not-number\">None</div></td>\n      <td>33.0</td>\n      <td><div class=\"not-number\">None</div></td>\n      <td><div class=\"not-number\">None</div></td>\n      <td><div class=\"not-number\">California City Central Park</div></td>\n      <td><div class=\"not-number\">L163614</div></td>\n      <td><div class=\"not-number\">H</div></td>\n      <td>35.1</td>\n      <td>-118.0</td>\n      <td><div class=\"not-number\">2012-09-04</div></td>\n      <td><div class=\"not-number\">08:40:00</div></td>\n      <td><div class=\"not-number\">obsr123137</div></td>\n      <td><div class=\"not-number\">S11515250</div></td>\n      <td><div class=\"not-number\">Traveling</div></td>\n      <td><div class=\"not-number\">P22</div></td>\n      <td><div class=\"not-number\">EBIRD</div></td>\n      <td>94.0</td>\n      <td>0.499</td>\n      <td>NaN</td>\n      <td>1.0</td>\n      <td>1</td>\n      <td><div class=\"not-number\">None</div></td>\n      <td>0</td>\n      <td>1</td>\n      <td>0</td>\n      <td><div class=\"not-number\">None</div></td>\n      <td><div class=\"not-number\"> <br />Submitted from BirdLog World for iOS, version 1.4.8.3</div></td>\n      <td><div class=\"not-number\">None</div></td>\n    </tr>\n    <tr>\n      <th>11</th>\n      <td><div class=\"not-number\">URN:CornellLabOfOrnithology:EBIRD:OBS158989512</div></td>\n      <td><div class=\"not-number\">2016-08-06 13:17:51</div></td>\n      <td>30400.0</td>\n      <td><div class=\"not-number\">species</div></td>\n      <td><div class=\"not-number\">Great-tailed Grackle</div></td>\n      <td><div class=\"not-number\">Quiscalus mexicanus</div></td>\n      <td><div class=\"not-number\">None</div></td>\n      <td><div class=\"not-number\">None</div></td>\n      <td><div class=\"not-number\">23</div></td>\n      <td><div class=\"not-number\">None</div></td>\n      <td><div class=\"not-number\">None</div></td>\n      <td><div class=\"not-number\">None</div></td>\n      <td><div class=\"not-number\">United States</div></td>\n      <td><div class=\"not-number\">US</div></td>\n      <td><div class=\"not-number\">California</div></td>\n      <td><div class=\"not-number\">US-CA</div></td>\n      <td><div class=\"not-number\">Kern</div></td>\n      <td><div class=\"not-number\">US-CA-029</div></td>\n      <td><div class=\"not-number\">None</div></td>\n      <td>33.0</td>\n      <td><div class=\"not-number\">None</div></td>\n      <td><div class=\"not-number\">None</div></td>\n      <td><div class=\"not-number\">California City Central Park</div></td>\n      <td><div class=\"not-number\">L163614</div></td>\n      <td><div class=\"not-number\">H</div></td>\n      <td>35.1</td>\n      <td>-118.0</td>\n      <td><div class=\"not-number\">2012-07-18</div></td>\n      <td><div class=\"not-number\">09:07:00</div></td>\n      <td><div class=\"not-number\">obsr7422</div></td>\n      <td><div class=\"not-number\">S11174434</div></td>\n      <td><div class=\"not-number\">Traveling</div></td>\n      <td><div class=\"not-number\">P22</div></td>\n      <td><div class=\"not-number\">EBIRD</div></td>\n      <td>38.0</td>\n      <td>0.483</td>\n      <td>NaN</td>\n      <td>2.0</td>\n      <td>1</td>\n      <td><div class=\"not-number\">G440254</div></td>\n      <td>0</td>\n      <td>1</td>\n      <td>0</td>\n      <td><div class=\"not-number\">None</div></td>\n      <td><div class=\"not-number\">Observers: Bob Barnes, Dave Goodward. Temperature: 72F-73F. Coverage Par 3 Golf Course along the edge of the 17th and 18th holes.</div></td>\n      <td><div class=\"not-number\">None</div></td>\n    </tr>\n    <tr>\n      <th>12</th>\n      <td><div class=\"not-number\">URN:CornellLabOfOrnithology:EBIRD:OBS167440148</div></td>\n      <td><div class=\"not-number\">2017-08-16 08:50:03</div></td>\n      <td>2230.0</td>\n      <td><div class=\"not-number\">species</div></td>\n      <td><div class=\"not-number\">Black-crowned Night-Heron</div></td>\n      <td><div class=\"not-number\">Nycticorax nycticorax</div></td>\n      <td><div class=\"not-number\">None</div></td>\n      <td><div class=\"not-number\">None</div></td>\n      <td><div class=\"not-number\">2</div></td>\n      <td><div class=\"not-number\">None</div></td>\n      <td><div class=\"not-number\">None</div></td>\n      <td><div class=\"not-number\">None</div></td>\n      <td><div class=\"not-number\">United States</div></td>\n      <td><div class=\"not-number\">US</div></td>\n      <td><div class=\"not-number\">California</div></td>\n      <td><div class=\"not-number\">US-CA</div></td>\n      <td><div class=\"not-number\">Kern</div></td>\n      <td><div class=\"not-number\">US-CA-029</div></td>\n      <td><div class=\"not-number\">None</div></td>\n      <td>33.0</td>\n      <td><div class=\"not-number\">None</div></td>\n      <td><div class=\"not-number\">None</div></td>\n      <td><div class=\"not-number\">California City Central Park</div></td>\n      <td><div class=\"not-number\">L163614</div></td>\n      <td><div class=\"not-number\">H</div></td>\n      <td>35.1</td>\n      <td>-118.0</td>\n      <td><div class=\"not-number\">2012-10-23</div></td>\n      <td><div class=\"not-number\">15:30:00</div></td>\n      <td><div class=\"not-number\">obsr48028</div></td>\n      <td><div class=\"not-number\">S11860698</div></td>\n      <td><div class=\"not-number\">Traveling</div></td>\n      <td><div class=\"not-number\">P22</div></td>\n      <td><div class=\"not-number\">EBIRD</div></td>\n      <td>100.0</td>\n      <td>0.595</td>\n      <td>NaN</td>\n      <td>4.0</td>\n      <td>1</td>\n      <td><div class=\"not-number\">G480417</div></td>\n      <td>0</td>\n      <td>1</td>\n      <td>0</td>\n      <td><div class=\"not-number\">None</div></td>\n      <td><div class=\"not-number\"><br>Submitted from BirdLog World for iOS, version 1.4.4. With Jimmy McMorran, Brennan Mulrooney, and Sid Gauthreaux.</div></td>\n      <td><div class=\"not-number\">None</div></td>\n    </tr>\n    <tr>\n      <th>13</th>\n      <td><div class=\"not-number\">URN:CornellLabOfOrnithology:EBIRD:OBS169038963</div></td>\n      <td><div class=\"not-number\">2012-11-09 17:21:19</div></td>\n      <td>27900.0</td>\n      <td><div class=\"not-number\">species</div></td>\n      <td><div class=\"not-number\">Yellow Warbler</div></td>\n      <td><div class=\"not-number\">Setophaga petechia</div></td>\n      <td><div class=\"not-number\">None</div></td>\n      <td><div class=\"not-number\">None</div></td>\n      <td><div class=\"not-number\">5</div></td>\n      <td><div class=\"not-number\">None</div></td>\n      <td><div class=\"not-number\">None</div></td>\n      <td><div class=\"not-number\">None</div></td>\n      <td><div class=\"not-number\">United States</div></td>\n      <td><div class=\"not-number\">US</div></td>\n      <td><div class=\"not-number\">California</div></td>\n      <td><div class=\"not-number\">US-CA</div></td>\n      <td><div class=\"not-number\">Kern</div></td>\n      <td><div class=\"not-number\">US-CA-029</div></td>\n      <td><div class=\"not-number\">None</div></td>\n      <td>33.0</td>\n      <td><div class=\"not-number\">None</div></td>\n      <td><div class=\"not-number\">None</div></td>\n      <td><div class=\"not-number\">Cerro Coso Community College</div></td>\n      <td><div class=\"not-number\">L384940</div></td>\n      <td><div class=\"not-number\">H</div></td>\n      <td>35.6</td>\n      <td>-118.0</td>\n      <td><div class=\"not-number\">2012-05-04</div></td>\n      <td><div class=\"not-number\">None</div></td>\n      <td><div class=\"not-number\">obsr206950</div></td>\n      <td><div class=\"not-number\">S11997222</div></td>\n      <td><div class=\"not-number\">Incidental</div></td>\n      <td><div class=\"not-number\">P20</div></td>\n      <td><div class=\"not-number\">EBIRD</div></td>\n      <td>NaN</td>\n      <td>NaN</td>\n      <td>NaN</td>\n      <td>NaN</td>\n      <td>1</td>\n      <td><div class=\"not-number\">None</div></td>\n      <td>0</td>\n      <td>1</td>\n      <td>0</td>\n      <td><div class=\"not-number\">None</div></td>\n      <td><div class=\"not-number\">None</div></td>\n      <td><div class=\"not-number\">None</div></td>\n    </tr>\n    <tr>\n      <th>14</th>\n      <td><div class=\"not-number\">URN:CornellLabOfOrnithology:EBIRD:OBS166403964</div></td>\n      <td><div class=\"not-number\">2016-08-09 16:56:24</div></td>\n      <td>3620.0</td>\n      <td><div class=\"not-number\">form</div></td>\n      <td><div class=\"not-number\">American Coot</div></td>\n      <td><div class=\"not-number\">Fulica americana</div></td>\n      <td><div class=\"not-number\">American Coot (Red-shielded)</div></td>\n      <td><div class=\"not-number\">Fulica americana (Red-shielded)</div></td>\n      <td><div class=\"not-number\">26</div></td>\n      <td><div class=\"not-number\">None</div></td>\n      <td><div class=\"not-number\">None</div></td>\n      <td><div class=\"not-number\">None</div></td>\n      <td><div class=\"not-number\">United States</div></td>\n      <td><div class=\"not-number\">US</div></td>\n      <td><div class=\"not-number\">California</div></td>\n      <td><div class=\"not-number\">US-CA</div></td>\n      <td><div class=\"not-number\">Los Angeles</div></td>\n      <td><div class=\"not-number\">US-CA-037</div></td>\n      <td><div class=\"not-number\">None</div></td>\n      <td>32.0</td>\n      <td><div class=\"not-number\">None</div></td>\n      <td><div class=\"not-number\">None</div></td>\n      <td><div class=\"not-number\">Alondra Park Reservoir</div></td>\n      <td><div class=\"not-number\">L611151</div></td>\n      <td><div class=\"not-number\">H</div></td>\n      <td>33.9</td>\n      <td>-118.0</td>\n      <td><div class=\"not-number\">2012-10-12</div></td>\n      <td><div class=\"not-number\">12:42:00</div></td>\n      <td><div class=\"not-number\">obsr203978</div></td>\n      <td><div class=\"not-number\">S11785399</div></td>\n      <td><div class=\"not-number\">Traveling</div></td>\n      <td><div class=\"not-number\">P22</div></td>\n      <td><div class=\"not-number\">EBIRD</div></td>\n      <td>160.0</td>\n      <td>1.610</td>\n      <td>NaN</td>\n      <td>1.0</td>\n      <td>1</td>\n      <td><div class=\"not-number\">None</div></td>\n      <td>0</td>\n      <td>1</td>\n      <td>0</td>\n      <td><div class=\"not-number\">None</div></td>\n      <td><div class=\"not-number\"> <br />Submitted from BirdLog NA for iOS, version 1.4.8</div></td>\n      <td><div class=\"not-number\">None</div></td>\n    </tr>\n    <tr>\n      <th>15</th>\n      <td><div class=\"not-number\">URN:CornellLabOfOrnithology:EBIRD:OBS158304249</div></td>\n      <td><div class=\"not-number\">2016-08-09 17:26:07</div></td>\n      <td>18800.0</td>\n      <td><div class=\"not-number\">species</div></td>\n      <td><div class=\"not-number\">Steller's Jay</div></td>\n      <td><div class=\"not-number\">Cyanocitta stelleri</div></td>\n      <td><div class=\"not-number\">None</div></td>\n      <td><div class=\"not-number\">None</div></td>\n      <td><div class=\"not-number\">4</div></td>\n      <td><div class=\"not-number\">None</div></td>\n      <td><div class=\"not-number\">None</div></td>\n      <td><div class=\"not-number\">None</div></td>\n      <td><div class=\"not-number\">United States</div></td>\n      <td><div class=\"not-number\">US</div></td>\n      <td><div class=\"not-number\">California</div></td>\n      <td><div class=\"not-number\">US-CA</div></td>\n      <td><div class=\"not-number\">Los Angeles</div></td>\n      <td><div class=\"not-number\">US-CA-037</div></td>\n      <td><div class=\"not-number\">None</div></td>\n      <td>32.0</td>\n      <td><div class=\"not-number\">None</div></td>\n      <td><div class=\"not-number\">None</div></td>\n      <td><div class=\"not-number\">San Gabriel Mtns.--Lightning Ridge</div></td>\n      <td><div class=\"not-number\">L1152835</div></td>\n      <td><div class=\"not-number\">H</div></td>\n      <td>34.4</td>\n      <td>-118.0</td>\n      <td><div class=\"not-number\">2012-07-08</div></td>\n      <td><div class=\"not-number\">05:30:00</div></td>\n      <td><div class=\"not-number\">obsr203566</div></td>\n      <td><div class=\"not-number\">S11124164</div></td>\n      <td><div class=\"not-number\">Traveling</div></td>\n      <td><div class=\"not-number\">P22</div></td>\n      <td><div class=\"not-number\">EBIRD</div></td>\n      <td>110.0</td>\n      <td>4.020</td>\n      <td>NaN</td>\n      <td>2.0</td>\n      <td>1</td>\n      <td><div class=\"not-number\">G436857</div></td>\n      <td>0</td>\n      <td>1</td>\n      <td>0</td>\n      <td><div class=\"not-number\">None</div></td>\n      <td><div class=\"not-number\">Submitted from  BirdLog for Android v1.5</div></td>\n      <td><div class=\"not-number\">None</div></td>\n    </tr>\n    <tr>\n      <th>16</th>\n      <td><div class=\"not-number\">URN:CornellLabOfOrnithology:EBIRD:OBS161324119</div></td>\n      <td><div class=\"not-number\">2016-08-09 17:25:54</div></td>\n      <td>30900.0</td>\n      <td><div class=\"not-number\">species</div></td>\n      <td><div class=\"not-number\">House Finch</div></td>\n      <td><div class=\"not-number\">Haemorhous mexicanus</div></td>\n      <td><div class=\"not-number\">None</div></td>\n      <td><div class=\"not-number\">None</div></td>\n      <td><div class=\"not-number\">2</div></td>\n      <td><div class=\"not-number\">None</div></td>\n      <td><div class=\"not-number\">None</div></td>\n      <td><div class=\"not-number\">None</div></td>\n      <td><div class=\"not-number\">United States</div></td>\n      <td><div class=\"not-number\">US</div></td>\n      <td><div class=\"not-number\">California</div></td>\n      <td><div class=\"not-number\">US-CA</div></td>\n      <td><div class=\"not-number\">Los Angeles</div></td>\n      <td><div class=\"not-number\">US-CA-037</div></td>\n      <td><div class=\"not-number\">None</div></td>\n      <td>32.0</td>\n      <td><div class=\"not-number\">None</div></td>\n      <td><div class=\"not-number\">None</div></td>\n      <td><div class=\"not-number\">CA-Los Angeles-6B-General Area</div></td>\n      <td><div class=\"not-number\">L1344632</div></td>\n      <td><div class=\"not-number\">P</div></td>\n      <td>34.3</td>\n      <td>-118.0</td>\n      <td><div class=\"not-number\">2012-08-18</div></td>\n      <td><div class=\"not-number\">06:45:00</div></td>\n      <td><div class=\"not-number\">obsr192293</div></td>\n      <td><div class=\"not-number\">S11387705</div></td>\n      <td><div class=\"not-number\">Traveling</div></td>\n      <td><div class=\"not-number\">P22</div></td>\n      <td><div class=\"not-number\">EBIRD</div></td>\n      <td>480.0</td>\n      <td>6.440</td>\n      <td>NaN</td>\n      <td>1.0</td>\n      <td>1</td>\n      <td><div class=\"not-number\">None</div></td>\n      <td>0</td>\n      <td>1</td>\n      <td>0</td>\n      <td><div class=\"not-number\">None</div></td>\n      <td><div class=\"not-number\">None</div></td>\n      <td><div class=\"not-number\">None</div></td>\n    </tr>\n    <tr>\n      <th>17</th>\n      <td><div class=\"not-number\">URN:CornellLabOfOrnithology:EBIRD:OBS159352243</div></td>\n      <td><div class=\"not-number\">2016-08-09 17:25:54</div></td>\n      <td>2990.0</td>\n      <td><div class=\"not-number\">species</div></td>\n      <td><div class=\"not-number\">Red-tailed Hawk</div></td>\n      <td><div class=\"not-number\">Buteo jamaicensis</div></td>\n      <td><div class=\"not-number\">None</div></td>\n      <td><div class=\"not-number\">None</div></td>\n      <td><div class=\"not-number\">1</div></td>\n      <td><div class=\"not-number\">None</div></td>\n      <td><div class=\"not-number\">None</div></td>\n      <td><div class=\"not-number\">None</div></td>\n      <td><div class=\"not-number\">United States</div></td>\n      <td><div class=\"not-number\">US</div></td>\n      <td><div class=\"not-number\">California</div></td>\n      <td><div class=\"not-number\">US-CA</div></td>\n      <td><div class=\"not-number\">Los Angeles</div></td>\n      <td><div class=\"not-number\">US-CA-037</div></td>\n      <td><div class=\"not-number\">None</div></td>\n      <td>32.0</td>\n      <td><div class=\"not-number\">None</div></td>\n      <td><div class=\"not-number\">None</div></td>\n      <td><div class=\"not-number\">CA-Los Angeles-6B-General Area</div></td>\n      <td><div class=\"not-number\">L1344632</div></td>\n      <td><div class=\"not-number\">P</div></td>\n      <td>34.3</td>\n      <td>-118.0</td>\n      <td><div class=\"not-number\">2012-07-23</div></td>\n      <td><div class=\"not-number\">07:00:00</div></td>\n      <td><div class=\"not-number\">obsr192293</div></td>\n      <td><div class=\"not-number\">S11202883</div></td>\n      <td><div class=\"not-number\">Traveling</div></td>\n      <td><div class=\"not-number\">P22</div></td>\n      <td><div class=\"not-number\">EBIRD</div></td>\n      <td>540.0</td>\n      <td>4.830</td>\n      <td>NaN</td>\n      <td>1.0</td>\n      <td>1</td>\n      <td><div class=\"not-number\">None</div></td>\n      <td>0</td>\n      <td>1</td>\n      <td>0</td>\n      <td><div class=\"not-number\">None</div></td>\n      <td><div class=\"not-number\">None</div></td>\n      <td><div class=\"not-number\">None</div></td>\n    </tr>\n    <tr>\n      <th>18</th>\n      <td><div class=\"not-number\">URN:CornellLabOfOrnithology:EBIRD:OBS144107412</div></td>\n      <td><div class=\"not-number\">2016-11-10 22:24:38</div></td>\n      <td>1010.0</td>\n      <td><div class=\"not-number\">species</div></td>\n      <td><div class=\"not-number\">Indian Peafowl</div></td>\n      <td><div class=\"not-number\">Pavo cristatus</div></td>\n      <td><div class=\"not-number\">None</div></td>\n      <td><div class=\"not-number\">None</div></td>\n      <td><div class=\"not-number\">25</div></td>\n      <td><div class=\"not-number\">None</div></td>\n      <td><div class=\"not-number\">None</div></td>\n      <td><div class=\"not-number\">None</div></td>\n      <td><div class=\"not-number\">United States</div></td>\n      <td><div class=\"not-number\">US</div></td>\n      <td><div class=\"not-number\">California</div></td>\n      <td><div class=\"not-number\">US-CA</div></td>\n      <td><div class=\"not-number\">Los Angeles</div></td>\n      <td><div class=\"not-number\">US-CA-037</div></td>\n      <td><div class=\"not-number\">None</div></td>\n      <td>32.0</td>\n      <td><div class=\"not-number\">None</div></td>\n      <td><div class=\"not-number\">None</div></td>\n      <td><div class=\"not-number\">Los Angeles County Arboretum & Botanic Garden</div></td>\n      <td><div class=\"not-number\">L4379714</div></td>\n      <td><div class=\"not-number\">H</div></td>\n      <td>34.1</td>\n      <td>-118.0</td>\n      <td><div class=\"not-number\">2012-03-11</div></td>\n      <td><div class=\"not-number\">11:00:00</div></td>\n      <td><div class=\"not-number\">obsr224513</div></td>\n      <td><div class=\"not-number\">S10143970</div></td>\n      <td><div class=\"not-number\">Traveling</div></td>\n      <td><div class=\"not-number\">P22</div></td>\n      <td><div class=\"not-number\">EBIRD</div></td>\n      <td>120.0</td>\n      <td>3.220</td>\n      <td>NaN</td>\n      <td>2.0</td>\n      <td>1</td>\n      <td><div class=\"not-number\">None</div></td>\n      <td>0</td>\n      <td>1</td>\n      <td>0</td>\n      <td><div class=\"not-number\">None</div></td>\n      <td><div class=\"not-number\">None</div></td>\n      <td><div class=\"not-number\">None</div></td>\n    </tr>\n    <tr>\n      <th>19</th>\n      <td><div class=\"not-number\">URN:CornellLabOfOrnithology:EBIRD:OBS520512570</div></td>\n      <td><div class=\"not-number\">2017-07-23 01:11:13</div></td>\n      <td>2360.0</td>\n      <td><div class=\"not-number\">species</div></td>\n      <td><div class=\"not-number\">Turkey Vulture</div></td>\n      <td><div class=\"not-number\">Cathartes aura</div></td>\n      <td><div class=\"not-number\">None</div></td>\n      <td><div class=\"not-number\">None</div></td>\n      <td><div class=\"not-number\">1</div></td>\n      <td><div class=\"not-number\">None</div></td>\n      <td><div class=\"not-number\">None</div></td>\n      <td><div class=\"not-number\">None</div></td>\n      <td><div class=\"not-number\">United States</div></td>\n      <td><div class=\"not-number\">US</div></td>\n      <td><div class=\"not-number\">California</div></td>\n      <td><div class=\"not-number\">US-CA</div></td>\n      <td><div class=\"not-number\">Marin</div></td>\n      <td><div class=\"not-number\">US-CA-041</div></td>\n      <td><div class=\"not-number\">None</div></td>\n      <td>32.0</td>\n      <td><div class=\"not-number\">None</div></td>\n      <td><div class=\"not-number\">None</div></td>\n      <td><div class=\"not-number\">16 Fire Road</div></td>\n      <td><div class=\"not-number\">L4341110</div></td>\n      <td><div class=\"not-number\">P</div></td>\n      <td>38.0</td>\n      <td>-123.0</td>\n      <td><div class=\"not-number\">2012-11-05</div></td>\n      <td><div class=\"not-number\">10:00:00</div></td>\n      <td><div class=\"not-number\">obsr263087</div></td>\n      <td><div class=\"not-number\">S38275103</div></td>\n      <td><div class=\"not-number\">Stationary</div></td>\n      <td><div class=\"not-number\">P21</div></td>\n      <td><div class=\"not-number\">EBIRD</div></td>\n      <td>30.0</td>\n      <td>NaN</td>\n      <td>NaN</td>\n      <td>1.0</td>\n      <td>1</td>\n      <td><div class=\"not-number\">None</div></td>\n      <td>0</td>\n      <td>1</td>\n      <td>0</td>\n      <td><div class=\"not-number\">None</div></td>\n      <td><div class=\"not-number\">Clear, warm.</div></td>\n      <td><div class=\"not-number\">None</div></td>\n    </tr>\n  </tbody>\n</table>",
      "text/plain": "                          global_unique_identifier    last_edited_date  taxonomic_order category                common_name         scientific_name        subspecies_common_name       subspecies_scientific_name observation_count breeding_bird_atlas_code breeding_bird_atlas_category age_sex        country country_code       state state_code        county county_code  iba_code  bcr_code usfws_code atlas_block                                           locality locality_id _locality_type  latitude  longitude observation_date time_observations_started observer_id sampling_event_identifier protocol_type protocol_code project_code  duration_minutes  effort_distance_km  effort_area_ha  number_observers  all_species_reported group_identifier  has_media  approved  reviewed reason                                                                                                                                                                                            trip_comments species_comments\n0   URN:CornellLabOfOrnithology:EBIRD:OBS169396759 2016-08-09 15:15:45         29984.05  species      White-crowned Sparrow  Zonotrichia leucophrys                          None                             None                20                     None                         None    None  United States           US  California      US-CA       Alameda   US-CA-001      None       NaN       None        None                        San Lorenzo Trail-Grant Ave    L1803364              P    37.670   -122.158       2012-11-11                  10:00:00  obsr293948                 S12020443     Traveling           P22        EBIRD              25.0               0.201             NaN               3.0                     1          G576066          0         1         0   None                                                                                                                                                                                                     None             None\n1   URN:CornellLabOfOrnithology:EBIRD:OBS152695281 2016-08-09 15:25:47          8906.00  species         Anna's Hummingbird            Calypte anna                          None                             None                 1                     None                         None    None  United States           US  California      US-CA  Contra Costa   US-CA-013      None      32.0       None        None  EBMUD--Valle Vista Staging Area (permit required)     L596210              H    37.821   -122.139       2012-05-13                  09:20:00   obsr58810                 S10734725     Traveling           P22        EBIRD              65.0               0.483             NaN               1.0                     1             None          0         1         0   None                                                                                                                                                                                                     None             None\n2   URN:CornellLabOfOrnithology:EBIRD:OBS158990811 2012-07-18 16:53:58         14921.00  species    Ash-throated Flycatcher   Myiarchus cinerascens                          None                             None                 1                     None                         None    None  United States           US  California      US-CA     El Dorado   US-CA-017      None      15.0       None        None                                   Mt. Tallac Trail    L1627922              P    38.902   -120.078       2012-07-17                  09:20:00  obsr150458                 S11174533    Incidental           P20        EBIRD               NaN                 NaN             NaN               2.0                     1             None          0         1         0   None                                                                                                                                                                  Hike to Mt. Tallac via Mt. Tallac Trail             None\n3   URN:CornellLabOfOrnithology:EBIRD:OBS147837396 2017-08-16 08:21:29         30866.00  species                House Finch    Haemorhous mexicanus                          None                             None                 X                     None                         None    None  United States           US  California      US-CA      Humboldt   US-CA-023  US-CA_43       5.0       None        None                        Arcata Marsh--Brackish Pond     L772156              H    40.862   -124.095       2012-04-09                  19:00:00  obsr252573                 S10410161    Stationary           P21        EBIRD              20.0                 NaN             NaN               1.0                     1             None          0         1         0   None                                                                                                                                                                                                     None             None\n4   URN:CornellLabOfOrnithology:EBIRD:OBS174141474 2016-08-09 15:37:46         11164.00  species           Hairy Woodpecker       Picoides villosus                          None                             None                 1                     None                         None    None  United States           US  California      US-CA      Humboldt   US-CA-023      None       5.0       None        None                                 Trinity River Farm    L1854380              H    40.975   -123.639       2012-12-27                  12:20:00   obsr27015                 S12403128          Area           P23        EBIRD             130.0                 NaN             6.0               2.0                     1             None          0         1         0   None      Rob Hewitt and I spent a lot of quality time here searching it a second time after David Fix and Jude Power visited in the morning. A great spot for birding with LOTS of sparrows to look through.             None\n5   URN:CornellLabOfOrnithology:EBIRD:OBS168359167 2012-11-03 21:11:12         11148.00  species           Downy Woodpecker      Picoides pubescens                          None                             None                 1                     None                         None    None  United States           US  California      US-CA          Inyo   US-CA-027      None       9.0       None        None                                   Bishop City Park     L812982              H    37.367   -118.391       2012-11-02                  10:00:00  obsr204942                 S11948072     Traveling           P22        EBIRD             191.0               0.805             NaN               7.0                     1          G484136          0         1         0   None                                                                                                                                                                            w/ Overholtzes, Howards & JLD             None\n6   URN:CornellLabOfOrnithology:EBIRD:OBS163369388 2012-09-10 21:22:49         10941.00  species     Red-breasted Sapsucker       Sphyrapicus ruber                          None                             None                 1                     None                         None    None  United States           US  California      US-CA          Inyo   US-CA-027      None      15.0       None        None                               North Lake (INY Co.)     L955403              H    37.230   -118.619       2012-09-08                  06:55:00  obsr266240                 S11557977     Traveling           P22        EBIRD             462.0              16.093             NaN               1.0                     1          G462502          0         1         0   None                                                                                                              Hike from north lake to Emerson lake <br />Submitted from BirdLog NA for iOS, version 1.4.8             None\n7   URN:CornellLabOfOrnithology:EBIRD:OBS155916886 2016-03-16 16:34:18         17828.00  species             Warbling Vireo            Vireo gilvus                          None                             None                 1                     None                         None    None  United States           US  California      US-CA          Inyo   US-CA-027      None      33.0       None        None               Mesquite Springs CG, Death VAlley CA    L1577199              P    36.964   -117.368       2012-05-08                  06:10:00   obsr40579                 S10949032     Traveling           P22        EBIRD             140.0               0.402             NaN               2.0                     1             None          0         1         0   None                                                                                                                                                                                                     None             None\n8   URN:CornellLabOfOrnithology:EBIRD:OBS170805557 2017-08-16 08:56:04         21939.00  species       Ruby-crowned Kinglet       Regulus calendula                          None                             None                 2                     None                         None    None  United States           US  California      US-CA          Kern   US-CA-029      None      33.0       None        None                       California City Central Park     L163614              H    35.129   -117.945       2012-11-10                  15:45:00  obsr100605                 S12153110     Traveling           P22        EBIRD              75.0               1.609             NaN               1.0                     1             None          0         1         0   None  a chilly 48 F at start, dropping to 44 F by 5PM; sunset approx 4:45 PM. clear with a persistent west wind 5-15 mph. Very slow, wind and near dark hour severely limited bird activity.. First frost ...             None\n9   URN:CornellLabOfOrnithology:EBIRD:OBS153940741 2012-05-22 21:12:39         17828.00  species             Warbling Vireo            Vireo gilvus                          None                             None                 2                     None                         None    None  United States           US  California      US-CA          Kern   US-CA-029      None      33.0       None        None                       California City Central Park     L163614              H    35.129   -117.945       2012-05-20                  13:30:00  obsr193622                 S10816154     Traveling           P22        EBIRD             120.0               1.609             NaN               6.0                     1          G415323          0         1         0   None                                                                                                                                       SWBSC, 6 observers. Sunny, 90, Winds, 5-10. Leader: Jim Abernathy.             None\n10  URN:CornellLabOfOrnithology:EBIRD:OBS162809200 2013-10-30 22:45:22         26621.00  species          European Starling        Sturnus vulgaris                          None                             None                10                     None                         None    None  United States           US  California      US-CA          Kern   US-CA-029      None      33.0       None        None                       California City Central Park     L163614              H    35.129   -117.945       2012-09-04                  08:40:00  obsr123137                 S11515250     Traveling           P22        EBIRD              94.0               0.499             NaN               1.0                     1             None          0         1         0   None                                                                                                                                              <br />Submitted from BirdLog World for iOS, version 1.4.8.3             None\n11  URN:CornellLabOfOrnithology:EBIRD:OBS158989512 2016-08-06 13:17:51         30432.00  species       Great-tailed Grackle     Quiscalus mexicanus                          None                             None                23                     None                         None    None  United States           US  California      US-CA          Kern   US-CA-029      None      33.0       None        None                       California City Central Park     L163614              H    35.129   -117.945       2012-07-18                  09:07:00    obsr7422                 S11174434     Traveling           P22        EBIRD              38.0               0.483             NaN               2.0                     1          G440254          0         1         0   None                                                                        Observers: Bob Barnes, Dave Goodward. Temperature: 72F-73F. Coverage Par 3 Golf Course along the edge of the 17th and 18th holes.             None\n12  URN:CornellLabOfOrnithology:EBIRD:OBS167440148 2017-08-16 08:50:03          2233.00  species  Black-crowned Night-Heron   Nycticorax nycticorax                          None                             None                 2                     None                         None    None  United States           US  California      US-CA          Kern   US-CA-029      None      33.0       None        None                       California City Central Park     L163614              H    35.129   -117.945       2012-10-23                  15:30:00   obsr48028                 S11860698     Traveling           P22        EBIRD             100.0               0.595             NaN               4.0                     1          G480417          0         1         0   None                                                                                     <br>Submitted from BirdLog World for iOS, version 1.4.4. With Jimmy McMorran, Brennan Mulrooney, and Sid Gauthreaux.             None\n13  URN:CornellLabOfOrnithology:EBIRD:OBS169038963 2012-11-09 17:21:19         27885.00  species             Yellow Warbler      Setophaga petechia                          None                             None                 5                     None                         None    None  United States           US  California      US-CA          Kern   US-CA-029      None      33.0       None        None                       Cerro Coso Community College     L384940              H    35.567   -117.671       2012-05-04                      None  obsr206950                 S11997222    Incidental           P20        EBIRD               NaN                 NaN             NaN               NaN                     1             None          0         1         0   None                                                                                                                                                                                                     None             None\n14  URN:CornellLabOfOrnithology:EBIRD:OBS166403964 2016-08-09 16:56:24          3615.00     form              American Coot        Fulica americana  American Coot (Red-shielded)  Fulica americana (Red-shielded)                26                     None                         None    None  United States           US  California      US-CA   Los Angeles   US-CA-037      None      32.0       None        None                             Alondra Park Reservoir     L611151              H    33.882   -118.334       2012-10-12                  12:42:00  obsr203978                 S11785399     Traveling           P22        EBIRD             160.0               1.609             NaN               1.0                     1             None          0         1         0   None                                                                                                                                                   <br />Submitted from BirdLog NA for iOS, version 1.4.8             None\n15  URN:CornellLabOfOrnithology:EBIRD:OBS158304249 2016-08-09 17:26:07         18816.00  species              Steller's Jay     Cyanocitta stelleri                          None                             None                 4                     None                         None    None  United States           US  California      US-CA   Los Angeles   US-CA-037      None      32.0       None        None                 San Gabriel Mtns.--Lightning Ridge    L1152835              H    34.373   -117.712       2012-07-08                  05:30:00  obsr203566                 S11124164     Traveling           P22        EBIRD             110.0               4.023             NaN               2.0                     1          G436857          0         1         0   None                                                                                                                                                                 Submitted from  BirdLog for Android v1.5             None\n16  URN:CornellLabOfOrnithology:EBIRD:OBS161324119 2016-08-09 17:25:54         30866.00  species                House Finch    Haemorhous mexicanus                          None                             None                 2                     None                         None    None  United States           US  California      US-CA   Los Angeles   US-CA-037      None      32.0       None        None                     CA-Los Angeles-6B-General Area    L1344632              P    34.344   -118.074       2012-08-18                  06:45:00  obsr192293                 S11387705     Traveling           P22        EBIRD             480.0               6.437             NaN               1.0                     1             None          0         1         0   None                                                                                                                                                                                                     None             None\n17  URN:CornellLabOfOrnithology:EBIRD:OBS159352243 2016-08-09 17:25:54          2989.00  species            Red-tailed Hawk       Buteo jamaicensis                          None                             None                 1                     None                         None    None  United States           US  California      US-CA   Los Angeles   US-CA-037      None      32.0       None        None                     CA-Los Angeles-6B-General Area    L1344632              P    34.344   -118.074       2012-07-23                  07:00:00  obsr192293                 S11202883     Traveling           P22        EBIRD             540.0               4.828             NaN               1.0                     1             None          0         1         0   None                                                                                                                                                                                                     None             None\n18  URN:CornellLabOfOrnithology:EBIRD:OBS144107412 2016-11-10 22:24:38          1008.00  species             Indian Peafowl          Pavo cristatus                          None                             None                25                     None                         None    None  United States           US  California      US-CA   Los Angeles   US-CA-037      None      32.0       None        None      Los Angeles County Arboretum & Botanic Garden    L4379714              H    34.144   -118.052       2012-03-11                  11:00:00  obsr224513                 S10143970     Traveling           P22        EBIRD             120.0               3.219             NaN               2.0                     1             None          0         1         0   None                                                                                                                                                                                                     None             None\n19  URN:CornellLabOfOrnithology:EBIRD:OBS520512570 2017-07-23 01:11:13          2362.00  species             Turkey Vulture          Cathartes aura                          None                             None                 1                     None                         None    None  United States           US  California      US-CA         Marin   US-CA-041      None      32.0       None        None                                       16 Fire Road    L4341110              P    38.008   -122.635       2012-11-05                  10:00:00  obsr263087                 S38275103    Stationary           P21        EBIRD              30.0                 NaN             NaN               1.0                     1             None          0         1         0   None                                                                                                                                                                                             Clear, warm.             None"
     },
     "execution_count": 256,
     "metadata": {},
     "output_type": "execute_result"
    }
   ],
   "source": [
    "# Inspect rows\n",
    "bqq('''\n",
    "    select *\n",
    "    from ebird.obs_sample_001\n",
    "    where true\n",
    "        and state_code = 'US-CA'\n",
    "        and category in ('species', 'issf', 'form', 'intergrade')\n",
    "    limit 20\n",
    "''')"
   ]
  },
  {
   "cell_type": "code",
   "execution_count": null,
   "metadata": {
    "time": "2.544s"
   },
   "outputs": [
    {
     "name": "stdout",
     "output_type": "stream",
     "text": "Running query..."
    },
    {
     "name": "stdout",
     "output_type": "stream",
     "text": "\n"
    },
    {
     "name": "stdout",
     "output_type": "stream",
     "text": "[1s] cost[cached] rows[1] url[https://console.cloud.google.com/bigquery?project=bubo-1&j=bq:US:job_e5muhE7ZY9uoogVnKq0cOOJ44I9q&page=queryresults]"
    },
    {
     "name": "stdout",
     "output_type": "stream",
     "text": "\n"
    },
    {
     "name": "stdout",
     "output_type": "stream",
     "text": "Fetching results..."
    },
    {
     "name": "stdout",
     "output_type": "stream",
     "text": "\n"
    },
    {
     "name": "stdout",
     "output_type": "stream",
     "text": "[1s]"
    },
    {
     "name": "stdout",
     "output_type": "stream",
     "text": "\n"
    },
    {
     "data": {
      "text/html": "<table border=\"1\" class=\"dataframe\">\n  <thead>\n    <tr style=\"text-align: right;\">\n      <th></th>\n      <th>f0_</th>\n      <th>f1_</th>\n      <th>f2_</th>\n    </tr>\n  </thead>\n  <tbody>\n    <tr>\n      <th>0</th>\n      <td>2381</td>\n      <td>2344</td>\n      <td><div class=\"not-number\"></div></td>\n    </tr>\n  </tbody>\n</table>",
      "text/plain": "    f0_   f1_ f2_\n0  2381  2344"
     },
     "execution_count": 259,
     "metadata": {},
     "output_type": "execute_result"
    }
   ],
   "source": [
    "# XXX\n",
    "bqq('''\n",
    "    select\n",
    "        count(*),\n",
    "        count(distinct sampling_event_identifier),\n",
    "        ''\n",
    "    from ebird.obs_sample_001\n",
    "    where true\n",
    "        and st_distance(st_geogpoint(longitude, latitude), st_geogpoint(-122.4194, 37.7749)) <= 20e3 # SF ± 20km\n",
    "        and category in ('species', 'issf', 'form', 'intergrade')\n",
    "''')"
   ]
  },
  {
   "cell_type": "code",
   "execution_count": null,
   "metadata": {
    "time": "4.518s"
   },
   "outputs": [
    {
     "name": "stdout",
     "output_type": "stream",
     "text": "Running query..."
    },
    {
     "name": "stdout",
     "output_type": "stream",
     "text": "\n"
    },
    {
     "name": "stdout",
     "output_type": "stream",
     "text": "[4s] cost[$0.0001, 27.2 MB] rows[209] url[https://console.cloud.google.com/bigquery?project=bubo-1&j=bq:US:job_2YIGbbQ8fymg593Ffx6lF37aLEZo&page=queryresults]"
    },
    {
     "name": "stdout",
     "output_type": "stream",
     "text": "\n"
    },
    {
     "name": "stdout",
     "output_type": "stream",
     "text": "Fetching results..."
    },
    {
     "name": "stdout",
     "output_type": "stream",
     "text": "\n"
    },
    {
     "name": "stdout",
     "output_type": "stream",
     "text": "[1s]"
    },
    {
     "name": "stdout",
     "output_type": "stream",
     "text": "\n"
    },
    {
     "data": {
      "text/plain": "(209, 6)"
     },
     "metadata": {},
     "output_type": "display_data",
     "transient": {}
    },
    {
     "data": {
      "text/html": "<table border=\"1\" class=\"dataframe\">\n  <thead>\n    <tr style=\"text-align: right;\">\n      <th></th>\n      <th>n_species</th>\n      <th>n_checklists</th>\n      <th>common_name</th>\n      <th>n_present</th>\n      <th>p_present</th>\n      <th>f0_</th>\n      <th>ebird_bar_width</th>\n      <th>ebird_bar_str</th>\n    </tr>\n  </thead>\n  <tbody>\n    <tr>\n      <th>197</th>\n      <td>209</td>\n      <td>2344</td>\n      <td><div class=\"not-number\">White-crowned Sparrow</div></td>\n      <td>79</td>\n      <td><div class=\"not-number\">0.034</div></td>\n      <td><div class=\"not-number\"></div></td>\n      <td>3</td>\n      <td><div class=\"not-number\">■■■——————</div></td>\n    </tr>\n    <tr>\n      <th>12</th>\n      <td>209</td>\n      <td>2344</td>\n      <td><div class=\"not-number\">Anna's Hummingbird</div></td>\n      <td>74</td>\n      <td><div class=\"not-number\">0.032</div></td>\n      <td><div class=\"not-number\"></div></td>\n      <td>3</td>\n      <td><div class=\"not-number\">■■■——————</div></td>\n    </tr>\n    <tr>\n      <th>99</th>\n      <td>209</td>\n      <td>2344</td>\n      <td><div class=\"not-number\">House Finch</div></td>\n      <td>61</td>\n      <td><div class=\"not-number\">0.026</div></td>\n      <td><div class=\"not-number\"></div></td>\n      <td>3</td>\n      <td><div class=\"not-number\">■■■——————</div></td>\n    </tr>\n    <tr>\n      <th>114</th>\n      <td>209</td>\n      <td>2344</td>\n      <td><div class=\"not-number\">Mallard</div></td>\n      <td>56</td>\n      <td><div class=\"not-number\">0.024</div></td>\n      <td><div class=\"not-number\"></div></td>\n      <td>3</td>\n      <td><div class=\"not-number\">■■■——————</div></td>\n    </tr>\n    <tr>\n      <th>4</th>\n      <td>209</td>\n      <td>2344</td>\n      <td><div class=\"not-number\">American Crow</div></td>\n      <td>56</td>\n      <td><div class=\"not-number\">0.024</div></td>\n      <td><div class=\"not-number\"></div></td>\n      <td>3</td>\n      <td><div class=\"not-number\">■■■——————</div></td>\n    </tr>\n    <tr>\n      <th>19</th>\n      <td>209</td>\n      <td>2344</td>\n      <td><div class=\"not-number\">Black Phoebe</div></td>\n      <td>55</td>\n      <td><div class=\"not-number\">0.023</div></td>\n      <td><div class=\"not-number\"></div></td>\n      <td>3</td>\n      <td><div class=\"not-number\">■■■——————</div></td>\n    </tr>\n    <tr>\n      <th>190</th>\n      <td>209</td>\n      <td>2344</td>\n      <td><div class=\"not-number\">Western Gull</div></td>\n      <td>52</td>\n      <td><div class=\"not-number\">0.022</div></td>\n      <td><div class=\"not-number\"></div></td>\n      <td>3</td>\n      <td><div class=\"not-number\">■■■——————</div></td>\n    </tr>\n    <tr>\n      <th>60</th>\n      <td>209</td>\n      <td>2344</td>\n      <td><div class=\"not-number\">Common Raven</div></td>\n      <td>46</td>\n      <td><div class=\"not-number\">0.020</div></td>\n      <td><div class=\"not-number\"></div></td>\n      <td>3</td>\n      <td><div class=\"not-number\">■■■——————</div></td>\n    </tr>\n    <tr>\n      <th>42</th>\n      <td>209</td>\n      <td>2344</td>\n      <td><div class=\"not-number\">California Towhee</div></td>\n      <td>47</td>\n      <td><div class=\"not-number\">0.020</div></td>\n      <td><div class=\"not-number\"></div></td>\n      <td>3</td>\n      <td><div class=\"not-number\">■■■——————</div></td>\n    </tr>\n    <tr>\n      <th>170</th>\n      <td>209</td>\n      <td>2344</td>\n      <td><div class=\"not-number\">Song Sparrow</div></td>\n      <td>46</td>\n      <td><div class=\"not-number\">0.020</div></td>\n      <td><div class=\"not-number\"></div></td>\n      <td>3</td>\n      <td><div class=\"not-number\">■■■——————</div></td>\n    </tr>\n    <tr>\n      <th>208</th>\n      <td>209</td>\n      <td>2344</td>\n      <td><div class=\"not-number\">Yellow-rumped Warbler</div></td>\n      <td>44</td>\n      <td><div class=\"not-number\">0.019</div></td>\n      <td><div class=\"not-number\"></div></td>\n      <td>3</td>\n      <td><div class=\"not-number\">■■■——————</div></td>\n    </tr>\n    <tr>\n      <th>41</th>\n      <td>209</td>\n      <td>2344</td>\n      <td><div class=\"not-number\">California Scrub-Jay</div></td>\n      <td>42</td>\n      <td><div class=\"not-number\">0.018</div></td>\n      <td><div class=\"not-number\"></div></td>\n      <td>3</td>\n      <td><div class=\"not-number\">■■■——————</div></td>\n    </tr>\n    <tr>\n      <th>63</th>\n      <td>209</td>\n      <td>2344</td>\n      <td><div class=\"not-number\">Dark-eyed Junco</div></td>\n      <td>40</td>\n      <td><div class=\"not-number\">0.017</div></td>\n      <td><div class=\"not-number\"></div></td>\n      <td>3</td>\n      <td><div class=\"not-number\">■■■——————</div></td>\n    </tr>\n    <tr>\n      <th>64</th>\n      <td>209</td>\n      <td>2344</td>\n      <td><div class=\"not-number\">Double-crested Cormorant</div></td>\n      <td>41</td>\n      <td><div class=\"not-number\">0.017</div></td>\n      <td><div class=\"not-number\"></div></td>\n      <td>3</td>\n      <td><div class=\"not-number\">■■■——————</div></td>\n    </tr>\n    <tr>\n      <th>8</th>\n      <td>209</td>\n      <td>2344</td>\n      <td><div class=\"not-number\">American Robin</div></td>\n      <td>39</td>\n      <td><div class=\"not-number\">0.017</div></td>\n      <td><div class=\"not-number\"></div></td>\n      <td>3</td>\n      <td><div class=\"not-number\">■■■——————</div></td>\n    </tr>\n    <tr>\n      <th>43</th>\n      <td>209</td>\n      <td>2344</td>\n      <td><div class=\"not-number\">Canada Goose</div></td>\n      <td>37</td>\n      <td><div class=\"not-number\">0.016</div></td>\n      <td><div class=\"not-number\"></div></td>\n      <td>3</td>\n      <td><div class=\"not-number\">■■■——————</div></td>\n    </tr>\n    <tr>\n      <th>152</th>\n      <td>209</td>\n      <td>2344</td>\n      <td><div class=\"not-number\">Red-tailed Hawk</div></td>\n      <td>35</td>\n      <td><div class=\"not-number\">0.015</div></td>\n      <td><div class=\"not-number\"></div></td>\n      <td>3</td>\n      <td><div class=\"not-number\">■■■——————</div></td>\n    </tr>\n    <tr>\n      <th>72</th>\n      <td>209</td>\n      <td>2344</td>\n      <td><div class=\"not-number\">European Starling</div></td>\n      <td>36</td>\n      <td><div class=\"not-number\">0.015</div></td>\n      <td><div class=\"not-number\"></div></td>\n      <td>3</td>\n      <td><div class=\"not-number\">■■■——————</div></td>\n    </tr>\n    <tr>\n      <th>37</th>\n      <td>209</td>\n      <td>2344</td>\n      <td><div class=\"not-number\">Bushtit</div></td>\n      <td>27</td>\n      <td><div class=\"not-number\">0.012</div></td>\n      <td><div class=\"not-number\"></div></td>\n      <td>3</td>\n      <td><div class=\"not-number\">■■■——————</div></td>\n    </tr>\n    <tr>\n      <th>120</th>\n      <td>209</td>\n      <td>2344</td>\n      <td><div class=\"not-number\">Mourning Dove</div></td>\n      <td>27</td>\n      <td><div class=\"not-number\">0.012</div></td>\n      <td><div class=\"not-number\"></div></td>\n      <td>3</td>\n      <td><div class=\"not-number\">■■■——————</div></td>\n    </tr>\n  </tbody>\n</table>",
      "text/plain": "     n_species  n_checklists               common_name  n_present p_present f0_  ebird_bar_width ebird_bar_str\n197        209          2344     White-crowned Sparrow         79     0.034                    3     ■■■——————\n12         209          2344        Anna's Hummingbird         74     0.032                    3     ■■■——————\n99         209          2344               House Finch         61     0.026                    3     ■■■——————\n114        209          2344                   Mallard         56     0.024                    3     ■■■——————\n4          209          2344             American Crow         56     0.024                    3     ■■■——————\n19         209          2344              Black Phoebe         55     0.023                    3     ■■■——————\n190        209          2344              Western Gull         52     0.022                    3     ■■■——————\n60         209          2344              Common Raven         46     0.020                    3     ■■■——————\n42         209          2344         California Towhee         47     0.020                    3     ■■■——————\n170        209          2344              Song Sparrow         46     0.020                    3     ■■■——————\n208        209          2344     Yellow-rumped Warbler         44     0.019                    3     ■■■——————\n41         209          2344      California Scrub-Jay         42     0.018                    3     ■■■——————\n63         209          2344           Dark-eyed Junco         40     0.017                    3     ■■■——————\n64         209          2344  Double-crested Cormorant         41     0.017                    3     ■■■——————\n8          209          2344            American Robin         39     0.017                    3     ■■■——————\n43         209          2344              Canada Goose         37     0.016                    3     ■■■——————\n152        209          2344           Red-tailed Hawk         35     0.015                    3     ■■■——————\n72         209          2344         European Starling         36     0.015                    3     ■■■——————\n37         209          2344                   Bushtit         27     0.012                    3     ■■■——————\n120        209          2344             Mourning Dove         27     0.012                    3     ■■■——————"
     },
     "execution_count": 260,
     "metadata": {},
     "output_type": "execute_result"
    }
   ],
   "source": [
    "(bqq('''\n",
    "    with\n",
    "        obs as (\n",
    "            select distinct\n",
    "                common_name,\n",
    "                sampling_event_identifier,\n",
    "                count(distinct common_name) over () as n_species,\n",
    "                count(distinct sampling_event_identifier) over () as n_checklists\n",
    "            from ebird.obs_sample_001\n",
    "            where true\n",
    "                and category in ('species', 'issf', 'form', 'intergrade')\n",
    "                and st_distance(st_geogpoint(longitude, latitude), st_geogpoint(-122.4194, 37.7749)) <= 20e3 # SF ± 20km\n",
    "        )\n",
    "    select\n",
    "        n_species,\n",
    "        n_checklists,\n",
    "        common_name,\n",
    "        count(*) as n_present,\n",
    "        count(*) / n_checklists as p_present,\n",
    "        ''\n",
    "    from obs\n",
    "    group by n_species, n_checklists, common_name\n",
    "    order by common_name\n",
    "''')\n",
    "    .pipe(df_display, lambda df: (df.shape,))\n",
    "    .assign(ebird_bar_width=lambda df: df.p_present.map(ebird_bar_width))\n",
    "    .assign(ebird_bar_str=lambda df: df.p_present.map(ebird_bar_str))\n",
    "    .assign(p_present=lambda df: df.p_present.map(lambda x: '%.3f' % x))\n",
    "    .sort_values('p_present', ascending=False)\n",
    "    [:20]\n",
    ")"
   ]
  },
  {
   "cell_type": "code",
   "execution_count": null,
   "metadata": {
    "time": "12.197s"
   },
   "outputs": [
    {
     "name": "stdout",
     "output_type": "stream",
     "text": "Running query..."
    },
    {
     "name": "stdout",
     "output_type": "stream",
     "text": "\n"
    },
    {
     "name": "stdout",
     "output_type": "stream",
     "text": "[11s] cost[$0.1233, 27.1 GB] rows[489] url[https://console.cloud.google.com/bigquery?project=bubo-1&j=bq:US:job_Lm7y_WNOI36Hov_Fi-tUxVwVQp8t&page=queryresults]"
    },
    {
     "name": "stdout",
     "output_type": "stream",
     "text": "\n"
    },
    {
     "name": "stdout",
     "output_type": "stream",
     "text": "Fetching results..."
    },
    {
     "name": "stdout",
     "output_type": "stream",
     "text": "\n"
    },
    {
     "name": "stdout",
     "output_type": "stream",
     "text": "[0s]"
    },
    {
     "name": "stdout",
     "output_type": "stream",
     "text": "\n"
    },
    {
     "data": {
      "text/plain": "(489, 6)"
     },
     "metadata": {},
     "output_type": "display_data",
     "transient": {}
    },
    {
     "data": {
      "text/html": "<table border=\"1\" class=\"dataframe\">\n  <thead>\n    <tr style=\"text-align: right;\">\n      <th></th>\n      <th>n_species</th>\n      <th>n_checklists</th>\n      <th>common_name</th>\n      <th>n_present</th>\n      <th>p_present</th>\n      <th>f0_</th>\n      <th>ebird_bar_width</th>\n      <th>ebird_bar_str</th>\n    </tr>\n  </thead>\n  <tbody>\n    <tr>\n      <th>20</th>\n      <td>489</td>\n      <td>150611</td>\n      <td><div class=\"not-number\">Anna's Hummingbird</div></td>\n      <td>68096</td>\n      <td><div class=\"not-number\">0.452</div></td>\n      <td><div class=\"not-number\"></div></td>\n      <td>8</td>\n      <td><div class=\"not-number\">■■■■■■■■—</div></td>\n    </tr>\n    <tr>\n      <th>451</th>\n      <td>489</td>\n      <td>150611</td>\n      <td><div class=\"not-number\">White-crowned Sparrow</div></td>\n      <td>59776</td>\n      <td><div class=\"not-number\">0.397</div></td>\n      <td><div class=\"not-number\"></div></td>\n      <td>7</td>\n      <td><div class=\"not-number\">■■■■■■■——</div></td>\n    </tr>\n    <tr>\n      <th>440</th>\n      <td>489</td>\n      <td>150611</td>\n      <td><div class=\"not-number\">Western Gull</div></td>\n      <td>59595</td>\n      <td><div class=\"not-number\">0.396</div></td>\n      <td><div class=\"not-number\"></div></td>\n      <td>7</td>\n      <td><div class=\"not-number\">■■■■■■■——</div></td>\n    </tr>\n    <tr>\n      <th>219</th>\n      <td>489</td>\n      <td>150611</td>\n      <td><div class=\"not-number\">House Finch</div></td>\n      <td>55743</td>\n      <td><div class=\"not-number\">0.370</div></td>\n      <td><div class=\"not-number\"></div></td>\n      <td>7</td>\n      <td><div class=\"not-number\">■■■■■■■——</div></td>\n    </tr>\n    <tr>\n      <th>6</th>\n      <td>489</td>\n      <td>150611</td>\n      <td><div class=\"not-number\">American Crow</div></td>\n      <td>53830</td>\n      <td><div class=\"not-number\">0.357</div></td>\n      <td><div class=\"not-number\"></div></td>\n      <td>7</td>\n      <td><div class=\"not-number\">■■■■■■■——</div></td>\n    </tr>\n    <tr>\n      <th>40</th>\n      <td>489</td>\n      <td>150611</td>\n      <td><div class=\"not-number\">Black Phoebe</div></td>\n      <td>49936</td>\n      <td><div class=\"not-number\">0.332</div></td>\n      <td><div class=\"not-number\"></div></td>\n      <td>7</td>\n      <td><div class=\"not-number\">■■■■■■■——</div></td>\n    </tr>\n    <tr>\n      <th>403</th>\n      <td>489</td>\n      <td>150611</td>\n      <td><div class=\"not-number\">Song Sparrow</div></td>\n      <td>49160</td>\n      <td><div class=\"not-number\">0.326</div></td>\n      <td><div class=\"not-number\"></div></td>\n      <td>7</td>\n      <td><div class=\"not-number\">■■■■■■■——</div></td>\n    </tr>\n    <tr>\n      <th>102</th>\n      <td>489</td>\n      <td>150611</td>\n      <td><div class=\"not-number\">California Towhee</div></td>\n      <td>47628</td>\n      <td><div class=\"not-number\">0.316</div></td>\n      <td><div class=\"not-number\"></div></td>\n      <td>7</td>\n      <td><div class=\"not-number\">■■■■■■■——</div></td>\n    </tr>\n    <tr>\n      <th>139</th>\n      <td>489</td>\n      <td>150611</td>\n      <td><div class=\"not-number\">Common Raven</div></td>\n      <td>43418</td>\n      <td><div class=\"not-number\">0.288</div></td>\n      <td><div class=\"not-number\"></div></td>\n      <td>6</td>\n      <td><div class=\"not-number\">■■■■■■———</div></td>\n    </tr>\n    <tr>\n      <th>14</th>\n      <td>489</td>\n      <td>150611</td>\n      <td><div class=\"not-number\">American Robin</div></td>\n      <td>42922</td>\n      <td><div class=\"not-number\">0.285</div></td>\n      <td><div class=\"not-number\"></div></td>\n      <td>6</td>\n      <td><div class=\"not-number\">■■■■■■———</div></td>\n    </tr>\n    <tr>\n      <th>150</th>\n      <td>489</td>\n      <td>150611</td>\n      <td><div class=\"not-number\">Double-crested Cormorant</div></td>\n      <td>42148</td>\n      <td><div class=\"not-number\">0.280</div></td>\n      <td><div class=\"not-number\"></div></td>\n      <td>6</td>\n      <td><div class=\"not-number\">■■■■■■———</div></td>\n    </tr>\n    <tr>\n      <th>116</th>\n      <td>489</td>\n      <td>150611</td>\n      <td><div class=\"not-number\">Chestnut-backed Chickadee</div></td>\n      <td>39126</td>\n      <td><div class=\"not-number\">0.260</div></td>\n      <td><div class=\"not-number\"></div></td>\n      <td>6</td>\n      <td><div class=\"not-number\">■■■■■■———</div></td>\n    </tr>\n    <tr>\n      <th>261</th>\n      <td>489</td>\n      <td>150611</td>\n      <td><div class=\"not-number\">Mallard</div></td>\n      <td>39044</td>\n      <td><div class=\"not-number\">0.259</div></td>\n      <td><div class=\"not-number\"></div></td>\n      <td>6</td>\n      <td><div class=\"not-number\">■■■■■■———</div></td>\n    </tr>\n    <tr>\n      <th>100</th>\n      <td>489</td>\n      <td>150611</td>\n      <td><div class=\"not-number\">California Scrub-Jay</div></td>\n      <td>38901</td>\n      <td><div class=\"not-number\">0.258</div></td>\n      <td><div class=\"not-number\"></div></td>\n      <td>6</td>\n      <td><div class=\"not-number\">■■■■■■———</div></td>\n    </tr>\n    <tr>\n      <th>485</th>\n      <td>489</td>\n      <td>150611</td>\n      <td><div class=\"not-number\">Yellow-rumped Warbler</div></td>\n      <td>36416</td>\n      <td><div class=\"not-number\">0.242</div></td>\n      <td><div class=\"not-number\"></div></td>\n      <td>6</td>\n      <td><div class=\"not-number\">■■■■■■———</div></td>\n    </tr>\n    <tr>\n      <th>5</th>\n      <td>489</td>\n      <td>150611</td>\n      <td><div class=\"not-number\">American Coot</div></td>\n      <td>36040</td>\n      <td><div class=\"not-number\">0.239</div></td>\n      <td><div class=\"not-number\"></div></td>\n      <td>6</td>\n      <td><div class=\"not-number\">■■■■■■———</div></td>\n    </tr>\n    <tr>\n      <th>148</th>\n      <td>489</td>\n      <td>150611</td>\n      <td><div class=\"not-number\">Dark-eyed Junco</div></td>\n      <td>34788</td>\n      <td><div class=\"not-number\">0.231</div></td>\n      <td><div class=\"not-number\"></div></td>\n      <td>6</td>\n      <td><div class=\"not-number\">■■■■■■———</div></td>\n    </tr>\n    <tr>\n      <th>351</th>\n      <td>489</td>\n      <td>150611</td>\n      <td><div class=\"not-number\">Red-tailed Hawk</div></td>\n      <td>31988</td>\n      <td><div class=\"not-number\">0.212</div></td>\n      <td><div class=\"not-number\"></div></td>\n      <td>6</td>\n      <td><div class=\"not-number\">■■■■■■———</div></td>\n    </tr>\n    <tr>\n      <th>167</th>\n      <td>489</td>\n      <td>150611</td>\n      <td><div class=\"not-number\">European Starling</div></td>\n      <td>31946</td>\n      <td><div class=\"not-number\">0.212</div></td>\n      <td><div class=\"not-number\"></div></td>\n      <td>6</td>\n      <td><div class=\"not-number\">■■■■■■———</div></td>\n    </tr>\n    <tr>\n      <th>182</th>\n      <td>489</td>\n      <td>150611</td>\n      <td><div class=\"not-number\">Golden-crowned Sparrow</div></td>\n      <td>29994</td>\n      <td><div class=\"not-number\">0.199</div></td>\n      <td><div class=\"not-number\"></div></td>\n      <td>5</td>\n      <td><div class=\"not-number\">■■■■■————</div></td>\n    </tr>\n  </tbody>\n</table>",
      "text/plain": "     n_species  n_checklists                common_name  n_present p_present f0_  ebird_bar_width ebird_bar_str\n20         489        150611         Anna's Hummingbird      68096     0.452                    8     ■■■■■■■■—\n451        489        150611      White-crowned Sparrow      59776     0.397                    7     ■■■■■■■——\n440        489        150611               Western Gull      59595     0.396                    7     ■■■■■■■——\n219        489        150611                House Finch      55743     0.370                    7     ■■■■■■■——\n6          489        150611              American Crow      53830     0.357                    7     ■■■■■■■——\n40         489        150611               Black Phoebe      49936     0.332                    7     ■■■■■■■——\n403        489        150611               Song Sparrow      49160     0.326                    7     ■■■■■■■——\n102        489        150611          California Towhee      47628     0.316                    7     ■■■■■■■——\n139        489        150611               Common Raven      43418     0.288                    6     ■■■■■■———\n14         489        150611             American Robin      42922     0.285                    6     ■■■■■■———\n150        489        150611   Double-crested Cormorant      42148     0.280                    6     ■■■■■■———\n116        489        150611  Chestnut-backed Chickadee      39126     0.260                    6     ■■■■■■———\n261        489        150611                    Mallard      39044     0.259                    6     ■■■■■■———\n100        489        150611       California Scrub-Jay      38901     0.258                    6     ■■■■■■———\n485        489        150611      Yellow-rumped Warbler      36416     0.242                    6     ■■■■■■———\n5          489        150611              American Coot      36040     0.239                    6     ■■■■■■———\n148        489        150611            Dark-eyed Junco      34788     0.231                    6     ■■■■■■———\n351        489        150611            Red-tailed Hawk      31988     0.212                    6     ■■■■■■———\n167        489        150611          European Starling      31946     0.212                    6     ■■■■■■———\n182        489        150611     Golden-crowned Sparrow      29994     0.199                    5     ■■■■■————"
     },
     "execution_count": 261,
     "metadata": {},
     "output_type": "execute_result"
    }
   ],
   "source": [
    "# WARNING $0.12\n",
    "(bqq('''\n",
    "    with\n",
    "        obs as (\n",
    "            select distinct\n",
    "                common_name,\n",
    "                sampling_event_identifier,\n",
    "                count(distinct common_name) over () as n_species,\n",
    "                count(distinct sampling_event_identifier) over () as n_checklists\n",
    "            from ebird.obs_all_expensive\n",
    "            where true\n",
    "                and category in ('species', 'issf', 'form', 'intergrade')\n",
    "                and st_distance(st_geogpoint(longitude, latitude), st_geogpoint(-122.4194, 37.7749)) <= 20e3 # SF ± 20km\n",
    "        )\n",
    "    select\n",
    "        n_species,\n",
    "        n_checklists,\n",
    "        common_name,\n",
    "        count(*) as n_present,\n",
    "        count(*) / n_checklists as p_present,\n",
    "        ''\n",
    "    from obs\n",
    "    group by n_species, n_checklists, common_name\n",
    "    order by common_name\n",
    "''')\n",
    "    .pipe(df_display, lambda df: (df.shape,))\n",
    "    .assign(ebird_bar_width=lambda df: df.p_present.map(ebird_bar_width))\n",
    "    .assign(ebird_bar_str=lambda df: df.p_present.map(ebird_bar_str))\n",
    "    .assign(p_present=lambda df: df.p_present.map(lambda x: '%.3f' % x))\n",
    "    .sort_values('p_present', ascending=False)\n",
    "    [:20]\n",
    ")"
   ]
  },
  {
   "cell_type": "markdown",
   "metadata": {},
   "source": [
    "# How about small, useful intermediate data for the app?"
   ]
  },
  {
   "cell_type": "code",
   "execution_count": null,
   "metadata": {
    "time": "4.478s"
   },
   "outputs": [
    {
     "name": "stdout",
     "output_type": "stream",
     "text": "Running query..."
    },
    {
     "name": "stdout",
     "output_type": "stream",
     "text": "\n"
    },
    {
     "name": "stdout",
     "output_type": "stream",
     "text": "[4s] cost[$0.0009, 203.6 MB] rows[10] url[https://console.cloud.google.com/bigquery?project=bubo-1&j=bq:US:job_OUnt5yOja-M3BGSeVTUbtdOS-7zg&page=queryresults]"
    },
    {
     "name": "stdout",
     "output_type": "stream",
     "text": "\n"
    },
    {
     "name": "stdout",
     "output_type": "stream",
     "text": "Fetching results..."
    },
    {
     "name": "stdout",
     "output_type": "stream",
     "text": "\n"
    },
    {
     "name": "stdout",
     "output_type": "stream",
     "text": "[0s]"
    },
    {
     "name": "stdout",
     "output_type": "stream",
     "text": "\n"
    },
    {
     "data": {
      "text/html": "<table border=\"1\" class=\"dataframe\">\n  <thead>\n    <tr style=\"text-align: right;\">\n      <th></th>\n      <th>global_unique_identifier</th>\n      <th>last_edited_date</th>\n      <th>taxonomic_order</th>\n      <th>category</th>\n      <th>common_name</th>\n      <th>scientific_name</th>\n      <th>subspecies_common_name</th>\n      <th>subspecies_scientific_name</th>\n      <th>observation_count</th>\n      <th>breeding_bird_atlas_code</th>\n      <th>breeding_bird_atlas_category</th>\n      <th>age_sex</th>\n      <th>country</th>\n      <th>country_code</th>\n      <th>state</th>\n      <th>state_code</th>\n      <th>county</th>\n      <th>county_code</th>\n      <th>iba_code</th>\n      <th>bcr_code</th>\n      <th>usfws_code</th>\n      <th>atlas_block</th>\n      <th>locality</th>\n      <th>locality_id</th>\n      <th>_locality_type</th>\n      <th>latitude</th>\n      <th>longitude</th>\n      <th>observation_date</th>\n      <th>time_observations_started</th>\n      <th>observer_id</th>\n      <th>sampling_event_identifier</th>\n      <th>protocol_type</th>\n      <th>protocol_code</th>\n      <th>project_code</th>\n      <th>duration_minutes</th>\n      <th>effort_distance_km</th>\n      <th>effort_area_ha</th>\n      <th>number_observers</th>\n      <th>all_species_reported</th>\n      <th>group_identifier</th>\n      <th>has_media</th>\n      <th>approved</th>\n      <th>reviewed</th>\n      <th>reason</th>\n      <th>trip_comments</th>\n      <th>species_comments</th>\n    </tr>\n  </thead>\n  <tbody>\n    <tr>\n      <th>0</th>\n      <td><div class=\"not-number\">URN:CornellLabOfOrnithology:EBIRD:OBS274081873</div></td>\n      <td><div class=\"not-number\">2016-08-10 14:57:28</div></td>\n      <td>14600.0</td>\n      <td><div class=\"not-number\">species</div></td>\n      <td><div class=\"not-number\">Pacific-slope Flycatcher</div></td>\n      <td><div class=\"not-number\">Empidonax difficilis</div></td>\n      <td><div class=\"not-number\">None</div></td>\n      <td><div class=\"not-number\">None</div></td>\n      <td><div class=\"not-number\">1</div></td>\n      <td><div class=\"not-number\">None</div></td>\n      <td><div class=\"not-number\">None</div></td>\n      <td><div class=\"not-number\">None</div></td>\n      <td><div class=\"not-number\">United States</div></td>\n      <td><div class=\"not-number\">US</div></td>\n      <td><div class=\"not-number\">California</div></td>\n      <td><div class=\"not-number\">US-CA</div></td>\n      <td><div class=\"not-number\">Ventura</div></td>\n      <td><div class=\"not-number\">US-CA-111</div></td>\n      <td><div class=\"not-number\">None</div></td>\n      <td>32.0</td>\n      <td><div class=\"not-number\">None</div></td>\n      <td><div class=\"not-number\">None</div></td>\n      <td><div class=\"not-number\">Arroyo Verde Park</div></td>\n      <td><div class=\"not-number\">L1579832</div></td>\n      <td><div class=\"not-number\">P</div></td>\n      <td>34.3</td>\n      <td>-119.0</td>\n      <td><div class=\"not-number\">2014-09-30</div></td>\n      <td><div class=\"not-number\">08:30:00</div></td>\n      <td><div class=\"not-number\">obsr290167</div></td>\n      <td><div class=\"not-number\">S19990274</div></td>\n      <td><div class=\"not-number\">Traveling</div></td>\n      <td><div class=\"not-number\">P22</div></td>\n      <td><div class=\"not-number\">EBIRD</div></td>\n      <td>75.0</td>\n      <td>1.610</td>\n      <td>NaN</td>\n      <td>2</td>\n      <td>1</td>\n      <td><div class=\"not-number\">None</div></td>\n      <td>0</td>\n      <td>1</td>\n      <td>0</td>\n      <td><div class=\"not-number\">None</div></td>\n      <td><div class=\"not-number\">None</div></td>\n      <td><div class=\"not-number\">None</div></td>\n    </tr>\n    <tr>\n      <th>1</th>\n      <td><div class=\"not-number\">URN:CornellLabOfOrnithology:EBIRD:OBS214008504</div></td>\n      <td><div class=\"not-number\">2016-04-05 16:21:53</div></td>\n      <td>27800.0</td>\n      <td><div class=\"not-number\">species</div></td>\n      <td><div class=\"not-number\">Phainopepla</div></td>\n      <td><div class=\"not-number\">Phainopepla nitens</div></td>\n      <td><div class=\"not-number\">None</div></td>\n      <td><div class=\"not-number\">None</div></td>\n      <td><div class=\"not-number\">2</div></td>\n      <td><div class=\"not-number\">None</div></td>\n      <td><div class=\"not-number\">None</div></td>\n      <td><div class=\"not-number\">None</div></td>\n      <td><div class=\"not-number\">United States</div></td>\n      <td><div class=\"not-number\">US</div></td>\n      <td><div class=\"not-number\">California</div></td>\n      <td><div class=\"not-number\">US-CA</div></td>\n      <td><div class=\"not-number\">Amador</div></td>\n      <td><div class=\"not-number\">US-CA-005</div></td>\n      <td><div class=\"not-number\">None</div></td>\n      <td>32.0</td>\n      <td><div class=\"not-number\">None</div></td>\n      <td><div class=\"not-number\">None</div></td>\n      <td><div class=\"not-number\">Ione WTP</div></td>\n      <td><div class=\"not-number\">L486218</div></td>\n      <td><div class=\"not-number\">H</div></td>\n      <td>38.4</td>\n      <td>-121.0</td>\n      <td><div class=\"not-number\">2013-10-13</div></td>\n      <td><div class=\"not-number\">11:26:00</div></td>\n      <td><div class=\"not-number\">obsr147985</div></td>\n      <td><div class=\"not-number\">S15394534</div></td>\n      <td><div class=\"not-number\">Traveling</div></td>\n      <td><div class=\"not-number\">P22</div></td>\n      <td><div class=\"not-number\">EBIRD</div></td>\n      <td>22.0</td>\n      <td>0.161</td>\n      <td>NaN</td>\n      <td>1</td>\n      <td>1</td>\n      <td><div class=\"not-number\">None</div></td>\n      <td>0</td>\n      <td>1</td>\n      <td>0</td>\n      <td><div class=\"not-number\">None</div></td>\n      <td><div class=\"not-number\">Submitted from  BirdLog NA for Android v1.9.2</div></td>\n      <td><div class=\"not-number\">None</div></td>\n    </tr>\n    <tr>\n      <th>2</th>\n      <td><div class=\"not-number\">URN:CornellLabOfOrnithology:EBIRD:OBS27059837</div></td>\n      <td><div class=\"not-number\">2017-08-16 01:39:05</div></td>\n      <td>373.0</td>\n      <td><div class=\"not-number\">species</div></td>\n      <td><div class=\"not-number\">Cinnamon Teal</div></td>\n      <td><div class=\"not-number\">Spatula cyanoptera</div></td>\n      <td><div class=\"not-number\">None</div></td>\n      <td><div class=\"not-number\">None</div></td>\n      <td><div class=\"not-number\">12</div></td>\n      <td><div class=\"not-number\">None</div></td>\n      <td><div class=\"not-number\">None</div></td>\n      <td><div class=\"not-number\">None</div></td>\n      <td><div class=\"not-number\">United States</div></td>\n      <td><div class=\"not-number\">US</div></td>\n      <td><div class=\"not-number\">California</div></td>\n      <td><div class=\"not-number\">US-CA</div></td>\n      <td><div class=\"not-number\">Humboldt</div></td>\n      <td><div class=\"not-number\">US-CA-023</div></td>\n      <td><div class=\"not-number\">US-CA_43</div></td>\n      <td>5.0</td>\n      <td><div class=\"not-number\">None</div></td>\n      <td><div class=\"not-number\">None</div></td>\n      <td><div class=\"not-number\">HUM_Arcata Marsh</div></td>\n      <td><div class=\"not-number\">L1863148</div></td>\n      <td><div class=\"not-number\">P</div></td>\n      <td>40.9</td>\n      <td>-124.0</td>\n      <td><div class=\"not-number\">1999-04-11</div></td>\n      <td><div class=\"not-number\">None</div></td>\n      <td><div class=\"not-number\">obsr86404</div></td>\n      <td><div class=\"not-number\">S2042189</div></td>\n      <td><div class=\"not-number\">Incidental</div></td>\n      <td><div class=\"not-number\">P20</div></td>\n      <td><div class=\"not-number\">EBIRD</div></td>\n      <td>NaN</td>\n      <td>NaN</td>\n      <td>NaN</td>\n      <td>1</td>\n      <td>1</td>\n      <td><div class=\"not-number\">None</div></td>\n      <td>0</td>\n      <td>1</td>\n      <td>0</td>\n      <td><div class=\"not-number\">None</div></td>\n      <td><div class=\"not-number\">Birded most of the day, but don''t have hours.</div></td>\n      <td><div class=\"not-number\">None</div></td>\n    </tr>\n    <tr>\n      <th>3</th>\n      <td><div class=\"not-number\">URN:CornellLabOfOrnithology:EBIRD:OBS298884756</div></td>\n      <td><div class=\"not-number\">2017-08-16 16:41:15</div></td>\n      <td>2820.0</td>\n      <td><div class=\"not-number\">species</div></td>\n      <td><div class=\"not-number\">Cooper's Hawk</div></td>\n      <td><div class=\"not-number\">Accipiter cooperii</div></td>\n      <td><div class=\"not-number\">None</div></td>\n      <td><div class=\"not-number\">None</div></td>\n      <td><div class=\"not-number\">1</div></td>\n      <td><div class=\"not-number\">None</div></td>\n      <td><div class=\"not-number\">None</div></td>\n      <td><div class=\"not-number\">None</div></td>\n      <td><div class=\"not-number\">United States</div></td>\n      <td><div class=\"not-number\">US</div></td>\n      <td><div class=\"not-number\">California</div></td>\n      <td><div class=\"not-number\">US-CA</div></td>\n      <td><div class=\"not-number\">San Diego</div></td>\n      <td><div class=\"not-number\">US-CA-073</div></td>\n      <td><div class=\"not-number\">None</div></td>\n      <td>32.0</td>\n      <td><div class=\"not-number\">None</div></td>\n      <td><div class=\"not-number\">None</div></td>\n      <td><div class=\"not-number\">Tijuana River Valley Regional Park--Bird & Butterfly Garden</div></td>\n      <td><div class=\"not-number\">L418752</div></td>\n      <td><div class=\"not-number\">H</div></td>\n      <td>32.6</td>\n      <td>-117.0</td>\n      <td><div class=\"not-number\">2015-02-21</div></td>\n      <td><div class=\"not-number\">06:30:00</div></td>\n      <td><div class=\"not-number\">obsr30312</div></td>\n      <td><div class=\"not-number\">S22014927</div></td>\n      <td><div class=\"not-number\">Traveling</div></td>\n      <td><div class=\"not-number\">P22</div></td>\n      <td><div class=\"not-number\">EBIRD</div></td>\n      <td>103.0</td>\n      <td>1.130</td>\n      <td>NaN</td>\n      <td>2</td>\n      <td>1</td>\n      <td><div class=\"not-number\">None</div></td>\n      <td>0</td>\n      <td>1</td>\n      <td>0</td>\n      <td><div class=\"not-number\">None</div></td>\n      <td><div class=\"not-number\">0630-0650  (cloudy, calm, ca. 55); 1037-1200 (mostly cloudy; w/2-10; ca. 70) with Guy McCaskie); garden area early; then on return trip spent most time looking for E. Phoeb...</td>\n      <td><div class=\"not-number\">None</div></td>\n    </tr>\n    <tr>\n      <th>4</th>\n      <td><div class=\"not-number\">URN:CornellLabOfOrnithology:EBIRD:OBS286434592</div></td>\n      <td><div class=\"not-number\">2017-08-16 16:04:54</div></td>\n      <td>2390.0</td>\n      <td><div class=\"not-number\">species</div></td>\n      <td><div class=\"not-number\">White-tailed Kite</div></td>\n      <td><div class=\"not-number\">Elanus leucurus</div></td>\n      <td><div class=\"not-number\">None</div></td>\n      <td><div class=\"not-number\">None</div></td>\n      <td><div class=\"not-number\">1</div></td>\n      <td><div class=\"not-number\">None</div></td>\n      <td><div class=\"not-number\">None</div></td>\n      <td><div class=\"not-number\">None</div></td>\n      <td><div class=\"not-number\">United States</div></td>\n      <td><div class=\"not-number\">US</div></td>\n      <td><div class=\"not-number\">California</div></td>\n      <td><div class=\"not-number\">US-CA</div></td>\n      <td><div class=\"not-number\">Ventura</div></td>\n      <td><div class=\"not-number\">US-CA-111</div></td>\n      <td><div class=\"not-number\">US-CA_195</div></td>\n      <td>32.0</td>\n      <td><div class=\"not-number\">None</div></td>\n      <td><div class=\"not-number\">None</div></td>\n      <td><div class=\"not-number\">Lake Casitas</div></td>\n      <td><div class=\"not-number\">L297814</div></td>\n      <td><div class=\"not-number\">H</div></td>\n      <td>34.4</td>\n      <td>-119.0</td>\n      <td><div class=\"not-number\">2014-12-21</div></td>\n      <td><div class=\"not-number\">09:00:00</div></td>\n      <td><div class=\"not-number\">obsr447841</div></td>\n      <td><div class=\"not-number\">S20979049</div></td>\n      <td><div class=\"not-number\">Traveling</div></td>\n      <td><div class=\"not-number\">P22</div></td>\n      <td><div class=\"not-number\">EBIRD</div></td>\n      <td>300.0</td>\n      <td>3.220</td>\n      <td>NaN</td>\n      <td>1</td>\n      <td>1</td>\n      <td><div class=\"not-number\">None</div></td>\n      <td>0</td>\n      <td>1</td>\n      <td>0</td>\n      <td><div class=\"not-number\">None</div></td>\n      <td><div class=\"not-number\">Lakshore from boat ramp to southeastern corner, and oaks around main entrance</div></td>\n      <td><div class=\"not-number\">None</div></td>\n    </tr>\n    <tr>\n      <th>5</th>\n      <td><div class=\"not-number\">URN:CornellLabOfOrnithology:EBIRD:OBS570482603</div></td>\n      <td><div class=\"not-number\">2018-01-23 12:52:49</div></td>\n      <td>30000.0</td>\n      <td><div class=\"not-number\">species</div></td>\n      <td><div class=\"not-number\">Dark-eyed Junco</div></td>\n      <td><div class=\"not-number\">Junco hyemalis</div></td>\n      <td><div class=\"not-number\">None</div></td>\n      <td><div class=\"not-number\">None</div></td>\n      <td><div class=\"not-number\">5</div></td>\n      <td><div class=\"not-number\">None</div></td>\n      <td><div class=\"not-number\">None</div></td>\n      <td><div class=\"not-number\">None</div></td>\n      <td><div class=\"not-number\">United States</div></td>\n      <td><div class=\"not-number\">US</div></td>\n      <td><div class=\"not-number\">California</div></td>\n      <td><div class=\"not-number\">US-CA</div></td>\n      <td><div class=\"not-number\">Napa</div></td>\n      <td><div class=\"not-number\">US-CA-055</div></td>\n      <td><div class=\"not-number\">None</div></td>\n      <td>32.0</td>\n      <td><div class=\"not-number\">None</div></td>\n      <td><div class=\"not-number\">None</div></td>\n      <td><div class=\"not-number\">1505–1723 Partrick Rd, Napa US-CA (38.3152,-122.3706)</div></td>\n      <td><div class=\"not-number\">L6766592</div></td>\n      <td><div class=\"not-number\">P</div></td>\n      <td>38.3</td>\n      <td>-122.0</td>\n      <td><div class=\"not-number\">2018-01-23</div></td>\n      <td><div class=\"not-number\">09:44:00</div></td>\n      <td><div class=\"not-number\">obsr555822</div></td>\n      <td><div class=\"not-number\">S42180738</div></td>\n      <td><div class=\"not-number\">Stationary</div></td>\n      <td><div class=\"not-number\">P21</div></td>\n      <td><div class=\"not-number\">EBIRD</div></td>\n      <td>5.0</td>\n      <td>NaN</td>\n      <td>NaN</td>\n      <td>2</td>\n      <td>1</td>\n      <td><div class=\"not-number\">None</div></td>\n      <td>0</td>\n      <td>1</td>\n      <td>0</td>\n      <td><div class=\"not-number\">None</div></td>\n      <td><div class=\"not-number\">None</div></td>\n      <td><div class=\"not-number\">None</div></td>\n    </tr>\n    <tr>\n      <th>6</th>\n      <td><div class=\"not-number\">URN:CornellLabOfOrnithology:EBIRD:OBS119793508</div></td>\n      <td><div class=\"not-number\">2014-01-02 14:27:18</div></td>\n      <td>2070.0</td>\n      <td><div class=\"not-number\">species</div></td>\n      <td><div class=\"not-number\">Brown Pelican</div></td>\n      <td><div class=\"not-number\">Pelecanus occidentalis</div></td>\n      <td><div class=\"not-number\">None</div></td>\n      <td><div class=\"not-number\">None</div></td>\n      <td><div class=\"not-number\">24</div></td>\n      <td><div class=\"not-number\">None</div></td>\n      <td><div class=\"not-number\">None</div></td>\n      <td><div class=\"not-number\">None</div></td>\n      <td><div class=\"not-number\">United States</div></td>\n      <td><div class=\"not-number\">US</div></td>\n      <td><div class=\"not-number\">California</div></td>\n      <td><div class=\"not-number\">US-CA</div></td>\n      <td><div class=\"not-number\">Monterey</div></td>\n      <td><div class=\"not-number\">US-CA-053</div></td>\n      <td><div class=\"not-number\">US-CA_142</div></td>\n      <td>NaN</td>\n      <td><div class=\"not-number\">None</div></td>\n      <td><div class=\"not-number\">None</div></td>\n      <td><div class=\"not-number\">Elkhorn Slough Reserve (NERR)</div></td>\n      <td><div class=\"not-number\">L353255</div></td>\n      <td><div class=\"not-number\">H</div></td>\n      <td>36.8</td>\n      <td>-122.0</td>\n      <td><div class=\"not-number\">2011-05-25</div></td>\n      <td><div class=\"not-number\">11:30:00</div></td>\n      <td><div class=\"not-number\">obsr88430</div></td>\n      <td><div class=\"not-number\">S8325389</div></td>\n      <td><div class=\"not-number\">Traveling</div></td>\n      <td><div class=\"not-number\">P22</div></td>\n      <td><div class=\"not-number\">EBIRD</div></td>\n      <td>120.0</td>\n      <td>1.610</td>\n      <td>NaN</td>\n      <td>2</td>\n      <td>1</td>\n      <td><div class=\"not-number\">None</div></td>\n      <td>0</td>\n      <td>1</td>\n      <td>0</td>\n      <td><div class=\"not-number\">None</div></td>\n      <td><div class=\"not-number\">Elkhorn Slough Safari boat trip.  </div></td>\n      <td><div class=\"not-number\">None</div></td>\n    </tr>\n    <tr>\n      <th>7</th>\n      <td><div class=\"not-number\">URN:CornellLabOfOrnithology:EBIRD:OBS219023434</div></td>\n      <td><div class=\"not-number\">2013-11-28 01:47:06</div></td>\n      <td>26500.0</td>\n      <td><div class=\"not-number\">species</div></td>\n      <td><div class=\"not-number\">Northern Mockingbird</div></td>\n      <td><div class=\"not-number\">Mimus polyglottos</div></td>\n      <td><div class=\"not-number\">None</div></td>\n      <td><div class=\"not-number\">None</div></td>\n      <td><div class=\"not-number\">3</div></td>\n      <td><div class=\"not-number\">None</div></td>\n      <td><div class=\"not-number\">None</div></td>\n      <td><div class=\"not-number\">None</div></td>\n      <td><div class=\"not-number\">United States</div></td>\n      <td><div class=\"not-number\">US</div></td>\n      <td><div class=\"not-number\">California</div></td>\n      <td><div class=\"not-number\">US-CA</div></td>\n      <td><div class=\"not-number\">Santa Cruz</div></td>\n      <td><div class=\"not-number\">US-CA-087</div></td>\n      <td><div class=\"not-number\">None</div></td>\n      <td>32.0</td>\n      <td><div class=\"not-number\">None</div></td>\n      <td><div class=\"not-number\">None</div></td>\n      <td><div class=\"not-number\">Santa Cruz- San Juan Ave. near Prospect Heights</div></td>\n      <td><div class=\"not-number\">L2062852</div></td>\n      <td><div class=\"not-number\">P</div></td>\n      <td>37.0</td>\n      <td>-122.0</td>\n      <td><div class=\"not-number\">2013-11-27</div></td>\n      <td><div class=\"not-number\">07:05:00</div></td>\n      <td><div class=\"not-number\">obsr48945</div></td>\n      <td><div class=\"not-number\">S15774950</div></td>\n      <td><div class=\"not-number\">Stationary</div></td>\n      <td><div class=\"not-number\">P21</div></td>\n      <td><div class=\"not-number\">EBIRD</div></td>\n      <td>15.0</td>\n      <td>NaN</td>\n      <td>NaN</td>\n      <td>1</td>\n      <td>1</td>\n      <td><div class=\"not-number\">None</div></td>\n      <td>0</td>\n      <td>1</td>\n      <td>0</td>\n      <td><div class=\"not-number\">None</div></td>\n      <td><div class=\"not-number\">None</div></td>\n      <td><div class=\"not-number\">None</div></td>\n    </tr>\n    <tr>\n      <th>8</th>\n      <td><div class=\"not-number\">URN:CornellLabOfOrnithology:EBIRD:OBS237592542</div></td>\n      <td><div class=\"not-number\">2016-08-09 17:40:51</div></td>\n      <td>4830.0</td>\n      <td><div class=\"not-number\">species</div></td>\n      <td><div class=\"not-number\">Eurasian Collared-Dove</div></td>\n      <td><div class=\"not-number\">Streptopelia decaocto</div></td>\n      <td><div class=\"not-number\">None</div></td>\n      <td><div class=\"not-number\">None</div></td>\n      <td><div class=\"not-number\">4</div></td>\n      <td><div class=\"not-number\">None</div></td>\n      <td><div class=\"not-number\">None</div></td>\n      <td><div class=\"not-number\">None</div></td>\n      <td><div class=\"not-number\">United States</div></td>\n      <td><div class=\"not-number\">US</div></td>\n      <td><div class=\"not-number\">California</div></td>\n      <td><div class=\"not-number\">US-CA</div></td>\n      <td><div class=\"not-number\">Mendocino</div></td>\n      <td><div class=\"not-number\">US-CA-045</div></td>\n      <td><div class=\"not-number\">None</div></td>\n      <td>32.0</td>\n      <td><div class=\"not-number\">None</div></td>\n      <td><div class=\"not-number\">None</div></td>\n      <td><div class=\"not-number\">Dave's Yard, Rogina Hts., Ukiah</div></td>\n      <td><div class=\"not-number\">L806454</div></td>\n      <td><div class=\"not-number\">P</div></td>\n      <td>39.1</td>\n      <td>-123.0</td>\n      <td><div class=\"not-number\">2014-02-27</div></td>\n      <td><div class=\"not-number\">09:15:00</div></td>\n      <td><div class=\"not-number\">obsr200080</div></td>\n      <td><div class=\"not-number\">S17253456</div></td>\n      <td><div class=\"not-number\">Area</div></td>\n      <td><div class=\"not-number\">P23</div></td>\n      <td><div class=\"not-number\">EBIRD</div></td>\n      <td>105.0</td>\n      <td>NaN</td>\n      <td>0.243</td>\n      <td>1</td>\n      <td>1</td>\n      <td><div class=\"not-number\">None</div></td>\n      <td>0</td>\n      <td>1</td>\n      <td>0</td>\n      <td><div class=\"not-number\">None</div></td>\n      <td><div class=\"not-number\">None</div></td>\n      <td><div class=\"not-number\">None</div></td>\n    </tr>\n    <tr>\n      <th>9</th>\n      <td><div class=\"not-number\">URN:CornellLabOfOrnithology:EBIRD:OBS520916887</div></td>\n      <td><div class=\"not-number\">2017-07-24 17:55:59</div></td>\n      <td>30000.0</td>\n      <td><div class=\"not-number\">species</div></td>\n      <td><div class=\"not-number\">Spotted Towhee</div></td>\n      <td><div class=\"not-number\">Pipilo maculatus</div></td>\n      <td><div class=\"not-number\">None</div></td>\n      <td><div class=\"not-number\">None</div></td>\n      <td><div class=\"not-number\">1</div></td>\n      <td><div class=\"not-number\">None</div></td>\n      <td><div class=\"not-number\">None</div></td>\n      <td><div class=\"not-number\">None</div></td>\n      <td><div class=\"not-number\">United States</div></td>\n      <td><div class=\"not-number\">US</div></td>\n      <td><div class=\"not-number\">California</div></td>\n      <td><div class=\"not-number\">US-CA</div></td>\n      <td><div class=\"not-number\">Monterey</div></td>\n      <td><div class=\"not-number\">US-CA-053</div></td>\n      <td><div class=\"not-number\">None</div></td>\n      <td>32.0</td>\n      <td><div class=\"not-number\">None</div></td>\n      <td><div class=\"not-number\">None</div></td>\n      <td><div class=\"not-number\">Palo Corona Regional Park (permit required)</div></td>\n      <td><div class=\"not-number\">L1449179</div></td>\n      <td><div class=\"not-number\">H</div></td>\n      <td>36.5</td>\n      <td>-122.0</td>\n      <td><div class=\"not-number\">2017-07-19</div></td>\n      <td><div class=\"not-number\">12:15:00</div></td>\n      <td><div class=\"not-number\">obsr941359</div></td>\n      <td><div class=\"not-number\">S38305647</div></td>\n      <td><div class=\"not-number\">Incidental</div></td>\n      <td><div class=\"not-number\">P20</div></td>\n      <td><div class=\"not-number\">EBIRD</div></td>\n      <td>NaN</td>\n      <td>NaN</td>\n      <td>NaN</td>\n      <td>20</td>\n      <td>0</td>\n      <td><div class=\"not-number\">G2545418</div></td>\n      <td>0</td>\n      <td>1</td>\n      <td>0</td>\n      <td><div class=\"not-number\">None</div></td>\n      <td><div class=\"not-number\">BIO 362 Field Trips</div></td>\n      <td><div class=\"not-number\">None</div></td>\n    </tr>\n  </tbody>\n</table>",
      "text/plain": "                         global_unique_identifier    last_edited_date  taxonomic_order category               common_name         scientific_name subspecies_common_name subspecies_scientific_name observation_count breeding_bird_atlas_code breeding_bird_atlas_category age_sex        country country_code       state state_code      county county_code   iba_code  bcr_code usfws_code atlas_block                                                     locality locality_id _locality_type  latitude  longitude observation_date time_observations_started observer_id sampling_event_identifier protocol_type protocol_code project_code  duration_minutes  effort_distance_km  effort_area_ha  number_observers  all_species_reported group_identifier  has_media  approved  reviewed reason                                                                                                                                                                                            trip_comments species_comments\n0  URN:CornellLabOfOrnithology:EBIRD:OBS274081873 2016-08-10 14:57:28         14600.00  species  Pacific-slope Flycatcher    Empidonax difficilis                   None                       None                 1                     None                         None    None  United States           US  California      US-CA     Ventura   US-CA-111       None      32.0       None        None                                            Arroyo Verde Park    L1579832              P    34.287   -119.227       2014-09-30                  08:30:00  obsr290167                 S19990274     Traveling           P22        EBIRD              75.0               1.609             NaN                 2                     1             None          0         1         0   None                                                                                                                                                                                                     None             None\n1  URN:CornellLabOfOrnithology:EBIRD:OBS214008504 2016-04-05 16:21:53         27755.00  species               Phainopepla      Phainopepla nitens                   None                       None                 2                     None                         None    None  United States           US  California      US-CA      Amador   US-CA-005       None      32.0       None        None                                                     Ione WTP     L486218              H    38.351   -120.956       2013-10-13                  11:26:00  obsr147985                 S15394534     Traveling           P22        EBIRD              22.0               0.161             NaN                 1                     1             None          0         1         0   None                                                                                                                                                            Submitted from  BirdLog NA for Android v1.9.2             None\n2   URN:CornellLabOfOrnithology:EBIRD:OBS27059837 2017-08-16 01:39:05           373.35  species             Cinnamon Teal      Spatula cyanoptera                   None                       None                12                     None                         None    None  United States           US  California      US-CA    Humboldt   US-CA-023   US-CA_43       5.0       None        None                                             HUM_Arcata Marsh    L1863148              P    40.857   -124.093       1999-04-11                      None   obsr86404                  S2042189    Incidental           P20        EBIRD               NaN                 NaN             NaN                 1                     1             None          0         1         0   None                                                                                                                                                           Birded most of the day, but don''t have hours.             None\n3  URN:CornellLabOfOrnithology:EBIRD:OBS298884756 2017-08-16 16:41:15          2821.00  species             Cooper's Hawk      Accipiter cooperii                   None                       None                 1                     None                         None    None  United States           US  California      US-CA   San Diego   US-CA-073       None      32.0       None        None  Tijuana River Valley Regional Park--Bird & Butterfly Garden     L418752              H    32.554   -117.086       2015-02-21                  06:30:00   obsr30312                 S22014927     Traveling           P22        EBIRD             103.0               1.127             NaN                 2                     1             None          0         1         0   None  0630-0650  (cloudy, calm, ca. 55); 1037-1200 (mostly cloudy; w/2-10; ca. 70) with Guy McCaskie); garden area early; then on return trip spent most time looking for E. Phoebe (unsuccessfully) in th...             None\n4  URN:CornellLabOfOrnithology:EBIRD:OBS286434592 2017-08-16 16:04:54          2391.00  species         White-tailed Kite         Elanus leucurus                   None                       None                 1                     None                         None    None  United States           US  California      US-CA     Ventura   US-CA-111  US-CA_195      32.0       None        None                                                 Lake Casitas     L297814              H    34.395   -119.339       2014-12-21                  09:00:00  obsr447841                 S20979049     Traveling           P22        EBIRD             300.0               3.219             NaN                 1                     1             None          0         1         0   None                                                                                                                            Lakshore from boat ramp to southeastern corner, and oaks around main entrance             None\n5  URN:CornellLabOfOrnithology:EBIRD:OBS570482603 2018-01-23 12:52:49         29958.00  species           Dark-eyed Junco          Junco hyemalis                   None                       None                 5                     None                         None    None  United States           US  California      US-CA        Napa   US-CA-055       None      32.0       None        None        1505–1723 Partrick Rd, Napa US-CA (38.3152,-122.3706)    L6766592              P    38.315   -122.371       2018-01-23                  09:44:00  obsr555822                 S42180738    Stationary           P21        EBIRD               5.0                 NaN             NaN                 2                     1             None          0         1         0   None                                                                                                                                                                                                     None             None\n6  URN:CornellLabOfOrnithology:EBIRD:OBS119793508 2014-01-02 14:27:18          2070.00  species             Brown Pelican  Pelecanus occidentalis                   None                       None                24                     None                         None    None  United States           US  California      US-CA    Monterey   US-CA-053  US-CA_142       NaN       None        None                                Elkhorn Slough Reserve (NERR)     L353255              H    36.818   -121.736       2011-05-25                  11:30:00   obsr88430                  S8325389     Traveling           P22        EBIRD             120.0               1.609             NaN                 2                     1             None          0         1         0   None                                                                                                                                                                       Elkhorn Slough Safari boat trip.               None\n7  URN:CornellLabOfOrnithology:EBIRD:OBS219023434 2013-11-28 01:47:06         26464.00  species      Northern Mockingbird       Mimus polyglottos                   None                       None                 3                     None                         None    None  United States           US  California      US-CA  Santa Cruz   US-CA-087       None      32.0       None        None              Santa Cruz- San Juan Ave. near Prospect Heights    L2062852              P    36.991   -122.001       2013-11-27                  07:05:00   obsr48945                 S15774950    Stationary           P21        EBIRD              15.0                 NaN             NaN                 1                     1             None          0         1         0   None                                                                                                                                                                                                     None             None\n8  URN:CornellLabOfOrnithology:EBIRD:OBS237592542 2016-08-09 17:40:51          4828.00  species    Eurasian Collared-Dove   Streptopelia decaocto                   None                       None                 4                     None                         None    None  United States           US  California      US-CA   Mendocino   US-CA-045       None      32.0       None        None                              Dave's Yard, Rogina Hts., Ukiah     L806454              P    39.145   -123.173       2014-02-27                  09:15:00  obsr200080                 S17253456          Area           P23        EBIRD             105.0                 NaN           0.243                 1                     1             None          0         1         0   None                                                                                                                                                                                                     None             None\n9  URN:CornellLabOfOrnithology:EBIRD:OBS520916887 2017-07-24 17:55:59         29984.69  species            Spotted Towhee        Pipilo maculatus                   None                       None                 1                     None                         None    None  United States           US  California      US-CA    Monterey   US-CA-053       None      32.0       None        None                  Palo Corona Regional Park (permit required)    L1449179              H    36.528   -121.898       2017-07-19                  12:15:00  obsr941359                 S38305647    Incidental           P20        EBIRD               NaN                 NaN             NaN                20                     0         G2545418          0         1         0   None                                                                                                                                                                                      BIO 362 Field Trips             None"
     },
     "execution_count": 262,
     "metadata": {},
     "output_type": "execute_result"
    }
   ],
   "source": [
    "bqq('''\n",
    "    select *\n",
    "    from ebird.obs_sample_001\n",
    "    where true\n",
    "        and state_code = 'US-CA'\n",
    "        and category in ('species', 'issf', 'form', 'intergrade')\n",
    "    order by rand()\n",
    "    limit 10\n",
    "''')"
   ]
  },
  {
   "cell_type": "code",
   "execution_count": null,
   "metadata": {
    "time": "94.01s"
   },
   "outputs": [
    {
     "name": "stdout",
     "output_type": "stream",
     "text": "Running query..."
    },
    {
     "name": "stdout",
     "output_type": "stream",
     "text": "\n"
    },
    {
     "name": "stdout",
     "output_type": "stream",
     "text": "[36s] cost[$0.1896, 41.7 GB] rows[7907912] size[271.5 MiB] url[https://console.cloud.google.com/bigquery?project=bubo-1&j=bq:US:job_IHY1p5ea63c9plrFXWrWUr8Y0hw6&page=queryresults]"
    },
    {
     "name": "stdout",
     "output_type": "stream",
     "text": "\n"
    },
    {
     "name": "stdout",
     "output_type": "stream",
     "text": "Using .extract i/o .to_dataframe, because size[271.5 MiB] ≥ extract_infer_threshold_mb[100]"
    },
    {
     "name": "stdout",
     "output_type": "stream",
     "text": "\n"
    },
    {
     "name": "stdout",
     "output_type": "stream",
     "text": "Extracting results to uri[gs://potoo-bqq-extract/v0/2019-08-24T23-05-12-990174.csv.gz]..."
    },
    {
     "name": "stdout",
     "output_type": "stream",
     "text": "\n"
    },
    {
     "name": "stdout",
     "output_type": "stream",
     "text": "Peeking .to_dataframe(max_rows=1000) to infer schema for .extract() (disable with extract_infer_schema=False)..."
    },
    {
     "name": "stdout",
     "output_type": "stream",
     "text": "\n"
    },
    {
     "name": "stdout",
     "output_type": "stream",
     "text": "Fetching results from uri[gs://potoo-bqq-extract/v0/2019-08-24T23-05-12-990174.csv.gz]..."
    },
    {
     "name": "stdout",
     "output_type": "stream",
     "text": "\n"
    },
    {
     "name": "stdout",
     "output_type": "stream",
     "text": "[57s]"
    },
    {
     "name": "stdout",
     "output_type": "stream",
     "text": "\n"
    },
    {
     "data": {
      "text/plain": "(7907912, 5)"
     },
     "metadata": {},
     "output_type": "display_data",
     "transient": {}
    },
    {
     "data": {
      "text/plain": "1.1 GiB"
     },
     "metadata": {},
     "output_type": "display_data",
     "transient": {}
    },
    {
     "data": {
      "text/html": "<table border=\"1\" class=\"dataframe\">\n  <thead>\n    <tr style=\"text-align: right;\">\n      <th></th>\n      <th>geohash_bin</th>\n      <th>observation_date_bin</th>\n      <th>bin_n_checklists</th>\n      <th>bin_n_checklists_with_sp</th>\n      <th>species</th>\n    </tr>\n  </thead>\n  <tbody>\n    <tr>\n      <th>0</th>\n      <td><div class=\"not-number\">9my0</div></td>\n      <td>0</td>\n      <td>505</td>\n      <td>10</td>\n      <td><div class=\"not-number\">YHBL</div></td>\n    </tr>\n    <tr>\n      <th>1</th>\n      <td><div class=\"not-number\">9my0</div></td>\n      <td>0</td>\n      <td>505</td>\n      <td>10</td>\n      <td><div class=\"not-number\">YHBL</div></td>\n    </tr>\n    <tr>\n      <th>2</th>\n      <td><div class=\"not-number\">9q3h</div></td>\n      <td>0</td>\n      <td>2173</td>\n      <td>14</td>\n      <td><div class=\"not-number\">WWDO</div></td>\n    </tr>\n    <tr>\n      <th>3</th>\n      <td><div class=\"not-number\">9q78</div></td>\n      <td>0</td>\n      <td>1609</td>\n      <td>409</td>\n      <td><div class=\"not-number\">RCKI</div></td>\n    </tr>\n    <tr>\n      <th>4</th>\n      <td><div class=\"not-number\">9q90</div></td>\n      <td>0</td>\n      <td>25479</td>\n      <td>245</td>\n      <td><div class=\"not-number\">ROGO</div></td>\n    </tr>\n    <tr>\n      <th>5</th>\n      <td><div class=\"not-number\">9q90</div></td>\n      <td>0</td>\n      <td>25479</td>\n      <td>245</td>\n      <td><div class=\"not-number\">ROGO</div></td>\n    </tr>\n    <tr>\n      <th>6</th>\n      <td><div class=\"not-number\">9qd8</div></td>\n      <td>0</td>\n      <td>2115</td>\n      <td>289</td>\n      <td><div class=\"not-number\">RWBL</div></td>\n    </tr>\n    <tr>\n      <th>7</th>\n      <td><div class=\"not-number\">9qdh</div></td>\n      <td>0</td>\n      <td>1599</td>\n      <td>47</td>\n      <td><div class=\"not-number\">CLGR</div></td>\n    </tr>\n    <tr>\n      <th>8</th>\n      <td><div class=\"not-number\">9rnh</div></td>\n      <td>0</td>\n      <td>7</td>\n      <td>3</td>\n      <td><div class=\"not-number\">RLHA</div></td>\n    </tr>\n    <tr>\n      <th>9</th>\n      <td><div class=\"not-number\">9t8s</div></td>\n      <td>0</td>\n      <td>1934</td>\n      <td>3</td>\n      <td><div class=\"not-number\">CAVI</div></td>\n    </tr>\n    <tr>\n      <th>10</th>\n      <td><div class=\"not-number\">9td0</div></td>\n      <td>0</td>\n      <td>130</td>\n      <td>42</td>\n      <td><div class=\"not-number\">CRTH</div></td>\n    </tr>\n    <tr>\n      <th>11</th>\n      <td><div class=\"not-number\">9tds</div></td>\n      <td>0</td>\n      <td>344</td>\n      <td>50</td>\n      <td><div class=\"not-number\">SAVS</div></td>\n    </tr>\n    <tr>\n      <th>12</th>\n      <td><div class=\"not-number\">9tf8</div></td>\n      <td>0</td>\n      <td>333</td>\n      <td>9</td>\n      <td><div class=\"not-number\">LARB</div></td>\n    </tr>\n    <tr>\n      <th>13</th>\n      <td><div class=\"not-number\">9tth</div></td>\n      <td>0</td>\n      <td>346</td>\n      <td>36</td>\n      <td><div class=\"not-number\">LOSH</div></td>\n    </tr>\n    <tr>\n      <th>14</th>\n      <td><div class=\"not-number\">9tv8</div></td>\n      <td>0</td>\n      <td>411</td>\n      <td>5</td>\n      <td><div class=\"not-number\">RCSP</div></td>\n    </tr>\n    <tr>\n      <th>15</th>\n      <td><div class=\"not-number\">9tys</div></td>\n      <td>0</td>\n      <td>74</td>\n      <td>5</td>\n      <td><div class=\"not-number\">RWBL</div></td>\n    </tr>\n    <tr>\n      <th>16</th>\n      <td><div class=\"not-number\">9u9s</div></td>\n      <td>0</td>\n      <td>2259</td>\n      <td>83</td>\n      <td><div class=\"not-number\">RNDU</div></td>\n    </tr>\n    <tr>\n      <th>17</th>\n      <td><div class=\"not-number\">9uf0</div></td>\n      <td>0</td>\n      <td>955</td>\n      <td>2</td>\n      <td><div class=\"not-number\">BTGN</div></td>\n    </tr>\n    <tr>\n      <th>18</th>\n      <td><div class=\"not-number\">9v40</div></td>\n      <td>0</td>\n      <td>1287</td>\n      <td>6</td>\n      <td><div class=\"not-number\">LCSP</div></td>\n    </tr>\n    <tr>\n      <th>19</th>\n      <td><div class=\"not-number\">9v50</div></td>\n      <td>0</td>\n      <td>3694</td>\n      <td>7</td>\n      <td><div class=\"not-number\">FOSP</div></td>\n    </tr>\n    <tr>\n      <th>20</th>\n      <td><div class=\"not-number\">9v50</div></td>\n      <td>0</td>\n      <td>3694</td>\n      <td>7</td>\n      <td><div class=\"not-number\">FOSP</div></td>\n    </tr>\n    <tr>\n      <th>21</th>\n      <td><div class=\"not-number\">9vb0</div></td>\n      <td>0</td>\n      <td>147</td>\n      <td>7</td>\n      <td><div class=\"not-number\">GWTE</div></td>\n    </tr>\n    <tr>\n      <th>22</th>\n      <td><div class=\"not-number\">9vbh</div></td>\n      <td>0</td>\n      <td>384</td>\n      <td>75</td>\n      <td><div class=\"not-number\">EUCD</div></td>\n    </tr>\n    <tr>\n      <th>23</th>\n      <td><div class=\"not-number\">9vg0</div></td>\n      <td>0</td>\n      <td>6136</td>\n      <td>1840</td>\n      <td><div class=\"not-number\">MODO</div></td>\n    </tr>\n    <tr>\n      <th>24</th>\n      <td><div class=\"not-number\">9vgs</div></td>\n      <td>0</td>\n      <td>429</td>\n      <td>49</td>\n      <td><div class=\"not-number\">AMWI</div></td>\n    </tr>\n    <tr>\n      <th>25</th>\n      <td><div class=\"not-number\">9vgs</div></td>\n      <td>0</td>\n      <td>429</td>\n      <td>49</td>\n      <td><div class=\"not-number\">AMWI</div></td>\n    </tr>\n    <tr>\n      <th>26</th>\n      <td><div class=\"not-number\">9vm0</div></td>\n      <td>0</td>\n      <td>4068</td>\n      <td>88</td>\n      <td><div class=\"not-number\">PEFA</div></td>\n    </tr>\n    <tr>\n      <th>27</th>\n      <td><div class=\"not-number\">9vy8</div></td>\n      <td>0</td>\n      <td>532</td>\n      <td>34</td>\n      <td><div class=\"not-number\">SSHA</div></td>\n    </tr>\n    <tr>\n      <th>28</th>\n      <td><div class=\"not-number\">9vy8</div></td>\n      <td>0</td>\n      <td>532</td>\n      <td>34</td>\n      <td><div class=\"not-number\">SSHA</div></td>\n    </tr>\n    <tr>\n      <th>29</th>\n      <td><div class=\"not-number\">9wb0</div></td>\n      <td>0</td>\n      <td>123</td>\n      <td>8</td>\n      <td><div class=\"not-number\">CANG</div></td>\n    </tr>\n    <tr>\n      <th>30</th>\n      <td><div class=\"not-number\">9wn8</div></td>\n      <td>0</td>\n      <td>446</td>\n      <td>20</td>\n      <td><div class=\"not-number\">RLHA</div></td>\n    </tr>\n    <tr>\n      <th>31</th>\n      <td><div class=\"not-number\">9x5h</div></td>\n      <td>0</td>\n      <td>26</td>\n      <td>1</td>\n      <td><div class=\"not-number\">NOFL</div></td>\n    </tr>\n    <tr>\n      <th>32</th>\n      <td><div class=\"not-number\">9xns</div></td>\n      <td>0</td>\n      <td>104</td>\n      <td>2</td>\n      <td><div class=\"not-number\">VATH</div></td>\n    </tr>\n    <tr>\n      <th>33</th>\n      <td><div class=\"not-number\">9y00</div></td>\n      <td>0</td>\n      <td>125</td>\n      <td>11</td>\n      <td><div class=\"not-number\">RCSP</div></td>\n    </tr>\n    <tr>\n      <th>34</th>\n      <td><div class=\"not-number\">9y00</div></td>\n      <td>0</td>\n      <td>125</td>\n      <td>11</td>\n      <td><div class=\"not-number\">RCSP</div></td>\n    </tr>\n    <tr>\n      <th>35</th>\n      <td><div class=\"not-number\">9y7s</div></td>\n      <td>0</td>\n      <td>2062</td>\n      <td>228</td>\n      <td><div class=\"not-number\">HOME</div></td>\n    </tr>\n    <tr>\n      <th>36</th>\n      <td><div class=\"not-number\">9y7s</div></td>\n      <td>0</td>\n      <td>2062</td>\n      <td>228</td>\n      <td><div class=\"not-number\">HOME</div></td>\n    </tr>\n    <tr>\n      <th>37</th>\n      <td><div class=\"not-number\">9yd0</div></td>\n      <td>0</td>\n      <td>148</td>\n      <td>5</td>\n      <td><div class=\"not-number\">RHWO</div></td>\n    </tr>\n    <tr>\n      <th>38</th>\n      <td><div class=\"not-number\">9yd0</div></td>\n      <td>0</td>\n      <td>148</td>\n      <td>5</td>\n      <td><div class=\"not-number\">RHWO</div></td>\n    </tr>\n    <tr>\n      <th>39</th>\n      <td><div class=\"not-number\">9ydh</div></td>\n      <td>0</td>\n      <td>639</td>\n      <td>109</td>\n      <td><div class=\"not-number\">CARW</div></td>\n    </tr>\n    <tr>\n      <th>40</th>\n      <td><div class=\"not-number\">9yfs</div></td>\n      <td>0</td>\n      <td>355</td>\n      <td>57</td>\n      <td><div class=\"not-number\">MALL</div></td>\n    </tr>\n    <tr>\n      <th>41</th>\n      <td><div class=\"not-number\">9yms</div></td>\n      <td>0</td>\n      <td>254</td>\n      <td>72</td>\n      <td><div class=\"not-number\">NOMO</div></td>\n    </tr>\n    <tr>\n      <th>42</th>\n      <td><div class=\"not-number\">9yt8</div></td>\n      <td>0</td>\n      <td>1647</td>\n      <td>19</td>\n      <td><div class=\"not-number\">HOLA</div></td>\n    </tr>\n    <tr>\n      <th>43</th>\n      <td><div class=\"not-number\">9yvh</div></td>\n      <td>0</td>\n      <td>1010</td>\n      <td>4</td>\n      <td><div class=\"not-number\">WISN</div></td>\n    </tr>\n    <tr>\n      <th>44</th>\n      <td><div class=\"not-number\">9z38</div></td>\n      <td>0</td>\n      <td>39</td>\n      <td>7</td>\n      <td><div class=\"not-number\">AMCR</div></td>\n    </tr>\n    <tr>\n      <th>45</th>\n      <td><div class=\"not-number\">c2ph</div></td>\n      <td>0</td>\n      <td>98</td>\n      <td>27</td>\n      <td><div class=\"not-number\">PIGR</div></td>\n    </tr>\n    <tr>\n      <th>46</th>\n      <td><div class=\"not-number\">c2ps</div></td>\n      <td>0</td>\n      <td>733</td>\n      <td>48</td>\n      <td><div class=\"not-number\">PRFA</div></td>\n    </tr>\n    <tr>\n      <th>47</th>\n      <td><div class=\"not-number\">c2qs</div></td>\n      <td>0</td>\n      <td>832</td>\n      <td>12</td>\n      <td><div class=\"not-number\">PISI</div></td>\n    </tr>\n    <tr>\n      <th>48</th>\n      <td><div class=\"not-number\">cb30</div></td>\n      <td>0</td>\n      <td>14</td>\n      <td>1</td>\n      <td><div class=\"not-number\">EUST</div></td>\n    </tr>\n    <tr>\n      <th>49</th>\n      <td><div class=\"not-number\">cbnh</div></td>\n      <td>0</td>\n      <td>368</td>\n      <td>1</td>\n      <td><div class=\"not-number\">BBMA</div></td>\n    </tr>\n  </tbody>\n</table>",
      "text/plain": "   geohash_bin  observation_date_bin  bin_n_checklists  bin_n_checklists_with_sp species\n0         9my0                     0               505                        10    YHBL\n1         9my0                     0               505                        10    YHBL\n2         9q3h                     0              2173                        14    WWDO\n3         9q78                     0              1609                       409    RCKI\n4         9q90                     0             25479                       245    ROGO\n5         9q90                     0             25479                       245    ROGO\n6         9qd8                     0              2115                       289    RWBL\n7         9qdh                     0              1599                        47    CLGR\n8         9rnh                     0                 7                         3    RLHA\n9         9t8s                     0              1934                         3    CAVI\n10        9td0                     0               130                        42    CRTH\n11        9tds                     0               344                        50    SAVS\n12        9tf8                     0               333                         9    LARB\n13        9tth                     0               346                        36    LOSH\n14        9tv8                     0               411                         5    RCSP\n15        9tys                     0                74                         5    RWBL\n16        9u9s                     0              2259                        83    RNDU\n17        9uf0                     0               955                         2    BTGN\n18        9v40                     0              1287                         6    LCSP\n19        9v50                     0              3694                         7    FOSP\n20        9v50                     0              3694                         7    FOSP\n21        9vb0                     0               147                         7    GWTE\n22        9vbh                     0               384                        75    EUCD\n23        9vg0                     0              6136                      1840    MODO\n24        9vgs                     0               429                        49    AMWI\n25        9vgs                     0               429                        49    AMWI\n26        9vm0                     0              4068                        88    PEFA\n27        9vy8                     0               532                        34    SSHA\n28        9vy8                     0               532                        34    SSHA\n29        9wb0                     0               123                         8    CANG\n30        9wn8                     0               446                        20    RLHA\n31        9x5h                     0                26                         1    NOFL\n32        9xns                     0               104                         2    VATH\n33        9y00                     0               125                        11    RCSP\n34        9y00                     0               125                        11    RCSP\n35        9y7s                     0              2062                       228    HOME\n36        9y7s                     0              2062                       228    HOME\n37        9yd0                     0               148                         5    RHWO\n38        9yd0                     0               148                         5    RHWO\n39        9ydh                     0               639                       109    CARW\n40        9yfs                     0               355                        57    MALL\n41        9yms                     0               254                        72    NOMO\n42        9yt8                     0              1647                        19    HOLA\n43        9yvh                     0              1010                         4    WISN\n44        9z38                     0                39                         7    AMCR\n45        c2ph                     0                98                        27    PIGR\n46        c2ps                     0               733                        48    PRFA\n47        c2qs                     0               832                        12    PISI\n48        cb30                     0                14                         1    EUST\n49        cbnh                     0               368                         1    BBMA"
     },
     "metadata": {},
     "output_type": "display_data",
     "transient": {}
    }
   ],
   "source": [
    "# WARNING ~$0.20\n",
    "# Make priors table\n",
    "#   - See ebird_priors.py for bits:mi mapping (EbirdPriors._loc_binwidths)\n",
    "# Stats: all countries\n",
    "#   - geo[12mi] date[1w] country[*]:  115s,  74m rows, 3.36gb\n",
    "#   - geo[48mi] date[2w] country[*]:   92s,  29m rows, 1.29gb\n",
    "# Stats: US\n",
    "#   - geo[12mi] date[1w] country[US]:  85s,  39m rows -- export fails b/c >1gb; could fix with wildcard but sqlite would be too big anyway\n",
    "#   - geo[12mi] date[2w] country[US]:  64s,  27m rows, bq[937mb,  37s] fetch[181s] df[3.6gb] sqlite[637mb, 147s]\n",
    "#   - geo[24mi] date[2w] country[US]:  42s,  18m rows, bq[606mb,  35s] fetch[117s] df[2.4gb] sqlite[412mb,  89s]\n",
    "#   - geo[48mi] date[2w] country[US]:  46s,  13m rows, bq[433mb,  34s] fetch[ 82s] df[1.7gb] sqlite[300mb,  69s]\n",
    "#   - geo[12mi] date[4w] country[US]:  65s,  18m rows, bq[629mb,  38s] fetch[118s] df[2.4gb] sqlite[429mb,  98s]\n",
    "#   - geo[24mi] date[4w] country[US]:  44s,  11m rows, bq[392mb,  29s] fetch[ 77s] df[1.6gb] sqlite[267mb,  64s]\n",
    "#   - geo[48mi] date[4w] country[US]: 106s, 7.9m rows, bq[272mb,  36s] fetch[ 57s] df[1.1gb] sqlite[189mb,  51s]\n",
    "#   - TODO TODO Go with ?\n",
    "priors_df = (bqq(defs=defs, sql='''\n",
    "    with\n",
    "        a as (\n",
    "            select\n",
    "\n",
    "                # geohash_at_bits(st_geogpoint(longitude, latitude), 21) as geohash_bin,          -- 12mi\n",
    "                # geohash_at_bits(st_geogpoint(longitude, latitude), 19) as geohash_bin,          -- 24mi\n",
    "                geohash_at_bits(st_geogpoint(longitude, latitude), 17) as geohash_bin,          -- 48mi\n",
    "\n",
    "                # mul_trunc(ebird_week(observation_date), 1)             as observation_date_bin, -- 1w\n",
    "                # mul_trunc(ebird_week(observation_date), 2)             as observation_date_bin, -- 2w\n",
    "                mul_trunc(ebird_week(observation_date), 4)             as observation_date_bin, -- 4w\n",
    "\n",
    "                ifnull(s.shorthand, '_UNK')                            as species,\n",
    "                sampling_event_identifier                              as checklist_id,\n",
    "                min(country_code)                                      as debug_country,\n",
    "                min(state_code)                                        as debug_state,\n",
    "                min(county_code)                                       as debug_county,\n",
    "                min(extract(month from observation_date))              as debug_month,\n",
    "                count(*)                                               as n\n",
    "\n",
    "            # from ebird.obs_sample_001 e # XXX Dev\n",
    "            from ebird.obs_all_expensive e # WARNING\n",
    "\n",
    "                left join metadata.species s on (s.com_name = e.common_name)\n",
    "            where true\n",
    "                and category in ('species', 'issf', 'form', 'intergrade')\n",
    "                and country_code = 'US'\n",
    "                # and state_code = 'US-CA' # XXX\n",
    "                # and county_code = 'US-CA-075' # XXX SF\n",
    "            group by 1,2,3,4\n",
    "        ),\n",
    "        b as (\n",
    "            select distinct\n",
    "                geohash_bin,\n",
    "                observation_date_bin,\n",
    "                debug_country,\n",
    "                debug_state,\n",
    "                debug_county,\n",
    "                debug_month,\n",
    "                species,\n",
    "                count(distinct checklist_id) over (partition by observation_date_bin, geohash_bin)          as bin_n_checklists,\n",
    "                count(distinct checklist_id) over (partition by observation_date_bin, geohash_bin, species) as bin_n_checklists_with_sp\n",
    "            from a\n",
    "        ),\n",
    "        c as (\n",
    "            select\n",
    "                *,\n",
    "                bin_n_checklists_with_sp / bin_n_checklists as bin_p_sp,\n",
    "                ebird_bar_width(bin_n_checklists_with_sp / bin_n_checklists) as bin_p_sp_bar_width\n",
    "            from b\n",
    "        ),\n",
    "        d as (\n",
    "            select\n",
    "                # *\n",
    "                geohash_bin,\n",
    "                observation_date_bin,\n",
    "                bin_n_checklists,\n",
    "                bin_n_checklists_with_sp,\n",
    "                species\n",
    "            from c\n",
    "            where true\n",
    "                # and debug_country = 'US'\n",
    "                # and debug_state = 'US-CA' # XXX CA\n",
    "                # and debug_county = 'US-CA-075' # XXX SF\n",
    "                # and geohash_bin = '9q8yh' # XXX Glen Canyon / Mt Davidson\n",
    "            # order by geohash_bin, bin_p_sp desc # XXX Dev\n",
    "            # order by geohash_bin, species, observation_date_bin # XXX Dev\n",
    "            # limit 500 # XXX Dev\n",
    "        )\n",
    "    select *\n",
    "    from d\n",
    "''',\n",
    "    # max_rows=50,  # XXX\n",
    "    max_rows=None,  # WARNING\n",
    ")\n",
    "    .pipe(df_inspect, lambda df: (df.shape,))\n",
    "    .pipe(df_inspect, lambda df: humanize.naturalsize_binary(df.memory_usage(deep=True).sum()))\n",
    "    .pipe(df_inspect, lambda df: df[:50]\n",
    "        .pipe(lambda df: df if 'bin_p_sp' not in df.columns else df\n",
    "            .pipe(df_col_map, bin_p_sp=lambda x: '%.3f' % x)\n",
    "        )\n",
    "    )\n",
    ")"
   ]
  },
  {
   "cell_type": "code",
   "execution_count": null,
   "metadata": {
    "time": "17.739s"
   },
   "outputs": [
    {
     "name": "stdout",
     "output_type": "stream",
     "text": "Running query..."
    },
    {
     "name": "stdout",
     "output_type": "stream",
     "text": "\n"
    },
    {
     "name": "stdout",
     "output_type": "stream",
     "text": "[9s] cost[$0.0370, 8.1 GB] rows[324744] size[2.2 MiB] url[https://console.cloud.google.com/bigquery?project=bubo-1&j=bq:US:job_zzfA-4GvqWY-lK4SA4N14OfPbGPL&page=queryresults]"
    },
    {
     "name": "stdout",
     "output_type": "stream",
     "text": "\n"
    },
    {
     "name": "stdout",
     "output_type": "stream",
     "text": "Fetching results..."
    },
    {
     "name": "stdout",
     "output_type": "stream",
     "text": "\n"
    },
    {
     "name": "stdout",
     "output_type": "stream",
     "text": "[8s]"
    },
    {
     "name": "stdout",
     "output_type": "stream",
     "text": "\n"
    },
    {
     "data": {
      "text/plain": "(324744, 1)"
     },
     "metadata": {},
     "output_type": "display_data",
     "transient": {}
    },
    {
     "data": {
      "text/html": "<table border=\"1\" class=\"dataframe\">\n  <thead>\n    <tr style=\"text-align: right;\">\n      <th></th>\n      <th>geohash_bin</th>\n    </tr>\n  </thead>\n  <tbody>\n    <tr>\n      <th>0</th>\n      <td><div class=\"not-number\">66jds</div></td>\n    </tr>\n    <tr>\n      <th>1</th>\n      <td><div class=\"not-number\">u28b0</div></td>\n    </tr>\n    <tr>\n      <th>2</th>\n      <td><div class=\"not-number\">thrrh</div></td>\n    </tr>\n    <tr>\n      <th>3</th>\n      <td><div class=\"not-number\">wdqrd</div></td>\n    </tr>\n    <tr>\n      <th>4</th>\n      <td><div class=\"not-number\">d4kjn</div></td>\n    </tr>\n    <tr>\n      <th>5</th>\n      <td><div class=\"not-number\">9g35w</div></td>\n    </tr>\n    <tr>\n      <th>6</th>\n      <td><div class=\"not-number\">9g4zn</div></td>\n    </tr>\n    <tr>\n      <th>7</th>\n      <td><div class=\"not-number\">thqfd</div></td>\n    </tr>\n    <tr>\n      <th>8</th>\n      <td><div class=\"not-number\">sxk9s</div></td>\n    </tr>\n    <tr>\n      <th>9</th>\n      <td><div class=\"not-number\">6ex30</div></td>\n    </tr>\n  </tbody>\n</table>",
      "text/plain": "  geohash_bin\n0       66jds\n1       u28b0\n2       thrrh\n3       wdqrd\n4       d4kjn\n5       9g35w\n6       9g4zn\n7       thqfd\n8       sxk9s\n9       6ex30"
     },
     "metadata": {},
     "output_type": "display_data",
     "transient": {}
    }
   ],
   "source": [
    "# XXX\n",
    "df_base = (bqq(defs=defs, sql='''\n",
    "    select distinct\n",
    "        geohash_at_bits(st_geogpoint(longitude, latitude), 23) as geohash_bin -- 6mi\n",
    "        # geohash_at_bits(st_geogpoint(longitude, latitude), 21) as geohash_bin -- 12mi\n",
    "        # geohash_at_bits(st_geogpoint(longitude, latitude), 19) as geohash_bin -- 24mi\n",
    "        # geohash_at_bits(st_geogpoint(longitude, latitude), 17) as geohash_bin -- 48mi\n",
    "    # from ebird.obs_sample_001 e # XXX Dev\n",
    "    from ebird.obs_all_expensive e # WARNING\n",
    "    where true\n",
    "        # and category in ('species', 'issf', 'form', 'intergrade')\n",
    "        # and country_code = 'US'\n",
    "        # and state_code = 'US-CA' # XXX\n",
    "        # and county_code = 'US-CA-075' # XXX SF\n",
    "''',\n",
    "    max_rows=None,  # WARNING\n",
    ")\n",
    "    .pipe(df_inspect, lambda df: (df.shape,))\n",
    "    .pipe(df_inspect, lambda df: df[:10])\n",
    ")"
   ]
  },
  {
   "cell_type": "code",
   "execution_count": null,
   "metadata": {
    "time": "51.923s"
   },
   "outputs": [],
   "source": [
    "# Write .sqlite\n",
    "\n",
    "# TODO TODO -> mobile payload (cf. payloads.py)\n",
    "db_path = Path('/tmp') / ('priors-%s.sqlite3' % re.sub(r'[^0-9T]', '-', datetime.utcnow().isoformat()))\n",
    "\n",
    "with sqla_oneshot_eng_conn_tx(f'sqlite:///{ensure_parent_dir(db_path)}') as conn:\n",
    "    table = 'priors'\n",
    "    def size_sql_relation(name: str) -> int:\n",
    "        df = pd.read_sql(con=conn, sql='''\n",
    "            select sum(pgsize) as size from dbstat where name=:name\n",
    "        ''', params=dict(\n",
    "            name=name,\n",
    "        ))\n",
    "        return one(df_rows(df))['size']  # (Careful: df['size'] i/o df.size, else you'll get the row count)\n",
    "    with log_time_context(f'Mobile: Create table {table}', lambda: humanize.naturalsize_binary(size_sql_relation(table) or 0)):\n",
    "        (priors_df\n",
    "            .pipe(df_inspect, lambda df: (df.shape,))\n",
    "            .pipe(df_inspect, lambda df: humanize.naturalsize_binary(df.memory_usage(deep=True).sum()))\n",
    "            .pipe(df_inspect, lambda df: df[:10])\n",
    "            .to_sql(table, conn,\n",
    "                if_exists='replace',\n",
    "                index=False,  # Silently drop df index (we shouldn't have any)\n",
    "                chunksize=1000,  # Safe default for big writes (pd default writes all rows at once -- mem unsafe)\n",
    "            )\n",
    "        )\n",
    "\n",
    "!ls -sh {db_path}"
   ]
  },
  {
   "cell_type": "markdown",
   "metadata": {},
   "source": [
    "# TODO Smoothing for geohash stuff"
   ]
  },
  {
   "cell_type": "code",
   "execution_count": null,
   "metadata": {
    "time": "9.663s"
   },
   "outputs": [
    {
     "data": {
      "text/plain": "(1316175, 2)"
     },
     "metadata": {},
     "output_type": "display_data",
     "transient": {}
    },
    {
     "data": {
      "text/html": "<table border=\"1\" class=\"dataframe\">\n  <thead>\n    <tr style=\"text-align: right;\">\n      <th></th>\n      <th>x</th>\n      <th>y</th>\n    </tr>\n  </thead>\n  <tbody>\n    <tr>\n      <th>0</th>\n      <td><div class=\"not-number\">sxk9h</div></td>\n      <td><div class=\"not-number\">sxk80</div></td>\n    </tr>\n    <tr>\n      <th>1</th>\n      <td><div class=\"not-number\">sxk9h</div></td>\n      <td><div class=\"not-number\">sxk8h</div></td>\n    </tr>\n    <tr>\n      <th>2</th>\n      <td><div class=\"not-number\">sxk9h</div></td>\n      <td><div class=\"not-number\">sxk90</div></td>\n    </tr>\n    <tr>\n      <th>3</th>\n      <td><div class=\"not-number\">sxk9h</div></td>\n      <td><div class=\"not-number\">sxk9h</div></td>\n    </tr>\n    <tr>\n      <th>4</th>\n      <td><div class=\"not-number\">sxk9h</div></td>\n      <td><div class=\"not-number\">sxkb0</div></td>\n    </tr>\n    <tr>\n      <th>5</th>\n      <td><div class=\"not-number\">sxk9h</div></td>\n      <td><div class=\"not-number\">sxkc0</div></td>\n    </tr>\n    <tr>\n      <th>6</th>\n      <td><div class=\"not-number\">sxk9h</div></td>\n      <td><div class=\"not-number\">sxkd0</div></td>\n    </tr>\n    <tr>\n      <th>7</th>\n      <td><div class=\"not-number\">sxk9h</div></td>\n      <td><div class=\"not-number\">sxkdh</div></td>\n    </tr>\n    <tr>\n      <th>8</th>\n      <td><div class=\"not-number\">sxk9h</div></td>\n      <td><div class=\"not-number\">sxkf0</div></td>\n    </tr>\n    <tr>\n      <th>9</th>\n      <td><div class=\"not-number\">w60u0</div></td>\n      <td><div class=\"not-number\">w60eh</div></td>\n    </tr>\n  </tbody>\n</table>",
      "text/plain": "       x      y\n0  sxk9h  sxk80\n1  sxk9h  sxk8h\n2  sxk9h  sxk90\n3  sxk9h  sxk9h\n4  sxk9h  sxkb0\n5  sxk9h  sxkc0\n6  sxk9h  sxkd0\n7  sxk9h  sxkdh\n8  sxk9h  sxkf0\n9  w60u0  w60eh"
     },
     "metadata": {},
     "output_type": "display_data",
     "transient": {}
    }
   ],
   "source": [
    "# XXX\n",
    "df_rel = (\n",
    "    pd.DataFrame(columns=['x', 'y'], data=(\n",
    "        (x, y)\n",
    "        for x in df_base.geohash_bin\n",
    "        for y in geoh.str_expand(x, 21)  # str_expand i/o str_neighbors so we include (x, x) in relation\n",
    "    ))\n",
    "    .pipe(df_inspect, lambda df: (df.shape,))\n",
    "    .pipe(df_inspect, lambda df: df[:10])\n",
    ")"
   ]
  },
  {
   "cell_type": "code",
   "execution_count": null,
   "metadata": {
    "time": "558.955s"
   },
   "outputs": [
    {
     "name": "stderr",
     "output_type": "stream",
     "text": "\r100%|██████████████████████████████████████████████████████████████████████| 2097152/2097152 [04:22<00:00, 7995.36it/s]"
    },
    {
     "name": "stderr",
     "output_type": "stream",
     "text": "\n"
    },
    {
     "name": "stderr",
     "output_type": "stream",
     "text": "\r18862080it [00:06, 2904837.99it/s]"
    },
    {
     "name": "stderr",
     "output_type": "stream",
     "text": "\n"
    },
    {
     "data": {
      "text/plain": "(18862080, 2)"
     },
     "metadata": {},
     "output_type": "display_data",
     "transient": {}
    },
    {
     "data": {
      "text/html": "<table border=\"1\" class=\"dataframe\">\n  <thead>\n    <tr style=\"text-align: right;\">\n      <th></th>\n      <th>x</th>\n      <th>y</th>\n    </tr>\n  </thead>\n  <tbody>\n    <tr>\n      <th>0</th>\n      <td><div class=\"not-number\">00000</div></td>\n      <td><div class=\"not-number\">00000</div></td>\n    </tr>\n    <tr>\n      <th>1</th>\n      <td><div class=\"not-number\">00000</div></td>\n      <td><div class=\"not-number\">0000h</div></td>\n    </tr>\n    <tr>\n      <th>2</th>\n      <td><div class=\"not-number\">00000</div></td>\n      <td><div class=\"not-number\">00010</div></td>\n    </tr>\n    <tr>\n      <th>3</th>\n      <td><div class=\"not-number\">00000</div></td>\n      <td><div class=\"not-number\">0001h</div></td>\n    </tr>\n    <tr>\n      <th>4</th>\n      <td><div class=\"not-number\">00000</div></td>\n      <td><div class=\"not-number\">pbpbh</div></td>\n    </tr>\n    <tr>\n      <th>5</th>\n      <td><div class=\"not-number\">00000</div></td>\n      <td><div class=\"not-number\">pbpch</div></td>\n    </tr>\n    <tr>\n      <th>6</th>\n      <td><div class=\"not-number\">0000h</div></td>\n      <td><div class=\"not-number\">00000</div></td>\n    </tr>\n    <tr>\n      <th>7</th>\n      <td><div class=\"not-number\">0000h</div></td>\n      <td><div class=\"not-number\">0000h</div></td>\n    </tr>\n    <tr>\n      <th>8</th>\n      <td><div class=\"not-number\">0000h</div></td>\n      <td><div class=\"not-number\">00010</div></td>\n    </tr>\n    <tr>\n      <th>9</th>\n      <td><div class=\"not-number\">0000h</div></td>\n      <td><div class=\"not-number\">0001h</div></td>\n    </tr>\n  </tbody>\n</table>",
      "text/plain": "       x      y\n0  00000  00000\n1  00000  0000h\n2  00000  00010\n3  00000  0001h\n4  00000  pbpbh\n5  00000  pbpch\n6  0000h  00000\n7  0000h  0000h\n8  0000h  00010\n9  0000h  0001h"
     },
     "metadata": {},
     "output_type": "display_data",
     "transient": {}
    },
    {
     "name": "stdout",
     "output_type": "stream",
     "text": "Inferred schema[{'x': 'string', 'y': 'string'}] from dtypes[{'x': dtype('O'), 'y': dtype('O')}]"
    },
    {
     "name": "stdout",
     "output_type": "stream",
     "text": "\n"
    },
    {
     "name": "stdout",
     "output_type": "stream",
     "text": "Creating table[geoh.all_geohashes_with_expand_precision_bits_21] with schema[{'x': 'string', 'y': 'string'}]..."
    },
    {
     "name": "stdout",
     "output_type": "stream",
     "text": "\n"
    },
    {
     "name": "stdout",
     "output_type": "stream",
     "text": "Uploading df to gs[gs://potoo-bqq/load/v0/2019-08-25T04-44-58-356172.csv]..."
    },
    {
     "name": "stdout",
     "output_type": "stream",
     "text": "\n"
    },
    {
     "name": "stdout",
     "output_type": "stream",
     "text": "Loading table[geoh.all_geohashes_with_expand_precision_bits_21] from gs[gs://potoo-bqq/load/v0/2019-08-25T04-44-58-356172.csv]..."
    },
    {
     "name": "stdout",
     "output_type": "stream",
     "text": "\n"
    },
    {
     "name": "stdout",
     "output_type": "stream",
     "text": "[287s] rows[18862080] size[251.8 MiB]"
    },
    {
     "name": "stdout",
     "output_type": "stream",
     "text": "\n"
    }
   ],
   "source": [
    "# TODO TODO Create tables to map geohash to its expands, for smoothing\n",
    "#   - Vary precision to do the kind of smoothing we want: prec=n -> prec=bits+2 -> expands (x9) -> prec=bits (x4)\n",
    "#   - Q: Do we need all geohashes, or should we restrict just to US ones? (from join with ebird table)\n",
    "# precision_bits = 1   # len[   2] time[   0s +    7s] bq[   24b,     4 rows]\n",
    "# precision_bits = 3   # len[   8] time[   0s +    7s] bq[  288b,    48 rows]\n",
    "# precision_bits = 5   # len[  32] time[   0s +    7s] bq[ 1.4kb,   240 rows]\n",
    "# precision_bits = 13  # len[  8k] time[   0s +    8s] bq[ 713kb,   73k rows]\n",
    "# precision_bits = 15  # len[ 32k] time[   2s +   11s] bq[ 2.8mb,  293k rows]\n",
    "# precision_bits = 17  # len[128k] time[  10s +   24s] bq[13.5mb,  1.8m rows]\n",
    "# precision_bits = 19  # len[512k] time[  50s +   68s] bq[  54mb,  4.7m rows]\n",
    "# precision_bits = 21  # len[  2m] time[ 262s +  287s] bq[ 252mb, 18.8m rows]\n",
    "# precision_bits = 23  # len[  8m] time[1656s + 1013s] bq[ 1.0gb, 75.4m rows]\n",
    "xs = geoh.all_geohashes_with_expand(precision_bits)\n",
    "df = (\n",
    "    pd.DataFrame(\n",
    "        columns=['x', 'y'],\n",
    "        data=list(tqdm(total=len(xs), iterable=(\n",
    "            (k, v)\n",
    "            for k, vs in xs.items()\n",
    "            for v in vs\n",
    "        ))),\n",
    "    )\n",
    "    .pipe(df_inspect, lambda df: (df.shape,))\n",
    "    .pipe(df_inspect, lambda df: df[:10])\n",
    "    .pipe(df_to_bq,\n",
    "        table='geoh.all_geohashes_with_expand_precision_bits_%(precision_bits)s' % locals(),\n",
    "        overwrite=True,\n",
    "    )\n",
    ")"
   ]
  },
  {
   "cell_type": "code",
   "execution_count": null,
   "metadata": {
    "time": "8.729s"
   },
   "outputs": [],
   "source": [
    "# XXX\n",
    "bqq(show_query=True, sql='''\n",
    "    select\n",
    "        count(distinct x),\n",
    "        count(*)\n",
    "    from geoh.all_geohashes_with_expand_precision_bits_%(precision_bits)s\n",
    "''' % locals())"
   ]
  },
  {
   "cell_type": "code",
   "execution_count": null,
   "metadata": {},
   "outputs": [],
   "source": []
  }
 ],
 "metadata": {
  "kernelspec": {
   "display_name": "bubo-features",
   "language": "python",
   "name": "bubo-features"
  }
 },
 "nbformat": 4,
 "nbformat_minor": 2
}
