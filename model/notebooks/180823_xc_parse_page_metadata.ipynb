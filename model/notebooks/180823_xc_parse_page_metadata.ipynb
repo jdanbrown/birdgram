{
 "cells": [
  {
   "cell_type": "markdown",
   "metadata": {},
   "source": [
    "# Parse additional xc metadata from the page.html files\n",
    "- e.g. remarks, background, elevation\n",
    "- Final code ported to datasets.xc.downloaded_page_metadata"
   ]
  },
  {
   "cell_type": "code",
   "execution_count": null,
   "metadata": {
    "once": true,
    "time": "1.488s"
   },
   "outputs": [],
   "source": [
    "from notebooks import *"
   ]
  },
  {
   "cell_type": "code",
   "execution_count": null,
   "metadata": {
    "once": true
   },
   "outputs": [],
   "source": [
    "import requests_html\n",
    "from potoo.util import strip_startswith"
   ]
  },
  {
   "cell_type": "code",
   "execution_count": null,
   "metadata": {},
   "outputs": [],
   "source": [
    "page_path = xc.data_dir / 'SPTO/126661/page.html'\n",
    "# page_path = xc.data_dir / 'SPTO/413790/page.html'"
   ]
  },
  {
   "cell_type": "code",
   "execution_count": null,
   "metadata": {},
   "outputs": [],
   "source": [
    "with open(page_path) as f:\n",
    "    page = requests_html.HTML(\n",
    "        url=page_path,\n",
    "        html=f.read(),\n",
    "    )"
   ]
  },
  {
   "cell_type": "code",
   "execution_count": null,
   "metadata": {},
   "outputs": [],
   "source": [
    "data = dict()\n",
    "data['_raw'] = dict()"
   ]
  },
  {
   "cell_type": "code",
   "execution_count": null,
   "metadata": {},
   "outputs": [],
   "source": [
    "# Parse: xc_id, com_name, sci_name\n",
    "title = page.find('meta[property=\"og:title\"]', first=True)\n",
    "if title:\n",
    "    title = title.attrs.get('content')\n",
    "data['_raw']['title'] = title\n",
    "if not title:\n",
    "    data['xc_id'] = None\n",
    "    data['com_name'] = None\n",
    "    data['sci_name'] = None\n",
    "else:\n",
    "    data.update(parse.parse('XC{xc_id} {com_name} ({sci_name})', title).named)\n",
    "    data['xc_id'] = int(data['xc_id'])\n",
    "# TODO assert data['xc_id'] == the_input_xc_id_we_loaded_the_page_file_for"
   ]
  },
  {
   "cell_type": "code",
   "execution_count": null,
   "metadata": {},
   "outputs": [],
   "source": [
    "# Parse: remarks, bird_seen, playback_used\n",
    "#   - Ref: https://www.xeno-canto.org/upload/1/2\n",
    "#   - Examples:\n",
    "#       - '' [https://www.xeno-canto.org/420291]\n",
    "#       - '\\n\\nbird-seen:no\\n\\nplayback-used:no' [https://www.xeno-canto.org/413790]\n",
    "#       - 'About 20ft away in sagebrush steppe.\\n\\nbird-seen:yes\\n\\nplayback-used:no' [https://www.xeno-canto.org/418018]\n",
    "description = page.find('meta[property=\"og:description\"]', first=True)\n",
    "if description:\n",
    "    description = description.attrs.get('content')\n",
    "data['_raw']['description'] = description\n",
    "if not description:\n",
    "    data['remarks'] = None\n",
    "    data['bird_seen'] = None\n",
    "    data['playback_used'] = None\n",
    "else:\n",
    "    lines = description.split('\\n')\n",
    "    keys = ['bird-seen', 'playback-used']\n",
    "    for k in keys:\n",
    "        data[k.replace('-', '_')] = or_else(None, lambda: first(\n",
    "            parse.parse('%s:{}' % k, line)[0]\n",
    "            for line in lines\n",
    "            if line.startswith('%s:' % k)\n",
    "        ))\n",
    "    data['remarks'] = '\\n'.join(\n",
    "        line\n",
    "        for line in lines\n",
    "        if not any(\n",
    "            line.startswith('%s:' % k)\n",
    "            for k in keys\n",
    "        )\n",
    "    ).strip()"
   ]
  },
  {
   "cell_type": "code",
   "execution_count": null,
   "metadata": {},
   "outputs": [],
   "source": [
    "# Parse: all key-value pairs from #recording-data\n",
    "#   - (Thanks XC for structuring this so well!)\n",
    "recording_data = {\n",
    "    k.lower().replace(' ', '_'): v\n",
    "    for tr in page.find('#recording-data .key-value tr')\n",
    "    for [k, v, *ignore] in [[td.text for td in tr.find('td')]]\n",
    "}\n",
    "data['_raw']['recording_data'] = recording_data\n",
    "data.update(recording_data)"
   ]
  },
  {
   "cell_type": "code",
   "execution_count": null,
   "metadata": {},
   "outputs": [],
   "source": [
    "# Clean up fields\n",
    "data['background'] = [\n",
    "    x\n",
    "    for x in data['background'].split('\\n')\n",
    "    for x in [x.strip()]\n",
    "    if x != 'none'\n",
    "]\n",
    "data['latitude'] = or_else(None, lambda: float(data['latitude']))\n",
    "data['longitude'] = or_else(None, lambda: float(data['longitude']))\n",
    "data['elevation'] = or_else(None, lambda: parse.parse('{:g} m', data['elevation'])[0])\n",
    "# data['sampling_rate'] = or_else(None, lambda: parse.parse('{:g} (Hz)', data['sampling_rate'])[0])\n",
    "# data['bitrate_of_mp3'] = or_else(None, lambda: parse.parse('{:g} (bps)', data['bitrate_of_mp3'])[0])\n",
    "# data['channels'] = or_else(None, lambda: parse.parse('{:g} (bps)', data['channels'])[0])"
   ]
  },
  {
   "cell_type": "code",
   "execution_count": null,
   "metadata": {},
   "outputs": [
    {
     "data": {
      "text/plain": "{\n  '_raw': {\n    'title': 'XC126661 Spotted Towhee (Pipilo maculatus)',\n    'description':\n      '2nd recording of this individual, which is No 1; an interior song type from an east slope Sierra \"coastal\" '\n      'location (Olancha Pass Trailhead)\\n\\nbird-seen:yes\\n\\nplayback-used:no',\n    'recording_data': {\n      'recordist': 'Richard E. Webster',\n      'date': '2000-06-17',\n      'time': '05:00',\n      'latitude': '36.2176',\n      'longitude': '-118.04',\n      'location': 'Sage Flats Road, Inyo, California',\n      'country': 'United States',\n      'elevation': '1800 m',\n      'background': 'none',\n      'length': '0-3(s)',\n      'sampling_rate': '44100 (Hz)',\n      'bitrate_of_mp3': '96000 (bps)',\n      'channels': '1 (mono)',\n      'type': 'song',\n      'volume': 'decreasing',\n      'speed': 'accelerating',\n      'pitch': 'increasing',\n      'number_of_notes': '>20',\n      'variable': 'no'\n    }\n  },\n  'background': [],\n  'bird_seen': 'yes',\n  'bitrate_of_mp3': '96000 (bps)',\n  'channels': '1 (mono)',\n  'com_name': 'Spotted Towhee',\n  'country': 'United States',\n  'date': '2000-06-17',\n  'elevation': 1800.0,\n  'latitude': 36.2176,\n  'length': '0-3(s)',\n  'location': 'Sage Flats Road, Inyo, California',\n  'longitude': -118.04,\n  'number_of_notes': '>20',\n  'pitch': 'increasing',\n  'playback_used': 'no',\n  'recordist': 'Richard E. Webster',\n  'remarks':\n    '2nd recording of this individual, which is No 1; an interior song type from an east slope Sierra \"coastal\" '\n    'location (Olancha Pass Trailhead)',\n  'sampling_rate': '44100 (Hz)',\n  'sci_name': 'Pipilo maculatus',\n  'speed': 'accelerating',\n  'time': '05:00',\n  'type': 'song',\n  'variable': 'no',\n  'volume': 'decreasing',\n  'xc_id': 126661\n}"
     },
     "execution_count": 466,
     "metadata": {},
     "output_type": "execute_result"
    }
   ],
   "source": [
    "dict(data)"
   ]
  },
  {
   "cell_type": "code",
   "execution_count": null,
   "metadata": {},
   "outputs": [],
   "source": []
  }
 ],
 "metadata": {
  "kernelspec": {
   "display_name": "bubo-features (PYTHONSTARTUP)",
   "language": "python",
   "name": "bubo-features (PYTHONSTARTUP)"
  }
 },
 "nbformat": 4,
 "nbformat_minor": 2
}
