{
 "cells": [
  {
   "cell_type": "markdown",
   "metadata": {},
   "source": [
    "# TODO\n",
    "- Can we speed up load._metadata?\n",
    "    - Currently reads full audio, but should only have to read metadata.\n",
    "    - pydub.utils.mediainfo_json would let us do it, but there's nontrivial adapting between it and pydub.AudioSegment...\n",
    "        - ffprobe/mediainfo_json is ~6x faster than ffmpeg on 50s audio, which is avg duration for xc recs\n",
    "    - Alternative: do pydub from_file with an ffmpeg flag for 0s audio data (if noop), and then read the metadata from the empty audio\n",
    "        - Nope: this would return duration_s=0, which isn't what we want\n",
    "- Will we have better search UX if we compute .feat only for the first ~10s?\n",
    "    - Currently computes .feat for full audio, which isn't in line with the user's actual experience\n",
    "    - DANGER Make it a load param?\n",
    "        - DANGER Evaluate this very carefully to avoid getting sucked into another days-long refactor\n",
    "        - (This would speed up the cache rebuild, but that's a one-time cost that's much faster than days of coding!)\n",
    "    - Else, just push through the cache rebuild and compute .slice(0,10000) like we already know how"
   ]
  },
  {
   "cell_type": "code",
   "execution_count": null,
   "metadata": {
    "time": "1.783s"
   },
   "outputs": [
    {
     "name": "stderr",
     "output_type": "stream",
     "text": "/Users/danb/miniconda3/envs/bubo-features/lib/python3.6/site-packages/sklearn/ensemble/weight_boosting.py:29: DeprecationWarning: numpy.core.umath_tests is an internal NumPy module and should not be imported. It will be removed in a future NumPy release.\n  from numpy.core.umath_tests import inner1d\n"
    },
    {
     "name": "stdout",
     "output_type": "stream",
     "text": "INFO     [17:23:06.128] [59475]  44 logging_/init_logging: {logging_yaml: None}"
    },
    {
     "name": "stdout",
     "output_type": "stream",
     "text": "\n"
    }
   ],
   "source": [
    "from notebooks import *"
   ]
  },
  {
   "cell_type": "code",
   "execution_count": null,
   "metadata": {},
   "outputs": [
    {
     "data": {
      "text/plain": "{\n  'streams': [\n    {\n      'index': 0,\n      'codec_name': 'mp3',\n      'codec_long_name': 'MP3 (MPEG audio layer 3)',\n      'codec_type': 'audio',\n      'codec_time_base': '1/44100',\n      'codec_tag_string': '[0][0][0][0]',\n      'codec_tag': '0x0000',\n      'sample_fmt': 'fltp',\n      'sample_rate': '44100',\n      'channels': 1,\n      'channel_layout': 'mono',\n      'bits_per_sample': 32,\n      'r_frame_rate': '0/0',\n      'avg_frame_rate': '0/0',\n      'time_base': '1/14112000',\n      'start_pts': 0,\n      'start_time': '0.000000',\n      'duration_ts': 303144576,\n      'duration': '21.481333',\n      'bit_rate': '96000',\n      'disposition': {\n        'default': 0,\n        'dub': 0,\n        'original': 0,\n        'comment': 0,\n        'lyrics': 0,\n        'karaoke': 0,\n        'forced': 0,\n        'hearing_impaired': 0,\n        'visual_impaired': 0,\n        'clean_effects': 0,\n        'attached_pic': 0,\n        'timed_thumbnails': 0\n      },\n      'bits_per_raw_sample': 32\n    }\n  ],\n  'format': {\n    'filename': '/Users/danb/hack/bubo/features/data/xc/data/SOSP/270532/audio.mp3',\n    'nb_streams': 1,\n    'nb_programs': 0,\n    'format_name': 'mp3',\n    'format_long_name': 'MP2/3 (MPEG audio layer 2/3)',\n    'start_time': '0.000000',\n    'duration': '21.481333',\n    'size': '261872',\n    'bit_rate': '97525',\n    'probe_score': 51,\n    'tags': {\n      'title': 'Song Sparrow (Melospiza melodia)',\n      'genre': 'Emberizidae',\n      'artist': 'Bobby Wilcox',\n      'album': 'xeno-canto',\n      'TIT1': 'crfpcp',\n      'comment':\n        'XC270532 © Bobby Wilcox // Point Reyes Station, Marin County, California (38.0179, -122.8547), United States '\n        '// 20m // 08:30h, 2015-07-29 // call, male, song // From a coyote bush about 10ft from me, sings once and '\n        'then gives a few high pitched calls after until the end of the recording. /  / bird-seen:yes /  / '\n        'playback-used:no',\n      'copyright': '2015 Bobby Wilcox'\n    }\n  }\n}"
     },
     "execution_count": 12,
     "metadata": {},
     "output_type": "execute_result"
    }
   ],
   "source": [
    "from pathlib import Path\n",
    "import pydub\n",
    "from constants import data_dir\n",
    "id = 'xc/data/SOSP/270532/audio.mp3'\n",
    "path = Path(data_dir) / id\n",
    "# NOTE Use mediainfo_json() instead of mediainfo() because pydub.AudioSegment uses the former and the latter might be dead code\n",
    "pydub.utils.mediainfo_json(str(path))"
   ]
  },
  {
   "cell_type": "code",
   "execution_count": null,
   "metadata": {},
   "outputs": [],
   "source": []
  }
 ],
 "metadata": {
  "kernelspec": {
   "display_name": "python",
   "language": "python",
   "name": "python"
  }
 },
 "nbformat": 4,
 "nbformat_minor": 2
}
