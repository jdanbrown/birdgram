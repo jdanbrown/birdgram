{
 "cells": [
  {
   "cell_type": "markdown",
   "metadata": {},
   "source": [
    "# lgb reference\n",
    "#   - https://github.com/Microsoft/LightGBM/blob/master/docs/Parameters.rst\n",
    "#   - https://github.com/Microsoft/LightGBM/blob/master/examples/python-guide/advanced_example.py\n",
    "#   - https://github.com/Microsoft/LightGBM/blob/master/docs/Features.rst\n",
    "#   - https://lightgbm.readthedocs.io/en/latest/Python-Intro.html\n",
    "#   - https://sites.google.com/view/lauraepp/parameters"
   ]
  },
  {
   "cell_type": "code",
   "execution_count": null,
   "metadata": {
    "time": "1.015s"
   },
   "outputs": [
    {
     "name": "stdout",
     "output_type": "stream",
     "text": "The autoreload extension is already loaded. To reload it, use:\n  %reload_ext autoreload\n"
    },
    {
     "name": "stdout",
     "output_type": "stream",
     "text": "The potoo.default_magic_magic extension is already loaded. To reload it, use:\n  %reload_ext potoo.default_magic_magic\nplatform:\n  machine: x86_64\n  node: Dan-B.local\n  processor: i386\n  release: 15.6.0\n  system: Darwin\n  version: 'Darwin Kernel Version 15.6.0: Thu Jun 23 18:25:34 PDT 2016; root:xnu-3248.60.10~1/RELEASE_X86_64'\ncpu: 8\nmem: 16g\nswap: 16g\n"
    }
   ],
   "source": [
    "from notebooks import *\n",
    "print_sys_info()"
   ]
  },
  {
   "cell_type": "code",
   "execution_count": null,
   "metadata": {},
   "outputs": [
    {
     "name": "stdout",
     "output_type": "stream",
     "text": "[02:39:02.514] DEBUG  Projection.load\n  path: /Users/danb/hack/bubo/features/data/models/projection/peterson-v0-26bae1c.pkl\n"
    }
   ],
   "source": [
    "# Load models\n",
    "load = Load()\n",
    "projection = Projection.load('peterson-v0-26bae1c', features=Features(load=load))"
   ]
  },
  {
   "cell_type": "code",
   "execution_count": null,
   "metadata": {
    "time": "4.468s"
   },
   "outputs": [
    {
     "name": "stdout",
     "output_type": "stream",
     "text": "all              9442/399859 (sp/recs)\ncountries         1148/59713 (sp/recs)\ncom_names          334/35236 (sp/recs)\n(downloaded)       334/35232 (sp/recs)\nrecs_at_least      296/34846 (sp/recs)\nnum_species        168/19640 (sp/recs)\n"
    },
    {
     "name": "stdout",
     "output_type": "stream",
     "text": "num_recs            168/3360 (sp/recs)\nrecs ≥ 2            168/3360 (sp/recs)\n"
    },
    {
     "data": {
      "text/plain": "'sp[168], recs[3360]'"
     },
     "metadata": {},
     "output_type": "display_data",
     "transient": {}
    },
    {
     "data": {
      "text/html": "<table border=\"1\" class=\"dataframe\">\n  <thead>\n    <tr style=\"text-align: right;\">\n      <th></th>\n      <th></th>\n      <th></th>\n      <th></th>\n      <th></th>\n      <th></th>\n      <th></th>\n      <th></th>\n      <th>min</th>\n      <th>25%</th>\n      <th>50%</th>\n      <th>75%</th>\n      <th>max</th>\n    </tr>\n    <tr>\n      <th></th>\n      <th>dtype</th>\n      <th>sizeof</th>\n      <th>len</th>\n      <th>count</th>\n      <th>nunique</th>\n      <th>mean</th>\n      <th>std</th>\n      <th></th>\n      <th></th>\n      <th></th>\n      <th></th>\n      <th></th>\n    </tr>\n  </thead>\n  <tbody>\n    <tr>\n      <th>downloaded</th>\n      <th>bool</th>\n      <th>94080</th>\n      <th>3360</th>\n      <th>3360</th>\n      <th>1</th>\n      <th>NaN</th>\n      <th>NaN</th>\n      <td><div class=\"not-number\">True</div></td>\n      <td><div class=\"not-number\">True</div></td>\n      <td><div class=\"not-number\">True</div></td>\n      <td><div class=\"not-number\">True</div></td>\n      <td><div class=\"not-number\">True</div></td>\n    </tr>\n    <tr>\n      <th>species</th>\n      <th>category</th>\n      <th>178080</th>\n      <th>3360</th>\n      <th>3360</th>\n      <th>168</th>\n      <th>NaN</th>\n      <th>NaN</th>\n      <td><div class=\"not-number\">GWFG</div></td>\n      <td><div class=\"not-number\">GBTE</div></td>\n      <td><div class=\"not-number\">REVI</div></td>\n      <td><div class=\"not-number\">NOWA</div></td>\n      <td><div class=\"not-number\">AMGO</div></td>\n    </tr>\n    <tr>\n      <th>id</th>\n      <th>int64</th>\n      <th>94080</th>\n      <th>3360</th>\n      <th>3360</th>\n      <th>3360</th>\n      <th>213283.439</th>\n      <th>108055.964</th>\n      <td>1133</td>\n      <td>138144</td>\n      <td>193564</td>\n      <td>308285</td>\n      <td>416744</td>\n    </tr>\n    <tr>\n      <th>sci_name</th>\n      <th>category</th>\n      <th>227200</th>\n      <th>3360</th>\n      <th>3360</th>\n      <th>168</th>\n      <th>NaN</th>\n      <th>NaN</th>\n      <td><div class=\"not-number\">Anser albifrons</div></td>\n      <td><div class=\"not-number\">Gelochelidon nilotica</div></td>\n      <td><div class=\"not-number\">Vireo olivaceus</div></td>\n      <td><div class=\"not-number\">Parkesia noveboracensis</div></td>\n      <td><div class=\"not-number\">Spinus tristis</div></td>\n    </tr>\n    <tr>\n      <th>com_name</th>\n      <th>category</th>\n      <th>220320</th>\n      <th>3360</th>\n      <th>3360</th>\n      <th>168</th>\n      <th>NaN</th>\n      <th>NaN</th>\n      <td><div class=\"not-number\">Greater White-fronted Goose</div></td>\n      <td><div class=\"not-number\">Gull-billed Tern</div></td>\n      <td><div class=\"not-number\">Red-eyed Vireo</div></td>\n      <td><div class=\"not-number\">Northern Waterthrush</div></td>\n      <td><div class=\"not-number\">American Goldfinch</div></td>\n    </tr>\n    <tr>\n      <th>subspecies</th>\n      <th>object</th>\n      <th>169603</th>\n      <th>3360</th>\n      <th>3360</th>\n      <th>205</th>\n      <th>NaN</th>\n      <th>NaN</th>\n      <td><div class=\"not-number\"></div></td>\n      <td><div class=\"not-number\"></div></td>\n      <td><div class=\"not-number\"></div></td>\n      <td><div class=\"not-number\"></div></td>\n      <td><div class=\"not-number\">zaboria</div></td>\n    </tr>\n    <tr>\n      <th>recordist</th>\n      <th>object</th>\n      <th>211728</th>\n      <th>3360</th>\n      <th>3360</th>\n      <th>291</th>\n      <th>NaN</th>\n      <th>NaN</th>\n      <td><div class=\"not-number\">AJ Knue</div></td>\n      <td><div class=\"not-number\">Frank Lambert</div></td>\n      <td><div class=\"not-number\">Matthias Feuersenger</div></td>\n      <td><div class=\"not-number\">Peter Boesman</div></td>\n      <td><div class=\"not-number\">tetiaroa</div></td>\n    </tr>\n    <tr>\n      <th>country</th>\n      <th>object</th>\n      <th>203063</th>\n      <th>3360</th>\n      <th>3360</th>\n      <th>3</th>\n      <th>NaN</th>\n      <th>NaN</th>\n      <td><div class=\"not-number\">Canada</div></td>\n      <td><div class=\"not-number\">United States</div></td>\n      <td><div class=\"not-number\">United States</div></td>\n      <td><div class=\"not-number\">United States</div></td>\n      <td><div class=\"not-number\">United States</div></td>\n    </tr>\n    <tr>\n      <th>locality</th>\n      <th>object</th>\n      <th>316516</th>\n      <th>3360</th>\n      <th>3360</th>\n      <th>1740</th>\n      <th>NaN</th>\n      <th>NaN</th>\n      <td><div class=\"not-number\"> Bahía la Ventosa, Salina Cruz, Oaxaca</div></td>\n      <td><div class=\"not-number\">Desert Beeline Highway, Maricopa County, Arizona</div></td>\n      <td><div class=\"not-number\">May Lake, Yosemite NP, California</div></td>\n      <td><div class=\"not-number\">Sabine Nature Trail loop, Cameron Parish, Louisiana</div></td>\n      <td><div class=\"not-number\">west of Thorp, WA</div></td>\n    </tr>\n    <tr>\n      <th>lat</th>\n      <th>float64</th>\n      <th>80640</th>\n      <th>3360</th>\n      <th>3308</th>\n      <th>1768</th>\n      <th>37.885</th>\n      <th>9.895</th>\n      <td>15.6</td>\n      <td>31.9</td>\n      <td>35.8</td>\n      <td>43.8</td>\n      <td>71.3</td>\n    </tr>\n    <tr>\n      <th>lng</th>\n      <th>float64</th>\n      <th>80640</th>\n      <th>3360</th>\n      <th>3308</th>\n      <th>1782</th>\n      <th>-107.691</th>\n      <th>19.351</th>\n      <td>-177</td>\n      <td>-118</td>\n      <td>-110</td>\n      <td>-95</td>\n      <td>-54</td>\n    </tr>\n    <tr>\n      <th>type</th>\n      <th>object</th>\n      <th>191561</th>\n      <th>3360</th>\n      <th>3360</th>\n      <th>339</th>\n      <th>NaN</th>\n      <th>NaN</th>\n      <td><div class=\"not-number\">\"chekurrrrrr\" call</div></td>\n      <td><div class=\"not-number\">call</div></td>\n      <td><div class=\"not-number\">call, male</div></td>\n      <td><div class=\"not-number\">song</div></td>\n      <td><div class=\"not-number\">wipe-out</div></td>\n    </tr>\n    <tr>\n      <th>quality</th>\n      <th>category</th>\n      <th>194711</th>\n      <th>3360</th>\n      <th>3360</th>\n      <th>6</th>\n      <th>NaN</th>\n      <th>NaN</th>\n      <td><div class=\"not-number\">A</div></td>\n      <td><div class=\"not-number\">A</div></td>\n      <td><div class=\"not-number\">B</div></td>\n      <td><div class=\"not-number\">B</div></td>\n      <td><div class=\"not-number\">no score</div></td>\n    </tr>\n    <tr>\n      <th>date</th>\n      <th>datetime64[ns]</th>\n      <th>430080</th>\n      <th>3360</th>\n      <th>3360</th>\n      <th>1569</th>\n      <th>NaN</th>\n      <th>NaN</th>\n      <td><div class=\"not-number\">1985-06-25 00:00:00</div></td>\n      <td><div class=\"not-number\">2011-09-28 00:00:00</div></td>\n      <td><div class=\"not-number\">2013-09-18 00:00:00</div></td>\n      <td><div class=\"not-number\">2015-06-12 00:00:00</div></td>\n      <td><div class=\"not-number\">2018-05-23 00:00:00</div></td>\n    </tr>\n    <tr>\n      <th>time</th>\n      <th>object</th>\n      <th>180924</th>\n      <th>3360</th>\n      <th>3360</th>\n      <th>896</th>\n      <th>NaN</th>\n      <th>NaN</th>\n      <td><div class=\"not-number\"> ?</div></td>\n      <td><div class=\"not-number\">0820</div></td>\n      <td><div class=\"not-number\">10:00am</div></td>\n      <td><div class=\"not-number\">1513</div></td>\n      <td><div class=\"not-number\">am</div></td>\n    </tr>\n    <tr>\n      <th>license_type</th>\n      <th>category</th>\n      <th>191388</th>\n      <th>3360</th>\n      <th>3360</th>\n      <th>3</th>\n      <th>NaN</th>\n      <th>NaN</th>\n      <td><div class=\"not-number\">by-nc-nd</div></td>\n      <td><div class=\"not-number\">by-nc-nd</div></td>\n      <td><div class=\"not-number\">by-nc-sa</div></td>\n      <td><div class=\"not-number\">by-nc-sa</div></td>\n      <td><div class=\"not-number\">by-sa</div></td>\n    </tr>\n    <tr>\n      <th>license_detail</th>\n      <th>category</th>\n      <th>174720</th>\n      <th>3360</th>\n      <th>3360</th>\n      <th>3</th>\n      <th>NaN</th>\n      <th>NaN</th>\n      <td><div class=\"not-number\">2.5</div></td>\n      <td><div class=\"not-number\">3.0</div></td>\n      <td><div class=\"not-number\">4.0</div></td>\n      <td><div class=\"not-number\">4.0</div></td>\n      <td><div class=\"not-number\">4.0</div></td>\n    </tr>\n    <tr>\n      <th>license</th>\n      <th>object</th>\n      <th>312348</th>\n      <th>3360</th>\n      <th>3360</th>\n      <th>7</th>\n      <th>NaN</th>\n      <th>NaN</th>\n      <td><div class=\"not-number\">//creativecommons.org/licenses/by-nc-nd/2.5/</div></td>\n      <td><div class=\"not-number\">//creativecommons.org/licenses/by-nc-nd/4.0/</div></td>\n      <td><div class=\"not-number\">//creativecommons.org/licenses/by-nc-sa/4.0/</div></td>\n      <td><div class=\"not-number\">//creativecommons.org/licenses/by-nc-sa/4.0/</div></td>\n      <td><div class=\"not-number\">//creativecommons.org/licenses/by-sa/4.0/</div></td>\n    </tr>\n    <tr>\n      <th>url</th>\n      <th>object</th>\n      <th>275034</th>\n      <th>3360</th>\n      <th>3360</th>\n      <th>3360</th>\n      <th>NaN</th>\n      <th>NaN</th>\n      <td><div class=\"not-number\">https://www.xeno-canto.org/100121</div></td>\n      <td><div class=\"not-number\">https://www.xeno-canto.org/160005</div></td>\n      <td><div class=\"not-number\">https://www.xeno-canto.org/236694</div></td>\n      <td><div class=\"not-number\">https://www.xeno-canto.org/34583</div></td>\n      <td><div class=\"not-number\">https://www.xeno-canto.org/99812</div></td>\n    </tr>\n    <tr>\n      <th>download</th>\n      <th>object</th>\n      <th>285114</th>\n      <th>3360</th>\n      <th>3360</th>\n      <th>3360</th>\n      <th>NaN</th>\n      <th>NaN</th>\n      <td><div class=\"not-number\">//www.xeno-canto.org/100121/download</div></td>\n      <td><div class=\"not-number\">//www.xeno-canto.org/160005/download</div></td>\n      <td><div class=\"not-number\">//www.xeno-canto.org/236694/download</div></td>\n      <td><div class=\"not-number\">//www.xeno-canto.org/34583/download</div></td>\n      <td><div class=\"not-number\">//www.xeno-canto.org/99812/download</div></td>\n    </tr>\n  </tbody>\n</table>",
      "text/plain": "                                                                                                                         min                                               25%                                           50%                                                  75%                                        max\n               dtype          sizeof len  count nunique mean        std                                                                                                                                                                                                                                                     \ndownloaded     bool           94080  3360 3360  1       NaN         NaN                                                 True                                              True                                          True                                                 True                                       True\nspecies        category       178080 3360 3360  168     NaN         NaN                                                 GWFG                                              GBTE                                          REVI                                                 NOWA                                       AMGO\nid             int64          94080  3360 3360  3360     213283.439 108055.964                                          1133                                            138144                                        193564                                               308285                                     416744\nsci_name       category       227200 3360 3360  168     NaN         NaN                                      Anser albifrons                             Gelochelidon nilotica                               Vireo olivaceus                              Parkesia noveboracensis                             Spinus tristis\ncom_name       category       220320 3360 3360  168     NaN         NaN                          Greater White-fronted Goose                                  Gull-billed Tern                                Red-eyed Vireo                                 Northern Waterthrush                         American Goldfinch\nsubspecies     object         169603 3360 3360  205     NaN         NaN                                                                                                                                                                                                                                              zaboria\nrecordist      object         211728 3360 3360  291     NaN         NaN                                              AJ Knue                                     Frank Lambert                          Matthias Feuersenger                                        Peter Boesman                                   tetiaroa\ncountry        object         203063 3360 3360  3       NaN         NaN                                               Canada                                     United States                                 United States                                        United States                              United States\nlocality       object         316516 3360 3360  1740    NaN         NaN                Bahía la Ventosa, Salina Cruz, Oaxaca  Desert Beeline Highway, Maricopa County, Arizona             May Lake, Yosemite NP, California  Sabine Nature Trail loop, Cameron Parish, Louisiana                          west of Thorp, WA\nlat            float64        80640  3360 3308  1768     37.885     9.895                                               15.6                                              31.9                                          35.8                                                 43.8                                       71.3\nlng            float64        80640  3360 3308  1782    -107.691    19.351                                              -177                                              -118                                          -110                                                  -95                                        -54\ntype           object         191561 3360 3360  339     NaN         NaN                                   \"chekurrrrrr\" call                                              call                                    call, male                                                 song                                   wipe-out\nquality        category       194711 3360 3360  6       NaN         NaN                                                    A                                                 A                                             B                                                    B                                   no score\ndate           datetime64[ns] 430080 3360 3360  1569    NaN         NaN                                  1985-06-25 00:00:00                               2011-09-28 00:00:00                           2013-09-18 00:00:00                                  2015-06-12 00:00:00                        2018-05-23 00:00:00\ntime           object         180924 3360 3360  896     NaN         NaN                                                    ?                                              0820                                       10:00am                                                 1513                                         am\nlicense_type   category       191388 3360 3360  3       NaN         NaN                                             by-nc-nd                                          by-nc-nd                                      by-nc-sa                                             by-nc-sa                                      by-sa\nlicense_detail category       174720 3360 3360  3       NaN         NaN                                                  2.5                                               3.0                                           4.0                                                  4.0                                        4.0\nlicense        object         312348 3360 3360  7       NaN         NaN         //creativecommons.org/licenses/by-nc-nd/2.5/      //creativecommons.org/licenses/by-nc-nd/4.0/  //creativecommons.org/licenses/by-nc-sa/4.0/         //creativecommons.org/licenses/by-nc-sa/4.0/  //creativecommons.org/licenses/by-sa/4.0/\nurl            object         275034 3360 3360  3360    NaN         NaN                    https://www.xeno-canto.org/100121                 https://www.xeno-canto.org/160005             https://www.xeno-canto.org/236694                     https://www.xeno-canto.org/34583           https://www.xeno-canto.org/99812\ndownload       object         285114 3360 3360  3360    NaN         NaN                 //www.xeno-canto.org/100121/download              //www.xeno-canto.org/160005/download          //www.xeno-canto.org/236694/download                  //www.xeno-canto.org/34583/download        //www.xeno-canto.org/99812/download"
     },
     "metadata": {},
     "output_type": "display_data",
     "transient": {}
    },
    {
     "data": {
      "text/html": "<table border=\"1\" class=\"dataframe\">\n  <thead>\n    <tr style=\"text-align: right;\">\n      <th></th>\n      <th></th>\n      <th>downloaded</th>\n      <th>species</th>\n      <th>id</th>\n      <th>sci_name</th>\n      <th>com_name</th>\n      <th>subspecies</th>\n      <th>recordist</th>\n      <th>country</th>\n      <th>locality</th>\n      <th>lat</th>\n      <th>lng</th>\n      <th>type</th>\n      <th>quality</th>\n      <th>date</th>\n      <th>time</th>\n      <th>license_type</th>\n      <th>license_detail</th>\n      <th>license</th>\n      <th>url</th>\n      <th>download</th>\n    </tr>\n    <tr>\n      <th>species</th>\n      <th></th>\n      <th></th>\n      <th></th>\n      <th></th>\n      <th></th>\n      <th></th>\n      <th></th>\n      <th></th>\n      <th></th>\n      <th></th>\n      <th></th>\n      <th></th>\n      <th></th>\n      <th></th>\n      <th></th>\n      <th></th>\n      <th></th>\n      <th></th>\n      <th></th>\n      <th></th>\n      <th></th>\n    </tr>\n  </thead>\n  <tbody>\n    <tr>\n      <th>COGA</th>\n      <th>205189</th>\n      <td><div class=\"not-number\">True</div></td>\n      <td><div class=\"not-number\">COGA</div></td>\n      <td>207451</td>\n      <td><div class=\"not-number\">Gallinula galeata</div></td>\n      <td><div class=\"not-number\">Common Gallinule</div></td>\n      <td><div class=\"not-number\">sandvicensis</div></td>\n      <td><div class=\"not-number\">Ross Gallardy</div></td>\n      <td><div class=\"not-number\">United States</div></td>\n      <td><div class=\"not-number\">Kailua, Honolulu County, Hawaii</div></td>\n      <td>21.4</td>\n      <td>-158.0</td>\n      <td><div class=\"not-number\">call</div></td>\n      <td><div class=\"not-number\">B</div></td>\n      <td><div class=\"not-number\">2014-12-21 00:00:00</div></td>\n      <td><div class=\"not-number\">07:30</div></td>\n      <td><div class=\"not-number\">by-nc-sa</div></td>\n      <td><div class=\"not-number\">4.0</div></td>\n      <td><div class=\"not-number\">//creativecommons.org/licenses/by-nc-sa/4.0/</div></td>\n      <td><div class=\"not-number\">https://www.xeno-canto.org/207451</div></td>\n      <td><div class=\"not-number\">//www.xeno-canto.org/207451/download</div></td>\n    </tr>\n    <tr>\n      <th>INDO</th>\n      <th>18832</th>\n      <td><div class=\"not-number\">True</div></td>\n      <td><div class=\"not-number\">INDO</div></td>\n      <td>398616</td>\n      <td><div class=\"not-number\">Columbina inca</div></td>\n      <td><div class=\"not-number\">Inca Dove</div></td>\n      <td><div class=\"not-number\"></div></td>\n      <td><div class=\"not-number\">Manuel Grosselet</div></td>\n      <td><div class=\"not-number\">Mexico</div></td>\n      <td><div class=\"not-number\">Lomas de Bezares Miguel Hidalgo Mexico city</div></td>\n      <td>19.4</td>\n      <td>-99.2</td>\n      <td><div class=\"not-number\">song</div></td>\n      <td><div class=\"not-number\">B</div></td>\n      <td><div class=\"not-number\">2018-01-07 00:00:00</div></td>\n      <td><div class=\"not-number\">08:00</div></td>\n      <td><div class=\"not-number\">by-nc-sa</div></td>\n      <td><div class=\"not-number\">4.0</div></td>\n      <td><div class=\"not-number\">//creativecommons.org/licenses/by-nc-sa/4.0/</div></td>\n      <td><div class=\"not-number\">https://www.xeno-canto.org/398616</div></td>\n      <td><div class=\"not-number\">//www.xeno-canto.org/398616/download</div></td>\n    </tr>\n    <tr>\n      <th>EWPW</th>\n      <th>223194</th>\n      <td><div class=\"not-number\">True</div></td>\n      <td><div class=\"not-number\">EWPW</div></td>\n      <td>188611</td>\n      <td><div class=\"not-number\">Antrostomus vociferus</div></td>\n      <td><div class=\"not-number\">Eastern Whip-poor-will</div></td>\n      <td><div class=\"not-number\"></div></td>\n      <td><div class=\"not-number\">David Jonas Weber</div></td>\n      <td><div class=\"not-number\">United States</div></td>\n      <td><div class=\"not-number\">Gravelly Hill Rd., Salem County, New Jersey</div></td>\n      <td>39.5</td>\n      <td>-75.4</td>\n      <td><div class=\"not-number\">song</div></td>\n      <td><div class=\"not-number\">C</div></td>\n      <td><div class=\"not-number\">2014-07-25 00:00:00</div></td>\n      <td><div class=\"not-number\">05:30</div></td>\n      <td><div class=\"not-number\">by-nc-sa</div></td>\n      <td><div class=\"not-number\">4.0</div></td>\n      <td><div class=\"not-number\">//creativecommons.org/licenses/by-nc-sa/4.0/</div></td>\n      <td><div class=\"not-number\">https://www.xeno-canto.org/188611</div></td>\n      <td><div class=\"not-number\">//www.xeno-canto.org/188611/download</div></td>\n    </tr>\n    <tr>\n      <th>NUWO</th>\n      <th>113835</th>\n      <td><div class=\"not-number\">True</div></td>\n      <td><div class=\"not-number\">NUWO</div></td>\n      <td>301366</td>\n      <td><div class=\"not-number\">Picoides nuttallii</div></td>\n      <td><div class=\"not-number\">Nuttall's Woodpecker</div></td>\n      <td><div class=\"not-number\"></div></td>\n      <td><div class=\"not-number\">Denise Wight</div></td>\n      <td><div class=\"not-number\">United States</div></td>\n      <td><div class=\"not-number\">Moraga, Contra Costa County, California</div></td>\n      <td>37.8</td>\n      <td>-122.0</td>\n      <td><div class=\"not-number\">Hawk mobbing call, alarm call</div></td>\n      <td><div class=\"not-number\">C</div></td>\n      <td><div class=\"not-number\">2016-01-25 00:00:00</div></td>\n      <td><div class=\"not-number\">10:00</div></td>\n      <td><div class=\"not-number\">by-nc-sa</div></td>\n      <td><div class=\"not-number\">4.0</div></td>\n      <td><div class=\"not-number\">//creativecommons.org/licenses/by-nc-sa/4.0/</div></td>\n      <td><div class=\"not-number\">https://www.xeno-canto.org/301366</div></td>\n      <td><div class=\"not-number\">//www.xeno-canto.org/301366/download</div></td>\n    </tr>\n    <tr>\n      <th>BBWO</th>\n      <th>80808</th>\n      <td><div class=\"not-number\">True</div></td>\n      <td><div class=\"not-number\">BBWO</div></td>\n      <td>335436</td>\n      <td><div class=\"not-number\">Picoides arcticus</div></td>\n      <td><div class=\"not-number\">Black-backed Woodpecker</div></td>\n      <td><div class=\"not-number\"></div></td>\n      <td><div class=\"not-number\">Lance A. M. Benner</div></td>\n      <td><div class=\"not-number\">United States</div></td>\n      <td><div class=\"not-number\">Blackrock Trailhead, Tulare County, California</div></td>\n      <td>36.2</td>\n      <td>-118.0</td>\n      <td><div class=\"not-number\">drumming, male</div></td>\n      <td><div class=\"not-number\">no score</div></td>\n      <td><div class=\"not-number\">2016-09-17 00:00:00</div></td>\n      <td><div class=\"not-number\">16:41</div></td>\n      <td><div class=\"not-number\">by-nc-sa</div></td>\n      <td><div class=\"not-number\">4.0</div></td>\n      <td><div class=\"not-number\">//creativecommons.org/licenses/by-nc-sa/4.0/</div></td>\n      <td><div class=\"not-number\">https://www.xeno-canto.org/335436</div></td>\n      <td><div class=\"not-number\">//www.xeno-canto.org/335436/download</div></td>\n    </tr>\n    <tr>\n      <th>HUVI</th>\n      <th>117936</th>\n      <td><div class=\"not-number\">True</div></td>\n      <td><div class=\"not-number\">HUVI</div></td>\n      <td>297126</td>\n      <td><div class=\"not-number\">Vireo huttoni</div></td>\n      <td><div class=\"not-number\">Hutton's Vireo</div></td>\n      <td><div class=\"not-number\"></div></td>\n      <td><div class=\"not-number\">Paul Marvin</div></td>\n      <td><div class=\"not-number\">United States</div></td>\n      <td><div class=\"not-number\">Kickapoo Cavern State Park, Brackettville, Texas</div></td>\n      <td>29.6</td>\n      <td>-100.0</td>\n      <td><div class=\"not-number\">song</div></td>\n      <td><div class=\"not-number\">C</div></td>\n      <td><div class=\"not-number\">2012-04-08 00:00:00</div></td>\n      <td><div class=\"not-number\">07:58</div></td>\n      <td><div class=\"not-number\">by-nc-sa</div></td>\n      <td><div class=\"not-number\">4.0</div></td>\n      <td><div class=\"not-number\">//creativecommons.org/licenses/by-nc-sa/4.0/</div></td>\n      <td><div class=\"not-number\">https://www.xeno-canto.org/297126</div></td>\n      <td><div class=\"not-number\">//www.xeno-canto.org/297126/download</div></td>\n    </tr>\n    <tr>\n      <th>MGWA</th>\n      <th>89731</th>\n      <td><div class=\"not-number\">True</div></td>\n      <td><div class=\"not-number\">MGWA</div></td>\n      <td>326299</td>\n      <td><div class=\"not-number\">Geothlypis tolmiei</div></td>\n      <td><div class=\"not-number\">MacGillivray's Warbler</div></td>\n      <td><div class=\"not-number\"></div></td>\n      <td><div class=\"not-number\">Lance A. M. Benner</div></td>\n      <td><div class=\"not-number\">United States</div></td>\n      <td><div class=\"not-number\">Buckhorn Campground, San Gabriel Mountains, Los Angeles County, California</div></td>\n      <td>34.3</td>\n      <td>-118.0</td>\n      <td><div class=\"not-number\">male, song</div></td>\n      <td><div class=\"not-number\">no score</div></td>\n      <td><div class=\"not-number\">2016-06-28 00:00:00</div></td>\n      <td><div class=\"not-number\">10:49</div></td>\n      <td><div class=\"not-number\">by-nc-sa</div></td>\n      <td><div class=\"not-number\">4.0</div></td>\n      <td><div class=\"not-number\">//creativecommons.org/licenses/by-nc-sa/4.0/</div></td>\n      <td><div class=\"not-number\">https://www.xeno-canto.org/326299</div></td>\n      <td><div class=\"not-number\">//www.xeno-canto.org/326299/download</div></td>\n    </tr>\n    <tr>\n      <th>PUFI</th>\n      <th>159786</th>\n      <td><div class=\"not-number\">True</div></td>\n      <td><div class=\"not-number\">PUFI</div></td>\n      <td>254326</td>\n      <td><div class=\"not-number\">Haemorhous purpureus</div></td>\n      <td><div class=\"not-number\">Purple Finch</div></td>\n      <td><div class=\"not-number\"></div></td>\n      <td><div class=\"not-number\">Iain</div></td>\n      <td><div class=\"not-number\">Canada</div></td>\n      <td><div class=\"not-number\">Algonquin Highlands, Haliburton County, Ontario</div></td>\n      <td>45.3</td>\n      <td>-78.8</td>\n      <td><div class=\"not-number\">song</div></td>\n      <td><div class=\"not-number\">C</div></td>\n      <td><div class=\"not-number\">2015-06-27 00:00:00</div></td>\n      <td><div class=\"not-number\">11:00</div></td>\n      <td><div class=\"not-number\">by-nc-sa</div></td>\n      <td><div class=\"not-number\">4.0</div></td>\n      <td><div class=\"not-number\">//creativecommons.org/licenses/by-nc-sa/4.0/</div></td>\n      <td><div class=\"not-number\">https://www.xeno-canto.org/254326</div></td>\n      <td><div class=\"not-number\">//www.xeno-canto.org/254326/download</div></td>\n    </tr>\n    <tr>\n      <th>CAFI</th>\n      <th>46804</th>\n      <td><div class=\"not-number\">True</div></td>\n      <td><div class=\"not-number\">CAFI</div></td>\n      <td>369971</td>\n      <td><div class=\"not-number\">Haemorhous cassinii</div></td>\n      <td><div class=\"not-number\">Cassin's Finch</div></td>\n      <td><div class=\"not-number\"></div></td>\n      <td><div class=\"not-number\">Eric DeFonso</div></td>\n      <td><div class=\"not-number\">United States</div></td>\n      <td><div class=\"not-number\">Dunton Rd area, San Juan National Forest, Dolores County, Colorado</div></td>\n      <td>37.8</td>\n      <td>-108.0</td>\n      <td><div class=\"not-number\">song</div></td>\n      <td><div class=\"not-number\">A</div></td>\n      <td><div class=\"not-number\">2016-06-28 00:00:00</div></td>\n      <td><div class=\"not-number\">15:00</div></td>\n      <td><div class=\"not-number\">by-nc-sa</div></td>\n      <td><div class=\"not-number\">4.0</div></td>\n      <td><div class=\"not-number\">//creativecommons.org/licenses/by-nc-sa/4.0/</div></td>\n      <td><div class=\"not-number\">https://www.xeno-canto.org/369971</div></td>\n      <td><div class=\"not-number\">//www.xeno-canto.org/369971/download</div></td>\n    </tr>\n    <tr>\n      <th>AMGO</th>\n      <th>256886</th>\n      <td><div class=\"not-number\">True</div></td>\n      <td><div class=\"not-number\">AMGO</div></td>\n      <td>153552</td>\n      <td><div class=\"not-number\">Spinus tristis</div></td>\n      <td><div class=\"not-number\">American Goldfinch</div></td>\n      <td><div class=\"not-number\"></div></td>\n      <td><div class=\"not-number\">Mike Schanbacher</div></td>\n      <td><div class=\"not-number\">United States</div></td>\n      <td><div class=\"not-number\">Falmouth, Barnstable, Massachusetts</div></td>\n      <td>41.5</td>\n      <td>-70.7</td>\n      <td><div class=\"not-number\">call, male</div></td>\n      <td><div class=\"not-number\">B</div></td>\n      <td><div class=\"not-number\">2013-05-01 00:00:00</div></td>\n      <td><div class=\"not-number\">12:00</div></td>\n      <td><div class=\"not-number\">by-nc-sa</div></td>\n      <td><div class=\"not-number\">3.0</div></td>\n      <td><div class=\"not-number\">//creativecommons.org/licenses/by-nc-sa/3.0/</div></td>\n      <td><div class=\"not-number\">https://www.xeno-canto.org/153552</div></td>\n      <td><div class=\"not-number\">//www.xeno-canto.org/153552/download</div></td>\n    </tr>\n  </tbody>\n</table>",
      "text/plain": "                downloaded species      id               sci_name                 com_name    subspecies           recordist        country                                                                    locality     lat      lng                           type   quality       date   time license_type license_detail                                       license                                url                              download\nspecies                                                                                                                                                                                                                                                                                                                                                                                                                                               \nCOGA    205189        True    COGA  207451      Gallinula galeata         Common Gallinule  sandvicensis       Ross Gallardy  United States                                             Kailua, Honolulu County, Hawaii  21.391 -157.743                           call         B 2014-12-21  07:30     by-nc-sa            4.0  //creativecommons.org/licenses/by-nc-sa/4.0/  https://www.xeno-canto.org/207451  //www.xeno-canto.org/207451/download\nINDO    18832         True    INDO  398616         Columbina inca                Inca Dove                  Manuel Grosselet         Mexico                                 Lomas de Bezares Miguel Hidalgo Mexico city  19.391  -99.244                           song         B 2018-01-07  08:00     by-nc-sa            4.0  //creativecommons.org/licenses/by-nc-sa/4.0/  https://www.xeno-canto.org/398616  //www.xeno-canto.org/398616/download\nEWPW    223194        True    EWPW  188611  Antrostomus vociferus   Eastern Whip-poor-will                 David Jonas Weber  United States                                 Gravelly Hill Rd., Salem County, New Jersey  39.495  -75.355                           song         C 2014-07-25  05:30     by-nc-sa            4.0  //creativecommons.org/licenses/by-nc-sa/4.0/  https://www.xeno-canto.org/188611  //www.xeno-canto.org/188611/download\nNUWO    113835        True    NUWO  301366     Picoides nuttallii     Nuttall's Woodpecker                      Denise Wight  United States                                     Moraga, Contra Costa County, California  37.832 -122.134  Hawk mobbing call, alarm call         C 2016-01-25  10:00     by-nc-sa            4.0  //creativecommons.org/licenses/by-nc-sa/4.0/  https://www.xeno-canto.org/301366  //www.xeno-canto.org/301366/download\nBBWO    80808         True    BBWO  335436      Picoides arcticus  Black-backed Woodpecker                Lance A. M. Benner  United States                              Blackrock Trailhead, Tulare County, California  36.175 -118.270                 drumming, male  no score 2016-09-17  16:41     by-nc-sa            4.0  //creativecommons.org/licenses/by-nc-sa/4.0/  https://www.xeno-canto.org/335436  //www.xeno-canto.org/335436/download\nHUVI    117936        True    HUVI  297126          Vireo huttoni           Hutton's Vireo                       Paul Marvin  United States                            Kickapoo Cavern State Park, Brackettville, Texas  29.618 -100.451                           song         C 2012-04-08  07:58     by-nc-sa            4.0  //creativecommons.org/licenses/by-nc-sa/4.0/  https://www.xeno-canto.org/297126  //www.xeno-canto.org/297126/download\nMGWA    89731         True    MGWA  326299     Geothlypis tolmiei   MacGillivray's Warbler                Lance A. M. Benner  United States  Buckhorn Campground, San Gabriel Mountains, Los Angeles County, California  34.346 -117.915                     male, song  no score 2016-06-28  10:49     by-nc-sa            4.0  //creativecommons.org/licenses/by-nc-sa/4.0/  https://www.xeno-canto.org/326299  //www.xeno-canto.org/326299/download\nPUFI    159786        True    PUFI  254326   Haemorhous purpureus             Purple Finch                              Iain         Canada                             Algonquin Highlands, Haliburton County, Ontario  45.306  -78.809                           song         C 2015-06-27  11:00     by-nc-sa            4.0  //creativecommons.org/licenses/by-nc-sa/4.0/  https://www.xeno-canto.org/254326  //www.xeno-canto.org/254326/download\nCAFI    46804         True    CAFI  369971    Haemorhous cassinii           Cassin's Finch                      Eric DeFonso  United States          Dunton Rd area, San Juan National Forest, Dolores County, Colorado  37.780 -108.040                           song         A 2016-06-28  15:00     by-nc-sa            4.0  //creativecommons.org/licenses/by-nc-sa/4.0/  https://www.xeno-canto.org/369971  //www.xeno-canto.org/369971/download\nAMGO    256886        True    AMGO  153552         Spinus tristis       American Goldfinch                  Mike Schanbacher  United States                                         Falmouth, Barnstable, Massachusetts  41.522  -70.668                     call, male         B 2013-05-01  12:00     by-nc-sa            3.0  //creativecommons.org/licenses/by-nc-sa/3.0/  https://www.xeno-canto.org/153552  //www.xeno-canto.org/153552/download"
     },
     "metadata": {},
     "output_type": "display_data",
     "transient": {}
    }
   ],
   "source": [
    "# Select recs\n",
    "#   1. countries: Filter recs to these countries\n",
    "#   2. com_names: Filter recs to these species\n",
    "#   3. recs_at_least: Filter species to those with at least this many recs\n",
    "#   4. num_species: Sample this many of the species\n",
    "#   5. num_recs: Sample this many recs per species\n",
    "get_recs_stats = lambda df: dict(sp=df.species.nunique(), recs=len(df))\n",
    "puts_stats = lambda desc: partial(tap, f=lambda df: print('%-15s %12s (sp/recs)' % (desc, '%(sp)s/%(recs)s' % get_recs_stats(df))))\n",
    "countries, com_names = countries_na, com_names_ca  # 400k/9.4k -> 60k/1.1k -> 35k/334\n",
    "# recs_at_least, num_species, num_recs = 100, 100, 100  # ca[334/35k -> 127/25k -> 100/21k -> 100/10k   -> 100/10k]\n",
    "# recs_at_least, num_species, num_recs =  50, 100, 100  # ca[334/35k -> 224/32k -> 100/16k -> 100/ 9.0k -> 100/ 9.0k]\n",
    "# recs_at_least, num_species, num_recs =   0, 100, 100  # ca[334/35k -> 334/35k -> 100/12k -> 100/ 6.8k ->  99/ 6.8k]\n",
    "# recs_at_least, num_species, num_recs =   0, 168, 100  # ca[334/34k -> 334/34k -> 168/18k -> 168/11k   -> 167/11k]    # (old 'all')\n",
    "# recs_at_least, num_species, num_recs =   0, 168,  20  # ca[334/34k -> 334/35k -> 168/18k -> 168/ 3.2k -> 167/ 3.2k]  # (old 'recs')\n",
    "recs_at_least, num_species, num_recs =  20, 168,  20    # ca[334/35k -> 296/35k -> 168/20k -> 168/ 3.4k -> 168/ 3.4k]  # (old 'recs')\n",
    "# recs_at_least, num_species, num_recs =  20, 50,  100  # Faster dev\n",
    "# recs_at_least, num_species, num_recs =  20, 50,  50   # Faster dev\n",
    "# recs_at_least, num_species, num_recs =  20, 50,  20   # Faster dev\n",
    "# recs_at_least, num_species, num_recs =  20, 50,  10   # Faster dev\n",
    "# recs_at_least, num_species, num_recs =  20, 50,  5    # Faster dev\n",
    "xcs = (xc.metadata\n",
    "    .pipe(puts_stats('all'))\n",
    "    # 1. countries: Filter recs to these countries\n",
    "    [lambda df: df.country.isin(countries)]\n",
    "    .pipe(puts_stats('countries'))\n",
    "    # 2. com_names: Filter recs to these species\n",
    "    [lambda df: df.com_name.isin(com_names)]\n",
    "    .pipe(puts_stats('com_names'))\n",
    "    # Omit not-downloaded recs (should be few within the selected countries)\n",
    "    [lambda df: df.downloaded]\n",
    "    .pipe(puts_stats('(downloaded)'))\n",
    "    # Remove empty cats for perf\n",
    "    .pipe(df_remove_unused_categories)\n",
    "    # 3. recs_at_least: Filter species to those with at least this many recs\n",
    "    [lambda df: df.species.isin(df.species.value_counts()[lambda s: s >= recs_at_least].index)]\n",
    "    .pipe(puts_stats('recs_at_least'))\n",
    "    # 4. num_species: Sample this many of the species\n",
    "    [lambda df: df.species.isin(df.species.drop_duplicates().pipe(lambda s: s.sample(n=min(len(s), num_species), random_state=0)))]\n",
    "    .pipe(puts_stats('num_species'))\n",
    "    # 5. num_recs: Sample this many recs per species\n",
    "    #   - Remove empty cats else .groupby fails on empty groups\n",
    "    .pipe(df_remove_unused_categories)\n",
    "    .groupby('species').apply(lambda g: g.sample(n=min(len(g), num_recs), random_state=0))\n",
    "    .pipe(puts_stats('num_recs'))\n",
    "    # Drop species with <2 recs, else StratifiedShuffleSplit complains (e.g. 'TUVU')\n",
    "    [lambda df: df.species.isin(df.species.value_counts()[lambda s: s >= 2].index)]\n",
    "    .pipe(puts_stats('recs ≥ 2'))\n",
    "    # Clean up for downstream\n",
    "    .pipe(df_remove_unused_categories)\n",
    ")\n",
    "_recs_stats = get_recs_stats(xcs)\n",
    "recs_stats = ', '.join(['%s[%s]' % (k, v) for k, v in _recs_stats.items()])\n",
    "display(\n",
    "    recs_stats,\n",
    "    df_summary(xcs).T,\n",
    "    xcs.sample(n=10, random_state=0).sort_values('species'),\n",
    ")"
   ]
  },
  {
   "cell_type": "code",
   "execution_count": null,
   "metadata": {},
   "outputs": [
    {
     "data": {
      "text/plain": "3360"
     },
     "metadata": {},
     "output_type": "display_data",
     "transient": {}
    }
   ],
   "source": [
    "xcs_paths = [\n",
    "    ('xc', f'{data_dir}/xc/data/{row.species}/{row.id}/audio.mp3')\n",
    "    for row in df_rows(xcs)\n",
    "]\n",
    "joblib.dump(xcs_paths, '/tmp/xcs_paths')  # In case you want to run load.recs in a terminal (it's long and verbose)\n",
    "display(\n",
    "    len(xcs_paths),\n",
    "    # xcs_paths[:2],\n",
    ")"
   ]
  },
  {
   "cell_type": "code",
   "execution_count": null,
   "metadata": {
    "once": false
   },
   "outputs": [
    {
     "data": {
      "text/html": "<table border=\"1\" class=\"dataframe\">\n  <thead>\n    <tr style=\"text-align: right;\">\n      <th></th>\n      <th></th>\n      <th></th>\n      <th></th>\n      <th></th>\n      <th></th>\n      <th></th>\n      <th></th>\n      <th>min</th>\n      <th>25%</th>\n      <th>50%</th>\n      <th>75%</th>\n      <th>max</th>\n    </tr>\n    <tr>\n      <th></th>\n      <th>dtype</th>\n      <th>sizeof</th>\n      <th>len</th>\n      <th>count</th>\n      <th>nunique</th>\n      <th>mean</th>\n      <th>std</th>\n      <th></th>\n      <th></th>\n      <th></th>\n      <th></th>\n      <th></th>\n    </tr>\n  </thead>\n  <tbody>\n    <tr>\n      <th>dataset</th>\n      <th>object</th>\n      <th>171360</th>\n      <th>3360</th>\n      <th>3360</th>\n      <th>1</th>\n      <th>NaN</th>\n      <th>NaN</th>\n      <td><div class=\"not-number\">xc</div></td>\n      <td><div class=\"not-number\">xc</div></td>\n      <td><div class=\"not-number\">xc</div></td>\n      <td><div class=\"not-number\">xc</div></td>\n      <td><div class=\"not-number\">xc</div></td>\n    </tr>\n    <tr>\n      <th>species</th>\n      <th>category</th>\n      <th>178080</th>\n      <th>3360</th>\n      <th>3360</th>\n      <th>168</th>\n      <th>NaN</th>\n      <th>NaN</th>\n      <td><div class=\"not-number\">GWFG</div></td>\n      <td><div class=\"not-number\">GBTE</div></td>\n      <td><div class=\"not-number\">REVI</div></td>\n      <td><div class=\"not-number\">NOWA</div></td>\n      <td><div class=\"not-number\">AMGO</div></td>\n    </tr>\n    <tr>\n      <th>species_com_name</th>\n      <th>category</th>\n      <th>219160</th>\n      <th>3360</th>\n      <th>3360</th>\n      <th>168</th>\n      <th>NaN</th>\n      <th>NaN</th>\n      <td><div class=\"not-number\">Greater White-fronted Goose</div></td>\n      <td><div class=\"not-number\">Gull-billed Tern</div></td>\n      <td><div class=\"not-number\">Red-eyed Vireo</div></td>\n      <td><div class=\"not-number\">Northern Waterthrush</div></td>\n      <td><div class=\"not-number\">American Goldfinch</div></td>\n    </tr>\n    <tr>\n      <th>species_query</th>\n      <th>object</th>\n      <th>178080</th>\n      <th>3360</th>\n      <th>3360</th>\n      <th>168</th>\n      <th>NaN</th>\n      <th>NaN</th>\n      <td><div class=\"not-number\">ACWO</div></td>\n      <td><div class=\"not-number\">CONI</div></td>\n      <td><div class=\"not-number\">LASP</div></td>\n      <td><div class=\"not-number\">RIRA</div></td>\n      <td><div class=\"not-number\">YRWA</div></td>\n    </tr>\n    <tr>\n      <th>duration_s</th>\n      <th>float64</th>\n      <th>80640</th>\n      <th>3360</th>\n      <th>3360</th>\n      <th>3054</th>\n      <th>5.430e+01</th>\n      <th>7.031e+01</th>\n      <td>0.697</td>\n      <td>14.4</td>\n      <td>31.8</td>\n      <td>65.4</td>\n      <td>940</td>\n    </tr>\n    <tr>\n      <th>samples_mb</th>\n      <th>float64</th>\n      <th>80640</th>\n      <th>3360</th>\n      <th>3360</th>\n      <th>3055</th>\n      <th>2.286e+00</th>\n      <th>2.958e+00</th>\n      <td>0.0293</td>\n      <td>0.604</td>\n      <td>1.34</td>\n      <td>2.76</td>\n      <td>39.5</td>\n    </tr>\n    <tr>\n      <th>samples_n</th>\n      <th>int64</th>\n      <th>94080</th>\n      <th>3360</th>\n      <th>3360</th>\n      <th>3055</th>\n      <th>1.198e+06</th>\n      <th>1.551e+06</th>\n      <td>15368</td>\n      <td>316510</td>\n      <td>701190</td>\n      <td>1444435</td>\n      <td>20731931</td>\n    </tr>\n    <tr>\n      <th>basename</th>\n      <th>object</th>\n      <th>181440</th>\n      <th>3360</th>\n      <th>3360</th>\n      <th>1</th>\n      <th>NaN</th>\n      <th>NaN</th>\n      <td><div class=\"not-number\">audio</div></td>\n      <td><div class=\"not-number\">audio</div></td>\n      <td><div class=\"not-number\">audio</div></td>\n      <td><div class=\"not-number\">audio</div></td>\n      <td><div class=\"not-number\">audio</div></td>\n    </tr>\n    <tr>\n      <th>species_longhand</th>\n      <th>category</th>\n      <th>242680</th>\n      <th>3360</th>\n      <th>3360</th>\n      <th>168</th>\n      <th>NaN</th>\n      <th>NaN</th>\n      <td><div class=\"not-number\">Greater White-fronted Goose - GWFG</div></td>\n      <td><div class=\"not-number\">Gull-billed Tern - GBTE</div></td>\n      <td><div class=\"not-number\">Red-eyed Vireo - REVI</div></td>\n      <td><div class=\"not-number\">Northern Waterthrush - NOWA</div></td>\n      <td><div class=\"not-number\">American Goldfinch - AMGO</div></td>\n    </tr>\n    <tr>\n      <th>id</th>\n      <th>object</th>\n      <th>248154</th>\n      <th>3360</th>\n      <th>3360</th>\n      <th>3360</th>\n      <th>NaN</th>\n      <th>NaN</th>\n      <td><div class=\"not-number\">xc/data/ACWO/153315/audio</div></td>\n      <td><div class=\"not-number\">xc/data/CONI/77526/audio</div></td>\n      <td><div class=\"not-number\">xc/data/LASP/72200/audio</div></td>\n      <td><div class=\"not-number\">xc/data/RIRA/408562/audio</div></td>\n      <td><div class=\"not-number\">xc/data/YRWA/78150/audio</div></td>\n    </tr>\n    <tr>\n      <th>path</th>\n      <th>object</th>\n      <th>261594</th>\n      <th>3360</th>\n      <th>3360</th>\n      <th>3360</th>\n      <th>NaN</th>\n      <th>NaN</th>\n      <td><div class=\"not-number\">xc/data/ACWO/153315/audio.mp3</div></td>\n      <td><div class=\"not-number\">xc/data/CONI/77526/audio.mp3</div></td>\n      <td><div class=\"not-number\">xc/data/LASP/72200/audio.mp3</div></td>\n      <td><div class=\"not-number\">xc/data/RIRA/408562/audio.mp3</div></td>\n      <td><div class=\"not-number\">xc/data/YRWA/78150/audio.mp3</div></td>\n    </tr>\n  </tbody>\n</table>",
      "text/plain": "                                                                                                        min                           25%                           50%                            75%                           max\n                 dtype    sizeof len  count nunique mean      std                                                                                                                                                                   \ndataset          object   171360 3360 3360  1       NaN       NaN                                        xc                            xc                            xc                             xc                            xc\nspecies          category 178080 3360 3360  168     NaN       NaN                                      GWFG                          GBTE                          REVI                           NOWA                          AMGO\nspecies_com_name category 219160 3360 3360  168     NaN       NaN               Greater White-fronted Goose              Gull-billed Tern                Red-eyed Vireo           Northern Waterthrush            American Goldfinch\nspecies_query    object   178080 3360 3360  168     NaN       NaN                                      ACWO                          CONI                          LASP                           RIRA                          YRWA\nduration_s       float64  80640  3360 3360  3054    5.430e+01 7.031e+01                               0.697                          14.4                          31.8                           65.4                           940\nsamples_mb       float64  80640  3360 3360  3055    2.286e+00 2.958e+00                              0.0293                         0.604                          1.34                           2.76                          39.5\nsamples_n        int64    94080  3360 3360  3055    1.198e+06 1.551e+06                               15368                        316510                        701190                        1444435                      20731931\nbasename         object   181440 3360 3360  1       NaN       NaN                                     audio                         audio                         audio                          audio                         audio\nspecies_longhand category 242680 3360 3360  168     NaN       NaN        Greater White-fronted Goose - GWFG       Gull-billed Tern - GBTE         Red-eyed Vireo - REVI    Northern Waterthrush - NOWA     American Goldfinch - AMGO\nid               object   248154 3360 3360  3360    NaN       NaN                 xc/data/ACWO/153315/audio      xc/data/CONI/77526/audio      xc/data/LASP/72200/audio      xc/data/RIRA/408562/audio      xc/data/YRWA/78150/audio\npath             object   261594 3360 3360  3360    NaN       NaN             xc/data/ACWO/153315/audio.mp3  xc/data/CONI/77526/audio.mp3  xc/data/LASP/72200/audio.mp3  xc/data/RIRA/408562/audio.mp3  xc/data/YRWA/78150/audio.mp3"
     },
     "metadata": {},
     "output_type": "display_data",
     "transient": {}
    },
    {
     "data": {
      "text/html": "<table border=\"1\" class=\"dataframe\">\n  <thead>\n    <tr style=\"text-align: right;\">\n      <th></th>\n      <th>dataset</th>\n      <th>species</th>\n      <th>species_com_name</th>\n      <th>species_query</th>\n      <th>duration_s</th>\n      <th>samples_mb</th>\n      <th>samples_n</th>\n      <th>basename</th>\n      <th>species_longhand</th>\n      <th>id</th>\n      <th>path</th>\n    </tr>\n  </thead>\n  <tbody>\n    <tr>\n      <th>0</th>\n      <td><div class=\"not-number\">xc</div></td>\n      <td><div class=\"not-number\">GWFG</div></td>\n      <td><div class=\"not-number\">Greater White-fronted Goose</div></td>\n      <td><div class=\"not-number\">GWFG</div></td>\n      <td>23.7</td>\n      <td>0.997</td>\n      <td>522850</td>\n      <td><div class=\"not-number\">audio</div></td>\n      <td><div class=\"not-number\">Greater White-fronted Goose - GWFG</div></td>\n      <td><div class=\"not-number\">xc/data/GWFG/149379/audio</div></td>\n      <td><div class=\"not-number\">xc/data/GWFG/149379/audio.mp3</div></td>\n    </tr>\n    <tr>\n      <th>1</th>\n      <td><div class=\"not-number\">xc</div></td>\n      <td><div class=\"not-number\">GWFG</div></td>\n      <td><div class=\"not-number\">Greater White-fronted Goose</div></td>\n      <td><div class=\"not-number\">GWFG</div></td>\n      <td>18.3</td>\n      <td>0.770</td>\n      <td>403780</td>\n      <td><div class=\"not-number\">audio</div></td>\n      <td><div class=\"not-number\">Greater White-fronted Goose - GWFG</div></td>\n      <td><div class=\"not-number\">xc/data/GWFG/276918/audio</div></td>\n      <td><div class=\"not-number\">xc/data/GWFG/276918/audio.mp3</div></td>\n    </tr>\n    <tr>\n      <th>2</th>\n      <td><div class=\"not-number\">xc</div></td>\n      <td><div class=\"not-number\">GWFG</div></td>\n      <td><div class=\"not-number\">Greater White-fronted Goose</div></td>\n      <td><div class=\"not-number\">GWFG</div></td>\n      <td>45.0</td>\n      <td>1.890</td>\n      <td>991296</td>\n      <td><div class=\"not-number\">audio</div></td>\n      <td><div class=\"not-number\">Greater White-fronted Goose - GWFG</div></td>\n      <td><div class=\"not-number\">xc/data/GWFG/210100/audio</div></td>\n      <td><div class=\"not-number\">xc/data/GWFG/210100/audio.mp3</div></td>\n    </tr>\n    <tr>\n      <th>3</th>\n      <td><div class=\"not-number\">xc</div></td>\n      <td><div class=\"not-number\">GWFG</div></td>\n      <td><div class=\"not-number\">Greater White-fronted Goose</div></td>\n      <td><div class=\"not-number\">GWFG</div></td>\n      <td>17.6</td>\n      <td>0.738</td>\n      <td>387072</td>\n      <td><div class=\"not-number\">audio</div></td>\n      <td><div class=\"not-number\">Greater White-fronted Goose - GWFG</div></td>\n      <td><div class=\"not-number\">xc/data/GWFG/323113/audio</div></td>\n      <td><div class=\"not-number\">xc/data/GWFG/323113/audio.mp3</div></td>\n    </tr>\n    <tr>\n      <th>4</th>\n      <td><div class=\"not-number\">xc</div></td>\n      <td><div class=\"not-number\">GWFG</div></td>\n      <td><div class=\"not-number\">Greater White-fronted Goose</div></td>\n      <td><div class=\"not-number\">GWFG</div></td>\n      <td>24.0</td>\n      <td>1.010</td>\n      <td>528142</td>\n      <td><div class=\"not-number\">audio</div></td>\n      <td><div class=\"not-number\">Greater White-fronted Goose - GWFG</div></td>\n      <td><div class=\"not-number\">xc/data/GWFG/276919/audio</div></td>\n      <td><div class=\"not-number\">xc/data/GWFG/276919/audio.mp3</div></td>\n    </tr>\n  </tbody>\n</table>",
      "text/plain": "  dataset species             species_com_name species_query  duration_s  samples_mb  samples_n basename                    species_longhand                         id                           path\n0      xc    GWFG  Greater White-fronted Goose          GWFG      23.712       0.997     522850    audio  Greater White-fronted Goose - GWFG  xc/data/GWFG/149379/audio  xc/data/GWFG/149379/audio.mp3\n1      xc    GWFG  Greater White-fronted Goose          GWFG      18.312       0.770     403780    audio  Greater White-fronted Goose - GWFG  xc/data/GWFG/276918/audio  xc/data/GWFG/276918/audio.mp3\n2      xc    GWFG  Greater White-fronted Goose          GWFG      44.957       1.891     991296    audio  Greater White-fronted Goose - GWFG  xc/data/GWFG/210100/audio  xc/data/GWFG/210100/audio.mp3\n3      xc    GWFG  Greater White-fronted Goose          GWFG      17.554       0.738     387072    audio  Greater White-fronted Goose - GWFG  xc/data/GWFG/323113/audio  xc/data/GWFG/323113/audio.mp3\n4      xc    GWFG  Greater White-fronted Goose          GWFG      23.952       1.007     528142    audio  Greater White-fronted Goose - GWFG  xc/data/GWFG/276919/audio  xc/data/GWFG/276919/audio.mp3"
     },
     "metadata": {},
     "output_type": "display_data",
     "transient": {}
    }
   ],
   "source": [
    "# TODO Restore once:true after debug [but think carefully how once:true interacts with the once:false params above]\n",
    "recs = load.recs(paths=xcs_paths)\n",
    "display(\n",
    "    df_summary(recs).T,\n",
    "    recs[:5],\n",
    ")"
   ]
  },
  {
   "cell_type": "code",
   "execution_count": null,
   "metadata": {},
   "outputs": [
    {
     "data": {
      "text/html": "<table border=\"1\" class=\"dataframe\">\n  <thead>\n    <tr style=\"text-align: right;\">\n      <th></th>\n      <th>species_longhand</th>\n      <th>num_recs</th>\n    </tr>\n  </thead>\n  <tbody>\n    <tr>\n      <th>0</th>\n      <td><div class=\"not-number\">Greater White-fronted Goose - GWFG</div></td>\n      <td><div class=\"not-number\">•••••••••••••••••••••••••••••••••••••••••••••••••••••••••••• /20</div></td>\n    </tr>\n    <tr>\n      <th>1</th>\n      <td><div class=\"not-number\">Gadwall - GADW</div></td>\n      <td><div class=\"not-number\">•••••••••••••••••••••••••••••••••••••••••••••••••••••••••••• /20</div></td>\n    </tr>\n    <tr>\n      <th>2</th>\n      <td><div class=\"not-number\">American Wigeon - AMWI</div></td>\n      <td><div class=\"not-number\">•••••••••••••••••••••••••••••••••••••••••••••••••••••••••••• /20</div></td>\n    </tr>\n    <tr>\n      <th>3</th>\n      <td><div class=\"not-number\">Mallard - MALL</div></td>\n      <td><div class=\"not-number\">•••••••••••••••••••••••••••••••••••••••••••••••••••••••••••• /20</div></td>\n    </tr>\n    <tr>\n      <th>4</th>\n      <td><div class=\"not-number\">Green-winged Teal - GWTE</div></td>\n      <td><div class=\"not-number\">•••••••••••••••••••••••••••••••••••••••••••••••••••••••••••• /20</div></td>\n    </tr>\n    <tr>\n      <th>5</th>\n      <td><div class=\"not-number\">California Quail - CAQU</div></td>\n      <td><div class=\"not-number\">•••••••••••••••••••••••••••••••••••••••••••••••••••••••••••• /20</div></td>\n    </tr>\n    <tr>\n      <th>6</th>\n      <td><div class=\"not-number\">Gambel's Quail - GAQU</div></td>\n      <td><div class=\"not-number\">•••••••••••••••••••••••••••••••••••••••••••••••••••••••••••• /20</div></td>\n    </tr>\n    <tr>\n      <th>7</th>\n      <td><div class=\"not-number\">Sooty Grouse - SOGR</div></td>\n      <td><div class=\"not-number\">•••••••••••••••••••••••••••••••••••••••••••••••••••••••••••• /20</div></td>\n    </tr>\n    <tr>\n      <th>8</th>\n      <td><div class=\"not-number\">Wild Turkey - WITU</div></td>\n      <td><div class=\"not-number\">•••••••••••••••••••••••••••••••••••••••••••••••••••••••••••• /20</div></td>\n    </tr>\n    <tr>\n      <th>9</th>\n      <td><div class=\"not-number\">Common Loon - COLO</div></td>\n      <td><div class=\"not-number\">•••••••••••••••••••••••••••••••••••••••••••••••••••••••••••• /20</div></td>\n    </tr>\n    <tr>\n      <th>10</th>\n      <td><div class=\"not-number\">Red-necked Grebe - RNGR</div></td>\n      <td><div class=\"not-number\">•••••••••••••••••••••••••••••••••••••••••••••••••••••••••••• /20</div></td>\n    </tr>\n    <tr>\n      <th>11</th>\n      <td><div class=\"not-number\">Black-footed Albatross - BFAL</div></td>\n      <td><div class=\"not-number\">•••••••••••••••••••••••••••••••••••••••••••••••••••••••••••• /20</div></td>\n    </tr>\n    <tr>\n      <th>12</th>\n      <td><div class=\"not-number\">Double-crested Cormorant - DCCO</div></td>\n      <td><div class=\"not-number\">•••••••••••••••••••••••••••••••••••••••••••••••••••••••••••• /20</div></td>\n    </tr>\n    <tr>\n      <th>13</th>\n      <td><div class=\"not-number\">American Bittern - AMBI</div></td>\n      <td><div class=\"not-number\">•••••••••••••••••••••••••••••••••••••••••••••••••••••••••••• /20</div></td>\n    </tr>\n    <tr>\n      <th>14</th>\n      <td><div class=\"not-number\">Least Bittern - LEBI</div></td>\n      <td><div class=\"not-number\">•••••••••••••••••••••••••••••••••••••••••••••••••••••••••••• /20</div></td>\n    </tr>\n    <tr>\n      <th>15</th>\n      <td><div class=\"not-number\">Great Blue Heron - GBHE</div></td>\n      <td><div class=\"not-number\">•••••••••••••••••••••••••••••••••••••••••••••••••••••••••••• /20</div></td>\n    </tr>\n    <tr>\n      <th>16</th>\n      <td><div class=\"not-number\">Great Egret - GREG</div></td>\n      <td><div class=\"not-number\">•••••••••••••••••••••••••••••••••••••••••••••••••••••••••••• /20</div></td>\n    </tr>\n    <tr>\n      <th>17</th>\n      <td><div class=\"not-number\">Snowy Egret - SNEG</div></td>\n      <td><div class=\"not-number\">•••••••••••••••••••••••••••••••••••••••••••••••••••••••••••• /20</div></td>\n    </tr>\n    <tr>\n      <th>18</th>\n      <td><div class=\"not-number\">Osprey - OSPR</div></td>\n      <td><div class=\"not-number\">•••••••••••••••••••••••••••••••••••••••••••••••••••••••••••• /20</div></td>\n    </tr>\n    <tr>\n      <th>19</th>\n      <td><div class=\"not-number\">Swainson's Hawk - SWHA</div></td>\n      <td><div class=\"not-number\">•••••••••••••••••••••••••••••••••••••••••••••••••••••••••••• /20</div></td>\n    </tr>\n    <tr>\n      <th>20</th>\n      <td><div class=\"not-number\">Red-tailed Hawk - RTHA</div></td>\n      <td><div class=\"not-number\">•••••••••••••••••••••••••••••••••••••••••••••••••••••••••••• /20</div></td>\n    </tr>\n    <tr>\n      <th>21</th>\n      <td><div class=\"not-number\">Black Rail - BLRA</div></td>\n      <td><div class=\"not-number\">•••••••••••••••••••••••••••••••••••••••••••••••••••••••••••• /20</div></td>\n    </tr>\n    <tr>\n      <th>22</th>\n      <td><div class=\"not-number\">Ridgway's Rail - RIRA</div></td>\n      <td><div class=\"not-number\">•••••••••••••••••••••••••••••••••••••••••••••••••••••••••••• /20</div></td>\n    </tr>\n    <tr>\n      <th>23</th>\n      <td><div class=\"not-number\">Common Gallinule - COGA</div></td>\n      <td><div class=\"not-number\">•••••••••••••••••••••••••••••••••••••••••••••••••••••••••••• /20</div></td>\n    </tr>\n    <tr>\n      <th>24</th>\n      <td><div class=\"not-number\">Black-necked Stilt - BNST</div></td>\n      <td><div class=\"not-number\">•••••••••••••••••••••••••••••••••••••••••••••••••••••••••••• /20</div></td>\n    </tr>\n    <tr>\n      <th>25</th>\n      <td><div class=\"not-number\">Black Oystercatcher - BLOY</div></td>\n      <td><div class=\"not-number\">•••••••••••••••••••••••••••••••••••••••••••••••••••••••••••• /20</div></td>\n    </tr>\n    <tr>\n      <th>26</th>\n      <td><div class=\"not-number\">Semipalmated Plover - SEPL</div></td>\n      <td><div class=\"not-number\">•••••••••••••••••••••••••••••••••••••••••••••••••••••••••••• /20</div></td>\n    </tr>\n    <tr>\n      <th>27</th>\n      <td><div class=\"not-number\">Whimbrel - WHIM</div></td>\n      <td><div class=\"not-number\">•••••••••••••••••••••••••••••••••••••••••••••••••••••••••••• /20</div></td>\n    </tr>\n    <tr>\n      <th>28</th>\n      <td><div class=\"not-number\">Long-billed Curlew - LBCU</div></td>\n      <td><div class=\"not-number\">•••••••••••••••••••••••••••••••••••••••••••••••••••••••••••• /20</div></td>\n    </tr>\n    <tr>\n      <th>29</th>\n      <td><div class=\"not-number\">Rock Sandpiper - ROSA</div></td>\n      <td><div class=\"not-number\">•••••••••••••••••••••••••••••••••••••••••••••••••••••••••••• /20</div></td>\n    </tr>\n    <tr>\n      <th>30</th>\n      <td><div class=\"not-number\">Least Sandpiper - LESA</div></td>\n      <td><div class=\"not-number\">•••••••••••••••••••••••••••••••••••••••••••••••••••••••••••• /20</div></td>\n    </tr>\n    <tr>\n      <th>31</th>\n      <td><div class=\"not-number\">Long-billed Dowitcher - LBDO</div></td>\n      <td><div class=\"not-number\">•••••••••••••••••••••••••••••••••••••••••••••••••••••••••••• /20</div></td>\n    </tr>\n    <tr>\n      <th>32</th>\n      <td><div class=\"not-number\">Red-necked Phalarope - RNPH</div></td>\n      <td><div class=\"not-number\">•••••••••••••••••••••••••••••••••••••••••••••••••••••••••••• /20</div></td>\n    </tr>\n    <tr>\n      <th>33</th>\n      <td><div class=\"not-number\">Greater Yellowlegs - GRYE</div></td>\n      <td><div class=\"not-number\">•••••••••••••••••••••••••••••••••••••••••••••••••••••••••••• /20</div></td>\n    </tr>\n    <tr>\n      <th>34</th>\n      <td><div class=\"not-number\">Bonaparte's Gull - BOGU</div></td>\n      <td><div class=\"not-number\">•••••••••••••••••••••••••••••••••••••••••••••••••••••••••••• /20</div></td>\n    </tr>\n    <tr>\n      <th>35</th>\n      <td><div class=\"not-number\">Laughing Gull - LAGU</div></td>\n      <td><div class=\"not-number\">•••••••••••••••••••••••••••••••••••••••••••••••••••••••••••• /20</div></td>\n    </tr>\n    <tr>\n      <th>36</th>\n      <td><div class=\"not-number\">Heermann's Gull - HEEG</div></td>\n      <td><div class=\"not-number\">•••••••••••••••••••••••••••••••••••••••••••••••••••••••••••• /20</div></td>\n    </tr>\n    <tr>\n      <th>37</th>\n      <td><div class=\"not-number\">Ring-billed Gull - RBGU</div></td>\n      <td><div class=\"not-number\">•••••••••••••••••••••••••••••••••••••••••••••••••••••••••••• /20</div></td>\n    </tr>\n    <tr>\n      <th>38</th>\n      <td><div class=\"not-number\">Western Gull - WEGU</div></td>\n      <td><div class=\"not-number\">•••••••••••••••••••••••••••••••••••••••••••••••••••••••••••• /20</div></td>\n    </tr>\n    <tr>\n      <th>39</th>\n      <td><div class=\"not-number\">California Gull - CAGU</div></td>\n      <td><div class=\"not-number\">•••••••••••••••••••••••••••••••••••••••••••••••••••••••••••• /20</div></td>\n    </tr>\n    <tr>\n      <th>40</th>\n      <td><div class=\"not-number\">Glaucous-winged Gull - GWGU</div></td>\n      <td><div class=\"not-number\">•••••••••••••••••••••••••••••••••••••••••••••••••••••••••••• /20</div></td>\n    </tr>\n    <tr>\n      <th>41</th>\n      <td><div class=\"not-number\">Gull-billed Tern - GBTE</div></td>\n      <td><div class=\"not-number\">•••••••••••••••••••••••••••••••••••••••••••••••••••••••••••• /20</div></td>\n    </tr>\n    <tr>\n      <th>42</th>\n      <td><div class=\"not-number\">Caspian Tern - CATE</div></td>\n      <td><div class=\"not-number\">•••••••••••••••••••••••••••••••••••••••••••••••••••••••••••• /20</div></td>\n    </tr>\n    <tr>\n      <th>43</th>\n      <td><div class=\"not-number\">Black Tern - BLTE</div></td>\n      <td><div class=\"not-number\">•••••••••••••••••••••••••••••••••••••••••••••••••••••••••••• /20</div></td>\n    </tr>\n    <tr>\n      <th>44</th>\n      <td><div class=\"not-number\">Royal Tern - ROYT</div></td>\n      <td><div class=\"not-number\">•••••••••••••••••••••••••••••••••••••••••••••••••••••••••••• /20</div></td>\n    </tr>\n    <tr>\n      <th>45</th>\n      <td><div class=\"not-number\">Band-tailed Pigeon - BTPI</div></td>\n      <td><div class=\"not-number\">•••••••••••••••••••••••••••••••••••••••••••••••••••••••••••• /20</div></td>\n    </tr>\n    <tr>\n      <th>46</th>\n      <td><div class=\"not-number\">Inca Dove - INDO</div></td>\n      <td><div class=\"not-number\">•••••••••••••••••••••••••••••••••••••••••••••••••••••••••••• /20</div></td>\n    </tr>\n    <tr>\n      <th>47</th>\n      <td><div class=\"not-number\">Common Ground-Dove - COGD</div></td>\n      <td><div class=\"not-number\">•••••••••••••••••••••••••••••••••••••••••••••••••••••••••••• /20</div></td>\n    </tr>\n    <tr>\n      <th>48</th>\n      <td><div class=\"not-number\">Yellow-billed Cuckoo - YBCU</div></td>\n      <td><div class=\"not-number\">•••••••••••••••••••••••••••••••••••••••••••••••••••••••••••• /20</div></td>\n    </tr>\n    <tr>\n      <th>49</th>\n      <td><div class=\"not-number\">Barn Owl - BANO</div></td>\n      <td><div class=\"not-number\">•••••••••••••••••••••••••••••••••••••••••••••••••••••••••••• /20</div></td>\n    </tr>\n    <tr>\n      <th>50</th>\n      <td><div class=\"not-number\">Great Horned Owl - GHOW</div></td>\n      <td><div class=\"not-number\">•••••••••••••••••••••••••••••••••••••••••••••••••••••••••••• /20</div></td>\n    </tr>\n    <tr>\n      <th>51</th>\n      <td><div class=\"not-number\">Elf Owl - ELOW</div></td>\n      <td><div class=\"not-number\">•••••••••••••••••••••••••••••••••••••••••••••••••••••••••••• /20</div></td>\n    </tr>\n    <tr>\n      <th>52</th>\n      <td><div class=\"not-number\">Spotted Owl - SPOW</div></td>\n      <td><div class=\"not-number\">•••••••••••••••••••••••••••••••••••••••••••••••••••••••••••• /20</div></td>\n    </tr>\n    <tr>\n      <th>53</th>\n      <td><div class=\"not-number\">Lesser Nighthawk - LENI</div></td>\n      <td><div class=\"not-number\">•••••••••••••••••••••••••••••••••••••••••••••••••••••••••••• /20</div></td>\n    </tr>\n    <tr>\n      <th>54</th>\n      <td><div class=\"not-number\">Common Nighthawk - CONI</div></td>\n      <td><div class=\"not-number\">•••••••••••••••••••••••••••••••••••••••••••••••••••••••••••• /20</div></td>\n    </tr>\n    <tr>\n      <th>55</th>\n      <td><div class=\"not-number\">Common Poorwill - COPO</div></td>\n      <td><div class=\"not-number\">•••••••••••••••••••••••••••••••••••••••••••••••••••••••••••• /20</div></td>\n    </tr>\n    <tr>\n      <th>56</th>\n      <td><div class=\"not-number\">Eastern Whip-poor-will - EWPW</div></td>\n      <td><div class=\"not-number\">•••••••••••••••••••••••••••••••••••••••••••••••••••••••••••• /20</div></td>\n    </tr>\n    <tr>\n      <th>57</th>\n      <td><div class=\"not-number\">Mexican Whip-poor-will - MWPW</div></td>\n      <td><div class=\"not-number\">•••••••••••••••••••••••••••••••••••••••••••••••••••••••••••• /20</div></td>\n    </tr>\n    <tr>\n      <th>58</th>\n      <td><div class=\"not-number\">White-throated Swift - WTSW</div></td>\n      <td><div class=\"not-number\">•••••••••••••••••••••••••••••••••••••••••••••••••••••••••••• /20</div></td>\n    </tr>\n    <tr>\n      <th>59</th>\n      <td><div class=\"not-number\">Black-chinned Hummingbird - BCHU</div></td>\n      <td><div class=\"not-number\">•••••••••••••••••••••••••••••••••••••••••••••••••••••••••••• /20</div></td>\n    </tr>\n    <tr>\n      <th>60</th>\n      <td><div class=\"not-number\">Broad-tailed Hummingbird - BTAH</div></td>\n      <td><div class=\"not-number\">•••••••••••••••••••••••••••••••••••••••••••••••••••••••••••• /20</div></td>\n    </tr>\n    <tr>\n      <th>61</th>\n      <td><div class=\"not-number\">Acorn Woodpecker - ACWO</div></td>\n      <td><div class=\"not-number\">•••••••••••••••••••••••••••••••••••••••••••••••••••••••••••• /20</div></td>\n    </tr>\n    <tr>\n      <th>62</th>\n      <td><div class=\"not-number\">Williamson's Sapsucker - WISA</div></td>\n      <td><div class=\"not-number\">•••••••••••••••••••••••••••••••••••••••••••••••••••••••••••• /20</div></td>\n    </tr>\n    <tr>\n      <th>63</th>\n      <td><div class=\"not-number\">Red-breasted Sapsucker - RBSA</div></td>\n      <td><div class=\"not-number\">•••••••••••••••••••••••••••••••••••••••••••••••••••••••••••• /20</div></td>\n    </tr>\n    <tr>\n      <th>64</th>\n      <td><div class=\"not-number\">Ladder-backed Woodpecker - LBWO</div></td>\n      <td><div class=\"not-number\">•••••••••••••••••••••••••••••••••••••••••••••••••••••••••••• /20</div></td>\n    </tr>\n    <tr>\n      <th>65</th>\n      <td><div class=\"not-number\">Nuttall's Woodpecker - NUWO</div></td>\n      <td><div class=\"not-number\">•••••••••••••••••••••••••••••••••••••••••••••••••••••••••••• /20</div></td>\n    </tr>\n    <tr>\n      <th>66</th>\n      <td><div class=\"not-number\">Hairy Woodpecker - HAWO</div></td>\n      <td><div class=\"not-number\">•••••••••••••••••••••••••••••••••••••••••••••••••••••••••••• /20</div></td>\n    </tr>\n    <tr>\n      <th>67</th>\n      <td><div class=\"not-number\">White-headed Woodpecker - WHWO</div></td>\n      <td><div class=\"not-number\">•••••••••••••••••••••••••••••••••••••••••••••••••••••••••••• /20</div></td>\n    </tr>\n    <tr>\n      <th>68</th>\n      <td><div class=\"not-number\">Black-backed Woodpecker - BBWO</div></td>\n      <td><div class=\"not-number\">•••••••••••••••••••••••••••••••••••••••••••••••••••••••••••• /20</div></td>\n    </tr>\n    <tr>\n      <th>69</th>\n      <td><div class=\"not-number\">Northern Flicker - NOFL</div></td>\n      <td><div class=\"not-number\">•••••••••••••••••••••••••••••••••••••••••••••••••••••••••••• /20</div></td>\n    </tr>\n    <tr>\n      <th>70</th>\n      <td><div class=\"not-number\">Western Wood-Pewee - WEWP</div></td>\n      <td><div class=\"not-number\">•••••••••••••••••••••••••••••••••••••••••••••••••••••••••••• /20</div></td>\n    </tr>\n    <tr>\n      <th>71</th>\n      <td><div class=\"not-number\">Least Flycatcher - LEFL</div></td>\n      <td><div class=\"not-number\">•••••••••••••••••••••••••••••••••••••••••••••••••••••••••••• /20</div></td>\n    </tr>\n    <tr>\n      <th>72</th>\n      <td><div class=\"not-number\">Gray Flycatcher - GRFL</div></td>\n      <td><div class=\"not-number\">•••••••••••••••••••••••••••••••••••••••••••••••••••••••••••• /20</div></td>\n    </tr>\n    <tr>\n      <th>73</th>\n      <td><div class=\"not-number\">Dusky Flycatcher - DUFL</div></td>\n      <td><div class=\"not-number\">•••••••••••••••••••••••••••••••••••••••••••••••••••••••••••• /20</div></td>\n    </tr>\n    <tr>\n      <th>74</th>\n      <td><div class=\"not-number\">Pacific-slope Flycatcher - PSFL</div></td>\n      <td><div class=\"not-number\">•••••••••••••••••••••••••••••••••••••••••••••••••••••••••••• /20</div></td>\n    </tr>\n    <tr>\n      <th>75</th>\n      <td><div class=\"not-number\">Eastern Phoebe - EAPH</div></td>\n      <td><div class=\"not-number\">•••••••••••••••••••••••••••••••••••••••••••••••••••••••••••• /20</div></td>\n    </tr>\n    <tr>\n      <th>76</th>\n      <td><div class=\"not-number\">Say's Phoebe - SAPH</div></td>\n      <td><div class=\"not-number\">•••••••••••••••••••••••••••••••••••••••••••••••••••••••••••• /20</div></td>\n    </tr>\n    <tr>\n      <th>77</th>\n      <td><div class=\"not-number\">Vermilion Flycatcher - VEFL</div></td>\n      <td><div class=\"not-number\">•••••••••••••••••••••••••••••••••••••••••••••••••••••••••••• /20</div></td>\n    </tr>\n    <tr>\n      <th>78</th>\n      <td><div class=\"not-number\">Dusky-capped Flycatcher - DCFL</div></td>\n      <td><div class=\"not-number\">•••••••••••••••••••••••••••••••••••••••••••••••••••••••••••• /20</div></td>\n    </tr>\n    <tr>\n      <th>79</th>\n      <td><div class=\"not-number\">Tropical Kingbird - TRKI</div></td>\n      <td><div class=\"not-number\">•••••••••••••••••••••••••••••••••••••••••••••••••••••••••••• /20</div></td>\n    </tr>\n    <tr>\n      <th>80</th>\n      <td><div class=\"not-number\">Couch's Kingbird - COKI</div></td>\n      <td><div class=\"not-number\">•••••••••••••••••••••••••••••••••••••••••••••••••••••••••••• /20</div></td>\n    </tr>\n    <tr>\n      <th>81</th>\n      <td><div class=\"not-number\">Hutton's Vireo - HUVI</div></td>\n      <td><div class=\"not-number\">•••••••••••••••••••••••••••••••••••••••••••••••••••••••••••• /20</div></td>\n    </tr>\n    <tr>\n      <th>82</th>\n      <td><div class=\"not-number\">Warbling Vireo - WAVI</div></td>\n      <td><div class=\"not-number\">•••••••••••••••••••••••••••••••••••••••••••••••••••••••••••• /20</div></td>\n    </tr>\n    <tr>\n      <th>83</th>\n      <td><div class=\"not-number\">Red-eyed Vireo - REVI</div></td>\n      <td><div class=\"not-number\">•••••••••••••••••••••••••••••••••••••••••••••••••••••••••••• /20</div></td>\n    </tr>\n    <tr>\n      <th>84</th>\n      <td><div class=\"not-number\">Yellow-green Vireo - YGVI</div></td>\n      <td><div class=\"not-number\">•••••••••••••••••••••••••••••••••••••••••••••••••••••••••••• /20</div></td>\n    </tr>\n    <tr>\n      <th>85</th>\n      <td><div class=\"not-number\">Gray Jay - GRAJ</div></td>\n      <td><div class=\"not-number\">•••••••••••••••••••••••••••••••••••••••••••••••••••••••••••• /20</div></td>\n    </tr>\n    <tr>\n      <th>86</th>\n      <td><div class=\"not-number\">Pinyon Jay - PIJA</div></td>\n      <td><div class=\"not-number\">•••••••••••••••••••••••••••••••••••••••••••••••••••••••••••• /20</div></td>\n    </tr>\n    <tr>\n      <th>87</th>\n      <td><div class=\"not-number\">Steller's Jay - STJA</div></td>\n      <td><div class=\"not-number\">•••••••••••••••••••••••••••••••••••••••••••••••••••••••••••• /20</div></td>\n    </tr>\n    <tr>\n      <th>88</th>\n      <td><div class=\"not-number\">California Scrub-Jay - CASJ</div></td>\n      <td><div class=\"not-number\">•••••••••••••••••••••••••••••••••••••••••••••••••••••••••••• /20</div></td>\n    </tr>\n    <tr>\n      <th>89</th>\n      <td><div class=\"not-number\">Woodhouse's Scrub-Jay - WOSJ</div></td>\n      <td><div class=\"not-number\">•••••••••••••••••••••••••••••••••••••••••••••••••••••••••••• /20</div></td>\n    </tr>\n    <tr>\n      <th>90</th>\n      <td><div class=\"not-number\">Clark's Nutcracker - CLNU</div></td>\n      <td><div class=\"not-number\">•••••••••••••••••••••••••••••••••••••••••••••••••••••••••••• /20</div></td>\n    </tr>\n    <tr>\n      <th>91</th>\n      <td><div class=\"not-number\">Common Raven - CORA</div></td>\n      <td><div class=\"not-number\">•••••••••••••••••••••••••••••••••••••••••••••••••••••••••••• /20</div></td>\n    </tr>\n    <tr>\n      <th>92</th>\n      <td><div class=\"not-number\">Northern Rough-winged Swallow - NRWS</div></td>\n      <td><div class=\"not-number\">•••••••••••••••••••••••••••••••••••••••••••••••••••••••••••• /20</div></td>\n    </tr>\n    <tr>\n      <th>93</th>\n      <td><div class=\"not-number\">Purple Martin - PUMA</div></td>\n      <td><div class=\"not-number\">•••••••••••••••••••••••••••••••••••••••••••••••••••••••••••• /20</div></td>\n    </tr>\n    <tr>\n      <th>94</th>\n      <td><div class=\"not-number\">Violet-green Swallow - VGSW</div></td>\n      <td><div class=\"not-number\">•••••••••••••••••••••••••••••••••••••••••••••••••••••••••••• /20</div></td>\n    </tr>\n    <tr>\n      <th>95</th>\n      <td><div class=\"not-number\">Cliff Swallow - CLSW</div></td>\n      <td><div class=\"not-number\">•••••••••••••••••••••••••••••••••••••••••••••••••••••••••••• /20</div></td>\n    </tr>\n    <tr>\n      <th>96</th>\n      <td><div class=\"not-number\">Mountain Chickadee - MOCH</div></td>\n      <td><div class=\"not-number\">•••••••••••••••••••••••••••••••••••••••••••••••••••••••••••• /20</div></td>\n    </tr>\n    <tr>\n      <th>97</th>\n      <td><div class=\"not-number\">Chestnut-backed Chickadee - CBCH</div></td>\n      <td><div class=\"not-number\">•••••••••••••••••••••••••••••••••••••••••••••••••••••••••••• /20</div></td>\n    </tr>\n    <tr>\n      <th>98</th>\n      <td><div class=\"not-number\">Verdin - VERD</div></td>\n      <td><div class=\"not-number\">•••••••••••••••••••••••••••••••••••••••••••••••••••••••••••• /20</div></td>\n    </tr>\n    <tr>\n      <th>99</th>\n      <td><div class=\"not-number\">Bushtit - BUSH</div></td>\n      <td><div class=\"not-number\">•••••••••••••••••••••••••••••••••••••••••••••••••••••••••••• /20</div></td>\n    </tr>\n    <tr>\n      <th>100</th>\n      <td><div class=\"not-number\">Red-breasted Nuthatch - RBNU</div></td>\n      <td><div class=\"not-number\">•••••••••••••••••••••••••••••••••••••••••••••••••••••••••••• /20</div></td>\n    </tr>\n    <tr>\n      <th>101</th>\n      <td><div class=\"not-number\">Rock Wren - ROWR</div></td>\n      <td><div class=\"not-number\">•••••••••••••••••••••••••••••••••••••••••••••••••••••••••••• /20</div></td>\n    </tr>\n    <tr>\n      <th>102</th>\n      <td><div class=\"not-number\">Canyon Wren - CANW</div></td>\n      <td><div class=\"not-number\">•••••••••••••••••••••••••••••••••••••••••••••••••••••••••••• /20</div></td>\n    </tr>\n    <tr>\n      <th>103</th>\n      <td><div class=\"not-number\">Winter Wren - WIWR</div></td>\n      <td><div class=\"not-number\">•••••••••••••••••••••••••••••••••••••••••••••••••••••••••••• /20</div></td>\n    </tr>\n    <tr>\n      <th>104</th>\n      <td><div class=\"not-number\">Marsh Wren - MAWR</div></td>\n      <td><div class=\"not-number\">•••••••••••••••••••••••••••••••••••••••••••••••••••••••••••• /20</div></td>\n    </tr>\n    <tr>\n      <th>105</th>\n      <td><div class=\"not-number\">Bewick's Wren - BEWR</div></td>\n      <td><div class=\"not-number\">•••••••••••••••••••••••••••••••••••••••••••••••••••••••••••• /20</div></td>\n    </tr>\n    <tr>\n      <th>106</th>\n      <td><div class=\"not-number\">Cactus Wren - CACW</div></td>\n      <td><div class=\"not-number\">•••••••••••••••••••••••••••••••••••••••••••••••••••••••••••• /20</div></td>\n    </tr>\n    <tr>\n      <th>107</th>\n      <td><div class=\"not-number\">California Gnatcatcher - CAGN</div></td>\n      <td><div class=\"not-number\">•••••••••••••••••••••••••••••••••••••••••••••••••••••••••••• /20</div></td>\n    </tr>\n    <tr>\n      <th>108</th>\n      <td><div class=\"not-number\">Black-tailed Gnatcatcher - BTGN</div></td>\n      <td><div class=\"not-number\">•••••••••••••••••••••••••••••••••••••••••••••••••••••••••••• /20</div></td>\n    </tr>\n    <tr>\n      <th>109</th>\n      <td><div class=\"not-number\">American Dipper - AMDI</div></td>\n      <td><div class=\"not-number\">•••••••••••••••••••••••••••••••••••••••••••••••••••••••••••• /20</div></td>\n    </tr>\n    <tr>\n      <th>110</th>\n      <td><div class=\"not-number\">Ruby-crowned Kinglet - RCKI</div></td>\n      <td><div class=\"not-number\">•••••••••••••••••••••••••••••••••••••••••••••••••••••••••••• /20</div></td>\n    </tr>\n    <tr>\n      <th>111</th>\n      <td><div class=\"not-number\">Western Bluebird - WEBL</div></td>\n      <td><div class=\"not-number\">•••••••••••••••••••••••••••••••••••••••••••••••••••••••••••• /20</div></td>\n    </tr>\n    <tr>\n      <th>112</th>\n      <td><div class=\"not-number\">Mountain Bluebird - MOBL</div></td>\n      <td><div class=\"not-number\">•••••••••••••••••••••••••••••••••••••••••••••••••••••••••••• /20</div></td>\n    </tr>\n    <tr>\n      <th>113</th>\n      <td><div class=\"not-number\">Townsend's Solitaire - TOSO</div></td>\n      <td><div class=\"not-number\">•••••••••••••••••••••••••••••••••••••••••••••••••••••••••••• /20</div></td>\n    </tr>\n    <tr>\n      <th>114</th>\n      <td><div class=\"not-number\">Swainson's Thrush - SWTH</div></td>\n      <td><div class=\"not-number\">•••••••••••••••••••••••••••••••••••••••••••••••••••••••••••• /20</div></td>\n    </tr>\n    <tr>\n      <th>115</th>\n      <td><div class=\"not-number\">Hermit Thrush - HETH</div></td>\n      <td><div class=\"not-number\">•••••••••••••••••••••••••••••••••••••••••••••••••••••••••••• /20</div></td>\n    </tr>\n    <tr>\n      <th>116</th>\n      <td><div class=\"not-number\">American Robin - AMRO</div></td>\n      <td><div class=\"not-number\">•••••••••••••••••••••••••••••••••••••••••••••••••••••••••••• /20</div></td>\n    </tr>\n    <tr>\n      <th>117</th>\n      <td><div class=\"not-number\">Gray Catbird - GRCA</div></td>\n      <td><div class=\"not-number\">•••••••••••••••••••••••••••••••••••••••••••••••••••••••••••• /20</div></td>\n    </tr>\n    <tr>\n      <th>118</th>\n      <td><div class=\"not-number\">Bendire's Thrasher - BETH</div></td>\n      <td><div class=\"not-number\">•••••••••••••••••••••••••••••••••••••••••••••••••••••••••••• /20</div></td>\n    </tr>\n    <tr>\n      <th>119</th>\n      <td><div class=\"not-number\">LeConte's Thrasher - LCTH</div></td>\n      <td><div class=\"not-number\">•••••••••••••••••••••••••••••••••••••••••••••••••••••••••••• /20</div></td>\n    </tr>\n    <tr>\n      <th>120</th>\n      <td><div class=\"not-number\">Crissal Thrasher - CRTH</div></td>\n      <td><div class=\"not-number\">•••••••••••••••••••••••••••••••••••••••••••••••••••••••••••• /20</div></td>\n    </tr>\n    <tr>\n      <th>121</th>\n      <td><div class=\"not-number\">European Starling - EUST</div></td>\n      <td><div class=\"not-number\">•••••••••••••••••••••••••••••••••••••••••••••••••••••••••••• /20</div></td>\n    </tr>\n    <tr>\n      <th>122</th>\n      <td><div class=\"not-number\">American Pipit - AMPI</div></td>\n      <td><div class=\"not-number\">•••••••••••••••••••••••••••••••••••••••••••••••••••••••••••• /20</div></td>\n    </tr>\n    <tr>\n      <th>123</th>\n      <td><div class=\"not-number\">Phainopepla - PHAI</div></td>\n      <td><div class=\"not-number\">•••••••••••••••••••••••••••••••••••••••••••••••••••••••••••• /20</div></td>\n    </tr>\n    <tr>\n      <th>124</th>\n      <td><div class=\"not-number\">Lapland Longspur - LALO</div></td>\n      <td><div class=\"not-number\">•••••••••••••••••••••••••••••••••••••••••••••••••••••••••••• /20</div></td>\n    </tr>\n    <tr>\n      <th>125</th>\n      <td><div class=\"not-number\">Northern Waterthrush - NOWA</div></td>\n      <td><div class=\"not-number\">•••••••••••••••••••••••••••••••••••••••••••••••••••••••••••• /20</div></td>\n    </tr>\n    <tr>\n      <th>126</th>\n      <td><div class=\"not-number\">Orange-crowned Warbler - OCWA</div></td>\n      <td><div class=\"not-number\">•••••••••••••••••••••••••••••••••••••••••••••••••••••••••••• /20</div></td>\n    </tr>\n    <tr>\n      <th>127</th>\n      <td><div class=\"not-number\">Lucy's Warbler - LUWA</div></td>\n      <td><div class=\"not-number\">•••••••••••••••••••••••••••••••••••••••••••••••••••••••••••• /20</div></td>\n    </tr>\n    <tr>\n      <th>128</th>\n      <td><div class=\"not-number\">Nashville Warbler - NAWA</div></td>\n      <td><div class=\"not-number\">•••••••••••••••••••••••••••••••••••••••••••••••••••••••••••• /20</div></td>\n    </tr>\n    <tr>\n      <th>129</th>\n      <td><div class=\"not-number\">MacGillivray's Warbler - MGWA</div></td>\n      <td><div class=\"not-number\">•••••••••••••••••••••••••••••••••••••••••••••••••••••••••••• /20</div></td>\n    </tr>\n    <tr>\n      <th>130</th>\n      <td><div class=\"not-number\">Common Yellowthroat - COYE</div></td>\n      <td><div class=\"not-number\">•••••••••••••••••••••••••••••••••••••••••••••••••••••••••••• /20</div></td>\n    </tr>\n    <tr>\n      <th>131</th>\n      <td><div class=\"not-number\">Hooded Warbler - HOWA</div></td>\n      <td><div class=\"not-number\">•••••••••••••••••••••••••••••••••••••••••••••••••••••••••••• /20</div></td>\n    </tr>\n    <tr>\n      <th>132</th>\n      <td><div class=\"not-number\">Northern Parula - NOPA</div></td>\n      <td><div class=\"not-number\">•••••••••••••••••••••••••••••••••••••••••••••••••••••••••••• /20</div></td>\n    </tr>\n    <tr>\n      <th>133</th>\n      <td><div class=\"not-number\">Chestnut-sided Warbler - CSWA</div></td>\n      <td><div class=\"not-number\">•••••••••••••••••••••••••••••••••••••••••••••••••••••••••••• /20</div></td>\n    </tr>\n    <tr>\n      <th>134</th>\n      <td><div class=\"not-number\">Yellow-rumped Warbler - YRWA</div></td>\n      <td><div class=\"not-number\">•••••••••••••••••••••••••••••••••••••••••••••••••••••••••••• /20</div></td>\n    </tr>\n    <tr>\n      <th>135</th>\n      <td><div class=\"not-number\">Prairie Warbler - PRAW</div></td>\n      <td><div class=\"not-number\">•••••••••••••••••••••••••••••••••••••••••••••••••••••••••••• /20</div></td>\n    </tr>\n    <tr>\n      <th>136</th>\n      <td><div class=\"not-number\">Grace's Warbler - GRWA</div></td>\n      <td><div class=\"not-number\">•••••••••••••••••••••••••••••••••••••••••••••••••••••••••••• /20</div></td>\n    </tr>\n    <tr>\n      <th>137</th>\n      <td><div class=\"not-number\">Hermit Warbler - HEWA</div></td>\n      <td><div class=\"not-number\">•••••••••••••••••••••••••••••••••••••••••••••••••••••••••••• /20</div></td>\n    </tr>\n    <tr>\n      <th>138</th>\n      <td><div class=\"not-number\">Cassin's Sparrow - CASP</div></td>\n      <td><div class=\"not-number\">•••••••••••••••••••••••••••••••••••••••••••••••••••••••••••• /20</div></td>\n    </tr>\n    <tr>\n      <th>139</th>\n      <td><div class=\"not-number\">Black-chinned Sparrow - BCSP</div></td>\n      <td><div class=\"not-number\">•••••••••••••••••••••••••••••••••••••••••••••••••••••••••••• /20</div></td>\n    </tr>\n    <tr>\n      <th>140</th>\n      <td><div class=\"not-number\">Black-throated Sparrow - BTSP</div></td>\n      <td><div class=\"not-number\">•••••••••••••••••••••••••••••••••••••••••••••••••••••••••••• /20</div></td>\n    </tr>\n    <tr>\n      <th>141</th>\n      <td><div class=\"not-number\">Lark Sparrow - LASP</div></td>\n      <td><div class=\"not-number\">•••••••••••••••••••••••••••••••••••••••••••••••••••••••••••• /20</div></td>\n    </tr>\n    <tr>\n      <th>142</th>\n      <td><div class=\"not-number\">Fox Sparrow - FOSP</div></td>\n      <td><div class=\"not-number\">•••••••••••••••••••••••••••••••••••••••••••••••••••••••••••• /20</div></td>\n    </tr>\n    <tr>\n      <th>143</th>\n      <td><div class=\"not-number\">White-crowned Sparrow - WCSP</div></td>\n      <td><div class=\"not-number\">•••••••••••••••••••••••••••••••••••••••••••••••••••••••••••• /20</div></td>\n    </tr>\n    <tr>\n      <th>144</th>\n      <td><div class=\"not-number\">Golden-crowned Sparrow - GCSP</div></td>\n      <td><div class=\"not-number\">•••••••••••••••••••••••••••••••••••••••••••••••••••••••••••• /20</div></td>\n    </tr>\n    <tr>\n      <th>145</th>\n      <td><div class=\"not-number\">White-throated Sparrow - WTSP</div></td>\n      <td><div class=\"not-number\">•••••••••••••••••••••••••••••••••••••••••••••••••••••••••••• /20</div></td>\n    </tr>\n    <tr>\n      <th>146</th>\n      <td><div class=\"not-number\">Vesper Sparrow - VESP</div></td>\n      <td><div class=\"not-number\">•••••••••••••••••••••••••••••••••••••••••••••••••••••••••••• /20</div></td>\n    </tr>\n    <tr>\n      <th>147</th>\n      <td><div class=\"not-number\">Song Sparrow - SOSP</div></td>\n      <td><div class=\"not-number\">•••••••••••••••••••••••••••••••••••••••••••••••••••••••••••• /20</div></td>\n    </tr>\n    <tr>\n      <th>148</th>\n      <td><div class=\"not-number\">Lincoln's Sparrow - LISP</div></td>\n      <td><div class=\"not-number\">•••••••••••••••••••••••••••••••••••••••••••••••••••••••••••• /20</div></td>\n    </tr>\n    <tr>\n      <th>149</th>\n      <td><div class=\"not-number\">Rufous-crowned Sparrow - RCSP</div></td>\n      <td><div class=\"not-number\">•••••••••••••••••••••••••••••••••••••••••••••••••••••••••••• /20</div></td>\n    </tr>\n    <tr>\n      <th>150</th>\n      <td><div class=\"not-number\">Yellow-breasted Chat - YBCH</div></td>\n      <td><div class=\"not-number\">•••••••••••••••••••••••••••••••••••••••••••••••••••••••••••• /20</div></td>\n    </tr>\n    <tr>\n      <th>151</th>\n      <td><div class=\"not-number\">Western Tanager - WETA</div></td>\n      <td><div class=\"not-number\">•••••••••••••••••••••••••••••••••••••••••••••••••••••••••••• /20</div></td>\n    </tr>\n    <tr>\n      <th>152</th>\n      <td><div class=\"not-number\">Northern Cardinal - NOCA</div></td>\n      <td><div class=\"not-number\">•••••••••••••••••••••••••••••••••••••••••••••••••••••••••••• /20</div></td>\n    </tr>\n    <tr>\n      <th>153</th>\n      <td><div class=\"not-number\">Rose-breasted Grosbeak - RBGR</div></td>\n      <td><div class=\"not-number\">•••••••••••••••••••••••••••••••••••••••••••••••••••••••••••• /20</div></td>\n    </tr>\n    <tr>\n      <th>154</th>\n      <td><div class=\"not-number\">Indigo Bunting - INBU</div></td>\n      <td><div class=\"not-number\">•••••••••••••••••••••••••••••••••••••••••••••••••••••••••••• /20</div></td>\n    </tr>\n    <tr>\n      <th>155</th>\n      <td><div class=\"not-number\">Yellow-headed Blackbird - YHBL</div></td>\n      <td><div class=\"not-number\">•••••••••••••••••••••••••••••••••••••••••••••••••••••••••••• /20</div></td>\n    </tr>\n    <tr>\n      <th>156</th>\n      <td><div class=\"not-number\">Scott's Oriole - SCOR</div></td>\n      <td><div class=\"not-number\">•••••••••••••••••••••••••••••••••••••••••••••••••••••••••••• /20</div></td>\n    </tr>\n    <tr>\n      <th>157</th>\n      <td><div class=\"not-number\">Red-winged Blackbird - RWBL</div></td>\n      <td><div class=\"not-number\">•••••••••••••••••••••••••••••••••••••••••••••••••••••••••••• /20</div></td>\n    </tr>\n    <tr>\n      <th>158</th>\n      <td><div class=\"not-number\">Brewer's Blackbird - BRBL</div></td>\n      <td><div class=\"not-number\">•••••••••••••••••••••••••••••••••••••••••••••••••••••••••••• /20</div></td>\n    </tr>\n    <tr>\n      <th>159</th>\n      <td><div class=\"not-number\">Great-tailed Grackle - GTGR</div></td>\n      <td><div class=\"not-number\">•••••••••••••••••••••••••••••••••••••••••••••••••••••••••••• /20</div></td>\n    </tr>\n    <tr>\n      <th>160</th>\n      <td><div class=\"not-number\">Pine Grosbeak - PIGR</div></td>\n      <td><div class=\"not-number\">•••••••••••••••••••••••••••••••••••••••••••••••••••••••••••• /20</div></td>\n    </tr>\n    <tr>\n      <th>161</th>\n      <td><div class=\"not-number\">House Finch - HOFI</div></td>\n      <td><div class=\"not-number\">•••••••••••••••••••••••••••••••••••••••••••••••••••••••••••• /20</div></td>\n    </tr>\n    <tr>\n      <th>162</th>\n      <td><div class=\"not-number\">Purple Finch - PUFI</div></td>\n      <td><div class=\"not-number\">•••••••••••••••••••••••••••••••••••••••••••••••••••••••••••• /20</div></td>\n    </tr>\n    <tr>\n      <th>163</th>\n      <td><div class=\"not-number\">Cassin's Finch - CAFI</div></td>\n      <td><div class=\"not-number\">•••••••••••••••••••••••••••••••••••••••••••••••••••••••••••• /20</div></td>\n    </tr>\n    <tr>\n      <th>164</th>\n      <td><div class=\"not-number\">Pine Siskin - PISI</div></td>\n      <td><div class=\"not-number\">•••••••••••••••••••••••••••••••••••••••••••••••••••••••••••• /20</div></td>\n    </tr>\n    <tr>\n      <th>165</th>\n      <td><div class=\"not-number\">Lesser Goldfinch - LEGO</div></td>\n      <td><div class=\"not-number\">•••••••••••••••••••••••••••••••••••••••••••••••••••••••••••• /20</div></td>\n    </tr>\n    <tr>\n      <th>166</th>\n      <td><div class=\"not-number\">Lawrence's Goldfinch - LAGO</div></td>\n      <td><div class=\"not-number\">•••••••••••••••••••••••••••••••••••••••••••••••••••••••••••• /20</div></td>\n    </tr>\n    <tr>\n      <th>167</th>\n      <td><div class=\"not-number\">American Goldfinch - AMGO</div></td>\n      <td><div class=\"not-number\">•••••••••••••••••••••••••••••••••••••••••••••••••••••••••••• /20</div></td>\n    </tr>\n  </tbody>\n</table>",
      "text/plain": "                         species_longhand                                                          num_recs\n0      Greater White-fronted Goose - GWFG  •••••••••••••••••••••••••••••••••••••••••••••••••••••••••••• /20\n1                          Gadwall - GADW  •••••••••••••••••••••••••••••••••••••••••••••••••••••••••••• /20\n2                  American Wigeon - AMWI  •••••••••••••••••••••••••••••••••••••••••••••••••••••••••••• /20\n3                          Mallard - MALL  •••••••••••••••••••••••••••••••••••••••••••••••••••••••••••• /20\n4                Green-winged Teal - GWTE  •••••••••••••••••••••••••••••••••••••••••••••••••••••••••••• /20\n5                 California Quail - CAQU  •••••••••••••••••••••••••••••••••••••••••••••••••••••••••••• /20\n6                   Gambel's Quail - GAQU  •••••••••••••••••••••••••••••••••••••••••••••••••••••••••••• /20\n7                     Sooty Grouse - SOGR  •••••••••••••••••••••••••••••••••••••••••••••••••••••••••••• /20\n8                      Wild Turkey - WITU  •••••••••••••••••••••••••••••••••••••••••••••••••••••••••••• /20\n9                      Common Loon - COLO  •••••••••••••••••••••••••••••••••••••••••••••••••••••••••••• /20\n10                Red-necked Grebe - RNGR  •••••••••••••••••••••••••••••••••••••••••••••••••••••••••••• /20\n11          Black-footed Albatross - BFAL  •••••••••••••••••••••••••••••••••••••••••••••••••••••••••••• /20\n12        Double-crested Cormorant - DCCO  •••••••••••••••••••••••••••••••••••••••••••••••••••••••••••• /20\n13                American Bittern - AMBI  •••••••••••••••••••••••••••••••••••••••••••••••••••••••••••• /20\n14                   Least Bittern - LEBI  •••••••••••••••••••••••••••••••••••••••••••••••••••••••••••• /20\n15                Great Blue Heron - GBHE  •••••••••••••••••••••••••••••••••••••••••••••••••••••••••••• /20\n16                     Great Egret - GREG  •••••••••••••••••••••••••••••••••••••••••••••••••••••••••••• /20\n17                     Snowy Egret - SNEG  •••••••••••••••••••••••••••••••••••••••••••••••••••••••••••• /20\n18                          Osprey - OSPR  •••••••••••••••••••••••••••••••••••••••••••••••••••••••••••• /20\n19                 Swainson's Hawk - SWHA  •••••••••••••••••••••••••••••••••••••••••••••••••••••••••••• /20\n20                 Red-tailed Hawk - RTHA  •••••••••••••••••••••••••••••••••••••••••••••••••••••••••••• /20\n21                      Black Rail - BLRA  •••••••••••••••••••••••••••••••••••••••••••••••••••••••••••• /20\n22                  Ridgway's Rail - RIRA  •••••••••••••••••••••••••••••••••••••••••••••••••••••••••••• /20\n23                Common Gallinule - COGA  •••••••••••••••••••••••••••••••••••••••••••••••••••••••••••• /20\n24              Black-necked Stilt - BNST  •••••••••••••••••••••••••••••••••••••••••••••••••••••••••••• /20\n25             Black Oystercatcher - BLOY  •••••••••••••••••••••••••••••••••••••••••••••••••••••••••••• /20\n26             Semipalmated Plover - SEPL  •••••••••••••••••••••••••••••••••••••••••••••••••••••••••••• /20\n27                        Whimbrel - WHIM  •••••••••••••••••••••••••••••••••••••••••••••••••••••••••••• /20\n28              Long-billed Curlew - LBCU  •••••••••••••••••••••••••••••••••••••••••••••••••••••••••••• /20\n29                  Rock Sandpiper - ROSA  •••••••••••••••••••••••••••••••••••••••••••••••••••••••••••• /20\n30                 Least Sandpiper - LESA  •••••••••••••••••••••••••••••••••••••••••••••••••••••••••••• /20\n31           Long-billed Dowitcher - LBDO  •••••••••••••••••••••••••••••••••••••••••••••••••••••••••••• /20\n32            Red-necked Phalarope - RNPH  •••••••••••••••••••••••••••••••••••••••••••••••••••••••••••• /20\n33              Greater Yellowlegs - GRYE  •••••••••••••••••••••••••••••••••••••••••••••••••••••••••••• /20\n34                Bonaparte's Gull - BOGU  •••••••••••••••••••••••••••••••••••••••••••••••••••••••••••• /20\n35                   Laughing Gull - LAGU  •••••••••••••••••••••••••••••••••••••••••••••••••••••••••••• /20\n36                 Heermann's Gull - HEEG  •••••••••••••••••••••••••••••••••••••••••••••••••••••••••••• /20\n37                Ring-billed Gull - RBGU  •••••••••••••••••••••••••••••••••••••••••••••••••••••••••••• /20\n38                    Western Gull - WEGU  •••••••••••••••••••••••••••••••••••••••••••••••••••••••••••• /20\n39                 California Gull - CAGU  •••••••••••••••••••••••••••••••••••••••••••••••••••••••••••• /20\n40            Glaucous-winged Gull - GWGU  •••••••••••••••••••••••••••••••••••••••••••••••••••••••••••• /20\n41                Gull-billed Tern - GBTE  •••••••••••••••••••••••••••••••••••••••••••••••••••••••••••• /20\n42                    Caspian Tern - CATE  •••••••••••••••••••••••••••••••••••••••••••••••••••••••••••• /20\n43                      Black Tern - BLTE  •••••••••••••••••••••••••••••••••••••••••••••••••••••••••••• /20\n44                      Royal Tern - ROYT  •••••••••••••••••••••••••••••••••••••••••••••••••••••••••••• /20\n45              Band-tailed Pigeon - BTPI  •••••••••••••••••••••••••••••••••••••••••••••••••••••••••••• /20\n46                       Inca Dove - INDO  •••••••••••••••••••••••••••••••••••••••••••••••••••••••••••• /20\n47              Common Ground-Dove - COGD  •••••••••••••••••••••••••••••••••••••••••••••••••••••••••••• /20\n48            Yellow-billed Cuckoo - YBCU  •••••••••••••••••••••••••••••••••••••••••••••••••••••••••••• /20\n49                        Barn Owl - BANO  •••••••••••••••••••••••••••••••••••••••••••••••••••••••••••• /20\n50                Great Horned Owl - GHOW  •••••••••••••••••••••••••••••••••••••••••••••••••••••••••••• /20\n51                         Elf Owl - ELOW  •••••••••••••••••••••••••••••••••••••••••••••••••••••••••••• /20\n52                     Spotted Owl - SPOW  •••••••••••••••••••••••••••••••••••••••••••••••••••••••••••• /20\n53                Lesser Nighthawk - LENI  •••••••••••••••••••••••••••••••••••••••••••••••••••••••••••• /20\n54                Common Nighthawk - CONI  •••••••••••••••••••••••••••••••••••••••••••••••••••••••••••• /20\n55                 Common Poorwill - COPO  •••••••••••••••••••••••••••••••••••••••••••••••••••••••••••• /20\n56          Eastern Whip-poor-will - EWPW  •••••••••••••••••••••••••••••••••••••••••••••••••••••••••••• /20\n57          Mexican Whip-poor-will - MWPW  •••••••••••••••••••••••••••••••••••••••••••••••••••••••••••• /20\n58            White-throated Swift - WTSW  •••••••••••••••••••••••••••••••••••••••••••••••••••••••••••• /20\n59       Black-chinned Hummingbird - BCHU  •••••••••••••••••••••••••••••••••••••••••••••••••••••••••••• /20\n60        Broad-tailed Hummingbird - BTAH  •••••••••••••••••••••••••••••••••••••••••••••••••••••••••••• /20\n61                Acorn Woodpecker - ACWO  •••••••••••••••••••••••••••••••••••••••••••••••••••••••••••• /20\n62          Williamson's Sapsucker - WISA  •••••••••••••••••••••••••••••••••••••••••••••••••••••••••••• /20\n63          Red-breasted Sapsucker - RBSA  •••••••••••••••••••••••••••••••••••••••••••••••••••••••••••• /20\n64        Ladder-backed Woodpecker - LBWO  •••••••••••••••••••••••••••••••••••••••••••••••••••••••••••• /20\n65            Nuttall's Woodpecker - NUWO  •••••••••••••••••••••••••••••••••••••••••••••••••••••••••••• /20\n66                Hairy Woodpecker - HAWO  •••••••••••••••••••••••••••••••••••••••••••••••••••••••••••• /20\n67         White-headed Woodpecker - WHWO  •••••••••••••••••••••••••••••••••••••••••••••••••••••••••••• /20\n68         Black-backed Woodpecker - BBWO  •••••••••••••••••••••••••••••••••••••••••••••••••••••••••••• /20\n69                Northern Flicker - NOFL  •••••••••••••••••••••••••••••••••••••••••••••••••••••••••••• /20\n70              Western Wood-Pewee - WEWP  •••••••••••••••••••••••••••••••••••••••••••••••••••••••••••• /20\n71                Least Flycatcher - LEFL  •••••••••••••••••••••••••••••••••••••••••••••••••••••••••••• /20\n72                 Gray Flycatcher - GRFL  •••••••••••••••••••••••••••••••••••••••••••••••••••••••••••• /20\n73                Dusky Flycatcher - DUFL  •••••••••••••••••••••••••••••••••••••••••••••••••••••••••••• /20\n74        Pacific-slope Flycatcher - PSFL  •••••••••••••••••••••••••••••••••••••••••••••••••••••••••••• /20\n75                  Eastern Phoebe - EAPH  •••••••••••••••••••••••••••••••••••••••••••••••••••••••••••• /20\n76                    Say's Phoebe - SAPH  •••••••••••••••••••••••••••••••••••••••••••••••••••••••••••• /20\n77            Vermilion Flycatcher - VEFL  •••••••••••••••••••••••••••••••••••••••••••••••••••••••••••• /20\n78         Dusky-capped Flycatcher - DCFL  •••••••••••••••••••••••••••••••••••••••••••••••••••••••••••• /20\n79               Tropical Kingbird - TRKI  •••••••••••••••••••••••••••••••••••••••••••••••••••••••••••• /20\n80                Couch's Kingbird - COKI  •••••••••••••••••••••••••••••••••••••••••••••••••••••••••••• /20\n81                  Hutton's Vireo - HUVI  •••••••••••••••••••••••••••••••••••••••••••••••••••••••••••• /20\n82                  Warbling Vireo - WAVI  •••••••••••••••••••••••••••••••••••••••••••••••••••••••••••• /20\n83                  Red-eyed Vireo - REVI  •••••••••••••••••••••••••••••••••••••••••••••••••••••••••••• /20\n84              Yellow-green Vireo - YGVI  •••••••••••••••••••••••••••••••••••••••••••••••••••••••••••• /20\n85                        Gray Jay - GRAJ  •••••••••••••••••••••••••••••••••••••••••••••••••••••••••••• /20\n86                      Pinyon Jay - PIJA  •••••••••••••••••••••••••••••••••••••••••••••••••••••••••••• /20\n87                   Steller's Jay - STJA  •••••••••••••••••••••••••••••••••••••••••••••••••••••••••••• /20\n88            California Scrub-Jay - CASJ  •••••••••••••••••••••••••••••••••••••••••••••••••••••••••••• /20\n89           Woodhouse's Scrub-Jay - WOSJ  •••••••••••••••••••••••••••••••••••••••••••••••••••••••••••• /20\n90              Clark's Nutcracker - CLNU  •••••••••••••••••••••••••••••••••••••••••••••••••••••••••••• /20\n91                    Common Raven - CORA  •••••••••••••••••••••••••••••••••••••••••••••••••••••••••••• /20\n92   Northern Rough-winged Swallow - NRWS  •••••••••••••••••••••••••••••••••••••••••••••••••••••••••••• /20\n93                   Purple Martin - PUMA  •••••••••••••••••••••••••••••••••••••••••••••••••••••••••••• /20\n94            Violet-green Swallow - VGSW  •••••••••••••••••••••••••••••••••••••••••••••••••••••••••••• /20\n95                   Cliff Swallow - CLSW  •••••••••••••••••••••••••••••••••••••••••••••••••••••••••••• /20\n96              Mountain Chickadee - MOCH  •••••••••••••••••••••••••••••••••••••••••••••••••••••••••••• /20\n97       Chestnut-backed Chickadee - CBCH  •••••••••••••••••••••••••••••••••••••••••••••••••••••••••••• /20\n98                          Verdin - VERD  •••••••••••••••••••••••••••••••••••••••••••••••••••••••••••• /20\n99                         Bushtit - BUSH  •••••••••••••••••••••••••••••••••••••••••••••••••••••••••••• /20\n100          Red-breasted Nuthatch - RBNU  •••••••••••••••••••••••••••••••••••••••••••••••••••••••••••• /20\n101                      Rock Wren - ROWR  •••••••••••••••••••••••••••••••••••••••••••••••••••••••••••• /20\n102                    Canyon Wren - CANW  •••••••••••••••••••••••••••••••••••••••••••••••••••••••••••• /20\n103                    Winter Wren - WIWR  •••••••••••••••••••••••••••••••••••••••••••••••••••••••••••• /20\n104                     Marsh Wren - MAWR  •••••••••••••••••••••••••••••••••••••••••••••••••••••••••••• /20\n105                  Bewick's Wren - BEWR  •••••••••••••••••••••••••••••••••••••••••••••••••••••••••••• /20\n106                    Cactus Wren - CACW  •••••••••••••••••••••••••••••••••••••••••••••••••••••••••••• /20\n107         California Gnatcatcher - CAGN  •••••••••••••••••••••••••••••••••••••••••••••••••••••••••••• /20\n108       Black-tailed Gnatcatcher - BTGN  •••••••••••••••••••••••••••••••••••••••••••••••••••••••••••• /20\n109                American Dipper - AMDI  •••••••••••••••••••••••••••••••••••••••••••••••••••••••••••• /20\n110           Ruby-crowned Kinglet - RCKI  •••••••••••••••••••••••••••••••••••••••••••••••••••••••••••• /20\n111               Western Bluebird - WEBL  •••••••••••••••••••••••••••••••••••••••••••••••••••••••••••• /20\n112              Mountain Bluebird - MOBL  •••••••••••••••••••••••••••••••••••••••••••••••••••••••••••• /20\n113           Townsend's Solitaire - TOSO  •••••••••••••••••••••••••••••••••••••••••••••••••••••••••••• /20\n114              Swainson's Thrush - SWTH  •••••••••••••••••••••••••••••••••••••••••••••••••••••••••••• /20\n115                  Hermit Thrush - HETH  •••••••••••••••••••••••••••••••••••••••••••••••••••••••••••• /20\n116                 American Robin - AMRO  •••••••••••••••••••••••••••••••••••••••••••••••••••••••••••• /20\n117                   Gray Catbird - GRCA  •••••••••••••••••••••••••••••••••••••••••••••••••••••••••••• /20\n118             Bendire's Thrasher - BETH  •••••••••••••••••••••••••••••••••••••••••••••••••••••••••••• /20\n119             LeConte's Thrasher - LCTH  •••••••••••••••••••••••••••••••••••••••••••••••••••••••••••• /20\n120               Crissal Thrasher - CRTH  •••••••••••••••••••••••••••••••••••••••••••••••••••••••••••• /20\n121              European Starling - EUST  •••••••••••••••••••••••••••••••••••••••••••••••••••••••••••• /20\n122                 American Pipit - AMPI  •••••••••••••••••••••••••••••••••••••••••••••••••••••••••••• /20\n123                    Phainopepla - PHAI  •••••••••••••••••••••••••••••••••••••••••••••••••••••••••••• /20\n124               Lapland Longspur - LALO  •••••••••••••••••••••••••••••••••••••••••••••••••••••••••••• /20\n125           Northern Waterthrush - NOWA  •••••••••••••••••••••••••••••••••••••••••••••••••••••••••••• /20\n126         Orange-crowned Warbler - OCWA  •••••••••••••••••••••••••••••••••••••••••••••••••••••••••••• /20\n127                 Lucy's Warbler - LUWA  •••••••••••••••••••••••••••••••••••••••••••••••••••••••••••• /20\n128              Nashville Warbler - NAWA  •••••••••••••••••••••••••••••••••••••••••••••••••••••••••••• /20\n129         MacGillivray's Warbler - MGWA  •••••••••••••••••••••••••••••••••••••••••••••••••••••••••••• /20\n130            Common Yellowthroat - COYE  •••••••••••••••••••••••••••••••••••••••••••••••••••••••••••• /20\n131                 Hooded Warbler - HOWA  •••••••••••••••••••••••••••••••••••••••••••••••••••••••••••• /20\n132                Northern Parula - NOPA  •••••••••••••••••••••••••••••••••••••••••••••••••••••••••••• /20\n133         Chestnut-sided Warbler - CSWA  •••••••••••••••••••••••••••••••••••••••••••••••••••••••••••• /20\n134          Yellow-rumped Warbler - YRWA  •••••••••••••••••••••••••••••••••••••••••••••••••••••••••••• /20\n135                Prairie Warbler - PRAW  •••••••••••••••••••••••••••••••••••••••••••••••••••••••••••• /20\n136                Grace's Warbler - GRWA  •••••••••••••••••••••••••••••••••••••••••••••••••••••••••••• /20\n137                 Hermit Warbler - HEWA  •••••••••••••••••••••••••••••••••••••••••••••••••••••••••••• /20\n138               Cassin's Sparrow - CASP  •••••••••••••••••••••••••••••••••••••••••••••••••••••••••••• /20\n139          Black-chinned Sparrow - BCSP  •••••••••••••••••••••••••••••••••••••••••••••••••••••••••••• /20\n140         Black-throated Sparrow - BTSP  •••••••••••••••••••••••••••••••••••••••••••••••••••••••••••• /20\n141                   Lark Sparrow - LASP  •••••••••••••••••••••••••••••••••••••••••••••••••••••••••••• /20\n142                    Fox Sparrow - FOSP  •••••••••••••••••••••••••••••••••••••••••••••••••••••••••••• /20\n143          White-crowned Sparrow - WCSP  •••••••••••••••••••••••••••••••••••••••••••••••••••••••••••• /20\n144         Golden-crowned Sparrow - GCSP  •••••••••••••••••••••••••••••••••••••••••••••••••••••••••••• /20\n145         White-throated Sparrow - WTSP  •••••••••••••••••••••••••••••••••••••••••••••••••••••••••••• /20\n146                 Vesper Sparrow - VESP  •••••••••••••••••••••••••••••••••••••••••••••••••••••••••••• /20\n147                   Song Sparrow - SOSP  •••••••••••••••••••••••••••••••••••••••••••••••••••••••••••• /20\n148              Lincoln's Sparrow - LISP  •••••••••••••••••••••••••••••••••••••••••••••••••••••••••••• /20\n149         Rufous-crowned Sparrow - RCSP  •••••••••••••••••••••••••••••••••••••••••••••••••••••••••••• /20\n150           Yellow-breasted Chat - YBCH  •••••••••••••••••••••••••••••••••••••••••••••••••••••••••••• /20\n151                Western Tanager - WETA  •••••••••••••••••••••••••••••••••••••••••••••••••••••••••••• /20\n152              Northern Cardinal - NOCA  •••••••••••••••••••••••••••••••••••••••••••••••••••••••••••• /20\n153         Rose-breasted Grosbeak - RBGR  •••••••••••••••••••••••••••••••••••••••••••••••••••••••••••• /20\n154                 Indigo Bunting - INBU  •••••••••••••••••••••••••••••••••••••••••••••••••••••••••••• /20\n155        Yellow-headed Blackbird - YHBL  •••••••••••••••••••••••••••••••••••••••••••••••••••••••••••• /20\n156                 Scott's Oriole - SCOR  •••••••••••••••••••••••••••••••••••••••••••••••••••••••••••• /20\n157           Red-winged Blackbird - RWBL  •••••••••••••••••••••••••••••••••••••••••••••••••••••••••••• /20\n158             Brewer's Blackbird - BRBL  •••••••••••••••••••••••••••••••••••••••••••••••••••••••••••• /20\n159           Great-tailed Grackle - GTGR  •••••••••••••••••••••••••••••••••••••••••••••••••••••••••••• /20\n160                  Pine Grosbeak - PIGR  •••••••••••••••••••••••••••••••••••••••••••••••••••••••••••• /20\n161                    House Finch - HOFI  •••••••••••••••••••••••••••••••••••••••••••••••••••••••••••• /20\n162                   Purple Finch - PUFI  •••••••••••••••••••••••••••••••••••••••••••••••••••••••••••• /20\n163                 Cassin's Finch - CAFI  •••••••••••••••••••••••••••••••••••••••••••••••••••••••••••• /20\n164                    Pine Siskin - PISI  •••••••••••••••••••••••••••••••••••••••••••••••••••••••••••• /20\n165               Lesser Goldfinch - LEGO  •••••••••••••••••••••••••••••••••••••••••••••••••••••••••••• /20\n166           Lawrence's Goldfinch - LAGO  •••••••••••••••••••••••••••••••••••••••••••••••••••••••••••• /20\n167             American Goldfinch - AMGO  •••••••••••••••••••••••••••••••••••••••••••••••••••••••••••• /20"
     },
     "execution_count": 6,
     "metadata": {},
     "output_type": "execute_result"
    }
   ],
   "source": [
    "# Fast-and-cheap version (<1s) of the plot below (7s)\n",
    "(recs\n",
    "    .species_longhand.value_counts().sort_index()\n",
    "    .reset_index().rename(columns={'index': 'species_longhand', 'species_longhand': 'num_recs'})\n",
    "    .assign(num_recs=lambda df: df.num_recs.map(lambda n: '%s /%s' % ('•' * int(n / df.num_recs.max() * 60), df.num_recs.max())))\n",
    ")"
   ]
  },
  {
   "cell_type": "code",
   "execution_count": null,
   "metadata": {
    "skip": true
   },
   "outputs": [
    {
     "name": "stdout",
     "output_type": "stream",
     "text": "[skip]"
    }
   ],
   "source": [
    "(recs\n",
    "    .assign(species=lambda df: df.species_longhand)\n",
    "    .assign(count=1)\n",
    "    # 0-fill all (species, dataset) combinations to create empty placeholders for missing bars\n",
    "    .pipe(lambda df: df.append(\n",
    "        pd.DataFrame([\n",
    "            dict(species=species, dataset=dataset, duration_s=0)\n",
    "            for species in df.species.unique()\n",
    "            for dataset in df.dataset.unique()\n",
    "        ])\n",
    "        .astype({'species': df.species.dtype})\n",
    "    ))\n",
    "    .groupby(['dataset', 'species'])[['count', 'duration_s']].sum().reset_index()\n",
    "    # Order by species by taxo\n",
    "    .pipe(df_reverse_cat, 'species')\n",
    "    # Order by species by count\n",
    "    # .pipe(df_ordered_cat, species=lambda df: df.sort_values('count').species)\n",
    "    .pipe(pd.melt, id_vars=['dataset', 'species'], value_vars=['count', 'duration_s'])\n",
    "    .pipe(df_remove_unused_categories)\n",
    "    .pipe(ggplot, aes(x='species', y='value', fill='dataset', color='dataset'))\n",
    "    + coord_flip()\n",
    "    + geom_bar(stat='identity', position=position_dodge(), width=.8)\n",
    "    + facet_wrap('variable', nrow=1, scales='free')\n",
    "    + xlab('')\n",
    "    + ylab('')\n",
    "    + scale_fill_cmap_d(mpl.cm.tab10)\n",
    "    + scale_color_cmap_d(mpl.cm.tab10)\n",
    "    + theme(panel_spacing=2.5)\n",
    "    + theme_figsize(width=18, aspect_ratio=4/1)\n",
    "    + ggtitle(f'recs: Total (count, duration_s) per (species, dataset)')\n",
    ")"
   ]
  },
  {
   "cell_type": "code",
   "execution_count": null,
   "metadata": {},
   "outputs": [],
   "source": [
    "# Add .feat\n",
    "recs = projection.transform(recs)"
   ]
  },
  {
   "cell_type": "code",
   "execution_count": null,
   "metadata": {},
   "outputs": [
    {
     "data": {
      "text/plain": "((3360, 1500), (3360,))"
     },
     "metadata": {},
     "output_type": "display_data",
     "transient": {}
    },
    {
     "data": {
      "text/plain": "array(['GWFG', 'GWFG', 'GWFG', 'GWFG', 'GWFG'], dtype='<U4')"
     },
     "metadata": {},
     "output_type": "display_data",
     "transient": {}
    },
    {
     "data": {
      "text/plain": "((2688, 1500), (2688,))"
     },
     "metadata": {},
     "output_type": "display_data",
     "transient": {}
    },
    {
     "data": {
      "text/plain": "((672, 1500), (672,))"
     },
     "metadata": {},
     "output_type": "display_data",
     "transient": {}
    }
   ],
   "source": [
    "# Make data\n",
    "X, y = Search.Xy(recs)\n",
    "classes = np.sort(np.unique(y))\n",
    "n_classes = len(classes)\n",
    "yi = lambda y: np.array([list(classes).index(_y) for _y in y])  # lgb api wants num labels, not str labels\n",
    "(X_train, X_test, y_train, y_test) = sk.model_selection.train_test_split(\n",
    "    X, y,\n",
    "    test_size=0.2,\n",
    "    random_state=0,\n",
    ")\n",
    "display(\n",
    "    (X.shape, y.shape),\n",
    "    y[:5],\n",
    "    (X_train.shape, y_train.shape),\n",
    "    (X_test.shape, y_test.shape),\n",
    ")"
   ]
  },
  {
   "cell_type": "code",
   "execution_count": null,
   "metadata": {},
   "outputs": [],
   "source": [
    "# Make lgb data\n",
    "lgb_train = lgb.Dataset(X_train, yi(y_train), free_raw_data=False)\n",
    "lgb_test = lgb.Dataset(X_test, yi(y_test), free_raw_data=False)"
   ]
  },
  {
   "cell_type": "code",
   "execution_count": null,
   "metadata": {},
   "outputs": [],
   "source": [
    "lgb_train_kwargs = dict(\n",
    "    # lgb.train args that feel like they belong in lgb_params instead\n",
    "\n",
    "    num_boost_round=100,\n",
    "    #   - Default: 100\n",
    "    #   - \"Note: internally, LightGBM constructs num_class * num_iterations trees for multi-class classification problems\"\n",
    "\n",
    "    # early_stopping_rounds=None,\n",
    "    #   - Default: None (disabled)\n",
    "    #   - \"Activates early stopping. The model will train until the validation score stops improving.\"\n",
    "    #   - \"Requires at least one validation data and one metric. If there's more than one, will check all of them except\n",
    "    #     the training data.\"\n",
    "    #   - \"If early stopping occurs, the model will add ``best_iteration`` field\"\n",
    "\n",
    "    # learning_rates=None,\n",
    "    #   - Default: None\n",
    "    #   - Dynamic learning rate\n",
    "    #   - learning_rates: list, callable or None, optional (default=None)\n",
    "    #       List of learning rates for each boosting round or a customized function that calculates ``learning_rate``\n",
    "    #       in terms of current number of round (e.g. yields learning rate decay).\n",
    "\n",
    ")\n",
    "lgb_params = dict(\n",
    "    # https://github.com/Microsoft/LightGBM/blob/master/docs/Parameters.rst\n",
    "\n",
    "    # Core Parameters\n",
    "    objective='multiclass',\n",
    "    #   - Must also set num_class\n",
    "    boosting='gbdt',\n",
    "    # num_iterations=100,\n",
    "    #   - [Deprecated: moved to .train]\n",
    "    learning_rate=.01,\n",
    "    # num_leaves=31,\n",
    "    # tree_learner='serial',\n",
    "    #   - Single machine, multicore: 'serial' (default)\n",
    "    #   - [ignore] Distributed training: 'feature' | 'data' | 'voting'\n",
    "    #   - https://github.com/Microsoft/LightGBM/blob/master/docs/Parallel-Learning-Guide.rst\n",
    "    # num_threads=0,\n",
    "    # device_type='cpu',\n",
    "    #   - 'cpu' (default) | 'gpu'\n",
    "    #   - Would gpu need rebuild? https://github.com/Microsoft/LightGBM/blob/master/docs/Installation-Guide.rst#build-gpu-version\n",
    "    #   - \"Note: it is recommended to use the smaller max_bin (e.g. 63) to get the better speed up\" (below)\n",
    "    #   - \"Note: for the faster speed, GPU uses 32-bit float point to sum up by default, so this may affect the\n",
    "    #     accuracy for some tasks. You can set gpu_use_dp=true to enable 64-bit float point, but it will slow down\n",
    "    #     the training\"\n",
    "    seed=0,\n",
    "    #   - Generates all seeds (e.g. data_random_seed)\n",
    "\n",
    "    # Learning Control Parameters\n",
    "    # max_depth=-1,\n",
    "    #   - -1 = no limit\n",
    "    min_data_in_leaf=1,\n",
    "    #   - 20 (default) is too big when data is small [https://github.com/Microsoft/LightGBM/issues/907]\n",
    "    # bagging_fraction=1.0,\n",
    "    #   - Sample data per tree (without replacement)\n",
    "    #   - Requires bagging_freq > 0\n",
    "    # bagging_freq=0,\n",
    "    #   - Bag at every kth iteration (0 = disable)\n",
    "    #   - Requires bagging_fraction < 1\n",
    "    # feature_fraction=1.0,\n",
    "    #   - Sample features per tree\n",
    "    # early_stopping_round=0,\n",
    "    #   - [Deprecated: moved to .train]\n",
    "    # max_delta_step=0.0,\n",
    "    #   - \"used to limit the max output of tree leaves\"\n",
    "    #   - \"<= 0 means no constraint\"\n",
    "    #   - \"the final max output of leaves is learning_rate * max_delta_step\"\n",
    "    # lambda_l1=0.0,\n",
    "    #   - L1 regularization\n",
    "    # lambda_l2=0.0,\n",
    "    #   - L2 regularization\n",
    "    # min_gain_to_split=0.0,\n",
    "    #   - \"the minimal gain to perform split\"\n",
    "\n",
    "    # IO Parameters\n",
    "    #   - TODO Grok more of these: https://github.com/Microsoft/LightGBM/blob/master/docs/Parameters.rst#io-parameters\n",
    "    verbosity=1,\n",
    "    max_bin=63,\n",
    "    #   - Default: 255\n",
    "    #   - \"it is recommended to use the smaller max_bin (e.g. 63) to get the better speed up\" (from cpu/gpu)\n",
    "    #   - \"max number of bins that feature values will be bucketed in\"\n",
    "    #   - \"small number of bins may reduce training accuracy but may increase general power (deal with over-fitting)\"\n",
    "    #   - \"LightGBM will auto compress memory according to max_bin. For example, LightGBM will use uint8_t for\n",
    "    #     feature value if max_bin=255\"\n",
    "    # min_data_in_bin=3,\n",
    "    #   - \"use this to avoid one-data-one-bin (potential over-fitting)\"\n",
    "    # bin_construct_sample_cnt=200000,\n",
    "    #   - \"number of data that sampled to construct histogram bins\"\n",
    "    #   - \"setting this to larger value will give better training result, but will increase data loading time\"\n",
    "    #   - \"set this to larger value if data is very sparse\"\n",
    "    #   - TODO Tune with len(X)\n",
    "    # two_round=False,\n",
    "    #   - \"set this to true if data file is too big to fit in memory\"\n",
    "    # save_binary=False,\n",
    "    #   - \"save the dataset (including validation data) to a binary file. This speed ups the data loading for the next time\"\n",
    "    # enable_load_from_binary_file=True,\n",
    "    #   - \"set this to true to enable autoloading from previous saved binary datasets\"\n",
    "\n",
    "    # Objective Parameters\n",
    "    num_class=n_classes,\n",
    "    #   - Default: 1\n",
    "    #   - Required for objective='multiclass'\n",
    "\n",
    "    # Metric Parameters\n",
    "    #   - [ignore]\n",
    "\n",
    "    # Network Parameters\n",
    "    #   - [ignore]\n",
    "\n",
    "    # GPU Parameters\n",
    "    #   - [ignore]\n",
    "\n",
    ")"
   ]
  },
  {
   "cell_type": "code",
   "execution_count": null,
   "metadata": {
    "time": "391.579s"
   },
   "outputs": [
    {
     "name": "stdout",
     "output_type": "stream",
     "text": "[1]\ttrain's multi_logloss: 4.28681\ttest's multi_logloss: 5.03845\n"
    },
    {
     "name": "stdout",
     "output_type": "stream",
     "text": "[2]\ttrain's multi_logloss: 3.92422\ttest's multi_logloss: 5.00213\n"
    },
    {
     "name": "stdout",
     "output_type": "stream",
     "text": "[3]\ttrain's multi_logloss: 3.67192\ttest's multi_logloss: 4.97832\n"
    },
    {
     "name": "stdout",
     "output_type": "stream",
     "text": "[4]\ttrain's multi_logloss: 3.47592\ttest's multi_logloss: 4.96078\n"
    },
    {
     "name": "stdout",
     "output_type": "stream",
     "text": "[5]\ttrain's multi_logloss: 3.31485\ttest's multi_logloss: 4.94589\n"
    },
    {
     "name": "stdout",
     "output_type": "stream",
     "text": "[6]\ttrain's multi_logloss: 3.17778\ttest's multi_logloss: 4.93328\n"
    },
    {
     "name": "stdout",
     "output_type": "stream",
     "text": "[7]\ttrain's multi_logloss: 3.05832\ttest's multi_logloss: 4.92281\n"
    },
    {
     "name": "stdout",
     "output_type": "stream",
     "text": "[8]\ttrain's multi_logloss: 2.95236\ttest's multi_logloss: 4.91377\n"
    },
    {
     "name": "stdout",
     "output_type": "stream",
     "text": "[9]\ttrain's multi_logloss: 2.8571\ttest's multi_logloss: 4.9056\n"
    },
    {
     "name": "stdout",
     "output_type": "stream",
     "text": "[10]\ttrain's multi_logloss: 2.77054\ttest's multi_logloss: 4.89855\n"
    },
    {
     "name": "stdout",
     "output_type": "stream",
     "text": "[11]\ttrain's multi_logloss: 2.6912\ttest's multi_logloss: 4.8917\n"
    },
    {
     "name": "stdout",
     "output_type": "stream",
     "text": "[12]\ttrain's multi_logloss: 2.61797\ttest's multi_logloss: 4.88534\n"
    },
    {
     "name": "stdout",
     "output_type": "stream",
     "text": "[13]\ttrain's multi_logloss: 2.54996\ttest's multi_logloss: 4.87946\n"
    },
    {
     "name": "stdout",
     "output_type": "stream",
     "text": "[14]\ttrain's multi_logloss: 2.48646\ttest's multi_logloss: 4.87379\n"
    },
    {
     "name": "stdout",
     "output_type": "stream",
     "text": "[15]\ttrain's multi_logloss: 2.42693\ttest's multi_logloss: 4.86828\n"
    },
    {
     "name": "stdout",
     "output_type": "stream",
     "text": "[16]\ttrain's multi_logloss: 2.37088\ttest's multi_logloss: 4.86343\n"
    },
    {
     "name": "stdout",
     "output_type": "stream",
     "text": "[17]\ttrain's multi_logloss: 2.31793\ttest's multi_logloss: 4.85901\n"
    },
    {
     "name": "stdout",
     "output_type": "stream",
     "text": "[18]\ttrain's multi_logloss: 2.26777\ttest's multi_logloss: 4.85478\n"
    },
    {
     "name": "stdout",
     "output_type": "stream",
     "text": "[19]\ttrain's multi_logloss: 2.22011\ttest's multi_logloss: 4.85102\n"
    },
    {
     "name": "stdout",
     "output_type": "stream",
     "text": "[20]\ttrain's multi_logloss: 2.17471\ttest's multi_logloss: 4.84751\n"
    },
    {
     "name": "stdout",
     "output_type": "stream",
     "text": "[21]\ttrain's multi_logloss: 2.13138\ttest's multi_logloss: 4.84383\n"
    },
    {
     "name": "stdout",
     "output_type": "stream",
     "text": "[22]\ttrain's multi_logloss: 2.08994\ttest's multi_logloss: 4.84027\n"
    },
    {
     "name": "stdout",
     "output_type": "stream",
     "text": "[23]\ttrain's multi_logloss: 2.05022\ttest's multi_logloss: 4.83708\n"
    },
    {
     "name": "stdout",
     "output_type": "stream",
     "text": "[24]\ttrain's multi_logloss: 2.0121\ttest's multi_logloss: 4.83381\n"
    },
    {
     "name": "stdout",
     "output_type": "stream",
     "text": "[25]\ttrain's multi_logloss: 1.97546\ttest's multi_logloss: 4.83065\n"
    },
    {
     "name": "stdout",
     "output_type": "stream",
     "text": "[26]\ttrain's multi_logloss: 1.94018\ttest's multi_logloss: 4.82756\n"
    },
    {
     "name": "stdout",
     "output_type": "stream",
     "text": "[27]\ttrain's multi_logloss: 1.90618\ttest's multi_logloss: 4.82453\n"
    },
    {
     "name": "stdout",
     "output_type": "stream",
     "text": "[28]\ttrain's multi_logloss: 1.87336\ttest's multi_logloss: 4.82165\n"
    },
    {
     "name": "stdout",
     "output_type": "stream",
     "text": "[29]\ttrain's multi_logloss: 1.84165\ttest's multi_logloss: 4.81896\n"
    },
    {
     "name": "stdout",
     "output_type": "stream",
     "text": "[30]\ttrain's multi_logloss: 1.81097\ttest's multi_logloss: 4.81634\n"
    },
    {
     "name": "stdout",
     "output_type": "stream",
     "text": "[31]\ttrain's multi_logloss: 1.78128\ttest's multi_logloss: 4.81381\n"
    },
    {
     "name": "stdout",
     "output_type": "stream",
     "text": "[32]\ttrain's multi_logloss: 1.7525\ttest's multi_logloss: 4.8114\n"
    },
    {
     "name": "stdout",
     "output_type": "stream",
     "text": "[33]\ttrain's multi_logloss: 1.72458\ttest's multi_logloss: 4.80926\n"
    },
    {
     "name": "stdout",
     "output_type": "stream",
     "text": "[34]\ttrain's multi_logloss: 1.69748\ttest's multi_logloss: 4.80705\n"
    },
    {
     "name": "stdout",
     "output_type": "stream",
     "text": "[35]\ttrain's multi_logloss: 1.67115\ttest's multi_logloss: 4.80513\n"
    },
    {
     "name": "stdout",
     "output_type": "stream",
     "text": "[36]\ttrain's multi_logloss: 1.64556\ttest's multi_logloss: 4.80324\n"
    },
    {
     "name": "stdout",
     "output_type": "stream",
     "text": "[37]\ttrain's multi_logloss: 1.62066\ttest's multi_logloss: 4.80153\n"
    },
    {
     "name": "stdout",
     "output_type": "stream",
     "text": "[38]\ttrain's multi_logloss: 1.59642\ttest's multi_logloss: 4.79966\n"
    },
    {
     "name": "stdout",
     "output_type": "stream",
     "text": "[39]\ttrain's multi_logloss: 1.57281\ttest's multi_logloss: 4.79784\n"
    },
    {
     "name": "stdout",
     "output_type": "stream",
     "text": "[40]\ttrain's multi_logloss: 1.5498\ttest's multi_logloss: 4.7961\n"
    },
    {
     "name": "stdout",
     "output_type": "stream",
     "text": "[41]\ttrain's multi_logloss: 1.52736\ttest's multi_logloss: 4.79418\n"
    },
    {
     "name": "stdout",
     "output_type": "stream",
     "text": "[42]\ttrain's multi_logloss: 1.50546\ttest's multi_logloss: 4.79249\n"
    },
    {
     "name": "stdout",
     "output_type": "stream",
     "text": "[43]\ttrain's multi_logloss: 1.48409\ttest's multi_logloss: 4.79068\n"
    },
    {
     "name": "stdout",
     "output_type": "stream",
     "text": "[44]\ttrain's multi_logloss: 1.46321\ttest's multi_logloss: 4.78894\n"
    },
    {
     "name": "stdout",
     "output_type": "stream",
     "text": "[45]\ttrain's multi_logloss: 1.44282\ttest's multi_logloss: 4.78711\n"
    },
    {
     "name": "stdout",
     "output_type": "stream",
     "text": "[46]\ttrain's multi_logloss: 1.42288\ttest's multi_logloss: 4.78539\n"
    },
    {
     "name": "stdout",
     "output_type": "stream",
     "text": "[47]\ttrain's multi_logloss: 1.40338\ttest's multi_logloss: 4.78369\n"
    },
    {
     "name": "stdout",
     "output_type": "stream",
     "text": "[48]\ttrain's multi_logloss: 1.38431\ttest's multi_logloss: 4.78208\n"
    },
    {
     "name": "stdout",
     "output_type": "stream",
     "text": "[49]\ttrain's multi_logloss: 1.36564\ttest's multi_logloss: 4.78049\n"
    },
    {
     "name": "stdout",
     "output_type": "stream",
     "text": "[50]\ttrain's multi_logloss: 1.34737\ttest's multi_logloss: 4.77894\n"
    },
    {
     "name": "stdout",
     "output_type": "stream",
     "text": "[51]\ttrain's multi_logloss: 1.32947\ttest's multi_logloss: 4.7775\n"
    },
    {
     "name": "stdout",
     "output_type": "stream",
     "text": "[52]\ttrain's multi_logloss: 1.31194\ttest's multi_logloss: 4.77611\n"
    },
    {
     "name": "stdout",
     "output_type": "stream",
     "text": "[53]\ttrain's multi_logloss: 1.29476\ttest's multi_logloss: 4.77462\n"
    },
    {
     "name": "stdout",
     "output_type": "stream",
     "text": "[54]\ttrain's multi_logloss: 1.27792\ttest's multi_logloss: 4.77305\n"
    },
    {
     "name": "stdout",
     "output_type": "stream",
     "text": "[55]\ttrain's multi_logloss: 1.2614\ttest's multi_logloss: 4.77165\n"
    },
    {
     "name": "stdout",
     "output_type": "stream",
     "text": "[56]\ttrain's multi_logloss: 1.2452\ttest's multi_logloss: 4.77021\n"
    },
    {
     "name": "stdout",
     "output_type": "stream",
     "text": "[57]\ttrain's multi_logloss: 1.22931\ttest's multi_logloss: 4.76886\n"
    },
    {
     "name": "stdout",
     "output_type": "stream",
     "text": "[58]\ttrain's multi_logloss: 1.21371\ttest's multi_logloss: 4.76758\n"
    },
    {
     "name": "stdout",
     "output_type": "stream",
     "text": "[59]\ttrain's multi_logloss: 1.1984\ttest's multi_logloss: 4.7663\n"
    },
    {
     "name": "stdout",
     "output_type": "stream",
     "text": "[60]\ttrain's multi_logloss: 1.18337\ttest's multi_logloss: 4.76499\n"
    },
    {
     "name": "stdout",
     "output_type": "stream",
     "text": "[61]\ttrain's multi_logloss: 1.16861\ttest's multi_logloss: 4.76369\n"
    },
    {
     "name": "stdout",
     "output_type": "stream",
     "text": "[62]\ttrain's multi_logloss: 1.15411\ttest's multi_logloss: 4.76245\n"
    },
    {
     "name": "stdout",
     "output_type": "stream",
     "text": "[63]\ttrain's multi_logloss: 1.13987\ttest's multi_logloss: 4.76109\n"
    },
    {
     "name": "stdout",
     "output_type": "stream",
     "text": "[64]\ttrain's multi_logloss: 1.12587\ttest's multi_logloss: 4.75973\n"
    },
    {
     "name": "stdout",
     "output_type": "stream",
     "text": "[65]\ttrain's multi_logloss: 1.11211\ttest's multi_logloss: 4.75835\n"
    },
    {
     "name": "stdout",
     "output_type": "stream",
     "text": "[66]\ttrain's multi_logloss: 1.09858\ttest's multi_logloss: 4.75707\n"
    },
    {
     "name": "stdout",
     "output_type": "stream",
     "text": "[67]\ttrain's multi_logloss: 1.08528\ttest's multi_logloss: 4.75586\n"
    },
    {
     "name": "stdout",
     "output_type": "stream",
     "text": "[68]\ttrain's multi_logloss: 1.07219\ttest's multi_logloss: 4.75471\n"
    },
    {
     "name": "stdout",
     "output_type": "stream",
     "text": "[69]\ttrain's multi_logloss: 1.05933\ttest's multi_logloss: 4.75353\n"
    },
    {
     "name": "stdout",
     "output_type": "stream",
     "text": "[70]\ttrain's multi_logloss: 1.04667\ttest's multi_logloss: 4.75241\n"
    },
    {
     "name": "stdout",
     "output_type": "stream",
     "text": "[71]\ttrain's multi_logloss: 1.03421\ttest's multi_logloss: 4.75128\n"
    },
    {
     "name": "stdout",
     "output_type": "stream",
     "text": "[72]\ttrain's multi_logloss: 1.02196\ttest's multi_logloss: 4.7501\n"
    },
    {
     "name": "stdout",
     "output_type": "stream",
     "text": "[73]\ttrain's multi_logloss: 1.00989\ttest's multi_logloss: 4.74893\n"
    },
    {
     "name": "stdout",
     "output_type": "stream",
     "text": "[74]\ttrain's multi_logloss: 0.998014\ttest's multi_logloss: 4.7477\n"
    },
    {
     "name": "stdout",
     "output_type": "stream",
     "text": "[75]\ttrain's multi_logloss: 0.986321\ttest's multi_logloss: 4.74651\n"
    },
    {
     "name": "stdout",
     "output_type": "stream",
     "text": "[76]\ttrain's multi_logloss: 0.974807\ttest's multi_logloss: 4.74533\n"
    },
    {
     "name": "stdout",
     "output_type": "stream",
     "text": "[77]\ttrain's multi_logloss: 0.963468\ttest's multi_logloss: 4.74417\n"
    },
    {
     "name": "stdout",
     "output_type": "stream",
     "text": "[78]\ttrain's multi_logloss: 0.952299\ttest's multi_logloss: 4.74292\n"
    },
    {
     "name": "stdout",
     "output_type": "stream",
     "text": "[79]\ttrain's multi_logloss: 0.941297\ttest's multi_logloss: 4.74178\n"
    },
    {
     "name": "stdout",
     "output_type": "stream",
     "text": "[80]\ttrain's multi_logloss: 0.930458\ttest's multi_logloss: 4.7406\n"
    },
    {
     "name": "stdout",
     "output_type": "stream",
     "text": "[81]\ttrain's multi_logloss: 0.919778\ttest's multi_logloss: 4.73936\n"
    },
    {
     "name": "stdout",
     "output_type": "stream",
     "text": "[82]\ttrain's multi_logloss: 0.909253\ttest's multi_logloss: 4.73812\n"
    },
    {
     "name": "stdout",
     "output_type": "stream",
     "text": "[83]\ttrain's multi_logloss: 0.898881\ttest's multi_logloss: 4.73692\n"
    },
    {
     "name": "stdout",
     "output_type": "stream",
     "text": "[84]\ttrain's multi_logloss: 0.888657\ttest's multi_logloss: 4.7357\n"
    },
    {
     "name": "stdout",
     "output_type": "stream",
     "text": "[85]\ttrain's multi_logloss: 0.87858\ttest's multi_logloss: 4.73448\n"
    },
    {
     "name": "stdout",
     "output_type": "stream",
     "text": "[86]\ttrain's multi_logloss: 0.868644\ttest's multi_logloss: 4.73336\n"
    },
    {
     "name": "stdout",
     "output_type": "stream",
     "text": "[87]\ttrain's multi_logloss: 0.858848\ttest's multi_logloss: 4.73225\n"
    },
    {
     "name": "stdout",
     "output_type": "stream",
     "text": "[88]\ttrain's multi_logloss: 0.849189\ttest's multi_logloss: 4.73113\n"
    },
    {
     "name": "stdout",
     "output_type": "stream",
     "text": "[89]\ttrain's multi_logloss: 0.839663\ttest's multi_logloss: 4.73002\n"
    },
    {
     "name": "stdout",
     "output_type": "stream",
     "text": "[90]\ttrain's multi_logloss: 0.830269\ttest's multi_logloss: 4.72897\n"
    },
    {
     "name": "stdout",
     "output_type": "stream",
     "text": "[91]\ttrain's multi_logloss: 0.821002\ttest's multi_logloss: 4.72796\n"
    },
    {
     "name": "stdout",
     "output_type": "stream",
     "text": "[92]\ttrain's multi_logloss: 0.811862\ttest's multi_logloss: 4.72686\n"
    },
    {
     "name": "stdout",
     "output_type": "stream",
     "text": "[93]\ttrain's multi_logloss: 0.802845\ttest's multi_logloss: 4.72583\n"
    },
    {
     "name": "stdout",
     "output_type": "stream",
     "text": "[94]\ttrain's multi_logloss: 0.793949\ttest's multi_logloss: 4.72484\n"
    },
    {
     "name": "stdout",
     "output_type": "stream",
     "text": "[95]\ttrain's multi_logloss: 0.785172\ttest's multi_logloss: 4.72385\n"
    },
    {
     "name": "stdout",
     "output_type": "stream",
     "text": "[96]\ttrain's multi_logloss: 0.776511\ttest's multi_logloss: 4.72295\n"
    },
    {
     "name": "stdout",
     "output_type": "stream",
     "text": "[97]\ttrain's multi_logloss: 0.767964\ttest's multi_logloss: 4.72205\n"
    },
    {
     "name": "stdout",
     "output_type": "stream",
     "text": "[98]\ttrain's multi_logloss: 0.75953\ttest's multi_logloss: 4.72116\n"
    },
    {
     "name": "stdout",
     "output_type": "stream",
     "text": "[99]\ttrain's multi_logloss: 0.751205\ttest's multi_logloss: 4.72024\n"
    },
    {
     "name": "stdout",
     "output_type": "stream",
     "text": "[100]\ttrain's multi_logloss: 0.742988\ttest's multi_logloss: 4.71941\n"
    }
   ],
   "source": [
    "evals_result = {}\n",
    "gbm = lgb.train(\n",
    "    **lgb_train_kwargs,\n",
    "    params=lgb_params,\n",
    "    train_set=lgb_train,\n",
    "    valid_sets=[lgb_train, lgb_test],\n",
    "    valid_names=['train', 'test'],\n",
    "    evals_result=evals_result,\n",
    "    verbose_eval=1,\n",
    "    #   - Print every n rounds\n",
    "    keep_training_booster=True,\n",
    "    #   - Default: False\n",
    "    #   - Whether to retain memory for further training [https://github.com/Microsoft/LightGBM/issues/668]\n",
    "    #   - FIXME .save_model only includes params if keep_training_booster=True\n",
    "    #       - Seems like it was intended to include params in both cases? [https://github.com/Microsoft/LightGBM/issues/1364]\n",
    ")\n",
    "display(\n",
    "    # evals_result,  # evals_result['test']['multi_logloss']: np.ndarray, same as the verbose output\n",
    ")"
   ]
  },
  {
   "cell_type": "code",
   "execution_count": null,
   "metadata": {
    "time": "11.684s"
   },
   "outputs": [
    {
     "data": {
      "text/plain": "(168, 100)"
     },
     "metadata": {},
     "output_type": "display_data",
     "transient": {}
    },
    {
     "data": {
      "text/plain": "100"
     },
     "metadata": {},
     "output_type": "display_data",
     "transient": {}
    },
    {
     "data": {
      "text/plain": "16800"
     },
     "metadata": {},
     "output_type": "display_data",
     "transient": {}
    }
   ],
   "source": [
    "# Num trees\n",
    "num_trees = len(gbm.dump_model()['tree_info'])  # = n_classes trees * num_boost_round iterations\n",
    "display(\n",
    "    (n_classes, lgb_train_kwargs['num_boost_round']),  # (No good way to retrieve params from gbm)\n",
    "    gbm.current_iteration(),  # Same as num_boost_round\n",
    "    # gbm.best_iteration,  # 0 unless early_stopping\n",
    "    num_trees,\n",
    ")"
   ]
  },
  {
   "cell_type": "code",
   "execution_count": null,
   "metadata": {
    "time": "7.163s"
   },
   "outputs": [
    {
     "data": {
      "text/plain": "'43.1 MB'"
     },
     "metadata": {},
     "output_type": "display_data",
     "transient": {}
    },
    {
     "data": {
      "text/plain": "'43.1 MB'"
     },
     "metadata": {},
     "output_type": "display_data",
     "transient": {}
    },
    {
     "data": {
      "text/plain": "'10.5 MB'"
     },
     "metadata": {},
     "output_type": "display_data",
     "transient": {}
    }
   ],
   "source": [
    "# Model size\n",
    "gbm_str = gbm._save_model_to_string()\n",
    "gbm_pickle = joblib_dumps(gbm)\n",
    "display(\n",
    "    humanize.naturalsize(len(gbm_str)),\n",
    "    humanize.naturalsize(len(gbm_pickle)),  # Lots of redundancy because it's just a pickle of gbm._save_model_to_string()\n",
    "    humanize.naturalsize(len(gzip.compress(gbm_pickle))),  # Approximate a less-redundant representation\n",
    ")"
   ]
  },
  {
   "cell_type": "code",
   "execution_count": null,
   "metadata": {
    "time": "1.558s"
   },
   "outputs": [
    {
     "data": {
      "text/plain": "(672, 1500)"
     },
     "metadata": {},
     "output_type": "display_data",
     "transient": {}
    },
    {
     "data": {
      "text/plain": "(672, 168)"
     },
     "metadata": {},
     "output_type": "display_data",
     "transient": {}
    },
    {
     "data": {
      "text/plain": "numpy.float64(-21.0)"
     },
     "metadata": {},
     "output_type": "display_data",
     "transient": {}
    },
    {
     "data": {
      "text/plain": "numpy.float64(21.0)"
     },
     "metadata": {},
     "output_type": "display_data",
     "transient": {}
    },
    {
     "data": {
      "text/plain": "array([  3.,   3.,  28.,  16.,   5.,  85.,  45.,  31.,  23., 162.,   4.,  29.,   3., 127., 121.,   3.,   1.,  19.,\n         2., 115.,   1.,  90.,   6.,  11.,  14., 148., 153., 143.,  22.,  95., 168.,  36., 147.,   3., 125.,  81.,\n        47., 162., 155.,  14.,   2.,  48.,   3.,  61.,   8.,  13.,  62.,   1., 114.,  25., 164.,   2.,  28., 167.,\n       145., 156.,   1.,   6.,   8.,  80.,  16.,  14.,  28.,  45.,  65.,   1.,   2., 167.,  15.,   4.,  71.,  22.,\n        61.,  21.,   1.,   1., 153.,   7.,   8.,   4.,   6.,   1.,  97., 112., 157.,   1.,  24.,  39.,   7., 116.,\n         4., 100., 168.,  11.,  53., 168.,  89.,  57.,  10.,  10., 107.,   3.,  19.,   2.,  30., 130., 168., 160.,\n       166.,   4.,   8.,  69.,   3.,  70.,   1., 138.,   1.,   2.,   3.,   5., 167.,  74., 120.,  42., 105.,  16.,\n         1.,  77.,   2.,  36.,  72.,   1.,  59.,  11.,  24.,   1.,   2.,  55.,  89.,  18., 144.,   2., 164., 114.,\n        14.,   3.,   1., 166., 103.,  10., 159., 135.,  74.,   1., 124.,  15.,  21., 168.,   6., 134.,  69., 168.,\n        13.,   1.,  63.,  12.,  35., 150.,  23., 138.,  42.,  17.,   1., 166.,   1., 107.,   1.,   2.,   2., 119.,\n         2.,   1.,  85., 153.,  13., 166.,   2.,  10.,   6.,  79.,  30., 102.,  14., 163., 107.,   4.,  27., 165.,\n         1.,   1.,   1.,   1., 146.,  29.,  40.,  15.,  22.,   5.,   1.,  59.,  26.,   1.,   7., 163.,  22.,  16.,\n        24.,   7., 101.,  10., 145.,  40.,  18., 141.,  93.,   3.,   7., 141., 135.,   3.,  15., 164.,   2.,  95.,\n       167.,  10.,   2., 167., 152.,   4., 148., 158.,   1.,   3.,  90.,  10.,   1., 156.,  34.,   3.,  97.,  34.,\n        65.,   6.,  98.,  12.,  49.,   2.,   2., 155.,   2.,  38., 128.,  11.,  92., 144.,   1., 153.,   7.,   1.,\n         1., 117., 141.,   5.,   1.,  34., 167.,   1.,   1.,   1.,  10., 166.,   4.,  25., 166., 138.,  85., 139.,\n         3.,   2.,  98.,  68.,   5.,  10.,   1.,  18.,   1.,   1., 157.,  12.,  41., 139.,   2.,   1., 165., 143.,\n       140.,  48.,   3.,  10., 123.,   9.,  64.,  79.,   1.,   3.,   4.,   3., 161.,   7.,   1., 162., 109.,  79.,\n        91.,   1.,  23., 161., 134.,   1.,  11.,   2.,  67.,  86.,  82., 139.,   2.,   6.,  58., 112.,  25.,  22.,\n        67.,  87.,  60.,   5.,   9.,  21.,  22.,  14.,  17.,  16., 137.,   1., 165.,   3.,   2.,  71.,  23.,  59.,\n        13., 168.,   3.,   8., 118.,  84.,  13.,  67.,  76.,  29., 121.,  56.,  11.,  21.,   1.,  24., 168.,   3.,\n       167.,   3., 167.,  76., 165.,   1.,   2.,   2.,  16.,  10.,  47.,   1.,   1.,   8., 149.,  15.,  78.,  12.,\n         1., 164.,   3.,  88., 148.,  14.,   3., 161.,   4., 118., 121., 158., 167., 165.,   2.,  13.,   1.,  29.,\n        30.,   3., 100., 150.,   2.,  29.,  11.,  41., 168.,  80.,  43.,  19., 165.,  28.,   4.,  18.,  15.,   2.,\n         1.,   6.,  14., 157., 168.,   3.,  70.,   8.,  12.,   2.,  16.,   4.,   3.,   1.,   1.,  51.,   4.,   1.,\n        87.,  15.,   7., 166.,   5.,  11.,   3.,  27.,   1.,  92., 168., 168.,   5.,   2., 117.,  21.,   3.,  37.,\n        17.,   5.,  11.,   8.,  12.,  46.,  22., 165.,   6.,   9.,  16.,   2.,   2.,  20.,  42.,   2.,   1.,   6.,\n         6., 133.,  74.,  65., 162.,   1.,   1.,   3., 166., 156.,   2.,  46.,  64., 159., 168.,  13.,   7.,   7.,\n       130.,  57.,   1.,  39.,  23.,   4., 165., 160., 167., 166.,  19.,   4.,  11.,   4.,   6.,  35.,   1.,   1.,\n         3.,   5., 127., 107.,  82.,   6.,   9.,   4., 158.,   2.,   4., 107., 154.,   3., 158., 149.,   4.,  20.,\n       168.,   6.,  14.,   1., 131.,  89., 165.,   4.,   4.,   3.,   5.,  13.,  54., 100.,  19.,  11., 102.,  34.,\n         2.,   2.,  16.,  14.,   3.,   5.,  40.,   6.,  39.,  10.,   2.,   2., 143.,   1., 152.,  57.,   9.,  11.,\n       123.,  17.,   5.,   7., 129., 166., 139.,   1.,  56.,   1.,   1.,   1., 150.,   1.,  23., 166.,  97.,  94.,\n       139., 137.,  13., 118., 148.,  23., 161.,  61.,   1.,   1.,  54., 126.,  55.,  84.,   8.,  82.,   1., 139.,\n       131.,  13.,   1.,  43., 167.,  70.,   4.,  26.,  15.,   1.,   6.,   2.,   1., 168.,  18.,  58.,  64.,   2.,\n         8.,   2., 116.,   5., 164.,   2.,   1.,  88.,   4.,   1.,   9., 165.,   1.,  20., 155.,   9., 150., 158.,\n         1.,   1.,   4.,   4.,  12.,  10., 167.,  16.,   1.,   1., 149.,  67.,   1.,   9.,   6.,  15., 145.,   1.,\n       115., 141., 134., 167.,  33.,  11.])"
     },
     "metadata": {},
     "output_type": "display_data",
     "transient": {}
    }
   ],
   "source": [
    "# Show some evals\n",
    "y_pred = gbm.predict(X_test)\n",
    "test_evals = SearchEvals(y=y_test, classes=classes, y_scores=y_pred)\n",
    "display(\n",
    "    X_test.shape,\n",
    "    y_pred.shape,\n",
    "    test_evals.score(),\n",
    "    test_evals.coverage_error(),\n",
    "    test_evals.coverage_errors(),\n",
    ")"
   ]
  },
  {
   "cell_type": "code",
   "execution_count": null,
   "metadata": {},
   "outputs": [
    {
     "data": {
      "image/png": "[encoded data removed]",
      "text/plain": "<PIL.Image.Image image mode=RGBA size=840x840 at 0x13746B9E8>"
     },
     "metadata": {},
     "output_type": "display_data",
     "transient": {}
    }
   ],
   "source": [
    "plot_confusion_matrix_df(\n",
    "    test_evals.confusion_matrix_prob_df(),\n",
    "    raw=True, scale=5,\n",
    ")"
   ]
  },
  {
   "cell_type": "code",
   "execution_count": null,
   "metadata": {},
   "outputs": [],
   "source": [
    "# TODO\n",
    "#   - Well, these coverage_errors and confusion_matrix results are pretty poor -- not at all competitive with rf given\n",
    "#     the same amount of train time\n",
    "#   - Probably need a lot more train time to get good results from gbm -- I guess the point is that you can get better\n",
    "#     performance from gbm than rf given infinite train time...?"
   ]
  },
  {
   "cell_type": "code",
   "execution_count": null,
   "metadata": {},
   "outputs": [],
   "source": []
  }
 ],
 "metadata": {
  "kernelspec": {
   "display_name": "python",
   "language": "python",
   "name": "python"
  }
 },
 "nbformat": 4,
 "nbformat_minor": 2
}
