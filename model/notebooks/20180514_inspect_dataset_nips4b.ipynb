{
 "cells": [
  {
   "cell_type": "code",
   "execution_count": null,
   "metadata": {},
   "outputs": [],
   "source": [
    "import glob\n",
    "from features import *\n",
    "from util import *\n",
    "\n",
    "figsize('inline_short');"
   ]
  },
  {
   "cell_type": "code",
   "execution_count": null,
   "metadata": {},
   "outputs": [],
   "source": [
    "glob.glob(f'{data_dir}/nips4b/*')"
   ]
  },
  {
   "cell_type": "code",
   "execution_count": null,
   "metadata": {},
   "outputs": [],
   "source": [
    "glob.glob(f'{data_dir}/nips4b/labels/*')"
   ]
  },
  {
   "cell_type": "code",
   "execution_count": null,
   "metadata": {},
   "outputs": [],
   "source": [
    "glob.glob(f'{data_dir}/nips4b/labels/*.csv')"
   ]
  },
  {
   "cell_type": "code",
   "execution_count": null,
   "metadata": {},
   "outputs": [],
   "source": [
    "# Boring\n",
    "# df = pd.read_csv(f'{data_dir}/nips4b/labels/example_NIPS4B13_submission_format_test_prediction.csv'); display(df.shape, df[:5])\n",
    "# df = pd.read_csv(f'{data_dir}/nips4b/labels/tps_canaux_sr_nbits_TRAIN.csv'); display(df.shape, df[:5])\n",
    "# df = pd.read_csv(f'{data_dir}/nips4b/labels/numero_file_train.csv', header=None); display(df.shape, df[:15].T)\n",
    "\n",
    "# Interesting\n",
    "classes_df = pd.read_csv(f'{data_dir}/nips4b/labels/nips4b_birdchallenge_espece_list.csv')\n",
    "labels_df = pd.read_csv(f'{data_dir}/nips4b/labels/nips4b_birdchallenge_train_labels.csv')"
   ]
  },
  {
   "cell_type": "code",
   "execution_count": null,
   "metadata": {},
   "outputs": [],
   "source": [
    "# What are the classes?\n",
    "display(\n",
    "    classes_df.shape,\n",
    "    classes_df,\n",
    ")"
   ]
  },
  {
   "cell_type": "code",
   "execution_count": null,
   "metadata": {},
   "outputs": [],
   "source": [
    "# What are the labels?\n",
    "display(\n",
    "    labels_df.shape,\n",
    "    labels_df[:7].T,\n",
    ")"
   ]
  },
  {
   "cell_type": "code",
   "execution_count": null,
   "metadata": {},
   "outputs": [],
   "source": [
    "(labels_df\n",
    "    [2:-1]\n",
    "    .T[4:]\n",
    "    .fillna(0)\n",
    "    .astype('int')\n",
    "    .sum()\n",
    "    .pipe(gghist)\n",
    "    + ggtitle('How many species per recording?')\n",
    ")"
   ]
  }
 ],
 "metadata": {
  "kernelspec": {
   "display_name": "python",
   "language": "python",
   "name": "python"
  }
 },
 "nbformat": 4,
 "nbformat_minor": 2
}
