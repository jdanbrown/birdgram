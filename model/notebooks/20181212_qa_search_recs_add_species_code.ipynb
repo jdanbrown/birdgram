{
 "cells": [
  {
   "cell_type": "markdown",
   "metadata": {},
   "source": [
    "# README\n",
    "1. Edit datasets.metadata_from_dataset\n",
    "    - Add species_code\n",
    "2. Bump cache versions\n",
    "    - config.api.recs.search_recs.params.config\n",
    "    - load.Load.recs\n",
    "    - load.Load._metadata"
   ]
  },
  {
   "cell_type": "markdown",
   "metadata": {},
   "source": [
    "# Notes: call stack for metadata.species.df + xc.metadata + search_recs\n",
    "  [ebird]\n",
    "    metadata.species.df (NOTE @cache_to_file_forever: data/metadata/cache/_taxa-v2)\n",
    "      metadata.species._raw_ebird_df\n",
    "        # read data/metadata/ebird-*-taxa-species.csv\n",
    "        metadata.species.add_species_group_cols\n",
    "          metadata.species._raw_ebird_clements_taxo_df\n",
    "            ... [taxo]\n",
    "  [taxo]\n",
    "    metadata.species._raw_ebird_clements_taxo_df\n",
    "      # read data/metadata/eBird-Clements-*.csv.gz (taxo)\n",
    "      # join manual magics (_UNK, _MUL, _NON)\n",
    "      # join on species_code\n",
    "      # join on unmatched rows on sci_name\n",
    "      # join on unmatched rows manually (using a manual table of com_name's)\n",
    "  [xc]\n",
    "    sg.xc_meta\n",
    "      sg.load_xc_meta (NOTE @cache.version)\n",
    "        datasets.load_xc_meta\n",
    "          datasets._xc.metadata (NOTE @cache.version)\n",
    "            datasets._xc._metadata (NOTE @cache.version)\n",
    "              # read data/xc/metadata/v1/*.pkl (xc_meta)\n",
    "            # join downloaded_ids\n",
    "            # join downloaded_page_metadata\n",
    "            datasets.XCDF\n",
    "              metadata.species.df\n",
    "                ... [ebird]\n",
    "              # add .species FK from metadata.species.df (ebird)\n",
    "              # join .taxon_order, .taxon_id from metadata.species.df (ebird)\n",
    "  [search_recs]\n",
    "    sg.search_recs\n",
    "      api.recs.get_search_recs\n",
    "        payloads.df_cache_hybrid (NOTE cache: config.api.recs.search_recs.params.config.version)\n",
    "          api.recs._compute_search_recs\n",
    "            sg.xc_meta\n",
    "              ... [xc]\n",
    "            api.recs.recs_featurize_pre_rank\n",
    "              api.recs.recs_featurize_metdata_audio_slice\n",
    "                api.recs.recs_featurize_metadata\n",
    "                  datasets.xc_meta_to_raw_recs\n",
    "                    load.recs (NOTE @cache.version)\n",
    "                      load.metadata\n",
    "                        load._metadata (NOTE @cache.version)\n",
    "                          datasets.metadata_from_dataset\n",
    "                            metadata.species.df\n",
    "                              ... [ebird]\n",
    "                            # join cols from species.*\n",
    "          payloads.write_mobile_payload\n",
    "            ... [payloads/mobile]\n",
    "  [payloads/mobile]\n",
    "    payloads.write_mobile_payload\n",
    "      # write data/cache/payloads/*/mobile/"
   ]
  },
  {
   "cell_type": "markdown",
   "metadata": {},
   "source": [
    "# TODO Simplify the above call stack -- always a time sink when I try to edit it, even for simple additions\n",
    "- Reorganize around core concepts, aligned with inputs/outputs\n",
    "    - Inputs (files on disk)\n",
    "        - ebird (metadata.species.df)\n",
    "        - taxo  (add_species_group_cols / _raw_ebird_clements_taxo_df)\n",
    "        - xc    (xc_meta / _xc.metadata)\n",
    "    - Outputs\n",
    "        - search_recs     (from ebird + taxo + xc)\n",
    "        - payloads/mobile (from search_recs)"
   ]
  },
  {
   "cell_type": "code",
   "execution_count": null,
   "metadata": {
    "time": "165.147s"
   },
   "outputs": [],
   "source": [
    "from notebooks import *\n",
    "sg.init(None, skip=[sg_load.load_search_recs])\n",
    "get_search_recs(write_mobile_payload=True)\n",
    "sg.init(None, reload=True)"
   ]
  },
  {
   "cell_type": "code",
   "execution_count": null,
   "metadata": {},
   "outputs": [],
   "source": [
    "(metadata.species.df\n",
    "    [:1].T\n",
    ")"
   ]
  },
  {
   "cell_type": "code",
   "execution_count": null,
   "metadata": {
    "time": "3.783s"
   },
   "outputs": [],
   "source": [
    "(xc.metadata\n",
    "    [:1].T\n",
    ")"
   ]
  },
  {
   "cell_type": "code",
   "execution_count": null,
   "metadata": {},
   "outputs": [],
   "source": [
    "# (sg.xc_meta\n",
    "#     [:1].T\n",
    "# )"
   ]
  },
  {
   "cell_type": "code",
   "execution_count": null,
   "metadata": {},
   "outputs": [],
   "source": [
    "(sg.search_recs\n",
    "    [:1].T\n",
    ")"
   ]
  },
  {
   "cell_type": "code",
   "execution_count": null,
   "metadata": {},
   "outputs": [],
   "source": []
  }
 ],
 "metadata": {
  "kernelspec": {
   "display_name": "bubo-features (PYTHONSTARTUP)",
   "language": "python",
   "name": "bubo-features (PYTHONSTARTUP)"
  }
 },
 "nbformat": 4,
 "nbformat_minor": 2
}
