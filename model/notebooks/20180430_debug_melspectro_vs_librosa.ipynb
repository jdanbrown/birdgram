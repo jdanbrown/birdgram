{
 "cells": [
  {
   "cell_type": "code",
   "execution_count": null,
   "metadata": {},
   "outputs": [],
   "source": [
    "from collections import OrderedDict\n",
    "import glob\n",
    "\n",
    "import joypy\n",
    "import librosa\n",
    "import librosa.display\n",
    "import scipy\n",
    "from scipy import signal\n",
    "from scipy.io import wavfile\n",
    "import tftb\n",
    "\n",
    "from util import *\n",
    "from util import _unpack_input\n",
    "\n",
    "figsize(aspect_ratio=1/6)\n",
    "None"
   ]
  },
  {
   "cell_type": "code",
   "execution_count": null,
   "metadata": {},
   "outputs": [],
   "source": [
    "# Load audio paths\n",
    "audio_paths = pd.DataFrame([\n",
    "    OrderedDict(\n",
    "        source=path.split('/')[-4],\n",
    "        species_code=path.split('/')[-3],\n",
    "        title=os.path.splitext(path.split('/')[-1])[0],\n",
    "        path=path,\n",
    "    )\n",
    "    for path in glob.glob(f'{peterson_dir}/*/audio/*')\n",
    "])\n",
    "display(\n",
    "    audio_paths[:5],\n",
    "    audio_paths.groupby(['source', 'species_code']).count(),\n",
    ")"
   ]
  },
  {
   "cell_type": "code",
   "execution_count": null,
   "metadata": {},
   "outputs": [],
   "source": [
    "# Load audio from paths\n",
    "recs_2ch = (audio_paths\n",
    "    [lambda df: df.species_code == 'wlswar'].reset_index(drop=True)  # For faster dev\n",
    "    [:5]  # For faster dev\n",
    "    .assign(audio=lambda df: df.reset_index(drop=True).apply(axis=1, func=lambda rec:\n",
    "        (\n",
    "            print(f'Loading audio {rec.name + 1}/{len(df)}: {rec.path}') if rec.name % (np.ceil(len(df) / 5) or 1) == 0 else None,\n",
    "            audiosegment.from_file(rec.path),\n",
    "        )[-1]\n",
    "    ))\n",
    ")\n",
    "recs_2ch.audio[:5]"
   ]
  },
  {
   "cell_type": "code",
   "execution_count": null,
   "metadata": {},
   "outputs": [],
   "source": [
    "recs = (recs_2ch\n",
    "    .assign(\n",
    "        # Merge stereo to mono so we don't get confused when handling samples (we don't care about stereo vs. mono)\n",
    "        audio=lambda df: df.audio.apply(lambda audio:\n",
    "            audio.resample(channels=1, sample_rate_Hz=standard_sample_rate_hz)\n",
    "            # audio.set_channels(1)  # TODO Any loss in fidelity by using .resample(channels=1)?\n",
    "        ),\n",
    "    )\n",
    "    .assign(\n",
    "        # Materialize audio samples\n",
    "        samples=lambda df: df.audio.map(lambda audio: audio.to_numpy_array()),\n",
    "    )\n",
    "    .pipe(df_reorder_cols, last=['path'])\n",
    ")\n",
    "recs[:5]"
   ]
  },
  {
   "cell_type": "code",
   "execution_count": null,
   "metadata": {},
   "outputs": [],
   "source": [
    "# Names for easier dev (better autocomplete)\n",
    "rec0 = recs.iloc[0]\n",
    "audio0 = rec0.audio"
   ]
  },
  {
   "cell_type": "code",
   "execution_count": null,
   "metadata": {},
   "outputs": [],
   "source": [
    "rec, audio, x, sample_rate = _unpack_input(audio0)"
   ]
  },
  {
   "cell_type": "code",
   "execution_count": null,
   "metadata": {},
   "outputs": [],
   "source": [
    "from util import *\n",
    "nperseg = 1024; overlap = 3/4; n_mels = nperseg // 4\n",
    "magic = nperseg // 2\n",
    "mel_basis = librosa.filters.mel(sample_rate, n_fft=nperseg, n_mels=n_mels); display(mel_basis.shape)"
   ]
  },
  {
   "cell_type": "code",
   "execution_count": null,
   "metadata": {},
   "outputs": [],
   "source": [
    "# A non-mel spectro, for comparison\n",
    "# plt_spectro(audio, nperseg=nperseg, overlap=overlap); plt.show()"
   ]
  },
  {
   "cell_type": "code",
   "execution_count": null,
   "metadata": {},
   "outputs": [],
   "source": [
    "# This should match the reference mel spectros below\n",
    "plt_melspectro(audio, nperseg=nperseg, overlap=overlap); plt.show()"
   ]
  },
  {
   "cell_type": "code",
   "execution_count": null,
   "metadata": {},
   "outputs": [],
   "source": [
    "# This should match the reference mel spectros below\n",
    "f, t, S = melspectro(audio, nperseg=nperseg, overlap=overlap)\n",
    "display(S.shape); plt.hist(S.flatten(), bins=100, log=True); plt.show()\n",
    "plt.pcolormesh(S); [s.set_visible(False) for s in plt.gca().spines.values()]; plt.show()"
   ]
  },
  {
   "cell_type": "code",
   "execution_count": null,
   "metadata": {},
   "outputs": [],
   "source": [
    "# This should match the reference mel spectros below\n",
    "f, t, S = spectro(audio, nperseg=nperseg, overlap=overlap, scaling='spectrum', mode='magnitude'); display(S.shape)\n",
    "S = S * magic\n",
    "S = S**2; display(S.shape)\n",
    "S = np.dot(mel_basis, S); display(S.shape)\n",
    "S = librosa.power_to_db(S)\n",
    "display(S.shape); plt.hist(S.flatten(), bins=100, log=True); plt.show()\n",
    "display((f.min(), f.max()))\n",
    "f = librosa.mel_frequencies(n_mels, f.min(), f.max()); display((f.min(), f.max()))\n",
    "plt.pcolormesh(t, f, S)\n",
    "plt.gca().set_yscale(value='symlog', basey=2, linthreshy=1024, linscaley=.5)\n",
    "plt.gca().xaxis.set_major_formatter(mpl.ticker.FormatStrFormatter('%ds'))\n",
    "plt.gca().yaxis.set_major_formatter(mpl.ticker.FuncFormatter(lambda x, pos=None: '%.0fKiHz' % int(x / 1024)))\n",
    "plt.gca().set_ylabel(''); plt.gca().set_xlabel(''); plt.gca().tick_params(labelsize=8)\n",
    "[s.set_visible(False) for s in plt.gca().spines.values()]\n",
    "plt.show()"
   ]
  },
  {
   "cell_type": "code",
   "execution_count": null,
   "metadata": {},
   "outputs": [],
   "source": [
    "# Reference: this is a \"correct\" mel spectro (with plt.pcolormesh instead of librosa.display.specshow)\n",
    "n_fft = nperseg\n",
    "S = librosa.power_to_db(librosa.feature.melspectrogram(x.astype(float), sample_rate, None, n_fft, int(n_fft*(1-overlap)), n_mels=n_mels, power=2))\n",
    "display(S.shape); plt.hist(S.flatten(), bins=100, log=True); plt.show()\n",
    "plt.pcolormesh(S); [s.set_visible(False) for s in plt.gca().spines.values()]; plt.show()"
   ]
  },
  {
   "cell_type": "code",
   "execution_count": null,
   "metadata": {},
   "outputs": [],
   "source": [
    "# Reference: this is a \"correct\" mel spectro (with proper axes)\n",
    "S = librosa.feature.melspectrogram(x.astype(float), sample_rate, None, n_fft, int(n_fft*(1-overlap)), n_mels=n_mels, power=2); display(S.shape)\n",
    "S = librosa.power_to_db(S)\n",
    "display(S.shape); plt.hist(S.flatten(), bins=100, log=True); plt.show()\n",
    "librosa.display.specshow(S, x_axis='time', y_axis='mel', cmap=plt.get_cmap())\n",
    "plt.gca().set_yscale(value='symlog', basey=2, linthreshy=1024, linscaley=.5)\n",
    "plt.gca().xaxis.set_major_formatter(mpl.ticker.FormatStrFormatter('%ds'))\n",
    "plt.gca().yaxis.set_major_formatter(mpl.ticker.FuncFormatter(lambda x, pos=None: '%.0fKiHz' % int(x / 1024)))\n",
    "# plt.gca().yaxis.set_major_formatter(mpl.ticker.FuncFormatter(lambda x, pos=None: '%.0fHz' % x))\n",
    "plt.gca().set_ylabel(''); plt.gca().set_xlabel(''); plt.gca().tick_params(labelsize=8)\n",
    "[s.set_visible(False) for s in plt.gca().spines.values()]\n",
    "plt.show()"
   ]
  }
 ],
 "metadata": {
  "kernelspec": {
   "display_name": "bubo-features (PYTHONSTARTUP)",
   "language": "python",
   "name": "bubo-features (PYTHONSTARTUP)"
  }
 },
 "nbformat": 4,
 "nbformat_minor": 2
}
