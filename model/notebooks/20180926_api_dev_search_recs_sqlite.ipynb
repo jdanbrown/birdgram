{
 "cells": [
  {
   "cell_type": "markdown",
   "metadata": {},
   "source": [
    "# Takeaways\n",
    "- Roundtrip works (TODO write tests)\n",
    "- Write perf\n",
    "    - No issues\n",
    "- Read perf\n",
    "    - 2.1s read_sql_table is fine, but ~7.5s to convert each feat col is too slow for server startup\n",
    "    - Bottleneck is npy bytes -> np.array\n",
    "    - But any optimization effort is a waste of time until we nail down how mobile will use the .sqlite payload...\n",
    "    - TODO Revist once we have an idea how mobile will use search_recs\n",
    "        - Will it want each array packed as bytes, like this?\n",
    "        - Or will it want array elements manifested as sql data, e.g. so it can query them using sql?\n",
    "        - Or something else entirely...?"
   ]
  },
  {
   "cell_type": "code",
   "execution_count": null,
   "metadata": {
    "time": "11.639s"
   },
   "outputs": [
    {
     "name": "stdout",
     "output_type": "stream",
     "text": "INFO     [12:42:56.990] [23091] 150 logging_/<module>: {logging_yaml: None}"
    },
    {
     "name": "stdout",
     "output_type": "stream",
     "text": "\n"
    },
    {
     "name": "stdout",
     "output_type": "stream",
     "text": "INFO     [12:42:57.436] [23091]  32 api.server_globals/init"
    },
    {
     "name": "stdout",
     "output_type": "stream",
     "text": "\n"
    },
    {
     "name": "stdout",
     "output_type": "stream",
     "text": "DEBUG    [12:42:57.443] [23091]  75 api.server_globals/load: load_search..."
    },
    {
     "name": "stdout",
     "output_type": "stream",
     "text": "\n"
    },
    {
     "name": "stdout",
     "output_type": "stream",
     "text": "INFO     [12:42:57.754] [23091]  79 api.server_globals/load: load_search (took 0.305s)"
    },
    {
     "name": "stdout",
     "output_type": "stream",
     "text": "\n"
    },
    {
     "name": "stdout",
     "output_type": "stream",
     "text": "DEBUG    [12:42:57.761] [23091]  75 api.server_globals/load: load_xc_meta..."
    },
    {
     "name": "stdout",
     "output_type": "stream",
     "text": "\n"
    },
    {
     "name": "stdout",
     "output_type": "stream",
     "text": "INFO     [12:42:58.088] [23091]  79 api.server_globals/load: load_xc_meta (took 0.319s)"
    },
    {
     "name": "stdout",
     "output_type": "stream",
     "text": "\n"
    },
    {
     "name": "stdout",
     "output_type": "stream",
     "text": "DEBUG    [12:42:58.094] [23091]  75 api.server_globals/load: load_feat_info..."
    },
    {
     "name": "stdout",
     "output_type": "stream",
     "text": "\n"
    },
    {
     "name": "stdout",
     "output_type": "stream",
     "text": "INFO     [12:42:58.102] [23091] 110 api.server_globals/load_feat_info"
    },
    {
     "name": "stdout",
     "output_type": "stream",
     "text": "\n"
    },
    {
     "name": "stdout",
     "output_type": "stream",
     "text": "INFO     [12:42:58.107] [23091]  79 api.server_globals/load: load_feat_info (took 0.005s)"
    },
    {
     "name": "stdout",
     "output_type": "stream",
     "text": "\n"
    },
    {
     "name": "stdout",
     "output_type": "stream",
     "text": "WARNING  [12:42:58.115] [23091]  73 api.server_globals/load: load_search_recs [skipped]"
    },
    {
     "name": "stdout",
     "output_type": "stream",
     "text": "\n"
    },
    {
     "name": "stdout",
     "output_type": "stream",
     "text": "INFO     [12:42:58.121] [23091]  34 api.server_globals/init: done"
    },
    {
     "name": "stdout",
     "output_type": "stream",
     "text": "\n"
    },
    {
     "name": "stdout",
     "output_type": "stream",
     "text": "\n"
    },
    {
     "name": "stdout",
     "output_type": "stream",
     "text": "search_recs(**{'refresh': True})"
    },
    {
     "name": "stdout",
     "output_type": "stream",
     "text": "\n"
    },
    {
     "name": "stdout",
     "output_type": "stream",
     "text": "INFO     [12:42:58.129] [23091] 600 api.recs/get_search_recs"
    },
    {
     "name": "stdout",
     "output_type": "stream",
     "text": "\n"
    },
    {
     "name": "stdout",
     "output_type": "stream",
     "text": "DEBUG    [12:42:58.226] [23091] 243 payloads/df_cache_sqlite: Connect {db_url: 'sqlite:////Users/danb/hack/bubo/features/data/cache/payloads/search_recs-version[2],limit[1000],audio_s[10],countries_k[na],com_names_k[ca],num_recs[None]-01b98fe.sqlite3'}"
    },
    {
     "name": "stdout",
     "output_type": "stream",
     "text": "\n"
    },
    {
     "name": "stderr",
     "output_type": "stream",
     "text": "\rdf_cache_sqlite:compute[search_recs]:   0%|                                                      | 0/1 [00:00<?, ?it/s]"
    },
    {
     "name": "stdout",
     "output_type": "stream",
     "text": "INFO     [12:42:58.241] [23091] 657 api.recs/_compute_search_recs: {len(sg.xc_meta): 35233, countries_k: na, com_names_k: ca, num_recs: null}"
    },
    {
     "name": "stdout",
     "output_type": "stream",
     "text": "\n"
    },
    {
     "name": "stdout",
     "output_type": "stream",
     "text": "DEBUG    [12:42:58.250] [23091] 685 api.recs/recs_featurize_pre_rank: batches (1/2) [start]"
    },
    {
     "name": "stdout",
     "output_type": "stream",
     "text": "\n"
    },
    {
     "name": "stdout",
     "output_type": "stream",
     "text": "\rf_preds: ["
    },
    {
     "name": "stdout",
     "output_type": "stream",
     "text": "                                                                                       "
    },
    {
     "name": "stdout",
     "output_type": "stream",
     "text": "] |   0% (500) |  0.0s"
    },
    {
     "name": "stdout",
     "output_type": "stream",
     "text": "\rf_preds: ["
    },
    {
     "name": "stdout",
     "output_type": "stream",
     "text": "                                                                                       "
    },
    {
     "name": "stdout",
     "output_type": "stream",
     "text": "] |   0% (500) |  0.2s"
    },
    {
     "name": "stdout",
     "output_type": "stream",
     "text": "\rf_preds: ["
    },
    {
     "name": "stdout",
     "output_type": "stream",
     "text": "                                                                                       "
    },
    {
     "name": "stdout",
     "output_type": "stream",
     "text": "] |   0% (500) |  0.3s"
    },
    {
     "name": "stdout",
     "output_type": "stream",
     "text": "\rf_preds: ["
    },
    {
     "name": "stdout",
     "output_type": "stream",
     "text": "#######################################################################################"
    },
    {
     "name": "stdout",
     "output_type": "stream",
     "text": "] | 100% (500) |  0.4s"
    },
    {
     "name": "stdout",
     "output_type": "stream",
     "text": "\n"
    },
    {
     "name": "stdout",
     "output_type": "stream",
     "text": "DEBUG    [12:43:00.316] [23091] 915 api.recs/recs_featurize_spectro_bytes: [start]"
    },
    {
     "name": "stdout",
     "output_type": "stream",
     "text": "\n"
    },
    {
     "name": "stderr",
     "output_type": "stream",
     "text": "\n"
    },
    {
     "name": "stderr",
     "output_type": "stream",
     "text": "\rrec_spectro_bytes:   0%|                                                                       | 0/500 [00:00<?, ?it/s]"
    },
    {
     "name": "stderr",
     "output_type": "stream",
     "text": "\n"
    },
    {
     "name": "stderr",
     "output_type": "stream",
     "text": "\rrec_spectro_bytes:  14%|████████▌                                                    | 70/500 [00:00<00:00, 689.97it/s]"
    },
    {
     "name": "stderr",
     "output_type": "stream",
     "text": "\n"
    },
    {
     "name": "stderr",
     "output_type": "stream",
     "text": "\rrec_spectro_bytes:  28%|████████████████▉                                           | 141/500 [00:00<00:00, 698.60it/s]"
    },
    {
     "name": "stderr",
     "output_type": "stream",
     "text": "\n"
    },
    {
     "name": "stderr",
     "output_type": "stream",
     "text": "\rrec_spectro_bytes:  42%|█████████████████████████                                   | 209/500 [00:00<00:00, 690.73it/s]"
    },
    {
     "name": "stderr",
     "output_type": "stream",
     "text": "\n"
    },
    {
     "name": "stderr",
     "output_type": "stream",
     "text": "\rrec_spectro_bytes:  55%|█████████████████████████████████▏                          | 277/500 [00:00<00:00, 688.16it/s]"
    },
    {
     "name": "stderr",
     "output_type": "stream",
     "text": "\n"
    },
    {
     "name": "stderr",
     "output_type": "stream",
     "text": "\rrec_spectro_bytes:  69%|█████████████████████████████████████████▍                  | 345/500 [00:00<00:00, 686.09it/s]"
    },
    {
     "name": "stderr",
     "output_type": "stream",
     "text": "\n"
    },
    {
     "name": "stderr",
     "output_type": "stream",
     "text": "\rrec_spectro_bytes:  83%|█████████████████████████████████████████████████▉          | 416/500 [00:00<00:00, 689.04it/s]"
    },
    {
     "name": "stderr",
     "output_type": "stream",
     "text": "\n"
    },
    {
     "name": "stderr",
     "output_type": "stream",
     "text": "\rrec_spectro_bytes:  97%|██████████████████████████████████████████████████████████▍ | 487/500 [00:00<00:00, 691.08it/s]"
    },
    {
     "name": "stderr",
     "output_type": "stream",
     "text": "\n"
    },
    {
     "name": "stderr",
     "output_type": "stream",
     "text": "\rrec_spectro_bytes: 100%|████████████████████████████████████████████████████████████| 500/500 [00:00<00:00, 687.09it/s]"
    },
    {
     "name": "stdout",
     "output_type": "stream",
     "text": "INFO     [12:43:01.061] [23091] 923 api.recs/recs_featurize_spectro_bytes: [0.745s]"
    },
    {
     "name": "stdout",
     "output_type": "stream",
     "text": "\n"
    },
    {
     "name": "stdout",
     "output_type": "stream",
     "text": "DEBUG    [12:43:01.069] [23091] 993 api.recs/recs_featurize_audio_bytes: [start]"
    },
    {
     "name": "stdout",
     "output_type": "stream",
     "text": "\n"
    },
    {
     "name": "stdout",
     "output_type": "stream",
     "text": "\raudio_bytes: ["
    },
    {
     "name": "stdout",
     "output_type": "stream",
     "text": "                                                                                   "
    },
    {
     "name": "stdout",
     "output_type": "stream",
     "text": "] |   0% (500) |  0.0s"
    },
    {
     "name": "stdout",
     "output_type": "stream",
     "text": "\raudio_bytes: ["
    },
    {
     "name": "stdout",
     "output_type": "stream",
     "text": "############################################################################       "
    },
    {
     "name": "stdout",
     "output_type": "stream",
     "text": "] |  92% (500) |  0.1s"
    },
    {
     "name": "stdout",
     "output_type": "stream",
     "text": "\raudio_bytes: ["
    },
    {
     "name": "stdout",
     "output_type": "stream",
     "text": "###################################################################################"
    },
    {
     "name": "stdout",
     "output_type": "stream",
     "text": "] | 100% (500) |  0.2s"
    },
    {
     "name": "stdout",
     "output_type": "stream",
     "text": "\n"
    },
    {
     "name": "stdout",
     "output_type": "stream",
     "text": "INFO     [12:43:01.315] [23091] 997 api.recs/recs_featurize_audio_bytes: [0.246s]"
    },
    {
     "name": "stdout",
     "output_type": "stream",
     "text": "\n"
    },
    {
     "name": "stdout",
     "output_type": "stream",
     "text": "INFO     [12:43:01.325] [23091] 685 api.recs/recs_featurize_pre_rank: batches (1/2) [3.076s]"
    },
    {
     "name": "stdout",
     "output_type": "stream",
     "text": "\n"
    },
    {
     "name": "stdout",
     "output_type": "stream",
     "text": "DEBUG    [12:43:01.332] [23091] 685 api.recs/recs_featurize_pre_rank: batches (2/2) [start]"
    },
    {
     "name": "stdout",
     "output_type": "stream",
     "text": "\n"
    },
    {
     "name": "stdout",
     "output_type": "stream",
     "text": "\rf_preds: ["
    },
    {
     "name": "stdout",
     "output_type": "stream",
     "text": "                                                                                       "
    },
    {
     "name": "stdout",
     "output_type": "stream",
     "text": "] |   0% (500) |  0.0s"
    },
    {
     "name": "stdout",
     "output_type": "stream",
     "text": "\rf_preds: ["
    },
    {
     "name": "stdout",
     "output_type": "stream",
     "text": "                                                                                       "
    },
    {
     "name": "stdout",
     "output_type": "stream",
     "text": "] |   0% (500) |  0.1s"
    },
    {
     "name": "stdout",
     "output_type": "stream",
     "text": "\rf_preds: ["
    },
    {
     "name": "stdout",
     "output_type": "stream",
     "text": "                                                                                       "
    },
    {
     "name": "stdout",
     "output_type": "stream",
     "text": "] |   0% (500) |  0.2s"
    },
    {
     "name": "stdout",
     "output_type": "stream",
     "text": "\rf_preds: ["
    },
    {
     "name": "stdout",
     "output_type": "stream",
     "text": "#######################################################################################"
    },
    {
     "name": "stdout",
     "output_type": "stream",
     "text": "] | 100% (500) |  0.3s"
    },
    {
     "name": "stdout",
     "output_type": "stream",
     "text": "\n"
    },
    {
     "name": "stdout",
     "output_type": "stream",
     "text": "DEBUG    [12:43:01.850] [23091] 915 api.recs/recs_featurize_spectro_bytes: [start]"
    },
    {
     "name": "stdout",
     "output_type": "stream",
     "text": "\n"
    },
    {
     "name": "stderr",
     "output_type": "stream",
     "text": "\n"
    },
    {
     "name": "stderr",
     "output_type": "stream",
     "text": "\rrec_spectro_bytes:   0%|                                                                       | 0/500 [00:00<?, ?it/s]"
    },
    {
     "name": "stderr",
     "output_type": "stream",
     "text": "\n"
    },
    {
     "name": "stderr",
     "output_type": "stream",
     "text": "\rrec_spectro_bytes:   9%|█████▏                                                       | 43/500 [00:00<00:01, 425.53it/s]"
    },
    {
     "name": "stderr",
     "output_type": "stream",
     "text": "\n"
    },
    {
     "name": "stderr",
     "output_type": "stream",
     "text": "\rrec_spectro_bytes:  17%|██████████▎                                                  | 85/500 [00:00<00:00, 421.95it/s]"
    },
    {
     "name": "stderr",
     "output_type": "stream",
     "text": "\n"
    },
    {
     "name": "stderr",
     "output_type": "stream",
     "text": "\rrec_spectro_bytes:  26%|███████████████▎                                            | 128/500 [00:00<00:00, 423.11it/s]"
    },
    {
     "name": "stderr",
     "output_type": "stream",
     "text": "\n"
    },
    {
     "name": "stderr",
     "output_type": "stream",
     "text": "\rrec_spectro_bytes:  34%|████████████████████▋                                       | 172/500 [00:00<00:00, 427.41it/s]"
    },
    {
     "name": "stderr",
     "output_type": "stream",
     "text": "\n"
    },
    {
     "name": "stderr",
     "output_type": "stream",
     "text": "\rrec_spectro_bytes:  43%|██████████████████████████                                  | 217/500 [00:00<00:00, 430.98it/s]"
    },
    {
     "name": "stderr",
     "output_type": "stream",
     "text": "\n"
    },
    {
     "name": "stderr",
     "output_type": "stream",
     "text": "\rrec_spectro_bytes:  52%|███████████████████████████████▏                            | 260/500 [00:00<00:00, 429.45it/s]"
    },
    {
     "name": "stderr",
     "output_type": "stream",
     "text": "\n"
    },
    {
     "name": "stderr",
     "output_type": "stream",
     "text": "\rrec_spectro_bytes:  60%|████████████████████████████████████                        | 301/500 [00:00<00:00, 425.58it/s]"
    },
    {
     "name": "stderr",
     "output_type": "stream",
     "text": "\n"
    },
    {
     "name": "stderr",
     "output_type": "stream",
     "text": "\rrec_spectro_bytes:  68%|█████████████████████████████████████████                   | 342/500 [00:00<00:00, 423.09it/s]"
    },
    {
     "name": "stderr",
     "output_type": "stream",
     "text": "\n"
    },
    {
     "name": "stderr",
     "output_type": "stream",
     "text": "\rrec_spectro_bytes:  77%|█████████████████████████████████████████████▉              | 383/500 [00:00<00:00, 421.20it/s]"
    },
    {
     "name": "stderr",
     "output_type": "stream",
     "text": "\n"
    },
    {
     "name": "stderr",
     "output_type": "stream",
     "text": "\rrec_spectro_bytes:  85%|███████████████████████████████████████████████████         | 426/500 [00:01<00:00, 421.86it/s]"
    },
    {
     "name": "stderr",
     "output_type": "stream",
     "text": "\n"
    },
    {
     "name": "stderr",
     "output_type": "stream",
     "text": "\rrec_spectro_bytes:  93%|████████████████████████████████████████████████████████    | 467/500 [00:01<00:00, 420.54it/s]"
    },
    {
     "name": "stderr",
     "output_type": "stream",
     "text": "\n"
    },
    {
     "name": "stderr",
     "output_type": "stream",
     "text": "\rrec_spectro_bytes: 100%|████████████████████████████████████████████████████████████| 500/500 [00:01<00:00, 419.44it/s]"
    },
    {
     "name": "stdout",
     "output_type": "stream",
     "text": "INFO     [12:43:03.060] [23091] 923 api.recs/recs_featurize_spectro_bytes: [1.211s]"
    },
    {
     "name": "stdout",
     "output_type": "stream",
     "text": "\n"
    },
    {
     "name": "stdout",
     "output_type": "stream",
     "text": "DEBUG    [12:43:03.068] [23091] 993 api.recs/recs_featurize_audio_bytes: [start]"
    },
    {
     "name": "stdout",
     "output_type": "stream",
     "text": "\n"
    },
    {
     "name": "stdout",
     "output_type": "stream",
     "text": "\raudio_bytes: ["
    },
    {
     "name": "stdout",
     "output_type": "stream",
     "text": "                                                                                   "
    },
    {
     "name": "stdout",
     "output_type": "stream",
     "text": "] |   0% (500) |  0.0s"
    },
    {
     "name": "stdout",
     "output_type": "stream",
     "text": "\raudio_bytes: ["
    },
    {
     "name": "stdout",
     "output_type": "stream",
     "text": "######################################################################             "
    },
    {
     "name": "stdout",
     "output_type": "stream",
     "text": "] |  84% (500) |  0.1s"
    },
    {
     "name": "stdout",
     "output_type": "stream",
     "text": "\raudio_bytes: ["
    },
    {
     "name": "stdout",
     "output_type": "stream",
     "text": "###################################################################################"
    },
    {
     "name": "stdout",
     "output_type": "stream",
     "text": "] | 100% (500) |  0.2s"
    },
    {
     "name": "stdout",
     "output_type": "stream",
     "text": "\n"
    },
    {
     "name": "stdout",
     "output_type": "stream",
     "text": "INFO     [12:43:03.311] [23091] 997 api.recs/recs_featurize_audio_bytes: [0.242s]"
    },
    {
     "name": "stdout",
     "output_type": "stream",
     "text": "\n"
    },
    {
     "name": "stdout",
     "output_type": "stream",
     "text": "INFO     [12:43:03.321] [23091] 685 api.recs/recs_featurize_pre_rank: batches (2/2) [1.989s]"
    },
    {
     "name": "stdout",
     "output_type": "stream",
     "text": "\n"
    },
    {
     "name": "stderr",
     "output_type": "stream",
     "text": "\rdf_cache_sqlite:compute[search_recs]: 100%|██████████████████████████████████████████████| 1/1 [00:05<00:00,  5.11s/it]"
    },
    {
     "name": "stderr",
     "output_type": "stream",
     "text": "\n"
    },
    {
     "name": "stdout",
     "output_type": "stream",
     "text": "\rdf_cache_sqlite:col_to_sql[search_recs: json_dumps_canonical(background)]: ["
    },
    {
     "name": "stdout",
     "output_type": "stream",
     "text": "                    "
    },
    {
     "name": "stdout",
     "output_type": "stream",
     "text": "] |   0% (1000) |  0.0s"
    },
    {
     "name": "stdout",
     "output_type": "stream",
     "text": "\rdf_cache_sqlite:col_to_sql[search_recs: json_dumps_canonical(background)]: ["
    },
    {
     "name": "stdout",
     "output_type": "stream",
     "text": "####################"
    },
    {
     "name": "stdout",
     "output_type": "stream",
     "text": "] | 100% (1000) |  0.1s"
    },
    {
     "name": "stdout",
     "output_type": "stream",
     "text": "\n"
    },
    {
     "name": "stdout",
     "output_type": "stream",
     "text": "\rdf_cache_sqlite:col_to_sql[search_recs: json_dumps_canonical(background_species)]: ["
    },
    {
     "name": "stdout",
     "output_type": "stream",
     "text": "            "
    },
    {
     "name": "stdout",
     "output_type": "stream",
     "text": "] |   0% (1000) |  0.0s"
    },
    {
     "name": "stdout",
     "output_type": "stream",
     "text": "\rdf_cache_sqlite:col_to_sql[search_recs: json_dumps_canonical(background_species)]: ["
    },
    {
     "name": "stdout",
     "output_type": "stream",
     "text": "############"
    },
    {
     "name": "stdout",
     "output_type": "stream",
     "text": "] | 100% (1000) |  0.1s"
    },
    {
     "name": "stdout",
     "output_type": "stream",
     "text": "\n"
    },
    {
     "name": "stdout",
     "output_type": "stream",
     "text": "\rdf_cache_sqlite:col_to_sql[search_recs: np_save_to_bytes(f_preds)]: ["
    },
    {
     "name": "stdout",
     "output_type": "stream",
     "text": "                           "
    },
    {
     "name": "stdout",
     "output_type": "stream",
     "text": "] |   0% (1000) |  0.0s"
    },
    {
     "name": "stdout",
     "output_type": "stream",
     "text": "\rdf_cache_sqlite:col_to_sql[search_recs: np_save_to_bytes(f_preds)]: ["
    },
    {
     "name": "stdout",
     "output_type": "stream",
     "text": "###############            "
    },
    {
     "name": "stdout",
     "output_type": "stream",
     "text": "] |  56% (1000) |  0.1s"
    },
    {
     "name": "stdout",
     "output_type": "stream",
     "text": "\rdf_cache_sqlite:col_to_sql[search_recs: np_save_to_bytes(f_preds)]: ["
    },
    {
     "name": "stdout",
     "output_type": "stream",
     "text": "###########################"
    },
    {
     "name": "stdout",
     "output_type": "stream",
     "text": "] | 100% (1000) |  0.2s"
    },
    {
     "name": "stdout",
     "output_type": "stream",
     "text": "\n"
    },
    {
     "name": "stdout",
     "output_type": "stream",
     "text": "\rdf_cache_sqlite:col_to_sql[search_recs: np_save_to_bytes(feat)]: ["
    },
    {
     "name": "stdout",
     "output_type": "stream",
     "text": "                              "
    },
    {
     "name": "stdout",
     "output_type": "stream",
     "text": "] |   0% (1000) |  0.0s"
    },
    {
     "name": "stdout",
     "output_type": "stream",
     "text": "\rdf_cache_sqlite:col_to_sql[search_recs: np_save_to_bytes(feat)]: ["
    },
    {
     "name": "stdout",
     "output_type": "stream",
     "text": "################              "
    },
    {
     "name": "stdout",
     "output_type": "stream",
     "text": "] |  53% (1000) |  0.1s"
    },
    {
     "name": "stdout",
     "output_type": "stream",
     "text": "\rdf_cache_sqlite:col_to_sql[search_recs: np_save_to_bytes(feat)]: ["
    },
    {
     "name": "stdout",
     "output_type": "stream",
     "text": "##############################"
    },
    {
     "name": "stdout",
     "output_type": "stream",
     "text": "] | 100% (1000) |  0.3s"
    },
    {
     "name": "stdout",
     "output_type": "stream",
     "text": "\n"
    },
    {
     "name": "stdout",
     "output_type": "stream",
     "text": "\rdf_cache_sqlite:df.to_sql[search_recs]: ["
    },
    {
     "name": "stdout",
     "output_type": "stream",
     "text": "                                                       "
    },
    {
     "name": "stdout",
     "output_type": "stream",
     "text": "] |   0% (1000) |  0.0s"
    },
    {
     "name": "stdout",
     "output_type": "stream",
     "text": "\rdf_cache_sqlite:df.to_sql[search_recs]: ["
    },
    {
     "name": "stdout",
     "output_type": "stream",
     "text": "                                                       "
    },
    {
     "name": "stdout",
     "output_type": "stream",
     "text": "] |   0% (1000) |  0.2s"
    },
    {
     "name": "stdout",
     "output_type": "stream",
     "text": "\rdf_cache_sqlite:df.to_sql[search_recs]: ["
    },
    {
     "name": "stdout",
     "output_type": "stream",
     "text": "                                                       "
    },
    {
     "name": "stdout",
     "output_type": "stream",
     "text": "] |   0% (1000) |  0.3s"
    },
    {
     "name": "stdout",
     "output_type": "stream",
     "text": "\rdf_cache_sqlite:df.to_sql[search_recs]: ["
    },
    {
     "name": "stdout",
     "output_type": "stream",
     "text": "                                                       "
    },
    {
     "name": "stdout",
     "output_type": "stream",
     "text": "] |   0% (1000) |  0.4s"
    },
    {
     "name": "stdout",
     "output_type": "stream",
     "text": "\rdf_cache_sqlite:df.to_sql[search_recs]: ["
    },
    {
     "name": "stdout",
     "output_type": "stream",
     "text": "                                                       "
    },
    {
     "name": "stdout",
     "output_type": "stream",
     "text": "] |   0% (1000) |  0.5s"
    },
    {
     "name": "stdout",
     "output_type": "stream",
     "text": "\rdf_cache_sqlite:df.to_sql[search_recs]: ["
    },
    {
     "name": "stdout",
     "output_type": "stream",
     "text": "                                                       "
    },
    {
     "name": "stdout",
     "output_type": "stream",
     "text": "] |   0% (1000) |  0.6s"
    },
    {
     "name": "stdout",
     "output_type": "stream",
     "text": "\rdf_cache_sqlite:df.to_sql[search_recs]: ["
    },
    {
     "name": "stdout",
     "output_type": "stream",
     "text": "                                                       "
    },
    {
     "name": "stdout",
     "output_type": "stream",
     "text": "] |   0% (1000) |  0.7s"
    },
    {
     "name": "stdout",
     "output_type": "stream",
     "text": "\rdf_cache_sqlite:df.to_sql[search_recs]: ["
    },
    {
     "name": "stdout",
     "output_type": "stream",
     "text": "                                                       "
    },
    {
     "name": "stdout",
     "output_type": "stream",
     "text": "] |   0% (1000) |  0.8s"
    },
    {
     "name": "stdout",
     "output_type": "stream",
     "text": "\rdf_cache_sqlite:df.to_sql[search_recs]: ["
    },
    {
     "name": "stdout",
     "output_type": "stream",
     "text": "                                                       "
    },
    {
     "name": "stdout",
     "output_type": "stream",
     "text": "] |   0% (1000) |  0.9s"
    },
    {
     "name": "stdout",
     "output_type": "stream",
     "text": "\rdf_cache_sqlite:df.to_sql[search_recs]: ["
    },
    {
     "name": "stdout",
     "output_type": "stream",
     "text": "                                                       "
    },
    {
     "name": "stdout",
     "output_type": "stream",
     "text": "] |   0% (1000) |  1.0s"
    },
    {
     "name": "stdout",
     "output_type": "stream",
     "text": "\rdf_cache_sqlite:df.to_sql[search_recs]: ["
    },
    {
     "name": "stdout",
     "output_type": "stream",
     "text": "#######################################################"
    },
    {
     "name": "stdout",
     "output_type": "stream",
     "text": "] | 100% (1000) |  1.1s"
    },
    {
     "name": "stdout",
     "output_type": "stream",
     "text": "\n"
    },
    {
     "name": "stderr",
     "output_type": "stream",
     "text": "\rdf_cache_sqlite:df.to_sql[_search_recs_bubo_metadata]:   0%|                                     | 0/1 [00:00<?, ?it/s]"
    },
    {
     "name": "stderr",
     "output_type": "stream",
     "text": "\rdf_cache_sqlite:df.to_sql[_search_recs_bubo_metadata]: 100%|████████████████████████████| 1/1 [00:00<00:00, 110.07it/s]"
    },
    {
     "name": "stderr",
     "output_type": "stream",
     "text": "\n"
    },
    {
     "data": {
      "text/html": "<table border=\"1\" class=\"dataframe\">\n  <thead>\n    <tr style=\"text-align: right;\">\n      <th></th>\n      <th>size</th>\n      <th>type</th>\n      <th>0</th>\n    </tr>\n  </thead>\n  <tbody>\n    <tr>\n      <th>xc_id</th>\n      <td>36</td>\n      <td><div class=\"not-number\">int</div></td>\n      <td>413174</td>\n    </tr>\n    <tr>\n      <th>feat</th>\n      <td>6104</td>\n      <td><div class=\"not-number\">ndarray</div></td>\n      <td><div class=\"not-number\">[ 9.259e-02 -3.927e-02  4.972e-01 -4.154e-04 -4.900e-02 -6.117e-02  3.974e-02 -1.629e-01  6.649e-02 -1.643e-02\n -8.081e-02 -7.604e-02 -9.098e-02  4.766e-02 -4.830e-02 -6.90...</td>\n    </tr>\n    <tr>\n      <th>f_preds</th>\n      <td>104</td>\n      <td><div class=\"not-number\">ndarray</div></td>\n      <td><div class=\"not-number\">[3.219e-03 1.693e-03 4.284e-05 3.685e-03 1.657e-03 1.457e-02 9.939e-03 1.444e-03 2.617e-04 6.943e-04 4.435e-04\n 7.072e-04 2.569e-03 9.745e-03 8.396e-04 2.003e-03 7.801e-04 ...</td>\n    </tr>\n    <tr>\n      <th>background</th>\n      <td>80</td>\n      <td><div class=\"not-number\">list</div></td>\n      <td><div class=\"not-number\">['White-crowned Sparrow (Zonotrichia leucophrys)']</div></td>\n    </tr>\n    <tr>\n      <th>background_species</th>\n      <td>80</td>\n      <td><div class=\"not-number\">list</div></td>\n      <td><div class=\"not-number\">['WCSP']</div></td>\n    </tr>\n  </tbody>\n</table>",
      "text/plain": "                    size     type                                                                                                                                                                                                        0\nxc_id                 36      int                                                                                                                                                                                                   413174\nfeat                6104  ndarray  [0.09258732, -0.039267898, 0.49721217, -0.00041539228, -0.048999168, -0.0611713, 0.03974079, -0.16286443, 0.06649229, -0.016432613, -0.080809884, -0.076037146, -0.090977564, 0.047662657, -0.048301...\nf_preds              104  ndarray  [0.003219216, 0.0016933391, 4.2837153e-05, 0.0036848816, 0.0016570376, 0.014565381, 0.0099388985, 0.0014441155, 0.0002616892, 0.0006942802, 0.0004434612, 0.00070716365, 0.0025688438, 0.009744544, ...\nbackground            80     list                                                                                                                                                         [White-crowned Sparrow (Zonotrichia leucophrys)]\nbackground_species    80     list                                                                                                                                                                                                   [WCSP]"
     },
     "metadata": {},
     "output_type": "display_data",
     "transient": {}
    },
    {
     "name": "stdout",
     "output_type": "stream",
     "text": "\n"
    },
    {
     "name": "stdout",
     "output_type": "stream",
     "text": "search_recs(**{})"
    },
    {
     "name": "stdout",
     "output_type": "stream",
     "text": "\n"
    },
    {
     "name": "stdout",
     "output_type": "stream",
     "text": "INFO     [12:43:05.502] [23091] 600 api.recs/get_search_recs"
    },
    {
     "name": "stdout",
     "output_type": "stream",
     "text": "\n"
    },
    {
     "name": "stdout",
     "output_type": "stream",
     "text": "DEBUG    [12:43:05.517] [23091] 243 payloads/df_cache_sqlite: Connect {db_url: 'sqlite:////Users/danb/hack/bubo/features/data/cache/payloads/search_recs-version[2],limit[1000],audio_s[10],countries_k[na],com_names_k[ca],num_recs[None]-01b98fe.sqlite3'}"
    },
    {
     "name": "stdout",
     "output_type": "stream",
     "text": "\n"
    },
    {
     "name": "stderr",
     "output_type": "stream",
     "text": "\rdf_cache_sqlite:pd.read_sql_table[_search_recs_bubo_metadata]:   0%|                             | 0/1 [00:00<?, ?it/s]"
    },
    {
     "name": "stderr",
     "output_type": "stream",
     "text": "\rdf_cache_sqlite:pd.read_sql_table[_search_recs_bubo_metadata]: 100%|████████████████████| 1/1 [00:00<00:00, 147.82it/s]"
    },
    {
     "name": "stderr",
     "output_type": "stream",
     "text": "\n"
    },
    {
     "name": "stdout",
     "output_type": "stream",
     "text": "DEBUG    [12:43:05.536] [23091] 315 payloads/df_cache_sqlite: select count(*) from search_recs"
    },
    {
     "name": "stdout",
     "output_type": "stream",
     "text": "\n"
    },
    {
     "name": "stdout",
     "output_type": "stream",
     "text": "\rdf_cache_sqlite:pd.read_sql_table[search_recs]: ["
    },
    {
     "name": "stdout",
     "output_type": "stream",
     "text": "                                               "
    },
    {
     "name": "stdout",
     "output_type": "stream",
     "text": "] |   0% (1000) |  0.0s"
    },
    {
     "name": "stdout",
     "output_type": "stream",
     "text": "\rdf_cache_sqlite:pd.read_sql_table[search_recs]: ["
    },
    {
     "name": "stdout",
     "output_type": "stream",
     "text": "                                               "
    },
    {
     "name": "stdout",
     "output_type": "stream",
     "text": "] |   0% (1000) |  0.1s"
    },
    {
     "name": "stdout",
     "output_type": "stream",
     "text": "\rdf_cache_sqlite:pd.read_sql_table[search_recs]: ["
    },
    {
     "name": "stdout",
     "output_type": "stream",
     "text": "###############################################"
    },
    {
     "name": "stdout",
     "output_type": "stream",
     "text": "] | 100% (1000) |  0.2s"
    },
    {
     "name": "stdout",
     "output_type": "stream",
     "text": "\n"
    },
    {
     "name": "stdout",
     "output_type": "stream",
     "text": "\rdf_cache_sqlite:col_from_sql[search_recs: loads(background)]: ["
    },
    {
     "name": "stdout",
     "output_type": "stream",
     "text": "                                 "
    },
    {
     "name": "stdout",
     "output_type": "stream",
     "text": "] |   0% (1000) |  0.0s"
    },
    {
     "name": "stdout",
     "output_type": "stream",
     "text": "\rdf_cache_sqlite:col_from_sql[search_recs: loads(background)]: ["
    },
    {
     "name": "stdout",
     "output_type": "stream",
     "text": "#################################"
    },
    {
     "name": "stdout",
     "output_type": "stream",
     "text": "] | 100% (1000) |  0.1s"
    },
    {
     "name": "stdout",
     "output_type": "stream",
     "text": "\n"
    },
    {
     "name": "stdout",
     "output_type": "stream",
     "text": "\rdf_cache_sqlite:col_from_sql[search_recs: loads(background_species)]: ["
    },
    {
     "name": "stdout",
     "output_type": "stream",
     "text": "                         "
    },
    {
     "name": "stdout",
     "output_type": "stream",
     "text": "] |   0% (1000) |  0.0s"
    },
    {
     "name": "stdout",
     "output_type": "stream",
     "text": "\rdf_cache_sqlite:col_from_sql[search_recs: loads(background_species)]: ["
    },
    {
     "name": "stdout",
     "output_type": "stream",
     "text": "#########################"
    },
    {
     "name": "stdout",
     "output_type": "stream",
     "text": "] | 100% (1000) |  0.1s"
    },
    {
     "name": "stdout",
     "output_type": "stream",
     "text": "\n"
    },
    {
     "name": "stdout",
     "output_type": "stream",
     "text": "\rdf_cache_sqlite:col_from_sql[search_recs: np_load_from_bytes(f_preds)]: ["
    },
    {
     "name": "stdout",
     "output_type": "stream",
     "text": "                       "
    },
    {
     "name": "stdout",
     "output_type": "stream",
     "text": "] |   0% (1000) |  0.0s"
    },
    {
     "name": "stdout",
     "output_type": "stream",
     "text": "\rdf_cache_sqlite:col_from_sql[search_recs: np_load_from_bytes(f_preds)]: ["
    },
    {
     "name": "stdout",
     "output_type": "stream",
     "text": "#########              "
    },
    {
     "name": "stdout",
     "output_type": "stream",
     "text": "] |  41% (1000) |  0.1s"
    },
    {
     "name": "stdout",
     "output_type": "stream",
     "text": "\rdf_cache_sqlite:col_from_sql[search_recs: np_load_from_bytes(f_preds)]: ["
    },
    {
     "name": "stdout",
     "output_type": "stream",
     "text": "####################   "
    },
    {
     "name": "stdout",
     "output_type": "stream",
     "text": "] |  88% (1000) |  0.3s"
    },
    {
     "name": "stdout",
     "output_type": "stream",
     "text": "\rdf_cache_sqlite:col_from_sql[search_recs: np_load_from_bytes(f_preds)]: ["
    },
    {
     "name": "stdout",
     "output_type": "stream",
     "text": "#######################"
    },
    {
     "name": "stdout",
     "output_type": "stream",
     "text": "] | 100% (1000) |  0.4s"
    },
    {
     "name": "stdout",
     "output_type": "stream",
     "text": "\n"
    },
    {
     "name": "stdout",
     "output_type": "stream",
     "text": "\rdf_cache_sqlite:col_from_sql[search_recs: np_load_from_bytes(feat)]: ["
    },
    {
     "name": "stdout",
     "output_type": "stream",
     "text": "                          "
    },
    {
     "name": "stdout",
     "output_type": "stream",
     "text": "] |   0% (1000) |  0.0s"
    },
    {
     "name": "stdout",
     "output_type": "stream",
     "text": "\rdf_cache_sqlite:col_from_sql[search_recs: np_load_from_bytes(feat)]: ["
    },
    {
     "name": "stdout",
     "output_type": "stream",
     "text": "#########                 "
    },
    {
     "name": "stdout",
     "output_type": "stream",
     "text": "] |  37% (1000) |  0.1s"
    },
    {
     "name": "stdout",
     "output_type": "stream",
     "text": "\rdf_cache_sqlite:col_from_sql[search_recs: np_load_from_bytes(feat)]: ["
    },
    {
     "name": "stdout",
     "output_type": "stream",
     "text": "#####################     "
    },
    {
     "name": "stdout",
     "output_type": "stream",
     "text": "] |  82% (1000) |  0.3s"
    },
    {
     "name": "stdout",
     "output_type": "stream",
     "text": "\rdf_cache_sqlite:col_from_sql[search_recs: np_load_from_bytes(feat)]: ["
    },
    {
     "name": "stdout",
     "output_type": "stream",
     "text": "##########################"
    },
    {
     "name": "stdout",
     "output_type": "stream",
     "text": "] | 100% (1000) |  0.4s"
    },
    {
     "name": "stdout",
     "output_type": "stream",
     "text": "\n"
    },
    {
     "name": "stdout",
     "output_type": "stream",
     "text": "\rdtypes: ["
    },
    {
     "name": "stdout",
     "output_type": "stream",
     "text": "                                                                                          "
    },
    {
     "name": "stdout",
     "output_type": "stream",
     "text": "] |   0% (1) |  0.0s"
    },
    {
     "name": "stdout",
     "output_type": "stream",
     "text": "\rdtypes: ["
    },
    {
     "name": "stdout",
     "output_type": "stream",
     "text": "##########################################################################################"
    },
    {
     "name": "stdout",
     "output_type": "stream",
     "text": "] | 100% (1) |  0.1s"
    },
    {
     "name": "stdout",
     "output_type": "stream",
     "text": "\n"
    },
    {
     "data": {
      "text/html": "<table border=\"1\" class=\"dataframe\">\n  <thead>\n    <tr style=\"text-align: right;\">\n      <th></th>\n      <th>size</th>\n      <th>type</th>\n      <th>0</th>\n    </tr>\n  </thead>\n  <tbody>\n    <tr>\n      <th>xc_id</th>\n      <td>36</td>\n      <td><div class=\"not-number\">int</div></td>\n      <td>413174</td>\n    </tr>\n    <tr>\n      <th>feat</th>\n      <td>6104</td>\n      <td><div class=\"not-number\">ndarray</div></td>\n      <td><div class=\"not-number\">[ 9.259e-02 -3.927e-02  4.972e-01 -4.154e-04 -4.900e-02 -6.117e-02  3.974e-02 -1.629e-01  6.649e-02 -1.643e-02\n -8.081e-02 -7.604e-02 -9.098e-02  4.766e-02 -4.830e-02 -6.90...</td>\n    </tr>\n    <tr>\n      <th>f_preds</th>\n      <td>1428</td>\n      <td><div class=\"not-number\">ndarray</div></td>\n      <td><div class=\"not-number\">[3.219e-03 1.693e-03 4.284e-05 3.685e-03 1.657e-03 1.457e-02 9.939e-03 1.444e-03 2.617e-04 6.943e-04 4.435e-04\n 7.072e-04 2.569e-03 9.745e-03 8.396e-04 2.003e-03 7.801e-04 ...</td>\n    </tr>\n    <tr>\n      <th>background</th>\n      <td>80</td>\n      <td><div class=\"not-number\">list</div></td>\n      <td><div class=\"not-number\">['White-crowned Sparrow (Zonotrichia leucophrys)']</div></td>\n    </tr>\n    <tr>\n      <th>background_species</th>\n      <td>80</td>\n      <td><div class=\"not-number\">list</div></td>\n      <td><div class=\"not-number\">['WCSP']</div></td>\n    </tr>\n  </tbody>\n</table>",
      "text/plain": "                    size     type                                                                                                                                                                                                        0\nxc_id                 36      int                                                                                                                                                                                                   413174\nfeat                6104  ndarray  [0.09258732, -0.039267898, 0.49721217, -0.00041539228, -0.048999168, -0.0611713, 0.03974079, -0.16286443, 0.06649229, -0.016432613, -0.080809884, -0.076037146, -0.090977564, 0.047662657, -0.048301...\nf_preds             1428  ndarray  [0.003219216, 0.0016933391, 4.2837153e-05, 0.0036848816, 0.0016570376, 0.014565381, 0.0099388985, 0.0014441155, 0.0002616892, 0.0006942802, 0.0004434612, 0.00070716365, 0.0025688438, 0.009744544, ...\nbackground            80     list                                                                                                                                                         [White-crowned Sparrow (Zonotrichia leucophrys)]\nbackground_species    80     list                                                                                                                                                                                                   [WCSP]"
     },
     "metadata": {},
     "output_type": "display_data",
     "transient": {}
    }
   ],
   "source": [
    "from notebooks import *\n",
    "sg.init(None, skip=[sg_load.load_search_recs])\n",
    "get_search_recs.cache_clear()\n",
    "kwargss = [\n",
    "    dict(refresh=True),  # Cache miss\n",
    "    dict(),  # Cache hit\n",
    "]\n",
    "search_recss = []\n",
    "for kwargs in kwargss:\n",
    "    print()\n",
    "    print(f'search_recs(**{kwargs})')\n",
    "    search_recs = get_search_recs(**kwargs, cache_type='sqlite')\n",
    "    search_recss.append(search_recs)\n",
    "    display(search_recs\n",
    "        [['xc_id', 'feat', 'f_preds', 'background', 'background_species']]\n",
    "        [2:3].reset_index(drop=True).T\n",
    "        .pipe(df_assign_first,\n",
    "            size=lambda df: df.T.memory_usage(deep=True),\n",
    "            type=lambda df: df[0].map(lambda x: type(x).__name__),\n",
    "        )\n",
    "    )"
   ]
  },
  {
   "cell_type": "code",
   "execution_count": null,
   "metadata": {},
   "outputs": [],
   "source": [
    "# TODO Write tests\n",
    "#   - Should roundtrip, should preserve category dtypes, should fail if index present\n",
    "[a, b] = search_recss\n",
    "pd.testing.assert_frame_equal(a, b, check_index_type=True, check_column_type=True)"
   ]
  },
  {
   "cell_type": "code",
   "execution_count": null,
   "metadata": {},
   "outputs": [],
   "source": []
  }
 ],
 "metadata": {
  "kernelspec": {
   "display_name": "bubo-features (PYTHONSTARTUP)",
   "language": "python",
   "name": "bubo-features (PYTHONSTARTUP)"
  }
 },
 "nbformat": 4,
 "nbformat_minor": 2
}
