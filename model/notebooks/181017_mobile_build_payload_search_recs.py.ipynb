{
 "cells": [
  {
   "cell_type": "markdown",
   "metadata": {},
   "source": [
    "# Takeaways\n",
    "- Maintain separate payloads for api vs. mobile\n",
    "    - Faster to read/write .parquet + .npy, but only api can use those\n",
    "    - Mobile needs to use .sqlite + files (.png, .mp4), but it's slower for both read and write\n",
    "- TODO Still more room to compress mobile payloads\n",
    "    - 71% of payload: audio\n",
    "        - Can be cut in ~half if we can drop 32k -> 16k (maybe with aac_he?)\n",
    "            - Android supports HE-AACv2: https://developer.android.com/guide/topics/media/media-formats\n",
    "            - But ios doesn't? https://apple.co/2NORQHB\n",
    "        - Payload 1.98g -> ~1.28g -- ✅ ~35% of payload\n",
    "    - 21% of payload: spectro\n",
    "        - Not much excess: maybe ~5% of spectros (see notebooks/spectro_img_encode)\n",
    "        - Payload 1.98g -> ~1.96g -- ❌ ~1% of payload\n",
    "    - 5.9% of payload: f_preds_* sqlite cols (n_sp=331)\n",
    "        - (Based on: 119m = 164m with - 45m without)\n",
    "        - No float32 in sqlite, only float64 [❓ Unless we get clever and pack into int32/int16, or blob...]\n",
    "            - [e.g. blob: https://github.com/SeanTater/sqlite3-extras]\n",
    "        - Can pca compress, but can't achieve more than a few % of payload\n",
    "        - Payload 1.98g -> ~1.98g with n_components=331 -- min ~0% of payload\n",
    "        - Payload 1.98g -> ~1.93g with n_components=150 --  🔶 ~3% of payload\n",
    "        - Payload 1.98g -> ~1.90g with n_components=100 --  🔶 ~4% of payload\n",
    "        - Payload 1.98g -> ~1.86g with n_components=10  --  🔶 ~6% of payload\n",
    "        - Payload 1.98g -> ~1.86g with n_components=0   -- max ~6% of payload\n",
    "    - 2.2% of payload: rest of sqlite cols\n",
    "        - Max ~2% of payload -- ❌ low ROI"
   ]
  },
  {
   "cell_type": "code",
   "execution_count": null,
   "metadata": {
    "time": "2.957s"
   },
   "outputs": [
    {
     "name": "stdout",
     "output_type": "stream",
     "text": "INFO     [17:48:36.211] [88658] 151 logging_/<module>: {logging_yaml: None}"
    },
    {
     "name": "stdout",
     "output_type": "stream",
     "text": "\n"
    },
    {
     "name": "stdout",
     "output_type": "stream",
     "text": "INFO     [17:48:36.680] [88658]  36 api.server_globals/init"
    },
    {
     "name": "stdout",
     "output_type": "stream",
     "text": "\n"
    },
    {
     "name": "stdout",
     "output_type": "stream",
     "text": "DEBUG    [17:48:36.687] [88658]  84 api.server_globals/load: load_search..."
    },
    {
     "name": "stdout",
     "output_type": "stream",
     "text": "\n"
    },
    {
     "name": "stdout",
     "output_type": "stream",
     "text": "INFO     [17:48:37.027] [88658]  88 api.server_globals/load: load_search (took 0.332s)"
    },
    {
     "name": "stdout",
     "output_type": "stream",
     "text": "\n"
    },
    {
     "name": "stdout",
     "output_type": "stream",
     "text": "DEBUG    [17:48:37.033] [88658]  84 api.server_globals/load: load_xc_meta..."
    },
    {
     "name": "stdout",
     "output_type": "stream",
     "text": "\n"
    },
    {
     "name": "stdout",
     "output_type": "stream",
     "text": "INFO     [17:48:37.422] [88658]  88 api.server_globals/load: load_xc_meta (took 0.383s)"
    },
    {
     "name": "stdout",
     "output_type": "stream",
     "text": "\n"
    },
    {
     "name": "stdout",
     "output_type": "stream",
     "text": "DEBUG    [17:48:37.429] [88658]  84 api.server_globals/load: load_feat_info..."
    },
    {
     "name": "stdout",
     "output_type": "stream",
     "text": "\n"
    },
    {
     "name": "stdout",
     "output_type": "stream",
     "text": "INFO     [17:48:37.437] [88658] 120 api.server_globals/load_feat_info"
    },
    {
     "name": "stdout",
     "output_type": "stream",
     "text": "\n"
    },
    {
     "name": "stdout",
     "output_type": "stream",
     "text": "INFO     [17:48:37.443] [88658]  88 api.server_globals/load: load_feat_info (took 0.006s)"
    },
    {
     "name": "stdout",
     "output_type": "stream",
     "text": "\n"
    },
    {
     "name": "stdout",
     "output_type": "stream",
     "text": "WARNING  [17:48:37.449] [88658]  82 api.server_globals/load: load_search_recs [skipped]"
    },
    {
     "name": "stdout",
     "output_type": "stream",
     "text": "\n"
    },
    {
     "name": "stdout",
     "output_type": "stream",
     "text": "INFO     [17:48:37.455] [88658]  38 api.server_globals/init: done"
    },
    {
     "name": "stdout",
     "output_type": "stream",
     "text": "\n"
    }
   ],
   "source": [
    "from notebooks import *\n",
    "sg.init(None, skip=[sg_load.load_search_recs])\n",
    "get_search_recs.cache_clear()"
   ]
  },
  {
   "cell_type": "markdown",
   "metadata": {},
   "source": [
    "# Perf notes\n",
    "\n",
    "Before\n",
    "- Cold cache (warm pagecache but cold python proc)\n",
    "```\n",
    "search_recs(**{'cache_type': 'hybrid'})\n",
    "...\n",
    "DEBUG    [12:58:26.994] [37904] 119 payloads/df_cache_hybrid: Hit [start]\n",
    "DEBUG    [12:58:27.001] [37904] 129 payloads/df_cache_hybrid: Hit: Reading non_feats.parquet (1.8 GB)\n",
    "INFO     [12:58:32.028] [37904] 136 payloads/df_cache_hybrid: Hit: Read non_feats.parquet (1.8 GB)\n",
    "DEBUG    [12:58:32.040] [37904] 141 payloads/df_cache_hybrid: Hit: Reading feat-f_preds.npy (46.6 MB)\n",
    "INFO     [12:58:32.077] [37904] 143 payloads/df_cache_hybrid: Hit: Read feat-f_preds.npy: float32 (46.6 MB)\n",
    "DEBUG    [12:58:32.084] [37904] 141 payloads/df_cache_hybrid: Hit: Reading feat-feat.npy (211.4 MB)\n",
    "INFO     [12:58:32.211] [37904] 143 payloads/df_cache_hybrid: Hit: Read feat-feat.npy: float32 (211.4 MB)\n",
    "INFO     [12:58:32.218] [37904] 147 payloads/df_cache_hybrid: Hit: Join non_feats + feats\n",
    "INFO     [12:58:32.469] [37904] 155 payloads/df_cache_hybrid: Hit [5.475s]\n",
    "```"
   ]
  },
  {
   "cell_type": "code",
   "execution_count": null,
   "metadata": {
    "time": "5.579s"
   },
   "outputs": [
    {
     "name": "stdout",
     "output_type": "stream",
     "text": "INFO     [17:48:37.648] [88658] 104 api.server_globals/load_xc_meta"
    },
    {
     "name": "stdout",
     "output_type": "stream",
     "text": "\n"
    },
    {
     "name": "stdout",
     "output_type": "stream",
     "text": "all              9442/399859 (sp/recs)"
    },
    {
     "name": "stdout",
     "output_type": "stream",
     "text": " "
    },
    {
     "name": "stdout",
     "output_type": "stream",
     "text": "\n"
    },
    {
     "name": "stdout",
     "output_type": "stream",
     "text": "countries         1148/59713 (sp/recs)"
    },
    {
     "name": "stdout",
     "output_type": "stream",
     "text": " "
    },
    {
     "name": "stdout",
     "output_type": "stream",
     "text": "\n"
    },
    {
     "name": "stdout",
     "output_type": "stream",
     "text": "species            334/35237 (sp/recs)"
    },
    {
     "name": "stdout",
     "output_type": "stream",
     "text": " "
    },
    {
     "name": "stdout",
     "output_type": "stream",
     "text": "\n"
    },
    {
     "name": "stdout",
     "output_type": "stream",
     "text": "(downloaded)       334/35233 (sp/recs)"
    },
    {
     "name": "stdout",
     "output_type": "stream",
     "text": " "
    },
    {
     "name": "stdout",
     "output_type": "stream",
     "text": " 99.99%"
    },
    {
     "name": "stdout",
     "output_type": "stream",
     "text": "\n"
    },
    {
     "name": "stdout",
     "output_type": "stream",
     "text": "recs_at_least      334/35233 (sp/recs)"
    },
    {
     "name": "stdout",
     "output_type": "stream",
     "text": " "
    },
    {
     "name": "stdout",
     "output_type": "stream",
     "text": "\n"
    },
    {
     "name": "stdout",
     "output_type": "stream",
     "text": "num_species        334/35233 (sp/recs)"
    },
    {
     "name": "stdout",
     "output_type": "stream",
     "text": " "
    },
    {
     "name": "stdout",
     "output_type": "stream",
     "text": "\n"
    },
    {
     "name": "stdout",
     "output_type": "stream",
     "text": "num_recs           334/35233 (sp/recs)"
    },
    {
     "name": "stdout",
     "output_type": "stream",
     "text": " "
    },
    {
     "name": "stdout",
     "output_type": "stream",
     "text": "\n"
    },
    {
     "name": "stdout",
     "output_type": "stream",
     "text": "recs ≥ 2           334/35233 (sp/recs)"
    },
    {
     "name": "stdout",
     "output_type": "stream",
     "text": " "
    },
    {
     "name": "stdout",
     "output_type": "stream",
     "text": "\n"
    }
   ],
   "source": [
    "# Fail if too few recs are downloaded (easy way to waste a bunch of training time!)\n",
    "sg_load.load_xc_meta(_nocache=True,\n",
    "    fail_on_low_download_frac=True,\n",
    ");"
   ]
  },
  {
   "cell_type": "code",
   "execution_count": null,
   "metadata": {
    "time": "80.672s"
   },
   "outputs": [
    {
     "name": "stdout",
     "output_type": "stream",
     "text": "search_recs(**{'cache_type': 'hybrid'})"
    },
    {
     "name": "stdout",
     "output_type": "stream",
     "text": "\n"
    },
    {
     "name": "stdout",
     "output_type": "stream",
     "text": "INFO     [17:48:43.235] [88658] 602 api.recs/get_search_recs"
    },
    {
     "name": "stdout",
     "output_type": "stream",
     "text": "\n"
    },
    {
     "name": "stdout",
     "output_type": "stream",
     "text": "INFO     [17:48:43.245] [88658] 152 payloads/df_cache_hybrid: Hit: payloads/search_recs-audio_s[10],version[8],com_names_k[ca],countries_k[na],num_recs[None]-c292d6b"
    },
    {
     "name": "stdout",
     "output_type": "stream",
     "text": "\n"
    },
    {
     "name": "stdout",
     "output_type": "stream",
     "text": "INFO     [17:48:45.067] [88658] 169 payloads/df_cache_hybrid: Hit: Read api/lite.parquet (51.0 MB) [1.805s]"
    },
    {
     "name": "stdout",
     "output_type": "stream",
     "text": "\n"
    },
    {
     "name": "stdout",
     "output_type": "stream",
     "text": "INFO     [17:48:52.664] [88658] 181 payloads/df_cache_hybrid: Hit: Read api/bytes-audio_bytes.parquet (1.4 GB) [7.577s]"
    },
    {
     "name": "stdout",
     "output_type": "stream",
     "text": "\n"
    },
    {
     "name": "stdout",
     "output_type": "stream",
     "text": "INFO     [17:48:53.582] [88658] 181 payloads/df_cache_hybrid: Hit: Read api/bytes-spectro_bytes.parquet (382.8 MB) [0.845s]"
    },
    {
     "name": "stdout",
     "output_type": "stream",
     "text": "\n"
    },
    {
     "name": "stdout",
     "output_type": "stream",
     "text": "INFO     [17:48:53.637] [88658] 188 payloads/df_cache_hybrid: Hit: Read api/feat-f_preds.npy (46.6 MB) [float32, 0.041s]"
    },
    {
     "name": "stdout",
     "output_type": "stream",
     "text": "\n"
    },
    {
     "name": "stdout",
     "output_type": "stream",
     "text": "INFO     [17:48:53.793] [88658] 188 payloads/df_cache_hybrid: Hit: Read api/feat-feat.npy (211.4 MB) [float32, 0.145s]"
    },
    {
     "name": "stdout",
     "output_type": "stream",
     "text": "\n"
    },
    {
     "name": "stdout",
     "output_type": "stream",
     "text": "INFO     [17:48:53.800] [88658] 191 payloads/df_cache_hybrid: Hit: Join lite + bytes + feats"
    },
    {
     "name": "stdout",
     "output_type": "stream",
     "text": "\n"
    },
    {
     "name": "stdout",
     "output_type": "stream",
     "text": "INFO     [17:48:54.395] [88658] 202 payloads/df_cache_hybrid: Hit [11.137s]"
    },
    {
     "name": "stdout",
     "output_type": "stream",
     "text": "\n"
    },
    {
     "name": "stdout",
     "output_type": "stream",
     "text": "INFO     [17:48:55.917] [88658] 246 payloads/df_cache_hybrid: Mobile: Add columns for mobile [1.505s]"
    },
    {
     "name": "stdout",
     "output_type": "stream",
     "text": "\n"
    },
    {
     "name": "stdout",
     "output_type": "stream",
     "text": "\rMobile: Ensure dirs: audio_bytes: ["
    },
    {
     "name": "stdout",
     "output_type": "stream",
     "text": "                                                              "
    },
    {
     "name": "stdout",
     "output_type": "stream",
     "text": "] |   0% (334) |  0.0s"
    },
    {
     "name": "stdout",
     "output_type": "stream",
     "text": "\rMobile: Ensure dirs: audio_bytes: ["
    },
    {
     "name": "stdout",
     "output_type": "stream",
     "text": "##############################################################"
    },
    {
     "name": "stdout",
     "output_type": "stream",
     "text": "] | 100% (334) |  0.1s"
    },
    {
     "name": "stdout",
     "output_type": "stream",
     "text": "\n"
    },
    {
     "name": "stdout",
     "output_type": "stream",
     "text": "\rMobile: Write files: audio_bytes: ["
    },
    {
     "name": "stdout",
     "output_type": "stream",
     "text": "                                                            "
    },
    {
     "name": "stdout",
     "output_type": "stream",
     "text": "] |   0% (35231) |  0.0s"
    },
    {
     "name": "stdout",
     "output_type": "stream",
     "text": "\rMobile: Write files: audio_bytes: ["
    },
    {
     "name": "stdout",
     "output_type": "stream",
     "text": "                                                            "
    },
    {
     "name": "stdout",
     "output_type": "stream",
     "text": "] |   0% (35231) |  0.2s"
    },
    {
     "name": "stdout",
     "output_type": "stream",
     "text": "\rMobile: Write files: audio_bytes: ["
    },
    {
     "name": "stdout",
     "output_type": "stream",
     "text": "                                                            "
    },
    {
     "name": "stdout",
     "output_type": "stream",
     "text": "] |   0% (35231) |  0.3s"
    },
    {
     "name": "stdout",
     "output_type": "stream",
     "text": "\rMobile: Write files: audio_bytes: ["
    },
    {
     "name": "stdout",
     "output_type": "stream",
     "text": "                                                            "
    },
    {
     "name": "stdout",
     "output_type": "stream",
     "text": "] |   0% (35231) |  0.4s"
    },
    {
     "name": "stdout",
     "output_type": "stream",
     "text": "\rMobile: Write files: audio_bytes: ["
    },
    {
     "name": "stdout",
     "output_type": "stream",
     "text": "                                                            "
    },
    {
     "name": "stdout",
     "output_type": "stream",
     "text": "] |   0% (35231) |  0.5s"
    },
    {
     "name": "stdout",
     "output_type": "stream",
     "text": "\rMobile: Write files: audio_bytes: ["
    },
    {
     "name": "stdout",
     "output_type": "stream",
     "text": "                                                            "
    },
    {
     "name": "stdout",
     "output_type": "stream",
     "text": "] |   0% (35231) |  0.6s"
    },
    {
     "name": "stdout",
     "output_type": "stream",
     "text": "\rMobile: Write files: audio_bytes: ["
    },
    {
     "name": "stdout",
     "output_type": "stream",
     "text": "                                                            "
    },
    {
     "name": "stdout",
     "output_type": "stream",
     "text": "] |   0% (35231) |  0.7s"
    },
    {
     "name": "stdout",
     "output_type": "stream",
     "text": "\rMobile: Write files: audio_bytes: ["
    },
    {
     "name": "stdout",
     "output_type": "stream",
     "text": "                                                            "
    },
    {
     "name": "stdout",
     "output_type": "stream",
     "text": "] |   0% (35231) |  0.8s"
    },
    {
     "name": "stdout",
     "output_type": "stream",
     "text": "\rMobile: Write files: audio_bytes: ["
    },
    {
     "name": "stdout",
     "output_type": "stream",
     "text": "                                                            "
    },
    {
     "name": "stdout",
     "output_type": "stream",
     "text": "] |   0% (35231) |  0.9s"
    },
    {
     "name": "stdout",
     "output_type": "stream",
     "text": "\rMobile: Write files: audio_bytes: ["
    },
    {
     "name": "stdout",
     "output_type": "stream",
     "text": "                                                            "
    },
    {
     "name": "stdout",
     "output_type": "stream",
     "text": "] |   0% (35231) |  1.0s"
    },
    {
     "name": "stdout",
     "output_type": "stream",
     "text": "\rMobile: Write files: audio_bytes: ["
    },
    {
     "name": "stdout",
     "output_type": "stream",
     "text": "                                                            "
    },
    {
     "name": "stdout",
     "output_type": "stream",
     "text": "] |   0% (35231) |  1.1s"
    },
    {
     "name": "stdout",
     "output_type": "stream",
     "text": "\rMobile: Write files: audio_bytes: ["
    },
    {
     "name": "stdout",
     "output_type": "stream",
     "text": "                                                            "
    },
    {
     "name": "stdout",
     "output_type": "stream",
     "text": "] |   0% (35231) |  1.3s"
    },
    {
     "name": "stdout",
     "output_type": "stream",
     "text": "\rMobile: Write files: audio_bytes: ["
    },
    {
     "name": "stdout",
     "output_type": "stream",
     "text": "                                                            "
    },
    {
     "name": "stdout",
     "output_type": "stream",
     "text": "] |   0% (35231) |  1.4s"
    },
    {
     "name": "stdout",
     "output_type": "stream",
     "text": "\rMobile: Write files: audio_bytes: ["
    },
    {
     "name": "stdout",
     "output_type": "stream",
     "text": "#######                                                     "
    },
    {
     "name": "stdout",
     "output_type": "stream",
     "text": "] |  12% (35231) |  1.5s"
    },
    {
     "name": "stdout",
     "output_type": "stream",
     "text": "\rMobile: Write files: audio_bytes: ["
    },
    {
     "name": "stdout",
     "output_type": "stream",
     "text": "##########                                                  "
    },
    {
     "name": "stdout",
     "output_type": "stream",
     "text": "] |  16% (35231) |  1.6s"
    },
    {
     "name": "stdout",
     "output_type": "stream",
     "text": "\rMobile: Write files: audio_bytes: ["
    },
    {
     "name": "stdout",
     "output_type": "stream",
     "text": "##########                                                  "
    },
    {
     "name": "stdout",
     "output_type": "stream",
     "text": "] |  16% (35231) |  1.7s"
    },
    {
     "name": "stdout",
     "output_type": "stream",
     "text": "\rMobile: Write files: audio_bytes: ["
    },
    {
     "name": "stdout",
     "output_type": "stream",
     "text": "##########                                                  "
    },
    {
     "name": "stdout",
     "output_type": "stream",
     "text": "] |  16% (35231) |  1.8s"
    },
    {
     "name": "stdout",
     "output_type": "stream",
     "text": "\rMobile: Write files: audio_bytes: ["
    },
    {
     "name": "stdout",
     "output_type": "stream",
     "text": "##########                                                  "
    },
    {
     "name": "stdout",
     "output_type": "stream",
     "text": "] |  16% (35231) |  1.9s"
    },
    {
     "name": "stdout",
     "output_type": "stream",
     "text": "\rMobile: Write files: audio_bytes: ["
    },
    {
     "name": "stdout",
     "output_type": "stream",
     "text": "##########                                                  "
    },
    {
     "name": "stdout",
     "output_type": "stream",
     "text": "] |  16% (35231) |  2.0s"
    },
    {
     "name": "stdout",
     "output_type": "stream",
     "text": "\rMobile: Write files: audio_bytes: ["
    },
    {
     "name": "stdout",
     "output_type": "stream",
     "text": "##########                                                  "
    },
    {
     "name": "stdout",
     "output_type": "stream",
     "text": "] |  16% (35231) |  2.1s"
    },
    {
     "name": "stdout",
     "output_type": "stream",
     "text": "\rMobile: Write files: audio_bytes: ["
    },
    {
     "name": "stdout",
     "output_type": "stream",
     "text": "##########                                                  "
    },
    {
     "name": "stdout",
     "output_type": "stream",
     "text": "] |  16% (35231) |  2.2s"
    },
    {
     "name": "stdout",
     "output_type": "stream",
     "text": "\rMobile: Write files: audio_bytes: ["
    },
    {
     "name": "stdout",
     "output_type": "stream",
     "text": "##########                                                  "
    },
    {
     "name": "stdout",
     "output_type": "stream",
     "text": "] |  16% (35231) |  2.3s"
    },
    {
     "name": "stdout",
     "output_type": "stream",
     "text": "\rMobile: Write files: audio_bytes: ["
    },
    {
     "name": "stdout",
     "output_type": "stream",
     "text": "##########                                                  "
    },
    {
     "name": "stdout",
     "output_type": "stream",
     "text": "] |  16% (35231) |  2.4s"
    },
    {
     "name": "stdout",
     "output_type": "stream",
     "text": "\rMobile: Write files: audio_bytes: ["
    },
    {
     "name": "stdout",
     "output_type": "stream",
     "text": "##########                                                  "
    },
    {
     "name": "stdout",
     "output_type": "stream",
     "text": "] |  16% (35231) |  2.5s"
    },
    {
     "name": "stdout",
     "output_type": "stream",
     "text": "\rMobile: Write files: audio_bytes: ["
    },
    {
     "name": "stdout",
     "output_type": "stream",
     "text": "##########                                                  "
    },
    {
     "name": "stdout",
     "output_type": "stream",
     "text": "] |  16% (35231) |  2.6s"
    },
    {
     "name": "stdout",
     "output_type": "stream",
     "text": "\rMobile: Write files: audio_bytes: ["
    },
    {
     "name": "stdout",
     "output_type": "stream",
     "text": "##########                                                  "
    },
    {
     "name": "stdout",
     "output_type": "stream",
     "text": "] |  16% (35231) |  2.7s"
    },
    {
     "name": "stdout",
     "output_type": "stream",
     "text": "\rMobile: Write files: audio_bytes: ["
    },
    {
     "name": "stdout",
     "output_type": "stream",
     "text": "##########                                                  "
    },
    {
     "name": "stdout",
     "output_type": "stream",
     "text": "] |  16% (35231) |  2.9s"
    },
    {
     "name": "stdout",
     "output_type": "stream",
     "text": "\rMobile: Write files: audio_bytes: ["
    },
    {
     "name": "stdout",
     "output_type": "stream",
     "text": "##########                                                  "
    },
    {
     "name": "stdout",
     "output_type": "stream",
     "text": "] |  16% (35231) |  3.0s"
    },
    {
     "name": "stdout",
     "output_type": "stream",
     "text": "\rMobile: Write files: audio_bytes: ["
    },
    {
     "name": "stdout",
     "output_type": "stream",
     "text": "##########                                                  "
    },
    {
     "name": "stdout",
     "output_type": "stream",
     "text": "] |  16% (35231) |  3.1s"
    },
    {
     "name": "stdout",
     "output_type": "stream",
     "text": "\rMobile: Write files: audio_bytes: ["
    },
    {
     "name": "stdout",
     "output_type": "stream",
     "text": "############                                                "
    },
    {
     "name": "stdout",
     "output_type": "stream",
     "text": "] |  20% (35231) |  3.2s"
    },
    {
     "name": "stdout",
     "output_type": "stream",
     "text": "\rMobile: Write files: audio_bytes: ["
    },
    {
     "name": "stdout",
     "output_type": "stream",
     "text": "#################                                           "
    },
    {
     "name": "stdout",
     "output_type": "stream",
     "text": "] |  29% (35231) |  3.3s"
    },
    {
     "name": "stdout",
     "output_type": "stream",
     "text": "\rMobile: Write files: audio_bytes: ["
    },
    {
     "name": "stdout",
     "output_type": "stream",
     "text": "#################                                           "
    },
    {
     "name": "stdout",
     "output_type": "stream",
     "text": "] |  29% (35231) |  3.4s"
    },
    {
     "name": "stdout",
     "output_type": "stream",
     "text": "\rMobile: Write files: audio_bytes: ["
    },
    {
     "name": "stdout",
     "output_type": "stream",
     "text": "##################                                          "
    },
    {
     "name": "stdout",
     "output_type": "stream",
     "text": "] |  31% (35231) |  3.5s"
    },
    {
     "name": "stdout",
     "output_type": "stream",
     "text": "\rMobile: Write files: audio_bytes: ["
    },
    {
     "name": "stdout",
     "output_type": "stream",
     "text": "####################                                        "
    },
    {
     "name": "stdout",
     "output_type": "stream",
     "text": "] |  33% (35231) |  3.6s"
    },
    {
     "name": "stdout",
     "output_type": "stream",
     "text": "\rMobile: Write files: audio_bytes: ["
    },
    {
     "name": "stdout",
     "output_type": "stream",
     "text": "####################                                        "
    },
    {
     "name": "stdout",
     "output_type": "stream",
     "text": "] |  33% (35231) |  3.7s"
    },
    {
     "name": "stdout",
     "output_type": "stream",
     "text": "\rMobile: Write files: audio_bytes: ["
    },
    {
     "name": "stdout",
     "output_type": "stream",
     "text": "####################                                        "
    },
    {
     "name": "stdout",
     "output_type": "stream",
     "text": "] |  33% (35231) |  3.8s"
    },
    {
     "name": "stdout",
     "output_type": "stream",
     "text": "\rMobile: Write files: audio_bytes: ["
    },
    {
     "name": "stdout",
     "output_type": "stream",
     "text": "####################                                        "
    },
    {
     "name": "stdout",
     "output_type": "stream",
     "text": "] |  33% (35231) |  3.9s"
    },
    {
     "name": "stdout",
     "output_type": "stream",
     "text": "\rMobile: Write files: audio_bytes: ["
    },
    {
     "name": "stdout",
     "output_type": "stream",
     "text": "####################                                        "
    },
    {
     "name": "stdout",
     "output_type": "stream",
     "text": "] |  33% (35231) |  4.0s"
    },
    {
     "name": "stdout",
     "output_type": "stream",
     "text": "\rMobile: Write files: audio_bytes: ["
    },
    {
     "name": "stdout",
     "output_type": "stream",
     "text": "####################                                        "
    },
    {
     "name": "stdout",
     "output_type": "stream",
     "text": "] |  33% (35231) |  4.1s"
    },
    {
     "name": "stdout",
     "output_type": "stream",
     "text": "\rMobile: Write files: audio_bytes: ["
    },
    {
     "name": "stdout",
     "output_type": "stream",
     "text": "####################                                        "
    },
    {
     "name": "stdout",
     "output_type": "stream",
     "text": "] |  33% (35231) |  4.2s"
    },
    {
     "name": "stdout",
     "output_type": "stream",
     "text": "\rMobile: Write files: audio_bytes: ["
    },
    {
     "name": "stdout",
     "output_type": "stream",
     "text": "####################                                        "
    },
    {
     "name": "stdout",
     "output_type": "stream",
     "text": "] |  33% (35231) |  4.4s"
    },
    {
     "name": "stdout",
     "output_type": "stream",
     "text": "\rMobile: Write files: audio_bytes: ["
    },
    {
     "name": "stdout",
     "output_type": "stream",
     "text": "####################                                        "
    },
    {
     "name": "stdout",
     "output_type": "stream",
     "text": "] |  33% (35231) |  4.5s"
    },
    {
     "name": "stdout",
     "output_type": "stream",
     "text": "\rMobile: Write files: audio_bytes: ["
    },
    {
     "name": "stdout",
     "output_type": "stream",
     "text": "####################                                        "
    },
    {
     "name": "stdout",
     "output_type": "stream",
     "text": "] |  33% (35231) |  4.6s"
    },
    {
     "name": "stdout",
     "output_type": "stream",
     "text": "\rMobile: Write files: audio_bytes: ["
    },
    {
     "name": "stdout",
     "output_type": "stream",
     "text": "####################                                        "
    },
    {
     "name": "stdout",
     "output_type": "stream",
     "text": "] |  33% (35231) |  4.7s"
    },
    {
     "name": "stdout",
     "output_type": "stream",
     "text": "\rMobile: Write files: audio_bytes: ["
    },
    {
     "name": "stdout",
     "output_type": "stream",
     "text": "####################                                        "
    },
    {
     "name": "stdout",
     "output_type": "stream",
     "text": "] |  33% (35231) |  4.8s"
    },
    {
     "name": "stdout",
     "output_type": "stream",
     "text": "\rMobile: Write files: audio_bytes: ["
    },
    {
     "name": "stdout",
     "output_type": "stream",
     "text": "####################                                        "
    },
    {
     "name": "stdout",
     "output_type": "stream",
     "text": "] |  33% (35231) |  4.9s"
    },
    {
     "name": "stdout",
     "output_type": "stream",
     "text": "\rMobile: Write files: audio_bytes: ["
    },
    {
     "name": "stdout",
     "output_type": "stream",
     "text": "####################                                        "
    },
    {
     "name": "stdout",
     "output_type": "stream",
     "text": "] |  33% (35231) |  5.0s"
    },
    {
     "name": "stdout",
     "output_type": "stream",
     "text": "\rMobile: Write files: audio_bytes: ["
    },
    {
     "name": "stdout",
     "output_type": "stream",
     "text": "#######################                                     "
    },
    {
     "name": "stdout",
     "output_type": "stream",
     "text": "] |  39% (35231) |  5.1s"
    },
    {
     "name": "stdout",
     "output_type": "stream",
     "text": "\rMobile: Write files: audio_bytes: ["
    },
    {
     "name": "stdout",
     "output_type": "stream",
     "text": "###########################                                 "
    },
    {
     "name": "stdout",
     "output_type": "stream",
     "text": "] |  45% (35231) |  5.2s"
    },
    {
     "name": "stdout",
     "output_type": "stream",
     "text": "\rMobile: Write files: audio_bytes: ["
    },
    {
     "name": "stdout",
     "output_type": "stream",
     "text": "###########################                                 "
    },
    {
     "name": "stdout",
     "output_type": "stream",
     "text": "] |  45% (35231) |  5.3s"
    },
    {
     "name": "stdout",
     "output_type": "stream",
     "text": "\rMobile: Write files: audio_bytes: ["
    },
    {
     "name": "stdout",
     "output_type": "stream",
     "text": "############################                                "
    },
    {
     "name": "stdout",
     "output_type": "stream",
     "text": "] |  47% (35231) |  5.4s"
    },
    {
     "name": "stdout",
     "output_type": "stream",
     "text": "\rMobile: Write files: audio_bytes: ["
    },
    {
     "name": "stdout",
     "output_type": "stream",
     "text": "############################                                "
    },
    {
     "name": "stdout",
     "output_type": "stream",
     "text": "] |  47% (35231) |  5.5s"
    },
    {
     "name": "stdout",
     "output_type": "stream",
     "text": "\rMobile: Write files: audio_bytes: ["
    },
    {
     "name": "stdout",
     "output_type": "stream",
     "text": "##############################                              "
    },
    {
     "name": "stdout",
     "output_type": "stream",
     "text": "] |  50% (35231) |  5.6s"
    },
    {
     "name": "stdout",
     "output_type": "stream",
     "text": "\rMobile: Write files: audio_bytes: ["
    },
    {
     "name": "stdout",
     "output_type": "stream",
     "text": "##############################                              "
    },
    {
     "name": "stdout",
     "output_type": "stream",
     "text": "] |  50% (35231) |  5.8s"
    },
    {
     "name": "stdout",
     "output_type": "stream",
     "text": "\rMobile: Write files: audio_bytes: ["
    },
    {
     "name": "stdout",
     "output_type": "stream",
     "text": "##############################                              "
    },
    {
     "name": "stdout",
     "output_type": "stream",
     "text": "] |  50% (35231) |  5.9s"
    },
    {
     "name": "stdout",
     "output_type": "stream",
     "text": "\rMobile: Write files: audio_bytes: ["
    },
    {
     "name": "stdout",
     "output_type": "stream",
     "text": "##############################                              "
    },
    {
     "name": "stdout",
     "output_type": "stream",
     "text": "] |  50% (35231) |  6.0s"
    },
    {
     "name": "stdout",
     "output_type": "stream",
     "text": "\rMobile: Write files: audio_bytes: ["
    },
    {
     "name": "stdout",
     "output_type": "stream",
     "text": "##############################                              "
    },
    {
     "name": "stdout",
     "output_type": "stream",
     "text": "] |  50% (35231) |  6.1s"
    },
    {
     "name": "stdout",
     "output_type": "stream",
     "text": "\rMobile: Write files: audio_bytes: ["
    },
    {
     "name": "stdout",
     "output_type": "stream",
     "text": "##############################                              "
    },
    {
     "name": "stdout",
     "output_type": "stream",
     "text": "] |  50% (35231) |  6.2s"
    },
    {
     "name": "stdout",
     "output_type": "stream",
     "text": "\rMobile: Write files: audio_bytes: ["
    },
    {
     "name": "stdout",
     "output_type": "stream",
     "text": "##############################                              "
    },
    {
     "name": "stdout",
     "output_type": "stream",
     "text": "] |  50% (35231) |  6.3s"
    },
    {
     "name": "stdout",
     "output_type": "stream",
     "text": "\rMobile: Write files: audio_bytes: ["
    },
    {
     "name": "stdout",
     "output_type": "stream",
     "text": "##############################                              "
    },
    {
     "name": "stdout",
     "output_type": "stream",
     "text": "] |  50% (35231) |  6.5s"
    },
    {
     "name": "stdout",
     "output_type": "stream",
     "text": "\rMobile: Write files: audio_bytes: ["
    },
    {
     "name": "stdout",
     "output_type": "stream",
     "text": "##############################                              "
    },
    {
     "name": "stdout",
     "output_type": "stream",
     "text": "] |  50% (35231) |  6.6s"
    },
    {
     "name": "stdout",
     "output_type": "stream",
     "text": "\rMobile: Write files: audio_bytes: ["
    },
    {
     "name": "stdout",
     "output_type": "stream",
     "text": "##############################                              "
    },
    {
     "name": "stdout",
     "output_type": "stream",
     "text": "] |  50% (35231) |  6.7s"
    },
    {
     "name": "stdout",
     "output_type": "stream",
     "text": "\rMobile: Write files: audio_bytes: ["
    },
    {
     "name": "stdout",
     "output_type": "stream",
     "text": "#################################                           "
    },
    {
     "name": "stdout",
     "output_type": "stream",
     "text": "] |  56% (35231) |  6.8s"
    },
    {
     "name": "stdout",
     "output_type": "stream",
     "text": "\rMobile: Write files: audio_bytes: ["
    },
    {
     "name": "stdout",
     "output_type": "stream",
     "text": "###################################                         "
    },
    {
     "name": "stdout",
     "output_type": "stream",
     "text": "] |  58% (35231) |  6.9s"
    },
    {
     "name": "stdout",
     "output_type": "stream",
     "text": "\rMobile: Write files: audio_bytes: ["
    },
    {
     "name": "stdout",
     "output_type": "stream",
     "text": "####################################                        "
    },
    {
     "name": "stdout",
     "output_type": "stream",
     "text": "] |  60% (35231) |  7.0s"
    },
    {
     "name": "stdout",
     "output_type": "stream",
     "text": "\rMobile: Write files: audio_bytes: ["
    },
    {
     "name": "stdout",
     "output_type": "stream",
     "text": "#####################################                       "
    },
    {
     "name": "stdout",
     "output_type": "stream",
     "text": "] |  62% (35231) |  7.1s"
    },
    {
     "name": "stdout",
     "output_type": "stream",
     "text": "\rMobile: Write files: audio_bytes: ["
    },
    {
     "name": "stdout",
     "output_type": "stream",
     "text": "######################################                      "
    },
    {
     "name": "stdout",
     "output_type": "stream",
     "text": "] |  64% (35231) |  7.2s"
    },
    {
     "name": "stdout",
     "output_type": "stream",
     "text": "\rMobile: Write files: audio_bytes: ["
    },
    {
     "name": "stdout",
     "output_type": "stream",
     "text": "######################################                      "
    },
    {
     "name": "stdout",
     "output_type": "stream",
     "text": "] |  64% (35231) |  7.3s"
    },
    {
     "name": "stdout",
     "output_type": "stream",
     "text": "\rMobile: Write files: audio_bytes: ["
    },
    {
     "name": "stdout",
     "output_type": "stream",
     "text": "########################################                    "
    },
    {
     "name": "stdout",
     "output_type": "stream",
     "text": "] |  66% (35231) |  7.4s"
    },
    {
     "name": "stdout",
     "output_type": "stream",
     "text": "\rMobile: Write files: audio_bytes: ["
    },
    {
     "name": "stdout",
     "output_type": "stream",
     "text": "########################################                    "
    },
    {
     "name": "stdout",
     "output_type": "stream",
     "text": "] |  66% (35231) |  7.5s"
    },
    {
     "name": "stdout",
     "output_type": "stream",
     "text": "\rMobile: Write files: audio_bytes: ["
    },
    {
     "name": "stdout",
     "output_type": "stream",
     "text": "########################################                    "
    },
    {
     "name": "stdout",
     "output_type": "stream",
     "text": "] |  66% (35231) |  7.7s"
    },
    {
     "name": "stdout",
     "output_type": "stream",
     "text": "\rMobile: Write files: audio_bytes: ["
    },
    {
     "name": "stdout",
     "output_type": "stream",
     "text": "########################################                    "
    },
    {
     "name": "stdout",
     "output_type": "stream",
     "text": "] |  66% (35231) |  7.8s"
    },
    {
     "name": "stdout",
     "output_type": "stream",
     "text": "\rMobile: Write files: audio_bytes: ["
    },
    {
     "name": "stdout",
     "output_type": "stream",
     "text": "########################################                    "
    },
    {
     "name": "stdout",
     "output_type": "stream",
     "text": "] |  66% (35231) |  7.9s"
    },
    {
     "name": "stdout",
     "output_type": "stream",
     "text": "\rMobile: Write files: audio_bytes: ["
    },
    {
     "name": "stdout",
     "output_type": "stream",
     "text": "########################################                    "
    },
    {
     "name": "stdout",
     "output_type": "stream",
     "text": "] |  66% (35231) |  8.0s"
    },
    {
     "name": "stdout",
     "output_type": "stream",
     "text": "\rMobile: Write files: audio_bytes: ["
    },
    {
     "name": "stdout",
     "output_type": "stream",
     "text": "########################################                    "
    },
    {
     "name": "stdout",
     "output_type": "stream",
     "text": "] |  66% (35231) |  8.1s"
    },
    {
     "name": "stdout",
     "output_type": "stream",
     "text": "\rMobile: Write files: audio_bytes: ["
    },
    {
     "name": "stdout",
     "output_type": "stream",
     "text": "########################################                    "
    },
    {
     "name": "stdout",
     "output_type": "stream",
     "text": "] |  66% (35231) |  8.2s"
    },
    {
     "name": "stdout",
     "output_type": "stream",
     "text": "\rMobile: Write files: audio_bytes: ["
    },
    {
     "name": "stdout",
     "output_type": "stream",
     "text": "########################################                    "
    },
    {
     "name": "stdout",
     "output_type": "stream",
     "text": "] |  66% (35231) |  8.3s"
    },
    {
     "name": "stdout",
     "output_type": "stream",
     "text": "\rMobile: Write files: audio_bytes: ["
    },
    {
     "name": "stdout",
     "output_type": "stream",
     "text": "########################################                    "
    },
    {
     "name": "stdout",
     "output_type": "stream",
     "text": "] |  66% (35231) |  8.4s"
    },
    {
     "name": "stdout",
     "output_type": "stream",
     "text": "\rMobile: Write files: audio_bytes: ["
    },
    {
     "name": "stdout",
     "output_type": "stream",
     "text": "########################################                    "
    },
    {
     "name": "stdout",
     "output_type": "stream",
     "text": "] |  66% (35231) |  8.5s"
    },
    {
     "name": "stdout",
     "output_type": "stream",
     "text": "\rMobile: Write files: audio_bytes: ["
    },
    {
     "name": "stdout",
     "output_type": "stream",
     "text": "########################################                    "
    },
    {
     "name": "stdout",
     "output_type": "stream",
     "text": "] |  66% (35231) |  8.6s"
    },
    {
     "name": "stdout",
     "output_type": "stream",
     "text": "\rMobile: Write files: audio_bytes: ["
    },
    {
     "name": "stdout",
     "output_type": "stream",
     "text": "########################################                    "
    },
    {
     "name": "stdout",
     "output_type": "stream",
     "text": "] |  66% (35231) |  8.7s"
    },
    {
     "name": "stdout",
     "output_type": "stream",
     "text": "\rMobile: Write files: audio_bytes: ["
    },
    {
     "name": "stdout",
     "output_type": "stream",
     "text": "#########################################                   "
    },
    {
     "name": "stdout",
     "output_type": "stream",
     "text": "] |  68% (35231) |  8.8s"
    },
    {
     "name": "stdout",
     "output_type": "stream",
     "text": "\rMobile: Write files: audio_bytes: ["
    },
    {
     "name": "stdout",
     "output_type": "stream",
     "text": "#############################################               "
    },
    {
     "name": "stdout",
     "output_type": "stream",
     "text": "] |  75% (35231) |  8.9s"
    },
    {
     "name": "stdout",
     "output_type": "stream",
     "text": "\rMobile: Write files: audio_bytes: ["
    },
    {
     "name": "stdout",
     "output_type": "stream",
     "text": "##############################################              "
    },
    {
     "name": "stdout",
     "output_type": "stream",
     "text": "] |  77% (35231) |  9.0s"
    },
    {
     "name": "stdout",
     "output_type": "stream",
     "text": "\rMobile: Write files: audio_bytes: ["
    },
    {
     "name": "stdout",
     "output_type": "stream",
     "text": "###############################################             "
    },
    {
     "name": "stdout",
     "output_type": "stream",
     "text": "] |  79% (35231) |  9.2s"
    },
    {
     "name": "stdout",
     "output_type": "stream",
     "text": "\rMobile: Write files: audio_bytes: ["
    },
    {
     "name": "stdout",
     "output_type": "stream",
     "text": "################################################            "
    },
    {
     "name": "stdout",
     "output_type": "stream",
     "text": "] |  81% (35231) |  9.3s"
    },
    {
     "name": "stdout",
     "output_type": "stream",
     "text": "\rMobile: Write files: audio_bytes: ["
    },
    {
     "name": "stdout",
     "output_type": "stream",
     "text": "##################################################          "
    },
    {
     "name": "stdout",
     "output_type": "stream",
     "text": "] |  83% (35231) |  9.4s"
    },
    {
     "name": "stdout",
     "output_type": "stream",
     "text": "\rMobile: Write files: audio_bytes: ["
    },
    {
     "name": "stdout",
     "output_type": "stream",
     "text": "##################################################          "
    },
    {
     "name": "stdout",
     "output_type": "stream",
     "text": "] |  83% (35231) |  9.5s"
    },
    {
     "name": "stdout",
     "output_type": "stream",
     "text": "\rMobile: Write files: audio_bytes: ["
    },
    {
     "name": "stdout",
     "output_type": "stream",
     "text": "##################################################          "
    },
    {
     "name": "stdout",
     "output_type": "stream",
     "text": "] |  83% (35231) |  9.6s"
    },
    {
     "name": "stdout",
     "output_type": "stream",
     "text": "\rMobile: Write files: audio_bytes: ["
    },
    {
     "name": "stdout",
     "output_type": "stream",
     "text": "##################################################          "
    },
    {
     "name": "stdout",
     "output_type": "stream",
     "text": "] |  83% (35231) |  9.7s"
    },
    {
     "name": "stdout",
     "output_type": "stream",
     "text": "\rMobile: Write files: audio_bytes: ["
    },
    {
     "name": "stdout",
     "output_type": "stream",
     "text": "##################################################          "
    },
    {
     "name": "stdout",
     "output_type": "stream",
     "text": "] |  83% (35231) |  9.8s"
    },
    {
     "name": "stdout",
     "output_type": "stream",
     "text": "\rMobile: Write files: audio_bytes: ["
    },
    {
     "name": "stdout",
     "output_type": "stream",
     "text": "##################################################          "
    },
    {
     "name": "stdout",
     "output_type": "stream",
     "text": "] |  83% (35231) |  9.9s"
    },
    {
     "name": "stdout",
     "output_type": "stream",
     "text": "\rMobile: Write files: audio_bytes: ["
    },
    {
     "name": "stdout",
     "output_type": "stream",
     "text": "##################################################          "
    },
    {
     "name": "stdout",
     "output_type": "stream",
     "text": "] |  83% (35231) | 10.0s"
    },
    {
     "name": "stdout",
     "output_type": "stream",
     "text": "\rMobile: Write files: audio_bytes: ["
    },
    {
     "name": "stdout",
     "output_type": "stream",
     "text": "####################################################        "
    },
    {
     "name": "stdout",
     "output_type": "stream",
     "text": "] |  87% (35231) | 10.1s"
    },
    {
     "name": "stdout",
     "output_type": "stream",
     "text": "\rMobile: Write files: audio_bytes: ["
    },
    {
     "name": "stdout",
     "output_type": "stream",
     "text": "########################################################    "
    },
    {
     "name": "stdout",
     "output_type": "stream",
     "text": "] |  93% (35231) | 10.2s"
    },
    {
     "name": "stdout",
     "output_type": "stream",
     "text": "\rMobile: Write files: audio_bytes: ["
    },
    {
     "name": "stdout",
     "output_type": "stream",
     "text": "############################################################"
    },
    {
     "name": "stdout",
     "output_type": "stream",
     "text": "] | 100% (35231) | 10.4s"
    },
    {
     "name": "stdout",
     "output_type": "stream",
     "text": "\n"
    },
    {
     "name": "stdout",
     "output_type": "stream",
     "text": "\rMobile: Ensure dirs: spectro_bytes: ["
    },
    {
     "name": "stdout",
     "output_type": "stream",
     "text": "                                                            "
    },
    {
     "name": "stdout",
     "output_type": "stream",
     "text": "] |   0% (334) |  0.0s"
    },
    {
     "name": "stdout",
     "output_type": "stream",
     "text": "\rMobile: Ensure dirs: spectro_bytes: ["
    },
    {
     "name": "stdout",
     "output_type": "stream",
     "text": "############################################################"
    },
    {
     "name": "stdout",
     "output_type": "stream",
     "text": "] | 100% (334) |  0.1s"
    },
    {
     "name": "stdout",
     "output_type": "stream",
     "text": "\n"
    },
    {
     "name": "stdout",
     "output_type": "stream",
     "text": "\rMobile: Write files: spectro_bytes: ["
    },
    {
     "name": "stdout",
     "output_type": "stream",
     "text": "                                                          "
    },
    {
     "name": "stdout",
     "output_type": "stream",
     "text": "] |   0% (35231) |  0.0s"
    },
    {
     "name": "stdout",
     "output_type": "stream",
     "text": "\rMobile: Write files: spectro_bytes: ["
    },
    {
     "name": "stdout",
     "output_type": "stream",
     "text": "                                                          "
    },
    {
     "name": "stdout",
     "output_type": "stream",
     "text": "] |   0% (35231) |  0.2s"
    },
    {
     "name": "stdout",
     "output_type": "stream",
     "text": "\rMobile: Write files: spectro_bytes: ["
    },
    {
     "name": "stdout",
     "output_type": "stream",
     "text": "                                                          "
    },
    {
     "name": "stdout",
     "output_type": "stream",
     "text": "] |   0% (35231) |  0.3s"
    },
    {
     "name": "stdout",
     "output_type": "stream",
     "text": "\rMobile: Write files: spectro_bytes: ["
    },
    {
     "name": "stdout",
     "output_type": "stream",
     "text": "                                                          "
    },
    {
     "name": "stdout",
     "output_type": "stream",
     "text": "] |   0% (35231) |  0.4s"
    },
    {
     "name": "stdout",
     "output_type": "stream",
     "text": "\rMobile: Write files: spectro_bytes: ["
    },
    {
     "name": "stdout",
     "output_type": "stream",
     "text": "                                                          "
    },
    {
     "name": "stdout",
     "output_type": "stream",
     "text": "] |   0% (35231) |  0.5s"
    },
    {
     "name": "stdout",
     "output_type": "stream",
     "text": "\rMobile: Write files: spectro_bytes: ["
    },
    {
     "name": "stdout",
     "output_type": "stream",
     "text": "                                                          "
    },
    {
     "name": "stdout",
     "output_type": "stream",
     "text": "] |   0% (35231) |  0.6s"
    },
    {
     "name": "stdout",
     "output_type": "stream",
     "text": "\rMobile: Write files: spectro_bytes: ["
    },
    {
     "name": "stdout",
     "output_type": "stream",
     "text": "                                                          "
    },
    {
     "name": "stdout",
     "output_type": "stream",
     "text": "] |   0% (35231) |  0.7s"
    },
    {
     "name": "stdout",
     "output_type": "stream",
     "text": "\rMobile: Write files: spectro_bytes: ["
    },
    {
     "name": "stdout",
     "output_type": "stream",
     "text": "                                                          "
    },
    {
     "name": "stdout",
     "output_type": "stream",
     "text": "] |   0% (35231) |  0.8s"
    },
    {
     "name": "stdout",
     "output_type": "stream",
     "text": "\rMobile: Write files: spectro_bytes: ["
    },
    {
     "name": "stdout",
     "output_type": "stream",
     "text": "                                                          "
    },
    {
     "name": "stdout",
     "output_type": "stream",
     "text": "] |   0% (35231) |  1.0s"
    },
    {
     "name": "stdout",
     "output_type": "stream",
     "text": "\rMobile: Write files: spectro_bytes: ["
    },
    {
     "name": "stdout",
     "output_type": "stream",
     "text": "                                                          "
    },
    {
     "name": "stdout",
     "output_type": "stream",
     "text": "] |   0% (35231) |  1.1s"
    },
    {
     "name": "stdout",
     "output_type": "stream",
     "text": "\rMobile: Write files: spectro_bytes: ["
    },
    {
     "name": "stdout",
     "output_type": "stream",
     "text": "                                                          "
    },
    {
     "name": "stdout",
     "output_type": "stream",
     "text": "] |   0% (35231) |  1.2s"
    },
    {
     "name": "stdout",
     "output_type": "stream",
     "text": "\rMobile: Write files: spectro_bytes: ["
    },
    {
     "name": "stdout",
     "output_type": "stream",
     "text": "                                                          "
    },
    {
     "name": "stdout",
     "output_type": "stream",
     "text": "] |   0% (35231) |  1.3s"
    },
    {
     "name": "stdout",
     "output_type": "stream",
     "text": "\rMobile: Write files: spectro_bytes: ["
    },
    {
     "name": "stdout",
     "output_type": "stream",
     "text": "                                                          "
    },
    {
     "name": "stdout",
     "output_type": "stream",
     "text": "] |   0% (35231) |  1.4s"
    },
    {
     "name": "stdout",
     "output_type": "stream",
     "text": "\rMobile: Write files: spectro_bytes: ["
    },
    {
     "name": "stdout",
     "output_type": "stream",
     "text": "                                                          "
    },
    {
     "name": "stdout",
     "output_type": "stream",
     "text": "] |   0% (35231) |  1.5s"
    },
    {
     "name": "stdout",
     "output_type": "stream",
     "text": "\rMobile: Write files: spectro_bytes: ["
    },
    {
     "name": "stdout",
     "output_type": "stream",
     "text": "###########                                               "
    },
    {
     "name": "stdout",
     "output_type": "stream",
     "text": "] |  20% (35231) |  1.6s"
    },
    {
     "name": "stdout",
     "output_type": "stream",
     "text": "\rMobile: Write files: spectro_bytes: ["
    },
    {
     "name": "stdout",
     "output_type": "stream",
     "text": "###########                                               "
    },
    {
     "name": "stdout",
     "output_type": "stream",
     "text": "] |  20% (35231) |  1.7s"
    },
    {
     "name": "stdout",
     "output_type": "stream",
     "text": "\rMobile: Write files: spectro_bytes: ["
    },
    {
     "name": "stdout",
     "output_type": "stream",
     "text": "###########                                               "
    },
    {
     "name": "stdout",
     "output_type": "stream",
     "text": "] |  20% (35231) |  1.8s"
    },
    {
     "name": "stdout",
     "output_type": "stream",
     "text": "\rMobile: Write files: spectro_bytes: ["
    },
    {
     "name": "stdout",
     "output_type": "stream",
     "text": "###########                                               "
    },
    {
     "name": "stdout",
     "output_type": "stream",
     "text": "] |  20% (35231) |  1.9s"
    },
    {
     "name": "stdout",
     "output_type": "stream",
     "text": "\rMobile: Write files: spectro_bytes: ["
    },
    {
     "name": "stdout",
     "output_type": "stream",
     "text": "###########                                               "
    },
    {
     "name": "stdout",
     "output_type": "stream",
     "text": "] |  20% (35231) |  2.0s"
    },
    {
     "name": "stdout",
     "output_type": "stream",
     "text": "\rMobile: Write files: spectro_bytes: ["
    },
    {
     "name": "stdout",
     "output_type": "stream",
     "text": "###########                                               "
    },
    {
     "name": "stdout",
     "output_type": "stream",
     "text": "] |  20% (35231) |  2.2s"
    },
    {
     "name": "stdout",
     "output_type": "stream",
     "text": "\rMobile: Write files: spectro_bytes: ["
    },
    {
     "name": "stdout",
     "output_type": "stream",
     "text": "###########                                               "
    },
    {
     "name": "stdout",
     "output_type": "stream",
     "text": "] |  20% (35231) |  2.3s"
    },
    {
     "name": "stdout",
     "output_type": "stream",
     "text": "\rMobile: Write files: spectro_bytes: ["
    },
    {
     "name": "stdout",
     "output_type": "stream",
     "text": "###########                                               "
    },
    {
     "name": "stdout",
     "output_type": "stream",
     "text": "] |  20% (35231) |  2.4s"
    },
    {
     "name": "stdout",
     "output_type": "stream",
     "text": "\rMobile: Write files: spectro_bytes: ["
    },
    {
     "name": "stdout",
     "output_type": "stream",
     "text": "###########                                               "
    },
    {
     "name": "stdout",
     "output_type": "stream",
     "text": "] |  20% (35231) |  2.5s"
    },
    {
     "name": "stdout",
     "output_type": "stream",
     "text": "\rMobile: Write files: spectro_bytes: ["
    },
    {
     "name": "stdout",
     "output_type": "stream",
     "text": "###########                                               "
    },
    {
     "name": "stdout",
     "output_type": "stream",
     "text": "] |  20% (35231) |  2.6s"
    },
    {
     "name": "stdout",
     "output_type": "stream",
     "text": "\rMobile: Write files: spectro_bytes: ["
    },
    {
     "name": "stdout",
     "output_type": "stream",
     "text": "###########                                               "
    },
    {
     "name": "stdout",
     "output_type": "stream",
     "text": "] |  20% (35231) |  2.7s"
    },
    {
     "name": "stdout",
     "output_type": "stream",
     "text": "\rMobile: Write files: spectro_bytes: ["
    },
    {
     "name": "stdout",
     "output_type": "stream",
     "text": "###########                                               "
    },
    {
     "name": "stdout",
     "output_type": "stream",
     "text": "] |  20% (35231) |  2.8s"
    },
    {
     "name": "stdout",
     "output_type": "stream",
     "text": "\rMobile: Write files: spectro_bytes: ["
    },
    {
     "name": "stdout",
     "output_type": "stream",
     "text": "###########                                               "
    },
    {
     "name": "stdout",
     "output_type": "stream",
     "text": "] |  20% (35231) |  2.9s"
    },
    {
     "name": "stdout",
     "output_type": "stream",
     "text": "\rMobile: Write files: spectro_bytes: ["
    },
    {
     "name": "stdout",
     "output_type": "stream",
     "text": "##################                                        "
    },
    {
     "name": "stdout",
     "output_type": "stream",
     "text": "] |  31% (35231) |  3.0s"
    },
    {
     "name": "stdout",
     "output_type": "stream",
     "text": "\rMobile: Write files: spectro_bytes: ["
    },
    {
     "name": "stdout",
     "output_type": "stream",
     "text": "#######################                                   "
    },
    {
     "name": "stdout",
     "output_type": "stream",
     "text": "] |  40% (35231) |  3.1s"
    },
    {
     "name": "stdout",
     "output_type": "stream",
     "text": "\rMobile: Write files: spectro_bytes: ["
    },
    {
     "name": "stdout",
     "output_type": "stream",
     "text": "#######################                                   "
    },
    {
     "name": "stdout",
     "output_type": "stream",
     "text": "] |  40% (35231) |  3.2s"
    },
    {
     "name": "stdout",
     "output_type": "stream",
     "text": "\rMobile: Write files: spectro_bytes: ["
    },
    {
     "name": "stdout",
     "output_type": "stream",
     "text": "#######################                                   "
    },
    {
     "name": "stdout",
     "output_type": "stream",
     "text": "] |  40% (35231) |  3.4s"
    },
    {
     "name": "stdout",
     "output_type": "stream",
     "text": "\rMobile: Write files: spectro_bytes: ["
    },
    {
     "name": "stdout",
     "output_type": "stream",
     "text": "#######################                                   "
    },
    {
     "name": "stdout",
     "output_type": "stream",
     "text": "] |  40% (35231) |  3.5s"
    },
    {
     "name": "stdout",
     "output_type": "stream",
     "text": "\rMobile: Write files: spectro_bytes: ["
    },
    {
     "name": "stdout",
     "output_type": "stream",
     "text": "#######################                                   "
    },
    {
     "name": "stdout",
     "output_type": "stream",
     "text": "] |  40% (35231) |  3.6s"
    },
    {
     "name": "stdout",
     "output_type": "stream",
     "text": "\rMobile: Write files: spectro_bytes: ["
    },
    {
     "name": "stdout",
     "output_type": "stream",
     "text": "#######################                                   "
    },
    {
     "name": "stdout",
     "output_type": "stream",
     "text": "] |  40% (35231) |  3.7s"
    },
    {
     "name": "stdout",
     "output_type": "stream",
     "text": "\rMobile: Write files: spectro_bytes: ["
    },
    {
     "name": "stdout",
     "output_type": "stream",
     "text": "#######################                                   "
    },
    {
     "name": "stdout",
     "output_type": "stream",
     "text": "] |  40% (35231) |  3.8s"
    },
    {
     "name": "stdout",
     "output_type": "stream",
     "text": "\rMobile: Write files: spectro_bytes: ["
    },
    {
     "name": "stdout",
     "output_type": "stream",
     "text": "#######################                                   "
    },
    {
     "name": "stdout",
     "output_type": "stream",
     "text": "] |  40% (35231) |  3.9s"
    },
    {
     "name": "stdout",
     "output_type": "stream",
     "text": "\rMobile: Write files: spectro_bytes: ["
    },
    {
     "name": "stdout",
     "output_type": "stream",
     "text": "#######################                                   "
    },
    {
     "name": "stdout",
     "output_type": "stream",
     "text": "] |  40% (35231) |  4.0s"
    },
    {
     "name": "stdout",
     "output_type": "stream",
     "text": "\rMobile: Write files: spectro_bytes: ["
    },
    {
     "name": "stdout",
     "output_type": "stream",
     "text": "#######################                                   "
    },
    {
     "name": "stdout",
     "output_type": "stream",
     "text": "] |  40% (35231) |  4.1s"
    },
    {
     "name": "stdout",
     "output_type": "stream",
     "text": "\rMobile: Write files: spectro_bytes: ["
    },
    {
     "name": "stdout",
     "output_type": "stream",
     "text": "#######################                                   "
    },
    {
     "name": "stdout",
     "output_type": "stream",
     "text": "] |  40% (35231) |  4.2s"
    },
    {
     "name": "stdout",
     "output_type": "stream",
     "text": "\rMobile: Write files: spectro_bytes: ["
    },
    {
     "name": "stdout",
     "output_type": "stream",
     "text": "#######################                                   "
    },
    {
     "name": "stdout",
     "output_type": "stream",
     "text": "] |  40% (35231) |  4.3s"
    },
    {
     "name": "stdout",
     "output_type": "stream",
     "text": "\rMobile: Write files: spectro_bytes: ["
    },
    {
     "name": "stdout",
     "output_type": "stream",
     "text": "##############################                            "
    },
    {
     "name": "stdout",
     "output_type": "stream",
     "text": "] |  52% (35231) |  4.4s"
    },
    {
     "name": "stdout",
     "output_type": "stream",
     "text": "\rMobile: Write files: spectro_bytes: ["
    },
    {
     "name": "stdout",
     "output_type": "stream",
     "text": "##################################                        "
    },
    {
     "name": "stdout",
     "output_type": "stream",
     "text": "] |  60% (35231) |  4.6s"
    },
    {
     "name": "stdout",
     "output_type": "stream",
     "text": "\rMobile: Write files: spectro_bytes: ["
    },
    {
     "name": "stdout",
     "output_type": "stream",
     "text": "##################################                        "
    },
    {
     "name": "stdout",
     "output_type": "stream",
     "text": "] |  60% (35231) |  4.7s"
    },
    {
     "name": "stdout",
     "output_type": "stream",
     "text": "\rMobile: Write files: spectro_bytes: ["
    },
    {
     "name": "stdout",
     "output_type": "stream",
     "text": "##################################                        "
    },
    {
     "name": "stdout",
     "output_type": "stream",
     "text": "] |  60% (35231) |  4.8s"
    },
    {
     "name": "stdout",
     "output_type": "stream",
     "text": "\rMobile: Write files: spectro_bytes: ["
    },
    {
     "name": "stdout",
     "output_type": "stream",
     "text": "##################################                        "
    },
    {
     "name": "stdout",
     "output_type": "stream",
     "text": "] |  60% (35231) |  4.9s"
    },
    {
     "name": "stdout",
     "output_type": "stream",
     "text": "\rMobile: Write files: spectro_bytes: ["
    },
    {
     "name": "stdout",
     "output_type": "stream",
     "text": "##################################                        "
    },
    {
     "name": "stdout",
     "output_type": "stream",
     "text": "] |  60% (35231) |  5.0s"
    },
    {
     "name": "stdout",
     "output_type": "stream",
     "text": "\rMobile: Write files: spectro_bytes: ["
    },
    {
     "name": "stdout",
     "output_type": "stream",
     "text": "##################################                        "
    },
    {
     "name": "stdout",
     "output_type": "stream",
     "text": "] |  60% (35231) |  5.1s"
    },
    {
     "name": "stdout",
     "output_type": "stream",
     "text": "\rMobile: Write files: spectro_bytes: ["
    },
    {
     "name": "stdout",
     "output_type": "stream",
     "text": "##################################                        "
    },
    {
     "name": "stdout",
     "output_type": "stream",
     "text": "] |  60% (35231) |  5.2s"
    },
    {
     "name": "stdout",
     "output_type": "stream",
     "text": "\rMobile: Write files: spectro_bytes: ["
    },
    {
     "name": "stdout",
     "output_type": "stream",
     "text": "##################################                        "
    },
    {
     "name": "stdout",
     "output_type": "stream",
     "text": "] |  60% (35231) |  5.3s"
    },
    {
     "name": "stdout",
     "output_type": "stream",
     "text": "\rMobile: Write files: spectro_bytes: ["
    },
    {
     "name": "stdout",
     "output_type": "stream",
     "text": "##################################                        "
    },
    {
     "name": "stdout",
     "output_type": "stream",
     "text": "] |  60% (35231) |  5.4s"
    },
    {
     "name": "stdout",
     "output_type": "stream",
     "text": "\rMobile: Write files: spectro_bytes: ["
    },
    {
     "name": "stdout",
     "output_type": "stream",
     "text": "##################################                        "
    },
    {
     "name": "stdout",
     "output_type": "stream",
     "text": "] |  60% (35231) |  5.6s"
    },
    {
     "name": "stdout",
     "output_type": "stream",
     "text": "\rMobile: Write files: spectro_bytes: ["
    },
    {
     "name": "stdout",
     "output_type": "stream",
     "text": "##################################                        "
    },
    {
     "name": "stdout",
     "output_type": "stream",
     "text": "] |  60% (35231) |  5.7s"
    },
    {
     "name": "stdout",
     "output_type": "stream",
     "text": "\rMobile: Write files: spectro_bytes: ["
    },
    {
     "name": "stdout",
     "output_type": "stream",
     "text": "##################################                        "
    },
    {
     "name": "stdout",
     "output_type": "stream",
     "text": "] |  60% (35231) |  5.8s"
    },
    {
     "name": "stdout",
     "output_type": "stream",
     "text": "\rMobile: Write files: spectro_bytes: ["
    },
    {
     "name": "stdout",
     "output_type": "stream",
     "text": "##################################                        "
    },
    {
     "name": "stdout",
     "output_type": "stream",
     "text": "] |  60% (35231) |  5.9s"
    },
    {
     "name": "stdout",
     "output_type": "stream",
     "text": "\rMobile: Write files: spectro_bytes: ["
    },
    {
     "name": "stdout",
     "output_type": "stream",
     "text": "#######################################                   "
    },
    {
     "name": "stdout",
     "output_type": "stream",
     "text": "] |  67% (35231) |  6.0s"
    },
    {
     "name": "stdout",
     "output_type": "stream",
     "text": "\rMobile: Write files: spectro_bytes: ["
    },
    {
     "name": "stdout",
     "output_type": "stream",
     "text": "############################################              "
    },
    {
     "name": "stdout",
     "output_type": "stream",
     "text": "] |  77% (35231) |  6.1s"
    },
    {
     "name": "stdout",
     "output_type": "stream",
     "text": "\rMobile: Write files: spectro_bytes: ["
    },
    {
     "name": "stdout",
     "output_type": "stream",
     "text": "##############################################            "
    },
    {
     "name": "stdout",
     "output_type": "stream",
     "text": "] |  80% (35231) |  6.2s"
    },
    {
     "name": "stdout",
     "output_type": "stream",
     "text": "\rMobile: Write files: spectro_bytes: ["
    },
    {
     "name": "stdout",
     "output_type": "stream",
     "text": "##############################################            "
    },
    {
     "name": "stdout",
     "output_type": "stream",
     "text": "] |  80% (35231) |  6.3s"
    },
    {
     "name": "stdout",
     "output_type": "stream",
     "text": "\rMobile: Write files: spectro_bytes: ["
    },
    {
     "name": "stdout",
     "output_type": "stream",
     "text": "##############################################            "
    },
    {
     "name": "stdout",
     "output_type": "stream",
     "text": "] |  80% (35231) |  6.4s"
    },
    {
     "name": "stdout",
     "output_type": "stream",
     "text": "\rMobile: Write files: spectro_bytes: ["
    },
    {
     "name": "stdout",
     "output_type": "stream",
     "text": "##############################################            "
    },
    {
     "name": "stdout",
     "output_type": "stream",
     "text": "] |  80% (35231) |  6.5s"
    },
    {
     "name": "stdout",
     "output_type": "stream",
     "text": "\rMobile: Write files: spectro_bytes: ["
    },
    {
     "name": "stdout",
     "output_type": "stream",
     "text": "##############################################            "
    },
    {
     "name": "stdout",
     "output_type": "stream",
     "text": "] |  80% (35231) |  6.7s"
    },
    {
     "name": "stdout",
     "output_type": "stream",
     "text": "\rMobile: Write files: spectro_bytes: ["
    },
    {
     "name": "stdout",
     "output_type": "stream",
     "text": "##############################################            "
    },
    {
     "name": "stdout",
     "output_type": "stream",
     "text": "] |  80% (35231) |  6.8s"
    },
    {
     "name": "stdout",
     "output_type": "stream",
     "text": "\rMobile: Write files: spectro_bytes: ["
    },
    {
     "name": "stdout",
     "output_type": "stream",
     "text": "##############################################            "
    },
    {
     "name": "stdout",
     "output_type": "stream",
     "text": "] |  80% (35231) |  6.9s"
    },
    {
     "name": "stdout",
     "output_type": "stream",
     "text": "\rMobile: Write files: spectro_bytes: ["
    },
    {
     "name": "stdout",
     "output_type": "stream",
     "text": "##############################################            "
    },
    {
     "name": "stdout",
     "output_type": "stream",
     "text": "] |  80% (35231) |  7.0s"
    },
    {
     "name": "stdout",
     "output_type": "stream",
     "text": "\rMobile: Write files: spectro_bytes: ["
    },
    {
     "name": "stdout",
     "output_type": "stream",
     "text": "##############################################            "
    },
    {
     "name": "stdout",
     "output_type": "stream",
     "text": "] |  80% (35231) |  7.1s"
    },
    {
     "name": "stdout",
     "output_type": "stream",
     "text": "\rMobile: Write files: spectro_bytes: ["
    },
    {
     "name": "stdout",
     "output_type": "stream",
     "text": "##############################################            "
    },
    {
     "name": "stdout",
     "output_type": "stream",
     "text": "] |  80% (35231) |  7.2s"
    },
    {
     "name": "stdout",
     "output_type": "stream",
     "text": "\rMobile: Write files: spectro_bytes: ["
    },
    {
     "name": "stdout",
     "output_type": "stream",
     "text": "##############################################            "
    },
    {
     "name": "stdout",
     "output_type": "stream",
     "text": "] |  80% (35231) |  7.3s"
    },
    {
     "name": "stdout",
     "output_type": "stream",
     "text": "\rMobile: Write files: spectro_bytes: ["
    },
    {
     "name": "stdout",
     "output_type": "stream",
     "text": "###############################################           "
    },
    {
     "name": "stdout",
     "output_type": "stream",
     "text": "] |  82% (35231) |  7.4s"
    },
    {
     "name": "stdout",
     "output_type": "stream",
     "text": "\rMobile: Write files: spectro_bytes: ["
    },
    {
     "name": "stdout",
     "output_type": "stream",
     "text": "##########################################################"
    },
    {
     "name": "stdout",
     "output_type": "stream",
     "text": "] | 100% (35231) |  7.5s"
    },
    {
     "name": "stdout",
     "output_type": "stream",
     "text": "\n"
    },
    {
     "name": "stdout",
     "output_type": "stream",
     "text": "INFO     [17:49:35.029] [88658] 288 payloads/df_cache_hybrid: Mobile: Expand feat col: f_preds (331) [6.046s]"
    },
    {
     "name": "stdout",
     "output_type": "stream",
     "text": "\n"
    },
    {
     "name": "stdout",
     "output_type": "stream",
     "text": "INFO     [17:49:35.430] [88658] 300 payloads/df_cache_hybrid: Mobile: Norm feat col: f_preds [0.385s]"
    },
    {
     "name": "stdout",
     "output_type": "stream",
     "text": "\n"
    },
    {
     "name": "stdout",
     "output_type": "stream",
     "text": "INFO     [17:49:35.805] [88658] 331 payloads/<dictcomp>: Mobile: Covert non-sql col: json_dumps_canonical(background) (35231) [0.166s]"
    },
    {
     "name": "stdout",
     "output_type": "stream",
     "text": "\n"
    },
    {
     "name": "stdout",
     "output_type": "stream",
     "text": "INFO     [17:49:35.976] [88658] 331 payloads/<dictcomp>: Mobile: Covert non-sql col: json_dumps_canonical(background_species) (35231) [0.158s]"
    },
    {
     "name": "stdout",
     "output_type": "stream",
     "text": "\n"
    },
    {
     "name": "stdout",
     "output_type": "stream",
     "text": "INFO     [17:49:59.829] [88658] 353 payloads/df_cache_hybrid: Mobile: Create table search_recs [166.2 MB, 23.764s]"
    },
    {
     "name": "stdout",
     "output_type": "stream",
     "text": "\n"
    },
    {
     "name": "stdout",
     "output_type": "stream",
     "text": "INFO     [17:50:00.012] [88658] 387 payloads/df_cache_hybrid: Mobile: Create index (source_id) [602.1 kB, 0.171s]"
    },
    {
     "name": "stdout",
     "output_type": "stream",
     "text": "\n"
    },
    {
     "name": "stdout",
     "output_type": "stream",
     "text": "INFO     [17:50:00.210] [88658] 387 payloads/df_cache_hybrid: Mobile: Create index (species, source_id) [786.4 kB, 0.184s]"
    },
    {
     "name": "stdout",
     "output_type": "stream",
     "text": "\n"
    },
    {
     "name": "stdout",
     "output_type": "stream",
     "text": "INFO     [17:50:00.430] [88658] 387 payloads/df_cache_hybrid: Mobile: Create index (species, species_species_group, quality, source_id) [1.6 MB, 0.206s]"
    },
    {
     "name": "stdout",
     "output_type": "stream",
     "text": "\n"
    },
    {
     "name": "stdout",
     "output_type": "stream",
     "text": "INFO     [17:50:00.650] [88658] 387 payloads/df_cache_hybrid: Mobile: Create index (species_species_group, species, quality, source_id) [1.6 MB, 0.208s]"
    },
    {
     "name": "stdout",
     "output_type": "stream",
     "text": "\n"
    },
    {
     "name": "stdout",
     "output_type": "stream",
     "text": "INFO     [17:50:01.129] [88658] 390 payloads/df_cache_hybrid: Mobile: Write mobile-version[2]/search_recs/search_recs.sqlite3 [170.7 MB, 25.080s]"
    },
    {
     "name": "stdout",
     "output_type": "stream",
     "text": "\n"
    },
    {
     "name": "stdout",
     "output_type": "stream",
     "text": "INFO     [17:50:01.146] [88658] 399 payloads/df_cache_hybrid: Mobile: Write mobile-version[2]/search_recs/server-config.json [2.3 kB, 0.001s]"
    },
    {
     "name": "stdout",
     "output_type": "stream",
     "text": "\n"
    },
    {
     "name": "stdout",
     "output_type": "stream",
     "text": "INFO     [17:50:01.689] [88658] 415 payloads/df_cache_hybrid: Mobile: Write mobile-version[2]/search_recs/metadata/species.json [4.8 MB, 0.533s]"
    },
    {
     "name": "stdout",
     "output_type": "stream",
     "text": "\n"
    },
    {
     "name": "stdout",
     "output_type": "stream",
     "text": "INFO     [17:50:01.709] [88658] 436 payloads/_npy: Mobile: Write mobile-version[2]/search_recs/models/projection.skm_.D.npy [420.1 kB, 0.005s]"
    },
    {
     "name": "stdout",
     "output_type": "stream",
     "text": "\n"
    },
    {
     "name": "stdout",
     "output_type": "stream",
     "text": "INFO     [17:50:01.723] [88658] 436 payloads/_npy: Mobile: Write mobile-version[2]/search_recs/models/projection.skm_.pca.mean_.npy [1.4 kB, 0.001s]"
    },
    {
     "name": "stdout",
     "output_type": "stream",
     "text": "\n"
    },
    {
     "name": "stdout",
     "output_type": "stream",
     "text": "INFO     [17:50:01.736] [88658] 436 payloads/_npy: Mobile: Write mobile-version[2]/search_recs/models/projection.skm_.pca.components_.npy [134.5 kB, 0.001s]"
    },
    {
     "name": "stdout",
     "output_type": "stream",
     "text": "\n"
    },
    {
     "name": "stdout",
     "output_type": "stream",
     "text": "INFO     [17:50:01.750] [88658] 436 payloads/_npy: Mobile: Write mobile-version[2]/search_recs/models/projection.skm_.pca.explained_variance_.npy [968 B, 0.002s]"
    },
    {
     "name": "stdout",
     "output_type": "stream",
     "text": "\n"
    },
    {
     "name": "stdout",
     "output_type": "stream",
     "text": "INFO     [17:50:01.779] [88658] 436 payloads/_npy: Mobile: Write mobile-version[2]/search_recs/models/classifier_._coef_arr.npy [4.0 MB, 0.006s]"
    },
    {
     "name": "stdout",
     "output_type": "stream",
     "text": "\n"
    },
    {
     "name": "stdout",
     "output_type": "stream",
     "text": "INFO     [17:50:01.799] [88658] 436 payloads/_npy: Mobile: Write mobile-version[2]/search_recs/models/classifier_._intercept_arr.npy [2.8 kB, 0.001s]"
    },
    {
     "name": "stdout",
     "output_type": "stream",
     "text": "\n"
    },
    {
     "name": "stdout",
     "output_type": "stream",
     "text": "INFO     [17:50:01.805] [88658] 490 payloads/df_cache_hybrid: Mobile: Write mobile-version[2]/search_recs/models/search.json [4.9 kB, 0.105s]"
    },
    {
     "name": "stdout",
     "output_type": "stream",
     "text": "\n"
    },
    {
     "name": "stdout",
     "output_type": "stream",
     "text": "INFO     [17:50:01.811] [88658] 490 payloads/df_cache_hybrid: Mobile: Write payload [67.404s]"
    },
    {
     "name": "stdout",
     "output_type": "stream",
     "text": "\n"
    },
    {
     "data": {
      "text/html": "<table border=\"1\" class=\"dataframe\">\n  <thead>\n    <tr style=\"text-align: right;\">\n      <th></th>\n      <th>dir</th>\n      <th>file</th>\n      <th>size</th>\n      <th>frac</th>\n    </tr>\n  </thead>\n  <tbody>\n    <tr>\n      <th>5</th>\n      <td><div class=\"not-number\">api</div></td>\n      <td><div class=\"not-number\">TOTAL</div></td>\n      <td>2104303182</td>\n      <td>1.000</td>\n    </tr>\n    <tr>\n      <th>1</th>\n      <td><div class=\"not-number\">api</div></td>\n      <td><div class=\"not-number\">api/bytes-audio_bytes.parquet</div></td>\n      <td>1412454635</td>\n      <td>0.671</td>\n    </tr>\n    <tr>\n      <th>2</th>\n      <td><div class=\"not-number\">api</div></td>\n      <td><div class=\"not-number\">api/bytes-spectro_bytes.parquet</div></td>\n      <td>382830165</td>\n      <td>0.182</td>\n    </tr>\n    <tr>\n      <th>4</th>\n      <td><div class=\"not-number\">api</div></td>\n      <td><div class=\"not-number\">api/feat-feat.npy: float32</div></td>\n      <td>211386128</td>\n      <td>0.100</td>\n    </tr>\n    <tr>\n      <th>0</th>\n      <td><div class=\"not-number\">api</div></td>\n      <td><div class=\"not-number\">api/lite.parquet</div></td>\n      <td>50986282</td>\n      <td>0.024</td>\n    </tr>\n    <tr>\n      <th>3</th>\n      <td><div class=\"not-number\">api</div></td>\n      <td><div class=\"not-number\">api/feat-f_preds.npy: float32</div></td>\n      <td>46645972</td>\n      <td>0.022</td>\n    </tr>\n    <tr>\n      <th>9</th>\n      <td><div class=\"not-number\">mobile-version[2]</div></td>\n      <td><div class=\"not-number\">TOTAL</div></td>\n      <td>2121449472</td>\n      <td>1.000</td>\n    </tr>\n    <tr>\n      <th>6</th>\n      <td><div class=\"not-number\">mobile-version[2]</div></td>\n      <td><div class=\"not-number\">mobile-version[2]/search_recs/audio/</div></td>\n      <td>1502609408</td>\n      <td>0.708</td>\n    </tr>\n    <tr>\n      <th>7</th>\n      <td><div class=\"not-number\">mobile-version[2]</div></td>\n      <td><div class=\"not-number\">mobile-version[2]/search_recs/spectro/</div></td>\n      <td>449687552</td>\n      <td>0.212</td>\n    </tr>\n    <tr>\n      <th>8</th>\n      <td><div class=\"not-number\">mobile-version[2]</div></td>\n      <td><div class=\"not-number\">mobile-version[2]/search_recs/search_recs.sqlite3</div></td>\n      <td>169152512</td>\n      <td>0.080</td>\n    </tr>\n  </tbody>\n</table>",
      "text/plain": "                 dir                                               file        size   frac\n5                api                                              TOTAL  2104303182  1.000\n1                api                      api/bytes-audio_bytes.parquet  1412454635  0.671\n2                api                    api/bytes-spectro_bytes.parquet   382830165  0.182\n4                api                         api/feat-feat.npy: float32   211386128  0.100\n0                api                                   api/lite.parquet    50986282  0.024\n3                api                      api/feat-f_preds.npy: float32    46645972  0.022\n9  mobile-version[2]                                              TOTAL  2121449472  1.000\n6  mobile-version[2]               mobile-version[2]/search_recs/audio/  1502609408  0.708\n7  mobile-version[2]             mobile-version[2]/search_recs/spectro/   449687552  0.212\n8  mobile-version[2]  mobile-version[2]/search_recs/search_recs.sqlite3   169152512  0.080"
     },
     "metadata": {},
     "output_type": "display_data",
     "transient": {}
    },
    {
     "data": {
      "image/png": "[encoded data removed]",
      "text/plain": "<Figure size 864x314.987 with 2 Axes>"
     },
     "metadata": {
      "image/png": {
       "height": 298,
       "width": 1183
      }
     },
     "output_type": "display_data",
     "transient": {}
    },
    {
     "data": {
      "text/html": " ",
      "text/plain": "<ggplot: (423434465)>"
     },
     "metadata": {},
     "output_type": "display_data",
     "transient": {}
    },
    {
     "data": {
      "image/png": "[encoded data removed]",
      "text/plain": "<Figure size 864x144.935 with 1 Axes>"
     },
     "metadata": {
      "image/png": {
       "height": 211,
       "width": 1053
      }
     },
     "output_type": "display_data",
     "transient": {}
    },
    {
     "data": {
      "text/html": " ",
      "text/plain": "<ggplot: (-9223372036508250396)>"
     },
     "metadata": {},
     "output_type": "display_data",
     "transient": {}
    },
    {
     "data": {
      "text/html": "<table border=\"1\" class=\"dataframe\">\n  <thead>\n    <tr style=\"text-align: right;\">\n      <th></th>\n      <th>size</th>\n      <th>type</th>\n      <th>0</th>\n    </tr>\n  </thead>\n  <tbody>\n    <tr>\n      <th>xc_id</th>\n      <td>36</td>\n      <td><div class=\"not-number\">int</div></td>\n      <td>413174</td>\n    </tr>\n    <tr>\n      <th>feat</th>\n      <td>104</td>\n      <td><div class=\"not-number\">ndarray</div></td>\n      <td><div class=\"not-number\">[ 9.373e-02 -4.262e-02  4.967e-01  1.976e-03 -5.053e-02 -5.996e-02  4.511e-02 -1.633e-01  6.422e-02 -2.063e-02\n -7.629e-02 -8.226e-02 -9.336e-02  5.237e-02 -4.327e-02 -7.05...</td>\n    </tr>\n    <tr>\n      <th>f_preds</th>\n      <td>104</td>\n      <td><div class=\"not-number\">ndarray</div></td>\n      <td><div class=\"not-number\">[3.219e-03 1.693e-03 4.284e-05 3.685e-03 1.657e-03 1.457e-02 9.939e-03 1.444e-03 2.617e-04 6.943e-04 4.435e-04\n 7.072e-04 2.569e-03 9.745e-03 8.396e-04 2.003e-03 7.801e-04 ...</td>\n    </tr>\n    <tr>\n      <th>background</th>\n      <td>80</td>\n      <td><div class=\"not-number\">list</div></td>\n      <td><div class=\"not-number\">['White-crowned Sparrow (Zonotrichia leucophrys)']</div></td>\n    </tr>\n    <tr>\n      <th>background_species</th>\n      <td>80</td>\n      <td><div class=\"not-number\">list</div></td>\n      <td><div class=\"not-number\">['WCSP']</div></td>\n    </tr>\n  </tbody>\n</table>",
      "text/plain": "                    size     type                                                                                                                                                                                                        0\nxc_id                 36      int                                                                                                                                                                                                   413174\nfeat                 104  ndarray  [0.093729205, -0.042621236, 0.49667928, 0.0019759578, -0.050529175, -0.05995901, 0.04510672, -0.16327466, 0.06421708, -0.020629525, -0.0762855, -0.0822607, -0.093361594, 0.05236796, -0.043270487, ...\nf_preds              104  ndarray  [0.003219216, 0.0016933391, 4.2837153e-05, 0.0036848816, 0.0016570376, 0.014565381, 0.0099388985, 0.0014441155, 0.0002616892, 0.0006942802, 0.0004434612, 0.00070716365, 0.0025688438, 0.009744544, ...\nbackground            80     list                                                                                                                                                         [White-crowned Sparrow (Zonotrichia leucophrys)]\nbackground_species    80     list                                                                                                                                                                                                   [WCSP]"
     },
     "metadata": {},
     "output_type": "display_data",
     "transient": {}
    }
   ],
   "source": [
    "with ExitStack() as stack:\n",
    "    # stack.enter_context(cache_control(refresh=True))  # XXX Debug\n",
    "    log_levels({\n",
    "        'payloads': 'INFO',\n",
    "        # 'payloads': 'DEBUG',\n",
    "    })\n",
    "    kwargss = [\n",
    "        # dict(cache_type='hybrid', refresh=True),  # Simulate cache miss [XXX Debug]\n",
    "        dict(cache_type='hybrid'),                  # Allow cache hit\n",
    "    ]\n",
    "    search_recss = []\n",
    "    for i, kwargs in enumerate(kwargss):\n",
    "        if i > 0: print()\n",
    "        print(f'search_recs(**{kwargs})')\n",
    "        get_search_recs.cache_clear()\n",
    "        search_recs = get_search_recs(**kwargs,\n",
    "            write_mobile_payload=True,\n",
    "            plot_sizes=True,\n",
    "        )\n",
    "        search_recss.append(search_recs)\n",
    "        display(search_recs\n",
    "            [['xc_id', 'feat', 'f_preds', 'background', 'background_species']]\n",
    "            [2:3].reset_index(drop=True).T\n",
    "            .pipe(df_assign_first,\n",
    "                size=lambda df: df.T.memory_usage(deep=True),\n",
    "                type=lambda df: df[0].map(lambda x: type(x).__name__),\n",
    "            )\n",
    "        )"
   ]
  },
  {
   "cell_type": "code",
   "execution_count": null,
   "metadata": {
    "skip": true
   },
   "outputs": [
    {
     "name": "stdout",
     "output_type": "stream",
     "text": "[skip]"
    }
   ],
   "source": [
    "# TODO Turn this into unit tests\n",
    "#   - Should roundtrip, should preserve category dtypes, should fail if index present\n",
    "assert len(search_recss) == 2, \"Test requires both 'cache hit' + 'cache miss' to be uncommented (above)\"\n",
    "[a, b] = search_recss\n",
    "pd.testing.assert_frame_equal(a, b, check_column_type=True,\n",
    "    check_index_type=False,  # Allow Int64Index vs. RangeIndex\n",
    ")"
   ]
  },
  {
   "cell_type": "code",
   "execution_count": null,
   "metadata": {},
   "outputs": [],
   "source": []
  }
 ],
 "metadata": {
  "kernelspec": {
   "display_name": "bubo-features (PYTHONSTARTUP)",
   "language": "python",
   "name": "bubo-features (PYTHONSTARTUP)"
  }
 },
 "nbformat": 4,
 "nbformat_minor": 2
}
