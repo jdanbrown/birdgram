{
 "cells": [
  {
   "cell_type": "code",
   "execution_count": null,
   "metadata": {},
   "outputs": [],
   "source": [
    "figsize('inline_short');"
   ]
  },
  {
   "cell_type": "code",
   "execution_count": null,
   "metadata": {},
   "outputs": [],
   "source": [
    "# Signal (time domain)\n",
    "signal      = pd.DataFrame()\n",
    "Fs          = 150.0                            # sampling rate\n",
    "Ts          = 1.0/Fs                           # sampling interval\n",
    "signal['t'] = np.arange(0, 1, Ts)              # time vector\n",
    "ff          = 5                                # frequency of the signal\n",
    "signal['y'] = np.sin(2*np.pi*ff * signal['t']) # the signal\n",
    "n           = len(signal['y'])                 # length of the signal\n",
    "display(\n",
    "    signal.shape,\n",
    "    signal[:10],\n",
    ")"
   ]
  },
  {
   "cell_type": "code",
   "execution_count": null,
   "metadata": {},
   "outputs": [],
   "source": [
    "(signal\n",
    "    .pipe(ggplot, aes(x='t', y='y'))\n",
    "    + geom_point(size=.1)\n",
    ")"
   ]
  },
  {
   "cell_type": "code",
   "execution_count": null,
   "metadata": {},
   "outputs": [
    {
     "data": {
      "text/plain": "(150, 4)"
     },
     "metadata": {},
     "output_type": "display_data",
     "transient": {}
    },
    {
     "data": {
      "text/plain": "(75, 4)"
     },
     "metadata": {},
     "output_type": "display_data",
     "transient": {}
    },
    {
     "data": {
      "text/html": "<table border=\"1\" class=\"dataframe\">\n  <thead>\n    <tr style=\"text-align: right;\">\n      <th></th>\n      <th>f</th>\n      <th>Y</th>\n      <th>a</th>\n      <th>p</th>\n    </tr>\n  </thead>\n  <tbody>\n    <tr>\n      <th>0</th>\n      <td>0.0</td>\n      <td>(8.36e-17+0j)</td>\n      <td>8.365e-17</td>\n      <td>6.997e-33</td>\n    </tr>\n    <tr>\n      <th>1</th>\n      <td>1.0</td>\n      <td>(-1.52e-17+1.1e-16j)</td>\n      <td>1.106e-16</td>\n      <td>1.223e-32</td>\n    </tr>\n    <tr>\n      <th>2</th>\n      <td>2.0</td>\n      <td>(8.95e-17-5.79e-18j)</td>\n      <td>8.969e-17</td>\n      <td>8.045e-33</td>\n    </tr>\n    <tr>\n      <th>3</th>\n      <td>3.0</td>\n      <td>(-9.61e-17+3.29e-16j)</td>\n      <td>3.429e-16</td>\n      <td>1.176e-31</td>\n    </tr>\n    <tr>\n      <th>4</th>\n      <td>4.0</td>\n      <td>(-1.14e-16-5.24e-17j)</td>\n      <td>1.258e-16</td>\n      <td>1.581e-32</td>\n    </tr>\n    <tr>\n      <th>5</th>\n      <td>5.0</td>\n      <td>(-7.62e-16-0.5j)</td>\n      <td>5.000e-01</td>\n      <td>2.500e-01</td>\n    </tr>\n    <tr>\n      <th>6</th>\n      <td>6.0</td>\n      <td>(-1.29e-17+6.38e-17j)</td>\n      <td>6.511e-17</td>\n      <td>4.239e-33</td>\n    </tr>\n    <tr>\n      <th>7</th>\n      <td>7.0</td>\n      <td>(-9.71e-17-1.51e-16j)</td>\n      <td>1.793e-16</td>\n      <td>3.215e-32</td>\n    </tr>\n    <tr>\n      <th>8</th>\n      <td>8.0</td>\n      <td>(-2.85e-17+4.12e-17j)</td>\n      <td>5.007e-17</td>\n      <td>2.507e-33</td>\n    </tr>\n    <tr>\n      <th>9</th>\n      <td>9.0</td>\n      <td>(3.18e-17-7.54e-17j)</td>\n      <td>8.179e-17</td>\n      <td>6.690e-33</td>\n    </tr>\n  </tbody>\n</table>",
      "text/plain": "     f                                                 Y          a          p\n0  0.0                         (8.36481394286274e-17+0j)  8.365e-17  6.997e-33\n1  1.0  (-1.518438624340941e-17+1.0954200509634878e-16j)  1.106e-16  1.223e-32\n2  2.0     (8.950669268623421e-17-5.79472788027467e-18j)  8.969e-17  8.045e-33\n3  3.0   (-9.611828615655571e-17+3.291579573277564e-16j)  3.429e-16  1.176e-31\n4  4.0    (-1.143216317578798e-16-5.23899472382487e-17j)  1.258e-16  1.581e-32\n5  5.0      (-7.623246266027188e-16-0.5000000000000001j)  5.000e-01  2.500e-01\n6  6.0  (-1.2891912264688612e-17+6.382219922786794e-17j)  6.511e-17  4.239e-33\n7  7.0  (-9.714453984082977e-17-1.5069392312498116e-16j)  1.793e-16  3.215e-32\n8  8.0  (-2.847713663587097e-17+4.1184014829772694e-17j)  5.007e-17  2.507e-33\n9  9.0   (3.1771541207321105e-17-7.536955564300305e-17j)  8.179e-17  6.690e-33"
     },
     "metadata": {},
     "output_type": "display_data",
     "transient": {}
    }
   ],
   "source": [
    "# Spectrum (freq domain)\n",
    "spectrum       = pd.DataFrame()\n",
    "k              = np.arange(n)\n",
    "T              = n/Fs\n",
    "spectrum['f']  = k/T                       # frequency range\n",
    "spectrum['Y']  = np.fft.fft(signal['y'])/n # fft (with 1/n normalization)\n",
    "spectrum['a']  = np.abs(spectrum['Y'])     # amplitude spectrum\n",
    "spectrum['p']  = np.abs(spectrum['Y'])**2  # power spectrum\n",
    "spectrum_h     = spectrum[:n//2]           # positive half (real signal -> hermitian spectrum)\n",
    "display(\n",
    "    spectrum.shape,\n",
    "    spectrum_h.shape,\n",
    "    spectrum_h[:10],\n",
    ")"
   ]
  },
  {
   "cell_type": "code",
   "execution_count": null,
   "metadata": {},
   "outputs": [],
   "source": [
    "(spectrum_h\n",
    "    .pipe(ggplot, aes(x='f', y='a'))\n",
    "    + geom_point(size=.1)\n",
    ")"
   ]
  }
 ],
 "metadata": {
  "kernelspec": {
   "display_name": "bubo-features (PYTHONSTARTUP)",
   "language": "python",
   "name": "bubo-features (PYTHONSTARTUP)"
  }
 },
 "nbformat": 4,
 "nbformat_minor": 2
}
