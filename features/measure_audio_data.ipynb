{
 "cells": [
  {
   "cell_type": "code",
   "execution_count": null,
   "metadata": {},
   "outputs": [],
   "source": [
    "import glob\n",
    "\n",
    "import sklearn.utils\n",
    "from skm import SKM\n",
    "\n",
    "from datasets import *\n",
    "from features import *\n",
    "import metadata\n",
    "from util import *"
   ]
  },
  {
   "cell_type": "code",
   "execution_count": null,
   "metadata": {},
   "outputs": [
    {
     "data": {
      "text/plain": "(51703, 2)"
     },
     "metadata": {},
     "output_type": "display_data",
     "transient": {}
    },
    {
     "data": {
      "text/html": "<table border=\"1\" class=\"dataframe\">\n  <thead>\n    <tr style=\"text-align: right;\">\n      <th></th>\n      <th>dataset</th>\n      <th>path</th>\n    </tr>\n  </thead>\n  <tbody>\n    <tr>\n      <th>0</th>\n      <td><div class=\"not-number\">recordings</div></td>\n      <td><div class=\"not-number\">recordings/black phoebe, chirps, noise.wav</div></td>\n    </tr>\n    <tr>\n      <th>1</th>\n      <td><div class=\"not-number\">recordings</div></td>\n      <td><div class=\"not-number\">recordings/black phoebe, sitting and catching.wav</div></td>\n    </tr>\n    <tr>\n      <th>2</th>\n      <td><div class=\"not-number\">recordings</div></td>\n      <td><div class=\"not-number\">recordings/caique purring.wav</div></td>\n    </tr>\n    <tr>\n      <th>3</th>\n      <td><div class=\"not-number\">recordings</div></td>\n      <td><div class=\"not-number\">recordings/cal towhee.wav</div></td>\n    </tr>\n    <tr>\n      <th>4</th>\n      <td><div class=\"not-number\">recordings</div></td>\n      <td><div class=\"not-number\">recordings/chickadee funny noise, other chirp song sparrow.wav</div></td>\n    </tr>\n    <tr>\n      <th>51</th>\n      <td><div class=\"not-number\">recordings-new</div></td>\n      <td><div class=\"not-number\">recordings-new/BEWR 20171007 Bewicks Wren (Coyote Hills parking lot).wav</div></td>\n    </tr>\n    <tr>\n      <th>52</th>\n      <td><div class=\"not-number\">recordings-new</div></td>\n      <td><div class=\"not-number\">recordings-new/BEWR 20171007 Bewicks Wren 2 (Coyote Hills parking lot) 2.wav</div></td>\n    </tr>\n    <tr>\n      <th>53</th>\n      <td><div class=\"not-number\">recordings-new</div></td>\n      <td><div class=\"not-number\">recordings-new/BEWR 20171007 Bewicks Wren 2 (Coyote Hills parking lot).wav</div></td>\n    </tr>\n    <tr>\n      <th>54</th>\n      <td><div class=\"not-number\">recordings-new</div></td>\n      <td><div class=\"not-number\">recordings-new/bg noise- ocean- wind- etc- Hwy 1 Mt Tam.wav</div></td>\n    </tr>\n    <tr>\n      <th>55</th>\n      <td><div class=\"not-number\">recordings-new</div></td>\n      <td><div class=\"not-number\">recordings-new/black throated gray- kings rd.wav</div></td>\n    </tr>\n    <tr>\n      <th>137</th>\n      <td><div class=\"not-number\">peterson-field-guide</div></td>\n      <td><div class=\"not-number\">peterson-field-guide/bewwre/audio/43220301 Song.mp3</div></td>\n    </tr>\n    <tr>\n      <th>138</th>\n      <td><div class=\"not-number\">peterson-field-guide</div></td>\n      <td><div class=\"not-number\">peterson-field-guide/bewwre/audio/43220321 Song.mp3</div></td>\n    </tr>\n    <tr>\n      <th>139</th>\n      <td><div class=\"not-number\">peterson-field-guide</div></td>\n      <td><div class=\"not-number\">peterson-field-guide/bewwre/audio/43220351 Song.mp3</div></td>\n    </tr>\n    <tr>\n      <th>140</th>\n      <td><div class=\"not-number\">peterson-field-guide</div></td>\n      <td><div class=\"not-number\">peterson-field-guide/bewwre/audio/43220371 Song (2 types).mp3</div></td>\n    </tr>\n    <tr>\n      <th>141</th>\n      <td><div class=\"not-number\">peterson-field-guide</div></td>\n      <td><div class=\"not-number\">peterson-field-guide/bewwre/audio/43220391 Song, Chatter, Snarl, etc..mp3</div></td>\n    </tr>\n    <tr>\n      <th>478</th>\n      <td><div class=\"not-number\">birdclef-2015</div></td>\n      <td><div class=\"not-number\">birdclef-2015/organized/wav/00000-2015-amazon.wav</div></td>\n    </tr>\n    <tr>\n      <th>479</th>\n      <td><div class=\"not-number\">birdclef-2015</div></td>\n      <td><div class=\"not-number\">birdclef-2015/organized/wav/00001-2014-amazon.wav</div></td>\n    </tr>\n    <tr>\n      <th>480</th>\n      <td><div class=\"not-number\">birdclef-2015</div></td>\n      <td><div class=\"not-number\">birdclef-2015/organized/wav/00002-2014-amazon.wav</div></td>\n    </tr>\n    <tr>\n      <th>481</th>\n      <td><div class=\"not-number\">birdclef-2015</div></td>\n      <td><div class=\"not-number\">birdclef-2015/organized/wav/00003-2014-amazon.wav</div></td>\n    </tr>\n    <tr>\n      <th>482</th>\n      <td><div class=\"not-number\">birdclef-2015</div></td>\n      <td><div class=\"not-number\">birdclef-2015/organized/wav/00004-2014-amazon.wav</div></td>\n    </tr>\n    <tr>\n      <th>33681</th>\n      <td><div class=\"not-number\">warblrb10k</div></td>\n      <td><div class=\"not-number\">dcase-2018/warblrb10k_public_wav/000e088a-69f7-4d7a-ba7b.wav</div></td>\n    </tr>\n    <tr>\n      <th>33682</th>\n      <td><div class=\"not-number\">warblrb10k</div></td>\n      <td><div class=\"not-number\">dcase-2018/warblrb10k_public_wav/0011e7f9-ec1e-4f3a-a70f.wav</div></td>\n    </tr>\n    <tr>\n      <th>33683</th>\n      <td><div class=\"not-number\">warblrb10k</div></td>\n      <td><div class=\"not-number\">dcase-2018/warblrb10k_public_wav/001277e4-24c2-4b8e-a6a8.wav</div></td>\n    </tr>\n    <tr>\n      <th>33684</th>\n      <td><div class=\"not-number\">warblrb10k</div></td>\n      <td><div class=\"not-number\">dcase-2018/warblrb10k_public_wav/001fceab-9866-48e8-a169.wav</div></td>\n    </tr>\n    <tr>\n      <th>33685</th>\n      <td><div class=\"not-number\">warblrb10k</div></td>\n      <td><div class=\"not-number\">dcase-2018/warblrb10k_public_wav/00268cc3-03e8-4e62-bee2.wav</div></td>\n    </tr>\n    <tr>\n      <th>41681</th>\n      <td><div class=\"not-number\">ff1010bird</div></td>\n      <td><div class=\"not-number\">dcase-2018/ff1010bird_wav/100.wav</div></td>\n    </tr>\n    <tr>\n      <th>41682</th>\n      <td><div class=\"not-number\">ff1010bird</div></td>\n      <td><div class=\"not-number\">dcase-2018/ff1010bird_wav/100180.wav</div></td>\n    </tr>\n    <tr>\n      <th>41683</th>\n      <td><div class=\"not-number\">ff1010bird</div></td>\n      <td><div class=\"not-number\">dcase-2018/ff1010bird_wav/100181.wav</div></td>\n    </tr>\n    <tr>\n      <th>41684</th>\n      <td><div class=\"not-number\">ff1010bird</div></td>\n      <td><div class=\"not-number\">dcase-2018/ff1010bird_wav/100250.wav</div></td>\n    </tr>\n    <tr>\n      <th>41685</th>\n      <td><div class=\"not-number\">ff1010bird</div></td>\n      <td><div class=\"not-number\">dcase-2018/ff1010bird_wav/100263.wav</div></td>\n    </tr>\n    <tr>\n      <th>49371</th>\n      <td><div class=\"not-number\">nips4b</div></td>\n      <td><div class=\"not-number\">nips4b/all_wav/nips4b_birds_testfile0001.wav</div></td>\n    </tr>\n    <tr>\n      <th>49372</th>\n      <td><div class=\"not-number\">nips4b</div></td>\n      <td><div class=\"not-number\">nips4b/all_wav/nips4b_birds_testfile0002.wav</div></td>\n    </tr>\n    <tr>\n      <th>49373</th>\n      <td><div class=\"not-number\">nips4b</div></td>\n      <td><div class=\"not-number\">nips4b/all_wav/nips4b_birds_testfile0003.wav</div></td>\n    </tr>\n    <tr>\n      <th>49374</th>\n      <td><div class=\"not-number\">nips4b</div></td>\n      <td><div class=\"not-number\">nips4b/all_wav/nips4b_birds_testfile0004.wav</div></td>\n    </tr>\n    <tr>\n      <th>49375</th>\n      <td><div class=\"not-number\">nips4b</div></td>\n      <td><div class=\"not-number\">nips4b/all_wav/nips4b_birds_testfile0005.wav</div></td>\n    </tr>\n    <tr>\n      <th>51058</th>\n      <td><div class=\"not-number\">mlsp-2013</div></td>\n      <td><div class=\"not-number\">mlsp-2013/mlsp_contest_dataset/essential_data/src_wavs/PC10_20090513_054500_0010.wav</div></td>\n    </tr>\n    <tr>\n      <th>51059</th>\n      <td><div class=\"not-number\">mlsp-2013</div></td>\n      <td><div class=\"not-number\">mlsp-2013/mlsp_contest_dataset/essential_data/src_wavs/PC10_20090513_054500_0020.wav</div></td>\n    </tr>\n    <tr>\n      <th>51060</th>\n      <td><div class=\"not-number\">mlsp-2013</div></td>\n      <td><div class=\"not-number\">mlsp-2013/mlsp_contest_dataset/essential_data/src_wavs/PC10_20090513_054500_0030.wav</div></td>\n    </tr>\n    <tr>\n      <th>51061</th>\n      <td><div class=\"not-number\">mlsp-2013</div></td>\n      <td><div class=\"not-number\">mlsp-2013/mlsp_contest_dataset/essential_data/src_wavs/PC10_20090513_054500_0040.wav</div></td>\n    </tr>\n    <tr>\n      <th>51062</th>\n      <td><div class=\"not-number\">mlsp-2013</div></td>\n      <td><div class=\"not-number\">mlsp-2013/mlsp_contest_dataset/essential_data/src_wavs/PC10_20090513_070000_0010.wav</div></td>\n    </tr>\n  </tbody>\n</table>",
      "text/plain": "                    dataset                                                                                  path\n0                recordings                                            recordings/black phoebe, chirps, noise.wav\n1                recordings                                     recordings/black phoebe, sitting and catching.wav\n2                recordings                                                         recordings/caique purring.wav\n3                recordings                                                             recordings/cal towhee.wav\n4                recordings                        recordings/chickadee funny noise, other chirp song sparrow.wav\n51           recordings-new              recordings-new/BEWR 20171007 Bewicks Wren (Coyote Hills parking lot).wav\n52           recordings-new          recordings-new/BEWR 20171007 Bewicks Wren 2 (Coyote Hills parking lot) 2.wav\n53           recordings-new            recordings-new/BEWR 20171007 Bewicks Wren 2 (Coyote Hills parking lot).wav\n54           recordings-new                           recordings-new/bg noise- ocean- wind- etc- Hwy 1 Mt Tam.wav\n55           recordings-new                                      recordings-new/black throated gray- kings rd.wav\n137    peterson-field-guide                                   peterson-field-guide/bewwre/audio/43220301 Song.mp3\n138    peterson-field-guide                                   peterson-field-guide/bewwre/audio/43220321 Song.mp3\n139    peterson-field-guide                                   peterson-field-guide/bewwre/audio/43220351 Song.mp3\n140    peterson-field-guide                         peterson-field-guide/bewwre/audio/43220371 Song (2 types).mp3\n141    peterson-field-guide             peterson-field-guide/bewwre/audio/43220391 Song, Chatter, Snarl, etc..mp3\n478           birdclef-2015                                     birdclef-2015/organized/wav/00000-2015-amazon.wav\n479           birdclef-2015                                     birdclef-2015/organized/wav/00001-2014-amazon.wav\n480           birdclef-2015                                     birdclef-2015/organized/wav/00002-2014-amazon.wav\n481           birdclef-2015                                     birdclef-2015/organized/wav/00003-2014-amazon.wav\n482           birdclef-2015                                     birdclef-2015/organized/wav/00004-2014-amazon.wav\n33681            warblrb10k                          dcase-2018/warblrb10k_public_wav/000e088a-69f7-4d7a-ba7b.wav\n33682            warblrb10k                          dcase-2018/warblrb10k_public_wav/0011e7f9-ec1e-4f3a-a70f.wav\n33683            warblrb10k                          dcase-2018/warblrb10k_public_wav/001277e4-24c2-4b8e-a6a8.wav\n33684            warblrb10k                          dcase-2018/warblrb10k_public_wav/001fceab-9866-48e8-a169.wav\n33685            warblrb10k                          dcase-2018/warblrb10k_public_wav/00268cc3-03e8-4e62-bee2.wav\n41681            ff1010bird                                                     dcase-2018/ff1010bird_wav/100.wav\n41682            ff1010bird                                                  dcase-2018/ff1010bird_wav/100180.wav\n41683            ff1010bird                                                  dcase-2018/ff1010bird_wav/100181.wav\n41684            ff1010bird                                                  dcase-2018/ff1010bird_wav/100250.wav\n41685            ff1010bird                                                  dcase-2018/ff1010bird_wav/100263.wav\n49371                nips4b                                          nips4b/all_wav/nips4b_birds_testfile0001.wav\n49372                nips4b                                          nips4b/all_wav/nips4b_birds_testfile0002.wav\n49373                nips4b                                          nips4b/all_wav/nips4b_birds_testfile0003.wav\n49374                nips4b                                          nips4b/all_wav/nips4b_birds_testfile0004.wav\n49375                nips4b                                          nips4b/all_wav/nips4b_birds_testfile0005.wav\n51058             mlsp-2013  mlsp-2013/mlsp_contest_dataset/essential_data/src_wavs/PC10_20090513_054500_0010.wav\n51059             mlsp-2013  mlsp-2013/mlsp_contest_dataset/essential_data/src_wavs/PC10_20090513_054500_0020.wav\n51060             mlsp-2013  mlsp-2013/mlsp_contest_dataset/essential_data/src_wavs/PC10_20090513_054500_0030.wav\n51061             mlsp-2013  mlsp-2013/mlsp_contest_dataset/essential_data/src_wavs/PC10_20090513_054500_0040.wav\n51062             mlsp-2013  mlsp-2013/mlsp_contest_dataset/essential_data/src_wavs/PC10_20090513_070000_0010.wav"
     },
     "metadata": {},
     "output_type": "display_data",
     "transient": {}
    },
    {
     "data": {
      "text/html": "<div style=\"white-space: pre\">birdclef-2015           33203\nwarblrb10k               8000\nff1010bird               7690\nnips4b                   1687\nmlsp-2013                 645\npeterson-field-guide      341\nrecordings-new             86\nrecordings                 51\nName: dataset, dtype: int64</div>",
      "text/plain": "birdclef-2015           33203\nwarblrb10k               8000\nff1010bird               7690\nnips4b                   1687\nmlsp-2013                 645\npeterson-field-guide      341\nrecordings-new             86\nrecordings                 51\nName: dataset, dtype: int64"
     },
     "metadata": {},
     "output_type": "display_data",
     "transient": {}
    }
   ],
   "source": [
    "recs_paths = load_recs_paths([\n",
    "    'recordings',\n",
    "    'recordings-new',\n",
    "    'peterson-field-guide',\n",
    "    'birdclef-2015',\n",
    "    'warblrb10k',\n",
    "    'ff1010bird',\n",
    "    'nips4b',\n",
    "    'mlsp-2013',\n",
    "])\n",
    "display(\n",
    "    recs_paths.shape,\n",
    "    recs_paths.groupby('dataset').head(5),\n",
    "    recs_paths.dataset.value_counts(),\n",
    ")"
   ]
  },
  {
   "cell_type": "code",
   "execution_count": null,
   "metadata": {},
   "outputs": [
    {
     "name": "stdout",
     "output_type": "stream",
     "text": "\r[                                                                                          ] | 0% Completed |  0.0s"
    },
    {
     "name": "stdout",
     "output_type": "stream",
     "text": "\r[                                                                                          ] | 0% Completed |  0.1s"
    },
    {
     "name": "stdout",
     "output_type": "stream",
     "text": "\r[                                                                                          ] | 0% Completed |  0.2s"
    },
    {
     "name": "stdout",
     "output_type": "stream",
     "text": "\r[                                                                                          ] | 0% Completed |  0.3s"
    },
    {
     "name": "stdout",
     "output_type": "stream",
     "text": "\r[                                                                                          ] | 0% Completed |  0.4s"
    },
    {
     "name": "stdout",
     "output_type": "stream",
     "text": "\r[                                                                                          ] | 0% Completed |  0.5s"
    },
    {
     "name": "stdout",
     "output_type": "stream",
     "text": "\r[                                                                                          ] | 0% Completed |  0.6s"
    },
    {
     "name": "stdout",
     "output_type": "stream",
     "text": "\r[                                                                                          ] | 0% Completed |  0.7s"
    },
    {
     "name": "stdout",
     "output_type": "stream",
     "text": "\r[                                                                                          ] | 0% Completed |  0.8s"
    },
    {
     "name": "stdout",
     "output_type": "stream",
     "text": "\r[                                                                                          ] | 0% Completed |  0.9s"
    },
    {
     "name": "stdout",
     "output_type": "stream",
     "text": "\r[                                                                                          ] | 0% Completed |  1.0s"
    },
    {
     "name": "stdout",
     "output_type": "stream",
     "text": "\r[                                                                                          ] | 0% Completed |  1.1s"
    },
    {
     "name": "stdout",
     "output_type": "stream",
     "text": "\r[                                                                                          ] | 0% Completed |  1.2s"
    },
    {
     "name": "stdout",
     "output_type": "stream",
     "text": "\r[                                                                                          ] | 0% Completed |  1.3s"
    },
    {
     "name": "stdout",
     "output_type": "stream",
     "text": "\r[                                                                                          ] | 0% Completed |  1.4s"
    },
    {
     "name": "stdout",
     "output_type": "stream",
     "text": "\r[                                                                                          ] | 0% Completed |  1.6s"
    },
    {
     "name": "stdout",
     "output_type": "stream",
     "text": "\r[                                                                                          ] | 0% Completed |  1.7s"
    },
    {
     "name": "stdout",
     "output_type": "stream",
     "text": "\r[#                                                                                         ] | 1% Completed |  1.8s"
    },
    {
     "name": "stdout",
     "output_type": "stream",
     "text": "\r[#                                                                                         ] | 2% Completed |  1.9s"
    },
    {
     "name": "stdout",
     "output_type": "stream",
     "text": "\r[###                                                                                       ] | 3% Completed |  2.0s"
    },
    {
     "name": "stdout",
     "output_type": "stream",
     "text": "\r[###                                                                                       ] | 4% Completed |  2.1s"
    },
    {
     "name": "stdout",
     "output_type": "stream",
     "text": "\r[###                                                                                       ] | 4% Completed |  2.2s"
    },
    {
     "name": "stdout",
     "output_type": "stream",
     "text": "\r[###                                                                                       ] | 4% Completed |  2.3s"
    },
    {
     "name": "stdout",
     "output_type": "stream",
     "text": "\r[###                                                                                       ] | 4% Completed |  2.4s"
    },
    {
     "name": "stdout",
     "output_type": "stream",
     "text": "\r[###                                                                                       ] | 4% Completed |  2.5s"
    },
    {
     "name": "stdout",
     "output_type": "stream",
     "text": "\r[###                                                                                       ] | 4% Completed |  2.6s"
    },
    {
     "name": "stdout",
     "output_type": "stream",
     "text": "\r[###                                                                                       ] | 4% Completed |  2.7s"
    },
    {
     "name": "stdout",
     "output_type": "stream",
     "text": "\r[###                                                                                       ] | 4% Completed |  2.8s"
    },
    {
     "name": "stdout",
     "output_type": "stream",
     "text": "\r[###                                                                                       ] | 4% Completed |  2.9s"
    },
    {
     "name": "stdout",
     "output_type": "stream",
     "text": "\r[###                                                                                       ] | 4% Completed |  3.0s"
    },
    {
     "name": "stdout",
     "output_type": "stream",
     "text": "\r[####                                                                                      ] | 4% Completed |  3.1s"
    },
    {
     "name": "stdout",
     "output_type": "stream",
     "text": "\r[####                                                                                      ] | 4% Completed |  3.2s"
    },
    {
     "name": "stdout",
     "output_type": "stream",
     "text": "\r[####                                                                                      ] | 4% Completed |  3.3s"
    },
    {
     "name": "stdout",
     "output_type": "stream",
     "text": "\r[####                                                                                      ] | 4% Completed |  3.4s"
    },
    {
     "name": "stdout",
     "output_type": "stream",
     "text": "\r[####                                                                                      ] | 4% Completed |  3.5s"
    },
    {
     "name": "stdout",
     "output_type": "stream",
     "text": "\r[####                                                                                      ] | 5% Completed |  3.6s"
    },
    {
     "name": "stdout",
     "output_type": "stream",
     "text": "\r[####                                                                                      ] | 5% Completed |  3.7s"
    },
    {
     "name": "stdout",
     "output_type": "stream",
     "text": "\r[#####                                                                                     ] | 6% Completed |  3.8s"
    },
    {
     "name": "stdout",
     "output_type": "stream",
     "text": "\r[######                                                                                    ] | 7% Completed |  3.9s"
    },
    {
     "name": "stdout",
     "output_type": "stream",
     "text": "\r[######                                                                                    ] | 7% Completed |  4.0s"
    },
    {
     "name": "stdout",
     "output_type": "stream",
     "text": "\r[######                                                                                    ] | 7% Completed |  4.1s"
    },
    {
     "name": "stdout",
     "output_type": "stream",
     "text": "\r[#######                                                                                   ] | 8% Completed |  4.2s"
    },
    {
     "name": "stdout",
     "output_type": "stream",
     "text": "\r[#######                                                                                   ] | 8% Completed |  4.3s"
    },
    {
     "name": "stdout",
     "output_type": "stream",
     "text": "\r[#######                                                                                   ] | 8% Completed |  4.4s"
    },
    {
     "name": "stdout",
     "output_type": "stream",
     "text": "\r[#######                                                                                   ] | 8% Completed |  4.5s"
    },
    {
     "name": "stdout",
     "output_type": "stream",
     "text": "\r[#######                                                                                   ] | 8% Completed |  4.6s"
    },
    {
     "name": "stdout",
     "output_type": "stream",
     "text": "\r[#######                                                                                   ] | 8% Completed |  4.7s"
    },
    {
     "name": "stdout",
     "output_type": "stream",
     "text": "\r[#######                                                                                   ] | 8% Completed |  4.8s"
    },
    {
     "name": "stdout",
     "output_type": "stream",
     "text": "\r[#######                                                                                   ] | 8% Completed |  5.0s"
    },
    {
     "name": "stdout",
     "output_type": "stream",
     "text": "\r[#######                                                                                   ] | 8% Completed |  5.1s"
    },
    {
     "name": "stdout",
     "output_type": "stream",
     "text": "\r[#######                                                                                   ] | 8% Completed |  5.2s"
    },
    {
     "name": "stdout",
     "output_type": "stream",
     "text": "\r[#######                                                                                   ] | 8% Completed |  5.3s"
    },
    {
     "name": "stdout",
     "output_type": "stream",
     "text": "\r[#######                                                                                   ] | 8% Completed |  5.4s"
    },
    {
     "name": "stdout",
     "output_type": "stream",
     "text": "\r[#######                                                                                   ] | 8% Completed |  5.5s"
    },
    {
     "name": "stdout",
     "output_type": "stream",
     "text": "\r[########                                                                                  ] | 9% Completed |  5.6s"
    },
    {
     "name": "stdout",
     "output_type": "stream",
     "text": "\r[########                                                                                  ] | 9% Completed |  5.7s"
    },
    {
     "name": "stdout",
     "output_type": "stream",
     "text": "\r[#########                                                                                 ] | 10% Completed |  5.8s"
    },
    {
     "name": "stdout",
     "output_type": "stream",
     "text": "\r[#########                                                                                 ] | 10% Completed |  5.9s"
    },
    {
     "name": "stdout",
     "output_type": "stream",
     "text": "\r[#########                                                                                 ] | 10% Completed |  6.0s"
    },
    {
     "name": "stdout",
     "output_type": "stream",
     "text": "\r[#########                                                                                 ] | 10% Completed |  6.1s"
    },
    {
     "name": "stdout",
     "output_type": "stream",
     "text": "\r[#########                                                                                 ] | 11% Completed |  6.2s"
    },
    {
     "name": "stdout",
     "output_type": "stream",
     "text": "\r[##########                                                                                ] | 11% Completed |  6.3s"
    },
    {
     "name": "stdout",
     "output_type": "stream",
     "text": "\r[##########                                                                                ] | 12% Completed |  6.4s"
    },
    {
     "name": "stdout",
     "output_type": "stream",
     "text": "\r[##########                                                                                ] | 12% Completed |  6.5s"
    },
    {
     "name": "stdout",
     "output_type": "stream",
     "text": "\r[##########                                                                                ] | 12% Completed |  6.6s"
    },
    {
     "name": "stdout",
     "output_type": "stream",
     "text": "\r[##########                                                                                ] | 12% Completed |  6.7s"
    },
    {
     "name": "stdout",
     "output_type": "stream",
     "text": "\r[##########                                                                                ] | 12% Completed |  6.8s"
    },
    {
     "name": "stdout",
     "output_type": "stream",
     "text": "\r[##########                                                                                ] | 12% Completed |  6.9s"
    },
    {
     "name": "stdout",
     "output_type": "stream",
     "text": "\r[##########                                                                                ] | 12% Completed |  7.0s"
    },
    {
     "name": "stdout",
     "output_type": "stream",
     "text": "\r[##########                                                                                ] | 12% Completed |  7.1s"
    },
    {
     "name": "stdout",
     "output_type": "stream",
     "text": "\r[##########                                                                                ] | 12% Completed |  7.2s"
    },
    {
     "name": "stdout",
     "output_type": "stream",
     "text": "\r[##########                                                                                ] | 12% Completed |  7.3s"
    },
    {
     "name": "stdout",
     "output_type": "stream",
     "text": "\r[##########                                                                                ] | 12% Completed |  7.4s"
    },
    {
     "name": "stdout",
     "output_type": "stream",
     "text": "\r[###########                                                                               ] | 12% Completed |  7.5s"
    },
    {
     "name": "stdout",
     "output_type": "stream",
     "text": "\r[############                                                                              ] | 13% Completed |  7.6s"
    },
    {
     "name": "stdout",
     "output_type": "stream",
     "text": "\r[############                                                                              ] | 13% Completed |  7.7s"
    },
    {
     "name": "stdout",
     "output_type": "stream",
     "text": "\r[############                                                                              ] | 13% Completed |  7.8s"
    },
    {
     "name": "stdout",
     "output_type": "stream",
     "text": "\r[############                                                                              ] | 13% Completed |  7.9s"
    },
    {
     "name": "stdout",
     "output_type": "stream",
     "text": "\r[############                                                                              ] | 14% Completed |  8.0s"
    },
    {
     "name": "stdout",
     "output_type": "stream",
     "text": "\r[############                                                                              ] | 14% Completed |  8.1s"
    },
    {
     "name": "stdout",
     "output_type": "stream",
     "text": "\r[############                                                                              ] | 14% Completed |  8.2s"
    },
    {
     "name": "stdout",
     "output_type": "stream",
     "text": "\r[#############                                                                             ] | 15% Completed |  8.4s"
    },
    {
     "name": "stdout",
     "output_type": "stream",
     "text": "\r[##############                                                                            ] | 15% Completed |  8.5s"
    },
    {
     "name": "stdout",
     "output_type": "stream",
     "text": "\r[##############                                                                            ] | 16% Completed |  8.6s"
    },
    {
     "name": "stdout",
     "output_type": "stream",
     "text": "\r[##############                                                                            ] | 16% Completed |  8.7s"
    },
    {
     "name": "stdout",
     "output_type": "stream",
     "text": "\r[##############                                                                            ] | 16% Completed |  8.8s"
    },
    {
     "name": "stdout",
     "output_type": "stream",
     "text": "\r[##############                                                                            ] | 16% Completed |  8.9s"
    },
    {
     "name": "stdout",
     "output_type": "stream",
     "text": "\r[##############                                                                            ] | 16% Completed |  9.0s"
    },
    {
     "name": "stdout",
     "output_type": "stream",
     "text": "\r[##############                                                                            ] | 16% Completed |  9.1s"
    },
    {
     "name": "stdout",
     "output_type": "stream",
     "text": "\r[##############                                                                            ] | 16% Completed |  9.2s"
    },
    {
     "name": "stdout",
     "output_type": "stream",
     "text": "\r[##############                                                                            ] | 16% Completed |  9.3s"
    },
    {
     "name": "stdout",
     "output_type": "stream",
     "text": "\r[##############                                                                            ] | 16% Completed |  9.4s"
    },
    {
     "name": "stdout",
     "output_type": "stream",
     "text": "\r[##############                                                                            ] | 16% Completed |  9.5s"
    },
    {
     "name": "stdout",
     "output_type": "stream",
     "text": "\r[###############                                                                           ] | 16% Completed |  9.6s"
    },
    {
     "name": "stdout",
     "output_type": "stream",
     "text": "\r[###############                                                                           ] | 17% Completed |  9.7s"
    },
    {
     "name": "stdout",
     "output_type": "stream",
     "text": "\r[###############                                                                           ] | 17% Completed |  9.8s"
    },
    {
     "name": "stdout",
     "output_type": "stream",
     "text": "\r[###############                                                                           ] | 17% Completed |  9.9s"
    },
    {
     "name": "stdout",
     "output_type": "stream",
     "text": "\r[################                                                                          ] | 18% Completed | 10.0s"
    },
    {
     "name": "stdout",
     "output_type": "stream",
     "text": "\r[################                                                                          ] | 18% Completed | 10.1s"
    },
    {
     "name": "stdout",
     "output_type": "stream",
     "text": "\r[################                                                                          ] | 18% Completed | 10.2s"
    },
    {
     "name": "stdout",
     "output_type": "stream",
     "text": "\r[################                                                                          ] | 18% Completed | 10.3s"
    },
    {
     "name": "stdout",
     "output_type": "stream",
     "text": "\r[################                                                                          ] | 18% Completed | 10.4s"
    },
    {
     "name": "stdout",
     "output_type": "stream",
     "text": "\r[#################                                                                         ] | 19% Completed | 10.5s"
    },
    {
     "name": "stdout",
     "output_type": "stream",
     "text": "\r[#################                                                                         ] | 19% Completed | 10.6s"
    },
    {
     "name": "stdout",
     "output_type": "stream",
     "text": "\r[##################                                                                        ] | 20% Completed | 10.7s"
    },
    {
     "name": "stdout",
     "output_type": "stream",
     "text": "\r[##################                                                                        ] | 20% Completed | 10.8s"
    },
    {
     "name": "stdout",
     "output_type": "stream",
     "text": "\r[##################                                                                        ] | 20% Completed | 10.9s"
    },
    {
     "name": "stdout",
     "output_type": "stream",
     "text": "\r[##################                                                                        ] | 20% Completed | 11.0s"
    },
    {
     "name": "stdout",
     "output_type": "stream",
     "text": "\r[##################                                                                        ] | 20% Completed | 11.1s"
    },
    {
     "name": "stdout",
     "output_type": "stream",
     "text": "\r[##################                                                                        ] | 20% Completed | 11.2s"
    },
    {
     "name": "stdout",
     "output_type": "stream",
     "text": "\r[##################                                                                        ] | 20% Completed | 11.3s"
    },
    {
     "name": "stdout",
     "output_type": "stream",
     "text": "\r[##################                                                                        ] | 20% Completed | 11.4s"
    },
    {
     "name": "stdout",
     "output_type": "stream",
     "text": "\r[##################                                                                        ] | 20% Completed | 11.6s"
    },
    {
     "name": "stdout",
     "output_type": "stream",
     "text": "\r[##################                                                                        ] | 20% Completed | 11.7s"
    },
    {
     "name": "stdout",
     "output_type": "stream",
     "text": "\r[###################                                                                       ] | 21% Completed | 11.8s"
    },
    {
     "name": "stdout",
     "output_type": "stream",
     "text": "\r[###################                                                                       ] | 21% Completed | 11.9s"
    },
    {
     "name": "stdout",
     "output_type": "stream",
     "text": "\r[###################                                                                       ] | 22% Completed | 12.0s"
    },
    {
     "name": "stdout",
     "output_type": "stream",
     "text": "\r[###################                                                                       ] | 22% Completed | 12.1s"
    },
    {
     "name": "stdout",
     "output_type": "stream",
     "text": "\r[###################                                                                       ] | 22% Completed | 12.2s"
    },
    {
     "name": "stdout",
     "output_type": "stream",
     "text": "\r[####################                                                                      ] | 22% Completed | 12.3s"
    },
    {
     "name": "stdout",
     "output_type": "stream",
     "text": "\r[####################                                                                      ] | 22% Completed | 12.4s"
    },
    {
     "name": "stdout",
     "output_type": "stream",
     "text": "\r[#####################                                                                     ] | 23% Completed | 12.5s"
    },
    {
     "name": "stdout",
     "output_type": "stream",
     "text": "\r[#####################                                                                     ] | 23% Completed | 12.6s"
    },
    {
     "name": "stdout",
     "output_type": "stream",
     "text": "\r[#####################                                                                     ] | 24% Completed | 12.7s"
    },
    {
     "name": "stdout",
     "output_type": "stream",
     "text": "\r[#####################                                                                     ] | 24% Completed | 12.8s"
    },
    {
     "name": "stdout",
     "output_type": "stream",
     "text": "\r[#####################                                                                     ] | 24% Completed | 12.9s"
    },
    {
     "name": "stdout",
     "output_type": "stream",
     "text": "\r[#####################                                                                     ] | 24% Completed | 13.0s"
    },
    {
     "name": "stdout",
     "output_type": "stream",
     "text": "\r[#####################                                                                     ] | 24% Completed | 13.1s"
    },
    {
     "name": "stdout",
     "output_type": "stream",
     "text": "\r[#####################                                                                     ] | 24% Completed | 13.2s"
    },
    {
     "name": "stdout",
     "output_type": "stream",
     "text": "\r[#####################                                                                     ] | 24% Completed | 13.3s"
    },
    {
     "name": "stdout",
     "output_type": "stream",
     "text": "\r[#####################                                                                     ] | 24% Completed | 13.4s"
    },
    {
     "name": "stdout",
     "output_type": "stream",
     "text": "\r[######################                                                                    ] | 24% Completed | 13.5s"
    },
    {
     "name": "stdout",
     "output_type": "stream",
     "text": "\r[######################                                                                    ] | 24% Completed | 13.6s"
    },
    {
     "name": "stdout",
     "output_type": "stream",
     "text": "\r[######################                                                                    ] | 25% Completed | 13.7s"
    },
    {
     "name": "stdout",
     "output_type": "stream",
     "text": "\r[#######################                                                                   ] | 26% Completed | 13.8s"
    },
    {
     "name": "stdout",
     "output_type": "stream",
     "text": "\r[#######################                                                                   ] | 26% Completed | 13.9s"
    },
    {
     "name": "stdout",
     "output_type": "stream",
     "text": "\r[#######################                                                                   ] | 26% Completed | 14.0s"
    },
    {
     "name": "stdout",
     "output_type": "stream",
     "text": "\r[#######################                                                                   ] | 26% Completed | 14.1s"
    },
    {
     "name": "stdout",
     "output_type": "stream",
     "text": "\r[#######################                                                                   ] | 26% Completed | 14.3s"
    },
    {
     "name": "stdout",
     "output_type": "stream",
     "text": "\r[#######################                                                                   ] | 26% Completed | 14.4s"
    },
    {
     "name": "stdout",
     "output_type": "stream",
     "text": "\r[#######################                                                                   ] | 26% Completed | 14.5s"
    },
    {
     "name": "stdout",
     "output_type": "stream",
     "text": "\r[########################                                                                  ] | 27% Completed | 14.6s"
    },
    {
     "name": "stdout",
     "output_type": "stream",
     "text": "\r[########################                                                                  ] | 27% Completed | 14.7s"
    },
    {
     "name": "stdout",
     "output_type": "stream",
     "text": "\r[#########################                                                                 ] | 28% Completed | 14.8s"
    },
    {
     "name": "stdout",
     "output_type": "stream",
     "text": "\r[#########################                                                                 ] | 28% Completed | 14.9s"
    },
    {
     "name": "stdout",
     "output_type": "stream",
     "text": "\r[#########################                                                                 ] | 28% Completed | 15.0s"
    },
    {
     "name": "stdout",
     "output_type": "stream",
     "text": "\r[#########################                                                                 ] | 28% Completed | 15.1s"
    },
    {
     "name": "stdout",
     "output_type": "stream",
     "text": "\r[#########################                                                                 ] | 28% Completed | 15.2s"
    },
    {
     "name": "stdout",
     "output_type": "stream",
     "text": "\r[#########################                                                                 ] | 28% Completed | 15.3s"
    },
    {
     "name": "stdout",
     "output_type": "stream",
     "text": "\r[#########################                                                                 ] | 28% Completed | 15.4s"
    },
    {
     "name": "stdout",
     "output_type": "stream",
     "text": "\r[#########################                                                                 ] | 28% Completed | 15.5s"
    },
    {
     "name": "stdout",
     "output_type": "stream",
     "text": "\r[#########################                                                                 ] | 28% Completed | 15.6s"
    },
    {
     "name": "stdout",
     "output_type": "stream",
     "text": "\r[#########################                                                                 ] | 28% Completed | 15.7s"
    },
    {
     "name": "stdout",
     "output_type": "stream",
     "text": "\r[#########################                                                                 ] | 28% Completed | 15.8s"
    },
    {
     "name": "stdout",
     "output_type": "stream",
     "text": "\r[#########################                                                                 ] | 28% Completed | 15.9s"
    },
    {
     "name": "stdout",
     "output_type": "stream",
     "text": "\r[#########################                                                                 ] | 28% Completed | 16.0s"
    },
    {
     "name": "stdout",
     "output_type": "stream",
     "text": "\r[#########################                                                                 ] | 28% Completed | 16.1s"
    },
    {
     "name": "stdout",
     "output_type": "stream",
     "text": "\r[##########################                                                                ] | 29% Completed | 16.2s"
    },
    {
     "name": "stdout",
     "output_type": "stream",
     "text": "\r[###########################                                                               ] | 30% Completed | 16.3s"
    },
    {
     "name": "stdout",
     "output_type": "stream",
     "text": "\r[###########################                                                               ] | 30% Completed | 16.4s"
    },
    {
     "name": "stdout",
     "output_type": "stream",
     "text": "\r[###########################                                                               ] | 30% Completed | 16.5s"
    },
    {
     "name": "stdout",
     "output_type": "stream",
     "text": "\r[###########################                                                               ] | 30% Completed | 16.6s"
    },
    {
     "name": "stdout",
     "output_type": "stream",
     "text": "\r[###########################                                                               ] | 30% Completed | 16.7s"
    },
    {
     "name": "stdout",
     "output_type": "stream",
     "text": "\r[###########################                                                               ] | 30% Completed | 16.8s"
    },
    {
     "name": "stdout",
     "output_type": "stream",
     "text": "\r[###########################                                                               ] | 30% Completed | 16.9s"
    },
    {
     "name": "stdout",
     "output_type": "stream",
     "text": "\r[###########################                                                               ] | 30% Completed | 17.0s"
    },
    {
     "name": "stdout",
     "output_type": "stream",
     "text": "\r[###########################                                                               ] | 31% Completed | 17.1s"
    },
    {
     "name": "stdout",
     "output_type": "stream",
     "text": "\r[############################                                                              ] | 32% Completed | 17.3s"
    },
    {
     "name": "stdout",
     "output_type": "stream",
     "text": "\r[############################                                                              ] | 32% Completed | 17.4s"
    },
    {
     "name": "stdout",
     "output_type": "stream",
     "text": "\r[############################                                                              ] | 32% Completed | 17.5s"
    },
    {
     "name": "stdout",
     "output_type": "stream",
     "text": "\r[############################                                                              ] | 32% Completed | 17.6s"
    },
    {
     "name": "stdout",
     "output_type": "stream",
     "text": "\r[############################                                                              ] | 32% Completed | 17.7s"
    },
    {
     "name": "stdout",
     "output_type": "stream",
     "text": "\r[############################                                                              ] | 32% Completed | 17.8s"
    },
    {
     "name": "stdout",
     "output_type": "stream",
     "text": "\r[############################                                                              ] | 32% Completed | 17.9s"
    },
    {
     "name": "stdout",
     "output_type": "stream",
     "text": "\r[############################                                                              ] | 32% Completed | 18.0s"
    },
    {
     "name": "stdout",
     "output_type": "stream",
     "text": "\r[############################                                                              ] | 32% Completed | 18.1s"
    },
    {
     "name": "stdout",
     "output_type": "stream",
     "text": "\r[############################                                                              ] | 32% Completed | 18.2s"
    },
    {
     "name": "stdout",
     "output_type": "stream",
     "text": "\r[############################                                                              ] | 32% Completed | 18.3s"
    },
    {
     "name": "stdout",
     "output_type": "stream",
     "text": "\r[############################                                                              ] | 32% Completed | 18.4s"
    },
    {
     "name": "stdout",
     "output_type": "stream",
     "text": "\r[############################                                                              ] | 32% Completed | 18.5s"
    },
    {
     "name": "stdout",
     "output_type": "stream",
     "text": "\r[#############################                                                             ] | 32% Completed | 18.6s"
    },
    {
     "name": "stdout",
     "output_type": "stream",
     "text": "\r[##############################                                                            ] | 33% Completed | 18.7s"
    },
    {
     "name": "stdout",
     "output_type": "stream",
     "text": "\r[##############################                                                            ] | 34% Completed | 18.8s"
    },
    {
     "name": "stdout",
     "output_type": "stream",
     "text": "\r[##############################                                                            ] | 34% Completed | 18.9s"
    },
    {
     "name": "stdout",
     "output_type": "stream",
     "text": "\r[##############################                                                            ] | 34% Completed | 19.0s"
    },
    {
     "name": "stdout",
     "output_type": "stream",
     "text": "\r[##############################                                                            ] | 34% Completed | 19.1s"
    },
    {
     "name": "stdout",
     "output_type": "stream",
     "text": "\r[###############################                                                           ] | 34% Completed | 19.2s"
    },
    {
     "name": "stdout",
     "output_type": "stream",
     "text": "\r[###############################                                                           ] | 34% Completed | 19.3s"
    },
    {
     "name": "stdout",
     "output_type": "stream",
     "text": "\r[###############################                                                           ] | 34% Completed | 19.4s"
    },
    {
     "name": "stdout",
     "output_type": "stream",
     "text": "\r[###############################                                                           ] | 34% Completed | 19.5s"
    },
    {
     "name": "stdout",
     "output_type": "stream",
     "text": "\r[###############################                                                           ] | 34% Completed | 19.6s"
    },
    {
     "name": "stdout",
     "output_type": "stream",
     "text": "\r[################################                                                          ] | 35% Completed | 19.7s"
    },
    {
     "name": "stdout",
     "output_type": "stream",
     "text": "\r[################################                                                          ] | 36% Completed | 19.8s"
    },
    {
     "name": "stdout",
     "output_type": "stream",
     "text": "\r[################################                                                          ] | 36% Completed | 19.9s"
    },
    {
     "name": "stdout",
     "output_type": "stream",
     "text": "\r[################################                                                          ] | 36% Completed | 20.0s"
    },
    {
     "name": "stdout",
     "output_type": "stream",
     "text": "\r[################################                                                          ] | 36% Completed | 20.1s"
    },
    {
     "name": "stdout",
     "output_type": "stream",
     "text": "\r[################################                                                          ] | 36% Completed | 20.2s"
    },
    {
     "name": "stdout",
     "output_type": "stream",
     "text": "\r[################################                                                          ] | 36% Completed | 20.3s"
    },
    {
     "name": "stdout",
     "output_type": "stream",
     "text": "\r[################################                                                          ] | 36% Completed | 20.4s"
    },
    {
     "name": "stdout",
     "output_type": "stream",
     "text": "\r[################################                                                          ] | 36% Completed | 20.5s"
    },
    {
     "name": "stdout",
     "output_type": "stream",
     "text": "\r[################################                                                          ] | 36% Completed | 20.6s"
    },
    {
     "name": "stdout",
     "output_type": "stream",
     "text": "\r[################################                                                          ] | 36% Completed | 20.7s"
    },
    {
     "name": "stdout",
     "output_type": "stream",
     "text": "\r[################################                                                          ] | 36% Completed | 20.8s"
    },
    {
     "name": "stdout",
     "output_type": "stream",
     "text": "\r[################################                                                          ] | 36% Completed | 20.9s"
    },
    {
     "name": "stdout",
     "output_type": "stream",
     "text": "\r[################################                                                          ] | 36% Completed | 21.0s"
    },
    {
     "name": "stdout",
     "output_type": "stream",
     "text": "\r[#################################                                                         ] | 36% Completed | 21.2s"
    },
    {
     "name": "stdout",
     "output_type": "stream",
     "text": "\r[#################################                                                         ] | 37% Completed | 21.3s"
    },
    {
     "name": "stdout",
     "output_type": "stream",
     "text": "\r[#################################                                                         ] | 37% Completed | 21.4s"
    },
    {
     "name": "stdout",
     "output_type": "stream",
     "text": "\r[#################################                                                         ] | 37% Completed | 21.5s"
    },
    {
     "name": "stdout",
     "output_type": "stream",
     "text": "\r[#################################                                                         ] | 37% Completed | 21.6s"
    },
    {
     "name": "stdout",
     "output_type": "stream",
     "text": "\r[#################################                                                         ] | 37% Completed | 21.7s"
    },
    {
     "name": "stdout",
     "output_type": "stream",
     "text": "\r[##################################                                                        ] | 38% Completed | 21.8s"
    },
    {
     "name": "stdout",
     "output_type": "stream",
     "text": "\r[##################################                                                        ] | 38% Completed | 21.9s"
    },
    {
     "name": "stdout",
     "output_type": "stream",
     "text": "\r[##################################                                                        ] | 38% Completed | 22.0s"
    },
    {
     "name": "stdout",
     "output_type": "stream",
     "text": "\r[##################################                                                        ] | 38% Completed | 22.1s"
    },
    {
     "name": "stdout",
     "output_type": "stream",
     "text": "\r[##################################                                                        ] | 38% Completed | 22.2s"
    },
    {
     "name": "stdout",
     "output_type": "stream",
     "text": "\r[###################################                                                       ] | 39% Completed | 22.3s"
    },
    {
     "name": "stdout",
     "output_type": "stream",
     "text": "\r[###################################                                                       ] | 39% Completed | 22.4s"
    },
    {
     "name": "stdout",
     "output_type": "stream",
     "text": "\r[####################################                                                      ] | 40% Completed | 22.5s"
    },
    {
     "name": "stdout",
     "output_type": "stream",
     "text": "\r[####################################                                                      ] | 40% Completed | 22.6s"
    },
    {
     "name": "stdout",
     "output_type": "stream",
     "text": "\r[####################################                                                      ] | 40% Completed | 22.7s"
    },
    {
     "name": "stdout",
     "output_type": "stream",
     "text": "\r[####################################                                                      ] | 40% Completed | 22.8s"
    },
    {
     "name": "stdout",
     "output_type": "stream",
     "text": "\r[####################################                                                      ] | 40% Completed | 22.9s"
    },
    {
     "name": "stdout",
     "output_type": "stream",
     "text": "\r[####################################                                                      ] | 40% Completed | 23.0s"
    },
    {
     "name": "stdout",
     "output_type": "stream",
     "text": "\r[####################################                                                      ] | 40% Completed | 23.1s"
    },
    {
     "name": "stdout",
     "output_type": "stream",
     "text": "\r[####################################                                                      ] | 40% Completed | 23.2s"
    },
    {
     "name": "stdout",
     "output_type": "stream",
     "text": "\r[####################################                                                      ] | 40% Completed | 23.3s"
    },
    {
     "name": "stdout",
     "output_type": "stream",
     "text": "\r[####################################                                                      ] | 40% Completed | 23.4s"
    },
    {
     "name": "stdout",
     "output_type": "stream",
     "text": "\r[####################################                                                      ] | 40% Completed | 23.5s"
    },
    {
     "name": "stdout",
     "output_type": "stream",
     "text": "\r[####################################                                                      ] | 40% Completed | 23.6s"
    },
    {
     "name": "stdout",
     "output_type": "stream",
     "text": "\r[####################################                                                      ] | 41% Completed | 23.7s"
    },
    {
     "name": "stdout",
     "output_type": "stream",
     "text": "\r[#####################################                                                     ] | 41% Completed | 23.8s"
    },
    {
     "name": "stdout",
     "output_type": "stream",
     "text": "\r[#####################################                                                     ] | 41% Completed | 23.9s"
    },
    {
     "name": "stdout",
     "output_type": "stream",
     "text": "\r[#####################################                                                     ] | 41% Completed | 24.0s"
    },
    {
     "name": "stdout",
     "output_type": "stream",
     "text": "\r[#####################################                                                     ] | 42% Completed | 24.1s"
    },
    {
     "name": "stdout",
     "output_type": "stream",
     "text": "\r[#####################################                                                     ] | 42% Completed | 24.2s"
    },
    {
     "name": "stdout",
     "output_type": "stream",
     "text": "\r[#####################################                                                     ] | 42% Completed | 24.3s"
    },
    {
     "name": "stdout",
     "output_type": "stream",
     "text": "\r[#####################################                                                     ] | 42% Completed | 24.4s"
    },
    {
     "name": "stdout",
     "output_type": "stream",
     "text": "\r[######################################                                                    ] | 42% Completed | 24.5s"
    },
    {
     "name": "stdout",
     "output_type": "stream",
     "text": "\r[######################################                                                    ] | 43% Completed | 24.6s"
    },
    {
     "name": "stdout",
     "output_type": "stream",
     "text": "\r[######################################                                                    ] | 43% Completed | 24.7s"
    },
    {
     "name": "stdout",
     "output_type": "stream",
     "text": "\r[#######################################                                                   ] | 43% Completed | 24.8s"
    },
    {
     "name": "stdout",
     "output_type": "stream",
     "text": "\r[#######################################                                                   ] | 44% Completed | 24.9s"
    },
    {
     "name": "stdout",
     "output_type": "stream",
     "text": "\r[#######################################                                                   ] | 44% Completed | 25.1s"
    },
    {
     "name": "stdout",
     "output_type": "stream",
     "text": "\r[#######################################                                                   ] | 44% Completed | 25.2s"
    },
    {
     "name": "stdout",
     "output_type": "stream",
     "text": "\r[#######################################                                                   ] | 44% Completed | 25.3s"
    },
    {
     "name": "stdout",
     "output_type": "stream",
     "text": "\r[#######################################                                                   ] | 44% Completed | 25.4s"
    },
    {
     "name": "stdout",
     "output_type": "stream",
     "text": "\r[#######################################                                                   ] | 44% Completed | 25.5s"
    },
    {
     "name": "stdout",
     "output_type": "stream",
     "text": "\r[#######################################                                                   ] | 44% Completed | 25.6s"
    },
    {
     "name": "stdout",
     "output_type": "stream",
     "text": "\r[########################################                                                  ] | 44% Completed | 25.7s"
    },
    {
     "name": "stdout",
     "output_type": "stream",
     "text": "\r[########################################                                                  ] | 44% Completed | 25.8s"
    },
    {
     "name": "stdout",
     "output_type": "stream",
     "text": "\r[########################################                                                  ] | 44% Completed | 25.9s"
    },
    {
     "name": "stdout",
     "output_type": "stream",
     "text": "\r[########################################                                                  ] | 45% Completed | 26.0s"
    },
    {
     "name": "stdout",
     "output_type": "stream",
     "text": "\r[########################################                                                  ] | 45% Completed | 26.1s"
    },
    {
     "name": "stdout",
     "output_type": "stream",
     "text": "\r[########################################                                                  ] | 45% Completed | 26.2s"
    },
    {
     "name": "stdout",
     "output_type": "stream",
     "text": "\r[#########################################                                                 ] | 46% Completed | 26.3s"
    },
    {
     "name": "stdout",
     "output_type": "stream",
     "text": "\r[#########################################                                                 ] | 46% Completed | 26.4s"
    },
    {
     "name": "stdout",
     "output_type": "stream",
     "text": "\r[#########################################                                                 ] | 46% Completed | 26.5s"
    },
    {
     "name": "stdout",
     "output_type": "stream",
     "text": "\r[#########################################                                                 ] | 46% Completed | 26.6s"
    },
    {
     "name": "stdout",
     "output_type": "stream",
     "text": "\r[#########################################                                                 ] | 46% Completed | 26.7s"
    },
    {
     "name": "stdout",
     "output_type": "stream",
     "text": "\r[#########################################                                                 ] | 46% Completed | 26.8s"
    },
    {
     "name": "stdout",
     "output_type": "stream",
     "text": "\r[#########################################                                                 ] | 46% Completed | 26.9s"
    },
    {
     "name": "stdout",
     "output_type": "stream",
     "text": "\r[#########################################                                                 ] | 46% Completed | 27.0s"
    },
    {
     "name": "stdout",
     "output_type": "stream",
     "text": "\r[##########################################                                                ] | 47% Completed | 27.1s"
    },
    {
     "name": "stdout",
     "output_type": "stream",
     "text": "\r[###########################################                                               ] | 48% Completed | 27.2s"
    },
    {
     "name": "stdout",
     "output_type": "stream",
     "text": "\r[###########################################                                               ] | 48% Completed | 27.3s"
    },
    {
     "name": "stdout",
     "output_type": "stream",
     "text": "\r[###########################################                                               ] | 48% Completed | 27.4s"
    },
    {
     "name": "stdout",
     "output_type": "stream",
     "text": "\r[###########################################                                               ] | 48% Completed | 27.5s"
    },
    {
     "name": "stdout",
     "output_type": "stream",
     "text": "\r[###########################################                                               ] | 48% Completed | 27.6s"
    },
    {
     "name": "stdout",
     "output_type": "stream",
     "text": "\r[###########################################                                               ] | 48% Completed | 27.7s"
    },
    {
     "name": "stdout",
     "output_type": "stream",
     "text": "\r[###########################################                                               ] | 48% Completed | 27.8s"
    },
    {
     "name": "stdout",
     "output_type": "stream",
     "text": "\r[###########################################                                               ] | 48% Completed | 27.9s"
    },
    {
     "name": "stdout",
     "output_type": "stream",
     "text": "\r[###########################################                                               ] | 48% Completed | 28.0s"
    },
    {
     "name": "stdout",
     "output_type": "stream",
     "text": "\r[###########################################                                               ] | 48% Completed | 28.1s"
    },
    {
     "name": "stdout",
     "output_type": "stream",
     "text": "\r[############################################                                              ] | 49% Completed | 28.2s"
    },
    {
     "name": "stdout",
     "output_type": "stream",
     "text": "\r[############################################                                              ] | 49% Completed | 28.3s"
    },
    {
     "name": "stdout",
     "output_type": "stream",
     "text": "\r[#############################################                                             ] | 50% Completed | 28.5s"
    },
    {
     "name": "stdout",
     "output_type": "stream",
     "text": "\r[#############################################                                             ] | 50% Completed | 28.6s"
    },
    {
     "name": "stdout",
     "output_type": "stream",
     "text": "\r[#############################################                                             ] | 50% Completed | 28.7s"
    },
    {
     "name": "stdout",
     "output_type": "stream",
     "text": "\r[#############################################                                             ] | 50% Completed | 28.8s"
    },
    {
     "name": "stdout",
     "output_type": "stream",
     "text": "\r[#############################################                                             ] | 50% Completed | 28.9s"
    },
    {
     "name": "stdout",
     "output_type": "stream",
     "text": "\r[#############################################                                             ] | 50% Completed | 29.0s"
    },
    {
     "name": "stdout",
     "output_type": "stream",
     "text": "\r[#############################################                                             ] | 50% Completed | 29.1s"
    },
    {
     "name": "stdout",
     "output_type": "stream",
     "text": "\r[#############################################                                             ] | 50% Completed | 29.2s"
    },
    {
     "name": "stdout",
     "output_type": "stream",
     "text": "\r[#############################################                                             ] | 50% Completed | 29.3s"
    },
    {
     "name": "stdout",
     "output_type": "stream",
     "text": "\r[#############################################                                             ] | 50% Completed | 29.4s"
    },
    {
     "name": "stdout",
     "output_type": "stream",
     "text": "\r[#############################################                                             ] | 50% Completed | 29.5s"
    },
    {
     "name": "stdout",
     "output_type": "stream",
     "text": "\r[##############################################                                            ] | 51% Completed | 29.6s"
    },
    {
     "name": "stdout",
     "output_type": "stream",
     "text": "\r[##############################################                                            ] | 52% Completed | 29.7s"
    },
    {
     "name": "stdout",
     "output_type": "stream",
     "text": "\r[##############################################                                            ] | 52% Completed | 29.8s"
    },
    {
     "name": "stdout",
     "output_type": "stream",
     "text": "\r[##############################################                                            ] | 52% Completed | 29.9s"
    },
    {
     "name": "stdout",
     "output_type": "stream",
     "text": "\r[##############################################                                            ] | 52% Completed | 30.0s"
    },
    {
     "name": "stdout",
     "output_type": "stream",
     "text": "\r[##############################################                                            ] | 52% Completed | 30.1s"
    },
    {
     "name": "stdout",
     "output_type": "stream",
     "text": "\r[##############################################                                            ] | 52% Completed | 30.2s"
    },
    {
     "name": "stdout",
     "output_type": "stream",
     "text": "\r[##############################################                                            ] | 52% Completed | 30.3s"
    },
    {
     "name": "stdout",
     "output_type": "stream",
     "text": "\r[##############################################                                            ] | 52% Completed | 30.4s"
    },
    {
     "name": "stdout",
     "output_type": "stream",
     "text": "\r[##############################################                                            ] | 52% Completed | 30.5s"
    },
    {
     "name": "stdout",
     "output_type": "stream",
     "text": "\r[##############################################                                            ] | 52% Completed | 30.6s"
    },
    {
     "name": "stdout",
     "output_type": "stream",
     "text": "\r[###############################################                                           ] | 53% Completed | 30.7s"
    },
    {
     "name": "stdout",
     "output_type": "stream",
     "text": "\r[###############################################                                           ] | 53% Completed | 30.8s"
    },
    {
     "name": "stdout",
     "output_type": "stream",
     "text": "\r[###############################################                                           ] | 53% Completed | 30.9s"
    },
    {
     "name": "stdout",
     "output_type": "stream",
     "text": "\r[###############################################                                           ] | 53% Completed | 31.0s"
    },
    {
     "name": "stdout",
     "output_type": "stream",
     "text": "\r[################################################                                          ] | 53% Completed | 31.1s"
    },
    {
     "name": "stdout",
     "output_type": "stream",
     "text": "\r[################################################                                          ] | 53% Completed | 31.2s"
    },
    {
     "name": "stdout",
     "output_type": "stream",
     "text": "\r[################################################                                          ] | 54% Completed | 31.3s"
    },
    {
     "name": "stdout",
     "output_type": "stream",
     "text": "\r[################################################                                          ] | 54% Completed | 31.4s"
    },
    {
     "name": "stdout",
     "output_type": "stream",
     "text": "\r[#################################################                                         ] | 54% Completed | 31.6s"
    },
    {
     "name": "stdout",
     "output_type": "stream",
     "text": "\r[#################################################                                         ] | 54% Completed | 31.7s"
    },
    {
     "name": "stdout",
     "output_type": "stream",
     "text": "\r[#################################################                                         ] | 54% Completed | 31.8s"
    },
    {
     "name": "stdout",
     "output_type": "stream",
     "text": "\r[#################################################                                         ] | 54% Completed | 31.9s"
    },
    {
     "name": "stdout",
     "output_type": "stream",
     "text": "\r[#################################################                                         ] | 54% Completed | 32.0s"
    },
    {
     "name": "stdout",
     "output_type": "stream",
     "text": "\r[#################################################                                         ] | 54% Completed | 32.1s"
    },
    {
     "name": "stdout",
     "output_type": "stream",
     "text": "\r[#################################################                                         ] | 55% Completed | 32.2s"
    },
    {
     "name": "stdout",
     "output_type": "stream",
     "text": "\r[#################################################                                         ] | 55% Completed | 32.3s"
    },
    {
     "name": "stdout",
     "output_type": "stream",
     "text": "\r[#################################################                                         ] | 55% Completed | 32.4s"
    },
    {
     "name": "stdout",
     "output_type": "stream",
     "text": "\r[#################################################                                         ] | 55% Completed | 32.5s"
    },
    {
     "name": "stdout",
     "output_type": "stream",
     "text": "\r[##################################################                                        ] | 55% Completed | 32.6s"
    },
    {
     "name": "stdout",
     "output_type": "stream",
     "text": "\r[##################################################                                        ] | 56% Completed | 32.7s"
    },
    {
     "name": "stdout",
     "output_type": "stream",
     "text": "\r[##################################################                                        ] | 56% Completed | 32.8s"
    },
    {
     "name": "stdout",
     "output_type": "stream",
     "text": "\r[##################################################                                        ] | 56% Completed | 32.9s"
    },
    {
     "name": "stdout",
     "output_type": "stream",
     "text": "\r[##################################################                                        ] | 56% Completed | 33.0s"
    },
    {
     "name": "stdout",
     "output_type": "stream",
     "text": "\r[##################################################                                        ] | 56% Completed | 33.1s"
    },
    {
     "name": "stdout",
     "output_type": "stream",
     "text": "\r[##################################################                                        ] | 56% Completed | 33.2s"
    },
    {
     "name": "stdout",
     "output_type": "stream",
     "text": "\r[##################################################                                        ] | 56% Completed | 33.3s"
    },
    {
     "name": "stdout",
     "output_type": "stream",
     "text": "\r[##################################################                                        ] | 56% Completed | 33.4s"
    },
    {
     "name": "stdout",
     "output_type": "stream",
     "text": "\r[##################################################                                        ] | 56% Completed | 33.5s"
    },
    {
     "name": "stdout",
     "output_type": "stream",
     "text": "\r[###################################################                                       ] | 57% Completed | 33.6s"
    },
    {
     "name": "stdout",
     "output_type": "stream",
     "text": "\r[###################################################                                       ] | 57% Completed | 33.7s"
    },
    {
     "name": "stdout",
     "output_type": "stream",
     "text": "\r[####################################################                                      ] | 57% Completed | 33.8s"
    },
    {
     "name": "stdout",
     "output_type": "stream",
     "text": "\r[####################################################                                      ] | 58% Completed | 33.9s"
    },
    {
     "name": "stdout",
     "output_type": "stream",
     "text": "\r[####################################################                                      ] | 58% Completed | 34.0s"
    },
    {
     "name": "stdout",
     "output_type": "stream",
     "text": "\r[####################################################                                      ] | 58% Completed | 34.1s"
    },
    {
     "name": "stdout",
     "output_type": "stream",
     "text": "\r[####################################################                                      ] | 58% Completed | 34.2s"
    },
    {
     "name": "stdout",
     "output_type": "stream",
     "text": "\r[####################################################                                      ] | 58% Completed | 34.3s"
    },
    {
     "name": "stdout",
     "output_type": "stream",
     "text": "\r[####################################################                                      ] | 58% Completed | 34.4s"
    },
    {
     "name": "stdout",
     "output_type": "stream",
     "text": "\r[####################################################                                      ] | 58% Completed | 34.5s"
    },
    {
     "name": "stdout",
     "output_type": "stream",
     "text": "\r[####################################################                                      ] | 58% Completed | 34.7s"
    },
    {
     "name": "stdout",
     "output_type": "stream",
     "text": "\r[####################################################                                      ] | 58% Completed | 34.8s"
    },
    {
     "name": "stdout",
     "output_type": "stream",
     "text": "\r[####################################################                                      ] | 58% Completed | 34.9s"
    },
    {
     "name": "stdout",
     "output_type": "stream",
     "text": "\r[#####################################################                                     ] | 59% Completed | 35.0s"
    },
    {
     "name": "stdout",
     "output_type": "stream",
     "text": "\r[#####################################################                                     ] | 59% Completed | 35.1s"
    },
    {
     "name": "stdout",
     "output_type": "stream",
     "text": "\r[#####################################################                                     ] | 59% Completed | 35.2s"
    },
    {
     "name": "stdout",
     "output_type": "stream",
     "text": "\r[######################################################                                    ] | 60% Completed | 35.3s"
    },
    {
     "name": "stdout",
     "output_type": "stream",
     "text": "\r[######################################################                                    ] | 60% Completed | 35.4s"
    },
    {
     "name": "stdout",
     "output_type": "stream",
     "text": "\r[######################################################                                    ] | 60% Completed | 35.5s"
    },
    {
     "name": "stdout",
     "output_type": "stream",
     "text": "\r[######################################################                                    ] | 60% Completed | 35.6s"
    },
    {
     "name": "stdout",
     "output_type": "stream",
     "text": "\r[######################################################                                    ] | 60% Completed | 35.7s"
    },
    {
     "name": "stdout",
     "output_type": "stream",
     "text": "\r[######################################################                                    ] | 60% Completed | 35.8s"
    },
    {
     "name": "stdout",
     "output_type": "stream",
     "text": "\r[######################################################                                    ] | 60% Completed | 35.9s"
    },
    {
     "name": "stdout",
     "output_type": "stream",
     "text": "\r[######################################################                                    ] | 60% Completed | 36.0s"
    },
    {
     "name": "stdout",
     "output_type": "stream",
     "text": "\r[######################################################                                    ] | 60% Completed | 36.1s"
    },
    {
     "name": "stdout",
     "output_type": "stream",
     "text": "\r[######################################################                                    ] | 60% Completed | 36.2s"
    },
    {
     "name": "stdout",
     "output_type": "stream",
     "text": "\r[#######################################################                                   ] | 61% Completed | 36.3s"
    },
    {
     "name": "stdout",
     "output_type": "stream",
     "text": "\r[#######################################################                                   ] | 61% Completed | 36.4s"
    },
    {
     "name": "stdout",
     "output_type": "stream",
     "text": "\r[#######################################################                                   ] | 62% Completed | 36.5s"
    },
    {
     "name": "stdout",
     "output_type": "stream",
     "text": "\r[########################################################                                  ] | 62% Completed | 36.6s"
    },
    {
     "name": "stdout",
     "output_type": "stream",
     "text": "\r[########################################################                                  ] | 62% Completed | 36.7s"
    },
    {
     "name": "stdout",
     "output_type": "stream",
     "text": "\r[########################################################                                  ] | 62% Completed | 36.8s"
    },
    {
     "name": "stdout",
     "output_type": "stream",
     "text": "\r[########################################################                                  ] | 62% Completed | 36.9s"
    },
    {
     "name": "stdout",
     "output_type": "stream",
     "text": "\r[########################################################                                  ] | 62% Completed | 37.0s"
    },
    {
     "name": "stdout",
     "output_type": "stream",
     "text": "\r[########################################################                                  ] | 63% Completed | 37.1s"
    },
    {
     "name": "stdout",
     "output_type": "stream",
     "text": "\r[#########################################################                                 ] | 63% Completed | 37.2s"
    },
    {
     "name": "stdout",
     "output_type": "stream",
     "text": "\r[#########################################################                                 ] | 63% Completed | 37.3s"
    },
    {
     "name": "stdout",
     "output_type": "stream",
     "text": "\r[#########################################################                                 ] | 64% Completed | 37.4s"
    },
    {
     "name": "stdout",
     "output_type": "stream",
     "text": "\r[##########################################################                                ] | 64% Completed | 37.5s"
    },
    {
     "name": "stdout",
     "output_type": "stream",
     "text": "\r[##########################################################                                ] | 65% Completed | 37.6s"
    },
    {
     "name": "stdout",
     "output_type": "stream",
     "text": "\r[##########################################################                                ] | 65% Completed | 37.7s"
    },
    {
     "name": "stdout",
     "output_type": "stream",
     "text": "\r[###########################################################                               ] | 65% Completed | 37.8s"
    },
    {
     "name": "stdout",
     "output_type": "stream",
     "text": "\r[###########################################################                               ] | 66% Completed | 37.9s"
    },
    {
     "name": "stdout",
     "output_type": "stream",
     "text": "\r[###########################################################                               ] | 66% Completed | 38.1s"
    },
    {
     "name": "stdout",
     "output_type": "stream",
     "text": "\r[############################################################                              ] | 67% Completed | 38.2s"
    },
    {
     "name": "stdout",
     "output_type": "stream",
     "text": "\r[############################################################                              ] | 67% Completed | 38.3s"
    },
    {
     "name": "stdout",
     "output_type": "stream",
     "text": "\r[#############################################################                             ] | 68% Completed | 38.4s"
    },
    {
     "name": "stdout",
     "output_type": "stream",
     "text": "\r[##############################################################                            ] | 69% Completed | 38.5s"
    },
    {
     "name": "stdout",
     "output_type": "stream",
     "text": "\r[##############################################################                            ] | 69% Completed | 38.6s"
    },
    {
     "name": "stdout",
     "output_type": "stream",
     "text": "\r[##############################################################                            ] | 69% Completed | 38.7s"
    },
    {
     "name": "stdout",
     "output_type": "stream",
     "text": "\r[##############################################################                            ] | 70% Completed | 38.8s"
    },
    {
     "name": "stdout",
     "output_type": "stream",
     "text": "\r[##############################################################                            ] | 70% Completed | 38.9s"
    },
    {
     "name": "stdout",
     "output_type": "stream",
     "text": "\r[###############################################################                           ] | 71% Completed | 39.0s"
    },
    {
     "name": "stdout",
     "output_type": "stream",
     "text": "\r[################################################################                          ] | 71% Completed | 39.1s"
    },
    {
     "name": "stdout",
     "output_type": "stream",
     "text": "\r[################################################################                          ] | 71% Completed | 39.2s"
    },
    {
     "name": "stdout",
     "output_type": "stream",
     "text": "\r[################################################################                          ] | 72% Completed | 39.3s"
    },
    {
     "name": "stdout",
     "output_type": "stream",
     "text": "\r[#################################################################                         ] | 72% Completed | 39.4s"
    },
    {
     "name": "stdout",
     "output_type": "stream",
     "text": "\r[##################################################################                        ] | 74% Completed | 39.5s"
    },
    {
     "name": "stdout",
     "output_type": "stream",
     "text": "\r[##################################################################                        ] | 74% Completed | 39.6s"
    },
    {
     "name": "stdout",
     "output_type": "stream",
     "text": "\r[##################################################################                        ] | 74% Completed | 39.7s"
    },
    {
     "name": "stdout",
     "output_type": "stream",
     "text": "\r[###################################################################                       ] | 75% Completed | 39.8s"
    },
    {
     "name": "stdout",
     "output_type": "stream",
     "text": "\r[###################################################################                       ] | 75% Completed | 39.9s"
    },
    {
     "name": "stdout",
     "output_type": "stream",
     "text": "\r[###################################################################                       ] | 75% Completed | 40.0s"
    },
    {
     "name": "stdout",
     "output_type": "stream",
     "text": "\r[####################################################################                      ] | 76% Completed | 40.1s"
    },
    {
     "name": "stdout",
     "output_type": "stream",
     "text": "\r[#####################################################################                     ] | 77% Completed | 40.2s"
    },
    {
     "name": "stdout",
     "output_type": "stream",
     "text": "\r[######################################################################                    ] | 78% Completed | 40.3s"
    },
    {
     "name": "stdout",
     "output_type": "stream",
     "text": "\r[######################################################################                    ] | 78% Completed | 40.4s"
    },
    {
     "name": "stdout",
     "output_type": "stream",
     "text": "\r[#######################################################################                   ] | 79% Completed | 40.5s"
    },
    {
     "name": "stdout",
     "output_type": "stream",
     "text": "\r[#######################################################################                   ] | 79% Completed | 40.6s"
    },
    {
     "name": "stdout",
     "output_type": "stream",
     "text": "\r[#######################################################################                   ] | 79% Completed | 40.8s"
    },
    {
     "name": "stdout",
     "output_type": "stream",
     "text": "\r[########################################################################                  ] | 80% Completed | 40.9s"
    },
    {
     "name": "stdout",
     "output_type": "stream",
     "text": "\r[########################################################################                  ] | 80% Completed | 41.0s"
    },
    {
     "name": "stdout",
     "output_type": "stream",
     "text": "\r[#########################################################################                 ] | 81% Completed | 41.1s"
    },
    {
     "name": "stdout",
     "output_type": "stream",
     "text": "\r[#########################################################################                 ] | 82% Completed | 41.2s"
    },
    {
     "name": "stdout",
     "output_type": "stream",
     "text": "\r[##########################################################################                ] | 82% Completed | 41.3s"
    },
    {
     "name": "stdout",
     "output_type": "stream",
     "text": "\r[##########################################################################                ] | 83% Completed | 41.4s"
    },
    {
     "name": "stdout",
     "output_type": "stream",
     "text": "\r[###########################################################################               ] | 83% Completed | 41.5s"
    },
    {
     "name": "stdout",
     "output_type": "stream",
     "text": "\r[###########################################################################               ] | 83% Completed | 41.6s"
    },
    {
     "name": "stdout",
     "output_type": "stream",
     "text": "\r[###########################################################################               ] | 84% Completed | 41.7s"
    },
    {
     "name": "stdout",
     "output_type": "stream",
     "text": "\r[###########################################################################               ] | 84% Completed | 41.8s"
    },
    {
     "name": "stdout",
     "output_type": "stream",
     "text": "\r[############################################################################              ] | 85% Completed | 41.9s"
    },
    {
     "name": "stdout",
     "output_type": "stream",
     "text": "\r[#############################################################################             ] | 86% Completed | 42.0s"
    },
    {
     "name": "stdout",
     "output_type": "stream",
     "text": "\r[##############################################################################            ] | 87% Completed | 42.1s"
    },
    {
     "name": "stdout",
     "output_type": "stream",
     "text": "\r[##############################################################################            ] | 87% Completed | 42.2s"
    },
    {
     "name": "stdout",
     "output_type": "stream",
     "text": "\r[##############################################################################            ] | 87% Completed | 42.3s"
    },
    {
     "name": "stdout",
     "output_type": "stream",
     "text": "\r[##############################################################################            ] | 87% Completed | 42.4s"
    },
    {
     "name": "stdout",
     "output_type": "stream",
     "text": "\r[###############################################################################           ] | 88% Completed | 42.5s"
    },
    {
     "name": "stdout",
     "output_type": "stream",
     "text": "\r[###############################################################################           ] | 88% Completed | 42.6s"
    },
    {
     "name": "stdout",
     "output_type": "stream",
     "text": "\r[################################################################################          ] | 89% Completed | 42.7s"
    },
    {
     "name": "stdout",
     "output_type": "stream",
     "text": "\r[#################################################################################         ] | 90% Completed | 42.9s"
    },
    {
     "name": "stdout",
     "output_type": "stream",
     "text": "\r[#################################################################################         ] | 91% Completed | 43.0s"
    },
    {
     "name": "stdout",
     "output_type": "stream",
     "text": "\r[##################################################################################        ] | 91% Completed | 43.1s"
    },
    {
     "name": "stdout",
     "output_type": "stream",
     "text": "\r[##################################################################################        ] | 91% Completed | 43.2s"
    },
    {
     "name": "stdout",
     "output_type": "stream",
     "text": "\r[##################################################################################        ] | 91% Completed | 43.3s"
    },
    {
     "name": "stdout",
     "output_type": "stream",
     "text": "\r[##################################################################################        ] | 92% Completed | 43.4s"
    },
    {
     "name": "stdout",
     "output_type": "stream",
     "text": "\r[###################################################################################       ] | 92% Completed | 43.5s"
    },
    {
     "name": "stdout",
     "output_type": "stream",
     "text": "\r[####################################################################################      ] | 94% Completed | 43.6s"
    },
    {
     "name": "stdout",
     "output_type": "stream",
     "text": "\r[#####################################################################################     ] | 94% Completed | 43.7s"
    },
    {
     "name": "stdout",
     "output_type": "stream",
     "text": "\r[#####################################################################################     ] | 94% Completed | 43.8s"
    },
    {
     "name": "stdout",
     "output_type": "stream",
     "text": "\r[#####################################################################################     ] | 95% Completed | 43.9s"
    },
    {
     "name": "stdout",
     "output_type": "stream",
     "text": "\r[######################################################################################    ] | 95% Completed | 44.0s"
    },
    {
     "name": "stdout",
     "output_type": "stream",
     "text": "\r[######################################################################################    ] | 96% Completed | 44.1s"
    },
    {
     "name": "stdout",
     "output_type": "stream",
     "text": "\r[########################################################################################  ] | 98% Completed | 44.2s"
    },
    {
     "name": "stdout",
     "output_type": "stream",
     "text": "\r[########################################################################################  ] | 98% Completed | 44.3s"
    },
    {
     "name": "stdout",
     "output_type": "stream",
     "text": "\r[######################################################################################### ] | 99% Completed | 44.4s"
    },
    {
     "name": "stdout",
     "output_type": "stream",
     "text": "\r[##########################################################################################] | 100% Completed | 44.5s"
    },
    {
     "name": "stdout",
     "output_type": "stream",
     "text": "\n"
    },
    {
     "data": {
      "text/plain": "(51703, 10)"
     },
     "metadata": {},
     "output_type": "display_data",
     "transient": {}
    },
    {
     "data": {
      "text/html": "<table border=\"1\" class=\"dataframe\">\n  <thead>\n    <tr style=\"text-align: right;\">\n      <th></th>\n      <th>dataset</th>\n      <th>name</th>\n      <th>species</th>\n      <th>species_query</th>\n      <th>basename</th>\n      <th>duration_s</th>\n      <th>samples_mb</th>\n      <th>samples_n</th>\n      <th>samples</th>\n      <th>audio</th>\n    </tr>\n  </thead>\n  <tbody>\n    <tr>\n      <th>0</th>\n      <td><div class=\"not-number\">recordings</div></td>\n      <td><div class=\"not-number\">recordings/black phoebe, chirps, noise</div></td>\n      <td><div class=\"not-number\">XX</div></td>\n      <td><div class=\"not-number\">None</div></td>\n      <td><div class=\"not-number\">black phoebe, chirps, noise</div></td>\n      <td>32.906</td>\n      <td>1.384</td>\n      <td>725569</td>\n      <td><div class=\"not-number\">None</div></td>\n      <td><div class=\"not-number\">None</div></td>\n    </tr>\n    <tr>\n      <th>1</th>\n      <td><div class=\"not-number\">recordings</div></td>\n      <td><div class=\"not-number\">recordings/black phoebe, sitting and catching</div></td>\n      <td><div class=\"not-number\">XX</div></td>\n      <td><div class=\"not-number\">None</div></td>\n      <td><div class=\"not-number\">black phoebe, sitting and catching</div></td>\n      <td>83.255</td>\n      <td>3.501</td>\n      <td>1835765</td>\n      <td><div class=\"not-number\">None</div></td>\n      <td><div class=\"not-number\">None</div></td>\n    </tr>\n    <tr>\n      <th>2</th>\n      <td><div class=\"not-number\">recordings</div></td>\n      <td><div class=\"not-number\">recordings/caique purring</div></td>\n      <td><div class=\"not-number\">XX</div></td>\n      <td><div class=\"not-number\">None</div></td>\n      <td><div class=\"not-number\">caique purring</div></td>\n      <td>48.756</td>\n      <td>2.051</td>\n      <td>1075070</td>\n      <td><div class=\"not-number\">None</div></td>\n      <td><div class=\"not-number\">None</div></td>\n    </tr>\n    <tr>\n      <th>3</th>\n      <td><div class=\"not-number\">recordings</div></td>\n      <td><div class=\"not-number\">recordings/cal towhee</div></td>\n      <td><div class=\"not-number\">XX</div></td>\n      <td><div class=\"not-number\">None</div></td>\n      <td><div class=\"not-number\">cal towhee</div></td>\n      <td>43.163</td>\n      <td>1.815</td>\n      <td>951746</td>\n      <td><div class=\"not-number\">None</div></td>\n      <td><div class=\"not-number\">None</div></td>\n    </tr>\n    <tr>\n      <th>4</th>\n      <td><div class=\"not-number\">recordings</div></td>\n      <td><div class=\"not-number\">recordings/chickadee funny noise, other chirp song sparrow</div></td>\n      <td><div class=\"not-number\">XX</div></td>\n      <td><div class=\"not-number\">None</div></td>\n      <td><div class=\"not-number\">chickadee funny noise, other chirp song sparrow</div></td>\n      <td>81.674</td>\n      <td>3.435</td>\n      <td>1800915</td>\n      <td><div class=\"not-number\">None</div></td>\n      <td><div class=\"not-number\">None</div></td>\n    </tr>\n  </tbody>\n</table>",
      "text/plain": "      dataset                                                        name species species_query                                         basename  duration_s  samples_mb  samples_n samples audio\n0  recordings                      recordings/black phoebe, chirps, noise      XX          None                      black phoebe, chirps, noise      32.906       1.384     725569    None  None\n1  recordings               recordings/black phoebe, sitting and catching      XX          None               black phoebe, sitting and catching      83.255       3.501    1835765    None  None\n2  recordings                                   recordings/caique purring      XX          None                                   caique purring      48.756       2.051    1075070    None  None\n3  recordings                                       recordings/cal towhee      XX          None                                       cal towhee      43.163       1.815     951746    None  None\n4  recordings  recordings/chickadee funny noise, other chirp song sparrow      XX          None  chickadee funny noise, other chirp song sparrow      81.674       3.435    1800915    None  None"
     },
     "metadata": {},
     "output_type": "display_data",
     "transient": {}
    },
    {
     "data": {
      "text/html": "<table border=\"1\" class=\"dataframe\">\n  <thead>\n    <tr style=\"text-align: right;\">\n      <th></th>\n      <th>0</th>\n    </tr>\n  </thead>\n  <tbody>\n    <tr>\n      <th>dataset</th>\n      <td><div class=\"not-number\">recordings</div></td>\n    </tr>\n    <tr>\n      <th>name</th>\n      <td><div class=\"not-number\">recordings/black phoebe, chirps, noise</div></td>\n    </tr>\n    <tr>\n      <th>species</th>\n      <td><div class=\"not-number\">XX</div></td>\n    </tr>\n    <tr>\n      <th>species_query</th>\n      <td><div class=\"not-number\">None</div></td>\n    </tr>\n    <tr>\n      <th>basename</th>\n      <td><div class=\"not-number\">black phoebe, chirps, noise</div></td>\n    </tr>\n    <tr>\n      <th>duration_s</th>\n      <td>32.9</td>\n    </tr>\n    <tr>\n      <th>samples_mb</th>\n      <td>1.38</td>\n    </tr>\n    <tr>\n      <th>samples_n</th>\n      <td>725569</td>\n    </tr>\n    <tr>\n      <th>samples</th>\n      <td><div class=\"not-number\">None</div></td>\n    </tr>\n    <tr>\n      <th>audio</th>\n      <td><div class=\"not-number\">None</div></td>\n    </tr>\n  </tbody>\n</table>",
      "text/plain": "                                                    0\ndataset                                    recordings\nname           recordings/black phoebe, chirps, noise\nspecies                                            XX\nspecies_query                                    None\nbasename                  black phoebe, chirps, noise\nduration_s                                       32.9\nsamples_mb                                       1.38\nsamples_n                                      725569\nsamples                                          None\naudio                                            None"
     },
     "metadata": {},
     "output_type": "display_data",
     "transient": {}
    }
   ],
   "source": [
    "recs = load_recs_data(\n",
    "    (recs_paths\n",
    "        # .sample(1000)  # For faster dev\n",
    "        # [lambda df: df.species == 'WIWA'].reset_index(drop=True)  # For faster dev\n",
    "    ),\n",
    "    metadata_only=True,\n",
    ")\n",
    "display(\n",
    "    recs.shape,\n",
    "    recs[:5],\n",
    "    recs[:1].T,\n",
    ")"
   ]
  },
  {
   "cell_type": "code",
   "execution_count": null,
   "metadata": {},
   "outputs": [
    {
     "data": {
      "text/html": "<table border=\"1\" class=\"dataframe\">\n  <thead>\n    <tr style=\"text-align: right;\">\n      <th></th>\n      <th>n</th>\n      <th>duration_h</th>\n      <th>samples_gb</th>\n      <th>samples_n</th>\n    </tr>\n    <tr>\n      <th>dataset</th>\n      <th></th>\n      <th></th>\n      <th></th>\n      <th></th>\n    </tr>\n  </thead>\n  <tbody>\n    <tr>\n      <th>birdclef-2015</th>\n      <td>33203</td>\n      <td>314.363</td>\n      <td>46.481</td>\n      <td>24954119550</td>\n    </tr>\n    <tr>\n      <th>ff1010bird</th>\n      <td>7690</td>\n      <td>21.361</td>\n      <td>3.158</td>\n      <td>1695645000</td>\n    </tr>\n    <tr>\n      <th>mlsp-2013</th>\n      <td>645</td>\n      <td>1.792</td>\n      <td>0.265</td>\n      <td>142222500</td>\n    </tr>\n    <tr>\n      <th>nips4b</th>\n      <td>1687</td>\n      <td>1.966</td>\n      <td>0.291</td>\n      <td>156083968</td>\n    </tr>\n    <tr>\n      <th>peterson-field-guide</th>\n      <td>341</td>\n      <td>1.919</td>\n      <td>0.284</td>\n      <td>152320320</td>\n    </tr>\n    <tr>\n      <th>recordings</th>\n      <td>51</td>\n      <td>0.972</td>\n      <td>0.144</td>\n      <td>77173892</td>\n    </tr>\n    <tr>\n      <th>recordings-new</th>\n      <td>86</td>\n      <td>1.563</td>\n      <td>0.231</td>\n      <td>124051049</td>\n    </tr>\n    <tr>\n      <th>warblrb10k</th>\n      <td>8000</td>\n      <td>22.404</td>\n      <td>3.313</td>\n      <td>1778407134</td>\n    </tr>\n  </tbody>\n</table>",
      "text/plain": "                          n  duration_h  samples_gb    samples_n\ndataset                                                         \nbirdclef-2015         33203     314.363      46.481  24954119550\nff1010bird             7690      21.361       3.158   1695645000\nmlsp-2013               645       1.792       0.265    142222500\nnips4b                 1687       1.966       0.291    156083968\npeterson-field-guide    341       1.919       0.284    152320320\nrecordings               51       0.972       0.144     77173892\nrecordings-new           86       1.563       0.231    124051049\nwarblrb10k             8000      22.404       3.313   1778407134"
     },
     "execution_count": 43,
     "metadata": {},
     "output_type": "execute_result"
    }
   ],
   "source": [
    "# Stats\n",
    "(recs\n",
    "    .fillna('')\n",
    "    .assign(\n",
    "        n=1,\n",
    "        duration_h=lambda df: df.duration_s / 3600,\n",
    "        samples_gb=lambda df: df.samples_mb / 1024,\n",
    "    )\n",
    "    .groupby([\n",
    "        'dataset',\n",
    "        # 'species',  # TODO\n",
    "    ])\n",
    "    [['n', 'duration_h', 'samples_gb', 'samples_n']]\n",
    "    .sum()\n",
    ")"
   ]
  }
 ],
 "metadata": {
  "kernelspec": {
   "display_name": "bubo-features (PYTHONSTARTUP)",
   "language": "python",
   "name": "bubo-features (PYTHONSTARTUP)"
  }
 },
 "nbformat": 4,
 "nbformat_minor": 2
}
