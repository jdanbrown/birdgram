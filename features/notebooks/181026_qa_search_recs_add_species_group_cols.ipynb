{
 "cells": [
  {
   "cell_type": "markdown",
   "metadata": {},
   "source": [
    "# README\n",
    "1. Edit datasets.metadata_from_dataset\n",
    "    - Add species_species_group, species_family, species_order\n",
    "2. Bump cache versions\n",
    "    - config.api.recs.search_recs.params.config\n",
    "    - load.Load.recs\n",
    "    - load.Load._metadata"
   ]
  },
  {
   "cell_type": "markdown",
   "metadata": {},
   "source": [
    "# Notes: call stack for metadata.species.df + xc.metadata + search_recs\n",
    "  [ebird]\n",
    "    metadata.species.df (NOTE @cache_to_file_forever: data/metadata/cache/_taxa-v2)\n",
    "      metadata.species._raw_ebird_df\n",
    "        # read data/metadata/ebird-*-taxa-species.csv\n",
    "        metadata.species.add_species_group_cols\n",
    "          metadata.species._raw_ebird_clements_taxo_df\n",
    "            ... [taxo]\n",
    "  [taxo]\n",
    "    metadata.species._raw_ebird_clements_taxo_df\n",
    "      # read data/metadata/eBird-Clements-*.csv.gz (taxo)\n",
    "      # join manual magics (_UNK, _MUL, _NON)\n",
    "      # join on species_code\n",
    "      # join on unmatched rows on sci_name\n",
    "      # join on unmatched rows manually (using a manual table of com_name's)\n",
    "  [xc]\n",
    "    sg.xc_meta\n",
    "      sg.load_xc_meta (NOTE @cache.version)\n",
    "        datasets.load_xc_meta\n",
    "          datasets._xc.metadata (NOTE @cache.version)\n",
    "            datasets._xc._metadata (NOTE @cache.version)\n",
    "              # read data/xc/metadata/v1/*.pkl (xc_meta)\n",
    "            # join downloaded_ids\n",
    "            # join downloaded_page_metadata\n",
    "            datasets.XCDF\n",
    "              metadata.species.df\n",
    "                ... [ebird]\n",
    "              # add .species FK from metadata.species.df (ebird)\n",
    "              # join .taxon_order, .taxon_id from metadata.species.df (ebird)\n",
    "  [search_recs]\n",
    "    sg.search_recs\n",
    "      api.recs.get_search_recs\n",
    "        payloads.df_cache_hybrid (NOTE cache: config.api.recs.search_recs.params.config.version)\n",
    "          api.recs._compute_search_recs\n",
    "            sg.xc_meta\n",
    "              ... [xc]\n",
    "            api.recs.recs_featurize_pre_rank\n",
    "              api.recs.recs_featurize_metdata_audio_slice\n",
    "                api.recs.recs_featurize_metadata\n",
    "                  datasets.xc_meta_to_raw_recs\n",
    "                    load.recs (NOTE @cache.version)\n",
    "                      load.metadata\n",
    "                        load._metadata (NOTE @cache.version)\n",
    "                          datasets.metadata_from_dataset\n",
    "                            metadata.species.df\n",
    "                              ... [ebird]\n",
    "                            # join cols from species.*\n",
    "          payloads.write_mobile_payload\n",
    "            ... [payloads/mobile]\n",
    "  [payloads/mobile]\n",
    "    payloads.write_mobile_payload\n",
    "      # write data/cache/payloads/*/mobile/"
   ]
  },
  {
   "cell_type": "markdown",
   "metadata": {},
   "source": [
    "# TODO Simplify the above call stack -- always a time sink when I try to edit it, even for simple additions\n",
    "- Reorganize around core concepts, aligned with inputs/outputs\n",
    "    - Inputs (files on disk)\n",
    "        - ebird (metadata.species.df)\n",
    "        - taxo  (add_species_group_cols / _raw_ebird_clements_taxo_df)\n",
    "        - xc    (xc_meta / _xc.metadata)\n",
    "    - Outputs\n",
    "        - search_recs     (from ebird + taxo + xc)\n",
    "        - payloads/mobile (from search_recs)"
   ]
  },
  {
   "cell_type": "code",
   "execution_count": null,
   "metadata": {
    "time": "165.147s"
   },
   "outputs": [
    {
     "name": "stdout",
     "output_type": "stream",
     "text": "INFO     [12:53:28.623] [38842] 150 logging_/<module>: {logging_yaml: None}"
    },
    {
     "name": "stdout",
     "output_type": "stream",
     "text": "\n"
    },
    {
     "name": "stdout",
     "output_type": "stream",
     "text": "INFO     [12:53:29.072] [38842]  32 api.server_globals/init"
    },
    {
     "name": "stdout",
     "output_type": "stream",
     "text": "\n"
    },
    {
     "name": "stdout",
     "output_type": "stream",
     "text": "DEBUG    [12:53:29.079] [38842]  75 api.server_globals/load: load_search..."
    },
    {
     "name": "stdout",
     "output_type": "stream",
     "text": "\n"
    },
    {
     "name": "stdout",
     "output_type": "stream",
     "text": "INFO     [12:53:29.391] [38842]  79 api.server_globals/load: load_search (took 0.306s)"
    },
    {
     "name": "stdout",
     "output_type": "stream",
     "text": "\n"
    },
    {
     "name": "stdout",
     "output_type": "stream",
     "text": "DEBUG    [12:53:29.398] [38842]  75 api.server_globals/load: load_xc_meta..."
    },
    {
     "name": "stdout",
     "output_type": "stream",
     "text": "\n"
    },
    {
     "name": "stdout",
     "output_type": "stream",
     "text": "INFO     [12:53:29.726] [38842]  79 api.server_globals/load: load_xc_meta (took 0.319s)"
    },
    {
     "name": "stdout",
     "output_type": "stream",
     "text": "\n"
    },
    {
     "name": "stdout",
     "output_type": "stream",
     "text": "DEBUG    [12:53:29.733] [38842]  75 api.server_globals/load: load_feat_info..."
    },
    {
     "name": "stdout",
     "output_type": "stream",
     "text": "\n"
    },
    {
     "name": "stdout",
     "output_type": "stream",
     "text": "INFO     [12:53:29.740] [38842] 110 api.server_globals/load_feat_info"
    },
    {
     "name": "stdout",
     "output_type": "stream",
     "text": "\n"
    },
    {
     "name": "stdout",
     "output_type": "stream",
     "text": "INFO     [12:53:29.747] [38842]  79 api.server_globals/load: load_feat_info (took 0.007s)"
    },
    {
     "name": "stdout",
     "output_type": "stream",
     "text": "\n"
    },
    {
     "name": "stdout",
     "output_type": "stream",
     "text": "WARNING  [12:53:29.753] [38842]  73 api.server_globals/load: load_search_recs [skipped]"
    },
    {
     "name": "stdout",
     "output_type": "stream",
     "text": "\n"
    },
    {
     "name": "stdout",
     "output_type": "stream",
     "text": "INFO     [12:53:29.760] [38842]  34 api.server_globals/init: done"
    },
    {
     "name": "stdout",
     "output_type": "stream",
     "text": "\n"
    },
    {
     "name": "stdout",
     "output_type": "stream",
     "text": "INFO     [12:53:29.767] [38842] 601 api.recs/get_search_recs"
    },
    {
     "name": "stdout",
     "output_type": "stream",
     "text": "\n"
    },
    {
     "name": "stdout",
     "output_type": "stream",
     "text": "INFO     [12:53:29.865] [38842]  77 payloads/df_cache_hybrid: Miss: payloads/search_recs-version[8],limit[3500],audio_s[10],countries_k[na],com_names_k[ca],num_recs[None]-064a482"
    },
    {
     "name": "stdout",
     "output_type": "stream",
     "text": "\n"
    },
    {
     "name": "stdout",
     "output_type": "stream",
     "text": "DEBUG    [12:53:29.875] [38842]  80 payloads/df_cache_hybrid: Compute: search_recs ..."
    },
    {
     "name": "stdout",
     "output_type": "stream",
     "text": "\n"
    },
    {
     "name": "stdout",
     "output_type": "stream",
     "text": "INFO     [12:53:29.881] [38842] 659 api.recs/_compute_search_recs: {len(sg.xc_meta): 35233, countries_k: na, com_names_k: ca, num_recs: null}"
    },
    {
     "name": "stdout",
     "output_type": "stream",
     "text": "\n"
    },
    {
     "name": "stdout",
     "output_type": "stream",
     "text": "\raudio_metadata: ["
    },
    {
     "name": "stdout",
     "output_type": "stream",
     "text": "                                                                                "
    },
    {
     "name": "stdout",
     "output_type": "stream",
     "text": "] |   0% (500) |  0.0s"
    },
    {
     "name": "stdout",
     "output_type": "stream",
     "text": "\raudio_metadata: ["
    },
    {
     "name": "stdout",
     "output_type": "stream",
     "text": "#                                                                               "
    },
    {
     "name": "stdout",
     "output_type": "stream",
     "text": "] |   1% (500) |  0.1s"
    },
    {
     "name": "stdout",
     "output_type": "stream",
     "text": "\raudio_metadata: ["
    },
    {
     "name": "stdout",
     "output_type": "stream",
     "text": "##############                                                                  "
    },
    {
     "name": "stdout",
     "output_type": "stream",
     "text": "] |  17% (500) |  0.2s"
    },
    {
     "name": "stdout",
     "output_type": "stream",
     "text": "\raudio_metadata: ["
    },
    {
     "name": "stdout",
     "output_type": "stream",
     "text": "##############                                                                  "
    },
    {
     "name": "stdout",
     "output_type": "stream",
     "text": "] |  17% (500) |  0.5s"
    },
    {
     "name": "stdout",
     "output_type": "stream",
     "text": "\raudio_metadata: ["
    },
    {
     "name": "stdout",
     "output_type": "stream",
     "text": "##############                                                                  "
    },
    {
     "name": "stdout",
     "output_type": "stream",
     "text": "] |  17% (500) |  3.3s"
    },
    {
     "name": "stdout",
     "output_type": "stream",
     "text": "\raudio_metadata: ["
    },
    {
     "name": "stdout",
     "output_type": "stream",
     "text": "##############                                                                  "
    },
    {
     "name": "stdout",
     "output_type": "stream",
     "text": "] |  17% (500) |  3.5s"
    },
    {
     "name": "stdout",
     "output_type": "stream",
     "text": "\raudio_metadata: ["
    },
    {
     "name": "stdout",
     "output_type": "stream",
     "text": "##############                                                                  "
    },
    {
     "name": "stdout",
     "output_type": "stream",
     "text": "] |  17% (500) |  3.7s"
    },
    {
     "name": "stdout",
     "output_type": "stream",
     "text": "\raudio_metadata: ["
    },
    {
     "name": "stdout",
     "output_type": "stream",
     "text": "################                                                                "
    },
    {
     "name": "stdout",
     "output_type": "stream",
     "text": "] |  20% (500) |  3.8s"
    },
    {
     "name": "stdout",
     "output_type": "stream",
     "text": "\raudio_metadata: ["
    },
    {
     "name": "stdout",
     "output_type": "stream",
     "text": "################                                                                "
    },
    {
     "name": "stdout",
     "output_type": "stream",
     "text": "] |  20% (500) |  4.0s"
    },
    {
     "name": "stdout",
     "output_type": "stream",
     "text": "\raudio_metadata: ["
    },
    {
     "name": "stdout",
     "output_type": "stream",
     "text": "################                                                                "
    },
    {
     "name": "stdout",
     "output_type": "stream",
     "text": "] |  20% (500) |  4.2s"
    },
    {
     "name": "stdout",
     "output_type": "stream",
     "text": "\raudio_metadata: ["
    },
    {
     "name": "stdout",
     "output_type": "stream",
     "text": "################                                                                "
    },
    {
     "name": "stdout",
     "output_type": "stream",
     "text": "] |  20% (500) |  4.3s"
    },
    {
     "name": "stdout",
     "output_type": "stream",
     "text": "\raudio_metadata: ["
    },
    {
     "name": "stdout",
     "output_type": "stream",
     "text": "################                                                                "
    },
    {
     "name": "stdout",
     "output_type": "stream",
     "text": "] |  20% (500) |  4.5s"
    },
    {
     "name": "stdout",
     "output_type": "stream",
     "text": "\raudio_metadata: ["
    },
    {
     "name": "stdout",
     "output_type": "stream",
     "text": "################                                                                "
    },
    {
     "name": "stdout",
     "output_type": "stream",
     "text": "] |  20% (500) |  4.7s"
    },
    {
     "name": "stdout",
     "output_type": "stream",
     "text": "\raudio_metadata: ["
    },
    {
     "name": "stdout",
     "output_type": "stream",
     "text": "################                                                                "
    },
    {
     "name": "stdout",
     "output_type": "stream",
     "text": "] |  20% (500) |  4.9s"
    },
    {
     "name": "stdout",
     "output_type": "stream",
     "text": "\raudio_metadata: ["
    },
    {
     "name": "stdout",
     "output_type": "stream",
     "text": "################                                                                "
    },
    {
     "name": "stdout",
     "output_type": "stream",
     "text": "] |  20% (500) |  5.0s"
    },
    {
     "name": "stdout",
     "output_type": "stream",
     "text": "\raudio_metadata: ["
    },
    {
     "name": "stdout",
     "output_type": "stream",
     "text": "################                                                                "
    },
    {
     "name": "stdout",
     "output_type": "stream",
     "text": "] |  20% (500) |  5.1s"
    },
    {
     "name": "stdout",
     "output_type": "stream",
     "text": "\raudio_metadata: ["
    },
    {
     "name": "stdout",
     "output_type": "stream",
     "text": "################                                                                "
    },
    {
     "name": "stdout",
     "output_type": "stream",
     "text": "] |  20% (500) |  5.3s"
    },
    {
     "name": "stdout",
     "output_type": "stream",
     "text": "\raudio_metadata: ["
    },
    {
     "name": "stdout",
     "output_type": "stream",
     "text": "################                                                                "
    },
    {
     "name": "stdout",
     "output_type": "stream",
     "text": "] |  20% (500) |  5.5s"
    },
    {
     "name": "stdout",
     "output_type": "stream",
     "text": "\raudio_metadata: ["
    },
    {
     "name": "stdout",
     "output_type": "stream",
     "text": "################                                                                "
    },
    {
     "name": "stdout",
     "output_type": "stream",
     "text": "] |  20% (500) |  5.6s"
    },
    {
     "name": "stdout",
     "output_type": "stream",
     "text": "\raudio_metadata: ["
    },
    {
     "name": "stdout",
     "output_type": "stream",
     "text": "########################                                                        "
    },
    {
     "name": "stdout",
     "output_type": "stream",
     "text": "] |  30% (500) |  5.8s"
    },
    {
     "name": "stdout",
     "output_type": "stream",
     "text": "\raudio_metadata: ["
    },
    {
     "name": "stdout",
     "output_type": "stream",
     "text": "##############################                                                  "
    },
    {
     "name": "stdout",
     "output_type": "stream",
     "text": "] |  38% (500) |  6.0s"
    },
    {
     "name": "stdout",
     "output_type": "stream",
     "text": "\raudio_metadata: ["
    },
    {
     "name": "stdout",
     "output_type": "stream",
     "text": "##############################                                                  "
    },
    {
     "name": "stdout",
     "output_type": "stream",
     "text": "] |  38% (500) |  6.1s"
    },
    {
     "name": "stdout",
     "output_type": "stream",
     "text": "\raudio_metadata: ["
    },
    {
     "name": "stdout",
     "output_type": "stream",
     "text": "##############################                                                  "
    },
    {
     "name": "stdout",
     "output_type": "stream",
     "text": "] |  38% (500) |  6.3s"
    },
    {
     "name": "stdout",
     "output_type": "stream",
     "text": "\raudio_metadata: ["
    },
    {
     "name": "stdout",
     "output_type": "stream",
     "text": "##############################                                                  "
    },
    {
     "name": "stdout",
     "output_type": "stream",
     "text": "] |  38% (500) |  6.5s"
    },
    {
     "name": "stdout",
     "output_type": "stream",
     "text": "\raudio_metadata: ["
    },
    {
     "name": "stdout",
     "output_type": "stream",
     "text": "##############################                                                  "
    },
    {
     "name": "stdout",
     "output_type": "stream",
     "text": "] |  38% (500) |  6.7s"
    },
    {
     "name": "stdout",
     "output_type": "stream",
     "text": "\raudio_metadata: ["
    },
    {
     "name": "stdout",
     "output_type": "stream",
     "text": "################################                                                "
    },
    {
     "name": "stdout",
     "output_type": "stream",
     "text": "] |  41% (500) |  6.9s"
    },
    {
     "name": "stdout",
     "output_type": "stream",
     "text": "\raudio_metadata: ["
    },
    {
     "name": "stdout",
     "output_type": "stream",
     "text": "################################                                                "
    },
    {
     "name": "stdout",
     "output_type": "stream",
     "text": "] |  41% (500) |  7.1s"
    },
    {
     "name": "stdout",
     "output_type": "stream",
     "text": "\raudio_metadata: ["
    },
    {
     "name": "stdout",
     "output_type": "stream",
     "text": "################################                                                "
    },
    {
     "name": "stdout",
     "output_type": "stream",
     "text": "] |  41% (500) |  7.2s"
    },
    {
     "name": "stdout",
     "output_type": "stream",
     "text": "\raudio_metadata: ["
    },
    {
     "name": "stdout",
     "output_type": "stream",
     "text": "################################                                                "
    },
    {
     "name": "stdout",
     "output_type": "stream",
     "text": "] |  41% (500) |  7.4s"
    },
    {
     "name": "stdout",
     "output_type": "stream",
     "text": "\raudio_metadata: ["
    },
    {
     "name": "stdout",
     "output_type": "stream",
     "text": "################################                                                "
    },
    {
     "name": "stdout",
     "output_type": "stream",
     "text": "] |  41% (500) |  7.6s"
    },
    {
     "name": "stdout",
     "output_type": "stream",
     "text": "\raudio_metadata: ["
    },
    {
     "name": "stdout",
     "output_type": "stream",
     "text": "################################                                                "
    },
    {
     "name": "stdout",
     "output_type": "stream",
     "text": "] |  41% (500) |  7.7s"
    },
    {
     "name": "stdout",
     "output_type": "stream",
     "text": "\raudio_metadata: ["
    },
    {
     "name": "stdout",
     "output_type": "stream",
     "text": "################################                                                "
    },
    {
     "name": "stdout",
     "output_type": "stream",
     "text": "] |  41% (500) |  7.9s"
    },
    {
     "name": "stdout",
     "output_type": "stream",
     "text": "\raudio_metadata: ["
    },
    {
     "name": "stdout",
     "output_type": "stream",
     "text": "################################                                                "
    },
    {
     "name": "stdout",
     "output_type": "stream",
     "text": "] |  41% (500) |  8.1s"
    },
    {
     "name": "stdout",
     "output_type": "stream",
     "text": "\raudio_metadata: ["
    },
    {
     "name": "stdout",
     "output_type": "stream",
     "text": "################################                                                "
    },
    {
     "name": "stdout",
     "output_type": "stream",
     "text": "] |  41% (500) |  8.2s"
    },
    {
     "name": "stdout",
     "output_type": "stream",
     "text": "\raudio_metadata: ["
    },
    {
     "name": "stdout",
     "output_type": "stream",
     "text": "################################                                                "
    },
    {
     "name": "stdout",
     "output_type": "stream",
     "text": "] |  41% (500) |  8.4s"
    },
    {
     "name": "stdout",
     "output_type": "stream",
     "text": "\raudio_metadata: ["
    },
    {
     "name": "stdout",
     "output_type": "stream",
     "text": "################################                                                "
    },
    {
     "name": "stdout",
     "output_type": "stream",
     "text": "] |  41% (500) |  8.6s"
    },
    {
     "name": "stdout",
     "output_type": "stream",
     "text": "\raudio_metadata: ["
    },
    {
     "name": "stdout",
     "output_type": "stream",
     "text": "################################                                                "
    },
    {
     "name": "stdout",
     "output_type": "stream",
     "text": "] |  41% (500) |  8.7s"
    },
    {
     "name": "stdout",
     "output_type": "stream",
     "text": "\raudio_metadata: ["
    },
    {
     "name": "stdout",
     "output_type": "stream",
     "text": "#################################                                               "
    },
    {
     "name": "stdout",
     "output_type": "stream",
     "text": "] |  42% (500) |  8.9s"
    },
    {
     "name": "stdout",
     "output_type": "stream",
     "text": "\raudio_metadata: ["
    },
    {
     "name": "stdout",
     "output_type": "stream",
     "text": "#########################################                                       "
    },
    {
     "name": "stdout",
     "output_type": "stream",
     "text": "] |  51% (500) |  9.0s"
    },
    {
     "name": "stdout",
     "output_type": "stream",
     "text": "\raudio_metadata: ["
    },
    {
     "name": "stdout",
     "output_type": "stream",
     "text": "############################################                                    "
    },
    {
     "name": "stdout",
     "output_type": "stream",
     "text": "] |  55% (500) |  9.2s"
    },
    {
     "name": "stdout",
     "output_type": "stream",
     "text": "\raudio_metadata: ["
    },
    {
     "name": "stdout",
     "output_type": "stream",
     "text": "###############################################                                 "
    },
    {
     "name": "stdout",
     "output_type": "stream",
     "text": "] |  58% (500) |  9.4s"
    },
    {
     "name": "stdout",
     "output_type": "stream",
     "text": "\raudio_metadata: ["
    },
    {
     "name": "stdout",
     "output_type": "stream",
     "text": "###############################################                                 "
    },
    {
     "name": "stdout",
     "output_type": "stream",
     "text": "] |  58% (500) |  9.5s"
    },
    {
     "name": "stdout",
     "output_type": "stream",
     "text": "\raudio_metadata: ["
    },
    {
     "name": "stdout",
     "output_type": "stream",
     "text": "###############################################                                 "
    },
    {
     "name": "stdout",
     "output_type": "stream",
     "text": "] |  58% (500) |  9.7s"
    },
    {
     "name": "stdout",
     "output_type": "stream",
     "text": "\raudio_metadata: ["
    },
    {
     "name": "stdout",
     "output_type": "stream",
     "text": "#################################################                               "
    },
    {
     "name": "stdout",
     "output_type": "stream",
     "text": "] |  61% (500) |  9.9s"
    },
    {
     "name": "stdout",
     "output_type": "stream",
     "text": "\raudio_metadata: ["
    },
    {
     "name": "stdout",
     "output_type": "stream",
     "text": "#################################################                               "
    },
    {
     "name": "stdout",
     "output_type": "stream",
     "text": "] |  61% (500) | 10.1s"
    },
    {
     "name": "stdout",
     "output_type": "stream",
     "text": "\raudio_metadata: ["
    },
    {
     "name": "stdout",
     "output_type": "stream",
     "text": "#################################################                               "
    },
    {
     "name": "stdout",
     "output_type": "stream",
     "text": "] |  61% (500) | 10.3s"
    },
    {
     "name": "stdout",
     "output_type": "stream",
     "text": "\raudio_metadata: ["
    },
    {
     "name": "stdout",
     "output_type": "stream",
     "text": "#################################################                               "
    },
    {
     "name": "stdout",
     "output_type": "stream",
     "text": "] |  61% (500) | 10.4s"
    },
    {
     "name": "stdout",
     "output_type": "stream",
     "text": "\raudio_metadata: ["
    },
    {
     "name": "stdout",
     "output_type": "stream",
     "text": "#################################################                               "
    },
    {
     "name": "stdout",
     "output_type": "stream",
     "text": "] |  61% (500) | 10.6s"
    },
    {
     "name": "stdout",
     "output_type": "stream",
     "text": "\raudio_metadata: ["
    },
    {
     "name": "stdout",
     "output_type": "stream",
     "text": "#################################################                               "
    },
    {
     "name": "stdout",
     "output_type": "stream",
     "text": "] |  61% (500) | 10.7s"
    },
    {
     "name": "stdout",
     "output_type": "stream",
     "text": "\raudio_metadata: ["
    },
    {
     "name": "stdout",
     "output_type": "stream",
     "text": "#################################################                               "
    },
    {
     "name": "stdout",
     "output_type": "stream",
     "text": "] |  61% (500) | 10.9s"
    },
    {
     "name": "stdout",
     "output_type": "stream",
     "text": "\raudio_metadata: ["
    },
    {
     "name": "stdout",
     "output_type": "stream",
     "text": "#################################################                               "
    },
    {
     "name": "stdout",
     "output_type": "stream",
     "text": "] |  61% (500) | 11.1s"
    },
    {
     "name": "stdout",
     "output_type": "stream",
     "text": "\raudio_metadata: ["
    },
    {
     "name": "stdout",
     "output_type": "stream",
     "text": "#################################################                               "
    },
    {
     "name": "stdout",
     "output_type": "stream",
     "text": "] |  61% (500) | 11.3s"
    },
    {
     "name": "stdout",
     "output_type": "stream",
     "text": "\raudio_metadata: ["
    },
    {
     "name": "stdout",
     "output_type": "stream",
     "text": "#################################################                               "
    },
    {
     "name": "stdout",
     "output_type": "stream",
     "text": "] |  61% (500) | 11.4s"
    },
    {
     "name": "stdout",
     "output_type": "stream",
     "text": "\raudio_metadata: ["
    },
    {
     "name": "stdout",
     "output_type": "stream",
     "text": "#################################################                               "
    },
    {
     "name": "stdout",
     "output_type": "stream",
     "text": "] |  61% (500) | 11.6s"
    },
    {
     "name": "stdout",
     "output_type": "stream",
     "text": "\raudio_metadata: ["
    },
    {
     "name": "stdout",
     "output_type": "stream",
     "text": "#################################################                               "
    },
    {
     "name": "stdout",
     "output_type": "stream",
     "text": "] |  61% (500) | 11.8s"
    },
    {
     "name": "stdout",
     "output_type": "stream",
     "text": "\raudio_metadata: ["
    },
    {
     "name": "stdout",
     "output_type": "stream",
     "text": "#################################################                               "
    },
    {
     "name": "stdout",
     "output_type": "stream",
     "text": "] |  61% (500) | 12.0s"
    },
    {
     "name": "stdout",
     "output_type": "stream",
     "text": "\raudio_metadata: ["
    },
    {
     "name": "stdout",
     "output_type": "stream",
     "text": "#######################################################                         "
    },
    {
     "name": "stdout",
     "output_type": "stream",
     "text": "] |  69% (500) | 12.2s"
    },
    {
     "name": "stdout",
     "output_type": "stream",
     "text": "\raudio_metadata: ["
    },
    {
     "name": "stdout",
     "output_type": "stream",
     "text": "#########################################################                       "
    },
    {
     "name": "stdout",
     "output_type": "stream",
     "text": "] |  71% (500) | 12.3s"
    },
    {
     "name": "stdout",
     "output_type": "stream",
     "text": "\raudio_metadata: ["
    },
    {
     "name": "stdout",
     "output_type": "stream",
     "text": "#############################################################                   "
    },
    {
     "name": "stdout",
     "output_type": "stream",
     "text": "] |  76% (500) | 12.5s"
    },
    {
     "name": "stdout",
     "output_type": "stream",
     "text": "\raudio_metadata: ["
    },
    {
     "name": "stdout",
     "output_type": "stream",
     "text": "###############################################################                 "
    },
    {
     "name": "stdout",
     "output_type": "stream",
     "text": "] |  79% (500) | 12.6s"
    },
    {
     "name": "stdout",
     "output_type": "stream",
     "text": "\raudio_metadata: ["
    },
    {
     "name": "stdout",
     "output_type": "stream",
     "text": "###############################################################                 "
    },
    {
     "name": "stdout",
     "output_type": "stream",
     "text": "] |  79% (500) | 12.7s"
    },
    {
     "name": "stdout",
     "output_type": "stream",
     "text": "\raudio_metadata: ["
    },
    {
     "name": "stdout",
     "output_type": "stream",
     "text": "###############################################################                 "
    },
    {
     "name": "stdout",
     "output_type": "stream",
     "text": "] |  79% (500) | 12.9s"
    },
    {
     "name": "stdout",
     "output_type": "stream",
     "text": "\raudio_metadata: ["
    },
    {
     "name": "stdout",
     "output_type": "stream",
     "text": "###############################################################                 "
    },
    {
     "name": "stdout",
     "output_type": "stream",
     "text": "] |  79% (500) | 13.1s"
    },
    {
     "name": "stdout",
     "output_type": "stream",
     "text": "\raudio_metadata: ["
    },
    {
     "name": "stdout",
     "output_type": "stream",
     "text": "###############################################################                 "
    },
    {
     "name": "stdout",
     "output_type": "stream",
     "text": "] |  79% (500) | 13.2s"
    },
    {
     "name": "stdout",
     "output_type": "stream",
     "text": "\raudio_metadata: ["
    },
    {
     "name": "stdout",
     "output_type": "stream",
     "text": "#################################################################               "
    },
    {
     "name": "stdout",
     "output_type": "stream",
     "text": "] |  82% (500) | 13.4s"
    },
    {
     "name": "stdout",
     "output_type": "stream",
     "text": "\raudio_metadata: ["
    },
    {
     "name": "stdout",
     "output_type": "stream",
     "text": "#################################################################               "
    },
    {
     "name": "stdout",
     "output_type": "stream",
     "text": "] |  82% (500) | 13.5s"
    },
    {
     "name": "stdout",
     "output_type": "stream",
     "text": "\raudio_metadata: ["
    },
    {
     "name": "stdout",
     "output_type": "stream",
     "text": "#################################################################               "
    },
    {
     "name": "stdout",
     "output_type": "stream",
     "text": "] |  82% (500) | 13.7s"
    },
    {
     "name": "stdout",
     "output_type": "stream",
     "text": "\raudio_metadata: ["
    },
    {
     "name": "stdout",
     "output_type": "stream",
     "text": "#################################################################               "
    },
    {
     "name": "stdout",
     "output_type": "stream",
     "text": "] |  82% (500) | 13.8s"
    },
    {
     "name": "stdout",
     "output_type": "stream",
     "text": "\raudio_metadata: ["
    },
    {
     "name": "stdout",
     "output_type": "stream",
     "text": "###################################################################             "
    },
    {
     "name": "stdout",
     "output_type": "stream",
     "text": "] |  84% (500) | 14.0s"
    },
    {
     "name": "stdout",
     "output_type": "stream",
     "text": "\raudio_metadata: ["
    },
    {
     "name": "stdout",
     "output_type": "stream",
     "text": "###################################################################             "
    },
    {
     "name": "stdout",
     "output_type": "stream",
     "text": "] |  84% (500) | 14.1s"
    },
    {
     "name": "stdout",
     "output_type": "stream",
     "text": "\raudio_metadata: ["
    },
    {
     "name": "stdout",
     "output_type": "stream",
     "text": "###################################################################             "
    },
    {
     "name": "stdout",
     "output_type": "stream",
     "text": "] |  84% (500) | 14.3s"
    },
    {
     "name": "stdout",
     "output_type": "stream",
     "text": "\raudio_metadata: ["
    },
    {
     "name": "stdout",
     "output_type": "stream",
     "text": "###################################################################             "
    },
    {
     "name": "stdout",
     "output_type": "stream",
     "text": "] |  84% (500) | 14.4s"
    },
    {
     "name": "stdout",
     "output_type": "stream",
     "text": "\raudio_metadata: ["
    },
    {
     "name": "stdout",
     "output_type": "stream",
     "text": "###################################################################             "
    },
    {
     "name": "stdout",
     "output_type": "stream",
     "text": "] |  84% (500) | 14.6s"
    },
    {
     "name": "stdout",
     "output_type": "stream",
     "text": "\raudio_metadata: ["
    },
    {
     "name": "stdout",
     "output_type": "stream",
     "text": "#####################################################################           "
    },
    {
     "name": "stdout",
     "output_type": "stream",
     "text": "] |  87% (500) | 14.7s"
    },
    {
     "name": "stdout",
     "output_type": "stream",
     "text": "\raudio_metadata: ["
    },
    {
     "name": "stdout",
     "output_type": "stream",
     "text": "################################################################################"
    },
    {
     "name": "stdout",
     "output_type": "stream",
     "text": "] | 100% (500) | 14.9s"
    },
    {
     "name": "stdout",
     "output_type": "stream",
     "text": "\n"
    },
    {
     "name": "stdout",
     "output_type": "stream",
     "text": "\rf_preds: ["
    },
    {
     "name": "stdout",
     "output_type": "stream",
     "text": "                                                                                       "
    },
    {
     "name": "stdout",
     "output_type": "stream",
     "text": "] |   0% (500) |  0.0s"
    },
    {
     "name": "stdout",
     "output_type": "stream",
     "text": "\rf_preds: ["
    },
    {
     "name": "stdout",
     "output_type": "stream",
     "text": "                                                                                       "
    },
    {
     "name": "stdout",
     "output_type": "stream",
     "text": "] |   0% (500) |  0.1s"
    },
    {
     "name": "stdout",
     "output_type": "stream",
     "text": "\rf_preds: ["
    },
    {
     "name": "stdout",
     "output_type": "stream",
     "text": "                                                                                       "
    },
    {
     "name": "stdout",
     "output_type": "stream",
     "text": "] |   0% (500) |  0.2s"
    },
    {
     "name": "stdout",
     "output_type": "stream",
     "text": "\rf_preds: ["
    },
    {
     "name": "stdout",
     "output_type": "stream",
     "text": "#######################################################################################"
    },
    {
     "name": "stdout",
     "output_type": "stream",
     "text": "] | 100% (500) |  0.3s"
    },
    {
     "name": "stdout",
     "output_type": "stream",
     "text": "\n"
    },
    {
     "name": "stderr",
     "output_type": "stream",
     "text": "\rrec_spectro_bytes:   0%|                                                                       | 0/500 [00:00<?, ?it/s]"
    },
    {
     "name": "stderr",
     "output_type": "stream",
     "text": "\rrec_spectro_bytes:   8%|████▊                                                        | 39/500 [00:00<00:01, 386.63it/s]"
    },
    {
     "name": "stderr",
     "output_type": "stream",
     "text": "\rrec_spectro_bytes:  16%|██████████                                                   | 82/500 [00:00<00:01, 405.22it/s]"
    },
    {
     "name": "stderr",
     "output_type": "stream",
     "text": "\rrec_spectro_bytes:  25%|███████████████                                             | 126/500 [00:00<00:00, 413.87it/s]"
    },
    {
     "name": "stderr",
     "output_type": "stream",
     "text": "\rrec_spectro_bytes:  34%|████████████████████▏                                       | 168/500 [00:00<00:00, 413.14it/s]"
    },
    {
     "name": "stderr",
     "output_type": "stream",
     "text": "\rrec_spectro_bytes:  43%|█████████████████████████▉                                  | 216/500 [00:00<00:00, 425.60it/s]"
    },
    {
     "name": "stderr",
     "output_type": "stream",
     "text": "\rrec_spectro_bytes:  52%|███████████████████████████████                             | 259/500 [00:00<00:00, 425.44it/s]"
    },
    {
     "name": "stderr",
     "output_type": "stream",
     "text": "\rrec_spectro_bytes:  62%|████████████████████████████████████▉                       | 308/500 [00:00<00:00, 434.19it/s]"
    },
    {
     "name": "stderr",
     "output_type": "stream",
     "text": "\rrec_spectro_bytes:  71%|██████████████████████████████████████████▊                 | 357/500 [00:00<00:00, 440.79it/s]"
    },
    {
     "name": "stderr",
     "output_type": "stream",
     "text": "\rrec_spectro_bytes:  80%|████████████████████████████████████████████████▏           | 402/500 [00:00<00:00, 440.87it/s]"
    },
    {
     "name": "stderr",
     "output_type": "stream",
     "text": "\rrec_spectro_bytes:  90%|██████████████████████████████████████████████████████      | 451/500 [00:01<00:00, 445.70it/s]"
    },
    {
     "name": "stderr",
     "output_type": "stream",
     "text": "\rrec_spectro_bytes:  99%|███████████████████████████████████████████████████████████▋| 497/500 [00:01<00:00, 444.90it/s]"
    },
    {
     "name": "stderr",
     "output_type": "stream",
     "text": "\rrec_spectro_bytes: 100%|████████████████████████████████████████████████████████████| 500/500 [00:01<00:00, 443.61it/s]"
    },
    {
     "name": "stderr",
     "output_type": "stream",
     "text": "\n"
    },
    {
     "name": "stdout",
     "output_type": "stream",
     "text": "INFO     [12:53:48.264] [38842] 925 api.recs/recs_featurize_spectro_bytes: [1.134s]"
    },
    {
     "name": "stdout",
     "output_type": "stream",
     "text": "\n"
    },
    {
     "name": "stdout",
     "output_type": "stream",
     "text": "\raudio_bytes: ["
    },
    {
     "name": "stdout",
     "output_type": "stream",
     "text": "                                                                                   "
    },
    {
     "name": "stdout",
     "output_type": "stream",
     "text": "] |   0% (500) |  0.0s"
    },
    {
     "name": "stdout",
     "output_type": "stream",
     "text": "\raudio_bytes: ["
    },
    {
     "name": "stdout",
     "output_type": "stream",
     "text": "############################################################                       "
    },
    {
     "name": "stdout",
     "output_type": "stream",
     "text": "] |  73% (500) |  0.1s"
    },
    {
     "name": "stdout",
     "output_type": "stream",
     "text": "\raudio_bytes: ["
    },
    {
     "name": "stdout",
     "output_type": "stream",
     "text": "###################################################################################"
    },
    {
     "name": "stdout",
     "output_type": "stream",
     "text": "] | 100% (500) |  0.2s"
    },
    {
     "name": "stdout",
     "output_type": "stream",
     "text": "\n"
    },
    {
     "name": "stdout",
     "output_type": "stream",
     "text": "INFO     [12:53:48.514] [38842] 999 api.recs/recs_featurize_audio_bytes: [0.236s]"
    },
    {
     "name": "stdout",
     "output_type": "stream",
     "text": "\n"
    },
    {
     "name": "stdout",
     "output_type": "stream",
     "text": "INFO     [12:53:48.524] [38842] 687 api.recs/recs_featurize_pre_rank: batches (1/7) [18.628s]"
    },
    {
     "name": "stdout",
     "output_type": "stream",
     "text": "\n"
    },
    {
     "name": "stdout",
     "output_type": "stream",
     "text": "\raudio_metadata: ["
    },
    {
     "name": "stdout",
     "output_type": "stream",
     "text": "                                                                                "
    },
    {
     "name": "stdout",
     "output_type": "stream",
     "text": "] |   0% (500) |  0.0s"
    },
    {
     "name": "stdout",
     "output_type": "stream",
     "text": "\raudio_metadata: ["
    },
    {
     "name": "stdout",
     "output_type": "stream",
     "text": "                                                                                "
    },
    {
     "name": "stdout",
     "output_type": "stream",
     "text": "] |   0% (500) |  0.1s"
    },
    {
     "name": "stdout",
     "output_type": "stream",
     "text": "\raudio_metadata: ["
    },
    {
     "name": "stdout",
     "output_type": "stream",
     "text": "                                                                                "
    },
    {
     "name": "stdout",
     "output_type": "stream",
     "text": "] |   0% (500) |  0.3s"
    },
    {
     "name": "stdout",
     "output_type": "stream",
     "text": "\raudio_metadata: ["
    },
    {
     "name": "stdout",
     "output_type": "stream",
     "text": "                                                                                "
    },
    {
     "name": "stdout",
     "output_type": "stream",
     "text": "] |   0% (500) |  0.5s"
    },
    {
     "name": "stdout",
     "output_type": "stream",
     "text": "\raudio_metadata: ["
    },
    {
     "name": "stdout",
     "output_type": "stream",
     "text": "                                                                                "
    },
    {
     "name": "stdout",
     "output_type": "stream",
     "text": "] |   0% (500) |  0.6s"
    },
    {
     "name": "stdout",
     "output_type": "stream",
     "text": "\raudio_metadata: ["
    },
    {
     "name": "stdout",
     "output_type": "stream",
     "text": "                                                                                "
    },
    {
     "name": "stdout",
     "output_type": "stream",
     "text": "] |   0% (500) |  0.8s"
    },
    {
     "name": "stdout",
     "output_type": "stream",
     "text": "\raudio_metadata: ["
    },
    {
     "name": "stdout",
     "output_type": "stream",
     "text": "                                                                                "
    },
    {
     "name": "stdout",
     "output_type": "stream",
     "text": "] |   0% (500) |  1.0s"
    },
    {
     "name": "stdout",
     "output_type": "stream",
     "text": "\raudio_metadata: ["
    },
    {
     "name": "stdout",
     "output_type": "stream",
     "text": "                                                                                "
    },
    {
     "name": "stdout",
     "output_type": "stream",
     "text": "] |   0% (500) |  1.2s"
    },
    {
     "name": "stdout",
     "output_type": "stream",
     "text": "\raudio_metadata: ["
    },
    {
     "name": "stdout",
     "output_type": "stream",
     "text": "                                                                                "
    },
    {
     "name": "stdout",
     "output_type": "stream",
     "text": "] |   0% (500) |  1.4s"
    },
    {
     "name": "stdout",
     "output_type": "stream",
     "text": "\raudio_metadata: ["
    },
    {
     "name": "stdout",
     "output_type": "stream",
     "text": "                                                                                "
    },
    {
     "name": "stdout",
     "output_type": "stream",
     "text": "] |   0% (500) |  1.5s"
    },
    {
     "name": "stdout",
     "output_type": "stream",
     "text": "\raudio_metadata: ["
    },
    {
     "name": "stdout",
     "output_type": "stream",
     "text": "                                                                                "
    },
    {
     "name": "stdout",
     "output_type": "stream",
     "text": "] |   0% (500) |  1.7s"
    },
    {
     "name": "stdout",
     "output_type": "stream",
     "text": "\raudio_metadata: ["
    },
    {
     "name": "stdout",
     "output_type": "stream",
     "text": "                                                                                "
    },
    {
     "name": "stdout",
     "output_type": "stream",
     "text": "] |   0% (500) |  1.9s"
    },
    {
     "name": "stdout",
     "output_type": "stream",
     "text": "\raudio_metadata: ["
    },
    {
     "name": "stdout",
     "output_type": "stream",
     "text": "                                                                                "
    },
    {
     "name": "stdout",
     "output_type": "stream",
     "text": "] |   0% (500) |  2.0s"
    },
    {
     "name": "stdout",
     "output_type": "stream",
     "text": "\raudio_metadata: ["
    },
    {
     "name": "stdout",
     "output_type": "stream",
     "text": "                                                                                "
    },
    {
     "name": "stdout",
     "output_type": "stream",
     "text": "] |   0% (500) |  2.2s"
    },
    {
     "name": "stdout",
     "output_type": "stream",
     "text": "\raudio_metadata: ["
    },
    {
     "name": "stdout",
     "output_type": "stream",
     "text": "                                                                                "
    },
    {
     "name": "stdout",
     "output_type": "stream",
     "text": "] |   0% (500) |  2.4s"
    },
    {
     "name": "stdout",
     "output_type": "stream",
     "text": "\raudio_metadata: ["
    },
    {
     "name": "stdout",
     "output_type": "stream",
     "text": "                                                                                "
    },
    {
     "name": "stdout",
     "output_type": "stream",
     "text": "] |   0% (500) |  2.6s"
    },
    {
     "name": "stdout",
     "output_type": "stream",
     "text": "\raudio_metadata: ["
    },
    {
     "name": "stdout",
     "output_type": "stream",
     "text": "###                                                                             "
    },
    {
     "name": "stdout",
     "output_type": "stream",
     "text": "] |   3% (500) |  2.7s"
    },
    {
     "name": "stdout",
     "output_type": "stream",
     "text": "\raudio_metadata: ["
    },
    {
     "name": "stdout",
     "output_type": "stream",
     "text": "############                                                                    "
    },
    {
     "name": "stdout",
     "output_type": "stream",
     "text": "] |  15% (500) |  2.9s"
    },
    {
     "name": "stdout",
     "output_type": "stream",
     "text": "\raudio_metadata: ["
    },
    {
     "name": "stdout",
     "output_type": "stream",
     "text": "##############                                                                  "
    },
    {
     "name": "stdout",
     "output_type": "stream",
     "text": "] |  17% (500) |  3.1s"
    },
    {
     "name": "stdout",
     "output_type": "stream",
     "text": "\raudio_metadata: ["
    },
    {
     "name": "stdout",
     "output_type": "stream",
     "text": "################                                                                "
    },
    {
     "name": "stdout",
     "output_type": "stream",
     "text": "] |  20% (500) |  3.2s"
    },
    {
     "name": "stdout",
     "output_type": "stream",
     "text": "\raudio_metadata: ["
    },
    {
     "name": "stdout",
     "output_type": "stream",
     "text": "################                                                                "
    },
    {
     "name": "stdout",
     "output_type": "stream",
     "text": "] |  20% (500) |  3.4s"
    },
    {
     "name": "stdout",
     "output_type": "stream",
     "text": "\raudio_metadata: ["
    },
    {
     "name": "stdout",
     "output_type": "stream",
     "text": "################                                                                "
    },
    {
     "name": "stdout",
     "output_type": "stream",
     "text": "] |  20% (500) |  3.5s"
    },
    {
     "name": "stdout",
     "output_type": "stream",
     "text": "\raudio_metadata: ["
    },
    {
     "name": "stdout",
     "output_type": "stream",
     "text": "################                                                                "
    },
    {
     "name": "stdout",
     "output_type": "stream",
     "text": "] |  20% (500) |  3.7s"
    },
    {
     "name": "stdout",
     "output_type": "stream",
     "text": "\raudio_metadata: ["
    },
    {
     "name": "stdout",
     "output_type": "stream",
     "text": "################                                                                "
    },
    {
     "name": "stdout",
     "output_type": "stream",
     "text": "] |  20% (500) |  3.8s"
    },
    {
     "name": "stdout",
     "output_type": "stream",
     "text": "\raudio_metadata: ["
    },
    {
     "name": "stdout",
     "output_type": "stream",
     "text": "################                                                                "
    },
    {
     "name": "stdout",
     "output_type": "stream",
     "text": "] |  20% (500) |  4.0s"
    },
    {
     "name": "stdout",
     "output_type": "stream",
     "text": "\raudio_metadata: ["
    },
    {
     "name": "stdout",
     "output_type": "stream",
     "text": "################                                                                "
    },
    {
     "name": "stdout",
     "output_type": "stream",
     "text": "] |  20% (500) |  4.2s"
    },
    {
     "name": "stdout",
     "output_type": "stream",
     "text": "\raudio_metadata: ["
    },
    {
     "name": "stdout",
     "output_type": "stream",
     "text": "################                                                                "
    },
    {
     "name": "stdout",
     "output_type": "stream",
     "text": "] |  20% (500) |  4.4s"
    },
    {
     "name": "stdout",
     "output_type": "stream",
     "text": "\raudio_metadata: ["
    },
    {
     "name": "stdout",
     "output_type": "stream",
     "text": "################                                                                "
    },
    {
     "name": "stdout",
     "output_type": "stream",
     "text": "] |  20% (500) |  4.6s"
    },
    {
     "name": "stdout",
     "output_type": "stream",
     "text": "\raudio_metadata: ["
    },
    {
     "name": "stdout",
     "output_type": "stream",
     "text": "################                                                                "
    },
    {
     "name": "stdout",
     "output_type": "stream",
     "text": "] |  20% (500) |  4.7s"
    },
    {
     "name": "stdout",
     "output_type": "stream",
     "text": "\raudio_metadata: ["
    },
    {
     "name": "stdout",
     "output_type": "stream",
     "text": "################                                                                "
    },
    {
     "name": "stdout",
     "output_type": "stream",
     "text": "] |  20% (500) |  4.9s"
    },
    {
     "name": "stdout",
     "output_type": "stream",
     "text": "\raudio_metadata: ["
    },
    {
     "name": "stdout",
     "output_type": "stream",
     "text": "################                                                                "
    },
    {
     "name": "stdout",
     "output_type": "stream",
     "text": "] |  20% (500) |  5.1s"
    },
    {
     "name": "stdout",
     "output_type": "stream",
     "text": "\raudio_metadata: ["
    },
    {
     "name": "stdout",
     "output_type": "stream",
     "text": "################                                                                "
    },
    {
     "name": "stdout",
     "output_type": "stream",
     "text": "] |  20% (500) |  5.2s"
    },
    {
     "name": "stdout",
     "output_type": "stream",
     "text": "\raudio_metadata: ["
    },
    {
     "name": "stdout",
     "output_type": "stream",
     "text": "################                                                                "
    },
    {
     "name": "stdout",
     "output_type": "stream",
     "text": "] |  20% (500) |  5.4s"
    },
    {
     "name": "stdout",
     "output_type": "stream",
     "text": "\raudio_metadata: ["
    },
    {
     "name": "stdout",
     "output_type": "stream",
     "text": "################                                                                "
    },
    {
     "name": "stdout",
     "output_type": "stream",
     "text": "] |  20% (500) |  5.6s"
    },
    {
     "name": "stdout",
     "output_type": "stream",
     "text": "\raudio_metadata: ["
    },
    {
     "name": "stdout",
     "output_type": "stream",
     "text": "################                                                                "
    },
    {
     "name": "stdout",
     "output_type": "stream",
     "text": "] |  20% (500) |  5.7s"
    },
    {
     "name": "stdout",
     "output_type": "stream",
     "text": "\raudio_metadata: ["
    },
    {
     "name": "stdout",
     "output_type": "stream",
     "text": "########################                                                        "
    },
    {
     "name": "stdout",
     "output_type": "stream",
     "text": "] |  30% (500) |  5.9s"
    },
    {
     "name": "stdout",
     "output_type": "stream",
     "text": "\raudio_metadata: ["
    },
    {
     "name": "stdout",
     "output_type": "stream",
     "text": "##########################                                                      "
    },
    {
     "name": "stdout",
     "output_type": "stream",
     "text": "] |  33% (500) |  6.0s"
    },
    {
     "name": "stdout",
     "output_type": "stream",
     "text": "\raudio_metadata: ["
    },
    {
     "name": "stdout",
     "output_type": "stream",
     "text": "##############################                                                  "
    },
    {
     "name": "stdout",
     "output_type": "stream",
     "text": "] |  38% (500) |  6.2s"
    },
    {
     "name": "stdout",
     "output_type": "stream",
     "text": "\raudio_metadata: ["
    },
    {
     "name": "stdout",
     "output_type": "stream",
     "text": "################################                                                "
    },
    {
     "name": "stdout",
     "output_type": "stream",
     "text": "] |  41% (500) |  6.4s"
    },
    {
     "name": "stdout",
     "output_type": "stream",
     "text": "\raudio_metadata: ["
    },
    {
     "name": "stdout",
     "output_type": "stream",
     "text": "################################                                                "
    },
    {
     "name": "stdout",
     "output_type": "stream",
     "text": "] |  41% (500) |  6.6s"
    },
    {
     "name": "stdout",
     "output_type": "stream",
     "text": "\raudio_metadata: ["
    },
    {
     "name": "stdout",
     "output_type": "stream",
     "text": "################################                                                "
    },
    {
     "name": "stdout",
     "output_type": "stream",
     "text": "] |  41% (500) |  6.7s"
    },
    {
     "name": "stdout",
     "output_type": "stream",
     "text": "\raudio_metadata: ["
    },
    {
     "name": "stdout",
     "output_type": "stream",
     "text": "################################                                                "
    },
    {
     "name": "stdout",
     "output_type": "stream",
     "text": "] |  41% (500) |  6.9s"
    },
    {
     "name": "stdout",
     "output_type": "stream",
     "text": "\raudio_metadata: ["
    },
    {
     "name": "stdout",
     "output_type": "stream",
     "text": "################################                                                "
    },
    {
     "name": "stdout",
     "output_type": "stream",
     "text": "] |  41% (500) |  7.1s"
    },
    {
     "name": "stdout",
     "output_type": "stream",
     "text": "\raudio_metadata: ["
    },
    {
     "name": "stdout",
     "output_type": "stream",
     "text": "################################                                                "
    },
    {
     "name": "stdout",
     "output_type": "stream",
     "text": "] |  41% (500) |  7.2s"
    },
    {
     "name": "stdout",
     "output_type": "stream",
     "text": "\raudio_metadata: ["
    },
    {
     "name": "stdout",
     "output_type": "stream",
     "text": "################################                                                "
    },
    {
     "name": "stdout",
     "output_type": "stream",
     "text": "] |  41% (500) |  7.4s"
    },
    {
     "name": "stdout",
     "output_type": "stream",
     "text": "\raudio_metadata: ["
    },
    {
     "name": "stdout",
     "output_type": "stream",
     "text": "################################                                                "
    },
    {
     "name": "stdout",
     "output_type": "stream",
     "text": "] |  41% (500) |  7.5s"
    },
    {
     "name": "stdout",
     "output_type": "stream",
     "text": "\raudio_metadata: ["
    },
    {
     "name": "stdout",
     "output_type": "stream",
     "text": "################################                                                "
    },
    {
     "name": "stdout",
     "output_type": "stream",
     "text": "] |  41% (500) |  7.7s"
    },
    {
     "name": "stdout",
     "output_type": "stream",
     "text": "\raudio_metadata: ["
    },
    {
     "name": "stdout",
     "output_type": "stream",
     "text": "################################                                                "
    },
    {
     "name": "stdout",
     "output_type": "stream",
     "text": "] |  41% (500) |  7.8s"
    },
    {
     "name": "stdout",
     "output_type": "stream",
     "text": "\raudio_metadata: ["
    },
    {
     "name": "stdout",
     "output_type": "stream",
     "text": "################################                                                "
    },
    {
     "name": "stdout",
     "output_type": "stream",
     "text": "] |  41% (500) |  8.0s"
    },
    {
     "name": "stdout",
     "output_type": "stream",
     "text": "\raudio_metadata: ["
    },
    {
     "name": "stdout",
     "output_type": "stream",
     "text": "################################                                                "
    },
    {
     "name": "stdout",
     "output_type": "stream",
     "text": "] |  41% (500) |  8.2s"
    },
    {
     "name": "stdout",
     "output_type": "stream",
     "text": "\raudio_metadata: ["
    },
    {
     "name": "stdout",
     "output_type": "stream",
     "text": "################################                                                "
    },
    {
     "name": "stdout",
     "output_type": "stream",
     "text": "] |  41% (500) |  8.4s"
    },
    {
     "name": "stdout",
     "output_type": "stream",
     "text": "\raudio_metadata: ["
    },
    {
     "name": "stdout",
     "output_type": "stream",
     "text": "################################                                                "
    },
    {
     "name": "stdout",
     "output_type": "stream",
     "text": "] |  41% (500) |  8.5s"
    },
    {
     "name": "stdout",
     "output_type": "stream",
     "text": "\raudio_metadata: ["
    },
    {
     "name": "stdout",
     "output_type": "stream",
     "text": "################################                                                "
    },
    {
     "name": "stdout",
     "output_type": "stream",
     "text": "] |  41% (500) |  8.7s"
    },
    {
     "name": "stdout",
     "output_type": "stream",
     "text": "\raudio_metadata: ["
    },
    {
     "name": "stdout",
     "output_type": "stream",
     "text": "###################################                                             "
    },
    {
     "name": "stdout",
     "output_type": "stream",
     "text": "] |  44% (500) |  8.9s"
    },
    {
     "name": "stdout",
     "output_type": "stream",
     "text": "\raudio_metadata: ["
    },
    {
     "name": "stdout",
     "output_type": "stream",
     "text": "#########################################                                       "
    },
    {
     "name": "stdout",
     "output_type": "stream",
     "text": "] |  51% (500) |  9.1s"
    },
    {
     "name": "stdout",
     "output_type": "stream",
     "text": "\raudio_metadata: ["
    },
    {
     "name": "stdout",
     "output_type": "stream",
     "text": "###########################################                                     "
    },
    {
     "name": "stdout",
     "output_type": "stream",
     "text": "] |  53% (500) |  9.2s"
    },
    {
     "name": "stdout",
     "output_type": "stream",
     "text": "\raudio_metadata: ["
    },
    {
     "name": "stdout",
     "output_type": "stream",
     "text": "#############################################                                   "
    },
    {
     "name": "stdout",
     "output_type": "stream",
     "text": "] |  56% (500) |  9.4s"
    },
    {
     "name": "stdout",
     "output_type": "stream",
     "text": "\raudio_metadata: ["
    },
    {
     "name": "stdout",
     "output_type": "stream",
     "text": "###############################################                                 "
    },
    {
     "name": "stdout",
     "output_type": "stream",
     "text": "] |  58% (500) |  9.6s"
    },
    {
     "name": "stdout",
     "output_type": "stream",
     "text": "\raudio_metadata: ["
    },
    {
     "name": "stdout",
     "output_type": "stream",
     "text": "#################################################                               "
    },
    {
     "name": "stdout",
     "output_type": "stream",
     "text": "] |  61% (500) |  9.7s"
    },
    {
     "name": "stdout",
     "output_type": "stream",
     "text": "\raudio_metadata: ["
    },
    {
     "name": "stdout",
     "output_type": "stream",
     "text": "#################################################                               "
    },
    {
     "name": "stdout",
     "output_type": "stream",
     "text": "] |  61% (500) |  9.9s"
    },
    {
     "name": "stdout",
     "output_type": "stream",
     "text": "\raudio_metadata: ["
    },
    {
     "name": "stdout",
     "output_type": "stream",
     "text": "#################################################                               "
    },
    {
     "name": "stdout",
     "output_type": "stream",
     "text": "] |  61% (500) | 10.1s"
    },
    {
     "name": "stdout",
     "output_type": "stream",
     "text": "\raudio_metadata: ["
    },
    {
     "name": "stdout",
     "output_type": "stream",
     "text": "#################################################                               "
    },
    {
     "name": "stdout",
     "output_type": "stream",
     "text": "] |  61% (500) | 10.2s"
    },
    {
     "name": "stdout",
     "output_type": "stream",
     "text": "\raudio_metadata: ["
    },
    {
     "name": "stdout",
     "output_type": "stream",
     "text": "#################################################                               "
    },
    {
     "name": "stdout",
     "output_type": "stream",
     "text": "] |  61% (500) | 10.3s"
    },
    {
     "name": "stdout",
     "output_type": "stream",
     "text": "\raudio_metadata: ["
    },
    {
     "name": "stdout",
     "output_type": "stream",
     "text": "#################################################                               "
    },
    {
     "name": "stdout",
     "output_type": "stream",
     "text": "] |  61% (500) | 10.5s"
    },
    {
     "name": "stdout",
     "output_type": "stream",
     "text": "\raudio_metadata: ["
    },
    {
     "name": "stdout",
     "output_type": "stream",
     "text": "#################################################                               "
    },
    {
     "name": "stdout",
     "output_type": "stream",
     "text": "] |  61% (500) | 10.7s"
    },
    {
     "name": "stdout",
     "output_type": "stream",
     "text": "\raudio_metadata: ["
    },
    {
     "name": "stdout",
     "output_type": "stream",
     "text": "#################################################                               "
    },
    {
     "name": "stdout",
     "output_type": "stream",
     "text": "] |  61% (500) | 10.8s"
    },
    {
     "name": "stdout",
     "output_type": "stream",
     "text": "\raudio_metadata: ["
    },
    {
     "name": "stdout",
     "output_type": "stream",
     "text": "#################################################                               "
    },
    {
     "name": "stdout",
     "output_type": "stream",
     "text": "] |  61% (500) | 11.0s"
    },
    {
     "name": "stdout",
     "output_type": "stream",
     "text": "\raudio_metadata: ["
    },
    {
     "name": "stdout",
     "output_type": "stream",
     "text": "#################################################                               "
    },
    {
     "name": "stdout",
     "output_type": "stream",
     "text": "] |  61% (500) | 11.2s"
    },
    {
     "name": "stdout",
     "output_type": "stream",
     "text": "\raudio_metadata: ["
    },
    {
     "name": "stdout",
     "output_type": "stream",
     "text": "#################################################                               "
    },
    {
     "name": "stdout",
     "output_type": "stream",
     "text": "] |  61% (500) | 11.3s"
    },
    {
     "name": "stdout",
     "output_type": "stream",
     "text": "\raudio_metadata: ["
    },
    {
     "name": "stdout",
     "output_type": "stream",
     "text": "#################################################                               "
    },
    {
     "name": "stdout",
     "output_type": "stream",
     "text": "] |  61% (500) | 11.5s"
    },
    {
     "name": "stdout",
     "output_type": "stream",
     "text": "\raudio_metadata: ["
    },
    {
     "name": "stdout",
     "output_type": "stream",
     "text": "#################################################                               "
    },
    {
     "name": "stdout",
     "output_type": "stream",
     "text": "] |  61% (500) | 11.7s"
    },
    {
     "name": "stdout",
     "output_type": "stream",
     "text": "\raudio_metadata: ["
    },
    {
     "name": "stdout",
     "output_type": "stream",
     "text": "#################################################                               "
    },
    {
     "name": "stdout",
     "output_type": "stream",
     "text": "] |  61% (500) | 11.8s"
    },
    {
     "name": "stdout",
     "output_type": "stream",
     "text": "\raudio_metadata: ["
    },
    {
     "name": "stdout",
     "output_type": "stream",
     "text": "#################################################                               "
    },
    {
     "name": "stdout",
     "output_type": "stream",
     "text": "] |  61% (500) | 11.9s"
    },
    {
     "name": "stdout",
     "output_type": "stream",
     "text": "\raudio_metadata: ["
    },
    {
     "name": "stdout",
     "output_type": "stream",
     "text": "#################################################                               "
    },
    {
     "name": "stdout",
     "output_type": "stream",
     "text": "] |  61% (500) | 12.1s"
    },
    {
     "name": "stdout",
     "output_type": "stream",
     "text": "\raudio_metadata: ["
    },
    {
     "name": "stdout",
     "output_type": "stream",
     "text": "#########################################################                       "
    },
    {
     "name": "stdout",
     "output_type": "stream",
     "text": "] |  71% (500) | 12.2s"
    },
    {
     "name": "stdout",
     "output_type": "stream",
     "text": "\raudio_metadata: ["
    },
    {
     "name": "stdout",
     "output_type": "stream",
     "text": "###########################################################                     "
    },
    {
     "name": "stdout",
     "output_type": "stream",
     "text": "] |  74% (500) | 12.4s"
    },
    {
     "name": "stdout",
     "output_type": "stream",
     "text": "\raudio_metadata: ["
    },
    {
     "name": "stdout",
     "output_type": "stream",
     "text": "#############################################################                   "
    },
    {
     "name": "stdout",
     "output_type": "stream",
     "text": "] |  76% (500) | 12.6s"
    },
    {
     "name": "stdout",
     "output_type": "stream",
     "text": "\raudio_metadata: ["
    },
    {
     "name": "stdout",
     "output_type": "stream",
     "text": "###############################################################                 "
    },
    {
     "name": "stdout",
     "output_type": "stream",
     "text": "] |  79% (500) | 12.8s"
    },
    {
     "name": "stdout",
     "output_type": "stream",
     "text": "\raudio_metadata: ["
    },
    {
     "name": "stdout",
     "output_type": "stream",
     "text": "###############################################################                 "
    },
    {
     "name": "stdout",
     "output_type": "stream",
     "text": "] |  79% (500) | 13.0s"
    },
    {
     "name": "stdout",
     "output_type": "stream",
     "text": "\raudio_metadata: ["
    },
    {
     "name": "stdout",
     "output_type": "stream",
     "text": "#################################################################               "
    },
    {
     "name": "stdout",
     "output_type": "stream",
     "text": "] |  82% (500) | 13.1s"
    },
    {
     "name": "stdout",
     "output_type": "stream",
     "text": "\raudio_metadata: ["
    },
    {
     "name": "stdout",
     "output_type": "stream",
     "text": "#################################################################               "
    },
    {
     "name": "stdout",
     "output_type": "stream",
     "text": "] |  82% (500) | 13.3s"
    },
    {
     "name": "stdout",
     "output_type": "stream",
     "text": "\raudio_metadata: ["
    },
    {
     "name": "stdout",
     "output_type": "stream",
     "text": "#################################################################               "
    },
    {
     "name": "stdout",
     "output_type": "stream",
     "text": "] |  82% (500) | 13.5s"
    },
    {
     "name": "stdout",
     "output_type": "stream",
     "text": "\raudio_metadata: ["
    },
    {
     "name": "stdout",
     "output_type": "stream",
     "text": "#################################################################               "
    },
    {
     "name": "stdout",
     "output_type": "stream",
     "text": "] |  82% (500) | 13.7s"
    },
    {
     "name": "stdout",
     "output_type": "stream",
     "text": "\raudio_metadata: ["
    },
    {
     "name": "stdout",
     "output_type": "stream",
     "text": "#################################################################               "
    },
    {
     "name": "stdout",
     "output_type": "stream",
     "text": "] |  82% (500) | 13.9s"
    },
    {
     "name": "stdout",
     "output_type": "stream",
     "text": "\raudio_metadata: ["
    },
    {
     "name": "stdout",
     "output_type": "stream",
     "text": "###################################################################             "
    },
    {
     "name": "stdout",
     "output_type": "stream",
     "text": "] |  84% (500) | 14.0s"
    },
    {
     "name": "stdout",
     "output_type": "stream",
     "text": "\raudio_metadata: ["
    },
    {
     "name": "stdout",
     "output_type": "stream",
     "text": "###################################################################             "
    },
    {
     "name": "stdout",
     "output_type": "stream",
     "text": "] |  84% (500) | 14.2s"
    },
    {
     "name": "stdout",
     "output_type": "stream",
     "text": "\raudio_metadata: ["
    },
    {
     "name": "stdout",
     "output_type": "stream",
     "text": "###################################################################             "
    },
    {
     "name": "stdout",
     "output_type": "stream",
     "text": "] |  84% (500) | 14.3s"
    },
    {
     "name": "stdout",
     "output_type": "stream",
     "text": "\raudio_metadata: ["
    },
    {
     "name": "stdout",
     "output_type": "stream",
     "text": "###################################################################             "
    },
    {
     "name": "stdout",
     "output_type": "stream",
     "text": "] |  84% (500) | 14.4s"
    },
    {
     "name": "stdout",
     "output_type": "stream",
     "text": "\raudio_metadata: ["
    },
    {
     "name": "stdout",
     "output_type": "stream",
     "text": "###################################################################             "
    },
    {
     "name": "stdout",
     "output_type": "stream",
     "text": "] |  84% (500) | 14.6s"
    },
    {
     "name": "stdout",
     "output_type": "stream",
     "text": "\raudio_metadata: ["
    },
    {
     "name": "stdout",
     "output_type": "stream",
     "text": "###################################################################             "
    },
    {
     "name": "stdout",
     "output_type": "stream",
     "text": "] |  84% (500) | 14.8s"
    },
    {
     "name": "stdout",
     "output_type": "stream",
     "text": "\raudio_metadata: ["
    },
    {
     "name": "stdout",
     "output_type": "stream",
     "text": "###################################################################             "
    },
    {
     "name": "stdout",
     "output_type": "stream",
     "text": "] |  84% (500) | 14.9s"
    },
    {
     "name": "stdout",
     "output_type": "stream",
     "text": "\raudio_metadata: ["
    },
    {
     "name": "stdout",
     "output_type": "stream",
     "text": "##########################################################################      "
    },
    {
     "name": "stdout",
     "output_type": "stream",
     "text": "] |  93% (500) | 15.1s"
    },
    {
     "name": "stdout",
     "output_type": "stream",
     "text": "\raudio_metadata: ["
    },
    {
     "name": "stdout",
     "output_type": "stream",
     "text": "################################################################################"
    },
    {
     "name": "stdout",
     "output_type": "stream",
     "text": "] | 100% (500) | 15.2s"
    },
    {
     "name": "stdout",
     "output_type": "stream",
     "text": "\n"
    },
    {
     "name": "stdout",
     "output_type": "stream",
     "text": "\rf_preds: ["
    },
    {
     "name": "stdout",
     "output_type": "stream",
     "text": "                                                                                       "
    },
    {
     "name": "stdout",
     "output_type": "stream",
     "text": "] |   0% (500) |  0.0s"
    },
    {
     "name": "stdout",
     "output_type": "stream",
     "text": "\rf_preds: ["
    },
    {
     "name": "stdout",
     "output_type": "stream",
     "text": "                                                                                       "
    },
    {
     "name": "stdout",
     "output_type": "stream",
     "text": "] |   0% (500) |  0.1s"
    },
    {
     "name": "stdout",
     "output_type": "stream",
     "text": "\rf_preds: ["
    },
    {
     "name": "stdout",
     "output_type": "stream",
     "text": "                                                                                       "
    },
    {
     "name": "stdout",
     "output_type": "stream",
     "text": "] |   0% (500) |  0.2s"
    },
    {
     "name": "stdout",
     "output_type": "stream",
     "text": "\rf_preds: ["
    },
    {
     "name": "stdout",
     "output_type": "stream",
     "text": "#######################################################################################"
    },
    {
     "name": "stdout",
     "output_type": "stream",
     "text": "] | 100% (500) |  0.3s"
    },
    {
     "name": "stdout",
     "output_type": "stream",
     "text": "\n"
    },
    {
     "name": "stderr",
     "output_type": "stream",
     "text": "\rrec_spectro_bytes:   0%|                                                                       | 0/500 [00:00<?, ?it/s]"
    },
    {
     "name": "stderr",
     "output_type": "stream",
     "text": "\rrec_spectro_bytes:   7%|████▎                                                        | 35/500 [00:00<00:01, 340.59it/s]"
    },
    {
     "name": "stderr",
     "output_type": "stream",
     "text": "\rrec_spectro_bytes:  14%|████████▌                                                    | 70/500 [00:00<00:01, 341.14it/s]"
    },
    {
     "name": "stderr",
     "output_type": "stream",
     "text": "\rrec_spectro_bytes:  21%|████████████▌                                               | 105/500 [00:00<00:01, 343.81it/s]"
    },
    {
     "name": "stderr",
     "output_type": "stream",
     "text": "\rrec_spectro_bytes:  28%|████████████████▋                                           | 139/500 [00:00<00:01, 342.41it/s]"
    },
    {
     "name": "stderr",
     "output_type": "stream",
     "text": "\rrec_spectro_bytes:  35%|█████████████████████                                       | 176/500 [00:00<00:00, 346.78it/s]"
    },
    {
     "name": "stderr",
     "output_type": "stream",
     "text": "\rrec_spectro_bytes:  43%|█████████████████████████▌                                  | 213/500 [00:00<00:00, 349.46it/s]"
    },
    {
     "name": "stderr",
     "output_type": "stream",
     "text": "\rrec_spectro_bytes:  50%|██████████████████████████████                              | 250/500 [00:00<00:00, 351.40it/s]"
    },
    {
     "name": "stderr",
     "output_type": "stream",
     "text": "\rrec_spectro_bytes:  57%|██████████████████████████████████▏                         | 285/500 [00:00<00:00, 350.51it/s]"
    },
    {
     "name": "stderr",
     "output_type": "stream",
     "text": "\rrec_spectro_bytes:  65%|██████████████████████████████████████▊                     | 323/500 [00:00<00:00, 353.00it/s]"
    },
    {
     "name": "stderr",
     "output_type": "stream",
     "text": "\rrec_spectro_bytes:  72%|███████████████████████████████████████████▎                | 361/500 [00:01<00:00, 354.91it/s]"
    },
    {
     "name": "stderr",
     "output_type": "stream",
     "text": "\rrec_spectro_bytes:  80%|███████████████████████████████████████████████▊            | 398/500 [00:01<00:00, 355.81it/s]"
    },
    {
     "name": "stderr",
     "output_type": "stream",
     "text": "\rrec_spectro_bytes:  87%|████████████████████████████████████████████████████▎       | 436/500 [00:01<00:00, 357.64it/s]"
    },
    {
     "name": "stderr",
     "output_type": "stream",
     "text": "\rrec_spectro_bytes:  95%|█████████████████████████████████████████████████████████   | 475/500 [00:01<00:00, 359.66it/s]"
    },
    {
     "name": "stderr",
     "output_type": "stream",
     "text": "\rrec_spectro_bytes: 100%|████████████████████████████████████████████████████████████| 500/500 [00:01<00:00, 359.35it/s]"
    },
    {
     "name": "stderr",
     "output_type": "stream",
     "text": "\n"
    },
    {
     "name": "stdout",
     "output_type": "stream",
     "text": "INFO     [12:54:05.839] [38842] 925 api.recs/recs_featurize_spectro_bytes: [1.400s]"
    },
    {
     "name": "stdout",
     "output_type": "stream",
     "text": "\n"
    },
    {
     "name": "stdout",
     "output_type": "stream",
     "text": "\raudio_bytes: ["
    },
    {
     "name": "stdout",
     "output_type": "stream",
     "text": "                                                                                   "
    },
    {
     "name": "stdout",
     "output_type": "stream",
     "text": "] |   0% (500) |  0.0s"
    },
    {
     "name": "stdout",
     "output_type": "stream",
     "text": "\raudio_bytes: ["
    },
    {
     "name": "stdout",
     "output_type": "stream",
     "text": "#######################################################################            "
    },
    {
     "name": "stdout",
     "output_type": "stream",
     "text": "] |  85% (500) |  0.1s"
    },
    {
     "name": "stdout",
     "output_type": "stream",
     "text": "\raudio_bytes: ["
    },
    {
     "name": "stdout",
     "output_type": "stream",
     "text": "###################################################################################"
    },
    {
     "name": "stdout",
     "output_type": "stream",
     "text": "] | 100% (500) |  0.2s"
    },
    {
     "name": "stdout",
     "output_type": "stream",
     "text": "\n"
    },
    {
     "name": "stdout",
     "output_type": "stream",
     "text": "INFO     [12:54:06.084] [38842] 999 api.recs/recs_featurize_audio_bytes: [0.233s]"
    },
    {
     "name": "stdout",
     "output_type": "stream",
     "text": "\n"
    },
    {
     "name": "stdout",
     "output_type": "stream",
     "text": "INFO     [12:54:06.093] [38842] 687 api.recs/recs_featurize_pre_rank: batches (2/7) [17.557s]"
    },
    {
     "name": "stdout",
     "output_type": "stream",
     "text": "\n"
    },
    {
     "name": "stdout",
     "output_type": "stream",
     "text": "\raudio_metadata: ["
    },
    {
     "name": "stdout",
     "output_type": "stream",
     "text": "                                                                                "
    },
    {
     "name": "stdout",
     "output_type": "stream",
     "text": "] |   0% (500) |  0.0s"
    },
    {
     "name": "stdout",
     "output_type": "stream",
     "text": "\raudio_metadata: ["
    },
    {
     "name": "stdout",
     "output_type": "stream",
     "text": "                                                                                "
    },
    {
     "name": "stdout",
     "output_type": "stream",
     "text": "] |   0% (500) |  0.1s"
    },
    {
     "name": "stdout",
     "output_type": "stream",
     "text": "\raudio_metadata: ["
    },
    {
     "name": "stdout",
     "output_type": "stream",
     "text": "                                                                                "
    },
    {
     "name": "stdout",
     "output_type": "stream",
     "text": "] |   0% (500) |  0.3s"
    },
    {
     "name": "stdout",
     "output_type": "stream",
     "text": "\raudio_metadata: ["
    },
    {
     "name": "stdout",
     "output_type": "stream",
     "text": "                                                                                "
    },
    {
     "name": "stdout",
     "output_type": "stream",
     "text": "] |   0% (500) |  0.6s"
    },
    {
     "name": "stdout",
     "output_type": "stream",
     "text": "\raudio_metadata: ["
    },
    {
     "name": "stdout",
     "output_type": "stream",
     "text": "                                                                                "
    },
    {
     "name": "stdout",
     "output_type": "stream",
     "text": "] |   0% (500) |  0.8s"
    },
    {
     "name": "stdout",
     "output_type": "stream",
     "text": "\raudio_metadata: ["
    },
    {
     "name": "stdout",
     "output_type": "stream",
     "text": "                                                                                "
    },
    {
     "name": "stdout",
     "output_type": "stream",
     "text": "] |   0% (500) |  1.0s"
    },
    {
     "name": "stdout",
     "output_type": "stream",
     "text": "\raudio_metadata: ["
    },
    {
     "name": "stdout",
     "output_type": "stream",
     "text": "                                                                                "
    },
    {
     "name": "stdout",
     "output_type": "stream",
     "text": "] |   0% (500) |  1.1s"
    },
    {
     "name": "stdout",
     "output_type": "stream",
     "text": "\raudio_metadata: ["
    },
    {
     "name": "stdout",
     "output_type": "stream",
     "text": "                                                                                "
    },
    {
     "name": "stdout",
     "output_type": "stream",
     "text": "] |   0% (500) |  1.3s"
    },
    {
     "name": "stdout",
     "output_type": "stream",
     "text": "\raudio_metadata: ["
    },
    {
     "name": "stdout",
     "output_type": "stream",
     "text": "                                                                                "
    },
    {
     "name": "stdout",
     "output_type": "stream",
     "text": "] |   0% (500) |  1.5s"
    },
    {
     "name": "stdout",
     "output_type": "stream",
     "text": "\raudio_metadata: ["
    },
    {
     "name": "stdout",
     "output_type": "stream",
     "text": "                                                                                "
    },
    {
     "name": "stdout",
     "output_type": "stream",
     "text": "] |   0% (500) |  1.7s"
    },
    {
     "name": "stdout",
     "output_type": "stream",
     "text": "\raudio_metadata: ["
    },
    {
     "name": "stdout",
     "output_type": "stream",
     "text": "                                                                                "
    },
    {
     "name": "stdout",
     "output_type": "stream",
     "text": "] |   0% (500) |  1.8s"
    },
    {
     "name": "stdout",
     "output_type": "stream",
     "text": "\raudio_metadata: ["
    },
    {
     "name": "stdout",
     "output_type": "stream",
     "text": "                                                                                "
    },
    {
     "name": "stdout",
     "output_type": "stream",
     "text": "] |   0% (500) |  2.0s"
    },
    {
     "name": "stdout",
     "output_type": "stream",
     "text": "\raudio_metadata: ["
    },
    {
     "name": "stdout",
     "output_type": "stream",
     "text": "                                                                                "
    },
    {
     "name": "stdout",
     "output_type": "stream",
     "text": "] |   0% (500) |  2.2s"
    },
    {
     "name": "stdout",
     "output_type": "stream",
     "text": "\raudio_metadata: ["
    },
    {
     "name": "stdout",
     "output_type": "stream",
     "text": "                                                                                "
    },
    {
     "name": "stdout",
     "output_type": "stream",
     "text": "] |   0% (500) |  2.4s"
    },
    {
     "name": "stdout",
     "output_type": "stream",
     "text": "\raudio_metadata: ["
    },
    {
     "name": "stdout",
     "output_type": "stream",
     "text": "                                                                                "
    },
    {
     "name": "stdout",
     "output_type": "stream",
     "text": "] |   0% (500) |  2.6s"
    },
    {
     "name": "stdout",
     "output_type": "stream",
     "text": "\raudio_metadata: ["
    },
    {
     "name": "stdout",
     "output_type": "stream",
     "text": "                                                                                "
    },
    {
     "name": "stdout",
     "output_type": "stream",
     "text": "] |   0% (500) |  2.8s"
    },
    {
     "name": "stdout",
     "output_type": "stream",
     "text": "\raudio_metadata: ["
    },
    {
     "name": "stdout",
     "output_type": "stream",
     "text": "                                                                                "
    },
    {
     "name": "stdout",
     "output_type": "stream",
     "text": "] |   0% (500) |  3.0s"
    },
    {
     "name": "stdout",
     "output_type": "stream",
     "text": "\raudio_metadata: ["
    },
    {
     "name": "stdout",
     "output_type": "stream",
     "text": "                                                                                "
    },
    {
     "name": "stdout",
     "output_type": "stream",
     "text": "] |   0% (500) |  3.1s"
    },
    {
     "name": "stdout",
     "output_type": "stream",
     "text": "\raudio_metadata: ["
    },
    {
     "name": "stdout",
     "output_type": "stream",
     "text": "                                                                                "
    },
    {
     "name": "stdout",
     "output_type": "stream",
     "text": "] |   0% (500) |  3.3s"
    },
    {
     "name": "stdout",
     "output_type": "stream",
     "text": "\raudio_metadata: ["
    },
    {
     "name": "stdout",
     "output_type": "stream",
     "text": "###                                                                             "
    },
    {
     "name": "stdout",
     "output_type": "stream",
     "text": "] |   3% (500) |  3.5s"
    },
    {
     "name": "stdout",
     "output_type": "stream",
     "text": "\raudio_metadata: ["
    },
    {
     "name": "stdout",
     "output_type": "stream",
     "text": "##########                                                                      "
    },
    {
     "name": "stdout",
     "output_type": "stream",
     "text": "] |  12% (500) |  3.7s"
    },
    {
     "name": "stdout",
     "output_type": "stream",
     "text": "\raudio_metadata: ["
    },
    {
     "name": "stdout",
     "output_type": "stream",
     "text": "##############                                                                  "
    },
    {
     "name": "stdout",
     "output_type": "stream",
     "text": "] |  17% (500) |  3.9s"
    },
    {
     "name": "stdout",
     "output_type": "stream",
     "text": "\raudio_metadata: ["
    },
    {
     "name": "stdout",
     "output_type": "stream",
     "text": "################                                                                "
    },
    {
     "name": "stdout",
     "output_type": "stream",
     "text": "] |  20% (500) |  4.1s"
    },
    {
     "name": "stdout",
     "output_type": "stream",
     "text": "\raudio_metadata: ["
    },
    {
     "name": "stdout",
     "output_type": "stream",
     "text": "################                                                                "
    },
    {
     "name": "stdout",
     "output_type": "stream",
     "text": "] |  20% (500) |  4.2s"
    },
    {
     "name": "stdout",
     "output_type": "stream",
     "text": "\raudio_metadata: ["
    },
    {
     "name": "stdout",
     "output_type": "stream",
     "text": "################                                                                "
    },
    {
     "name": "stdout",
     "output_type": "stream",
     "text": "] |  20% (500) |  4.4s"
    },
    {
     "name": "stdout",
     "output_type": "stream",
     "text": "\raudio_metadata: ["
    },
    {
     "name": "stdout",
     "output_type": "stream",
     "text": "################                                                                "
    },
    {
     "name": "stdout",
     "output_type": "stream",
     "text": "] |  20% (500) |  4.6s"
    },
    {
     "name": "stdout",
     "output_type": "stream",
     "text": "\raudio_metadata: ["
    },
    {
     "name": "stdout",
     "output_type": "stream",
     "text": "################                                                                "
    },
    {
     "name": "stdout",
     "output_type": "stream",
     "text": "] |  20% (500) |  4.8s"
    },
    {
     "name": "stdout",
     "output_type": "stream",
     "text": "\raudio_metadata: ["
    },
    {
     "name": "stdout",
     "output_type": "stream",
     "text": "################                                                                "
    },
    {
     "name": "stdout",
     "output_type": "stream",
     "text": "] |  20% (500) |  4.9s"
    },
    {
     "name": "stdout",
     "output_type": "stream",
     "text": "\raudio_metadata: ["
    },
    {
     "name": "stdout",
     "output_type": "stream",
     "text": "################                                                                "
    },
    {
     "name": "stdout",
     "output_type": "stream",
     "text": "] |  20% (500) |  5.1s"
    },
    {
     "name": "stdout",
     "output_type": "stream",
     "text": "\raudio_metadata: ["
    },
    {
     "name": "stdout",
     "output_type": "stream",
     "text": "################                                                                "
    },
    {
     "name": "stdout",
     "output_type": "stream",
     "text": "] |  20% (500) |  5.2s"
    },
    {
     "name": "stdout",
     "output_type": "stream",
     "text": "\raudio_metadata: ["
    },
    {
     "name": "stdout",
     "output_type": "stream",
     "text": "################                                                                "
    },
    {
     "name": "stdout",
     "output_type": "stream",
     "text": "] |  20% (500) |  5.4s"
    },
    {
     "name": "stdout",
     "output_type": "stream",
     "text": "\raudio_metadata: ["
    },
    {
     "name": "stdout",
     "output_type": "stream",
     "text": "################                                                                "
    },
    {
     "name": "stdout",
     "output_type": "stream",
     "text": "] |  20% (500) |  5.6s"
    },
    {
     "name": "stdout",
     "output_type": "stream",
     "text": "\raudio_metadata: ["
    },
    {
     "name": "stdout",
     "output_type": "stream",
     "text": "################                                                                "
    },
    {
     "name": "stdout",
     "output_type": "stream",
     "text": "] |  20% (500) |  5.8s"
    },
    {
     "name": "stdout",
     "output_type": "stream",
     "text": "\raudio_metadata: ["
    },
    {
     "name": "stdout",
     "output_type": "stream",
     "text": "################                                                                "
    },
    {
     "name": "stdout",
     "output_type": "stream",
     "text": "] |  20% (500) |  6.0s"
    },
    {
     "name": "stdout",
     "output_type": "stream",
     "text": "\raudio_metadata: ["
    },
    {
     "name": "stdout",
     "output_type": "stream",
     "text": "################                                                                "
    },
    {
     "name": "stdout",
     "output_type": "stream",
     "text": "] |  20% (500) |  6.4s"
    },
    {
     "name": "stdout",
     "output_type": "stream",
     "text": "\raudio_metadata: ["
    },
    {
     "name": "stdout",
     "output_type": "stream",
     "text": "################                                                                "
    },
    {
     "name": "stdout",
     "output_type": "stream",
     "text": "] |  20% (500) |  6.6s"
    },
    {
     "name": "stdout",
     "output_type": "stream",
     "text": "\raudio_metadata: ["
    },
    {
     "name": "stdout",
     "output_type": "stream",
     "text": "################                                                                "
    },
    {
     "name": "stdout",
     "output_type": "stream",
     "text": "] |  20% (500) |  6.7s"
    },
    {
     "name": "stdout",
     "output_type": "stream",
     "text": "\raudio_metadata: ["
    },
    {
     "name": "stdout",
     "output_type": "stream",
     "text": "################                                                                "
    },
    {
     "name": "stdout",
     "output_type": "stream",
     "text": "] |  20% (500) |  6.9s"
    },
    {
     "name": "stdout",
     "output_type": "stream",
     "text": "\raudio_metadata: ["
    },
    {
     "name": "stdout",
     "output_type": "stream",
     "text": "################                                                                "
    },
    {
     "name": "stdout",
     "output_type": "stream",
     "text": "] |  20% (500) |  7.1s"
    },
    {
     "name": "stdout",
     "output_type": "stream",
     "text": "\raudio_metadata: ["
    },
    {
     "name": "stdout",
     "output_type": "stream",
     "text": "#########################                                                       "
    },
    {
     "name": "stdout",
     "output_type": "stream",
     "text": "] |  32% (500) |  7.3s"
    },
    {
     "name": "stdout",
     "output_type": "stream",
     "text": "\raudio_metadata: ["
    },
    {
     "name": "stdout",
     "output_type": "stream",
     "text": "##############################                                                  "
    },
    {
     "name": "stdout",
     "output_type": "stream",
     "text": "] |  38% (500) |  7.5s"
    },
    {
     "name": "stdout",
     "output_type": "stream",
     "text": "\raudio_metadata: ["
    },
    {
     "name": "stdout",
     "output_type": "stream",
     "text": "###############################                                                 "
    },
    {
     "name": "stdout",
     "output_type": "stream",
     "text": "] |  39% (500) |  7.7s"
    },
    {
     "name": "stdout",
     "output_type": "stream",
     "text": "\raudio_metadata: ["
    },
    {
     "name": "stdout",
     "output_type": "stream",
     "text": "################################                                                "
    },
    {
     "name": "stdout",
     "output_type": "stream",
     "text": "] |  41% (500) |  7.8s"
    },
    {
     "name": "stdout",
     "output_type": "stream",
     "text": "\raudio_metadata: ["
    },
    {
     "name": "stdout",
     "output_type": "stream",
     "text": "################################                                                "
    },
    {
     "name": "stdout",
     "output_type": "stream",
     "text": "] |  41% (500) |  8.0s"
    },
    {
     "name": "stdout",
     "output_type": "stream",
     "text": "\raudio_metadata: ["
    },
    {
     "name": "stdout",
     "output_type": "stream",
     "text": "################################                                                "
    },
    {
     "name": "stdout",
     "output_type": "stream",
     "text": "] |  41% (500) |  8.2s"
    },
    {
     "name": "stdout",
     "output_type": "stream",
     "text": "\raudio_metadata: ["
    },
    {
     "name": "stdout",
     "output_type": "stream",
     "text": "################################                                                "
    },
    {
     "name": "stdout",
     "output_type": "stream",
     "text": "] |  41% (500) |  8.4s"
    },
    {
     "name": "stdout",
     "output_type": "stream",
     "text": "\raudio_metadata: ["
    },
    {
     "name": "stdout",
     "output_type": "stream",
     "text": "################################                                                "
    },
    {
     "name": "stdout",
     "output_type": "stream",
     "text": "] |  41% (500) |  8.6s"
    },
    {
     "name": "stdout",
     "output_type": "stream",
     "text": "\raudio_metadata: ["
    },
    {
     "name": "stdout",
     "output_type": "stream",
     "text": "################################                                                "
    },
    {
     "name": "stdout",
     "output_type": "stream",
     "text": "] |  41% (500) |  8.7s"
    },
    {
     "name": "stdout",
     "output_type": "stream",
     "text": "\raudio_metadata: ["
    },
    {
     "name": "stdout",
     "output_type": "stream",
     "text": "################################                                                "
    },
    {
     "name": "stdout",
     "output_type": "stream",
     "text": "] |  41% (500) |  8.9s"
    },
    {
     "name": "stdout",
     "output_type": "stream",
     "text": "\raudio_metadata: ["
    },
    {
     "name": "stdout",
     "output_type": "stream",
     "text": "################################                                                "
    },
    {
     "name": "stdout",
     "output_type": "stream",
     "text": "] |  41% (500) |  9.0s"
    },
    {
     "name": "stdout",
     "output_type": "stream",
     "text": "\raudio_metadata: ["
    },
    {
     "name": "stdout",
     "output_type": "stream",
     "text": "################################                                                "
    },
    {
     "name": "stdout",
     "output_type": "stream",
     "text": "] |  41% (500) |  9.2s"
    },
    {
     "name": "stdout",
     "output_type": "stream",
     "text": "\raudio_metadata: ["
    },
    {
     "name": "stdout",
     "output_type": "stream",
     "text": "################################                                                "
    },
    {
     "name": "stdout",
     "output_type": "stream",
     "text": "] |  41% (500) |  9.4s"
    },
    {
     "name": "stdout",
     "output_type": "stream",
     "text": "\raudio_metadata: ["
    },
    {
     "name": "stdout",
     "output_type": "stream",
     "text": "################################                                                "
    },
    {
     "name": "stdout",
     "output_type": "stream",
     "text": "] |  41% (500) |  9.6s"
    },
    {
     "name": "stdout",
     "output_type": "stream",
     "text": "\raudio_metadata: ["
    },
    {
     "name": "stdout",
     "output_type": "stream",
     "text": "################################                                                "
    },
    {
     "name": "stdout",
     "output_type": "stream",
     "text": "] |  41% (500) |  9.8s"
    },
    {
     "name": "stdout",
     "output_type": "stream",
     "text": "\raudio_metadata: ["
    },
    {
     "name": "stdout",
     "output_type": "stream",
     "text": "################################                                                "
    },
    {
     "name": "stdout",
     "output_type": "stream",
     "text": "] |  41% (500) | 10.0s"
    },
    {
     "name": "stdout",
     "output_type": "stream",
     "text": "\raudio_metadata: ["
    },
    {
     "name": "stdout",
     "output_type": "stream",
     "text": "################################                                                "
    },
    {
     "name": "stdout",
     "output_type": "stream",
     "text": "] |  41% (500) | 10.1s"
    },
    {
     "name": "stdout",
     "output_type": "stream",
     "text": "\raudio_metadata: ["
    },
    {
     "name": "stdout",
     "output_type": "stream",
     "text": "################################                                                "
    },
    {
     "name": "stdout",
     "output_type": "stream",
     "text": "] |  41% (500) | 10.3s"
    },
    {
     "name": "stdout",
     "output_type": "stream",
     "text": "\raudio_metadata: ["
    },
    {
     "name": "stdout",
     "output_type": "stream",
     "text": "################################                                                "
    },
    {
     "name": "stdout",
     "output_type": "stream",
     "text": "] |  41% (500) | 10.5s"
    },
    {
     "name": "stdout",
     "output_type": "stream",
     "text": "\raudio_metadata: ["
    },
    {
     "name": "stdout",
     "output_type": "stream",
     "text": "################################                                                "
    },
    {
     "name": "stdout",
     "output_type": "stream",
     "text": "] |  41% (500) | 10.7s"
    },
    {
     "name": "stdout",
     "output_type": "stream",
     "text": "\raudio_metadata: ["
    },
    {
     "name": "stdout",
     "output_type": "stream",
     "text": "###################################                                             "
    },
    {
     "name": "stdout",
     "output_type": "stream",
     "text": "] |  44% (500) | 10.8s"
    },
    {
     "name": "stdout",
     "output_type": "stream",
     "text": "\raudio_metadata: ["
    },
    {
     "name": "stdout",
     "output_type": "stream",
     "text": "############################################                                    "
    },
    {
     "name": "stdout",
     "output_type": "stream",
     "text": "] |  55% (500) | 11.0s"
    },
    {
     "name": "stdout",
     "output_type": "stream",
     "text": "\raudio_metadata: ["
    },
    {
     "name": "stdout",
     "output_type": "stream",
     "text": "#################################################                               "
    },
    {
     "name": "stdout",
     "output_type": "stream",
     "text": "] |  61% (500) | 11.2s"
    },
    {
     "name": "stdout",
     "output_type": "stream",
     "text": "\raudio_metadata: ["
    },
    {
     "name": "stdout",
     "output_type": "stream",
     "text": "#################################################                               "
    },
    {
     "name": "stdout",
     "output_type": "stream",
     "text": "] |  61% (500) | 11.4s"
    },
    {
     "name": "stdout",
     "output_type": "stream",
     "text": "\raudio_metadata: ["
    },
    {
     "name": "stdout",
     "output_type": "stream",
     "text": "#################################################                               "
    },
    {
     "name": "stdout",
     "output_type": "stream",
     "text": "] |  61% (500) | 11.5s"
    },
    {
     "name": "stdout",
     "output_type": "stream",
     "text": "\raudio_metadata: ["
    },
    {
     "name": "stdout",
     "output_type": "stream",
     "text": "#################################################                               "
    },
    {
     "name": "stdout",
     "output_type": "stream",
     "text": "] |  61% (500) | 11.7s"
    },
    {
     "name": "stdout",
     "output_type": "stream",
     "text": "\raudio_metadata: ["
    },
    {
     "name": "stdout",
     "output_type": "stream",
     "text": "#################################################                               "
    },
    {
     "name": "stdout",
     "output_type": "stream",
     "text": "] |  61% (500) | 11.9s"
    },
    {
     "name": "stdout",
     "output_type": "stream",
     "text": "\raudio_metadata: ["
    },
    {
     "name": "stdout",
     "output_type": "stream",
     "text": "#################################################                               "
    },
    {
     "name": "stdout",
     "output_type": "stream",
     "text": "] |  61% (500) | 12.1s"
    },
    {
     "name": "stdout",
     "output_type": "stream",
     "text": "\raudio_metadata: ["
    },
    {
     "name": "stdout",
     "output_type": "stream",
     "text": "#################################################                               "
    },
    {
     "name": "stdout",
     "output_type": "stream",
     "text": "] |  61% (500) | 12.3s"
    },
    {
     "name": "stdout",
     "output_type": "stream",
     "text": "\raudio_metadata: ["
    },
    {
     "name": "stdout",
     "output_type": "stream",
     "text": "#################################################                               "
    },
    {
     "name": "stdout",
     "output_type": "stream",
     "text": "] |  61% (500) | 12.5s"
    },
    {
     "name": "stdout",
     "output_type": "stream",
     "text": "\raudio_metadata: ["
    },
    {
     "name": "stdout",
     "output_type": "stream",
     "text": "#################################################                               "
    },
    {
     "name": "stdout",
     "output_type": "stream",
     "text": "] |  61% (500) | 12.7s"
    },
    {
     "name": "stdout",
     "output_type": "stream",
     "text": "\raudio_metadata: ["
    },
    {
     "name": "stdout",
     "output_type": "stream",
     "text": "#################################################                               "
    },
    {
     "name": "stdout",
     "output_type": "stream",
     "text": "] |  61% (500) | 12.8s"
    },
    {
     "name": "stdout",
     "output_type": "stream",
     "text": "\raudio_metadata: ["
    },
    {
     "name": "stdout",
     "output_type": "stream",
     "text": "#################################################                               "
    },
    {
     "name": "stdout",
     "output_type": "stream",
     "text": "] |  61% (500) | 13.0s"
    },
    {
     "name": "stdout",
     "output_type": "stream",
     "text": "\raudio_metadata: ["
    },
    {
     "name": "stdout",
     "output_type": "stream",
     "text": "#################################################                               "
    },
    {
     "name": "stdout",
     "output_type": "stream",
     "text": "] |  61% (500) | 13.2s"
    },
    {
     "name": "stdout",
     "output_type": "stream",
     "text": "\raudio_metadata: ["
    },
    {
     "name": "stdout",
     "output_type": "stream",
     "text": "#################################################                               "
    },
    {
     "name": "stdout",
     "output_type": "stream",
     "text": "] |  61% (500) | 13.4s"
    },
    {
     "name": "stdout",
     "output_type": "stream",
     "text": "\raudio_metadata: ["
    },
    {
     "name": "stdout",
     "output_type": "stream",
     "text": "#################################################                               "
    },
    {
     "name": "stdout",
     "output_type": "stream",
     "text": "] |  61% (500) | 13.5s"
    },
    {
     "name": "stdout",
     "output_type": "stream",
     "text": "\raudio_metadata: ["
    },
    {
     "name": "stdout",
     "output_type": "stream",
     "text": "#################################################                               "
    },
    {
     "name": "stdout",
     "output_type": "stream",
     "text": "] |  61% (500) | 13.7s"
    },
    {
     "name": "stdout",
     "output_type": "stream",
     "text": "\raudio_metadata: ["
    },
    {
     "name": "stdout",
     "output_type": "stream",
     "text": "#################################################                               "
    },
    {
     "name": "stdout",
     "output_type": "stream",
     "text": "] |  61% (500) | 13.9s"
    },
    {
     "name": "stdout",
     "output_type": "stream",
     "text": "\raudio_metadata: ["
    },
    {
     "name": "stdout",
     "output_type": "stream",
     "text": "#################################################                               "
    },
    {
     "name": "stdout",
     "output_type": "stream",
     "text": "] |  61% (500) | 14.1s"
    },
    {
     "name": "stdout",
     "output_type": "stream",
     "text": "\raudio_metadata: ["
    },
    {
     "name": "stdout",
     "output_type": "stream",
     "text": "#################################################                               "
    },
    {
     "name": "stdout",
     "output_type": "stream",
     "text": "] |  61% (500) | 14.3s"
    },
    {
     "name": "stdout",
     "output_type": "stream",
     "text": "\raudio_metadata: ["
    },
    {
     "name": "stdout",
     "output_type": "stream",
     "text": "#################################################                               "
    },
    {
     "name": "stdout",
     "output_type": "stream",
     "text": "] |  61% (500) | 14.4s"
    },
    {
     "name": "stdout",
     "output_type": "stream",
     "text": "\raudio_metadata: ["
    },
    {
     "name": "stdout",
     "output_type": "stream",
     "text": "####################################################                            "
    },
    {
     "name": "stdout",
     "output_type": "stream",
     "text": "] |  65% (500) | 14.6s"
    },
    {
     "name": "stdout",
     "output_type": "stream",
     "text": "\raudio_metadata: ["
    },
    {
     "name": "stdout",
     "output_type": "stream",
     "text": "###########################################################                     "
    },
    {
     "name": "stdout",
     "output_type": "stream",
     "text": "] |  74% (500) | 14.8s"
    },
    {
     "name": "stdout",
     "output_type": "stream",
     "text": "\raudio_metadata: ["
    },
    {
     "name": "stdout",
     "output_type": "stream",
     "text": "###############################################################                 "
    },
    {
     "name": "stdout",
     "output_type": "stream",
     "text": "] |  79% (500) | 14.9s"
    },
    {
     "name": "stdout",
     "output_type": "stream",
     "text": "\raudio_metadata: ["
    },
    {
     "name": "stdout",
     "output_type": "stream",
     "text": "#################################################################               "
    },
    {
     "name": "stdout",
     "output_type": "stream",
     "text": "] |  82% (500) | 15.1s"
    },
    {
     "name": "stdout",
     "output_type": "stream",
     "text": "\raudio_metadata: ["
    },
    {
     "name": "stdout",
     "output_type": "stream",
     "text": "#################################################################               "
    },
    {
     "name": "stdout",
     "output_type": "stream",
     "text": "] |  82% (500) | 15.3s"
    },
    {
     "name": "stdout",
     "output_type": "stream",
     "text": "\raudio_metadata: ["
    },
    {
     "name": "stdout",
     "output_type": "stream",
     "text": "#################################################################               "
    },
    {
     "name": "stdout",
     "output_type": "stream",
     "text": "] |  82% (500) | 15.5s"
    },
    {
     "name": "stdout",
     "output_type": "stream",
     "text": "\raudio_metadata: ["
    },
    {
     "name": "stdout",
     "output_type": "stream",
     "text": "#################################################################               "
    },
    {
     "name": "stdout",
     "output_type": "stream",
     "text": "] |  82% (500) | 15.6s"
    },
    {
     "name": "stdout",
     "output_type": "stream",
     "text": "\raudio_metadata: ["
    },
    {
     "name": "stdout",
     "output_type": "stream",
     "text": "#################################################################               "
    },
    {
     "name": "stdout",
     "output_type": "stream",
     "text": "] |  82% (500) | 15.8s"
    },
    {
     "name": "stdout",
     "output_type": "stream",
     "text": "\raudio_metadata: ["
    },
    {
     "name": "stdout",
     "output_type": "stream",
     "text": "#################################################################               "
    },
    {
     "name": "stdout",
     "output_type": "stream",
     "text": "] |  82% (500) | 16.0s"
    },
    {
     "name": "stdout",
     "output_type": "stream",
     "text": "\raudio_metadata: ["
    },
    {
     "name": "stdout",
     "output_type": "stream",
     "text": "#################################################################               "
    },
    {
     "name": "stdout",
     "output_type": "stream",
     "text": "] |  82% (500) | 16.2s"
    },
    {
     "name": "stdout",
     "output_type": "stream",
     "text": "\raudio_metadata: ["
    },
    {
     "name": "stdout",
     "output_type": "stream",
     "text": "###################################################################             "
    },
    {
     "name": "stdout",
     "output_type": "stream",
     "text": "] |  84% (500) | 16.4s"
    },
    {
     "name": "stdout",
     "output_type": "stream",
     "text": "\raudio_metadata: ["
    },
    {
     "name": "stdout",
     "output_type": "stream",
     "text": "###################################################################             "
    },
    {
     "name": "stdout",
     "output_type": "stream",
     "text": "] |  84% (500) | 16.6s"
    },
    {
     "name": "stdout",
     "output_type": "stream",
     "text": "\raudio_metadata: ["
    },
    {
     "name": "stdout",
     "output_type": "stream",
     "text": "###################################################################             "
    },
    {
     "name": "stdout",
     "output_type": "stream",
     "text": "] |  84% (500) | 16.7s"
    },
    {
     "name": "stdout",
     "output_type": "stream",
     "text": "\raudio_metadata: ["
    },
    {
     "name": "stdout",
     "output_type": "stream",
     "text": "###################################################################             "
    },
    {
     "name": "stdout",
     "output_type": "stream",
     "text": "] |  84% (500) | 16.9s"
    },
    {
     "name": "stdout",
     "output_type": "stream",
     "text": "\raudio_metadata: ["
    },
    {
     "name": "stdout",
     "output_type": "stream",
     "text": "###################################################################             "
    },
    {
     "name": "stdout",
     "output_type": "stream",
     "text": "] |  84% (500) | 17.0s"
    },
    {
     "name": "stdout",
     "output_type": "stream",
     "text": "\raudio_metadata: ["
    },
    {
     "name": "stdout",
     "output_type": "stream",
     "text": "###################################################################             "
    },
    {
     "name": "stdout",
     "output_type": "stream",
     "text": "] |  84% (500) | 17.2s"
    },
    {
     "name": "stdout",
     "output_type": "stream",
     "text": "\raudio_metadata: ["
    },
    {
     "name": "stdout",
     "output_type": "stream",
     "text": "###################################################################             "
    },
    {
     "name": "stdout",
     "output_type": "stream",
     "text": "] |  84% (500) | 17.4s"
    },
    {
     "name": "stdout",
     "output_type": "stream",
     "text": "\raudio_metadata: ["
    },
    {
     "name": "stdout",
     "output_type": "stream",
     "text": "###################################################################             "
    },
    {
     "name": "stdout",
     "output_type": "stream",
     "text": "] |  84% (500) | 17.5s"
    },
    {
     "name": "stdout",
     "output_type": "stream",
     "text": "\raudio_metadata: ["
    },
    {
     "name": "stdout",
     "output_type": "stream",
     "text": "###########################################################################     "
    },
    {
     "name": "stdout",
     "output_type": "stream",
     "text": "] |  94% (500) | 17.7s"
    },
    {
     "name": "stdout",
     "output_type": "stream",
     "text": "\raudio_metadata: ["
    },
    {
     "name": "stdout",
     "output_type": "stream",
     "text": "################################################################################"
    },
    {
     "name": "stdout",
     "output_type": "stream",
     "text": "] | 100% (500) | 17.8s"
    },
    {
     "name": "stdout",
     "output_type": "stream",
     "text": "\n"
    },
    {
     "name": "stdout",
     "output_type": "stream",
     "text": "\rf_preds: ["
    },
    {
     "name": "stdout",
     "output_type": "stream",
     "text": "                                                                                       "
    },
    {
     "name": "stdout",
     "output_type": "stream",
     "text": "] |   0% (500) |  0.0s"
    },
    {
     "name": "stdout",
     "output_type": "stream",
     "text": "\rf_preds: ["
    },
    {
     "name": "stdout",
     "output_type": "stream",
     "text": "                                                                                       "
    },
    {
     "name": "stdout",
     "output_type": "stream",
     "text": "] |   0% (500) |  0.1s"
    },
    {
     "name": "stdout",
     "output_type": "stream",
     "text": "\rf_preds: ["
    },
    {
     "name": "stdout",
     "output_type": "stream",
     "text": "                                                                                       "
    },
    {
     "name": "stdout",
     "output_type": "stream",
     "text": "] |   0% (500) |  0.2s"
    },
    {
     "name": "stdout",
     "output_type": "stream",
     "text": "\rf_preds: ["
    },
    {
     "name": "stdout",
     "output_type": "stream",
     "text": "#######################################################################################"
    },
    {
     "name": "stdout",
     "output_type": "stream",
     "text": "] | 100% (500) |  0.3s"
    },
    {
     "name": "stdout",
     "output_type": "stream",
     "text": "\n"
    },
    {
     "name": "stderr",
     "output_type": "stream",
     "text": "\rrec_spectro_bytes:   0%|                                                                       | 0/500 [00:00<?, ?it/s]"
    },
    {
     "name": "stderr",
     "output_type": "stream",
     "text": "\rrec_spectro_bytes:   6%|███▉                                                         | 32/500 [00:00<00:01, 315.87it/s]"
    },
    {
     "name": "stderr",
     "output_type": "stream",
     "text": "\rrec_spectro_bytes:  13%|████████▏                                                    | 67/500 [00:00<00:01, 328.49it/s]"
    },
    {
     "name": "stderr",
     "output_type": "stream",
     "text": "\rrec_spectro_bytes:  19%|███████████▊                                                 | 97/500 [00:00<00:01, 313.29it/s]"
    },
    {
     "name": "stderr",
     "output_type": "stream",
     "text": "\rrec_spectro_bytes:  24%|██████████████▏                                             | 118/500 [00:00<00:01, 278.05it/s]"
    },
    {
     "name": "stderr",
     "output_type": "stream",
     "text": "\rrec_spectro_bytes:  29%|█████████████████▋                                          | 147/500 [00:00<00:01, 279.00it/s]"
    },
    {
     "name": "stderr",
     "output_type": "stream",
     "text": "\rrec_spectro_bytes:  37%|█████████████████████▉                                      | 183/500 [00:00<00:01, 290.87it/s]"
    },
    {
     "name": "stderr",
     "output_type": "stream",
     "text": "\rrec_spectro_bytes:  44%|██████████████████████████▎                                 | 219/500 [00:00<00:00, 299.71it/s]"
    },
    {
     "name": "stderr",
     "output_type": "stream",
     "text": "\rrec_spectro_bytes:  51%|██████████████████████████████▊                             | 257/500 [00:00<00:00, 309.19it/s]"
    },
    {
     "name": "stderr",
     "output_type": "stream",
     "text": "\rrec_spectro_bytes:  59%|███████████████████████████████████▌                        | 296/500 [00:00<00:00, 317.78it/s]"
    },
    {
     "name": "stderr",
     "output_type": "stream",
     "text": "\rrec_spectro_bytes:  67%|████████████████████████████████████████                    | 334/500 [00:01<00:00, 323.76it/s]"
    },
    {
     "name": "stderr",
     "output_type": "stream",
     "text": "\rrec_spectro_bytes:  74%|████████████████████████████████████████████▍               | 370/500 [00:01<00:00, 300.80it/s]"
    },
    {
     "name": "stderr",
     "output_type": "stream",
     "text": "\rrec_spectro_bytes:  80%|████████████████████████████████████████████████            | 400/500 [00:01<00:00, 299.45it/s]"
    },
    {
     "name": "stderr",
     "output_type": "stream",
     "text": "\rrec_spectro_bytes:  87%|████████████████████████████████████████████████████▎       | 436/500 [00:01<00:00, 303.63it/s]"
    },
    {
     "name": "stderr",
     "output_type": "stream",
     "text": "\rrec_spectro_bytes:  94%|████████████████████████████████████████████████████████▌   | 471/500 [00:01<00:00, 306.14it/s]"
    },
    {
     "name": "stderr",
     "output_type": "stream",
     "text": "\rrec_spectro_bytes: 100%|████████████████████████████████████████████████████████████| 500/500 [00:01<00:00, 308.56it/s]"
    },
    {
     "name": "stderr",
     "output_type": "stream",
     "text": "\n"
    },
    {
     "name": "stdout",
     "output_type": "stream",
     "text": "INFO     [12:54:26.319] [38842] 925 api.recs/recs_featurize_spectro_bytes: [1.628s]"
    },
    {
     "name": "stdout",
     "output_type": "stream",
     "text": "\n"
    },
    {
     "name": "stdout",
     "output_type": "stream",
     "text": "\raudio_bytes: ["
    },
    {
     "name": "stdout",
     "output_type": "stream",
     "text": "                                                                                   "
    },
    {
     "name": "stdout",
     "output_type": "stream",
     "text": "] |   0% (500) |  0.0s"
    },
    {
     "name": "stdout",
     "output_type": "stream",
     "text": "\raudio_bytes: ["
    },
    {
     "name": "stdout",
     "output_type": "stream",
     "text": "############################################################                       "
    },
    {
     "name": "stdout",
     "output_type": "stream",
     "text": "] |  73% (500) |  0.1s"
    },
    {
     "name": "stdout",
     "output_type": "stream",
     "text": "\raudio_bytes: ["
    },
    {
     "name": "stdout",
     "output_type": "stream",
     "text": "###################################################################################"
    },
    {
     "name": "stdout",
     "output_type": "stream",
     "text": "] | 100% (500) |  0.2s"
    },
    {
     "name": "stdout",
     "output_type": "stream",
     "text": "\n"
    },
    {
     "name": "stdout",
     "output_type": "stream",
     "text": "INFO     [12:54:26.572] [38842] 999 api.recs/recs_featurize_audio_bytes: [0.241s]"
    },
    {
     "name": "stdout",
     "output_type": "stream",
     "text": "\n"
    },
    {
     "name": "stdout",
     "output_type": "stream",
     "text": "INFO     [12:54:26.582] [38842] 687 api.recs/recs_featurize_pre_rank: batches (3/7) [20.477s]"
    },
    {
     "name": "stdout",
     "output_type": "stream",
     "text": "\n"
    },
    {
     "name": "stdout",
     "output_type": "stream",
     "text": "\raudio_metadata: ["
    },
    {
     "name": "stdout",
     "output_type": "stream",
     "text": "                                                                                "
    },
    {
     "name": "stdout",
     "output_type": "stream",
     "text": "] |   0% (500) |  0.0s"
    },
    {
     "name": "stdout",
     "output_type": "stream",
     "text": "\raudio_metadata: ["
    },
    {
     "name": "stdout",
     "output_type": "stream",
     "text": "                                                                                "
    },
    {
     "name": "stdout",
     "output_type": "stream",
     "text": "] |   0% (500) |  0.1s"
    },
    {
     "name": "stdout",
     "output_type": "stream",
     "text": "\raudio_metadata: ["
    },
    {
     "name": "stdout",
     "output_type": "stream",
     "text": "                                                                                "
    },
    {
     "name": "stdout",
     "output_type": "stream",
     "text": "] |   0% (500) |  0.3s"
    },
    {
     "name": "stdout",
     "output_type": "stream",
     "text": "\raudio_metadata: ["
    },
    {
     "name": "stdout",
     "output_type": "stream",
     "text": "                                                                                "
    },
    {
     "name": "stdout",
     "output_type": "stream",
     "text": "] |   0% (500) |  0.5s"
    },
    {
     "name": "stdout",
     "output_type": "stream",
     "text": "\raudio_metadata: ["
    },
    {
     "name": "stdout",
     "output_type": "stream",
     "text": "                                                                                "
    },
    {
     "name": "stdout",
     "output_type": "stream",
     "text": "] |   0% (500) |  0.7s"
    },
    {
     "name": "stdout",
     "output_type": "stream",
     "text": "\raudio_metadata: ["
    },
    {
     "name": "stdout",
     "output_type": "stream",
     "text": "                                                                                "
    },
    {
     "name": "stdout",
     "output_type": "stream",
     "text": "] |   0% (500) |  0.8s"
    },
    {
     "name": "stdout",
     "output_type": "stream",
     "text": "\raudio_metadata: ["
    },
    {
     "name": "stdout",
     "output_type": "stream",
     "text": "                                                                                "
    },
    {
     "name": "stdout",
     "output_type": "stream",
     "text": "] |   0% (500) |  1.0s"
    },
    {
     "name": "stdout",
     "output_type": "stream",
     "text": "\raudio_metadata: ["
    },
    {
     "name": "stdout",
     "output_type": "stream",
     "text": "                                                                                "
    },
    {
     "name": "stdout",
     "output_type": "stream",
     "text": "] |   0% (500) |  1.3s"
    },
    {
     "name": "stdout",
     "output_type": "stream",
     "text": "\raudio_metadata: ["
    },
    {
     "name": "stdout",
     "output_type": "stream",
     "text": "                                                                                "
    },
    {
     "name": "stdout",
     "output_type": "stream",
     "text": "] |   0% (500) |  1.5s"
    },
    {
     "name": "stdout",
     "output_type": "stream",
     "text": "\raudio_metadata: ["
    },
    {
     "name": "stdout",
     "output_type": "stream",
     "text": "                                                                                "
    },
    {
     "name": "stdout",
     "output_type": "stream",
     "text": "] |   0% (500) |  1.7s"
    },
    {
     "name": "stdout",
     "output_type": "stream",
     "text": "\raudio_metadata: ["
    },
    {
     "name": "stdout",
     "output_type": "stream",
     "text": "                                                                                "
    },
    {
     "name": "stdout",
     "output_type": "stream",
     "text": "] |   0% (500) |  1.8s"
    },
    {
     "name": "stdout",
     "output_type": "stream",
     "text": "\raudio_metadata: ["
    },
    {
     "name": "stdout",
     "output_type": "stream",
     "text": "                                                                                "
    },
    {
     "name": "stdout",
     "output_type": "stream",
     "text": "] |   0% (500) |  2.1s"
    },
    {
     "name": "stdout",
     "output_type": "stream",
     "text": "\raudio_metadata: ["
    },
    {
     "name": "stdout",
     "output_type": "stream",
     "text": "                                                                                "
    },
    {
     "name": "stdout",
     "output_type": "stream",
     "text": "] |   0% (500) |  2.2s"
    },
    {
     "name": "stdout",
     "output_type": "stream",
     "text": "\raudio_metadata: ["
    },
    {
     "name": "stdout",
     "output_type": "stream",
     "text": "                                                                                "
    },
    {
     "name": "stdout",
     "output_type": "stream",
     "text": "] |   0% (500) |  2.4s"
    },
    {
     "name": "stdout",
     "output_type": "stream",
     "text": "\raudio_metadata: ["
    },
    {
     "name": "stdout",
     "output_type": "stream",
     "text": "                                                                                "
    },
    {
     "name": "stdout",
     "output_type": "stream",
     "text": "] |   0% (500) |  2.6s"
    },
    {
     "name": "stdout",
     "output_type": "stream",
     "text": "\raudio_metadata: ["
    },
    {
     "name": "stdout",
     "output_type": "stream",
     "text": "                                                                                "
    },
    {
     "name": "stdout",
     "output_type": "stream",
     "text": "] |   0% (500) |  2.8s"
    },
    {
     "name": "stdout",
     "output_type": "stream",
     "text": "\raudio_metadata: ["
    },
    {
     "name": "stdout",
     "output_type": "stream",
     "text": "                                                                                "
    },
    {
     "name": "stdout",
     "output_type": "stream",
     "text": "] |   0% (500) |  3.0s"
    },
    {
     "name": "stdout",
     "output_type": "stream",
     "text": "\raudio_metadata: ["
    },
    {
     "name": "stdout",
     "output_type": "stream",
     "text": "                                                                                "
    },
    {
     "name": "stdout",
     "output_type": "stream",
     "text": "] |   0% (500) |  3.1s"
    },
    {
     "name": "stdout",
     "output_type": "stream",
     "text": "\raudio_metadata: ["
    },
    {
     "name": "stdout",
     "output_type": "stream",
     "text": "##                                                                              "
    },
    {
     "name": "stdout",
     "output_type": "stream",
     "text": "] |   2% (500) |  3.3s"
    },
    {
     "name": "stdout",
     "output_type": "stream",
     "text": "\raudio_metadata: ["
    },
    {
     "name": "stdout",
     "output_type": "stream",
     "text": "########                                                                        "
    },
    {
     "name": "stdout",
     "output_type": "stream",
     "text": "] |  10% (500) |  3.5s"
    },
    {
     "name": "stdout",
     "output_type": "stream",
     "text": "\raudio_metadata: ["
    },
    {
     "name": "stdout",
     "output_type": "stream",
     "text": "##########                                                                      "
    },
    {
     "name": "stdout",
     "output_type": "stream",
     "text": "] |  12% (500) |  3.7s"
    },
    {
     "name": "stdout",
     "output_type": "stream",
     "text": "\raudio_metadata: ["
    },
    {
     "name": "stdout",
     "output_type": "stream",
     "text": "##############                                                                  "
    },
    {
     "name": "stdout",
     "output_type": "stream",
     "text": "] |  17% (500) |  3.8s"
    },
    {
     "name": "stdout",
     "output_type": "stream",
     "text": "\raudio_metadata: ["
    },
    {
     "name": "stdout",
     "output_type": "stream",
     "text": "################                                                                "
    },
    {
     "name": "stdout",
     "output_type": "stream",
     "text": "] |  20% (500) |  4.0s"
    },
    {
     "name": "stdout",
     "output_type": "stream",
     "text": "\raudio_metadata: ["
    },
    {
     "name": "stdout",
     "output_type": "stream",
     "text": "################                                                                "
    },
    {
     "name": "stdout",
     "output_type": "stream",
     "text": "] |  20% (500) |  4.2s"
    },
    {
     "name": "stdout",
     "output_type": "stream",
     "text": "\raudio_metadata: ["
    },
    {
     "name": "stdout",
     "output_type": "stream",
     "text": "################                                                                "
    },
    {
     "name": "stdout",
     "output_type": "stream",
     "text": "] |  20% (500) |  4.4s"
    },
    {
     "name": "stdout",
     "output_type": "stream",
     "text": "\raudio_metadata: ["
    },
    {
     "name": "stdout",
     "output_type": "stream",
     "text": "################                                                                "
    },
    {
     "name": "stdout",
     "output_type": "stream",
     "text": "] |  20% (500) |  4.5s"
    },
    {
     "name": "stdout",
     "output_type": "stream",
     "text": "\raudio_metadata: ["
    },
    {
     "name": "stdout",
     "output_type": "stream",
     "text": "################                                                                "
    },
    {
     "name": "stdout",
     "output_type": "stream",
     "text": "] |  20% (500) |  4.8s"
    },
    {
     "name": "stdout",
     "output_type": "stream",
     "text": "\raudio_metadata: ["
    },
    {
     "name": "stdout",
     "output_type": "stream",
     "text": "################                                                                "
    },
    {
     "name": "stdout",
     "output_type": "stream",
     "text": "] |  20% (500) |  4.9s"
    },
    {
     "name": "stdout",
     "output_type": "stream",
     "text": "\raudio_metadata: ["
    },
    {
     "name": "stdout",
     "output_type": "stream",
     "text": "################                                                                "
    },
    {
     "name": "stdout",
     "output_type": "stream",
     "text": "] |  20% (500) |  5.1s"
    },
    {
     "name": "stdout",
     "output_type": "stream",
     "text": "\raudio_metadata: ["
    },
    {
     "name": "stdout",
     "output_type": "stream",
     "text": "################                                                                "
    },
    {
     "name": "stdout",
     "output_type": "stream",
     "text": "] |  20% (500) |  5.3s"
    },
    {
     "name": "stdout",
     "output_type": "stream",
     "text": "\raudio_metadata: ["
    },
    {
     "name": "stdout",
     "output_type": "stream",
     "text": "################                                                                "
    },
    {
     "name": "stdout",
     "output_type": "stream",
     "text": "] |  20% (500) |  5.5s"
    },
    {
     "name": "stdout",
     "output_type": "stream",
     "text": "\raudio_metadata: ["
    },
    {
     "name": "stdout",
     "output_type": "stream",
     "text": "################                                                                "
    },
    {
     "name": "stdout",
     "output_type": "stream",
     "text": "] |  20% (500) |  5.7s"
    },
    {
     "name": "stdout",
     "output_type": "stream",
     "text": "\raudio_metadata: ["
    },
    {
     "name": "stdout",
     "output_type": "stream",
     "text": "################                                                                "
    },
    {
     "name": "stdout",
     "output_type": "stream",
     "text": "] |  20% (500) |  5.9s"
    },
    {
     "name": "stdout",
     "output_type": "stream",
     "text": "\raudio_metadata: ["
    },
    {
     "name": "stdout",
     "output_type": "stream",
     "text": "################                                                                "
    },
    {
     "name": "stdout",
     "output_type": "stream",
     "text": "] |  20% (500) |  6.0s"
    },
    {
     "name": "stdout",
     "output_type": "stream",
     "text": "\raudio_metadata: ["
    },
    {
     "name": "stdout",
     "output_type": "stream",
     "text": "################                                                                "
    },
    {
     "name": "stdout",
     "output_type": "stream",
     "text": "] |  20% (500) |  6.2s"
    },
    {
     "name": "stdout",
     "output_type": "stream",
     "text": "\raudio_metadata: ["
    },
    {
     "name": "stdout",
     "output_type": "stream",
     "text": "################                                                                "
    },
    {
     "name": "stdout",
     "output_type": "stream",
     "text": "] |  20% (500) |  6.4s"
    },
    {
     "name": "stdout",
     "output_type": "stream",
     "text": "\raudio_metadata: ["
    },
    {
     "name": "stdout",
     "output_type": "stream",
     "text": "################                                                                "
    },
    {
     "name": "stdout",
     "output_type": "stream",
     "text": "] |  20% (500) |  6.5s"
    },
    {
     "name": "stdout",
     "output_type": "stream",
     "text": "\raudio_metadata: ["
    },
    {
     "name": "stdout",
     "output_type": "stream",
     "text": "################                                                                "
    },
    {
     "name": "stdout",
     "output_type": "stream",
     "text": "] |  20% (500) |  6.8s"
    },
    {
     "name": "stdout",
     "output_type": "stream",
     "text": "\raudio_metadata: ["
    },
    {
     "name": "stdout",
     "output_type": "stream",
     "text": "##################                                                              "
    },
    {
     "name": "stdout",
     "output_type": "stream",
     "text": "] |  23% (500) |  7.0s"
    },
    {
     "name": "stdout",
     "output_type": "stream",
     "text": "\raudio_metadata: ["
    },
    {
     "name": "stdout",
     "output_type": "stream",
     "text": "#####################                                                           "
    },
    {
     "name": "stdout",
     "output_type": "stream",
     "text": "] |  26% (500) |  7.1s"
    },
    {
     "name": "stdout",
     "output_type": "stream",
     "text": "\raudio_metadata: ["
    },
    {
     "name": "stdout",
     "output_type": "stream",
     "text": "########################                                                        "
    },
    {
     "name": "stdout",
     "output_type": "stream",
     "text": "] |  30% (500) |  7.3s"
    },
    {
     "name": "stdout",
     "output_type": "stream",
     "text": "\raudio_metadata: ["
    },
    {
     "name": "stdout",
     "output_type": "stream",
     "text": "################################                                                "
    },
    {
     "name": "stdout",
     "output_type": "stream",
     "text": "] |  41% (500) |  7.5s"
    },
    {
     "name": "stdout",
     "output_type": "stream",
     "text": "\raudio_metadata: ["
    },
    {
     "name": "stdout",
     "output_type": "stream",
     "text": "################################                                                "
    },
    {
     "name": "stdout",
     "output_type": "stream",
     "text": "] |  41% (500) |  7.7s"
    },
    {
     "name": "stdout",
     "output_type": "stream",
     "text": "\raudio_metadata: ["
    },
    {
     "name": "stdout",
     "output_type": "stream",
     "text": "################################                                                "
    },
    {
     "name": "stdout",
     "output_type": "stream",
     "text": "] |  41% (500) |  7.9s"
    },
    {
     "name": "stdout",
     "output_type": "stream",
     "text": "\raudio_metadata: ["
    },
    {
     "name": "stdout",
     "output_type": "stream",
     "text": "################################                                                "
    },
    {
     "name": "stdout",
     "output_type": "stream",
     "text": "] |  41% (500) |  8.1s"
    },
    {
     "name": "stdout",
     "output_type": "stream",
     "text": "\raudio_metadata: ["
    },
    {
     "name": "stdout",
     "output_type": "stream",
     "text": "################################                                                "
    },
    {
     "name": "stdout",
     "output_type": "stream",
     "text": "] |  41% (500) |  8.3s"
    },
    {
     "name": "stdout",
     "output_type": "stream",
     "text": "\raudio_metadata: ["
    },
    {
     "name": "stdout",
     "output_type": "stream",
     "text": "################################                                                "
    },
    {
     "name": "stdout",
     "output_type": "stream",
     "text": "] |  41% (500) |  8.5s"
    },
    {
     "name": "stdout",
     "output_type": "stream",
     "text": "\raudio_metadata: ["
    },
    {
     "name": "stdout",
     "output_type": "stream",
     "text": "################################                                                "
    },
    {
     "name": "stdout",
     "output_type": "stream",
     "text": "] |  41% (500) |  8.6s"
    },
    {
     "name": "stdout",
     "output_type": "stream",
     "text": "\raudio_metadata: ["
    },
    {
     "name": "stdout",
     "output_type": "stream",
     "text": "################################                                                "
    },
    {
     "name": "stdout",
     "output_type": "stream",
     "text": "] |  41% (500) |  8.8s"
    },
    {
     "name": "stdout",
     "output_type": "stream",
     "text": "\raudio_metadata: ["
    },
    {
     "name": "stdout",
     "output_type": "stream",
     "text": "################################                                                "
    },
    {
     "name": "stdout",
     "output_type": "stream",
     "text": "] |  41% (500) |  9.0s"
    },
    {
     "name": "stdout",
     "output_type": "stream",
     "text": "\raudio_metadata: ["
    },
    {
     "name": "stdout",
     "output_type": "stream",
     "text": "################################                                                "
    },
    {
     "name": "stdout",
     "output_type": "stream",
     "text": "] |  41% (500) |  9.2s"
    },
    {
     "name": "stdout",
     "output_type": "stream",
     "text": "\raudio_metadata: ["
    },
    {
     "name": "stdout",
     "output_type": "stream",
     "text": "################################                                                "
    },
    {
     "name": "stdout",
     "output_type": "stream",
     "text": "] |  41% (500) |  9.4s"
    },
    {
     "name": "stdout",
     "output_type": "stream",
     "text": "\raudio_metadata: ["
    },
    {
     "name": "stdout",
     "output_type": "stream",
     "text": "################################                                                "
    },
    {
     "name": "stdout",
     "output_type": "stream",
     "text": "] |  41% (500) |  9.5s"
    },
    {
     "name": "stdout",
     "output_type": "stream",
     "text": "\raudio_metadata: ["
    },
    {
     "name": "stdout",
     "output_type": "stream",
     "text": "################################                                                "
    },
    {
     "name": "stdout",
     "output_type": "stream",
     "text": "] |  41% (500) |  9.7s"
    },
    {
     "name": "stdout",
     "output_type": "stream",
     "text": "\raudio_metadata: ["
    },
    {
     "name": "stdout",
     "output_type": "stream",
     "text": "################################                                                "
    },
    {
     "name": "stdout",
     "output_type": "stream",
     "text": "] |  41% (500) |  9.9s"
    },
    {
     "name": "stdout",
     "output_type": "stream",
     "text": "\raudio_metadata: ["
    },
    {
     "name": "stdout",
     "output_type": "stream",
     "text": "################################                                                "
    },
    {
     "name": "stdout",
     "output_type": "stream",
     "text": "] |  41% (500) | 10.0s"
    },
    {
     "name": "stdout",
     "output_type": "stream",
     "text": "\raudio_metadata: ["
    },
    {
     "name": "stdout",
     "output_type": "stream",
     "text": "################################                                                "
    },
    {
     "name": "stdout",
     "output_type": "stream",
     "text": "] |  41% (500) | 10.2s"
    },
    {
     "name": "stdout",
     "output_type": "stream",
     "text": "\raudio_metadata: ["
    },
    {
     "name": "stdout",
     "output_type": "stream",
     "text": "################################                                                "
    },
    {
     "name": "stdout",
     "output_type": "stream",
     "text": "] |  41% (500) | 10.4s"
    },
    {
     "name": "stdout",
     "output_type": "stream",
     "text": "\raudio_metadata: ["
    },
    {
     "name": "stdout",
     "output_type": "stream",
     "text": "################################                                                "
    },
    {
     "name": "stdout",
     "output_type": "stream",
     "text": "] |  41% (500) | 10.5s"
    },
    {
     "name": "stdout",
     "output_type": "stream",
     "text": "\raudio_metadata: ["
    },
    {
     "name": "stdout",
     "output_type": "stream",
     "text": "##################################                                              "
    },
    {
     "name": "stdout",
     "output_type": "stream",
     "text": "] |  43% (500) | 10.8s"
    },
    {
     "name": "stdout",
     "output_type": "stream",
     "text": "\raudio_metadata: ["
    },
    {
     "name": "stdout",
     "output_type": "stream",
     "text": "######################################                                          "
    },
    {
     "name": "stdout",
     "output_type": "stream",
     "text": "] |  48% (500) | 10.9s"
    },
    {
     "name": "stdout",
     "output_type": "stream",
     "text": "\raudio_metadata: ["
    },
    {
     "name": "stdout",
     "output_type": "stream",
     "text": "###########################################                                     "
    },
    {
     "name": "stdout",
     "output_type": "stream",
     "text": "] |  53% (500) | 11.1s"
    },
    {
     "name": "stdout",
     "output_type": "stream",
     "text": "\raudio_metadata: ["
    },
    {
     "name": "stdout",
     "output_type": "stream",
     "text": "#################################################                               "
    },
    {
     "name": "stdout",
     "output_type": "stream",
     "text": "] |  61% (500) | 11.4s"
    },
    {
     "name": "stdout",
     "output_type": "stream",
     "text": "\raudio_metadata: ["
    },
    {
     "name": "stdout",
     "output_type": "stream",
     "text": "#################################################                               "
    },
    {
     "name": "stdout",
     "output_type": "stream",
     "text": "] |  61% (500) | 11.6s"
    },
    {
     "name": "stdout",
     "output_type": "stream",
     "text": "\raudio_metadata: ["
    },
    {
     "name": "stdout",
     "output_type": "stream",
     "text": "#################################################                               "
    },
    {
     "name": "stdout",
     "output_type": "stream",
     "text": "] |  61% (500) | 11.8s"
    },
    {
     "name": "stdout",
     "output_type": "stream",
     "text": "\raudio_metadata: ["
    },
    {
     "name": "stdout",
     "output_type": "stream",
     "text": "#################################################                               "
    },
    {
     "name": "stdout",
     "output_type": "stream",
     "text": "] |  61% (500) | 12.0s"
    },
    {
     "name": "stdout",
     "output_type": "stream",
     "text": "\raudio_metadata: ["
    },
    {
     "name": "stdout",
     "output_type": "stream",
     "text": "#################################################                               "
    },
    {
     "name": "stdout",
     "output_type": "stream",
     "text": "] |  61% (500) | 12.1s"
    },
    {
     "name": "stdout",
     "output_type": "stream",
     "text": "\raudio_metadata: ["
    },
    {
     "name": "stdout",
     "output_type": "stream",
     "text": "#################################################                               "
    },
    {
     "name": "stdout",
     "output_type": "stream",
     "text": "] |  61% (500) | 12.3s"
    },
    {
     "name": "stdout",
     "output_type": "stream",
     "text": "\raudio_metadata: ["
    },
    {
     "name": "stdout",
     "output_type": "stream",
     "text": "#################################################                               "
    },
    {
     "name": "stdout",
     "output_type": "stream",
     "text": "] |  61% (500) | 12.6s"
    },
    {
     "name": "stdout",
     "output_type": "stream",
     "text": "\raudio_metadata: ["
    },
    {
     "name": "stdout",
     "output_type": "stream",
     "text": "#################################################                               "
    },
    {
     "name": "stdout",
     "output_type": "stream",
     "text": "] |  61% (500) | 12.7s"
    },
    {
     "name": "stdout",
     "output_type": "stream",
     "text": "\raudio_metadata: ["
    },
    {
     "name": "stdout",
     "output_type": "stream",
     "text": "#################################################                               "
    },
    {
     "name": "stdout",
     "output_type": "stream",
     "text": "] |  61% (500) | 12.9s"
    },
    {
     "name": "stdout",
     "output_type": "stream",
     "text": "\raudio_metadata: ["
    },
    {
     "name": "stdout",
     "output_type": "stream",
     "text": "#################################################                               "
    },
    {
     "name": "stdout",
     "output_type": "stream",
     "text": "] |  61% (500) | 13.1s"
    },
    {
     "name": "stdout",
     "output_type": "stream",
     "text": "\raudio_metadata: ["
    },
    {
     "name": "stdout",
     "output_type": "stream",
     "text": "#################################################                               "
    },
    {
     "name": "stdout",
     "output_type": "stream",
     "text": "] |  61% (500) | 13.2s"
    },
    {
     "name": "stdout",
     "output_type": "stream",
     "text": "\raudio_metadata: ["
    },
    {
     "name": "stdout",
     "output_type": "stream",
     "text": "#################################################                               "
    },
    {
     "name": "stdout",
     "output_type": "stream",
     "text": "] |  61% (500) | 13.4s"
    },
    {
     "name": "stdout",
     "output_type": "stream",
     "text": "\raudio_metadata: ["
    },
    {
     "name": "stdout",
     "output_type": "stream",
     "text": "#################################################                               "
    },
    {
     "name": "stdout",
     "output_type": "stream",
     "text": "] |  61% (500) | 13.6s"
    },
    {
     "name": "stdout",
     "output_type": "stream",
     "text": "\raudio_metadata: ["
    },
    {
     "name": "stdout",
     "output_type": "stream",
     "text": "#################################################                               "
    },
    {
     "name": "stdout",
     "output_type": "stream",
     "text": "] |  61% (500) | 13.8s"
    },
    {
     "name": "stdout",
     "output_type": "stream",
     "text": "\raudio_metadata: ["
    },
    {
     "name": "stdout",
     "output_type": "stream",
     "text": "#################################################                               "
    },
    {
     "name": "stdout",
     "output_type": "stream",
     "text": "] |  61% (500) | 14.0s"
    },
    {
     "name": "stdout",
     "output_type": "stream",
     "text": "\raudio_metadata: ["
    },
    {
     "name": "stdout",
     "output_type": "stream",
     "text": "#################################################                               "
    },
    {
     "name": "stdout",
     "output_type": "stream",
     "text": "] |  61% (500) | 14.1s"
    },
    {
     "name": "stdout",
     "output_type": "stream",
     "text": "\raudio_metadata: ["
    },
    {
     "name": "stdout",
     "output_type": "stream",
     "text": "#################################################                               "
    },
    {
     "name": "stdout",
     "output_type": "stream",
     "text": "] |  61% (500) | 14.3s"
    },
    {
     "name": "stdout",
     "output_type": "stream",
     "text": "\raudio_metadata: ["
    },
    {
     "name": "stdout",
     "output_type": "stream",
     "text": "#################################################                               "
    },
    {
     "name": "stdout",
     "output_type": "stream",
     "text": "] |  61% (500) | 14.5s"
    },
    {
     "name": "stdout",
     "output_type": "stream",
     "text": "\raudio_metadata: ["
    },
    {
     "name": "stdout",
     "output_type": "stream",
     "text": "###################################################                             "
    },
    {
     "name": "stdout",
     "output_type": "stream",
     "text": "] |  64% (500) | 14.7s"
    },
    {
     "name": "stdout",
     "output_type": "stream",
     "text": "\raudio_metadata: ["
    },
    {
     "name": "stdout",
     "output_type": "stream",
     "text": "#########################################################                       "
    },
    {
     "name": "stdout",
     "output_type": "stream",
     "text": "] |  71% (500) | 14.9s"
    },
    {
     "name": "stdout",
     "output_type": "stream",
     "text": "\raudio_metadata: ["
    },
    {
     "name": "stdout",
     "output_type": "stream",
     "text": "##########################################################                      "
    },
    {
     "name": "stdout",
     "output_type": "stream",
     "text": "] |  73% (500) | 15.1s"
    },
    {
     "name": "stdout",
     "output_type": "stream",
     "text": "\raudio_metadata: ["
    },
    {
     "name": "stdout",
     "output_type": "stream",
     "text": "############################################################                    "
    },
    {
     "name": "stdout",
     "output_type": "stream",
     "text": "] |  75% (500) | 15.3s"
    },
    {
     "name": "stdout",
     "output_type": "stream",
     "text": "\raudio_metadata: ["
    },
    {
     "name": "stdout",
     "output_type": "stream",
     "text": "#################################################################               "
    },
    {
     "name": "stdout",
     "output_type": "stream",
     "text": "] |  82% (500) | 15.5s"
    },
    {
     "name": "stdout",
     "output_type": "stream",
     "text": "\raudio_metadata: ["
    },
    {
     "name": "stdout",
     "output_type": "stream",
     "text": "#################################################################               "
    },
    {
     "name": "stdout",
     "output_type": "stream",
     "text": "] |  82% (500) | 15.7s"
    },
    {
     "name": "stdout",
     "output_type": "stream",
     "text": "\raudio_metadata: ["
    },
    {
     "name": "stdout",
     "output_type": "stream",
     "text": "#################################################################               "
    },
    {
     "name": "stdout",
     "output_type": "stream",
     "text": "] |  82% (500) | 15.8s"
    },
    {
     "name": "stdout",
     "output_type": "stream",
     "text": "\raudio_metadata: ["
    },
    {
     "name": "stdout",
     "output_type": "stream",
     "text": "#################################################################               "
    },
    {
     "name": "stdout",
     "output_type": "stream",
     "text": "] |  82% (500) | 16.0s"
    },
    {
     "name": "stdout",
     "output_type": "stream",
     "text": "\raudio_metadata: ["
    },
    {
     "name": "stdout",
     "output_type": "stream",
     "text": "#################################################################               "
    },
    {
     "name": "stdout",
     "output_type": "stream",
     "text": "] |  82% (500) | 16.1s"
    },
    {
     "name": "stdout",
     "output_type": "stream",
     "text": "\raudio_metadata: ["
    },
    {
     "name": "stdout",
     "output_type": "stream",
     "text": "#################################################################               "
    },
    {
     "name": "stdout",
     "output_type": "stream",
     "text": "] |  82% (500) | 16.3s"
    },
    {
     "name": "stdout",
     "output_type": "stream",
     "text": "\raudio_metadata: ["
    },
    {
     "name": "stdout",
     "output_type": "stream",
     "text": "#################################################################               "
    },
    {
     "name": "stdout",
     "output_type": "stream",
     "text": "] |  82% (500) | 16.5s"
    },
    {
     "name": "stdout",
     "output_type": "stream",
     "text": "\raudio_metadata: ["
    },
    {
     "name": "stdout",
     "output_type": "stream",
     "text": "#################################################################               "
    },
    {
     "name": "stdout",
     "output_type": "stream",
     "text": "] |  82% (500) | 16.6s"
    },
    {
     "name": "stdout",
     "output_type": "stream",
     "text": "\raudio_metadata: ["
    },
    {
     "name": "stdout",
     "output_type": "stream",
     "text": "#################################################################               "
    },
    {
     "name": "stdout",
     "output_type": "stream",
     "text": "] |  82% (500) | 16.8s"
    },
    {
     "name": "stdout",
     "output_type": "stream",
     "text": "\raudio_metadata: ["
    },
    {
     "name": "stdout",
     "output_type": "stream",
     "text": "#################################################################               "
    },
    {
     "name": "stdout",
     "output_type": "stream",
     "text": "] |  82% (500) | 17.0s"
    },
    {
     "name": "stdout",
     "output_type": "stream",
     "text": "\raudio_metadata: ["
    },
    {
     "name": "stdout",
     "output_type": "stream",
     "text": "#################################################################               "
    },
    {
     "name": "stdout",
     "output_type": "stream",
     "text": "] |  82% (500) | 17.1s"
    },
    {
     "name": "stdout",
     "output_type": "stream",
     "text": "\raudio_metadata: ["
    },
    {
     "name": "stdout",
     "output_type": "stream",
     "text": "###################################################################             "
    },
    {
     "name": "stdout",
     "output_type": "stream",
     "text": "] |  84% (500) | 17.3s"
    },
    {
     "name": "stdout",
     "output_type": "stream",
     "text": "\raudio_metadata: ["
    },
    {
     "name": "stdout",
     "output_type": "stream",
     "text": "###################################################################             "
    },
    {
     "name": "stdout",
     "output_type": "stream",
     "text": "] |  84% (500) | 17.5s"
    },
    {
     "name": "stdout",
     "output_type": "stream",
     "text": "\raudio_metadata: ["
    },
    {
     "name": "stdout",
     "output_type": "stream",
     "text": "###################################################################             "
    },
    {
     "name": "stdout",
     "output_type": "stream",
     "text": "] |  84% (500) | 17.7s"
    },
    {
     "name": "stdout",
     "output_type": "stream",
     "text": "\raudio_metadata: ["
    },
    {
     "name": "stdout",
     "output_type": "stream",
     "text": "###################################################################             "
    },
    {
     "name": "stdout",
     "output_type": "stream",
     "text": "] |  84% (500) | 17.9s"
    },
    {
     "name": "stdout",
     "output_type": "stream",
     "text": "\raudio_metadata: ["
    },
    {
     "name": "stdout",
     "output_type": "stream",
     "text": "###################################################################             "
    },
    {
     "name": "stdout",
     "output_type": "stream",
     "text": "] |  84% (500) | 18.0s"
    },
    {
     "name": "stdout",
     "output_type": "stream",
     "text": "\raudio_metadata: ["
    },
    {
     "name": "stdout",
     "output_type": "stream",
     "text": "###################################################################             "
    },
    {
     "name": "stdout",
     "output_type": "stream",
     "text": "] |  84% (500) | 18.2s"
    },
    {
     "name": "stdout",
     "output_type": "stream",
     "text": "\raudio_metadata: ["
    },
    {
     "name": "stdout",
     "output_type": "stream",
     "text": "###################################################################             "
    },
    {
     "name": "stdout",
     "output_type": "stream",
     "text": "] |  84% (500) | 18.4s"
    },
    {
     "name": "stdout",
     "output_type": "stream",
     "text": "\raudio_metadata: ["
    },
    {
     "name": "stdout",
     "output_type": "stream",
     "text": "########################################################################        "
    },
    {
     "name": "stdout",
     "output_type": "stream",
     "text": "] |  91% (500) | 18.5s"
    },
    {
     "name": "stdout",
     "output_type": "stream",
     "text": "\raudio_metadata: ["
    },
    {
     "name": "stdout",
     "output_type": "stream",
     "text": "#############################################################################   "
    },
    {
     "name": "stdout",
     "output_type": "stream",
     "text": "] |  97% (500) | 18.7s"
    },
    {
     "name": "stdout",
     "output_type": "stream",
     "text": "\raudio_metadata: ["
    },
    {
     "name": "stdout",
     "output_type": "stream",
     "text": "################################################################################"
    },
    {
     "name": "stdout",
     "output_type": "stream",
     "text": "] | 100% (500) | 18.8s"
    },
    {
     "name": "stdout",
     "output_type": "stream",
     "text": "\n"
    },
    {
     "name": "stdout",
     "output_type": "stream",
     "text": "\rf_preds: ["
    },
    {
     "name": "stdout",
     "output_type": "stream",
     "text": "                                                                                       "
    },
    {
     "name": "stdout",
     "output_type": "stream",
     "text": "] |   0% (500) |  0.0s"
    },
    {
     "name": "stdout",
     "output_type": "stream",
     "text": "\rf_preds: ["
    },
    {
     "name": "stdout",
     "output_type": "stream",
     "text": "                                                                                       "
    },
    {
     "name": "stdout",
     "output_type": "stream",
     "text": "] |   0% (500) |  0.1s"
    },
    {
     "name": "stdout",
     "output_type": "stream",
     "text": "\rf_preds: ["
    },
    {
     "name": "stdout",
     "output_type": "stream",
     "text": "                                                                                       "
    },
    {
     "name": "stdout",
     "output_type": "stream",
     "text": "] |   0% (500) |  0.2s"
    },
    {
     "name": "stdout",
     "output_type": "stream",
     "text": "\rf_preds: ["
    },
    {
     "name": "stdout",
     "output_type": "stream",
     "text": "#######################################################################################"
    },
    {
     "name": "stdout",
     "output_type": "stream",
     "text": "] | 100% (500) |  0.3s"
    },
    {
     "name": "stdout",
     "output_type": "stream",
     "text": "\n"
    },
    {
     "name": "stderr",
     "output_type": "stream",
     "text": "\rrec_spectro_bytes:   0%|                                                                       | 0/500 [00:00<?, ?it/s]"
    },
    {
     "name": "stderr",
     "output_type": "stream",
     "text": "\rrec_spectro_bytes:   7%|████                                                         | 33/500 [00:00<00:01, 326.72it/s]"
    },
    {
     "name": "stderr",
     "output_type": "stream",
     "text": "\rrec_spectro_bytes:  14%|████████▎                                                    | 68/500 [00:00<00:01, 337.59it/s]"
    },
    {
     "name": "stderr",
     "output_type": "stream",
     "text": "\rrec_spectro_bytes:  20%|████████████                                                | 101/500 [00:00<00:01, 334.99it/s]"
    },
    {
     "name": "stderr",
     "output_type": "stream",
     "text": "\rrec_spectro_bytes:  27%|████████████████▎                                           | 136/500 [00:00<00:01, 336.63it/s]"
    },
    {
     "name": "stderr",
     "output_type": "stream",
     "text": "\rrec_spectro_bytes:  34%|████████████████████▋                                       | 172/500 [00:00<00:00, 340.57it/s]"
    },
    {
     "name": "stderr",
     "output_type": "stream",
     "text": "\rrec_spectro_bytes:  41%|████████████████████████▋                                   | 206/500 [00:00<00:00, 339.25it/s]"
    },
    {
     "name": "stderr",
     "output_type": "stream",
     "text": "\rrec_spectro_bytes:  48%|████████████████████████████▊                               | 240/500 [00:00<00:00, 339.10it/s]"
    },
    {
     "name": "stderr",
     "output_type": "stream",
     "text": "\rrec_spectro_bytes:  55%|████████████████████████████████▉                           | 274/500 [00:00<00:00, 338.43it/s]"
    },
    {
     "name": "stderr",
     "output_type": "stream",
     "text": "\rrec_spectro_bytes:  62%|█████████████████████████████████████▎                      | 311/500 [00:00<00:00, 341.32it/s]"
    },
    {
     "name": "stderr",
     "output_type": "stream",
     "text": "\rrec_spectro_bytes:  69%|█████████████████████████████████████████▌                  | 346/500 [00:01<00:00, 341.64it/s]"
    },
    {
     "name": "stderr",
     "output_type": "stream",
     "text": "\rrec_spectro_bytes:  77%|██████████████████████████████████████████████▏             | 385/500 [00:01<00:00, 345.88it/s]"
    },
    {
     "name": "stderr",
     "output_type": "stream",
     "text": "\rrec_spectro_bytes:  84%|██████████████████████████████████████████████████▌         | 421/500 [00:01<00:00, 344.27it/s]"
    },
    {
     "name": "stderr",
     "output_type": "stream",
     "text": "\rrec_spectro_bytes:  91%|██████████████████████████████████████████████████████▋     | 456/500 [00:01<00:00, 342.92it/s]"
    },
    {
     "name": "stderr",
     "output_type": "stream",
     "text": "\rrec_spectro_bytes:  99%|███████████████████████████████████████████████████████████▏| 493/500 [00:01<00:00, 344.26it/s]"
    },
    {
     "name": "stderr",
     "output_type": "stream",
     "text": "\rrec_spectro_bytes: 100%|████████████████████████████████████████████████████████████| 500/500 [00:01<00:00, 343.37it/s]"
    },
    {
     "name": "stderr",
     "output_type": "stream",
     "text": "\n"
    },
    {
     "name": "stdout",
     "output_type": "stream",
     "text": "INFO     [12:54:47.601] [38842] 925 api.recs/recs_featurize_spectro_bytes: [1.465s]"
    },
    {
     "name": "stdout",
     "output_type": "stream",
     "text": "\n"
    },
    {
     "name": "stdout",
     "output_type": "stream",
     "text": "\raudio_bytes: ["
    },
    {
     "name": "stdout",
     "output_type": "stream",
     "text": "                                                                                   "
    },
    {
     "name": "stdout",
     "output_type": "stream",
     "text": "] |   0% (500) |  0.0s"
    },
    {
     "name": "stdout",
     "output_type": "stream",
     "text": "\raudio_bytes: ["
    },
    {
     "name": "stdout",
     "output_type": "stream",
     "text": "###################################################################################"
    },
    {
     "name": "stdout",
     "output_type": "stream",
     "text": "] | 100% (500) |  0.1s"
    },
    {
     "name": "stdout",
     "output_type": "stream",
     "text": "\n"
    },
    {
     "name": "stdout",
     "output_type": "stream",
     "text": "INFO     [12:54:47.740] [38842] 999 api.recs/recs_featurize_audio_bytes: [0.126s]"
    },
    {
     "name": "stdout",
     "output_type": "stream",
     "text": "\n"
    },
    {
     "name": "stdout",
     "output_type": "stream",
     "text": "INFO     [12:54:47.750] [38842] 687 api.recs/recs_featurize_pre_rank: batches (4/7) [21.156s]"
    },
    {
     "name": "stdout",
     "output_type": "stream",
     "text": "\n"
    },
    {
     "name": "stdout",
     "output_type": "stream",
     "text": "\raudio_metadata: ["
    },
    {
     "name": "stdout",
     "output_type": "stream",
     "text": "                                                                                "
    },
    {
     "name": "stdout",
     "output_type": "stream",
     "text": "] |   0% (500) |  0.0s"
    },
    {
     "name": "stdout",
     "output_type": "stream",
     "text": "\raudio_metadata: ["
    },
    {
     "name": "stdout",
     "output_type": "stream",
     "text": "                                                                                "
    },
    {
     "name": "stdout",
     "output_type": "stream",
     "text": "] |   0% (500) |  0.1s"
    },
    {
     "name": "stdout",
     "output_type": "stream",
     "text": "\raudio_metadata: ["
    },
    {
     "name": "stdout",
     "output_type": "stream",
     "text": "                                                                                "
    },
    {
     "name": "stdout",
     "output_type": "stream",
     "text": "] |   0% (500) |  0.3s"
    },
    {
     "name": "stdout",
     "output_type": "stream",
     "text": "\raudio_metadata: ["
    },
    {
     "name": "stdout",
     "output_type": "stream",
     "text": "                                                                                "
    },
    {
     "name": "stdout",
     "output_type": "stream",
     "text": "] |   0% (500) |  0.5s"
    },
    {
     "name": "stdout",
     "output_type": "stream",
     "text": "\raudio_metadata: ["
    },
    {
     "name": "stdout",
     "output_type": "stream",
     "text": "                                                                                "
    },
    {
     "name": "stdout",
     "output_type": "stream",
     "text": "] |   0% (500) |  0.7s"
    },
    {
     "name": "stdout",
     "output_type": "stream",
     "text": "\raudio_metadata: ["
    },
    {
     "name": "stdout",
     "output_type": "stream",
     "text": "                                                                                "
    },
    {
     "name": "stdout",
     "output_type": "stream",
     "text": "] |   0% (500) |  0.9s"
    },
    {
     "name": "stdout",
     "output_type": "stream",
     "text": "\raudio_metadata: ["
    },
    {
     "name": "stdout",
     "output_type": "stream",
     "text": "                                                                                "
    },
    {
     "name": "stdout",
     "output_type": "stream",
     "text": "] |   0% (500) |  1.1s"
    },
    {
     "name": "stdout",
     "output_type": "stream",
     "text": "\raudio_metadata: ["
    },
    {
     "name": "stdout",
     "output_type": "stream",
     "text": "                                                                                "
    },
    {
     "name": "stdout",
     "output_type": "stream",
     "text": "] |   0% (500) |  1.3s"
    },
    {
     "name": "stdout",
     "output_type": "stream",
     "text": "\raudio_metadata: ["
    },
    {
     "name": "stdout",
     "output_type": "stream",
     "text": "                                                                                "
    },
    {
     "name": "stdout",
     "output_type": "stream",
     "text": "] |   0% (500) |  1.5s"
    },
    {
     "name": "stdout",
     "output_type": "stream",
     "text": "\raudio_metadata: ["
    },
    {
     "name": "stdout",
     "output_type": "stream",
     "text": "                                                                                "
    },
    {
     "name": "stdout",
     "output_type": "stream",
     "text": "] |   0% (500) |  1.7s"
    },
    {
     "name": "stdout",
     "output_type": "stream",
     "text": "\raudio_metadata: ["
    },
    {
     "name": "stdout",
     "output_type": "stream",
     "text": "                                                                                "
    },
    {
     "name": "stdout",
     "output_type": "stream",
     "text": "] |   0% (500) |  1.9s"
    },
    {
     "name": "stdout",
     "output_type": "stream",
     "text": "\raudio_metadata: ["
    },
    {
     "name": "stdout",
     "output_type": "stream",
     "text": "                                                                                "
    },
    {
     "name": "stdout",
     "output_type": "stream",
     "text": "] |   0% (500) |  2.0s"
    },
    {
     "name": "stdout",
     "output_type": "stream",
     "text": "\raudio_metadata: ["
    },
    {
     "name": "stdout",
     "output_type": "stream",
     "text": "                                                                                "
    },
    {
     "name": "stdout",
     "output_type": "stream",
     "text": "] |   0% (500) |  2.2s"
    },
    {
     "name": "stdout",
     "output_type": "stream",
     "text": "\raudio_metadata: ["
    },
    {
     "name": "stdout",
     "output_type": "stream",
     "text": "                                                                                "
    },
    {
     "name": "stdout",
     "output_type": "stream",
     "text": "] |   0% (500) |  2.3s"
    },
    {
     "name": "stdout",
     "output_type": "stream",
     "text": "\raudio_metadata: ["
    },
    {
     "name": "stdout",
     "output_type": "stream",
     "text": "                                                                                "
    },
    {
     "name": "stdout",
     "output_type": "stream",
     "text": "] |   0% (500) |  2.5s"
    },
    {
     "name": "stdout",
     "output_type": "stream",
     "text": "\raudio_metadata: ["
    },
    {
     "name": "stdout",
     "output_type": "stream",
     "text": "                                                                                "
    },
    {
     "name": "stdout",
     "output_type": "stream",
     "text": "] |   0% (500) |  2.6s"
    },
    {
     "name": "stdout",
     "output_type": "stream",
     "text": "\raudio_metadata: ["
    },
    {
     "name": "stdout",
     "output_type": "stream",
     "text": "                                                                                "
    },
    {
     "name": "stdout",
     "output_type": "stream",
     "text": "] |   0% (500) |  2.8s"
    },
    {
     "name": "stdout",
     "output_type": "stream",
     "text": "\raudio_metadata: ["
    },
    {
     "name": "stdout",
     "output_type": "stream",
     "text": "                                                                                "
    },
    {
     "name": "stdout",
     "output_type": "stream",
     "text": "] |   0% (500) |  3.0s"
    },
    {
     "name": "stdout",
     "output_type": "stream",
     "text": "\raudio_metadata: ["
    },
    {
     "name": "stdout",
     "output_type": "stream",
     "text": "                                                                                "
    },
    {
     "name": "stdout",
     "output_type": "stream",
     "text": "] |   0% (500) |  3.1s"
    },
    {
     "name": "stdout",
     "output_type": "stream",
     "text": "\raudio_metadata: ["
    },
    {
     "name": "stdout",
     "output_type": "stream",
     "text": "                                                                                "
    },
    {
     "name": "stdout",
     "output_type": "stream",
     "text": "] |   0% (500) |  3.3s"
    },
    {
     "name": "stdout",
     "output_type": "stream",
     "text": "\raudio_metadata: ["
    },
    {
     "name": "stdout",
     "output_type": "stream",
     "text": "#                                                                               "
    },
    {
     "name": "stdout",
     "output_type": "stream",
     "text": "] |   1% (500) |  3.5s"
    },
    {
     "name": "stdout",
     "output_type": "stream",
     "text": "\raudio_metadata: ["
    },
    {
     "name": "stdout",
     "output_type": "stream",
     "text": "#####                                                                           "
    },
    {
     "name": "stdout",
     "output_type": "stream",
     "text": "] |   6% (500) |  3.7s"
    },
    {
     "name": "stdout",
     "output_type": "stream",
     "text": "\raudio_metadata: ["
    },
    {
     "name": "stdout",
     "output_type": "stream",
     "text": "##############                                                                  "
    },
    {
     "name": "stdout",
     "output_type": "stream",
     "text": "] |  17% (500) |  3.8s"
    },
    {
     "name": "stdout",
     "output_type": "stream",
     "text": "\raudio_metadata: ["
    },
    {
     "name": "stdout",
     "output_type": "stream",
     "text": "################                                                                "
    },
    {
     "name": "stdout",
     "output_type": "stream",
     "text": "] |  20% (500) |  4.0s"
    },
    {
     "name": "stdout",
     "output_type": "stream",
     "text": "\raudio_metadata: ["
    },
    {
     "name": "stdout",
     "output_type": "stream",
     "text": "################                                                                "
    },
    {
     "name": "stdout",
     "output_type": "stream",
     "text": "] |  20% (500) |  4.2s"
    },
    {
     "name": "stdout",
     "output_type": "stream",
     "text": "\raudio_metadata: ["
    },
    {
     "name": "stdout",
     "output_type": "stream",
     "text": "################                                                                "
    },
    {
     "name": "stdout",
     "output_type": "stream",
     "text": "] |  20% (500) |  4.4s"
    },
    {
     "name": "stdout",
     "output_type": "stream",
     "text": "\raudio_metadata: ["
    },
    {
     "name": "stdout",
     "output_type": "stream",
     "text": "################                                                                "
    },
    {
     "name": "stdout",
     "output_type": "stream",
     "text": "] |  20% (500) |  4.6s"
    },
    {
     "name": "stdout",
     "output_type": "stream",
     "text": "\raudio_metadata: ["
    },
    {
     "name": "stdout",
     "output_type": "stream",
     "text": "################                                                                "
    },
    {
     "name": "stdout",
     "output_type": "stream",
     "text": "] |  20% (500) |  4.7s"
    },
    {
     "name": "stdout",
     "output_type": "stream",
     "text": "\raudio_metadata: ["
    },
    {
     "name": "stdout",
     "output_type": "stream",
     "text": "################                                                                "
    },
    {
     "name": "stdout",
     "output_type": "stream",
     "text": "] |  20% (500) |  4.9s"
    },
    {
     "name": "stdout",
     "output_type": "stream",
     "text": "\raudio_metadata: ["
    },
    {
     "name": "stdout",
     "output_type": "stream",
     "text": "################                                                                "
    },
    {
     "name": "stdout",
     "output_type": "stream",
     "text": "] |  20% (500) |  5.1s"
    },
    {
     "name": "stdout",
     "output_type": "stream",
     "text": "\raudio_metadata: ["
    },
    {
     "name": "stdout",
     "output_type": "stream",
     "text": "################                                                                "
    },
    {
     "name": "stdout",
     "output_type": "stream",
     "text": "] |  20% (500) |  5.3s"
    },
    {
     "name": "stdout",
     "output_type": "stream",
     "text": "\raudio_metadata: ["
    },
    {
     "name": "stdout",
     "output_type": "stream",
     "text": "################                                                                "
    },
    {
     "name": "stdout",
     "output_type": "stream",
     "text": "] |  20% (500) |  5.5s"
    },
    {
     "name": "stdout",
     "output_type": "stream",
     "text": "\raudio_metadata: ["
    },
    {
     "name": "stdout",
     "output_type": "stream",
     "text": "################                                                                "
    },
    {
     "name": "stdout",
     "output_type": "stream",
     "text": "] |  20% (500) |  5.7s"
    },
    {
     "name": "stdout",
     "output_type": "stream",
     "text": "\raudio_metadata: ["
    },
    {
     "name": "stdout",
     "output_type": "stream",
     "text": "################                                                                "
    },
    {
     "name": "stdout",
     "output_type": "stream",
     "text": "] |  20% (500) |  5.9s"
    },
    {
     "name": "stdout",
     "output_type": "stream",
     "text": "\raudio_metadata: ["
    },
    {
     "name": "stdout",
     "output_type": "stream",
     "text": "################                                                                "
    },
    {
     "name": "stdout",
     "output_type": "stream",
     "text": "] |  20% (500) |  6.1s"
    },
    {
     "name": "stdout",
     "output_type": "stream",
     "text": "\raudio_metadata: ["
    },
    {
     "name": "stdout",
     "output_type": "stream",
     "text": "################                                                                "
    },
    {
     "name": "stdout",
     "output_type": "stream",
     "text": "] |  20% (500) |  6.3s"
    },
    {
     "name": "stdout",
     "output_type": "stream",
     "text": "\raudio_metadata: ["
    },
    {
     "name": "stdout",
     "output_type": "stream",
     "text": "################                                                                "
    },
    {
     "name": "stdout",
     "output_type": "stream",
     "text": "] |  20% (500) |  6.4s"
    },
    {
     "name": "stdout",
     "output_type": "stream",
     "text": "\raudio_metadata: ["
    },
    {
     "name": "stdout",
     "output_type": "stream",
     "text": "################                                                                "
    },
    {
     "name": "stdout",
     "output_type": "stream",
     "text": "] |  20% (500) |  6.6s"
    },
    {
     "name": "stdout",
     "output_type": "stream",
     "text": "\raudio_metadata: ["
    },
    {
     "name": "stdout",
     "output_type": "stream",
     "text": "################                                                                "
    },
    {
     "name": "stdout",
     "output_type": "stream",
     "text": "] |  20% (500) |  6.8s"
    },
    {
     "name": "stdout",
     "output_type": "stream",
     "text": "\raudio_metadata: ["
    },
    {
     "name": "stdout",
     "output_type": "stream",
     "text": "################                                                                "
    },
    {
     "name": "stdout",
     "output_type": "stream",
     "text": "] |  20% (500) |  7.0s"
    },
    {
     "name": "stdout",
     "output_type": "stream",
     "text": "\raudio_metadata: ["
    },
    {
     "name": "stdout",
     "output_type": "stream",
     "text": "################                                                                "
    },
    {
     "name": "stdout",
     "output_type": "stream",
     "text": "] |  20% (500) |  7.1s"
    },
    {
     "name": "stdout",
     "output_type": "stream",
     "text": "\raudio_metadata: ["
    },
    {
     "name": "stdout",
     "output_type": "stream",
     "text": "################                                                                "
    },
    {
     "name": "stdout",
     "output_type": "stream",
     "text": "] |  20% (500) |  7.3s"
    },
    {
     "name": "stdout",
     "output_type": "stream",
     "text": "\raudio_metadata: ["
    },
    {
     "name": "stdout",
     "output_type": "stream",
     "text": "################                                                                "
    },
    {
     "name": "stdout",
     "output_type": "stream",
     "text": "] |  20% (500) |  7.4s"
    },
    {
     "name": "stdout",
     "output_type": "stream",
     "text": "\raudio_metadata: ["
    },
    {
     "name": "stdout",
     "output_type": "stream",
     "text": "##################                                                              "
    },
    {
     "name": "stdout",
     "output_type": "stream",
     "text": "] |  23% (500) |  7.6s"
    },
    {
     "name": "stdout",
     "output_type": "stream",
     "text": "\raudio_metadata: ["
    },
    {
     "name": "stdout",
     "output_type": "stream",
     "text": "#######################                                                         "
    },
    {
     "name": "stdout",
     "output_type": "stream",
     "text": "] |  29% (500) |  7.8s"
    },
    {
     "name": "stdout",
     "output_type": "stream",
     "text": "\raudio_metadata: ["
    },
    {
     "name": "stdout",
     "output_type": "stream",
     "text": "################################                                                "
    },
    {
     "name": "stdout",
     "output_type": "stream",
     "text": "] |  41% (500) |  8.0s"
    },
    {
     "name": "stdout",
     "output_type": "stream",
     "text": "\raudio_metadata: ["
    },
    {
     "name": "stdout",
     "output_type": "stream",
     "text": "################################                                                "
    },
    {
     "name": "stdout",
     "output_type": "stream",
     "text": "] |  41% (500) |  8.2s"
    },
    {
     "name": "stdout",
     "output_type": "stream",
     "text": "\raudio_metadata: ["
    },
    {
     "name": "stdout",
     "output_type": "stream",
     "text": "################################                                                "
    },
    {
     "name": "stdout",
     "output_type": "stream",
     "text": "] |  41% (500) |  8.3s"
    },
    {
     "name": "stdout",
     "output_type": "stream",
     "text": "\raudio_metadata: ["
    },
    {
     "name": "stdout",
     "output_type": "stream",
     "text": "################################                                                "
    },
    {
     "name": "stdout",
     "output_type": "stream",
     "text": "] |  41% (500) |  8.5s"
    },
    {
     "name": "stdout",
     "output_type": "stream",
     "text": "\raudio_metadata: ["
    },
    {
     "name": "stdout",
     "output_type": "stream",
     "text": "################################                                                "
    },
    {
     "name": "stdout",
     "output_type": "stream",
     "text": "] |  41% (500) |  8.7s"
    },
    {
     "name": "stdout",
     "output_type": "stream",
     "text": "\raudio_metadata: ["
    },
    {
     "name": "stdout",
     "output_type": "stream",
     "text": "################################                                                "
    },
    {
     "name": "stdout",
     "output_type": "stream",
     "text": "] |  41% (500) |  8.9s"
    },
    {
     "name": "stdout",
     "output_type": "stream",
     "text": "\raudio_metadata: ["
    },
    {
     "name": "stdout",
     "output_type": "stream",
     "text": "################################                                                "
    },
    {
     "name": "stdout",
     "output_type": "stream",
     "text": "] |  41% (500) |  9.1s"
    },
    {
     "name": "stdout",
     "output_type": "stream",
     "text": "\raudio_metadata: ["
    },
    {
     "name": "stdout",
     "output_type": "stream",
     "text": "################################                                                "
    },
    {
     "name": "stdout",
     "output_type": "stream",
     "text": "] |  41% (500) |  9.3s"
    },
    {
     "name": "stdout",
     "output_type": "stream",
     "text": "\raudio_metadata: ["
    },
    {
     "name": "stdout",
     "output_type": "stream",
     "text": "################################                                                "
    },
    {
     "name": "stdout",
     "output_type": "stream",
     "text": "] |  41% (500) |  9.5s"
    },
    {
     "name": "stdout",
     "output_type": "stream",
     "text": "\raudio_metadata: ["
    },
    {
     "name": "stdout",
     "output_type": "stream",
     "text": "################################                                                "
    },
    {
     "name": "stdout",
     "output_type": "stream",
     "text": "] |  41% (500) |  9.7s"
    },
    {
     "name": "stdout",
     "output_type": "stream",
     "text": "\raudio_metadata: ["
    },
    {
     "name": "stdout",
     "output_type": "stream",
     "text": "################################                                                "
    },
    {
     "name": "stdout",
     "output_type": "stream",
     "text": "] |  41% (500) |  9.9s"
    },
    {
     "name": "stdout",
     "output_type": "stream",
     "text": "\raudio_metadata: ["
    },
    {
     "name": "stdout",
     "output_type": "stream",
     "text": "################################                                                "
    },
    {
     "name": "stdout",
     "output_type": "stream",
     "text": "] |  41% (500) | 10.2s"
    },
    {
     "name": "stdout",
     "output_type": "stream",
     "text": "\raudio_metadata: ["
    },
    {
     "name": "stdout",
     "output_type": "stream",
     "text": "################################                                                "
    },
    {
     "name": "stdout",
     "output_type": "stream",
     "text": "] |  41% (500) | 10.3s"
    },
    {
     "name": "stdout",
     "output_type": "stream",
     "text": "\raudio_metadata: ["
    },
    {
     "name": "stdout",
     "output_type": "stream",
     "text": "################################                                                "
    },
    {
     "name": "stdout",
     "output_type": "stream",
     "text": "] |  41% (500) | 10.5s"
    },
    {
     "name": "stdout",
     "output_type": "stream",
     "text": "\raudio_metadata: ["
    },
    {
     "name": "stdout",
     "output_type": "stream",
     "text": "################################                                                "
    },
    {
     "name": "stdout",
     "output_type": "stream",
     "text": "] |  41% (500) | 10.6s"
    },
    {
     "name": "stdout",
     "output_type": "stream",
     "text": "\raudio_metadata: ["
    },
    {
     "name": "stdout",
     "output_type": "stream",
     "text": "################################                                                "
    },
    {
     "name": "stdout",
     "output_type": "stream",
     "text": "] |  41% (500) | 10.8s"
    },
    {
     "name": "stdout",
     "output_type": "stream",
     "text": "\raudio_metadata: ["
    },
    {
     "name": "stdout",
     "output_type": "stream",
     "text": "################################                                                "
    },
    {
     "name": "stdout",
     "output_type": "stream",
     "text": "] |  41% (500) | 10.9s"
    },
    {
     "name": "stdout",
     "output_type": "stream",
     "text": "\raudio_metadata: ["
    },
    {
     "name": "stdout",
     "output_type": "stream",
     "text": "################################                                                "
    },
    {
     "name": "stdout",
     "output_type": "stream",
     "text": "] |  41% (500) | 11.1s"
    },
    {
     "name": "stdout",
     "output_type": "stream",
     "text": "\raudio_metadata: ["
    },
    {
     "name": "stdout",
     "output_type": "stream",
     "text": "################################                                                "
    },
    {
     "name": "stdout",
     "output_type": "stream",
     "text": "] |  41% (500) | 11.3s"
    },
    {
     "name": "stdout",
     "output_type": "stream",
     "text": "\raudio_metadata: ["
    },
    {
     "name": "stdout",
     "output_type": "stream",
     "text": "################################                                                "
    },
    {
     "name": "stdout",
     "output_type": "stream",
     "text": "] |  41% (500) | 11.5s"
    },
    {
     "name": "stdout",
     "output_type": "stream",
     "text": "\raudio_metadata: ["
    },
    {
     "name": "stdout",
     "output_type": "stream",
     "text": "#################################                                               "
    },
    {
     "name": "stdout",
     "output_type": "stream",
     "text": "] |  42% (500) | 11.7s"
    },
    {
     "name": "stdout",
     "output_type": "stream",
     "text": "\raudio_metadata: ["
    },
    {
     "name": "stdout",
     "output_type": "stream",
     "text": "####################################                                            "
    },
    {
     "name": "stdout",
     "output_type": "stream",
     "text": "] |  46% (500) | 11.9s"
    },
    {
     "name": "stdout",
     "output_type": "stream",
     "text": "\raudio_metadata: ["
    },
    {
     "name": "stdout",
     "output_type": "stream",
     "text": "###########################################                                     "
    },
    {
     "name": "stdout",
     "output_type": "stream",
     "text": "] |  53% (500) | 12.1s"
    },
    {
     "name": "stdout",
     "output_type": "stream",
     "text": "\raudio_metadata: ["
    },
    {
     "name": "stdout",
     "output_type": "stream",
     "text": "##############################################                                  "
    },
    {
     "name": "stdout",
     "output_type": "stream",
     "text": "] |  57% (500) | 12.2s"
    },
    {
     "name": "stdout",
     "output_type": "stream",
     "text": "\raudio_metadata: ["
    },
    {
     "name": "stdout",
     "output_type": "stream",
     "text": "#################################################                               "
    },
    {
     "name": "stdout",
     "output_type": "stream",
     "text": "] |  61% (500) | 12.4s"
    },
    {
     "name": "stdout",
     "output_type": "stream",
     "text": "\raudio_metadata: ["
    },
    {
     "name": "stdout",
     "output_type": "stream",
     "text": "#################################################                               "
    },
    {
     "name": "stdout",
     "output_type": "stream",
     "text": "] |  61% (500) | 12.5s"
    },
    {
     "name": "stdout",
     "output_type": "stream",
     "text": "\raudio_metadata: ["
    },
    {
     "name": "stdout",
     "output_type": "stream",
     "text": "#################################################                               "
    },
    {
     "name": "stdout",
     "output_type": "stream",
     "text": "] |  61% (500) | 12.7s"
    },
    {
     "name": "stdout",
     "output_type": "stream",
     "text": "\raudio_metadata: ["
    },
    {
     "name": "stdout",
     "output_type": "stream",
     "text": "#################################################                               "
    },
    {
     "name": "stdout",
     "output_type": "stream",
     "text": "] |  61% (500) | 12.8s"
    },
    {
     "name": "stdout",
     "output_type": "stream",
     "text": "\raudio_metadata: ["
    },
    {
     "name": "stdout",
     "output_type": "stream",
     "text": "#################################################                               "
    },
    {
     "name": "stdout",
     "output_type": "stream",
     "text": "] |  61% (500) | 13.0s"
    },
    {
     "name": "stdout",
     "output_type": "stream",
     "text": "\raudio_metadata: ["
    },
    {
     "name": "stdout",
     "output_type": "stream",
     "text": "#################################################                               "
    },
    {
     "name": "stdout",
     "output_type": "stream",
     "text": "] |  61% (500) | 13.2s"
    },
    {
     "name": "stdout",
     "output_type": "stream",
     "text": "\raudio_metadata: ["
    },
    {
     "name": "stdout",
     "output_type": "stream",
     "text": "#################################################                               "
    },
    {
     "name": "stdout",
     "output_type": "stream",
     "text": "] |  61% (500) | 13.4s"
    },
    {
     "name": "stdout",
     "output_type": "stream",
     "text": "\raudio_metadata: ["
    },
    {
     "name": "stdout",
     "output_type": "stream",
     "text": "#################################################                               "
    },
    {
     "name": "stdout",
     "output_type": "stream",
     "text": "] |  61% (500) | 13.6s"
    },
    {
     "name": "stdout",
     "output_type": "stream",
     "text": "\raudio_metadata: ["
    },
    {
     "name": "stdout",
     "output_type": "stream",
     "text": "#################################################                               "
    },
    {
     "name": "stdout",
     "output_type": "stream",
     "text": "] |  61% (500) | 13.8s"
    },
    {
     "name": "stdout",
     "output_type": "stream",
     "text": "\raudio_metadata: ["
    },
    {
     "name": "stdout",
     "output_type": "stream",
     "text": "#################################################                               "
    },
    {
     "name": "stdout",
     "output_type": "stream",
     "text": "] |  61% (500) | 14.0s"
    },
    {
     "name": "stdout",
     "output_type": "stream",
     "text": "\raudio_metadata: ["
    },
    {
     "name": "stdout",
     "output_type": "stream",
     "text": "#################################################                               "
    },
    {
     "name": "stdout",
     "output_type": "stream",
     "text": "] |  61% (500) | 14.2s"
    },
    {
     "name": "stdout",
     "output_type": "stream",
     "text": "\raudio_metadata: ["
    },
    {
     "name": "stdout",
     "output_type": "stream",
     "text": "#################################################                               "
    },
    {
     "name": "stdout",
     "output_type": "stream",
     "text": "] |  61% (500) | 14.4s"
    },
    {
     "name": "stdout",
     "output_type": "stream",
     "text": "\raudio_metadata: ["
    },
    {
     "name": "stdout",
     "output_type": "stream",
     "text": "#################################################                               "
    },
    {
     "name": "stdout",
     "output_type": "stream",
     "text": "] |  61% (500) | 14.6s"
    },
    {
     "name": "stdout",
     "output_type": "stream",
     "text": "\raudio_metadata: ["
    },
    {
     "name": "stdout",
     "output_type": "stream",
     "text": "#################################################                               "
    },
    {
     "name": "stdout",
     "output_type": "stream",
     "text": "] |  61% (500) | 14.8s"
    },
    {
     "name": "stdout",
     "output_type": "stream",
     "text": "\raudio_metadata: ["
    },
    {
     "name": "stdout",
     "output_type": "stream",
     "text": "#################################################                               "
    },
    {
     "name": "stdout",
     "output_type": "stream",
     "text": "] |  61% (500) | 15.0s"
    },
    {
     "name": "stdout",
     "output_type": "stream",
     "text": "\raudio_metadata: ["
    },
    {
     "name": "stdout",
     "output_type": "stream",
     "text": "#################################################                               "
    },
    {
     "name": "stdout",
     "output_type": "stream",
     "text": "] |  61% (500) | 15.2s"
    },
    {
     "name": "stdout",
     "output_type": "stream",
     "text": "\raudio_metadata: ["
    },
    {
     "name": "stdout",
     "output_type": "stream",
     "text": "#################################################                               "
    },
    {
     "name": "stdout",
     "output_type": "stream",
     "text": "] |  61% (500) | 15.4s"
    },
    {
     "name": "stdout",
     "output_type": "stream",
     "text": "\raudio_metadata: ["
    },
    {
     "name": "stdout",
     "output_type": "stream",
     "text": "#################################################                               "
    },
    {
     "name": "stdout",
     "output_type": "stream",
     "text": "] |  61% (500) | 15.6s"
    },
    {
     "name": "stdout",
     "output_type": "stream",
     "text": "\raudio_metadata: ["
    },
    {
     "name": "stdout",
     "output_type": "stream",
     "text": "#################################################                               "
    },
    {
     "name": "stdout",
     "output_type": "stream",
     "text": "] |  61% (500) | 15.9s"
    },
    {
     "name": "stdout",
     "output_type": "stream",
     "text": "\raudio_metadata: ["
    },
    {
     "name": "stdout",
     "output_type": "stream",
     "text": "#################################################                               "
    },
    {
     "name": "stdout",
     "output_type": "stream",
     "text": "] |  61% (500) | 16.1s"
    },
    {
     "name": "stdout",
     "output_type": "stream",
     "text": "\raudio_metadata: ["
    },
    {
     "name": "stdout",
     "output_type": "stream",
     "text": "#################################################                               "
    },
    {
     "name": "stdout",
     "output_type": "stream",
     "text": "] |  61% (500) | 16.3s"
    },
    {
     "name": "stdout",
     "output_type": "stream",
     "text": "\raudio_metadata: ["
    },
    {
     "name": "stdout",
     "output_type": "stream",
     "text": "#####################################################                           "
    },
    {
     "name": "stdout",
     "output_type": "stream",
     "text": "] |  66% (500) | 16.4s"
    },
    {
     "name": "stdout",
     "output_type": "stream",
     "text": "\raudio_metadata: ["
    },
    {
     "name": "stdout",
     "output_type": "stream",
     "text": "###########################################################                     "
    },
    {
     "name": "stdout",
     "output_type": "stream",
     "text": "] |  74% (500) | 16.7s"
    },
    {
     "name": "stdout",
     "output_type": "stream",
     "text": "\raudio_metadata: ["
    },
    {
     "name": "stdout",
     "output_type": "stream",
     "text": "#############################################################                   "
    },
    {
     "name": "stdout",
     "output_type": "stream",
     "text": "] |  76% (500) | 16.8s"
    },
    {
     "name": "stdout",
     "output_type": "stream",
     "text": "\raudio_metadata: ["
    },
    {
     "name": "stdout",
     "output_type": "stream",
     "text": "#################################################################               "
    },
    {
     "name": "stdout",
     "output_type": "stream",
     "text": "] |  82% (500) | 17.0s"
    },
    {
     "name": "stdout",
     "output_type": "stream",
     "text": "\raudio_metadata: ["
    },
    {
     "name": "stdout",
     "output_type": "stream",
     "text": "#################################################################               "
    },
    {
     "name": "stdout",
     "output_type": "stream",
     "text": "] |  82% (500) | 17.2s"
    },
    {
     "name": "stdout",
     "output_type": "stream",
     "text": "\raudio_metadata: ["
    },
    {
     "name": "stdout",
     "output_type": "stream",
     "text": "#################################################################               "
    },
    {
     "name": "stdout",
     "output_type": "stream",
     "text": "] |  82% (500) | 17.3s"
    },
    {
     "name": "stdout",
     "output_type": "stream",
     "text": "\raudio_metadata: ["
    },
    {
     "name": "stdout",
     "output_type": "stream",
     "text": "#################################################################               "
    },
    {
     "name": "stdout",
     "output_type": "stream",
     "text": "] |  82% (500) | 17.5s"
    },
    {
     "name": "stdout",
     "output_type": "stream",
     "text": "\raudio_metadata: ["
    },
    {
     "name": "stdout",
     "output_type": "stream",
     "text": "#################################################################               "
    },
    {
     "name": "stdout",
     "output_type": "stream",
     "text": "] |  82% (500) | 17.7s"
    },
    {
     "name": "stdout",
     "output_type": "stream",
     "text": "\raudio_metadata: ["
    },
    {
     "name": "stdout",
     "output_type": "stream",
     "text": "#################################################################               "
    },
    {
     "name": "stdout",
     "output_type": "stream",
     "text": "] |  82% (500) | 17.9s"
    },
    {
     "name": "stdout",
     "output_type": "stream",
     "text": "\raudio_metadata: ["
    },
    {
     "name": "stdout",
     "output_type": "stream",
     "text": "#################################################################               "
    },
    {
     "name": "stdout",
     "output_type": "stream",
     "text": "] |  82% (500) | 18.0s"
    },
    {
     "name": "stdout",
     "output_type": "stream",
     "text": "\raudio_metadata: ["
    },
    {
     "name": "stdout",
     "output_type": "stream",
     "text": "#################################################################               "
    },
    {
     "name": "stdout",
     "output_type": "stream",
     "text": "] |  82% (500) | 18.2s"
    },
    {
     "name": "stdout",
     "output_type": "stream",
     "text": "\raudio_metadata: ["
    },
    {
     "name": "stdout",
     "output_type": "stream",
     "text": "#################################################################               "
    },
    {
     "name": "stdout",
     "output_type": "stream",
     "text": "] |  82% (500) | 18.4s"
    },
    {
     "name": "stdout",
     "output_type": "stream",
     "text": "\raudio_metadata: ["
    },
    {
     "name": "stdout",
     "output_type": "stream",
     "text": "#################################################################               "
    },
    {
     "name": "stdout",
     "output_type": "stream",
     "text": "] |  82% (500) | 18.5s"
    },
    {
     "name": "stdout",
     "output_type": "stream",
     "text": "\raudio_metadata: ["
    },
    {
     "name": "stdout",
     "output_type": "stream",
     "text": "#################################################################               "
    },
    {
     "name": "stdout",
     "output_type": "stream",
     "text": "] |  82% (500) | 18.7s"
    },
    {
     "name": "stdout",
     "output_type": "stream",
     "text": "\raudio_metadata: ["
    },
    {
     "name": "stdout",
     "output_type": "stream",
     "text": "###################################################################             "
    },
    {
     "name": "stdout",
     "output_type": "stream",
     "text": "] |  84% (500) | 18.9s"
    },
    {
     "name": "stdout",
     "output_type": "stream",
     "text": "\raudio_metadata: ["
    },
    {
     "name": "stdout",
     "output_type": "stream",
     "text": "###################################################################             "
    },
    {
     "name": "stdout",
     "output_type": "stream",
     "text": "] |  84% (500) | 19.1s"
    },
    {
     "name": "stdout",
     "output_type": "stream",
     "text": "\raudio_metadata: ["
    },
    {
     "name": "stdout",
     "output_type": "stream",
     "text": "###################################################################             "
    },
    {
     "name": "stdout",
     "output_type": "stream",
     "text": "] |  84% (500) | 19.2s"
    },
    {
     "name": "stdout",
     "output_type": "stream",
     "text": "\raudio_metadata: ["
    },
    {
     "name": "stdout",
     "output_type": "stream",
     "text": "###################################################################             "
    },
    {
     "name": "stdout",
     "output_type": "stream",
     "text": "] |  84% (500) | 19.4s"
    },
    {
     "name": "stdout",
     "output_type": "stream",
     "text": "\raudio_metadata: ["
    },
    {
     "name": "stdout",
     "output_type": "stream",
     "text": "###################################################################             "
    },
    {
     "name": "stdout",
     "output_type": "stream",
     "text": "] |  84% (500) | 19.6s"
    },
    {
     "name": "stdout",
     "output_type": "stream",
     "text": "\raudio_metadata: ["
    },
    {
     "name": "stdout",
     "output_type": "stream",
     "text": "###################################################################             "
    },
    {
     "name": "stdout",
     "output_type": "stream",
     "text": "] |  84% (500) | 19.8s"
    },
    {
     "name": "stdout",
     "output_type": "stream",
     "text": "\raudio_metadata: ["
    },
    {
     "name": "stdout",
     "output_type": "stream",
     "text": "###################################################################             "
    },
    {
     "name": "stdout",
     "output_type": "stream",
     "text": "] |  84% (500) | 19.9s"
    },
    {
     "name": "stdout",
     "output_type": "stream",
     "text": "\raudio_metadata: ["
    },
    {
     "name": "stdout",
     "output_type": "stream",
     "text": "#####################################################################           "
    },
    {
     "name": "stdout",
     "output_type": "stream",
     "text": "] |  87% (500) | 20.1s"
    },
    {
     "name": "stdout",
     "output_type": "stream",
     "text": "\raudio_metadata: ["
    },
    {
     "name": "stdout",
     "output_type": "stream",
     "text": "#########################################################################       "
    },
    {
     "name": "stdout",
     "output_type": "stream",
     "text": "] |  92% (500) | 20.3s"
    },
    {
     "name": "stdout",
     "output_type": "stream",
     "text": "\raudio_metadata: ["
    },
    {
     "name": "stdout",
     "output_type": "stream",
     "text": "################################################################################"
    },
    {
     "name": "stdout",
     "output_type": "stream",
     "text": "] | 100% (500) | 20.4s"
    },
    {
     "name": "stdout",
     "output_type": "stream",
     "text": "\n"
    },
    {
     "name": "stdout",
     "output_type": "stream",
     "text": "\rf_preds: ["
    },
    {
     "name": "stdout",
     "output_type": "stream",
     "text": "                                                                                       "
    },
    {
     "name": "stdout",
     "output_type": "stream",
     "text": "] |   0% (500) |  0.0s"
    },
    {
     "name": "stdout",
     "output_type": "stream",
     "text": "\rf_preds: ["
    },
    {
     "name": "stdout",
     "output_type": "stream",
     "text": "                                                                                       "
    },
    {
     "name": "stdout",
     "output_type": "stream",
     "text": "] |   0% (500) |  0.1s"
    },
    {
     "name": "stdout",
     "output_type": "stream",
     "text": "\rf_preds: ["
    },
    {
     "name": "stdout",
     "output_type": "stream",
     "text": "                                                                                       "
    },
    {
     "name": "stdout",
     "output_type": "stream",
     "text": "] |   0% (500) |  0.2s"
    },
    {
     "name": "stdout",
     "output_type": "stream",
     "text": "\rf_preds: ["
    },
    {
     "name": "stdout",
     "output_type": "stream",
     "text": "                                                                                       "
    },
    {
     "name": "stdout",
     "output_type": "stream",
     "text": "] |   0% (500) |  0.3s"
    },
    {
     "name": "stdout",
     "output_type": "stream",
     "text": "\rf_preds: ["
    },
    {
     "name": "stdout",
     "output_type": "stream",
     "text": "#######################################################################################"
    },
    {
     "name": "stdout",
     "output_type": "stream",
     "text": "] | 100% (500) |  0.5s"
    },
    {
     "name": "stdout",
     "output_type": "stream",
     "text": "\n"
    },
    {
     "name": "stderr",
     "output_type": "stream",
     "text": "\rrec_spectro_bytes:   0%|                                                                       | 0/500 [00:00<?, ?it/s]"
    },
    {
     "name": "stderr",
     "output_type": "stream",
     "text": "\rrec_spectro_bytes:   8%|█████                                                        | 42/500 [00:00<00:01, 415.28it/s]"
    },
    {
     "name": "stderr",
     "output_type": "stream",
     "text": "\rrec_spectro_bytes:  18%|██████████▉                                                  | 90/500 [00:00<00:00, 443.35it/s]"
    },
    {
     "name": "stderr",
     "output_type": "stream",
     "text": "\rrec_spectro_bytes:  28%|████████████████▋                                           | 139/500 [00:00<00:00, 455.87it/s]"
    },
    {
     "name": "stderr",
     "output_type": "stream",
     "text": "\rrec_spectro_bytes:  38%|██████████████████████▊                                     | 190/500 [00:00<00:00, 467.81it/s]"
    },
    {
     "name": "stderr",
     "output_type": "stream",
     "text": "\rrec_spectro_bytes:  48%|████████████████████████████▊                               | 240/500 [00:00<00:00, 473.81it/s]"
    },
    {
     "name": "stderr",
     "output_type": "stream",
     "text": "\rrec_spectro_bytes:  58%|██████████████████████████████████▊                         | 290/500 [00:00<00:00, 476.86it/s]"
    },
    {
     "name": "stderr",
     "output_type": "stream",
     "text": "\rrec_spectro_bytes:  68%|████████████████████████████████████████▊                   | 340/500 [00:00<00:00, 479.03it/s]"
    },
    {
     "name": "stderr",
     "output_type": "stream",
     "text": "\rrec_spectro_bytes:  78%|██████████████████████████████████████████████▉             | 391/500 [00:00<00:00, 482.04it/s]"
    },
    {
     "name": "stderr",
     "output_type": "stream",
     "text": "\rrec_spectro_bytes:  88%|████████████████████████████████████████████████████▊       | 440/500 [00:00<00:00, 482.10it/s]"
    },
    {
     "name": "stderr",
     "output_type": "stream",
     "text": "\rrec_spectro_bytes:  98%|██████████████████████████████████████████████████████████▉ | 491/500 [00:01<00:00, 483.97it/s]"
    },
    {
     "name": "stderr",
     "output_type": "stream",
     "text": "\rrec_spectro_bytes: 100%|████████████████████████████████████████████████████████████| 500/500 [00:01<00:00, 483.60it/s]"
    },
    {
     "name": "stderr",
     "output_type": "stream",
     "text": "\n"
    },
    {
     "name": "stdout",
     "output_type": "stream",
     "text": "INFO     [12:55:10.065] [38842] 925 api.recs/recs_featurize_spectro_bytes: [1.046s]"
    },
    {
     "name": "stdout",
     "output_type": "stream",
     "text": "\n"
    },
    {
     "name": "stdout",
     "output_type": "stream",
     "text": "\raudio_bytes: ["
    },
    {
     "name": "stdout",
     "output_type": "stream",
     "text": "                                                                                   "
    },
    {
     "name": "stdout",
     "output_type": "stream",
     "text": "] |   0% (500) |  0.0s"
    },
    {
     "name": "stdout",
     "output_type": "stream",
     "text": "\raudio_bytes: ["
    },
    {
     "name": "stdout",
     "output_type": "stream",
     "text": "###############################################################                    "
    },
    {
     "name": "stdout",
     "output_type": "stream",
     "text": "] |  76% (500) |  0.1s"
    },
    {
     "name": "stdout",
     "output_type": "stream",
     "text": "\raudio_bytes: ["
    },
    {
     "name": "stdout",
     "output_type": "stream",
     "text": "###################################################################################"
    },
    {
     "name": "stdout",
     "output_type": "stream",
     "text": "] | 100% (500) |  0.2s"
    },
    {
     "name": "stdout",
     "output_type": "stream",
     "text": "\n"
    },
    {
     "name": "stdout",
     "output_type": "stream",
     "text": "INFO     [12:55:10.317] [38842] 999 api.recs/recs_featurize_audio_bytes: [0.238s]"
    },
    {
     "name": "stdout",
     "output_type": "stream",
     "text": "\n"
    },
    {
     "name": "stdout",
     "output_type": "stream",
     "text": "INFO     [12:55:10.327] [38842] 687 api.recs/recs_featurize_pre_rank: batches (5/7) [22.565s]"
    },
    {
     "name": "stdout",
     "output_type": "stream",
     "text": "\n"
    },
    {
     "name": "stdout",
     "output_type": "stream",
     "text": "\raudio_metadata: ["
    },
    {
     "name": "stdout",
     "output_type": "stream",
     "text": "                                                                                "
    },
    {
     "name": "stdout",
     "output_type": "stream",
     "text": "] |   0% (500) |  0.0s"
    },
    {
     "name": "stdout",
     "output_type": "stream",
     "text": "\raudio_metadata: ["
    },
    {
     "name": "stdout",
     "output_type": "stream",
     "text": "                                                                                "
    },
    {
     "name": "stdout",
     "output_type": "stream",
     "text": "] |   0% (500) |  0.1s"
    },
    {
     "name": "stdout",
     "output_type": "stream",
     "text": "\raudio_metadata: ["
    },
    {
     "name": "stdout",
     "output_type": "stream",
     "text": "                                                                                "
    },
    {
     "name": "stdout",
     "output_type": "stream",
     "text": "] |   0% (500) |  0.3s"
    },
    {
     "name": "stdout",
     "output_type": "stream",
     "text": "\raudio_metadata: ["
    },
    {
     "name": "stdout",
     "output_type": "stream",
     "text": "                                                                                "
    },
    {
     "name": "stdout",
     "output_type": "stream",
     "text": "] |   0% (500) |  0.5s"
    },
    {
     "name": "stdout",
     "output_type": "stream",
     "text": "\raudio_metadata: ["
    },
    {
     "name": "stdout",
     "output_type": "stream",
     "text": "                                                                                "
    },
    {
     "name": "stdout",
     "output_type": "stream",
     "text": "] |   0% (500) |  0.6s"
    },
    {
     "name": "stdout",
     "output_type": "stream",
     "text": "\raudio_metadata: ["
    },
    {
     "name": "stdout",
     "output_type": "stream",
     "text": "                                                                                "
    },
    {
     "name": "stdout",
     "output_type": "stream",
     "text": "] |   0% (500) |  0.8s"
    },
    {
     "name": "stdout",
     "output_type": "stream",
     "text": "\raudio_metadata: ["
    },
    {
     "name": "stdout",
     "output_type": "stream",
     "text": "                                                                                "
    },
    {
     "name": "stdout",
     "output_type": "stream",
     "text": "] |   0% (500) |  1.0s"
    },
    {
     "name": "stdout",
     "output_type": "stream",
     "text": "\raudio_metadata: ["
    },
    {
     "name": "stdout",
     "output_type": "stream",
     "text": "                                                                                "
    },
    {
     "name": "stdout",
     "output_type": "stream",
     "text": "] |   0% (500) |  1.1s"
    },
    {
     "name": "stdout",
     "output_type": "stream",
     "text": "\raudio_metadata: ["
    },
    {
     "name": "stdout",
     "output_type": "stream",
     "text": "                                                                                "
    },
    {
     "name": "stdout",
     "output_type": "stream",
     "text": "] |   0% (500) |  1.3s"
    },
    {
     "name": "stdout",
     "output_type": "stream",
     "text": "\raudio_metadata: ["
    },
    {
     "name": "stdout",
     "output_type": "stream",
     "text": "                                                                                "
    },
    {
     "name": "stdout",
     "output_type": "stream",
     "text": "] |   0% (500) |  1.5s"
    },
    {
     "name": "stdout",
     "output_type": "stream",
     "text": "\raudio_metadata: ["
    },
    {
     "name": "stdout",
     "output_type": "stream",
     "text": "                                                                                "
    },
    {
     "name": "stdout",
     "output_type": "stream",
     "text": "] |   0% (500) |  1.6s"
    },
    {
     "name": "stdout",
     "output_type": "stream",
     "text": "\raudio_metadata: ["
    },
    {
     "name": "stdout",
     "output_type": "stream",
     "text": "                                                                                "
    },
    {
     "name": "stdout",
     "output_type": "stream",
     "text": "] |   0% (500) |  1.8s"
    },
    {
     "name": "stdout",
     "output_type": "stream",
     "text": "\raudio_metadata: ["
    },
    {
     "name": "stdout",
     "output_type": "stream",
     "text": "                                                                                "
    },
    {
     "name": "stdout",
     "output_type": "stream",
     "text": "] |   0% (500) |  1.9s"
    },
    {
     "name": "stdout",
     "output_type": "stream",
     "text": "\raudio_metadata: ["
    },
    {
     "name": "stdout",
     "output_type": "stream",
     "text": "                                                                                "
    },
    {
     "name": "stdout",
     "output_type": "stream",
     "text": "] |   0% (500) |  2.0s"
    },
    {
     "name": "stdout",
     "output_type": "stream",
     "text": "\raudio_metadata: ["
    },
    {
     "name": "stdout",
     "output_type": "stream",
     "text": "                                                                                "
    },
    {
     "name": "stdout",
     "output_type": "stream",
     "text": "] |   0% (500) |  2.2s"
    },
    {
     "name": "stdout",
     "output_type": "stream",
     "text": "\raudio_metadata: ["
    },
    {
     "name": "stdout",
     "output_type": "stream",
     "text": "                                                                                "
    },
    {
     "name": "stdout",
     "output_type": "stream",
     "text": "] |   0% (500) |  2.4s"
    },
    {
     "name": "stdout",
     "output_type": "stream",
     "text": "\raudio_metadata: ["
    },
    {
     "name": "stdout",
     "output_type": "stream",
     "text": "                                                                                "
    },
    {
     "name": "stdout",
     "output_type": "stream",
     "text": "] |   0% (500) |  2.5s"
    },
    {
     "name": "stdout",
     "output_type": "stream",
     "text": "\raudio_metadata: ["
    },
    {
     "name": "stdout",
     "output_type": "stream",
     "text": "                                                                                "
    },
    {
     "name": "stdout",
     "output_type": "stream",
     "text": "] |   0% (500) |  2.7s"
    },
    {
     "name": "stdout",
     "output_type": "stream",
     "text": "\raudio_metadata: ["
    },
    {
     "name": "stdout",
     "output_type": "stream",
     "text": "                                                                                "
    },
    {
     "name": "stdout",
     "output_type": "stream",
     "text": "] |   0% (500) |  2.8s"
    },
    {
     "name": "stdout",
     "output_type": "stream",
     "text": "\raudio_metadata: ["
    },
    {
     "name": "stdout",
     "output_type": "stream",
     "text": "                                                                                "
    },
    {
     "name": "stdout",
     "output_type": "stream",
     "text": "] |   0% (500) |  3.0s"
    },
    {
     "name": "stdout",
     "output_type": "stream",
     "text": "\raudio_metadata: ["
    },
    {
     "name": "stdout",
     "output_type": "stream",
     "text": "                                                                                "
    },
    {
     "name": "stdout",
     "output_type": "stream",
     "text": "] |   0% (500) |  3.2s"
    },
    {
     "name": "stdout",
     "output_type": "stream",
     "text": "\raudio_metadata: ["
    },
    {
     "name": "stdout",
     "output_type": "stream",
     "text": "                                                                                "
    },
    {
     "name": "stdout",
     "output_type": "stream",
     "text": "] |   0% (500) |  3.4s"
    },
    {
     "name": "stdout",
     "output_type": "stream",
     "text": "\raudio_metadata: ["
    },
    {
     "name": "stdout",
     "output_type": "stream",
     "text": "##                                                                              "
    },
    {
     "name": "stdout",
     "output_type": "stream",
     "text": "] |   2% (500) |  3.6s"
    },
    {
     "name": "stdout",
     "output_type": "stream",
     "text": "\raudio_metadata: ["
    },
    {
     "name": "stdout",
     "output_type": "stream",
     "text": "###                                                                             "
    },
    {
     "name": "stdout",
     "output_type": "stream",
     "text": "] |   3% (500) |  3.8s"
    },
    {
     "name": "stdout",
     "output_type": "stream",
     "text": "\raudio_metadata: ["
    },
    {
     "name": "stdout",
     "output_type": "stream",
     "text": "#########                                                                       "
    },
    {
     "name": "stdout",
     "output_type": "stream",
     "text": "] |  11% (500) |  4.0s"
    },
    {
     "name": "stdout",
     "output_type": "stream",
     "text": "\raudio_metadata: ["
    },
    {
     "name": "stdout",
     "output_type": "stream",
     "text": "##############                                                                  "
    },
    {
     "name": "stdout",
     "output_type": "stream",
     "text": "] |  17% (500) |  4.2s"
    },
    {
     "name": "stdout",
     "output_type": "stream",
     "text": "\raudio_metadata: ["
    },
    {
     "name": "stdout",
     "output_type": "stream",
     "text": "################                                                                "
    },
    {
     "name": "stdout",
     "output_type": "stream",
     "text": "] |  20% (500) |  4.4s"
    },
    {
     "name": "stdout",
     "output_type": "stream",
     "text": "\raudio_metadata: ["
    },
    {
     "name": "stdout",
     "output_type": "stream",
     "text": "################                                                                "
    },
    {
     "name": "stdout",
     "output_type": "stream",
     "text": "] |  20% (500) |  4.6s"
    },
    {
     "name": "stdout",
     "output_type": "stream",
     "text": "\raudio_metadata: ["
    },
    {
     "name": "stdout",
     "output_type": "stream",
     "text": "################                                                                "
    },
    {
     "name": "stdout",
     "output_type": "stream",
     "text": "] |  20% (500) |  4.8s"
    },
    {
     "name": "stdout",
     "output_type": "stream",
     "text": "\raudio_metadata: ["
    },
    {
     "name": "stdout",
     "output_type": "stream",
     "text": "################                                                                "
    },
    {
     "name": "stdout",
     "output_type": "stream",
     "text": "] |  20% (500) |  4.9s"
    },
    {
     "name": "stdout",
     "output_type": "stream",
     "text": "\raudio_metadata: ["
    },
    {
     "name": "stdout",
     "output_type": "stream",
     "text": "################                                                                "
    },
    {
     "name": "stdout",
     "output_type": "stream",
     "text": "] |  20% (500) |  5.1s"
    },
    {
     "name": "stdout",
     "output_type": "stream",
     "text": "\raudio_metadata: ["
    },
    {
     "name": "stdout",
     "output_type": "stream",
     "text": "################                                                                "
    },
    {
     "name": "stdout",
     "output_type": "stream",
     "text": "] |  20% (500) |  5.3s"
    },
    {
     "name": "stdout",
     "output_type": "stream",
     "text": "\raudio_metadata: ["
    },
    {
     "name": "stdout",
     "output_type": "stream",
     "text": "################                                                                "
    },
    {
     "name": "stdout",
     "output_type": "stream",
     "text": "] |  20% (500) |  5.5s"
    },
    {
     "name": "stdout",
     "output_type": "stream",
     "text": "\raudio_metadata: ["
    },
    {
     "name": "stdout",
     "output_type": "stream",
     "text": "################                                                                "
    },
    {
     "name": "stdout",
     "output_type": "stream",
     "text": "] |  20% (500) |  5.8s"
    },
    {
     "name": "stdout",
     "output_type": "stream",
     "text": "\raudio_metadata: ["
    },
    {
     "name": "stdout",
     "output_type": "stream",
     "text": "################                                                                "
    },
    {
     "name": "stdout",
     "output_type": "stream",
     "text": "] |  20% (500) |  6.0s"
    },
    {
     "name": "stdout",
     "output_type": "stream",
     "text": "\raudio_metadata: ["
    },
    {
     "name": "stdout",
     "output_type": "stream",
     "text": "################                                                                "
    },
    {
     "name": "stdout",
     "output_type": "stream",
     "text": "] |  20% (500) |  6.2s"
    },
    {
     "name": "stdout",
     "output_type": "stream",
     "text": "\raudio_metadata: ["
    },
    {
     "name": "stdout",
     "output_type": "stream",
     "text": "################                                                                "
    },
    {
     "name": "stdout",
     "output_type": "stream",
     "text": "] |  20% (500) |  6.4s"
    },
    {
     "name": "stdout",
     "output_type": "stream",
     "text": "\raudio_metadata: ["
    },
    {
     "name": "stdout",
     "output_type": "stream",
     "text": "################                                                                "
    },
    {
     "name": "stdout",
     "output_type": "stream",
     "text": "] |  20% (500) |  6.6s"
    },
    {
     "name": "stdout",
     "output_type": "stream",
     "text": "\raudio_metadata: ["
    },
    {
     "name": "stdout",
     "output_type": "stream",
     "text": "################                                                                "
    },
    {
     "name": "stdout",
     "output_type": "stream",
     "text": "] |  20% (500) |  6.8s"
    },
    {
     "name": "stdout",
     "output_type": "stream",
     "text": "\raudio_metadata: ["
    },
    {
     "name": "stdout",
     "output_type": "stream",
     "text": "################                                                                "
    },
    {
     "name": "stdout",
     "output_type": "stream",
     "text": "] |  20% (500) |  7.0s"
    },
    {
     "name": "stdout",
     "output_type": "stream",
     "text": "\raudio_metadata: ["
    },
    {
     "name": "stdout",
     "output_type": "stream",
     "text": "################                                                                "
    },
    {
     "name": "stdout",
     "output_type": "stream",
     "text": "] |  20% (500) |  7.2s"
    },
    {
     "name": "stdout",
     "output_type": "stream",
     "text": "\raudio_metadata: ["
    },
    {
     "name": "stdout",
     "output_type": "stream",
     "text": "################                                                                "
    },
    {
     "name": "stdout",
     "output_type": "stream",
     "text": "] |  20% (500) |  7.4s"
    },
    {
     "name": "stdout",
     "output_type": "stream",
     "text": "\raudio_metadata: ["
    },
    {
     "name": "stdout",
     "output_type": "stream",
     "text": "################                                                                "
    },
    {
     "name": "stdout",
     "output_type": "stream",
     "text": "] |  20% (500) |  7.6s"
    },
    {
     "name": "stdout",
     "output_type": "stream",
     "text": "\raudio_metadata: ["
    },
    {
     "name": "stdout",
     "output_type": "stream",
     "text": "################                                                                "
    },
    {
     "name": "stdout",
     "output_type": "stream",
     "text": "] |  20% (500) |  7.8s"
    },
    {
     "name": "stdout",
     "output_type": "stream",
     "text": "\raudio_metadata: ["
    },
    {
     "name": "stdout",
     "output_type": "stream",
     "text": "################                                                                "
    },
    {
     "name": "stdout",
     "output_type": "stream",
     "text": "] |  20% (500) |  8.0s"
    },
    {
     "name": "stdout",
     "output_type": "stream",
     "text": "\raudio_metadata: ["
    },
    {
     "name": "stdout",
     "output_type": "stream",
     "text": "################                                                                "
    },
    {
     "name": "stdout",
     "output_type": "stream",
     "text": "] |  20% (500) |  8.2s"
    },
    {
     "name": "stdout",
     "output_type": "stream",
     "text": "\raudio_metadata: ["
    },
    {
     "name": "stdout",
     "output_type": "stream",
     "text": "##################                                                              "
    },
    {
     "name": "stdout",
     "output_type": "stream",
     "text": "] |  23% (500) |  8.4s"
    },
    {
     "name": "stdout",
     "output_type": "stream",
     "text": "\raudio_metadata: ["
    },
    {
     "name": "stdout",
     "output_type": "stream",
     "text": "####################                                                            "
    },
    {
     "name": "stdout",
     "output_type": "stream",
     "text": "] |  25% (500) |  8.6s"
    },
    {
     "name": "stdout",
     "output_type": "stream",
     "text": "\raudio_metadata: ["
    },
    {
     "name": "stdout",
     "output_type": "stream",
     "text": "####################                                                            "
    },
    {
     "name": "stdout",
     "output_type": "stream",
     "text": "] |  25% (500) |  8.8s"
    },
    {
     "name": "stdout",
     "output_type": "stream",
     "text": "\raudio_metadata: ["
    },
    {
     "name": "stdout",
     "output_type": "stream",
     "text": "############################                                                    "
    },
    {
     "name": "stdout",
     "output_type": "stream",
     "text": "] |  35% (500) |  9.0s"
    },
    {
     "name": "stdout",
     "output_type": "stream",
     "text": "\raudio_metadata: ["
    },
    {
     "name": "stdout",
     "output_type": "stream",
     "text": "##############################                                                  "
    },
    {
     "name": "stdout",
     "output_type": "stream",
     "text": "] |  38% (500) |  9.2s"
    },
    {
     "name": "stdout",
     "output_type": "stream",
     "text": "\raudio_metadata: ["
    },
    {
     "name": "stdout",
     "output_type": "stream",
     "text": "################################                                                "
    },
    {
     "name": "stdout",
     "output_type": "stream",
     "text": "] |  41% (500) |  9.4s"
    },
    {
     "name": "stdout",
     "output_type": "stream",
     "text": "\raudio_metadata: ["
    },
    {
     "name": "stdout",
     "output_type": "stream",
     "text": "################################                                                "
    },
    {
     "name": "stdout",
     "output_type": "stream",
     "text": "] |  41% (500) |  9.5s"
    },
    {
     "name": "stdout",
     "output_type": "stream",
     "text": "\raudio_metadata: ["
    },
    {
     "name": "stdout",
     "output_type": "stream",
     "text": "################################                                                "
    },
    {
     "name": "stdout",
     "output_type": "stream",
     "text": "] |  41% (500) |  9.7s"
    },
    {
     "name": "stdout",
     "output_type": "stream",
     "text": "\raudio_metadata: ["
    },
    {
     "name": "stdout",
     "output_type": "stream",
     "text": "################################                                                "
    },
    {
     "name": "stdout",
     "output_type": "stream",
     "text": "] |  41% (500) |  9.8s"
    },
    {
     "name": "stdout",
     "output_type": "stream",
     "text": "\raudio_metadata: ["
    },
    {
     "name": "stdout",
     "output_type": "stream",
     "text": "################################                                                "
    },
    {
     "name": "stdout",
     "output_type": "stream",
     "text": "] |  41% (500) | 10.0s"
    },
    {
     "name": "stdout",
     "output_type": "stream",
     "text": "\raudio_metadata: ["
    },
    {
     "name": "stdout",
     "output_type": "stream",
     "text": "################################                                                "
    },
    {
     "name": "stdout",
     "output_type": "stream",
     "text": "] |  41% (500) | 10.2s"
    },
    {
     "name": "stdout",
     "output_type": "stream",
     "text": "\raudio_metadata: ["
    },
    {
     "name": "stdout",
     "output_type": "stream",
     "text": "################################                                                "
    },
    {
     "name": "stdout",
     "output_type": "stream",
     "text": "] |  41% (500) | 10.4s"
    },
    {
     "name": "stdout",
     "output_type": "stream",
     "text": "\raudio_metadata: ["
    },
    {
     "name": "stdout",
     "output_type": "stream",
     "text": "################################                                                "
    },
    {
     "name": "stdout",
     "output_type": "stream",
     "text": "] |  41% (500) | 10.6s"
    },
    {
     "name": "stdout",
     "output_type": "stream",
     "text": "\raudio_metadata: ["
    },
    {
     "name": "stdout",
     "output_type": "stream",
     "text": "################################                                                "
    },
    {
     "name": "stdout",
     "output_type": "stream",
     "text": "] |  41% (500) | 10.8s"
    },
    {
     "name": "stdout",
     "output_type": "stream",
     "text": "\raudio_metadata: ["
    },
    {
     "name": "stdout",
     "output_type": "stream",
     "text": "################################                                                "
    },
    {
     "name": "stdout",
     "output_type": "stream",
     "text": "] |  41% (500) | 11.0s"
    },
    {
     "name": "stdout",
     "output_type": "stream",
     "text": "\raudio_metadata: ["
    },
    {
     "name": "stdout",
     "output_type": "stream",
     "text": "################################                                                "
    },
    {
     "name": "stdout",
     "output_type": "stream",
     "text": "] |  41% (500) | 11.1s"
    },
    {
     "name": "stdout",
     "output_type": "stream",
     "text": "\raudio_metadata: ["
    },
    {
     "name": "stdout",
     "output_type": "stream",
     "text": "################################                                                "
    },
    {
     "name": "stdout",
     "output_type": "stream",
     "text": "] |  41% (500) | 11.4s"
    },
    {
     "name": "stdout",
     "output_type": "stream",
     "text": "\raudio_metadata: ["
    },
    {
     "name": "stdout",
     "output_type": "stream",
     "text": "################################                                                "
    },
    {
     "name": "stdout",
     "output_type": "stream",
     "text": "] |  41% (500) | 11.5s"
    },
    {
     "name": "stdout",
     "output_type": "stream",
     "text": "\raudio_metadata: ["
    },
    {
     "name": "stdout",
     "output_type": "stream",
     "text": "################################                                                "
    },
    {
     "name": "stdout",
     "output_type": "stream",
     "text": "] |  41% (500) | 11.7s"
    },
    {
     "name": "stdout",
     "output_type": "stream",
     "text": "\raudio_metadata: ["
    },
    {
     "name": "stdout",
     "output_type": "stream",
     "text": "################################                                                "
    },
    {
     "name": "stdout",
     "output_type": "stream",
     "text": "] |  41% (500) | 11.9s"
    },
    {
     "name": "stdout",
     "output_type": "stream",
     "text": "\raudio_metadata: ["
    },
    {
     "name": "stdout",
     "output_type": "stream",
     "text": "################################                                                "
    },
    {
     "name": "stdout",
     "output_type": "stream",
     "text": "] |  41% (500) | 12.1s"
    },
    {
     "name": "stdout",
     "output_type": "stream",
     "text": "\raudio_metadata: ["
    },
    {
     "name": "stdout",
     "output_type": "stream",
     "text": "################################                                                "
    },
    {
     "name": "stdout",
     "output_type": "stream",
     "text": "] |  41% (500) | 12.3s"
    },
    {
     "name": "stdout",
     "output_type": "stream",
     "text": "\raudio_metadata: ["
    },
    {
     "name": "stdout",
     "output_type": "stream",
     "text": "################################                                                "
    },
    {
     "name": "stdout",
     "output_type": "stream",
     "text": "] |  41% (500) | 12.5s"
    },
    {
     "name": "stdout",
     "output_type": "stream",
     "text": "\raudio_metadata: ["
    },
    {
     "name": "stdout",
     "output_type": "stream",
     "text": "################################                                                "
    },
    {
     "name": "stdout",
     "output_type": "stream",
     "text": "] |  41% (500) | 12.7s"
    },
    {
     "name": "stdout",
     "output_type": "stream",
     "text": "\raudio_metadata: ["
    },
    {
     "name": "stdout",
     "output_type": "stream",
     "text": "################################                                                "
    },
    {
     "name": "stdout",
     "output_type": "stream",
     "text": "] |  41% (500) | 12.9s"
    },
    {
     "name": "stdout",
     "output_type": "stream",
     "text": "\raudio_metadata: ["
    },
    {
     "name": "stdout",
     "output_type": "stream",
     "text": "################################                                                "
    },
    {
     "name": "stdout",
     "output_type": "stream",
     "text": "] |  41% (500) | 13.0s"
    },
    {
     "name": "stdout",
     "output_type": "stream",
     "text": "\raudio_metadata: ["
    },
    {
     "name": "stdout",
     "output_type": "stream",
     "text": "################################                                                "
    },
    {
     "name": "stdout",
     "output_type": "stream",
     "text": "] |  41% (500) | 13.2s"
    },
    {
     "name": "stdout",
     "output_type": "stream",
     "text": "\raudio_metadata: ["
    },
    {
     "name": "stdout",
     "output_type": "stream",
     "text": "####################################                                            "
    },
    {
     "name": "stdout",
     "output_type": "stream",
     "text": "] |  46% (500) | 13.4s"
    },
    {
     "name": "stdout",
     "output_type": "stream",
     "text": "\raudio_metadata: ["
    },
    {
     "name": "stdout",
     "output_type": "stream",
     "text": "####################################                                            "
    },
    {
     "name": "stdout",
     "output_type": "stream",
     "text": "] |  46% (500) | 13.6s"
    },
    {
     "name": "stdout",
     "output_type": "stream",
     "text": "\raudio_metadata: ["
    },
    {
     "name": "stdout",
     "output_type": "stream",
     "text": "###########################################                                     "
    },
    {
     "name": "stdout",
     "output_type": "stream",
     "text": "] |  53% (500) | 13.8s"
    },
    {
     "name": "stdout",
     "output_type": "stream",
     "text": "\raudio_metadata: ["
    },
    {
     "name": "stdout",
     "output_type": "stream",
     "text": "#############################################                                   "
    },
    {
     "name": "stdout",
     "output_type": "stream",
     "text": "] |  56% (500) | 14.0s"
    },
    {
     "name": "stdout",
     "output_type": "stream",
     "text": "\raudio_metadata: ["
    },
    {
     "name": "stdout",
     "output_type": "stream",
     "text": "#################################################                               "
    },
    {
     "name": "stdout",
     "output_type": "stream",
     "text": "] |  61% (500) | 14.2s"
    },
    {
     "name": "stdout",
     "output_type": "stream",
     "text": "\raudio_metadata: ["
    },
    {
     "name": "stdout",
     "output_type": "stream",
     "text": "#################################################                               "
    },
    {
     "name": "stdout",
     "output_type": "stream",
     "text": "] |  61% (500) | 14.4s"
    },
    {
     "name": "stdout",
     "output_type": "stream",
     "text": "\raudio_metadata: ["
    },
    {
     "name": "stdout",
     "output_type": "stream",
     "text": "#################################################                               "
    },
    {
     "name": "stdout",
     "output_type": "stream",
     "text": "] |  61% (500) | 14.6s"
    },
    {
     "name": "stdout",
     "output_type": "stream",
     "text": "\raudio_metadata: ["
    },
    {
     "name": "stdout",
     "output_type": "stream",
     "text": "#################################################                               "
    },
    {
     "name": "stdout",
     "output_type": "stream",
     "text": "] |  61% (500) | 14.8s"
    },
    {
     "name": "stdout",
     "output_type": "stream",
     "text": "\raudio_metadata: ["
    },
    {
     "name": "stdout",
     "output_type": "stream",
     "text": "#################################################                               "
    },
    {
     "name": "stdout",
     "output_type": "stream",
     "text": "] |  61% (500) | 15.0s"
    },
    {
     "name": "stdout",
     "output_type": "stream",
     "text": "\raudio_metadata: ["
    },
    {
     "name": "stdout",
     "output_type": "stream",
     "text": "#################################################                               "
    },
    {
     "name": "stdout",
     "output_type": "stream",
     "text": "] |  61% (500) | 15.2s"
    },
    {
     "name": "stdout",
     "output_type": "stream",
     "text": "\raudio_metadata: ["
    },
    {
     "name": "stdout",
     "output_type": "stream",
     "text": "#################################################                               "
    },
    {
     "name": "stdout",
     "output_type": "stream",
     "text": "] |  61% (500) | 15.5s"
    },
    {
     "name": "stdout",
     "output_type": "stream",
     "text": "\raudio_metadata: ["
    },
    {
     "name": "stdout",
     "output_type": "stream",
     "text": "#################################################                               "
    },
    {
     "name": "stdout",
     "output_type": "stream",
     "text": "] |  61% (500) | 15.6s"
    },
    {
     "name": "stdout",
     "output_type": "stream",
     "text": "\raudio_metadata: ["
    },
    {
     "name": "stdout",
     "output_type": "stream",
     "text": "#################################################                               "
    },
    {
     "name": "stdout",
     "output_type": "stream",
     "text": "] |  61% (500) | 15.9s"
    },
    {
     "name": "stdout",
     "output_type": "stream",
     "text": "\raudio_metadata: ["
    },
    {
     "name": "stdout",
     "output_type": "stream",
     "text": "#################################################                               "
    },
    {
     "name": "stdout",
     "output_type": "stream",
     "text": "] |  61% (500) | 16.1s"
    },
    {
     "name": "stdout",
     "output_type": "stream",
     "text": "\raudio_metadata: ["
    },
    {
     "name": "stdout",
     "output_type": "stream",
     "text": "#################################################                               "
    },
    {
     "name": "stdout",
     "output_type": "stream",
     "text": "] |  61% (500) | 16.3s"
    },
    {
     "name": "stdout",
     "output_type": "stream",
     "text": "\raudio_metadata: ["
    },
    {
     "name": "stdout",
     "output_type": "stream",
     "text": "#################################################                               "
    },
    {
     "name": "stdout",
     "output_type": "stream",
     "text": "] |  61% (500) | 16.5s"
    },
    {
     "name": "stdout",
     "output_type": "stream",
     "text": "\raudio_metadata: ["
    },
    {
     "name": "stdout",
     "output_type": "stream",
     "text": "#################################################                               "
    },
    {
     "name": "stdout",
     "output_type": "stream",
     "text": "] |  61% (500) | 16.7s"
    },
    {
     "name": "stdout",
     "output_type": "stream",
     "text": "\raudio_metadata: ["
    },
    {
     "name": "stdout",
     "output_type": "stream",
     "text": "#################################################                               "
    },
    {
     "name": "stdout",
     "output_type": "stream",
     "text": "] |  61% (500) | 16.9s"
    },
    {
     "name": "stdout",
     "output_type": "stream",
     "text": "\raudio_metadata: ["
    },
    {
     "name": "stdout",
     "output_type": "stream",
     "text": "#################################################                               "
    },
    {
     "name": "stdout",
     "output_type": "stream",
     "text": "] |  61% (500) | 17.1s"
    },
    {
     "name": "stdout",
     "output_type": "stream",
     "text": "\raudio_metadata: ["
    },
    {
     "name": "stdout",
     "output_type": "stream",
     "text": "#################################################                               "
    },
    {
     "name": "stdout",
     "output_type": "stream",
     "text": "] |  61% (500) | 17.3s"
    },
    {
     "name": "stdout",
     "output_type": "stream",
     "text": "\raudio_metadata: ["
    },
    {
     "name": "stdout",
     "output_type": "stream",
     "text": "#################################################                               "
    },
    {
     "name": "stdout",
     "output_type": "stream",
     "text": "] |  61% (500) | 17.5s"
    },
    {
     "name": "stdout",
     "output_type": "stream",
     "text": "\raudio_metadata: ["
    },
    {
     "name": "stdout",
     "output_type": "stream",
     "text": "#################################################                               "
    },
    {
     "name": "stdout",
     "output_type": "stream",
     "text": "] |  61% (500) | 17.6s"
    },
    {
     "name": "stdout",
     "output_type": "stream",
     "text": "\raudio_metadata: ["
    },
    {
     "name": "stdout",
     "output_type": "stream",
     "text": "#################################################                               "
    },
    {
     "name": "stdout",
     "output_type": "stream",
     "text": "] |  61% (500) | 17.8s"
    },
    {
     "name": "stdout",
     "output_type": "stream",
     "text": "\raudio_metadata: ["
    },
    {
     "name": "stdout",
     "output_type": "stream",
     "text": "#################################################                               "
    },
    {
     "name": "stdout",
     "output_type": "stream",
     "text": "] |  61% (500) | 18.0s"
    },
    {
     "name": "stdout",
     "output_type": "stream",
     "text": "\raudio_metadata: ["
    },
    {
     "name": "stdout",
     "output_type": "stream",
     "text": "#################################################                               "
    },
    {
     "name": "stdout",
     "output_type": "stream",
     "text": "] |  61% (500) | 18.1s"
    },
    {
     "name": "stdout",
     "output_type": "stream",
     "text": "\raudio_metadata: ["
    },
    {
     "name": "stdout",
     "output_type": "stream",
     "text": "####################################################                            "
    },
    {
     "name": "stdout",
     "output_type": "stream",
     "text": "] |  65% (500) | 18.3s"
    },
    {
     "name": "stdout",
     "output_type": "stream",
     "text": "\raudio_metadata: ["
    },
    {
     "name": "stdout",
     "output_type": "stream",
     "text": "#####################################################                           "
    },
    {
     "name": "stdout",
     "output_type": "stream",
     "text": "] |  66% (500) | 18.5s"
    },
    {
     "name": "stdout",
     "output_type": "stream",
     "text": "\raudio_metadata: ["
    },
    {
     "name": "stdout",
     "output_type": "stream",
     "text": "###########################################################                     "
    },
    {
     "name": "stdout",
     "output_type": "stream",
     "text": "] |  74% (500) | 18.6s"
    },
    {
     "name": "stdout",
     "output_type": "stream",
     "text": "\raudio_metadata: ["
    },
    {
     "name": "stdout",
     "output_type": "stream",
     "text": "###############################################################                 "
    },
    {
     "name": "stdout",
     "output_type": "stream",
     "text": "] |  79% (500) | 18.8s"
    },
    {
     "name": "stdout",
     "output_type": "stream",
     "text": "\raudio_metadata: ["
    },
    {
     "name": "stdout",
     "output_type": "stream",
     "text": "###############################################################                 "
    },
    {
     "name": "stdout",
     "output_type": "stream",
     "text": "] |  79% (500) | 19.0s"
    },
    {
     "name": "stdout",
     "output_type": "stream",
     "text": "\raudio_metadata: ["
    },
    {
     "name": "stdout",
     "output_type": "stream",
     "text": "#################################################################               "
    },
    {
     "name": "stdout",
     "output_type": "stream",
     "text": "] |  82% (500) | 19.1s"
    },
    {
     "name": "stdout",
     "output_type": "stream",
     "text": "\raudio_metadata: ["
    },
    {
     "name": "stdout",
     "output_type": "stream",
     "text": "#################################################################               "
    },
    {
     "name": "stdout",
     "output_type": "stream",
     "text": "] |  82% (500) | 19.3s"
    },
    {
     "name": "stdout",
     "output_type": "stream",
     "text": "\raudio_metadata: ["
    },
    {
     "name": "stdout",
     "output_type": "stream",
     "text": "#################################################################               "
    },
    {
     "name": "stdout",
     "output_type": "stream",
     "text": "] |  82% (500) | 19.5s"
    },
    {
     "name": "stdout",
     "output_type": "stream",
     "text": "\raudio_metadata: ["
    },
    {
     "name": "stdout",
     "output_type": "stream",
     "text": "#################################################################               "
    },
    {
     "name": "stdout",
     "output_type": "stream",
     "text": "] |  82% (500) | 19.6s"
    },
    {
     "name": "stdout",
     "output_type": "stream",
     "text": "\raudio_metadata: ["
    },
    {
     "name": "stdout",
     "output_type": "stream",
     "text": "#################################################################               "
    },
    {
     "name": "stdout",
     "output_type": "stream",
     "text": "] |  82% (500) | 19.8s"
    },
    {
     "name": "stdout",
     "output_type": "stream",
     "text": "\raudio_metadata: ["
    },
    {
     "name": "stdout",
     "output_type": "stream",
     "text": "#################################################################               "
    },
    {
     "name": "stdout",
     "output_type": "stream",
     "text": "] |  82% (500) | 20.0s"
    },
    {
     "name": "stdout",
     "output_type": "stream",
     "text": "\raudio_metadata: ["
    },
    {
     "name": "stdout",
     "output_type": "stream",
     "text": "#################################################################               "
    },
    {
     "name": "stdout",
     "output_type": "stream",
     "text": "] |  82% (500) | 20.1s"
    },
    {
     "name": "stdout",
     "output_type": "stream",
     "text": "\raudio_metadata: ["
    },
    {
     "name": "stdout",
     "output_type": "stream",
     "text": "#################################################################               "
    },
    {
     "name": "stdout",
     "output_type": "stream",
     "text": "] |  82% (500) | 20.3s"
    },
    {
     "name": "stdout",
     "output_type": "stream",
     "text": "\raudio_metadata: ["
    },
    {
     "name": "stdout",
     "output_type": "stream",
     "text": "#################################################################               "
    },
    {
     "name": "stdout",
     "output_type": "stream",
     "text": "] |  82% (500) | 20.6s"
    },
    {
     "name": "stdout",
     "output_type": "stream",
     "text": "\raudio_metadata: ["
    },
    {
     "name": "stdout",
     "output_type": "stream",
     "text": "#################################################################               "
    },
    {
     "name": "stdout",
     "output_type": "stream",
     "text": "] |  82% (500) | 20.7s"
    },
    {
     "name": "stdout",
     "output_type": "stream",
     "text": "\raudio_metadata: ["
    },
    {
     "name": "stdout",
     "output_type": "stream",
     "text": "###################################################################             "
    },
    {
     "name": "stdout",
     "output_type": "stream",
     "text": "] |  84% (500) | 20.9s"
    },
    {
     "name": "stdout",
     "output_type": "stream",
     "text": "\raudio_metadata: ["
    },
    {
     "name": "stdout",
     "output_type": "stream",
     "text": "###################################################################             "
    },
    {
     "name": "stdout",
     "output_type": "stream",
     "text": "] |  84% (500) | 21.0s"
    },
    {
     "name": "stdout",
     "output_type": "stream",
     "text": "\raudio_metadata: ["
    },
    {
     "name": "stdout",
     "output_type": "stream",
     "text": "###################################################################             "
    },
    {
     "name": "stdout",
     "output_type": "stream",
     "text": "] |  84% (500) | 21.3s"
    },
    {
     "name": "stdout",
     "output_type": "stream",
     "text": "\raudio_metadata: ["
    },
    {
     "name": "stdout",
     "output_type": "stream",
     "text": "###################################################################             "
    },
    {
     "name": "stdout",
     "output_type": "stream",
     "text": "] |  84% (500) | 21.5s"
    },
    {
     "name": "stdout",
     "output_type": "stream",
     "text": "\raudio_metadata: ["
    },
    {
     "name": "stdout",
     "output_type": "stream",
     "text": "###################################################################             "
    },
    {
     "name": "stdout",
     "output_type": "stream",
     "text": "] |  84% (500) | 21.6s"
    },
    {
     "name": "stdout",
     "output_type": "stream",
     "text": "\raudio_metadata: ["
    },
    {
     "name": "stdout",
     "output_type": "stream",
     "text": "###################################################################             "
    },
    {
     "name": "stdout",
     "output_type": "stream",
     "text": "] |  84% (500) | 21.7s"
    },
    {
     "name": "stdout",
     "output_type": "stream",
     "text": "\raudio_metadata: ["
    },
    {
     "name": "stdout",
     "output_type": "stream",
     "text": "###################################################################             "
    },
    {
     "name": "stdout",
     "output_type": "stream",
     "text": "] |  84% (500) | 21.9s"
    },
    {
     "name": "stdout",
     "output_type": "stream",
     "text": "\raudio_metadata: ["
    },
    {
     "name": "stdout",
     "output_type": "stream",
     "text": "###################################################################             "
    },
    {
     "name": "stdout",
     "output_type": "stream",
     "text": "] |  84% (500) | 22.1s"
    },
    {
     "name": "stdout",
     "output_type": "stream",
     "text": "\raudio_metadata: ["
    },
    {
     "name": "stdout",
     "output_type": "stream",
     "text": "#######################################################################         "
    },
    {
     "name": "stdout",
     "output_type": "stream",
     "text": "] |  89% (500) | 22.2s"
    },
    {
     "name": "stdout",
     "output_type": "stream",
     "text": "\raudio_metadata: ["
    },
    {
     "name": "stdout",
     "output_type": "stream",
     "text": "################################################################################"
    },
    {
     "name": "stdout",
     "output_type": "stream",
     "text": "] | 100% (500) | 22.4s"
    },
    {
     "name": "stdout",
     "output_type": "stream",
     "text": "\n"
    },
    {
     "name": "stdout",
     "output_type": "stream",
     "text": "\rf_preds: ["
    },
    {
     "name": "stdout",
     "output_type": "stream",
     "text": "                                                                                       "
    },
    {
     "name": "stdout",
     "output_type": "stream",
     "text": "] |   0% (500) |  0.0s"
    },
    {
     "name": "stdout",
     "output_type": "stream",
     "text": "\rf_preds: ["
    },
    {
     "name": "stdout",
     "output_type": "stream",
     "text": "                                                                                       "
    },
    {
     "name": "stdout",
     "output_type": "stream",
     "text": "] |   0% (500) |  0.1s"
    },
    {
     "name": "stdout",
     "output_type": "stream",
     "text": "\rf_preds: ["
    },
    {
     "name": "stdout",
     "output_type": "stream",
     "text": "                                                                                       "
    },
    {
     "name": "stdout",
     "output_type": "stream",
     "text": "] |   0% (500) |  0.2s"
    },
    {
     "name": "stdout",
     "output_type": "stream",
     "text": "\rf_preds: ["
    },
    {
     "name": "stdout",
     "output_type": "stream",
     "text": "#######################################################################################"
    },
    {
     "name": "stdout",
     "output_type": "stream",
     "text": "] | 100% (500) |  0.4s"
    },
    {
     "name": "stdout",
     "output_type": "stream",
     "text": "\n"
    },
    {
     "name": "stderr",
     "output_type": "stream",
     "text": "\rrec_spectro_bytes:   0%|                                                                       | 0/500 [00:00<?, ?it/s]"
    },
    {
     "name": "stderr",
     "output_type": "stream",
     "text": "\rrec_spectro_bytes:   6%|███▉                                                         | 32/500 [00:00<00:01, 313.99it/s]"
    },
    {
     "name": "stderr",
     "output_type": "stream",
     "text": "\rrec_spectro_bytes:  13%|███████▉                                                     | 65/500 [00:00<00:01, 317.78it/s]"
    },
    {
     "name": "stderr",
     "output_type": "stream",
     "text": "\rrec_spectro_bytes:  20%|████████████                                                 | 99/500 [00:00<00:01, 323.71it/s]"
    },
    {
     "name": "stderr",
     "output_type": "stream",
     "text": "\rrec_spectro_bytes:  26%|███████████████▊                                            | 132/500 [00:00<00:01, 323.50it/s]"
    },
    {
     "name": "stderr",
     "output_type": "stream",
     "text": "\rrec_spectro_bytes:  33%|███████████████████▋                                        | 164/500 [00:00<00:01, 321.97it/s]"
    },
    {
     "name": "stderr",
     "output_type": "stream",
     "text": "\rrec_spectro_bytes:  39%|███████████████████████▋                                    | 197/500 [00:00<00:00, 323.09it/s]"
    },
    {
     "name": "stderr",
     "output_type": "stream",
     "text": "\rrec_spectro_bytes:  46%|███████████████████████████▌                                | 230/500 [00:00<00:00, 323.91it/s]"
    },
    {
     "name": "stderr",
     "output_type": "stream",
     "text": "\rrec_spectro_bytes:  53%|███████████████████████████████▋                            | 264/500 [00:00<00:00, 325.72it/s]"
    },
    {
     "name": "stderr",
     "output_type": "stream",
     "text": "\rrec_spectro_bytes:  59%|███████████████████████████████████▋                        | 297/500 [00:00<00:00, 326.16it/s]"
    },
    {
     "name": "stderr",
     "output_type": "stream",
     "text": "\rrec_spectro_bytes:  66%|███████████████████████████████████████▌                    | 330/500 [00:01<00:00, 326.18it/s]"
    },
    {
     "name": "stderr",
     "output_type": "stream",
     "text": "\rrec_spectro_bytes:  73%|███████████████████████████████████████████▉                | 366/500 [00:01<00:00, 328.43it/s]"
    },
    {
     "name": "stderr",
     "output_type": "stream",
     "text": "\rrec_spectro_bytes:  80%|████████████████████████████████████████████████            | 400/500 [00:01<00:00, 328.93it/s]"
    },
    {
     "name": "stderr",
     "output_type": "stream",
     "text": "\rrec_spectro_bytes:  87%|████████████████████████████████████████████████████        | 434/500 [00:01<00:00, 326.82it/s]"
    },
    {
     "name": "stderr",
     "output_type": "stream",
     "text": "\rrec_spectro_bytes:  93%|████████████████████████████████████████████████████████    | 467/500 [00:01<00:00, 324.30it/s]"
    },
    {
     "name": "stderr",
     "output_type": "stream",
     "text": "\rrec_spectro_bytes: 100%|████████████████████████████████████████████████████████████| 500/500 [00:01<00:00, 324.22it/s]"
    },
    {
     "name": "stderr",
     "output_type": "stream",
     "text": "\n"
    },
    {
     "name": "stdout",
     "output_type": "stream",
     "text": "INFO     [12:55:35.071] [38842] 925 api.recs/recs_featurize_spectro_bytes: [1.551s]"
    },
    {
     "name": "stdout",
     "output_type": "stream",
     "text": "\n"
    },
    {
     "name": "stdout",
     "output_type": "stream",
     "text": "\raudio_bytes: ["
    },
    {
     "name": "stdout",
     "output_type": "stream",
     "text": "                                                                                   "
    },
    {
     "name": "stdout",
     "output_type": "stream",
     "text": "] |   0% (500) |  0.0s"
    },
    {
     "name": "stdout",
     "output_type": "stream",
     "text": "\raudio_bytes: ["
    },
    {
     "name": "stdout",
     "output_type": "stream",
     "text": "#########################################################################          "
    },
    {
     "name": "stdout",
     "output_type": "stream",
     "text": "] |  88% (500) |  0.1s"
    },
    {
     "name": "stdout",
     "output_type": "stream",
     "text": "\raudio_bytes: ["
    },
    {
     "name": "stdout",
     "output_type": "stream",
     "text": "###################################################################################"
    },
    {
     "name": "stdout",
     "output_type": "stream",
     "text": "] | 100% (500) |  0.2s"
    },
    {
     "name": "stdout",
     "output_type": "stream",
     "text": "\n"
    },
    {
     "name": "stdout",
     "output_type": "stream",
     "text": "INFO     [12:55:35.315] [38842] 999 api.recs/recs_featurize_audio_bytes: [0.232s]"
    },
    {
     "name": "stdout",
     "output_type": "stream",
     "text": "\n"
    },
    {
     "name": "stdout",
     "output_type": "stream",
     "text": "INFO     [12:55:35.324] [38842] 687 api.recs/recs_featurize_pre_rank: batches (6/7) [24.984s]"
    },
    {
     "name": "stdout",
     "output_type": "stream",
     "text": "\n"
    },
    {
     "name": "stdout",
     "output_type": "stream",
     "text": "\raudio_metadata: ["
    },
    {
     "name": "stdout",
     "output_type": "stream",
     "text": "                                                                                "
    },
    {
     "name": "stdout",
     "output_type": "stream",
     "text": "] |   0% (500) |  0.0s"
    },
    {
     "name": "stdout",
     "output_type": "stream",
     "text": "\raudio_metadata: ["
    },
    {
     "name": "stdout",
     "output_type": "stream",
     "text": "                                                                                "
    },
    {
     "name": "stdout",
     "output_type": "stream",
     "text": "] |   0% (500) |  0.1s"
    },
    {
     "name": "stdout",
     "output_type": "stream",
     "text": "\raudio_metadata: ["
    },
    {
     "name": "stdout",
     "output_type": "stream",
     "text": "                                                                                "
    },
    {
     "name": "stdout",
     "output_type": "stream",
     "text": "] |   0% (500) |  0.3s"
    },
    {
     "name": "stdout",
     "output_type": "stream",
     "text": "\raudio_metadata: ["
    },
    {
     "name": "stdout",
     "output_type": "stream",
     "text": "                                                                                "
    },
    {
     "name": "stdout",
     "output_type": "stream",
     "text": "] |   0% (500) |  0.5s"
    },
    {
     "name": "stdout",
     "output_type": "stream",
     "text": "\raudio_metadata: ["
    },
    {
     "name": "stdout",
     "output_type": "stream",
     "text": "                                                                                "
    },
    {
     "name": "stdout",
     "output_type": "stream",
     "text": "] |   0% (500) |  0.7s"
    },
    {
     "name": "stdout",
     "output_type": "stream",
     "text": "\raudio_metadata: ["
    },
    {
     "name": "stdout",
     "output_type": "stream",
     "text": "                                                                                "
    },
    {
     "name": "stdout",
     "output_type": "stream",
     "text": "] |   0% (500) |  1.0s"
    },
    {
     "name": "stdout",
     "output_type": "stream",
     "text": "\raudio_metadata: ["
    },
    {
     "name": "stdout",
     "output_type": "stream",
     "text": "                                                                                "
    },
    {
     "name": "stdout",
     "output_type": "stream",
     "text": "] |   0% (500) |  1.2s"
    },
    {
     "name": "stdout",
     "output_type": "stream",
     "text": "\raudio_metadata: ["
    },
    {
     "name": "stdout",
     "output_type": "stream",
     "text": "                                                                                "
    },
    {
     "name": "stdout",
     "output_type": "stream",
     "text": "] |   0% (500) |  1.4s"
    },
    {
     "name": "stdout",
     "output_type": "stream",
     "text": "\raudio_metadata: ["
    },
    {
     "name": "stdout",
     "output_type": "stream",
     "text": "                                                                                "
    },
    {
     "name": "stdout",
     "output_type": "stream",
     "text": "] |   0% (500) |  1.6s"
    },
    {
     "name": "stdout",
     "output_type": "stream",
     "text": "\raudio_metadata: ["
    },
    {
     "name": "stdout",
     "output_type": "stream",
     "text": "                                                                                "
    },
    {
     "name": "stdout",
     "output_type": "stream",
     "text": "] |   0% (500) |  1.7s"
    },
    {
     "name": "stdout",
     "output_type": "stream",
     "text": "\raudio_metadata: ["
    },
    {
     "name": "stdout",
     "output_type": "stream",
     "text": "                                                                                "
    },
    {
     "name": "stdout",
     "output_type": "stream",
     "text": "] |   0% (500) |  1.9s"
    },
    {
     "name": "stdout",
     "output_type": "stream",
     "text": "\raudio_metadata: ["
    },
    {
     "name": "stdout",
     "output_type": "stream",
     "text": "                                                                                "
    },
    {
     "name": "stdout",
     "output_type": "stream",
     "text": "] |   0% (500) |  2.1s"
    },
    {
     "name": "stdout",
     "output_type": "stream",
     "text": "\raudio_metadata: ["
    },
    {
     "name": "stdout",
     "output_type": "stream",
     "text": "                                                                                "
    },
    {
     "name": "stdout",
     "output_type": "stream",
     "text": "] |   0% (500) |  2.3s"
    },
    {
     "name": "stdout",
     "output_type": "stream",
     "text": "\raudio_metadata: ["
    },
    {
     "name": "stdout",
     "output_type": "stream",
     "text": "                                                                                "
    },
    {
     "name": "stdout",
     "output_type": "stream",
     "text": "] |   0% (500) |  2.5s"
    },
    {
     "name": "stdout",
     "output_type": "stream",
     "text": "\raudio_metadata: ["
    },
    {
     "name": "stdout",
     "output_type": "stream",
     "text": "                                                                                "
    },
    {
     "name": "stdout",
     "output_type": "stream",
     "text": "] |   0% (500) |  2.7s"
    },
    {
     "name": "stdout",
     "output_type": "stream",
     "text": "\raudio_metadata: ["
    },
    {
     "name": "stdout",
     "output_type": "stream",
     "text": "                                                                                "
    },
    {
     "name": "stdout",
     "output_type": "stream",
     "text": "] |   0% (500) |  2.8s"
    },
    {
     "name": "stdout",
     "output_type": "stream",
     "text": "\raudio_metadata: ["
    },
    {
     "name": "stdout",
     "output_type": "stream",
     "text": "                                                                                "
    },
    {
     "name": "stdout",
     "output_type": "stream",
     "text": "] |   0% (500) |  3.0s"
    },
    {
     "name": "stdout",
     "output_type": "stream",
     "text": "\raudio_metadata: ["
    },
    {
     "name": "stdout",
     "output_type": "stream",
     "text": "                                                                                "
    },
    {
     "name": "stdout",
     "output_type": "stream",
     "text": "] |   0% (500) |  3.2s"
    },
    {
     "name": "stdout",
     "output_type": "stream",
     "text": "\raudio_metadata: ["
    },
    {
     "name": "stdout",
     "output_type": "stream",
     "text": "                                                                                "
    },
    {
     "name": "stdout",
     "output_type": "stream",
     "text": "] |   0% (500) |  3.4s"
    },
    {
     "name": "stdout",
     "output_type": "stream",
     "text": "\raudio_metadata: ["
    },
    {
     "name": "stdout",
     "output_type": "stream",
     "text": "##                                                                              "
    },
    {
     "name": "stdout",
     "output_type": "stream",
     "text": "] |   2% (500) |  3.5s"
    },
    {
     "name": "stdout",
     "output_type": "stream",
     "text": "\raudio_metadata: ["
    },
    {
     "name": "stdout",
     "output_type": "stream",
     "text": "####                                                                            "
    },
    {
     "name": "stdout",
     "output_type": "stream",
     "text": "] |   5% (500) |  3.7s"
    },
    {
     "name": "stdout",
     "output_type": "stream",
     "text": "\raudio_metadata: ["
    },
    {
     "name": "stdout",
     "output_type": "stream",
     "text": "##############                                                                  "
    },
    {
     "name": "stdout",
     "output_type": "stream",
     "text": "] |  17% (500) |  3.9s"
    },
    {
     "name": "stdout",
     "output_type": "stream",
     "text": "\raudio_metadata: ["
    },
    {
     "name": "stdout",
     "output_type": "stream",
     "text": "################                                                                "
    },
    {
     "name": "stdout",
     "output_type": "stream",
     "text": "] |  20% (500) |  4.2s"
    },
    {
     "name": "stdout",
     "output_type": "stream",
     "text": "\raudio_metadata: ["
    },
    {
     "name": "stdout",
     "output_type": "stream",
     "text": "################                                                                "
    },
    {
     "name": "stdout",
     "output_type": "stream",
     "text": "] |  20% (500) |  4.4s"
    },
    {
     "name": "stdout",
     "output_type": "stream",
     "text": "\raudio_metadata: ["
    },
    {
     "name": "stdout",
     "output_type": "stream",
     "text": "################                                                                "
    },
    {
     "name": "stdout",
     "output_type": "stream",
     "text": "] |  20% (500) |  4.5s"
    },
    {
     "name": "stdout",
     "output_type": "stream",
     "text": "\raudio_metadata: ["
    },
    {
     "name": "stdout",
     "output_type": "stream",
     "text": "################                                                                "
    },
    {
     "name": "stdout",
     "output_type": "stream",
     "text": "] |  20% (500) |  4.7s"
    },
    {
     "name": "stdout",
     "output_type": "stream",
     "text": "\raudio_metadata: ["
    },
    {
     "name": "stdout",
     "output_type": "stream",
     "text": "################                                                                "
    },
    {
     "name": "stdout",
     "output_type": "stream",
     "text": "] |  20% (500) |  4.9s"
    },
    {
     "name": "stdout",
     "output_type": "stream",
     "text": "\raudio_metadata: ["
    },
    {
     "name": "stdout",
     "output_type": "stream",
     "text": "################                                                                "
    },
    {
     "name": "stdout",
     "output_type": "stream",
     "text": "] |  20% (500) |  5.1s"
    },
    {
     "name": "stdout",
     "output_type": "stream",
     "text": "\raudio_metadata: ["
    },
    {
     "name": "stdout",
     "output_type": "stream",
     "text": "################                                                                "
    },
    {
     "name": "stdout",
     "output_type": "stream",
     "text": "] |  20% (500) |  5.3s"
    },
    {
     "name": "stdout",
     "output_type": "stream",
     "text": "\raudio_metadata: ["
    },
    {
     "name": "stdout",
     "output_type": "stream",
     "text": "################                                                                "
    },
    {
     "name": "stdout",
     "output_type": "stream",
     "text": "] |  20% (500) |  5.4s"
    },
    {
     "name": "stdout",
     "output_type": "stream",
     "text": "\raudio_metadata: ["
    },
    {
     "name": "stdout",
     "output_type": "stream",
     "text": "################                                                                "
    },
    {
     "name": "stdout",
     "output_type": "stream",
     "text": "] |  20% (500) |  5.6s"
    },
    {
     "name": "stdout",
     "output_type": "stream",
     "text": "\raudio_metadata: ["
    },
    {
     "name": "stdout",
     "output_type": "stream",
     "text": "################                                                                "
    },
    {
     "name": "stdout",
     "output_type": "stream",
     "text": "] |  20% (500) |  5.8s"
    },
    {
     "name": "stdout",
     "output_type": "stream",
     "text": "\raudio_metadata: ["
    },
    {
     "name": "stdout",
     "output_type": "stream",
     "text": "################                                                                "
    },
    {
     "name": "stdout",
     "output_type": "stream",
     "text": "] |  20% (500) |  6.0s"
    },
    {
     "name": "stdout",
     "output_type": "stream",
     "text": "\raudio_metadata: ["
    },
    {
     "name": "stdout",
     "output_type": "stream",
     "text": "################                                                                "
    },
    {
     "name": "stdout",
     "output_type": "stream",
     "text": "] |  20% (500) |  6.1s"
    },
    {
     "name": "stdout",
     "output_type": "stream",
     "text": "\raudio_metadata: ["
    },
    {
     "name": "stdout",
     "output_type": "stream",
     "text": "################                                                                "
    },
    {
     "name": "stdout",
     "output_type": "stream",
     "text": "] |  20% (500) |  6.3s"
    },
    {
     "name": "stdout",
     "output_type": "stream",
     "text": "\raudio_metadata: ["
    },
    {
     "name": "stdout",
     "output_type": "stream",
     "text": "################                                                                "
    },
    {
     "name": "stdout",
     "output_type": "stream",
     "text": "] |  20% (500) |  6.5s"
    },
    {
     "name": "stdout",
     "output_type": "stream",
     "text": "\raudio_metadata: ["
    },
    {
     "name": "stdout",
     "output_type": "stream",
     "text": "################                                                                "
    },
    {
     "name": "stdout",
     "output_type": "stream",
     "text": "] |  20% (500) |  6.7s"
    },
    {
     "name": "stdout",
     "output_type": "stream",
     "text": "\raudio_metadata: ["
    },
    {
     "name": "stdout",
     "output_type": "stream",
     "text": "################                                                                "
    },
    {
     "name": "stdout",
     "output_type": "stream",
     "text": "] |  20% (500) |  6.9s"
    },
    {
     "name": "stdout",
     "output_type": "stream",
     "text": "\raudio_metadata: ["
    },
    {
     "name": "stdout",
     "output_type": "stream",
     "text": "################                                                                "
    },
    {
     "name": "stdout",
     "output_type": "stream",
     "text": "] |  20% (500) |  7.1s"
    },
    {
     "name": "stdout",
     "output_type": "stream",
     "text": "\raudio_metadata: ["
    },
    {
     "name": "stdout",
     "output_type": "stream",
     "text": "################                                                                "
    },
    {
     "name": "stdout",
     "output_type": "stream",
     "text": "] |  20% (500) |  7.2s"
    },
    {
     "name": "stdout",
     "output_type": "stream",
     "text": "\raudio_metadata: ["
    },
    {
     "name": "stdout",
     "output_type": "stream",
     "text": "################                                                                "
    },
    {
     "name": "stdout",
     "output_type": "stream",
     "text": "] |  20% (500) |  7.4s"
    },
    {
     "name": "stdout",
     "output_type": "stream",
     "text": "\raudio_metadata: ["
    },
    {
     "name": "stdout",
     "output_type": "stream",
     "text": "#################                                                               "
    },
    {
     "name": "stdout",
     "output_type": "stream",
     "text": "] |  21% (500) |  7.6s"
    },
    {
     "name": "stdout",
     "output_type": "stream",
     "text": "\raudio_metadata: ["
    },
    {
     "name": "stdout",
     "output_type": "stream",
     "text": "####################                                                            "
    },
    {
     "name": "stdout",
     "output_type": "stream",
     "text": "] |  25% (500) |  7.8s"
    },
    {
     "name": "stdout",
     "output_type": "stream",
     "text": "\raudio_metadata: ["
    },
    {
     "name": "stdout",
     "output_type": "stream",
     "text": "####################                                                            "
    },
    {
     "name": "stdout",
     "output_type": "stream",
     "text": "] |  25% (500) |  8.0s"
    },
    {
     "name": "stdout",
     "output_type": "stream",
     "text": "\raudio_metadata: ["
    },
    {
     "name": "stdout",
     "output_type": "stream",
     "text": "#########################                                                       "
    },
    {
     "name": "stdout",
     "output_type": "stream",
     "text": "] |  32% (500) |  8.1s"
    },
    {
     "name": "stdout",
     "output_type": "stream",
     "text": "\raudio_metadata: ["
    },
    {
     "name": "stdout",
     "output_type": "stream",
     "text": "################################                                                "
    },
    {
     "name": "stdout",
     "output_type": "stream",
     "text": "] |  41% (500) |  8.3s"
    },
    {
     "name": "stdout",
     "output_type": "stream",
     "text": "\raudio_metadata: ["
    },
    {
     "name": "stdout",
     "output_type": "stream",
     "text": "################################                                                "
    },
    {
     "name": "stdout",
     "output_type": "stream",
     "text": "] |  41% (500) |  8.5s"
    },
    {
     "name": "stdout",
     "output_type": "stream",
     "text": "\raudio_metadata: ["
    },
    {
     "name": "stdout",
     "output_type": "stream",
     "text": "################################                                                "
    },
    {
     "name": "stdout",
     "output_type": "stream",
     "text": "] |  41% (500) |  8.7s"
    },
    {
     "name": "stdout",
     "output_type": "stream",
     "text": "\raudio_metadata: ["
    },
    {
     "name": "stdout",
     "output_type": "stream",
     "text": "################################                                                "
    },
    {
     "name": "stdout",
     "output_type": "stream",
     "text": "] |  41% (500) |  8.9s"
    },
    {
     "name": "stdout",
     "output_type": "stream",
     "text": "\raudio_metadata: ["
    },
    {
     "name": "stdout",
     "output_type": "stream",
     "text": "################################                                                "
    },
    {
     "name": "stdout",
     "output_type": "stream",
     "text": "] |  41% (500) |  9.1s"
    },
    {
     "name": "stdout",
     "output_type": "stream",
     "text": "\raudio_metadata: ["
    },
    {
     "name": "stdout",
     "output_type": "stream",
     "text": "################################                                                "
    },
    {
     "name": "stdout",
     "output_type": "stream",
     "text": "] |  41% (500) |  9.3s"
    },
    {
     "name": "stdout",
     "output_type": "stream",
     "text": "\raudio_metadata: ["
    },
    {
     "name": "stdout",
     "output_type": "stream",
     "text": "################################                                                "
    },
    {
     "name": "stdout",
     "output_type": "stream",
     "text": "] |  41% (500) |  9.5s"
    },
    {
     "name": "stdout",
     "output_type": "stream",
     "text": "\raudio_metadata: ["
    },
    {
     "name": "stdout",
     "output_type": "stream",
     "text": "################################                                                "
    },
    {
     "name": "stdout",
     "output_type": "stream",
     "text": "] |  41% (500) |  9.7s"
    },
    {
     "name": "stdout",
     "output_type": "stream",
     "text": "\raudio_metadata: ["
    },
    {
     "name": "stdout",
     "output_type": "stream",
     "text": "################################                                                "
    },
    {
     "name": "stdout",
     "output_type": "stream",
     "text": "] |  41% (500) |  9.8s"
    },
    {
     "name": "stdout",
     "output_type": "stream",
     "text": "\raudio_metadata: ["
    },
    {
     "name": "stdout",
     "output_type": "stream",
     "text": "################################                                                "
    },
    {
     "name": "stdout",
     "output_type": "stream",
     "text": "] |  41% (500) | 10.0s"
    },
    {
     "name": "stdout",
     "output_type": "stream",
     "text": "\raudio_metadata: ["
    },
    {
     "name": "stdout",
     "output_type": "stream",
     "text": "################################                                                "
    },
    {
     "name": "stdout",
     "output_type": "stream",
     "text": "] |  41% (500) | 10.2s"
    },
    {
     "name": "stdout",
     "output_type": "stream",
     "text": "\raudio_metadata: ["
    },
    {
     "name": "stdout",
     "output_type": "stream",
     "text": "################################                                                "
    },
    {
     "name": "stdout",
     "output_type": "stream",
     "text": "] |  41% (500) | 10.4s"
    },
    {
     "name": "stdout",
     "output_type": "stream",
     "text": "\raudio_metadata: ["
    },
    {
     "name": "stdout",
     "output_type": "stream",
     "text": "################################                                                "
    },
    {
     "name": "stdout",
     "output_type": "stream",
     "text": "] |  41% (500) | 10.5s"
    },
    {
     "name": "stdout",
     "output_type": "stream",
     "text": "\raudio_metadata: ["
    },
    {
     "name": "stdout",
     "output_type": "stream",
     "text": "################################                                                "
    },
    {
     "name": "stdout",
     "output_type": "stream",
     "text": "] |  41% (500) | 10.7s"
    },
    {
     "name": "stdout",
     "output_type": "stream",
     "text": "\raudio_metadata: ["
    },
    {
     "name": "stdout",
     "output_type": "stream",
     "text": "################################                                                "
    },
    {
     "name": "stdout",
     "output_type": "stream",
     "text": "] |  41% (500) | 11.0s"
    },
    {
     "name": "stdout",
     "output_type": "stream",
     "text": "\raudio_metadata: ["
    },
    {
     "name": "stdout",
     "output_type": "stream",
     "text": "################################                                                "
    },
    {
     "name": "stdout",
     "output_type": "stream",
     "text": "] |  41% (500) | 11.1s"
    },
    {
     "name": "stdout",
     "output_type": "stream",
     "text": "\raudio_metadata: ["
    },
    {
     "name": "stdout",
     "output_type": "stream",
     "text": "################################                                                "
    },
    {
     "name": "stdout",
     "output_type": "stream",
     "text": "] |  41% (500) | 11.3s"
    },
    {
     "name": "stdout",
     "output_type": "stream",
     "text": "\raudio_metadata: ["
    },
    {
     "name": "stdout",
     "output_type": "stream",
     "text": "################################                                                "
    },
    {
     "name": "stdout",
     "output_type": "stream",
     "text": "] |  41% (500) | 11.5s"
    },
    {
     "name": "stdout",
     "output_type": "stream",
     "text": "\raudio_metadata: ["
    },
    {
     "name": "stdout",
     "output_type": "stream",
     "text": "################################                                                "
    },
    {
     "name": "stdout",
     "output_type": "stream",
     "text": "] |  41% (500) | 11.7s"
    },
    {
     "name": "stdout",
     "output_type": "stream",
     "text": "\raudio_metadata: ["
    },
    {
     "name": "stdout",
     "output_type": "stream",
     "text": "################################                                                "
    },
    {
     "name": "stdout",
     "output_type": "stream",
     "text": "] |  41% (500) | 11.9s"
    },
    {
     "name": "stdout",
     "output_type": "stream",
     "text": "\raudio_metadata: ["
    },
    {
     "name": "stdout",
     "output_type": "stream",
     "text": "##################################                                              "
    },
    {
     "name": "stdout",
     "output_type": "stream",
     "text": "] |  43% (500) | 12.1s"
    },
    {
     "name": "stdout",
     "output_type": "stream",
     "text": "\raudio_metadata: ["
    },
    {
     "name": "stdout",
     "output_type": "stream",
     "text": "####################################                                            "
    },
    {
     "name": "stdout",
     "output_type": "stream",
     "text": "] |  46% (500) | 12.3s"
    },
    {
     "name": "stdout",
     "output_type": "stream",
     "text": "\raudio_metadata: ["
    },
    {
     "name": "stdout",
     "output_type": "stream",
     "text": "####################################                                            "
    },
    {
     "name": "stdout",
     "output_type": "stream",
     "text": "] |  46% (500) | 12.5s"
    },
    {
     "name": "stdout",
     "output_type": "stream",
     "text": "\raudio_metadata: ["
    },
    {
     "name": "stdout",
     "output_type": "stream",
     "text": "#############################################                                   "
    },
    {
     "name": "stdout",
     "output_type": "stream",
     "text": "] |  56% (500) | 12.7s"
    },
    {
     "name": "stdout",
     "output_type": "stream",
     "text": "\raudio_metadata: ["
    },
    {
     "name": "stdout",
     "output_type": "stream",
     "text": "###############################################                                 "
    },
    {
     "name": "stdout",
     "output_type": "stream",
     "text": "] |  58% (500) | 12.9s"
    },
    {
     "name": "stdout",
     "output_type": "stream",
     "text": "\raudio_metadata: ["
    },
    {
     "name": "stdout",
     "output_type": "stream",
     "text": "#################################################                               "
    },
    {
     "name": "stdout",
     "output_type": "stream",
     "text": "] |  61% (500) | 13.1s"
    },
    {
     "name": "stdout",
     "output_type": "stream",
     "text": "\raudio_metadata: ["
    },
    {
     "name": "stdout",
     "output_type": "stream",
     "text": "#################################################                               "
    },
    {
     "name": "stdout",
     "output_type": "stream",
     "text": "] |  61% (500) | 13.3s"
    },
    {
     "name": "stdout",
     "output_type": "stream",
     "text": "\raudio_metadata: ["
    },
    {
     "name": "stdout",
     "output_type": "stream",
     "text": "#################################################                               "
    },
    {
     "name": "stdout",
     "output_type": "stream",
     "text": "] |  61% (500) | 13.5s"
    },
    {
     "name": "stdout",
     "output_type": "stream",
     "text": "\raudio_metadata: ["
    },
    {
     "name": "stdout",
     "output_type": "stream",
     "text": "#################################################                               "
    },
    {
     "name": "stdout",
     "output_type": "stream",
     "text": "] |  61% (500) | 13.6s"
    },
    {
     "name": "stdout",
     "output_type": "stream",
     "text": "\raudio_metadata: ["
    },
    {
     "name": "stdout",
     "output_type": "stream",
     "text": "#################################################                               "
    },
    {
     "name": "stdout",
     "output_type": "stream",
     "text": "] |  61% (500) | 13.8s"
    },
    {
     "name": "stdout",
     "output_type": "stream",
     "text": "\raudio_metadata: ["
    },
    {
     "name": "stdout",
     "output_type": "stream",
     "text": "#################################################                               "
    },
    {
     "name": "stdout",
     "output_type": "stream",
     "text": "] |  61% (500) | 14.0s"
    },
    {
     "name": "stdout",
     "output_type": "stream",
     "text": "\raudio_metadata: ["
    },
    {
     "name": "stdout",
     "output_type": "stream",
     "text": "#################################################                               "
    },
    {
     "name": "stdout",
     "output_type": "stream",
     "text": "] |  61% (500) | 14.2s"
    },
    {
     "name": "stdout",
     "output_type": "stream",
     "text": "\raudio_metadata: ["
    },
    {
     "name": "stdout",
     "output_type": "stream",
     "text": "#################################################                               "
    },
    {
     "name": "stdout",
     "output_type": "stream",
     "text": "] |  61% (500) | 14.4s"
    },
    {
     "name": "stdout",
     "output_type": "stream",
     "text": "\raudio_metadata: ["
    },
    {
     "name": "stdout",
     "output_type": "stream",
     "text": "#################################################                               "
    },
    {
     "name": "stdout",
     "output_type": "stream",
     "text": "] |  61% (500) | 14.6s"
    },
    {
     "name": "stdout",
     "output_type": "stream",
     "text": "\raudio_metadata: ["
    },
    {
     "name": "stdout",
     "output_type": "stream",
     "text": "#################################################                               "
    },
    {
     "name": "stdout",
     "output_type": "stream",
     "text": "] |  61% (500) | 14.8s"
    },
    {
     "name": "stdout",
     "output_type": "stream",
     "text": "\raudio_metadata: ["
    },
    {
     "name": "stdout",
     "output_type": "stream",
     "text": "#################################################                               "
    },
    {
     "name": "stdout",
     "output_type": "stream",
     "text": "] |  61% (500) | 15.0s"
    },
    {
     "name": "stdout",
     "output_type": "stream",
     "text": "\raudio_metadata: ["
    },
    {
     "name": "stdout",
     "output_type": "stream",
     "text": "#################################################                               "
    },
    {
     "name": "stdout",
     "output_type": "stream",
     "text": "] |  61% (500) | 15.1s"
    },
    {
     "name": "stdout",
     "output_type": "stream",
     "text": "\raudio_metadata: ["
    },
    {
     "name": "stdout",
     "output_type": "stream",
     "text": "#################################################                               "
    },
    {
     "name": "stdout",
     "output_type": "stream",
     "text": "] |  61% (500) | 15.4s"
    },
    {
     "name": "stdout",
     "output_type": "stream",
     "text": "\raudio_metadata: ["
    },
    {
     "name": "stdout",
     "output_type": "stream",
     "text": "#################################################                               "
    },
    {
     "name": "stdout",
     "output_type": "stream",
     "text": "] |  61% (500) | 15.6s"
    },
    {
     "name": "stdout",
     "output_type": "stream",
     "text": "\raudio_metadata: ["
    },
    {
     "name": "stdout",
     "output_type": "stream",
     "text": "#################################################                               "
    },
    {
     "name": "stdout",
     "output_type": "stream",
     "text": "] |  61% (500) | 15.8s"
    },
    {
     "name": "stdout",
     "output_type": "stream",
     "text": "\raudio_metadata: ["
    },
    {
     "name": "stdout",
     "output_type": "stream",
     "text": "#################################################                               "
    },
    {
     "name": "stdout",
     "output_type": "stream",
     "text": "] |  61% (500) | 16.0s"
    },
    {
     "name": "stdout",
     "output_type": "stream",
     "text": "\raudio_metadata: ["
    },
    {
     "name": "stdout",
     "output_type": "stream",
     "text": "#################################################                               "
    },
    {
     "name": "stdout",
     "output_type": "stream",
     "text": "] |  61% (500) | 16.2s"
    },
    {
     "name": "stdout",
     "output_type": "stream",
     "text": "\raudio_metadata: ["
    },
    {
     "name": "stdout",
     "output_type": "stream",
     "text": "#################################################                               "
    },
    {
     "name": "stdout",
     "output_type": "stream",
     "text": "] |  61% (500) | 16.4s"
    },
    {
     "name": "stdout",
     "output_type": "stream",
     "text": "\raudio_metadata: ["
    },
    {
     "name": "stdout",
     "output_type": "stream",
     "text": "###################################################                             "
    },
    {
     "name": "stdout",
     "output_type": "stream",
     "text": "] |  64% (500) | 16.6s"
    },
    {
     "name": "stdout",
     "output_type": "stream",
     "text": "\raudio_metadata: ["
    },
    {
     "name": "stdout",
     "output_type": "stream",
     "text": "#####################################################                           "
    },
    {
     "name": "stdout",
     "output_type": "stream",
     "text": "] |  66% (500) | 16.8s"
    },
    {
     "name": "stdout",
     "output_type": "stream",
     "text": "\raudio_metadata: ["
    },
    {
     "name": "stdout",
     "output_type": "stream",
     "text": "######################################################                          "
    },
    {
     "name": "stdout",
     "output_type": "stream",
     "text": "] |  67% (500) | 16.9s"
    },
    {
     "name": "stdout",
     "output_type": "stream",
     "text": "\raudio_metadata: ["
    },
    {
     "name": "stdout",
     "output_type": "stream",
     "text": "#########################################################                       "
    },
    {
     "name": "stdout",
     "output_type": "stream",
     "text": "] |  71% (500) | 17.1s"
    },
    {
     "name": "stdout",
     "output_type": "stream",
     "text": "\raudio_metadata: ["
    },
    {
     "name": "stdout",
     "output_type": "stream",
     "text": "###########################################################                     "
    },
    {
     "name": "stdout",
     "output_type": "stream",
     "text": "] |  74% (500) | 17.3s"
    },
    {
     "name": "stdout",
     "output_type": "stream",
     "text": "\raudio_metadata: ["
    },
    {
     "name": "stdout",
     "output_type": "stream",
     "text": "#############################################################                   "
    },
    {
     "name": "stdout",
     "output_type": "stream",
     "text": "] |  76% (500) | 17.5s"
    },
    {
     "name": "stdout",
     "output_type": "stream",
     "text": "\raudio_metadata: ["
    },
    {
     "name": "stdout",
     "output_type": "stream",
     "text": "##############################################################                  "
    },
    {
     "name": "stdout",
     "output_type": "stream",
     "text": "] |  78% (500) | 17.6s"
    },
    {
     "name": "stdout",
     "output_type": "stream",
     "text": "\raudio_metadata: ["
    },
    {
     "name": "stdout",
     "output_type": "stream",
     "text": "###############################################################                 "
    },
    {
     "name": "stdout",
     "output_type": "stream",
     "text": "] |  79% (500) | 17.8s"
    },
    {
     "name": "stdout",
     "output_type": "stream",
     "text": "\raudio_metadata: ["
    },
    {
     "name": "stdout",
     "output_type": "stream",
     "text": "#################################################################               "
    },
    {
     "name": "stdout",
     "output_type": "stream",
     "text": "] |  82% (500) | 18.0s"
    },
    {
     "name": "stdout",
     "output_type": "stream",
     "text": "\raudio_metadata: ["
    },
    {
     "name": "stdout",
     "output_type": "stream",
     "text": "#################################################################               "
    },
    {
     "name": "stdout",
     "output_type": "stream",
     "text": "] |  82% (500) | 18.2s"
    },
    {
     "name": "stdout",
     "output_type": "stream",
     "text": "\raudio_metadata: ["
    },
    {
     "name": "stdout",
     "output_type": "stream",
     "text": "#################################################################               "
    },
    {
     "name": "stdout",
     "output_type": "stream",
     "text": "] |  82% (500) | 18.4s"
    },
    {
     "name": "stdout",
     "output_type": "stream",
     "text": "\raudio_metadata: ["
    },
    {
     "name": "stdout",
     "output_type": "stream",
     "text": "#################################################################               "
    },
    {
     "name": "stdout",
     "output_type": "stream",
     "text": "] |  82% (500) | 18.6s"
    },
    {
     "name": "stdout",
     "output_type": "stream",
     "text": "\raudio_metadata: ["
    },
    {
     "name": "stdout",
     "output_type": "stream",
     "text": "#################################################################               "
    },
    {
     "name": "stdout",
     "output_type": "stream",
     "text": "] |  82% (500) | 18.7s"
    },
    {
     "name": "stdout",
     "output_type": "stream",
     "text": "\raudio_metadata: ["
    },
    {
     "name": "stdout",
     "output_type": "stream",
     "text": "#################################################################               "
    },
    {
     "name": "stdout",
     "output_type": "stream",
     "text": "] |  82% (500) | 18.9s"
    },
    {
     "name": "stdout",
     "output_type": "stream",
     "text": "\raudio_metadata: ["
    },
    {
     "name": "stdout",
     "output_type": "stream",
     "text": "#################################################################               "
    },
    {
     "name": "stdout",
     "output_type": "stream",
     "text": "] |  82% (500) | 19.0s"
    },
    {
     "name": "stdout",
     "output_type": "stream",
     "text": "\raudio_metadata: ["
    },
    {
     "name": "stdout",
     "output_type": "stream",
     "text": "#################################################################               "
    },
    {
     "name": "stdout",
     "output_type": "stream",
     "text": "] |  82% (500) | 19.2s"
    },
    {
     "name": "stdout",
     "output_type": "stream",
     "text": "\raudio_metadata: ["
    },
    {
     "name": "stdout",
     "output_type": "stream",
     "text": "#################################################################               "
    },
    {
     "name": "stdout",
     "output_type": "stream",
     "text": "] |  82% (500) | 19.3s"
    },
    {
     "name": "stdout",
     "output_type": "stream",
     "text": "\raudio_metadata: ["
    },
    {
     "name": "stdout",
     "output_type": "stream",
     "text": "#################################################################               "
    },
    {
     "name": "stdout",
     "output_type": "stream",
     "text": "] |  82% (500) | 19.5s"
    },
    {
     "name": "stdout",
     "output_type": "stream",
     "text": "\raudio_metadata: ["
    },
    {
     "name": "stdout",
     "output_type": "stream",
     "text": "#################################################################               "
    },
    {
     "name": "stdout",
     "output_type": "stream",
     "text": "] |  82% (500) | 19.7s"
    },
    {
     "name": "stdout",
     "output_type": "stream",
     "text": "\raudio_metadata: ["
    },
    {
     "name": "stdout",
     "output_type": "stream",
     "text": "###################################################################             "
    },
    {
     "name": "stdout",
     "output_type": "stream",
     "text": "] |  84% (500) | 19.9s"
    },
    {
     "name": "stdout",
     "output_type": "stream",
     "text": "\raudio_metadata: ["
    },
    {
     "name": "stdout",
     "output_type": "stream",
     "text": "###################################################################             "
    },
    {
     "name": "stdout",
     "output_type": "stream",
     "text": "] |  84% (500) | 20.0s"
    },
    {
     "name": "stdout",
     "output_type": "stream",
     "text": "\raudio_metadata: ["
    },
    {
     "name": "stdout",
     "output_type": "stream",
     "text": "###################################################################             "
    },
    {
     "name": "stdout",
     "output_type": "stream",
     "text": "] |  84% (500) | 20.2s"
    },
    {
     "name": "stdout",
     "output_type": "stream",
     "text": "\raudio_metadata: ["
    },
    {
     "name": "stdout",
     "output_type": "stream",
     "text": "###################################################################             "
    },
    {
     "name": "stdout",
     "output_type": "stream",
     "text": "] |  84% (500) | 20.3s"
    },
    {
     "name": "stdout",
     "output_type": "stream",
     "text": "\raudio_metadata: ["
    },
    {
     "name": "stdout",
     "output_type": "stream",
     "text": "###################################################################             "
    },
    {
     "name": "stdout",
     "output_type": "stream",
     "text": "] |  84% (500) | 20.5s"
    },
    {
     "name": "stdout",
     "output_type": "stream",
     "text": "\raudio_metadata: ["
    },
    {
     "name": "stdout",
     "output_type": "stream",
     "text": "#####################################################################           "
    },
    {
     "name": "stdout",
     "output_type": "stream",
     "text": "] |  87% (500) | 20.7s"
    },
    {
     "name": "stdout",
     "output_type": "stream",
     "text": "\raudio_metadata: ["
    },
    {
     "name": "stdout",
     "output_type": "stream",
     "text": "#######################################################################         "
    },
    {
     "name": "stdout",
     "output_type": "stream",
     "text": "] |  89% (500) | 20.8s"
    },
    {
     "name": "stdout",
     "output_type": "stream",
     "text": "\raudio_metadata: ["
    },
    {
     "name": "stdout",
     "output_type": "stream",
     "text": "###########################################################################     "
    },
    {
     "name": "stdout",
     "output_type": "stream",
     "text": "] |  94% (500) | 21.0s"
    },
    {
     "name": "stdout",
     "output_type": "stream",
     "text": "\raudio_metadata: ["
    },
    {
     "name": "stdout",
     "output_type": "stream",
     "text": "################################################################################"
    },
    {
     "name": "stdout",
     "output_type": "stream",
     "text": "] | 100% (500) | 21.1s"
    },
    {
     "name": "stdout",
     "output_type": "stream",
     "text": "\n"
    },
    {
     "name": "stdout",
     "output_type": "stream",
     "text": "\rf_preds: ["
    },
    {
     "name": "stdout",
     "output_type": "stream",
     "text": "                                                                                       "
    },
    {
     "name": "stdout",
     "output_type": "stream",
     "text": "] |   0% (500) |  0.0s"
    },
    {
     "name": "stdout",
     "output_type": "stream",
     "text": "\rf_preds: ["
    },
    {
     "name": "stdout",
     "output_type": "stream",
     "text": "                                                                                       "
    },
    {
     "name": "stdout",
     "output_type": "stream",
     "text": "] |   0% (500) |  0.1s"
    },
    {
     "name": "stdout",
     "output_type": "stream",
     "text": "\rf_preds: ["
    },
    {
     "name": "stdout",
     "output_type": "stream",
     "text": "                                                                                       "
    },
    {
     "name": "stdout",
     "output_type": "stream",
     "text": "] |   0% (500) |  0.2s"
    },
    {
     "name": "stdout",
     "output_type": "stream",
     "text": "\rf_preds: ["
    },
    {
     "name": "stdout",
     "output_type": "stream",
     "text": "                                                                                       "
    },
    {
     "name": "stdout",
     "output_type": "stream",
     "text": "] |   0% (500) |  0.3s"
    },
    {
     "name": "stdout",
     "output_type": "stream",
     "text": "\rf_preds: ["
    },
    {
     "name": "stdout",
     "output_type": "stream",
     "text": "#######################################################################################"
    },
    {
     "name": "stdout",
     "output_type": "stream",
     "text": "] | 100% (500) |  0.5s"
    },
    {
     "name": "stdout",
     "output_type": "stream",
     "text": "\n"
    },
    {
     "name": "stderr",
     "output_type": "stream",
     "text": "\rrec_spectro_bytes:   0%|                                                                       | 0/500 [00:00<?, ?it/s]"
    },
    {
     "name": "stderr",
     "output_type": "stream",
     "text": "\rrec_spectro_bytes:   6%|███▉                                                         | 32/500 [00:00<00:01, 315.48it/s]"
    },
    {
     "name": "stderr",
     "output_type": "stream",
     "text": "\rrec_spectro_bytes:  13%|███████▉                                                     | 65/500 [00:00<00:01, 321.49it/s]"
    },
    {
     "name": "stderr",
     "output_type": "stream",
     "text": "\rrec_spectro_bytes:  20%|███████████▉                                                 | 98/500 [00:00<00:01, 323.04it/s]"
    },
    {
     "name": "stderr",
     "output_type": "stream",
     "text": "\rrec_spectro_bytes:  26%|███████████████▊                                            | 132/500 [00:00<00:01, 325.60it/s]"
    },
    {
     "name": "stderr",
     "output_type": "stream",
     "text": "\rrec_spectro_bytes:  33%|████████████████████                                        | 167/500 [00:00<00:01, 329.40it/s]"
    },
    {
     "name": "stderr",
     "output_type": "stream",
     "text": "\rrec_spectro_bytes:  40%|████████████████████████                                    | 201/500 [00:00<00:00, 329.36it/s]"
    },
    {
     "name": "stderr",
     "output_type": "stream",
     "text": "\rrec_spectro_bytes:  47%|████████████████████████████▎                               | 236/500 [00:00<00:00, 331.21it/s]"
    },
    {
     "name": "stderr",
     "output_type": "stream",
     "text": "\rrec_spectro_bytes:  54%|████████████████████████████████▋                           | 272/500 [00:00<00:00, 334.31it/s]"
    },
    {
     "name": "stderr",
     "output_type": "stream",
     "text": "\rrec_spectro_bytes:  61%|████████████████████████████████████▋                       | 306/500 [00:00<00:00, 334.80it/s]"
    },
    {
     "name": "stderr",
     "output_type": "stream",
     "text": "\rrec_spectro_bytes:  68%|████████████████████████████████████████▉                   | 341/500 [00:01<00:00, 335.98it/s]"
    },
    {
     "name": "stderr",
     "output_type": "stream",
     "text": "\rrec_spectro_bytes:  75%|█████████████████████████████████████████████               | 375/500 [00:01<00:00, 335.04it/s]"
    },
    {
     "name": "stderr",
     "output_type": "stream",
     "text": "\rrec_spectro_bytes:  82%|█████████████████████████████████████████████████▏          | 410/500 [00:01<00:00, 336.18it/s]"
    },
    {
     "name": "stderr",
     "output_type": "stream",
     "text": "\rrec_spectro_bytes:  89%|█████████████████████████████████████████████████████▍      | 445/500 [00:01<00:00, 337.11it/s]"
    },
    {
     "name": "stderr",
     "output_type": "stream",
     "text": "\rrec_spectro_bytes:  96%|█████████████████████████████████████████████████████████▍  | 479/500 [00:01<00:00, 337.18it/s]"
    },
    {
     "name": "stderr",
     "output_type": "stream",
     "text": "\rrec_spectro_bytes: 100%|████████████████████████████████████████████████████████████| 500/500 [00:01<00:00, 337.78it/s]"
    },
    {
     "name": "stderr",
     "output_type": "stream",
     "text": "\n"
    },
    {
     "name": "stdout",
     "output_type": "stream",
     "text": "INFO     [12:55:58.801] [38842] 925 api.recs/recs_featurize_spectro_bytes: [1.490s]"
    },
    {
     "name": "stdout",
     "output_type": "stream",
     "text": "\n"
    },
    {
     "name": "stdout",
     "output_type": "stream",
     "text": "\raudio_bytes: ["
    },
    {
     "name": "stdout",
     "output_type": "stream",
     "text": "                                                                                   "
    },
    {
     "name": "stdout",
     "output_type": "stream",
     "text": "] |   0% (500) |  0.0s"
    },
    {
     "name": "stdout",
     "output_type": "stream",
     "text": "\raudio_bytes: ["
    },
    {
     "name": "stdout",
     "output_type": "stream",
     "text": "####################################################################               "
    },
    {
     "name": "stdout",
     "output_type": "stream",
     "text": "] |  82% (500) |  0.1s"
    },
    {
     "name": "stdout",
     "output_type": "stream",
     "text": "\raudio_bytes: ["
    },
    {
     "name": "stdout",
     "output_type": "stream",
     "text": "###################################################################################"
    },
    {
     "name": "stdout",
     "output_type": "stream",
     "text": "] | 100% (500) |  0.2s"
    },
    {
     "name": "stdout",
     "output_type": "stream",
     "text": "\n"
    },
    {
     "name": "stdout",
     "output_type": "stream",
     "text": "INFO     [12:55:59.055] [38842] 999 api.recs/recs_featurize_audio_bytes: [0.240s]"
    },
    {
     "name": "stdout",
     "output_type": "stream",
     "text": "\n"
    },
    {
     "name": "stdout",
     "output_type": "stream",
     "text": "INFO     [12:55:59.067] [38842] 687 api.recs/recs_featurize_pre_rank: batches (7/7) [23.732s]"
    },
    {
     "name": "stdout",
     "output_type": "stream",
     "text": "\n"
    },
    {
     "name": "stdout",
     "output_type": "stream",
     "text": "INFO     [12:55:59.163] [38842]  83 payloads/df_cache_hybrid: Compute: search_recs [149.288s]"
    },
    {
     "name": "stdout",
     "output_type": "stream",
     "text": "\n"
    },
    {
     "name": "stdout",
     "output_type": "stream",
     "text": "DEBUG    [12:55:59.175] [38842]  87 payloads/df_cache_hybrid: Miss: search_recs ..."
    },
    {
     "name": "stdout",
     "output_type": "stream",
     "text": "\n"
    },
    {
     "name": "stdout",
     "output_type": "stream",
     "text": "INFO     [12:55:59.200] [38842] 101 payloads/df_cache_hybrid: Miss: Inferred feat_cols['f_preds', 'feat']"
    },
    {
     "name": "stdout",
     "output_type": "stream",
     "text": "\n"
    },
    {
     "name": "stdout",
     "output_type": "stream",
     "text": "DEBUG    [12:55:59.213] [38842] 104 payloads/df_cache_hybrid: Miss: Write api/lite.parquet ..."
    },
    {
     "name": "stdout",
     "output_type": "stream",
     "text": "\n"
    },
    {
     "name": "stdout",
     "output_type": "stream",
     "text": "INFO     [12:56:00.111] [38842] 109 payloads/df_cache_hybrid: Miss: Write api/lite.parquet [5.1 MB, 0.898s]"
    },
    {
     "name": "stdout",
     "output_type": "stream",
     "text": "\n"
    },
    {
     "name": "stdout",
     "output_type": "stream",
     "text": "DEBUG    [12:56:00.130] [38842] 113 payloads/df_cache_hybrid: Miss: Write api/bytes-audio_bytes.parquet ..."
    },
    {
     "name": "stdout",
     "output_type": "stream",
     "text": "\n"
    },
    {
     "name": "stdout",
     "output_type": "stream",
     "text": "INFO     [12:56:00.778] [38842] 118 payloads/df_cache_hybrid: Miss: Write api/bytes-audio_bytes.parquet [142.0 MB, 0.648s]"
    },
    {
     "name": "stdout",
     "output_type": "stream",
     "text": "\n"
    },
    {
     "name": "stdout",
     "output_type": "stream",
     "text": "DEBUG    [12:56:00.792] [38842] 113 payloads/df_cache_hybrid: Miss: Write api/bytes-spectro_bytes.parquet ..."
    },
    {
     "name": "stdout",
     "output_type": "stream",
     "text": "\n"
    },
    {
     "name": "stdout",
     "output_type": "stream",
     "text": "INFO     [12:56:00.957] [38842] 118 payloads/df_cache_hybrid: Miss: Write api/bytes-spectro_bytes.parquet [38.5 MB, 0.165s]"
    },
    {
     "name": "stdout",
     "output_type": "stream",
     "text": "\n"
    },
    {
     "name": "stdout",
     "output_type": "stream",
     "text": "DEBUG    [12:56:00.979] [38842] 123 payloads/df_cache_hybrid: Miss: Write api/feat-f_preds.npy: float32 ..."
    },
    {
     "name": "stdout",
     "output_type": "stream",
     "text": "\n"
    },
    {
     "name": "stdout",
     "output_type": "stream",
     "text": "INFO     [12:56:00.990] [38842] 125 payloads/df_cache_hybrid: Miss: Write api/feat-f_preds.npy: float32 [4.6 MB, 0.011s]"
    },
    {
     "name": "stdout",
     "output_type": "stream",
     "text": "\n"
    },
    {
     "name": "stdout",
     "output_type": "stream",
     "text": "DEBUG    [12:56:01.016] [38842] 123 payloads/df_cache_hybrid: Miss: Write api/feat-feat.npy: float32 ..."
    },
    {
     "name": "stdout",
     "output_type": "stream",
     "text": "\n"
    },
    {
     "name": "stdout",
     "output_type": "stream",
     "text": "INFO     [12:56:01.063] [38842] 125 payloads/df_cache_hybrid: Miss: Write api/feat-feat.npy: float32 [21.0 MB, 0.047s]"
    },
    {
     "name": "stdout",
     "output_type": "stream",
     "text": "\n"
    },
    {
     "name": "stdout",
     "output_type": "stream",
     "text": "INFO     [12:56:01.072] [38842] 143 payloads/df_cache_hybrid: Miss: search_recs [1.898s]"
    },
    {
     "name": "stdout",
     "output_type": "stream",
     "text": "\n"
    },
    {
     "name": "stdout",
     "output_type": "stream",
     "text": "DEBUG    [12:56:01.088] [38842] 208 payloads/df_cache_hybrid: Mobile: Write payload ..."
    },
    {
     "name": "stdout",
     "output_type": "stream",
     "text": "\n"
    },
    {
     "name": "stdout",
     "output_type": "stream",
     "text": "\rMobile: Ensure dirs: audio_bytes: ["
    },
    {
     "name": "stdout",
     "output_type": "stream",
     "text": "                                                              "
    },
    {
     "name": "stdout",
     "output_type": "stream",
     "text": "] |   0% (305) |  0.0s"
    },
    {
     "name": "stdout",
     "output_type": "stream",
     "text": "\rMobile: Ensure dirs: audio_bytes: ["
    },
    {
     "name": "stdout",
     "output_type": "stream",
     "text": "##############################################################"
    },
    {
     "name": "stdout",
     "output_type": "stream",
     "text": "] | 100% (305) |  0.1s"
    },
    {
     "name": "stdout",
     "output_type": "stream",
     "text": "\n"
    },
    {
     "name": "stdout",
     "output_type": "stream",
     "text": "\rMobile: Write files: audio_bytes: ["
    },
    {
     "name": "stdout",
     "output_type": "stream",
     "text": "                                                             "
    },
    {
     "name": "stdout",
     "output_type": "stream",
     "text": "] |   0% (3500) |  0.0s"
    },
    {
     "name": "stdout",
     "output_type": "stream",
     "text": "\rMobile: Write files: audio_bytes: ["
    },
    {
     "name": "stdout",
     "output_type": "stream",
     "text": "                                                             "
    },
    {
     "name": "stdout",
     "output_type": "stream",
     "text": "] |   0% (3500) |  0.1s"
    },
    {
     "name": "stdout",
     "output_type": "stream",
     "text": "\rMobile: Write files: audio_bytes: ["
    },
    {
     "name": "stdout",
     "output_type": "stream",
     "text": "######                                                       "
    },
    {
     "name": "stdout",
     "output_type": "stream",
     "text": "] |  10% (3500) |  0.2s"
    },
    {
     "name": "stdout",
     "output_type": "stream",
     "text": "\rMobile: Write files: audio_bytes: ["
    },
    {
     "name": "stdout",
     "output_type": "stream",
     "text": "############                                                 "
    },
    {
     "name": "stdout",
     "output_type": "stream",
     "text": "] |  20% (3500) |  0.3s"
    },
    {
     "name": "stdout",
     "output_type": "stream",
     "text": "\rMobile: Write files: audio_bytes: ["
    },
    {
     "name": "stdout",
     "output_type": "stream",
     "text": "#################                                            "
    },
    {
     "name": "stdout",
     "output_type": "stream",
     "text": "] |  28% (3500) |  0.5s"
    },
    {
     "name": "stdout",
     "output_type": "stream",
     "text": "\rMobile: Write files: audio_bytes: ["
    },
    {
     "name": "stdout",
     "output_type": "stream",
     "text": "########################                                     "
    },
    {
     "name": "stdout",
     "output_type": "stream",
     "text": "] |  40% (3500) |  0.6s"
    },
    {
     "name": "stdout",
     "output_type": "stream",
     "text": "\rMobile: Write files: audio_bytes: ["
    },
    {
     "name": "stdout",
     "output_type": "stream",
     "text": "########################                                     "
    },
    {
     "name": "stdout",
     "output_type": "stream",
     "text": "] |  40% (3500) |  0.7s"
    },
    {
     "name": "stdout",
     "output_type": "stream",
     "text": "\rMobile: Write files: audio_bytes: ["
    },
    {
     "name": "stdout",
     "output_type": "stream",
     "text": "####################################                         "
    },
    {
     "name": "stdout",
     "output_type": "stream",
     "text": "] |  60% (3500) |  0.8s"
    },
    {
     "name": "stdout",
     "output_type": "stream",
     "text": "\rMobile: Write files: audio_bytes: ["
    },
    {
     "name": "stdout",
     "output_type": "stream",
     "text": "####################################                         "
    },
    {
     "name": "stdout",
     "output_type": "stream",
     "text": "] |  60% (3500) |  0.9s"
    },
    {
     "name": "stdout",
     "output_type": "stream",
     "text": "\rMobile: Write files: audio_bytes: ["
    },
    {
     "name": "stdout",
     "output_type": "stream",
     "text": "################################################             "
    },
    {
     "name": "stdout",
     "output_type": "stream",
     "text": "] |  80% (3500) |  1.0s"
    },
    {
     "name": "stdout",
     "output_type": "stream",
     "text": "\rMobile: Write files: audio_bytes: ["
    },
    {
     "name": "stdout",
     "output_type": "stream",
     "text": "################################################             "
    },
    {
     "name": "stdout",
     "output_type": "stream",
     "text": "] |  80% (3500) |  1.1s"
    },
    {
     "name": "stdout",
     "output_type": "stream",
     "text": "\rMobile: Write files: audio_bytes: ["
    },
    {
     "name": "stdout",
     "output_type": "stream",
     "text": "#############################################################"
    },
    {
     "name": "stdout",
     "output_type": "stream",
     "text": "] | 100% (3500) |  1.3s"
    },
    {
     "name": "stdout",
     "output_type": "stream",
     "text": "\n"
    },
    {
     "name": "stdout",
     "output_type": "stream",
     "text": "\rMobile: Ensure dirs: spectro_bytes: ["
    },
    {
     "name": "stdout",
     "output_type": "stream",
     "text": "                                                            "
    },
    {
     "name": "stdout",
     "output_type": "stream",
     "text": "] |   0% (305) |  0.0s"
    },
    {
     "name": "stdout",
     "output_type": "stream",
     "text": "\rMobile: Ensure dirs: spectro_bytes: ["
    },
    {
     "name": "stdout",
     "output_type": "stream",
     "text": "############################################################"
    },
    {
     "name": "stdout",
     "output_type": "stream",
     "text": "] | 100% (305) |  0.1s"
    },
    {
     "name": "stdout",
     "output_type": "stream",
     "text": "\n"
    },
    {
     "name": "stdout",
     "output_type": "stream",
     "text": "\rMobile: Write files: spectro_bytes: ["
    },
    {
     "name": "stdout",
     "output_type": "stream",
     "text": "                                                           "
    },
    {
     "name": "stdout",
     "output_type": "stream",
     "text": "] |   0% (3500) |  0.0s"
    },
    {
     "name": "stdout",
     "output_type": "stream",
     "text": "\rMobile: Write files: spectro_bytes: ["
    },
    {
     "name": "stdout",
     "output_type": "stream",
     "text": "                                                           "
    },
    {
     "name": "stdout",
     "output_type": "stream",
     "text": "] |   0% (3500) |  0.1s"
    },
    {
     "name": "stdout",
     "output_type": "stream",
     "text": "\rMobile: Write files: spectro_bytes: ["
    },
    {
     "name": "stdout",
     "output_type": "stream",
     "text": "###########                                                "
    },
    {
     "name": "stdout",
     "output_type": "stream",
     "text": "] |  20% (3500) |  0.2s"
    },
    {
     "name": "stdout",
     "output_type": "stream",
     "text": "\rMobile: Write files: spectro_bytes: ["
    },
    {
     "name": "stdout",
     "output_type": "stream",
     "text": "###########                                                "
    },
    {
     "name": "stdout",
     "output_type": "stream",
     "text": "] |  20% (3500) |  0.3s"
    },
    {
     "name": "stdout",
     "output_type": "stream",
     "text": "\rMobile: Write files: spectro_bytes: ["
    },
    {
     "name": "stdout",
     "output_type": "stream",
     "text": "#######################                                    "
    },
    {
     "name": "stdout",
     "output_type": "stream",
     "text": "] |  40% (3500) |  0.5s"
    },
    {
     "name": "stdout",
     "output_type": "stream",
     "text": "\rMobile: Write files: spectro_bytes: ["
    },
    {
     "name": "stdout",
     "output_type": "stream",
     "text": "#################################                          "
    },
    {
     "name": "stdout",
     "output_type": "stream",
     "text": "] |  57% (3500) |  0.6s"
    },
    {
     "name": "stdout",
     "output_type": "stream",
     "text": "\rMobile: Write files: spectro_bytes: ["
    },
    {
     "name": "stdout",
     "output_type": "stream",
     "text": "###################################                        "
    },
    {
     "name": "stdout",
     "output_type": "stream",
     "text": "] |  60% (3500) |  0.7s"
    },
    {
     "name": "stdout",
     "output_type": "stream",
     "text": "\rMobile: Write files: spectro_bytes: ["
    },
    {
     "name": "stdout",
     "output_type": "stream",
     "text": "###############################################            "
    },
    {
     "name": "stdout",
     "output_type": "stream",
     "text": "] |  80% (3500) |  0.8s"
    },
    {
     "name": "stdout",
     "output_type": "stream",
     "text": "\rMobile: Write files: spectro_bytes: ["
    },
    {
     "name": "stdout",
     "output_type": "stream",
     "text": "######################################################     "
    },
    {
     "name": "stdout",
     "output_type": "stream",
     "text": "] |  92% (3500) |  0.9s"
    },
    {
     "name": "stdout",
     "output_type": "stream",
     "text": "\rMobile: Write files: spectro_bytes: ["
    },
    {
     "name": "stdout",
     "output_type": "stream",
     "text": "###########################################################"
    },
    {
     "name": "stdout",
     "output_type": "stream",
     "text": "] | 100% (3500) |  1.0s"
    },
    {
     "name": "stdout",
     "output_type": "stream",
     "text": "\n"
    },
    {
     "name": "stdout",
     "output_type": "stream",
     "text": "DEBUG    [12:56:05.326] [38842] 272 payloads/df_cache_hybrid: Mobile: Expand feat col: f_preds (331) ..."
    },
    {
     "name": "stdout",
     "output_type": "stream",
     "text": "\n"
    },
    {
     "name": "stdout",
     "output_type": "stream",
     "text": "INFO     [12:56:05.989] [38842] 274 payloads/df_cache_hybrid: Mobile: Expand feat col: f_preds (331) [0.663s]"
    },
    {
     "name": "stdout",
     "output_type": "stream",
     "text": "\n"
    },
    {
     "name": "stdout",
     "output_type": "stream",
     "text": "DEBUG    [12:56:06.030] [38842] 307 payloads/<dictcomp>: Mobile: Covert non-sql col: json_dumps_canonical(background) (3500) ..."
    },
    {
     "name": "stdout",
     "output_type": "stream",
     "text": "\n"
    },
    {
     "name": "stdout",
     "output_type": "stream",
     "text": "INFO     [12:56:06.060] [38842] 307 payloads/<dictcomp>: Mobile: Covert non-sql col: json_dumps_canonical(background) (3500) [0.030s]"
    },
    {
     "name": "stdout",
     "output_type": "stream",
     "text": "\n"
    },
    {
     "name": "stdout",
     "output_type": "stream",
     "text": "DEBUG    [12:56:06.076] [38842] 307 payloads/<dictcomp>: Mobile: Covert non-sql col: json_dumps_canonical(background_species) (3500) ..."
    },
    {
     "name": "stdout",
     "output_type": "stream",
     "text": "\n"
    },
    {
     "name": "stdout",
     "output_type": "stream",
     "text": "INFO     [12:56:06.110] [38842] 307 payloads/<dictcomp>: Mobile: Covert non-sql col: json_dumps_canonical(background_species) (3500) [0.034s]"
    },
    {
     "name": "stdout",
     "output_type": "stream",
     "text": "\n"
    },
    {
     "name": "stdout",
     "output_type": "stream",
     "text": "DEBUG    [12:56:06.132] [38842] 312 payloads/df_cache_hybrid: Mobile: Write mobile-version[0]/search_recs/search_recs.sqlite3 ..."
    },
    {
     "name": "stdout",
     "output_type": "stream",
     "text": "\n"
    },
    {
     "name": "stdout",
     "output_type": "stream",
     "text": "INFO     [12:56:08.281] [38842] 320 payloads/df_cache_hybrid: Mobile: Write mobile-version[0]/search_recs/search_recs.sqlite3 [14.7 MB, 2.149s]"
    },
    {
     "name": "stdout",
     "output_type": "stream",
     "text": "\n"
    },
    {
     "name": "stdout",
     "output_type": "stream",
     "text": "INFO     [12:56:08.304] [38842] 320 payloads/df_cache_hybrid: Mobile: Write payload [7.216s]"
    },
    {
     "name": "stdout",
     "output_type": "stream",
     "text": "\n"
    },
    {
     "data": {
      "text/html": "<table border=\"1\" class=\"dataframe\">\n  <thead>\n    <tr style=\"text-align: right;\">\n      <th></th>\n      <th>dir</th>\n      <th>file</th>\n      <th>size</th>\n      <th>frac</th>\n    </tr>\n  </thead>\n  <tbody>\n    <tr>\n      <th>5</th>\n      <td><div class=\"not-number\">api</div></td>\n      <td><div class=\"not-number\">TOTAL</div></td>\n      <td>211258662</td>\n      <td>1.000</td>\n    </tr>\n    <tr>\n      <th>1</th>\n      <td><div class=\"not-number\">api</div></td>\n      <td><div class=\"not-number\">api/bytes-audio_bytes.parquet</div></td>\n      <td>142018687</td>\n      <td>0.672</td>\n    </tr>\n    <tr>\n      <th>2</th>\n      <td><div class=\"not-number\">api</div></td>\n      <td><div class=\"not-number\">api/bytes-spectro_bytes.parquet</div></td>\n      <td>38468688</td>\n      <td>0.182</td>\n    </tr>\n    <tr>\n      <th>4</th>\n      <td><div class=\"not-number\">api</div></td>\n      <td><div class=\"not-number\">api/feat-feat.npy: float32</div></td>\n      <td>21000128</td>\n      <td>0.099</td>\n    </tr>\n    <tr>\n      <th>0</th>\n      <td><div class=\"not-number\">api</div></td>\n      <td><div class=\"not-number\">api/lite.parquet</div></td>\n      <td>5137031</td>\n      <td>0.024</td>\n    </tr>\n    <tr>\n      <th>3</th>\n      <td><div class=\"not-number\">api</div></td>\n      <td><div class=\"not-number\">api/feat-f_preds.npy: float32</div></td>\n      <td>4634128</td>\n      <td>0.022</td>\n    </tr>\n    <tr>\n      <th>9</th>\n      <td><div class=\"not-number\">mobile-version[0]</div></td>\n      <td><div class=\"not-number\">TOTAL</div></td>\n      <td>210751488</td>\n      <td>1.000</td>\n    </tr>\n    <tr>\n      <th>6</th>\n      <td><div class=\"not-number\">mobile-version[0]</div></td>\n      <td><div class=\"not-number\">mobile-version[0]/search_recs/audio/</div></td>\n      <td>150949888</td>\n      <td>0.716</td>\n    </tr>\n    <tr>\n      <th>7</th>\n      <td><div class=\"not-number\">mobile-version[0]</div></td>\n      <td><div class=\"not-number\">mobile-version[0]/search_recs/spectro/</div></td>\n      <td>45084672</td>\n      <td>0.214</td>\n    </tr>\n    <tr>\n      <th>8</th>\n      <td><div class=\"not-number\">mobile-version[0]</div></td>\n      <td><div class=\"not-number\">mobile-version[0]/search_recs/search_recs.sqlite3</div></td>\n      <td>14716928</td>\n      <td>0.070</td>\n    </tr>\n  </tbody>\n</table>",
      "text/plain": "                 dir                                               file       size   frac\n5                api                                              TOTAL  211258662  1.000\n1                api                      api/bytes-audio_bytes.parquet  142018687  0.672\n2                api                    api/bytes-spectro_bytes.parquet   38468688  0.182\n4                api                         api/feat-feat.npy: float32   21000128  0.099\n0                api                                   api/lite.parquet    5137031  0.024\n3                api                      api/feat-f_preds.npy: float32    4634128  0.022\n9  mobile-version[0]                                              TOTAL  210751488  1.000\n6  mobile-version[0]               mobile-version[0]/search_recs/audio/  150949888  0.716\n7  mobile-version[0]             mobile-version[0]/search_recs/spectro/   45084672  0.214\n8  mobile-version[0]  mobile-version[0]/search_recs/search_recs.sqlite3   14716928  0.070"
     },
     "metadata": {},
     "output_type": "display_data",
     "transient": {}
    },
    {
     "name": "stdout",
     "output_type": "stream",
     "text": "INFO     [12:56:08.366] [38842]  32 api.server_globals/init"
    },
    {
     "name": "stdout",
     "output_type": "stream",
     "text": "\n"
    },
    {
     "name": "stdout",
     "output_type": "stream",
     "text": "DEBUG    [12:56:08.375] [38842]  75 api.server_globals/load: load_search..."
    },
    {
     "name": "stdout",
     "output_type": "stream",
     "text": "\n"
    },
    {
     "name": "stdout",
     "output_type": "stream",
     "text": "INFO     [12:56:08.710] [38842]  79 api.server_globals/load: load_search (took 0.328s)"
    },
    {
     "name": "stdout",
     "output_type": "stream",
     "text": "\n"
    },
    {
     "name": "stdout",
     "output_type": "stream",
     "text": "DEBUG    [12:56:08.718] [38842]  75 api.server_globals/load: load_xc_meta..."
    },
    {
     "name": "stdout",
     "output_type": "stream",
     "text": "\n"
    },
    {
     "name": "stdout",
     "output_type": "stream",
     "text": "INFO     [12:56:09.695] [38842]  79 api.server_globals/load: load_xc_meta (took 0.968s)"
    },
    {
     "name": "stdout",
     "output_type": "stream",
     "text": "\n"
    },
    {
     "name": "stdout",
     "output_type": "stream",
     "text": "DEBUG    [12:56:09.703] [38842]  75 api.server_globals/load: load_feat_info..."
    },
    {
     "name": "stdout",
     "output_type": "stream",
     "text": "\n"
    },
    {
     "name": "stdout",
     "output_type": "stream",
     "text": "INFO     [12:56:09.711] [38842] 110 api.server_globals/load_feat_info"
    },
    {
     "name": "stdout",
     "output_type": "stream",
     "text": "\n"
    },
    {
     "name": "stdout",
     "output_type": "stream",
     "text": "INFO     [12:56:09.719] [38842]  79 api.server_globals/load: load_feat_info (took 0.008s)"
    },
    {
     "name": "stdout",
     "output_type": "stream",
     "text": "\n"
    },
    {
     "name": "stdout",
     "output_type": "stream",
     "text": "DEBUG    [12:56:09.726] [38842]  75 api.server_globals/load: load_search_recs..."
    },
    {
     "name": "stdout",
     "output_type": "stream",
     "text": "\n"
    },
    {
     "name": "stdout",
     "output_type": "stream",
     "text": "INFO     [12:56:09.737] [38842] 118 api.server_globals/load_search_recs"
    },
    {
     "name": "stdout",
     "output_type": "stream",
     "text": "\n"
    },
    {
     "name": "stdout",
     "output_type": "stream",
     "text": "INFO     [12:56:09.745] [38842] 601 api.recs/get_search_recs"
    },
    {
     "name": "stdout",
     "output_type": "stream",
     "text": "\n"
    },
    {
     "name": "stdout",
     "output_type": "stream",
     "text": "INFO     [12:56:09.762] [38842] 150 payloads/df_cache_hybrid: Hit: payloads/search_recs-version[8],limit[3500],audio_s[10],countries_k[na],com_names_k[ca],num_recs[None]-064a482"
    },
    {
     "name": "stdout",
     "output_type": "stream",
     "text": "\n"
    },
    {
     "name": "stdout",
     "output_type": "stream",
     "text": "DEBUG    [12:56:09.774] [38842] 151 payloads/df_cache_hybrid: Hit ..."
    },
    {
     "name": "stdout",
     "output_type": "stream",
     "text": "\n"
    },
    {
     "name": "stdout",
     "output_type": "stream",
     "text": "DEBUG    [12:56:09.788] [38842] 160 payloads/df_cache_hybrid: Hit: Read api/lite.parquet (5.1 MB) ..."
    },
    {
     "name": "stdout",
     "output_type": "stream",
     "text": "\n"
    },
    {
     "name": "stdout",
     "output_type": "stream",
     "text": "INFO     [12:56:11.138] [38842] 167 payloads/df_cache_hybrid: Hit: Read api/lite.parquet (5.1 MB) [1.350s]"
    },
    {
     "name": "stdout",
     "output_type": "stream",
     "text": "\n"
    },
    {
     "name": "stdout",
     "output_type": "stream",
     "text": "DEBUG    [12:56:11.150] [38842] 172 payloads/df_cache_hybrid: Hit: Read api/bytes-audio_bytes.parquet (142.0 MB) ..."
    },
    {
     "name": "stdout",
     "output_type": "stream",
     "text": "\n"
    },
    {
     "name": "stdout",
     "output_type": "stream",
     "text": "INFO     [12:56:11.405] [38842] 179 payloads/df_cache_hybrid: Hit: Read api/bytes-audio_bytes.parquet (142.0 MB) [0.255s]"
    },
    {
     "name": "stdout",
     "output_type": "stream",
     "text": "\n"
    },
    {
     "name": "stdout",
     "output_type": "stream",
     "text": "DEBUG    [12:56:11.418] [38842] 172 payloads/df_cache_hybrid: Hit: Read api/bytes-spectro_bytes.parquet (38.5 MB) ..."
    },
    {
     "name": "stdout",
     "output_type": "stream",
     "text": "\n"
    },
    {
     "name": "stdout",
     "output_type": "stream",
     "text": "INFO     [12:56:11.498] [38842] 179 payloads/df_cache_hybrid: Hit: Read api/bytes-spectro_bytes.parquet (38.5 MB) [0.079s]"
    },
    {
     "name": "stdout",
     "output_type": "stream",
     "text": "\n"
    },
    {
     "name": "stdout",
     "output_type": "stream",
     "text": "DEBUG    [12:56:11.511] [38842] 184 payloads/df_cache_hybrid: Hit: Read api/feat-f_preds.npy (4.6 MB) ..."
    },
    {
     "name": "stdout",
     "output_type": "stream",
     "text": "\n"
    },
    {
     "name": "stdout",
     "output_type": "stream",
     "text": "INFO     [12:56:11.520] [38842] 186 payloads/df_cache_hybrid: Hit: Read api/feat-f_preds.npy (4.6 MB) [float32, 0.009s]"
    },
    {
     "name": "stdout",
     "output_type": "stream",
     "text": "\n"
    },
    {
     "name": "stdout",
     "output_type": "stream",
     "text": "DEBUG    [12:56:11.531] [38842] 184 payloads/df_cache_hybrid: Hit: Read api/feat-feat.npy (21.0 MB) ..."
    },
    {
     "name": "stdout",
     "output_type": "stream",
     "text": "\n"
    },
    {
     "name": "stdout",
     "output_type": "stream",
     "text": "INFO     [12:56:11.546] [38842] 186 payloads/df_cache_hybrid: Hit: Read api/feat-feat.npy (21.0 MB) [float32, 0.015s]"
    },
    {
     "name": "stdout",
     "output_type": "stream",
     "text": "\n"
    },
    {
     "name": "stdout",
     "output_type": "stream",
     "text": "INFO     [12:56:11.553] [38842] 189 payloads/df_cache_hybrid: Hit: Join lite + bytes + feats"
    },
    {
     "name": "stdout",
     "output_type": "stream",
     "text": "\n"
    },
    {
     "name": "stdout",
     "output_type": "stream",
     "text": "INFO     [12:56:11.596] [38842] 200 payloads/df_cache_hybrid: Hit [1.822s]"
    },
    {
     "name": "stdout",
     "output_type": "stream",
     "text": "\n"
    },
    {
     "data": {
      "text/html": "<table border=\"1\" class=\"dataframe\">\n  <thead>\n    <tr style=\"text-align: right;\">\n      <th></th>\n      <th>dir</th>\n      <th>file</th>\n      <th>size</th>\n      <th>frac</th>\n    </tr>\n  </thead>\n  <tbody>\n    <tr>\n      <th>5</th>\n      <td><div class=\"not-number\">api</div></td>\n      <td><div class=\"not-number\">TOTAL</div></td>\n      <td>211258662</td>\n      <td>1.000</td>\n    </tr>\n    <tr>\n      <th>1</th>\n      <td><div class=\"not-number\">api</div></td>\n      <td><div class=\"not-number\">api/bytes-audio_bytes.parquet</div></td>\n      <td>142018687</td>\n      <td>0.672</td>\n    </tr>\n    <tr>\n      <th>2</th>\n      <td><div class=\"not-number\">api</div></td>\n      <td><div class=\"not-number\">api/bytes-spectro_bytes.parquet</div></td>\n      <td>38468688</td>\n      <td>0.182</td>\n    </tr>\n    <tr>\n      <th>4</th>\n      <td><div class=\"not-number\">api</div></td>\n      <td><div class=\"not-number\">api/feat-feat.npy: float32</div></td>\n      <td>21000128</td>\n      <td>0.099</td>\n    </tr>\n    <tr>\n      <th>0</th>\n      <td><div class=\"not-number\">api</div></td>\n      <td><div class=\"not-number\">api/lite.parquet</div></td>\n      <td>5137031</td>\n      <td>0.024</td>\n    </tr>\n    <tr>\n      <th>3</th>\n      <td><div class=\"not-number\">api</div></td>\n      <td><div class=\"not-number\">api/feat-f_preds.npy: float32</div></td>\n      <td>4634128</td>\n      <td>0.022</td>\n    </tr>\n  </tbody>\n</table>",
      "text/plain": "   dir                             file       size   frac\n5  api                            TOTAL  211258662  1.000\n1  api    api/bytes-audio_bytes.parquet  142018687  0.672\n2  api  api/bytes-spectro_bytes.parquet   38468688  0.182\n4  api       api/feat-feat.npy: float32   21000128  0.099\n0  api                 api/lite.parquet    5137031  0.024\n3  api    api/feat-f_preds.npy: float32    4634128  0.022"
     },
     "metadata": {},
     "output_type": "display_data",
     "transient": {}
    },
    {
     "name": "stdout",
     "output_type": "stream",
     "text": "INFO     [12:56:11.624] [38842]  79 api.server_globals/load: load_search_recs (took 1.888s)"
    },
    {
     "name": "stdout",
     "output_type": "stream",
     "text": "\n"
    },
    {
     "name": "stdout",
     "output_type": "stream",
     "text": "INFO     [12:56:11.632] [38842]  34 api.server_globals/init: done"
    },
    {
     "name": "stdout",
     "output_type": "stream",
     "text": "\n"
    }
   ],
   "source": [
    "from notebooks import *\n",
    "sg.init(None, skip=[sg_load.load_search_recs])\n",
    "get_search_recs(write_mobile_payload=True)\n",
    "sg.init(None, reload=True)"
   ]
  },
  {
   "cell_type": "code",
   "execution_count": null,
   "metadata": {},
   "outputs": [
    {
     "data": {
      "text/html": "<table border=\"1\" class=\"dataframe\">\n  <thead>\n    <tr style=\"text-align: right;\">\n      <th></th>\n      <th>0</th>\n    </tr>\n  </thead>\n  <tbody>\n    <tr>\n      <th>shorthand</th>\n      <td><div class=\"not-number\">COOS</div></td>\n    </tr>\n    <tr>\n      <th>longhand</th>\n      <td><div class=\"not-number\">Common Ostrich - COOS</div></td>\n    </tr>\n    <tr>\n      <th>sci_name</th>\n      <td><div class=\"not-number\">Struthio camelus</div></td>\n    </tr>\n    <tr>\n      <th>com_name</th>\n      <td><div class=\"not-number\">Common Ostrich</div></td>\n    </tr>\n    <tr>\n      <th>species_code</th>\n      <td><div class=\"not-number\">ostric2</div></td>\n    </tr>\n    <tr>\n      <th>taxon_order</th>\n      <td><div class=\"not-number\">3.0</div></td>\n    </tr>\n    <tr>\n      <th>taxon_id</th>\n      <td><div class=\"not-number\">TC000002</div></td>\n    </tr>\n    <tr>\n      <th>com_name_codes</th>\n      <td><div class=\"not-number\">COOS</div></td>\n    </tr>\n    <tr>\n      <th>sci_name_codes</th>\n      <td><div class=\"not-number\">STCA</div></td>\n    </tr>\n    <tr>\n      <th>banding_codes</th>\n      <td>NaN</td>\n    </tr>\n    <tr>\n      <th>species_group</th>\n      <td><div class=\"not-number\">Ostriches</div></td>\n    </tr>\n    <tr>\n      <th>family</th>\n      <td><div class=\"not-number\">Struthionidae (Ostriches)</div></td>\n    </tr>\n    <tr>\n      <th>order</th>\n      <td><div class=\"not-number\">Struthioniformes</div></td>\n    </tr>\n  </tbody>\n</table>",
      "text/plain": "                                        0\nshorthand                            COOS\nlonghand            Common Ostrich - COOS\nsci_name                 Struthio camelus\ncom_name                   Common Ostrich\nspecies_code                      ostric2\ntaxon_order                           3.0\ntaxon_id                         TC000002\ncom_name_codes                       COOS\nsci_name_codes                       STCA\nbanding_codes                         NaN\nspecies_group                   Ostriches\nfamily          Struthionidae (Ostriches)\norder                    Struthioniformes"
     },
     "execution_count": 2,
     "metadata": {},
     "output_type": "execute_result"
    }
   ],
   "source": [
    "(metadata.species.df\n",
    "    [:1].T\n",
    ")"
   ]
  },
  {
   "cell_type": "code",
   "execution_count": null,
   "metadata": {
    "time": "3.783s"
   },
   "outputs": [
    {
     "data": {
      "text/html": "<table border=\"1\" class=\"dataframe\">\n  <thead>\n    <tr style=\"text-align: right;\">\n      <th></th>\n      <th>0</th>\n    </tr>\n  </thead>\n  <tbody>\n    <tr>\n      <th>downloaded</th>\n      <td><div class=\"not-number\">False</div></td>\n    </tr>\n    <tr>\n      <th>species</th>\n      <td><div class=\"not-number\">CVTB</div></td>\n    </tr>\n    <tr>\n      <th>taxon_order</th>\n      <td><div class=\"not-number\">23159.0</div></td>\n    </tr>\n    <tr>\n      <th>taxon_id</th>\n      <td><div class=\"not-number\">TC008982</div></td>\n    </tr>\n    <tr>\n      <th>id</th>\n      <td>417733</td>\n    </tr>\n    <tr>\n      <th>sci_name</th>\n      <td><div class=\"not-number\">Sylvia subcaerulea</div></td>\n    </tr>\n    <tr>\n      <th>com_name</th>\n      <td><div class=\"not-number\">Chestnut-vented Warbler</div></td>\n    </tr>\n    <tr>\n      <th>subspecies</th>\n      <td><div class=\"not-number\"></div></td>\n    </tr>\n    <tr>\n      <th>recordist</th>\n      <td><div class=\"not-number\">Dawie de Swardt</div></td>\n    </tr>\n    <tr>\n      <th>country</th>\n      <td><div class=\"not-number\">South Africa</div></td>\n    </tr>\n    <tr>\n      <th>locality</th>\n      <td><div class=\"not-number\">Jakkalsfontein, Soutpan, Free State</div></td>\n    </tr>\n    <tr>\n      <th>lat</th>\n      <td>-28.8</td>\n    </tr>\n    <tr>\n      <th>lng</th>\n      <td>26</td>\n    </tr>\n    <tr>\n      <th>type</th>\n      <td><div class=\"not-number\">call</div></td>\n    </tr>\n    <tr>\n      <th>quality</th>\n      <td><div class=\"not-number\">B</div></td>\n    </tr>\n    <tr>\n      <th>date</th>\n      <td><div class=\"not-number\">2018-05-30 00:00:00</div></td>\n    </tr>\n    <tr>\n      <th>time</th>\n      <td><div class=\"not-number\">10:30</div></td>\n    </tr>\n    <tr>\n      <th>license_type</th>\n      <td><div class=\"not-number\">by-nc-sa</div></td>\n    </tr>\n    <tr>\n      <th>license_detail</th>\n      <td><div class=\"not-number\">4.0</div></td>\n    </tr>\n    <tr>\n      <th>license</th>\n      <td><div class=\"not-number\">//creativecommons.org/licenses/by-nc-sa/4.0/</div></td>\n    </tr>\n    <tr>\n      <th>url</th>\n      <td><div class=\"not-number\">https://www.xeno-canto.org/417733</div></td>\n    </tr>\n    <tr>\n      <th>download</th>\n      <td><div class=\"not-number\">//www.xeno-canto.org/417733/download</div></td>\n    </tr>\n    <tr>\n      <th>remarks</th>\n      <td>NaN</td>\n    </tr>\n    <tr>\n      <th>bird_seen</th>\n      <td>NaN</td>\n    </tr>\n    <tr>\n      <th>playback_used</th>\n      <td>NaN</td>\n    </tr>\n    <tr>\n      <th>elevation</th>\n      <td>NaN</td>\n    </tr>\n    <tr>\n      <th>background</th>\n      <td>NaN</td>\n    </tr>\n    <tr>\n      <th>volume</th>\n      <td>NaN</td>\n    </tr>\n    <tr>\n      <th>speed</th>\n      <td>NaN</td>\n    </tr>\n    <tr>\n      <th>pitch</th>\n      <td>NaN</td>\n    </tr>\n    <tr>\n      <th>length</th>\n      <td>NaN</td>\n    </tr>\n    <tr>\n      <th>number_of_notes</th>\n      <td>NaN</td>\n    </tr>\n    <tr>\n      <th>variable</th>\n      <td>NaN</td>\n    </tr>\n    <tr>\n      <th>xc_channels</th>\n      <td>NaN</td>\n    </tr>\n    <tr>\n      <th>xc_sampling_rate</th>\n      <td>NaN</td>\n    </tr>\n    <tr>\n      <th>xc_bitrate_of_mp3</th>\n      <td>NaN</td>\n    </tr>\n    <tr>\n      <th>shorthand</th>\n      <td><div class=\"not-number\">CVTB</div></td>\n    </tr>\n  </tbody>\n</table>",
      "text/plain": "                                                              0\ndownloaded                                                False\nspecies                                                    CVTB\ntaxon_order                                             23159.0\ntaxon_id                                               TC008982\nid                                                       417733\nsci_name                                     Sylvia subcaerulea\ncom_name                                Chestnut-vented Warbler\nsubspecies                                                     \nrecordist                                       Dawie de Swardt\ncountry                                            South Africa\nlocality                    Jakkalsfontein, Soutpan, Free State\nlat                                                       -28.8\nlng                                                          26\ntype                                                       call\nquality                                                       B\ndate                                        2018-05-30 00:00:00\ntime                                                      10:30\nlicense_type                                           by-nc-sa\nlicense_detail                                              4.0\nlicense            //creativecommons.org/licenses/by-nc-sa/4.0/\nurl                           https://www.xeno-canto.org/417733\ndownload                   //www.xeno-canto.org/417733/download\nremarks                                                     NaN\nbird_seen                                                   NaN\nplayback_used                                               NaN\nelevation                                                   NaN\nbackground                                                  NaN\nvolume                                                      NaN\nspeed                                                       NaN\npitch                                                       NaN\nlength                                                      NaN\nnumber_of_notes                                             NaN\nvariable                                                    NaN\nxc_channels                                                 NaN\nxc_sampling_rate                                            NaN\nxc_bitrate_of_mp3                                           NaN\nshorthand                                                  CVTB"
     },
     "execution_count": 3,
     "metadata": {},
     "output_type": "execute_result"
    }
   ],
   "source": [
    "(xc.metadata\n",
    "    [:1].T\n",
    ")"
   ]
  },
  {
   "cell_type": "code",
   "execution_count": null,
   "metadata": {},
   "outputs": [],
   "source": [
    "# (sg.xc_meta\n",
    "#     [:1].T\n",
    "# )"
   ]
  },
  {
   "cell_type": "code",
   "execution_count": null,
   "metadata": {},
   "outputs": [
    {
     "data": {
      "text/html": "<table border=\"1\" class=\"dataframe\">\n  <thead>\n    <tr style=\"text-align: right;\">\n      <th></th>\n      <th>0</th>\n    </tr>\n  </thead>\n  <tbody>\n    <tr>\n      <th>audio_bytes</th>\n      <td><div class=\"not-number\">b'\\x00\\x00\\x00\\x1cftypisom\\x00\\x00\\x02\\x00isomiso2mp41\\x00\\x00\\x00\\x08free\\x00\\x00\\x9f\\x1emdat\\x01@\"\\x80\\xa3} \\x85----------------------------------------------------------...</td>\n    </tr>\n    <tr>\n      <th>audio_bytes_mimetype</th>\n      <td><div class=\"not-number\">audio/mp4</div></td>\n    </tr>\n    <tr>\n      <th>background</th>\n      <td><div class=\"not-number\">['White-throated Sparrow (Zonotrichia albicollis)', \"Audubon's Warbler (Setophaga auduboni)\"]</div></td>\n    </tr>\n    <tr>\n      <th>background_species</th>\n      <td><div class=\"not-number\">['WTSP', \"Audubon's Warbler\"]</div></td>\n    </tr>\n    <tr>\n      <th>basename</th>\n      <td><div class=\"not-number\">audio.mp3.resample(22050,1,16).enc(wav).slice(0,10000).spectro_denoise().enc(mp4,libfdk_aac,32k)</div></td>\n    </tr>\n    <tr>\n      <th>bird_seen</th>\n      <td><div class=\"not-number\">yes</div></td>\n    </tr>\n    <tr>\n      <th>channels</th>\n      <td>1</td>\n    </tr>\n    <tr>\n      <th>country</th>\n      <td><div class=\"not-number\">Canada</div></td>\n    </tr>\n    <tr>\n      <th>dataset</th>\n      <td><div class=\"not-number\">xc</div></td>\n    </tr>\n    <tr>\n      <th>date</th>\n      <td><div class=\"not-number\">2018-05-13 00:00:00</div></td>\n    </tr>\n    <tr>\n      <th>download</th>\n      <td><div class=\"not-number\">//www.xeno-canto.org/415272/download</div></td>\n    </tr>\n    <tr>\n      <th>downloaded</th>\n      <td><div class=\"not-number\">True</div></td>\n    </tr>\n    <tr>\n      <th>duration_s</th>\n      <td>10</td>\n    </tr>\n    <tr>\n      <th>elevation</th>\n      <td><div class=\"not-number\">600 m</div></td>\n    </tr>\n    <tr>\n      <th>f_preds</th>\n      <td><div class=\"not-number\">[4.526e-07 8.794e-05 1.920e-09 4.218e-08 2.864e-04 3.702e-06 1.204e-03 7.641e-02 1.974e-12 1.080e-05 4.529e-06\n 2.055e-05 9.887e-07 7.625e-05 1.895e-06 2.317e-09 7.139e-08 ...</td>\n    </tr>\n    <tr>\n      <th>feat</th>\n      <td><div class=\"not-number\">[ 2.414e-01 -7.280e-02  3.050e-02 -1.618e-01 -1.477e-01 -3.141e-02  2.018e-01  6.089e-01  1.433e-01 -4.024e-01\n -1.801e-01 -2.235e-01 -6.539e-02 -2.465e-01 -4.305e-01  5.88...</td>\n    </tr>\n    <tr>\n      <th>hour</th>\n      <td>8</td>\n    </tr>\n    <tr>\n      <th>id</th>\n      <td><div class=\"not-number\">cache/audio/xc/data/CANG/415272/audio.mp3.resample(22050,1,16).enc(wav).slice(0,10000).spectro_denoise().enc(mp4,libfdk_aac,32k)</div></td>\n    </tr>\n    <tr>\n      <th>lat</th>\n      <td>54.1</td>\n    </tr>\n    <tr>\n      <th>length</th>\n      <td><div class=\"not-number\">0-3(s)</div></td>\n    </tr>\n    <tr>\n      <th>license</th>\n      <td><div class=\"not-number\">//creativecommons.org/licenses/by-nc-sa/4.0/</div></td>\n    </tr>\n    <tr>\n      <th>license_detail</th>\n      <td><div class=\"not-number\">4.0</div></td>\n    </tr>\n    <tr>\n      <th>license_type</th>\n      <td><div class=\"not-number\">by-nc-sa</div></td>\n    </tr>\n    <tr>\n      <th>lng</th>\n      <td>-122</td>\n    </tr>\n    <tr>\n      <th>locality</th>\n      <td><div class=\"not-number\">Fraser-Fort George F, Fraser-Fort George, British Columbia</div></td>\n    </tr>\n    <tr>\n      <th>month</th>\n      <td>5</td>\n    </tr>\n    <tr>\n      <th>month_day</th>\n      <td><div class=\"not-number\">05-13</div></td>\n    </tr>\n    <tr>\n      <th>n_background_species</th>\n      <td>2</td>\n    </tr>\n    <tr>\n      <th>number_of_notes</th>\n      <td><div class=\"not-number\">1-3</div></td>\n    </tr>\n    <tr>\n      <th>path</th>\n      <td><div class=\"not-number\">cache/audio/xc/data/CANG/415272/audio.mp3.resample(22050,1,16).enc(wav).slice(0,10000).spectro_denoise().enc(mp4,libfdk_aac,32k)</div></td>\n    </tr>\n    <tr>\n      <th>pitch</th>\n      <td><div class=\"not-number\">decreasing</div></td>\n    </tr>\n    <tr>\n      <th>place</th>\n      <td><div class=\"not-number\">Fraser-Fort George F, Fraser-Fort George, British Columbia, Canada</div></td>\n    </tr>\n    <tr>\n      <th>place_only</th>\n      <td><div class=\"not-number\">Fraser-Fort George F, Fraser-Fort George</div></td>\n    </tr>\n    <tr>\n      <th>playback_used</th>\n      <td><div class=\"not-number\">no</div></td>\n    </tr>\n    <tr>\n      <th>quality</th>\n      <td><div class=\"not-number\">A</div></td>\n    </tr>\n    <tr>\n      <th>recordist</th>\n      <td><div class=\"not-number\">Jeff Dyck</div></td>\n    </tr>\n    <tr>\n      <th>recs_for_sp</th>\n      <td>116</td>\n    </tr>\n    <tr>\n      <th>remarks</th>\n      <td><div class=\"not-number\">Pair of geese - calling while swimming in the water</div></td>\n    </tr>\n    <tr>\n      <th>sample_rate</th>\n      <td>22050</td>\n    </tr>\n    <tr>\n      <th>sample_width_bit</th>\n      <td>16</td>\n    </tr>\n    <tr>\n      <th>samples_mb</th>\n      <td>0.422</td>\n    </tr>\n    <tr>\n      <th>samples_n</th>\n      <td>221184</td>\n    </tr>\n    <tr>\n      <th>shorthand</th>\n      <td><div class=\"not-number\">CANG</div></td>\n    </tr>\n    <tr>\n      <th>species</th>\n      <td><div class=\"not-number\">CANG</div></td>\n    </tr>\n    <tr>\n      <th>species_com_name</th>\n      <td><div class=\"not-number\">Canada Goose</div></td>\n    </tr>\n    <tr>\n      <th>species_family</th>\n      <td><div class=\"not-number\">Anatidae (Ducks, Geese, and Waterfowl)</div></td>\n    </tr>\n    <tr>\n      <th>species_longhand</th>\n      <td><div class=\"not-number\">Canada Goose - CANG</div></td>\n    </tr>\n    <tr>\n      <th>species_order</th>\n      <td><div class=\"not-number\">Anseriformes</div></td>\n    </tr>\n    <tr>\n      <th>species_query</th>\n      <td><div class=\"not-number\">CANG</div></td>\n    </tr>\n    <tr>\n      <th>species_sci_name</th>\n      <td><div class=\"not-number\">Branta canadensis</div></td>\n    </tr>\n    <tr>\n      <th>species_species_group</th>\n      <td><div class=\"not-number\">Waterfowl</div></td>\n    </tr>\n    <tr>\n      <th>species_taxon_id</th>\n      <td><div class=\"not-number\">TC000124</div></td>\n    </tr>\n    <tr>\n      <th>species_taxon_order</th>\n      <td><div class=\"not-number\">277.0</div></td>\n    </tr>\n    <tr>\n      <th>spectro_bytes</th>\n      <td><div class=\"not-number\">b'\\x89PNG\\r\\n\\x1a\\n\\x00\\x00\\x00\\rIHDR\\x00\\x00\\x03`\\x00\\x00\\x00(\\x08\\x03\\x00\\x00\\x00\\xaf\\xafi\\n\\x00\\x00\\x03\\x00PLTE\\xfb\\xfa\\xbd\\xfc\\xe7\\xa9\\xfd\\xd7\\x99\\xfd\\xc7\\x8b\\xfd\\xa8r\\...</td>\n    </tr>\n    <tr>\n      <th>spectro_bytes_mimetype</th>\n      <td><div class=\"not-number\">image/png</div></td>\n    </tr>\n    <tr>\n      <th>speed</th>\n      <td><div class=\"not-number\">level</div></td>\n    </tr>\n    <tr>\n      <th>state</th>\n      <td><div class=\"not-number\">British Columbia, Canada</div></td>\n    </tr>\n    <tr>\n      <th>state_only</th>\n      <td><div class=\"not-number\">British Columbia</div></td>\n    </tr>\n    <tr>\n      <th>subspecies</th>\n      <td><div class=\"not-number\"></div></td>\n    </tr>\n    <tr>\n      <th>taxon_id</th>\n      <td><div class=\"not-number\">TC000124</div></td>\n    </tr>\n    <tr>\n      <th>taxon_order</th>\n      <td><div class=\"not-number\">277.0</div></td>\n    </tr>\n    <tr>\n      <th>time</th>\n      <td><div class=\"not-number\">08:30</div></td>\n    </tr>\n    <tr>\n      <th>type</th>\n      <td><div class=\"not-number\">call</div></td>\n    </tr>\n    <tr>\n      <th>url</th>\n      <td><div class=\"not-number\">https://www.xeno-canto.org/415272</div></td>\n    </tr>\n    <tr>\n      <th>variable</th>\n      <td><div class=\"not-number\">no</div></td>\n    </tr>\n    <tr>\n      <th>volume</th>\n      <td><div class=\"not-number\">decreasing</div></td>\n    </tr>\n    <tr>\n      <th>xc_bitrate_of_mp3</th>\n      <td><div class=\"not-number\">128000 (bps)</div></td>\n    </tr>\n    <tr>\n      <th>xc_channels</th>\n      <td><div class=\"not-number\">1 (mono)</div></td>\n    </tr>\n    <tr>\n      <th>xc_id</th>\n      <td>415272</td>\n    </tr>\n    <tr>\n      <th>xc_sampling_rate</th>\n      <td><div class=\"not-number\">44100 (Hz)</div></td>\n    </tr>\n    <tr>\n      <th>year</th>\n      <td>2018</td>\n    </tr>\n  </tbody>\n</table>",
      "text/plain": "                                                                                                                                                                                                                              0\naudio_bytes             b'\\x00\\x00\\x00\\x1cftypisom\\x00\\x00\\x02\\x00isomiso2mp41\\x00\\x00\\x00\\x08free\\x00\\x00\\x9f\\x1emdat\\x01@\"\\x80\\xa3} \\x85----------------------------------------------------------------------------------...\naudio_bytes_mimetype                                                                                                                                                                                                  audio/mp4\nbackground                                                                                                                            [White-throated Sparrow (Zonotrichia albicollis), Audubon's Warbler (Setophaga auduboni)]\nbackground_species                                                                                                                                                                                    [WTSP, Audubon's Warbler]\nbasename                                                                                                                       audio.mp3.resample(22050,1,16).enc(wav).slice(0,10000).spectro_denoise().enc(mp4,libfdk_aac,32k)\nbird_seen                                                                                                                                                                                                                   yes\nchannels                                                                                                                                                                                                                      1\ncountry                                                                                                                                                                                                                  Canada\ndataset                                                                                                                                                                                                                      xc\ndate                                                                                                                                                                                                        2018-05-13 00:00:00\ndownload                                                                                                                                                                                   //www.xeno-canto.org/415272/download\ndownloaded                                                                                                                                                                                                                 True\nduration_s                                                                                                                                                                                                                   10\nelevation                                                                                                                                                                                                                 600 m\nf_preds                 [4.5261203e-07, 8.7942404e-05, 1.9197375e-09, 4.2175678e-08, 0.0002864064, 3.7017182e-06, 0.0012040786, 0.07640754, 1.9743716e-12, 1.0804775e-05, 4.5285014e-06, 2.0553958e-05, 9.887084e-07, 7.6254...\nfeat                    [0.2414155, -0.07280291, 0.030503822, -0.16177572, -0.14774804, -0.031406637, 0.20184696, 0.6089495, 0.14328566, -0.40242347, -0.18006833, -0.22349069, -0.06538777, -0.24650142, -0.4304691, 0.5881...\nhour                                                                                                                                                                                                                          8\nid                                                                                             cache/audio/xc/data/CANG/415272/audio.mp3.resample(22050,1,16).enc(wav).slice(0,10000).spectro_denoise().enc(mp4,libfdk_aac,32k)\nlat                                                                                                                                                                                                                        54.1\nlength                                                                                                                                                                                                                   0-3(s)\nlicense                                                                                                                                                                            //creativecommons.org/licenses/by-nc-sa/4.0/\nlicense_detail                                                                                                                                                                                                              4.0\nlicense_type                                                                                                                                                                                                           by-nc-sa\nlng                                                                                                                                                                                                                        -122\nlocality                                                                                                                                                             Fraser-Fort George F, Fraser-Fort George, British Columbia\nmonth                                                                                                                                                                                                                         5\nmonth_day                                                                                                                                                                                                                 05-13\nn_background_species                                                                                                                                                                                                          2\nnumber_of_notes                                                                                                                                                                                                             1-3\npath                                                                                           cache/audio/xc/data/CANG/415272/audio.mp3.resample(22050,1,16).enc(wav).slice(0,10000).spectro_denoise().enc(mp4,libfdk_aac,32k)\npitch                                                                                                                                                                                                                decreasing\nplace                                                                                                                                                        Fraser-Fort George F, Fraser-Fort George, British Columbia, Canada\nplace_only                                                                                                                                                                             Fraser-Fort George F, Fraser-Fort George\nplayback_used                                                                                                                                                                                                                no\nquality                                                                                                                                                                                                                       A\nrecordist                                                                                                                                                                                                             Jeff Dyck\nrecs_for_sp                                                                                                                                                                                                                 116\nremarks                                                                                                                                                                     Pair of geese - calling while swimming in the water\nsample_rate                                                                                                                                                                                                               22050\nsample_width_bit                                                                                                                                                                                                             16\nsamples_mb                                                                                                                                                                                                                0.422\nsamples_n                                                                                                                                                                                                                221184\nshorthand                                                                                                                                                                                                                  CANG\nspecies                                                                                                                                                                                                                    CANG\nspecies_com_name                                                                                                                                                                                                   Canada Goose\nspecies_family                                                                                                                                                                           Anatidae (Ducks, Geese, and Waterfowl)\nspecies_longhand                                                                                                                                                                                            Canada Goose - CANG\nspecies_order                                                                                                                                                                                                      Anseriformes\nspecies_query                                                                                                                                                                                                              CANG\nspecies_sci_name                                                                                                                                                                                              Branta canadensis\nspecies_species_group                                                                                                                                                                                                 Waterfowl\nspecies_taxon_id                                                                                                                                                                                                       TC000124\nspecies_taxon_order                                                                                                                                                                                                       277.0\nspectro_bytes           b'\\x89PNG\\r\\n\\x1a\\n\\x00\\x00\\x00\\rIHDR\\x00\\x00\\x03`\\x00\\x00\\x00(\\x08\\x03\\x00\\x00\\x00\\xaf\\xafi\\n\\x00\\x00\\x03\\x00PLTE\\xfb\\xfa\\xbd\\xfc\\xe7\\xa9\\xfd\\xd7\\x99\\xfd\\xc7\\x8b\\xfd\\xa8r\\xfc\\x97h\\xf8w\\\\\\xfe\\xb4|...\nspectro_bytes_mimetype                                                                                                                                                                                                image/png\nspeed                                                                                                                                                                                                                     level\nstate                                                                                                                                                                                                  British Columbia, Canada\nstate_only                                                                                                                                                                                                     British Columbia\nsubspecies                                                                                                                                                                                                                     \ntaxon_id                                                                                                                                                                                                               TC000124\ntaxon_order                                                                                                                                                                                                               277.0\ntime                                                                                                                                                                                                                      08:30\ntype                                                                                                                                                                                                                       call\nurl                                                                                                                                                                                           https://www.xeno-canto.org/415272\nvariable                                                                                                                                                                                                                     no\nvolume                                                                                                                                                                                                               decreasing\nxc_bitrate_of_mp3                                                                                                                                                                                                  128000 (bps)\nxc_channels                                                                                                                                                                                                            1 (mono)\nxc_id                                                                                                                                                                                                                    415272\nxc_sampling_rate                                                                                                                                                                                                     44100 (Hz)\nyear                                                                                                                                                                                                                       2018"
     },
     "execution_count": 5,
     "metadata": {},
     "output_type": "execute_result"
    }
   ],
   "source": [
    "(sg.search_recs\n",
    "    [:1].T\n",
    ")"
   ]
  },
  {
   "cell_type": "code",
   "execution_count": null,
   "metadata": {},
   "outputs": [],
   "source": []
  }
 ],
 "metadata": {
  "kernelspec": {
   "display_name": "bubo-features (PYTHONSTARTUP)",
   "language": "python",
   "name": "bubo-features (PYTHONSTARTUP)"
  }
 },
 "nbformat": 4,
 "nbformat_minor": 2
}
