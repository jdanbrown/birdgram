{
 "cells": [
  {
   "cell_type": "markdown",
   "metadata": {},
   "source": [
    "# TODO Is 32k aac good enough?"
   ]
  },
  {
   "cell_type": "code",
   "execution_count": null,
   "metadata": {
    "time": "9.879s"
   },
   "outputs": [],
   "source": [
    "from notebooks import *\n",
    "# memory.log.level = 'debug'\n",
    "sg.init(app=None)"
   ]
  },
  {
   "cell_type": "code",
   "execution_count": null,
   "metadata": {},
   "outputs": [],
   "source": [
    "with contextlib.ExitStack() as stack:\n",
    "    # stack.enter_context(cache_control(enabled=False))  # Re-runs all of xc page_metadata, which is very slow\n",
    "    # stack.enter_context(cache_control(refresh=True))  # Re-runs all of xc page_metadata, which is very slow\n",
    "    recs = (sg.xc_meta\n",
    "        # .sample(n=1000, random_state=0)\n",
    "        .sample(n=3, random_state=0)  # TODO TODO XXX Debug rec.id overhaul\n",
    "        .pipe(recs_featurize_audio_meta)\n",
    "    )"
   ]
  },
  {
   "cell_type": "code",
   "execution_count": null,
   "metadata": {
    "time": "1.536s"
   },
   "outputs": [
    {
     "name": "stdout",
     "output_type": "stream",
     "text": "INFO     [19:48:01.149] [11431] 813 datasets.xc_meta_to_xc_raw_recs: [2/3 slower] Loading xc.metadata -> xc_raw_recs (.audio, more metadata)..."
    },
    {
     "name": "stdout",
     "output_type": "stream",
     "text": "\n"
    },
    {
     "name": "stdout",
     "output_type": "stream",
     "text": "INFO     [19:48:01.175] [11431] 213 load.audio: in {len(recs): 1}"
    },
    {
     "name": "stdout",
     "output_type": "stream",
     "text": "\n"
    },
    {
     "name": "stdout",
     "output_type": "stream",
     "text": "DEBUG    [19:48:01.178] [11431] 356 load._transcode_path: Read: cache/audio/xc/data/RCKI/157428/audio.mp3.resample(22050,1,16).enc(wav)"
    },
    {
     "name": "stdout",
     "output_type": "stream",
     "text": "\n"
    },
    {
     "name": "stdout",
     "output_type": "stream",
     "text": "INFO     [19:48:01.183] [11431] 231 load.audio: out {len(audio): 1}"
    },
    {
     "name": "stdout",
     "output_type": "stream",
     "text": "\n"
    },
    {
     "name": "stdout",
     "output_type": "stream",
     "text": "DEBUG    [19:48:01.203] [11431] 179 sp14.model.spectro: Features.spectros:in {len(recs): 1, len(recs) per dataset: {xc: 1}, sum(duration_h): 0.00409, sum(samples_mb): 1.24, sum(samples_n): 649728}"
    },
    {
     "name": "stdout",
     "output_type": "stream",
     "text": "\n"
    },
    {
     "name": "stdout",
     "output_type": "stream",
     "text": "DEBUG    [19:48:01.207] [11431] 197 sp14.model.spectro: Features.spectros:out {'(f, sum(t))': [40, 1268]}"
    },
    {
     "name": "stdout",
     "output_type": "stream",
     "text": "\n"
    },
    {
     "name": "stdout",
     "output_type": "stream",
     "text": "DEBUG    [19:48:01.355] [11431] 481 load._transcode_audio: Read: cache/audio/xc/data/RCKI/157428/audio.mp3.resample(22050,1,16).enc(wav).slice(0,5000).enc(wav)"
    },
    {
     "name": "stdout",
     "output_type": "stream",
     "text": "\n"
    },
    {
     "name": "stdout",
     "output_type": "stream",
     "text": "INFO     [19:48:01.370] [11431] 813 datasets.xc_meta_to_xc_raw_recs: [2/3 slower] Loading xc.metadata -> xc_raw_recs (.audio, more metadata)..."
    },
    {
     "name": "stdout",
     "output_type": "stream",
     "text": "\n"
    },
    {
     "name": "stdout",
     "output_type": "stream",
     "text": "INFO     [19:48:01.395] [11431] 213 load.audio: in {len(recs): 1}"
    },
    {
     "name": "stdout",
     "output_type": "stream",
     "text": "\n"
    },
    {
     "name": "stdout",
     "output_type": "stream",
     "text": "DEBUG    [19:48:01.398] [11431] 356 load._transcode_path: Read: cache/audio/xc/data/RCKI/157428/audio.mp3.resample(22050,1,16).enc(wav)"
    },
    {
     "name": "stdout",
     "output_type": "stream",
     "text": "\n"
    },
    {
     "name": "stdout",
     "output_type": "stream",
     "text": "INFO     [19:48:01.403] [11431] 231 load.audio: out {len(audio): 1}"
    },
    {
     "name": "stdout",
     "output_type": "stream",
     "text": "\n"
    },
    {
     "name": "stdout",
     "output_type": "stream",
     "text": "DEBUG    [19:48:01.421] [11431] 179 sp14.model.spectro: Features.spectros:in {len(recs): 1, len(recs) per dataset: {xc: 1}, sum(duration_h): 0.00409, sum(samples_mb): 1.24, sum(samples_n): 649728}"
    },
    {
     "name": "stdout",
     "output_type": "stream",
     "text": "\n"
    },
    {
     "name": "stdout",
     "output_type": "stream",
     "text": "DEBUG    [19:48:01.425] [11431] 197 sp14.model.spectro: Features.spectros:out {'(f, sum(t))': [40, 1268]}"
    },
    {
     "name": "stdout",
     "output_type": "stream",
     "text": "\n"
    },
    {
     "name": "stdout",
     "output_type": "stream",
     "text": "DEBUG    [19:48:01.561] [11431] 481 load._transcode_audio: Read: cache/audio/xc/data/RCKI/157428/audio.mp3.resample(22050,1,16).enc(wav).slice(0,5000).enc(mp3,64k)"
    },
    {
     "name": "stdout",
     "output_type": "stream",
     "text": "\n"
    },
    {
     "name": "stdout",
     "output_type": "stream",
     "text": "INFO     [19:48:01.636] [11431] 813 datasets.xc_meta_to_xc_raw_recs: [2/3 slower] Loading xc.metadata -> xc_raw_recs (.audio, more metadata)..."
    },
    {
     "name": "stdout",
     "output_type": "stream",
     "text": "\n"
    },
    {
     "name": "stdout",
     "output_type": "stream",
     "text": "INFO     [19:48:01.663] [11431] 213 load.audio: in {len(recs): 1}"
    },
    {
     "name": "stdout",
     "output_type": "stream",
     "text": "\n"
    },
    {
     "name": "stdout",
     "output_type": "stream",
     "text": "DEBUG    [19:48:01.666] [11431] 356 load._transcode_path: Read: cache/audio/xc/data/RCKI/157428/audio.mp3.resample(22050,1,16).enc(wav)"
    },
    {
     "name": "stdout",
     "output_type": "stream",
     "text": "\n"
    },
    {
     "name": "stdout",
     "output_type": "stream",
     "text": "INFO     [19:48:01.671] [11431] 231 load.audio: out {len(audio): 1}"
    },
    {
     "name": "stdout",
     "output_type": "stream",
     "text": "\n"
    },
    {
     "name": "stdout",
     "output_type": "stream",
     "text": "DEBUG    [19:48:01.690] [11431] 179 sp14.model.spectro: Features.spectros:in {len(recs): 1, len(recs) per dataset: {xc: 1}, sum(duration_h): 0.00409, sum(samples_mb): 1.24, sum(samples_n): 649728}"
    },
    {
     "name": "stdout",
     "output_type": "stream",
     "text": "\n"
    },
    {
     "name": "stdout",
     "output_type": "stream",
     "text": "DEBUG    [19:48:01.694] [11431] 197 sp14.model.spectro: Features.spectros:out {'(f, sum(t))': [40, 1268]}"
    },
    {
     "name": "stdout",
     "output_type": "stream",
     "text": "\n"
    },
    {
     "name": "stdout",
     "output_type": "stream",
     "text": "DEBUG    [19:48:01.839] [11431] 481 load._transcode_audio: Read: cache/audio/xc/data/RCKI/157428/audio.mp3.resample(22050,1,16).enc(wav).slice(0,5000).enc(mp4,aac,64k)"
    },
    {
     "name": "stdout",
     "output_type": "stream",
     "text": "\n"
    },
    {
     "name": "stdout",
     "output_type": "stream",
     "text": "INFO     [19:48:01.916] [11431] 813 datasets.xc_meta_to_xc_raw_recs: [2/3 slower] Loading xc.metadata -> xc_raw_recs (.audio, more metadata)..."
    },
    {
     "name": "stdout",
     "output_type": "stream",
     "text": "\n"
    },
    {
     "name": "stdout",
     "output_type": "stream",
     "text": "INFO     [19:48:01.943] [11431] 213 load.audio: in {len(recs): 1}"
    },
    {
     "name": "stdout",
     "output_type": "stream",
     "text": "\n"
    },
    {
     "name": "stdout",
     "output_type": "stream",
     "text": "DEBUG    [19:48:01.947] [11431] 356 load._transcode_path: Read: cache/audio/xc/data/RCKI/157428/audio.mp3.resample(22050,1,16).enc(wav)"
    },
    {
     "name": "stdout",
     "output_type": "stream",
     "text": "\n"
    },
    {
     "name": "stdout",
     "output_type": "stream",
     "text": "INFO     [19:48:01.951] [11431] 231 load.audio: out {len(audio): 1}"
    },
    {
     "name": "stdout",
     "output_type": "stream",
     "text": "\n"
    },
    {
     "name": "stdout",
     "output_type": "stream",
     "text": "DEBUG    [19:48:01.971] [11431] 179 sp14.model.spectro: Features.spectros:in {len(recs): 1, len(recs) per dataset: {xc: 1}, sum(duration_h): 0.00409, sum(samples_mb): 1.24, sum(samples_n): 649728}"
    },
    {
     "name": "stdout",
     "output_type": "stream",
     "text": "\n"
    },
    {
     "name": "stdout",
     "output_type": "stream",
     "text": "DEBUG    [19:48:01.976] [11431] 197 sp14.model.spectro: Features.spectros:out {'(f, sum(t))': [40, 1268]}"
    },
    {
     "name": "stdout",
     "output_type": "stream",
     "text": "\n"
    },
    {
     "name": "stdout",
     "output_type": "stream",
     "text": "DEBUG    [19:48:02.124] [11431] 481 load._transcode_audio: Read: cache/audio/xc/data/RCKI/157428/audio.mp3.resample(22050,1,16).enc(wav).slice(0,5000).enc(mp4,libfdk_aac,64k)"
    },
    {
     "name": "stdout",
     "output_type": "stream",
     "text": "\n"
    }
   ],
   "source": [
    "with contextlib.ExitStack() as stack:\n",
    "    # stack.enter_context(cache_control(enabled=False))\n",
    "    # stack.enter_context(dask_opts(override_use_dask=False))  # XXX Easier-to-read logging [XXX No effect]\n",
    "    audio_evals = (\n",
    "        pd.concat([\n",
    "            # (recs\n",
    "            (sg.xc_meta\n",
    "\n",
    "                .sample(random_state=0,\n",
    "                    n=1,\n",
    "                    # n=3,\n",
    "                    # n=10,\n",
    "                    # n=100,\n",
    "                )\n",
    "\n",
    "                # .pipe(tap, lambda df: debug_print('recs_featurize_audio_meta'))\n",
    "                # XXX Only for our temp usage of sg.xc_meta; disable once we switch back to recs\n",
    "                .pipe(recs_featurize_audio_meta)\n",
    "\n",
    "                # .pipe(tap, lambda df: debug_print('load.audio'))\n",
    "                # Load .audio\n",
    "                # .pipe(sg.load.audio, scheduler='threads')\n",
    "                .pipe(sg.load.audio, use=None)\n",
    "\n",
    "                # Surface .audio_data, for inspection\n",
    "                .assign(\n",
    "                    audio_data=lambda df: df.audio.map(lambda x: np.frombuffer(x.unbox._data, dtype=np.uint8)),\n",
    "                )\n",
    "\n",
    "                # .pipe(tap, lambda df: debug_print('projection.transform'))\n",
    "                # Add .feat, .spectro from transcoded .audio\n",
    "                .pipe(sg.projection.transform)  # .feat\n",
    "                # .pipe(tap, lambda df: debug_print('features.spectro'))\n",
    "                .assign(spectro=lambda df: sg.features.spectro(df,  # .spectro is the input for thumb/micro\n",
    "                    # scheduler='threads',\n",
    "                    use=None,\n",
    "                    cache=True,\n",
    "                ))\n",
    "\n",
    "                # .pipe(tap, lambda df: debug_print('plot_thumb'))\n",
    "                # Add .thumb from transcoded .spectro, .audio\n",
    "                .pipe(df_assign_first, **dict(\n",
    "                    thumb=df_cell_spectros(plot_thumb.many, sg.features,\n",
    "                        thumb_s=5,\n",
    "                        scale=dict(h=int(40 * 4)),  # (scale)\n",
    "                        # progress=dict(use='dask', scheduler='threads'),\n",
    "                        progress=dict(use=None),\n",
    "                        _nocache=True,  # Dev: disable plot_many cache since it's blind to most of our sub-many code changes\n",
    "                        plot_kwargs=dict(audio_kwargs=dict(\n",
    "                            **audio_kwargs,  # Override config.audio_kwargs in viz -> display_with_audio\n",
    "                        )),\n",
    "                    ),\n",
    "                ))\n",
    "\n",
    "                # Drop cols\n",
    "                #   - .spectro: Trimmed to .micro/.thumb\n",
    "                #   - .*_stack: Redundant\n",
    "                .drop(columns=['spectro'])\n",
    "                [lambda df: [c for c in df if not c.endswith('_stack')]]\n",
    "\n",
    "                # Cosmetics\n",
    "                .pipe(df_reorder_cols, first=[\n",
    "                    'thumb', 'id', 'audio_data', 'duration_s', 'audio',\n",
    "                ])\n",
    "                .pipe(df_assign_first,\n",
    "                    format=audio_kwargs.get('format', ''),\n",
    "                    bitrate=audio_kwargs.get('bitrate', ''),\n",
    "                    codec=audio_kwargs.get('codec', ''),\n",
    "                )\n",
    "\n",
    "            )\n",
    "            for audio_kwargs in [\n",
    "\n",
    "                # TODO TODO Simplify .op().enc(wav) -> .op(), since saving is .enc(wav) by default\n",
    "                #   - Do:    .op().enc(wav) -> .op()\n",
    "                #   - Don't: .ext.enc(wav)  -> .ext\n",
    "\n",
    "                # dict(format='mp3', bitrate='64k'),\n",
    "\n",
    "                dict(format='wav'),\n",
    "                dict(format='mp3', bitrate='64k'),\n",
    "                dict(format='mp4', bitrate='64k',  codec='aac'),\n",
    "                dict(format='mp4', bitrate='64k',  codec='libfdk_aac'),\n",
    "\n",
    "                # dict(format='wav'),\n",
    "                # dict(format='mp3', bitrate='128k'),\n",
    "                # dict(format='mp3', bitrate='64k'),\n",
    "                # dict(format='mp3', bitrate='32k'),\n",
    "                # dict(format='mp3', bitrate='16k'),\n",
    "                # dict(format='mp3', bitrate='8k'),\n",
    "                # dict(format='mp4', bitrate='128k', codec='aac'),\n",
    "                # dict(format='mp4', bitrate='64k',  codec='aac'),\n",
    "                # dict(format='mp4', bitrate='32k',  codec='aac'),\n",
    "                # dict(format='mp4', bitrate='128k', codec='libfdk_aac'),\n",
    "                # dict(format='mp4', bitrate='64k',  codec='libfdk_aac'),\n",
    "                # dict(format='mp4', bitrate='32k',  codec='libfdk_aac'),\n",
    "                # dict(format='mp4', bitrate='8k',  codec='libfdk_aac'),\n",
    "\n",
    "            ]\n",
    "        ])\n",
    "    )"
   ]
  },
  {
   "cell_type": "code",
   "execution_count": null,
   "metadata": {
    "skip": true
   },
   "outputs": [],
   "source": [
    "(audio_evals\n",
    "    .reset_index()\n",
    "    .pipe(df_col_map, bitrate=lambda x: x and int(x[:-1]))  # str -> int, for sort\n",
    "    .sort_values(['xc_id', 'format', 'bitrate'], kind='mergesort')  # Stable sort\n",
    "    # [lambda df: df.format.isin(['mp3', 'wav'])]\n",
    "    # [lambda df: df.bitrate.isin([32, ''])]\n",
    ")"
   ]
  },
  {
   "cell_type": "code",
   "execution_count": null,
   "metadata": {},
   "outputs": [],
   "source": []
  }
 ],
 "metadata": {
  "kernelspec": {
   "display_name": "bubo-features (PYTHONSTARTUP)",
   "language": "python",
   "name": "bubo-features (PYTHONSTARTUP)"
  }
 },
 "nbformat": 4,
 "nbformat_minor": 2
}
