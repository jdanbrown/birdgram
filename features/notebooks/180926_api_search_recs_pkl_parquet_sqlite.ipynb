{
 "cells": [
  {
   "cell_type": "code",
   "execution_count": null,
   "metadata": {},
   "outputs": [
    {
     "name": "stdout",
     "output_type": "stream",
     "text": "INFO     [18:21:02.718] [45037]  32 api.server_globals/init"
    },
    {
     "name": "stdout",
     "output_type": "stream",
     "text": "\n"
    },
    {
     "name": "stdout",
     "output_type": "stream",
     "text": "DEBUG    [18:21:02.725] [45037]  75 api.server_globals/load: load_search..."
    },
    {
     "name": "stdout",
     "output_type": "stream",
     "text": "\n"
    },
    {
     "name": "stdout",
     "output_type": "stream",
     "text": "•"
    },
    {
     "name": "stdout",
     "output_type": "stream",
     "text": " api/server_globals/load_search(version=2)\n"
    },
    {
     "name": "stdout",
     "output_type": "stream",
     "text": "INFO     [18:21:03.048] [45037]  79 api.server_globals/load: load_search (took 0.316s)"
    },
    {
     "name": "stdout",
     "output_type": "stream",
     "text": "\n"
    },
    {
     "name": "stdout",
     "output_type": "stream",
     "text": "DEBUG    [18:21:03.054] [45037]  75 api.server_globals/load: load_xc_meta..."
    },
    {
     "name": "stdout",
     "output_type": "stream",
     "text": "\n"
    },
    {
     "name": "stdout",
     "output_type": "stream",
     "text": "•"
    },
    {
     "name": "stdout",
     "output_type": "stream",
     "text": " api/server_globals/load_xc_meta(version=3)\n"
    },
    {
     "name": "stdout",
     "output_type": "stream",
     "text": "INFO     [18:21:03.388] [45037]  79 api.server_globals/load: load_xc_meta (took 0.326s)"
    },
    {
     "name": "stdout",
     "output_type": "stream",
     "text": "\n"
    },
    {
     "name": "stdout",
     "output_type": "stream",
     "text": "DEBUG    [18:21:03.395] [45037]  75 api.server_globals/load: load_d_feats..."
    },
    {
     "name": "stdout",
     "output_type": "stream",
     "text": "\n"
    },
    {
     "name": "stdout",
     "output_type": "stream",
     "text": "INFO     [18:21:03.402] [45037] 110 api.server_globals/load_d_feats"
    },
    {
     "name": "stdout",
     "output_type": "stream",
     "text": "\n"
    },
    {
     "name": "stdout",
     "output_type": "stream",
     "text": "INFO     [18:21:03.407] [45037]  79 api.server_globals/load: load_d_feats (took 0.006s)"
    },
    {
     "name": "stdout",
     "output_type": "stream",
     "text": "\n"
    },
    {
     "name": "stdout",
     "output_type": "stream",
     "text": "WARNING  [18:21:03.412] [45037]  73 api.server_globals/load: load_search_recs [skipped]"
    },
    {
     "name": "stdout",
     "output_type": "stream",
     "text": "\n"
    },
    {
     "name": "stdout",
     "output_type": "stream",
     "text": "INFO     [18:21:03.418] [45037]  34 api.server_globals/init: done"
    },
    {
     "name": "stdout",
     "output_type": "stream",
     "text": "\n"
    }
   ],
   "source": [
    "from notebooks import *\n",
    "memory.log.level = 'debug'\n",
    "sg.init(app=None, skip=[sg_load.load_search_recs])"
   ]
  },
  {
   "cell_type": "markdown",
   "metadata": {},
   "source": [
    "# Faster(/smaller) search_recs load from disk\n",
    "\n",
    "Takeaways\n",
    "- Forget .pkl\n",
    "    - ~3x bigger, ~4–8x slower to read (vs. .sqlite/.parquet)\n",
    "- Forget .gzip\n",
    "    - ~10x slowdown\n",
    "    - TODO Revisit compression once we start sending payloads to mobile clients.\n",
    "- Start with float32 instead of float16\n",
    "    - Size: only ~1.2x bigger (.sqlite, .parquet) -- I was expecting ~2x\n",
    "    - Read time: ~1.8x for .sqlite, ~1.2x for .parquet\n",
    "    - TODO Revisit float16 later when we need ~1.2–2x gains\n",
    "- Start building on .sqlite, since .parquet is a dead end for mobile\n",
    "    - Size: same (< 1%)\n",
    "    - Read time: .sqlite ~2x slower than .parquet\n",
    "    - Write time: .sqlite ~10x slower than .parquet, but not a relevant bottleneck, and dominated by etl compute anyway\n",
    "- FIXME Crap, I forgot to account for the ~20s it takes to convert back _to_ search_recs from the serdes df\n",
    "    - ...\n",
    "\n",
    "Perf (from final cell)\n",
    "```\n",
    ".pkl                   n[35231] d[float16] file[1.7g] w[ 11s] r[7.0s] uss[904m]\n",
    ".parquet.uncompressed  n[35231] d[float16] file[607m] w[2.7s] r[1.0s] uss[304m]\n",
    ".parquet.gzip          n[35231] d[float16] file[530m] w[ 49s] r[8.7s] uss[405m]\n",
    ".sqlite                n[35231] d[float16] file[610m] w[ 38s] r[1.6s] uss[265m]\n",
    "\n",
    ".pkl                   n[35231] d[float32] file[2.1g] w[ 13s] r[ 10s] uss[1.1g]\n",
    ".parquet.uncompressed  n[35231] d[float32] file[736m] w[3.4s] r[1.2s] uss[384m]\n",
    ".parquet.gzip          n[35231] d[float32] file[652m] w[ 58s] r[ 11s] uss[503m]\n",
    ".sqlite                n[35231] d[float32] file[740m] w[ 37s] r[2.9s] uss[389m]\n",
    "```"
   ]
  },
  {
   "cell_type": "code",
   "execution_count": null,
   "metadata": {
    "time": "12.081s"
   },
   "outputs": [
    {
     "name": "stdout",
     "output_type": "stream",
     "text": "INFO     [18:21:05.677] [45037] 295 api.recs/get_search_recs"
    },
    {
     "name": "stdout",
     "output_type": "stream",
     "text": "\n"
    },
    {
     "name": "stdout",
     "output_type": "stream",
     "text": "INFO     [18:21:05.686] [45037] 344 api.recs/_compute_search_recs: {len(sg.xc_meta): 35233, countries_k: na, com_names_k: ca, num_recs: null}"
    },
    {
     "name": "stdout",
     "output_type": "stream",
     "text": "\n"
    },
    {
     "name": "stdout",
     "output_type": "stream",
     "text": "•"
    },
    {
     "name": "stdout",
     "output_type": "stream",
     "text": " api/recs/to_paths_sliced(version=0)\n"
    },
    {
     "name": "stdout",
     "output_type": "stream",
     "text": "•"
    },
    {
     "name": "stdout",
     "output_type": "stream",
     "text": " load/recs(version=2)\n"
    },
    {
     "name": "stdout",
     "output_type": "stream",
     "text": "•"
    },
    {
     "name": "stdout",
     "output_type": "stream",
     "text": " datasets/com_name_to_species_dict(version=0)\n"
    },
    {
     "name": "stdout",
     "output_type": "stream",
     "text": "•"
    },
    {
     "name": "stdout",
     "output_type": "stream",
     "text": " sp14/model/feat(version=0)\n"
    },
    {
     "name": "stdout",
     "output_type": "stream",
     "text": "\rf_f: ["
    },
    {
     "name": "stdout",
     "output_type": "stream",
     "text": "                                                                                         "
    },
    {
     "name": "stdout",
     "output_type": "stream",
     "text": "] |   0% (35231) |  0.0s"
    },
    {
     "name": "stdout",
     "output_type": "stream",
     "text": "\rf_f: ["
    },
    {
     "name": "stdout",
     "output_type": "stream",
     "text": "                                                                                         "
    },
    {
     "name": "stdout",
     "output_type": "stream",
     "text": "] |   0% (35231) |  0.1s"
    },
    {
     "name": "stdout",
     "output_type": "stream",
     "text": "\rf_f: ["
    },
    {
     "name": "stdout",
     "output_type": "stream",
     "text": "#########################################################################################"
    },
    {
     "name": "stdout",
     "output_type": "stream",
     "text": "] | 100% (35231) |  0.2s"
    },
    {
     "name": "stdout",
     "output_type": "stream",
     "text": "\n"
    },
    {
     "name": "stdout",
     "output_type": "stream",
     "text": "\rf_p: ["
    },
    {
     "name": "stdout",
     "output_type": "stream",
     "text": "                                                                                         "
    },
    {
     "name": "stdout",
     "output_type": "stream",
     "text": "] |   0% (35231) |  0.0s"
    },
    {
     "name": "stdout",
     "output_type": "stream",
     "text": "\rf_p: ["
    },
    {
     "name": "stdout",
     "output_type": "stream",
     "text": "                                                                                         "
    },
    {
     "name": "stdout",
     "output_type": "stream",
     "text": "] |   0% (35231) |  0.2s"
    },
    {
     "name": "stdout",
     "output_type": "stream",
     "text": "\rf_p: ["
    },
    {
     "name": "stdout",
     "output_type": "stream",
     "text": "                                                                                         "
    },
    {
     "name": "stdout",
     "output_type": "stream",
     "text": "] |   0% (35231) |  0.3s"
    },
    {
     "name": "stdout",
     "output_type": "stream",
     "text": "\rf_p: ["
    },
    {
     "name": "stdout",
     "output_type": "stream",
     "text": "                                                                                         "
    },
    {
     "name": "stdout",
     "output_type": "stream",
     "text": "] |   0% (35231) |  0.5s"
    },
    {
     "name": "stdout",
     "output_type": "stream",
     "text": "•"
    },
    {
     "name": "stdout",
     "output_type": "stream",
     "text": " sp14/model/species_proba(version=0)\n"
    },
    {
     "name": "stdout",
     "output_type": "stream",
     "text": "\rf_p: ["
    },
    {
     "name": "stdout",
     "output_type": "stream",
     "text": "                                                                                         "
    },
    {
     "name": "stdout",
     "output_type": "stream",
     "text": "] |   0% (35231) |  0.6s"
    },
    {
     "name": "stdout",
     "output_type": "stream",
     "text": "\rf_p: ["
    },
    {
     "name": "stdout",
     "output_type": "stream",
     "text": "#########################################################################################"
    },
    {
     "name": "stdout",
     "output_type": "stream",
     "text": "] | 100% (35231) |  0.7s"
    },
    {
     "name": "stdout",
     "output_type": "stream",
     "text": "\n"
    }
   ],
   "source": [
    "search_recs = get_search_recs(cache_type=None)"
   ]
  },
  {
   "cell_type": "code",
   "execution_count": null,
   "metadata": {},
   "outputs": [
    {
     "data": {
      "text/html": "<table border=\"1\" class=\"dataframe\">\n  <thead>\n    <tr style=\"text-align: right;\">\n      <th></th>\n      <th>type</th>\n      <th>0</th>\n    </tr>\n  </thead>\n  <tbody>\n    <tr>\n      <th>dataset</th>\n      <td><div class=\"not-number\">str</div></td>\n      <td><div class=\"not-number\">xc</div></td>\n    </tr>\n    <tr>\n      <th>species</th>\n      <td><div class=\"not-number\">str</div></td>\n      <td><div class=\"not-number\">SNGO</div></td>\n    </tr>\n    <tr>\n      <th>species_com_name</th>\n      <td><div class=\"not-number\">str</div></td>\n      <td><div class=\"not-number\">Snow Goose</div></td>\n    </tr>\n    <tr>\n      <th>species_query</th>\n      <td><div class=\"not-number\">str</div></td>\n      <td><div class=\"not-number\">SNGO</div></td>\n    </tr>\n    <tr>\n      <th>duration_s</th>\n      <td><div class=\"not-number\">float</div></td>\n      <td>10</td>\n    </tr>\n    <tr>\n      <th>samples_mb</th>\n      <td><div class=\"not-number\">float</div></td>\n      <td>0.422</td>\n    </tr>\n    <tr>\n      <th>samples_n</th>\n      <td><div class=\"not-number\">int</div></td>\n      <td>221184</td>\n    </tr>\n    <tr>\n      <th>basename</th>\n      <td><div class=\"not-number\">str</div></td>\n      <td><div class=\"not-number\">audio.mp3.resample(22050,1,16).enc(wav).slice(0,10000).spectro_denoise().enc(mp4,libfdk_aac,32k)</div></td>\n    </tr>\n    <tr>\n      <th>species_longhand</th>\n      <td><div class=\"not-number\">str</div></td>\n      <td><div class=\"not-number\">Snow Goose - SNGO</div></td>\n    </tr>\n    <tr>\n      <th>id</th>\n      <td><div class=\"not-number\">str</div></td>\n      <td><div class=\"not-number\">cache/audio/xc/data/SNGO/160423/audio.mp3.resample(22050,1,16).enc(wav).slice(0,10000).spectro_denoise().enc(mp4,libfdk_aac,32k)</div></td>\n    </tr>\n    <tr>\n      <th>path</th>\n      <td><div class=\"not-number\">str</div></td>\n      <td><div class=\"not-number\">cache/audio/xc/data/SNGO/160423/audio.mp3.resample(22050,1,16).enc(wav).slice(0,10000).spectro_denoise().enc(mp4,libfdk_aac,32k)</div></td>\n    </tr>\n    <tr>\n      <th>feat</th>\n      <td><div class=\"not-number\">ndarray</div></td>\n      <td><div class=\"not-number\">[ 7.474e-02  9.835e-03  5.619e-03 -1.867e-02 -6.157e-02 -3.629e-02  7.224e-02  9.607e-02  6.642e-02 -5.967e-02\n -1.622e-01  1.439e-02 -9.757e-02 -1.379e-02 -3.725e-02 -2.57...</td>\n    </tr>\n    <tr>\n      <th>xc_id</th>\n      <td><div class=\"not-number\">int</div></td>\n      <td>160423</td>\n    </tr>\n    <tr>\n      <th>channels</th>\n      <td><div class=\"not-number\">int</div></td>\n      <td>1</td>\n    </tr>\n    <tr>\n      <th>sample_rate</th>\n      <td><div class=\"not-number\">int</div></td>\n      <td>22050</td>\n    </tr>\n    <tr>\n      <th>sample_width_bit</th>\n      <td><div class=\"not-number\">int</div></td>\n      <td>16</td>\n    </tr>\n    <tr>\n      <th>downloaded</th>\n      <td><div class=\"not-number\">bool</div></td>\n      <td><div class=\"not-number\">True</div></td>\n    </tr>\n    <tr>\n      <th>subspecies</th>\n      <td><div class=\"not-number\">str</div></td>\n      <td><div class=\"not-number\"></div></td>\n    </tr>\n    <tr>\n      <th>recordist</th>\n      <td><div class=\"not-number\">str</div></td>\n      <td><div class=\"not-number\">Ian Cruickshank</div></td>\n    </tr>\n    <tr>\n      <th>country</th>\n      <td><div class=\"not-number\">str</div></td>\n      <td><div class=\"not-number\">Canada</div></td>\n    </tr>\n    <tr>\n      <th>locality</th>\n      <td><div class=\"not-number\">str</div></td>\n      <td><div class=\"not-number\">3 km south of Fishing Lake, SK</div></td>\n    </tr>\n    <tr>\n      <th>lat</th>\n      <td><div class=\"not-number\">float</div></td>\n      <td>51.8</td>\n    </tr>\n    <tr>\n      <th>lng</th>\n      <td><div class=\"not-number\">float</div></td>\n      <td>-104</td>\n    </tr>\n    <tr>\n      <th>type</th>\n      <td><div class=\"not-number\">str</div></td>\n      <td><div class=\"not-number\">flight call</div></td>\n    </tr>\n    <tr>\n      <th>quality</th>\n      <td><div class=\"not-number\">str</div></td>\n      <td><div class=\"not-number\">B</div></td>\n    </tr>\n    <tr>\n      <th>date</th>\n      <td><div class=\"not-number\">Timestamp</div></td>\n      <td><div class=\"not-number\">2013-05-16 00:00:00</div></td>\n    </tr>\n    <tr>\n      <th>time</th>\n      <td><div class=\"not-number\">str</div></td>\n      <td><div class=\"not-number\">07:48</div></td>\n    </tr>\n    <tr>\n      <th>license_type</th>\n      <td><div class=\"not-number\">str</div></td>\n      <td><div class=\"not-number\">by-nc-nd</div></td>\n    </tr>\n    <tr>\n      <th>license_detail</th>\n      <td><div class=\"not-number\">str</div></td>\n      <td><div class=\"not-number\">3.0</div></td>\n    </tr>\n    <tr>\n      <th>license</th>\n      <td><div class=\"not-number\">str</div></td>\n      <td><div class=\"not-number\">//creativecommons.org/licenses/by-nc-nd/3.0/</div></td>\n    </tr>\n    <tr>\n      <th>url</th>\n      <td><div class=\"not-number\">str</div></td>\n      <td><div class=\"not-number\">https://www.xeno-canto.org/160423</div></td>\n    </tr>\n    <tr>\n      <th>download</th>\n      <td><div class=\"not-number\">str</div></td>\n      <td><div class=\"not-number\">//www.xeno-canto.org/160423/download</div></td>\n    </tr>\n    <tr>\n      <th>remarks</th>\n      <td><div class=\"not-number\">str</div></td>\n      <td><div class=\"not-number\">Recorded on a Marantz PMD661 recorder using a Sennheiser ME66 microphone.</div></td>\n    </tr>\n    <tr>\n      <th>bird_seen</th>\n      <td><div class=\"not-number\">NoneType</div></td>\n      <td><div class=\"not-number\">None</div></td>\n    </tr>\n    <tr>\n      <th>playback_used</th>\n      <td><div class=\"not-number\">str</div></td>\n      <td><div class=\"not-number\">no</div></td>\n    </tr>\n    <tr>\n      <th>elevation</th>\n      <td><div class=\"not-number\">str</div></td>\n      <td><div class=\"not-number\">m</div></td>\n    </tr>\n    <tr>\n      <th>background</th>\n      <td><div class=\"not-number\">list</div></td>\n      <td><div class=\"not-number\">[]</div></td>\n    </tr>\n    <tr>\n      <th>volume</th>\n      <td><div class=\"not-number\">str</div></td>\n      <td><div class=\"not-number\">Not specified</div></td>\n    </tr>\n    <tr>\n      <th>speed</th>\n      <td><div class=\"not-number\">str</div></td>\n      <td><div class=\"not-number\">Not specified</div></td>\n    </tr>\n    <tr>\n      <th>pitch</th>\n      <td><div class=\"not-number\">str</div></td>\n      <td><div class=\"not-number\">Not specified</div></td>\n    </tr>\n    <tr>\n      <th>length</th>\n      <td><div class=\"not-number\">str</div></td>\n      <td><div class=\"not-number\">Not specified</div></td>\n    </tr>\n    <tr>\n      <th>number_of_notes</th>\n      <td><div class=\"not-number\">str</div></td>\n      <td><div class=\"not-number\">Not specified</div></td>\n    </tr>\n    <tr>\n      <th>variable</th>\n      <td><div class=\"not-number\">str</div></td>\n      <td><div class=\"not-number\">Not specified</div></td>\n    </tr>\n    <tr>\n      <th>xc_channels</th>\n      <td><div class=\"not-number\">str</div></td>\n      <td><div class=\"not-number\">1 (mono)</div></td>\n    </tr>\n    <tr>\n      <th>xc_sampling_rate</th>\n      <td><div class=\"not-number\">str</div></td>\n      <td><div class=\"not-number\">48000 (Hz)</div></td>\n    </tr>\n    <tr>\n      <th>xc_bitrate_of_mp3</th>\n      <td><div class=\"not-number\">str</div></td>\n      <td><div class=\"not-number\">128000 (bps)</div></td>\n    </tr>\n    <tr>\n      <th>state_only</th>\n      <td><div class=\"not-number\">str</div></td>\n      <td><div class=\"not-number\">SK</div></td>\n    </tr>\n    <tr>\n      <th>place_only</th>\n      <td><div class=\"not-number\">str</div></td>\n      <td><div class=\"not-number\">3 km south of Fishing Lake</div></td>\n    </tr>\n    <tr>\n      <th>state</th>\n      <td><div class=\"not-number\">str</div></td>\n      <td><div class=\"not-number\">SK, Canada</div></td>\n    </tr>\n    <tr>\n      <th>place</th>\n      <td><div class=\"not-number\">str</div></td>\n      <td><div class=\"not-number\">3 km south of Fishing Lake, SK, Canada</div></td>\n    </tr>\n    <tr>\n      <th>year</th>\n      <td><div class=\"not-number\">float</div></td>\n      <td>2.01e+03</td>\n    </tr>\n    <tr>\n      <th>month</th>\n      <td><div class=\"not-number\">float</div></td>\n      <td>5</td>\n    </tr>\n    <tr>\n      <th>month_day</th>\n      <td><div class=\"not-number\">str</div></td>\n      <td><div class=\"not-number\">05-16</div></td>\n    </tr>\n    <tr>\n      <th>hour</th>\n      <td><div class=\"not-number\">float</div></td>\n      <td>7</td>\n    </tr>\n    <tr>\n      <th>background_species</th>\n      <td><div class=\"not-number\">list</div></td>\n      <td><div class=\"not-number\">[]</div></td>\n    </tr>\n    <tr>\n      <th>n_background_species</th>\n      <td><div class=\"not-number\">int</div></td>\n      <td>0</td>\n    </tr>\n    <tr>\n      <th>f_f</th>\n      <td><div class=\"not-number\">ndarray</div></td>\n      <td><div class=\"not-number\">[ 7.474e-02  9.835e-03  5.619e-03 -1.867e-02 -6.157e-02 -3.629e-02  7.224e-02  9.607e-02  6.642e-02 -5.967e-02\n -1.622e-01  1.439e-02 -9.757e-02 -1.379e-02 -3.725e-02 -2.57...</td>\n    </tr>\n    <tr>\n      <th>f_p</th>\n      <td><div class=\"not-number\">ndarray</div></td>\n      <td><div class=\"not-number\">[7.027e-04 1.166e-03 1.250e-05 6.316e-04 1.665e-04 2.126e-02 6.039e-03 2.273e-03 2.053e-06 4.610e-04 5.492e-05\n 1.180e-04 1.803e-02 9.513e-03 1.523e-03 6.370e-03 8.321e-05 ...</td>\n    </tr>\n  </tbody>\n</table>",
      "text/plain": "                           type                                                                                                                                                                                                        0\ndataset                     str                                                                                                                                                                                                       xc\nspecies                     str                                                                                                                                                                                                     SNGO\nspecies_com_name            str                                                                                                                                                                                               Snow Goose\nspecies_query               str                                                                                                                                                                                                     SNGO\nduration_s                float                                                                                                                                                                                                       10\nsamples_mb                float                                                                                                                                                                                                    0.422\nsamples_n                   int                                                                                                                                                                                                   221184\nbasename                    str                                                                                                         audio.mp3.resample(22050,1,16).enc(wav).slice(0,10000).spectro_denoise().enc(mp4,libfdk_aac,32k)\nspecies_longhand            str                                                                                                                                                                                        Snow Goose - SNGO\nid                          str                                                                         cache/audio/xc/data/SNGO/160423/audio.mp3.resample(22050,1,16).enc(wav).slice(0,10000).spectro_denoise().enc(mp4,libfdk_aac,32k)\npath                        str                                                                         cache/audio/xc/data/SNGO/160423/audio.mp3.resample(22050,1,16).enc(wav).slice(0,10000).spectro_denoise().enc(mp4,libfdk_aac,32k)\nfeat                    ndarray  [0.07474482005725425, 0.009835413761898447, 0.0056191698694118605, -0.018669800989202488, -0.06157191323408055, -0.036292528998633146, 0.07224469793391358, 0.09607030767471811, 0.0664170769574707,...\nxc_id                       int                                                                                                                                                                                                   160423\nchannels                    int                                                                                                                                                                                                        1\nsample_rate                 int                                                                                                                                                                                                    22050\nsample_width_bit            int                                                                                                                                                                                                       16\ndownloaded                 bool                                                                                                                                                                                                     True\nsubspecies                  str                                                                                                                                                                                                         \nrecordist                   str                                                                                                                                                                                          Ian Cruickshank\ncountry                     str                                                                                                                                                                                                   Canada\nlocality                    str                                                                                                                                                                           3 km south of Fishing Lake, SK\nlat                       float                                                                                                                                                                                                     51.8\nlng                       float                                                                                                                                                                                                     -104\ntype                        str                                                                                                                                                                                              flight call\nquality                     str                                                                                                                                                                                                        B\ndate                  Timestamp                                                                                                                                                                                      2013-05-16 00:00:00\ntime                        str                                                                                                                                                                                                    07:48\nlicense_type                str                                                                                                                                                                                                 by-nc-nd\nlicense_detail              str                                                                                                                                                                                                      3.0\nlicense                     str                                                                                                                                                             //creativecommons.org/licenses/by-nc-nd/3.0/\nurl                         str                                                                                                                                                                        https://www.xeno-canto.org/160423\ndownload                    str                                                                                                                                                                     //www.xeno-canto.org/160423/download\nremarks                     str                                                                                                                                Recorded on a Marantz PMD661 recorder using a Sennheiser ME66 microphone.\nbird_seen              NoneType                                                                                                                                                                                                     None\nplayback_used               str                                                                                                                                                                                                       no\nelevation                   str                                                                                                                                                                                                        m\nbackground                 list                                                                                                                                                                                                       []\nvolume                      str                                                                                                                                                                                            Not specified\nspeed                       str                                                                                                                                                                                            Not specified\npitch                       str                                                                                                                                                                                            Not specified\nlength                      str                                                                                                                                                                                            Not specified\nnumber_of_notes             str                                                                                                                                                                                            Not specified\nvariable                    str                                                                                                                                                                                            Not specified\nxc_channels                 str                                                                                                                                                                                                 1 (mono)\nxc_sampling_rate            str                                                                                                                                                                                               48000 (Hz)\nxc_bitrate_of_mp3           str                                                                                                                                                                                             128000 (bps)\nstate_only                  str                                                                                                                                                                                                       SK\nplace_only                  str                                                                                                                                                                               3 km south of Fishing Lake\nstate                       str                                                                                                                                                                                               SK, Canada\nplace                       str                                                                                                                                                                   3 km south of Fishing Lake, SK, Canada\nyear                      float                                                                                                                                                                                                 2.01e+03\nmonth                     float                                                                                                                                                                                                        5\nmonth_day                   str                                                                                                                                                                                                    05-16\nhour                      float                                                                                                                                                                                                        7\nbackground_species         list                                                                                                                                                                                                       []\nn_background_species        int                                                                                                                                                                                                        0\nf_f                     ndarray  [0.07474482, 0.009835414, 0.0056191697, -0.0186698, -0.061571915, -0.03629253, 0.0722447, 0.096070305, 0.066417076, -0.059674013, -0.16223949, 0.014394213, -0.0975687, -0.013793418, -0.03724583, -...\nf_p                     ndarray  [0.0007026868712228393, 0.0011663500303763707, 1.249527322682536e-05, 0.0006315683537115189, 0.00016651858219773189, 0.02125522505312798, 0.006039455495594188, 0.00227332030409406, 2.0530681882017..."
     },
     "execution_count": 5,
     "metadata": {},
     "output_type": "execute_result"
    }
   ],
   "source": [
    "# Inspect types + values\n",
    "(search_recs\n",
    "    [:1].T\n",
    "    .pipe(df_assign_first, type=lambda df: df[0].map(lambda x: type(x).__name__))\n",
    ")"
   ]
  },
  {
   "cell_type": "code",
   "execution_count": null,
   "metadata": {
    "time": "2.305s"
   },
   "outputs": [
    {
     "name": "stdout",
     "output_type": "stream",
     "text": "shape: (35231, 58)"
    },
    {
     "name": "stdout",
     "output_type": "stream",
     "text": "\n"
    },
    {
     "name": "stdout",
     "output_type": "stream",
     "text": "\n"
    },
    {
     "name": "stdout",
     "output_type": "stream",
     "text": "dtype: None"
    },
    {
     "name": "stdout",
     "output_type": "stream",
     "text": "\n"
    },
    {
     "name": "stdout",
     "output_type": "stream",
     "text": "total: 537.4 MB"
    },
    {
     "name": "stdout",
     "output_type": "stream",
     "text": "\n"
    },
    {
     "data": {
      "text/html": "<table border=\"1\" class=\"dataframe\">\n  <thead>\n    <tr style=\"text-align: right;\">\n      <th></th>\n      <th>mem</th>\n      <th>rev_cumsum</th>\n      <th>cumsum</th>\n    </tr>\n  </thead>\n  <tbody>\n    <tr>\n      <th>feat</th>\n      <td><div class=\"not-number\">426.4 MB</div></td>\n      <td><div class=\"not-number\">537.4 MB</div></td>\n      <td><div class=\"not-number\">426.4 MB</div></td>\n    </tr>\n    <tr>\n      <th>id</th>\n      <td><div class=\"not-number\">6.5 MB</div></td>\n      <td><div class=\"not-number\">111.0 MB</div></td>\n      <td><div class=\"not-number\">432.9 MB</div></td>\n    </tr>\n    <tr>\n      <th>path</th>\n      <td><div class=\"not-number\">6.5 MB</div></td>\n      <td><div class=\"not-number\">104.5 MB</div></td>\n      <td><div class=\"not-number\">439.4 MB</div></td>\n    </tr>\n    <tr>\n      <th>basename</th>\n      <td><div class=\"not-number\">5.4 MB</div></td>\n      <td><div class=\"not-number\">98.0 MB</div></td>\n      <td><div class=\"not-number\">444.8 MB</div></td>\n    </tr>\n    <tr>\n      <th>remarks</th>\n      <td><div class=\"not-number\">5.3 MB</div></td>\n      <td><div class=\"not-number\">92.6 MB</div></td>\n      <td><div class=\"not-number\">450.2 MB</div></td>\n    </tr>\n  </tbody>\n</table>",
      "text/plain": "               mem rev_cumsum    cumsum\nfeat      426.4 MB   537.4 MB  426.4 MB\nid          6.5 MB   111.0 MB  432.9 MB\npath        6.5 MB   104.5 MB  439.4 MB\nbasename    5.4 MB    98.0 MB  444.8 MB\nremarks     5.3 MB    92.6 MB  450.2 MB"
     },
     "metadata": {},
     "output_type": "display_data",
     "transient": {}
    },
    {
     "name": "stdout",
     "output_type": "stream",
     "text": "\n"
    },
    {
     "name": "stdout",
     "output_type": "stream",
     "text": "dtype: <class 'numpy.float64'>"
    },
    {
     "name": "stdout",
     "output_type": "stream",
     "text": "\n"
    },
    {
     "name": "stdout",
     "output_type": "stream",
     "text": "total: 1.1 GB"
    },
    {
     "name": "stdout",
     "output_type": "stream",
     "text": "\n"
    },
    {
     "data": {
      "text/html": "<table border=\"1\" class=\"dataframe\">\n  <thead>\n    <tr style=\"text-align: right;\">\n      <th></th>\n      <th>mem</th>\n      <th>rev_cumsum</th>\n      <th>cumsum</th>\n    </tr>\n  </thead>\n  <tbody>\n    <tr>\n      <th>feat</th>\n      <td><div class=\"not-number\">426.4 MB</div></td>\n      <td><div class=\"not-number\">1.1 GB</div></td>\n      <td><div class=\"not-number\">426.4 MB</div></td>\n    </tr>\n    <tr>\n      <th>f_f</th>\n      <td><div class=\"not-number\">426.4 MB</div></td>\n      <td><div class=\"not-number\">627.1 MB</div></td>\n      <td><div class=\"not-number\">852.9 MB</div></td>\n    </tr>\n    <tr>\n      <th>f_p</th>\n      <td><div class=\"not-number\">97.0 MB</div></td>\n      <td><div class=\"not-number\">200.6 MB</div></td>\n      <td><div class=\"not-number\">949.8 MB</div></td>\n    </tr>\n    <tr>\n      <th>id</th>\n      <td><div class=\"not-number\">6.5 MB</div></td>\n      <td><div class=\"not-number\">103.7 MB</div></td>\n      <td><div class=\"not-number\">956.3 MB</div></td>\n    </tr>\n    <tr>\n      <th>path</th>\n      <td><div class=\"not-number\">6.5 MB</div></td>\n      <td><div class=\"not-number\">97.2 MB</div></td>\n      <td><div class=\"not-number\">962.8 MB</div></td>\n    </tr>\n  </tbody>\n</table>",
      "text/plain": "           mem rev_cumsum    cumsum\nfeat  426.4 MB     1.1 GB  426.4 MB\nf_f   426.4 MB   627.1 MB  852.9 MB\nf_p    97.0 MB   200.6 MB  949.8 MB\nid      6.5 MB   103.7 MB  956.3 MB\npath    6.5 MB    97.2 MB  962.8 MB"
     },
     "metadata": {},
     "output_type": "display_data",
     "transient": {}
    },
    {
     "name": "stdout",
     "output_type": "stream",
     "text": "\n"
    },
    {
     "name": "stdout",
     "output_type": "stream",
     "text": "dtype: <class 'numpy.float32'>"
    },
    {
     "name": "stdout",
     "output_type": "stream",
     "text": "\n"
    },
    {
     "name": "stdout",
     "output_type": "stream",
     "text": "total: 795.5 MB"
    },
    {
     "name": "stdout",
     "output_type": "stream",
     "text": "\n"
    },
    {
     "data": {
      "text/html": "<table border=\"1\" class=\"dataframe\">\n  <thead>\n    <tr style=\"text-align: right;\">\n      <th></th>\n      <th>mem</th>\n      <th>rev_cumsum</th>\n      <th>cumsum</th>\n    </tr>\n  </thead>\n  <tbody>\n    <tr>\n      <th>feat</th>\n      <td><div class=\"not-number\">426.4 MB</div></td>\n      <td><div class=\"not-number\">795.5 MB</div></td>\n      <td><div class=\"not-number\">426.4 MB</div></td>\n    </tr>\n    <tr>\n      <th>f_f</th>\n      <td><div class=\"not-number\">215.1 MB</div></td>\n      <td><div class=\"not-number\">369.0 MB</div></td>\n      <td><div class=\"not-number\">641.5 MB</div></td>\n    </tr>\n    <tr>\n      <th>f_p</th>\n      <td><div class=\"not-number\">50.3 MB</div></td>\n      <td><div class=\"not-number\">154.0 MB</div></td>\n      <td><div class=\"not-number\">691.8 MB</div></td>\n    </tr>\n    <tr>\n      <th>id</th>\n      <td><div class=\"not-number\">6.5 MB</div></td>\n      <td><div class=\"not-number\">103.7 MB</div></td>\n      <td><div class=\"not-number\">698.3 MB</div></td>\n    </tr>\n    <tr>\n      <th>path</th>\n      <td><div class=\"not-number\">6.5 MB</div></td>\n      <td><div class=\"not-number\">97.2 MB</div></td>\n      <td><div class=\"not-number\">704.8 MB</div></td>\n    </tr>\n  </tbody>\n</table>",
      "text/plain": "           mem rev_cumsum    cumsum\nfeat  426.4 MB   795.5 MB  426.4 MB\nf_f   215.1 MB   369.0 MB  641.5 MB\nf_p    50.3 MB   154.0 MB  691.8 MB\nid      6.5 MB   103.7 MB  698.3 MB\npath    6.5 MB    97.2 MB  704.8 MB"
     },
     "metadata": {},
     "output_type": "display_data",
     "transient": {}
    },
    {
     "name": "stdout",
     "output_type": "stream",
     "text": "\n"
    },
    {
     "name": "stdout",
     "output_type": "stream",
     "text": "dtype: <class 'numpy.float16'>"
    },
    {
     "name": "stdout",
     "output_type": "stream",
     "text": "\n"
    },
    {
     "name": "stdout",
     "output_type": "stream",
     "text": "total: 666.5 MB"
    },
    {
     "name": "stdout",
     "output_type": "stream",
     "text": "\n"
    },
    {
     "data": {
      "text/html": "<table border=\"1\" class=\"dataframe\">\n  <thead>\n    <tr style=\"text-align: right;\">\n      <th></th>\n      <th>mem</th>\n      <th>rev_cumsum</th>\n      <th>cumsum</th>\n    </tr>\n  </thead>\n  <tbody>\n    <tr>\n      <th>feat</th>\n      <td><div class=\"not-number\">426.4 MB</div></td>\n      <td><div class=\"not-number\">666.5 MB</div></td>\n      <td><div class=\"not-number\">426.4 MB</div></td>\n    </tr>\n    <tr>\n      <th>f_f</th>\n      <td><div class=\"not-number\">109.4 MB</div></td>\n      <td><div class=\"not-number\">240.0 MB</div></td>\n      <td><div class=\"not-number\">535.8 MB</div></td>\n    </tr>\n    <tr>\n      <th>f_p</th>\n      <td><div class=\"not-number\">27.0 MB</div></td>\n      <td><div class=\"not-number\">130.7 MB</div></td>\n      <td><div class=\"not-number\">562.8 MB</div></td>\n    </tr>\n    <tr>\n      <th>id</th>\n      <td><div class=\"not-number\">6.5 MB</div></td>\n      <td><div class=\"not-number\">103.7 MB</div></td>\n      <td><div class=\"not-number\">569.3 MB</div></td>\n    </tr>\n    <tr>\n      <th>path</th>\n      <td><div class=\"not-number\">6.5 MB</div></td>\n      <td><div class=\"not-number\">97.2 MB</div></td>\n      <td><div class=\"not-number\">575.8 MB</div></td>\n    </tr>\n  </tbody>\n</table>",
      "text/plain": "           mem rev_cumsum    cumsum\nfeat  426.4 MB   666.5 MB  426.4 MB\nf_f   109.4 MB   240.0 MB  535.8 MB\nf_p    27.0 MB   130.7 MB  562.8 MB\nid      6.5 MB   103.7 MB  569.3 MB\npath    6.5 MB    97.2 MB  575.8 MB"
     },
     "metadata": {},
     "output_type": "display_data",
     "transient": {}
    }
   ],
   "source": [
    "# How big are f_*?\n",
    "#   - float16 or float32? -- see takeaways below\n",
    "print(f'shape: {search_recs.shape}')\n",
    "for dtype in [\n",
    "    None,        # total[703m] = no_f_*[116m] + f_*[587m] (= f_f[479m] + f_p[108m]) -- List[float]\n",
    "    np.float64,  # total[639m] = no_f_*[116m] + f_*[523m] (= f_f[426m] + f_p[ 97m]) -- Same as np.float (np default)\n",
    "    np.float32,  # total[381m] = no_f_*[116m] + f_*[265m] (= f_f[215m] + f_p[ 50m])\n",
    "    np.float16,  # total[252m] = no_f_*[116m] + f_*[136m] (= f_f[109m] + f_p[ 27m])\n",
    "]:\n",
    "    mem = (search_recs\n",
    "        # [:1000]  # XXX Faster dev\n",
    "        .pipe(lambda df: df if dtype is None else (df\n",
    "            .pipe(df_col_map,\n",
    "                f_f=lambda xs: np.array(xs, dtype=dtype),  # List[float] -> np.ndarray\n",
    "                f_p=lambda xs: np.array(xs, dtype=dtype),  # List[float] -> np.ndarray\n",
    "            )\n",
    "        ))\n",
    "        .memory_usage(deep=True)\n",
    "        .sort_values(ascending=False)\n",
    "    )\n",
    "    print()\n",
    "    print(f'dtype: {dtype}')\n",
    "    print(f'total: {humanize.naturalsize(mem.sum())}')\n",
    "    display(mem\n",
    "        .to_frame().rename(columns={0: 'mem'})\n",
    "        .sort_values('mem', ascending=True)\n",
    "        .assign(rev_cumsum=lambda df: df.mem.cumsum())\n",
    "        .sort_values('mem', ascending=False)\n",
    "        .assign(cumsum=lambda df: df.mem.cumsum())\n",
    "        .applymap(humanize.naturalsize)\n",
    "        [:5]\n",
    "% {time: 75.128s}\n",
    "   )"
   ]
  },
  {
   "cell_type": "code",
   "execution_count": null,
   "metadata": {
    "time": "147.725s"
   },
   "outputs": [
    {
     "name": "stdout",
     "output_type": "stream",
     "text": "time[00:13.071] /dev/null to_serdes                                    "
    },
    {
     "name": "stdout",
     "output_type": "stream",
     "text": "uss[ 464.5 MB]"
    },
    {
     "name": "stdout",
     "output_type": "stream",
     "text": " file[     0 B]"
    },
    {
     "name": "stdout",
     "output_type": "stream",
     "text": "\n"
    },
    {
     "name": "stdout",
     "output_type": "stream",
     "text": "time[00:19.966] /dev/null from_serdes                                  "
    },
    {
     "name": "stdout",
     "output_type": "stream",
     "text": "uss[ 460.1 MB]"
    },
    {
     "name": "stdout",
     "output_type": "stream",
     "text": " file[     0 B]"
    },
    {
     "name": "stdout",
     "output_type": "stream",
     "text": "\n"
    },
    {
     "name": "stdout",
     "output_type": "stream",
     "text": "time[00:02.964] /tmp/df-5-35231-float16.parquet.uncompressed write     "
    },
    {
     "name": "stdout",
     "output_type": "stream",
     "text": "uss[   7.9 MB]"
    },
    {
     "name": "stdout",
     "output_type": "stream",
     "text": " file[607.8 MB]"
    },
    {
     "name": "stdout",
     "output_type": "stream",
     "text": "\n"
    },
    {
     "name": "stdout",
     "output_type": "stream",
     "text": "time[00:01.256] /tmp/df-5-35231-float16.parquet.uncompressed read      "
    },
    {
     "name": "stdout",
     "output_type": "stream",
     "text": "uss[ 692.9 MB]"
    },
    {
     "name": "stdout",
     "output_type": "stream",
     "text": " file[607.8 MB]"
    },
    {
     "name": "stdout",
     "output_type": "stream",
     "text": "\n"
    },
    {
     "name": "stdout",
     "output_type": "stream",
     "text": "time[00:34.181] /tmp/df-5-35231-float16.sqlite write                   "
    },
    {
     "name": "stdout",
     "output_type": "stream",
     "text": "uss[-272.0 MB]"
    },
    {
     "name": "stdout",
     "output_type": "stream",
     "text": " file[610.0 MB]"
    },
    {
     "name": "stdout",
     "output_type": "stream",
     "text": "\n"
    },
    {
     "name": "stdout",
     "output_type": "stream",
     "text": "time[00:01.659] /tmp/df-5-35231-float16.sqlite read                    "
    },
    {
     "name": "stdout",
     "output_type": "stream",
     "text": "uss[ 236.1 MB]"
    },
    {
     "name": "stdout",
     "output_type": "stream",
     "text": " file[610.0 MB]"
    },
    {
     "name": "stdout",
     "output_type": "stream",
     "text": "\n"
    },
    {
     "name": "stdout",
     "output_type": "stream",
     "text": "\n"
    },
    {
     "name": "stdout",
     "output_type": "stream",
     "text": "time[00:13.211] /dev/null to_serdes                                    "
    },
    {
     "name": "stdout",
     "output_type": "stream",
     "text": "uss[ 366.2 MB]"
    },
    {
     "name": "stdout",
     "output_type": "stream",
     "text": " file[     0 B]"
    },
    {
     "name": "stdout",
     "output_type": "stream",
     "text": "\n"
    },
    {
     "name": "stdout",
     "output_type": "stream",
     "text": "time[00:19.889] /dev/null from_serdes                                  "
    },
    {
     "name": "stdout",
     "output_type": "stream",
     "text": "uss[ 440.0 MB]"
    },
    {
     "name": "stdout",
     "output_type": "stream",
     "text": " file[     0 B]"
    },
    {
     "name": "stdout",
     "output_type": "stream",
     "text": "\n"
    },
    {
     "name": "stdout",
     "output_type": "stream",
     "text": "time[00:03.519] /tmp/df-5-35231-float32.parquet.uncompressed write     "
    },
    {
     "name": "stdout",
     "output_type": "stream",
     "text": "uss[-278.5 kB]"
    },
    {
     "name": "stdout",
     "output_type": "stream",
     "text": " file[736.8 MB]"
    },
    {
     "name": "stdout",
     "output_type": "stream",
     "text": "\n"
    },
    {
     "name": "stdout",
     "output_type": "stream",
     "text": "time[00:01.321] /tmp/df-5-35231-float32.parquet.uncompressed read      "
    },
    {
     "name": "stdout",
     "output_type": "stream",
     "text": "uss[ 437.0 MB]"
    },
    {
     "name": "stdout",
     "output_type": "stream",
     "text": " file[736.8 MB]"
    },
    {
     "name": "stdout",
     "output_type": "stream",
     "text": "\n"
    },
    {
     "name": "stdout",
     "output_type": "stream",
     "text": "time[00:28.970] /tmp/df-5-35231-float32.sqlite write                   "
    },
    {
     "name": "stdout",
     "output_type": "stream",
     "text": "uss[  62.2 MB]"
    },
    {
     "name": "stdout",
     "output_type": "stream",
     "text": " file[740.4 MB]"
    },
    {
     "name": "stdout",
     "output_type": "stream",
     "text": "\n"
    },
    {
     "name": "stdout",
     "output_type": "stream",
     "text": "time[00:01.694] /tmp/df-5-35231-float32.sqlite read                    "
    },
    {
     "name": "stdout",
     "output_type": "stream",
     "text": "uss[ 303.3 MB]"
    },
    {
     "name": "stdout",
     "output_type": "stream",
     "text": " file[740.5 MB]"
    },
    {
     "name": "stdout",
     "output_type": "stream",
     "text": "\n"
    },
    {
     "name": "stdout",
     "output_type": "stream",
     "text": "\n"
    }
   ],
   "source": [
    "# Perf (results recorded in next cell)\n",
    "def measure(path, msg, f):\n",
    "    # Various contortions to print time + mem delta + file size on one line\n",
    "    with print_mem_delta(\n",
    "        collect_before=True, collect_after=False,\n",
    "        desc=None,\n",
    "        format='uss[%(uss)9s]',  # uss > rss,vms [https://psutil.readthedocs.io/en/latest/#psutil.Process.memory_full_info]\n",
    "        print=partial(print, end='')\n",
    "    ):\n",
    "        # Retain ret to ensure mem delta is measured before it's collected\n",
    "        ret = timed_print(f=f, msg='time[%%s] %-55s' % f'{path} {msg}', print=partial(print, end=''))\n",
    "    print(' file[%8s]' % naturalsize(Path(path).stat().st_size))\n",
    "    return ret\n",
    "\n",
    "run = AttrDict(\n",
    "\n",
    "    # Params\n",
    "    version=5,\n",
    "    n=(\n",
    "        # len(search_recs) // 100\n",
    "        # len(search_recs) // 10\n",
    "        len(search_recs)\n",
    "    ),\n",
    "    array_dtypes=[\n",
    "        np.float16,\n",
    "        np.float32,\n",
    "    ],\n",
    "\n",
    "    # File formats\n",
    "    # pkl=None,  # Slow\n",
    "    parquet=[\n",
    "        'uncompressed',  # Fast\n",
    "        # 'gzip',  # Slow\n",
    "        # 'snappy',  # Not installed [should be faster than gzip]\n",
    "    ],\n",
    "    sqlite=None,  # Fast\n",
    "\n",
    ")\n",
    "\n",
    "for array_dtype in run.array_dtypes:\n",
    "    path = f'/tmp/df-{run.version}-{run.n}-{array_dtype.__name__}'\n",
    "    df = (search_recs\n",
    "        # Limit (for faster dev)\n",
    "        [:run.n]\n",
    "        # HACK Drop df_cell cols (currently just *_stack)\n",
    "        #   - TODO Format the ones that matter as str/bytes (e.g. html)\n",
    "        [lambda df: [c for c in df if not c.endswith('_stack')]]\n",
    "        # ~10x faster to serdes np.array than list (but only slightly more compact)\n",
    "        .pipe(df_col_map,\n",
    "            f_f=lambda xs: np.array(xs, dtype=array_dtype),  # List[float] -> np.ndarray\n",
    "            f_p=lambda xs: np.array(xs, dtype=array_dtype),  # List[float] -> np.ndarray\n",
    "        )\n",
    "    )\n",
    "    to_serdes = lambda df: (df\n",
    "        # Convert types for serdes\n",
    "        .pipe(df_col_map,\n",
    "            feat=np_save_to_bytes,          # np.array -> bytes (.parquet, .sqlite)\n",
    "            f_f=np_save_to_bytes,           # np.array -> bytes (.parquet, .sqlite)\n",
    "            f_p=np_save_to_bytes,           # np.array -> bytes (.parquet, .sqlite)\n",
    "            background=json.dumps,          # List[str] -> str (.sqlite)\n",
    "            background_species=json.dumps,  # List[str] -> str (.sqlite)\n",
    "        )\n",
    "    )\n",
    "    from_serdes = lambda df: (df\n",
    "        # Convert types from serdes\n",
    "        .pipe(df_col_map,\n",
    "            feat=np_load_from_bytes,        # np.array <- bytes (.parquet, .sqlite)\n",
    "            f_f=np_load_from_bytes,         # np.array <- bytes (.parquet, .sqlite)\n",
    "            f_p=np_load_from_bytes,         # np.array <- bytes (.parquet, .sqlite)\n",
    "            background=json.loads,          # List[str] <- str (.sqlite)\n",
    "            background_species=json.loads,  # List[str] <- str (.sqlite)\n",
    "        )\n",
    "    )\n",
    "    df = measure('/dev/null', 'to_serdes',   lambda: to_serdes(df))\n",
    "    _  = measure('/dev/null', 'from_serdes', lambda: from_serdes(df))\n",
    "    if 'pkl' in run:\n",
    "        pkl_path = f'{path}.pkl'\n",
    "        measure(pkl_path, 'write', lambda: joblib.dump(df, pkl_path))\n",
    "        measure(pkl_path, 'read',  lambda: joblib.load(pkl_path))\n",
    "    if 'parquet' in run:\n",
    "        for compression in run.parquet:\n",
    "            parquet_path = f'{path}.parquet.{compression}'\n",
    "            measure(parquet_path, 'write', lambda: df.to_parquet(parquet_path, engine='fastparquet', compression=compression))\n",
    "            measure(parquet_path, 'read',  lambda: pd.read_parquet(parquet_path, engine='fastparquet'))\n",
    "    if 'sqlite' in run:\n",
    "        sqlite_path = f'{path}.sqlite'\n",
    "        eng = sqla.create_engine(f'sqlite:///{sqlite_path}')\n",
    "        with eng.begin() as con:\n",
    "            measure(sqlite_path, 'write', lambda: df.to_sql('df', con=con, if_exists='replace',\n",
    "                chunksize=1000,  # Else mem unsafe (default is to write all rows in same operation)\n",
    "            ))\n",
    "            measure(sqlite_path, 'read',  lambda: pd.read_sql_table('df', con=con))\n",
    "        eng.dispose()  # Release conn pools\n",
    "    print()"
   ]
  },
  {
   "cell_type": "code",
   "execution_count": null,
   "metadata": {},
   "outputs": [],
   "source": []
  }
 ],
 "metadata": {
  "kernelspec": {
   "display_name": "bubo-features (PYTHONSTARTUP)",
   "language": "python",
   "name": "bubo-features (PYTHONSTARTUP)"
  }
 },
 "nbformat": 4,
 "nbformat_minor": 2
}
