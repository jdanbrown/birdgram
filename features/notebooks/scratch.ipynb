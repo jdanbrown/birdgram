{
 "cells": [
  {
   "cell_type": "code",
   "execution_count": null,
   "metadata": {},
   "outputs": [],
   "source": [
    "from notebooks import *"
   ]
  },
  {
   "cell_type": "code",
   "execution_count": null,
   "metadata": {},
   "outputs": [],
   "source": [
    "%%time\n",
    "joypy.joyplot(\n",
    "    # Perf: kind='kde' and kind='counts' are roughly the same\n",
    "    # kind='kde',\n",
    "    kind='counts', bins=80,\n",
    "    fill=False,\n",
    "    linecolor='k',\n",
    "    linewidth=.5,\n",
    "    xlabels=True,\n",
    "    ylabels=False,\n",
    "    # overlap=.001,\n",
    "    # overlap=.01,\n",
    "    # overlap=.1,\n",
    "    # overlap=.5,\n",
    "    # overlap=1,\n",
    "    # XXX This gets _very slow_ with more lines\n",
    "    #   - Unusable >100, and our spectro Sxx are more like ~600\n",
    "    data=[\n",
    "        stats.distributions.norm.rvs(mu, 10, 100)\n",
    "        for mu in np.arange(50)\n",
    "    ],\n",
    ")\n",
    "plt.show()"
   ]
  },
  {
   "cell_type": "code",
   "execution_count": null,
   "metadata": {},
   "outputs": [],
   "source": [
    "# Here's what's required to turn an FT into a periodogram (power by freq)\n",
    "#   - TODO Oops, x-axis is still off by 2x...\n",
    "x = ...  # Real signal, e.g. audio waveform\n",
    "sample_rate = 22050\n",
    "f, Pxx = scipy.signal.periodogram(x, fs=sample_rate, scaling='spectrum')\n",
    "plt.plot(f, Pxx); plt.show()\n",
    "plt.plot((np.abs(np.fft.rfft(x)) / len(x))**2 * 2); plt.show()"
   ]
  },
  {
   "cell_type": "code",
   "execution_count": null,
   "metadata": {},
   "outputs": [],
   "source": [
    "# Diff spectro vs. librosa melspectrogram\n",
    "f, t, Sxx = np.abs(spectro(audio, nperseg=nperseg, overlap=overlap, detrend='constant', scaling='density', mode='complex'))**2\n",
    "Sxx = Sxx * 1024**2 * 8  # Works with scaling='density'\n",
    "display(Sxx.shape)\n",
    "plt.hist(Sxx.flatten(), bins=100, log=True); plt.show()\n",
    "Sxx = librosa.power_to_db(np.dot(mel_basis, Sxx)); display(Sxx.shape)\n",
    "# plt.pcolormesh(Sxx); [s.set_visible(False) for s in plt.gca().spines.values()]; plt.show()\n",
    "\n",
    "n_fft = nperseg\n",
    "Sxx = librosa.feature.melspectrogram(x.astype(float), sample_rate, None, n_fft, int(n_fft*(1-overlap)), n_mels=n_mels, power=2)\n",
    "display(Sxx.shape)\n",
    "plt.hist(Sxx.flatten(), bins=100, log=True); plt.show()\n",
    "Sxx = librosa.power_to_db(np.dot(mel_basis, Sxx)); display(Sxx.shape)\n",
    "# plt.pcolormesh(Sxx); [s.set_visible(False) for s in plt.gca().spines.values()]; plt.show()"
   ]
  },
  {
   "cell_type": "code",
   "execution_count": null,
   "metadata": {},
   "outputs": [],
   "source": [
    "# Diff mfcc vs. librosa mfcc\n",
    "n_mfcc = 1024\n",
    "plt_mfcc(x, mfcc=partial(mfcc, mels_div=2, n_mfcc=n_mfcc, std=True), show_audio=False, fancy=False)\n",
    "plt.gca().yaxis.set_major_formatter(mpl.ticker.FormatStrFormatter(''))\n",
    "plt.show()\n",
    "\n",
    "M = librosa.feature.mfcc(x.astype(float), sample_rate, n_mfcc=n_mfcc)\n",
    "M = (M - M.mean(axis=1)[:, np.newaxis]) / M.std(axis=1)[:, np.newaxis]  # Standardize\n",
    "plt.pcolormesh(M)\n",
    "plt.gca().yaxis.set_major_formatter(mpl.ticker.FormatStrFormatter(''))\n",
    "plt.gca().tick_params(labelsize=8)\n",
    "[s.set_visible(False) for s in plt.gca().spines.values()]\n",
    "plt.show()"
   ]
  },
  {
   "cell_type": "code",
   "execution_count": null,
   "metadata": {},
   "outputs": [],
   "source": [
    "import dask\n",
    "import dask.bag\n",
    "import dask.dataframe as dd\n",
    "\n",
    "dask.set_options(scheduler='processes')\n",
    "\n",
    "df = pd.DataFrame({'a':range(10,20), 'b':range(20,30)}); df\n",
    "\n",
    "ddf = dd.from_pandas(df, npartitions=8)\n",
    "ddf.apply?\n",
    "\n",
    "dask.bag.from_sequence(range(100)).compute()"
   ]
  },
  {
   "cell_type": "code",
   "execution_count": null,
   "metadata": {},
   "outputs": [],
   "source": [
    "from datatypes import Recording\n",
    "from load import *\n",
    "\n",
    "recs_paths = load_recs_paths(['recordings-new'])\n",
    "row = recs_paths.iloc[0]\n",
    "rec = load_rec(row.dataset, row.path)\n",
    "\n",
    "import dataclasses\n",
    "dir(dataclasses)\n",
    "\n",
    "# load_recs_data(recs_paths)\n",
    "\n",
    "dataclasses.asdict(rec)\n",
    "dataclasses.fields(rec)"
   ]
  },
  {
   "cell_type": "code",
   "execution_count": null,
   "metadata": {},
   "outputs": [],
   "source": [
    "from potoo.plot import *\n",
    "\n",
    "# repr(ggplot(mpg) + geom_bar(aes(x='class')))\n",
    "\n",
    "theme_figsize('inline_short').rcParams\n",
    "\n",
    "figsize('inline_short');\n",
    "# figsize('inline_short', dpi=72);\n",
    "# figsize('inline_short', dpi=150);\n",
    "\n",
    "%time plt.plot(range(10)); display(plot_to_img())\n",
    "%time plt.plot(range(10)); plt.show()"
   ]
  },
  {
   "cell_type": "code",
   "execution_count": null,
   "metadata": {},
   "outputs": [],
   "source": [
    "from cache import *\n",
    "\n",
    "@cache(version=4)\n",
    "def foo(x): return x+2\n",
    "\n",
    "foo(3)\n",
    "foo(3, __cache_version=5)"
   ]
  },
  {
   "cell_type": "code",
   "execution_count": null,
   "metadata": {},
   "outputs": [],
   "source": [
    "import pickle\n",
    "import zict\n",
    "\n",
    "f = zict.Func(pickle.dumps, pickle.loads, zict.File('/tmp/zict-0/'))\n",
    "d = zict.LRU(\n",
    "    n=2,\n",
    "    d=f,\n",
    "    on_evict=lambda k, v: print('evict: %s:%s' % (k, v)),\n",
    "    weight=lambda k, v: 1,\n",
    ")"
   ]
  },
  {
   "cell_type": "code",
   "execution_count": null,
   "metadata": {},
   "outputs": [],
   "source": [
    "import pickle\n",
    "import zict\n",
    "from zict_util import PersistentBuffer\n",
    "\n",
    "a = {}\n",
    "b = zict.Func(pickle.dumps, pickle.loads, zict.File('/tmp/zict-0/'))\n",
    "d = PersistentBuffer(\n",
    "    fast=a,\n",
    "    slow=b,\n",
    "    n=2,\n",
    "    weight=lambda k, v: 1,\n",
    "    evict_fast_callbacks=[lambda k, v: print('evict_fast: %s:%s' % (k, v))],\n",
    "    load_fast_callbacks=[lambda k, v: print('load_fast: %s:%s' % (k, v))],\n",
    ")\n",
    "\n",
    "show = lambda: print('fast[%s], slow[%s]' % (dict(d.fast), dict(d.slow)))"
   ]
  },
  {
   "cell_type": "code",
   "execution_count": null,
   "metadata": {},
   "outputs": [],
   "source": [
    "show()\n",
    "d['x'] = 1; show()\n",
    "d['y'] = 2; show()\n",
    "d['z'] = 3; show()\n",
    "d['y']; show()\n",
    "d['x']; show()\n",
    "d['x'] = -1; show()\n",
    "d['z']; show()\n",
    "d['x'] = 1; show()\n",
    "d['y'] = -2; show()\n",
    "d['y']; show()\n",
    "d['x']; show()\n",
    "d['z']; show()"
   ]
  },
  {
   "cell_type": "code",
   "execution_count": null,
   "metadata": {},
   "outputs": [],
   "source": [
    "df = DF(dict(a=[1,2,3],b=[4,5,6]))\n",
    "df.loc[:2, ['a']]"
   ]
  },
  {
   "cell_type": "code",
   "execution_count": null,
   "metadata": {},
   "outputs": [],
   "source": [
    "df = DF(dict(a=[{'b':2}]))\n",
    "df.a.str['b']"
   ]
  },
  {
   "cell_type": "code",
   "execution_count": null,
   "metadata": {},
   "outputs": [],
   "source": [
    "from pathlib import Path\n",
    "\n",
    "list(Path('data').joinpath('xc').glob('*'))"
   ]
  },
  {
   "cell_type": "code",
   "execution_count": null,
   "metadata": {},
   "outputs": [],
   "source": [
    "from notebooks import *\n",
    "\n",
    "'foo.bar/baz.ext'.rsplit('.', 1)"
   ]
  },
  {
   "cell_type": "code",
   "execution_count": null,
   "metadata": {
    "time": "2.323s"
   },
   "outputs": [],
   "source": [
    "%%prun -l50 -scumtime\n",
    "pp(Load().recs_paths(['xc']).shape)"
   ]
  },
  {
   "cell_type": "code",
   "execution_count": null,
   "metadata": {},
   "outputs": [],
   "source": [
    "# TODO Debug pickle error"
   ]
  },
  {
   "cell_type": "code",
   "execution_count": null,
   "metadata": {
    "time": "1.05s"
   },
   "outputs": [],
   "source": [
    "from notebooks import *"
   ]
  },
  {
   "cell_type": "code",
   "execution_count": null,
   "metadata": {},
   "outputs": [],
   "source": [
    "# pd.Series(\n",
    "#     map_progress(lambda x: os.getpid(), range(10), use='dask', scheduler='processes', get_kwargs=dict(num_workers=7))\n",
    "# ).value_counts()"
   ]
  },
  {
   "cell_type": "code",
   "execution_count": null,
   "metadata": {},
   "outputs": [],
   "source": [
    "# load = Load()\n",
    "# recs_all = load.recs(limit=500, datasets=['xc'])"
   ]
  },
  {
   "cell_type": "code",
   "execution_count": null,
   "metadata": {},
   "outputs": [],
   "source": [
    "##\n",
    "# TODO Under par: only ~15-20% total cpu on n1-standard-16\n",
    "recs_paths_all = load.recs_paths(datasets=['xc'])\n",
    "# load.audio_to_wav(recs_paths_all)"
   ]
  },
  {
   "cell_type": "code",
   "execution_count": null,
   "metadata": {},
   "outputs": [
    {
     "data": {
      "text/plain": "{\n  'width': 12,\n  'height': 8.0,\n  'aspect_ratio': 0.6666666666666666,\n  'dpi': 72,\n  '_figure_format': 'retina',\n  '_Rdefaults': '--width=12 --height=8.0 --units=in --res=144'\n}"
     },
     "execution_count": 1,
     "metadata": {},
     "output_type": "execute_result"
    }
   ],
   "source": [
    "get_figsize()"
   ]
  },
  {
   "cell_type": "code",
   "execution_count": null,
   "metadata": {
    "time": "2.125s"
   },
   "outputs": [],
   "source": [
    "import logging\n",
    "logging.basicConfig(level=logging.DEBUG)\n",
    "import gcsfs\n",
    "\n",
    "gs = gcsfs.GCSFileSystem(project='bubo-1')\n",
    "# gs.ls('bubo-data/v0/data/xc/data')[:10]\n",
    "gs.walk('bubo-data/v0/data/xc/data/TUVU/')"
   ]
  },
  {
   "cell_type": "code",
   "execution_count": null,
   "metadata": {},
   "outputs": [
    {
     "data": {
      "text/plain": "['bubo-data', 'date']"
     },
     "execution_count": 62,
     "metadata": {},
     "output_type": "execute_result"
    },
    {
     "name": "stderr",
     "output_type": "stream",
     "text": "DEBUG:gcsfs.core:__del__(args=(), kwargs={})\n"
    },
    {
     "name": "stderr",
     "output_type": "stream",
     "text": "DEBUG:gcsfs.core:close(args=(), kwargs={})\n"
    }
   ],
   "source": [
    "gcsfs.core.split_path( 'gs://bubo-data/date')"
   ]
  },
  {
   "cell_type": "code",
   "execution_count": null,
   "metadata": {},
   "outputs": [
    {
     "name": "stderr",
     "output_type": "stream",
     "text": "DEBUG:gcsfs.core:open(args=('gs://bubo-data/date', 'w', None, None, None, None), kwargs={})\n"
    },
    {
     "name": "stderr",
     "output_type": "stream",
     "text": "DEBUG:gcsfs.core:__init__(args=(<gcsfs.core.GCSFileSystem object at 0x11c102da0>, 'gs://bubo-data/date', 'wb', 5242880, None, 'none', None), kwargs={})\n"
    },
    {
     "name": "stderr",
     "output_type": "stream",
     "text": "DEBUG:gcsfs.core:flush(args=(False,), kwargs={})\n"
    },
    {
     "name": "stderr",
     "output_type": "stream",
     "text": "DEBUG:gcsfs.core:flush(force=False) with buffer (3) < min size (2 ** 18), skipping block upload.\n"
    },
    {
     "name": "stderr",
     "output_type": "stream",
     "text": "DEBUG:gcsfs.core:close(args=(), kwargs={})\n"
    },
    {
     "name": "stderr",
     "output_type": "stream",
     "text": "DEBUG:gcsfs.core:flush(args=(True,), kwargs={})\n"
    },
    {
     "name": "stderr",
     "output_type": "stream",
     "text": "DEBUG:gcsfs.core:_simple_upload(args=(), kwargs={})\n"
    },
    {
     "name": "stderr",
     "output_type": "stream",
     "text": "DEBUG:urllib3.connectionpool:https://www.googleapis.com:443 \"POST /upload/storage/v1/b/bubo-data/o?uploadType=media&name=date HTTP/1.1\" 200 647\n"
    },
    {
     "name": "stderr",
     "output_type": "stream",
     "text": "DEBUG:gcsfs.core:invalidate_cache(args=('bubo-data',), kwargs={})\n"
    }
   ],
   "source": [
    "with gs.open('gs://bubo-data/date', 'w') as f:\n",
    "    f.write('foo')"
   ]
  },
  {
   "cell_type": "code",
   "execution_count": null,
   "metadata": {},
   "outputs": [
    {
     "name": "stderr",
     "output_type": "stream",
     "text": "DEBUG:gcsfs.core:open(args=('gs://bubo-data/date', 'rb', None, None, None, None), kwargs={})\n"
    },
    {
     "name": "stderr",
     "output_type": "stream",
     "text": "DEBUG:gcsfs.core:__init__(args=(<gcsfs.core.GCSFileSystem object at 0x11c102da0>, 'gs://bubo-data/date', 'rb', 5242880, None, 'none', None), kwargs={})\n"
    },
    {
     "name": "stderr",
     "output_type": "stream",
     "text": "DEBUG:gcsfs.core:info(args=('gs://bubo-data/date',), kwargs={})\n"
    },
    {
     "name": "stderr",
     "output_type": "stream",
     "text": "DEBUG:gcsfs.core:_get_object(args=('gs://bubo-data/date',), kwargs={})\n"
    },
    {
     "name": "stderr",
     "output_type": "stream",
     "text": "DEBUG:gcsfs.core:_maybe_get_cached_listing(args=('bubo-data//',), kwargs={})\n"
    },
    {
     "name": "stderr",
     "output_type": "stream",
     "text": "DEBUG:gcsfs.core:_maybe_get_cached_listing: bubo-data//\n"
    },
    {
     "name": "stderr",
     "output_type": "stream",
     "text": "DEBUG:gcsfs.core:_call(args=('get', 'b/{}/o/{}', 'bubo-data', 'date'), kwargs={})\n"
    },
    {
     "name": "stderr",
     "output_type": "stream",
     "text": "DEBUG:urllib3.connectionpool:https://www.googleapis.com:443 \"GET /storage/v1/b/bubo-data/o/date HTTP/1.1\" 200 647\n"
    },
    {
     "name": "stderr",
     "output_type": "stream",
     "text": "DEBUG:gcsfs.core:_fetch(args=(0, 3), kwargs={})\n"
    },
    {
     "name": "stderr",
     "output_type": "stream",
     "text": "DEBUG:gcsfs.core:_fetch_range(args=(<google.auth.transport.requests.AuthorizedSession object at 0x11c162cc0>, 0, 5242883), kwargs={})\n"
    },
    {
     "name": "stderr",
     "output_type": "stream",
     "text": "DEBUG:urllib3.connectionpool:https://www.googleapis.com:443 \"GET /download/storage/v1/b/bubo-data/o/date?generation=1530128395796535&alt=media HTTP/1.1\" 206 3\n"
    },
    {
     "name": "stderr",
     "output_type": "stream",
     "text": "DEBUG:gcsfs.core:__del__(args=(), kwargs={})\n"
    },
    {
     "name": "stderr",
     "output_type": "stream",
     "text": "DEBUG:gcsfs.core:close(args=(), kwargs={})\n"
    },
    {
     "data": {
      "text/plain": "b'foo'"
     },
     "execution_count": 59,
     "metadata": {},
     "output_type": "execute_result"
    }
   ],
   "source": [
    "gs.open('gs://bubo-data/date').read()"
   ]
  },
  {
   "cell_type": "code",
   "execution_count": null,
   "metadata": {
    "time": "20.304s"
   },
   "outputs": [],
   "source": [
    "gs.glob('bubo-data/v0/data/xc/data/WIWA/**')"
   ]
  },
  {
   "cell_type": "code",
   "execution_count": null,
   "metadata": {},
   "outputs": [],
   "source": [
    "from google.cloud import storage\n",
    "client = storage.Client()\n",
    "bucket = client.get_bucket('bubo-data')"
   ]
  },
  {
   "cell_type": "code",
   "execution_count": null,
   "metadata": {},
   "outputs": [
    {
     "data": {
      "text/plain": "{\n  'apply': <bound method Credentials.apply of <google.oauth2.credentials.Credentials object at 0x118f3c5f8>>,\n  'before_request': <bound method Credentials.before_request of <google.oauth2.credentials.Credentials object at 0x118f3c5f8>>,\n  'client_id': '764086051850-6qr4p6gpi6hn506pt8ejuq83di341hur.apps.googleusercontent.com',\n  'client_secret': 'd-FL95Q19q7MQmFpd7hHD0Ty',\n  'expired': True,\n  'expiry': datetime.datetime(year=2018, month=6, day=27, hour=20, minute=1, second=34, microsecond=619230),\n  'from_authorized_user_file': <bound method Credentials.from_authorized_user_file of <class 'google.oauth2.credentials.Credentials'>>,\n  'from_authorized_user_info': <bound method Credentials.from_authorized_user_info of <class 'google.oauth2.credentials.Credentials'>>,\n  'has_scopes': <bound method ReadOnlyScoped.has_scopes of <google.oauth2.credentials.Credentials object at 0x118f3c5f8>>,\n  'id_token':\n    'eyJhbGciOiJSUzI1NiIsImtpZCI6IjRlZjUxMThiMDgwMGJkNjBhNDE5NDE4NmRjYjUzOGZjNjZlNWViMzQifQ.'\n    'eyJhenAiOiI3NjQwODYwNTE4NTAtNnFyNHA2Z3BpNmhuNTA2cHQ4ZWp1cTgzZGkzNDFodXIuYXBwcy5nb29nbGV1c2VyY29udGVudC5jb20iLCJhdW'\n    'QiOiI3NjQwODYwNTE4NTAtNnFyNHA2Z3BpNmhuNTA2cHQ4ZWp1cTgzZGkzNDFodXIuYXBwcy5nb29nbGV1c2VyY29udGVudC5jb20iLCJzdWIiOiIx'\n    'MDY2MTY1OTc2MTQ2NDU4MjYxOTMiLCJlbWFpbCI6ImpkYW5icm93bkBnbWFpbC5jb20iLCJlbWFpbF92ZXJpZmllZCI6dHJ1ZSwiYXRfaGFzaCI6Ij'\n    'V0Y3JwWUJXMFhoS2ZzeDZkS29mRGciLCJleHAiOjE1MzAxMjk2OTQsImlzcyI6ImFjY291bnRzLmdvb2dsZS5jb20iLCJpYXQiOjE1MzAxMjYwOTR9'\n    '.jNHoD81z-YSdwnQ10tMELWFOvS7ObKFmGmwtNuOnsldyO42yf0sMdg4n5cqF1CP9kEsSgAA_hv2F-'\n    'K1y5rx82NyT34sHMXxfBOqK2aMKw47dHsQqBpEo5exsnDgPmYYGNmiQvhwi6ECHaS2lboaMsB-'\n    '3xTgCvO4KVLK7eED24aqyPFKSIE0Z8OzUWt1rKxjNGvAOh80w7PcakdhGRoIwQ8Hz3C03xSnQmZ6pN5sESMzrBGfvcdS_x_YjV8RKaoq1ekRF6FW7F'\n    '2PmedbU4inU_55i5ZZUvOCWNB4-AfSJmbEPGgqv_WLN-05s7sYyaW83jHqX0sz4SPZxmbKEB9Lsbg',\n  'refresh': <bound method Credentials.refresh of <google.oauth2.credentials.Credentials object at 0x118f3c5f8>>,\n  'refresh_token': '1/wg1zIBcvB9QmO6Ng5b-FWwH3IzSh_zxp_Ke57mUCgV0',\n  'requires_scopes': False,\n  'scopes': None,\n  'token':\n    'ya29.GlznBd-rRw1GKZwWPIjuax-bAJstTf0uXfJMWyb9z5r-'\n    'J64NuDKBLrW6_VqH3S_Mbhv1IgAATiKHZEhvjDOqohnN3bVuHTtgw7PgEsxL4U_UXPLHfu2Q5JmysLHKNg',\n  'token_uri': 'https://accounts.google.com/o/oauth2/token',\n  'valid': False\n}"
     },
     "execution_count": 78,
     "metadata": {},
     "output_type": "execute_result"
    },
    {
     "name": "stderr",
     "output_type": "stream",
     "text": "DEBUG:gcsfs.core:ls(args=('bubo-data', False), kwargs={})\n"
    },
    {
     "name": "stderr",
     "output_type": "stream",
     "text": "DEBUG:gcsfs.core:_ls(args=('bubo-data/', False), kwargs={})\n"
    },
    {
     "name": "stderr",
     "output_type": "stream",
     "text": "DEBUG:gcsfs.core:_list_objects(args=('bubo-data/',), kwargs={})\n"
    },
    {
     "name": "stderr",
     "output_type": "stream",
     "text": "DEBUG:gcsfs.core:_maybe_get_cached_listing(args=('bubo-data/',), kwargs={})\n"
    },
    {
     "name": "stderr",
     "output_type": "stream",
     "text": "DEBUG:gcsfs.core:_maybe_get_cached_listing: bubo-data/\n"
    },
    {
     "data": {
      "text/plain": "['bubo-data/date', 'bubo-data/v0/']"
     },
     "execution_count": 83,
     "metadata": {},
     "output_type": "execute_result"
    }
   ],
   "source": [
    "gcsfs.GCSFileSystem(project='bubo-1', token=client._credentials).ls('bubo-data')\n",
    "dirs(client._credentials)"
   ]
  },
  {
   "cell_type": "code",
   "execution_count": null,
   "metadata": {},
   "outputs": [],
   "source": [
    "blobs = [x for x in bucket.list_blobs(prefix='v0/data/xc/data/SOSP/',\n",
    "    fields='items/name,nextPageToken',\n",
    ")]\n",
    "len(blobs)"
   ]
  },
  {
   "cell_type": "code",
   "execution_count": null,
   "metadata": {},
   "outputs": [
    {
     "data": {
      "text/plain": "gcsfs.core.split_path  # function"
     },
     "execution_count": 55,
     "metadata": {},
     "output_type": "execute_result"
    }
   ],
   "source": [
    "gcsfs.core.split_path"
   ]
  },
  {
   "cell_type": "code",
   "execution_count": null,
   "metadata": {},
   "outputs": [],
   "source": [
    "[x.name for x in blobs]"
   ]
  },
  {
   "cell_type": "code",
   "execution_count": null,
   "metadata": {
    "time": "13.431s"
   },
   "outputs": [
    {
     "data": {
      "text/plain": "129449"
     },
     "execution_count": 70,
     "metadata": {},
     "output_type": "execute_result"
    }
   ],
   "source": [
    "from pathlib import Path\n",
    "from datasets import xc\n",
    "len(list(xc.data_dir.glob('*/*/audio.mp3')))"
   ]
  },
  {
   "cell_type": "code",
   "execution_count": null,
   "metadata": {},
   "outputs": [
    {
     "data": {
      "text/plain": "[attrdict.dictionary.AttrDict({'a': 1, 'b': 'foo'}), attrdict.dictionary.AttrDict({'a': 2, 'b': 'bar'})]"
     },
     "execution_count": 97,
     "metadata": {},
     "output_type": "execute_result"
    }
   ],
   "source": [
    "from util import df_rows\n",
    "from more_itertools import *\n",
    "list(unique_everseen(AttrDict(row) for row in df_rows(DF(dict(a=[1,2,2], b=['foo','bar','bar'])))))"
   ]
  },
  {
   "cell_type": "code",
   "execution_count": null,
   "metadata": {},
   "outputs": [
    {
     "data": {
      "text/plain": "[1, 2, 3, 0, 1, 2, 3, 4]"
     },
     "execution_count": 99,
     "metadata": {},
     "output_type": "execute_result"
    }
   ],
   "source": [
    "xs = [1,2,3]\n",
    "xs.extend(x for x in range(5))\n",
    "xs"
   ]
  },
  {
   "cell_type": "code",
   "execution_count": null,
   "metadata": {},
   "outputs": [],
   "source": [
    "print_sys_info()"
   ]
  },
  {
   "cell_type": "code",
   "execution_count": null,
   "metadata": {},
   "outputs": [
    {
     "name": "stdout",
     "output_type": "stream",
     "text": "args:\n{\n  'X_shape': (20,),\n  'y_shape': (20,),\n  'n': 20,\n  'frac': 1.0,\n  'replace': False\n}\n"
    },
    {
     "data": {
      "text/plain": "(\n  array([ 3, 15,  9, 12, 13,  1,  5,  0, 16,  7, 10, 14, 11, 17,  8,  4,  2, 18,  6, 19]),\n  array(['a', 'd', 'c', 'd', 'd', 'a', 'b', 'a', 'e', 'b', 'c', 'd', 'c', 'e', 'c', 'b', 'a', 'e', 'b', 'e'], dtype='<U1')\n)"
     },
     "execution_count": 189,
     "metadata": {},
     "output_type": "execute_result"
    }
   ],
   "source": [
    "from potoo.numpy import *\n",
    "from util import *\n",
    "np_sample_stratified(\n",
    "    X=np.arange(20),\n",
    "    y=list(flatten([c] * 4 for c in 'abcde')),\n",
    "    # n=1,\n",
    "    n=20,\n",
    "    # frac=1.0,\n",
    "    # frac=0.6,\n",
    ")"
   ]
  },
  {
   "cell_type": "code",
   "execution_count": null,
   "metadata": {},
   "outputs": [],
   "source": [
    "from notebooks import *\n",
    "import pprint\n",
    "(xc.metadata\n",
    "    [lambda df: pd.notnull(df.species)]\n",
    "    [lambda df: df.country == 'United States']\n",
    "    .pipe(df_remove_unused_categories).com_name.sort_values()\n",
    "    .pipe(puts, f=lambda s: len(s.unique()))\n",
    "    .pipe(lambda s:\n",
    "        pprint.pprint(s.unique().tolist(), indent=4, width=120, compact=True)\n",
    "    )\n",
    ")"
   ]
  },
  {
   "cell_type": "code",
   "execution_count": null,
   "metadata": {},
   "outputs": [],
   "source": [
    "for s in [\n",
    "    '#             f1-micro    1   .6g  $[   4 /   3]/mo  $[    /   ]/d  $[.008 / .004]/hr',\n",
    "    '#             g1-small    1  1.7g  $[  13 /   5]/mo  $[    /.17]/d  $[.026 / .007]/hr',\n",
    "    '#',\n",
    "    '#         n1-highcpu-2    2    2g  $[  36 /  11]/mo  $[    /   ]/d  $[ .07 /  .02]/hr',\n",
    "    '#         n1-highcpu-4    4    4g  $[  72 /  22]/mo  $[    /   ]/d  $[ .14 /  .03]/hr',\n",
    "    '#         n1-highcpu-8    8    7g  $[ 145 /  44]/mo  $[    /   ]/d  $[ .28 /  .06]/hr',\n",
    "    '#        n1-highcpu-16   16   14g  $[ 290 /  88]/mo  $[    /   ]/d  $[ .57 /  .12]/hr',\n",
    "    '#        n1-highcpu-32   32   29g  $[ 580 / 175]/mo  $[    /   ]/d  $[1.13 /  .24]/hr',\n",
    "    '#        n1-highcpu-64   64   58g  $[1159 / 350]/mo  $[    /   ]/d  $[2.27 /  .48]/hr',\n",
    "    '#        n1-highcpu-96   96   86g  $[1739 / 526]/mo  $[ 82 / 17]/d  $[3.40 /  .72]/hr',\n",
    "    '#',\n",
    "    '#        n1-standard-2    2    7g  $[  49 /  15]/mo  $[  5 /  1]/d  $[ .10 /  .02]/hr',\n",
    "    '#        n1-standard-4    4   15g  $[  97 /  29]/mo  $[  5 /  1]/d  $[ .19 /  .04]/hr',\n",
    "    '#        n1-standard-8    8   30g  $[ 194 /  58]/mo  $[  9 /  2]/d  $[ .38 /  .08]/hr',\n",
    "    '#       n1-standard-16   16   60g  $[ 388 / 116]/mo  $[ 18 /  4]/d  $[ .76 /  .16]/hr',\n",
    "    '#       n1-standard-32   32  120g  $[ 776 / 233]/mo  $[ 36 /  8]/d  $[1.52 /  .32]/hr',\n",
    "    '#       n1-standard-64   64  240g  $[1553 / 467]/mo  $[ 73 / 16]/d  $[3.04 /  .64]/hr',\n",
    "    '#       n1-standard-96   96  360g  $[2330 / 700]/mo  $[109 / 23]/d  $[4.56 /  .96]/hr',\n",
    "    '#',\n",
    "    '#         n1-highmem-2    2   13g  $[  61 /  18]/mo  $[    /   ]/d  $[ .12 /  .03]/hr',\n",
    "    '#         n1-highmem-4    4   26g  $[ 121 /  37]/mo  $[    /   ]/d  $[ .24 /  .05]/hr',\n",
    "    '#         n1-highmem-8    8   52g  $[ 242 /  73]/mo  $[    /   ]/d  $[ .47 /  .10]/hr',\n",
    "    '#        n1-highmem-16   16  104g  $[ 484 / 146]/mo  $[    /   ]/d  $[ .95 /  .20]/hr',\n",
    "    '#        n1-highmem-32   32  208g  $[ 968 / 292]/mo  $[    /   ]/d  $[1.89 /  .40]/hr',\n",
    "    '#        n1-highmem-64   64  416g  $[1936 / 584]/mo  $[    /   ]/d  $[3.79 /  .80]/hr',\n",
    "    '#        n1-highmem-96   96  624g  $[2904 / 876]/mo  $[    /   ]/d  $[5.68 / 1.20]/hr',\n",
    "]:\n",
    "    if s == '#':\n",
    "        print(s)\n",
    "    else:\n",
    "        (desc, dem_m, pre_m, dem_d, pre_d, dem_h, pre_h) = re.match(\n",
    "            r'(.*?)\\$\\[(.*)/(.*)\\]/mo.*\\$\\[(.*)/(.*)\\]/d.*\\$\\[(.*)/(.*)\\]/hr',\n",
    "            s,\n",
    "        ).groups()\n",
    "        dem_h = float(dem_h.strip())\n",
    "        pre_h = float(pre_h.strip())\n",
    "        line = '%s$[%4.0f / %3.0f]/mo  $[%5.1f / %4.2f]/d  $[%4.3f / %4.3f]/hr' % (\n",
    "            desc,\n",
    "            dem_h * 24*28, pre_h * 24*28,\n",
    "            dem_h * 24, pre_h * 24,\n",
    "            dem_h, pre_h,\n",
    "        )\n",
    "        line = re.sub(r'0\\.', ' .', line)\n",
    "        print(line)"
   ]
  },
  {
   "cell_type": "code",
   "execution_count": null,
   "metadata": {},
   "outputs": [],
   "source": [
    "list(map(list, np.array([1,2,4,8])[:,np.newaxis] * np.array([ 230,99, 24*.45,24*.135, .45,.135, ])))"
   ]
  },
  {
   "cell_type": "code",
   "execution_count": null,
   "metadata": {},
   "outputs": [
    {
     "data": {
      "text/html": "<table border=\"1\" class=\"dataframe\">\n  <thead>\n    <tr style=\"text-align: right;\">\n      <th></th>\n      <th>shorthand</th>\n      <th>longhand</th>\n      <th>sci_name</th>\n      <th>com_name</th>\n      <th>taxon_id</th>\n      <th>species_code</th>\n      <th>taxon_order</th>\n      <th>com_name_codes</th>\n      <th>sci_name_codes</th>\n      <th>banding_codes</th>\n    </tr>\n  </thead>\n  <tbody>\n    <tr>\n      <th>0</th>\n      <td><div class=\"not-number\">COOS</div></td>\n      <td><div class=\"not-number\">Common Ostrich - COOS</div></td>\n      <td><div class=\"not-number\">Struthio camelus</div></td>\n      <td><div class=\"not-number\">Common Ostrich</div></td>\n      <td><div class=\"not-number\">TC000002</div></td>\n      <td><div class=\"not-number\">ostric2</div></td>\n      <td><div class=\"not-number\">3.0</div></td>\n      <td><div class=\"not-number\">COOS</div></td>\n      <td><div class=\"not-number\">STCA</div></td>\n      <td>NaN</td>\n    </tr>\n    <tr>\n      <th>1</th>\n      <td><div class=\"not-number\">SOOS</div></td>\n      <td><div class=\"not-number\">Somali Ostrich - SOOS</div></td>\n      <td><div class=\"not-number\">Struthio molybdophanes</div></td>\n      <td><div class=\"not-number\">Somali Ostrich</div></td>\n      <td><div class=\"not-number\">TC000003</div></td>\n      <td><div class=\"not-number\">ostric3</div></td>\n      <td><div class=\"not-number\">5.0</div></td>\n      <td><div class=\"not-number\">SOOS</div></td>\n      <td><div class=\"not-number\">STMO</div></td>\n      <td>NaN</td>\n    </tr>\n    <tr>\n      <th>2</th>\n      <td><div class=\"not-number\">GRRH</div></td>\n      <td><div class=\"not-number\">Greater Rhea - GRRH</div></td>\n      <td><div class=\"not-number\">Rhea americana</div></td>\n      <td><div class=\"not-number\">Greater Rhea</div></td>\n      <td><div class=\"not-number\">TC000004</div></td>\n      <td><div class=\"not-number\">grerhe1</div></td>\n      <td><div class=\"not-number\">7.0</div></td>\n      <td><div class=\"not-number\">GRRH</div></td>\n      <td><div class=\"not-number\">RHAM</div></td>\n      <td>NaN</td>\n    </tr>\n    <tr>\n      <th>3</th>\n      <td><div class=\"not-number\">LERH</div></td>\n      <td><div class=\"not-number\">Lesser Rhea - LERH</div></td>\n      <td><div class=\"not-number\">Rhea pennata</div></td>\n      <td><div class=\"not-number\">Lesser Rhea</div></td>\n      <td><div class=\"not-number\">TC000005</div></td>\n      <td><div class=\"not-number\">lesrhe2</div></td>\n      <td><div class=\"not-number\">13.0</div></td>\n      <td><div class=\"not-number\">LERH</div></td>\n      <td><div class=\"not-number\">RHPE</div></td>\n      <td>NaN</td>\n    </tr>\n    <tr>\n      <th>4</th>\n      <td><div class=\"not-number\">TBTI</div></td>\n      <td><div class=\"not-number\">Tawny-breasted Tinamou - TBTI</div></td>\n      <td><div class=\"not-number\">Nothocercus julius</div></td>\n      <td><div class=\"not-number\">Tawny-breasted Tinamou</div></td>\n      <td><div class=\"not-number\">TC000018</div></td>\n      <td><div class=\"not-number\">tabtin1</div></td>\n      <td><div class=\"not-number\">32.0</div></td>\n      <td><div class=\"not-number\">TBTI</div></td>\n      <td><div class=\"not-number\">NOJU</div></td>\n      <td>NaN</td>\n    </tr>\n    <tr>\n      <th>5</th>\n      <td><div class=\"not-number\">HITI</div></td>\n      <td><div class=\"not-number\">Highland Tinamou - HITI</div></td>\n      <td><div class=\"not-number\">Nothocercus bonapartei</div></td>\n      <td><div class=\"not-number\">Highland Tinamou</div></td>\n      <td><div class=\"not-number\">TC000019</div></td>\n      <td><div class=\"not-number\">higtin1</div></td>\n      <td><div class=\"not-number\">33.0</div></td>\n      <td>NaN</td>\n      <td><div class=\"not-number\">NOBO</div></td>\n      <td><div class=\"not-number\">HITI</div></td>\n    </tr>\n    <tr>\n      <th>6</th>\n      <td><div class=\"not-number\">HOTI</div></td>\n      <td><div class=\"not-number\">Hooded Tinamou - HOTI</div></td>\n      <td><div class=\"not-number\">Nothocercus nigrocapillus</div></td>\n      <td><div class=\"not-number\">Hooded Tinamou</div></td>\n      <td><div class=\"not-number\">TC000022</div></td>\n      <td><div class=\"not-number\">hootin1</div></td>\n      <td><div class=\"not-number\">40.0</div></td>\n      <td><div class=\"not-number\">HOTI</div></td>\n      <td><div class=\"not-number\">NONI</div></td>\n      <td>NaN</td>\n    </tr>\n    <tr>\n      <th>7</th>\n      <td><div class=\"not-number\">grytin1</div></td>\n      <td><div class=\"not-number\">Gray Tinamou - grytin1</div></td>\n      <td><div class=\"not-number\">Tinamus tao</div></td>\n      <td><div class=\"not-number\">Gray Tinamou</div></td>\n      <td><div class=\"not-number\">TC000023</div></td>\n      <td><div class=\"not-number\">grytin1</div></td>\n      <td><div class=\"not-number\">43.0</div></td>\n      <td><div class=\"not-number\">GRTI</div></td>\n      <td><div class=\"not-number\">TITA</div></td>\n      <td>NaN</td>\n    </tr>\n    <tr>\n      <th>8</th>\n      <td><div class=\"not-number\">soltin1</div></td>\n      <td><div class=\"not-number\">Solitary Tinamou - soltin1</div></td>\n      <td><div class=\"not-number\">Tinamus solitarius</div></td>\n      <td><div class=\"not-number\">Solitary Tinamou</div></td>\n      <td><div class=\"not-number\">TC000024</div></td>\n      <td><div class=\"not-number\">soltin1</div></td>\n      <td><div class=\"not-number\">48.0</div></td>\n      <td><div class=\"not-number\">SOTI</div></td>\n      <td><div class=\"not-number\">TISO</div></td>\n      <td>NaN</td>\n    </tr>\n    <tr>\n      <th>9</th>\n      <td><div class=\"not-number\">BLTI</div></td>\n      <td><div class=\"not-number\">Black Tinamou - BLTI</div></td>\n      <td><div class=\"not-number\">Tinamus osgoodi</div></td>\n      <td><div class=\"not-number\">Black Tinamou</div></td>\n      <td><div class=\"not-number\">TC000025</div></td>\n      <td><div class=\"not-number\">blatin1</div></td>\n      <td><div class=\"not-number\">49.0</div></td>\n      <td><div class=\"not-number\">BLTI</div></td>\n      <td><div class=\"not-number\">TIOS</div></td>\n      <td>NaN</td>\n    </tr>\n  </tbody>\n</table>",
      "text/plain": "  shorthand                       longhand                   sci_name                com_name  taxon_id species_code taxon_order com_name_codes sci_name_codes banding_codes\n0      COOS          Common Ostrich - COOS           Struthio camelus          Common Ostrich  TC000002      ostric2         3.0           COOS           STCA           NaN\n1      SOOS          Somali Ostrich - SOOS     Struthio molybdophanes          Somali Ostrich  TC000003      ostric3         5.0           SOOS           STMO           NaN\n2      GRRH            Greater Rhea - GRRH             Rhea americana            Greater Rhea  TC000004      grerhe1         7.0           GRRH           RHAM           NaN\n3      LERH             Lesser Rhea - LERH               Rhea pennata             Lesser Rhea  TC000005      lesrhe2        13.0           LERH           RHPE           NaN\n4      TBTI  Tawny-breasted Tinamou - TBTI         Nothocercus julius  Tawny-breasted Tinamou  TC000018      tabtin1        32.0           TBTI           NOJU           NaN\n5      HITI        Highland Tinamou - HITI     Nothocercus bonapartei        Highland Tinamou  TC000019      higtin1        33.0            NaN           NOBO          HITI\n6      HOTI          Hooded Tinamou - HOTI  Nothocercus nigrocapillus          Hooded Tinamou  TC000022      hootin1        40.0           HOTI           NONI           NaN\n7   grytin1         Gray Tinamou - grytin1                Tinamus tao            Gray Tinamou  TC000023      grytin1        43.0           GRTI           TITA           NaN\n8   soltin1     Solitary Tinamou - soltin1         Tinamus solitarius        Solitary Tinamou  TC000024      soltin1        48.0           SOTI           TISO           NaN\n9      BLTI           Black Tinamou - BLTI            Tinamus osgoodi           Black Tinamou  TC000025      blatin1        49.0           BLTI           TIOS           NaN"
     },
     "execution_count": 9,
     "metadata": {},
     "output_type": "execute_result"
    }
   ],
   "source": [
    "from notebooks import *\n",
    "metadata.species.df[:10]"
   ]
  },
  {
   "cell_type": "code",
   "execution_count": null,
   "metadata": {},
   "outputs": [
    {
     "data": {
      "text/plain": "(399859, 20)"
     },
     "metadata": {},
     "output_type": "display_data",
     "transient": {}
    },
    {
     "data": {
      "text/plain": "(4557, 20)"
     },
     "metadata": {},
     "output_type": "display_data",
     "transient": {}
    },
    {
     "data": {
      "text/plain": "(541, 2)"
     },
     "metadata": {},
     "output_type": "display_data",
     "transient": {}
    },
    {
     "data": {
      "text/html": "<table border=\"1\" class=\"dataframe\">\n  <thead>\n    <tr style=\"text-align: right;\">\n      <th></th>\n      <th>species</th>\n      <th>species_code</th>\n    </tr>\n  </thead>\n  <tbody>\n    <tr>\n      <th>483</th>\n      <td><div class=\"not-number\">RTCA</div></td>\n      <td><div class=\"not-number\">nan</div></td>\n    </tr>\n    <tr>\n      <th>3144</th>\n      <td><div class=\"not-number\">WTMG</div></td>\n      <td><div class=\"not-number\">nan</div></td>\n    </tr>\n    <tr>\n      <th>5064</th>\n      <td><div class=\"not-number\">CAGS</div></td>\n      <td><div class=\"not-number\">nan</div></td>\n    </tr>\n    <tr>\n      <th>5072</th>\n      <td><div class=\"not-number\">AHJA</div></td>\n      <td><div class=\"not-number\">nan</div></td>\n    </tr>\n    <tr>\n      <th>5762</th>\n      <td><div class=\"not-number\">ZEAN</div></td>\n      <td><div class=\"not-number\">nan</div></td>\n    </tr>\n    <tr>\n      <th>5932</th>\n      <td><div class=\"not-number\">BANA</div></td>\n      <td><div class=\"not-number\">nan</div></td>\n    </tr>\n    <tr>\n      <th>5934</th>\n      <td><div class=\"not-number\">BGRO</div></td>\n      <td><div class=\"not-number\">nan</div></td>\n    </tr>\n    <tr>\n      <th>5936</th>\n      <td><div class=\"not-number\">LEMO</div></td>\n      <td><div class=\"not-number\">nan</div></td>\n    </tr>\n    <tr>\n      <th>5937</th>\n      <td><div class=\"not-number\">GYBM</div></td>\n      <td><div class=\"not-number\">nan</div></td>\n    </tr>\n    <tr>\n      <th>5938</th>\n      <td><div class=\"not-number\">LBGN</div></td>\n      <td><div class=\"not-number\">nan</div></td>\n    </tr>\n  </tbody>\n</table>",
      "text/plain": "     species species_code\n483     RTCA          NaN\n3144    WTMG          NaN\n5064    CAGS          NaN\n5072    AHJA          NaN\n5762    ZEAN          NaN\n5932    BANA          NaN\n5934    BGRO          NaN\n5936    LEMO          NaN\n5937    GYBM          NaN\n5938    LBGN          NaN"
     },
     "execution_count": 75,
     "metadata": {},
     "output_type": "execute_result"
    }
   ],
   "source": [
    "(xc.metadata\n",
    "    .pipe(df_inspect, lambda df: (df.shape,))\n",
    "    [lambda df: df.country == 'Costa Rica']\n",
    "    .pipe(df_inspect, lambda df: (df.shape,))\n",
    "    .species.drop_duplicates().to_frame()\n",
    "    # .set_index('species')\n",
    "    .join(how='left', other=metadata.species.df.set_index('shorthand')[['species_code']])\n",
    "    .pipe(df_inspect, lambda df: (df.shape,))\n",
    "    [:10]\n",
    ")"
   ]
  },
  {
   "cell_type": "code",
   "execution_count": null,
   "metadata": {},
   "outputs": [],
   "source": [
    "\n",
    "# Requires _global env instead of bubo-features env\n",
    "import feather\n",
    "import pickle\n",
    "\n",
    "cr_birds_dir = Path('~/Desktop/cr_birds').expanduser()\n",
    "metadata_dir = cr_birds_dir / 'metadata'\n",
    "downloads_dir = cr_birds_dir / 'downloads'\n",
    "ebird_barchart_tsv_path = metadata_dir / 'ebird_CR__1900_2018_1_12_barchart.txt'\n",
    "species_pickle_path = metadata_dir / 'species.pkl'\n",
    "\n",
    "with open(species_pickle_path, 'rb') as f:\n",
    "    species_df = pickle.load(f)\n",
    "species_df.memory_usage(deep=True).sum()\n",
    "\n",
    "species_df.to_feather(metadata_dir / 'species.feather')"
   ]
  },
  {
   "cell_type": "code",
   "execution_count": null,
   "metadata": {},
   "outputs": [
    {
     "data": {
      "text/html": "<table border=\"1\" class=\"dataframe\">\n  <thead>\n    <tr style=\"text-align: right;\">\n      <th></th>\n      <th>k</th>\n      <th>type</th>\n      <th>pkl</th>\n      <th>sizeof</th>\n    </tr>\n  </thead>\n  <tbody>\n    <tr>\n      <th>0</th>\n      <td><div class=\"not-number\">melspectro_kwargs</div></td>\n      <td><div class=\"not-number\">dict</div></td>\n      <td>104</td>\n      <td>240</td>\n    </tr>\n    <tr>\n      <th>2</th>\n      <td><div class=\"not-number\">spectro_kwargs</div></td>\n      <td><div class=\"not-number\">dict</div></td>\n      <td>128</td>\n      <td>240</td>\n    </tr>\n    <tr>\n      <th>3</th>\n      <td><div class=\"not-number\">f</div></td>\n      <td><div class=\"not-number\">ndarray</div></td>\n      <td>537</td>\n      <td>416</td>\n    </tr>\n    <tr>\n      <th>4</th>\n      <td><div class=\"not-number\">t</div></td>\n      <td><div class=\"not-number\">ndarray</div></td>\n      <td>22850</td>\n      <td>22728</td>\n    </tr>\n    <tr>\n      <th>5</th>\n      <td><div class=\"not-number\">S</div></td>\n      <td><div class=\"not-number\">ndarray</div></td>\n      <td>905500</td>\n      <td>905392</td>\n    </tr>\n    <tr>\n      <th>1</th>\n      <td><div class=\"not-number\">audio</div></td>\n      <td><div class=\"not-number\">AudioSegment</div></td>\n      <td>1449453</td>\n      <td>56</td>\n    </tr>\n    <tr>\n      <th>0</th>\n      <td>NaN</td>\n      <td>NaN</td>\n      <td>2378572</td>\n      <td>929072</td>\n    </tr>\n  </tbody>\n</table>",
      "text/plain": "                   k          type      pkl  sizeof\n0  melspectro_kwargs          dict      104     240\n2     spectro_kwargs          dict      128     240\n3                  f       ndarray      537     416\n4                  t       ndarray    22850   22728\n5                  S       ndarray   905500  905392\n1              audio  AudioSegment  1449453      56\n0                NaN           NaN  2378572  929072"
     },
     "execution_count": 57,
     "metadata": {},
     "output_type": "execute_result"
    }
   ],
   "source": [
    "# Why are cache/_spectro pkl's so big? (~10x vs. audio.mp3)\n",
    "from notebooks import *\n",
    "x = joblib.load(f'{data_dir}/cache/joblib/sp14/model/_spectro_cache/1119e805a41591ce71c4ad3be00fb730/output.pkl')\n",
    "(\n",
    "    DF([\n",
    "        OrderedDict(k=k, type=type(v).__name__, pkl=len(joblib_dumps(v)), sizeof=sys.getsizeof(v))\n",
    "        for k, v in x.__dict__.items()\n",
    "    ])\n",
    "    .sort_values('pkl')\n",
    "    .pipe(df_with_totals_row, numeric_only=True)\n",
    ")"
   ]
  },
  {
   "cell_type": "code",
   "execution_count": null,
   "metadata": {},
   "outputs": [
    {
     "name": "stdout",
     "output_type": "stream",
     "text": "melspectro_kwargs\naudio\nspectro_kwargs\nf\nt\nS\n"
    },
    {
     "data": {
      "text/plain": "2378239"
     },
     "execution_count": 58,
     "metadata": {},
     "output_type": "execute_result"
    }
   ],
   "source": [
    "len(joblib_dumps({\n",
    "    puts(k): v\n",
    "    for k, v in x.__dict__.items()\n",
    "}))"
   ]
  },
  {
   "cell_type": "code",
   "execution_count": null,
   "metadata": {},
   "outputs": [],
   "source": []
  }
 ],
 "metadata": {
  "kernelspec": {
   "display_name": "bubo-features (PYTHONSTARTUP)",
   "language": "python",
   "name": "bubo-features (PYTHONSTARTUP)"
  }
 },
 "nbformat": 4,
 "nbformat_minor": 2
}
