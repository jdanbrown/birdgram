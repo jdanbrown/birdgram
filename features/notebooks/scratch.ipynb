{
 "cells": [
  {
   "cell_type": "code",
   "execution_count": null,
   "metadata": {},
   "outputs": [],
   "source": [
    "from notebooks import *"
   ]
  },
  {
   "cell_type": "code",
   "execution_count": null,
   "metadata": {},
   "outputs": [],
   "source": [
    "%%time\n",
    "joypy.joyplot(\n",
    "    # Perf: kind='kde' and kind='counts' are roughly the same\n",
    "    # kind='kde',\n",
    "    kind='counts', bins=80,\n",
    "    fill=False,\n",
    "    linecolor='k',\n",
    "    linewidth=.5,\n",
    "    xlabels=True,\n",
    "    ylabels=False,\n",
    "    # overlap=.001,\n",
    "    # overlap=.01,\n",
    "    # overlap=.1,\n",
    "    # overlap=.5,\n",
    "    # overlap=1,\n",
    "    # XXX This gets _very slow_ with more lines\n",
    "    #   - Unusable >100, and our spectro Sxx are more like ~600\n",
    "    data=[\n",
    "        stats.distributions.norm.rvs(mu, 10, 100)\n",
    "        for mu in np.arange(50)\n",
    "    ],\n",
    ")\n",
    "plt.show()"
   ]
  },
  {
   "cell_type": "code",
   "execution_count": null,
   "metadata": {},
   "outputs": [],
   "source": [
    "# Here's what's required to turn an FT into a periodogram (power by freq)\n",
    "#   - TODO Oops, x-axis is still off by 2x...\n",
    "x = ...  # Real signal, e.g. audio waveform\n",
    "sample_rate = 22050\n",
    "f, Pxx = scipy.signal.periodogram(x, fs=sample_rate, scaling='spectrum')\n",
    "plt.plot(f, Pxx); plt.show()\n",
    "plt.plot((np.abs(np.fft.rfft(x)) / len(x))**2 * 2); plt.show()"
   ]
  },
  {
   "cell_type": "code",
   "execution_count": null,
   "metadata": {},
   "outputs": [],
   "source": [
    "# Diff spectro vs. librosa melspectrogram\n",
    "f, t, Sxx = np.abs(spectro(audio, nperseg=nperseg, overlap=overlap, detrend='constant', scaling='density', mode='complex'))**2\n",
    "Sxx = Sxx * 1024**2 * 8  # Works with scaling='density'\n",
    "display(Sxx.shape)\n",
    "plt.hist(Sxx.flatten(), bins=100, log=True); plt.show()\n",
    "Sxx = librosa.power_to_db(np.dot(mel_basis, Sxx)); display(Sxx.shape)\n",
    "# plt.pcolormesh(Sxx); [s.set_visible(False) for s in plt.gca().spines.values()]; plt.show()\n",
    "\n",
    "n_fft = nperseg\n",
    "Sxx = librosa.feature.melspectrogram(x.astype(float), sample_rate, None, n_fft, int(n_fft*(1-overlap)), n_mels=n_mels, power=2)\n",
    "display(Sxx.shape)\n",
    "plt.hist(Sxx.flatten(), bins=100, log=True); plt.show()\n",
    "Sxx = librosa.power_to_db(np.dot(mel_basis, Sxx)); display(Sxx.shape)\n",
    "# plt.pcolormesh(Sxx); [s.set_visible(False) for s in plt.gca().spines.values()]; plt.show()"
   ]
  },
  {
   "cell_type": "code",
   "execution_count": null,
   "metadata": {},
   "outputs": [],
   "source": [
    "# Diff mfcc vs. librosa mfcc\n",
    "n_mfcc = 1024\n",
    "plt_mfcc(x, mfcc=partial(mfcc, mels_div=2, n_mfcc=n_mfcc, std=True), show_audio=False, fancy=False)\n",
    "plt.gca().yaxis.set_major_formatter(mpl.ticker.FormatStrFormatter(''))\n",
    "plt.show()\n",
    "\n",
    "M = librosa.feature.mfcc(x.astype(float), sample_rate, n_mfcc=n_mfcc)\n",
    "M = (M - M.mean(axis=1)[:, np.newaxis]) / M.std(axis=1)[:, np.newaxis]  # Standardize\n",
    "plt.pcolormesh(M)\n",
    "plt.gca().yaxis.set_major_formatter(mpl.ticker.FormatStrFormatter(''))\n",
    "plt.gca().tick_params(labelsize=8)\n",
    "[s.set_visible(False) for s in plt.gca().spines.values()]\n",
    "plt.show()"
   ]
  },
  {
   "cell_type": "code",
   "execution_count": null,
   "metadata": {},
   "outputs": [],
   "source": [
    "import dask\n",
    "import dask.bag\n",
    "import dask.dataframe as dd\n",
    "\n",
    "dask.set_options(scheduler='processes')\n",
    "\n",
    "df = pd.DataFrame({'a':range(10,20), 'b':range(20,30)}); df\n",
    "\n",
    "ddf = dd.from_pandas(df, npartitions=8)\n",
    "ddf.apply?\n",
    "\n",
    "dask.bag.from_sequence(range(100)).compute()"
   ]
  },
  {
   "cell_type": "code",
   "execution_count": null,
   "metadata": {},
   "outputs": [],
   "source": [
    "from datatypes import Recording\n",
    "from load import *\n",
    "\n",
    "recs_paths = load_recs_paths(['recordings-new'])\n",
    "row = recs_paths.iloc[0]\n",
    "rec = load_rec(row.dataset, row.path)\n",
    "\n",
    "import dataclasses\n",
    "dir(dataclasses)\n",
    "\n",
    "# load_recs_data(recs_paths)\n",
    "\n",
    "dataclasses.asdict(rec)\n",
    "dataclasses.fields(rec)"
   ]
  },
  {
   "cell_type": "code",
   "execution_count": null,
   "metadata": {},
   "outputs": [],
   "source": [
    "from potoo.plot import *\n",
    "\n",
    "# repr(ggplot(mpg) + geom_bar(aes(x='class')))\n",
    "\n",
    "theme_figsize('inline_short').rcParams\n",
    "\n",
    "figsize('inline_short');\n",
    "# figsize('inline_short', dpi=72);\n",
    "# figsize('inline_short', dpi=150);\n",
    "\n",
    "%time plt.plot(range(10)); display(plot_to_img())\n",
    "%time plt.plot(range(10)); plt.show()"
   ]
  },
  {
   "cell_type": "code",
   "execution_count": null,
   "metadata": {},
   "outputs": [],
   "source": [
    "from cache import *\n",
    "\n",
    "@cache(version=4)\n",
    "def foo(x): return x+2\n",
    "\n",
    "foo(3)\n",
    "foo(3, __cache_version=5)"
   ]
  },
  {
   "cell_type": "code",
   "execution_count": null,
   "metadata": {},
   "outputs": [],
   "source": [
    "import pickle\n",
    "import zict\n",
    "\n",
    "f = zict.Func(pickle.dumps, pickle.loads, zict.File('/tmp/zict-0/'))\n",
    "d = zict.LRU(\n",
    "    n=2,\n",
    "    d=f,\n",
    "    on_evict=lambda k, v: print('evict: %s:%s' % (k, v)),\n",
    "    weight=lambda k, v: 1,\n",
    ")"
   ]
  },
  {
   "cell_type": "code",
   "execution_count": null,
   "metadata": {},
   "outputs": [],
   "source": [
    "import pickle\n",
    "import zict\n",
    "from zict_util import PersistentBuffer\n",
    "\n",
    "a = {}\n",
    "b = zict.Func(pickle.dumps, pickle.loads, zict.File('/tmp/zict-0/'))\n",
    "d = PersistentBuffer(\n",
    "    fast=a,\n",
    "    slow=b,\n",
    "    n=2,\n",
    "    weight=lambda k, v: 1,\n",
    "    evict_fast_callbacks=[lambda k, v: print('evict_fast: %s:%s' % (k, v))],\n",
    "    load_fast_callbacks=[lambda k, v: print('load_fast: %s:%s' % (k, v))],\n",
    ")\n",
    "\n",
    "show = lambda: print('fast[%s], slow[%s]' % (dict(d.fast), dict(d.slow)))"
   ]
  },
  {
   "cell_type": "code",
   "execution_count": null,
   "metadata": {},
   "outputs": [],
   "source": [
    "show()\n",
    "d['x'] = 1; show()\n",
    "d['y'] = 2; show()\n",
    "d['z'] = 3; show()\n",
    "d['y']; show()\n",
    "d['x']; show()\n",
    "d['x'] = -1; show()\n",
    "d['z']; show()\n",
    "d['x'] = 1; show()\n",
    "d['y'] = -2; show()\n",
    "d['y']; show()\n",
    "d['x']; show()\n",
    "d['z']; show()"
   ]
  },
  {
   "cell_type": "code",
   "execution_count": null,
   "metadata": {},
   "outputs": [],
   "source": [
    "df = DF(dict(a=[1,2,3],b=[4,5,6]))\n",
    "df.loc[:2, ['a']]"
   ]
  },
  {
   "cell_type": "code",
   "execution_count": null,
   "metadata": {},
   "outputs": [],
   "source": [
    "df = DF(dict(a=[{'b':2}]))\n",
    "df.a.str['b']"
   ]
  },
  {
   "cell_type": "code",
   "execution_count": null,
   "metadata": {},
   "outputs": [],
   "source": [
    "from pathlib import Path\n",
    "\n",
    "list(Path('data').joinpath('xc').glob('*'))"
   ]
  },
  {
   "cell_type": "code",
   "execution_count": null,
   "metadata": {},
   "outputs": [],
   "source": [
    "from notebooks import *\n",
    "\n",
    "'foo.bar/baz.ext'.rsplit('.', 1)"
   ]
  },
  {
   "cell_type": "code",
   "execution_count": null,
   "metadata": {
    "time": "2.323s"
   },
   "outputs": [],
   "source": [
    "%%prun -l50 -scumtime\n",
    "pp(Load().recs_paths(['xc']).shape)"
   ]
  },
  {
   "cell_type": "code",
   "execution_count": null,
   "metadata": {},
   "outputs": [],
   "source": [
    "# TODO Debug pickle error"
   ]
  },
  {
   "cell_type": "code",
   "execution_count": null,
   "metadata": {
    "time": "1.05s"
   },
   "outputs": [],
   "source": [
    "from notebooks import *"
   ]
  },
  {
   "cell_type": "code",
   "execution_count": null,
   "metadata": {},
   "outputs": [],
   "source": [
    "# pd.Series(\n",
    "#     map_progress(lambda x: os.getpid(), range(10), use='dask', scheduler='processes', get_kwargs=dict(num_workers=7))\n",
    "# ).value_counts()"
   ]
  },
  {
   "cell_type": "code",
   "execution_count": null,
   "metadata": {},
   "outputs": [],
   "source": [
    "# load = Load()\n",
    "# recs_all = load.recs(limit=500, datasets=['xc'])"
   ]
  },
  {
   "cell_type": "code",
   "execution_count": null,
   "metadata": {},
   "outputs": [],
   "source": [
    "##\n",
    "# TODO Under par: only ~15-20% total cpu on n1-standard-16\n",
    "recs_paths_all = load.recs_paths(datasets=['xc'])\n",
    "# load.audio_to_wav(recs_paths_all)"
   ]
  },
  {
   "cell_type": "code",
   "execution_count": null,
   "metadata": {},
   "outputs": [
    {
     "data": {
      "text/plain": "{\n  'width': 12,\n  'height': 8.0,\n  'aspect_ratio': 0.6666666666666666,\n  'dpi': 72,\n  '_figure_format': 'retina',\n  '_Rdefaults': '--width=12 --height=8.0 --units=in --res=144'\n}"
     },
     "execution_count": 1,
     "metadata": {},
     "output_type": "execute_result"
    }
   ],
   "source": [
    "get_figsize()"
   ]
  },
  {
   "cell_type": "code",
   "execution_count": null,
   "metadata": {
    "time": "2.125s"
   },
   "outputs": [],
   "source": [
    "import logging\n",
    "logging.basicConfig(level=logging.DEBUG)\n",
    "import gcsfs\n",
    "\n",
    "gs = gcsfs.GCSFileSystem(project='bubo-1')\n",
    "# gs.ls('bubo-data/v0/data/xc/data')[:10]\n",
    "gs.walk('bubo-data/v0/data/xc/data/TUVU/')"
   ]
  },
  {
   "cell_type": "code",
   "execution_count": null,
   "metadata": {},
   "outputs": [
    {
     "data": {
      "text/plain": "['bubo-data', 'date']"
     },
     "execution_count": 62,
     "metadata": {},
     "output_type": "execute_result"
    },
    {
     "name": "stderr",
     "output_type": "stream",
     "text": "DEBUG:gcsfs.core:__del__(args=(), kwargs={})\n"
    },
    {
     "name": "stderr",
     "output_type": "stream",
     "text": "DEBUG:gcsfs.core:close(args=(), kwargs={})\n"
    }
   ],
   "source": [
    "gcsfs.core.split_path( 'gs://bubo-data/date')"
   ]
  },
  {
   "cell_type": "code",
   "execution_count": null,
   "metadata": {},
   "outputs": [
    {
     "name": "stderr",
     "output_type": "stream",
     "text": "DEBUG:gcsfs.core:open(args=('gs://bubo-data/date', 'w', None, None, None, None), kwargs={})\n"
    },
    {
     "name": "stderr",
     "output_type": "stream",
     "text": "DEBUG:gcsfs.core:__init__(args=(<gcsfs.core.GCSFileSystem object at 0x11c102da0>, 'gs://bubo-data/date', 'wb', 5242880, None, 'none', None), kwargs={})\n"
    },
    {
     "name": "stderr",
     "output_type": "stream",
     "text": "DEBUG:gcsfs.core:flush(args=(False,), kwargs={})\n"
    },
    {
     "name": "stderr",
     "output_type": "stream",
     "text": "DEBUG:gcsfs.core:flush(force=False) with buffer (3) < min size (2 ** 18), skipping block upload.\n"
    },
    {
     "name": "stderr",
     "output_type": "stream",
     "text": "DEBUG:gcsfs.core:close(args=(), kwargs={})\n"
    },
    {
     "name": "stderr",
     "output_type": "stream",
     "text": "DEBUG:gcsfs.core:flush(args=(True,), kwargs={})\n"
    },
    {
     "name": "stderr",
     "output_type": "stream",
     "text": "DEBUG:gcsfs.core:_simple_upload(args=(), kwargs={})\n"
    },
    {
     "name": "stderr",
     "output_type": "stream",
     "text": "DEBUG:urllib3.connectionpool:https://www.googleapis.com:443 \"POST /upload/storage/v1/b/bubo-data/o?uploadType=media&name=date HTTP/1.1\" 200 647\n"
    },
    {
     "name": "stderr",
     "output_type": "stream",
     "text": "DEBUG:gcsfs.core:invalidate_cache(args=('bubo-data',), kwargs={})\n"
    }
   ],
   "source": [
    "with gs.open('gs://bubo-data/date', 'w') as f:\n",
    "    f.write('foo')"
   ]
  },
  {
   "cell_type": "code",
   "execution_count": null,
   "metadata": {},
   "outputs": [
    {
     "name": "stderr",
     "output_type": "stream",
     "text": "DEBUG:gcsfs.core:open(args=('gs://bubo-data/date', 'rb', None, None, None, None), kwargs={})\n"
    },
    {
     "name": "stderr",
     "output_type": "stream",
     "text": "DEBUG:gcsfs.core:__init__(args=(<gcsfs.core.GCSFileSystem object at 0x11c102da0>, 'gs://bubo-data/date', 'rb', 5242880, None, 'none', None), kwargs={})\n"
    },
    {
     "name": "stderr",
     "output_type": "stream",
     "text": "DEBUG:gcsfs.core:info(args=('gs://bubo-data/date',), kwargs={})\n"
    },
    {
     "name": "stderr",
     "output_type": "stream",
     "text": "DEBUG:gcsfs.core:_get_object(args=('gs://bubo-data/date',), kwargs={})\n"
    },
    {
     "name": "stderr",
     "output_type": "stream",
     "text": "DEBUG:gcsfs.core:_maybe_get_cached_listing(args=('bubo-data//',), kwargs={})\n"
    },
    {
     "name": "stderr",
     "output_type": "stream",
     "text": "DEBUG:gcsfs.core:_maybe_get_cached_listing: bubo-data//\n"
    },
    {
     "name": "stderr",
     "output_type": "stream",
     "text": "DEBUG:gcsfs.core:_call(args=('get', 'b/{}/o/{}', 'bubo-data', 'date'), kwargs={})\n"
    },
    {
     "name": "stderr",
     "output_type": "stream",
     "text": "DEBUG:urllib3.connectionpool:https://www.googleapis.com:443 \"GET /storage/v1/b/bubo-data/o/date HTTP/1.1\" 200 647\n"
    },
    {
     "name": "stderr",
     "output_type": "stream",
     "text": "DEBUG:gcsfs.core:_fetch(args=(0, 3), kwargs={})\n"
    },
    {
     "name": "stderr",
     "output_type": "stream",
     "text": "DEBUG:gcsfs.core:_fetch_range(args=(<google.auth.transport.requests.AuthorizedSession object at 0x11c162cc0>, 0, 5242883), kwargs={})\n"
    },
    {
     "name": "stderr",
     "output_type": "stream",
     "text": "DEBUG:urllib3.connectionpool:https://www.googleapis.com:443 \"GET /download/storage/v1/b/bubo-data/o/date?generation=1530128395796535&alt=media HTTP/1.1\" 206 3\n"
    },
    {
     "name": "stderr",
     "output_type": "stream",
     "text": "DEBUG:gcsfs.core:__del__(args=(), kwargs={})\n"
    },
    {
     "name": "stderr",
     "output_type": "stream",
     "text": "DEBUG:gcsfs.core:close(args=(), kwargs={})\n"
    },
    {
     "data": {
      "text/plain": "b'foo'"
     },
     "execution_count": 59,
     "metadata": {},
     "output_type": "execute_result"
    }
   ],
   "source": [
    "gs.open('gs://bubo-data/date').read()"
   ]
  },
  {
   "cell_type": "code",
   "execution_count": null,
   "metadata": {
    "time": "20.304s"
   },
   "outputs": [],
   "source": [
    "gs.glob('bubo-data/v0/data/xc/data/WIWA/**')"
   ]
  },
  {
   "cell_type": "code",
   "execution_count": null,
   "metadata": {},
   "outputs": [],
   "source": [
    "from google.cloud import storage\n",
    "client = storage.Client()\n",
    "bucket = client.get_bucket('bubo-data')"
   ]
  },
  {
   "cell_type": "code",
   "execution_count": null,
   "metadata": {},
   "outputs": [
    {
     "data": {
      "text/plain": "{\n  'apply': <bound method Credentials.apply of <google.oauth2.credentials.Credentials object at 0x118f3c5f8>>,\n  'before_request': <bound method Credentials.before_request of <google.oauth2.credentials.Credentials object at 0x118f3c5f8>>,\n  'client_id': '764086051850-6qr4p6gpi6hn506pt8ejuq83di341hur.apps.googleusercontent.com',\n  'client_secret': 'd-FL95Q19q7MQmFpd7hHD0Ty',\n  'expired': True,\n  'expiry': datetime.datetime(year=2018, month=6, day=27, hour=20, minute=1, second=34, microsecond=619230),\n  'from_authorized_user_file': <bound method Credentials.from_authorized_user_file of <class 'google.oauth2.credentials.Credentials'>>,\n  'from_authorized_user_info': <bound method Credentials.from_authorized_user_info of <class 'google.oauth2.credentials.Credentials'>>,\n  'has_scopes': <bound method ReadOnlyScoped.has_scopes of <google.oauth2.credentials.Credentials object at 0x118f3c5f8>>,\n  'id_token':\n    'eyJhbGciOiJSUzI1NiIsImtpZCI6IjRlZjUxMThiMDgwMGJkNjBhNDE5NDE4NmRjYjUzOGZjNjZlNWViMzQifQ.'\n    'eyJhenAiOiI3NjQwODYwNTE4NTAtNnFyNHA2Z3BpNmhuNTA2cHQ4ZWp1cTgzZGkzNDFodXIuYXBwcy5nb29nbGV1c2VyY29udGVudC5jb20iLCJhdW'\n    'QiOiI3NjQwODYwNTE4NTAtNnFyNHA2Z3BpNmhuNTA2cHQ4ZWp1cTgzZGkzNDFodXIuYXBwcy5nb29nbGV1c2VyY29udGVudC5jb20iLCJzdWIiOiIx'\n    'MDY2MTY1OTc2MTQ2NDU4MjYxOTMiLCJlbWFpbCI6ImpkYW5icm93bkBnbWFpbC5jb20iLCJlbWFpbF92ZXJpZmllZCI6dHJ1ZSwiYXRfaGFzaCI6Ij'\n    'V0Y3JwWUJXMFhoS2ZzeDZkS29mRGciLCJleHAiOjE1MzAxMjk2OTQsImlzcyI6ImFjY291bnRzLmdvb2dsZS5jb20iLCJpYXQiOjE1MzAxMjYwOTR9'\n    '.jNHoD81z-YSdwnQ10tMELWFOvS7ObKFmGmwtNuOnsldyO42yf0sMdg4n5cqF1CP9kEsSgAA_hv2F-'\n    'K1y5rx82NyT34sHMXxfBOqK2aMKw47dHsQqBpEo5exsnDgPmYYGNmiQvhwi6ECHaS2lboaMsB-'\n    '3xTgCvO4KVLK7eED24aqyPFKSIE0Z8OzUWt1rKxjNGvAOh80w7PcakdhGRoIwQ8Hz3C03xSnQmZ6pN5sESMzrBGfvcdS_x_YjV8RKaoq1ekRF6FW7F'\n    '2PmedbU4inU_55i5ZZUvOCWNB4-AfSJmbEPGgqv_WLN-05s7sYyaW83jHqX0sz4SPZxmbKEB9Lsbg',\n  'refresh': <bound method Credentials.refresh of <google.oauth2.credentials.Credentials object at 0x118f3c5f8>>,\n  'refresh_token': '1/wg1zIBcvB9QmO6Ng5b-FWwH3IzSh_zxp_Ke57mUCgV0',\n  'requires_scopes': False,\n  'scopes': None,\n  'token':\n    'ya29.GlznBd-rRw1GKZwWPIjuax-bAJstTf0uXfJMWyb9z5r-'\n    'J64NuDKBLrW6_VqH3S_Mbhv1IgAATiKHZEhvjDOqohnN3bVuHTtgw7PgEsxL4U_UXPLHfu2Q5JmysLHKNg',\n  'token_uri': 'https://accounts.google.com/o/oauth2/token',\n  'valid': False\n}"
     },
     "execution_count": 78,
     "metadata": {},
     "output_type": "execute_result"
    },
    {
     "name": "stderr",
     "output_type": "stream",
     "text": "DEBUG:gcsfs.core:ls(args=('bubo-data', False), kwargs={})\n"
    },
    {
     "name": "stderr",
     "output_type": "stream",
     "text": "DEBUG:gcsfs.core:_ls(args=('bubo-data/', False), kwargs={})\n"
    },
    {
     "name": "stderr",
     "output_type": "stream",
     "text": "DEBUG:gcsfs.core:_list_objects(args=('bubo-data/',), kwargs={})\n"
    },
    {
     "name": "stderr",
     "output_type": "stream",
     "text": "DEBUG:gcsfs.core:_maybe_get_cached_listing(args=('bubo-data/',), kwargs={})\n"
    },
    {
     "name": "stderr",
     "output_type": "stream",
     "text": "DEBUG:gcsfs.core:_maybe_get_cached_listing: bubo-data/\n"
    },
    {
     "data": {
      "text/plain": "['bubo-data/date', 'bubo-data/v0/']"
     },
     "execution_count": 83,
     "metadata": {},
     "output_type": "execute_result"
    }
   ],
   "source": [
    "gcsfs.GCSFileSystem(project='bubo-1', token=client._credentials).ls('bubo-data')\n",
    "dirs(client._credentials)"
   ]
  },
  {
   "cell_type": "code",
   "execution_count": null,
   "metadata": {},
   "outputs": [
    {
     "name": "stderr",
     "output_type": "stream",
     "text": "DEBUG:urllib3.connectionpool:https://www.googleapis.com:443 \"GET /storage/v1/b/bubo-data/o?projection=noAcl&prefix=v0%2Fdata%2Fxc%2Fdata%2FSOSP%2F&fields=items%2Fname%2CnextPageToken HTTP/1.1\" 200 60026\n"
    },
    {
     "name": "stderr",
     "output_type": "stream",
     "text": "DEBUG:urllib3.connectionpool:https://www.googleapis.com:443 \"GET /storage/v1/b/bubo-data/o?pageToken=CiV2MC9kYXRhL3hjL2RhdGEvU09TUC8zNjI1MTQvcGFnZS5odG1s&projection=noAcl&prefix=v0%2Fdata%2Fxc%2Fdata%2FSOSP%2F&fields=items%2Fname%2CnextPageToken HTTP/1.1\" 200 17664\n"
    },
    {
     "data": {
      "text/plain": "1296"
     },
     "execution_count": 50,
     "metadata": {},
     "output_type": "execute_result"
    }
   ],
   "source": [
    "blobs = [x for x in bucket.list_blobs(prefix='v0/data/xc/data/SOSP/',\n",
    "    fields='items/name,nextPageToken',\n",
    ")]\n",
    "len(blobs)"
   ]
  },
  {
   "cell_type": "code",
   "execution_count": null,
   "metadata": {},
   "outputs": [
    {
     "data": {
      "text/plain": "gcsfs.core.split_path  # function"
     },
     "execution_count": 55,
     "metadata": {},
     "output_type": "execute_result"
    }
   ],
   "source": [
    "gcsfs.core.split_path"
   ]
  },
  {
   "cell_type": "code",
   "execution_count": null,
   "metadata": {},
   "outputs": [],
   "source": [
    "[x.name for x in blobs]"
   ]
  },
  {
   "cell_type": "code",
   "execution_count": null,
   "metadata": {
    "time": "13.431s"
   },
   "outputs": [
    {
     "data": {
      "text/plain": "129449"
     },
     "execution_count": 70,
     "metadata": {},
     "output_type": "execute_result"
    }
   ],
   "source": [
    "from pathlib import Path\n",
    "from datasets import xc\n",
    "len(list(xc.data_dir.glob('*/*/audio.mp3')))"
   ]
  },
  {
   "cell_type": "code",
   "execution_count": null,
   "metadata": {},
   "outputs": [
    {
     "data": {
      "text/plain": "[attrdict.dictionary.AttrDict({'a': 1, 'b': 'foo'}), attrdict.dictionary.AttrDict({'a': 2, 'b': 'bar'})]"
     },
     "execution_count": 97,
     "metadata": {},
     "output_type": "execute_result"
    }
   ],
   "source": [
    "from util import df_rows\n",
    "from more_itertools import *\n",
    "list(unique_everseen(AttrDict(row) for row in df_rows(DF(dict(a=[1,2,2], b=['foo','bar','bar'])))))"
   ]
  },
  {
   "cell_type": "code",
   "execution_count": null,
   "metadata": {},
   "outputs": [
    {
     "data": {
      "text/plain": "[1, 2, 3, 0, 1, 2, 3, 4]"
     },
     "execution_count": 99,
     "metadata": {},
     "output_type": "execute_result"
    }
   ],
   "source": [
    "xs = [1,2,3]\n",
    "xs.extend(x for x in range(5))\n",
    "xs"
   ]
  },
  {
   "cell_type": "code",
   "execution_count": null,
   "metadata": {},
   "outputs": [],
   "source": [
    "print_sys_info()"
   ]
  },
  {
   "cell_type": "code",
   "execution_count": null,
   "metadata": {},
   "outputs": [
    {
     "name": "stdout",
     "output_type": "stream",
     "text": "args:\n{\n  'X_shape': (20,),\n  'y_shape': (20,),\n  'n': 20,\n  'frac': 1.0,\n  'replace': False\n}\n"
    },
    {
     "data": {
      "text/plain": "(\n  array([ 3, 15,  9, 12, 13,  1,  5,  0, 16,  7, 10, 14, 11, 17,  8,  4,  2, 18,  6, 19]),\n  array(['a', 'd', 'c', 'd', 'd', 'a', 'b', 'a', 'e', 'b', 'c', 'd', 'c', 'e', 'c', 'b', 'a', 'e', 'b', 'e'], dtype='<U1')\n)"
     },
     "execution_count": 189,
     "metadata": {},
     "output_type": "execute_result"
    }
   ],
   "source": [
    "from potoo.numpy import *\n",
    "from util import *\n",
    "np_sample_stratified(\n",
    "    X=np.arange(20),\n",
    "    y=list(flatten([c] * 4 for c in 'abcde')),\n",
    "    # n=1,\n",
    "    n=20,\n",
    "    # frac=1.0,\n",
    "    # frac=0.6,\n",
    ")"
   ]
  },
  {
   "cell_type": "code",
   "execution_count": null,
   "metadata": {},
   "outputs": [
    {
     "data": {
      "text/plain": "33066223"
     },
     "metadata": {},
     "output_type": "display_data",
     "transient": {}
    },
    {
     "data": {
      "text/plain": "8831779"
     },
     "metadata": {},
     "output_type": "display_data",
     "transient": {}
    },
    {
     "data": {
      "text/plain": "[28, 28, 6, 12, 12, 8831700, 4]"
     },
     "metadata": {},
     "output_type": "display_data",
     "transient": {}
    }
   ],
   "source": [
    "from notebooks import *\n",
    "ret = joblib.load(f\"{artifact_dir}/20180709-211727-fd34af5-ovr_try_2/split_i=0,train=2688,test=672,classes=168,estimator=Search(n_species=168,n_recs=1.0,classifier='cls=xgbm,n_estimators=100,max_depth=100',random_state=0)/ret.pkl\")\n",
    "estimator = joblib.load(f\"{artifact_dir}/20180709-211727-fd34af5-ovr_try_2/split_i=0,train=2688,test=672,classes=168,estimator=Search(n_species=168,n_recs=1.0,classifier='cls=xgbm,n_estimators=100,max_depth=100',random_state=0)/estimator.pkl\")\n",
    "sizeof = lambda x: len(joblib_dumps(x))\n",
    "display(\n",
    "    sizeof(estimator),\n",
    "    sizeof(ret),\n",
    "    [sizeof(x) for x in ret],\n",
    ")"
   ]
  },
  {
   "cell_type": "code",
   "execution_count": null,
   "metadata": {
    "time": "3.144s"
   },
   "outputs": [
    {
     "name": "stdout",
     "output_type": "stream",
     "text": "CPU times: user 1.4 s, sys: 37.6 ms, total: 1.44 s\nWall time: 1.44 s\n"
    },
    {
     "data": {
      "text/plain": "'16.9 MB'"
     },
     "metadata": {},
     "output_type": "display_data",
     "transient": {}
    },
    {
     "data": {
      "text/plain": "'1.7 MB'"
     },
     "metadata": {},
     "output_type": "display_data",
     "transient": {}
    },
    {
     "data": {
      "text/html": "<table border=\"1\" class=\"dataframe\">\n  <thead>\n    <tr style=\"text-align: right;\">\n      <th></th>\n      <th></th>\n      <th></th>\n      <th></th>\n      <th></th>\n      <th></th>\n      <th></th>\n      <th></th>\n      <th>min</th>\n      <th>25%</th>\n      <th>50%</th>\n      <th>75%</th>\n      <th>max</th>\n    </tr>\n    <tr>\n      <th></th>\n      <th>dtype</th>\n      <th>sizeof</th>\n      <th>len</th>\n      <th>count</th>\n      <th>nunique</th>\n      <th>mean</th>\n      <th>std</th>\n      <th></th>\n      <th></th>\n      <th></th>\n      <th></th>\n      <th></th>\n    </tr>\n  </thead>\n  <tbody>\n    <tr>\n      <th>type</th>\n      <th>object</th>\n      <th>1142400</th>\n      <th>16800</th>\n      <th>16800</th>\n      <th>1</th>\n      <th>NaN</th>\n      <th>NaN</th>\n      <td><div class=\"not-number\">xgb</div></td>\n      <td><div class=\"not-number\">xgb</div></td>\n      <td><div class=\"not-number\">xgb</div></td>\n      <td><div class=\"not-number\">xgb</div></td>\n      <td><div class=\"not-number\">xgb</div></td>\n    </tr>\n    <tr>\n      <th>n_trees</th>\n      <th>int64</th>\n      <th>470400</th>\n      <th>16800</th>\n      <th>16800</th>\n      <th>1</th>\n      <th>NaN</th>\n      <th>NaN</th>\n      <td>16800</td>\n      <td>16800</td>\n      <td>16800</td>\n      <td>16800</td>\n      <td>16800</td>\n    </tr>\n    <tr>\n      <th>tree_i</th>\n      <th>int64</th>\n      <th>470396</th>\n      <th>16800</th>\n      <th>16800</th>\n      <th>16800</th>\n      <th>NaN</th>\n      <th>NaN</th>\n      <td>0</td>\n      <td>4199</td>\n      <td>8399</td>\n      <td>12599</td>\n      <td>16799</td>\n    </tr>\n    <tr>\n      <th>depth</th>\n      <th>int64</th>\n      <th>470392</th>\n      <th>16800</th>\n      <th>16800</th>\n      <th>30</th>\n      <th>NaN</th>\n      <th>NaN</th>\n      <td>0</td>\n      <td>5</td>\n      <td>7</td>\n      <td>9</td>\n      <td>100</td>\n    </tr>\n    <tr>\n      <th>node_count</th>\n      <th>int64</th>\n      <th>470400</th>\n      <th>16800</th>\n      <th>16800</th>\n      <th>42</th>\n      <th>NaN</th>\n      <th>NaN</th>\n      <td>1</td>\n      <td>17</td>\n      <td>23</td>\n      <td>29</td>\n      <td>221</td>\n    </tr>\n    <tr>\n      <th>leaf_count</th>\n      <th>int64</th>\n      <th>470400</th>\n      <th>16800</th>\n      <th>16800</th>\n      <th>42</th>\n      <th>NaN</th>\n      <th>NaN</th>\n      <td>1</td>\n      <td>9</td>\n      <td>12</td>\n      <td>15</td>\n      <td>111</td>\n    </tr>\n    <tr>\n      <th>fork_count</th>\n      <th>int64</th>\n      <th>470392</th>\n      <th>16800</th>\n      <th>16800</th>\n      <th>42</th>\n      <th>NaN</th>\n      <th>NaN</th>\n      <td>0</td>\n      <td>8</td>\n      <td>11</td>\n      <td>14</td>\n      <td>110</td>\n    </tr>\n  </tbody>\n</table>",
      "text/plain": "                                                          min    25%    50%    75%    max\n           dtype  sizeof  len   count nunique mean std                                   \ntype       object 1142400 16800 16800 1       NaN  NaN    xgb    xgb    xgb    xgb    xgb\nn_trees    int64  470400  16800 16800 1       NaN  NaN  16800  16800  16800  16800  16800\ntree_i     int64  470396  16800 16800 16800   NaN  NaN      0   4199   8399  12599  16799\ndepth      int64  470392  16800 16800 30      NaN  NaN      0      5      7      9    100\nnode_count int64  470400  16800 16800 42      NaN  NaN      1     17     23     29    221\nleaf_count int64  470400  16800 16800 42      NaN  NaN      1      9     12     15    111\nfork_count int64  470392  16800 16800 42      NaN  NaN      0      8     11     14    110"
     },
     "metadata": {},
     "output_type": "display_data",
     "transient": {}
    },
    {
     "data": {
      "text/html": "<table border=\"1\" class=\"dataframe\">\n  <thead>\n    <tr style=\"text-align: right;\">\n      <th></th>\n      <th>type</th>\n      <th>n_trees</th>\n      <th>tree_i</th>\n      <th>depth</th>\n      <th>node_count</th>\n      <th>leaf_count</th>\n      <th>fork_count</th>\n    </tr>\n  </thead>\n  <tbody>\n    <tr>\n      <th>0</th>\n      <td><div class=\"not-number\">xgb</div></td>\n      <td>16800</td>\n      <td>0</td>\n      <td>7</td>\n      <td>41</td>\n      <td>21</td>\n      <td>20</td>\n    </tr>\n    <tr>\n      <th>1</th>\n      <td><div class=\"not-number\">xgb</div></td>\n      <td>16800</td>\n      <td>1</td>\n      <td>8</td>\n      <td>21</td>\n      <td>11</td>\n      <td>10</td>\n    </tr>\n    <tr>\n      <th>2</th>\n      <td><div class=\"not-number\">xgb</div></td>\n      <td>16800</td>\n      <td>2</td>\n      <td>4</td>\n      <td>17</td>\n      <td>9</td>\n      <td>8</td>\n    </tr>\n    <tr>\n      <th>3</th>\n      <td><div class=\"not-number\">xgb</div></td>\n      <td>16800</td>\n      <td>3</td>\n      <td>13</td>\n      <td>33</td>\n      <td>17</td>\n      <td>16</td>\n    </tr>\n    <tr>\n      <th>4</th>\n      <td><div class=\"not-number\">xgb</div></td>\n      <td>16800</td>\n      <td>4</td>\n      <td>100</td>\n      <td>207</td>\n      <td>104</td>\n      <td>103</td>\n    </tr>\n    <tr>\n      <th>5</th>\n      <td><div class=\"not-number\">xgb</div></td>\n      <td>16800</td>\n      <td>5</td>\n      <td>9</td>\n      <td>37</td>\n      <td>19</td>\n      <td>18</td>\n    </tr>\n    <tr>\n      <th>6</th>\n      <td><div class=\"not-number\">xgb</div></td>\n      <td>16800</td>\n      <td>6</td>\n      <td>8</td>\n      <td>27</td>\n      <td>14</td>\n      <td>13</td>\n    </tr>\n    <tr>\n      <th>7</th>\n      <td><div class=\"not-number\">xgb</div></td>\n      <td>16800</td>\n      <td>7</td>\n      <td>9</td>\n      <td>27</td>\n      <td>14</td>\n      <td>13</td>\n    </tr>\n    <tr>\n      <th>8</th>\n      <td><div class=\"not-number\">xgb</div></td>\n      <td>16800</td>\n      <td>8</td>\n      <td>8</td>\n      <td>33</td>\n      <td>17</td>\n      <td>16</td>\n    </tr>\n    <tr>\n      <th>9</th>\n      <td><div class=\"not-number\">xgb</div></td>\n      <td>16800</td>\n      <td>9</td>\n      <td>5</td>\n      <td>17</td>\n      <td>9</td>\n      <td>8</td>\n    </tr>\n    <tr>\n      <th>10</th>\n      <td><div class=\"not-number\">xgb</div></td>\n      <td>16800</td>\n      <td>10</td>\n      <td>5</td>\n      <td>21</td>\n      <td>11</td>\n      <td>10</td>\n    </tr>\n    <tr>\n      <th>11</th>\n      <td><div class=\"not-number\">xgb</div></td>\n      <td>16800</td>\n      <td>11</td>\n      <td>6</td>\n      <td>17</td>\n      <td>9</td>\n      <td>8</td>\n    </tr>\n    <tr>\n      <th>12</th>\n      <td><div class=\"not-number\">xgb</div></td>\n      <td>16800</td>\n      <td>12</td>\n      <td>10</td>\n      <td>41</td>\n      <td>21</td>\n      <td>20</td>\n    </tr>\n    <tr>\n      <th>13</th>\n      <td><div class=\"not-number\">xgb</div></td>\n      <td>16800</td>\n      <td>13</td>\n      <td>5</td>\n      <td>21</td>\n      <td>11</td>\n      <td>10</td>\n    </tr>\n    <tr>\n      <th>14</th>\n      <td><div class=\"not-number\">xgb</div></td>\n      <td>16800</td>\n      <td>14</td>\n      <td>5</td>\n      <td>19</td>\n      <td>10</td>\n      <td>9</td>\n    </tr>\n    <tr>\n      <th>15</th>\n      <td><div class=\"not-number\">xgb</div></td>\n      <td>16800</td>\n      <td>15</td>\n      <td>9</td>\n      <td>25</td>\n      <td>13</td>\n      <td>12</td>\n    </tr>\n    <tr>\n      <th>16</th>\n      <td><div class=\"not-number\">xgb</div></td>\n      <td>16800</td>\n      <td>16</td>\n      <td>100</td>\n      <td>211</td>\n      <td>106</td>\n      <td>105</td>\n    </tr>\n    <tr>\n      <th>17</th>\n      <td><div class=\"not-number\">xgb</div></td>\n      <td>16800</td>\n      <td>17</td>\n      <td>10</td>\n      <td>25</td>\n      <td>13</td>\n      <td>12</td>\n    </tr>\n    <tr>\n      <th>18</th>\n      <td><div class=\"not-number\">xgb</div></td>\n      <td>16800</td>\n      <td>18</td>\n      <td>9</td>\n      <td>39</td>\n      <td>20</td>\n      <td>19</td>\n    </tr>\n    <tr>\n      <th>19</th>\n      <td><div class=\"not-number\">xgb</div></td>\n      <td>16800</td>\n      <td>19</td>\n      <td>8</td>\n      <td>33</td>\n      <td>17</td>\n      <td>16</td>\n    </tr>\n  </tbody>\n</table>",
      "text/plain": "   type  n_trees  tree_i  depth  node_count  leaf_count  fork_count\n0   xgb    16800       0      7          41          21          20\n1   xgb    16800       1      8          21          11          10\n2   xgb    16800       2      4          17           9           8\n3   xgb    16800       3     13          33          17          16\n4   xgb    16800       4    100         207         104         103\n5   xgb    16800       5      9          37          19          18\n6   xgb    16800       6      8          27          14          13\n7   xgb    16800       7      9          27          14          13\n8   xgb    16800       8      8          33          17          16\n9   xgb    16800       9      5          17           9           8\n10  xgb    16800      10      5          21          11          10\n11  xgb    16800      11      6          17           9           8\n12  xgb    16800      12     10          41          21          20\n13  xgb    16800      13      5          21          11          10\n14  xgb    16800      14      5          19          10           9\n15  xgb    16800      15      9          25          13          12\n16  xgb    16800      16    100         211         106         105\n17  xgb    16800      17     10          25          13          12\n18  xgb    16800      18      9          39          20          19\n19  xgb    16800      19      8          33          17          16"
     },
     "metadata": {},
     "output_type": "display_data",
     "transient": {}
    }
   ],
   "source": [
    "from notebooks import *\n",
    "estimator = joblib.load(f\"{artifact_dir}/20180709-211727-fd34af5-ovr_try_2/split_i=0,train=2688,test=672,classes=168,estimator=Search(n_species=168,n_recs=1.0,classifier='cls=xgbm,n_estimators=100,max_depth=100',random_state=0)/estimator.pkl\")\n",
    "gbm = estimator.classifier_\n",
    "gbm._Booster.dump_model('/tmp/gbm.txt', with_stats=True)  # Human readable\n",
    "sizeof = lambda x: len(joblib_dumps(x))\n",
    "%time stats = model_stats(gbm)\n",
    "display(\n",
    "    humanize.naturalsize(sizeof(gbm)),\n",
    "    humanize.naturalsize(sizeof(stats)),\n",
    "    df_summary(stats).T,\n",
    "    stats[:20],\n",
    ")"
   ]
  },
  {
   "cell_type": "code",
   "execution_count": null,
   "metadata": {},
   "outputs": [],
   "source": [
    "from notebooks import *\n",
    "import pprint\n",
    "(xc.metadata\n",
    "    [lambda df: pd.notnull(df.species)]\n",
    "    [lambda df: df.country == 'United States']\n",
    "    .pipe(df_remove_unused_categories).com_name.sort_values()\n",
    "    .pipe(puts, f=lambda s: len(s.unique()))\n",
    "    .pipe(lambda s:\n",
    "        pprint.pprint(s.unique().tolist(), indent=4, width=120, compact=True)\n",
    "    )\n",
    ")"
   ]
  },
  {
   "cell_type": "code",
   "execution_count": null,
   "metadata": {},
   "outputs": [],
   "source": [
    "for s in [\n",
    "    '#             f1-micro    1   .6g  $[   4 /   3]/mo  $[    /   ]/d  $[.008 / .004]/hr',\n",
    "    '#             g1-small    1  1.7g  $[  13 /   5]/mo  $[    /.17]/d  $[.026 / .007]/hr',\n",
    "    '#',\n",
    "    '#         n1-highcpu-2    2    2g  $[  36 /  11]/mo  $[    /   ]/d  $[ .07 /  .02]/hr',\n",
    "    '#         n1-highcpu-4    4    4g  $[  72 /  22]/mo  $[    /   ]/d  $[ .14 /  .03]/hr',\n",
    "    '#         n1-highcpu-8    8    7g  $[ 145 /  44]/mo  $[    /   ]/d  $[ .28 /  .06]/hr',\n",
    "    '#        n1-highcpu-16   16   14g  $[ 290 /  88]/mo  $[    /   ]/d  $[ .57 /  .12]/hr',\n",
    "    '#        n1-highcpu-32   32   29g  $[ 580 / 175]/mo  $[    /   ]/d  $[1.13 /  .24]/hr',\n",
    "    '#        n1-highcpu-64   64   58g  $[1159 / 350]/mo  $[    /   ]/d  $[2.27 /  .48]/hr',\n",
    "    '#        n1-highcpu-96   96   86g  $[1739 / 526]/mo  $[ 82 / 17]/d  $[3.40 /  .72]/hr',\n",
    "    '#',\n",
    "    '#        n1-standard-2    2    7g  $[  49 /  15]/mo  $[  5 /  1]/d  $[ .10 /  .02]/hr',\n",
    "    '#        n1-standard-4    4   15g  $[  97 /  29]/mo  $[  5 /  1]/d  $[ .19 /  .04]/hr',\n",
    "    '#        n1-standard-8    8   30g  $[ 194 /  58]/mo  $[  9 /  2]/d  $[ .38 /  .08]/hr',\n",
    "    '#       n1-standard-16   16   60g  $[ 388 / 116]/mo  $[ 18 /  4]/d  $[ .76 /  .16]/hr',\n",
    "    '#       n1-standard-32   32  120g  $[ 776 / 233]/mo  $[ 36 /  8]/d  $[1.52 /  .32]/hr',\n",
    "    '#       n1-standard-64   64  240g  $[1553 / 467]/mo  $[ 73 / 16]/d  $[3.04 /  .64]/hr',\n",
    "    '#       n1-standard-96   96  360g  $[2330 / 700]/mo  $[109 / 23]/d  $[4.56 /  .96]/hr',\n",
    "    '#',\n",
    "    '#         n1-highmem-2    2   13g  $[  61 /  18]/mo  $[    /   ]/d  $[ .12 /  .03]/hr',\n",
    "    '#         n1-highmem-4    4   26g  $[ 121 /  37]/mo  $[    /   ]/d  $[ .24 /  .05]/hr',\n",
    "    '#         n1-highmem-8    8   52g  $[ 242 /  73]/mo  $[    /   ]/d  $[ .47 /  .10]/hr',\n",
    "    '#        n1-highmem-16   16  104g  $[ 484 / 146]/mo  $[    /   ]/d  $[ .95 /  .20]/hr',\n",
    "    '#        n1-highmem-32   32  208g  $[ 968 / 292]/mo  $[    /   ]/d  $[1.89 /  .40]/hr',\n",
    "    '#        n1-highmem-64   64  416g  $[1936 / 584]/mo  $[    /   ]/d  $[3.79 /  .80]/hr',\n",
    "    '#        n1-highmem-96   96  624g  $[2904 / 876]/mo  $[    /   ]/d  $[5.68 / 1.20]/hr',\n",
    "]:\n",
    "    if s == '#':\n",
    "        print(s)\n",
    "    else:\n",
    "        (desc, dem_m, pre_m, dem_d, pre_d, dem_h, pre_h) = re.match(\n",
    "            r'(.*?)\\$\\[(.*)/(.*)\\]/mo.*\\$\\[(.*)/(.*)\\]/d.*\\$\\[(.*)/(.*)\\]/hr',\n",
    "            s,\n",
    "        ).groups()\n",
    "        dem_h = float(dem_h.strip())\n",
    "        pre_h = float(pre_h.strip())\n",
    "        line = '%s$[%4.0f / %3.0f]/mo  $[%5.1f / %4.2f]/d  $[%4.3f / %4.3f]/hr' % (\n",
    "            desc,\n",
    "            dem_h * 24*28, pre_h * 24*28,\n",
    "            dem_h * 24, pre_h * 24,\n",
    "            dem_h, pre_h,\n",
    "        )\n",
    "        line = re.sub(r'0\\.', ' .', line)\n",
    "        print(line)"
   ]
  },
  {
   "cell_type": "code",
   "execution_count": null,
   "metadata": {},
   "outputs": [],
   "source": [
    "list(map(list, np.array([1,2,4,8])[:,np.newaxis] * np.array([ 230,99, 24*.45,24*.135, .45,.135, ])))"
   ]
  },
  {
   "cell_type": "code",
   "execution_count": null,
   "metadata": {},
   "outputs": [],
   "source": []
  }
 ],
 "metadata": {
  "kernelspec": {
   "display_name": "bubo-features (PYTHONSTARTUP)",
   "language": "python",
   "name": "bubo-features (PYTHONSTARTUP)"
  }
 },
 "nbformat": 4,
 "nbformat_minor": 2
}
