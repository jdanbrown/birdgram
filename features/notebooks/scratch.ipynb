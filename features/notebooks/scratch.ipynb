{
 "cells": [
  {
   "cell_type": "code",
   "execution_count": null,
   "metadata": {},
   "outputs": [],
   "source": [
    "from notebooks import *"
   ]
  },
  {
   "cell_type": "code",
   "execution_count": null,
   "metadata": {},
   "outputs": [],
   "source": [
    "%%time\n",
    "joypy.joyplot(\n",
    "    # Perf: kind='kde' and kind='counts' are roughly the same\n",
    "    # kind='kde',\n",
    "    kind='counts', bins=80,\n",
    "    fill=False,\n",
    "    linecolor='k',\n",
    "    linewidth=.5,\n",
    "    xlabels=True,\n",
    "    ylabels=False,\n",
    "    # overlap=.001,\n",
    "    # overlap=.01,\n",
    "    # overlap=.1,\n",
    "    # overlap=.5,\n",
    "    # overlap=1,\n",
    "    # XXX This gets _very slow_ with more lines\n",
    "    #   - Unusable >100, and our spectro Sxx are more like ~600\n",
    "    data=[\n",
    "        stats.distributions.norm.rvs(mu, 10, 100)\n",
    "        for mu in np.arange(50)\n",
    "    ],\n",
    ")\n",
    "plt.show()"
   ]
  },
  {
   "cell_type": "code",
   "execution_count": null,
   "metadata": {},
   "outputs": [],
   "source": [
    "# Here's what's required to turn an FT into a periodogram (power by freq)\n",
    "#   - TODO Oops, x-axis is still off by 2x...\n",
    "x = ...  # Real signal, e.g. audio waveform\n",
    "sample_rate = 22050\n",
    "f, Pxx = scipy.signal.periodogram(x, fs=sample_rate, scaling='spectrum')\n",
    "plt.plot(f, Pxx); plt.show()\n",
    "plt.plot((np.abs(np.fft.rfft(x)) / len(x))**2 * 2); plt.show()"
   ]
  },
  {
   "cell_type": "code",
   "execution_count": null,
   "metadata": {},
   "outputs": [],
   "source": [
    "# Diff spectro vs. librosa melspectrogram\n",
    "f, t, Sxx = np.abs(spectro(audio, nperseg=nperseg, overlap=overlap, detrend='constant', scaling='density', mode='complex'))**2\n",
    "Sxx = Sxx * 1024**2 * 8  # Works with scaling='density'\n",
    "display(Sxx.shape)\n",
    "plt.hist(Sxx.flatten(), bins=100, log=True); plt.show()\n",
    "Sxx = librosa.power_to_db(np.dot(mel_basis, Sxx)); display(Sxx.shape)\n",
    "# plt.pcolormesh(Sxx); [s.set_visible(False) for s in plt.gca().spines.values()]; plt.show()\n",
    "\n",
    "n_fft = nperseg\n",
    "Sxx = librosa.feature.melspectrogram(x.astype(float), sample_rate, None, n_fft, int(n_fft*(1-overlap)), n_mels=n_mels, power=2)\n",
    "display(Sxx.shape)\n",
    "plt.hist(Sxx.flatten(), bins=100, log=True); plt.show()\n",
    "Sxx = librosa.power_to_db(np.dot(mel_basis, Sxx)); display(Sxx.shape)\n",
    "# plt.pcolormesh(Sxx); [s.set_visible(False) for s in plt.gca().spines.values()]; plt.show()"
   ]
  },
  {
   "cell_type": "code",
   "execution_count": null,
   "metadata": {},
   "outputs": [],
   "source": [
    "# Diff mfcc vs. librosa mfcc\n",
    "n_mfcc = 1024\n",
    "plt_mfcc(x, mfcc=partial(mfcc, mels_div=2, n_mfcc=n_mfcc, std=True), show_audio=False, fancy=False)\n",
    "plt.gca().yaxis.set_major_formatter(mpl.ticker.FormatStrFormatter(''))\n",
    "plt.show()\n",
    "\n",
    "M = librosa.feature.mfcc(x.astype(float), sample_rate, n_mfcc=n_mfcc)\n",
    "M = (M - M.mean(axis=1)[:, np.newaxis]) / M.std(axis=1)[:, np.newaxis]  # Standardize\n",
    "plt.pcolormesh(M)\n",
    "plt.gca().yaxis.set_major_formatter(mpl.ticker.FormatStrFormatter(''))\n",
    "plt.gca().tick_params(labelsize=8)\n",
    "[s.set_visible(False) for s in plt.gca().spines.values()]\n",
    "plt.show()"
   ]
  },
  {
   "cell_type": "code",
   "execution_count": null,
   "metadata": {},
   "outputs": [],
   "source": [
    "import dask\n",
    "import dask.bag\n",
    "import dask.dataframe as dd\n",
    "\n",
    "dask.set_options(scheduler='processes')\n",
    "\n",
    "df = pd.DataFrame({'a':range(10,20), 'b':range(20,30)}); df\n",
    "\n",
    "ddf = dd.from_pandas(df, npartitions=8)\n",
    "ddf.apply?\n",
    "\n",
    "dask.bag.from_sequence(range(100)).compute()"
   ]
  },
  {
   "cell_type": "code",
   "execution_count": null,
   "metadata": {},
   "outputs": [],
   "source": [
    "from datatypes import Recording\n",
    "from load import *\n",
    "\n",
    "recs_paths = load_recs_paths(['recordings-new'])\n",
    "row = recs_paths.iloc[0]\n",
    "rec = load_rec(row.dataset, row.path)\n",
    "\n",
    "import dataclasses\n",
    "dir(dataclasses)\n",
    "\n",
    "# load_recs_data(recs_paths)\n",
    "\n",
    "dataclasses.asdict(rec)\n",
    "dataclasses.fields(rec)"
   ]
  },
  {
   "cell_type": "code",
   "execution_count": null,
   "metadata": {},
   "outputs": [],
   "source": [
    "from potoo.plot import *\n",
    "\n",
    "# repr(ggplot(mpg) + geom_bar(aes(x='class')))\n",
    "\n",
    "theme_figsize('inline_short').rcParams\n",
    "\n",
    "figsize('inline_short');\n",
    "# figsize('inline_short', dpi=72);\n",
    "# figsize('inline_short', dpi=150);\n",
    "\n",
    "%time plt.plot(range(10)); display(plot_to_img())\n",
    "%time plt.plot(range(10)); plt.show()"
   ]
  },
  {
   "cell_type": "code",
   "execution_count": null,
   "metadata": {},
   "outputs": [],
   "source": [
    "from cache import *\n",
    "\n",
    "@cache(version=4)\n",
    "def foo(x): return x+2\n",
    "\n",
    "foo(3)\n",
    "foo(3, __cache_version=5)"
   ]
  },
  {
   "cell_type": "code",
   "execution_count": null,
   "metadata": {},
   "outputs": [],
   "source": [
    "import pickle\n",
    "import zict\n",
    "\n",
    "f = zict.Func(pickle.dumps, pickle.loads, zict.File('/tmp/zict-0/'))\n",
    "d = zict.LRU(\n",
    "    n=2,\n",
    "    d=f,\n",
    "    on_evict=lambda k, v: print('evict: %s:%s' % (k, v)),\n",
    "    weight=lambda k, v: 1,\n",
    ")"
   ]
  },
  {
   "cell_type": "code",
   "execution_count": null,
   "metadata": {},
   "outputs": [],
   "source": [
    "import pickle\n",
    "import zict\n",
    "from zict_util import PersistentBuffer\n",
    "\n",
    "a = {}\n",
    "b = zict.Func(pickle.dumps, pickle.loads, zict.File('/tmp/zict-0/'))\n",
    "d = PersistentBuffer(\n",
    "    fast=a,\n",
    "    slow=b,\n",
    "    n=2,\n",
    "    weight=lambda k, v: 1,\n",
    "    evict_fast_callbacks=[lambda k, v: print('evict_fast: %s:%s' % (k, v))],\n",
    "    load_fast_callbacks=[lambda k, v: print('load_fast: %s:%s' % (k, v))],\n",
    ")\n",
    "\n",
    "show = lambda: print('fast[%s], slow[%s]' % (dict(d.fast), dict(d.slow)))"
   ]
  },
  {
   "cell_type": "code",
   "execution_count": null,
   "metadata": {},
   "outputs": [],
   "source": [
    "show()\n",
    "d['x'] = 1; show()\n",
    "d['y'] = 2; show()\n",
    "d['z'] = 3; show()\n",
    "d['y']; show()\n",
    "d['x']; show()\n",
    "d['x'] = -1; show()\n",
    "d['z']; show()\n",
    "d['x'] = 1; show()\n",
    "d['y'] = -2; show()\n",
    "d['y']; show()\n",
    "d['x']; show()\n",
    "d['z']; show()"
   ]
  },
  {
   "cell_type": "code",
   "execution_count": null,
   "metadata": {},
   "outputs": [],
   "source": [
    "df = DF(dict(a=[1,2,3],b=[4,5,6]))\n",
    "df.loc[:2, ['a']]"
   ]
  },
  {
   "cell_type": "code",
   "execution_count": null,
   "metadata": {},
   "outputs": [],
   "source": [
    "df = DF(dict(a=[{'b':2}]))\n",
    "df.a.str['b']"
   ]
  },
  {
   "cell_type": "code",
   "execution_count": null,
   "metadata": {},
   "outputs": [],
   "source": [
    "from pathlib import Path\n",
    "\n",
    "list(Path('data').joinpath('xc').glob('*'))"
   ]
  },
  {
   "cell_type": "code",
   "execution_count": null,
   "metadata": {},
   "outputs": [],
   "source": [
    "from notebooks import *\n",
    "\n",
    "'foo.bar/baz.ext'.rsplit('.', 1)"
   ]
  },
  {
   "cell_type": "code",
   "execution_count": null,
   "metadata": {
    "time": "2.323s"
   },
   "outputs": [],
   "source": [
    "%%prun -l50 -scumtime\n",
    "pp(Load().recs_paths(['xc']).shape)"
   ]
  },
  {
   "cell_type": "code",
   "execution_count": null,
   "metadata": {},
   "outputs": [],
   "source": [
    "# TODO Debug pickle error"
   ]
  },
  {
   "cell_type": "code",
   "execution_count": null,
   "metadata": {
    "time": "1.05s"
   },
   "outputs": [],
   "source": [
    "from notebooks import *"
   ]
  },
  {
   "cell_type": "code",
   "execution_count": null,
   "metadata": {},
   "outputs": [],
   "source": [
    "# pd.Series(\n",
    "#     map_progress(lambda x: os.getpid(), range(10), use='dask', scheduler='processes', get_kwargs=dict(num_workers=7))\n",
    "# ).value_counts()"
   ]
  },
  {
   "cell_type": "code",
   "execution_count": null,
   "metadata": {},
   "outputs": [],
   "source": [
    "# load = Load()\n",
    "# recs_all = load.recs(limit=500, datasets=['xc'])"
   ]
  },
  {
   "cell_type": "code",
   "execution_count": null,
   "metadata": {},
   "outputs": [],
   "source": [
    "##\n",
    "# TODO Under par: only ~15-20% total cpu on n1-standard-16\n",
    "recs_paths_all = load.recs_paths(datasets=['xc'])\n",
    "# load.audio_transcode(recs_paths_all)"
   ]
  },
  {
   "cell_type": "code",
   "execution_count": null,
   "metadata": {},
   "outputs": [],
   "source": [
    "get_figsize()"
   ]
  },
  {
   "cell_type": "code",
   "execution_count": null,
   "metadata": {
    "time": "2.125s"
   },
   "outputs": [],
   "source": [
    "import logging\n",
    "logging.basicConfig(level=logging.DEBUG)\n",
    "import gcsfs\n",
    "\n",
    "gs = gcsfs.GCSFileSystem(project='bubo-1')\n",
    "# gs.ls('bubo-data/v0/data/xc/data')[:10]\n",
    "gs.walk('bubo-data/v0/data/xc/data/TUVU/')"
   ]
  },
  {
   "cell_type": "code",
   "execution_count": null,
   "metadata": {},
   "outputs": [],
   "source": [
    "gcsfs.core.split_path( 'gs://bubo-data/date')"
   ]
  },
  {
   "cell_type": "code",
   "execution_count": null,
   "metadata": {},
   "outputs": [],
   "source": [
    "with gs.open('gs://bubo-data/date', 'w') as f:\n",
    "    f.write('foo')"
   ]
  },
  {
   "cell_type": "code",
   "execution_count": null,
   "metadata": {},
   "outputs": [],
   "source": [
    "gs.open('gs://bubo-data/date').read()"
   ]
  },
  {
   "cell_type": "code",
   "execution_count": null,
   "metadata": {
    "time": "20.304s"
   },
   "outputs": [],
   "source": [
    "gs.glob('bubo-data/v0/data/xc/data/WIWA/**')"
   ]
  },
  {
   "cell_type": "code",
   "execution_count": null,
   "metadata": {},
   "outputs": [],
   "source": [
    "from google.cloud import storage\n",
    "client = storage.Client()\n",
    "bucket = client.get_bucket('bubo-data')"
   ]
  },
  {
   "cell_type": "code",
   "execution_count": null,
   "metadata": {},
   "outputs": [],
   "source": [
    "gcsfs.GCSFileSystem(project='bubo-1', token=client._credentials).ls('bubo-data')\n",
    "dirs(client._credentials)"
   ]
  },
  {
   "cell_type": "code",
   "execution_count": null,
   "metadata": {},
   "outputs": [],
   "source": [
    "blobs = [x for x in bucket.list_blobs(prefix='v0/data/xc/data/SOSP/',\n",
    "    fields='items/name,nextPageToken',\n",
    ")]\n",
    "len(blobs)"
   ]
  },
  {
   "cell_type": "code",
   "execution_count": null,
   "metadata": {},
   "outputs": [],
   "source": [
    "gcsfs.core.split_path"
   ]
  },
  {
   "cell_type": "code",
   "execution_count": null,
   "metadata": {},
   "outputs": [],
   "source": [
    "[x.name for x in blobs]"
   ]
  },
  {
   "cell_type": "code",
   "execution_count": null,
   "metadata": {
    "time": "13.431s"
   },
   "outputs": [],
   "source": [
    "from pathlib import Path\n",
    "from datasets import xc\n",
    "len(list(xc.data_dir.glob('*/*/audio.mp3')))"
   ]
  },
  {
   "cell_type": "code",
   "execution_count": null,
   "metadata": {},
   "outputs": [],
   "source": [
    "from util import df_rows\n",
    "from more_itertools import *\n",
    "list(unique_everseen(AttrDict(row) for row in df_rows(DF(dict(a=[1,2,2], b=['foo','bar','bar'])))))"
   ]
  },
  {
   "cell_type": "code",
   "execution_count": null,
   "metadata": {},
   "outputs": [],
   "source": [
    "xs = [1,2,3]\n",
    "xs.extend(x for x in range(5))\n",
    "xs"
   ]
  },
  {
   "cell_type": "code",
   "execution_count": null,
   "metadata": {},
   "outputs": [],
   "source": [
    "print_sys_info()"
   ]
  },
  {
   "cell_type": "code",
   "execution_count": null,
   "metadata": {},
   "outputs": [],
   "source": [
    "from potoo.numpy import *\n",
    "from util import *\n",
    "np_sample_stratified(\n",
    "    X=np.arange(20),\n",
    "    y=list(flatten([c] * 4 for c in 'abcde')),\n",
    "    # n=1,\n",
    "    n=20,\n",
    "    # frac=1.0,\n",
    "    # frac=0.6,\n",
    ")"
   ]
  },
  {
   "cell_type": "code",
   "execution_count": null,
   "metadata": {},
   "outputs": [],
   "source": [
    "from notebooks import *\n",
    "import pprint\n",
    "(xc.metadata\n",
    "    [lambda df: pd.notnull(df.species)]\n",
    "    [lambda df: df.country == 'United States']\n",
    "    .pipe(df_remove_unused_categories).com_name.sort_values()\n",
    "    .pipe(puts, f=lambda s: len(s.unique()))\n",
    "    .pipe(lambda s:\n",
    "        pprint.pprint(s.unique().tolist(), indent=4, width=120, compact=True)\n",
    "    )\n",
    ")"
   ]
  },
  {
   "cell_type": "code",
   "execution_count": null,
   "metadata": {},
   "outputs": [],
   "source": [
    "for s in [\n",
    "    '#             f1-micro    1   .6g  $[   4 /   3]/mo  $[    /   ]/d  $[.008 / .004]/hr',\n",
    "    '#             g1-small    1  1.7g  $[  13 /   5]/mo  $[    /.17]/d  $[.026 / .007]/hr',\n",
    "    '#',\n",
    "    '#         n1-highcpu-2    2    2g  $[  36 /  11]/mo  $[    /   ]/d  $[ .07 /  .02]/hr',\n",
    "    '#         n1-highcpu-4    4    4g  $[  72 /  22]/mo  $[    /   ]/d  $[ .14 /  .03]/hr',\n",
    "    '#         n1-highcpu-8    8    7g  $[ 145 /  44]/mo  $[    /   ]/d  $[ .28 /  .06]/hr',\n",
    "    '#        n1-highcpu-16   16   14g  $[ 290 /  88]/mo  $[    /   ]/d  $[ .57 /  .12]/hr',\n",
    "    '#        n1-highcpu-32   32   29g  $[ 580 / 175]/mo  $[    /   ]/d  $[1.13 /  .24]/hr',\n",
    "    '#        n1-highcpu-64   64   58g  $[1159 / 350]/mo  $[    /   ]/d  $[2.27 /  .48]/hr',\n",
    "    '#        n1-highcpu-96   96   86g  $[1739 / 526]/mo  $[ 82 / 17]/d  $[3.40 /  .72]/hr',\n",
    "    '#',\n",
    "    '#        n1-standard-2    2    7g  $[  49 /  15]/mo  $[  5 /  1]/d  $[ .10 /  .02]/hr',\n",
    "    '#        n1-standard-4    4   15g  $[  97 /  29]/mo  $[  5 /  1]/d  $[ .19 /  .04]/hr',\n",
    "    '#        n1-standard-8    8   30g  $[ 194 /  58]/mo  $[  9 /  2]/d  $[ .38 /  .08]/hr',\n",
    "    '#       n1-standard-16   16   60g  $[ 388 / 116]/mo  $[ 18 /  4]/d  $[ .76 /  .16]/hr',\n",
    "    '#       n1-standard-32   32  120g  $[ 776 / 233]/mo  $[ 36 /  8]/d  $[1.52 /  .32]/hr',\n",
    "    '#       n1-standard-64   64  240g  $[1553 / 467]/mo  $[ 73 / 16]/d  $[3.04 /  .64]/hr',\n",
    "    '#       n1-standard-96   96  360g  $[2330 / 700]/mo  $[109 / 23]/d  $[4.56 /  .96]/hr',\n",
    "    '#',\n",
    "    '#         n1-highmem-2    2   13g  $[  61 /  18]/mo  $[    /   ]/d  $[ .12 /  .03]/hr',\n",
    "    '#         n1-highmem-4    4   26g  $[ 121 /  37]/mo  $[    /   ]/d  $[ .24 /  .05]/hr',\n",
    "    '#         n1-highmem-8    8   52g  $[ 242 /  73]/mo  $[    /   ]/d  $[ .47 /  .10]/hr',\n",
    "    '#        n1-highmem-16   16  104g  $[ 484 / 146]/mo  $[    /   ]/d  $[ .95 /  .20]/hr',\n",
    "    '#        n1-highmem-32   32  208g  $[ 968 / 292]/mo  $[    /   ]/d  $[1.89 /  .40]/hr',\n",
    "    '#        n1-highmem-64   64  416g  $[1936 / 584]/mo  $[    /   ]/d  $[3.79 /  .80]/hr',\n",
    "    '#        n1-highmem-96   96  624g  $[2904 / 876]/mo  $[    /   ]/d  $[5.68 / 1.20]/hr',\n",
    "]:\n",
    "    if s == '#':\n",
    "        print(s)\n",
    "    else:\n",
    "        (desc, dem_m, pre_m, dem_d, pre_d, dem_h, pre_h) = re.match(\n",
    "            r'(.*?)\\$\\[(.*)/(.*)\\]/mo.*\\$\\[(.*)/(.*)\\]/d.*\\$\\[(.*)/(.*)\\]/hr',\n",
    "            s,\n",
    "        ).groups()\n",
    "        dem_h = float(dem_h.strip())\n",
    "        pre_h = float(pre_h.strip())\n",
    "        line = '%s$[%4.0f / %3.0f]/mo  $[%5.1f / %4.2f]/d  $[%4.3f / %4.3f]/hr' % (\n",
    "            desc,\n",
    "            dem_h * 24*28, pre_h * 24*28,\n",
    "            dem_h * 24, pre_h * 24,\n",
    "            dem_h, pre_h,\n",
    "        )\n",
    "        line = re.sub(r'0\\.', ' .', line)\n",
    "        print(line)"
   ]
  },
  {
   "cell_type": "code",
   "execution_count": null,
   "metadata": {},
   "outputs": [],
   "source": [
    "list(map(list, np.array([1,2,4,8])[:,np.newaxis] * np.array([ 230,99, 24*.45,24*.135, .45,.135, ])))"
   ]
  },
  {
   "cell_type": "code",
   "execution_count": null,
   "metadata": {},
   "outputs": [],
   "source": [
    "from notebooks import *\n",
    "metadata.species.df[:10]"
   ]
  },
  {
   "cell_type": "code",
   "execution_count": null,
   "metadata": {},
   "outputs": [],
   "source": [
    "(xc.metadata\n",
    "    .pipe(df_inspect, lambda df: (df.shape,))\n",
    "    [lambda df: df.country == 'Costa Rica']\n",
    "    .pipe(df_inspect, lambda df: (df.shape,))\n",
    "    .species.drop_duplicates().to_frame()\n",
    "    # .set_index('species')\n",
    "    .join(how='left', other=metadata.species.df.set_index('shorthand')[['species_code']])\n",
    "    .pipe(df_inspect, lambda df: (df.shape,))\n",
    "    [:10]\n",
    ")"
   ]
  },
  {
   "cell_type": "code",
   "execution_count": null,
   "metadata": {},
   "outputs": [],
   "source": [
    "\n",
    "# Requires _global env instead of bubo-features env\n",
    "import feather\n",
    "import pickle\n",
    "\n",
    "cr_birds_dir = Path('~/Desktop/cr_birds').expanduser()\n",
    "metadata_dir = cr_birds_dir / 'metadata'\n",
    "downloads_dir = cr_birds_dir / 'downloads'\n",
    "ebird_barchart_tsv_path = metadata_dir / 'ebird_CR__1900_2018_1_12_barchart.txt'\n",
    "species_pickle_path = metadata_dir / 'species.pkl'\n",
    "\n",
    "with open(species_pickle_path, 'rb') as f:\n",
    "    species_df = pickle.load(f)\n",
    "species_df.memory_usage(deep=True).sum()\n",
    "\n",
    "species_df.to_feather(metadata_dir / 'species.feather')"
   ]
  },
  {
   "cell_type": "markdown",
   "metadata": {},
   "source": [
    "# Why are cache/_spectro pkl's so big? (~10x vs. audio.mp3)"
   ]
  },
  {
   "cell_type": "code",
   "execution_count": null,
   "metadata": {},
   "outputs": [],
   "source": [
    "from notebooks import *\n",
    "x = joblib.load(f'{data_dir}/cache/joblib/sp14/model/_spectro_cache/1119e805a41591ce71c4ad3be00fb730/output.pkl')\n",
    "(\n",
    "    DF([\n",
    "        OrderedDict(k=k, type=type(v).__name__, pkl=len(joblib_dumps(v)), sizeof=sys.getsizeof(v))\n",
    "        for k, v in x.__dict__.items()\n",
    "    ])\n",
    "    .sort_values('pkl')\n",
    "    .pipe(df_with_totals_row, numeric_only=True)\n",
    ")"
   ]
  },
  {
   "cell_type": "code",
   "execution_count": null,
   "metadata": {},
   "outputs": [],
   "source": [
    "len(joblib_dumps({\n",
    "    puts(k): v\n",
    "    for k, v in x.__dict__.items()\n",
    "}))"
   ]
  },
  {
   "cell_type": "code",
   "execution_count": null,
   "metadata": {
    "time": "1.281s"
   },
   "outputs": [],
   "source": [
    "# How to do hands-on profiling with profile/pstats\n",
    "#   - Like %%prun but allows digging into the pstats result\n",
    "import cProfile as profile\n",
    "import pstats\n",
    "from viz import *\n",
    "def run():\n",
    "    with contextlib.ExitStack() as stack:\n",
    "        # stack.enter_context(cache_control(enabled=False))\n",
    "        (xc_recs\n",
    "            .query(\"species == 'SPTO'\")\n",
    "            [:100]  # Faster dev\n",
    "            .pipe(plot_thumbs, features, thumb_s=2, scale=dict(h=13), show=False)\n",
    "        )\n",
    "# %snakeviz run()\n",
    "p = profile.Profile()\n",
    "p.runcall(run)\n",
    "stats = pstats.Stats(p)\n",
    "stats.sort_stats('tottime').print_stats(20)\n",
    "stats.sort_stats('cumtime').print_stats(20)\n",
    "# stats.sort_stats('cumtime').print_stats('model', 20)\n",
    "# stats.sort_stats('cumtime').print_callees(r'\\bplot_thumb\\b', 20)\n",
    "# stats.sort_stats('cumtime').print_callees(r'\\bslice_spectro\\b', 20)\n",
    "# stats.sort_stats('cumtime').print_callees(r'\\b_edit\\b', 20)\n",
    "# stats.sort_stats('cumtime').print_callees(r'\\bplot_spectro\\b', 20)\n",
    "None"
   ]
  },
  {
   "cell_type": "code",
   "execution_count": null,
   "metadata": {},
   "outputs": [],
   "source": [
    "# (Real version in bubo util.display_with_audio)\n",
    "Javascript('''\n",
    "\n",
    "    \"Create container with onclick\"\n",
    "    var container = document.createElement('div');\n",
    "    container.innerHTML = `%(html)s`;\n",
    "    container.onclick = ev => {\n",
    "        var [audio] = container.getElementsByTagName('audio');\n",
    "        if (ev.shiftKey) {\n",
    "            \"Seek to start\"\n",
    "            audio.currentTime = 0;\n",
    "        } else if (!audio.paused) {\n",
    "            \"Pause\"\n",
    "            audio.pause();\n",
    "        } else {\n",
    "            \"Play, pausing all other bubo-user-audio's first\"\n",
    "            Array.from(document.getElementsByClassName('bubo-user-audio')).forEach(audio => {\n",
    "                if (audio.pause) audio.pause();\n",
    "            });\n",
    "            audio.play();\n",
    "        }\n",
    "    };\n",
    "\n",
    "    \"Append container to `element`, provided by jupyter as our output container\"\n",
    "    element.appendChild(container);\n",
    "\n",
    "''' % dict(\n",
    "    html='''\n",
    "        <div>\n",
    "            foo <br/>\n",
    "            bar <br/>\n",
    "            bar <br/>\n",
    "            bar <br/>\n",
    "            baz\n",
    "            <audio preload='none' class=\"bubo-user-audio\">\n",
    "                <source type=\"audio/mpeg\" src=\"file:///Users/danb/hack/bubo/data/recordings/UNK_20170819_092720.wav\" />\n",
    "            </audio>\n",
    "        </div>\n",
    "    ''',\n",
    "))"
   ]
  },
  {
   "cell_type": "code",
   "execution_count": null,
   "metadata": {},
   "outputs": [],
   "source": [
    "HTML('''\n",
    "    <div class=\"foo\">\n",
    "        <h1>Foo</h1>\n",
    "    </div>\n",
    "    <script>\n",
    "        console.log('foo');\n",
    "    </script>\n",
    "''')"
   ]
  },
  {
   "cell_type": "code",
   "execution_count": null,
   "metadata": {},
   "outputs": [],
   "source": [
    "import pstats\n",
    "stats = pstats.Stats('/tmp/stats')\n",
    "# stats.sort_stats('tottime').print_stats(20)\n",
    "stats.sort_stats('cumtime').print_stats(20)\n",
    "# stats.sort_stats('cumtime').print_stats('model', 20)\n",
    "# stats.sort_stats('cumtime').print_callees(r'\\bplot_thumb\\b', 20)\n",
    "None"
   ]
  },
  {
   "cell_type": "code",
   "execution_count": null,
   "metadata": {},
   "outputs": [],
   "source": [
    "# Make a spectro favicon\n",
    "from notebooks import *\n",
    "sg.init(app=None)\n",
    "(sg.xc_meta\n",
    "    [lambda df: (df.com_name.astype(str) + df.species.astype(str)).str.contains(\n",
    "        # 'Yellowthroat',\n",
    "        # 'SOSP',\n",
    "        # 'MGWA',\n",
    "        # 'GCWA',\n",
    "        # 'PRAW',\n",
    "        # 'GTGR',\n",
    "        # 'WIWA',\n",
    "        # 'WCSP',\n",
    "        # 'FOSP',\n",
    "        'CATH',\n",
    "    )]\n",
    "    [lambda df: df.quality.isin(['A'])]\n",
    "    .sort_index(ascending=True)\n",
    "    [:30]\n",
    "    .pipe(xc_meta_to_xc_raw_recs, load=sg.load)\n",
    "    .pipe(xc_raw_recs_to_xc_recs, projection=sg.projection)\n",
    "    .pipe(df_assign_first,\n",
    "        micro=df_cell_spectros(plot_spectro_micro.many, sg.features, wrap_s=5, scale=dict(h=16)),\n",
    "    )\n",
    "    [['micro', 'species', 'species_com_name']]\n",
    ")"
   ]
  },
  {
   "cell_type": "code",
   "execution_count": null,
   "metadata": {
    "time": "1.264s"
   },
   "outputs": [],
   "source": [
    "from notebooks import *\n",
    "audio = audiosegment.from_file('/tmp/out.wav')"
   ]
  },
  {
   "cell_type": "code",
   "execution_count": null,
   "metadata": {},
   "outputs": [],
   "source": [
    "audio.export('/tmp/foo.save(junk)',\n",
    "    # format='mp4', bitrate='32k', codec='libfdk_aac',\n",
    "    # format='mp4', bitrate='32k', codec='aac',\n",
    "    # format='mp3', bitrate='32k',\n",
    "    format='wav',\n",
    ")"
   ]
  },
  {
   "cell_type": "code",
   "execution_count": null,
   "metadata": {},
   "outputs": [],
   "source": [
    "# Q: Is ffmpeg happy reading files with junked extensions?\n",
    "#   A: Yep! (Just don't use audiosegment.from_file!)\n",
    "from util import *\n",
    "for path in [\n",
    "    '/tmp/out.wav',\n",
    "    '/tmp/out.mp3',\n",
    "    '/tmp/out.m4a',\n",
    "]:\n",
    "    audio = audio_from_file(path)\n",
    "    display(\n",
    "        audio,\n",
    "        str(audio),\n",
    "        np.frombuffer(audio._data, dtype=np.uint8)[:100],\n",
    "    )"
   ]
  },
  {
   "cell_type": "code",
   "execution_count": null,
   "metadata": {},
   "outputs": [],
   "source": [
    "from notebooks import *"
   ]
  },
  {
   "cell_type": "code",
   "execution_count": null,
   "metadata": {},
   "outputs": [],
   "source": [
    "audio = audio_from_file(Path(data_dir) / 'xc/data/RCKI/157428/audio.mp3')\n",
    "(audio.frame_rate, audio.channels, audio.sample_width * 8)"
   ]
  },
  {
   "cell_type": "code",
   "execution_count": null,
   "metadata": {},
   "outputs": [],
   "source": [
    "audio = audio_from_file(Path(data_dir) / 'cache/audio/xc/data/RCKI/157428/audio.mp3.resample(22050,1,16).enc(wav)')\n",
    "(audio.frame_rate, audio.channels, audio.sample_width * 8)"
   ]
  },
  {
   "cell_type": "code",
   "execution_count": null,
   "metadata": {},
   "outputs": [],
   "source": [
    "audio = audio_from_file(Path(data_dir) / 'cache/audio/xc/data/RCKI/157428/audio.mp3.resample(22050,1,16).enc(wav).slice(0,5000).enc(mp3,64k)')\n",
    "(audio.frame_rate, audio.channels, audio.sample_width * 8)"
   ]
  },
  {
   "cell_type": "code",
   "execution_count": null,
   "metadata": {},
   "outputs": [],
   "source": [
    "audio = audio_from_file(Path(data_dir) / 'cache/audio/xc/data/RCKI/157428/audio.mp3.resample(22050,1,16).enc(wav).slice(0,5000).resample(22050,1,32).enc(mp4,libfdk_aac,64k)')\n",
    "(audio.frame_rate, audio.channels, audio.sample_width * 8)"
   ]
  },
  {
   "cell_type": "code",
   "execution_count": null,
   "metadata": {},
   "outputs": [],
   "source": [
    "from notebooks import *\n",
    "audio = audio_from_file(\n",
    "    Path(data_dir) / 'cache/audio/xc/data/RCKI/157428/audio.mp3.resample(22050,1,16).enc(wav).slice(0,5000).enc(mp3,64k)',\n",
    "    # codec='pcm_s16le',  # XXX This doesn't work\n",
    "    # parameters=['-acodec', 'pcm_s16le'],  # XXX This doesn't work\n",
    "    # TODO TODO Next try: is there a param we should specify when writing the mp3/mp4?\n",
    "    #   - If not, nuclear option is to run with a (1-line) patched version of pydub/audio_segment.py\n",
    ")\n",
    "(audio.frame_rate, audio.channels, audio.sample_width * 8)"
   ]
  },
  {
   "cell_type": "code",
   "execution_count": null,
   "metadata": {},
   "outputs": [],
   "source": [
    "from notebooks import *\n",
    "audio = audio_from_file(Path(data_dir) / 'xc/data/RCKI/157428/audio.mp3')\n",
    "display((audio.frame_rate, audio.channels, audio.sample_width * 8))\n",
    "audio = audio_from_file(Path(data_dir) / 'cache/audio/xc/data/RCKI/157428/audio.mp3.resample(22050,1,16).enc(wav).slice(0,5000).enc(mp3,64k)')\n",
    "display((audio.frame_rate, audio.channels, audio.sample_width * 8))"
   ]
  },
  {
   "cell_type": "code",
   "execution_count": null,
   "metadata": {},
   "outputs": [],
   "source": [
    "%%lprun -f df_summary\n",
    "df_summary(DF([]))"
   ]
  },
  {
   "cell_type": "code",
   "execution_count": null,
   "metadata": {},
   "outputs": [],
   "source": []
  }
 ],
 "metadata": {
  "kernelspec": {
   "display_name": "python",
   "language": "python",
   "name": "python"
  }
 },
 "nbformat": 4,
 "nbformat_minor": 2
}
