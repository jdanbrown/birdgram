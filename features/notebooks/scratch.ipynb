{
 "cells": [
  {
   "cell_type": "code",
   "execution_count": null,
   "metadata": {},
   "outputs": [],
   "source": [
    "from notebooks import *"
   ]
  },
  {
   "cell_type": "code",
   "execution_count": null,
   "metadata": {},
   "outputs": [],
   "source": [
    "%%time\n",
    "joypy.joyplot(\n",
    "    # Perf: kind='kde' and kind='counts' are roughly the same\n",
    "    # kind='kde',\n",
    "    kind='counts', bins=80,\n",
    "    fill=False,\n",
    "    linecolor='k',\n",
    "    linewidth=.5,\n",
    "    xlabels=True,\n",
    "    ylabels=False,\n",
    "    # overlap=.001,\n",
    "    # overlap=.01,\n",
    "    # overlap=.1,\n",
    "    # overlap=.5,\n",
    "    # overlap=1,\n",
    "    # XXX This gets _very slow_ with more lines\n",
    "    #   - Unusable >100, and our spectro Sxx are more like ~600\n",
    "    data=[\n",
    "        stats.distributions.norm.rvs(mu, 10, 100)\n",
    "        for mu in np.arange(50)\n",
    "    ],\n",
    ")\n",
    "plt.show()"
   ]
  },
  {
   "cell_type": "code",
   "execution_count": null,
   "metadata": {},
   "outputs": [],
   "source": [
    "# Here's what's required to turn an FT into a periodogram (power by freq)\n",
    "#   - TODO Oops, x-axis is still off by 2x...\n",
    "x = ...  # Real signal, e.g. audio waveform\n",
    "sample_rate = 22050\n",
    "f, Pxx = scipy.signal.periodogram(x, fs=sample_rate, scaling='spectrum')\n",
    "plt.plot(f, Pxx); plt.show()\n",
    "plt.plot((np.abs(np.fft.rfft(x)) / len(x))**2 * 2); plt.show()"
   ]
  },
  {
   "cell_type": "code",
   "execution_count": null,
   "metadata": {},
   "outputs": [],
   "source": [
    "# Diff spectro vs. librosa melspectrogram\n",
    "f, t, Sxx = np.abs(spectro(audio, nperseg=nperseg, overlap=overlap, detrend='constant', scaling='density', mode='complex'))**2\n",
    "Sxx = Sxx * 1024**2 * 8  # Works with scaling='density'\n",
    "display(Sxx.shape)\n",
    "plt.hist(Sxx.flatten(), bins=100, log=True); plt.show()\n",
    "Sxx = librosa.power_to_db(np.dot(mel_basis, Sxx)); display(Sxx.shape)\n",
    "# plt.pcolormesh(Sxx); [s.set_visible(False) for s in plt.gca().spines.values()]; plt.show()\n",
    "\n",
    "n_fft = nperseg\n",
    "Sxx = librosa.feature.melspectrogram(x.astype(float), sample_rate, None, n_fft, int(n_fft*(1-overlap)), n_mels=n_mels, power=2)\n",
    "display(Sxx.shape)\n",
    "plt.hist(Sxx.flatten(), bins=100, log=True); plt.show()\n",
    "Sxx = librosa.power_to_db(np.dot(mel_basis, Sxx)); display(Sxx.shape)\n",
    "# plt.pcolormesh(Sxx); [s.set_visible(False) for s in plt.gca().spines.values()]; plt.show()"
   ]
  },
  {
   "cell_type": "code",
   "execution_count": null,
   "metadata": {},
   "outputs": [],
   "source": [
    "# Diff mfcc vs. librosa mfcc\n",
    "n_mfcc = 1024\n",
    "plt_mfcc(x, mfcc=partial(mfcc, mels_div=2, n_mfcc=n_mfcc, std=True), show_audio=False, fancy=False)\n",
    "plt.gca().yaxis.set_major_formatter(mpl.ticker.FormatStrFormatter(''))\n",
    "plt.show()\n",
    "\n",
    "M = librosa.feature.mfcc(x.astype(float), sample_rate, n_mfcc=n_mfcc)\n",
    "M = (M - M.mean(axis=1)[:, np.newaxis]) / M.std(axis=1)[:, np.newaxis]  # Standardize\n",
    "plt.pcolormesh(M)\n",
    "plt.gca().yaxis.set_major_formatter(mpl.ticker.FormatStrFormatter(''))\n",
    "plt.gca().tick_params(labelsize=8)\n",
    "[s.set_visible(False) for s in plt.gca().spines.values()]\n",
    "plt.show()"
   ]
  },
  {
   "cell_type": "code",
   "execution_count": null,
   "metadata": {},
   "outputs": [],
   "source": [
    "import dask\n",
    "import dask.bag\n",
    "import dask.dataframe as dd\n",
    "\n",
    "dask.set_options(scheduler='processes')\n",
    "\n",
    "df = pd.DataFrame({'a':range(10,20), 'b':range(20,30)}); df\n",
    "\n",
    "ddf = dd.from_pandas(df, npartitions=8)\n",
    "ddf.apply?\n",
    "\n",
    "dask.bag.from_sequence(range(100)).compute()"
   ]
  },
  {
   "cell_type": "code",
   "execution_count": null,
   "metadata": {},
   "outputs": [
    {
     "data": {
      "text/plain": "(\n  Field(name='dataset',type=<class 'str'>,default=<dataclasses._MISSING_TYPE object at 0x12621d4e0>,default_factory=<dataclasses._MISSING_TYPE object at 0x12621d4e0>,init=True,repr=True,hash=None,compare=True,metadata={}),\n  Field(name='name',type=<class 'str'>,default=<dataclasses._MISSING_TYPE object at 0x12621d4e0>,default_factory=<dataclasses._MISSING_TYPE object at 0x12621d4e0>,init=True,repr=True,hash=None,compare=True,metadata={}),\n  Field(name='species',type=<class 'str'>,default=<dataclasses._MISSING_TYPE object at 0x12621d4e0>,default_factory=<dataclasses._MISSING_TYPE object at 0x12621d4e0>,init=True,repr=True,hash=None,compare=True,metadata={}),\n  Field(name='species_query',type=<class 'str'>,default=<dataclasses._MISSING_TYPE object at 0x12621d4e0>,default_factory=<dataclasses._MISSING_TYPE object at 0x12621d4e0>,init=True,repr=True,hash=None,compare=True,metadata={}),\n  Field(name='basename',type=<class 'str'>,default=<dataclasses._MISSING_TYPE object at 0x12621d4e0>,default_factory=<dataclasses._MISSING_TYPE object at 0x12621d4e0>,init=True,repr=True,hash=None,compare=True,metadata={}),\n  Field(name='duration_s',type=<class 'float'>,default=<dataclasses._MISSING_TYPE object at 0x12621d4e0>,default_factory=<dataclasses._MISSING_TYPE object at 0x12621d4e0>,init=True,repr=True,hash=None,compare=True,metadata={}),\n  Field(name='samples_mb',type=<class 'float'>,default=<dataclasses._MISSING_TYPE object at 0x12621d4e0>,default_factory=<dataclasses._MISSING_TYPE object at 0x12621d4e0>,init=True,repr=True,hash=None,compare=True,metadata={}),\n  Field(name='samples_n',type=<class 'int'>,default=<dataclasses._MISSING_TYPE object at 0x12621d4e0>,default_factory=<dataclasses._MISSING_TYPE object at 0x12621d4e0>,init=True,repr=True,hash=None,compare=True,metadata={}),\n  Field(name='samples',type=<class 'int'>,default=<dataclasses._MISSING_TYPE object at 0x12621d4e0>,default_factory=<dataclasses._MISSING_TYPE object at 0x12621d4e0>,init=True,repr=True,hash=None,compare=True,metadata={}),\n  Field(name='audio',type=<class 'audiosegment.AudioSegment'>,default=<dataclasses._MISSING_TYPE object at 0x12621d4e0>,default_factory=<dataclasses._MISSING_TYPE object at 0x12621d4e0>,init=True,repr=True,hash=None,compare=True,metadata={}),\n)"
     },
     "execution_count": 3,
     "metadata": {},
     "output_type": "execute_result"
    }
   ],
   "source": [
    "from datatypes import Recording\n",
    "from load import *\n",
    "\n",
    "recs_paths = load_recs_paths(['recordings-new'])\n",
    "row = recs_paths.iloc[0]\n",
    "rec = load_rec(row.dataset, row.path)\n",
    "\n",
    "import dataclasses\n",
    "dir(dataclasses)\n",
    "\n",
    "# load_recs_data(recs_paths)\n",
    "\n",
    "dataclasses.asdict(rec)\n",
    "dataclasses.fields(rec)"
   ]
  },
  {
   "cell_type": "code",
   "execution_count": null,
   "metadata": {},
   "outputs": [],
   "source": [
    "from potoo.plot import *\n",
    "\n",
    "# repr(ggplot(mpg) + geom_bar(aes(x='class')))\n",
    "\n",
    "theme_figsize('inline_short').rcParams\n",
    "\n",
    "figsize('inline_short');\n",
    "# figsize('inline_short', dpi=72);\n",
    "# figsize('inline_short', dpi=150);\n",
    "\n",
    "%time plt.plot(range(10)); display(plot_to_img())\n",
    "%time plt.plot(range(10)); plt.show()"
   ]
  },
  {
   "cell_type": "code",
   "execution_count": null,
   "metadata": {},
   "outputs": [],
   "source": [
    "from cache import *\n",
    "\n",
    "@cache(version=4)\n",
    "def foo(x): return x+2\n",
    "\n",
    "foo(3)\n",
    "foo(3, __cache_version=5)"
   ]
  },
  {
   "cell_type": "code",
   "execution_count": null,
   "metadata": {},
   "outputs": [],
   "source": [
    "import pickle\n",
    "import zict\n",
    "\n",
    "f = zict.Func(pickle.dumps, pickle.loads, zict.File('/tmp/zict-0/'))\n",
    "d = zict.LRU(\n",
    "    n=2,\n",
    "    d=f,\n",
    "    on_evict=lambda k, v: print('evict: %s:%s' % (k, v)),\n",
    "    weight=lambda k, v: 1,\n",
    ")"
   ]
  },
  {
   "cell_type": "code",
   "execution_count": null,
   "metadata": {},
   "outputs": [],
   "source": [
    "import pickle\n",
    "import zict\n",
    "from zict_util import PersistentBuffer\n",
    "\n",
    "a = {}\n",
    "b = zict.Func(pickle.dumps, pickle.loads, zict.File('/tmp/zict-0/'))\n",
    "d = PersistentBuffer(\n",
    "    fast=a,\n",
    "    slow=b,\n",
    "    n=2,\n",
    "    weight=lambda k, v: 1,\n",
    "    evict_fast_callbacks=[lambda k, v: print('evict_fast: %s:%s' % (k, v))],\n",
    "    load_fast_callbacks=[lambda k, v: print('load_fast: %s:%s' % (k, v))],\n",
    ")\n",
    "\n",
    "show = lambda: print('fast[%s], slow[%s]' % (dict(d.fast), dict(d.slow)))"
   ]
  },
  {
   "cell_type": "code",
   "execution_count": null,
   "metadata": {},
   "outputs": [],
   "source": [
    "show()\n",
    "d['x'] = 1; show()\n",
    "d['y'] = 2; show()\n",
    "d['z'] = 3; show()\n",
    "d['y']; show()\n",
    "d['x']; show()\n",
    "d['x'] = -1; show()\n",
    "d['z']; show()\n",
    "d['x'] = 1; show()\n",
    "d['y'] = -2; show()\n",
    "d['y']; show()\n",
    "d['x']; show()\n",
    "d['z']; show()"
   ]
  },
  {
   "cell_type": "code",
   "execution_count": null,
   "metadata": {},
   "outputs": [],
   "source": [
    "df = DF(dict(a=[1,2,3],b=[4,5,6]))\n",
    "df.loc[:2, ['a']]"
   ]
  },
  {
   "cell_type": "code",
   "execution_count": null,
   "metadata": {},
   "outputs": [],
   "source": [
    "df = DF(dict(a=[{'b':2}]))\n",
    "df.a.str['b']"
   ]
  }
 ],
 "metadata": {
  "kernelspec": {
   "display_name": "python",
   "language": "python",
   "name": "python"
  }
 },
 "nbformat": 4,
 "nbformat_minor": 2
}
