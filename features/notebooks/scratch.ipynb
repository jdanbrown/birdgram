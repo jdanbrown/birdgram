{
 "cells": [
  {
   "cell_type": "code",
   "execution_count": null,
   "metadata": {},
   "outputs": [],
   "source": [
    "from notebooks import *"
   ]
  },
  {
   "cell_type": "code",
   "execution_count": null,
   "metadata": {},
   "outputs": [],
   "source": [
    "%%time\n",
    "joypy.joyplot(\n",
    "    # Perf: kind='kde' and kind='counts' are roughly the same\n",
    "    # kind='kde',\n",
    "    kind='counts', bins=80,\n",
    "    fill=False,\n",
    "    linecolor='k',\n",
    "    linewidth=.5,\n",
    "    xlabels=True,\n",
    "    ylabels=False,\n",
    "    # overlap=.001,\n",
    "    # overlap=.01,\n",
    "    # overlap=.1,\n",
    "    # overlap=.5,\n",
    "    # overlap=1,\n",
    "    # XXX This gets _very slow_ with more lines\n",
    "    #   - Unusable >100, and our spectro Sxx are more like ~600\n",
    "    data=[\n",
    "        stats.distributions.norm.rvs(mu, 10, 100)\n",
    "        for mu in np.arange(50)\n",
    "    ],\n",
    ")\n",
    "plt.show()"
   ]
  },
  {
   "cell_type": "code",
   "execution_count": null,
   "metadata": {},
   "outputs": [],
   "source": [
    "# Here's what's required to turn an FT into a periodogram (power by freq)\n",
    "#   - TODO Oops, x-axis is still off by 2x...\n",
    "x = ...  # Real signal, e.g. audio waveform\n",
    "sample_rate = 22050\n",
    "f, Pxx = scipy.signal.periodogram(x, fs=sample_rate, scaling='spectrum')\n",
    "plt.plot(f, Pxx); plt.show()\n",
    "plt.plot((np.abs(np.fft.rfft(x)) / len(x))**2 * 2); plt.show()"
   ]
  },
  {
   "cell_type": "code",
   "execution_count": null,
   "metadata": {},
   "outputs": [],
   "source": [
    "# Diff spectro vs. librosa melspectrogram\n",
    "f, t, Sxx = np.abs(spectro(audio, nperseg=nperseg, overlap=overlap, detrend='constant', scaling='density', mode='complex'))**2\n",
    "Sxx = Sxx * 1024**2 * 8  # Works with scaling='density'\n",
    "display(Sxx.shape)\n",
    "plt.hist(Sxx.flatten(), bins=100, log=True); plt.show()\n",
    "Sxx = librosa.power_to_db(np.dot(mel_basis, Sxx)); display(Sxx.shape)\n",
    "# plt.pcolormesh(Sxx); [s.set_visible(False) for s in plt.gca().spines.values()]; plt.show()\n",
    "\n",
    "n_fft = nperseg\n",
    "Sxx = librosa.feature.melspectrogram(x.astype(float), sample_rate, None, n_fft, int(n_fft*(1-overlap)), n_mels=n_mels, power=2)\n",
    "display(Sxx.shape)\n",
    "plt.hist(Sxx.flatten(), bins=100, log=True); plt.show()\n",
    "Sxx = librosa.power_to_db(np.dot(mel_basis, Sxx)); display(Sxx.shape)\n",
    "# plt.pcolormesh(Sxx); [s.set_visible(False) for s in plt.gca().spines.values()]; plt.show()"
   ]
  },
  {
   "cell_type": "code",
   "execution_count": null,
   "metadata": {},
   "outputs": [],
   "source": [
    "# Diff mfcc vs. librosa mfcc\n",
    "n_mfcc = 1024\n",
    "plt_mfcc(x, mfcc=partial(mfcc, mels_div=2, n_mfcc=n_mfcc, std=True), show_audio=False, fancy=False)\n",
    "plt.gca().yaxis.set_major_formatter(mpl.ticker.FormatStrFormatter(''))\n",
    "plt.show()\n",
    "\n",
    "M = librosa.feature.mfcc(x.astype(float), sample_rate, n_mfcc=n_mfcc)\n",
    "M = (M - M.mean(axis=1)[:, np.newaxis]) / M.std(axis=1)[:, np.newaxis]  # Standardize\n",
    "plt.pcolormesh(M)\n",
    "plt.gca().yaxis.set_major_formatter(mpl.ticker.FormatStrFormatter(''))\n",
    "plt.gca().tick_params(labelsize=8)\n",
    "[s.set_visible(False) for s in plt.gca().spines.values()]\n",
    "plt.show()"
   ]
  },
  {
   "cell_type": "code",
   "execution_count": null,
   "metadata": {},
   "outputs": [],
   "source": [
    "import dask\n",
    "import dask.bag\n",
    "import dask.dataframe as dd\n",
    "\n",
    "dask.set_options(scheduler='processes')\n",
    "\n",
    "df = pd.DataFrame({'a':range(10,20), 'b':range(20,30)}); df\n",
    "\n",
    "ddf = dd.from_pandas(df, npartitions=8)\n",
    "ddf.apply?\n",
    "\n",
    "dask.bag.from_sequence(range(100)).compute()"
   ]
  },
  {
   "cell_type": "code",
   "execution_count": null,
   "metadata": {},
   "outputs": [],
   "source": [
    "from datatypes import Recording\n",
    "from load import *\n",
    "\n",
    "recs_paths = load_recs_paths(['recordings-new'])\n",
    "row = recs_paths.iloc[0]\n",
    "rec = load_rec(row.dataset, row.path)\n",
    "\n",
    "import dataclasses\n",
    "dir(dataclasses)\n",
    "\n",
    "# load_recs_data(recs_paths)\n",
    "\n",
    "dataclasses.asdict(rec)\n",
    "dataclasses.fields(rec)"
   ]
  },
  {
   "cell_type": "code",
   "execution_count": null,
   "metadata": {},
   "outputs": [],
   "source": [
    "from potoo.plot import *\n",
    "\n",
    "# repr(ggplot(mpg) + geom_bar(aes(x='class')))\n",
    "\n",
    "theme_figsize('inline_short').rcParams\n",
    "\n",
    "figsize('inline_short');\n",
    "# figsize('inline_short', dpi=72);\n",
    "# figsize('inline_short', dpi=150);\n",
    "\n",
    "%time plt.plot(range(10)); display(plot_to_img())\n",
    "%time plt.plot(range(10)); plt.show()"
   ]
  },
  {
   "cell_type": "code",
   "execution_count": null,
   "metadata": {},
   "outputs": [],
   "source": [
    "from cache import *\n",
    "\n",
    "@cache(version=4)\n",
    "def foo(x): return x+2\n",
    "\n",
    "foo(3)\n",
    "foo(3, __cache_version=5)"
   ]
  },
  {
   "cell_type": "code",
   "execution_count": null,
   "metadata": {},
   "outputs": [],
   "source": [
    "import pickle\n",
    "import zict\n",
    "\n",
    "f = zict.Func(pickle.dumps, pickle.loads, zict.File('/tmp/zict-0/'))\n",
    "d = zict.LRU(\n",
    "    n=2,\n",
    "    d=f,\n",
    "    on_evict=lambda k, v: print('evict: %s:%s' % (k, v)),\n",
    "    weight=lambda k, v: 1,\n",
    ")"
   ]
  },
  {
   "cell_type": "code",
   "execution_count": null,
   "metadata": {},
   "outputs": [],
   "source": [
    "import pickle\n",
    "import zict\n",
    "from zict_util import PersistentBuffer\n",
    "\n",
    "a = {}\n",
    "b = zict.Func(pickle.dumps, pickle.loads, zict.File('/tmp/zict-0/'))\n",
    "d = PersistentBuffer(\n",
    "    fast=a,\n",
    "    slow=b,\n",
    "    n=2,\n",
    "    weight=lambda k, v: 1,\n",
    "    evict_fast_callbacks=[lambda k, v: print('evict_fast: %s:%s' % (k, v))],\n",
    "    load_fast_callbacks=[lambda k, v: print('load_fast: %s:%s' % (k, v))],\n",
    ")\n",
    "\n",
    "show = lambda: print('fast[%s], slow[%s]' % (dict(d.fast), dict(d.slow)))"
   ]
  },
  {
   "cell_type": "code",
   "execution_count": null,
   "metadata": {},
   "outputs": [],
   "source": [
    "show()\n",
    "d['x'] = 1; show()\n",
    "d['y'] = 2; show()\n",
    "d['z'] = 3; show()\n",
    "d['y']; show()\n",
    "d['x']; show()\n",
    "d['x'] = -1; show()\n",
    "d['z']; show()\n",
    "d['x'] = 1; show()\n",
    "d['y'] = -2; show()\n",
    "d['y']; show()\n",
    "d['x']; show()\n",
    "d['z']; show()"
   ]
  },
  {
   "cell_type": "code",
   "execution_count": null,
   "metadata": {},
   "outputs": [],
   "source": [
    "df = DF(dict(a=[1,2,3],b=[4,5,6]))\n",
    "df.loc[:2, ['a']]"
   ]
  },
  {
   "cell_type": "code",
   "execution_count": null,
   "metadata": {},
   "outputs": [],
   "source": [
    "df = DF(dict(a=[{'b':2}]))\n",
    "df.a.str['b']"
   ]
  },
  {
   "cell_type": "code",
   "execution_count": null,
   "metadata": {},
   "outputs": [],
   "source": [
    "from pathlib import Path\n",
    "\n",
    "list(Path('data').joinpath('xc').glob('*'))"
   ]
  },
  {
   "cell_type": "code",
   "execution_count": null,
   "metadata": {},
   "outputs": [],
   "source": [
    "from notebooks import *\n",
    "\n",
    "'foo.bar/baz.ext'.rsplit('.', 1)"
   ]
  },
  {
   "cell_type": "code",
   "execution_count": null,
   "metadata": {
    "time": "2.323s"
   },
   "outputs": [],
   "source": [
    "%%prun -l50 -scumtime\n",
    "pp(Load().recs_paths(['xc']).shape)"
   ]
  },
  {
   "cell_type": "code",
   "execution_count": null,
   "metadata": {},
   "outputs": [],
   "source": [
    "# TODO Debug pickle error"
   ]
  },
  {
   "cell_type": "code",
   "execution_count": null,
   "metadata": {
    "time": "1.05s"
   },
   "outputs": [],
   "source": [
    "from notebooks import *"
   ]
  },
  {
   "cell_type": "code",
   "execution_count": null,
   "metadata": {},
   "outputs": [],
   "source": [
    "# pd.Series(\n",
    "#     map_progress(lambda x: os.getpid(), range(10), use='dask', scheduler='processes', get_kwargs=dict(num_workers=7))\n",
    "# ).value_counts()"
   ]
  },
  {
   "cell_type": "code",
   "execution_count": null,
   "metadata": {},
   "outputs": [],
   "source": [
    "# load = Load()\n",
    "# recs_all = load.recs(limit=500, datasets=['xc'])"
   ]
  },
  {
   "cell_type": "code",
   "execution_count": null,
   "metadata": {},
   "outputs": [],
   "source": [
    "##\n",
    "# TODO Under par: only ~15-20% total cpu on n1-standard-16\n",
    "recs_paths_all = load.recs_paths(datasets=['xc'])\n",
    "# load.audio_to_wav(recs_paths_all)"
   ]
  },
  {
   "cell_type": "code",
   "execution_count": null,
   "metadata": {},
   "outputs": [
    {
     "data": {
      "text/plain": "{\n  'width': 12,\n  'height': 8.0,\n  'aspect_ratio': 0.6666666666666666,\n  'dpi': 72,\n  '_figure_format': 'retina',\n  '_Rdefaults': '--width=12 --height=8.0 --units=in --res=144'\n}"
     },
     "execution_count": 1,
     "metadata": {},
     "output_type": "execute_result"
    }
   ],
   "source": [
    "get_figsize()"
   ]
  },
  {
   "cell_type": "code",
   "execution_count": null,
   "metadata": {
    "time": "2.125s"
   },
   "outputs": [],
   "source": [
    "import logging\n",
    "logging.basicConfig(level=logging.DEBUG)\n",
    "import gcsfs\n",
    "\n",
    "gs = gcsfs.GCSFileSystem(project='bubo-1')\n",
    "# gs.ls('bubo-data/v0/data/xc/data')[:10]\n",
    "gs.walk('bubo-data/v0/data/xc/data/TUVU/')"
   ]
  },
  {
   "cell_type": "code",
   "execution_count": null,
   "metadata": {},
   "outputs": [
    {
     "data": {
      "text/plain": "['bubo-data', 'date']"
     },
     "execution_count": 62,
     "metadata": {},
     "output_type": "execute_result"
    },
    {
     "name": "stderr",
     "output_type": "stream",
     "text": "DEBUG:gcsfs.core:__del__(args=(), kwargs={})\n"
    },
    {
     "name": "stderr",
     "output_type": "stream",
     "text": "DEBUG:gcsfs.core:close(args=(), kwargs={})\n"
    }
   ],
   "source": [
    "gcsfs.core.split_path( 'gs://bubo-data/date')"
   ]
  },
  {
   "cell_type": "code",
   "execution_count": null,
   "metadata": {},
   "outputs": [
    {
     "name": "stderr",
     "output_type": "stream",
     "text": "DEBUG:gcsfs.core:open(args=('gs://bubo-data/date', 'w', None, None, None, None), kwargs={})\n"
    },
    {
     "name": "stderr",
     "output_type": "stream",
     "text": "DEBUG:gcsfs.core:__init__(args=(<gcsfs.core.GCSFileSystem object at 0x11c102da0>, 'gs://bubo-data/date', 'wb', 5242880, None, 'none', None), kwargs={})\n"
    },
    {
     "name": "stderr",
     "output_type": "stream",
     "text": "DEBUG:gcsfs.core:flush(args=(False,), kwargs={})\n"
    },
    {
     "name": "stderr",
     "output_type": "stream",
     "text": "DEBUG:gcsfs.core:flush(force=False) with buffer (3) < min size (2 ** 18), skipping block upload.\n"
    },
    {
     "name": "stderr",
     "output_type": "stream",
     "text": "DEBUG:gcsfs.core:close(args=(), kwargs={})\n"
    },
    {
     "name": "stderr",
     "output_type": "stream",
     "text": "DEBUG:gcsfs.core:flush(args=(True,), kwargs={})\n"
    },
    {
     "name": "stderr",
     "output_type": "stream",
     "text": "DEBUG:gcsfs.core:_simple_upload(args=(), kwargs={})\n"
    },
    {
     "name": "stderr",
     "output_type": "stream",
     "text": "DEBUG:urllib3.connectionpool:https://www.googleapis.com:443 \"POST /upload/storage/v1/b/bubo-data/o?uploadType=media&name=date HTTP/1.1\" 200 647\n"
    },
    {
     "name": "stderr",
     "output_type": "stream",
     "text": "DEBUG:gcsfs.core:invalidate_cache(args=('bubo-data',), kwargs={})\n"
    }
   ],
   "source": [
    "with gs.open('gs://bubo-data/date', 'w') as f:\n",
    "    f.write('foo')"
   ]
  },
  {
   "cell_type": "code",
   "execution_count": null,
   "metadata": {},
   "outputs": [
    {
     "name": "stderr",
     "output_type": "stream",
     "text": "DEBUG:gcsfs.core:open(args=('gs://bubo-data/date', 'rb', None, None, None, None), kwargs={})\n"
    },
    {
     "name": "stderr",
     "output_type": "stream",
     "text": "DEBUG:gcsfs.core:__init__(args=(<gcsfs.core.GCSFileSystem object at 0x11c102da0>, 'gs://bubo-data/date', 'rb', 5242880, None, 'none', None), kwargs={})\n"
    },
    {
     "name": "stderr",
     "output_type": "stream",
     "text": "DEBUG:gcsfs.core:info(args=('gs://bubo-data/date',), kwargs={})\n"
    },
    {
     "name": "stderr",
     "output_type": "stream",
     "text": "DEBUG:gcsfs.core:_get_object(args=('gs://bubo-data/date',), kwargs={})\n"
    },
    {
     "name": "stderr",
     "output_type": "stream",
     "text": "DEBUG:gcsfs.core:_maybe_get_cached_listing(args=('bubo-data//',), kwargs={})\n"
    },
    {
     "name": "stderr",
     "output_type": "stream",
     "text": "DEBUG:gcsfs.core:_maybe_get_cached_listing: bubo-data//\n"
    },
    {
     "name": "stderr",
     "output_type": "stream",
     "text": "DEBUG:gcsfs.core:_call(args=('get', 'b/{}/o/{}', 'bubo-data', 'date'), kwargs={})\n"
    },
    {
     "name": "stderr",
     "output_type": "stream",
     "text": "DEBUG:urllib3.connectionpool:https://www.googleapis.com:443 \"GET /storage/v1/b/bubo-data/o/date HTTP/1.1\" 200 647\n"
    },
    {
     "name": "stderr",
     "output_type": "stream",
     "text": "DEBUG:gcsfs.core:_fetch(args=(0, 3), kwargs={})\n"
    },
    {
     "name": "stderr",
     "output_type": "stream",
     "text": "DEBUG:gcsfs.core:_fetch_range(args=(<google.auth.transport.requests.AuthorizedSession object at 0x11c162cc0>, 0, 5242883), kwargs={})\n"
    },
    {
     "name": "stderr",
     "output_type": "stream",
     "text": "DEBUG:urllib3.connectionpool:https://www.googleapis.com:443 \"GET /download/storage/v1/b/bubo-data/o/date?generation=1530128395796535&alt=media HTTP/1.1\" 206 3\n"
    },
    {
     "name": "stderr",
     "output_type": "stream",
     "text": "DEBUG:gcsfs.core:__del__(args=(), kwargs={})\n"
    },
    {
     "name": "stderr",
     "output_type": "stream",
     "text": "DEBUG:gcsfs.core:close(args=(), kwargs={})\n"
    },
    {
     "data": {
      "text/plain": "b'foo'"
     },
     "execution_count": 59,
     "metadata": {},
     "output_type": "execute_result"
    }
   ],
   "source": [
    "gs.open('gs://bubo-data/date').read()"
   ]
  },
  {
   "cell_type": "code",
   "execution_count": null,
   "metadata": {
    "time": "20.304s"
   },
   "outputs": [],
   "source": [
    "gs.glob('bubo-data/v0/data/xc/data/WIWA/**')"
   ]
  },
  {
   "cell_type": "code",
   "execution_count": null,
   "metadata": {},
   "outputs": [],
   "source": [
    "from google.cloud import storage\n",
    "client = storage.Client()\n",
    "bucket = client.get_bucket('bubo-data')"
   ]
  },
  {
   "cell_type": "code",
   "execution_count": null,
   "metadata": {},
   "outputs": [
    {
     "data": {
      "text/plain": "{\n  'apply': <bound method Credentials.apply of <google.oauth2.credentials.Credentials object at 0x118f3c5f8>>,\n  'before_request': <bound method Credentials.before_request of <google.oauth2.credentials.Credentials object at 0x118f3c5f8>>,\n  'client_id': '764086051850-6qr4p6gpi6hn506pt8ejuq83di341hur.apps.googleusercontent.com',\n  'client_secret': 'd-FL95Q19q7MQmFpd7hHD0Ty',\n  'expired': True,\n  'expiry': datetime.datetime(year=2018, month=6, day=27, hour=20, minute=1, second=34, microsecond=619230),\n  'from_authorized_user_file': <bound method Credentials.from_authorized_user_file of <class 'google.oauth2.credentials.Credentials'>>,\n  'from_authorized_user_info': <bound method Credentials.from_authorized_user_info of <class 'google.oauth2.credentials.Credentials'>>,\n  'has_scopes': <bound method ReadOnlyScoped.has_scopes of <google.oauth2.credentials.Credentials object at 0x118f3c5f8>>,\n  'id_token':\n    'eyJhbGciOiJSUzI1NiIsImtpZCI6IjRlZjUxMThiMDgwMGJkNjBhNDE5NDE4NmRjYjUzOGZjNjZlNWViMzQifQ.'\n    'eyJhenAiOiI3NjQwODYwNTE4NTAtNnFyNHA2Z3BpNmhuNTA2cHQ4ZWp1cTgzZGkzNDFodXIuYXBwcy5nb29nbGV1c2VyY29udGVudC5jb20iLCJhdW'\n    'QiOiI3NjQwODYwNTE4NTAtNnFyNHA2Z3BpNmhuNTA2cHQ4ZWp1cTgzZGkzNDFodXIuYXBwcy5nb29nbGV1c2VyY29udGVudC5jb20iLCJzdWIiOiIx'\n    'MDY2MTY1OTc2MTQ2NDU4MjYxOTMiLCJlbWFpbCI6ImpkYW5icm93bkBnbWFpbC5jb20iLCJlbWFpbF92ZXJpZmllZCI6dHJ1ZSwiYXRfaGFzaCI6Ij'\n    'V0Y3JwWUJXMFhoS2ZzeDZkS29mRGciLCJleHAiOjE1MzAxMjk2OTQsImlzcyI6ImFjY291bnRzLmdvb2dsZS5jb20iLCJpYXQiOjE1MzAxMjYwOTR9'\n    '.jNHoD81z-YSdwnQ10tMELWFOvS7ObKFmGmwtNuOnsldyO42yf0sMdg4n5cqF1CP9kEsSgAA_hv2F-'\n    'K1y5rx82NyT34sHMXxfBOqK2aMKw47dHsQqBpEo5exsnDgPmYYGNmiQvhwi6ECHaS2lboaMsB-'\n    '3xTgCvO4KVLK7eED24aqyPFKSIE0Z8OzUWt1rKxjNGvAOh80w7PcakdhGRoIwQ8Hz3C03xSnQmZ6pN5sESMzrBGfvcdS_x_YjV8RKaoq1ekRF6FW7F'\n    '2PmedbU4inU_55i5ZZUvOCWNB4-AfSJmbEPGgqv_WLN-05s7sYyaW83jHqX0sz4SPZxmbKEB9Lsbg',\n  'refresh': <bound method Credentials.refresh of <google.oauth2.credentials.Credentials object at 0x118f3c5f8>>,\n  'refresh_token': '1/wg1zIBcvB9QmO6Ng5b-FWwH3IzSh_zxp_Ke57mUCgV0',\n  'requires_scopes': False,\n  'scopes': None,\n  'token':\n    'ya29.GlznBd-rRw1GKZwWPIjuax-bAJstTf0uXfJMWyb9z5r-'\n    'J64NuDKBLrW6_VqH3S_Mbhv1IgAATiKHZEhvjDOqohnN3bVuHTtgw7PgEsxL4U_UXPLHfu2Q5JmysLHKNg',\n  'token_uri': 'https://accounts.google.com/o/oauth2/token',\n  'valid': False\n}"
     },
     "execution_count": 78,
     "metadata": {},
     "output_type": "execute_result"
    },
    {
     "name": "stderr",
     "output_type": "stream",
     "text": "DEBUG:gcsfs.core:ls(args=('bubo-data', False), kwargs={})\n"
    },
    {
     "name": "stderr",
     "output_type": "stream",
     "text": "DEBUG:gcsfs.core:_ls(args=('bubo-data/', False), kwargs={})\n"
    },
    {
     "name": "stderr",
     "output_type": "stream",
     "text": "DEBUG:gcsfs.core:_list_objects(args=('bubo-data/',), kwargs={})\n"
    },
    {
     "name": "stderr",
     "output_type": "stream",
     "text": "DEBUG:gcsfs.core:_maybe_get_cached_listing(args=('bubo-data/',), kwargs={})\n"
    },
    {
     "name": "stderr",
     "output_type": "stream",
     "text": "DEBUG:gcsfs.core:_maybe_get_cached_listing: bubo-data/\n"
    },
    {
     "data": {
      "text/plain": "['bubo-data/date', 'bubo-data/v0/']"
     },
     "execution_count": 83,
     "metadata": {},
     "output_type": "execute_result"
    }
   ],
   "source": [
    "gcsfs.GCSFileSystem(project='bubo-1', token=client._credentials).ls('bubo-data')\n",
    "dirs(client._credentials)"
   ]
  },
  {
   "cell_type": "code",
   "execution_count": null,
   "metadata": {},
   "outputs": [
    {
     "name": "stderr",
     "output_type": "stream",
     "text": "DEBUG:urllib3.connectionpool:https://www.googleapis.com:443 \"GET /storage/v1/b/bubo-data/o?projection=noAcl&prefix=v0%2Fdata%2Fxc%2Fdata%2FSOSP%2F&fields=items%2Fname%2CnextPageToken HTTP/1.1\" 200 60026\n"
    },
    {
     "name": "stderr",
     "output_type": "stream",
     "text": "DEBUG:urllib3.connectionpool:https://www.googleapis.com:443 \"GET /storage/v1/b/bubo-data/o?pageToken=CiV2MC9kYXRhL3hjL2RhdGEvU09TUC8zNjI1MTQvcGFnZS5odG1s&projection=noAcl&prefix=v0%2Fdata%2Fxc%2Fdata%2FSOSP%2F&fields=items%2Fname%2CnextPageToken HTTP/1.1\" 200 17664\n"
    },
    {
     "data": {
      "text/plain": "1296"
     },
     "execution_count": 50,
     "metadata": {},
     "output_type": "execute_result"
    }
   ],
   "source": [
    "blobs = [x for x in bucket.list_blobs(prefix='v0/data/xc/data/SOSP/',\n",
    "    fields='items/name,nextPageToken',\n",
    ")]\n",
    "len(blobs)"
   ]
  },
  {
   "cell_type": "code",
   "execution_count": null,
   "metadata": {},
   "outputs": [
    {
     "data": {
      "text/plain": "gcsfs.core.split_path  # function"
     },
     "execution_count": 55,
     "metadata": {},
     "output_type": "execute_result"
    }
   ],
   "source": [
    "gcsfs.core.split_path"
   ]
  },
  {
   "cell_type": "code",
   "execution_count": null,
   "metadata": {},
   "outputs": [],
   "source": [
    "[x.name for x in blobs]"
   ]
  },
  {
   "cell_type": "code",
   "execution_count": null,
   "metadata": {
    "time": "13.431s"
   },
   "outputs": [
    {
     "data": {
      "text/plain": "129449"
     },
     "execution_count": 70,
     "metadata": {},
     "output_type": "execute_result"
    }
   ],
   "source": [
    "from pathlib import Path\n",
    "from datasets import xc\n",
    "len(list(xc.data_dir.glob('*/*/audio.mp3')))"
   ]
  },
  {
   "cell_type": "code",
   "execution_count": null,
   "metadata": {},
   "outputs": [],
   "source": []
  }
 ],
 "metadata": {
  "kernelspec": {
   "display_name": "bubo-features (PYTHONSTARTUP)",
   "language": "python",
   "name": "bubo-features (PYTHONSTARTUP)"
  }
 },
 "nbformat": 4,
 "nbformat_minor": 2
}
