{
 "cells": [
  {
   "cell_type": "code",
   "execution_count": null,
   "metadata": {},
   "outputs": [],
   "source": [
    "import glob\n",
    "\n",
    "from potoo.plot import *\n",
    "from potoo.util import *\n",
    "import sklearn\n",
    "\n",
    "from cache import *\n",
    "from constants import *\n",
    "from datasets import *\n",
    "from features import *\n",
    "from load import *\n",
    "from sp14.model import *\n",
    "from util import *\n",
    "from viz import *\n",
    "\n",
    "figsize('inline_short');"
   ]
  },
  {
   "cell_type": "code",
   "execution_count": null,
   "metadata": {},
   "outputs": [
    {
     "data": {
      "text/html": "<table border=\"1\" class=\"dataframe\">\n  <thead>\n    <tr>\n      <th></th>\n      <th>dataset</th>\n      <th>species</th>\n      <th>species_com_name</th>\n      <th>duration_s</th>\n      <th>samples_mb</th>\n      <th>samples_n</th>\n      <th>basename</th>\n      <th>species_longhand</th>\n      <th>id</th>\n      <th>path</th>\n      <th>filesize_b</th>\n    </tr>\n    <tr>\n      <th>dtype</th>\n      <th>object</th>\n      <th>category</th>\n      <th>category</th>\n      <th>float64</th>\n      <th>float64</th>\n      <th>int64</th>\n      <th>object</th>\n      <th>category</th>\n      <th>object</th>\n      <th>object</th>\n      <th>int64</th>\n    </tr>\n    <tr>\n      <th>sizeof</th>\n      <th>2.5 MiB</th>\n      <th>291.9 KiB</th>\n      <th>291.9 KiB</th>\n      <th>518.8 KiB</th>\n      <th>518.8 KiB</th>\n      <th>518.8 KiB</th>\n      <th>2.6 MiB</th>\n      <th>291.9 KiB</th>\n      <th>3.5 MiB</th>\n      <th>3.6 MiB</th>\n      <th>518.8 KiB</th>\n    </tr>\n    <tr>\n      <th>len</th>\n      <th>33201</th>\n      <th>33201</th>\n      <th>33201</th>\n      <th>33201</th>\n      <th>33201</th>\n      <th>33201</th>\n      <th>33201</th>\n      <th>33201</th>\n      <th>33201</th>\n      <th>33201</th>\n      <th>33201</th>\n    </tr>\n    <tr>\n      <th>count</th>\n      <th>33201</th>\n      <th>33201</th>\n      <th>33201</th>\n      <th>33201</th>\n      <th>33201</th>\n      <th>33201</th>\n      <th>33201</th>\n      <th>33201</th>\n      <th>33201</th>\n      <th>33201</th>\n      <th>33201</th>\n    </tr>\n    <tr>\n      <th>nunique</th>\n      <th>1</th>\n      <th>1</th>\n      <th>1</th>\n      <th>32818</th>\n      <th>32818</th>\n      <th>32818</th>\n      <th>33201</th>\n      <th>1</th>\n      <th>33201</th>\n      <th>33201</th>\n      <th>33004</th>\n    </tr>\n    <tr>\n      <th>mean</th>\n      <th>NaN</th>\n      <th>NaN</th>\n      <th>NaN</th>\n      <th>3.409e+01</th>\n      <th>1.434e+00</th>\n      <th>7.516e+05</th>\n      <th>NaN</th>\n      <th>NaN</th>\n      <th>NaN</th>\n      <th>NaN</th>\n      <th>3.006e+06</th>\n    </tr>\n    <tr>\n      <th>std</th>\n      <th>NaN</th>\n      <th>NaN</th>\n      <th>NaN</th>\n      <th>3.911e+01</th>\n      <th>1.645e+00</th>\n      <th>8.625e+05</th>\n      <th>NaN</th>\n      <th>NaN</th>\n      <th>NaN</th>\n      <th>NaN</th>\n      <th>3.450e+06</th>\n    </tr>\n  </thead>\n  <tbody>\n    <tr>\n      <th>min</th>\n      <td><div class=\"not-number\">birdclef-2015</div></td>\n      <td><div class=\"not-number\">_UNK</div></td>\n      <td><div class=\"not-number\">Unknown</div></td>\n      <td>0.258</td>\n      <td>0.011</td>\n      <td>5696</td>\n      <td><div class=\"not-number\">00000-2015-amazon</div></td>\n      <td><div class=\"not-number\">Unknown - _UNK</div></td>\n      <td><div class=\"not-number\">birdclef-2015/organized/wav/00000-2015-amazon</div></td>\n      <td><div class=\"not-number\">birdclef-2015/organized/wav/00000-2015-amazon.wav</div></td>\n      <td>22828</td>\n    </tr>\n    <tr>\n      <th>25%</th>\n      <td><div class=\"not-number\">birdclef-2015</div></td>\n      <td><div class=\"not-number\">_UNK</div></td>\n      <td><div class=\"not-number\">Unknown</div></td>\n      <td>13.800</td>\n      <td>0.581</td>\n      <td>304382</td>\n      <td><div class=\"not-number\">08342-2014-amazon</div></td>\n      <td><div class=\"not-number\">Unknown - _UNK</div></td>\n      <td><div class=\"not-number\">birdclef-2015/organized/wav/08342-2014-amazon</div></td>\n      <td><div class=\"not-number\">birdclef-2015/organized/wav/08342-2014-amazon.wav</div></td>\n      <td>1217572</td>\n    </tr>\n    <tr>\n      <th>50%</th>\n      <td><div class=\"not-number\">birdclef-2015</div></td>\n      <td><div class=\"not-number\">_UNK</div></td>\n      <td><div class=\"not-number\">Unknown</div></td>\n      <td>25.100</td>\n      <td>1.050</td>\n      <td>552705</td>\n      <td><div class=\"not-number\">16663-2015-amazon</div></td>\n      <td><div class=\"not-number\">Unknown - _UNK</div></td>\n      <td><div class=\"not-number\">birdclef-2015/organized/wav/16663-2015-amazon</div></td>\n      <td><div class=\"not-number\">birdclef-2015/organized/wav/16663-2015-amazon.wav</div></td>\n      <td>2210862</td>\n    </tr>\n    <tr>\n      <th>75%</th>\n      <td><div class=\"not-number\">birdclef-2015</div></td>\n      <td><div class=\"not-number\">_UNK</div></td>\n      <td><div class=\"not-number\">Unknown</div></td>\n      <td>42.500</td>\n      <td>1.790</td>\n      <td>936513</td>\n      <td><div class=\"not-number\">24968-2015-amazon</div></td>\n      <td><div class=\"not-number\">Unknown - _UNK</div></td>\n      <td><div class=\"not-number\">birdclef-2015/organized/wav/24968-2015-amazon</div></td>\n      <td><div class=\"not-number\">birdclef-2015/organized/wav/24968-2015-amazon.wav</div></td>\n      <td>3746096</td>\n    </tr>\n    <tr>\n      <th>max</th>\n      <td><div class=\"not-number\">birdclef-2015</div></td>\n      <td><div class=\"not-number\">_UNK</div></td>\n      <td><div class=\"not-number\">Unknown</div></td>\n      <td>2740.000</td>\n      <td>115.000</td>\n      <td>60400783</td>\n      <td><div class=\"not-number\">33277-2015-amazon</div></td>\n      <td><div class=\"not-number\">Unknown - _UNK</div></td>\n      <td><div class=\"not-number\">birdclef-2015/organized/wav/33277-2015-amazon</div></td>\n      <td><div class=\"not-number\">birdclef-2015/organized/wav/33277-2015-amazon.wav</div></td>\n      <td>241603176</td>\n    </tr>\n  </tbody>\n</table>",
      "text/plain": "               dataset   species species_com_name duration_s samples_mb samples_n           basename species_longhand                                             id                                               path filesize_b\ndtype           object  category         category    float64    float64     int64             object         category                                         object                                             object      int64\nsizeof         2.5 MiB 291.9 KiB        291.9 KiB  518.8 KiB  518.8 KiB 518.8 KiB            2.6 MiB        291.9 KiB                                        3.5 MiB                                            3.6 MiB  518.8 KiB\nlen              33201     33201            33201      33201      33201     33201              33201            33201                                          33201                                              33201      33201\ncount            33201     33201            33201      33201      33201     33201              33201            33201                                          33201                                              33201      33201\nnunique          1         1                1          32818      32818     32818              33201            1                                              33201                                              33201      33004\nmean               NaN       NaN              NaN  3.409e+01  1.434e+00 7.516e+05                NaN              NaN                                            NaN                                                NaN  3.006e+06\nstd                NaN       NaN              NaN  3.911e+01  1.645e+00 8.625e+05                NaN              NaN                                            NaN                                                NaN  3.450e+06\nmin      birdclef-2015      _UNK          Unknown      0.258     0.0109      5696  00000-2015-amazon   Unknown - _UNK  birdclef-2015/organized/wav/00000-2015-amazon  birdclef-2015/organized/wav/00000-2015-amazon.wav      22828\n25%      birdclef-2015      _UNK          Unknown       13.8      0.581    304382  08342-2014-amazon   Unknown - _UNK  birdclef-2015/organized/wav/08342-2014-amazon  birdclef-2015/organized/wav/08342-2014-amazon.wav    1217572\n50%      birdclef-2015      _UNK          Unknown       25.1       1.05    552705  16663-2015-amazon   Unknown - _UNK  birdclef-2015/organized/wav/16663-2015-amazon  birdclef-2015/organized/wav/16663-2015-amazon.wav    2210862\n75%      birdclef-2015      _UNK          Unknown       42.5       1.79    936513  24968-2015-amazon   Unknown - _UNK  birdclef-2015/organized/wav/24968-2015-amazon  birdclef-2015/organized/wav/24968-2015-amazon.wav    3746096\nmax      birdclef-2015      _UNK          Unknown   2.74e+03        115  60400783  33277-2015-amazon   Unknown - _UNK  birdclef-2015/organized/wav/33277-2015-amazon  birdclef-2015/organized/wav/33277-2015-amazon.wav  241603176"
     },
     "metadata": {},
     "output_type": "display_data",
     "transient": {}
    },
    {
     "data": {
      "text/html": "<table border=\"1\" class=\"dataframe\">\n  <thead>\n    <tr style=\"text-align: right;\">\n      <th></th>\n      <th>dataset</th>\n      <th>species</th>\n      <th>species_com_name</th>\n      <th>duration_s</th>\n      <th>samples_mb</th>\n      <th>samples_n</th>\n      <th>basename</th>\n      <th>species_longhand</th>\n      <th>id</th>\n      <th>path</th>\n      <th>filesize_b</th>\n    </tr>\n  </thead>\n  <tbody>\n    <tr>\n      <th>0</th>\n      <td><div class=\"not-number\">birdclef-2015</div></td>\n      <td><div class=\"not-number\">_UNK</div></td>\n      <td><div class=\"not-number\">Unknown</div></td>\n      <td>1.47</td>\n      <td>0.062</td>\n      <td>32397</td>\n      <td><div class=\"not-number\">00000-2015-amazon</div></td>\n      <td><div class=\"not-number\">Unknown - _UNK</div></td>\n      <td><div class=\"not-number\">birdclef-2015/organized/wav/00000-2015-amazon</div></td>\n      <td><div class=\"not-number\">birdclef-2015/organized/wav/00000-2015-amazon.wav</div></td>\n      <td>129632</td>\n    </tr>\n    <tr>\n      <th>22143</th>\n      <td><div class=\"not-number\">birdclef-2015</div></td>\n      <td><div class=\"not-number\">_UNK</div></td>\n      <td><div class=\"not-number\">Unknown</div></td>\n      <td>54.00</td>\n      <td>2.270</td>\n      <td>1190908</td>\n      <td><div class=\"not-number\">22207-2015-amazon</div></td>\n      <td><div class=\"not-number\">Unknown - _UNK</div></td>\n      <td><div class=\"not-number\">birdclef-2015/organized/wav/22207-2015-amazon</div></td>\n      <td><div class=\"not-number\">birdclef-2015/organized/wav/22207-2015-amazon.wav</div></td>\n      <td>4763674</td>\n    </tr>\n    <tr>\n      <th>22142</th>\n      <td><div class=\"not-number\">birdclef-2015</div></td>\n      <td><div class=\"not-number\">_UNK</div></td>\n      <td><div class=\"not-number\">Unknown</div></td>\n      <td>169.00</td>\n      <td>7.090</td>\n      <td>3717497</td>\n      <td><div class=\"not-number\">22206-2015-amazon</div></td>\n      <td><div class=\"not-number\">Unknown - _UNK</div></td>\n      <td><div class=\"not-number\">birdclef-2015/organized/wav/22206-2015-amazon</div></td>\n      <td><div class=\"not-number\">birdclef-2015/organized/wav/22206-2015-amazon.wav</div></td>\n      <td>14870030</td>\n    </tr>\n    <tr>\n      <th>22141</th>\n      <td><div class=\"not-number\">birdclef-2015</div></td>\n      <td><div class=\"not-number\">_UNK</div></td>\n      <td><div class=\"not-number\">Unknown</div></td>\n      <td>75.30</td>\n      <td>3.170</td>\n      <td>1661045</td>\n      <td><div class=\"not-number\">22205-2015-amazon</div></td>\n      <td><div class=\"not-number\">Unknown - _UNK</div></td>\n      <td><div class=\"not-number\">birdclef-2015/organized/wav/22205-2015-amazon</div></td>\n      <td><div class=\"not-number\">birdclef-2015/organized/wav/22205-2015-amazon.wav</div></td>\n      <td>6644224</td>\n    </tr>\n    <tr>\n      <th>22140</th>\n      <td><div class=\"not-number\">birdclef-2015</div></td>\n      <td><div class=\"not-number\">_UNK</div></td>\n      <td><div class=\"not-number\">Unknown</div></td>\n      <td>9.95</td>\n      <td>0.418</td>\n      <td>219319</td>\n      <td><div class=\"not-number\">22204-2015-amazon</div></td>\n      <td><div class=\"not-number\">Unknown - _UNK</div></td>\n      <td><div class=\"not-number\">birdclef-2015/organized/wav/22204-2015-amazon</div></td>\n      <td><div class=\"not-number\">birdclef-2015/organized/wav/22204-2015-amazon.wav</div></td>\n      <td>877320</td>\n    </tr>\n  </tbody>\n</table>",
      "text/plain": "             dataset species species_com_name  duration_s  samples_mb  samples_n           basename species_longhand                                             id                                               path  filesize_b\n0      birdclef-2015    _UNK          Unknown       1.469       0.062      32397  00000-2015-amazon   Unknown - _UNK  birdclef-2015/organized/wav/00000-2015-amazon  birdclef-2015/organized/wav/00000-2015-amazon.wav      129632\n22143  birdclef-2015    _UNK          Unknown      54.009       2.271    1190908  22207-2015-amazon   Unknown - _UNK  birdclef-2015/organized/wav/22207-2015-amazon  birdclef-2015/organized/wav/22207-2015-amazon.wav     4763674\n22142  birdclef-2015    _UNK          Unknown     168.594       7.091    3717497  22206-2015-amazon   Unknown - _UNK  birdclef-2015/organized/wav/22206-2015-amazon  birdclef-2015/organized/wav/22206-2015-amazon.wav    14870030\n22141  birdclef-2015    _UNK          Unknown      75.331       3.168    1661045  22205-2015-amazon   Unknown - _UNK  birdclef-2015/organized/wav/22205-2015-amazon  birdclef-2015/organized/wav/22205-2015-amazon.wav     6644224\n22140  birdclef-2015    _UNK          Unknown       9.946       0.418     219319  22204-2015-amazon   Unknown - _UNK  birdclef-2015/organized/wav/22204-2015-amazon  birdclef-2015/organized/wav/22204-2015-amazon.wav      877320"
     },
     "metadata": {},
     "output_type": "display_data",
     "transient": {}
    }
   ],
   "source": [
    "load = Load()\n",
    "all_recs = load.recs(\n",
    "    # limit=30,  # XXX Faster dev\n",
    "    # limit=3000,  # XXX Faster dev\n",
    "    datasets=[\n",
    "        # 'peterson-field-guide',\n",
    "        # 'recordings',\n",
    "        # TODO TODO Cache transformed data across the other datasets, for more lightweight classifier eval\n",
    "        # 'mlsp-2013',  # Cached\n",
    "        # 'nips4b',  # Cached\n",
    "        'birdclef-2015',\n",
    "    ],\n",
    ")\n",
    "display(\n",
    "    df_summary(all_recs),\n",
    "    all_recs[:5],\n",
    ")"
   ]
  },
  {
   "cell_type": "code",
   "execution_count": null,
   "metadata": {},
   "outputs": [
    {
     "data": {
      "text/html": "<table border=\"1\" class=\"dataframe\">\n  <thead>\n    <tr style=\"text-align: right;\">\n      <th></th>\n      <th></th>\n      <th>n</th>\n      <th>duration_h</th>\n      <th>samples_gb</th>\n      <th>samples_n</th>\n    </tr>\n    <tr>\n      <th>dataset</th>\n      <th>species</th>\n      <th></th>\n      <th></th>\n      <th></th>\n      <th></th>\n    </tr>\n  </thead>\n  <tbody>\n    <tr>\n      <th>birdclef-2015</th>\n      <th>_UNK</th>\n      <td>33201</td>\n      <td>314.0</td>\n      <td>46.5</td>\n      <td>24954119550</td>\n    </tr>\n  </tbody>\n</table>",
      "text/plain": "                           n  duration_h  samples_gb    samples_n\ndataset       species                                            \nbirdclef-2015 _UNK     33201     314.363      46.481  24954119550"
     },
     "execution_count": 15,
     "metadata": {},
     "output_type": "execute_result"
    }
   ],
   "source": [
    "# Stats\n",
    "(all_recs\n",
    "    .assign(\n",
    "        n=1,\n",
    "        duration_h=lambda df: df.duration_s / 3600,\n",
    "        samples_gb=lambda df: df.samples_mb / 1024,\n",
    "        species=lambda df: df.species.cat.remove_unused_categories(),  # Else groupby includes all categories\n",
    "    )\n",
    "    .groupby([\n",
    "        'dataset',\n",
    "        'species',\n",
    "    ])\n",
    "    [['n', 'duration_h', 'samples_gb', 'samples_n']]\n",
    "    .sum()\n",
    "    .dropna()\n",
    ")"
   ]
  },
  {
   "cell_type": "code",
   "execution_count": null,
   "metadata": {},
   "outputs": [],
   "source": [
    "# (all_recs\n",
    "#     .assign(species=lambda df: df.species_longhand)\n",
    "#     .assign(n=1)\n",
    "#     .pipe(lambda df: df.append(\n",
    "#         pd.DataFrame([\n",
    "#             dict(species=species, dataset=dataset, n=0)\n",
    "#             for species in df.species.unique()\n",
    "#             for dataset in df.dataset.unique()\n",
    "#         ])\n",
    "#         .astype({'species': df.species.dtype})\n",
    "#     ))\n",
    "#     .groupby(['dataset', 'species'])['n'].sum().reset_index()\n",
    "#     .pipe(df_reverse_cat, 'species')\n",
    "#     .pipe(ggplot, aes(x='species', y='n', color='dataset', fill='dataset'))\n",
    "#     + coord_flip()\n",
    "#     + stat_identity(geom='bar', position=position_dodge())\n",
    "#     + ylab('num recordings')\n",
    "#     + scale_color_cmap_d(mpl.cm.tab10)\n",
    "#     + scale_fill_cmap_d(mpl.cm.tab10)\n",
    "#     + theme_figsize('half')\n",
    "#     + ggtitle('How many all_recs per species x dataset?')\n",
    "# )"
   ]
  },
  {
   "cell_type": "markdown",
   "metadata": {},
   "source": [
    "# Fit search"
   ]
  },
  {
   "cell_type": "code",
   "execution_count": null,
   "metadata": {},
   "outputs": [
    {
     "name": "stdout",
     "output_type": "stream",
     "text": "[19:00:45.393] Projection.load\n  path: /Users/danb/hack/bubo/data/models/projection/peterson-v0-26bae1c.pkl\n"
    }
   ],
   "source": [
    "# Load models\n",
    "projection = Projection.load('peterson-v0-26bae1c')\n",
    "features = projection.features\n",
    "load = features.load"
   ]
  },
  {
   "cell_type": "code",
   "execution_count": null,
   "metadata": {},
   "outputs": [],
   "source": [
    "# TODO TODO Cache transformed data across the other datasets, for more lightweight classifier iteration"
   ]
  },
  {
   "cell_type": "code",
   "execution_count": null,
   "metadata": {},
   "outputs": [
    {
     "name": "stdout",
     "output_type": "stream",
     "text": "\r[                                                                                          ] | 0% Completed |  0.0s"
    },
    {
     "name": "stdout",
     "output_type": "stream",
     "text": "\r[                                                                                          ] | 0% Completed |  0.1s"
    },
    {
     "name": "stdout",
     "output_type": "stream",
     "text": "\r[                                                                                          ] | 0% Completed |  0.2s"
    },
    {
     "name": "stdout",
     "output_type": "stream",
     "text": "\r[                                                                                          ] | 0% Completed |  0.3s"
    },
    {
     "name": "stdout",
     "output_type": "stream",
     "text": "\r[                                                                                          ] | 0% Completed |  0.4s"
    },
    {
     "name": "stdout",
     "output_type": "stream",
     "text": "\r[                                                                                          ] | 0% Completed |  0.5s"
    },
    {
     "name": "stdout",
     "output_type": "stream",
     "text": "\r[                                                                                          ] | 0% Completed |  0.6s"
    },
    {
     "name": "stdout",
     "output_type": "stream",
     "text": "\r[                                                                                          ] | 0% Completed |  0.7s"
    },
    {
     "name": "stdout",
     "output_type": "stream",
     "text": "\r[                                                                                          ] | 0% Completed |  0.8s"
    },
    {
     "name": "stdout",
     "output_type": "stream",
     "text": "\r[                                                                                          ] | 0% Completed |  1.0s"
    },
    {
     "name": "stdout",
     "output_type": "stream",
     "text": "\r[                                                                                          ] | 0% Completed |  1.1s"
    },
    {
     "name": "stdout",
     "output_type": "stream",
     "text": "\r[################                                                                          ] | 18% Completed |  1.2s"
    },
    {
     "name": "stdout",
     "output_type": "stream",
     "text": "\r[##################                                                                        ] | 20% Completed |  1.3s"
    },
    {
     "name": "stdout",
     "output_type": "stream",
     "text": "\r[##################                                                                        ] | 20% Completed |  1.4s"
    },
    {
     "name": "stdout",
     "output_type": "stream",
     "text": "\r[##################                                                                        ] | 20% Completed |  1.5s"
    },
    {
     "name": "stdout",
     "output_type": "stream",
     "text": "\r[##################                                                                        ] | 20% Completed |  1.6s"
    },
    {
     "name": "stdout",
     "output_type": "stream",
     "text": "\r[##################                                                                        ] | 20% Completed |  1.7s"
    },
    {
     "name": "stdout",
     "output_type": "stream",
     "text": "\r[##################                                                                        ] | 20% Completed |  1.8s"
    },
    {
     "name": "stdout",
     "output_type": "stream",
     "text": "\r[##################                                                                        ] | 20% Completed |  1.9s"
    },
    {
     "name": "stdout",
     "output_type": "stream",
     "text": "\r[##################                                                                        ] | 20% Completed |  2.0s"
    },
    {
     "name": "stdout",
     "output_type": "stream",
     "text": "\r[####################                                                                      ] | 22% Completed |  2.1s"
    },
    {
     "name": "stdout",
     "output_type": "stream",
     "text": "\r[####################################                                                      ] | 40% Completed |  2.2s"
    },
    {
     "name": "stdout",
     "output_type": "stream",
     "text": "\r[####################################                                                      ] | 40% Completed |  2.3s"
    },
    {
     "name": "stdout",
     "output_type": "stream",
     "text": "\r[####################################                                                      ] | 40% Completed |  2.5s"
    },
    {
     "name": "stdout",
     "output_type": "stream",
     "text": "\r[####################################                                                      ] | 40% Completed |  2.6s"
    },
    {
     "name": "stdout",
     "output_type": "stream",
     "text": "\r[####################################                                                      ] | 40% Completed |  2.7s"
    },
    {
     "name": "stdout",
     "output_type": "stream",
     "text": "\r[####################################                                                      ] | 40% Completed |  2.8s"
    },
    {
     "name": "stdout",
     "output_type": "stream",
     "text": "\r[####################################                                                      ] | 40% Completed |  2.9s"
    },
    {
     "name": "stdout",
     "output_type": "stream",
     "text": "\r[####################################                                                      ] | 40% Completed |  3.0s"
    },
    {
     "name": "stdout",
     "output_type": "stream",
     "text": "\r[####################################                                                      ] | 40% Completed |  3.1s"
    },
    {
     "name": "stdout",
     "output_type": "stream",
     "text": "\r[####################################                                                      ] | 40% Completed |  3.2s"
    },
    {
     "name": "stdout",
     "output_type": "stream",
     "text": "\r[##########################################                                                ] | 47% Completed |  3.3s"
    },
    {
     "name": "stdout",
     "output_type": "stream",
     "text": "\r[######################################################                                    ] | 60% Completed |  3.4s"
    },
    {
     "name": "stdout",
     "output_type": "stream",
     "text": "\r[######################################################                                    ] | 60% Completed |  3.5s"
    },
    {
     "name": "stdout",
     "output_type": "stream",
     "text": "\r[######################################################                                    ] | 60% Completed |  3.6s"
    },
    {
     "name": "stdout",
     "output_type": "stream",
     "text": "\r[######################################################                                    ] | 60% Completed |  3.7s"
    },
    {
     "name": "stdout",
     "output_type": "stream",
     "text": "\r[######################################################                                    ] | 60% Completed |  3.8s"
    },
    {
     "name": "stdout",
     "output_type": "stream",
     "text": "\r[######################################################                                    ] | 60% Completed |  3.9s"
    },
    {
     "name": "stdout",
     "output_type": "stream",
     "text": "\r[######################################################                                    ] | 60% Completed |  4.0s"
    },
    {
     "name": "stdout",
     "output_type": "stream",
     "text": "\r[######################################################                                    ] | 60% Completed |  4.1s"
    },
    {
     "name": "stdout",
     "output_type": "stream",
     "text": "\r[######################################################                                    ] | 60% Completed |  4.2s"
    },
    {
     "name": "stdout",
     "output_type": "stream",
     "text": "\r[#########################################################                                 ] | 63% Completed |  4.3s"
    },
    {
     "name": "stdout",
     "output_type": "stream",
     "text": "\r[###################################################################                       ] | 75% Completed |  4.4s"
    },
    {
     "name": "stdout",
     "output_type": "stream",
     "text": "\r[########################################################################                  ] | 80% Completed |  4.5s"
    },
    {
     "name": "stdout",
     "output_type": "stream",
     "text": "\r[########################################################################                  ] | 80% Completed |  4.7s"
    },
    {
     "name": "stdout",
     "output_type": "stream",
     "text": "\r[########################################################################                  ] | 80% Completed |  4.8s"
    },
    {
     "name": "stdout",
     "output_type": "stream",
     "text": "\r[########################################################################                  ] | 80% Completed |  4.9s"
    },
    {
     "name": "stdout",
     "output_type": "stream",
     "text": "\r[########################################################################                  ] | 80% Completed |  5.0s"
    },
    {
     "name": "stdout",
     "output_type": "stream",
     "text": "\r[########################################################################                  ] | 80% Completed |  5.1s"
    },
    {
     "name": "stdout",
     "output_type": "stream",
     "text": "\r[########################################################################                  ] | 80% Completed |  5.2s"
    },
    {
     "name": "stdout",
     "output_type": "stream",
     "text": "\r[########################################################################                  ] | 80% Completed |  5.3s"
    },
    {
     "name": "stdout",
     "output_type": "stream",
     "text": "\r[##########################################################################                ] | 82% Completed |  5.4s"
    },
    {
     "name": "stdout",
     "output_type": "stream",
     "text": "\r[##########################################################################################] | 100% Completed |  5.5s"
    },
    {
     "name": "stdout",
     "output_type": "stream",
     "text": "\n"
    },
    {
     "data": {
      "text/plain": "         613435 function calls (597444 primitive calls) in 6.064 seconds\n\n   Ordered by: internal time\n   List reduced from 999 to 5 due to restriction <5>\n\n   ncalls  tottime  percall  cumtime  percall filename:lineno(function)\n      951    5.435    0.006    5.435    0.006 {method 'acquire' of '_thread.lock' objects}\n        4    0.099    0.025    0.247    0.062 base.py:609(tokenize)\n      168    0.048    0.000    0.048    0.000 socket.py:333(send)\n        4    0.047    0.012    0.047    0.012 {built-in method _hashlib.openssl_md5}\n   132995    0.037    0.000    0.074    0.000 {built-in method builtins.isinstance}"
     },
     "metadata": {},
     "output_type": "display_data",
     "transient": {}
    },
    {
     "name": "stdout",
     "output_type": "stream",
     "text": " "
    }
   ],
   "source": [
    "%%prun -l5\n",
    "# TODO TODO Re-run overnight on full data (only ~50% was cached on Tue night, because it failed partway through)\n",
    "#   - TODO Maybe need to refresh a junky cache? -- conclude 'no' if nothing barfs\n",
    "# Add features\n",
    "# all_recs = features.transform(all_recs)  # Not mem safe [TODO TODO Re-enable after birdclef]\n",
    "with cache_control():\n",
    "    recs = projection.transform(all_recs\n",
    "        .sample(random_state=0,\n",
    "            frac=.001,  # ~30, cached[.1s], refresh[3.7s]\n",
    "            # frac=.01,  # ~300, cached[.6s], refresh[39s]\n",
    "            # frac=.1,  # ~3K, cached[5.5s], refresh[TODO ~390s]\n",
    "            # frac=1,  # ~33K, cached[TODO], refresh[TODO ~3900s]\n",
    "        )\n",
    "    )"
   ]
  },
  {
   "cell_type": "code",
   "execution_count": null,
   "metadata": {},
   "outputs": [
    {
     "data": {
      "text/html": "<table border=\"1\" class=\"dataframe\">\n  <thead>\n    <tr style=\"text-align: right;\">\n      <th></th>\n      <th></th>\n      <th></th>\n      <th></th>\n      <th></th>\n      <th></th>\n      <th></th>\n      <th></th>\n      <th>min</th>\n      <th>25%</th>\n      <th>50%</th>\n      <th>75%</th>\n      <th>max</th>\n    </tr>\n    <tr>\n      <th></th>\n      <th>dtype</th>\n      <th>sizeof</th>\n      <th>len</th>\n      <th>count</th>\n      <th>nunique</th>\n      <th>mean</th>\n      <th>std</th>\n      <th></th>\n      <th></th>\n      <th></th>\n      <th></th>\n      <th></th>\n    </tr>\n  </thead>\n  <tbody>\n    <tr>\n      <th>dataset</th>\n      <th>object</th>\n      <th>594.5 KiB</th>\n      <th>3320</th>\n      <th>3320</th>\n      <th>1.0</th>\n      <th>NaN</th>\n      <th>NaN</th>\n      <td><div class=\"not-number\">birdclef-2015</div></td>\n      <td><div class=\"not-number\">birdclef-2015</div></td>\n      <td><div class=\"not-number\">birdclef-2015</div></td>\n      <td><div class=\"not-number\">birdclef-2015</div></td>\n      <td><div class=\"not-number\">birdclef-2015</div></td>\n    </tr>\n    <tr>\n      <th>species</th>\n      <th>category</th>\n      <th>189.3 KiB</th>\n      <th>3320</th>\n      <th>3320</th>\n      <th>1.0</th>\n      <th>NaN</th>\n      <th>NaN</th>\n      <td><div class=\"not-number\">_UNK</div></td>\n      <td><div class=\"not-number\">_UNK</div></td>\n      <td><div class=\"not-number\">_UNK</div></td>\n      <td><div class=\"not-number\">_UNK</div></td>\n      <td><div class=\"not-number\">_UNK</div></td>\n    </tr>\n    <tr>\n      <th>species_com_name</th>\n      <th>category</th>\n      <th>189.3 KiB</th>\n      <th>3320</th>\n      <th>3320</th>\n      <th>1.0</th>\n      <th>NaN</th>\n      <th>NaN</th>\n      <td><div class=\"not-number\">Unknown</div></td>\n      <td><div class=\"not-number\">Unknown</div></td>\n      <td><div class=\"not-number\">Unknown</div></td>\n      <td><div class=\"not-number\">Unknown</div></td>\n      <td><div class=\"not-number\">Unknown</div></td>\n    </tr>\n    <tr>\n      <th>duration_s</th>\n      <th>float64</th>\n      <th>211.9 KiB</th>\n      <th>3320</th>\n      <th>3320</th>\n      <th>3316.0</th>\n      <th>3.476e+01</th>\n      <th>3.663e+01</th>\n      <td>0.506</td>\n      <td>13.7</td>\n      <td>25.2</td>\n      <td>44.3</td>\n      <td>744</td>\n    </tr>\n    <tr>\n      <th>samples_mb</th>\n      <th>float64</th>\n      <th>211.9 KiB</th>\n      <th>3320</th>\n      <th>3320</th>\n      <th>3316.0</th>\n      <th>1.462e+00</th>\n      <th>1.540e+00</th>\n      <td>0.0213</td>\n      <td>0.576</td>\n      <td>1.06</td>\n      <td>1.86</td>\n      <td>31.3</td>\n    </tr>\n    <tr>\n      <th>samples_n</th>\n      <th>int64</th>\n      <th>211.9 KiB</th>\n      <th>3320</th>\n      <th>3320</th>\n      <th>3316.0</th>\n      <th>7.664e+05</th>\n      <th>8.076e+05</th>\n      <td>11163</td>\n      <td>302148</td>\n      <td>556386</td>\n      <td>975787</td>\n      <td>16404677</td>\n    </tr>\n    <tr>\n      <th>basename</th>\n      <th>object</th>\n      <th>426.2 KiB</th>\n      <th>3320</th>\n      <th>3320</th>\n      <th>3320.0</th>\n      <th>NaN</th>\n      <th>NaN</th>\n      <td><div class=\"not-number\">00012-2014-amazon</div></td>\n      <td><div class=\"not-number\">08341-2014-amazon</div></td>\n      <td><div class=\"not-number\">16474-2015-amazon</div></td>\n      <td><div class=\"not-number\">24692-2015-amazon</div></td>\n      <td><div class=\"not-number\">33277-2015-amazon</div></td>\n    </tr>\n    <tr>\n      <th>species_longhand</th>\n      <th>category</th>\n      <th>189.4 KiB</th>\n      <th>3320</th>\n      <th>3320</th>\n      <th>1.0</th>\n      <th>NaN</th>\n      <th>NaN</th>\n      <td><div class=\"not-number\">Unknown - _UNK</div></td>\n      <td><div class=\"not-number\">Unknown - _UNK</div></td>\n      <td><div class=\"not-number\">Unknown - _UNK</div></td>\n      <td><div class=\"not-number\">Unknown - _UNK</div></td>\n      <td><div class=\"not-number\">Unknown - _UNK</div></td>\n    </tr>\n    <tr>\n      <th>id</th>\n      <th>object</th>\n      <th>517.6 KiB</th>\n      <th>3320</th>\n      <th>3320</th>\n      <th>3320.0</th>\n      <th>NaN</th>\n      <th>NaN</th>\n      <td><div class=\"not-number\">birdclef-2015/organized/wav/00012-2014-amazon</div></td>\n      <td><div class=\"not-number\">birdclef-2015/organized/wav/08341-2014-amazon</div></td>\n      <td><div class=\"not-number\">birdclef-2015/organized/wav/16474-2015-amazon</div></td>\n      <td><div class=\"not-number\">birdclef-2015/organized/wav/24692-2015-amazon</div></td>\n      <td><div class=\"not-number\">birdclef-2015/organized/wav/33277-2015-amazon</div></td>\n    </tr>\n    <tr>\n      <th>path</th>\n      <th>object</th>\n      <th>530.6 KiB</th>\n      <th>3320</th>\n      <th>3320</th>\n      <th>3320.0</th>\n      <th>NaN</th>\n      <th>NaN</th>\n      <td><div class=\"not-number\">birdclef-2015/organized/wav/00012-2014-amazon.wav</div></td>\n      <td><div class=\"not-number\">birdclef-2015/organized/wav/08341-2014-amazon.wav</div></td>\n      <td><div class=\"not-number\">birdclef-2015/organized/wav/16474-2015-amazon.wav</div></td>\n      <td><div class=\"not-number\">birdclef-2015/organized/wav/24692-2015-amazon.wav</div></td>\n      <td><div class=\"not-number\">birdclef-2015/organized/wav/33277-2015-amazon.wav</div></td>\n    </tr>\n    <tr>\n      <th>filesize_b</th>\n      <th>int64</th>\n      <th>211.9 KiB</th>\n      <th>3320</th>\n      <th>3320</th>\n      <th>3318.0</th>\n      <th>3.066e+06</th>\n      <th>3.231e+06</th>\n      <td>44694</td>\n      <td>1208636</td>\n      <td>2225586</td>\n      <td>3903192</td>\n      <td>65618752</td>\n    </tr>\n    <tr>\n      <th>feat</th>\n      <th>object</th>\n      <th>38.5 MiB</th>\n      <th>3320</th>\n      <th>3320</th>\n      <th>NaN</th>\n      <th>NaN</th>\n      <th>NaN</th>\n      <td>NaN</td>\n      <td>NaN</td>\n      <td>NaN</td>\n      <td>NaN</td>\n      <td>NaN</td>\n    </tr>\n  </tbody>\n</table>",
      "text/plain": "                                                                                                                          min                                                25%                                                50%                                                75%                                                max\n                 dtype    sizeof    len  count nunique mean      std                                                                                                                                                                                                                                                                     \ndataset          object   594.5 KiB 3320 3320  1.0     NaN       NaN                                            birdclef-2015                                      birdclef-2015                                      birdclef-2015                                      birdclef-2015                                      birdclef-2015\nspecies          category 189.3 KiB 3320 3320  1.0     NaN       NaN                                                     _UNK                                               _UNK                                               _UNK                                               _UNK                                               _UNK\nspecies_com_name category 189.3 KiB 3320 3320  1.0     NaN       NaN                                                  Unknown                                            Unknown                                            Unknown                                            Unknown                                            Unknown\nduration_s       float64  211.9 KiB 3320 3320  3316.0  3.476e+01 3.663e+01                                              0.506                                               13.7                                               25.2                                               44.3                                                744\nsamples_mb       float64  211.9 KiB 3320 3320  3316.0  1.462e+00 1.540e+00                                             0.0213                                              0.576                                               1.06                                               1.86                                               31.3\nsamples_n        int64    211.9 KiB 3320 3320  3316.0  7.664e+05 8.076e+05                                              11163                                             302148                                             556386                                             975787                                           16404677\nbasename         object   426.2 KiB 3320 3320  3320.0  NaN       NaN                                        00012-2014-amazon                                  08341-2014-amazon                                  16474-2015-amazon                                  24692-2015-amazon                                  33277-2015-amazon\nspecies_longhand category 189.4 KiB 3320 3320  1.0     NaN       NaN                                           Unknown - _UNK                                     Unknown - _UNK                                     Unknown - _UNK                                     Unknown - _UNK                                     Unknown - _UNK\nid               object   517.6 KiB 3320 3320  3320.0  NaN       NaN            birdclef-2015/organized/wav/00012-2014-amazon      birdclef-2015/organized/wav/08341-2014-amazon      birdclef-2015/organized/wav/16474-2015-amazon      birdclef-2015/organized/wav/24692-2015-amazon      birdclef-2015/organized/wav/33277-2015-amazon\npath             object   530.6 KiB 3320 3320  3320.0  NaN       NaN        birdclef-2015/organized/wav/00012-2014-amazon.wav  birdclef-2015/organized/wav/08341-2014-amazon.wav  birdclef-2015/organized/wav/16474-2015-amazon.wav  birdclef-2015/organized/wav/24692-2015-amazon.wav  birdclef-2015/organized/wav/33277-2015-amazon.wav\nfilesize_b       int64    211.9 KiB 3320 3320  3318.0  3.066e+06 3.231e+06                                              44694                                            1208636                                            2225586                                            3903192                                           65618752\nfeat             object   38.5 MiB  3320 3320  NaN     NaN       NaN                                                      NaN                                                NaN                                                NaN                                                NaN                                                NaN"
     },
     "execution_count": 22,
     "metadata": {},
     "output_type": "execute_result"
    }
   ],
   "source": [
    "df_summary(recs).T"
   ]
  },
  {
   "cell_type": "code",
   "execution_count": null,
   "metadata": {},
   "outputs": [
    {
     "data": {
      "text/html": "<div style=\"white-space: pre\">23949    (1500,)\n22621    (1500,)\n7795     (1500,)\n29069    (1500,)\n31947    (1500,)\n1882     (1500,)\n4128     (1500,)\n8438     (1500,)\n25012    (1500,)\n10168    (1500,)\nName: feat, dtype: object</div>",
      "text/plain": "23949    (1500,)\n22621    (1500,)\n7795     (1500,)\n29069    (1500,)\n31947    (1500,)\n1882     (1500,)\n4128     (1500,)\n8438     (1500,)\n25012    (1500,)\n10168    (1500,)\nName: feat, dtype: object"
     },
     "metadata": {},
     "output_type": "display_data",
     "transient": {}
    },
    {
     "data": {
      "text/html": "<div style=\"white-space: pre\">23949    [0.06331406909893861, -0.04964070270613392, -0.19131248028733425, -0.05824633627854145, -0.0234890567855365, -0.047526276340414085, 0.05807471691779061, -0.05800694005496489, 0.16503591515584703, ...\n22621    [0.042141750406272965, -0.08074065630429209, -0.03281943936089645, -0.023370947752462127, -0.024991005228055065, -0.11012978069028238, -0.026134645222657637, -0.014313489008350664, 0.0936649871631...\n7795     [0.03542259352817756, -0.06467540066504998, -0.1338321972752299, -0.048604736173224763, -0.052808958661699046, -0.1216442274584481, 0.03861972528229087, -0.07368314775001054, 0.057084450107732915,...\n29069    [-0.0527608431988142, -0.058531699163404685, -0.09129230601447097, -0.26304096043639535, -0.11491441396519753, -0.12470168093905273, -0.09494553642944675, -0.002355762970141453, 0.2753330935660243...\n31947    [0.016979301800376795, -0.07029390929782203, -0.024902013221959764, -0.08544627385359833, -0.0776335656720306, -0.1011209723311656, 0.03197187869602822, -0.05587345530940274, 0.10091512238575258, ...\n1882     [0.05550616643231118, -0.03519901266370513, -0.019293795270201523, -0.0354109395174347, -0.05321374931130233, 0.0023116204608399533, 0.06095776508442117, -0.047717688071486485, 0.00648224720333399...\n4128     [0.13534282883285711, -0.05536386093894452, -0.26039399284763026, -0.008527874984285155, -0.02191793989762187, -0.04522016202520316, 0.1040224402863438, 0.05886787188823713, 0.09950979271566598, -...\n8438     [0.03894124691596049, -0.12286858095619413, -0.10941534859890337, -0.07178473713253128, -0.14642008559388942, -0.17162744939188587, 0.007582474726178153, 0.36765842426072626, 0.027473735512101586,...\n25012    [0.015989996294293363, -0.07095293690526452, -0.17932717543355853, 0.03792351736090592, -0.01177335669671723, -0.0332569015095621, 0.08965888096206956, -0.08339860667403058, 0.07224692881628633, -...\n10168    [0.062358262261663425, -0.09501595563603349, -0.11856837350426165, -0.013375328525719331, -0.0311702746954676, -0.06245895055741846, 0.06778157581520124, -0.07539310515357862, 0.051207645146234305...\nName: feat, dtype: object</div>",
      "text/plain": "23949    [0.06331406909893861, -0.04964070270613392, -0.19131248028733425, -0.05824633627854145, -0.0234890567855365, -0.047526276340414085, 0.05807471691779061, -0.05800694005496489, 0.16503591515584703, ...\n22621    [0.042141750406272965, -0.08074065630429209, -0.03281943936089645, -0.023370947752462127, -0.024991005228055065, -0.11012978069028238, -0.026134645222657637, -0.014313489008350664, 0.0936649871631...\n7795     [0.03542259352817756, -0.06467540066504998, -0.1338321972752299, -0.048604736173224763, -0.052808958661699046, -0.1216442274584481, 0.03861972528229087, -0.07368314775001054, 0.057084450107732915,...\n29069    [-0.0527608431988142, -0.058531699163404685, -0.09129230601447097, -0.26304096043639535, -0.11491441396519753, -0.12470168093905273, -0.09494553642944675, -0.002355762970141453, 0.2753330935660243...\n31947    [0.016979301800376795, -0.07029390929782203, -0.024902013221959764, -0.08544627385359833, -0.0776335656720306, -0.1011209723311656, 0.03197187869602822, -0.05587345530940274, 0.10091512238575258, ...\n1882     [0.05550616643231118, -0.03519901266370513, -0.019293795270201523, -0.0354109395174347, -0.05321374931130233, 0.0023116204608399533, 0.06095776508442117, -0.047717688071486485, 0.00648224720333399...\n4128     [0.13534282883285711, -0.05536386093894452, -0.26039399284763026, -0.008527874984285155, -0.02191793989762187, -0.04522016202520316, 0.1040224402863438, 0.05886787188823713, 0.09950979271566598, -...\n8438     [0.03894124691596049, -0.12286858095619413, -0.10941534859890337, -0.07178473713253128, -0.14642008559388942, -0.17162744939188587, 0.007582474726178153, 0.36765842426072626, 0.027473735512101586,...\n25012    [0.015989996294293363, -0.07095293690526452, -0.17932717543355853, 0.03792351736090592, -0.01177335669671723, -0.0332569015095621, 0.08965888096206956, -0.08339860667403058, 0.07224692881628633, -...\n10168    [0.062358262261663425, -0.09501595563603349, -0.11856837350426165, -0.013375328525719331, -0.0311702746954676, -0.06245895055741846, 0.06778157581520124, -0.07539310515357862, 0.051207645146234305...\nName: feat, dtype: object"
     },
     "metadata": {},
     "output_type": "display_data",
     "transient": {}
    }
   ],
   "source": [
    "# We've got 3K feats!\n",
    "display(\n",
    "    recs[:10].feat.map(lambda x: x.shape),\n",
    "    recs[:10].feat,\n",
    ")"
   ]
  },
  {
   "cell_type": "code",
   "execution_count": null,
   "metadata": {},
   "outputs": [],
   "source": [
    "# TODO TODO Read metadata for birdclef\n",
    "# TODO TODO Eval classifiers"
   ]
  },
  {
   "cell_type": "code",
   "execution_count": null,
   "metadata": {},
   "outputs": [],
   "source": [
    "recs_eval = (recs\n",
    "    [lambda df: df.dataset == 'peterson-field-guide']\n",
    "    # [:10]  # Faster dev\n",
    "    .reset_index(drop=True)\n",
    ")\n",
    "train_n, test_n = (len(recs_eval)+1)//2, len(recs_eval)//2\n",
    "recs_train, recs_test = (recs_eval\n",
    "    .pipe(sklearn.utils.shuffle, random_state=0)\n",
    "    .sample(train_n + test_n, random_state=0)\n",
    "    .pipe(lambda df: (\n",
    "        df[:train_n],\n",
    "        df[train_n : train_n + test_n],\n",
    "    ))\n",
    ")\n",
    "log('params', **{\n",
    "    'recs_eval': len(recs_eval),\n",
    "    'recs_train': len(recs_train),\n",
    "    'recs_test': len(recs_test),\n",
    "})"
   ]
  },
  {
   "cell_type": "code",
   "execution_count": null,
   "metadata": {},
   "outputs": [],
   "source": [
    "%%time\n",
    "from sp14.model import *\n",
    "search = Search(\n",
    "    projection=projection,\n",
    "    # n_neighbors=3,\n",
    "    n_neighbors=5,\n",
    "    # n_neighbors=10,\n",
    ")\n",
    "search.fit(recs_train)"
   ]
  },
  {
   "cell_type": "markdown",
   "metadata": {},
   "source": [
    "# Eval search"
   ]
  },
  {
   "cell_type": "code",
   "execution_count": null,
   "metadata": {},
   "outputs": [],
   "source": [
    "(search.coverage_error(recs_test, by='species')\n",
    "    .pipe(lambda df: df_transform_cat(df, lambda _: df.sort_values('coverage_error').species, 'species'))\n",
    "    .pipe(ggplot, aes(x='species', y='coverage_error'))\n",
    "    + geom_point()\n",
    "    + coord_flip()\n",
    "    + geom_hline(yintercept=len(set(search.fit_classes_)), color='grey')\n",
    "    + theme_figsize('inline')\n",
    "    + ggtitle('Coverage error')\n",
    ")"
   ]
  },
  {
   "cell_type": "code",
   "execution_count": null,
   "metadata": {},
   "outputs": [],
   "source": [
    "%%time\n",
    "with with_figsize('full'):\n",
    "    search.plot_confusion_matrix(recs_test)"
   ]
  },
  {
   "cell_type": "code",
   "execution_count": null,
   "metadata": {},
   "outputs": [],
   "source": [
    "# Example usage\n",
    "# search.species(recs_test[:5])\n",
    "# search.species_probs(recs_test[:5]).T[:search.knn_.n_neighbors + 1].T\n",
    "# search.similar_recs(recs_test[:5], 10)"
   ]
  },
  {
   "cell_type": "code",
   "execution_count": null,
   "metadata": {},
   "outputs": [],
   "source": []
  }
 ],
 "metadata": {
  "kernelspec": {
   "display_name": "bubo-features (PYTHONSTARTUP)",
   "language": "python",
   "name": "bubo-features (PYTHONSTARTUP)"
  }
 },
 "nbformat": 4,
 "nbformat_minor": 2
}
