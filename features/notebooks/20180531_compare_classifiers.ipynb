{
 "cells": [
  {
   "cell_type": "code",
   "execution_count": null,
   "metadata": {},
   "outputs": [],
   "source": [
    "from notebooks import *"
   ]
  },
  {
   "cell_type": "code",
   "execution_count": null,
   "metadata": {},
   "outputs": [
    {
     "name": "stdout",
     "output_type": "stream",
     "text": "."
    }
   ],
   "source": [
    "load = Load()\n",
    "recs = recs if 'recs' in locals() else load.recs(\n",
    "    # limit=30,  # XXX Faster dev\n",
    "    datasets=[\n",
    "        'peterson-field-guide',\n",
    "        # 'recordings',\n",
    "    ],\n",
    ")\n",
    "display(\n",
    "    # df_summary(recs).T,\n",
    "    # df_summary(recs),\n",
    "    # recs[:5],\n",
    ")"
   ]
  },
  {
   "cell_type": "code",
   "execution_count": null,
   "metadata": {},
   "outputs": [],
   "source": [
    "# (recs\n",
    "#     .assign(species=lambda df: df.species_longhand)\n",
    "#     .assign(count=1)\n",
    "#     # 0-fill all (species, dataset) combinations to create empty placeholders for missing bars\n",
    "#     .pipe(lambda df: df.append(\n",
    "#         pd.DataFrame([\n",
    "#             dict(species=species, dataset=dataset, duration_s=0)\n",
    "#             for species in df.species.unique()\n",
    "#             for dataset in df.dataset.unique()\n",
    "#         ])\n",
    "#         .astype({'species': df.species.dtype})\n",
    "#     ))\n",
    "#     .groupby(['dataset', 'species'])[['count', 'duration_s']].sum().reset_index()\n",
    "#     .pipe(pd.melt, id_vars=['dataset', 'species'], value_vars=['count', 'duration_s'])\n",
    "#     .pipe(df_reverse_cat, 'species')\n",
    "#     .pipe(ggplot, aes(x='species', y='value', fill='dataset', color='dataset'))\n",
    "#     + coord_flip()\n",
    "#     + geom_bar(stat='identity', position=position_dodge(), width=.8)\n",
    "#     + facet_wrap('variable', nrow=1, scales='free')\n",
    "#     + xlab('')\n",
    "#     + ylab('')\n",
    "#     + scale_fill_cmap_d(mpl.cm.tab10)\n",
    "#     + scale_color_cmap_d(mpl.cm.tab10)\n",
    "#     + theme(panel_spacing=2.5)\n",
    "#     + theme_figsize(width=10, aspect_ratio=3/1)\n",
    "#     + ggtitle(f'recs: Total (count, duration_s) per (species, dataset)')\n",
    "# )"
   ]
  },
  {
   "cell_type": "code",
   "execution_count": null,
   "metadata": {},
   "outputs": [
    {
     "name": "stdout",
     "output_type": "stream",
     "text": "[18:31:27.241] Projection.load\n  path: /Users/danb/hack/bubo/data/models/projection/peterson-v0-26bae1c.pkl\n"
    }
   ],
   "source": [
    "# Load a saved projection model\n",
    "projection = Projection.load('peterson-v0-26bae1c', features=Features(load=load))"
   ]
  },
  {
   "cell_type": "code",
   "execution_count": null,
   "metadata": {},
   "outputs": [
    {
     "name": "stdout",
     "output_type": "stream",
     "text": "."
    },
    {
     "name": "stdout",
     "output_type": "stream",
     "text": "\r[                                                                                          ] | 0% Completed |  0.0s"
    },
    {
     "name": "stdout",
     "output_type": "stream",
     "text": "."
    },
    {
     "name": "stdout",
     "output_type": "stream",
     "text": "."
    },
    {
     "name": "stdout",
     "output_type": "stream",
     "text": "."
    },
    {
     "name": "stdout",
     "output_type": "stream",
     "text": "."
    },
    {
     "name": "stdout",
     "output_type": "stream",
     "text": "."
    },
    {
     "name": "stdout",
     "output_type": "stream",
     "text": "."
    },
    {
     "name": "stdout",
     "output_type": "stream",
     "text": "."
    },
    {
     "name": "stdout",
     "output_type": "stream",
     "text": "."
    },
    {
     "name": "stdout",
     "output_type": "stream",
     "text": "."
    },
    {
     "name": "stdout",
     "output_type": "stream",
     "text": "."
    },
    {
     "name": "stdout",
     "output_type": "stream",
     "text": "."
    },
    {
     "name": "stdout",
     "output_type": "stream",
     "text": ".."
    },
    {
     "name": "stdout",
     "output_type": "stream",
     "text": "."
    },
    {
     "name": "stdout",
     "output_type": "stream",
     "text": "."
    },
    {
     "name": "stdout",
     "output_type": "stream",
     "text": "."
    },
    {
     "name": "stdout",
     "output_type": "stream",
     "text": "."
    },
    {
     "name": "stdout",
     "output_type": "stream",
     "text": "."
    },
    {
     "name": "stdout",
     "output_type": "stream",
     "text": "."
    },
    {
     "name": "stdout",
     "output_type": "stream",
     "text": ".."
    },
    {
     "name": "stdout",
     "output_type": "stream",
     "text": "."
    },
    {
     "name": "stdout",
     "output_type": "stream",
     "text": ".."
    },
    {
     "name": "stdout",
     "output_type": "stream",
     "text": "."
    },
    {
     "name": "stdout",
     "output_type": "stream",
     "text": "."
    },
    {
     "name": "stdout",
     "output_type": "stream",
     "text": ".."
    },
    {
     "name": "stdout",
     "output_type": "stream",
     "text": "."
    },
    {
     "name": "stdout",
     "output_type": "stream",
     "text": ".."
    },
    {
     "name": "stdout",
     "output_type": "stream",
     "text": "."
    },
    {
     "name": "stdout",
     "output_type": "stream",
     "text": "."
    },
    {
     "name": "stdout",
     "output_type": "stream",
     "text": "."
    },
    {
     "name": "stdout",
     "output_type": "stream",
     "text": "."
    },
    {
     "name": "stdout",
     "output_type": "stream",
     "text": "..."
    },
    {
     "name": "stdout",
     "output_type": "stream",
     "text": "."
    },
    {
     "name": "stdout",
     "output_type": "stream",
     "text": "."
    },
    {
     "name": "stdout",
     "output_type": "stream",
     "text": "\r[                                                                                          ] | 0% Completed |  0.1s"
    },
    {
     "name": "stdout",
     "output_type": "stream",
     "text": "."
    },
    {
     "name": "stdout",
     "output_type": "stream",
     "text": "."
    },
    {
     "name": "stdout",
     "output_type": "stream",
     "text": "."
    },
    {
     "name": "stdout",
     "output_type": "stream",
     "text": "..."
    },
    {
     "name": "stdout",
     "output_type": "stream",
     "text": "."
    },
    {
     "name": "stdout",
     "output_type": "stream",
     "text": ".."
    },
    {
     "name": "stdout",
     "output_type": "stream",
     "text": "."
    },
    {
     "name": "stdout",
     "output_type": "stream",
     "text": "."
    },
    {
     "name": "stdout",
     "output_type": "stream",
     "text": "."
    },
    {
     "name": "stdout",
     "output_type": "stream",
     "text": "."
    },
    {
     "name": "stdout",
     "output_type": "stream",
     "text": "."
    },
    {
     "name": "stdout",
     "output_type": "stream",
     "text": "."
    },
    {
     "name": "stdout",
     "output_type": "stream",
     "text": "."
    },
    {
     "name": "stdout",
     "output_type": "stream",
     "text": "."
    },
    {
     "name": "stdout",
     "output_type": "stream",
     "text": "."
    },
    {
     "name": "stdout",
     "output_type": "stream",
     "text": "."
    },
    {
     "name": "stdout",
     "output_type": "stream",
     "text": "."
    },
    {
     "name": "stdout",
     "output_type": "stream",
     "text": ".."
    },
    {
     "name": "stdout",
     "output_type": "stream",
     "text": "."
    },
    {
     "name": "stdout",
     "output_type": "stream",
     "text": "."
    },
    {
     "name": "stdout",
     "output_type": "stream",
     "text": ".."
    },
    {
     "name": "stdout",
     "output_type": "stream",
     "text": "."
    },
    {
     "name": "stdout",
     "output_type": "stream",
     "text": ".."
    },
    {
     "name": "stdout",
     "output_type": "stream",
     "text": "."
    },
    {
     "name": "stdout",
     "output_type": "stream",
     "text": "."
    },
    {
     "name": "stdout",
     "output_type": "stream",
     "text": ".."
    },
    {
     "name": "stdout",
     "output_type": "stream",
     "text": "."
    },
    {
     "name": "stdout",
     "output_type": "stream",
     "text": "."
    },
    {
     "name": "stdout",
     "output_type": "stream",
     "text": ".."
    },
    {
     "name": "stdout",
     "output_type": "stream",
     "text": "."
    },
    {
     "name": "stdout",
     "output_type": "stream",
     "text": "."
    },
    {
     "name": "stdout",
     "output_type": "stream",
     "text": "."
    },
    {
     "name": "stdout",
     "output_type": "stream",
     "text": "."
    },
    {
     "name": "stdout",
     "output_type": "stream",
     "text": "."
    },
    {
     "name": "stdout",
     "output_type": "stream",
     "text": "."
    },
    {
     "name": "stdout",
     "output_type": "stream",
     "text": ".."
    },
    {
     "name": "stdout",
     "output_type": "stream",
     "text": ".."
    },
    {
     "name": "stdout",
     "output_type": "stream",
     "text": "."
    },
    {
     "name": "stdout",
     "output_type": "stream",
     "text": "."
    },
    {
     "name": "stdout",
     "output_type": "stream",
     "text": "."
    },
    {
     "name": "stdout",
     "output_type": "stream",
     "text": "..."
    },
    {
     "name": "stdout",
     "output_type": "stream",
     "text": "..."
    },
    {
     "name": "stdout",
     "output_type": "stream",
     "text": "\r[                                                                                          ] | 0% Completed |  0.2s"
    },
    {
     "name": "stdout",
     "output_type": "stream",
     "text": "."
    },
    {
     "name": "stdout",
     "output_type": "stream",
     "text": "."
    },
    {
     "name": "stdout",
     "output_type": "stream",
     "text": ".."
    },
    {
     "name": "stdout",
     "output_type": "stream",
     "text": "."
    },
    {
     "name": "stdout",
     "output_type": "stream",
     "text": "."
    },
    {
     "name": "stdout",
     "output_type": "stream",
     "text": "."
    },
    {
     "name": "stdout",
     "output_type": "stream",
     "text": "."
    },
    {
     "name": "stdout",
     "output_type": "stream",
     "text": "."
    },
    {
     "name": "stdout",
     "output_type": "stream",
     "text": "."
    },
    {
     "name": "stdout",
     "output_type": "stream",
     "text": "."
    },
    {
     "name": "stdout",
     "output_type": "stream",
     "text": "."
    },
    {
     "name": "stdout",
     "output_type": "stream",
     "text": "."
    },
    {
     "name": "stdout",
     "output_type": "stream",
     "text": "."
    },
    {
     "name": "stdout",
     "output_type": "stream",
     "text": "."
    },
    {
     "name": "stdout",
     "output_type": "stream",
     "text": "."
    },
    {
     "name": "stdout",
     "output_type": "stream",
     "text": "."
    },
    {
     "name": "stdout",
     "output_type": "stream",
     "text": "."
    },
    {
     "name": "stdout",
     "output_type": "stream",
     "text": ".."
    },
    {
     "name": "stdout",
     "output_type": "stream",
     "text": "."
    },
    {
     "name": "stdout",
     "output_type": "stream",
     "text": "."
    },
    {
     "name": "stdout",
     "output_type": "stream",
     "text": "."
    },
    {
     "name": "stdout",
     "output_type": "stream",
     "text": "."
    },
    {
     "name": "stdout",
     "output_type": "stream",
     "text": "."
    },
    {
     "name": "stdout",
     "output_type": "stream",
     "text": "."
    },
    {
     "name": "stdout",
     "output_type": "stream",
     "text": "."
    },
    {
     "name": "stdout",
     "output_type": "stream",
     "text": ".."
    },
    {
     "name": "stdout",
     "output_type": "stream",
     "text": "."
    },
    {
     "name": "stdout",
     "output_type": "stream",
     "text": "."
    },
    {
     "name": "stdout",
     "output_type": "stream",
     "text": "."
    },
    {
     "name": "stdout",
     "output_type": "stream",
     "text": "."
    },
    {
     "name": "stdout",
     "output_type": "stream",
     "text": "."
    },
    {
     "name": "stdout",
     "output_type": "stream",
     "text": ".."
    },
    {
     "name": "stdout",
     "output_type": "stream",
     "text": "."
    },
    {
     "name": "stdout",
     "output_type": "stream",
     "text": "."
    },
    {
     "name": "stdout",
     "output_type": "stream",
     "text": "."
    },
    {
     "name": "stdout",
     "output_type": "stream",
     "text": "."
    },
    {
     "name": "stdout",
     "output_type": "stream",
     "text": "."
    },
    {
     "name": "stdout",
     "output_type": "stream",
     "text": "."
    },
    {
     "name": "stdout",
     "output_type": "stream",
     "text": "."
    },
    {
     "name": "stdout",
     "output_type": "stream",
     "text": "."
    },
    {
     "name": "stdout",
     "output_type": "stream",
     "text": "."
    },
    {
     "name": "stdout",
     "output_type": "stream",
     "text": "."
    },
    {
     "name": "stdout",
     "output_type": "stream",
     "text": "."
    },
    {
     "name": "stdout",
     "output_type": "stream",
     "text": "."
    },
    {
     "name": "stdout",
     "output_type": "stream",
     "text": "."
    },
    {
     "name": "stdout",
     "output_type": "stream",
     "text": ".."
    },
    {
     "name": "stdout",
     "output_type": "stream",
     "text": "."
    },
    {
     "name": "stdout",
     "output_type": "stream",
     "text": "\r[##################                                                                        ] | 20% Completed |  0.3s"
    },
    {
     "name": "stdout",
     "output_type": "stream",
     "text": ".."
    },
    {
     "name": "stdout",
     "output_type": "stream",
     "text": "."
    },
    {
     "name": "stdout",
     "output_type": "stream",
     "text": "."
    },
    {
     "name": "stdout",
     "output_type": "stream",
     "text": "."
    },
    {
     "name": "stdout",
     "output_type": "stream",
     "text": "."
    },
    {
     "name": "stdout",
     "output_type": "stream",
     "text": "."
    },
    {
     "name": "stdout",
     "output_type": "stream",
     "text": "."
    },
    {
     "name": "stdout",
     "output_type": "stream",
     "text": "."
    },
    {
     "name": "stdout",
     "output_type": "stream",
     "text": "."
    },
    {
     "name": "stdout",
     "output_type": "stream",
     "text": ".."
    },
    {
     "name": "stdout",
     "output_type": "stream",
     "text": "."
    },
    {
     "name": "stdout",
     "output_type": "stream",
     "text": "."
    },
    {
     "name": "stdout",
     "output_type": "stream",
     "text": "."
    },
    {
     "name": "stdout",
     "output_type": "stream",
     "text": "."
    },
    {
     "name": "stdout",
     "output_type": "stream",
     "text": "."
    },
    {
     "name": "stdout",
     "output_type": "stream",
     "text": "."
    },
    {
     "name": "stdout",
     "output_type": "stream",
     "text": "."
    },
    {
     "name": "stdout",
     "output_type": "stream",
     "text": "."
    },
    {
     "name": "stdout",
     "output_type": "stream",
     "text": "."
    },
    {
     "name": "stdout",
     "output_type": "stream",
     "text": ".."
    },
    {
     "name": "stdout",
     "output_type": "stream",
     "text": "."
    },
    {
     "name": "stdout",
     "output_type": "stream",
     "text": ".."
    },
    {
     "name": "stdout",
     "output_type": "stream",
     "text": "."
    },
    {
     "name": "stdout",
     "output_type": "stream",
     "text": "."
    },
    {
     "name": "stdout",
     "output_type": "stream",
     "text": ".."
    },
    {
     "name": "stdout",
     "output_type": "stream",
     "text": "."
    },
    {
     "name": "stdout",
     "output_type": "stream",
     "text": "."
    },
    {
     "name": "stdout",
     "output_type": "stream",
     "text": "."
    },
    {
     "name": "stdout",
     "output_type": "stream",
     "text": ".."
    },
    {
     "name": "stdout",
     "output_type": "stream",
     "text": "."
    },
    {
     "name": "stdout",
     "output_type": "stream",
     "text": "."
    },
    {
     "name": "stdout",
     "output_type": "stream",
     "text": "."
    },
    {
     "name": "stdout",
     "output_type": "stream",
     "text": ".."
    },
    {
     "name": "stdout",
     "output_type": "stream",
     "text": ".."
    },
    {
     "name": "stdout",
     "output_type": "stream",
     "text": "."
    },
    {
     "name": "stdout",
     "output_type": "stream",
     "text": "."
    },
    {
     "name": "stdout",
     "output_type": "stream",
     "text": "."
    },
    {
     "name": "stdout",
     "output_type": "stream",
     "text": "."
    },
    {
     "name": "stdout",
     "output_type": "stream",
     "text": "."
    },
    {
     "name": "stdout",
     "output_type": "stream",
     "text": "."
    },
    {
     "name": "stdout",
     "output_type": "stream",
     "text": ".."
    },
    {
     "name": "stdout",
     "output_type": "stream",
     "text": ".."
    },
    {
     "name": "stdout",
     "output_type": "stream",
     "text": "\r[##################                                                                        ] | 20% Completed |  0.4s"
    },
    {
     "name": "stdout",
     "output_type": "stream",
     "text": "."
    },
    {
     "name": "stdout",
     "output_type": "stream",
     "text": "."
    },
    {
     "name": "stdout",
     "output_type": "stream",
     "text": "."
    },
    {
     "name": "stdout",
     "output_type": "stream",
     "text": "."
    },
    {
     "name": "stdout",
     "output_type": "stream",
     "text": "."
    },
    {
     "name": "stdout",
     "output_type": "stream",
     "text": ".."
    },
    {
     "name": "stdout",
     "output_type": "stream",
     "text": "."
    },
    {
     "name": "stdout",
     "output_type": "stream",
     "text": "."
    },
    {
     "name": "stdout",
     "output_type": "stream",
     "text": "."
    },
    {
     "name": "stdout",
     "output_type": "stream",
     "text": "."
    },
    {
     "name": "stdout",
     "output_type": "stream",
     "text": "."
    },
    {
     "name": "stdout",
     "output_type": "stream",
     "text": "..."
    },
    {
     "name": "stdout",
     "output_type": "stream",
     "text": "."
    },
    {
     "name": "stdout",
     "output_type": "stream",
     "text": "."
    },
    {
     "name": "stdout",
     "output_type": "stream",
     "text": "."
    },
    {
     "name": "stdout",
     "output_type": "stream",
     "text": "."
    },
    {
     "name": "stdout",
     "output_type": "stream",
     "text": "."
    },
    {
     "name": "stdout",
     "output_type": "stream",
     "text": ".."
    },
    {
     "name": "stdout",
     "output_type": "stream",
     "text": "."
    },
    {
     "name": "stdout",
     "output_type": "stream",
     "text": "."
    },
    {
     "name": "stdout",
     "output_type": "stream",
     "text": "."
    },
    {
     "name": "stdout",
     "output_type": "stream",
     "text": "."
    },
    {
     "name": "stdout",
     "output_type": "stream",
     "text": "."
    },
    {
     "name": "stdout",
     "output_type": "stream",
     "text": "."
    },
    {
     "name": "stdout",
     "output_type": "stream",
     "text": "."
    },
    {
     "name": "stdout",
     "output_type": "stream",
     "text": ".."
    },
    {
     "name": "stdout",
     "output_type": "stream",
     "text": "."
    },
    {
     "name": "stdout",
     "output_type": "stream",
     "text": "."
    },
    {
     "name": "stdout",
     "output_type": "stream",
     "text": "."
    },
    {
     "name": "stdout",
     "output_type": "stream",
     "text": "."
    },
    {
     "name": "stdout",
     "output_type": "stream",
     "text": "."
    },
    {
     "name": "stdout",
     "output_type": "stream",
     "text": "."
    },
    {
     "name": "stdout",
     "output_type": "stream",
     "text": "..."
    },
    {
     "name": "stdout",
     "output_type": "stream",
     "text": "."
    },
    {
     "name": "stdout",
     "output_type": "stream",
     "text": "."
    },
    {
     "name": "stdout",
     "output_type": "stream",
     "text": "\r[####################################                                                      ] | 41% Completed |  0.5s"
    },
    {
     "name": "stdout",
     "output_type": "stream",
     "text": "."
    },
    {
     "name": "stdout",
     "output_type": "stream",
     "text": "."
    },
    {
     "name": "stdout",
     "output_type": "stream",
     "text": "."
    },
    {
     "name": "stdout",
     "output_type": "stream",
     "text": "."
    },
    {
     "name": "stdout",
     "output_type": "stream",
     "text": ".."
    },
    {
     "name": "stdout",
     "output_type": "stream",
     "text": "."
    },
    {
     "name": "stdout",
     "output_type": "stream",
     "text": ".."
    },
    {
     "name": "stdout",
     "output_type": "stream",
     "text": "."
    },
    {
     "name": "stdout",
     "output_type": "stream",
     "text": "."
    },
    {
     "name": "stdout",
     "output_type": "stream",
     "text": "..."
    },
    {
     "name": "stdout",
     "output_type": "stream",
     "text": ".."
    },
    {
     "name": "stdout",
     "output_type": "stream",
     "text": ".."
    },
    {
     "name": "stdout",
     "output_type": "stream",
     "text": "."
    },
    {
     "name": "stdout",
     "output_type": "stream",
     "text": ".."
    },
    {
     "name": "stdout",
     "output_type": "stream",
     "text": "."
    },
    {
     "name": "stdout",
     "output_type": "stream",
     "text": ".."
    },
    {
     "name": "stdout",
     "output_type": "stream",
     "text": ".."
    },
    {
     "name": "stdout",
     "output_type": "stream",
     "text": "."
    },
    {
     "name": "stdout",
     "output_type": "stream",
     "text": "."
    },
    {
     "name": "stdout",
     "output_type": "stream",
     "text": "."
    },
    {
     "name": "stdout",
     "output_type": "stream",
     "text": "."
    },
    {
     "name": "stdout",
     "output_type": "stream",
     "text": "."
    },
    {
     "name": "stdout",
     "output_type": "stream",
     "text": "."
    },
    {
     "name": "stdout",
     "output_type": "stream",
     "text": "."
    },
    {
     "name": "stdout",
     "output_type": "stream",
     "text": "."
    },
    {
     "name": "stdout",
     "output_type": "stream",
     "text": "."
    },
    {
     "name": "stdout",
     "output_type": "stream",
     "text": "."
    },
    {
     "name": "stdout",
     "output_type": "stream",
     "text": ".."
    },
    {
     "name": "stdout",
     "output_type": "stream",
     "text": "."
    },
    {
     "name": "stdout",
     "output_type": "stream",
     "text": "."
    },
    {
     "name": "stdout",
     "output_type": "stream",
     "text": "."
    },
    {
     "name": "stdout",
     "output_type": "stream",
     "text": "."
    },
    {
     "name": "stdout",
     "output_type": "stream",
     "text": "."
    },
    {
     "name": "stdout",
     "output_type": "stream",
     "text": "."
    },
    {
     "name": "stdout",
     "output_type": "stream",
     "text": "."
    },
    {
     "name": "stdout",
     "output_type": "stream",
     "text": "\r[####################################                                                      ] | 41% Completed |  0.6s."
    },
    {
     "name": "stdout",
     "output_type": "stream",
     "text": "."
    },
    {
     "name": "stdout",
     "output_type": "stream",
     "text": "."
    },
    {
     "name": "stdout",
     "output_type": "stream",
     "text": "."
    },
    {
     "name": "stdout",
     "output_type": "stream",
     "text": "."
    },
    {
     "name": "stdout",
     "output_type": "stream",
     "text": "."
    },
    {
     "name": "stdout",
     "output_type": "stream",
     "text": "."
    },
    {
     "name": "stdout",
     "output_type": "stream",
     "text": "."
    },
    {
     "name": "stdout",
     "output_type": "stream",
     "text": "."
    },
    {
     "name": "stdout",
     "output_type": "stream",
     "text": "."
    },
    {
     "name": "stdout",
     "output_type": "stream",
     "text": "."
    },
    {
     "name": "stdout",
     "output_type": "stream",
     "text": "."
    },
    {
     "name": "stdout",
     "output_type": "stream",
     "text": "."
    },
    {
     "name": "stdout",
     "output_type": "stream",
     "text": "."
    },
    {
     "name": "stdout",
     "output_type": "stream",
     "text": "."
    },
    {
     "name": "stdout",
     "output_type": "stream",
     "text": "."
    },
    {
     "name": "stdout",
     "output_type": "stream",
     "text": ".."
    },
    {
     "name": "stdout",
     "output_type": "stream",
     "text": "."
    },
    {
     "name": "stdout",
     "output_type": "stream",
     "text": "."
    },
    {
     "name": "stdout",
     "output_type": "stream",
     "text": "."
    },
    {
     "name": "stdout",
     "output_type": "stream",
     "text": "."
    },
    {
     "name": "stdout",
     "output_type": "stream",
     "text": ".."
    },
    {
     "name": "stdout",
     "output_type": "stream",
     "text": "."
    },
    {
     "name": "stdout",
     "output_type": "stream",
     "text": "."
    },
    {
     "name": "stdout",
     "output_type": "stream",
     "text": ".."
    },
    {
     "name": "stdout",
     "output_type": "stream",
     "text": ".."
    },
    {
     "name": "stdout",
     "output_type": "stream",
     "text": "."
    },
    {
     "name": "stdout",
     "output_type": "stream",
     "text": "."
    },
    {
     "name": "stdout",
     "output_type": "stream",
     "text": "."
    },
    {
     "name": "stdout",
     "output_type": "stream",
     "text": "."
    },
    {
     "name": "stdout",
     "output_type": "stream",
     "text": ".."
    },
    {
     "name": "stdout",
     "output_type": "stream",
     "text": "."
    },
    {
     "name": "stdout",
     "output_type": "stream",
     "text": "."
    },
    {
     "name": "stdout",
     "output_type": "stream",
     "text": "."
    },
    {
     "name": "stdout",
     "output_type": "stream",
     "text": "."
    },
    {
     "name": "stdout",
     "output_type": "stream",
     "text": ".."
    },
    {
     "name": "stdout",
     "output_type": "stream",
     "text": "."
    },
    {
     "name": "stdout",
     "output_type": "stream",
     "text": "."
    },
    {
     "name": "stdout",
     "output_type": "stream",
     "text": "."
    },
    {
     "name": "stdout",
     "output_type": "stream",
     "text": "."
    },
    {
     "name": "stdout",
     "output_type": "stream",
     "text": "."
    },
    {
     "name": "stdout",
     "output_type": "stream",
     "text": "."
    },
    {
     "name": "stdout",
     "output_type": "stream",
     "text": "."
    },
    {
     "name": "stdout",
     "output_type": "stream",
     "text": "..\r[###############################################                                           ] | 52% Completed |  0.7s"
    },
    {
     "name": "stdout",
     "output_type": "stream",
     "text": "."
    },
    {
     "name": "stdout",
     "output_type": "stream",
     "text": "."
    },
    {
     "name": "stdout",
     "output_type": "stream",
     "text": "."
    },
    {
     "name": "stdout",
     "output_type": "stream",
     "text": "."
    },
    {
     "name": "stdout",
     "output_type": "stream",
     "text": "."
    },
    {
     "name": "stdout",
     "output_type": "stream",
     "text": "."
    },
    {
     "name": "stdout",
     "output_type": "stream",
     "text": "."
    },
    {
     "name": "stdout",
     "output_type": "stream",
     "text": "."
    },
    {
     "name": "stdout",
     "output_type": "stream",
     "text": ".."
    },
    {
     "name": "stdout",
     "output_type": "stream",
     "text": "."
    },
    {
     "name": "stdout",
     "output_type": "stream",
     "text": "."
    },
    {
     "name": "stdout",
     "output_type": "stream",
     "text": "."
    },
    {
     "name": "stdout",
     "output_type": "stream",
     "text": "..."
    },
    {
     "name": "stdout",
     "output_type": "stream",
     "text": "."
    },
    {
     "name": "stdout",
     "output_type": "stream",
     "text": "."
    },
    {
     "name": "stdout",
     "output_type": "stream",
     "text": ".."
    },
    {
     "name": "stdout",
     "output_type": "stream",
     "text": "."
    },
    {
     "name": "stdout",
     "output_type": "stream",
     "text": ".."
    },
    {
     "name": "stdout",
     "output_type": "stream",
     "text": "."
    },
    {
     "name": "stdout",
     "output_type": "stream",
     "text": "."
    },
    {
     "name": "stdout",
     "output_type": "stream",
     "text": "."
    },
    {
     "name": "stdout",
     "output_type": "stream",
     "text": "."
    },
    {
     "name": "stdout",
     "output_type": "stream",
     "text": "."
    },
    {
     "name": "stdout",
     "output_type": "stream",
     "text": "."
    },
    {
     "name": "stdout",
     "output_type": "stream",
     "text": "."
    },
    {
     "name": "stdout",
     "output_type": "stream",
     "text": ".."
    },
    {
     "name": "stdout",
     "output_type": "stream",
     "text": "."
    },
    {
     "name": "stdout",
     "output_type": "stream",
     "text": "."
    },
    {
     "name": "stdout",
     "output_type": "stream",
     "text": ".."
    },
    {
     "name": "stdout",
     "output_type": "stream",
     "text": "."
    },
    {
     "name": "stdout",
     "output_type": "stream",
     "text": "."
    },
    {
     "name": "stdout",
     "output_type": "stream",
     "text": "."
    },
    {
     "name": "stdout",
     "output_type": "stream",
     "text": "."
    },
    {
     "name": "stdout",
     "output_type": "stream",
     "text": "."
    },
    {
     "name": "stdout",
     "output_type": "stream",
     "text": "."
    },
    {
     "name": "stdout",
     "output_type": "stream",
     "text": "."
    },
    {
     "name": "stdout",
     "output_type": "stream",
     "text": ".."
    },
    {
     "name": "stdout",
     "output_type": "stream",
     "text": "."
    },
    {
     "name": "stdout",
     "output_type": "stream",
     "text": "..."
    },
    {
     "name": "stdout",
     "output_type": "stream",
     "text": "."
    },
    {
     "name": "stdout",
     "output_type": "stream",
     "text": "."
    },
    {
     "name": "stdout",
     "output_type": "stream",
     "text": "."
    },
    {
     "name": "stdout",
     "output_type": "stream",
     "text": "\r[#######################################################                                   ] | 61% Completed |  0.8s"
    },
    {
     "name": "stdout",
     "output_type": "stream",
     "text": "."
    },
    {
     "name": "stdout",
     "output_type": "stream",
     "text": ".."
    },
    {
     "name": "stdout",
     "output_type": "stream",
     "text": "."
    },
    {
     "name": "stdout",
     "output_type": "stream",
     "text": "."
    },
    {
     "name": "stdout",
     "output_type": "stream",
     "text": "."
    },
    {
     "name": "stdout",
     "output_type": "stream",
     "text": "."
    },
    {
     "name": "stdout",
     "output_type": "stream",
     "text": "."
    },
    {
     "name": "stdout",
     "output_type": "stream",
     "text": "."
    },
    {
     "name": "stdout",
     "output_type": "stream",
     "text": "."
    },
    {
     "name": "stdout",
     "output_type": "stream",
     "text": "."
    },
    {
     "name": "stdout",
     "output_type": "stream",
     "text": "."
    },
    {
     "name": "stdout",
     "output_type": "stream",
     "text": "."
    },
    {
     "name": "stdout",
     "output_type": "stream",
     "text": "."
    },
    {
     "name": "stdout",
     "output_type": "stream",
     "text": "."
    },
    {
     "name": "stdout",
     "output_type": "stream",
     "text": ".."
    },
    {
     "name": "stdout",
     "output_type": "stream",
     "text": "."
    },
    {
     "name": "stdout",
     "output_type": "stream",
     "text": "."
    },
    {
     "name": "stdout",
     "output_type": "stream",
     "text": "."
    },
    {
     "name": "stdout",
     "output_type": "stream",
     "text": "."
    },
    {
     "name": "stdout",
     "output_type": "stream",
     "text": "."
    },
    {
     "name": "stdout",
     "output_type": "stream",
     "text": ".."
    },
    {
     "name": "stdout",
     "output_type": "stream",
     "text": "."
    },
    {
     "name": "stdout",
     "output_type": "stream",
     "text": "."
    },
    {
     "name": "stdout",
     "output_type": "stream",
     "text": "."
    },
    {
     "name": "stdout",
     "output_type": "stream",
     "text": "."
    },
    {
     "name": "stdout",
     "output_type": "stream",
     "text": "."
    },
    {
     "name": "stdout",
     "output_type": "stream",
     "text": "."
    },
    {
     "name": "stdout",
     "output_type": "stream",
     "text": "."
    },
    {
     "name": "stdout",
     "output_type": "stream",
     "text": ".."
    },
    {
     "name": "stdout",
     "output_type": "stream",
     "text": "."
    },
    {
     "name": "stdout",
     "output_type": "stream",
     "text": "."
    },
    {
     "name": "stdout",
     "output_type": "stream",
     "text": "."
    },
    {
     "name": "stdout",
     "output_type": "stream",
     "text": "."
    },
    {
     "name": "stdout",
     "output_type": "stream",
     "text": "."
    },
    {
     "name": "stdout",
     "output_type": "stream",
     "text": "."
    },
    {
     "name": "stdout",
     "output_type": "stream",
     "text": "."
    },
    {
     "name": "stdout",
     "output_type": "stream",
     "text": "."
    },
    {
     "name": "stdout",
     "output_type": "stream",
     "text": "."
    },
    {
     "name": "stdout",
     "output_type": "stream",
     "text": "."
    },
    {
     "name": "stdout",
     "output_type": "stream",
     "text": "."
    },
    {
     "name": "stdout",
     "output_type": "stream",
     "text": "."
    },
    {
     "name": "stdout",
     "output_type": "stream",
     "text": "."
    },
    {
     "name": "stdout",
     "output_type": "stream",
     "text": "."
    },
    {
     "name": "stdout",
     "output_type": "stream",
     "text": ".."
    },
    {
     "name": "stdout",
     "output_type": "stream",
     "text": "."
    },
    {
     "name": "stdout",
     "output_type": "stream",
     "text": ".."
    },
    {
     "name": "stdout",
     "output_type": "stream",
     "text": ".."
    },
    {
     "name": "stdout",
     "output_type": "stream",
     "text": "\r[##########################################################                                ] | 65% Completed |  1.0s"
    },
    {
     "name": "stdout",
     "output_type": "stream",
     "text": "."
    },
    {
     "name": "stdout",
     "output_type": "stream",
     "text": "."
    },
    {
     "name": "stdout",
     "output_type": "stream",
     "text": "."
    },
    {
     "name": "stdout",
     "output_type": "stream",
     "text": "."
    },
    {
     "name": "stdout",
     "output_type": "stream",
     "text": "."
    },
    {
     "name": "stdout",
     "output_type": "stream",
     "text": "."
    },
    {
     "name": "stdout",
     "output_type": "stream",
     "text": "."
    },
    {
     "name": "stdout",
     "output_type": "stream",
     "text": "."
    },
    {
     "name": "stdout",
     "output_type": "stream",
     "text": "."
    },
    {
     "name": "stdout",
     "output_type": "stream",
     "text": "."
    },
    {
     "name": "stdout",
     "output_type": "stream",
     "text": ".."
    },
    {
     "name": "stdout",
     "output_type": "stream",
     "text": "."
    },
    {
     "name": "stdout",
     "output_type": "stream",
     "text": "."
    },
    {
     "name": "stdout",
     "output_type": "stream",
     "text": "."
    },
    {
     "name": "stdout",
     "output_type": "stream",
     "text": ".."
    },
    {
     "name": "stdout",
     "output_type": "stream",
     "text": "."
    },
    {
     "name": "stdout",
     "output_type": "stream",
     "text": "."
    },
    {
     "name": "stdout",
     "output_type": "stream",
     "text": "."
    },
    {
     "name": "stdout",
     "output_type": "stream",
     "text": "."
    },
    {
     "name": "stdout",
     "output_type": "stream",
     "text": "."
    },
    {
     "name": "stdout",
     "output_type": "stream",
     "text": "."
    },
    {
     "name": "stdout",
     "output_type": "stream",
     "text": "."
    },
    {
     "name": "stdout",
     "output_type": "stream",
     "text": "."
    },
    {
     "name": "stdout",
     "output_type": "stream",
     "text": "."
    },
    {
     "name": "stdout",
     "output_type": "stream",
     "text": "."
    },
    {
     "name": "stdout",
     "output_type": "stream",
     "text": "."
    },
    {
     "name": "stdout",
     "output_type": "stream",
     "text": "."
    },
    {
     "name": "stdout",
     "output_type": "stream",
     "text": "."
    },
    {
     "name": "stdout",
     "output_type": "stream",
     "text": ".."
    },
    {
     "name": "stdout",
     "output_type": "stream",
     "text": "."
    },
    {
     "name": "stdout",
     "output_type": "stream",
     "text": ".."
    },
    {
     "name": "stdout",
     "output_type": "stream",
     "text": "."
    },
    {
     "name": "stdout",
     "output_type": "stream",
     "text": "."
    },
    {
     "name": "stdout",
     "output_type": "stream",
     "text": "."
    },
    {
     "name": "stdout",
     "output_type": "stream",
     "text": ".."
    },
    {
     "name": "stdout",
     "output_type": "stream",
     "text": "."
    },
    {
     "name": "stdout",
     "output_type": "stream",
     "text": "."
    },
    {
     "name": "stdout",
     "output_type": "stream",
     "text": ".."
    },
    {
     "name": "stdout",
     "output_type": "stream",
     "text": "..."
    },
    {
     "name": "stdout",
     "output_type": "stream",
     "text": "."
    },
    {
     "name": "stdout",
     "output_type": "stream",
     "text": "\r[############################################################################              ] | 84% Completed |  1.1s."
    },
    {
     "name": "stdout",
     "output_type": "stream",
     "text": "."
    },
    {
     "name": "stdout",
     "output_type": "stream",
     "text": "."
    },
    {
     "name": "stdout",
     "output_type": "stream",
     "text": "."
    },
    {
     "name": "stdout",
     "output_type": "stream",
     "text": "."
    },
    {
     "name": "stdout",
     "output_type": "stream",
     "text": "."
    },
    {
     "name": "stdout",
     "output_type": "stream",
     "text": ".."
    },
    {
     "name": "stdout",
     "output_type": "stream",
     "text": ".."
    },
    {
     "name": "stdout",
     "output_type": "stream",
     "text": "."
    },
    {
     "name": "stdout",
     "output_type": "stream",
     "text": "."
    },
    {
     "name": "stdout",
     "output_type": "stream",
     "text": "."
    },
    {
     "name": "stdout",
     "output_type": "stream",
     "text": "."
    },
    {
     "name": "stdout",
     "output_type": "stream",
     "text": "."
    },
    {
     "name": "stdout",
     "output_type": "stream",
     "text": "."
    },
    {
     "name": "stdout",
     "output_type": "stream",
     "text": "."
    },
    {
     "name": "stdout",
     "output_type": "stream",
     "text": "."
    },
    {
     "name": "stdout",
     "output_type": "stream",
     "text": "."
    },
    {
     "name": "stdout",
     "output_type": "stream",
     "text": "."
    },
    {
     "name": "stdout",
     "output_type": "stream",
     "text": "."
    },
    {
     "name": "stdout",
     "output_type": "stream",
     "text": "."
    },
    {
     "name": "stdout",
     "output_type": "stream",
     "text": "."
    },
    {
     "name": "stdout",
     "output_type": "stream",
     "text": "."
    },
    {
     "name": "stdout",
     "output_type": "stream",
     "text": ".."
    },
    {
     "name": "stdout",
     "output_type": "stream",
     "text": "."
    },
    {
     "name": "stdout",
     "output_type": "stream",
     "text": "."
    },
    {
     "name": "stdout",
     "output_type": "stream",
     "text": "."
    },
    {
     "name": "stdout",
     "output_type": "stream",
     "text": "."
    },
    {
     "name": "stdout",
     "output_type": "stream",
     "text": "."
    },
    {
     "name": "stdout",
     "output_type": "stream",
     "text": "."
    },
    {
     "name": "stdout",
     "output_type": "stream",
     "text": "."
    },
    {
     "name": "stdout",
     "output_type": "stream",
     "text": "."
    },
    {
     "name": "stdout",
     "output_type": "stream",
     "text": "."
    },
    {
     "name": "stdout",
     "output_type": "stream",
     "text": "."
    },
    {
     "name": "stdout",
     "output_type": "stream",
     "text": "."
    },
    {
     "name": "stdout",
     "output_type": "stream",
     "text": "."
    },
    {
     "name": "stdout",
     "output_type": "stream",
     "text": "."
    },
    {
     "name": "stdout",
     "output_type": "stream",
     "text": "."
    },
    {
     "name": "stdout",
     "output_type": "stream",
     "text": ".."
    },
    {
     "name": "stdout",
     "output_type": "stream",
     "text": "\r[#####################################################################################     ] | 94% Completed |  1.2s"
    },
    {
     "name": "stdout",
     "output_type": "stream",
     "text": "."
    },
    {
     "name": "stdout",
     "output_type": "stream",
     "text": "\r[##########################################################################################] | 100% Completed |  1.3s"
    },
    {
     "name": "stdout",
     "output_type": "stream",
     "text": "\n"
    }
   ],
   "source": [
    "# Add .feat\n",
    "recs = projection.transform(recs)"
   ]
  },
  {
   "cell_type": "code",
   "execution_count": null,
   "metadata": {},
   "outputs": [],
   "source": [
    "%%prun -l20\n",
    "# GridSearchCV many models / model params\n",
    "params = dict(\n",
    "    classifier = [\n",
    "\n",
    "        # # 'cls: knn, n_neighbors: 1',\n",
    "        # # 'cls: knn, n_neighbors: 3',\n",
    "        # 'cls: knn, n_neighbors: 5',\n",
    "        # 'cls: knn, n_neighbors: 10',\n",
    "        # # 'cls: knn, n_neighbors: 15',\n",
    "        # 'cls: knn, n_neighbors: 25',\n",
    "        # 'cls: knn, n_neighbors: 50',\n",
    "\n",
    "        # 'cls: svm, random_state: 0, probability: true, kernel: rbf, C: 1',\n",
    "        # 'cls: svm, random_state: 0, probability: true, kernel: rbf, C: 10',  # Like [SBF16]\n",
    "        # 'cls: svm, random_state: 0, probability: true, kernel: rbf, C: 100',  # Same as C: 10 [why?]\n",
    "        # # 'cls: svm, random_state: 0, probability: true, kernel: rbf, C: 1000',  # Same as C: 10 [why?]\n",
    "\n",
    "        # # 'cls: rf, random_state: 0, criterion: gini, n_estimators: 10',  # Defaults\n",
    "        # 'cls: rf, random_state: 0, criterion: gini, n_estimators: 50',\n",
    "        # 'cls: rf, random_state: 0, criterion: gini, n_estimators: 100',\n",
    "        # 'cls: rf, random_state: 0, criterion: gini, n_estimators: 200',\n",
    "        # 'cls: rf, random_state: 0, criterion: gini, n_estimators: 400',\n",
    "\n",
    "        # 'cls: rf, random_state: 0, criterion: entropy, n_estimators: 10',\n",
    "        'cls: rf, random_state: 0, criterion: entropy, n_estimators: 50',\n",
    "        'cls: rf, random_state: 0, criterion: entropy, n_estimators: 100',\n",
    "        'cls: rf, random_state: 0, criterion: entropy, n_estimators: 200',  # Like [SP14]\n",
    "        'cls: rf, random_state: 0, criterion: entropy, n_estimators: 400',\n",
    "\n",
    "    ]\n",
    "    # TODO agg_funs\n",
    ")\n",
    "select = sk.model_selection.GridSearchCV(\n",
    "    Search(projection=projection),\n",
    "    params,\n",
    "    # cv=3,  # [SP14] uses two-/three-fold CV [why?]\n",
    "    cv=sk.model_selection.ShuffleSplit(\n",
    "        # n_splits=1,\n",
    "        n_splits=5,\n",
    "        # n_splits=10,\n",
    "        # n_splits=20,\n",
    "        test_size=.2,\n",
    "        random_state=0,\n",
    "    ),\n",
    "    return_train_score=True,\n",
    "    # verbose=100,\n",
    "    # verbose=10,  # O(models * n_splits) lines of outputs\n",
    "    verbose=1,  # O(1) lines of outputs\n",
    "    n_jobs=1,  # For %prun\n",
    "    # n_jobs=8,\n",
    "    # n_jobs=16,\n",
    ")\n",
    "with contextlib.ExitStack() as stack:\n",
    "    # stack.enter_context(cache_control(refresh=True))\n",
    "    # stack.enter_context(joblib.parallel_backend('threading'))  # Default: 'multiprocessing'\n",
    "    # stack.enter_context(joblib.parallel_backend('sequential'))  # For %prun [FIXME Has no effect?]\n",
    "    stack.enter_context(log.context(verbose=False))\n",
    "    X, y = Search.Xy(recs)\n",
    "    select.fit(X, y)"
   ]
  },
  {
   "cell_type": "code",
   "execution_count": null,
   "metadata": {},
   "outputs": [
    {
     "data": {
      "text/plain": "{\n  'mean_fit_time': array([0.046, 0.079, 0.135, 0.265]),\n  'mean_score_time': array([0.053, 0.058, 0.065, 0.089]),\n  'mean_test_score': array([-4.2, -3.6, -3. , -3.2]),\n  'mean_train_score': array([-1., -1., -1., -1.]),\n  'param_classifier': masked_array(data=['cls: rf, random_state: 0, criterion: entropy, n_estimators: 50',\n                     'cls: rf, random_state: 0, criterion: entropy, n_estimators: 100',\n                     'cls: rf, random_state: 0, criterion: entropy, n_estimators: 200',\n                     'cls: rf, random_state: 0, criterion: entropy, n_estimators: 400'],\n               mask=[False, False, False, False],\n         fill_value='?',\n              dtype=object),\n  'params': [\n    {'classifier': 'cls: rf, random_state: 0, criterion: entropy, n_estimators: 50'},\n    {'classifier': 'cls: rf, random_state: 0, criterion: entropy, n_estimators: 100'},\n    {'classifier': 'cls: rf, random_state: 0, criterion: entropy, n_estimators: 200'},\n    {'classifier': 'cls: rf, random_state: 0, criterion: entropy, n_estimators: 400'},\n  ],\n  'rank_test_score': array([4, 3, 1, 2], dtype=int32),\n  'split0_test_score': array([-4., -3., -3., -3.]),\n  'split0_train_score': array([-1., -1., -1., -1.]),\n  'split1_test_score': array([-5., -4., -4., -4.]),\n  'split1_train_score': array([-1., -1., -1., -1.]),\n  'split2_test_score': array([-4., -3., -3., -3.]),\n  'split2_train_score': array([-1., -1., -1., -1.]),\n  'split3_test_score': array([-4., -3., -2., -3.]),\n  'split3_train_score': array([-1., -1., -1., -1.]),\n  'split4_test_score': array([-4., -5., -3., -3.]),\n  'split4_train_score': array([-1., -1., -1., -1.]),\n  'std_fit_time': array([0.003, 0.004, 0.003, 0.01 ]),\n  'std_score_time': array([0.004, 0.005, 0.003, 0.006]),\n  'std_test_score': array([0.4  , 0.8  , 0.632, 0.4  ]),\n  'std_train_score': array([0., 0., 0., 0.]),\n}"
     },
     "execution_count": 16,
     "metadata": {},
     "output_type": "execute_result"
    }
   ],
   "source": [
    "select.cv_results_"
   ]
  },
  {
   "cell_type": "code",
   "execution_count": null,
   "metadata": {},
   "outputs": [],
   "source": [
    "# CV runtimes\n",
    "# with warnings.catch_warnings():\n",
    "#     # TODO How to avoid the 'color' legend warning since geom_col has no color mapping?\n",
    "#     warnings.simplefilter(action='ignore', category=UserWarning)\n",
    "#     repr(cv_results_summary_df(select.cv_results_)\n",
    "#         .filter(regex='^(param_.*|.*_time$)')\n",
    "#         .pipe(df_flatmap, lambda row: [\n",
    "#             row.set_value('stage', 'fit').rename({'mean_fit_time': 'mean_time', 'std_fit_time': 'std_time'}),\n",
    "#             row.set_value('stage', 'score').rename({'mean_score_time': 'mean_time', 'std_score_time': 'std_time'}),\n",
    "#         ])\n",
    "#         .filter(regex='^(param.*|stage|mean_time|std_time)$')\n",
    "#         .pipe(df_ordered_cat, 'param_classifier', transform=reversed)\n",
    "#         .pipe(ggplot, aes(x='param_classifier'))\n",
    "#         + geom_col(aes(y='mean_time', fill='stage'), position=position_dodge())\n",
    "#         + geom_linerange(\n",
    "#             aes(group='stage', y='mean_time', ymin='mean_time - 1.96 * std_time', ymax='mean_time + 1.96 * std_time'),\n",
    "#             position=position_dodge(width=.9),\n",
    "#         )\n",
    "#         + coord_flip()\n",
    "#         + scale_color_cmap_d(mpl.cm.Set1)\n",
    "#         # + theme(legend_position='bottom')\n",
    "#         + theme_figsize(width=4, aspect_ratio=2/1)\n",
    "#         + ggtitle('Train/test runtimes (WARNING: mix of cached and uncached)')\n",
    "#     )"
   ]
  },
  {
   "cell_type": "code",
   "execution_count": null,
   "metadata": {},
   "outputs": [],
   "source": [
    "(cv_results_splits_df(select.cv_results_)\n",
    "    .assign(\n",
    "        classifier_config=lambda df: df.param_classifier.apply(lambda x: yaml.safe_load('{%s}' % x)),\n",
    "        type=lambda df: df.classifier_config.apply(lambda x: (\n",
    "            '%s-%s' % (x['cls'], x['criterion']) if x['cls'] == 'rf' else\n",
    "            x['cls']\n",
    "        )),\n",
    "        group=lambda df: df.apply(axis=1, func=lambda row: row.type + '/' + row.split),\n",
    "    )\n",
    "    .pipe(df_ordered_cat, param_classifier=lambda df: params['classifier'])\n",
    "    .pipe(ggplot, aes(x='param_classifier', y='score', color='group'))\n",
    "    + geom_hline(yintercept=0, color='grey')\n",
    "    + geom_jitter(alpha=.5, width=.05)\n",
    "    + geom_line(aes(group='group + fold'), alpha=.2)\n",
    "    + stat_summary(aes(group='group'), fun_data='mean_cl_boot', random_state=0, geom='errorbar')\n",
    "    + stat_summary(aes(group='group'), fun_data='mean_cl_boot', random_state=0, geom='line', size=1)\n",
    "    + scale_color_cmap_d(mpl.cm.tab10)\n",
    "    + theme(axis_text_x=element_text(angle=90, hjust=.5))\n",
    "    + theme_figsize(width=12, aspect_ratio=1/2)\n",
    "    + ylab('score (-coverage_error)')\n",
    "    + ggtitle('Train/test scores')\n",
    ")"
   ]
  },
  {
   "cell_type": "code",
   "execution_count": null,
   "metadata": {},
   "outputs": [],
   "source": [
    "cv_splits = list(select.cv.split(range(len(recs))))\n",
    "with log.context(verbose=False):\n",
    "    models = (\n",
    "        DF([\n",
    "            OrderedDict(\n",
    "                model_id='%s; fold: %s' % (param_classifier, fold),\n",
    "                param_classifier=param_classifier,\n",
    "                fold=fold,\n",
    "                train_i=train_i,\n",
    "                test_i=test_i,\n",
    "            )\n",
    "            for param_classifier in params['classifier']\n",
    "            for fold, (train_i, test_i) in enumerate(cv_splits\n",
    "                # [:2]  # XXX dev\n",
    "            )\n",
    "            for X, y in [Search.Xy(recs)]\n",
    "        ])\n",
    "        # [:3]  # XXX dev\n",
    "        .pipe(\n",
    "            df_apply_with_progress,\n",
    "            # use='sync',  # [~30s]\n",
    "            use='dask', scheduler='threads', npartitions=16,  # [~20-30s]\n",
    "            # use='joblib', backend='threading', n_jobs=16, verbose=10,  # [~20-30s]\n",
    "            # use='joblib', backend='threading', n_jobs=16, verbose=100,\n",
    "            f=lambda row: row.append(S(dict(\n",
    "                search=(\n",
    "                    sk.base.clone(select.estimator)\n",
    "                    .set_params(classifier=row.param_classifier)\n",
    "                    .fit(\n",
    "                        Search.X(recs)[row.train_i],\n",
    "                        Search.y(recs)[row.train_i],\n",
    "                    )\n",
    "                ),\n",
    "            ))),\n",
    "        )\n",
    "    )\n",
    "\n",
    "display(\n",
    "    len(params['classifier']),\n",
    "    len(cv_splits),\n",
    "    models.shape,\n",
    "    models[:1].T,\n",
    ")"
   ]
  },
  {
   "cell_type": "markdown",
   "metadata": {},
   "source": [
    "# Model diagnostics: all models, all folds"
   ]
  },
  {
   "cell_type": "code",
   "execution_count": null,
   "metadata": {},
   "outputs": [],
   "source": [
    "# print(\"params['classifier']:\\n%s\" % '\\n'.join('  %s: %r' % (i, x) for i, x in enumerate(params['classifier'])))\n",
    "# print()\n",
    "print('models:')\n",
    "print('  param_classifier[*/%s]' % len(params['classifier']))\n",
    "print('  fold[*/%s]' % select.cv.n_splits)"
   ]
  },
  {
   "cell_type": "code",
   "execution_count": null,
   "metadata": {},
   "outputs": [],
   "source": [
    "# TODO This is slow (~2m for 400 its) without par (but par makes it a slog to write...)\n",
    "coverage_errors_all_all = (models\n",
    "    # .sample(n=5, random_state=0)  # For faster dev\n",
    "    .pipe(lambda df: DF(\n",
    "        OrderedDict(\n",
    "            **row[['model_id', 'param_classifier', 'fold']],\n",
    "            **out_row[['species', 'coverage_error', 'id']],\n",
    "        )\n",
    "        for row in iter_progress(df_rows(df), n=len(df))\n",
    "        for out_row in df_rows(row.search.coverage_errors_recs(recs.iloc[row.test_i]))\n",
    "    ))\n",
    ")\n",
    "display(\n",
    "    coverage_errors_all_all[:5],\n",
    ")"
   ]
  },
  {
   "cell_type": "code",
   "execution_count": null,
   "metadata": {},
   "outputs": [],
   "source": [
    "%%time\n",
    "_coverage_errors_all_all_precompute = (coverage_errors_all_all\n",
    "    # [:5]\n",
    "    .assign(\n",
    "        # TODO Push this upstream, very slow (probably the yaml.safe_load)\n",
    "        classifier_config=lambda df: df.param_classifier.apply(lambda x: yaml.safe_load('{%s}' % x)),\n",
    "        type=lambda df: df.classifier_config.apply(lambda x: (\n",
    "            '%s-%s' % (x['cls'], x['criterion']) if x['cls'] == 'rf' else\n",
    "            x['cls']\n",
    "        )),\n",
    "    )\n",
    ")"
   ]
  },
  {
   "cell_type": "code",
   "execution_count": null,
   "metadata": {},
   "outputs": [],
   "source": [
    "# TODO TODO\n",
    "# in: coverage_errors_all_all, recs\n",
    "(_coverage_errors_all_all_precompute\n",
    "    [lambda df: df.param_classifier.isin([\n",
    "        # 'cls: knn, n_neighbors: 1',\n",
    "        # 'cls: knn, n_neighbors: 3',\n",
    "        'cls: knn, n_neighbors: 5',\n",
    "        'cls: knn, n_neighbors: 10',\n",
    "        'cls: knn, n_neighbors: 15',\n",
    "        'cls: knn, n_neighbors: 50',\n",
    "        'cls: svm, random_state: 0, probability: true, kernel: rbf, C: 1',\n",
    "        'cls: svm, random_state: 0, probability: true, kernel: rbf, C: 10',\n",
    "        'cls: svm, random_state: 0, probability: true, kernel: rbf, C: 100',\n",
    "        # 'cls: svm, random_state: 0, probability: true, kernel: rbf, C: 1000',\n",
    "        # 'cls: rf, random_state: 0, criterion: gini, n_estimators: 10',\n",
    "        'cls: rf, random_state: 0, criterion: gini, n_estimators: 50',\n",
    "        'cls: rf, random_state: 0, criterion: gini, n_estimators: 100',\n",
    "        'cls: rf, random_state: 0, criterion: gini, n_estimators: 200',\n",
    "        'cls: rf, random_state: 0, criterion: gini, n_estimators: 400',\n",
    "        # 'cls: rf, random_state: 0, criterion: entropy, n_estimators: 10',\n",
    "        'cls: rf, random_state: 0, criterion: entropy, n_estimators: 50',\n",
    "        'cls: rf, random_state: 0, criterion: entropy, n_estimators: 100',\n",
    "        'cls: rf, random_state: 0, criterion: entropy, n_estimators: 200',\n",
    "        'cls: rf, random_state: 0, criterion: entropy, n_estimators: 400',\n",
    "    ])]\n",
    "    # Sort species by median(coverage_error) [across all models...]\n",
    "    .pipe(df_ordered_cat, species=lambda df: (\n",
    "        df.groupby('species').agg({'coverage_error': np.median}).reset_index().sort_values('coverage_error').species\n",
    "    ))\n",
    "    .pipe(ggplot, aes(x='species', y='coverage_error', color='param_classifier'))\n",
    "    # TODO TODO Facet by species! -- to see model x species variation\n",
    "    # + stat_summary(aes(group='param_classifier'), fun_y=np.median, geom='line')\n",
    "    + facet_wrap('type') + stat_summary(aes(group='param_classifier'), fun_y=np.median, geom='line')\n",
    "    # + facet_wrap('species')  # No geom_line here  [TODO species is already mapped to x, that's why this is broken (duh)]\n",
    "    # TODO Also increase cv to decrease variance in eval metrics (this made Alex extremely squirmy)\n",
    "    + coord_flip()\n",
    "    # + geom_hline(yintercept=recs.species.nunique(), color='grey')\n",
    "    + scale_color_cmap_d(mpl.cm.tab20)\n",
    "    + theme_figsize('square')\n",
    "    + ggtitle(rf'Coverage error for fold $\\times$ instance, by param_classifier')\n",
    ")"
   ]
  },
  {
   "cell_type": "markdown",
   "metadata": {},
   "source": [
    "# Model diagnostics: one model, all folds"
   ]
  },
  {
   "cell_type": "code",
   "execution_count": null,
   "metadata": {},
   "outputs": [],
   "source": [
    "param_classifier_i = 19\n",
    "param_classifier = params['classifier'][param_classifier_i]\n",
    "print(\"params['classifier']:\\n%s\" % '\\n'.join('  %s: %r' % (i, x) for i, x in enumerate(params['classifier'])))\n",
    "print()\n",
    "print('models:')\n",
    "print('  param_classifier[%s/%s]: %r' % (param_classifier_i, len(params['classifier']), param_classifier))\n",
    "print('  fold[*/%s]' % select.cv.n_splits)"
   ]
  },
  {
   "cell_type": "code",
   "execution_count": null,
   "metadata": {},
   "outputs": [],
   "source": [
    "coverage_errors_one_all = (models\n",
    "    [lambda df: df.param_classifier == param_classifier]  # One model, all folds\n",
    "    # [:2]  # For faster dev\n",
    "    .pipe(lambda df: DF(\n",
    "        OrderedDict(\n",
    "            **row[['model_id', 'param_classifier', 'fold']],\n",
    "            **out_row[['species', 'coverage_error', 'id']],\n",
    "        )\n",
    "        for row in iter_progress(df_rows(df), n=len(df))\n",
    "        for out_row in df_rows(row.search.coverage_errors_recs(recs.iloc[row.test_i]))\n",
    "    ))\n",
    ")\n",
    "display(\n",
    "    coverage_errors_one_all[:5],\n",
    ")"
   ]
  },
  {
   "cell_type": "code",
   "execution_count": null,
   "metadata": {},
   "outputs": [],
   "source": [
    "# in: coverage_errors_one_all, recs\n",
    "(coverage_errors_one_all\n",
    "    # Sort species by median(coverage_error)\n",
    "    .pipe(df_ordered_cat, species=lambda df: (\n",
    "        df.groupby('species').agg({'coverage_error': np.median}).reset_index().sort_values('coverage_error').species\n",
    "    ))\n",
    "    .pipe(ggplot, aes(x='species', y='coverage_error'))\n",
    "    + geom_count(aes(size='..n..'))  # n (count) instead of prop (proportion)\n",
    "    + scale_size_area()  # Instead of default scale_size(), because it's a count [I don't grok this but it looks good]\n",
    "    + stat_summary(fun_y=np.median, geom='point', color='red', alpha=.5, shape='|', size=6, stroke=1)\n",
    "    + stat_summary(\n",
    "        fun_ymin=partial(np.percentile, q=25), fun_ymax=partial(np.percentile, q=75), geom='linerange', color='red', alpha=.5, size=1,\n",
    "    )\n",
    "    + coord_flip()\n",
    "    + geom_hline(yintercept=recs.species.nunique(), color='grey')\n",
    "    + theme_figsize('square')\n",
    "    + ggtitle(rf'Coverage error for fold $\\times$ instance ({param_classifier})')\n",
    ")"
   ]
  },
  {
   "cell_type": "code",
   "execution_count": null,
   "metadata": {},
   "outputs": [],
   "source": [
    "(coverage_errors_one_all\n",
    "    [:5]\n",
    ")"
   ]
  },
  {
   "cell_type": "code",
   "execution_count": null,
   "metadata": {},
   "outputs": [],
   "source": [
    "with figsize('full'):\n",
    "    search.plot_confusion_matrix(test_recs, title=model_id)"
   ]
  },
  {
   "cell_type": "markdown",
   "metadata": {},
   "source": [
    "# Model diagnostics: one model, one fold"
   ]
  },
  {
   "cell_type": "code",
   "execution_count": null,
   "metadata": {},
   "outputs": [],
   "source": [
    "fold = 11\n",
    "# param_classifier_i = ...  # Comment out to reuse from above\n",
    "param_classifier = params['classifier'][param_classifier_i]\n",
    "[(_, model)] = list(models[lambda df: (df.param_classifier == param_classifier) & (df.fold == fold)].iterrows())\n",
    "print(\"params['classifier']:\\n%s\" % '\\n'.join('  %s: %r' % (i, x) for i, x in enumerate(params['classifier'])))\n",
    "print()\n",
    "print('model:')\n",
    "print('  param_classifier[%s/%s]: %r' % (param_classifier_i, len(params['classifier']), model.param_classifier))\n",
    "print('  fold[%s/%s]' % (model.fold, select.cv.n_splits))\n",
    "print()\n",
    "print(model)"
   ]
  },
  {
   "cell_type": "code",
   "execution_count": null,
   "metadata": {},
   "outputs": [],
   "source": [
    "# in: model\n",
    "model_id = model.model_id\n",
    "param_classifier = model.param_classifier\n",
    "fold = model.fold\n",
    "train_i = model.train_i\n",
    "test_i = model.test_i\n",
    "search = model.search\n",
    "\n",
    "# in: model, recs\n",
    "train_recs = recs.iloc[model.train_i]\n",
    "train_X = Search.X(recs)[model.train_i]\n",
    "train_y = Search.y(recs)[model.train_i]\n",
    "test_recs = recs.iloc[model.test_i]\n",
    "test_X = Search.X(recs)[model.test_i]\n",
    "test_y = Search.y(recs)[model.test_i]\n",
    "\n",
    "display(\n",
    "    len(train_recs),\n",
    "    len(test_recs),\n",
    ")"
   ]
  },
  {
   "cell_type": "code",
   "execution_count": null,
   "metadata": {},
   "outputs": [],
   "source": [
    "(search.coverage_errors_recs_by(test_recs, 'id')\n",
    "    .merge(test_recs[['id', 'species']], on='id', how='left')\n",
    "    .pipe(ggplot, aes(x='species', y='coverage_error'))\n",
    "    + geom_count(aes(size='..n..'))\n",
    "    + stat_summary(fun_y=np.median, geom='point', color='red', alpha=.5, shape='|', size=6, stroke=1)\n",
    "    + stat_summary(\n",
    "        fun_ymin=partial(np.percentile, q=25), fun_ymax=partial(np.percentile, q=75), geom='linerange', color='red', alpha=.5, size=1,\n",
    "    )\n",
    "    + coord_flip()\n",
    "    + geom_hline(yintercept=len(search.classes_), color='grey')\n",
    "    + scale_x_discrete(limits=list(reversed(test_recs.species.cat.categories)))\n",
    "    + theme_figsize('square')\n",
    "    + ggtitle(f'Coverage error by species ({model_id})')\n",
    ")"
   ]
  },
  {
   "cell_type": "code",
   "execution_count": null,
   "metadata": {},
   "outputs": [],
   "source": [
    "search.confusion_matrix(test_recs)"
   ]
  },
  {
   "cell_type": "code",
   "execution_count": null,
   "metadata": {},
   "outputs": [],
   "source": [
    "# TODO TODO\n",
    "_search, _recs = search, test_recs\n",
    "species = _search.species(_recs)\n",
    "y_true = species.species_true\n",
    "y_pred = species.species_pred\n",
    "labels = sorted_species(set(y_true) | set(y_pred))\n",
    "pd.DataFrame(\n",
    "    data=sk.metrics.confusion_matrix(y_true, y_pred, labels),\n",
    "    index=pd.Series(labels, name='true'),\n",
    "    columns=pd.Series(labels, name='pred'),\n",
    ")"
   ]
  },
  {
   "cell_type": "code",
   "execution_count": null,
   "metadata": {},
   "outputs": [],
   "source": [
    "with figsize('full'):\n",
    "    search.plot_confusion_matrix(test_recs, title=model_id)"
   ]
  },
  {
   "cell_type": "code",
   "execution_count": null,
   "metadata": {},
   "outputs": [],
   "source": []
  }
 ],
 "metadata": {
  "kernelspec": {
   "display_name": "bubo-features (PYTHONSTARTUP)",
   "language": "python",
   "name": "bubo-features (PYTHONSTARTUP)"
  }
 },
 "nbformat": 4,
 "nbformat_minor": 2
}
