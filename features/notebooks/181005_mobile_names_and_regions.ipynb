{
 "cells": [
  {
   "cell_type": "markdown",
   "metadata": {},
   "source": [
    "# App names\n",
    "- Birdogram\n",
    "- Birdgram\n",
    "- Spectrobird\n",
    "\n",
    "How many per-region apps?\n",
    "- CA payload is currently 2.0g\n",
    "- US n_recs are ~1.5x CA n_recs\n",
    "- => US payload is est. ~3.5g\n",
    "\n",
    "Register app names like:\n",
    "- Birdgram\n",
    "- Birdgram US\n",
    "- Birdgram CA"
   ]
  },
  {
   "cell_type": "code",
   "execution_count": null,
   "metadata": {},
   "outputs": [
    {
     "name": "stdout",
     "output_type": "stream",
     "text": "INFO     [10:19:51.634] [15946] 150 logging_/<module>: {logging_yaml: None}"
    },
    {
     "name": "stdout",
     "output_type": "stream",
     "text": "\n"
    },
    {
     "name": "stdout",
     "output_type": "stream",
     "text": "all              9442/399859 (sp/recs)"
    },
    {
     "name": "stdout",
     "output_type": "stream",
     "text": "\n"
    },
    {
     "name": "stdout",
     "output_type": "stream",
     "text": "countries         1148/59713 (sp/recs)"
    },
    {
     "name": "stdout",
     "output_type": "stream",
     "text": "\n"
    },
    {
     "name": "stdout",
     "output_type": "stream",
     "text": "species            774/52709 (sp/recs)"
    },
    {
     "name": "stdout",
     "output_type": "stream",
     "text": "\n"
    },
    {
     "name": "stdout",
     "output_type": "stream",
     "text": "(downloaded)       774/52704 (sp/recs)"
    },
    {
     "name": "stdout",
     "output_type": "stream",
     "text": "\n"
    },
    {
     "name": "stdout",
     "output_type": "stream",
     "text": "recs_at_least      774/52704 (sp/recs)"
    },
    {
     "name": "stdout",
     "output_type": "stream",
     "text": "\n"
    },
    {
     "name": "stdout",
     "output_type": "stream",
     "text": "num_species        774/52704 (sp/recs)"
    },
    {
     "name": "stdout",
     "output_type": "stream",
     "text": "\n"
    },
    {
     "name": "stdout",
     "output_type": "stream",
     "text": "num_recs           774/52704 (sp/recs)"
    },
    {
     "name": "stdout",
     "output_type": "stream",
     "text": "\n"
    },
    {
     "name": "stdout",
     "output_type": "stream",
     "text": "recs ≥ 2           774/52704 (sp/recs)"
    },
    {
     "name": "stdout",
     "output_type": "stream",
     "text": "\n"
    },
    {
     "data": {
      "text/plain": "(52704, 34)"
     },
     "execution_count": 1,
     "metadata": {},
     "output_type": "execute_result"
    }
   ],
   "source": [
    "from notebooks import *\n",
    "xc_meta, _ = load_xc_meta(\n",
    "    countries_k='na',\n",
    "    # com_names_k='ca',  # 35233\n",
    "    com_names_k='us',  # 52704\n",
    "    recs_at_least=None,\n",
    "    num_species=None,\n",
    "    num_recs=None,\n",
    "    drop_recs_lt_2=False,\n",
    ")\n",
    "xc_meta.shape"
   ]
  },
  {
   "cell_type": "code",
   "execution_count": null,
   "metadata": {},
   "outputs": [],
   "source": []
  }
 ],
 "metadata": {
  "kernelspec": {
   "display_name": "bubo-features (PYTHONSTARTUP)",
   "language": "python",
   "name": "bubo-features (PYTHONSTARTUP)"
  }
 },
 "nbformat": 4,
 "nbformat_minor": 2
}
