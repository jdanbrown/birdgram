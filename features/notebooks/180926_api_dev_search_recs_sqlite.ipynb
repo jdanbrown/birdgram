{
 "cells": [
  {
   "cell_type": "markdown",
   "metadata": {},
   "source": [
    "# Takeaways\n",
    "- Roundtrip works (TODO write tests)\n",
    "- Write perf\n",
    "    - No issues\n",
    "- Read perf\n",
    "    - 2.1s read_sql_table is fine, but ~7.5s to convert each feat col is too slow for server startup\n",
    "    - Bottleneck is npy bytes -> np.array\n",
    "    - But any optimization effort is a waste of time until we nail down how mobile will use the .sqlite payload...\n",
    "    - TODO Revist once we have an idea how mobile will use search_recs\n",
    "        - Will it want each array packed as bytes, like this?\n",
    "        - Or will it want array elements manifested as sql data, e.g. so it can query them using sql?\n",
    "        - Or something else entirely...?"
   ]
  },
  {
   "cell_type": "code",
   "execution_count": null,
   "metadata": {
    "time": "7.687s"
   },
   "outputs": [
    {
     "name": "stdout",
     "output_type": "stream",
     "text": "\n"
    },
    {
     "name": "stdout",
     "output_type": "stream",
     "text": "search_recs(**{'refresh': True})"
    },
    {
     "name": "stdout",
     "output_type": "stream",
     "text": "\n"
    },
    {
     "name": "stdout",
     "output_type": "stream",
     "text": "INFO     [14:27:49.720] [24385] 600 api.recs/get_search_recs"
    },
    {
     "name": "stdout",
     "output_type": "stream",
     "text": "\n"
    },
    {
     "name": "stdout",
     "output_type": "stream",
     "text": "DEBUG    [14:27:49.738] [24385] 243 payloads/df_cache_sqlite: Connect {db_url: 'sqlite:////Users/danb/hack/bubo/features/data/cache/payloads/search_recs-version[2],limit[1000],audio_s[10],countries_k[na],com_names_k[ca],num_recs[None]-01b98fe.sqlite3'}"
    },
    {
     "name": "stdout",
     "output_type": "stream",
     "text": "\n"
    },
    {
     "name": "stderr",
     "output_type": "stream",
     "text": "\rdf_cache_sqlite:compute[search_recs]:   0%|                                                      | 0/1 [00:00<?, ?it/s]"
    },
    {
     "name": "stdout",
     "output_type": "stream",
     "text": "INFO     [14:27:49.749] [24385] 657 api.recs/_compute_search_recs: {len(sg.xc_meta): 35233, countries_k: na, com_names_k: ca, num_recs: null}"
    },
    {
     "name": "stdout",
     "output_type": "stream",
     "text": "\n"
    },
    {
     "name": "stdout",
     "output_type": "stream",
     "text": "DEBUG    [14:27:49.759] [24385] 685 api.recs/recs_featurize_pre_rank: batches (1/2) [start]"
    },
    {
     "name": "stdout",
     "output_type": "stream",
     "text": "\n"
    },
    {
     "name": "stdout",
     "output_type": "stream",
     "text": "\rf_preds: ["
    },
    {
     "name": "stdout",
     "output_type": "stream",
     "text": "                                                                                       "
    },
    {
     "name": "stdout",
     "output_type": "stream",
     "text": "] |   0% (500) |  0.0s"
    },
    {
     "name": "stdout",
     "output_type": "stream",
     "text": "\rf_preds: ["
    },
    {
     "name": "stdout",
     "output_type": "stream",
     "text": "                                                                                       "
    },
    {
     "name": "stdout",
     "output_type": "stream",
     "text": "] |   0% (500) |  0.1s"
    },
    {
     "name": "stdout",
     "output_type": "stream",
     "text": "\rf_preds: ["
    },
    {
     "name": "stdout",
     "output_type": "stream",
     "text": "                                                                                       "
    },
    {
     "name": "stdout",
     "output_type": "stream",
     "text": "] |   0% (500) |  0.2s"
    },
    {
     "name": "stdout",
     "output_type": "stream",
     "text": "\rf_preds: ["
    },
    {
     "name": "stdout",
     "output_type": "stream",
     "text": "#######################################################################################"
    },
    {
     "name": "stdout",
     "output_type": "stream",
     "text": "] | 100% (500) |  0.3s"
    },
    {
     "name": "stdout",
     "output_type": "stream",
     "text": "\n"
    },
    {
     "name": "stdout",
     "output_type": "stream",
     "text": "DEBUG    [14:27:50.296] [24385] 915 api.recs/recs_featurize_spectro_bytes: [start]"
    },
    {
     "name": "stdout",
     "output_type": "stream",
     "text": "\n"
    },
    {
     "name": "stderr",
     "output_type": "stream",
     "text": "\n"
    },
    {
     "name": "stderr",
     "output_type": "stream",
     "text": "\rrec_spectro_bytes:   0%|                                                                       | 0/500 [00:00<?, ?it/s]"
    },
    {
     "name": "stderr",
     "output_type": "stream",
     "text": "\n"
    },
    {
     "name": "stderr",
     "output_type": "stream",
     "text": "\rrec_spectro_bytes:   8%|█████                                                        | 41/500 [00:00<00:01, 400.76it/s]"
    },
    {
     "name": "stderr",
     "output_type": "stream",
     "text": "\n"
    },
    {
     "name": "stderr",
     "output_type": "stream",
     "text": "\rrec_spectro_bytes:  17%|██████████▏                                                  | 84/500 [00:00<00:01, 411.34it/s]"
    },
    {
     "name": "stderr",
     "output_type": "stream",
     "text": "\n"
    },
    {
     "name": "stderr",
     "output_type": "stream",
     "text": "\rrec_spectro_bytes:  25%|███████████████▏                                            | 127/500 [00:00<00:00, 416.58it/s]"
    },
    {
     "name": "stderr",
     "output_type": "stream",
     "text": "\n"
    },
    {
     "name": "stderr",
     "output_type": "stream",
     "text": "\rrec_spectro_bytes:  34%|████████████████████▌                                       | 171/500 [00:00<00:00, 420.81it/s]"
    },
    {
     "name": "stderr",
     "output_type": "stream",
     "text": "\n"
    },
    {
     "name": "stderr",
     "output_type": "stream",
     "text": "\rrec_spectro_bytes:  43%|█████████████████████████▉                                  | 216/500 [00:00<00:00, 424.49it/s]"
    },
    {
     "name": "stderr",
     "output_type": "stream",
     "text": "\n"
    },
    {
     "name": "stderr",
     "output_type": "stream",
     "text": "\rrec_spectro_bytes:  52%|███████████████████████████████▍                            | 262/500 [00:00<00:00, 429.31it/s]"
    },
    {
     "name": "stderr",
     "output_type": "stream",
     "text": "\n"
    },
    {
     "name": "stderr",
     "output_type": "stream",
     "text": "\rrec_spectro_bytes:  61%|████████████████████████████████████▋                       | 306/500 [00:00<00:00, 430.82it/s]"
    },
    {
     "name": "stderr",
     "output_type": "stream",
     "text": "\n"
    },
    {
     "name": "stderr",
     "output_type": "stream",
     "text": "\rrec_spectro_bytes:  70%|██████████████████████████████████████████                  | 351/500 [00:00<00:00, 432.38it/s]"
    },
    {
     "name": "stderr",
     "output_type": "stream",
     "text": "\n"
    },
    {
     "name": "stderr",
     "output_type": "stream",
     "text": "\rrec_spectro_bytes:  79%|███████████████████████████████████████████████▌            | 396/500 [00:00<00:00, 433.53it/s]"
    },
    {
     "name": "stderr",
     "output_type": "stream",
     "text": "\n"
    },
    {
     "name": "stderr",
     "output_type": "stream",
     "text": "\rrec_spectro_bytes:  88%|████████████████████████████████████████████████████▊       | 440/500 [00:01<00:00, 433.75it/s]"
    },
    {
     "name": "stderr",
     "output_type": "stream",
     "text": "\n"
    },
    {
     "name": "stderr",
     "output_type": "stream",
     "text": "\rrec_spectro_bytes:  97%|██████████████████████████████████████████████████████████  | 484/500 [00:01<00:00, 433.77it/s]"
    },
    {
     "name": "stderr",
     "output_type": "stream",
     "text": "\n"
    },
    {
     "name": "stderr",
     "output_type": "stream",
     "text": "\rrec_spectro_bytes: 100%|████████████████████████████████████████████████████████████| 500/500 [00:01<00:00, 432.12it/s]"
    },
    {
     "name": "stdout",
     "output_type": "stream",
     "text": "INFO     [14:27:51.469] [24385] 923 api.recs/recs_featurize_spectro_bytes: [1.173s]"
    },
    {
     "name": "stdout",
     "output_type": "stream",
     "text": "\n"
    },
    {
     "name": "stdout",
     "output_type": "stream",
     "text": "DEBUG    [14:27:51.477] [24385] 993 api.recs/recs_featurize_audio_bytes: [start]"
    },
    {
     "name": "stdout",
     "output_type": "stream",
     "text": "\n"
    },
    {
     "name": "stdout",
     "output_type": "stream",
     "text": "\raudio_bytes: ["
    },
    {
     "name": "stdout",
     "output_type": "stream",
     "text": "                                                                                   "
    },
    {
     "name": "stdout",
     "output_type": "stream",
     "text": "] |   0% (500) |  0.0s"
    },
    {
     "name": "stdout",
     "output_type": "stream",
     "text": "\raudio_bytes: ["
    },
    {
     "name": "stdout",
     "output_type": "stream",
     "text": "############################################################                       "
    },
    {
     "name": "stdout",
     "output_type": "stream",
     "text": "] |  73% (500) |  0.1s"
    },
    {
     "name": "stdout",
     "output_type": "stream",
     "text": "\raudio_bytes: ["
    },
    {
     "name": "stdout",
     "output_type": "stream",
     "text": "###################################################################################"
    },
    {
     "name": "stdout",
     "output_type": "stream",
     "text": "] | 100% (500) |  0.2s"
    },
    {
     "name": "stdout",
     "output_type": "stream",
     "text": "\n"
    },
    {
     "name": "stdout",
     "output_type": "stream",
     "text": "INFO     [14:27:51.728] [24385] 997 api.recs/recs_featurize_audio_bytes: [0.251s]"
    },
    {
     "name": "stdout",
     "output_type": "stream",
     "text": "\n"
    },
    {
     "name": "stdout",
     "output_type": "stream",
     "text": "INFO     [14:27:51.738] [24385] 685 api.recs/recs_featurize_pre_rank: batches (1/2) [1.979s]"
    },
    {
     "name": "stdout",
     "output_type": "stream",
     "text": "\n"
    },
    {
     "name": "stdout",
     "output_type": "stream",
     "text": "DEBUG    [14:27:51.745] [24385] 685 api.recs/recs_featurize_pre_rank: batches (2/2) [start]"
    },
    {
     "name": "stdout",
     "output_type": "stream",
     "text": "\n"
    },
    {
     "name": "stdout",
     "output_type": "stream",
     "text": "\rf_preds: ["
    },
    {
     "name": "stdout",
     "output_type": "stream",
     "text": "                                                                                       "
    },
    {
     "name": "stdout",
     "output_type": "stream",
     "text": "] |   0% (500) |  0.0s"
    },
    {
     "name": "stdout",
     "output_type": "stream",
     "text": "\rf_preds: ["
    },
    {
     "name": "stdout",
     "output_type": "stream",
     "text": "                                                                                       "
    },
    {
     "name": "stdout",
     "output_type": "stream",
     "text": "] |   0% (500) |  0.1s"
    },
    {
     "name": "stdout",
     "output_type": "stream",
     "text": "\rf_preds: ["
    },
    {
     "name": "stdout",
     "output_type": "stream",
     "text": "                                                                                       "
    },
    {
     "name": "stdout",
     "output_type": "stream",
     "text": "] |   0% (500) |  0.2s"
    },
    {
     "name": "stdout",
     "output_type": "stream",
     "text": "\rf_preds: ["
    },
    {
     "name": "stdout",
     "output_type": "stream",
     "text": "#######################################################################################"
    },
    {
     "name": "stdout",
     "output_type": "stream",
     "text": "] | 100% (500) |  0.4s"
    },
    {
     "name": "stdout",
     "output_type": "stream",
     "text": "\n"
    },
    {
     "name": "stdout",
     "output_type": "stream",
     "text": "DEBUG    [14:27:52.280] [24385] 915 api.recs/recs_featurize_spectro_bytes: [start]"
    },
    {
     "name": "stdout",
     "output_type": "stream",
     "text": "\n"
    },
    {
     "name": "stderr",
     "output_type": "stream",
     "text": "\n"
    },
    {
     "name": "stderr",
     "output_type": "stream",
     "text": "\rrec_spectro_bytes:   0%|                                                                       | 0/500 [00:00<?, ?it/s]"
    },
    {
     "name": "stderr",
     "output_type": "stream",
     "text": "\n"
    },
    {
     "name": "stderr",
     "output_type": "stream",
     "text": "\rrec_spectro_bytes:   9%|█████▏                                                       | 43/500 [00:00<00:01, 417.57it/s]"
    },
    {
     "name": "stderr",
     "output_type": "stream",
     "text": "\n"
    },
    {
     "name": "stderr",
     "output_type": "stream",
     "text": "\rrec_spectro_bytes:  17%|██████████▌                                                  | 87/500 [00:00<00:00, 425.14it/s]"
    },
    {
     "name": "stderr",
     "output_type": "stream",
     "text": "\n"
    },
    {
     "name": "stderr",
     "output_type": "stream",
     "text": "\rrec_spectro_bytes:  26%|███████████████▌                                            | 130/500 [00:00<00:00, 424.98it/s]"
    },
    {
     "name": "stderr",
     "output_type": "stream",
     "text": "\n"
    },
    {
     "name": "stderr",
     "output_type": "stream",
     "text": "\rrec_spectro_bytes:  35%|████████████████████▊                                       | 173/500 [00:00<00:00, 424.27it/s]"
    },
    {
     "name": "stderr",
     "output_type": "stream",
     "text": "\n"
    },
    {
     "name": "stderr",
     "output_type": "stream",
     "text": "\rrec_spectro_bytes:  43%|██████████████████████████                                  | 217/500 [00:00<00:00, 426.18it/s]"
    },
    {
     "name": "stderr",
     "output_type": "stream",
     "text": "\n"
    },
    {
     "name": "stderr",
     "output_type": "stream",
     "text": "\rrec_spectro_bytes:  52%|███████████████████████████████▏                            | 260/500 [00:00<00:00, 426.69it/s]"
    },
    {
     "name": "stderr",
     "output_type": "stream",
     "text": "\n"
    },
    {
     "name": "stderr",
     "output_type": "stream",
     "text": "\rrec_spectro_bytes:  61%|████████████████████████████████████▎                       | 303/500 [00:00<00:00, 426.82it/s]"
    },
    {
     "name": "stderr",
     "output_type": "stream",
     "text": "\n"
    },
    {
     "name": "stderr",
     "output_type": "stream",
     "text": "\rrec_spectro_bytes:  69%|█████████████████████████████████████████▌                  | 346/500 [00:00<00:00, 426.37it/s]"
    },
    {
     "name": "stderr",
     "output_type": "stream",
     "text": "\n"
    },
    {
     "name": "stderr",
     "output_type": "stream",
     "text": "\rrec_spectro_bytes:  78%|██████████████████████████████████████████████▊             | 390/500 [00:00<00:00, 427.30it/s]"
    },
    {
     "name": "stderr",
     "output_type": "stream",
     "text": "\n"
    },
    {
     "name": "stderr",
     "output_type": "stream",
     "text": "\rrec_spectro_bytes:  87%|███████████████████████████████████████████████████▉        | 433/500 [00:01<00:00, 427.36it/s]"
    },
    {
     "name": "stderr",
     "output_type": "stream",
     "text": "\n"
    },
    {
     "name": "stderr",
     "output_type": "stream",
     "text": "\rrec_spectro_bytes:  95%|█████████████████████████████████████████████████████████▏  | 477/500 [00:01<00:00, 428.14it/s]"
    },
    {
     "name": "stderr",
     "output_type": "stream",
     "text": "\n"
    },
    {
     "name": "stderr",
     "output_type": "stream",
     "text": "\rrec_spectro_bytes: 100%|████████████████████████████████████████████████████████████| 500/500 [00:01<00:00, 426.24it/s]"
    },
    {
     "name": "stdout",
     "output_type": "stream",
     "text": "INFO     [14:27:53.470] [24385] 923 api.recs/recs_featurize_spectro_bytes: [1.190s]"
    },
    {
     "name": "stdout",
     "output_type": "stream",
     "text": "\n"
    },
    {
     "name": "stdout",
     "output_type": "stream",
     "text": "DEBUG    [14:27:53.478] [24385] 993 api.recs/recs_featurize_audio_bytes: [start]"
    },
    {
     "name": "stdout",
     "output_type": "stream",
     "text": "\n"
    },
    {
     "name": "stdout",
     "output_type": "stream",
     "text": "\raudio_bytes: ["
    },
    {
     "name": "stdout",
     "output_type": "stream",
     "text": "                                                                                   "
    },
    {
     "name": "stdout",
     "output_type": "stream",
     "text": "] |   0% (500) |  0.0s"
    },
    {
     "name": "stdout",
     "output_type": "stream",
     "text": "\raudio_bytes: ["
    },
    {
     "name": "stdout",
     "output_type": "stream",
     "text": "###########################################################                        "
    },
    {
     "name": "stdout",
     "output_type": "stream",
     "text": "] |  71% (500) |  0.1s"
    },
    {
     "name": "stdout",
     "output_type": "stream",
     "text": "\raudio_bytes: ["
    },
    {
     "name": "stdout",
     "output_type": "stream",
     "text": "###################################################################################"
    },
    {
     "name": "stdout",
     "output_type": "stream",
     "text": "] | 100% (500) |  0.2s"
    },
    {
     "name": "stdout",
     "output_type": "stream",
     "text": "\n"
    },
    {
     "name": "stdout",
     "output_type": "stream",
     "text": "INFO     [14:27:53.730] [24385] 997 api.recs/recs_featurize_audio_bytes: [0.252s]"
    },
    {
     "name": "stdout",
     "output_type": "stream",
     "text": "\n"
    },
    {
     "name": "stdout",
     "output_type": "stream",
     "text": "INFO     [14:27:53.741] [24385] 685 api.recs/recs_featurize_pre_rank: batches (2/2) [1.996s]"
    },
    {
     "name": "stdout",
     "output_type": "stream",
     "text": "\n"
    },
    {
     "name": "stderr",
     "output_type": "stream",
     "text": "\rdf_cache_sqlite:compute[search_recs]: 100%|██████████████████████████████████████████████| 1/1 [00:04<00:00,  4.02s/it]"
    },
    {
     "name": "stderr",
     "output_type": "stream",
     "text": "\n"
    },
    {
     "name": "stdout",
     "output_type": "stream",
     "text": "\rdf_cache_sqlite:col_to_sql[search_recs: json_dumps_canonical(background)]: ["
    },
    {
     "name": "stdout",
     "output_type": "stream",
     "text": "                    "
    },
    {
     "name": "stdout",
     "output_type": "stream",
     "text": "] |   0% (1000) |  0.0s"
    },
    {
     "name": "stdout",
     "output_type": "stream",
     "text": "\rdf_cache_sqlite:col_to_sql[search_recs: json_dumps_canonical(background)]: ["
    },
    {
     "name": "stdout",
     "output_type": "stream",
     "text": "####################"
    },
    {
     "name": "stdout",
     "output_type": "stream",
     "text": "] | 100% (1000) |  0.1s"
    },
    {
     "name": "stdout",
     "output_type": "stream",
     "text": "\n"
    },
    {
     "name": "stdout",
     "output_type": "stream",
     "text": "\rdf_cache_sqlite:col_to_sql[search_recs: json_dumps_canonical(background_species)]: ["
    },
    {
     "name": "stdout",
     "output_type": "stream",
     "text": "            "
    },
    {
     "name": "stdout",
     "output_type": "stream",
     "text": "] |   0% (1000) |  0.0s"
    },
    {
     "name": "stdout",
     "output_type": "stream",
     "text": "\rdf_cache_sqlite:col_to_sql[search_recs: json_dumps_canonical(background_species)]: ["
    },
    {
     "name": "stdout",
     "output_type": "stream",
     "text": "############"
    },
    {
     "name": "stdout",
     "output_type": "stream",
     "text": "] | 100% (1000) |  0.1s"
    },
    {
     "name": "stdout",
     "output_type": "stream",
     "text": "\n"
    },
    {
     "name": "stdout",
     "output_type": "stream",
     "text": "\rdf_cache_sqlite:col_to_sql[search_recs: np_save_to_bytes(f_preds)]: ["
    },
    {
     "name": "stdout",
     "output_type": "stream",
     "text": "                           "
    },
    {
     "name": "stdout",
     "output_type": "stream",
     "text": "] |   0% (1000) |  0.0s"
    },
    {
     "name": "stdout",
     "output_type": "stream",
     "text": "\rdf_cache_sqlite:col_to_sql[search_recs: np_save_to_bytes(f_preds)]: ["
    },
    {
     "name": "stdout",
     "output_type": "stream",
     "text": "##############             "
    },
    {
     "name": "stdout",
     "output_type": "stream",
     "text": "] |  53% (1000) |  0.1s"
    },
    {
     "name": "stdout",
     "output_type": "stream",
     "text": "\rdf_cache_sqlite:col_to_sql[search_recs: np_save_to_bytes(f_preds)]: ["
    },
    {
     "name": "stdout",
     "output_type": "stream",
     "text": "###########################"
    },
    {
     "name": "stdout",
     "output_type": "stream",
     "text": "] | 100% (1000) |  0.2s"
    },
    {
     "name": "stdout",
     "output_type": "stream",
     "text": "\n"
    },
    {
     "name": "stdout",
     "output_type": "stream",
     "text": "\rdf_cache_sqlite:col_to_sql[search_recs: np_save_to_bytes(feat)]: ["
    },
    {
     "name": "stdout",
     "output_type": "stream",
     "text": "                              "
    },
    {
     "name": "stdout",
     "output_type": "stream",
     "text": "] |   0% (1000) |  0.0s"
    },
    {
     "name": "stdout",
     "output_type": "stream",
     "text": "\rdf_cache_sqlite:col_to_sql[search_recs: np_save_to_bytes(feat)]: ["
    },
    {
     "name": "stdout",
     "output_type": "stream",
     "text": "################              "
    },
    {
     "name": "stdout",
     "output_type": "stream",
     "text": "] |  53% (1000) |  0.1s"
    },
    {
     "name": "stdout",
     "output_type": "stream",
     "text": "\rdf_cache_sqlite:col_to_sql[search_recs: np_save_to_bytes(feat)]: ["
    },
    {
     "name": "stdout",
     "output_type": "stream",
     "text": "##############################"
    },
    {
     "name": "stdout",
     "output_type": "stream",
     "text": "] | 100% (1000) |  0.3s"
    },
    {
     "name": "stdout",
     "output_type": "stream",
     "text": "\n"
    },
    {
     "name": "stdout",
     "output_type": "stream",
     "text": "\rdf_cache_sqlite:df.to_sql[search_recs]: ["
    },
    {
     "name": "stdout",
     "output_type": "stream",
     "text": "                                                       "
    },
    {
     "name": "stdout",
     "output_type": "stream",
     "text": "] |   0% (1000) |  0.0s"
    },
    {
     "name": "stdout",
     "output_type": "stream",
     "text": "\rdf_cache_sqlite:df.to_sql[search_recs]: ["
    },
    {
     "name": "stdout",
     "output_type": "stream",
     "text": "                                                       "
    },
    {
     "name": "stdout",
     "output_type": "stream",
     "text": "] |   0% (1000) |  0.2s"
    },
    {
     "name": "stdout",
     "output_type": "stream",
     "text": "\rdf_cache_sqlite:df.to_sql[search_recs]: ["
    },
    {
     "name": "stdout",
     "output_type": "stream",
     "text": "                                                       "
    },
    {
     "name": "stdout",
     "output_type": "stream",
     "text": "] |   0% (1000) |  0.3s"
    },
    {
     "name": "stdout",
     "output_type": "stream",
     "text": "\rdf_cache_sqlite:df.to_sql[search_recs]: ["
    },
    {
     "name": "stdout",
     "output_type": "stream",
     "text": "                                                       "
    },
    {
     "name": "stdout",
     "output_type": "stream",
     "text": "] |   0% (1000) |  0.4s"
    },
    {
     "name": "stdout",
     "output_type": "stream",
     "text": "\rdf_cache_sqlite:df.to_sql[search_recs]: ["
    },
    {
     "name": "stdout",
     "output_type": "stream",
     "text": "                                                       "
    },
    {
     "name": "stdout",
     "output_type": "stream",
     "text": "] |   0% (1000) |  0.5s"
    },
    {
     "name": "stdout",
     "output_type": "stream",
     "text": "\rdf_cache_sqlite:df.to_sql[search_recs]: ["
    },
    {
     "name": "stdout",
     "output_type": "stream",
     "text": "                                                       "
    },
    {
     "name": "stdout",
     "output_type": "stream",
     "text": "] |   0% (1000) |  0.6s"
    },
    {
     "name": "stdout",
     "output_type": "stream",
     "text": "\rdf_cache_sqlite:df.to_sql[search_recs]: ["
    },
    {
     "name": "stdout",
     "output_type": "stream",
     "text": "                                                       "
    },
    {
     "name": "stdout",
     "output_type": "stream",
     "text": "] |   0% (1000) |  0.7s"
    },
    {
     "name": "stdout",
     "output_type": "stream",
     "text": "\rdf_cache_sqlite:df.to_sql[search_recs]: ["
    },
    {
     "name": "stdout",
     "output_type": "stream",
     "text": "                                                       "
    },
    {
     "name": "stdout",
     "output_type": "stream",
     "text": "] |   0% (1000) |  0.8s"
    },
    {
     "name": "stdout",
     "output_type": "stream",
     "text": "\rdf_cache_sqlite:df.to_sql[search_recs]: ["
    },
    {
     "name": "stdout",
     "output_type": "stream",
     "text": "                                                       "
    },
    {
     "name": "stdout",
     "output_type": "stream",
     "text": "] |   0% (1000) |  0.9s"
    },
    {
     "name": "stdout",
     "output_type": "stream",
     "text": "\rdf_cache_sqlite:df.to_sql[search_recs]: ["
    },
    {
     "name": "stdout",
     "output_type": "stream",
     "text": "                                                       "
    },
    {
     "name": "stdout",
     "output_type": "stream",
     "text": "] |   0% (1000) |  1.0s"
    },
    {
     "name": "stdout",
     "output_type": "stream",
     "text": "\rdf_cache_sqlite:df.to_sql[search_recs]: ["
    },
    {
     "name": "stdout",
     "output_type": "stream",
     "text": "#######################################################"
    },
    {
     "name": "stdout",
     "output_type": "stream",
     "text": "] | 100% (1000) |  1.1s"
    },
    {
     "name": "stdout",
     "output_type": "stream",
     "text": "\n"
    },
    {
     "name": "stderr",
     "output_type": "stream",
     "text": "\rdf_cache_sqlite:df.to_sql[_search_recs_bubo_metadata]:   0%|                                     | 0/1 [00:00<?, ?it/s]"
    },
    {
     "name": "stderr",
     "output_type": "stream",
     "text": "\rdf_cache_sqlite:df.to_sql[_search_recs_bubo_metadata]: 100%|████████████████████████████| 1/1 [00:00<00:00, 148.32it/s]"
    },
    {
     "name": "stderr",
     "output_type": "stream",
     "text": "\n"
    },
    {
     "data": {
      "text/html": "<table border=\"1\" class=\"dataframe\">\n  <thead>\n    <tr style=\"text-align: right;\">\n      <th></th>\n      <th>size</th>\n      <th>type</th>\n      <th>0</th>\n    </tr>\n  </thead>\n  <tbody>\n    <tr>\n      <th>xc_id</th>\n      <td>36</td>\n      <td><div class=\"not-number\">int</div></td>\n      <td>413174</td>\n    </tr>\n    <tr>\n      <th>feat</th>\n      <td>6104</td>\n      <td><div class=\"not-number\">ndarray</div></td>\n      <td><div class=\"not-number\">[ 9.259e-02 -3.927e-02  4.972e-01 -4.154e-04 -4.900e-02 -6.117e-02  3.974e-02 -1.629e-01  6.649e-02 -1.643e-02\n -8.081e-02 -7.604e-02 -9.098e-02  4.766e-02 -4.830e-02 -6.90...</td>\n    </tr>\n    <tr>\n      <th>f_preds</th>\n      <td>104</td>\n      <td><div class=\"not-number\">ndarray</div></td>\n      <td><div class=\"not-number\">[3.219e-03 1.693e-03 4.284e-05 3.685e-03 1.657e-03 1.457e-02 9.939e-03 1.444e-03 2.617e-04 6.943e-04 4.435e-04\n 7.072e-04 2.569e-03 9.745e-03 8.396e-04 2.003e-03 7.801e-04 ...</td>\n    </tr>\n    <tr>\n      <th>background</th>\n      <td>80</td>\n      <td><div class=\"not-number\">list</div></td>\n      <td><div class=\"not-number\">['White-crowned Sparrow (Zonotrichia leucophrys)']</div></td>\n    </tr>\n    <tr>\n      <th>background_species</th>\n      <td>80</td>\n      <td><div class=\"not-number\">list</div></td>\n      <td><div class=\"not-number\">['WCSP']</div></td>\n    </tr>\n  </tbody>\n</table>",
      "text/plain": "                    size     type                                                                                                                                                                                                        0\nxc_id                 36      int                                                                                                                                                                                                   413174\nfeat                6104  ndarray  [0.09258732, -0.039267898, 0.49721217, -0.00041539228, -0.048999168, -0.0611713, 0.03974079, -0.16286443, 0.06649229, -0.016432613, -0.080809884, -0.076037146, -0.090977564, 0.047662657, -0.048301...\nf_preds              104  ndarray  [0.003219216, 0.0016933391, 4.2837153e-05, 0.0036848816, 0.0016570376, 0.014565381, 0.0099388985, 0.0014441155, 0.0002616892, 0.0006942802, 0.0004434612, 0.00070716365, 0.0025688438, 0.009744544, ...\nbackground            80     list                                                                                                                                                         [White-crowned Sparrow (Zonotrichia leucophrys)]\nbackground_species    80     list                                                                                                                                                                                                   [WCSP]"
     },
     "metadata": {},
     "output_type": "display_data",
     "transient": {}
    },
    {
     "name": "stdout",
     "output_type": "stream",
     "text": "\n"
    },
    {
     "name": "stdout",
     "output_type": "stream",
     "text": "search_recs(**{})"
    },
    {
     "name": "stdout",
     "output_type": "stream",
     "text": "\n"
    },
    {
     "name": "stdout",
     "output_type": "stream",
     "text": "INFO     [14:27:55.877] [24385] 600 api.recs/get_search_recs"
    },
    {
     "name": "stdout",
     "output_type": "stream",
     "text": "\n"
    },
    {
     "name": "stdout",
     "output_type": "stream",
     "text": "DEBUG    [14:27:55.893] [24385] 243 payloads/df_cache_sqlite: Connect {db_url: 'sqlite:////Users/danb/hack/bubo/features/data/cache/payloads/search_recs-version[2],limit[1000],audio_s[10],countries_k[na],com_names_k[ca],num_recs[None]-01b98fe.sqlite3'}"
    },
    {
     "name": "stdout",
     "output_type": "stream",
     "text": "\n"
    },
    {
     "name": "stderr",
     "output_type": "stream",
     "text": "\rdf_cache_sqlite:pd.read_sql_table[_search_recs_bubo_metadata]:   0%|                             | 0/1 [00:00<?, ?it/s]"
    },
    {
     "name": "stderr",
     "output_type": "stream",
     "text": "\rdf_cache_sqlite:pd.read_sql_table[_search_recs_bubo_metadata]: 100%|████████████████████| 1/1 [00:00<00:00, 159.39it/s]"
    },
    {
     "name": "stderr",
     "output_type": "stream",
     "text": "\n"
    },
    {
     "name": "stdout",
     "output_type": "stream",
     "text": "DEBUG    [14:27:55.912] [24385] 315 payloads/df_cache_sqlite: select count(*) from search_recs"
    },
    {
     "name": "stdout",
     "output_type": "stream",
     "text": "\n"
    },
    {
     "name": "stdout",
     "output_type": "stream",
     "text": "\rdf_cache_sqlite:pd.read_sql_table[search_recs]: ["
    },
    {
     "name": "stdout",
     "output_type": "stream",
     "text": "                                               "
    },
    {
     "name": "stdout",
     "output_type": "stream",
     "text": "] |   0% (1000) |  0.0s"
    },
    {
     "name": "stdout",
     "output_type": "stream",
     "text": "\rdf_cache_sqlite:pd.read_sql_table[search_recs]: ["
    },
    {
     "name": "stdout",
     "output_type": "stream",
     "text": "                                               "
    },
    {
     "name": "stdout",
     "output_type": "stream",
     "text": "] |   0% (1000) |  0.1s"
    },
    {
     "name": "stdout",
     "output_type": "stream",
     "text": "\rdf_cache_sqlite:pd.read_sql_table[search_recs]: ["
    },
    {
     "name": "stdout",
     "output_type": "stream",
     "text": "###############################################"
    },
    {
     "name": "stdout",
     "output_type": "stream",
     "text": "] | 100% (1000) |  0.2s"
    },
    {
     "name": "stdout",
     "output_type": "stream",
     "text": "\n"
    },
    {
     "name": "stdout",
     "output_type": "stream",
     "text": "\rdf_cache_sqlite:col_from_sql[search_recs: loads(background)]: ["
    },
    {
     "name": "stdout",
     "output_type": "stream",
     "text": "                                 "
    },
    {
     "name": "stdout",
     "output_type": "stream",
     "text": "] |   0% (1000) |  0.0s"
    },
    {
     "name": "stdout",
     "output_type": "stream",
     "text": "\rdf_cache_sqlite:col_from_sql[search_recs: loads(background)]: ["
    },
    {
     "name": "stdout",
     "output_type": "stream",
     "text": "#################################"
    },
    {
     "name": "stdout",
     "output_type": "stream",
     "text": "] | 100% (1000) |  0.1s"
    },
    {
     "name": "stdout",
     "output_type": "stream",
     "text": "\n"
    },
    {
     "name": "stdout",
     "output_type": "stream",
     "text": "\rdf_cache_sqlite:col_from_sql[search_recs: loads(background_species)]: ["
    },
    {
     "name": "stdout",
     "output_type": "stream",
     "text": "                         "
    },
    {
     "name": "stdout",
     "output_type": "stream",
     "text": "] |   0% (1000) |  0.0s"
    },
    {
     "name": "stdout",
     "output_type": "stream",
     "text": "\rdf_cache_sqlite:col_from_sql[search_recs: loads(background_species)]: ["
    },
    {
     "name": "stdout",
     "output_type": "stream",
     "text": "#########################"
    },
    {
     "name": "stdout",
     "output_type": "stream",
     "text": "] | 100% (1000) |  0.1s"
    },
    {
     "name": "stdout",
     "output_type": "stream",
     "text": "\n"
    },
    {
     "name": "stdout",
     "output_type": "stream",
     "text": "\rdf_cache_sqlite:col_from_sql[search_recs: np_load_from_bytes(f_preds)]: ["
    },
    {
     "name": "stdout",
     "output_type": "stream",
     "text": "                       "
    },
    {
     "name": "stdout",
     "output_type": "stream",
     "text": "] |   0% (1000) |  0.0s"
    },
    {
     "name": "stdout",
     "output_type": "stream",
     "text": "\rdf_cache_sqlite:col_from_sql[search_recs: np_load_from_bytes(f_preds)]: ["
    },
    {
     "name": "stdout",
     "output_type": "stream",
     "text": "########               "
    },
    {
     "name": "stdout",
     "output_type": "stream",
     "text": "] |  37% (1000) |  0.1s"
    },
    {
     "name": "stdout",
     "output_type": "stream",
     "text": "\rdf_cache_sqlite:col_from_sql[search_recs: np_load_from_bytes(f_preds)]: ["
    },
    {
     "name": "stdout",
     "output_type": "stream",
     "text": "#######################"
    },
    {
     "name": "stdout",
     "output_type": "stream",
     "text": "] | 100% (1000) |  0.3s"
    },
    {
     "name": "stdout",
     "output_type": "stream",
     "text": "\n"
    },
    {
     "name": "stdout",
     "output_type": "stream",
     "text": "\rdf_cache_sqlite:col_from_sql[search_recs: np_load_from_bytes(feat)]: ["
    },
    {
     "name": "stdout",
     "output_type": "stream",
     "text": "                          "
    },
    {
     "name": "stdout",
     "output_type": "stream",
     "text": "] |   0% (1000) |  0.0s"
    },
    {
     "name": "stdout",
     "output_type": "stream",
     "text": "\rdf_cache_sqlite:col_from_sql[search_recs: np_load_from_bytes(feat)]: ["
    },
    {
     "name": "stdout",
     "output_type": "stream",
     "text": "#########                 "
    },
    {
     "name": "stdout",
     "output_type": "stream",
     "text": "] |  37% (1000) |  0.1s"
    },
    {
     "name": "stdout",
     "output_type": "stream",
     "text": "\rdf_cache_sqlite:col_from_sql[search_recs: np_load_from_bytes(feat)]: ["
    },
    {
     "name": "stdout",
     "output_type": "stream",
     "text": "##########################"
    },
    {
     "name": "stdout",
     "output_type": "stream",
     "text": "] | 100% (1000) |  0.3s"
    },
    {
     "name": "stdout",
     "output_type": "stream",
     "text": "\n"
    },
    {
     "name": "stdout",
     "output_type": "stream",
     "text": "\rdtypes: ["
    },
    {
     "name": "stdout",
     "output_type": "stream",
     "text": "                                                                                          "
    },
    {
     "name": "stdout",
     "output_type": "stream",
     "text": "] |   0% (1) |  0.0s"
    },
    {
     "name": "stdout",
     "output_type": "stream",
     "text": "\rdtypes: ["
    },
    {
     "name": "stdout",
     "output_type": "stream",
     "text": "##########################################################################################"
    },
    {
     "name": "stdout",
     "output_type": "stream",
     "text": "] | 100% (1) |  0.1s"
    },
    {
     "name": "stdout",
     "output_type": "stream",
     "text": "\n"
    },
    {
     "data": {
      "text/html": "<table border=\"1\" class=\"dataframe\">\n  <thead>\n    <tr style=\"text-align: right;\">\n      <th></th>\n      <th>size</th>\n      <th>type</th>\n      <th>0</th>\n    </tr>\n  </thead>\n  <tbody>\n    <tr>\n      <th>xc_id</th>\n      <td>36</td>\n      <td><div class=\"not-number\">int</div></td>\n      <td>413174</td>\n    </tr>\n    <tr>\n      <th>feat</th>\n      <td>6104</td>\n      <td><div class=\"not-number\">ndarray</div></td>\n      <td><div class=\"not-number\">[ 9.259e-02 -3.927e-02  4.972e-01 -4.154e-04 -4.900e-02 -6.117e-02  3.974e-02 -1.629e-01  6.649e-02 -1.643e-02\n -8.081e-02 -7.604e-02 -9.098e-02  4.766e-02 -4.830e-02 -6.90...</td>\n    </tr>\n    <tr>\n      <th>f_preds</th>\n      <td>1428</td>\n      <td><div class=\"not-number\">ndarray</div></td>\n      <td><div class=\"not-number\">[3.219e-03 1.693e-03 4.284e-05 3.685e-03 1.657e-03 1.457e-02 9.939e-03 1.444e-03 2.617e-04 6.943e-04 4.435e-04\n 7.072e-04 2.569e-03 9.745e-03 8.396e-04 2.003e-03 7.801e-04 ...</td>\n    </tr>\n    <tr>\n      <th>background</th>\n      <td>80</td>\n      <td><div class=\"not-number\">list</div></td>\n      <td><div class=\"not-number\">['White-crowned Sparrow (Zonotrichia leucophrys)']</div></td>\n    </tr>\n    <tr>\n      <th>background_species</th>\n      <td>80</td>\n      <td><div class=\"not-number\">list</div></td>\n      <td><div class=\"not-number\">['WCSP']</div></td>\n    </tr>\n  </tbody>\n</table>",
      "text/plain": "                    size     type                                                                                                                                                                                                        0\nxc_id                 36      int                                                                                                                                                                                                   413174\nfeat                6104  ndarray  [0.09258732, -0.039267898, 0.49721217, -0.00041539228, -0.048999168, -0.0611713, 0.03974079, -0.16286443, 0.06649229, -0.016432613, -0.080809884, -0.076037146, -0.090977564, 0.047662657, -0.048301...\nf_preds             1428  ndarray  [0.003219216, 0.0016933391, 4.2837153e-05, 0.0036848816, 0.0016570376, 0.014565381, 0.0099388985, 0.0014441155, 0.0002616892, 0.0006942802, 0.0004434612, 0.00070716365, 0.0025688438, 0.009744544, ...\nbackground            80     list                                                                                                                                                         [White-crowned Sparrow (Zonotrichia leucophrys)]\nbackground_species    80     list                                                                                                                                                                                                   [WCSP]"
     },
     "metadata": {},
     "output_type": "display_data",
     "transient": {}
    }
   ],
   "source": [
    "from notebooks import *\n",
    "sg.init(None, skip=[sg_load.load_search_recs])\n",
    "get_search_recs.cache_clear()\n",
    "kwargss = [\n",
    "    dict(refresh=True),  # Cache miss\n",
    "    dict(),  # Cache hit\n",
    "]\n",
    "search_recss = []\n",
    "for kwargs in kwargss:\n",
    "    print()\n",
    "    print(f'search_recs(**{kwargs})')\n",
    "    search_recs = get_search_recs(**kwargs, cache_type='sqlite')\n",
    "    search_recss.append(search_recs)\n",
    "    display(search_recs\n",
    "        [['xc_id', 'feat', 'f_preds', 'background', 'background_species']]\n",
    "        [2:3].reset_index(drop=True).T\n",
    "        .pipe(df_assign_first,\n",
    "            size=lambda df: df.T.memory_usage(deep=True),\n",
    "            type=lambda df: df[0].map(lambda x: type(x).__name__),\n",
    "        )\n",
    "    )"
   ]
  },
  {
   "cell_type": "code",
   "execution_count": null,
   "metadata": {},
   "outputs": [],
   "source": [
    "# TODO Write tests\n",
    "#   - Should roundtrip, should preserve category dtypes, should fail if index present\n",
    "[a, b] = search_recss\n",
    "pd.testing.assert_frame_equal(a, b, check_index_type=True, check_column_type=True)"
   ]
  },
  {
   "cell_type": "code",
   "execution_count": null,
   "metadata": {},
   "outputs": [],
   "source": []
  }
 ],
 "metadata": {
  "kernelspec": {
   "display_name": "bubo-features (PYTHONSTARTUP)",
   "language": "python",
   "name": "bubo-features (PYTHONSTARTUP)"
  }
 },
 "nbformat": 4,
 "nbformat_minor": 2
}
