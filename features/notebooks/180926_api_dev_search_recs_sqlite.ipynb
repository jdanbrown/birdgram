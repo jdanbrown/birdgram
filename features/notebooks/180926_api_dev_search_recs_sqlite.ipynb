{
 "cells": [
  {
   "cell_type": "markdown",
   "metadata": {},
   "source": [
    "# Takeaways\n",
    "- Roundtrip works (TODO write tests)\n",
    "- Write perf\n",
    "    - No issues\n",
    "- Read perf\n",
    "    - 2.1s read_sql_table is fine, but ~7.5s to convert each feat col is too slow for server startup\n",
    "    - Bottleneck is npy bytes -> np.array\n",
    "    - But any optimization effort is a waste of time until we nail down how mobile will use the .sqlite payload...\n",
    "    - TODO Revist once we have an idea how mobile will use search_recs\n",
    "        - Will it want each array packed as bytes, like this?\n",
    "        - Or will it want array elements manifested as sql data, e.g. so it can query them using sql?\n",
    "        - Or something else entirely...?"
   ]
  },
  {
   "cell_type": "code",
   "execution_count": null,
   "metadata": {
    "time": "94.525s"
   },
   "outputs": [
    {
     "name": "stdout",
     "output_type": "stream",
     "text": "\n"
    },
    {
     "name": "stdout",
     "output_type": "stream",
     "text": "search_recs(**{'refresh': True})"
    },
    {
     "name": "stdout",
     "output_type": "stream",
     "text": "\n"
    },
    {
     "name": "stdout",
     "output_type": "stream",
     "text": "INFO     [15:55:54.652] [70163] 292 api.recs/get_search_recs"
    },
    {
     "name": "stdout",
     "output_type": "stream",
     "text": "\n"
    },
    {
     "name": "stdout",
     "output_type": "stream",
     "text": "DEBUG    [15:55:54.667] [70163] 536 util/df_cache_sqlite: Connect {db_url: 'sqlite:////Users/danb/hack/bubo/features/data/cache/payloads/search_recs-version[7],audio_s[10],countries_k[na],com_names_k[ca],num_recs[None]-bd925ce.sqlite3'}"
    },
    {
     "name": "stdout",
     "output_type": "stream",
     "text": "\n"
    },
    {
     "name": "stderr",
     "output_type": "stream",
     "text": "\rdf_cache_sqlite:compute[search_recs]:   0%|                                                      | 0/1 [00:00<?, ?it/s]"
    },
    {
     "name": "stdout",
     "output_type": "stream",
     "text": "INFO     [15:55:54.677] [70163] 327 api.recs/_compute_search_recs: {len(sg.xc_meta): 35233, countries_k: na, com_names_k: ca, num_recs: null}"
    },
    {
     "name": "stdout",
     "output_type": "stream",
     "text": "\n"
    },
    {
     "name": "stdout",
     "output_type": "stream",
     "text": "\rf_f: ["
    },
    {
     "name": "stdout",
     "output_type": "stream",
     "text": "                                                                                         "
    },
    {
     "name": "stdout",
     "output_type": "stream",
     "text": "] |   0% (35231) |  0.0s"
    },
    {
     "name": "stdout",
     "output_type": "stream",
     "text": "\rf_f: ["
    },
    {
     "name": "stdout",
     "output_type": "stream",
     "text": "                                                                                         "
    },
    {
     "name": "stdout",
     "output_type": "stream",
     "text": "] |   0% (35231) |  0.1s"
    },
    {
     "name": "stdout",
     "output_type": "stream",
     "text": "\rf_f: ["
    },
    {
     "name": "stdout",
     "output_type": "stream",
     "text": "#########################################################################################"
    },
    {
     "name": "stdout",
     "output_type": "stream",
     "text": "] | 100% (35231) |  0.2s"
    },
    {
     "name": "stdout",
     "output_type": "stream",
     "text": "\n"
    },
    {
     "name": "stdout",
     "output_type": "stream",
     "text": "\rf_p: ["
    },
    {
     "name": "stdout",
     "output_type": "stream",
     "text": "                                                                                         "
    },
    {
     "name": "stdout",
     "output_type": "stream",
     "text": "] |   0% (35231) |  0.0s"
    },
    {
     "name": "stdout",
     "output_type": "stream",
     "text": "\rf_p: ["
    },
    {
     "name": "stdout",
     "output_type": "stream",
     "text": "                                                                                         "
    },
    {
     "name": "stdout",
     "output_type": "stream",
     "text": "] |   0% (35231) |  0.2s"
    },
    {
     "name": "stdout",
     "output_type": "stream",
     "text": "\rf_p: ["
    },
    {
     "name": "stdout",
     "output_type": "stream",
     "text": "                                                                                         "
    },
    {
     "name": "stdout",
     "output_type": "stream",
     "text": "] |   0% (35231) |  0.3s"
    },
    {
     "name": "stdout",
     "output_type": "stream",
     "text": "\rf_p: ["
    },
    {
     "name": "stdout",
     "output_type": "stream",
     "text": "                                                                                         "
    },
    {
     "name": "stdout",
     "output_type": "stream",
     "text": "] |   0% (35231) |  0.5s"
    },
    {
     "name": "stdout",
     "output_type": "stream",
     "text": "\rf_p: ["
    },
    {
     "name": "stdout",
     "output_type": "stream",
     "text": "#########################################################################################"
    },
    {
     "name": "stdout",
     "output_type": "stream",
     "text": "] | 100% (35231) |  0.6s"
    },
    {
     "name": "stdout",
     "output_type": "stream",
     "text": "\n"
    },
    {
     "name": "stderr",
     "output_type": "stream",
     "text": "\rdf_cache_sqlite:compute[search_recs]: 100%|██████████████████████████████████████████████| 1/1 [00:11<00:00, 11.71s/it]"
    },
    {
     "name": "stderr",
     "output_type": "stream",
     "text": "\n"
    },
    {
     "name": "stderr",
     "output_type": "stream",
     "text": "\rdf_cache_sqlite:df.to_sql[_search_recs_bubo_metadata]:   0%|                                     | 0/1 [00:00<?, ?it/s]"
    },
    {
     "name": "stderr",
     "output_type": "stream",
     "text": "\rdf_cache_sqlite:df.to_sql[_search_recs_bubo_metadata]: 100%|█████████████████████████████| 1/1 [00:00<00:00, 75.31it/s]"
    },
    {
     "name": "stderr",
     "output_type": "stream",
     "text": "\n"
    },
    {
     "name": "stdout",
     "output_type": "stream",
     "text": "\rdf_cache_sqlite:col_to_sql[search_recs.feat]: ["
    },
    {
     "name": "stdout",
     "output_type": "stream",
     "text": "                                                "
    },
    {
     "name": "stdout",
     "output_type": "stream",
     "text": "] |   0% (35231) |  0.0s"
    },
    {
     "name": "stdout",
     "output_type": "stream",
     "text": "\rdf_cache_sqlite:col_to_sql[search_recs.feat]: ["
    },
    {
     "name": "stdout",
     "output_type": "stream",
     "text": "                                                "
    },
    {
     "name": "stdout",
     "output_type": "stream",
     "text": "] |   0% (35231) |  0.2s"
    },
    {
     "name": "stdout",
     "output_type": "stream",
     "text": "\rdf_cache_sqlite:col_to_sql[search_recs.feat]: ["
    },
    {
     "name": "stdout",
     "output_type": "stream",
     "text": "###                                             "
    },
    {
     "name": "stdout",
     "output_type": "stream",
     "text": "] |   6% (35231) |  1.0s"
    },
    {
     "name": "stdout",
     "output_type": "stream",
     "text": "\rdf_cache_sqlite:col_to_sql[search_recs.feat]: ["
    },
    {
     "name": "stdout",
     "output_type": "stream",
     "text": "########                                        "
    },
    {
     "name": "stdout",
     "output_type": "stream",
     "text": "] |  17% (35231) |  1.5s"
    },
    {
     "name": "stdout",
     "output_type": "stream",
     "text": "\rdf_cache_sqlite:col_to_sql[search_recs.feat]: ["
    },
    {
     "name": "stdout",
     "output_type": "stream",
     "text": "##############                                  "
    },
    {
     "name": "stdout",
     "output_type": "stream",
     "text": "] |  30% (35231) |  2.2s"
    },
    {
     "name": "stdout",
     "output_type": "stream",
     "text": "\rdf_cache_sqlite:col_to_sql[search_recs.feat]: ["
    },
    {
     "name": "stdout",
     "output_type": "stream",
     "text": "#####################                           "
    },
    {
     "name": "stdout",
     "output_type": "stream",
     "text": "] |  43% (35231) |  2.7s"
    },
    {
     "name": "stdout",
     "output_type": "stream",
     "text": "\rdf_cache_sqlite:col_to_sql[search_recs.feat]: ["
    },
    {
     "name": "stdout",
     "output_type": "stream",
     "text": "############################                    "
    },
    {
     "name": "stdout",
     "output_type": "stream",
     "text": "] |  58% (35231) |  3.4s"
    },
    {
     "name": "stdout",
     "output_type": "stream",
     "text": "\rdf_cache_sqlite:col_to_sql[search_recs.feat]: ["
    },
    {
     "name": "stdout",
     "output_type": "stream",
     "text": "#################################               "
    },
    {
     "name": "stdout",
     "output_type": "stream",
     "text": "] |  68% (35231) |  4.2s"
    },
    {
     "name": "stdout",
     "output_type": "stream",
     "text": "\rdf_cache_sqlite:col_to_sql[search_recs.feat]: ["
    },
    {
     "name": "stdout",
     "output_type": "stream",
     "text": "#####################################           "
    },
    {
     "name": "stdout",
     "output_type": "stream",
     "text": "] |  77% (35231) |  4.5s"
    },
    {
     "name": "stdout",
     "output_type": "stream",
     "text": "\rdf_cache_sqlite:col_to_sql[search_recs.feat]: ["
    },
    {
     "name": "stdout",
     "output_type": "stream",
     "text": "########################################        "
    },
    {
     "name": "stdout",
     "output_type": "stream",
     "text": "] |  85% (35231) |  5.1s"
    },
    {
     "name": "stdout",
     "output_type": "stream",
     "text": "\rdf_cache_sqlite:col_to_sql[search_recs.feat]: ["
    },
    {
     "name": "stdout",
     "output_type": "stream",
     "text": "################################################"
    },
    {
     "name": "stdout",
     "output_type": "stream",
     "text": "] | 100% (35231) |  5.3s"
    },
    {
     "name": "stdout",
     "output_type": "stream",
     "text": "\n"
    },
    {
     "name": "stdout",
     "output_type": "stream",
     "text": "\rdf_cache_sqlite:col_to_sql[search_recs.f_f]: ["
    },
    {
     "name": "stdout",
     "output_type": "stream",
     "text": "                                                 "
    },
    {
     "name": "stdout",
     "output_type": "stream",
     "text": "] |   0% (35231) |  0.0s"
    },
    {
     "name": "stdout",
     "output_type": "stream",
     "text": "\rdf_cache_sqlite:col_to_sql[search_recs.f_f]: ["
    },
    {
     "name": "stdout",
     "output_type": "stream",
     "text": "                                                 "
    },
    {
     "name": "stdout",
     "output_type": "stream",
     "text": "] |   0% (35231) |  0.2s"
    },
    {
     "name": "stdout",
     "output_type": "stream",
     "text": "\rdf_cache_sqlite:col_to_sql[search_recs.f_f]: ["
    },
    {
     "name": "stdout",
     "output_type": "stream",
     "text": "#                                                "
    },
    {
     "name": "stdout",
     "output_type": "stream",
     "text": "] |   3% (35231) |  1.0s"
    },
    {
     "name": "stdout",
     "output_type": "stream",
     "text": "\rdf_cache_sqlite:col_to_sql[search_recs.f_f]: ["
    },
    {
     "name": "stdout",
     "output_type": "stream",
     "text": "########                                         "
    },
    {
     "name": "stdout",
     "output_type": "stream",
     "text": "] |  17% (35231) |  1.3s"
    },
    {
     "name": "stdout",
     "output_type": "stream",
     "text": "\rdf_cache_sqlite:col_to_sql[search_recs.f_f]: ["
    },
    {
     "name": "stdout",
     "output_type": "stream",
     "text": "############                                     "
    },
    {
     "name": "stdout",
     "output_type": "stream",
     "text": "] |  26% (35231) |  2.0s"
    },
    {
     "name": "stdout",
     "output_type": "stream",
     "text": "\rdf_cache_sqlite:col_to_sql[search_recs.f_f]: ["
    },
    {
     "name": "stdout",
     "output_type": "stream",
     "text": "#################                                "
    },
    {
     "name": "stdout",
     "output_type": "stream",
     "text": "] |  36% (35231) |  2.3s"
    },
    {
     "name": "stdout",
     "output_type": "stream",
     "text": "\rdf_cache_sqlite:col_to_sql[search_recs.f_f]: ["
    },
    {
     "name": "stdout",
     "output_type": "stream",
     "text": "####################                             "
    },
    {
     "name": "stdout",
     "output_type": "stream",
     "text": "] |  41% (35231) |  2.8s"
    },
    {
     "name": "stdout",
     "output_type": "stream",
     "text": "\rdf_cache_sqlite:col_to_sql[search_recs.f_f]: ["
    },
    {
     "name": "stdout",
     "output_type": "stream",
     "text": "##########################                       "
    },
    {
     "name": "stdout",
     "output_type": "stream",
     "text": "] |  55% (35231) |  3.5s"
    },
    {
     "name": "stdout",
     "output_type": "stream",
     "text": "\rdf_cache_sqlite:col_to_sql[search_recs.f_f]: ["
    },
    {
     "name": "stdout",
     "output_type": "stream",
     "text": "###############################                  "
    },
    {
     "name": "stdout",
     "output_type": "stream",
     "text": "] |  63% (35231) |  3.8s"
    },
    {
     "name": "stdout",
     "output_type": "stream",
     "text": "\rdf_cache_sqlite:col_to_sql[search_recs.f_f]: ["
    },
    {
     "name": "stdout",
     "output_type": "stream",
     "text": "##################################               "
    },
    {
     "name": "stdout",
     "output_type": "stream",
     "text": "] |  71% (35231) |  4.2s"
    },
    {
     "name": "stdout",
     "output_type": "stream",
     "text": "\rdf_cache_sqlite:col_to_sql[search_recs.f_f]: ["
    },
    {
     "name": "stdout",
     "output_type": "stream",
     "text": "#####################################            "
    },
    {
     "name": "stdout",
     "output_type": "stream",
     "text": "] |  77% (35231) |  4.8s"
    },
    {
     "name": "stdout",
     "output_type": "stream",
     "text": "\rdf_cache_sqlite:col_to_sql[search_recs.f_f]: ["
    },
    {
     "name": "stdout",
     "output_type": "stream",
     "text": "##############################################   "
    },
    {
     "name": "stdout",
     "output_type": "stream",
     "text": "] |  95% (35231) |  5.1s"
    },
    {
     "name": "stdout",
     "output_type": "stream",
     "text": "\rdf_cache_sqlite:col_to_sql[search_recs.f_f]: ["
    },
    {
     "name": "stdout",
     "output_type": "stream",
     "text": "#################################################"
    },
    {
     "name": "stdout",
     "output_type": "stream",
     "text": "] | 100% (35231) |  5.3s"
    },
    {
     "name": "stdout",
     "output_type": "stream",
     "text": "\n"
    },
    {
     "name": "stdout",
     "output_type": "stream",
     "text": "\rdf_cache_sqlite:col_to_sql[search_recs.f_p]: ["
    },
    {
     "name": "stdout",
     "output_type": "stream",
     "text": "                                                 "
    },
    {
     "name": "stdout",
     "output_type": "stream",
     "text": "] |   0% (35231) |  0.0s"
    },
    {
     "name": "stdout",
     "output_type": "stream",
     "text": "\rdf_cache_sqlite:col_to_sql[search_recs.f_p]: ["
    },
    {
     "name": "stdout",
     "output_type": "stream",
     "text": "                                                 "
    },
    {
     "name": "stdout",
     "output_type": "stream",
     "text": "] |   0% (35231) |  0.2s"
    },
    {
     "name": "stdout",
     "output_type": "stream",
     "text": "\rdf_cache_sqlite:col_to_sql[search_recs.f_p]: ["
    },
    {
     "name": "stdout",
     "output_type": "stream",
     "text": "                                                 "
    },
    {
     "name": "stdout",
     "output_type": "stream",
     "text": "] |   1% (35231) |  0.7s"
    },
    {
     "name": "stdout",
     "output_type": "stream",
     "text": "\rdf_cache_sqlite:col_to_sql[search_recs.f_p]: ["
    },
    {
     "name": "stdout",
     "output_type": "stream",
     "text": "####                                             "
    },
    {
     "name": "stdout",
     "output_type": "stream",
     "text": "] |  10% (35231) |  1.3s"
    },
    {
     "name": "stdout",
     "output_type": "stream",
     "text": "\rdf_cache_sqlite:col_to_sql[search_recs.f_p]: ["
    },
    {
     "name": "stdout",
     "output_type": "stream",
     "text": "#########                                        "
    },
    {
     "name": "stdout",
     "output_type": "stream",
     "text": "] |  18% (35231) |  1.4s"
    },
    {
     "name": "stdout",
     "output_type": "stream",
     "text": "\rdf_cache_sqlite:col_to_sql[search_recs.f_p]: ["
    },
    {
     "name": "stdout",
     "output_type": "stream",
     "text": "############                                     "
    },
    {
     "name": "stdout",
     "output_type": "stream",
     "text": "] |  25% (35231) |  2.0s"
    },
    {
     "name": "stdout",
     "output_type": "stream",
     "text": "\rdf_cache_sqlite:col_to_sql[search_recs.f_p]: ["
    },
    {
     "name": "stdout",
     "output_type": "stream",
     "text": "###############                                  "
    },
    {
     "name": "stdout",
     "output_type": "stream",
     "text": "] |  32% (35231) |  2.5s"
    },
    {
     "name": "stdout",
     "output_type": "stream",
     "text": "\rdf_cache_sqlite:col_to_sql[search_recs.f_p]: ["
    },
    {
     "name": "stdout",
     "output_type": "stream",
     "text": "####################                             "
    },
    {
     "name": "stdout",
     "output_type": "stream",
     "text": "] |  41% (35231) |  2.7s"
    },
    {
     "name": "stdout",
     "output_type": "stream",
     "text": "\rdf_cache_sqlite:col_to_sql[search_recs.f_p]: ["
    },
    {
     "name": "stdout",
     "output_type": "stream",
     "text": "#######################                          "
    },
    {
     "name": "stdout",
     "output_type": "stream",
     "text": "] |  47% (35231) |  3.2s"
    },
    {
     "name": "stdout",
     "output_type": "stream",
     "text": "\rdf_cache_sqlite:col_to_sql[search_recs.f_p]: ["
    },
    {
     "name": "stdout",
     "output_type": "stream",
     "text": "############################                     "
    },
    {
     "name": "stdout",
     "output_type": "stream",
     "text": "] |  57% (35231) |  3.6s"
    },
    {
     "name": "stdout",
     "output_type": "stream",
     "text": "\rdf_cache_sqlite:col_to_sql[search_recs.f_p]: ["
    },
    {
     "name": "stdout",
     "output_type": "stream",
     "text": "################################                 "
    },
    {
     "name": "stdout",
     "output_type": "stream",
     "text": "] |  66% (35231) |  4.3s"
    },
    {
     "name": "stdout",
     "output_type": "stream",
     "text": "\rdf_cache_sqlite:col_to_sql[search_recs.f_p]: ["
    },
    {
     "name": "stdout",
     "output_type": "stream",
     "text": "#####################################            "
    },
    {
     "name": "stdout",
     "output_type": "stream",
     "text": "] |  77% (35231) |  4.5s"
    },
    {
     "name": "stdout",
     "output_type": "stream",
     "text": "\rdf_cache_sqlite:col_to_sql[search_recs.f_p]: ["
    },
    {
     "name": "stdout",
     "output_type": "stream",
     "text": "########################################         "
    },
    {
     "name": "stdout",
     "output_type": "stream",
     "text": "] |  82% (35231) |  5.2s"
    },
    {
     "name": "stdout",
     "output_type": "stream",
     "text": "\rdf_cache_sqlite:col_to_sql[search_recs.f_p]: ["
    },
    {
     "name": "stdout",
     "output_type": "stream",
     "text": "#################################################"
    },
    {
     "name": "stdout",
     "output_type": "stream",
     "text": "] | 100% (35231) |  5.5s"
    },
    {
     "name": "stdout",
     "output_type": "stream",
     "text": "\n"
    },
    {
     "name": "stdout",
     "output_type": "stream",
     "text": "\rdf_cache_sqlite:col_to_sql[search_recs.background]: ["
    },
    {
     "name": "stdout",
     "output_type": "stream",
     "text": "                                          "
    },
    {
     "name": "stdout",
     "output_type": "stream",
     "text": "] |   0% (35231) |  0.0s"
    },
    {
     "name": "stdout",
     "output_type": "stream",
     "text": "\rdf_cache_sqlite:col_to_sql[search_recs.background]: ["
    },
    {
     "name": "stdout",
     "output_type": "stream",
     "text": "###############                           "
    },
    {
     "name": "stdout",
     "output_type": "stream",
     "text": "] |  37% (35231) |  0.2s"
    },
    {
     "name": "stdout",
     "output_type": "stream",
     "text": "\rdf_cache_sqlite:col_to_sql[search_recs.background]: ["
    },
    {
     "name": "stdout",
     "output_type": "stream",
     "text": "##################################        "
    },
    {
     "name": "stdout",
     "output_type": "stream",
     "text": "] |  81% (35231) |  0.3s"
    },
    {
     "name": "stdout",
     "output_type": "stream",
     "text": "\rdf_cache_sqlite:col_to_sql[search_recs.background]: ["
    },
    {
     "name": "stdout",
     "output_type": "stream",
     "text": "##########################################"
    },
    {
     "name": "stdout",
     "output_type": "stream",
     "text": "] | 100% (35231) |  0.4s"
    },
    {
     "name": "stdout",
     "output_type": "stream",
     "text": "\n"
    },
    {
     "name": "stdout",
     "output_type": "stream",
     "text": "\rdf_cache_sqlite:col_to_sql[search_recs.background_species]: ["
    },
    {
     "name": "stdout",
     "output_type": "stream",
     "text": "                                  "
    },
    {
     "name": "stdout",
     "output_type": "stream",
     "text": "] |   0% (35231) |  0.0s"
    },
    {
     "name": "stdout",
     "output_type": "stream",
     "text": "\rdf_cache_sqlite:col_to_sql[search_recs.background_species]: ["
    },
    {
     "name": "stdout",
     "output_type": "stream",
     "text": "###########                       "
    },
    {
     "name": "stdout",
     "output_type": "stream",
     "text": "] |  35% (35231) |  0.2s"
    },
    {
     "name": "stdout",
     "output_type": "stream",
     "text": "\rdf_cache_sqlite:col_to_sql[search_recs.background_species]: ["
    },
    {
     "name": "stdout",
     "output_type": "stream",
     "text": "###########################       "
    },
    {
     "name": "stdout",
     "output_type": "stream",
     "text": "] |  80% (35231) |  0.3s"
    },
    {
     "name": "stdout",
     "output_type": "stream",
     "text": "\rdf_cache_sqlite:col_to_sql[search_recs.background_species]: ["
    },
    {
     "name": "stdout",
     "output_type": "stream",
     "text": "##################################"
    },
    {
     "name": "stdout",
     "output_type": "stream",
     "text": "] | 100% (35231) |  0.4s"
    },
    {
     "name": "stdout",
     "output_type": "stream",
     "text": "\n"
    },
    {
     "name": "stdout",
     "output_type": "stream",
     "text": "\rdf_cache_sqlite:df.to_sql[search_recs]: ["
    },
    {
     "name": "stdout",
     "output_type": "stream",
     "text": "                                                      "
    },
    {
     "name": "stdout",
     "output_type": "stream",
     "text": "] |   0% (35231) |  0.0s"
    },
    {
     "name": "stdout",
     "output_type": "stream",
     "text": "\rdf_cache_sqlite:df.to_sql[search_recs]: ["
    },
    {
     "name": "stdout",
     "output_type": "stream",
     "text": "                                                      "
    },
    {
     "name": "stdout",
     "output_type": "stream",
     "text": "] |   0% (35231) |  0.1s"
    },
    {
     "name": "stdout",
     "output_type": "stream",
     "text": "\rdf_cache_sqlite:df.to_sql[search_recs]: ["
    },
    {
     "name": "stdout",
     "output_type": "stream",
     "text": "                                                      "
    },
    {
     "name": "stdout",
     "output_type": "stream",
     "text": "] |   0% (35231) |  0.2s"
    },
    {
     "name": "stdout",
     "output_type": "stream",
     "text": "\rdf_cache_sqlite:df.to_sql[search_recs]: ["
    },
    {
     "name": "stdout",
     "output_type": "stream",
     "text": "                                                      "
    },
    {
     "name": "stdout",
     "output_type": "stream",
     "text": "] |   0% (35231) |  0.4s"
    },
    {
     "name": "stdout",
     "output_type": "stream",
     "text": "\rdf_cache_sqlite:df.to_sql[search_recs]: ["
    },
    {
     "name": "stdout",
     "output_type": "stream",
     "text": "                                                      "
    },
    {
     "name": "stdout",
     "output_type": "stream",
     "text": "] |   0% (35231) |  0.5s"
    },
    {
     "name": "stdout",
     "output_type": "stream",
     "text": "\rdf_cache_sqlite:df.to_sql[search_recs]: ["
    },
    {
     "name": "stdout",
     "output_type": "stream",
     "text": "                                                      "
    },
    {
     "name": "stdout",
     "output_type": "stream",
     "text": "] |   0% (35231) |  0.6s"
    },
    {
     "name": "stdout",
     "output_type": "stream",
     "text": "\rdf_cache_sqlite:df.to_sql[search_recs]: ["
    },
    {
     "name": "stdout",
     "output_type": "stream",
     "text": "                                                      "
    },
    {
     "name": "stdout",
     "output_type": "stream",
     "text": "] |   0% (35231) |  0.7s"
    },
    {
     "name": "stdout",
     "output_type": "stream",
     "text": "\rdf_cache_sqlite:df.to_sql[search_recs]: ["
    },
    {
     "name": "stdout",
     "output_type": "stream",
     "text": "                                                      "
    },
    {
     "name": "stdout",
     "output_type": "stream",
     "text": "] |   0% (35231) |  0.8s"
    },
    {
     "name": "stdout",
     "output_type": "stream",
     "text": "\rdf_cache_sqlite:df.to_sql[search_recs]: ["
    },
    {
     "name": "stdout",
     "output_type": "stream",
     "text": "                                                      "
    },
    {
     "name": "stdout",
     "output_type": "stream",
     "text": "] |   0% (35231) |  0.9s"
    },
    {
     "name": "stdout",
     "output_type": "stream",
     "text": "\rdf_cache_sqlite:df.to_sql[search_recs]: ["
    },
    {
     "name": "stdout",
     "output_type": "stream",
     "text": "                                                      "
    },
    {
     "name": "stdout",
     "output_type": "stream",
     "text": "] |   0% (35231) |  1.0s"
    },
    {
     "name": "stdout",
     "output_type": "stream",
     "text": "\rdf_cache_sqlite:df.to_sql[search_recs]: ["
    },
    {
     "name": "stdout",
     "output_type": "stream",
     "text": "                                                      "
    },
    {
     "name": "stdout",
     "output_type": "stream",
     "text": "] |   0% (35231) |  1.1s"
    },
    {
     "name": "stdout",
     "output_type": "stream",
     "text": "\rdf_cache_sqlite:df.to_sql[search_recs]: ["
    },
    {
     "name": "stdout",
     "output_type": "stream",
     "text": "                                                      "
    },
    {
     "name": "stdout",
     "output_type": "stream",
     "text": "] |   0% (35231) |  1.2s"
    },
    {
     "name": "stdout",
     "output_type": "stream",
     "text": "\rdf_cache_sqlite:df.to_sql[search_recs]: ["
    },
    {
     "name": "stdout",
     "output_type": "stream",
     "text": "                                                      "
    },
    {
     "name": "stdout",
     "output_type": "stream",
     "text": "] |   0% (35231) |  1.3s"
    },
    {
     "name": "stdout",
     "output_type": "stream",
     "text": "\rdf_cache_sqlite:df.to_sql[search_recs]: ["
    },
    {
     "name": "stdout",
     "output_type": "stream",
     "text": "                                                      "
    },
    {
     "name": "stdout",
     "output_type": "stream",
     "text": "] |   0% (35231) |  1.4s"
    },
    {
     "name": "stdout",
     "output_type": "stream",
     "text": "\rdf_cache_sqlite:df.to_sql[search_recs]: ["
    },
    {
     "name": "stdout",
     "output_type": "stream",
     "text": "                                                      "
    },
    {
     "name": "stdout",
     "output_type": "stream",
     "text": "] |   0% (35231) |  1.5s"
    },
    {
     "name": "stdout",
     "output_type": "stream",
     "text": "\rdf_cache_sqlite:df.to_sql[search_recs]: ["
    },
    {
     "name": "stdout",
     "output_type": "stream",
     "text": "                                                      "
    },
    {
     "name": "stdout",
     "output_type": "stream",
     "text": "] |   0% (35231) |  1.6s"
    },
    {
     "name": "stdout",
     "output_type": "stream",
     "text": "\rdf_cache_sqlite:df.to_sql[search_recs]: ["
    },
    {
     "name": "stdout",
     "output_type": "stream",
     "text": "                                                      "
    },
    {
     "name": "stdout",
     "output_type": "stream",
     "text": "] |   0% (35231) |  1.7s"
    },
    {
     "name": "stdout",
     "output_type": "stream",
     "text": "\rdf_cache_sqlite:df.to_sql[search_recs]: ["
    },
    {
     "name": "stdout",
     "output_type": "stream",
     "text": "                                                      "
    },
    {
     "name": "stdout",
     "output_type": "stream",
     "text": "] |   0% (35231) |  1.8s"
    },
    {
     "name": "stdout",
     "output_type": "stream",
     "text": "\rdf_cache_sqlite:df.to_sql[search_recs]: ["
    },
    {
     "name": "stdout",
     "output_type": "stream",
     "text": "                                                      "
    },
    {
     "name": "stdout",
     "output_type": "stream",
     "text": "] |   0% (35231) |  1.9s"
    },
    {
     "name": "stdout",
     "output_type": "stream",
     "text": "\rdf_cache_sqlite:df.to_sql[search_recs]: ["
    },
    {
     "name": "stdout",
     "output_type": "stream",
     "text": "                                                      "
    },
    {
     "name": "stdout",
     "output_type": "stream",
     "text": "] |   0% (35231) |  2.0s"
    },
    {
     "name": "stdout",
     "output_type": "stream",
     "text": "\rdf_cache_sqlite:df.to_sql[search_recs]: ["
    },
    {
     "name": "stdout",
     "output_type": "stream",
     "text": "                                                      "
    },
    {
     "name": "stdout",
     "output_type": "stream",
     "text": "] |   0% (35231) |  2.1s"
    },
    {
     "name": "stdout",
     "output_type": "stream",
     "text": "\rdf_cache_sqlite:df.to_sql[search_recs]: ["
    },
    {
     "name": "stdout",
     "output_type": "stream",
     "text": "                                                      "
    },
    {
     "name": "stdout",
     "output_type": "stream",
     "text": "] |   0% (35231) |  2.2s"
    },
    {
     "name": "stdout",
     "output_type": "stream",
     "text": "\rdf_cache_sqlite:df.to_sql[search_recs]: ["
    },
    {
     "name": "stdout",
     "output_type": "stream",
     "text": "                                                      "
    },
    {
     "name": "stdout",
     "output_type": "stream",
     "text": "] |   0% (35231) |  2.3s"
    },
    {
     "name": "stdout",
     "output_type": "stream",
     "text": "\rdf_cache_sqlite:df.to_sql[search_recs]: ["
    },
    {
     "name": "stdout",
     "output_type": "stream",
     "text": "                                                      "
    },
    {
     "name": "stdout",
     "output_type": "stream",
     "text": "] |   0% (35231) |  2.4s"
    },
    {
     "name": "stdout",
     "output_type": "stream",
     "text": "\rdf_cache_sqlite:df.to_sql[search_recs]: ["
    },
    {
     "name": "stdout",
     "output_type": "stream",
     "text": "                                                      "
    },
    {
     "name": "stdout",
     "output_type": "stream",
     "text": "] |   0% (35231) |  2.5s"
    },
    {
     "name": "stdout",
     "output_type": "stream",
     "text": "\rdf_cache_sqlite:df.to_sql[search_recs]: ["
    },
    {
     "name": "stdout",
     "output_type": "stream",
     "text": "                                                      "
    },
    {
     "name": "stdout",
     "output_type": "stream",
     "text": "] |   0% (35231) |  2.6s"
    },
    {
     "name": "stdout",
     "output_type": "stream",
     "text": "\rdf_cache_sqlite:df.to_sql[search_recs]: ["
    },
    {
     "name": "stdout",
     "output_type": "stream",
     "text": "                                                      "
    },
    {
     "name": "stdout",
     "output_type": "stream",
     "text": "] |   0% (35231) |  2.7s"
    },
    {
     "name": "stdout",
     "output_type": "stream",
     "text": "\rdf_cache_sqlite:df.to_sql[search_recs]: ["
    },
    {
     "name": "stdout",
     "output_type": "stream",
     "text": "                                                      "
    },
    {
     "name": "stdout",
     "output_type": "stream",
     "text": "] |   0% (35231) |  2.8s"
    },
    {
     "name": "stdout",
     "output_type": "stream",
     "text": "\rdf_cache_sqlite:df.to_sql[search_recs]: ["
    },
    {
     "name": "stdout",
     "output_type": "stream",
     "text": "                                                      "
    },
    {
     "name": "stdout",
     "output_type": "stream",
     "text": "] |   0% (35231) |  3.0s"
    },
    {
     "name": "stdout",
     "output_type": "stream",
     "text": "\rdf_cache_sqlite:df.to_sql[search_recs]: ["
    },
    {
     "name": "stdout",
     "output_type": "stream",
     "text": "                                                      "
    },
    {
     "name": "stdout",
     "output_type": "stream",
     "text": "] |   0% (35231) |  3.1s"
    },
    {
     "name": "stdout",
     "output_type": "stream",
     "text": "\rdf_cache_sqlite:df.to_sql[search_recs]: ["
    },
    {
     "name": "stdout",
     "output_type": "stream",
     "text": "                                                      "
    },
    {
     "name": "stdout",
     "output_type": "stream",
     "text": "] |   0% (35231) |  3.2s"
    },
    {
     "name": "stdout",
     "output_type": "stream",
     "text": "\rdf_cache_sqlite:df.to_sql[search_recs]: ["
    },
    {
     "name": "stdout",
     "output_type": "stream",
     "text": "                                                      "
    },
    {
     "name": "stdout",
     "output_type": "stream",
     "text": "] |   0% (35231) |  3.4s"
    },
    {
     "name": "stdout",
     "output_type": "stream",
     "text": "\rdf_cache_sqlite:df.to_sql[search_recs]: ["
    },
    {
     "name": "stdout",
     "output_type": "stream",
     "text": "                                                      "
    },
    {
     "name": "stdout",
     "output_type": "stream",
     "text": "] |   0% (35231) |  3.6s"
    },
    {
     "name": "stdout",
     "output_type": "stream",
     "text": "\rdf_cache_sqlite:df.to_sql[search_recs]: ["
    },
    {
     "name": "stdout",
     "output_type": "stream",
     "text": "                                                      "
    },
    {
     "name": "stdout",
     "output_type": "stream",
     "text": "] |   0% (35231) |  3.8s"
    },
    {
     "name": "stdout",
     "output_type": "stream",
     "text": "\rdf_cache_sqlite:df.to_sql[search_recs]: ["
    },
    {
     "name": "stdout",
     "output_type": "stream",
     "text": "                                                      "
    },
    {
     "name": "stdout",
     "output_type": "stream",
     "text": "] |   0% (35231) |  3.9s"
    },
    {
     "name": "stdout",
     "output_type": "stream",
     "text": "\rdf_cache_sqlite:df.to_sql[search_recs]: ["
    },
    {
     "name": "stdout",
     "output_type": "stream",
     "text": "                                                      "
    },
    {
     "name": "stdout",
     "output_type": "stream",
     "text": "] |   0% (35231) |  4.5s"
    },
    {
     "name": "stdout",
     "output_type": "stream",
     "text": "\rdf_cache_sqlite:df.to_sql[search_recs]: ["
    },
    {
     "name": "stdout",
     "output_type": "stream",
     "text": "                                                      "
    },
    {
     "name": "stdout",
     "output_type": "stream",
     "text": "] |   0% (35231) |  4.6s"
    },
    {
     "name": "stdout",
     "output_type": "stream",
     "text": "\rdf_cache_sqlite:df.to_sql[search_recs]: ["
    },
    {
     "name": "stdout",
     "output_type": "stream",
     "text": "                                                      "
    },
    {
     "name": "stdout",
     "output_type": "stream",
     "text": "] |   0% (35231) |  4.8s"
    },
    {
     "name": "stdout",
     "output_type": "stream",
     "text": "\rdf_cache_sqlite:df.to_sql[search_recs]: ["
    },
    {
     "name": "stdout",
     "output_type": "stream",
     "text": "                                                      "
    },
    {
     "name": "stdout",
     "output_type": "stream",
     "text": "] |   0% (35231) |  5.0s"
    },
    {
     "name": "stdout",
     "output_type": "stream",
     "text": "\rdf_cache_sqlite:df.to_sql[search_recs]: ["
    },
    {
     "name": "stdout",
     "output_type": "stream",
     "text": "                                                      "
    },
    {
     "name": "stdout",
     "output_type": "stream",
     "text": "] |   0% (35231) |  5.2s"
    },
    {
     "name": "stdout",
     "output_type": "stream",
     "text": "\rdf_cache_sqlite:df.to_sql[search_recs]: ["
    },
    {
     "name": "stdout",
     "output_type": "stream",
     "text": "                                                      "
    },
    {
     "name": "stdout",
     "output_type": "stream",
     "text": "] |   0% (35231) |  5.5s"
    },
    {
     "name": "stdout",
     "output_type": "stream",
     "text": "\rdf_cache_sqlite:df.to_sql[search_recs]: ["
    },
    {
     "name": "stdout",
     "output_type": "stream",
     "text": "                                                      "
    },
    {
     "name": "stdout",
     "output_type": "stream",
     "text": "] |   0% (35231) |  6.1s"
    },
    {
     "name": "stdout",
     "output_type": "stream",
     "text": "\rdf_cache_sqlite:df.to_sql[search_recs]: ["
    },
    {
     "name": "stdout",
     "output_type": "stream",
     "text": "                                                      "
    },
    {
     "name": "stdout",
     "output_type": "stream",
     "text": "] |   0% (35231) |  6.2s"
    },
    {
     "name": "stdout",
     "output_type": "stream",
     "text": "\rdf_cache_sqlite:df.to_sql[search_recs]: ["
    },
    {
     "name": "stdout",
     "output_type": "stream",
     "text": "                                                      "
    },
    {
     "name": "stdout",
     "output_type": "stream",
     "text": "] |   0% (35231) |  6.4s"
    },
    {
     "name": "stdout",
     "output_type": "stream",
     "text": "\rdf_cache_sqlite:df.to_sql[search_recs]: ["
    },
    {
     "name": "stdout",
     "output_type": "stream",
     "text": "                                                      "
    },
    {
     "name": "stdout",
     "output_type": "stream",
     "text": "] |   0% (35231) |  6.6s"
    },
    {
     "name": "stdout",
     "output_type": "stream",
     "text": "\rdf_cache_sqlite:df.to_sql[search_recs]: ["
    },
    {
     "name": "stdout",
     "output_type": "stream",
     "text": "                                                      "
    },
    {
     "name": "stdout",
     "output_type": "stream",
     "text": "] |   0% (35231) |  6.7s"
    },
    {
     "name": "stdout",
     "output_type": "stream",
     "text": "\rdf_cache_sqlite:df.to_sql[search_recs]: ["
    },
    {
     "name": "stdout",
     "output_type": "stream",
     "text": "                                                      "
    },
    {
     "name": "stdout",
     "output_type": "stream",
     "text": "] |   0% (35231) |  6.9s"
    },
    {
     "name": "stdout",
     "output_type": "stream",
     "text": "\rdf_cache_sqlite:df.to_sql[search_recs]: ["
    },
    {
     "name": "stdout",
     "output_type": "stream",
     "text": "                                                      "
    },
    {
     "name": "stdout",
     "output_type": "stream",
     "text": "] |   0% (35231) |  7.5s"
    },
    {
     "name": "stdout",
     "output_type": "stream",
     "text": "\rdf_cache_sqlite:df.to_sql[search_recs]: ["
    },
    {
     "name": "stdout",
     "output_type": "stream",
     "text": "                                                      "
    },
    {
     "name": "stdout",
     "output_type": "stream",
     "text": "] |   0% (35231) |  7.8s"
    },
    {
     "name": "stdout",
     "output_type": "stream",
     "text": "\rdf_cache_sqlite:df.to_sql[search_recs]: ["
    },
    {
     "name": "stdout",
     "output_type": "stream",
     "text": "                                                      "
    },
    {
     "name": "stdout",
     "output_type": "stream",
     "text": "] |   0% (35231) |  8.1s"
    },
    {
     "name": "stdout",
     "output_type": "stream",
     "text": "\rdf_cache_sqlite:df.to_sql[search_recs]: ["
    },
    {
     "name": "stdout",
     "output_type": "stream",
     "text": "                                                      "
    },
    {
     "name": "stdout",
     "output_type": "stream",
     "text": "] |   0% (35231) |  8.3s"
    },
    {
     "name": "stdout",
     "output_type": "stream",
     "text": "\rdf_cache_sqlite:df.to_sql[search_recs]: ["
    },
    {
     "name": "stdout",
     "output_type": "stream",
     "text": "                                                      "
    },
    {
     "name": "stdout",
     "output_type": "stream",
     "text": "] |   0% (35231) |  8.4s"
    },
    {
     "name": "stdout",
     "output_type": "stream",
     "text": "\rdf_cache_sqlite:df.to_sql[search_recs]: ["
    },
    {
     "name": "stdout",
     "output_type": "stream",
     "text": "                                                      "
    },
    {
     "name": "stdout",
     "output_type": "stream",
     "text": "] |   0% (35231) |  9.1s"
    },
    {
     "name": "stdout",
     "output_type": "stream",
     "text": "\rdf_cache_sqlite:df.to_sql[search_recs]: ["
    },
    {
     "name": "stdout",
     "output_type": "stream",
     "text": "                                                      "
    },
    {
     "name": "stdout",
     "output_type": "stream",
     "text": "] |   0% (35231) |  9.3s"
    },
    {
     "name": "stdout",
     "output_type": "stream",
     "text": "\rdf_cache_sqlite:df.to_sql[search_recs]: ["
    },
    {
     "name": "stdout",
     "output_type": "stream",
     "text": "                                                      "
    },
    {
     "name": "stdout",
     "output_type": "stream",
     "text": "] |   0% (35231) |  9.5s"
    },
    {
     "name": "stdout",
     "output_type": "stream",
     "text": "\rdf_cache_sqlite:df.to_sql[search_recs]: ["
    },
    {
     "name": "stdout",
     "output_type": "stream",
     "text": "                                                      "
    },
    {
     "name": "stdout",
     "output_type": "stream",
     "text": "] |   0% (35231) |  9.6s"
    },
    {
     "name": "stdout",
     "output_type": "stream",
     "text": "\rdf_cache_sqlite:df.to_sql[search_recs]: ["
    },
    {
     "name": "stdout",
     "output_type": "stream",
     "text": "                                                      "
    },
    {
     "name": "stdout",
     "output_type": "stream",
     "text": "] |   0% (35231) |  9.8s"
    },
    {
     "name": "stdout",
     "output_type": "stream",
     "text": "\rdf_cache_sqlite:df.to_sql[search_recs]: ["
    },
    {
     "name": "stdout",
     "output_type": "stream",
     "text": "                                                      "
    },
    {
     "name": "stdout",
     "output_type": "stream",
     "text": "] |   0% (35231) |  9.9s"
    },
    {
     "name": "stdout",
     "output_type": "stream",
     "text": "\rdf_cache_sqlite:df.to_sql[search_recs]: ["
    },
    {
     "name": "stdout",
     "output_type": "stream",
     "text": "                                                      "
    },
    {
     "name": "stdout",
     "output_type": "stream",
     "text": "] |   0% (35231) | 10.1s"
    },
    {
     "name": "stdout",
     "output_type": "stream",
     "text": "\rdf_cache_sqlite:df.to_sql[search_recs]: ["
    },
    {
     "name": "stdout",
     "output_type": "stream",
     "text": "                                                      "
    },
    {
     "name": "stdout",
     "output_type": "stream",
     "text": "] |   0% (35231) | 10.2s"
    },
    {
     "name": "stdout",
     "output_type": "stream",
     "text": "\rdf_cache_sqlite:df.to_sql[search_recs]: ["
    },
    {
     "name": "stdout",
     "output_type": "stream",
     "text": "                                                      "
    },
    {
     "name": "stdout",
     "output_type": "stream",
     "text": "] |   0% (35231) | 10.9s"
    },
    {
     "name": "stdout",
     "output_type": "stream",
     "text": "\rdf_cache_sqlite:df.to_sql[search_recs]: ["
    },
    {
     "name": "stdout",
     "output_type": "stream",
     "text": "                                                      "
    },
    {
     "name": "stdout",
     "output_type": "stream",
     "text": "] |   0% (35231) | 11.2s"
    },
    {
     "name": "stdout",
     "output_type": "stream",
     "text": "\rdf_cache_sqlite:df.to_sql[search_recs]: ["
    },
    {
     "name": "stdout",
     "output_type": "stream",
     "text": "                                                      "
    },
    {
     "name": "stdout",
     "output_type": "stream",
     "text": "] |   0% (35231) | 11.3s"
    },
    {
     "name": "stdout",
     "output_type": "stream",
     "text": "\rdf_cache_sqlite:df.to_sql[search_recs]: ["
    },
    {
     "name": "stdout",
     "output_type": "stream",
     "text": "                                                      "
    },
    {
     "name": "stdout",
     "output_type": "stream",
     "text": "] |   0% (35231) | 11.5s"
    },
    {
     "name": "stdout",
     "output_type": "stream",
     "text": "\rdf_cache_sqlite:df.to_sql[search_recs]: ["
    },
    {
     "name": "stdout",
     "output_type": "stream",
     "text": "                                                      "
    },
    {
     "name": "stdout",
     "output_type": "stream",
     "text": "] |   0% (35231) | 11.7s"
    },
    {
     "name": "stdout",
     "output_type": "stream",
     "text": "\rdf_cache_sqlite:df.to_sql[search_recs]: ["
    },
    {
     "name": "stdout",
     "output_type": "stream",
     "text": "                                                      "
    },
    {
     "name": "stdout",
     "output_type": "stream",
     "text": "] |   0% (35231) | 12.4s"
    },
    {
     "name": "stdout",
     "output_type": "stream",
     "text": "\rdf_cache_sqlite:df.to_sql[search_recs]: ["
    },
    {
     "name": "stdout",
     "output_type": "stream",
     "text": "                                                      "
    },
    {
     "name": "stdout",
     "output_type": "stream",
     "text": "] |   0% (35231) | 12.6s"
    },
    {
     "name": "stdout",
     "output_type": "stream",
     "text": "\rdf_cache_sqlite:df.to_sql[search_recs]: ["
    },
    {
     "name": "stdout",
     "output_type": "stream",
     "text": "                                                      "
    },
    {
     "name": "stdout",
     "output_type": "stream",
     "text": "] |   0% (35231) | 12.9s"
    },
    {
     "name": "stdout",
     "output_type": "stream",
     "text": "\rdf_cache_sqlite:df.to_sql[search_recs]: ["
    },
    {
     "name": "stdout",
     "output_type": "stream",
     "text": "                                                      "
    },
    {
     "name": "stdout",
     "output_type": "stream",
     "text": "] |   0% (35231) | 13.1s"
    },
    {
     "name": "stdout",
     "output_type": "stream",
     "text": "\rdf_cache_sqlite:df.to_sql[search_recs]: ["
    },
    {
     "name": "stdout",
     "output_type": "stream",
     "text": "                                                      "
    },
    {
     "name": "stdout",
     "output_type": "stream",
     "text": "] |   0% (35231) | 13.3s"
    },
    {
     "name": "stdout",
     "output_type": "stream",
     "text": "\rdf_cache_sqlite:df.to_sql[search_recs]: ["
    },
    {
     "name": "stdout",
     "output_type": "stream",
     "text": "                                                      "
    },
    {
     "name": "stdout",
     "output_type": "stream",
     "text": "] |   0% (35231) | 13.9s"
    },
    {
     "name": "stdout",
     "output_type": "stream",
     "text": "\rdf_cache_sqlite:df.to_sql[search_recs]: ["
    },
    {
     "name": "stdout",
     "output_type": "stream",
     "text": "                                                      "
    },
    {
     "name": "stdout",
     "output_type": "stream",
     "text": "] |   0% (35231) | 14.1s"
    },
    {
     "name": "stdout",
     "output_type": "stream",
     "text": "\rdf_cache_sqlite:df.to_sql[search_recs]: ["
    },
    {
     "name": "stdout",
     "output_type": "stream",
     "text": "                                                      "
    },
    {
     "name": "stdout",
     "output_type": "stream",
     "text": "] |   0% (35231) | 14.3s"
    },
    {
     "name": "stdout",
     "output_type": "stream",
     "text": "\rdf_cache_sqlite:df.to_sql[search_recs]: ["
    },
    {
     "name": "stdout",
     "output_type": "stream",
     "text": "                                                      "
    },
    {
     "name": "stdout",
     "output_type": "stream",
     "text": "] |   0% (35231) | 14.5s"
    },
    {
     "name": "stdout",
     "output_type": "stream",
     "text": "\rdf_cache_sqlite:df.to_sql[search_recs]: ["
    },
    {
     "name": "stdout",
     "output_type": "stream",
     "text": "                                                      "
    },
    {
     "name": "stdout",
     "output_type": "stream",
     "text": "] |   0% (35231) | 14.7s"
    },
    {
     "name": "stdout",
     "output_type": "stream",
     "text": "\rdf_cache_sqlite:df.to_sql[search_recs]: ["
    },
    {
     "name": "stdout",
     "output_type": "stream",
     "text": "                                                      "
    },
    {
     "name": "stdout",
     "output_type": "stream",
     "text": "] |   0% (35231) | 14.8s"
    },
    {
     "name": "stdout",
     "output_type": "stream",
     "text": "\rdf_cache_sqlite:df.to_sql[search_recs]: ["
    },
    {
     "name": "stdout",
     "output_type": "stream",
     "text": "                                                      "
    },
    {
     "name": "stdout",
     "output_type": "stream",
     "text": "] |   0% (35231) | 15.5s"
    },
    {
     "name": "stdout",
     "output_type": "stream",
     "text": "\rdf_cache_sqlite:df.to_sql[search_recs]: ["
    },
    {
     "name": "stdout",
     "output_type": "stream",
     "text": "                                                      "
    },
    {
     "name": "stdout",
     "output_type": "stream",
     "text": "] |   0% (35231) | 15.7s"
    },
    {
     "name": "stdout",
     "output_type": "stream",
     "text": "\rdf_cache_sqlite:df.to_sql[search_recs]: ["
    },
    {
     "name": "stdout",
     "output_type": "stream",
     "text": "                                                      "
    },
    {
     "name": "stdout",
     "output_type": "stream",
     "text": "] |   0% (35231) | 15.9s"
    },
    {
     "name": "stdout",
     "output_type": "stream",
     "text": "\rdf_cache_sqlite:df.to_sql[search_recs]: ["
    },
    {
     "name": "stdout",
     "output_type": "stream",
     "text": "                                                      "
    },
    {
     "name": "stdout",
     "output_type": "stream",
     "text": "] |   0% (35231) | 16.0s"
    },
    {
     "name": "stdout",
     "output_type": "stream",
     "text": "\rdf_cache_sqlite:df.to_sql[search_recs]: ["
    },
    {
     "name": "stdout",
     "output_type": "stream",
     "text": "                                                      "
    },
    {
     "name": "stdout",
     "output_type": "stream",
     "text": "] |   0% (35231) | 16.2s"
    },
    {
     "name": "stdout",
     "output_type": "stream",
     "text": "\rdf_cache_sqlite:df.to_sql[search_recs]: ["
    },
    {
     "name": "stdout",
     "output_type": "stream",
     "text": "                                                      "
    },
    {
     "name": "stdout",
     "output_type": "stream",
     "text": "] |   0% (35231) | 16.5s"
    },
    {
     "name": "stdout",
     "output_type": "stream",
     "text": "\rdf_cache_sqlite:df.to_sql[search_recs]: ["
    },
    {
     "name": "stdout",
     "output_type": "stream",
     "text": "                                                      "
    },
    {
     "name": "stdout",
     "output_type": "stream",
     "text": "] |   0% (35231) | 16.6s"
    },
    {
     "name": "stdout",
     "output_type": "stream",
     "text": "\rdf_cache_sqlite:df.to_sql[search_recs]: ["
    },
    {
     "name": "stdout",
     "output_type": "stream",
     "text": "                                                      "
    },
    {
     "name": "stdout",
     "output_type": "stream",
     "text": "] |   0% (35231) | 17.2s"
    },
    {
     "name": "stdout",
     "output_type": "stream",
     "text": "\rdf_cache_sqlite:df.to_sql[search_recs]: ["
    },
    {
     "name": "stdout",
     "output_type": "stream",
     "text": "                                                      "
    },
    {
     "name": "stdout",
     "output_type": "stream",
     "text": "] |   0% (35231) | 17.4s"
    },
    {
     "name": "stdout",
     "output_type": "stream",
     "text": "\rdf_cache_sqlite:df.to_sql[search_recs]: ["
    },
    {
     "name": "stdout",
     "output_type": "stream",
     "text": "                                                      "
    },
    {
     "name": "stdout",
     "output_type": "stream",
     "text": "] |   0% (35231) | 17.6s"
    },
    {
     "name": "stdout",
     "output_type": "stream",
     "text": "\rdf_cache_sqlite:df.to_sql[search_recs]: ["
    },
    {
     "name": "stdout",
     "output_type": "stream",
     "text": "                                                      "
    },
    {
     "name": "stdout",
     "output_type": "stream",
     "text": "] |   0% (35231) | 17.8s"
    },
    {
     "name": "stdout",
     "output_type": "stream",
     "text": "\rdf_cache_sqlite:df.to_sql[search_recs]: ["
    },
    {
     "name": "stdout",
     "output_type": "stream",
     "text": "                                                      "
    },
    {
     "name": "stdout",
     "output_type": "stream",
     "text": "] |   0% (35231) | 18.0s"
    },
    {
     "name": "stdout",
     "output_type": "stream",
     "text": "\rdf_cache_sqlite:df.to_sql[search_recs]: ["
    },
    {
     "name": "stdout",
     "output_type": "stream",
     "text": "                                                      "
    },
    {
     "name": "stdout",
     "output_type": "stream",
     "text": "] |   0% (35231) | 18.3s"
    },
    {
     "name": "stdout",
     "output_type": "stream",
     "text": "\rdf_cache_sqlite:df.to_sql[search_recs]: ["
    },
    {
     "name": "stdout",
     "output_type": "stream",
     "text": "                                                      "
    },
    {
     "name": "stdout",
     "output_type": "stream",
     "text": "] |   0% (35231) | 18.9s"
    },
    {
     "name": "stdout",
     "output_type": "stream",
     "text": "\rdf_cache_sqlite:df.to_sql[search_recs]: ["
    },
    {
     "name": "stdout",
     "output_type": "stream",
     "text": "                                                      "
    },
    {
     "name": "stdout",
     "output_type": "stream",
     "text": "] |   0% (35231) | 19.1s"
    },
    {
     "name": "stdout",
     "output_type": "stream",
     "text": "\rdf_cache_sqlite:df.to_sql[search_recs]: ["
    },
    {
     "name": "stdout",
     "output_type": "stream",
     "text": "                                                      "
    },
    {
     "name": "stdout",
     "output_type": "stream",
     "text": "] |   0% (35231) | 19.3s"
    },
    {
     "name": "stdout",
     "output_type": "stream",
     "text": "\rdf_cache_sqlite:df.to_sql[search_recs]: ["
    },
    {
     "name": "stdout",
     "output_type": "stream",
     "text": "                                                      "
    },
    {
     "name": "stdout",
     "output_type": "stream",
     "text": "] |   0% (35231) | 19.5s"
    },
    {
     "name": "stdout",
     "output_type": "stream",
     "text": "\rdf_cache_sqlite:df.to_sql[search_recs]: ["
    },
    {
     "name": "stdout",
     "output_type": "stream",
     "text": "                                                      "
    },
    {
     "name": "stdout",
     "output_type": "stream",
     "text": "] |   0% (35231) | 19.7s"
    },
    {
     "name": "stdout",
     "output_type": "stream",
     "text": "\rdf_cache_sqlite:df.to_sql[search_recs]: ["
    },
    {
     "name": "stdout",
     "output_type": "stream",
     "text": "                                                      "
    },
    {
     "name": "stdout",
     "output_type": "stream",
     "text": "] |   0% (35231) | 20.3s"
    },
    {
     "name": "stdout",
     "output_type": "stream",
     "text": "\rdf_cache_sqlite:df.to_sql[search_recs]: ["
    },
    {
     "name": "stdout",
     "output_type": "stream",
     "text": "                                                      "
    },
    {
     "name": "stdout",
     "output_type": "stream",
     "text": "] |   0% (35231) | 20.6s"
    },
    {
     "name": "stdout",
     "output_type": "stream",
     "text": "\rdf_cache_sqlite:df.to_sql[search_recs]: ["
    },
    {
     "name": "stdout",
     "output_type": "stream",
     "text": "                                                      "
    },
    {
     "name": "stdout",
     "output_type": "stream",
     "text": "] |   0% (35231) | 20.8s"
    },
    {
     "name": "stdout",
     "output_type": "stream",
     "text": "\rdf_cache_sqlite:df.to_sql[search_recs]: ["
    },
    {
     "name": "stdout",
     "output_type": "stream",
     "text": "                                                      "
    },
    {
     "name": "stdout",
     "output_type": "stream",
     "text": "] |   0% (35231) | 20.9s"
    },
    {
     "name": "stdout",
     "output_type": "stream",
     "text": "\rdf_cache_sqlite:df.to_sql[search_recs]: ["
    },
    {
     "name": "stdout",
     "output_type": "stream",
     "text": "                                                      "
    },
    {
     "name": "stdout",
     "output_type": "stream",
     "text": "] |   0% (35231) | 21.1s"
    },
    {
     "name": "stdout",
     "output_type": "stream",
     "text": "\rdf_cache_sqlite:df.to_sql[search_recs]: ["
    },
    {
     "name": "stdout",
     "output_type": "stream",
     "text": "                                                      "
    },
    {
     "name": "stdout",
     "output_type": "stream",
     "text": "] |   0% (35231) | 21.2s"
    },
    {
     "name": "stdout",
     "output_type": "stream",
     "text": "\rdf_cache_sqlite:df.to_sql[search_recs]: ["
    },
    {
     "name": "stdout",
     "output_type": "stream",
     "text": "                                                      "
    },
    {
     "name": "stdout",
     "output_type": "stream",
     "text": "] |   0% (35231) | 21.8s"
    },
    {
     "name": "stdout",
     "output_type": "stream",
     "text": "\rdf_cache_sqlite:df.to_sql[search_recs]: ["
    },
    {
     "name": "stdout",
     "output_type": "stream",
     "text": "                                                      "
    },
    {
     "name": "stdout",
     "output_type": "stream",
     "text": "] |   0% (35231) | 22.0s"
    },
    {
     "name": "stdout",
     "output_type": "stream",
     "text": "\rdf_cache_sqlite:df.to_sql[search_recs]: ["
    },
    {
     "name": "stdout",
     "output_type": "stream",
     "text": "                                                      "
    },
    {
     "name": "stdout",
     "output_type": "stream",
     "text": "] |   0% (35231) | 22.2s"
    },
    {
     "name": "stdout",
     "output_type": "stream",
     "text": "\rdf_cache_sqlite:df.to_sql[search_recs]: ["
    },
    {
     "name": "stdout",
     "output_type": "stream",
     "text": "                                                      "
    },
    {
     "name": "stdout",
     "output_type": "stream",
     "text": "] |   0% (35231) | 22.3s"
    },
    {
     "name": "stdout",
     "output_type": "stream",
     "text": "\rdf_cache_sqlite:df.to_sql[search_recs]: ["
    },
    {
     "name": "stdout",
     "output_type": "stream",
     "text": "                                                      "
    },
    {
     "name": "stdout",
     "output_type": "stream",
     "text": "] |   0% (35231) | 22.5s"
    },
    {
     "name": "stdout",
     "output_type": "stream",
     "text": "\rdf_cache_sqlite:df.to_sql[search_recs]: ["
    },
    {
     "name": "stdout",
     "output_type": "stream",
     "text": "                                                      "
    },
    {
     "name": "stdout",
     "output_type": "stream",
     "text": "] |   0% (35231) | 22.8s"
    },
    {
     "name": "stdout",
     "output_type": "stream",
     "text": "\rdf_cache_sqlite:df.to_sql[search_recs]: ["
    },
    {
     "name": "stdout",
     "output_type": "stream",
     "text": "                                                      "
    },
    {
     "name": "stdout",
     "output_type": "stream",
     "text": "] |   0% (35231) | 22.9s"
    },
    {
     "name": "stdout",
     "output_type": "stream",
     "text": "\rdf_cache_sqlite:df.to_sql[search_recs]: ["
    },
    {
     "name": "stdout",
     "output_type": "stream",
     "text": "                                                      "
    },
    {
     "name": "stdout",
     "output_type": "stream",
     "text": "] |   0% (35231) | 23.6s"
    },
    {
     "name": "stdout",
     "output_type": "stream",
     "text": "\rdf_cache_sqlite:df.to_sql[search_recs]: ["
    },
    {
     "name": "stdout",
     "output_type": "stream",
     "text": "                                                      "
    },
    {
     "name": "stdout",
     "output_type": "stream",
     "text": "] |   0% (35231) | 23.8s"
    },
    {
     "name": "stdout",
     "output_type": "stream",
     "text": "\rdf_cache_sqlite:df.to_sql[search_recs]: ["
    },
    {
     "name": "stdout",
     "output_type": "stream",
     "text": "                                                      "
    },
    {
     "name": "stdout",
     "output_type": "stream",
     "text": "] |   0% (35231) | 24.0s"
    },
    {
     "name": "stdout",
     "output_type": "stream",
     "text": "\rdf_cache_sqlite:df.to_sql[search_recs]: ["
    },
    {
     "name": "stdout",
     "output_type": "stream",
     "text": "                                                      "
    },
    {
     "name": "stdout",
     "output_type": "stream",
     "text": "] |   0% (35231) | 24.3s"
    },
    {
     "name": "stdout",
     "output_type": "stream",
     "text": "\rdf_cache_sqlite:df.to_sql[search_recs]: ["
    },
    {
     "name": "stdout",
     "output_type": "stream",
     "text": "                                                      "
    },
    {
     "name": "stdout",
     "output_type": "stream",
     "text": "] |   0% (35231) | 24.4s"
    },
    {
     "name": "stdout",
     "output_type": "stream",
     "text": "\rdf_cache_sqlite:df.to_sql[search_recs]: ["
    },
    {
     "name": "stdout",
     "output_type": "stream",
     "text": "                                                      "
    },
    {
     "name": "stdout",
     "output_type": "stream",
     "text": "] |   0% (35231) | 25.0s"
    },
    {
     "name": "stdout",
     "output_type": "stream",
     "text": "\rdf_cache_sqlite:df.to_sql[search_recs]: ["
    },
    {
     "name": "stdout",
     "output_type": "stream",
     "text": "                                                      "
    },
    {
     "name": "stdout",
     "output_type": "stream",
     "text": "] |   0% (35231) | 25.3s"
    },
    {
     "name": "stdout",
     "output_type": "stream",
     "text": "\rdf_cache_sqlite:df.to_sql[search_recs]: ["
    },
    {
     "name": "stdout",
     "output_type": "stream",
     "text": "                                                      "
    },
    {
     "name": "stdout",
     "output_type": "stream",
     "text": "] |   0% (35231) | 25.5s"
    },
    {
     "name": "stdout",
     "output_type": "stream",
     "text": "\rdf_cache_sqlite:df.to_sql[search_recs]: ["
    },
    {
     "name": "stdout",
     "output_type": "stream",
     "text": "                                                      "
    },
    {
     "name": "stdout",
     "output_type": "stream",
     "text": "] |   0% (35231) | 25.7s"
    },
    {
     "name": "stdout",
     "output_type": "stream",
     "text": "\rdf_cache_sqlite:df.to_sql[search_recs]: ["
    },
    {
     "name": "stdout",
     "output_type": "stream",
     "text": "                                                      "
    },
    {
     "name": "stdout",
     "output_type": "stream",
     "text": "] |   0% (35231) | 25.8s"
    },
    {
     "name": "stdout",
     "output_type": "stream",
     "text": "\rdf_cache_sqlite:df.to_sql[search_recs]: ["
    },
    {
     "name": "stdout",
     "output_type": "stream",
     "text": "                                                      "
    },
    {
     "name": "stdout",
     "output_type": "stream",
     "text": "] |   0% (35231) | 26.5s"
    },
    {
     "name": "stdout",
     "output_type": "stream",
     "text": "\rdf_cache_sqlite:df.to_sql[search_recs]: ["
    },
    {
     "name": "stdout",
     "output_type": "stream",
     "text": "                                                      "
    },
    {
     "name": "stdout",
     "output_type": "stream",
     "text": "] |   0% (35231) | 26.7s"
    },
    {
     "name": "stdout",
     "output_type": "stream",
     "text": "\rdf_cache_sqlite:df.to_sql[search_recs]: ["
    },
    {
     "name": "stdout",
     "output_type": "stream",
     "text": "                                                      "
    },
    {
     "name": "stdout",
     "output_type": "stream",
     "text": "] |   0% (35231) | 26.9s"
    },
    {
     "name": "stdout",
     "output_type": "stream",
     "text": "\rdf_cache_sqlite:df.to_sql[search_recs]: ["
    },
    {
     "name": "stdout",
     "output_type": "stream",
     "text": "                                                      "
    },
    {
     "name": "stdout",
     "output_type": "stream",
     "text": "] |   0% (35231) | 27.1s"
    },
    {
     "name": "stdout",
     "output_type": "stream",
     "text": "\rdf_cache_sqlite:df.to_sql[search_recs]: ["
    },
    {
     "name": "stdout",
     "output_type": "stream",
     "text": "                                                      "
    },
    {
     "name": "stdout",
     "output_type": "stream",
     "text": "] |   0% (35231) | 27.4s"
    },
    {
     "name": "stdout",
     "output_type": "stream",
     "text": "\rdf_cache_sqlite:df.to_sql[search_recs]: ["
    },
    {
     "name": "stdout",
     "output_type": "stream",
     "text": "                                                      "
    },
    {
     "name": "stdout",
     "output_type": "stream",
     "text": "] |   0% (35231) | 27.5s"
    },
    {
     "name": "stdout",
     "output_type": "stream",
     "text": "\rdf_cache_sqlite:df.to_sql[search_recs]: ["
    },
    {
     "name": "stdout",
     "output_type": "stream",
     "text": "                                                      "
    },
    {
     "name": "stdout",
     "output_type": "stream",
     "text": "] |   0% (35231) | 28.2s"
    },
    {
     "name": "stdout",
     "output_type": "stream",
     "text": "\rdf_cache_sqlite:df.to_sql[search_recs]: ["
    },
    {
     "name": "stdout",
     "output_type": "stream",
     "text": "                                                      "
    },
    {
     "name": "stdout",
     "output_type": "stream",
     "text": "] |   0% (35231) | 28.4s"
    },
    {
     "name": "stdout",
     "output_type": "stream",
     "text": "\rdf_cache_sqlite:df.to_sql[search_recs]: ["
    },
    {
     "name": "stdout",
     "output_type": "stream",
     "text": "                                                      "
    },
    {
     "name": "stdout",
     "output_type": "stream",
     "text": "] |   0% (35231) | 28.6s"
    },
    {
     "name": "stdout",
     "output_type": "stream",
     "text": "\rdf_cache_sqlite:df.to_sql[search_recs]: ["
    },
    {
     "name": "stdout",
     "output_type": "stream",
     "text": "                                                      "
    },
    {
     "name": "stdout",
     "output_type": "stream",
     "text": "] |   0% (35231) | 28.8s"
    },
    {
     "name": "stdout",
     "output_type": "stream",
     "text": "\rdf_cache_sqlite:df.to_sql[search_recs]: ["
    },
    {
     "name": "stdout",
     "output_type": "stream",
     "text": "                                                      "
    },
    {
     "name": "stdout",
     "output_type": "stream",
     "text": "] |   0% (35231) | 29.1s"
    },
    {
     "name": "stdout",
     "output_type": "stream",
     "text": "\rdf_cache_sqlite:df.to_sql[search_recs]: ["
    },
    {
     "name": "stdout",
     "output_type": "stream",
     "text": "                                                      "
    },
    {
     "name": "stdout",
     "output_type": "stream",
     "text": "] |   0% (35231) | 29.2s"
    },
    {
     "name": "stdout",
     "output_type": "stream",
     "text": "\rdf_cache_sqlite:df.to_sql[search_recs]: ["
    },
    {
     "name": "stdout",
     "output_type": "stream",
     "text": "                                                      "
    },
    {
     "name": "stdout",
     "output_type": "stream",
     "text": "] |   0% (35231) | 29.8s"
    },
    {
     "name": "stdout",
     "output_type": "stream",
     "text": "\rdf_cache_sqlite:df.to_sql[search_recs]: ["
    },
    {
     "name": "stdout",
     "output_type": "stream",
     "text": "                                                      "
    },
    {
     "name": "stdout",
     "output_type": "stream",
     "text": "] |   0% (35231) | 30.0s"
    },
    {
     "name": "stdout",
     "output_type": "stream",
     "text": "\rdf_cache_sqlite:df.to_sql[search_recs]: ["
    },
    {
     "name": "stdout",
     "output_type": "stream",
     "text": "                                                      "
    },
    {
     "name": "stdout",
     "output_type": "stream",
     "text": "] |   0% (35231) | 30.2s"
    },
    {
     "name": "stdout",
     "output_type": "stream",
     "text": "\rdf_cache_sqlite:df.to_sql[search_recs]: ["
    },
    {
     "name": "stdout",
     "output_type": "stream",
     "text": "                                                      "
    },
    {
     "name": "stdout",
     "output_type": "stream",
     "text": "] |   0% (35231) | 30.3s"
    },
    {
     "name": "stdout",
     "output_type": "stream",
     "text": "\rdf_cache_sqlite:df.to_sql[search_recs]: ["
    },
    {
     "name": "stdout",
     "output_type": "stream",
     "text": "                                                      "
    },
    {
     "name": "stdout",
     "output_type": "stream",
     "text": "] |   0% (35231) | 30.6s"
    },
    {
     "name": "stdout",
     "output_type": "stream",
     "text": "\rdf_cache_sqlite:df.to_sql[search_recs]: ["
    },
    {
     "name": "stdout",
     "output_type": "stream",
     "text": "                                                      "
    },
    {
     "name": "stdout",
     "output_type": "stream",
     "text": "] |   0% (35231) | 30.8s"
    },
    {
     "name": "stdout",
     "output_type": "stream",
     "text": "\rdf_cache_sqlite:df.to_sql[search_recs]: ["
    },
    {
     "name": "stdout",
     "output_type": "stream",
     "text": "                                                      "
    },
    {
     "name": "stdout",
     "output_type": "stream",
     "text": "] |   0% (35231) | 30.9s"
    },
    {
     "name": "stdout",
     "output_type": "stream",
     "text": "\rdf_cache_sqlite:df.to_sql[search_recs]: ["
    },
    {
     "name": "stdout",
     "output_type": "stream",
     "text": "                                                      "
    },
    {
     "name": "stdout",
     "output_type": "stream",
     "text": "] |   0% (35231) | 31.6s"
    },
    {
     "name": "stdout",
     "output_type": "stream",
     "text": "\rdf_cache_sqlite:df.to_sql[search_recs]: ["
    },
    {
     "name": "stdout",
     "output_type": "stream",
     "text": "                                                      "
    },
    {
     "name": "stdout",
     "output_type": "stream",
     "text": "] |   0% (35231) | 31.8s"
    },
    {
     "name": "stdout",
     "output_type": "stream",
     "text": "\rdf_cache_sqlite:df.to_sql[search_recs]: ["
    },
    {
     "name": "stdout",
     "output_type": "stream",
     "text": "                                                      "
    },
    {
     "name": "stdout",
     "output_type": "stream",
     "text": "] |   0% (35231) | 31.9s"
    },
    {
     "name": "stdout",
     "output_type": "stream",
     "text": "\rdf_cache_sqlite:df.to_sql[search_recs]: ["
    },
    {
     "name": "stdout",
     "output_type": "stream",
     "text": "                                                      "
    },
    {
     "name": "stdout",
     "output_type": "stream",
     "text": "] |   0% (35231) | 32.1s"
    },
    {
     "name": "stdout",
     "output_type": "stream",
     "text": "\rdf_cache_sqlite:df.to_sql[search_recs]: ["
    },
    {
     "name": "stdout",
     "output_type": "stream",
     "text": "                                                      "
    },
    {
     "name": "stdout",
     "output_type": "stream",
     "text": "] |   0% (35231) | 32.3s"
    },
    {
     "name": "stdout",
     "output_type": "stream",
     "text": "\rdf_cache_sqlite:df.to_sql[search_recs]: ["
    },
    {
     "name": "stdout",
     "output_type": "stream",
     "text": "                                                      "
    },
    {
     "name": "stdout",
     "output_type": "stream",
     "text": "] |   0% (35231) | 33.0s"
    },
    {
     "name": "stdout",
     "output_type": "stream",
     "text": "\rdf_cache_sqlite:df.to_sql[search_recs]: ["
    },
    {
     "name": "stdout",
     "output_type": "stream",
     "text": "                                                      "
    },
    {
     "name": "stdout",
     "output_type": "stream",
     "text": "] |   0% (35231) | 33.1s"
    },
    {
     "name": "stdout",
     "output_type": "stream",
     "text": "\rdf_cache_sqlite:df.to_sql[search_recs]: ["
    },
    {
     "name": "stdout",
     "output_type": "stream",
     "text": "                                                      "
    },
    {
     "name": "stdout",
     "output_type": "stream",
     "text": "] |   0% (35231) | 33.4s"
    },
    {
     "name": "stdout",
     "output_type": "stream",
     "text": "\rdf_cache_sqlite:df.to_sql[search_recs]: ["
    },
    {
     "name": "stdout",
     "output_type": "stream",
     "text": "                                                      "
    },
    {
     "name": "stdout",
     "output_type": "stream",
     "text": "] |   0% (35231) | 33.7s"
    },
    {
     "name": "stdout",
     "output_type": "stream",
     "text": "\rdf_cache_sqlite:df.to_sql[search_recs]: ["
    },
    {
     "name": "stdout",
     "output_type": "stream",
     "text": "                                                      "
    },
    {
     "name": "stdout",
     "output_type": "stream",
     "text": "] |   0% (35231) | 33.9s"
    },
    {
     "name": "stdout",
     "output_type": "stream",
     "text": "\rdf_cache_sqlite:df.to_sql[search_recs]: ["
    },
    {
     "name": "stdout",
     "output_type": "stream",
     "text": "                                                      "
    },
    {
     "name": "stdout",
     "output_type": "stream",
     "text": "] |   0% (35231) | 34.6s"
    },
    {
     "name": "stdout",
     "output_type": "stream",
     "text": "\rdf_cache_sqlite:df.to_sql[search_recs]: ["
    },
    {
     "name": "stdout",
     "output_type": "stream",
     "text": "                                                      "
    },
    {
     "name": "stdout",
     "output_type": "stream",
     "text": "] |   0% (35231) | 34.8s"
    },
    {
     "name": "stdout",
     "output_type": "stream",
     "text": "\rdf_cache_sqlite:df.to_sql[search_recs]: ["
    },
    {
     "name": "stdout",
     "output_type": "stream",
     "text": "######################################################"
    },
    {
     "name": "stdout",
     "output_type": "stream",
     "text": "] | 100% (35231) | 35.0s"
    },
    {
     "name": "stdout",
     "output_type": "stream",
     "text": "\n"
    },
    {
     "data": {
      "text/html": "<table border=\"1\" class=\"dataframe\">\n  <thead>\n    <tr style=\"text-align: right;\">\n      <th></th>\n      <th>size</th>\n      <th>type</th>\n      <th>0</th>\n    </tr>\n  </thead>\n  <tbody>\n    <tr>\n      <th>xc_id</th>\n      <td>36</td>\n      <td><div class=\"not-number\">int</div></td>\n      <td>115925</td>\n    </tr>\n    <tr>\n      <th>feat</th>\n      <td>12104</td>\n      <td><div class=\"not-number\">ndarray</div></td>\n      <td><div class=\"not-number\">[ 4.455e-02 -7.034e-02  2.956e-01 -4.216e-02 -3.264e-02 -6.938e-02  9.214e-02  3.209e-03  2.126e-01 -8.443e-02\n -1.446e-01 -9.171e-02 -1.280e-01  1.579e-02 -7.380e-02 -7.01...</td>\n    </tr>\n    <tr>\n      <th>f_f</th>\n      <td>104</td>\n      <td><div class=\"not-number\">ndarray</div></td>\n      <td><div class=\"not-number\">[ 4.455e-02 -7.034e-02  2.956e-01 -4.216e-02 -3.264e-02 -6.938e-02  9.214e-02  3.209e-03  2.126e-01 -8.443e-02\n -1.446e-01 -9.171e-02 -1.280e-01  1.579e-02 -7.380e-02 -7.01...</td>\n    </tr>\n    <tr>\n      <th>f_p</th>\n      <td>104</td>\n      <td><div class=\"not-number\">ndarray</div></td>\n      <td><div class=\"not-number\">[2.792e-04 2.333e-03 6.595e-06 7.704e-04 4.692e-04 5.952e-03 1.236e-02 4.282e-03 2.968e-05 2.268e-03 1.762e-04\n 2.358e-04 3.394e-03 2.391e-03 3.478e-03 2.690e-03 3.178e-04 ...</td>\n    </tr>\n    <tr>\n      <th>background</th>\n      <td>80</td>\n      <td><div class=\"not-number\">list</div></td>\n      <td><div class=\"not-number\">['Canada Goose (Branta canadensis)']</div></td>\n    </tr>\n    <tr>\n      <th>background_species</th>\n      <td>80</td>\n      <td><div class=\"not-number\">list</div></td>\n      <td><div class=\"not-number\">['CANG']</div></td>\n    </tr>\n  </tbody>\n</table>",
      "text/plain": "                     size     type                                                                                                                                                                                                        0\nxc_id                  36      int                                                                                                                                                                                                   115925\nfeat                12104  ndarray  [0.0445465391054562, -0.070337220430351, 0.2956198979581621, -0.04216132643096407, -0.0326417624034929, -0.0693811696118805, 0.09213953608728861, 0.003208846164307459, 0.2125983600791801, -0.08442...\nf_f                   104  ndarray  [0.04454654, -0.07033722, 0.2956199, -0.042161327, -0.03264176, -0.06938117, 0.092139535, 0.003208846, 0.21259835, -0.08442836, -0.14455757, -0.09170576, -0.12796351, 0.01579389, -0.073798686, -0....\nf_p                   104  ndarray  [0.00027917764516237906, 0.002332771596800308, 6.595440868846554e-06, 0.0007704118680151895, 0.0004691546044220528, 0.005951725793655285, 0.01236378209873468, 0.004282008714874737, 2.9682171310616...\nbackground             80     list                                                                                                                                                                       [Canada Goose (Branta canadensis)]\nbackground_species     80     list                                                                                                                                                                                                   [CANG]"
     },
     "metadata": {},
     "output_type": "display_data",
     "transient": {}
    },
    {
     "name": "stdout",
     "output_type": "stream",
     "text": "\n"
    },
    {
     "name": "stdout",
     "output_type": "stream",
     "text": "search_recs(**{})"
    },
    {
     "name": "stdout",
     "output_type": "stream",
     "text": "\n"
    },
    {
     "name": "stdout",
     "output_type": "stream",
     "text": "INFO     [15:57:01.173] [70163] 292 api.recs/get_search_recs"
    },
    {
     "name": "stdout",
     "output_type": "stream",
     "text": "\n"
    },
    {
     "name": "stdout",
     "output_type": "stream",
     "text": "DEBUG    [15:57:01.186] [70163] 536 util/df_cache_sqlite: Connect {db_url: 'sqlite:////Users/danb/hack/bubo/features/data/cache/payloads/search_recs-version[7],audio_s[10],countries_k[na],com_names_k[ca],num_recs[None]-bd925ce.sqlite3'}"
    },
    {
     "name": "stdout",
     "output_type": "stream",
     "text": "\n"
    },
    {
     "name": "stderr",
     "output_type": "stream",
     "text": "\rdf_cache_sqlite:pd.read_sql_table[_search_recs_bubo_metadata]:   0%|                             | 0/1 [00:00<?, ?it/s]"
    },
    {
     "name": "stderr",
     "output_type": "stream",
     "text": "\rdf_cache_sqlite:pd.read_sql_table[_search_recs_bubo_metadata]: 100%|████████████████████| 1/1 [00:00<00:00, 176.33it/s]"
    },
    {
     "name": "stderr",
     "output_type": "stream",
     "text": "\n"
    },
    {
     "name": "stdout",
     "output_type": "stream",
     "text": "DEBUG    [15:57:01.203] [70163] 603 util/df_cache_sqlite: select count(*) from search_recs"
    },
    {
     "name": "stdout",
     "output_type": "stream",
     "text": "\n"
    },
    {
     "name": "stdout",
     "output_type": "stream",
     "text": "\rdf_cache_sqlite:pd.read_sql_table[search_recs]: ["
    },
    {
     "name": "stdout",
     "output_type": "stream",
     "text": "                                              "
    },
    {
     "name": "stdout",
     "output_type": "stream",
     "text": "] |   0% (35231) |  0.0s"
    },
    {
     "name": "stdout",
     "output_type": "stream",
     "text": "\rdf_cache_sqlite:pd.read_sql_table[search_recs]: ["
    },
    {
     "name": "stdout",
     "output_type": "stream",
     "text": "                                              "
    },
    {
     "name": "stdout",
     "output_type": "stream",
     "text": "] |   0% (35231) |  0.1s"
    },
    {
     "name": "stdout",
     "output_type": "stream",
     "text": "\rdf_cache_sqlite:pd.read_sql_table[search_recs]: ["
    },
    {
     "name": "stdout",
     "output_type": "stream",
     "text": "                                              "
    },
    {
     "name": "stdout",
     "output_type": "stream",
     "text": "] |   0% (35231) |  0.2s"
    },
    {
     "name": "stdout",
     "output_type": "stream",
     "text": "\rdf_cache_sqlite:pd.read_sql_table[search_recs]: ["
    },
    {
     "name": "stdout",
     "output_type": "stream",
     "text": "                                              "
    },
    {
     "name": "stdout",
     "output_type": "stream",
     "text": "] |   0% (35231) |  0.3s"
    },
    {
     "name": "stdout",
     "output_type": "stream",
     "text": "\rdf_cache_sqlite:pd.read_sql_table[search_recs]: ["
    },
    {
     "name": "stdout",
     "output_type": "stream",
     "text": "                                              "
    },
    {
     "name": "stdout",
     "output_type": "stream",
     "text": "] |   0% (35231) |  0.4s"
    },
    {
     "name": "stdout",
     "output_type": "stream",
     "text": "\rdf_cache_sqlite:pd.read_sql_table[search_recs]: ["
    },
    {
     "name": "stdout",
     "output_type": "stream",
     "text": "                                              "
    },
    {
     "name": "stdout",
     "output_type": "stream",
     "text": "] |   0% (35231) |  0.5s"
    },
    {
     "name": "stdout",
     "output_type": "stream",
     "text": "\rdf_cache_sqlite:pd.read_sql_table[search_recs]: ["
    },
    {
     "name": "stdout",
     "output_type": "stream",
     "text": "                                              "
    },
    {
     "name": "stdout",
     "output_type": "stream",
     "text": "] |   0% (35231) |  0.6s"
    },
    {
     "name": "stdout",
     "output_type": "stream",
     "text": "\rdf_cache_sqlite:pd.read_sql_table[search_recs]: ["
    },
    {
     "name": "stdout",
     "output_type": "stream",
     "text": "                                              "
    },
    {
     "name": "stdout",
     "output_type": "stream",
     "text": "] |   0% (35231) |  0.7s"
    },
    {
     "name": "stdout",
     "output_type": "stream",
     "text": "\rdf_cache_sqlite:pd.read_sql_table[search_recs]: ["
    },
    {
     "name": "stdout",
     "output_type": "stream",
     "text": "                                              "
    },
    {
     "name": "stdout",
     "output_type": "stream",
     "text": "] |   0% (35231) |  0.8s"
    },
    {
     "name": "stdout",
     "output_type": "stream",
     "text": "\rdf_cache_sqlite:pd.read_sql_table[search_recs]: ["
    },
    {
     "name": "stdout",
     "output_type": "stream",
     "text": "                                              "
    },
    {
     "name": "stdout",
     "output_type": "stream",
     "text": "] |   0% (35231) |  1.0s"
    },
    {
     "name": "stdout",
     "output_type": "stream",
     "text": "\rdf_cache_sqlite:pd.read_sql_table[search_recs]: ["
    },
    {
     "name": "stdout",
     "output_type": "stream",
     "text": "                                              "
    },
    {
     "name": "stdout",
     "output_type": "stream",
     "text": "] |   0% (35231) |  1.1s"
    },
    {
     "name": "stdout",
     "output_type": "stream",
     "text": "\rdf_cache_sqlite:pd.read_sql_table[search_recs]: ["
    },
    {
     "name": "stdout",
     "output_type": "stream",
     "text": "                                              "
    },
    {
     "name": "stdout",
     "output_type": "stream",
     "text": "] |   0% (35231) |  1.2s"
    },
    {
     "name": "stdout",
     "output_type": "stream",
     "text": "\rdf_cache_sqlite:pd.read_sql_table[search_recs]: ["
    },
    {
     "name": "stdout",
     "output_type": "stream",
     "text": "                                              "
    },
    {
     "name": "stdout",
     "output_type": "stream",
     "text": "] |   0% (35231) |  1.3s"
    },
    {
     "name": "stdout",
     "output_type": "stream",
     "text": "\rdf_cache_sqlite:pd.read_sql_table[search_recs]: ["
    },
    {
     "name": "stdout",
     "output_type": "stream",
     "text": "                                              "
    },
    {
     "name": "stdout",
     "output_type": "stream",
     "text": "] |   0% (35231) |  1.6s"
    },
    {
     "name": "stdout",
     "output_type": "stream",
     "text": "\rdf_cache_sqlite:pd.read_sql_table[search_recs]: ["
    },
    {
     "name": "stdout",
     "output_type": "stream",
     "text": "                                              "
    },
    {
     "name": "stdout",
     "output_type": "stream",
     "text": "] |   0% (35231) |  1.8s"
    },
    {
     "name": "stdout",
     "output_type": "stream",
     "text": "\rdf_cache_sqlite:pd.read_sql_table[search_recs]: ["
    },
    {
     "name": "stdout",
     "output_type": "stream",
     "text": "##############################################"
    },
    {
     "name": "stdout",
     "output_type": "stream",
     "text": "] | 100% (35231) |  2.0s"
    },
    {
     "name": "stdout",
     "output_type": "stream",
     "text": "\n"
    },
    {
     "name": "stdout",
     "output_type": "stream",
     "text": "\rdf_cache_sqlite:col_from_sql[search_recs.feat]: ["
    },
    {
     "name": "stdout",
     "output_type": "stream",
     "text": "                                              "
    },
    {
     "name": "stdout",
     "output_type": "stream",
     "text": "] |   0% (35231) |  0.0s"
    },
    {
     "name": "stdout",
     "output_type": "stream",
     "text": "\rdf_cache_sqlite:col_from_sql[search_recs.feat]: ["
    },
    {
     "name": "stdout",
     "output_type": "stream",
     "text": "                                              "
    },
    {
     "name": "stdout",
     "output_type": "stream",
     "text": "] |   0% (35231) |  0.2s"
    },
    {
     "name": "stdout",
     "output_type": "stream",
     "text": "\rdf_cache_sqlite:col_from_sql[search_recs.feat]: ["
    },
    {
     "name": "stdout",
     "output_type": "stream",
     "text": "                                              "
    },
    {
     "name": "stdout",
     "output_type": "stream",
     "text": "] |   0% (35231) |  0.9s"
    },
    {
     "name": "stdout",
     "output_type": "stream",
     "text": "\rdf_cache_sqlite:col_from_sql[search_recs.feat]: ["
    },
    {
     "name": "stdout",
     "output_type": "stream",
     "text": "######                                        "
    },
    {
     "name": "stdout",
     "output_type": "stream",
     "text": "] |  13% (35231) |  1.7s"
    },
    {
     "name": "stdout",
     "output_type": "stream",
     "text": "\rdf_cache_sqlite:col_from_sql[search_recs.feat]: ["
    },
    {
     "name": "stdout",
     "output_type": "stream",
     "text": "##########                                    "
    },
    {
     "name": "stdout",
     "output_type": "stream",
     "text": "] |  22% (35231) |  2.9s"
    },
    {
     "name": "stdout",
     "output_type": "stream",
     "text": "\rdf_cache_sqlite:col_from_sql[search_recs.feat]: ["
    },
    {
     "name": "stdout",
     "output_type": "stream",
     "text": "##############                                "
    },
    {
     "name": "stdout",
     "output_type": "stream",
     "text": "] |  32% (35231) |  3.0s"
    },
    {
     "name": "stdout",
     "output_type": "stream",
     "text": "\rdf_cache_sqlite:col_from_sql[search_recs.feat]: ["
    },
    {
     "name": "stdout",
     "output_type": "stream",
     "text": "########################                      "
    },
    {
     "name": "stdout",
     "output_type": "stream",
     "text": "] |  53% (35231) |  4.6s"
    },
    {
     "name": "stdout",
     "output_type": "stream",
     "text": "\rdf_cache_sqlite:col_from_sql[search_recs.feat]: ["
    },
    {
     "name": "stdout",
     "output_type": "stream",
     "text": "############################                  "
    },
    {
     "name": "stdout",
     "output_type": "stream",
     "text": "] |  61% (35231) |  5.8s"
    },
    {
     "name": "stdout",
     "output_type": "stream",
     "text": "\rdf_cache_sqlite:col_from_sql[search_recs.feat]: ["
    },
    {
     "name": "stdout",
     "output_type": "stream",
     "text": "#################################             "
    },
    {
     "name": "stdout",
     "output_type": "stream",
     "text": "] |  73% (35231) |  6.0s"
    },
    {
     "name": "stdout",
     "output_type": "stream",
     "text": "\rdf_cache_sqlite:col_from_sql[search_recs.feat]: ["
    },
    {
     "name": "stdout",
     "output_type": "stream",
     "text": "#####################################         "
    },
    {
     "name": "stdout",
     "output_type": "stream",
     "text": "] |  81% (35231) |  7.2s"
    },
    {
     "name": "stdout",
     "output_type": "stream",
     "text": "\rdf_cache_sqlite:col_from_sql[search_recs.feat]: ["
    },
    {
     "name": "stdout",
     "output_type": "stream",
     "text": "##############################################"
    },
    {
     "name": "stdout",
     "output_type": "stream",
     "text": "] | 100% (35231) |  7.4s"
    },
    {
     "name": "stdout",
     "output_type": "stream",
     "text": "\n"
    },
    {
     "name": "stdout",
     "output_type": "stream",
     "text": "\rdf_cache_sqlite:col_from_sql[search_recs.f_f]: ["
    },
    {
     "name": "stdout",
     "output_type": "stream",
     "text": "                                               "
    },
    {
     "name": "stdout",
     "output_type": "stream",
     "text": "] |   0% (35231) |  0.0s"
    },
    {
     "name": "stdout",
     "output_type": "stream",
     "text": "\rdf_cache_sqlite:col_from_sql[search_recs.f_f]: ["
    },
    {
     "name": "stdout",
     "output_type": "stream",
     "text": "                                               "
    },
    {
     "name": "stdout",
     "output_type": "stream",
     "text": "] |   0% (35231) |  0.4s"
    },
    {
     "name": "stdout",
     "output_type": "stream",
     "text": "\rdf_cache_sqlite:col_from_sql[search_recs.f_f]: ["
    },
    {
     "name": "stdout",
     "output_type": "stream",
     "text": "                                               "
    },
    {
     "name": "stdout",
     "output_type": "stream",
     "text": "] |   0% (35231) |  1.1s"
    },
    {
     "name": "stdout",
     "output_type": "stream",
     "text": "\rdf_cache_sqlite:col_from_sql[search_recs.f_f]: ["
    },
    {
     "name": "stdout",
     "output_type": "stream",
     "text": "#####                                          "
    },
    {
     "name": "stdout",
     "output_type": "stream",
     "text": "] |  12% (35231) |  1.7s"
    },
    {
     "name": "stdout",
     "output_type": "stream",
     "text": "\rdf_cache_sqlite:col_from_sql[search_recs.f_f]: ["
    },
    {
     "name": "stdout",
     "output_type": "stream",
     "text": "#########                                      "
    },
    {
     "name": "stdout",
     "output_type": "stream",
     "text": "] |  20% (35231) |  2.8s"
    },
    {
     "name": "stdout",
     "output_type": "stream",
     "text": "\rdf_cache_sqlite:col_from_sql[search_recs.f_f]: ["
    },
    {
     "name": "stdout",
     "output_type": "stream",
     "text": "##############                                 "
    },
    {
     "name": "stdout",
     "output_type": "stream",
     "text": "] |  31% (35231) |  3.0s"
    },
    {
     "name": "stdout",
     "output_type": "stream",
     "text": "\rdf_cache_sqlite:col_from_sql[search_recs.f_f]: ["
    },
    {
     "name": "stdout",
     "output_type": "stream",
     "text": "##################                             "
    },
    {
     "name": "stdout",
     "output_type": "stream",
     "text": "] |  38% (35231) |  4.0s"
    },
    {
     "name": "stdout",
     "output_type": "stream",
     "text": "\rdf_cache_sqlite:col_from_sql[search_recs.f_f]: ["
    },
    {
     "name": "stdout",
     "output_type": "stream",
     "text": "#########################                      "
    },
    {
     "name": "stdout",
     "output_type": "stream",
     "text": "] |  53% (35231) |  4.5s"
    },
    {
     "name": "stdout",
     "output_type": "stream",
     "text": "\rdf_cache_sqlite:col_from_sql[search_recs.f_f]: ["
    },
    {
     "name": "stdout",
     "output_type": "stream",
     "text": "#############################                  "
    },
    {
     "name": "stdout",
     "output_type": "stream",
     "text": "] |  62% (35231) |  5.8s"
    },
    {
     "name": "stdout",
     "output_type": "stream",
     "text": "\rdf_cache_sqlite:col_from_sql[search_recs.f_f]: ["
    },
    {
     "name": "stdout",
     "output_type": "stream",
     "text": "##################################             "
    },
    {
     "name": "stdout",
     "output_type": "stream",
     "text": "] |  72% (35231) |  6.0s"
    },
    {
     "name": "stdout",
     "output_type": "stream",
     "text": "\rdf_cache_sqlite:col_from_sql[search_recs.f_f]: ["
    },
    {
     "name": "stdout",
     "output_type": "stream",
     "text": "#####################################          "
    },
    {
     "name": "stdout",
     "output_type": "stream",
     "text": "] |  78% (35231) |  6.9s"
    },
    {
     "name": "stdout",
     "output_type": "stream",
     "text": "\rdf_cache_sqlite:col_from_sql[search_recs.f_f]: ["
    },
    {
     "name": "stdout",
     "output_type": "stream",
     "text": "###############################################"
    },
    {
     "name": "stdout",
     "output_type": "stream",
     "text": "] | 100% (35231) |  7.4s"
    },
    {
     "name": "stdout",
     "output_type": "stream",
     "text": "\n"
    },
    {
     "name": "stdout",
     "output_type": "stream",
     "text": "\rdf_cache_sqlite:col_from_sql[search_recs.f_p]: ["
    },
    {
     "name": "stdout",
     "output_type": "stream",
     "text": "                                               "
    },
    {
     "name": "stdout",
     "output_type": "stream",
     "text": "] |   0% (35231) |  0.0s"
    },
    {
     "name": "stdout",
     "output_type": "stream",
     "text": "\rdf_cache_sqlite:col_from_sql[search_recs.f_p]: ["
    },
    {
     "name": "stdout",
     "output_type": "stream",
     "text": "                                               "
    },
    {
     "name": "stdout",
     "output_type": "stream",
     "text": "] |   0% (35231) |  0.2s"
    },
    {
     "name": "stdout",
     "output_type": "stream",
     "text": "\rdf_cache_sqlite:col_from_sql[search_recs.f_p]: ["
    },
    {
     "name": "stdout",
     "output_type": "stream",
     "text": "                                               "
    },
    {
     "name": "stdout",
     "output_type": "stream",
     "text": "] |   0% (35231) |  0.9s"
    },
    {
     "name": "stdout",
     "output_type": "stream",
     "text": "\rdf_cache_sqlite:col_from_sql[search_recs.f_p]: ["
    },
    {
     "name": "stdout",
     "output_type": "stream",
     "text": "#####                                          "
    },
    {
     "name": "stdout",
     "output_type": "stream",
     "text": "] |  12% (35231) |  1.6s"
    },
    {
     "name": "stdout",
     "output_type": "stream",
     "text": "\rdf_cache_sqlite:col_from_sql[search_recs.f_p]: ["
    },
    {
     "name": "stdout",
     "output_type": "stream",
     "text": "#########                                      "
    },
    {
     "name": "stdout",
     "output_type": "stream",
     "text": "] |  20% (35231) |  2.7s"
    },
    {
     "name": "stdout",
     "output_type": "stream",
     "text": "\rdf_cache_sqlite:col_from_sql[search_recs.f_p]: ["
    },
    {
     "name": "stdout",
     "output_type": "stream",
     "text": "###############                                "
    },
    {
     "name": "stdout",
     "output_type": "stream",
     "text": "] |  33% (35231) |  3.1s"
    },
    {
     "name": "stdout",
     "output_type": "stream",
     "text": "\rdf_cache_sqlite:col_from_sql[search_recs.f_p]: ["
    },
    {
     "name": "stdout",
     "output_type": "stream",
     "text": "##################                             "
    },
    {
     "name": "stdout",
     "output_type": "stream",
     "text": "] |  40% (35231) |  4.1s"
    },
    {
     "name": "stdout",
     "output_type": "stream",
     "text": "\rdf_cache_sqlite:col_from_sql[search_recs.f_p]: ["
    },
    {
     "name": "stdout",
     "output_type": "stream",
     "text": "#########################                      "
    },
    {
     "name": "stdout",
     "output_type": "stream",
     "text": "] |  53% (35231) |  4.7s"
    },
    {
     "name": "stdout",
     "output_type": "stream",
     "text": "\rdf_cache_sqlite:col_from_sql[search_recs.f_p]: ["
    },
    {
     "name": "stdout",
     "output_type": "stream",
     "text": "###########################                    "
    },
    {
     "name": "stdout",
     "output_type": "stream",
     "text": "] |  57% (35231) |  5.2s"
    },
    {
     "name": "stdout",
     "output_type": "stream",
     "text": "\rdf_cache_sqlite:col_from_sql[search_recs.f_p]: ["
    },
    {
     "name": "stdout",
     "output_type": "stream",
     "text": "###################################            "
    },
    {
     "name": "stdout",
     "output_type": "stream",
     "text": "] |  75% (35231) |  6.2s"
    },
    {
     "name": "stdout",
     "output_type": "stream",
     "text": "\rdf_cache_sqlite:col_from_sql[search_recs.f_p]: ["
    },
    {
     "name": "stdout",
     "output_type": "stream",
     "text": "######################################         "
    },
    {
     "name": "stdout",
     "output_type": "stream",
     "text": "] |  81% (35231) |  7.1s"
    },
    {
     "name": "stdout",
     "output_type": "stream",
     "text": "\rdf_cache_sqlite:col_from_sql[search_recs.f_p]: ["
    },
    {
     "name": "stdout",
     "output_type": "stream",
     "text": "###############################################"
    },
    {
     "name": "stdout",
     "output_type": "stream",
     "text": "] | 100% (35231) |  7.3s"
    },
    {
     "name": "stdout",
     "output_type": "stream",
     "text": "\n"
    },
    {
     "name": "stdout",
     "output_type": "stream",
     "text": "\rdf_cache_sqlite:col_from_sql[search_recs.background]: ["
    },
    {
     "name": "stdout",
     "output_type": "stream",
     "text": "                                        "
    },
    {
     "name": "stdout",
     "output_type": "stream",
     "text": "] |   0% (35231) |  0.0s"
    },
    {
     "name": "stdout",
     "output_type": "stream",
     "text": "\rdf_cache_sqlite:col_from_sql[search_recs.background]: ["
    },
    {
     "name": "stdout",
     "output_type": "stream",
     "text": "################                        "
    },
    {
     "name": "stdout",
     "output_type": "stream",
     "text": "] |  41% (35231) |  0.2s"
    },
    {
     "name": "stdout",
     "output_type": "stream",
     "text": "\rdf_cache_sqlite:col_from_sql[search_recs.background]: ["
    },
    {
     "name": "stdout",
     "output_type": "stream",
     "text": "########################################"
    },
    {
     "name": "stdout",
     "output_type": "stream",
     "text": "] | 100% (35231) |  0.3s"
    },
    {
     "name": "stdout",
     "output_type": "stream",
     "text": "\n"
    },
    {
     "name": "stdout",
     "output_type": "stream",
     "text": "\rdf_cache_sqlite:col_from_sql[search_recs.background_species]: ["
    },
    {
     "name": "stdout",
     "output_type": "stream",
     "text": "                                "
    },
    {
     "name": "stdout",
     "output_type": "stream",
     "text": "] |   0% (35231) |  0.0s"
    },
    {
     "name": "stdout",
     "output_type": "stream",
     "text": "\rdf_cache_sqlite:col_from_sql[search_recs.background_species]: ["
    },
    {
     "name": "stdout",
     "output_type": "stream",
     "text": "######                          "
    },
    {
     "name": "stdout",
     "output_type": "stream",
     "text": "] |  20% (35231) |  0.5s"
    },
    {
     "name": "stdout",
     "output_type": "stream",
     "text": "\rdf_cache_sqlite:col_from_sql[search_recs.background_species]: ["
    },
    {
     "name": "stdout",
     "output_type": "stream",
     "text": "#########################       "
    },
    {
     "name": "stdout",
     "output_type": "stream",
     "text": "] |  80% (35231) |  0.7s"
    },
    {
     "name": "stdout",
     "output_type": "stream",
     "text": "\rdf_cache_sqlite:col_from_sql[search_recs.background_species]: ["
    },
    {
     "name": "stdout",
     "output_type": "stream",
     "text": "################################"
    },
    {
     "name": "stdout",
     "output_type": "stream",
     "text": "] | 100% (35231) |  0.8s"
    },
    {
     "name": "stdout",
     "output_type": "stream",
     "text": "\n"
    },
    {
     "name": "stdout",
     "output_type": "stream",
     "text": "\rdtypes: ["
    },
    {
     "name": "stdout",
     "output_type": "stream",
     "text": "                                                                                          "
    },
    {
     "name": "stdout",
     "output_type": "stream",
     "text": "] |   0% (1) |  0.0s"
    },
    {
     "name": "stdout",
     "output_type": "stream",
     "text": "\rdtypes: ["
    },
    {
     "name": "stdout",
     "output_type": "stream",
     "text": "                                                                                          "
    },
    {
     "name": "stdout",
     "output_type": "stream",
     "text": "] |   0% (1) |  0.1s"
    },
    {
     "name": "stdout",
     "output_type": "stream",
     "text": "\rdtypes: ["
    },
    {
     "name": "stdout",
     "output_type": "stream",
     "text": "##########################################################################################"
    },
    {
     "name": "stdout",
     "output_type": "stream",
     "text": "] | 100% (1) |  0.2s"
    },
    {
     "name": "stdout",
     "output_type": "stream",
     "text": "\n"
    },
    {
     "data": {
      "text/html": "<table border=\"1\" class=\"dataframe\">\n  <thead>\n    <tr style=\"text-align: right;\">\n      <th></th>\n      <th>size</th>\n      <th>type</th>\n      <th>0</th>\n    </tr>\n  </thead>\n  <tbody>\n    <tr>\n      <th>xc_id</th>\n      <td>36</td>\n      <td><div class=\"not-number\">int</div></td>\n      <td>115925</td>\n    </tr>\n    <tr>\n      <th>feat</th>\n      <td>12104</td>\n      <td><div class=\"not-number\">ndarray</div></td>\n      <td><div class=\"not-number\">[ 4.455e-02 -7.034e-02  2.956e-01 -4.216e-02 -3.264e-02 -6.938e-02  9.214e-02  3.209e-03  2.126e-01 -8.443e-02\n -1.446e-01 -9.171e-02 -1.280e-01  1.579e-02 -7.380e-02 -7.01...</td>\n    </tr>\n    <tr>\n      <th>f_f</th>\n      <td>6104</td>\n      <td><div class=\"not-number\">ndarray</div></td>\n      <td><div class=\"not-number\">[ 4.455e-02 -7.034e-02  2.956e-01 -4.216e-02 -3.264e-02 -6.938e-02  9.214e-02  3.209e-03  2.126e-01 -8.443e-02\n -1.446e-01 -9.171e-02 -1.280e-01  1.579e-02 -7.380e-02 -7.01...</td>\n    </tr>\n    <tr>\n      <th>f_p</th>\n      <td>2752</td>\n      <td><div class=\"not-number\">ndarray</div></td>\n      <td><div class=\"not-number\">[2.792e-04 2.333e-03 6.595e-06 7.704e-04 4.692e-04 5.952e-03 1.236e-02 4.282e-03 2.968e-05 2.268e-03 1.762e-04\n 2.358e-04 3.394e-03 2.391e-03 3.478e-03 2.690e-03 3.178e-04 ...</td>\n    </tr>\n    <tr>\n      <th>background</th>\n      <td>80</td>\n      <td><div class=\"not-number\">list</div></td>\n      <td><div class=\"not-number\">['Canada Goose (Branta canadensis)']</div></td>\n    </tr>\n    <tr>\n      <th>background_species</th>\n      <td>80</td>\n      <td><div class=\"not-number\">list</div></td>\n      <td><div class=\"not-number\">['CANG']</div></td>\n    </tr>\n  </tbody>\n</table>",
      "text/plain": "                     size     type                                                                                                                                                                                                        0\nxc_id                  36      int                                                                                                                                                                                                   115925\nfeat                12104  ndarray  [0.0445465391054562, -0.070337220430351, 0.2956198979581621, -0.04216132643096407, -0.0326417624034929, -0.0693811696118805, 0.09213953608728861, 0.003208846164307459, 0.2125983600791801, -0.08442...\nf_f                  6104  ndarray  [0.04454654, -0.07033722, 0.2956199, -0.042161327, -0.03264176, -0.06938117, 0.092139535, 0.003208846, 0.21259835, -0.08442836, -0.14455757, -0.09170576, -0.12796351, 0.01579389, -0.073798686, -0....\nf_p                  2752  ndarray  [0.00027917764516237906, 0.002332771596800308, 6.595440868846554e-06, 0.0007704118680151895, 0.0004691546044220528, 0.005951725793655285, 0.01236378209873468, 0.004282008714874737, 2.9682171310616...\nbackground             80     list                                                                                                                                                                       [Canada Goose (Branta canadensis)]\nbackground_species     80     list                                                                                                                                                                                                   [CANG]"
     },
     "metadata": {},
     "output_type": "display_data",
     "transient": {}
    }
   ],
   "source": [
    "from notebooks import *\n",
    "sg.init(None, skip=[sg_load.load_search_recs])\n",
    "get_search_recs.cache_clear()\n",
    "kwargss = [\n",
    "    dict(refresh=True),  # Cache miss\n",
    "    dict(),  # Cache hit\n",
    "]\n",
    "search_recss = []\n",
    "for kwargs in kwargss:\n",
    "    print()\n",
    "    print(f'search_recs(**{kwargs})')\n",
    "    search_recs = get_search_recs(**kwargs, cache_type='sqlite')\n",
    "    search_recss.append(search_recs)\n",
    "    display(search_recs\n",
    "        [['xc_id', 'feat', 'f_f', 'f_p', 'background', 'background_species']]\n",
    "        [2:3].reset_index(drop=True).T\n",
    "        .pipe(df_assign_first,\n",
    "            size=lambda df: df.T.memory_usage(deep=True),\n",
    "            type=lambda df: df[0].map(lambda x: type(x).__name__),\n",
    "        )\n",
    "    )"
   ]
  },
  {
   "cell_type": "code",
   "execution_count": null,
   "metadata": {
    "time": "7.659s"
   },
   "outputs": [],
   "source": [
    "# TODO Write tests\n",
    "#   - Should roundtrip, should preserve category dtypes, should fail if index present\n",
    "[a, b] = search_recss\n",
    "pd.testing.assert_frame_equal(a, b, check_index_type=True, check_column_type=True)"
   ]
  },
  {
   "cell_type": "code",
   "execution_count": null,
   "metadata": {},
   "outputs": [],
   "source": []
  }
 ],
 "metadata": {
  "kernelspec": {
   "display_name": "python",
   "language": "python",
   "name": "python"
  }
 },
 "nbformat": 4,
 "nbformat_minor": 2
}
