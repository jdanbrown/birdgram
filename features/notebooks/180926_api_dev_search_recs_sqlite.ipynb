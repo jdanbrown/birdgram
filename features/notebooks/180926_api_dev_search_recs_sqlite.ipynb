{
 "cells": [
  {
   "cell_type": "markdown",
   "metadata": {},
   "source": [
    "# Takeaways\n",
    "- Roundtrip works (TODO write tests)\n",
    "- Write perf\n",
    "    - No issues\n",
    "- Read perf\n",
    "    - 2.1s read_sql_table is fine, but ~7.5s to convert each feat col is too slow for server startup\n",
    "    - Bottleneck is npy bytes -> np.array\n",
    "    - But any optimization effort is a waste of time until we nail down how mobile will use the .sqlite payload...\n",
    "    - TODO Revist once we have an idea how mobile will use search_recs\n",
    "        - Will it want each array packed as bytes, like this?\n",
    "        - Or will it want array elements manifested as sql data, e.g. so it can query them using sql?\n",
    "        - Or something else entirely...?"
   ]
  },
  {
   "cell_type": "code",
   "execution_count": null,
   "metadata": {
    "time": "95.584s"
   },
   "outputs": [
    {
     "name": "stdout",
     "output_type": "stream",
     "text": "INFO     [12:41:05.081] [94344]  52 logging_/init_logging: {logging_yaml: None}"
    },
    {
     "name": "stdout",
     "output_type": "stream",
     "text": "\n"
    },
    {
     "name": "stdout",
     "output_type": "stream",
     "text": "INFO     [12:41:05.380] [94344]  32 api.server_globals/init"
    },
    {
     "name": "stdout",
     "output_type": "stream",
     "text": "\n"
    },
    {
     "name": "stdout",
     "output_type": "stream",
     "text": "DEBUG    [12:41:05.387] [94344]  75 api.server_globals/load: load_search..."
    },
    {
     "name": "stdout",
     "output_type": "stream",
     "text": "\n"
    },
    {
     "name": "stdout",
     "output_type": "stream",
     "text": "INFO     [12:41:05.657] [94344]  79 api.server_globals/load: load_search (took 0.263s)"
    },
    {
     "name": "stdout",
     "output_type": "stream",
     "text": "\n"
    },
    {
     "name": "stdout",
     "output_type": "stream",
     "text": "DEBUG    [12:41:05.665] [94344]  75 api.server_globals/load: load_xc_meta..."
    },
    {
     "name": "stdout",
     "output_type": "stream",
     "text": "\n"
    },
    {
     "name": "stdout",
     "output_type": "stream",
     "text": "INFO     [12:41:05.986] [94344]  79 api.server_globals/load: load_xc_meta (took 0.316s)"
    },
    {
     "name": "stdout",
     "output_type": "stream",
     "text": "\n"
    },
    {
     "name": "stdout",
     "output_type": "stream",
     "text": "DEBUG    [12:41:05.994] [94344]  75 api.server_globals/load: load_d_feats..."
    },
    {
     "name": "stdout",
     "output_type": "stream",
     "text": "\n"
    },
    {
     "name": "stdout",
     "output_type": "stream",
     "text": "INFO     [12:41:06.001] [94344] 110 api.server_globals/load_d_feats"
    },
    {
     "name": "stdout",
     "output_type": "stream",
     "text": "\n"
    },
    {
     "name": "stdout",
     "output_type": "stream",
     "text": "INFO     [12:41:06.008] [94344]  79 api.server_globals/load: load_d_feats (took 0.006s)"
    },
    {
     "name": "stdout",
     "output_type": "stream",
     "text": "\n"
    },
    {
     "name": "stdout",
     "output_type": "stream",
     "text": "WARNING  [12:41:06.014] [94344]  73 api.server_globals/load: load_search_recs [skipped]"
    },
    {
     "name": "stdout",
     "output_type": "stream",
     "text": "\n"
    },
    {
     "name": "stdout",
     "output_type": "stream",
     "text": "INFO     [12:41:06.021] [94344]  34 api.server_globals/init: done"
    },
    {
     "name": "stdout",
     "output_type": "stream",
     "text": "\n"
    },
    {
     "name": "stdout",
     "output_type": "stream",
     "text": "\n"
    },
    {
     "name": "stdout",
     "output_type": "stream",
     "text": "search_recs(**{'refresh': True})"
    },
    {
     "name": "stdout",
     "output_type": "stream",
     "text": "\n"
    },
    {
     "name": "stdout",
     "output_type": "stream",
     "text": "INFO     [12:41:06.027] [94344] 296 api.recs/get_search_recs"
    },
    {
     "name": "stdout",
     "output_type": "stream",
     "text": "\n"
    },
    {
     "name": "stderr",
     "output_type": "stream",
     "text": "\rdf_cache_sqlite:compute[search_recs]:   0%|                                                      | 0/1 [00:00<?, ?it/s]"
    },
    {
     "name": "stdout",
     "output_type": "stream",
     "text": "INFO     [12:41:06.126] [94344] 353 api.recs/_compute_search_recs: {len(sg.xc_meta): 35233, countries_k: na, com_names_k: ca, num_recs: null}"
    },
    {
     "name": "stdout",
     "output_type": "stream",
     "text": "\n"
    },
    {
     "name": "stdout",
     "output_type": "stream",
     "text": "\rf_f: ["
    },
    {
     "name": "stdout",
     "output_type": "stream",
     "text": "                                                                                         "
    },
    {
     "name": "stdout",
     "output_type": "stream",
     "text": "] |   0% (35231) |  0.0s"
    },
    {
     "name": "stdout",
     "output_type": "stream",
     "text": "\rf_f: ["
    },
    {
     "name": "stdout",
     "output_type": "stream",
     "text": "                                                                                         "
    },
    {
     "name": "stdout",
     "output_type": "stream",
     "text": "] |   0% (35231) |  0.1s"
    },
    {
     "name": "stdout",
     "output_type": "stream",
     "text": "\rf_f: ["
    },
    {
     "name": "stdout",
     "output_type": "stream",
     "text": "#########################################################################################"
    },
    {
     "name": "stdout",
     "output_type": "stream",
     "text": "] | 100% (35231) |  0.2s"
    },
    {
     "name": "stdout",
     "output_type": "stream",
     "text": "\n"
    },
    {
     "name": "stdout",
     "output_type": "stream",
     "text": "\rf_p: ["
    },
    {
     "name": "stdout",
     "output_type": "stream",
     "text": "                                                                                         "
    },
    {
     "name": "stdout",
     "output_type": "stream",
     "text": "] |   0% (35231) |  0.0s"
    },
    {
     "name": "stdout",
     "output_type": "stream",
     "text": "\rf_p: ["
    },
    {
     "name": "stdout",
     "output_type": "stream",
     "text": "                                                                                         "
    },
    {
     "name": "stdout",
     "output_type": "stream",
     "text": "] |   0% (35231) |  0.2s"
    },
    {
     "name": "stdout",
     "output_type": "stream",
     "text": "\rf_p: ["
    },
    {
     "name": "stdout",
     "output_type": "stream",
     "text": "                                                                                         "
    },
    {
     "name": "stdout",
     "output_type": "stream",
     "text": "] |   0% (35231) |  0.3s"
    },
    {
     "name": "stdout",
     "output_type": "stream",
     "text": "\rf_p: ["
    },
    {
     "name": "stdout",
     "output_type": "stream",
     "text": "                                                                                         "
    },
    {
     "name": "stdout",
     "output_type": "stream",
     "text": "] |   0% (35231) |  0.5s"
    },
    {
     "name": "stdout",
     "output_type": "stream",
     "text": "\rf_p: ["
    },
    {
     "name": "stdout",
     "output_type": "stream",
     "text": "#########################################################################################"
    },
    {
     "name": "stdout",
     "output_type": "stream",
     "text": "] | 100% (35231) |  0.6s"
    },
    {
     "name": "stdout",
     "output_type": "stream",
     "text": "\n"
    },
    {
     "name": "stderr",
     "output_type": "stream",
     "text": "\rdf_cache_sqlite:compute[search_recs]: 100%|██████████████████████████████████████████████| 1/1 [00:12<00:00, 12.36s/it]"
    },
    {
     "name": "stderr",
     "output_type": "stream",
     "text": "\n"
    },
    {
     "name": "stdout",
     "output_type": "stream",
     "text": "\rdf_cache_sqlite:col_to_sql[search_recs: np_save_to_bytes(feat)]: ["
    },
    {
     "name": "stdout",
     "output_type": "stream",
     "text": "                             "
    },
    {
     "name": "stdout",
     "output_type": "stream",
     "text": "] |   0% (35231) |  0.0s"
    },
    {
     "name": "stdout",
     "output_type": "stream",
     "text": "\rdf_cache_sqlite:col_to_sql[search_recs: np_save_to_bytes(feat)]: ["
    },
    {
     "name": "stdout",
     "output_type": "stream",
     "text": "                             "
    },
    {
     "name": "stdout",
     "output_type": "stream",
     "text": "] |   0% (35231) |  0.2s"
    },
    {
     "name": "stdout",
     "output_type": "stream",
     "text": "\rdf_cache_sqlite:col_to_sql[search_recs: np_save_to_bytes(feat)]: ["
    },
    {
     "name": "stdout",
     "output_type": "stream",
     "text": "##                           "
    },
    {
     "name": "stdout",
     "output_type": "stream",
     "text": "] |  10% (35231) |  1.1s"
    },
    {
     "name": "stdout",
     "output_type": "stream",
     "text": "\rdf_cache_sqlite:col_to_sql[search_recs: np_save_to_bytes(feat)]: ["
    },
    {
     "name": "stdout",
     "output_type": "stream",
     "text": "#####                        "
    },
    {
     "name": "stdout",
     "output_type": "stream",
     "text": "] |  20% (35231) |  1.5s"
    },
    {
     "name": "stdout",
     "output_type": "stream",
     "text": "\rdf_cache_sqlite:col_to_sql[search_recs: np_save_to_bytes(feat)]: ["
    },
    {
     "name": "stdout",
     "output_type": "stream",
     "text": "########                     "
    },
    {
     "name": "stdout",
     "output_type": "stream",
     "text": "] |  28% (35231) |  2.1s"
    },
    {
     "name": "stdout",
     "output_type": "stream",
     "text": "\rdf_cache_sqlite:col_to_sql[search_recs: np_save_to_bytes(feat)]: ["
    },
    {
     "name": "stdout",
     "output_type": "stream",
     "text": "##########                   "
    },
    {
     "name": "stdout",
     "output_type": "stream",
     "text": "] |  37% (35231) |  2.5s"
    },
    {
     "name": "stdout",
     "output_type": "stream",
     "text": "\rdf_cache_sqlite:col_to_sql[search_recs: np_save_to_bytes(feat)]: ["
    },
    {
     "name": "stdout",
     "output_type": "stream",
     "text": "##############               "
    },
    {
     "name": "stdout",
     "output_type": "stream",
     "text": "] |  48% (35231) |  2.8s"
    },
    {
     "name": "stdout",
     "output_type": "stream",
     "text": "\rdf_cache_sqlite:col_to_sql[search_recs: np_save_to_bytes(feat)]: ["
    },
    {
     "name": "stdout",
     "output_type": "stream",
     "text": "################             "
    },
    {
     "name": "stdout",
     "output_type": "stream",
     "text": "] |  57% (35231) |  3.4s"
    },
    {
     "name": "stdout",
     "output_type": "stream",
     "text": "\rdf_cache_sqlite:col_to_sql[search_recs: np_save_to_bytes(feat)]: ["
    },
    {
     "name": "stdout",
     "output_type": "stream",
     "text": "###################          "
    },
    {
     "name": "stdout",
     "output_type": "stream",
     "text": "] |  66% (35231) |  3.9s"
    },
    {
     "name": "stdout",
     "output_type": "stream",
     "text": "\rdf_cache_sqlite:col_to_sql[search_recs: np_save_to_bytes(feat)]: ["
    },
    {
     "name": "stdout",
     "output_type": "stream",
     "text": "######################       "
    },
    {
     "name": "stdout",
     "output_type": "stream",
     "text": "] |  77% (35231) |  4.3s"
    },
    {
     "name": "stdout",
     "output_type": "stream",
     "text": "\rdf_cache_sqlite:col_to_sql[search_recs: np_save_to_bytes(feat)]: ["
    },
    {
     "name": "stdout",
     "output_type": "stream",
     "text": "########################     "
    },
    {
     "name": "stdout",
     "output_type": "stream",
     "text": "] |  85% (35231) |  4.7s"
    },
    {
     "name": "stdout",
     "output_type": "stream",
     "text": "\rdf_cache_sqlite:col_to_sql[search_recs: np_save_to_bytes(feat)]: ["
    },
    {
     "name": "stdout",
     "output_type": "stream",
     "text": "#############################"
    },
    {
     "name": "stdout",
     "output_type": "stream",
     "text": "] | 100% (35231) |  5.1s"
    },
    {
     "name": "stdout",
     "output_type": "stream",
     "text": "\n"
    },
    {
     "name": "stdout",
     "output_type": "stream",
     "text": "\rdf_cache_sqlite:col_to_sql[search_recs: json_dumps_canonical(background)]: ["
    },
    {
     "name": "stdout",
     "output_type": "stream",
     "text": "                   "
    },
    {
     "name": "stdout",
     "output_type": "stream",
     "text": "] |   0% (35231) |  0.0s"
    },
    {
     "name": "stdout",
     "output_type": "stream",
     "text": "\rdf_cache_sqlite:col_to_sql[search_recs: json_dumps_canonical(background)]: ["
    },
    {
     "name": "stdout",
     "output_type": "stream",
     "text": "####               "
    },
    {
     "name": "stdout",
     "output_type": "stream",
     "text": "] |  26% (35231) |  0.2s"
    },
    {
     "name": "stdout",
     "output_type": "stream",
     "text": "\rdf_cache_sqlite:col_to_sql[search_recs: json_dumps_canonical(background)]: ["
    },
    {
     "name": "stdout",
     "output_type": "stream",
     "text": "###########        "
    },
    {
     "name": "stdout",
     "output_type": "stream",
     "text": "] |  61% (35231) |  0.3s"
    },
    {
     "name": "stdout",
     "output_type": "stream",
     "text": "\rdf_cache_sqlite:col_to_sql[search_recs: json_dumps_canonical(background)]: ["
    },
    {
     "name": "stdout",
     "output_type": "stream",
     "text": "###################"
    },
    {
     "name": "stdout",
     "output_type": "stream",
     "text": "] | 100% (35231) |  0.4s"
    },
    {
     "name": "stdout",
     "output_type": "stream",
     "text": "\n"
    },
    {
     "name": "stdout",
     "output_type": "stream",
     "text": "\rdf_cache_sqlite:col_to_sql[search_recs: json_dumps_canonical(background_species)]: ["
    },
    {
     "name": "stdout",
     "output_type": "stream",
     "text": "           "
    },
    {
     "name": "stdout",
     "output_type": "stream",
     "text": "] |   0% (35231) |  0.0s"
    },
    {
     "name": "stdout",
     "output_type": "stream",
     "text": "\rdf_cache_sqlite:col_to_sql[search_recs: json_dumps_canonical(background_species)]: ["
    },
    {
     "name": "stdout",
     "output_type": "stream",
     "text": "#          "
    },
    {
     "name": "stdout",
     "output_type": "stream",
     "text": "] |  17% (35231) |  0.2s"
    },
    {
     "name": "stdout",
     "output_type": "stream",
     "text": "\rdf_cache_sqlite:col_to_sql[search_recs: json_dumps_canonical(background_species)]: ["
    },
    {
     "name": "stdout",
     "output_type": "stream",
     "text": "######     "
    },
    {
     "name": "stdout",
     "output_type": "stream",
     "text": "] |  60% (35231) |  0.3s"
    },
    {
     "name": "stdout",
     "output_type": "stream",
     "text": "\rdf_cache_sqlite:col_to_sql[search_recs: json_dumps_canonical(background_species)]: ["
    },
    {
     "name": "stdout",
     "output_type": "stream",
     "text": "###########"
    },
    {
     "name": "stdout",
     "output_type": "stream",
     "text": "] | 100% (35231) |  0.4s"
    },
    {
     "name": "stdout",
     "output_type": "stream",
     "text": "\n"
    },
    {
     "name": "stdout",
     "output_type": "stream",
     "text": "\rdf_cache_sqlite:col_to_sql[search_recs: np_save_to_bytes(f_f)]: ["
    },
    {
     "name": "stdout",
     "output_type": "stream",
     "text": "                              "
    },
    {
     "name": "stdout",
     "output_type": "stream",
     "text": "] |   0% (35231) |  0.0s"
    },
    {
     "name": "stdout",
     "output_type": "stream",
     "text": "\rdf_cache_sqlite:col_to_sql[search_recs: np_save_to_bytes(f_f)]: ["
    },
    {
     "name": "stdout",
     "output_type": "stream",
     "text": "                              "
    },
    {
     "name": "stdout",
     "output_type": "stream",
     "text": "] |   0% (35231) |  0.3s"
    },
    {
     "name": "stdout",
     "output_type": "stream",
     "text": "\rdf_cache_sqlite:col_to_sql[search_recs: np_save_to_bytes(f_f)]: ["
    },
    {
     "name": "stdout",
     "output_type": "stream",
     "text": "                              "
    },
    {
     "name": "stdout",
     "output_type": "stream",
     "text": "] |   2% (35231) |  0.8s"
    },
    {
     "name": "stdout",
     "output_type": "stream",
     "text": "\rdf_cache_sqlite:col_to_sql[search_recs: np_save_to_bytes(f_f)]: ["
    },
    {
     "name": "stdout",
     "output_type": "stream",
     "text": "####                          "
    },
    {
     "name": "stdout",
     "output_type": "stream",
     "text": "] |  13% (35231) |  1.3s"
    },
    {
     "name": "stdout",
     "output_type": "stream",
     "text": "\rdf_cache_sqlite:col_to_sql[search_recs: np_save_to_bytes(f_f)]: ["
    },
    {
     "name": "stdout",
     "output_type": "stream",
     "text": "######                        "
    },
    {
     "name": "stdout",
     "output_type": "stream",
     "text": "] |  22% (35231) |  1.6s"
    },
    {
     "name": "stdout",
     "output_type": "stream",
     "text": "\rdf_cache_sqlite:col_to_sql[search_recs: np_save_to_bytes(f_f)]: ["
    },
    {
     "name": "stdout",
     "output_type": "stream",
     "text": "########                      "
    },
    {
     "name": "stdout",
     "output_type": "stream",
     "text": "] |  28% (35231) |  2.2s"
    },
    {
     "name": "stdout",
     "output_type": "stream",
     "text": "\rdf_cache_sqlite:col_to_sql[search_recs: np_save_to_bytes(f_f)]: ["
    },
    {
     "name": "stdout",
     "output_type": "stream",
     "text": "##########                    "
    },
    {
     "name": "stdout",
     "output_type": "stream",
     "text": "] |  36% (35231) |  2.5s"
    },
    {
     "name": "stdout",
     "output_type": "stream",
     "text": "\rdf_cache_sqlite:col_to_sql[search_recs: np_save_to_bytes(f_f)]: ["
    },
    {
     "name": "stdout",
     "output_type": "stream",
     "text": "#############                 "
    },
    {
     "name": "stdout",
     "output_type": "stream",
     "text": "] |  43% (35231) |  2.9s"
    },
    {
     "name": "stdout",
     "output_type": "stream",
     "text": "\rdf_cache_sqlite:col_to_sql[search_recs: np_save_to_bytes(f_f)]: ["
    },
    {
     "name": "stdout",
     "output_type": "stream",
     "text": "###############               "
    },
    {
     "name": "stdout",
     "output_type": "stream",
     "text": "] |  52% (35231) |  3.3s"
    },
    {
     "name": "stdout",
     "output_type": "stream",
     "text": "\rdf_cache_sqlite:col_to_sql[search_recs: np_save_to_bytes(f_f)]: ["
    },
    {
     "name": "stdout",
     "output_type": "stream",
     "text": "##################            "
    },
    {
     "name": "stdout",
     "output_type": "stream",
     "text": "] |  60% (35231) |  3.7s"
    },
    {
     "name": "stdout",
     "output_type": "stream",
     "text": "\rdf_cache_sqlite:col_to_sql[search_recs: np_save_to_bytes(f_f)]: ["
    },
    {
     "name": "stdout",
     "output_type": "stream",
     "text": "#####################         "
    },
    {
     "name": "stdout",
     "output_type": "stream",
     "text": "] |  70% (35231) |  4.3s"
    },
    {
     "name": "stdout",
     "output_type": "stream",
     "text": "\rdf_cache_sqlite:col_to_sql[search_recs: np_save_to_bytes(f_f)]: ["
    },
    {
     "name": "stdout",
     "output_type": "stream",
     "text": "#######################       "
    },
    {
     "name": "stdout",
     "output_type": "stream",
     "text": "] |  77% (35231) |  4.5s"
    },
    {
     "name": "stdout",
     "output_type": "stream",
     "text": "\rdf_cache_sqlite:col_to_sql[search_recs: np_save_to_bytes(f_f)]: ["
    },
    {
     "name": "stdout",
     "output_type": "stream",
     "text": "###########################   "
    },
    {
     "name": "stdout",
     "output_type": "stream",
     "text": "] |  90% (35231) |  5.0s"
    },
    {
     "name": "stdout",
     "output_type": "stream",
     "text": "\rdf_cache_sqlite:col_to_sql[search_recs: np_save_to_bytes(f_f)]: ["
    },
    {
     "name": "stdout",
     "output_type": "stream",
     "text": "##############################"
    },
    {
     "name": "stdout",
     "output_type": "stream",
     "text": "] | 100% (35231) |  5.2s"
    },
    {
     "name": "stdout",
     "output_type": "stream",
     "text": "\n"
    },
    {
     "name": "stdout",
     "output_type": "stream",
     "text": "\rdf_cache_sqlite:col_to_sql[search_recs: np_save_to_bytes(f_p)]: ["
    },
    {
     "name": "stdout",
     "output_type": "stream",
     "text": "                              "
    },
    {
     "name": "stdout",
     "output_type": "stream",
     "text": "] |   0% (35231) |  0.0s"
    },
    {
     "name": "stdout",
     "output_type": "stream",
     "text": "\rdf_cache_sqlite:col_to_sql[search_recs: np_save_to_bytes(f_p)]: ["
    },
    {
     "name": "stdout",
     "output_type": "stream",
     "text": "                              "
    },
    {
     "name": "stdout",
     "output_type": "stream",
     "text": "] |   0% (35231) |  0.2s"
    },
    {
     "name": "stdout",
     "output_type": "stream",
     "text": "\rdf_cache_sqlite:col_to_sql[search_recs: np_save_to_bytes(f_p)]: ["
    },
    {
     "name": "stdout",
     "output_type": "stream",
     "text": "#                             "
    },
    {
     "name": "stdout",
     "output_type": "stream",
     "text": "] |   5% (35231) |  0.8s"
    },
    {
     "name": "stdout",
     "output_type": "stream",
     "text": "\rdf_cache_sqlite:col_to_sql[search_recs: np_save_to_bytes(f_p)]: ["
    },
    {
     "name": "stdout",
     "output_type": "stream",
     "text": "#####                         "
    },
    {
     "name": "stdout",
     "output_type": "stream",
     "text": "] |  18% (35231) |  1.4s"
    },
    {
     "name": "stdout",
     "output_type": "stream",
     "text": "\rdf_cache_sqlite:col_to_sql[search_recs: np_save_to_bytes(f_p)]: ["
    },
    {
     "name": "stdout",
     "output_type": "stream",
     "text": "#######                       "
    },
    {
     "name": "stdout",
     "output_type": "stream",
     "text": "] |  25% (35231) |  1.9s"
    },
    {
     "name": "stdout",
     "output_type": "stream",
     "text": "\rdf_cache_sqlite:col_to_sql[search_recs: np_save_to_bytes(f_p)]: ["
    },
    {
     "name": "stdout",
     "output_type": "stream",
     "text": "##########                    "
    },
    {
     "name": "stdout",
     "output_type": "stream",
     "text": "] |  33% (35231) |  2.3s"
    },
    {
     "name": "stdout",
     "output_type": "stream",
     "text": "\rdf_cache_sqlite:col_to_sql[search_recs: np_save_to_bytes(f_p)]: ["
    },
    {
     "name": "stdout",
     "output_type": "stream",
     "text": "#############                 "
    },
    {
     "name": "stdout",
     "output_type": "stream",
     "text": "] |  43% (35231) |  2.8s"
    },
    {
     "name": "stdout",
     "output_type": "stream",
     "text": "\rdf_cache_sqlite:col_to_sql[search_recs: np_save_to_bytes(f_p)]: ["
    },
    {
     "name": "stdout",
     "output_type": "stream",
     "text": "################              "
    },
    {
     "name": "stdout",
     "output_type": "stream",
     "text": "] |  56% (35231) |  3.4s"
    },
    {
     "name": "stdout",
     "output_type": "stream",
     "text": "\rdf_cache_sqlite:col_to_sql[search_recs: np_save_to_bytes(f_p)]: ["
    },
    {
     "name": "stdout",
     "output_type": "stream",
     "text": "###################           "
    },
    {
     "name": "stdout",
     "output_type": "stream",
     "text": "] |  65% (35231) |  3.8s"
    },
    {
     "name": "stdout",
     "output_type": "stream",
     "text": "\rdf_cache_sqlite:col_to_sql[search_recs: np_save_to_bytes(f_p)]: ["
    },
    {
     "name": "stdout",
     "output_type": "stream",
     "text": "######################        "
    },
    {
     "name": "stdout",
     "output_type": "stream",
     "text": "] |  75% (35231) |  4.4s"
    },
    {
     "name": "stdout",
     "output_type": "stream",
     "text": "\rdf_cache_sqlite:col_to_sql[search_recs: np_save_to_bytes(f_p)]: ["
    },
    {
     "name": "stdout",
     "output_type": "stream",
     "text": "##########################    "
    },
    {
     "name": "stdout",
     "output_type": "stream",
     "text": "] |  87% (35231) |  4.9s"
    },
    {
     "name": "stdout",
     "output_type": "stream",
     "text": "\rdf_cache_sqlite:col_to_sql[search_recs: np_save_to_bytes(f_p)]: ["
    },
    {
     "name": "stdout",
     "output_type": "stream",
     "text": "##############################"
    },
    {
     "name": "stdout",
     "output_type": "stream",
     "text": "] | 100% (35231) |  5.2s"
    },
    {
     "name": "stdout",
     "output_type": "stream",
     "text": "\n"
    },
    {
     "name": "stdout",
     "output_type": "stream",
     "text": "\rdf_cache_sqlite:df.to_sql[search_recs]: ["
    },
    {
     "name": "stdout",
     "output_type": "stream",
     "text": "                                                      "
    },
    {
     "name": "stdout",
     "output_type": "stream",
     "text": "] |   0% (35231) |  0.0s"
    },
    {
     "name": "stdout",
     "output_type": "stream",
     "text": "\rdf_cache_sqlite:df.to_sql[search_recs]: ["
    },
    {
     "name": "stdout",
     "output_type": "stream",
     "text": "                                                      "
    },
    {
     "name": "stdout",
     "output_type": "stream",
     "text": "] |   0% (35231) |  0.1s"
    },
    {
     "name": "stdout",
     "output_type": "stream",
     "text": "\rdf_cache_sqlite:df.to_sql[search_recs]: ["
    },
    {
     "name": "stdout",
     "output_type": "stream",
     "text": "                                                      "
    },
    {
     "name": "stdout",
     "output_type": "stream",
     "text": "] |   0% (35231) |  0.2s"
    },
    {
     "name": "stdout",
     "output_type": "stream",
     "text": "\rdf_cache_sqlite:df.to_sql[search_recs]: ["
    },
    {
     "name": "stdout",
     "output_type": "stream",
     "text": "                                                      "
    },
    {
     "name": "stdout",
     "output_type": "stream",
     "text": "] |   0% (35231) |  0.7s"
    },
    {
     "name": "stdout",
     "output_type": "stream",
     "text": "\rdf_cache_sqlite:df.to_sql[search_recs]: ["
    },
    {
     "name": "stdout",
     "output_type": "stream",
     "text": "                                                      "
    },
    {
     "name": "stdout",
     "output_type": "stream",
     "text": "] |   0% (35231) |  0.9s"
    },
    {
     "name": "stdout",
     "output_type": "stream",
     "text": "\rdf_cache_sqlite:df.to_sql[search_recs]: ["
    },
    {
     "name": "stdout",
     "output_type": "stream",
     "text": "                                                      "
    },
    {
     "name": "stdout",
     "output_type": "stream",
     "text": "] |   0% (35231) |  1.1s"
    },
    {
     "name": "stdout",
     "output_type": "stream",
     "text": "\rdf_cache_sqlite:df.to_sql[search_recs]: ["
    },
    {
     "name": "stdout",
     "output_type": "stream",
     "text": "                                                      "
    },
    {
     "name": "stdout",
     "output_type": "stream",
     "text": "] |   0% (35231) |  1.2s"
    },
    {
     "name": "stdout",
     "output_type": "stream",
     "text": "\rdf_cache_sqlite:df.to_sql[search_recs]: ["
    },
    {
     "name": "stdout",
     "output_type": "stream",
     "text": "                                                      "
    },
    {
     "name": "stdout",
     "output_type": "stream",
     "text": "] |   0% (35231) |  1.5s"
    },
    {
     "name": "stdout",
     "output_type": "stream",
     "text": "\rdf_cache_sqlite:df.to_sql[search_recs]: ["
    },
    {
     "name": "stdout",
     "output_type": "stream",
     "text": "                                                      "
    },
    {
     "name": "stdout",
     "output_type": "stream",
     "text": "] |   0% (35231) |  1.6s"
    },
    {
     "name": "stdout",
     "output_type": "stream",
     "text": "\rdf_cache_sqlite:df.to_sql[search_recs]: ["
    },
    {
     "name": "stdout",
     "output_type": "stream",
     "text": "                                                      "
    },
    {
     "name": "stdout",
     "output_type": "stream",
     "text": "] |   0% (35231) |  1.8s"
    },
    {
     "name": "stdout",
     "output_type": "stream",
     "text": "\rdf_cache_sqlite:df.to_sql[search_recs]: ["
    },
    {
     "name": "stdout",
     "output_type": "stream",
     "text": "                                                      "
    },
    {
     "name": "stdout",
     "output_type": "stream",
     "text": "] |   0% (35231) |  2.1s"
    },
    {
     "name": "stdout",
     "output_type": "stream",
     "text": "\rdf_cache_sqlite:df.to_sql[search_recs]: ["
    },
    {
     "name": "stdout",
     "output_type": "stream",
     "text": "                                                      "
    },
    {
     "name": "stdout",
     "output_type": "stream",
     "text": "] |   0% (35231) |  2.3s"
    },
    {
     "name": "stdout",
     "output_type": "stream",
     "text": "\rdf_cache_sqlite:df.to_sql[search_recs]: ["
    },
    {
     "name": "stdout",
     "output_type": "stream",
     "text": "                                                      "
    },
    {
     "name": "stdout",
     "output_type": "stream",
     "text": "] |   0% (35231) |  2.6s"
    },
    {
     "name": "stdout",
     "output_type": "stream",
     "text": "\rdf_cache_sqlite:df.to_sql[search_recs]: ["
    },
    {
     "name": "stdout",
     "output_type": "stream",
     "text": "                                                      "
    },
    {
     "name": "stdout",
     "output_type": "stream",
     "text": "] |   0% (35231) |  2.8s"
    },
    {
     "name": "stdout",
     "output_type": "stream",
     "text": "\rdf_cache_sqlite:df.to_sql[search_recs]: ["
    },
    {
     "name": "stdout",
     "output_type": "stream",
     "text": "                                                      "
    },
    {
     "name": "stdout",
     "output_type": "stream",
     "text": "] |   0% (35231) |  3.1s"
    },
    {
     "name": "stdout",
     "output_type": "stream",
     "text": "\rdf_cache_sqlite:df.to_sql[search_recs]: ["
    },
    {
     "name": "stdout",
     "output_type": "stream",
     "text": "                                                      "
    },
    {
     "name": "stdout",
     "output_type": "stream",
     "text": "] |   0% (35231) |  3.3s"
    },
    {
     "name": "stdout",
     "output_type": "stream",
     "text": "\rdf_cache_sqlite:df.to_sql[search_recs]: ["
    },
    {
     "name": "stdout",
     "output_type": "stream",
     "text": "                                                      "
    },
    {
     "name": "stdout",
     "output_type": "stream",
     "text": "] |   0% (35231) |  3.5s"
    },
    {
     "name": "stdout",
     "output_type": "stream",
     "text": "\rdf_cache_sqlite:df.to_sql[search_recs]: ["
    },
    {
     "name": "stdout",
     "output_type": "stream",
     "text": "                                                      "
    },
    {
     "name": "stdout",
     "output_type": "stream",
     "text": "] |   0% (35231) |  3.9s"
    },
    {
     "name": "stdout",
     "output_type": "stream",
     "text": "\rdf_cache_sqlite:df.to_sql[search_recs]: ["
    },
    {
     "name": "stdout",
     "output_type": "stream",
     "text": "                                                      "
    },
    {
     "name": "stdout",
     "output_type": "stream",
     "text": "] |   0% (35231) |  4.0s"
    },
    {
     "name": "stdout",
     "output_type": "stream",
     "text": "\rdf_cache_sqlite:df.to_sql[search_recs]: ["
    },
    {
     "name": "stdout",
     "output_type": "stream",
     "text": "                                                      "
    },
    {
     "name": "stdout",
     "output_type": "stream",
     "text": "] |   0% (35231) |  4.2s"
    },
    {
     "name": "stdout",
     "output_type": "stream",
     "text": "\rdf_cache_sqlite:df.to_sql[search_recs]: ["
    },
    {
     "name": "stdout",
     "output_type": "stream",
     "text": "                                                      "
    },
    {
     "name": "stdout",
     "output_type": "stream",
     "text": "] |   0% (35231) |  4.6s"
    },
    {
     "name": "stdout",
     "output_type": "stream",
     "text": "\rdf_cache_sqlite:df.to_sql[search_recs]: ["
    },
    {
     "name": "stdout",
     "output_type": "stream",
     "text": "                                                      "
    },
    {
     "name": "stdout",
     "output_type": "stream",
     "text": "] |   0% (35231) |  4.7s"
    },
    {
     "name": "stdout",
     "output_type": "stream",
     "text": "\rdf_cache_sqlite:df.to_sql[search_recs]: ["
    },
    {
     "name": "stdout",
     "output_type": "stream",
     "text": "                                                      "
    },
    {
     "name": "stdout",
     "output_type": "stream",
     "text": "] |   0% (35231) |  4.9s"
    },
    {
     "name": "stdout",
     "output_type": "stream",
     "text": "\rdf_cache_sqlite:df.to_sql[search_recs]: ["
    },
    {
     "name": "stdout",
     "output_type": "stream",
     "text": "                                                      "
    },
    {
     "name": "stdout",
     "output_type": "stream",
     "text": "] |   0% (35231) |  5.1s"
    },
    {
     "name": "stdout",
     "output_type": "stream",
     "text": "\rdf_cache_sqlite:df.to_sql[search_recs]: ["
    },
    {
     "name": "stdout",
     "output_type": "stream",
     "text": "                                                      "
    },
    {
     "name": "stdout",
     "output_type": "stream",
     "text": "] |   0% (35231) |  5.4s"
    },
    {
     "name": "stdout",
     "output_type": "stream",
     "text": "\rdf_cache_sqlite:df.to_sql[search_recs]: ["
    },
    {
     "name": "stdout",
     "output_type": "stream",
     "text": "                                                      "
    },
    {
     "name": "stdout",
     "output_type": "stream",
     "text": "] |   0% (35231) |  5.6s"
    },
    {
     "name": "stdout",
     "output_type": "stream",
     "text": "\rdf_cache_sqlite:df.to_sql[search_recs]: ["
    },
    {
     "name": "stdout",
     "output_type": "stream",
     "text": "                                                      "
    },
    {
     "name": "stdout",
     "output_type": "stream",
     "text": "] |   0% (35231) |  5.7s"
    },
    {
     "name": "stdout",
     "output_type": "stream",
     "text": "\rdf_cache_sqlite:df.to_sql[search_recs]: ["
    },
    {
     "name": "stdout",
     "output_type": "stream",
     "text": "                                                      "
    },
    {
     "name": "stdout",
     "output_type": "stream",
     "text": "] |   0% (35231) |  5.9s"
    },
    {
     "name": "stdout",
     "output_type": "stream",
     "text": "\rdf_cache_sqlite:df.to_sql[search_recs]: ["
    },
    {
     "name": "stdout",
     "output_type": "stream",
     "text": "                                                      "
    },
    {
     "name": "stdout",
     "output_type": "stream",
     "text": "] |   0% (35231) |  6.1s"
    },
    {
     "name": "stdout",
     "output_type": "stream",
     "text": "\rdf_cache_sqlite:df.to_sql[search_recs]: ["
    },
    {
     "name": "stdout",
     "output_type": "stream",
     "text": "                                                      "
    },
    {
     "name": "stdout",
     "output_type": "stream",
     "text": "] |   0% (35231) |  6.3s"
    },
    {
     "name": "stdout",
     "output_type": "stream",
     "text": "\rdf_cache_sqlite:df.to_sql[search_recs]: ["
    },
    {
     "name": "stdout",
     "output_type": "stream",
     "text": "                                                      "
    },
    {
     "name": "stdout",
     "output_type": "stream",
     "text": "] |   0% (35231) |  6.6s"
    },
    {
     "name": "stdout",
     "output_type": "stream",
     "text": "\rdf_cache_sqlite:df.to_sql[search_recs]: ["
    },
    {
     "name": "stdout",
     "output_type": "stream",
     "text": "                                                      "
    },
    {
     "name": "stdout",
     "output_type": "stream",
     "text": "] |   0% (35231) |  6.8s"
    },
    {
     "name": "stdout",
     "output_type": "stream",
     "text": "\rdf_cache_sqlite:df.to_sql[search_recs]: ["
    },
    {
     "name": "stdout",
     "output_type": "stream",
     "text": "                                                      "
    },
    {
     "name": "stdout",
     "output_type": "stream",
     "text": "] |   0% (35231) |  7.2s"
    },
    {
     "name": "stdout",
     "output_type": "stream",
     "text": "\rdf_cache_sqlite:df.to_sql[search_recs]: ["
    },
    {
     "name": "stdout",
     "output_type": "stream",
     "text": "                                                      "
    },
    {
     "name": "stdout",
     "output_type": "stream",
     "text": "] |   0% (35231) |  7.4s"
    },
    {
     "name": "stdout",
     "output_type": "stream",
     "text": "\rdf_cache_sqlite:df.to_sql[search_recs]: ["
    },
    {
     "name": "stdout",
     "output_type": "stream",
     "text": "                                                      "
    },
    {
     "name": "stdout",
     "output_type": "stream",
     "text": "] |   0% (35231) |  7.5s"
    },
    {
     "name": "stdout",
     "output_type": "stream",
     "text": "\rdf_cache_sqlite:df.to_sql[search_recs]: ["
    },
    {
     "name": "stdout",
     "output_type": "stream",
     "text": "                                                      "
    },
    {
     "name": "stdout",
     "output_type": "stream",
     "text": "] |   0% (35231) |  7.8s"
    },
    {
     "name": "stdout",
     "output_type": "stream",
     "text": "\rdf_cache_sqlite:df.to_sql[search_recs]: ["
    },
    {
     "name": "stdout",
     "output_type": "stream",
     "text": "                                                      "
    },
    {
     "name": "stdout",
     "output_type": "stream",
     "text": "] |   0% (35231) |  8.0s"
    },
    {
     "name": "stdout",
     "output_type": "stream",
     "text": "\rdf_cache_sqlite:df.to_sql[search_recs]: ["
    },
    {
     "name": "stdout",
     "output_type": "stream",
     "text": "                                                      "
    },
    {
     "name": "stdout",
     "output_type": "stream",
     "text": "] |   0% (35231) |  8.3s"
    },
    {
     "name": "stdout",
     "output_type": "stream",
     "text": "\rdf_cache_sqlite:df.to_sql[search_recs]: ["
    },
    {
     "name": "stdout",
     "output_type": "stream",
     "text": "                                                      "
    },
    {
     "name": "stdout",
     "output_type": "stream",
     "text": "] |   0% (35231) |  8.6s"
    },
    {
     "name": "stdout",
     "output_type": "stream",
     "text": "\rdf_cache_sqlite:df.to_sql[search_recs]: ["
    },
    {
     "name": "stdout",
     "output_type": "stream",
     "text": "                                                      "
    },
    {
     "name": "stdout",
     "output_type": "stream",
     "text": "] |   0% (35231) |  9.0s"
    },
    {
     "name": "stdout",
     "output_type": "stream",
     "text": "\rdf_cache_sqlite:df.to_sql[search_recs]: ["
    },
    {
     "name": "stdout",
     "output_type": "stream",
     "text": "                                                      "
    },
    {
     "name": "stdout",
     "output_type": "stream",
     "text": "] |   0% (35231) |  9.2s"
    },
    {
     "name": "stdout",
     "output_type": "stream",
     "text": "\rdf_cache_sqlite:df.to_sql[search_recs]: ["
    },
    {
     "name": "stdout",
     "output_type": "stream",
     "text": "                                                      "
    },
    {
     "name": "stdout",
     "output_type": "stream",
     "text": "] |   0% (35231) |  9.4s"
    },
    {
     "name": "stdout",
     "output_type": "stream",
     "text": "\rdf_cache_sqlite:df.to_sql[search_recs]: ["
    },
    {
     "name": "stdout",
     "output_type": "stream",
     "text": "                                                      "
    },
    {
     "name": "stdout",
     "output_type": "stream",
     "text": "] |   0% (35231) |  9.8s"
    },
    {
     "name": "stdout",
     "output_type": "stream",
     "text": "\rdf_cache_sqlite:df.to_sql[search_recs]: ["
    },
    {
     "name": "stdout",
     "output_type": "stream",
     "text": "                                                      "
    },
    {
     "name": "stdout",
     "output_type": "stream",
     "text": "] |   0% (35231) | 10.0s"
    },
    {
     "name": "stdout",
     "output_type": "stream",
     "text": "\rdf_cache_sqlite:df.to_sql[search_recs]: ["
    },
    {
     "name": "stdout",
     "output_type": "stream",
     "text": "                                                      "
    },
    {
     "name": "stdout",
     "output_type": "stream",
     "text": "] |   0% (35231) | 10.1s"
    },
    {
     "name": "stdout",
     "output_type": "stream",
     "text": "\rdf_cache_sqlite:df.to_sql[search_recs]: ["
    },
    {
     "name": "stdout",
     "output_type": "stream",
     "text": "                                                      "
    },
    {
     "name": "stdout",
     "output_type": "stream",
     "text": "] |   0% (35231) | 10.3s"
    },
    {
     "name": "stdout",
     "output_type": "stream",
     "text": "\rdf_cache_sqlite:df.to_sql[search_recs]: ["
    },
    {
     "name": "stdout",
     "output_type": "stream",
     "text": "                                                      "
    },
    {
     "name": "stdout",
     "output_type": "stream",
     "text": "] |   0% (35231) | 10.6s"
    },
    {
     "name": "stdout",
     "output_type": "stream",
     "text": "\rdf_cache_sqlite:df.to_sql[search_recs]: ["
    },
    {
     "name": "stdout",
     "output_type": "stream",
     "text": "                                                      "
    },
    {
     "name": "stdout",
     "output_type": "stream",
     "text": "] |   0% (35231) | 10.8s"
    },
    {
     "name": "stdout",
     "output_type": "stream",
     "text": "\rdf_cache_sqlite:df.to_sql[search_recs]: ["
    },
    {
     "name": "stdout",
     "output_type": "stream",
     "text": "                                                      "
    },
    {
     "name": "stdout",
     "output_type": "stream",
     "text": "] |   0% (35231) | 11.0s"
    },
    {
     "name": "stdout",
     "output_type": "stream",
     "text": "\rdf_cache_sqlite:df.to_sql[search_recs]: ["
    },
    {
     "name": "stdout",
     "output_type": "stream",
     "text": "                                                      "
    },
    {
     "name": "stdout",
     "output_type": "stream",
     "text": "] |   0% (35231) | 11.2s"
    },
    {
     "name": "stdout",
     "output_type": "stream",
     "text": "\rdf_cache_sqlite:df.to_sql[search_recs]: ["
    },
    {
     "name": "stdout",
     "output_type": "stream",
     "text": "                                                      "
    },
    {
     "name": "stdout",
     "output_type": "stream",
     "text": "] |   0% (35231) | 11.6s"
    },
    {
     "name": "stdout",
     "output_type": "stream",
     "text": "\rdf_cache_sqlite:df.to_sql[search_recs]: ["
    },
    {
     "name": "stdout",
     "output_type": "stream",
     "text": "                                                      "
    },
    {
     "name": "stdout",
     "output_type": "stream",
     "text": "] |   0% (35231) | 11.8s"
    },
    {
     "name": "stdout",
     "output_type": "stream",
     "text": "\rdf_cache_sqlite:df.to_sql[search_recs]: ["
    },
    {
     "name": "stdout",
     "output_type": "stream",
     "text": "                                                      "
    },
    {
     "name": "stdout",
     "output_type": "stream",
     "text": "] |   0% (35231) | 11.9s"
    },
    {
     "name": "stdout",
     "output_type": "stream",
     "text": "\rdf_cache_sqlite:df.to_sql[search_recs]: ["
    },
    {
     "name": "stdout",
     "output_type": "stream",
     "text": "                                                      "
    },
    {
     "name": "stdout",
     "output_type": "stream",
     "text": "] |   0% (35231) | 12.1s"
    },
    {
     "name": "stdout",
     "output_type": "stream",
     "text": "\rdf_cache_sqlite:df.to_sql[search_recs]: ["
    },
    {
     "name": "stdout",
     "output_type": "stream",
     "text": "                                                      "
    },
    {
     "name": "stdout",
     "output_type": "stream",
     "text": "] |   0% (35231) | 12.3s"
    },
    {
     "name": "stdout",
     "output_type": "stream",
     "text": "\rdf_cache_sqlite:df.to_sql[search_recs]: ["
    },
    {
     "name": "stdout",
     "output_type": "stream",
     "text": "                                                      "
    },
    {
     "name": "stdout",
     "output_type": "stream",
     "text": "] |   0% (35231) | 12.7s"
    },
    {
     "name": "stdout",
     "output_type": "stream",
     "text": "\rdf_cache_sqlite:df.to_sql[search_recs]: ["
    },
    {
     "name": "stdout",
     "output_type": "stream",
     "text": "                                                      "
    },
    {
     "name": "stdout",
     "output_type": "stream",
     "text": "] |   0% (35231) | 13.0s"
    },
    {
     "name": "stdout",
     "output_type": "stream",
     "text": "\rdf_cache_sqlite:df.to_sql[search_recs]: ["
    },
    {
     "name": "stdout",
     "output_type": "stream",
     "text": "                                                      "
    },
    {
     "name": "stdout",
     "output_type": "stream",
     "text": "] |   0% (35231) | 13.3s"
    },
    {
     "name": "stdout",
     "output_type": "stream",
     "text": "\rdf_cache_sqlite:df.to_sql[search_recs]: ["
    },
    {
     "name": "stdout",
     "output_type": "stream",
     "text": "                                                      "
    },
    {
     "name": "stdout",
     "output_type": "stream",
     "text": "] |   0% (35231) | 13.4s"
    },
    {
     "name": "stdout",
     "output_type": "stream",
     "text": "\rdf_cache_sqlite:df.to_sql[search_recs]: ["
    },
    {
     "name": "stdout",
     "output_type": "stream",
     "text": "                                                      "
    },
    {
     "name": "stdout",
     "output_type": "stream",
     "text": "] |   0% (35231) | 13.6s"
    },
    {
     "name": "stdout",
     "output_type": "stream",
     "text": "\rdf_cache_sqlite:df.to_sql[search_recs]: ["
    },
    {
     "name": "stdout",
     "output_type": "stream",
     "text": "                                                      "
    },
    {
     "name": "stdout",
     "output_type": "stream",
     "text": "] |   0% (35231) | 13.8s"
    },
    {
     "name": "stdout",
     "output_type": "stream",
     "text": "\rdf_cache_sqlite:df.to_sql[search_recs]: ["
    },
    {
     "name": "stdout",
     "output_type": "stream",
     "text": "                                                      "
    },
    {
     "name": "stdout",
     "output_type": "stream",
     "text": "] |   0% (35231) | 14.2s"
    },
    {
     "name": "stdout",
     "output_type": "stream",
     "text": "\rdf_cache_sqlite:df.to_sql[search_recs]: ["
    },
    {
     "name": "stdout",
     "output_type": "stream",
     "text": "                                                      "
    },
    {
     "name": "stdout",
     "output_type": "stream",
     "text": "] |   0% (35231) | 14.3s"
    },
    {
     "name": "stdout",
     "output_type": "stream",
     "text": "\rdf_cache_sqlite:df.to_sql[search_recs]: ["
    },
    {
     "name": "stdout",
     "output_type": "stream",
     "text": "                                                      "
    },
    {
     "name": "stdout",
     "output_type": "stream",
     "text": "] |   0% (35231) | 14.5s"
    },
    {
     "name": "stdout",
     "output_type": "stream",
     "text": "\rdf_cache_sqlite:df.to_sql[search_recs]: ["
    },
    {
     "name": "stdout",
     "output_type": "stream",
     "text": "                                                      "
    },
    {
     "name": "stdout",
     "output_type": "stream",
     "text": "] |   0% (35231) | 14.7s"
    },
    {
     "name": "stdout",
     "output_type": "stream",
     "text": "\rdf_cache_sqlite:df.to_sql[search_recs]: ["
    },
    {
     "name": "stdout",
     "output_type": "stream",
     "text": "                                                      "
    },
    {
     "name": "stdout",
     "output_type": "stream",
     "text": "] |   0% (35231) | 15.1s"
    },
    {
     "name": "stdout",
     "output_type": "stream",
     "text": "\rdf_cache_sqlite:df.to_sql[search_recs]: ["
    },
    {
     "name": "stdout",
     "output_type": "stream",
     "text": "                                                      "
    },
    {
     "name": "stdout",
     "output_type": "stream",
     "text": "] |   0% (35231) | 15.3s"
    },
    {
     "name": "stdout",
     "output_type": "stream",
     "text": "\rdf_cache_sqlite:df.to_sql[search_recs]: ["
    },
    {
     "name": "stdout",
     "output_type": "stream",
     "text": "                                                      "
    },
    {
     "name": "stdout",
     "output_type": "stream",
     "text": "] |   0% (35231) | 15.4s"
    },
    {
     "name": "stdout",
     "output_type": "stream",
     "text": "\rdf_cache_sqlite:df.to_sql[search_recs]: ["
    },
    {
     "name": "stdout",
     "output_type": "stream",
     "text": "                                                      "
    },
    {
     "name": "stdout",
     "output_type": "stream",
     "text": "] |   0% (35231) | 15.7s"
    },
    {
     "name": "stdout",
     "output_type": "stream",
     "text": "\rdf_cache_sqlite:df.to_sql[search_recs]: ["
    },
    {
     "name": "stdout",
     "output_type": "stream",
     "text": "                                                      "
    },
    {
     "name": "stdout",
     "output_type": "stream",
     "text": "] |   0% (35231) | 15.8s"
    },
    {
     "name": "stdout",
     "output_type": "stream",
     "text": "\rdf_cache_sqlite:df.to_sql[search_recs]: ["
    },
    {
     "name": "stdout",
     "output_type": "stream",
     "text": "                                                      "
    },
    {
     "name": "stdout",
     "output_type": "stream",
     "text": "] |   0% (35231) | 16.3s"
    },
    {
     "name": "stdout",
     "output_type": "stream",
     "text": "\rdf_cache_sqlite:df.to_sql[search_recs]: ["
    },
    {
     "name": "stdout",
     "output_type": "stream",
     "text": "                                                      "
    },
    {
     "name": "stdout",
     "output_type": "stream",
     "text": "] |   0% (35231) | 16.5s"
    },
    {
     "name": "stdout",
     "output_type": "stream",
     "text": "\rdf_cache_sqlite:df.to_sql[search_recs]: ["
    },
    {
     "name": "stdout",
     "output_type": "stream",
     "text": "                                                      "
    },
    {
     "name": "stdout",
     "output_type": "stream",
     "text": "] |   0% (35231) | 16.9s"
    },
    {
     "name": "stdout",
     "output_type": "stream",
     "text": "\rdf_cache_sqlite:df.to_sql[search_recs]: ["
    },
    {
     "name": "stdout",
     "output_type": "stream",
     "text": "                                                      "
    },
    {
     "name": "stdout",
     "output_type": "stream",
     "text": "] |   0% (35231) | 17.1s"
    },
    {
     "name": "stdout",
     "output_type": "stream",
     "text": "\rdf_cache_sqlite:df.to_sql[search_recs]: ["
    },
    {
     "name": "stdout",
     "output_type": "stream",
     "text": "                                                      "
    },
    {
     "name": "stdout",
     "output_type": "stream",
     "text": "] |   0% (35231) | 17.3s"
    },
    {
     "name": "stdout",
     "output_type": "stream",
     "text": "\rdf_cache_sqlite:df.to_sql[search_recs]: ["
    },
    {
     "name": "stdout",
     "output_type": "stream",
     "text": "                                                      "
    },
    {
     "name": "stdout",
     "output_type": "stream",
     "text": "] |   0% (35231) | 17.7s"
    },
    {
     "name": "stdout",
     "output_type": "stream",
     "text": "\rdf_cache_sqlite:df.to_sql[search_recs]: ["
    },
    {
     "name": "stdout",
     "output_type": "stream",
     "text": "                                                      "
    },
    {
     "name": "stdout",
     "output_type": "stream",
     "text": "] |   0% (35231) | 18.0s"
    },
    {
     "name": "stdout",
     "output_type": "stream",
     "text": "\rdf_cache_sqlite:df.to_sql[search_recs]: ["
    },
    {
     "name": "stdout",
     "output_type": "stream",
     "text": "                                                      "
    },
    {
     "name": "stdout",
     "output_type": "stream",
     "text": "] |   0% (35231) | 18.3s"
    },
    {
     "name": "stdout",
     "output_type": "stream",
     "text": "\rdf_cache_sqlite:df.to_sql[search_recs]: ["
    },
    {
     "name": "stdout",
     "output_type": "stream",
     "text": "                                                      "
    },
    {
     "name": "stdout",
     "output_type": "stream",
     "text": "] |   0% (35231) | 18.8s"
    },
    {
     "name": "stdout",
     "output_type": "stream",
     "text": "\rdf_cache_sqlite:df.to_sql[search_recs]: ["
    },
    {
     "name": "stdout",
     "output_type": "stream",
     "text": "                                                      "
    },
    {
     "name": "stdout",
     "output_type": "stream",
     "text": "] |   0% (35231) | 18.9s"
    },
    {
     "name": "stdout",
     "output_type": "stream",
     "text": "\rdf_cache_sqlite:df.to_sql[search_recs]: ["
    },
    {
     "name": "stdout",
     "output_type": "stream",
     "text": "                                                      "
    },
    {
     "name": "stdout",
     "output_type": "stream",
     "text": "] |   0% (35231) | 19.1s"
    },
    {
     "name": "stdout",
     "output_type": "stream",
     "text": "\rdf_cache_sqlite:df.to_sql[search_recs]: ["
    },
    {
     "name": "stdout",
     "output_type": "stream",
     "text": "                                                      "
    },
    {
     "name": "stdout",
     "output_type": "stream",
     "text": "] |   0% (35231) | 19.2s"
    },
    {
     "name": "stdout",
     "output_type": "stream",
     "text": "\rdf_cache_sqlite:df.to_sql[search_recs]: ["
    },
    {
     "name": "stdout",
     "output_type": "stream",
     "text": "                                                      "
    },
    {
     "name": "stdout",
     "output_type": "stream",
     "text": "] |   0% (35231) | 19.7s"
    },
    {
     "name": "stdout",
     "output_type": "stream",
     "text": "\rdf_cache_sqlite:df.to_sql[search_recs]: ["
    },
    {
     "name": "stdout",
     "output_type": "stream",
     "text": "                                                      "
    },
    {
     "name": "stdout",
     "output_type": "stream",
     "text": "] |   0% (35231) | 20.0s"
    },
    {
     "name": "stdout",
     "output_type": "stream",
     "text": "\rdf_cache_sqlite:df.to_sql[search_recs]: ["
    },
    {
     "name": "stdout",
     "output_type": "stream",
     "text": "                                                      "
    },
    {
     "name": "stdout",
     "output_type": "stream",
     "text": "] |   0% (35231) | 20.4s"
    },
    {
     "name": "stdout",
     "output_type": "stream",
     "text": "\rdf_cache_sqlite:df.to_sql[search_recs]: ["
    },
    {
     "name": "stdout",
     "output_type": "stream",
     "text": "                                                      "
    },
    {
     "name": "stdout",
     "output_type": "stream",
     "text": "] |   0% (35231) | 20.5s"
    },
    {
     "name": "stdout",
     "output_type": "stream",
     "text": "\rdf_cache_sqlite:df.to_sql[search_recs]: ["
    },
    {
     "name": "stdout",
     "output_type": "stream",
     "text": "                                                      "
    },
    {
     "name": "stdout",
     "output_type": "stream",
     "text": "] |   0% (35231) | 20.8s"
    },
    {
     "name": "stdout",
     "output_type": "stream",
     "text": "\rdf_cache_sqlite:df.to_sql[search_recs]: ["
    },
    {
     "name": "stdout",
     "output_type": "stream",
     "text": "                                                      "
    },
    {
     "name": "stdout",
     "output_type": "stream",
     "text": "] |   0% (35231) | 21.1s"
    },
    {
     "name": "stdout",
     "output_type": "stream",
     "text": "\rdf_cache_sqlite:df.to_sql[search_recs]: ["
    },
    {
     "name": "stdout",
     "output_type": "stream",
     "text": "                                                      "
    },
    {
     "name": "stdout",
     "output_type": "stream",
     "text": "] |   0% (35231) | 21.3s"
    },
    {
     "name": "stdout",
     "output_type": "stream",
     "text": "\rdf_cache_sqlite:df.to_sql[search_recs]: ["
    },
    {
     "name": "stdout",
     "output_type": "stream",
     "text": "                                                      "
    },
    {
     "name": "stdout",
     "output_type": "stream",
     "text": "] |   0% (35231) | 21.5s"
    },
    {
     "name": "stdout",
     "output_type": "stream",
     "text": "\rdf_cache_sqlite:df.to_sql[search_recs]: ["
    },
    {
     "name": "stdout",
     "output_type": "stream",
     "text": "                                                      "
    },
    {
     "name": "stdout",
     "output_type": "stream",
     "text": "] |   0% (35231) | 21.6s"
    },
    {
     "name": "stdout",
     "output_type": "stream",
     "text": "\rdf_cache_sqlite:df.to_sql[search_recs]: ["
    },
    {
     "name": "stdout",
     "output_type": "stream",
     "text": "                                                      "
    },
    {
     "name": "stdout",
     "output_type": "stream",
     "text": "] |   0% (35231) | 22.0s"
    },
    {
     "name": "stdout",
     "output_type": "stream",
     "text": "\rdf_cache_sqlite:df.to_sql[search_recs]: ["
    },
    {
     "name": "stdout",
     "output_type": "stream",
     "text": "                                                      "
    },
    {
     "name": "stdout",
     "output_type": "stream",
     "text": "] |   0% (35231) | 22.2s"
    },
    {
     "name": "stdout",
     "output_type": "stream",
     "text": "\rdf_cache_sqlite:df.to_sql[search_recs]: ["
    },
    {
     "name": "stdout",
     "output_type": "stream",
     "text": "                                                      "
    },
    {
     "name": "stdout",
     "output_type": "stream",
     "text": "] |   0% (35231) | 22.4s"
    },
    {
     "name": "stdout",
     "output_type": "stream",
     "text": "\rdf_cache_sqlite:df.to_sql[search_recs]: ["
    },
    {
     "name": "stdout",
     "output_type": "stream",
     "text": "                                                      "
    },
    {
     "name": "stdout",
     "output_type": "stream",
     "text": "] |   0% (35231) | 22.6s"
    },
    {
     "name": "stdout",
     "output_type": "stream",
     "text": "\rdf_cache_sqlite:df.to_sql[search_recs]: ["
    },
    {
     "name": "stdout",
     "output_type": "stream",
     "text": "                                                      "
    },
    {
     "name": "stdout",
     "output_type": "stream",
     "text": "] |   0% (35231) | 23.1s"
    },
    {
     "name": "stdout",
     "output_type": "stream",
     "text": "\rdf_cache_sqlite:df.to_sql[search_recs]: ["
    },
    {
     "name": "stdout",
     "output_type": "stream",
     "text": "                                                      "
    },
    {
     "name": "stdout",
     "output_type": "stream",
     "text": "] |   0% (35231) | 23.2s"
    },
    {
     "name": "stdout",
     "output_type": "stream",
     "text": "\rdf_cache_sqlite:df.to_sql[search_recs]: ["
    },
    {
     "name": "stdout",
     "output_type": "stream",
     "text": "                                                      "
    },
    {
     "name": "stdout",
     "output_type": "stream",
     "text": "] |   0% (35231) | 23.5s"
    },
    {
     "name": "stdout",
     "output_type": "stream",
     "text": "\rdf_cache_sqlite:df.to_sql[search_recs]: ["
    },
    {
     "name": "stdout",
     "output_type": "stream",
     "text": "                                                      "
    },
    {
     "name": "stdout",
     "output_type": "stream",
     "text": "] |   0% (35231) | 23.7s"
    },
    {
     "name": "stdout",
     "output_type": "stream",
     "text": "\rdf_cache_sqlite:df.to_sql[search_recs]: ["
    },
    {
     "name": "stdout",
     "output_type": "stream",
     "text": "                                                      "
    },
    {
     "name": "stdout",
     "output_type": "stream",
     "text": "] |   0% (35231) | 23.9s"
    },
    {
     "name": "stdout",
     "output_type": "stream",
     "text": "\rdf_cache_sqlite:df.to_sql[search_recs]: ["
    },
    {
     "name": "stdout",
     "output_type": "stream",
     "text": "                                                      "
    },
    {
     "name": "stdout",
     "output_type": "stream",
     "text": "] |   0% (35231) | 24.0s"
    },
    {
     "name": "stdout",
     "output_type": "stream",
     "text": "\rdf_cache_sqlite:df.to_sql[search_recs]: ["
    },
    {
     "name": "stdout",
     "output_type": "stream",
     "text": "                                                      "
    },
    {
     "name": "stdout",
     "output_type": "stream",
     "text": "] |   0% (35231) | 24.1s"
    },
    {
     "name": "stdout",
     "output_type": "stream",
     "text": "\rdf_cache_sqlite:df.to_sql[search_recs]: ["
    },
    {
     "name": "stdout",
     "output_type": "stream",
     "text": "                                                      "
    },
    {
     "name": "stdout",
     "output_type": "stream",
     "text": "] |   0% (35231) | 24.4s"
    },
    {
     "name": "stdout",
     "output_type": "stream",
     "text": "\rdf_cache_sqlite:df.to_sql[search_recs]: ["
    },
    {
     "name": "stdout",
     "output_type": "stream",
     "text": "                                                      "
    },
    {
     "name": "stdout",
     "output_type": "stream",
     "text": "] |   0% (35231) | 24.6s"
    },
    {
     "name": "stdout",
     "output_type": "stream",
     "text": "\rdf_cache_sqlite:df.to_sql[search_recs]: ["
    },
    {
     "name": "stdout",
     "output_type": "stream",
     "text": "                                                      "
    },
    {
     "name": "stdout",
     "output_type": "stream",
     "text": "] |   0% (35231) | 24.9s"
    },
    {
     "name": "stdout",
     "output_type": "stream",
     "text": "\rdf_cache_sqlite:df.to_sql[search_recs]: ["
    },
    {
     "name": "stdout",
     "output_type": "stream",
     "text": "                                                      "
    },
    {
     "name": "stdout",
     "output_type": "stream",
     "text": "] |   0% (35231) | 25.1s"
    },
    {
     "name": "stdout",
     "output_type": "stream",
     "text": "\rdf_cache_sqlite:df.to_sql[search_recs]: ["
    },
    {
     "name": "stdout",
     "output_type": "stream",
     "text": "                                                      "
    },
    {
     "name": "stdout",
     "output_type": "stream",
     "text": "] |   0% (35231) | 25.3s"
    },
    {
     "name": "stdout",
     "output_type": "stream",
     "text": "\rdf_cache_sqlite:df.to_sql[search_recs]: ["
    },
    {
     "name": "stdout",
     "output_type": "stream",
     "text": "                                                      "
    },
    {
     "name": "stdout",
     "output_type": "stream",
     "text": "] |   0% (35231) | 25.5s"
    },
    {
     "name": "stdout",
     "output_type": "stream",
     "text": "\rdf_cache_sqlite:df.to_sql[search_recs]: ["
    },
    {
     "name": "stdout",
     "output_type": "stream",
     "text": "                                                      "
    },
    {
     "name": "stdout",
     "output_type": "stream",
     "text": "] |   0% (35231) | 25.9s"
    },
    {
     "name": "stdout",
     "output_type": "stream",
     "text": "\rdf_cache_sqlite:df.to_sql[search_recs]: ["
    },
    {
     "name": "stdout",
     "output_type": "stream",
     "text": "                                                      "
    },
    {
     "name": "stdout",
     "output_type": "stream",
     "text": "] |   0% (35231) | 26.2s"
    },
    {
     "name": "stdout",
     "output_type": "stream",
     "text": "\rdf_cache_sqlite:df.to_sql[search_recs]: ["
    },
    {
     "name": "stdout",
     "output_type": "stream",
     "text": "                                                      "
    },
    {
     "name": "stdout",
     "output_type": "stream",
     "text": "] |   0% (35231) | 26.4s"
    },
    {
     "name": "stdout",
     "output_type": "stream",
     "text": "\rdf_cache_sqlite:df.to_sql[search_recs]: ["
    },
    {
     "name": "stdout",
     "output_type": "stream",
     "text": "                                                      "
    },
    {
     "name": "stdout",
     "output_type": "stream",
     "text": "] |   0% (35231) | 26.7s"
    },
    {
     "name": "stdout",
     "output_type": "stream",
     "text": "\rdf_cache_sqlite:df.to_sql[search_recs]: ["
    },
    {
     "name": "stdout",
     "output_type": "stream",
     "text": "                                                      "
    },
    {
     "name": "stdout",
     "output_type": "stream",
     "text": "] |   0% (35231) | 27.0s"
    },
    {
     "name": "stdout",
     "output_type": "stream",
     "text": "\rdf_cache_sqlite:df.to_sql[search_recs]: ["
    },
    {
     "name": "stdout",
     "output_type": "stream",
     "text": "                                                      "
    },
    {
     "name": "stdout",
     "output_type": "stream",
     "text": "] |   0% (35231) | 27.2s"
    },
    {
     "name": "stdout",
     "output_type": "stream",
     "text": "\rdf_cache_sqlite:df.to_sql[search_recs]: ["
    },
    {
     "name": "stdout",
     "output_type": "stream",
     "text": "                                                      "
    },
    {
     "name": "stdout",
     "output_type": "stream",
     "text": "] |   0% (35231) | 27.4s"
    },
    {
     "name": "stdout",
     "output_type": "stream",
     "text": "\rdf_cache_sqlite:df.to_sql[search_recs]: ["
    },
    {
     "name": "stdout",
     "output_type": "stream",
     "text": "                                                      "
    },
    {
     "name": "stdout",
     "output_type": "stream",
     "text": "] |   0% (35231) | 27.6s"
    },
    {
     "name": "stdout",
     "output_type": "stream",
     "text": "\rdf_cache_sqlite:df.to_sql[search_recs]: ["
    },
    {
     "name": "stdout",
     "output_type": "stream",
     "text": "                                                      "
    },
    {
     "name": "stdout",
     "output_type": "stream",
     "text": "] |   0% (35231) | 27.9s"
    },
    {
     "name": "stdout",
     "output_type": "stream",
     "text": "\rdf_cache_sqlite:df.to_sql[search_recs]: ["
    },
    {
     "name": "stdout",
     "output_type": "stream",
     "text": "                                                      "
    },
    {
     "name": "stdout",
     "output_type": "stream",
     "text": "] |   0% (35231) | 28.1s"
    },
    {
     "name": "stdout",
     "output_type": "stream",
     "text": "\rdf_cache_sqlite:df.to_sql[search_recs]: ["
    },
    {
     "name": "stdout",
     "output_type": "stream",
     "text": "                                                      "
    },
    {
     "name": "stdout",
     "output_type": "stream",
     "text": "] |   0% (35231) | 28.4s"
    },
    {
     "name": "stdout",
     "output_type": "stream",
     "text": "\rdf_cache_sqlite:df.to_sql[search_recs]: ["
    },
    {
     "name": "stdout",
     "output_type": "stream",
     "text": "                                                      "
    },
    {
     "name": "stdout",
     "output_type": "stream",
     "text": "] |   0% (35231) | 28.6s"
    },
    {
     "name": "stdout",
     "output_type": "stream",
     "text": "\rdf_cache_sqlite:df.to_sql[search_recs]: ["
    },
    {
     "name": "stdout",
     "output_type": "stream",
     "text": "                                                      "
    },
    {
     "name": "stdout",
     "output_type": "stream",
     "text": "] |   0% (35231) | 28.8s"
    },
    {
     "name": "stdout",
     "output_type": "stream",
     "text": "\rdf_cache_sqlite:df.to_sql[search_recs]: ["
    },
    {
     "name": "stdout",
     "output_type": "stream",
     "text": "                                                      "
    },
    {
     "name": "stdout",
     "output_type": "stream",
     "text": "] |   0% (35231) | 29.0s"
    },
    {
     "name": "stdout",
     "output_type": "stream",
     "text": "\rdf_cache_sqlite:df.to_sql[search_recs]: ["
    },
    {
     "name": "stdout",
     "output_type": "stream",
     "text": "                                                      "
    },
    {
     "name": "stdout",
     "output_type": "stream",
     "text": "] |   0% (35231) | 29.4s"
    },
    {
     "name": "stdout",
     "output_type": "stream",
     "text": "\rdf_cache_sqlite:df.to_sql[search_recs]: ["
    },
    {
     "name": "stdout",
     "output_type": "stream",
     "text": "                                                      "
    },
    {
     "name": "stdout",
     "output_type": "stream",
     "text": "] |   0% (35231) | 29.6s"
    },
    {
     "name": "stdout",
     "output_type": "stream",
     "text": "\rdf_cache_sqlite:df.to_sql[search_recs]: ["
    },
    {
     "name": "stdout",
     "output_type": "stream",
     "text": "                                                      "
    },
    {
     "name": "stdout",
     "output_type": "stream",
     "text": "] |   0% (35231) | 29.8s"
    },
    {
     "name": "stdout",
     "output_type": "stream",
     "text": "\rdf_cache_sqlite:df.to_sql[search_recs]: ["
    },
    {
     "name": "stdout",
     "output_type": "stream",
     "text": "                                                      "
    },
    {
     "name": "stdout",
     "output_type": "stream",
     "text": "] |   0% (35231) | 30.0s"
    },
    {
     "name": "stdout",
     "output_type": "stream",
     "text": "\rdf_cache_sqlite:df.to_sql[search_recs]: ["
    },
    {
     "name": "stdout",
     "output_type": "stream",
     "text": "                                                      "
    },
    {
     "name": "stdout",
     "output_type": "stream",
     "text": "] |   0% (35231) | 30.4s"
    },
    {
     "name": "stdout",
     "output_type": "stream",
     "text": "\rdf_cache_sqlite:df.to_sql[search_recs]: ["
    },
    {
     "name": "stdout",
     "output_type": "stream",
     "text": "                                                      "
    },
    {
     "name": "stdout",
     "output_type": "stream",
     "text": "] |   0% (35231) | 30.5s"
    },
    {
     "name": "stdout",
     "output_type": "stream",
     "text": "\rdf_cache_sqlite:df.to_sql[search_recs]: ["
    },
    {
     "name": "stdout",
     "output_type": "stream",
     "text": "                                                      "
    },
    {
     "name": "stdout",
     "output_type": "stream",
     "text": "] |   0% (35231) | 30.7s"
    },
    {
     "name": "stdout",
     "output_type": "stream",
     "text": "\rdf_cache_sqlite:df.to_sql[search_recs]: ["
    },
    {
     "name": "stdout",
     "output_type": "stream",
     "text": "                                                      "
    },
    {
     "name": "stdout",
     "output_type": "stream",
     "text": "] |   0% (35231) | 30.9s"
    },
    {
     "name": "stdout",
     "output_type": "stream",
     "text": "\rdf_cache_sqlite:df.to_sql[search_recs]: ["
    },
    {
     "name": "stdout",
     "output_type": "stream",
     "text": "                                                      "
    },
    {
     "name": "stdout",
     "output_type": "stream",
     "text": "] |   0% (35231) | 31.1s"
    },
    {
     "name": "stdout",
     "output_type": "stream",
     "text": "\rdf_cache_sqlite:df.to_sql[search_recs]: ["
    },
    {
     "name": "stdout",
     "output_type": "stream",
     "text": "######################################################"
    },
    {
     "name": "stdout",
     "output_type": "stream",
     "text": "] | 100% (35231) | 31.6s"
    },
    {
     "name": "stdout",
     "output_type": "stream",
     "text": "\n"
    },
    {
     "name": "stderr",
     "output_type": "stream",
     "text": "\rdf_cache_sqlite:df.to_sql[_search_recs_bubo_metadata]:   0%|                                     | 0/1 [00:00<?, ?it/s]"
    },
    {
     "name": "stderr",
     "output_type": "stream",
     "text": "\rdf_cache_sqlite:df.to_sql[_search_recs_bubo_metadata]: 100%|████████████████████████████| 1/1 [00:00<00:00, 122.95it/s]"
    },
    {
     "name": "stderr",
     "output_type": "stream",
     "text": "\n"
    },
    {
     "data": {
      "text/html": "<table border=\"1\" class=\"dataframe\">\n  <thead>\n    <tr style=\"text-align: right;\">\n      <th></th>\n      <th>size</th>\n      <th>type</th>\n      <th>0</th>\n    </tr>\n  </thead>\n  <tbody>\n    <tr>\n      <th>xc_id</th>\n      <td>36</td>\n      <td><div class=\"not-number\">int</div></td>\n      <td>115925</td>\n    </tr>\n    <tr>\n      <th>feat</th>\n      <td>6104</td>\n      <td><div class=\"not-number\">ndarray</div></td>\n      <td><div class=\"not-number\">[ 4.455e-02 -7.034e-02  2.956e-01 -4.216e-02 -3.264e-02 -6.938e-02  9.214e-02  3.209e-03  2.126e-01 -8.443e-02\n -1.446e-01 -9.171e-02 -1.280e-01  1.579e-02 -7.380e-02 -7.01...</td>\n    </tr>\n    <tr>\n      <th>f_f</th>\n      <td>104</td>\n      <td><div class=\"not-number\">ndarray</div></td>\n      <td><div class=\"not-number\">[ 4.455e-02 -7.034e-02  2.956e-01 -4.216e-02 -3.264e-02 -6.938e-02  9.214e-02  3.209e-03  2.126e-01 -8.443e-02\n -1.446e-01 -9.171e-02 -1.280e-01  1.579e-02 -7.380e-02 -7.01...</td>\n    </tr>\n    <tr>\n      <th>f_p</th>\n      <td>104</td>\n      <td><div class=\"not-number\">ndarray</div></td>\n      <td><div class=\"not-number\">[2.792e-04 2.333e-03 6.595e-06 7.704e-04 4.692e-04 5.952e-03 1.236e-02 4.282e-03 2.968e-05 2.268e-03 1.762e-04\n 2.358e-04 3.394e-03 2.391e-03 3.478e-03 2.690e-03 3.178e-04 ...</td>\n    </tr>\n    <tr>\n      <th>background</th>\n      <td>80</td>\n      <td><div class=\"not-number\">list</div></td>\n      <td><div class=\"not-number\">['Canada Goose (Branta canadensis)']</div></td>\n    </tr>\n    <tr>\n      <th>background_species</th>\n      <td>80</td>\n      <td><div class=\"not-number\">list</div></td>\n      <td><div class=\"not-number\">['CANG']</div></td>\n    </tr>\n  </tbody>\n</table>",
      "text/plain": "                    size     type                                                                                                                                                                                                        0\nxc_id                 36      int                                                                                                                                                                                                   115925\nfeat                6104  ndarray  [0.04454654, -0.07033722, 0.2956199, -0.042161327, -0.03264176, -0.06938117, 0.092139535, 0.003208846, 0.21259835, -0.08442836, -0.14455757, -0.09170576, -0.12796351, 0.01579389, -0.073798686, -0....\nf_f                  104  ndarray  [0.04454654, -0.07033722, 0.2956199, -0.042161327, -0.03264176, -0.06938117, 0.092139535, 0.003208846, 0.21259835, -0.08442836, -0.14455757, -0.09170576, -0.12796351, 0.01579389, -0.073798686, -0....\nf_p                  104  ndarray  [0.00027917765, 0.0023327717, 6.595441e-06, 0.00077041186, 0.0004691546, 0.005951726, 0.012363782, 0.004282009, 2.968217e-05, 0.002267783, 0.0001762052, 0.00023575086, 0.0033936517, 0.0023914035, ...\nbackground            80     list                                                                                                                                                                       [Canada Goose (Branta canadensis)]\nbackground_species    80     list                                                                                                                                                                                                   [CANG]"
     },
     "metadata": {},
     "output_type": "display_data",
     "transient": {}
    },
    {
     "name": "stdout",
     "output_type": "stream",
     "text": "\n"
    },
    {
     "name": "stdout",
     "output_type": "stream",
     "text": "search_recs(**{})"
    },
    {
     "name": "stdout",
     "output_type": "stream",
     "text": "\n"
    },
    {
     "name": "stdout",
     "output_type": "stream",
     "text": "INFO     [12:42:08.733] [94344] 296 api.recs/get_search_recs"
    },
    {
     "name": "stdout",
     "output_type": "stream",
     "text": "\n"
    },
    {
     "name": "stderr",
     "output_type": "stream",
     "text": "\rdf_cache_sqlite:pd.read_sql_table[_search_recs_bubo_metadata]:   0%|                             | 0/1 [00:00<?, ?it/s]"
    },
    {
     "name": "stderr",
     "output_type": "stream",
     "text": "\rdf_cache_sqlite:pd.read_sql_table[_search_recs_bubo_metadata]: 100%|█████████████████████| 1/1 [00:00<00:00, 89.22it/s]"
    },
    {
     "name": "stderr",
     "output_type": "stream",
     "text": "\n"
    },
    {
     "name": "stdout",
     "output_type": "stream",
     "text": "\rdf_cache_sqlite:pd.read_sql_table[search_recs]: ["
    },
    {
     "name": "stdout",
     "output_type": "stream",
     "text": "                                              "
    },
    {
     "name": "stdout",
     "output_type": "stream",
     "text": "] |   0% (35231) |  0.0s"
    },
    {
     "name": "stdout",
     "output_type": "stream",
     "text": "\rdf_cache_sqlite:pd.read_sql_table[search_recs]: ["
    },
    {
     "name": "stdout",
     "output_type": "stream",
     "text": "                                              "
    },
    {
     "name": "stdout",
     "output_type": "stream",
     "text": "] |   0% (35231) |  0.1s"
    },
    {
     "name": "stdout",
     "output_type": "stream",
     "text": "\rdf_cache_sqlite:pd.read_sql_table[search_recs]: ["
    },
    {
     "name": "stdout",
     "output_type": "stream",
     "text": "                                              "
    },
    {
     "name": "stdout",
     "output_type": "stream",
     "text": "] |   0% (35231) |  0.2s"
    },
    {
     "name": "stdout",
     "output_type": "stream",
     "text": "\rdf_cache_sqlite:pd.read_sql_table[search_recs]: ["
    },
    {
     "name": "stdout",
     "output_type": "stream",
     "text": "                                              "
    },
    {
     "name": "stdout",
     "output_type": "stream",
     "text": "] |   0% (35231) |  0.3s"
    },
    {
     "name": "stdout",
     "output_type": "stream",
     "text": "\rdf_cache_sqlite:pd.read_sql_table[search_recs]: ["
    },
    {
     "name": "stdout",
     "output_type": "stream",
     "text": "                                              "
    },
    {
     "name": "stdout",
     "output_type": "stream",
     "text": "] |   0% (35231) |  0.4s"
    },
    {
     "name": "stdout",
     "output_type": "stream",
     "text": "\rdf_cache_sqlite:pd.read_sql_table[search_recs]: ["
    },
    {
     "name": "stdout",
     "output_type": "stream",
     "text": "                                              "
    },
    {
     "name": "stdout",
     "output_type": "stream",
     "text": "] |   0% (35231) |  0.5s"
    },
    {
     "name": "stdout",
     "output_type": "stream",
     "text": "\rdf_cache_sqlite:pd.read_sql_table[search_recs]: ["
    },
    {
     "name": "stdout",
     "output_type": "stream",
     "text": "                                              "
    },
    {
     "name": "stdout",
     "output_type": "stream",
     "text": "] |   0% (35231) |  0.6s"
    },
    {
     "name": "stdout",
     "output_type": "stream",
     "text": "\rdf_cache_sqlite:pd.read_sql_table[search_recs]: ["
    },
    {
     "name": "stdout",
     "output_type": "stream",
     "text": "                                              "
    },
    {
     "name": "stdout",
     "output_type": "stream",
     "text": "] |   0% (35231) |  0.7s"
    },
    {
     "name": "stdout",
     "output_type": "stream",
     "text": "\rdf_cache_sqlite:pd.read_sql_table[search_recs]: ["
    },
    {
     "name": "stdout",
     "output_type": "stream",
     "text": "                                              "
    },
    {
     "name": "stdout",
     "output_type": "stream",
     "text": "] |   0% (35231) |  0.8s"
    },
    {
     "name": "stdout",
     "output_type": "stream",
     "text": "\rdf_cache_sqlite:pd.read_sql_table[search_recs]: ["
    },
    {
     "name": "stdout",
     "output_type": "stream",
     "text": "                                              "
    },
    {
     "name": "stdout",
     "output_type": "stream",
     "text": "] |   0% (35231) |  0.9s"
    },
    {
     "name": "stdout",
     "output_type": "stream",
     "text": "\rdf_cache_sqlite:pd.read_sql_table[search_recs]: ["
    },
    {
     "name": "stdout",
     "output_type": "stream",
     "text": "                                              "
    },
    {
     "name": "stdout",
     "output_type": "stream",
     "text": "] |   0% (35231) |  1.0s"
    },
    {
     "name": "stdout",
     "output_type": "stream",
     "text": "\rdf_cache_sqlite:pd.read_sql_table[search_recs]: ["
    },
    {
     "name": "stdout",
     "output_type": "stream",
     "text": "                                              "
    },
    {
     "name": "stdout",
     "output_type": "stream",
     "text": "] |   0% (35231) |  1.1s"
    },
    {
     "name": "stdout",
     "output_type": "stream",
     "text": "\rdf_cache_sqlite:pd.read_sql_table[search_recs]: ["
    },
    {
     "name": "stdout",
     "output_type": "stream",
     "text": "                                              "
    },
    {
     "name": "stdout",
     "output_type": "stream",
     "text": "] |   0% (35231) |  1.2s"
    },
    {
     "name": "stdout",
     "output_type": "stream",
     "text": "\rdf_cache_sqlite:pd.read_sql_table[search_recs]: ["
    },
    {
     "name": "stdout",
     "output_type": "stream",
     "text": "                                              "
    },
    {
     "name": "stdout",
     "output_type": "stream",
     "text": "] |   0% (35231) |  1.3s"
    },
    {
     "name": "stdout",
     "output_type": "stream",
     "text": "\rdf_cache_sqlite:pd.read_sql_table[search_recs]: ["
    },
    {
     "name": "stdout",
     "output_type": "stream",
     "text": "                                              "
    },
    {
     "name": "stdout",
     "output_type": "stream",
     "text": "] |   0% (35231) |  1.4s"
    },
    {
     "name": "stdout",
     "output_type": "stream",
     "text": "\rdf_cache_sqlite:pd.read_sql_table[search_recs]: ["
    },
    {
     "name": "stdout",
     "output_type": "stream",
     "text": "                                              "
    },
    {
     "name": "stdout",
     "output_type": "stream",
     "text": "] |   0% (35231) |  1.5s"
    },
    {
     "name": "stdout",
     "output_type": "stream",
     "text": "\rdf_cache_sqlite:pd.read_sql_table[search_recs]: ["
    },
    {
     "name": "stdout",
     "output_type": "stream",
     "text": "                                              "
    },
    {
     "name": "stdout",
     "output_type": "stream",
     "text": "] |   0% (35231) |  1.6s"
    },
    {
     "name": "stdout",
     "output_type": "stream",
     "text": "\rdf_cache_sqlite:pd.read_sql_table[search_recs]: ["
    },
    {
     "name": "stdout",
     "output_type": "stream",
     "text": "                                              "
    },
    {
     "name": "stdout",
     "output_type": "stream",
     "text": "] |   0% (35231) |  1.8s"
    },
    {
     "name": "stdout",
     "output_type": "stream",
     "text": "\rdf_cache_sqlite:pd.read_sql_table[search_recs]: ["
    },
    {
     "name": "stdout",
     "output_type": "stream",
     "text": "                                              "
    },
    {
     "name": "stdout",
     "output_type": "stream",
     "text": "] |   0% (35231) |  1.9s"
    },
    {
     "name": "stdout",
     "output_type": "stream",
     "text": "\rdf_cache_sqlite:pd.read_sql_table[search_recs]: ["
    },
    {
     "name": "stdout",
     "output_type": "stream",
     "text": "                                              "
    },
    {
     "name": "stdout",
     "output_type": "stream",
     "text": "] |   0% (35231) |  2.0s"
    },
    {
     "name": "stdout",
     "output_type": "stream",
     "text": "\rdf_cache_sqlite:pd.read_sql_table[search_recs]: ["
    },
    {
     "name": "stdout",
     "output_type": "stream",
     "text": "                                              "
    },
    {
     "name": "stdout",
     "output_type": "stream",
     "text": "] |   0% (35231) |  2.1s"
    },
    {
     "name": "stdout",
     "output_type": "stream",
     "text": "\rdf_cache_sqlite:pd.read_sql_table[search_recs]: ["
    },
    {
     "name": "stdout",
     "output_type": "stream",
     "text": "                                              "
    },
    {
     "name": "stdout",
     "output_type": "stream",
     "text": "] |   0% (35231) |  2.2s"
    },
    {
     "name": "stdout",
     "output_type": "stream",
     "text": "\rdf_cache_sqlite:pd.read_sql_table[search_recs]: ["
    },
    {
     "name": "stdout",
     "output_type": "stream",
     "text": "                                              "
    },
    {
     "name": "stdout",
     "output_type": "stream",
     "text": "] |   0% (35231) |  2.3s"
    },
    {
     "name": "stdout",
     "output_type": "stream",
     "text": "\rdf_cache_sqlite:pd.read_sql_table[search_recs]: ["
    },
    {
     "name": "stdout",
     "output_type": "stream",
     "text": "                                              "
    },
    {
     "name": "stdout",
     "output_type": "stream",
     "text": "] |   0% (35231) |  2.4s"
    },
    {
     "name": "stdout",
     "output_type": "stream",
     "text": "\rdf_cache_sqlite:pd.read_sql_table[search_recs]: ["
    },
    {
     "name": "stdout",
     "output_type": "stream",
     "text": "                                              "
    },
    {
     "name": "stdout",
     "output_type": "stream",
     "text": "] |   0% (35231) |  2.5s"
    },
    {
     "name": "stdout",
     "output_type": "stream",
     "text": "\rdf_cache_sqlite:pd.read_sql_table[search_recs]: ["
    },
    {
     "name": "stdout",
     "output_type": "stream",
     "text": "                                              "
    },
    {
     "name": "stdout",
     "output_type": "stream",
     "text": "] |   0% (35231) |  2.6s"
    },
    {
     "name": "stdout",
     "output_type": "stream",
     "text": "\rdf_cache_sqlite:pd.read_sql_table[search_recs]: ["
    },
    {
     "name": "stdout",
     "output_type": "stream",
     "text": "                                              "
    },
    {
     "name": "stdout",
     "output_type": "stream",
     "text": "] |   0% (35231) |  2.7s"
    },
    {
     "name": "stdout",
     "output_type": "stream",
     "text": "\rdf_cache_sqlite:pd.read_sql_table[search_recs]: ["
    },
    {
     "name": "stdout",
     "output_type": "stream",
     "text": "                                              "
    },
    {
     "name": "stdout",
     "output_type": "stream",
     "text": "] |   0% (35231) |  2.8s"
    },
    {
     "name": "stdout",
     "output_type": "stream",
     "text": "\rdf_cache_sqlite:pd.read_sql_table[search_recs]: ["
    },
    {
     "name": "stdout",
     "output_type": "stream",
     "text": "                                              "
    },
    {
     "name": "stdout",
     "output_type": "stream",
     "text": "] |   0% (35231) |  2.9s"
    },
    {
     "name": "stdout",
     "output_type": "stream",
     "text": "\rdf_cache_sqlite:pd.read_sql_table[search_recs]: ["
    },
    {
     "name": "stdout",
     "output_type": "stream",
     "text": "                                              "
    },
    {
     "name": "stdout",
     "output_type": "stream",
     "text": "] |   0% (35231) |  3.0s"
    },
    {
     "name": "stdout",
     "output_type": "stream",
     "text": "\rdf_cache_sqlite:pd.read_sql_table[search_recs]: ["
    },
    {
     "name": "stdout",
     "output_type": "stream",
     "text": "                                              "
    },
    {
     "name": "stdout",
     "output_type": "stream",
     "text": "] |   0% (35231) |  3.1s"
    },
    {
     "name": "stdout",
     "output_type": "stream",
     "text": "\rdf_cache_sqlite:pd.read_sql_table[search_recs]: ["
    },
    {
     "name": "stdout",
     "output_type": "stream",
     "text": "                                              "
    },
    {
     "name": "stdout",
     "output_type": "stream",
     "text": "] |   0% (35231) |  3.3s"
    },
    {
     "name": "stdout",
     "output_type": "stream",
     "text": "\rdf_cache_sqlite:pd.read_sql_table[search_recs]: ["
    },
    {
     "name": "stdout",
     "output_type": "stream",
     "text": "                                              "
    },
    {
     "name": "stdout",
     "output_type": "stream",
     "text": "] |   0% (35231) |  3.5s"
    },
    {
     "name": "stdout",
     "output_type": "stream",
     "text": "\rdf_cache_sqlite:pd.read_sql_table[search_recs]: ["
    },
    {
     "name": "stdout",
     "output_type": "stream",
     "text": "                                              "
    },
    {
     "name": "stdout",
     "output_type": "stream",
     "text": "] |   0% (35231) |  3.7s"
    },
    {
     "name": "stdout",
     "output_type": "stream",
     "text": "\rdf_cache_sqlite:pd.read_sql_table[search_recs]: ["
    },
    {
     "name": "stdout",
     "output_type": "stream",
     "text": "                                              "
    },
    {
     "name": "stdout",
     "output_type": "stream",
     "text": "] |   0% (35231) |  3.8s"
    },
    {
     "name": "stdout",
     "output_type": "stream",
     "text": "\rdf_cache_sqlite:pd.read_sql_table[search_recs]: ["
    },
    {
     "name": "stdout",
     "output_type": "stream",
     "text": "##############################################"
    },
    {
     "name": "stdout",
     "output_type": "stream",
     "text": "] | 100% (35231) |  3.9s"
    },
    {
     "name": "stdout",
     "output_type": "stream",
     "text": "\n"
    },
    {
     "name": "stdout",
     "output_type": "stream",
     "text": "\rdf_cache_sqlite:col_from_sql[search_recs: np_load_from_bytes(feat)]: ["
    },
    {
     "name": "stdout",
     "output_type": "stream",
     "text": "                         "
    },
    {
     "name": "stdout",
     "output_type": "stream",
     "text": "] |   0% (35231) |  0.0s"
    },
    {
     "name": "stdout",
     "output_type": "stream",
     "text": "\rdf_cache_sqlite:col_from_sql[search_recs: np_load_from_bytes(feat)]: ["
    },
    {
     "name": "stdout",
     "output_type": "stream",
     "text": "                         "
    },
    {
     "name": "stdout",
     "output_type": "stream",
     "text": "] |   0% (35231) |  0.3s"
    },
    {
     "name": "stdout",
     "output_type": "stream",
     "text": "\rdf_cache_sqlite:col_from_sql[search_recs: np_load_from_bytes(feat)]: ["
    },
    {
     "name": "stdout",
     "output_type": "stream",
     "text": "#                        "
    },
    {
     "name": "stdout",
     "output_type": "stream",
     "text": "] |   4% (35231) |  0.7s"
    },
    {
     "name": "stdout",
     "output_type": "stream",
     "text": "\rdf_cache_sqlite:col_from_sql[search_recs: np_load_from_bytes(feat)]: ["
    },
    {
     "name": "stdout",
     "output_type": "stream",
     "text": "##                       "
    },
    {
     "name": "stdout",
     "output_type": "stream",
     "text": "] |   8% (35231) |  1.1s"
    },
    {
     "name": "stdout",
     "output_type": "stream",
     "text": "\rdf_cache_sqlite:col_from_sql[search_recs: np_load_from_bytes(feat)]: ["
    },
    {
     "name": "stdout",
     "output_type": "stream",
     "text": "###                      "
    },
    {
     "name": "stdout",
     "output_type": "stream",
     "text": "] |  12% (35231) |  1.3s"
    },
    {
     "name": "stdout",
     "output_type": "stream",
     "text": "\rdf_cache_sqlite:col_from_sql[search_recs: np_load_from_bytes(feat)]: ["
    },
    {
     "name": "stdout",
     "output_type": "stream",
     "text": "####                     "
    },
    {
     "name": "stdout",
     "output_type": "stream",
     "text": "] |  19% (35231) |  1.8s"
    },
    {
     "name": "stdout",
     "output_type": "stream",
     "text": "\rdf_cache_sqlite:col_from_sql[search_recs: np_load_from_bytes(feat)]: ["
    },
    {
     "name": "stdout",
     "output_type": "stream",
     "text": "######                   "
    },
    {
     "name": "stdout",
     "output_type": "stream",
     "text": "] |  26% (35231) |  2.3s"
    },
    {
     "name": "stdout",
     "output_type": "stream",
     "text": "\rdf_cache_sqlite:col_from_sql[search_recs: np_load_from_bytes(feat)]: ["
    },
    {
     "name": "stdout",
     "output_type": "stream",
     "text": "########                 "
    },
    {
     "name": "stdout",
     "output_type": "stream",
     "text": "] |  34% (35231) |  2.9s"
    },
    {
     "name": "stdout",
     "output_type": "stream",
     "text": "\rdf_cache_sqlite:col_from_sql[search_recs: np_load_from_bytes(feat)]: ["
    },
    {
     "name": "stdout",
     "output_type": "stream",
     "text": "##########               "
    },
    {
     "name": "stdout",
     "output_type": "stream",
     "text": "] |  40% (35231) |  3.3s"
    },
    {
     "name": "stdout",
     "output_type": "stream",
     "text": "\rdf_cache_sqlite:col_from_sql[search_recs: np_load_from_bytes(feat)]: ["
    },
    {
     "name": "stdout",
     "output_type": "stream",
     "text": "##########               "
    },
    {
     "name": "stdout",
     "output_type": "stream",
     "text": "] |  43% (35231) |  3.7s"
    },
    {
     "name": "stdout",
     "output_type": "stream",
     "text": "\rdf_cache_sqlite:col_from_sql[search_recs: np_load_from_bytes(feat)]: ["
    },
    {
     "name": "stdout",
     "output_type": "stream",
     "text": "############             "
    },
    {
     "name": "stdout",
     "output_type": "stream",
     "text": "] |  48% (35231) |  3.8s"
    },
    {
     "name": "stdout",
     "output_type": "stream",
     "text": "\rdf_cache_sqlite:col_from_sql[search_recs: np_load_from_bytes(feat)]: ["
    },
    {
     "name": "stdout",
     "output_type": "stream",
     "text": "############             "
    },
    {
     "name": "stdout",
     "output_type": "stream",
     "text": "] |  50% (35231) |  4.2s"
    },
    {
     "name": "stdout",
     "output_type": "stream",
     "text": "\rdf_cache_sqlite:col_from_sql[search_recs: np_load_from_bytes(feat)]: ["
    },
    {
     "name": "stdout",
     "output_type": "stream",
     "text": "#############            "
    },
    {
     "name": "stdout",
     "output_type": "stream",
     "text": "] |  55% (35231) |  4.5s"
    },
    {
     "name": "stdout",
     "output_type": "stream",
     "text": "\rdf_cache_sqlite:col_from_sql[search_recs: np_load_from_bytes(feat)]: ["
    },
    {
     "name": "stdout",
     "output_type": "stream",
     "text": "##############           "
    },
    {
     "name": "stdout",
     "output_type": "stream",
     "text": "] |  57% (35231) |  4.8s"
    },
    {
     "name": "stdout",
     "output_type": "stream",
     "text": "\rdf_cache_sqlite:col_from_sql[search_recs: np_load_from_bytes(feat)]: ["
    },
    {
     "name": "stdout",
     "output_type": "stream",
     "text": "###############          "
    },
    {
     "name": "stdout",
     "output_type": "stream",
     "text": "] |  62% (35231) |  4.9s"
    },
    {
     "name": "stdout",
     "output_type": "stream",
     "text": "\rdf_cache_sqlite:col_from_sql[search_recs: np_load_from_bytes(feat)]: ["
    },
    {
     "name": "stdout",
     "output_type": "stream",
     "text": "################         "
    },
    {
     "name": "stdout",
     "output_type": "stream",
     "text": "] |  65% (35231) |  5.3s"
    },
    {
     "name": "stdout",
     "output_type": "stream",
     "text": "\rdf_cache_sqlite:col_from_sql[search_recs: np_load_from_bytes(feat)]: ["
    },
    {
     "name": "stdout",
     "output_type": "stream",
     "text": "#################        "
    },
    {
     "name": "stdout",
     "output_type": "stream",
     "text": "] |  69% (35231) |  5.4s"
    },
    {
     "name": "stdout",
     "output_type": "stream",
     "text": "\rdf_cache_sqlite:col_from_sql[search_recs: np_load_from_bytes(feat)]: ["
    },
    {
     "name": "stdout",
     "output_type": "stream",
     "text": "##################       "
    },
    {
     "name": "stdout",
     "output_type": "stream",
     "text": "] |  72% (35231) |  5.8s"
    },
    {
     "name": "stdout",
     "output_type": "stream",
     "text": "\rdf_cache_sqlite:col_from_sql[search_recs: np_load_from_bytes(feat)]: ["
    },
    {
     "name": "stdout",
     "output_type": "stream",
     "text": "###################      "
    },
    {
     "name": "stdout",
     "output_type": "stream",
     "text": "] |  77% (35231) |  5.9s"
    },
    {
     "name": "stdout",
     "output_type": "stream",
     "text": "\rdf_cache_sqlite:col_from_sql[search_recs: np_load_from_bytes(feat)]: ["
    },
    {
     "name": "stdout",
     "output_type": "stream",
     "text": "####################     "
    },
    {
     "name": "stdout",
     "output_type": "stream",
     "text": "] |  83% (35231) |  6.5s"
    },
    {
     "name": "stdout",
     "output_type": "stream",
     "text": "\rdf_cache_sqlite:col_from_sql[search_recs: np_load_from_bytes(feat)]: ["
    },
    {
     "name": "stdout",
     "output_type": "stream",
     "text": "#####################    "
    },
    {
     "name": "stdout",
     "output_type": "stream",
     "text": "] |  87% (35231) |  6.9s"
    },
    {
     "name": "stdout",
     "output_type": "stream",
     "text": "\rdf_cache_sqlite:col_from_sql[search_recs: np_load_from_bytes(feat)]: ["
    },
    {
     "name": "stdout",
     "output_type": "stream",
     "text": "######################   "
    },
    {
     "name": "stdout",
     "output_type": "stream",
     "text": "] |  90% (35231) |  7.0s"
    },
    {
     "name": "stdout",
     "output_type": "stream",
     "text": "\rdf_cache_sqlite:col_from_sql[search_recs: np_load_from_bytes(feat)]: ["
    },
    {
     "name": "stdout",
     "output_type": "stream",
     "text": "#######################  "
    },
    {
     "name": "stdout",
     "output_type": "stream",
     "text": "] |  94% (35231) |  7.4s"
    },
    {
     "name": "stdout",
     "output_type": "stream",
     "text": "\rdf_cache_sqlite:col_from_sql[search_recs: np_load_from_bytes(feat)]: ["
    },
    {
     "name": "stdout",
     "output_type": "stream",
     "text": "#########################"
    },
    {
     "name": "stdout",
     "output_type": "stream",
     "text": "] | 100% (35231) |  7.5s"
    },
    {
     "name": "stdout",
     "output_type": "stream",
     "text": "\n"
    },
    {
     "name": "stdout",
     "output_type": "stream",
     "text": "\rdf_cache_sqlite:col_from_sql[search_recs: loads(background)]: ["
    },
    {
     "name": "stdout",
     "output_type": "stream",
     "text": "                                "
    },
    {
     "name": "stdout",
     "output_type": "stream",
     "text": "] |   0% (35231) |  0.0s"
    },
    {
     "name": "stdout",
     "output_type": "stream",
     "text": "\rdf_cache_sqlite:col_from_sql[search_recs: loads(background)]: ["
    },
    {
     "name": "stdout",
     "output_type": "stream",
     "text": "#############                   "
    },
    {
     "name": "stdout",
     "output_type": "stream",
     "text": "] |  41% (35231) |  0.2s"
    },
    {
     "name": "stdout",
     "output_type": "stream",
     "text": "\rdf_cache_sqlite:col_from_sql[search_recs: loads(background)]: ["
    },
    {
     "name": "stdout",
     "output_type": "stream",
     "text": "################################"
    },
    {
     "name": "stdout",
     "output_type": "stream",
     "text": "] | 100% (35231) |  0.3s"
    },
    {
     "name": "stdout",
     "output_type": "stream",
     "text": "\n"
    },
    {
     "name": "stdout",
     "output_type": "stream",
     "text": "\rdf_cache_sqlite:col_from_sql[search_recs: loads(background_species)]: ["
    },
    {
     "name": "stdout",
     "output_type": "stream",
     "text": "                        "
    },
    {
     "name": "stdout",
     "output_type": "stream",
     "text": "] |   0% (35231) |  0.0s"
    },
    {
     "name": "stdout",
     "output_type": "stream",
     "text": "\rdf_cache_sqlite:col_from_sql[search_recs: loads(background_species)]: ["
    },
    {
     "name": "stdout",
     "output_type": "stream",
     "text": "##########              "
    },
    {
     "name": "stdout",
     "output_type": "stream",
     "text": "] |  42% (35231) |  0.2s"
    },
    {
     "name": "stdout",
     "output_type": "stream",
     "text": "\rdf_cache_sqlite:col_from_sql[search_recs: loads(background_species)]: ["
    },
    {
     "name": "stdout",
     "output_type": "stream",
     "text": "########################"
    },
    {
     "name": "stdout",
     "output_type": "stream",
     "text": "] | 100% (35231) |  0.3s"
    },
    {
     "name": "stdout",
     "output_type": "stream",
     "text": "\n"
    },
    {
     "name": "stdout",
     "output_type": "stream",
     "text": "\rdf_cache_sqlite:col_from_sql[search_recs: np_load_from_bytes(f_f)]: ["
    },
    {
     "name": "stdout",
     "output_type": "stream",
     "text": "                          "
    },
    {
     "name": "stdout",
     "output_type": "stream",
     "text": "] |   0% (35231) |  0.0s"
    },
    {
     "name": "stdout",
     "output_type": "stream",
     "text": "\rdf_cache_sqlite:col_from_sql[search_recs: np_load_from_bytes(f_f)]: ["
    },
    {
     "name": "stdout",
     "output_type": "stream",
     "text": "                          "
    },
    {
     "name": "stdout",
     "output_type": "stream",
     "text": "] |   0% (35231) |  0.2s"
    },
    {
     "name": "stdout",
     "output_type": "stream",
     "text": "\rdf_cache_sqlite:col_from_sql[search_recs: np_load_from_bytes(f_f)]: ["
    },
    {
     "name": "stdout",
     "output_type": "stream",
     "text": "                          "
    },
    {
     "name": "stdout",
     "output_type": "stream",
     "text": "] |   1% (35231) |  1.1s"
    },
    {
     "name": "stdout",
     "output_type": "stream",
     "text": "\rdf_cache_sqlite:col_from_sql[search_recs: np_load_from_bytes(f_f)]: ["
    },
    {
     "name": "stdout",
     "output_type": "stream",
     "text": "###                       "
    },
    {
     "name": "stdout",
     "output_type": "stream",
     "text": "] |  13% (35231) |  1.8s"
    },
    {
     "name": "stdout",
     "output_type": "stream",
     "text": "\rdf_cache_sqlite:col_from_sql[search_recs: np_load_from_bytes(f_f)]: ["
    },
    {
     "name": "stdout",
     "output_type": "stream",
     "text": "#####                     "
    },
    {
     "name": "stdout",
     "output_type": "stream",
     "text": "] |  22% (35231) |  3.0s"
    },
    {
     "name": "stdout",
     "output_type": "stream",
     "text": "\rdf_cache_sqlite:col_from_sql[search_recs: np_load_from_bytes(f_f)]: ["
    },
    {
     "name": "stdout",
     "output_type": "stream",
     "text": "########                  "
    },
    {
     "name": "stdout",
     "output_type": "stream",
     "text": "] |  33% (35231) |  3.3s"
    },
    {
     "name": "stdout",
     "output_type": "stream",
     "text": "\rdf_cache_sqlite:col_from_sql[search_recs: np_load_from_bytes(f_f)]: ["
    },
    {
     "name": "stdout",
     "output_type": "stream",
     "text": "#############             "
    },
    {
     "name": "stdout",
     "output_type": "stream",
     "text": "] |  52% (35231) |  4.6s"
    },
    {
     "name": "stdout",
     "output_type": "stream",
     "text": "\rdf_cache_sqlite:col_from_sql[search_recs: np_load_from_bytes(f_f)]: ["
    },
    {
     "name": "stdout",
     "output_type": "stream",
     "text": "###############           "
    },
    {
     "name": "stdout",
     "output_type": "stream",
     "text": "] |  58% (35231) |  5.4s"
    },
    {
     "name": "stdout",
     "output_type": "stream",
     "text": "\rdf_cache_sqlite:col_from_sql[search_recs: np_load_from_bytes(f_f)]: ["
    },
    {
     "name": "stdout",
     "output_type": "stream",
     "text": "##################        "
    },
    {
     "name": "stdout",
     "output_type": "stream",
     "text": "] |  72% (35231) |  6.0s"
    },
    {
     "name": "stdout",
     "output_type": "stream",
     "text": "\rdf_cache_sqlite:col_from_sql[search_recs: np_load_from_bytes(f_f)]: ["
    },
    {
     "name": "stdout",
     "output_type": "stream",
     "text": "####################      "
    },
    {
     "name": "stdout",
     "output_type": "stream",
     "text": "] |  80% (35231) |  7.2s"
    },
    {
     "name": "stdout",
     "output_type": "stream",
     "text": "\rdf_cache_sqlite:col_from_sql[search_recs: np_load_from_bytes(f_f)]: ["
    },
    {
     "name": "stdout",
     "output_type": "stream",
     "text": "##########################"
    },
    {
     "name": "stdout",
     "output_type": "stream",
     "text": "] | 100% (35231) |  7.4s"
    },
    {
     "name": "stdout",
     "output_type": "stream",
     "text": "\n"
    },
    {
     "name": "stdout",
     "output_type": "stream",
     "text": "\rdf_cache_sqlite:col_from_sql[search_recs: np_load_from_bytes(f_p)]: ["
    },
    {
     "name": "stdout",
     "output_type": "stream",
     "text": "                          "
    },
    {
     "name": "stdout",
     "output_type": "stream",
     "text": "] |   0% (35231) |  0.0s"
    },
    {
     "name": "stdout",
     "output_type": "stream",
     "text": "\rdf_cache_sqlite:col_from_sql[search_recs: np_load_from_bytes(f_p)]: ["
    },
    {
     "name": "stdout",
     "output_type": "stream",
     "text": "                          "
    },
    {
     "name": "stdout",
     "output_type": "stream",
     "text": "] |   0% (35231) |  0.4s"
    },
    {
     "name": "stdout",
     "output_type": "stream",
     "text": "\rdf_cache_sqlite:col_from_sql[search_recs: np_load_from_bytes(f_p)]: ["
    },
    {
     "name": "stdout",
     "output_type": "stream",
     "text": "                          "
    },
    {
     "name": "stdout",
     "output_type": "stream",
     "text": "] |   2% (35231) |  1.5s"
    },
    {
     "name": "stdout",
     "output_type": "stream",
     "text": "\rdf_cache_sqlite:col_from_sql[search_recs: np_load_from_bytes(f_p)]: ["
    },
    {
     "name": "stdout",
     "output_type": "stream",
     "text": "###                       "
    },
    {
     "name": "stdout",
     "output_type": "stream",
     "text": "] |  12% (35231) |  1.6s"
    },
    {
     "name": "stdout",
     "output_type": "stream",
     "text": "\rdf_cache_sqlite:col_from_sql[search_recs: np_load_from_bytes(f_p)]: ["
    },
    {
     "name": "stdout",
     "output_type": "stream",
     "text": "####                      "
    },
    {
     "name": "stdout",
     "output_type": "stream",
     "text": "] |  18% (35231) |  2.4s"
    },
    {
     "name": "stdout",
     "output_type": "stream",
     "text": "\rdf_cache_sqlite:col_from_sql[search_recs: np_load_from_bytes(f_p)]: ["
    },
    {
     "name": "stdout",
     "output_type": "stream",
     "text": "########                  "
    },
    {
     "name": "stdout",
     "output_type": "stream",
     "text": "] |  32% (35231) |  3.1s"
    },
    {
     "name": "stdout",
     "output_type": "stream",
     "text": "\rdf_cache_sqlite:col_from_sql[search_recs: np_load_from_bytes(f_p)]: ["
    },
    {
     "name": "stdout",
     "output_type": "stream",
     "text": "#########                 "
    },
    {
     "name": "stdout",
     "output_type": "stream",
     "text": "] |  37% (35231) |  3.6s"
    },
    {
     "name": "stdout",
     "output_type": "stream",
     "text": "\rdf_cache_sqlite:col_from_sql[search_recs: np_load_from_bytes(f_p)]: ["
    },
    {
     "name": "stdout",
     "output_type": "stream",
     "text": "#############             "
    },
    {
     "name": "stdout",
     "output_type": "stream",
     "text": "] |  53% (35231) |  4.5s"
    },
    {
     "name": "stdout",
     "output_type": "stream",
     "text": "\rdf_cache_sqlite:col_from_sql[search_recs: np_load_from_bytes(f_p)]: ["
    },
    {
     "name": "stdout",
     "output_type": "stream",
     "text": "################          "
    },
    {
     "name": "stdout",
     "output_type": "stream",
     "text": "] |  63% (35231) |  5.7s"
    },
    {
     "name": "stdout",
     "output_type": "stream",
     "text": "\rdf_cache_sqlite:col_from_sql[search_recs: np_load_from_bytes(f_p)]: ["
    },
    {
     "name": "stdout",
     "output_type": "stream",
     "text": "###################       "
    },
    {
     "name": "stdout",
     "output_type": "stream",
     "text": "] |  73% (35231) |  6.1s"
    },
    {
     "name": "stdout",
     "output_type": "stream",
     "text": "\rdf_cache_sqlite:col_from_sql[search_recs: np_load_from_bytes(f_p)]: ["
    },
    {
     "name": "stdout",
     "output_type": "stream",
     "text": "####################      "
    },
    {
     "name": "stdout",
     "output_type": "stream",
     "text": "] |  80% (35231) |  6.8s"
    },
    {
     "name": "stdout",
     "output_type": "stream",
     "text": "\rdf_cache_sqlite:col_from_sql[search_recs: np_load_from_bytes(f_p)]: ["
    },
    {
     "name": "stdout",
     "output_type": "stream",
     "text": "##########################"
    },
    {
     "name": "stdout",
     "output_type": "stream",
     "text": "] | 100% (35231) |  7.3s"
    },
    {
     "name": "stdout",
     "output_type": "stream",
     "text": "\n"
    },
    {
     "name": "stdout",
     "output_type": "stream",
     "text": "\rdtypes: ["
    },
    {
     "name": "stdout",
     "output_type": "stream",
     "text": "                                                                                          "
    },
    {
     "name": "stdout",
     "output_type": "stream",
     "text": "] |   0% (1) |  0.0s"
    },
    {
     "name": "stdout",
     "output_type": "stream",
     "text": "\rdtypes: ["
    },
    {
     "name": "stdout",
     "output_type": "stream",
     "text": "##########################################################################################"
    },
    {
     "name": "stdout",
     "output_type": "stream",
     "text": "] | 100% (1) |  0.1s"
    },
    {
     "name": "stdout",
     "output_type": "stream",
     "text": "\n"
    },
    {
     "data": {
      "text/html": "<table border=\"1\" class=\"dataframe\">\n  <thead>\n    <tr style=\"text-align: right;\">\n      <th></th>\n      <th>size</th>\n      <th>type</th>\n      <th>0</th>\n    </tr>\n  </thead>\n  <tbody>\n    <tr>\n      <th>xc_id</th>\n      <td>36</td>\n      <td><div class=\"not-number\">int</div></td>\n      <td>115925</td>\n    </tr>\n    <tr>\n      <th>feat</th>\n      <td>6104</td>\n      <td><div class=\"not-number\">ndarray</div></td>\n      <td><div class=\"not-number\">[ 4.455e-02 -7.034e-02  2.956e-01 -4.216e-02 -3.264e-02 -6.938e-02  9.214e-02  3.209e-03  2.126e-01 -8.443e-02\n -1.446e-01 -9.171e-02 -1.280e-01  1.579e-02 -7.380e-02 -7.01...</td>\n    </tr>\n    <tr>\n      <th>f_f</th>\n      <td>6104</td>\n      <td><div class=\"not-number\">ndarray</div></td>\n      <td><div class=\"not-number\">[ 4.455e-02 -7.034e-02  2.956e-01 -4.216e-02 -3.264e-02 -6.938e-02  9.214e-02  3.209e-03  2.126e-01 -8.443e-02\n -1.446e-01 -9.171e-02 -1.280e-01  1.579e-02 -7.380e-02 -7.01...</td>\n    </tr>\n    <tr>\n      <th>f_p</th>\n      <td>1428</td>\n      <td><div class=\"not-number\">ndarray</div></td>\n      <td><div class=\"not-number\">[2.792e-04 2.333e-03 6.595e-06 7.704e-04 4.692e-04 5.952e-03 1.236e-02 4.282e-03 2.968e-05 2.268e-03 1.762e-04\n 2.358e-04 3.394e-03 2.391e-03 3.478e-03 2.690e-03 3.178e-04 ...</td>\n    </tr>\n    <tr>\n      <th>background</th>\n      <td>80</td>\n      <td><div class=\"not-number\">list</div></td>\n      <td><div class=\"not-number\">['Canada Goose (Branta canadensis)']</div></td>\n    </tr>\n    <tr>\n      <th>background_species</th>\n      <td>80</td>\n      <td><div class=\"not-number\">list</div></td>\n      <td><div class=\"not-number\">['CANG']</div></td>\n    </tr>\n  </tbody>\n</table>",
      "text/plain": "                    size     type                                                                                                                                                                                                        0\nxc_id                 36      int                                                                                                                                                                                                   115925\nfeat                6104  ndarray  [0.04454654, -0.07033722, 0.2956199, -0.042161327, -0.03264176, -0.06938117, 0.092139535, 0.003208846, 0.21259835, -0.08442836, -0.14455757, -0.09170576, -0.12796351, 0.01579389, -0.073798686, -0....\nf_f                 6104  ndarray  [0.04454654, -0.07033722, 0.2956199, -0.042161327, -0.03264176, -0.06938117, 0.092139535, 0.003208846, 0.21259835, -0.08442836, -0.14455757, -0.09170576, -0.12796351, 0.01579389, -0.073798686, -0....\nf_p                 1428  ndarray  [0.00027917765, 0.0023327717, 6.595441e-06, 0.00077041186, 0.0004691546, 0.005951726, 0.012363782, 0.004282009, 2.968217e-05, 0.002267783, 0.0001762052, 0.00023575086, 0.0033936517, 0.0023914035, ...\nbackground            80     list                                                                                                                                                                       [Canada Goose (Branta canadensis)]\nbackground_species    80     list                                                                                                                                                                                                   [CANG]"
     },
     "metadata": {},
     "output_type": "display_data",
     "transient": {}
    }
   ],
   "source": [
    "from notebooks import *\n",
    "sg.init(None, skip=[sg_load.load_search_recs])\n",
    "get_search_recs.cache_clear()\n",
    "kwargss = [\n",
    "    dict(refresh=True),  # Cache miss\n",
    "    dict(),  # Cache hit\n",
    "]\n",
    "search_recss = []\n",
    "for kwargs in kwargss:\n",
    "    print()\n",
    "    print(f'search_recs(**{kwargs})')\n",
    "    search_recs = get_search_recs(**kwargs, cache_type='sqlite')\n",
    "    search_recss.append(search_recs)\n",
    "    display(search_recs\n",
    "        [['xc_id', 'feat', 'f_f', 'f_p', 'background', 'background_species']]\n",
    "        [2:3].reset_index(drop=True).T\n",
    "        .pipe(df_assign_first,\n",
    "            size=lambda df: df.T.memory_usage(deep=True),\n",
    "            type=lambda df: df[0].map(lambda x: type(x).__name__),\n",
    "        )\n",
    "    )"
   ]
  },
  {
   "cell_type": "code",
   "execution_count": null,
   "metadata": {
    "time": "7.705s"
   },
   "outputs": [],
   "source": [
    "# TODO Write tests\n",
    "#   - Should roundtrip, should preserve category dtypes, should fail if index present\n",
    "[a, b] = search_recss\n",
    "pd.testing.assert_frame_equal(a, b, check_index_type=True, check_column_type=True)"
   ]
  },
  {
   "cell_type": "code",
   "execution_count": null,
   "metadata": {},
   "outputs": [],
   "source": []
  }
 ],
 "metadata": {
  "kernelspec": {
   "display_name": "bubo-features (PYTHONSTARTUP)",
   "language": "python",
   "name": "bubo-features (PYTHONSTARTUP)"
  }
 },
 "nbformat": 4,
 "nbformat_minor": 2
}
