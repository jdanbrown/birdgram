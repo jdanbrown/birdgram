{
 "cells": [
  {
   "cell_type": "markdown",
   "metadata": {},
   "source": [
    "# Problem (from notebooks/api_search_recs_pkl_parquet_sqlite)\n",
    "- search_recs write/read with either .sqlite/.parquet is fast\n",
    "- But I forgot to account for the _~20s_ it takes to convert back _to_ search_recs from the serialized df"
   ]
  },
  {
   "cell_type": "markdown",
   "metadata": {},
   "source": [
    "# Solution: save/load separate files\n",
    "- feats.npy for heavy np.array cols + non_feats.parquet for normal df cols\n",
    "- A little more complexity to manage, but an ok tradeoff\n",
    "- Conclusion: ~1s read, ~3s write"
   ]
  },
  {
   "cell_type": "code",
   "execution_count": null,
   "metadata": {
    "time": "2.494s"
   },
   "outputs": [
    {
     "name": "stdout",
     "output_type": "stream",
     "text": "INFO     [23:36:33.284] [57449]  52 logging_/init_logging: {logging_yaml: None}"
    },
    {
     "name": "stdout",
     "output_type": "stream",
     "text": "\n"
    },
    {
     "name": "stdout",
     "output_type": "stream",
     "text": "INFO     [23:36:33.595] [57449]  32 api.server_globals/init"
    },
    {
     "name": "stdout",
     "output_type": "stream",
     "text": "\n"
    },
    {
     "name": "stdout",
     "output_type": "stream",
     "text": "DEBUG    [23:36:33.602] [57449]  75 api.server_globals/load: load_search..."
    },
    {
     "name": "stdout",
     "output_type": "stream",
     "text": "\n"
    },
    {
     "name": "stdout",
     "output_type": "stream",
     "text": "INFO     [23:36:33.924] [57449]  79 api.server_globals/load: load_search (took 0.316s)"
    },
    {
     "name": "stdout",
     "output_type": "stream",
     "text": "\n"
    },
    {
     "name": "stdout",
     "output_type": "stream",
     "text": "DEBUG    [23:36:33.930] [57449]  75 api.server_globals/load: load_xc_meta..."
    },
    {
     "name": "stdout",
     "output_type": "stream",
     "text": "\n"
    },
    {
     "name": "stdout",
     "output_type": "stream",
     "text": "INFO     [23:36:34.383] [57449]  79 api.server_globals/load: load_xc_meta (took 0.446s)"
    },
    {
     "name": "stdout",
     "output_type": "stream",
     "text": "\n"
    },
    {
     "name": "stdout",
     "output_type": "stream",
     "text": "DEBUG    [23:36:34.390] [57449]  75 api.server_globals/load: load_d_feats..."
    },
    {
     "name": "stdout",
     "output_type": "stream",
     "text": "\n"
    },
    {
     "name": "stdout",
     "output_type": "stream",
     "text": "INFO     [23:36:34.396] [57449] 110 api.server_globals/load_d_feats"
    },
    {
     "name": "stdout",
     "output_type": "stream",
     "text": "\n"
    },
    {
     "name": "stdout",
     "output_type": "stream",
     "text": "INFO     [23:36:34.401] [57449]  79 api.server_globals/load: load_d_feats (took 0.005s)"
    },
    {
     "name": "stdout",
     "output_type": "stream",
     "text": "\n"
    },
    {
     "name": "stdout",
     "output_type": "stream",
     "text": "WARNING  [23:36:34.406] [57449]  73 api.server_globals/load: load_search_recs [skipped]"
    },
    {
     "name": "stdout",
     "output_type": "stream",
     "text": "\n"
    },
    {
     "name": "stdout",
     "output_type": "stream",
     "text": "INFO     [23:36:34.412] [57449]  34 api.server_globals/init: done"
    },
    {
     "name": "stdout",
     "output_type": "stream",
     "text": "\n"
    }
   ],
   "source": [
    "from notebooks import *\n",
    "sg.init(None, skip=[sg_load.load_search_recs])\n",
    "get_search_recs.cache_clear()"
   ]
  },
  {
   "cell_type": "code",
   "execution_count": null,
   "metadata": {
    "time": "13.759s"
   },
   "outputs": [
    {
     "name": "stdout",
     "output_type": "stream",
     "text": "\n"
    },
    {
     "name": "stdout",
     "output_type": "stream",
     "text": "search_recs(**{'cache_type': 'hybrid', 'refresh': True})"
    },
    {
     "name": "stdout",
     "output_type": "stream",
     "text": "\n"
    },
    {
     "name": "stdout",
     "output_type": "stream",
     "text": "INFO     [23:37:34.371] [57449] 295 api.recs/get_search_recs"
    },
    {
     "name": "stdout",
     "output_type": "stream",
     "text": "\n"
    },
    {
     "name": "stdout",
     "output_type": "stream",
     "text": "INFO     [23:37:34.385] [57449] 555 util/df_cache_hybrid: Cache miss: payloads/search_recs-version[0],audio_s[10],countries_k[na],com_names_k[ca],num_recs[None]-b89a9fc"
    },
    {
     "name": "stdout",
     "output_type": "stream",
     "text": "\n"
    },
    {
     "name": "stderr",
     "output_type": "stream",
     "text": "\rdf_cache_hybrid:compute[search_recs]:   0%|                                                      | 0/1 [00:00<?, ?it/s]"
    },
    {
     "name": "stdout",
     "output_type": "stream",
     "text": "INFO     [23:37:34.394] [57449] 348 api.recs/_compute_search_recs: {len(sg.xc_meta): 35233, countries_k: na, com_names_k: ca, num_recs: null}"
    },
    {
     "name": "stdout",
     "output_type": "stream",
     "text": "\n"
    },
    {
     "name": "stdout",
     "output_type": "stream",
     "text": "\rf_f: ["
    },
    {
     "name": "stdout",
     "output_type": "stream",
     "text": "                                                                                         "
    },
    {
     "name": "stdout",
     "output_type": "stream",
     "text": "] |   0% (35231) |  0.0s"
    },
    {
     "name": "stdout",
     "output_type": "stream",
     "text": "\rf_f: ["
    },
    {
     "name": "stdout",
     "output_type": "stream",
     "text": "                                                                                         "
    },
    {
     "name": "stdout",
     "output_type": "stream",
     "text": "] |   0% (35231) |  0.1s"
    },
    {
     "name": "stdout",
     "output_type": "stream",
     "text": "\rf_f: ["
    },
    {
     "name": "stdout",
     "output_type": "stream",
     "text": "#########################################################################################"
    },
    {
     "name": "stdout",
     "output_type": "stream",
     "text": "] | 100% (35231) |  0.2s"
    },
    {
     "name": "stdout",
     "output_type": "stream",
     "text": "\n"
    },
    {
     "name": "stdout",
     "output_type": "stream",
     "text": "\rf_p: ["
    },
    {
     "name": "stdout",
     "output_type": "stream",
     "text": "                                                                                         "
    },
    {
     "name": "stdout",
     "output_type": "stream",
     "text": "] |   0% (35231) |  0.0s"
    },
    {
     "name": "stdout",
     "output_type": "stream",
     "text": "\rf_p: ["
    },
    {
     "name": "stdout",
     "output_type": "stream",
     "text": "                                                                                         "
    },
    {
     "name": "stdout",
     "output_type": "stream",
     "text": "] |   0% (35231) |  0.1s"
    },
    {
     "name": "stdout",
     "output_type": "stream",
     "text": "\rf_p: ["
    },
    {
     "name": "stdout",
     "output_type": "stream",
     "text": "                                                                                         "
    },
    {
     "name": "stdout",
     "output_type": "stream",
     "text": "] |   0% (35231) |  0.2s"
    },
    {
     "name": "stdout",
     "output_type": "stream",
     "text": "\rf_p: ["
    },
    {
     "name": "stdout",
     "output_type": "stream",
     "text": "                                                                                         "
    },
    {
     "name": "stdout",
     "output_type": "stream",
     "text": "] |   0% (35231) |  0.4s"
    },
    {
     "name": "stdout",
     "output_type": "stream",
     "text": "\rf_p: ["
    },
    {
     "name": "stdout",
     "output_type": "stream",
     "text": "                                                                                         "
    },
    {
     "name": "stdout",
     "output_type": "stream",
     "text": "] |   0% (35231) |  0.5s"
    },
    {
     "name": "stdout",
     "output_type": "stream",
     "text": "\rf_p: ["
    },
    {
     "name": "stdout",
     "output_type": "stream",
     "text": "#########################################################################################"
    },
    {
     "name": "stdout",
     "output_type": "stream",
     "text": "] | 100% (35231) |  0.6s"
    },
    {
     "name": "stdout",
     "output_type": "stream",
     "text": "\n"
    },
    {
     "name": "stderr",
     "output_type": "stream",
     "text": "\rdf_cache_hybrid:compute[search_recs]: 100%|██████████████████████████████████████████████| 1/1 [00:09<00:00,  9.77s/it]"
    },
    {
     "name": "stderr",
     "output_type": "stream",
     "text": "\n"
    },
    {
     "name": "stdout",
     "output_type": "stream",
     "text": "INFO     [23:37:44.178] [57449] 571 util/df_cache_hybrid: Inferred feat_cols['feat', 'f_f', 'f_p']"
    },
    {
     "name": "stdout",
     "output_type": "stream",
     "text": "\n"
    },
    {
     "name": "stdout",
     "output_type": "stream",
     "text": "INFO     [23:37:44.187] [57449] 574 util/df_cache_hybrid: Write[non_feats.parquet]"
    },
    {
     "name": "stdout",
     "output_type": "stream",
     "text": "\n"
    },
    {
     "name": "stdout",
     "output_type": "stream",
     "text": "INFO     [23:37:44.922] [57449] 582 util/df_cache_hybrid: Write[feat-feat.npy]"
    },
    {
     "name": "stdout",
     "output_type": "stream",
     "text": "\n"
    },
    {
     "name": "stdout",
     "output_type": "stream",
     "text": "INFO     [23:37:45.888] [57449] 582 util/df_cache_hybrid: Write[feat-f_f.npy]"
    },
    {
     "name": "stdout",
     "output_type": "stream",
     "text": "\n"
    },
    {
     "name": "stdout",
     "output_type": "stream",
     "text": "INFO     [23:37:46.413] [57449] 582 util/df_cache_hybrid: Write[feat-f_p.npy]"
    },
    {
     "name": "stdout",
     "output_type": "stream",
     "text": "\n"
    },
    {
     "name": "stdout",
     "output_type": "stream",
     "text": "INFO     [23:37:46.671] [57449] 601 util/df_cache_hybrid: Write done (took: 12.279s)"
    },
    {
     "name": "stdout",
     "output_type": "stream",
     "text": "\n"
    },
    {
     "data": {
      "text/html": "<table border=\"1\" class=\"dataframe\">\n  <thead>\n    <tr style=\"text-align: right;\">\n      <th></th>\n      <th>size</th>\n      <th>type</th>\n      <th>0</th>\n    </tr>\n  </thead>\n  <tbody>\n    <tr>\n      <th>xc_id</th>\n      <td>36</td>\n      <td><div class=\"not-number\">int</div></td>\n      <td>115925</td>\n    </tr>\n    <tr>\n      <th>feat</th>\n      <td>12104</td>\n      <td><div class=\"not-number\">ndarray</div></td>\n      <td><div class=\"not-number\">[ 4.455e-02 -7.034e-02  2.956e-01 -4.216e-02 -3.264e-02 -6.938e-02  9.214e-02  3.209e-03  2.126e-01 -8.443e-02\n -1.446e-01 -9.171e-02 -1.280e-01  1.579e-02 -7.380e-02 -7.01...</td>\n    </tr>\n    <tr>\n      <th>f_f</th>\n      <td>104</td>\n      <td><div class=\"not-number\">ndarray</div></td>\n      <td><div class=\"not-number\">[ 4.455e-02 -7.034e-02  2.956e-01 -4.216e-02 -3.264e-02 -6.938e-02  9.214e-02  3.209e-03  2.126e-01 -8.443e-02\n -1.446e-01 -9.171e-02 -1.280e-01  1.579e-02 -7.380e-02 -7.01...</td>\n    </tr>\n    <tr>\n      <th>f_p</th>\n      <td>104</td>\n      <td><div class=\"not-number\">ndarray</div></td>\n      <td><div class=\"not-number\">[2.792e-04 2.333e-03 6.595e-06 7.704e-04 4.692e-04 5.952e-03 1.236e-02 4.282e-03 2.968e-05 2.268e-03 1.762e-04\n 2.358e-04 3.394e-03 2.391e-03 3.478e-03 2.690e-03 3.178e-04 ...</td>\n    </tr>\n    <tr>\n      <th>background</th>\n      <td>80</td>\n      <td><div class=\"not-number\">list</div></td>\n      <td><div class=\"not-number\">['Canada Goose (Branta canadensis)']</div></td>\n    </tr>\n    <tr>\n      <th>background_species</th>\n      <td>80</td>\n      <td><div class=\"not-number\">list</div></td>\n      <td><div class=\"not-number\">['CANG']</div></td>\n    </tr>\n  </tbody>\n</table>",
      "text/plain": "                     size     type                                                                                                                                                                                                        0\nxc_id                  36      int                                                                                                                                                                                                   115925\nfeat                12104  ndarray  [0.0445465391054562, -0.070337220430351, 0.2956198979581621, -0.04216132643096407, -0.0326417624034929, -0.0693811696118805, 0.09213953608728861, 0.003208846164307459, 0.2125983600791801, -0.08442...\nf_f                   104  ndarray  [0.04454654, -0.07033722, 0.2956199, -0.042161327, -0.03264176, -0.06938117, 0.092139535, 0.003208846, 0.21259835, -0.08442836, -0.14455757, -0.09170576, -0.12796351, 0.01579389, -0.073798686, -0....\nf_p                   104  ndarray  [0.00027917764516237906, 0.002332771596800308, 6.595440868846554e-06, 0.0007704118680151895, 0.0004691546044220528, 0.005951725793655285, 0.01236378209873468, 0.004282008714874737, 2.9682171310616...\nbackground             80     list                                                                                                                                                                       [Canada Goose (Branta canadensis)]\nbackground_species     80     list                                                                                                                                                                                                   [CANG]"
     },
     "metadata": {},
     "output_type": "display_data",
     "transient": {}
    },
    {
     "name": "stdout",
     "output_type": "stream",
     "text": "\n"
    },
    {
     "name": "stdout",
     "output_type": "stream",
     "text": "search_recs(**{'cache_type': 'hybrid'})"
    },
    {
     "name": "stdout",
     "output_type": "stream",
     "text": "\n"
    },
    {
     "name": "stdout",
     "output_type": "stream",
     "text": "INFO     [23:37:46.724] [57449] 295 api.recs/get_search_recs"
    },
    {
     "name": "stdout",
     "output_type": "stream",
     "text": "\n"
    },
    {
     "name": "stdout",
     "output_type": "stream",
     "text": "INFO     [23:37:46.737] [57449] 606 util/df_cache_hybrid: Cache hit: payloads/search_recs-version[0],audio_s[10],countries_k[na],com_names_k[ca],num_recs[None]-b89a9fc"
    },
    {
     "name": "stdout",
     "output_type": "stream",
     "text": "\n"
    },
    {
     "name": "stdout",
     "output_type": "stream",
     "text": "INFO     [23:37:46.745] [57449] 617 util/df_cache_hybrid: Read[non_feats.parquet] (42.0 MB)"
    },
    {
     "name": "stdout",
     "output_type": "stream",
     "text": "\n"
    },
    {
     "name": "stdout",
     "output_type": "stream",
     "text": "INFO     [23:37:47.135] [57449] 626 util/df_cache_hybrid: Read[feat-feat.npy] (422.8 MB)"
    },
    {
     "name": "stdout",
     "output_type": "stream",
     "text": "\n"
    },
    {
     "name": "stdout",
     "output_type": "stream",
     "text": "INFO     [23:37:47.374] [57449] 626 util/df_cache_hybrid: Read[feat-f_f.npy] (211.4 MB)"
    },
    {
     "name": "stdout",
     "output_type": "stream",
     "text": "\n"
    },
    {
     "name": "stdout",
     "output_type": "stream",
     "text": "INFO     [23:37:47.511] [57449] 626 util/df_cache_hybrid: Read[feat-f_p.npy] (93.3 MB)"
    },
    {
     "name": "stdout",
     "output_type": "stream",
     "text": "\n"
    },
    {
     "name": "stdout",
     "output_type": "stream",
     "text": "INFO     [23:37:47.578] [57449] 630 util/df_cache_hybrid: Read: join non_feats + feats"
    },
    {
     "name": "stdout",
     "output_type": "stream",
     "text": "\n"
    },
    {
     "name": "stdout",
     "output_type": "stream",
     "text": "INFO     [23:37:47.750] [57449] 644 util/df_cache_hybrid: Read done (took: 1.006s)"
    },
    {
     "name": "stdout",
     "output_type": "stream",
     "text": "\n"
    },
    {
     "data": {
      "text/html": "<table border=\"1\" class=\"dataframe\">\n  <thead>\n    <tr style=\"text-align: right;\">\n      <th></th>\n      <th>size</th>\n      <th>type</th>\n      <th>0</th>\n    </tr>\n  </thead>\n  <tbody>\n    <tr>\n      <th>xc_id</th>\n      <td>36</td>\n      <td><div class=\"not-number\">int</div></td>\n      <td>115925</td>\n    </tr>\n    <tr>\n      <th>feat</th>\n      <td>104</td>\n      <td><div class=\"not-number\">ndarray</div></td>\n      <td><div class=\"not-number\">[ 4.455e-02 -7.034e-02  2.956e-01 -4.216e-02 -3.264e-02 -6.938e-02  9.214e-02  3.209e-03  2.126e-01 -8.443e-02\n -1.446e-01 -9.171e-02 -1.280e-01  1.579e-02 -7.380e-02 -7.01...</td>\n    </tr>\n    <tr>\n      <th>f_f</th>\n      <td>104</td>\n      <td><div class=\"not-number\">ndarray</div></td>\n      <td><div class=\"not-number\">[ 4.455e-02 -7.034e-02  2.956e-01 -4.216e-02 -3.264e-02 -6.938e-02  9.214e-02  3.209e-03  2.126e-01 -8.443e-02\n -1.446e-01 -9.171e-02 -1.280e-01  1.579e-02 -7.380e-02 -7.01...</td>\n    </tr>\n    <tr>\n      <th>f_p</th>\n      <td>104</td>\n      <td><div class=\"not-number\">ndarray</div></td>\n      <td><div class=\"not-number\">[2.792e-04 2.333e-03 6.595e-06 7.704e-04 4.692e-04 5.952e-03 1.236e-02 4.282e-03 2.968e-05 2.268e-03 1.762e-04\n 2.358e-04 3.394e-03 2.391e-03 3.478e-03 2.690e-03 3.178e-04 ...</td>\n    </tr>\n    <tr>\n      <th>background</th>\n      <td>80</td>\n      <td><div class=\"not-number\">list</div></td>\n      <td><div class=\"not-number\">['Canada Goose (Branta canadensis)']</div></td>\n    </tr>\n    <tr>\n      <th>background_species</th>\n      <td>80</td>\n      <td><div class=\"not-number\">list</div></td>\n      <td><div class=\"not-number\">['CANG']</div></td>\n    </tr>\n  </tbody>\n</table>",
      "text/plain": "                    size     type                                                                                                                                                                                                        0\nxc_id                 36      int                                                                                                                                                                                                   115925\nfeat                 104  ndarray  [0.0445465391054562, -0.070337220430351, 0.2956198979581621, -0.04216132643096407, -0.0326417624034929, -0.0693811696118805, 0.09213953608728861, 0.003208846164307459, 0.2125983600791801, -0.08442...\nf_f                  104  ndarray  [0.04454654, -0.07033722, 0.2956199, -0.042161327, -0.03264176, -0.06938117, 0.092139535, 0.003208846, 0.21259835, -0.08442836, -0.14455757, -0.09170576, -0.12796351, 0.01579389, -0.073798686, -0....\nf_p                  104  ndarray  [0.00027917764516237906, 0.002332771596800308, 6.595440868846554e-06, 0.0007704118680151895, 0.0004691546044220528, 0.005951725793655285, 0.01236378209873468, 0.004282008714874737, 2.9682171310616...\nbackground            80     list                                                                                                                                                                       [Canada Goose (Branta canadensis)]\nbackground_species    80     list                                                                                                                                                                                                   [CANG]"
     },
     "metadata": {},
     "output_type": "display_data",
     "transient": {}
    }
   ],
   "source": [
    "kwargss = [\n",
    "    dict(cache_type='hybrid', refresh=True),  # Simulate cache miss\n",
    "    dict(cache_type='hybrid'),                # Simulate cache hit\n",
    "]\n",
    "search_recss = []\n",
    "for kwargs in kwargss:\n",
    "    print()\n",
    "    print(f'search_recs(**{kwargs})')\n",
    "    get_search_recs.cache_clear()\n",
    "    search_recs = get_search_recs(**kwargs)\n",
    "    search_recss.append(search_recs)\n",
    "    display(search_recs\n",
    "        [['xc_id', 'feat', 'f_f', 'f_p', 'background', 'background_species']]\n",
    "        [2:3].reset_index(drop=True).T\n",
    "        .pipe(df_assign_first,\n",
    "            size=lambda df: df.T.memory_usage(deep=True),\n",
    "            type=lambda df: df[0].map(lambda x: type(x).__name__),\n",
    "        )\n",
    "    )"
   ]
  },
  {
   "cell_type": "code",
   "execution_count": null,
   "metadata": {
    "time": "7.232s"
   },
   "outputs": [],
   "source": [
    "# TODO Turn this into unit tests\n",
    "#   - Should roundtrip, should preserve category dtypes, should fail if index present\n",
    "[a, b] = search_recss\n",
    "pd.testing.assert_frame_equal(a, b, check_index_type=True, check_column_type=True)"
   ]
  },
  {
   "cell_type": "code",
   "execution_count": null,
   "metadata": {},
   "outputs": [],
   "source": []
  }
 ],
 "metadata": {
  "kernelspec": {
   "display_name": "bubo-features (PYTHONSTARTUP)",
   "language": "python",
   "name": "bubo-features (PYTHONSTARTUP)"
  }
 },
 "nbformat": 4,
 "nbformat_minor": 2
}
