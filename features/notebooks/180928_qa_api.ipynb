{
 "cells": [
  {
   "cell_type": "code",
   "execution_count": null,
   "metadata": {
    "time": "4.148s"
   },
   "outputs": [
    {
     "name": "stdout",
     "output_type": "stream",
     "text": "INFO     [12:43:06.460] [18295] 150 logging_/<module>: {logging_yaml: None}"
    },
    {
     "name": "stdout",
     "output_type": "stream",
     "text": "\n"
    },
    {
     "name": "stdout",
     "output_type": "stream",
     "text": "INFO     [12:43:06.758] [18295]  32 api.server_globals/init"
    },
    {
     "name": "stdout",
     "output_type": "stream",
     "text": "\n"
    },
    {
     "name": "stdout",
     "output_type": "stream",
     "text": "DEBUG    [12:43:06.764] [18295]  75 api.server_globals/load: load_search..."
    },
    {
     "name": "stdout",
     "output_type": "stream",
     "text": "\n"
    },
    {
     "name": "stdout",
     "output_type": "stream",
     "text": "INFO     [12:43:07.128] [18295]  79 api.server_globals/load: load_search (took 0.358s)"
    },
    {
     "name": "stdout",
     "output_type": "stream",
     "text": "\n"
    },
    {
     "name": "stdout",
     "output_type": "stream",
     "text": "DEBUG    [12:43:07.136] [18295]  75 api.server_globals/load: load_xc_meta..."
    },
    {
     "name": "stdout",
     "output_type": "stream",
     "text": "\n"
    },
    {
     "name": "stdout",
     "output_type": "stream",
     "text": "INFO     [12:43:07.553] [18295]  79 api.server_globals/load: load_xc_meta (took 0.411s)"
    },
    {
     "name": "stdout",
     "output_type": "stream",
     "text": "\n"
    },
    {
     "name": "stdout",
     "output_type": "stream",
     "text": "DEBUG    [12:43:07.560] [18295]  75 api.server_globals/load: load_feat_info..."
    },
    {
     "name": "stdout",
     "output_type": "stream",
     "text": "\n"
    },
    {
     "name": "stdout",
     "output_type": "stream",
     "text": "INFO     [12:43:07.566] [18295] 110 api.server_globals/load_feat_info"
    },
    {
     "name": "stdout",
     "output_type": "stream",
     "text": "\n"
    },
    {
     "name": "stdout",
     "output_type": "stream",
     "text": "INFO     [12:43:07.572] [18295]  79 api.server_globals/load: load_feat_info (took 0.006s)"
    },
    {
     "name": "stdout",
     "output_type": "stream",
     "text": "\n"
    },
    {
     "name": "stdout",
     "output_type": "stream",
     "text": "DEBUG    [12:43:07.578] [18295]  75 api.server_globals/load: load_search_recs..."
    },
    {
     "name": "stdout",
     "output_type": "stream",
     "text": "\n"
    },
    {
     "name": "stdout",
     "output_type": "stream",
     "text": "INFO     [12:43:07.584] [18295] 118 api.server_globals/load_search_recs"
    },
    {
     "name": "stdout",
     "output_type": "stream",
     "text": "\n"
    },
    {
     "name": "stdout",
     "output_type": "stream",
     "text": "INFO     [12:43:07.590] [18295] 345 api.recs/get_search_recs"
    },
    {
     "name": "stdout",
     "output_type": "stream",
     "text": "\n"
    },
    {
     "name": "stdout",
     "output_type": "stream",
     "text": "INFO     [12:43:07.601] [18295] 118 payloads/df_cache_hybrid: Hit: payloads/search_recs-version[1],limit[1000],audio_s[10],scale[1],countries_k[na],com_names_k[ca],num_recs[None]-bd77e24"
    },
    {
     "name": "stdout",
     "output_type": "stream",
     "text": "\n"
    },
    {
     "name": "stdout",
     "output_type": "stream",
     "text": "DEBUG    [12:43:07.608] [18295] 119 payloads/df_cache_hybrid: Hit [start]"
    },
    {
     "name": "stdout",
     "output_type": "stream",
     "text": "\n"
    },
    {
     "name": "stdout",
     "output_type": "stream",
     "text": "DEBUG    [12:43:07.615] [18295] 129 payloads/df_cache_hybrid: Hit: Reading non_feats.parquet (89.3 MB)"
    },
    {
     "name": "stdout",
     "output_type": "stream",
     "text": "\n"
    },
    {
     "name": "stdout",
     "output_type": "stream",
     "text": "INFO     [12:43:09.261] [18295] 136 payloads/df_cache_hybrid: Hit: Read non_feats.parquet (89.3 MB)"
    },
    {
     "name": "stdout",
     "output_type": "stream",
     "text": "\n"
    },
    {
     "name": "stdout",
     "output_type": "stream",
     "text": "DEBUG    [12:43:09.270] [18295] 141 payloads/df_cache_hybrid: Hit: Reading feat-feat.npy (6.0 MB)"
    },
    {
     "name": "stdout",
     "output_type": "stream",
     "text": "\n"
    },
    {
     "name": "stdout",
     "output_type": "stream",
     "text": "INFO     [12:43:09.278] [18295] 143 payloads/df_cache_hybrid: Hit: Read feat-feat.npy: float32 (6.0 MB)"
    },
    {
     "name": "stdout",
     "output_type": "stream",
     "text": "\n"
    },
    {
     "name": "stdout",
     "output_type": "stream",
     "text": "DEBUG    [12:43:09.283] [18295] 141 payloads/df_cache_hybrid: Hit: Reading feat-f_preds.npy (1.3 MB)"
    },
    {
     "name": "stdout",
     "output_type": "stream",
     "text": "\n"
    },
    {
     "name": "stdout",
     "output_type": "stream",
     "text": "INFO     [12:43:09.290] [18295] 143 payloads/df_cache_hybrid: Hit: Read feat-f_preds.npy: float32 (1.3 MB)"
    },
    {
     "name": "stdout",
     "output_type": "stream",
     "text": "\n"
    },
    {
     "name": "stdout",
     "output_type": "stream",
     "text": "INFO     [12:43:09.296] [18295] 147 payloads/df_cache_hybrid: Hit: Join non_feats + feats"
    },
    {
     "name": "stdout",
     "output_type": "stream",
     "text": "\n"
    },
    {
     "name": "stdout",
     "output_type": "stream",
     "text": "INFO     [12:43:09.330] [18295] 155 payloads/df_cache_hybrid: Hit [1.722s]"
    },
    {
     "name": "stdout",
     "output_type": "stream",
     "text": "\n"
    },
    {
     "name": "stdout",
     "output_type": "stream",
     "text": "INFO     [12:43:09.339] [18295]  79 api.server_globals/load: load_search_recs (took 1.754s)"
    },
    {
     "name": "stdout",
     "output_type": "stream",
     "text": "\n"
    },
    {
     "name": "stdout",
     "output_type": "stream",
     "text": "INFO     [12:43:09.348] [18295]  34 api.server_globals/init: done"
    },
    {
     "name": "stdout",
     "output_type": "stream",
     "text": "\n"
    }
   ],
   "source": [
    "from notebooks import *\n",
    "sg.init(None)  # Computes search_recs, if cache miss"
   ]
  },
  {
   "cell_type": "code",
   "execution_count": null,
   "metadata": {},
   "outputs": [
    {
     "name": "stdout",
     "output_type": "stream",
     "text": "DEBUG    [12:43:09.557] [18295]   1 ?/<module>: [start]"
    },
    {
     "name": "stdout",
     "output_type": "stream",
     "text": "\n"
    },
    {
     "name": "stdout",
     "output_type": "stream",
     "text": "DEBUG    [12:43:09.592] [18295] 160 api.recs/xc_similar_html: query_rec [start]"
    },
    {
     "name": "stdout",
     "output_type": "stream",
     "text": "\n"
    },
    {
     "name": "stdout",
     "output_type": "stream",
     "text": "INFO     [12:43:09.603] [18295] 160 api.recs/xc_similar_html: query_rec [0.011s]"
    },
    {
     "name": "stdout",
     "output_type": "stream",
     "text": "\n"
    },
    {
     "name": "stdout",
     "output_type": "stream",
     "text": "INFO     [12:43:09.612] [18295]   1 ?/<module>: [0.055s]"
    },
    {
     "name": "stdout",
     "output_type": "stream",
     "text": "\n"
    },
    {
     "ename": "ApiError",
     "evalue": "ApiError(400, query_rec not found, xc_id=253604)",
     "output_type": "error",
     "traceback": [
      "Traceback \u001b[0;36m(most recent call last)\u001b[0m:\n",
      "  File \u001b[1;32m\"<ipython-input-2-7bb3eacc2d52>\"\u001b[0m, line \u001b[1;32m1\u001b[0m, in \u001b[1;35m<module>\u001b[0m\n    xc_similar_html(xc_id=253604)\n",
      "  File \u001b[1;32m\"/Users/danb/hack/bubo/features/logging_.py\"\u001b[0m, line \u001b[1;32m235\u001b[0m, in \u001b[1;35mg\u001b[0m\n    return f(*args, **kwargs)\n",
      "  File \u001b[1;32m\"/Users/danb/hack/bubo/features/api/recs.py\"\u001b[0m, line \u001b[1;32m160\u001b[0m, in \u001b[1;35mxc_similar_html\u001b[0m\n    query_rec = log_time_df(search_recs, desc='query_rec', f=lambda df: (df\n",
      "  File \u001b[1;32m\"/Users/danb/hack/bubo/features/logging_.py\"\u001b[0m, line \u001b[1;32m210\u001b[0m, in \u001b[1;35mlog_time_df\u001b[0m\n    return log_time(f, df, *args, **kwargs)\n",
      "  File \u001b[1;32m\"/Users/danb/hack/bubo/features/logging_.py\"\u001b[0m, line \u001b[1;32m216\u001b[0m, in \u001b[1;35mlog_time\u001b[0m\n    return f(*args, **kwargs)\n",
      "  File \u001b[1;32m\"/Users/danb/hack/bubo/features/api/recs.py\"\u001b[0m, line \u001b[1;32m162\u001b[0m, in \u001b[1;35m<lambda>\u001b[0m\n    .pipe(df_require_nonempty_for_api, 'query_rec not found', xc_id=xc_id)\n",
      "  File \u001b[1;32m\"/Users/danb/miniconda3/envs/bubo-features/lib/python3.6/site-packages/pandas/core/generic.py\"\u001b[0m, line \u001b[1;32m4253\u001b[0m, in \u001b[1;35mpipe\u001b[0m\n    return com._pipe(self, func, *args, **kwargs)\n",
      "  File \u001b[1;32m\"/Users/danb/miniconda3/envs/bubo-features/lib/python3.6/site-packages/pandas/core/common.py\"\u001b[0m, line \u001b[1;32m629\u001b[0m, in \u001b[1;35m_pipe\u001b[0m\n    return func(obj, *args, **kwargs)\n",
      "  File \u001b[1;32m\"/Users/danb/hack/bubo/features/api/recs.py\"\u001b[0m, line \u001b[1;32m934\u001b[0m, in \u001b[1;35mdf_require_nonempty_for_api\u001b[0m\n    return df_require_nonempty(df, ApiError(400, msg, **data))\n",
      "\u001b[0;36m  File \u001b[0;32m\"/Users/danb/hack/potoo/potoo/pandas.py\"\u001b[0;36m, line \u001b[0;32m463\u001b[0;36m, in \u001b[0;35mdf_require_nonempty\u001b[0;36m\u001b[0m\n\u001b[0;31m    raise e\u001b[0m\n",
      "\u001b[0;31mApiError\u001b[0m\u001b[0;31m:\u001b[0m query_rec not found\n"
     ]
    }
   ],
   "source": [
    "xc_similar_html(xc_id=253604)"
   ]
  },
  {
   "cell_type": "code",
   "execution_count": null,
   "metadata": {},
   "outputs": [],
   "source": [
    "xc_species_html(species='WTSP', n_recs=3)"
   ]
  },
  {
   "cell_type": "code",
   "execution_count": null,
   "metadata": {
    "time": "1.157s"
   },
   "outputs": [],
   "source": [
    "# opt('warn', use='dask', scheduler='threads')  # Quiet + par + progress bars\n",
    "xc_similar_html(\n",
    "    # view=False,\n",
    "    # n_total=20,\n",
    "    # n_sp_recs=1,\n",
    "\n",
    "    # Examples (bad/good)\n",
    "    # xc_id=381417,  # YHBL (bad)\n",
    "    # xc_id=173272,  # LOSH (bad -- curious that d_f* does better than d_p*...)\n",
    "    # xc_id=15222,   # JUTI (bad)\n",
    "    # xc_id=406162,  # AMRO (wrong sp but good results)\n",
    "    # xc_id=408021,  # WREN (good)\n",
    "    # xc_id=348142,  # PSFL (good)\n",
    "    # xc_id=378376,  # WCSP (good)\n",
    "    # xc_id=381582,  # COYE (good)\n",
    "    # xc_id=416558,  # COYE (good)\n",
    "    # xc_id=329879,  # WTSP (good)\n",
    "\n",
    "    xc_id=408551,\n",
    "\n",
    "    n_sp=3,\n",
    "    # n_sp=10,\n",
    "    # n_sp=20,\n",
    "    # n_sp=40,\n",
    "    # n_sp=80,\n",
    "    # n_sp=160,\n",
    "    # n_sp=None,\n",
    "\n",
    ")"
   ]
  },
  {
   "cell_type": "code",
   "execution_count": null,
   "metadata": {},
   "outputs": [],
   "source": []
  }
 ],
 "metadata": {
  "kernelspec": {
   "display_name": "bubo-features (PYTHONSTARTUP)",
   "language": "python",
   "name": "bubo-features (PYTHONSTARTUP)"
  }
 },
 "nbformat": 4,
 "nbformat_minor": 2
}
