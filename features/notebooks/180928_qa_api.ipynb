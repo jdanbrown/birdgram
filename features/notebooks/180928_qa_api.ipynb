{
 "cells": [
  {
   "cell_type": "code",
   "execution_count": null,
   "metadata": {
    "time": "5.416s"
   },
   "outputs": [],
   "source": [
    "from notebooks import *\n",
    "sg.init(None)  # Computes search_recs, if cache miss"
   ]
  },
  {
   "cell_type": "code",
   "execution_count": null,
   "metadata": {},
   "outputs": [],
   "source": [
    "species_html(\n",
    "    species='YRWA',\n",
    "    n_recs=3,\n",
    ")"
   ]
  },
  {
   "cell_type": "code",
   "execution_count": null,
   "metadata": {
    "time": "1.347s"
   },
   "outputs": [],
   "source": [
    "# opt('warn', use='dask', scheduler='threads')  # Quiet + par + progress bars\n",
    "search_html(\n",
    "    # view=False,\n",
    "    # n_total=20,\n",
    "    # n_sp_recs=1,\n",
    "\n",
    "    # Examples (bad/good)\n",
    "    # xc_id=381417,  # YHBL (bad)\n",
    "    # xc_id=173272,  # LOSH (bad -- curious that d_f* does better than d_p*...)\n",
    "    # xc_id=15222,   # JUTI (bad)\n",
    "    # xc_id=406162,  # AMRO (wrong sp but good results)\n",
    "    # xc_id=408021,  # WREN (good)\n",
    "    # xc_id=348142,  # PSFL (good)\n",
    "    # xc_id=378376,  # WCSP (good)\n",
    "    # xc_id=381582,  # COYE (good)\n",
    "    # xc_id=416558,  # COYE (good)\n",
    "    # xc_id=329879,  # WTSP (good)\n",
    "\n",
    "    # xc_id=408551,\n",
    "\n",
    ")"
   ]
  },
  {
   "cell_type": "code",
   "execution_count": null,
   "metadata": {},
   "outputs": [],
   "source": []
  }
 ],
 "metadata": {
  "kernelspec": {
   "display_name": "bubo-features (PYTHONSTARTUP)",
   "language": "python",
   "name": "bubo-features (PYTHONSTARTUP)"
  }
 },
 "nbformat": 4,
 "nbformat_minor": 2
}
