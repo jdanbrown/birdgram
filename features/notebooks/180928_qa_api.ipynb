{
 "cells": [
  {
   "cell_type": "code",
   "execution_count": null,
   "metadata": {
    "time": "3.889s"
   },
   "outputs": [
    {
     "name": "stdout",
     "output_type": "stream",
     "text": "INFO     [14:42:59.223] [34533] 150 logging_/<module>: {logging_yaml: None}"
    },
    {
     "name": "stdout",
     "output_type": "stream",
     "text": "\n"
    },
    {
     "name": "stdout",
     "output_type": "stream",
     "text": "INFO     [14:42:59.520] [34533]  32 api.server_globals/init"
    },
    {
     "name": "stdout",
     "output_type": "stream",
     "text": "\n"
    },
    {
     "name": "stdout",
     "output_type": "stream",
     "text": "DEBUG    [14:42:59.526] [34533]  75 api.server_globals/load: load_search..."
    },
    {
     "name": "stdout",
     "output_type": "stream",
     "text": "\n"
    },
    {
     "name": "stdout",
     "output_type": "stream",
     "text": "INFO     [14:42:59.789] [34533]  79 api.server_globals/load: load_search (took 0.258s)"
    },
    {
     "name": "stdout",
     "output_type": "stream",
     "text": "\n"
    },
    {
     "name": "stdout",
     "output_type": "stream",
     "text": "DEBUG    [14:42:59.796] [34533]  75 api.server_globals/load: load_xc_meta..."
    },
    {
     "name": "stdout",
     "output_type": "stream",
     "text": "\n"
    },
    {
     "name": "stdout",
     "output_type": "stream",
     "text": "INFO     [14:43:00.210] [34533]  79 api.server_globals/load: load_xc_meta (took 0.407s)"
    },
    {
     "name": "stdout",
     "output_type": "stream",
     "text": "\n"
    },
    {
     "name": "stdout",
     "output_type": "stream",
     "text": "DEBUG    [14:43:00.218] [34533]  75 api.server_globals/load: load_feat_info..."
    },
    {
     "name": "stdout",
     "output_type": "stream",
     "text": "\n"
    },
    {
     "name": "stdout",
     "output_type": "stream",
     "text": "INFO     [14:43:00.224] [34533] 110 api.server_globals/load_feat_info"
    },
    {
     "name": "stdout",
     "output_type": "stream",
     "text": "\n"
    },
    {
     "name": "stdout",
     "output_type": "stream",
     "text": "INFO     [14:43:00.231] [34533]  79 api.server_globals/load: load_feat_info (took 0.006s)"
    },
    {
     "name": "stdout",
     "output_type": "stream",
     "text": "\n"
    },
    {
     "name": "stdout",
     "output_type": "stream",
     "text": "DEBUG    [14:43:00.237] [34533]  75 api.server_globals/load: load_search_recs..."
    },
    {
     "name": "stdout",
     "output_type": "stream",
     "text": "\n"
    },
    {
     "name": "stdout",
     "output_type": "stream",
     "text": "INFO     [14:43:00.242] [34533] 118 api.server_globals/load_search_recs"
    },
    {
     "name": "stdout",
     "output_type": "stream",
     "text": "\n"
    },
    {
     "name": "stdout",
     "output_type": "stream",
     "text": "INFO     [14:43:00.247] [34533] 374 api.recs/get_search_recs"
    },
    {
     "name": "stdout",
     "output_type": "stream",
     "text": "\n"
    },
    {
     "name": "stdout",
     "output_type": "stream",
     "text": "INFO     [14:43:00.257] [34533] 118 payloads/df_cache_hybrid: Hit: payloads/search_recs-version[1],limit[1000],audio_s[10],scale[1],countries_k[na],com_names_k[ca],num_recs[None]-bd77e24"
    },
    {
     "name": "stdout",
     "output_type": "stream",
     "text": "\n"
    },
    {
     "name": "stdout",
     "output_type": "stream",
     "text": "DEBUG    [14:43:00.263] [34533] 119 payloads/df_cache_hybrid: Hit [start]"
    },
    {
     "name": "stdout",
     "output_type": "stream",
     "text": "\n"
    },
    {
     "name": "stdout",
     "output_type": "stream",
     "text": "DEBUG    [14:43:00.270] [34533] 129 payloads/df_cache_hybrid: Hit: Reading non_feats.parquet (89.3 MB)"
    },
    {
     "name": "stdout",
     "output_type": "stream",
     "text": "\n"
    },
    {
     "name": "stdout",
     "output_type": "stream",
     "text": "INFO     [14:43:01.795] [34533] 136 payloads/df_cache_hybrid: Hit: Read non_feats.parquet (89.3 MB)"
    },
    {
     "name": "stdout",
     "output_type": "stream",
     "text": "\n"
    },
    {
     "name": "stdout",
     "output_type": "stream",
     "text": "DEBUG    [14:43:01.804] [34533] 141 payloads/df_cache_hybrid: Hit: Reading feat-feat.npy (6.0 MB)"
    },
    {
     "name": "stdout",
     "output_type": "stream",
     "text": "\n"
    },
    {
     "name": "stdout",
     "output_type": "stream",
     "text": "INFO     [14:43:01.813] [34533] 143 payloads/df_cache_hybrid: Hit: Read feat-feat.npy: float32 (6.0 MB)"
    },
    {
     "name": "stdout",
     "output_type": "stream",
     "text": "\n"
    },
    {
     "name": "stdout",
     "output_type": "stream",
     "text": "DEBUG    [14:43:01.819] [34533] 141 payloads/df_cache_hybrid: Hit: Reading feat-f_preds.npy (1.3 MB)"
    },
    {
     "name": "stdout",
     "output_type": "stream",
     "text": "\n"
    },
    {
     "name": "stdout",
     "output_type": "stream",
     "text": "INFO     [14:43:01.826] [34533] 143 payloads/df_cache_hybrid: Hit: Read feat-f_preds.npy: float32 (1.3 MB)"
    },
    {
     "name": "stdout",
     "output_type": "stream",
     "text": "\n"
    },
    {
     "name": "stdout",
     "output_type": "stream",
     "text": "INFO     [14:43:01.831] [34533] 147 payloads/df_cache_hybrid: Hit: Join non_feats + feats"
    },
    {
     "name": "stdout",
     "output_type": "stream",
     "text": "\n"
    },
    {
     "name": "stdout",
     "output_type": "stream",
     "text": "INFO     [14:43:01.858] [34533] 155 payloads/df_cache_hybrid: Hit [1.595s]"
    },
    {
     "name": "stdout",
     "output_type": "stream",
     "text": "\n"
    },
    {
     "name": "stdout",
     "output_type": "stream",
     "text": "INFO     [14:43:01.865] [34533]  79 api.server_globals/load: load_search_recs (took 1.623s)"
    },
    {
     "name": "stdout",
     "output_type": "stream",
     "text": "\n"
    },
    {
     "name": "stdout",
     "output_type": "stream",
     "text": "INFO     [14:43:01.871] [34533]  34 api.server_globals/init: done"
    },
    {
     "name": "stdout",
     "output_type": "stream",
     "text": "\n"
    }
   ],
   "source": [
    "from notebooks import *\n",
    "sg.init(None)  # Computes search_recs, if cache miss"
   ]
  },
  {
   "cell_type": "code",
   "execution_count": null,
   "metadata": {},
   "outputs": [],
   "source": [
    "xc_species_html(species='WTSP', n_recs=3)"
   ]
  },
  {
   "cell_type": "code",
   "execution_count": null,
   "metadata": {
    "time": "1.157s"
   },
   "outputs": [],
   "source": [
    "# opt('warn', use='dask', scheduler='threads')  # Quiet + par + progress bars\n",
    "xc_similar_html(\n",
    "    # view=False,\n",
    "    # n_total=20,\n",
    "    # n_sp_recs=1,\n",
    "\n",
    "    # Examples (bad/good)\n",
    "    # xc_id=381417,  # YHBL (bad)\n",
    "    # xc_id=173272,  # LOSH (bad -- curious that d_f* does better than d_p*...)\n",
    "    # xc_id=15222,   # JUTI (bad)\n",
    "    # xc_id=406162,  # AMRO (wrong sp but good results)\n",
    "    # xc_id=408021,  # WREN (good)\n",
    "    # xc_id=348142,  # PSFL (good)\n",
    "    # xc_id=378376,  # WCSP (good)\n",
    "    # xc_id=381582,  # COYE (good)\n",
    "    # xc_id=416558,  # COYE (good)\n",
    "    # xc_id=329879,  # WTSP (good)\n",
    "\n",
    "    xc_id=408551,\n",
    "\n",
    "    n_sp=3,\n",
    "    # n_sp=10,\n",
    "    # n_sp=20,\n",
    "    # n_sp=40,\n",
    "    # n_sp=80,\n",
    "    # n_sp=160,\n",
    "    # n_sp=None,\n",
    "\n",
    ")"
   ]
  },
  {
   "cell_type": "code",
   "execution_count": null,
   "metadata": {},
   "outputs": [],
   "source": []
  }
 ],
 "metadata": {
  "kernelspec": {
   "display_name": "bubo-features (PYTHONSTARTUP)",
   "language": "python",
   "name": "bubo-features (PYTHONSTARTUP)"
  }
 },
 "nbformat": 4,
 "nbformat_minor": 2
}
