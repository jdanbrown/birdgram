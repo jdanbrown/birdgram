{
 "cells": [
  {
   "cell_type": "code",
   "execution_count": null,
   "metadata": {
    "time": "4.018s"
   },
   "outputs": [
    {
     "name": "stdout",
     "output_type": "stream",
     "text": "INFO     [16:21:19.842] [54655] 150 logging_/<module>: {logging_yaml: None}"
    },
    {
     "name": "stdout",
     "output_type": "stream",
     "text": "\n"
    },
    {
     "name": "stdout",
     "output_type": "stream",
     "text": "INFO     [16:21:20.140] [54655]  32 api.server_globals/init"
    },
    {
     "name": "stdout",
     "output_type": "stream",
     "text": "\n"
    },
    {
     "name": "stdout",
     "output_type": "stream",
     "text": "DEBUG    [16:21:20.147] [54655]  75 api.server_globals/load: load_search..."
    },
    {
     "name": "stdout",
     "output_type": "stream",
     "text": "\n"
    },
    {
     "name": "stdout",
     "output_type": "stream",
     "text": "INFO     [16:21:20.414] [54655]  79 api.server_globals/load: load_search (took 0.261s)"
    },
    {
     "name": "stdout",
     "output_type": "stream",
     "text": "\n"
    },
    {
     "name": "stdout",
     "output_type": "stream",
     "text": "DEBUG    [16:21:20.420] [54655]  75 api.server_globals/load: load_xc_meta..."
    },
    {
     "name": "stdout",
     "output_type": "stream",
     "text": "\n"
    },
    {
     "name": "stdout",
     "output_type": "stream",
     "text": "INFO     [16:21:20.821] [54655]  79 api.server_globals/load: load_xc_meta (took 0.393s)"
    },
    {
     "name": "stdout",
     "output_type": "stream",
     "text": "\n"
    },
    {
     "name": "stdout",
     "output_type": "stream",
     "text": "DEBUG    [16:21:20.828] [54655]  75 api.server_globals/load: load_feat_info..."
    },
    {
     "name": "stdout",
     "output_type": "stream",
     "text": "\n"
    },
    {
     "name": "stdout",
     "output_type": "stream",
     "text": "INFO     [16:21:20.834] [54655] 110 api.server_globals/load_feat_info"
    },
    {
     "name": "stdout",
     "output_type": "stream",
     "text": "\n"
    },
    {
     "name": "stdout",
     "output_type": "stream",
     "text": "INFO     [16:21:20.841] [54655]  79 api.server_globals/load: load_feat_info (took 0.007s)"
    },
    {
     "name": "stdout",
     "output_type": "stream",
     "text": "\n"
    },
    {
     "name": "stdout",
     "output_type": "stream",
     "text": "DEBUG    [16:21:20.847] [54655]  75 api.server_globals/load: load_search_recs..."
    },
    {
     "name": "stdout",
     "output_type": "stream",
     "text": "\n"
    },
    {
     "name": "stdout",
     "output_type": "stream",
     "text": "INFO     [16:21:20.852] [54655] 118 api.server_globals/load_search_recs"
    },
    {
     "name": "stdout",
     "output_type": "stream",
     "text": "\n"
    },
    {
     "name": "stdout",
     "output_type": "stream",
     "text": "INFO     [16:21:20.858] [54655] 390 api.recs/get_search_recs"
    },
    {
     "name": "stdout",
     "output_type": "stream",
     "text": "\n"
    },
    {
     "name": "stdout",
     "output_type": "stream",
     "text": "INFO     [16:21:20.869] [54655] 118 payloads/df_cache_hybrid: Hit: payloads/search_recs-version[1],limit[1000],audio_s[10],scale[1],countries_k[na],com_names_k[ca],num_recs[None]-bd77e24"
    },
    {
     "name": "stdout",
     "output_type": "stream",
     "text": "\n"
    },
    {
     "name": "stdout",
     "output_type": "stream",
     "text": "DEBUG    [16:21:20.875] [54655] 119 payloads/df_cache_hybrid: Hit [start]"
    },
    {
     "name": "stdout",
     "output_type": "stream",
     "text": "\n"
    },
    {
     "name": "stdout",
     "output_type": "stream",
     "text": "DEBUG    [16:21:20.882] [54655] 129 payloads/df_cache_hybrid: Hit: Reading non_feats.parquet (89.3 MB)"
    },
    {
     "name": "stdout",
     "output_type": "stream",
     "text": "\n"
    },
    {
     "name": "stdout",
     "output_type": "stream",
     "text": "INFO     [16:21:22.472] [54655] 136 payloads/df_cache_hybrid: Hit: Read non_feats.parquet (89.3 MB)"
    },
    {
     "name": "stdout",
     "output_type": "stream",
     "text": "\n"
    },
    {
     "name": "stdout",
     "output_type": "stream",
     "text": "DEBUG    [16:21:22.484] [54655] 141 payloads/df_cache_hybrid: Hit: Reading feat-feat.npy (6.0 MB)"
    },
    {
     "name": "stdout",
     "output_type": "stream",
     "text": "\n"
    },
    {
     "name": "stdout",
     "output_type": "stream",
     "text": "INFO     [16:21:22.496] [54655] 143 payloads/df_cache_hybrid: Hit: Read feat-feat.npy: float32 (6.0 MB)"
    },
    {
     "name": "stdout",
     "output_type": "stream",
     "text": "\n"
    },
    {
     "name": "stdout",
     "output_type": "stream",
     "text": "DEBUG    [16:21:22.502] [54655] 141 payloads/df_cache_hybrid: Hit: Reading feat-f_preds.npy (1.3 MB)"
    },
    {
     "name": "stdout",
     "output_type": "stream",
     "text": "\n"
    },
    {
     "name": "stdout",
     "output_type": "stream",
     "text": "INFO     [16:21:22.513] [54655] 143 payloads/df_cache_hybrid: Hit: Read feat-f_preds.npy: float32 (1.3 MB)"
    },
    {
     "name": "stdout",
     "output_type": "stream",
     "text": "\n"
    },
    {
     "name": "stdout",
     "output_type": "stream",
     "text": "INFO     [16:21:22.521] [54655] 147 payloads/df_cache_hybrid: Hit: Join non_feats + feats"
    },
    {
     "name": "stdout",
     "output_type": "stream",
     "text": "\n"
    },
    {
     "name": "stdout",
     "output_type": "stream",
     "text": "INFO     [16:21:22.551] [54655] 155 payloads/df_cache_hybrid: Hit [1.676s]"
    },
    {
     "name": "stdout",
     "output_type": "stream",
     "text": "\n"
    },
    {
     "name": "stdout",
     "output_type": "stream",
     "text": "INFO     [16:21:22.559] [54655]  79 api.server_globals/load: load_search_recs (took 1.706s)"
    },
    {
     "name": "stdout",
     "output_type": "stream",
     "text": "\n"
    },
    {
     "name": "stdout",
     "output_type": "stream",
     "text": "INFO     [16:21:22.567] [54655]  34 api.server_globals/init: done"
    },
    {
     "name": "stdout",
     "output_type": "stream",
     "text": "\n"
    }
   ],
   "source": [
    "from notebooks import *\n",
    "sg.init(None)  # Computes search_recs, if cache miss"
   ]
  },
  {
   "cell_type": "code",
   "execution_count": null,
   "metadata": {},
   "outputs": [],
   "source": [
    "xc_species_html(species='WTSP', n_recs=3)"
   ]
  },
  {
   "cell_type": "code",
   "execution_count": null,
   "metadata": {
    "time": "1.157s"
   },
   "outputs": [],
   "source": [
    "# opt('warn', use='dask', scheduler='threads')  # Quiet + par + progress bars\n",
    "xc_similar_html(\n",
    "    # view=False,\n",
    "    # n_total=20,\n",
    "    # n_sp_recs=1,\n",
    "\n",
    "    # Examples (bad/good)\n",
    "    # xc_id=381417,  # YHBL (bad)\n",
    "    # xc_id=173272,  # LOSH (bad -- curious that d_f* does better than d_p*...)\n",
    "    # xc_id=15222,   # JUTI (bad)\n",
    "    # xc_id=406162,  # AMRO (wrong sp but good results)\n",
    "    # xc_id=408021,  # WREN (good)\n",
    "    # xc_id=348142,  # PSFL (good)\n",
    "    # xc_id=378376,  # WCSP (good)\n",
    "    # xc_id=381582,  # COYE (good)\n",
    "    # xc_id=416558,  # COYE (good)\n",
    "    # xc_id=329879,  # WTSP (good)\n",
    "\n",
    "    xc_id=408551,\n",
    "\n",
    "    n_sp=3,\n",
    "    # n_sp=10,\n",
    "    # n_sp=20,\n",
    "    # n_sp=40,\n",
    "    # n_sp=80,\n",
    "    # n_sp=160,\n",
    "    # n_sp=None,\n",
    "\n",
    ")"
   ]
  },
  {
   "cell_type": "code",
   "execution_count": null,
   "metadata": {},
   "outputs": [],
   "source": []
  }
 ],
 "metadata": {
  "kernelspec": {
   "display_name": "bubo-features (PYTHONSTARTUP)",
   "language": "python",
   "name": "bubo-features (PYTHONSTARTUP)"
  }
 },
 "nbformat": 4,
 "nbformat_minor": 2
}
