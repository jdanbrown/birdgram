{
 "cells": [
  {
   "cell_type": "code",
   "execution_count": null,
   "metadata": {
    "time": "3.933s"
   },
   "outputs": [
    {
     "name": "stdout",
     "output_type": "stream",
     "text": "INFO     [11:21:00.122] [25674] 150 logging_/<module>: {logging_yaml: None}"
    },
    {
     "name": "stdout",
     "output_type": "stream",
     "text": "\n"
    },
    {
     "name": "stdout",
     "output_type": "stream",
     "text": "INFO     [11:21:00.419] [25674]  32 api.server_globals/init"
    },
    {
     "name": "stdout",
     "output_type": "stream",
     "text": "\n"
    },
    {
     "name": "stdout",
     "output_type": "stream",
     "text": "DEBUG    [11:21:00.426] [25674]  75 api.server_globals/load: load_search..."
    },
    {
     "name": "stdout",
     "output_type": "stream",
     "text": "\n"
    },
    {
     "name": "stdout",
     "output_type": "stream",
     "text": "INFO     [11:21:00.707] [25674]  79 api.server_globals/load: load_search (took 0.273s)"
    },
    {
     "name": "stdout",
     "output_type": "stream",
     "text": "\n"
    },
    {
     "name": "stdout",
     "output_type": "stream",
     "text": "DEBUG    [11:21:00.713] [25674]  75 api.server_globals/load: load_xc_meta..."
    },
    {
     "name": "stdout",
     "output_type": "stream",
     "text": "\n"
    },
    {
     "name": "stdout",
     "output_type": "stream",
     "text": "INFO     [11:21:01.129] [25674]  79 api.server_globals/load: load_xc_meta (took 0.409s)"
    },
    {
     "name": "stdout",
     "output_type": "stream",
     "text": "\n"
    },
    {
     "name": "stdout",
     "output_type": "stream",
     "text": "DEBUG    [11:21:01.137] [25674]  75 api.server_globals/load: load_feat_info..."
    },
    {
     "name": "stdout",
     "output_type": "stream",
     "text": "\n"
    },
    {
     "name": "stdout",
     "output_type": "stream",
     "text": "INFO     [11:21:01.144] [25674] 110 api.server_globals/load_feat_info"
    },
    {
     "name": "stdout",
     "output_type": "stream",
     "text": "\n"
    },
    {
     "name": "stdout",
     "output_type": "stream",
     "text": "INFO     [11:21:01.148] [25674]  79 api.server_globals/load: load_feat_info (took 0.005s)"
    },
    {
     "name": "stdout",
     "output_type": "stream",
     "text": "\n"
    },
    {
     "name": "stdout",
     "output_type": "stream",
     "text": "DEBUG    [11:21:01.153] [25674]  75 api.server_globals/load: load_search_recs..."
    },
    {
     "name": "stdout",
     "output_type": "stream",
     "text": "\n"
    },
    {
     "name": "stdout",
     "output_type": "stream",
     "text": "INFO     [11:21:01.162] [25674] 118 api.server_globals/load_search_recs"
    },
    {
     "name": "stdout",
     "output_type": "stream",
     "text": "\n"
    },
    {
     "name": "stdout",
     "output_type": "stream",
     "text": "INFO     [11:21:01.168] [25674] 399 api.recs/get_search_recs"
    },
    {
     "name": "stdout",
     "output_type": "stream",
     "text": "\n"
    },
    {
     "name": "stdout",
     "output_type": "stream",
     "text": "INFO     [11:21:01.179] [25674] 118 payloads/df_cache_hybrid: Hit: payloads/search_recs-version[1],limit[1000],audio_s[10],scale[1],countries_k[na],com_names_k[ca],num_recs[None]-bd77e24"
    },
    {
     "name": "stdout",
     "output_type": "stream",
     "text": "\n"
    },
    {
     "name": "stdout",
     "output_type": "stream",
     "text": "DEBUG    [11:21:01.184] [25674] 119 payloads/df_cache_hybrid: Hit [start]"
    },
    {
     "name": "stdout",
     "output_type": "stream",
     "text": "\n"
    },
    {
     "name": "stdout",
     "output_type": "stream",
     "text": "DEBUG    [11:21:01.191] [25674] 129 payloads/df_cache_hybrid: Hit: Reading non_feats.parquet (89.3 MB)"
    },
    {
     "name": "stdout",
     "output_type": "stream",
     "text": "\n"
    },
    {
     "name": "stdout",
     "output_type": "stream",
     "text": "INFO     [11:21:02.692] [25674] 136 payloads/df_cache_hybrid: Hit: Read non_feats.parquet (89.3 MB)"
    },
    {
     "name": "stdout",
     "output_type": "stream",
     "text": "\n"
    },
    {
     "name": "stdout",
     "output_type": "stream",
     "text": "DEBUG    [11:21:02.701] [25674] 141 payloads/df_cache_hybrid: Hit: Reading feat-feat.npy (6.0 MB)"
    },
    {
     "name": "stdout",
     "output_type": "stream",
     "text": "\n"
    },
    {
     "name": "stdout",
     "output_type": "stream",
     "text": "INFO     [11:21:02.711] [25674] 143 payloads/df_cache_hybrid: Hit: Read feat-feat.npy: float32 (6.0 MB)"
    },
    {
     "name": "stdout",
     "output_type": "stream",
     "text": "\n"
    },
    {
     "name": "stdout",
     "output_type": "stream",
     "text": "DEBUG    [11:21:02.716] [25674] 141 payloads/df_cache_hybrid: Hit: Reading feat-f_preds.npy (1.3 MB)"
    },
    {
     "name": "stdout",
     "output_type": "stream",
     "text": "\n"
    },
    {
     "name": "stdout",
     "output_type": "stream",
     "text": "INFO     [11:21:02.723] [25674] 143 payloads/df_cache_hybrid: Hit: Read feat-f_preds.npy: float32 (1.3 MB)"
    },
    {
     "name": "stdout",
     "output_type": "stream",
     "text": "\n"
    },
    {
     "name": "stdout",
     "output_type": "stream",
     "text": "INFO     [11:21:02.729] [25674] 147 payloads/df_cache_hybrid: Hit: Join non_feats + feats"
    },
    {
     "name": "stdout",
     "output_type": "stream",
     "text": "\n"
    },
    {
     "name": "stdout",
     "output_type": "stream",
     "text": "INFO     [11:21:02.759] [25674] 155 payloads/df_cache_hybrid: Hit [1.574s]"
    },
    {
     "name": "stdout",
     "output_type": "stream",
     "text": "\n"
    },
    {
     "name": "stdout",
     "output_type": "stream",
     "text": "INFO     [11:21:02.766] [25674]  79 api.server_globals/load: load_search_recs (took 1.604s)"
    },
    {
     "name": "stdout",
     "output_type": "stream",
     "text": "\n"
    },
    {
     "name": "stdout",
     "output_type": "stream",
     "text": "INFO     [11:21:02.772] [25674]  34 api.server_globals/init: done"
    },
    {
     "name": "stdout",
     "output_type": "stream",
     "text": "\n"
    }
   ],
   "source": [
    "from notebooks import *\n",
    "sg.init(None)  # Computes search_recs, if cache miss"
   ]
  },
  {
   "cell_type": "code",
   "execution_count": null,
   "metadata": {},
   "outputs": [],
   "source": [
    "xc_species_html(species='WTSP', n_recs=3)"
   ]
  },
  {
   "cell_type": "code",
   "execution_count": null,
   "metadata": {
    "time": "1.157s"
   },
   "outputs": [],
   "source": [
    "# opt('warn', use='dask', scheduler='threads')  # Quiet + par + progress bars\n",
    "xc_similar_html(\n",
    "    # view=False,\n",
    "    # n_total=20,\n",
    "    # n_sp_recs=1,\n",
    "\n",
    "    # Examples (bad/good)\n",
    "    # xc_id=381417,  # YHBL (bad)\n",
    "    # xc_id=173272,  # LOSH (bad -- curious that d_f* does better than d_p*...)\n",
    "    # xc_id=15222,   # JUTI (bad)\n",
    "    # xc_id=406162,  # AMRO (wrong sp but good results)\n",
    "    # xc_id=408021,  # WREN (good)\n",
    "    # xc_id=348142,  # PSFL (good)\n",
    "    # xc_id=378376,  # WCSP (good)\n",
    "    # xc_id=381582,  # COYE (good)\n",
    "    # xc_id=416558,  # COYE (good)\n",
    "    # xc_id=329879,  # WTSP (good)\n",
    "\n",
    "    xc_id=408551,\n",
    "\n",
    "    n_sp=3,\n",
    "    # n_sp=10,\n",
    "    # n_sp=20,\n",
    "    # n_sp=40,\n",
    "    # n_sp=80,\n",
    "    # n_sp=160,\n",
    "    # n_sp=None,\n",
    "\n",
    ")"
   ]
  },
  {
   "cell_type": "code",
   "execution_count": null,
   "metadata": {},
   "outputs": [],
   "source": []
  }
 ],
 "metadata": {
  "kernelspec": {
   "display_name": "bubo-features (PYTHONSTARTUP)",
   "language": "python",
   "name": "bubo-features (PYTHONSTARTUP)"
  }
 },
 "nbformat": 4,
 "nbformat_minor": 2
}
