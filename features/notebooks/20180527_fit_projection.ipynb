{
 "cells": [
  {
   "cell_type": "code",
   "execution_count": null,
   "metadata": {},
   "outputs": [],
   "source": [
    "import glob\n",
    "\n",
    "from potoo.plot import *\n",
    "from potoo.util import *\n",
    "import sklearn\n",
    "\n",
    "from cache import *\n",
    "from constants import *\n",
    "from datasets import *\n",
    "from features import *\n",
    "from load import *\n",
    "from sp14.model import *\n",
    "from util import *\n",
    "from viz import *\n",
    "\n",
    "figsize('inline_short');"
   ]
  },
  {
   "cell_type": "code",
   "execution_count": null,
   "metadata": {},
   "outputs": [],
   "source": [
    "recs = (\n",
    "    load_recs([\n",
    "        'peterson-field-guide',\n",
    "        'recordings',\n",
    "    ])\n",
    "    # [:50]  # Faster dev\n",
    ")\n",
    "display(df_summary(recs), recs[:5])"
   ]
  },
  {
   "cell_type": "code",
   "execution_count": null,
   "metadata": {},
   "outputs": [],
   "source": [
    "# recs = recs_load_audio(recs)\n",
    "# display(df_summary(recs), recs[:5])"
   ]
  },
  {
   "cell_type": "code",
   "execution_count": null,
   "metadata": {},
   "outputs": [],
   "source": [
    "recs = recs_load_metadata(recs)\n",
    "display(df_summary(recs), recs[:5])"
   ]
  },
  {
   "cell_type": "code",
   "execution_count": null,
   "metadata": {},
   "outputs": [],
   "source": [
    "# features = Features()\n",
    "# recs['spectro'] = features.spectro(recs)\n",
    "# display(df_summary(recs), recs[:5])"
   ]
  },
  {
   "cell_type": "code",
   "execution_count": null,
   "metadata": {},
   "outputs": [],
   "source": [
    "# features = Features()\n",
    "# recs['patches'] = features.patches(recs)\n",
    "# display(df_summary(recs), recs[:5])"
   ]
  },
  {
   "cell_type": "code",
   "execution_count": null,
   "metadata": {},
   "outputs": [],
   "source": [
    "features = Features()\n",
    "recs = features.transform(recs)\n",
    "display(df_summary(recs), recs[:5])"
   ]
  },
  {
   "cell_type": "code",
   "execution_count": null,
   "metadata": {},
   "outputs": [],
   "source": [
    "# Stats\n",
    "(recs\n",
    "    .assign(\n",
    "        n=1,\n",
    "        duration_h=lambda df: df.duration_s / 3600,\n",
    "        samples_gb=lambda df: df.samples_mb / 1024,\n",
    "        species=lambda df: df.species.cat.remove_unused_categories(),  # Else groupby includes all categories\n",
    "    )\n",
    "    .groupby([\n",
    "        'dataset',\n",
    "        'species',\n",
    "    ])\n",
    "    [['n', 'duration_h', 'samples_gb', 'samples_n']]\n",
    "    .sum()\n",
    "    .dropna()\n",
    ")"
   ]
  },
  {
   "cell_type": "code",
   "execution_count": null,
   "metadata": {},
   "outputs": [],
   "source": [
    "(recs\n",
    "    .assign(species=lambda df: df.species_longhand)\n",
    "    .assign(n=1)\n",
    "    .pipe(lambda df: df.append(\n",
    "        pd.DataFrame([\n",
    "            dict(species=species, dataset=dataset, n=0)\n",
    "            for species in df.species.unique()\n",
    "            for dataset in df.dataset.unique()\n",
    "        ])\n",
    "        .astype({'species': df.species.dtype})\n",
    "    ))\n",
    "    .groupby(['dataset', 'species'])['n'].sum().reset_index()\n",
    "    .pipe(df_reverse_cat, 'species')\n",
    "    .pipe(ggplot, aes(x='species', y='n', color='dataset', fill='dataset'))\n",
    "    + coord_flip()\n",
    "    + stat_identity(geom='bar', position=position_dodge())\n",
    "    + ylab('num recordings')\n",
    "    + scale_color_cmap_d(mpl.cm.tab10)\n",
    "    + scale_fill_cmap_d(mpl.cm.tab10)\n",
    "    + theme_figsize('half')\n",
    "    + ggtitle('How many recs per species x dataset?')\n",
    ")"
   ]
  },
  {
   "cell_type": "code",
   "execution_count": null,
   "metadata": {},
   "outputs": [],
   "source": [
    "%%time\n",
    "# Fit projection, add learned features\n",
    "from sp14.model import *\n",
    "\n",
    "k, n = 5,  6   # Faster dev\n",
    "# k, n = 50,  60   # Faster dev\n",
    "# k, n = 500, 300  # Mem safe (~17m uncached for 6 configs)\n",
    "# k, n = 500, 535  # Full [XXX Not mem safe] [len(peterson) is currently 535]\n",
    "recs_train_projection = (recs\n",
    "    [lambda df: df.dataset == 'peterson-field-guide']\n",
    "    .pipe(sklearn.utils.shuffle, random_state=0)\n",
    "    .sample(n, random_state=0)\n",
    ")\n",
    "\n",
    "projection = Projection(k=k)\n",
    "projection.fit(recs_train_projection)\n",
    "# recs['feat'] = projection.transform(recs)\n",
    "\n",
    "# projection.save('peterson-v0')"
   ]
  }
 ],
 "metadata": {
  "kernelspec": {
   "display_name": "python",
   "language": "python",
   "name": "python"
  }
 },
 "nbformat": 4,
 "nbformat_minor": 2
}
