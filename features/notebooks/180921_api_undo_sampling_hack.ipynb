{
 "cells": [
  {
   "cell_type": "code",
   "execution_count": null,
   "metadata": {
    "time": "2.578s"
   },
   "outputs": [
    {
     "name": "stdout",
     "output_type": "stream",
     "text": "INFO     [17:25:51.992] [ 5049]  53 logging_/init_logging: {logging_yaml: None}"
    },
    {
     "name": "stdout",
     "output_type": "stream",
     "text": "\n"
    },
    {
     "name": "stdout",
     "output_type": "stream",
     "text": "INFO     [17:25:52.283] [ 5049]  29 api.server_globals/init"
    },
    {
     "name": "stdout",
     "output_type": "stream",
     "text": "\n"
    },
    {
     "name": "stdout",
     "output_type": "stream",
     "text": "•"
    },
    {
     "name": "stdout",
     "output_type": "stream",
     "text": "•"
    },
    {
     "name": "stdout",
     "output_type": "stream",
     "text": "INFO     [17:25:52.997] [ 5049]  31 api.server_globals/init: done"
    },
    {
     "name": "stdout",
     "output_type": "stream",
     "text": "\n"
    }
   ],
   "source": [
    "from notebooks import *\n",
    "sg.init(app=None)"
   ]
  },
  {
   "cell_type": "code",
   "execution_count": null,
   "metadata": {},
   "outputs": [],
   "source": [
    "\n",
    "def opt(*args, **kwargs):\n",
    "    verbose_keys = ['cache', 'audio']\n",
    "    verbose(*args, **{k: v for k, v in kwargs.items() if k in verbose_keys})\n",
    "    par(**{k: v for k, v in kwargs.items() if k not in verbose_keys})\n",
    "\n",
    "def par(**kwargs):\n",
    "    kwargs = kwargs or dict(\n",
    "        # use=None,                       # No par, no progress bars (easier to see audio read/write and cache hit/miss)\n",
    "        # use='sync',                     # No par, cooperative progress bars (no lines printing over each other)\n",
    "        use='dask', scheduler='threads',  # Par, uncooperative progress bars (lines print over each other)\n",
    "    )\n",
    "    config['api']['recs']['progress_kwargs'] = kwargs\n",
    "\n",
    "def verbose(\n",
    "    both=None,       # Shorthand, e.g. verbose('warn') = verbose(cache='warn', audio='warn')\n",
    "    *,\n",
    "    cache='debug',   # Show cache hit/miss lines # WARNING Frequent hangs during bigger xc_similar_html calls...\n",
    "    # cache='info',  # Show cache hit/miss chars # WARNING (same)\n",
    "    # cache='warn',  # Quiet\n",
    "    audio='debug',   # Show read/write\n",
    "    # audio='info',  # Show write\n",
    "    # audio='warn',  # Quiet\n",
    "):\n",
    "    if both:\n",
    "        cache = both\n",
    "        audio = both\n",
    "    memory.log.level = cache\n",
    "    log_levels({'load': audio.upper()})\n",
    "\n",
    "def n_recs_by_sp_quality(df):\n",
    "    return (df\n",
    "        # Count recs by (species, quality)\n",
    "        .pipe(df_remove_unused_categories)\n",
    "        .assign(n=1).groupby(['species', 'quality']).n.sum().reset_index()\n",
    "        # Strip and restore .species cat around .pivot_table to workaround category error when adding .total\n",
    "        .pipe(df_cat_to_str)\n",
    "        # Pivot\n",
    "        .pivot_table(index='species', columns='quality', values='n', fill_value=0, aggfunc='sum',\n",
    "            margins=True, margins_name='total',  # FIXME 'total' ends up as NaN because we cat .species\n",
    "        )\n",
    "        # Restore .species cat\n",
    "        .reset_index().astype({'species': metadata.species.df.shorthand.dtype}).sort_values('species').set_index('species')\n",
    "        # Drop columns.name from .pivot_table ('quality')\n",
    "        .T.pipe(df_set_index_name, None).T\n",
    "        # Add .total\n",
    "        # .pipe(df_assign_first, total=lambda df: df.sum(axis=1))\n",
    "        .pipe(df_reorder_cols, first=['total'])\n",
    "        # Sort\n",
    "        .sort_values('total', ascending=False)\n",
    "    )"
   ]
  },
  {
   "cell_type": "code",
   "execution_count": null,
   "metadata": {},
   "outputs": [
    {
     "data": {
      "text/html": "<table border=\"1\" class=\"dataframe\">\n  <thead>\n    <tr style=\"text-align: right;\">\n      <th></th>\n      <th>total</th>\n      <th>A</th>\n      <th>B</th>\n      <th>C</th>\n      <th>D</th>\n      <th>E</th>\n      <th>no score</th>\n    </tr>\n    <tr>\n      <th>species</th>\n      <th></th>\n      <th></th>\n      <th></th>\n      <th></th>\n      <th></th>\n      <th></th>\n      <th></th>\n    </tr>\n  </thead>\n  <tbody>\n    <tr>\n      <th>NaN</th>\n      <td>35233</td>\n      <td>12109</td>\n      <td>14928</td>\n      <td>5434</td>\n      <td>1168</td>\n      <td>301</td>\n      <td>1293</td>\n    </tr>\n    <tr>\n      <th>RECR</th>\n      <td>659</td>\n      <td>94</td>\n      <td>281</td>\n      <td>209</td>\n      <td>63</td>\n      <td>12</td>\n      <td>0</td>\n    </tr>\n    <tr>\n      <th>SOSP</th>\n      <td>648</td>\n      <td>251</td>\n      <td>246</td>\n      <td>116</td>\n      <td>19</td>\n      <td>8</td>\n      <td>8</td>\n    </tr>\n    <tr>\n      <th>BEWR</th>\n      <td>522</td>\n      <td>168</td>\n      <td>252</td>\n      <td>69</td>\n      <td>3</td>\n      <td>0</td>\n      <td>30</td>\n    </tr>\n    <tr>\n      <th>SPTO</th>\n      <td>521</td>\n      <td>234</td>\n      <td>198</td>\n      <td>70</td>\n      <td>8</td>\n      <td>2</td>\n      <td>9</td>\n    </tr>\n    <tr>\n      <th>FOSP</th>\n      <td>501</td>\n      <td>267</td>\n      <td>153</td>\n      <td>59</td>\n      <td>14</td>\n      <td>1</td>\n      <td>7</td>\n    </tr>\n    <tr>\n      <th>RWBL</th>\n      <td>497</td>\n      <td>142</td>\n      <td>247</td>\n      <td>79</td>\n      <td>19</td>\n      <td>5</td>\n      <td>5</td>\n    </tr>\n    <tr>\n      <th>HOWR</th>\n      <td>476</td>\n      <td>163</td>\n      <td>219</td>\n      <td>55</td>\n      <td>13</td>\n      <td>2</td>\n      <td>24</td>\n    </tr>\n    <tr>\n      <th>AMRO</th>\n      <td>443</td>\n      <td>140</td>\n      <td>205</td>\n      <td>75</td>\n      <td>12</td>\n      <td>8</td>\n      <td>3</td>\n    </tr>\n    <tr>\n      <th>NOCA</th>\n      <td>407</td>\n      <td>128</td>\n      <td>182</td>\n      <td>71</td>\n      <td>15</td>\n      <td>6</td>\n      <td>5</td>\n    </tr>\n    <tr>\n      <th>SWTH</th>\n      <td>392</td>\n      <td>124</td>\n      <td>165</td>\n      <td>69</td>\n      <td>19</td>\n      <td>5</td>\n      <td>10</td>\n    </tr>\n    <tr>\n      <th>DEJU</th>\n      <td>392</td>\n      <td>136</td>\n      <td>150</td>\n      <td>68</td>\n      <td>11</td>\n      <td>3</td>\n      <td>24</td>\n    </tr>\n    <tr>\n      <th>WAVI</th>\n      <td>372</td>\n      <td>98</td>\n      <td>160</td>\n      <td>86</td>\n      <td>21</td>\n      <td>4</td>\n      <td>3</td>\n    </tr>\n    <tr>\n      <th>COYE</th>\n      <td>352</td>\n      <td>114</td>\n      <td>162</td>\n      <td>51</td>\n      <td>9</td>\n      <td>5</td>\n      <td>11</td>\n    </tr>\n    <tr>\n      <th>WTSP</th>\n      <td>348</td>\n      <td>71</td>\n      <td>198</td>\n      <td>54</td>\n      <td>14</td>\n      <td>5</td>\n      <td>6</td>\n    </tr>\n    <tr>\n      <th>CBTH</th>\n      <td>334</td>\n      <td>109</td>\n      <td>157</td>\n      <td>55</td>\n      <td>4</td>\n      <td>2</td>\n      <td>7</td>\n    </tr>\n    <tr>\n      <th>GRCA</th>\n      <td>303</td>\n      <td>83</td>\n      <td>147</td>\n      <td>56</td>\n      <td>12</td>\n      <td>5</td>\n      <td>0</td>\n    </tr>\n    <tr>\n      <th>WBNU</th>\n      <td>303</td>\n      <td>54</td>\n      <td>157</td>\n      <td>55</td>\n      <td>12</td>\n      <td>0</td>\n      <td>25</td>\n    </tr>\n    <tr>\n      <th>MAWR</th>\n      <td>290</td>\n      <td>91</td>\n      <td>150</td>\n      <td>34</td>\n      <td>8</td>\n      <td>4</td>\n      <td>3</td>\n    </tr>\n    <tr>\n      <th>WCSP</th>\n      <td>290</td>\n      <td>97</td>\n      <td>127</td>\n      <td>41</td>\n      <td>6</td>\n      <td>3</td>\n      <td>16</td>\n    </tr>\n  </tbody>\n</table>",
      "text/plain": "         total      A      B     C     D    E  no score\nspecies                                                \nNaN      35233  12109  14928  5434  1168  301      1293\nRECR       659     94    281   209    63   12         0\nSOSP       648    251    246   116    19    8         8\nBEWR       522    168    252    69     3    0        30\nSPTO       521    234    198    70     8    2         9\nFOSP       501    267    153    59    14    1         7\nRWBL       497    142    247    79    19    5         5\nHOWR       476    163    219    55    13    2        24\nAMRO       443    140    205    75    12    8         3\nNOCA       407    128    182    71    15    6         5\nSWTH       392    124    165    69    19    5        10\nDEJU       392    136    150    68    11    3        24\nWAVI       372     98    160    86    21    4         3\nCOYE       352    114    162    51     9    5        11\nWTSP       348     71    198    54    14    5         6\nCBTH       334    109    157    55     4    2         7\nGRCA       303     83    147    56    12    5         0\nWBNU       303     54    157    55    12    0        25\nMAWR       290     91    150    34     8    4         3\nWCSP       290     97    127    41     6    3        16"
     },
     "execution_count": 3,
     "metadata": {},
     "output_type": "execute_result"
    }
   ],
   "source": [
    "# How many recs per (species, quality)?\n",
    "(sg.xc_meta\n",
    "    # [lambda df: df.species.isin(['SNGO', 'HOFI', 'GWTE', 'YHBL'])]  # Faster dev\n",
    "    .pipe(n_recs_by_sp_quality)\n",
    "    .iloc[:20]\n",
    ")"
   ]
  },
  {
   "cell_type": "code",
   "execution_count": null,
   "metadata": {
    "time": "19.167s"
   },
   "outputs": [
    {
     "name": "stdout",
     "output_type": "stream",
     "text": "INFO     [17:28:52.790] [ 5049] 831 datasets/xc_meta_to_raw_recs: Loading xc.metadata -> xc_raw_recs (.audio, more metadata)... [slower]"
    },
    {
     "name": "stdout",
     "output_type": "stream",
     "text": "\n"
    },
    {
     "name": "stdout",
     "output_type": "stream",
     "text": "INFO     [17:28:52.799] [ 5049] 816 datasets/xc_meta_to_paths: Converting xc_meta -> xc_paths..."
    },
    {
     "name": "stdout",
     "output_type": "stream",
     "text": "\n"
    },
    {
     "name": "stdout",
     "output_type": "stream",
     "text": "\rto_paths_sliced: ["
    },
    {
     "name": "stdout",
     "output_type": "stream",
     "text": "                                                                           "
    },
    {
     "name": "stdout",
     "output_type": "stream",
     "text": "] |   0% Completed |  0.0s"
    },
    {
     "name": "stdout",
     "output_type": "stream",
     "text": "\rto_paths_sliced: ["
    },
    {
     "name": "stdout",
     "output_type": "stream",
     "text": "###########################################################################"
    },
    {
     "name": "stdout",
     "output_type": "stream",
     "text": "] | 100% Completed |  0.1s"
    },
    {
     "name": "stdout",
     "output_type": "stream",
     "text": "\n"
    },
    {
     "name": "stdout",
     "output_type": "stream",
     "text": "\raudio: ["
    },
    {
     "name": "stdout",
     "output_type": "stream",
     "text": "                                                                                     "
    },
    {
     "name": "stdout",
     "output_type": "stream",
     "text": "] |   0% Completed |  0.0s"
    },
    {
     "name": "stdout",
     "output_type": "stream",
     "text": "\raudio: ["
    },
    {
     "name": "stdout",
     "output_type": "stream",
     "text": "#####################################################################################"
    },
    {
     "name": "stdout",
     "output_type": "stream",
     "text": "] | 100% Completed |  0.1s"
    },
    {
     "name": "stdout",
     "output_type": "stream",
     "text": "\n"
    },
    {
     "name": "stdout",
     "output_type": "stream",
     "text": "INFO     [17:28:53.296] [ 5049] 831 datasets/xc_meta_to_raw_recs: Loading xc.metadata -> xc_raw_recs (.audio, more metadata)... [slower]"
    },
    {
     "name": "stdout",
     "output_type": "stream",
     "text": "\n"
    },
    {
     "name": "stdout",
     "output_type": "stream",
     "text": "INFO     [17:28:53.309] [ 5049] 816 datasets/xc_meta_to_paths: Converting xc_meta -> xc_paths..."
    },
    {
     "name": "stdout",
     "output_type": "stream",
     "text": "\n"
    },
    {
     "name": "stdout",
     "output_type": "stream",
     "text": "\rto_paths_sliced: ["
    },
    {
     "name": "stdout",
     "output_type": "stream",
     "text": "                                                                           "
    },
    {
     "name": "stdout",
     "output_type": "stream",
     "text": "] |   0% Completed |  0.0s"
    },
    {
     "name": "stdout",
     "output_type": "stream",
     "text": "\rto_paths_sliced: ["
    },
    {
     "name": "stdout",
     "output_type": "stream",
     "text": "###########################################################################"
    },
    {
     "name": "stdout",
     "output_type": "stream",
     "text": "] | 100% Completed |  0.1s"
    },
    {
     "name": "stdout",
     "output_type": "stream",
     "text": "\n"
    },
    {
     "name": "stdout",
     "output_type": "stream",
     "text": "\raudio: ["
    },
    {
     "name": "stdout",
     "output_type": "stream",
     "text": "                                                                                     "
    },
    {
     "name": "stdout",
     "output_type": "stream",
     "text": "] |   0% Completed |  0.0s"
    },
    {
     "name": "stdout",
     "output_type": "stream",
     "text": "\raudio: ["
    },
    {
     "name": "stdout",
     "output_type": "stream",
     "text": "                                                                                     "
    },
    {
     "name": "stdout",
     "output_type": "stream",
     "text": "] |   0% Completed |  0.1s"
    },
    {
     "name": "stdout",
     "output_type": "stream",
     "text": "\raudio: ["
    },
    {
     "name": "stdout",
     "output_type": "stream",
     "text": "                                                                                     "
    },
    {
     "name": "stdout",
     "output_type": "stream",
     "text": "] |   0% Completed |  0.3s"
    },
    {
     "name": "stdout",
     "output_type": "stream",
     "text": "\raudio: ["
    },
    {
     "name": "stdout",
     "output_type": "stream",
     "text": "                                                                                     "
    },
    {
     "name": "stdout",
     "output_type": "stream",
     "text": "] |   0% Completed |  0.5s"
    },
    {
     "name": "stdout",
     "output_type": "stream",
     "text": "\raudio: ["
    },
    {
     "name": "stdout",
     "output_type": "stream",
     "text": "                                                                                     "
    },
    {
     "name": "stdout",
     "output_type": "stream",
     "text": "] |   0% Completed |  0.6s"
    },
    {
     "name": "stdout",
     "output_type": "stream",
     "text": "\raudio: ["
    },
    {
     "name": "stdout",
     "output_type": "stream",
     "text": "                                                                                     "
    },
    {
     "name": "stdout",
     "output_type": "stream",
     "text": "] |   0% Completed |  0.8s"
    },
    {
     "name": "stdout",
     "output_type": "stream",
     "text": "\raudio: ["
    },
    {
     "name": "stdout",
     "output_type": "stream",
     "text": "                                                                                     "
    },
    {
     "name": "stdout",
     "output_type": "stream",
     "text": "] |   0% Completed |  1.0s"
    },
    {
     "name": "stdout",
     "output_type": "stream",
     "text": "\raudio: ["
    },
    {
     "name": "stdout",
     "output_type": "stream",
     "text": "                                                                                     "
    },
    {
     "name": "stdout",
     "output_type": "stream",
     "text": "] |   0% Completed |  1.1s"
    },
    {
     "name": "stdout",
     "output_type": "stream",
     "text": "\raudio: ["
    },
    {
     "name": "stdout",
     "output_type": "stream",
     "text": "                                                                                     "
    },
    {
     "name": "stdout",
     "output_type": "stream",
     "text": "] |   0% Completed |  1.3s"
    },
    {
     "name": "stdout",
     "output_type": "stream",
     "text": "\raudio: ["
    },
    {
     "name": "stdout",
     "output_type": "stream",
     "text": "                                                                                     "
    },
    {
     "name": "stdout",
     "output_type": "stream",
     "text": "] |   0% Completed |  1.4s"
    },
    {
     "name": "stdout",
     "output_type": "stream",
     "text": "\raudio: ["
    },
    {
     "name": "stdout",
     "output_type": "stream",
     "text": "                                                                                     "
    },
    {
     "name": "stdout",
     "output_type": "stream",
     "text": "] |   0% Completed |  1.6s"
    },
    {
     "name": "stdout",
     "output_type": "stream",
     "text": "\raudio: ["
    },
    {
     "name": "stdout",
     "output_type": "stream",
     "text": "                                                                                     "
    },
    {
     "name": "stdout",
     "output_type": "stream",
     "text": "] |   0% Completed |  1.7s"
    },
    {
     "name": "stdout",
     "output_type": "stream",
     "text": "\raudio: ["
    },
    {
     "name": "stdout",
     "output_type": "stream",
     "text": "                                                                                     "
    },
    {
     "name": "stdout",
     "output_type": "stream",
     "text": "] |   0% Completed |  1.9s"
    },
    {
     "name": "stdout",
     "output_type": "stream",
     "text": "\raudio: ["
    },
    {
     "name": "stdout",
     "output_type": "stream",
     "text": "                                                                                     "
    },
    {
     "name": "stdout",
     "output_type": "stream",
     "text": "] |   0% Completed |  2.0s"
    },
    {
     "name": "stdout",
     "output_type": "stream",
     "text": "\raudio: ["
    },
    {
     "name": "stdout",
     "output_type": "stream",
     "text": "                                                                                     "
    },
    {
     "name": "stdout",
     "output_type": "stream",
     "text": "] |   0% Completed |  2.2s"
    },
    {
     "name": "stdout",
     "output_type": "stream",
     "text": "\raudio: ["
    },
    {
     "name": "stdout",
     "output_type": "stream",
     "text": "                                                                                     "
    },
    {
     "name": "stdout",
     "output_type": "stream",
     "text": "] |   0% Completed |  2.3s"
    },
    {
     "name": "stdout",
     "output_type": "stream",
     "text": "\raudio: ["
    },
    {
     "name": "stdout",
     "output_type": "stream",
     "text": "                                                                                     "
    },
    {
     "name": "stdout",
     "output_type": "stream",
     "text": "] |   0% Completed |  2.5s"
    },
    {
     "name": "stdout",
     "output_type": "stream",
     "text": "\raudio: ["
    },
    {
     "name": "stdout",
     "output_type": "stream",
     "text": "                                                                                     "
    },
    {
     "name": "stdout",
     "output_type": "stream",
     "text": "] |   0% Completed |  2.7s"
    },
    {
     "name": "stdout",
     "output_type": "stream",
     "text": "\raudio: ["
    },
    {
     "name": "stdout",
     "output_type": "stream",
     "text": "######                                                                               "
    },
    {
     "name": "stdout",
     "output_type": "stream",
     "text": "] |   7% Completed |  2.8s"
    },
    {
     "name": "stdout",
     "output_type": "stream",
     "text": "\raudio: ["
    },
    {
     "name": "stdout",
     "output_type": "stream",
     "text": "##############                                                                       "
    },
    {
     "name": "stdout",
     "output_type": "stream",
     "text": "] |  17% Completed |  3.0s"
    },
    {
     "name": "stdout",
     "output_type": "stream",
     "text": "\raudio: ["
    },
    {
     "name": "stdout",
     "output_type": "stream",
     "text": "#################                                                                    "
    },
    {
     "name": "stdout",
     "output_type": "stream",
     "text": "] |  20% Completed |  3.2s"
    },
    {
     "name": "stdout",
     "output_type": "stream",
     "text": "\raudio: ["
    },
    {
     "name": "stdout",
     "output_type": "stream",
     "text": "#################                                                                    "
    },
    {
     "name": "stdout",
     "output_type": "stream",
     "text": "] |  20% Completed |  3.3s"
    },
    {
     "name": "stdout",
     "output_type": "stream",
     "text": "\raudio: ["
    },
    {
     "name": "stdout",
     "output_type": "stream",
     "text": "#################                                                                    "
    },
    {
     "name": "stdout",
     "output_type": "stream",
     "text": "] |  20% Completed |  3.5s"
    },
    {
     "name": "stdout",
     "output_type": "stream",
     "text": "\raudio: ["
    },
    {
     "name": "stdout",
     "output_type": "stream",
     "text": "#################                                                                    "
    },
    {
     "name": "stdout",
     "output_type": "stream",
     "text": "] |  20% Completed |  3.6s"
    },
    {
     "name": "stdout",
     "output_type": "stream",
     "text": "\raudio: ["
    },
    {
     "name": "stdout",
     "output_type": "stream",
     "text": "#################                                                                    "
    },
    {
     "name": "stdout",
     "output_type": "stream",
     "text": "] |  20% Completed |  3.8s"
    },
    {
     "name": "stdout",
     "output_type": "stream",
     "text": "\raudio: ["
    },
    {
     "name": "stdout",
     "output_type": "stream",
     "text": "#################                                                                    "
    },
    {
     "name": "stdout",
     "output_type": "stream",
     "text": "] |  20% Completed |  4.0s"
    },
    {
     "name": "stdout",
     "output_type": "stream",
     "text": "\raudio: ["
    },
    {
     "name": "stdout",
     "output_type": "stream",
     "text": "#################                                                                    "
    },
    {
     "name": "stdout",
     "output_type": "stream",
     "text": "] |  20% Completed |  4.1s"
    },
    {
     "name": "stdout",
     "output_type": "stream",
     "text": "\raudio: ["
    },
    {
     "name": "stdout",
     "output_type": "stream",
     "text": "#################                                                                    "
    },
    {
     "name": "stdout",
     "output_type": "stream",
     "text": "] |  20% Completed |  4.3s"
    },
    {
     "name": "stdout",
     "output_type": "stream",
     "text": "\raudio: ["
    },
    {
     "name": "stdout",
     "output_type": "stream",
     "text": "#################                                                                    "
    },
    {
     "name": "stdout",
     "output_type": "stream",
     "text": "] |  20% Completed |  4.5s"
    },
    {
     "name": "stdout",
     "output_type": "stream",
     "text": "\raudio: ["
    },
    {
     "name": "stdout",
     "output_type": "stream",
     "text": "#################                                                                    "
    },
    {
     "name": "stdout",
     "output_type": "stream",
     "text": "] |  20% Completed |  4.7s"
    },
    {
     "name": "stdout",
     "output_type": "stream",
     "text": "\raudio: ["
    },
    {
     "name": "stdout",
     "output_type": "stream",
     "text": "#################                                                                    "
    },
    {
     "name": "stdout",
     "output_type": "stream",
     "text": "] |  20% Completed |  4.8s"
    },
    {
     "name": "stdout",
     "output_type": "stream",
     "text": "\raudio: ["
    },
    {
     "name": "stdout",
     "output_type": "stream",
     "text": "#################                                                                    "
    },
    {
     "name": "stdout",
     "output_type": "stream",
     "text": "] |  20% Completed |  5.0s"
    },
    {
     "name": "stdout",
     "output_type": "stream",
     "text": "\raudio: ["
    },
    {
     "name": "stdout",
     "output_type": "stream",
     "text": "#################                                                                    "
    },
    {
     "name": "stdout",
     "output_type": "stream",
     "text": "] |  20% Completed |  5.1s"
    },
    {
     "name": "stdout",
     "output_type": "stream",
     "text": "\raudio: ["
    },
    {
     "name": "stdout",
     "output_type": "stream",
     "text": "#################                                                                    "
    },
    {
     "name": "stdout",
     "output_type": "stream",
     "text": "] |  20% Completed |  5.3s"
    },
    {
     "name": "stdout",
     "output_type": "stream",
     "text": "\raudio: ["
    },
    {
     "name": "stdout",
     "output_type": "stream",
     "text": "#################                                                                    "
    },
    {
     "name": "stdout",
     "output_type": "stream",
     "text": "] |  20% Completed |  5.5s"
    },
    {
     "name": "stdout",
     "output_type": "stream",
     "text": "\raudio: ["
    },
    {
     "name": "stdout",
     "output_type": "stream",
     "text": "####################                                                                 "
    },
    {
     "name": "stdout",
     "output_type": "stream",
     "text": "] |  23% Completed |  5.7s"
    },
    {
     "name": "stdout",
     "output_type": "stream",
     "text": "\raudio: ["
    },
    {
     "name": "stdout",
     "output_type": "stream",
     "text": "###############################                                                      "
    },
    {
     "name": "stdout",
     "output_type": "stream",
     "text": "] |  37% Completed |  5.8s"
    },
    {
     "name": "stdout",
     "output_type": "stream",
     "text": "\raudio: ["
    },
    {
     "name": "stdout",
     "output_type": "stream",
     "text": "##################################                                                   "
    },
    {
     "name": "stdout",
     "output_type": "stream",
     "text": "] |  40% Completed |  6.0s"
    },
    {
     "name": "stdout",
     "output_type": "stream",
     "text": "\raudio: ["
    },
    {
     "name": "stdout",
     "output_type": "stream",
     "text": "##################################                                                   "
    },
    {
     "name": "stdout",
     "output_type": "stream",
     "text": "] |  40% Completed |  6.1s"
    },
    {
     "name": "stdout",
     "output_type": "stream",
     "text": "\raudio: ["
    },
    {
     "name": "stdout",
     "output_type": "stream",
     "text": "##################################                                                   "
    },
    {
     "name": "stdout",
     "output_type": "stream",
     "text": "] |  40% Completed |  6.3s"
    },
    {
     "name": "stdout",
     "output_type": "stream",
     "text": "\raudio: ["
    },
    {
     "name": "stdout",
     "output_type": "stream",
     "text": "##################################                                                   "
    },
    {
     "name": "stdout",
     "output_type": "stream",
     "text": "] |  40% Completed |  6.5s"
    },
    {
     "name": "stdout",
     "output_type": "stream",
     "text": "\raudio: ["
    },
    {
     "name": "stdout",
     "output_type": "stream",
     "text": "##################################                                                   "
    },
    {
     "name": "stdout",
     "output_type": "stream",
     "text": "] |  40% Completed |  6.6s"
    },
    {
     "name": "stdout",
     "output_type": "stream",
     "text": "\raudio: ["
    },
    {
     "name": "stdout",
     "output_type": "stream",
     "text": "##################################                                                   "
    },
    {
     "name": "stdout",
     "output_type": "stream",
     "text": "] |  40% Completed |  6.8s"
    },
    {
     "name": "stdout",
     "output_type": "stream",
     "text": "\raudio: ["
    },
    {
     "name": "stdout",
     "output_type": "stream",
     "text": "##################################                                                   "
    },
    {
     "name": "stdout",
     "output_type": "stream",
     "text": "] |  40% Completed |  6.9s"
    },
    {
     "name": "stdout",
     "output_type": "stream",
     "text": "\raudio: ["
    },
    {
     "name": "stdout",
     "output_type": "stream",
     "text": "##################################                                                   "
    },
    {
     "name": "stdout",
     "output_type": "stream",
     "text": "] |  40% Completed |  7.1s"
    },
    {
     "name": "stdout",
     "output_type": "stream",
     "text": "\raudio: ["
    },
    {
     "name": "stdout",
     "output_type": "stream",
     "text": "##################################                                                   "
    },
    {
     "name": "stdout",
     "output_type": "stream",
     "text": "] |  40% Completed |  7.2s"
    },
    {
     "name": "stdout",
     "output_type": "stream",
     "text": "\raudio: ["
    },
    {
     "name": "stdout",
     "output_type": "stream",
     "text": "##################################                                                   "
    },
    {
     "name": "stdout",
     "output_type": "stream",
     "text": "] |  40% Completed |  7.4s"
    },
    {
     "name": "stdout",
     "output_type": "stream",
     "text": "\raudio: ["
    },
    {
     "name": "stdout",
     "output_type": "stream",
     "text": "##################################                                                   "
    },
    {
     "name": "stdout",
     "output_type": "stream",
     "text": "] |  40% Completed |  7.6s"
    },
    {
     "name": "stdout",
     "output_type": "stream",
     "text": "\raudio: ["
    },
    {
     "name": "stdout",
     "output_type": "stream",
     "text": "##################################                                                   "
    },
    {
     "name": "stdout",
     "output_type": "stream",
     "text": "] |  40% Completed |  7.8s"
    },
    {
     "name": "stdout",
     "output_type": "stream",
     "text": "\raudio: ["
    },
    {
     "name": "stdout",
     "output_type": "stream",
     "text": "##################################                                                   "
    },
    {
     "name": "stdout",
     "output_type": "stream",
     "text": "] |  40% Completed |  7.9s"
    },
    {
     "name": "stdout",
     "output_type": "stream",
     "text": "\raudio: ["
    },
    {
     "name": "stdout",
     "output_type": "stream",
     "text": "##################################                                                   "
    },
    {
     "name": "stdout",
     "output_type": "stream",
     "text": "] |  40% Completed |  8.1s"
    },
    {
     "name": "stdout",
     "output_type": "stream",
     "text": "\raudio: ["
    },
    {
     "name": "stdout",
     "output_type": "stream",
     "text": "##################################                                                   "
    },
    {
     "name": "stdout",
     "output_type": "stream",
     "text": "] |  40% Completed |  8.3s"
    },
    {
     "name": "stdout",
     "output_type": "stream",
     "text": "\raudio: ["
    },
    {
     "name": "stdout",
     "output_type": "stream",
     "text": "########################################                                             "
    },
    {
     "name": "stdout",
     "output_type": "stream",
     "text": "] |  47% Completed |  8.5s"
    },
    {
     "name": "stdout",
     "output_type": "stream",
     "text": "\raudio: ["
    },
    {
     "name": "stdout",
     "output_type": "stream",
     "text": "############################################                                         "
    },
    {
     "name": "stdout",
     "output_type": "stream",
     "text": "] |  52% Completed |  8.7s"
    },
    {
     "name": "stdout",
     "output_type": "stream",
     "text": "\raudio: ["
    },
    {
     "name": "stdout",
     "output_type": "stream",
     "text": "###################################################                                  "
    },
    {
     "name": "stdout",
     "output_type": "stream",
     "text": "] |  60% Completed |  8.8s"
    },
    {
     "name": "stdout",
     "output_type": "stream",
     "text": "\raudio: ["
    },
    {
     "name": "stdout",
     "output_type": "stream",
     "text": "###################################################                                  "
    },
    {
     "name": "stdout",
     "output_type": "stream",
     "text": "] |  60% Completed |  9.0s"
    },
    {
     "name": "stdout",
     "output_type": "stream",
     "text": "\raudio: ["
    },
    {
     "name": "stdout",
     "output_type": "stream",
     "text": "###################################################                                  "
    },
    {
     "name": "stdout",
     "output_type": "stream",
     "text": "] |  60% Completed |  9.2s"
    },
    {
     "name": "stdout",
     "output_type": "stream",
     "text": "\raudio: ["
    },
    {
     "name": "stdout",
     "output_type": "stream",
     "text": "###################################################                                  "
    },
    {
     "name": "stdout",
     "output_type": "stream",
     "text": "] |  60% Completed |  9.3s"
    },
    {
     "name": "stdout",
     "output_type": "stream",
     "text": "\raudio: ["
    },
    {
     "name": "stdout",
     "output_type": "stream",
     "text": "###################################################                                  "
    },
    {
     "name": "stdout",
     "output_type": "stream",
     "text": "] |  60% Completed |  9.5s"
    },
    {
     "name": "stdout",
     "output_type": "stream",
     "text": "\raudio: ["
    },
    {
     "name": "stdout",
     "output_type": "stream",
     "text": "###################################################                                  "
    },
    {
     "name": "stdout",
     "output_type": "stream",
     "text": "] |  60% Completed |  9.6s"
    },
    {
     "name": "stdout",
     "output_type": "stream",
     "text": "\raudio: ["
    },
    {
     "name": "stdout",
     "output_type": "stream",
     "text": "###################################################                                  "
    },
    {
     "name": "stdout",
     "output_type": "stream",
     "text": "] |  60% Completed |  9.8s"
    },
    {
     "name": "stdout",
     "output_type": "stream",
     "text": "\raudio: ["
    },
    {
     "name": "stdout",
     "output_type": "stream",
     "text": "###################################################                                  "
    },
    {
     "name": "stdout",
     "output_type": "stream",
     "text": "] |  60% Completed |  9.9s"
    },
    {
     "name": "stdout",
     "output_type": "stream",
     "text": "\raudio: ["
    },
    {
     "name": "stdout",
     "output_type": "stream",
     "text": "###################################################                                  "
    },
    {
     "name": "stdout",
     "output_type": "stream",
     "text": "] |  60% Completed | 10.1s"
    },
    {
     "name": "stdout",
     "output_type": "stream",
     "text": "\raudio: ["
    },
    {
     "name": "stdout",
     "output_type": "stream",
     "text": "###################################################                                  "
    },
    {
     "name": "stdout",
     "output_type": "stream",
     "text": "] |  60% Completed | 10.2s"
    },
    {
     "name": "stdout",
     "output_type": "stream",
     "text": "\raudio: ["
    },
    {
     "name": "stdout",
     "output_type": "stream",
     "text": "###################################################                                  "
    },
    {
     "name": "stdout",
     "output_type": "stream",
     "text": "] |  60% Completed | 10.4s"
    },
    {
     "name": "stdout",
     "output_type": "stream",
     "text": "\raudio: ["
    },
    {
     "name": "stdout",
     "output_type": "stream",
     "text": "###################################################                                  "
    },
    {
     "name": "stdout",
     "output_type": "stream",
     "text": "] |  60% Completed | 10.5s"
    },
    {
     "name": "stdout",
     "output_type": "stream",
     "text": "\raudio: ["
    },
    {
     "name": "stdout",
     "output_type": "stream",
     "text": "###################################################                                  "
    },
    {
     "name": "stdout",
     "output_type": "stream",
     "text": "] |  60% Completed | 10.7s"
    },
    {
     "name": "stdout",
     "output_type": "stream",
     "text": "\raudio: ["
    },
    {
     "name": "stdout",
     "output_type": "stream",
     "text": "###################################################                                  "
    },
    {
     "name": "stdout",
     "output_type": "stream",
     "text": "] |  60% Completed | 10.8s"
    },
    {
     "name": "stdout",
     "output_type": "stream",
     "text": "\raudio: ["
    },
    {
     "name": "stdout",
     "output_type": "stream",
     "text": "###################################################                                  "
    },
    {
     "name": "stdout",
     "output_type": "stream",
     "text": "] |  60% Completed | 11.0s"
    },
    {
     "name": "stdout",
     "output_type": "stream",
     "text": "\raudio: ["
    },
    {
     "name": "stdout",
     "output_type": "stream",
     "text": "#####################################################                                "
    },
    {
     "name": "stdout",
     "output_type": "stream",
     "text": "] |  62% Completed | 11.2s"
    },
    {
     "name": "stdout",
     "output_type": "stream",
     "text": "\raudio: ["
    },
    {
     "name": "stdout",
     "output_type": "stream",
     "text": "#########################################################                            "
    },
    {
     "name": "stdout",
     "output_type": "stream",
     "text": "] |  67% Completed | 11.4s"
    },
    {
     "name": "stdout",
     "output_type": "stream",
     "text": "\raudio: ["
    },
    {
     "name": "stdout",
     "output_type": "stream",
     "text": "###############################################################                      "
    },
    {
     "name": "stdout",
     "output_type": "stream",
     "text": "] |  75% Completed | 11.6s"
    },
    {
     "name": "stdout",
     "output_type": "stream",
     "text": "\raudio: ["
    },
    {
     "name": "stdout",
     "output_type": "stream",
     "text": "####################################################################                 "
    },
    {
     "name": "stdout",
     "output_type": "stream",
     "text": "] |  80% Completed | 11.8s"
    },
    {
     "name": "stdout",
     "output_type": "stream",
     "text": "\raudio: ["
    },
    {
     "name": "stdout",
     "output_type": "stream",
     "text": "####################################################################                 "
    },
    {
     "name": "stdout",
     "output_type": "stream",
     "text": "] |  80% Completed | 11.9s"
    },
    {
     "name": "stdout",
     "output_type": "stream",
     "text": "\raudio: ["
    },
    {
     "name": "stdout",
     "output_type": "stream",
     "text": "####################################################################                 "
    },
    {
     "name": "stdout",
     "output_type": "stream",
     "text": "] |  80% Completed | 12.1s"
    },
    {
     "name": "stdout",
     "output_type": "stream",
     "text": "\raudio: ["
    },
    {
     "name": "stdout",
     "output_type": "stream",
     "text": "####################################################################                 "
    },
    {
     "name": "stdout",
     "output_type": "stream",
     "text": "] |  80% Completed | 12.3s"
    },
    {
     "name": "stdout",
     "output_type": "stream",
     "text": "\raudio: ["
    },
    {
     "name": "stdout",
     "output_type": "stream",
     "text": "####################################################################                 "
    },
    {
     "name": "stdout",
     "output_type": "stream",
     "text": "] |  80% Completed | 12.5s"
    },
    {
     "name": "stdout",
     "output_type": "stream",
     "text": "\raudio: ["
    },
    {
     "name": "stdout",
     "output_type": "stream",
     "text": "####################################################################                 "
    },
    {
     "name": "stdout",
     "output_type": "stream",
     "text": "] |  80% Completed | 12.6s"
    },
    {
     "name": "stdout",
     "output_type": "stream",
     "text": "\raudio: ["
    },
    {
     "name": "stdout",
     "output_type": "stream",
     "text": "####################################################################                 "
    },
    {
     "name": "stdout",
     "output_type": "stream",
     "text": "] |  80% Completed | 12.8s"
    },
    {
     "name": "stdout",
     "output_type": "stream",
     "text": "\raudio: ["
    },
    {
     "name": "stdout",
     "output_type": "stream",
     "text": "####################################################################                 "
    },
    {
     "name": "stdout",
     "output_type": "stream",
     "text": "] |  80% Completed | 12.9s"
    },
    {
     "name": "stdout",
     "output_type": "stream",
     "text": "\raudio: ["
    },
    {
     "name": "stdout",
     "output_type": "stream",
     "text": "####################################################################                 "
    },
    {
     "name": "stdout",
     "output_type": "stream",
     "text": "] |  80% Completed | 13.0s"
    },
    {
     "name": "stdout",
     "output_type": "stream",
     "text": "\raudio: ["
    },
    {
     "name": "stdout",
     "output_type": "stream",
     "text": "####################################################################                 "
    },
    {
     "name": "stdout",
     "output_type": "stream",
     "text": "] |  80% Completed | 13.2s"
    },
    {
     "name": "stdout",
     "output_type": "stream",
     "text": "\raudio: ["
    },
    {
     "name": "stdout",
     "output_type": "stream",
     "text": "####################################################################                 "
    },
    {
     "name": "stdout",
     "output_type": "stream",
     "text": "] |  80% Completed | 13.3s"
    },
    {
     "name": "stdout",
     "output_type": "stream",
     "text": "\raudio: ["
    },
    {
     "name": "stdout",
     "output_type": "stream",
     "text": "####################################################################                 "
    },
    {
     "name": "stdout",
     "output_type": "stream",
     "text": "] |  80% Completed | 13.5s"
    },
    {
     "name": "stdout",
     "output_type": "stream",
     "text": "\raudio: ["
    },
    {
     "name": "stdout",
     "output_type": "stream",
     "text": "####################################################################                 "
    },
    {
     "name": "stdout",
     "output_type": "stream",
     "text": "] |  80% Completed | 13.7s"
    },
    {
     "name": "stdout",
     "output_type": "stream",
     "text": "\raudio: ["
    },
    {
     "name": "stdout",
     "output_type": "stream",
     "text": "####################################################################                 "
    },
    {
     "name": "stdout",
     "output_type": "stream",
     "text": "] |  80% Completed | 13.8s"
    },
    {
     "name": "stdout",
     "output_type": "stream",
     "text": "\raudio: ["
    },
    {
     "name": "stdout",
     "output_type": "stream",
     "text": "#####################################################################                "
    },
    {
     "name": "stdout",
     "output_type": "stream",
     "text": "] |  81% Completed | 14.0s"
    },
    {
     "name": "stdout",
     "output_type": "stream",
     "text": "\raudio: ["
    },
    {
     "name": "stdout",
     "output_type": "stream",
     "text": "#########################################################################            "
    },
    {
     "name": "stdout",
     "output_type": "stream",
     "text": "] |  86% Completed | 14.2s"
    },
    {
     "name": "stdout",
     "output_type": "stream",
     "text": "\raudio: ["
    },
    {
     "name": "stdout",
     "output_type": "stream",
     "text": "############################################################################         "
    },
    {
     "name": "stdout",
     "output_type": "stream",
     "text": "] |  90% Completed | 14.3s"
    },
    {
     "name": "stdout",
     "output_type": "stream",
     "text": "\raudio: ["
    },
    {
     "name": "stdout",
     "output_type": "stream",
     "text": "#####################################################################################"
    },
    {
     "name": "stdout",
     "output_type": "stream",
     "text": "] | 100% Completed | 14.4s"
    },
    {
     "name": "stdout",
     "output_type": "stream",
     "text": "\n"
    },
    {
     "name": "stdout",
     "output_type": "stream",
     "text": "\rspectro: ["
    },
    {
     "name": "stdout",
     "output_type": "stream",
     "text": "                                                                                   "
    },
    {
     "name": "stdout",
     "output_type": "stream",
     "text": "] |   0% Completed |  0.0s"
    },
    {
     "name": "stdout",
     "output_type": "stream",
     "text": "\rspectro: ["
    },
    {
     "name": "stdout",
     "output_type": "stream",
     "text": "###################################################################################"
    },
    {
     "name": "stdout",
     "output_type": "stream",
     "text": "] | 100% Completed |  0.1s"
    },
    {
     "name": "stdout",
     "output_type": "stream",
     "text": "\n"
    },
    {
     "name": "stdout",
     "output_type": "stream",
     "text": "\rplot_slice: ["
    },
    {
     "name": "stdout",
     "output_type": "stream",
     "text": "                                                                                "
    },
    {
     "name": "stdout",
     "output_type": "stream",
     "text": "] |   0% Completed |  0.0s"
    },
    {
     "name": "stdout",
     "output_type": "stream",
     "text": "\rplot_slice: ["
    },
    {
     "name": "stdout",
     "output_type": "stream",
     "text": "################################################################################"
    },
    {
     "name": "stdout",
     "output_type": "stream",
     "text": "] | 100% Completed |  0.1s"
    },
    {
     "name": "stdout",
     "output_type": "stream",
     "text": "\n"
    },
    {
     "data": {
      "text/html": "<table border=\"1\" class=\"dataframe\">\n  <thead>\n    <tr style=\"text-align: right;\">\n      <th></th>\n      <th>total</th>\n      <th>A</th>\n    </tr>\n    <tr>\n      <th>species</th>\n      <th></th>\n      <th></th>\n    </tr>\n  </thead>\n  <tbody>\n    <tr>\n      <th>NaN</th>\n      <td>1</td>\n      <td>1</td>\n    </tr>\n    <tr>\n      <th>YHBL</th>\n      <td>1</td>\n      <td>1</td>\n    </tr>\n  </tbody>\n</table>",
      "text/plain": "         total  A\nspecies          \nNaN          1  1\nYHBL         1  1"
     },
     "metadata": {},
     "output_type": "display_data",
     "transient": {}
    },
    {
     "name": "stdout",
     "output_type": "stream",
     "text": "[mem_delta] {\n  'rss': '323056 KB',\n  'vms': '326164 KB',\n  'pfaults': '1616 KB',\n  'pageins': '0 KB',\n  'uss': '304268 KB'\n}"
    },
    {
     "name": "stdout",
     "output_type": "stream",
     "text": "\n"
    }
   ],
   "source": [
    "opt('warn', use='dask', scheduler='threads')  # Quiet + par + progress bars\n",
    "with print_mem_delta(collect_before=True, collect_after=False):\n",
    "    display(\n",
    "        xc_similar_html(\n",
    "            sort='d_fc',\n",
    "            sp_cols='species',\n",
    "            view=False,  # Disable html view else n_recs_by_sp_quality gets junk .species values\n",
    "\n",
    "            # XXX Before to_paths_sliced fix\n",
    "            # Timing: quiet + par + progress bars + cache hits\n",
    "            # xc_id=381417, n_total=None, n_sp=1,  sample_r=1,     # t[1.3s] m[   0m] n_recs[    2] p[audio  .1                       spectro  .1 plot  .1]\n",
    "            # xc_id=381417, n_total=None, n_sp=1,  sample_r=None,  # t[2.4s] m[  35m] n_recs[   33] p[audio  .9                       spectro  .1 plot  .5]\n",
    "            # xc_id=381417, n_total=None, n_sp=2,  sample_r=None,  # t[4.7s] m[  88m] n_recs[   77] p[audio  .2 slice  .2 persist 2.4 spectro  .2 plot 1.2]\n",
    "            # xc_id=381417, n_total=None, n_sp=10, sample_r=None,  # t[ 40s] m[3500m] n_recs[  718] p[audio 1.9 slice 1.4 persist  20 spectro 1.2 plot  13]\n",
    "            # xc_id=381417, n_total=None, n_sp=20, sample_r=None,  # t[118s] m[5300m] n_recs[ 1817] p[audio   7 slice   4 persist  58 spectro   3 plot  33]\n",
    "            # xc_id=381417, n_total=None, n_sp=30, sample_r=None,  # t[172s] m[2600m] n_recs[ 2562] p[audio 9.4 slice   6 persist  92 spectro   4 plot  45]\n",
    "            # xc_id=381417, n_total=None, n_sp=40, sample_r=None,  # t[242s] m[2650m] n_recs[ 3880] p[audio  21 slice  12 persist 105 spectro 6.4 plot  73]\n",
    "            # xc_id=381417, n_total=None, n_sp=50, sample_r=None,  # t[  ?s] m[   ?m] n_recs[    ?] p[] FIXME Seemed not mem safe? ^C'd\n",
    "\n",
    "            # Focus: Ignore O(n) plot_slice calls (more like O(10–100) in practice)\n",
    "            # xc_id=381417, n_total=1,    n_sp=2,  sample_r=None,  # t[4.3s] m[  31m] n_recs[    1] p[audio  .2 slice  .2 persist 2.1 spectro  .1 plot  .1]\n",
    "\n",
    "            # Retry after to_paths_sliced fix\n",
    "            #   - NOTE to_paths_sliced happens twice -- first pass is DF([query_rec]), which is expected and a-ok\n",
    "            # xc_id=381417, n_total=1,    n_sp=2,  sample_r=None,  # t[4.2s] m[  30m] n_recs[    –] p[paths  .1 audio 1.6 spectro  .1 plot  .1]\n",
    "            # xc_id=381417, n_total=1,    n_sp=10, sample_r=None,  # t[ 19s] m[ 891m] n_recs[    –] p[paths  .1 audio  14 spectro  .1 plot  .1]\n",
    "            # ...\n",
    "\n",
    "            # TODO TODO More \"Retry\" measurements to compare vs. \"Before to_paths_sliced fix\"\n",
    "            # TODO TODO Then think about the new .audio bottleneck -- is it essential, or a bug?\n",
    "            # TODO TODO Then continue [copied verbatim from notes as Mon am refresher -- delete after reading to avoid duplication]:\n",
    "            #   - [ ] How to kill the sample_r hack? Blocking learning the model's behaviors from using /similar (b/c random sample per sp)\n",
    "            #     - cache/joblib/ vs. sqlite?\n",
    "            #       - Is warming all the caches the way to go? What params need pinning to make that work (e.g. audio_s)? How slow to\n",
    "            #         recompute when the model updates?\n",
    "            #       - Would it be any simpler/faster to precompute a different representation than the joblib cache? e.g. a big sqlite\n",
    "            #         file, or a big df pkl? How to maintain incrementalism, and is that still helpful?\n",
    "            #     - [.] Disable sample_r to understand what unsampled operation would look like\n",
    "            #     - [.] Grok state of read/write ops (local is fine), to answer whether we can make it faster without e.g. sqlite overhaul\n",
    "            #     - [ ] Overhaul rebuild_cache \"Cache 10s slices\" section to reuse api.recs functions instead of doing it itself (duh)\n",
    "            #         - e.g. sliced .audio and .feat are cached, but plot_slice isn't because we're mistakenly caching .spectro in rebuild_cache (oops)\n",
    "\n",
    "        )\n",
    "        .pipe(n_recs_by_sp_quality)\n",
    "    )"
   ]
  },
  {
   "cell_type": "code",
   "execution_count": null,
   "metadata": {
    "time": "2.775s"
   },
   "outputs": [],
   "source": [
    "# Q: Why is rec_audio_persist a bottleneck? -- shouldn't it be a noop?\n",
    "#   - XXX Fixed!\n",
    "\n",
    "# opt('warn', use='dask', scheduler='threads')  # Quiet + par + progress bars\n",
    "opt('debug', use='sync')  # Verbose + sync + no progress bars\n",
    "\n",
    "xc_similar_html(sort='d_fc', sp_cols='species',\n",
    "\n",
    "    # xc_id=381417, n_total=5, n_sp=2,  sample_r=1,  # No rec_audio_persist\n",
    "    # xc_id=381417, n_total=5, n_sp=16, sample_r=1,  # No rec_audio_persist\n",
    "    # xc_id=381417, n_total=5, n_sp=17, sample_r=1,  # Yes rec_audio_persist [old behavior]\n",
    "\n",
    "    xc_id=381417, n_total=5, n_sp=20, sample_r=1,\n",
    "\n",
    ")"
   ]
  },
  {
   "cell_type": "code",
   "execution_count": null,
   "metadata": {},
   "outputs": [],
   "source": []
  }
 ],
 "metadata": {
  "kernelspec": {
   "display_name": "bubo-features (PYTHONSTARTUP)",
   "language": "python",
   "name": "bubo-features (PYTHONSTARTUP)"
  }
 },
 "nbformat": 4,
 "nbformat_minor": 2
}
