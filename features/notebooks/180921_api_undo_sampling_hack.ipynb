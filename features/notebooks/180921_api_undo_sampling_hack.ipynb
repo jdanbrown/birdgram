{
 "cells": [
  {
   "cell_type": "code",
   "execution_count": null,
   "metadata": {
    "time": "2.285s"
   },
   "outputs": [
    {
     "name": "stdout",
     "output_type": "stream",
     "text": "INFO     [19:18:28.379] [50511]  52 logging_/init_logging: {logging_yaml: None}"
    },
    {
     "name": "stdout",
     "output_type": "stream",
     "text": "\n"
    },
    {
     "name": "stdout",
     "output_type": "stream",
     "text": "INFO     [19:18:28.684] [50511]  29 api.server_globals/init"
    },
    {
     "name": "stdout",
     "output_type": "stream",
     "text": "\n"
    },
    {
     "name": "stdout",
     "output_type": "stream",
     "text": "INFO     [19:18:29.376] [50511]  31 api.server_globals/init: done"
    },
    {
     "name": "stdout",
     "output_type": "stream",
     "text": "\n"
    }
   ],
   "source": [
    "from notebooks import *\n",
    "sg.init(app=None)"
   ]
  },
  {
   "cell_type": "code",
   "execution_count": null,
   "metadata": {},
   "outputs": [],
   "source": [
    "\n",
    "def opt(*args, **kwargs):\n",
    "    verbose_keys = ['cache', 'audio']\n",
    "    verbose(*args, **{k: v for k, v in kwargs.items() if k in verbose_keys})\n",
    "    par(**{k: v for k, v in kwargs.items() if k not in verbose_keys})\n",
    "\n",
    "def par(**kwargs):\n",
    "    \"\"\"\n",
    "    Usage:\n",
    "        par(use=None)                         # No par, no progress bars (easier to see audio read/write and cache hit/miss)\n",
    "        par(use='sync')                       # No par, cooperative progress bars (no lines printing over each other)\n",
    "        par(use='dask', scheduler='threads')  # Par, uncooperative progress bars (lines print over each other)\n",
    "    \"\"\"\n",
    "    progress_kwargs(override=kwargs)\n",
    "\n",
    "def verbose(\n",
    "    both=None,       # Shorthand, e.g. verbose('warn') = verbose(cache='warn', audio='warn')\n",
    "    *,\n",
    "    cache='debug',   # Show cache hit/miss lines # WARNING Frequent hangs during bigger xc_similar_html calls...\n",
    "    # cache='info',  # Show cache hit/miss chars # WARNING (same)\n",
    "    # cache='warn',  # Quiet\n",
    "    audio='debug',   # Show read/write\n",
    "    # audio='info',  # Show write\n",
    "    # audio='warn',  # Quiet\n",
    "):\n",
    "    if both:\n",
    "        cache = both\n",
    "        audio = both\n",
    "    memory.log.level = cache\n",
    "    log_levels({'load': audio.upper()})\n",
    "\n",
    "def n_recs_by_sp_quality(df):\n",
    "    return (df\n",
    "        # Count recs by (species, quality)\n",
    "        .pipe(df_remove_unused_categories)\n",
    "        .assign(n=1).groupby(['species', 'quality']).n.sum().reset_index()\n",
    "        # Strip and restore .species cat around .pivot_table to workaround category error when adding .total\n",
    "        .pipe(df_cat_to_str)\n",
    "        # Pivot\n",
    "        .pivot_table(index='species', columns='quality', values='n', fill_value=0, aggfunc='sum',\n",
    "            margins=True, margins_name='total',  # FIXME 'total' ends up as NaN because we cat .species\n",
    "        )\n",
    "        # Restore .species cat\n",
    "        .reset_index().astype({'species': metadata.species.df.shorthand.dtype}).sort_values('species').set_index('species')\n",
    "        # Drop columns.name from .pivot_table ('quality')\n",
    "        .T.pipe(df_set_index_name, None).T\n",
    "        # Add .total\n",
    "        # .pipe(df_assign_first, total=lambda df: df.sum(axis=1))\n",
    "        .pipe(df_reorder_cols, first=['total'])\n",
    "        # Sort\n",
    "        .sort_values('total', ascending=False)\n",
    "    )"
   ]
  },
  {
   "cell_type": "code",
   "execution_count": null,
   "metadata": {},
   "outputs": [
    {
     "data": {
      "text/html": "<table border=\"1\" class=\"dataframe\">\n  <thead>\n    <tr style=\"text-align: right;\">\n      <th></th>\n      <th>total</th>\n      <th>A</th>\n      <th>B</th>\n      <th>C</th>\n      <th>D</th>\n      <th>E</th>\n      <th>no score</th>\n    </tr>\n    <tr>\n      <th>species</th>\n      <th></th>\n      <th></th>\n      <th></th>\n      <th></th>\n      <th></th>\n      <th></th>\n      <th></th>\n    </tr>\n  </thead>\n  <tbody>\n    <tr>\n      <th>NaN</th>\n      <td>35233</td>\n      <td>12109</td>\n      <td>14928</td>\n      <td>5434</td>\n      <td>1168</td>\n      <td>301</td>\n      <td>1293</td>\n    </tr>\n    <tr>\n      <th>RECR</th>\n      <td>659</td>\n      <td>94</td>\n      <td>281</td>\n      <td>209</td>\n      <td>63</td>\n      <td>12</td>\n      <td>0</td>\n    </tr>\n    <tr>\n      <th>SOSP</th>\n      <td>648</td>\n      <td>251</td>\n      <td>246</td>\n      <td>116</td>\n      <td>19</td>\n      <td>8</td>\n      <td>8</td>\n    </tr>\n    <tr>\n      <th>BEWR</th>\n      <td>522</td>\n      <td>168</td>\n      <td>252</td>\n      <td>69</td>\n      <td>3</td>\n      <td>0</td>\n      <td>30</td>\n    </tr>\n    <tr>\n      <th>SPTO</th>\n      <td>521</td>\n      <td>234</td>\n      <td>198</td>\n      <td>70</td>\n      <td>8</td>\n      <td>2</td>\n      <td>9</td>\n    </tr>\n    <tr>\n      <th>FOSP</th>\n      <td>501</td>\n      <td>267</td>\n      <td>153</td>\n      <td>59</td>\n      <td>14</td>\n      <td>1</td>\n      <td>7</td>\n    </tr>\n    <tr>\n      <th>RWBL</th>\n      <td>497</td>\n      <td>142</td>\n      <td>247</td>\n      <td>79</td>\n      <td>19</td>\n      <td>5</td>\n      <td>5</td>\n    </tr>\n    <tr>\n      <th>HOWR</th>\n      <td>476</td>\n      <td>163</td>\n      <td>219</td>\n      <td>55</td>\n      <td>13</td>\n      <td>2</td>\n      <td>24</td>\n    </tr>\n    <tr>\n      <th>AMRO</th>\n      <td>443</td>\n      <td>140</td>\n      <td>205</td>\n      <td>75</td>\n      <td>12</td>\n      <td>8</td>\n      <td>3</td>\n    </tr>\n    <tr>\n      <th>NOCA</th>\n      <td>407</td>\n      <td>128</td>\n      <td>182</td>\n      <td>71</td>\n      <td>15</td>\n      <td>6</td>\n      <td>5</td>\n    </tr>\n    <tr>\n      <th>SWTH</th>\n      <td>392</td>\n      <td>124</td>\n      <td>165</td>\n      <td>69</td>\n      <td>19</td>\n      <td>5</td>\n      <td>10</td>\n    </tr>\n    <tr>\n      <th>DEJU</th>\n      <td>392</td>\n      <td>136</td>\n      <td>150</td>\n      <td>68</td>\n      <td>11</td>\n      <td>3</td>\n      <td>24</td>\n    </tr>\n    <tr>\n      <th>WAVI</th>\n      <td>372</td>\n      <td>98</td>\n      <td>160</td>\n      <td>86</td>\n      <td>21</td>\n      <td>4</td>\n      <td>3</td>\n    </tr>\n    <tr>\n      <th>COYE</th>\n      <td>352</td>\n      <td>114</td>\n      <td>162</td>\n      <td>51</td>\n      <td>9</td>\n      <td>5</td>\n      <td>11</td>\n    </tr>\n    <tr>\n      <th>WTSP</th>\n      <td>348</td>\n      <td>71</td>\n      <td>198</td>\n      <td>54</td>\n      <td>14</td>\n      <td>5</td>\n      <td>6</td>\n    </tr>\n    <tr>\n      <th>CBTH</th>\n      <td>334</td>\n      <td>109</td>\n      <td>157</td>\n      <td>55</td>\n      <td>4</td>\n      <td>2</td>\n      <td>7</td>\n    </tr>\n    <tr>\n      <th>GRCA</th>\n      <td>303</td>\n      <td>83</td>\n      <td>147</td>\n      <td>56</td>\n      <td>12</td>\n      <td>5</td>\n      <td>0</td>\n    </tr>\n    <tr>\n      <th>WBNU</th>\n      <td>303</td>\n      <td>54</td>\n      <td>157</td>\n      <td>55</td>\n      <td>12</td>\n      <td>0</td>\n      <td>25</td>\n    </tr>\n    <tr>\n      <th>MAWR</th>\n      <td>290</td>\n      <td>91</td>\n      <td>150</td>\n      <td>34</td>\n      <td>8</td>\n      <td>4</td>\n      <td>3</td>\n    </tr>\n    <tr>\n      <th>WCSP</th>\n      <td>290</td>\n      <td>97</td>\n      <td>127</td>\n      <td>41</td>\n      <td>6</td>\n      <td>3</td>\n      <td>16</td>\n    </tr>\n  </tbody>\n</table>",
      "text/plain": "         total      A      B     C     D    E  no score\nspecies                                                \nNaN      35233  12109  14928  5434  1168  301      1293\nRECR       659     94    281   209    63   12         0\nSOSP       648    251    246   116    19    8         8\nBEWR       522    168    252    69     3    0        30\nSPTO       521    234    198    70     8    2         9\nFOSP       501    267    153    59    14    1         7\nRWBL       497    142    247    79    19    5         5\nHOWR       476    163    219    55    13    2        24\nAMRO       443    140    205    75    12    8         3\nNOCA       407    128    182    71    15    6         5\nSWTH       392    124    165    69    19    5        10\nDEJU       392    136    150    68    11    3        24\nWAVI       372     98    160    86    21    4         3\nCOYE       352    114    162    51     9    5        11\nWTSP       348     71    198    54    14    5         6\nCBTH       334    109    157    55     4    2         7\nGRCA       303     83    147    56    12    5         0\nWBNU       303     54    157    55    12    0        25\nMAWR       290     91    150    34     8    4         3\nWCSP       290     97    127    41     6    3        16"
     },
     "execution_count": 3,
     "metadata": {},
     "output_type": "execute_result"
    }
   ],
   "source": [
    "# How many recs per (species, quality)?\n",
    "(sg.xc_meta\n",
    "    # [lambda df: df.species.isin(['SNGO', 'HOFI', 'GWTE', 'YHBL'])]  # Faster dev\n",
    "    .pipe(n_recs_by_sp_quality)\n",
    "    .iloc[:20]\n",
    ")"
   ]
  },
  {
   "cell_type": "code",
   "execution_count": null,
   "metadata": {
    "time": "5.636s"
   },
   "outputs": [
    {
     "name": "stdout",
     "output_type": "stream",
     "text": "INFO     [19:31:02.255] [50511] 831 datasets/xc_meta_to_raw_recs: Loading xc.metadata -> xc_raw_recs (.audio, more metadata)... [slower]"
    },
    {
     "name": "stdout",
     "output_type": "stream",
     "text": "\n"
    },
    {
     "name": "stdout",
     "output_type": "stream",
     "text": "INFO     [19:31:02.281] [50511] 816 datasets/xc_meta_to_paths: Converting xc_meta -> xc_paths..."
    },
    {
     "name": "stdout",
     "output_type": "stream",
     "text": "\n"
    },
    {
     "name": "stdout",
     "output_type": "stream",
     "text": "\rto_paths_sliced: ["
    },
    {
     "name": "stdout",
     "output_type": "stream",
     "text": "                                                                                 "
    },
    {
     "name": "stdout",
     "output_type": "stream",
     "text": "] |   0% (1) |  0.0s"
    },
    {
     "name": "stdout",
     "output_type": "stream",
     "text": "\rto_paths_sliced: ["
    },
    {
     "name": "stdout",
     "output_type": "stream",
     "text": "#################################################################################"
    },
    {
     "name": "stdout",
     "output_type": "stream",
     "text": "] | 100% (1) |  0.1s"
    },
    {
     "name": "stdout",
     "output_type": "stream",
     "text": "\n"
    },
    {
     "name": "stdout",
     "output_type": "stream",
     "text": "\raudio_metadata: ["
    },
    {
     "name": "stdout",
     "output_type": "stream",
     "text": "                                                                                  "
    },
    {
     "name": "stdout",
     "output_type": "stream",
     "text": "] |   0% (1) |  0.0s"
    },
    {
     "name": "stdout",
     "output_type": "stream",
     "text": "\raudio_metadata: ["
    },
    {
     "name": "stdout",
     "output_type": "stream",
     "text": "##################################################################################"
    },
    {
     "name": "stdout",
     "output_type": "stream",
     "text": "] | 100% (1) |  0.1s"
    },
    {
     "name": "stdout",
     "output_type": "stream",
     "text": "\n"
    },
    {
     "name": "stdout",
     "output_type": "stream",
     "text": "\rfeat: ["
    },
    {
     "name": "stdout",
     "output_type": "stream",
     "text": "                                                                                            "
    },
    {
     "name": "stdout",
     "output_type": "stream",
     "text": "] |   0% (1) |  0.0s"
    },
    {
     "name": "stdout",
     "output_type": "stream",
     "text": "\rfeat: ["
    },
    {
     "name": "stdout",
     "output_type": "stream",
     "text": "############################################################################################"
    },
    {
     "name": "stdout",
     "output_type": "stream",
     "text": "] | 100% (1) |  0.1s"
    },
    {
     "name": "stdout",
     "output_type": "stream",
     "text": "\n"
    },
    {
     "name": "stdout",
     "output_type": "stream",
     "text": "INFO     [19:31:02.929] [50511] 831 datasets/xc_meta_to_raw_recs: Loading xc.metadata -> xc_raw_recs (.audio, more metadata)... [slower]"
    },
    {
     "name": "stdout",
     "output_type": "stream",
     "text": "\n"
    },
    {
     "name": "stdout",
     "output_type": "stream",
     "text": "INFO     [19:31:02.947] [50511] 816 datasets/xc_meta_to_paths: Converting xc_meta -> xc_paths..."
    },
    {
     "name": "stdout",
     "output_type": "stream",
     "text": "\n"
    },
    {
     "name": "stdout",
     "output_type": "stream",
     "text": "WARNING  [19:31:04.590] [50511] 345 util/to_sliced_id: Dropping id with no cached slice (maybe b/c invalid input audio) {id: xc/data/NOMO/150238/audio.mp3, sliced_ids: ['cache/audio/xc/data/NOMO/150238/audio.mp3.resample(22050,1,16).enc(wav).slice(0,10000).spectro_denoise().enc(mp4,libfdk_aac,32k)', 'cache/audio/xc/data/NOMO/150238/audio.mp3.enc(wav).slice(0,10000).spectro_denoise().enc(mp4,libfdk_aac,32k)']}"
    },
    {
     "name": "stdout",
     "output_type": "stream",
     "text": "\n"
    },
    {
     "name": "stdout",
     "output_type": "stream",
     "text": "\rto_paths_sliced: ["
    },
    {
     "name": "stdout",
     "output_type": "stream",
     "text": "                                                                              "
    },
    {
     "name": "stdout",
     "output_type": "stream",
     "text": "] |   0% (5334) |  0.0s"
    },
    {
     "name": "stdout",
     "output_type": "stream",
     "text": "\rto_paths_sliced: ["
    },
    {
     "name": "stdout",
     "output_type": "stream",
     "text": "##############################################################################"
    },
    {
     "name": "stdout",
     "output_type": "stream",
     "text": "] | 100% (5334) |  0.1s"
    },
    {
     "name": "stdout",
     "output_type": "stream",
     "text": "\n"
    },
    {
     "name": "stdout",
     "output_type": "stream",
     "text": "\raudio_metadata: ["
    },
    {
     "name": "stdout",
     "output_type": "stream",
     "text": "                                                                               "
    },
    {
     "name": "stdout",
     "output_type": "stream",
     "text": "] |   0% (5333) |  0.0s"
    },
    {
     "name": "stdout",
     "output_type": "stream",
     "text": "\raudio_metadata: ["
    },
    {
     "name": "stdout",
     "output_type": "stream",
     "text": "                                                                               "
    },
    {
     "name": "stdout",
     "output_type": "stream",
     "text": "] |   0% (5333) |  0.1s"
    },
    {
     "name": "stdout",
     "output_type": "stream",
     "text": "\raudio_metadata: ["
    },
    {
     "name": "stdout",
     "output_type": "stream",
     "text": "                                                                               "
    },
    {
     "name": "stdout",
     "output_type": "stream",
     "text": "] |   0% (5333) |  0.2s"
    },
    {
     "name": "stdout",
     "output_type": "stream",
     "text": "\raudio_metadata: ["
    },
    {
     "name": "stdout",
     "output_type": "stream",
     "text": "                                                                               "
    },
    {
     "name": "stdout",
     "output_type": "stream",
     "text": "] |   0% (5333) |  0.4s"
    },
    {
     "name": "stdout",
     "output_type": "stream",
     "text": "\raudio_metadata: ["
    },
    {
     "name": "stdout",
     "output_type": "stream",
     "text": "                                                                               "
    },
    {
     "name": "stdout",
     "output_type": "stream",
     "text": "] |   0% (5333) |  0.5s"
    },
    {
     "name": "stdout",
     "output_type": "stream",
     "text": "\raudio_metadata: ["
    },
    {
     "name": "stdout",
     "output_type": "stream",
     "text": "                                                                               "
    },
    {
     "name": "stdout",
     "output_type": "stream",
     "text": "] |   0% (5333) |  0.6s"
    },
    {
     "name": "stdout",
     "output_type": "stream",
     "text": "\raudio_metadata: ["
    },
    {
     "name": "stdout",
     "output_type": "stream",
     "text": "                                                                               "
    },
    {
     "name": "stdout",
     "output_type": "stream",
     "text": "] |   0% (5333) |  0.7s"
    },
    {
     "name": "stdout",
     "output_type": "stream",
     "text": "\raudio_metadata: ["
    },
    {
     "name": "stdout",
     "output_type": "stream",
     "text": "                                                                               "
    },
    {
     "name": "stdout",
     "output_type": "stream",
     "text": "] |   0% (5333) |  0.8s"
    },
    {
     "name": "stdout",
     "output_type": "stream",
     "text": "\raudio_metadata: ["
    },
    {
     "name": "stdout",
     "output_type": "stream",
     "text": "                                                                               "
    },
    {
     "name": "stdout",
     "output_type": "stream",
     "text": "] |   0% (5333) |  0.9s"
    },
    {
     "name": "stdout",
     "output_type": "stream",
     "text": "\raudio_metadata: ["
    },
    {
     "name": "stdout",
     "output_type": "stream",
     "text": "############                                                                   "
    },
    {
     "name": "stdout",
     "output_type": "stream",
     "text": "] |  16% (5333) |  1.1s"
    },
    {
     "name": "stdout",
     "output_type": "stream",
     "text": "\n"
    },
    {
     "name": "stdout",
     "output_type": "stream",
     "text": "[mem_delta] {\n  'rss': '2052 KB',\n  'vms': '2164 KB',\n  'pfaults': '21 KB',\n  'pageins': '0 KB',\n  'uss': '87520 KB'\n}"
    },
    {
     "name": "stdout",
     "output_type": "stream",
     "text": "\n"
    },
    {
     "ename": "KeyboardInterrupt",
     "evalue": "",
     "output_type": "error",
     "traceback": [
      "Traceback \u001b[0;36m(most recent call last)\u001b[0m:\n",
      "  File \u001b[1;32m\"<ipython-input-15-9120dd7efacb>\"\u001b[0m, line \u001b[1;32m1\u001b[0m, in \u001b[1;35m<module>\u001b[0m\n    get_ipython().run_cell_magic('memit', '-c', 'opt(\\'warn\\', use=\\'dask\\', scheduler=\\'threads\\')  # Quiet + par + progress bars\\n# opt(\\'warn\\', use=\\'sync\\')\\n# opt(\\'debug\\', use=\\'sync\\')  # Verbose + sync + no progress bars\\nwith ExitStack() as stack:\\n    stack.enter_context(print_mem_delta(collect_before=True, collect_after=False))\\n    stack.enter_context(cache_control(\\n        tags_fail_on_miss=[\\'rec\\'],  # Require warmed cache for \\'rec\\' funcs\\n        tags_refresh=[\\'recs\\'],  # Measure un-warmed cache for \\'recs\\' funcs\\n    ))\\n    display(\\n        xc_similar_html(\\n            sort=\\'d_fc\\',\\n            sp_cols=\\'species\\',\\n            view=False,  # Disable html view else n_recs_by_sp_quality gets junk .species values\\n            # HACK Drop uncached audios to avoid big slow O(n) \"Falling back\"\\n            #   - Good: this correctly drops audios whose input file is invalid, and thus doesn\\'t produce a sliced cache/audio/ file\\n            #   - Bad: this incorrectly drops any valid audios that haven\\'t been _manually_ cached warmed\\n            #   - TODO Figure out a better way to propagate invalid audios (e.g. empty cache file) so we can more robustly handle this\\n            drop_uncached_slice=True,\\n            skip_load_audio=True,\\n\\n            # XXX From before to_paths_sliced fix\\n            # Timing: quiet + par + progress bars + cache hits\\n            # xc_id=381417, n_total=None, n_sp=1,  sample_r=1,     # t[1.3s] m[   0m] n_recs[    2] p[audio  .1                       spectro  .1 plot  .1]\\n            # xc_id=381417, n_total=None, n_sp=1,  sample_r=None,  # t[2.4s] m[  35m] n_recs[   33] p[audio  .9                       spectro  .1 plot  .5]\\n            # xc_id=381417, n_total=None, n_sp=2,  sample_r=None,  # t[4.7s] m[  88m] n_recs[   77] p[audio  .2 slice  .2 persist 2.4 spectro  .2 plot 1.2]\\n            # xc_id=381417, n_total=None, n_sp=10, sample_r=None,  # t[ 40s] m[3500m] n_recs[  718] p[audio 1.9 slice 1.4 persist  20 spectro 1.2 plot  13]\\n            # xc_id=381417, n_total=None, n_sp=20, sample_r=None,  # t[118s] m[5300m] n_recs[ 1817] p[audio   7 slice   4 persist  58 spectro   3 plot  33]\\n            # xc_id=381417, n_total=None, n_sp=30, sample_r=None,  # t[172s] m[2600m] n_recs[ 2562] p[audio 9.4 slice   6 persist  92 spectro   4 plot  45]\\n            # xc_id=381417, n_total=None, n_sp=40, sample_r=None,  # t[242s] m[2650m] n_recs[ 3880] p[audio  21 slice  12 persist 105 spectro 6.4 plot  73]\\n            # xc_id=381417, n_total=None, n_sp=50, sample_r=None,  # t[  ?s] m[   ?m] n_recs[    ?] p[] FIXME Seemed not mem safe? ^C\\'d\\n\\n            # Redo after to_paths_sliced fix + skip_load_audio [XXX]\\n            # xc_id=381417, n_total=1,    n_sp=2,   sample_r=None,  # t[3.4s] m[  30m] %m[  32mb] n_recs[    –] p[paths  .1 audio 1.1 spectro  .1 plot  .1]\\n            # xc_id=381417, n_total=1,    n_sp=10,  sample_r=None,  # t[ 14s] m[ 380m] %m[ 323mb] n_recs[    –] p[paths  .1 audio 9.6 spectro  .1 plot  .1]\\n            # xc_id=381417, n_total=1,    n_sp=20,  sample_r=None,  # t[ 36s] m[ 871m] %m[ 830mb] n_recs[    –] p[paths  .1 audio  28 spectro  .1 plot  .1]\\n            # xc_id=381417, n_total=1,    n_sp=40,  sample_r=None,  # t[ 86s] m[1788m] %m[1617mb] n_recs[    –] p[paths  .1 audio  69 spectro  .1 plot  .1]\\n            # xc_id=381417, n_total=1,    n_sp=80,  sample_r=None,  # t[  ?s] m[   ?m] %m[   ?mb] n_recs[    –] p[paths  .1 audio   ? spectro  .1 plot  .1]\\n            # xc_id=381417, n_total=1,    n_sp=160, sample_r=None,  # t[  ?s] m[   ?m] %m[   ?mb] n_recs[    –] p[paths  .1 audio   ? spectro  .1 plot  .1]\\n            # xc_id=381417, n_total=1,    n_sp=334, sample_r=None,  # t[  ?s] m[   ?m] %m[   ?mb] n_recs[    –] p[paths  .1 audio   ? spectro  .1 plot  .1]\\n\\n            # Redo after fixing slow audio_metadata for uncached batch\\n            # xc_id=381417, n_total=10,   n_sp=1,    sample_r=None,  # t[4.3s] m[   –m] %m[ 140mb] n_recs[    –] p[meta 0.1 feat 0.1 d_p2 0.1 d_pc 0.1]\\n            # xc_id=381417, n_total=10,   n_sp=10,   sample_r=None,  # t[ 11s] m[   –m] %m[ 101mb] n_recs[    –] p[meta 0.8 feat 1.8 d_p2 1.0 d_pc 1.0]\\n            # xc_id=381417, n_total=10,   n_sp=40,   sample_r=None,  # t[ 41s] m[   –m] %m[ 192mb] n_recs[    –] p[meta 3.7 feat 7.8 d_p2 6.0 d_pc 5.6]\\n            # xc_id=381417, n_total=10,   n_sp=80,   sample_r=None,  # t[ 99s] m[   –m] %m[ 280mb] n_recs[    –] p[meta 7.6 feat  20 d_p2  15 d_pc  15]\\n            # xc_id=381417, n_total=10,   n_sp=160,  sample_r=None,  # t[241s] m[   –m] %m[ 605mb] n_recs[    –] p[meta  16 feat  38 d_p2  43 d_pc  43]\\n            # xc_id=381417, n_total=10,   n_sp=None, sample_r=None,  # t[413s] m[   –m] %m[1040mb] n_recs[    –] p[meta  25 feat  70 d_p2  70 d_pc  72]\\n\\n            # Redo after fixing one_progress+dask\\n            # xc_id=381417, n_total=10,   n_sp=1,    sample_r=None,  # t[3.8s] m[   –m] %m[ 120mb] n_recs[    –] p[meta 0.1 feat 0.1 d_p2 0.1 d_pc 0.1]\\n            # xc_id=381417, n_total=10,   n_sp=10,   sample_r=None,  # t[  8s] m[   –m] %m[ 119mb] n_recs[    –] p[meta 0.7 feat 1.6 d_p2 1.0 d_pc 1.0]\\n            # xc_id=381417, n_total=10,   n_sp=40,   sample_r=None,  # t[ 30s] m[   –m] %m[ 233mb] n_recs[    –] p[meta 3.7 feat 8.2 d_p2 5.4 d_pc 5.6]\\n            # xc_id=381417, n_total=10,   n_sp=80,   sample_r=None,  # t[ 66s] m[   –m] %m[ 352mb] n_recs[    –] p[meta 7.6 feat  17 d_p2  15 d_pc  15]\\n            # xc_id=381417, n_total=10,   n_sp=160,  sample_r=None,  # t[147s] m[   –m] %m[ 691mb] n_recs[    –] p[meta  14 feat  31 d_p2  41 d_pc  41]\\n            # xc_id=381417, n_total=10,   n_sp=None, sample_r=None,  # t[255s] m[   –m] %m[ 953mb] n_recs[    –] p[meta  25 feat  55 d_p2  71 d_pc  72]\\n\\n            # Redo after deduping species_proba computation\\n            #   - meta: O(n) cache hits\\n            #   - feat: O(n) cache hits\\n            #   - p:    O(n) sg.search.predict_proba [@cache would achieve perf ~between meta and feat, which is only ~2x speedup]\\n            # xc_id=381417, n_total=10,   n_sp=1,    sample_r=None,  # t[4.0s] m[   –m] %m[ 123mb] n_recs[   32,0] p[meta 0.1 feat 0.1 p 0.1]\\n            # xc_id=381417, n_total=10,   n_sp=10,   sample_r=None,  # t[7.1s] m[   –m] %m[ 107mb] n_recs[  717,0] p[meta 0.8 feat 1.5 p 0.5]\\n            # xc_id=381417, n_total=10,   n_sp=40,   sample_r=None,  # t[ 25s] m[   –m] %m[ 300mb] n_recs[ 3879,1] p[meta 3.7 feat 7.6 p 5.1]\\n            xc_id=381417, n_total=10,   n_sp=50,   sample_r=None,  # t[ 25s] m[   –m] %m[ 300mb] n_recs[ 3879,1] p[meta 3.7 feat 7.6 p 5.1]\\n            # xc_id=381417, n_total=10,   n_sp=80,   sample_r=None,  # t[ 51s] m[   –m] %m[ 310mb] n_recs[ 8203,1] p[meta 7.6 feat  18 p  14]\\n            # xc_id=381417, n_total=10,   n_sp=160,  sample_r=None,  # t[111s] m[   –m] %m[ 637mb] n_recs[15284,1] p[meta  14 feat  36 p  42]\\n            # xc_id=381417, n_total=10,   n_sp=None, sample_r=None,  # t[192s] m[   –m] %m[1186mb] n_recs[27033,2] p[meta  25 feat  62 p  72]\\n\\n            # NOTE n_sp=None -> 27035/35233 recs because quality=\\'ab\\'\\n            # TODO TODO Then continue [from notes]\\n\\n        )\\n        # .pipe(n_recs_by_sp_quality)\\n    )')\n",
      "  File \u001b[1;32m\"/Users/danb/miniconda3/envs/bubo-features/lib/python3.6/site-packages/IPython/core/interactiveshell.py\"\u001b[0m, line \u001b[1;32m2167\u001b[0m, in \u001b[1;35mrun_cell_magic\u001b[0m\n    result = fn(magic_arg_s, cell)\n",
      "  File \u001b[1;32m\"<decorator-gen-138>\"\u001b[0m, line \u001b[1;32m2\u001b[0m, in \u001b[1;35mmemit\u001b[0m\n",
      "  File \u001b[1;32m\"/Users/danb/miniconda3/envs/bubo-features/lib/python3.6/site-packages/IPython/core/magic.py\"\u001b[0m, line \u001b[1;32m187\u001b[0m, in \u001b[1;35m<lambda>\u001b[0m\n    call = lambda f, *a, **k: f(*a, **k)\n",
      "  File \u001b[1;32m\"/Users/danb/miniconda3/envs/bubo-features/lib/python3.6/site-packages/memory_profiler.py\"\u001b[0m, line \u001b[1;32m1014\u001b[0m, in \u001b[1;35mmemit\u001b[0m\n    include_children=include_children)\n",
      "  File \u001b[1;32m\"/Users/danb/miniconda3/envs/bubo-features/lib/python3.6/site-packages/memory_profiler.py\"\u001b[0m, line \u001b[1;32m333\u001b[0m, in \u001b[1;35mmemory_usage\u001b[0m\n    returned = f(*args, **kw)\n",
      "  File \u001b[1;32m\"/Users/danb/miniconda3/envs/bubo-features/lib/python3.6/site-packages/memory_profiler.py\"\u001b[0m, line \u001b[1;32m787\u001b[0m, in \u001b[1;35m_func_exec\u001b[0m\n    exec(stmt, ns)\n",
      "  File \u001b[1;32m\"<string>\"\u001b[0m, line \u001b[1;32m65\u001b[0m, in \u001b[1;35m<module>\u001b[0m\n",
      "  File \u001b[1;32m\"/Users/danb/hack/bubo/features/api/recs.py\"\u001b[0m, line \u001b[1;32m165\u001b[0m, in \u001b[1;35mxc_similar_html\u001b[0m\n    drop_uncached_slice=drop_uncached_slice, skip_load_audio=skip_load_audio,\n",
      "  File \u001b[1;32m\"/Users/danb/miniconda3/envs/bubo-features/lib/python3.6/site-packages/pandas/core/generic.py\"\u001b[0m, line \u001b[1;32m4253\u001b[0m, in \u001b[1;35mpipe\u001b[0m\n    return com._pipe(self, func, *args, **kwargs)\n",
      "  File \u001b[1;32m\"/Users/danb/miniconda3/envs/bubo-features/lib/python3.6/site-packages/pandas/core/common.py\"\u001b[0m, line \u001b[1;32m629\u001b[0m, in \u001b[1;35m_pipe\u001b[0m\n    return func(obj, *args, **kwargs)\n",
      "  File \u001b[1;32m\"/Users/danb/hack/bubo/features/api/recs.py\"\u001b[0m, line \u001b[1;32m366\u001b[0m, in \u001b[1;35mrecs_featurize_metdata_audio_slice\u001b[0m\n    .pipe(recs_featurize_metadata, to_paths=to_paths_sliced)\n",
      "  File \u001b[1;32m\"/Users/danb/miniconda3/envs/bubo-features/lib/python3.6/site-packages/pandas/core/generic.py\"\u001b[0m, line \u001b[1;32m4253\u001b[0m, in \u001b[1;35mpipe\u001b[0m\n    return com._pipe(self, func, *args, **kwargs)\n",
      "  File \u001b[1;32m\"/Users/danb/miniconda3/envs/bubo-features/lib/python3.6/site-packages/pandas/core/common.py\"\u001b[0m, line \u001b[1;32m629\u001b[0m, in \u001b[1;35m_pipe\u001b[0m\n    return func(obj, *args, **kwargs)\n",
      "  File \u001b[1;32m\"/Users/danb/hack/bubo/features/api/recs.py\"\u001b[0m, line \u001b[1;32m394\u001b[0m, in \u001b[1;35mrecs_featurize_metadata\u001b[0m\n    .pipe(xc_meta_to_raw_recs, to_paths=to_paths, load=sg.load)\n",
      "  File \u001b[1;32m\"/Users/danb/miniconda3/envs/bubo-features/lib/python3.6/site-packages/pandas/core/generic.py\"\u001b[0m, line \u001b[1;32m4253\u001b[0m, in \u001b[1;35mpipe\u001b[0m\n    return com._pipe(self, func, *args, **kwargs)\n",
      "  File \u001b[1;32m\"/Users/danb/miniconda3/envs/bubo-features/lib/python3.6/site-packages/pandas/core/common.py\"\u001b[0m, line \u001b[1;32m629\u001b[0m, in \u001b[1;35m_pipe\u001b[0m\n    return func(obj, *args, **kwargs)\n",
      "  File \u001b[1;32m\"/Users/danb/hack/bubo/features/datasets.py\"\u001b[0m, line \u001b[1;32m836\u001b[0m, in \u001b[1;35mxc_meta_to_raw_recs\u001b[0m\n    load.recs(paths=paths)\n",
      "  File \u001b[1;32m\"/Users/danb/hack/bubo/features/cache.py\"\u001b[0m, line \u001b[1;32m140\u001b[0m, in \u001b[1;35mg\u001b[0m\n    out = func_cached.func(cache_key, ignore)\n",
      "  File \u001b[1;32m\"/Users/danb/hack/bubo/features/cache.py\"\u001b[0m, line \u001b[1;32m114\u001b[0m, in \u001b[1;35mfunc_cached\u001b[0m\n    return func(*ignore['args'], **ignore['kwargs'])\n",
      "  File \u001b[1;32m\"/Users/danb/hack/bubo/features/load.py\"\u001b[0m, line \u001b[1;32m87\u001b[0m, in \u001b[1;35mrecs\u001b[0m\n    .pipe(lambda df: pd.concat(axis=1, objs=[df, self.metadata(df)]))\n",
      "  File \u001b[1;32m\"/Users/danb/miniconda3/envs/bubo-features/lib/python3.6/site-packages/pandas/core/generic.py\"\u001b[0m, line \u001b[1;32m4253\u001b[0m, in \u001b[1;35mpipe\u001b[0m\n    return com._pipe(self, func, *args, **kwargs)\n",
      "  File \u001b[1;32m\"/Users/danb/miniconda3/envs/bubo-features/lib/python3.6/site-packages/pandas/core/common.py\"\u001b[0m, line \u001b[1;32m629\u001b[0m, in \u001b[1;35m_pipe\u001b[0m\n    return func(obj, *args, **kwargs)\n",
      "  File \u001b[1;32m\"/Users/danb/hack/bubo/features/load.py\"\u001b[0m, line \u001b[1;32m87\u001b[0m, in \u001b[1;35m<lambda>\u001b[0m\n    .pipe(lambda df: pd.concat(axis=1, objs=[df, self.metadata(df)]))\n",
      "  File \u001b[1;32m\"/Users/danb/hack/potoo/potoo/pandas.py\"\u001b[0m, line \u001b[1;32m502\u001b[0m, in \u001b[1;35mg\u001b[0m\n    return f(*args, **kwargs)\n",
      "  File \u001b[1;32m\"/Users/danb/hack/bubo/features/util.py\"\u001b[0m, line \u001b[1;32m138\u001b[0m, in \u001b[1;35mg\u001b[0m\n    return y if y is not None else f(*args, **kwargs)\n",
      "  File \u001b[1;32m\"/Users/danb/hack/bubo/features/load.py\"\u001b[0m, line \u001b[1;32m168\u001b[0m, in \u001b[1;35mmetadata\u001b[0m\n    use='dask', scheduler='threads',    # Optimal for 600 peterson recs on laptop\n",
      "  File \u001b[1;32m\"/Users/danb/hack/bubo/features/util.py\"\u001b[0m, line \u001b[1;32m1093\u001b[0m, in \u001b[1;35mmap_progress\u001b[0m\n    **kwargs,\n",
      "  File \u001b[1;32m\"/Users/danb/hack/bubo/features/util.py\"\u001b[0m, line \u001b[1;32m882\u001b[0m, in \u001b[1;35m_map_progress_dask\u001b[0m\n    .compute(get=dask_get_for_scheduler(scheduler, **(get_kwargs or {})))\n",
      "  File \u001b[1;32m\"/Users/danb/miniconda3/envs/bubo-features/lib/python3.6/site-packages/dask/base.py\"\u001b[0m, line \u001b[1;32m154\u001b[0m, in \u001b[1;35mcompute\u001b[0m\n    (result,) = compute(self, traverse=False, **kwargs)\n",
      "  File \u001b[1;32m\"/Users/danb/miniconda3/envs/bubo-features/lib/python3.6/site-packages/dask/base.py\"\u001b[0m, line \u001b[1;32m407\u001b[0m, in \u001b[1;35mcompute\u001b[0m\n    results = get(dsk, keys, **kwargs)\n",
      "  File \u001b[1;32m\"/Users/danb/miniconda3/envs/bubo-features/lib/python3.6/site-packages/dask/threaded.py\"\u001b[0m, line \u001b[1;32m75\u001b[0m, in \u001b[1;35mget\u001b[0m\n    pack_exception=pack_exception, **kwargs)\n",
      "  File \u001b[1;32m\"/Users/danb/miniconda3/envs/bubo-features/lib/python3.6/site-packages/dask/local.py\"\u001b[0m, line \u001b[1;32m512\u001b[0m, in \u001b[1;35mget_async\u001b[0m\n    key, res_info, failed = queue_get(queue)\n",
      "  File \u001b[1;32m\"/Users/danb/miniconda3/envs/bubo-features/lib/python3.6/site-packages/dask/local.py\"\u001b[0m, line \u001b[1;32m151\u001b[0m, in \u001b[1;35mqueue_get\u001b[0m\n    return q.get()\n",
      "  File \u001b[1;32m\"/Users/danb/miniconda3/envs/bubo-features/lib/python3.6/queue.py\"\u001b[0m, line \u001b[1;32m164\u001b[0m, in \u001b[1;35mget\u001b[0m\n    self.not_empty.wait()\n",
      "\u001b[0;36m  File \u001b[0;32m\"/Users/danb/miniconda3/envs/bubo-features/lib/python3.6/threading.py\"\u001b[0;36m, line \u001b[0;32m295\u001b[0;36m, in \u001b[0;35mwait\u001b[0;36m\u001b[0m\n\u001b[0;31m    waiter.acquire()\u001b[0m\n",
      "\u001b[0;31mKeyboardInterrupt\u001b[0m\n"
     ]
    }
   ],
   "source": [
    "%%memit -c\n",
    "opt('warn', use='dask', scheduler='threads')  # Quiet + par + progress bars\n",
    "# opt('warn', use='sync')\n",
    "# opt('debug', use='sync')  # Verbose + sync + no progress bars\n",
    "with ExitStack() as stack:\n",
    "    stack.enter_context(print_mem_delta(collect_before=True, collect_after=False))\n",
    "    stack.enter_context(cache_control(\n",
    "        tags_fail_on_miss=['rec'],  # Require warmed cache for 'rec' funcs\n",
    "        tags_refresh=['recs'],  # Measure un-warmed cache for 'recs' funcs\n",
    "    ))\n",
    "    display(\n",
    "        xc_similar_html(\n",
    "            sort='d_fc',\n",
    "            sp_cols='species',\n",
    "            view=False,  # Disable html view else n_recs_by_sp_quality gets junk .species values\n",
    "\n",
    "            # HACK Drop uncached audios to avoid big slow O(n) \"Falling back\"\n",
    "            #   - Good: this correctly drops audios whose input file is invalid, and thus doesn't produce a sliced cache/audio/ file\n",
    "            #   - Bad: this incorrectly drops any valid audios that haven't been _manually_ cached warmed\n",
    "            #   - TODO Figure out a better way to propagate invalid audios (e.g. empty cache file) so we can more robustly handle this\n",
    "            drop_uncached_slice=True,\n",
    "\n",
    "            # Don't load audio for intermediate pre-ranking recs, only for the final n_total results\n",
    "            #   - TODO Clean up code to make this the default behavior\n",
    "            skip_load_audio=True,\n",
    "\n",
    "            # [XXX] Timing: quiet + par + progress bars + cache hits\n",
    "            # xc_id=381417, n_total=None, n_sp=1,    sample_r=1,     # t[1.3s]  m[   0mb] n_recs[      2] p[audio  .1                       spectro  .1 plot  .1]\n",
    "            # xc_id=381417, n_total=None, n_sp=1,    sample_r=None,  # t[2.4s]  m[  35mb] n_recs[     33] p[audio  .9                       spectro  .1 plot  .5]\n",
    "            # xc_id=381417, n_total=None, n_sp=2,    sample_r=None,  # t[4.7s]  m[  88mb] n_recs[     77] p[audio  .2 slice  .2 persist 2.4 spectro  .2 plot 1.2]\n",
    "            # xc_id=381417, n_total=None, n_sp=10,   sample_r=None,  # t[ 40s]  m[3500mb] n_recs[    718] p[audio 1.9 slice 1.4 persist  20 spectro 1.2 plot  13]\n",
    "            # xc_id=381417, n_total=None, n_sp=20,   sample_r=None,  # t[118s]  m[5300mb] n_recs[   1817] p[audio   7 slice   4 persist  58 spectro   3 plot  33]\n",
    "            # xc_id=381417, n_total=None, n_sp=30,   sample_r=None,  # t[172s]  m[2600mb] n_recs[   2562] p[audio 9.4 slice   6 persist  92 spectro   4 plot  45]\n",
    "            # xc_id=381417, n_total=None, n_sp=40,   sample_r=None,  # t[242s]  m[2650mb] n_recs[   3880] p[audio  21 slice  12 persist 105 spectro 6.4 plot  73]\n",
    "            # xc_id=381417, n_total=None, n_sp=50,   sample_r=None,  # t[  ?s]  m[   ?mb] n_recs[   5334] p[] FIXME Seemed not mem safe? ^C'd\n",
    "\n",
    "            # [XXX] Redo after to_paths_sliced fix + skip_load_audio\n",
    "            # xc_id=381417, n_total=1,    n_sp=2,    sample_r=None,  # t[3.4s] %m[  32mb] n_recs[      –] p[paths  .1 audio 1.1 spectro  .1 plot  .1]\n",
    "            # xc_id=381417, n_total=1,    n_sp=10,   sample_r=None,  # t[ 14s] %m[ 323mb] n_recs[      –] p[paths  .1 audio 9.6 spectro  .1 plot  .1]\n",
    "            # xc_id=381417, n_total=1,    n_sp=20,   sample_r=None,  # t[ 36s] %m[ 830mb] n_recs[      –] p[paths  .1 audio  28 spectro  .1 plot  .1]\n",
    "            # xc_id=381417, n_total=1,    n_sp=40,   sample_r=None,  # t[ 86s] %m[1617mb] n_recs[      –] p[paths  .1 audio  69 spectro  .1 plot  .1]\n",
    "            # xc_id=381417, n_total=1,    n_sp=80,   sample_r=None,  # t[  ?s] %m[   ?mb] n_recs[      –] p[paths  .1 audio   ? spectro  .1 plot  .1]\n",
    "            # xc_id=381417, n_total=1,    n_sp=160,  sample_r=None,  # t[  ?s] %m[   ?mb] n_recs[      –] p[paths  .1 audio   ? spectro  .1 plot  .1]\n",
    "            # xc_id=381417, n_total=1,    n_sp=334,  sample_r=None,  # t[  ?s] %m[   ?mb] n_recs[      –] p[paths  .1 audio   ? spectro  .1 plot  .1]\n",
    "\n",
    "            # [XXX] Redo after fixing slow audio_metadata for uncached batch\n",
    "            # xc_id=381417, n_total=10,   n_sp=1,    sample_r=None,  # t[4.3s] %m[ 140mb] n_recs[      –] p[meta 0.1 feat 0.1 d_p2 0.1 d_pc 0.1]\n",
    "            # xc_id=381417, n_total=10,   n_sp=10,   sample_r=None,  # t[ 11s] %m[ 101mb] n_recs[      –] p[meta 0.8 feat 1.8 d_p2 1.0 d_pc 1.0]\n",
    "            # xc_id=381417, n_total=10,   n_sp=40,   sample_r=None,  # t[ 41s] %m[ 192mb] n_recs[      –] p[meta 3.7 feat 7.8 d_p2 6.0 d_pc 5.6]\n",
    "            # xc_id=381417, n_total=10,   n_sp=80,   sample_r=None,  # t[ 99s] %m[ 280mb] n_recs[      –] p[meta 7.6 feat  20 d_p2  15 d_pc  15]\n",
    "            # xc_id=381417, n_total=10,   n_sp=160,  sample_r=None,  # t[241s] %m[ 605mb] n_recs[      –] p[meta  16 feat  38 d_p2  43 d_pc  43]\n",
    "            # xc_id=381417, n_total=10,   n_sp=None, sample_r=None,  # t[413s] %m[1040mb] n_recs[      –] p[meta  25 feat  70 d_p2  70 d_pc  72]\n",
    "\n",
    "            # [XXX] Redo after fixing one_progress+dask\n",
    "            # xc_id=381417, n_total=10,   n_sp=1,    sample_r=None,  # t[3.8s] %m[ 120mb] n_recs[      –] p[meta 0.1 feat 0.1 d_p2 0.1 d_pc 0.1]\n",
    "            # xc_id=381417, n_total=10,   n_sp=10,   sample_r=None,  # t[  8s] %m[ 119mb] n_recs[      –] p[meta 0.7 feat 1.6 d_p2 1.0 d_pc 1.0]\n",
    "            # xc_id=381417, n_total=10,   n_sp=40,   sample_r=None,  # t[ 30s] %m[ 233mb] n_recs[      –] p[meta 3.7 feat 8.2 d_p2 5.4 d_pc 5.6]\n",
    "            # xc_id=381417, n_total=10,   n_sp=80,   sample_r=None,  # t[ 66s] %m[ 352mb] n_recs[      –] p[meta 7.6 feat  17 d_p2  15 d_pc  15]\n",
    "            # xc_id=381417, n_total=10,   n_sp=160,  sample_r=None,  # t[147s] %m[ 691mb] n_recs[      –] p[meta  14 feat  31 d_p2  41 d_pc  41]\n",
    "            # xc_id=381417, n_total=10,   n_sp=None, sample_r=None,  # t[255s] %m[ 953mb] n_recs[      –] p[meta  25 feat  55 d_p2  71 d_pc  72]\n",
    "\n",
    "            # Redo after deduping species_proba computation\n",
    "            #   - meta: O(n) cache hits\n",
    "            #   - feat: O(n) cache hits\n",
    "            #   - p:    O(n) sg.search.predict_proba [@cache would achieve perf ~between meta and feat, which is only ~2x speedup]\n",
    "            # xc_id=381417, n_total=10,   n_sp=1,    sample_r=None,  # t[4.0s] %m[ 123mb] n_recs[   32,0] p[meta 0.1 feat 0.1 p 0.1]\n",
    "            # xc_id=381417, n_total=10,   n_sp=10,   sample_r=None,  # t[7.1s] %m[ 107mb] n_recs[  717,0] p[meta 0.8 feat 1.5 p 0.5]\n",
    "            # xc_id=381417, n_total=10,   n_sp=40,   sample_r=None,  # t[ 25s] %m[ 300mb] n_recs[ 3879,1] p[meta 3.7 feat 7.6 p 5.1]\n",
    "            # xc_id=381417, n_total=10,   n_sp=80,   sample_r=None,  # t[ 51s] %m[ 310mb] n_recs[ 8203,1] p[meta 7.6 feat  18 p  14]\n",
    "            # xc_id=381417, n_total=10,   n_sp=160,  sample_r=None,  # t[111s] %m[ 637mb] n_recs[15284,1] p[meta  14 feat  36 p  42]\n",
    "            # xc_id=381417, n_total=10,   n_sp=None, sample_r=None,  # t[192s] %m[1186mb] n_recs[27033,2] p[meta  25 feat  62 p  72]\n",
    "\n",
    "            # NOTE n_sp=None -> 27035/35233 recs because quality='ab'\n",
    "            # TODO TODO Then continue [from notes]\n",
    "\n",
    "        )\n",
    "        # .pipe(n_recs_by_sp_quality)\n",
    "    )"
   ]
  },
  {
   "cell_type": "code",
   "execution_count": null,
   "metadata": {},
   "outputs": [],
   "source": []
  }
 ],
 "metadata": {
  "kernelspec": {
   "display_name": "bubo-features (PYTHONSTARTUP)",
   "language": "python",
   "name": "bubo-features (PYTHONSTARTUP)"
  }
 },
 "nbformat": 4,
 "nbformat_minor": 2
}
