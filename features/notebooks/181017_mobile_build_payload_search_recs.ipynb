{
 "cells": [
  {
   "cell_type": "markdown",
   "metadata": {},
   "source": [
    "# Takeaways\n",
    "- Maintain separate payloads for api vs. mobile\n",
    "    - Faster to read/write .parquet + .npy, but only api can use those\n",
    "    - Mobile needs to use .sqlite + files (.png, .mp4), but it's slower for both read and write\n",
    "- TODO Still more room to compress mobile payloads\n",
    "    - 71% of payload: audio\n",
    "        - Can be cut in ~half if we can drop 32k -> 16k (maybe with aac_he?)\n",
    "            - Android supports HE-AACv2: https://developer.android.com/guide/topics/media/media-formats\n",
    "            - But ios doesn't? https://apple.co/2NORQHB\n",
    "        - Payload 1.98g -> ~1.28g -- ✅ ~35% of payload\n",
    "    - 21% of payload: spectro\n",
    "        - Not much excess: maybe ~5% of spectros (see notebooks/spectro_img_encode)\n",
    "        - Payload 1.98g -> ~1.96g -- ❌ ~1% of payload\n",
    "    - 5.9% of payload: f_preds_* sqlite cols (n_sp=331)\n",
    "        - (Based on: 119m = 164m with - 45m without)\n",
    "        - No float32 in sqlite, only float64 [❓ Unless we get clever and pack into int32/int16, or blob...]\n",
    "            - [e.g. blob: https://github.com/SeanTater/sqlite3-extras]\n",
    "        - Can pca compress, but can't achieve more than a few % of payload\n",
    "        - Payload 1.98g -> ~1.98g with n_components=331 -- min ~0% of payload\n",
    "        - Payload 1.98g -> ~1.93g with n_components=150 --  🔶 ~3% of payload\n",
    "        - Payload 1.98g -> ~1.90g with n_components=100 --  🔶 ~4% of payload\n",
    "        - Payload 1.98g -> ~1.86g with n_components=10  --  🔶 ~6% of payload\n",
    "        - Payload 1.98g -> ~1.86g with n_components=0   -- max ~6% of payload\n",
    "    - 2.2% of payload: rest of sqlite cols\n",
    "        - Max ~2% of payload -- ❌ low ROI"
   ]
  },
  {
   "cell_type": "code",
   "execution_count": null,
   "metadata": {
    "time": "3.209s"
   },
   "outputs": [
    {
     "name": "stdout",
     "output_type": "stream",
     "text": "INFO     [10:43:53.016] [19766] 150 logging_/<module>: {logging_yaml: None}"
    },
    {
     "name": "stdout",
     "output_type": "stream",
     "text": "\n"
    },
    {
     "name": "stdout",
     "output_type": "stream",
     "text": "INFO     [10:43:53.498] [19766]  32 api.server_globals/init"
    },
    {
     "name": "stdout",
     "output_type": "stream",
     "text": "\n"
    },
    {
     "name": "stdout",
     "output_type": "stream",
     "text": "DEBUG    [10:43:53.505] [19766]  75 api.server_globals/load: load_search..."
    },
    {
     "name": "stdout",
     "output_type": "stream",
     "text": "\n"
    },
    {
     "name": "stdout",
     "output_type": "stream",
     "text": "INFO     [10:43:54.007] [19766]  79 api.server_globals/load: load_search (took 0.494s)"
    },
    {
     "name": "stdout",
     "output_type": "stream",
     "text": "\n"
    },
    {
     "name": "stdout",
     "output_type": "stream",
     "text": "DEBUG    [10:43:54.014] [19766]  75 api.server_globals/load: load_xc_meta..."
    },
    {
     "name": "stdout",
     "output_type": "stream",
     "text": "\n"
    },
    {
     "name": "stdout",
     "output_type": "stream",
     "text": "INFO     [10:43:54.365] [19766]  79 api.server_globals/load: load_xc_meta (took 0.345s)"
    },
    {
     "name": "stdout",
     "output_type": "stream",
     "text": "\n"
    },
    {
     "name": "stdout",
     "output_type": "stream",
     "text": "DEBUG    [10:43:54.372] [19766]  75 api.server_globals/load: load_feat_info..."
    },
    {
     "name": "stdout",
     "output_type": "stream",
     "text": "\n"
    },
    {
     "name": "stdout",
     "output_type": "stream",
     "text": "INFO     [10:43:54.379] [19766] 110 api.server_globals/load_feat_info"
    },
    {
     "name": "stdout",
     "output_type": "stream",
     "text": "\n"
    },
    {
     "name": "stdout",
     "output_type": "stream",
     "text": "INFO     [10:43:54.386] [19766]  79 api.server_globals/load: load_feat_info (took 0.006s)"
    },
    {
     "name": "stdout",
     "output_type": "stream",
     "text": "\n"
    },
    {
     "name": "stdout",
     "output_type": "stream",
     "text": "WARNING  [10:43:54.392] [19766]  73 api.server_globals/load: load_search_recs [skipped]"
    },
    {
     "name": "stdout",
     "output_type": "stream",
     "text": "\n"
    },
    {
     "name": "stdout",
     "output_type": "stream",
     "text": "INFO     [10:43:54.400] [19766]  34 api.server_globals/init: done"
    },
    {
     "name": "stdout",
     "output_type": "stream",
     "text": "\n"
    }
   ],
   "source": [
    "from notebooks import *\n",
    "sg.init(None, skip=[sg_load.load_search_recs])\n",
    "get_search_recs.cache_clear()"
   ]
  },
  {
   "cell_type": "markdown",
   "metadata": {},
   "source": [
    "# Perf notes\n",
    "\n",
    "Before\n",
    "- Cold cache (warm pagecache but cold python proc)\n",
    "```\n",
    "search_recs(**{'cache_type': 'hybrid'})\n",
    "...\n",
    "DEBUG    [12:58:26.994] [37904] 119 payloads/df_cache_hybrid: Hit [start]\n",
    "DEBUG    [12:58:27.001] [37904] 129 payloads/df_cache_hybrid: Hit: Reading non_feats.parquet (1.8 GB)\n",
    "INFO     [12:58:32.028] [37904] 136 payloads/df_cache_hybrid: Hit: Read non_feats.parquet (1.8 GB)\n",
    "DEBUG    [12:58:32.040] [37904] 141 payloads/df_cache_hybrid: Hit: Reading feat-f_preds.npy (46.6 MB)\n",
    "INFO     [12:58:32.077] [37904] 143 payloads/df_cache_hybrid: Hit: Read feat-f_preds.npy: float32 (46.6 MB)\n",
    "DEBUG    [12:58:32.084] [37904] 141 payloads/df_cache_hybrid: Hit: Reading feat-feat.npy (211.4 MB)\n",
    "INFO     [12:58:32.211] [37904] 143 payloads/df_cache_hybrid: Hit: Read feat-feat.npy: float32 (211.4 MB)\n",
    "INFO     [12:58:32.218] [37904] 147 payloads/df_cache_hybrid: Hit: Join non_feats + feats\n",
    "INFO     [12:58:32.469] [37904] 155 payloads/df_cache_hybrid: Hit [5.475s]\n",
    "```"
   ]
  },
  {
   "cell_type": "code",
   "execution_count": null,
   "metadata": {
    "time": "27.071s"
   },
   "outputs": [
    {
     "name": "stdout",
     "output_type": "stream",
     "text": "search_recs(**{'cache_type': 'hybrid'})"
    },
    {
     "name": "stdout",
     "output_type": "stream",
     "text": "\n"
    },
    {
     "name": "stdout",
     "output_type": "stream",
     "text": "INFO     [10:43:54.588] [19766] 601 api.recs/get_search_recs"
    },
    {
     "name": "stdout",
     "output_type": "stream",
     "text": "\n"
    },
    {
     "name": "stdout",
     "output_type": "stream",
     "text": "INFO     [10:43:54.603] [19766]  77 payloads/df_cache_hybrid: Miss: payloads/search_recs-version[4],limit[3500],audio_s[10],countries_k[na],com_names_k[ca],num_recs[None]-2c30442"
    },
    {
     "name": "stdout",
     "output_type": "stream",
     "text": "\n"
    },
    {
     "name": "stdout",
     "output_type": "stream",
     "text": "INFO     [10:43:54.615] [19766] 659 api.recs/_compute_search_recs: {len(sg.xc_meta): 35233, countries_k: na, com_names_k: ca, num_recs: null}"
    },
    {
     "name": "stdout",
     "output_type": "stream",
     "text": "\n"
    },
    {
     "name": "stdout",
     "output_type": "stream",
     "text": "\rf_preds: ["
    },
    {
     "name": "stdout",
     "output_type": "stream",
     "text": "                                                                                       "
    },
    {
     "name": "stdout",
     "output_type": "stream",
     "text": "] |   0% (500) |  0.0s"
    },
    {
     "name": "stdout",
     "output_type": "stream",
     "text": "\rf_preds: ["
    },
    {
     "name": "stdout",
     "output_type": "stream",
     "text": "                                                                                       "
    },
    {
     "name": "stdout",
     "output_type": "stream",
     "text": "] |   0% (500) |  0.1s"
    },
    {
     "name": "stdout",
     "output_type": "stream",
     "text": "\rf_preds: ["
    },
    {
     "name": "stdout",
     "output_type": "stream",
     "text": "                                                                                       "
    },
    {
     "name": "stdout",
     "output_type": "stream",
     "text": "] |   0% (500) |  0.2s"
    },
    {
     "name": "stdout",
     "output_type": "stream",
     "text": "\rf_preds: ["
    },
    {
     "name": "stdout",
     "output_type": "stream",
     "text": "                                                                                       "
    },
    {
     "name": "stdout",
     "output_type": "stream",
     "text": "] |   0% (500) |  0.4s"
    },
    {
     "name": "stdout",
     "output_type": "stream",
     "text": "\rf_preds: ["
    },
    {
     "name": "stdout",
     "output_type": "stream",
     "text": "#######################################################################################"
    },
    {
     "name": "stdout",
     "output_type": "stream",
     "text": "] | 100% (500) |  0.5s"
    },
    {
     "name": "stdout",
     "output_type": "stream",
     "text": "\n"
    },
    {
     "name": "stderr",
     "output_type": "stream",
     "text": "\rrec_spectro_bytes:   0%|                                                                       | 0/500 [00:00<?, ?it/s]"
    },
    {
     "name": "stderr",
     "output_type": "stream",
     "text": "\rrec_spectro_bytes:   7%|████▏                                                        | 34/500 [00:00<00:01, 336.48it/s]"
    },
    {
     "name": "stderr",
     "output_type": "stream",
     "text": "\rrec_spectro_bytes:  15%|█████████▏                                                   | 75/500 [00:00<00:01, 372.65it/s]"
    },
    {
     "name": "stderr",
     "output_type": "stream",
     "text": "\rrec_spectro_bytes:  24%|██████████████▏                                             | 118/500 [00:00<00:00, 390.53it/s]"
    },
    {
     "name": "stderr",
     "output_type": "stream",
     "text": "\rrec_spectro_bytes:  32%|███████████████████▏                                        | 160/500 [00:00<00:00, 396.32it/s]"
    },
    {
     "name": "stderr",
     "output_type": "stream",
     "text": "\rrec_spectro_bytes:  41%|████████████████████████▌                                   | 205/500 [00:00<00:00, 405.59it/s]"
    },
    {
     "name": "stderr",
     "output_type": "stream",
     "text": "\rrec_spectro_bytes:  49%|█████████████████████████████▏                              | 243/500 [00:00<00:00, 399.79it/s]"
    },
    {
     "name": "stderr",
     "output_type": "stream",
     "text": "\rrec_spectro_bytes:  57%|█████████████████████████████████▉                          | 283/500 [00:00<00:00, 399.25it/s]"
    },
    {
     "name": "stderr",
     "output_type": "stream",
     "text": "\rrec_spectro_bytes:  65%|██████████████████████████████████████▉                     | 324/500 [00:00<00:00, 399.94it/s]"
    },
    {
     "name": "stderr",
     "output_type": "stream",
     "text": "\rrec_spectro_bytes:  74%|████████████████████████████████████████████▎               | 369/500 [00:00<00:00, 404.83it/s]"
    },
    {
     "name": "stderr",
     "output_type": "stream",
     "text": "\rrec_spectro_bytes:  83%|██████████████████████████████████████████████████          | 417/500 [00:01<00:00, 411.57it/s]"
    },
    {
     "name": "stderr",
     "output_type": "stream",
     "text": "\rrec_spectro_bytes:  93%|███████████████████████████████████████████████████████▋    | 464/500 [00:01<00:00, 416.26it/s]"
    },
    {
     "name": "stderr",
     "output_type": "stream",
     "text": "\rrec_spectro_bytes: 100%|████████████████████████████████████████████████████████████| 500/500 [00:01<00:00, 418.81it/s]"
    },
    {
     "name": "stderr",
     "output_type": "stream",
     "text": "\n"
    },
    {
     "name": "stdout",
     "output_type": "stream",
     "text": "INFO     [10:43:57.956] [19766] 925 api.recs/recs_featurize_spectro_bytes: [1.201s]"
    },
    {
     "name": "stdout",
     "output_type": "stream",
     "text": "\n"
    },
    {
     "name": "stdout",
     "output_type": "stream",
     "text": "\raudio_bytes: ["
    },
    {
     "name": "stdout",
     "output_type": "stream",
     "text": "                                                                                   "
    },
    {
     "name": "stdout",
     "output_type": "stream",
     "text": "] |   0% (500) |  0.0s"
    },
    {
     "name": "stdout",
     "output_type": "stream",
     "text": "\raudio_bytes: ["
    },
    {
     "name": "stdout",
     "output_type": "stream",
     "text": "###################################################                                "
    },
    {
     "name": "stdout",
     "output_type": "stream",
     "text": "] |  61% (500) |  0.1s"
    },
    {
     "name": "stdout",
     "output_type": "stream",
     "text": "\raudio_bytes: ["
    },
    {
     "name": "stdout",
     "output_type": "stream",
     "text": "###################################################################################"
    },
    {
     "name": "stdout",
     "output_type": "stream",
     "text": "] | 100% (500) |  0.2s"
    },
    {
     "name": "stdout",
     "output_type": "stream",
     "text": "\n"
    },
    {
     "name": "stdout",
     "output_type": "stream",
     "text": "INFO     [10:43:58.211] [19766] 999 api.recs/recs_featurize_audio_bytes: [0.242s]"
    },
    {
     "name": "stdout",
     "output_type": "stream",
     "text": "\n"
    },
    {
     "name": "stdout",
     "output_type": "stream",
     "text": "INFO     [10:43:58.220] [19766] 687 api.recs/recs_featurize_pre_rank: batches (1/7) [3.591s]"
    },
    {
     "name": "stdout",
     "output_type": "stream",
     "text": "\n"
    },
    {
     "name": "stdout",
     "output_type": "stream",
     "text": "\rf_preds: ["
    },
    {
     "name": "stdout",
     "output_type": "stream",
     "text": "                                                                                       "
    },
    {
     "name": "stdout",
     "output_type": "stream",
     "text": "] |   0% (500) |  0.0s"
    },
    {
     "name": "stdout",
     "output_type": "stream",
     "text": "\rf_preds: ["
    },
    {
     "name": "stdout",
     "output_type": "stream",
     "text": "                                                                                       "
    },
    {
     "name": "stdout",
     "output_type": "stream",
     "text": "] |   0% (500) |  0.1s"
    },
    {
     "name": "stdout",
     "output_type": "stream",
     "text": "\rf_preds: ["
    },
    {
     "name": "stdout",
     "output_type": "stream",
     "text": "                                                                                       "
    },
    {
     "name": "stdout",
     "output_type": "stream",
     "text": "] |   0% (500) |  0.2s"
    },
    {
     "name": "stdout",
     "output_type": "stream",
     "text": "\rf_preds: ["
    },
    {
     "name": "stdout",
     "output_type": "stream",
     "text": "#######################################################################################"
    },
    {
     "name": "stdout",
     "output_type": "stream",
     "text": "] | 100% (500) |  0.3s"
    },
    {
     "name": "stdout",
     "output_type": "stream",
     "text": "\n"
    },
    {
     "name": "stderr",
     "output_type": "stream",
     "text": "\rrec_spectro_bytes:   0%|                                                                       | 0/500 [00:00<?, ?it/s]"
    },
    {
     "name": "stderr",
     "output_type": "stream",
     "text": "\rrec_spectro_bytes:   6%|███▌                                                         | 29/500 [00:00<00:01, 278.06it/s]"
    },
    {
     "name": "stderr",
     "output_type": "stream",
     "text": "\rrec_spectro_bytes:  12%|███████▏                                                     | 59/500 [00:00<00:01, 288.06it/s]"
    },
    {
     "name": "stderr",
     "output_type": "stream",
     "text": "\rrec_spectro_bytes:  18%|██████████▊                                                  | 89/500 [00:00<00:01, 289.26it/s]"
    },
    {
     "name": "stderr",
     "output_type": "stream",
     "text": "\rrec_spectro_bytes:  25%|██████████████▊                                             | 123/500 [00:00<00:01, 301.04it/s]"
    },
    {
     "name": "stderr",
     "output_type": "stream",
     "text": "\rrec_spectro_bytes:  31%|██████████████████▌                                         | 155/500 [00:00<00:01, 304.14it/s]"
    },
    {
     "name": "stderr",
     "output_type": "stream",
     "text": "\rrec_spectro_bytes:  37%|██████████████████████▏                                     | 185/500 [00:00<00:01, 303.43it/s]"
    },
    {
     "name": "stderr",
     "output_type": "stream",
     "text": "\rrec_spectro_bytes:  43%|█████████████████████████▊                                  | 215/500 [00:00<00:00, 302.87it/s]"
    },
    {
     "name": "stderr",
     "output_type": "stream",
     "text": "\rrec_spectro_bytes:  50%|██████████████████████████████                              | 251/500 [00:00<00:00, 309.43it/s]"
    },
    {
     "name": "stderr",
     "output_type": "stream",
     "text": "\rrec_spectro_bytes:  57%|██████████████████████████████████▎                         | 286/500 [00:00<00:00, 313.15it/s]"
    },
    {
     "name": "stderr",
     "output_type": "stream",
     "text": "\rrec_spectro_bytes:  65%|██████████████████████████████████████▉                     | 324/500 [00:01<00:00, 319.37it/s]"
    },
    {
     "name": "stderr",
     "output_type": "stream",
     "text": "\rrec_spectro_bytes:  72%|███████████████████████████████████████████▍                | 362/500 [00:01<00:00, 324.71it/s]"
    },
    {
     "name": "stderr",
     "output_type": "stream",
     "text": "\rrec_spectro_bytes:  80%|████████████████████████████████████████████████            | 401/500 [00:01<00:00, 329.91it/s]"
    },
    {
     "name": "stderr",
     "output_type": "stream",
     "text": "\rrec_spectro_bytes:  88%|████████████████████████████████████████████████████▉       | 441/500 [00:01<00:00, 334.61it/s]"
    },
    {
     "name": "stderr",
     "output_type": "stream",
     "text": "\rrec_spectro_bytes:  96%|█████████████████████████████████████████████████████████▌  | 480/500 [00:01<00:00, 338.08it/s]"
    },
    {
     "name": "stderr",
     "output_type": "stream",
     "text": "\rrec_spectro_bytes: 100%|████████████████████████████████████████████████████████████| 500/500 [00:01<00:00, 339.75it/s]"
    },
    {
     "name": "stderr",
     "output_type": "stream",
     "text": "\n"
    },
    {
     "name": "stdout",
     "output_type": "stream",
     "text": "INFO     [10:44:00.245] [19766] 925 api.recs/recs_featurize_spectro_bytes: [1.480s]"
    },
    {
     "name": "stdout",
     "output_type": "stream",
     "text": "\n"
    },
    {
     "name": "stdout",
     "output_type": "stream",
     "text": "\raudio_bytes: ["
    },
    {
     "name": "stdout",
     "output_type": "stream",
     "text": "                                                                                   "
    },
    {
     "name": "stdout",
     "output_type": "stream",
     "text": "] |   0% (500) |  0.0s"
    },
    {
     "name": "stdout",
     "output_type": "stream",
     "text": "\raudio_bytes: ["
    },
    {
     "name": "stdout",
     "output_type": "stream",
     "text": "#######################################################                            "
    },
    {
     "name": "stdout",
     "output_type": "stream",
     "text": "] |  66% (500) |  0.1s"
    },
    {
     "name": "stdout",
     "output_type": "stream",
     "text": "\raudio_bytes: ["
    },
    {
     "name": "stdout",
     "output_type": "stream",
     "text": "###################################################################################"
    },
    {
     "name": "stdout",
     "output_type": "stream",
     "text": "] | 100% (500) |  0.2s"
    },
    {
     "name": "stdout",
     "output_type": "stream",
     "text": "\n"
    },
    {
     "name": "stdout",
     "output_type": "stream",
     "text": "INFO     [10:44:00.489] [19766] 999 api.recs/recs_featurize_audio_bytes: [0.231s]"
    },
    {
     "name": "stdout",
     "output_type": "stream",
     "text": "\n"
    },
    {
     "name": "stdout",
     "output_type": "stream",
     "text": "INFO     [10:44:00.498] [19766] 687 api.recs/recs_featurize_pre_rank: batches (2/7) [2.266s]"
    },
    {
     "name": "stdout",
     "output_type": "stream",
     "text": "\n"
    },
    {
     "name": "stdout",
     "output_type": "stream",
     "text": "\rf_preds: ["
    },
    {
     "name": "stdout",
     "output_type": "stream",
     "text": "                                                                                       "
    },
    {
     "name": "stdout",
     "output_type": "stream",
     "text": "] |   0% (500) |  0.0s"
    },
    {
     "name": "stdout",
     "output_type": "stream",
     "text": "\rf_preds: ["
    },
    {
     "name": "stdout",
     "output_type": "stream",
     "text": "                                                                                       "
    },
    {
     "name": "stdout",
     "output_type": "stream",
     "text": "] |   0% (500) |  0.1s"
    },
    {
     "name": "stdout",
     "output_type": "stream",
     "text": "\rf_preds: ["
    },
    {
     "name": "stdout",
     "output_type": "stream",
     "text": "                                                                                       "
    },
    {
     "name": "stdout",
     "output_type": "stream",
     "text": "] |   0% (500) |  0.2s"
    },
    {
     "name": "stdout",
     "output_type": "stream",
     "text": "\rf_preds: ["
    },
    {
     "name": "stdout",
     "output_type": "stream",
     "text": "#######################################################################################"
    },
    {
     "name": "stdout",
     "output_type": "stream",
     "text": "] | 100% (500) |  0.3s"
    },
    {
     "name": "stdout",
     "output_type": "stream",
     "text": "\n"
    },
    {
     "name": "stderr",
     "output_type": "stream",
     "text": "\rrec_spectro_bytes:   0%|                                                                       | 0/500 [00:00<?, ?it/s]"
    },
    {
     "name": "stderr",
     "output_type": "stream",
     "text": "\rrec_spectro_bytes:   7%|████                                                         | 33/500 [00:00<00:01, 324.65it/s]"
    },
    {
     "name": "stderr",
     "output_type": "stream",
     "text": "\rrec_spectro_bytes:  14%|████████▎                                                    | 68/500 [00:00<00:01, 335.86it/s]"
    },
    {
     "name": "stderr",
     "output_type": "stream",
     "text": "\rrec_spectro_bytes:  21%|████████████▎                                               | 103/500 [00:00<00:01, 340.28it/s]"
    },
    {
     "name": "stderr",
     "output_type": "stream",
     "text": "\rrec_spectro_bytes:  28%|████████████████▊                                           | 140/500 [00:00<00:01, 345.29it/s]"
    },
    {
     "name": "stderr",
     "output_type": "stream",
     "text": "\rrec_spectro_bytes:  36%|█████████████████████▍                                      | 179/500 [00:00<00:00, 353.11it/s]"
    },
    {
     "name": "stderr",
     "output_type": "stream",
     "text": "\rrec_spectro_bytes:  44%|██████████████████████████▎                                 | 219/500 [00:00<00:00, 360.40it/s]"
    },
    {
     "name": "stderr",
     "output_type": "stream",
     "text": "\rrec_spectro_bytes:  52%|███████████████████████████████▎                            | 261/500 [00:00<00:00, 367.76it/s]"
    },
    {
     "name": "stderr",
     "output_type": "stream",
     "text": "\rrec_spectro_bytes:  60%|████████████████████████████████████                        | 301/500 [00:00<00:00, 370.67it/s]"
    },
    {
     "name": "stderr",
     "output_type": "stream",
     "text": "\rrec_spectro_bytes:  68%|████████████████████████████████████████▉                   | 341/500 [00:00<00:00, 373.79it/s]"
    },
    {
     "name": "stderr",
     "output_type": "stream",
     "text": "\rrec_spectro_bytes:  76%|█████████████████████████████████████████████▍              | 379/500 [00:01<00:00, 370.67it/s]"
    },
    {
     "name": "stderr",
     "output_type": "stream",
     "text": "\rrec_spectro_bytes:  83%|██████████████████████████████████████████████████          | 417/500 [00:01<00:00, 370.72it/s]"
    },
    {
     "name": "stderr",
     "output_type": "stream",
     "text": "\rrec_spectro_bytes:  91%|██████████████████████████████████████████████████████▋     | 456/500 [00:01<00:00, 371.98it/s]"
    },
    {
     "name": "stderr",
     "output_type": "stream",
     "text": "\rrec_spectro_bytes:  99%|███████████████████████████████████████████████████████████▍| 495/500 [00:01<00:00, 372.78it/s]"
    },
    {
     "name": "stderr",
     "output_type": "stream",
     "text": "\rrec_spectro_bytes: 100%|████████████████████████████████████████████████████████████| 500/500 [00:01<00:00, 372.25it/s]"
    },
    {
     "name": "stderr",
     "output_type": "stream",
     "text": "\n"
    },
    {
     "name": "stdout",
     "output_type": "stream",
     "text": "INFO     [10:44:02.421] [19766] 925 api.recs/recs_featurize_spectro_bytes: [1.351s]"
    },
    {
     "name": "stdout",
     "output_type": "stream",
     "text": "\n"
    },
    {
     "name": "stdout",
     "output_type": "stream",
     "text": "\raudio_bytes: ["
    },
    {
     "name": "stdout",
     "output_type": "stream",
     "text": "                                                                                   "
    },
    {
     "name": "stdout",
     "output_type": "stream",
     "text": "] |   0% (500) |  0.0s"
    },
    {
     "name": "stdout",
     "output_type": "stream",
     "text": "\raudio_bytes: ["
    },
    {
     "name": "stdout",
     "output_type": "stream",
     "text": "####################################################                               "
    },
    {
     "name": "stdout",
     "output_type": "stream",
     "text": "] |  62% (500) |  0.1s"
    },
    {
     "name": "stdout",
     "output_type": "stream",
     "text": "\raudio_bytes: ["
    },
    {
     "name": "stdout",
     "output_type": "stream",
     "text": "###################################################################################"
    },
    {
     "name": "stdout",
     "output_type": "stream",
     "text": "] | 100% (500) |  0.2s"
    },
    {
     "name": "stdout",
     "output_type": "stream",
     "text": "\n"
    },
    {
     "name": "stdout",
     "output_type": "stream",
     "text": "INFO     [10:44:02.677] [19766] 999 api.recs/recs_featurize_audio_bytes: [0.242s]"
    },
    {
     "name": "stdout",
     "output_type": "stream",
     "text": "\n"
    },
    {
     "name": "stdout",
     "output_type": "stream",
     "text": "INFO     [10:44:02.686] [19766] 687 api.recs/recs_featurize_pre_rank: batches (3/7) [2.176s]"
    },
    {
     "name": "stdout",
     "output_type": "stream",
     "text": "\n"
    },
    {
     "name": "stdout",
     "output_type": "stream",
     "text": "\rf_preds: ["
    },
    {
     "name": "stdout",
     "output_type": "stream",
     "text": "                                                                                       "
    },
    {
     "name": "stdout",
     "output_type": "stream",
     "text": "] |   0% (500) |  0.0s"
    },
    {
     "name": "stdout",
     "output_type": "stream",
     "text": "\rf_preds: ["
    },
    {
     "name": "stdout",
     "output_type": "stream",
     "text": "                                                                                       "
    },
    {
     "name": "stdout",
     "output_type": "stream",
     "text": "] |   0% (500) |  0.1s"
    },
    {
     "name": "stdout",
     "output_type": "stream",
     "text": "\rf_preds: ["
    },
    {
     "name": "stdout",
     "output_type": "stream",
     "text": "                                                                                       "
    },
    {
     "name": "stdout",
     "output_type": "stream",
     "text": "] |   0% (500) |  0.2s"
    },
    {
     "name": "stdout",
     "output_type": "stream",
     "text": "\rf_preds: ["
    },
    {
     "name": "stdout",
     "output_type": "stream",
     "text": "#######################################################################################"
    },
    {
     "name": "stdout",
     "output_type": "stream",
     "text": "] | 100% (500) |  0.3s"
    },
    {
     "name": "stdout",
     "output_type": "stream",
     "text": "\n"
    },
    {
     "name": "stderr",
     "output_type": "stream",
     "text": "\rrec_spectro_bytes:   0%|                                                                       | 0/500 [00:00<?, ?it/s]"
    },
    {
     "name": "stderr",
     "output_type": "stream",
     "text": "\rrec_spectro_bytes:   7%|████                                                         | 33/500 [00:00<00:01, 322.22it/s]"
    },
    {
     "name": "stderr",
     "output_type": "stream",
     "text": "\rrec_spectro_bytes:  14%|████████▍                                                    | 69/500 [00:00<00:01, 339.91it/s]"
    },
    {
     "name": "stderr",
     "output_type": "stream",
     "text": "\rrec_spectro_bytes:  21%|████████████▎                                               | 103/500 [00:00<00:01, 339.47it/s]"
    },
    {
     "name": "stderr",
     "output_type": "stream",
     "text": "\rrec_spectro_bytes:  27%|████████████████▎                                           | 136/500 [00:00<00:01, 336.03it/s]"
    },
    {
     "name": "stderr",
     "output_type": "stream",
     "text": "\rrec_spectro_bytes:  35%|█████████████████████                                       | 175/500 [00:00<00:00, 346.43it/s]"
    },
    {
     "name": "stderr",
     "output_type": "stream",
     "text": "\rrec_spectro_bytes:  43%|█████████████████████████▋                                  | 214/500 [00:00<00:00, 352.92it/s]"
    },
    {
     "name": "stderr",
     "output_type": "stream",
     "text": "\rrec_spectro_bytes:  51%|██████████████████████████████▍                             | 254/500 [00:00<00:00, 358.97it/s]"
    },
    {
     "name": "stderr",
     "output_type": "stream",
     "text": "\rrec_spectro_bytes:  59%|███████████████████████████████████▎                        | 294/500 [00:00<00:00, 363.63it/s]"
    },
    {
     "name": "stderr",
     "output_type": "stream",
     "text": "\rrec_spectro_bytes:  66%|███████████████████████████████████████▌                    | 330/500 [00:00<00:00, 363.10it/s]"
    },
    {
     "name": "stderr",
     "output_type": "stream",
     "text": "\rrec_spectro_bytes:  73%|███████████████████████████████████████████▉                | 366/500 [00:01<00:00, 361.22it/s]"
    },
    {
     "name": "stderr",
     "output_type": "stream",
     "text": "\rrec_spectro_bytes:  80%|████████████████████████████████████████████████▏           | 402/500 [00:01<00:00, 359.35it/s]"
    },
    {
     "name": "stderr",
     "output_type": "stream",
     "text": "\rrec_spectro_bytes:  88%|████████████████████████████████████████████████████▌       | 438/500 [00:01<00:00, 357.96it/s]"
    },
    {
     "name": "stderr",
     "output_type": "stream",
     "text": "\rrec_spectro_bytes:  95%|████████████████████████████████████████████████████████▊   | 473/500 [00:01<00:00, 356.63it/s]"
    },
    {
     "name": "stderr",
     "output_type": "stream",
     "text": "\rrec_spectro_bytes: 100%|████████████████████████████████████████████████████████████| 500/500 [00:01<00:00, 355.20it/s]"
    },
    {
     "name": "stderr",
     "output_type": "stream",
     "text": "\n"
    },
    {
     "name": "stdout",
     "output_type": "stream",
     "text": "INFO     [10:44:04.645] [19766] 925 api.recs/recs_featurize_spectro_bytes: [1.416s]"
    },
    {
     "name": "stdout",
     "output_type": "stream",
     "text": "\n"
    },
    {
     "name": "stdout",
     "output_type": "stream",
     "text": "\raudio_bytes: ["
    },
    {
     "name": "stdout",
     "output_type": "stream",
     "text": "                                                                                   "
    },
    {
     "name": "stdout",
     "output_type": "stream",
     "text": "] |   0% (500) |  0.0s"
    },
    {
     "name": "stdout",
     "output_type": "stream",
     "text": "\raudio_bytes: ["
    },
    {
     "name": "stdout",
     "output_type": "stream",
     "text": "##################################################                                 "
    },
    {
     "name": "stdout",
     "output_type": "stream",
     "text": "] |  60% (500) |  0.1s"
    },
    {
     "name": "stdout",
     "output_type": "stream",
     "text": "\raudio_bytes: ["
    },
    {
     "name": "stdout",
     "output_type": "stream",
     "text": "###################################################################################"
    },
    {
     "name": "stdout",
     "output_type": "stream",
     "text": "] | 100% (500) |  0.2s"
    },
    {
     "name": "stdout",
     "output_type": "stream",
     "text": "\n"
    },
    {
     "name": "stdout",
     "output_type": "stream",
     "text": "INFO     [10:44:04.897] [19766] 999 api.recs/recs_featurize_audio_bytes: [0.237s]"
    },
    {
     "name": "stdout",
     "output_type": "stream",
     "text": "\n"
    },
    {
     "name": "stdout",
     "output_type": "stream",
     "text": "INFO     [10:44:04.905] [19766] 687 api.recs/recs_featurize_pre_rank: batches (4/7) [2.208s]"
    },
    {
     "name": "stdout",
     "output_type": "stream",
     "text": "\n"
    },
    {
     "name": "stdout",
     "output_type": "stream",
     "text": "\rf_preds: ["
    },
    {
     "name": "stdout",
     "output_type": "stream",
     "text": "                                                                                       "
    },
    {
     "name": "stdout",
     "output_type": "stream",
     "text": "] |   0% (500) |  0.0s"
    },
    {
     "name": "stdout",
     "output_type": "stream",
     "text": "\rf_preds: ["
    },
    {
     "name": "stdout",
     "output_type": "stream",
     "text": "                                                                                       "
    },
    {
     "name": "stdout",
     "output_type": "stream",
     "text": "] |   0% (500) |  0.1s"
    },
    {
     "name": "stdout",
     "output_type": "stream",
     "text": "\rf_preds: ["
    },
    {
     "name": "stdout",
     "output_type": "stream",
     "text": "                                                                                       "
    },
    {
     "name": "stdout",
     "output_type": "stream",
     "text": "] |   0% (500) |  0.2s"
    },
    {
     "name": "stdout",
     "output_type": "stream",
     "text": "\rf_preds: ["
    },
    {
     "name": "stdout",
     "output_type": "stream",
     "text": "#######################################################################################"
    },
    {
     "name": "stdout",
     "output_type": "stream",
     "text": "] | 100% (500) |  0.3s"
    },
    {
     "name": "stdout",
     "output_type": "stream",
     "text": "\n"
    },
    {
     "name": "stderr",
     "output_type": "stream",
     "text": "\rrec_spectro_bytes:   0%|                                                                       | 0/500 [00:00<?, ?it/s]"
    },
    {
     "name": "stderr",
     "output_type": "stream",
     "text": "\rrec_spectro_bytes:   6%|███▉                                                         | 32/500 [00:00<00:01, 316.52it/s]"
    },
    {
     "name": "stderr",
     "output_type": "stream",
     "text": "\rrec_spectro_bytes:  14%|████████▎                                                    | 68/500 [00:00<00:01, 336.54it/s]"
    },
    {
     "name": "stderr",
     "output_type": "stream",
     "text": "\rrec_spectro_bytes:  22%|████████████▉                                               | 108/500 [00:00<00:01, 357.22it/s]"
    },
    {
     "name": "stderr",
     "output_type": "stream",
     "text": "\rrec_spectro_bytes:  30%|█████████████████▉                                          | 149/500 [00:00<00:00, 369.34it/s]"
    },
    {
     "name": "stderr",
     "output_type": "stream",
     "text": "\rrec_spectro_bytes:  38%|██████████████████████▊                                     | 190/500 [00:00<00:00, 376.00it/s]"
    },
    {
     "name": "stderr",
     "output_type": "stream",
     "text": "\rrec_spectro_bytes:  46%|███████████████████████████▍                                | 229/500 [00:00<00:00, 377.39it/s]"
    },
    {
     "name": "stderr",
     "output_type": "stream",
     "text": "\rrec_spectro_bytes:  53%|███████████████████████████████▋                            | 264/500 [00:00<00:00, 369.63it/s]"
    },
    {
     "name": "stderr",
     "output_type": "stream",
     "text": "\rrec_spectro_bytes:  60%|███████████████████████████████████▊                        | 298/500 [00:00<00:00, 364.52it/s]"
    },
    {
     "name": "stderr",
     "output_type": "stream",
     "text": "\rrec_spectro_bytes:  66%|███████████████████████████████████████▊                    | 332/500 [00:00<00:00, 357.39it/s]"
    },
    {
     "name": "stderr",
     "output_type": "stream",
     "text": "\rrec_spectro_bytes:  73%|████████████████████████████████████████████                | 367/500 [00:01<00:00, 355.71it/s]"
    },
    {
     "name": "stderr",
     "output_type": "stream",
     "text": "\rrec_spectro_bytes:  80%|████████████████████████████████████████████████            | 401/500 [00:01<00:00, 352.36it/s]"
    },
    {
     "name": "stderr",
     "output_type": "stream",
     "text": "\rrec_spectro_bytes:  87%|████████████████████████████████████████████████████        | 434/500 [00:01<00:00, 347.78it/s]"
    },
    {
     "name": "stderr",
     "output_type": "stream",
     "text": "\rrec_spectro_bytes:  94%|████████████████████████████████████████████████████████▎   | 469/500 [00:01<00:00, 347.61it/s]"
    },
    {
     "name": "stderr",
     "output_type": "stream",
     "text": "\rrec_spectro_bytes: 100%|████████████████████████████████████████████████████████████| 500/500 [00:01<00:00, 347.65it/s]"
    },
    {
     "name": "stderr",
     "output_type": "stream",
     "text": "\n"
    },
    {
     "name": "stdout",
     "output_type": "stream",
     "text": "INFO     [10:44:06.912] [19766] 925 api.recs/recs_featurize_spectro_bytes: [1.447s]"
    },
    {
     "name": "stdout",
     "output_type": "stream",
     "text": "\n"
    },
    {
     "name": "stdout",
     "output_type": "stream",
     "text": "\raudio_bytes: ["
    },
    {
     "name": "stdout",
     "output_type": "stream",
     "text": "                                                                                   "
    },
    {
     "name": "stdout",
     "output_type": "stream",
     "text": "] |   0% (500) |  0.0s"
    },
    {
     "name": "stdout",
     "output_type": "stream",
     "text": "\raudio_bytes: ["
    },
    {
     "name": "stdout",
     "output_type": "stream",
     "text": "##################################################                                 "
    },
    {
     "name": "stdout",
     "output_type": "stream",
     "text": "] |  60% (500) |  0.1s"
    },
    {
     "name": "stdout",
     "output_type": "stream",
     "text": "\raudio_bytes: ["
    },
    {
     "name": "stdout",
     "output_type": "stream",
     "text": "###################################################################################"
    },
    {
     "name": "stdout",
     "output_type": "stream",
     "text": "] | 100% (500) |  0.2s"
    },
    {
     "name": "stdout",
     "output_type": "stream",
     "text": "\n"
    },
    {
     "name": "stdout",
     "output_type": "stream",
     "text": "INFO     [10:44:07.163] [19766] 999 api.recs/recs_featurize_audio_bytes: [0.237s]"
    },
    {
     "name": "stdout",
     "output_type": "stream",
     "text": "\n"
    },
    {
     "name": "stdout",
     "output_type": "stream",
     "text": "INFO     [10:44:07.171] [19766] 687 api.recs/recs_featurize_pre_rank: batches (5/7) [2.253s]"
    },
    {
     "name": "stdout",
     "output_type": "stream",
     "text": "\n"
    },
    {
     "name": "stdout",
     "output_type": "stream",
     "text": "\rf_preds: ["
    },
    {
     "name": "stdout",
     "output_type": "stream",
     "text": "                                                                                       "
    },
    {
     "name": "stdout",
     "output_type": "stream",
     "text": "] |   0% (500) |  0.0s"
    },
    {
     "name": "stdout",
     "output_type": "stream",
     "text": "\rf_preds: ["
    },
    {
     "name": "stdout",
     "output_type": "stream",
     "text": "                                                                                       "
    },
    {
     "name": "stdout",
     "output_type": "stream",
     "text": "] |   0% (500) |  0.1s"
    },
    {
     "name": "stdout",
     "output_type": "stream",
     "text": "\rf_preds: ["
    },
    {
     "name": "stdout",
     "output_type": "stream",
     "text": "                                                                                       "
    },
    {
     "name": "stdout",
     "output_type": "stream",
     "text": "] |   0% (500) |  0.2s"
    },
    {
     "name": "stdout",
     "output_type": "stream",
     "text": "\rf_preds: ["
    },
    {
     "name": "stdout",
     "output_type": "stream",
     "text": "#######################################################################################"
    },
    {
     "name": "stdout",
     "output_type": "stream",
     "text": "] | 100% (500) |  0.3s"
    },
    {
     "name": "stdout",
     "output_type": "stream",
     "text": "\n"
    },
    {
     "name": "stderr",
     "output_type": "stream",
     "text": "\rrec_spectro_bytes:   0%|                                                                       | 0/500 [00:00<?, ?it/s]"
    },
    {
     "name": "stderr",
     "output_type": "stream",
     "text": "\rrec_spectro_bytes:   6%|███▊                                                         | 31/500 [00:00<00:01, 309.45it/s]"
    },
    {
     "name": "stderr",
     "output_type": "stream",
     "text": "\rrec_spectro_bytes:  13%|███████▉                                                     | 65/500 [00:00<00:01, 321.48it/s]"
    },
    {
     "name": "stderr",
     "output_type": "stream",
     "text": "\rrec_spectro_bytes:  19%|███████████▊                                                 | 97/500 [00:00<00:01, 320.49it/s]"
    },
    {
     "name": "stderr",
     "output_type": "stream",
     "text": "\rrec_spectro_bytes:  26%|███████████████▋                                            | 131/500 [00:00<00:01, 325.10it/s]"
    },
    {
     "name": "stderr",
     "output_type": "stream",
     "text": "\rrec_spectro_bytes:  33%|███████████████████▋                                        | 164/500 [00:00<00:01, 323.99it/s]"
    },
    {
     "name": "stderr",
     "output_type": "stream",
     "text": "\rrec_spectro_bytes:  40%|████████████████████████                                    | 200/500 [00:00<00:00, 328.51it/s]"
    },
    {
     "name": "stderr",
     "output_type": "stream",
     "text": "\rrec_spectro_bytes:  47%|████████████████████████████                                | 234/500 [00:00<00:00, 329.81it/s]"
    },
    {
     "name": "stderr",
     "output_type": "stream",
     "text": "\rrec_spectro_bytes:  54%|████████████████████████████████▏                           | 268/500 [00:00<00:00, 329.65it/s]"
    },
    {
     "name": "stderr",
     "output_type": "stream",
     "text": "\rrec_spectro_bytes:  61%|████████████████████████████████████▎                       | 303/500 [00:00<00:00, 330.51it/s]"
    },
    {
     "name": "stderr",
     "output_type": "stream",
     "text": "\rrec_spectro_bytes:  67%|████████████████████████████████████████▎                   | 336/500 [00:01<00:00, 329.77it/s]"
    },
    {
     "name": "stderr",
     "output_type": "stream",
     "text": "\rrec_spectro_bytes:  74%|████████████████████████████████████████████▎               | 369/500 [00:01<00:00, 329.76it/s]"
    },
    {
     "name": "stderr",
     "output_type": "stream",
     "text": "\rrec_spectro_bytes:  80%|████████████████████████████████████████████████▏           | 402/500 [00:01<00:00, 329.01it/s]"
    },
    {
     "name": "stderr",
     "output_type": "stream",
     "text": "\rrec_spectro_bytes:  87%|████████████████████████████████████████████████████▏       | 435/500 [00:01<00:00, 327.40it/s]"
    },
    {
     "name": "stderr",
     "output_type": "stream",
     "text": "\rrec_spectro_bytes:  94%|████████████████████████████████████████████████████████▏   | 468/500 [00:01<00:00, 327.10it/s]"
    },
    {
     "name": "stderr",
     "output_type": "stream",
     "text": "\rrec_spectro_bytes: 100%|████████████████████████████████████████████████████████████| 500/500 [00:01<00:00, 325.00it/s]"
    },
    {
     "name": "stderr",
     "output_type": "stream",
     "text": "\n"
    },
    {
     "name": "stdout",
     "output_type": "stream",
     "text": "INFO     [10:44:09.273] [19766] 925 api.recs/recs_featurize_spectro_bytes: [1.546s]"
    },
    {
     "name": "stdout",
     "output_type": "stream",
     "text": "\n"
    },
    {
     "name": "stdout",
     "output_type": "stream",
     "text": "\raudio_bytes: ["
    },
    {
     "name": "stdout",
     "output_type": "stream",
     "text": "                                                                                   "
    },
    {
     "name": "stdout",
     "output_type": "stream",
     "text": "] |   0% (500) |  0.0s"
    },
    {
     "name": "stdout",
     "output_type": "stream",
     "text": "\raudio_bytes: ["
    },
    {
     "name": "stdout",
     "output_type": "stream",
     "text": "##################################################                                 "
    },
    {
     "name": "stdout",
     "output_type": "stream",
     "text": "] |  60% (500) |  0.1s"
    },
    {
     "name": "stdout",
     "output_type": "stream",
     "text": "\raudio_bytes: ["
    },
    {
     "name": "stdout",
     "output_type": "stream",
     "text": "###################################################################################"
    },
    {
     "name": "stdout",
     "output_type": "stream",
     "text": "] | 100% (500) |  0.2s"
    },
    {
     "name": "stdout",
     "output_type": "stream",
     "text": "\n"
    },
    {
     "name": "stdout",
     "output_type": "stream",
     "text": "INFO     [10:44:09.531] [19766] 999 api.recs/recs_featurize_audio_bytes: [0.241s]"
    },
    {
     "name": "stdout",
     "output_type": "stream",
     "text": "\n"
    },
    {
     "name": "stdout",
     "output_type": "stream",
     "text": "INFO     [10:44:09.539] [19766] 687 api.recs/recs_featurize_pre_rank: batches (6/7) [2.356s]"
    },
    {
     "name": "stdout",
     "output_type": "stream",
     "text": "\n"
    },
    {
     "name": "stdout",
     "output_type": "stream",
     "text": "\rf_preds: ["
    },
    {
     "name": "stdout",
     "output_type": "stream",
     "text": "                                                                                       "
    },
    {
     "name": "stdout",
     "output_type": "stream",
     "text": "] |   0% (500) |  0.0s"
    },
    {
     "name": "stdout",
     "output_type": "stream",
     "text": "\rf_preds: ["
    },
    {
     "name": "stdout",
     "output_type": "stream",
     "text": "                                                                                       "
    },
    {
     "name": "stdout",
     "output_type": "stream",
     "text": "] |   0% (500) |  0.2s"
    },
    {
     "name": "stdout",
     "output_type": "stream",
     "text": "\rf_preds: ["
    },
    {
     "name": "stdout",
     "output_type": "stream",
     "text": "                                                                                       "
    },
    {
     "name": "stdout",
     "output_type": "stream",
     "text": "] |   0% (500) |  0.3s"
    },
    {
     "name": "stdout",
     "output_type": "stream",
     "text": "\rf_preds: ["
    },
    {
     "name": "stdout",
     "output_type": "stream",
     "text": "#######################################################################################"
    },
    {
     "name": "stdout",
     "output_type": "stream",
     "text": "] | 100% (500) |  0.4s"
    },
    {
     "name": "stdout",
     "output_type": "stream",
     "text": "\n"
    },
    {
     "name": "stderr",
     "output_type": "stream",
     "text": "\rrec_spectro_bytes:   0%|                                                                       | 0/500 [00:00<?, ?it/s]"
    },
    {
     "name": "stderr",
     "output_type": "stream",
     "text": "\rrec_spectro_bytes:   7%|████▎                                                        | 35/500 [00:00<00:01, 341.41it/s]"
    },
    {
     "name": "stderr",
     "output_type": "stream",
     "text": "\rrec_spectro_bytes:  13%|████████▏                                                    | 67/500 [00:00<00:01, 327.17it/s]"
    },
    {
     "name": "stderr",
     "output_type": "stream",
     "text": "\rrec_spectro_bytes:  20%|████████████                                                 | 99/500 [00:00<00:01, 321.57it/s]"
    },
    {
     "name": "stderr",
     "output_type": "stream",
     "text": "\rrec_spectro_bytes:  26%|███████████████▊                                            | 132/500 [00:00<00:01, 322.26it/s]"
    },
    {
     "name": "stderr",
     "output_type": "stream",
     "text": "\rrec_spectro_bytes:  33%|████████████████████                                        | 167/500 [00:00<00:01, 327.65it/s]"
    },
    {
     "name": "stderr",
     "output_type": "stream",
     "text": "\rrec_spectro_bytes:  40%|████████████████████████                                    | 201/500 [00:00<00:00, 329.60it/s]"
    },
    {
     "name": "stderr",
     "output_type": "stream",
     "text": "\rrec_spectro_bytes:  47%|████████████████████████████▏                               | 235/500 [00:00<00:00, 330.19it/s]"
    },
    {
     "name": "stderr",
     "output_type": "stream",
     "text": "\rrec_spectro_bytes:  54%|████████████████████████████████▍                           | 270/500 [00:00<00:00, 332.18it/s]"
    },
    {
     "name": "stderr",
     "output_type": "stream",
     "text": "\rrec_spectro_bytes:  61%|████████████████████████████████████▌                       | 305/500 [00:00<00:00, 333.98it/s]"
    },
    {
     "name": "stderr",
     "output_type": "stream",
     "text": "\rrec_spectro_bytes:  68%|████████████████████████████████████████▋                   | 339/500 [00:01<00:00, 334.39it/s]"
    },
    {
     "name": "stderr",
     "output_type": "stream",
     "text": "\rrec_spectro_bytes:  75%|████████████████████████████████████████████▉               | 374/500 [00:01<00:00, 335.58it/s]"
    },
    {
     "name": "stderr",
     "output_type": "stream",
     "text": "\rrec_spectro_bytes:  82%|█████████████████████████████████████████████████           | 409/500 [00:01<00:00, 336.35it/s]"
    },
    {
     "name": "stderr",
     "output_type": "stream",
     "text": "\rrec_spectro_bytes:  89%|█████████████████████████████████████████████████████▎      | 444/500 [00:01<00:00, 336.73it/s]"
    },
    {
     "name": "stderr",
     "output_type": "stream",
     "text": "\rrec_spectro_bytes:  96%|█████████████████████████████████████████████████████████▍  | 479/500 [00:01<00:00, 337.26it/s]"
    },
    {
     "name": "stderr",
     "output_type": "stream",
     "text": "\rrec_spectro_bytes: 100%|████████████████████████████████████████████████████████████| 500/500 [00:01<00:00, 336.38it/s]"
    },
    {
     "name": "stderr",
     "output_type": "stream",
     "text": "\n"
    },
    {
     "name": "stdout",
     "output_type": "stream",
     "text": "INFO     [10:44:11.698] [19766] 925 api.recs/recs_featurize_spectro_bytes: [1.496s]"
    },
    {
     "name": "stdout",
     "output_type": "stream",
     "text": "\n"
    },
    {
     "name": "stdout",
     "output_type": "stream",
     "text": "\raudio_bytes: ["
    },
    {
     "name": "stdout",
     "output_type": "stream",
     "text": "                                                                                   "
    },
    {
     "name": "stdout",
     "output_type": "stream",
     "text": "] |   0% (500) |  0.0s"
    },
    {
     "name": "stdout",
     "output_type": "stream",
     "text": "\raudio_bytes: ["
    },
    {
     "name": "stdout",
     "output_type": "stream",
     "text": "########################################                                           "
    },
    {
     "name": "stdout",
     "output_type": "stream",
     "text": "] |  48% (500) |  0.1s"
    },
    {
     "name": "stdout",
     "output_type": "stream",
     "text": "\raudio_bytes: ["
    },
    {
     "name": "stdout",
     "output_type": "stream",
     "text": "###################################################################################"
    },
    {
     "name": "stdout",
     "output_type": "stream",
     "text": "] | 100% (500) |  0.2s"
    },
    {
     "name": "stdout",
     "output_type": "stream",
     "text": "\n"
    },
    {
     "name": "stdout",
     "output_type": "stream",
     "text": "INFO     [10:44:11.956] [19766] 999 api.recs/recs_featurize_audio_bytes: [0.245s]"
    },
    {
     "name": "stdout",
     "output_type": "stream",
     "text": "\n"
    },
    {
     "name": "stdout",
     "output_type": "stream",
     "text": "INFO     [10:44:11.965] [19766] 687 api.recs/recs_featurize_pre_rank: batches (7/7) [2.414s]"
    },
    {
     "name": "stdout",
     "output_type": "stream",
     "text": "\n"
    },
    {
     "name": "stdout",
     "output_type": "stream",
     "text": "INFO     [10:44:12.037] [19766]  83 payloads/df_cache_hybrid: Compute: search_recs [17.423s]"
    },
    {
     "name": "stdout",
     "output_type": "stream",
     "text": "\n"
    },
    {
     "name": "stdout",
     "output_type": "stream",
     "text": "INFO     [10:44:12.062] [19766] 101 payloads/df_cache_hybrid: Miss: Inferred feat_cols['f_preds', 'feat']"
    },
    {
     "name": "stdout",
     "output_type": "stream",
     "text": "\n"
    },
    {
     "name": "stdout",
     "output_type": "stream",
     "text": "INFO     [10:44:12.794] [19766] 109 payloads/df_cache_hybrid: Miss: Write api/lite.parquet [4.6 MB, 0.717s]"
    },
    {
     "name": "stdout",
     "output_type": "stream",
     "text": "\n"
    },
    {
     "name": "stdout",
     "output_type": "stream",
     "text": "INFO     [10:44:13.239] [19766] 118 payloads/df_cache_hybrid: Miss: Write api/bytes-audio_bytes.parquet [142.0 MB, 0.427s]"
    },
    {
     "name": "stdout",
     "output_type": "stream",
     "text": "\n"
    },
    {
     "name": "stdout",
     "output_type": "stream",
     "text": "INFO     [10:44:13.351] [19766] 118 payloads/df_cache_hybrid: Miss: Write api/bytes-spectro_bytes.parquet [38.5 MB, 0.100s]"
    },
    {
     "name": "stdout",
     "output_type": "stream",
     "text": "\n"
    },
    {
     "name": "stdout",
     "output_type": "stream",
     "text": "INFO     [10:44:13.374] [19766] 125 payloads/df_cache_hybrid: Miss: Write api/feat-f_preds.npy: float32 [4.6 MB, 0.003s]"
    },
    {
     "name": "stdout",
     "output_type": "stream",
     "text": "\n"
    },
    {
     "name": "stdout",
     "output_type": "stream",
     "text": "INFO     [10:44:13.417] [19766] 125 payloads/df_cache_hybrid: Miss: Write api/feat-feat.npy: float32 [21.0 MB, 0.022s]"
    },
    {
     "name": "stdout",
     "output_type": "stream",
     "text": "\n"
    },
    {
     "name": "stdout",
     "output_type": "stream",
     "text": "INFO     [10:44:13.430] [19766] 143 payloads/df_cache_hybrid: Miss: search_recs [1.381s]"
    },
    {
     "name": "stdout",
     "output_type": "stream",
     "text": "\n"
    },
    {
     "name": "stdout",
     "output_type": "stream",
     "text": "\rMobile: Ensure dirs: audio_bytes: ["
    },
    {
     "name": "stdout",
     "output_type": "stream",
     "text": "                                                              "
    },
    {
     "name": "stdout",
     "output_type": "stream",
     "text": "] |   0% (305) |  0.0s"
    },
    {
     "name": "stdout",
     "output_type": "stream",
     "text": "\rMobile: Ensure dirs: audio_bytes: ["
    },
    {
     "name": "stdout",
     "output_type": "stream",
     "text": "##############################################################"
    },
    {
     "name": "stdout",
     "output_type": "stream",
     "text": "] | 100% (305) |  0.1s"
    },
    {
     "name": "stdout",
     "output_type": "stream",
     "text": "\n"
    },
    {
     "name": "stdout",
     "output_type": "stream",
     "text": "\rMobile: Write files: audio_bytes: ["
    },
    {
     "name": "stdout",
     "output_type": "stream",
     "text": "                                                             "
    },
    {
     "name": "stdout",
     "output_type": "stream",
     "text": "] |   0% (3500) |  0.0s"
    },
    {
     "name": "stdout",
     "output_type": "stream",
     "text": "\rMobile: Write files: audio_bytes: ["
    },
    {
     "name": "stdout",
     "output_type": "stream",
     "text": "                                                             "
    },
    {
     "name": "stdout",
     "output_type": "stream",
     "text": "] |   0% (3500) |  0.1s"
    },
    {
     "name": "stdout",
     "output_type": "stream",
     "text": "\rMobile: Write files: audio_bytes: ["
    },
    {
     "name": "stdout",
     "output_type": "stream",
     "text": "####                                                         "
    },
    {
     "name": "stdout",
     "output_type": "stream",
     "text": "] |   7% (3500) |  0.2s"
    },
    {
     "name": "stdout",
     "output_type": "stream",
     "text": "\rMobile: Write files: audio_bytes: ["
    },
    {
     "name": "stdout",
     "output_type": "stream",
     "text": "############                                                 "
    },
    {
     "name": "stdout",
     "output_type": "stream",
     "text": "] |  20% (3500) |  0.3s"
    },
    {
     "name": "stdout",
     "output_type": "stream",
     "text": "\rMobile: Write files: audio_bytes: ["
    },
    {
     "name": "stdout",
     "output_type": "stream",
     "text": "########################                                     "
    },
    {
     "name": "stdout",
     "output_type": "stream",
     "text": "] |  40% (3500) |  0.5s"
    },
    {
     "name": "stdout",
     "output_type": "stream",
     "text": "\rMobile: Write files: audio_bytes: ["
    },
    {
     "name": "stdout",
     "output_type": "stream",
     "text": "########################                                     "
    },
    {
     "name": "stdout",
     "output_type": "stream",
     "text": "] |  40% (3500) |  0.6s"
    },
    {
     "name": "stdout",
     "output_type": "stream",
     "text": "\rMobile: Write files: audio_bytes: ["
    },
    {
     "name": "stdout",
     "output_type": "stream",
     "text": "####################################                         "
    },
    {
     "name": "stdout",
     "output_type": "stream",
     "text": "] |  60% (3500) |  0.7s"
    },
    {
     "name": "stdout",
     "output_type": "stream",
     "text": "\rMobile: Write files: audio_bytes: ["
    },
    {
     "name": "stdout",
     "output_type": "stream",
     "text": "####################################                         "
    },
    {
     "name": "stdout",
     "output_type": "stream",
     "text": "] |  60% (3500) |  0.8s"
    },
    {
     "name": "stdout",
     "output_type": "stream",
     "text": "\rMobile: Write files: audio_bytes: ["
    },
    {
     "name": "stdout",
     "output_type": "stream",
     "text": "################################################             "
    },
    {
     "name": "stdout",
     "output_type": "stream",
     "text": "] |  80% (3500) |  0.9s"
    },
    {
     "name": "stdout",
     "output_type": "stream",
     "text": "\rMobile: Write files: audio_bytes: ["
    },
    {
     "name": "stdout",
     "output_type": "stream",
     "text": "#####################################################        "
    },
    {
     "name": "stdout",
     "output_type": "stream",
     "text": "] |  87% (3500) |  1.1s"
    },
    {
     "name": "stdout",
     "output_type": "stream",
     "text": "\rMobile: Write files: audio_bytes: ["
    },
    {
     "name": "stdout",
     "output_type": "stream",
     "text": "#############################################################"
    },
    {
     "name": "stdout",
     "output_type": "stream",
     "text": "] | 100% (3500) |  1.2s"
    },
    {
     "name": "stdout",
     "output_type": "stream",
     "text": "\n"
    },
    {
     "name": "stdout",
     "output_type": "stream",
     "text": "\rMobile: Ensure dirs: spectro_bytes: ["
    },
    {
     "name": "stdout",
     "output_type": "stream",
     "text": "                                                            "
    },
    {
     "name": "stdout",
     "output_type": "stream",
     "text": "] |   0% (305) |  0.0s"
    },
    {
     "name": "stdout",
     "output_type": "stream",
     "text": "\rMobile: Ensure dirs: spectro_bytes: ["
    },
    {
     "name": "stdout",
     "output_type": "stream",
     "text": "############################################################"
    },
    {
     "name": "stdout",
     "output_type": "stream",
     "text": "] | 100% (305) |  0.1s"
    },
    {
     "name": "stdout",
     "output_type": "stream",
     "text": "\n"
    },
    {
     "name": "stdout",
     "output_type": "stream",
     "text": "\rMobile: Write files: spectro_bytes: ["
    },
    {
     "name": "stdout",
     "output_type": "stream",
     "text": "                                                           "
    },
    {
     "name": "stdout",
     "output_type": "stream",
     "text": "] |   0% (3500) |  0.0s"
    },
    {
     "name": "stdout",
     "output_type": "stream",
     "text": "\rMobile: Write files: spectro_bytes: ["
    },
    {
     "name": "stdout",
     "output_type": "stream",
     "text": "                                                           "
    },
    {
     "name": "stdout",
     "output_type": "stream",
     "text": "] |   0% (3500) |  0.1s"
    },
    {
     "name": "stdout",
     "output_type": "stream",
     "text": "\rMobile: Write files: spectro_bytes: ["
    },
    {
     "name": "stdout",
     "output_type": "stream",
     "text": "###########                                                "
    },
    {
     "name": "stdout",
     "output_type": "stream",
     "text": "] |  20% (3500) |  0.2s"
    },
    {
     "name": "stdout",
     "output_type": "stream",
     "text": "\rMobile: Write files: spectro_bytes: ["
    },
    {
     "name": "stdout",
     "output_type": "stream",
     "text": "#######################                                    "
    },
    {
     "name": "stdout",
     "output_type": "stream",
     "text": "] |  40% (3500) |  0.3s"
    },
    {
     "name": "stdout",
     "output_type": "stream",
     "text": "\rMobile: Write files: spectro_bytes: ["
    },
    {
     "name": "stdout",
     "output_type": "stream",
     "text": "#######################                                    "
    },
    {
     "name": "stdout",
     "output_type": "stream",
     "text": "] |  40% (3500) |  0.5s"
    },
    {
     "name": "stdout",
     "output_type": "stream",
     "text": "\rMobile: Write files: spectro_bytes: ["
    },
    {
     "name": "stdout",
     "output_type": "stream",
     "text": "###################################                        "
    },
    {
     "name": "stdout",
     "output_type": "stream",
     "text": "] |  60% (3500) |  0.6s"
    },
    {
     "name": "stdout",
     "output_type": "stream",
     "text": "\rMobile: Write files: spectro_bytes: ["
    },
    {
     "name": "stdout",
     "output_type": "stream",
     "text": "###############################################            "
    },
    {
     "name": "stdout",
     "output_type": "stream",
     "text": "] |  80% (3500) |  0.7s"
    },
    {
     "name": "stdout",
     "output_type": "stream",
     "text": "\rMobile: Write files: spectro_bytes: ["
    },
    {
     "name": "stdout",
     "output_type": "stream",
     "text": "#########################################################  "
    },
    {
     "name": "stdout",
     "output_type": "stream",
     "text": "] |  97% (3500) |  0.8s"
    },
    {
     "name": "stdout",
     "output_type": "stream",
     "text": "\rMobile: Write files: spectro_bytes: ["
    },
    {
     "name": "stdout",
     "output_type": "stream",
     "text": "###########################################################"
    },
    {
     "name": "stdout",
     "output_type": "stream",
     "text": "] | 100% (3500) |  0.9s"
    },
    {
     "name": "stdout",
     "output_type": "stream",
     "text": "\n"
    },
    {
     "name": "stdout",
     "output_type": "stream",
     "text": "INFO     [10:44:17.973] [19766] 274 payloads/df_cache_hybrid: Mobile: Expand feat col: f_preds (331) [0.509s]"
    },
    {
     "name": "stdout",
     "output_type": "stream",
     "text": "\n"
    },
    {
     "name": "stdout",
     "output_type": "stream",
     "text": "INFO     [10:44:18.029] [19766] 307 payloads/<dictcomp>: Mobile: Covert non-sql col: json_dumps_canonical(background) (3500) [0.017s]"
    },
    {
     "name": "stdout",
     "output_type": "stream",
     "text": "\n"
    },
    {
     "name": "stdout",
     "output_type": "stream",
     "text": "INFO     [10:44:18.059] [19766] 307 payloads/<dictcomp>: Mobile: Covert non-sql col: json_dumps_canonical(background_species) (3500) [0.018s]"
    },
    {
     "name": "stdout",
     "output_type": "stream",
     "text": "\n"
    },
    {
     "name": "stdout",
     "output_type": "stream",
     "text": "INFO     [10:44:19.864] [19766] 320 payloads/df_cache_hybrid: Mobile: Write mobile-version[0]/search_recs/search_recs.sqlite3 [15.6 MB, 1.783s]"
    },
    {
     "name": "stdout",
     "output_type": "stream",
     "text": "\n"
    },
    {
     "name": "stdout",
     "output_type": "stream",
     "text": "INFO     [10:44:19.887] [19766] 320 payloads/df_cache_hybrid: Mobile: Write payload [6.445s]"
    },
    {
     "name": "stdout",
     "output_type": "stream",
     "text": "\n"
    },
    {
     "data": {
      "text/html": "<table border=\"1\" class=\"dataframe\">\n  <thead>\n    <tr style=\"text-align: right;\">\n      <th></th>\n      <th>dir</th>\n      <th>file</th>\n      <th>size</th>\n      <th>frac</th>\n    </tr>\n  </thead>\n  <tbody>\n    <tr>\n      <th>5</th>\n      <td><div class=\"not-number\">api</div></td>\n      <td><div class=\"not-number\">TOTAL</div></td>\n      <td>210721524</td>\n      <td>1.000</td>\n    </tr>\n    <tr>\n      <th>1</th>\n      <td><div class=\"not-number\">api</div></td>\n      <td><div class=\"not-number\">api/bytes-audio_bytes.parquet</div></td>\n      <td>142018687</td>\n      <td>0.674</td>\n    </tr>\n    <tr>\n      <th>2</th>\n      <td><div class=\"not-number\">api</div></td>\n      <td><div class=\"not-number\">api/bytes-spectro_bytes.parquet</div></td>\n      <td>38468688</td>\n      <td>0.183</td>\n    </tr>\n    <tr>\n      <th>4</th>\n      <td><div class=\"not-number\">api</div></td>\n      <td><div class=\"not-number\">api/feat-feat.npy: float32</div></td>\n      <td>21000128</td>\n      <td>0.100</td>\n    </tr>\n    <tr>\n      <th>3</th>\n      <td><div class=\"not-number\">api</div></td>\n      <td><div class=\"not-number\">api/feat-f_preds.npy: float32</div></td>\n      <td>4634128</td>\n      <td>0.022</td>\n    </tr>\n    <tr>\n      <th>0</th>\n      <td><div class=\"not-number\">api</div></td>\n      <td><div class=\"not-number\">api/lite.parquet</div></td>\n      <td>4599893</td>\n      <td>0.022</td>\n    </tr>\n    <tr>\n      <th>9</th>\n      <td><div class=\"not-number\">mobile-version[0]</div></td>\n      <td><div class=\"not-number\">TOTAL</div></td>\n      <td>211677184</td>\n      <td>1.000</td>\n    </tr>\n    <tr>\n      <th>6</th>\n      <td><div class=\"not-number\">mobile-version[0]</div></td>\n      <td><div class=\"not-number\">mobile-version[0]/search_recs/audio/</div></td>\n      <td>150949888</td>\n      <td>0.713</td>\n    </tr>\n    <tr>\n      <th>7</th>\n      <td><div class=\"not-number\">mobile-version[0]</div></td>\n      <td><div class=\"not-number\">mobile-version[0]/search_recs/spectro/</div></td>\n      <td>45084672</td>\n      <td>0.213</td>\n    </tr>\n    <tr>\n      <th>8</th>\n      <td><div class=\"not-number\">mobile-version[0]</div></td>\n      <td><div class=\"not-number\">mobile-version[0]/search_recs/search_recs.sqlite3</div></td>\n      <td>15642624</td>\n      <td>0.074</td>\n    </tr>\n  </tbody>\n</table>",
      "text/plain": "                 dir                                               file       size   frac\n5                api                                              TOTAL  210721524  1.000\n1                api                      api/bytes-audio_bytes.parquet  142018687  0.674\n2                api                    api/bytes-spectro_bytes.parquet   38468688  0.183\n4                api                         api/feat-feat.npy: float32   21000128  0.100\n3                api                      api/feat-f_preds.npy: float32    4634128  0.022\n0                api                                   api/lite.parquet    4599893  0.022\n9  mobile-version[0]                                              TOTAL  211677184  1.000\n6  mobile-version[0]               mobile-version[0]/search_recs/audio/  150949888  0.713\n7  mobile-version[0]             mobile-version[0]/search_recs/spectro/   45084672  0.213\n8  mobile-version[0]  mobile-version[0]/search_recs/search_recs.sqlite3   15642624  0.074"
     },
     "metadata": {},
     "output_type": "display_data",
     "transient": {}
    },
    {
     "data": {
      "image/png": "[encoded data removed]",
      "text/plain": "<matplotlib.figure.Figure object at 0x13b0ba828>"
     },
     "metadata": {
      "image/png": {
       "height": 298,
       "width": 1180
      }
     },
     "output_type": "display_data",
     "transient": {}
    },
    {
     "data": {
      "text/html": " ",
      "text/plain": "<ggplot: (335260452)>"
     },
     "metadata": {},
     "output_type": "display_data",
     "transient": {}
    },
    {
     "data": {
      "image/png": "[encoded data removed]",
      "text/plain": "<matplotlib.figure.Figure object at 0x13b600470>"
     },
     "metadata": {
      "image/png": {
       "height": 211,
       "width": 1052
      }
     },
     "output_type": "display_data",
     "transient": {}
    },
    {
     "data": {
      "text/html": " ",
      "text/plain": "<ggplot: (-9223372036519499944)>"
     },
     "metadata": {},
     "output_type": "display_data",
     "transient": {}
    },
    {
     "data": {
      "text/html": "<table border=\"1\" class=\"dataframe\">\n  <thead>\n    <tr style=\"text-align: right;\">\n      <th></th>\n      <th>size</th>\n      <th>type</th>\n      <th>0</th>\n    </tr>\n  </thead>\n  <tbody>\n    <tr>\n      <th>xc_id</th>\n      <td>36</td>\n      <td><div class=\"not-number\">int</div></td>\n      <td>413174</td>\n    </tr>\n    <tr>\n      <th>feat</th>\n      <td>6104</td>\n      <td><div class=\"not-number\">ndarray</div></td>\n      <td><div class=\"not-number\">[ 9.259e-02 -3.927e-02  4.972e-01 -4.154e-04 -4.900e-02 -6.117e-02  3.974e-02 -1.629e-01  6.649e-02 -1.643e-02\n -8.081e-02 -7.604e-02 -9.098e-02  4.766e-02 -4.830e-02 -6.90...</td>\n    </tr>\n    <tr>\n      <th>f_preds</th>\n      <td>104</td>\n      <td><div class=\"not-number\">ndarray</div></td>\n      <td><div class=\"not-number\">[3.219e-03 1.693e-03 4.284e-05 3.685e-03 1.657e-03 1.457e-02 9.939e-03 1.444e-03 2.617e-04 6.943e-04 4.435e-04\n 7.072e-04 2.569e-03 9.745e-03 8.396e-04 2.003e-03 7.801e-04 ...</td>\n    </tr>\n    <tr>\n      <th>background</th>\n      <td>80</td>\n      <td><div class=\"not-number\">list</div></td>\n      <td><div class=\"not-number\">['White-crowned Sparrow (Zonotrichia leucophrys)']</div></td>\n    </tr>\n    <tr>\n      <th>background_species</th>\n      <td>80</td>\n      <td><div class=\"not-number\">list</div></td>\n      <td><div class=\"not-number\">['WCSP']</div></td>\n    </tr>\n  </tbody>\n</table>",
      "text/plain": "                    size     type                                                                                                                                                                                                        0\nxc_id                 36      int                                                                                                                                                                                                   413174\nfeat                6104  ndarray  [0.09258732, -0.039267898, 0.49721217, -0.00041539228, -0.048999168, -0.0611713, 0.03974079, -0.16286443, 0.06649229, -0.016432613, -0.080809884, -0.076037146, -0.090977564, 0.047662657, -0.048301...\nf_preds              104  ndarray  [0.003219216, 0.0016933391, 4.2837153e-05, 0.0036848816, 0.0016570376, 0.014565381, 0.0099388985, 0.0014441155, 0.0002616892, 0.0006942802, 0.0004434612, 0.00070716365, 0.0025688438, 0.009744544, ...\nbackground            80     list                                                                                                                                                         [White-crowned Sparrow (Zonotrichia leucophrys)]\nbackground_species    80     list                                                                                                                                                                                                   [WCSP]"
     },
     "metadata": {},
     "output_type": "display_data",
     "transient": {}
    }
   ],
   "source": [
    "log_levels({\n",
    "    'payloads': 'INFO',\n",
    "    # 'payloads': 'DEBUG',\n",
    "})\n",
    "kwargss = [\n",
    "    # dict(cache_type='hybrid', refresh=True),  # Simulate cache miss\n",
    "    dict(cache_type='hybrid'),                # Simulate cache hit\n",
    "]\n",
    "search_recss = []\n",
    "for i, kwargs in enumerate(kwargss):\n",
    "    if i > 0: print()\n",
    "    print(f'search_recs(**{kwargs})')\n",
    "    get_search_recs.cache_clear()\n",
    "    search_recs = get_search_recs(**kwargs,\n",
    "        write_mobile_payload=True,\n",
    "        plot_sizes=True,\n",
    "    )\n",
    "    search_recss.append(search_recs)\n",
    "    display(search_recs\n",
    "        [['xc_id', 'feat', 'f_preds', 'background', 'background_species']]\n",
    "        [2:3].reset_index(drop=True).T\n",
    "        .pipe(df_assign_first,\n",
    "            size=lambda df: df.T.memory_usage(deep=True),\n",
    "            type=lambda df: df[0].map(lambda x: type(x).__name__),\n",
    "        )\n",
    "    )"
   ]
  },
  {
   "cell_type": "code",
   "execution_count": null,
   "metadata": {
    "skip": true
   },
   "outputs": [
    {
     "name": "stdout",
     "output_type": "stream",
     "text": "[skip]"
    }
   ],
   "source": [
    "# TODO Turn this into unit tests\n",
    "#   - Should roundtrip, should preserve category dtypes, should fail if index present\n",
    "assert len(search_recss) == 2, \"Test requires both 'cache hit' + 'cache miss' to be uncommented (above)\"\n",
    "[a, b] = search_recss\n",
    "pd.testing.assert_frame_equal(a, b, check_column_type=True,\n",
    "    check_index_type=False,  # Allow Int64Index vs. RangeIndex\n",
    ")"
   ]
  },
  {
   "cell_type": "code",
   "execution_count": null,
   "metadata": {},
   "outputs": [],
   "source": []
  }
 ],
 "metadata": {
  "kernelspec": {
   "display_name": "bubo-features (PYTHONSTARTUP)",
   "language": "python",
   "name": "bubo-features (PYTHONSTARTUP)"
  }
 },
 "nbformat": 4,
 "nbformat_minor": 2
}
