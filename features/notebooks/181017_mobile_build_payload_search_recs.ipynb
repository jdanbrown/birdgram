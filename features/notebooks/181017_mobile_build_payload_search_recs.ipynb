{
 "cells": [
  {
   "cell_type": "markdown",
   "metadata": {},
   "source": [
    "# Takeaways\n",
    "- Maintain separate payloads for api vs. mobile\n",
    "    - Faster to read/write .parquet + .npy, but only api can use those\n",
    "    - Mobile needs to use .sqlite + files (.png, .mp4), but it's slower for both read and write\n",
    "- TODO Still more room to compress mobile payloads\n",
    "    - 71% of payload: audio\n",
    "        - Can be cut in ~half if we can drop 32k -> 16k (maybe with aac_he?)\n",
    "            - Android supports HE-AACv2: https://developer.android.com/guide/topics/media/media-formats\n",
    "            - But ios doesn't? https://apple.co/2NORQHB\n",
    "        - Payload 1.98g -> ~1.28g -- ✅ ~35% of payload\n",
    "    - 21% of payload: spectro\n",
    "        - Not much excess: maybe ~5% of spectros (see notebooks/spectro_img_encode)\n",
    "        - Payload 1.98g -> ~1.96g -- ❌ ~1% of payload\n",
    "    - 5.9% of payload: f_preds_* sqlite cols (n_sp=331)\n",
    "        - (Based on: 119m = 164m with - 45m without)\n",
    "        - No float32 in sqlite, only float64 [❓ Unless we get clever and pack into int32/int16, or blob...]\n",
    "            - [e.g. blob: https://github.com/SeanTater/sqlite3-extras]\n",
    "        - Can pca compress, but can't achieve more than a few % of payload\n",
    "        - Payload 1.98g -> ~1.98g with n_components=331 -- min ~0% of payload\n",
    "        - Payload 1.98g -> ~1.93g with n_components=150 --  🔶 ~3% of payload\n",
    "        - Payload 1.98g -> ~1.90g with n_components=100 --  🔶 ~4% of payload\n",
    "        - Payload 1.98g -> ~1.86g with n_components=10  --  🔶 ~6% of payload\n",
    "        - Payload 1.98g -> ~1.86g with n_components=0   -- max ~6% of payload\n",
    "    - 2.2% of payload: rest of sqlite cols\n",
    "        - Max ~2% of payload -- ❌ low ROI"
   ]
  },
  {
   "cell_type": "code",
   "execution_count": null,
   "metadata": {
    "time": "3.186s"
   },
   "outputs": [
    {
     "name": "stdout",
     "output_type": "stream",
     "text": "INFO     [11:48:52.993] [89193] 151 logging_/<module>: {logging_yaml: None}"
    },
    {
     "name": "stdout",
     "output_type": "stream",
     "text": "\n"
    },
    {
     "name": "stdout",
     "output_type": "stream",
     "text": "INFO     [11:48:53.545] [89193]  32 api.server_globals/init"
    },
    {
     "name": "stdout",
     "output_type": "stream",
     "text": "\n"
    },
    {
     "name": "stdout",
     "output_type": "stream",
     "text": "DEBUG    [11:48:53.552] [89193]  75 api.server_globals/load: load_search..."
    },
    {
     "name": "stdout",
     "output_type": "stream",
     "text": "\n"
    },
    {
     "name": "stdout",
     "output_type": "stream",
     "text": "INFO     [11:48:53.942] [89193]  79 api.server_globals/load: load_search (took 0.383s)"
    },
    {
     "name": "stdout",
     "output_type": "stream",
     "text": "\n"
    },
    {
     "name": "stdout",
     "output_type": "stream",
     "text": "DEBUG    [11:48:53.951] [89193]  75 api.server_globals/load: load_xc_meta..."
    },
    {
     "name": "stdout",
     "output_type": "stream",
     "text": "\n"
    },
    {
     "name": "stdout",
     "output_type": "stream",
     "text": "INFO     [11:48:54.384] [89193]  79 api.server_globals/load: load_xc_meta (took 0.426s)"
    },
    {
     "name": "stdout",
     "output_type": "stream",
     "text": "\n"
    },
    {
     "name": "stdout",
     "output_type": "stream",
     "text": "DEBUG    [11:48:54.392] [89193]  75 api.server_globals/load: load_feat_info..."
    },
    {
     "name": "stdout",
     "output_type": "stream",
     "text": "\n"
    },
    {
     "name": "stdout",
     "output_type": "stream",
     "text": "INFO     [11:48:54.399] [89193] 110 api.server_globals/load_feat_info"
    },
    {
     "name": "stdout",
     "output_type": "stream",
     "text": "\n"
    },
    {
     "name": "stdout",
     "output_type": "stream",
     "text": "INFO     [11:48:54.406] [89193]  79 api.server_globals/load: load_feat_info (took 0.007s)"
    },
    {
     "name": "stdout",
     "output_type": "stream",
     "text": "\n"
    },
    {
     "name": "stdout",
     "output_type": "stream",
     "text": "WARNING  [11:48:54.412] [89193]  73 api.server_globals/load: load_search_recs [skipped]"
    },
    {
     "name": "stdout",
     "output_type": "stream",
     "text": "\n"
    },
    {
     "name": "stdout",
     "output_type": "stream",
     "text": "INFO     [11:48:54.419] [89193]  34 api.server_globals/init: done"
    },
    {
     "name": "stdout",
     "output_type": "stream",
     "text": "\n"
    }
   ],
   "source": [
    "from notebooks import *\n",
    "sg.init(None, skip=[sg_load.load_search_recs])\n",
    "get_search_recs.cache_clear()"
   ]
  },
  {
   "cell_type": "markdown",
   "metadata": {},
   "source": [
    "# Perf notes\n",
    "\n",
    "Before\n",
    "- Cold cache (warm pagecache but cold python proc)\n",
    "```\n",
    "search_recs(**{'cache_type': 'hybrid'})\n",
    "...\n",
    "DEBUG    [12:58:26.994] [37904] 119 payloads/df_cache_hybrid: Hit [start]\n",
    "DEBUG    [12:58:27.001] [37904] 129 payloads/df_cache_hybrid: Hit: Reading non_feats.parquet (1.8 GB)\n",
    "INFO     [12:58:32.028] [37904] 136 payloads/df_cache_hybrid: Hit: Read non_feats.parquet (1.8 GB)\n",
    "DEBUG    [12:58:32.040] [37904] 141 payloads/df_cache_hybrid: Hit: Reading feat-f_preds.npy (46.6 MB)\n",
    "INFO     [12:58:32.077] [37904] 143 payloads/df_cache_hybrid: Hit: Read feat-f_preds.npy: float32 (46.6 MB)\n",
    "DEBUG    [12:58:32.084] [37904] 141 payloads/df_cache_hybrid: Hit: Reading feat-feat.npy (211.4 MB)\n",
    "INFO     [12:58:32.211] [37904] 143 payloads/df_cache_hybrid: Hit: Read feat-feat.npy: float32 (211.4 MB)\n",
    "INFO     [12:58:32.218] [37904] 147 payloads/df_cache_hybrid: Hit: Join non_feats + feats\n",
    "INFO     [12:58:32.469] [37904] 155 payloads/df_cache_hybrid: Hit [5.475s]\n",
    "```"
   ]
  },
  {
   "cell_type": "code",
   "execution_count": null,
   "metadata": {
    "time": "22.08s"
   },
   "outputs": [
    {
     "name": "stdout",
     "output_type": "stream",
     "text": "search_recs(**{'cache_type': 'hybrid', 'refresh': True})"
    },
    {
     "name": "stdout",
     "output_type": "stream",
     "text": "\n"
    },
    {
     "name": "stdout",
     "output_type": "stream",
     "text": "INFO     [11:48:54.599] [89193] 601 api.recs/get_search_recs"
    },
    {
     "name": "stdout",
     "output_type": "stream",
     "text": "\n"
    },
    {
     "name": "stdout",
     "output_type": "stream",
     "text": "INFO     [11:48:54.617] [89193]  79 payloads/df_cache_hybrid: Miss: payloads/search_recs-version[8],limit[100],audio_s[10],countries_k[na],com_names_k[ca],num_recs[None]-fb42447"
    },
    {
     "name": "stdout",
     "output_type": "stream",
     "text": "\n"
    },
    {
     "name": "stdout",
     "output_type": "stream",
     "text": "INFO     [11:48:54.630] [89193] 659 api.recs/_compute_search_recs: {len(sg.xc_meta): 35233, countries_k: na, com_names_k: ca, num_recs: null}"
    },
    {
     "name": "stdout",
     "output_type": "stream",
     "text": "\n"
    },
    {
     "name": "stdout",
     "output_type": "stream",
     "text": "\rto_paths_sliced: ["
    },
    {
     "name": "stdout",
     "output_type": "stream",
     "text": "                                                                               "
    },
    {
     "name": "stdout",
     "output_type": "stream",
     "text": "] |   0% (100) |  0.0s"
    },
    {
     "name": "stdout",
     "output_type": "stream",
     "text": "\rto_paths_sliced: ["
    },
    {
     "name": "stdout",
     "output_type": "stream",
     "text": "###############################################################################"
    },
    {
     "name": "stdout",
     "output_type": "stream",
     "text": "] | 100% (100) |  0.1s"
    },
    {
     "name": "stdout",
     "output_type": "stream",
     "text": "\n"
    },
    {
     "name": "stdout",
     "output_type": "stream",
     "text": "\raudio_metadata: ["
    },
    {
     "name": "stdout",
     "output_type": "stream",
     "text": "                                                                                "
    },
    {
     "name": "stdout",
     "output_type": "stream",
     "text": "] |   0% (100) |  0.0s"
    },
    {
     "name": "stdout",
     "output_type": "stream",
     "text": "\raudio_metadata: ["
    },
    {
     "name": "stdout",
     "output_type": "stream",
     "text": "                                                                                "
    },
    {
     "name": "stdout",
     "output_type": "stream",
     "text": "] |   0% (100) |  0.1s"
    },
    {
     "name": "stdout",
     "output_type": "stream",
     "text": "\raudio_metadata: ["
    },
    {
     "name": "stdout",
     "output_type": "stream",
     "text": "                                                                                "
    },
    {
     "name": "stdout",
     "output_type": "stream",
     "text": "] |   0% (100) |  0.4s"
    },
    {
     "name": "stdout",
     "output_type": "stream",
     "text": "\raudio_metadata: ["
    },
    {
     "name": "stdout",
     "output_type": "stream",
     "text": "######                                                                          "
    },
    {
     "name": "stdout",
     "output_type": "stream",
     "text": "] |   8% (100) |  3.9s"
    },
    {
     "name": "stdout",
     "output_type": "stream",
     "text": "\raudio_metadata: ["
    },
    {
     "name": "stdout",
     "output_type": "stream",
     "text": "############                                                                    "
    },
    {
     "name": "stdout",
     "output_type": "stream",
     "text": "] |  16% (100) |  4.1s"
    },
    {
     "name": "stdout",
     "output_type": "stream",
     "text": "\raudio_metadata: ["
    },
    {
     "name": "stdout",
     "output_type": "stream",
     "text": "##################                                                              "
    },
    {
     "name": "stdout",
     "output_type": "stream",
     "text": "] |  23% (100) |  4.3s"
    },
    {
     "name": "stdout",
     "output_type": "stream",
     "text": "\raudio_metadata: ["
    },
    {
     "name": "stdout",
     "output_type": "stream",
     "text": "########################                                                        "
    },
    {
     "name": "stdout",
     "output_type": "stream",
     "text": "] |  31% (100) |  4.4s"
    },
    {
     "name": "stdout",
     "output_type": "stream",
     "text": "\raudio_metadata: ["
    },
    {
     "name": "stdout",
     "output_type": "stream",
     "text": "#############################                                                   "
    },
    {
     "name": "stdout",
     "output_type": "stream",
     "text": "] |  36% (100) |  4.6s"
    },
    {
     "name": "stdout",
     "output_type": "stream",
     "text": "\raudio_metadata: ["
    },
    {
     "name": "stdout",
     "output_type": "stream",
     "text": "#################################                                               "
    },
    {
     "name": "stdout",
     "output_type": "stream",
     "text": "] |  42% (100) |  4.7s"
    },
    {
     "name": "stdout",
     "output_type": "stream",
     "text": "\raudio_metadata: ["
    },
    {
     "name": "stdout",
     "output_type": "stream",
     "text": "####################################                                            "
    },
    {
     "name": "stdout",
     "output_type": "stream",
     "text": "] |  46% (100) |  4.9s"
    },
    {
     "name": "stdout",
     "output_type": "stream",
     "text": "\raudio_metadata: ["
    },
    {
     "name": "stdout",
     "output_type": "stream",
     "text": "########################################                                        "
    },
    {
     "name": "stdout",
     "output_type": "stream",
     "text": "] |  51% (100) |  5.0s"
    },
    {
     "name": "stdout",
     "output_type": "stream",
     "text": "\raudio_metadata: ["
    },
    {
     "name": "stdout",
     "output_type": "stream",
     "text": "##############################################                                  "
    },
    {
     "name": "stdout",
     "output_type": "stream",
     "text": "] |  57% (100) |  5.2s"
    },
    {
     "name": "stdout",
     "output_type": "stream",
     "text": "\raudio_metadata: ["
    },
    {
     "name": "stdout",
     "output_type": "stream",
     "text": "##################################################                              "
    },
    {
     "name": "stdout",
     "output_type": "stream",
     "text": "] |  63% (100) |  5.3s"
    },
    {
     "name": "stdout",
     "output_type": "stream",
     "text": "\raudio_metadata: ["
    },
    {
     "name": "stdout",
     "output_type": "stream",
     "text": "######################################################                          "
    },
    {
     "name": "stdout",
     "output_type": "stream",
     "text": "] |  68% (100) |  5.5s"
    },
    {
     "name": "stdout",
     "output_type": "stream",
     "text": "\raudio_metadata: ["
    },
    {
     "name": "stdout",
     "output_type": "stream",
     "text": "############################################################                    "
    },
    {
     "name": "stdout",
     "output_type": "stream",
     "text": "] |  75% (100) |  5.6s"
    },
    {
     "name": "stdout",
     "output_type": "stream",
     "text": "\raudio_metadata: ["
    },
    {
     "name": "stdout",
     "output_type": "stream",
     "text": "################################################################                "
    },
    {
     "name": "stdout",
     "output_type": "stream",
     "text": "] |  81% (100) |  5.8s"
    },
    {
     "name": "stdout",
     "output_type": "stream",
     "text": "\raudio_metadata: ["
    },
    {
     "name": "stdout",
     "output_type": "stream",
     "text": "#####################################################################           "
    },
    {
     "name": "stdout",
     "output_type": "stream",
     "text": "] |  87% (100) |  6.0s"
    },
    {
     "name": "stdout",
     "output_type": "stream",
     "text": "\raudio_metadata: ["
    },
    {
     "name": "stdout",
     "output_type": "stream",
     "text": "#########################################################################       "
    },
    {
     "name": "stdout",
     "output_type": "stream",
     "text": "] |  92% (100) |  6.1s"
    },
    {
     "name": "stdout",
     "output_type": "stream",
     "text": "\raudio_metadata: ["
    },
    {
     "name": "stdout",
     "output_type": "stream",
     "text": "################################################################################"
    },
    {
     "name": "stdout",
     "output_type": "stream",
     "text": "] | 100% (100) |  6.3s"
    },
    {
     "name": "stdout",
     "output_type": "stream",
     "text": "\n"
    },
    {
     "name": "stdout",
     "output_type": "stream",
     "text": "\rfeat: ["
    },
    {
     "name": "stdout",
     "output_type": "stream",
     "text": "                                                                                          "
    },
    {
     "name": "stdout",
     "output_type": "stream",
     "text": "] |   0% (100) |  0.0s"
    },
    {
     "name": "stdout",
     "output_type": "stream",
     "text": "\rfeat: ["
    },
    {
     "name": "stdout",
     "output_type": "stream",
     "text": "#                                                                                         "
    },
    {
     "name": "stdout",
     "output_type": "stream",
     "text": "] |   2% (100) |  0.1s"
    },
    {
     "name": "stdout",
     "output_type": "stream",
     "text": "\rfeat: ["
    },
    {
     "name": "stdout",
     "output_type": "stream",
     "text": "#####                                                                                     "
    },
    {
     "name": "stdout",
     "output_type": "stream",
     "text": "] |   6% (100) |  0.2s"
    },
    {
     "name": "stdout",
     "output_type": "stream",
     "text": "\rfeat: ["
    },
    {
     "name": "stdout",
     "output_type": "stream",
     "text": "########                                                                                  "
    },
    {
     "name": "stdout",
     "output_type": "stream",
     "text": "] |   9% (100) |  0.3s"
    },
    {
     "name": "stdout",
     "output_type": "stream",
     "text": "\rfeat: ["
    },
    {
     "name": "stdout",
     "output_type": "stream",
     "text": "###########                                                                               "
    },
    {
     "name": "stdout",
     "output_type": "stream",
     "text": "] |  13% (100) |  0.4s"
    },
    {
     "name": "stdout",
     "output_type": "stream",
     "text": "\rfeat: ["
    },
    {
     "name": "stdout",
     "output_type": "stream",
     "text": "##############                                                                            "
    },
    {
     "name": "stdout",
     "output_type": "stream",
     "text": "] |  16% (100) |  0.5s"
    },
    {
     "name": "stdout",
     "output_type": "stream",
     "text": "\rfeat: ["
    },
    {
     "name": "stdout",
     "output_type": "stream",
     "text": "##################                                                                        "
    },
    {
     "name": "stdout",
     "output_type": "stream",
     "text": "] |  20% (100) |  0.6s"
    },
    {
     "name": "stdout",
     "output_type": "stream",
     "text": "\rfeat: ["
    },
    {
     "name": "stdout",
     "output_type": "stream",
     "text": "####################                                                                      "
    },
    {
     "name": "stdout",
     "output_type": "stream",
     "text": "] |  23% (100) |  0.7s"
    },
    {
     "name": "stdout",
     "output_type": "stream",
     "text": "\rfeat: ["
    },
    {
     "name": "stdout",
     "output_type": "stream",
     "text": "#########################                                                                 "
    },
    {
     "name": "stdout",
     "output_type": "stream",
     "text": "] |  28% (100) |  0.9s"
    },
    {
     "name": "stdout",
     "output_type": "stream",
     "text": "\rfeat: ["
    },
    {
     "name": "stdout",
     "output_type": "stream",
     "text": "###########################                                                               "
    },
    {
     "name": "stdout",
     "output_type": "stream",
     "text": "] |  31% (100) |  1.0s"
    },
    {
     "name": "stdout",
     "output_type": "stream",
     "text": "\rfeat: ["
    },
    {
     "name": "stdout",
     "output_type": "stream",
     "text": "###############################                                                           "
    },
    {
     "name": "stdout",
     "output_type": "stream",
     "text": "] |  35% (100) |  1.1s"
    },
    {
     "name": "stdout",
     "output_type": "stream",
     "text": "\rfeat: ["
    },
    {
     "name": "stdout",
     "output_type": "stream",
     "text": "###################################                                                       "
    },
    {
     "name": "stdout",
     "output_type": "stream",
     "text": "] |  39% (100) |  1.2s"
    },
    {
     "name": "stdout",
     "output_type": "stream",
     "text": "\rfeat: ["
    },
    {
     "name": "stdout",
     "output_type": "stream",
     "text": "######################################                                                    "
    },
    {
     "name": "stdout",
     "output_type": "stream",
     "text": "] |  43% (100) |  1.3s"
    },
    {
     "name": "stdout",
     "output_type": "stream",
     "text": "\rfeat: ["
    },
    {
     "name": "stdout",
     "output_type": "stream",
     "text": "##########################################                                                "
    },
    {
     "name": "stdout",
     "output_type": "stream",
     "text": "] |  47% (100) |  1.4s"
    },
    {
     "name": "stdout",
     "output_type": "stream",
     "text": "\rfeat: ["
    },
    {
     "name": "stdout",
     "output_type": "stream",
     "text": "#############################################                                             "
    },
    {
     "name": "stdout",
     "output_type": "stream",
     "text": "] |  50% (100) |  1.5s"
    },
    {
     "name": "stdout",
     "output_type": "stream",
     "text": "\rfeat: ["
    },
    {
     "name": "stdout",
     "output_type": "stream",
     "text": "##################################################                                        "
    },
    {
     "name": "stdout",
     "output_type": "stream",
     "text": "] |  56% (100) |  1.6s"
    },
    {
     "name": "stdout",
     "output_type": "stream",
     "text": "\rfeat: ["
    },
    {
     "name": "stdout",
     "output_type": "stream",
     "text": "######################################################                                    "
    },
    {
     "name": "stdout",
     "output_type": "stream",
     "text": "] |  60% (100) |  1.7s"
    },
    {
     "name": "stdout",
     "output_type": "stream",
     "text": "\rfeat: ["
    },
    {
     "name": "stdout",
     "output_type": "stream",
     "text": "########################################################                                  "
    },
    {
     "name": "stdout",
     "output_type": "stream",
     "text": "] |  63% (100) |  1.8s"
    },
    {
     "name": "stdout",
     "output_type": "stream",
     "text": "\rfeat: ["
    },
    {
     "name": "stdout",
     "output_type": "stream",
     "text": "############################################################                              "
    },
    {
     "name": "stdout",
     "output_type": "stream",
     "text": "] |  67% (100) |  1.9s"
    },
    {
     "name": "stdout",
     "output_type": "stream",
     "text": "\rfeat: ["
    },
    {
     "name": "stdout",
     "output_type": "stream",
     "text": "###############################################################                           "
    },
    {
     "name": "stdout",
     "output_type": "stream",
     "text": "] |  71% (100) |  2.0s"
    },
    {
     "name": "stdout",
     "output_type": "stream",
     "text": "\rfeat: ["
    },
    {
     "name": "stdout",
     "output_type": "stream",
     "text": "##################################################################                        "
    },
    {
     "name": "stdout",
     "output_type": "stream",
     "text": "] |  74% (100) |  2.1s"
    },
    {
     "name": "stdout",
     "output_type": "stream",
     "text": "\rfeat: ["
    },
    {
     "name": "stdout",
     "output_type": "stream",
     "text": "######################################################################                    "
    },
    {
     "name": "stdout",
     "output_type": "stream",
     "text": "] |  78% (100) |  2.2s"
    },
    {
     "name": "stdout",
     "output_type": "stream",
     "text": "\rfeat: ["
    },
    {
     "name": "stdout",
     "output_type": "stream",
     "text": "#########################################################################                 "
    },
    {
     "name": "stdout",
     "output_type": "stream",
     "text": "] |  82% (100) |  2.3s"
    },
    {
     "name": "stdout",
     "output_type": "stream",
     "text": "\rfeat: ["
    },
    {
     "name": "stdout",
     "output_type": "stream",
     "text": "#############################################################################             "
    },
    {
     "name": "stdout",
     "output_type": "stream",
     "text": "] |  86% (100) |  2.4s"
    },
    {
     "name": "stdout",
     "output_type": "stream",
     "text": "\rfeat: ["
    },
    {
     "name": "stdout",
     "output_type": "stream",
     "text": "#################################################################################         "
    },
    {
     "name": "stdout",
     "output_type": "stream",
     "text": "] |  90% (100) |  2.5s"
    },
    {
     "name": "stdout",
     "output_type": "stream",
     "text": "\rfeat: ["
    },
    {
     "name": "stdout",
     "output_type": "stream",
     "text": "###################################################################################       "
    },
    {
     "name": "stdout",
     "output_type": "stream",
     "text": "] |  93% (100) |  2.6s"
    },
    {
     "name": "stdout",
     "output_type": "stream",
     "text": "\rfeat: ["
    },
    {
     "name": "stdout",
     "output_type": "stream",
     "text": "#######################################################################################   "
    },
    {
     "name": "stdout",
     "output_type": "stream",
     "text": "] |  97% (100) |  2.7s"
    },
    {
     "name": "stdout",
     "output_type": "stream",
     "text": "\rfeat: ["
    },
    {
     "name": "stdout",
     "output_type": "stream",
     "text": "##########################################################################################"
    },
    {
     "name": "stdout",
     "output_type": "stream",
     "text": "] | 100% (100) |  2.8s"
    },
    {
     "name": "stdout",
     "output_type": "stream",
     "text": "\n"
    },
    {
     "name": "stdout",
     "output_type": "stream",
     "text": "\rf_preds: ["
    },
    {
     "name": "stdout",
     "output_type": "stream",
     "text": "                                                                                       "
    },
    {
     "name": "stdout",
     "output_type": "stream",
     "text": "] |   0% (100) |  0.0s"
    },
    {
     "name": "stdout",
     "output_type": "stream",
     "text": "\rf_preds: ["
    },
    {
     "name": "stdout",
     "output_type": "stream",
     "text": "                                                                                       "
    },
    {
     "name": "stdout",
     "output_type": "stream",
     "text": "] |   0% (100) |  0.1s"
    },
    {
     "name": "stdout",
     "output_type": "stream",
     "text": "\rf_preds: ["
    },
    {
     "name": "stdout",
     "output_type": "stream",
     "text": "                                                                                       "
    },
    {
     "name": "stdout",
     "output_type": "stream",
     "text": "] |   0% (100) |  0.2s"
    },
    {
     "name": "stdout",
     "output_type": "stream",
     "text": "\rf_preds: ["
    },
    {
     "name": "stdout",
     "output_type": "stream",
     "text": "                                                                                       "
    },
    {
     "name": "stdout",
     "output_type": "stream",
     "text": "] |   0% (100) |  0.3s"
    },
    {
     "name": "stdout",
     "output_type": "stream",
     "text": "\rf_preds: ["
    },
    {
     "name": "stdout",
     "output_type": "stream",
     "text": "#######################################################################################"
    },
    {
     "name": "stdout",
     "output_type": "stream",
     "text": "] | 100% (100) |  0.5s"
    },
    {
     "name": "stdout",
     "output_type": "stream",
     "text": "\n"
    },
    {
     "name": "stderr",
     "output_type": "stream",
     "text": "\rrec_spectro_bytes:   0%|                                                                       | 0/100 [00:00<?, ?it/s]"
    },
    {
     "name": "stderr",
     "output_type": "stream",
     "text": "\rrec_spectro_bytes:   2%|█▎                                                             | 2/100 [00:00<00:06, 15.40it/s]"
    },
    {
     "name": "stderr",
     "output_type": "stream",
     "text": "\rrec_spectro_bytes:   5%|███▏                                                           | 5/100 [00:00<00:05, 17.96it/s]"
    },
    {
     "name": "stderr",
     "output_type": "stream",
     "text": "\rrec_spectro_bytes:   7%|████▍                                                          | 7/100 [00:00<00:05, 17.74it/s]"
    },
    {
     "name": "stderr",
     "output_type": "stream",
     "text": "\rrec_spectro_bytes:   9%|█████▋                                                         | 9/100 [00:00<00:05, 17.92it/s]"
    },
    {
     "name": "stderr",
     "output_type": "stream",
     "text": "\rrec_spectro_bytes:  11%|██████▊                                                       | 11/100 [00:00<00:04, 17.90it/s]"
    },
    {
     "name": "stderr",
     "output_type": "stream",
     "text": "\rrec_spectro_bytes:  13%|████████                                                      | 13/100 [00:00<00:04, 17.89it/s]"
    },
    {
     "name": "stderr",
     "output_type": "stream",
     "text": "\rrec_spectro_bytes:  15%|█████████▎                                                    | 15/100 [00:00<00:04, 17.78it/s]"
    },
    {
     "name": "stderr",
     "output_type": "stream",
     "text": "\rrec_spectro_bytes:  17%|██████████▌                                                   | 17/100 [00:00<00:04, 17.81it/s]"
    },
    {
     "name": "stderr",
     "output_type": "stream",
     "text": "\rrec_spectro_bytes:  19%|███████████▊                                                  | 19/100 [00:01<00:04, 17.85it/s]"
    },
    {
     "name": "stderr",
     "output_type": "stream",
     "text": "\rrec_spectro_bytes:  21%|█████████████                                                 | 21/100 [00:01<00:04, 17.73it/s]"
    },
    {
     "name": "stderr",
     "output_type": "stream",
     "text": "\rrec_spectro_bytes:  23%|██████████████▎                                               | 23/100 [00:01<00:04, 17.76it/s]"
    },
    {
     "name": "stderr",
     "output_type": "stream",
     "text": "\rrec_spectro_bytes:  25%|███████████████▌                                              | 25/100 [00:01<00:04, 17.70it/s]"
    },
    {
     "name": "stderr",
     "output_type": "stream",
     "text": "\rrec_spectro_bytes:  28%|█████████████████▎                                            | 28/100 [00:01<00:03, 18.01it/s]"
    },
    {
     "name": "stderr",
     "output_type": "stream",
     "text": "\rrec_spectro_bytes:  30%|██████████████████▌                                           | 30/100 [00:01<00:03, 17.91it/s]"
    },
    {
     "name": "stderr",
     "output_type": "stream",
     "text": "\rrec_spectro_bytes:  32%|███████████████████▊                                          | 32/100 [00:01<00:03, 17.86it/s]"
    },
    {
     "name": "stderr",
     "output_type": "stream",
     "text": "\rrec_spectro_bytes:  34%|█████████████████████                                         | 34/100 [00:01<00:03, 17.80it/s]"
    },
    {
     "name": "stderr",
     "output_type": "stream",
     "text": "\rrec_spectro_bytes:  36%|██████████████████████▎                                       | 36/100 [00:02<00:03, 17.76it/s]"
    },
    {
     "name": "stderr",
     "output_type": "stream",
     "text": "\rrec_spectro_bytes:  38%|███████████████████████▌                                      | 38/100 [00:02<00:03, 17.70it/s]"
    },
    {
     "name": "stderr",
     "output_type": "stream",
     "text": "\rrec_spectro_bytes:  40%|████████████████████████▊                                     | 40/100 [00:02<00:03, 17.66it/s]"
    },
    {
     "name": "stderr",
     "output_type": "stream",
     "text": "\rrec_spectro_bytes:  42%|██████████████████████████                                    | 42/100 [00:02<00:03, 17.60it/s]"
    },
    {
     "name": "stderr",
     "output_type": "stream",
     "text": "\rrec_spectro_bytes:  45%|███████████████████████████▉                                  | 45/100 [00:02<00:03, 17.72it/s]"
    },
    {
     "name": "stderr",
     "output_type": "stream",
     "text": "\rrec_spectro_bytes:  47%|█████████████████████████████▏                                | 47/100 [00:02<00:02, 17.71it/s]"
    },
    {
     "name": "stderr",
     "output_type": "stream",
     "text": "\rrec_spectro_bytes:  49%|██████████████████████████████▍                               | 49/100 [00:02<00:02, 17.72it/s]"
    },
    {
     "name": "stderr",
     "output_type": "stream",
     "text": "\rrec_spectro_bytes:  51%|███████████████████████████████▌                              | 51/100 [00:02<00:02, 17.75it/s]"
    },
    {
     "name": "stderr",
     "output_type": "stream",
     "text": "\rrec_spectro_bytes:  55%|██████████████████████████████████                            | 55/100 [00:02<00:02, 18.36it/s]"
    },
    {
     "name": "stderr",
     "output_type": "stream",
     "text": "\rrec_spectro_bytes:  58%|███████████████████████████████████▉                          | 58/100 [00:03<00:02, 18.37it/s]"
    },
    {
     "name": "stderr",
     "output_type": "stream",
     "text": "\rrec_spectro_bytes:  61%|█████████████████████████████████████▊                        | 61/100 [00:03<00:02, 18.39it/s]"
    },
    {
     "name": "stderr",
     "output_type": "stream",
     "text": "\rrec_spectro_bytes:  64%|███████████████████████████████████████▋                      | 64/100 [00:03<00:01, 18.25it/s]"
    },
    {
     "name": "stderr",
     "output_type": "stream",
     "text": "\rrec_spectro_bytes:  66%|████████████████████████████████████████▉                     | 66/100 [00:03<00:01, 18.19it/s]"
    },
    {
     "name": "stderr",
     "output_type": "stream",
     "text": "\rrec_spectro_bytes:  68%|██████████████████████████████████████████▏                   | 68/100 [00:03<00:01, 18.15it/s]"
    },
    {
     "name": "stderr",
     "output_type": "stream",
     "text": "\rrec_spectro_bytes:  70%|███████████████████████████████████████████▍                  | 70/100 [00:03<00:01, 18.05it/s]"
    },
    {
     "name": "stderr",
     "output_type": "stream",
     "text": "\rrec_spectro_bytes:  72%|████████████████████████████████████████████▋                 | 72/100 [00:04<00:01, 17.96it/s]"
    },
    {
     "name": "stderr",
     "output_type": "stream",
     "text": "\rrec_spectro_bytes:  74%|█████████████████████████████████████████████▉                | 74/100 [00:04<00:01, 17.97it/s]"
    },
    {
     "name": "stderr",
     "output_type": "stream",
     "text": "\rrec_spectro_bytes:  76%|███████████████████████████████████████████████               | 76/100 [00:04<00:01, 17.93it/s]"
    },
    {
     "name": "stderr",
     "output_type": "stream",
     "text": "\rrec_spectro_bytes:  78%|████████████████████████████████████████████████▎             | 78/100 [00:04<00:01, 17.86it/s]"
    },
    {
     "name": "stderr",
     "output_type": "stream",
     "text": "\rrec_spectro_bytes:  81%|██████████████████████████████████████████████████▏           | 81/100 [00:04<00:01, 17.95it/s]"
    },
    {
     "name": "stderr",
     "output_type": "stream",
     "text": "\rrec_spectro_bytes:  83%|███████████████████████████████████████████████████▍          | 83/100 [00:04<00:00, 17.94it/s]"
    },
    {
     "name": "stderr",
     "output_type": "stream",
     "text": "\rrec_spectro_bytes:  85%|████████████████████████████████████████████████████▋         | 85/100 [00:04<00:00, 17.93it/s]"
    },
    {
     "name": "stderr",
     "output_type": "stream",
     "text": "\rrec_spectro_bytes:  87%|█████████████████████████████████████████████████████▉        | 87/100 [00:04<00:00, 17.91it/s]"
    },
    {
     "name": "stderr",
     "output_type": "stream",
     "text": "\rrec_spectro_bytes:  89%|███████████████████████████████████████████████████████▏      | 89/100 [00:04<00:00, 17.91it/s]"
    },
    {
     "name": "stderr",
     "output_type": "stream",
     "text": "\rrec_spectro_bytes:  91%|████████████████████████████████████████████████████████▍     | 91/100 [00:05<00:00, 17.94it/s]"
    },
    {
     "name": "stderr",
     "output_type": "stream",
     "text": "\rrec_spectro_bytes:  93%|█████████████████████████████████████████████████████████▋    | 93/100 [00:05<00:00, 17.90it/s]"
    },
    {
     "name": "stderr",
     "output_type": "stream",
     "text": "\rrec_spectro_bytes:  95%|██████████████████████████████████████████████████████████▉   | 95/100 [00:05<00:00, 17.90it/s]"
    },
    {
     "name": "stderr",
     "output_type": "stream",
     "text": "\rrec_spectro_bytes:  97%|████████████████████████████████████████████████████████████▏ | 97/100 [00:05<00:00, 17.90it/s]"
    },
    {
     "name": "stderr",
     "output_type": "stream",
     "text": "\rrec_spectro_bytes:  99%|█████████████████████████████████████████████████████████████▍| 99/100 [00:05<00:00, 17.86it/s]"
    },
    {
     "name": "stderr",
     "output_type": "stream",
     "text": "\rrec_spectro_bytes: 100%|█████████████████████████████████████████████████████████████| 100/100 [00:05<00:00, 17.87it/s]"
    },
    {
     "name": "stderr",
     "output_type": "stream",
     "text": "\n"
    },
    {
     "name": "stdout",
     "output_type": "stream",
     "text": "INFO     [11:49:11.602] [89193] 925 api.recs/recs_featurize_spectro_bytes: [5.605s]"
    },
    {
     "name": "stdout",
     "output_type": "stream",
     "text": "\n"
    },
    {
     "name": "stdout",
     "output_type": "stream",
     "text": "\raudio_bytes: ["
    },
    {
     "name": "stdout",
     "output_type": "stream",
     "text": "                                                                                   "
    },
    {
     "name": "stdout",
     "output_type": "stream",
     "text": "] |   0% (100) |  0.0s"
    },
    {
     "name": "stdout",
     "output_type": "stream",
     "text": "\raudio_bytes: ["
    },
    {
     "name": "stdout",
     "output_type": "stream",
     "text": "###################################################################################"
    },
    {
     "name": "stdout",
     "output_type": "stream",
     "text": "] | 100% (100) |  0.1s"
    },
    {
     "name": "stdout",
     "output_type": "stream",
     "text": "\n"
    },
    {
     "name": "stdout",
     "output_type": "stream",
     "text": "INFO     [11:49:11.753] [89193] 999 api.recs/recs_featurize_audio_bytes: [0.133s]"
    },
    {
     "name": "stdout",
     "output_type": "stream",
     "text": "\n"
    },
    {
     "name": "stdout",
     "output_type": "stream",
     "text": "INFO     [11:49:11.763] [89193] 687 api.recs/recs_featurize_pre_rank: batches (1/1) [17.120s]"
    },
    {
     "name": "stdout",
     "output_type": "stream",
     "text": "\n"
    },
    {
     "name": "stdout",
     "output_type": "stream",
     "text": "INFO     [11:49:11.778] [89193]  85 payloads/df_cache_hybrid: Compute: search_recs [17.149s]"
    },
    {
     "name": "stdout",
     "output_type": "stream",
     "text": "\n"
    },
    {
     "name": "stdout",
     "output_type": "stream",
     "text": "INFO     [11:49:11.815] [89193] 103 payloads/df_cache_hybrid: Miss: Inferred feat_cols['f_preds', 'feat']"
    },
    {
     "name": "stdout",
     "output_type": "stream",
     "text": "\n"
    },
    {
     "name": "stdout",
     "output_type": "stream",
     "text": "INFO     [11:49:12.371] [89193] 111 payloads/df_cache_hybrid: Miss: Write api/lite.parquet [164.0 kB, 0.545s]"
    },
    {
     "name": "stdout",
     "output_type": "stream",
     "text": "\n"
    },
    {
     "name": "stdout",
     "output_type": "stream",
     "text": "INFO     [11:49:12.402] [89193] 120 payloads/df_cache_hybrid: Miss: Write api/bytes-audio_bytes.parquet [4.0 MB, 0.014s]"
    },
    {
     "name": "stdout",
     "output_type": "stream",
     "text": "\n"
    },
    {
     "name": "stdout",
     "output_type": "stream",
     "text": "INFO     [11:49:12.420] [89193] 120 payloads/df_cache_hybrid: Miss: Write api/bytes-spectro_bytes.parquet [1.1 MB, 0.005s]"
    },
    {
     "name": "stdout",
     "output_type": "stream",
     "text": "\n"
    },
    {
     "name": "stdout",
     "output_type": "stream",
     "text": "INFO     [11:49:12.433] [89193] 127 payloads/df_cache_hybrid: Miss: Write api/feat-f_preds.npy: float32 [132.5 kB, 0.002s]"
    },
    {
     "name": "stdout",
     "output_type": "stream",
     "text": "\n"
    },
    {
     "name": "stdout",
     "output_type": "stream",
     "text": "INFO     [11:49:12.447] [89193] 127 payloads/df_cache_hybrid: Miss: Write api/feat-feat.npy: float32 [600.1 kB, 0.002s]"
    },
    {
     "name": "stdout",
     "output_type": "stream",
     "text": "\n"
    },
    {
     "name": "stdout",
     "output_type": "stream",
     "text": "INFO     [11:49:12.456] [89193] 145 payloads/df_cache_hybrid: Miss: search_recs [0.665s]"
    },
    {
     "name": "stdout",
     "output_type": "stream",
     "text": "\n"
    },
    {
     "name": "stdout",
     "output_type": "stream",
     "text": "INFO     [11:49:12.500] [89193] 244 payloads/df_cache_hybrid: Mobile: Add columns for mobile [0.011s]"
    },
    {
     "name": "stdout",
     "output_type": "stream",
     "text": "\n"
    },
    {
     "name": "stdout",
     "output_type": "stream",
     "text": "\rMobile: Ensure dirs: audio_bytes: ["
    },
    {
     "name": "stdout",
     "output_type": "stream",
     "text": "                                                               "
    },
    {
     "name": "stdout",
     "output_type": "stream",
     "text": "] |   0% (53) |  0.0s"
    },
    {
     "name": "stdout",
     "output_type": "stream",
     "text": "\rMobile: Ensure dirs: audio_bytes: ["
    },
    {
     "name": "stdout",
     "output_type": "stream",
     "text": "###############################################################"
    },
    {
     "name": "stdout",
     "output_type": "stream",
     "text": "] | 100% (53) |  0.1s"
    },
    {
     "name": "stdout",
     "output_type": "stream",
     "text": "\n"
    },
    {
     "name": "stdout",
     "output_type": "stream",
     "text": "\rMobile: Write files: audio_bytes: ["
    },
    {
     "name": "stdout",
     "output_type": "stream",
     "text": "                                                              "
    },
    {
     "name": "stdout",
     "output_type": "stream",
     "text": "] |   0% (100) |  0.0s"
    },
    {
     "name": "stdout",
     "output_type": "stream",
     "text": "\rMobile: Write files: audio_bytes: ["
    },
    {
     "name": "stdout",
     "output_type": "stream",
     "text": "############################################################# "
    },
    {
     "name": "stdout",
     "output_type": "stream",
     "text": "] |  99% (100) |  0.1s"
    },
    {
     "name": "stdout",
     "output_type": "stream",
     "text": "\rMobile: Write files: audio_bytes: ["
    },
    {
     "name": "stdout",
     "output_type": "stream",
     "text": "##############################################################"
    },
    {
     "name": "stdout",
     "output_type": "stream",
     "text": "] | 100% (100) |  0.2s"
    },
    {
     "name": "stdout",
     "output_type": "stream",
     "text": "\n"
    },
    {
     "name": "stdout",
     "output_type": "stream",
     "text": "\rMobile: Ensure dirs: spectro_bytes: ["
    },
    {
     "name": "stdout",
     "output_type": "stream",
     "text": "                                                             "
    },
    {
     "name": "stdout",
     "output_type": "stream",
     "text": "] |   0% (53) |  0.0s"
    },
    {
     "name": "stdout",
     "output_type": "stream",
     "text": "\rMobile: Ensure dirs: spectro_bytes: ["
    },
    {
     "name": "stdout",
     "output_type": "stream",
     "text": "#############################################################"
    },
    {
     "name": "stdout",
     "output_type": "stream",
     "text": "] | 100% (53) |  0.1s"
    },
    {
     "name": "stdout",
     "output_type": "stream",
     "text": "\n"
    },
    {
     "name": "stdout",
     "output_type": "stream",
     "text": "\rMobile: Write files: spectro_bytes: ["
    },
    {
     "name": "stdout",
     "output_type": "stream",
     "text": "                                                            "
    },
    {
     "name": "stdout",
     "output_type": "stream",
     "text": "] |   0% (100) |  0.0s"
    },
    {
     "name": "stdout",
     "output_type": "stream",
     "text": "\rMobile: Write files: spectro_bytes: ["
    },
    {
     "name": "stdout",
     "output_type": "stream",
     "text": "############################################################"
    },
    {
     "name": "stdout",
     "output_type": "stream",
     "text": "] | 100% (100) |  0.1s"
    },
    {
     "name": "stdout",
     "output_type": "stream",
     "text": "\n"
    },
    {
     "name": "stdout",
     "output_type": "stream",
     "text": "INFO     [11:49:13.394] [89193] 286 payloads/df_cache_hybrid: Mobile: Expand feat col: f_preds (331) [0.148s]"
    },
    {
     "name": "stdout",
     "output_type": "stream",
     "text": "\n"
    },
    {
     "name": "stdout",
     "output_type": "stream",
     "text": "INFO     [11:49:13.413] [89193] 298 payloads/df_cache_hybrid: Mobile: Norm feat col: f_preds [0.003s]"
    },
    {
     "name": "stdout",
     "output_type": "stream",
     "text": "\n"
    },
    {
     "name": "stdout",
     "output_type": "stream",
     "text": "INFO     [11:49:13.429] [89193] 329 payloads/<dictcomp>: Mobile: Covert non-sql col: json_dumps_canonical(background) (100) [0.001s]"
    },
    {
     "name": "stdout",
     "output_type": "stream",
     "text": "\n"
    },
    {
     "name": "stdout",
     "output_type": "stream",
     "text": "INFO     [11:49:13.442] [89193] 329 payloads/<dictcomp>: Mobile: Covert non-sql col: json_dumps_canonical(background_species) (100) [0.001s]"
    },
    {
     "name": "stdout",
     "output_type": "stream",
     "text": "\n"
    },
    {
     "name": "stdout",
     "output_type": "stream",
     "text": "INFO     [11:49:14.200] [89193] 361 payloads/df_cache_hybrid: Mobile: Write mobile-version[1]/search_recs/search_recs.sqlite3 [499.7 kB, 0.746s]"
    },
    {
     "name": "stdout",
     "output_type": "stream",
     "text": "\n"
    },
    {
     "name": "stdout",
     "output_type": "stream",
     "text": "INFO     [11:49:14.216] [89193] 371 payloads/df_cache_hybrid: Mobile: Write mobile-version[1]/search_recs/server-config.json [2.3 kB, 0.001s]"
    },
    {
     "name": "stdout",
     "output_type": "stream",
     "text": "\n"
    },
    {
     "name": "stdout",
     "output_type": "stream",
     "text": "INFO     [11:49:14.236] [89193] 392 payloads/_npy: Mobile: Write mobile-version[1]/search_recs/models/projection.skm_.D.npy [420.1 kB, 0.006s]"
    },
    {
     "name": "stdout",
     "output_type": "stream",
     "text": "\n"
    },
    {
     "name": "stdout",
     "output_type": "stream",
     "text": "INFO     [11:49:14.249] [89193] 392 payloads/_npy: Mobile: Write mobile-version[1]/search_recs/models/projection.skm_.pca.mean_.npy [1.4 kB, 0.001s]"
    },
    {
     "name": "stdout",
     "output_type": "stream",
     "text": "\n"
    },
    {
     "name": "stdout",
     "output_type": "stream",
     "text": "INFO     [11:49:14.260] [89193] 392 payloads/_npy: Mobile: Write mobile-version[1]/search_recs/models/projection.skm_.pca.components_.npy [134.5 kB, 0.001s]"
    },
    {
     "name": "stdout",
     "output_type": "stream",
     "text": "\n"
    },
    {
     "name": "stdout",
     "output_type": "stream",
     "text": "INFO     [11:49:14.273] [89193] 392 payloads/_npy: Mobile: Write mobile-version[1]/search_recs/models/projection.skm_.pca.explained_variance_.npy [968 B, 0.001s]"
    },
    {
     "name": "stdout",
     "output_type": "stream",
     "text": "\n"
    },
    {
     "name": "stdout",
     "output_type": "stream",
     "text": "INFO     [11:49:14.291] [89193] 392 payloads/_npy: Mobile: Write mobile-version[1]/search_recs/models/classifier_._coef_arr.npy [4.0 MB, 0.003s]"
    },
    {
     "name": "stdout",
     "output_type": "stream",
     "text": "\n"
    },
    {
     "name": "stdout",
     "output_type": "stream",
     "text": "INFO     [11:49:14.307] [89193] 392 payloads/_npy: Mobile: Write mobile-version[1]/search_recs/models/classifier_._intercept_arr.npy [2.8 kB, 0.001s]"
    },
    {
     "name": "stdout",
     "output_type": "stream",
     "text": "\n"
    },
    {
     "name": "stdout",
     "output_type": "stream",
     "text": "INFO     [11:49:14.318] [89193] 446 payloads/df_cache_hybrid: Mobile: Write mobile-version[1]/search_recs/models/search.json [4.9 kB, 0.091s]"
    },
    {
     "name": "stdout",
     "output_type": "stream",
     "text": "\n"
    },
    {
     "name": "stdout",
     "output_type": "stream",
     "text": "INFO     [11:49:14.325] [89193] 446 payloads/df_cache_hybrid: Mobile: Write payload [1.859s]"
    },
    {
     "name": "stdout",
     "output_type": "stream",
     "text": "\n"
    },
    {
     "data": {
      "text/html": "<table border=\"1\" class=\"dataframe\">\n  <thead>\n    <tr style=\"text-align: right;\">\n      <th></th>\n      <th>dir</th>\n      <th>file</th>\n      <th>size</th>\n      <th>frac</th>\n    </tr>\n  </thead>\n  <tbody>\n    <tr>\n      <th>5</th>\n      <td><div class=\"not-number\">api</div></td>\n      <td><div class=\"not-number\">TOTAL</div></td>\n      <td>6007805</td>\n      <td>1.000</td>\n    </tr>\n    <tr>\n      <th>1</th>\n      <td><div class=\"not-number\">api</div></td>\n      <td><div class=\"not-number\">api/bytes-audio_bytes.parquet</div></td>\n      <td>4030138</td>\n      <td>0.671</td>\n    </tr>\n    <tr>\n      <th>2</th>\n      <td><div class=\"not-number\">api</div></td>\n      <td><div class=\"not-number\">api/bytes-spectro_bytes.parquet</div></td>\n      <td>1081058</td>\n      <td>0.180</td>\n    </tr>\n    <tr>\n      <th>4</th>\n      <td><div class=\"not-number\">api</div></td>\n      <td><div class=\"not-number\">api/feat-feat.npy: float32</div></td>\n      <td>600128</td>\n      <td>0.100</td>\n    </tr>\n    <tr>\n      <th>0</th>\n      <td><div class=\"not-number\">api</div></td>\n      <td><div class=\"not-number\">api/lite.parquet</div></td>\n      <td>163953</td>\n      <td>0.027</td>\n    </tr>\n    <tr>\n      <th>3</th>\n      <td><div class=\"not-number\">api</div></td>\n      <td><div class=\"not-number\">api/feat-f_preds.npy: float32</div></td>\n      <td>132528</td>\n      <td>0.022</td>\n    </tr>\n    <tr>\n      <th>9</th>\n      <td><div class=\"not-number\">mobile-version[1]</div></td>\n      <td><div class=\"not-number\">TOTAL</div></td>\n      <td>5939200</td>\n      <td>1.000</td>\n    </tr>\n    <tr>\n      <th>6</th>\n      <td><div class=\"not-number\">mobile-version[1]</div></td>\n      <td><div class=\"not-number\">mobile-version[1]/search_recs/audio/</div></td>\n      <td>4182016</td>\n      <td>0.704</td>\n    </tr>\n    <tr>\n      <th>7</th>\n      <td><div class=\"not-number\">mobile-version[1]</div></td>\n      <td><div class=\"not-number\">mobile-version[1]/search_recs/spectro/</div></td>\n      <td>1257472</td>\n      <td>0.212</td>\n    </tr>\n    <tr>\n      <th>8</th>\n      <td><div class=\"not-number\">mobile-version[1]</div></td>\n      <td><div class=\"not-number\">mobile-version[1]/search_recs/search_recs.sqlite3</div></td>\n      <td>499712</td>\n      <td>0.084</td>\n    </tr>\n  </tbody>\n</table>",
      "text/plain": "                 dir                                               file     size   frac\n5                api                                              TOTAL  6007805  1.000\n1                api                      api/bytes-audio_bytes.parquet  4030138  0.671\n2                api                    api/bytes-spectro_bytes.parquet  1081058  0.180\n4                api                         api/feat-feat.npy: float32   600128  0.100\n0                api                                   api/lite.parquet   163953  0.027\n3                api                      api/feat-f_preds.npy: float32   132528  0.022\n9  mobile-version[1]                                              TOTAL  5939200  1.000\n6  mobile-version[1]               mobile-version[1]/search_recs/audio/  4182016  0.704\n7  mobile-version[1]             mobile-version[1]/search_recs/spectro/  1257472  0.212\n8  mobile-version[1]  mobile-version[1]/search_recs/search_recs.sqlite3   499712  0.084"
     },
     "metadata": {},
     "output_type": "display_data",
     "transient": {}
    },
    {
     "data": {
      "image/png": "[encoded data removed]",
      "text/plain": "<matplotlib.figure.Figure object at 0x12ee10630>"
     },
     "metadata": {
      "image/png": {
       "height": 298,
       "width": 1180
      }
     },
     "output_type": "display_data",
     "transient": {}
    },
    {
     "data": {
      "text/html": " ",
      "text/plain": "<ggplot: (-9223372036514837188)>"
     },
     "metadata": {},
     "output_type": "display_data",
     "transient": {}
    },
    {
     "data": {
      "image/png": "[encoded data removed]",
      "text/plain": "<matplotlib.figure.Figure object at 0x1447e5ac8>"
     },
     "metadata": {
      "image/png": {
       "height": 211,
       "width": 1052
      }
     },
     "output_type": "display_data",
     "transient": {}
    },
    {
     "data": {
      "text/html": " ",
      "text/plain": "<ggplot: (-9223372036514526832)>"
     },
     "metadata": {},
     "output_type": "display_data",
     "transient": {}
    },
    {
     "data": {
      "text/html": "<table border=\"1\" class=\"dataframe\">\n  <thead>\n    <tr style=\"text-align: right;\">\n      <th></th>\n      <th>size</th>\n      <th>type</th>\n      <th>0</th>\n    </tr>\n  </thead>\n  <tbody>\n    <tr>\n      <th>xc_id</th>\n      <td>36</td>\n      <td><div class=\"not-number\">int</div></td>\n      <td>416421</td>\n    </tr>\n    <tr>\n      <th>feat</th>\n      <td>6104</td>\n      <td><div class=\"not-number\">ndarray</div></td>\n      <td><div class=\"not-number\">[ 2.872e-02 -2.151e-02 -3.703e-01 -2.697e-03 -1.268e-02  8.456e-02  2.277e-01  1.489e-01 -1.414e-01  9.737e-02\n  1.356e-01 -2.400e-01  5.771e-02  1.620e-02  1.130e-01  4.74...</td>\n    </tr>\n    <tr>\n      <th>f_preds</th>\n      <td>104</td>\n      <td><div class=\"not-number\">ndarray</div></td>\n      <td><div class=\"not-number\">[4.138e-04 1.147e-03 4.068e-07 2.627e-08 9.826e-03 9.456e-07 2.984e-07 4.845e-04 8.321e-08 3.356e-04 2.281e-04\n 2.211e-07 9.809e-05 9.184e-04 2.278e-05 3.288e-03 1.257e-04 ...</td>\n    </tr>\n    <tr>\n      <th>background</th>\n      <td>88</td>\n      <td><div class=\"not-number\">list</div></td>\n      <td><div class=\"not-number\">['Killdeer (Charadrius vociferus)', 'Common Gallinule (Gallinula galeata)']</div></td>\n    </tr>\n    <tr>\n      <th>background_species</th>\n      <td>80</td>\n      <td><div class=\"not-number\">list</div></td>\n      <td><div class=\"not-number\">['KILL', 'COGA']</div></td>\n    </tr>\n  </tbody>\n</table>",
      "text/plain": "                    size     type                                                                                                                                                                                                        0\nxc_id                 36      int                                                                                                                                                                                                   416421\nfeat                6104  ndarray  [0.028722124, -0.021508053, -0.3702751, -0.0026966603, -0.012681275, 0.08455988, 0.2276951, 0.1489435, -0.14140497, 0.09737368, 0.13562652, -0.24000877, 0.05770945, 0.01619567, 0.11300924, 0.04745...\nf_preds              104  ndarray  [0.0004137792, 0.001147403, 4.0683088e-07, 2.6265479e-08, 0.00982564, 9.455888e-07, 2.9844023e-07, 0.0004844819, 8.3213806e-08, 0.00033564703, 0.00022812495, 2.2107976e-07, 9.808585e-05, 0.0009183...\nbackground            88     list                                                                                                                                  [Killdeer (Charadrius vociferus), Common Gallinule (Gallinula galeata)]\nbackground_species    80     list                                                                                                                                                                                             [KILL, COGA]"
     },
     "metadata": {},
     "output_type": "display_data",
     "transient": {}
    }
   ],
   "source": [
    "with ExitStack() as stack:\n",
    "    stack.enter_context(cache_control(refresh=True))\n",
    "    log_levels({\n",
    "        'payloads': 'INFO',\n",
    "        # 'payloads': 'DEBUG',\n",
    "    })\n",
    "    kwargss = [\n",
    "        dict(cache_type='hybrid', refresh=True),  # Simulate cache miss\n",
    "        # dict(cache_type='hybrid'),                # Simulate cache hit\n",
    "    ]\n",
    "    search_recss = []\n",
    "    for i, kwargs in enumerate(kwargss):\n",
    "        if i > 0: print()\n",
    "        print(f'search_recs(**{kwargs})')\n",
    "        get_search_recs.cache_clear()\n",
    "        search_recs = get_search_recs(**kwargs,\n",
    "            write_mobile_payload=True,\n",
    "            plot_sizes=True,\n",
    "        )\n",
    "        search_recss.append(search_recs)\n",
    "        display(search_recs\n",
    "            [['xc_id', 'feat', 'f_preds', 'background', 'background_species']]\n",
    "            [2:3].reset_index(drop=True).T\n",
    "            .pipe(df_assign_first,\n",
    "                size=lambda df: df.T.memory_usage(deep=True),\n",
    "                type=lambda df: df[0].map(lambda x: type(x).__name__),\n",
    "            )\n",
    "        )"
   ]
  },
  {
   "cell_type": "code",
   "execution_count": null,
   "metadata": {
    "skip": true
   },
   "outputs": [],
   "source": [
    "# TODO Turn this into unit tests\n",
    "#   - Should roundtrip, should preserve category dtypes, should fail if index present\n",
    "assert len(search_recss) == 2, \"Test requires both 'cache hit' + 'cache miss' to be uncommented (above)\"\n",
    "[a, b] = search_recss\n",
    "pd.testing.assert_frame_equal(a, b, check_column_type=True,\n",
    "    check_index_type=False,  # Allow Int64Index vs. RangeIndex\n",
    ")"
   ]
  },
  {
   "cell_type": "code",
   "execution_count": null,
   "metadata": {},
   "outputs": [],
   "source": []
  }
 ],
 "metadata": {
  "kernelspec": {
   "display_name": "bubo-features (PYTHONSTARTUP)",
   "language": "python",
   "name": "bubo-features (PYTHONSTARTUP)"
  }
 },
 "nbformat": 4,
 "nbformat_minor": 2
}
