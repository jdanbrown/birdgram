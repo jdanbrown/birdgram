{
 "cells": [
  {
   "cell_type": "markdown",
   "metadata": {},
   "source": [
    "# Takeaways\n",
    "- Maintain separate payloads for api vs. mobile\n",
    "    - Faster to read/write .parquet + .npy, but only api can use those\n",
    "    - Mobile needs to use .sqlite + files (.png, .mp4), but it's slower for both read and write\n",
    "- TODO Still more room to compress mobile payloads\n",
    "    - 71% of payload: audio\n",
    "        - Can be cut in ~half if we can drop 32k -> 16k (maybe with aac_he?)\n",
    "            - Android supports HE-AACv2: https://developer.android.com/guide/topics/media/media-formats\n",
    "            - But ios doesn't? https://apple.co/2NORQHB\n",
    "        - Payload 1.98g -> ~1.28g -- ✅ ~35% of payload\n",
    "    - 21% of payload: spectro\n",
    "        - Not much excess: maybe ~5% of spectros (see notebooks/spectro_img_encode)\n",
    "        - Payload 1.98g -> ~1.96g -- ❌ ~1% of payload\n",
    "    - 5.9% of payload: f_preds_* sqlite cols (n_sp=331)\n",
    "        - (Based on: 119m = 164m with - 45m without)\n",
    "        - No float32 in sqlite, only float64 [❓ Unless we get clever and pack into int32/int16, or blob...]\n",
    "            - [e.g. blob: https://github.com/SeanTater/sqlite3-extras]\n",
    "        - Can pca compress, but can't achieve more than a few % of payload\n",
    "        - Payload 1.98g -> ~1.98g with n_components=331 -- min ~0% of payload\n",
    "        - Payload 1.98g -> ~1.93g with n_components=150 --  🔶 ~3% of payload\n",
    "        - Payload 1.98g -> ~1.90g with n_components=100 --  🔶 ~4% of payload\n",
    "        - Payload 1.98g -> ~1.86g with n_components=10  --  🔶 ~6% of payload\n",
    "        - Payload 1.98g -> ~1.86g with n_components=0   -- max ~6% of payload\n",
    "    - 2.2% of payload: rest of sqlite cols\n",
    "        - Max ~2% of payload -- ❌ low ROI"
   ]
  },
  {
   "cell_type": "code",
   "execution_count": null,
   "metadata": {
    "time": "2.659s"
   },
   "outputs": [
    {
     "name": "stdout",
     "output_type": "stream",
     "text": "INFO     [19:37:39.461] [ 4535] 151 logging_/<module>: {logging_yaml: None}"
    },
    {
     "name": "stdout",
     "output_type": "stream",
     "text": "\n"
    },
    {
     "name": "stdout",
     "output_type": "stream",
     "text": "INFO     [19:37:39.891] [ 4535]  32 api.server_globals/init"
    },
    {
     "name": "stdout",
     "output_type": "stream",
     "text": "\n"
    },
    {
     "name": "stdout",
     "output_type": "stream",
     "text": "DEBUG    [19:37:39.897] [ 4535]  75 api.server_globals/load: load_search..."
    },
    {
     "name": "stdout",
     "output_type": "stream",
     "text": "\n"
    },
    {
     "name": "stdout",
     "output_type": "stream",
     "text": "INFO     [19:37:40.193] [ 4535]  79 api.server_globals/load: load_search (took 0.289s)"
    },
    {
     "name": "stdout",
     "output_type": "stream",
     "text": "\n"
    },
    {
     "name": "stdout",
     "output_type": "stream",
     "text": "DEBUG    [19:37:40.200] [ 4535]  75 api.server_globals/load: load_xc_meta..."
    },
    {
     "name": "stdout",
     "output_type": "stream",
     "text": "\n"
    },
    {
     "name": "stdout",
     "output_type": "stream",
     "text": "INFO     [19:37:40.541] [ 4535]  79 api.server_globals/load: load_xc_meta (took 0.335s)"
    },
    {
     "name": "stdout",
     "output_type": "stream",
     "text": "\n"
    },
    {
     "name": "stdout",
     "output_type": "stream",
     "text": "DEBUG    [19:37:40.549] [ 4535]  75 api.server_globals/load: load_feat_info..."
    },
    {
     "name": "stdout",
     "output_type": "stream",
     "text": "\n"
    },
    {
     "name": "stdout",
     "output_type": "stream",
     "text": "INFO     [19:37:40.555] [ 4535] 110 api.server_globals/load_feat_info"
    },
    {
     "name": "stdout",
     "output_type": "stream",
     "text": "\n"
    },
    {
     "name": "stdout",
     "output_type": "stream",
     "text": "INFO     [19:37:40.563] [ 4535]  79 api.server_globals/load: load_feat_info (took 0.008s)"
    },
    {
     "name": "stdout",
     "output_type": "stream",
     "text": "\n"
    },
    {
     "name": "stdout",
     "output_type": "stream",
     "text": "WARNING  [19:37:40.570] [ 4535]  73 api.server_globals/load: load_search_recs [skipped]"
    },
    {
     "name": "stdout",
     "output_type": "stream",
     "text": "\n"
    },
    {
     "name": "stdout",
     "output_type": "stream",
     "text": "INFO     [19:37:40.576] [ 4535]  34 api.server_globals/init: done"
    },
    {
     "name": "stdout",
     "output_type": "stream",
     "text": "\n"
    }
   ],
   "source": [
    "from notebooks import *\n",
    "sg.init(None, skip=[sg_load.load_search_recs])\n",
    "get_search_recs.cache_clear()"
   ]
  },
  {
   "cell_type": "markdown",
   "metadata": {},
   "source": [
    "# Perf notes\n",
    "\n",
    "Before\n",
    "- Cold cache (warm pagecache but cold python proc)\n",
    "```\n",
    "search_recs(**{'cache_type': 'hybrid'})\n",
    "...\n",
    "DEBUG    [12:58:26.994] [37904] 119 payloads/df_cache_hybrid: Hit [start]\n",
    "DEBUG    [12:58:27.001] [37904] 129 payloads/df_cache_hybrid: Hit: Reading non_feats.parquet (1.8 GB)\n",
    "INFO     [12:58:32.028] [37904] 136 payloads/df_cache_hybrid: Hit: Read non_feats.parquet (1.8 GB)\n",
    "DEBUG    [12:58:32.040] [37904] 141 payloads/df_cache_hybrid: Hit: Reading feat-f_preds.npy (46.6 MB)\n",
    "INFO     [12:58:32.077] [37904] 143 payloads/df_cache_hybrid: Hit: Read feat-f_preds.npy: float32 (46.6 MB)\n",
    "DEBUG    [12:58:32.084] [37904] 141 payloads/df_cache_hybrid: Hit: Reading feat-feat.npy (211.4 MB)\n",
    "INFO     [12:58:32.211] [37904] 143 payloads/df_cache_hybrid: Hit: Read feat-feat.npy: float32 (211.4 MB)\n",
    "INFO     [12:58:32.218] [37904] 147 payloads/df_cache_hybrid: Hit: Join non_feats + feats\n",
    "INFO     [12:58:32.469] [37904] 155 payloads/df_cache_hybrid: Hit [5.475s]\n",
    "```"
   ]
  },
  {
   "cell_type": "code",
   "execution_count": null,
   "metadata": {
    "time": "80.064s"
   },
   "outputs": [
    {
     "name": "stdout",
     "output_type": "stream",
     "text": "search_recs(**{'cache_type': 'hybrid'})"
    },
    {
     "name": "stdout",
     "output_type": "stream",
     "text": "\n"
    },
    {
     "name": "stdout",
     "output_type": "stream",
     "text": "INFO     [19:37:40.778] [ 4535] 601 api.recs/get_search_recs"
    },
    {
     "name": "stdout",
     "output_type": "stream",
     "text": "\n"
    },
    {
     "name": "stdout",
     "output_type": "stream",
     "text": "INFO     [19:37:40.794] [ 4535] 152 payloads/df_cache_hybrid: Hit: payloads/search_recs-version[8],audio_s[10],countries_k[na],com_names_k[ca],num_recs[None]-c292d6b"
    },
    {
     "name": "stdout",
     "output_type": "stream",
     "text": "\n"
    },
    {
     "name": "stdout",
     "output_type": "stream",
     "text": "INFO     [19:37:42.616] [ 4535] 169 payloads/df_cache_hybrid: Hit: Read api/lite.parquet (51.0 MB) [1.806s]"
    },
    {
     "name": "stdout",
     "output_type": "stream",
     "text": "\n"
    },
    {
     "name": "stdout",
     "output_type": "stream",
     "text": "INFO     [19:37:50.159] [ 4535] 181 payloads/df_cache_hybrid: Hit: Read api/bytes-audio_bytes.parquet (1.4 GB) [7.524s]"
    },
    {
     "name": "stdout",
     "output_type": "stream",
     "text": "\n"
    },
    {
     "name": "stdout",
     "output_type": "stream",
     "text": "INFO     [19:37:51.060] [ 4535] 181 payloads/df_cache_hybrid: Hit: Read api/bytes-spectro_bytes.parquet (382.8 MB) [0.796s]"
    },
    {
     "name": "stdout",
     "output_type": "stream",
     "text": "\n"
    },
    {
     "name": "stdout",
     "output_type": "stream",
     "text": "INFO     [19:37:51.114] [ 4535] 188 payloads/df_cache_hybrid: Hit: Read api/feat-f_preds.npy (46.6 MB) [float32, 0.037s]"
    },
    {
     "name": "stdout",
     "output_type": "stream",
     "text": "\n"
    },
    {
     "name": "stdout",
     "output_type": "stream",
     "text": "INFO     [19:37:51.285] [ 4535] 188 payloads/df_cache_hybrid: Hit: Read api/feat-feat.npy (211.4 MB) [float32, 0.158s]"
    },
    {
     "name": "stdout",
     "output_type": "stream",
     "text": "\n"
    },
    {
     "name": "stdout",
     "output_type": "stream",
     "text": "INFO     [19:37:51.292] [ 4535] 191 payloads/df_cache_hybrid: Hit: Join lite + bytes + feats"
    },
    {
     "name": "stdout",
     "output_type": "stream",
     "text": "\n"
    },
    {
     "name": "stdout",
     "output_type": "stream",
     "text": "INFO     [19:37:51.913] [ 4535] 202 payloads/df_cache_hybrid: Hit [11.109s]"
    },
    {
     "name": "stdout",
     "output_type": "stream",
     "text": "\n"
    },
    {
     "name": "stdout",
     "output_type": "stream",
     "text": "INFO     [19:37:53.382] [ 4535] 244 payloads/df_cache_hybrid: Mobile: Add columns for mobile [1.437s]"
    },
    {
     "name": "stdout",
     "output_type": "stream",
     "text": "\n"
    },
    {
     "name": "stdout",
     "output_type": "stream",
     "text": "\rMobile: Ensure dirs: audio_bytes: ["
    },
    {
     "name": "stdout",
     "output_type": "stream",
     "text": "                                                              "
    },
    {
     "name": "stdout",
     "output_type": "stream",
     "text": "] |   0% (334) |  0.0s"
    },
    {
     "name": "stdout",
     "output_type": "stream",
     "text": "\rMobile: Ensure dirs: audio_bytes: ["
    },
    {
     "name": "stdout",
     "output_type": "stream",
     "text": "##############################################################"
    },
    {
     "name": "stdout",
     "output_type": "stream",
     "text": "] | 100% (334) |  0.1s"
    },
    {
     "name": "stdout",
     "output_type": "stream",
     "text": "\n"
    },
    {
     "name": "stdout",
     "output_type": "stream",
     "text": "\rMobile: Write files: audio_bytes: ["
    },
    {
     "name": "stdout",
     "output_type": "stream",
     "text": "                                                            "
    },
    {
     "name": "stdout",
     "output_type": "stream",
     "text": "] |   0% (35231) |  0.0s"
    },
    {
     "name": "stdout",
     "output_type": "stream",
     "text": "\rMobile: Write files: audio_bytes: ["
    },
    {
     "name": "stdout",
     "output_type": "stream",
     "text": "                                                            "
    },
    {
     "name": "stdout",
     "output_type": "stream",
     "text": "] |   0% (35231) |  0.2s"
    },
    {
     "name": "stdout",
     "output_type": "stream",
     "text": "\rMobile: Write files: audio_bytes: ["
    },
    {
     "name": "stdout",
     "output_type": "stream",
     "text": "                                                            "
    },
    {
     "name": "stdout",
     "output_type": "stream",
     "text": "] |   0% (35231) |  0.3s"
    },
    {
     "name": "stdout",
     "output_type": "stream",
     "text": "\rMobile: Write files: audio_bytes: ["
    },
    {
     "name": "stdout",
     "output_type": "stream",
     "text": "                                                            "
    },
    {
     "name": "stdout",
     "output_type": "stream",
     "text": "] |   0% (35231) |  0.4s"
    },
    {
     "name": "stdout",
     "output_type": "stream",
     "text": "\rMobile: Write files: audio_bytes: ["
    },
    {
     "name": "stdout",
     "output_type": "stream",
     "text": "                                                            "
    },
    {
     "name": "stdout",
     "output_type": "stream",
     "text": "] |   0% (35231) |  0.5s"
    },
    {
     "name": "stdout",
     "output_type": "stream",
     "text": "\rMobile: Write files: audio_bytes: ["
    },
    {
     "name": "stdout",
     "output_type": "stream",
     "text": "                                                            "
    },
    {
     "name": "stdout",
     "output_type": "stream",
     "text": "] |   0% (35231) |  0.6s"
    },
    {
     "name": "stdout",
     "output_type": "stream",
     "text": "\rMobile: Write files: audio_bytes: ["
    },
    {
     "name": "stdout",
     "output_type": "stream",
     "text": "                                                            "
    },
    {
     "name": "stdout",
     "output_type": "stream",
     "text": "] |   0% (35231) |  0.8s"
    },
    {
     "name": "stdout",
     "output_type": "stream",
     "text": "\rMobile: Write files: audio_bytes: ["
    },
    {
     "name": "stdout",
     "output_type": "stream",
     "text": "                                                            "
    },
    {
     "name": "stdout",
     "output_type": "stream",
     "text": "] |   0% (35231) |  0.9s"
    },
    {
     "name": "stdout",
     "output_type": "stream",
     "text": "\rMobile: Write files: audio_bytes: ["
    },
    {
     "name": "stdout",
     "output_type": "stream",
     "text": "                                                            "
    },
    {
     "name": "stdout",
     "output_type": "stream",
     "text": "] |   0% (35231) |  1.0s"
    },
    {
     "name": "stdout",
     "output_type": "stream",
     "text": "\rMobile: Write files: audio_bytes: ["
    },
    {
     "name": "stdout",
     "output_type": "stream",
     "text": "                                                            "
    },
    {
     "name": "stdout",
     "output_type": "stream",
     "text": "] |   0% (35231) |  1.1s"
    },
    {
     "name": "stdout",
     "output_type": "stream",
     "text": "\rMobile: Write files: audio_bytes: ["
    },
    {
     "name": "stdout",
     "output_type": "stream",
     "text": "                                                            "
    },
    {
     "name": "stdout",
     "output_type": "stream",
     "text": "] |   0% (35231) |  1.2s"
    },
    {
     "name": "stdout",
     "output_type": "stream",
     "text": "\rMobile: Write files: audio_bytes: ["
    },
    {
     "name": "stdout",
     "output_type": "stream",
     "text": "                                                            "
    },
    {
     "name": "stdout",
     "output_type": "stream",
     "text": "] |   0% (35231) |  1.3s"
    },
    {
     "name": "stdout",
     "output_type": "stream",
     "text": "\rMobile: Write files: audio_bytes: ["
    },
    {
     "name": "stdout",
     "output_type": "stream",
     "text": "                                                            "
    },
    {
     "name": "stdout",
     "output_type": "stream",
     "text": "] |   0% (35231) |  1.5s"
    },
    {
     "name": "stdout",
     "output_type": "stream",
     "text": "\rMobile: Write files: audio_bytes: ["
    },
    {
     "name": "stdout",
     "output_type": "stream",
     "text": "                                                            "
    },
    {
     "name": "stdout",
     "output_type": "stream",
     "text": "] |   0% (35231) |  1.6s"
    },
    {
     "name": "stdout",
     "output_type": "stream",
     "text": "\rMobile: Write files: audio_bytes: ["
    },
    {
     "name": "stdout",
     "output_type": "stream",
     "text": "                                                            "
    },
    {
     "name": "stdout",
     "output_type": "stream",
     "text": "] |   0% (35231) |  1.7s"
    },
    {
     "name": "stdout",
     "output_type": "stream",
     "text": "\rMobile: Write files: audio_bytes: ["
    },
    {
     "name": "stdout",
     "output_type": "stream",
     "text": "                                                            "
    },
    {
     "name": "stdout",
     "output_type": "stream",
     "text": "] |   0% (35231) |  1.8s"
    },
    {
     "name": "stdout",
     "output_type": "stream",
     "text": "\rMobile: Write files: audio_bytes: ["
    },
    {
     "name": "stdout",
     "output_type": "stream",
     "text": "                                                            "
    },
    {
     "name": "stdout",
     "output_type": "stream",
     "text": "] |   0% (35231) |  1.9s"
    },
    {
     "name": "stdout",
     "output_type": "stream",
     "text": "\rMobile: Write files: audio_bytes: ["
    },
    {
     "name": "stdout",
     "output_type": "stream",
     "text": "                                                            "
    },
    {
     "name": "stdout",
     "output_type": "stream",
     "text": "] |   0% (35231) |  2.0s"
    },
    {
     "name": "stdout",
     "output_type": "stream",
     "text": "\rMobile: Write files: audio_bytes: ["
    },
    {
     "name": "stdout",
     "output_type": "stream",
     "text": "                                                            "
    },
    {
     "name": "stdout",
     "output_type": "stream",
     "text": "] |   0% (35231) |  2.2s"
    },
    {
     "name": "stdout",
     "output_type": "stream",
     "text": "\rMobile: Write files: audio_bytes: ["
    },
    {
     "name": "stdout",
     "output_type": "stream",
     "text": "##########                                                  "
    },
    {
     "name": "stdout",
     "output_type": "stream",
     "text": "] |  17% (35231) |  2.3s"
    },
    {
     "name": "stdout",
     "output_type": "stream",
     "text": "\rMobile: Write files: audio_bytes: ["
    },
    {
     "name": "stdout",
     "output_type": "stream",
     "text": "############                                                "
    },
    {
     "name": "stdout",
     "output_type": "stream",
     "text": "] |  20% (35231) |  2.4s"
    },
    {
     "name": "stdout",
     "output_type": "stream",
     "text": "\rMobile: Write files: audio_bytes: ["
    },
    {
     "name": "stdout",
     "output_type": "stream",
     "text": "############                                                "
    },
    {
     "name": "stdout",
     "output_type": "stream",
     "text": "] |  20% (35231) |  2.5s"
    },
    {
     "name": "stdout",
     "output_type": "stream",
     "text": "\rMobile: Write files: audio_bytes: ["
    },
    {
     "name": "stdout",
     "output_type": "stream",
     "text": "############                                                "
    },
    {
     "name": "stdout",
     "output_type": "stream",
     "text": "] |  20% (35231) |  2.6s"
    },
    {
     "name": "stdout",
     "output_type": "stream",
     "text": "\rMobile: Write files: audio_bytes: ["
    },
    {
     "name": "stdout",
     "output_type": "stream",
     "text": "############                                                "
    },
    {
     "name": "stdout",
     "output_type": "stream",
     "text": "] |  20% (35231) |  2.7s"
    },
    {
     "name": "stdout",
     "output_type": "stream",
     "text": "\rMobile: Write files: audio_bytes: ["
    },
    {
     "name": "stdout",
     "output_type": "stream",
     "text": "############                                                "
    },
    {
     "name": "stdout",
     "output_type": "stream",
     "text": "] |  20% (35231) |  2.9s"
    },
    {
     "name": "stdout",
     "output_type": "stream",
     "text": "\rMobile: Write files: audio_bytes: ["
    },
    {
     "name": "stdout",
     "output_type": "stream",
     "text": "############                                                "
    },
    {
     "name": "stdout",
     "output_type": "stream",
     "text": "] |  20% (35231) |  3.0s"
    },
    {
     "name": "stdout",
     "output_type": "stream",
     "text": "\rMobile: Write files: audio_bytes: ["
    },
    {
     "name": "stdout",
     "output_type": "stream",
     "text": "############                                                "
    },
    {
     "name": "stdout",
     "output_type": "stream",
     "text": "] |  20% (35231) |  3.1s"
    },
    {
     "name": "stdout",
     "output_type": "stream",
     "text": "\rMobile: Write files: audio_bytes: ["
    },
    {
     "name": "stdout",
     "output_type": "stream",
     "text": "############                                                "
    },
    {
     "name": "stdout",
     "output_type": "stream",
     "text": "] |  20% (35231) |  3.2s"
    },
    {
     "name": "stdout",
     "output_type": "stream",
     "text": "\rMobile: Write files: audio_bytes: ["
    },
    {
     "name": "stdout",
     "output_type": "stream",
     "text": "############                                                "
    },
    {
     "name": "stdout",
     "output_type": "stream",
     "text": "] |  20% (35231) |  3.3s"
    },
    {
     "name": "stdout",
     "output_type": "stream",
     "text": "\rMobile: Write files: audio_bytes: ["
    },
    {
     "name": "stdout",
     "output_type": "stream",
     "text": "############                                                "
    },
    {
     "name": "stdout",
     "output_type": "stream",
     "text": "] |  20% (35231) |  3.4s"
    },
    {
     "name": "stdout",
     "output_type": "stream",
     "text": "\rMobile: Write files: audio_bytes: ["
    },
    {
     "name": "stdout",
     "output_type": "stream",
     "text": "############                                                "
    },
    {
     "name": "stdout",
     "output_type": "stream",
     "text": "] |  20% (35231) |  3.6s"
    },
    {
     "name": "stdout",
     "output_type": "stream",
     "text": "\rMobile: Write files: audio_bytes: ["
    },
    {
     "name": "stdout",
     "output_type": "stream",
     "text": "############                                                "
    },
    {
     "name": "stdout",
     "output_type": "stream",
     "text": "] |  20% (35231) |  3.7s"
    },
    {
     "name": "stdout",
     "output_type": "stream",
     "text": "\rMobile: Write files: audio_bytes: ["
    },
    {
     "name": "stdout",
     "output_type": "stream",
     "text": "############                                                "
    },
    {
     "name": "stdout",
     "output_type": "stream",
     "text": "] |  20% (35231) |  3.8s"
    },
    {
     "name": "stdout",
     "output_type": "stream",
     "text": "\rMobile: Write files: audio_bytes: ["
    },
    {
     "name": "stdout",
     "output_type": "stream",
     "text": "############                                                "
    },
    {
     "name": "stdout",
     "output_type": "stream",
     "text": "] |  20% (35231) |  3.9s"
    },
    {
     "name": "stdout",
     "output_type": "stream",
     "text": "\rMobile: Write files: audio_bytes: ["
    },
    {
     "name": "stdout",
     "output_type": "stream",
     "text": "############                                                "
    },
    {
     "name": "stdout",
     "output_type": "stream",
     "text": "] |  20% (35231) |  4.0s"
    },
    {
     "name": "stdout",
     "output_type": "stream",
     "text": "\rMobile: Write files: audio_bytes: ["
    },
    {
     "name": "stdout",
     "output_type": "stream",
     "text": "############                                                "
    },
    {
     "name": "stdout",
     "output_type": "stream",
     "text": "] |  20% (35231) |  4.1s"
    },
    {
     "name": "stdout",
     "output_type": "stream",
     "text": "\rMobile: Write files: audio_bytes: ["
    },
    {
     "name": "stdout",
     "output_type": "stream",
     "text": "############                                                "
    },
    {
     "name": "stdout",
     "output_type": "stream",
     "text": "] |  20% (35231) |  4.2s"
    },
    {
     "name": "stdout",
     "output_type": "stream",
     "text": "\rMobile: Write files: audio_bytes: ["
    },
    {
     "name": "stdout",
     "output_type": "stream",
     "text": "############                                                "
    },
    {
     "name": "stdout",
     "output_type": "stream",
     "text": "] |  20% (35231) |  4.4s"
    },
    {
     "name": "stdout",
     "output_type": "stream",
     "text": "\rMobile: Write files: audio_bytes: ["
    },
    {
     "name": "stdout",
     "output_type": "stream",
     "text": "################                                            "
    },
    {
     "name": "stdout",
     "output_type": "stream",
     "text": "] |  27% (35231) |  4.5s"
    },
    {
     "name": "stdout",
     "output_type": "stream",
     "text": "\rMobile: Write files: audio_bytes: ["
    },
    {
     "name": "stdout",
     "output_type": "stream",
     "text": "######################                                      "
    },
    {
     "name": "stdout",
     "output_type": "stream",
     "text": "] |  37% (35231) |  4.6s"
    },
    {
     "name": "stdout",
     "output_type": "stream",
     "text": "\rMobile: Write files: audio_bytes: ["
    },
    {
     "name": "stdout",
     "output_type": "stream",
     "text": "########################                                    "
    },
    {
     "name": "stdout",
     "output_type": "stream",
     "text": "] |  40% (35231) |  4.7s"
    },
    {
     "name": "stdout",
     "output_type": "stream",
     "text": "\rMobile: Write files: audio_bytes: ["
    },
    {
     "name": "stdout",
     "output_type": "stream",
     "text": "########################                                    "
    },
    {
     "name": "stdout",
     "output_type": "stream",
     "text": "] |  40% (35231) |  4.8s"
    },
    {
     "name": "stdout",
     "output_type": "stream",
     "text": "\rMobile: Write files: audio_bytes: ["
    },
    {
     "name": "stdout",
     "output_type": "stream",
     "text": "########################                                    "
    },
    {
     "name": "stdout",
     "output_type": "stream",
     "text": "] |  40% (35231) |  4.9s"
    },
    {
     "name": "stdout",
     "output_type": "stream",
     "text": "\rMobile: Write files: audio_bytes: ["
    },
    {
     "name": "stdout",
     "output_type": "stream",
     "text": "########################                                    "
    },
    {
     "name": "stdout",
     "output_type": "stream",
     "text": "] |  40% (35231) |  5.1s"
    },
    {
     "name": "stdout",
     "output_type": "stream",
     "text": "\rMobile: Write files: audio_bytes: ["
    },
    {
     "name": "stdout",
     "output_type": "stream",
     "text": "########################                                    "
    },
    {
     "name": "stdout",
     "output_type": "stream",
     "text": "] |  40% (35231) |  5.2s"
    },
    {
     "name": "stdout",
     "output_type": "stream",
     "text": "\rMobile: Write files: audio_bytes: ["
    },
    {
     "name": "stdout",
     "output_type": "stream",
     "text": "########################                                    "
    },
    {
     "name": "stdout",
     "output_type": "stream",
     "text": "] |  40% (35231) |  5.3s"
    },
    {
     "name": "stdout",
     "output_type": "stream",
     "text": "\rMobile: Write files: audio_bytes: ["
    },
    {
     "name": "stdout",
     "output_type": "stream",
     "text": "########################                                    "
    },
    {
     "name": "stdout",
     "output_type": "stream",
     "text": "] |  40% (35231) |  5.4s"
    },
    {
     "name": "stdout",
     "output_type": "stream",
     "text": "\rMobile: Write files: audio_bytes: ["
    },
    {
     "name": "stdout",
     "output_type": "stream",
     "text": "########################                                    "
    },
    {
     "name": "stdout",
     "output_type": "stream",
     "text": "] |  40% (35231) |  5.5s"
    },
    {
     "name": "stdout",
     "output_type": "stream",
     "text": "\rMobile: Write files: audio_bytes: ["
    },
    {
     "name": "stdout",
     "output_type": "stream",
     "text": "########################                                    "
    },
    {
     "name": "stdout",
     "output_type": "stream",
     "text": "] |  40% (35231) |  5.6s"
    },
    {
     "name": "stdout",
     "output_type": "stream",
     "text": "\rMobile: Write files: audio_bytes: ["
    },
    {
     "name": "stdout",
     "output_type": "stream",
     "text": "########################                                    "
    },
    {
     "name": "stdout",
     "output_type": "stream",
     "text": "] |  40% (35231) |  5.7s"
    },
    {
     "name": "stdout",
     "output_type": "stream",
     "text": "\rMobile: Write files: audio_bytes: ["
    },
    {
     "name": "stdout",
     "output_type": "stream",
     "text": "########################                                    "
    },
    {
     "name": "stdout",
     "output_type": "stream",
     "text": "] |  40% (35231) |  5.9s"
    },
    {
     "name": "stdout",
     "output_type": "stream",
     "text": "\rMobile: Write files: audio_bytes: ["
    },
    {
     "name": "stdout",
     "output_type": "stream",
     "text": "########################                                    "
    },
    {
     "name": "stdout",
     "output_type": "stream",
     "text": "] |  40% (35231) |  6.0s"
    },
    {
     "name": "stdout",
     "output_type": "stream",
     "text": "\rMobile: Write files: audio_bytes: ["
    },
    {
     "name": "stdout",
     "output_type": "stream",
     "text": "########################                                    "
    },
    {
     "name": "stdout",
     "output_type": "stream",
     "text": "] |  40% (35231) |  6.1s"
    },
    {
     "name": "stdout",
     "output_type": "stream",
     "text": "\rMobile: Write files: audio_bytes: ["
    },
    {
     "name": "stdout",
     "output_type": "stream",
     "text": "########################                                    "
    },
    {
     "name": "stdout",
     "output_type": "stream",
     "text": "] |  40% (35231) |  6.2s"
    },
    {
     "name": "stdout",
     "output_type": "stream",
     "text": "\rMobile: Write files: audio_bytes: ["
    },
    {
     "name": "stdout",
     "output_type": "stream",
     "text": "########################                                    "
    },
    {
     "name": "stdout",
     "output_type": "stream",
     "text": "] |  40% (35231) |  6.3s"
    },
    {
     "name": "stdout",
     "output_type": "stream",
     "text": "\rMobile: Write files: audio_bytes: ["
    },
    {
     "name": "stdout",
     "output_type": "stream",
     "text": "########################                                    "
    },
    {
     "name": "stdout",
     "output_type": "stream",
     "text": "] |  40% (35231) |  6.4s"
    },
    {
     "name": "stdout",
     "output_type": "stream",
     "text": "\rMobile: Write files: audio_bytes: ["
    },
    {
     "name": "stdout",
     "output_type": "stream",
     "text": "########################                                    "
    },
    {
     "name": "stdout",
     "output_type": "stream",
     "text": "] |  40% (35231) |  6.5s"
    },
    {
     "name": "stdout",
     "output_type": "stream",
     "text": "\rMobile: Write files: audio_bytes: ["
    },
    {
     "name": "stdout",
     "output_type": "stream",
     "text": "########################                                    "
    },
    {
     "name": "stdout",
     "output_type": "stream",
     "text": "] |  40% (35231) |  6.7s"
    },
    {
     "name": "stdout",
     "output_type": "stream",
     "text": "\rMobile: Write files: audio_bytes: ["
    },
    {
     "name": "stdout",
     "output_type": "stream",
     "text": "###########################                                 "
    },
    {
     "name": "stdout",
     "output_type": "stream",
     "text": "] |  45% (35231) |  6.8s"
    },
    {
     "name": "stdout",
     "output_type": "stream",
     "text": "\rMobile: Write files: audio_bytes: ["
    },
    {
     "name": "stdout",
     "output_type": "stream",
     "text": "##############################                              "
    },
    {
     "name": "stdout",
     "output_type": "stream",
     "text": "] |  50% (35231) |  6.9s"
    },
    {
     "name": "stdout",
     "output_type": "stream",
     "text": "\rMobile: Write files: audio_bytes: ["
    },
    {
     "name": "stdout",
     "output_type": "stream",
     "text": "##################################                          "
    },
    {
     "name": "stdout",
     "output_type": "stream",
     "text": "] |  57% (35231) |  7.0s"
    },
    {
     "name": "stdout",
     "output_type": "stream",
     "text": "\rMobile: Write files: audio_bytes: ["
    },
    {
     "name": "stdout",
     "output_type": "stream",
     "text": "####################################                        "
    },
    {
     "name": "stdout",
     "output_type": "stream",
     "text": "] |  60% (35231) |  7.1s"
    },
    {
     "name": "stdout",
     "output_type": "stream",
     "text": "\rMobile: Write files: audio_bytes: ["
    },
    {
     "name": "stdout",
     "output_type": "stream",
     "text": "####################################                        "
    },
    {
     "name": "stdout",
     "output_type": "stream",
     "text": "] |  60% (35231) |  7.2s"
    },
    {
     "name": "stdout",
     "output_type": "stream",
     "text": "\rMobile: Write files: audio_bytes: ["
    },
    {
     "name": "stdout",
     "output_type": "stream",
     "text": "####################################                        "
    },
    {
     "name": "stdout",
     "output_type": "stream",
     "text": "] |  60% (35231) |  7.4s"
    },
    {
     "name": "stdout",
     "output_type": "stream",
     "text": "\rMobile: Write files: audio_bytes: ["
    },
    {
     "name": "stdout",
     "output_type": "stream",
     "text": "####################################                        "
    },
    {
     "name": "stdout",
     "output_type": "stream",
     "text": "] |  60% (35231) |  7.5s"
    },
    {
     "name": "stdout",
     "output_type": "stream",
     "text": "\rMobile: Write files: audio_bytes: ["
    },
    {
     "name": "stdout",
     "output_type": "stream",
     "text": "####################################                        "
    },
    {
     "name": "stdout",
     "output_type": "stream",
     "text": "] |  60% (35231) |  7.6s"
    },
    {
     "name": "stdout",
     "output_type": "stream",
     "text": "\rMobile: Write files: audio_bytes: ["
    },
    {
     "name": "stdout",
     "output_type": "stream",
     "text": "####################################                        "
    },
    {
     "name": "stdout",
     "output_type": "stream",
     "text": "] |  60% (35231) |  7.7s"
    },
    {
     "name": "stdout",
     "output_type": "stream",
     "text": "\rMobile: Write files: audio_bytes: ["
    },
    {
     "name": "stdout",
     "output_type": "stream",
     "text": "####################################                        "
    },
    {
     "name": "stdout",
     "output_type": "stream",
     "text": "] |  60% (35231) |  7.8s"
    },
    {
     "name": "stdout",
     "output_type": "stream",
     "text": "\rMobile: Write files: audio_bytes: ["
    },
    {
     "name": "stdout",
     "output_type": "stream",
     "text": "####################################                        "
    },
    {
     "name": "stdout",
     "output_type": "stream",
     "text": "] |  60% (35231) |  7.9s"
    },
    {
     "name": "stdout",
     "output_type": "stream",
     "text": "\rMobile: Write files: audio_bytes: ["
    },
    {
     "name": "stdout",
     "output_type": "stream",
     "text": "####################################                        "
    },
    {
     "name": "stdout",
     "output_type": "stream",
     "text": "] |  60% (35231) |  8.0s"
    },
    {
     "name": "stdout",
     "output_type": "stream",
     "text": "\rMobile: Write files: audio_bytes: ["
    },
    {
     "name": "stdout",
     "output_type": "stream",
     "text": "####################################                        "
    },
    {
     "name": "stdout",
     "output_type": "stream",
     "text": "] |  60% (35231) |  8.2s"
    },
    {
     "name": "stdout",
     "output_type": "stream",
     "text": "\rMobile: Write files: audio_bytes: ["
    },
    {
     "name": "stdout",
     "output_type": "stream",
     "text": "####################################                        "
    },
    {
     "name": "stdout",
     "output_type": "stream",
     "text": "] |  60% (35231) |  8.3s"
    },
    {
     "name": "stdout",
     "output_type": "stream",
     "text": "\rMobile: Write files: audio_bytes: ["
    },
    {
     "name": "stdout",
     "output_type": "stream",
     "text": "####################################                        "
    },
    {
     "name": "stdout",
     "output_type": "stream",
     "text": "] |  60% (35231) |  8.4s"
    },
    {
     "name": "stdout",
     "output_type": "stream",
     "text": "\rMobile: Write files: audio_bytes: ["
    },
    {
     "name": "stdout",
     "output_type": "stream",
     "text": "####################################                        "
    },
    {
     "name": "stdout",
     "output_type": "stream",
     "text": "] |  60% (35231) |  8.5s"
    },
    {
     "name": "stdout",
     "output_type": "stream",
     "text": "\rMobile: Write files: audio_bytes: ["
    },
    {
     "name": "stdout",
     "output_type": "stream",
     "text": "####################################                        "
    },
    {
     "name": "stdout",
     "output_type": "stream",
     "text": "] |  60% (35231) |  8.6s"
    },
    {
     "name": "stdout",
     "output_type": "stream",
     "text": "\rMobile: Write files: audio_bytes: ["
    },
    {
     "name": "stdout",
     "output_type": "stream",
     "text": "####################################                        "
    },
    {
     "name": "stdout",
     "output_type": "stream",
     "text": "] |  60% (35231) |  8.7s"
    },
    {
     "name": "stdout",
     "output_type": "stream",
     "text": "\rMobile: Write files: audio_bytes: ["
    },
    {
     "name": "stdout",
     "output_type": "stream",
     "text": "####################################                        "
    },
    {
     "name": "stdout",
     "output_type": "stream",
     "text": "] |  60% (35231) |  8.9s"
    },
    {
     "name": "stdout",
     "output_type": "stream",
     "text": "\rMobile: Write files: audio_bytes: ["
    },
    {
     "name": "stdout",
     "output_type": "stream",
     "text": "####################################                        "
    },
    {
     "name": "stdout",
     "output_type": "stream",
     "text": "] |  60% (35231) |  9.0s"
    },
    {
     "name": "stdout",
     "output_type": "stream",
     "text": "\rMobile: Write files: audio_bytes: ["
    },
    {
     "name": "stdout",
     "output_type": "stream",
     "text": "#####################################                       "
    },
    {
     "name": "stdout",
     "output_type": "stream",
     "text": "] |  62% (35231) |  9.1s"
    },
    {
     "name": "stdout",
     "output_type": "stream",
     "text": "\rMobile: Write files: audio_bytes: ["
    },
    {
     "name": "stdout",
     "output_type": "stream",
     "text": "##########################################                  "
    },
    {
     "name": "stdout",
     "output_type": "stream",
     "text": "] |  70% (35231) |  9.2s"
    },
    {
     "name": "stdout",
     "output_type": "stream",
     "text": "\rMobile: Write files: audio_bytes: ["
    },
    {
     "name": "stdout",
     "output_type": "stream",
     "text": "#############################################               "
    },
    {
     "name": "stdout",
     "output_type": "stream",
     "text": "] |  76% (35231) |  9.3s"
    },
    {
     "name": "stdout",
     "output_type": "stream",
     "text": "\rMobile: Write files: audio_bytes: ["
    },
    {
     "name": "stdout",
     "output_type": "stream",
     "text": "##############################################              "
    },
    {
     "name": "stdout",
     "output_type": "stream",
     "text": "] |  77% (35231) |  9.4s"
    },
    {
     "name": "stdout",
     "output_type": "stream",
     "text": "\rMobile: Write files: audio_bytes: ["
    },
    {
     "name": "stdout",
     "output_type": "stream",
     "text": "################################################            "
    },
    {
     "name": "stdout",
     "output_type": "stream",
     "text": "] |  80% (35231) |  9.6s"
    },
    {
     "name": "stdout",
     "output_type": "stream",
     "text": "\rMobile: Write files: audio_bytes: ["
    },
    {
     "name": "stdout",
     "output_type": "stream",
     "text": "################################################            "
    },
    {
     "name": "stdout",
     "output_type": "stream",
     "text": "] |  80% (35231) |  9.7s"
    },
    {
     "name": "stdout",
     "output_type": "stream",
     "text": "\rMobile: Write files: audio_bytes: ["
    },
    {
     "name": "stdout",
     "output_type": "stream",
     "text": "################################################            "
    },
    {
     "name": "stdout",
     "output_type": "stream",
     "text": "] |  80% (35231) |  9.8s"
    },
    {
     "name": "stdout",
     "output_type": "stream",
     "text": "\rMobile: Write files: audio_bytes: ["
    },
    {
     "name": "stdout",
     "output_type": "stream",
     "text": "################################################            "
    },
    {
     "name": "stdout",
     "output_type": "stream",
     "text": "] |  80% (35231) |  9.9s"
    },
    {
     "name": "stdout",
     "output_type": "stream",
     "text": "\rMobile: Write files: audio_bytes: ["
    },
    {
     "name": "stdout",
     "output_type": "stream",
     "text": "################################################            "
    },
    {
     "name": "stdout",
     "output_type": "stream",
     "text": "] |  80% (35231) | 10.0s"
    },
    {
     "name": "stdout",
     "output_type": "stream",
     "text": "\rMobile: Write files: audio_bytes: ["
    },
    {
     "name": "stdout",
     "output_type": "stream",
     "text": "################################################            "
    },
    {
     "name": "stdout",
     "output_type": "stream",
     "text": "] |  80% (35231) | 10.1s"
    },
    {
     "name": "stdout",
     "output_type": "stream",
     "text": "\rMobile: Write files: audio_bytes: ["
    },
    {
     "name": "stdout",
     "output_type": "stream",
     "text": "################################################            "
    },
    {
     "name": "stdout",
     "output_type": "stream",
     "text": "] |  80% (35231) | 10.3s"
    },
    {
     "name": "stdout",
     "output_type": "stream",
     "text": "\rMobile: Write files: audio_bytes: ["
    },
    {
     "name": "stdout",
     "output_type": "stream",
     "text": "################################################            "
    },
    {
     "name": "stdout",
     "output_type": "stream",
     "text": "] |  80% (35231) | 10.4s"
    },
    {
     "name": "stdout",
     "output_type": "stream",
     "text": "\rMobile: Write files: audio_bytes: ["
    },
    {
     "name": "stdout",
     "output_type": "stream",
     "text": "################################################            "
    },
    {
     "name": "stdout",
     "output_type": "stream",
     "text": "] |  80% (35231) | 10.5s"
    },
    {
     "name": "stdout",
     "output_type": "stream",
     "text": "\rMobile: Write files: audio_bytes: ["
    },
    {
     "name": "stdout",
     "output_type": "stream",
     "text": "################################################            "
    },
    {
     "name": "stdout",
     "output_type": "stream",
     "text": "] |  80% (35231) | 10.6s"
    },
    {
     "name": "stdout",
     "output_type": "stream",
     "text": "\rMobile: Write files: audio_bytes: ["
    },
    {
     "name": "stdout",
     "output_type": "stream",
     "text": "################################################            "
    },
    {
     "name": "stdout",
     "output_type": "stream",
     "text": "] |  80% (35231) | 10.7s"
    },
    {
     "name": "stdout",
     "output_type": "stream",
     "text": "\rMobile: Write files: audio_bytes: ["
    },
    {
     "name": "stdout",
     "output_type": "stream",
     "text": "################################################            "
    },
    {
     "name": "stdout",
     "output_type": "stream",
     "text": "] |  80% (35231) | 10.8s"
    },
    {
     "name": "stdout",
     "output_type": "stream",
     "text": "\rMobile: Write files: audio_bytes: ["
    },
    {
     "name": "stdout",
     "output_type": "stream",
     "text": "################################################            "
    },
    {
     "name": "stdout",
     "output_type": "stream",
     "text": "] |  80% (35231) | 10.9s"
    },
    {
     "name": "stdout",
     "output_type": "stream",
     "text": "\rMobile: Write files: audio_bytes: ["
    },
    {
     "name": "stdout",
     "output_type": "stream",
     "text": "################################################            "
    },
    {
     "name": "stdout",
     "output_type": "stream",
     "text": "] |  80% (35231) | 11.1s"
    },
    {
     "name": "stdout",
     "output_type": "stream",
     "text": "\rMobile: Write files: audio_bytes: ["
    },
    {
     "name": "stdout",
     "output_type": "stream",
     "text": "################################################            "
    },
    {
     "name": "stdout",
     "output_type": "stream",
     "text": "] |  80% (35231) | 11.2s"
    },
    {
     "name": "stdout",
     "output_type": "stream",
     "text": "\rMobile: Write files: audio_bytes: ["
    },
    {
     "name": "stdout",
     "output_type": "stream",
     "text": "#################################################           "
    },
    {
     "name": "stdout",
     "output_type": "stream",
     "text": "] |  82% (35231) | 11.3s"
    },
    {
     "name": "stdout",
     "output_type": "stream",
     "text": "\rMobile: Write files: audio_bytes: ["
    },
    {
     "name": "stdout",
     "output_type": "stream",
     "text": "##################################################          "
    },
    {
     "name": "stdout",
     "output_type": "stream",
     "text": "] |  83% (35231) | 11.4s"
    },
    {
     "name": "stdout",
     "output_type": "stream",
     "text": "\rMobile: Write files: audio_bytes: ["
    },
    {
     "name": "stdout",
     "output_type": "stream",
     "text": "############################################################"
    },
    {
     "name": "stdout",
     "output_type": "stream",
     "text": "] | 100% (35231) | 11.5s"
    },
    {
     "name": "stdout",
     "output_type": "stream",
     "text": "\n"
    },
    {
     "name": "stdout",
     "output_type": "stream",
     "text": "\rMobile: Ensure dirs: spectro_bytes: ["
    },
    {
     "name": "stdout",
     "output_type": "stream",
     "text": "                                                            "
    },
    {
     "name": "stdout",
     "output_type": "stream",
     "text": "] |   0% (334) |  0.0s"
    },
    {
     "name": "stdout",
     "output_type": "stream",
     "text": "\rMobile: Ensure dirs: spectro_bytes: ["
    },
    {
     "name": "stdout",
     "output_type": "stream",
     "text": "############################################################"
    },
    {
     "name": "stdout",
     "output_type": "stream",
     "text": "] | 100% (334) |  0.1s"
    },
    {
     "name": "stdout",
     "output_type": "stream",
     "text": "\n"
    },
    {
     "name": "stdout",
     "output_type": "stream",
     "text": "\rMobile: Write files: spectro_bytes: ["
    },
    {
     "name": "stdout",
     "output_type": "stream",
     "text": "                                                          "
    },
    {
     "name": "stdout",
     "output_type": "stream",
     "text": "] |   0% (35231) |  0.0s"
    },
    {
     "name": "stdout",
     "output_type": "stream",
     "text": "\rMobile: Write files: spectro_bytes: ["
    },
    {
     "name": "stdout",
     "output_type": "stream",
     "text": "                                                          "
    },
    {
     "name": "stdout",
     "output_type": "stream",
     "text": "] |   0% (35231) |  0.2s"
    },
    {
     "name": "stdout",
     "output_type": "stream",
     "text": "\rMobile: Write files: spectro_bytes: ["
    },
    {
     "name": "stdout",
     "output_type": "stream",
     "text": "                                                          "
    },
    {
     "name": "stdout",
     "output_type": "stream",
     "text": "] |   0% (35231) |  0.3s"
    },
    {
     "name": "stdout",
     "output_type": "stream",
     "text": "\rMobile: Write files: spectro_bytes: ["
    },
    {
     "name": "stdout",
     "output_type": "stream",
     "text": "                                                          "
    },
    {
     "name": "stdout",
     "output_type": "stream",
     "text": "] |   0% (35231) |  0.4s"
    },
    {
     "name": "stdout",
     "output_type": "stream",
     "text": "\rMobile: Write files: spectro_bytes: ["
    },
    {
     "name": "stdout",
     "output_type": "stream",
     "text": "                                                          "
    },
    {
     "name": "stdout",
     "output_type": "stream",
     "text": "] |   0% (35231) |  0.5s"
    },
    {
     "name": "stdout",
     "output_type": "stream",
     "text": "\rMobile: Write files: spectro_bytes: ["
    },
    {
     "name": "stdout",
     "output_type": "stream",
     "text": "                                                          "
    },
    {
     "name": "stdout",
     "output_type": "stream",
     "text": "] |   0% (35231) |  0.6s"
    },
    {
     "name": "stdout",
     "output_type": "stream",
     "text": "\rMobile: Write files: spectro_bytes: ["
    },
    {
     "name": "stdout",
     "output_type": "stream",
     "text": "                                                          "
    },
    {
     "name": "stdout",
     "output_type": "stream",
     "text": "] |   0% (35231) |  0.7s"
    },
    {
     "name": "stdout",
     "output_type": "stream",
     "text": "\rMobile: Write files: spectro_bytes: ["
    },
    {
     "name": "stdout",
     "output_type": "stream",
     "text": "                                                          "
    },
    {
     "name": "stdout",
     "output_type": "stream",
     "text": "] |   0% (35231) |  0.8s"
    },
    {
     "name": "stdout",
     "output_type": "stream",
     "text": "\rMobile: Write files: spectro_bytes: ["
    },
    {
     "name": "stdout",
     "output_type": "stream",
     "text": "                                                          "
    },
    {
     "name": "stdout",
     "output_type": "stream",
     "text": "] |   0% (35231) |  1.0s"
    },
    {
     "name": "stdout",
     "output_type": "stream",
     "text": "\rMobile: Write files: spectro_bytes: ["
    },
    {
     "name": "stdout",
     "output_type": "stream",
     "text": "                                                          "
    },
    {
     "name": "stdout",
     "output_type": "stream",
     "text": "] |   0% (35231) |  1.1s"
    },
    {
     "name": "stdout",
     "output_type": "stream",
     "text": "\rMobile: Write files: spectro_bytes: ["
    },
    {
     "name": "stdout",
     "output_type": "stream",
     "text": "                                                          "
    },
    {
     "name": "stdout",
     "output_type": "stream",
     "text": "] |   0% (35231) |  1.2s"
    },
    {
     "name": "stdout",
     "output_type": "stream",
     "text": "\rMobile: Write files: spectro_bytes: ["
    },
    {
     "name": "stdout",
     "output_type": "stream",
     "text": "                                                          "
    },
    {
     "name": "stdout",
     "output_type": "stream",
     "text": "] |   0% (35231) |  1.3s"
    },
    {
     "name": "stdout",
     "output_type": "stream",
     "text": "\rMobile: Write files: spectro_bytes: ["
    },
    {
     "name": "stdout",
     "output_type": "stream",
     "text": "                                                          "
    },
    {
     "name": "stdout",
     "output_type": "stream",
     "text": "] |   0% (35231) |  1.4s"
    },
    {
     "name": "stdout",
     "output_type": "stream",
     "text": "\rMobile: Write files: spectro_bytes: ["
    },
    {
     "name": "stdout",
     "output_type": "stream",
     "text": "                                                          "
    },
    {
     "name": "stdout",
     "output_type": "stream",
     "text": "] |   0% (35231) |  1.5s"
    },
    {
     "name": "stdout",
     "output_type": "stream",
     "text": "\rMobile: Write files: spectro_bytes: ["
    },
    {
     "name": "stdout",
     "output_type": "stream",
     "text": "                                                          "
    },
    {
     "name": "stdout",
     "output_type": "stream",
     "text": "] |   0% (35231) |  1.6s"
    },
    {
     "name": "stdout",
     "output_type": "stream",
     "text": "\rMobile: Write files: spectro_bytes: ["
    },
    {
     "name": "stdout",
     "output_type": "stream",
     "text": "                                                          "
    },
    {
     "name": "stdout",
     "output_type": "stream",
     "text": "] |   0% (35231) |  1.7s"
    },
    {
     "name": "stdout",
     "output_type": "stream",
     "text": "\rMobile: Write files: spectro_bytes: ["
    },
    {
     "name": "stdout",
     "output_type": "stream",
     "text": "###########                                               "
    },
    {
     "name": "stdout",
     "output_type": "stream",
     "text": "] |  20% (35231) |  1.8s"
    },
    {
     "name": "stdout",
     "output_type": "stream",
     "text": "\rMobile: Write files: spectro_bytes: ["
    },
    {
     "name": "stdout",
     "output_type": "stream",
     "text": "###########                                               "
    },
    {
     "name": "stdout",
     "output_type": "stream",
     "text": "] |  20% (35231) |  2.0s"
    },
    {
     "name": "stdout",
     "output_type": "stream",
     "text": "\rMobile: Write files: spectro_bytes: ["
    },
    {
     "name": "stdout",
     "output_type": "stream",
     "text": "###########                                               "
    },
    {
     "name": "stdout",
     "output_type": "stream",
     "text": "] |  20% (35231) |  2.1s"
    },
    {
     "name": "stdout",
     "output_type": "stream",
     "text": "\rMobile: Write files: spectro_bytes: ["
    },
    {
     "name": "stdout",
     "output_type": "stream",
     "text": "###########                                               "
    },
    {
     "name": "stdout",
     "output_type": "stream",
     "text": "] |  20% (35231) |  2.2s"
    },
    {
     "name": "stdout",
     "output_type": "stream",
     "text": "\rMobile: Write files: spectro_bytes: ["
    },
    {
     "name": "stdout",
     "output_type": "stream",
     "text": "###########                                               "
    },
    {
     "name": "stdout",
     "output_type": "stream",
     "text": "] |  20% (35231) |  2.3s"
    },
    {
     "name": "stdout",
     "output_type": "stream",
     "text": "\rMobile: Write files: spectro_bytes: ["
    },
    {
     "name": "stdout",
     "output_type": "stream",
     "text": "###########                                               "
    },
    {
     "name": "stdout",
     "output_type": "stream",
     "text": "] |  20% (35231) |  2.4s"
    },
    {
     "name": "stdout",
     "output_type": "stream",
     "text": "\rMobile: Write files: spectro_bytes: ["
    },
    {
     "name": "stdout",
     "output_type": "stream",
     "text": "###########                                               "
    },
    {
     "name": "stdout",
     "output_type": "stream",
     "text": "] |  20% (35231) |  2.5s"
    },
    {
     "name": "stdout",
     "output_type": "stream",
     "text": "\rMobile: Write files: spectro_bytes: ["
    },
    {
     "name": "stdout",
     "output_type": "stream",
     "text": "###########                                               "
    },
    {
     "name": "stdout",
     "output_type": "stream",
     "text": "] |  20% (35231) |  2.6s"
    },
    {
     "name": "stdout",
     "output_type": "stream",
     "text": "\rMobile: Write files: spectro_bytes: ["
    },
    {
     "name": "stdout",
     "output_type": "stream",
     "text": "###########                                               "
    },
    {
     "name": "stdout",
     "output_type": "stream",
     "text": "] |  20% (35231) |  2.7s"
    },
    {
     "name": "stdout",
     "output_type": "stream",
     "text": "\rMobile: Write files: spectro_bytes: ["
    },
    {
     "name": "stdout",
     "output_type": "stream",
     "text": "###########                                               "
    },
    {
     "name": "stdout",
     "output_type": "stream",
     "text": "] |  20% (35231) |  2.8s"
    },
    {
     "name": "stdout",
     "output_type": "stream",
     "text": "\rMobile: Write files: spectro_bytes: ["
    },
    {
     "name": "stdout",
     "output_type": "stream",
     "text": "###########                                               "
    },
    {
     "name": "stdout",
     "output_type": "stream",
     "text": "] |  20% (35231) |  2.9s"
    },
    {
     "name": "stdout",
     "output_type": "stream",
     "text": "\rMobile: Write files: spectro_bytes: ["
    },
    {
     "name": "stdout",
     "output_type": "stream",
     "text": "###########                                               "
    },
    {
     "name": "stdout",
     "output_type": "stream",
     "text": "] |  20% (35231) |  3.1s"
    },
    {
     "name": "stdout",
     "output_type": "stream",
     "text": "\rMobile: Write files: spectro_bytes: ["
    },
    {
     "name": "stdout",
     "output_type": "stream",
     "text": "###########                                               "
    },
    {
     "name": "stdout",
     "output_type": "stream",
     "text": "] |  20% (35231) |  3.2s"
    },
    {
     "name": "stdout",
     "output_type": "stream",
     "text": "\rMobile: Write files: spectro_bytes: ["
    },
    {
     "name": "stdout",
     "output_type": "stream",
     "text": "###########                                               "
    },
    {
     "name": "stdout",
     "output_type": "stream",
     "text": "] |  20% (35231) |  3.3s"
    },
    {
     "name": "stdout",
     "output_type": "stream",
     "text": "\rMobile: Write files: spectro_bytes: ["
    },
    {
     "name": "stdout",
     "output_type": "stream",
     "text": "###########                                               "
    },
    {
     "name": "stdout",
     "output_type": "stream",
     "text": "] |  20% (35231) |  3.4s"
    },
    {
     "name": "stdout",
     "output_type": "stream",
     "text": "\rMobile: Write files: spectro_bytes: ["
    },
    {
     "name": "stdout",
     "output_type": "stream",
     "text": "###########                                               "
    },
    {
     "name": "stdout",
     "output_type": "stream",
     "text": "] |  20% (35231) |  3.5s"
    },
    {
     "name": "stdout",
     "output_type": "stream",
     "text": "\rMobile: Write files: spectro_bytes: ["
    },
    {
     "name": "stdout",
     "output_type": "stream",
     "text": "##################                                        "
    },
    {
     "name": "stdout",
     "output_type": "stream",
     "text": "] |  31% (35231) |  3.6s"
    },
    {
     "name": "stdout",
     "output_type": "stream",
     "text": "\rMobile: Write files: spectro_bytes: ["
    },
    {
     "name": "stdout",
     "output_type": "stream",
     "text": "#######################                                   "
    },
    {
     "name": "stdout",
     "output_type": "stream",
     "text": "] |  40% (35231) |  3.7s"
    },
    {
     "name": "stdout",
     "output_type": "stream",
     "text": "\rMobile: Write files: spectro_bytes: ["
    },
    {
     "name": "stdout",
     "output_type": "stream",
     "text": "#######################                                   "
    },
    {
     "name": "stdout",
     "output_type": "stream",
     "text": "] |  40% (35231) |  3.8s"
    },
    {
     "name": "stdout",
     "output_type": "stream",
     "text": "\rMobile: Write files: spectro_bytes: ["
    },
    {
     "name": "stdout",
     "output_type": "stream",
     "text": "#######################                                   "
    },
    {
     "name": "stdout",
     "output_type": "stream",
     "text": "] |  40% (35231) |  3.9s"
    },
    {
     "name": "stdout",
     "output_type": "stream",
     "text": "\rMobile: Write files: spectro_bytes: ["
    },
    {
     "name": "stdout",
     "output_type": "stream",
     "text": "#######################                                   "
    },
    {
     "name": "stdout",
     "output_type": "stream",
     "text": "] |  40% (35231) |  4.1s"
    },
    {
     "name": "stdout",
     "output_type": "stream",
     "text": "\rMobile: Write files: spectro_bytes: ["
    },
    {
     "name": "stdout",
     "output_type": "stream",
     "text": "#######################                                   "
    },
    {
     "name": "stdout",
     "output_type": "stream",
     "text": "] |  40% (35231) |  4.2s"
    },
    {
     "name": "stdout",
     "output_type": "stream",
     "text": "\rMobile: Write files: spectro_bytes: ["
    },
    {
     "name": "stdout",
     "output_type": "stream",
     "text": "#######################                                   "
    },
    {
     "name": "stdout",
     "output_type": "stream",
     "text": "] |  40% (35231) |  4.3s"
    },
    {
     "name": "stdout",
     "output_type": "stream",
     "text": "\rMobile: Write files: spectro_bytes: ["
    },
    {
     "name": "stdout",
     "output_type": "stream",
     "text": "#######################                                   "
    },
    {
     "name": "stdout",
     "output_type": "stream",
     "text": "] |  40% (35231) |  4.4s"
    },
    {
     "name": "stdout",
     "output_type": "stream",
     "text": "\rMobile: Write files: spectro_bytes: ["
    },
    {
     "name": "stdout",
     "output_type": "stream",
     "text": "#######################                                   "
    },
    {
     "name": "stdout",
     "output_type": "stream",
     "text": "] |  40% (35231) |  4.5s"
    },
    {
     "name": "stdout",
     "output_type": "stream",
     "text": "\rMobile: Write files: spectro_bytes: ["
    },
    {
     "name": "stdout",
     "output_type": "stream",
     "text": "#######################                                   "
    },
    {
     "name": "stdout",
     "output_type": "stream",
     "text": "] |  40% (35231) |  4.6s"
    },
    {
     "name": "stdout",
     "output_type": "stream",
     "text": "\rMobile: Write files: spectro_bytes: ["
    },
    {
     "name": "stdout",
     "output_type": "stream",
     "text": "#######################                                   "
    },
    {
     "name": "stdout",
     "output_type": "stream",
     "text": "] |  40% (35231) |  4.8s"
    },
    {
     "name": "stdout",
     "output_type": "stream",
     "text": "\rMobile: Write files: spectro_bytes: ["
    },
    {
     "name": "stdout",
     "output_type": "stream",
     "text": "#######################                                   "
    },
    {
     "name": "stdout",
     "output_type": "stream",
     "text": "] |  40% (35231) |  4.9s"
    },
    {
     "name": "stdout",
     "output_type": "stream",
     "text": "\rMobile: Write files: spectro_bytes: ["
    },
    {
     "name": "stdout",
     "output_type": "stream",
     "text": "#######################                                   "
    },
    {
     "name": "stdout",
     "output_type": "stream",
     "text": "] |  40% (35231) |  5.0s"
    },
    {
     "name": "stdout",
     "output_type": "stream",
     "text": "\rMobile: Write files: spectro_bytes: ["
    },
    {
     "name": "stdout",
     "output_type": "stream",
     "text": "#######################                                   "
    },
    {
     "name": "stdout",
     "output_type": "stream",
     "text": "] |  40% (35231) |  5.1s"
    },
    {
     "name": "stdout",
     "output_type": "stream",
     "text": "\rMobile: Write files: spectro_bytes: ["
    },
    {
     "name": "stdout",
     "output_type": "stream",
     "text": "#######################                                   "
    },
    {
     "name": "stdout",
     "output_type": "stream",
     "text": "] |  40% (35231) |  5.2s"
    },
    {
     "name": "stdout",
     "output_type": "stream",
     "text": "\rMobile: Write files: spectro_bytes: ["
    },
    {
     "name": "stdout",
     "output_type": "stream",
     "text": "#######################                                   "
    },
    {
     "name": "stdout",
     "output_type": "stream",
     "text": "] |  40% (35231) |  5.3s"
    },
    {
     "name": "stdout",
     "output_type": "stream",
     "text": "\rMobile: Write files: spectro_bytes: ["
    },
    {
     "name": "stdout",
     "output_type": "stream",
     "text": "#######################                                   "
    },
    {
     "name": "stdout",
     "output_type": "stream",
     "text": "] |  40% (35231) |  5.4s"
    },
    {
     "name": "stdout",
     "output_type": "stream",
     "text": "\rMobile: Write files: spectro_bytes: ["
    },
    {
     "name": "stdout",
     "output_type": "stream",
     "text": "#################################                         "
    },
    {
     "name": "stdout",
     "output_type": "stream",
     "text": "] |  57% (35231) |  5.5s"
    },
    {
     "name": "stdout",
     "output_type": "stream",
     "text": "\rMobile: Write files: spectro_bytes: ["
    },
    {
     "name": "stdout",
     "output_type": "stream",
     "text": "##################################                        "
    },
    {
     "name": "stdout",
     "output_type": "stream",
     "text": "] |  60% (35231) |  5.7s"
    },
    {
     "name": "stdout",
     "output_type": "stream",
     "text": "\rMobile: Write files: spectro_bytes: ["
    },
    {
     "name": "stdout",
     "output_type": "stream",
     "text": "##################################                        "
    },
    {
     "name": "stdout",
     "output_type": "stream",
     "text": "] |  60% (35231) |  5.8s"
    },
    {
     "name": "stdout",
     "output_type": "stream",
     "text": "\rMobile: Write files: spectro_bytes: ["
    },
    {
     "name": "stdout",
     "output_type": "stream",
     "text": "##################################                        "
    },
    {
     "name": "stdout",
     "output_type": "stream",
     "text": "] |  60% (35231) |  5.9s"
    },
    {
     "name": "stdout",
     "output_type": "stream",
     "text": "\rMobile: Write files: spectro_bytes: ["
    },
    {
     "name": "stdout",
     "output_type": "stream",
     "text": "##################################                        "
    },
    {
     "name": "stdout",
     "output_type": "stream",
     "text": "] |  60% (35231) |  6.0s"
    },
    {
     "name": "stdout",
     "output_type": "stream",
     "text": "\rMobile: Write files: spectro_bytes: ["
    },
    {
     "name": "stdout",
     "output_type": "stream",
     "text": "##################################                        "
    },
    {
     "name": "stdout",
     "output_type": "stream",
     "text": "] |  60% (35231) |  6.1s"
    },
    {
     "name": "stdout",
     "output_type": "stream",
     "text": "\rMobile: Write files: spectro_bytes: ["
    },
    {
     "name": "stdout",
     "output_type": "stream",
     "text": "##################################                        "
    },
    {
     "name": "stdout",
     "output_type": "stream",
     "text": "] |  60% (35231) |  6.2s"
    },
    {
     "name": "stdout",
     "output_type": "stream",
     "text": "\rMobile: Write files: spectro_bytes: ["
    },
    {
     "name": "stdout",
     "output_type": "stream",
     "text": "##################################                        "
    },
    {
     "name": "stdout",
     "output_type": "stream",
     "text": "] |  60% (35231) |  6.3s"
    },
    {
     "name": "stdout",
     "output_type": "stream",
     "text": "\rMobile: Write files: spectro_bytes: ["
    },
    {
     "name": "stdout",
     "output_type": "stream",
     "text": "##################################                        "
    },
    {
     "name": "stdout",
     "output_type": "stream",
     "text": "] |  60% (35231) |  6.4s"
    },
    {
     "name": "stdout",
     "output_type": "stream",
     "text": "\rMobile: Write files: spectro_bytes: ["
    },
    {
     "name": "stdout",
     "output_type": "stream",
     "text": "##################################                        "
    },
    {
     "name": "stdout",
     "output_type": "stream",
     "text": "] |  60% (35231) |  6.6s"
    },
    {
     "name": "stdout",
     "output_type": "stream",
     "text": "\rMobile: Write files: spectro_bytes: ["
    },
    {
     "name": "stdout",
     "output_type": "stream",
     "text": "##################################                        "
    },
    {
     "name": "stdout",
     "output_type": "stream",
     "text": "] |  60% (35231) |  6.7s"
    },
    {
     "name": "stdout",
     "output_type": "stream",
     "text": "\rMobile: Write files: spectro_bytes: ["
    },
    {
     "name": "stdout",
     "output_type": "stream",
     "text": "##################################                        "
    },
    {
     "name": "stdout",
     "output_type": "stream",
     "text": "] |  60% (35231) |  6.8s"
    },
    {
     "name": "stdout",
     "output_type": "stream",
     "text": "\rMobile: Write files: spectro_bytes: ["
    },
    {
     "name": "stdout",
     "output_type": "stream",
     "text": "##################################                        "
    },
    {
     "name": "stdout",
     "output_type": "stream",
     "text": "] |  60% (35231) |  7.0s"
    },
    {
     "name": "stdout",
     "output_type": "stream",
     "text": "\rMobile: Write files: spectro_bytes: ["
    },
    {
     "name": "stdout",
     "output_type": "stream",
     "text": "##################################                        "
    },
    {
     "name": "stdout",
     "output_type": "stream",
     "text": "] |  60% (35231) |  7.1s"
    },
    {
     "name": "stdout",
     "output_type": "stream",
     "text": "\rMobile: Write files: spectro_bytes: ["
    },
    {
     "name": "stdout",
     "output_type": "stream",
     "text": "##################################                        "
    },
    {
     "name": "stdout",
     "output_type": "stream",
     "text": "] |  60% (35231) |  7.2s"
    },
    {
     "name": "stdout",
     "output_type": "stream",
     "text": "\rMobile: Write files: spectro_bytes: ["
    },
    {
     "name": "stdout",
     "output_type": "stream",
     "text": "##################################                        "
    },
    {
     "name": "stdout",
     "output_type": "stream",
     "text": "] |  60% (35231) |  7.3s"
    },
    {
     "name": "stdout",
     "output_type": "stream",
     "text": "\rMobile: Write files: spectro_bytes: ["
    },
    {
     "name": "stdout",
     "output_type": "stream",
     "text": "##################################                        "
    },
    {
     "name": "stdout",
     "output_type": "stream",
     "text": "] |  60% (35231) |  7.4s"
    },
    {
     "name": "stdout",
     "output_type": "stream",
     "text": "\rMobile: Write files: spectro_bytes: ["
    },
    {
     "name": "stdout",
     "output_type": "stream",
     "text": "##########################################                "
    },
    {
     "name": "stdout",
     "output_type": "stream",
     "text": "] |  72% (35231) |  7.5s"
    },
    {
     "name": "stdout",
     "output_type": "stream",
     "text": "\rMobile: Write files: spectro_bytes: ["
    },
    {
     "name": "stdout",
     "output_type": "stream",
     "text": "##############################################            "
    },
    {
     "name": "stdout",
     "output_type": "stream",
     "text": "] |  80% (35231) |  7.6s"
    },
    {
     "name": "stdout",
     "output_type": "stream",
     "text": "\rMobile: Write files: spectro_bytes: ["
    },
    {
     "name": "stdout",
     "output_type": "stream",
     "text": "##############################################            "
    },
    {
     "name": "stdout",
     "output_type": "stream",
     "text": "] |  80% (35231) |  7.7s"
    },
    {
     "name": "stdout",
     "output_type": "stream",
     "text": "\rMobile: Write files: spectro_bytes: ["
    },
    {
     "name": "stdout",
     "output_type": "stream",
     "text": "##############################################            "
    },
    {
     "name": "stdout",
     "output_type": "stream",
     "text": "] |  80% (35231) |  7.9s"
    },
    {
     "name": "stdout",
     "output_type": "stream",
     "text": "\rMobile: Write files: spectro_bytes: ["
    },
    {
     "name": "stdout",
     "output_type": "stream",
     "text": "##############################################            "
    },
    {
     "name": "stdout",
     "output_type": "stream",
     "text": "] |  80% (35231) |  8.0s"
    },
    {
     "name": "stdout",
     "output_type": "stream",
     "text": "\rMobile: Write files: spectro_bytes: ["
    },
    {
     "name": "stdout",
     "output_type": "stream",
     "text": "##############################################            "
    },
    {
     "name": "stdout",
     "output_type": "stream",
     "text": "] |  80% (35231) |  8.1s"
    },
    {
     "name": "stdout",
     "output_type": "stream",
     "text": "\rMobile: Write files: spectro_bytes: ["
    },
    {
     "name": "stdout",
     "output_type": "stream",
     "text": "##############################################            "
    },
    {
     "name": "stdout",
     "output_type": "stream",
     "text": "] |  80% (35231) |  8.2s"
    },
    {
     "name": "stdout",
     "output_type": "stream",
     "text": "\rMobile: Write files: spectro_bytes: ["
    },
    {
     "name": "stdout",
     "output_type": "stream",
     "text": "##############################################            "
    },
    {
     "name": "stdout",
     "output_type": "stream",
     "text": "] |  80% (35231) |  8.3s"
    },
    {
     "name": "stdout",
     "output_type": "stream",
     "text": "\rMobile: Write files: spectro_bytes: ["
    },
    {
     "name": "stdout",
     "output_type": "stream",
     "text": "##############################################            "
    },
    {
     "name": "stdout",
     "output_type": "stream",
     "text": "] |  80% (35231) |  8.4s"
    },
    {
     "name": "stdout",
     "output_type": "stream",
     "text": "\rMobile: Write files: spectro_bytes: ["
    },
    {
     "name": "stdout",
     "output_type": "stream",
     "text": "##############################################            "
    },
    {
     "name": "stdout",
     "output_type": "stream",
     "text": "] |  80% (35231) |  8.5s"
    },
    {
     "name": "stdout",
     "output_type": "stream",
     "text": "\rMobile: Write files: spectro_bytes: ["
    },
    {
     "name": "stdout",
     "output_type": "stream",
     "text": "##############################################            "
    },
    {
     "name": "stdout",
     "output_type": "stream",
     "text": "] |  80% (35231) |  8.6s"
    },
    {
     "name": "stdout",
     "output_type": "stream",
     "text": "\rMobile: Write files: spectro_bytes: ["
    },
    {
     "name": "stdout",
     "output_type": "stream",
     "text": "##############################################            "
    },
    {
     "name": "stdout",
     "output_type": "stream",
     "text": "] |  80% (35231) |  8.8s"
    },
    {
     "name": "stdout",
     "output_type": "stream",
     "text": "\rMobile: Write files: spectro_bytes: ["
    },
    {
     "name": "stdout",
     "output_type": "stream",
     "text": "##############################################            "
    },
    {
     "name": "stdout",
     "output_type": "stream",
     "text": "] |  80% (35231) |  8.9s"
    },
    {
     "name": "stdout",
     "output_type": "stream",
     "text": "\rMobile: Write files: spectro_bytes: ["
    },
    {
     "name": "stdout",
     "output_type": "stream",
     "text": "##############################################            "
    },
    {
     "name": "stdout",
     "output_type": "stream",
     "text": "] |  80% (35231) |  9.0s"
    },
    {
     "name": "stdout",
     "output_type": "stream",
     "text": "\rMobile: Write files: spectro_bytes: ["
    },
    {
     "name": "stdout",
     "output_type": "stream",
     "text": "##############################################            "
    },
    {
     "name": "stdout",
     "output_type": "stream",
     "text": "] |  80% (35231) |  9.1s"
    },
    {
     "name": "stdout",
     "output_type": "stream",
     "text": "\rMobile: Write files: spectro_bytes: ["
    },
    {
     "name": "stdout",
     "output_type": "stream",
     "text": "##############################################            "
    },
    {
     "name": "stdout",
     "output_type": "stream",
     "text": "] |  80% (35231) |  9.2s"
    },
    {
     "name": "stdout",
     "output_type": "stream",
     "text": "\rMobile: Write files: spectro_bytes: ["
    },
    {
     "name": "stdout",
     "output_type": "stream",
     "text": "#####################################################     "
    },
    {
     "name": "stdout",
     "output_type": "stream",
     "text": "] |  92% (35231) |  9.3s"
    },
    {
     "name": "stdout",
     "output_type": "stream",
     "text": "\rMobile: Write files: spectro_bytes: ["
    },
    {
     "name": "stdout",
     "output_type": "stream",
     "text": "##########################################################"
    },
    {
     "name": "stdout",
     "output_type": "stream",
     "text": "] | 100% (35231) |  9.4s"
    },
    {
     "name": "stdout",
     "output_type": "stream",
     "text": "\n"
    },
    {
     "name": "stdout",
     "output_type": "stream",
     "text": "INFO     [19:38:34.629] [ 4535] 286 payloads/df_cache_hybrid: Mobile: Expand feat col: f_preds (331) [5.155s]"
    },
    {
     "name": "stdout",
     "output_type": "stream",
     "text": "\n"
    },
    {
     "name": "stdout",
     "output_type": "stream",
     "text": "INFO     [19:38:35.023] [ 4535] 298 payloads/df_cache_hybrid: Mobile: Norm feat col: f_preds [0.379s]"
    },
    {
     "name": "stdout",
     "output_type": "stream",
     "text": "\n"
    },
    {
     "name": "stdout",
     "output_type": "stream",
     "text": "INFO     [19:38:35.416] [ 4535] 329 payloads/<dictcomp>: Mobile: Covert non-sql col: json_dumps_canonical(background) (35231) [0.171s]"
    },
    {
     "name": "stdout",
     "output_type": "stream",
     "text": "\n"
    },
    {
     "name": "stdout",
     "output_type": "stream",
     "text": "INFO     [19:38:35.594] [ 4535] 329 payloads/<dictcomp>: Mobile: Covert non-sql col: json_dumps_canonical(background_species) (35231) [0.163s]"
    },
    {
     "name": "stdout",
     "output_type": "stream",
     "text": "\n"
    },
    {
     "name": "stdout",
     "output_type": "stream",
     "text": "INFO     [19:38:58.735] [ 4535] 361 payloads/df_cache_hybrid: Mobile: Write mobile-version[1]/search_recs/search_recs.sqlite3 [168.0 MB, 23.056s]"
    },
    {
     "name": "stdout",
     "output_type": "stream",
     "text": "\n"
    },
    {
     "name": "stdout",
     "output_type": "stream",
     "text": "INFO     [19:38:58.751] [ 4535] 371 payloads/df_cache_hybrid: Mobile: Write mobile-version[1]/search_recs/server-config.json [2.2 kB, 0.002s]"
    },
    {
     "name": "stdout",
     "output_type": "stream",
     "text": "\n"
    },
    {
     "name": "stdout",
     "output_type": "stream",
     "text": "INFO     [19:38:58.773] [ 4535] 392 payloads/_npy: Mobile: Write mobile-version[1]/search_recs/models/projection.skm_.D.npy [420.1 kB, 0.003s]"
    },
    {
     "name": "stdout",
     "output_type": "stream",
     "text": "\n"
    },
    {
     "name": "stdout",
     "output_type": "stream",
     "text": "INFO     [19:38:58.786] [ 4535] 392 payloads/_npy: Mobile: Write mobile-version[1]/search_recs/models/projection.skm_.pca.mean_.npy [1.4 kB, 0.001s]"
    },
    {
     "name": "stdout",
     "output_type": "stream",
     "text": "\n"
    },
    {
     "name": "stdout",
     "output_type": "stream",
     "text": "INFO     [19:38:58.800] [ 4535] 392 payloads/_npy: Mobile: Write mobile-version[1]/search_recs/models/projection.skm_.pca.components_.npy [134.5 kB, 0.001s]"
    },
    {
     "name": "stdout",
     "output_type": "stream",
     "text": "\n"
    },
    {
     "name": "stdout",
     "output_type": "stream",
     "text": "INFO     [19:38:58.811] [ 4535] 392 payloads/_npy: Mobile: Write mobile-version[1]/search_recs/models/projection.skm_.pca.explained_variance_.npy [968 B, 0.001s]"
    },
    {
     "name": "stdout",
     "output_type": "stream",
     "text": "\n"
    },
    {
     "name": "stdout",
     "output_type": "stream",
     "text": "INFO     [19:38:58.866] [ 4535] 392 payloads/_npy: Mobile: Write mobile-version[1]/search_recs/models/classifier_._coef_arr.npy [4.0 MB, 0.006s]"
    },
    {
     "name": "stdout",
     "output_type": "stream",
     "text": "\n"
    },
    {
     "name": "stdout",
     "output_type": "stream",
     "text": "INFO     [19:38:58.909] [ 4535] 392 payloads/_npy: Mobile: Write mobile-version[1]/search_recs/models/classifier_._intercept_arr.npy [2.8 kB, 0.001s]"
    },
    {
     "name": "stdout",
     "output_type": "stream",
     "text": "\n"
    },
    {
     "name": "stdout",
     "output_type": "stream",
     "text": "INFO     [19:38:58.923] [ 4535] 446 payloads/df_cache_hybrid: Mobile: Write mobile-version[1]/search_recs/models/search.json [4.9 kB, 0.159s]"
    },
    {
     "name": "stdout",
     "output_type": "stream",
     "text": "\n"
    },
    {
     "name": "stdout",
     "output_type": "stream",
     "text": "INFO     [19:38:58.933] [ 4535] 446 payloads/df_cache_hybrid: Mobile: Write payload [67.007s]"
    },
    {
     "name": "stdout",
     "output_type": "stream",
     "text": "\n"
    },
    {
     "data": {
      "text/html": "<table border=\"1\" class=\"dataframe\">\n  <thead>\n    <tr style=\"text-align: right;\">\n      <th></th>\n      <th>dir</th>\n      <th>file</th>\n      <th>size</th>\n      <th>frac</th>\n    </tr>\n  </thead>\n  <tbody>\n    <tr>\n      <th>5</th>\n      <td><div class=\"not-number\">api</div></td>\n      <td><div class=\"not-number\">TOTAL</div></td>\n      <td>2104306229</td>\n      <td>1.000</td>\n    </tr>\n    <tr>\n      <th>1</th>\n      <td><div class=\"not-number\">api</div></td>\n      <td><div class=\"not-number\">api/bytes-audio_bytes.parquet</div></td>\n      <td>1412454635</td>\n      <td>0.671</td>\n    </tr>\n    <tr>\n      <th>2</th>\n      <td><div class=\"not-number\">api</div></td>\n      <td><div class=\"not-number\">api/bytes-spectro_bytes.parquet</div></td>\n      <td>382833212</td>\n      <td>0.182</td>\n    </tr>\n    <tr>\n      <th>4</th>\n      <td><div class=\"not-number\">api</div></td>\n      <td><div class=\"not-number\">api/feat-feat.npy: float32</div></td>\n      <td>211386128</td>\n      <td>0.100</td>\n    </tr>\n    <tr>\n      <th>0</th>\n      <td><div class=\"not-number\">api</div></td>\n      <td><div class=\"not-number\">api/lite.parquet</div></td>\n      <td>50986282</td>\n      <td>0.024</td>\n    </tr>\n    <tr>\n      <th>3</th>\n      <td><div class=\"not-number\">api</div></td>\n      <td><div class=\"not-number\">api/feat-f_preds.npy: float32</div></td>\n      <td>46645972</td>\n      <td>0.022</td>\n    </tr>\n    <tr>\n      <th>9</th>\n      <td><div class=\"not-number\">mobile-version[1]</div></td>\n      <td><div class=\"not-number\">TOTAL</div></td>\n      <td>2120306688</td>\n      <td>1.000</td>\n    </tr>\n    <tr>\n      <th>6</th>\n      <td><div class=\"not-number\">mobile-version[1]</div></td>\n      <td><div class=\"not-number\">mobile-version[1]/search_recs/audio/</div></td>\n      <td>1502609408</td>\n      <td>0.709</td>\n    </tr>\n    <tr>\n      <th>7</th>\n      <td><div class=\"not-number\">mobile-version[1]</div></td>\n      <td><div class=\"not-number\">mobile-version[1]/search_recs/spectro/</div></td>\n      <td>449687552</td>\n      <td>0.212</td>\n    </tr>\n    <tr>\n      <th>8</th>\n      <td><div class=\"not-number\">mobile-version[1]</div></td>\n      <td><div class=\"not-number\">mobile-version[1]/search_recs/search_recs.sqlite3</div></td>\n      <td>168009728</td>\n      <td>0.079</td>\n    </tr>\n  </tbody>\n</table>",
      "text/plain": "                 dir                                               file        size   frac\n5                api                                              TOTAL  2104306229  1.000\n1                api                      api/bytes-audio_bytes.parquet  1412454635  0.671\n2                api                    api/bytes-spectro_bytes.parquet   382833212  0.182\n4                api                         api/feat-feat.npy: float32   211386128  0.100\n0                api                                   api/lite.parquet    50986282  0.024\n3                api                      api/feat-f_preds.npy: float32    46645972  0.022\n9  mobile-version[1]                                              TOTAL  2120306688  1.000\n6  mobile-version[1]               mobile-version[1]/search_recs/audio/  1502609408  0.709\n7  mobile-version[1]             mobile-version[1]/search_recs/spectro/   449687552  0.212\n8  mobile-version[1]  mobile-version[1]/search_recs/search_recs.sqlite3   168009728  0.079"
     },
     "metadata": {},
     "output_type": "display_data",
     "transient": {}
    },
    {
     "data": {
      "image/png": "[encoded data removed]",
      "text/plain": "<matplotlib.figure.Figure object at 0x18918c550>"
     },
     "metadata": {
      "image/png": {
       "height": 298,
       "width": 1180
      }
     },
     "output_type": "display_data",
     "transient": {}
    },
    {
     "data": {
      "text/html": " ",
      "text/plain": "<ggplot: (413732153)>"
     },
     "metadata": {},
     "output_type": "display_data",
     "transient": {}
    },
    {
     "data": {
      "image/png": "[encoded data removed]",
      "text/plain": "<matplotlib.figure.Figure object at 0x18a9714e0>"
     },
     "metadata": {
      "image/png": {
       "height": 211,
       "width": 1052
      }
     },
     "output_type": "display_data",
     "transient": {}
    },
    {
     "data": {
      "text/html": " ",
      "text/plain": "<ggplot: (-9223372036582375182)>"
     },
     "metadata": {},
     "output_type": "display_data",
     "transient": {}
    },
    {
     "data": {
      "text/html": "<table border=\"1\" class=\"dataframe\">\n  <thead>\n    <tr style=\"text-align: right;\">\n      <th></th>\n      <th>size</th>\n      <th>type</th>\n      <th>0</th>\n    </tr>\n  </thead>\n  <tbody>\n    <tr>\n      <th>xc_id</th>\n      <td>36</td>\n      <td><div class=\"not-number\">int</div></td>\n      <td>413174</td>\n    </tr>\n    <tr>\n      <th>feat</th>\n      <td>104</td>\n      <td><div class=\"not-number\">ndarray</div></td>\n      <td><div class=\"not-number\">[ 9.259e-02 -3.927e-02  4.972e-01 -4.154e-04 -4.900e-02 -6.117e-02  3.974e-02 -1.629e-01  6.649e-02 -1.643e-02\n -8.081e-02 -7.604e-02 -9.098e-02  4.766e-02 -4.830e-02 -6.90...</td>\n    </tr>\n    <tr>\n      <th>f_preds</th>\n      <td>104</td>\n      <td><div class=\"not-number\">ndarray</div></td>\n      <td><div class=\"not-number\">[3.219e-03 1.693e-03 4.284e-05 3.685e-03 1.657e-03 1.457e-02 9.939e-03 1.444e-03 2.617e-04 6.943e-04 4.435e-04\n 7.072e-04 2.569e-03 9.745e-03 8.396e-04 2.003e-03 7.801e-04 ...</td>\n    </tr>\n    <tr>\n      <th>background</th>\n      <td>80</td>\n      <td><div class=\"not-number\">list</div></td>\n      <td><div class=\"not-number\">['White-crowned Sparrow (Zonotrichia leucophrys)']</div></td>\n    </tr>\n    <tr>\n      <th>background_species</th>\n      <td>80</td>\n      <td><div class=\"not-number\">list</div></td>\n      <td><div class=\"not-number\">['WCSP']</div></td>\n    </tr>\n  </tbody>\n</table>",
      "text/plain": "                    size     type                                                                                                                                                                                                        0\nxc_id                 36      int                                                                                                                                                                                                   413174\nfeat                 104  ndarray  [0.09258732, -0.039267898, 0.49721217, -0.00041539228, -0.048999168, -0.0611713, 0.03974079, -0.16286443, 0.06649229, -0.016432613, -0.080809884, -0.076037146, -0.090977564, 0.047662657, -0.048301...\nf_preds              104  ndarray  [0.003219216, 0.0016933391, 4.2837153e-05, 0.0036848816, 0.0016570376, 0.014565381, 0.0099388985, 0.0014441155, 0.0002616892, 0.0006942802, 0.0004434612, 0.00070716365, 0.0025688438, 0.009744544, ...\nbackground            80     list                                                                                                                                                         [White-crowned Sparrow (Zonotrichia leucophrys)]\nbackground_species    80     list                                                                                                                                                                                                   [WCSP]"
     },
     "metadata": {},
     "output_type": "display_data",
     "transient": {}
    }
   ],
   "source": [
    "log_levels({\n",
    "    'payloads': 'INFO',\n",
    "    # 'payloads': 'DEBUG',\n",
    "})\n",
    "kwargss = [\n",
    "    # dict(cache_type='hybrid', refresh=True),  # Simulate cache miss\n",
    "    dict(cache_type='hybrid'),                # Simulate cache hit\n",
    "]\n",
    "search_recss = []\n",
    "for i, kwargs in enumerate(kwargss):\n",
    "    if i > 0: print()\n",
    "    print(f'search_recs(**{kwargs})')\n",
    "    get_search_recs.cache_clear()\n",
    "    search_recs = get_search_recs(**kwargs,\n",
    "        write_mobile_payload=True,\n",
    "        plot_sizes=True,\n",
    "    )\n",
    "    search_recss.append(search_recs)\n",
    "    display(search_recs\n",
    "        [['xc_id', 'feat', 'f_preds', 'background', 'background_species']]\n",
    "        [2:3].reset_index(drop=True).T\n",
    "        .pipe(df_assign_first,\n",
    "            size=lambda df: df.T.memory_usage(deep=True),\n",
    "            type=lambda df: df[0].map(lambda x: type(x).__name__),\n",
    "        )\n",
    "    )"
   ]
  },
  {
   "cell_type": "code",
   "execution_count": null,
   "metadata": {
    "skip": true
   },
   "outputs": [
    {
     "name": "stdout",
     "output_type": "stream",
     "text": "[skip]"
    }
   ],
   "source": [
    "# TODO Turn this into unit tests\n",
    "#   - Should roundtrip, should preserve category dtypes, should fail if index present\n",
    "assert len(search_recss) == 2, \"Test requires both 'cache hit' + 'cache miss' to be uncommented (above)\"\n",
    "[a, b] = search_recss\n",
    "pd.testing.assert_frame_equal(a, b, check_column_type=True,\n",
    "    check_index_type=False,  # Allow Int64Index vs. RangeIndex\n",
    ")"
   ]
  },
  {
   "cell_type": "code",
   "execution_count": null,
   "metadata": {},
   "outputs": [],
   "source": []
  }
 ],
 "metadata": {
  "kernelspec": {
   "display_name": "bubo-features (PYTHONSTARTUP)",
   "language": "python",
   "name": "bubo-features (PYTHONSTARTUP)"
  }
 },
 "nbformat": 4,
 "nbformat_minor": 2
}
