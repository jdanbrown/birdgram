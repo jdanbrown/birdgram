{
 "cells": [
  {
   "cell_type": "code",
   "execution_count": null,
   "metadata": {
    "time": "1.002s"
   },
   "outputs": [],
   "source": [
    "from notebooks import *"
   ]
  },
  {
   "cell_type": "code",
   "execution_count": null,
   "metadata": {},
   "outputs": [
    {
     "name": "stdout",
     "output_type": "stream",
     "text": "•"
    },
    {
     "data": {
      "text/html": "<table border=\"1\" class=\"dataframe\">\n  <thead>\n    <tr style=\"text-align: right;\">\n      <th></th>\n      <th></th>\n      <th></th>\n      <th></th>\n      <th></th>\n      <th></th>\n      <th></th>\n      <th></th>\n      <th>min</th>\n      <th>25%</th>\n      <th>50%</th>\n      <th>75%</th>\n      <th>max</th>\n    </tr>\n    <tr>\n      <th></th>\n      <th>dtype</th>\n      <th>sizeof</th>\n      <th>len</th>\n      <th>count</th>\n      <th>nunique</th>\n      <th>mean</th>\n      <th>std</th>\n      <th></th>\n      <th></th>\n      <th></th>\n      <th></th>\n      <th></th>\n    </tr>\n  </thead>\n  <tbody>\n    <tr>\n      <th>dataset</th>\n      <th>object</th>\n      <th>701760</th>\n      <th>13760</th>\n      <th>13760</th>\n      <th>1</th>\n      <th>NaN</th>\n      <th>NaN</th>\n      <td><div class=\"not-number\">xc</div></td>\n      <td><div class=\"not-number\">xc</div></td>\n      <td><div class=\"not-number\">xc</div></td>\n      <td><div class=\"not-number\">xc</div></td>\n      <td><div class=\"not-number\">xc</div></td>\n    </tr>\n    <tr>\n      <th>species</th>\n      <th>category</th>\n      <th>729280</th>\n      <th>13760</th>\n      <th>13760</th>\n      <th>168</th>\n      <th>NaN</th>\n      <th>NaN</th>\n      <td><div class=\"not-number\">MOUQ</div></td>\n      <td><div class=\"not-number\">CORA</div></td>\n      <td><div class=\"not-number\">RCKI</div></td>\n      <td><div class=\"not-number\">WCSP</div></td>\n      <td><div class=\"not-number\">HOSP</div></td>\n    </tr>\n    <tr>\n      <th>species_com_name</th>\n      <th>category</th>\n      <th>886706</th>\n      <th>13760</th>\n      <th>13760</th>\n      <th>168</th>\n      <th>NaN</th>\n      <th>NaN</th>\n      <td><div class=\"not-number\">Mountain Quail</div></td>\n      <td><div class=\"not-number\">Common Raven</div></td>\n      <td><div class=\"not-number\">Ruby-crowned Kinglet</div></td>\n      <td><div class=\"not-number\">White-crowned Sparrow</div></td>\n      <td><div class=\"not-number\">House Sparrow</div></td>\n    </tr>\n    <tr>\n      <th>species_query</th>\n      <th>object</th>\n      <th>729280</th>\n      <th>13760</th>\n      <th>13760</th>\n      <th>168</th>\n      <th>NaN</th>\n      <th>NaN</th>\n      <td><div class=\"not-number\">ACWO</div></td>\n      <td><div class=\"not-number\">CATH</div></td>\n      <td><div class=\"not-number\">HOSP</div></td>\n      <td><div class=\"not-number\">RUHU</div></td>\n      <td><div class=\"not-number\">YTWA</div></td>\n    </tr>\n    <tr>\n      <th>duration_s</th>\n      <th>float64</th>\n      <th>330240</th>\n      <th>13760</th>\n      <th>13760</th>\n      <th>10242</th>\n      <th>6.323e+01</th>\n      <th>8.120e+01</th>\n      <td>0.216</td>\n      <td>20.1</td>\n      <td>39.9</td>\n      <td>75.8</td>\n      <td>2.35e+03</td>\n    </tr>\n    <tr>\n      <th>samples_mb</th>\n      <th>float64</th>\n      <th>330240</th>\n      <th>13760</th>\n      <th>13760</th>\n      <th>10242</th>\n      <th>2.659e+00</th>\n      <th>3.415e+00</th>\n      <td>0.00908</td>\n      <td>0.844</td>\n      <td>1.68</td>\n      <td>3.19</td>\n      <td>99</td>\n    </tr>\n    <tr>\n      <th>samples_n</th>\n      <th>int64</th>\n      <th>385280</th>\n      <th>13760</th>\n      <th>13760</th>\n      <th>10242</th>\n      <th>1.394e+06</th>\n      <th>1.790e+06</th>\n      <td>4763</td>\n      <td>442534</td>\n      <td>880704</td>\n      <td>1670976</td>\n      <td>51919071</td>\n    </tr>\n    <tr>\n      <th>basename</th>\n      <th>object</th>\n      <th>743040</th>\n      <th>13760</th>\n      <th>13760</th>\n      <th>1</th>\n      <th>NaN</th>\n      <th>NaN</th>\n      <td><div class=\"not-number\">audio</div></td>\n      <td><div class=\"not-number\">audio</div></td>\n      <td><div class=\"not-number\">audio</div></td>\n      <td><div class=\"not-number\">audio</div></td>\n      <td><div class=\"not-number\">audio</div></td>\n    </tr>\n    <tr>\n      <th>species_longhand</th>\n      <th>category</th>\n      <th>983026</th>\n      <th>13760</th>\n      <th>13760</th>\n      <th>168</th>\n      <th>NaN</th>\n      <th>NaN</th>\n      <td><div class=\"not-number\">Mountain Quail - MOUQ</div></td>\n      <td><div class=\"not-number\">Common Raven - CORA</div></td>\n      <td><div class=\"not-number\">Ruby-crowned Kinglet - RCKI</div></td>\n      <td><div class=\"not-number\">White-crowned Sparrow - WCSP</div></td>\n      <td><div class=\"not-number\">House Sparrow - HOSP</div></td>\n    </tr>\n    <tr>\n      <th>id</th>\n      <th>object</th>\n      <th>1015737</th>\n      <th>13760</th>\n      <th>13760</th>\n      <th>13760</th>\n      <th>NaN</th>\n      <th>NaN</th>\n      <td><div class=\"not-number\">xc/data/ACWO/109171/audio</div></td>\n      <td><div class=\"not-number\">xc/data/CATH/283694/audio</div></td>\n      <td><div class=\"not-number\">xc/data/HOSP/76898/audio</div></td>\n      <td><div class=\"not-number\">xc/data/RUHU/133576/audio</div></td>\n      <td><div class=\"not-number\">xc/data/YTWA/81367/audio</div></td>\n    </tr>\n    <tr>\n      <th>path</th>\n      <th>object</th>\n      <th>1070777</th>\n      <th>13760</th>\n      <th>13760</th>\n      <th>13760</th>\n      <th>NaN</th>\n      <th>NaN</th>\n      <td><div class=\"not-number\">xc/data/ACWO/109171/audio.mp3</div></td>\n      <td><div class=\"not-number\">xc/data/CATH/283694/audio.mp3</div></td>\n      <td><div class=\"not-number\">xc/data/HOSP/76898/audio.mp3</div></td>\n      <td><div class=\"not-number\">xc/data/RUHU/133576/audio.mp3</div></td>\n      <td><div class=\"not-number\">xc/data/YTWA/81367/audio.mp3</div></td>\n    </tr>\n    <tr>\n      <th>filesize_b</th>\n      <th>int64</th>\n      <th>385280</th>\n      <th>13760</th>\n      <th>13760</th>\n      <th>13695</th>\n      <th>1.286e+06</th>\n      <th>1.853e+06</th>\n      <td>10963</td>\n      <td>361742</td>\n      <td>760604</td>\n      <td>1533623</td>\n      <td>67233697</td>\n    </tr>\n  </tbody>\n</table>",
      "text/plain": "                                                                                                     min                            25%                           50%                            75%                           max\n                 dtype    sizeof  len   count nunique mean      std                                                                                                                                                               \ndataset          object   701760  13760 13760 1       NaN       NaN                                   xc                             xc                            xc                             xc                            xc\nspecies          category 729280  13760 13760 168     NaN       NaN                                 MOUQ                           CORA                          RCKI                           WCSP                          HOSP\nspecies_com_name category 886706  13760 13760 168     NaN       NaN                       Mountain Quail                   Common Raven          Ruby-crowned Kinglet          White-crowned Sparrow                 House Sparrow\nspecies_query    object   729280  13760 13760 168     NaN       NaN                                 ACWO                           CATH                          HOSP                           RUHU                          YTWA\nduration_s       float64  330240  13760 13760 10242   6.323e+01 8.120e+01                          0.216                           20.1                          39.9                           75.8                      2.35e+03\nsamples_mb       float64  330240  13760 13760 10242   2.659e+00 3.415e+00                        0.00908                          0.844                          1.68                           3.19                            99\nsamples_n        int64    385280  13760 13760 10242   1.394e+06 1.790e+06                           4763                         442534                        880704                        1670976                      51919071\nbasename         object   743040  13760 13760 1       NaN       NaN                                audio                          audio                         audio                          audio                         audio\nspecies_longhand category 983026  13760 13760 168     NaN       NaN                Mountain Quail - MOUQ            Common Raven - CORA   Ruby-crowned Kinglet - RCKI   White-crowned Sparrow - WCSP          House Sparrow - HOSP\nid               object   1015737 13760 13760 13760   NaN       NaN            xc/data/ACWO/109171/audio      xc/data/CATH/283694/audio      xc/data/HOSP/76898/audio      xc/data/RUHU/133576/audio      xc/data/YTWA/81367/audio\npath             object   1070777 13760 13760 13760   NaN       NaN        xc/data/ACWO/109171/audio.mp3  xc/data/CATH/283694/audio.mp3  xc/data/HOSP/76898/audio.mp3  xc/data/RUHU/133576/audio.mp3  xc/data/YTWA/81367/audio.mp3\nfilesize_b       int64    385280  13760 13760 13695   1.286e+06 1.853e+06                          10963                         361742                        760604                        1533623                      67233697"
     },
     "metadata": {},
     "output_type": "display_data",
     "transient": {}
    },
    {
     "data": {
      "text/html": "<table border=\"1\" class=\"dataframe\">\n  <thead>\n    <tr style=\"text-align: right;\">\n      <th></th>\n      <th>dataset</th>\n      <th>species</th>\n      <th>species_com_name</th>\n      <th>species_query</th>\n      <th>duration_s</th>\n      <th>samples_mb</th>\n      <th>samples_n</th>\n      <th>basename</th>\n      <th>species_longhand</th>\n      <th>id</th>\n      <th>path</th>\n      <th>filesize_b</th>\n    </tr>\n  </thead>\n  <tbody>\n    <tr>\n      <th>0</th>\n      <td><div class=\"not-number\">xc</div></td>\n      <td><div class=\"not-number\">MOUQ</div></td>\n      <td><div class=\"not-number\">Mountain Quail</div></td>\n      <td><div class=\"not-number\">MOUQ</div></td>\n      <td>147.0</td>\n      <td>6.180</td>\n      <td>3241728</td>\n      <td><div class=\"not-number\">audio</div></td>\n      <td><div class=\"not-number\">Mountain Quail - MOUQ</div></td>\n      <td><div class=\"not-number\">xc/data/MOUQ/72099/audio</div></td>\n      <td><div class=\"not-number\">xc/data/MOUQ/72099/audio.mp3</div></td>\n      <td>2357229</td>\n    </tr>\n    <tr>\n      <th>1</th>\n      <td><div class=\"not-number\">xc</div></td>\n      <td><div class=\"not-number\">MOUQ</div></td>\n      <td><div class=\"not-number\">Mountain Quail</div></td>\n      <td><div class=\"not-number\">MOUQ</div></td>\n      <td>70.9</td>\n      <td>2.980</td>\n      <td>1562669</td>\n      <td><div class=\"not-number\">audio</div></td>\n      <td><div class=\"not-number\">Mountain Quail - MOUQ</div></td>\n      <td><div class=\"not-number\">xc/data/MOUQ/239499/audio</div></td>\n      <td><div class=\"not-number\">xc/data/MOUQ/239499/audio.mp3</div></td>\n      <td>1140133</td>\n    </tr>\n    <tr>\n      <th>2</th>\n      <td><div class=\"not-number\">xc</div></td>\n      <td><div class=\"not-number\">MOUQ</div></td>\n      <td><div class=\"not-number\">Mountain Quail</div></td>\n      <td><div class=\"not-number\">MOUQ</div></td>\n      <td>15.6</td>\n      <td>0.656</td>\n      <td>343896</td>\n      <td><div class=\"not-number\">audio</div></td>\n      <td><div class=\"not-number\">Mountain Quail - MOUQ</div></td>\n      <td><div class=\"not-number\">xc/data/MOUQ/313537/audio</div></td>\n      <td><div class=\"not-number\">xc/data/MOUQ/313537/audio.mp3</div></td>\n      <td>299858</td>\n    </tr>\n    <tr>\n      <th>3</th>\n      <td><div class=\"not-number\">xc</div></td>\n      <td><div class=\"not-number\">MOUQ</div></td>\n      <td><div class=\"not-number\">Mountain Quail</div></td>\n      <td><div class=\"not-number\">MOUQ</div></td>\n      <td>48.2</td>\n      <td>2.030</td>\n      <td>1062163</td>\n      <td><div class=\"not-number\">audio</div></td>\n      <td><div class=\"not-number\">Mountain Quail - MOUQ</div></td>\n      <td><div class=\"not-number\">xc/data/MOUQ/329439/audio</div></td>\n      <td><div class=\"not-number\">xc/data/MOUQ/329439/audio.mp3</div></td>\n      <td>776854</td>\n    </tr>\n    <tr>\n      <th>4</th>\n      <td><div class=\"not-number\">xc</div></td>\n      <td><div class=\"not-number\">MOUQ</div></td>\n      <td><div class=\"not-number\">Mountain Quail</div></td>\n      <td><div class=\"not-number\">MOUQ</div></td>\n      <td>41.4</td>\n      <td>1.740</td>\n      <td>912867</td>\n      <td><div class=\"not-number\">audio</div></td>\n      <td><div class=\"not-number\">Mountain Quail - MOUQ</div></td>\n      <td><div class=\"not-number\">xc/data/MOUQ/329454/audio</div></td>\n      <td><div class=\"not-number\">xc/data/MOUQ/329454/audio.mp3</div></td>\n      <td>668764</td>\n    </tr>\n  </tbody>\n</table>",
      "text/plain": "  dataset species species_com_name species_query  duration_s  samples_mb  samples_n basename       species_longhand                         id                           path  filesize_b\n0      xc    MOUQ   Mountain Quail          MOUQ     147.017       6.183    3241728    audio  Mountain Quail - MOUQ   xc/data/MOUQ/72099/audio   xc/data/MOUQ/72099/audio.mp3     2357229\n1      xc    MOUQ   Mountain Quail          MOUQ      70.869       2.981    1562669    audio  Mountain Quail - MOUQ  xc/data/MOUQ/239499/audio  xc/data/MOUQ/239499/audio.mp3     1140133\n2      xc    MOUQ   Mountain Quail          MOUQ      15.596       0.656     343896    audio  Mountain Quail - MOUQ  xc/data/MOUQ/313537/audio  xc/data/MOUQ/313537/audio.mp3      299858\n3      xc    MOUQ   Mountain Quail          MOUQ      48.171       2.026    1062163    audio  Mountain Quail - MOUQ  xc/data/MOUQ/329439/audio  xc/data/MOUQ/329439/audio.mp3      776854\n4      xc    MOUQ   Mountain Quail          MOUQ      41.400       1.741     912867    audio  Mountain Quail - MOUQ  xc/data/MOUQ/329454/audio  xc/data/MOUQ/329454/audio.mp3      668764"
     },
     "metadata": {},
     "output_type": "display_data",
     "transient": {}
    }
   ],
   "source": [
    "load = Load()\n",
    "# with cache_control():  # FIXME Hangs without refresh=True [why?] -- which fortunately doesn't replay the slow .mp3->.wav step\n",
    "# with cache_control(refresh=True):\n",
    "with cache_control(refresh=False):\n",
    "    recs_all = load.recs(\n",
    "        datasets=['xc'],\n",
    "    )\n",
    "display(\n",
    "    df_summary(recs_all).T,\n",
    "    # df_summary(recs_all),\n",
    "    recs_all[:5],\n",
    ")"
   ]
  },
  {
   "cell_type": "code",
   "execution_count": null,
   "metadata": {
    "time": "1.317s"
   },
   "outputs": [
    {
     "data": {
      "text/html": "<table border=\"1\" class=\"dataframe\">\n  <thead>\n    <tr style=\"text-align: right;\">\n      <th></th>\n      <th></th>\n      <th></th>\n      <th></th>\n      <th></th>\n      <th></th>\n      <th></th>\n      <th></th>\n      <th>min</th>\n      <th>25%</th>\n      <th>50%</th>\n      <th>75%</th>\n      <th>max</th>\n    </tr>\n    <tr>\n      <th></th>\n      <th>dtype</th>\n      <th>sizeof</th>\n      <th>len</th>\n      <th>count</th>\n      <th>nunique</th>\n      <th>mean</th>\n      <th>std</th>\n      <th></th>\n      <th></th>\n      <th></th>\n      <th></th>\n      <th></th>\n    </tr>\n  </thead>\n  <tbody>\n    <tr>\n      <th>dataset</th>\n      <th>object</th>\n      <th>866880</th>\n      <th>13760</th>\n      <th>13760</th>\n      <th>1</th>\n      <th>NaN</th>\n      <th>NaN</th>\n      <td><div class=\"not-number\">xc</div></td>\n      <td><div class=\"not-number\">xc</div></td>\n      <td><div class=\"not-number\">xc</div></td>\n      <td><div class=\"not-number\">xc</div></td>\n      <td><div class=\"not-number\">xc</div></td>\n    </tr>\n    <tr>\n      <th>species</th>\n      <th>category</th>\n      <th>729280</th>\n      <th>13760</th>\n      <th>13760</th>\n      <th>168</th>\n      <th>NaN</th>\n      <th>NaN</th>\n      <td><div class=\"not-number\">MOUQ</div></td>\n      <td><div class=\"not-number\">CORA</div></td>\n      <td><div class=\"not-number\">RCKI</div></td>\n      <td><div class=\"not-number\">WCSP</div></td>\n      <td><div class=\"not-number\">HOSP</div></td>\n    </tr>\n    <tr>\n      <th>species_com_name</th>\n      <th>category</th>\n      <th>886706</th>\n      <th>13760</th>\n      <th>13760</th>\n      <th>168</th>\n      <th>NaN</th>\n      <th>NaN</th>\n      <td><div class=\"not-number\">Mountain Quail</div></td>\n      <td><div class=\"not-number\">Common Raven</div></td>\n      <td><div class=\"not-number\">Ruby-crowned Kinglet</div></td>\n      <td><div class=\"not-number\">White-crowned Sparrow</div></td>\n      <td><div class=\"not-number\">House Sparrow</div></td>\n    </tr>\n    <tr>\n      <th>species_query</th>\n      <th>object</th>\n      <th>729380</th>\n      <th>13760</th>\n      <th>13760</th>\n      <th>168</th>\n      <th>NaN</th>\n      <th>NaN</th>\n      <td><div class=\"not-number\">ACWO</div></td>\n      <td><div class=\"not-number\">CATH</div></td>\n      <td><div class=\"not-number\">HOSP</div></td>\n      <td><div class=\"not-number\">RUHU</div></td>\n      <td><div class=\"not-number\">YTWA</div></td>\n    </tr>\n    <tr>\n      <th>duration_s</th>\n      <th>float64</th>\n      <th>330240</th>\n      <th>13760</th>\n      <th>13760</th>\n      <th>10242</th>\n      <th>6.323e+01</th>\n      <th>8.120e+01</th>\n      <td>0.216</td>\n      <td>20.1</td>\n      <td>39.9</td>\n      <td>75.8</td>\n      <td>2.35e+03</td>\n    </tr>\n    <tr>\n      <th>samples_mb</th>\n      <th>float64</th>\n      <th>330240</th>\n      <th>13760</th>\n      <th>13760</th>\n      <th>10242</th>\n      <th>2.659e+00</th>\n      <th>3.415e+00</th>\n      <td>0.00908</td>\n      <td>0.844</td>\n      <td>1.68</td>\n      <td>3.19</td>\n      <td>99</td>\n    </tr>\n    <tr>\n      <th>samples_n</th>\n      <th>int64</th>\n      <th>385280</th>\n      <th>13760</th>\n      <th>13760</th>\n      <th>10242</th>\n      <th>1.394e+06</th>\n      <th>1.790e+06</th>\n      <td>4763</td>\n      <td>442534</td>\n      <td>880704</td>\n      <td>1670976</td>\n      <td>51919071</td>\n    </tr>\n    <tr>\n      <th>basename</th>\n      <th>object</th>\n      <th>743160</th>\n      <th>13760</th>\n      <th>13760</th>\n      <th>1</th>\n      <th>NaN</th>\n      <th>NaN</th>\n      <td><div class=\"not-number\">audio</div></td>\n      <td><div class=\"not-number\">audio</div></td>\n      <td><div class=\"not-number\">audio</div></td>\n      <td><div class=\"not-number\">audio</div></td>\n      <td><div class=\"not-number\">audio</div></td>\n    </tr>\n    <tr>\n      <th>species_longhand</th>\n      <th>category</th>\n      <th>983026</th>\n      <th>13760</th>\n      <th>13760</th>\n      <th>168</th>\n      <th>NaN</th>\n      <th>NaN</th>\n      <td><div class=\"not-number\">Mountain Quail - MOUQ</div></td>\n      <td><div class=\"not-number\">Common Raven - CORA</div></td>\n      <td><div class=\"not-number\">Ruby-crowned Kinglet - RCKI</div></td>\n      <td><div class=\"not-number\">White-crowned Sparrow - WCSP</div></td>\n      <td><div class=\"not-number\">House Sparrow - HOSP</div></td>\n    </tr>\n    <tr>\n      <th>id</th>\n      <th>object</th>\n      <th>1016249</th>\n      <th>13760</th>\n      <th>13760</th>\n      <th>13760</th>\n      <th>NaN</th>\n      <th>NaN</th>\n      <td><div class=\"not-number\">xc/data/ACWO/109171/audio</div></td>\n      <td><div class=\"not-number\">xc/data/CATH/283694/audio</div></td>\n      <td><div class=\"not-number\">xc/data/HOSP/76898/audio</div></td>\n      <td><div class=\"not-number\">xc/data/RUHU/133576/audio</div></td>\n      <td><div class=\"not-number\">xc/data/YTWA/81367/audio</div></td>\n    </tr>\n    <tr>\n      <th>path</th>\n      <th>object</th>\n      <th>1071369</th>\n      <th>13760</th>\n      <th>13760</th>\n      <th>13760</th>\n      <th>NaN</th>\n      <th>NaN</th>\n      <td><div class=\"not-number\">xc/data/ACWO/109171/audio.mp3</div></td>\n      <td><div class=\"not-number\">xc/data/CATH/283694/audio.mp3</div></td>\n      <td><div class=\"not-number\">xc/data/HOSP/76898/audio.mp3</div></td>\n      <td><div class=\"not-number\">xc/data/RUHU/133576/audio.mp3</div></td>\n      <td><div class=\"not-number\">xc/data/YTWA/81367/audio.mp3</div></td>\n    </tr>\n    <tr>\n      <th>filesize_b</th>\n      <th>int64</th>\n      <th>385280</th>\n      <th>13760</th>\n      <th>13760</th>\n      <th>13695</th>\n      <th>1.286e+06</th>\n      <th>1.853e+06</th>\n      <td>10963</td>\n      <td>361742</td>\n      <td>760604</td>\n      <td>1533623</td>\n      <td>67233697</td>\n    </tr>\n  </tbody>\n</table>",
      "text/plain": "                                                                                                     min                            25%                           50%                            75%                           max\n                 dtype    sizeof  len   count nunique mean      std                                                                                                                                                               \ndataset          object   866880  13760 13760 1       NaN       NaN                                   xc                             xc                            xc                             xc                            xc\nspecies          category 729280  13760 13760 168     NaN       NaN                                 MOUQ                           CORA                          RCKI                           WCSP                          HOSP\nspecies_com_name category 886706  13760 13760 168     NaN       NaN                       Mountain Quail                   Common Raven          Ruby-crowned Kinglet          White-crowned Sparrow                 House Sparrow\nspecies_query    object   729380  13760 13760 168     NaN       NaN                                 ACWO                           CATH                          HOSP                           RUHU                          YTWA\nduration_s       float64  330240  13760 13760 10242   6.323e+01 8.120e+01                          0.216                           20.1                          39.9                           75.8                      2.35e+03\nsamples_mb       float64  330240  13760 13760 10242   2.659e+00 3.415e+00                        0.00908                          0.844                          1.68                           3.19                            99\nsamples_n        int64    385280  13760 13760 10242   1.394e+06 1.790e+06                           4763                         442534                        880704                        1670976                      51919071\nbasename         object   743160  13760 13760 1       NaN       NaN                                audio                          audio                         audio                          audio                         audio\nspecies_longhand category 983026  13760 13760 168     NaN       NaN                Mountain Quail - MOUQ            Common Raven - CORA   Ruby-crowned Kinglet - RCKI   White-crowned Sparrow - WCSP          House Sparrow - HOSP\nid               object   1016249 13760 13760 13760   NaN       NaN            xc/data/ACWO/109171/audio      xc/data/CATH/283694/audio      xc/data/HOSP/76898/audio      xc/data/RUHU/133576/audio      xc/data/YTWA/81367/audio\npath             object   1071369 13760 13760 13760   NaN       NaN        xc/data/ACWO/109171/audio.mp3  xc/data/CATH/283694/audio.mp3  xc/data/HOSP/76898/audio.mp3  xc/data/RUHU/133576/audio.mp3  xc/data/YTWA/81367/audio.mp3\nfilesize_b       int64    385280  13760 13760 13695   1.286e+06 1.853e+06                          10963                         361742                        760604                        1533623                      67233697"
     },
     "metadata": {},
     "output_type": "display_data",
     "transient": {}
    },
    {
     "data": {
      "text/html": "<table border=\"1\" class=\"dataframe\">\n  <thead>\n    <tr style=\"text-align: right;\">\n      <th></th>\n      <th></th>\n      <th></th>\n      <th></th>\n      <th></th>\n      <th></th>\n      <th></th>\n      <th></th>\n      <th>min</th>\n      <th>25%</th>\n      <th>50%</th>\n      <th>75%</th>\n      <th>max</th>\n    </tr>\n    <tr>\n      <th></th>\n      <th>dtype</th>\n      <th>sizeof</th>\n      <th>len</th>\n      <th>count</th>\n      <th>nunique</th>\n      <th>mean</th>\n      <th>std</th>\n      <th></th>\n      <th></th>\n      <th></th>\n      <th></th>\n      <th></th>\n    </tr>\n  </thead>\n  <tbody>\n    <tr>\n      <th>dataset</th>\n      <th>object</th>\n      <th>204309</th>\n      <th>3243</th>\n      <th>3243</th>\n      <th>1</th>\n      <th>NaN</th>\n      <th>NaN</th>\n      <td><div class=\"not-number\">xc</div></td>\n      <td><div class=\"not-number\">xc</div></td>\n      <td><div class=\"not-number\">xc</div></td>\n      <td><div class=\"not-number\">xc</div></td>\n      <td><div class=\"not-number\">xc</div></td>\n    </tr>\n    <tr>\n      <th>species</th>\n      <th>category</th>\n      <th>171879</th>\n      <th>3243</th>\n      <th>3243</th>\n      <th>167</th>\n      <th>NaN</th>\n      <th>NaN</th>\n      <td><div class=\"not-number\">MOUQ</div></td>\n      <td><div class=\"not-number\">AMKE</div></td>\n      <td><div class=\"not-number\">HOWR</div></td>\n      <td><div class=\"not-number\">GCWA</div></td>\n      <td><div class=\"not-number\">HOSP</div></td>\n    </tr>\n    <tr>\n      <th>species_com_name</th>\n      <th>category</th>\n      <th>210978</th>\n      <th>3243</th>\n      <th>3243</th>\n      <th>167</th>\n      <th>NaN</th>\n      <th>NaN</th>\n      <td><div class=\"not-number\">Mountain Quail</div></td>\n      <td><div class=\"not-number\">American Kestrel</div></td>\n      <td><div class=\"not-number\">House Wren</div></td>\n      <td><div class=\"not-number\">Golden-cheeked Warbler</div></td>\n      <td><div class=\"not-number\">House Sparrow</div></td>\n    </tr>\n    <tr>\n      <th>species_query</th>\n      <th>object</th>\n      <th>171919</th>\n      <th>3243</th>\n      <th>3243</th>\n      <th>167</th>\n      <th>NaN</th>\n      <th>NaN</th>\n      <td><div class=\"not-number\">ACWO</div></td>\n      <td><div class=\"not-number\">CAQU</div></td>\n      <td><div class=\"not-number\">LASP</div></td>\n      <td><div class=\"not-number\">RTHA</div></td>\n      <td><div class=\"not-number\">YTWA</div></td>\n    </tr>\n    <tr>\n      <th>duration_s</th>\n      <th>float64</th>\n      <th>77832</th>\n      <th>3243</th>\n      <th>3243</th>\n      <th>2935</th>\n      <th>6.328e+01</th>\n      <th>8.494e+01</th>\n      <td>0.744</td>\n      <td>18.9</td>\n      <td>39.1</td>\n      <td>76.6</td>\n      <td>2.35e+03</td>\n    </tr>\n    <tr>\n      <th>samples_mb</th>\n      <th>float64</th>\n      <th>77832</th>\n      <th>3243</th>\n      <th>3243</th>\n      <th>2935</th>\n      <th>2.661e+00</th>\n      <th>3.572e+00</th>\n      <td>0.0313</td>\n      <td>0.797</td>\n      <td>1.64</td>\n      <td>3.22</td>\n      <td>99</td>\n    </tr>\n    <tr>\n      <th>samples_n</th>\n      <th>int64</th>\n      <th>90804</th>\n      <th>3243</th>\n      <th>3243</th>\n      <th>2935</th>\n      <th>1.395e+06</th>\n      <th>1.873e+06</th>\n      <td>16405</td>\n      <td>417600</td>\n      <td>861120</td>\n      <td>1688677</td>\n      <td>51919071</td>\n    </tr>\n    <tr>\n      <th>basename</th>\n      <th>object</th>\n      <th>175122</th>\n      <th>3243</th>\n      <th>3243</th>\n      <th>1</th>\n      <th>NaN</th>\n      <th>NaN</th>\n      <td><div class=\"not-number\">audio</div></td>\n      <td><div class=\"not-number\">audio</div></td>\n      <td><div class=\"not-number\">audio</div></td>\n      <td><div class=\"not-number\">audio</div></td>\n      <td><div class=\"not-number\">audio</div></td>\n    </tr>\n    <tr>\n      <th>species_longhand</th>\n      <th>category</th>\n      <th>233679</th>\n      <th>3243</th>\n      <th>3243</th>\n      <th>167</th>\n      <th>NaN</th>\n      <th>NaN</th>\n      <td><div class=\"not-number\">Mountain Quail - MOUQ</div></td>\n      <td><div class=\"not-number\">American Kestrel - AMKE</div></td>\n      <td><div class=\"not-number\">House Wren - HOWR</div></td>\n      <td><div class=\"not-number\">Golden-cheeked Warbler - GCWA</div></td>\n      <td><div class=\"not-number\">House Sparrow - HOSP</div></td>\n    </tr>\n    <tr>\n      <th>id</th>\n      <th>object</th>\n      <th>239461</th>\n      <th>3243</th>\n      <th>3243</th>\n      <th>3243</th>\n      <th>NaN</th>\n      <th>NaN</th>\n      <td><div class=\"not-number\">xc/data/ACWO/135964/audio</div></td>\n      <td><div class=\"not-number\">xc/data/CAQU/159805/audio</div></td>\n      <td><div class=\"not-number\">xc/data/LASP/133297/audio</div></td>\n      <td><div class=\"not-number\">xc/data/RTHA/321315/audio</div></td>\n      <td><div class=\"not-number\">xc/data/YTWA/71011/audio</div></td>\n    </tr>\n    <tr>\n      <th>path</th>\n      <th>object</th>\n      <th>252449</th>\n      <th>3243</th>\n      <th>3243</th>\n      <th>3243</th>\n      <th>NaN</th>\n      <th>NaN</th>\n      <td><div class=\"not-number\">xc/data/ACWO/135964/audio.mp3</div></td>\n      <td><div class=\"not-number\">xc/data/CAQU/159805/audio.mp3</div></td>\n      <td><div class=\"not-number\">xc/data/LASP/133297/audio.mp3</div></td>\n      <td><div class=\"not-number\">xc/data/RTHA/321315/audio.mp3</div></td>\n      <td><div class=\"not-number\">xc/data/YTWA/71011/audio.mp3</div></td>\n    </tr>\n    <tr>\n      <th>filesize_b</th>\n      <th>int64</th>\n      <th>90804</th>\n      <th>3243</th>\n      <th>3243</th>\n      <th>3239</th>\n      <th>1.249e+06</th>\n      <th>1.734e+06</th>\n      <td>15769</td>\n      <td>342370</td>\n      <td>713625</td>\n      <td>1527483</td>\n      <td>37681683</td>\n    </tr>\n  </tbody>\n</table>",
      "text/plain": "                                                                                                   min                            25%                            50%                            75%                           max\n                 dtype    sizeof len  count nunique mean      std                                                                                                                                                                \ndataset          object   204309 3243 3243  1       NaN       NaN                                   xc                             xc                             xc                             xc                            xc\nspecies          category 171879 3243 3243  167     NaN       NaN                                 MOUQ                           AMKE                           HOWR                           GCWA                          HOSP\nspecies_com_name category 210978 3243 3243  167     NaN       NaN                       Mountain Quail               American Kestrel                     House Wren         Golden-cheeked Warbler                 House Sparrow\nspecies_query    object   171919 3243 3243  167     NaN       NaN                                 ACWO                           CAQU                           LASP                           RTHA                          YTWA\nduration_s       float64  77832  3243 3243  2935    6.328e+01 8.494e+01                          0.744                           18.9                           39.1                           76.6                      2.35e+03\nsamples_mb       float64  77832  3243 3243  2935    2.661e+00 3.572e+00                         0.0313                          0.797                           1.64                           3.22                            99\nsamples_n        int64    90804  3243 3243  2935    1.395e+06 1.873e+06                          16405                         417600                         861120                        1688677                      51919071\nbasename         object   175122 3243 3243  1       NaN       NaN                                audio                          audio                          audio                          audio                         audio\nspecies_longhand category 233679 3243 3243  167     NaN       NaN                Mountain Quail - MOUQ        American Kestrel - AMKE              House Wren - HOWR  Golden-cheeked Warbler - GCWA          House Sparrow - HOSP\nid               object   239461 3243 3243  3243    NaN       NaN            xc/data/ACWO/135964/audio      xc/data/CAQU/159805/audio      xc/data/LASP/133297/audio      xc/data/RTHA/321315/audio      xc/data/YTWA/71011/audio\npath             object   252449 3243 3243  3243    NaN       NaN        xc/data/ACWO/135964/audio.mp3  xc/data/CAQU/159805/audio.mp3  xc/data/LASP/133297/audio.mp3  xc/data/RTHA/321315/audio.mp3  xc/data/YTWA/71011/audio.mp3\nfilesize_b       int64    90804  3243 3243  3239    1.249e+06 1.734e+06                          15769                         342370                         713625                        1527483                      37681683"
     },
     "metadata": {},
     "output_type": "display_data",
     "transient": {}
    }
   ],
   "source": [
    "# Subset the data\n",
    "#   - Runtime: reduce data volume\n",
    "#   - Class imbalance: clip all classes at the same N (or smaller)\n",
    "# class_size = np.inf  # recs[14k]  @ species[168]\n",
    "# class_size = 200     # recs[12k]  @ species[168]\n",
    "# class_size = 100     # recs[10k]  @ species[168]\n",
    "# class_size = 50      # recs[7.0k] @ species[168]\n",
    "class_size = 20      # recs[3.2k] @ species[168]\n",
    "# class_size = 10      # recs[1.7k] @ species[168]\n",
    "# class_size = 5       # recs[.84k] @ species[168]\n",
    "# class_size = 2       # recs[.34k] @ species[168]\n",
    "recs = (recs_all\n",
    "    .groupby('species')\n",
    "    .apply(lambda g: g.sample(n=min(len(g), class_size), random_state=0))\n",
    "    # Drop classes with <2 instances, else StratifiedShuffleSplit complains (e.g. 'TUVU')\n",
    "    [lambda df: df.species.isin(df.species.value_counts()[lambda s: s >= 2].index)]\n",
    ")\n",
    "display(\n",
    "    df_summary(recs_all).T,\n",
    "    df_summary(recs).T,\n",
    ")"
   ]
  },
  {
   "cell_type": "code",
   "execution_count": null,
   "metadata": {},
   "outputs": [
    {
     "name": "stdout",
     "output_type": "stream",
     "text": "\n[21:14:27.224] DEBUG  Projection.load\n  path: /Users/danb/hack/bubo/data/models/projection/peterson-v0-26bae1c.pkl\n"
    }
   ],
   "source": [
    "# Load a saved projection model\n",
    "projection = Projection.load('peterson-v0-26bae1c', features=Features(load=load))"
   ]
  },
  {
   "cell_type": "code",
   "execution_count": null,
   "metadata": {},
   "outputs": [
    {
     "name": "stdout",
     "output_type": "stream",
     "text": "•"
    }
   ],
   "source": [
    "# Add .feat\n",
    "recs = projection.transform(recs)"
   ]
  },
  {
   "cell_type": "code",
   "execution_count": null,
   "metadata": {
    "time": "4.002s"
   },
   "outputs": [
    {
     "name": "stdout",
     "output_type": "stream",
     "text": "Fitting 1 folds for each of 1 candidates, totalling 1 fits\n"
    },
    {
     "name": "stdout",
     "output_type": "stream",
     "text": "\n"
    },
    {
     "name": "stdout",
     "output_type": "stream",
     "text": "[21:14:27.996] INFO   _fit_and_score... split_i[0], estimator[Search(classifier='DUMMY_CLASSIFIER')]\n"
    },
    {
     "name": "stdout",
     "output_type": "stream",
     "text": "[21:14:30.254] INFO   _fit_and_score. split_i[0], estimator[Search(classifier='cls: rf, random_state: 0, criterion: gini, n_estimators: 1')]\n"
    },
    {
     "name": "stderr",
     "output_type": "stream",
     "text": "[Parallel(n_jobs=16)]: Done   1 out of   1 | elapsed:    2.5s finished\n"
    },
    {
     "data": {
      "text/plain": "         14888 function calls (14579 primitive calls) in 3.804 seconds\n\n   Ordered by: internal time\n   List reduced from 670 to 5 due to restriction <5>\n\n   ncalls  tottime  percall  cumtime  percall filename:lineno(function)\n      238    2.528    0.011    2.528    0.011 {method 'acquire' of '_thread.lock' objects}\n        1    0.666    0.666    0.666    0.666 {method 'build' of 'sklearn.tree._tree.DepthFirstTreeBuilder' objects}\n        1    0.358    0.358    0.358    0.358 {built-in method _pickle.load}\n        2    0.075    0.038    0.075    0.038 {method 'acquire' of '_multiprocessing.SemLock' objects}\n        1    0.063    0.063    0.063    0.063 {built-in method gc.collect}"
     },
     "metadata": {},
     "output_type": "display_data",
     "transient": {}
    },
    {
     "name": "stdout",
     "output_type": "stream",
     "text": "    Ordered by: internal time\n   List reduced from 670 to 5 due to restriction <5>\n\nFunction                                                                was called by...\n                                                                            ncalls  tottime  cumtime\n{method 'acquire' of '_thread.lock' objects}                            <-       1    0.000    0.000  tempfile.py:289(gettempdir)\n                                                                                33    0.000    0.000  threading.py:251(_acquire_restore)\n                                                                                34    0.000    0.000  threading.py:254(_is_owned)\n                                                                                66    2.528    2.528  threading.py:263(wait)\n                                                                               104    0.000    0.000  threading.py:1062(_wait_for_tstate_lock)\n{method 'build' of 'sklearn.tree._tree.DepthFirstTreeBuilder' objects}  <-       1    0.666    0.666  tree.py:111(fit)\n{built-in method _pickle.load}                                          <-       1    0.358    0.358  util.py:98(g)\n{method 'acquire' of '_multiprocessing.SemLock' objects}                <-       1    0.000    0.000  pool.py:383(put)\n                                                                                 1    0.075    0.075  pool.py:552(_help_stuff_finish)\n{built-in method gc.collect}                                            <-       1    0.063    0.063  _parallel_backends.py:296(configure)\n\n\n"
    }
   ],
   "source": [
    "# GridSearchCV many models / model params\n",
    "param_grid = dict(\n",
    "    classifier=[\n",
    "        'cls: rf, random_state: 0, criterion: gini, n_estimators: 1', # 2.3s fit -> 3.7s cell\n",
    "        # 'cls: rf, random_state: 0, criterion: gini, n_estimators: 10',  # 6.8s fit -> 14s cell\n",
    "        # 'cls: rf, random_state: 0, criterion: gini, n_estimators: 100',  # 51s fit -> 112s cell\n",
    "        # 'cls: rf, random_state: 0, criterion: gini, n_estimators: 1000', # ?s fit -> ?s cell\n",
    "    ]\n",
    ")\n",
    "\n",
    "cv = GridSearchCVCached(\n",
    "    estimator=Search(projection=projection, classifier='DUMMY_CLASSIFIER'),\n",
    "    param_grid=param_grid,\n",
    "    # NOTE line_profiler\n",
    "    #   - The outcome of doing the line profiling was discovering that refit=True was on by default :/\n",
    "    # refit=False,  # Don't spend time fitting cv.best_estimator_ at the end (default: True)\n",
    "    # cv=3,  # [SP14] uses two-/three-fold CV [why?]\n",
    "    # Stratified ensures that all classes have >0 instances in each split, which is statistically maybe fishy but avoids\n",
    "    # breaking various code that merges the split results back together and assumes all splits' classes are the same\n",
    "    cv=sk.model_selection.StratifiedShuffleSplit(\n",
    "        n_splits=1,  # [for ~1/2 hit/miss: ~9m, ~10g disk cache]\n",
    "        # n_splits=2,\n",
    "        # n_splits=5,\n",
    "        # n_splits=10,\n",
    "        # n_splits=20,  # Known good [>51m uncached, >25g disk cache]\n",
    "        # n_splits=100,  # [?m runtime, ?g disk cache]\n",
    "        test_size=.2,\n",
    "        random_state=0,\n",
    "    ),\n",
    "    return_train_score=True,\n",
    "    extra_metrics=dict(\n",
    "        # [How to specify SearchEvals here without creating caching headaches?]\n",
    "        #   - e.g. defs don't bust cache on code edit\n",
    "        #   - And avoid thrashing cache every time we refactor SearchEvals\n",
    "        test_i='i_test',\n",
    "        test_y='y_test',\n",
    "        test_classes='estimator.classes_',\n",
    "        test_predict_proba='estimator.classifier_.predict_proba(X_test)',\n",
    "    ),\n",
    "    # return_estimator=True,  # Verrrry heavy, use extra_metrics instead\n",
    "    # verbose=100,\n",
    "    # verbose=10,  # O(models * n_splits) lines of outputs\n",
    "    verbose=1,  # O(1) lines of outputs\n",
    "    # n_jobs=1,  # For %prun\n",
    "    # n_jobs=8,\n",
    "    n_jobs=16,\n",
    ")\n",
    "with contextlib.ExitStack() as stack:\n",
    "    # stack.enter_context(cache_control(refresh=True))\n",
    "    stack.enter_context(cache_control(enabled=False))\n",
    "    # stack.enter_context(joblib.parallel_backend('threading'))  # Default: 'multiprocessing'\n",
    "    # stack.enter_context(joblib.parallel_backend('sequential'))  # For %prun [FIXME Has no effect; why?]\n",
    "    stack.enter_context(log.context(level='info'))\n",
    "    X, y = Search.Xy(recs)\n",
    "\n",
    "    # cv.fit(X, y)\n",
    "\n",
    "    # NOTE See callers with .print_callers!\n",
    "    #   - But it only shows the first caller by default...\n",
    "    #   - But all callers are available if you traverse .stats!\n",
    "    #       - e.g. https://github.com/python/cpython/blob/3.6/Lib/pstats.py#L373\n",
    "    #   - But _line numbers_ aren't in .stats at all -- you have to use e.g. line_profiler to see that\n",
    "    #   - Also, here are more off-the-shelf things to try out -- e.g. snakeviz to visualize prun.stats!\n",
    "    #       - http://codedelish.com/resources/Python/profiling.html\n",
    "    prun = %prun -r -l5 cv.fit(X, y)\n",
    "    prun.print_callers(5)"
   ]
  }
 ],
 "metadata": {
  "kernelspec": {
   "display_name": "bubo-features (PYTHONSTARTUP)",
   "language": "python",
   "name": "bubo-features (PYTHONSTARTUP)"
  }
 },
 "nbformat": 4,
 "nbformat_minor": 2
}
