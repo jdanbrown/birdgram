{
 "cells": [
  {
   "cell_type": "code",
   "execution_count": null,
   "metadata": {
    "time": "1.577s"
   },
   "outputs": [],
   "source": [
    "from notebooks import *\n",
    "print_sys_info()"
   ]
  },
  {
   "cell_type": "code",
   "execution_count": null,
   "metadata": {},
   "outputs": [],
   "source": [
    "# Load model\n",
    "#   - Chosen via notebooks/20180629_eval.ipynb (local runs) -> Train/test scores\n",
    "search = Search.load_v0(\n",
    "\n",
    "    # 'eval-na-dan170',\n",
    "    #     'split_i=0,train=2693,test=674,classes=170', 'n_species=170,n_recs=1.0',\n",
    "    #         'cls=logreg_ovr,solver=liblinear,C=0.1,class_weight=balanced',  # Not std\n",
    "    #         'cls=std-sgdlog,alpha=0.1,class_weight=balanced',  # std [Re-run locally to get an n_species=170]\n",
    "\n",
    "    'comp-l1-l2-na-ca',\n",
    "\n",
    "        # 'split_i=0,train=28164,test=7042,classes=331', 'n_species=9,n_recs=1.0',\n",
    "        #     'cls=logreg_ovr,solver=liblinear,C=1,class_weight=balanced',\n",
    "        #     'cls=logreg_ovr_l1,solver=liblinear,C=1,class_weight=balanced',\n",
    "        #     'cls=ovr-logreg_ovr,solver=liblinear,C=1,class_weight=balanced',\n",
    "        #     'cls=ovr-logreg_ovr_l1,solver=liblinear,C=1,class_weight=balanced',\n",
    "\n",
    "        # 'split_i=0,train=28164,test=7042,classes=331', 'n_species=82,n_recs=1.0',\n",
    "        #     'cls=logreg_ovr,solver=liblinear,C=0.1,class_weight=balanced',\n",
    "        #     'cls=logreg_ovr_l1,solver=liblinear,C=0.3,class_weight=balanced',\n",
    "        #     'cls=ovr-logreg_ovr,solver=liblinear,C=0.01,class_weight=balanced',\n",
    "        #     'cls=ovr-logreg_ovr_l1,solver=liblinear,C=0.1,class_weight=balanced',\n",
    "\n",
    "        # 'split_i=0,train=28164,test=7042,classes=331', 'n_species=331,n_recs=1.0',\n",
    "        #     'cls=ovr-logreg_ovr,solver=liblinear,C=0.01,class_weight=balanced',\n",
    "        #     'cls=ovr-logreg_ovr_l1,solver=liblinear,C=0.001,class_weight=balanced',\n",
    "\n",
    "        'split_i=0,train=34875,test=331,classes=331', 'n_species=331,n_recs=1.0',\n",
    "            'cls=ovr-logreg_ovr,solver=liblinear,C=0.001,class_weight=balanced',\n",
    "\n",
    ").fix_missing_projection_skm(\n",
    "    'peterson-v0-26bae1c',\n",
    ")\n",
    "projection = search.projection\n",
    "features = projection.features\n",
    "load = features.load\n",
    "display(\n",
    "    search,\n",
    "    search.classifier_,\n",
    "    len(search.classifier_.classes_),\n",
    ")"
   ]
  },
  {
   "cell_type": "markdown",
   "metadata": {},
   "source": [
    "# Load user recs"
   ]
  },
  {
   "cell_type": "code",
   "execution_count": null,
   "metadata": {
    "time": "4.082s"
   },
   "outputs": [],
   "source": [
    "user_recs = load_app_recs(projection,\n",
    "    # n=10,\n",
    ")\n",
    "display(\n",
    "    df_summary(user_recs).T,\n",
    "    df_value_counts(user_recs, dropna=False),\n",
    "    user_recs[:10],\n",
    ")"
   ]
  },
  {
   "cell_type": "markdown",
   "metadata": {},
   "source": [
    "# Load xc recs"
   ]
  },
  {
   "cell_type": "code",
   "execution_count": null,
   "metadata": {
    "time": "23.581s"
   },
   "outputs": [],
   "source": [
    "# Load xc_recs\n",
    "#   1. countries: Filter recs to these countries\n",
    "#   2. species: Filter recs to these species\n",
    "#   3. recs_at_least: Filter species to those with at least this many recs\n",
    "#   4. num_species: Sample this many of the species\n",
    "#   5. num_recs: Sample this many recs per species\n",
    "inf = np.inf\n",
    "# countries_k, com_names_k = 'na', 'us'      # 9.4k/400k -> 1.1k/60k -> 774/53k\n",
    "# countries_k, com_names_k = 'na', 'ca'      # 9.4k/400k -> 1.1k/60k -> 334/35k\n",
    "# countries_k, com_names_k = 'na', 'dan170'  # 9.4k/400k -> 1.1k/60k -> 170/3.4k\n",
    "# countries_k, com_names_k = 'na', 'dan4'    # 9.4k/400k -> 1.1k/60k ->   4/2.2k (BEWR, HOWR, SOSP, SPTO)\n",
    "countries_k, com_names_k = 'na', 'dan5'    # 9.4k/400k -> 1.1k/60k ->   5/2.3k (BEWR, HOWR, SOSP, SPTO, PSFL)\n",
    "recs_at_least, num_species, num_recs =   0, inf, inf  # US[334/35k ->1.1k/60k -> 774/53k -> 774/53k   -> 743/53k]    # All US\n",
    "# recs_at_least, num_species, num_recs = 100, 100, 100  # CA[334/35k -> 127/25k -> 100/21k -> 100/10k   -> 100/10k]\n",
    "# recs_at_least, num_species, num_recs =  50, 100, 100  # CA[334/35k -> 224/32k -> 100/16k -> 100/ 9.0k -> 100/ 9.0k]\n",
    "# recs_at_least, num_species, num_recs =   0, 100, 100  # CA[334/35k -> 334/35k -> 100/12k -> 100/ 6.8k ->  99/ 6.8k]\n",
    "# recs_at_least, num_species, num_recs =   0, 168, 100  # CA[334/34k -> 334/34k -> 168/18k -> 168/11k   -> 167/11k]\n",
    "# recs_at_least, num_species, num_recs =   0, 168,  20  # CA[334/34k -> 334/35k -> 168/18k -> 168/ 3.2k -> 167/ 3.2k]\n",
    "# recs_at_least, num_species, num_recs =  20, 168,  20  # CA[334/35k -> 296/35k -> 168/20k -> 168/ 3.4k -> 168/ 3.4k]\n",
    "# recs_at_least, num_species, num_recs =   0, inf,  20  # dan170 for app_brainstorm_1\n",
    "# recs_at_least, num_species, num_recs =  20, 50,    5  # Faster dev\n",
    "xc_recs, recs_stats = load_xc_recs(projection, countries_k, com_names_k, recs_at_least, num_species, num_recs)"
   ]
  },
  {
   "cell_type": "markdown",
   "metadata": {},
   "source": [
    "# Precompute thumb/micro"
   ]
  },
  {
   "cell_type": "code",
   "execution_count": null,
   "metadata": {
    "time": "5.652s"
   },
   "outputs": [],
   "source": [
    "# Add df_cells: thumb*, micro*\n",
    "spto = (xc_recs\n",
    "    .query(\"species == 'SPTO'\")\n",
    "    # [:10]  # Faster dev\n",
    "    .pipe(df_assign_first,\n",
    "        # Naming: don't clobber existing cols, else e.g. downstream can't re-thumbnail from .audio\n",
    "        thumb      = df_cell_spectros(plot_thumb.many, features, thumb_s=2, scale=dict(h=13)),\n",
    "        thumb2     = df_cell_spectros(plot_thumb.many, features, thumb_s=2, scale=dict(h=26)),\n",
    "        thumb_full = df_cell_spectros(plot_thumb.many, features, thumb_s=2),\n",
    "        micro      = df_cell_spectros(plot_spectro_micro.many, features, wrap_s=26, scale=dict(h=13)),\n",
    "        micro2     = df_cell_spectros(plot_spectro_micro.many, features, wrap_s=13, scale=dict(h=26)),\n",
    "        micro_full = df_cell_spectros(plot_spectro_wrap.many, features),\n",
    "    )\n",
    ")\n",
    "spto_a = (spto\n",
    "    .query(\"quality == 'A'\")\n",
    ")"
   ]
  },
  {
   "cell_type": "markdown",
   "metadata": {},
   "source": [
    "# Util"
   ]
  },
  {
   "cell_type": "markdown",
   "metadata": {},
   "source": [
    "# TODO Did I forget pca for all of app_ideas_5!? (And it worked decently well?)\n",
    "- dist(feat) -> dist(probs) -> dist(pca(2, probs))"
   ]
  },
  {
   "cell_type": "markdown",
   "metadata": {},
   "source": [
    "## TODO How do we grok all of these?\n",
    "- Many result lists per query_rec (below) X many query_recs (notebooks/app_ideas_5, on left)...\n",
    "- (Maybe overall simpler to defer this up-front eval and let me/Alex select on the fly in the app...? Or maybe not?)"
   ]
  },
  {
   "cell_type": "markdown",
   "metadata": {},
   "source": [
    "## TODO Think harder: pca(spto_a) vs. pca(spto) vs. pca(xc_recs)?"
   ]
  },
  {
   "cell_type": "code",
   "execution_count": null,
   "metadata": {},
   "outputs": [],
   "source": [
    "# Plot: spto_a: .4 var ~ 9 components\n",
    "# plot_pca_var_explained(pca_spto_a.pca_var_, max_var_explained=.5)"
   ]
  },
  {
   "cell_type": "code",
   "execution_count": null,
   "metadata": {},
   "outputs": [],
   "source": [
    "\n",
    "def user_query_rec(\n",
    "    pca: recs_pca_norm,\n",
    "    user_rec: Recording,\n",
    "    show_rec=True,\n",
    "    show_probs=10,\n",
    "    search=search,\n",
    "    show_spectro=True,\n",
    "    **kwargs,\n",
    ") -> Recording:\n",
    "    if show_rec: print(rec_str_line(user_rec))\n",
    "    if show_probs: display(rec_probs(user_rec, search)[:show_probs])\n",
    "    if show_spectro: display(plot_spectro_micro(user_rec, features, **kwargs, show=False))  # display(show=False) for audio\n",
    "    return pca.transform_rec(user_rec)\n",
    "\n",
    "def table_recs(\n",
    "    recs,\n",
    "    limit=None,\n",
    "    more_cols=[],\n",
    "    cols=xc_eda_cols,\n",
    "    decorate=True,\n",
    "    dist_bar_size=30,\n",
    "    handtype_cmap=mpl_cmap_concat('tab10', 'tab20'),\n",
    "    color_stack=False,\n",
    "    **kwargs_recs_decorate,\n",
    "):\n",
    "    if decorate:\n",
    "        recs = recs_decorate(recs, **kwargs_recs_decorate)\n",
    "    return (recs\n",
    "        .join(how='left', other=load_xc_handtype())\n",
    "        .pipe(df_col_map, handtype=lambda xs: [x[:3] for x in xs])\n",
    "        .pipe(df_col_color_d, handtype=handtype_cmap, _stack=color_stack)\n",
    "        [:limit]\n",
    "        .pipe(lambda df: df if 'dist' not in df.columns else df_assign_first(df,\n",
    "            dist_bar=lambda df: df.dist.map(lambda dist: text_bar(dist, max=df.dist.max(), norm=dist_bar_size, side='right')),\n",
    "        ))\n",
    "        .pipe(lambda df: df[[\n",
    "            c\n",
    "            for c in [\n",
    "                'dist_bar', 'dist', 'handtype',\n",
    "                'thumb', 'micro',\n",
    "                *more_cols,\n",
    "                *cols,\n",
    "            ]\n",
    "            if c in df.columns\n",
    "        ]])\n",
    "    )\n",
    "\n",
    "@dataclass\n",
    "class proba_pca_slice:\n",
    "    components: Union[int, float]\n",
    "    def __call__(self, df):\n",
    "        proba_pca_var = df.proba_pca_var.iloc[0]\n",
    "        return [\n",
    "            row.proba_pca[:n]\n",
    "            for row in df_rows(df)\n",
    "            for n in [\n",
    "                len(row.proba_pca_var) if self.components is None else\n",
    "                self.components if isinstance(self.components, int) else\n",
    "                (row.proba_pca_var <= self.components).sum()\n",
    "            ]\n",
    "        ]\n",
    "\n",
    "def grid_recs(\n",
    "    search_recs,\n",
    "    query_rec: QueryRec,\n",
    "    pca_components,\n",
    "    faster_dev=False,\n",
    "    limit=35,\n",
    "    decorate=True,\n",
    "    dist_bar_size=10,\n",
    "    **kwargs,\n",
    ") -> pd.DataFrame:\n",
    "    if decorate:\n",
    "        search_recs = sub_kwargs(recs_decorate, **kwargs)(search_recs)\n",
    "    bys = [\n",
    "        (lambda x: 'f', Search.X),\n",
    "        (lambda x: 'p', search.species_proba),\n",
    "        *[(lambda x: x.components, proba_pca_slice(c)) for c in pca_components],\n",
    "    ]\n",
    "    if faster_dev:\n",
    "        limit = 10\n",
    "        bys = bys[:3]\n",
    "    return DF(dict(flatten(\n",
    "        [\n",
    "            ('%s/i' % by_desc, df.xc_id),\n",
    "            ('%s/d' % by_desc, df_map_rows(df, lambda row: df_cell_stack([row.dist_bar, row.dist]))),\n",
    "            ('%s/h' % by_desc, df.handtype),\n",
    "            *([('%s/t' % by_desc, df.thumb)] if 'micro_s' not in kwargs or 'thumb_s' in kwargs else []),\n",
    "            *([('%s/m' % by_desc, df.micro)] if 'micro_s' in kwargs else []),\n",
    "        ]\n",
    "        for by_desc_f, by in bys\n",
    "        for by_desc in [by_desc_f(by)]\n",
    "        for df in [\n",
    "            sub_kwargs(table_recs, **kwargs)(\n",
    "                recs=rec_neighbors_by(search_recs=search_recs, query_rec=query_rec, by=by),\n",
    "                limit=limit, dist_bar_size=dist_bar_size,\n",
    "                color_stack=True,\n",
    "                decorate=False,  # Already done above (once, instead of len(bys) times here)\n",
    "            )\n",
    "            .sort_values('dist')\n",
    "            .reset_index()\n",
    "        ]\n",
    "    )))\n",
    "\n",
    "def recs_decorate(\n",
    "    recs,\n",
    "    size='big',  # 'big' | 'small'\n",
    "    thumb_s=2,\n",
    "    micro_s=13,\n",
    "):\n",
    "    cols = dict()\n",
    "    if size == 'big':\n",
    "        cols.update(dict(\n",
    "            thumb=df_cell_spectros(plot_thumb.many, features, thumb_s=thumb_s, scale=dict(h=26)),\n",
    "            micro=df_cell_spectros(plot_spectro_micro.many, features, wrap_s=micro_s, scale=dict(h=26)),\n",
    "        ))\n",
    "    else:\n",
    "        cols.update(dict(\n",
    "            thumb=df_cell_spectros(plot_thumb.many, features, thumb_s=thumb_s, scale=dict(h=13)),\n",
    "            micro=df_cell_spectros(plot_spectro_micro.many, features, wrap_s=micro_s*2, scale=dict(h=13)),  # HACK micro_s*2\n",
    "        ))\n",
    "    return df_assign_first(recs, **cols)"
   ]
  },
  {
   "cell_type": "code",
   "execution_count": null,
   "metadata": {
    "time": "1.771s"
   },
   "outputs": [],
   "source": [
    "pca_spto_a = recs_pca_norm(by=search.species_proba, out_col='proba_pca').fit_recs(spto_a)\n",
    "# limit = 20; pca_components = [1., .9, .8, .7, .6, .5, .4, 8, 7, 6, 5, 4, 3, 2, 1]\n",
    "# limit = 10; pca_components = [1., .5, 1]\n",
    "limit = 5; pca_components = [1.]"
   ]
  },
  {
   "cell_type": "code",
   "execution_count": null,
   "metadata": {},
   "outputs": [],
   "source": [
    "grid_recs(\n",
    "    query_rec=user_query_rec(pca_spto_a,\n",
    "        user_recs.loc['20180429-dcf3'].pipe(projection.slice_spectro, 16.84, 17.92),  # SPTO spotted towhee song- kings rd\n",
    "        show_probs=12,\n",
    "    ),\n",
    "    search_recs=pca_spto_a.transform_recs(spto_a),\n",
    "    limit=limit, pca_components=pca_components,\n",
    "    thumb_s=3,\n",
    "    # micro_s=10,\n",
    ")"
   ]
  },
  {
   "cell_type": "code",
   "execution_count": null,
   "metadata": {},
   "outputs": [],
   "source": [
    "grid_recs(\n",
    "    query_rec=user_query_rec(pca_spto_a,\n",
    "        user_recs.loc['20160923-0ac1'].pipe(projection.slice_spectro, 12, 13.5),  # Turkey purring\n",
    "        show_probs=12,\n",
    "    ),\n",
    "    search_recs=pca_spto_a.transform_recs(spto_a),\n",
    "    limit=limit, pca_components=pca_components,\n",
    "    thumb_s=3,\n",
    "    # micro_s=10,\n",
    ")"
   ]
  },
  {
   "cell_type": "code",
   "execution_count": null,
   "metadata": {
    "time": "3.541s"
   },
   "outputs": [],
   "source": [
    "grid_recs(\n",
    "    query_rec=312024,  # coastal\n",
    "    search_recs=pca_spto_a.transform_recs(spto_a),\n",
    "    limit=limit, pca_components=pca_components,\n",
    "    thumb_s=3,\n",
    "    # micro_s=10,\n",
    ")"
   ]
  },
  {
   "cell_type": "code",
   "execution_count": null,
   "metadata": {
    "time": "3.529s"
   },
   "outputs": [],
   "source": [
    "grid_recs(\n",
    "    query_rec=127014,  # wheeze (noisy)\n",
    "    search_recs=pca_spto_a.transform_recs(spto_a),\n",
    "    limit=limit, pca_components=pca_components,\n",
    "    thumb_s=3,\n",
    "    # micro_s=10,\n",
    ")"
   ]
  },
  {
   "cell_type": "code",
   "execution_count": null,
   "metadata": {
    "time": "3.47s"
   },
   "outputs": [],
   "source": [
    "grid_recs(\n",
    "    query_rec=159823,  # wheeze\n",
    "    search_recs=pca_spto_a.transform_recs(spto_a),\n",
    "    limit=limit, pca_components=pca_components,\n",
    "    thumb_s=3,\n",
    "    # micro_s=10,\n",
    ")"
   ]
  },
  {
   "cell_type": "code",
   "execution_count": null,
   "metadata": {
    "time": "3.455s"
   },
   "outputs": [],
   "source": [
    "grid_recs(\n",
    "    query_rec=182566,  # wheeze\n",
    "    search_recs=pca_spto_a.transform_recs(spto_a),\n",
    "    limit=limit, pca_components=pca_components,\n",
    "    thumb_s=3,\n",
    "    # micro_s=10,\n",
    ")"
   ]
  },
  {
   "cell_type": "code",
   "execution_count": null,
   "metadata": {
    "time": "3.425s"
   },
   "outputs": [],
   "source": [
    "grid_recs(\n",
    "    query_rec=168046,  # mx (not many mx's)\n",
    "    search_recs=pca_spto_a.transform_recs(spto_a),\n",
    "    limit=limit, pca_components=pca_components,\n",
    "    thumb_s=3,\n",
    "    # micro_s=10,\n",
    ")"
   ]
  },
  {
   "cell_type": "code",
   "execution_count": null,
   "metadata": {
    "time": "3.75s"
   },
   "outputs": [],
   "source": [
    "grid_recs(\n",
    "    query_rec=274874,  # interior\n",
    "    search_recs=pca_spto_a.transform_recs(spto_a),\n",
    "    limit=limit, pca_components=pca_components,\n",
    "    thumb_s=3,\n",
    "    # micro_s=10,\n",
    ")"
   ]
  },
  {
   "cell_type": "code",
   "execution_count": null,
   "metadata": {
    "time": "3.612s"
   },
   "outputs": [],
   "source": [
    "grid_recs(\n",
    "    query_rec=126698,  # coastal (weird)\n",
    "    search_recs=pca_spto_a.transform_recs(spto_a),\n",
    "    limit=limit, pca_components=pca_components,\n",
    "    thumb_s=3,\n",
    "    # micro_s=10,\n",
    ")"
   ]
  },
  {
   "cell_type": "code",
   "execution_count": null,
   "metadata": {},
   "outputs": [],
   "source": []
  }
 ],
 "metadata": {
  "kernelspec": {
   "display_name": "python",
   "language": "python",
   "name": "python"
  }
 },
 "nbformat": 4,
 "nbformat_minor": 2
}
