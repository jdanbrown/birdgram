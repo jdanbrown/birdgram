%%metadata
# atom: kernel=bubo-features (PYTHONSTARTUP)
ipynb_hash: 46761e8a57bedda5f573cc3c9e9db4e34837df22
kernelspec:
  display_name: bubo-features (PYTHONSTARTUP)
  language: python
  name: bubo-features (PYTHONSTARTUP)

%%
import glob
from features import *
from util import *

figsize('inline_short');

%%
glob.glob(f'{data_dir}/nips4b/*')

%%
glob.glob(f'{data_dir}/nips4b/labels/*')

%%
glob.glob(f'{data_dir}/nips4b/labels/*.csv')

%%
# Boring
# df = pd.read_csv(f'{data_dir}/nips4b/labels/example_NIPS4B13_submission_format_test_prediction.csv'); display(df.shape, df[:5])
# df = pd.read_csv(f'{data_dir}/nips4b/labels/tps_canaux_sr_nbits_TRAIN.csv'); display(df.shape, df[:5])
# df = pd.read_csv(f'{data_dir}/nips4b/labels/numero_file_train.csv', header=None); display(df.shape, df[:15].T)

# Interesting
classes_df = pd.read_csv(f'{data_dir}/nips4b/labels/nips4b_birdchallenge_espece_list.csv')
labels_df = pd.read_csv(f'{data_dir}/nips4b/labels/nips4b_birdchallenge_train_labels.csv')

%%
# What are the classes?
display(
    classes_df.shape,
    classes_df,
)

%%
# What are the labels?
display(
    labels_df.shape,
    labels_df[:7].T,
)

%%
(labels_df
    [2:-1]
    .T[4:]
    .fillna(0)
    .astype('int')
    .sum()
    .pipe(gghist)
    + ggtitle('How many species per recording?')
)
