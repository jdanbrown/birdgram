{
 "cells": [
  {
   "cell_type": "code",
   "execution_count": null,
   "metadata": {},
   "outputs": [],
   "source": [
    "import glob\n",
    "\n",
    "import sklearn.utils\n",
    "from sp14.skm import SKM\n",
    "\n",
    "from datasets import *\n",
    "from features import *\n",
    "from load import *\n",
    "import metadata\n",
    "from util import *"
   ]
  },
  {
   "cell_type": "code",
   "execution_count": null,
   "metadata": {},
   "outputs": [
    {
     "data": {
      "text/plain": "(51842, 2)"
     },
     "metadata": {},
     "output_type": "display_data",
     "transient": {}
    },
    {
     "data": {
      "text/html": "<table border=\"1\" class=\"dataframe\">\n  <thead>\n    <tr style=\"text-align: right;\">\n      <th></th>\n      <th>dataset</th>\n      <th>path</th>\n    </tr>\n  </thead>\n  <tbody>\n    <tr>\n      <th>0</th>\n      <td><div class=\"not-number\">recordings</div></td>\n      <td><div class=\"not-number\">recordings/081845.wav</div></td>\n    </tr>\n    <tr>\n      <th>1</th>\n      <td><div class=\"not-number\">recordings</div></td>\n      <td><div class=\"not-number\">recordings/ACWO,NOFL,SPTO spotted towhee, acorn woodpecker, flicker.wav</div></td>\n    </tr>\n    <tr>\n      <th>2</th>\n      <td><div class=\"not-number\">recordings</div></td>\n      <td><div class=\"not-number\">recordings/BEWR Bewicks Wren (Coyote Hills parking lot).wav</div></td>\n    </tr>\n    <tr>\n      <th>3</th>\n      <td><div class=\"not-number\">recordings</div></td>\n      <td><div class=\"not-number\">recordings/BEWR Bewicks Wren 2 (Coyote Hills parking lot) 2.wav</div></td>\n    </tr>\n    <tr>\n      <th>4</th>\n      <td><div class=\"not-number\">recordings</div></td>\n      <td><div class=\"not-number\">recordings/BEWR Bewicks Wren 2 (Coyote Hills parking lot).wav</div></td>\n    </tr>\n    <tr>\n      <th>98</th>\n      <td><div class=\"not-number\">peterson-field-guide</div></td>\n      <td><div class=\"not-number\">peterson-field-guide/amecro/audio/43215281 Caw (clear).mp3</div></td>\n    </tr>\n    <tr>\n      <th>99</th>\n      <td><div class=\"not-number\">peterson-field-guide</div></td>\n      <td><div class=\"not-number\">peterson-field-guide/amecro/audio/43215291 Caw (clear).mp3</div></td>\n    </tr>\n    <tr>\n      <th>100</th>\n      <td><div class=\"not-number\">peterson-field-guide</div></td>\n      <td><div class=\"not-number\">peterson-field-guide/amecro/audio/43215301 Caw (slightly rough).mp3</div></td>\n    </tr>\n    <tr>\n      <th>101</th>\n      <td><div class=\"not-number\">peterson-field-guide</div></td>\n      <td><div class=\"not-number\">peterson-field-guide/amecro/audio/43215311 Caw (harsh).mp3</div></td>\n    </tr>\n    <tr>\n      <th>102</th>\n      <td><div class=\"not-number\">peterson-field-guide</div></td>\n      <td><div class=\"not-number\">peterson-field-guide/amecro/audio/43215321 Caw (harsh).mp3</div></td>\n    </tr>\n    <tr>\n      <th>617</th>\n      <td><div class=\"not-number\">birdclef-2015</div></td>\n      <td><div class=\"not-number\">birdclef-2015/organized/wav/00000-2015-amazon.wav</div></td>\n    </tr>\n    <tr>\n      <th>618</th>\n      <td><div class=\"not-number\">birdclef-2015</div></td>\n      <td><div class=\"not-number\">birdclef-2015/organized/wav/00001-2014-amazon.wav</div></td>\n    </tr>\n    <tr>\n      <th>619</th>\n      <td><div class=\"not-number\">birdclef-2015</div></td>\n      <td><div class=\"not-number\">birdclef-2015/organized/wav/00002-2014-amazon.wav</div></td>\n    </tr>\n    <tr>\n      <th>620</th>\n      <td><div class=\"not-number\">birdclef-2015</div></td>\n      <td><div class=\"not-number\">birdclef-2015/organized/wav/00003-2014-amazon.wav</div></td>\n    </tr>\n    <tr>\n      <th>621</th>\n      <td><div class=\"not-number\">birdclef-2015</div></td>\n      <td><div class=\"not-number\">birdclef-2015/organized/wav/00004-2014-amazon.wav</div></td>\n    </tr>\n    <tr>\n      <th>33820</th>\n      <td><div class=\"not-number\">warblrb10k</div></td>\n      <td><div class=\"not-number\">dcase-2018/warblrb10k_public_wav/000e088a-69f7-4d7a-ba7b.wav</div></td>\n    </tr>\n    <tr>\n      <th>33821</th>\n      <td><div class=\"not-number\">warblrb10k</div></td>\n      <td><div class=\"not-number\">dcase-2018/warblrb10k_public_wav/0011e7f9-ec1e-4f3a-a70f.wav</div></td>\n    </tr>\n    <tr>\n      <th>33822</th>\n      <td><div class=\"not-number\">warblrb10k</div></td>\n      <td><div class=\"not-number\">dcase-2018/warblrb10k_public_wav/001277e4-24c2-4b8e-a6a8.wav</div></td>\n    </tr>\n    <tr>\n      <th>33823</th>\n      <td><div class=\"not-number\">warblrb10k</div></td>\n      <td><div class=\"not-number\">dcase-2018/warblrb10k_public_wav/001fceab-9866-48e8-a169.wav</div></td>\n    </tr>\n    <tr>\n      <th>33824</th>\n      <td><div class=\"not-number\">warblrb10k</div></td>\n      <td><div class=\"not-number\">dcase-2018/warblrb10k_public_wav/00268cc3-03e8-4e62-bee2.wav</div></td>\n    </tr>\n    <tr>\n      <th>41820</th>\n      <td><div class=\"not-number\">ff1010bird</div></td>\n      <td><div class=\"not-number\">dcase-2018/ff1010bird_wav/100.wav</div></td>\n    </tr>\n    <tr>\n      <th>41821</th>\n      <td><div class=\"not-number\">ff1010bird</div></td>\n      <td><div class=\"not-number\">dcase-2018/ff1010bird_wav/100180.wav</div></td>\n    </tr>\n    <tr>\n      <th>41822</th>\n      <td><div class=\"not-number\">ff1010bird</div></td>\n      <td><div class=\"not-number\">dcase-2018/ff1010bird_wav/100181.wav</div></td>\n    </tr>\n    <tr>\n      <th>41823</th>\n      <td><div class=\"not-number\">ff1010bird</div></td>\n      <td><div class=\"not-number\">dcase-2018/ff1010bird_wav/100250.wav</div></td>\n    </tr>\n    <tr>\n      <th>41824</th>\n      <td><div class=\"not-number\">ff1010bird</div></td>\n      <td><div class=\"not-number\">dcase-2018/ff1010bird_wav/100263.wav</div></td>\n    </tr>\n    <tr>\n      <th>49510</th>\n      <td><div class=\"not-number\">nips4b</div></td>\n      <td><div class=\"not-number\">nips4b/all_wav/nips4b_birds_testfile0001.wav</div></td>\n    </tr>\n    <tr>\n      <th>49511</th>\n      <td><div class=\"not-number\">nips4b</div></td>\n      <td><div class=\"not-number\">nips4b/all_wav/nips4b_birds_testfile0002.wav</div></td>\n    </tr>\n    <tr>\n      <th>49512</th>\n      <td><div class=\"not-number\">nips4b</div></td>\n      <td><div class=\"not-number\">nips4b/all_wav/nips4b_birds_testfile0003.wav</div></td>\n    </tr>\n    <tr>\n      <th>49513</th>\n      <td><div class=\"not-number\">nips4b</div></td>\n      <td><div class=\"not-number\">nips4b/all_wav/nips4b_birds_testfile0004.wav</div></td>\n    </tr>\n    <tr>\n      <th>49514</th>\n      <td><div class=\"not-number\">nips4b</div></td>\n      <td><div class=\"not-number\">nips4b/all_wav/nips4b_birds_testfile0005.wav</div></td>\n    </tr>\n    <tr>\n      <th>51197</th>\n      <td><div class=\"not-number\">mlsp-2013</div></td>\n      <td><div class=\"not-number\">mlsp-2013/mlsp_contest_dataset/essential_data/src_wavs/PC10_20090513_054500_0010.wav</div></td>\n    </tr>\n    <tr>\n      <th>51198</th>\n      <td><div class=\"not-number\">mlsp-2013</div></td>\n      <td><div class=\"not-number\">mlsp-2013/mlsp_contest_dataset/essential_data/src_wavs/PC10_20090513_054500_0020.wav</div></td>\n    </tr>\n    <tr>\n      <th>51199</th>\n      <td><div class=\"not-number\">mlsp-2013</div></td>\n      <td><div class=\"not-number\">mlsp-2013/mlsp_contest_dataset/essential_data/src_wavs/PC10_20090513_054500_0030.wav</div></td>\n    </tr>\n    <tr>\n      <th>51200</th>\n      <td><div class=\"not-number\">mlsp-2013</div></td>\n      <td><div class=\"not-number\">mlsp-2013/mlsp_contest_dataset/essential_data/src_wavs/PC10_20090513_054500_0040.wav</div></td>\n    </tr>\n    <tr>\n      <th>51201</th>\n      <td><div class=\"not-number\">mlsp-2013</div></td>\n      <td><div class=\"not-number\">mlsp-2013/mlsp_contest_dataset/essential_data/src_wavs/PC10_20090513_070000_0010.wav</div></td>\n    </tr>\n  </tbody>\n</table>",
      "text/plain": "                    dataset                                                                                  path\n0                recordings                                                                 recordings/081845.wav\n1                recordings               recordings/ACWO,NOFL,SPTO spotted towhee, acorn woodpecker, flicker.wav\n2                recordings                           recordings/BEWR Bewicks Wren (Coyote Hills parking lot).wav\n3                recordings                       recordings/BEWR Bewicks Wren 2 (Coyote Hills parking lot) 2.wav\n4                recordings                         recordings/BEWR Bewicks Wren 2 (Coyote Hills parking lot).wav\n98     peterson-field-guide                            peterson-field-guide/amecro/audio/43215281 Caw (clear).mp3\n99     peterson-field-guide                            peterson-field-guide/amecro/audio/43215291 Caw (clear).mp3\n100    peterson-field-guide                   peterson-field-guide/amecro/audio/43215301 Caw (slightly rough).mp3\n101    peterson-field-guide                            peterson-field-guide/amecro/audio/43215311 Caw (harsh).mp3\n102    peterson-field-guide                            peterson-field-guide/amecro/audio/43215321 Caw (harsh).mp3\n617           birdclef-2015                                     birdclef-2015/organized/wav/00000-2015-amazon.wav\n618           birdclef-2015                                     birdclef-2015/organized/wav/00001-2014-amazon.wav\n619           birdclef-2015                                     birdclef-2015/organized/wav/00002-2014-amazon.wav\n620           birdclef-2015                                     birdclef-2015/organized/wav/00003-2014-amazon.wav\n621           birdclef-2015                                     birdclef-2015/organized/wav/00004-2014-amazon.wav\n33820            warblrb10k                          dcase-2018/warblrb10k_public_wav/000e088a-69f7-4d7a-ba7b.wav\n33821            warblrb10k                          dcase-2018/warblrb10k_public_wav/0011e7f9-ec1e-4f3a-a70f.wav\n33822            warblrb10k                          dcase-2018/warblrb10k_public_wav/001277e4-24c2-4b8e-a6a8.wav\n33823            warblrb10k                          dcase-2018/warblrb10k_public_wav/001fceab-9866-48e8-a169.wav\n33824            warblrb10k                          dcase-2018/warblrb10k_public_wav/00268cc3-03e8-4e62-bee2.wav\n41820            ff1010bird                                                     dcase-2018/ff1010bird_wav/100.wav\n41821            ff1010bird                                                  dcase-2018/ff1010bird_wav/100180.wav\n41822            ff1010bird                                                  dcase-2018/ff1010bird_wav/100181.wav\n41823            ff1010bird                                                  dcase-2018/ff1010bird_wav/100250.wav\n41824            ff1010bird                                                  dcase-2018/ff1010bird_wav/100263.wav\n49510                nips4b                                          nips4b/all_wav/nips4b_birds_testfile0001.wav\n49511                nips4b                                          nips4b/all_wav/nips4b_birds_testfile0002.wav\n49512                nips4b                                          nips4b/all_wav/nips4b_birds_testfile0003.wav\n49513                nips4b                                          nips4b/all_wav/nips4b_birds_testfile0004.wav\n49514                nips4b                                          nips4b/all_wav/nips4b_birds_testfile0005.wav\n51197             mlsp-2013  mlsp-2013/mlsp_contest_dataset/essential_data/src_wavs/PC10_20090513_054500_0010.wav\n51198             mlsp-2013  mlsp-2013/mlsp_contest_dataset/essential_data/src_wavs/PC10_20090513_054500_0020.wav\n51199             mlsp-2013  mlsp-2013/mlsp_contest_dataset/essential_data/src_wavs/PC10_20090513_054500_0030.wav\n51200             mlsp-2013  mlsp-2013/mlsp_contest_dataset/essential_data/src_wavs/PC10_20090513_054500_0040.wav\n51201             mlsp-2013  mlsp-2013/mlsp_contest_dataset/essential_data/src_wavs/PC10_20090513_070000_0010.wav"
     },
     "metadata": {},
     "output_type": "display_data",
     "transient": {}
    },
    {
     "data": {
      "text/html": "<div style=\"white-space: pre\">birdclef-2015           33203\nwarblrb10k               8000\nff1010bird               7690\nnips4b                   1687\nmlsp-2013                 645\npeterson-field-guide      519\nrecordings                 98\nName: dataset, dtype: int64</div>",
      "text/plain": "birdclef-2015           33203\nwarblrb10k               8000\nff1010bird               7690\nnips4b                   1687\nmlsp-2013                 645\npeterson-field-guide      519\nrecordings                 98\nName: dataset, dtype: int64"
     },
     "metadata": {},
     "output_type": "display_data",
     "transient": {}
    }
   ],
   "source": [
    "recs_paths = load_recs_paths([\n",
    "    'recordings',\n",
    "    'recordings-new',\n",
    "    'peterson-field-guide',\n",
    "    'birdclef-2015',\n",
    "    'warblrb10k',\n",
    "    'ff1010bird',\n",
    "    'nips4b',\n",
    "    'mlsp-2013',\n",
    "])\n",
    "display(\n",
    "    recs_paths.shape,\n",
    "    recs_paths.groupby('dataset').head(5),\n",
    "    recs_paths.dataset.value_counts(),\n",
    ")"
   ]
  },
  {
   "cell_type": "code",
   "execution_count": null,
   "metadata": {},
   "outputs": [
    {
     "name": "stdout",
     "output_type": "stream",
     "text": "\r[                                                                                          ] | 0% Completed |  0.0s"
    },
    {
     "name": "stdout",
     "output_type": "stream",
     "text": "\r[                                                                                          ] | 0% Completed |  0.1s"
    },
    {
     "name": "stdout",
     "output_type": "stream",
     "text": "\r[                                                                                          ] | 0% Completed |  0.3s"
    },
    {
     "name": "stdout",
     "output_type": "stream",
     "text": "\r[                                                                                          ] | 0% Completed |  0.6s"
    },
    {
     "name": "stdout",
     "output_type": "stream",
     "text": "\r[                                                                                          ] | 0% Completed |  0.8s"
    },
    {
     "name": "stdout",
     "output_type": "stream",
     "text": "\r[                                                                                          ] | 0% Completed |  1.0s"
    },
    {
     "name": "stdout",
     "output_type": "stream",
     "text": "\r[                                                                                          ] | 0% Completed |  1.1s"
    },
    {
     "name": "stdout",
     "output_type": "stream",
     "text": "\r[                                                                                          ] | 0% Completed |  1.2s"
    },
    {
     "name": "stdout",
     "output_type": "stream",
     "text": "\r[                                                                                          ] | 0% Completed |  1.3s"
    },
    {
     "name": "stdout",
     "output_type": "stream",
     "text": "\r[                                                                                          ] | 0% Completed |  1.4s"
    },
    {
     "name": "stdout",
     "output_type": "stream",
     "text": "\r[                                                                                          ] | 0% Completed |  1.5s"
    },
    {
     "name": "stdout",
     "output_type": "stream",
     "text": "\r[                                                                                          ] | 0% Completed |  1.6s"
    },
    {
     "name": "stdout",
     "output_type": "stream",
     "text": "\r[                                                                                          ] | 0% Completed |  1.7s"
    },
    {
     "name": "stdout",
     "output_type": "stream",
     "text": "\r[                                                                                          ] | 0% Completed |  1.8s"
    },
    {
     "name": "stdout",
     "output_type": "stream",
     "text": "\r[                                                                                          ] | 0% Completed |  1.9s"
    },
    {
     "name": "stdout",
     "output_type": "stream",
     "text": "\r[                                                                                          ] | 0% Completed |  2.0s"
    },
    {
     "name": "stdout",
     "output_type": "stream",
     "text": "\r[                                                                                          ] | 0% Completed |  2.1s"
    },
    {
     "name": "stdout",
     "output_type": "stream",
     "text": "\r[                                                                                          ] | 0% Completed |  2.2s"
    },
    {
     "name": "stdout",
     "output_type": "stream",
     "text": "\r[                                                                                          ] | 1% Completed |  2.3s"
    },
    {
     "name": "stdout",
     "output_type": "stream",
     "text": "\r[#                                                                                         ] | 1% Completed |  2.4s"
    },
    {
     "name": "stdout",
     "output_type": "stream",
     "text": "\r[#                                                                                         ] | 1% Completed |  2.5s"
    },
    {
     "name": "stdout",
     "output_type": "stream",
     "text": "\r[#                                                                                         ] | 1% Completed |  2.7s"
    },
    {
     "name": "stdout",
     "output_type": "stream",
     "text": "\r[#                                                                                         ] | 1% Completed |  2.8s"
    },
    {
     "name": "stdout",
     "output_type": "stream",
     "text": "\r[#                                                                                         ] | 1% Completed |  2.9s"
    },
    {
     "name": "stdout",
     "output_type": "stream",
     "text": "\r[#                                                                                         ] | 1% Completed |  3.0s"
    },
    {
     "name": "stdout",
     "output_type": "stream",
     "text": "\r[#                                                                                         ] | 1% Completed |  3.1s"
    },
    {
     "name": "stdout",
     "output_type": "stream",
     "text": "\r[#                                                                                         ] | 1% Completed |  3.2s"
    },
    {
     "name": "stdout",
     "output_type": "stream",
     "text": "\r[#                                                                                         ] | 1% Completed |  3.3s"
    },
    {
     "name": "stdout",
     "output_type": "stream",
     "text": "\r[#                                                                                         ] | 2% Completed |  3.4s"
    },
    {
     "name": "stdout",
     "output_type": "stream",
     "text": "\r[#                                                                                         ] | 2% Completed |  3.5s"
    },
    {
     "name": "stdout",
     "output_type": "stream",
     "text": "\r[##                                                                                        ] | 2% Completed |  3.6s"
    },
    {
     "name": "stdout",
     "output_type": "stream",
     "text": "\r[##                                                                                        ] | 2% Completed |  3.7s"
    },
    {
     "name": "stdout",
     "output_type": "stream",
     "text": "\r[##                                                                                        ] | 2% Completed |  3.8s"
    },
    {
     "name": "stdout",
     "output_type": "stream",
     "text": "\r[##                                                                                        ] | 2% Completed |  3.9s"
    },
    {
     "name": "stdout",
     "output_type": "stream",
     "text": "\r[##                                                                                        ] | 2% Completed |  4.0s"
    },
    {
     "name": "stdout",
     "output_type": "stream",
     "text": "\r[##                                                                                        ] | 2% Completed |  4.2s"
    },
    {
     "name": "stdout",
     "output_type": "stream",
     "text": "\r[##                                                                                        ] | 2% Completed |  4.3s"
    },
    {
     "name": "stdout",
     "output_type": "stream",
     "text": "\r[##                                                                                        ] | 2% Completed |  4.4s"
    },
    {
     "name": "stdout",
     "output_type": "stream",
     "text": "\r[##                                                                                        ] | 3% Completed |  4.5s"
    },
    {
     "name": "stdout",
     "output_type": "stream",
     "text": "\r[##                                                                                        ] | 3% Completed |  4.6s"
    },
    {
     "name": "stdout",
     "output_type": "stream",
     "text": "\r[##                                                                                        ] | 3% Completed |  4.7s"
    },
    {
     "name": "stdout",
     "output_type": "stream",
     "text": "\r[###                                                                                       ] | 3% Completed |  4.8s"
    },
    {
     "name": "stdout",
     "output_type": "stream",
     "text": "\r[###                                                                                       ] | 3% Completed |  4.9s"
    },
    {
     "name": "stdout",
     "output_type": "stream",
     "text": "\r[###                                                                                       ] | 3% Completed |  5.0s"
    },
    {
     "name": "stdout",
     "output_type": "stream",
     "text": "\r[###                                                                                       ] | 3% Completed |  5.1s"
    },
    {
     "name": "stdout",
     "output_type": "stream",
     "text": "\r[###                                                                                       ] | 3% Completed |  5.2s"
    },
    {
     "name": "stdout",
     "output_type": "stream",
     "text": "\r[###                                                                                       ] | 3% Completed |  5.3s"
    },
    {
     "name": "stdout",
     "output_type": "stream",
     "text": "\r[###                                                                                       ] | 3% Completed |  5.5s"
    },
    {
     "name": "stdout",
     "output_type": "stream",
     "text": "\r[###                                                                                       ] | 3% Completed |  5.6s"
    },
    {
     "name": "stdout",
     "output_type": "stream",
     "text": "\r[###                                                                                       ] | 4% Completed |  5.7s"
    },
    {
     "name": "stdout",
     "output_type": "stream",
     "text": "\r[###                                                                                       ] | 4% Completed |  5.8s"
    },
    {
     "name": "stdout",
     "output_type": "stream",
     "text": "\r[###                                                                                       ] | 4% Completed |  5.9s"
    },
    {
     "name": "stdout",
     "output_type": "stream",
     "text": "\r[###                                                                                       ] | 4% Completed |  6.0s"
    },
    {
     "name": "stdout",
     "output_type": "stream",
     "text": "\r[####                                                                                      ] | 4% Completed |  6.1s"
    },
    {
     "name": "stdout",
     "output_type": "stream",
     "text": "\r[####                                                                                      ] | 4% Completed |  6.2s"
    },
    {
     "name": "stdout",
     "output_type": "stream",
     "text": "\r[####                                                                                      ] | 4% Completed |  6.3s"
    },
    {
     "name": "stdout",
     "output_type": "stream",
     "text": "\r[####                                                                                      ] | 4% Completed |  6.4s"
    },
    {
     "name": "stdout",
     "output_type": "stream",
     "text": "\r[####                                                                                      ] | 4% Completed |  6.5s"
    },
    {
     "name": "stdout",
     "output_type": "stream",
     "text": "\r[####                                                                                      ] | 4% Completed |  6.6s"
    },
    {
     "name": "stdout",
     "output_type": "stream",
     "text": "\r[####                                                                                      ] | 5% Completed |  6.7s"
    },
    {
     "name": "stdout",
     "output_type": "stream",
     "text": "\r[####                                                                                      ] | 5% Completed |  6.8s"
    },
    {
     "name": "stdout",
     "output_type": "stream",
     "text": "\r[####                                                                                      ] | 5% Completed |  7.0s"
    },
    {
     "name": "stdout",
     "output_type": "stream",
     "text": "\r[####                                                                                      ] | 5% Completed |  7.1s"
    },
    {
     "name": "stdout",
     "output_type": "stream",
     "text": "\r[####                                                                                      ] | 5% Completed |  7.2s"
    },
    {
     "name": "stdout",
     "output_type": "stream",
     "text": "\r[#####                                                                                     ] | 5% Completed |  7.3s"
    },
    {
     "name": "stdout",
     "output_type": "stream",
     "text": "\r[#####                                                                                     ] | 5% Completed |  7.4s"
    },
    {
     "name": "stdout",
     "output_type": "stream",
     "text": "\r[#####                                                                                     ] | 5% Completed |  7.5s"
    },
    {
     "name": "stdout",
     "output_type": "stream",
     "text": "\r[#####                                                                                     ] | 5% Completed |  7.6s"
    },
    {
     "name": "stdout",
     "output_type": "stream",
     "text": "\r[#####                                                                                     ] | 5% Completed |  7.7s"
    },
    {
     "name": "stdout",
     "output_type": "stream",
     "text": "\r[#####                                                                                     ] | 6% Completed |  7.8s"
    },
    {
     "name": "stdout",
     "output_type": "stream",
     "text": "\r[#####                                                                                     ] | 6% Completed |  7.9s"
    },
    {
     "name": "stdout",
     "output_type": "stream",
     "text": "\r[#####                                                                                     ] | 6% Completed |  8.0s"
    },
    {
     "name": "stdout",
     "output_type": "stream",
     "text": "\r[#####                                                                                     ] | 6% Completed |  8.1s"
    },
    {
     "name": "stdout",
     "output_type": "stream",
     "text": "\r[#####                                                                                     ] | 6% Completed |  8.2s"
    },
    {
     "name": "stdout",
     "output_type": "stream",
     "text": "\r[#####                                                                                     ] | 6% Completed |  8.3s"
    },
    {
     "name": "stdout",
     "output_type": "stream",
     "text": "\r[######                                                                                    ] | 6% Completed |  8.5s"
    },
    {
     "name": "stdout",
     "output_type": "stream",
     "text": "\r[######                                                                                    ] | 6% Completed |  8.6s"
    },
    {
     "name": "stdout",
     "output_type": "stream",
     "text": "\r[######                                                                                    ] | 6% Completed |  8.7s"
    },
    {
     "name": "stdout",
     "output_type": "stream",
     "text": "\r[######                                                                                    ] | 6% Completed |  8.8s"
    },
    {
     "name": "stdout",
     "output_type": "stream",
     "text": "\r[######                                                                                    ] | 7% Completed |  8.9s"
    },
    {
     "name": "stdout",
     "output_type": "stream",
     "text": "\r[######                                                                                    ] | 7% Completed |  9.0s"
    },
    {
     "name": "stdout",
     "output_type": "stream",
     "text": "\r[######                                                                                    ] | 7% Completed |  9.1s"
    },
    {
     "name": "stdout",
     "output_type": "stream",
     "text": "\r[######                                                                                    ] | 7% Completed |  9.2s"
    },
    {
     "name": "stdout",
     "output_type": "stream",
     "text": "\r[######                                                                                    ] | 7% Completed |  9.3s"
    },
    {
     "name": "stdout",
     "output_type": "stream",
     "text": "\r[######                                                                                    ] | 7% Completed |  9.4s"
    },
    {
     "name": "stdout",
     "output_type": "stream",
     "text": "\r[######                                                                                    ] | 7% Completed |  9.5s"
    },
    {
     "name": "stdout",
     "output_type": "stream",
     "text": "\r[######                                                                                    ] | 7% Completed |  9.6s"
    },
    {
     "name": "stdout",
     "output_type": "stream",
     "text": "\r[#######                                                                                   ] | 7% Completed |  9.8s"
    },
    {
     "name": "stdout",
     "output_type": "stream",
     "text": "\r[#######                                                                                   ] | 7% Completed |  9.9s"
    },
    {
     "name": "stdout",
     "output_type": "stream",
     "text": "\r[#######                                                                                   ] | 8% Completed | 10.0s"
    },
    {
     "name": "stdout",
     "output_type": "stream",
     "text": "\r[#######                                                                                   ] | 8% Completed | 10.1s"
    },
    {
     "name": "stdout",
     "output_type": "stream",
     "text": "\r[#######                                                                                   ] | 8% Completed | 10.2s"
    },
    {
     "name": "stdout",
     "output_type": "stream",
     "text": "\r[#######                                                                                   ] | 8% Completed | 10.3s"
    },
    {
     "name": "stdout",
     "output_type": "stream",
     "text": "\r[#######                                                                                   ] | 8% Completed | 10.4s"
    },
    {
     "name": "stdout",
     "output_type": "stream",
     "text": "\r[#######                                                                                   ] | 8% Completed | 10.5s"
    },
    {
     "name": "stdout",
     "output_type": "stream",
     "text": "\r[#######                                                                                   ] | 8% Completed | 10.6s"
    },
    {
     "name": "stdout",
     "output_type": "stream",
     "text": "\r[#######                                                                                   ] | 8% Completed | 10.7s"
    },
    {
     "name": "stdout",
     "output_type": "stream",
     "text": "\r[#######                                                                                   ] | 8% Completed | 10.8s"
    },
    {
     "name": "stdout",
     "output_type": "stream",
     "text": "\r[#######                                                                                   ] | 8% Completed | 10.9s"
    },
    {
     "name": "stdout",
     "output_type": "stream",
     "text": "\r[########                                                                                  ] | 8% Completed | 11.1s"
    },
    {
     "name": "stdout",
     "output_type": "stream",
     "text": "\r[########                                                                                  ] | 9% Completed | 11.2s"
    },
    {
     "name": "stdout",
     "output_type": "stream",
     "text": "\r[########                                                                                  ] | 9% Completed | 11.3s"
    },
    {
     "name": "stdout",
     "output_type": "stream",
     "text": "\r[########                                                                                  ] | 9% Completed | 11.4s"
    },
    {
     "name": "stdout",
     "output_type": "stream",
     "text": "\r[########                                                                                  ] | 9% Completed | 11.5s"
    },
    {
     "name": "stdout",
     "output_type": "stream",
     "text": "\r[########                                                                                  ] | 9% Completed | 11.6s"
    },
    {
     "name": "stdout",
     "output_type": "stream",
     "text": "\r[########                                                                                  ] | 9% Completed | 11.7s"
    },
    {
     "name": "stdout",
     "output_type": "stream",
     "text": "\r[########                                                                                  ] | 9% Completed | 11.8s"
    },
    {
     "name": "stdout",
     "output_type": "stream",
     "text": "\r[########                                                                                  ] | 9% Completed | 11.9s"
    },
    {
     "name": "stdout",
     "output_type": "stream",
     "text": "\r[########                                                                                  ] | 9% Completed | 12.0s"
    },
    {
     "name": "stdout",
     "output_type": "stream",
     "text": "\r[########                                                                                  ] | 9% Completed | 12.1s"
    },
    {
     "name": "stdout",
     "output_type": "stream",
     "text": "\r[#########                                                                                 ] | 10% Completed | 12.2s"
    },
    {
     "name": "stdout",
     "output_type": "stream",
     "text": "\r[#########                                                                                 ] | 10% Completed | 12.4s"
    },
    {
     "name": "stdout",
     "output_type": "stream",
     "text": "\r[#########                                                                                 ] | 10% Completed | 12.5s"
    },
    {
     "name": "stdout",
     "output_type": "stream",
     "text": "\r[#########                                                                                 ] | 10% Completed | 12.6s"
    },
    {
     "name": "stdout",
     "output_type": "stream",
     "text": "\r[#########                                                                                 ] | 10% Completed | 12.7s"
    },
    {
     "name": "stdout",
     "output_type": "stream",
     "text": "\r[#########                                                                                 ] | 10% Completed | 12.8s"
    },
    {
     "name": "stdout",
     "output_type": "stream",
     "text": "\r[#########                                                                                 ] | 10% Completed | 12.9s"
    },
    {
     "name": "stdout",
     "output_type": "stream",
     "text": "\r[#########                                                                                 ] | 10% Completed | 13.0s"
    },
    {
     "name": "stdout",
     "output_type": "stream",
     "text": "\r[#########                                                                                 ] | 10% Completed | 13.1s"
    },
    {
     "name": "stdout",
     "output_type": "stream",
     "text": "\r[#########                                                                                 ] | 11% Completed | 13.2s"
    },
    {
     "name": "stdout",
     "output_type": "stream",
     "text": "\r[#########                                                                                 ] | 11% Completed | 13.3s"
    },
    {
     "name": "stdout",
     "output_type": "stream",
     "text": "\r[##########                                                                                ] | 11% Completed | 13.4s"
    },
    {
     "name": "stdout",
     "output_type": "stream",
     "text": "\r[##########                                                                                ] | 11% Completed | 13.5s"
    },
    {
     "name": "stdout",
     "output_type": "stream",
     "text": "\r[##########                                                                                ] | 11% Completed | 13.6s"
    },
    {
     "name": "stdout",
     "output_type": "stream",
     "text": "\r[##########                                                                                ] | 11% Completed | 13.7s"
    },
    {
     "name": "stdout",
     "output_type": "stream",
     "text": "\r[##########                                                                                ] | 11% Completed | 13.8s"
    },
    {
     "name": "stdout",
     "output_type": "stream",
     "text": "\r[##########                                                                                ] | 11% Completed | 13.9s"
    },
    {
     "name": "stdout",
     "output_type": "stream",
     "text": "\r[##########                                                                                ] | 11% Completed | 14.1s"
    },
    {
     "name": "stdout",
     "output_type": "stream",
     "text": "\r[##########                                                                                ] | 11% Completed | 14.2s"
    },
    {
     "name": "stdout",
     "output_type": "stream",
     "text": "\r[##########                                                                                ] | 11% Completed | 14.3s"
    },
    {
     "name": "stdout",
     "output_type": "stream",
     "text": "\r[##########                                                                                ] | 12% Completed | 14.4s"
    },
    {
     "name": "stdout",
     "output_type": "stream",
     "text": "\r[###########                                                                               ] | 12% Completed | 14.5s"
    },
    {
     "name": "stdout",
     "output_type": "stream",
     "text": "\r[###########                                                                               ] | 12% Completed | 14.6s"
    },
    {
     "name": "stdout",
     "output_type": "stream",
     "text": "\r[###########                                                                               ] | 12% Completed | 14.7s"
    },
    {
     "name": "stdout",
     "output_type": "stream",
     "text": "\r[###########                                                                               ] | 12% Completed | 14.8s"
    },
    {
     "name": "stdout",
     "output_type": "stream",
     "text": "\r[###########                                                                               ] | 12% Completed | 14.9s"
    },
    {
     "name": "stdout",
     "output_type": "stream",
     "text": "\r[###########                                                                               ] | 12% Completed | 15.0s"
    },
    {
     "name": "stdout",
     "output_type": "stream",
     "text": "\r[###########                                                                               ] | 12% Completed | 15.1s"
    },
    {
     "name": "stdout",
     "output_type": "stream",
     "text": "\r[###########                                                                               ] | 12% Completed | 15.2s"
    },
    {
     "name": "stdout",
     "output_type": "stream",
     "text": "\r[###########                                                                               ] | 13% Completed | 15.3s"
    },
    {
     "name": "stdout",
     "output_type": "stream",
     "text": "\r[###########                                                                               ] | 13% Completed | 15.4s"
    },
    {
     "name": "stdout",
     "output_type": "stream",
     "text": "\r[###########                                                                               ] | 13% Completed | 15.5s"
    },
    {
     "name": "stdout",
     "output_type": "stream",
     "text": "\r[############                                                                              ] | 13% Completed | 15.6s"
    },
    {
     "name": "stdout",
     "output_type": "stream",
     "text": "\r[############                                                                              ] | 13% Completed | 15.7s"
    },
    {
     "name": "stdout",
     "output_type": "stream",
     "text": "\r[############                                                                              ] | 13% Completed | 15.9s"
    },
    {
     "name": "stdout",
     "output_type": "stream",
     "text": "\r[############                                                                              ] | 13% Completed | 16.0s"
    },
    {
     "name": "stdout",
     "output_type": "stream",
     "text": "\r[############                                                                              ] | 13% Completed | 16.1s"
    },
    {
     "name": "stdout",
     "output_type": "stream",
     "text": "\r[############                                                                              ] | 13% Completed | 16.2s"
    },
    {
     "name": "stdout",
     "output_type": "stream",
     "text": "\r[############                                                                              ] | 14% Completed | 16.3s"
    },
    {
     "name": "stdout",
     "output_type": "stream",
     "text": "\r[############                                                                              ] | 14% Completed | 16.4s"
    },
    {
     "name": "stdout",
     "output_type": "stream",
     "text": "\r[############                                                                              ] | 14% Completed | 16.5s"
    },
    {
     "name": "stdout",
     "output_type": "stream",
     "text": "\r[############                                                                              ] | 14% Completed | 16.6s"
    },
    {
     "name": "stdout",
     "output_type": "stream",
     "text": "\r[#############                                                                             ] | 14% Completed | 16.7s"
    },
    {
     "name": "stdout",
     "output_type": "stream",
     "text": "\r[#############                                                                             ] | 14% Completed | 16.8s"
    },
    {
     "name": "stdout",
     "output_type": "stream",
     "text": "\r[#############                                                                             ] | 14% Completed | 16.9s"
    },
    {
     "name": "stdout",
     "output_type": "stream",
     "text": "\r[#############                                                                             ] | 14% Completed | 17.0s"
    },
    {
     "name": "stdout",
     "output_type": "stream",
     "text": "\r[#############                                                                             ] | 14% Completed | 17.1s"
    },
    {
     "name": "stdout",
     "output_type": "stream",
     "text": "\r[#############                                                                             ] | 15% Completed | 17.2s"
    },
    {
     "name": "stdout",
     "output_type": "stream",
     "text": "\r[#############                                                                             ] | 15% Completed | 17.4s"
    },
    {
     "name": "stdout",
     "output_type": "stream",
     "text": "\r[#############                                                                             ] | 15% Completed | 17.5s"
    },
    {
     "name": "stdout",
     "output_type": "stream",
     "text": "\r[#############                                                                             ] | 15% Completed | 17.6s"
    },
    {
     "name": "stdout",
     "output_type": "stream",
     "text": "\r[#############                                                                             ] | 15% Completed | 17.7s"
    },
    {
     "name": "stdout",
     "output_type": "stream",
     "text": "\r[##############                                                                            ] | 15% Completed | 17.8s"
    },
    {
     "name": "stdout",
     "output_type": "stream",
     "text": "\r[##############                                                                            ] | 15% Completed | 17.9s"
    },
    {
     "name": "stdout",
     "output_type": "stream",
     "text": "\r[##############                                                                            ] | 15% Completed | 18.0s"
    },
    {
     "name": "stdout",
     "output_type": "stream",
     "text": "\r[##############                                                                            ] | 15% Completed | 18.1s"
    },
    {
     "name": "stdout",
     "output_type": "stream",
     "text": "\r[##############                                                                            ] | 16% Completed | 18.2s"
    },
    {
     "name": "stdout",
     "output_type": "stream",
     "text": "\r[##############                                                                            ] | 16% Completed | 18.3s"
    },
    {
     "name": "stdout",
     "output_type": "stream",
     "text": "\r[##############                                                                            ] | 16% Completed | 18.4s"
    },
    {
     "name": "stdout",
     "output_type": "stream",
     "text": "\r[##############                                                                            ] | 16% Completed | 18.5s"
    },
    {
     "name": "stdout",
     "output_type": "stream",
     "text": "\r[##############                                                                            ] | 16% Completed | 18.7s"
    },
    {
     "name": "stdout",
     "output_type": "stream",
     "text": "\r[##############                                                                            ] | 16% Completed | 18.8s"
    },
    {
     "name": "stdout",
     "output_type": "stream",
     "text": "\r[##############                                                                            ] | 16% Completed | 18.9s"
    },
    {
     "name": "stdout",
     "output_type": "stream",
     "text": "\r[###############                                                                           ] | 16% Completed | 19.0s"
    },
    {
     "name": "stdout",
     "output_type": "stream",
     "text": "\r[###############                                                                           ] | 16% Completed | 19.1s"
    },
    {
     "name": "stdout",
     "output_type": "stream",
     "text": "\r[###############                                                                           ] | 16% Completed | 19.2s"
    },
    {
     "name": "stdout",
     "output_type": "stream",
     "text": "\r[###############                                                                           ] | 17% Completed | 19.3s"
    },
    {
     "name": "stdout",
     "output_type": "stream",
     "text": "\r[###############                                                                           ] | 17% Completed | 19.4s"
    },
    {
     "name": "stdout",
     "output_type": "stream",
     "text": "\r[###############                                                                           ] | 17% Completed | 19.5s"
    },
    {
     "name": "stdout",
     "output_type": "stream",
     "text": "\r[###############                                                                           ] | 17% Completed | 19.6s"
    },
    {
     "name": "stdout",
     "output_type": "stream",
     "text": "\r[###############                                                                           ] | 17% Completed | 19.7s"
    },
    {
     "name": "stdout",
     "output_type": "stream",
     "text": "\r[###############                                                                           ] | 17% Completed | 19.8s"
    },
    {
     "name": "stdout",
     "output_type": "stream",
     "text": "\r[###############                                                                           ] | 17% Completed | 19.9s"
    },
    {
     "name": "stdout",
     "output_type": "stream",
     "text": "\r[################                                                                          ] | 17% Completed | 20.0s"
    },
    {
     "name": "stdout",
     "output_type": "stream",
     "text": "\r[################                                                                          ] | 17% Completed | 20.2s"
    },
    {
     "name": "stdout",
     "output_type": "stream",
     "text": "\r[################                                                                          ] | 17% Completed | 20.3s"
    },
    {
     "name": "stdout",
     "output_type": "stream",
     "text": "\r[################                                                                          ] | 18% Completed | 20.4s"
    },
    {
     "name": "stdout",
     "output_type": "stream",
     "text": "\r[################                                                                          ] | 18% Completed | 20.5s"
    },
    {
     "name": "stdout",
     "output_type": "stream",
     "text": "\r[################                                                                          ] | 18% Completed | 20.6s"
    },
    {
     "name": "stdout",
     "output_type": "stream",
     "text": "\r[################                                                                          ] | 18% Completed | 20.7s"
    },
    {
     "name": "stdout",
     "output_type": "stream",
     "text": "\r[################                                                                          ] | 18% Completed | 20.8s"
    },
    {
     "name": "stdout",
     "output_type": "stream",
     "text": "\r[################                                                                          ] | 18% Completed | 20.9s"
    },
    {
     "name": "stdout",
     "output_type": "stream",
     "text": "\r[################                                                                          ] | 18% Completed | 21.0s"
    },
    {
     "name": "stdout",
     "output_type": "stream",
     "text": "\r[################                                                                          ] | 18% Completed | 21.1s"
    },
    {
     "name": "stdout",
     "output_type": "stream",
     "text": "\r[################                                                                          ] | 18% Completed | 21.2s"
    },
    {
     "name": "stdout",
     "output_type": "stream",
     "text": "\r[#################                                                                         ] | 18% Completed | 21.3s"
    },
    {
     "name": "stdout",
     "output_type": "stream",
     "text": "\r[#################                                                                         ] | 19% Completed | 21.4s"
    },
    {
     "name": "stdout",
     "output_type": "stream",
     "text": "\r[#################                                                                         ] | 19% Completed | 21.6s"
    },
    {
     "name": "stdout",
     "output_type": "stream",
     "text": "\r[#################                                                                         ] | 19% Completed | 21.7s"
    },
    {
     "name": "stdout",
     "output_type": "stream",
     "text": "\r[#################                                                                         ] | 19% Completed | 21.8s"
    },
    {
     "name": "stdout",
     "output_type": "stream",
     "text": "\r[#################                                                                         ] | 19% Completed | 21.9s"
    },
    {
     "name": "stdout",
     "output_type": "stream",
     "text": "\r[#################                                                                         ] | 19% Completed | 22.0s"
    },
    {
     "name": "stdout",
     "output_type": "stream",
     "text": "\r[#################                                                                         ] | 19% Completed | 22.1s"
    },
    {
     "name": "stdout",
     "output_type": "stream",
     "text": "\r[#################                                                                         ] | 19% Completed | 22.2s"
    },
    {
     "name": "stdout",
     "output_type": "stream",
     "text": "\r[#################                                                                         ] | 19% Completed | 22.3s"
    },
    {
     "name": "stdout",
     "output_type": "stream",
     "text": "\r[#################                                                                         ] | 19% Completed | 22.4s"
    },
    {
     "name": "stdout",
     "output_type": "stream",
     "text": "\r[##################                                                                        ] | 20% Completed | 22.5s"
    },
    {
     "name": "stdout",
     "output_type": "stream",
     "text": "\r[##################                                                                        ] | 20% Completed | 22.6s"
    },
    {
     "name": "stdout",
     "output_type": "stream",
     "text": "\r[##################                                                                        ] | 20% Completed | 22.7s"
    },
    {
     "name": "stdout",
     "output_type": "stream",
     "text": "\r[##################                                                                        ] | 20% Completed | 22.8s"
    },
    {
     "name": "stdout",
     "output_type": "stream",
     "text": "\r[##################                                                                        ] | 20% Completed | 22.9s"
    },
    {
     "name": "stdout",
     "output_type": "stream",
     "text": "\r[##################                                                                        ] | 20% Completed | 23.0s"
    },
    {
     "name": "stdout",
     "output_type": "stream",
     "text": "\r[##################                                                                        ] | 20% Completed | 23.2s"
    },
    {
     "name": "stdout",
     "output_type": "stream",
     "text": "\r[##################                                                                        ] | 20% Completed | 23.3s"
    },
    {
     "name": "stdout",
     "output_type": "stream",
     "text": "\r[##################                                                                        ] | 20% Completed | 23.4s"
    },
    {
     "name": "stdout",
     "output_type": "stream",
     "text": "\r[##################                                                                        ] | 20% Completed | 23.5s"
    },
    {
     "name": "stdout",
     "output_type": "stream",
     "text": "\r[##################                                                                        ] | 21% Completed | 23.6s"
    },
    {
     "name": "stdout",
     "output_type": "stream",
     "text": "\r[###################                                                                       ] | 21% Completed | 23.7s"
    },
    {
     "name": "stdout",
     "output_type": "stream",
     "text": "\r[###################                                                                       ] | 21% Completed | 23.8s"
    },
    {
     "name": "stdout",
     "output_type": "stream",
     "text": "\r[###################                                                                       ] | 21% Completed | 23.9s"
    },
    {
     "name": "stdout",
     "output_type": "stream",
     "text": "\r[###################                                                                       ] | 21% Completed | 24.0s"
    },
    {
     "name": "stdout",
     "output_type": "stream",
     "text": "\r[###################                                                                       ] | 21% Completed | 24.1s"
    },
    {
     "name": "stdout",
     "output_type": "stream",
     "text": "\r[###################                                                                       ] | 21% Completed | 24.2s"
    },
    {
     "name": "stdout",
     "output_type": "stream",
     "text": "\r[###################                                                                       ] | 21% Completed | 24.3s"
    },
    {
     "name": "stdout",
     "output_type": "stream",
     "text": "\r[###################                                                                       ] | 21% Completed | 24.4s"
    },
    {
     "name": "stdout",
     "output_type": "stream",
     "text": "\r[###################                                                                       ] | 22% Completed | 24.6s"
    },
    {
     "name": "stdout",
     "output_type": "stream",
     "text": "\r[###################                                                                       ] | 22% Completed | 24.7s"
    },
    {
     "name": "stdout",
     "output_type": "stream",
     "text": "\r[###################                                                                       ] | 22% Completed | 24.8s"
    },
    {
     "name": "stdout",
     "output_type": "stream",
     "text": "\r[####################                                                                      ] | 22% Completed | 24.9s"
    },
    {
     "name": "stdout",
     "output_type": "stream",
     "text": "\r[####################                                                                      ] | 22% Completed | 25.0s"
    },
    {
     "name": "stdout",
     "output_type": "stream",
     "text": "\r[####################                                                                      ] | 22% Completed | 25.1s"
    },
    {
     "name": "stdout",
     "output_type": "stream",
     "text": "\r[####################                                                                      ] | 22% Completed | 25.2s"
    },
    {
     "name": "stdout",
     "output_type": "stream",
     "text": "\r[####################                                                                      ] | 22% Completed | 25.3s"
    },
    {
     "name": "stdout",
     "output_type": "stream",
     "text": "\r[####################                                                                      ] | 22% Completed | 25.4s"
    },
    {
     "name": "stdout",
     "output_type": "stream",
     "text": "\r[####################                                                                      ] | 22% Completed | 25.5s"
    },
    {
     "name": "stdout",
     "output_type": "stream",
     "text": "\r[####################                                                                      ] | 22% Completed | 25.6s"
    },
    {
     "name": "stdout",
     "output_type": "stream",
     "text": "\r[####################                                                                      ] | 23% Completed | 25.7s"
    },
    {
     "name": "stdout",
     "output_type": "stream",
     "text": "\r[####################                                                                      ] | 23% Completed | 25.8s"
    },
    {
     "name": "stdout",
     "output_type": "stream",
     "text": "\r[####################                                                                      ] | 23% Completed | 26.0s"
    },
    {
     "name": "stdout",
     "output_type": "stream",
     "text": "\r[#####################                                                                     ] | 23% Completed | 26.1s"
    },
    {
     "name": "stdout",
     "output_type": "stream",
     "text": "\r[#####################                                                                     ] | 23% Completed | 26.2s"
    },
    {
     "name": "stdout",
     "output_type": "stream",
     "text": "\r[#####################                                                                     ] | 23% Completed | 26.3s"
    },
    {
     "name": "stdout",
     "output_type": "stream",
     "text": "\r[#####################                                                                     ] | 23% Completed | 26.4s"
    },
    {
     "name": "stdout",
     "output_type": "stream",
     "text": "\r[#####################                                                                     ] | 23% Completed | 26.5s"
    },
    {
     "name": "stdout",
     "output_type": "stream",
     "text": "\r[#####################                                                                     ] | 23% Completed | 26.6s"
    },
    {
     "name": "stdout",
     "output_type": "stream",
     "text": "\r[#####################                                                                     ] | 24% Completed | 26.7s"
    },
    {
     "name": "stdout",
     "output_type": "stream",
     "text": "\r[#####################                                                                     ] | 24% Completed | 26.8s"
    },
    {
     "name": "stdout",
     "output_type": "stream",
     "text": "\r[#####################                                                                     ] | 24% Completed | 26.9s"
    },
    {
     "name": "stdout",
     "output_type": "stream",
     "text": "\r[#####################                                                                     ] | 24% Completed | 27.0s"
    },
    {
     "name": "stdout",
     "output_type": "stream",
     "text": "\r[#####################                                                                     ] | 24% Completed | 27.1s"
    },
    {
     "name": "stdout",
     "output_type": "stream",
     "text": "\r[######################                                                                    ] | 24% Completed | 27.2s"
    },
    {
     "name": "stdout",
     "output_type": "stream",
     "text": "\r[######################                                                                    ] | 24% Completed | 27.4s"
    },
    {
     "name": "stdout",
     "output_type": "stream",
     "text": "\r[######################                                                                    ] | 24% Completed | 27.5s"
    },
    {
     "name": "stdout",
     "output_type": "stream",
     "text": "\r[######################                                                                    ] | 24% Completed | 27.6s"
    },
    {
     "name": "stdout",
     "output_type": "stream",
     "text": "\r[######################                                                                    ] | 24% Completed | 27.7s"
    },
    {
     "name": "stdout",
     "output_type": "stream",
     "text": "\r[######################                                                                    ] | 25% Completed | 27.8s"
    },
    {
     "name": "stdout",
     "output_type": "stream",
     "text": "\r[######################                                                                    ] | 25% Completed | 27.9s"
    },
    {
     "name": "stdout",
     "output_type": "stream",
     "text": "\r[######################                                                                    ] | 25% Completed | 28.0s"
    },
    {
     "name": "stdout",
     "output_type": "stream",
     "text": "\r[######################                                                                    ] | 25% Completed | 28.1s"
    },
    {
     "name": "stdout",
     "output_type": "stream",
     "text": "\r[######################                                                                    ] | 25% Completed | 28.2s"
    },
    {
     "name": "stdout",
     "output_type": "stream",
     "text": "\r[#######################                                                                   ] | 25% Completed | 28.3s"
    },
    {
     "name": "stdout",
     "output_type": "stream",
     "text": "\r[#######################                                                                   ] | 25% Completed | 28.4s"
    },
    {
     "name": "stdout",
     "output_type": "stream",
     "text": "\r[#######################                                                                   ] | 25% Completed | 28.5s"
    },
    {
     "name": "stdout",
     "output_type": "stream",
     "text": "\r[#######################                                                                   ] | 25% Completed | 28.7s"
    },
    {
     "name": "stdout",
     "output_type": "stream",
     "text": "\r[#######################                                                                   ] | 26% Completed | 28.8s"
    },
    {
     "name": "stdout",
     "output_type": "stream",
     "text": "\r[#######################                                                                   ] | 26% Completed | 28.9s"
    },
    {
     "name": "stdout",
     "output_type": "stream",
     "text": "\r[#######################                                                                   ] | 26% Completed | 29.0s"
    },
    {
     "name": "stdout",
     "output_type": "stream",
     "text": "\r[#######################                                                                   ] | 26% Completed | 29.1s"
    },
    {
     "name": "stdout",
     "output_type": "stream",
     "text": "\r[#######################                                                                   ] | 26% Completed | 29.2s"
    },
    {
     "name": "stdout",
     "output_type": "stream",
     "text": "\r[#######################                                                                   ] | 26% Completed | 29.3s"
    },
    {
     "name": "stdout",
     "output_type": "stream",
     "text": "\r[#######################                                                                   ] | 26% Completed | 29.4s"
    },
    {
     "name": "stdout",
     "output_type": "stream",
     "text": "\r[########################                                                                  ] | 26% Completed | 29.5s"
    },
    {
     "name": "stdout",
     "output_type": "stream",
     "text": "\r[########################                                                                  ] | 26% Completed | 29.6s"
    },
    {
     "name": "stdout",
     "output_type": "stream",
     "text": "\r[########################                                                                  ] | 26% Completed | 29.7s"
    },
    {
     "name": "stdout",
     "output_type": "stream",
     "text": "\r[########################                                                                  ] | 27% Completed | 29.8s"
    },
    {
     "name": "stdout",
     "output_type": "stream",
     "text": "\r[########################                                                                  ] | 27% Completed | 29.9s"
    },
    {
     "name": "stdout",
     "output_type": "stream",
     "text": "\r[########################                                                                  ] | 27% Completed | 30.0s"
    },
    {
     "name": "stdout",
     "output_type": "stream",
     "text": "\r[########################                                                                  ] | 27% Completed | 30.1s"
    },
    {
     "name": "stdout",
     "output_type": "stream",
     "text": "\r[########################                                                                  ] | 27% Completed | 30.3s"
    },
    {
     "name": "stdout",
     "output_type": "stream",
     "text": "\r[########################                                                                  ] | 27% Completed | 30.4s"
    },
    {
     "name": "stdout",
     "output_type": "stream",
     "text": "\r[########################                                                                  ] | 27% Completed | 30.5s"
    },
    {
     "name": "stdout",
     "output_type": "stream",
     "text": "\r[#########################                                                                 ] | 27% Completed | 30.6s"
    },
    {
     "name": "stdout",
     "output_type": "stream",
     "text": "\r[#########################                                                                 ] | 27% Completed | 30.7s"
    },
    {
     "name": "stdout",
     "output_type": "stream",
     "text": "\r[#########################                                                                 ] | 28% Completed | 30.8s"
    },
    {
     "name": "stdout",
     "output_type": "stream",
     "text": "\r[#########################                                                                 ] | 28% Completed | 30.9s"
    },
    {
     "name": "stdout",
     "output_type": "stream",
     "text": "\r[#########################                                                                 ] | 28% Completed | 31.0s"
    },
    {
     "name": "stdout",
     "output_type": "stream",
     "text": "\r[#########################                                                                 ] | 28% Completed | 31.1s"
    },
    {
     "name": "stdout",
     "output_type": "stream",
     "text": "\r[#########################                                                                 ] | 28% Completed | 31.2s"
    },
    {
     "name": "stdout",
     "output_type": "stream",
     "text": "\r[#########################                                                                 ] | 28% Completed | 31.3s"
    },
    {
     "name": "stdout",
     "output_type": "stream",
     "text": "\r[#########################                                                                 ] | 28% Completed | 31.4s"
    },
    {
     "name": "stdout",
     "output_type": "stream",
     "text": "\r[#########################                                                                 ] | 28% Completed | 31.6s"
    },
    {
     "name": "stdout",
     "output_type": "stream",
     "text": "\r[##########################                                                                ] | 28% Completed | 31.7s"
    },
    {
     "name": "stdout",
     "output_type": "stream",
     "text": "\r[##########################                                                                ] | 29% Completed | 31.8s"
    },
    {
     "name": "stdout",
     "output_type": "stream",
     "text": "\r[##########################                                                                ] | 29% Completed | 31.9s"
    },
    {
     "name": "stdout",
     "output_type": "stream",
     "text": "\r[##########################                                                                ] | 29% Completed | 32.0s"
    },
    {
     "name": "stdout",
     "output_type": "stream",
     "text": "\r[##########################                                                                ] | 29% Completed | 32.1s"
    },
    {
     "name": "stdout",
     "output_type": "stream",
     "text": "\r[##########################                                                                ] | 29% Completed | 32.2s"
    },
    {
     "name": "stdout",
     "output_type": "stream",
     "text": "\r[##########################                                                                ] | 29% Completed | 32.3s"
    },
    {
     "name": "stdout",
     "output_type": "stream",
     "text": "\r[##########################                                                                ] | 29% Completed | 32.4s"
    },
    {
     "name": "stdout",
     "output_type": "stream",
     "text": "\r[##########################                                                                ] | 29% Completed | 32.5s"
    },
    {
     "name": "stdout",
     "output_type": "stream",
     "text": "\r[##########################                                                                ] | 29% Completed | 32.6s"
    },
    {
     "name": "stdout",
     "output_type": "stream",
     "text": "\r[###########################                                                               ] | 30% Completed | 32.7s"
    },
    {
     "name": "stdout",
     "output_type": "stream",
     "text": "\r[###########################                                                               ] | 30% Completed | 32.8s"
    },
    {
     "name": "stdout",
     "output_type": "stream",
     "text": "\r[###########################                                                               ] | 30% Completed | 33.0s"
    },
    {
     "name": "stdout",
     "output_type": "stream",
     "text": "\r[###########################                                                               ] | 30% Completed | 33.1s"
    },
    {
     "name": "stdout",
     "output_type": "stream",
     "text": "\r[###########################                                                               ] | 30% Completed | 33.2s"
    },
    {
     "name": "stdout",
     "output_type": "stream",
     "text": "\r[###########################                                                               ] | 30% Completed | 33.3s"
    },
    {
     "name": "stdout",
     "output_type": "stream",
     "text": "\r[###########################                                                               ] | 30% Completed | 33.4s"
    },
    {
     "name": "stdout",
     "output_type": "stream",
     "text": "\r[###########################                                                               ] | 30% Completed | 33.5s"
    },
    {
     "name": "stdout",
     "output_type": "stream",
     "text": "\r[###########################                                                               ] | 30% Completed | 33.6s"
    },
    {
     "name": "stdout",
     "output_type": "stream",
     "text": "\r[###########################                                                               ] | 30% Completed | 33.7s"
    },
    {
     "name": "stdout",
     "output_type": "stream",
     "text": "\r[###########################                                                               ] | 31% Completed | 33.8s"
    },
    {
     "name": "stdout",
     "output_type": "stream",
     "text": "\r[############################                                                              ] | 31% Completed | 33.9s"
    },
    {
     "name": "stdout",
     "output_type": "stream",
     "text": "\r[############################                                                              ] | 31% Completed | 34.0s"
    },
    {
     "name": "stdout",
     "output_type": "stream",
     "text": "\r[############################                                                              ] | 31% Completed | 34.1s"
    },
    {
     "name": "stdout",
     "output_type": "stream",
     "text": "\r[############################                                                              ] | 31% Completed | 34.2s"
    },
    {
     "name": "stdout",
     "output_type": "stream",
     "text": "\r[############################                                                              ] | 31% Completed | 34.5s"
    },
    {
     "name": "stdout",
     "output_type": "stream",
     "text": "\r[############################                                                              ] | 31% Completed | 34.6s"
    },
    {
     "name": "stdout",
     "output_type": "stream",
     "text": "\r[############################                                                              ] | 31% Completed | 34.7s"
    },
    {
     "name": "stdout",
     "output_type": "stream",
     "text": "\r[############################                                                              ] | 31% Completed | 34.8s"
    },
    {
     "name": "stdout",
     "output_type": "stream",
     "text": "\r[############################                                                              ] | 31% Completed | 34.9s"
    },
    {
     "name": "stdout",
     "output_type": "stream",
     "text": "\r[############################                                                              ] | 32% Completed | 35.0s"
    },
    {
     "name": "stdout",
     "output_type": "stream",
     "text": "\r[############################                                                              ] | 32% Completed | 35.1s"
    },
    {
     "name": "stdout",
     "output_type": "stream",
     "text": "\r[#############################                                                             ] | 32% Completed | 35.2s"
    },
    {
     "name": "stdout",
     "output_type": "stream",
     "text": "\r[#############################                                                             ] | 32% Completed | 35.3s"
    },
    {
     "name": "stdout",
     "output_type": "stream",
     "text": "\r[#############################                                                             ] | 32% Completed | 35.4s"
    },
    {
     "name": "stdout",
     "output_type": "stream",
     "text": "\r[#############################                                                             ] | 32% Completed | 35.5s"
    },
    {
     "name": "stdout",
     "output_type": "stream",
     "text": "\r[#############################                                                             ] | 32% Completed | 35.6s"
    },
    {
     "name": "stdout",
     "output_type": "stream",
     "text": "\r[#############################                                                             ] | 32% Completed | 35.8s"
    },
    {
     "name": "stdout",
     "output_type": "stream",
     "text": "\r[#############################                                                             ] | 32% Completed | 35.9s"
    },
    {
     "name": "stdout",
     "output_type": "stream",
     "text": "\r[#############################                                                             ] | 32% Completed | 36.0s"
    },
    {
     "name": "stdout",
     "output_type": "stream",
     "text": "\r[#############################                                                             ] | 33% Completed | 36.1s"
    },
    {
     "name": "stdout",
     "output_type": "stream",
     "text": "\r[#############################                                                             ] | 33% Completed | 36.2s"
    },
    {
     "name": "stdout",
     "output_type": "stream",
     "text": "\r[#############################                                                             ] | 33% Completed | 36.3s"
    },
    {
     "name": "stdout",
     "output_type": "stream",
     "text": "\r[##############################                                                            ] | 33% Completed | 36.4s"
    },
    {
     "name": "stdout",
     "output_type": "stream",
     "text": "\r[##############################                                                            ] | 33% Completed | 36.5s"
    },
    {
     "name": "stdout",
     "output_type": "stream",
     "text": "\r[##############################                                                            ] | 33% Completed | 36.6s"
    },
    {
     "name": "stdout",
     "output_type": "stream",
     "text": "\r[##############################                                                            ] | 33% Completed | 36.7s"
    },
    {
     "name": "stdout",
     "output_type": "stream",
     "text": "\r[##############################                                                            ] | 33% Completed | 36.8s"
    },
    {
     "name": "stdout",
     "output_type": "stream",
     "text": "\r[##############################                                                            ] | 33% Completed | 36.9s"
    },
    {
     "name": "stdout",
     "output_type": "stream",
     "text": "\r[##############################                                                            ] | 34% Completed | 37.0s"
    },
    {
     "name": "stdout",
     "output_type": "stream",
     "text": "\r[##############################                                                            ] | 34% Completed | 37.2s"
    },
    {
     "name": "stdout",
     "output_type": "stream",
     "text": "\r[##############################                                                            ] | 34% Completed | 37.3s"
    },
    {
     "name": "stdout",
     "output_type": "stream",
     "text": "\r[##############################                                                            ] | 34% Completed | 37.4s"
    },
    {
     "name": "stdout",
     "output_type": "stream",
     "text": "\r[##############################                                                            ] | 34% Completed | 37.5s"
    },
    {
     "name": "stdout",
     "output_type": "stream",
     "text": "\r[###############################                                                           ] | 34% Completed | 37.6s"
    },
    {
     "name": "stdout",
     "output_type": "stream",
     "text": "\r[###############################                                                           ] | 34% Completed | 37.7s"
    },
    {
     "name": "stdout",
     "output_type": "stream",
     "text": "\r[###############################                                                           ] | 34% Completed | 37.8s"
    },
    {
     "name": "stdout",
     "output_type": "stream",
     "text": "\r[###############################                                                           ] | 34% Completed | 37.9s"
    },
    {
     "name": "stdout",
     "output_type": "stream",
     "text": "\r[###############################                                                           ] | 34% Completed | 38.0s"
    },
    {
     "name": "stdout",
     "output_type": "stream",
     "text": "\r[###############################                                                           ] | 35% Completed | 38.1s"
    },
    {
     "name": "stdout",
     "output_type": "stream",
     "text": "\r[###############################                                                           ] | 35% Completed | 38.2s"
    },
    {
     "name": "stdout",
     "output_type": "stream",
     "text": "\r[###############################                                                           ] | 35% Completed | 38.4s"
    },
    {
     "name": "stdout",
     "output_type": "stream",
     "text": "\r[###############################                                                           ] | 35% Completed | 38.5s"
    },
    {
     "name": "stdout",
     "output_type": "stream",
     "text": "\r[###############################                                                           ] | 35% Completed | 38.6s"
    },
    {
     "name": "stdout",
     "output_type": "stream",
     "text": "\r[################################                                                          ] | 35% Completed | 38.7s"
    },
    {
     "name": "stdout",
     "output_type": "stream",
     "text": "\r[################################                                                          ] | 35% Completed | 38.8s"
    },
    {
     "name": "stdout",
     "output_type": "stream",
     "text": "\r[################################                                                          ] | 35% Completed | 38.9s"
    },
    {
     "name": "stdout",
     "output_type": "stream",
     "text": "\r[################################                                                          ] | 35% Completed | 39.0s"
    },
    {
     "name": "stdout",
     "output_type": "stream",
     "text": "\r[################################                                                          ] | 35% Completed | 39.1s"
    },
    {
     "name": "stdout",
     "output_type": "stream",
     "text": "\r[################################                                                          ] | 36% Completed | 39.2s"
    },
    {
     "name": "stdout",
     "output_type": "stream",
     "text": "\r[################################                                                          ] | 36% Completed | 39.3s"
    },
    {
     "name": "stdout",
     "output_type": "stream",
     "text": "\r[################################                                                          ] | 36% Completed | 39.4s"
    },
    {
     "name": "stdout",
     "output_type": "stream",
     "text": "\r[################################                                                          ] | 36% Completed | 39.5s"
    },
    {
     "name": "stdout",
     "output_type": "stream",
     "text": "\r[################################                                                          ] | 36% Completed | 39.6s"
    },
    {
     "name": "stdout",
     "output_type": "stream",
     "text": "\r[################################                                                          ] | 36% Completed | 39.8s"
    },
    {
     "name": "stdout",
     "output_type": "stream",
     "text": "\r[#################################                                                         ] | 36% Completed | 39.9s"
    },
    {
     "name": "stdout",
     "output_type": "stream",
     "text": "\r[#################################                                                         ] | 36% Completed | 40.0s"
    },
    {
     "name": "stdout",
     "output_type": "stream",
     "text": "\r[#################################                                                         ] | 36% Completed | 40.1s"
    },
    {
     "name": "stdout",
     "output_type": "stream",
     "text": "\r[#################################                                                         ] | 36% Completed | 40.2s"
    },
    {
     "name": "stdout",
     "output_type": "stream",
     "text": "\r[#################################                                                         ] | 37% Completed | 40.3s"
    },
    {
     "name": "stdout",
     "output_type": "stream",
     "text": "\r[#################################                                                         ] | 37% Completed | 40.4s"
    },
    {
     "name": "stdout",
     "output_type": "stream",
     "text": "\r[#################################                                                         ] | 37% Completed | 40.5s"
    },
    {
     "name": "stdout",
     "output_type": "stream",
     "text": "\r[#################################                                                         ] | 37% Completed | 40.6s"
    },
    {
     "name": "stdout",
     "output_type": "stream",
     "text": "\r[#################################                                                         ] | 37% Completed | 40.7s"
    },
    {
     "name": "stdout",
     "output_type": "stream",
     "text": "\r[#################################                                                         ] | 37% Completed | 40.8s"
    },
    {
     "name": "stdout",
     "output_type": "stream",
     "text": "\r[#################################                                                         ] | 37% Completed | 40.9s"
    },
    {
     "name": "stdout",
     "output_type": "stream",
     "text": "\r[#################################                                                         ] | 37% Completed | 41.0s"
    },
    {
     "name": "stdout",
     "output_type": "stream",
     "text": "\r[##################################                                                        ] | 37% Completed | 41.2s"
    },
    {
     "name": "stdout",
     "output_type": "stream",
     "text": "\r[##################################                                                        ] | 37% Completed | 41.3s"
    },
    {
     "name": "stdout",
     "output_type": "stream",
     "text": "\r[##################################                                                        ] | 38% Completed | 41.4s"
    },
    {
     "name": "stdout",
     "output_type": "stream",
     "text": "\r[##################################                                                        ] | 38% Completed | 41.5s"
    },
    {
     "name": "stdout",
     "output_type": "stream",
     "text": "\r[##################################                                                        ] | 38% Completed | 41.6s"
    },
    {
     "name": "stdout",
     "output_type": "stream",
     "text": "\r[##################################                                                        ] | 38% Completed | 41.7s"
    },
    {
     "name": "stdout",
     "output_type": "stream",
     "text": "\r[##################################                                                        ] | 38% Completed | 41.8s"
    },
    {
     "name": "stdout",
     "output_type": "stream",
     "text": "\r[##################################                                                        ] | 38% Completed | 41.9s"
    },
    {
     "name": "stdout",
     "output_type": "stream",
     "text": "\r[##################################                                                        ] | 38% Completed | 42.0s"
    },
    {
     "name": "stdout",
     "output_type": "stream",
     "text": "\r[##################################                                                        ] | 38% Completed | 42.1s"
    },
    {
     "name": "stdout",
     "output_type": "stream",
     "text": "\r[##################################                                                        ] | 38% Completed | 42.2s"
    },
    {
     "name": "stdout",
     "output_type": "stream",
     "text": "\r[###################################                                                       ] | 38% Completed | 42.3s"
    },
    {
     "name": "stdout",
     "output_type": "stream",
     "text": "\r[###################################                                                       ] | 39% Completed | 42.4s"
    },
    {
     "name": "stdout",
     "output_type": "stream",
     "text": "\r[###################################                                                       ] | 39% Completed | 42.5s"
    },
    {
     "name": "stdout",
     "output_type": "stream",
     "text": "\r[###################################                                                       ] | 39% Completed | 42.7s"
    },
    {
     "name": "stdout",
     "output_type": "stream",
     "text": "\r[###################################                                                       ] | 39% Completed | 42.8s"
    },
    {
     "name": "stdout",
     "output_type": "stream",
     "text": "\r[###################################                                                       ] | 39% Completed | 42.9s"
    },
    {
     "name": "stdout",
     "output_type": "stream",
     "text": "\r[###################################                                                       ] | 39% Completed | 43.0s"
    },
    {
     "name": "stdout",
     "output_type": "stream",
     "text": "\r[###################################                                                       ] | 39% Completed | 43.1s"
    },
    {
     "name": "stdout",
     "output_type": "stream",
     "text": "\r[###################################                                                       ] | 39% Completed | 43.2s"
    },
    {
     "name": "stdout",
     "output_type": "stream",
     "text": "\r[###################################                                                       ] | 39% Completed | 43.3s"
    },
    {
     "name": "stdout",
     "output_type": "stream",
     "text": "\r[###################################                                                       ] | 39% Completed | 43.4s"
    },
    {
     "name": "stdout",
     "output_type": "stream",
     "text": "\r[###################################                                                       ] | 39% Completed | 43.5s"
    },
    {
     "name": "stdout",
     "output_type": "stream",
     "text": "\r[####################################                                                      ] | 40% Completed | 43.7s"
    },
    {
     "name": "stdout",
     "output_type": "stream",
     "text": "\r[####################################                                                      ] | 40% Completed | 43.8s"
    },
    {
     "name": "stdout",
     "output_type": "stream",
     "text": "\r[####################################                                                      ] | 40% Completed | 43.9s"
    },
    {
     "name": "stdout",
     "output_type": "stream",
     "text": "\r[####################################                                                      ] | 40% Completed | 44.0s"
    },
    {
     "name": "stdout",
     "output_type": "stream",
     "text": "\r[####################################                                                      ] | 40% Completed | 44.1s"
    },
    {
     "name": "stdout",
     "output_type": "stream",
     "text": "\r[####################################                                                      ] | 40% Completed | 44.2s"
    },
    {
     "name": "stdout",
     "output_type": "stream",
     "text": "\r[####################################                                                      ] | 40% Completed | 44.3s"
    },
    {
     "name": "stdout",
     "output_type": "stream",
     "text": "\r[####################################                                                      ] | 40% Completed | 44.4s"
    },
    {
     "name": "stdout",
     "output_type": "stream",
     "text": "\r[####################################                                                      ] | 40% Completed | 44.5s"
    },
    {
     "name": "stdout",
     "output_type": "stream",
     "text": "\r[####################################                                                      ] | 40% Completed | 44.6s"
    },
    {
     "name": "stdout",
     "output_type": "stream",
     "text": "\r[####################################                                                      ] | 41% Completed | 44.7s"
    },
    {
     "name": "stdout",
     "output_type": "stream",
     "text": "\r[#####################################                                                     ] | 41% Completed | 44.8s"
    },
    {
     "name": "stdout",
     "output_type": "stream",
     "text": "\r[#####################################                                                     ] | 41% Completed | 44.9s"
    },
    {
     "name": "stdout",
     "output_type": "stream",
     "text": "\r[#####################################                                                     ] | 41% Completed | 45.1s"
    },
    {
     "name": "stdout",
     "output_type": "stream",
     "text": "\r[#####################################                                                     ] | 41% Completed | 45.2s"
    },
    {
     "name": "stdout",
     "output_type": "stream",
     "text": "\r[#####################################                                                     ] | 41% Completed | 45.3s"
    },
    {
     "name": "stdout",
     "output_type": "stream",
     "text": "\r[#####################################                                                     ] | 41% Completed | 45.4s"
    },
    {
     "name": "stdout",
     "output_type": "stream",
     "text": "\r[#####################################                                                     ] | 41% Completed | 45.5s"
    },
    {
     "name": "stdout",
     "output_type": "stream",
     "text": "\r[#####################################                                                     ] | 41% Completed | 45.6s"
    },
    {
     "name": "stdout",
     "output_type": "stream",
     "text": "\r[#####################################                                                     ] | 42% Completed | 45.7s"
    },
    {
     "name": "stdout",
     "output_type": "stream",
     "text": "\r[#####################################                                                     ] | 42% Completed | 45.8s"
    },
    {
     "name": "stdout",
     "output_type": "stream",
     "text": "\r[######################################                                                    ] | 42% Completed | 45.9s"
    },
    {
     "name": "stdout",
     "output_type": "stream",
     "text": "\r[######################################                                                    ] | 42% Completed | 46.0s"
    },
    {
     "name": "stdout",
     "output_type": "stream",
     "text": "\r[######################################                                                    ] | 42% Completed | 46.1s"
    },
    {
     "name": "stdout",
     "output_type": "stream",
     "text": "\r[######################################                                                    ] | 42% Completed | 46.2s"
    },
    {
     "name": "stdout",
     "output_type": "stream",
     "text": "\r[######################################                                                    ] | 42% Completed | 46.3s"
    },
    {
     "name": "stdout",
     "output_type": "stream",
     "text": "\r[######################################                                                    ] | 42% Completed | 46.4s"
    },
    {
     "name": "stdout",
     "output_type": "stream",
     "text": "\r[######################################                                                    ] | 42% Completed | 46.6s"
    },
    {
     "name": "stdout",
     "output_type": "stream",
     "text": "\r[######################################                                                    ] | 42% Completed | 46.7s"
    },
    {
     "name": "stdout",
     "output_type": "stream",
     "text": "\r[######################################                                                    ] | 43% Completed | 46.8s"
    },
    {
     "name": "stdout",
     "output_type": "stream",
     "text": "\r[######################################                                                    ] | 43% Completed | 46.9s"
    },
    {
     "name": "stdout",
     "output_type": "stream",
     "text": "\r[######################################                                                    ] | 43% Completed | 47.0s"
    },
    {
     "name": "stdout",
     "output_type": "stream",
     "text": "\r[#######################################                                                   ] | 43% Completed | 47.1s"
    },
    {
     "name": "stdout",
     "output_type": "stream",
     "text": "\r[#######################################                                                   ] | 43% Completed | 47.2s"
    },
    {
     "name": "stdout",
     "output_type": "stream",
     "text": "\r[#######################################                                                   ] | 43% Completed | 47.3s"
    },
    {
     "name": "stdout",
     "output_type": "stream",
     "text": "\r[#######################################                                                   ] | 43% Completed | 47.4s"
    },
    {
     "name": "stdout",
     "output_type": "stream",
     "text": "\r[#######################################                                                   ] | 43% Completed | 47.5s"
    },
    {
     "name": "stdout",
     "output_type": "stream",
     "text": "\r[#######################################                                                   ] | 43% Completed | 47.6s"
    },
    {
     "name": "stdout",
     "output_type": "stream",
     "text": "\r[#######################################                                                   ] | 44% Completed | 47.7s"
    },
    {
     "name": "stdout",
     "output_type": "stream",
     "text": "\r[#######################################                                                   ] | 44% Completed | 47.8s"
    },
    {
     "name": "stdout",
     "output_type": "stream",
     "text": "\r[#######################################                                                   ] | 44% Completed | 48.0s"
    },
    {
     "name": "stdout",
     "output_type": "stream",
     "text": "\r[#######################################                                                   ] | 44% Completed | 48.1s"
    },
    {
     "name": "stdout",
     "output_type": "stream",
     "text": "\r[########################################                                                  ] | 44% Completed | 48.2s"
    },
    {
     "name": "stdout",
     "output_type": "stream",
     "text": "\r[########################################                                                  ] | 44% Completed | 48.3s"
    },
    {
     "name": "stdout",
     "output_type": "stream",
     "text": "\r[########################################                                                  ] | 44% Completed | 48.4s"
    },
    {
     "name": "stdout",
     "output_type": "stream",
     "text": "\r[########################################                                                  ] | 44% Completed | 48.5s"
    },
    {
     "name": "stdout",
     "output_type": "stream",
     "text": "\r[########################################                                                  ] | 44% Completed | 48.6s"
    },
    {
     "name": "stdout",
     "output_type": "stream",
     "text": "\r[########################################                                                  ] | 45% Completed | 48.7s"
    },
    {
     "name": "stdout",
     "output_type": "stream",
     "text": "\r[########################################                                                  ] | 45% Completed | 48.8s"
    },
    {
     "name": "stdout",
     "output_type": "stream",
     "text": "\r[########################################                                                  ] | 45% Completed | 48.9s"
    },
    {
     "name": "stdout",
     "output_type": "stream",
     "text": "\r[########################################                                                  ] | 45% Completed | 49.0s"
    },
    {
     "name": "stdout",
     "output_type": "stream",
     "text": "\r[########################################                                                  ] | 45% Completed | 49.1s"
    },
    {
     "name": "stdout",
     "output_type": "stream",
     "text": "\r[#########################################                                                 ] | 45% Completed | 49.3s"
    },
    {
     "name": "stdout",
     "output_type": "stream",
     "text": "\r[#########################################                                                 ] | 45% Completed | 49.4s"
    },
    {
     "name": "stdout",
     "output_type": "stream",
     "text": "\r[#########################################                                                 ] | 45% Completed | 49.5s"
    },
    {
     "name": "stdout",
     "output_type": "stream",
     "text": "\r[#########################################                                                 ] | 45% Completed | 49.6s"
    },
    {
     "name": "stdout",
     "output_type": "stream",
     "text": "\r[#########################################                                                 ] | 46% Completed | 49.7s"
    },
    {
     "name": "stdout",
     "output_type": "stream",
     "text": "\r[#########################################                                                 ] | 46% Completed | 49.8s"
    },
    {
     "name": "stdout",
     "output_type": "stream",
     "text": "\r[#########################################                                                 ] | 46% Completed | 49.9s"
    },
    {
     "name": "stdout",
     "output_type": "stream",
     "text": "\r[#########################################                                                 ] | 46% Completed | 50.0s"
    },
    {
     "name": "stdout",
     "output_type": "stream",
     "text": "\r[#########################################                                                 ] | 46% Completed | 50.1s"
    },
    {
     "name": "stdout",
     "output_type": "stream",
     "text": "\r[#########################################                                                 ] | 46% Completed | 50.2s"
    },
    {
     "name": "stdout",
     "output_type": "stream",
     "text": "\r[##########################################                                                ] | 46% Completed | 50.3s"
    },
    {
     "name": "stdout",
     "output_type": "stream",
     "text": "\r[##########################################                                                ] | 46% Completed | 50.4s"
    },
    {
     "name": "stdout",
     "output_type": "stream",
     "text": "\r[##########################################                                                ] | 46% Completed | 50.5s"
    },
    {
     "name": "stdout",
     "output_type": "stream",
     "text": "\r[##########################################                                                ] | 46% Completed | 50.6s"
    },
    {
     "name": "stdout",
     "output_type": "stream",
     "text": "\r[##########################################                                                ] | 47% Completed | 50.7s"
    },
    {
     "name": "stdout",
     "output_type": "stream",
     "text": "\r[##########################################                                                ] | 47% Completed | 50.9s"
    },
    {
     "name": "stdout",
     "output_type": "stream",
     "text": "\r[##########################################                                                ] | 47% Completed | 51.0s"
    },
    {
     "name": "stdout",
     "output_type": "stream",
     "text": "\r[##########################################                                                ] | 47% Completed | 51.1s"
    },
    {
     "name": "stdout",
     "output_type": "stream",
     "text": "\r[##########################################                                                ] | 47% Completed | 51.2s"
    },
    {
     "name": "stdout",
     "output_type": "stream",
     "text": "\r[##########################################                                                ] | 47% Completed | 51.3s"
    },
    {
     "name": "stdout",
     "output_type": "stream",
     "text": "\r[##########################################                                                ] | 47% Completed | 51.4s"
    },
    {
     "name": "stdout",
     "output_type": "stream",
     "text": "\r[##########################################                                                ] | 47% Completed | 51.5s"
    },
    {
     "name": "stdout",
     "output_type": "stream",
     "text": "\r[###########################################                                               ] | 47% Completed | 51.6s"
    },
    {
     "name": "stdout",
     "output_type": "stream",
     "text": "\r[###########################################                                               ] | 47% Completed | 51.7s"
    },
    {
     "name": "stdout",
     "output_type": "stream",
     "text": "\r[###########################################                                               ] | 48% Completed | 51.8s"
    },
    {
     "name": "stdout",
     "output_type": "stream",
     "text": "\r[###########################################                                               ] | 48% Completed | 51.9s"
    },
    {
     "name": "stdout",
     "output_type": "stream",
     "text": "\r[###########################################                                               ] | 48% Completed | 52.0s"
    },
    {
     "name": "stdout",
     "output_type": "stream",
     "text": "\r[###########################################                                               ] | 48% Completed | 52.1s"
    },
    {
     "name": "stdout",
     "output_type": "stream",
     "text": "\r[###########################################                                               ] | 48% Completed | 52.2s"
    },
    {
     "name": "stdout",
     "output_type": "stream",
     "text": "\r[###########################################                                               ] | 48% Completed | 52.3s"
    },
    {
     "name": "stdout",
     "output_type": "stream",
     "text": "\r[###########################################                                               ] | 48% Completed | 52.5s"
    },
    {
     "name": "stdout",
     "output_type": "stream",
     "text": "\r[###########################################                                               ] | 48% Completed | 52.6s"
    },
    {
     "name": "stdout",
     "output_type": "stream",
     "text": "\r[###########################################                                               ] | 48% Completed | 52.7s"
    },
    {
     "name": "stdout",
     "output_type": "stream",
     "text": "\r[############################################                                              ] | 48% Completed | 52.8s"
    },
    {
     "name": "stdout",
     "output_type": "stream",
     "text": "\r[############################################                                              ] | 49% Completed | 52.9s"
    },
    {
     "name": "stdout",
     "output_type": "stream",
     "text": "\r[############################################                                              ] | 49% Completed | 53.0s"
    },
    {
     "name": "stdout",
     "output_type": "stream",
     "text": "\r[############################################                                              ] | 49% Completed | 53.1s"
    },
    {
     "name": "stdout",
     "output_type": "stream",
     "text": "\r[############################################                                              ] | 49% Completed | 53.2s"
    },
    {
     "name": "stdout",
     "output_type": "stream",
     "text": "\r[############################################                                              ] | 49% Completed | 53.3s"
    },
    {
     "name": "stdout",
     "output_type": "stream",
     "text": "\r[############################################                                              ] | 49% Completed | 53.4s"
    },
    {
     "name": "stdout",
     "output_type": "stream",
     "text": "\r[############################################                                              ] | 49% Completed | 53.5s"
    },
    {
     "name": "stdout",
     "output_type": "stream",
     "text": "\r[############################################                                              ] | 49% Completed | 53.6s"
    },
    {
     "name": "stdout",
     "output_type": "stream",
     "text": "\r[############################################                                              ] | 49% Completed | 53.7s"
    },
    {
     "name": "stdout",
     "output_type": "stream",
     "text": "\r[#############################################                                             ] | 50% Completed | 53.9s"
    },
    {
     "name": "stdout",
     "output_type": "stream",
     "text": "\r[#############################################                                             ] | 50% Completed | 54.0s"
    },
    {
     "name": "stdout",
     "output_type": "stream",
     "text": "\r[#############################################                                             ] | 50% Completed | 54.1s"
    },
    {
     "name": "stdout",
     "output_type": "stream",
     "text": "\r[#############################################                                             ] | 50% Completed | 54.2s"
    },
    {
     "name": "stdout",
     "output_type": "stream",
     "text": "\r[#############################################                                             ] | 50% Completed | 54.3s"
    },
    {
     "name": "stdout",
     "output_type": "stream",
     "text": "\r[#############################################                                             ] | 50% Completed | 54.4s"
    },
    {
     "name": "stdout",
     "output_type": "stream",
     "text": "\r[#############################################                                             ] | 50% Completed | 54.5s"
    },
    {
     "name": "stdout",
     "output_type": "stream",
     "text": "\r[#############################################                                             ] | 50% Completed | 54.6s"
    },
    {
     "name": "stdout",
     "output_type": "stream",
     "text": "\r[#############################################                                             ] | 50% Completed | 54.7s"
    },
    {
     "name": "stdout",
     "output_type": "stream",
     "text": "\r[#############################################                                             ] | 50% Completed | 54.8s"
    },
    {
     "name": "stdout",
     "output_type": "stream",
     "text": "\r[#############################################                                             ] | 51% Completed | 54.9s"
    },
    {
     "name": "stdout",
     "output_type": "stream",
     "text": "\r[##############################################                                            ] | 51% Completed | 55.0s"
    },
    {
     "name": "stdout",
     "output_type": "stream",
     "text": "\r[##############################################                                            ] | 51% Completed | 55.1s"
    },
    {
     "name": "stdout",
     "output_type": "stream",
     "text": "\r[##############################################                                            ] | 51% Completed | 55.2s"
    },
    {
     "name": "stdout",
     "output_type": "stream",
     "text": "\r[##############################################                                            ] | 51% Completed | 55.4s"
    },
    {
     "name": "stdout",
     "output_type": "stream",
     "text": "\r[##############################################                                            ] | 51% Completed | 55.5s"
    },
    {
     "name": "stdout",
     "output_type": "stream",
     "text": "\r[##############################################                                            ] | 51% Completed | 55.6s"
    },
    {
     "name": "stdout",
     "output_type": "stream",
     "text": "\r[##############################################                                            ] | 51% Completed | 55.7s"
    },
    {
     "name": "stdout",
     "output_type": "stream",
     "text": "\r[##############################################                                            ] | 51% Completed | 55.8s"
    },
    {
     "name": "stdout",
     "output_type": "stream",
     "text": "\r[##############################################                                            ] | 51% Completed | 55.9s"
    },
    {
     "name": "stdout",
     "output_type": "stream",
     "text": "\r[##############################################                                            ] | 52% Completed | 56.0s"
    },
    {
     "name": "stdout",
     "output_type": "stream",
     "text": "\r[##############################################                                            ] | 52% Completed | 56.1s"
    },
    {
     "name": "stdout",
     "output_type": "stream",
     "text": "\r[###############################################                                           ] | 52% Completed | 56.2s"
    },
    {
     "name": "stdout",
     "output_type": "stream",
     "text": "\r[###############################################                                           ] | 52% Completed | 56.3s"
    },
    {
     "name": "stdout",
     "output_type": "stream",
     "text": "\r[###############################################                                           ] | 52% Completed | 56.4s"
    },
    {
     "name": "stdout",
     "output_type": "stream",
     "text": "\r[###############################################                                           ] | 52% Completed | 56.6s"
    },
    {
     "name": "stdout",
     "output_type": "stream",
     "text": "\r[###############################################                                           ] | 52% Completed | 56.7s"
    },
    {
     "name": "stdout",
     "output_type": "stream",
     "text": "\r[###############################################                                           ] | 52% Completed | 56.8s"
    },
    {
     "name": "stdout",
     "output_type": "stream",
     "text": "\r[###############################################                                           ] | 52% Completed | 56.9s"
    },
    {
     "name": "stdout",
     "output_type": "stream",
     "text": "\r[###############################################                                           ] | 52% Completed | 57.0s"
    },
    {
     "name": "stdout",
     "output_type": "stream",
     "text": "\r[###############################################                                           ] | 53% Completed | 57.1s"
    },
    {
     "name": "stdout",
     "output_type": "stream",
     "text": "\r[###############################################                                           ] | 53% Completed | 57.2s"
    },
    {
     "name": "stdout",
     "output_type": "stream",
     "text": "\r[###############################################                                           ] | 53% Completed | 57.3s"
    },
    {
     "name": "stdout",
     "output_type": "stream",
     "text": "\r[################################################                                          ] | 53% Completed | 57.4s"
    },
    {
     "name": "stdout",
     "output_type": "stream",
     "text": "\r[################################################                                          ] | 53% Completed | 57.5s"
    },
    {
     "name": "stdout",
     "output_type": "stream",
     "text": "\r[################################################                                          ] | 53% Completed | 57.6s"
    },
    {
     "name": "stdout",
     "output_type": "stream",
     "text": "\r[################################################                                          ] | 53% Completed | 57.8s"
    },
    {
     "name": "stdout",
     "output_type": "stream",
     "text": "\r[################################################                                          ] | 53% Completed | 57.9s"
    },
    {
     "name": "stdout",
     "output_type": "stream",
     "text": "\r[################################################                                          ] | 53% Completed | 58.0s"
    },
    {
     "name": "stdout",
     "output_type": "stream",
     "text": "\r[################################################                                          ] | 54% Completed | 58.1s"
    },
    {
     "name": "stdout",
     "output_type": "stream",
     "text": "\r[################################################                                          ] | 54% Completed | 58.2s"
    },
    {
     "name": "stdout",
     "output_type": "stream",
     "text": "\r[################################################                                          ] | 54% Completed | 58.3s"
    },
    {
     "name": "stdout",
     "output_type": "stream",
     "text": "\r[################################################                                          ] | 54% Completed | 58.4s"
    },
    {
     "name": "stdout",
     "output_type": "stream",
     "text": "\r[################################################                                          ] | 54% Completed | 58.5s"
    },
    {
     "name": "stdout",
     "output_type": "stream",
     "text": "\r[#################################################                                         ] | 54% Completed | 58.6s"
    },
    {
     "name": "stdout",
     "output_type": "stream",
     "text": "\r[#################################################                                         ] | 54% Completed | 58.7s"
    },
    {
     "name": "stdout",
     "output_type": "stream",
     "text": "\r[#################################################                                         ] | 54% Completed | 58.8s"
    },
    {
     "name": "stdout",
     "output_type": "stream",
     "text": "\r[#################################################                                         ] | 54% Completed | 58.9s"
    },
    {
     "name": "stdout",
     "output_type": "stream",
     "text": "\r[#################################################                                         ] | 54% Completed | 59.1s"
    },
    {
     "name": "stdout",
     "output_type": "stream",
     "text": "\r[#################################################                                         ] | 54% Completed | 59.2s"
    },
    {
     "name": "stdout",
     "output_type": "stream",
     "text": "\r[#################################################                                         ] | 55% Completed | 59.3s"
    },
    {
     "name": "stdout",
     "output_type": "stream",
     "text": "\r[#################################################                                         ] | 55% Completed | 59.4s"
    },
    {
     "name": "stdout",
     "output_type": "stream",
     "text": "\r[#################################################                                         ] | 55% Completed | 59.5s"
    },
    {
     "name": "stdout",
     "output_type": "stream",
     "text": "\r[#################################################                                         ] | 55% Completed | 59.6s"
    },
    {
     "name": "stdout",
     "output_type": "stream",
     "text": "\r[#################################################                                         ] | 55% Completed | 59.7s"
    },
    {
     "name": "stdout",
     "output_type": "stream",
     "text": "\r[##################################################                                        ] | 55% Completed | 59.8s"
    },
    {
     "name": "stdout",
     "output_type": "stream",
     "text": "\r[##################################################                                        ] | 55% Completed | 59.9s"
    },
    {
     "name": "stdout",
     "output_type": "stream",
     "text": "\r[##################################################                                        ] | 55% Completed |  1min  0.0s"
    },
    {
     "name": "stdout",
     "output_type": "stream",
     "text": "\r[##################################################                                        ] | 55% Completed |  1min  0.1s"
    },
    {
     "name": "stdout",
     "output_type": "stream",
     "text": "\r[##################################################                                        ] | 56% Completed |  1min  0.2s"
    },
    {
     "name": "stdout",
     "output_type": "stream",
     "text": "\r[##################################################                                        ] | 56% Completed |  1min  0.4s"
    },
    {
     "name": "stdout",
     "output_type": "stream",
     "text": "\r[##################################################                                        ] | 56% Completed |  1min  0.5s"
    },
    {
     "name": "stdout",
     "output_type": "stream",
     "text": "\r[##################################################                                        ] | 56% Completed |  1min  0.6s"
    },
    {
     "name": "stdout",
     "output_type": "stream",
     "text": "\r[##################################################                                        ] | 56% Completed |  1min  0.7s"
    },
    {
     "name": "stdout",
     "output_type": "stream",
     "text": "\r[##################################################                                        ] | 56% Completed |  1min  0.8s"
    },
    {
     "name": "stdout",
     "output_type": "stream",
     "text": "\r[###################################################                                       ] | 56% Completed |  1min  0.9s"
    },
    {
     "name": "stdout",
     "output_type": "stream",
     "text": "\r[###################################################                                       ] | 56% Completed |  1min  1.0s"
    },
    {
     "name": "stdout",
     "output_type": "stream",
     "text": "\r[###################################################                                       ] | 56% Completed |  1min  1.1s"
    },
    {
     "name": "stdout",
     "output_type": "stream",
     "text": "\r[###################################################                                       ] | 57% Completed |  1min  1.2s"
    },
    {
     "name": "stdout",
     "output_type": "stream",
     "text": "\r[###################################################                                       ] | 57% Completed |  1min  1.3s"
    },
    {
     "name": "stdout",
     "output_type": "stream",
     "text": "\r[###################################################                                       ] | 57% Completed |  1min  1.4s"
    },
    {
     "name": "stdout",
     "output_type": "stream",
     "text": "\r[###################################################                                       ] | 57% Completed |  1min  1.5s"
    },
    {
     "name": "stdout",
     "output_type": "stream",
     "text": "\r[###################################################                                       ] | 57% Completed |  1min  1.6s"
    },
    {
     "name": "stdout",
     "output_type": "stream",
     "text": "\r[###################################################                                       ] | 57% Completed |  1min  1.7s"
    },
    {
     "name": "stdout",
     "output_type": "stream",
     "text": "\r[###################################################                                       ] | 57% Completed |  1min  1.8s"
    },
    {
     "name": "stdout",
     "output_type": "stream",
     "text": "\r[###################################################                                       ] | 57% Completed |  1min  2.0s"
    },
    {
     "name": "stdout",
     "output_type": "stream",
     "text": "\r[####################################################                                      ] | 57% Completed |  1min  2.1s"
    },
    {
     "name": "stdout",
     "output_type": "stream",
     "text": "\r[####################################################                                      ] | 57% Completed |  1min  2.2s"
    },
    {
     "name": "stdout",
     "output_type": "stream",
     "text": "\r[####################################################                                      ] | 58% Completed |  1min  2.3s"
    },
    {
     "name": "stdout",
     "output_type": "stream",
     "text": "\r[####################################################                                      ] | 58% Completed |  1min  2.4s"
    },
    {
     "name": "stdout",
     "output_type": "stream",
     "text": "\r[####################################################                                      ] | 58% Completed |  1min  2.5s"
    },
    {
     "name": "stdout",
     "output_type": "stream",
     "text": "\r[####################################################                                      ] | 58% Completed |  1min  2.6s"
    },
    {
     "name": "stdout",
     "output_type": "stream",
     "text": "\r[####################################################                                      ] | 58% Completed |  1min  2.7s"
    },
    {
     "name": "stdout",
     "output_type": "stream",
     "text": "\r[####################################################                                      ] | 58% Completed |  1min  2.8s"
    },
    {
     "name": "stdout",
     "output_type": "stream",
     "text": "\r[####################################################                                      ] | 58% Completed |  1min  2.9s"
    },
    {
     "name": "stdout",
     "output_type": "stream",
     "text": "\r[####################################################                                      ] | 58% Completed |  1min  3.0s"
    },
    {
     "name": "stdout",
     "output_type": "stream",
     "text": "\r[####################################################                                      ] | 58% Completed |  1min  3.2s"
    },
    {
     "name": "stdout",
     "output_type": "stream",
     "text": "\r[#####################################################                                     ] | 58% Completed |  1min  3.3s"
    },
    {
     "name": "stdout",
     "output_type": "stream",
     "text": "\r[#####################################################                                     ] | 59% Completed |  1min  3.4s"
    },
    {
     "name": "stdout",
     "output_type": "stream",
     "text": "\r[#####################################################                                     ] | 59% Completed |  1min  3.5s"
    },
    {
     "name": "stdout",
     "output_type": "stream",
     "text": "\r[#####################################################                                     ] | 59% Completed |  1min  3.6s"
    },
    {
     "name": "stdout",
     "output_type": "stream",
     "text": "\r[#####################################################                                     ] | 59% Completed |  1min  3.7s"
    },
    {
     "name": "stdout",
     "output_type": "stream",
     "text": "\r[#####################################################                                     ] | 59% Completed |  1min  3.8s"
    },
    {
     "name": "stdout",
     "output_type": "stream",
     "text": "\r[#####################################################                                     ] | 59% Completed |  1min  3.9s"
    },
    {
     "name": "stdout",
     "output_type": "stream",
     "text": "\r[#####################################################                                     ] | 59% Completed |  1min  4.0s"
    },
    {
     "name": "stdout",
     "output_type": "stream",
     "text": "\r[#####################################################                                     ] | 59% Completed |  1min  4.1s"
    },
    {
     "name": "stdout",
     "output_type": "stream",
     "text": "\r[#####################################################                                     ] | 59% Completed |  1min  4.2s"
    },
    {
     "name": "stdout",
     "output_type": "stream",
     "text": "\r[######################################################                                    ] | 60% Completed |  1min  4.3s"
    },
    {
     "name": "stdout",
     "output_type": "stream",
     "text": "\r[######################################################                                    ] | 60% Completed |  1min  4.4s"
    },
    {
     "name": "stdout",
     "output_type": "stream",
     "text": "\r[######################################################                                    ] | 60% Completed |  1min  4.6s"
    },
    {
     "name": "stdout",
     "output_type": "stream",
     "text": "\r[######################################################                                    ] | 60% Completed |  1min  4.7s"
    },
    {
     "name": "stdout",
     "output_type": "stream",
     "text": "\r[######################################################                                    ] | 60% Completed |  1min  4.8s"
    },
    {
     "name": "stdout",
     "output_type": "stream",
     "text": "\r[######################################################                                    ] | 60% Completed |  1min  4.9s"
    },
    {
     "name": "stdout",
     "output_type": "stream",
     "text": "\r[######################################################                                    ] | 60% Completed |  1min  5.0s"
    },
    {
     "name": "stdout",
     "output_type": "stream",
     "text": "\r[######################################################                                    ] | 60% Completed |  1min  5.1s"
    },
    {
     "name": "stdout",
     "output_type": "stream",
     "text": "\r[######################################################                                    ] | 60% Completed |  1min  5.2s"
    },
    {
     "name": "stdout",
     "output_type": "stream",
     "text": "\r[######################################################                                    ] | 60% Completed |  1min  5.3s"
    },
    {
     "name": "stdout",
     "output_type": "stream",
     "text": "\r[######################################################                                    ] | 61% Completed |  1min  5.4s"
    },
    {
     "name": "stdout",
     "output_type": "stream",
     "text": "\r[#######################################################                                   ] | 61% Completed |  1min  5.5s"
    },
    {
     "name": "stdout",
     "output_type": "stream",
     "text": "\r[#######################################################                                   ] | 61% Completed |  1min  5.6s"
    },
    {
     "name": "stdout",
     "output_type": "stream",
     "text": "\r[#######################################################                                   ] | 61% Completed |  1min  5.7s"
    },
    {
     "name": "stdout",
     "output_type": "stream",
     "text": "\r[#######################################################                                   ] | 61% Completed |  1min  5.8s"
    },
    {
     "name": "stdout",
     "output_type": "stream",
     "text": "\r[#######################################################                                   ] | 61% Completed |  1min  6.0s"
    },
    {
     "name": "stdout",
     "output_type": "stream",
     "text": "\r[#######################################################                                   ] | 61% Completed |  1min  6.1s"
    },
    {
     "name": "stdout",
     "output_type": "stream",
     "text": "\r[#######################################################                                   ] | 61% Completed |  1min  6.2s"
    },
    {
     "name": "stdout",
     "output_type": "stream",
     "text": "\r[#######################################################                                   ] | 61% Completed |  1min  6.3s"
    },
    {
     "name": "stdout",
     "output_type": "stream",
     "text": "\r[#######################################################                                   ] | 61% Completed |  1min  6.4s"
    },
    {
     "name": "stdout",
     "output_type": "stream",
     "text": "\r[#######################################################                                   ] | 62% Completed |  1min  6.5s"
    },
    {
     "name": "stdout",
     "output_type": "stream",
     "text": "\r[#######################################################                                   ] | 62% Completed |  1min  6.6s"
    },
    {
     "name": "stdout",
     "output_type": "stream",
     "text": "\r[########################################################                                  ] | 62% Completed |  1min  6.7s"
    },
    {
     "name": "stdout",
     "output_type": "stream",
     "text": "\r[########################################################                                  ] | 62% Completed |  1min  6.8s"
    },
    {
     "name": "stdout",
     "output_type": "stream",
     "text": "\r[########################################################                                  ] | 62% Completed |  1min  6.9s"
    },
    {
     "name": "stdout",
     "output_type": "stream",
     "text": "\r[########################################################                                  ] | 62% Completed |  1min  7.0s"
    },
    {
     "name": "stdout",
     "output_type": "stream",
     "text": "\r[########################################################                                  ] | 62% Completed |  1min  7.2s"
    },
    {
     "name": "stdout",
     "output_type": "stream",
     "text": "\r[########################################################                                  ] | 62% Completed |  1min  7.3s"
    },
    {
     "name": "stdout",
     "output_type": "stream",
     "text": "\r[########################################################                                  ] | 62% Completed |  1min  7.4s"
    },
    {
     "name": "stdout",
     "output_type": "stream",
     "text": "\r[########################################################                                  ] | 63% Completed |  1min  7.5s"
    },
    {
     "name": "stdout",
     "output_type": "stream",
     "text": "\r[########################################################                                  ] | 63% Completed |  1min  7.6s"
    },
    {
     "name": "stdout",
     "output_type": "stream",
     "text": "\r[########################################################                                  ] | 63% Completed |  1min  7.7s"
    },
    {
     "name": "stdout",
     "output_type": "stream",
     "text": "\r[#########################################################                                 ] | 63% Completed |  1min  7.8s"
    },
    {
     "name": "stdout",
     "output_type": "stream",
     "text": "\r[#########################################################                                 ] | 63% Completed |  1min  7.9s"
    },
    {
     "name": "stdout",
     "output_type": "stream",
     "text": "\r[#########################################################                                 ] | 63% Completed |  1min  8.0s"
    },
    {
     "name": "stdout",
     "output_type": "stream",
     "text": "\r[#########################################################                                 ] | 63% Completed |  1min  8.1s"
    },
    {
     "name": "stdout",
     "output_type": "stream",
     "text": "\r[#########################################################                                 ] | 63% Completed |  1min  8.2s"
    },
    {
     "name": "stdout",
     "output_type": "stream",
     "text": "\r[#########################################################                                 ] | 63% Completed |  1min  8.3s"
    },
    {
     "name": "stdout",
     "output_type": "stream",
     "text": "\r[#########################################################                                 ] | 64% Completed |  1min  8.5s"
    },
    {
     "name": "stdout",
     "output_type": "stream",
     "text": "\r[#########################################################                                 ] | 64% Completed |  1min  8.6s"
    },
    {
     "name": "stdout",
     "output_type": "stream",
     "text": "\r[#########################################################                                 ] | 64% Completed |  1min  8.7s"
    },
    {
     "name": "stdout",
     "output_type": "stream",
     "text": "\r[#########################################################                                 ] | 64% Completed |  1min  8.8s"
    },
    {
     "name": "stdout",
     "output_type": "stream",
     "text": "\r[##########################################################                                ] | 64% Completed |  1min  8.9s"
    },
    {
     "name": "stdout",
     "output_type": "stream",
     "text": "\r[##########################################################                                ] | 64% Completed |  1min  9.0s"
    },
    {
     "name": "stdout",
     "output_type": "stream",
     "text": "\r[##########################################################                                ] | 64% Completed |  1min  9.1s"
    },
    {
     "name": "stdout",
     "output_type": "stream",
     "text": "\r[##########################################################                                ] | 64% Completed |  1min  9.2s"
    },
    {
     "name": "stdout",
     "output_type": "stream",
     "text": "\r[##########################################################                                ] | 64% Completed |  1min  9.3s"
    },
    {
     "name": "stdout",
     "output_type": "stream",
     "text": "\r[##########################################################                                ] | 65% Completed |  1min  9.4s"
    },
    {
     "name": "stdout",
     "output_type": "stream",
     "text": "\r[##########################################################                                ] | 65% Completed |  1min  9.6s"
    },
    {
     "name": "stdout",
     "output_type": "stream",
     "text": "\r[##########################################################                                ] | 65% Completed |  1min  9.7s"
    },
    {
     "name": "stdout",
     "output_type": "stream",
     "text": "\r[##########################################################                                ] | 65% Completed |  1min  9.8s"
    },
    {
     "name": "stdout",
     "output_type": "stream",
     "text": "\r[##########################################################                                ] | 65% Completed |  1min  9.9s"
    },
    {
     "name": "stdout",
     "output_type": "stream",
     "text": "\r[##########################################################                                ] | 65% Completed |  1min 10.0s"
    },
    {
     "name": "stdout",
     "output_type": "stream",
     "text": "\r[###########################################################                               ] | 65% Completed |  1min 10.1s"
    },
    {
     "name": "stdout",
     "output_type": "stream",
     "text": "\r[###########################################################                               ] | 65% Completed |  1min 10.2s"
    },
    {
     "name": "stdout",
     "output_type": "stream",
     "text": "\r[###########################################################                               ] | 65% Completed |  1min 10.4s"
    },
    {
     "name": "stdout",
     "output_type": "stream",
     "text": "\r[###########################################################                               ] | 65% Completed |  1min 10.5s"
    },
    {
     "name": "stdout",
     "output_type": "stream",
     "text": "\r[###########################################################                               ] | 65% Completed |  1min 10.6s"
    },
    {
     "name": "stdout",
     "output_type": "stream",
     "text": "\r[###########################################################                               ] | 66% Completed |  1min 10.7s"
    },
    {
     "name": "stdout",
     "output_type": "stream",
     "text": "\r[###########################################################                               ] | 66% Completed |  1min 10.8s"
    },
    {
     "name": "stdout",
     "output_type": "stream",
     "text": "\r[###########################################################                               ] | 66% Completed |  1min 10.9s"
    },
    {
     "name": "stdout",
     "output_type": "stream",
     "text": "\r[###########################################################                               ] | 66% Completed |  1min 11.0s"
    },
    {
     "name": "stdout",
     "output_type": "stream",
     "text": "\r[###########################################################                               ] | 66% Completed |  1min 11.1s"
    },
    {
     "name": "stdout",
     "output_type": "stream",
     "text": "\r[###########################################################                               ] | 66% Completed |  1min 11.2s"
    },
    {
     "name": "stdout",
     "output_type": "stream",
     "text": "\r[############################################################                              ] | 66% Completed |  1min 11.3s"
    },
    {
     "name": "stdout",
     "output_type": "stream",
     "text": "\r[############################################################                              ] | 66% Completed |  1min 11.4s"
    },
    {
     "name": "stdout",
     "output_type": "stream",
     "text": "\r[############################################################                              ] | 66% Completed |  1min 11.5s"
    },
    {
     "name": "stdout",
     "output_type": "stream",
     "text": "\r[############################################################                              ] | 67% Completed |  1min 11.6s"
    },
    {
     "name": "stdout",
     "output_type": "stream",
     "text": "\r[############################################################                              ] | 67% Completed |  1min 11.8s"
    },
    {
     "name": "stdout",
     "output_type": "stream",
     "text": "\r[############################################################                              ] | 67% Completed |  1min 11.9s"
    },
    {
     "name": "stdout",
     "output_type": "stream",
     "text": "\r[############################################################                              ] | 67% Completed |  1min 12.0s"
    },
    {
     "name": "stdout",
     "output_type": "stream",
     "text": "\r[############################################################                              ] | 67% Completed |  1min 12.1s"
    },
    {
     "name": "stdout",
     "output_type": "stream",
     "text": "\r[############################################################                              ] | 67% Completed |  1min 12.2s"
    },
    {
     "name": "stdout",
     "output_type": "stream",
     "text": "\r[############################################################                              ] | 67% Completed |  1min 12.3s"
    },
    {
     "name": "stdout",
     "output_type": "stream",
     "text": "\r[#############################################################                             ] | 67% Completed |  1min 12.4s"
    },
    {
     "name": "stdout",
     "output_type": "stream",
     "text": "\r[#############################################################                             ] | 67% Completed |  1min 12.5s"
    },
    {
     "name": "stdout",
     "output_type": "stream",
     "text": "\r[#############################################################                             ] | 68% Completed |  1min 12.6s"
    },
    {
     "name": "stdout",
     "output_type": "stream",
     "text": "\r[#############################################################                             ] | 68% Completed |  1min 12.7s"
    },
    {
     "name": "stdout",
     "output_type": "stream",
     "text": "\r[#############################################################                             ] | 68% Completed |  1min 12.8s"
    },
    {
     "name": "stdout",
     "output_type": "stream",
     "text": "\r[#############################################################                             ] | 68% Completed |  1min 12.9s"
    },
    {
     "name": "stdout",
     "output_type": "stream",
     "text": "\r[#############################################################                             ] | 68% Completed |  1min 13.0s"
    },
    {
     "name": "stdout",
     "output_type": "stream",
     "text": "\r[#############################################################                             ] | 68% Completed |  1min 13.2s"
    },
    {
     "name": "stdout",
     "output_type": "stream",
     "text": "\r[#############################################################                             ] | 68% Completed |  1min 13.3s"
    },
    {
     "name": "stdout",
     "output_type": "stream",
     "text": "\r[#############################################################                             ] | 68% Completed |  1min 13.4s"
    },
    {
     "name": "stdout",
     "output_type": "stream",
     "text": "\r[#############################################################                             ] | 68% Completed |  1min 13.5s"
    },
    {
     "name": "stdout",
     "output_type": "stream",
     "text": "\r[#############################################################                             ] | 68% Completed |  1min 13.6s"
    },
    {
     "name": "stdout",
     "output_type": "stream",
     "text": "\r[##############################################################                            ] | 68% Completed |  1min 13.7s"
    },
    {
     "name": "stdout",
     "output_type": "stream",
     "text": "\r[##############################################################                            ] | 69% Completed |  1min 13.8s"
    },
    {
     "name": "stdout",
     "output_type": "stream",
     "text": "\r[##############################################################                            ] | 69% Completed |  1min 13.9s"
    },
    {
     "name": "stdout",
     "output_type": "stream",
     "text": "\r[##############################################################                            ] | 69% Completed |  1min 14.0s"
    },
    {
     "name": "stdout",
     "output_type": "stream",
     "text": "\r[##############################################################                            ] | 69% Completed |  1min 14.1s"
    },
    {
     "name": "stdout",
     "output_type": "stream",
     "text": "\r[##############################################################                            ] | 69% Completed |  1min 14.2s"
    },
    {
     "name": "stdout",
     "output_type": "stream",
     "text": "\r[##############################################################                            ] | 69% Completed |  1min 14.4s"
    },
    {
     "name": "stdout",
     "output_type": "stream",
     "text": "\r[##############################################################                            ] | 69% Completed |  1min 14.5s"
    },
    {
     "name": "stdout",
     "output_type": "stream",
     "text": "\r[##############################################################                            ] | 69% Completed |  1min 14.6s"
    },
    {
     "name": "stdout",
     "output_type": "stream",
     "text": "\r[##############################################################                            ] | 69% Completed |  1min 14.7s"
    },
    {
     "name": "stdout",
     "output_type": "stream",
     "text": "\r[##############################################################                            ] | 69% Completed |  1min 14.8s"
    },
    {
     "name": "stdout",
     "output_type": "stream",
     "text": "\r[##############################################################                            ] | 69% Completed |  1min 14.9s"
    },
    {
     "name": "stdout",
     "output_type": "stream",
     "text": "\r[##############################################################                            ] | 69% Completed |  1min 15.0s"
    },
    {
     "name": "stdout",
     "output_type": "stream",
     "text": "\r[##############################################################                            ] | 69% Completed |  1min 15.1s"
    },
    {
     "name": "stdout",
     "output_type": "stream",
     "text": "\r[###############################################################                           ] | 70% Completed |  1min 15.2s"
    },
    {
     "name": "stdout",
     "output_type": "stream",
     "text": "\r[###############################################################                           ] | 70% Completed |  1min 15.3s"
    },
    {
     "name": "stdout",
     "output_type": "stream",
     "text": "\r[###############################################################                           ] | 70% Completed |  1min 15.4s"
    },
    {
     "name": "stdout",
     "output_type": "stream",
     "text": "\r[###############################################################                           ] | 70% Completed |  1min 15.6s"
    },
    {
     "name": "stdout",
     "output_type": "stream",
     "text": "\r[###############################################################                           ] | 70% Completed |  1min 15.7s"
    },
    {
     "name": "stdout",
     "output_type": "stream",
     "text": "\r[###############################################################                           ] | 70% Completed |  1min 15.8s"
    },
    {
     "name": "stdout",
     "output_type": "stream",
     "text": "\r[###############################################################                           ] | 70% Completed |  1min 15.9s"
    },
    {
     "name": "stdout",
     "output_type": "stream",
     "text": "\r[###############################################################                           ] | 70% Completed |  1min 16.0s"
    },
    {
     "name": "stdout",
     "output_type": "stream",
     "text": "\r[###############################################################                           ] | 70% Completed |  1min 16.1s"
    },
    {
     "name": "stdout",
     "output_type": "stream",
     "text": "\r[###############################################################                           ] | 70% Completed |  1min 16.2s"
    },
    {
     "name": "stdout",
     "output_type": "stream",
     "text": "\r[###############################################################                           ] | 70% Completed |  1min 16.3s"
    },
    {
     "name": "stdout",
     "output_type": "stream",
     "text": "\r[###############################################################                           ] | 70% Completed |  1min 16.4s"
    },
    {
     "name": "stdout",
     "output_type": "stream",
     "text": "\r[###############################################################                           ] | 71% Completed |  1min 16.5s"
    },
    {
     "name": "stdout",
     "output_type": "stream",
     "text": "\r[################################################################                          ] | 71% Completed |  1min 16.6s"
    },
    {
     "name": "stdout",
     "output_type": "stream",
     "text": "\r[################################################################                          ] | 71% Completed |  1min 16.7s"
    },
    {
     "name": "stdout",
     "output_type": "stream",
     "text": "\r[################################################################                          ] | 71% Completed |  1min 16.8s"
    },
    {
     "name": "stdout",
     "output_type": "stream",
     "text": "\r[################################################################                          ] | 71% Completed |  1min 17.0s"
    },
    {
     "name": "stdout",
     "output_type": "stream",
     "text": "\r[################################################################                          ] | 71% Completed |  1min 17.1s"
    },
    {
     "name": "stdout",
     "output_type": "stream",
     "text": "\r[################################################################                          ] | 71% Completed |  1min 17.2s"
    },
    {
     "name": "stdout",
     "output_type": "stream",
     "text": "\r[################################################################                          ] | 71% Completed |  1min 17.3s"
    },
    {
     "name": "stdout",
     "output_type": "stream",
     "text": "\r[################################################################                          ] | 71% Completed |  1min 17.4s"
    },
    {
     "name": "stdout",
     "output_type": "stream",
     "text": "\r[################################################################                          ] | 71% Completed |  1min 17.5s"
    },
    {
     "name": "stdout",
     "output_type": "stream",
     "text": "\r[################################################################                          ] | 71% Completed |  1min 17.6s"
    },
    {
     "name": "stdout",
     "output_type": "stream",
     "text": "\r[################################################################                          ] | 72% Completed |  1min 17.7s"
    },
    {
     "name": "stdout",
     "output_type": "stream",
     "text": "\r[################################################################                          ] | 72% Completed |  1min 17.8s"
    },
    {
     "name": "stdout",
     "output_type": "stream",
     "text": "\r[#################################################################                         ] | 72% Completed |  1min 17.9s"
    },
    {
     "name": "stdout",
     "output_type": "stream",
     "text": "\r[#################################################################                         ] | 72% Completed |  1min 18.0s"
    },
    {
     "name": "stdout",
     "output_type": "stream",
     "text": "\r[#################################################################                         ] | 72% Completed |  1min 18.1s"
    },
    {
     "name": "stdout",
     "output_type": "stream",
     "text": "\r[#################################################################                         ] | 72% Completed |  1min 18.3s"
    },
    {
     "name": "stdout",
     "output_type": "stream",
     "text": "\r[#################################################################                         ] | 72% Completed |  1min 18.4s"
    },
    {
     "name": "stdout",
     "output_type": "stream",
     "text": "\r[#################################################################                         ] | 72% Completed |  1min 18.5s"
    },
    {
     "name": "stdout",
     "output_type": "stream",
     "text": "\r[#################################################################                         ] | 72% Completed |  1min 18.6s"
    },
    {
     "name": "stdout",
     "output_type": "stream",
     "text": "\r[#################################################################                         ] | 72% Completed |  1min 18.7s"
    },
    {
     "name": "stdout",
     "output_type": "stream",
     "text": "\r[#################################################################                         ] | 72% Completed |  1min 18.8s"
    },
    {
     "name": "stdout",
     "output_type": "stream",
     "text": "\r[#################################################################                         ] | 73% Completed |  1min 18.9s"
    },
    {
     "name": "stdout",
     "output_type": "stream",
     "text": "\r[#################################################################                         ] | 73% Completed |  1min 19.0s"
    },
    {
     "name": "stdout",
     "output_type": "stream",
     "text": "\r[#################################################################                         ] | 73% Completed |  1min 19.1s"
    },
    {
     "name": "stdout",
     "output_type": "stream",
     "text": "\r[##################################################################                        ] | 73% Completed |  1min 19.2s"
    },
    {
     "name": "stdout",
     "output_type": "stream",
     "text": "\r[##################################################################                        ] | 73% Completed |  1min 19.3s"
    },
    {
     "name": "stdout",
     "output_type": "stream",
     "text": "\r[##################################################################                        ] | 73% Completed |  1min 19.4s"
    },
    {
     "name": "stdout",
     "output_type": "stream",
     "text": "\r[##################################################################                        ] | 73% Completed |  1min 19.5s"
    },
    {
     "name": "stdout",
     "output_type": "stream",
     "text": "\r[##################################################################                        ] | 73% Completed |  1min 19.6s"
    },
    {
     "name": "stdout",
     "output_type": "stream",
     "text": "\r[##################################################################                        ] | 73% Completed |  1min 19.7s"
    },
    {
     "name": "stdout",
     "output_type": "stream",
     "text": "\r[##################################################################                        ] | 73% Completed |  1min 19.9s"
    },
    {
     "name": "stdout",
     "output_type": "stream",
     "text": "\r[##################################################################                        ] | 73% Completed |  1min 20.0s"
    },
    {
     "name": "stdout",
     "output_type": "stream",
     "text": "\r[##################################################################                        ] | 74% Completed |  1min 20.1s"
    },
    {
     "name": "stdout",
     "output_type": "stream",
     "text": "\r[##################################################################                        ] | 74% Completed |  1min 20.2s"
    },
    {
     "name": "stdout",
     "output_type": "stream",
     "text": "\r[##################################################################                        ] | 74% Completed |  1min 20.3s"
    },
    {
     "name": "stdout",
     "output_type": "stream",
     "text": "\r[##################################################################                        ] | 74% Completed |  1min 20.4s"
    },
    {
     "name": "stdout",
     "output_type": "stream",
     "text": "\r[##################################################################                        ] | 74% Completed |  1min 20.5s"
    },
    {
     "name": "stdout",
     "output_type": "stream",
     "text": "\r[###################################################################                       ] | 74% Completed |  1min 20.6s"
    },
    {
     "name": "stdout",
     "output_type": "stream",
     "text": "\r[###################################################################                       ] | 74% Completed |  1min 20.7s"
    },
    {
     "name": "stdout",
     "output_type": "stream",
     "text": "\r[###################################################################                       ] | 74% Completed |  1min 20.8s"
    },
    {
     "name": "stdout",
     "output_type": "stream",
     "text": "\r[###################################################################                       ] | 74% Completed |  1min 20.9s"
    },
    {
     "name": "stdout",
     "output_type": "stream",
     "text": "\r[###################################################################                       ] | 74% Completed |  1min 21.1s"
    },
    {
     "name": "stdout",
     "output_type": "stream",
     "text": "\r[###################################################################                       ] | 75% Completed |  1min 21.2s"
    },
    {
     "name": "stdout",
     "output_type": "stream",
     "text": "\r[###################################################################                       ] | 75% Completed |  1min 21.3s"
    },
    {
     "name": "stdout",
     "output_type": "stream",
     "text": "\r[###################################################################                       ] | 75% Completed |  1min 21.4s"
    },
    {
     "name": "stdout",
     "output_type": "stream",
     "text": "\r[###################################################################                       ] | 75% Completed |  1min 21.5s"
    },
    {
     "name": "stdout",
     "output_type": "stream",
     "text": "\r[###################################################################                       ] | 75% Completed |  1min 21.6s"
    },
    {
     "name": "stdout",
     "output_type": "stream",
     "text": "\r[####################################################################                      ] | 75% Completed |  1min 21.7s"
    },
    {
     "name": "stdout",
     "output_type": "stream",
     "text": "\r[####################################################################                      ] | 75% Completed |  1min 21.8s"
    },
    {
     "name": "stdout",
     "output_type": "stream",
     "text": "\r[####################################################################                      ] | 75% Completed |  1min 21.9s"
    },
    {
     "name": "stdout",
     "output_type": "stream",
     "text": "\r[####################################################################                      ] | 75% Completed |  1min 22.0s"
    },
    {
     "name": "stdout",
     "output_type": "stream",
     "text": "\r[####################################################################                      ] | 76% Completed |  1min 22.1s"
    },
    {
     "name": "stdout",
     "output_type": "stream",
     "text": "\r[####################################################################                      ] | 76% Completed |  1min 22.3s"
    },
    {
     "name": "stdout",
     "output_type": "stream",
     "text": "\r[####################################################################                      ] | 76% Completed |  1min 22.4s"
    },
    {
     "name": "stdout",
     "output_type": "stream",
     "text": "\r[####################################################################                      ] | 76% Completed |  1min 22.5s"
    },
    {
     "name": "stdout",
     "output_type": "stream",
     "text": "\r[####################################################################                      ] | 76% Completed |  1min 22.6s"
    },
    {
     "name": "stdout",
     "output_type": "stream",
     "text": "\r[####################################################################                      ] | 76% Completed |  1min 22.7s"
    },
    {
     "name": "stdout",
     "output_type": "stream",
     "text": "\r[####################################################################                      ] | 76% Completed |  1min 22.8s"
    },
    {
     "name": "stdout",
     "output_type": "stream",
     "text": "\r[#####################################################################                     ] | 76% Completed |  1min 22.9s"
    },
    {
     "name": "stdout",
     "output_type": "stream",
     "text": "\r[#####################################################################                     ] | 76% Completed |  1min 23.0s"
    },
    {
     "name": "stdout",
     "output_type": "stream",
     "text": "\r[#####################################################################                     ] | 76% Completed |  1min 23.1s"
    },
    {
     "name": "stdout",
     "output_type": "stream",
     "text": "\r[#####################################################################                     ] | 77% Completed |  1min 23.2s"
    },
    {
     "name": "stdout",
     "output_type": "stream",
     "text": "\r[#####################################################################                     ] | 77% Completed |  1min 23.3s"
    },
    {
     "name": "stdout",
     "output_type": "stream",
     "text": "\r[#####################################################################                     ] | 77% Completed |  1min 23.5s"
    },
    {
     "name": "stdout",
     "output_type": "stream",
     "text": "\r[#####################################################################                     ] | 77% Completed |  1min 23.6s"
    },
    {
     "name": "stdout",
     "output_type": "stream",
     "text": "\r[#####################################################################                     ] | 77% Completed |  1min 23.7s"
    },
    {
     "name": "stdout",
     "output_type": "stream",
     "text": "\r[#####################################################################                     ] | 77% Completed |  1min 23.8s"
    },
    {
     "name": "stdout",
     "output_type": "stream",
     "text": "\r[#####################################################################                     ] | 77% Completed |  1min 23.9s"
    },
    {
     "name": "stdout",
     "output_type": "stream",
     "text": "\r[#####################################################################                     ] | 77% Completed |  1min 24.0s"
    },
    {
     "name": "stdout",
     "output_type": "stream",
     "text": "\r[######################################################################                    ] | 77% Completed |  1min 24.1s"
    },
    {
     "name": "stdout",
     "output_type": "stream",
     "text": "\r[######################################################################                    ] | 77% Completed |  1min 24.2s"
    },
    {
     "name": "stdout",
     "output_type": "stream",
     "text": "\r[######################################################################                    ] | 78% Completed |  1min 24.3s"
    },
    {
     "name": "stdout",
     "output_type": "stream",
     "text": "\r[######################################################################                    ] | 78% Completed |  1min 24.4s"
    },
    {
     "name": "stdout",
     "output_type": "stream",
     "text": "\r[######################################################################                    ] | 78% Completed |  1min 24.5s"
    },
    {
     "name": "stdout",
     "output_type": "stream",
     "text": "\r[######################################################################                    ] | 78% Completed |  1min 24.6s"
    },
    {
     "name": "stdout",
     "output_type": "stream",
     "text": "\r[######################################################################                    ] | 78% Completed |  1min 24.7s"
    },
    {
     "name": "stdout",
     "output_type": "stream",
     "text": "\r[######################################################################                    ] | 78% Completed |  1min 24.8s"
    },
    {
     "name": "stdout",
     "output_type": "stream",
     "text": "\r[######################################################################                    ] | 78% Completed |  1min 25.0s"
    },
    {
     "name": "stdout",
     "output_type": "stream",
     "text": "\r[######################################################################                    ] | 78% Completed |  1min 25.1s"
    },
    {
     "name": "stdout",
     "output_type": "stream",
     "text": "\r[#######################################################################                   ] | 78% Completed |  1min 25.2s"
    },
    {
     "name": "stdout",
     "output_type": "stream",
     "text": "\r[#######################################################################                   ] | 78% Completed |  1min 25.3s"
    },
    {
     "name": "stdout",
     "output_type": "stream",
     "text": "\r[#######################################################################                   ] | 79% Completed |  1min 25.4s"
    },
    {
     "name": "stdout",
     "output_type": "stream",
     "text": "\r[#######################################################################                   ] | 79% Completed |  1min 25.5s"
    },
    {
     "name": "stdout",
     "output_type": "stream",
     "text": "\r[#######################################################################                   ] | 79% Completed |  1min 25.6s"
    },
    {
     "name": "stdout",
     "output_type": "stream",
     "text": "\r[#######################################################################                   ] | 79% Completed |  1min 25.7s"
    },
    {
     "name": "stdout",
     "output_type": "stream",
     "text": "\r[#######################################################################                   ] | 79% Completed |  1min 25.8s"
    },
    {
     "name": "stdout",
     "output_type": "stream",
     "text": "\r[#######################################################################                   ] | 79% Completed |  1min 25.9s"
    },
    {
     "name": "stdout",
     "output_type": "stream",
     "text": "\r[#######################################################################                   ] | 79% Completed |  1min 26.0s"
    },
    {
     "name": "stdout",
     "output_type": "stream",
     "text": "\r[#######################################################################                   ] | 79% Completed |  1min 26.1s"
    },
    {
     "name": "stdout",
     "output_type": "stream",
     "text": "\r[#######################################################################                   ] | 79% Completed |  1min 26.3s"
    },
    {
     "name": "stdout",
     "output_type": "stream",
     "text": "\r[#######################################################################                   ] | 79% Completed |  1min 26.4s"
    },
    {
     "name": "stdout",
     "output_type": "stream",
     "text": "\r[########################################################################                  ] | 80% Completed |  1min 26.5s"
    },
    {
     "name": "stdout",
     "output_type": "stream",
     "text": "\r[########################################################################                  ] | 80% Completed |  1min 26.6s"
    },
    {
     "name": "stdout",
     "output_type": "stream",
     "text": "\r[########################################################################                  ] | 80% Completed |  1min 26.7s"
    },
    {
     "name": "stdout",
     "output_type": "stream",
     "text": "\r[########################################################################                  ] | 80% Completed |  1min 26.8s"
    },
    {
     "name": "stdout",
     "output_type": "stream",
     "text": "\r[########################################################################                  ] | 80% Completed |  1min 26.9s"
    },
    {
     "name": "stdout",
     "output_type": "stream",
     "text": "\r[########################################################################                  ] | 80% Completed |  1min 27.0s"
    },
    {
     "name": "stdout",
     "output_type": "stream",
     "text": "\r[########################################################################                  ] | 80% Completed |  1min 27.1s"
    },
    {
     "name": "stdout",
     "output_type": "stream",
     "text": "\r[########################################################################                  ] | 80% Completed |  1min 27.2s"
    },
    {
     "name": "stdout",
     "output_type": "stream",
     "text": "\r[########################################################################                  ] | 80% Completed |  1min 27.3s"
    },
    {
     "name": "stdout",
     "output_type": "stream",
     "text": "\r[########################################################################                  ] | 80% Completed |  1min 27.4s"
    },
    {
     "name": "stdout",
     "output_type": "stream",
     "text": "\r[########################################################################                  ] | 81% Completed |  1min 27.5s"
    },
    {
     "name": "stdout",
     "output_type": "stream",
     "text": "\r[#########################################################################                 ] | 81% Completed |  1min 27.6s"
    },
    {
     "name": "stdout",
     "output_type": "stream",
     "text": "\r[#########################################################################                 ] | 81% Completed |  1min 27.7s"
    },
    {
     "name": "stdout",
     "output_type": "stream",
     "text": "\r[#########################################################################                 ] | 81% Completed |  1min 27.9s"
    },
    {
     "name": "stdout",
     "output_type": "stream",
     "text": "\r[#########################################################################                 ] | 81% Completed |  1min 28.0s"
    },
    {
     "name": "stdout",
     "output_type": "stream",
     "text": "\r[#########################################################################                 ] | 81% Completed |  1min 28.1s"
    },
    {
     "name": "stdout",
     "output_type": "stream",
     "text": "\r[#########################################################################                 ] | 81% Completed |  1min 28.2s"
    },
    {
     "name": "stdout",
     "output_type": "stream",
     "text": "\r[#########################################################################                 ] | 81% Completed |  1min 28.3s"
    },
    {
     "name": "stdout",
     "output_type": "stream",
     "text": "\r[#########################################################################                 ] | 81% Completed |  1min 28.4s"
    },
    {
     "name": "stdout",
     "output_type": "stream",
     "text": "\r[#########################################################################                 ] | 81% Completed |  1min 28.5s"
    },
    {
     "name": "stdout",
     "output_type": "stream",
     "text": "\r[#########################################################################                 ] | 82% Completed |  1min 28.6s"
    },
    {
     "name": "stdout",
     "output_type": "stream",
     "text": "\r[#########################################################################                 ] | 82% Completed |  1min 28.7s"
    },
    {
     "name": "stdout",
     "output_type": "stream",
     "text": "\r[#########################################################################                 ] | 82% Completed |  1min 28.8s"
    },
    {
     "name": "stdout",
     "output_type": "stream",
     "text": "\r[##########################################################################                ] | 82% Completed |  1min 28.9s"
    },
    {
     "name": "stdout",
     "output_type": "stream",
     "text": "\r[##########################################################################                ] | 82% Completed |  1min 29.0s"
    },
    {
     "name": "stdout",
     "output_type": "stream",
     "text": "\r[##########################################################################                ] | 82% Completed |  1min 29.2s"
    },
    {
     "name": "stdout",
     "output_type": "stream",
     "text": "\r[##########################################################################                ] | 82% Completed |  1min 29.3s"
    },
    {
     "name": "stdout",
     "output_type": "stream",
     "text": "\r[##########################################################################                ] | 82% Completed |  1min 29.4s"
    },
    {
     "name": "stdout",
     "output_type": "stream",
     "text": "\r[##########################################################################                ] | 82% Completed |  1min 29.5s"
    },
    {
     "name": "stdout",
     "output_type": "stream",
     "text": "\r[##########################################################################                ] | 82% Completed |  1min 29.6s"
    },
    {
     "name": "stdout",
     "output_type": "stream",
     "text": "\r[##########################################################################                ] | 82% Completed |  1min 29.7s"
    },
    {
     "name": "stdout",
     "output_type": "stream",
     "text": "\r[##########################################################################                ] | 83% Completed |  1min 29.8s"
    },
    {
     "name": "stdout",
     "output_type": "stream",
     "text": "\r[##########################################################################                ] | 83% Completed |  1min 29.9s"
    },
    {
     "name": "stdout",
     "output_type": "stream",
     "text": "\r[##########################################################################                ] | 83% Completed |  1min 30.0s"
    },
    {
     "name": "stdout",
     "output_type": "stream",
     "text": "\r[###########################################################################               ] | 83% Completed |  1min 30.1s"
    },
    {
     "name": "stdout",
     "output_type": "stream",
     "text": "\r[###########################################################################               ] | 83% Completed |  1min 30.2s"
    },
    {
     "name": "stdout",
     "output_type": "stream",
     "text": "\r[###########################################################################               ] | 83% Completed |  1min 30.3s"
    },
    {
     "name": "stdout",
     "output_type": "stream",
     "text": "\r[###########################################################################               ] | 83% Completed |  1min 30.4s"
    },
    {
     "name": "stdout",
     "output_type": "stream",
     "text": "\r[###########################################################################               ] | 83% Completed |  1min 30.5s"
    },
    {
     "name": "stdout",
     "output_type": "stream",
     "text": "\r[###########################################################################               ] | 83% Completed |  1min 30.7s"
    },
    {
     "name": "stdout",
     "output_type": "stream",
     "text": "\r[###########################################################################               ] | 83% Completed |  1min 30.8s"
    },
    {
     "name": "stdout",
     "output_type": "stream",
     "text": "\r[###########################################################################               ] | 84% Completed |  1min 30.9s"
    },
    {
     "name": "stdout",
     "output_type": "stream",
     "text": "\r[###########################################################################               ] | 84% Completed |  1min 31.0s"
    },
    {
     "name": "stdout",
     "output_type": "stream",
     "text": "\r[###########################################################################               ] | 84% Completed |  1min 31.1s"
    },
    {
     "name": "stdout",
     "output_type": "stream",
     "text": "\r[###########################################################################               ] | 84% Completed |  1min 31.2s"
    },
    {
     "name": "stdout",
     "output_type": "stream",
     "text": "\r[###########################################################################               ] | 84% Completed |  1min 31.3s"
    },
    {
     "name": "stdout",
     "output_type": "stream",
     "text": "\r[############################################################################              ] | 84% Completed |  1min 31.4s"
    },
    {
     "name": "stdout",
     "output_type": "stream",
     "text": "\r[############################################################################              ] | 84% Completed |  1min 31.5s"
    },
    {
     "name": "stdout",
     "output_type": "stream",
     "text": "\r[############################################################################              ] | 84% Completed |  1min 31.6s"
    },
    {
     "name": "stdout",
     "output_type": "stream",
     "text": "\r[############################################################################              ] | 84% Completed |  1min 31.7s"
    },
    {
     "name": "stdout",
     "output_type": "stream",
     "text": "\r[############################################################################              ] | 84% Completed |  1min 31.8s"
    },
    {
     "name": "stdout",
     "output_type": "stream",
     "text": "\r[############################################################################              ] | 85% Completed |  1min 31.9s"
    },
    {
     "name": "stdout",
     "output_type": "stream",
     "text": "\r[############################################################################              ] | 85% Completed |  1min 32.0s"
    },
    {
     "name": "stdout",
     "output_type": "stream",
     "text": "\r[############################################################################              ] | 85% Completed |  1min 32.2s"
    },
    {
     "name": "stdout",
     "output_type": "stream",
     "text": "\r[############################################################################              ] | 85% Completed |  1min 32.3s"
    },
    {
     "name": "stdout",
     "output_type": "stream",
     "text": "\r[############################################################################              ] | 85% Completed |  1min 32.4s"
    },
    {
     "name": "stdout",
     "output_type": "stream",
     "text": "\r[#############################################################################             ] | 85% Completed |  1min 32.5s"
    },
    {
     "name": "stdout",
     "output_type": "stream",
     "text": "\r[#############################################################################             ] | 85% Completed |  1min 32.6s"
    },
    {
     "name": "stdout",
     "output_type": "stream",
     "text": "\r[#############################################################################             ] | 85% Completed |  1min 32.7s"
    },
    {
     "name": "stdout",
     "output_type": "stream",
     "text": "\r[#############################################################################             ] | 85% Completed |  1min 32.8s"
    },
    {
     "name": "stdout",
     "output_type": "stream",
     "text": "\r[#############################################################################             ] | 86% Completed |  1min 32.9s"
    },
    {
     "name": "stdout",
     "output_type": "stream",
     "text": "\r[#############################################################################             ] | 86% Completed |  1min 33.0s"
    },
    {
     "name": "stdout",
     "output_type": "stream",
     "text": "\r[#############################################################################             ] | 86% Completed |  1min 33.1s"
    },
    {
     "name": "stdout",
     "output_type": "stream",
     "text": "\r[#############################################################################             ] | 86% Completed |  1min 33.2s"
    },
    {
     "name": "stdout",
     "output_type": "stream",
     "text": "\r[#############################################################################             ] | 86% Completed |  1min 33.3s"
    },
    {
     "name": "stdout",
     "output_type": "stream",
     "text": "\r[#############################################################################             ] | 86% Completed |  1min 33.5s"
    },
    {
     "name": "stdout",
     "output_type": "stream",
     "text": "\r[#############################################################################             ] | 86% Completed |  1min 33.6s"
    },
    {
     "name": "stdout",
     "output_type": "stream",
     "text": "\r[##############################################################################            ] | 86% Completed |  1min 33.7s"
    },
    {
     "name": "stdout",
     "output_type": "stream",
     "text": "\r[##############################################################################            ] | 86% Completed |  1min 33.8s"
    },
    {
     "name": "stdout",
     "output_type": "stream",
     "text": "\r[##############################################################################            ] | 86% Completed |  1min 33.9s"
    },
    {
     "name": "stdout",
     "output_type": "stream",
     "text": "\r[##############################################################################            ] | 87% Completed |  1min 34.0s"
    },
    {
     "name": "stdout",
     "output_type": "stream",
     "text": "\r[##############################################################################            ] | 87% Completed |  1min 34.1s"
    },
    {
     "name": "stdout",
     "output_type": "stream",
     "text": "\r[##############################################################################            ] | 87% Completed |  1min 34.2s"
    },
    {
     "name": "stdout",
     "output_type": "stream",
     "text": "\r[##############################################################################            ] | 87% Completed |  1min 34.3s"
    },
    {
     "name": "stdout",
     "output_type": "stream",
     "text": "\r[##############################################################################            ] | 87% Completed |  1min 34.4s"
    },
    {
     "name": "stdout",
     "output_type": "stream",
     "text": "\r[##############################################################################            ] | 87% Completed |  1min 34.5s"
    },
    {
     "name": "stdout",
     "output_type": "stream",
     "text": "\r[##############################################################################            ] | 87% Completed |  1min 34.6s"
    },
    {
     "name": "stdout",
     "output_type": "stream",
     "text": "\r[###############################################################################           ] | 87% Completed |  1min 34.7s"
    },
    {
     "name": "stdout",
     "output_type": "stream",
     "text": "\r[###############################################################################           ] | 87% Completed |  1min 34.8s"
    },
    {
     "name": "stdout",
     "output_type": "stream",
     "text": "\r[###############################################################################           ] | 88% Completed |  1min 35.0s"
    },
    {
     "name": "stdout",
     "output_type": "stream",
     "text": "\r[###############################################################################           ] | 88% Completed |  1min 35.1s"
    },
    {
     "name": "stdout",
     "output_type": "stream",
     "text": "\r[###############################################################################           ] | 88% Completed |  1min 35.2s"
    },
    {
     "name": "stdout",
     "output_type": "stream",
     "text": "\r[###############################################################################           ] | 88% Completed |  1min 35.3s"
    },
    {
     "name": "stdout",
     "output_type": "stream",
     "text": "\r[###############################################################################           ] | 88% Completed |  1min 35.4s"
    },
    {
     "name": "stdout",
     "output_type": "stream",
     "text": "\r[###############################################################################           ] | 88% Completed |  1min 35.5s"
    },
    {
     "name": "stdout",
     "output_type": "stream",
     "text": "\r[###############################################################################           ] | 88% Completed |  1min 35.6s"
    },
    {
     "name": "stdout",
     "output_type": "stream",
     "text": "\r[###############################################################################           ] | 88% Completed |  1min 35.7s"
    },
    {
     "name": "stdout",
     "output_type": "stream",
     "text": "\r[###############################################################################           ] | 88% Completed |  1min 35.8s"
    },
    {
     "name": "stdout",
     "output_type": "stream",
     "text": "\r[################################################################################          ] | 88% Completed |  1min 35.9s"
    },
    {
     "name": "stdout",
     "output_type": "stream",
     "text": "\r[################################################################################          ] | 89% Completed |  1min 36.0s"
    },
    {
     "name": "stdout",
     "output_type": "stream",
     "text": "\r[################################################################################          ] | 89% Completed |  1min 36.1s"
    },
    {
     "name": "stdout",
     "output_type": "stream",
     "text": "\r[################################################################################          ] | 89% Completed |  1min 36.2s"
    },
    {
     "name": "stdout",
     "output_type": "stream",
     "text": "\r[################################################################################          ] | 89% Completed |  1min 36.3s"
    },
    {
     "name": "stdout",
     "output_type": "stream",
     "text": "\r[################################################################################          ] | 89% Completed |  1min 36.4s"
    },
    {
     "name": "stdout",
     "output_type": "stream",
     "text": "\r[################################################################################          ] | 89% Completed |  1min 36.6s"
    },
    {
     "name": "stdout",
     "output_type": "stream",
     "text": "\r[################################################################################          ] | 89% Completed |  1min 36.7s"
    },
    {
     "name": "stdout",
     "output_type": "stream",
     "text": "\r[################################################################################          ] | 89% Completed |  1min 36.8s"
    },
    {
     "name": "stdout",
     "output_type": "stream",
     "text": "\r[################################################################################          ] | 89% Completed |  1min 36.9s"
    },
    {
     "name": "stdout",
     "output_type": "stream",
     "text": "\r[#################################################################################         ] | 90% Completed |  1min 37.0s"
    },
    {
     "name": "stdout",
     "output_type": "stream",
     "text": "\r[#################################################################################         ] | 90% Completed |  1min 37.1s"
    },
    {
     "name": "stdout",
     "output_type": "stream",
     "text": "\r[#################################################################################         ] | 90% Completed |  1min 37.2s"
    },
    {
     "name": "stdout",
     "output_type": "stream",
     "text": "\r[#################################################################################         ] | 90% Completed |  1min 37.3s"
    },
    {
     "name": "stdout",
     "output_type": "stream",
     "text": "\r[#################################################################################         ] | 90% Completed |  1min 37.4s"
    },
    {
     "name": "stdout",
     "output_type": "stream",
     "text": "\r[#################################################################################         ] | 90% Completed |  1min 37.5s"
    },
    {
     "name": "stdout",
     "output_type": "stream",
     "text": "\r[#################################################################################         ] | 90% Completed |  1min 37.6s"
    },
    {
     "name": "stdout",
     "output_type": "stream",
     "text": "\r[#################################################################################         ] | 90% Completed |  1min 37.7s"
    },
    {
     "name": "stdout",
     "output_type": "stream",
     "text": "\r[#################################################################################         ] | 90% Completed |  1min 37.8s"
    },
    {
     "name": "stdout",
     "output_type": "stream",
     "text": "\r[#################################################################################         ] | 90% Completed |  1min 38.0s"
    },
    {
     "name": "stdout",
     "output_type": "stream",
     "text": "\r[#################################################################################         ] | 91% Completed |  1min 38.1s"
    },
    {
     "name": "stdout",
     "output_type": "stream",
     "text": "\r[##################################################################################        ] | 91% Completed |  1min 38.2s"
    },
    {
     "name": "stdout",
     "output_type": "stream",
     "text": "\r[##################################################################################        ] | 91% Completed |  1min 38.3s"
    },
    {
     "name": "stdout",
     "output_type": "stream",
     "text": "\r[##################################################################################        ] | 91% Completed |  1min 38.4s"
    },
    {
     "name": "stdout",
     "output_type": "stream",
     "text": "\r[##################################################################################        ] | 91% Completed |  1min 38.5s"
    },
    {
     "name": "stdout",
     "output_type": "stream",
     "text": "\r[##################################################################################        ] | 91% Completed |  1min 38.6s"
    },
    {
     "name": "stdout",
     "output_type": "stream",
     "text": "\r[##################################################################################        ] | 91% Completed |  1min 38.7s"
    },
    {
     "name": "stdout",
     "output_type": "stream",
     "text": "\r[##################################################################################        ] | 91% Completed |  1min 38.8s"
    },
    {
     "name": "stdout",
     "output_type": "stream",
     "text": "\r[##################################################################################        ] | 91% Completed |  1min 38.9s"
    },
    {
     "name": "stdout",
     "output_type": "stream",
     "text": "\r[##################################################################################        ] | 91% Completed |  1min 39.0s"
    },
    {
     "name": "stdout",
     "output_type": "stream",
     "text": "\r[##################################################################################        ] | 92% Completed |  1min 39.1s"
    },
    {
     "name": "stdout",
     "output_type": "stream",
     "text": "\r[##################################################################################        ] | 92% Completed |  1min 39.2s"
    },
    {
     "name": "stdout",
     "output_type": "stream",
     "text": "\r[###################################################################################       ] | 92% Completed |  1min 39.4s"
    },
    {
     "name": "stdout",
     "output_type": "stream",
     "text": "\r[###################################################################################       ] | 92% Completed |  1min 39.5s"
    },
    {
     "name": "stdout",
     "output_type": "stream",
     "text": "\r[###################################################################################       ] | 92% Completed |  1min 39.6s"
    },
    {
     "name": "stdout",
     "output_type": "stream",
     "text": "\r[###################################################################################       ] | 92% Completed |  1min 39.7s"
    },
    {
     "name": "stdout",
     "output_type": "stream",
     "text": "\r[###################################################################################       ] | 92% Completed |  1min 39.8s"
    },
    {
     "name": "stdout",
     "output_type": "stream",
     "text": "\r[###################################################################################       ] | 92% Completed |  1min 39.9s"
    },
    {
     "name": "stdout",
     "output_type": "stream",
     "text": "\r[###################################################################################       ] | 92% Completed |  1min 40.0s"
    },
    {
     "name": "stdout",
     "output_type": "stream",
     "text": "\r[###################################################################################       ] | 92% Completed |  1min 40.1s"
    },
    {
     "name": "stdout",
     "output_type": "stream",
     "text": "\r[###################################################################################       ] | 93% Completed |  1min 40.2s"
    },
    {
     "name": "stdout",
     "output_type": "stream",
     "text": "\r[###################################################################################       ] | 93% Completed |  1min 40.3s"
    },
    {
     "name": "stdout",
     "output_type": "stream",
     "text": "\r[###################################################################################       ] | 93% Completed |  1min 40.4s"
    },
    {
     "name": "stdout",
     "output_type": "stream",
     "text": "\r[####################################################################################      ] | 93% Completed |  1min 40.5s"
    },
    {
     "name": "stdout",
     "output_type": "stream",
     "text": "\r[####################################################################################      ] | 93% Completed |  1min 40.6s"
    },
    {
     "name": "stdout",
     "output_type": "stream",
     "text": "\r[####################################################################################      ] | 93% Completed |  1min 40.8s"
    },
    {
     "name": "stdout",
     "output_type": "stream",
     "text": "\r[####################################################################################      ] | 93% Completed |  1min 40.9s"
    },
    {
     "name": "stdout",
     "output_type": "stream",
     "text": "\r[####################################################################################      ] | 93% Completed |  1min 41.0s"
    },
    {
     "name": "stdout",
     "output_type": "stream",
     "text": "\r[####################################################################################      ] | 93% Completed |  1min 41.1s"
    },
    {
     "name": "stdout",
     "output_type": "stream",
     "text": "\r[####################################################################################      ] | 94% Completed |  1min 41.2s"
    },
    {
     "name": "stdout",
     "output_type": "stream",
     "text": "\r[####################################################################################      ] | 94% Completed |  1min 41.3s"
    },
    {
     "name": "stdout",
     "output_type": "stream",
     "text": "\r[####################################################################################      ] | 94% Completed |  1min 41.4s"
    },
    {
     "name": "stdout",
     "output_type": "stream",
     "text": "\r[####################################################################################      ] | 94% Completed |  1min 41.5s"
    },
    {
     "name": "stdout",
     "output_type": "stream",
     "text": "\r[#####################################################################################     ] | 94% Completed |  1min 41.6s"
    },
    {
     "name": "stdout",
     "output_type": "stream",
     "text": "\r[#####################################################################################     ] | 94% Completed |  1min 41.7s"
    },
    {
     "name": "stdout",
     "output_type": "stream",
     "text": "\r[#####################################################################################     ] | 94% Completed |  1min 41.8s"
    },
    {
     "name": "stdout",
     "output_type": "stream",
     "text": "\r[#####################################################################################     ] | 94% Completed |  1min 41.9s"
    },
    {
     "name": "stdout",
     "output_type": "stream",
     "text": "\r[#####################################################################################     ] | 94% Completed |  1min 42.0s"
    },
    {
     "name": "stdout",
     "output_type": "stream",
     "text": "\r[#####################################################################################     ] | 94% Completed |  1min 42.1s"
    },
    {
     "name": "stdout",
     "output_type": "stream",
     "text": "\r[#####################################################################################     ] | 95% Completed |  1min 42.2s"
    },
    {
     "name": "stdout",
     "output_type": "stream",
     "text": "\r[#####################################################################################     ] | 95% Completed |  1min 42.3s"
    },
    {
     "name": "stdout",
     "output_type": "stream",
     "text": "\r[#####################################################################################     ] | 95% Completed |  1min 42.4s"
    },
    {
     "name": "stdout",
     "output_type": "stream",
     "text": "\r[#####################################################################################     ] | 95% Completed |  1min 42.6s"
    },
    {
     "name": "stdout",
     "output_type": "stream",
     "text": "\r[#####################################################################################     ] | 95% Completed |  1min 42.7s"
    },
    {
     "name": "stdout",
     "output_type": "stream",
     "text": "\r[######################################################################################    ] | 95% Completed |  1min 42.8s"
    },
    {
     "name": "stdout",
     "output_type": "stream",
     "text": "\r[######################################################################################    ] | 95% Completed |  1min 42.9s"
    },
    {
     "name": "stdout",
     "output_type": "stream",
     "text": "\r[######################################################################################    ] | 95% Completed |  1min 43.0s"
    },
    {
     "name": "stdout",
     "output_type": "stream",
     "text": "\r[######################################################################################    ] | 95% Completed |  1min 43.1s"
    },
    {
     "name": "stdout",
     "output_type": "stream",
     "text": "\r[######################################################################################    ] | 96% Completed |  1min 43.2s"
    },
    {
     "name": "stdout",
     "output_type": "stream",
     "text": "\r[######################################################################################    ] | 96% Completed |  1min 43.3s"
    },
    {
     "name": "stdout",
     "output_type": "stream",
     "text": "\r[######################################################################################    ] | 96% Completed |  1min 43.4s"
    },
    {
     "name": "stdout",
     "output_type": "stream",
     "text": "\r[######################################################################################    ] | 96% Completed |  1min 43.5s"
    },
    {
     "name": "stdout",
     "output_type": "stream",
     "text": "\r[######################################################################################    ] | 96% Completed |  1min 43.7s"
    },
    {
     "name": "stdout",
     "output_type": "stream",
     "text": "\r[######################################################################################    ] | 96% Completed |  1min 43.8s"
    },
    {
     "name": "stdout",
     "output_type": "stream",
     "text": "\r[######################################################################################    ] | 96% Completed |  1min 43.9s"
    },
    {
     "name": "stdout",
     "output_type": "stream",
     "text": "\r[#######################################################################################   ] | 96% Completed |  1min 44.0s"
    },
    {
     "name": "stdout",
     "output_type": "stream",
     "text": "\r[#######################################################################################   ] | 96% Completed |  1min 44.1s"
    },
    {
     "name": "stdout",
     "output_type": "stream",
     "text": "\r[#######################################################################################   ] | 96% Completed |  1min 44.2s"
    },
    {
     "name": "stdout",
     "output_type": "stream",
     "text": "\r[#######################################################################################   ] | 97% Completed |  1min 44.3s"
    },
    {
     "name": "stdout",
     "output_type": "stream",
     "text": "\r[#######################################################################################   ] | 97% Completed |  1min 44.4s"
    },
    {
     "name": "stdout",
     "output_type": "stream",
     "text": "\r[#######################################################################################   ] | 97% Completed |  1min 44.5s"
    },
    {
     "name": "stdout",
     "output_type": "stream",
     "text": "\r[#######################################################################################   ] | 97% Completed |  1min 44.6s"
    },
    {
     "name": "stdout",
     "output_type": "stream",
     "text": "\r[#######################################################################################   ] | 97% Completed |  1min 44.7s"
    },
    {
     "name": "stdout",
     "output_type": "stream",
     "text": "\r[#######################################################################################   ] | 97% Completed |  1min 44.8s"
    },
    {
     "name": "stdout",
     "output_type": "stream",
     "text": "\r[#######################################################################################   ] | 97% Completed |  1min 44.9s"
    },
    {
     "name": "stdout",
     "output_type": "stream",
     "text": "\r[########################################################################################  ] | 97% Completed |  1min 45.0s"
    },
    {
     "name": "stdout",
     "output_type": "stream",
     "text": "\r[########################################################################################  ] | 97% Completed |  1min 45.1s"
    },
    {
     "name": "stdout",
     "output_type": "stream",
     "text": "\r[########################################################################################  ] | 98% Completed |  1min 45.3s"
    },
    {
     "name": "stdout",
     "output_type": "stream",
     "text": "\r[########################################################################################  ] | 98% Completed |  1min 45.4s"
    },
    {
     "name": "stdout",
     "output_type": "stream",
     "text": "\r[########################################################################################  ] | 98% Completed |  1min 45.5s"
    },
    {
     "name": "stdout",
     "output_type": "stream",
     "text": "\r[########################################################################################  ] | 98% Completed |  1min 45.6s"
    },
    {
     "name": "stdout",
     "output_type": "stream",
     "text": "\r[########################################################################################  ] | 98% Completed |  1min 45.7s"
    },
    {
     "name": "stdout",
     "output_type": "stream",
     "text": "\r[########################################################################################  ] | 98% Completed |  1min 45.8s"
    },
    {
     "name": "stdout",
     "output_type": "stream",
     "text": "\r[########################################################################################  ] | 98% Completed |  1min 45.9s"
    },
    {
     "name": "stdout",
     "output_type": "stream",
     "text": "\r[########################################################################################  ] | 98% Completed |  1min 46.0s"
    },
    {
     "name": "stdout",
     "output_type": "stream",
     "text": "\r[########################################################################################  ] | 98% Completed |  1min 46.1s"
    },
    {
     "name": "stdout",
     "output_type": "stream",
     "text": "\r[######################################################################################### ] | 98% Completed |  1min 46.2s"
    },
    {
     "name": "stdout",
     "output_type": "stream",
     "text": "\r[######################################################################################### ] | 99% Completed |  1min 46.3s"
    },
    {
     "name": "stdout",
     "output_type": "stream",
     "text": "\r[######################################################################################### ] | 99% Completed |  1min 46.4s"
    },
    {
     "name": "stdout",
     "output_type": "stream",
     "text": "\r[######################################################################################### ] | 99% Completed |  1min 46.5s"
    },
    {
     "name": "stdout",
     "output_type": "stream",
     "text": "\r[######################################################################################### ] | 99% Completed |  1min 46.6s"
    },
    {
     "name": "stdout",
     "output_type": "stream",
     "text": "\r[######################################################################################### ] | 99% Completed |  1min 46.8s"
    },
    {
     "name": "stdout",
     "output_type": "stream",
     "text": "\r[######################################################################################### ] | 99% Completed |  1min 46.9s"
    },
    {
     "name": "stdout",
     "output_type": "stream",
     "text": "\r[######################################################################################### ] | 99% Completed |  1min 47.0s"
    },
    {
     "name": "stdout",
     "output_type": "stream",
     "text": "\r[######################################################################################### ] | 99% Completed |  1min 47.1s"
    },
    {
     "name": "stdout",
     "output_type": "stream",
     "text": "\r[######################################################################################### ] | 99% Completed |  1min 47.2s"
    },
    {
     "name": "stdout",
     "output_type": "stream",
     "text": "\r[######################################################################################### ] | 99% Completed |  1min 47.3s"
    },
    {
     "name": "stdout",
     "output_type": "stream",
     "text": "\r[##########################################################################################] | 100% Completed |  1min 47.4s"
    },
    {
     "name": "stdout",
     "output_type": "stream",
     "text": "\n"
    },
    {
     "data": {
      "text/plain": "(51842, 10)"
     },
     "metadata": {},
     "output_type": "display_data",
     "transient": {}
    },
    {
     "data": {
      "text/html": "<table border=\"1\" class=\"dataframe\">\n  <thead>\n    <tr style=\"text-align: right;\">\n      <th></th>\n      <th>dataset</th>\n      <th>species</th>\n      <th>species_query</th>\n      <th>basename</th>\n      <th>name</th>\n      <th>duration_s</th>\n      <th>samples_mb</th>\n      <th>samples_n</th>\n      <th>samples</th>\n      <th>audio</th>\n    </tr>\n  </thead>\n  <tbody>\n    <tr>\n      <th>0</th>\n      <td><div class=\"not-number\">recordings</div></td>\n      <td><div class=\"not-number\">nan</div></td>\n      <td><div class=\"not-number\">None</div></td>\n      <td><div class=\"not-number\">081845</div></td>\n      <td><div class=\"not-number\">recordings/081845</div></td>\n      <td>4.94</td>\n      <td>0.208</td>\n      <td>108928</td>\n      <td><div class=\"not-number\">None</div></td>\n      <td><div class=\"not-number\">None</div></td>\n    </tr>\n    <tr>\n      <th>1</th>\n      <td><div class=\"not-number\">recordings</div></td>\n      <td><div class=\"not-number\">nan</div></td>\n      <td><div class=\"not-number\">None</div></td>\n      <td><div class=\"not-number\">ACWO,NOFL,SPTO spotted towhee, acorn woodpecker, flicker</div></td>\n      <td><div class=\"not-number\">recordings/ACWO,NOFL,SPTO spotted towhee, acorn woodpecker, flicker</div></td>\n      <td>166.00</td>\n      <td>6.990</td>\n      <td>3664549</td>\n      <td><div class=\"not-number\">None</div></td>\n      <td><div class=\"not-number\">None</div></td>\n    </tr>\n    <tr>\n      <th>2</th>\n      <td><div class=\"not-number\">recordings</div></td>\n      <td><div class=\"not-number\">nan</div></td>\n      <td><div class=\"not-number\">None</div></td>\n      <td><div class=\"not-number\">BEWR Bewicks Wren (Coyote Hills parking lot)</div></td>\n      <td><div class=\"not-number\">recordings/BEWR Bewicks Wren (Coyote Hills parking lot)</div></td>\n      <td>46.50</td>\n      <td>1.950</td>\n      <td>1024651</td>\n      <td><div class=\"not-number\">None</div></td>\n      <td><div class=\"not-number\">None</div></td>\n    </tr>\n    <tr>\n      <th>3</th>\n      <td><div class=\"not-number\">recordings</div></td>\n      <td><div class=\"not-number\">nan</div></td>\n      <td><div class=\"not-number\">None</div></td>\n      <td><div class=\"not-number\">BEWR Bewicks Wren 2 (Coyote Hills parking lot) 2</div></td>\n      <td><div class=\"not-number\">recordings/BEWR Bewicks Wren 2 (Coyote Hills parking lot) 2</div></td>\n      <td>30.30</td>\n      <td>1.280</td>\n      <td>668860</td>\n      <td><div class=\"not-number\">None</div></td>\n      <td><div class=\"not-number\">None</div></td>\n    </tr>\n    <tr>\n      <th>4</th>\n      <td><div class=\"not-number\">recordings</div></td>\n      <td><div class=\"not-number\">nan</div></td>\n      <td><div class=\"not-number\">None</div></td>\n      <td><div class=\"not-number\">BEWR Bewicks Wren 2 (Coyote Hills parking lot)</div></td>\n      <td><div class=\"not-number\">recordings/BEWR Bewicks Wren 2 (Coyote Hills parking lot)</div></td>\n      <td>30.30</td>\n      <td>1.280</td>\n      <td>668860</td>\n      <td><div class=\"not-number\">None</div></td>\n      <td><div class=\"not-number\">None</div></td>\n    </tr>\n  </tbody>\n</table>",
      "text/plain": "      dataset species species_query                                                  basename                                                                 name  duration_s  samples_mb  samples_n samples audio\n0  recordings     NaN          None                                                    081845                                                    recordings/081845       4.940       0.208     108928    None  None\n1  recordings     NaN          None  ACWO,NOFL,SPTO spotted towhee, acorn woodpecker, flicker  recordings/ACWO,NOFL,SPTO spotted towhee, acorn woodpecker, flicker     166.193       6.990    3664549    None  None\n2  recordings     NaN          None              BEWR Bewicks Wren (Coyote Hills parking lot)              recordings/BEWR Bewicks Wren (Coyote Hills parking lot)      46.469       1.954    1024651    None  None\n3  recordings     NaN          None          BEWR Bewicks Wren 2 (Coyote Hills parking lot) 2          recordings/BEWR Bewicks Wren 2 (Coyote Hills parking lot) 2      30.334       1.276     668860    None  None\n4  recordings     NaN          None            BEWR Bewicks Wren 2 (Coyote Hills parking lot)            recordings/BEWR Bewicks Wren 2 (Coyote Hills parking lot)      30.334       1.276     668860    None  None"
     },
     "metadata": {},
     "output_type": "display_data",
     "transient": {}
    },
    {
     "data": {
      "text/html": "<table border=\"1\" class=\"dataframe\">\n  <thead>\n    <tr style=\"text-align: right;\">\n      <th></th>\n      <th>0</th>\n    </tr>\n  </thead>\n  <tbody>\n    <tr>\n      <th>dataset</th>\n      <td><div class=\"not-number\">recordings</div></td>\n    </tr>\n    <tr>\n      <th>species</th>\n      <td>NaN</td>\n    </tr>\n    <tr>\n      <th>species_query</th>\n      <td><div class=\"not-number\">None</div></td>\n    </tr>\n    <tr>\n      <th>basename</th>\n      <td><div class=\"not-number\">081845</div></td>\n    </tr>\n    <tr>\n      <th>name</th>\n      <td><div class=\"not-number\">recordings/081845</div></td>\n    </tr>\n    <tr>\n      <th>duration_s</th>\n      <td>4.94</td>\n    </tr>\n    <tr>\n      <th>samples_mb</th>\n      <td>0.208</td>\n    </tr>\n    <tr>\n      <th>samples_n</th>\n      <td>108928</td>\n    </tr>\n    <tr>\n      <th>samples</th>\n      <td><div class=\"not-number\">None</div></td>\n    </tr>\n    <tr>\n      <th>audio</th>\n      <td><div class=\"not-number\">None</div></td>\n    </tr>\n  </tbody>\n</table>",
      "text/plain": "                               0\ndataset               recordings\nspecies                      NaN\nspecies_query               None\nbasename                  081845\nname           recordings/081845\nduration_s                  4.94\nsamples_mb                 0.208\nsamples_n                 108928\nsamples                     None\naudio                       None"
     },
     "metadata": {},
     "output_type": "display_data",
     "transient": {}
    }
   ],
   "source": [
    "recs = load_recs_data(\n",
    "    (recs_paths\n",
    "        # .sample(1000)  # For faster dev\n",
    "        # [lambda df: df.species == 'WIWA'].reset_index(drop=True)  # For faster dev\n",
    "    ),\n",
    "    metadata_only=True,\n",
    ")\n",
    "display(\n",
    "    recs.shape,\n",
    "    recs[:5],\n",
    "    recs[:1].T,\n",
    ")"
   ]
  },
  {
   "cell_type": "code",
   "execution_count": null,
   "metadata": {},
   "outputs": [
    {
     "data": {
      "text/html": "<table border=\"1\" class=\"dataframe\">\n  <thead>\n    <tr style=\"text-align: right;\">\n      <th></th>\n      <th>n</th>\n      <th>duration_h</th>\n      <th>samples_gb</th>\n      <th>samples_n</th>\n    </tr>\n    <tr>\n      <th>dataset</th>\n      <th></th>\n      <th></th>\n      <th></th>\n      <th></th>\n    </tr>\n  </thead>\n  <tbody>\n    <tr>\n      <th>birdclef-2015</th>\n      <td>33203</td>\n      <td>314.00</td>\n      <td>46.500</td>\n      <td>24954119550</td>\n    </tr>\n    <tr>\n      <th>ff1010bird</th>\n      <td>7690</td>\n      <td>21.40</td>\n      <td>3.160</td>\n      <td>1695645000</td>\n    </tr>\n    <tr>\n      <th>mlsp-2013</th>\n      <td>645</td>\n      <td>1.79</td>\n      <td>0.265</td>\n      <td>142222500</td>\n    </tr>\n    <tr>\n      <th>nips4b</th>\n      <td>1687</td>\n      <td>1.97</td>\n      <td>0.291</td>\n      <td>156083968</td>\n    </tr>\n    <tr>\n      <th>peterson-field-guide</th>\n      <td>519</td>\n      <td>2.96</td>\n      <td>0.437</td>\n      <td>234839808</td>\n    </tr>\n    <tr>\n      <th>recordings</th>\n      <td>98</td>\n      <td>2.02</td>\n      <td>0.298</td>\n      <td>160101847</td>\n    </tr>\n    <tr>\n      <th>warblrb10k</th>\n      <td>8000</td>\n      <td>22.40</td>\n      <td>3.310</td>\n      <td>1778407134</td>\n    </tr>\n  </tbody>\n</table>",
      "text/plain": "                          n  duration_h  samples_gb    samples_n\ndataset                                                         \nbirdclef-2015         33203     314.363      46.481  24954119550\nff1010bird             7690      21.361       3.158   1695645000\nmlsp-2013               645       1.792       0.265    142222500\nnips4b                 1687       1.966       0.291    156083968\npeterson-field-guide    519       2.958       0.437    234839808\nrecordings               98       2.017       0.298    160101847\nwarblrb10k             8000      22.404       3.313   1778407134"
     },
     "execution_count": 13,
     "metadata": {},
     "output_type": "execute_result"
    }
   ],
   "source": [
    "# Stats\n",
    "(recs\n",
    "    # .fillna('')\n",
    "    .assign(\n",
    "        n=1,\n",
    "        duration_h=lambda df: df.duration_s / 3600,\n",
    "        samples_gb=lambda df: df.samples_mb / 1024,\n",
    "        species=lambda df: df.species.cat.remove_unused_categories(),  # Else groupby includes all categories\n",
    "    )\n",
    "    .groupby([\n",
    "        'dataset',\n",
    "        # 'species',  # TODO\n",
    "    ])\n",
    "    [['n', 'duration_h', 'samples_gb', 'samples_n']]\n",
    "    .sum()\n",
    ")"
   ]
  }
 ],
 "metadata": {
  "kernelspec": {
   "display_name": "bubo-features (PYTHONSTARTUP)",
   "language": "python",
   "name": "bubo-features (PYTHONSTARTUP)"
  }
 },
 "nbformat": 4,
 "nbformat_minor": 2
}
