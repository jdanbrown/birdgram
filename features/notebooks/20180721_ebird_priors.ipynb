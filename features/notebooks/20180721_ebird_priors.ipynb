{
 "cells": [
  {
   "cell_type": "markdown",
   "metadata": {},
   "source": [
    "# Goals\n",
    "- [x] Get ebird data from Alex\n",
    "    - [x] US only (18g Feb17)\n",
    "    - [ ] Update US data (18g Feb17 -> 20g May18) so it isn't a truncated gz\n",
    "    - [ ] Try on global data (18g -> 29g -- turns out checklists are dominated by US)\n",
    "- [ ] ebird.predict_proba(loc, date) -> probs\n",
    "    - [x] Figure out how to aggregate to make data fit comfortably in mem\n",
    "    - [x] Make an out-of-core ddf pass over the cols-for-time-space-priors.tsv file to produce the aggregates\n",
    "    - [ ] Use the aggregates in memory to power the priors model\n",
    "- [ ] Ensemble audio probs + ebird probs (expose tuning param for weighted combination)\n",
    "- [ ] See how it improves model validation (e.g. many species should be way closer to few species)"
   ]
  },
  {
   "cell_type": "code",
   "execution_count": null,
   "metadata": {
    "time": "1.371s"
   },
   "outputs": [
    {
     "name": "stdout",
     "output_type": "stream",
     "text": "The autoreload extension is already loaded. To reload it, use:\n  %reload_ext autoreload\n"
    },
    {
     "name": "stdout",
     "output_type": "stream",
     "text": "The potoo.default_magic_magic extension is already loaded. To reload it, use:\n  %reload_ext potoo.default_magic_magic\n"
    }
   ],
   "source": [
    "import geohash\n",
    "from notebooks import *\n",
    "\n",
    "# Register a global dask progress bar\n",
    "dask_progress().register()"
   ]
  },
  {
   "cell_type": "code",
   "execution_count": null,
   "metadata": {
    "time": "1.068s"
   },
   "outputs": [],
   "source": [
    "# TODO -> potoo.dask\n",
    "\n",
    "def ddf_divisions_for_dtype(dtype: 'dtype-like', npartitions: int) -> np.ndarray:\n",
    "    dtype = np.dtype(dtype)\n",
    "    return list(np.linspace(\n",
    "        start=np.iinfo(dtype).min,\n",
    "        stop=np.iinfo(dtype).max,\n",
    "        num=npartitions + 1,\n",
    "        endpoint=True,\n",
    "        dtype=dtype,\n",
    "    ))\n",
    "\n",
    "def ddf_checkpoint(\n",
    "    ddf: dd.DataFrame,\n",
    "    path: str,\n",
    "    # TODO Think harder: bad interactions with upstream .compute()'s (e.g. checkpoints without resume, set_index without divisions)\n",
    "    #   - Addressing this would require a heavier refactor in the user's pipeline, since they'd have to wrap entire\n",
    "    #     prefixes of the pipeline -- and composing these would increase indentation in an awkward way...\n",
    "    resume_from_checkpoint=False,\n",
    "    # Manually surface common kwargs\n",
    "    engine='auto',  # .to_parquet + .read_parquet\n",
    "    compression='default',  # .to_parquet\n",
    "    get=None,  # .compute\n",
    "    # And provide a way to pass arbitrary kwargs we didn't handle above\n",
    "    to_parquet=dict(),\n",
    "    compute=dict(),\n",
    "    read_parquet=dict(),\n",
    ") -> dd.DataFrame:\n",
    "    \"\"\"\n",
    "    Checkpoint a ddf to (parquet) file\n",
    "    - Useful to persist the prefix of a computation before a multi-pass operation like .set_index(divisions=None), which\n",
    "      needs to force the input ddf once to calculate divisions and then again to do the shuffle\n",
    "    \"\"\"\n",
    "    if resume_from_checkpoint and dask_parquet_file_exists(path):\n",
    "        print(f'[RESUME from checkpoint: {path}]')  # TODO -> log.info once we upgrade the pipeline below to proper logging\n",
    "    else:\n",
    "        (ddf\n",
    "            .to_parquet(path, compute=False, engine=engine, compression=compression, **to_parquet)\n",
    "            .compute(get=get, **compute)\n",
    "        )\n",
    "    return dd.read_parquet(path, engine=engine, **read_parquet)\n",
    "\n",
    "def dask_parquet_file_exists(url):\n",
    "    \"\"\"Test if a parquet file exists, allowing any dask-friendly url\"\"\"\n",
    "    try:\n",
    "        # This will read the full <url>/_metadata file, which could be big for a parquet file with many parts\n",
    "        #   - TODO Get our hands directly on dask's fs module so we can do a more lightweight .exists()\n",
    "        #   - But match dask's dd.read_parquet(url) behavior, e.g. treat inputs 'foo.parquet' + 'foo.parquet/_metadata' the same\n",
    "        dd.read_parquet(url)\n",
    "    except Exception:\n",
    "        return False\n",
    "    else:\n",
    "        return True\n",
    "\n",
    "def dd_read_parquet_sample(\n",
    "    path,\n",
    "    sample: Union[float, List[float]] = None,\n",
    "    sample_divisions=None,\n",
    "    sample_npartitions=None,\n",
    "    sample_repartition_force=False,\n",
    "    sample_to_parquet=dict(compression='gzip'),\n",
    "    sample_get=None,  # Default: dask_get_for_scheduler('threads')\n",
    "    random_state=0,\n",
    "    **kwargs,\n",
    "):\n",
    "    \"\"\"\n",
    "    dd.read_parquet with sampling, to make it easy to downsample large files for faster dev iteration\n",
    "    - Same as dd.read_parquet(path, **kwargs) if sample isn't given\n",
    "    \"\"\"\n",
    "    if sample:\n",
    "        if isinstance(sample, float):\n",
    "            sample = [sample]\n",
    "        in_path = _sample_path(path, *sample[:-1])\n",
    "        out_path = _sample_path(path, *sample)\n",
    "        if not (Path(out_path) / '_metadata').exists():\n",
    "            log.info('Caching sample: %s <- %s' % (out_path, in_path))\n",
    "            # Read and sample\n",
    "            ddf = (\n",
    "                dd.read_parquet(in_path, **kwargs)\n",
    "                .sample(frac=sample[-1], replace=False, random_state=random_state)\n",
    "            )\n",
    "            # Repartition, if requested\n",
    "            if sample_divisions or sample_npartitions:\n",
    "                ddf = ddf.repartition(\n",
    "                    divisions=sample_divisions,\n",
    "                    npartitions=sample_npartitions,\n",
    "                    force=sample_repartition_force,\n",
    "                )\n",
    "            # Write cached sample\n",
    "            #   - Use 'threads' if repartitioning, else 'processes', to avoid ipc bottlenecks from the shuffle\n",
    "            sample_get = sample_get or dask_get_for_scheduler('threads' if sample_npartitions else 'processes')\n",
    "            (ddf\n",
    "                .to_parquet(out_path, **sample_to_parquet, compute=False)\n",
    "                .compute(get=sample_get)\n",
    "            )\n",
    "        # log.debug('Reading cached sample: %s' % out_path)\n",
    "        path = out_path\n",
    "    return dd.read_parquet(path, **kwargs)\n",
    "\n",
    "def _sample_path(path: str, *sample: float) -> str:\n",
    "    return '-'.join([path, *map(str, sample)])\n",
    "\n",
    "# TODO -> potoo.pandas\n",
    "\n",
    "def df_inspect(df, *xs: any):\n",
    "    for x in xs:\n",
    "        if hasattr(x, '__call__'):\n",
    "            x = x(df)\n",
    "        if isinstance(x, str):\n",
    "            # print(x)\n",
    "            display({'text/plain': x}, raw=True)  # display() instead of print() to match flush behavior\n",
    "        else:\n",
    "            display(x)  # Less reliable flush, e.g. for single-line strs (which don't make it here), and maybe others...\n",
    "            # ipy_print(x)  # Forces text/plain instead of text/html (e.g. df colors and spacing)\n",
    "    return df\n",
    "\n",
    "def df_with_totals(df):\n",
    "    return (df\n",
    "        .pipe(df_with_totals_col)\n",
    "        .pipe(df_with_totals_row)\n",
    "    )\n",
    "\n",
    "def df_with_totals_col(df):\n",
    "    return df.assign(total=lambda df: df.sum(axis=1))\n",
    "\n",
    "def df_with_totals_row(df):\n",
    "    return df.append(df.sum(axis=0).to_frame().T)\n",
    "\n",
    "# TODO -> potoo.util\n",
    "\n",
    "def assert_(cond, msg=None):\n",
    "    \"\"\"Raise in an expression instead of a statement\"\"\"\n",
    "    if msg is not None:\n",
    "        assert cond, msg\n",
    "    else:\n",
    "        assert cond\n",
    "\n",
    "# TODO -> features.util\n",
    "\n",
    "n_ebird_weeks = 48\n",
    "\n",
    "def date_to_ebird_week(date: date) -> int:\n",
    "    \"\"\"'Week' like ebird barchart weeks: 4 weeks per month, where the 4th week includes all days past 28\"\"\"\n",
    "    return (\n",
    "        (date.month - 1) * 4  # Week from month (4*[0,11])\n",
    "        + np.clip(date.day // 7, 0, 3)  # Week of month ([0,3])\n",
    "        + 1  # 0-indexed week to 1-indexed week ([0,47] -> [1,48])\n",
    "    )\n",
    "\n",
    "def normalize_ebird_week(week: int) -> int:\n",
    "    \"\"\"\n",
    "    >>> normalize_ebird_week(1 + np.array([-1, 0, 1]))\n",
    "    array([48,  1,  2])\n",
    "    >>> normalize_ebird_week(2 + np.array([-1, 0, 1]))\n",
    "    array([1,  2,  3])\n",
    "    >>> normalize_ebird_week(48 + np.array([-1, 0, 1]))\n",
    "    array([47, 48,  1])\n",
    "    \"\"\"\n",
    "    return (week - 1) % n_ebird_weeks + 1\n",
    "\n",
    "def geohash4(lat: float, lon: float, precision=4) -> str:\n",
    "    \"\"\"\n",
    "    Map (lat, lon) -> geohash4\n",
    "    - python-geohash\n",
    "        - https://github.com/hkwi/python-geohash/wiki\n",
    "        - https://github.com/hkwi/python-geohash/wiki/GeohashReference\n",
    "    - How big is a geohash?\n",
    "        - https://www.movable-type.co.uk/scripts/geohash.html [sf: (38,-122)]\n",
    "        - https://gis.stackexchange.com/questions/115280/what-is-the-precision-of-a-geohash\n",
    "    - Misc\n",
    "        - https://en.wikipedia.org/wiki/Geohash\n",
    "        - https://www.elastic.co/guide/en/elasticsearch/reference/current/search-aggregations-bucket-geohashgrid-aggregation.html\n",
    "\n",
    "    Geohash dims (height is constant, width varies by lat: max at equator, 0 at poles):\n",
    "    - geohash3: (w, h) ≤ ( 97,  97) mi\n",
    "    - geohash4: (w, h) ≤ ( 24,  12) mi\n",
    "    - geohash5: (w, h) ≤ (3.0, 3.0) mi\n",
    "    - geohash6: (w, h) ≤ (.76, .38) mi\n",
    "    \"\"\"\n",
    "    return np.vectorize(otypes=[str], pyfunc=geohash.encode)(lat, lon, precision=precision)"
   ]
  },
  {
   "cell_type": "code",
   "execution_count": null,
   "metadata": {},
   "outputs": [],
   "source": [
    "# Downsample raw data (in shell)\n",
    "#   - TODO Downsample by checklist_id instead of line (one species within a checklist) to keep checklist (sampling\n",
    "#     events) complete, else output priors are junk except for sample=1. This is nontrivial because we have to push the\n",
    "#     full data volume through far enough to get checklist_id=coalesce(sampling_event_identifier, group_identifier)...\n",
    "# (\n",
    "#   set -eux\n",
    "#   set -o pipefail\n",
    "#   echo '\n",
    "#     # 1              #  148m lines\n",
    "#     # 1     .1 0.1   # 14.8m lines\n",
    "#     # 0.1   .4 0.04  # 5.91m lines\n",
    "#     # 0.04  .5 0.02  # 2.96m lines\n",
    "#     # 0.1   .1 0.01  # 1.48m lines\n",
    "#     # 0.01  .4 0.004 #  591k lines\n",
    "#     # 0.004 .5 0.002 #  296k lines\n",
    "#     # 0.01  .1 0.001 #  148k lines\n",
    "#   ' | while read in_suf sample_frac out_suf comment; do\n",
    "#     if [ -z \"$in_suf\" -o \"$in_suf\" = '#' ]; then continue; fi\n",
    "#     raw_f='ebd_US_relFeb-2017.txt.gz'\n",
    "#     in_f=\"$raw_f-$in_suf\"; out_f=\"$raw_f-$out_suf\"\n",
    "#     cat \"$in_f\" \\\n",
    "#       | pv -terb -s\"`du -Lhs \"$in_f\" | field 0`\" -cN in \\\n",
    "#       | gunzip \\\n",
    "#       | sample-lines \"$sample_frac\" --seed=0 --keep-header \\\n",
    "#       | pigz \\\n",
    "#       | pv -terb -cN out \\\n",
    "#       > \"$out_f\"\n",
    "#   done\n",
    "# )"
   ]
  },
  {
   "cell_type": "code",
   "execution_count": null,
   "metadata": {},
   "outputs": [
    {
     "data": {
      "text/plain": "'9.9 MB'"
     },
     "metadata": {},
     "output_type": "display_data",
     "transient": {}
    },
    {
     "data": {
      "text/plain": "'1.5 MB'"
     },
     "metadata": {},
     "output_type": "display_data",
     "transient": {}
    },
    {
     "data": {
      "text/html": "<table border=\"1\" class=\"dataframe\">\n  <thead>\n    <tr style=\"text-align: right;\">\n      <th></th>\n      <th></th>\n      <th></th>\n      <th></th>\n      <th></th>\n      <th></th>\n      <th></th>\n      <th></th>\n      <th>min</th>\n      <th>25%</th>\n      <th>50%</th>\n      <th>75%</th>\n      <th>max</th>\n    </tr>\n    <tr>\n      <th></th>\n      <th>dtype</th>\n      <th>sizeof</th>\n      <th>len</th>\n      <th>count</th>\n      <th>nunique</th>\n      <th>mean</th>\n      <th>std</th>\n      <th></th>\n      <th></th>\n      <th></th>\n      <th></th>\n      <th></th>\n    </tr>\n  </thead>\n  <tbody>\n    <tr>\n      <th>index</th>\n      <th>int64</th>\n      <th>80000</th>\n      <th>10000</th>\n      <th>10000</th>\n      <th>10000</th>\n      <th>NaN</th>\n      <th>NaN</th>\n      <td>0</td>\n      <td>2499</td>\n      <td>4999</td>\n      <td>7499</td>\n      <td>9999</td>\n    </tr>\n    <tr>\n      <th>CATEGORY</th>\n      <th>object</th>\n      <th>639319</th>\n      <th>10000</th>\n      <th>10000</th>\n      <th>7</th>\n      <th>NaN</th>\n      <th>NaN</th>\n      <td><div class=\"not-number\">domestic</div></td>\n      <td><div class=\"not-number\">species</div></td>\n      <td><div class=\"not-number\">species</div></td>\n      <td><div class=\"not-number\">species</div></td>\n      <td><div class=\"not-number\">spuh</div></td>\n    </tr>\n    <tr>\n      <th>SCIENTIFIC NAME</th>\n      <th>object</th>\n      <th>746281</th>\n      <th>10000</th>\n      <th>10000</th>\n      <th>608</th>\n      <th>NaN</th>\n      <th>NaN</th>\n      <td><div class=\"not-number\">Acanthis flammea</div></td>\n      <td><div class=\"not-number\">Charadrius semipalmatus</div></td>\n      <td><div class=\"not-number\">Lophodytes cucullatus</div></td>\n      <td><div class=\"not-number\">Sayornis phoebe</div></td>\n      <td><div class=\"not-number\">Zosterops japonicus</div></td>\n    </tr>\n    <tr>\n      <th>OBSERVATION COUNT</th>\n      <th>object</th>\n      <th>651101</th>\n      <th>10000</th>\n      <th>10000</th>\n      <th>163</th>\n      <th>NaN</th>\n      <th>NaN</th>\n      <td><div class=\"not-number\">1</div></td>\n      <td><div class=\"not-number\">1</div></td>\n      <td><div class=\"not-number\">3</div></td>\n      <td><div class=\"not-number\">X</div></td>\n      <td><div class=\"not-number\">X</div></td>\n    </tr>\n    <tr>\n      <th>COUNTY CODE</th>\n      <th>object</th>\n      <th>659150</th>\n      <th>10000</th>\n      <th>9975</th>\n      <th>1316</th>\n      <th>NaN</th>\n      <th>NaN</th>\n      <td><div class=\"not-number\">US-AK-013</div></td>\n      <td><div class=\"not-number\">US-FL-105</div></td>\n      <td><div class=\"not-number\">US-MI-077</div></td>\n      <td><div class=\"not-number\">US-OR-003</div></td>\n      <td><div class=\"not-number\">US-WY-039</div></td>\n    </tr>\n    <tr>\n      <th>LATITUDE</th>\n      <th>float64</th>\n      <th>80000</th>\n      <th>10000</th>\n      <th>10000</th>\n      <th>5304</th>\n      <th>NaN</th>\n      <th>NaN</th>\n      <td>19.1</td>\n      <td>35.6</td>\n      <td>39.8</td>\n      <td>42.3</td>\n      <td>71.4</td>\n    </tr>\n    <tr>\n      <th>LONGITUDE</th>\n      <th>float64</th>\n      <th>80000</th>\n      <th>10000</th>\n      <th>10000</th>\n      <th>5303</th>\n      <th>NaN</th>\n      <th>NaN</th>\n      <td>-172</td>\n      <td>-107</td>\n      <td>-88.1</td>\n      <td>-77.7</td>\n      <td>173</td>\n    </tr>\n    <tr>\n      <th>OBSERVATION DATE</th>\n      <th>object</th>\n      <th>670000</th>\n      <th>10000</th>\n      <th>10000</th>\n      <th>5557</th>\n      <th>NaN</th>\n      <th>NaN</th>\n      <td><div class=\"not-number\">1800-01-01</div></td>\n      <td><div class=\"not-number\">1989-04-30</div></td>\n      <td><div class=\"not-number\">1998-03-15</div></td>\n      <td><div class=\"not-number\">2002-06-15</div></td>\n      <td><div class=\"not-number\">2004-12-31</div></td>\n    </tr>\n    <tr>\n      <th>SAMPLING EVENT IDENTIFIER</th>\n      <th>object</th>\n      <th>655180</th>\n      <th>10000</th>\n      <th>10000</th>\n      <th>9883</th>\n      <th>NaN</th>\n      <th>NaN</th>\n      <td><div class=\"not-number\">S1000381</div></td>\n      <td><div class=\"not-number\">S16318134</div></td>\n      <td><div class=\"not-number\">S25555972</div></td>\n      <td><div class=\"not-number\">S4519111</div></td>\n      <td><div class=\"not-number\">S9998747</div></td>\n    </tr>\n    <tr>\n      <th>ALL SPECIES REPORTED</th>\n      <th>int64</th>\n      <th>80000</th>\n      <th>10000</th>\n      <th>10000</th>\n      <th>2</th>\n      <th>NaN</th>\n      <th>NaN</th>\n      <td>0</td>\n      <td>1</td>\n      <td>1</td>\n      <td>1</td>\n      <td>1</td>\n    </tr>\n  </tbody>\n</table>",
      "text/plain": "                                                                                    min                      25%                    50%              75%                  max\n                          dtype   sizeof len   count nunique mean std                                                                                                        \nindex                     int64   80000  10000 10000 10000   NaN  NaN                 0                     2499                   4999             7499                 9999\nCATEGORY                  object  639319 10000 10000 7       NaN  NaN          domestic                  species                species          species                 spuh\nSCIENTIFIC NAME           object  746281 10000 10000 608     NaN  NaN  Acanthis flammea  Charadrius semipalmatus  Lophodytes cucullatus  Sayornis phoebe  Zosterops japonicus\nOBSERVATION COUNT         object  651101 10000 10000 163     NaN  NaN                 1                        1                      3                X                    X\nCOUNTY CODE               object  659150 10000 9975  1316    NaN  NaN         US-AK-013                US-FL-105              US-MI-077        US-OR-003            US-WY-039\nLATITUDE                  float64 80000  10000 10000 5304    NaN  NaN              19.1                     35.6                   39.8             42.3                 71.4\nLONGITUDE                 float64 80000  10000 10000 5303    NaN  NaN              -172                     -107                  -88.1            -77.7                  173\nOBSERVATION DATE          object  670000 10000 10000 5557    NaN  NaN        1800-01-01               1989-04-30             1998-03-15       2002-06-15           2004-12-31\nSAMPLING EVENT IDENTIFIER object  655180 10000 10000 9883    NaN  NaN          S1000381                S16318134              S25555972         S4519111             S9998747\nALL SPECIES REPORTED      int64   80000  10000 10000 2       NaN  NaN                 0                        1                      1                1                    1"
     },
     "metadata": {},
     "output_type": "display_data",
     "transient": {}
    }
   ],
   "source": [
    "# Inspect raw data\n",
    "# ebd_tsv_path = f'{data_dir}/ebird/ebd_US_relFeb-2017/ebd_US_relFeb-2017.txt.gz'        #  18gb,  148m lines\n",
    "# ebd_tsv_path = f'{data_dir}/ebird/ebd_US_relFeb-2017/ebd_US_relFeb-2017.txt.gz-0.1'    # 778mb, 14.8m lines\n",
    "# ebd_tsv_path = f'{data_dir}/ebird/ebd_US_relFeb-2017/ebd_US_relFeb-2017.txt.gz-0.01'   # 100mb, 1.48m lines\n",
    "ebd_tsv_path = f'{data_dir}/ebird/ebd_US_relFeb-2017/ebd_US_relFeb-2017.txt.gz-0.001'  #  12mb,  148k lines\n",
    "proj_cols = [\n",
    "    'CATEGORY', 'SCIENTIFIC NAME', 'OBSERVATION COUNT', 'COUNTY CODE', 'LATITUDE', 'LONGITUDE', 'OBSERVATION DATE',\n",
    "    'SAMPLING EVENT IDENTIFIER', 'ALL SPECIES REPORTED',\n",
    "]\n",
    "ebd_tsv_df = pd.read_csv(ebd_tsv_path, sep='\\t', nrows=10000, compression='gzip')\n",
    "display(\n",
    "    humanize.naturalsize(len(joblib_dumps(ebd_tsv_df))),\n",
    "    humanize.naturalsize(len(joblib_dumps(ebd_tsv_df[proj_cols]))),\n",
    "    # df_summary(ebd_tsv_df).T,\n",
    "    df_summary(ebd_tsv_df[proj_cols]).T,\n",
    ")"
   ]
  },
  {
   "cell_type": "code",
   "execution_count": null,
   "metadata": {},
   "outputs": [],
   "source": [
    "# Convert ebd.txt -> proj.tsv (in shell)\n",
    "#   - ~10x faster to read than raw data: no gunzip + fewer cols\n",
    "# (\n",
    "#   set -eux\n",
    "#   set -o pipefail\n",
    "#   sufs=(\n",
    "#     # 0.001\n",
    "#     # 0.002\n",
    "#     # 0.004\n",
    "#     # 0.01\n",
    "#     # 0.02\n",
    "#     # 0.04\n",
    "#     # 0.1\n",
    "#     # 1\n",
    "#   )\n",
    "#   for suf in \"${sufs[@]}\"; do\n",
    "#     in_f=\"ebd_US_relFeb-2017.txt.gz-$suf\"\n",
    "#     out_f=\"derived/priors/ebd_US_relFeb-2017-1-proj.tsv-$suf\"\n",
    "#     cat \"$in_f\" \\\n",
    "#       | pv -terb -cN in -s\"`du -Lhs \"$in_f\" | field 0`\" \\\n",
    "#       | gunzip \\\n",
    "#       | cut -f4,6,9,17,25,26,27,32,39,40 \\\n",
    "#       | pv -terb -cN out \\\n",
    "#       > \"$out_f\"\n",
    "#   done\n",
    "# )"
   ]
  },
  {
   "cell_type": "code",
   "execution_count": null,
   "metadata": {},
   "outputs": [],
   "source": [
    "# FIXME ebd_US_relFeb-2017.txt.gz looks truncated (maybe the original download didn't complete?)\n",
    "#\n",
    "#   # Convert ebd.txt -> proj.tsv (in shell)\n",
    "#   $ ...\n",
    "#   + in_f=ebd_US_relFeb-2017.txt.gz-1\n",
    "#   + out_f=derived/priors/ebd_US_relFeb-2017-0-proj.tsv-1\n",
    "#   ...\n",
    "#         out: 11.6GiB 0:13:21 [11.3MiB/s]\n",
    "#         out: 11.6GiB 0:13:21 [14.9MiB/s]\n",
    "#   gunzip: (stdin): unexpected end of file\n",
    "#\n",
    "#   $ tail -3 derived/priors/ebd_US_relFeb-2017-0-proj.tsv-1\n",
    "#   species Regulus calendula       2       US-OR-067       45.546725       -122.9678249    2012-03-07      S10112003       1\n",
    "#   species Recurvirostra americana 13      US-UT-053       37.1810055      -113.7148046    2012-03-18      S10208648       0\n",
    "#   species Passer domesticus       5       US-WI-097       44.4993598      -89.5568454     2012-01-19      S96324"
   ]
  },
  {
   "cell_type": "code",
   "execution_count": null,
   "metadata": {
    "time": "5.067s"
   },
   "outputs": [
    {
     "data": {
      "text/plain": "\n[read: features/data/ebird/ebd_US_relFeb-2017/derived/priors/ebd_US_relFeb-2017-1-proj.tsv-0.001]"
     },
     "metadata": {},
     "output_type": "display_data",
     "transient": {}
    },
    {
     "data": {
      "text/plain": "npartitions[2], divisions[(None, None, None)]"
     },
     "metadata": {},
     "output_type": "display_data",
     "transient": {}
    },
    {
     "data": {
      "text/html": "<table border=\"1\" class=\"dataframe\">\n  <thead>\n    <tr style=\"text-align: right;\">\n      <th></th>\n      <th>index</th>\n      <th>CATEGORY</th>\n      <th>SCIENTIFIC NAME</th>\n      <th>OBSERVATION COUNT</th>\n      <th>COUNTY CODE</th>\n      <th>LATITUDE</th>\n      <th>LONGITUDE</th>\n      <th>OBSERVATION DATE</th>\n      <th>SAMPLING EVENT IDENTIFIER</th>\n      <th>ALL SPECIES REPORTED</th>\n      <th>GROUP IDENTIFIER</th>\n    </tr>\n  </thead>\n  <tbody>\n    <tr>\n      <th>0</th>\n      <td><div class=\"not-number\">int64</div></td>\n      <td><div class=\"not-number\">object</div></td>\n      <td><div class=\"not-number\">object</div></td>\n      <td><div class=\"not-number\">object</div></td>\n      <td><div class=\"not-number\">object</div></td>\n      <td><div class=\"not-number\">float32</div></td>\n      <td><div class=\"not-number\">float32</div></td>\n      <td><div class=\"not-number\">object</div></td>\n      <td><div class=\"not-number\">object</div></td>\n      <td><div class=\"not-number\">float16</div></td>\n      <td><div class=\"not-number\">object</div></td>\n    </tr>\n  </tbody>\n</table>",
      "text/plain": "   index CATEGORY SCIENTIFIC NAME OBSERVATION COUNT COUNTY CODE LATITUDE LONGITUDE OBSERVATION DATE SAMPLING EVENT IDENTIFIER ALL SPECIES REPORTED GROUP IDENTIFIER\n0  int64   object          object            object      object  float32   float32           object                    object              float16           object"
     },
     "metadata": {},
     "output_type": "display_data",
     "transient": {}
    },
    {
     "data": {
      "text/plain": "\n[map-side ops]"
     },
     "metadata": {},
     "output_type": "display_data",
     "transient": {}
    },
    {
     "data": {
      "text/plain": "npartitions[2], divisions[(None, None, None)]"
     },
     "metadata": {},
     "output_type": "display_data",
     "transient": {}
    },
    {
     "data": {
      "text/html": "<table border=\"1\" class=\"dataframe\">\n  <thead>\n    <tr style=\"text-align: right;\">\n      <th></th>\n      <th>index</th>\n      <th>scientific_name</th>\n      <th>checklist_id</th>\n      <th>geohash4</th>\n      <th>week</th>\n    </tr>\n  </thead>\n  <tbody>\n    <tr>\n      <th>0</th>\n      <td><div class=\"not-number\">int64</div></td>\n      <td><div class=\"not-number\">category</div></td>\n      <td><div class=\"not-number\">int32</div></td>\n      <td><div class=\"not-number\">category</div></td>\n      <td><div class=\"not-number\">uint8</div></td>\n    </tr>\n  </tbody>\n</table>",
      "text/plain": "   index scientific_name checklist_id  geohash4   week\n0  int64        category        int32  category  uint8"
     },
     "metadata": {},
     "output_type": "display_data",
     "transient": {}
    },
    {
     "data": {
      "text/plain": "\n[checkpointing before set_index: features/data/ebird/ebd_US_relFeb-2017/derived/priors/ebd_US_relFeb-2017-2-chk-setindex.parquet-0.001]"
     },
     "metadata": {},
     "output_type": "display_data",
     "transient": {}
    },
    {
     "name": "stdout",
     "output_type": "stream",
     "text": "\r[                                                                                          ] | 0% Completed |  0.0s"
    },
    {
     "name": "stdout",
     "output_type": "stream",
     "text": "\r[#################                                                                         ] | 19% Completed |  0.1s"
    },
    {
     "name": "stdout",
     "output_type": "stream",
     "text": "\r[##########################                                                                ] | 29% Completed |  0.2s"
    },
    {
     "name": "stdout",
     "output_type": "stream",
     "text": "\r[##########################################                                                ] | 47% Completed |  0.3s"
    },
    {
     "name": "stdout",
     "output_type": "stream",
     "text": "\r[################################################                                          ] | 54% Completed |  0.5s"
    },
    {
     "name": "stdout",
     "output_type": "stream",
     "text": "\r[################################################################                          ] | 72% Completed |  0.6s"
    },
    {
     "name": "stdout",
     "output_type": "stream",
     "text": "\r[#####################################################################                     ] | 77% Completed |  0.7s"
    },
    {
     "name": "stdout",
     "output_type": "stream",
     "text": "\r[#####################################################################                     ] | 77% Completed |  0.9s"
    },
    {
     "name": "stdout",
     "output_type": "stream",
     "text": "\r[##################################################################################        ] | 91% Completed |  1.0s"
    },
    {
     "name": "stdout",
     "output_type": "stream",
     "text": "\r[#####################################################################################     ] | 95% Completed |  1.1s"
    },
    {
     "name": "stdout",
     "output_type": "stream",
     "text": "\r[#####################################################################################     ] | 95% Completed |  1.3s"
    },
    {
     "name": "stdout",
     "output_type": "stream",
     "text": "\r[#######################################################################################   ] | 96% Completed |  1.4s"
    },
    {
     "name": "stdout",
     "output_type": "stream",
     "text": "\r[##########################################################################################] | 100% Completed |  1.5s"
    },
    {
     "name": "stdout",
     "output_type": "stream",
     "text": "\n"
    },
    {
     "data": {
      "text/plain": "\n[checkpointed before set_index: features/data/ebird/ebd_US_relFeb-2017/derived/priors/ebd_US_relFeb-2017-2-chk-setindex.parquet-0.001]"
     },
     "metadata": {},
     "output_type": "display_data",
     "transient": {}
    },
    {
     "data": {
      "text/plain": "npartitions[2], divisions[(None, None, None)]"
     },
     "metadata": {},
     "output_type": "display_data",
     "transient": {}
    },
    {
     "data": {
      "text/html": "<table border=\"1\" class=\"dataframe\">\n  <thead>\n    <tr style=\"text-align: right;\">\n      <th></th>\n      <th>index</th>\n      <th>scientific_name</th>\n      <th>checklist_id</th>\n      <th>geohash4</th>\n      <th>week</th>\n      <th>dist_key</th>\n    </tr>\n  </thead>\n  <tbody>\n    <tr>\n      <th>0</th>\n      <td><div class=\"not-number\">int64</div></td>\n      <td><div class=\"not-number\">category</div></td>\n      <td><div class=\"not-number\">int32</div></td>\n      <td><div class=\"not-number\">category</div></td>\n      <td><div class=\"not-number\">uint8</div></td>\n      <td><div class=\"not-number\">uint16</div></td>\n    </tr>\n  </tbody>\n</table>",
      "text/plain": "   index scientific_name checklist_id  geohash4   week dist_key\n0  int64        category        int32  category  uint8   uint16"
     },
     "metadata": {},
     "output_type": "display_data",
     "transient": {}
    },
    {
     "data": {
      "text/plain": "\n[set_index(dist_key)]"
     },
     "metadata": {},
     "output_type": "display_data",
     "transient": {}
    },
    {
     "data": {
      "text/plain": "npartitions[10], divisions[(0, 6553, 13107, 19660, 26214, 32767, 39321, 45874, 52428, 58981, 65535)]"
     },
     "metadata": {},
     "output_type": "display_data",
     "transient": {}
    },
    {
     "data": {
      "text/html": "<table border=\"1\" class=\"dataframe\">\n  <thead>\n    <tr style=\"text-align: right;\">\n      <th></th>\n      <th>dist_key</th>\n      <th>scientific_name</th>\n      <th>checklist_id</th>\n      <th>geohash4</th>\n      <th>week</th>\n    </tr>\n  </thead>\n  <tbody>\n    <tr>\n      <th>0</th>\n      <td><div class=\"not-number\">uint64</div></td>\n      <td><div class=\"not-number\">category</div></td>\n      <td><div class=\"not-number\">int32</div></td>\n      <td><div class=\"not-number\">category</div></td>\n      <td><div class=\"not-number\">uint8</div></td>\n    </tr>\n  </tbody>\n</table>",
      "text/plain": "  dist_key scientific_name checklist_id  geohash4   week\n0   uint64        category        int32  category  uint8"
     },
     "metadata": {},
     "output_type": "display_data",
     "transient": {}
    },
    {
     "data": {
      "text/plain": "\n[map_partitions]"
     },
     "metadata": {},
     "output_type": "display_data",
     "transient": {}
    },
    {
     "data": {
      "text/plain": "npartitions[10], divisions[(0, 6553, 13107, 19660, 26214, 32767, 39321, 45874, 52428, 58981, 65535)]"
     },
     "metadata": {},
     "output_type": "display_data",
     "transient": {}
    },
    {
     "data": {
      "text/html": "<table border=\"1\" class=\"dataframe\">\n  <thead>\n    <tr style=\"text-align: right;\">\n      <th></th>\n      <th>dist_key</th>\n      <th>week</th>\n      <th>geohash4</th>\n      <th>scientific_name</th>\n      <th>n_present</th>\n      <th>n</th>\n    </tr>\n  </thead>\n  <tbody>\n    <tr>\n      <th>0</th>\n      <td><div class=\"not-number\">uint64</div></td>\n      <td><div class=\"not-number\">uint8</div></td>\n      <td><div class=\"not-number\">category</div></td>\n      <td><div class=\"not-number\">category</div></td>\n      <td><div class=\"not-number\">int64</div></td>\n      <td><div class=\"not-number\">uint32</div></td>\n    </tr>\n  </tbody>\n</table>",
      "text/plain": "  dist_key   week  geohash4 scientific_name n_present       n\n0   uint64  uint8  category        category     int64  uint32"
     },
     "metadata": {},
     "output_type": "display_data",
     "transient": {}
    },
    {
     "data": {
      "text/plain": "\n[write: features/data/ebird/ebd_US_relFeb-2017/derived/priors/ebd_US_relFeb-2017-3-priors.parquet-0.001]"
     },
     "metadata": {},
     "output_type": "display_data",
     "transient": {}
    },
    {
     "name": "stdout",
     "output_type": "stream",
     "text": "\r[                                                                                          ] | 0% Completed |  0.0s"
    },
    {
     "name": "stdout",
     "output_type": "stream",
     "text": "\r[##############                                                                            ] | 15% Completed |  0.1s"
    },
    {
     "name": "stdout",
     "output_type": "stream",
     "text": "\r[############################################                                              ] | 49% Completed |  0.2s"
    },
    {
     "name": "stdout",
     "output_type": "stream",
     "text": "\r[###############################################                                           ] | 53% Completed |  0.3s"
    },
    {
     "name": "stdout",
     "output_type": "stream",
     "text": "\r[###############################################                                           ] | 53% Completed |  0.4s"
    },
    {
     "name": "stdout",
     "output_type": "stream",
     "text": "\r[########################################################                                  ] | 62% Completed |  0.6s"
    },
    {
     "name": "stdout",
     "output_type": "stream",
     "text": "\r[##################################################################################        ] | 91% Completed |  0.7s"
    },
    {
     "name": "stdout",
     "output_type": "stream",
     "text": "\r[##########################################################################################] | 100% Completed |  0.8s"
    },
    {
     "name": "stdout",
     "output_type": "stream",
     "text": "\n"
    },
    {
     "data": {
      "text/plain": "\n[inspect priors: features/data/ebird/ebd_US_relFeb-2017/derived/priors/ebd_US_relFeb-2017-3-priors.parquet-0.001]"
     },
     "metadata": {},
     "output_type": "display_data",
     "transient": {}
    },
    {
     "data": {
      "text/plain": "npartitions[10], divisions[(0, 6553, 13107, 19660, 26214, 32767, 39324, 45876, 52432, 58982, 65535)]"
     },
     "metadata": {},
     "output_type": "display_data",
     "transient": {}
    },
    {
     "data": {
      "text/plain": "  [memory_usage by partition]"
     },
     "metadata": {},
     "output_type": "display_data",
     "transient": {}
    },
    {
     "name": "stdout",
     "output_type": "stream",
     "text": "\r[                                                                                          ] | 0% Completed |  0.0s"
    },
    {
     "name": "stdout",
     "output_type": "stream",
     "text": "\r[##########################################################################################] | 100% Completed |  0.1s"
    },
    {
     "name": "stdout",
     "output_type": "stream",
     "text": "\n"
    },
    {
     "data": {
      "text/html": "<table border=\"1\" class=\"dataframe\">\n  <thead>\n    <tr style=\"text-align: right;\">\n      <th></th>\n      <th>index</th>\n      <th>Index</th>\n      <th>week</th>\n      <th>geohash4</th>\n      <th>scientific_name</th>\n      <th>n_present</th>\n      <th>n</th>\n      <th>total</th>\n    </tr>\n  </thead>\n  <tbody>\n    <tr>\n      <th>0</th>\n      <td>0</td>\n      <td>67824</td>\n      <td>8478</td>\n      <td>170554</td>\n      <td>55566</td>\n      <td>67824</td>\n      <td>33912</td>\n      <td>404158</td>\n    </tr>\n    <tr>\n      <th>1</th>\n      <td>0</td>\n      <td>68496</td>\n      <td>8562</td>\n      <td>429850</td>\n      <td>70893</td>\n      <td>68496</td>\n      <td>34248</td>\n      <td>680545</td>\n    </tr>\n    <tr>\n      <th>2</th>\n      <td>0</td>\n      <td>69552</td>\n      <td>8694</td>\n      <td>171535</td>\n      <td>56704</td>\n      <td>69552</td>\n      <td>34776</td>\n      <td>410813</td>\n    </tr>\n    <tr>\n      <th>3</th>\n      <td>0</td>\n      <td>68560</td>\n      <td>8570</td>\n      <td>173361</td>\n      <td>56689</td>\n      <td>68560</td>\n      <td>34280</td>\n      <td>410020</td>\n    </tr>\n    <tr>\n      <th>4</th>\n      <td>0</td>\n      <td>68152</td>\n      <td>8519</td>\n      <td>171917</td>\n      <td>55713</td>\n      <td>68152</td>\n      <td>34076</td>\n      <td>406529</td>\n    </tr>\n    <tr>\n      <th>5</th>\n      <td>0</td>\n      <td>66584</td>\n      <td>8323</td>\n      <td>429372</td>\n      <td>70415</td>\n      <td>66584</td>\n      <td>33292</td>\n      <td>674570</td>\n    </tr>\n    <tr>\n      <th>6</th>\n      <td>0</td>\n      <td>66584</td>\n      <td>8323</td>\n      <td>169268</td>\n      <td>54722</td>\n      <td>66584</td>\n      <td>33292</td>\n      <td>398773</td>\n    </tr>\n    <tr>\n      <th>7</th>\n      <td>0</td>\n      <td>69616</td>\n      <td>8702</td>\n      <td>430130</td>\n      <td>71173</td>\n      <td>69616</td>\n      <td>34808</td>\n      <td>684045</td>\n    </tr>\n    <tr>\n      <th>8</th>\n      <td>0</td>\n      <td>63456</td>\n      <td>7932</td>\n      <td>163423</td>\n      <td>54838</td>\n      <td>63456</td>\n      <td>31728</td>\n      <td>384833</td>\n    </tr>\n    <tr>\n      <th>9</th>\n      <td>0</td>\n      <td>67480</td>\n      <td>8435</td>\n      <td>167296</td>\n      <td>55850</td>\n      <td>67480</td>\n      <td>33740</td>\n      <td>400281</td>\n    </tr>\n    <tr>\n      <th>10</th>\n      <td>0</td>\n      <td>676304</td>\n      <td>84538</td>\n      <td>2476706</td>\n      <td>602563</td>\n      <td>676304</td>\n      <td>338152</td>\n      <td>4854567</td>\n    </tr>\n  </tbody>\n</table>",
      "text/plain": "    index   Index   week  geohash4  scientific_name  n_present       n    total\n0       0   67824   8478    170554            55566      67824   33912   404158\n1       0   68496   8562    429850            70893      68496   34248   680545\n2       0   69552   8694    171535            56704      69552   34776   410813\n3       0   68560   8570    173361            56689      68560   34280   410020\n4       0   68152   8519    171917            55713      68152   34076   406529\n5       0   66584   8323    429372            70415      66584   33292   674570\n6       0   66584   8323    169268            54722      66584   33292   398773\n7       0   69616   8702    430130            71173      69616   34808   684045\n8       0   63456   7932    163423            54838      63456   31728   384833\n9       0   67480   8435    167296            55850      67480   33740   400281\n10      0  676304  84538   2476706           602563     676304  338152  4854567"
     },
     "metadata": {},
     "output_type": "display_data",
     "transient": {}
    },
    {
     "name": "stdout",
     "output_type": "stream",
     "text": "\r[                                                                                          ] | 0% Completed |  0.0s"
    },
    {
     "name": "stdout",
     "output_type": "stream",
     "text": "\r[##########################################################################################] | 100% Completed |  0.1s"
    },
    {
     "name": "stdout",
     "output_type": "stream",
     "text": "\n"
    },
    {
     "name": "stderr",
     "output_type": "stream",
     "text": "/Users/danb/miniconda3/envs/bubo-features/lib/python3.6/site-packages/dask/dataframe/core.py:4206: UserWarning: Insufficient elements for `head`. 10000 elements requested, only 8478 elements available. Try passing larger `npartitions` to `head`.\n  warnings.warn(msg.format(n, len(r)))\n"
    },
    {
     "data": {
      "text/html": "<table border=\"1\" class=\"dataframe\">\n  <thead>\n    <tr style=\"text-align: right;\">\n      <th></th>\n      <th></th>\n      <th></th>\n      <th></th>\n      <th></th>\n      <th></th>\n      <th></th>\n      <th></th>\n      <th>min</th>\n      <th>25%</th>\n      <th>50%</th>\n      <th>75%</th>\n      <th>max</th>\n    </tr>\n    <tr>\n      <th></th>\n      <th>dtype</th>\n      <th>sizeof</th>\n      <th>len</th>\n      <th>count</th>\n      <th>nunique</th>\n      <th>mean</th>\n      <th>std</th>\n      <th></th>\n      <th></th>\n      <th></th>\n      <th></th>\n      <th></th>\n    </tr>\n  </thead>\n  <tbody>\n    <tr>\n      <th>dist_key</th>\n      <th>uint64</th>\n      <th>67824</th>\n      <th>8478</th>\n      <th>8478</th>\n      <th>3324</th>\n      <th>3232.109</th>\n      <th>1879.542</th>\n      <td>0</td>\n      <td>1606</td>\n      <td>3215</td>\n      <td>4844</td>\n      <td>6550</td>\n    </tr>\n    <tr>\n      <th>week</th>\n      <th>uint8</th>\n      <th>8478</th>\n      <th>8478</th>\n      <th>8478</th>\n      <th>48</th>\n      <th>24.032</th>\n      <th>12.889</th>\n      <td>1</td>\n      <td>15</td>\n      <td>21</td>\n      <td>35</td>\n      <td>48</td>\n    </tr>\n    <tr>\n      <th>geohash4</th>\n      <th>category</th>\n      <th>252474</th>\n      <th>8478</th>\n      <th>8478</th>\n      <th>2518</th>\n      <th>NaN</th>\n      <th>NaN</th>\n      <td><div class=\"not-number\">87z9</div></td>\n      <td><div class=\"not-number\">9vqd</div></td>\n      <td><div class=\"not-number\">djne</div></td>\n      <td><div class=\"not-number\">dqcs</div></td>\n      <td><div class=\"not-number\">f2rd</div></td>\n    </tr>\n    <tr>\n      <th>scientific_name</th>\n      <th>category</th>\n      <th>76046</th>\n      <th>8478</th>\n      <th>8478</th>\n      <th>515</th>\n      <th>NaN</th>\n      <th>NaN</th>\n      <td><div class=\"not-number\">Acanthis flammea</div></td>\n      <td><div class=\"not-number\">Chordeiles minor</div></td>\n      <td><div class=\"not-number\">Melospiza georgiana</div></td>\n      <td><div class=\"not-number\">Setophaga coronata</div></td>\n      <td><div class=\"not-number\">Zosterops japonicus</div></td>\n    </tr>\n    <tr>\n      <th>n_present</th>\n      <th>int64</th>\n      <th>67824</th>\n      <th>8478</th>\n      <th>8478</th>\n      <th>5</th>\n      <th>1.028</th>\n      <th>0.183</th>\n      <td>1</td>\n      <td>1</td>\n      <td>1</td>\n      <td>1</td>\n      <td>5</td>\n    </tr>\n    <tr>\n      <th>n</th>\n      <th>uint32</th>\n      <th>33912</th>\n      <th>8478</th>\n      <th>8478</th>\n      <th>26</th>\n      <th>4.685</th>\n      <th>9.071</th>\n      <td>1</td>\n      <td>1</td>\n      <td>2</td>\n      <td>4</td>\n      <td>86</td>\n    </tr>\n  </tbody>\n</table>",
      "text/plain": "                                                                                   min               25%                  50%                 75%                  max\n                dtype    sizeof len  count nunique mean     std                                                                                                       \ndist_key        uint64   67824  8478 8478  3324    3232.109 1879.542                 0              1606                 3215                4844                 6550\nweek            uint8    8478   8478 8478  48      24.032   12.889                   1                15                   21                  35                   48\ngeohash4        category 252474 8478 8478  2518    NaN      NaN                   87z9              9vqd                 djne                dqcs                 f2rd\nscientific_name category 76046  8478 8478  515     NaN      NaN       Acanthis flammea  Chordeiles minor  Melospiza georgiana  Setophaga coronata  Zosterops japonicus\nn_present       int64    67824  8478 8478  5       1.028    0.183                    1                 1                    1                   1                    5\nn               uint32   33912  8478 8478  26      4.685    9.071                    1                 1                    2                   4                   86"
     },
     "metadata": {},
     "output_type": "display_data",
     "transient": {}
    },
    {
     "data": {
      "text/html": "<table border=\"1\" class=\"dataframe\">\n  <thead>\n    <tr style=\"text-align: right;\">\n      <th></th>\n      <th>week</th>\n      <th>geohash4</th>\n      <th>scientific_name</th>\n      <th>n_present</th>\n      <th>n</th>\n    </tr>\n    <tr>\n      <th>dist_key</th>\n      <th></th>\n      <th></th>\n      <th></th>\n      <th></th>\n      <th></th>\n    </tr>\n  </thead>\n  <tbody>\n    <tr>\n      <th>0</th>\n      <td>17</td>\n      <td><div class=\"not-number\">9x0m</div></td>\n      <td><div class=\"not-number\">Turdus migratorius</div></td>\n      <td>1</td>\n      <td>1</td>\n    </tr>\n    <tr>\n      <th>1</th>\n      <td>8</td>\n      <td><div class=\"not-number\">9tnr</div></td>\n      <td><div class=\"not-number\">Haemorhous mexicanus</div></td>\n      <td>1</td>\n      <td>2</td>\n    </tr>\n    <tr>\n      <th>1</th>\n      <td>8</td>\n      <td><div class=\"not-number\">9tnr</div></td>\n      <td><div class=\"not-number\">Campylorhynchus brunneicapillus</div></td>\n      <td>1</td>\n      <td>2</td>\n    </tr>\n    <tr>\n      <th>1</th>\n      <td>23</td>\n      <td><div class=\"not-number\">dnky</div></td>\n      <td><div class=\"not-number\">Spizella pusilla</div></td>\n      <td>1</td>\n      <td>1</td>\n    </tr>\n    <tr>\n      <th>5</th>\n      <td>48</td>\n      <td><div class=\"not-number\">9zy6</div></td>\n      <td><div class=\"not-number\">Poecile atricapillus</div></td>\n      <td>1</td>\n      <td>1</td>\n    </tr>\n    <tr>\n      <th>6</th>\n      <td>30</td>\n      <td><div class=\"not-number\">9rxe</div></td>\n      <td><div class=\"not-number\">Dumetella carolinensis</div></td>\n      <td>1</td>\n      <td>1</td>\n    </tr>\n    <tr>\n      <th>7</th>\n      <td>8</td>\n      <td><div class=\"not-number\">dnh7</div></td>\n      <td><div class=\"not-number\">Turdus migratorius</div></td>\n      <td>1</td>\n      <td>1</td>\n    </tr>\n    <tr>\n      <th>7</th>\n      <td>21</td>\n      <td><div class=\"not-number\">9qcg</div></td>\n      <td><div class=\"not-number\">Picoides pubescens</div></td>\n      <td>1</td>\n      <td>1</td>\n    </tr>\n    <tr>\n      <th>9</th>\n      <td>46</td>\n      <td><div class=\"not-number\">9vm9</div></td>\n      <td><div class=\"not-number\">Recurvirostra americana</div></td>\n      <td>1</td>\n      <td>1</td>\n    </tr>\n    <tr>\n      <th>10</th>\n      <td>39</td>\n      <td><div class=\"not-number\">87z9</div></td>\n      <td><div class=\"not-number\">Haemorhous mexicanus</div></td>\n      <td>1</td>\n      <td>1</td>\n    </tr>\n  </tbody>\n</table>",
      "text/plain": "          week geohash4                  scientific_name  n_present  n\ndist_key                                                              \n0           17     9x0m               Turdus migratorius          1  1\n1            8     9tnr             Haemorhous mexicanus          1  2\n1            8     9tnr  Campylorhynchus brunneicapillus          1  2\n1           23     dnky                 Spizella pusilla          1  1\n5           48     9zy6             Poecile atricapillus          1  1\n6           30     9rxe           Dumetella carolinensis          1  1\n7            8     dnh7               Turdus migratorius          1  1\n7           21     9qcg               Picoides pubescens          1  1\n9           46     9vm9          Recurvirostra americana          1  1\n10          39     87z9             Haemorhous mexicanus          1  1"
     },
     "metadata": {},
     "output_type": "display_data",
     "transient": {}
    }
   ],
   "source": [
    "# %%snakeviz\n",
    "# %%prun -l50 -scumtime\n",
    "# Prototype e2e pipeline in one go, using downsampled data\n",
    "#   - Output: priors\n",
    "#   - TODO Why super-linear after the checkpoint? Maybe slow pd groupby -> part dfs are too large -> try more nparts?\n",
    "#       - Punt: assign-by-index is the bottleneck, but I haven't found a faster way to do that windowing operation...\n",
    "# Resources:\n",
    "#   - http://dask.pydata.org/en/latest/dataframe-api.html\n",
    "#   - http://dask.pydata.org/en/latest/dataframe-performance.html\n",
    "#   - http://dask.pydata.org/en/latest/dataframe.html\n",
    "#   - http://dask.pydata.org/en/latest/dataframe-api.html#dask.dataframe.DataFrame.set_index\n",
    "\n",
    "# sample = 1      #  148m lines,  18gb input, no_chk[?],    chk[1512  + 3713s]\n",
    "# sample = 0.1    # 14.8m lines, 778mb input, no_chk[?],    chk[ 153  +   87s]\n",
    "# sample = 0.04   # 5.91m lines, 350mb input, no_chk[?],    chk[?]\n",
    "# sample = 0.02   # 2.96m lines, 189mb input, no_chk[?],    chk[?]\n",
    "# sample = 0.01   # 1.48m lines, 100mb input, no_chk[19s],  chk[  16  +    5.0s]\n",
    "# sample = 0.004  #  591k lines,  43mb input, no_chk[?],    chk[?]\n",
    "# sample = 0.002  #  296k lines,  23mb input, no_chk[?],    chk[?]\n",
    "sample = 0.001  #  148k lines,  12mb input, no_chk[2.1s], chk[  1.6 +    0.6s]\n",
    "\n",
    "ebd_proj_size = 12 * 1024**3\n",
    "ebd_proj_npartitions = 128\n",
    "relpath = os.path.relpath\n",
    "proj_path     = relpath(f'{data_dir}/ebird/ebd_US_relFeb-2017/derived/priors/ebd_US_relFeb-2017-1-proj.tsv-{sample}')\n",
    "setindex_path = relpath(f'{data_dir}/ebird/ebd_US_relFeb-2017/derived/priors/ebd_US_relFeb-2017-2-chk-setindex.parquet-{sample}')\n",
    "priors_path   = relpath(f'{data_dir}/ebird/ebd_US_relFeb-2017/derived/priors/ebd_US_relFeb-2017-3-priors.parquet-{sample}')\n",
    "priors = (\n",
    "\n",
    "    # Read proj.tsv (raw lines with subset of cols)\n",
    "    #   - sample=0.001: 148k rows, 12mb\n",
    "    dd.read_csv(\n",
    "        proj_path,\n",
    "        # TODO Tune partitions\n",
    "        # blocksize=int(ebd_proj_size / ebd_proj_npartitions * sample),\n",
    "        # blocksize=int(ebd_proj_size / ebd_proj_npartitions * sample * 10),\n",
    "        # blocksize=int(ebd_proj_size / ebd_proj_npartitions * sample * 100),\n",
    "        blocksize=int(ebd_proj_size / ebd_proj_npartitions / 10),  # TODO This seems to work ok...?\n",
    "        sep='\\t',\n",
    "        dtype={\n",
    "            # lonlat decimal precision [https://en.wikipedia.org/wiki/Decimal_degrees]\n",
    "            #   - float32: ~5-6 decimals, ~.1-1m\n",
    "            #   - float16: ~1-2 decimals, ~1-10km\n",
    "            'LATITUDE': 'float32',\n",
    "            'LONGITUDE': 'float32',\n",
    "            'OBSERVATION COUNT': 'str',  # int | 'X'\n",
    "            'ALL SPECIES REPORTED': 'float16',  # Smallest dtype for {1, 0, None}\n",
    "        },\n",
    "    )\n",
    "    # .pipe(puts, lambda ddf: 'len[%s]: read_csv' % len(ddf))  # Debug\n",
    "\n",
    "    # Inspect [high-level perf debugging]\n",
    "    .pipe(df_inspect,\n",
    "        f'\\n[read: {proj_path}]',\n",
    "        lambda ddf: f'npartitions[{ddf.npartitions}], divisions[{ddf.divisions}]',\n",
    "        lambda ddf: ddf.reset_index().dtypes.to_frame().T,\n",
    "        # Heavy [high-level perf debugging]\n",
    "        # '  [memory_usage by partition]',\n",
    "        # lambda ddf: (ddf\n",
    "        #     .map_partitions(lambda df: df.memory_usage(deep=True).to_frame().T)\n",
    "        #     .compute()\n",
    "        #     .pipe(df_with_totals).reset_index()[:50]\n",
    "        #     # TODO Add a dtype col to the memory_usage outputs\n",
    "        #     # .pipe(lambda df: pd.concat(axis=1, objs=[\n",
    "        #     #     df,\n",
    "        #     #     ddf.reset_index().dtypes.to_frame().rename({'index': 'Index'}),  # TODO Make this not reorder the index\n",
    "        #     # ]))\n",
    "        # ),\n",
    "    )\n",
    "\n",
    "    # Simplify col names\n",
    "    .rename(columns=lambda c: c.lower().replace(' ', '_'))\n",
    "\n",
    "    # Drop cols we don't need\n",
    "    .drop(axis=1, labels=['county_code'])\n",
    "\n",
    "    # Keep obs with well defined species [https://help.ebird.org/customer/portal/articles/1006825]\n",
    "    #   - sample=0.001: 144k rows\n",
    "    .pipe(lambda ddf: ddf[ddf.category.isin(['species', 'domestic', 'issf', 'form'])])\n",
    "    .drop(axis=1, labels=['category'])\n",
    "    # .pipe(puts, lambda ddf: 'len[%s]: categories.isin' % len(ddf))  # Debug\n",
    "\n",
    "    # Keep obs from checklists that represent a complete sampling of all present species\n",
    "    #   - sample=0.001: 125k rows\n",
    "    .pipe(lambda ddf: ddf[ddf.all_species_reported == 1])\n",
    "    .drop(axis=1, labels=['all_species_reported'])\n",
    "    # .pipe(puts, lambda ddf: 'len[%s]: all_species_reported' % len(ddf))  # Debug\n",
    "\n",
    "    # Map (sampling_event_identifier, group_identifier) -> checklist_id\n",
    "    #   - sample=0.001: 125k rows\n",
    "    #   - Compress from str to int32 ('S10150441' -> 10150441) for ~46% compression (e.g. 24mb -> 13mb)\n",
    "    #   - Map sampling_event_identifier to pos ('S10150441' -> 10150441) and group_identifier to net ('G554362' -> -554362)\n",
    "    #   - FIXME Some of these nulls are due to misaligned fields (maybe something funny in the tsv? nontrivial problem -- punt)\n",
    "    .dropna(subset=['sampling_event_identifier'])\n",
    "    .assign(checklist_id=lambda ddf: (ddf\n",
    "        .group_identifier.combine_first(ddf.sampling_event_identifier)\n",
    "        .str.replace('S', '').str.replace('G', '-').astype(np.int32)\n",
    "    ))\n",
    "    .drop(axis=1, labels=['sampling_event_identifier', 'group_identifier'])\n",
    "    # .pipe(puts, lambda ddf: 'len[%s]: checklist_id' % len(ddf))  # Debug\n",
    "\n",
    "    # Map (lat, lon) -> geohash4\n",
    "    #   - sample=0.001: 125k rows\n",
    "    #   - python-geohash\n",
    "    #       - https://github.com/hkwi/python-geohash/wiki\n",
    "    #       - https://github.com/hkwi/python-geohash/wiki/GeohashReference\n",
    "    #   - How big is a geohash?\n",
    "    #       - https://www.movable-type.co.uk/scripts/geohash.html [sf: (38,-122)]\n",
    "    #       - https://gis.stackexchange.com/questions/115280/what-is-the-precision-of-a-geohash\n",
    "    #   - Misc\n",
    "    #       - https://en.wikipedia.org/wiki/Geohash\n",
    "    #       - https://www.elastic.co/guide/en/elasticsearch/reference/current/search-aggregations-bucket-geohashgrid-aggregation.html\n",
    "    .dropna(subset=['latitude', 'longitude'])\n",
    "    .pipe(lambda ddf: ddf.map_partitions(\n",
    "        meta=ddf._meta.assign(\n",
    "            geohash4='',\n",
    "        ),\n",
    "        func=lambda df: df.assign(\n",
    "            geohash4=lambda df: geohash4(df.latitude, df.longitude),\n",
    "        ),\n",
    "    ))\n",
    "    .drop(axis=1, labels=['latitude', 'longitude'])\n",
    "    # .pipe(puts, lambda ddf: 'len[%s]: geohash4' % len(ddf))  # Debug\n",
    "\n",
    "    # Keep obs with >0 observation_count (including 'X')\n",
    "    #   - sample=0.001: 125k rows\n",
    "    .pipe(lambda ddf: ddf[ddf.observation_count != '0'])\n",
    "    .drop(axis=1, labels=['observation_count'])\n",
    "    # .pipe(puts, lambda ddf: 'len[%s]: observation_count' % len(ddf))  # Debug\n",
    "\n",
    "    # Assert our cols and drop any remaining nulls\n",
    "    #   - sample=0.001: 125k rows\n",
    "    .pipe(tap, lambda ddf: assert_(\n",
    "        ddf.columns.tolist() == ['scientific_name', 'observation_date', 'checklist_id', 'geohash4'],\n",
    "        'Unexpected cols: %s' % ddf.columns.tolist(),\n",
    "    ))\n",
    "    .dropna()\n",
    "    # .pipe(puts, lambda ddf: 'len[%s]: dropna' % len(ddf))  # Debug\n",
    "\n",
    "    # Map observation_date:str -> observation_week:uint8\n",
    "    #   - (category would be more compact than uint32/64 in the .parquet, but that ran into problems -- abort)\n",
    "    .assign(\n",
    "        observation_date=lambda df: pd.to_datetime(df.observation_date),\n",
    "        week=lambda df: date_to_ebird_week(df.observation_date.dt),\n",
    "    )\n",
    "    .astype({'week': np.uint8})\n",
    "    .drop(axis=1, labels=['observation_date'])\n",
    "\n",
    "    # Create categories to compact space usage via dictionary encoding\n",
    "    #   - WARNING Have to recreate category dtypes after munging meta, else downstream .to_parquet fails on `pd.Index(None)`\n",
    "    .astype({\n",
    "        'scientific_name': 'category',\n",
    "        'geohash4': 'category',  # Max 32**4 = ~1m values -> ~4mb dictionary (separate dictionary per partition df)\n",
    "    })\n",
    "\n",
    "    # Inspect [high-level perf debugging]\n",
    "    .pipe(df_inspect,\n",
    "        '\\n[map-side ops]',\n",
    "        lambda ddf: f'npartitions[{ddf.npartitions}], divisions[{ddf.divisions}]',\n",
    "        lambda ddf: ddf.reset_index().dtypes.to_frame().T,\n",
    "        # '  [memory_usage by partition]',\n",
    "        # lambda ddf: (ddf\n",
    "        #     .map_partitions(lambda df: df.memory_usage(deep=True).to_frame().T)\n",
    "        #     .compute()\n",
    "        #     .pipe(df_with_totals).reset_index()[:50]\n",
    "        # ),\n",
    "    )\n",
    "\n",
    "    # .set_index to partition once to avoid 3 shuffles below (drop_duplicates, groupby, groupby)\n",
    "    #   - ddf.set_index doesn't support multiple cols, so add dist_key = hash(week, geohash4)\n",
    "    #   - Hash to uint16 for ≤64k partitions [alt: ≤256 for uint8]\n",
    "    #   - [wontfix] uint16 gets unavoidably widened to uint64 by df.set_index [https://github.com/pandas-dev/pandas/issues/16404]\n",
    "    .assign(dist_key=lambda df: (\n",
    "        np.vectorize(otypes=[np.uint16], pyfunc=lambda week, geohash4: (\n",
    "            one(np.frombuffer(\n",
    "                dtype=np.uint16,\n",
    "                buffer=hashlib.sha1(f'{week}/{geohash4}'.encode('utf8')).digest()[:2],\n",
    "            ))\n",
    "        ))(df.week, df.geohash4)\n",
    "    ))\n",
    "    #   - Checkpoint before .set_index\n",
    "    #       - Why helpful: the timing numbers above show a clean time-complexity split of linear before the chk and super-linear after\n",
    "    .pipe(df_inspect, f'\\n[checkpointing before set_index: {setindex_path}]')\n",
    "    .pipe(ddf_checkpoint, setindex_path, compression=None,\n",
    "        get=dask_get_for_scheduler('threads'),  # Procs no good [TODO why?]\n",
    "        # resume_from_checkpoint=True,  # Re-comment out after measuring perf of .set_index\n",
    "    )\n",
    "    .pipe(df_inspect,\n",
    "        f'\\n[checkpointed before set_index: {setindex_path}]',\n",
    "        lambda ddf: f'npartitions[{ddf.npartitions}], divisions[{ddf.divisions}]',\n",
    "        lambda ddf: ddf.reset_index().dtypes.to_frame().T,\n",
    "        # Heavy [high-level perf debugging]\n",
    "        # '  [memory_usage by partition]',\n",
    "        # lambda ddf: (ddf\n",
    "        #     .map_partitions(lambda df: df.memory_usage(deep=True).to_frame().T)\n",
    "        #     .compute()\n",
    "        #     .pipe(df_with_totals).reset_index()[:50]\n",
    "        # ),\n",
    "    )\n",
    "    #   - Finally do the .set_index\n",
    "    .pipe(lambda ddf: (ddf\n",
    "        .set_index('dist_key', divisions=ddf_divisions_for_dtype(ddf.dist_key.dtype,\n",
    "            # TODO TODO Tune npartitions for groupby's\n",
    "            # ddf.npartitions,\n",
    "            # 1,   # sync+prun: 0.01[4.7s]\n",
    "            # 2,   # sync+prun: 0.01[4.6s]\n",
    "            # 5,   # sync+prun: 0.01[4.6s]\n",
    "            10,  # sync+prun: 0.01[5.1s]\n",
    "            # 20,  # sync+prun: 0.01[6.1s]\n",
    "            # 40,  # sync+prun: 0.01[8.1s]\n",
    "        ))\n",
    "    ))\n",
    "    #   - HACK Recreate category dtypes after the .set_index, else downstream .to_parquet fails on `pd.Index(None)`\n",
    "    .pipe(lambda ddf: (ddf\n",
    "        .astype({k: 'category' for k, v in ddf.dtypes.items() if v.name == 'category'})\n",
    "    ))\n",
    "\n",
    "    # Inspect [high-level perf debugging]\n",
    "    .pipe(df_inspect,\n",
    "        '\\n[set_index(dist_key)]',\n",
    "        lambda ddf: f'npartitions[{ddf.npartitions}], divisions[{ddf.divisions}]',\n",
    "        lambda ddf: ddf.reset_index().dtypes.to_frame().T,\n",
    "        # '  [memory_usage by partition]',\n",
    "        # lambda ddf: (ddf\n",
    "        #     .map_partitions(lambda df: df.memory_usage(deep=True).to_frame().T)\n",
    "        #     .compute()\n",
    "        #     .pipe(df_with_totals).reset_index()[:50]\n",
    "        # ),\n",
    "    )\n",
    "\n",
    "    # Do a bunch of map-side groupby's via .map_partitions, relying on the .set_index we just did\n",
    "    .map_partitions(lambda df: (df\n",
    "\n",
    "        # Drop duplicate rows since all (checklist, species) should be unique\n",
    "        #   - sample=0.001: 142k -> 98.7k rows\n",
    "        #   - Some dupes come from group_identifier vs. sampling_event_identifier: anything with group_identifier is repeated\n",
    "        #   - Also, the sample=0.001 raw file shows most lines occur once but ~18 lines are repeated ~2500-2800 times <- definitely junk\n",
    "        .drop_duplicates(\n",
    "            subset=['week', 'geohash4', 'scientific_name', 'checklist_id'],\n",
    "            keep='first',\n",
    "        )\n",
    "\n",
    "        # # Inspect\n",
    "        # .pipe(df_inspect,\n",
    "        #     '\\n[map_partitions: drop_duplicates]',\n",
    "        #     lambda df: df.reset_index().dtypes.to_frame().T,\n",
    "        # )\n",
    "\n",
    "        # Compute n (window)\n",
    "        #   - Num unique checklist_id's per (week, geohash4)\n",
    "        #   - WARNING observed=True else groupby blows up all geohash4.cat x scientific_name.cat, which is way too much\n",
    "        #   - This assign-by-index is the bottleneck (way slower than the groupby for n_present)\n",
    "        #       - See cell below for attempts at optimizing -- haven't found any faster approaches yet...\n",
    "        .reset_index()  # dist_key, from ddf.map_partitions\n",
    "        .set_index(['dist_key', 'week', 'geohash4'])\n",
    "        .assign(n=lambda df: (df\n",
    "            .groupby(observed=True, by=['dist_key', 'week', 'geohash4'])\n",
    "            .checklist_id.nunique()\n",
    "            .astype(np.uint32)  # TODO uint16 to save space? -- measure max in the data? Or just drop this col entirely?\n",
    "        ))\n",
    "\n",
    "        # # Inspect\n",
    "        # .pipe(df_inspect,\n",
    "        #     '\\n[map_partitions: n]',\n",
    "        #     lambda df: df.reset_index().dtypes.to_frame().T,\n",
    "        # )\n",
    "\n",
    "        # Compute n_present (group)\n",
    "        #   - Num checklists per (week, geohash4, scientific_name)\n",
    "        #   - WARNING observed=True else groupby blows up all geohash4.cat x scientific_name.cat, which is way too much\n",
    "        .assign(n_present=1)  # One per (week, geohash4, scientific_name, checklist_id)\n",
    "        .groupby(observed=True, by=['dist_key', 'week', 'geohash4', 'scientific_name'])\n",
    "        .agg({\n",
    "            'n_present': 'sum',\n",
    "            'n': 'first',  # Passthru; assume unique per group\n",
    "            # Drop: checklist_id\n",
    "        })\n",
    "\n",
    "        # # Inspect\n",
    "        # .pipe(df_inspect,\n",
    "        #     '\\n[map_partitions: n_present -> p]',\n",
    "        #     lambda df: df.reset_index().dtypes.to_frame().T,\n",
    "        # )\n",
    "\n",
    "        # XXX Keep (n_present, n) for simpler query-time aggregation\n",
    "        # # Compute p, drop n_present\n",
    "        # .assign(p=lambda df: (\n",
    "        #     (df.n_present / df.n)\n",
    "        #     .astype('float16')  # TODO uint8?\n",
    "        #     # FIXME This turns into float32 after to_parquet\n",
    "        #     #   - parquet doesn't support float16, so maybe it's getting coerced? [https://drill.apache.org/docs/parquet-format/]\n",
    "        #     #   - TODO But does fastparquet read not re-cast to the dtype the .parquet file was written from?\n",
    "        # ))\n",
    "        # .drop(columns=['n_present'])\n",
    "        # .pipe(df_reorder_cols, last=['n'])\n",
    "\n",
    "        # # Inspect\n",
    "        # .pipe(df_inspect,\n",
    "        #     '\\n[map_partitions: p]',\n",
    "        #     lambda df: df.reset_index().dtypes.to_frame().T,\n",
    "        # )\n",
    "\n",
    "        # Restore dtypes lost in the index by the groupby's above (e.g. week: uint8 -> uint64)\n",
    "        .reset_index()\n",
    "        .astype({\n",
    "            'week': 'uint8',\n",
    "        })\n",
    "\n",
    "        # Restore ['dist_key'] index for ddf.map_partitions\n",
    "        .set_index(['dist_key'])\n",
    "\n",
    "        # # Inspect\n",
    "        # .pipe(df_inspect,\n",
    "        #     '\\n[map_partitions: set_index]',\n",
    "        #     lambda df: df.reset_index().dtypes.to_frame().T,\n",
    "        # )\n",
    "\n",
    "    ))\n",
    "\n",
    "    # Inspect [high-level perf debugging]\n",
    "    .pipe(df_inspect,\n",
    "        f'\\n[map_partitions]',\n",
    "        lambda ddf: f'npartitions[{ddf.npartitions}], divisions[{ddf.divisions}]',\n",
    "        lambda ddf: ddf.reset_index().dtypes.to_frame().T,\n",
    "    )\n",
    "\n",
    "    # Write\n",
    "    .pipe(df_inspect, f'\\n[write: {priors_path}]')\n",
    "    .pipe(ddf_checkpoint, priors_path,\n",
    "        compression=None,\n",
    "        # get=dask_get_for_scheduler('synchronous'),  # Debug\n",
    "        get=dask_get_for_scheduler('threads'),  # Faster\n",
    "        # get=dask_get_for_scheduler('processes'),\n",
    "    )\n",
    "\n",
    "    # Inspect [high-level perf debugging]\n",
    "    .pipe(df_inspect,\n",
    "        f'\\n[inspect priors: {priors_path}]',\n",
    "        lambda ddf: f'npartitions[{ddf.npartitions}], divisions[{ddf.divisions}]',\n",
    "        # Heavy [high-level perf debugging]\n",
    "        '  [memory_usage by partition]',\n",
    "        lambda ddf: (ddf\n",
    "            .map_partitions(lambda df: df.memory_usage(deep=True).to_frame().T)\n",
    "            .compute()\n",
    "            .pipe(df_with_totals).reset_index()[:50]\n",
    "        ),\n",
    "    )\n",
    "    .pipe(tap, lambda ddf: (ddf\n",
    "        .head(10000)\n",
    "        .pipe(df_inspect,\n",
    "            lambda df: df_summary(df).T,\n",
    "            lambda df: df[:10],\n",
    "        )\n",
    "    ))\n",
    "\n",
    ")"
   ]
  },
  {
   "cell_type": "code",
   "execution_count": null,
   "metadata": {},
   "outputs": [
    {
     "name": "stdout",
     "output_type": "stream",
     "text": "\r[                                                                                          ] | 0% Completed |  0.0s"
    },
    {
     "name": "stdout",
     "output_type": "stream",
     "text": "\r[##########################################################################################] | 100% Completed |  0.1s"
    },
    {
     "name": "stdout",
     "output_type": "stream",
     "text": "\n"
    },
    {
     "name": "stderr",
     "output_type": "stream",
     "text": "/Users/danb/miniconda3/envs/bubo-features/lib/python3.6/site-packages/dask/dataframe/core.py:4206: UserWarning: Insufficient elements for `head`. 1000000 elements requested, only 8478 elements available. Try passing larger `npartitions` to `head`.\n  warnings.warn(msg.format(n, len(r)))\n"
    },
    {
     "data": {
      "text/html": "<table border=\"1\" class=\"dataframe\">\n  <thead>\n    <tr style=\"text-align: right;\">\n      <th></th>\n      <th></th>\n      <th></th>\n      <th></th>\n      <th></th>\n      <th></th>\n      <th></th>\n      <th></th>\n      <th>min</th>\n      <th>25%</th>\n      <th>50%</th>\n      <th>75%</th>\n      <th>max</th>\n    </tr>\n    <tr>\n      <th></th>\n      <th>dtype</th>\n      <th>sizeof</th>\n      <th>len</th>\n      <th>count</th>\n      <th>nunique</th>\n      <th>mean</th>\n      <th>std</th>\n      <th></th>\n      <th></th>\n      <th></th>\n      <th></th>\n      <th></th>\n    </tr>\n  </thead>\n  <tbody>\n    <tr>\n      <th>dist_key</th>\n      <th>uint64</th>\n      <th>67824</th>\n      <th>8478</th>\n      <th>8478</th>\n      <th>3324</th>\n      <th>3232.109</th>\n      <th>1879.542</th>\n      <td>0</td>\n      <td>1606</td>\n      <td>3215</td>\n      <td>4844</td>\n      <td>6550</td>\n    </tr>\n    <tr>\n      <th>week</th>\n      <th>uint8</th>\n      <th>8478</th>\n      <th>8478</th>\n      <th>8478</th>\n      <th>48</th>\n      <th>24.032</th>\n      <th>12.889</th>\n      <td>1</td>\n      <td>15</td>\n      <td>21</td>\n      <td>35</td>\n      <td>48</td>\n    </tr>\n    <tr>\n      <th>geohash4</th>\n      <th>category</th>\n      <th>252474</th>\n      <th>8478</th>\n      <th>8478</th>\n      <th>2518</th>\n      <th>NaN</th>\n      <th>NaN</th>\n      <td><div class=\"not-number\">87z9</div></td>\n      <td><div class=\"not-number\">9vqd</div></td>\n      <td><div class=\"not-number\">djne</div></td>\n      <td><div class=\"not-number\">dqcs</div></td>\n      <td><div class=\"not-number\">f2rd</div></td>\n    </tr>\n    <tr>\n      <th>scientific_name</th>\n      <th>category</th>\n      <th>76046</th>\n      <th>8478</th>\n      <th>8478</th>\n      <th>515</th>\n      <th>NaN</th>\n      <th>NaN</th>\n      <td><div class=\"not-number\">Acanthis flammea</div></td>\n      <td><div class=\"not-number\">Chordeiles minor</div></td>\n      <td><div class=\"not-number\">Melospiza georgiana</div></td>\n      <td><div class=\"not-number\">Setophaga coronata</div></td>\n      <td><div class=\"not-number\">Zosterops japonicus</div></td>\n    </tr>\n    <tr>\n      <th>n_present</th>\n      <th>int64</th>\n      <th>67824</th>\n      <th>8478</th>\n      <th>8478</th>\n      <th>5</th>\n      <th>1.028</th>\n      <th>0.183</th>\n      <td>1</td>\n      <td>1</td>\n      <td>1</td>\n      <td>1</td>\n      <td>5</td>\n    </tr>\n    <tr>\n      <th>n</th>\n      <th>uint32</th>\n      <th>33912</th>\n      <th>8478</th>\n      <th>8478</th>\n      <th>26</th>\n      <th>4.685</th>\n      <th>9.071</th>\n      <td>1</td>\n      <td>1</td>\n      <td>2</td>\n      <td>4</td>\n      <td>86</td>\n    </tr>\n  </tbody>\n</table>",
      "text/plain": "                                                                                   min               25%                  50%                 75%                  max\n                dtype    sizeof len  count nunique mean     std                                                                                                       \ndist_key        uint64   67824  8478 8478  3324    3232.109 1879.542                 0              1606                 3215                4844                 6550\nweek            uint8    8478   8478 8478  48      24.032   12.889                   1                15                   21                  35                   48\ngeohash4        category 252474 8478 8478  2518    NaN      NaN                   87z9              9vqd                 djne                dqcs                 f2rd\nscientific_name category 76046  8478 8478  515     NaN      NaN       Acanthis flammea  Chordeiles minor  Melospiza georgiana  Setophaga coronata  Zosterops japonicus\nn_present       int64    67824  8478 8478  5       1.028    0.183                    1                 1                    1                   1                    5\nn               uint32   33912  8478 8478  26      4.685    9.071                    1                 1                    2                   4                   86"
     },
     "metadata": {},
     "output_type": "display_data",
     "transient": {}
    },
    {
     "data": {
      "text/html": "<table border=\"1\" class=\"dataframe\">\n  <thead>\n    <tr style=\"text-align: right;\">\n      <th></th>\n      <th>week</th>\n      <th>geohash4</th>\n      <th>scientific_name</th>\n      <th>n_present</th>\n      <th>n</th>\n    </tr>\n    <tr>\n      <th>dist_key</th>\n      <th></th>\n      <th></th>\n      <th></th>\n      <th></th>\n      <th></th>\n    </tr>\n  </thead>\n  <tbody>\n    <tr>\n      <th>0</th>\n      <td>17</td>\n      <td><div class=\"not-number\">9x0m</div></td>\n      <td><div class=\"not-number\">Turdus migratorius</div></td>\n      <td>1</td>\n      <td>1</td>\n    </tr>\n    <tr>\n      <th>1</th>\n      <td>8</td>\n      <td><div class=\"not-number\">9tnr</div></td>\n      <td><div class=\"not-number\">Haemorhous mexicanus</div></td>\n      <td>1</td>\n      <td>2</td>\n    </tr>\n    <tr>\n      <th>1</th>\n      <td>8</td>\n      <td><div class=\"not-number\">9tnr</div></td>\n      <td><div class=\"not-number\">Campylorhynchus brunneicapillus</div></td>\n      <td>1</td>\n      <td>2</td>\n    </tr>\n    <tr>\n      <th>1</th>\n      <td>23</td>\n      <td><div class=\"not-number\">dnky</div></td>\n      <td><div class=\"not-number\">Spizella pusilla</div></td>\n      <td>1</td>\n      <td>1</td>\n    </tr>\n    <tr>\n      <th>5</th>\n      <td>48</td>\n      <td><div class=\"not-number\">9zy6</div></td>\n      <td><div class=\"not-number\">Poecile atricapillus</div></td>\n      <td>1</td>\n      <td>1</td>\n    </tr>\n    <tr>\n      <th>6</th>\n      <td>30</td>\n      <td><div class=\"not-number\">9rxe</div></td>\n      <td><div class=\"not-number\">Dumetella carolinensis</div></td>\n      <td>1</td>\n      <td>1</td>\n    </tr>\n    <tr>\n      <th>7</th>\n      <td>8</td>\n      <td><div class=\"not-number\">dnh7</div></td>\n      <td><div class=\"not-number\">Turdus migratorius</div></td>\n      <td>1</td>\n      <td>1</td>\n    </tr>\n    <tr>\n      <th>7</th>\n      <td>21</td>\n      <td><div class=\"not-number\">9qcg</div></td>\n      <td><div class=\"not-number\">Picoides pubescens</div></td>\n      <td>1</td>\n      <td>1</td>\n    </tr>\n    <tr>\n      <th>9</th>\n      <td>46</td>\n      <td><div class=\"not-number\">9vm9</div></td>\n      <td><div class=\"not-number\">Recurvirostra americana</div></td>\n      <td>1</td>\n      <td>1</td>\n    </tr>\n    <tr>\n      <th>10</th>\n      <td>39</td>\n      <td><div class=\"not-number\">87z9</div></td>\n      <td><div class=\"not-number\">Haemorhous mexicanus</div></td>\n      <td>1</td>\n      <td>1</td>\n    </tr>\n  </tbody>\n</table>",
      "text/plain": "          week geohash4                  scientific_name  n_present  n\ndist_key                                                              \n0           17     9x0m               Turdus migratorius          1  1\n1            8     9tnr             Haemorhous mexicanus          1  2\n1            8     9tnr  Campylorhynchus brunneicapillus          1  2\n1           23     dnky                 Spizella pusilla          1  1\n5           48     9zy6             Poecile atricapillus          1  1\n6           30     9rxe           Dumetella carolinensis          1  1\n7            8     dnh7               Turdus migratorius          1  1\n7           21     9qcg               Picoides pubescens          1  1\n9           46     9vm9          Recurvirostra americana          1  1\n10          39     87z9             Haemorhous mexicanus          1  1"
     },
     "metadata": {},
     "output_type": "display_data",
     "transient": {}
    }
   ],
   "source": [
    "(priors\n",
    "    .head(1_000_000)\n",
    "    .pipe(df_inspect,\n",
    "        lambda df: df_summary(df).T,\n",
    "        lambda df: df[:10],\n",
    "    )\n",
    ");"
   ]
  },
  {
   "cell_type": "code",
   "execution_count": null,
   "metadata": {
    "time": "45.294s"
   },
   "outputs": [
    {
     "name": "stdout",
     "output_type": "stream",
     "text": "features/data/ebird/ebd_US_relFeb-2017/derived/priors/ebd_US_relFeb-2017-3-priors.parquet-1\n"
    },
    {
     "name": "stdout",
     "output_type": "stream",
     "text": "[01:57:49.635] INFO   Materializing ddf -> df...\n\r[                                                                                          ] | 0% Completed |  0.0s"
    },
    {
     "name": "stdout",
     "output_type": "stream",
     "text": "\r[#                                                                                         ] | 1% Completed |  0.2s"
    },
    {
     "name": "stdout",
     "output_type": "stream",
     "text": "\r[###                                                                                       ] | 3% Completed |  0.3s"
    },
    {
     "name": "stdout",
     "output_type": "stream",
     "text": "\r[####                                                                                      ] | 5% Completed |  0.4s"
    },
    {
     "name": "stdout",
     "output_type": "stream",
     "text": "\r[######                                                                                    ] | 7% Completed |  0.5s"
    },
    {
     "name": "stdout",
     "output_type": "stream",
     "text": "\r[########                                                                                  ] | 9% Completed |  0.6s"
    },
    {
     "name": "stdout",
     "output_type": "stream",
     "text": "\r[##########                                                                                ] | 11% Completed |  0.7s"
    },
    {
     "name": "stdout",
     "output_type": "stream",
     "text": "\r[############                                                                              ] | 13% Completed |  0.8s"
    },
    {
     "name": "stdout",
     "output_type": "stream",
     "text": "\r[##############                                                                            ] | 16% Completed |  0.9s"
    },
    {
     "name": "stdout",
     "output_type": "stream",
     "text": "\r[################                                                                          ] | 18% Completed |  1.0s"
    },
    {
     "name": "stdout",
     "output_type": "stream",
     "text": "\r[##################                                                                        ] | 20% Completed |  1.1s"
    },
    {
     "name": "stdout",
     "output_type": "stream",
     "text": "\r[####################                                                                      ] | 22% Completed |  1.2s"
    },
    {
     "name": "stdout",
     "output_type": "stream",
     "text": "\r[######################                                                                    ] | 25% Completed |  1.3s"
    },
    {
     "name": "stdout",
     "output_type": "stream",
     "text": "\r[########################                                                                  ] | 27% Completed |  1.4s"
    },
    {
     "name": "stdout",
     "output_type": "stream",
     "text": "\r[##########################                                                                ] | 29% Completed |  1.5s"
    },
    {
     "name": "stdout",
     "output_type": "stream",
     "text": "\r[#############################                                                             ] | 32% Completed |  1.6s"
    },
    {
     "name": "stdout",
     "output_type": "stream",
     "text": "\r[###############################                                                           ] | 34% Completed |  1.7s"
    },
    {
     "name": "stdout",
     "output_type": "stream",
     "text": "\r[#################################                                                         ] | 36% Completed |  1.8s"
    },
    {
     "name": "stdout",
     "output_type": "stream",
     "text": "\r[###################################                                                       ] | 39% Completed |  1.9s"
    },
    {
     "name": "stdout",
     "output_type": "stream",
     "text": "\r[#####################################                                                     ] | 41% Completed |  2.0s"
    },
    {
     "name": "stdout",
     "output_type": "stream",
     "text": "\r[#######################################                                                   ] | 43% Completed |  2.1s"
    },
    {
     "name": "stdout",
     "output_type": "stream",
     "text": "\r[#########################################                                                 ] | 46% Completed |  2.2s"
    },
    {
     "name": "stdout",
     "output_type": "stream",
     "text": "\r[###########################################                                               ] | 48% Completed |  2.3s"
    },
    {
     "name": "stdout",
     "output_type": "stream",
     "text": "\r[#############################################                                             ] | 50% Completed |  2.4s"
    },
    {
     "name": "stdout",
     "output_type": "stream",
     "text": "\r[###############################################                                           ] | 53% Completed |  2.5s"
    },
    {
     "name": "stdout",
     "output_type": "stream",
     "text": "\r[##################################################                                        ] | 55% Completed |  2.6s"
    },
    {
     "name": "stdout",
     "output_type": "stream",
     "text": "\r[####################################################                                      ] | 58% Completed |  2.7s"
    },
    {
     "name": "stdout",
     "output_type": "stream",
     "text": "\r[######################################################                                    ] | 60% Completed |  2.8s"
    },
    {
     "name": "stdout",
     "output_type": "stream",
     "text": "\r[########################################################                                  ] | 63% Completed |  2.9s"
    },
    {
     "name": "stdout",
     "output_type": "stream",
     "text": "\r[##########################################################                                ] | 65% Completed |  3.0s"
    },
    {
     "name": "stdout",
     "output_type": "stream",
     "text": "\r[#############################################################                             ] | 67% Completed |  3.1s"
    },
    {
     "name": "stdout",
     "output_type": "stream",
     "text": "\r[###############################################################                           ] | 70% Completed |  3.2s"
    },
    {
     "name": "stdout",
     "output_type": "stream",
     "text": "\r[#################################################################                         ] | 72% Completed |  3.3s"
    },
    {
     "name": "stdout",
     "output_type": "stream",
     "text": "\r[###################################################################                       ] | 74% Completed |  3.4s"
    },
    {
     "name": "stdout",
     "output_type": "stream",
     "text": "\r[#####################################################################                     ] | 77% Completed |  3.6s"
    },
    {
     "name": "stdout",
     "output_type": "stream",
     "text": "\r[#######################################################################                   ] | 79% Completed |  3.7s"
    },
    {
     "name": "stdout",
     "output_type": "stream",
     "text": "\r[#########################################################################                 ] | 81% Completed |  3.8s"
    },
    {
     "name": "stdout",
     "output_type": "stream",
     "text": "\r[###########################################################################               ] | 83% Completed |  3.9s"
    },
    {
     "name": "stdout",
     "output_type": "stream",
     "text": "\r[#############################################################################             ] | 85% Completed |  4.0s"
    },
    {
     "name": "stdout",
     "output_type": "stream",
     "text": "\r[###############################################################################           ] | 88% Completed |  4.1s"
    },
    {
     "name": "stdout",
     "output_type": "stream",
     "text": "\r[#################################################################################         ] | 90% Completed |  4.2s"
    },
    {
     "name": "stdout",
     "output_type": "stream",
     "text": "\r[###################################################################################       ] | 92% Completed |  4.3s"
    },
    {
     "name": "stdout",
     "output_type": "stream",
     "text": "\r[#####################################################################################     ] | 94% Completed |  4.4s"
    },
    {
     "name": "stdout",
     "output_type": "stream",
     "text": "\r[#######################################################################################   ] | 96% Completed |  4.5s"
    },
    {
     "name": "stdout",
     "output_type": "stream",
     "text": "\r[######################################################################################### ] | 98% Completed |  4.6s"
    },
    {
     "name": "stdout",
     "output_type": "stream",
     "text": "\r[##########################################################################################] | 100% Completed |  4.7s"
    },
    {
     "name": "stdout",
     "output_type": "stream",
     "text": "\n"
    },
    {
     "name": "stdout",
     "output_type": "stream",
     "text": "[01:57:57.421] INFO   Joining sci_name -> species...\n"
    },
    {
     "name": "stdout",
     "output_type": "stream",
     "text": "[01:58:10.976] INFO   Checking for unknown sci_name's...\n"
    },
    {
     "name": "stdout",
     "output_type": "stream",
     "text": "[01:58:12.260] WARN   Unknown sci_name's in priors_df:\n"
    },
    {
     "data": {
      "text/html": "<table border=\"1\" class=\"dataframe\">\n  <thead>\n    <tr style=\"text-align: right;\">\n      <th></th>\n      <th>sci_name</th>\n      <th>species</th>\n    </tr>\n  </thead>\n  <tbody>\n    <tr>\n      <th>827398</th>\n      <td><div class=\"not-number\">Anser sp.</div></td>\n      <td><div class=\"not-number\">nan</div></td>\n    </tr>\n    <tr>\n      <th>6297335</th>\n      <td><div class=\"not-number\">Larus glaucoides thayeri</div></td>\n      <td><div class=\"not-number\">nan</div></td>\n    </tr>\n    <tr>\n      <th>7648965</th>\n      <td><div class=\"not-number\">Oceanodroma leucorhoa/socorroensis (dark-rumped)</div></td>\n      <td><div class=\"not-number\">nan</div></td>\n    </tr>\n  </tbody>\n</table>",
      "text/plain": "                                                 sci_name species\n827398                                          Anser sp.     NaN\n6297335                          Larus glaucoides thayeri     NaN\n7648965  Oceanodroma leucorhoa/socorroensis (dark-rumped)     NaN"
     },
     "metadata": {},
     "output_type": "display_data",
     "transient": {}
    },
    {
     "name": "stdout",
     "output_type": "stream",
     "text": "[01:58:13.239] INFO   Setting indexes for query-time joins...\n"
    },
    {
     "name": "stdout",
     "output_type": "stream",
     "text": "[01:58:25.558] INFO   Inspecting...\n"
    },
    {
     "data": {
      "text/html": "<table border=\"1\" class=\"dataframe\">\n  <thead>\n    <tr style=\"text-align: right;\">\n      <th></th>\n      <th>0</th>\n    </tr>\n  </thead>\n  <tbody>\n    <tr>\n      <th>week</th>\n      <td><div class=\"not-number\">13.4 MB</div></td>\n    </tr>\n    <tr>\n      <th>geohash4</th>\n      <td><div class=\"not-number\">28.4 MB</div></td>\n    </tr>\n    <tr>\n      <th>species</th>\n      <td><div class=\"not-number\">27.7 MB</div></td>\n    </tr>\n    <tr>\n      <th>n</th>\n      <td><div class=\"not-number\">53.5 MB</div></td>\n    </tr>\n    <tr>\n      <th>n_present</th>\n      <td><div class=\"not-number\">53.5 MB</div></td>\n    </tr>\n    <tr>\n      <th>0</th>\n      <td><div class=\"not-number\">176.6 MB</div></td>\n    </tr>\n  </tbody>\n</table>",
      "text/plain": "                  0\nweek        13.4 MB\ngeohash4    28.4 MB\nspecies     27.7 MB\nn           53.5 MB\nn_present   53.5 MB\n0          176.6 MB"
     },
     "metadata": {},
     "output_type": "display_data",
     "transient": {}
    },
    {
     "data": {
      "text/html": "<table border=\"1\" class=\"dataframe\">\n  <thead>\n    <tr style=\"text-align: right;\">\n      <th></th>\n      <th></th>\n      <th></th>\n      <th></th>\n      <th></th>\n      <th></th>\n      <th></th>\n      <th></th>\n      <th>min</th>\n      <th>25%</th>\n      <th>50%</th>\n      <th>75%</th>\n      <th>max</th>\n    </tr>\n    <tr>\n      <th></th>\n      <th>dtype</th>\n      <th>sizeof</th>\n      <th>len</th>\n      <th>count</th>\n      <th>nunique</th>\n      <th>mean</th>\n      <th>std</th>\n      <th></th>\n      <th></th>\n      <th></th>\n      <th></th>\n      <th></th>\n    </tr>\n  </thead>\n  <tbody>\n    <tr>\n      <th>index</th>\n      <th>int64</th>\n      <th>107064456</th>\n      <th>13383057</th>\n      <th>13383057</th>\n      <th>13383057</th>\n      <th>6.692e+06</th>\n      <th>3.863e+06</th>\n      <td>0</td>\n      <td>3345764</td>\n      <td>6691528</td>\n      <td>10037292</td>\n      <td>13383056</td>\n    </tr>\n    <tr>\n      <th>week</th>\n      <th>category</th>\n      <th>13384721</th>\n      <th>13383057</th>\n      <th>13383057</th>\n      <th>48</th>\n      <th>NaN</th>\n      <th>NaN</th>\n      <td>1</td>\n      <td>15</td>\n      <td>23</td>\n      <td>35</td>\n      <td>48</td>\n    </tr>\n    <tr>\n      <th>geohash4</th>\n      <th>category</th>\n      <th>28362704</th>\n      <th>13383057</th>\n      <th>13383057</th>\n      <th>15430</th>\n      <th>NaN</th>\n      <th>NaN</th>\n      <td><div class=\"not-number\">87z9</div></td>\n      <td><div class=\"not-number\">dp8w</div></td>\n      <td><div class=\"not-number\">9rvq</div></td>\n      <td><div class=\"not-number\">9wyh</div></td>\n      <td><div class=\"not-number\">bkxt</div></td>\n    </tr>\n    <tr>\n      <th>species</th>\n      <th>category</th>\n      <th>27746030</th>\n      <th>13383057</th>\n      <th>13383057</th>\n      <th>1072</th>\n      <th>NaN</th>\n      <th>NaN</th>\n      <td><div class=\"not-number\">WFWD</div></td>\n      <td><div class=\"not-number\">SNPL</div></td>\n      <td><div class=\"not-number\">LOSH</div></td>\n      <td><div class=\"not-number\">PROW</div></td>\n      <td><div class=\"not-number\">PTWH</div></td>\n    </tr>\n    <tr>\n      <th>n</th>\n      <th>uint32</th>\n      <th>53532228</th>\n      <th>13383057</th>\n      <th>13383057</th>\n      <th>741</th>\n      <th>3.726e+01</th>\n      <th>7.470e+01</th>\n      <td>1</td>\n      <td>5</td>\n      <td>13</td>\n      <td>38</td>\n      <td>2499</td>\n    </tr>\n    <tr>\n      <th>n_present</th>\n      <th>int32</th>\n      <th>53532228</th>\n      <th>13383057</th>\n      <th>13383057</th>\n      <th>826</th>\n      <th>5.891e+00</th>\n      <th>1.524e+01</th>\n      <td>1</td>\n      <td>1</td>\n      <td>2</td>\n      <td>5</td>\n      <td>1767</td>\n    </tr>\n  </tbody>\n</table>",
      "text/plain": "                                                                              min      25%      50%       75%       max\n          dtype    sizeof    len      count    nunique  mean      std                                                  \nindex     int64    107064456 13383057 13383057 13383057 6.692e+06 3.863e+06     0  3345764  6691528  10037292  13383056\nweek      category 13384721  13383057 13383057 48       NaN       NaN           1       15       23        35        48\ngeohash4  category 28362704  13383057 13383057 15430    NaN       NaN        87z9     dp8w     9rvq      9wyh      bkxt\nspecies   category 27746030  13383057 13383057 1072     NaN       NaN        WFWD     SNPL     LOSH      PROW      PTWH\nn         uint32   53532228  13383057 13383057 741      3.726e+01 7.470e+01     1        5       13        38      2499\nn_present int32    53532228  13383057 13383057 826      5.891e+00 1.524e+01     1        1        2         5      1767"
     },
     "metadata": {},
     "output_type": "display_data",
     "transient": {}
    },
    {
     "data": {
      "text/html": "<table border=\"1\" class=\"dataframe\">\n  <thead>\n    <tr style=\"text-align: right;\">\n      <th></th>\n      <th></th>\n      <th>species</th>\n      <th>n</th>\n      <th>n_present</th>\n    </tr>\n    <tr>\n      <th>week</th>\n      <th>geohash4</th>\n      <th></th>\n      <th></th>\n      <th></th>\n    </tr>\n  </thead>\n  <tbody>\n    <tr>\n      <th rowspan=\"10\" valign=\"top\">1</th>\n      <th>87z9</th>\n      <td><div class=\"not-number\">COMY</div></td>\n      <td>24</td>\n      <td>11</td>\n    </tr>\n    <tr>\n      <th>87z9</th>\n      <td><div class=\"not-number\">RCPA</div></td>\n      <td>24</td>\n      <td>1</td>\n    </tr>\n    <tr>\n      <th>87z9</th>\n      <td><div class=\"not-number\">NOPI</div></td>\n      <td>24</td>\n      <td>7</td>\n    </tr>\n    <tr>\n      <th>87z9</th>\n      <td><div class=\"not-number\">GWTE</div></td>\n      <td>24</td>\n      <td>6</td>\n    </tr>\n    <tr>\n      <th>87z9</th>\n      <td><div class=\"not-number\">MALL</div></td>\n      <td>24</td>\n      <td>1</td>\n    </tr>\n    <tr>\n      <th>87z9</th>\n      <td><div class=\"not-number\">RUTU</div></td>\n      <td>24</td>\n      <td>9</td>\n    </tr>\n    <tr>\n      <th>87z9</th>\n      <td><div class=\"not-number\">CAEG</div></td>\n      <td>24</td>\n      <td>16</td>\n    </tr>\n    <tr>\n      <th>87z9</th>\n      <td><div class=\"not-number\">SAND</div></td>\n      <td>24</td>\n      <td>6</td>\n    </tr>\n    <tr>\n      <th>87z9</th>\n      <td><div class=\"not-number\">REKN</div></td>\n      <td>24</td>\n      <td>3</td>\n    </tr>\n    <tr>\n      <th>87z9</th>\n      <td><div class=\"not-number\">LESA</div></td>\n      <td>24</td>\n      <td>1</td>\n    </tr>\n  </tbody>\n</table>",
      "text/plain": "              species   n  n_present\nweek geohash4                       \n1    87z9        COMY  24         11\n     87z9        RCPA  24          1\n     87z9        NOPI  24          7\n     87z9        GWTE  24          6\n     87z9        MALL  24          1\n     87z9        RUTU  24          9\n     87z9        CAEG  24         16\n     87z9        SAND  24          6\n     87z9        REKN  24          3\n     87z9        LESA  24          1"
     },
     "metadata": {},
     "output_type": "display_data",
     "transient": {}
    }
   ],
   "source": [
    "# Try using priors\n",
    "# sample = 1      #  148m txt.gz lines,  18gb txt.gz, 330mb parquet, 177mb df,  13m rows, 4.9s read_parquet, 45s total\n",
    "# sample = 0.1    # 14.8m txt.gz lines, 778mb txt.gz, 100mb parquet,  57mb df, 4.2m rows,  .6s read_parquet, 10s total\n",
    "# sample = 0.01   # 1.48m txt.gz lines, 100mb txt.gz,  31mb parquet,  12mb df, 730k rows,  .1s read_parquet, 2.9s total\n",
    "# sample = 0.001  #  148k txt.gz lines,  12mb txt.gz,   6mb parquet, 3.2mb df,  85k rows,  .1s read_parquet, <1s total\n",
    "priors_path = relpath(f'{data_dir}/ebird/ebd_US_relFeb-2017/derived/priors/ebd_US_relFeb-2017-3-priors.parquet-{sample}')\n",
    "priors_ddf = dd.read_parquet(puts(priors_path))\n",
    "priors_df = (priors_ddf\n",
    "\n",
    "    .pipe(tap, lambda df: log.info('Materializing ddf -> df...'))\n",
    "    .compute()\n",
    "    .reset_index(drop=True)  # Drop dist_key\n",
    "\n",
    "    # Back compat\n",
    "    #   - XXX after regenerating priors files with (n_present, n) instead of (p, n)\n",
    "    .pipe(lambda df: df if 'n_present' in df.columns else (df\n",
    "        .assign(n_present=lambda df: (df.p * df.n).round().astype(np.int32))\n",
    "        .drop(columns=['p'])\n",
    "    ))\n",
    "\n",
    "    .pipe(tap, lambda df: log.info('Joining sci_name -> species...'))\n",
    "    .rename(columns={'scientific_name': 'sci_name'})\n",
    "    .assign(sci_name=lambda df: (df.sci_name\n",
    "        # TODO Find a more systematic way to align the taxonomies (recent ebird api request vs. Feb17 ebird data dump)\n",
    "        .str.replace(r' \\(Domestic type\\)$', '')\n",
    "        .replace({\n",
    "            'Anas americana': 'Mareca americana',  # American Wigeon\n",
    "            'Anas clypeata': 'Spatula clypeata',  # Northern Shoveler\n",
    "            'Anas cyanoptera': 'Spatula cyanoptera',  # Cinnamon Teal\n",
    "            'Anas discors': 'Spatula discors',  # Blue-winged Teal\n",
    "            'Anas falcata': 'Mareca falcata',  # Falcated Duck\n",
    "            'Anas formosa': 'Sibirionetta formosa',  # Baikal Teal\n",
    "            'Anas penelope': 'Mareca penelope',  # Eurasian Wigeon\n",
    "            'Anas querquedula': 'Spatula querquedula',  # Garganey\n",
    "            'Anas strepera': 'Mareca strepera',  # Gadwall\n",
    "            'Chen caerulescens': 'Anser caerulescens',  # Snow Goose\n",
    "            'Chen canagica': 'Anser canagicus',  # Emperor Goose\n",
    "            'Chen rossii': 'Anser rossii',  # Ross's Goose\n",
    "            'Larus thayeri': 'Larus glaucoides thayeri',  # Thayer's Gull [subspecies, won't match]\n",
    "            'Porphyrio martinicus': 'Porphyrio martinica',  # Purple Gallinule (/ American Purple Gallinule)\n",
    "            'Procelsterna cerulea': 'Anous ceruleus',  # Blue-gray Noddy (/ Blue Noddy)\n",
    "            'Serinus mozambicus': 'Crithagra mozambica',  # Yellow-fronted Canary\n",
    "        })\n",
    "    ))\n",
    "    .set_index('sci_name')\n",
    "    .join(how='left', other=metadata.species.df[['sci_name', 'shorthand']].set_index('sci_name'))\n",
    "    .reset_index()  # sci_name\n",
    "    .rename(columns={'shorthand': 'species'})\n",
    "    .pipe(df_reorder_cols, first=['species'])\n",
    "\n",
    "    .pipe(tap, lambda df: log.info(\"Checking for unknown sci_name's...\"))\n",
    "    .pipe(tap, lambda df: (df\n",
    "        [['sci_name', 'species']]\n",
    "        .drop_duplicates()\n",
    "        .query('species.isnull()')\n",
    "        .pipe(lambda df: None if df.empty else [\n",
    "            log.warn(\"Unknown sci_name's in priors_df:\"),\n",
    "            display(df),\n",
    "        ])\n",
    "    ))\n",
    "    .drop(columns=['sci_name'])  # Drop sci_name\n",
    "    .dropna(subset=['species'])  # Drop unknown sci_name's\n",
    "\n",
    "    .pipe(tap, lambda df: log.info('Setting indexes for query-time joins...'))\n",
    "    .astype({'week': 'category'})  # More compact than uint64\n",
    "    .set_index(['week', 'geohash4'])\n",
    "    .sort_index()\n",
    "\n",
    "    .pipe(tap, lambda df: log.info('Inspecting...'))\n",
    "    .pipe(df_inspect,\n",
    "        lambda df: (df\n",
    "            .reset_index().memory_usage(deep=True, index=False)\n",
    "            .to_frame().pipe(df_with_totals_row).applymap(humanize.naturalsize)\n",
    "        ),\n",
    "        lambda df: df_summary(df.reset_index()).T,\n",
    "        lambda df: df[:10],\n",
    "    )\n",
    "\n",
    ")"
   ]
  },
  {
   "cell_type": "code",
   "execution_count": null,
   "metadata": {
    "time": "4.244s"
   },
   "outputs": [
    {
     "data": {
      "text/plain": "242 species"
     },
     "metadata": {},
     "output_type": "display_data",
     "transient": {}
    },
    {
     "data": {
      "text/html": "<table border=\"1\" class=\"dataframe\">\n  <thead>\n    <tr style=\"text-align: right;\">\n      <th></th>\n      <th>longhand</th>\n      <th>n</th>\n      <th>n_present</th>\n      <th>p</th>\n    </tr>\n  </thead>\n  <tbody>\n    <tr>\n      <th>0</th>\n      <td><div class=\"not-number\">House Finch - HOFI</div></td>\n      <td>1863</td>\n      <td>746</td>\n      <td>4.000e-01</td>\n    </tr>\n    <tr>\n      <th>1</th>\n      <td><div class=\"not-number\">Western Gull - WEGU</div></td>\n      <td>1863</td>\n      <td>694</td>\n      <td>3.730e-01</td>\n    </tr>\n    <tr>\n      <th>2</th>\n      <td><div class=\"not-number\">Anna's Hummingbird - ANHU</div></td>\n      <td>1863</td>\n      <td>657</td>\n      <td>3.530e-01</td>\n    </tr>\n    <tr>\n      <th>3</th>\n      <td><div class=\"not-number\">Mourning Dove - MODO</div></td>\n      <td>1863</td>\n      <td>646</td>\n      <td>3.470e-01</td>\n    </tr>\n    <tr>\n      <th>4</th>\n      <td><div class=\"not-number\">California Towhee - CALT</div></td>\n      <td>1863</td>\n      <td>613</td>\n      <td>3.290e-01</td>\n    </tr>\n    <tr>\n      <th>5</th>\n      <td><div class=\"not-number\">Barn Swallow - BARS</div></td>\n      <td>1863</td>\n      <td>577</td>\n      <td>3.100e-01</td>\n    </tr>\n    <tr>\n      <th>6</th>\n      <td><div class=\"not-number\">California Scrub-Jay - CASJ</div></td>\n      <td>1863</td>\n      <td>552</td>\n      <td>2.960e-01</td>\n    </tr>\n    <tr>\n      <th>7</th>\n      <td><div class=\"not-number\">Double-crested Cormorant - DCCO</div></td>\n      <td>1863</td>\n      <td>532</td>\n      <td>2.860e-01</td>\n    </tr>\n    <tr>\n      <th>8</th>\n      <td><div class=\"not-number\">American Crow - AMCR</div></td>\n      <td>1863</td>\n      <td>517</td>\n      <td>2.780e-01</td>\n    </tr>\n    <tr>\n      <th>9</th>\n      <td><div class=\"not-number\">Chestnut-backed Chickadee - CBCH</div></td>\n      <td>1863</td>\n      <td>502</td>\n      <td>2.690e-01</td>\n    </tr>\n    <tr>\n      <th>10</th>\n      <td><div class=\"not-number\">Black Phoebe - BLPH</div></td>\n      <td>1863</td>\n      <td>469</td>\n      <td>2.520e-01</td>\n    </tr>\n    <tr>\n      <th>11</th>\n      <td><div class=\"not-number\">Rock Pigeon - RODO</div></td>\n      <td>1863</td>\n      <td>468</td>\n      <td>2.510e-01</td>\n    </tr>\n    <tr>\n      <th>12</th>\n      <td><div class=\"not-number\">Mallard - MALL</div></td>\n      <td>1863</td>\n      <td>464</td>\n      <td>2.490e-01</td>\n    </tr>\n    <tr>\n      <th>13</th>\n      <td><div class=\"not-number\">Song Sparrow - SOSP</div></td>\n      <td>1863</td>\n      <td>460</td>\n      <td>2.470e-01</td>\n    </tr>\n    <tr>\n      <th>14</th>\n      <td><div class=\"not-number\">Snowy Egret - SNEG</div></td>\n      <td>1863</td>\n      <td>448</td>\n      <td>2.400e-01</td>\n    </tr>\n    <tr>\n      <th>15</th>\n      <td><div class=\"not-number\">Turkey Vulture - TUVU</div></td>\n      <td>1863</td>\n      <td>437</td>\n      <td>2.350e-01</td>\n    </tr>\n    <tr>\n      <th>16</th>\n      <td><div class=\"not-number\">Caspian Tern - CATE</div></td>\n      <td>1863</td>\n      <td>412</td>\n      <td>2.210e-01</td>\n    </tr>\n    <tr>\n      <th>17</th>\n      <td><div class=\"not-number\">Common Raven - CORA</div></td>\n      <td>1863</td>\n      <td>407</td>\n      <td>2.180e-01</td>\n    </tr>\n    <tr>\n      <th>18</th>\n      <td><div class=\"not-number\">American Robin - AMRO</div></td>\n      <td>1863</td>\n      <td>405</td>\n      <td>2.170e-01</td>\n    </tr>\n    <tr>\n      <th>19</th>\n      <td><div class=\"not-number\">Willet - WILL</div></td>\n      <td>1863</td>\n      <td>393</td>\n      <td>2.110e-01</td>\n    </tr>\n    <tr>\n      <th>20</th>\n      <td><div class=\"not-number\">Brown Pelican - BRPE</div></td>\n      <td>1863</td>\n      <td>373</td>\n      <td>2.000e-01</td>\n    </tr>\n    <tr>\n      <th>21</th>\n      <td><div class=\"not-number\">American Goldfinch - AMGO</div></td>\n      <td>1863</td>\n      <td>360</td>\n      <td>1.930e-01</td>\n    </tr>\n    <tr>\n      <th>22</th>\n      <td><div class=\"not-number\">White-crowned Sparrow - WCSP</div></td>\n      <td>1863</td>\n      <td>349</td>\n      <td>1.870e-01</td>\n    </tr>\n    <tr>\n      <th>23</th>\n      <td><div class=\"not-number\">Red-tailed Hawk - RTHA</div></td>\n      <td>1863</td>\n      <td>346</td>\n      <td>1.860e-01</td>\n    </tr>\n    <tr>\n      <th>24</th>\n      <td><div class=\"not-number\">Great Egret - GREG</div></td>\n      <td>1863</td>\n      <td>336</td>\n      <td>1.800e-01</td>\n    </tr>\n    <tr>\n      <th>25</th>\n      <td><div class=\"not-number\">Dark-eyed Junco - DEJU</div></td>\n      <td>1863</td>\n      <td>325</td>\n      <td>1.740e-01</td>\n    </tr>\n    <tr>\n      <th>26</th>\n      <td><div class=\"not-number\">European Starling - EUST</div></td>\n      <td>1863</td>\n      <td>325</td>\n      <td>1.740e-01</td>\n    </tr>\n    <tr>\n      <th>27</th>\n      <td><div class=\"not-number\">Bushtit - BUSH</div></td>\n      <td>1863</td>\n      <td>316</td>\n      <td>1.700e-01</td>\n    </tr>\n    <tr>\n      <th>28</th>\n      <td><div class=\"not-number\">Canada Goose - CANG</div></td>\n      <td>1863</td>\n      <td>304</td>\n      <td>1.630e-01</td>\n    </tr>\n    <tr>\n      <th>29</th>\n      <td><div class=\"not-number\">Great Blue Heron - GBHE</div></td>\n      <td>1863</td>\n      <td>296</td>\n      <td>1.590e-01</td>\n    </tr>\n    <tr>\n      <th>30</th>\n      <td><div class=\"not-number\">California Gull - CAGU</div></td>\n      <td>1863</td>\n      <td>294</td>\n      <td>1.580e-01</td>\n    </tr>\n    <tr>\n      <th>31</th>\n      <td><div class=\"not-number\">Lesser Goldfinch - LEGO</div></td>\n      <td>1863</td>\n      <td>292</td>\n      <td>1.570e-01</td>\n    </tr>\n    <tr>\n      <th>32</th>\n      <td><div class=\"not-number\">Marbled Godwit - MAGO</div></td>\n      <td>1863</td>\n      <td>287</td>\n      <td>1.540e-01</td>\n    </tr>\n    <tr>\n      <th>33</th>\n      <td><div class=\"not-number\">Long-billed Curlew - LBCU</div></td>\n      <td>1863</td>\n      <td>282</td>\n      <td>1.510e-01</td>\n    </tr>\n    <tr>\n      <th>34</th>\n      <td><div class=\"not-number\">Brewer's Blackbird - BRBL</div></td>\n      <td>1863</td>\n      <td>281</td>\n      <td>1.510e-01</td>\n    </tr>\n    <tr>\n      <th>35</th>\n      <td><div class=\"not-number\">Spotted Towhee - SPTO</div></td>\n      <td>1863</td>\n      <td>276</td>\n      <td>1.480e-01</td>\n    </tr>\n    <tr>\n      <th>36</th>\n      <td><div class=\"not-number\">Cliff Swallow - CLSW</div></td>\n      <td>1863</td>\n      <td>274</td>\n      <td>1.470e-01</td>\n    </tr>\n    <tr>\n      <th>37</th>\n      <td><div class=\"not-number\">Killdeer - KILL</div></td>\n      <td>1863</td>\n      <td>273</td>\n      <td>1.470e-01</td>\n    </tr>\n    <tr>\n      <th>38</th>\n      <td><div class=\"not-number\">Forster's Tern - FOTE</div></td>\n      <td>1863</td>\n      <td>263</td>\n      <td>1.410e-01</td>\n    </tr>\n    <tr>\n      <th>39</th>\n      <td><div class=\"not-number\">Black-bellied Plover - BBPL</div></td>\n      <td>1863</td>\n      <td>254</td>\n      <td>1.360e-01</td>\n    </tr>\n    <tr>\n      <th>40</th>\n      <td><div class=\"not-number\">Heermann's Gull - HEEG</div></td>\n      <td>1863</td>\n      <td>247</td>\n      <td>1.330e-01</td>\n    </tr>\n    <tr>\n      <th>41</th>\n      <td><div class=\"not-number\">Northern Mockingbird - NOMO</div></td>\n      <td>1863</td>\n      <td>245</td>\n      <td>1.320e-01</td>\n    </tr>\n    <tr>\n      <th>42</th>\n      <td><div class=\"not-number\">Ring-billed Gull - RBGU</div></td>\n      <td>1863</td>\n      <td>240</td>\n      <td>1.290e-01</td>\n    </tr>\n    <tr>\n      <th>43</th>\n      <td><div class=\"not-number\">House Sparrow - HOSP</div></td>\n      <td>1863</td>\n      <td>237</td>\n      <td>1.270e-01</td>\n    </tr>\n    <tr>\n      <th>44</th>\n      <td><div class=\"not-number\">Least Sandpiper - LESA</div></td>\n      <td>1863</td>\n      <td>230</td>\n      <td>1.230e-01</td>\n    </tr>\n    <tr>\n      <th>45</th>\n      <td><div class=\"not-number\">Western Sandpiper - WESA</div></td>\n      <td>1863</td>\n      <td>228</td>\n      <td>1.220e-01</td>\n    </tr>\n    <tr>\n      <th>46</th>\n      <td><div class=\"not-number\">Steller's Jay - STJA</div></td>\n      <td>1863</td>\n      <td>223</td>\n      <td>1.200e-01</td>\n    </tr>\n    <tr>\n      <th>47</th>\n      <td><div class=\"not-number\">Wrentit - WREN</div></td>\n      <td>1863</td>\n      <td>221</td>\n      <td>1.190e-01</td>\n    </tr>\n    <tr>\n      <th>48</th>\n      <td><div class=\"not-number\">Bewick's Wren - BEWR</div></td>\n      <td>1863</td>\n      <td>217</td>\n      <td>1.160e-01</td>\n    </tr>\n    <tr>\n      <th>49</th>\n      <td><div class=\"not-number\">Elegant Tern - ELTE</div></td>\n      <td>1863</td>\n      <td>208</td>\n      <td>1.120e-01</td>\n    </tr>\n    <tr>\n      <th>50</th>\n      <td><div class=\"not-number\">Wilson's Warbler - WIWA</div></td>\n      <td>1863</td>\n      <td>205</td>\n      <td>1.100e-01</td>\n    </tr>\n    <tr>\n      <th>51</th>\n      <td><div class=\"not-number\">Black-necked Stilt - BNST</div></td>\n      <td>1863</td>\n      <td>199</td>\n      <td>1.070e-01</td>\n    </tr>\n    <tr>\n      <th>52</th>\n      <td><div class=\"not-number\">Whimbrel - WHIM</div></td>\n      <td>1863</td>\n      <td>174</td>\n      <td>9.340e-02</td>\n    </tr>\n    <tr>\n      <th>53</th>\n      <td><div class=\"not-number\">Red-winged Blackbird - RWBL</div></td>\n      <td>1863</td>\n      <td>167</td>\n      <td>8.960e-02</td>\n    </tr>\n    <tr>\n      <th>54</th>\n      <td><div class=\"not-number\">Downy Woodpecker - DOWO</div></td>\n      <td>1863</td>\n      <td>163</td>\n      <td>8.750e-02</td>\n    </tr>\n    <tr>\n      <th>55</th>\n      <td><div class=\"not-number\">Semipalmated Plover - SEPL</div></td>\n      <td>1863</td>\n      <td>161</td>\n      <td>8.640e-02</td>\n    </tr>\n    <tr>\n      <th>56</th>\n      <td><div class=\"not-number\">American Avocet - AMAV</div></td>\n      <td>1863</td>\n      <td>160</td>\n      <td>8.590e-02</td>\n    </tr>\n    <tr>\n      <th>57</th>\n      <td><div class=\"not-number\">Oak Titmouse - OATI</div></td>\n      <td>1863</td>\n      <td>158</td>\n      <td>8.480e-02</td>\n    </tr>\n    <tr>\n      <th>58</th>\n      <td><div class=\"not-number\">Pygmy Nuthatch - PYNU</div></td>\n      <td>1863</td>\n      <td>158</td>\n      <td>8.480e-02</td>\n    </tr>\n    <tr>\n      <th>59</th>\n      <td><div class=\"not-number\">Nuttall's Woodpecker - NUWO</div></td>\n      <td>1863</td>\n      <td>158</td>\n      <td>8.480e-02</td>\n    </tr>\n    <tr>\n      <th>60</th>\n      <td><div class=\"not-number\">Western Grebe - WEGR</div></td>\n      <td>1863</td>\n      <td>155</td>\n      <td>8.320e-02</td>\n    </tr>\n    <tr>\n      <th>61</th>\n      <td><div class=\"not-number\">California Quail - CAQU</div></td>\n      <td>1863</td>\n      <td>154</td>\n      <td>8.270e-02</td>\n    </tr>\n    <tr>\n      <th>62</th>\n      <td><div class=\"not-number\">Brandt's Cormorant - BRAC</div></td>\n      <td>1863</td>\n      <td>154</td>\n      <td>8.270e-02</td>\n    </tr>\n    <tr>\n      <th>63</th>\n      <td><div class=\"not-number\">Red-shouldered Hawk - RSHA</div></td>\n      <td>1863</td>\n      <td>148</td>\n      <td>7.940e-02</td>\n    </tr>\n    <tr>\n      <th>64</th>\n      <td><div class=\"not-number\">Greater Yellowlegs - GRYE</div></td>\n      <td>1863</td>\n      <td>143</td>\n      <td>7.680e-02</td>\n    </tr>\n    <tr>\n      <th>65</th>\n      <td><div class=\"not-number\">Black Oystercatcher - BLOY</div></td>\n      <td>1863</td>\n      <td>141</td>\n      <td>7.570e-02</td>\n    </tr>\n    <tr>\n      <th>66</th>\n      <td><div class=\"not-number\">Pied-billed Grebe - PBGR</div></td>\n      <td>1863</td>\n      <td>140</td>\n      <td>7.510e-02</td>\n    </tr>\n    <tr>\n      <th>67</th>\n      <td><div class=\"not-number\">Brown-headed Cowbird - BHCO</div></td>\n      <td>1863</td>\n      <td>135</td>\n      <td>7.250e-02</td>\n    </tr>\n    <tr>\n      <th>68</th>\n      <td><div class=\"not-number\">Swainson's Thrush - SWTH</div></td>\n      <td>1863</td>\n      <td>129</td>\n      <td>6.920e-02</td>\n    </tr>\n    <tr>\n      <th>69</th>\n      <td><div class=\"not-number\">American White Pelican - AWPE</div></td>\n      <td>1863</td>\n      <td>126</td>\n      <td>6.760e-02</td>\n    </tr>\n    <tr>\n      <th>70</th>\n      <td><div class=\"not-number\">Purple Finch - PUFI</div></td>\n      <td>1863</td>\n      <td>123</td>\n      <td>6.600e-02</td>\n    </tr>\n    <tr>\n      <th>71</th>\n      <td><div class=\"not-number\">Clark's Grebe - CLGR</div></td>\n      <td>1863</td>\n      <td>123</td>\n      <td>6.600e-02</td>\n    </tr>\n    <tr>\n      <th>72</th>\n      <td><div class=\"not-number\">Common Murre - COMU</div></td>\n      <td>1863</td>\n      <td>118</td>\n      <td>6.330e-02</td>\n    </tr>\n    <tr>\n      <th>73</th>\n      <td><div class=\"not-number\">American Coot - AMCO</div></td>\n      <td>1863</td>\n      <td>116</td>\n      <td>6.230e-02</td>\n    </tr>\n    <tr>\n      <th>74</th>\n      <td><div class=\"not-number\">Short-billed Dowitcher - SBDO</div></td>\n      <td>1863</td>\n      <td>115</td>\n      <td>6.170e-02</td>\n    </tr>\n    <tr>\n      <th>75</th>\n      <td><div class=\"not-number\">Black-crowned Night-Heron - BCNH</div></td>\n      <td>1863</td>\n      <td>113</td>\n      <td>6.070e-02</td>\n    </tr>\n    <tr>\n      <th>76</th>\n      <td><div class=\"not-number\">Allen's Hummingbird - ALHU</div></td>\n      <td>1863</td>\n      <td>109</td>\n      <td>5.850e-02</td>\n    </tr>\n    <tr>\n      <th>77</th>\n      <td><div class=\"not-number\">Pacific-slope Flycatcher - PSFL</div></td>\n      <td>1863</td>\n      <td>108</td>\n      <td>5.800e-02</td>\n    </tr>\n    <tr>\n      <th>78</th>\n      <td><div class=\"not-number\">Western Bluebird - WEBL</div></td>\n      <td>1863</td>\n      <td>107</td>\n      <td>5.740e-02</td>\n    </tr>\n    <tr>\n      <th>79</th>\n      <td><div class=\"not-number\">Northern Flicker - NOFL</div></td>\n      <td>1863</td>\n      <td>106</td>\n      <td>5.690e-02</td>\n    </tr>\n    <tr>\n      <th>80</th>\n      <td><div class=\"not-number\">Common Yellowthroat - COYE</div></td>\n      <td>1863</td>\n      <td>105</td>\n      <td>5.640e-02</td>\n    </tr>\n    <tr>\n      <th>81</th>\n      <td><div class=\"not-number\">Osprey - OSPR</div></td>\n      <td>1863</td>\n      <td>104</td>\n      <td>5.580e-02</td>\n    </tr>\n    <tr>\n      <th>82</th>\n      <td><div class=\"not-number\">Pigeon Guillemot - PIGU</div></td>\n      <td>1863</td>\n      <td>104</td>\n      <td>5.580e-02</td>\n    </tr>\n    <tr>\n      <th>83</th>\n      <td><div class=\"not-number\">Surf Scoter - SUSC</div></td>\n      <td>1863</td>\n      <td>102</td>\n      <td>5.480e-02</td>\n    </tr>\n    <tr>\n      <th>84</th>\n      <td><div class=\"not-number\">Band-tailed Pigeon - BTPI</div></td>\n      <td>1863</td>\n      <td>101</td>\n      <td>5.420e-02</td>\n    </tr>\n    <tr>\n      <th>85</th>\n      <td><div class=\"not-number\">Tree Swallow - TRES</div></td>\n      <td>1863</td>\n      <td>101</td>\n      <td>5.420e-02</td>\n    </tr>\n    <tr>\n      <th>86</th>\n      <td><div class=\"not-number\">White-tailed Kite - WTKI</div></td>\n      <td>1863</td>\n      <td>97</td>\n      <td>5.210e-02</td>\n    </tr>\n    <tr>\n      <th>87</th>\n      <td><div class=\"not-number\">Black Turnstone - BLTU</div></td>\n      <td>1863</td>\n      <td>93</td>\n      <td>4.990e-02</td>\n    </tr>\n    <tr>\n      <th>88</th>\n      <td><div class=\"not-number\">American Kestrel - AMKE</div></td>\n      <td>1863</td>\n      <td>90</td>\n      <td>4.830e-02</td>\n    </tr>\n    <tr>\n      <th>89</th>\n      <td><div class=\"not-number\">Marsh Wren - MAWR</div></td>\n      <td>1863</td>\n      <td>88</td>\n      <td>4.720e-02</td>\n    </tr>\n    <tr>\n      <th>90</th>\n      <td><div class=\"not-number\">Least Tern - LETE</div></td>\n      <td>1863</td>\n      <td>87</td>\n      <td>4.670e-02</td>\n    </tr>\n    <tr>\n      <th>91</th>\n      <td><div class=\"not-number\">Savannah Sparrow - SAVS</div></td>\n      <td>1863</td>\n      <td>85</td>\n      <td>4.560e-02</td>\n    </tr>\n    <tr>\n      <th>92</th>\n      <td><div class=\"not-number\">Pelagic Cormorant - PECO</div></td>\n      <td>1863</td>\n      <td>85</td>\n      <td>4.560e-02</td>\n    </tr>\n    <tr>\n      <th>93</th>\n      <td><div class=\"not-number\">White-breasted Nuthatch - WBNU</div></td>\n      <td>1863</td>\n      <td>84</td>\n      <td>4.510e-02</td>\n    </tr>\n    <tr>\n      <th>94</th>\n      <td><div class=\"not-number\">Brown Creeper - BRCR</div></td>\n      <td>1863</td>\n      <td>82</td>\n      <td>4.400e-02</td>\n    </tr>\n    <tr>\n      <th>95</th>\n      <td><div class=\"not-number\">Cooper's Hawk - COHA</div></td>\n      <td>1863</td>\n      <td>74</td>\n      <td>3.970e-02</td>\n    </tr>\n    <tr>\n      <th>96</th>\n      <td><div class=\"not-number\">Violet-green Swallow - VGSW</div></td>\n      <td>1863</td>\n      <td>74</td>\n      <td>3.970e-02</td>\n    </tr>\n    <tr>\n      <th>97</th>\n      <td><div class=\"not-number\">Hutton's Vireo - HUVI</div></td>\n      <td>1863</td>\n      <td>72</td>\n      <td>3.860e-02</td>\n    </tr>\n    <tr>\n      <th>98</th>\n      <td><div class=\"not-number\">Long-billed Dowitcher - LBDO</div></td>\n      <td>1863</td>\n      <td>72</td>\n      <td>3.860e-02</td>\n    </tr>\n    <tr>\n      <th>99</th>\n      <td><div class=\"not-number\">Ruddy Duck - RUDU</div></td>\n      <td>1863</td>\n      <td>71</td>\n      <td>3.810e-02</td>\n    </tr>\n    <tr>\n      <th>100</th>\n      <td><div class=\"not-number\">Hooded Oriole - HOOR</div></td>\n      <td>1863</td>\n      <td>71</td>\n      <td>3.810e-02</td>\n    </tr>\n    <tr>\n      <th>101</th>\n      <td><div class=\"not-number\">Sanderling - SAND</div></td>\n      <td>1863</td>\n      <td>70</td>\n      <td>3.760e-02</td>\n    </tr>\n    <tr>\n      <th>102</th>\n      <td><div class=\"not-number\">Ruddy Turnstone - RUTU</div></td>\n      <td>1863</td>\n      <td>67</td>\n      <td>3.600e-02</td>\n    </tr>\n    <tr>\n      <th>103</th>\n      <td><div class=\"not-number\">Northern Rough-winged Swallow - NRWS</div></td>\n      <td>1863</td>\n      <td>65</td>\n      <td>3.490e-02</td>\n    </tr>\n    <tr>\n      <th>104</th>\n      <td><div class=\"not-number\">Pacific Wren - PAWR</div></td>\n      <td>1863</td>\n      <td>65</td>\n      <td>3.490e-02</td>\n    </tr>\n    <tr>\n      <th>105</th>\n      <td><div class=\"not-number\">Warbling Vireo - WAVI</div></td>\n      <td>1863</td>\n      <td>65</td>\n      <td>3.490e-02</td>\n    </tr>\n    <tr>\n      <th>106</th>\n      <td><div class=\"not-number\">Acorn Woodpecker - ACWO</div></td>\n      <td>1863</td>\n      <td>65</td>\n      <td>3.490e-02</td>\n    </tr>\n    <tr>\n      <th>107</th>\n      <td><div class=\"not-number\">Belted Kingfisher - BEKI</div></td>\n      <td>1863</td>\n      <td>65</td>\n      <td>3.490e-02</td>\n    </tr>\n    <tr>\n      <th>108</th>\n      <td><div class=\"not-number\">Orange-crowned Warbler - OCWA</div></td>\n      <td>1863</td>\n      <td>63</td>\n      <td>3.380e-02</td>\n    </tr>\n    <tr>\n      <th>109</th>\n      <td><div class=\"not-number\">Black-headed Grosbeak - BHGR</div></td>\n      <td>1863</td>\n      <td>63</td>\n      <td>3.380e-02</td>\n    </tr>\n    <tr>\n      <th>110</th>\n      <td><div class=\"not-number\">Olive-sided Flycatcher - OSFL</div></td>\n      <td>1863</td>\n      <td>62</td>\n      <td>3.330e-02</td>\n    </tr>\n    <tr>\n      <th>111</th>\n      <td><div class=\"not-number\">Green Heron - GRHE</div></td>\n      <td>1863</td>\n      <td>61</td>\n      <td>3.270e-02</td>\n    </tr>\n    <tr>\n      <th>112</th>\n      <td><div class=\"not-number\">Hairy Woodpecker - HAWO</div></td>\n      <td>1863</td>\n      <td>59</td>\n      <td>3.170e-02</td>\n    </tr>\n    <tr>\n      <th>113</th>\n      <td><div class=\"not-number\">Red Knot - REKN</div></td>\n      <td>1863</td>\n      <td>56</td>\n      <td>3.010e-02</td>\n    </tr>\n    <tr>\n      <th>114</th>\n      <td><div class=\"not-number\">Red-breasted Nuthatch - RBNU</div></td>\n      <td>1863</td>\n      <td>56</td>\n      <td>3.010e-02</td>\n    </tr>\n    <tr>\n      <th>115</th>\n      <td><div class=\"not-number\">Hen Harrier - HEHA</div></td>\n      <td>1863</td>\n      <td>53</td>\n      <td>2.840e-02</td>\n    </tr>\n    <tr>\n      <th>116</th>\n      <td><div class=\"not-number\">Snowy Plover - SNPL</div></td>\n      <td>1863</td>\n      <td>53</td>\n      <td>2.840e-02</td>\n    </tr>\n    <tr>\n      <th>117</th>\n      <td><div class=\"not-number\">Western Wood-Pewee - WEWP</div></td>\n      <td>1863</td>\n      <td>50</td>\n      <td>2.680e-02</td>\n    </tr>\n    <tr>\n      <th>118</th>\n      <td><div class=\"not-number\">Wild Turkey - WITU</div></td>\n      <td>1863</td>\n      <td>49</td>\n      <td>2.630e-02</td>\n    </tr>\n    <tr>\n      <th>119</th>\n      <td><div class=\"not-number\">Red-necked Phalarope - RNPH</div></td>\n      <td>1863</td>\n      <td>48</td>\n      <td>2.580e-02</td>\n    </tr>\n    <tr>\n      <th>120</th>\n      <td><div class=\"not-number\">Ash-throated Flycatcher - ATFL</div></td>\n      <td>1863</td>\n      <td>48</td>\n      <td>2.580e-02</td>\n    </tr>\n    <tr>\n      <th>121</th>\n      <td><div class=\"not-number\">Pine Siskin - PISI</div></td>\n      <td>1863</td>\n      <td>46</td>\n      <td>2.470e-02</td>\n    </tr>\n    <tr>\n      <th>122</th>\n      <td><div class=\"not-number\">White-throated Swift - WTSW</div></td>\n      <td>1863</td>\n      <td>44</td>\n      <td>2.360e-02</td>\n    </tr>\n    <tr>\n      <th>123</th>\n      <td><div class=\"not-number\">Spotted Sandpiper - SPSA</div></td>\n      <td>1863</td>\n      <td>42</td>\n      <td>2.250e-02</td>\n    </tr>\n    <tr>\n      <th>124</th>\n      <td><div class=\"not-number\">Red-masked Parakeet - RMPA</div></td>\n      <td>1863</td>\n      <td>42</td>\n      <td>2.250e-02</td>\n    </tr>\n    <tr>\n      <th>125</th>\n      <td><div class=\"not-number\">Wilson's Phalarope - WIPH</div></td>\n      <td>1863</td>\n      <td>41</td>\n      <td>2.200e-02</td>\n    </tr>\n    <tr>\n      <th>126</th>\n      <td><div class=\"not-number\">Eurasian Collared-Dove - EUCD</div></td>\n      <td>1863</td>\n      <td>38</td>\n      <td>2.040e-02</td>\n    </tr>\n    <tr>\n      <th>127</th>\n      <td><div class=\"not-number\">Wandering Tattler - WATA</div></td>\n      <td>1863</td>\n      <td>36</td>\n      <td>1.930e-02</td>\n    </tr>\n    <tr>\n      <th>128</th>\n      <td><div class=\"not-number\">Virginia Rail - VIRA</div></td>\n      <td>1863</td>\n      <td>33</td>\n      <td>1.770e-02</td>\n    </tr>\n    <tr>\n      <th>129</th>\n      <td><div class=\"not-number\">Great Horned Owl - GHOW</div></td>\n      <td>1863</td>\n      <td>33</td>\n      <td>1.770e-02</td>\n    </tr>\n    <tr>\n      <th>130</th>\n      <td><div class=\"not-number\">House Wren - HOWR</div></td>\n      <td>1863</td>\n      <td>31</td>\n      <td>1.660e-02</td>\n    </tr>\n    <tr>\n      <th>131</th>\n      <td><div class=\"not-number\">Western Meadowlark - WEME</div></td>\n      <td>1863</td>\n      <td>28</td>\n      <td>1.500e-02</td>\n    </tr>\n    <tr>\n      <th>132</th>\n      <td><div class=\"not-number\">Greater Scaup - GRSC</div></td>\n      <td>1863</td>\n      <td>26</td>\n      <td>1.400e-02</td>\n    </tr>\n    <tr>\n      <th>133</th>\n      <td><div class=\"not-number\">Gadwall - GADW</div></td>\n      <td>1863</td>\n      <td>26</td>\n      <td>1.400e-02</td>\n    </tr>\n    <tr>\n      <th>134</th>\n      <td><div class=\"not-number\">Bullock's Oriole - BUOR</div></td>\n      <td>1863</td>\n      <td>23</td>\n      <td>1.230e-02</td>\n    </tr>\n    <tr>\n      <th>135</th>\n      <td><div class=\"not-number\">Cinnamon Teal - CITE</div></td>\n      <td>1863</td>\n      <td>22</td>\n      <td>1.180e-02</td>\n    </tr>\n    <tr>\n      <th>136</th>\n      <td><div class=\"not-number\">Glaucous-winged Gull - GWGU</div></td>\n      <td>1863</td>\n      <td>22</td>\n      <td>1.180e-02</td>\n    </tr>\n    <tr>\n      <th>137</th>\n      <td><div class=\"not-number\">Western Kingbird - WEKI</div></td>\n      <td>1863</td>\n      <td>22</td>\n      <td>1.180e-02</td>\n    </tr>\n    <tr>\n      <th>138</th>\n      <td><div class=\"not-number\">Peregrine Falcon - PEFA</div></td>\n      <td>1863</td>\n      <td>21</td>\n      <td>1.130e-02</td>\n    </tr>\n    <tr>\n      <th>139</th>\n      <td><div class=\"not-number\">Lesser Yellowlegs - LEYE</div></td>\n      <td>1863</td>\n      <td>20</td>\n      <td>1.070e-02</td>\n    </tr>\n    <tr>\n      <th>140</th>\n      <td><div class=\"not-number\">Loggerhead Shrike - LOSH</div></td>\n      <td>1863</td>\n      <td>20</td>\n      <td>1.070e-02</td>\n    </tr>\n    <tr>\n      <th>141</th>\n      <td><div class=\"not-number\">Ridgway's Rail - RIRA</div></td>\n      <td>1863</td>\n      <td>20</td>\n      <td>1.070e-02</td>\n    </tr>\n    <tr>\n      <th>142</th>\n      <td><div class=\"not-number\">Bank Swallow - BANS</div></td>\n      <td>1863</td>\n      <td>18</td>\n      <td>9.660e-03</td>\n    </tr>\n    <tr>\n      <th>143</th>\n      <td><div class=\"not-number\">Blue-gray Gnatcatcher - BGGN</div></td>\n      <td>1863</td>\n      <td>17</td>\n      <td>9.130e-03</td>\n    </tr>\n    <tr>\n      <th>144</th>\n      <td><div class=\"not-number\">Common Loon - COLO</div></td>\n      <td>1863</td>\n      <td>16</td>\n      <td>8.590e-03</td>\n    </tr>\n    <tr>\n      <th>145</th>\n      <td><div class=\"not-number\">Common Merganser - COME</div></td>\n      <td>1863</td>\n      <td>16</td>\n      <td>8.590e-03</td>\n    </tr>\n    <tr>\n      <th>146</th>\n      <td><div class=\"not-number\">Black Skimmer - BLSK</div></td>\n      <td>1863</td>\n      <td>16</td>\n      <td>8.590e-03</td>\n    </tr>\n    <tr>\n      <th>147</th>\n      <td><div class=\"not-number\">Dunlin - DUNL</div></td>\n      <td>1863</td>\n      <td>16</td>\n      <td>8.590e-03</td>\n    </tr>\n    <tr>\n      <th>148</th>\n      <td><div class=\"not-number\">Sharp-shinned Hawk - SSHA</div></td>\n      <td>1863</td>\n      <td>16</td>\n      <td>8.590e-03</td>\n    </tr>\n    <tr>\n      <th>149</th>\n      <td><div class=\"not-number\">Common Tern - COTE</div></td>\n      <td>1863</td>\n      <td>15</td>\n      <td>8.050e-03</td>\n    </tr>\n    <tr>\n      <th>150</th>\n      <td><div class=\"not-number\">Surfbird - SURF</div></td>\n      <td>1863</td>\n      <td>15</td>\n      <td>8.050e-03</td>\n    </tr>\n    <tr>\n      <th>151</th>\n      <td><div class=\"not-number\">Great-tailed Grackle - GTGR</div></td>\n      <td>1863</td>\n      <td>15</td>\n      <td>8.050e-03</td>\n    </tr>\n    <tr>\n      <th>152</th>\n      <td><div class=\"not-number\">White-winged Scoter - WWSC</div></td>\n      <td>1863</td>\n      <td>14</td>\n      <td>7.510e-03</td>\n    </tr>\n    <tr>\n      <th>153</th>\n      <td><div class=\"not-number\">Rufous Hummingbird - RUHU</div></td>\n      <td>1863</td>\n      <td>14</td>\n      <td>7.510e-03</td>\n    </tr>\n    <tr>\n      <th>154</th>\n      <td><div class=\"not-number\">Semipalmated Sandpiper - SESA</div></td>\n      <td>1863</td>\n      <td>13</td>\n      <td>6.980e-03</td>\n    </tr>\n    <tr>\n      <th>155</th>\n      <td><div class=\"not-number\">Horned Lark - HOLA</div></td>\n      <td>1863</td>\n      <td>13</td>\n      <td>6.980e-03</td>\n    </tr>\n    <tr>\n      <th>156</th>\n      <td><div class=\"not-number\">Bufflehead - BUFF</div></td>\n      <td>1863</td>\n      <td>13</td>\n      <td>6.980e-03</td>\n    </tr>\n    <tr>\n      <th>157</th>\n      <td><div class=\"not-number\">Barn Owl - BANO</div></td>\n      <td>1863</td>\n      <td>12</td>\n      <td>6.440e-03</td>\n    </tr>\n    <tr>\n      <th>158</th>\n      <td><div class=\"not-number\">Bonaparte's Gull - BOGU</div></td>\n      <td>1863</td>\n      <td>12</td>\n      <td>6.440e-03</td>\n    </tr>\n    <tr>\n      <th>159</th>\n      <td><div class=\"not-number\">California Thrasher - CATH</div></td>\n      <td>1863</td>\n      <td>11</td>\n      <td>5.900e-03</td>\n    </tr>\n    <tr>\n      <th>160</th>\n      <td><div class=\"not-number\">Western Tanager - WETA</div></td>\n      <td>1863</td>\n      <td>11</td>\n      <td>5.900e-03</td>\n    </tr>\n    <tr>\n      <th>161</th>\n      <td><div class=\"not-number\">Lazuli Bunting - LAZB</div></td>\n      <td>1863</td>\n      <td>11</td>\n      <td>5.900e-03</td>\n    </tr>\n    <tr>\n      <th>162</th>\n      <td><div class=\"not-number\">Eared Grebe - EAGR</div></td>\n      <td>1863</td>\n      <td>10</td>\n      <td>5.370e-03</td>\n    </tr>\n    <tr>\n      <th>163</th>\n      <td><div class=\"not-number\">Golden Eagle - GOEA</div></td>\n      <td>1863</td>\n      <td>10</td>\n      <td>5.370e-03</td>\n    </tr>\n    <tr>\n      <th>164</th>\n      <td><div class=\"not-number\">Phainopepla - PHAI</div></td>\n      <td>1863</td>\n      <td>10</td>\n      <td>5.370e-03</td>\n    </tr>\n    <tr>\n      <th>165</th>\n      <td><div class=\"not-number\">Lesser Scaup - LESC</div></td>\n      <td>1863</td>\n      <td>9</td>\n      <td>4.830e-03</td>\n    </tr>\n    <tr>\n      <th>166</th>\n      <td><div class=\"not-number\">Northern Pintail - NOPI</div></td>\n      <td>1863</td>\n      <td>9</td>\n      <td>4.830e-03</td>\n    </tr>\n    <tr>\n      <th>167</th>\n      <td><div class=\"not-number\">Wood Duck - WODU</div></td>\n      <td>1863</td>\n      <td>8</td>\n      <td>4.290e-03</td>\n    </tr>\n    <tr>\n      <th>168</th>\n      <td><div class=\"not-number\">Common Gallinule - COGA</div></td>\n      <td>1863</td>\n      <td>8</td>\n      <td>4.290e-03</td>\n    </tr>\n    <tr>\n      <th>169</th>\n      <td><div class=\"not-number\">Red-throated Loon - RTLO</div></td>\n      <td>1863</td>\n      <td>8</td>\n      <td>4.290e-03</td>\n    </tr>\n    <tr>\n      <th>170</th>\n      <td><div class=\"not-number\">Black-throated Gray Warbler - BTYW</div></td>\n      <td>1863</td>\n      <td>8</td>\n      <td>4.290e-03</td>\n    </tr>\n    <tr>\n      <th>171</th>\n      <td><div class=\"not-number\">Lark Sparrow - LASP</div></td>\n      <td>1863</td>\n      <td>7</td>\n      <td>3.760e-03</td>\n    </tr>\n    <tr>\n      <th>172</th>\n      <td><div class=\"not-number\">White-eyed Vireo - WEVI</div></td>\n      <td>1863</td>\n      <td>7</td>\n      <td>3.760e-03</td>\n    </tr>\n    <tr>\n      <th>173</th>\n      <td><div class=\"not-number\">Red Crossbill - RECR</div></td>\n      <td>1863</td>\n      <td>7</td>\n      <td>3.760e-03</td>\n    </tr>\n    <tr>\n      <th>174</th>\n      <td><div class=\"not-number\">MacGillivray's Warbler - MGWA</div></td>\n      <td>1863</td>\n      <td>7</td>\n      <td>3.760e-03</td>\n    </tr>\n    <tr>\n      <th>175</th>\n      <td><div class=\"not-number\">Ring-necked Pheasant - RNEP</div></td>\n      <td>1863</td>\n      <td>7</td>\n      <td>3.760e-03</td>\n    </tr>\n    <tr>\n      <th>176</th>\n      <td><div class=\"not-number\">Grasshopper Sparrow - GRSP</div></td>\n      <td>1863</td>\n      <td>6</td>\n      <td>3.220e-03</td>\n    </tr>\n    <tr>\n      <th>177</th>\n      <td><div class=\"not-number\">Yellow-billed Magpie - YBMA</div></td>\n      <td>1863</td>\n      <td>6</td>\n      <td>3.220e-03</td>\n    </tr>\n    <tr>\n      <th>178</th>\n      <td><div class=\"not-number\">Yellow Warbler - YEWA</div></td>\n      <td>1863</td>\n      <td>6</td>\n      <td>3.220e-03</td>\n    </tr>\n    <tr>\n      <th>179</th>\n      <td><div class=\"not-number\">Pacific Loon - PALO</div></td>\n      <td>1863</td>\n      <td>6</td>\n      <td>3.220e-03</td>\n    </tr>\n    <tr>\n      <th>180</th>\n      <td><div class=\"not-number\">Sooty Shearwater - SOSH</div></td>\n      <td>1863</td>\n      <td>5</td>\n      <td>2.680e-03</td>\n    </tr>\n    <tr>\n      <th>181</th>\n      <td><div class=\"not-number\">Say's Phoebe - SAPH</div></td>\n      <td>1863</td>\n      <td>5</td>\n      <td>2.680e-03</td>\n    </tr>\n    <tr>\n      <th>182</th>\n      <td><div class=\"not-number\">Hermit Warbler - HEWA</div></td>\n      <td>1863</td>\n      <td>5</td>\n      <td>2.680e-03</td>\n    </tr>\n    <tr>\n      <th>183</th>\n      <td><div class=\"not-number\">Black Rail - BLRA</div></td>\n      <td>1863</td>\n      <td>5</td>\n      <td>2.680e-03</td>\n    </tr>\n    <tr>\n      <th>184</th>\n      <td><div class=\"not-number\">Rufous-crowned Sparrow - RCSP</div></td>\n      <td>1863</td>\n      <td>5</td>\n      <td>2.680e-03</td>\n    </tr>\n    <tr>\n      <th>185</th>\n      <td><div class=\"not-number\">Pileated Woodpecker - PIWO</div></td>\n      <td>1863</td>\n      <td>5</td>\n      <td>2.680e-03</td>\n    </tr>\n    <tr>\n      <th>186</th>\n      <td><div class=\"not-number\">Baird's Sandpiper - BASA</div></td>\n      <td>1863</td>\n      <td>5</td>\n      <td>2.680e-03</td>\n    </tr>\n    <tr>\n      <th>187</th>\n      <td><div class=\"not-number\">Northern Shoveler - NSHO</div></td>\n      <td>1863</td>\n      <td>5</td>\n      <td>2.680e-03</td>\n    </tr>\n    <tr>\n      <th>188</th>\n      <td><div class=\"not-number\">Brant - BRAN</div></td>\n      <td>1863</td>\n      <td>5</td>\n      <td>2.680e-03</td>\n    </tr>\n    <tr>\n      <th>189</th>\n      <td><div class=\"not-number\">Blue Grosbeak - BLGR</div></td>\n      <td>1863</td>\n      <td>4</td>\n      <td>2.150e-03</td>\n    </tr>\n    <tr>\n      <th>190</th>\n      <td><div class=\"not-number\">Black-chinned Hummingbird - BCHU</div></td>\n      <td>1863</td>\n      <td>4</td>\n      <td>2.150e-03</td>\n    </tr>\n    <tr>\n      <th>191</th>\n      <td><div class=\"not-number\">Western Screech-Owl - WESO</div></td>\n      <td>1863</td>\n      <td>4</td>\n      <td>2.150e-03</td>\n    </tr>\n    <tr>\n      <th>192</th>\n      <td><div class=\"not-number\">American Wigeon - AMWI</div></td>\n      <td>1863</td>\n      <td>4</td>\n      <td>2.150e-03</td>\n    </tr>\n    <tr>\n      <th>193</th>\n      <td><div class=\"not-number\">Yellow-rumped Warbler - YRWA</div></td>\n      <td>1863</td>\n      <td>4</td>\n      <td>2.150e-03</td>\n    </tr>\n    <tr>\n      <th>194</th>\n      <td><div class=\"not-number\">Long-tailed Duck - LTDU</div></td>\n      <td>1863</td>\n      <td>4</td>\n      <td>2.150e-03</td>\n    </tr>\n    <tr>\n      <th>195</th>\n      <td><div class=\"not-number\">Mute Swan - MUSW</div></td>\n      <td>1863</td>\n      <td>4</td>\n      <td>2.150e-03</td>\n    </tr>\n    <tr>\n      <th>196</th>\n      <td><div class=\"not-number\">Golden-crowned Kinglet - GCKI</div></td>\n      <td>1863</td>\n      <td>4</td>\n      <td>2.150e-03</td>\n    </tr>\n    <tr>\n      <th>197</th>\n      <td><div class=\"not-number\">Lawrence's Goldfinch - LAGO</div></td>\n      <td>1863</td>\n      <td>4</td>\n      <td>2.150e-03</td>\n    </tr>\n    <tr>\n      <th>198</th>\n      <td><div class=\"not-number\">Harlequin Duck - HADU</div></td>\n      <td>1863</td>\n      <td>4</td>\n      <td>2.150e-03</td>\n    </tr>\n    <tr>\n      <th>199</th>\n      <td><div class=\"not-number\">Rose-breasted Grosbeak - RBGR</div></td>\n      <td>1863</td>\n      <td>4</td>\n      <td>2.150e-03</td>\n    </tr>\n    <tr>\n      <th>200</th>\n      <td><div class=\"not-number\">Cassin's Vireo - CAVI</div></td>\n      <td>1863</td>\n      <td>3</td>\n      <td>1.610e-03</td>\n    </tr>\n    <tr>\n      <th>201</th>\n      <td><div class=\"not-number\">Hermit Thrush - HETH</div></td>\n      <td>1863</td>\n      <td>3</td>\n      <td>1.610e-03</td>\n    </tr>\n    <tr>\n      <th>202</th>\n      <td><div class=\"not-number\">Spotted Owl - SPOW</div></td>\n      <td>1863</td>\n      <td>3</td>\n      <td>1.610e-03</td>\n    </tr>\n    <tr>\n      <th>203</th>\n      <td><div class=\"not-number\">Cackling Goose - CACG</div></td>\n      <td>1863</td>\n      <td>3</td>\n      <td>1.610e-03</td>\n    </tr>\n    <tr>\n      <th>204</th>\n      <td><div class=\"not-number\">Yellow-breasted Chat - YBCH</div></td>\n      <td>1863</td>\n      <td>3</td>\n      <td>1.610e-03</td>\n    </tr>\n    <tr>\n      <th>205</th>\n      <td><div class=\"not-number\">Burrowing Owl - BUOW</div></td>\n      <td>1863</td>\n      <td>3</td>\n      <td>1.610e-03</td>\n    </tr>\n    <tr>\n      <th>206</th>\n      <td><div class=\"not-number\">Arctic Tern - ARTE</div></td>\n      <td>1863</td>\n      <td>3</td>\n      <td>1.610e-03</td>\n    </tr>\n    <tr>\n      <th>207</th>\n      <td><div class=\"not-number\">Vaux's Swift - VASW</div></td>\n      <td>1863</td>\n      <td>2</td>\n      <td>1.070e-03</td>\n    </tr>\n    <tr>\n      <th>208</th>\n      <td><div class=\"not-number\">Prairie Falcon - PRFA</div></td>\n      <td>1863</td>\n      <td>2</td>\n      <td>1.070e-03</td>\n    </tr>\n    <tr>\n      <th>209</th>\n      <td><div class=\"not-number\">Purple Martin - PUMA</div></td>\n      <td>1863</td>\n      <td>2</td>\n      <td>1.070e-03</td>\n    </tr>\n    <tr>\n      <th>210</th>\n      <td><div class=\"not-number\">Rhinoceros Auklet - RHAU</div></td>\n      <td>1863</td>\n      <td>2</td>\n      <td>1.070e-03</td>\n    </tr>\n    <tr>\n      <th>211</th>\n      <td><div class=\"not-number\">Marbled Murrelet - MAMU</div></td>\n      <td>1863</td>\n      <td>2</td>\n      <td>1.070e-03</td>\n    </tr>\n    <tr>\n      <th>212</th>\n      <td><div class=\"not-number\">Red-breasted Merganser - RBME</div></td>\n      <td>1863</td>\n      <td>2</td>\n      <td>1.070e-03</td>\n    </tr>\n    <tr>\n      <th>213</th>\n      <td><div class=\"not-number\">Tricolored Blackbird - TRBL</div></td>\n      <td>1863</td>\n      <td>2</td>\n      <td>1.070e-03</td>\n    </tr>\n    <tr>\n      <th>214</th>\n      <td><div class=\"not-number\">Swainson's Hawk - SWHA</div></td>\n      <td>1863</td>\n      <td>2</td>\n      <td>1.070e-03</td>\n    </tr>\n    <tr>\n      <th>215</th>\n      <td><div class=\"not-number\">Black Tern - BLTE</div></td>\n      <td>1863</td>\n      <td>2</td>\n      <td>1.070e-03</td>\n    </tr>\n    <tr>\n      <th>216</th>\n      <td><div class=\"not-number\">Ancient Murrelet - ANMU</div></td>\n      <td>1863</td>\n      <td>1</td>\n      <td>5.370e-04</td>\n    </tr>\n    <tr>\n      <th>217</th>\n      <td><div class=\"not-number\">Green-winged Teal - GWTE</div></td>\n      <td>1863</td>\n      <td>1</td>\n      <td>5.370e-04</td>\n    </tr>\n    <tr>\n      <th>218</th>\n      <td><div class=\"not-number\">Long-eared Owl - LEOW</div></td>\n      <td>1863</td>\n      <td>1</td>\n      <td>5.370e-04</td>\n    </tr>\n    <tr>\n      <th>219</th>\n      <td><div class=\"not-number\">King Eider - KIEI</div></td>\n      <td>1863</td>\n      <td>1</td>\n      <td>5.370e-04</td>\n    </tr>\n    <tr>\n      <th>220</th>\n      <td><div class=\"not-number\">Greater White-fronted Goose - GWFG</div></td>\n      <td>1863</td>\n      <td>1</td>\n      <td>5.370e-04</td>\n    </tr>\n    <tr>\n      <th>221</th>\n      <td><div class=\"not-number\">Hooded Warbler - HOWA</div></td>\n      <td>1863</td>\n      <td>1</td>\n      <td>5.370e-04</td>\n    </tr>\n    <tr>\n      <th>222</th>\n      <td><div class=\"not-number\">Barred Owl - BADO</div></td>\n      <td>1863</td>\n      <td>1</td>\n      <td>5.370e-04</td>\n    </tr>\n    <tr>\n      <th>223</th>\n      <td><div class=\"not-number\">Herring Gull - HERG</div></td>\n      <td>1863</td>\n      <td>1</td>\n      <td>5.370e-04</td>\n    </tr>\n    <tr>\n      <th>224</th>\n      <td><div class=\"not-number\">Worm-eating Warbler - WEWA</div></td>\n      <td>1863</td>\n      <td>1</td>\n      <td>5.370e-04</td>\n    </tr>\n    <tr>\n      <th>225</th>\n      <td><div class=\"not-number\">Brown Booby - BRBO</div></td>\n      <td>1863</td>\n      <td>1</td>\n      <td>5.370e-04</td>\n    </tr>\n    <tr>\n      <th>226</th>\n      <td><div class=\"not-number\">Merlin - MERL</div></td>\n      <td>1863</td>\n      <td>1</td>\n      <td>5.370e-04</td>\n    </tr>\n    <tr>\n      <th>227</th>\n      <td><div class=\"not-number\">Muscovy Duck - MUDU</div></td>\n      <td>1863</td>\n      <td>1</td>\n      <td>5.370e-04</td>\n    </tr>\n    <tr>\n      <th>228</th>\n      <td><div class=\"not-number\">Bald Eagle - BAEA</div></td>\n      <td>1863</td>\n      <td>1</td>\n      <td>5.370e-04</td>\n    </tr>\n    <tr>\n      <th>229</th>\n      <td><div class=\"not-number\">Northern Pygmy-Owl - NOPO</div></td>\n      <td>1863</td>\n      <td>1</td>\n      <td>5.370e-04</td>\n    </tr>\n    <tr>\n      <th>230</th>\n      <td><div class=\"not-number\">Parasitic Jaeger - PAJA</div></td>\n      <td>1863</td>\n      <td>1</td>\n      <td>5.370e-04</td>\n    </tr>\n    <tr>\n      <th>231</th>\n      <td><div class=\"not-number\">Common Goldeneye - COGO</div></td>\n      <td>1863</td>\n      <td>1</td>\n      <td>5.370e-04</td>\n    </tr>\n    <tr>\n      <th>232</th>\n      <td><div class=\"not-number\">Bell's Sparrow - BESP</div></td>\n      <td>1863</td>\n      <td>1</td>\n      <td>5.370e-04</td>\n    </tr>\n    <tr>\n      <th>233</th>\n      <td><div class=\"not-number\">Clark's Nutcracker - CLNU</div></td>\n      <td>1863</td>\n      <td>1</td>\n      <td>5.370e-04</td>\n    </tr>\n    <tr>\n      <th>234</th>\n      <td><div class=\"not-number\">Redhead - REDH</div></td>\n      <td>1863</td>\n      <td>1</td>\n      <td>5.370e-04</td>\n    </tr>\n    <tr>\n      <th>235</th>\n      <td><div class=\"not-number\">Black Scoter - BLSC</div></td>\n      <td>1863</td>\n      <td>1</td>\n      <td>5.370e-04</td>\n    </tr>\n    <tr>\n      <th>236</th>\n      <td><div class=\"not-number\">Horned Grebe - HOGR</div></td>\n      <td>1863</td>\n      <td>1</td>\n      <td>5.370e-04</td>\n    </tr>\n    <tr>\n      <th>237</th>\n      <td><div class=\"not-number\">Rock Wren - ROWR</div></td>\n      <td>1863</td>\n      <td>1</td>\n      <td>5.370e-04</td>\n    </tr>\n    <tr>\n      <th>238</th>\n      <td><div class=\"not-number\">Canvasback - CANV</div></td>\n      <td>1863</td>\n      <td>1</td>\n      <td>5.370e-04</td>\n    </tr>\n    <tr>\n      <th>239</th>\n      <td><div class=\"not-number\">Cassin's Auklet - CAAU</div></td>\n      <td>1863</td>\n      <td>1</td>\n      <td>5.370e-04</td>\n    </tr>\n    <tr>\n      <th>240</th>\n      <td><div class=\"not-number\">Blue-winged Teal - BWTE</div></td>\n      <td>1863</td>\n      <td>1</td>\n      <td>5.370e-04</td>\n    </tr>\n    <tr>\n      <th>241</th>\n      <td><div class=\"not-number\">Pacific Golden-Plover - PAGP</div></td>\n      <td>1863</td>\n      <td>1</td>\n      <td>5.370e-04</td>\n    </tr>\n  </tbody>\n</table>",
      "text/plain": "                                 longhand     n  n_present          p\n0                      House Finch - HOFI  1863        746  4.004e-01\n1                     Western Gull - WEGU  1863        694  3.725e-01\n2               Anna's Hummingbird - ANHU  1863        657  3.527e-01\n3                    Mourning Dove - MODO  1863        646  3.468e-01\n4                California Towhee - CALT  1863        613  3.290e-01\n5                     Barn Swallow - BARS  1863        577  3.097e-01\n6             California Scrub-Jay - CASJ  1863        552  2.963e-01\n7         Double-crested Cormorant - DCCO  1863        532  2.856e-01\n8                    American Crow - AMCR  1863        517  2.775e-01\n9        Chestnut-backed Chickadee - CBCH  1863        502  2.695e-01\n10                    Black Phoebe - BLPH  1863        469  2.517e-01\n11                     Rock Pigeon - RODO  1863        468  2.512e-01\n12                         Mallard - MALL  1863        464  2.491e-01\n13                    Song Sparrow - SOSP  1863        460  2.469e-01\n14                     Snowy Egret - SNEG  1863        448  2.405e-01\n15                  Turkey Vulture - TUVU  1863        437  2.346e-01\n16                    Caspian Tern - CATE  1863        412  2.211e-01\n17                    Common Raven - CORA  1863        407  2.185e-01\n18                  American Robin - AMRO  1863        405  2.174e-01\n19                          Willet - WILL  1863        393  2.110e-01\n20                   Brown Pelican - BRPE  1863        373  2.002e-01\n21              American Goldfinch - AMGO  1863        360  1.932e-01\n22           White-crowned Sparrow - WCSP  1863        349  1.873e-01\n23                 Red-tailed Hawk - RTHA  1863        346  1.857e-01\n24                     Great Egret - GREG  1863        336  1.804e-01\n25                 Dark-eyed Junco - DEJU  1863        325  1.744e-01\n26               European Starling - EUST  1863        325  1.744e-01\n27                         Bushtit - BUSH  1863        316  1.696e-01\n28                    Canada Goose - CANG  1863        304  1.632e-01\n29                Great Blue Heron - GBHE  1863        296  1.589e-01\n30                 California Gull - CAGU  1863        294  1.578e-01\n31                Lesser Goldfinch - LEGO  1863        292  1.567e-01\n32                  Marbled Godwit - MAGO  1863        287  1.541e-01\n33              Long-billed Curlew - LBCU  1863        282  1.514e-01\n34              Brewer's Blackbird - BRBL  1863        281  1.508e-01\n35                  Spotted Towhee - SPTO  1863        276  1.481e-01\n36                   Cliff Swallow - CLSW  1863        274  1.471e-01\n37                        Killdeer - KILL  1863        273  1.465e-01\n38                  Forster's Tern - FOTE  1863        263  1.412e-01\n39            Black-bellied Plover - BBPL  1863        254  1.363e-01\n40                 Heermann's Gull - HEEG  1863        247  1.326e-01\n41            Northern Mockingbird - NOMO  1863        245  1.315e-01\n42                Ring-billed Gull - RBGU  1863        240  1.288e-01\n43                   House Sparrow - HOSP  1863        237  1.272e-01\n44                 Least Sandpiper - LESA  1863        230  1.235e-01\n45               Western Sandpiper - WESA  1863        228  1.224e-01\n46                   Steller's Jay - STJA  1863        223  1.197e-01\n47                         Wrentit - WREN  1863        221  1.186e-01\n48                   Bewick's Wren - BEWR  1863        217  1.165e-01\n49                    Elegant Tern - ELTE  1863        208  1.116e-01\n50                Wilson's Warbler - WIWA  1863        205  1.100e-01\n51              Black-necked Stilt - BNST  1863        199  1.068e-01\n52                        Whimbrel - WHIM  1863        174  9.340e-02\n53            Red-winged Blackbird - RWBL  1863        167  8.964e-02\n54                Downy Woodpecker - DOWO  1863        163  8.749e-02\n55             Semipalmated Plover - SEPL  1863        161  8.642e-02\n56                 American Avocet - AMAV  1863        160  8.588e-02\n57                    Oak Titmouse - OATI  1863        158  8.481e-02\n58                  Pygmy Nuthatch - PYNU  1863        158  8.481e-02\n59            Nuttall's Woodpecker - NUWO  1863        158  8.481e-02\n60                   Western Grebe - WEGR  1863        155  8.320e-02\n61                California Quail - CAQU  1863        154  8.266e-02\n62              Brandt's Cormorant - BRAC  1863        154  8.266e-02\n63             Red-shouldered Hawk - RSHA  1863        148  7.944e-02\n64              Greater Yellowlegs - GRYE  1863        143  7.676e-02\n65             Black Oystercatcher - BLOY  1863        141  7.568e-02\n66               Pied-billed Grebe - PBGR  1863        140  7.515e-02\n67            Brown-headed Cowbird - BHCO  1863        135  7.246e-02\n68               Swainson's Thrush - SWTH  1863        129  6.924e-02\n69          American White Pelican - AWPE  1863        126  6.763e-02\n70                    Purple Finch - PUFI  1863        123  6.602e-02\n71                   Clark's Grebe - CLGR  1863        123  6.602e-02\n72                    Common Murre - COMU  1863        118  6.334e-02\n73                   American Coot - AMCO  1863        116  6.227e-02\n74          Short-billed Dowitcher - SBDO  1863        115  6.173e-02\n75       Black-crowned Night-Heron - BCNH  1863        113  6.065e-02\n76             Allen's Hummingbird - ALHU  1863        109  5.851e-02\n77        Pacific-slope Flycatcher - PSFL  1863        108  5.797e-02\n78                Western Bluebird - WEBL  1863        107  5.743e-02\n79                Northern Flicker - NOFL  1863        106  5.690e-02\n80             Common Yellowthroat - COYE  1863        105  5.636e-02\n81                          Osprey - OSPR  1863        104  5.582e-02\n82                Pigeon Guillemot - PIGU  1863        104  5.582e-02\n83                     Surf Scoter - SUSC  1863        102  5.475e-02\n84              Band-tailed Pigeon - BTPI  1863        101  5.421e-02\n85                    Tree Swallow - TRES  1863        101  5.421e-02\n86               White-tailed Kite - WTKI  1863         97  5.207e-02\n87                 Black Turnstone - BLTU  1863         93  4.992e-02\n88                American Kestrel - AMKE  1863         90  4.831e-02\n89                      Marsh Wren - MAWR  1863         88  4.724e-02\n90                      Least Tern - LETE  1863         87  4.670e-02\n91                Savannah Sparrow - SAVS  1863         85  4.563e-02\n92               Pelagic Cormorant - PECO  1863         85  4.563e-02\n93         White-breasted Nuthatch - WBNU  1863         84  4.509e-02\n94                   Brown Creeper - BRCR  1863         82  4.402e-02\n95                   Cooper's Hawk - COHA  1863         74  3.972e-02\n96            Violet-green Swallow - VGSW  1863         74  3.972e-02\n97                  Hutton's Vireo - HUVI  1863         72  3.865e-02\n98           Long-billed Dowitcher - LBDO  1863         72  3.865e-02\n99                      Ruddy Duck - RUDU  1863         71  3.811e-02\n100                  Hooded Oriole - HOOR  1863         71  3.811e-02\n101                     Sanderling - SAND  1863         70  3.757e-02\n102                Ruddy Turnstone - RUTU  1863         67  3.596e-02\n103  Northern Rough-winged Swallow - NRWS  1863         65  3.489e-02\n104                   Pacific Wren - PAWR  1863         65  3.489e-02\n105                 Warbling Vireo - WAVI  1863         65  3.489e-02\n106               Acorn Woodpecker - ACWO  1863         65  3.489e-02\n107              Belted Kingfisher - BEKI  1863         65  3.489e-02\n108         Orange-crowned Warbler - OCWA  1863         63  3.382e-02\n109          Black-headed Grosbeak - BHGR  1863         63  3.382e-02\n110         Olive-sided Flycatcher - OSFL  1863         62  3.328e-02\n111                    Green Heron - GRHE  1863         61  3.274e-02\n112               Hairy Woodpecker - HAWO  1863         59  3.167e-02\n113                       Red Knot - REKN  1863         56  3.006e-02\n114          Red-breasted Nuthatch - RBNU  1863         56  3.006e-02\n115                    Hen Harrier - HEHA  1863         53  2.845e-02\n116                   Snowy Plover - SNPL  1863         53  2.845e-02\n117             Western Wood-Pewee - WEWP  1863         50  2.684e-02\n118                    Wild Turkey - WITU  1863         49  2.630e-02\n119           Red-necked Phalarope - RNPH  1863         48  2.576e-02\n120        Ash-throated Flycatcher - ATFL  1863         48  2.576e-02\n121                    Pine Siskin - PISI  1863         46  2.469e-02\n122           White-throated Swift - WTSW  1863         44  2.362e-02\n123              Spotted Sandpiper - SPSA  1863         42  2.254e-02\n124            Red-masked Parakeet - RMPA  1863         42  2.254e-02\n125             Wilson's Phalarope - WIPH  1863         41  2.201e-02\n126         Eurasian Collared-Dove - EUCD  1863         38  2.040e-02\n127              Wandering Tattler - WATA  1863         36  1.932e-02\n128                  Virginia Rail - VIRA  1863         33  1.771e-02\n129               Great Horned Owl - GHOW  1863         33  1.771e-02\n130                     House Wren - HOWR  1863         31  1.664e-02\n131             Western Meadowlark - WEME  1863         28  1.503e-02\n132                  Greater Scaup - GRSC  1863         26  1.396e-02\n133                        Gadwall - GADW  1863         26  1.396e-02\n134               Bullock's Oriole - BUOR  1863         23  1.235e-02\n135                  Cinnamon Teal - CITE  1863         22  1.181e-02\n136           Glaucous-winged Gull - GWGU  1863         22  1.181e-02\n137               Western Kingbird - WEKI  1863         22  1.181e-02\n138               Peregrine Falcon - PEFA  1863         21  1.127e-02\n139              Lesser Yellowlegs - LEYE  1863         20  1.074e-02\n140              Loggerhead Shrike - LOSH  1863         20  1.074e-02\n141                 Ridgway's Rail - RIRA  1863         20  1.074e-02\n142                   Bank Swallow - BANS  1863         18  9.662e-03\n143          Blue-gray Gnatcatcher - BGGN  1863         17  9.125e-03\n144                    Common Loon - COLO  1863         16  8.588e-03\n145               Common Merganser - COME  1863         16  8.588e-03\n146                  Black Skimmer - BLSK  1863         16  8.588e-03\n147                         Dunlin - DUNL  1863         16  8.588e-03\n148             Sharp-shinned Hawk - SSHA  1863         16  8.588e-03\n149                    Common Tern - COTE  1863         15  8.052e-03\n150                       Surfbird - SURF  1863         15  8.052e-03\n151           Great-tailed Grackle - GTGR  1863         15  8.052e-03\n152            White-winged Scoter - WWSC  1863         14  7.515e-03\n153             Rufous Hummingbird - RUHU  1863         14  7.515e-03\n154         Semipalmated Sandpiper - SESA  1863         13  6.978e-03\n155                    Horned Lark - HOLA  1863         13  6.978e-03\n156                     Bufflehead - BUFF  1863         13  6.978e-03\n157                       Barn Owl - BANO  1863         12  6.441e-03\n158               Bonaparte's Gull - BOGU  1863         12  6.441e-03\n159            California Thrasher - CATH  1863         11  5.904e-03\n160                Western Tanager - WETA  1863         11  5.904e-03\n161                 Lazuli Bunting - LAZB  1863         11  5.904e-03\n162                    Eared Grebe - EAGR  1863         10  5.368e-03\n163                   Golden Eagle - GOEA  1863         10  5.368e-03\n164                    Phainopepla - PHAI  1863         10  5.368e-03\n165                   Lesser Scaup - LESC  1863          9  4.831e-03\n166               Northern Pintail - NOPI  1863          9  4.831e-03\n167                      Wood Duck - WODU  1863          8  4.294e-03\n168               Common Gallinule - COGA  1863          8  4.294e-03\n169              Red-throated Loon - RTLO  1863          8  4.294e-03\n170    Black-throated Gray Warbler - BTYW  1863          8  4.294e-03\n171                   Lark Sparrow - LASP  1863          7  3.757e-03\n172               White-eyed Vireo - WEVI  1863          7  3.757e-03\n173                  Red Crossbill - RECR  1863          7  3.757e-03\n174         MacGillivray's Warbler - MGWA  1863          7  3.757e-03\n175           Ring-necked Pheasant - RNEP  1863          7  3.757e-03\n176            Grasshopper Sparrow - GRSP  1863          6  3.221e-03\n177           Yellow-billed Magpie - YBMA  1863          6  3.221e-03\n178                 Yellow Warbler - YEWA  1863          6  3.221e-03\n179                   Pacific Loon - PALO  1863          6  3.221e-03\n180               Sooty Shearwater - SOSH  1863          5  2.684e-03\n181                   Say's Phoebe - SAPH  1863          5  2.684e-03\n182                 Hermit Warbler - HEWA  1863          5  2.684e-03\n183                     Black Rail - BLRA  1863          5  2.684e-03\n184         Rufous-crowned Sparrow - RCSP  1863          5  2.684e-03\n185            Pileated Woodpecker - PIWO  1863          5  2.684e-03\n186              Baird's Sandpiper - BASA  1863          5  2.684e-03\n187              Northern Shoveler - NSHO  1863          5  2.684e-03\n188                          Brant - BRAN  1863          5  2.684e-03\n189                  Blue Grosbeak - BLGR  1863          4  2.147e-03\n190      Black-chinned Hummingbird - BCHU  1863          4  2.147e-03\n191            Western Screech-Owl - WESO  1863          4  2.147e-03\n192                American Wigeon - AMWI  1863          4  2.147e-03\n193          Yellow-rumped Warbler - YRWA  1863          4  2.147e-03\n194               Long-tailed Duck - LTDU  1863          4  2.147e-03\n195                      Mute Swan - MUSW  1863          4  2.147e-03\n196         Golden-crowned Kinglet - GCKI  1863          4  2.147e-03\n197           Lawrence's Goldfinch - LAGO  1863          4  2.147e-03\n198                 Harlequin Duck - HADU  1863          4  2.147e-03\n199         Rose-breasted Grosbeak - RBGR  1863          4  2.147e-03\n200                 Cassin's Vireo - CAVI  1863          3  1.610e-03\n201                  Hermit Thrush - HETH  1863          3  1.610e-03\n202                    Spotted Owl - SPOW  1863          3  1.610e-03\n203                 Cackling Goose - CACG  1863          3  1.610e-03\n204           Yellow-breasted Chat - YBCH  1863          3  1.610e-03\n205                  Burrowing Owl - BUOW  1863          3  1.610e-03\n206                    Arctic Tern - ARTE  1863          3  1.610e-03\n207                   Vaux's Swift - VASW  1863          2  1.074e-03\n208                 Prairie Falcon - PRFA  1863          2  1.074e-03\n209                  Purple Martin - PUMA  1863          2  1.074e-03\n210              Rhinoceros Auklet - RHAU  1863          2  1.074e-03\n211               Marbled Murrelet - MAMU  1863          2  1.074e-03\n212         Red-breasted Merganser - RBME  1863          2  1.074e-03\n213           Tricolored Blackbird - TRBL  1863          2  1.074e-03\n214                Swainson's Hawk - SWHA  1863          2  1.074e-03\n215                     Black Tern - BLTE  1863          2  1.074e-03\n216               Ancient Murrelet - ANMU  1863          1  5.368e-04\n217              Green-winged Teal - GWTE  1863          1  5.368e-04\n218                 Long-eared Owl - LEOW  1863          1  5.368e-04\n219                     King Eider - KIEI  1863          1  5.368e-04\n220    Greater White-fronted Goose - GWFG  1863          1  5.368e-04\n221                 Hooded Warbler - HOWA  1863          1  5.368e-04\n222                     Barred Owl - BADO  1863          1  5.368e-04\n223                   Herring Gull - HERG  1863          1  5.368e-04\n224            Worm-eating Warbler - WEWA  1863          1  5.368e-04\n225                    Brown Booby - BRBO  1863          1  5.368e-04\n226                         Merlin - MERL  1863          1  5.368e-04\n227                   Muscovy Duck - MUDU  1863          1  5.368e-04\n228                     Bald Eagle - BAEA  1863          1  5.368e-04\n229             Northern Pygmy-Owl - NOPO  1863          1  5.368e-04\n230               Parasitic Jaeger - PAJA  1863          1  5.368e-04\n231               Common Goldeneye - COGO  1863          1  5.368e-04\n232                 Bell's Sparrow - BESP  1863          1  5.368e-04\n233             Clark's Nutcracker - CLNU  1863          1  5.368e-04\n234                        Redhead - REDH  1863          1  5.368e-04\n235                   Black Scoter - BLSC  1863          1  5.368e-04\n236                   Horned Grebe - HOGR  1863          1  5.368e-04\n237                      Rock Wren - ROWR  1863          1  5.368e-04\n238                     Canvasback - CANV  1863          1  5.368e-04\n239                Cassin's Auklet - CAAU  1863          1  5.368e-04\n240               Blue-winged Teal - BWTE  1863          1  5.368e-04\n241          Pacific Golden-Plover - PAGP  1863          1  5.368e-04"
     },
     "execution_count": 476,
     "metadata": {},
     "output_type": "execute_result"
    }
   ],
   "source": [
    "# Try using priors\n",
    "#   - [x] ebird.predict_proba(loc, date) -> probs\n",
    "def ebird_species_probs(lat: float, lon: float, date: date, week_pm=1) -> 'pd.DataFrame[species, prob]':\n",
    "    \"\"\"\n",
    "    Map (lat, lon, date) -> species probs\n",
    "    - python-geohash\n",
    "        - https://github.com/hkwi/python-geohash/wiki\n",
    "        - https://github.com/hkwi/python-geohash/wiki/GeohashReference\n",
    "    - How big is a geohash?\n",
    "        - https://www.movable-type.co.uk/scripts/geohash.html [sf: (38,-122)]\n",
    "        - https://gis.stackexchange.com/questions/115280/what-is-the-precision-of-a-geohash\n",
    "    - Misc\n",
    "        - https://en.wikipedia.org/wiki/Geohash\n",
    "        - https://www.elastic.co/guide/en/elasticsearch/reference/current/search-aggregations-bucket-geohashgrid-aggregation.html\n",
    "\n",
    "    Geohash dims (height is constant, width varies by lat: max at equator, 0 at poles):\n",
    "    - geohash3: (w, h) ≤ ( 97,  97) mi\n",
    "    - geohash4: (w, h) ≤ ( 24,  12) mi\n",
    "    - geohash5: (w, h) ≤ (3.0, 3.0) mi\n",
    "    - geohash6: (w, h) ≤ (.76, .38) mi\n",
    "    \"\"\"\n",
    "\n",
    "    # Params\n",
    "    #   - Current week ± 1w\n",
    "    #   - Geohash + 8 neighbors\n",
    "    weeks = normalize_ebird_week(date_to_ebird_week(date.today()) + np.arange(-week_pm, week_pm + 1))\n",
    "    geohash4s = geohash.expand(np.asscalar(geohash4(lat, lon)))\n",
    "\n",
    "    return (priors_df\n",
    "\n",
    "        # Query\n",
    "        #   - TODO Is .loc faster than .join? [https://pandas.pydata.org/pandas-docs/stable/indexing.html#indexing-label]\n",
    "        .pipe(tap, lambda df: assert_(df.index.names == ['week', 'geohash4']))\n",
    "        .join(how='inner', other=(\n",
    "            pd.DataFrame(dict(week=week, geohash4=geohash4) for week in weeks for geohash4 in geohash4s)\n",
    "            .set_index(['week', 'geohash4'])\n",
    "        ))\n",
    "        .reset_index()  # [week, geohash4]\n",
    "\n",
    "        # Aggregate n over geohash neighborhood\n",
    "        .assign(n=lambda df: df.groupby(['week', 'geohash4']).n.first().sum())\n",
    "        .drop(columns=['week', 'geohash4'])\n",
    "\n",
    "        # Aggregate n_present over geohash neighborhood\n",
    "        #   - HACK .groupby on species:category produced bogus counts (e.g. TRBL 244 i/o 4); use species:str as a workaround\n",
    "        .astype({'species': 'str'})\n",
    "        .groupby(observed=True, as_index=False, by='species').agg({'n': 'first', 'n_present': 'sum'})\n",
    "        .astype({'species': metadata.species.df.shorthand.dtype})\n",
    "\n",
    "        # Compute p\n",
    "        .assign(p=lambda df: df.n_present / df.n)\n",
    "\n",
    "    )\n",
    "\n",
    "(lat, lon, date) = (37.9, -122, date.today())  # Orinda (includes: SF, Berkeley hills, Mt Diablo, Marin)\n",
    "\n",
    "(ebird_species_probs(lat, lon, date)\n",
    "    # Replace species -> longhand\n",
    "    .set_index('species')\n",
    "    .join(how='left', other=metadata.species.df.set_index('shorthand')[['longhand']])\n",
    "    .reset_index(drop=True)  # species\n",
    "    .pipe(df_reorder_cols, first=['longhand'])\n",
    "    # Sort and limit\n",
    "    # .sort_index()\n",
    "    .sort_values('n_present', ascending=False).reset_index(drop=True)\n",
    "    .pipe(df_inspect, lambda df: '%s species' % len(df))\n",
    "    # .pipe(lambda df: pd.concat([df[:30], df[len(df)//2:len(df)//2+30], df[-30:]]))\n",
    ")"
   ]
  },
  {
   "cell_type": "code",
   "execution_count": null,
   "metadata": {},
   "outputs": [],
   "source": [
    "DEBUGGING_BELOW"
   ]
  },
  {
   "cell_type": "code",
   "execution_count": null,
   "metadata": {
    "time": "5.353s"
   },
   "outputs": [],
   "source": [
    "%%prun -l50 -scumtime\n",
    "# %%snakeviz\n",
    "# Can we optimize assign-by-index? [nope, couldn't find anything faster...]\n",
    "# sample = 0.04\n",
    "# sample = 0.02\n",
    "# sample = 0.01\n",
    "sample = 0.004\n",
    "display(\n",
    "    dd.read_parquet(f'{data_dir}/ebird/ebd_US_relFeb-2017/derived/priors/ebd_US_relFeb-2017-2-chk-setindex.parquet-{sample}')\n",
    "    .pipe(df_inspect, lambda ddf: 'npartitions: %s' % ddf.npartitions)\n",
    "    # .head(1_000, compute=False)\n",
    "    .map_partitions(lambda df: (df\n",
    "\n",
    "        # XXX Compat\n",
    "        .set_index('dist_key')\n",
    "\n",
    "        # Drop duplicate rows since all (checklist, species) should be unique\n",
    "        #   - sample=0.001: 142k -> 98.7k rows\n",
    "        #   - Some dupes come from group_identifier vs. sampling_event_identifier: anything with group_identifier is repeated\n",
    "        #   - Also, the sample=0.001 raw file shows most lines occur once but ~18 lines are repeated ~2500-2800 times <- definitely junk\n",
    "        .drop_duplicates(\n",
    "            subset=['week', 'geohash4', 'scientific_name', 'checklist_id'],\n",
    "            keep='first',\n",
    "        )\n",
    "\n",
    "        # Compute n (window)\n",
    "        #   - Num unique checklist_id's per (week, geohash4)\n",
    "        #   - WARNING observed=True else groupby blows up all geohash4.cat x scientific_name.cat, which is way too much\n",
    "\n",
    "        # Bottleneck: assign-by-index (way slower than the groupby for n_present)\n",
    "        .reset_index()  # dist_key, from ddf.map_partitions\n",
    "        .set_index(['dist_key', 'week', 'geohash4'])\n",
    "        .assign(n=lambda df: (df\n",
    "            .groupby(observed=True, by=['dist_key', 'week', 'geohash4'])\n",
    "            .checklist_id.nunique()\n",
    "            .astype(np.uint32)  # TODO uint16 to save space? -- measure max in the data? Or just drop this col entirely?\n",
    "        ))\n",
    "        # .sort_index()  # XXX Debug\n",
    "\n",
    "        # # .groupby().transform()? [nope, way slower]\n",
    "        # .pipe(df_inspect, lambda df: 'all: %s' % len(df))\n",
    "        # .sort_values(['dist_key', 'week', 'geohash4'])\n",
    "        # [:100]\n",
    "        # .pipe(df_inspect, lambda df: '[:100]: %s' % len(df))\n",
    "        # .reset_index()\n",
    "        # .groupby(observed=True, by=['dist_key', 'week', 'geohash4'])\n",
    "        # # .checklist_id.nunique()\n",
    "        # .pipe(df_inspect, lambda df: 'groupby: %s' % len(df))\n",
    "        # .transform('nunique')\n",
    "        # .pipe(df_inspect, lambda df: 'transform: %s' % len(df))\n",
    "        # .head(2)\n",
    "        # .pipe(df_inspect, lambda df: 'head: %s' % len(df))\n",
    "        # # [:1]\n",
    "        # # .transform\n",
    "\n",
    "        # # .groupby().transform()? [nope, way slower]\n",
    "        # .sort_values(['dist_key', 'week', 'geohash4'])\n",
    "        # [:100]\n",
    "        # .reset_index()\n",
    "        # .groupby(observed=True, by=['dist_key', 'week', 'geohash4'])\n",
    "        # # .checklist_id.nunique()\n",
    "        # .transform({'checklist_id': np.max})\n",
    "        # .head(2)\n",
    "        # # [:1]\n",
    "        # # .transform\n",
    "\n",
    "        # # .assign on a simple RangeIndex instead of the rich ['dist_key', 'week', 'geohash4'] index? [nope, can't make it work]\n",
    "        # # .pipe(df_inspect, 'in', lambda df: df[:1])\n",
    "        # .reset_index()  # dist_key, from ddf.map_partitions\n",
    "        # # .pipe(df_inspect, 'reset_index', lambda df: df[:1])\n",
    "        # .assign(n=lambda df: (df\n",
    "        #     .reset_index()  # RangeIndex -> .index\n",
    "        #     .pipe(df_inspect, 'reset_index_1', lambda x: x[:3])\n",
    "        #     .groupby(observed=True, by=['dist_key', 'week', 'geohash4'])\n",
    "        #     .pipe(df_inspect, 'groupby', lambda g: next(iter(g))[-1][:3])\n",
    "        #     .checklist_id.nunique()\n",
    "        #     .pipe(df_inspect, 'nunique', lambda x: x[:3])\n",
    "        #     # .astype(np.uint32)  # TODO Can we be more aggressive to save space? Or should we drop this col entirely?\n",
    "        #     .reset_index().checklist_id\n",
    "        #     .pipe(df_inspect, 'reset_index_2', lambda x: x[:3])\n",
    "        # ))\n",
    "        # # .pipe(df_inspect, 'assign', lambda df: df[:1])\n",
    "        # .set_index(['dist_key', 'week', 'geohash4'])\n",
    "        # .sort_index()  # XXX Debug\n",
    "\n",
    "        # # Do less in .assign? [nope, nothing to remove]\n",
    "        # .reset_index()  # dist_key, from ddf.map_partitions\n",
    "        # .set_index(['dist_key', 'week', 'geohash4'])\n",
    "        # # .sort_index()  # XXX Debug\n",
    "        # .assign(n=lambda df: (df\n",
    "        #     .groupby(sort=False, observed=True, by=['dist_key', 'week', 'geohash4'])\n",
    "        #     .checklist_id.nunique()\n",
    "        #     # .astype(np.uint32)  # TODO Can we be more aggressive to save space? Or should we drop this col entirely?\n",
    "        #     # .pipe(df_inspect, 'other', lambda df: df.to_frame()[:1])\n",
    "        # ))\n",
    "        # # .sort_index()  # XXX Debug\n",
    "\n",
    "        # # .join instead of .assign? [nope, as fast but no faster than assign-by-index above]\n",
    "        # .reset_index()  # dist_key, from ddf.map_partitions\n",
    "        # .set_index(['dist_key', 'week', 'geohash4'])\n",
    "        # # .sort_index()  # XXX Debug\n",
    "        # .pipe(lambda df: (df\n",
    "        #     # .pipe(df_inspect, 'join', lambda df: df[:1])\n",
    "        #     .join(how='left', other=(df\n",
    "        #         .groupby(sort=False, observed=True, by=['dist_key', 'week', 'geohash4'])\n",
    "        #         .checklist_id.nunique()\n",
    "        #         .to_frame().rename(columns={'checklist_id': 'n'})\n",
    "        #         # .pipe(df_inspect, 'other', lambda df: df[:1])\n",
    "        #         .astype(np.uint32)  # TODO Can we be more aggressive to save space? Or should we drop this col entirely?\n",
    "        #     ))\n",
    "        # ))\n",
    "        # # .sort_index()  # XXX Debug\n",
    "\n",
    "        # # .groupby().apply() instead of .assign? [nope, way slower than assign-by-index]\n",
    "        # # [:10]\n",
    "        # .reset_index()  # dist_key, from ddf.map_partitions\n",
    "        # .groupby(observed=True, by=['dist_key', 'week', 'geohash4'])\n",
    "        # .pipe(df_inspect, 'groupby\\ngroupby', lambda g: next(iter(g))[-1][:3])\n",
    "        # .apply(lambda g: (g\n",
    "        #     # .assign(n=g.checklist_id.nunique())  # TODO\n",
    "        # ))\n",
    "        # .pipe(df_inspect, 'apply\\napply', lambda df: df[:3])\n",
    "\n",
    "        # # .groupby().concat instead of .assign? [nope, way slower than assign-by-index]\n",
    "        # # [:10]\n",
    "        # .reset_index()  # dist_key, from ddf.map_partitions\n",
    "        # .groupby(observed=True, by=['dist_key', 'week', 'geohash4'])\n",
    "        # .pipe(df_inspect, 'groupby\\ngroupby', lambda g: next(iter(g))[-1][:3])\n",
    "        # .pipe(lambda gs: pd.concat(\n",
    "        #     g\n",
    "        #     # g.assign(n=g.checklist_id.nunique())  # TODO\n",
    "        #     for ix, g in gs\n",
    "        # ))\n",
    "\n",
    "        # # Disable, since this isn't the bottleneck\n",
    "        # # Compute n_present (group)\n",
    "        # #   - Num checklists per (week, geohash4, scientific_name)\n",
    "        # #   - WARNING observed=True else groupby blows up all geohash4.cat x scientific_name.cat, which is way too much\n",
    "        # .assign(n_present=1)  # One per (week, geohash4, scientific_name, checklist_id)\n",
    "        # .groupby(observed=True, by=['dist_key', 'week', 'geohash4', 'scientific_name'])\n",
    "        # .agg({\n",
    "        #     'n_present': 'sum',\n",
    "        #     # 'n': 'first',  # Passthru; assume unique per group\n",
    "        #     # Drop: checklist_id\n",
    "        # })\n",
    "\n",
    "    ))\n",
    "    .compute(\n",
    "        get=dask_get_for_scheduler('synchronous'),  # Debug\n",
    "        # get=dask_get_for_scheduler('threads'),  # Faster\n",
    "        # get=dask_get_for_scheduler('processes'),\n",
    "    )\n",
    "\n",
    "    .pipe(df_inspect, len, lambda df: df.reset_index().dtypes.to_frame().T)\n",
    "    # .query('n_present > 1')\n",
    "    [:30]\n",
    ")"
   ]
  },
  {
   "cell_type": "code",
   "execution_count": null,
   "metadata": {
    "time": "1.074s"
   },
   "outputs": [],
   "source": [
    "# Prototype groupby + agg\n",
    "(df\n",
    "\n",
    "    # Compute n (window)\n",
    "    #   - Num unique checklist_id's per (week, geohash4)\n",
    "    .set_index(['week', 'geohash4'])\n",
    "    .assign(n=lambda df: (df\n",
    "        .groupby(observed=True, by=['week', 'geohash4'])\n",
    "        .checklist_id.nunique()\n",
    "    ))\n",
    "\n",
    "    # Compute n_present (group)\n",
    "    #   - Num checklists per (week, geohash4, scientific_name)\n",
    "    .assign(n_present=1)  # One per (week, geohash4, scientific_name, checklist_id)\n",
    "    .groupby(observed=True, by=['week', 'geohash4', 'scientific_name'])\n",
    "    .agg({\n",
    "        'n_present': 'sum',\n",
    "        'n': 'first',  # Passthru; assume unique per group\n",
    "        # 'checklist_id'  # Drop\n",
    "    })\n",
    "\n",
    "    # Compute p, drop n_present\n",
    "    .assign(p=lambda df: (\n",
    "        (df.n_present / df.n)\n",
    "        .astype('float16')  # TODO uint8?\n",
    "    ))\n",
    "    .drop(columns=['n_present'])\n",
    "    .pipe(df_reorder_cols, last=['n'])\n",
    "\n",
    "    # Inspect\n",
    "    .sort_index()\n",
    "    # .query('n*p > 1')\n",
    "    # .shape\n",
    "    [:30]\n",
    ")"
   ]
  },
  {
   "cell_type": "code",
   "execution_count": null,
   "metadata": {
    "time": "2.867s"
   },
   "outputs": [],
   "source": [
    "# Measure size of each col by writing out to .parquet (df_summary isn't accurate with category dtypes)\n",
    "cols = dd.read_parquet(ebd_proj_path).columns\n",
    "for i, col in enumerate(cols):\n",
    "    log.info('col %s/%s: %s' % (i+1, len(cols), col))\n",
    "    (\n",
    "        dd_read_parquet_sample(\n",
    "            ebd_proj_path,\n",
    "            # sample=None,  # 1.48b\n",
    "            # sample=.1, sample_npartitions=8,  # 148m\n",
    "            sample=[.1, .1],  # 14.8m\n",
    "            # sample=[.1, .1, .1],  # 1.48m\n",
    "            # columns=[col],  # XXX\n",
    "        )\n",
    "        [[col]]\n",
    "        .to_parquet(f'/tmp/junk-ebd-col-{col}.parquet', compute=False,\n",
    "            # compression='gzip',\n",
    "            compression=None,\n",
    "        )\n",
    "        # .compute(get=dask_get_for_scheduler('threads'))\n",
    "        .compute(get=dask_get_for_scheduler('processes'))\n",
    "    )"
   ]
  },
  {
   "cell_type": "code",
   "execution_count": null,
   "metadata": {},
   "outputs": [],
   "source": []
  }
 ],
 "metadata": {
  "kernelspec": {
   "display_name": "bubo-features (PYTHONSTARTUP)",
   "language": "python",
   "name": "bubo-features (PYTHONSTARTUP)"
  }
 },
 "nbformat": 4,
 "nbformat_minor": 2
}
