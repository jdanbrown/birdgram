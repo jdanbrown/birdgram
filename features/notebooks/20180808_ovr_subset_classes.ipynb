{
 "cells": [
  {
   "cell_type": "code",
   "execution_count": null,
   "metadata": {},
   "outputs": [],
   "source": [
    "from notebooks import *"
   ]
  },
  {
   "cell_type": "code",
   "execution_count": null,
   "metadata": {},
   "outputs": [],
   "source": [
    "# Load a logreg_ovr classifier\n",
    "lr_search = Search.load_v0(\n",
    "    'eval-na-dan170/split_i=0,train=2693,test=674,classes=170', 'n_species=170,n_recs=1.0',\n",
    "    'cls=logreg_ovr,solver=liblinear,C=0.1,class_weight=balanced',\n",
    ")\n",
    "lr = lr_search.classifier_"
   ]
  },
  {
   "cell_type": "code",
   "execution_count": null,
   "metadata": {},
   "outputs": [],
   "source": [
    "# Load a std-sgdlog classifier\n",
    "sgd_search = Search.load_v0(\n",
    "    'eval-na-dan170/split_i=0,train=2693,test=674,classes=170', 'n_species=10,n_recs=1.0',\n",
    "    'cls=std-sgdlog,alpha=0.1,class_weight=balanced',\n",
    ")\n",
    "sgd_pipeline = sgd_search.classifier_  # TODO Modify sgd within pipeline [does scalar makes sense as is after subsetting the classes?]\n",
    "sgd = sgd_pipeline.steps[-1][-1]"
   ]
  },
  {
   "cell_type": "code",
   "execution_count": null,
   "metadata": {},
   "outputs": [
    {
     "data": {
      "text/plain": "LogisticRegression(C=0.1, class_weight='balanced', dual=False,\n          fit_intercept=True, intercept_scaling=1, max_iter=100,\n          multi_class='ovr', n_jobs=-1, penalty='l2', random_state=0,\n          solver='liblinear', tol=0.0001, verbose=0, warm_start=False)"
     },
     "execution_count": 13,
     "metadata": {},
     "output_type": "execute_result"
    }
   ],
   "source": [
    "lr"
   ]
  },
  {
   "cell_type": "code",
   "execution_count": null,
   "metadata": {},
   "outputs": [
    {
     "data": {
      "text/plain": "LogisticRegression(C=0.1, class_weight='balanced', dual=False,\n          fit_intercept=True, intercept_scaling=1, max_iter=100,\n          multi_class='ovr', n_jobs=-1, penalty='l2', random_state=0,\n          solver='liblinear', tol=0.0001, verbose=0, warm_start=False)"
     },
     "metadata": {},
     "output_type": "display_data",
     "transient": {}
    },
    {
     "data": {
      "text/plain": "{\n  'classes_': (170,),\n  'coef_': (170, 1500),\n  'intercept_': (170,),\n  'n_iter_': (1,)\n}"
     },
     "metadata": {},
     "output_type": "display_data",
     "transient": {}
    },
    {
     "data": {
      "text/plain": "{\n  'classes_': array(['ACWO', 'ALHU', 'AMCR', 'AMGO', 'AMKE', 'AMRE', 'AMRO', 'ANHU', 'ATFL', 'BAEA', 'BARS', 'BAWW', 'BBMA', 'BBWA',\n       'BCCH', 'BCNH', 'BCTI', 'BEKI', 'BESP', 'BEWR', 'BGGN', 'BHCO', 'BHGR', 'BLGR', 'BLPH', 'BLPW', 'BLRF', 'BOCH',\n       'BRBL', 'BRCR', 'BTBW', 'BTNW', 'BTPI', 'BTYW', 'BUOR', 'BUOW', 'BUSH', 'CACH', 'CACW', 'CALT', 'CANT', 'CANW',\n       'CAQU', 'CARW', 'CASJ', 'CATH', 'CAVI', 'CBCH', 'CEDW', 'CERW', 'CHSP', 'CLNU', 'CLSW', 'CMWA', 'COGR', 'COHA',\n       'CONI', 'COPO', 'CORA', 'COYE', 'DCCO', 'DEJU', 'DOWO', 'EUCD', 'EUST', 'FOSP', 'GBHE', 'GCKI', 'GCSP', 'GCWA',\n       'GHOW', 'GOEA', 'GRCA', 'GREG', 'GRHE', 'GTGR', 'HAWO', 'HETH', 'HEWA', 'HOFI', 'HOOR', 'HOSP', 'HOWR', 'HUVI',\n       'KILL', 'LASP', 'LAZB', 'LEBI', 'LEGO', 'LISP', 'MAWA', 'MAWR', 'MERL', 'MGWA', 'MOBL', 'MOCH', 'MODO', 'MONQ',\n       'MOUQ', 'NAWA', 'NOCA', 'NOFL', 'NOHA', 'NOMO', 'NRWS', 'NUWO', 'OATI', 'OCWA', 'OSFL', 'OSPR', 'PAWA', 'PAWR',\n       'PEFA', 'PHAI', 'PISI', 'PIWO', 'PSFL', 'PUFI', 'PUMA', 'PYNU', 'RBNU', 'RBSA', 'RCKI', 'RCSP', 'RODO', 'ROWR',\n       'RSHA', 'RTHA', 'RUHU', 'RWBL', 'SAPH', 'SAVS', 'SCQU', 'SCTA', 'SEWR', 'SNEG', 'SOGR', 'SOSP', 'SPTO', 'SSHA',\n       'STJA', 'SUTA', 'SWSP', 'SWTH', 'TOWA', 'TRBL', 'TRES', 'TUTI', 'VATH', 'VGSW', 'WAVI', 'WBNU', 'WCSP', 'WEBL',\n       'WEKI', 'WEME', 'WESO', 'WETA', 'WEWP', 'WITU', 'WIWA', 'WIWR', 'WOTH', 'WREN', 'WTKI', 'WTSW', 'YBMA', 'YEWA',\n       'YRWA', 'YTWA'], dtype='<U4'),\n  'coef_': array([[-0.007,  0.008, -0.009, ...,  0.165,  0.083, -0.047],\n       [-0.003,  0.004, -0.008, ..., -0.022, -0.022,  0.032],\n       [-0.009,  0.002, -0.004, ...,  0.023, -0.001, -0.016],\n       ...,\n       [-0.007,  0.003,  0.016, ...,  0.033, -0.042,  0.042],\n       [-0.002, -0.001, -0.008, ...,  0.016,  0.086, -0.067],\n       [ 0.001, -0.003, -0.002, ..., -0.041, -0.049, -0.088]]),\n  'intercept_': array([-0.051, -0.038, -0.027, -0.019, -0.053, -0.047, -0.094, -0.069, -0.032, -0.041, -0.052, -0.079, -0.045, -0.066,\n       -0.021,  0.001, -0.077, -0.051, -0.058, -0.096, -0.054, -0.035, -0.028, -0.075, -0.025, -0.041, -0.055, -0.067,\n       -0.046, -0.044, -0.049, -0.061, -0.077, -0.054, -0.068, -0.069, -0.092, -0.075, -0.073, -0.08 , -0.053, -0.057,\n       -0.041, -0.039, -0.051, -0.067, -0.044, -0.045, -0.079, -0.078, -0.046, -0.018, -0.059, -0.067, -0.001, -0.034,\n       -0.057, -0.029, -0.048, -0.042, -0.032, -0.053, -0.042, -0.026, -0.072, -0.08 , -0.022,  0.001, -0.05 , -0.084,\n       -0.013, -0.012, -0.051, -0.01 , -0.04 , -0.051, -0.036, -0.026, -0.094, -0.062, -0.076, -0.055, -0.06 , -0.062,\n       -0.036, -0.061, -0.054, -0.118, -0.107, -0.118, -0.064, -0.081, -0.076, -0.032, -0.019, -0.042, -0.017, -0.084,\n       -0.061, -0.045, -0.084, -0.027, -0.055, -0.033, -0.02 , -0.08 , -0.091, -0.061, -0.078, -0.024, -0.036, -0.054,\n       -0.058, -0.028, -0.042, -0.06 , -0.045, -0.03 , -0.052, -0.053, -0.102, -0.022, -0.055, -0.118,  0.021, -0.063,\n       -0.053, -0.011, -0.024, -0.071, -0.05 , -0.054, -0.053,  0.023, -0.075,  0.007, -0.064, -0.065, -0.048, -0.042,\n       -0.039, -0.05 , -0.09 ,  0.021, -0.07 , -0.03 , -0.065, -0.019, -0.056, -0.039, -0.029, -0.048, -0.066, -0.068,\n       -0.028, -0.05 , -0.017, -0.007, -0.059, -0.056, -0.09 , -0.111, -0.052, -0.093, -0.07 , -0.066, -0.039, -0.053,\n       -0.042, -0.044]),\n  'n_iter_': array([24], dtype=int32)\n}"
     },
     "metadata": {},
     "output_type": "display_data",
     "transient": {}
    }
   ],
   "source": [
    "display(\n",
    "    lr,\n",
    "    {k: v.shape for k, v in sk_dirs_attrs(lr).items() if hasattr(v, 'shape')},\n",
    "    sk_dirs_attrs(lr),\n",
    ")"
   ]
  },
  {
   "cell_type": "code",
   "execution_count": null,
   "metadata": {},
   "outputs": [
    {
     "data": {
      "text/plain": "SGDClassifier(alpha=0.1, average=False, class_weight='balanced', epsilon=0.1,\n       eta0=0.0, fit_intercept=True, l1_ratio=0.15,\n       learning_rate='optimal', loss='log', max_iter=1000, n_iter=None,\n       n_jobs=-1, penalty='l2', power_t=0.5, random_state=0, shuffle=True,\n       tol=0.001, verbose=0, warm_start=False)"
     },
     "metadata": {},
     "output_type": "display_data",
     "transient": {}
    },
    {
     "data": {
      "text/plain": "{\n  'classes_': (10,),\n  'coef_': (10, 1500),\n  'intercept_': (10,)\n}"
     },
     "metadata": {},
     "output_type": "display_data",
     "transient": {}
    },
    {
     "data": {
      "text/plain": "{\n  'classes_': array(['ANHU', 'COGR', 'CONI', 'MODO', 'MONQ', 'RBSA', 'SCTA', 'SOGR', 'TOWA', 'YRWA'], dtype='<U4'),\n  'coef_': array([[ 0.023,  0.076,  0.019, ...,  0.054,  0.067, -0.032],\n       [ 0.019, -0.044, -0.025, ..., -0.028, -0.045, -0.12 ],\n       [-0.049, -0.093, -0.016, ..., -0.031, -0.034, -0.066],\n       ...,\n       [ 0.066, -0.064, -0.007, ...,  0.003,  0.096, -0.058],\n       [ 0.042,  0.022,  0.021, ..., -0.044, -0.026,  0.055],\n       [ 0.04 , -0.033,  0.023, ...,  0.135,  0.002,  0.023]]),\n  'intercept_': array([-13.875, -12.029, -13.929, -14.602, -12.998, -12.972, -13.49 , -11.926, -14.819, -14.243]),\n  'loss_function_': <sklearn.linear_model.sgd_fast.Log object at 0x11e56d948>,\n  'n_iter_': 10,\n  't_': 1601.0\n}"
     },
     "metadata": {},
     "output_type": "display_data",
     "transient": {}
    }
   ],
   "source": [
    "display(\n",
    "    sgd,\n",
    "    {k: v.shape for k, v in sk_dirs_attrs(sgd).items() if hasattr(v, 'shape')},\n",
    "    sk_dirs_attrs(sgd),\n",
    ")"
   ]
  },
  {
   "cell_type": "code",
   "execution_count": null,
   "metadata": {},
   "outputs": [],
   "source": []
  }
 ],
 "metadata": {
  "kernelspec": {
   "display_name": "python",
   "language": "python",
   "name": "python"
  }
 },
 "nbformat": 4,
 "nbformat_minor": 2
}
