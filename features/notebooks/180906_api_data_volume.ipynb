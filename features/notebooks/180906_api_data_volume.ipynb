{
 "cells": [
  {
   "cell_type": "code",
   "execution_count": null,
   "metadata": {
    "time": "4.208s"
   },
   "outputs": [],
   "source": [
    "from notebooks import *\n",
    "import sqlalchemy as sqla\n",
    "sg.init(app=None)"
   ]
  },
  {
   "cell_type": "code",
   "execution_count": null,
   "metadata": {
    "time": "6.16s"
   },
   "outputs": [
    {
     "data": {
      "text/plain": "399859"
     },
     "metadata": {},
     "output_type": "display_data",
     "transient": {}
    },
    {
     "data": {
      "text/plain": "41331"
     },
     "metadata": {},
     "output_type": "display_data",
     "transient": {}
    }
   ],
   "source": [
    "samples_per_mb = 512 * 1024  # (Determined empirically)\n",
    "samples_per_s = 22050\n",
    "mb_per_s = samples_per_s / samples_per_mb\n",
    "n_xc_recs = len(xc.metadata)  # (sg.xc_meta ~ xc.metadata[downloaded == True])\n",
    "n_xc_recs_us = len(xc.metadata[lambda df: df.country == 'United States'])\n",
    "display(\n",
    "    n_xc_recs,\n",
    "    n_xc_recs_us,\n",
    ")"
   ]
  },
  {
   "cell_type": "code",
   "execution_count": null,
   "metadata": {},
   "outputs": [
    {
     "name": "stdout",
     "output_type": "stream",
     "text": "[01:53:31.982] INFO   [2/3 slower] Loading xc.metadata -> xc_raw_recs (.audio, more metadata)..."
    },
    {
     "name": "stdout",
     "output_type": "stream",
     "text": "\n"
    },
    {
     "data": {
      "text/plain": "''"
     },
     "metadata": {},
     "output_type": "display_data",
     "transient": {}
    },
    {
     "data": {
      "text/plain": "'n_recs'"
     },
     "metadata": {},
     "output_type": "display_data",
     "transient": {}
    },
    {
     "data": {
      "text/plain": "'  sample: 976'"
     },
     "metadata": {},
     "output_type": "display_data",
     "transient": {}
    },
    {
     "data": {
      "text/plain": "'  us:     41331'"
     },
     "metadata": {},
     "output_type": "display_data",
     "transient": {}
    },
    {
     "data": {
      "text/plain": "'  all:    399859'"
     },
     "metadata": {},
     "output_type": "display_data",
     "transient": {}
    },
    {
     "data": {
      "text/plain": "''"
     },
     "metadata": {},
     "output_type": "display_data",
     "transient": {}
    },
    {
     "data": {
      "text/plain": "'duration_s'"
     },
     "metadata": {},
     "output_type": "display_data",
     "transient": {}
    },
    {
     "data": {
      "text/plain": "'  avg: 48.9s'"
     },
     "metadata": {},
     "output_type": "display_data",
     "transient": {}
    },
    {
     "data": {
      "text/plain": "'  us:  2021678.3s'"
     },
     "metadata": {},
     "output_type": "display_data",
     "transient": {}
    },
    {
     "data": {
      "text/plain": "'  all: 19558836.0s'"
     },
     "metadata": {},
     "output_type": "display_data",
     "transient": {}
    },
    {
     "data": {
      "text/plain": "''"
     },
     "metadata": {},
     "output_type": "display_data",
     "transient": {}
    },
    {
     "data": {
      "text/plain": "'duration_s if clipped to ≤10s'"
     },
     "metadata": {},
     "output_type": "display_data",
     "transient": {}
    },
    {
     "data": {
      "text/plain": "'  avg: 9.5s'"
     },
     "metadata": {},
     "output_type": "display_data",
     "transient": {}
    },
    {
     "data": {
      "text/plain": "'  us:  392605.6s'"
     },
     "metadata": {},
     "output_type": "display_data",
     "transient": {}
    },
    {
     "data": {
      "text/plain": "'  all: 3798284.4s'"
     },
     "metadata": {},
     "output_type": "display_data",
     "transient": {}
    },
    {
     "data": {
      "text/plain": "''"
     },
     "metadata": {},
     "output_type": "display_data",
     "transient": {}
    },
    {
     "data": {
      "text/plain": "'samples_mb'"
     },
     "metadata": {},
     "output_type": "display_data",
     "transient": {}
    },
    {
     "data": {
      "text/plain": "'  avg: 2.2 MB'"
     },
     "metadata": {},
     "output_type": "display_data",
     "transient": {}
    },
    {
     "data": {
      "text/plain": "'  us:  89.5 GB'"
     },
     "metadata": {},
     "output_type": "display_data",
     "transient": {}
    },
    {
     "data": {
      "text/plain": "'  all: 865.8 GB'"
     },
     "metadata": {},
     "output_type": "display_data",
     "transient": {}
    },
    {
     "data": {
      "text/plain": "''"
     },
     "metadata": {},
     "output_type": "display_data",
     "transient": {}
    },
    {
     "data": {
      "text/plain": "'samples_mb if clipped to ≤10s'"
     },
     "metadata": {},
     "output_type": "display_data",
     "transient": {}
    },
    {
     "data": {
      "text/plain": "'  avg: 418.9 kB'"
     },
     "metadata": {},
     "output_type": "display_data",
     "transient": {}
    },
    {
     "data": {
      "text/plain": "'  us:  17.3 GB'"
     },
     "metadata": {},
     "output_type": "display_data",
     "transient": {}
    },
    {
     "data": {
      "text/plain": "'  all: 167.5 GB'"
     },
     "metadata": {},
     "output_type": "display_data",
     "transient": {}
    }
   ],
   "source": [
    "from humanize import naturalsize\n",
    "recs = (sg.xc_meta\n",
    "    .sample(n=1000, random_state=0)\n",
    "    .pipe(recs_featurize_audio_meta)\n",
    "    .pipe(df_inspect, lambda df: (\n",
    "        '', 'n_recs',\n",
    "        '  sample: %s' % len(df),\n",
    "        '  us:     %s' % n_xc_recs_us,\n",
    "        '  all:    %s' % n_xc_recs,\n",
    "        '', 'duration_s',\n",
    "        '  avg: %.1fs' % (df.duration_s.sum() / len(df)),\n",
    "        '  us:  %.1fs' % (df.duration_s.sum() / len(df) * n_xc_recs_us),\n",
    "        '  all: %.1fs' % (df.duration_s.sum() / len(df) * n_xc_recs),\n",
    "        '', 'duration_s if clipped to ≤10s',\n",
    "        '  avg: %.1fs' % (df.duration_s.map(lambda x: np.clip(x, 0, 10)).sum() / len(df)),\n",
    "        '  us:  %.1fs' % (df.duration_s.map(lambda x: np.clip(x, 0, 10)).sum() / len(df) * n_xc_recs_us),\n",
    "        '  all: %.1fs' % (df.duration_s.map(lambda x: np.clip(x, 0, 10)).sum() / len(df) * n_xc_recs),\n",
    "        '', 'samples_mb',\n",
    "        '  avg: %s' % naturalsize(1024**2 * df.samples_mb.sum() / len(df)),\n",
    "        '  us:  %s' % naturalsize(1024**2 * df.samples_mb.sum() / len(df) * n_xc_recs_us),\n",
    "        '  all: %s' % naturalsize(1024**2 * df.samples_mb.sum() / len(df) * n_xc_recs),\n",
    "        '', 'samples_mb if clipped to ≤10s',\n",
    "        '  avg: %s' % naturalsize(1024**2 * df.samples_mb.map(lambda x: np.clip(x, 0, 10 * mb_per_s)).sum() / len(df)),\n",
    "        '  us:  %s' % naturalsize(1024**2 * df.samples_mb.map(lambda x: np.clip(x, 0, 10 * mb_per_s)).sum() / len(df) * n_xc_recs_us),\n",
    "        '  all: %s' % naturalsize(1024**2 * df.samples_mb.map(lambda x: np.clip(x, 0, 10 * mb_per_s)).sum() / len(df) * n_xc_recs),\n",
    "        # df[:10],\n",
    "    ))\n",
    ")"
   ]
  },
  {
   "cell_type": "code",
   "execution_count": null,
   "metadata": {},
   "outputs": [],
   "source": [
    "# Example: sqlite + sqla\n",
    "import sqlalchemy as sqla\n",
    "# An engine manages conn pools\n",
    "eng = sqla.create_engine(\n",
    "    # 'sqlite://',  # In mem\n",
    "    # 'sqlite:///:memory:',  # Also in mem\n",
    "    # 'sqlite:///foo.db',  # Rel path\n",
    "    'sqlite:////tmp/foo.db',  # Abs path\n",
    ")\n",
    "# eng.begin() makes a conn with a txn\n",
    "with eng.begin() as conn:\n",
    "    conn.execute(\"create table if not exists x (a integer, b integer)\")\n",
    "    conn.execute(\"insert into x (a, b) values (1, 1)\")\n",
    "    conn.execute(\"insert into x (a, b) values (2, 2)\")\n",
    "# eng.dispose() releases conn pools\n",
    "eng.dispose()"
   ]
  },
  {
   "cell_type": "code",
   "execution_count": null,
   "metadata": {},
   "outputs": [
    {
     "data": {
      "text/html": "<table border=\"1\" class=\"dataframe\">\n  <thead>\n    <tr style=\"text-align: right;\">\n      <th></th>\n      <th>index</th>\n      <th>x</th>\n      <th>y</th>\n    </tr>\n  </thead>\n  <tbody>\n    <tr>\n      <th>0</th>\n      <td>0</td>\n      <td>1</td>\n      <td>2</td>\n    </tr>\n    <tr>\n      <th>1</th>\n      <td>1</td>\n      <td>-1</td>\n      <td>3</td>\n    </tr>\n  </tbody>\n</table>",
      "text/plain": "   index  x  y\n0      0  1  2\n1      1 -1  3"
     },
     "execution_count": 5,
     "metadata": {},
     "output_type": "execute_result"
    }
   ],
   "source": [
    "# Example: pd -> sqlite -> pd\n",
    "eng = sqla.create_engine('sqlite://')\n",
    "df = DF([dict(x=1,y=2), dict(x=-1,y=3)])\n",
    "df.to_sql('xs', con=eng)\n",
    "pd.read_sql_table('xs', con=eng)"
   ]
  },
  {
   "cell_type": "code",
   "execution_count": null,
   "metadata": {
    "time": "1.248s"
   },
   "outputs": [
    {
     "data": {
      "text/html": "<table border=\"1\" class=\"dataframe\">\n  <thead>\n    <tr style=\"text-align: right;\">\n      <th></th>\n      <th>index</th>\n      <th>0</th>\n    </tr>\n  </thead>\n  <tbody>\n    <tr>\n      <th>0</th>\n      <td><div class=\"not-number\">a</div></td>\n      <td>0.260</td>\n    </tr>\n    <tr>\n      <th>1</th>\n      <td><div class=\"not-number\">b</div></td>\n      <td>0.204</td>\n    </tr>\n    <tr>\n      <th>2</th>\n      <td><div class=\"not-number\">c</div></td>\n      <td>0.921</td>\n    </tr>\n  </tbody>\n</table>",
      "text/plain": "  index      0\n0     a  0.260\n1     b  0.204\n2     c  0.921"
     },
     "metadata": {},
     "output_type": "display_data",
     "transient": {}
    },
    {
     "name": "stdout",
     "output_type": "stream",
     "text": "[<ipython-input-6-6452cbb47530>:14 01:53:32.727] measure_parquet_size: Writing: /tmp/df-e06ba8f3.parquet"
    },
    {
     "name": "stdout",
     "output_type": "stream",
     "text": "\n"
    },
    {
     "name": "stdout",
     "output_type": "stream",
     "text": "[<ipython-input-6-6452cbb47530>:14 01:53:33.148] measure_parquet_size: Writing: /tmp/df-f538cfad.parquet.gz"
    },
    {
     "name": "stdout",
     "output_type": "stream",
     "text": "\n"
    },
    {
     "name": "stdout",
     "output_type": "stream",
     "text": "[<ipython-input-6-6452cbb47530>:35 01:53:33.170] measure_sqlite_size: Writing: /tmp/df-12beaab6.db"
    },
    {
     "name": "stdout",
     "output_type": "stream",
     "text": "\n"
    },
    {
     "name": "stdout",
     "output_type": "stream",
     "text": "[<ipython-input-6-6452cbb47530>:35 01:53:33.226] measure_sqlite_size: Writing: /tmp/df-aeba9e44.db.gz"
    },
    {
     "name": "stdout",
     "output_type": "stream",
     "text": "\n"
    },
    {
     "name": "stdout",
     "output_type": "stream",
     "text": "[<ipython-input-6-6452cbb47530>:72 01:53:33.311] measure_sizes: Done"
    },
    {
     "name": "stdout",
     "output_type": "stream",
     "text": "\n"
    },
    {
     "data": {
      "text/html": "<table border=\"1\" class=\"dataframe\">\n  <thead>\n    <tr>\n      <th>_path</th>\n      <th>/tmp/df-e06ba8f3.parquet</th>\n      <th>/tmp/df-f538cfad.parquet.gz</th>\n      <th>/tmp/df-12beaab6.db</th>\n      <th>/tmp/df-aeba9e44.db.gz</th>\n    </tr>\n    <tr>\n      <th>_n_rows</th>\n      <th>1000</th>\n      <th>1000</th>\n      <th>1000</th>\n      <th>1000</th>\n    </tr>\n    <tr>\n      <th>_size</th>\n      <th>25.0 kB</th>\n      <th>23.7 kB</th>\n      <th>65.5 kB</th>\n      <th>35.9 kB</th>\n    </tr>\n  </thead>\n  <tbody>\n    <tr>\n      <th>a</th>\n      <td>8424</td>\n      <td>8007</td>\n      <td>16993</td>\n      <td>16993</td>\n    </tr>\n    <tr>\n      <th>b</th>\n      <td>8424</td>\n      <td>8002</td>\n      <td>16994</td>\n      <td>16994</td>\n    </tr>\n    <tr>\n      <th>c</th>\n      <td>8424</td>\n      <td>8005</td>\n      <td>17027</td>\n      <td>17027</td>\n    </tr>\n  </tbody>\n</table>",
      "text/plain": "_path   /tmp/df-e06ba8f3.parquet /tmp/df-f538cfad.parquet.gz /tmp/df-12beaab6.db /tmp/df-aeba9e44.db.gz\n_n_rows                     1000                        1000                1000                   1000\n_size                    25.0 kB                     23.7 kB             65.5 kB                35.9 kB\na                           8424                        8007               16993                  16993\nb                           8424                        8002               16994                  16994\nc                           8424                        8005               17027                  17027"
     },
     "metadata": {},
     "output_type": "display_data",
     "transient": {}
    }
   ],
   "source": [
    "# Measurements\n",
    "\n",
    "def measure_parquet_size(\n",
    "    df,\n",
    "    compression,\n",
    "    path=None,\n",
    "    **kwargs,\n",
    ") -> int:\n",
    "    kwargs.setdefault('engine', 'fastparquet')\n",
    "    kwargs['compression'] = compression\n",
    "    ext = {'uncompressed': '', 'gzip': '.gz'}[compression]\n",
    "    ret = {}\n",
    "    path = Path(path or f'/tmp/df-{secrets.token_hex(4)}.parquet{ext}')\n",
    "    ret['_path'] = str(path)\n",
    "    debug_print(f'Writing: {path}')\n",
    "    # total\n",
    "    df.to_parquet(path, **kwargs)\n",
    "    ret['_size'] = Path(path).stat().st_size\n",
    "    # cols\n",
    "    cols_dir = path.with_suffix('.cols')\n",
    "    mkdir_p(cols_dir)\n",
    "    for c in df:\n",
    "        col_path = (cols_dir / c).with_suffix('.parquet')\n",
    "        df[[c]].to_parquet(col_path, **kwargs)\n",
    "        ret[c] = Path(col_path).stat().st_size\n",
    "    return ret\n",
    "\n",
    "def measure_sqlite_size(\n",
    "    df,\n",
    "    compression,\n",
    "    path=None,\n",
    ") -> int:\n",
    "    assert compression in ['uncompressed', 'gzip']\n",
    "    ext = {'uncompressed': '', 'gzip': '.gz'}[compression]\n",
    "    ret = {}\n",
    "    path = Path(path or f'/tmp/df-{secrets.token_hex(4)}.db{ext}')\n",
    "    debug_print(f'Writing: {path}')\n",
    "    ret['_path'] = str(path)\n",
    "    eng = sqla.create_engine(f'sqlite:///{path}')\n",
    "    try:\n",
    "        df.to_sql('df', con=eng)\n",
    "        with eng.begin() as conn:\n",
    "            conn.execute('analyze')\n",
    "\n",
    "        with eng.begin() as conn:\n",
    "            [col_sizes] = [dict(row) for row in conn.execute('''\n",
    "                select %s from df\n",
    "            ''' % ', '.join(\n",
    "                'sum(length(%(col)s)) as %(col)s' % dict(col=col)\n",
    "                for col in df\n",
    "            ))]\n",
    "            ret.update(col_sizes)\n",
    "\n",
    "    finally:\n",
    "        eng.dispose()\n",
    "    if compression == 'gzip':\n",
    "        shell('mv %(path)s %(path)s.x && gzip %(path)s.x && mv %(path)s.x.gz %(path)s', path=path, _verbose=False)\n",
    "    ret['_size'] = Path(path).stat().st_size\n",
    "    return ret\n",
    "\n",
    "def measure_sizes(\n",
    "    df,\n",
    "    parquet=True,\n",
    "    sqlite=True,\n",
    "    uncompressed=True,\n",
    "    gzip=True,\n",
    "    show_df=True,\n",
    "):\n",
    "    if show_df:\n",
    "        display(df[:1].T.reset_index())\n",
    "    dicts = [\n",
    "        *([measure_parquet_size(df, compression='uncompressed')] if parquet and uncompressed else []),\n",
    "        *([measure_parquet_size(df, compression='gzip')]         if parquet and gzip         else []),\n",
    "        *([measure_sqlite_size(df, compression='uncompressed')]  if sqlite  and uncompressed else []),\n",
    "        *([measure_sqlite_size(df, compression='gzip')]          if sqlite  and gzip         else []),\n",
    "    ]\n",
    "    debug_print('Done')\n",
    "    with pd.option_context('display.precision', 8):\n",
    "        display(\n",
    "            DF(dicts)\n",
    "            .assign(_n_rows=len(df))\n",
    "            .pipe(df_col_map, _size=humanize.naturalsize)\n",
    "            .set_index(['_path', '_n_rows', '_size'])\n",
    "            .T\n",
    "            .pipe(lambda df: df.sort_values(df.columns[0], ascending=False))\n",
    "        )\n",
    "\n",
    "# %%\n",
    "df = DF(np.random.rand(1000, 3), columns=list(string.ascii_lowercase[:3]))\n",
    "measure_sizes(df)"
   ]
  },
  {
   "cell_type": "code",
   "execution_count": null,
   "metadata": {
    "time": "1.547s"
   },
   "outputs": [
    {
     "name": "stdout",
     "output_type": "stream",
     "text": "[01:53:33.776] DEBUG  Load.audio:in"
    },
    {
     "name": "stdout",
     "output_type": "stream",
     "text": "\n"
    },
    {
     "name": "stdout",
     "output_type": "stream",
     "text": "  len(recs): 2"
    },
    {
     "name": "stdout",
     "output_type": "stream",
     "text": "\n"
    },
    {
     "name": "stdout",
     "output_type": "stream",
     "text": "  len(recs) per dataset: {xc: 2}"
    },
    {
     "name": "stdout",
     "output_type": "stream",
     "text": "\n"
    },
    {
     "name": "stdout",
     "output_type": "stream",
     "text": "\raudio: ["
    },
    {
     "name": "stdout",
     "output_type": "stream",
     "text": "                                                                                     "
    },
    {
     "name": "stdout",
     "output_type": "stream",
     "text": "] |   0% Completed |  0.0s"
    },
    {
     "name": "stdout",
     "output_type": "stream",
     "text": "\raudio: ["
    },
    {
     "name": "stdout",
     "output_type": "stream",
     "text": "#####################################################################################"
    },
    {
     "name": "stdout",
     "output_type": "stream",
     "text": "] | 100% Completed |  0.1s"
    },
    {
     "name": "stdout",
     "output_type": "stream",
     "text": "\n"
    },
    {
     "name": "stdout",
     "output_type": "stream",
     "text": "[01:53:33.908] DEBUG  Load.audio:out"
    },
    {
     "name": "stdout",
     "output_type": "stream",
     "text": "\n"
    },
    {
     "name": "stdout",
     "output_type": "stream",
     "text": "  len(audio): 2"
    },
    {
     "name": "stdout",
     "output_type": "stream",
     "text": "\n"
    },
    {
     "name": "stdout",
     "output_type": "stream",
     "text": "[01:53:33.942] DEBUG  Features.spectros:in"
    },
    {
     "name": "stdout",
     "output_type": "stream",
     "text": "\n"
    },
    {
     "name": "stdout",
     "output_type": "stream",
     "text": "  len(recs): 2"
    },
    {
     "name": "stdout",
     "output_type": "stream",
     "text": "\n"
    },
    {
     "name": "stdout",
     "output_type": "stream",
     "text": "  len(recs) per dataset: {xc: 2}"
    },
    {
     "name": "stdout",
     "output_type": "stream",
     "text": "\n"
    },
    {
     "name": "stdout",
     "output_type": "stream",
     "text": "  sum(duration_h): 0.0132"
    },
    {
     "name": "stdout",
     "output_type": "stream",
     "text": "\n"
    },
    {
     "name": "stdout",
     "output_type": "stream",
     "text": "  sum(samples_mb): 1.99"
    },
    {
     "name": "stdout",
     "output_type": "stream",
     "text": "\n"
    },
    {
     "name": "stdout",
     "output_type": "stream",
     "text": "  sum(samples_n): 1044621"
    },
    {
     "name": "stdout",
     "output_type": "stream",
     "text": "\n"
    },
    {
     "name": "stdout",
     "output_type": "stream",
     "text": "\rspectro: ["
    },
    {
     "name": "stdout",
     "output_type": "stream",
     "text": "                                                                                   "
    },
    {
     "name": "stdout",
     "output_type": "stream",
     "text": "] |   0% Completed |  0.0s"
    },
    {
     "name": "stdout",
     "output_type": "stream",
     "text": "\rspectro: ["
    },
    {
     "name": "stdout",
     "output_type": "stream",
     "text": "###################################################################################"
    },
    {
     "name": "stdout",
     "output_type": "stream",
     "text": "] | 100% Completed |  0.1s"
    },
    {
     "name": "stdout",
     "output_type": "stream",
     "text": "\n"
    },
    {
     "name": "stdout",
     "output_type": "stream",
     "text": "[01:53:34.070] DEBUG  Features.spectros:out"
    },
    {
     "name": "stdout",
     "output_type": "stream",
     "text": "\n"
    },
    {
     "name": "stdout",
     "output_type": "stream",
     "text": "  (f, sum(t)): [40, 4077]"
    },
    {
     "name": "stdout",
     "output_type": "stream",
     "text": "\n"
    },
    {
     "name": "stdout",
     "output_type": "stream",
     "text": "\rplot_spectro_micro.many: ["
    },
    {
     "name": "stdout",
     "output_type": "stream",
     "text": "                                                                   "
    },
    {
     "name": "stdout",
     "output_type": "stream",
     "text": "] |   0% Completed |  0.0s"
    },
    {
     "name": "stdout",
     "output_type": "stream",
     "text": "\rplot_spectro_micro.many: ["
    },
    {
     "name": "stdout",
     "output_type": "stream",
     "text": "###################################################################"
    },
    {
     "name": "stdout",
     "output_type": "stream",
     "text": "] | 100% Completed |  0.1s"
    },
    {
     "name": "stdout",
     "output_type": "stream",
     "text": "\n"
    },
    {
     "name": "stdout",
     "output_type": "stream",
     "text": "[01:53:34.212] INFO   Have:       /Users/danb/hack/bubo/features/data/cache/22050hz-1ch-16bit/xc/data/BTNW/315082/audio.wav"
    },
    {
     "name": "stdout",
     "output_type": "stream",
     "text": "\n"
    },
    {
     "name": "stdout",
     "output_type": "stream",
     "text": "[01:53:34.215] INFO   Have:       /Users/danb/hack/bubo/features/data/cache/22050hz-1ch-16bit-mp3-128k/xc/data/BTNW/315082/audio.mp3"
    },
    {
     "name": "stdout",
     "output_type": "stream",
     "text": "\n"
    },
    {
     "name": "stdout",
     "output_type": "stream",
     "text": "[01:53:34.217] INFO   Have:       /Users/danb/hack/bubo/features/data/cache/22050hz-1ch-16bit-mp3-64k/xc/data/BTNW/315082/audio.mp3"
    },
    {
     "name": "stdout",
     "output_type": "stream",
     "text": "\n"
    },
    {
     "name": "stdout",
     "output_type": "stream",
     "text": "[01:53:34.219] INFO   Have:       /Users/danb/hack/bubo/features/data/cache/22050hz-1ch-16bit-mp3-32k/xc/data/BTNW/315082/audio.mp3"
    },
    {
     "name": "stdout",
     "output_type": "stream",
     "text": "\n"
    },
    {
     "name": "stdout",
     "output_type": "stream",
     "text": "[01:53:34.221] INFO   Have:       /Users/danb/hack/bubo/features/data/cache/22050hz-1ch-16bit-mp4-aac-128k/xc/data/BTNW/315082/audio.mp4"
    },
    {
     "name": "stdout",
     "output_type": "stream",
     "text": "\n"
    },
    {
     "name": "stdout",
     "output_type": "stream",
     "text": "[01:53:34.223] INFO   Have:       /Users/danb/hack/bubo/features/data/cache/22050hz-1ch-16bit-mp4-aac-64k/xc/data/BTNW/315082/audio.mp4"
    },
    {
     "name": "stdout",
     "output_type": "stream",
     "text": "\n"
    },
    {
     "name": "stdout",
     "output_type": "stream",
     "text": "[01:53:34.225] INFO   Have:       /Users/danb/hack/bubo/features/data/cache/22050hz-1ch-16bit-mp4-aac-32k/xc/data/BTNW/315082/audio.mp4"
    },
    {
     "name": "stdout",
     "output_type": "stream",
     "text": "\n"
    },
    {
     "name": "stdout",
     "output_type": "stream",
     "text": "[01:53:34.229] INFO   Have:       /Users/danb/hack/bubo/features/data/cache/22050hz-1ch-16bit-mp4-libfdk_aac-128k/xc/data/BTNW/315082/audio.mp4"
    },
    {
     "name": "stdout",
     "output_type": "stream",
     "text": "\n"
    },
    {
     "name": "stdout",
     "output_type": "stream",
     "text": "[01:53:34.232] INFO   Have:       /Users/danb/hack/bubo/features/data/cache/22050hz-1ch-16bit-mp4-libfdk_aac-64k/xc/data/BTNW/315082/audio.mp4"
    },
    {
     "name": "stdout",
     "output_type": "stream",
     "text": "\n"
    },
    {
     "name": "stdout",
     "output_type": "stream",
     "text": "[01:53:34.234] INFO   Have:       /Users/danb/hack/bubo/features/data/cache/22050hz-1ch-16bit-mp4-libfdk_aac-32k/xc/data/BTNW/315082/audio.mp4"
    },
    {
     "name": "stdout",
     "output_type": "stream",
     "text": "\n"
    },
    {
     "name": "stdout",
     "output_type": "stream",
     "text": "[01:53:34.238] INFO   Have:       /Users/danb/hack/bubo/features/data/cache/22050hz-1ch-16bit/xc/data/PLCU/283548/audio.wav"
    },
    {
     "name": "stdout",
     "output_type": "stream",
     "text": "\n"
    },
    {
     "name": "stdout",
     "output_type": "stream",
     "text": "[01:53:34.240] INFO   Have:       /Users/danb/hack/bubo/features/data/cache/22050hz-1ch-16bit-mp3-128k/xc/data/PLCU/283548/audio.mp3"
    },
    {
     "name": "stdout",
     "output_type": "stream",
     "text": "\n"
    },
    {
     "name": "stdout",
     "output_type": "stream",
     "text": "[01:53:34.242] INFO   Have:       /Users/danb/hack/bubo/features/data/cache/22050hz-1ch-16bit-mp3-64k/xc/data/PLCU/283548/audio.mp3"
    },
    {
     "name": "stdout",
     "output_type": "stream",
     "text": "\n"
    },
    {
     "name": "stdout",
     "output_type": "stream",
     "text": "[01:53:34.244] INFO   Have:       /Users/danb/hack/bubo/features/data/cache/22050hz-1ch-16bit-mp3-32k/xc/data/PLCU/283548/audio.mp3"
    },
    {
     "name": "stdout",
     "output_type": "stream",
     "text": "\n"
    },
    {
     "name": "stdout",
     "output_type": "stream",
     "text": "[01:53:34.246] INFO   Have:       /Users/danb/hack/bubo/features/data/cache/22050hz-1ch-16bit-mp4-aac-128k/xc/data/PLCU/283548/audio.mp4"
    },
    {
     "name": "stdout",
     "output_type": "stream",
     "text": "\n"
    },
    {
     "name": "stdout",
     "output_type": "stream",
     "text": "[01:53:34.248] INFO   Have:       /Users/danb/hack/bubo/features/data/cache/22050hz-1ch-16bit-mp4-aac-64k/xc/data/PLCU/283548/audio.mp4"
    },
    {
     "name": "stdout",
     "output_type": "stream",
     "text": "\n"
    },
    {
     "name": "stdout",
     "output_type": "stream",
     "text": "[01:53:34.250] INFO   Have:       /Users/danb/hack/bubo/features/data/cache/22050hz-1ch-16bit-mp4-aac-32k/xc/data/PLCU/283548/audio.mp4"
    },
    {
     "name": "stdout",
     "output_type": "stream",
     "text": "\n"
    },
    {
     "name": "stdout",
     "output_type": "stream",
     "text": "[01:53:34.252] INFO   Have:       /Users/danb/hack/bubo/features/data/cache/22050hz-1ch-16bit-mp4-libfdk_aac-128k/xc/data/PLCU/283548/audio.mp4"
    },
    {
     "name": "stdout",
     "output_type": "stream",
     "text": "\n"
    },
    {
     "name": "stdout",
     "output_type": "stream",
     "text": "[01:53:34.255] INFO   Have:       /Users/danb/hack/bubo/features/data/cache/22050hz-1ch-16bit-mp4-libfdk_aac-64k/xc/data/PLCU/283548/audio.mp4"
    },
    {
     "name": "stdout",
     "output_type": "stream",
     "text": "\n"
    },
    {
     "name": "stdout",
     "output_type": "stream",
     "text": "[01:53:34.257] INFO   Have:       /Users/danb/hack/bubo/features/data/cache/22050hz-1ch-16bit-mp4-libfdk_aac-32k/xc/data/PLCU/283548/audio.mp4"
    },
    {
     "name": "stdout",
     "output_type": "stream",
     "text": "\n"
    },
    {
     "name": "stdout",
     "output_type": "stream",
     "text": "[<ipython-input-6-6452cbb47530>:14 01:53:34.343] measure_parquet_size: Writing: /tmp/df-f6b8b39b.parquet"
    },
    {
     "name": "stdout",
     "output_type": "stream",
     "text": "\n"
    },
    {
     "name": "stdout",
     "output_type": "stream",
     "text": "[<ipython-input-6-6452cbb47530>:35 01:53:34.792] measure_sqlite_size: Writing: /tmp/df-1807e906.db"
    },
    {
     "name": "stdout",
     "output_type": "stream",
     "text": "\n"
    },
    {
     "name": "stdout",
     "output_type": "stream",
     "text": "[<ipython-input-6-6452cbb47530>:72 01:53:34.923] measure_sizes: Done"
    },
    {
     "name": "stdout",
     "output_type": "stream",
     "text": "\n"
    },
    {
     "data": {
      "text/html": "<table border=\"1\" class=\"dataframe\">\n  <thead>\n    <tr>\n      <th>_path</th>\n      <th>/tmp/df-f6b8b39b.parquet</th>\n      <th>/tmp/df-1807e906.db</th>\n    </tr>\n    <tr>\n      <th>_n_rows</th>\n      <th>2</th>\n      <th>2</th>\n    </tr>\n    <tr>\n      <th>_size</th>\n      <th>24.8 MB</th>\n      <th>8.3 MB</th>\n    </tr>\n  </thead>\n  <tbody>\n    <tr>\n      <th>audio</th>\n      <td>6269869.0</td>\n      <td>2089718.0</td>\n    </tr>\n    <tr>\n      <th>audio_wav</th>\n      <td>6268721.0</td>\n      <td>2089330.0</td>\n    </tr>\n    <tr>\n      <th>audio_128k_fdk_mp4</th>\n      <td>2302724.0</td>\n      <td>767322.0</td>\n    </tr>\n    <tr>\n      <th>audio_128k_mp3</th>\n      <td>2280559.0</td>\n      <td>759939.0</td>\n    </tr>\n    <tr>\n      <th>audio_128k_aac_mp4</th>\n      <td>1927469.0</td>\n      <td>642237.0</td>\n    </tr>\n    <tr>\n      <th>audio_064k_aac_mp4</th>\n      <td>1163099.0</td>\n      <td>387447.0</td>\n    </tr>\n    <tr>\n      <th>audio_064k_fdk_mp4</th>\n      <td>1160489.0</td>\n      <td>386577.0</td>\n    </tr>\n    <tr>\n      <th>audio_064k_mp3</th>\n      <td>1140784.0</td>\n      <td>380014.0</td>\n    </tr>\n    <tr>\n      <th>audio_032k_aac_mp4</th>\n      <td>592715.0</td>\n      <td>197319.0</td>\n    </tr>\n    <tr>\n      <th>audio_032k_fdk_mp4</th>\n      <td>589952.0</td>\n      <td>196398.0</td>\n    </tr>\n    <tr>\n      <th>audio_032k_mp3</th>\n      <td>570898.0</td>\n      <td>190052.0</td>\n    </tr>\n    <tr>\n      <th>micro</th>\n      <td>411110.0</td>\n      <td>136800.0</td>\n    </tr>\n    <tr>\n      <th>feat</th>\n      <td>73466.0</td>\n      <td>24256.0</td>\n    </tr>\n    <tr>\n      <th>remarks</th>\n      <td>1099.0</td>\n      <td>132.0</td>\n    </tr>\n    <tr>\n      <th>background</th>\n      <td>1091.0</td>\n      <td>126.0</td>\n    </tr>\n    <tr>\n      <th>place</th>\n      <td>1008.0</td>\n      <td>105.0</td>\n    </tr>\n    <tr>\n      <th>license</th>\n      <td>965.0</td>\n      <td>88.0</td>\n    </tr>\n    <tr>\n      <th>locality</th>\n      <td>942.0</td>\n      <td>79.0</td>\n    </tr>\n    <tr>\n      <th>download</th>\n      <td>921.0</td>\n      <td>72.0</td>\n    </tr>\n    <tr>\n      <th>species_longhand</th>\n      <td>911.0</td>\n      <td>58.0</td>\n    </tr>\n    <tr>\n      <th>place_only</th>\n      <td>896.0</td>\n      <td>61.0</td>\n    </tr>\n    <tr>\n      <th>url</th>\n      <td>883.0</td>\n      <td>66.0</td>\n    </tr>\n    <tr>\n      <th>species_com_name</th>\n      <td>869.0</td>\n      <td>44.0</td>\n    </tr>\n    <tr>\n      <th>path</th>\n      <td>863.0</td>\n      <td>58.0</td>\n    </tr>\n    <tr>\n      <th>id</th>\n      <td>831.0</td>\n      <td>50.0</td>\n    </tr>\n    <tr>\n      <th>state</th>\n      <td>811.0</td>\n      <td>40.0</td>\n    </tr>\n    <tr>\n      <th>number_of_notes</th>\n      <td>809.0</td>\n      <td>26.0</td>\n    </tr>\n    <tr>\n      <th>bitrate_of_mp3</th>\n      <td>795.0</td>\n      <td>24.0</td>\n    </tr>\n    <tr>\n      <th>recordist</th>\n      <td>791.0</td>\n      <td>28.0</td>\n    </tr>\n    <tr>\n      <th>n_background_species</th>\n      <td>785.0</td>\n      <td>2.0</td>\n    </tr>\n    <tr>\n      <th>variable</th>\n      <td>781.0</td>\n      <td>26.0</td>\n    </tr>\n    <tr>\n      <th>background_species</th>\n      <td>781.0</td>\n      <td>14.0</td>\n    </tr>\n    <tr>\n      <th>sampling_rate</th>\n      <td>779.0</td>\n      <td>20.0</td>\n    </tr>\n    <tr>\n      <th>length</th>\n      <td>773.0</td>\n      <td>26.0</td>\n    </tr>\n    <tr>\n      <th>volume</th>\n      <td>773.0</td>\n      <td>26.0</td>\n    </tr>\n    <tr>\n      <th>pitch</th>\n      <td>769.0</td>\n      <td>26.0</td>\n    </tr>\n    <tr>\n      <th>speed</th>\n      <td>769.0</td>\n      <td>26.0</td>\n    </tr>\n    <tr>\n      <th>license_type</th>\n      <td>763.0</td>\n      <td>16.0</td>\n    </tr>\n    <tr>\n      <th>country</th>\n      <td>761.0</td>\n      <td>22.0</td>\n    </tr>\n    <tr>\n      <th>channels</th>\n      <td>759.0</td>\n      <td>20.0</td>\n    </tr>\n    <tr>\n      <th>state_only</th>\n      <td>749.0</td>\n      <td>14.0</td>\n    </tr>\n    <tr>\n      <th>duration_s</th>\n      <td>749.0</td>\n      <td>20.0</td>\n    </tr>\n    <tr>\n      <th>samples_mb</th>\n      <td>749.0</td>\n      <td>31.0</td>\n    </tr>\n    <tr>\n      <th>species_query</th>\n      <td>743.0</td>\n      <td>8.0</td>\n    </tr>\n    <tr>\n      <th>license_detail</th>\n      <td>741.0</td>\n      <td>6.0</td>\n    </tr>\n    <tr>\n      <th>samples_n</th>\n      <td>741.0</td>\n      <td>12.0</td>\n    </tr>\n    <tr>\n      <th>subspecies</th>\n      <td>740.0</td>\n      <td>11.0</td>\n    </tr>\n    <tr>\n      <th>elevation</th>\n      <td>736.0</td>\n      <td>11.0</td>\n    </tr>\n    <tr>\n      <th>month_day</th>\n      <td>733.0</td>\n      <td>10.0</td>\n    </tr>\n    <tr>\n      <th>date</th>\n      <td>732.0</td>\n      <td>52.0</td>\n    </tr>\n    <tr>\n      <th>playback_used</th>\n      <td>731.0</td>\n      <td>4.0</td>\n    </tr>\n    <tr>\n      <th>basename</th>\n      <td>729.0</td>\n      <td>10.0</td>\n    </tr>\n    <tr>\n      <th>hour</th>\n      <td>725.0</td>\n      <td>8.0</td>\n    </tr>\n    <tr>\n      <th>month</th>\n      <td>725.0</td>\n      <td>2.0</td>\n    </tr>\n    <tr>\n      <th>year</th>\n      <td>721.0</td>\n      <td>8.0</td>\n    </tr>\n    <tr>\n      <th>lat</th>\n      <td>721.0</td>\n      <td>14.0</td>\n    </tr>\n    <tr>\n      <th>lng</th>\n      <td>721.0</td>\n      <td>16.0</td>\n    </tr>\n    <tr>\n      <th>species</th>\n      <td>719.0</td>\n      <td>8.0</td>\n    </tr>\n    <tr>\n      <th>bird_seen</th>\n      <td>715.0</td>\n      <td>4.0</td>\n    </tr>\n    <tr>\n      <th>time</th>\n      <td>713.0</td>\n      <td>10.0</td>\n    </tr>\n    <tr>\n      <th>dataset</th>\n      <td>707.0</td>\n      <td>4.0</td>\n    </tr>\n    <tr>\n      <th>type</th>\n      <td>707.0</td>\n      <td>8.0</td>\n    </tr>\n    <tr>\n      <th>audio_10s_mp3</th>\n      <td>705.0</td>\n      <td>NaN</td>\n    </tr>\n    <tr>\n      <th>downloaded</th>\n      <td>702.0</td>\n      <td>2.0</td>\n    </tr>\n    <tr>\n      <th>quality</th>\n      <td>701.0</td>\n      <td>2.0</td>\n    </tr>\n    <tr>\n      <th>audio_mp3</th>\n      <td>689.0</td>\n      <td>NaN</td>\n    </tr>\n  </tbody>\n</table>",
      "text/plain": "_path                /tmp/df-f6b8b39b.parquet /tmp/df-1807e906.db\n_n_rows                                     2                   2\n_size                                 24.8 MB              8.3 MB\naudio                               6269869.0           2089718.0\naudio_wav                           6268721.0           2089330.0\naudio_128k_fdk_mp4                  2302724.0            767322.0\naudio_128k_mp3                      2280559.0            759939.0\naudio_128k_aac_mp4                  1927469.0            642237.0\naudio_064k_aac_mp4                  1163099.0            387447.0\naudio_064k_fdk_mp4                  1160489.0            386577.0\naudio_064k_mp3                      1140784.0            380014.0\naudio_032k_aac_mp4                   592715.0            197319.0\naudio_032k_fdk_mp4                   589952.0            196398.0\naudio_032k_mp3                       570898.0            190052.0\nmicro                                411110.0            136800.0\nfeat                                  73466.0             24256.0\nremarks                                1099.0               132.0\nbackground                             1091.0               126.0\nplace                                  1008.0               105.0\nlicense                                 965.0                88.0\nlocality                                942.0                79.0\ndownload                                921.0                72.0\nspecies_longhand                        911.0                58.0\nplace_only                              896.0                61.0\nurl                                     883.0                66.0\nspecies_com_name                        869.0                44.0\npath                                    863.0                58.0\nid                                      831.0                50.0\nstate                                   811.0                40.0\nnumber_of_notes                         809.0                26.0\nbitrate_of_mp3                          795.0                24.0\nrecordist                               791.0                28.0\nn_background_species                    785.0                 2.0\nvariable                                781.0                26.0\nbackground_species                      781.0                14.0\nsampling_rate                           779.0                20.0\nlength                                  773.0                26.0\nvolume                                  773.0                26.0\npitch                                   769.0                26.0\nspeed                                   769.0                26.0\nlicense_type                            763.0                16.0\ncountry                                 761.0                22.0\nchannels                                759.0                20.0\nstate_only                              749.0                14.0\nduration_s                              749.0                20.0\nsamples_mb                              749.0                31.0\nspecies_query                           743.0                 8.0\nlicense_detail                          741.0                 6.0\nsamples_n                               741.0                12.0\nsubspecies                              740.0                11.0\nelevation                               736.0                11.0\nmonth_day                               733.0                10.0\ndate                                    732.0                52.0\nplayback_used                           731.0                 4.0\nbasename                                729.0                10.0\nhour                                    725.0                 8.0\nmonth                                   725.0                 2.0\nyear                                    721.0                 8.0\nlat                                     721.0                14.0\nlng                                     721.0                16.0\nspecies                                 719.0                 8.0\nbird_seen                               715.0                 4.0\ntime                                    713.0                10.0\ndataset                                 707.0                 4.0\ntype                                    707.0                 8.0\naudio_10s_mp3                           705.0                 NaN\ndownloaded                              702.0                 2.0\nquality                                 701.0                 2.0\naudio_mp3                               689.0                 NaN"
     },
     "metadata": {},
     "output_type": "display_data",
     "transient": {}
    }
   ],
   "source": [
    "# TODO TODO How big is the payload?\n",
    "\n",
    "def np_to_npy_bytes(x: np.ndarray) -> bytes:\n",
    "    # From https://stackoverflow.com/a/18622264/397334\n",
    "    #   - np.save docs: https://docs.scipy.org/doc/numpy/reference/generated/numpy.save.html\n",
    "    #   - .npy isn't slow or big: https://stackoverflow.com/a/41425878/397334\n",
    "    out = io.BytesIO()\n",
    "    np.save(out, x)\n",
    "    out.seek(0)\n",
    "    return out.read()\n",
    "\n",
    "df = (recs\n",
    "\n",
    "    .sample(random_state=0,\n",
    "        n=2,\n",
    "        # n=10,\n",
    "        # n=100,\n",
    "    )\n",
    "\n",
    "    # Featurize\n",
    "    #   .pipe(recs_featurize_audio_feat_spectro)\n",
    "    # [INLINE]\n",
    "    .pipe(sg.load.audio, scheduler='threads')\n",
    "    .pipe(sg.projection.transform)  # .feat\n",
    "    .assign(spectro=lambda df: sg.features.spectro(df, scheduler='threads', cache=True))  # .spectro is input for thumb/micro\n",
    "\n",
    "    # Featurize\n",
    "    #   .pipe(recs_featurize_thumb_micro,\n",
    "    #       thumb_s=0,\n",
    "    #       audio_s=10,\n",
    "    #       scale=1,\n",
    "    #       audio=False,  # Don't include <audio>\n",
    "    #   )\n",
    "    # [INLINE]\n",
    "    .pipe(df_assign_first, **dict(\n",
    "        micro=df_cell_spectros(plot_spectro_micro.many, sg.features,\n",
    "            wrap_s=10,  # (= audio_s)\n",
    "            audio=False,  # Don't include <audio> (from display_with_audio)\n",
    "            **{  # (= plot_many_kwargs)\n",
    "                'scale': dict(h=int(40 * 1)),  # (scale=1)\n",
    "                'progress': dict(use='dask', scheduler='threads'),\n",
    "                '_nocache': True,  # Dev: disable plot_many cache since it's blind to most of our sub-many code changes\n",
    "            }\n",
    "        ),\n",
    "    ))\n",
    "\n",
    "    # Featurize\n",
    "    .pipe(df_map_rows, lambda row: pd.Series(dict(**row,\n",
    "        audio_wav          = audio_to_bytes(row.audio.unbox, format='wav'),\n",
    "        audio_128k_mp3     = audio_to_bytes(row.audio.unbox, format='mp3', bitrate='128k'),\n",
    "        audio_064k_mp3     = audio_to_bytes(row.audio.unbox, format='mp3', bitrate='64k'),\n",
    "        audio_032k_mp3     = audio_to_bytes(row.audio.unbox, format='mp3', bitrate='32k'),\n",
    "        audio_128k_aac_mp4 = audio_to_bytes(row.audio.unbox, format='mp4', bitrate='128k', codec='aac'),\n",
    "        audio_064k_aac_mp4 = audio_to_bytes(row.audio.unbox, format='mp4', bitrate='64k',  codec='aac'),\n",
    "        audio_032k_aac_mp4 = audio_to_bytes(row.audio.unbox, format='mp4', bitrate='32k',  codec='aac'),\n",
    "        audio_128k_fdk_mp4 = audio_to_bytes(row.audio.unbox, format='mp4', bitrate='128k', codec='libfdk_aac'),\n",
    "        audio_064k_fdk_mp4 = audio_to_bytes(row.audio.unbox, format='mp4', bitrate='64k',  codec='libfdk_aac'),\n",
    "        audio_032k_fdk_mp4 = audio_to_bytes(row.audio.unbox, format='mp4', bitrate='32k',  codec='libfdk_aac'),\n",
    "    )))\n",
    "\n",
    "    # Drop cols\n",
    "    #   - .spectro: Trimmed to .micro/.thumb\n",
    "    #   - .*_stack: Redundant\n",
    "    .drop(columns=['spectro'])\n",
    "    [lambda df: [c for c in df if not c.endswith('_stack')]]\n",
    "\n",
    "    # Convert types for sqlite/parquet compat\n",
    "    .pipe(df_col_map,\n",
    "        background=','.join,  # List[str] -> str\n",
    "        background_species=','.join,  # List[str] -> str\n",
    "        micro=lambda x: ipy_formats_to_html(x),  # df_cell_display(...) -> html str\n",
    "        audio=lambda x: pickle.dumps(x.unbox),  # Box(AudioSegment) -> pkl bytes\n",
    "        feat=np_to_npy_bytes,  # np.ndarray -> npy bytes\n",
    "    )\n",
    "\n",
    "    # Cosmetics\n",
    "    .pipe(df_reorder_cols, first=['audio', 'audio_mp3', 'audio_10s_mp3', 'micro', 'feat'])\n",
    "\n",
    ")\n",
    "measure_sizes(df,\n",
    "    show_df=False,\n",
    "    # parquet=False,\n",
    "    # sqlite=False,\n",
    "    gzip=False,  # Faster dev (gzip way slower than uncompressed)\n",
    ")"
   ]
  },
  {
   "cell_type": "code",
   "execution_count": null,
   "metadata": {},
   "outputs": [],
   "source": []
  }
 ],
 "metadata": {
  "kernelspec": {
   "display_name": "python",
   "language": "python",
   "name": "python"
  }
 },
 "nbformat": 4,
 "nbformat_minor": 2
}
