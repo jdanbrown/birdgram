{
 "cells": [
  {
   "cell_type": "code",
   "execution_count": null,
   "metadata": {},
   "outputs": [],
   "source": [
    "import glob\n",
    "\n",
    "from potoo.plot import *\n",
    "from potoo.util import *\n",
    "import sklearn\n",
    "\n",
    "from cache import *\n",
    "from constants import *\n",
    "from datasets import *\n",
    "from features import *\n",
    "from load import *\n",
    "from sp14.model import *\n",
    "from util import *\n",
    "from viz import *\n",
    "\n",
    "figsize('inline_short');"
   ]
  },
  {
   "cell_type": "code",
   "execution_count": null,
   "metadata": {},
   "outputs": [
    {
     "name": "stdout",
     "output_type": "stream",
     "text": "[06:13:06.652] Load.metadata:in\n  len(recs): 633\n  len(recs) per dataset: {peterson-field-guide: 535, recordings: 98}\n\r[                                                                                          ] | 0% Completed |  0.0s"
    },
    {
     "name": "stdout",
     "output_type": "stream",
     "text": "\r[###########                                                                               ] | 12% Completed |  0.1s"
    },
    {
     "name": "stdout",
     "output_type": "stream",
     "text": "\r[###############################                                                           ] | 35% Completed |  0.2s"
    },
    {
     "name": "stdout",
     "output_type": "stream",
     "text": "\r[######################################################                                    ] | 60% Completed |  0.3s"
    },
    {
     "name": "stdout",
     "output_type": "stream",
     "text": "\r[########################################################################                  ] | 80% Completed |  0.4s"
    },
    {
     "name": "stdout",
     "output_type": "stream",
     "text": "\r[##########################################################################################] | 100% Completed |  0.5s"
    },
    {
     "name": "stdout",
     "output_type": "stream",
     "text": "\n"
    },
    {
     "name": "stdout",
     "output_type": "stream",
     "text": "[06:13:07.243] Load.metadata:out\n  sum(duration_h): 5.07\n  sum(samples_mb): 768.0\n  sum(samples_n): 402551191\n  n_species: 55\n"
    },
    {
     "data": {
      "text/html": "<table border=\"1\" class=\"dataframe\">\n  <thead>\n    <tr>\n      <th></th>\n      <th>dataset</th>\n      <th>species</th>\n      <th>species_com_name</th>\n      <th>species_query</th>\n      <th>duration_s</th>\n      <th>samples_mb</th>\n      <th>samples_n</th>\n      <th>basename</th>\n      <th>species_longhand</th>\n      <th>id</th>\n      <th>path</th>\n    </tr>\n    <tr>\n      <th>dtype</th>\n      <th>object</th>\n      <th>category</th>\n      <th>category</th>\n      <th>object</th>\n      <th>float64</th>\n      <th>float64</th>\n      <th>int64</th>\n      <th>object</th>\n      <th>category</th>\n      <th>object</th>\n      <th>object</th>\n    </tr>\n    <tr>\n      <th>sizeof</th>\n      <th>51.6 KiB</th>\n      <th>11.4 KiB</th>\n      <th>11.9 KiB</th>\n      <th>43.8 KiB</th>\n      <th>9.9 KiB</th>\n      <th>9.9 KiB</th>\n      <th>9.9 KiB</th>\n      <th>55.7 KiB</th>\n      <th>12.3 KiB</th>\n      <th>74.6 KiB</th>\n      <th>77.1 KiB</th>\n    </tr>\n    <tr>\n      <th>len</th>\n      <th>633</th>\n      <th>633</th>\n      <th>633</th>\n      <th>633</th>\n      <th>633</th>\n      <th>633</th>\n      <th>633</th>\n      <th>633</th>\n      <th>633</th>\n      <th>633</th>\n      <th>633</th>\n    </tr>\n    <tr>\n      <th>count</th>\n      <th>633</th>\n      <th>633</th>\n      <th>633</th>\n      <th>633</th>\n      <th>633</th>\n      <th>633</th>\n      <th>633</th>\n      <th>633</th>\n      <th>633</th>\n      <th>633</th>\n      <th>633</th>\n    </tr>\n    <tr>\n      <th>nunique</th>\n      <th>2</th>\n      <th>55</th>\n      <th>55</th>\n      <th>64</th>\n      <th>537</th>\n      <th>537</th>\n      <th>537</th>\n      <th>633</th>\n      <th>55</th>\n      <th>633</th>\n      <th>633</th>\n    </tr>\n    <tr>\n      <th>mean</th>\n      <th>NaN</th>\n      <th>NaN</th>\n      <th>NaN</th>\n      <th>NaN</th>\n      <th>28.841</th>\n      <th>1.213</th>\n      <th>635941.850</th>\n      <th>NaN</th>\n      <th>NaN</th>\n      <th>NaN</th>\n      <th>NaN</th>\n    </tr>\n    <tr>\n      <th>std</th>\n      <th>NaN</th>\n      <th>NaN</th>\n      <th>NaN</th>\n      <th>NaN</th>\n      <th>32.301</th>\n      <th>1.358</th>\n      <th>712235.547</th>\n      <th>NaN</th>\n      <th>NaN</th>\n      <th>NaN</th>\n      <th>NaN</th>\n    </tr>\n  </thead>\n  <tbody>\n    <tr>\n      <th>min</th>\n      <td><div class=\"not-number\">peterson-field-guide</div></td>\n      <td><div class=\"not-number\">SCQU</div></td>\n      <td><div class=\"not-number\">Scaled Quail</div></td>\n      <td><div class=\"not-number\">BEWR</div></td>\n      <td>2.74</td>\n      <td>0.115</td>\n      <td>60480</td>\n      <td><div class=\"not-number\">081845</div></td>\n      <td><div class=\"not-number\">Scaled Quail - SCQU</div></td>\n      <td><div class=\"not-number\">peterson-field-guide/amecro/audio/43215281 Caw (clear)</div></td>\n      <td><div class=\"not-number\">peterson-field-guide/amecro/audio/43215281 Caw (clear).mp3</div></td>\n    </tr>\n    <tr>\n      <th>25%</th>\n      <td><div class=\"not-number\">peterson-field-guide</div></td>\n      <td><div class=\"not-number\">TUTI</div></td>\n      <td><div class=\"not-number\">Tufted Titmouse</div></td>\n      <td><div class=\"not-number\">bewwre</div></td>\n      <td>15.50</td>\n      <td>0.650</td>\n      <td>340992</td>\n      <td><div class=\"not-number\">43217721 Chick-a-dee Call</div></td>\n      <td><div class=\"not-number\">Tufted Titmouse - TUTI</div></td>\n      <td><div class=\"not-number\">peterson-field-guide/canwre/audio/43219271 Male Song (unusual)</div></td>\n      <td><div class=\"not-number\">peterson-field-guide/canwre/audio/43219271 Male Song (unusual).mp3</div></td>\n    </tr>\n    <tr>\n      <th>50%</th>\n      <td><div class=\"not-number\">peterson-field-guide</div></td>\n      <td><div class=\"not-number\">WIWR</div></td>\n      <td><div class=\"not-number\">Winter Wren</div></td>\n      <td><div class=\"not-number\">comrav</div></td>\n      <td>21.40</td>\n      <td>0.901</td>\n      <td>472320</td>\n      <td><div class=\"not-number\">43219841 Churt</div></td>\n      <td><div class=\"not-number\">Winter Wren - WIWR</div></td>\n      <td><div class=\"not-number\">peterson-field-guide/marwre/audio/44412311 Chit</div></td>\n      <td><div class=\"not-number\">peterson-field-guide/marwre/audio/44412311 Chit.mp3</div></td>\n    </tr>\n    <tr>\n      <th>75%</th>\n      <td><div class=\"not-number\">peterson-field-guide</div></td>\n      <td><div class=\"not-number\">EUST</div></td>\n      <td><div class=\"not-number\">European Starling</div></td>\n      <td><div class=\"not-number\">rocwre</div></td>\n      <td>29.80</td>\n      <td>1.250</td>\n      <td>656687</td>\n      <td><div class=\"not-number\">43227481 Tsit</div></td>\n      <td><div class=\"not-number\">European Starling - EUST</div></td>\n      <td><div class=\"not-number\">peterson-field-guide/whbnut/audio/43218701 Keer</div></td>\n      <td><div class=\"not-number\">peterson-field-guide/whbnut/audio/43218701 Keer.mp3</div></td>\n    </tr>\n    <tr>\n      <th>max</th>\n      <td><div class=\"not-number\">recordings</div></td>\n      <td><div class=\"not-number\">_UNK</div></td>\n      <td><div class=\"not-number\">Unknown</div></td>\n      <td><div class=\"not-number\">wlswar</div></td>\n      <td>349.00</td>\n      <td>14.700</td>\n      <td>7703036</td>\n      <td><div class=\"not-number\">wren- maybe house- maybe not bewicks- coyote hills</div></td>\n      <td><div class=\"not-number\">Unknown - _UNK</div></td>\n      <td><div class=\"not-number\">recordings/wren- maybe house- maybe not bewicks- coyote hills</div></td>\n      <td><div class=\"not-number\">recordings/wren- maybe house- maybe not bewicks- coyote hills.wav</div></td>\n    </tr>\n  </tbody>\n</table>",
      "text/plain": "                      dataset  species   species_com_name species_query duration_s samples_mb  samples_n                                            basename          species_longhand                                                              id                                                                path\ndtype                  object category           category        object    float64    float64      int64                                              object                  category                                                          object                                                              object\nsizeof               51.6 KiB 11.4 KiB           11.9 KiB      43.8 KiB    9.9 KiB    9.9 KiB    9.9 KiB                                            55.7 KiB                  12.3 KiB                                                        74.6 KiB                                                            77.1 KiB\nlen                       633      633                633           633        633        633        633                                                 633                       633                                                             633                                                                 633\ncount                     633      633                633           633        633        633        633                                                 633                       633                                                             633                                                                 633\nnunique                   2        55                 55            64         537        537        537                                                 633                       55                                                              633                                                                 633\nmean                      NaN      NaN                NaN           NaN 28.841     1.213      635941.850                                                 NaN                       NaN                                                             NaN                                                                 NaN\nstd                       NaN      NaN                NaN           NaN 32.301     1.358      712235.547                                                 NaN                       NaN                                                             NaN                                                                 NaN\nmin      peterson-field-guide     SCQU       Scaled Quail          BEWR       2.74      0.115      60480                                              081845       Scaled Quail - SCQU          peterson-field-guide/amecro/audio/43215281 Caw (clear)          peterson-field-guide/amecro/audio/43215281 Caw (clear).mp3\n25%      peterson-field-guide     TUTI    Tufted Titmouse        bewwre       15.5       0.65     340992                           43217721 Chick-a-dee Call    Tufted Titmouse - TUTI  peterson-field-guide/canwre/audio/43219271 Male Song (unusual)  peterson-field-guide/canwre/audio/43219271 Male Song (unusual).mp3\n50%      peterson-field-guide     WIWR        Winter Wren        comrav       21.4      0.901     472320                                      43219841 Churt        Winter Wren - WIWR                 peterson-field-guide/marwre/audio/44412311 Chit                 peterson-field-guide/marwre/audio/44412311 Chit.mp3\n75%      peterson-field-guide     EUST  European Starling        rocwre       29.8       1.25     656687                                       43227481 Tsit  European Starling - EUST                 peterson-field-guide/whbnut/audio/43218701 Keer                 peterson-field-guide/whbnut/audio/43218701 Keer.mp3\nmax                recordings     _UNK            Unknown        wlswar        349       14.7    7703036  wren- maybe house- maybe not bewicks- coyote hills            Unknown - _UNK   recordings/wren- maybe house- maybe not bewicks- coyote hills   recordings/wren- maybe house- maybe not bewicks- coyote hills.wav"
     },
     "metadata": {},
     "output_type": "display_data",
     "transient": {}
    },
    {
     "data": {
      "text/html": "<table border=\"1\" class=\"dataframe\">\n  <thead>\n    <tr style=\"text-align: right;\">\n      <th></th>\n      <th>dataset</th>\n      <th>species</th>\n      <th>species_com_name</th>\n      <th>species_query</th>\n      <th>duration_s</th>\n      <th>samples_mb</th>\n      <th>samples_n</th>\n      <th>basename</th>\n      <th>species_longhand</th>\n      <th>id</th>\n      <th>path</th>\n    </tr>\n  </thead>\n  <tbody>\n    <tr>\n      <th>479</th>\n      <td><div class=\"not-number\">peterson-field-guide</div></td>\n      <td><div class=\"not-number\">SCQU</div></td>\n      <td><div class=\"not-number\">Scaled Quail</div></td>\n      <td><div class=\"not-number\">scaqua</div></td>\n      <td>12.30</td>\n      <td>0.517</td>\n      <td>271296</td>\n      <td><div class=\"not-number\">43186591 Kuk-curr Series</div></td>\n      <td><div class=\"not-number\">Scaled Quail - SCQU</div></td>\n      <td><div class=\"not-number\">peterson-field-guide/scaqua/audio/43186591 Kuk-curr Series</div></td>\n      <td><div class=\"not-number\">peterson-field-guide/scaqua/audio/43186591 Kuk-curr Series.mp3</div></td>\n    </tr>\n    <tr>\n      <th>485</th>\n      <td><div class=\"not-number\">peterson-field-guide</div></td>\n      <td><div class=\"not-number\">SCQU</div></td>\n      <td><div class=\"not-number\">Scaled Quail</div></td>\n      <td><div class=\"not-number\">scaqua</div></td>\n      <td>12.10</td>\n      <td>0.509</td>\n      <td>266688</td>\n      <td><div class=\"not-number\">43186661 Chip-seer</div></td>\n      <td><div class=\"not-number\">Scaled Quail - SCQU</div></td>\n      <td><div class=\"not-number\">peterson-field-guide/scaqua/audio/43186661 Chip-seer</div></td>\n      <td><div class=\"not-number\">peterson-field-guide/scaqua/audio/43186661 Chip-seer.mp3</div></td>\n    </tr>\n    <tr>\n      <th>486</th>\n      <td><div class=\"not-number\">peterson-field-guide</div></td>\n      <td><div class=\"not-number\">SCQU</div></td>\n      <td><div class=\"not-number\">Scaled Quail</div></td>\n      <td><div class=\"not-number\">scaqua</div></td>\n      <td>15.60</td>\n      <td>0.657</td>\n      <td>344448</td>\n      <td><div class=\"not-number\">43186671 Kuk</div></td>\n      <td><div class=\"not-number\">Scaled Quail - SCQU</div></td>\n      <td><div class=\"not-number\">peterson-field-guide/scaqua/audio/43186671 Kuk</div></td>\n      <td><div class=\"not-number\">peterson-field-guide/scaqua/audio/43186671 Kuk.mp3</div></td>\n    </tr>\n    <tr>\n      <th>487</th>\n      <td><div class=\"not-number\">peterson-field-guide</div></td>\n      <td><div class=\"not-number\">SCQU</div></td>\n      <td><div class=\"not-number\">Scaled Quail</div></td>\n      <td><div class=\"not-number\">scaqua</div></td>\n      <td>7.73</td>\n      <td>0.325</td>\n      <td>170496</td>\n      <td><div class=\"not-number\">43186681 Wing sounds & Kuk</div></td>\n      <td><div class=\"not-number\">Scaled Quail - SCQU</div></td>\n      <td><div class=\"not-number\">peterson-field-guide/scaqua/audio/43186681 Wing sounds & Kuk</div></td>\n      <td><div class=\"not-number\">peterson-field-guide/scaqua/audio/43186681 Wing sounds & Kuk.mp3</div></td>\n    </tr>\n    <tr>\n      <th>482</th>\n      <td><div class=\"not-number\">peterson-field-guide</div></td>\n      <td><div class=\"not-number\">SCQU</div></td>\n      <td><div class=\"not-number\">Scaled Quail</div></td>\n      <td><div class=\"not-number\">scaqua</div></td>\n      <td>10.10</td>\n      <td>0.423</td>\n      <td>221760</td>\n      <td><div class=\"not-number\">43186621 Zreek Series</div></td>\n      <td><div class=\"not-number\">Scaled Quail - SCQU</div></td>\n      <td><div class=\"not-number\">peterson-field-guide/scaqua/audio/43186621 Zreek Series</div></td>\n      <td><div class=\"not-number\">peterson-field-guide/scaqua/audio/43186621 Zreek Series.mp3</div></td>\n    </tr>\n  </tbody>\n</table>",
      "text/plain": "                  dataset species species_com_name species_query  duration_s  samples_mb  samples_n                    basename     species_longhand                                                            id                                                              path\n479  peterson-field-guide    SCQU     Scaled Quail        scaqua      12.304       0.517     271296    43186591 Kuk-curr Series  Scaled Quail - SCQU    peterson-field-guide/scaqua/audio/43186591 Kuk-curr Series    peterson-field-guide/scaqua/audio/43186591 Kuk-curr Series.mp3\n485  peterson-field-guide    SCQU     Scaled Quail        scaqua      12.095       0.509     266688          43186661 Chip-seer  Scaled Quail - SCQU          peterson-field-guide/scaqua/audio/43186661 Chip-seer          peterson-field-guide/scaqua/audio/43186661 Chip-seer.mp3\n486  peterson-field-guide    SCQU     Scaled Quail        scaqua      15.621       0.657     344448                43186671 Kuk  Scaled Quail - SCQU                peterson-field-guide/scaqua/audio/43186671 Kuk                peterson-field-guide/scaqua/audio/43186671 Kuk.mp3\n487  peterson-field-guide    SCQU     Scaled Quail        scaqua       7.732       0.325     170496  43186681 Wing sounds & Kuk  Scaled Quail - SCQU  peterson-field-guide/scaqua/audio/43186681 Wing sounds & Kuk  peterson-field-guide/scaqua/audio/43186681 Wing sounds & Kuk.mp3\n482  peterson-field-guide    SCQU     Scaled Quail        scaqua      10.057       0.423     221760       43186621 Zreek Series  Scaled Quail - SCQU       peterson-field-guide/scaqua/audio/43186621 Zreek Series       peterson-field-guide/scaqua/audio/43186621 Zreek Series.mp3"
     },
     "metadata": {},
     "output_type": "display_data",
     "transient": {}
    }
   ],
   "source": [
    "load = Load()\n",
    "recs = load.recs(\n",
    "    datasets=[\n",
    "        'peterson-field-guide',\n",
    "        'recordings',\n",
    "    ],\n",
    ")\n",
    "display(df_summary(recs), recs[:5])"
   ]
  },
  {
   "cell_type": "code",
   "execution_count": null,
   "metadata": {},
   "outputs": [
    {
     "name": "stdout",
     "output_type": "stream",
     "text": "[06:13:07.428] Projection.load\n  path: /Users/danb/hack/bubo/data/models/projection/peterson-v0-26bae1c.pkl\n"
    }
   ],
   "source": [
    "projection = Projection.load('peterson-v0-26bae1c')\n",
    "features = projection.features\n",
    "load = features.load"
   ]
  },
  {
   "cell_type": "code",
   "execution_count": null,
   "metadata": {},
   "outputs": [
    {
     "name": "stdout",
     "output_type": "stream",
     "text": "[06:13:07.476] Load.audio:in\n  len(recs): 633\n  len(recs) per dataset: {peterson-field-guide: 535, recordings: 98}\n\r[                                                                                          ] | 0% Completed |  0.0s"
    },
    {
     "name": "stdout",
     "output_type": "stream",
     "text": "\r[###                                                                                       ] | 3% Completed |  0.1s"
    },
    {
     "name": "stdout",
     "output_type": "stream",
     "text": "\r[#################################                                                         ] | 37% Completed |  0.2s"
    },
    {
     "name": "stdout",
     "output_type": "stream",
     "text": "\r[###############################################                                           ] | 52% Completed |  0.3s"
    },
    {
     "name": "stdout",
     "output_type": "stream",
     "text": "\r[#############################################################                             ] | 68% Completed |  0.4s"
    },
    {
     "name": "stdout",
     "output_type": "stream",
     "text": "\r[###########################################################################               ] | 83% Completed |  0.5s"
    },
    {
     "name": "stdout",
     "output_type": "stream",
     "text": "\r[##########################################################################################] | 100% Completed |  0.6s"
    },
    {
     "name": "stdout",
     "output_type": "stream",
     "text": "\n"
    },
    {
     "name": "stdout",
     "output_type": "stream",
     "text": "[06:13:08.199] Load.audio:out\n  len(audio): 633\n"
    },
    {
     "data": {
      "text/plain": "         138749 function calls (134133 primitive calls) in 0.727 seconds\n\n   Ordered by: internal time\n   List reduced from 823 to 10 due to restriction <10>\n\n   ncalls  tottime  percall  cumtime  percall filename:lineno(function)\n      851    0.595    0.001    0.595    0.001 {method 'acquire' of '_thread.lock' objects}\n      180    0.037    0.000    0.037    0.000 socket.py:333(send)\n26228/26226    0.008    0.000    0.015    0.000 {built-in method builtins.isinstance}\n    12483    0.005    0.000    0.005    0.000 {built-in method builtins.getattr}\n      520    0.005    0.000    0.005    0.000 core.py:159(get_dependencies)\n      636    0.004    0.000    0.055    0.000 series.py:165(__init__)\n      636    0.003    0.000    0.010    0.000 cast.py:867(maybe_infer_to_datetimelike)\n     8415    0.002    0.000    0.006    0.000 generic.py:7(_check)\n      635    0.002    0.000    0.014    0.000 cast.py:971(maybe_cast_to_datetime)\n      635    0.002    0.000    0.025    0.000 series.py:4016(_sanitize_array)"
     },
     "metadata": {},
     "output_type": "display_data",
     "transient": {}
    },
    {
     "name": "stdout",
     "output_type": "stream",
     "text": " "
    },
    {
     "data": {
      "text/html": "<table border=\"1\" class=\"dataframe\">\n  <thead>\n    <tr style=\"text-align: right;\">\n      <th></th>\n      <th>479</th>\n    </tr>\n  </thead>\n  <tbody>\n    <tr>\n      <th>dataset</th>\n      <td><div class=\"not-number\">peterson-field-guide</div></td>\n    </tr>\n    <tr>\n      <th>species</th>\n      <td><div class=\"not-number\">SCQU</div></td>\n    </tr>\n    <tr>\n      <th>species_com_name</th>\n      <td><div class=\"not-number\">Scaled Quail</div></td>\n    </tr>\n    <tr>\n      <th>species_query</th>\n      <td><div class=\"not-number\">scaqua</div></td>\n    </tr>\n    <tr>\n      <th>duration_s</th>\n      <td>12.3</td>\n    </tr>\n    <tr>\n      <th>samples_mb</th>\n      <td>0.517</td>\n    </tr>\n    <tr>\n      <th>samples_n</th>\n      <td>271296</td>\n    </tr>\n    <tr>\n      <th>basename</th>\n      <td><div class=\"not-number\">43186591 Kuk-curr Series</div></td>\n    </tr>\n    <tr>\n      <th>species_longhand</th>\n      <td><div class=\"not-number\">Scaled Quail - SCQU</div></td>\n    </tr>\n    <tr>\n      <th>id</th>\n      <td><div class=\"not-number\">peterson-field-guide/scaqua/audio/43186591 Kuk-curr Series</div></td>\n    </tr>\n    <tr>\n      <th>path</th>\n      <td><div class=\"not-number\">peterson-field-guide/scaqua/audio/43186591 Kuk-curr Series.mp3</div></td>\n    </tr>\n    <tr>\n      <th>audio</th>\n      <td><div class=\"not-number\">box(unbox=peterson-field-guide/scaqua/audio/43186591 Kuk-curr Series: 1 channels, 16 bit, sampled @ 22.05 kHz, 12.304s long)</div></td>\n    </tr>\n  </tbody>\n</table>",
      "text/plain": "                                                                                                                                           479\ndataset                                                                                                                   peterson-field-guide\nspecies                                                                                                                                   SCQU\nspecies_com_name                                                                                                                  Scaled Quail\nspecies_query                                                                                                                           scaqua\nduration_s                                                                                                                                12.3\nsamples_mb                                                                                                                               0.517\nsamples_n                                                                                                                               271296\nbasename                                                                                                              43186591 Kuk-curr Series\nspecies_longhand                                                                                                           Scaled Quail - SCQU\nid                                                                                  peterson-field-guide/scaqua/audio/43186591 Kuk-curr Series\npath                                                                            peterson-field-guide/scaqua/audio/43186591 Kuk-curr Series.mp3\naudio             box(unbox=peterson-field-guide/scaqua/audio/43186591 Kuk-curr Series: 1 channels, 16 bit, sampled @ 22.05 kHz, 12.304s long)"
     },
     "execution_count": 4,
     "metadata": {},
     "output_type": "execute_result"
    }
   ],
   "source": [
    "with cache_control():\n",
    "    pass\n",
    "    %prun -l10 recs = recs.drop(columns=['audio'], errors='ignore').assign(audio=load.audio)\n",
    "with cache_control(refresh=True):\n",
    "    pass\n",
    "    # %prun -l10 recs = recs.drop(columns=['spectro'], errors='ignore').assign(spectro=features.spectro)\n",
    "    # %prun -l10 recs = recs.drop(columns=['patches'], errors='ignore').assign(patches=features.patches)\n",
    "    # %prun -l10 recs = recs.drop(columns=['proj'], errors='ignore').assign(proj=projection.proj)\n",
    "    # %prun -l10 recs = recs.drop(columns=['agg'], errors='ignore').assign(agg=projection.agg)\n",
    "    # %prun -l10 recs = recs.drop(columns=['feat'], errors='ignore').assign(feat=projection.feat)\n",
    "recs[:1].T"
   ]
  },
  {
   "cell_type": "code",
   "execution_count": null,
   "metadata": {},
   "outputs": [
    {
     "name": "stdout",
     "output_type": "stream",
     "text": "dask_opts: {}\n[06:13:45.637] Features.patches:in\n  len(recs): 100\n  len(recs) per dataset: {}\n  sum(duration_h): 0.0\n  sum(samples_mb): 0\n  sum(samples_n): 0\n  (f, sum(t)): [[], 0]\n\r[                                                                                          ] | 0% Completed |  0.0s"
    },
    {
     "name": "stdout",
     "output_type": "stream",
     "text": "\r[##                                                                                        ] | 2% Completed |  0.1s"
    },
    {
     "name": "stdout",
     "output_type": "stream",
     "text": "\r[#####                                                                                     ] | 5% Completed |  0.2s"
    },
    {
     "name": "stdout",
     "output_type": "stream",
     "text": "\r[#######                                                                                   ] | 8% Completed |  0.3s"
    },
    {
     "name": "stdout",
     "output_type": "stream",
     "text": "\r[##########                                                                                ] | 11% Completed |  0.4s"
    },
    {
     "name": "stdout",
     "output_type": "stream",
     "text": "\r[#############                                                                             ] | 14% Completed |  0.5s"
    },
    {
     "name": "stdout",
     "output_type": "stream",
     "text": "\r[###############                                                                           ] | 17% Completed |  0.6s"
    },
    {
     "name": "stdout",
     "output_type": "stream",
     "text": "\r[###############                                                                           ] | 17% Completed |  0.7s"
    },
    {
     "name": "stdout",
     "output_type": "stream",
     "text": "\r[##################                                                                        ] | 20% Completed |  0.8s"
    },
    {
     "name": "stdout",
     "output_type": "stream",
     "text": "\r[#####################                                                                     ] | 23% Completed |  0.9s"
    },
    {
     "name": "stdout",
     "output_type": "stream",
     "text": "\r[#####################                                                                     ] | 23% Completed |  1.0s"
    },
    {
     "name": "stdout",
     "output_type": "stream",
     "text": "\r[#######################                                                                   ] | 26% Completed |  1.1s"
    },
    {
     "name": "stdout",
     "output_type": "stream",
     "text": "\r[##########################                                                                ] | 29% Completed |  1.2s"
    },
    {
     "name": "stdout",
     "output_type": "stream",
     "text": "\r[#############################                                                             ] | 32% Completed |  1.3s"
    },
    {
     "name": "stdout",
     "output_type": "stream",
     "text": "\r[###############################                                                           ] | 35% Completed |  1.5s"
    },
    {
     "name": "stdout",
     "output_type": "stream",
     "text": "\r[##################################                                                        ] | 38% Completed |  1.6s"
    },
    {
     "name": "stdout",
     "output_type": "stream",
     "text": "\r[##################################                                                        ] | 38% Completed |  1.7s"
    },
    {
     "name": "stdout",
     "output_type": "stream",
     "text": "\r[##################################                                                        ] | 38% Completed |  1.8s"
    },
    {
     "name": "stdout",
     "output_type": "stream",
     "text": "\r[#####################################                                                     ] | 41% Completed |  1.9s"
    },
    {
     "name": "stdout",
     "output_type": "stream",
     "text": "\r[#####################################                                                     ] | 41% Completed |  2.0s"
    },
    {
     "name": "stdout",
     "output_type": "stream",
     "text": "\r[#####################################                                                     ] | 41% Completed |  2.1s"
    },
    {
     "name": "stdout",
     "output_type": "stream",
     "text": "\r[#######################################                                                   ] | 44% Completed |  2.2s"
    },
    {
     "name": "stdout",
     "output_type": "stream",
     "text": "\r[##########################################                                                ] | 47% Completed |  2.3s"
    },
    {
     "name": "stdout",
     "output_type": "stream",
     "text": "\r[#############################################                                             ] | 50% Completed |  2.4s"
    },
    {
     "name": "stdout",
     "output_type": "stream",
     "text": "\r[###############################################                                           ] | 52% Completed |  2.5s"
    },
    {
     "name": "stdout",
     "output_type": "stream",
     "text": "\r[##################################################                                        ] | 55% Completed |  2.6s"
    },
    {
     "name": "stdout",
     "output_type": "stream",
     "text": "\r[####################################################                                      ] | 58% Completed |  2.7s"
    },
    {
     "name": "stdout",
     "output_type": "stream",
     "text": "\r[####################################################                                      ] | 58% Completed |  2.8s"
    },
    {
     "name": "stdout",
     "output_type": "stream",
     "text": "\r[#######################################################                                   ] | 61% Completed |  2.9s"
    },
    {
     "name": "stdout",
     "output_type": "stream",
     "text": "\r[#######################################################                                   ] | 61% Completed |  3.0s"
    },
    {
     "name": "stdout",
     "output_type": "stream",
     "text": "\r[##########################################################                                ] | 64% Completed |  3.1s"
    },
    {
     "name": "stdout",
     "output_type": "stream",
     "text": "\r[##########################################################                                ] | 64% Completed |  3.2s"
    },
    {
     "name": "stdout",
     "output_type": "stream",
     "text": "\r[##########################################################                                ] | 64% Completed |  3.3s"
    },
    {
     "name": "stdout",
     "output_type": "stream",
     "text": "\r[##########################################################                                ] | 64% Completed |  3.4s"
    },
    {
     "name": "stdout",
     "output_type": "stream",
     "text": "\r[##########################################################                                ] | 64% Completed |  3.5s"
    },
    {
     "name": "stdout",
     "output_type": "stream",
     "text": "\r[############################################################                              ] | 67% Completed |  3.6s"
    },
    {
     "name": "stdout",
     "output_type": "stream",
     "text": "\r[############################################################                              ] | 67% Completed |  3.7s"
    },
    {
     "name": "stdout",
     "output_type": "stream",
     "text": "\r[############################################################                              ] | 67% Completed |  3.9s"
    },
    {
     "name": "stdout",
     "output_type": "stream",
     "text": "\r[############################################################                              ] | 67% Completed |  4.0s"
    },
    {
     "name": "stdout",
     "output_type": "stream",
     "text": "\r[############################################################                              ] | 67% Completed |  4.1s"
    },
    {
     "name": "stdout",
     "output_type": "stream",
     "text": "\r[############################################################                              ] | 67% Completed |  4.2s"
    },
    {
     "name": "stdout",
     "output_type": "stream",
     "text": "\r[###############################################################                           ] | 70% Completed |  4.3s"
    },
    {
     "name": "stdout",
     "output_type": "stream",
     "text": "\r[##################################################################                        ] | 73% Completed |  4.4s"
    },
    {
     "name": "stdout",
     "output_type": "stream",
     "text": "\r[####################################################################                      ] | 76% Completed |  4.5s"
    },
    {
     "name": "stdout",
     "output_type": "stream",
     "text": "\r[####################################################################                      ] | 76% Completed |  4.6s"
    },
    {
     "name": "stdout",
     "output_type": "stream",
     "text": "\r[#######################################################################                   ] | 79% Completed |  4.7s"
    },
    {
     "name": "stdout",
     "output_type": "stream",
     "text": "\r[############################################################################              ] | 85% Completed |  4.8s"
    },
    {
     "name": "stdout",
     "output_type": "stream",
     "text": "\r[###############################################################################           ] | 88% Completed |  4.9s"
    },
    {
     "name": "stdout",
     "output_type": "stream",
     "text": "\r[###############################################################################           ] | 88% Completed |  5.0s"
    },
    {
     "name": "stdout",
     "output_type": "stream",
     "text": "\r[##################################################################################        ] | 91% Completed |  5.1s"
    },
    {
     "name": "stdout",
     "output_type": "stream",
     "text": "\r[####################################################################################      ] | 94% Completed |  5.2s"
    },
    {
     "name": "stdout",
     "output_type": "stream",
     "text": "\r[#######################################################################################   ] | 97% Completed |  5.3s"
    },
    {
     "name": "stdout",
     "output_type": "stream",
     "text": "\r[##########################################################################################] | 100% Completed |  5.4s"
    },
    {
     "name": "stdout",
     "output_type": "stream",
     "text": "\n"
    },
    {
     "name": "stdout",
     "output_type": "stream",
     "text": "[06:13:51.119] Features.patches:out\n  (f*p, sum(t)): [160, 237664]\n"
    },
    {
     "data": {
      "text/plain": "         451986 function calls (444331 primitive calls) in 5.487 seconds\n\n   Ordered by: internal time\n   List reduced from 940 to 5 due to restriction <5>\n\n   ncalls  tottime  percall  cumtime  percall filename:lineno(function)\n      101    1.102    0.011    2.761    0.027 spectral.py:1681(_fft_helper)\n      101    1.015    0.010    1.015    0.010 {built-in method numpy.fft.fftpack_lite.rfftf}\n     4187    0.513    0.000    0.513    0.000 {built-in method numpy.core.multiarray.array}\n      101    0.312    0.003    3.413    0.034 spectral.py:563(spectrogram)\n   238719    0.310    0.000    0.310    0.000 {method 'flatten' of 'numpy.ndarray' objects}"
     },
     "metadata": {},
     "output_type": "display_data",
     "transient": {}
    },
    {
     "name": "stdout",
     "output_type": "stream",
     "text": " dask_opts: {'override_dask': False}\n[06:13:51.212] Features.patches:in\n  len(recs): 100\n  len(recs) per dataset: {}\n  sum(duration_h): 0.0\n  sum(samples_mb): 0\n  sum(samples_n): 0"
    },
    {
     "name": "stdout",
     "output_type": "stream",
     "text": "\n  (f, sum(t)): [[], 0]\n"
    },
    {
     "name": "stdout",
     "output_type": "stream",
     "text": "[06:13:56.700] Features.patches:out\n  (f*p, sum(t)): [160, 237664]\n"
    },
    {
     "data": {
      "text/plain": "         415977 function calls (410892 primitive calls) in 5.548 seconds\n\n   Ordered by: internal time\n   List reduced from 651 to 5 due to restriction <5>\n\n   ncalls  tottime  percall  cumtime  percall filename:lineno(function)\n      100    1.155    0.012    2.937    0.029 spectral.py:1681(_fft_helper)\n      100    1.055    0.011    1.055    0.011 {built-in method numpy.fft.fftpack_lite.rfftf}\n     4148    0.518    0.000    0.518    0.000 {built-in method numpy.core.multiarray.array}\n      100    0.317    0.003    0.478    0.005 signaltools.py:2464(detrend)\n      100    0.313    0.003    3.606    0.036 spectral.py:563(spectrogram)"
     },
     "metadata": {},
     "output_type": "display_data",
     "transient": {}
    },
    {
     "name": "stdout",
     "output_type": "stream",
     "text": " dask_opts: {'override_scheduler': 'synchronous'}\n[06:13:56.792] Features.patches:in\n  len(recs): 100\n  len(recs) per dataset: {}\n  sum(duration_h): 0.0\n  sum(samples_mb): 0\n  sum(samples_n): 0\n  (f, sum(t)): [[], 0]\n\r[                                                                                          ] | 0% Completed |  0.0s"
    },
    {
     "name": "stdout",
     "output_type": "stream",
     "text": "\r[##                                                                                        ] | 2% Completed |  0.1s"
    },
    {
     "name": "stdout",
     "output_type": "stream",
     "text": "\r[#####                                                                                     ] | 5% Completed |  0.2s"
    },
    {
     "name": "stdout",
     "output_type": "stream",
     "text": "\r[#####                                                                                     ] | 5% Completed |  0.3s"
    },
    {
     "name": "stdout",
     "output_type": "stream",
     "text": "\r[#######                                                                                   ] | 8% Completed |  0.4s"
    },
    {
     "name": "stdout",
     "output_type": "stream",
     "text": "\r[##########                                                                                ] | 11% Completed |  0.5s"
    },
    {
     "name": "stdout",
     "output_type": "stream",
     "text": "\r[#############                                                                             ] | 14% Completed |  0.6s"
    },
    {
     "name": "stdout",
     "output_type": "stream",
     "text": "\r[###############                                                                           ] | 17% Completed |  0.7s"
    },
    {
     "name": "stdout",
     "output_type": "stream",
     "text": "\r[###############                                                                           ] | 17% Completed |  0.8s"
    },
    {
     "name": "stdout",
     "output_type": "stream",
     "text": "\r[##################                                                                        ] | 20% Completed |  0.9s"
    },
    {
     "name": "stdout",
     "output_type": "stream",
     "text": "\r[#####################                                                                     ] | 23% Completed |  1.1s"
    },
    {
     "name": "stdout",
     "output_type": "stream",
     "text": "\r[#####################                                                                     ] | 23% Completed |  1.2s"
    },
    {
     "name": "stdout",
     "output_type": "stream",
     "text": "\r[#######################                                                                   ] | 26% Completed |  1.3s"
    },
    {
     "name": "stdout",
     "output_type": "stream",
     "text": "\r[##########################                                                                ] | 29% Completed |  1.4s"
    },
    {
     "name": "stdout",
     "output_type": "stream",
     "text": "\r[#############################                                                             ] | 32% Completed |  1.5s"
    },
    {
     "name": "stdout",
     "output_type": "stream",
     "text": "\r[###############################                                                           ] | 35% Completed |  1.6s"
    },
    {
     "name": "stdout",
     "output_type": "stream",
     "text": "\r[##################################                                                        ] | 38% Completed |  1.7s"
    },
    {
     "name": "stdout",
     "output_type": "stream",
     "text": "\r[##################################                                                        ] | 38% Completed |  1.8s"
    },
    {
     "name": "stdout",
     "output_type": "stream",
     "text": "\r[##################################                                                        ] | 38% Completed |  1.9s"
    },
    {
     "name": "stdout",
     "output_type": "stream",
     "text": "\r[#####################################                                                     ] | 41% Completed |  2.0s"
    },
    {
     "name": "stdout",
     "output_type": "stream",
     "text": "\r[#####################################                                                     ] | 41% Completed |  2.1s"
    },
    {
     "name": "stdout",
     "output_type": "stream",
     "text": "\r[#######################################                                                   ] | 44% Completed |  2.2s"
    },
    {
     "name": "stdout",
     "output_type": "stream",
     "text": "\r[##########################################                                                ] | 47% Completed |  2.3s"
    },
    {
     "name": "stdout",
     "output_type": "stream",
     "text": "\r[#############################################                                             ] | 50% Completed |  2.4s"
    },
    {
     "name": "stdout",
     "output_type": "stream",
     "text": "\r[###############################################                                           ] | 52% Completed |  2.5s"
    },
    {
     "name": "stdout",
     "output_type": "stream",
     "text": "\r[##################################################                                        ] | 55% Completed |  2.6s"
    },
    {
     "name": "stdout",
     "output_type": "stream",
     "text": "\r[####################################################                                      ] | 58% Completed |  2.7s"
    },
    {
     "name": "stdout",
     "output_type": "stream",
     "text": "\r[####################################################                                      ] | 58% Completed |  2.8s"
    },
    {
     "name": "stdout",
     "output_type": "stream",
     "text": "\r[#######################################################                                   ] | 61% Completed |  2.9s"
    },
    {
     "name": "stdout",
     "output_type": "stream",
     "text": "\r[#######################################################                                   ] | 61% Completed |  3.0s"
    },
    {
     "name": "stdout",
     "output_type": "stream",
     "text": "\r[#######################################################                                   ] | 61% Completed |  3.1s"
    },
    {
     "name": "stdout",
     "output_type": "stream",
     "text": "\r[##########################################################                                ] | 64% Completed |  3.2s"
    },
    {
     "name": "stdout",
     "output_type": "stream",
     "text": "\r[##########################################################                                ] | 64% Completed |  3.4s"
    },
    {
     "name": "stdout",
     "output_type": "stream",
     "text": "\r[##########################################################                                ] | 64% Completed |  3.5s"
    },
    {
     "name": "stdout",
     "output_type": "stream",
     "text": "\r[##########################################################                                ] | 64% Completed |  3.6s"
    },
    {
     "name": "stdout",
     "output_type": "stream",
     "text": "\r[##########################################################                                ] | 64% Completed |  3.7s"
    },
    {
     "name": "stdout",
     "output_type": "stream",
     "text": "\r[##########################################################                                ] | 64% Completed |  3.8s"
    },
    {
     "name": "stdout",
     "output_type": "stream",
     "text": "\r[############################################################                              ] | 67% Completed |  3.9s"
    },
    {
     "name": "stdout",
     "output_type": "stream",
     "text": "\r[############################################################                              ] | 67% Completed |  4.0s"
    },
    {
     "name": "stdout",
     "output_type": "stream",
     "text": "\r[############################################################                              ] | 67% Completed |  4.1s"
    },
    {
     "name": "stdout",
     "output_type": "stream",
     "text": "\r[############################################################                              ] | 67% Completed |  4.2s"
    },
    {
     "name": "stdout",
     "output_type": "stream",
     "text": "\r[############################################################                              ] | 67% Completed |  4.3s"
    },
    {
     "name": "stdout",
     "output_type": "stream",
     "text": "\r[############################################################                              ] | 67% Completed |  4.4s"
    },
    {
     "name": "stdout",
     "output_type": "stream",
     "text": "\r[###############################################################                           ] | 70% Completed |  4.5s"
    },
    {
     "name": "stdout",
     "output_type": "stream",
     "text": "\r[###############################################################                           ] | 70% Completed |  4.6s"
    },
    {
     "name": "stdout",
     "output_type": "stream",
     "text": "\r[##################################################################                        ] | 73% Completed |  4.7s"
    },
    {
     "name": "stdout",
     "output_type": "stream",
     "text": "\r[####################################################################                      ] | 76% Completed |  4.8s"
    },
    {
     "name": "stdout",
     "output_type": "stream",
     "text": "\r[####################################################################                      ] | 76% Completed |  4.9s"
    },
    {
     "name": "stdout",
     "output_type": "stream",
     "text": "\r[#######################################################################                   ] | 79% Completed |  5.0s"
    },
    {
     "name": "stdout",
     "output_type": "stream",
     "text": "\r[##########################################################################                ] | 82% Completed |  5.1s"
    },
    {
     "name": "stdout",
     "output_type": "stream",
     "text": "\r[############################################################################              ] | 85% Completed |  5.2s"
    },
    {
     "name": "stdout",
     "output_type": "stream",
     "text": "\r[###############################################################################           ] | 88% Completed |  5.3s"
    },
    {
     "name": "stdout",
     "output_type": "stream",
     "text": "\r[##################################################################################        ] | 91% Completed |  5.4s"
    },
    {
     "name": "stdout",
     "output_type": "stream",
     "text": "\r[##################################################################################        ] | 91% Completed |  5.5s"
    },
    {
     "name": "stdout",
     "output_type": "stream",
     "text": "\r[####################################################################################      ] | 94% Completed |  5.6s"
    },
    {
     "name": "stdout",
     "output_type": "stream",
     "text": "\r[##########################################################################################] | 100% Completed |  5.7s"
    },
    {
     "name": "stdout",
     "output_type": "stream",
     "text": "\n"
    },
    {
     "name": "stdout",
     "output_type": "stream",
     "text": "[06:14:02.569] Features.patches:out\n  (f*p, sum(t)): [160, 237664]\n"
    },
    {
     "data": {
      "text/plain": "         451971 function calls (444316 primitive calls) in 5.782 seconds\n\n   Ordered by: internal time\n   List reduced from 940 to 5 due to restriction <5>\n\n   ncalls  tottime  percall  cumtime  percall filename:lineno(function)\n      101    1.201    0.012    3.064    0.030 spectral.py:1681(_fft_helper)\n      101    1.153    0.011    1.153    0.011 {built-in method numpy.fft.fftpack_lite.rfftf}\n     4187    0.537    0.000    0.537    0.000 {built-in method numpy.core.multiarray.array}\n      101    0.347    0.003    0.470    0.005 signaltools.py:2464(detrend)\n      101    0.320    0.003    3.748    0.037 spectral.py:563(spectrogram)"
     },
     "metadata": {},
     "output_type": "display_data",
     "transient": {}
    },
    {
     "name": "stdout",
     "output_type": "stream",
     "text": " dask_opts: {'override_scheduler': 'threads'}\n[06:14:02.640] Features.patches:in\n  len(recs): 100\n  len(recs) per dataset: {}\n  sum(duration_h): 0.0\n  sum(samples_mb): 0\n  sum(samples_n): 0\n  (f, sum(t)): [[], 0]\n"
    },
    {
     "name": "stdout",
     "output_type": "stream",
     "text": "\r[                                                                                          ] | 0% Completed |  0.0s"
    },
    {
     "name": "stdout",
     "output_type": "stream",
     "text": "\r[                                                                                          ] | 0% Completed |  0.1s"
    },
    {
     "name": "stdout",
     "output_type": "stream",
     "text": "\r[                                                                                          ] | 0% Completed |  0.2s"
    },
    {
     "name": "stdout",
     "output_type": "stream",
     "text": "\r[                                                                                          ] | 0% Completed |  0.3s"
    },
    {
     "name": "stdout",
     "output_type": "stream",
     "text": "\r[                                                                                          ] | 0% Completed |  0.4s"
    },
    {
     "name": "stdout",
     "output_type": "stream",
     "text": "\r[                                                                                          ] | 0% Completed |  0.5s"
    },
    {
     "name": "stdout",
     "output_type": "stream",
     "text": "\r[                                                                                          ] | 0% Completed |  0.6s"
    },
    {
     "name": "stdout",
     "output_type": "stream",
     "text": "\r[##                                                                                        ] | 2% Completed |  0.7s"
    },
    {
     "name": "stdout",
     "output_type": "stream",
     "text": "\r[##                                                                                        ] | 2% Completed |  0.8s"
    },
    {
     "name": "stdout",
     "output_type": "stream",
     "text": "\r[#####                                                                                     ] | 5% Completed |  0.9s"
    },
    {
     "name": "stdout",
     "output_type": "stream",
     "text": "\r[#######                                                                                   ] | 8% Completed |  1.1s"
    },
    {
     "name": "stdout",
     "output_type": "stream",
     "text": "\r[#######                                                                                   ] | 8% Completed |  1.2s"
    },
    {
     "name": "stdout",
     "output_type": "stream",
     "text": "\r[##########                                                                                ] | 11% Completed |  1.3s"
    },
    {
     "name": "stdout",
     "output_type": "stream",
     "text": "\r[##########                                                                                ] | 11% Completed |  1.4s"
    },
    {
     "name": "stdout",
     "output_type": "stream",
     "text": "\r[###############                                                                           ] | 17% Completed |  1.5s"
    },
    {
     "name": "stdout",
     "output_type": "stream",
     "text": "\r[###############                                                                           ] | 17% Completed |  1.6s"
    },
    {
     "name": "stdout",
     "output_type": "stream",
     "text": "\r[#################                                                                         ] | 19% Completed |  1.7s"
    },
    {
     "name": "stdout",
     "output_type": "stream",
     "text": "\r[##################                                                                        ] | 20% Completed |  1.8s"
    },
    {
     "name": "stdout",
     "output_type": "stream",
     "text": "\r[#####################                                                                     ] | 23% Completed |  1.9s"
    },
    {
     "name": "stdout",
     "output_type": "stream",
     "text": "\r[#####################                                                                     ] | 23% Completed |  2.0s"
    },
    {
     "name": "stdout",
     "output_type": "stream",
     "text": "\r[#####################                                                                     ] | 23% Completed |  2.1s"
    },
    {
     "name": "stdout",
     "output_type": "stream",
     "text": "\r[##########################                                                                ] | 29% Completed |  2.2s"
    },
    {
     "name": "stdout",
     "output_type": "stream",
     "text": "\r[#############################                                                             ] | 32% Completed |  2.3s"
    },
    {
     "name": "stdout",
     "output_type": "stream",
     "text": "\r[#############################                                                             ] | 32% Completed |  2.4s"
    },
    {
     "name": "stdout",
     "output_type": "stream",
     "text": "\r[#############################                                                             ] | 32% Completed |  2.5s"
    },
    {
     "name": "stdout",
     "output_type": "stream",
     "text": "\r[###############################                                                           ] | 35% Completed |  2.6s"
    },
    {
     "name": "stdout",
     "output_type": "stream",
     "text": "\r[###############################                                                           ] | 35% Completed |  2.7s"
    },
    {
     "name": "stdout",
     "output_type": "stream",
     "text": "\r[##################################                                                        ] | 38% Completed |  2.8s"
    },
    {
     "name": "stdout",
     "output_type": "stream",
     "text": "\r[#####################################                                                     ] | 41% Completed |  2.9s"
    },
    {
     "name": "stdout",
     "output_type": "stream",
     "text": "\r[#####################################                                                     ] | 41% Completed |  3.1s"
    },
    {
     "name": "stdout",
     "output_type": "stream",
     "text": "\r[#####################################                                                     ] | 41% Completed |  3.2s"
    },
    {
     "name": "stdout",
     "output_type": "stream",
     "text": "\r[#######################################                                                   ] | 44% Completed |  3.3s"
    },
    {
     "name": "stdout",
     "output_type": "stream",
     "text": "\r[#######################################                                                   ] | 44% Completed |  3.4s"
    },
    {
     "name": "stdout",
     "output_type": "stream",
     "text": "\r[##########################################                                                ] | 47% Completed |  3.5s"
    },
    {
     "name": "stdout",
     "output_type": "stream",
     "text": "\r[#############################################                                             ] | 50% Completed |  3.6s"
    },
    {
     "name": "stdout",
     "output_type": "stream",
     "text": "\r[###############################################                                           ] | 52% Completed |  3.7s"
    },
    {
     "name": "stdout",
     "output_type": "stream",
     "text": "\r[###############################################                                           ] | 52% Completed |  3.8s"
    },
    {
     "name": "stdout",
     "output_type": "stream",
     "text": "\r[###############################################                                           ] | 52% Completed |  3.9s"
    },
    {
     "name": "stdout",
     "output_type": "stream",
     "text": "\r[###############################################                                           ] | 52% Completed |  4.0s"
    },
    {
     "name": "stdout",
     "output_type": "stream",
     "text": "\r[###############################################                                           ] | 52% Completed |  4.1s"
    },
    {
     "name": "stdout",
     "output_type": "stream",
     "text": "\r[##################################################                                        ] | 55% Completed |  4.2s"
    },
    {
     "name": "stdout",
     "output_type": "stream",
     "text": "\r[##################################################                                        ] | 55% Completed |  4.3s"
    },
    {
     "name": "stdout",
     "output_type": "stream",
     "text": "\r[##################################################                                        ] | 55% Completed |  4.4s"
    },
    {
     "name": "stdout",
     "output_type": "stream",
     "text": "\r[##################################################                                        ] | 55% Completed |  4.5s"
    },
    {
     "name": "stdout",
     "output_type": "stream",
     "text": "\r[##################################################                                        ] | 55% Completed |  4.6s"
    },
    {
     "name": "stdout",
     "output_type": "stream",
     "text": "\r[####################################################                                      ] | 58% Completed |  4.7s"
    },
    {
     "name": "stdout",
     "output_type": "stream",
     "text": "\r[#######################################################                                   ] | 61% Completed |  4.8s"
    },
    {
     "name": "stdout",
     "output_type": "stream",
     "text": "\r[#######################################################                                   ] | 61% Completed |  4.9s"
    },
    {
     "name": "stdout",
     "output_type": "stream",
     "text": "\r[##########################################################                                ] | 64% Completed |  5.1s"
    },
    {
     "name": "stdout",
     "output_type": "stream",
     "text": "\r[##########################################################                                ] | 64% Completed |  5.2s"
    },
    {
     "name": "stdout",
     "output_type": "stream",
     "text": "\r[############################################################                              ] | 67% Completed |  5.3s"
    },
    {
     "name": "stdout",
     "output_type": "stream",
     "text": "\r[############################################################                              ] | 67% Completed |  5.4s"
    },
    {
     "name": "stdout",
     "output_type": "stream",
     "text": "\r[############################################################                              ] | 67% Completed |  5.5s"
    },
    {
     "name": "stdout",
     "output_type": "stream",
     "text": "\r[####################################################################                      ] | 76% Completed |  5.6s"
    },
    {
     "name": "stdout",
     "output_type": "stream",
     "text": "\r[#######################################################################                   ] | 79% Completed |  5.7s"
    },
    {
     "name": "stdout",
     "output_type": "stream",
     "text": "\r[#######################################################################                   ] | 79% Completed |  5.8s"
    },
    {
     "name": "stdout",
     "output_type": "stream",
     "text": "\r[##########################################################################                ] | 82% Completed |  5.9s"
    },
    {
     "name": "stdout",
     "output_type": "stream",
     "text": "\r[##########################################################################                ] | 82% Completed |  6.0s"
    },
    {
     "name": "stdout",
     "output_type": "stream",
     "text": "\r[############################################################################              ] | 85% Completed |  6.1s"
    },
    {
     "name": "stdout",
     "output_type": "stream",
     "text": "\r[############################################################################              ] | 85% Completed |  6.2s"
    },
    {
     "name": "stdout",
     "output_type": "stream",
     "text": "\r[##################################################################################        ] | 91% Completed |  6.3s"
    },
    {
     "name": "stdout",
     "output_type": "stream",
     "text": "\r[#######################################################################################   ] | 97% Completed |  6.4s"
    },
    {
     "name": "stdout",
     "output_type": "stream",
     "text": "\r[##########################################################################################] | 100% Completed |  6.5s"
    },
    {
     "name": "stdout",
     "output_type": "stream",
     "text": "\n"
    },
    {
     "name": "stdout",
     "output_type": "stream",
     "text": "[06:14:09.182] Features.patches:out\n  (f*p, sum(t)): [160, 237664]\n"
    },
    {
     "data": {
      "text/plain": "         55396 function calls (53185 primitive calls) in 6.548 seconds\n\n   Ordered by: internal time\n   List reduced from 935 to 5 due to restriction <5>\n\n   ncalls  tottime  percall  cumtime  percall filename:lineno(function)\n      894    6.459    0.007    6.459    0.007 {method 'acquire' of '_thread.lock' objects}\n      163    0.019    0.000    0.019    0.000 socket.py:333(send)\n        1    0.005    0.005    0.005    0.005 {built-in method numpy.fft.fftpack_lite.rfftf}\n        1    0.005    0.005    0.013    0.013 spectral.py:1681(_fft_helper)\n      104    0.002    0.000    0.004    0.000 cast.py:971(maybe_cast_to_datetime)"
     },
     "metadata": {},
     "output_type": "display_data",
     "transient": {}
    },
    {
     "name": "stdout",
     "output_type": "stream",
     "text": " "
    }
   ],
   "source": [
    "with cache_control(enabled=False):\n",
    "    for _dask_opts in [\n",
    "        dict(),\n",
    "        dict(override_dask=False),\n",
    "        dict(override_scheduler='synchronous'),\n",
    "        dict(override_scheduler='threads'),\n",
    "        # dict(override_scheduler='processes'),\n",
    "    ]:\n",
    "        print('dask_opts:', _dask_opts)\n",
    "        with dask_opts.context(**_dask_opts):\n",
    "            n = 100\n",
    "            # %prun -l5 recs[:n].drop(columns=['audio'], errors='ignore').assign(audio=load.audio)\n",
    "            # %prun -l5 recs[:n].drop(columns=['spectro'], errors='ignore').assign(spectro=features.spectro)\n",
    "            # %prun -l5 recs[:n].drop(columns=['patches'], errors='ignore').assign(patches=features.patches)\n",
    "            # %prun -l5 recs[:n].drop(columns=['proj'], errors='ignore').assign(proj=projection.proj)\n",
    "            # %prun -l5 recs[:n].drop(columns=['agg'], errors='ignore').assign(agg=projection.agg)\n",
    "            # %prun -l5 recs[:n].drop(columns=['feat'], errors='ignore').assign(feat=projection.feat)\n",
    "            # %prun -l5 recs[:n][['id', 'path']].assign(spectro=features.spectro).assign(patches=features.patches).drop(columns=['spectro'])\n",
    "            %prun -l5 recs[:n][['id', 'path']].assign(patches=features.patches)\n",
    "            # %prun -l5 recs[:n][['id', 'path']].pipe(features.transform)\n",
    "            # %prun -l5 recs[:n][['id', 'patches']].assign(proj=projection.proj).assign(agg=projection.agg).assign(feat=projection.feat)\n",
    "            # %prun -l5 recs[:n][['id', 'patches']].assign(feat=projection.feat)\n",
    "            # %prun -l5 recs[:n][['id', 'patches']].pipe(projection.transform)"
   ]
  },
  {
   "cell_type": "code",
   "execution_count": null,
   "metadata": {},
   "outputs": [],
   "source": []
  }
 ],
 "metadata": {
  "kernelspec": {
   "display_name": "bubo-features (PYTHONSTARTUP)",
   "language": "python",
   "name": "bubo-features (PYTHONSTARTUP)"
  }
 },
 "nbformat": 4,
 "nbformat_minor": 2
}
