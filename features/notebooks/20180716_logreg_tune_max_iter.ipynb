{
 "cells": [
  {
   "cell_type": "code",
   "execution_count": null,
   "metadata": {
    "time": "3.447s"
   },
   "outputs": [
    {
     "name": "stdout",
     "output_type": "stream",
     "text": "platform:\n  machine: x86_64\n  node: af883561c3e3\n  processor: x86_64\n  release: 4.14.33+\n  system: Linux\n  version: '#1 SMP Wed Jun 20 01:15:52 PDT 2018'\ncpu: 16\nmem: 102g\nswap: 0g\n"
    }
   ],
   "source": [
    "from notebooks import *\n",
    "print_sys_info()"
   ]
  },
  {
   "cell_type": "code",
   "execution_count": null,
   "metadata": {},
   "outputs": [
    {
     "name": "stdout",
     "output_type": "stream",
     "text": "[00:48:57.828] DEBUG  Projection.load\n  path: /app/data/models/projection/peterson-v0-26bae1c.pkl\n"
    }
   ],
   "source": [
    "# Load models\n",
    "load = Load()\n",
    "projection = Projection.load('peterson-v0-26bae1c', features=Features(load=load))"
   ]
  },
  {
   "cell_type": "code",
   "execution_count": null,
   "metadata": {
    "time": "6.428s"
   },
   "outputs": [
    {
     "name": "stdout",
     "output_type": "stream",
     "text": "all              9442/399859 (sp/recs)\ncountries         1148/59713 (sp/recs)\ncom_names          334/35236 (sp/recs)\n(downloaded)       334/35228 (sp/recs)\nrecs_at_least      296/34842 (sp/recs)\nnum_species        168/19638 (sp/recs)\n"
    },
    {
     "name": "stdout",
     "output_type": "stream",
     "text": "num_recs            168/3360 (sp/recs)\nrecs ≥ 2            168/3360 (sp/recs)\n"
    },
    {
     "data": {
      "text/plain": "'sp[168], recs[3360]'"
     },
     "metadata": {},
     "output_type": "display_data",
     "transient": {}
    },
    {
     "data": {
      "text/html": "<table border=\"1\" class=\"dataframe\">\n  <thead>\n    <tr style=\"text-align: right;\">\n      <th></th>\n      <th></th>\n      <th></th>\n      <th></th>\n      <th></th>\n      <th></th>\n      <th></th>\n      <th></th>\n      <th>min</th>\n      <th>25%</th>\n      <th>50%</th>\n      <th>75%</th>\n      <th>max</th>\n    </tr>\n    <tr>\n      <th></th>\n      <th>dtype</th>\n      <th>sizeof</th>\n      <th>len</th>\n      <th>count</th>\n      <th>nunique</th>\n      <th>mean</th>\n      <th>std</th>\n      <th></th>\n      <th></th>\n      <th></th>\n      <th></th>\n      <th></th>\n    </tr>\n  </thead>\n  <tbody>\n    <tr>\n      <th>downloaded</th>\n      <th>bool</th>\n      <th>94080</th>\n      <th>3360</th>\n      <th>3360</th>\n      <th>1</th>\n      <th>NaN</th>\n      <th>NaN</th>\n      <td><div class=\"not-number\">True</div></td>\n      <td><div class=\"not-number\">True</div></td>\n      <td><div class=\"not-number\">True</div></td>\n      <td><div class=\"not-number\">True</div></td>\n      <td><div class=\"not-number\">True</div></td>\n    </tr>\n    <tr>\n      <th>species</th>\n      <th>category</th>\n      <th>178080</th>\n      <th>3360</th>\n      <th>3360</th>\n      <th>168</th>\n      <th>NaN</th>\n      <th>NaN</th>\n      <td><div class=\"not-number\">GWFG</div></td>\n      <td><div class=\"not-number\">GBTE</div></td>\n      <td><div class=\"not-number\">REVI</div></td>\n      <td><div class=\"not-number\">NOWA</div></td>\n      <td><div class=\"not-number\">AMGO</div></td>\n    </tr>\n    <tr>\n      <th>id</th>\n      <th>int64</th>\n      <th>94080</th>\n      <th>3360</th>\n      <th>3360</th>\n      <th>3360</th>\n      <th>213310.169</th>\n      <th>108044.426</th>\n      <td>1133</td>\n      <td>138144</td>\n      <td>193659</td>\n      <td>308285</td>\n      <td>416744</td>\n    </tr>\n    <tr>\n      <th>sci_name</th>\n      <th>category</th>\n      <th>227200</th>\n      <th>3360</th>\n      <th>3360</th>\n      <th>168</th>\n      <th>NaN</th>\n      <th>NaN</th>\n      <td><div class=\"not-number\">Anser albifrons</div></td>\n      <td><div class=\"not-number\">Gelochelidon nilotica</div></td>\n      <td><div class=\"not-number\">Vireo olivaceus</div></td>\n      <td><div class=\"not-number\">Parkesia noveboracensis</div></td>\n      <td><div class=\"not-number\">Spinus tristis</div></td>\n    </tr>\n    <tr>\n      <th>com_name</th>\n      <th>category</th>\n      <th>220320</th>\n      <th>3360</th>\n      <th>3360</th>\n      <th>168</th>\n      <th>NaN</th>\n      <th>NaN</th>\n      <td><div class=\"not-number\">Greater White-fronted Goose</div></td>\n      <td><div class=\"not-number\">Gull-billed Tern</div></td>\n      <td><div class=\"not-number\">Red-eyed Vireo</div></td>\n      <td><div class=\"not-number\">Northern Waterthrush</div></td>\n      <td><div class=\"not-number\">American Goldfinch</div></td>\n    </tr>\n    <tr>\n      <th>subspecies</th>\n      <th>object</th>\n      <th>169597</th>\n      <th>3360</th>\n      <th>3360</th>\n      <th>206</th>\n      <th>NaN</th>\n      <th>NaN</th>\n      <td><div class=\"not-number\"></div></td>\n      <td><div class=\"not-number\"></div></td>\n      <td><div class=\"not-number\"></div></td>\n      <td><div class=\"not-number\"></div></td>\n      <td><div class=\"not-number\">zaboria</div></td>\n    </tr>\n    <tr>\n      <th>recordist</th>\n      <th>object</th>\n      <th>211704</th>\n      <th>3360</th>\n      <th>3360</th>\n      <th>291</th>\n      <th>NaN</th>\n      <th>NaN</th>\n      <td><div class=\"not-number\">AJ Knue</div></td>\n      <td><div class=\"not-number\">Frank Lambert</div></td>\n      <td><div class=\"not-number\">Matthias Feuersenger</div></td>\n      <td><div class=\"not-number\">Peter Boesman</div></td>\n      <td><div class=\"not-number\">tetiaroa</div></td>\n    </tr>\n    <tr>\n      <th>country</th>\n      <th>object</th>\n      <th>203070</th>\n      <th>3360</th>\n      <th>3360</th>\n      <th>3</th>\n      <th>NaN</th>\n      <th>NaN</th>\n      <td><div class=\"not-number\">Canada</div></td>\n      <td><div class=\"not-number\">United States</div></td>\n      <td><div class=\"not-number\">United States</div></td>\n      <td><div class=\"not-number\">United States</div></td>\n      <td><div class=\"not-number\">United States</div></td>\n    </tr>\n    <tr>\n      <th>locality</th>\n      <th>object</th>\n      <th>316498</th>\n      <th>3360</th>\n      <th>3360</th>\n      <th>1741</th>\n      <th>NaN</th>\n      <th>NaN</th>\n      <td><div class=\"not-number\"> Bahía la Ventosa, Salina Cruz, Oaxaca</div></td>\n      <td><div class=\"not-number\">Deseret Land and Livestock Ranch, Rich County, Utah</div></td>\n      <td><div class=\"not-number\">May Lake, Yosemite NP, California</div></td>\n      <td><div class=\"not-number\">Sabal Palm Sanctuary, Cameron, Texas</div></td>\n      <td><div class=\"not-number\">west of Thorp, WA</div></td>\n    </tr>\n    <tr>\n      <th>lat</th>\n      <th>float64</th>\n      <th>80640</th>\n      <th>3360</th>\n      <th>3308</th>\n      <th>1769</th>\n      <th>37.891</th>\n      <th>9.895</th>\n      <td>15.6</td>\n      <td>31.9</td>\n      <td>35.8</td>\n      <td>43.9</td>\n      <td>71.3</td>\n    </tr>\n    <tr>\n      <th>lng</th>\n      <th>float64</th>\n      <th>80640</th>\n      <th>3360</th>\n      <th>3308</th>\n      <th>1783</th>\n      <th>-107.703</th>\n      <th>19.352</th>\n      <td>-177</td>\n      <td>-118</td>\n      <td>-110</td>\n      <td>-95</td>\n      <td>-54</td>\n    </tr>\n    <tr>\n      <th>type</th>\n      <th>object</th>\n      <th>191622</th>\n      <th>3360</th>\n      <th>3360</th>\n      <th>338</th>\n      <th>NaN</th>\n      <th>NaN</th>\n      <td><div class=\"not-number\">\"chekurrrrrr\" call</div></td>\n      <td><div class=\"not-number\">call</div></td>\n      <td><div class=\"not-number\">call, male</div></td>\n      <td><div class=\"not-number\">song</div></td>\n      <td><div class=\"not-number\">wipe-out</div></td>\n    </tr>\n    <tr>\n      <th>quality</th>\n      <th>category</th>\n      <th>194711</th>\n      <th>3360</th>\n      <th>3360</th>\n      <th>6</th>\n      <th>NaN</th>\n      <th>NaN</th>\n      <td><div class=\"not-number\">A</div></td>\n      <td><div class=\"not-number\">A</div></td>\n      <td><div class=\"not-number\">B</div></td>\n      <td><div class=\"not-number\">B</div></td>\n      <td><div class=\"not-number\">no score</div></td>\n    </tr>\n    <tr>\n      <th>date</th>\n      <th>datetime64[ns]</th>\n      <th>430080</th>\n      <th>3360</th>\n      <th>3360</th>\n      <th>1567</th>\n      <th>NaN</th>\n      <th>NaN</th>\n      <td><div class=\"not-number\">1985-06-25 00:00:00</div></td>\n      <td><div class=\"not-number\">2011-10-12 00:00:00</div></td>\n      <td><div class=\"not-number\">2013-09-18 00:00:00</div></td>\n      <td><div class=\"not-number\">2015-06-12 00:00:00</div></td>\n      <td><div class=\"not-number\">2018-05-23 00:00:00</div></td>\n    </tr>\n    <tr>\n      <th>time</th>\n      <th>object</th>\n      <th>180924</th>\n      <th>3360</th>\n      <th>3360</th>\n      <th>894</th>\n      <th>NaN</th>\n      <th>NaN</th>\n      <td><div class=\"not-number\"> ?</div></td>\n      <td><div class=\"not-number\">0834</div></td>\n      <td><div class=\"not-number\">10:02</div></td>\n      <td><div class=\"not-number\">1513</div></td>\n      <td><div class=\"not-number\">am</div></td>\n    </tr>\n    <tr>\n      <th>license_type</th>\n      <th>category</th>\n      <th>191388</th>\n      <th>3360</th>\n      <th>3360</th>\n      <th>3</th>\n      <th>NaN</th>\n      <th>NaN</th>\n      <td><div class=\"not-number\">by-nc-nd</div></td>\n      <td><div class=\"not-number\">by-nc-nd</div></td>\n      <td><div class=\"not-number\">by-nc-sa</div></td>\n      <td><div class=\"not-number\">by-nc-sa</div></td>\n      <td><div class=\"not-number\">by-sa</div></td>\n    </tr>\n    <tr>\n      <th>license_detail</th>\n      <th>category</th>\n      <th>174720</th>\n      <th>3360</th>\n      <th>3360</th>\n      <th>3</th>\n      <th>NaN</th>\n      <th>NaN</th>\n      <td><div class=\"not-number\">2.5</div></td>\n      <td><div class=\"not-number\">3.0</div></td>\n      <td><div class=\"not-number\">4.0</div></td>\n      <td><div class=\"not-number\">4.0</div></td>\n      <td><div class=\"not-number\">4.0</div></td>\n    </tr>\n    <tr>\n      <th>license</th>\n      <th>object</th>\n      <th>312348</th>\n      <th>3360</th>\n      <th>3360</th>\n      <th>7</th>\n      <th>NaN</th>\n      <th>NaN</th>\n      <td><div class=\"not-number\">//creativecommons.org/licenses/by-nc-nd/2.5/</div></td>\n      <td><div class=\"not-number\">//creativecommons.org/licenses/by-nc-nd/4.0/</div></td>\n      <td><div class=\"not-number\">//creativecommons.org/licenses/by-nc-sa/4.0/</div></td>\n      <td><div class=\"not-number\">//creativecommons.org/licenses/by-nc-sa/4.0/</div></td>\n      <td><div class=\"not-number\">//creativecommons.org/licenses/by-sa/4.0/</div></td>\n    </tr>\n    <tr>\n      <th>url</th>\n      <th>object</th>\n      <th>275035</th>\n      <th>3360</th>\n      <th>3360</th>\n      <th>3360</th>\n      <th>NaN</th>\n      <th>NaN</th>\n      <td><div class=\"not-number\">https://www.xeno-canto.org/100121</div></td>\n      <td><div class=\"not-number\">https://www.xeno-canto.org/160005</div></td>\n      <td><div class=\"not-number\">https://www.xeno-canto.org/235966</div></td>\n      <td><div class=\"not-number\">https://www.xeno-canto.org/34582</div></td>\n      <td><div class=\"not-number\">https://www.xeno-canto.org/99812</div></td>\n    </tr>\n    <tr>\n      <th>download</th>\n      <th>object</th>\n      <th>285115</th>\n      <th>3360</th>\n      <th>3360</th>\n      <th>3360</th>\n      <th>NaN</th>\n      <th>NaN</th>\n      <td><div class=\"not-number\">//www.xeno-canto.org/100121/download</div></td>\n      <td><div class=\"not-number\">//www.xeno-canto.org/160005/download</div></td>\n      <td><div class=\"not-number\">//www.xeno-canto.org/235966/download</div></td>\n      <td><div class=\"not-number\">//www.xeno-canto.org/34582/download</div></td>\n      <td><div class=\"not-number\">//www.xeno-canto.org/99812/download</div></td>\n    </tr>\n  </tbody>\n</table>",
      "text/plain": "                                                                                                                         min  \\\n               dtype          sizeof len  count nunique mean        std                                                        \ndownloaded     bool           94080  3360 3360  1       NaN         NaN                                                 True   \nspecies        category       178080 3360 3360  168     NaN         NaN                                                 GWFG   \nid             int64          94080  3360 3360  3360     213310.169 108044.426                                          1133   \nsci_name       category       227200 3360 3360  168     NaN         NaN                                      Anser albifrons   \ncom_name       category       220320 3360 3360  168     NaN         NaN                          Greater White-fronted Goose   \nsubspecies     object         169597 3360 3360  206     NaN         NaN                                                        \nrecordist      object         211704 3360 3360  291     NaN         NaN                                              AJ Knue   \ncountry        object         203070 3360 3360  3       NaN         NaN                                               Canada   \nlocality       object         316498 3360 3360  1741    NaN         NaN                Bahía la Ventosa, Salina Cruz, Oaxaca   \nlat            float64        80640  3360 3308  1769     37.891     9.895                                               15.6   \nlng            float64        80640  3360 3308  1783    -107.703    19.352                                              -177   \ntype           object         191622 3360 3360  338     NaN         NaN                                   \"chekurrrrrr\" call   \nquality        category       194711 3360 3360  6       NaN         NaN                                                    A   \ndate           datetime64[ns] 430080 3360 3360  1567    NaN         NaN                                  1985-06-25 00:00:00   \ntime           object         180924 3360 3360  894     NaN         NaN                                                    ?   \nlicense_type   category       191388 3360 3360  3       NaN         NaN                                             by-nc-nd   \nlicense_detail category       174720 3360 3360  3       NaN         NaN                                                  2.5   \nlicense        object         312348 3360 3360  7       NaN         NaN         //creativecommons.org/licenses/by-nc-nd/2.5/   \nurl            object         275035 3360 3360  3360    NaN         NaN                    https://www.xeno-canto.org/100121   \ndownload       object         285115 3360 3360  3360    NaN         NaN                 //www.xeno-canto.org/100121/download   \n\n                                                                                                                                25%  \\\n               dtype          sizeof len  count nunique mean        std                                                               \ndownloaded     bool           94080  3360 3360  1       NaN         NaN                                                        True   \nspecies        category       178080 3360 3360  168     NaN         NaN                                                        GBTE   \nid             int64          94080  3360 3360  3360     213310.169 108044.426                                               138144   \nsci_name       category       227200 3360 3360  168     NaN         NaN                                       Gelochelidon nilotica   \ncom_name       category       220320 3360 3360  168     NaN         NaN                                            Gull-billed Tern   \nsubspecies     object         169597 3360 3360  206     NaN         NaN                                                               \nrecordist      object         211704 3360 3360  291     NaN         NaN                                               Frank Lambert   \ncountry        object         203070 3360 3360  3       NaN         NaN                                               United States   \nlocality       object         316498 3360 3360  1741    NaN         NaN         Deseret Land and Livestock Ranch, Rich County, Utah   \nlat            float64        80640  3360 3308  1769     37.891     9.895                                                      31.9   \nlng            float64        80640  3360 3308  1783    -107.703    19.352                                                     -118   \ntype           object         191622 3360 3360  338     NaN         NaN                                                        call   \nquality        category       194711 3360 3360  6       NaN         NaN                                                           A   \ndate           datetime64[ns] 430080 3360 3360  1567    NaN         NaN                                         2011-10-12 00:00:00   \ntime           object         180924 3360 3360  894     NaN         NaN                                                        0834   \nlicense_type   category       191388 3360 3360  3       NaN         NaN                                                    by-nc-nd   \nlicense_detail category       174720 3360 3360  3       NaN         NaN                                                         3.0   \nlicense        object         312348 3360 3360  7       NaN         NaN                //creativecommons.org/licenses/by-nc-nd/4.0/   \nurl            object         275035 3360 3360  3360    NaN         NaN                           https://www.xeno-canto.org/160005   \ndownload       object         285115 3360 3360  3360    NaN         NaN                        //www.xeno-canto.org/160005/download   \n\n                                                                                                                         50%  \\\n               dtype          sizeof len  count nunique mean        std                                                        \ndownloaded     bool           94080  3360 3360  1       NaN         NaN                                                 True   \nspecies        category       178080 3360 3360  168     NaN         NaN                                                 REVI   \nid             int64          94080  3360 3360  3360     213310.169 108044.426                                        193659   \nsci_name       category       227200 3360 3360  168     NaN         NaN                                      Vireo olivaceus   \ncom_name       category       220320 3360 3360  168     NaN         NaN                                       Red-eyed Vireo   \nsubspecies     object         169597 3360 3360  206     NaN         NaN                                                        \nrecordist      object         211704 3360 3360  291     NaN         NaN                                 Matthias Feuersenger   \ncountry        object         203070 3360 3360  3       NaN         NaN                                        United States   \nlocality       object         316498 3360 3360  1741    NaN         NaN                    May Lake, Yosemite NP, California   \nlat            float64        80640  3360 3308  1769     37.891     9.895                                               35.8   \nlng            float64        80640  3360 3308  1783    -107.703    19.352                                              -110   \ntype           object         191622 3360 3360  338     NaN         NaN                                           call, male   \nquality        category       194711 3360 3360  6       NaN         NaN                                                    B   \ndate           datetime64[ns] 430080 3360 3360  1567    NaN         NaN                                  2013-09-18 00:00:00   \ntime           object         180924 3360 3360  894     NaN         NaN                                                10:02   \nlicense_type   category       191388 3360 3360  3       NaN         NaN                                             by-nc-sa   \nlicense_detail category       174720 3360 3360  3       NaN         NaN                                                  4.0   \nlicense        object         312348 3360 3360  7       NaN         NaN         //creativecommons.org/licenses/by-nc-sa/4.0/   \nurl            object         275035 3360 3360  3360    NaN         NaN                    https://www.xeno-canto.org/235966   \ndownload       object         285115 3360 3360  3360    NaN         NaN                 //www.xeno-canto.org/235966/download   \n\n                                                                                                                         75%  \\\n               dtype          sizeof len  count nunique mean        std                                                        \ndownloaded     bool           94080  3360 3360  1       NaN         NaN                                                 True   \nspecies        category       178080 3360 3360  168     NaN         NaN                                                 NOWA   \nid             int64          94080  3360 3360  3360     213310.169 108044.426                                        308285   \nsci_name       category       227200 3360 3360  168     NaN         NaN                              Parkesia noveboracensis   \ncom_name       category       220320 3360 3360  168     NaN         NaN                                 Northern Waterthrush   \nsubspecies     object         169597 3360 3360  206     NaN         NaN                                                        \nrecordist      object         211704 3360 3360  291     NaN         NaN                                        Peter Boesman   \ncountry        object         203070 3360 3360  3       NaN         NaN                                        United States   \nlocality       object         316498 3360 3360  1741    NaN         NaN                 Sabal Palm Sanctuary, Cameron, Texas   \nlat            float64        80640  3360 3308  1769     37.891     9.895                                               43.9   \nlng            float64        80640  3360 3308  1783    -107.703    19.352                                               -95   \ntype           object         191622 3360 3360  338     NaN         NaN                                                 song   \nquality        category       194711 3360 3360  6       NaN         NaN                                                    B   \ndate           datetime64[ns] 430080 3360 3360  1567    NaN         NaN                                  2015-06-12 00:00:00   \ntime           object         180924 3360 3360  894     NaN         NaN                                                 1513   \nlicense_type   category       191388 3360 3360  3       NaN         NaN                                             by-nc-sa   \nlicense_detail category       174720 3360 3360  3       NaN         NaN                                                  4.0   \nlicense        object         312348 3360 3360  7       NaN         NaN         //creativecommons.org/licenses/by-nc-sa/4.0/   \nurl            object         275035 3360 3360  3360    NaN         NaN                     https://www.xeno-canto.org/34582   \ndownload       object         285115 3360 3360  3360    NaN         NaN                  //www.xeno-canto.org/34582/download   \n\n                                                                                                                      max  \n               dtype          sizeof len  count nunique mean        std                                                    \ndownloaded     bool           94080  3360 3360  1       NaN         NaN                                              True  \nspecies        category       178080 3360 3360  168     NaN         NaN                                              AMGO  \nid             int64          94080  3360 3360  3360     213310.169 108044.426                                     416744  \nsci_name       category       227200 3360 3360  168     NaN         NaN                                    Spinus tristis  \ncom_name       category       220320 3360 3360  168     NaN         NaN                                American Goldfinch  \nsubspecies     object         169597 3360 3360  206     NaN         NaN                                           zaboria  \nrecordist      object         211704 3360 3360  291     NaN         NaN                                          tetiaroa  \ncountry        object         203070 3360 3360  3       NaN         NaN                                     United States  \nlocality       object         316498 3360 3360  1741    NaN         NaN                                 west of Thorp, WA  \nlat            float64        80640  3360 3308  1769     37.891     9.895                                            71.3  \nlng            float64        80640  3360 3308  1783    -107.703    19.352                                            -54  \ntype           object         191622 3360 3360  338     NaN         NaN                                          wipe-out  \nquality        category       194711 3360 3360  6       NaN         NaN                                          no score  \ndate           datetime64[ns] 430080 3360 3360  1567    NaN         NaN                               2018-05-23 00:00:00  \ntime           object         180924 3360 3360  894     NaN         NaN                                                am  \nlicense_type   category       191388 3360 3360  3       NaN         NaN                                             by-sa  \nlicense_detail category       174720 3360 3360  3       NaN         NaN                                               4.0  \nlicense        object         312348 3360 3360  7       NaN         NaN         //creativecommons.org/licenses/by-sa/4.0/  \nurl            object         275035 3360 3360  3360    NaN         NaN                  https://www.xeno-canto.org/99812  \ndownload       object         285115 3360 3360  3360    NaN         NaN               //www.xeno-canto.org/99812/download"
     },
     "metadata": {},
     "output_type": "display_data",
     "transient": {}
    },
    {
     "data": {
      "text/html": "<table border=\"1\" class=\"dataframe\">\n  <thead>\n    <tr style=\"text-align: right;\">\n      <th></th>\n      <th></th>\n      <th>downloaded</th>\n      <th>species</th>\n      <th>id</th>\n      <th>sci_name</th>\n      <th>com_name</th>\n      <th>subspecies</th>\n      <th>recordist</th>\n      <th>country</th>\n      <th>locality</th>\n      <th>lat</th>\n      <th>lng</th>\n      <th>type</th>\n      <th>quality</th>\n      <th>date</th>\n      <th>time</th>\n      <th>license_type</th>\n      <th>license_detail</th>\n      <th>license</th>\n      <th>url</th>\n      <th>download</th>\n    </tr>\n    <tr>\n      <th>species</th>\n      <th></th>\n      <th></th>\n      <th></th>\n      <th></th>\n      <th></th>\n      <th></th>\n      <th></th>\n      <th></th>\n      <th></th>\n      <th></th>\n      <th></th>\n      <th></th>\n      <th></th>\n      <th></th>\n      <th></th>\n      <th></th>\n      <th></th>\n      <th></th>\n      <th></th>\n      <th></th>\n      <th></th>\n    </tr>\n  </thead>\n  <tbody>\n    <tr>\n      <th>COGA</th>\n      <th>205189</th>\n      <td><div class=\"not-number\">True</div></td>\n      <td><div class=\"not-number\">COGA</div></td>\n      <td>207451</td>\n      <td><div class=\"not-number\">Gallinula galeata</div></td>\n      <td><div class=\"not-number\">Common Gallinule</div></td>\n      <td><div class=\"not-number\">sandvicensis</div></td>\n      <td><div class=\"not-number\">Ross Gallardy</div></td>\n      <td><div class=\"not-number\">United States</div></td>\n      <td><div class=\"not-number\">Kailua, Honolulu County, Hawaii</div></td>\n      <td>21.4</td>\n      <td>-158.0</td>\n      <td><div class=\"not-number\">call</div></td>\n      <td><div class=\"not-number\">B</div></td>\n      <td><div class=\"not-number\">2014-12-21 00:00:00</div></td>\n      <td><div class=\"not-number\">07:30</div></td>\n      <td><div class=\"not-number\">by-nc-sa</div></td>\n      <td><div class=\"not-number\">4.0</div></td>\n      <td><div class=\"not-number\">//creativecommons.org/licenses/by-nc-sa/4.0/</div></td>\n      <td><div class=\"not-number\">https://www.xeno-canto.org/207451</div></td>\n      <td><div class=\"not-number\">//www.xeno-canto.org/207451/download</div></td>\n    </tr>\n    <tr>\n      <th>INDO</th>\n      <th>18832</th>\n      <td><div class=\"not-number\">True</div></td>\n      <td><div class=\"not-number\">INDO</div></td>\n      <td>398616</td>\n      <td><div class=\"not-number\">Columbina inca</div></td>\n      <td><div class=\"not-number\">Inca Dove</div></td>\n      <td><div class=\"not-number\"></div></td>\n      <td><div class=\"not-number\">Manuel Grosselet</div></td>\n      <td><div class=\"not-number\">Mexico</div></td>\n      <td><div class=\"not-number\">Lomas de Bezares Miguel Hidalgo Mexico city</div></td>\n      <td>19.4</td>\n      <td>-99.2</td>\n      <td><div class=\"not-number\">song</div></td>\n      <td><div class=\"not-number\">B</div></td>\n      <td><div class=\"not-number\">2018-01-07 00:00:00</div></td>\n      <td><div class=\"not-number\">08:00</div></td>\n      <td><div class=\"not-number\">by-nc-sa</div></td>\n      <td><div class=\"not-number\">4.0</div></td>\n      <td><div class=\"not-number\">//creativecommons.org/licenses/by-nc-sa/4.0/</div></td>\n      <td><div class=\"not-number\">https://www.xeno-canto.org/398616</div></td>\n      <td><div class=\"not-number\">//www.xeno-canto.org/398616/download</div></td>\n    </tr>\n    <tr>\n      <th>EWPW</th>\n      <th>223194</th>\n      <td><div class=\"not-number\">True</div></td>\n      <td><div class=\"not-number\">EWPW</div></td>\n      <td>188611</td>\n      <td><div class=\"not-number\">Antrostomus vociferus</div></td>\n      <td><div class=\"not-number\">Eastern Whip-poor-will</div></td>\n      <td><div class=\"not-number\"></div></td>\n      <td><div class=\"not-number\">David Jonas Weber</div></td>\n      <td><div class=\"not-number\">United States</div></td>\n      <td><div class=\"not-number\">Gravelly Hill Rd., Salem County, New Jersey</div></td>\n      <td>39.5</td>\n      <td>-75.4</td>\n      <td><div class=\"not-number\">song</div></td>\n      <td><div class=\"not-number\">C</div></td>\n      <td><div class=\"not-number\">2014-07-25 00:00:00</div></td>\n      <td><div class=\"not-number\">05:30</div></td>\n      <td><div class=\"not-number\">by-nc-sa</div></td>\n      <td><div class=\"not-number\">4.0</div></td>\n      <td><div class=\"not-number\">//creativecommons.org/licenses/by-nc-sa/4.0/</div></td>\n      <td><div class=\"not-number\">https://www.xeno-canto.org/188611</div></td>\n      <td><div class=\"not-number\">//www.xeno-canto.org/188611/download</div></td>\n    </tr>\n    <tr>\n      <th>NUWO</th>\n      <th>113835</th>\n      <td><div class=\"not-number\">True</div></td>\n      <td><div class=\"not-number\">NUWO</div></td>\n      <td>301366</td>\n      <td><div class=\"not-number\">Picoides nuttallii</div></td>\n      <td><div class=\"not-number\">Nuttall's Woodpecker</div></td>\n      <td><div class=\"not-number\"></div></td>\n      <td><div class=\"not-number\">Denise Wight</div></td>\n      <td><div class=\"not-number\">United States</div></td>\n      <td><div class=\"not-number\">Moraga, Contra Costa County, California</div></td>\n      <td>37.8</td>\n      <td>-122.0</td>\n      <td><div class=\"not-number\">Hawk mobbing call, alarm call</div></td>\n      <td><div class=\"not-number\">C</div></td>\n      <td><div class=\"not-number\">2016-01-25 00:00:00</div></td>\n      <td><div class=\"not-number\">10:00</div></td>\n      <td><div class=\"not-number\">by-nc-sa</div></td>\n      <td><div class=\"not-number\">4.0</div></td>\n      <td><div class=\"not-number\">//creativecommons.org/licenses/by-nc-sa/4.0/</div></td>\n      <td><div class=\"not-number\">https://www.xeno-canto.org/301366</div></td>\n      <td><div class=\"not-number\">//www.xeno-canto.org/301366/download</div></td>\n    </tr>\n    <tr>\n      <th>BBWO</th>\n      <th>80808</th>\n      <td><div class=\"not-number\">True</div></td>\n      <td><div class=\"not-number\">BBWO</div></td>\n      <td>335436</td>\n      <td><div class=\"not-number\">Picoides arcticus</div></td>\n      <td><div class=\"not-number\">Black-backed Woodpecker</div></td>\n      <td><div class=\"not-number\"></div></td>\n      <td><div class=\"not-number\">Lance A. M. Benner</div></td>\n      <td><div class=\"not-number\">United States</div></td>\n      <td><div class=\"not-number\">Blackrock Trailhead, Tulare County, California</div></td>\n      <td>36.2</td>\n      <td>-118.0</td>\n      <td><div class=\"not-number\">drumming, male</div></td>\n      <td><div class=\"not-number\">no score</div></td>\n      <td><div class=\"not-number\">2016-09-17 00:00:00</div></td>\n      <td><div class=\"not-number\">16:41</div></td>\n      <td><div class=\"not-number\">by-nc-sa</div></td>\n      <td><div class=\"not-number\">4.0</div></td>\n      <td><div class=\"not-number\">//creativecommons.org/licenses/by-nc-sa/4.0/</div></td>\n      <td><div class=\"not-number\">https://www.xeno-canto.org/335436</div></td>\n      <td><div class=\"not-number\">//www.xeno-canto.org/335436/download</div></td>\n    </tr>\n    <tr>\n      <th>HUVI</th>\n      <th>117936</th>\n      <td><div class=\"not-number\">True</div></td>\n      <td><div class=\"not-number\">HUVI</div></td>\n      <td>297126</td>\n      <td><div class=\"not-number\">Vireo huttoni</div></td>\n      <td><div class=\"not-number\">Hutton's Vireo</div></td>\n      <td><div class=\"not-number\"></div></td>\n      <td><div class=\"not-number\">Paul Marvin</div></td>\n      <td><div class=\"not-number\">United States</div></td>\n      <td><div class=\"not-number\">Kickapoo Cavern State Park, Brackettville, Texas</div></td>\n      <td>29.6</td>\n      <td>-100.0</td>\n      <td><div class=\"not-number\">song</div></td>\n      <td><div class=\"not-number\">C</div></td>\n      <td><div class=\"not-number\">2012-04-08 00:00:00</div></td>\n      <td><div class=\"not-number\">07:58</div></td>\n      <td><div class=\"not-number\">by-nc-sa</div></td>\n      <td><div class=\"not-number\">4.0</div></td>\n      <td><div class=\"not-number\">//creativecommons.org/licenses/by-nc-sa/4.0/</div></td>\n      <td><div class=\"not-number\">https://www.xeno-canto.org/297126</div></td>\n      <td><div class=\"not-number\">//www.xeno-canto.org/297126/download</div></td>\n    </tr>\n    <tr>\n      <th>MGWA</th>\n      <th>89731</th>\n      <td><div class=\"not-number\">True</div></td>\n      <td><div class=\"not-number\">MGWA</div></td>\n      <td>326299</td>\n      <td><div class=\"not-number\">Geothlypis tolmiei</div></td>\n      <td><div class=\"not-number\">MacGillivray's Warbler</div></td>\n      <td><div class=\"not-number\"></div></td>\n      <td><div class=\"not-number\">Lance A. M. Benner</div></td>\n      <td><div class=\"not-number\">United States</div></td>\n      <td><div class=\"not-number\">Buckhorn Campground, San Gabriel Mountains, Los Angeles County, California</div></td>\n      <td>34.3</td>\n      <td>-118.0</td>\n      <td><div class=\"not-number\">male, song</div></td>\n      <td><div class=\"not-number\">no score</div></td>\n      <td><div class=\"not-number\">2016-06-28 00:00:00</div></td>\n      <td><div class=\"not-number\">10:49</div></td>\n      <td><div class=\"not-number\">by-nc-sa</div></td>\n      <td><div class=\"not-number\">4.0</div></td>\n      <td><div class=\"not-number\">//creativecommons.org/licenses/by-nc-sa/4.0/</div></td>\n      <td><div class=\"not-number\">https://www.xeno-canto.org/326299</div></td>\n      <td><div class=\"not-number\">//www.xeno-canto.org/326299/download</div></td>\n    </tr>\n    <tr>\n      <th>PUFI</th>\n      <th>159786</th>\n      <td><div class=\"not-number\">True</div></td>\n      <td><div class=\"not-number\">PUFI</div></td>\n      <td>254326</td>\n      <td><div class=\"not-number\">Haemorhous purpureus</div></td>\n      <td><div class=\"not-number\">Purple Finch</div></td>\n      <td><div class=\"not-number\"></div></td>\n      <td><div class=\"not-number\">Iain</div></td>\n      <td><div class=\"not-number\">Canada</div></td>\n      <td><div class=\"not-number\">Algonquin Highlands, Haliburton County, Ontario</div></td>\n      <td>45.3</td>\n      <td>-78.8</td>\n      <td><div class=\"not-number\">song</div></td>\n      <td><div class=\"not-number\">C</div></td>\n      <td><div class=\"not-number\">2015-06-27 00:00:00</div></td>\n      <td><div class=\"not-number\">11:00</div></td>\n      <td><div class=\"not-number\">by-nc-sa</div></td>\n      <td><div class=\"not-number\">4.0</div></td>\n      <td><div class=\"not-number\">//creativecommons.org/licenses/by-nc-sa/4.0/</div></td>\n      <td><div class=\"not-number\">https://www.xeno-canto.org/254326</div></td>\n      <td><div class=\"not-number\">//www.xeno-canto.org/254326/download</div></td>\n    </tr>\n    <tr>\n      <th>CAFI</th>\n      <th>46804</th>\n      <td><div class=\"not-number\">True</div></td>\n      <td><div class=\"not-number\">CAFI</div></td>\n      <td>369971</td>\n      <td><div class=\"not-number\">Haemorhous cassinii</div></td>\n      <td><div class=\"not-number\">Cassin's Finch</div></td>\n      <td><div class=\"not-number\"></div></td>\n      <td><div class=\"not-number\">Eric DeFonso</div></td>\n      <td><div class=\"not-number\">United States</div></td>\n      <td><div class=\"not-number\">Dunton Rd area, San Juan National Forest, Dolores County, Colorado</div></td>\n      <td>37.8</td>\n      <td>-108.0</td>\n      <td><div class=\"not-number\">song</div></td>\n      <td><div class=\"not-number\">A</div></td>\n      <td><div class=\"not-number\">2016-06-28 00:00:00</div></td>\n      <td><div class=\"not-number\">15:00</div></td>\n      <td><div class=\"not-number\">by-nc-sa</div></td>\n      <td><div class=\"not-number\">4.0</div></td>\n      <td><div class=\"not-number\">//creativecommons.org/licenses/by-nc-sa/4.0/</div></td>\n      <td><div class=\"not-number\">https://www.xeno-canto.org/369971</div></td>\n      <td><div class=\"not-number\">//www.xeno-canto.org/369971/download</div></td>\n    </tr>\n    <tr>\n      <th>AMGO</th>\n      <th>256886</th>\n      <td><div class=\"not-number\">True</div></td>\n      <td><div class=\"not-number\">AMGO</div></td>\n      <td>153552</td>\n      <td><div class=\"not-number\">Spinus tristis</div></td>\n      <td><div class=\"not-number\">American Goldfinch</div></td>\n      <td><div class=\"not-number\"></div></td>\n      <td><div class=\"not-number\">Mike Schanbacher</div></td>\n      <td><div class=\"not-number\">United States</div></td>\n      <td><div class=\"not-number\">Falmouth, Barnstable, Massachusetts</div></td>\n      <td>41.5</td>\n      <td>-70.7</td>\n      <td><div class=\"not-number\">call, male</div></td>\n      <td><div class=\"not-number\">B</div></td>\n      <td><div class=\"not-number\">2013-05-01 00:00:00</div></td>\n      <td><div class=\"not-number\">12:00</div></td>\n      <td><div class=\"not-number\">by-nc-sa</div></td>\n      <td><div class=\"not-number\">3.0</div></td>\n      <td><div class=\"not-number\">//creativecommons.org/licenses/by-nc-sa/3.0/</div></td>\n      <td><div class=\"not-number\">https://www.xeno-canto.org/153552</div></td>\n      <td><div class=\"not-number\">//www.xeno-canto.org/153552/download</div></td>\n    </tr>\n  </tbody>\n</table>",
      "text/plain": "                downloaded species      id               sci_name                 com_name    subspecies           recordist  \\\nspecies                                                                                                                        \nCOGA    205189        True    COGA  207451      Gallinula galeata         Common Gallinule  sandvicensis       Ross Gallardy   \nINDO    18832         True    INDO  398616         Columbina inca                Inca Dove                  Manuel Grosselet   \nEWPW    223194        True    EWPW  188611  Antrostomus vociferus   Eastern Whip-poor-will                 David Jonas Weber   \nNUWO    113835        True    NUWO  301366     Picoides nuttallii     Nuttall's Woodpecker                      Denise Wight   \nBBWO    80808         True    BBWO  335436      Picoides arcticus  Black-backed Woodpecker                Lance A. M. Benner   \nHUVI    117936        True    HUVI  297126          Vireo huttoni           Hutton's Vireo                       Paul Marvin   \nMGWA    89731         True    MGWA  326299     Geothlypis tolmiei   MacGillivray's Warbler                Lance A. M. Benner   \nPUFI    159786        True    PUFI  254326   Haemorhous purpureus             Purple Finch                              Iain   \nCAFI    46804         True    CAFI  369971    Haemorhous cassinii           Cassin's Finch                      Eric DeFonso   \nAMGO    256886        True    AMGO  153552         Spinus tristis       American Goldfinch                  Mike Schanbacher   \n\n                      country                                                                    locality     lat      lng  \\\nspecies                                                                                                                      \nCOGA    205189  United States                                             Kailua, Honolulu County, Hawaii  21.391 -157.743   \nINDO    18832          Mexico                                 Lomas de Bezares Miguel Hidalgo Mexico city  19.391  -99.244   \nEWPW    223194  United States                                 Gravelly Hill Rd., Salem County, New Jersey  39.495  -75.355   \nNUWO    113835  United States                                     Moraga, Contra Costa County, California  37.832 -122.134   \nBBWO    80808   United States                              Blackrock Trailhead, Tulare County, California  36.175 -118.270   \nHUVI    117936  United States                            Kickapoo Cavern State Park, Brackettville, Texas  29.618 -100.451   \nMGWA    89731   United States  Buckhorn Campground, San Gabriel Mountains, Los Angeles County, California  34.346 -117.915   \nPUFI    159786         Canada                             Algonquin Highlands, Haliburton County, Ontario  45.306  -78.809   \nCAFI    46804   United States          Dunton Rd area, San Juan National Forest, Dolores County, Colorado  37.780 -108.040   \nAMGO    256886  United States                                         Falmouth, Barnstable, Massachusetts  41.522  -70.668   \n\n                                         type   quality       date   time license_type license_detail  \\\nspecies                                                                                                 \nCOGA    205189                           call         B 2014-12-21  07:30     by-nc-sa            4.0   \nINDO    18832                            song         B 2018-01-07  08:00     by-nc-sa            4.0   \nEWPW    223194                           song         C 2014-07-25  05:30     by-nc-sa            4.0   \nNUWO    113835  Hawk mobbing call, alarm call         C 2016-01-25  10:00     by-nc-sa            4.0   \nBBWO    80808                  drumming, male  no score 2016-09-17  16:41     by-nc-sa            4.0   \nHUVI    117936                           song         C 2012-04-08  07:58     by-nc-sa            4.0   \nMGWA    89731                      male, song  no score 2016-06-28  10:49     by-nc-sa            4.0   \nPUFI    159786                           song         C 2015-06-27  11:00     by-nc-sa            4.0   \nCAFI    46804                            song         A 2016-06-28  15:00     by-nc-sa            4.0   \nAMGO    256886                     call, male         B 2013-05-01  12:00     by-nc-sa            3.0   \n\n                                                     license                                url  \\\nspecies                                                                                           \nCOGA    205189  //creativecommons.org/licenses/by-nc-sa/4.0/  https://www.xeno-canto.org/207451   \nINDO    18832   //creativecommons.org/licenses/by-nc-sa/4.0/  https://www.xeno-canto.org/398616   \nEWPW    223194  //creativecommons.org/licenses/by-nc-sa/4.0/  https://www.xeno-canto.org/188611   \nNUWO    113835  //creativecommons.org/licenses/by-nc-sa/4.0/  https://www.xeno-canto.org/301366   \nBBWO    80808   //creativecommons.org/licenses/by-nc-sa/4.0/  https://www.xeno-canto.org/335436   \nHUVI    117936  //creativecommons.org/licenses/by-nc-sa/4.0/  https://www.xeno-canto.org/297126   \nMGWA    89731   //creativecommons.org/licenses/by-nc-sa/4.0/  https://www.xeno-canto.org/326299   \nPUFI    159786  //creativecommons.org/licenses/by-nc-sa/4.0/  https://www.xeno-canto.org/254326   \nCAFI    46804   //creativecommons.org/licenses/by-nc-sa/4.0/  https://www.xeno-canto.org/369971   \nAMGO    256886  //creativecommons.org/licenses/by-nc-sa/3.0/  https://www.xeno-canto.org/153552   \n\n                                            download  \nspecies                                               \nCOGA    205189  //www.xeno-canto.org/207451/download  \nINDO    18832   //www.xeno-canto.org/398616/download  \nEWPW    223194  //www.xeno-canto.org/188611/download  \nNUWO    113835  //www.xeno-canto.org/301366/download  \nBBWO    80808   //www.xeno-canto.org/335436/download  \nHUVI    117936  //www.xeno-canto.org/297126/download  \nMGWA    89731   //www.xeno-canto.org/326299/download  \nPUFI    159786  //www.xeno-canto.org/254326/download  \nCAFI    46804   //www.xeno-canto.org/369971/download  \nAMGO    256886  //www.xeno-canto.org/153552/download"
     },
     "metadata": {},
     "output_type": "display_data",
     "transient": {}
    }
   ],
   "source": [
    "# Select recs\n",
    "#   1. countries: Filter recs to these countries\n",
    "#   2. com_names: Filter recs to these species\n",
    "#   3. recs_at_least: Filter species to those with at least this many recs\n",
    "#   4. num_species: Sample this many of the species\n",
    "#   5. num_recs: Sample this many recs per species\n",
    "get_recs_stats = lambda df: dict(sp=df.species.nunique(), recs=len(df))\n",
    "puts_stats = lambda desc: partial(tap, f=lambda df: print('%-15s %12s (sp/recs)' % (desc, '%(sp)s/%(recs)s' % get_recs_stats(df))))\n",
    "countries, com_names = countries_na, com_names_ca  # 400k/9.4k -> 60k/1.1k -> 35k/334\n",
    "# recs_at_least, num_species, num_recs = 100, 100, 100  # ca[334/35k -> 127/25k -> 100/21k -> 100/10k   -> 100/10k]\n",
    "# recs_at_least, num_species, num_recs =  50, 100, 100  # ca[334/35k -> 224/32k -> 100/16k -> 100/ 9.0k -> 100/ 9.0k]\n",
    "# recs_at_least, num_species, num_recs =   0, 100, 100  # ca[334/35k -> 334/35k -> 100/12k -> 100/ 6.8k ->  99/ 6.8k]\n",
    "# recs_at_least, num_species, num_recs =   0, 168, 100  # ca[334/34k -> 334/34k -> 168/18k -> 168/11k   -> 167/11k]    # (old 'all')\n",
    "# recs_at_least, num_species, num_recs =   0, 168,  20  # ca[334/34k -> 334/35k -> 168/18k -> 168/ 3.2k -> 167/ 3.2k]  # (old 'recs')\n",
    "recs_at_least, num_species, num_recs =  20, 168,  20    # ca[334/35k -> 296/35k -> 168/20k -> 168/ 3.4k -> 168/ 3.4k]  # (old 'recs')\n",
    "# recs_at_least, num_species, num_recs =  20, 50,  100  # Faster dev\n",
    "# recs_at_least, num_species, num_recs =  20, 50,  50   # Faster dev\n",
    "# recs_at_least, num_species, num_recs =  20, 50,  20   # Faster dev\n",
    "# recs_at_least, num_species, num_recs =  20, 50,  10   # Faster dev\n",
    "# recs_at_least, num_species, num_recs =  20, 50,  5    # Faster dev\n",
    "xcs = (xc.metadata\n",
    "    .pipe(puts_stats('all'))\n",
    "    # 1. countries: Filter recs to these countries\n",
    "    [lambda df: df.country.isin(countries)]\n",
    "    .pipe(puts_stats('countries'))\n",
    "    # 2. com_names: Filter recs to these species\n",
    "    [lambda df: df.com_name.isin(com_names)]\n",
    "    .pipe(puts_stats('com_names'))\n",
    "    # Omit not-downloaded recs (should be few within the selected countries)\n",
    "    [lambda df: df.downloaded]\n",
    "    .pipe(puts_stats('(downloaded)'))\n",
    "    # Remove empty cats for perf\n",
    "    .pipe(df_remove_unused_categories)\n",
    "    # 3. recs_at_least: Filter species to those with at least this many recs\n",
    "    [lambda df: df.species.isin(df.species.value_counts()[lambda s: s >= recs_at_least].index)]\n",
    "    .pipe(puts_stats('recs_at_least'))\n",
    "    # 4. num_species: Sample this many of the species\n",
    "    [lambda df: df.species.isin(df.species.drop_duplicates().pipe(lambda s: s.sample(n=min(len(s), num_species), random_state=0)))]\n",
    "    .pipe(puts_stats('num_species'))\n",
    "    # 5. num_recs: Sample this many recs per species\n",
    "    #   - Remove empty cats else .groupby fails on empty groups\n",
    "    .pipe(df_remove_unused_categories)\n",
    "    .groupby('species').apply(lambda g: g.sample(n=min(len(g), num_recs), random_state=0))\n",
    "    .pipe(puts_stats('num_recs'))\n",
    "    # Drop species with <2 recs, else StratifiedShuffleSplit complains (e.g. 'TUVU')\n",
    "    [lambda df: df.species.isin(df.species.value_counts()[lambda s: s >= 2].index)]\n",
    "    .pipe(puts_stats('recs ≥ 2'))\n",
    "    # Clean up for downstream\n",
    "    .pipe(df_remove_unused_categories)\n",
    ")\n",
    "_recs_stats = get_recs_stats(xcs)\n",
    "recs_stats = ', '.join(['%s[%s]' % (k, v) for k, v in _recs_stats.items()])\n",
    "display(\n",
    "    recs_stats,\n",
    "    df_summary(xcs).T,\n",
    "    xcs.sample(n=10, random_state=0).sort_values('species'),\n",
    ")"
   ]
  },
  {
   "cell_type": "code",
   "execution_count": null,
   "metadata": {},
   "outputs": [
    {
     "data": {
      "text/plain": "3360"
     },
     "metadata": {},
     "output_type": "display_data",
     "transient": {}
    }
   ],
   "source": [
    "xcs_paths = [\n",
    "    ('xc', f'{data_dir}/xc/data/{row.species}/{row.id}/audio.mp3')\n",
    "    for row in df_rows(xcs)\n",
    "]\n",
    "joblib.dump(xcs_paths, '/tmp/xcs_paths')  # In case you want to run load.recs in a terminal (it's long and verbose)\n",
    "display(\n",
    "    len(xcs_paths),\n",
    "    # xcs_paths[:2],\n",
    ")"
   ]
  },
  {
   "cell_type": "code",
   "execution_count": null,
   "metadata": {
    "once": false
   },
   "outputs": [
    {
     "data": {
      "text/html": "<table border=\"1\" class=\"dataframe\">\n  <thead>\n    <tr style=\"text-align: right;\">\n      <th></th>\n      <th></th>\n      <th></th>\n      <th></th>\n      <th></th>\n      <th></th>\n      <th></th>\n      <th></th>\n      <th>min</th>\n      <th>25%</th>\n      <th>50%</th>\n      <th>75%</th>\n      <th>max</th>\n    </tr>\n    <tr>\n      <th></th>\n      <th>dtype</th>\n      <th>sizeof</th>\n      <th>len</th>\n      <th>count</th>\n      <th>nunique</th>\n      <th>mean</th>\n      <th>std</th>\n      <th></th>\n      <th></th>\n      <th></th>\n      <th></th>\n      <th></th>\n    </tr>\n  </thead>\n  <tbody>\n    <tr>\n      <th>dataset</th>\n      <th>object</th>\n      <th>171360</th>\n      <th>3360</th>\n      <th>3360</th>\n      <th>1</th>\n      <th>NaN</th>\n      <th>NaN</th>\n      <td><div class=\"not-number\">xc</div></td>\n      <td><div class=\"not-number\">xc</div></td>\n      <td><div class=\"not-number\">xc</div></td>\n      <td><div class=\"not-number\">xc</div></td>\n      <td><div class=\"not-number\">xc</div></td>\n    </tr>\n    <tr>\n      <th>species</th>\n      <th>category</th>\n      <th>178080</th>\n      <th>3360</th>\n      <th>3360</th>\n      <th>168</th>\n      <th>NaN</th>\n      <th>NaN</th>\n      <td><div class=\"not-number\">GWFG</div></td>\n      <td><div class=\"not-number\">GBTE</div></td>\n      <td><div class=\"not-number\">REVI</div></td>\n      <td><div class=\"not-number\">NOWA</div></td>\n      <td><div class=\"not-number\">AMGO</div></td>\n    </tr>\n    <tr>\n      <th>species_com_name</th>\n      <th>category</th>\n      <th>219160</th>\n      <th>3360</th>\n      <th>3360</th>\n      <th>168</th>\n      <th>NaN</th>\n      <th>NaN</th>\n      <td><div class=\"not-number\">Greater White-fronted Goose</div></td>\n      <td><div class=\"not-number\">Gull-billed Tern</div></td>\n      <td><div class=\"not-number\">Red-eyed Vireo</div></td>\n      <td><div class=\"not-number\">Northern Waterthrush</div></td>\n      <td><div class=\"not-number\">American Goldfinch</div></td>\n    </tr>\n    <tr>\n      <th>species_query</th>\n      <th>object</th>\n      <th>178080</th>\n      <th>3360</th>\n      <th>3360</th>\n      <th>168</th>\n      <th>NaN</th>\n      <th>NaN</th>\n      <td><div class=\"not-number\">ACWO</div></td>\n      <td><div class=\"not-number\">CONI</div></td>\n      <td><div class=\"not-number\">LASP</div></td>\n      <td><div class=\"not-number\">RIRA</div></td>\n      <td><div class=\"not-number\">YRWA</div></td>\n    </tr>\n    <tr>\n      <th>duration_s</th>\n      <th>float64</th>\n      <th>80640</th>\n      <th>3360</th>\n      <th>3360</th>\n      <th>3055</th>\n      <th>5.432e+01</th>\n      <th>7.033e+01</th>\n      <td>0.697</td>\n      <td>14.4</td>\n      <td>31.8</td>\n      <td>65.4</td>\n      <td>940</td>\n    </tr>\n    <tr>\n      <th>samples_mb</th>\n      <th>float64</th>\n      <th>80640</th>\n      <th>3360</th>\n      <th>3360</th>\n      <th>3055</th>\n      <th>2.285e+00</th>\n      <th>2.958e+00</th>\n      <td>0.0293</td>\n      <td>0.604</td>\n      <td>1.34</td>\n      <td>2.75</td>\n      <td>39.5</td>\n    </tr>\n    <tr>\n      <th>samples_n</th>\n      <th>int64</th>\n      <th>94080</th>\n      <th>3360</th>\n      <th>3360</th>\n      <th>3055</th>\n      <th>1.198e+06</th>\n      <th>1.551e+06</th>\n      <td>15368</td>\n      <td>316800</td>\n      <td>700992</td>\n      <td>1442746</td>\n      <td>20731931</td>\n    </tr>\n    <tr>\n      <th>basename</th>\n      <th>object</th>\n      <th>181440</th>\n      <th>3360</th>\n      <th>3360</th>\n      <th>1</th>\n      <th>NaN</th>\n      <th>NaN</th>\n      <td><div class=\"not-number\">audio</div></td>\n      <td><div class=\"not-number\">audio</div></td>\n      <td><div class=\"not-number\">audio</div></td>\n      <td><div class=\"not-number\">audio</div></td>\n      <td><div class=\"not-number\">audio</div></td>\n    </tr>\n    <tr>\n      <th>species_longhand</th>\n      <th>category</th>\n      <th>242680</th>\n      <th>3360</th>\n      <th>3360</th>\n      <th>168</th>\n      <th>NaN</th>\n      <th>NaN</th>\n      <td><div class=\"not-number\">Greater White-fronted Goose - GWFG</div></td>\n      <td><div class=\"not-number\">Gull-billed Tern - GBTE</div></td>\n      <td><div class=\"not-number\">Red-eyed Vireo - REVI</div></td>\n      <td><div class=\"not-number\">Northern Waterthrush - NOWA</div></td>\n      <td><div class=\"not-number\">American Goldfinch - AMGO</div></td>\n    </tr>\n    <tr>\n      <th>id</th>\n      <th>object</th>\n      <th>248155</th>\n      <th>3360</th>\n      <th>3360</th>\n      <th>3360</th>\n      <th>NaN</th>\n      <th>NaN</th>\n      <td><div class=\"not-number\">xc/data/ACWO/153315/audio</div></td>\n      <td><div class=\"not-number\">xc/data/CONI/77526/audio</div></td>\n      <td><div class=\"not-number\">xc/data/LASP/72200/audio</div></td>\n      <td><div class=\"not-number\">xc/data/RIRA/408562/audio</div></td>\n      <td><div class=\"not-number\">xc/data/YRWA/78150/audio</div></td>\n    </tr>\n    <tr>\n      <th>path</th>\n      <th>object</th>\n      <th>261595</th>\n      <th>3360</th>\n      <th>3360</th>\n      <th>3360</th>\n      <th>NaN</th>\n      <th>NaN</th>\n      <td><div class=\"not-number\">xc/data/ACWO/153315/audio.mp3</div></td>\n      <td><div class=\"not-number\">xc/data/CONI/77526/audio.mp3</div></td>\n      <td><div class=\"not-number\">xc/data/LASP/72200/audio.mp3</div></td>\n      <td><div class=\"not-number\">xc/data/RIRA/408562/audio.mp3</div></td>\n      <td><div class=\"not-number\">xc/data/YRWA/78150/audio.mp3</div></td>\n    </tr>\n  </tbody>\n</table>",
      "text/plain": "                                                                                                        min  \\\n                 dtype    sizeof len  count nunique mean      std                                             \ndataset          object   171360 3360 3360  1       NaN       NaN                                        xc   \nspecies          category 178080 3360 3360  168     NaN       NaN                                      GWFG   \nspecies_com_name category 219160 3360 3360  168     NaN       NaN               Greater White-fronted Goose   \nspecies_query    object   178080 3360 3360  168     NaN       NaN                                      ACWO   \nduration_s       float64  80640  3360 3360  3055    5.432e+01 7.033e+01                               0.697   \nsamples_mb       float64  80640  3360 3360  3055    2.285e+00 2.958e+00                              0.0293   \nsamples_n        int64    94080  3360 3360  3055    1.198e+06 1.551e+06                               15368   \nbasename         object   181440 3360 3360  1       NaN       NaN                                     audio   \nspecies_longhand category 242680 3360 3360  168     NaN       NaN        Greater White-fronted Goose - GWFG   \nid               object   248155 3360 3360  3360    NaN       NaN                 xc/data/ACWO/153315/audio   \npath             object   261595 3360 3360  3360    NaN       NaN             xc/data/ACWO/153315/audio.mp3   \n\n                                                                                                  25%  \\\n                 dtype    sizeof len  count nunique mean      std                                       \ndataset          object   171360 3360 3360  1       NaN       NaN                                  xc   \nspecies          category 178080 3360 3360  168     NaN       NaN                                GBTE   \nspecies_com_name category 219160 3360 3360  168     NaN       NaN                    Gull-billed Tern   \nspecies_query    object   178080 3360 3360  168     NaN       NaN                                CONI   \nduration_s       float64  80640  3360 3360  3055    5.432e+01 7.033e+01                          14.4   \nsamples_mb       float64  80640  3360 3360  3055    2.285e+00 2.958e+00                         0.604   \nsamples_n        int64    94080  3360 3360  3055    1.198e+06 1.551e+06                        316800   \nbasename         object   181440 3360 3360  1       NaN       NaN                               audio   \nspecies_longhand category 242680 3360 3360  168     NaN       NaN             Gull-billed Tern - GBTE   \nid               object   248155 3360 3360  3360    NaN       NaN            xc/data/CONI/77526/audio   \npath             object   261595 3360 3360  3360    NaN       NaN        xc/data/CONI/77526/audio.mp3   \n\n                                                                                                  50%  \\\n                 dtype    sizeof len  count nunique mean      std                                       \ndataset          object   171360 3360 3360  1       NaN       NaN                                  xc   \nspecies          category 178080 3360 3360  168     NaN       NaN                                REVI   \nspecies_com_name category 219160 3360 3360  168     NaN       NaN                      Red-eyed Vireo   \nspecies_query    object   178080 3360 3360  168     NaN       NaN                                LASP   \nduration_s       float64  80640  3360 3360  3055    5.432e+01 7.033e+01                          31.8   \nsamples_mb       float64  80640  3360 3360  3055    2.285e+00 2.958e+00                          1.34   \nsamples_n        int64    94080  3360 3360  3055    1.198e+06 1.551e+06                        700992   \nbasename         object   181440 3360 3360  1       NaN       NaN                               audio   \nspecies_longhand category 242680 3360 3360  168     NaN       NaN               Red-eyed Vireo - REVI   \nid               object   248155 3360 3360  3360    NaN       NaN            xc/data/LASP/72200/audio   \npath             object   261595 3360 3360  3360    NaN       NaN        xc/data/LASP/72200/audio.mp3   \n\n                                                                                                   75%  \\\n                 dtype    sizeof len  count nunique mean      std                                        \ndataset          object   171360 3360 3360  1       NaN       NaN                                   xc   \nspecies          category 178080 3360 3360  168     NaN       NaN                                 NOWA   \nspecies_com_name category 219160 3360 3360  168     NaN       NaN                 Northern Waterthrush   \nspecies_query    object   178080 3360 3360  168     NaN       NaN                                 RIRA   \nduration_s       float64  80640  3360 3360  3055    5.432e+01 7.033e+01                           65.4   \nsamples_mb       float64  80640  3360 3360  3055    2.285e+00 2.958e+00                           2.75   \nsamples_n        int64    94080  3360 3360  3055    1.198e+06 1.551e+06                        1442746   \nbasename         object   181440 3360 3360  1       NaN       NaN                                audio   \nspecies_longhand category 242680 3360 3360  168     NaN       NaN          Northern Waterthrush - NOWA   \nid               object   248155 3360 3360  3360    NaN       NaN            xc/data/RIRA/408562/audio   \npath             object   261595 3360 3360  3360    NaN       NaN        xc/data/RIRA/408562/audio.mp3   \n\n                                                                                                  max  \n                 dtype    sizeof len  count nunique mean      std                                      \ndataset          object   171360 3360 3360  1       NaN       NaN                                  xc  \nspecies          category 178080 3360 3360  168     NaN       NaN                                AMGO  \nspecies_com_name category 219160 3360 3360  168     NaN       NaN                  American Goldfinch  \nspecies_query    object   178080 3360 3360  168     NaN       NaN                                YRWA  \nduration_s       float64  80640  3360 3360  3055    5.432e+01 7.033e+01                           940  \nsamples_mb       float64  80640  3360 3360  3055    2.285e+00 2.958e+00                          39.5  \nsamples_n        int64    94080  3360 3360  3055    1.198e+06 1.551e+06                      20731931  \nbasename         object   181440 3360 3360  1       NaN       NaN                               audio  \nspecies_longhand category 242680 3360 3360  168     NaN       NaN           American Goldfinch - AMGO  \nid               object   248155 3360 3360  3360    NaN       NaN            xc/data/YRWA/78150/audio  \npath             object   261595 3360 3360  3360    NaN       NaN        xc/data/YRWA/78150/audio.mp3"
     },
     "metadata": {},
     "output_type": "display_data",
     "transient": {}
    },
    {
     "data": {
      "text/html": "<table border=\"1\" class=\"dataframe\">\n  <thead>\n    <tr style=\"text-align: right;\">\n      <th></th>\n      <th>dataset</th>\n      <th>species</th>\n      <th>species_com_name</th>\n      <th>species_query</th>\n      <th>duration_s</th>\n      <th>samples_mb</th>\n      <th>samples_n</th>\n      <th>basename</th>\n      <th>species_longhand</th>\n      <th>id</th>\n      <th>path</th>\n    </tr>\n  </thead>\n  <tbody>\n    <tr>\n      <th>0</th>\n      <td><div class=\"not-number\">xc</div></td>\n      <td><div class=\"not-number\">GWFG</div></td>\n      <td><div class=\"not-number\">Greater White-fronted Goose</div></td>\n      <td><div class=\"not-number\">GWFG</div></td>\n      <td>23.7</td>\n      <td>0.997</td>\n      <td>522850</td>\n      <td><div class=\"not-number\">audio</div></td>\n      <td><div class=\"not-number\">Greater White-fronted Goose - GWFG</div></td>\n      <td><div class=\"not-number\">xc/data/GWFG/149379/audio</div></td>\n      <td><div class=\"not-number\">xc/data/GWFG/149379/audio.mp3</div></td>\n    </tr>\n    <tr>\n      <th>1</th>\n      <td><div class=\"not-number\">xc</div></td>\n      <td><div class=\"not-number\">GWFG</div></td>\n      <td><div class=\"not-number\">Greater White-fronted Goose</div></td>\n      <td><div class=\"not-number\">GWFG</div></td>\n      <td>18.3</td>\n      <td>0.770</td>\n      <td>403780</td>\n      <td><div class=\"not-number\">audio</div></td>\n      <td><div class=\"not-number\">Greater White-fronted Goose - GWFG</div></td>\n      <td><div class=\"not-number\">xc/data/GWFG/276918/audio</div></td>\n      <td><div class=\"not-number\">xc/data/GWFG/276918/audio.mp3</div></td>\n    </tr>\n    <tr>\n      <th>2</th>\n      <td><div class=\"not-number\">xc</div></td>\n      <td><div class=\"not-number\">GWFG</div></td>\n      <td><div class=\"not-number\">Greater White-fronted Goose</div></td>\n      <td><div class=\"not-number\">GWFG</div></td>\n      <td>45.0</td>\n      <td>1.890</td>\n      <td>991296</td>\n      <td><div class=\"not-number\">audio</div></td>\n      <td><div class=\"not-number\">Greater White-fronted Goose - GWFG</div></td>\n      <td><div class=\"not-number\">xc/data/GWFG/210100/audio</div></td>\n      <td><div class=\"not-number\">xc/data/GWFG/210100/audio.mp3</div></td>\n    </tr>\n    <tr>\n      <th>3</th>\n      <td><div class=\"not-number\">xc</div></td>\n      <td><div class=\"not-number\">GWFG</div></td>\n      <td><div class=\"not-number\">Greater White-fronted Goose</div></td>\n      <td><div class=\"not-number\">GWFG</div></td>\n      <td>17.6</td>\n      <td>0.738</td>\n      <td>387072</td>\n      <td><div class=\"not-number\">audio</div></td>\n      <td><div class=\"not-number\">Greater White-fronted Goose - GWFG</div></td>\n      <td><div class=\"not-number\">xc/data/GWFG/323113/audio</div></td>\n      <td><div class=\"not-number\">xc/data/GWFG/323113/audio.mp3</div></td>\n    </tr>\n    <tr>\n      <th>4</th>\n      <td><div class=\"not-number\">xc</div></td>\n      <td><div class=\"not-number\">GWFG</div></td>\n      <td><div class=\"not-number\">Greater White-fronted Goose</div></td>\n      <td><div class=\"not-number\">GWFG</div></td>\n      <td>24.0</td>\n      <td>1.010</td>\n      <td>528142</td>\n      <td><div class=\"not-number\">audio</div></td>\n      <td><div class=\"not-number\">Greater White-fronted Goose - GWFG</div></td>\n      <td><div class=\"not-number\">xc/data/GWFG/276919/audio</div></td>\n      <td><div class=\"not-number\">xc/data/GWFG/276919/audio.mp3</div></td>\n    </tr>\n  </tbody>\n</table>",
      "text/plain": "  dataset species             species_com_name species_query  duration_s  samples_mb  samples_n basename  \\\n0      xc    GWFG  Greater White-fronted Goose          GWFG      23.712       0.997     522850    audio   \n1      xc    GWFG  Greater White-fronted Goose          GWFG      18.312       0.770     403780    audio   \n2      xc    GWFG  Greater White-fronted Goose          GWFG      44.957       1.891     991296    audio   \n3      xc    GWFG  Greater White-fronted Goose          GWFG      17.554       0.738     387072    audio   \n4      xc    GWFG  Greater White-fronted Goose          GWFG      23.952       1.007     528142    audio   \n\n                     species_longhand                         id                           path  \n0  Greater White-fronted Goose - GWFG  xc/data/GWFG/149379/audio  xc/data/GWFG/149379/audio.mp3  \n1  Greater White-fronted Goose - GWFG  xc/data/GWFG/276918/audio  xc/data/GWFG/276918/audio.mp3  \n2  Greater White-fronted Goose - GWFG  xc/data/GWFG/210100/audio  xc/data/GWFG/210100/audio.mp3  \n3  Greater White-fronted Goose - GWFG  xc/data/GWFG/323113/audio  xc/data/GWFG/323113/audio.mp3  \n4  Greater White-fronted Goose - GWFG  xc/data/GWFG/276919/audio  xc/data/GWFG/276919/audio.mp3"
     },
     "metadata": {},
     "output_type": "display_data",
     "transient": {}
    }
   ],
   "source": [
    "# TODO Restore once:true after debug [but think carefully how once:true interacts with the once:false params above]\n",
    "recs = load.recs(paths=xcs_paths)\n",
    "display(\n",
    "    df_summary(recs).T,\n",
    "    recs[:5],\n",
    ")"
   ]
  },
  {
   "cell_type": "code",
   "execution_count": null,
   "metadata": {},
   "outputs": [
    {
     "data": {
      "text/html": "<table border=\"1\" class=\"dataframe\">\n  <thead>\n    <tr style=\"text-align: right;\">\n      <th></th>\n      <th>species_longhand</th>\n      <th>num_recs</th>\n    </tr>\n  </thead>\n  <tbody>\n    <tr>\n      <th>0</th>\n      <td><div class=\"not-number\">Greater White-fronted Goose - GWFG</div></td>\n      <td><div class=\"not-number\">•••••••••••••••••••••••••••••••••••••••••••••••••••••••••••• /20</div></td>\n    </tr>\n    <tr>\n      <th>1</th>\n      <td><div class=\"not-number\">Gadwall - GADW</div></td>\n      <td><div class=\"not-number\">•••••••••••••••••••••••••••••••••••••••••••••••••••••••••••• /20</div></td>\n    </tr>\n    <tr>\n      <th>2</th>\n      <td><div class=\"not-number\">American Wigeon - AMWI</div></td>\n      <td><div class=\"not-number\">•••••••••••••••••••••••••••••••••••••••••••••••••••••••••••• /20</div></td>\n    </tr>\n    <tr>\n      <th>3</th>\n      <td><div class=\"not-number\">Mallard - MALL</div></td>\n      <td><div class=\"not-number\">•••••••••••••••••••••••••••••••••••••••••••••••••••••••••••• /20</div></td>\n    </tr>\n    <tr>\n      <th>4</th>\n      <td><div class=\"not-number\">Green-winged Teal - GWTE</div></td>\n      <td><div class=\"not-number\">•••••••••••••••••••••••••••••••••••••••••••••••••••••••••••• /20</div></td>\n    </tr>\n    <tr>\n      <th>5</th>\n      <td><div class=\"not-number\">California Quail - CAQU</div></td>\n      <td><div class=\"not-number\">•••••••••••••••••••••••••••••••••••••••••••••••••••••••••••• /20</div></td>\n    </tr>\n    <tr>\n      <th>6</th>\n      <td><div class=\"not-number\">Gambel's Quail - GAQU</div></td>\n      <td><div class=\"not-number\">•••••••••••••••••••••••••••••••••••••••••••••••••••••••••••• /20</div></td>\n    </tr>\n    <tr>\n      <th>7</th>\n      <td><div class=\"not-number\">Sooty Grouse - SOGR</div></td>\n      <td><div class=\"not-number\">•••••••••••••••••••••••••••••••••••••••••••••••••••••••••••• /20</div></td>\n    </tr>\n    <tr>\n      <th>8</th>\n      <td><div class=\"not-number\">Wild Turkey - WITU</div></td>\n      <td><div class=\"not-number\">•••••••••••••••••••••••••••••••••••••••••••••••••••••••••••• /20</div></td>\n    </tr>\n    <tr>\n      <th>9</th>\n      <td><div class=\"not-number\">Common Loon - COLO</div></td>\n      <td><div class=\"not-number\">•••••••••••••••••••••••••••••••••••••••••••••••••••••••••••• /20</div></td>\n    </tr>\n    <tr>\n      <th>10</th>\n      <td><div class=\"not-number\">Red-necked Grebe - RNGR</div></td>\n      <td><div class=\"not-number\">•••••••••••••••••••••••••••••••••••••••••••••••••••••••••••• /20</div></td>\n    </tr>\n    <tr>\n      <th>11</th>\n      <td><div class=\"not-number\">Black-footed Albatross - BFAL</div></td>\n      <td><div class=\"not-number\">•••••••••••••••••••••••••••••••••••••••••••••••••••••••••••• /20</div></td>\n    </tr>\n    <tr>\n      <th>12</th>\n      <td><div class=\"not-number\">Double-crested Cormorant - DCCO</div></td>\n      <td><div class=\"not-number\">•••••••••••••••••••••••••••••••••••••••••••••••••••••••••••• /20</div></td>\n    </tr>\n    <tr>\n      <th>13</th>\n      <td><div class=\"not-number\">American Bittern - AMBI</div></td>\n      <td><div class=\"not-number\">•••••••••••••••••••••••••••••••••••••••••••••••••••••••••••• /20</div></td>\n    </tr>\n    <tr>\n      <th>14</th>\n      <td><div class=\"not-number\">Least Bittern - LEBI</div></td>\n      <td><div class=\"not-number\">•••••••••••••••••••••••••••••••••••••••••••••••••••••••••••• /20</div></td>\n    </tr>\n    <tr>\n      <th>15</th>\n      <td><div class=\"not-number\">Great Blue Heron - GBHE</div></td>\n      <td><div class=\"not-number\">•••••••••••••••••••••••••••••••••••••••••••••••••••••••••••• /20</div></td>\n    </tr>\n    <tr>\n      <th>16</th>\n      <td><div class=\"not-number\">Great Egret - GREG</div></td>\n      <td><div class=\"not-number\">•••••••••••••••••••••••••••••••••••••••••••••••••••••••••••• /20</div></td>\n    </tr>\n    <tr>\n      <th>17</th>\n      <td><div class=\"not-number\">Snowy Egret - SNEG</div></td>\n      <td><div class=\"not-number\">•••••••••••••••••••••••••••••••••••••••••••••••••••••••••••• /20</div></td>\n    </tr>\n    <tr>\n      <th>18</th>\n      <td><div class=\"not-number\">Osprey - OSPR</div></td>\n      <td><div class=\"not-number\">•••••••••••••••••••••••••••••••••••••••••••••••••••••••••••• /20</div></td>\n    </tr>\n    <tr>\n      <th>19</th>\n      <td><div class=\"not-number\">Swainson's Hawk - SWHA</div></td>\n      <td><div class=\"not-number\">•••••••••••••••••••••••••••••••••••••••••••••••••••••••••••• /20</div></td>\n    </tr>\n    <tr>\n      <th>20</th>\n      <td><div class=\"not-number\">Red-tailed Hawk - RTHA</div></td>\n      <td><div class=\"not-number\">•••••••••••••••••••••••••••••••••••••••••••••••••••••••••••• /20</div></td>\n    </tr>\n    <tr>\n      <th>21</th>\n      <td><div class=\"not-number\">Black Rail - BLRA</div></td>\n      <td><div class=\"not-number\">•••••••••••••••••••••••••••••••••••••••••••••••••••••••••••• /20</div></td>\n    </tr>\n    <tr>\n      <th>22</th>\n      <td><div class=\"not-number\">Ridgway's Rail - RIRA</div></td>\n      <td><div class=\"not-number\">•••••••••••••••••••••••••••••••••••••••••••••••••••••••••••• /20</div></td>\n    </tr>\n    <tr>\n      <th>23</th>\n      <td><div class=\"not-number\">Common Gallinule - COGA</div></td>\n      <td><div class=\"not-number\">•••••••••••••••••••••••••••••••••••••••••••••••••••••••••••• /20</div></td>\n    </tr>\n    <tr>\n      <th>24</th>\n      <td><div class=\"not-number\">Black-necked Stilt - BNST</div></td>\n      <td><div class=\"not-number\">•••••••••••••••••••••••••••••••••••••••••••••••••••••••••••• /20</div></td>\n    </tr>\n    <tr>\n      <th>25</th>\n      <td><div class=\"not-number\">Black Oystercatcher - BLOY</div></td>\n      <td><div class=\"not-number\">•••••••••••••••••••••••••••••••••••••••••••••••••••••••••••• /20</div></td>\n    </tr>\n    <tr>\n      <th>26</th>\n      <td><div class=\"not-number\">Semipalmated Plover - SEPL</div></td>\n      <td><div class=\"not-number\">•••••••••••••••••••••••••••••••••••••••••••••••••••••••••••• /20</div></td>\n    </tr>\n    <tr>\n      <th>27</th>\n      <td><div class=\"not-number\">Whimbrel - WHIM</div></td>\n      <td><div class=\"not-number\">•••••••••••••••••••••••••••••••••••••••••••••••••••••••••••• /20</div></td>\n    </tr>\n    <tr>\n      <th>28</th>\n      <td><div class=\"not-number\">Long-billed Curlew - LBCU</div></td>\n      <td><div class=\"not-number\">•••••••••••••••••••••••••••••••••••••••••••••••••••••••••••• /20</div></td>\n    </tr>\n    <tr>\n      <th>29</th>\n      <td><div class=\"not-number\">Rock Sandpiper - ROSA</div></td>\n      <td><div class=\"not-number\">•••••••••••••••••••••••••••••••••••••••••••••••••••••••••••• /20</div></td>\n    </tr>\n    <tr>\n      <th>30</th>\n      <td><div class=\"not-number\">Least Sandpiper - LESA</div></td>\n      <td><div class=\"not-number\">•••••••••••••••••••••••••••••••••••••••••••••••••••••••••••• /20</div></td>\n    </tr>\n    <tr>\n      <th>31</th>\n      <td><div class=\"not-number\">Long-billed Dowitcher - LBDO</div></td>\n      <td><div class=\"not-number\">•••••••••••••••••••••••••••••••••••••••••••••••••••••••••••• /20</div></td>\n    </tr>\n    <tr>\n      <th>32</th>\n      <td><div class=\"not-number\">Red-necked Phalarope - RNPH</div></td>\n      <td><div class=\"not-number\">•••••••••••••••••••••••••••••••••••••••••••••••••••••••••••• /20</div></td>\n    </tr>\n    <tr>\n      <th>33</th>\n      <td><div class=\"not-number\">Greater Yellowlegs - GRYE</div></td>\n      <td><div class=\"not-number\">•••••••••••••••••••••••••••••••••••••••••••••••••••••••••••• /20</div></td>\n    </tr>\n    <tr>\n      <th>34</th>\n      <td><div class=\"not-number\">Bonaparte's Gull - BOGU</div></td>\n      <td><div class=\"not-number\">•••••••••••••••••••••••••••••••••••••••••••••••••••••••••••• /20</div></td>\n    </tr>\n    <tr>\n      <th>35</th>\n      <td><div class=\"not-number\">Laughing Gull - LAGU</div></td>\n      <td><div class=\"not-number\">•••••••••••••••••••••••••••••••••••••••••••••••••••••••••••• /20</div></td>\n    </tr>\n    <tr>\n      <th>36</th>\n      <td><div class=\"not-number\">Heermann's Gull - HEEG</div></td>\n      <td><div class=\"not-number\">•••••••••••••••••••••••••••••••••••••••••••••••••••••••••••• /20</div></td>\n    </tr>\n    <tr>\n      <th>37</th>\n      <td><div class=\"not-number\">Ring-billed Gull - RBGU</div></td>\n      <td><div class=\"not-number\">•••••••••••••••••••••••••••••••••••••••••••••••••••••••••••• /20</div></td>\n    </tr>\n    <tr>\n      <th>38</th>\n      <td><div class=\"not-number\">Western Gull - WEGU</div></td>\n      <td><div class=\"not-number\">•••••••••••••••••••••••••••••••••••••••••••••••••••••••••••• /20</div></td>\n    </tr>\n    <tr>\n      <th>39</th>\n      <td><div class=\"not-number\">California Gull - CAGU</div></td>\n      <td><div class=\"not-number\">•••••••••••••••••••••••••••••••••••••••••••••••••••••••••••• /20</div></td>\n    </tr>\n    <tr>\n      <th>40</th>\n      <td><div class=\"not-number\">Glaucous-winged Gull - GWGU</div></td>\n      <td><div class=\"not-number\">•••••••••••••••••••••••••••••••••••••••••••••••••••••••••••• /20</div></td>\n    </tr>\n    <tr>\n      <th>41</th>\n      <td><div class=\"not-number\">Gull-billed Tern - GBTE</div></td>\n      <td><div class=\"not-number\">•••••••••••••••••••••••••••••••••••••••••••••••••••••••••••• /20</div></td>\n    </tr>\n    <tr>\n      <th>42</th>\n      <td><div class=\"not-number\">Caspian Tern - CATE</div></td>\n      <td><div class=\"not-number\">•••••••••••••••••••••••••••••••••••••••••••••••••••••••••••• /20</div></td>\n    </tr>\n    <tr>\n      <th>43</th>\n      <td><div class=\"not-number\">Black Tern - BLTE</div></td>\n      <td><div class=\"not-number\">•••••••••••••••••••••••••••••••••••••••••••••••••••••••••••• /20</div></td>\n    </tr>\n    <tr>\n      <th>44</th>\n      <td><div class=\"not-number\">Royal Tern - ROYT</div></td>\n      <td><div class=\"not-number\">•••••••••••••••••••••••••••••••••••••••••••••••••••••••••••• /20</div></td>\n    </tr>\n    <tr>\n      <th>45</th>\n      <td><div class=\"not-number\">Band-tailed Pigeon - BTPI</div></td>\n      <td><div class=\"not-number\">•••••••••••••••••••••••••••••••••••••••••••••••••••••••••••• /20</div></td>\n    </tr>\n    <tr>\n      <th>46</th>\n      <td><div class=\"not-number\">Inca Dove - INDO</div></td>\n      <td><div class=\"not-number\">•••••••••••••••••••••••••••••••••••••••••••••••••••••••••••• /20</div></td>\n    </tr>\n    <tr>\n      <th>47</th>\n      <td><div class=\"not-number\">Common Ground-Dove - COGD</div></td>\n      <td><div class=\"not-number\">•••••••••••••••••••••••••••••••••••••••••••••••••••••••••••• /20</div></td>\n    </tr>\n    <tr>\n      <th>48</th>\n      <td><div class=\"not-number\">Yellow-billed Cuckoo - YBCU</div></td>\n      <td><div class=\"not-number\">•••••••••••••••••••••••••••••••••••••••••••••••••••••••••••• /20</div></td>\n    </tr>\n    <tr>\n      <th>49</th>\n      <td><div class=\"not-number\">Barn Owl - BANO</div></td>\n      <td><div class=\"not-number\">•••••••••••••••••••••••••••••••••••••••••••••••••••••••••••• /20</div></td>\n    </tr>\n    <tr>\n      <th>50</th>\n      <td><div class=\"not-number\">Great Horned Owl - GHOW</div></td>\n      <td><div class=\"not-number\">•••••••••••••••••••••••••••••••••••••••••••••••••••••••••••• /20</div></td>\n    </tr>\n    <tr>\n      <th>51</th>\n      <td><div class=\"not-number\">Elf Owl - ELOW</div></td>\n      <td><div class=\"not-number\">•••••••••••••••••••••••••••••••••••••••••••••••••••••••••••• /20</div></td>\n    </tr>\n    <tr>\n      <th>52</th>\n      <td><div class=\"not-number\">Spotted Owl - SPOW</div></td>\n      <td><div class=\"not-number\">•••••••••••••••••••••••••••••••••••••••••••••••••••••••••••• /20</div></td>\n    </tr>\n    <tr>\n      <th>53</th>\n      <td><div class=\"not-number\">Lesser Nighthawk - LENI</div></td>\n      <td><div class=\"not-number\">•••••••••••••••••••••••••••••••••••••••••••••••••••••••••••• /20</div></td>\n    </tr>\n    <tr>\n      <th>54</th>\n      <td><div class=\"not-number\">Common Nighthawk - CONI</div></td>\n      <td><div class=\"not-number\">•••••••••••••••••••••••••••••••••••••••••••••••••••••••••••• /20</div></td>\n    </tr>\n    <tr>\n      <th>55</th>\n      <td><div class=\"not-number\">Common Poorwill - COPO</div></td>\n      <td><div class=\"not-number\">•••••••••••••••••••••••••••••••••••••••••••••••••••••••••••• /20</div></td>\n    </tr>\n    <tr>\n      <th>56</th>\n      <td><div class=\"not-number\">Eastern Whip-poor-will - EWPW</div></td>\n      <td><div class=\"not-number\">•••••••••••••••••••••••••••••••••••••••••••••••••••••••••••• /20</div></td>\n    </tr>\n    <tr>\n      <th>57</th>\n      <td><div class=\"not-number\">Mexican Whip-poor-will - MWPW</div></td>\n      <td><div class=\"not-number\">•••••••••••••••••••••••••••••••••••••••••••••••••••••••••••• /20</div></td>\n    </tr>\n    <tr>\n      <th>58</th>\n      <td><div class=\"not-number\">White-throated Swift - WTSW</div></td>\n      <td><div class=\"not-number\">•••••••••••••••••••••••••••••••••••••••••••••••••••••••••••• /20</div></td>\n    </tr>\n    <tr>\n      <th>59</th>\n      <td><div class=\"not-number\">Black-chinned Hummingbird - BCHU</div></td>\n      <td><div class=\"not-number\">•••••••••••••••••••••••••••••••••••••••••••••••••••••••••••• /20</div></td>\n    </tr>\n    <tr>\n      <th>60</th>\n      <td><div class=\"not-number\">Broad-tailed Hummingbird - BTAH</div></td>\n      <td><div class=\"not-number\">•••••••••••••••••••••••••••••••••••••••••••••••••••••••••••• /20</div></td>\n    </tr>\n    <tr>\n      <th>61</th>\n      <td><div class=\"not-number\">Acorn Woodpecker - ACWO</div></td>\n      <td><div class=\"not-number\">•••••••••••••••••••••••••••••••••••••••••••••••••••••••••••• /20</div></td>\n    </tr>\n    <tr>\n      <th>62</th>\n      <td><div class=\"not-number\">Williamson's Sapsucker - WISA</div></td>\n      <td><div class=\"not-number\">•••••••••••••••••••••••••••••••••••••••••••••••••••••••••••• /20</div></td>\n    </tr>\n    <tr>\n      <th>63</th>\n      <td><div class=\"not-number\">Red-breasted Sapsucker - RBSA</div></td>\n      <td><div class=\"not-number\">•••••••••••••••••••••••••••••••••••••••••••••••••••••••••••• /20</div></td>\n    </tr>\n    <tr>\n      <th>64</th>\n      <td><div class=\"not-number\">Ladder-backed Woodpecker - LBWO</div></td>\n      <td><div class=\"not-number\">•••••••••••••••••••••••••••••••••••••••••••••••••••••••••••• /20</div></td>\n    </tr>\n    <tr>\n      <th>65</th>\n      <td><div class=\"not-number\">Nuttall's Woodpecker - NUWO</div></td>\n      <td><div class=\"not-number\">•••••••••••••••••••••••••••••••••••••••••••••••••••••••••••• /20</div></td>\n    </tr>\n    <tr>\n      <th>66</th>\n      <td><div class=\"not-number\">Hairy Woodpecker - HAWO</div></td>\n      <td><div class=\"not-number\">•••••••••••••••••••••••••••••••••••••••••••••••••••••••••••• /20</div></td>\n    </tr>\n    <tr>\n      <th>67</th>\n      <td><div class=\"not-number\">White-headed Woodpecker - WHWO</div></td>\n      <td><div class=\"not-number\">•••••••••••••••••••••••••••••••••••••••••••••••••••••••••••• /20</div></td>\n    </tr>\n    <tr>\n      <th>68</th>\n      <td><div class=\"not-number\">Black-backed Woodpecker - BBWO</div></td>\n      <td><div class=\"not-number\">•••••••••••••••••••••••••••••••••••••••••••••••••••••••••••• /20</div></td>\n    </tr>\n    <tr>\n      <th>69</th>\n      <td><div class=\"not-number\">Northern Flicker - NOFL</div></td>\n      <td><div class=\"not-number\">•••••••••••••••••••••••••••••••••••••••••••••••••••••••••••• /20</div></td>\n    </tr>\n    <tr>\n      <th>70</th>\n      <td><div class=\"not-number\">Western Wood-Pewee - WEWP</div></td>\n      <td><div class=\"not-number\">•••••••••••••••••••••••••••••••••••••••••••••••••••••••••••• /20</div></td>\n    </tr>\n    <tr>\n      <th>71</th>\n      <td><div class=\"not-number\">Least Flycatcher - LEFL</div></td>\n      <td><div class=\"not-number\">•••••••••••••••••••••••••••••••••••••••••••••••••••••••••••• /20</div></td>\n    </tr>\n    <tr>\n      <th>72</th>\n      <td><div class=\"not-number\">Gray Flycatcher - GRFL</div></td>\n      <td><div class=\"not-number\">•••••••••••••••••••••••••••••••••••••••••••••••••••••••••••• /20</div></td>\n    </tr>\n    <tr>\n      <th>73</th>\n      <td><div class=\"not-number\">Dusky Flycatcher - DUFL</div></td>\n      <td><div class=\"not-number\">•••••••••••••••••••••••••••••••••••••••••••••••••••••••••••• /20</div></td>\n    </tr>\n    <tr>\n      <th>74</th>\n      <td><div class=\"not-number\">Pacific-slope Flycatcher - PSFL</div></td>\n      <td><div class=\"not-number\">•••••••••••••••••••••••••••••••••••••••••••••••••••••••••••• /20</div></td>\n    </tr>\n    <tr>\n      <th>75</th>\n      <td><div class=\"not-number\">Eastern Phoebe - EAPH</div></td>\n      <td><div class=\"not-number\">•••••••••••••••••••••••••••••••••••••••••••••••••••••••••••• /20</div></td>\n    </tr>\n    <tr>\n      <th>76</th>\n      <td><div class=\"not-number\">Say's Phoebe - SAPH</div></td>\n      <td><div class=\"not-number\">•••••••••••••••••••••••••••••••••••••••••••••••••••••••••••• /20</div></td>\n    </tr>\n    <tr>\n      <th>77</th>\n      <td><div class=\"not-number\">Vermilion Flycatcher - VEFL</div></td>\n      <td><div class=\"not-number\">•••••••••••••••••••••••••••••••••••••••••••••••••••••••••••• /20</div></td>\n    </tr>\n    <tr>\n      <th>78</th>\n      <td><div class=\"not-number\">Dusky-capped Flycatcher - DCFL</div></td>\n      <td><div class=\"not-number\">•••••••••••••••••••••••••••••••••••••••••••••••••••••••••••• /20</div></td>\n    </tr>\n    <tr>\n      <th>79</th>\n      <td><div class=\"not-number\">Tropical Kingbird - TRKI</div></td>\n      <td><div class=\"not-number\">•••••••••••••••••••••••••••••••••••••••••••••••••••••••••••• /20</div></td>\n    </tr>\n    <tr>\n      <th>80</th>\n      <td><div class=\"not-number\">Couch's Kingbird - COKI</div></td>\n      <td><div class=\"not-number\">•••••••••••••••••••••••••••••••••••••••••••••••••••••••••••• /20</div></td>\n    </tr>\n    <tr>\n      <th>81</th>\n      <td><div class=\"not-number\">Hutton's Vireo - HUVI</div></td>\n      <td><div class=\"not-number\">•••••••••••••••••••••••••••••••••••••••••••••••••••••••••••• /20</div></td>\n    </tr>\n    <tr>\n      <th>82</th>\n      <td><div class=\"not-number\">Warbling Vireo - WAVI</div></td>\n      <td><div class=\"not-number\">•••••••••••••••••••••••••••••••••••••••••••••••••••••••••••• /20</div></td>\n    </tr>\n    <tr>\n      <th>83</th>\n      <td><div class=\"not-number\">Red-eyed Vireo - REVI</div></td>\n      <td><div class=\"not-number\">•••••••••••••••••••••••••••••••••••••••••••••••••••••••••••• /20</div></td>\n    </tr>\n    <tr>\n      <th>84</th>\n      <td><div class=\"not-number\">Yellow-green Vireo - YGVI</div></td>\n      <td><div class=\"not-number\">•••••••••••••••••••••••••••••••••••••••••••••••••••••••••••• /20</div></td>\n    </tr>\n    <tr>\n      <th>85</th>\n      <td><div class=\"not-number\">Gray Jay - GRAJ</div></td>\n      <td><div class=\"not-number\">•••••••••••••••••••••••••••••••••••••••••••••••••••••••••••• /20</div></td>\n    </tr>\n    <tr>\n      <th>86</th>\n      <td><div class=\"not-number\">Pinyon Jay - PIJA</div></td>\n      <td><div class=\"not-number\">•••••••••••••••••••••••••••••••••••••••••••••••••••••••••••• /20</div></td>\n    </tr>\n    <tr>\n      <th>87</th>\n      <td><div class=\"not-number\">Steller's Jay - STJA</div></td>\n      <td><div class=\"not-number\">•••••••••••••••••••••••••••••••••••••••••••••••••••••••••••• /20</div></td>\n    </tr>\n    <tr>\n      <th>88</th>\n      <td><div class=\"not-number\">California Scrub-Jay - CASJ</div></td>\n      <td><div class=\"not-number\">•••••••••••••••••••••••••••••••••••••••••••••••••••••••••••• /20</div></td>\n    </tr>\n    <tr>\n      <th>89</th>\n      <td><div class=\"not-number\">Woodhouse's Scrub-Jay - WOSJ</div></td>\n      <td><div class=\"not-number\">•••••••••••••••••••••••••••••••••••••••••••••••••••••••••••• /20</div></td>\n    </tr>\n    <tr>\n      <th>90</th>\n      <td><div class=\"not-number\">Clark's Nutcracker - CLNU</div></td>\n      <td><div class=\"not-number\">•••••••••••••••••••••••••••••••••••••••••••••••••••••••••••• /20</div></td>\n    </tr>\n    <tr>\n      <th>91</th>\n      <td><div class=\"not-number\">Common Raven - CORA</div></td>\n      <td><div class=\"not-number\">•••••••••••••••••••••••••••••••••••••••••••••••••••••••••••• /20</div></td>\n    </tr>\n    <tr>\n      <th>92</th>\n      <td><div class=\"not-number\">Northern Rough-winged Swallow - NRWS</div></td>\n      <td><div class=\"not-number\">•••••••••••••••••••••••••••••••••••••••••••••••••••••••••••• /20</div></td>\n    </tr>\n    <tr>\n      <th>93</th>\n      <td><div class=\"not-number\">Purple Martin - PUMA</div></td>\n      <td><div class=\"not-number\">•••••••••••••••••••••••••••••••••••••••••••••••••••••••••••• /20</div></td>\n    </tr>\n    <tr>\n      <th>94</th>\n      <td><div class=\"not-number\">Violet-green Swallow - VGSW</div></td>\n      <td><div class=\"not-number\">•••••••••••••••••••••••••••••••••••••••••••••••••••••••••••• /20</div></td>\n    </tr>\n    <tr>\n      <th>95</th>\n      <td><div class=\"not-number\">Cliff Swallow - CLSW</div></td>\n      <td><div class=\"not-number\">•••••••••••••••••••••••••••••••••••••••••••••••••••••••••••• /20</div></td>\n    </tr>\n    <tr>\n      <th>96</th>\n      <td><div class=\"not-number\">Mountain Chickadee - MOCH</div></td>\n      <td><div class=\"not-number\">•••••••••••••••••••••••••••••••••••••••••••••••••••••••••••• /20</div></td>\n    </tr>\n    <tr>\n      <th>97</th>\n      <td><div class=\"not-number\">Chestnut-backed Chickadee - CBCH</div></td>\n      <td><div class=\"not-number\">•••••••••••••••••••••••••••••••••••••••••••••••••••••••••••• /20</div></td>\n    </tr>\n    <tr>\n      <th>98</th>\n      <td><div class=\"not-number\">Verdin - VERD</div></td>\n      <td><div class=\"not-number\">•••••••••••••••••••••••••••••••••••••••••••••••••••••••••••• /20</div></td>\n    </tr>\n    <tr>\n      <th>99</th>\n      <td><div class=\"not-number\">Bushtit - BUSH</div></td>\n      <td><div class=\"not-number\">•••••••••••••••••••••••••••••••••••••••••••••••••••••••••••• /20</div></td>\n    </tr>\n    <tr>\n      <th>100</th>\n      <td><div class=\"not-number\">Red-breasted Nuthatch - RBNU</div></td>\n      <td><div class=\"not-number\">•••••••••••••••••••••••••••••••••••••••••••••••••••••••••••• /20</div></td>\n    </tr>\n    <tr>\n      <th>101</th>\n      <td><div class=\"not-number\">Rock Wren - ROWR</div></td>\n      <td><div class=\"not-number\">•••••••••••••••••••••••••••••••••••••••••••••••••••••••••••• /20</div></td>\n    </tr>\n    <tr>\n      <th>102</th>\n      <td><div class=\"not-number\">Canyon Wren - CANW</div></td>\n      <td><div class=\"not-number\">•••••••••••••••••••••••••••••••••••••••••••••••••••••••••••• /20</div></td>\n    </tr>\n    <tr>\n      <th>103</th>\n      <td><div class=\"not-number\">Winter Wren - WIWR</div></td>\n      <td><div class=\"not-number\">•••••••••••••••••••••••••••••••••••••••••••••••••••••••••••• /20</div></td>\n    </tr>\n    <tr>\n      <th>104</th>\n      <td><div class=\"not-number\">Marsh Wren - MAWR</div></td>\n      <td><div class=\"not-number\">•••••••••••••••••••••••••••••••••••••••••••••••••••••••••••• /20</div></td>\n    </tr>\n    <tr>\n      <th>105</th>\n      <td><div class=\"not-number\">Bewick's Wren - BEWR</div></td>\n      <td><div class=\"not-number\">•••••••••••••••••••••••••••••••••••••••••••••••••••••••••••• /20</div></td>\n    </tr>\n    <tr>\n      <th>106</th>\n      <td><div class=\"not-number\">Cactus Wren - CACW</div></td>\n      <td><div class=\"not-number\">•••••••••••••••••••••••••••••••••••••••••••••••••••••••••••• /20</div></td>\n    </tr>\n    <tr>\n      <th>107</th>\n      <td><div class=\"not-number\">California Gnatcatcher - CAGN</div></td>\n      <td><div class=\"not-number\">•••••••••••••••••••••••••••••••••••••••••••••••••••••••••••• /20</div></td>\n    </tr>\n    <tr>\n      <th>108</th>\n      <td><div class=\"not-number\">Black-tailed Gnatcatcher - BTGN</div></td>\n      <td><div class=\"not-number\">•••••••••••••••••••••••••••••••••••••••••••••••••••••••••••• /20</div></td>\n    </tr>\n    <tr>\n      <th>109</th>\n      <td><div class=\"not-number\">American Dipper - AMDI</div></td>\n      <td><div class=\"not-number\">•••••••••••••••••••••••••••••••••••••••••••••••••••••••••••• /20</div></td>\n    </tr>\n    <tr>\n      <th>110</th>\n      <td><div class=\"not-number\">Ruby-crowned Kinglet - RCKI</div></td>\n      <td><div class=\"not-number\">•••••••••••••••••••••••••••••••••••••••••••••••••••••••••••• /20</div></td>\n    </tr>\n    <tr>\n      <th>111</th>\n      <td><div class=\"not-number\">Western Bluebird - WEBL</div></td>\n      <td><div class=\"not-number\">•••••••••••••••••••••••••••••••••••••••••••••••••••••••••••• /20</div></td>\n    </tr>\n    <tr>\n      <th>112</th>\n      <td><div class=\"not-number\">Mountain Bluebird - MOBL</div></td>\n      <td><div class=\"not-number\">•••••••••••••••••••••••••••••••••••••••••••••••••••••••••••• /20</div></td>\n    </tr>\n    <tr>\n      <th>113</th>\n      <td><div class=\"not-number\">Townsend's Solitaire - TOSO</div></td>\n      <td><div class=\"not-number\">•••••••••••••••••••••••••••••••••••••••••••••••••••••••••••• /20</div></td>\n    </tr>\n    <tr>\n      <th>114</th>\n      <td><div class=\"not-number\">Swainson's Thrush - SWTH</div></td>\n      <td><div class=\"not-number\">•••••••••••••••••••••••••••••••••••••••••••••••••••••••••••• /20</div></td>\n    </tr>\n    <tr>\n      <th>115</th>\n      <td><div class=\"not-number\">Hermit Thrush - HETH</div></td>\n      <td><div class=\"not-number\">•••••••••••••••••••••••••••••••••••••••••••••••••••••••••••• /20</div></td>\n    </tr>\n    <tr>\n      <th>116</th>\n      <td><div class=\"not-number\">American Robin - AMRO</div></td>\n      <td><div class=\"not-number\">•••••••••••••••••••••••••••••••••••••••••••••••••••••••••••• /20</div></td>\n    </tr>\n    <tr>\n      <th>117</th>\n      <td><div class=\"not-number\">Gray Catbird - GRCA</div></td>\n      <td><div class=\"not-number\">•••••••••••••••••••••••••••••••••••••••••••••••••••••••••••• /20</div></td>\n    </tr>\n    <tr>\n      <th>118</th>\n      <td><div class=\"not-number\">Bendire's Thrasher - BETH</div></td>\n      <td><div class=\"not-number\">•••••••••••••••••••••••••••••••••••••••••••••••••••••••••••• /20</div></td>\n    </tr>\n    <tr>\n      <th>119</th>\n      <td><div class=\"not-number\">LeConte's Thrasher - LCTH</div></td>\n      <td><div class=\"not-number\">•••••••••••••••••••••••••••••••••••••••••••••••••••••••••••• /20</div></td>\n    </tr>\n    <tr>\n      <th>120</th>\n      <td><div class=\"not-number\">Crissal Thrasher - CRTH</div></td>\n      <td><div class=\"not-number\">•••••••••••••••••••••••••••••••••••••••••••••••••••••••••••• /20</div></td>\n    </tr>\n    <tr>\n      <th>121</th>\n      <td><div class=\"not-number\">European Starling - EUST</div></td>\n      <td><div class=\"not-number\">•••••••••••••••••••••••••••••••••••••••••••••••••••••••••••• /20</div></td>\n    </tr>\n    <tr>\n      <th>122</th>\n      <td><div class=\"not-number\">American Pipit - AMPI</div></td>\n      <td><div class=\"not-number\">•••••••••••••••••••••••••••••••••••••••••••••••••••••••••••• /20</div></td>\n    </tr>\n    <tr>\n      <th>123</th>\n      <td><div class=\"not-number\">Phainopepla - PHAI</div></td>\n      <td><div class=\"not-number\">•••••••••••••••••••••••••••••••••••••••••••••••••••••••••••• /20</div></td>\n    </tr>\n    <tr>\n      <th>124</th>\n      <td><div class=\"not-number\">Lapland Longspur - LALO</div></td>\n      <td><div class=\"not-number\">•••••••••••••••••••••••••••••••••••••••••••••••••••••••••••• /20</div></td>\n    </tr>\n    <tr>\n      <th>125</th>\n      <td><div class=\"not-number\">Northern Waterthrush - NOWA</div></td>\n      <td><div class=\"not-number\">•••••••••••••••••••••••••••••••••••••••••••••••••••••••••••• /20</div></td>\n    </tr>\n    <tr>\n      <th>126</th>\n      <td><div class=\"not-number\">Orange-crowned Warbler - OCWA</div></td>\n      <td><div class=\"not-number\">•••••••••••••••••••••••••••••••••••••••••••••••••••••••••••• /20</div></td>\n    </tr>\n    <tr>\n      <th>127</th>\n      <td><div class=\"not-number\">Lucy's Warbler - LUWA</div></td>\n      <td><div class=\"not-number\">•••••••••••••••••••••••••••••••••••••••••••••••••••••••••••• /20</div></td>\n    </tr>\n    <tr>\n      <th>128</th>\n      <td><div class=\"not-number\">Nashville Warbler - NAWA</div></td>\n      <td><div class=\"not-number\">•••••••••••••••••••••••••••••••••••••••••••••••••••••••••••• /20</div></td>\n    </tr>\n    <tr>\n      <th>129</th>\n      <td><div class=\"not-number\">MacGillivray's Warbler - MGWA</div></td>\n      <td><div class=\"not-number\">•••••••••••••••••••••••••••••••••••••••••••••••••••••••••••• /20</div></td>\n    </tr>\n    <tr>\n      <th>130</th>\n      <td><div class=\"not-number\">Common Yellowthroat - COYE</div></td>\n      <td><div class=\"not-number\">•••••••••••••••••••••••••••••••••••••••••••••••••••••••••••• /20</div></td>\n    </tr>\n    <tr>\n      <th>131</th>\n      <td><div class=\"not-number\">Hooded Warbler - HOWA</div></td>\n      <td><div class=\"not-number\">•••••••••••••••••••••••••••••••••••••••••••••••••••••••••••• /20</div></td>\n    </tr>\n    <tr>\n      <th>132</th>\n      <td><div class=\"not-number\">Northern Parula - NOPA</div></td>\n      <td><div class=\"not-number\">•••••••••••••••••••••••••••••••••••••••••••••••••••••••••••• /20</div></td>\n    </tr>\n    <tr>\n      <th>133</th>\n      <td><div class=\"not-number\">Chestnut-sided Warbler - CSWA</div></td>\n      <td><div class=\"not-number\">•••••••••••••••••••••••••••••••••••••••••••••••••••••••••••• /20</div></td>\n    </tr>\n    <tr>\n      <th>134</th>\n      <td><div class=\"not-number\">Yellow-rumped Warbler - YRWA</div></td>\n      <td><div class=\"not-number\">•••••••••••••••••••••••••••••••••••••••••••••••••••••••••••• /20</div></td>\n    </tr>\n    <tr>\n      <th>135</th>\n      <td><div class=\"not-number\">Prairie Warbler - PRAW</div></td>\n      <td><div class=\"not-number\">•••••••••••••••••••••••••••••••••••••••••••••••••••••••••••• /20</div></td>\n    </tr>\n    <tr>\n      <th>136</th>\n      <td><div class=\"not-number\">Grace's Warbler - GRWA</div></td>\n      <td><div class=\"not-number\">•••••••••••••••••••••••••••••••••••••••••••••••••••••••••••• /20</div></td>\n    </tr>\n    <tr>\n      <th>137</th>\n      <td><div class=\"not-number\">Hermit Warbler - HEWA</div></td>\n      <td><div class=\"not-number\">•••••••••••••••••••••••••••••••••••••••••••••••••••••••••••• /20</div></td>\n    </tr>\n    <tr>\n      <th>138</th>\n      <td><div class=\"not-number\">Cassin's Sparrow - CASP</div></td>\n      <td><div class=\"not-number\">•••••••••••••••••••••••••••••••••••••••••••••••••••••••••••• /20</div></td>\n    </tr>\n    <tr>\n      <th>139</th>\n      <td><div class=\"not-number\">Black-chinned Sparrow - BCSP</div></td>\n      <td><div class=\"not-number\">•••••••••••••••••••••••••••••••••••••••••••••••••••••••••••• /20</div></td>\n    </tr>\n    <tr>\n      <th>140</th>\n      <td><div class=\"not-number\">Black-throated Sparrow - BTSP</div></td>\n      <td><div class=\"not-number\">•••••••••••••••••••••••••••••••••••••••••••••••••••••••••••• /20</div></td>\n    </tr>\n    <tr>\n      <th>141</th>\n      <td><div class=\"not-number\">Lark Sparrow - LASP</div></td>\n      <td><div class=\"not-number\">•••••••••••••••••••••••••••••••••••••••••••••••••••••••••••• /20</div></td>\n    </tr>\n    <tr>\n      <th>142</th>\n      <td><div class=\"not-number\">Fox Sparrow - FOSP</div></td>\n      <td><div class=\"not-number\">•••••••••••••••••••••••••••••••••••••••••••••••••••••••••••• /20</div></td>\n    </tr>\n    <tr>\n      <th>143</th>\n      <td><div class=\"not-number\">White-crowned Sparrow - WCSP</div></td>\n      <td><div class=\"not-number\">•••••••••••••••••••••••••••••••••••••••••••••••••••••••••••• /20</div></td>\n    </tr>\n    <tr>\n      <th>144</th>\n      <td><div class=\"not-number\">Golden-crowned Sparrow - GCSP</div></td>\n      <td><div class=\"not-number\">•••••••••••••••••••••••••••••••••••••••••••••••••••••••••••• /20</div></td>\n    </tr>\n    <tr>\n      <th>145</th>\n      <td><div class=\"not-number\">White-throated Sparrow - WTSP</div></td>\n      <td><div class=\"not-number\">•••••••••••••••••••••••••••••••••••••••••••••••••••••••••••• /20</div></td>\n    </tr>\n    <tr>\n      <th>146</th>\n      <td><div class=\"not-number\">Vesper Sparrow - VESP</div></td>\n      <td><div class=\"not-number\">•••••••••••••••••••••••••••••••••••••••••••••••••••••••••••• /20</div></td>\n    </tr>\n    <tr>\n      <th>147</th>\n      <td><div class=\"not-number\">Song Sparrow - SOSP</div></td>\n      <td><div class=\"not-number\">•••••••••••••••••••••••••••••••••••••••••••••••••••••••••••• /20</div></td>\n    </tr>\n    <tr>\n      <th>148</th>\n      <td><div class=\"not-number\">Lincoln's Sparrow - LISP</div></td>\n      <td><div class=\"not-number\">•••••••••••••••••••••••••••••••••••••••••••••••••••••••••••• /20</div></td>\n    </tr>\n    <tr>\n      <th>149</th>\n      <td><div class=\"not-number\">Rufous-crowned Sparrow - RCSP</div></td>\n      <td><div class=\"not-number\">•••••••••••••••••••••••••••••••••••••••••••••••••••••••••••• /20</div></td>\n    </tr>\n    <tr>\n      <th>150</th>\n      <td><div class=\"not-number\">Yellow-breasted Chat - YBCH</div></td>\n      <td><div class=\"not-number\">•••••••••••••••••••••••••••••••••••••••••••••••••••••••••••• /20</div></td>\n    </tr>\n    <tr>\n      <th>151</th>\n      <td><div class=\"not-number\">Western Tanager - WETA</div></td>\n      <td><div class=\"not-number\">•••••••••••••••••••••••••••••••••••••••••••••••••••••••••••• /20</div></td>\n    </tr>\n    <tr>\n      <th>152</th>\n      <td><div class=\"not-number\">Northern Cardinal - NOCA</div></td>\n      <td><div class=\"not-number\">•••••••••••••••••••••••••••••••••••••••••••••••••••••••••••• /20</div></td>\n    </tr>\n    <tr>\n      <th>153</th>\n      <td><div class=\"not-number\">Rose-breasted Grosbeak - RBGR</div></td>\n      <td><div class=\"not-number\">•••••••••••••••••••••••••••••••••••••••••••••••••••••••••••• /20</div></td>\n    </tr>\n    <tr>\n      <th>154</th>\n      <td><div class=\"not-number\">Indigo Bunting - INBU</div></td>\n      <td><div class=\"not-number\">•••••••••••••••••••••••••••••••••••••••••••••••••••••••••••• /20</div></td>\n    </tr>\n    <tr>\n      <th>155</th>\n      <td><div class=\"not-number\">Yellow-headed Blackbird - YHBL</div></td>\n      <td><div class=\"not-number\">•••••••••••••••••••••••••••••••••••••••••••••••••••••••••••• /20</div></td>\n    </tr>\n    <tr>\n      <th>156</th>\n      <td><div class=\"not-number\">Scott's Oriole - SCOR</div></td>\n      <td><div class=\"not-number\">•••••••••••••••••••••••••••••••••••••••••••••••••••••••••••• /20</div></td>\n    </tr>\n    <tr>\n      <th>157</th>\n      <td><div class=\"not-number\">Red-winged Blackbird - RWBL</div></td>\n      <td><div class=\"not-number\">•••••••••••••••••••••••••••••••••••••••••••••••••••••••••••• /20</div></td>\n    </tr>\n    <tr>\n      <th>158</th>\n      <td><div class=\"not-number\">Brewer's Blackbird - BRBL</div></td>\n      <td><div class=\"not-number\">•••••••••••••••••••••••••••••••••••••••••••••••••••••••••••• /20</div></td>\n    </tr>\n    <tr>\n      <th>159</th>\n      <td><div class=\"not-number\">Great-tailed Grackle - GTGR</div></td>\n      <td><div class=\"not-number\">•••••••••••••••••••••••••••••••••••••••••••••••••••••••••••• /20</div></td>\n    </tr>\n    <tr>\n      <th>160</th>\n      <td><div class=\"not-number\">Pine Grosbeak - PIGR</div></td>\n      <td><div class=\"not-number\">•••••••••••••••••••••••••••••••••••••••••••••••••••••••••••• /20</div></td>\n    </tr>\n    <tr>\n      <th>161</th>\n      <td><div class=\"not-number\">House Finch - HOFI</div></td>\n      <td><div class=\"not-number\">•••••••••••••••••••••••••••••••••••••••••••••••••••••••••••• /20</div></td>\n    </tr>\n    <tr>\n      <th>162</th>\n      <td><div class=\"not-number\">Purple Finch - PUFI</div></td>\n      <td><div class=\"not-number\">•••••••••••••••••••••••••••••••••••••••••••••••••••••••••••• /20</div></td>\n    </tr>\n    <tr>\n      <th>163</th>\n      <td><div class=\"not-number\">Cassin's Finch - CAFI</div></td>\n      <td><div class=\"not-number\">•••••••••••••••••••••••••••••••••••••••••••••••••••••••••••• /20</div></td>\n    </tr>\n    <tr>\n      <th>164</th>\n      <td><div class=\"not-number\">Pine Siskin - PISI</div></td>\n      <td><div class=\"not-number\">•••••••••••••••••••••••••••••••••••••••••••••••••••••••••••• /20</div></td>\n    </tr>\n    <tr>\n      <th>165</th>\n      <td><div class=\"not-number\">Lesser Goldfinch - LEGO</div></td>\n      <td><div class=\"not-number\">•••••••••••••••••••••••••••••••••••••••••••••••••••••••••••• /20</div></td>\n    </tr>\n    <tr>\n      <th>166</th>\n      <td><div class=\"not-number\">Lawrence's Goldfinch - LAGO</div></td>\n      <td><div class=\"not-number\">•••••••••••••••••••••••••••••••••••••••••••••••••••••••••••• /20</div></td>\n    </tr>\n    <tr>\n      <th>167</th>\n      <td><div class=\"not-number\">American Goldfinch - AMGO</div></td>\n      <td><div class=\"not-number\">•••••••••••••••••••••••••••••••••••••••••••••••••••••••••••• /20</div></td>\n    </tr>\n  </tbody>\n</table>",
      "text/plain": "                       species_longhand                                                          num_recs\n0    Greater White-fronted Goose - GWFG  •••••••••••••••••••••••••••••••••••••••••••••••••••••••••••• /20\n1                        Gadwall - GADW  •••••••••••••••••••••••••••••••••••••••••••••••••••••••••••• /20\n2                American Wigeon - AMWI  •••••••••••••••••••••••••••••••••••••••••••••••••••••••••••• /20\n3                        Mallard - MALL  •••••••••••••••••••••••••••••••••••••••••••••••••••••••••••• /20\n4              Green-winged Teal - GWTE  •••••••••••••••••••••••••••••••••••••••••••••••••••••••••••• /20\n5               California Quail - CAQU  •••••••••••••••••••••••••••••••••••••••••••••••••••••••••••• /20\n6                 Gambel's Quail - GAQU  •••••••••••••••••••••••••••••••••••••••••••••••••••••••••••• /20\n7                   Sooty Grouse - SOGR  •••••••••••••••••••••••••••••••••••••••••••••••••••••••••••• /20\n8                    Wild Turkey - WITU  •••••••••••••••••••••••••••••••••••••••••••••••••••••••••••• /20\n9                    Common Loon - COLO  •••••••••••••••••••••••••••••••••••••••••••••••••••••••••••• /20\n10              Red-necked Grebe - RNGR  •••••••••••••••••••••••••••••••••••••••••••••••••••••••••••• /20\n11        Black-footed Albatross - BFAL  •••••••••••••••••••••••••••••••••••••••••••••••••••••••••••• /20\n12      Double-crested Cormorant - DCCO  •••••••••••••••••••••••••••••••••••••••••••••••••••••••••••• /20\n13              American Bittern - AMBI  •••••••••••••••••••••••••••••••••••••••••••••••••••••••••••• /20\n14                 Least Bittern - LEBI  •••••••••••••••••••••••••••••••••••••••••••••••••••••••••••• /20\n15              Great Blue Heron - GBHE  •••••••••••••••••••••••••••••••••••••••••••••••••••••••••••• /20\n16                   Great Egret - GREG  •••••••••••••••••••••••••••••••••••••••••••••••••••••••••••• /20\n17                   Snowy Egret - SNEG  •••••••••••••••••••••••••••••••••••••••••••••••••••••••••••• /20\n18                        Osprey - OSPR  •••••••••••••••••••••••••••••••••••••••••••••••••••••••••••• /20\n19               Swainson's Hawk - SWHA  •••••••••••••••••••••••••••••••••••••••••••••••••••••••••••• /20\n20               Red-tailed Hawk - RTHA  •••••••••••••••••••••••••••••••••••••••••••••••••••••••••••• /20\n21                    Black Rail - BLRA  •••••••••••••••••••••••••••••••••••••••••••••••••••••••••••• /20\n22                Ridgway's Rail - RIRA  •••••••••••••••••••••••••••••••••••••••••••••••••••••••••••• /20\n23              Common Gallinule - COGA  •••••••••••••••••••••••••••••••••••••••••••••••••••••••••••• /20\n24            Black-necked Stilt - BNST  •••••••••••••••••••••••••••••••••••••••••••••••••••••••••••• /20\n25           Black Oystercatcher - BLOY  •••••••••••••••••••••••••••••••••••••••••••••••••••••••••••• /20\n26           Semipalmated Plover - SEPL  •••••••••••••••••••••••••••••••••••••••••••••••••••••••••••• /20\n27                      Whimbrel - WHIM  •••••••••••••••••••••••••••••••••••••••••••••••••••••••••••• /20\n28            Long-billed Curlew - LBCU  •••••••••••••••••••••••••••••••••••••••••••••••••••••••••••• /20\n29                Rock Sandpiper - ROSA  •••••••••••••••••••••••••••••••••••••••••••••••••••••••••••• /20\n30               Least Sandpiper - LESA  •••••••••••••••••••••••••••••••••••••••••••••••••••••••••••• /20\n31         Long-billed Dowitcher - LBDO  •••••••••••••••••••••••••••••••••••••••••••••••••••••••••••• /20\n32          Red-necked Phalarope - RNPH  •••••••••••••••••••••••••••••••••••••••••••••••••••••••••••• /20\n..                                  ...                                                               ...\n135              Prairie Warbler - PRAW  •••••••••••••••••••••••••••••••••••••••••••••••••••••••••••• /20\n136              Grace's Warbler - GRWA  •••••••••••••••••••••••••••••••••••••••••••••••••••••••••••• /20\n137               Hermit Warbler - HEWA  •••••••••••••••••••••••••••••••••••••••••••••••••••••••••••• /20\n138             Cassin's Sparrow - CASP  •••••••••••••••••••••••••••••••••••••••••••••••••••••••••••• /20\n139        Black-chinned Sparrow - BCSP  •••••••••••••••••••••••••••••••••••••••••••••••••••••••••••• /20\n140       Black-throated Sparrow - BTSP  •••••••••••••••••••••••••••••••••••••••••••••••••••••••••••• /20\n141                 Lark Sparrow - LASP  •••••••••••••••••••••••••••••••••••••••••••••••••••••••••••• /20\n142                  Fox Sparrow - FOSP  •••••••••••••••••••••••••••••••••••••••••••••••••••••••••••• /20\n143        White-crowned Sparrow - WCSP  •••••••••••••••••••••••••••••••••••••••••••••••••••••••••••• /20\n144       Golden-crowned Sparrow - GCSP  •••••••••••••••••••••••••••••••••••••••••••••••••••••••••••• /20\n145       White-throated Sparrow - WTSP  •••••••••••••••••••••••••••••••••••••••••••••••••••••••••••• /20\n146               Vesper Sparrow - VESP  •••••••••••••••••••••••••••••••••••••••••••••••••••••••••••• /20\n147                 Song Sparrow - SOSP  •••••••••••••••••••••••••••••••••••••••••••••••••••••••••••• /20\n148            Lincoln's Sparrow - LISP  •••••••••••••••••••••••••••••••••••••••••••••••••••••••••••• /20\n149       Rufous-crowned Sparrow - RCSP  •••••••••••••••••••••••••••••••••••••••••••••••••••••••••••• /20\n150         Yellow-breasted Chat - YBCH  •••••••••••••••••••••••••••••••••••••••••••••••••••••••••••• /20\n151              Western Tanager - WETA  •••••••••••••••••••••••••••••••••••••••••••••••••••••••••••• /20\n152            Northern Cardinal - NOCA  •••••••••••••••••••••••••••••••••••••••••••••••••••••••••••• /20\n153       Rose-breasted Grosbeak - RBGR  •••••••••••••••••••••••••••••••••••••••••••••••••••••••••••• /20\n154               Indigo Bunting - INBU  •••••••••••••••••••••••••••••••••••••••••••••••••••••••••••• /20\n155      Yellow-headed Blackbird - YHBL  •••••••••••••••••••••••••••••••••••••••••••••••••••••••••••• /20\n156               Scott's Oriole - SCOR  •••••••••••••••••••••••••••••••••••••••••••••••••••••••••••• /20\n157         Red-winged Blackbird - RWBL  •••••••••••••••••••••••••••••••••••••••••••••••••••••••••••• /20\n158           Brewer's Blackbird - BRBL  •••••••••••••••••••••••••••••••••••••••••••••••••••••••••••• /20\n159         Great-tailed Grackle - GTGR  •••••••••••••••••••••••••••••••••••••••••••••••••••••••••••• /20\n160                Pine Grosbeak - PIGR  •••••••••••••••••••••••••••••••••••••••••••••••••••••••••••• /20\n161                  House Finch - HOFI  •••••••••••••••••••••••••••••••••••••••••••••••••••••••••••• /20\n162                 Purple Finch - PUFI  •••••••••••••••••••••••••••••••••••••••••••••••••••••••••••• /20\n163               Cassin's Finch - CAFI  •••••••••••••••••••••••••••••••••••••••••••••••••••••••••••• /20\n164                  Pine Siskin - PISI  •••••••••••••••••••••••••••••••••••••••••••••••••••••••••••• /20\n165             Lesser Goldfinch - LEGO  •••••••••••••••••••••••••••••••••••••••••••••••••••••••••••• /20\n166         Lawrence's Goldfinch - LAGO  •••••••••••••••••••••••••••••••••••••••••••••••••••••••••••• /20\n167           American Goldfinch - AMGO  •••••••••••••••••••••••••••••••••••••••••••••••••••••••••••• /20\n\n[168 rows x 2 columns]"
     },
     "execution_count": 6,
     "metadata": {},
     "output_type": "execute_result"
    }
   ],
   "source": [
    "# Fast-and-cheap version (<1s) of the plot below (7s)\n",
    "(recs\n",
    "    .species_longhand.value_counts().sort_index()\n",
    "    .reset_index().rename(columns={'index': 'species_longhand', 'species_longhand': 'num_recs'})\n",
    "    .assign(num_recs=lambda df: df.num_recs.map(lambda n: '%s /%s' % ('•' * int(n / df.num_recs.max() * 60), df.num_recs.max())))\n",
    ")"
   ]
  },
  {
   "cell_type": "code",
   "execution_count": null,
   "metadata": {
    "skip": true
   },
   "outputs": [
    {
     "name": "stdout",
     "output_type": "stream",
     "text": "[skip]"
    }
   ],
   "source": [
    "(recs\n",
    "    .assign(species=lambda df: df.species_longhand)\n",
    "    .assign(count=1)\n",
    "    # 0-fill all (species, dataset) combinations to create empty placeholders for missing bars\n",
    "    .pipe(lambda df: df.append(\n",
    "        pd.DataFrame([\n",
    "            dict(species=species, dataset=dataset, duration_s=0)\n",
    "            for species in df.species.unique()\n",
    "            for dataset in df.dataset.unique()\n",
    "        ])\n",
    "        .astype({'species': df.species.dtype})\n",
    "    ))\n",
    "    .groupby(['dataset', 'species'])[['count', 'duration_s']].sum().reset_index()\n",
    "    # Order by species by taxo\n",
    "    .pipe(df_reverse_cat, 'species')\n",
    "    # Order by species by count\n",
    "    # .pipe(df_ordered_cat, species=lambda df: df.sort_values('count').species)\n",
    "    .pipe(pd.melt, id_vars=['dataset', 'species'], value_vars=['count', 'duration_s'])\n",
    "    .pipe(df_remove_unused_categories)\n",
    "    .pipe(ggplot, aes(x='species', y='value', fill='dataset', color='dataset'))\n",
    "    + coord_flip()\n",
    "    + geom_bar(stat='identity', position=position_dodge(), width=.8)\n",
    "    + facet_wrap('variable', nrow=1, scales='free')\n",
    "    + xlab('')\n",
    "    + ylab('')\n",
    "    + scale_fill_cmap_d(mpl_cmap_concat('tab20', 'tab20b', 'tab20c'))\n",
    "    + scale_color_cmap_d(mpl_cmap_concat('tab20', 'tab20b', 'tab20c'))\n",
    "    + theme(panel_spacing=2.5)\n",
    "    + theme_figsize(width=18, aspect_ratio=4/1)\n",
    "    + ggtitle(f'recs: Total (count, duration_s) per (species, dataset)')\n",
    ")"
   ]
  },
  {
   "cell_type": "code",
   "execution_count": null,
   "metadata": {},
   "outputs": [],
   "source": [
    "# Add .feat\n",
    "recs = projection.transform(recs)"
   ]
  },
  {
   "cell_type": "code",
   "execution_count": null,
   "metadata": {
    "time": "14.553s"
   },
   "outputs": [
    {
     "name": "stdout",
     "output_type": "stream",
     "text": "Fitting 1 folds for each of 12 candidates, totalling 12 fits\n[00:51:00.688] INFO   artifacts\n  dir: /app/data/artifacts\n  save: true\n  reuse: 20180709-211727-fd34af5-ovr_try_2\n  experiment_id: 20180709-211727-fd34af5-ovr_try_2\n"
    },
    {
     "name": "stdout",
     "output_type": "stream",
     "text": "[00:51:01.105] INFO   _fit_and_score: n[1/12], model_id[split_i=0,train=2688,test=672,classes=168,estimator=Search(n_species=168,n_recs=1.0,classifier='cls=logreg_multi,solver=newton-cg,C=0.01',random_state=0)]: reuse.load[0.011s, 2.4 MB]: ret\n"
    },
    {
     "name": "stdout",
     "output_type": "stream",
     "text": "[00:51:01.132] INFO   _fit_and_score: n[1/12], model_id[split_i=0,train=2688,test=672,classes=168,estimator=Search(n_species=168,n_recs=1.0,classifier='cls=logreg_multi,solver=newton-cg,C=0.01',random_state=0)]: reuse.load[0.023s, 17.2 MB]: estimator\n"
    },
    {
     "name": "stdout",
     "output_type": "stream",
     "text": "[00:51:01.144] INFO   _fit_and_score: n[2/12], model_id[split_i=0,train=2688,test=672,classes=168,estimator=Search(n_species=168,n_recs=1.0,classifier='cls=logreg_multi,solver=newton-cg,C=0.1',random_state=0)]: reuse.load[0.011s, 2.5 MB]: ret\n"
    },
    {
     "name": "stdout",
     "output_type": "stream",
     "text": "[00:51:01.169] INFO   _fit_and_score: n[2/12], model_id[split_i=0,train=2688,test=672,classes=168,estimator=Search(n_species=168,n_recs=1.0,classifier='cls=logreg_multi,solver=newton-cg,C=0.1',random_state=0)]: reuse.load[0.023s, 17.2 MB]: estimator\n"
    },
    {
     "name": "stdout",
     "output_type": "stream",
     "text": "[00:51:01.170] INFO   _fit_and_score: n[1/12], model_id[split_i=0,train=2688,test=672,classes=168,estimator=Search(n_species=168,n_recs=1.0,classifier='cls=logreg_multi,solver=newton-cg,C=0.01',random_state=0)]: extra_metrics... ['classes', 'train_i', 'train_y', 'train_predict_proba', 'test_i', 'test_y', 'test_predict_proba', 'model_size', 'model_stats', 'proc_stats']\n"
    },
    {
     "name": "stdout",
     "output_type": "stream",
     "text": "[00:51:01.183] INFO   _fit_and_score: n[3/12], model_id[split_i=0,train=2688,test=672,classes=168,estimator=Search(n_species=168,n_recs=1.0,classifier='cls=logreg_multi,solver=newton-cg,C=1',random_state=0)]: reuse.load[0.012s, 2.5 MB]: ret\n"
    },
    {
     "name": "stdout",
     "output_type": "stream",
     "text": "[00:51:01.208] INFO   _fit_and_score: n[2/12], model_id[split_i=0,train=2688,test=672,classes=168,estimator=Search(n_species=168,n_recs=1.0,classifier='cls=logreg_multi,solver=newton-cg,C=0.1',random_state=0)]: extra_metrics... ['classes', 'train_i', 'train_y', 'train_predict_proba', 'test_i', 'test_y', 'test_predict_proba', 'model_size', 'model_stats', 'proc_stats']\n"
    },
    {
     "name": "stdout",
     "output_type": "stream",
     "text": "[00:51:01.220] INFO   _fit_and_score: n[3/12], model_id[split_i=0,train=2688,test=672,classes=168,estimator=Search(n_species=168,n_recs=1.0,classifier='cls=logreg_multi,solver=newton-cg,C=1',random_state=0)]: reuse.load[0.024s, 17.2 MB]: estimator\n"
    },
    {
     "name": "stdout",
     "output_type": "stream",
     "text": "[00:51:01.242] INFO   _fit_and_score: n[4/12], model_id[split_i=0,train=2688,test=672,classes=168,estimator=Search(n_species=168,n_recs=1.0,classifier='cls=logreg_ovr,solver=liblinear,C=0.01',random_state=0)]: reuse.load[0.032s, 4.7 MB]: ret\n"
    },
    {
     "name": "stdout",
     "output_type": "stream",
     "text": "[00:51:01.296] INFO   _fit_and_score: n[4/12], model_id[split_i=0,train=2688,test=672,classes=168,estimator=Search(n_species=168,n_recs=1.0,classifier='cls=logreg_ovr,solver=liblinear,C=0.01',random_state=0)]: reuse.load[0.040s, 18.2 MB]: estimator\n"
    },
    {
     "name": "stdout",
     "output_type": "stream",
     "text": "[00:51:01.304] INFO   _fit_and_score: n[3/12], model_id[split_i=0,train=2688,test=672,classes=168,estimator=Search(n_species=168,n_recs=1.0,classifier='cls=logreg_multi,solver=newton-cg,C=1',random_state=0)]: extra_metrics... ['classes', 'train_i', 'train_y', 'train_predict_proba', 'test_i', 'test_y', 'test_predict_proba', 'model_size', 'model_stats', 'proc_stats']\n"
    },
    {
     "name": "stdout",
     "output_type": "stream",
     "text": "[00:51:01.319] INFO   _fit_and_score: n[5/12], model_id[split_i=0,train=2688,test=672,classes=168,estimator=Search(n_species=168,n_recs=1.0,classifier='cls=logreg_ovr,solver=liblinear,C=0.1',random_state=0)]: reuse.load[0.023s, 4.8 MB]: ret\n"
    },
    {
     "name": "stdout",
     "output_type": "stream",
     "text": "[00:51:01.328] INFO   _fit_and_score: n[1/12], model_id[split_i=0,train=2688,test=672,classes=168,estimator=Search(n_species=168,n_recs=1.0,classifier='cls=logreg_multi,solver=newton-cg,C=0.01',random_state=0)]: extra_metrics[0.139s, 2.4 MB]: ['classes', 'train_i', 'train_y', 'train_predict_proba', 'test_i', 'test_y', 'test_predict_proba', 'model_size', 'model_stats', 'proc_stats']\n"
    },
    {
     "name": "stdout",
     "output_type": "stream",
     "text": "[00:51:01.336] INFO   _fit_and_score: n[1/12], model_id[split_i=0,train=2688,test=672,classes=168,estimator=Search(n_species=168,n_recs=1.0,classifier='cls=logreg_multi,solver=newton-cg,C=0.01',random_state=0)]: save: ret...\n"
    },
    {
     "name": "stdout",
     "output_type": "stream",
     "text": "[00:51:01.398] INFO   _fit_and_score: n[4/12], model_id[split_i=0,train=2688,test=672,classes=168,estimator=Search(n_species=168,n_recs=1.0,classifier='cls=logreg_ovr,solver=liblinear,C=0.01',random_state=0)]: extra_metrics... ['classes', 'train_i', 'train_y', 'train_predict_proba', 'test_i', 'test_y', 'test_predict_proba', 'model_size', 'model_stats', 'proc_stats']\n"
    },
    {
     "name": "stdout",
     "output_type": "stream",
     "text": "[00:51:01.403] INFO   _fit_and_score: n[5/12], model_id[split_i=0,train=2688,test=672,classes=168,estimator=Search(n_species=168,n_recs=1.0,classifier='cls=logreg_ovr,solver=liblinear,C=0.1',random_state=0)]: reuse.load[0.067s, 18.2 MB]: estimator\n"
    },
    {
     "name": "stdout",
     "output_type": "stream",
     "text": "[00:51:01.431] INFO   _fit_and_score: n[1/12], model_id[split_i=0,train=2688,test=672,classes=168,estimator=Search(n_species=168,n_recs=1.0,classifier='cls=logreg_multi,solver=newton-cg,C=0.01',random_state=0)]: save[0.090s, 2.4 MB]: ret\n"
    },
    {
     "name": "stdout",
     "output_type": "stream",
     "text": "[00:51:01.445] INFO   _fit_and_score: n[1/12], model_id[split_i=0,train=2688,test=672,classes=168,estimator=Search(n_species=168,n_recs=1.0,classifier='cls=logreg_multi,solver=newton-cg,C=0.01',random_state=0)]: save: estimator...\n"
    },
    {
     "name": "stdout",
     "output_type": "stream",
     "text": "[00:51:01.448] INFO   _fit_and_score: n[6/12], model_id[split_i=0,train=2688,test=672,classes=168,estimator=Search(n_species=168,n_recs=1.0,classifier='cls=logreg_ovr,solver=liblinear,C=1',random_state=0)]: reuse.load[0.024s, 4.9 MB]: ret\n"
    },
    {
     "name": "stdout",
     "output_type": "stream",
     "text": "[00:51:01.479] INFO   _fit_and_score: n[5/12], model_id[split_i=0,train=2688,test=672,classes=168,estimator=Search(n_species=168,n_recs=1.0,classifier='cls=logreg_ovr,solver=liblinear,C=0.1',random_state=0)]: extra_metrics... ['classes', 'train_i', 'train_y', 'train_predict_proba', 'test_i', 'test_y', 'test_predict_proba', 'model_size', 'model_stats', 'proc_stats']\n"
    },
    {
     "name": "stdout",
     "output_type": "stream",
     "text": "[00:51:01.468] INFO   _fit_and_score: n[2/12], model_id[split_i=0,train=2688,test=672,classes=168,estimator=Search(n_species=168,n_recs=1.0,classifier='cls=logreg_multi,solver=newton-cg,C=0.1',random_state=0)]: extra_metrics[0.232s, 2.5 MB]: ['classes', 'train_i', 'train_y', 'train_predict_proba', 'test_i', 'test_y', 'test_predict_proba', 'model_size', 'model_stats', 'proc_stats']\n"
    },
    {
     "name": "stdout",
     "output_type": "stream",
     "text": "[00:51:01.480] INFO   _fit_and_score: n[6/12], model_id[split_i=0,train=2688,test=672,classes=168,estimator=Search(n_species=168,n_recs=1.0,classifier='cls=logreg_ovr,solver=liblinear,C=1',random_state=0)]: reuse.load[0.025s, 18.2 MB]: estimator\n"
    },
    {
     "name": "stdout",
     "output_type": "stream",
     "text": "[00:51:01.485] INFO   _fit_and_score: n[3/12], model_id[split_i=0,train=2688,test=672,classes=168,estimator=Search(n_species=168,n_recs=1.0,classifier='cls=logreg_multi,solver=newton-cg,C=1',random_state=0)]: extra_metrics[0.148s, 2.5 MB]: ['classes', 'train_i', 'train_y', 'train_predict_proba', 'test_i', 'test_y', 'test_predict_proba', 'model_size', 'model_stats', 'proc_stats']\n"
    },
    {
     "name": "stdout",
     "output_type": "stream",
     "text": "[00:51:01.487] INFO   _fit_and_score: n[2/12], model_id[split_i=0,train=2688,test=672,classes=168,estimator=Search(n_species=168,n_recs=1.0,classifier='cls=logreg_multi,solver=newton-cg,C=0.1',random_state=0)]: save: ret...\n"
    },
    {
     "name": "stdout",
     "output_type": "stream",
     "text": "[00:51:01.491] INFO   _fit_and_score: n[3/12], model_id[split_i=0,train=2688,test=672,classes=168,estimator=Search(n_species=168,n_recs=1.0,classifier='cls=logreg_multi,solver=newton-cg,C=1',random_state=0)]: save: ret...\n"
    },
    {
     "name": "stdout",
     "output_type": "stream",
     "text": "[00:51:01.513] INFO   _fit_and_score: n[7/12], model_id[split_i=0,train=2688,test=672,classes=168,estimator=Search(n_species=168,n_recs=1.0,classifier='cls=logreg_ovr,solver=saga,max_iter=12800,C=0.01',random_state=0)]: fit...\n"
    },
    {
     "name": "stdout",
     "output_type": "stream",
     "text": "[00:51:01.542] INFO   _fit_and_score: n[2/12], model_id[split_i=0,train=2688,test=672,classes=168,estimator=Search(n_species=168,n_recs=1.0,classifier='cls=logreg_multi,solver=newton-cg,C=0.1',random_state=0)]: save[0.049s, 2.5 MB]: ret\n"
    },
    {
     "name": "stdout",
     "output_type": "stream",
     "text": "[00:51:01.554] INFO   _fit_and_score: n[2/12], model_id[split_i=0,train=2688,test=672,classes=168,estimator=Search(n_species=168,n_recs=1.0,classifier='cls=logreg_multi,solver=newton-cg,C=0.1',random_state=0)]: save: estimator...\n"
    },
    {
     "name": "stdout",
     "output_type": "stream",
     "text": "[00:51:01.559] INFO   _fit_and_score: n[8/12], model_id[split_i=0,train=2688,test=672,classes=168,estimator=Search(n_species=168,n_recs=1.0,classifier='cls=logreg_ovr,solver=saga,max_iter=12800,C=0.1',random_state=0)]: fit...\n"
    },
    {
     "name": "stdout",
     "output_type": "stream",
     "text": "[00:51:01.560] INFO   _fit_and_score: n[6/12], model_id[split_i=0,train=2688,test=672,classes=168,estimator=Search(n_species=168,n_recs=1.0,classifier='cls=logreg_ovr,solver=liblinear,C=1',random_state=0)]: extra_metrics... ['classes', 'train_i', 'train_y', 'train_predict_proba', 'test_i', 'test_y', 'test_predict_proba', 'model_size', 'model_stats', 'proc_stats']\n"
    },
    {
     "name": "stdout",
     "output_type": "stream",
     "text": "[00:51:01.571] INFO   _fit_and_score: n[1/12], model_id[split_i=0,train=2688,test=672,classes=168,estimator=Search(n_species=168,n_recs=1.0,classifier='cls=logreg_multi,solver=newton-cg,C=0.01',random_state=0)]: save[0.109s, 17.2 MB]: estimator\n"
    },
    {
     "name": "stdout",
     "output_type": "stream",
     "text": "[00:51:01.591] INFO   _fit_and_score: n[3/12], model_id[split_i=0,train=2688,test=672,classes=168,estimator=Search(n_species=168,n_recs=1.0,classifier='cls=logreg_multi,solver=newton-cg,C=1',random_state=0)]: save[0.094s, 2.5 MB]: ret\n"
    },
    {
     "name": "stdout",
     "output_type": "stream",
     "text": "[00:51:01.598] INFO   _fit_and_score: n[3/12], model_id[split_i=0,train=2688,test=672,classes=168,estimator=Search(n_species=168,n_recs=1.0,classifier='cls=logreg_multi,solver=newton-cg,C=1',random_state=0)]: save: estimator...\n"
    },
    {
     "name": "stdout",
     "output_type": "stream",
     "text": "[00:51:01.709] INFO   _fit_and_score: n[9/12], model_id[split_i=0,train=2688,test=672,classes=168,estimator=Search(n_species=168,n_recs=1.0,classifier='cls=logreg_ovr,solver=saga,max_iter=12800,C=1',random_state=0)]: fit...\n"
    },
    {
     "name": "stdout",
     "output_type": "stream",
     "text": "[00:51:01.695] INFO   _fit_and_score: n[2/12], model_id[split_i=0,train=2688,test=672,classes=168,estimator=Search(n_species=168,n_recs=1.0,classifier='cls=logreg_multi,solver=newton-cg,C=0.1',random_state=0)]: save[0.136s, 17.2 MB]: estimator\n"
    },
    {
     "name": "stdout",
     "output_type": "stream",
     "text": "[00:51:01.803] INFO   _fit_and_score: n[3/12], model_id[split_i=0,train=2688,test=672,classes=168,estimator=Search(n_species=168,n_recs=1.0,classifier='cls=logreg_multi,solver=newton-cg,C=1',random_state=0)]: save[0.192s, 17.2 MB]: estimator\n"
    },
    {
     "name": "stdout",
     "output_type": "stream",
     "text": "[00:51:01.844] INFO   _fit_and_score: n[4/12], model_id[split_i=0,train=2688,test=672,classes=168,estimator=Search(n_species=168,n_recs=1.0,classifier='cls=logreg_ovr,solver=liblinear,C=0.01',random_state=0)]: extra_metrics[0.397s, 4.7 MB]: ['classes', 'train_i', 'train_y', 'train_predict_proba', 'test_i', 'test_y', 'test_predict_proba', 'model_size', 'model_stats', 'proc_stats']\n"
    },
    {
     "name": "stdout",
     "output_type": "stream",
     "text": "[00:51:01.854] INFO   _fit_and_score: n[10/12], model_id[split_i=0,train=2688,test=672,classes=168,estimator=Search(n_species=168,n_recs=1.0,classifier='cls=logreg_multi,solver=saga,max_iter=12800,C=0.01',random_state=0)]: fit...\n"
    },
    {
     "name": "stdout",
     "output_type": "stream",
     "text": "[00:51:01.872] INFO   _fit_and_score: n[4/12], model_id[split_i=0,train=2688,test=672,classes=168,estimator=Search(n_species=168,n_recs=1.0,classifier='cls=logreg_ovr,solver=liblinear,C=0.01',random_state=0)]: save: ret...\n"
    },
    {
     "name": "stdout",
     "output_type": "stream",
     "text": "[00:51:01.885] INFO   _fit_and_score: n[5/12], model_id[split_i=0,train=2688,test=672,classes=168,estimator=Search(n_species=168,n_recs=1.0,classifier='cls=logreg_ovr,solver=liblinear,C=0.1',random_state=0)]: extra_metrics[0.373s, 4.8 MB]: ['classes', 'train_i', 'train_y', 'train_predict_proba', 'test_i', 'test_y', 'test_predict_proba', 'model_size', 'model_stats', 'proc_stats']\n"
    },
    {
     "name": "stdout",
     "output_type": "stream",
     "text": "[00:51:01.911] INFO   _fit_and_score: n[5/12], model_id[split_i=0,train=2688,test=672,classes=168,estimator=Search(n_species=168,n_recs=1.0,classifier='cls=logreg_ovr,solver=liblinear,C=0.1',random_state=0)]: save: ret...\n"
    },
    {
     "name": "stdout",
     "output_type": "stream",
     "text": "[00:51:01.937] INFO   _fit_and_score: n[6/12], model_id[split_i=0,train=2688,test=672,classes=168,estimator=Search(n_species=168,n_recs=1.0,classifier='cls=logreg_ovr,solver=liblinear,C=1',random_state=0)]: extra_metrics[0.334s, 4.9 MB]: ['classes', 'train_i', 'train_y', 'train_predict_proba', 'test_i', 'test_y', 'test_predict_proba', 'model_size', 'model_stats', 'proc_stats']\n"
    },
    {
     "name": "stdout",
     "output_type": "stream",
     "text": "[00:51:01.948] INFO   _fit_and_score: n[6/12], model_id[split_i=0,train=2688,test=672,classes=168,estimator=Search(n_species=168,n_recs=1.0,classifier='cls=logreg_ovr,solver=liblinear,C=1',random_state=0)]: save: ret...\n"
    },
    {
     "name": "stdout",
     "output_type": "stream",
     "text": "[00:51:01.951] INFO   _fit_and_score: n[11/12], model_id[split_i=0,train=2688,test=672,classes=168,estimator=Search(n_species=168,n_recs=1.0,classifier='cls=logreg_multi,solver=saga,max_iter=12800,C=0.1',random_state=0)]: fit...\n"
    },
    {
     "name": "stdout",
     "output_type": "stream",
     "text": "[00:51:01.970] INFO   _fit_and_score: n[4/12], model_id[split_i=0,train=2688,test=672,classes=168,estimator=Search(n_species=168,n_recs=1.0,classifier='cls=logreg_ovr,solver=liblinear,C=0.01',random_state=0)]: save[0.087s, 4.7 MB]: ret\n"
    },
    {
     "name": "stdout",
     "output_type": "stream",
     "text": "[00:51:01.987] INFO   _fit_and_score: n[4/12], model_id[split_i=0,train=2688,test=672,classes=168,estimator=Search(n_species=168,n_recs=1.0,classifier='cls=logreg_ovr,solver=liblinear,C=0.01',random_state=0)]: save: estimator...\n"
    },
    {
     "name": "stdout",
     "output_type": "stream",
     "text": "[00:51:01.999] INFO   _fit_and_score: n[5/12], model_id[split_i=0,train=2688,test=672,classes=168,estimator=Search(n_species=168,n_recs=1.0,classifier='cls=logreg_ovr,solver=liblinear,C=0.1',random_state=0)]: save[0.066s, 4.8 MB]: ret\n"
    },
    {
     "name": "stdout",
     "output_type": "stream",
     "text": "[00:51:02.003] INFO   _fit_and_score: n[5/12], model_id[split_i=0,train=2688,test=672,classes=168,estimator=Search(n_species=168,n_recs=1.0,classifier='cls=logreg_ovr,solver=liblinear,C=0.1',random_state=0)]: save: estimator...\n"
    },
    {
     "name": "stdout",
     "output_type": "stream",
     "text": "[00:51:02.008] INFO   _fit_and_score: n[6/12], model_id[split_i=0,train=2688,test=672,classes=168,estimator=Search(n_species=168,n_recs=1.0,classifier='cls=logreg_ovr,solver=liblinear,C=1',random_state=0)]: save[0.055s, 4.9 MB]: ret\n"
    },
    {
     "name": "stdout",
     "output_type": "stream",
     "text": "[00:51:02.011] INFO   _fit_and_score: n[6/12], model_id[split_i=0,train=2688,test=672,classes=168,estimator=Search(n_species=168,n_recs=1.0,classifier='cls=logreg_ovr,solver=liblinear,C=1',random_state=0)]: save: estimator...\n"
    },
    {
     "name": "stdout",
     "output_type": "stream",
     "text": "[00:51:02.058] INFO   _fit_and_score: n[4/12], model_id[split_i=0,train=2688,test=672,classes=168,estimator=Search(n_species=168,n_recs=1.0,classifier='cls=logreg_ovr,solver=liblinear,C=0.01',random_state=0)]: save[0.068s, 18.2 MB]: estimator\n"
    },
    {
     "name": "stdout",
     "output_type": "stream",
     "text": "[00:51:02.073] INFO   _fit_and_score: n[5/12], model_id[split_i=0,train=2688,test=672,classes=168,estimator=Search(n_species=168,n_recs=1.0,classifier='cls=logreg_ovr,solver=liblinear,C=0.1',random_state=0)]: save[0.068s, 18.2 MB]: estimator\n"
    },
    {
     "name": "stdout",
     "output_type": "stream",
     "text": "[00:51:02.115] INFO   _fit_and_score: n[12/12], model_id[split_i=0,train=2688,test=672,classes=168,estimator=Search(n_species=168,n_recs=1.0,classifier='cls=logreg_multi,solver=saga,max_iter=12800,C=1',random_state=0)]: fit...\n"
    },
    {
     "name": "stdout",
     "output_type": "stream",
     "text": "[00:51:02.439] INFO   _fit_and_score: n[6/12], model_id[split_i=0,train=2688,test=672,classes=168,estimator=Search(n_species=168,n_recs=1.0,classifier='cls=logreg_ovr,solver=liblinear,C=1',random_state=0)]: save[0.427s, 18.2 MB]: estimator\n"
    },
    {
     "name": "stdout",
     "output_type": "stream",
     "text": "[04:05:40.701] INFO   _fit_and_score: n[10/12], model_id[split_i=0,train=2688,test=672,classes=168,estimator=Search(n_species=168,n_recs=1.0,classifier='cls=logreg_multi,solver=saga,max_iter=12800,C=0.01',random_state=0)]: fit[11678.560s]\n"
    },
    {
     "name": "stdout",
     "output_type": "stream",
     "text": "[04:05:42.234] INFO   _fit_and_score: n[10/12], model_id[split_i=0,train=2688,test=672,classes=168,estimator=Search(n_species=168,n_recs=1.0,classifier='cls=logreg_multi,solver=saga,max_iter=12800,C=0.01',random_state=0)]: extra_metrics... ['classes', 'train_i', 'train_y', 'train_predict_proba', 'test_i', 'test_y', 'test_predict_proba', 'model_size', 'model_stats', 'proc_stats']\n"
    },
    {
     "name": "stdout",
     "output_type": "stream",
     "text": "[04:05:42.539] INFO   _fit_and_score: n[10/12], model_id[split_i=0,train=2688,test=672,classes=168,estimator=Search(n_species=168,n_recs=1.0,classifier='cls=logreg_multi,solver=saga,max_iter=12800,C=0.01',random_state=0)]: extra_metrics[0.268s, 8.6 MB]: ['classes', 'train_i', 'train_y', 'train_predict_proba', 'test_i', 'test_y', 'test_predict_proba', 'model_size', 'model_stats', 'proc_stats']\n"
    },
    {
     "name": "stdout",
     "output_type": "stream",
     "text": "[04:05:42.564] INFO   _fit_and_score: n[10/12], model_id[split_i=0,train=2688,test=672,classes=168,estimator=Search(n_species=168,n_recs=1.0,classifier='cls=logreg_multi,solver=saga,max_iter=12800,C=0.01',random_state=0)]: save: ret...\n"
    },
    {
     "name": "stdout",
     "output_type": "stream",
     "text": "[04:05:42.643] INFO   _fit_and_score: n[10/12], model_id[split_i=0,train=2688,test=672,classes=168,estimator=Search(n_species=168,n_recs=1.0,classifier='cls=logreg_multi,solver=saga,max_iter=12800,C=0.01',random_state=0)]: save[0.069s, 8.6 MB]: ret\n"
    },
    {
     "name": "stdout",
     "output_type": "stream",
     "text": "[04:05:42.645] INFO   _fit_and_score: n[10/12], model_id[split_i=0,train=2688,test=672,classes=168,estimator=Search(n_species=168,n_recs=1.0,classifier='cls=logreg_multi,solver=saga,max_iter=12800,C=0.01',random_state=0)]: save: estimator...\n"
    },
    {
     "name": "stdout",
     "output_type": "stream",
     "text": "[04:05:42.728] INFO   _fit_and_score: n[10/12], model_id[split_i=0,train=2688,test=672,classes=168,estimator=Search(n_species=168,n_recs=1.0,classifier='cls=logreg_multi,solver=saga,max_iter=12800,C=0.01',random_state=0)]: save[0.081s, 18.2 MB]: estimator\n"
    },
    {
     "name": "stdout",
     "output_type": "stream",
     "text": "[04:43:52.084] INFO   _fit_and_score: n[7/12], model_id[split_i=0,train=2688,test=672,classes=168,estimator=Search(n_species=168,n_recs=1.0,classifier='cls=logreg_ovr,solver=saga,max_iter=12800,C=0.01',random_state=0)]: fit[13970.045s]\n"
    },
    {
     "name": "stdout",
     "output_type": "stream",
     "text": "[04:43:52.678] INFO   _fit_and_score: n[7/12], model_id[split_i=0,train=2688,test=672,classes=168,estimator=Search(n_species=168,n_recs=1.0,classifier='cls=logreg_ovr,solver=saga,max_iter=12800,C=0.01',random_state=0)]: extra_metrics... ['classes', 'train_i', 'train_y', 'train_predict_proba', 'test_i', 'test_y', 'test_predict_proba', 'model_size', 'model_stats', 'proc_stats']\n"
    },
    {
     "name": "stdout",
     "output_type": "stream",
     "text": "[04:43:52.826] INFO   _fit_and_score: n[7/12], model_id[split_i=0,train=2688,test=672,classes=168,estimator=Search(n_species=168,n_recs=1.0,classifier='cls=logreg_ovr,solver=saga,max_iter=12800,C=0.01',random_state=0)]: extra_metrics[0.126s, 9.0 MB]: ['classes', 'train_i', 'train_y', 'train_predict_proba', 'test_i', 'test_y', 'test_predict_proba', 'model_size', 'model_stats', 'proc_stats']\n"
    },
    {
     "name": "stdout",
     "output_type": "stream",
     "text": "[04:43:52.840] INFO   _fit_and_score: n[7/12], model_id[split_i=0,train=2688,test=672,classes=168,estimator=Search(n_species=168,n_recs=1.0,classifier='cls=logreg_ovr,solver=saga,max_iter=12800,C=0.01',random_state=0)]: save: ret...\n"
    },
    {
     "name": "stdout",
     "output_type": "stream",
     "text": "[04:43:52.940] INFO   _fit_and_score: n[7/12], model_id[split_i=0,train=2688,test=672,classes=168,estimator=Search(n_species=168,n_recs=1.0,classifier='cls=logreg_ovr,solver=saga,max_iter=12800,C=0.01',random_state=0)]: save[0.089s, 9.0 MB]: ret\n"
    },
    {
     "name": "stdout",
     "output_type": "stream",
     "text": "[04:43:52.943] INFO   _fit_and_score: n[7/12], model_id[split_i=0,train=2688,test=672,classes=168,estimator=Search(n_species=168,n_recs=1.0,classifier='cls=logreg_ovr,solver=saga,max_iter=12800,C=0.01',random_state=0)]: save: estimator...\n"
    },
    {
     "name": "stdout",
     "output_type": "stream",
     "text": "[04:43:53.029] INFO   _fit_and_score: n[7/12], model_id[split_i=0,train=2688,test=672,classes=168,estimator=Search(n_species=168,n_recs=1.0,classifier='cls=logreg_ovr,solver=saga,max_iter=12800,C=0.01',random_state=0)]: save[0.085s, 18.2 MB]: estimator\n"
    },
    {
     "name": "stderr",
     "output_type": "stream",
     "text": "Process ForkPoolWorker-11:\n"
    },
    {
     "name": "stderr",
     "output_type": "stream",
     "text": "Process ForkPoolWorker-9:\n"
    },
    {
     "name": "stderr",
     "output_type": "stream",
     "text": "Process ForkPoolWorker-10:\n"
    },
    {
     "name": "stderr",
     "output_type": "stream",
     "text": "Process ForkPoolWorker-6:\n"
    },
    {
     "name": "stdout",
     "output_type": "stream",
     "text": "[05:48:00.933] INFO   _fit_and_score: n[11/12], model_id[split_i=0,train=2688,test=672,classes=168,estimator=Search(n_species=168,n_recs=1.0,classifier='cls=logreg_multi,solver=saga,max_iter=12800,C=0.1',random_state=0)]: fit[17818.691s]\n"
    },
    {
     "name": "stdout",
     "output_type": "stream",
     "text": "[05:48:00.933] INFO   _fit_and_score: n[12/12], model_id[split_i=0,train=2688,test=672,classes=168,estimator=Search(n_species=168,n_recs=1.0,classifier='cls=logreg_multi,solver=saga,max_iter=12800,C=1',random_state=0)]: fit[17818.559s]\n"
    },
    {
     "name": "stderr",
     "output_type": "stream",
     "text": "Traceback (most recent call last):\n"
    },
    {
     "name": "stderr",
     "output_type": "stream",
     "text": "Traceback (most recent call last):\n"
    },
    {
     "name": "stderr",
     "output_type": "stream",
     "text": "Traceback (most recent call last):\n"
    },
    {
     "name": "stderr",
     "output_type": "stream",
     "text": "  File \"/opt/conda/lib/python3.6/multiprocessing/process.py\", line 258, in _bootstrap\n    self.run()\n"
    },
    {
     "name": "stderr",
     "output_type": "stream",
     "text": "  File \"/opt/conda/lib/python3.6/multiprocessing/process.py\", line 258, in _bootstrap\n    self.run()\n"
    },
    {
     "name": "stderr",
     "output_type": "stream",
     "text": "  File \"/opt/conda/lib/python3.6/multiprocessing/process.py\", line 258, in _bootstrap\n    self.run()\n"
    },
    {
     "name": "stderr",
     "output_type": "stream",
     "text": "  File \"/opt/conda/lib/python3.6/multiprocessing/process.py\", line 93, in run\n    self._target(*self._args, **self._kwargs)\n"
    },
    {
     "name": "stderr",
     "output_type": "stream",
     "text": "  File \"/opt/conda/lib/python3.6/multiprocessing/process.py\", line 93, in run\n    self._target(*self._args, **self._kwargs)\n"
    },
    {
     "name": "stderr",
     "output_type": "stream",
     "text": "  File \"/opt/conda/lib/python3.6/multiprocessing/pool.py\", line 108, in worker\n    task = get()\n"
    },
    {
     "name": "stderr",
     "output_type": "stream",
     "text": "  File \"/opt/conda/lib/python3.6/multiprocessing/process.py\", line 93, in run\n    self._target(*self._args, **self._kwargs)\n"
    },
    {
     "name": "stderr",
     "output_type": "stream",
     "text": "  File \"/opt/conda/lib/python3.6/multiprocessing/pool.py\", line 108, in worker\n    task = get()\n"
    },
    {
     "name": "stderr",
     "output_type": "stream",
     "text": "  File \"/opt/conda/lib/python3.6/site-packages/sklearn/externals/joblib/pool.py\", line 360, in get\n    racquire()\n"
    },
    {
     "name": "stderr",
     "output_type": "stream",
     "text": "  File \"/opt/conda/lib/python3.6/multiprocessing/pool.py\", line 108, in worker\n    task = get()\n"
    },
    {
     "name": "stdout",
     "output_type": "stream",
     "text": "[05:48:00.939] INFO   _fit_and_score: n[9/12], model_id[split_i=0,train=2688,test=672,classes=168,estimator=Search(n_species=168,n_recs=1.0,classifier='cls=logreg_ovr,solver=saga,max_iter=12800,C=1',random_state=0)]: fit[17818.796s]\n"
    },
    {
     "name": "stderr",
     "output_type": "stream",
     "text": "KeyboardInterrupt\n"
    },
    {
     "name": "stderr",
     "output_type": "stream",
     "text": "  File \"/opt/conda/lib/python3.6/site-packages/sklearn/externals/joblib/pool.py\", line 360, in get\n    racquire()\n"
    },
    {
     "name": "stderr",
     "output_type": "stream",
     "text": "  File \"/opt/conda/lib/python3.6/site-packages/sklearn/externals/joblib/pool.py\", line 360, in get\n    racquire()\n"
    },
    {
     "name": "stderr",
     "output_type": "stream",
     "text": "KeyboardInterrupt\n"
    },
    {
     "name": "stdout",
     "output_type": "stream",
     "text": "[05:48:00.958] INFO   _fit_and_score: n[8/12], model_id[split_i=0,train=2688,test=672,classes=168,estimator=Search(n_species=168,n_recs=1.0,classifier='cls=logreg_ovr,solver=saga,max_iter=12800,C=0.1',random_state=0)]: fit[17818.916s]\n"
    },
    {
     "name": "stderr",
     "output_type": "stream",
     "text": "KeyboardInterrupt\n"
    },
    {
     "name": "stderr",
     "output_type": "stream",
     "text": "Traceback (most recent call last):\n"
    },
    {
     "name": "stderr",
     "output_type": "stream",
     "text": "  File \"/opt/conda/lib/python3.6/multiprocessing/process.py\", line 258, in _bootstrap\n    self.run()\n"
    },
    {
     "name": "stderr",
     "output_type": "stream",
     "text": "  File \"/opt/conda/lib/python3.6/multiprocessing/process.py\", line 93, in run\n    self._target(*self._args, **self._kwargs)\n"
    },
    {
     "name": "stderr",
     "output_type": "stream",
     "text": "  File \"/opt/conda/lib/python3.6/multiprocessing/pool.py\", line 108, in worker\n    task = get()\n"
    },
    {
     "name": "stderr",
     "output_type": "stream",
     "text": "  File \"/opt/conda/lib/python3.6/site-packages/sklearn/externals/joblib/pool.py\", line 362, in get\n    return recv()\n"
    },
    {
     "name": "stderr",
     "output_type": "stream",
     "text": "  File \"/opt/conda/lib/python3.6/multiprocessing/connection.py\", line 250, in recv\n    buf = self._recv_bytes()\n"
    },
    {
     "name": "stderr",
     "output_type": "stream",
     "text": "  File \"/opt/conda/lib/python3.6/multiprocessing/connection.py\", line 407, in _recv_bytes\n    buf = self._recv(4)\n"
    },
    {
     "name": "stderr",
     "output_type": "stream",
     "text": "  File \"/opt/conda/lib/python3.6/multiprocessing/connection.py\", line 379, in _recv\n    chunk = read(handle, remaining)\n"
    },
    {
     "name": "stderr",
     "output_type": "stream",
     "text": "KeyboardInterrupt\n"
    }
   ],
   "source": [
    "# GridSearchCV many models / model params\n",
    "#   - Order these roughly from most to least expensive, so that training runs fail fast (e.g. oom at the start, not the end)\n",
    "param_grid = list(unique_everseen([\n",
    "    dict(\n",
    "        classifier=[classifier],\n",
    "        n_species=[n_species if isinstance(n_species, int) else int(n_species * _recs_stats['sp'])],\n",
    "        n_recs=[\n",
    "            # n_recs if isinstance(n_recs, int) else int(n_recs * _recs_stats['recs']),\n",
    "            # TODO Figure out how to represent this as an n instead of a frac again [TODO interaction with test_size=.2 ...]\n",
    "            #   - TODO Also make clear in the plot descs when e.g. (recs[3360], n_species[33], n_recs[1.0]) -> n_recs[33*20 < 3360]\n",
    "            n_recs,\n",
    "        ],\n",
    "    )\n",
    "    for (n_species, n_recs) in [\n",
    "        # Subset for learning curves\n",
    "        #   - Biggest first, to fail fast\n",
    "\n",
    "        # (None, None),\n",
    "\n",
    "        (1.00, 1.00),\n",
    "        # (1.00, 0.50),\n",
    "        # (0.50, 1.00),\n",
    "\n",
    "        # (0.10, 0.10),  # Faster dev\n",
    "\n",
    "    ]\n",
    "    # model_size ~ forest_depth\n",
    "    for rf_mean_depth_at_168_sp in [\n",
    "        93.5,\n",
    "    ]\n",
    "    for rf_max_depth in [\n",
    "        'null',\n",
    "        int(rf_mean_depth_at_168_sp * n_species * 1),\n",
    "        int(rf_mean_depth_at_168_sp * n_species * 3/4),\n",
    "        int(rf_mean_depth_at_168_sp * n_species * 1/2),\n",
    "        int(rf_mean_depth_at_168_sp * n_species * 1/3),\n",
    "        int(rf_mean_depth_at_168_sp * n_species * 1/4),\n",
    "        int(rf_mean_depth_at_168_sp * n_species * 1/8),\n",
    "        5,\n",
    "        4,\n",
    "        3,\n",
    "        2,\n",
    "        1,\n",
    "    ]\n",
    "    # for ovr_rf_max_depth in [int(rf_max_depth / 10) if rf_max_depth != 'null' else 'null']\n",
    "    # for xgb_rf_max_depth in [lambda x: x if x != 'null' else 100]\n",
    "    for ovr_rf_max_depth in [\n",
    "        # 'null',\n",
    "        # 46,\n",
    "        # 5,\n",
    "        # 4,\n",
    "        # 3,\n",
    "        2,\n",
    "        1,\n",
    "    ]\n",
    "    for xgb_rf_max_depth_f in [lambda x: x if x != 'null' else 100]\n",
    "    for xgb_rf_max_depth in [\n",
    "        # xgb_rf_max_depth_f(rf_max_depth),\n",
    "        xgb_rf_max_depth_f(ovr_rf_max_depth),\n",
    "    ]\n",
    "    for rf_n_estimators in [\n",
    "        # 2000, 1500,  # WARNING Not mem safe on laptop\n",
    "        100,\n",
    "        # 50, 25,  # TODO Train\n",
    "    ]\n",
    "    for xgb_rf_n_estimators in [\n",
    "        1600, 400,\n",
    "        100,\n",
    "        # 50, 25,\n",
    "    ]\n",
    "    for ovr_rf_n_estimators in [\n",
    "        100,\n",
    "        # 50, 25,\n",
    "    ]\n",
    "    for logreg_cls, logreg_solver in [\n",
    "        ('logreg_multi', 'newton-cg'),  # Similar acc to ('logreg_ovr', 'liblinear') but ~2-10x slower to train\n",
    "        ('logreg_ovr', 'liblinear'),\n",
    "        ('logreg_ovr', 'saga'),\n",
    "        ('logreg_multi', 'saga'),\n",
    "    ]\n",
    "    for logreg_max_iter in (\n",
    "        [None] if logreg_solver not in ['saga'] else [\n",
    "            # 100,\n",
    "            # 800,\n",
    "            # 3200,\n",
    "            12800,\n",
    "        ]\n",
    "    )\n",
    "    for logreg_C in [\n",
    "        # Default: 1\n",
    "        # 1,\n",
    "        .01, .1, 1,\n",
    "        # .001, .005, .01, .1, 1, 10, 100,\n",
    "    ]\n",
    "    for classifier in [\n",
    "\n",
    "        # RF\n",
    "        # f'cls: xgb_rf, n_estimators: {xgb_rf_n_estimators}, max_depth: {xgb_rf_max_depth}',\n",
    "        # f'cls: rf, n_estimators: {rf_n_estimators}, max_depth: {rf_max_depth}',\n",
    "        # f'cls: ovr-rf, n_estimators: {ovr_rf_n_estimators}, max_depth: {ovr_rf_max_depth}',\n",
    "\n",
    "        # Logistic regression\n",
    "        (\n",
    "            f'cls: {logreg_cls}, solver: {logreg_solver}, C: {logreg_C}' if logreg_max_iter is None else\n",
    "            f'cls: {logreg_cls}, solver: {logreg_solver}, max_iter: {logreg_max_iter}, C: {logreg_C}'\n",
    "        ),\n",
    "\n",
    "    ]\n",
    "]))\n",
    "\n",
    "# TODO Increase cv to decrease variance in eval metrics (this made Alex extremely squirmy)\n",
    "cv = GridSearchCVCached(\n",
    "    estimator=Search(projection=projection),\n",
    "    param_grid=param_grid,\n",
    "    refit=False,  # Don't spend time fitting cv.best_estimator_ at the end (default: True)\n",
    "    # cv=3,  # [SP14] uses two-/three-fold CV [why?]\n",
    "    # Stratified ensures that all classes have >0 instances in each split, which is statistically maybe fishy but avoids\n",
    "    # breaking various code that merges the split results back together and assumes all splits' classes are the same\n",
    "    cv=sk.model_selection.StratifiedShuffleSplit(\n",
    "        n_splits=1,  # [for ~18/20 miss: ~19m, ~16g disk cache]\n",
    "        # n_splits=2,\n",
    "        # n_splits=3,\n",
    "        # n_splits=5,\n",
    "        # n_splits=10,\n",
    "        # n_splits=20,  # Known good [>51m uncached, >25g disk cache]\n",
    "        # n_splits=100,  # [?m runtime, ?g disk cache]\n",
    "        test_size=.2,\n",
    "        random_state=0,\n",
    "    ),\n",
    "    return_train_score=True,\n",
    "    # return_estimator=True,  # Verrrry heavy, use extra_metrics instead\n",
    "    # recompute_extra_metrics=True,  # Loads estimator.pkl (fast) but doesn't return it (huge)\n",
    "    extra_metrics=dict(\n",
    "        # [How to specify SearchEvals here without creating caching headaches?]\n",
    "        #   - e.g. defs don't bust cache on code edit\n",
    "        #   - And avoid thrashing cache every time we refactor SearchEvals\n",
    "        classes='estimator.classes_',\n",
    "        train_i='train',\n",
    "        train_y='y_train',\n",
    "        train_predict_proba='estimator.classifier_.predict_proba(X_train)',\n",
    "        test_i='test',\n",
    "        test_y='y_test',\n",
    "        test_predict_proba='estimator.classifier_.predict_proba(X_test)',\n",
    "        model_size='len(joblib_dumps(estimator))',\n",
    "        model_stats='model_stats(estimator)',\n",
    "        proc_stats='proc_stats',\n",
    "    ),\n",
    "    # verbose=10,  # O(models * n_splits) lines of outputs\n",
    "    verbose=1,  # O(1) lines of outputs\n",
    "    # Use n_jobs=1\n",
    "    #   - All classifiers can parallelize .fit/.predict\n",
    "    #   - Avoid memory contention\n",
    "    # n_jobs=1,  # For %prun, and way faster for 100% loads\n",
    "    # n_jobs=2,\n",
    "    # n_jobs=4,\n",
    "    n_jobs=8,  # For slow ovr serdes [why?]\n",
    "    # n_jobs=16,  # For recomputing model_stats\n",
    "    artifacts=dict(\n",
    "        dir=f'{data_dir}/artifacts',  # TODO Iron out syncing across local/gs/remote\n",
    "        save=True,\n",
    "        reuse='20180709-211727-fd34af5-ovr_try_2',\n",
    "        # skip_compute_if_missing=True,  # TODO Tricky to implement: _fit_and_score_cached needs to be able to return nothing\n",
    "    ),\n",
    ")\n",
    "with contextlib.ExitStack() as stack:\n",
    "    # stack.enter_context(cache_control(refresh=True))  # Disk unsafe...\n",
    "    stack.enter_context(cache_control(enabled=False))  # Disk safe\n",
    "    # stack.enter_context(joblib.parallel_backend('threading'))  # Default: 'multiprocessing'\n",
    "    # stack.enter_context(joblib.parallel_backend('sequential'))  # For %prun [FIXME Has no effect; why?]\n",
    "    stack.enter_context(log.context(level='info'))\n",
    "    # stack.enter_context(log.context(level='debug'))\n",
    "    X, y = Search.Xy(recs)\n",
    "    cv.fit(X, y)"
   ]
  },
  {
   "cell_type": "code",
   "execution_count": null,
   "metadata": {},
   "outputs": [],
   "source": [
    "# Precompute eval metrics + dims for the plots below\n",
    "#   - Grain: models\n",
    "#   - Metrics: train_score, test_score, ...\n",
    "#   - Dims: model_id, fold, params_data, params_complexity, params_model, ...\n",
    "ks_params_data = [\n",
    "    'n_species',\n",
    "    'n_recs',\n",
    "]\n",
    "ks_params_complexity = [\n",
    "    'c_n_estimators',\n",
    "    # 'c_max_depth',\n",
    "    'c_C',\n",
    "]\n",
    "# params_model = ...  # Everything else\n",
    "# log.debug('Start')\n",
    "cv_models = (cv_results_splits_df(cv.cv_results_)\n",
    "    # Slow yaml parsing, compute up front\n",
    "    .assign(params_dict=lambda df: df.apply(axis=1, func=lambda row: dict(\n",
    "        **{strip_startswith(k, 'param_'): row[k] for k in df if k.startswith('param_') and k not in ['param_classifier']},\n",
    "        # HACK 'classifier.foo' -> 'c_foo'\n",
    "        #   - TODO Refactor Search.classifier to get rid of the yaml strs ('c_cls', 'c_n_estimators', ...)\n",
    "        **{'c_' + k: v for k, v in yaml.safe_load('{%s}' % row.param_classifier).items()},\n",
    "        # 'classifier': yaml.safe_load('{%s}' % row.param_classifier),\n",
    "    )))\n",
    "    [lambda df: [c for c in df if not c.startswith('param_')]]\n",
    "    # Dims from params (for validation curves, learning curves, etc.)\n",
    "    .assign(\n",
    "        params_data=lambda df: df.params_dict.apply(lambda d: ', '.join(\n",
    "            '%s[%s]' % (k, d[k]) for k in ks_params_data if k in d\n",
    "        )),\n",
    "        params_complexity=lambda df: df.params_dict.apply(lambda d: ', '.join(\n",
    "            '%s[%s]' % (k, d[k]) for k in ks_params_complexity if k in d\n",
    "        )),\n",
    "        params_model=lambda df: df.params_dict.apply(lambda d: ', '.join(\n",
    "            '%s[%s]' % (k, d[k]) for k in d if k not in ks_params_data + ks_params_complexity\n",
    "        )),\n",
    "        params_data_and_model=lambda df: df.apply(axis=1, func=lambda row: (\n",
    "            '\\n'.join([row.params_data, row.params_model])\n",
    "            # '\\n'.join([\n",
    "            #     ','.join('%s[%s]' % (k, d[k]) for k in ks_params_data if k in d),  # params_data\n",
    "            #     ','.join('%s[%s]' % (k, d[k]) for k in d if k not in ks_params_data + ks_params_complexity),  # params_model\n",
    "            # ])\n",
    "        )),\n",
    "    )\n",
    "    # HACK Convert yaml strs ('x: y') to bracket style ('x[y]'), for visual consistency\n",
    "    #   - TODO Refactor Search.classifier to get rid of the yaml strs ('c_cls', 'c_n_estimators', ...)\n",
    "    .applymap(lambda x: x if not isinstance(x, str) else (\n",
    "        re.sub(r'([^][:, ]+):\\s+([^][:,]+)(, )?', r'c_\\1[\\2]\\3',\n",
    "            re.sub(r'classifier\\[([^]]+)\\]', r'\\1',\n",
    "                x,\n",
    "            ),\n",
    "        )\n",
    "    ))\n",
    "    #   - Restore the cats we just destroyed [copied from cv_results_splits_df]\n",
    "    .pipe(df_ordered_cat,\n",
    "        model_id=lambda df: df.model_id.unique(),\n",
    "        params=lambda df: df.params.unique(),\n",
    "        params_data=lambda df: df.params_data.unique(),\n",
    "        # Order params_complexity like c_max_depth\n",
    "        params_complexity=lambda df: sorted(\n",
    "            df.params_complexity.unique(),\n",
    "            reverse=True,  # Match how the normal .unique() would come out (not clear why, and don't care)\n",
    "            key=lambda s: one(\n",
    "                (x['name'], or_else(-np.inf, lambda: float({'None': 'inf'}.get(x['value'], x['value']))))\n",
    "                for x in [parse.search('{name}[{value}]', s)]  # Parses first match, ignores rest\n",
    "            ),\n",
    "        ),\n",
    "        params_model=lambda df: df.params_model.unique(),\n",
    "        params_data_and_model=lambda df: df.params_data_and_model.unique(),\n",
    "    )\n",
    "    # .eval\n",
    "    .assign(\n",
    "        train_evals=lambda df: np.vectorize(SearchEvals)(\n",
    "            i=df.pop('train_i'),\n",
    "            y=df.pop('train_y'),\n",
    "            classes=df['classes'],\n",
    "            y_scores=df.pop('train_predict_proba'),\n",
    "            drop_missing_classes_for_n_species=True,  # HACK Migrate to sk Pipeline to avoid this\n",
    "        ),\n",
    "        test_evals=lambda df: np.vectorize(SearchEvals)(\n",
    "            i=df.pop('test_i'),\n",
    "            y=df.pop('test_y'),\n",
    "            classes=df['classes'],\n",
    "            y_scores=df.pop('test_predict_proba'),\n",
    "            drop_missing_classes_for_n_species=True,  # HACK Migrate to sk Pipeline to avoid this\n",
    "        ),\n",
    "    )\n",
    "    # .pipe(tap, f=lambda df: log.debug('SearchEvals.score'))\n",
    "    .assign(\n",
    "        # HACK Recompute (train_score, test_score) using SearchEvals.score so it can drop_missing_classes_for_n_species\n",
    "        #   - Else you'll get scores that are too low (bad) because they include some -np.inf's in the median\n",
    "        train_score=lambda df: df.train_evals.map(lambda x: x.score()),\n",
    "        test_score=lambda df: df.test_evals.map(lambda x: x.score()),  # (= 50p)\n",
    "        test_75p_score=lambda df: df.test_evals.map(lambda x: x.score(agg=partial(np.percentile, q=75))),\n",
    "        test_95p_score=lambda df: df.test_evals.map(lambda x: x.score(agg=partial(np.percentile, q=95))),\n",
    "        # train_score=lambda df: map_progress(lambda x: x.score(), df.train_evals, use='dask', scheduler='threads'),\n",
    "        # test_score=lambda df: map_progress(lambda x: x.score(), df.test_evals, use='dask', scheduler='threads'),\n",
    "    )\n",
    "    .drop(columns=[\n",
    "        'classes',\n",
    "    ])\n",
    "    # proc_stats\n",
    "    # .pipe(tap, f=lambda df: log.debug('proc_stats'))\n",
    "    .pipe(lambda df: df.join(df\n",
    "        .apply(axis=1, func=lambda row: (row.proc_stats.stats\n",
    "            .groupby('pid')[['cpu_user', 'cpu_system', 'mem_rss', 'mem_vms']].agg(lambda g: g.max() - g.min())\n",
    "            .sum(axis=0)\n",
    "        ))\n",
    "        .rename(columns={\n",
    "            'cpu_user': 'cpu_user_time',\n",
    "            'cpu_system': 'cpu_system_time',\n",
    "            'mem_rss': 'mem_rss_delta',\n",
    "            'mem_vms': 'mem_vms_delta',\n",
    "        })\n",
    "    ))\n",
    "    .assign(\n",
    "        cpu_time=lambda df: df.cpu_user_time + df.cpu_system_time,\n",
    "        cpu_time_m=lambda df: df.cpu_time / 60,  # s -> m\n",
    "    )\n",
    "    # For xgb_rf, rf, ovr-rf\n",
    "    .assign(\n",
    "        c_multiclass=lambda df: df.params_dict.str.get('c_multiclass'),\n",
    "        c_max_depth=lambda df: df.params_dict.str.get('c_max_depth'),\n",
    "        # c_rf_max_depth=lambda df: df.apply(axis=1, func=lambda row: (\n",
    "        #     row['c_max_depth'] * (10 if row['c_multiclass'] == 'ovr' else 1)  # HACK Undo rf_max_depth -> ovr_rf_max_depth\n",
    "        # )),\n",
    "    )\n",
    "    # model_stats\n",
    "    .assign(\n",
    "        logreg_n_iter=lambda df: df.model_stats.map(lambda stats: or_else(None, lambda: stats.n_iter)),\n",
    "        forest_depth_mean=lambda df: df.model_stats.map(lambda stats: or_else(None, lambda: stats.depth.mean())),\n",
    "        forest_depth_std=lambda df: df.model_stats.map(lambda stats: or_else(None, lambda: stats.depth.std())),\n",
    "    )\n",
    "    # Reorder\n",
    "    .pipe(df_reorder_cols,\n",
    "        first=['model_id', 'params', 'params_dict', 'params_data', 'params_complexity', 'params_model'],\n",
    "        last=['train_evals', 'test_evals', 'proc_stats', 'model_stats', 'model'],\n",
    "    )\n",
    "    # .pipe(tap, f=lambda df: log.debug('display'))\n",
    "    .pipe(tap, f=lambda df: display(\n",
    "        # df_summary(df).T,\n",
    "        # df,\n",
    "        len(df),\n",
    "        df[:5],\n",
    "    ))\n",
    "    # .pipe(tap, f=lambda df: log.debug('Done'))\n",
    ")"
   ]
  },
  {
   "cell_type": "code",
   "execution_count": null,
   "metadata": {
    "time": "1.403s"
   },
   "outputs": [],
   "source": [
    "# TODO TODO Tune n_iter\n",
    "(cv_models\n",
    "    .merge(how='left', on='model_id', right=df_flatmap(cv_models, lambda row: (\n",
    "        dict(model_id=row.model_id, n_iter=n_iter)\n",
    "        for n_iter in coalesce(row.logreg_n_iter, [0])\n",
    "    )))\n",
    "    # Manually compute y.mean() per group\n",
    "    # .groupby('params').apply(lambda g: g.assign(cpu_time_m_mean=lambda df: df.cpu_time_m.mean()))\n",
    "    .pipe(df_reverse_cat, 'params_complexity')\n",
    "    .pipe(ggplot)\n",
    "    + aes(x='params_complexity')\n",
    "    # + facet_grid('params_data ~ params_model')\n",
    "    + facet_wrap('params_data_and_model')\n",
    "    + geom_count(aes(y='n_iter', size='..n..')) + scale_size_area()\n",
    "    + expand_limits(y=0)\n",
    "    + coord_flip()\n",
    "    + theme_figsize(width=12*1, aspect_ratio=1/1.5)\n",
    "    + ggtitle(f'Logreg: n_iter ({recs_stats})')\n",
    ")"
   ]
  },
  {
   "cell_type": "code",
   "execution_count": null,
   "metadata": {
    "skip": true
   },
   "outputs": [
    {
     "name": "stdout",
     "output_type": "stream",
     "text": "[skip]"
    }
   ],
   "source": [
    "# TODO Very slow with ~200 models\n",
    "cv_models_proc_stats = (cv_models\n",
    "    # Enable these as needed (at the cost of mem usage)\n",
    "    [[\n",
    "        'model_id',\n",
    "        'params',\n",
    "        # 'params_dict',\n",
    "        'params_data',\n",
    "        'params_complexity',\n",
    "        'params_model',\n",
    "        'fold',\n",
    "        # 'train_score',\n",
    "        # 'test_score',\n",
    "        # 'fit_time',\n",
    "        # 'score_time',\n",
    "        'mem_rss_delta',\n",
    "        # 'mem_vms_delta',\n",
    "        # 'train_evals',\n",
    "        # 'test_evals',\n",
    "        'proc_stats',\n",
    "    ]]\n",
    "    # TODO Faster way to do this? (.merge is >2x slower)\n",
    "    .pipe(df_flatmap, lambda row: [\n",
    "        row.append(pd.Series(dict(**stats)))\n",
    "        for stats in row.proc_stats.stats\n",
    "    ])\n",
    "    # .pipe(lambda df: (df\n",
    "    #     .merge(how='left',\n",
    "    #         right=DF(\n",
    "    #             OrderedDict(model_id=row.model_id, **stats)\n",
    "    #             for row in df_rows(df)\n",
    "    #             for stats in row.proc_stats.stats\n",
    "    #         )\n",
    "    #     )\n",
    "    # ))\n",
    "    # HACK Restore the cats that the df_flatmap just destroyed [copied from cv_results_splits_df]\n",
    "    .pipe(df_ordered_cat,\n",
    "        model_id=lambda df: df.model_id.unique(),\n",
    "        params=lambda df: df.params.unique(),\n",
    "    )\n",
    "    .assign(\n",
    "        cpu_user=lambda df: df.cpu_user.diff() * 100,\n",
    "        cpu_system=lambda df: df.cpu_system.diff() * 100,\n",
    "    )\n",
    "    .pipe(tap, f=lambda df: display(\n",
    "        df_summary(df).T,\n",
    "        df[:5],\n",
    "    ))\n",
    ")"
   ]
  },
  {
   "cell_type": "code",
   "execution_count": null,
   "metadata": {
    "time": "1.374s"
   },
   "outputs": [],
   "source": [
    "(cv_models\n",
    "    # Manually compute y.mean() per group\n",
    "    .groupby('params').apply(lambda g: g.assign(cpu_time_m_mean=lambda df: df.cpu_time_m.mean()))\n",
    "    .pipe(df_reverse_cat, 'params_complexity')\n",
    "    .pipe(ggplot)\n",
    "    + aes(x='params_complexity')\n",
    "    # + facet_grid('params_data ~ params_model')\n",
    "    + facet_wrap('params_data_and_model')\n",
    "    + geom_col(aes(y='cpu_time_m_mean'), fill='darkgray', position=position_dodge())\n",
    "    + geom_point(aes(y='cpu_time_m'), color='black', fill='none', size=2)\n",
    "    + coord_flip()\n",
    "    + theme_figsize(width=12*1, aspect_ratio=1/1.5)\n",
    "    + ggtitle(f'Train + score times ({recs_stats})')\n",
    ")"
   ]
  },
  {
   "cell_type": "code",
   "execution_count": null,
   "metadata": {
    "time": "1.31s"
   },
   "outputs": [],
   "source": [
    "(cv_models\n",
    "    # Manually compute y.mean() per group\n",
    "    .groupby('params').apply(lambda g: g.assign(model_size_mean=lambda df: df.model_size.mean()))\n",
    "    .pipe(df_reverse_cat, 'params_complexity')\n",
    "    .pipe(ggplot)\n",
    "    + aes(x='params_complexity')\n",
    "    # + facet_grid('params_data ~ params_model')\n",
    "    + facet_wrap('params_data_and_model')\n",
    "    + geom_col(aes(y='model_size_mean'), fill='darkgray', position=position_dodge()) # Summary per fold\n",
    "    + geom_point(aes(y='model_size'), color='black', fill='none', size=2) # Distribution of folds\n",
    "    + scale_y_continuous(labels=labels_bytes(), breaks=breaks_bytes())\n",
    "    + coord_flip()\n",
    "    + ylab('model_size')\n",
    "    + theme_figsize(width=12*1, aspect_ratio=1/1.5)\n",
    "    + ggtitle(f'Model size ({recs_stats})')\n",
    ")"
   ]
  },
  {
   "cell_type": "code",
   "execution_count": null,
   "metadata": {},
   "outputs": [],
   "source": [
    "# XXX Moved above\n",
    "# # Forest depth stats so we can tune max_depth, model_size\n",
    "# #   - TODO Generalize for models other than tree ensembles\n",
    "# cv_models = (cv_models\n",
    "#     .assign(\n",
    "#         forest_depth_mean=lambda df: df.model_stats.map(lambda stats: or_else(None, lambda: stats.depth.mean())),\n",
    "#         forest_depth_std=lambda df: df.model_stats.map(lambda stats: or_else(None, lambda: stats.depth.std())),\n",
    "#     )\n",
    "# )\n",
    "# display(\n",
    "#     # cv_models[['model_id', 'forest_depth_mean', 'forest_depth_std']][:5],\n",
    "# )"
   ]
  },
  {
   "cell_type": "code",
   "execution_count": null,
   "metadata": {
    "skip": true
   },
   "outputs": [
    {
     "name": "stdout",
     "output_type": "stream",
     "text": "[skip]"
    }
   ],
   "source": [
    "# TODO Make not barf on non-tree models (blocks rest of notebook)\n",
    "(cv_models\n",
    "    # Manually compute boxplot stats, else it's _really_ slow (or you have to downsample, which misses outliers)\n",
    "    #   - Based on stat_boxplot.compute_group\n",
    "    .merge(how='left', on='params', right=cv_models.groupby('params').apply(lambda g: one(\n",
    "        pd.Series(dict(\n",
    "            params=g.name,\n",
    "            ymin=boxplot['whislo'],\n",
    "            lower=boxplot['q1'],\n",
    "            middle=boxplot['med'],\n",
    "            upper=boxplot['q3'],\n",
    "            ymax=boxplot['whishi'],\n",
    "            outliers=np.unique(boxplot['fliers']),  # np.unique else really slow, because lots of repeated (int) points\n",
    "        ))\n",
    "        for [boxplot] in [mpl.cbook.boxplot_stats(  # [boxplot] is 1 elem because X.ndim = 1\n",
    "            X=np.concatenate([[] if x is None else x.depth for x in g.model_stats]),\n",
    "            whis=1.5,\n",
    "        )]\n",
    "    )))\n",
    "    .pipe(df_reverse_cat, 'params_complexity')\n",
    "    .pipe(ggplot)\n",
    "    + aes(x='params_complexity')\n",
    "    # + facet_grid('params_data ~ params_model')\n",
    "    + facet_wrap('params_data_and_model')\n",
    "    + geom_boxplot(\n",
    "        stat='identity',\n",
    "        outlier_size=.5,\n",
    "        mapping=aes(ymin='ymin', ymax='ymax', upper='upper', lower='lower', middle='middle', outliers='outliers',\n",
    "            width=.8,  # Close enough to geom_boxplot defaults [TODO Maybe should compute based on num categorical x's?]\n",
    "        ),\n",
    "    )\n",
    "    + ylab('tree_depth')\n",
    "    + coord_flip()\n",
    "    + theme_figsize(width=12*2, aspect_ratio=1/1.5)\n",
    "    + ggtitle(f'Tree depth ({recs_stats})')\n",
    ")"
   ]
  },
  {
   "cell_type": "code",
   "execution_count": null,
   "metadata": {
    "skip": true
   },
   "outputs": [
    {
     "name": "stdout",
     "output_type": "stream",
     "text": "[skip]"
    }
   ],
   "source": [
    "# XXX Revive if insightful\n",
    "(cv_models\n",
    "    .pipe(df_reverse_cat, 'params_no_ns')\n",
    "    .assign(n_species=lambda df: df.params_dict.str['n_species'])\n",
    "    .pipe(ggplot, aes(x='n_species', y='forest_depth_mean', color='params_no_ns'))\n",
    "    # + facet_wrap('params_no_ns', ncol=2)\n",
    "    + geom_point()\n",
    "    + geom_pointrange(aes(ymin='forest_depth_mean - 2*forest_depth_std', ymax='forest_depth_mean + 2*forest_depth_std'))\n",
    "    + geom_smooth(method='lm', se=False)  # Disable se because it only knows forest_depth_mean, no measure of spread\n",
    "    + expand_limits(x=0)\n",
    "    + scale_color_cmap_d(mpl_cmap_concat('tab20', 'tab20b', 'tab20c'))\n",
    "    + guides(color=guide_legend(reverse=True))\n",
    "    + theme(legend_position='bottom', legend_direction='vertical', legend_box_spacing=.4, legend_key_height=8)\n",
    "    # + theme_figsize(aspect_ratio=1/3)\n",
    "    + theme_figsize(aspect_ratio=1/3)\n",
    "    + ggtitle(f'RF depth vs. n_species ({recs_stats})')\n",
    ")"
   ]
  },
  {
   "cell_type": "code",
   "execution_count": null,
   "metadata": {
    "skip": true
   },
   "outputs": [
    {
     "name": "stdout",
     "output_type": "stream",
     "text": "[skip]"
    }
   ],
   "source": [
    "(cv_models\n",
    "    .pipe(df_reverse_cat, 'params', 'params_no_ns', 'ns')\n",
    "    # Manually compute y.mean() per group\n",
    "    .groupby('params').apply(lambda g: g.assign(mem_rss_delta_mean=lambda df: df.mem_rss_delta.mean()))\n",
    "    .pipe(ggplot, aes(x='ns', group='params_no_ns'))\n",
    "    + geom_col(aes(y='mem_rss_delta_mean', fill='params_no_ns'), position=position_dodge()) # Summary per fold\n",
    "    + geom_point(aes(y='mem_rss_delta'), fill='none', size=2, position=position_dodge(width=.9)) # Distribution of folds\n",
    "    + coord_flip()\n",
    "    + scale_fill_cmap_d(mpl_cmap_concat('tab20', 'tab20b', 'tab20c'))\n",
    "    + scale_y_continuous(labels=labels_bytes(), breaks=breaks_bytes())\n",
    "    + guides(fill=guide_legend(reverse=True))\n",
    "    + theme(legend_position='bottom', legend_direction='vertical', legend_box_spacing=.4, legend_key_height=8)\n",
    "    + theme_figsize(aspect_ratio=1/3*2)\n",
    "    + ggtitle(f'Mem rss spread ($max-min$) ({recs_stats})')\n",
    ")"
   ]
  },
  {
   "cell_type": "code",
   "execution_count": null,
   "metadata": {
    "skip": true
   },
   "outputs": [
    {
     "name": "stdout",
     "output_type": "stream",
     "text": "[skip]"
    }
   ],
   "source": [
    "# TODO Might need to stack/geom_area for overlapping runs\n",
    "(cv_models_proc_stats\n",
    "    .pipe(ggplot)\n",
    "    + aes(x='time', color='model_id')\n",
    "    + geom_line(aes(y='cpu_system'), linetype='dashed', size=.5)\n",
    "    + geom_line(aes(y='cpu_system + cpu_user'), linetype='solid', size=.5)\n",
    "    + expand_limits(y=0)\n",
    "    + ylab('cpu')\n",
    "    + scale_x_datetime(date_labels='%H:%M:%S')\n",
    "    + scale_y_continuous(labels=lambda labels: ['%.3g%%' % x for x in labels])\n",
    "    + theme(legend_position='bottom', legend_direction='vertical', legend_box_spacing=.4, legend_key_height=8)\n",
    "    + theme_figsize('inline_short')\n",
    "    + ggtitle('cpu over time (system + user)')\n",
    ")"
   ]
  },
  {
   "cell_type": "code",
   "execution_count": null,
   "metadata": {
    "skip": true
   },
   "outputs": [
    {
     "name": "stdout",
     "output_type": "stream",
     "text": "[skip]"
    }
   ],
   "source": [
    "(cv_models_proc_stats\n",
    "    .pipe(ggplot)\n",
    "    + aes(x='time', color='model_id')\n",
    "    + geom_line(aes(y='mem_rss'), linetype='solid', size=.5)\n",
    "    + geom_line(aes(y='mem_vms'), linetype='dashed', size=.5)\n",
    "    + expand_limits(y=0)\n",
    "    + ylab('mem')\n",
    "    + scale_x_datetime(date_labels='%H:%M:%S')\n",
    "    + scale_y_continuous(labels=labels_bytes(), breaks=breaks_bytes(pow=3))\n",
    "    + theme(legend_position='bottom', legend_direction='vertical', legend_box_spacing=.4, legend_key_height=8)\n",
    "    + theme_figsize('inline_short')\n",
    "    + ggtitle('Mem over time (rss, vms)')\n",
    ")"
   ]
  },
  {
   "cell_type": "code",
   "execution_count": null,
   "metadata": {
    "time": "1.544s"
   },
   "outputs": [],
   "source": [
    "# Train/test scores\n",
    "#   - Grain: models x {train,test}\n",
    "#   - Metrics: score\n",
    "#   - Dims: group, params\n",
    "(cv_models\n",
    "    .pipe(df_reverse_cat, 'params_complexity')\n",
    "    .pipe(lambda df: pd.melt(df,\n",
    "        id_vars=['params_data', 'params_model', 'params_complexity', 'params_data_and_model', 'params', 'fold'],\n",
    "        value_vars=[\n",
    "            # 'train_score',  # Boring\n",
    "            'test_score',\n",
    "            'test_75p_score',\n",
    "            'test_95p_score',\n",
    "        ],\n",
    "        var_name='metric',\n",
    "        value_name='score'),\n",
    "    )\n",
    "    .assign(\n",
    "        metric=lambda df: df.metric.str.replace('_score', ''),\n",
    "        group=lambda df: df.params_complexity.str.cat(df.metric, '/'),\n",
    "    )\n",
    "    .pipe(df_ordered_cat,\n",
    "        group=lambda df: reversed(df.group.unique()),\n",
    "    )\n",
    "    .pipe(ggplot)\n",
    "    + aes(x='params_complexity')\n",
    "    + aes(y='score')\n",
    "    + aes(color='metric')\n",
    "    # + facet_grid('params_data ~ params_model')\n",
    "    # + facet_wrap('params_data')\n",
    "    + facet_wrap('params_data_and_model')  # FIXME\n",
    "    + geom_hline(yintercept=-1, color='lightgrey')  # -1 is the max score (1 is the min coverage_error)\n",
    "    + geom_point(alpha=.5)\n",
    "    # + geom_jitter(fill='none', size=3, height=1e-9, width=.05)\n",
    "    # + geom_count(aes(size='..n..')) + scale_size_area()\n",
    "    # + stat_summary(aes(group='group'), fun_data='mean_cl_boot', random_state=0, geom='errorbar')\n",
    "    + coord_flip(\n",
    "        # ylim=(-40, 0),\n",
    "    )\n",
    "    # + scale_color_cmap_d('tab10')\n",
    "    + scale_color_cmap_d('Set1')\n",
    "    + theme_figsize(width=12*1, aspect_ratio=1/1.5)\n",
    "    + ylab('score (-coverage_error)')\n",
    "    + ggtitle(f'Train/test scores ({recs_stats})')\n",
    ")"
   ]
  },
  {
   "cell_type": "code",
   "execution_count": null,
   "metadata": {
    "time": "1.331s"
   },
   "outputs": [],
   "source": [
    "(cv_models\n",
    "    .pipe(ggplot)\n",
    "    + aes(x='cpu_time_m', y='test_score')\n",
    "    + aes(color='params_complexity')\n",
    "    # + facet_grid('params_data ~ params_model')\n",
    "    + facet_wrap('params_data_and_model')\n",
    "    + geom_point()\n",
    "    + geom_hline(yintercept=0, color='grey')\n",
    "    + expand_limits(x=0)\n",
    "    # + ylim(-30, 0)\n",
    "    + scale_color_cmap_d(mpl_cmap_concat('tab20', 'tab20b', 'tab20c'))\n",
    "    + guides(color=guide_legend(ncol=1)) + theme(legend_position='right', legend_box_spacing=.4, legend_key_height=8)\n",
    "    + theme_figsize(width=12*1, aspect_ratio=1/1.5)\n",
    "    + ggtitle('test_score ~ cpu_time_m')\n",
    ")"
   ]
  },
  {
   "cell_type": "code",
   "execution_count": null,
   "metadata": {
    "time": "1.275s"
   },
   "outputs": [],
   "source": [
    "(cv_models\n",
    "    .pipe(ggplot)\n",
    "    + aes(x='model_size', y='test_score')\n",
    "    + aes(color='params_complexity')\n",
    "    # + facet_grid('params_data ~ params_model')\n",
    "    + facet_wrap('params_data_and_model')\n",
    "    + geom_point()\n",
    "    + geom_hline(yintercept=0, color='grey')\n",
    "    + scale_x_continuous(labels=labels_bytes(), breaks=breaks_bytes())\n",
    "    + expand_limits(x=0)\n",
    "    # + ylim(-30, 0)\n",
    "    + scale_color_cmap_d(mpl_cmap_concat('tab20', 'tab20b', 'tab20c'))\n",
    "    + guides(color=guide_legend(ncol=1)) + theme(legend_position='right', legend_box_spacing=.4, legend_key_height=8)\n",
    "    + theme_figsize(width=12*1, aspect_ratio=1/1.5)\n",
    "    + ggtitle('test_score ~ model_size')\n",
    ")"
   ]
  },
  {
   "cell_type": "code",
   "execution_count": null,
   "metadata": {},
   "outputs": [],
   "source": [
    "SLOW_PLOTS_NEXT"
   ]
  },
  {
   "cell_type": "markdown",
   "metadata": {},
   "source": [
    "# Model diagnostics: all models, all folds"
   ]
  },
  {
   "cell_type": "code",
   "execution_count": null,
   "metadata": {},
   "outputs": [],
   "source": [
    "print('models:')\n",
    "print('  params[*/%s]' % len(cv_models.params.cat.categories))\n",
    "print('  fold[*/%s]' % cv.cv.n_splits)"
   ]
  },
  {
   "cell_type": "code",
   "execution_count": null,
   "metadata": {},
   "outputs": [],
   "source": [
    "# TODO Cache\n",
    "# Coverage errors: all models, all folds\n",
    "#   - Subset: all models\n",
    "#   - Grain: sum(recs[model.test_i] for model)\n",
    "#   - Dims: model_id, params, fold, y_true, rec_id\n",
    "#   - Metrics: coverage_error\n",
    "coverage_errors_all_all = (cv_models\n",
    "    # .sample(n=5, random_state=0)  # For faster dev\n",
    "    .pipe(lambda df: DF(\n",
    "        OrderedDict(\n",
    "            # **row[['model_id', 'params', 'fold']],  # Slow (in this inner loop), unpack manually instead\n",
    "            model_id=row.model_id,\n",
    "            params=row.params,\n",
    "            params_data=row.params_data,\n",
    "            params_model=row.params_model,\n",
    "            params_complexity=row.params_complexity,\n",
    "            fold=row.fold,\n",
    "            i=i,\n",
    "            y_true=y_true,\n",
    "            coverage_error=coverage_error,\n",
    "        )\n",
    "        for row in iter_progress(df_rows(df), n=len(df))\n",
    "        for i, y_true, coverage_error in zip(\n",
    "            row.test_evals.i,\n",
    "            row.test_evals.y,\n",
    "            row.test_evals.coverage_errors(),\n",
    "        )\n",
    "    ))\n",
    "    .astype(dict(\n",
    "        model_id=cv_models.model_id.dtype,\n",
    "        params=cv_models.params.dtype,\n",
    "        params_data=cv_models.params_data.dtype,\n",
    "        params_model=cv_models.params_model.dtype,\n",
    "        params_complexity=cv_models.params_complexity.dtype,\n",
    "    ))\n",
    "    .pipe(tap, lambda df: display(\n",
    "        df_summary(df).T,\n",
    "        df[:10],\n",
    "    ))\n",
    ")"
   ]
  },
  {
   "cell_type": "code",
   "execution_count": null,
   "metadata": {},
   "outputs": [],
   "source": [
    "params_data = 'n_species[168], n_recs[1.0]'\n",
    "n_species = parse.search('n_species[{n_species:d}], n_recs[{n_recs:f}]', params_data)['n_species']"
   ]
  },
  {
   "cell_type": "code",
   "execution_count": null,
   "metadata": {
    "skip": true
   },
   "outputs": [
    {
     "name": "stdout",
     "output_type": "stream",
     "text": "[skip]"
    }
   ],
   "source": [
    "# Facet by params_no_ns, order by median(coverage_error)\n",
    "#   - Subset: all models\n",
    "#   - Grain: sum(recs[model.test_i].groupby(params, y_true) for model)\n",
    "#       - Over: fold, rec_id\n",
    "#   - Dims: params, y_true\n",
    "#   - Metrics: coverage_error.median\n",
    "# in: coverage_errors_all_all, recs\n",
    "(coverage_errors_all_all\n",
    "    [lambda df: df.params_data == params_data]\n",
    "    # .sample(100, random_state=0)  # Faster dev\n",
    "    # .pipe(df_reverse_cat, 'params', 'params_no_ns', 'ns')\n",
    "    .pipe(df_ordered_cat,\n",
    "        y_true=lambda df: (\n",
    "            # Sort species by median(coverage_error) (across all models)\n",
    "            df.groupby('y_true').agg({'coverage_error': np.median}).reset_index().sort_values('coverage_error').y_true\n",
    "            # Sort species by taxo (hard to compare across models, unless they're pretty low noise)\n",
    "            # reversed(recs.species.cat.categories)\n",
    "        ),\n",
    "    )\n",
    "    .pipe(ggplot)\n",
    "    + aes(x='y_true', y='coverage_error')\n",
    "    + aes(color='y_true')\n",
    "    + facet_grid('params_complexity ~ params_model')\n",
    "    # + geom_line(aes(group='params'), stat='summary', fun_y=np.median)  # TODO Bad interpolation with n_species\n",
    "    + geom_point(aes(group='params'), stat='summary', fun_y=np.median)\n",
    "    + coord_flip()\n",
    "    # + geom_hline(yintercept=recs.species.nunique(), color='grey')\n",
    "    + scale_color_cmap_d(mpl_cmap_repeat(10, 'tab20', 'tab20b', 'tab20c'))\n",
    "    + theme_minimal()  # Before other theme()\n",
    "    + guides(color=guide_legend(nrow=70))\n",
    "    + theme(legend_position='right', legend_box_spacing=.4, legend_key_height=8, legend_text=element_text(size=8))\n",
    "    + theme(axis_text_y=element_blank())\n",
    "    + theme_figsize(width=12, aspect_ratio=1/2)\n",
    "    + ggtitle(rf'Coverage error over fold $\\times$ instance ({recs_stats}) [{params_data}]')\n",
    ")"
   ]
  },
  {
   "cell_type": "code",
   "execution_count": null,
   "metadata": {},
   "outputs": [],
   "source": [
    "# TODO Slow, bad for notebook dev loop -- move lower, or disable by default?\n",
    "# Facet by species\n",
    "#   - Subset: all models\n",
    "#   - Grain: sum(recs[model.test_i].groupby(params, y_true) for model)\n",
    "#       - Over: fold, rec_id\n",
    "#   - Dims: params, y_true\n",
    "#   - Metrics: coverage_error.median\n",
    "# in: coverage_errors_all_all, recs\n",
    "# params_model = 'c_cls[rf], c_n_estimators[100]'\n",
    "# params_model = 'c_cls[xgb_rf], c_n_estimators[100]'\n",
    "# params_model = 'c_cls[xgb_rf], c_max_depth[1]'\n",
    "params_model = 'c_cls[logreg_ovr], c_solver[liblinear]'\n",
    "# params_model = 'c_cls[logreg_multi], c_solver[newton-cg]'\n",
    "(coverage_errors_all_all\n",
    "    [lambda df: df.params_data == params_data]\n",
    "    [lambda df: df.params_model == params_model]\n",
    "    # .sample(200, random_state=0)  # Faster dev\n",
    "    # [lambda df: df.y_true.isin(df.y_true.drop_duplicates().sample(n=3, random_state=0))]  # Faster dev\n",
    "    .astype({'y_true': metadata.species.df.shorthand.dtype})\n",
    "    # .pipe(df_reverse_cat, 'params_complexity')\n",
    "    .pipe(ggplot)\n",
    "    + aes(x='params_complexity', y='coverage_error')\n",
    "    + aes(color='params_complexity')\n",
    "    + facet_wrap('y_true',\n",
    "        ncol=int((n_species * 1/(2/3)) ** .5),\n",
    "    )\n",
    "    + geom_hline(yintercept=1, color='grey')\n",
    "    # + geom_hline(yintercept=recs.species.nunique(), color='grey')\n",
    "    # Percentiles (faster, no overplot)\n",
    "    # + geom_point(stat='summary', fun_y=np.median)\n",
    "    # + geom_linerange(stat='summary', fun_ymin=partial(np.percentile, q=25), fun_ymax=partial(np.percentile, q=75))\n",
    "    # Violin (slow, no overplot)\n",
    "    # + geom_violin()\n",
    "    # Boxplot (very slow, no overplot)\n",
    "    # + geom_boxplot()\n",
    "    # Points (medium cost, high overplot)\n",
    "    #   - n (count) instead of prop (proportion)\n",
    "    #   - scale_size_area() instead of default scale_size(), because it's a count [I don't grok this but it looks good]\n",
    "    + geom_count(aes(size='..n..'), color='lightgray')\n",
    "    + scale_size_area()\n",
    "    # + geom_point(stat='summary', fun_y=np.median, shape='|', size=5, stroke=2)\n",
    "    + geom_point(stat='summary', fun_y=np.median, size=5)\n",
    "    + coord_flip(\n",
    "        ylim=(0, 40),\n",
    "    )\n",
    "    # + scale_color_cmap_d(mpl_cmap_repeat(10, 'tab10'))  # Strong\n",
    "    + scale_color_cmap_d(mpl_cmap_repeat(10, 'tab20', 'tab20b', 'tab20c'))\n",
    "    + guides(color=guide_legend(reverse=True))\n",
    "    + theme(axis_text_y=element_text(size=6))\n",
    "    + theme_minimal()  # [TODO Before other theme()]\n",
    "    + theme_figsize(width=12*2, aspect_ratio=1/1)\n",
    "    + ggtitle(rf'Coverage error over fold $\\times$ instance, by params_complexity ({recs_stats}) [{params_data}, {params_model}]')\n",
    ")"
   ]
  },
  {
   "cell_type": "code",
   "execution_count": null,
   "metadata": {},
   "outputs": [],
   "source": [
    "# TODO Slow, bad for notebook dev loop -- move lower, or disable by default?\n",
    "# Facet by species\n",
    "#   - Subset: all models\n",
    "#   - Grain: sum(recs[model.test_i].groupby(params, y_true) for model)\n",
    "#       - Over: fold, rec_id\n",
    "#   - Dims: params, y_true\n",
    "#   - Metrics: coverage_error.median\n",
    "# in: coverage_errors_all_all, recs\n",
    "# params_complexity = 'c_max_depth[46]'\n",
    "# params_complexity = 'c_max_depth[1]'\n",
    "params_complexity = 'c_n_estimators[1600]'\n",
    "# params_complexity = 'c_C[1]'\n",
    "(coverage_errors_all_all\n",
    "    [lambda df: df.params_data == params_data]\n",
    "    [lambda df: df.params_complexity == params_complexity]\n",
    "    # [lambda df: df.params.astype(str).str.contains(r'c_n_estimators\\[100\\]')]  # XXX Subset models\n",
    "    # .sample(200, random_state=0)  # Faster dev\n",
    "    # [lambda df: df.y_true.isin(df.y_true.drop_duplicates().sample(n=3, random_state=0))]  # Faster dev\n",
    "    .astype({'y_true': metadata.species.df.shorthand.dtype})\n",
    "    # .pipe(df_reverse_cat, 'params_model')\n",
    "    .pipe(ggplot)\n",
    "    + aes(x='params_model', y='coverage_error')\n",
    "    + aes(color='params_model')\n",
    "    + facet_wrap('y_true',\n",
    "        ncol=int((n_species * 1/(2/3)) ** .5),\n",
    "    )\n",
    "    + geom_hline(yintercept=1, color='grey')\n",
    "    # + geom_hline(yintercept=recs.species.nunique(), color='grey')\n",
    "    # Percentiles (faster, no overplot)\n",
    "    # + geom_point(stat='summary', fun_y=np.median)\n",
    "    # + geom_linerange(stat='summary', fun_ymin=partial(np.percentile, q=25), fun_ymax=partial(np.percentile, q=75))\n",
    "    # Violin (slow, no overplot)\n",
    "    # + geom_violin()\n",
    "    # Boxplot (very slow, no overplot)\n",
    "    # + geom_boxplot()\n",
    "    # Points (medium cost, high overplot)\n",
    "    #   - n (count) instead of prop (proportion)\n",
    "    #   - scale_size_area() instead of default scale_size(), because it's a count [I don't grok this but it looks good]\n",
    "    + geom_count(aes(size='..n..'), color='lightgray')\n",
    "    + scale_size_area()\n",
    "    # + geom_point(stat='summary', fun_y=np.median, shape='|', size=5, stroke=2)\n",
    "    + geom_point(stat='summary', fun_y=np.median, size=5)\n",
    "    + coord_flip(\n",
    "        ylim=(0, 40),\n",
    "    )\n",
    "    # + scale_color_cmap_d(mpl_cmap_repeat(10, 'tab10'))  # Strong\n",
    "    + scale_color_cmap_d(mpl_cmap_repeat(10, 'tab20', 'tab20b', 'tab20c'))\n",
    "    + guides(color=guide_legend(reverse=True))\n",
    "    + theme(axis_text_y=element_text(size=6))\n",
    "    + theme_minimal()  # [TODO Before other theme()]\n",
    "    + theme_figsize(width=12*2, aspect_ratio=1/1)\n",
    "    + ggtitle(rf'Coverage error over fold $\\times$ instance, by params_model ({recs_stats}) [{params_data}, {params_complexity}]')\n",
    ")"
   ]
  },
  {
   "cell_type": "code",
   "execution_count": null,
   "metadata": {},
   "outputs": [],
   "source": [
    "ONE_MODEL_PLOTS_NEXT"
   ]
  },
  {
   "cell_type": "markdown",
   "metadata": {},
   "source": [
    "# Model diagnostics: one model, all folds"
   ]
  },
  {
   "cell_type": "code",
   "execution_count": null,
   "metadata": {},
   "outputs": [],
   "source": [
    "params_i = 11\n",
    "params = cv_models.params.cat.categories[params_i]\n",
    "print(\"params:\\n%s\" % '\\n'.join('  %s: %r' % (i, x) for i, x in enumerate(cv_models.params.cat.categories)))\n",
    "print()\n",
    "print('models:')\n",
    "print('  params[%s/%s]: %r' % (params_i, len(cv_models.params.cat.categories), params))\n",
    "print('  fold[*/%s]' % cv.cv.n_splits)"
   ]
  },
  {
   "cell_type": "code",
   "execution_count": null,
   "metadata": {},
   "outputs": [],
   "source": [
    "# Coverage errors: one model, all folds\n",
    "#   - Subset: models.params == params\n",
    "#   - Grain: sum(recs[model.test_i] for model)\n",
    "#   - Dims: model_id, params, fold, y_true, rec_id\n",
    "#   - Metrics: coverage_error\n",
    "coverage_errors_one_all = (coverage_errors_all_all\n",
    "    [lambda df: df.params == params]  # One model, all folds\n",
    ")\n",
    "display(\n",
    "    df_summary(coverage_errors_one_all).T,\n",
    "    coverage_errors_one_all[:5],\n",
    ")"
   ]
  },
  {
   "cell_type": "code",
   "execution_count": null,
   "metadata": {
    "time": "3.136s"
   },
   "outputs": [],
   "source": [
    "#   - Subset: models.params == params\n",
    "#   - Grain: sum(recs[model.test_i].groupby(y_true) for model)\n",
    "#       - Over: fold, rec_id\n",
    "#   - Dims: y_true\n",
    "#   - Metrics: count, coverage_error.percentiles\n",
    "# in: coverage_errors_one_all, recs\n",
    "(coverage_errors_one_all\n",
    "    .astype({'y_true': metadata.species.df.shorthand.dtype})\n",
    "    .pipe(df_reverse_cat, 'y_true')\n",
    "    .pipe(ggplot, aes(x='y_true', y='coverage_error'))\n",
    "    + geom_hline(yintercept=1, color='grey')\n",
    "    + geom_hline(yintercept=10, color='grey')\n",
    "    + geom_hline(yintercept=recs.species.nunique(), color='grey')\n",
    "    + geom_count(aes(size='..n..'), alpha=1)  # n (count) instead of prop (proportion)\n",
    "    + scale_size_area()  # Instead of default scale_size(), because it's a count [I don't grok this but it looks good]\n",
    "    + geom_point(stat='summary', fun_y=np.median, alpha=1, color='red', shape='|', size=6, stroke=2)\n",
    "    + coord_flip()\n",
    "    # + theme_figsize('inline')\n",
    "    # + theme_figsize('square')\n",
    "    # + theme_figsize('half')\n",
    "    + theme_figsize('half_dense')\n",
    "    # + theme_figsize('full')\n",
    "    # + theme_figsize('full_dense')\n",
    "    + ggtitle(rf'Coverage error over fold $\\times$ instance ({params}) ({recs_stats})')\n",
    ")"
   ]
  },
  {
   "cell_type": "code",
   "execution_count": null,
   "metadata": {
    "time": "1.553s"
   },
   "outputs": [],
   "source": [
    "# One-model/all-folds confusion matrix\n",
    "with figsize(\n",
    "    # 'square',\n",
    "    # 'full',\n",
    "    'full_dense',\n",
    "):\n",
    "    (cv_models\n",
    "        [lambda df: df.params == params]\n",
    "        .pipe(lambda df: plot_confusion_matrix(\n",
    "            classes=df.iloc[0].test_evals.classes,\n",
    "            M=np.array([\n",
    "                row.test_evals.confusion_matrix_prob()\n",
    "                for row in df_rows(df)\n",
    "            ]).sum(axis=0),\n",
    "            # normalize=False,  # For counts\n",
    "            raw=True, scale=10,  # Faster dev\n",
    "            format=None,  # Omit numbers, too dense\n",
    "            title=f'({recs_stats})',\n",
    "        ))\n",
    "    )"
   ]
  },
  {
   "cell_type": "markdown",
   "metadata": {},
   "source": [
    "# Model diagnostics: one model, one fold"
   ]
  },
  {
   "cell_type": "code",
   "execution_count": null,
   "metadata": {
    "skip": true
   },
   "outputs": [
    {
     "name": "stdout",
     "output_type": "stream",
     "text": "[skip]"
    }
   ],
   "source": [
    "fold = 0\n",
    "# params_i = ...  # Comment out to reuse from above\n",
    "params = cv_models.params.cat.categories[params_i]\n",
    "[(_, model)] = list(cv_models[lambda df: (df.params == params) & (df.fold == fold)].iterrows())\n",
    "print(\"params:\\n%s\" % '\\n'.join('  %s: %r' % (i, x) for i, x in enumerate(cv_models.params.cat.categories)))\n",
    "print()\n",
    "print('model:')\n",
    "print('  params[%s/%s]: %r' % (params_i, len(cv_models.params.cat.categories), model.params))\n",
    "print('  fold[%s/%s]' % (model.fold, cv.cv.n_splits))\n",
    "print()\n",
    "print(model)"
   ]
  },
  {
   "cell_type": "code",
   "execution_count": null,
   "metadata": {
    "skip": true
   },
   "outputs": [
    {
     "name": "stdout",
     "output_type": "stream",
     "text": "[skip]"
    }
   ],
   "source": [
    "# in: model\n",
    "model_id = model.model_id\n",
    "params = model.params\n",
    "fold = model.fold\n",
    "# train_evals = model.train_evals\n",
    "test_evals = model.test_evals\n",
    "\n",
    "# in: model, recs\n",
    "# train_recs = recs.iloc[train_evals.i]\n",
    "# train_X = Search.X(recs)[train_evals.i]\n",
    "# train_y = Search.y(recs)[train_evals.i]\n",
    "test_recs = recs.iloc[test_evals.i]\n",
    "test_X = Search.X(recs)[test_evals.i]\n",
    "test_y = Search.y(recs)[test_evals.i]  # (Don't need to store cv_models.test_evals.y if we have recs -- which sometimes we don't?)\n",
    "\n",
    "display(\n",
    "    # len(train_recs),\n",
    "    len(test_recs),\n",
    ")"
   ]
  },
  {
   "cell_type": "code",
   "execution_count": null,
   "metadata": {
    "skip": true
   },
   "outputs": [
    {
     "name": "stdout",
     "output_type": "stream",
     "text": "[skip]"
    }
   ],
   "source": [
    "# TODO Restore this plot like 'Coverage error over ...' above, so we can see _one_ model instead of aggregating over n_splits models\n",
    "# # TODO Update [kill the .merge, then species -> y_true]\n",
    "# (search.coverage_error_by(test_recs, 'id')\n",
    "#     [:5]\n",
    "#     # .merge(test_recs[['id', 'species']], on='id', how='left')\n",
    "#     # .pipe(ggplot, aes(x='species', y='coverage_error'))\n",
    "#     # + geom_count(aes(size='..n..'))\n",
    "#     # + stat_summary(fun_y=np.median, geom='point', color='red', alpha=.5, shape='|', size=6, stroke=1)\n",
    "#     # + stat_summary(\n",
    "#     #     fun_ymin=partial(np.percentile, q=25), fun_ymax=partial(np.percentile, q=75),\n",
    "#     #     geom='linerange', color='red', alpha=.5, size=1,\n",
    "#     # )\n",
    "#     # + coord_flip()\n",
    "#     # + geom_hline(yintercept=len(search.classes_), color='grey')\n",
    "#     # + scale_x_discrete(limits=list(reversed(test_recs.species.cat.categories)))\n",
    "#     # + theme_figsize('square')\n",
    "#     # + ggtitle(rf'Coverage error over instance ({model_id}) ({recs_stats})')\n",
    "# )"
   ]
  },
  {
   "cell_type": "code",
   "execution_count": null,
   "metadata": {
    "skip": true
   },
   "outputs": [
    {
     "name": "stdout",
     "output_type": "stream",
     "text": "[skip]"
    }
   ],
   "source": [
    "# One-model/one-fold confusion matrix\n",
    "with figsize(\n",
    "    'square',\n",
    "    # 'full',\n",
    "    # 'full_dense',\n",
    "):\n",
    "    plot_confusion_matrix_df(\n",
    "        confusion_matrix_prob_df(model.test_evals.y, model.test_evals.y_scores, model.test_evals.classes),\n",
    "        title=model.model_id,\n",
    "        # normalize=False,  # For counts\n",
    "        raw=True, scale=10,  # Faster dev\n",
    "        title=f'({recs_stats})',\n",
    "    )"
   ]
  },
  {
   "cell_type": "code",
   "execution_count": null,
   "metadata": {},
   "outputs": [],
   "source": []
  }
 ],
 "metadata": {
  "kernelspec": {
   "display_name": "python",
   "language": "python",
   "name": "python"
  }
 },
 "nbformat": 4,
 "nbformat_minor": 2
}
