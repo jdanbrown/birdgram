{
 "cells": [
  {
   "cell_type": "markdown",
   "metadata": {},
   "source": [
    "# NOTE You have to manually bump cache version in many places\n",
    "- load.Load._metadata\n",
    "- load.Load.recs\n",
    "- datasets._xc._metadata\n",
    "- datasets._xc.metadata\n",
    "- server_globals.load_xc_meta\n",
    "- config.api.recs.search_recs.params.config"
   ]
  },
  {
   "cell_type": "code",
   "execution_count": null,
   "metadata": {
    "time": "5.25s"
   },
   "outputs": [
    {
     "name": "stdout",
     "output_type": "stream",
     "text": "INFO     [16:53:43.456] [84077] 150 logging_/<module>: {logging_yaml: None}"
    },
    {
     "name": "stdout",
     "output_type": "stream",
     "text": "\n"
    },
    {
     "name": "stdout",
     "output_type": "stream",
     "text": "INFO     [16:53:43.920] [84077]  32 api.server_globals/init"
    },
    {
     "name": "stdout",
     "output_type": "stream",
     "text": "\n"
    },
    {
     "name": "stdout",
     "output_type": "stream",
     "text": "DEBUG    [16:53:43.928] [84077]  75 api.server_globals/load: load_search..."
    },
    {
     "name": "stdout",
     "output_type": "stream",
     "text": "\n"
    },
    {
     "name": "stdout",
     "output_type": "stream",
     "text": "INFO     [16:53:44.300] [84077]  79 api.server_globals/load: load_search (took 0.363s)"
    },
    {
     "name": "stdout",
     "output_type": "stream",
     "text": "\n"
    },
    {
     "name": "stdout",
     "output_type": "stream",
     "text": "DEBUG    [16:53:44.306] [84077]  75 api.server_globals/load: load_xc_meta..."
    },
    {
     "name": "stdout",
     "output_type": "stream",
     "text": "\n"
    },
    {
     "name": "stdout",
     "output_type": "stream",
     "text": "INFO     [16:53:44.660] [84077]  79 api.server_globals/load: load_xc_meta (took 0.345s)"
    },
    {
     "name": "stdout",
     "output_type": "stream",
     "text": "\n"
    },
    {
     "name": "stdout",
     "output_type": "stream",
     "text": "DEBUG    [16:53:44.667] [84077]  75 api.server_globals/load: load_feat_info..."
    },
    {
     "name": "stdout",
     "output_type": "stream",
     "text": "\n"
    },
    {
     "name": "stdout",
     "output_type": "stream",
     "text": "INFO     [16:53:44.674] [84077] 110 api.server_globals/load_feat_info"
    },
    {
     "name": "stdout",
     "output_type": "stream",
     "text": "\n"
    },
    {
     "name": "stdout",
     "output_type": "stream",
     "text": "INFO     [16:53:44.681] [84077]  79 api.server_globals/load: load_feat_info (took 0.007s)"
    },
    {
     "name": "stdout",
     "output_type": "stream",
     "text": "\n"
    },
    {
     "name": "stdout",
     "output_type": "stream",
     "text": "DEBUG    [16:53:44.688] [84077]  75 api.server_globals/load: load_search_recs..."
    },
    {
     "name": "stdout",
     "output_type": "stream",
     "text": "\n"
    },
    {
     "name": "stdout",
     "output_type": "stream",
     "text": "INFO     [16:53:44.694] [84077] 118 api.server_globals/load_search_recs"
    },
    {
     "name": "stdout",
     "output_type": "stream",
     "text": "\n"
    },
    {
     "name": "stdout",
     "output_type": "stream",
     "text": "INFO     [16:53:44.702] [84077] 601 api.recs/get_search_recs"
    },
    {
     "name": "stdout",
     "output_type": "stream",
     "text": "\n"
    },
    {
     "name": "stdout",
     "output_type": "stream",
     "text": "INFO     [16:53:44.717] [84077] 150 payloads/df_cache_hybrid: Hit: payloads/search_recs-version[6],limit[3500],audio_s[10],countries_k[na],com_names_k[ca],num_recs[None]-57cdd0c"
    },
    {
     "name": "stdout",
     "output_type": "stream",
     "text": "\n"
    },
    {
     "name": "stdout",
     "output_type": "stream",
     "text": "DEBUG    [16:53:44.728] [84077] 151 payloads/df_cache_hybrid: Hit ..."
    },
    {
     "name": "stdout",
     "output_type": "stream",
     "text": "\n"
    },
    {
     "name": "stdout",
     "output_type": "stream",
     "text": "DEBUG    [16:53:44.740] [84077] 160 payloads/df_cache_hybrid: Hit: Read api/lite.parquet (4.8 MB) ..."
    },
    {
     "name": "stdout",
     "output_type": "stream",
     "text": "\n"
    },
    {
     "name": "stdout",
     "output_type": "stream",
     "text": "INFO     [16:53:46.147] [84077] 167 payloads/df_cache_hybrid: Hit: Read api/lite.parquet (4.8 MB) [1.407s]"
    },
    {
     "name": "stdout",
     "output_type": "stream",
     "text": "\n"
    },
    {
     "name": "stdout",
     "output_type": "stream",
     "text": "DEBUG    [16:53:46.166] [84077] 172 payloads/df_cache_hybrid: Hit: Read api/bytes-audio_bytes.parquet (142.0 MB) ..."
    },
    {
     "name": "stdout",
     "output_type": "stream",
     "text": "\n"
    },
    {
     "name": "stdout",
     "output_type": "stream",
     "text": "INFO     [16:53:46.446] [84077] 179 payloads/df_cache_hybrid: Hit: Read api/bytes-audio_bytes.parquet (142.0 MB) [0.279s]"
    },
    {
     "name": "stdout",
     "output_type": "stream",
     "text": "\n"
    },
    {
     "name": "stdout",
     "output_type": "stream",
     "text": "DEBUG    [16:53:46.459] [84077] 172 payloads/df_cache_hybrid: Hit: Read api/bytes-spectro_bytes.parquet (38.5 MB) ..."
    },
    {
     "name": "stdout",
     "output_type": "stream",
     "text": "\n"
    },
    {
     "name": "stdout",
     "output_type": "stream",
     "text": "INFO     [16:53:46.554] [84077] 179 payloads/df_cache_hybrid: Hit: Read api/bytes-spectro_bytes.parquet (38.5 MB) [0.095s]"
    },
    {
     "name": "stdout",
     "output_type": "stream",
     "text": "\n"
    },
    {
     "name": "stdout",
     "output_type": "stream",
     "text": "DEBUG    [16:53:46.567] [84077] 184 payloads/df_cache_hybrid: Hit: Read api/feat-f_preds.npy (4.6 MB) ..."
    },
    {
     "name": "stdout",
     "output_type": "stream",
     "text": "\n"
    },
    {
     "name": "stdout",
     "output_type": "stream",
     "text": "INFO     [16:53:46.577] [84077] 186 payloads/df_cache_hybrid: Hit: Read api/feat-f_preds.npy (4.6 MB) [float32, 0.009s]"
    },
    {
     "name": "stdout",
     "output_type": "stream",
     "text": "\n"
    },
    {
     "name": "stdout",
     "output_type": "stream",
     "text": "DEBUG    [16:53:46.588] [84077] 184 payloads/df_cache_hybrid: Hit: Read api/feat-feat.npy (21.0 MB) ..."
    },
    {
     "name": "stdout",
     "output_type": "stream",
     "text": "\n"
    },
    {
     "name": "stdout",
     "output_type": "stream",
     "text": "INFO     [16:53:46.605] [84077] 186 payloads/df_cache_hybrid: Hit: Read api/feat-feat.npy (21.0 MB) [float32, 0.017s]"
    },
    {
     "name": "stdout",
     "output_type": "stream",
     "text": "\n"
    },
    {
     "name": "stdout",
     "output_type": "stream",
     "text": "INFO     [16:53:46.611] [84077] 189 payloads/df_cache_hybrid: Hit: Join lite + bytes + feats"
    },
    {
     "name": "stdout",
     "output_type": "stream",
     "text": "\n"
    },
    {
     "name": "stdout",
     "output_type": "stream",
     "text": "INFO     [16:53:46.660] [84077] 200 payloads/df_cache_hybrid: Hit [1.932s]"
    },
    {
     "name": "stdout",
     "output_type": "stream",
     "text": "\n"
    },
    {
     "data": {
      "text/html": "<table border=\"1\" class=\"dataframe\">\n  <thead>\n    <tr style=\"text-align: right;\">\n      <th></th>\n      <th>dir</th>\n      <th>file</th>\n      <th>size</th>\n      <th>frac</th>\n    </tr>\n  </thead>\n  <tbody>\n    <tr>\n      <th>5</th>\n      <td><div class=\"not-number\">api</div></td>\n      <td><div class=\"not-number\">TOTAL</div></td>\n      <td>210911706</td>\n      <td>1.000</td>\n    </tr>\n    <tr>\n      <th>1</th>\n      <td><div class=\"not-number\">api</div></td>\n      <td><div class=\"not-number\">api/bytes-audio_bytes.parquet</div></td>\n      <td>142018687</td>\n      <td>0.673</td>\n    </tr>\n    <tr>\n      <th>2</th>\n      <td><div class=\"not-number\">api</div></td>\n      <td><div class=\"not-number\">api/bytes-spectro_bytes.parquet</div></td>\n      <td>38468688</td>\n      <td>0.182</td>\n    </tr>\n    <tr>\n      <th>4</th>\n      <td><div class=\"not-number\">api</div></td>\n      <td><div class=\"not-number\">api/feat-feat.npy: float32</div></td>\n      <td>21000128</td>\n      <td>0.100</td>\n    </tr>\n    <tr>\n      <th>0</th>\n      <td><div class=\"not-number\">api</div></td>\n      <td><div class=\"not-number\">api/lite.parquet</div></td>\n      <td>4790075</td>\n      <td>0.023</td>\n    </tr>\n    <tr>\n      <th>3</th>\n      <td><div class=\"not-number\">api</div></td>\n      <td><div class=\"not-number\">api/feat-f_preds.npy: float32</div></td>\n      <td>4634128</td>\n      <td>0.022</td>\n    </tr>\n  </tbody>\n</table>",
      "text/plain": "   dir                             file       size   frac\n5  api                            TOTAL  210911706  1.000\n1  api    api/bytes-audio_bytes.parquet  142018687  0.673\n2  api  api/bytes-spectro_bytes.parquet   38468688  0.182\n4  api       api/feat-feat.npy: float32   21000128  0.100\n0  api                 api/lite.parquet    4790075  0.023\n3  api    api/feat-f_preds.npy: float32    4634128  0.022"
     },
     "metadata": {},
     "output_type": "display_data",
     "transient": {}
    },
    {
     "name": "stdout",
     "output_type": "stream",
     "text": "INFO     [16:53:46.697] [84077]  79 api.server_globals/load: load_search_recs (took 2.002s)"
    },
    {
     "name": "stdout",
     "output_type": "stream",
     "text": "\n"
    },
    {
     "name": "stdout",
     "output_type": "stream",
     "text": "INFO     [16:53:46.706] [84077]  34 api.server_globals/init: done"
    },
    {
     "name": "stdout",
     "output_type": "stream",
     "text": "\n"
    }
   ],
   "source": [
    "from notebooks import *\n",
    "sg.init(None)"
   ]
  },
  {
   "cell_type": "code",
   "execution_count": null,
   "metadata": {},
   "outputs": [
    {
     "data": {
      "text/html": "<table border=\"1\" class=\"dataframe\">\n  <thead>\n    <tr style=\"text-align: right;\">\n      <th></th>\n      <th>shorthand</th>\n      <th>taxon_id</th>\n      <th>taxon_order</th>\n    </tr>\n  </thead>\n  <tbody>\n    <tr>\n      <th>0</th>\n      <td><div class=\"not-number\">COOS</div></td>\n      <td><div class=\"not-number\">TC000002</div></td>\n      <td><div class=\"not-number\">3.0</div></td>\n    </tr>\n    <tr>\n      <th>1</th>\n      <td><div class=\"not-number\">SOOS</div></td>\n      <td><div class=\"not-number\">TC000003</div></td>\n      <td><div class=\"not-number\">5.0</div></td>\n    </tr>\n    <tr>\n      <th>2</th>\n      <td><div class=\"not-number\">GRRH</div></td>\n      <td><div class=\"not-number\">TC000004</div></td>\n      <td><div class=\"not-number\">7.0</div></td>\n    </tr>\n    <tr>\n      <th>3</th>\n      <td><div class=\"not-number\">LERH</div></td>\n      <td><div class=\"not-number\">TC000005</div></td>\n      <td><div class=\"not-number\">13.0</div></td>\n    </tr>\n    <tr>\n      <th>4</th>\n      <td><div class=\"not-number\">TBTI</div></td>\n      <td><div class=\"not-number\">TC000018</div></td>\n      <td><div class=\"not-number\">32.0</div></td>\n    </tr>\n    <tr>\n      <th>5</th>\n      <td><div class=\"not-number\">HITI</div></td>\n      <td><div class=\"not-number\">TC000019</div></td>\n      <td><div class=\"not-number\">33.0</div></td>\n    </tr>\n    <tr>\n      <th>6</th>\n      <td><div class=\"not-number\">HOTI</div></td>\n      <td><div class=\"not-number\">TC000022</div></td>\n      <td><div class=\"not-number\">40.0</div></td>\n    </tr>\n    <tr>\n      <th>7</th>\n      <td><div class=\"not-number\">grytin1</div></td>\n      <td><div class=\"not-number\">TC000023</div></td>\n      <td><div class=\"not-number\">43.0</div></td>\n    </tr>\n    <tr>\n      <th>8</th>\n      <td><div class=\"not-number\">soltin1</div></td>\n      <td><div class=\"not-number\">TC000024</div></td>\n      <td><div class=\"not-number\">48.0</div></td>\n    </tr>\n    <tr>\n      <th>9</th>\n      <td><div class=\"not-number\">BLTI</div></td>\n      <td><div class=\"not-number\">TC000025</div></td>\n      <td><div class=\"not-number\">49.0</div></td>\n    </tr>\n  </tbody>\n</table>",
      "text/plain": "  shorthand  taxon_id taxon_order\n0      COOS  TC000002         3.0\n1      SOOS  TC000003         5.0\n2      GRRH  TC000004         7.0\n3      LERH  TC000005        13.0\n4      TBTI  TC000018        32.0\n5      HITI  TC000019        33.0\n6      HOTI  TC000022        40.0\n7   grytin1  TC000023        43.0\n8   soltin1  TC000024        48.0\n9      BLTI  TC000025        49.0"
     },
     "execution_count": 2,
     "metadata": {},
     "output_type": "execute_result"
    }
   ],
   "source": [
    "(metadata.species.df\n",
    "    [['shorthand', 'taxon_id', 'taxon_order']]\n",
    "    [:10]\n",
    ")"
   ]
  },
  {
   "cell_type": "code",
   "execution_count": null,
   "metadata": {},
   "outputs": [
    {
     "name": "stderr",
     "output_type": "stream",
     "text": "/Users/danb/hack/potoo/potoo/pandas.py:208: FutureWarning: The reduce argument is deprecated and will be removed in a future version. You can specify result_type='reduce' to try to reduce the result to the original dimensions\n  ('mean', lambda df: df.apply(reduce=False, func=lambda c: c.mean() if np.issubdtype(c.dtype.base, np.number) else np.nan)),\n"
    },
    {
     "name": "stderr",
     "output_type": "stream",
     "text": "/Users/danb/hack/potoo/potoo/pandas.py:209: FutureWarning: The reduce argument is deprecated and will be removed in a future version. You can specify result_type='reduce' to try to reduce the result to the original dimensions\n  ('std',  lambda df: df.apply(reduce=False, func=lambda c: c.std()  if np.issubdtype(c.dtype.base, np.number) else np.nan)),\n"
    },
    {
     "name": "stderr",
     "output_type": "stream",
     "text": "/Users/danb/hack/potoo/potoo/pandas.py:243: FutureWarning: The reduce argument is deprecated and will be removed in a future version. You can specify result_type='reduce' to try to reduce the result to the original dimensions\n  reduce=False,  # Else all dtypes are 'object' [https://stackoverflow.com/a/34917685/397334]\n"
    },
    {
     "data": {
      "text/html": "<table border=\"1\" class=\"dataframe\">\n  <thead>\n    <tr style=\"text-align: right;\">\n      <th></th>\n      <th></th>\n      <th></th>\n      <th></th>\n      <th></th>\n      <th></th>\n      <th></th>\n      <th></th>\n      <th>min</th>\n      <th>25%</th>\n      <th>50%</th>\n      <th>75%</th>\n      <th>max</th>\n    </tr>\n    <tr>\n      <th></th>\n      <th>dtype</th>\n      <th>sizeof</th>\n      <th>len</th>\n      <th>count</th>\n      <th>nunique</th>\n      <th>mean</th>\n      <th>std</th>\n      <th></th>\n      <th></th>\n      <th></th>\n      <th></th>\n      <th></th>\n    </tr>\n  </thead>\n  <tbody>\n    <tr>\n      <th>index</th>\n      <th>int64</th>\n      <th>84424</th>\n      <th>10553</th>\n      <th>10553</th>\n      <th>10553</th>\n      <th>5276.0</th>\n      <th>3046.533</th>\n      <td>0</td>\n      <td>2638</td>\n      <td>5276</td>\n      <td>7914</td>\n      <td>10552</td>\n    </tr>\n    <tr>\n      <th>shorthand</th>\n      <th>category</th>\n      <th>1000104</th>\n      <th>10553</th>\n      <th>10553</th>\n      <th>10553</th>\n      <th>NaN</th>\n      <th>NaN</th>\n      <td><div class=\"not-number\">COOS</div></td>\n      <td><div class=\"not-number\">WRNE</div></td>\n      <td><div class=\"not-number\">JEBT</div></td>\n      <td><div class=\"not-number\">EVWE</div></td>\n      <td><div class=\"not-number\">_NON</div></td>\n    </tr>\n    <tr>\n      <th>taxon_id</th>\n      <th>category</th>\n      <th>1034731</th>\n      <th>10553</th>\n      <th>10553</th>\n      <th>10553</th>\n      <th>NaN</th>\n      <th>NaN</th>\n      <td><div class=\"not-number\">TC000002</div></td>\n      <td><div class=\"not-number\">TC003785</div></td>\n      <td><div class=\"not-number\">TC012228</div></td>\n      <td><div class=\"not-number\">TC009907</div></td>\n      <td><div class=\"not-number\">TC___NON</div></td>\n    </tr>\n    <tr>\n      <th>taxon_order</th>\n      <th>object</th>\n      <th>676308</th>\n      <th>10553</th>\n      <th>10553</th>\n      <th>10553</th>\n      <th>NaN</th>\n      <th>NaN</th>\n      <td><div class=\"not-number\">10000.0</div></td>\n      <td><div class=\"not-number\">15964.0</div></td>\n      <td><div class=\"not-number\">23377.01048</div></td>\n      <td><div class=\"not-number\">31771.0</div></td>\n      <td><div class=\"not-number\">_UNK</div></td>\n    </tr>\n  </tbody>\n</table>",
      "text/plain": "                                                                       min       25%          50%       75%       max\n            dtype    sizeof  len   count nunique mean   std                                                          \nindex       int64    84424   10553 10553 10553   5276.0 3046.533         0      2638         5276      7914     10552\nshorthand   category 1000104 10553 10553 10553   NaN    NaN           COOS      WRNE         JEBT      EVWE      _NON\ntaxon_id    category 1034731 10553 10553 10553   NaN    NaN       TC000002  TC003785     TC012228  TC009907  TC___NON\ntaxon_order object   676308  10553 10553 10553   NaN    NaN        10000.0   15964.0  23377.01048   31771.0      _UNK"
     },
     "execution_count": 3,
     "metadata": {},
     "output_type": "execute_result"
    }
   ],
   "source": [
    "(metadata.species.df\n",
    "    [['shorthand', 'taxon_id', 'taxon_order']]\n",
    "    .pipe(df_summary).T\n",
    ")"
   ]
  },
  {
   "cell_type": "code",
   "execution_count": null,
   "metadata": {},
   "outputs": [
    {
     "data": {
      "text/html": "<table border=\"1\" class=\"dataframe\">\n  <thead>\n    <tr style=\"text-align: right;\">\n      <th></th>\n      <th>0</th>\n    </tr>\n  </thead>\n  <tbody>\n    <tr>\n      <th>shorthand</th>\n      <td><div class=\"not-number\">COOS</div></td>\n    </tr>\n    <tr>\n      <th>longhand</th>\n      <td><div class=\"not-number\">Common Ostrich - COOS</div></td>\n    </tr>\n    <tr>\n      <th>sci_name</th>\n      <td><div class=\"not-number\">Struthio camelus</div></td>\n    </tr>\n    <tr>\n      <th>com_name</th>\n      <td><div class=\"not-number\">Common Ostrich</div></td>\n    </tr>\n    <tr>\n      <th>species_code</th>\n      <td><div class=\"not-number\">ostric2</div></td>\n    </tr>\n    <tr>\n      <th>taxon_order</th>\n      <td><div class=\"not-number\">3.0</div></td>\n    </tr>\n    <tr>\n      <th>taxon_id</th>\n      <td><div class=\"not-number\">TC000002</div></td>\n    </tr>\n    <tr>\n      <th>com_name_codes</th>\n      <td><div class=\"not-number\">COOS</div></td>\n    </tr>\n    <tr>\n      <th>sci_name_codes</th>\n      <td><div class=\"not-number\">STCA</div></td>\n    </tr>\n    <tr>\n      <th>banding_codes</th>\n      <td>NaN</td>\n    </tr>\n    <tr>\n      <th>species_group</th>\n      <td><div class=\"not-number\">Ostriches</div></td>\n    </tr>\n    <tr>\n      <th>family</th>\n      <td><div class=\"not-number\">Struthionidae (Ostriches)</div></td>\n    </tr>\n    <tr>\n      <th>order</th>\n      <td><div class=\"not-number\">Struthioniformes</div></td>\n    </tr>\n  </tbody>\n</table>",
      "text/plain": "                                        0\nshorthand                            COOS\nlonghand            Common Ostrich - COOS\nsci_name                 Struthio camelus\ncom_name                   Common Ostrich\nspecies_code                      ostric2\ntaxon_order                           3.0\ntaxon_id                         TC000002\ncom_name_codes                       COOS\nsci_name_codes                       STCA\nbanding_codes                         NaN\nspecies_group                   Ostriches\nfamily          Struthionidae (Ostriches)\norder                    Struthioniformes"
     },
     "execution_count": 4,
     "metadata": {},
     "output_type": "execute_result"
    }
   ],
   "source": [
    "(metadata.species.df\n",
    "    [:1].T\n",
    ")"
   ]
  },
  {
   "cell_type": "code",
   "execution_count": null,
   "metadata": {
    "time": "5.445s"
   },
   "outputs": [
    {
     "data": {
      "text/html": "<table border=\"1\" class=\"dataframe\">\n  <thead>\n    <tr style=\"text-align: right;\">\n      <th></th>\n      <th>0</th>\n    </tr>\n  </thead>\n  <tbody>\n    <tr>\n      <th>downloaded</th>\n      <td><div class=\"not-number\">False</div></td>\n    </tr>\n    <tr>\n      <th>species</th>\n      <td><div class=\"not-number\">CVTB</div></td>\n    </tr>\n    <tr>\n      <th>taxon_order</th>\n      <td><div class=\"not-number\">23159.0</div></td>\n    </tr>\n    <tr>\n      <th>taxon_id</th>\n      <td><div class=\"not-number\">TC008982</div></td>\n    </tr>\n    <tr>\n      <th>id</th>\n      <td>417733</td>\n    </tr>\n    <tr>\n      <th>sci_name</th>\n      <td><div class=\"not-number\">Sylvia subcaerulea</div></td>\n    </tr>\n    <tr>\n      <th>com_name</th>\n      <td><div class=\"not-number\">Chestnut-vented Warbler</div></td>\n    </tr>\n    <tr>\n      <th>subspecies</th>\n      <td><div class=\"not-number\"></div></td>\n    </tr>\n    <tr>\n      <th>recordist</th>\n      <td><div class=\"not-number\">Dawie de Swardt</div></td>\n    </tr>\n    <tr>\n      <th>country</th>\n      <td><div class=\"not-number\">South Africa</div></td>\n    </tr>\n    <tr>\n      <th>locality</th>\n      <td><div class=\"not-number\">Jakkalsfontein, Soutpan, Free State</div></td>\n    </tr>\n    <tr>\n      <th>lat</th>\n      <td>-28.8</td>\n    </tr>\n    <tr>\n      <th>lng</th>\n      <td>26</td>\n    </tr>\n    <tr>\n      <th>type</th>\n      <td><div class=\"not-number\">call</div></td>\n    </tr>\n    <tr>\n      <th>quality</th>\n      <td><div class=\"not-number\">B</div></td>\n    </tr>\n    <tr>\n      <th>date</th>\n      <td><div class=\"not-number\">2018-05-30 00:00:00</div></td>\n    </tr>\n    <tr>\n      <th>time</th>\n      <td><div class=\"not-number\">10:30</div></td>\n    </tr>\n    <tr>\n      <th>license_type</th>\n      <td><div class=\"not-number\">by-nc-sa</div></td>\n    </tr>\n    <tr>\n      <th>license_detail</th>\n      <td><div class=\"not-number\">4.0</div></td>\n    </tr>\n    <tr>\n      <th>license</th>\n      <td><div class=\"not-number\">//creativecommons.org/licenses/by-nc-sa/4.0/</div></td>\n    </tr>\n    <tr>\n      <th>url</th>\n      <td><div class=\"not-number\">https://www.xeno-canto.org/417733</div></td>\n    </tr>\n    <tr>\n      <th>download</th>\n      <td><div class=\"not-number\">//www.xeno-canto.org/417733/download</div></td>\n    </tr>\n    <tr>\n      <th>remarks</th>\n      <td>NaN</td>\n    </tr>\n    <tr>\n      <th>bird_seen</th>\n      <td>NaN</td>\n    </tr>\n    <tr>\n      <th>playback_used</th>\n      <td>NaN</td>\n    </tr>\n    <tr>\n      <th>elevation</th>\n      <td>NaN</td>\n    </tr>\n    <tr>\n      <th>background</th>\n      <td>NaN</td>\n    </tr>\n    <tr>\n      <th>volume</th>\n      <td>NaN</td>\n    </tr>\n    <tr>\n      <th>speed</th>\n      <td>NaN</td>\n    </tr>\n    <tr>\n      <th>pitch</th>\n      <td>NaN</td>\n    </tr>\n    <tr>\n      <th>length</th>\n      <td>NaN</td>\n    </tr>\n    <tr>\n      <th>number_of_notes</th>\n      <td>NaN</td>\n    </tr>\n    <tr>\n      <th>variable</th>\n      <td>NaN</td>\n    </tr>\n    <tr>\n      <th>xc_channels</th>\n      <td>NaN</td>\n    </tr>\n    <tr>\n      <th>xc_sampling_rate</th>\n      <td>NaN</td>\n    </tr>\n    <tr>\n      <th>xc_bitrate_of_mp3</th>\n      <td>NaN</td>\n    </tr>\n    <tr>\n      <th>shorthand</th>\n      <td><div class=\"not-number\">CVTB</div></td>\n    </tr>\n  </tbody>\n</table>",
      "text/plain": "                                                              0\ndownloaded                                                False\nspecies                                                    CVTB\ntaxon_order                                             23159.0\ntaxon_id                                               TC008982\nid                                                       417733\nsci_name                                     Sylvia subcaerulea\ncom_name                                Chestnut-vented Warbler\nsubspecies                                                     \nrecordist                                       Dawie de Swardt\ncountry                                            South Africa\nlocality                    Jakkalsfontein, Soutpan, Free State\nlat                                                       -28.8\nlng                                                          26\ntype                                                       call\nquality                                                       B\ndate                                        2018-05-30 00:00:00\ntime                                                      10:30\nlicense_type                                           by-nc-sa\nlicense_detail                                              4.0\nlicense            //creativecommons.org/licenses/by-nc-sa/4.0/\nurl                           https://www.xeno-canto.org/417733\ndownload                   //www.xeno-canto.org/417733/download\nremarks                                                     NaN\nbird_seen                                                   NaN\nplayback_used                                               NaN\nelevation                                                   NaN\nbackground                                                  NaN\nvolume                                                      NaN\nspeed                                                       NaN\npitch                                                       NaN\nlength                                                      NaN\nnumber_of_notes                                             NaN\nvariable                                                    NaN\nxc_channels                                                 NaN\nxc_sampling_rate                                            NaN\nxc_bitrate_of_mp3                                           NaN\nshorthand                                                  CVTB"
     },
     "execution_count": 5,
     "metadata": {},
     "output_type": "execute_result"
    }
   ],
   "source": [
    "(xc.metadata\n",
    "    [:1].T\n",
    ")"
   ]
  },
  {
   "cell_type": "code",
   "execution_count": null,
   "metadata": {},
   "outputs": [
    {
     "data": {
      "text/html": "<div style=\"white-space: pre\">Soundscape                          5741\nIdentity unknown                    4152\nAmerican Yellow Warbler              342\nWestern Jackdaw                      265\nGrey-backed Camaroptera              185\nDark-capped Bulbul                   132\nSouthern Chestnut-tailed Antbird     129\nSouthern Yellowthroat                128\nAudubon's Warbler                    121\nChestnut-bellied Seed Finch          116\nDusky Leaftosser                     113\nNorthern Pygmy Owl                   108\nNorthern Mountain Cacique             96\nOrange-breasted Bushshrike            86\nIberian Green Woodpecker              86\nRusty-breasted Cuckoo                 84\nEastern Woodhaunter                   72\nWestern Woodhaunter                   72\nChilean Elaenia                       69\nOlive-faced Flatbill                  66</div>",
      "text/plain": "Soundscape                          5741\nIdentity unknown                    4152\nAmerican Yellow Warbler              342\nWestern Jackdaw                      265\nGrey-backed Camaroptera              185\nDark-capped Bulbul                   132\nSouthern Chestnut-tailed Antbird     129\nSouthern Yellowthroat                128\nAudubon's Warbler                    121\nChestnut-bellied Seed Finch          116\nDusky Leaftosser                     113\nNorthern Pygmy Owl                   108\nNorthern Mountain Cacique             96\nOrange-breasted Bushshrike            86\nIberian Green Woodpecker              86\nRusty-breasted Cuckoo                 84\nEastern Woodhaunter                   72\nWestern Woodhaunter                   72\nChilean Elaenia                       69\nOlive-faced Flatbill                  66\nName: com_name, dtype: int64"
     },
     "execution_count": 6,
     "metadata": {},
     "output_type": "execute_result"
    }
   ],
   "source": [
    "(xc.metadata\n",
    "    [lambda df: df.taxon_id.isnull()]\n",
    "    .pipe(df_remove_unused_categories)\n",
    "    .com_name.value_counts()\n",
    "    [:20]\n",
    ")"
   ]
  },
  {
   "cell_type": "code",
   "execution_count": null,
   "metadata": {},
   "outputs": [
    {
     "data": {
      "text/html": "<table border=\"1\" class=\"dataframe\">\n  <thead>\n    <tr style=\"text-align: right;\">\n      <th></th>\n      <th>4</th>\n    </tr>\n  </thead>\n  <tbody>\n    <tr>\n      <th>downloaded</th>\n      <td><div class=\"not-number\">True</div></td>\n    </tr>\n    <tr>\n      <th>species</th>\n      <td><div class=\"not-number\">BHCO</div></td>\n    </tr>\n    <tr>\n      <th>taxon_order</th>\n      <td><div class=\"not-number\">30380.0</div></td>\n    </tr>\n    <tr>\n      <th>taxon_id</th>\n      <td><div class=\"not-number\">TC011520</div></td>\n    </tr>\n    <tr>\n      <th>id</th>\n      <td>417729</td>\n    </tr>\n    <tr>\n      <th>sci_name</th>\n      <td><div class=\"not-number\">Molothrus ater</div></td>\n    </tr>\n    <tr>\n      <th>com_name</th>\n      <td><div class=\"not-number\">Brown-headed Cowbird</div></td>\n    </tr>\n    <tr>\n      <th>subspecies</th>\n      <td><div class=\"not-number\"></div></td>\n    </tr>\n    <tr>\n      <th>recordist</th>\n      <td><div class=\"not-number\">Paula Caycedo & Mitch Covington</div></td>\n    </tr>\n    <tr>\n      <th>country</th>\n      <td><div class=\"not-number\">United States</div></td>\n    </tr>\n    <tr>\n      <th>locality</th>\n      <td><div class=\"not-number\">Grand Canyon Village, Coconino County, Arizona</div></td>\n    </tr>\n    <tr>\n      <th>lat</th>\n      <td>36</td>\n    </tr>\n    <tr>\n      <th>lng</th>\n      <td>-112</td>\n    </tr>\n    <tr>\n      <th>type</th>\n      <td><div class=\"not-number\">song</div></td>\n    </tr>\n    <tr>\n      <th>quality</th>\n      <td><div class=\"not-number\">A</div></td>\n    </tr>\n    <tr>\n      <th>date</th>\n      <td><div class=\"not-number\">2018-05-25 00:00:00</div></td>\n    </tr>\n    <tr>\n      <th>time</th>\n      <td><div class=\"not-number\">15:00</div></td>\n    </tr>\n    <tr>\n      <th>license_type</th>\n      <td><div class=\"not-number\">by-nc-sa</div></td>\n    </tr>\n    <tr>\n      <th>license_detail</th>\n      <td><div class=\"not-number\">4.0</div></td>\n    </tr>\n    <tr>\n      <th>license</th>\n      <td><div class=\"not-number\">//creativecommons.org/licenses/by-nc-sa/4.0/</div></td>\n    </tr>\n    <tr>\n      <th>url</th>\n      <td><div class=\"not-number\">https://www.xeno-canto.org/417729</div></td>\n    </tr>\n    <tr>\n      <th>download</th>\n      <td><div class=\"not-number\">//www.xeno-canto.org/417729/download</div></td>\n    </tr>\n    <tr>\n      <th>remarks</th>\n      <td><div class=\"not-number\"></div></td>\n    </tr>\n    <tr>\n      <th>bird_seen</th>\n      <td><div class=\"not-number\">yes</div></td>\n    </tr>\n    <tr>\n      <th>playback_used</th>\n      <td><div class=\"not-number\">no</div></td>\n    </tr>\n    <tr>\n      <th>elevation</th>\n      <td><div class=\"not-number\">2200 m</div></td>\n    </tr>\n    <tr>\n      <th>background</th>\n      <td><div class=\"not-number\">[]</div></td>\n    </tr>\n    <tr>\n      <th>volume</th>\n      <td><div class=\"not-number\">level</div></td>\n    </tr>\n    <tr>\n      <th>speed</th>\n      <td><div class=\"not-number\">level</div></td>\n    </tr>\n    <tr>\n      <th>pitch</th>\n      <td><div class=\"not-number\">level</div></td>\n    </tr>\n    <tr>\n      <th>length</th>\n      <td><div class=\"not-number\">0-3(s)</div></td>\n    </tr>\n    <tr>\n      <th>number_of_notes</th>\n      <td><div class=\"not-number\">4-6</div></td>\n    </tr>\n    <tr>\n      <th>variable</th>\n      <td><div class=\"not-number\">no</div></td>\n    </tr>\n    <tr>\n      <th>xc_channels</th>\n      <td><div class=\"not-number\">1 (mono)</div></td>\n    </tr>\n    <tr>\n      <th>xc_sampling_rate</th>\n      <td><div class=\"not-number\">44100 (Hz)</div></td>\n    </tr>\n    <tr>\n      <th>xc_bitrate_of_mp3</th>\n      <td><div class=\"not-number\">128000 (bps)</div></td>\n    </tr>\n    <tr>\n      <th>shorthand</th>\n      <td><div class=\"not-number\">BHCO</div></td>\n    </tr>\n  </tbody>\n</table>",
      "text/plain": "                                                                4\ndownloaded                                                   True\nspecies                                                      BHCO\ntaxon_order                                               30380.0\ntaxon_id                                                 TC011520\nid                                                         417729\nsci_name                                           Molothrus ater\ncom_name                                     Brown-headed Cowbird\nsubspecies                                                       \nrecordist                         Paula Caycedo & Mitch Covington\ncountry                                             United States\nlocality           Grand Canyon Village, Coconino County, Arizona\nlat                                                            36\nlng                                                          -112\ntype                                                         song\nquality                                                         A\ndate                                          2018-05-25 00:00:00\ntime                                                        15:00\nlicense_type                                             by-nc-sa\nlicense_detail                                                4.0\nlicense              //creativecommons.org/licenses/by-nc-sa/4.0/\nurl                             https://www.xeno-canto.org/417729\ndownload                     //www.xeno-canto.org/417729/download\nremarks                                                          \nbird_seen                                                     yes\nplayback_used                                                  no\nelevation                                                  2200 m\nbackground                                                     []\nvolume                                                      level\nspeed                                                       level\npitch                                                       level\nlength                                                     0-3(s)\nnumber_of_notes                                               4-6\nvariable                                                       no\nxc_channels                                              1 (mono)\nxc_sampling_rate                                       44100 (Hz)\nxc_bitrate_of_mp3                                    128000 (bps)\nshorthand                                                    BHCO"
     },
     "execution_count": 7,
     "metadata": {},
     "output_type": "execute_result"
    }
   ],
   "source": [
    "(sg.xc_meta\n",
    "    [:1].T\n",
    ")"
   ]
  },
  {
   "cell_type": "code",
   "execution_count": null,
   "metadata": {},
   "outputs": [
    {
     "data": {
      "text/html": "<table border=\"1\" class=\"dataframe\">\n  <thead>\n    <tr style=\"text-align: right;\">\n      <th></th>\n      <th>0</th>\n    </tr>\n  </thead>\n  <tbody>\n    <tr>\n      <th>audio_bytes</th>\n      <td><div class=\"not-number\">b'\\x00\\x00\\x00\\x1cftypisom\\x00\\x00\\x02\\x00isomiso2mp41\\x00\\x00\\x00\\x08free\\x00\\x00\\x9f\\x1emdat\\x01@\"\\x80\\xa3} \\x85----------------------------------------------------------...</td>\n    </tr>\n    <tr>\n      <th>audio_bytes_mimetype</th>\n      <td><div class=\"not-number\">audio/mp4</div></td>\n    </tr>\n    <tr>\n      <th>background</th>\n      <td><div class=\"not-number\">['White-throated Sparrow (Zonotrichia albicollis)', \"Audubon's Warbler (Setophaga auduboni)\"]</div></td>\n    </tr>\n    <tr>\n      <th>background_species</th>\n      <td><div class=\"not-number\">['WTSP', \"Audubon's Warbler\"]</div></td>\n    </tr>\n    <tr>\n      <th>basename</th>\n      <td><div class=\"not-number\">audio.mp3.resample(22050,1,16).enc(wav).slice(0,10000).spectro_denoise().enc(mp4,libfdk_aac,32k)</div></td>\n    </tr>\n    <tr>\n      <th>bird_seen</th>\n      <td><div class=\"not-number\">yes</div></td>\n    </tr>\n    <tr>\n      <th>channels</th>\n      <td>1</td>\n    </tr>\n    <tr>\n      <th>country</th>\n      <td><div class=\"not-number\">Canada</div></td>\n    </tr>\n    <tr>\n      <th>dataset</th>\n      <td><div class=\"not-number\">xc</div></td>\n    </tr>\n    <tr>\n      <th>date</th>\n      <td><div class=\"not-number\">2018-05-13 00:00:00</div></td>\n    </tr>\n    <tr>\n      <th>download</th>\n      <td><div class=\"not-number\">//www.xeno-canto.org/415272/download</div></td>\n    </tr>\n    <tr>\n      <th>downloaded</th>\n      <td><div class=\"not-number\">True</div></td>\n    </tr>\n    <tr>\n      <th>duration_s</th>\n      <td>10</td>\n    </tr>\n    <tr>\n      <th>elevation</th>\n      <td><div class=\"not-number\">600 m</div></td>\n    </tr>\n    <tr>\n      <th>f_preds</th>\n      <td><div class=\"not-number\">[4.526e-07 8.794e-05 1.920e-09 4.218e-08 2.864e-04 3.702e-06 1.204e-03 7.641e-02 1.974e-12 1.080e-05 4.529e-06\n 2.055e-05 9.887e-07 7.625e-05 1.895e-06 2.317e-09 7.139e-08 ...</td>\n    </tr>\n    <tr>\n      <th>feat</th>\n      <td><div class=\"not-number\">[ 2.414e-01 -7.280e-02  3.050e-02 -1.618e-01 -1.477e-01 -3.141e-02  2.018e-01  6.089e-01  1.433e-01 -4.024e-01\n -1.801e-01 -2.235e-01 -6.539e-02 -2.465e-01 -4.305e-01  5.88...</td>\n    </tr>\n    <tr>\n      <th>hour</th>\n      <td>8</td>\n    </tr>\n    <tr>\n      <th>id</th>\n      <td><div class=\"not-number\">cache/audio/xc/data/CANG/415272/audio.mp3.resample(22050,1,16).enc(wav).slice(0,10000).spectro_denoise().enc(mp4,libfdk_aac,32k)</div></td>\n    </tr>\n    <tr>\n      <th>lat</th>\n      <td>54.1</td>\n    </tr>\n    <tr>\n      <th>length</th>\n      <td><div class=\"not-number\">0-3(s)</div></td>\n    </tr>\n    <tr>\n      <th>license</th>\n      <td><div class=\"not-number\">//creativecommons.org/licenses/by-nc-sa/4.0/</div></td>\n    </tr>\n    <tr>\n      <th>license_detail</th>\n      <td><div class=\"not-number\">4.0</div></td>\n    </tr>\n    <tr>\n      <th>license_type</th>\n      <td><div class=\"not-number\">by-nc-sa</div></td>\n    </tr>\n    <tr>\n      <th>lng</th>\n      <td>-122</td>\n    </tr>\n    <tr>\n      <th>locality</th>\n      <td><div class=\"not-number\">Fraser-Fort George F, Fraser-Fort George, British Columbia</div></td>\n    </tr>\n    <tr>\n      <th>month</th>\n      <td>5</td>\n    </tr>\n    <tr>\n      <th>month_day</th>\n      <td><div class=\"not-number\">05-13</div></td>\n    </tr>\n    <tr>\n      <th>n_background_species</th>\n      <td>2</td>\n    </tr>\n    <tr>\n      <th>number_of_notes</th>\n      <td><div class=\"not-number\">1-3</div></td>\n    </tr>\n    <tr>\n      <th>path</th>\n      <td><div class=\"not-number\">cache/audio/xc/data/CANG/415272/audio.mp3.resample(22050,1,16).enc(wav).slice(0,10000).spectro_denoise().enc(mp4,libfdk_aac,32k)</div></td>\n    </tr>\n    <tr>\n      <th>pitch</th>\n      <td><div class=\"not-number\">decreasing</div></td>\n    </tr>\n    <tr>\n      <th>place</th>\n      <td><div class=\"not-number\">Fraser-Fort George F, Fraser-Fort George, British Columbia, Canada</div></td>\n    </tr>\n    <tr>\n      <th>place_only</th>\n      <td><div class=\"not-number\">Fraser-Fort George F, Fraser-Fort George</div></td>\n    </tr>\n    <tr>\n      <th>playback_used</th>\n      <td><div class=\"not-number\">no</div></td>\n    </tr>\n    <tr>\n      <th>quality</th>\n      <td><div class=\"not-number\">A</div></td>\n    </tr>\n    <tr>\n      <th>recordist</th>\n      <td><div class=\"not-number\">Jeff Dyck</div></td>\n    </tr>\n    <tr>\n      <th>recs_for_sp</th>\n      <td>116</td>\n    </tr>\n    <tr>\n      <th>remarks</th>\n      <td><div class=\"not-number\">Pair of geese - calling while swimming in the water</div></td>\n    </tr>\n    <tr>\n      <th>sample_rate</th>\n      <td>22050</td>\n    </tr>\n    <tr>\n      <th>sample_width_bit</th>\n      <td>16</td>\n    </tr>\n    <tr>\n      <th>samples_mb</th>\n      <td>0.422</td>\n    </tr>\n    <tr>\n      <th>samples_n</th>\n      <td>221184</td>\n    </tr>\n    <tr>\n      <th>shorthand</th>\n      <td><div class=\"not-number\">CANG</div></td>\n    </tr>\n    <tr>\n      <th>species</th>\n      <td><div class=\"not-number\">CANG</div></td>\n    </tr>\n    <tr>\n      <th>species_com_name</th>\n      <td><div class=\"not-number\">Canada Goose</div></td>\n    </tr>\n    <tr>\n      <th>species_longhand</th>\n      <td><div class=\"not-number\">Canada Goose - CANG</div></td>\n    </tr>\n    <tr>\n      <th>species_query</th>\n      <td><div class=\"not-number\">CANG</div></td>\n    </tr>\n    <tr>\n      <th>species_taxon_id</th>\n      <td><div class=\"not-number\">TC000124</div></td>\n    </tr>\n    <tr>\n      <th>species_taxon_order</th>\n      <td><div class=\"not-number\">277.0</div></td>\n    </tr>\n    <tr>\n      <th>spectro_bytes</th>\n      <td><div class=\"not-number\">b'\\x89PNG\\r\\n\\x1a\\n\\x00\\x00\\x00\\rIHDR\\x00\\x00\\x03`\\x00\\x00\\x00(\\x08\\x03\\x00\\x00\\x00\\xaf\\xafi\\n\\x00\\x00\\x03\\x00PLTE\\xfb\\xfa\\xbd\\xfc\\xe7\\xa9\\xfd\\xd7\\x99\\xfd\\xc7\\x8b\\xfd\\xa8r\\...</td>\n    </tr>\n    <tr>\n      <th>spectro_bytes_mimetype</th>\n      <td><div class=\"not-number\">image/png</div></td>\n    </tr>\n    <tr>\n      <th>speed</th>\n      <td><div class=\"not-number\">level</div></td>\n    </tr>\n    <tr>\n      <th>state</th>\n      <td><div class=\"not-number\">British Columbia, Canada</div></td>\n    </tr>\n    <tr>\n      <th>state_only</th>\n      <td><div class=\"not-number\">British Columbia</div></td>\n    </tr>\n    <tr>\n      <th>subspecies</th>\n      <td><div class=\"not-number\"></div></td>\n    </tr>\n    <tr>\n      <th>taxon_id</th>\n      <td><div class=\"not-number\">TC000124</div></td>\n    </tr>\n    <tr>\n      <th>taxon_order</th>\n      <td><div class=\"not-number\">277.0</div></td>\n    </tr>\n    <tr>\n      <th>time</th>\n      <td><div class=\"not-number\">08:30</div></td>\n    </tr>\n    <tr>\n      <th>type</th>\n      <td><div class=\"not-number\">call</div></td>\n    </tr>\n    <tr>\n      <th>url</th>\n      <td><div class=\"not-number\">https://www.xeno-canto.org/415272</div></td>\n    </tr>\n    <tr>\n      <th>variable</th>\n      <td><div class=\"not-number\">no</div></td>\n    </tr>\n    <tr>\n      <th>volume</th>\n      <td><div class=\"not-number\">decreasing</div></td>\n    </tr>\n    <tr>\n      <th>xc_bitrate_of_mp3</th>\n      <td><div class=\"not-number\">128000 (bps)</div></td>\n    </tr>\n    <tr>\n      <th>xc_channels</th>\n      <td><div class=\"not-number\">1 (mono)</div></td>\n    </tr>\n    <tr>\n      <th>xc_id</th>\n      <td>415272</td>\n    </tr>\n    <tr>\n      <th>xc_sampling_rate</th>\n      <td><div class=\"not-number\">44100 (Hz)</div></td>\n    </tr>\n    <tr>\n      <th>year</th>\n      <td>2018</td>\n    </tr>\n  </tbody>\n</table>",
      "text/plain": "                                                                                                                                                                                                                              0\naudio_bytes             b'\\x00\\x00\\x00\\x1cftypisom\\x00\\x00\\x02\\x00isomiso2mp41\\x00\\x00\\x00\\x08free\\x00\\x00\\x9f\\x1emdat\\x01@\"\\x80\\xa3} \\x85----------------------------------------------------------------------------------...\naudio_bytes_mimetype                                                                                                                                                                                                  audio/mp4\nbackground                                                                                                                            [White-throated Sparrow (Zonotrichia albicollis), Audubon's Warbler (Setophaga auduboni)]\nbackground_species                                                                                                                                                                                    [WTSP, Audubon's Warbler]\nbasename                                                                                                                       audio.mp3.resample(22050,1,16).enc(wav).slice(0,10000).spectro_denoise().enc(mp4,libfdk_aac,32k)\nbird_seen                                                                                                                                                                                                                   yes\nchannels                                                                                                                                                                                                                      1\ncountry                                                                                                                                                                                                                  Canada\ndataset                                                                                                                                                                                                                      xc\ndate                                                                                                                                                                                                        2018-05-13 00:00:00\ndownload                                                                                                                                                                                   //www.xeno-canto.org/415272/download\ndownloaded                                                                                                                                                                                                                 True\nduration_s                                                                                                                                                                                                                   10\nelevation                                                                                                                                                                                                                 600 m\nf_preds                 [4.5261203e-07, 8.7942404e-05, 1.9197375e-09, 4.2175678e-08, 0.0002864064, 3.7017182e-06, 0.0012040786, 0.07640754, 1.9743716e-12, 1.0804775e-05, 4.5285014e-06, 2.0553958e-05, 9.887084e-07, 7.6254...\nfeat                    [0.2414155, -0.07280291, 0.030503822, -0.16177572, -0.14774804, -0.031406637, 0.20184696, 0.6089495, 0.14328566, -0.40242347, -0.18006833, -0.22349069, -0.06538777, -0.24650142, -0.4304691, 0.5881...\nhour                                                                                                                                                                                                                          8\nid                                                                                             cache/audio/xc/data/CANG/415272/audio.mp3.resample(22050,1,16).enc(wav).slice(0,10000).spectro_denoise().enc(mp4,libfdk_aac,32k)\nlat                                                                                                                                                                                                                        54.1\nlength                                                                                                                                                                                                                   0-3(s)\nlicense                                                                                                                                                                            //creativecommons.org/licenses/by-nc-sa/4.0/\nlicense_detail                                                                                                                                                                                                              4.0\nlicense_type                                                                                                                                                                                                           by-nc-sa\nlng                                                                                                                                                                                                                        -122\nlocality                                                                                                                                                             Fraser-Fort George F, Fraser-Fort George, British Columbia\nmonth                                                                                                                                                                                                                         5\nmonth_day                                                                                                                                                                                                                 05-13\nn_background_species                                                                                                                                                                                                          2\nnumber_of_notes                                                                                                                                                                                                             1-3\npath                                                                                           cache/audio/xc/data/CANG/415272/audio.mp3.resample(22050,1,16).enc(wav).slice(0,10000).spectro_denoise().enc(mp4,libfdk_aac,32k)\npitch                                                                                                                                                                                                                decreasing\nplace                                                                                                                                                        Fraser-Fort George F, Fraser-Fort George, British Columbia, Canada\nplace_only                                                                                                                                                                             Fraser-Fort George F, Fraser-Fort George\nplayback_used                                                                                                                                                                                                                no\nquality                                                                                                                                                                                                                       A\nrecordist                                                                                                                                                                                                             Jeff Dyck\nrecs_for_sp                                                                                                                                                                                                                 116\nremarks                                                                                                                                                                     Pair of geese - calling while swimming in the water\nsample_rate                                                                                                                                                                                                               22050\nsample_width_bit                                                                                                                                                                                                             16\nsamples_mb                                                                                                                                                                                                                0.422\nsamples_n                                                                                                                                                                                                                221184\nshorthand                                                                                                                                                                                                                  CANG\nspecies                                                                                                                                                                                                                    CANG\nspecies_com_name                                                                                                                                                                                                   Canada Goose\nspecies_longhand                                                                                                                                                                                            Canada Goose - CANG\nspecies_query                                                                                                                                                                                                              CANG\nspecies_taxon_id                                                                                                                                                                                                       TC000124\nspecies_taxon_order                                                                                                                                                                                                       277.0\nspectro_bytes           b'\\x89PNG\\r\\n\\x1a\\n\\x00\\x00\\x00\\rIHDR\\x00\\x00\\x03`\\x00\\x00\\x00(\\x08\\x03\\x00\\x00\\x00\\xaf\\xafi\\n\\x00\\x00\\x03\\x00PLTE\\xfb\\xfa\\xbd\\xfc\\xe7\\xa9\\xfd\\xd7\\x99\\xfd\\xc7\\x8b\\xfd\\xa8r\\xfc\\x97h\\xf8w\\\\\\xfe\\xb4|...\nspectro_bytes_mimetype                                                                                                                                                                                                image/png\nspeed                                                                                                                                                                                                                     level\nstate                                                                                                                                                                                                  British Columbia, Canada\nstate_only                                                                                                                                                                                                     British Columbia\nsubspecies                                                                                                                                                                                                                     \ntaxon_id                                                                                                                                                                                                               TC000124\ntaxon_order                                                                                                                                                                                                               277.0\ntime                                                                                                                                                                                                                      08:30\ntype                                                                                                                                                                                                                       call\nurl                                                                                                                                                                                           https://www.xeno-canto.org/415272\nvariable                                                                                                                                                                                                                     no\nvolume                                                                                                                                                                                                               decreasing\nxc_bitrate_of_mp3                                                                                                                                                                                                  128000 (bps)\nxc_channels                                                                                                                                                                                                            1 (mono)\nxc_id                                                                                                                                                                                                                    415272\nxc_sampling_rate                                                                                                                                                                                                     44100 (Hz)\nyear                                                                                                                                                                                                                       2018"
     },
     "execution_count": 8,
     "metadata": {},
     "output_type": "execute_result"
    }
   ],
   "source": [
    "(sg.search_recs\n",
    "    [:1].T\n",
    ")"
   ]
  },
  {
   "cell_type": "code",
   "execution_count": null,
   "metadata": {},
   "outputs": [
    {
     "data": {
      "text/html": "<div style=\"white-space: pre\">31018.06    202\n29984.39     70\n29840.0      61\n30339.0      49\n27838.0      47\n17750.0      45\n30233.0      45\n21138.0      41\n29984.69     41\n7602.0       41\n21330.0      41\n17828.0      38\n26358.0      38\n29958.0      37\n29554.0      37\n27793.0      36\n24903.0      35\n28091.0      34\n21276.0      33\n24602.0      32</div>",
      "text/plain": "31018.06    202\n29984.39     70\n29840.0      61\n30339.0      49\n27838.0      47\n17750.0      45\n30233.0      45\n21138.0      41\n29984.69     41\n7602.0       41\n21330.0      41\n17828.0      38\n26358.0      38\n29958.0      37\n29554.0      37\n27793.0      36\n24903.0      35\n28091.0      34\n21276.0      33\n24602.0      32\nName: taxon_order, dtype: int64"
     },
     "execution_count": 9,
     "metadata": {},
     "output_type": "execute_result"
    }
   ],
   "source": [
    "(sg.search_recs\n",
    "    .taxon_order\n",
    "    .value_counts()\n",
    "    [:20]\n",
    ")"
   ]
  },
  {
   "cell_type": "code",
   "execution_count": null,
   "metadata": {},
   "outputs": [],
   "source": []
  }
 ],
 "metadata": {
  "kernelspec": {
   "display_name": "python",
   "language": "python",
   "name": "python"
  }
 },
 "nbformat": 4,
 "nbformat_minor": 2
}
