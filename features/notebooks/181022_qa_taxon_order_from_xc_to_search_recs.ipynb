{
 "cells": [
  {
   "cell_type": "markdown",
   "metadata": {},
   "source": [
    "# NOTE You have to manually bump cache version in many places\n",
    "- datasets._xc._metadata\n",
    "- datasets._xc.metadata\n",
    "- server_globals.load_xc_meta\n",
    "- load.Load._metadata\n",
    "- load.Load.recs\n",
    "- config.api.recs.search_recs.params.config"
   ]
  },
  {
   "cell_type": "code",
   "execution_count": null,
   "metadata": {
    "time": "9.627s"
   },
   "outputs": [
    {
     "name": "stdout",
     "output_type": "stream",
     "text": "INFO     [17:25:53.572] [24280] 150 logging_/<module>: {logging_yaml: None}"
    },
    {
     "name": "stdout",
     "output_type": "stream",
     "text": "\n"
    },
    {
     "name": "stdout",
     "output_type": "stream",
     "text": "INFO     [17:25:54.008] [24280]  32 api.server_globals/init"
    },
    {
     "name": "stdout",
     "output_type": "stream",
     "text": "\n"
    },
    {
     "name": "stdout",
     "output_type": "stream",
     "text": "DEBUG    [17:25:54.016] [24280]  75 api.server_globals/load: load_search..."
    },
    {
     "name": "stdout",
     "output_type": "stream",
     "text": "\n"
    },
    {
     "name": "stdout",
     "output_type": "stream",
     "text": "INFO     [17:25:54.518] [24280]  79 api.server_globals/load: load_search (took 0.493s)"
    },
    {
     "name": "stdout",
     "output_type": "stream",
     "text": "\n"
    },
    {
     "name": "stdout",
     "output_type": "stream",
     "text": "DEBUG    [17:25:54.524] [24280]  75 api.server_globals/load: load_xc_meta..."
    },
    {
     "name": "stdout",
     "output_type": "stream",
     "text": "\n"
    },
    {
     "name": "stdout",
     "output_type": "stream",
     "text": "INFO     [17:25:54.924] [24280]  79 api.server_globals/load: load_xc_meta (took 0.392s)"
    },
    {
     "name": "stdout",
     "output_type": "stream",
     "text": "\n"
    },
    {
     "name": "stdout",
     "output_type": "stream",
     "text": "DEBUG    [17:25:54.930] [24280]  75 api.server_globals/load: load_feat_info..."
    },
    {
     "name": "stdout",
     "output_type": "stream",
     "text": "\n"
    },
    {
     "name": "stdout",
     "output_type": "stream",
     "text": "INFO     [17:25:54.938] [24280] 110 api.server_globals/load_feat_info"
    },
    {
     "name": "stdout",
     "output_type": "stream",
     "text": "\n"
    },
    {
     "name": "stdout",
     "output_type": "stream",
     "text": "INFO     [17:25:54.944] [24280]  79 api.server_globals/load: load_feat_info (took 0.006s)"
    },
    {
     "name": "stdout",
     "output_type": "stream",
     "text": "\n"
    },
    {
     "name": "stdout",
     "output_type": "stream",
     "text": "DEBUG    [17:25:54.951] [24280]  75 api.server_globals/load: load_search_recs..."
    },
    {
     "name": "stdout",
     "output_type": "stream",
     "text": "\n"
    },
    {
     "name": "stdout",
     "output_type": "stream",
     "text": "INFO     [17:25:54.957] [24280] 118 api.server_globals/load_search_recs"
    },
    {
     "name": "stdout",
     "output_type": "stream",
     "text": "\n"
    },
    {
     "name": "stdout",
     "output_type": "stream",
     "text": "INFO     [17:25:54.963] [24280] 601 api.recs/get_search_recs"
    },
    {
     "name": "stdout",
     "output_type": "stream",
     "text": "\n"
    },
    {
     "name": "stdout",
     "output_type": "stream",
     "text": "INFO     [17:25:55.083] [24280]  77 payloads/df_cache_hybrid: Miss: payloads/search_recs-version[7],limit[10],audio_s[10],countries_k[na],com_names_k[ca],num_recs[None]-b6cd6b7"
    },
    {
     "name": "stdout",
     "output_type": "stream",
     "text": "\n"
    },
    {
     "name": "stdout",
     "output_type": "stream",
     "text": "DEBUG    [17:25:55.094] [24280]  80 payloads/df_cache_hybrid: Compute: search_recs ..."
    },
    {
     "name": "stdout",
     "output_type": "stream",
     "text": "\n"
    },
    {
     "name": "stdout",
     "output_type": "stream",
     "text": "INFO     [17:25:55.105] [24280] 659 api.recs/_compute_search_recs: {len(sg.xc_meta): 35233, countries_k: na, com_names_k: ca, num_recs: null}"
    },
    {
     "name": "stdout",
     "output_type": "stream",
     "text": "\n"
    },
    {
     "name": "stdout",
     "output_type": "stream",
     "text": "\raudio_metadata: ["
    },
    {
     "name": "stdout",
     "output_type": "stream",
     "text": "                                                                                 "
    },
    {
     "name": "stdout",
     "output_type": "stream",
     "text": "] |   0% (10) |  0.0s"
    },
    {
     "name": "stdout",
     "output_type": "stream",
     "text": "\raudio_metadata: ["
    },
    {
     "name": "stdout",
     "output_type": "stream",
     "text": "                                                                                 "
    },
    {
     "name": "stdout",
     "output_type": "stream",
     "text": "] |   0% (10) |  0.1s"
    },
    {
     "name": "stdout",
     "output_type": "stream",
     "text": "\raudio_metadata: ["
    },
    {
     "name": "stdout",
     "output_type": "stream",
     "text": "                                                                                 "
    },
    {
     "name": "stdout",
     "output_type": "stream",
     "text": "] |   0% (10) |  0.4s"
    },
    {
     "name": "stdout",
     "output_type": "stream",
     "text": "\raudio_metadata: ["
    },
    {
     "name": "stdout",
     "output_type": "stream",
     "text": "#################################################################################"
    },
    {
     "name": "stdout",
     "output_type": "stream",
     "text": "] | 100% (10) |  3.0s"
    },
    {
     "name": "stdout",
     "output_type": "stream",
     "text": "\n"
    },
    {
     "name": "stdout",
     "output_type": "stream",
     "text": "\rf_preds: ["
    },
    {
     "name": "stdout",
     "output_type": "stream",
     "text": "                                                                                        "
    },
    {
     "name": "stdout",
     "output_type": "stream",
     "text": "] |   0% (10) |  0.0s"
    },
    {
     "name": "stdout",
     "output_type": "stream",
     "text": "\rf_preds: ["
    },
    {
     "name": "stdout",
     "output_type": "stream",
     "text": "                                                                                        "
    },
    {
     "name": "stdout",
     "output_type": "stream",
     "text": "] |   0% (10) |  0.1s"
    },
    {
     "name": "stdout",
     "output_type": "stream",
     "text": "\rf_preds: ["
    },
    {
     "name": "stdout",
     "output_type": "stream",
     "text": "                                                                                        "
    },
    {
     "name": "stdout",
     "output_type": "stream",
     "text": "] |   0% (10) |  0.2s"
    },
    {
     "name": "stdout",
     "output_type": "stream",
     "text": "\rf_preds: ["
    },
    {
     "name": "stdout",
     "output_type": "stream",
     "text": "########################################################################################"
    },
    {
     "name": "stdout",
     "output_type": "stream",
     "text": "] | 100% (10) |  0.3s"
    },
    {
     "name": "stdout",
     "output_type": "stream",
     "text": "\n"
    },
    {
     "name": "stderr",
     "output_type": "stream",
     "text": "\rrec_spectro_bytes:   0%|                                                                        | 0/10 [00:00<?, ?it/s]"
    },
    {
     "name": "stderr",
     "output_type": "stream",
     "text": "\rrec_spectro_bytes: 100%|██████████████████████████████████████████████████████████████| 10/10 [00:00<00:00, 461.25it/s]"
    },
    {
     "name": "stderr",
     "output_type": "stream",
     "text": "\n"
    },
    {
     "name": "stdout",
     "output_type": "stream",
     "text": "INFO     [17:25:59.924] [24280] 925 api.recs/recs_featurize_spectro_bytes: [0.029s]"
    },
    {
     "name": "stdout",
     "output_type": "stream",
     "text": "\n"
    },
    {
     "name": "stdout",
     "output_type": "stream",
     "text": "\raudio_bytes: ["
    },
    {
     "name": "stdout",
     "output_type": "stream",
     "text": "                                                                                    "
    },
    {
     "name": "stdout",
     "output_type": "stream",
     "text": "] |   0% (10) |  0.0s"
    },
    {
     "name": "stdout",
     "output_type": "stream",
     "text": "\raudio_bytes: ["
    },
    {
     "name": "stdout",
     "output_type": "stream",
     "text": "####################################################################################"
    },
    {
     "name": "stdout",
     "output_type": "stream",
     "text": "] | 100% (10) |  0.1s"
    },
    {
     "name": "stdout",
     "output_type": "stream",
     "text": "\n"
    },
    {
     "name": "stdout",
     "output_type": "stream",
     "text": "INFO     [17:26:00.049] [24280] 999 api.recs/recs_featurize_audio_bytes: [0.111s]"
    },
    {
     "name": "stdout",
     "output_type": "stream",
     "text": "\n"
    },
    {
     "name": "stdout",
     "output_type": "stream",
     "text": "INFO     [17:26:00.059] [24280] 687 api.recs/recs_featurize_pre_rank: batches (1/1) [4.942s]"
    },
    {
     "name": "stdout",
     "output_type": "stream",
     "text": "\n"
    },
    {
     "name": "stdout",
     "output_type": "stream",
     "text": "INFO     [17:26:00.075] [24280]  83 payloads/df_cache_hybrid: Compute: search_recs [4.981s]"
    },
    {
     "name": "stdout",
     "output_type": "stream",
     "text": "\n"
    },
    {
     "name": "stdout",
     "output_type": "stream",
     "text": "DEBUG    [17:26:00.087] [24280]  87 payloads/df_cache_hybrid: Miss: search_recs ..."
    },
    {
     "name": "stdout",
     "output_type": "stream",
     "text": "\n"
    },
    {
     "name": "stdout",
     "output_type": "stream",
     "text": "INFO     [17:26:00.120] [24280] 101 payloads/df_cache_hybrid: Miss: Inferred feat_cols['f_preds', 'feat']"
    },
    {
     "name": "stdout",
     "output_type": "stream",
     "text": "\n"
    },
    {
     "name": "stdout",
     "output_type": "stream",
     "text": "DEBUG    [17:26:00.138] [24280] 104 payloads/df_cache_hybrid: Miss: Write api/lite.parquet ..."
    },
    {
     "name": "stdout",
     "output_type": "stream",
     "text": "\n"
    },
    {
     "name": "stdout",
     "output_type": "stream",
     "text": "INFO     [17:26:00.635] [24280] 109 payloads/df_cache_hybrid: Miss: Write api/lite.parquet [36.2 kB, 0.497s]"
    },
    {
     "name": "stdout",
     "output_type": "stream",
     "text": "\n"
    },
    {
     "name": "stdout",
     "output_type": "stream",
     "text": "DEBUG    [17:26:00.654] [24280] 113 payloads/df_cache_hybrid: Miss: Write api/bytes-audio_bytes.parquet ..."
    },
    {
     "name": "stdout",
     "output_type": "stream",
     "text": "\n"
    },
    {
     "name": "stdout",
     "output_type": "stream",
     "text": "INFO     [17:26:00.665] [24280] 118 payloads/df_cache_hybrid: Miss: Write api/bytes-audio_bytes.parquet [566.9 kB, 0.011s]"
    },
    {
     "name": "stdout",
     "output_type": "stream",
     "text": "\n"
    },
    {
     "name": "stdout",
     "output_type": "stream",
     "text": "DEBUG    [17:26:00.675] [24280] 113 payloads/df_cache_hybrid: Miss: Write api/bytes-spectro_bytes.parquet ..."
    },
    {
     "name": "stdout",
     "output_type": "stream",
     "text": "\n"
    },
    {
     "name": "stdout",
     "output_type": "stream",
     "text": "INFO     [17:26:00.684] [24280] 118 payloads/df_cache_hybrid: Miss: Write api/bytes-spectro_bytes.parquet [162.6 kB, 0.009s]"
    },
    {
     "name": "stdout",
     "output_type": "stream",
     "text": "\n"
    },
    {
     "name": "stdout",
     "output_type": "stream",
     "text": "DEBUG    [17:26:00.694] [24280] 123 payloads/df_cache_hybrid: Miss: Write api/feat-f_preds.npy: float32 ..."
    },
    {
     "name": "stdout",
     "output_type": "stream",
     "text": "\n"
    },
    {
     "name": "stdout",
     "output_type": "stream",
     "text": "INFO     [17:26:00.702] [24280] 125 payloads/df_cache_hybrid: Miss: Write api/feat-f_preds.npy: float32 [13.4 kB, 0.009s]"
    },
    {
     "name": "stdout",
     "output_type": "stream",
     "text": "\n"
    },
    {
     "name": "stdout",
     "output_type": "stream",
     "text": "DEBUG    [17:26:00.715] [24280] 123 payloads/df_cache_hybrid: Miss: Write api/feat-feat.npy: float32 ..."
    },
    {
     "name": "stdout",
     "output_type": "stream",
     "text": "\n"
    },
    {
     "name": "stdout",
     "output_type": "stream",
     "text": "INFO     [17:26:00.722] [24280] 125 payloads/df_cache_hybrid: Miss: Write api/feat-feat.npy: float32 [60.1 kB, 0.007s]"
    },
    {
     "name": "stdout",
     "output_type": "stream",
     "text": "\n"
    },
    {
     "name": "stdout",
     "output_type": "stream",
     "text": "INFO     [17:26:00.730] [24280] 143 payloads/df_cache_hybrid: Miss: search_recs [0.643s]"
    },
    {
     "name": "stdout",
     "output_type": "stream",
     "text": "\n"
    },
    {
     "data": {
      "text/html": "<table border=\"1\" class=\"dataframe\">\n  <thead>\n    <tr style=\"text-align: right;\">\n      <th></th>\n      <th>dir</th>\n      <th>file</th>\n      <th>size</th>\n      <th>frac</th>\n    </tr>\n  </thead>\n  <tbody>\n    <tr>\n      <th>5</th>\n      <td><div class=\"not-number\">api</div></td>\n      <td><div class=\"not-number\">TOTAL</div></td>\n      <td>839232</td>\n      <td>1.000</td>\n    </tr>\n    <tr>\n      <th>1</th>\n      <td><div class=\"not-number\">api</div></td>\n      <td><div class=\"not-number\">api/bytes-audio_bytes.parquet</div></td>\n      <td>566898</td>\n      <td>0.675</td>\n    </tr>\n    <tr>\n      <th>2</th>\n      <td><div class=\"not-number\">api</div></td>\n      <td><div class=\"not-number\">api/bytes-spectro_bytes.parquet</div></td>\n      <td>162612</td>\n      <td>0.194</td>\n    </tr>\n    <tr>\n      <th>4</th>\n      <td><div class=\"not-number\">api</div></td>\n      <td><div class=\"not-number\">api/feat-feat.npy: float32</div></td>\n      <td>60128</td>\n      <td>0.072</td>\n    </tr>\n    <tr>\n      <th>0</th>\n      <td><div class=\"not-number\">api</div></td>\n      <td><div class=\"not-number\">api/lite.parquet</div></td>\n      <td>36226</td>\n      <td>0.043</td>\n    </tr>\n    <tr>\n      <th>3</th>\n      <td><div class=\"not-number\">api</div></td>\n      <td><div class=\"not-number\">api/feat-f_preds.npy: float32</div></td>\n      <td>13368</td>\n      <td>0.016</td>\n    </tr>\n  </tbody>\n</table>",
      "text/plain": "   dir                             file    size   frac\n5  api                            TOTAL  839232  1.000\n1  api    api/bytes-audio_bytes.parquet  566898  0.675\n2  api  api/bytes-spectro_bytes.parquet  162612  0.194\n4  api       api/feat-feat.npy: float32   60128  0.072\n0  api                 api/lite.parquet   36226  0.043\n3  api    api/feat-f_preds.npy: float32   13368  0.016"
     },
     "metadata": {},
     "output_type": "display_data",
     "transient": {}
    },
    {
     "name": "stdout",
     "output_type": "stream",
     "text": "INFO     [17:26:00.767] [24280]  79 api.server_globals/load: load_search_recs (took 5.810s)"
    },
    {
     "name": "stdout",
     "output_type": "stream",
     "text": "\n"
    },
    {
     "name": "stdout",
     "output_type": "stream",
     "text": "INFO     [17:26:00.776] [24280]  34 api.server_globals/init: done"
    },
    {
     "name": "stdout",
     "output_type": "stream",
     "text": "\n"
    }
   ],
   "source": [
    "from notebooks import *\n",
    "sg.init(None)"
   ]
  },
  {
   "cell_type": "code",
   "execution_count": null,
   "metadata": {},
   "outputs": [
    {
     "data": {
      "text/html": "<table border=\"1\" class=\"dataframe\">\n  <thead>\n    <tr style=\"text-align: right;\">\n      <th></th>\n      <th>shorthand</th>\n      <th>taxon_id</th>\n      <th>taxon_order</th>\n    </tr>\n  </thead>\n  <tbody>\n    <tr>\n      <th>0</th>\n      <td><div class=\"not-number\">COOS</div></td>\n      <td><div class=\"not-number\">TC000002</div></td>\n      <td><div class=\"not-number\">3.0</div></td>\n    </tr>\n    <tr>\n      <th>1</th>\n      <td><div class=\"not-number\">SOOS</div></td>\n      <td><div class=\"not-number\">TC000003</div></td>\n      <td><div class=\"not-number\">5.0</div></td>\n    </tr>\n    <tr>\n      <th>2</th>\n      <td><div class=\"not-number\">GRRH</div></td>\n      <td><div class=\"not-number\">TC000004</div></td>\n      <td><div class=\"not-number\">7.0</div></td>\n    </tr>\n    <tr>\n      <th>3</th>\n      <td><div class=\"not-number\">LERH</div></td>\n      <td><div class=\"not-number\">TC000005</div></td>\n      <td><div class=\"not-number\">13.0</div></td>\n    </tr>\n    <tr>\n      <th>4</th>\n      <td><div class=\"not-number\">TBTI</div></td>\n      <td><div class=\"not-number\">TC000018</div></td>\n      <td><div class=\"not-number\">32.0</div></td>\n    </tr>\n    <tr>\n      <th>5</th>\n      <td><div class=\"not-number\">HITI</div></td>\n      <td><div class=\"not-number\">TC000019</div></td>\n      <td><div class=\"not-number\">33.0</div></td>\n    </tr>\n    <tr>\n      <th>6</th>\n      <td><div class=\"not-number\">HOTI</div></td>\n      <td><div class=\"not-number\">TC000022</div></td>\n      <td><div class=\"not-number\">40.0</div></td>\n    </tr>\n    <tr>\n      <th>7</th>\n      <td><div class=\"not-number\">grytin1</div></td>\n      <td><div class=\"not-number\">TC000023</div></td>\n      <td><div class=\"not-number\">43.0</div></td>\n    </tr>\n    <tr>\n      <th>8</th>\n      <td><div class=\"not-number\">soltin1</div></td>\n      <td><div class=\"not-number\">TC000024</div></td>\n      <td><div class=\"not-number\">48.0</div></td>\n    </tr>\n    <tr>\n      <th>9</th>\n      <td><div class=\"not-number\">BLTI</div></td>\n      <td><div class=\"not-number\">TC000025</div></td>\n      <td><div class=\"not-number\">49.0</div></td>\n    </tr>\n  </tbody>\n</table>",
      "text/plain": "  shorthand  taxon_id taxon_order\n0      COOS  TC000002         3.0\n1      SOOS  TC000003         5.0\n2      GRRH  TC000004         7.0\n3      LERH  TC000005        13.0\n4      TBTI  TC000018        32.0\n5      HITI  TC000019        33.0\n6      HOTI  TC000022        40.0\n7   grytin1  TC000023        43.0\n8   soltin1  TC000024        48.0\n9      BLTI  TC000025        49.0"
     },
     "execution_count": 2,
     "metadata": {},
     "output_type": "execute_result"
    }
   ],
   "source": [
    "(metadata.species.df\n",
    "    [['shorthand', 'taxon_id', 'taxon_order']]\n",
    "    [:10]\n",
    ")"
   ]
  },
  {
   "cell_type": "code",
   "execution_count": null,
   "metadata": {},
   "outputs": [
    {
     "name": "stderr",
     "output_type": "stream",
     "text": "/Users/danb/hack/potoo/potoo/pandas.py:208: FutureWarning: The reduce argument is deprecated and will be removed in a future version. You can specify result_type='reduce' to try to reduce the result to the original dimensions\n  ('mean', lambda df: df.apply(reduce=False, func=lambda c: c.mean() if np.issubdtype(c.dtype.base, np.number) else np.nan)),\n"
    },
    {
     "name": "stderr",
     "output_type": "stream",
     "text": "/Users/danb/hack/potoo/potoo/pandas.py:209: FutureWarning: The reduce argument is deprecated and will be removed in a future version. You can specify result_type='reduce' to try to reduce the result to the original dimensions\n  ('std',  lambda df: df.apply(reduce=False, func=lambda c: c.std()  if np.issubdtype(c.dtype.base, np.number) else np.nan)),\n"
    },
    {
     "name": "stderr",
     "output_type": "stream",
     "text": "/Users/danb/hack/potoo/potoo/pandas.py:243: FutureWarning: The reduce argument is deprecated and will be removed in a future version. You can specify result_type='reduce' to try to reduce the result to the original dimensions\n  reduce=False,  # Else all dtypes are 'object' [https://stackoverflow.com/a/34917685/397334]\n"
    },
    {
     "data": {
      "text/html": "<table border=\"1\" class=\"dataframe\">\n  <thead>\n    <tr style=\"text-align: right;\">\n      <th></th>\n      <th></th>\n      <th></th>\n      <th></th>\n      <th></th>\n      <th></th>\n      <th></th>\n      <th></th>\n      <th>min</th>\n      <th>25%</th>\n      <th>50%</th>\n      <th>75%</th>\n      <th>max</th>\n    </tr>\n    <tr>\n      <th></th>\n      <th>dtype</th>\n      <th>sizeof</th>\n      <th>len</th>\n      <th>count</th>\n      <th>nunique</th>\n      <th>mean</th>\n      <th>std</th>\n      <th></th>\n      <th></th>\n      <th></th>\n      <th></th>\n      <th></th>\n    </tr>\n  </thead>\n  <tbody>\n    <tr>\n      <th>index</th>\n      <th>int64</th>\n      <th>84424</th>\n      <th>10553</th>\n      <th>10553</th>\n      <th>10553</th>\n      <th>5276.0</th>\n      <th>3046.533</th>\n      <td>0</td>\n      <td>2638</td>\n      <td>5276</td>\n      <td>7914</td>\n      <td>10552</td>\n    </tr>\n    <tr>\n      <th>shorthand</th>\n      <th>category</th>\n      <th>1000194</th>\n      <th>10553</th>\n      <th>10553</th>\n      <th>10553</th>\n      <th>NaN</th>\n      <th>NaN</th>\n      <td><div class=\"not-number\">COOS</div></td>\n      <td><div class=\"not-number\">WRNE</div></td>\n      <td><div class=\"not-number\">JEBT</div></td>\n      <td><div class=\"not-number\">EVWE</div></td>\n      <td><div class=\"not-number\">_NON</div></td>\n    </tr>\n    <tr>\n      <th>taxon_id</th>\n      <th>category</th>\n      <th>1034731</th>\n      <th>10553</th>\n      <th>10553</th>\n      <th>10553</th>\n      <th>NaN</th>\n      <th>NaN</th>\n      <td><div class=\"not-number\">TC000002</div></td>\n      <td><div class=\"not-number\">TC003785</div></td>\n      <td><div class=\"not-number\">TC012228</div></td>\n      <td><div class=\"not-number\">TC009907</div></td>\n      <td><div class=\"not-number\">TC___NON</div></td>\n    </tr>\n    <tr>\n      <th>taxon_order</th>\n      <th>object</th>\n      <th>676308</th>\n      <th>10553</th>\n      <th>10553</th>\n      <th>10553</th>\n      <th>NaN</th>\n      <th>NaN</th>\n      <td><div class=\"not-number\">10000.0</div></td>\n      <td><div class=\"not-number\">15964.0</div></td>\n      <td><div class=\"not-number\">23377.01048</div></td>\n      <td><div class=\"not-number\">31771.0</div></td>\n      <td><div class=\"not-number\">_UNK</div></td>\n    </tr>\n  </tbody>\n</table>",
      "text/plain": "                                                                       min       25%          50%       75%       max\n            dtype    sizeof  len   count nunique mean   std                                                          \nindex       int64    84424   10553 10553 10553   5276.0 3046.533         0      2638         5276      7914     10552\nshorthand   category 1000194 10553 10553 10553   NaN    NaN           COOS      WRNE         JEBT      EVWE      _NON\ntaxon_id    category 1034731 10553 10553 10553   NaN    NaN       TC000002  TC003785     TC012228  TC009907  TC___NON\ntaxon_order object   676308  10553 10553 10553   NaN    NaN        10000.0   15964.0  23377.01048   31771.0      _UNK"
     },
     "execution_count": 3,
     "metadata": {},
     "output_type": "execute_result"
    }
   ],
   "source": [
    "(metadata.species.df\n",
    "    [['shorthand', 'taxon_id', 'taxon_order']]\n",
    "    .pipe(df_summary).T\n",
    ")"
   ]
  },
  {
   "cell_type": "code",
   "execution_count": null,
   "metadata": {},
   "outputs": [
    {
     "data": {
      "text/html": "<table border=\"1\" class=\"dataframe\">\n  <thead>\n    <tr style=\"text-align: right;\">\n      <th></th>\n      <th>0</th>\n    </tr>\n  </thead>\n  <tbody>\n    <tr>\n      <th>shorthand</th>\n      <td><div class=\"not-number\">COOS</div></td>\n    </tr>\n    <tr>\n      <th>longhand</th>\n      <td><div class=\"not-number\">Common Ostrich - COOS</div></td>\n    </tr>\n    <tr>\n      <th>sci_name</th>\n      <td><div class=\"not-number\">Struthio camelus</div></td>\n    </tr>\n    <tr>\n      <th>com_name</th>\n      <td><div class=\"not-number\">Common Ostrich</div></td>\n    </tr>\n    <tr>\n      <th>species_code</th>\n      <td><div class=\"not-number\">ostric2</div></td>\n    </tr>\n    <tr>\n      <th>taxon_order</th>\n      <td><div class=\"not-number\">3.0</div></td>\n    </tr>\n    <tr>\n      <th>taxon_id</th>\n      <td><div class=\"not-number\">TC000002</div></td>\n    </tr>\n    <tr>\n      <th>com_name_codes</th>\n      <td><div class=\"not-number\">COOS</div></td>\n    </tr>\n    <tr>\n      <th>sci_name_codes</th>\n      <td><div class=\"not-number\">STCA</div></td>\n    </tr>\n    <tr>\n      <th>banding_codes</th>\n      <td>NaN</td>\n    </tr>\n    <tr>\n      <th>species_group</th>\n      <td><div class=\"not-number\">Ostriches</div></td>\n    </tr>\n    <tr>\n      <th>family</th>\n      <td><div class=\"not-number\">Struthionidae (Ostriches)</div></td>\n    </tr>\n    <tr>\n      <th>order</th>\n      <td><div class=\"not-number\">Struthioniformes</div></td>\n    </tr>\n  </tbody>\n</table>",
      "text/plain": "                                        0\nshorthand                            COOS\nlonghand            Common Ostrich - COOS\nsci_name                 Struthio camelus\ncom_name                   Common Ostrich\nspecies_code                      ostric2\ntaxon_order                           3.0\ntaxon_id                         TC000002\ncom_name_codes                       COOS\nsci_name_codes                       STCA\nbanding_codes                         NaN\nspecies_group                   Ostriches\nfamily          Struthionidae (Ostriches)\norder                    Struthioniformes"
     },
     "execution_count": 4,
     "metadata": {},
     "output_type": "execute_result"
    }
   ],
   "source": [
    "(metadata.species.df\n",
    "    [:1].T\n",
    ")"
   ]
  },
  {
   "cell_type": "code",
   "execution_count": null,
   "metadata": {
    "time": "4.305s"
   },
   "outputs": [
    {
     "data": {
      "text/html": "<table border=\"1\" class=\"dataframe\">\n  <thead>\n    <tr style=\"text-align: right;\">\n      <th></th>\n      <th>0</th>\n    </tr>\n  </thead>\n  <tbody>\n    <tr>\n      <th>downloaded</th>\n      <td><div class=\"not-number\">False</div></td>\n    </tr>\n    <tr>\n      <th>species</th>\n      <td><div class=\"not-number\">CVTB</div></td>\n    </tr>\n    <tr>\n      <th>taxon_order</th>\n      <td><div class=\"not-number\">23159.0</div></td>\n    </tr>\n    <tr>\n      <th>taxon_id</th>\n      <td><div class=\"not-number\">TC008982</div></td>\n    </tr>\n    <tr>\n      <th>id</th>\n      <td>417733</td>\n    </tr>\n    <tr>\n      <th>sci_name</th>\n      <td><div class=\"not-number\">Sylvia subcaerulea</div></td>\n    </tr>\n    <tr>\n      <th>com_name</th>\n      <td><div class=\"not-number\">Chestnut-vented Warbler</div></td>\n    </tr>\n    <tr>\n      <th>subspecies</th>\n      <td><div class=\"not-number\"></div></td>\n    </tr>\n    <tr>\n      <th>recordist</th>\n      <td><div class=\"not-number\">Dawie de Swardt</div></td>\n    </tr>\n    <tr>\n      <th>country</th>\n      <td><div class=\"not-number\">South Africa</div></td>\n    </tr>\n    <tr>\n      <th>locality</th>\n      <td><div class=\"not-number\">Jakkalsfontein, Soutpan, Free State</div></td>\n    </tr>\n    <tr>\n      <th>lat</th>\n      <td>-28.8</td>\n    </tr>\n    <tr>\n      <th>lng</th>\n      <td>26</td>\n    </tr>\n    <tr>\n      <th>type</th>\n      <td><div class=\"not-number\">call</div></td>\n    </tr>\n    <tr>\n      <th>quality</th>\n      <td><div class=\"not-number\">B</div></td>\n    </tr>\n    <tr>\n      <th>date</th>\n      <td><div class=\"not-number\">2018-05-30 00:00:00</div></td>\n    </tr>\n    <tr>\n      <th>time</th>\n      <td><div class=\"not-number\">10:30</div></td>\n    </tr>\n    <tr>\n      <th>license_type</th>\n      <td><div class=\"not-number\">by-nc-sa</div></td>\n    </tr>\n    <tr>\n      <th>license_detail</th>\n      <td><div class=\"not-number\">4.0</div></td>\n    </tr>\n    <tr>\n      <th>license</th>\n      <td><div class=\"not-number\">//creativecommons.org/licenses/by-nc-sa/4.0/</div></td>\n    </tr>\n    <tr>\n      <th>url</th>\n      <td><div class=\"not-number\">https://www.xeno-canto.org/417733</div></td>\n    </tr>\n    <tr>\n      <th>download</th>\n      <td><div class=\"not-number\">//www.xeno-canto.org/417733/download</div></td>\n    </tr>\n    <tr>\n      <th>remarks</th>\n      <td>NaN</td>\n    </tr>\n    <tr>\n      <th>bird_seen</th>\n      <td>NaN</td>\n    </tr>\n    <tr>\n      <th>playback_used</th>\n      <td>NaN</td>\n    </tr>\n    <tr>\n      <th>elevation</th>\n      <td>NaN</td>\n    </tr>\n    <tr>\n      <th>background</th>\n      <td>NaN</td>\n    </tr>\n    <tr>\n      <th>volume</th>\n      <td>NaN</td>\n    </tr>\n    <tr>\n      <th>speed</th>\n      <td>NaN</td>\n    </tr>\n    <tr>\n      <th>pitch</th>\n      <td>NaN</td>\n    </tr>\n    <tr>\n      <th>length</th>\n      <td>NaN</td>\n    </tr>\n    <tr>\n      <th>number_of_notes</th>\n      <td>NaN</td>\n    </tr>\n    <tr>\n      <th>variable</th>\n      <td>NaN</td>\n    </tr>\n    <tr>\n      <th>xc_channels</th>\n      <td>NaN</td>\n    </tr>\n    <tr>\n      <th>xc_sampling_rate</th>\n      <td>NaN</td>\n    </tr>\n    <tr>\n      <th>xc_bitrate_of_mp3</th>\n      <td>NaN</td>\n    </tr>\n    <tr>\n      <th>shorthand</th>\n      <td><div class=\"not-number\">CVTB</div></td>\n    </tr>\n  </tbody>\n</table>",
      "text/plain": "                                                              0\ndownloaded                                                False\nspecies                                                    CVTB\ntaxon_order                                             23159.0\ntaxon_id                                               TC008982\nid                                                       417733\nsci_name                                     Sylvia subcaerulea\ncom_name                                Chestnut-vented Warbler\nsubspecies                                                     \nrecordist                                       Dawie de Swardt\ncountry                                            South Africa\nlocality                    Jakkalsfontein, Soutpan, Free State\nlat                                                       -28.8\nlng                                                          26\ntype                                                       call\nquality                                                       B\ndate                                        2018-05-30 00:00:00\ntime                                                      10:30\nlicense_type                                           by-nc-sa\nlicense_detail                                              4.0\nlicense            //creativecommons.org/licenses/by-nc-sa/4.0/\nurl                           https://www.xeno-canto.org/417733\ndownload                   //www.xeno-canto.org/417733/download\nremarks                                                     NaN\nbird_seen                                                   NaN\nplayback_used                                               NaN\nelevation                                                   NaN\nbackground                                                  NaN\nvolume                                                      NaN\nspeed                                                       NaN\npitch                                                       NaN\nlength                                                      NaN\nnumber_of_notes                                             NaN\nvariable                                                    NaN\nxc_channels                                                 NaN\nxc_sampling_rate                                            NaN\nxc_bitrate_of_mp3                                           NaN\nshorthand                                                  CVTB"
     },
     "execution_count": 5,
     "metadata": {},
     "output_type": "execute_result"
    }
   ],
   "source": [
    "(xc.metadata\n",
    "    [:1].T\n",
    ")"
   ]
  },
  {
   "cell_type": "code",
   "execution_count": null,
   "metadata": {},
   "outputs": [
    {
     "data": {
      "text/html": "<div style=\"white-space: pre\">Soundscape                          5741\nIdentity unknown                    4152\nAmerican Yellow Warbler              342\nWestern Jackdaw                      265\nGrey-backed Camaroptera              185\nDark-capped Bulbul                   132\nSouthern Chestnut-tailed Antbird     129\nSouthern Yellowthroat                128\nAudubon's Warbler                    121\nChestnut-bellied Seed Finch          116\nDusky Leaftosser                     113\nNorthern Pygmy Owl                   108\nNorthern Mountain Cacique             96\nOrange-breasted Bushshrike            86\nIberian Green Woodpecker              86\nRusty-breasted Cuckoo                 84\nEastern Woodhaunter                   72\nWestern Woodhaunter                   72\nChilean Elaenia                       69\nOlive-faced Flatbill                  66</div>",
      "text/plain": "Soundscape                          5741\nIdentity unknown                    4152\nAmerican Yellow Warbler              342\nWestern Jackdaw                      265\nGrey-backed Camaroptera              185\nDark-capped Bulbul                   132\nSouthern Chestnut-tailed Antbird     129\nSouthern Yellowthroat                128\nAudubon's Warbler                    121\nChestnut-bellied Seed Finch          116\nDusky Leaftosser                     113\nNorthern Pygmy Owl                   108\nNorthern Mountain Cacique             96\nOrange-breasted Bushshrike            86\nIberian Green Woodpecker              86\nRusty-breasted Cuckoo                 84\nEastern Woodhaunter                   72\nWestern Woodhaunter                   72\nChilean Elaenia                       69\nOlive-faced Flatbill                  66\nName: com_name, dtype: int64"
     },
     "execution_count": 6,
     "metadata": {},
     "output_type": "execute_result"
    }
   ],
   "source": [
    "(xc.metadata\n",
    "    [lambda df: df.taxon_id.isnull()]\n",
    "    .pipe(df_remove_unused_categories)\n",
    "    .com_name.value_counts()\n",
    "    [:20]\n",
    ")"
   ]
  },
  {
   "cell_type": "code",
   "execution_count": null,
   "metadata": {},
   "outputs": [
    {
     "data": {
      "text/html": "<table border=\"1\" class=\"dataframe\">\n  <thead>\n    <tr style=\"text-align: right;\">\n      <th></th>\n      <th>4</th>\n    </tr>\n  </thead>\n  <tbody>\n    <tr>\n      <th>downloaded</th>\n      <td><div class=\"not-number\">True</div></td>\n    </tr>\n    <tr>\n      <th>species</th>\n      <td><div class=\"not-number\">BHCO</div></td>\n    </tr>\n    <tr>\n      <th>taxon_order</th>\n      <td><div class=\"not-number\">30380.0</div></td>\n    </tr>\n    <tr>\n      <th>taxon_id</th>\n      <td><div class=\"not-number\">TC011520</div></td>\n    </tr>\n    <tr>\n      <th>id</th>\n      <td>417729</td>\n    </tr>\n    <tr>\n      <th>sci_name</th>\n      <td><div class=\"not-number\">Molothrus ater</div></td>\n    </tr>\n    <tr>\n      <th>com_name</th>\n      <td><div class=\"not-number\">Brown-headed Cowbird</div></td>\n    </tr>\n    <tr>\n      <th>subspecies</th>\n      <td><div class=\"not-number\"></div></td>\n    </tr>\n    <tr>\n      <th>recordist</th>\n      <td><div class=\"not-number\">Paula Caycedo & Mitch Covington</div></td>\n    </tr>\n    <tr>\n      <th>country</th>\n      <td><div class=\"not-number\">United States</div></td>\n    </tr>\n    <tr>\n      <th>locality</th>\n      <td><div class=\"not-number\">Grand Canyon Village, Coconino County, Arizona</div></td>\n    </tr>\n    <tr>\n      <th>lat</th>\n      <td>36</td>\n    </tr>\n    <tr>\n      <th>lng</th>\n      <td>-112</td>\n    </tr>\n    <tr>\n      <th>type</th>\n      <td><div class=\"not-number\">song</div></td>\n    </tr>\n    <tr>\n      <th>quality</th>\n      <td><div class=\"not-number\">A</div></td>\n    </tr>\n    <tr>\n      <th>date</th>\n      <td><div class=\"not-number\">2018-05-25 00:00:00</div></td>\n    </tr>\n    <tr>\n      <th>time</th>\n      <td><div class=\"not-number\">15:00</div></td>\n    </tr>\n    <tr>\n      <th>license_type</th>\n      <td><div class=\"not-number\">by-nc-sa</div></td>\n    </tr>\n    <tr>\n      <th>license_detail</th>\n      <td><div class=\"not-number\">4.0</div></td>\n    </tr>\n    <tr>\n      <th>license</th>\n      <td><div class=\"not-number\">//creativecommons.org/licenses/by-nc-sa/4.0/</div></td>\n    </tr>\n    <tr>\n      <th>url</th>\n      <td><div class=\"not-number\">https://www.xeno-canto.org/417729</div></td>\n    </tr>\n    <tr>\n      <th>download</th>\n      <td><div class=\"not-number\">//www.xeno-canto.org/417729/download</div></td>\n    </tr>\n    <tr>\n      <th>remarks</th>\n      <td><div class=\"not-number\"></div></td>\n    </tr>\n    <tr>\n      <th>bird_seen</th>\n      <td><div class=\"not-number\">yes</div></td>\n    </tr>\n    <tr>\n      <th>playback_used</th>\n      <td><div class=\"not-number\">no</div></td>\n    </tr>\n    <tr>\n      <th>elevation</th>\n      <td><div class=\"not-number\">2200 m</div></td>\n    </tr>\n    <tr>\n      <th>background</th>\n      <td><div class=\"not-number\">[]</div></td>\n    </tr>\n    <tr>\n      <th>volume</th>\n      <td><div class=\"not-number\">level</div></td>\n    </tr>\n    <tr>\n      <th>speed</th>\n      <td><div class=\"not-number\">level</div></td>\n    </tr>\n    <tr>\n      <th>pitch</th>\n      <td><div class=\"not-number\">level</div></td>\n    </tr>\n    <tr>\n      <th>length</th>\n      <td><div class=\"not-number\">0-3(s)</div></td>\n    </tr>\n    <tr>\n      <th>number_of_notes</th>\n      <td><div class=\"not-number\">4-6</div></td>\n    </tr>\n    <tr>\n      <th>variable</th>\n      <td><div class=\"not-number\">no</div></td>\n    </tr>\n    <tr>\n      <th>xc_channels</th>\n      <td><div class=\"not-number\">1 (mono)</div></td>\n    </tr>\n    <tr>\n      <th>xc_sampling_rate</th>\n      <td><div class=\"not-number\">44100 (Hz)</div></td>\n    </tr>\n    <tr>\n      <th>xc_bitrate_of_mp3</th>\n      <td><div class=\"not-number\">128000 (bps)</div></td>\n    </tr>\n    <tr>\n      <th>shorthand</th>\n      <td><div class=\"not-number\">BHCO</div></td>\n    </tr>\n  </tbody>\n</table>",
      "text/plain": "                                                                4\ndownloaded                                                   True\nspecies                                                      BHCO\ntaxon_order                                               30380.0\ntaxon_id                                                 TC011520\nid                                                         417729\nsci_name                                           Molothrus ater\ncom_name                                     Brown-headed Cowbird\nsubspecies                                                       \nrecordist                         Paula Caycedo & Mitch Covington\ncountry                                             United States\nlocality           Grand Canyon Village, Coconino County, Arizona\nlat                                                            36\nlng                                                          -112\ntype                                                         song\nquality                                                         A\ndate                                          2018-05-25 00:00:00\ntime                                                        15:00\nlicense_type                                             by-nc-sa\nlicense_detail                                                4.0\nlicense              //creativecommons.org/licenses/by-nc-sa/4.0/\nurl                             https://www.xeno-canto.org/417729\ndownload                     //www.xeno-canto.org/417729/download\nremarks                                                          \nbird_seen                                                     yes\nplayback_used                                                  no\nelevation                                                  2200 m\nbackground                                                     []\nvolume                                                      level\nspeed                                                       level\npitch                                                       level\nlength                                                     0-3(s)\nnumber_of_notes                                               4-6\nvariable                                                       no\nxc_channels                                              1 (mono)\nxc_sampling_rate                                       44100 (Hz)\nxc_bitrate_of_mp3                                    128000 (bps)\nshorthand                                                    BHCO"
     },
     "execution_count": 7,
     "metadata": {},
     "output_type": "execute_result"
    }
   ],
   "source": [
    "(sg.xc_meta\n",
    "    [:1].T\n",
    ")"
   ]
  },
  {
   "cell_type": "code",
   "execution_count": null,
   "metadata": {},
   "outputs": [
    {
     "data": {
      "text/html": "<table border=\"1\" class=\"dataframe\">\n  <thead>\n    <tr style=\"text-align: right;\">\n      <th></th>\n      <th>0</th>\n    </tr>\n  </thead>\n  <tbody>\n    <tr>\n      <th>audio_bytes</th>\n      <td><div class=\"not-number\">b'\\x00\\x00\\x00\\x1cftypisom\\x00\\x00\\x02\\x00isomiso2mp41\\x00\\x00\\x00\\x08free\\x00\\x00\\x9f\\x0emdat\\x01@\"\\x80\\xa3} \\x85----------------------------------------------------------...</td>\n    </tr>\n    <tr>\n      <th>audio_bytes_mimetype</th>\n      <td><div class=\"not-number\">audio/mp4</div></td>\n    </tr>\n    <tr>\n      <th>background</th>\n      <td><div class=\"not-number\">[]</div></td>\n    </tr>\n    <tr>\n      <th>background_species</th>\n      <td><div class=\"not-number\">[]</div></td>\n    </tr>\n    <tr>\n      <th>basename</th>\n      <td><div class=\"not-number\">audio.mp3.resample(22050,1,16).enc(wav).slice(0,10000).spectro_denoise().enc(mp4,libfdk_aac,32k)</div></td>\n    </tr>\n    <tr>\n      <th>bird_seen</th>\n      <td><div class=\"not-number\">yes</div></td>\n    </tr>\n    <tr>\n      <th>channels</th>\n      <td>1</td>\n    </tr>\n    <tr>\n      <th>country</th>\n      <td><div class=\"not-number\">Mexico</div></td>\n    </tr>\n    <tr>\n      <th>dataset</th>\n      <td><div class=\"not-number\">xc</div></td>\n    </tr>\n    <tr>\n      <th>date</th>\n      <td><div class=\"not-number\">2018-05-29 00:00:00</div></td>\n    </tr>\n    <tr>\n      <th>download</th>\n      <td><div class=\"not-number\">//www.xeno-canto.org/417557/download</div></td>\n    </tr>\n    <tr>\n      <th>downloaded</th>\n      <td><div class=\"not-number\">True</div></td>\n    </tr>\n    <tr>\n      <th>duration_s</th>\n      <td>10</td>\n    </tr>\n    <tr>\n      <th>elevation</th>\n      <td><div class=\"not-number\">0 m</div></td>\n    </tr>\n    <tr>\n      <th>f_preds</th>\n      <td><div class=\"not-number\">[1.097e-03 1.380e-03 1.157e-04 2.964e-04 1.809e-04 6.640e-05 9.428e-04 4.118e-03 4.614e-04 7.942e-04 1.984e-04\n 1.827e-04 9.207e-04 1.491e-02 1.753e-03 1.888e-03 1.212e-04 ...</td>\n    </tr>\n    <tr>\n      <th>feat</th>\n      <td><div class=\"not-number\">[ 2.840e-02 -6.592e-02  7.074e-01 -3.683e-02 -1.889e-02 -9.911e-02  1.254e-01 -1.241e-01  9.725e-02 -3.882e-02\n -1.405e-01 -1.834e-02 -8.847e-02 -8.934e-04 -1.102e-02 -2.29...</td>\n    </tr>\n    <tr>\n      <th>hour</th>\n      <td>11</td>\n    </tr>\n    <tr>\n      <th>id</th>\n      <td><div class=\"not-number\">cache/audio/xc/data/GHOW/417557/audio.mp3.resample(22050,1,16).enc(wav).slice(0,10000).spectro_denoise().enc(mp4,libfdk_aac,32k)</div></td>\n    </tr>\n    <tr>\n      <th>lat</th>\n      <td>21.2</td>\n    </tr>\n    <tr>\n      <th>length</th>\n      <td><div class=\"not-number\">Not specified</div></td>\n    </tr>\n    <tr>\n      <th>license</th>\n      <td><div class=\"not-number\">//creativecommons.org/licenses/by-nc-sa/4.0/</div></td>\n    </tr>\n    <tr>\n      <th>license_detail</th>\n      <td><div class=\"not-number\">4.0</div></td>\n    </tr>\n    <tr>\n      <th>license_type</th>\n      <td><div class=\"not-number\">by-nc-sa</div></td>\n    </tr>\n    <tr>\n      <th>lng</th>\n      <td>-90</td>\n    </tr>\n    <tr>\n      <th>locality</th>\n      <td><div class=\"not-number\">Sisal, Hunucmá, Yucatán</div></td>\n    </tr>\n    <tr>\n      <th>month</th>\n      <td>5</td>\n    </tr>\n    <tr>\n      <th>month_day</th>\n      <td><div class=\"not-number\">05-29</div></td>\n    </tr>\n    <tr>\n      <th>n_background_species</th>\n      <td>0</td>\n    </tr>\n    <tr>\n      <th>number_of_notes</th>\n      <td><div class=\"not-number\">Not specified</div></td>\n    </tr>\n    <tr>\n      <th>path</th>\n      <td><div class=\"not-number\">cache/audio/xc/data/GHOW/417557/audio.mp3.resample(22050,1,16).enc(wav).slice(0,10000).spectro_denoise().enc(mp4,libfdk_aac,32k)</div></td>\n    </tr>\n    <tr>\n      <th>pitch</th>\n      <td><div class=\"not-number\">Not specified</div></td>\n    </tr>\n    <tr>\n      <th>place</th>\n      <td><div class=\"not-number\">Sisal, Hunucmá, Yucatán, Mexico</div></td>\n    </tr>\n    <tr>\n      <th>place_only</th>\n      <td><div class=\"not-number\">Sisal, Hunucmá</div></td>\n    </tr>\n    <tr>\n      <th>playback_used</th>\n      <td><div class=\"not-number\">no</div></td>\n    </tr>\n    <tr>\n      <th>quality</th>\n      <td><div class=\"not-number\">A</div></td>\n    </tr>\n    <tr>\n      <th>recordist</th>\n      <td><div class=\"not-number\">Esau Toaki Villarreal </div></td>\n    </tr>\n    <tr>\n      <th>recs_for_sp</th>\n      <td>172</td>\n    </tr>\n    <tr>\n      <th>remarks</th>\n      <td><div class=\"not-number\">Microphone Parabolic Stereo Ornitronik and recorder zoom F4</div></td>\n    </tr>\n    <tr>\n      <th>sample_rate</th>\n      <td>22050</td>\n    </tr>\n    <tr>\n      <th>sample_width_bit</th>\n      <td>16</td>\n    </tr>\n    <tr>\n      <th>samples_mb</th>\n      <td>0.422</td>\n    </tr>\n    <tr>\n      <th>samples_n</th>\n      <td>221184</td>\n    </tr>\n    <tr>\n      <th>shorthand</th>\n      <td><div class=\"not-number\">GHOW</div></td>\n    </tr>\n    <tr>\n      <th>species</th>\n      <td><div class=\"not-number\">GHOW</div></td>\n    </tr>\n    <tr>\n      <th>species_com_name</th>\n      <td><div class=\"not-number\">Great Horned Owl</div></td>\n    </tr>\n    <tr>\n      <th>species_longhand</th>\n      <td><div class=\"not-number\">Great Horned Owl - GHOW</div></td>\n    </tr>\n    <tr>\n      <th>species_query</th>\n      <td><div class=\"not-number\">GHOW</div></td>\n    </tr>\n    <tr>\n      <th>species_sci_name</th>\n      <td><div class=\"not-number\">Bubo virginianus</div></td>\n    </tr>\n    <tr>\n      <th>species_taxon_id</th>\n      <td><div class=\"not-number\">TC003483</div></td>\n    </tr>\n    <tr>\n      <th>species_taxon_order</th>\n      <td><div class=\"not-number\">7254.0</div></td>\n    </tr>\n    <tr>\n      <th>spectro_bytes</th>\n      <td><div class=\"not-number\">b'\\x89PNG\\r\\n\\x1a\\n\\x00\\x00\\x00\\rIHDR\\x00\\x00\\x03`\\x00\\x00\\x00(\\x08\\x03\\x00\\x00\\x00\\xaf\\xafi\\n\\x00\\x00\\x03\\x00PLTE\\xfb\\xfb\\xbd\\xfc\\xe7\\xa9\\xfd\\xd7\\x99\\xfd\\xc7\\x8b\\xfd\\xa8r\\...</td>\n    </tr>\n    <tr>\n      <th>spectro_bytes_mimetype</th>\n      <td><div class=\"not-number\">image/png</div></td>\n    </tr>\n    <tr>\n      <th>speed</th>\n      <td><div class=\"not-number\">Not specified</div></td>\n    </tr>\n    <tr>\n      <th>state</th>\n      <td><div class=\"not-number\">Yucatán, Mexico</div></td>\n    </tr>\n    <tr>\n      <th>state_only</th>\n      <td><div class=\"not-number\">Yucatán</div></td>\n    </tr>\n    <tr>\n      <th>subspecies</th>\n      <td><div class=\"not-number\"></div></td>\n    </tr>\n    <tr>\n      <th>taxon_id</th>\n      <td><div class=\"not-number\">TC003483</div></td>\n    </tr>\n    <tr>\n      <th>taxon_order</th>\n      <td><div class=\"not-number\">7254.0</div></td>\n    </tr>\n    <tr>\n      <th>time</th>\n      <td><div class=\"not-number\">11:00</div></td>\n    </tr>\n    <tr>\n      <th>type</th>\n      <td><div class=\"not-number\">call, female, male, song, two individuals</div></td>\n    </tr>\n    <tr>\n      <th>url</th>\n      <td><div class=\"not-number\">https://www.xeno-canto.org/417557</div></td>\n    </tr>\n    <tr>\n      <th>variable</th>\n      <td><div class=\"not-number\">Not specified</div></td>\n    </tr>\n    <tr>\n      <th>volume</th>\n      <td><div class=\"not-number\">Not specified</div></td>\n    </tr>\n    <tr>\n      <th>xc_bitrate_of_mp3</th>\n      <td><div class=\"not-number\">320082 (bps)</div></td>\n    </tr>\n    <tr>\n      <th>xc_channels</th>\n      <td><div class=\"not-number\">2 (stereo)</div></td>\n    </tr>\n    <tr>\n      <th>xc_id</th>\n      <td>417557</td>\n    </tr>\n    <tr>\n      <th>xc_sampling_rate</th>\n      <td><div class=\"not-number\">48000 (Hz)</div></td>\n    </tr>\n    <tr>\n      <th>year</th>\n      <td>2018</td>\n    </tr>\n  </tbody>\n</table>",
      "text/plain": "                                                                                                                                                                                                                              0\naudio_bytes             b'\\x00\\x00\\x00\\x1cftypisom\\x00\\x00\\x02\\x00isomiso2mp41\\x00\\x00\\x00\\x08free\\x00\\x00\\x9f\\x0emdat\\x01@\"\\x80\\xa3} \\x85----------------------------------------------------------------------------------...\naudio_bytes_mimetype                                                                                                                                                                                                  audio/mp4\nbackground                                                                                                                                                                                                                   []\nbackground_species                                                                                                                                                                                                           []\nbasename                                                                                                                       audio.mp3.resample(22050,1,16).enc(wav).slice(0,10000).spectro_denoise().enc(mp4,libfdk_aac,32k)\nbird_seen                                                                                                                                                                                                                   yes\nchannels                                                                                                                                                                                                                      1\ncountry                                                                                                                                                                                                                  Mexico\ndataset                                                                                                                                                                                                                      xc\ndate                                                                                                                                                                                                        2018-05-29 00:00:00\ndownload                                                                                                                                                                                   //www.xeno-canto.org/417557/download\ndownloaded                                                                                                                                                                                                                 True\nduration_s                                                                                                                                                                                                                   10\nelevation                                                                                                                                                                                                                   0 m\nf_preds                 [0.001096593, 0.0013801064, 0.00011569435, 0.00029638433, 0.00018091647, 6.64033e-05, 0.0009428049, 0.0041175517, 0.00046144507, 0.0007942418, 0.00019835951, 0.00018270043, 0.00092068507, 0.014906...\nfeat                    [0.0283984, -0.06592232, 0.7074139, -0.03683142, -0.0188872, -0.09910859, 0.12541112, -0.12408448, 0.09725187, -0.038822714, -0.14053278, -0.018343171, -0.088465616, -0.0008934229, -0.011021668, -...\nhour                                                                                                                                                                                                                         11\nid                                                                                             cache/audio/xc/data/GHOW/417557/audio.mp3.resample(22050,1,16).enc(wav).slice(0,10000).spectro_denoise().enc(mp4,libfdk_aac,32k)\nlat                                                                                                                                                                                                                        21.2\nlength                                                                                                                                                                                                            Not specified\nlicense                                                                                                                                                                            //creativecommons.org/licenses/by-nc-sa/4.0/\nlicense_detail                                                                                                                                                                                                              4.0\nlicense_type                                                                                                                                                                                                           by-nc-sa\nlng                                                                                                                                                                                                                         -90\nlocality                                                                                                                                                                                                Sisal, Hunucmá, Yucatán\nmonth                                                                                                                                                                                                                         5\nmonth_day                                                                                                                                                                                                                 05-29\nn_background_species                                                                                                                                                                                                          0\nnumber_of_notes                                                                                                                                                                                                   Not specified\npath                                                                                           cache/audio/xc/data/GHOW/417557/audio.mp3.resample(22050,1,16).enc(wav).slice(0,10000).spectro_denoise().enc(mp4,libfdk_aac,32k)\npitch                                                                                                                                                                                                             Not specified\nplace                                                                                                                                                                                           Sisal, Hunucmá, Yucatán, Mexico\nplace_only                                                                                                                                                                                                       Sisal, Hunucmá\nplayback_used                                                                                                                                                                                                                no\nquality                                                                                                                                                                                                                       A\nrecordist                                                                                                                                                                                                Esau Toaki Villarreal \nrecs_for_sp                                                                                                                                                                                                                 172\nremarks                                                                                                                                                             Microphone Parabolic Stereo Ornitronik and recorder zoom F4\nsample_rate                                                                                                                                                                                                               22050\nsample_width_bit                                                                                                                                                                                                             16\nsamples_mb                                                                                                                                                                                                                0.422\nsamples_n                                                                                                                                                                                                                221184\nshorthand                                                                                                                                                                                                                  GHOW\nspecies                                                                                                                                                                                                                    GHOW\nspecies_com_name                                                                                                                                                                                               Great Horned Owl\nspecies_longhand                                                                                                                                                                                        Great Horned Owl - GHOW\nspecies_query                                                                                                                                                                                                              GHOW\nspecies_sci_name                                                                                                                                                                                               Bubo virginianus\nspecies_taxon_id                                                                                                                                                                                                       TC003483\nspecies_taxon_order                                                                                                                                                                                                      7254.0\nspectro_bytes           b'\\x89PNG\\r\\n\\x1a\\n\\x00\\x00\\x00\\rIHDR\\x00\\x00\\x03`\\x00\\x00\\x00(\\x08\\x03\\x00\\x00\\x00\\xaf\\xafi\\n\\x00\\x00\\x03\\x00PLTE\\xfb\\xfb\\xbd\\xfc\\xe7\\xa9\\xfd\\xd7\\x99\\xfd\\xc7\\x8b\\xfd\\xa8r\\xfe\\xb5|\\xfc\\x97h\\xfe\\xb...\nspectro_bytes_mimetype                                                                                                                                                                                                image/png\nspeed                                                                                                                                                                                                             Not specified\nstate                                                                                                                                                                                                           Yucatán, Mexico\nstate_only                                                                                                                                                                                                              Yucatán\nsubspecies                                                                                                                                                                                                                     \ntaxon_id                                                                                                                                                                                                               TC003483\ntaxon_order                                                                                                                                                                                                              7254.0\ntime                                                                                                                                                                                                                      11:00\ntype                                                                                                                                                                                  call, female, male, song, two individuals\nurl                                                                                                                                                                                           https://www.xeno-canto.org/417557\nvariable                                                                                                                                                                                                          Not specified\nvolume                                                                                                                                                                                                            Not specified\nxc_bitrate_of_mp3                                                                                                                                                                                                  320082 (bps)\nxc_channels                                                                                                                                                                                                          2 (stereo)\nxc_id                                                                                                                                                                                                                    417557\nxc_sampling_rate                                                                                                                                                                                                     48000 (Hz)\nyear                                                                                                                                                                                                                       2018"
     },
     "execution_count": 8,
     "metadata": {},
     "output_type": "execute_result"
    }
   ],
   "source": [
    "(sg.search_recs\n",
    "    [:1].T\n",
    ")"
   ]
  },
  {
   "cell_type": "code",
   "execution_count": null,
   "metadata": {},
   "outputs": [
    {
     "data": {
      "text/html": "<div style=\"white-space: pre\">30432.0    2\n30866.0    1\n31345.0    1\n30380.0    1\n27968.0    1\n20708.0    1\n24602.0    1\n7254.0     1\n24501.0    1</div>",
      "text/plain": "30432.0    2\n30866.0    1\n31345.0    1\n30380.0    1\n27968.0    1\n20708.0    1\n24602.0    1\n7254.0     1\n24501.0    1\nName: taxon_order, dtype: int64"
     },
     "execution_count": 9,
     "metadata": {},
     "output_type": "execute_result"
    }
   ],
   "source": [
    "(sg.search_recs\n",
    "    .taxon_order\n",
    "    .value_counts()\n",
    "    [:20]\n",
    ")"
   ]
  },
  {
   "cell_type": "code",
   "execution_count": null,
   "metadata": {},
   "outputs": [],
   "source": []
  }
 ],
 "metadata": {
  "kernelspec": {
   "display_name": "bubo-features (PYTHONSTARTUP)",
   "language": "python",
   "name": "bubo-features (PYTHONSTARTUP)"
  }
 },
 "nbformat": 4,
 "nbformat_minor": 2
}
