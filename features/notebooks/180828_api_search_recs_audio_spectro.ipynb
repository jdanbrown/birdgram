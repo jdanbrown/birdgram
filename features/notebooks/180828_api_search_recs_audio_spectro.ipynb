{
 "cells": [
  {
   "cell_type": "code",
   "execution_count": null,
   "metadata": {
    "time": "6.014s"
   },
   "outputs": [
    {
     "name": "stdout",
     "output_type": "stream",
     "text": "INFO     [18:23:49.643] [ 7634]  52 logging_/init_logging: {logging_yaml: None}"
    },
    {
     "name": "stdout",
     "output_type": "stream",
     "text": "\n"
    },
    {
     "name": "stdout",
     "output_type": "stream",
     "text": "INFO     [18:23:49.938] [ 7634]  32 api.server_globals/init"
    },
    {
     "name": "stdout",
     "output_type": "stream",
     "text": "\n"
    },
    {
     "name": "stdout",
     "output_type": "stream",
     "text": "DEBUG    [18:23:49.946] [ 7634]  75 api.server_globals/load: load_search..."
    },
    {
     "name": "stdout",
     "output_type": "stream",
     "text": "\n"
    },
    {
     "name": "stdout",
     "output_type": "stream",
     "text": "INFO     [18:23:50.275] [ 7634]  79 api.server_globals/load: load_search (took 0.323s)"
    },
    {
     "name": "stdout",
     "output_type": "stream",
     "text": "\n"
    },
    {
     "name": "stdout",
     "output_type": "stream",
     "text": "DEBUG    [18:23:50.282] [ 7634]  75 api.server_globals/load: load_xc_meta..."
    },
    {
     "name": "stdout",
     "output_type": "stream",
     "text": "\n"
    },
    {
     "name": "stdout",
     "output_type": "stream",
     "text": "INFO     [18:23:50.736] [ 7634]  79 api.server_globals/load: load_xc_meta (took 0.448s)"
    },
    {
     "name": "stdout",
     "output_type": "stream",
     "text": "\n"
    },
    {
     "name": "stdout",
     "output_type": "stream",
     "text": "DEBUG    [18:23:50.744] [ 7634]  75 api.server_globals/load: load_feat_info..."
    },
    {
     "name": "stdout",
     "output_type": "stream",
     "text": "\n"
    },
    {
     "name": "stdout",
     "output_type": "stream",
     "text": "INFO     [18:23:50.750] [ 7634] 110 api.server_globals/load_feat_info"
    },
    {
     "name": "stdout",
     "output_type": "stream",
     "text": "\n"
    },
    {
     "name": "stdout",
     "output_type": "stream",
     "text": "INFO     [18:23:50.755] [ 7634]  79 api.server_globals/load: load_feat_info (took 0.005s)"
    },
    {
     "name": "stdout",
     "output_type": "stream",
     "text": "\n"
    },
    {
     "name": "stdout",
     "output_type": "stream",
     "text": "DEBUG    [18:23:50.762] [ 7634]  75 api.server_globals/load: load_search_recs..."
    },
    {
     "name": "stdout",
     "output_type": "stream",
     "text": "\n"
    },
    {
     "name": "stdout",
     "output_type": "stream",
     "text": "INFO     [18:23:50.768] [ 7634] 118 api.server_globals/load_search_recs"
    },
    {
     "name": "stdout",
     "output_type": "stream",
     "text": "\n"
    },
    {
     "name": "stdout",
     "output_type": "stream",
     "text": "INFO     [18:23:50.773] [ 7634] 305 api.recs/get_search_recs"
    },
    {
     "name": "stdout",
     "output_type": "stream",
     "text": "\n"
    },
    {
     "name": "stdout",
     "output_type": "stream",
     "text": "INFO     [18:23:50.785] [ 7634]  61 payloads/df_cache_hybrid: Miss: payloads/search_recs-version[1],limit[10],audio_s[10],scale[1],countries_k[na],com_names_k[ca],num_recs[None]-15dc0fc"
    },
    {
     "name": "stdout",
     "output_type": "stream",
     "text": "\n"
    },
    {
     "name": "stderr",
     "output_type": "stream",
     "text": "\rdf_cache_hybrid:compute[search_recs]:   0%|                                                      | 0/1 [00:00<?, ?it/s]"
    },
    {
     "name": "stdout",
     "output_type": "stream",
     "text": "INFO     [18:23:50.793] [ 7634] 362 api.recs/_compute_search_recs: {len(sg.xc_meta): 35233, countries_k: na, com_names_k: ca, num_recs: null}"
    },
    {
     "name": "stdout",
     "output_type": "stream",
     "text": "\n"
    },
    {
     "name": "stdout",
     "output_type": "stream",
     "text": "\rf_preds: ["
    },
    {
     "name": "stdout",
     "output_type": "stream",
     "text": "                                                                                        "
    },
    {
     "name": "stdout",
     "output_type": "stream",
     "text": "] |   0% (10) |  0.0s"
    },
    {
     "name": "stdout",
     "output_type": "stream",
     "text": "\rf_preds: ["
    },
    {
     "name": "stdout",
     "output_type": "stream",
     "text": "                                                                                        "
    },
    {
     "name": "stdout",
     "output_type": "stream",
     "text": "] |   0% (10) |  0.1s"
    },
    {
     "name": "stdout",
     "output_type": "stream",
     "text": "\rf_preds: ["
    },
    {
     "name": "stdout",
     "output_type": "stream",
     "text": "                                                                                        "
    },
    {
     "name": "stdout",
     "output_type": "stream",
     "text": "] |   0% (10) |  0.2s"
    },
    {
     "name": "stdout",
     "output_type": "stream",
     "text": "\rf_preds: ["
    },
    {
     "name": "stdout",
     "output_type": "stream",
     "text": "########################################################################################"
    },
    {
     "name": "stdout",
     "output_type": "stream",
     "text": "] | 100% (10) |  0.3s"
    },
    {
     "name": "stdout",
     "output_type": "stream",
     "text": "\n"
    },
    {
     "name": "stdout",
     "output_type": "stream",
     "text": "INFO     [18:23:52.666] [ 7634] 231 load/audio: {len(recs): 10}"
    },
    {
     "name": "stdout",
     "output_type": "stream",
     "text": "\n"
    },
    {
     "name": "stdout",
     "output_type": "stream",
     "text": "\raudio: ["
    },
    {
     "name": "stdout",
     "output_type": "stream",
     "text": "                                                                                          "
    },
    {
     "name": "stdout",
     "output_type": "stream",
     "text": "] |   0% (10) |  0.0s"
    },
    {
     "name": "stdout",
     "output_type": "stream",
     "text": "INFO     [18:23:52.689] [ 7634] 536 load/read_audio: Read: cache/audio/xc/data/GHOW/417557/audio.mp3.resample(22050,1,16).enc(wav).slice(0,10000).spectro_denoise().enc(mp4,libfdk_aac,32k)"
    },
    {
     "name": "stdout",
     "output_type": "stream",
     "text": "\n"
    },
    {
     "name": "stdout",
     "output_type": "stream",
     "text": "INFO     [18:23:52.690] [ 7634] 536 load/read_audio: Read: cache/audio/xc/data/BUSH/417549/audio.mp3.resample(22050,1,16).enc(wav).slice(0,10000).spectro_denoise().enc(mp4,libfdk_aac,32k)"
    },
    {
     "name": "stdout",
     "output_type": "stream",
     "text": "\n"
    },
    {
     "name": "stdout",
     "output_type": "stream",
     "text": "INFO     [18:23:52.692] [ 7634] 536 load/read_audio: Read: cache/audio/xc/data/TOSO/417610/audio.mp3.resample(22050,1,16).enc(wav).slice(0,10000).spectro_denoise().enc(mp4,libfdk_aac,32k)"
    },
    {
     "name": "stdout",
     "output_type": "stream",
     "text": "\n"
    },
    {
     "name": "stdout",
     "output_type": "stream",
     "text": "INFO     [18:23:52.695] [ 7634] 536 load/read_audio: Read: cache/audio/xc/data/BTYW/417728/audio.mp3.resample(22050,1,16).enc(wav).slice(0,10000).spectro_denoise().enc(mp4,libfdk_aac,32k)"
    },
    {
     "name": "stdout",
     "output_type": "stream",
     "text": "\n"
    },
    {
     "name": "stdout",
     "output_type": "stream",
     "text": "INFO     [18:23:52.693] [ 7634] 536 load/read_audio: Read: cache/audio/xc/data/SWTH/417559/audio.mp3.resample(22050,1,16).enc(wav).slice(0,10000).spectro_denoise().enc(mp4,libfdk_aac,32k)"
    },
    {
     "name": "stdout",
     "output_type": "stream",
     "text": "\n"
    },
    {
     "name": "stdout",
     "output_type": "stream",
     "text": "INFO     [18:23:52.697] [ 7634] 536 load/read_audio: Read: cache/audio/xc/data/BHCO/417729/audio.mp3.resample(22050,1,16).enc(wav).slice(0,10000).spectro_denoise().enc(mp4,libfdk_aac,32k)"
    },
    {
     "name": "stdout",
     "output_type": "stream",
     "text": "\n"
    },
    {
     "name": "stdout",
     "output_type": "stream",
     "text": "INFO     [18:23:52.698] [ 7634] 536 load/read_audio: Read: cache/audio/xc/data/GTGR/417621/audio.mp3.resample(22050,1,16).enc(wav).slice(0,10000).spectro_denoise().enc(mp4,libfdk_aac,32k)"
    },
    {
     "name": "stdout",
     "output_type": "stream",
     "text": "\n"
    },
    {
     "name": "stdout",
     "output_type": "stream",
     "text": "INFO     [18:23:52.700] [ 7634] 536 load/read_audio: Read: cache/audio/xc/data/GTGR/417620/audio.mp3.resample(22050,1,16).enc(wav).slice(0,10000).spectro_denoise().enc(mp4,libfdk_aac,32k)"
    },
    {
     "name": "stdout",
     "output_type": "stream",
     "text": "\n"
    },
    {
     "name": "stdout",
     "output_type": "stream",
     "text": "\raudio: ["
    },
    {
     "name": "stdout",
     "output_type": "stream",
     "text": "                                                                                          "
    },
    {
     "name": "stdout",
     "output_type": "stream",
     "text": "] |   0% (10) |  0.1s"
    },
    {
     "name": "stdout",
     "output_type": "stream",
     "text": "\raudio: ["
    },
    {
     "name": "stdout",
     "output_type": "stream",
     "text": "                                                                                          "
    },
    {
     "name": "stdout",
     "output_type": "stream",
     "text": "] |   0% (10) |  0.2s"
    },
    {
     "name": "stdout",
     "output_type": "stream",
     "text": "INFO     [18:23:52.938] [ 7634] 536 load/read_audio: Read: cache/audio/xc/data/HOFI/417550/audio.mp3.resample(22050,1,16).enc(wav).slice(0,10000).spectro_denoise().enc(mp4,libfdk_aac,32k)"
    },
    {
     "name": "stdout",
     "output_type": "stream",
     "text": "\n"
    },
    {
     "name": "stdout",
     "output_type": "stream",
     "text": "INFO     [18:23:52.954] [ 7634] 536 load/read_audio: Read: cache/audio/xc/data/HOSP/417551/audio.mp3.resample(22050,1,16).enc(wav).slice(0,10000).spectro_denoise().enc(mp4,libfdk_aac,32k)"
    },
    {
     "name": "stdout",
     "output_type": "stream",
     "text": "\n"
    },
    {
     "name": "stdout",
     "output_type": "stream",
     "text": "\raudio: ["
    },
    {
     "name": "stdout",
     "output_type": "stream",
     "text": "#################################################################################         "
    },
    {
     "name": "stdout",
     "output_type": "stream",
     "text": "] |  90% (10) |  0.3s"
    },
    {
     "name": "stdout",
     "output_type": "stream",
     "text": "\raudio: ["
    },
    {
     "name": "stdout",
     "output_type": "stream",
     "text": "##########################################################################################"
    },
    {
     "name": "stdout",
     "output_type": "stream",
     "text": "] | 100% (10) |  0.5s"
    },
    {
     "name": "stdout",
     "output_type": "stream",
     "text": "\n"
    },
    {
     "name": "stdout",
     "output_type": "stream",
     "text": "\rspectro: ["
    },
    {
     "name": "stdout",
     "output_type": "stream",
     "text": "                                                                                        "
    },
    {
     "name": "stdout",
     "output_type": "stream",
     "text": "] |   0% (10) |  0.0s"
    },
    {
     "name": "stdout",
     "output_type": "stream",
     "text": "\rspectro: ["
    },
    {
     "name": "stdout",
     "output_type": "stream",
     "text": "########################################################################################"
    },
    {
     "name": "stdout",
     "output_type": "stream",
     "text": "] | 100% (10) |  0.1s"
    },
    {
     "name": "stdout",
     "output_type": "stream",
     "text": "\n"
    },
    {
     "name": "stdout",
     "output_type": "stream",
     "text": "\rplot_slice: ["
    },
    {
     "name": "stdout",
     "output_type": "stream",
     "text": "                                                                                     "
    },
    {
     "name": "stdout",
     "output_type": "stream",
     "text": "] |   0% (10) |  0.0s"
    },
    {
     "name": "stdout",
     "output_type": "stream",
     "text": "\rplot_slice: ["
    },
    {
     "name": "stdout",
     "output_type": "stream",
     "text": "#####################################################################################"
    },
    {
     "name": "stdout",
     "output_type": "stream",
     "text": "] | 100% (10) |  0.1s"
    },
    {
     "name": "stdout",
     "output_type": "stream",
     "text": "\n"
    },
    {
     "name": "stderr",
     "output_type": "stream",
     "text": "\rdf_cache_hybrid:compute[search_recs]: 100%|██████████████████████████████████████████████| 1/1 [00:02<00:00,  2.75s/it]"
    },
    {
     "name": "stderr",
     "output_type": "stream",
     "text": "\n"
    },
    {
     "name": "stdout",
     "output_type": "stream",
     "text": "INFO     [18:23:53.558] [ 7634]  79 payloads/df_cache_hybrid: Miss: Inferred feat_cols['feat', 'f_preds']"
    },
    {
     "name": "stdout",
     "output_type": "stream",
     "text": "\n"
    },
    {
     "name": "stdout",
     "output_type": "stream",
     "text": "INFO     [18:23:54.041] [ 7634]  87 payloads/df_cache_hybrid: Miss: Wrote non_feats.parquet (1.3 MB)"
    },
    {
     "name": "stdout",
     "output_type": "stream",
     "text": "\n"
    },
    {
     "name": "stdout",
     "output_type": "stream",
     "text": "INFO     [18:23:54.053] [ 7634]  94 payloads/df_cache_hybrid: Miss: Wrote feat-feat.npy: float32 (60.1 kB)"
    },
    {
     "name": "stdout",
     "output_type": "stream",
     "text": "\n"
    },
    {
     "name": "stdout",
     "output_type": "stream",
     "text": "INFO     [18:23:54.061] [ 7634]  94 payloads/df_cache_hybrid: Miss: Wrote feat-f_preds.npy: float32 (13.4 kB)"
    },
    {
     "name": "stdout",
     "output_type": "stream",
     "text": "\n"
    },
    {
     "name": "stdout",
     "output_type": "stream",
     "text": "INFO     [18:23:54.068] [ 7634] 114 payloads/df_cache_hybrid: Miss: Done (took: 0.526s)"
    },
    {
     "name": "stdout",
     "output_type": "stream",
     "text": "\n"
    },
    {
     "name": "stdout",
     "output_type": "stream",
     "text": "INFO     [18:23:54.074] [ 7634]  79 api.server_globals/load: load_search_recs (took 3.306s)"
    },
    {
     "name": "stdout",
     "output_type": "stream",
     "text": "\n"
    },
    {
     "name": "stdout",
     "output_type": "stream",
     "text": "INFO     [18:23:54.082] [ 7634]  34 api.server_globals/init: done"
    },
    {
     "name": "stdout",
     "output_type": "stream",
     "text": "\n"
    }
   ],
   "source": [
    "from notebooks import *\n",
    "sg.init(None)"
   ]
  },
  {
   "cell_type": "code",
   "execution_count": null,
   "metadata": {},
   "outputs": [],
   "source": [
    "def opt(*args, **kwargs):\n",
    "    verbose_keys = ['cache', 'audio']\n",
    "    verbose(*args, **{k: v for k, v in kwargs.items() if k in verbose_keys})\n",
    "    par(**{k: v for k, v in kwargs.items() if k not in verbose_keys})\n",
    "\n",
    "def par(**kwargs):\n",
    "    \"\"\"\n",
    "    Usage:\n",
    "        par(use=None)                         # No par, no progress bars (easier to see audio read/write and cache hit/miss)\n",
    "        par(use='sync')                       # No par, cooperative progress bars (no lines printing over each other)\n",
    "        par(use='dask', scheduler='threads')  # Par, uncooperative progress bars (lines print over each other)\n",
    "    \"\"\"\n",
    "    progress_kwargs(override=kwargs)\n",
    "\n",
    "def verbose(\n",
    "    both=None,       # Shorthand, e.g. verbose('warn') = verbose(cache='warn', audio='warn')\n",
    "    *,\n",
    "    cache='debug',   # Show cache hit/miss lines # WARNING Frequent hangs during bigger xc_similar_html calls...\n",
    "    # cache='info',  # Show cache hit/miss chars # WARNING (same)\n",
    "    # cache='warn',  # Quiet\n",
    "    audio='debug',   # Show read/write\n",
    "    # audio='info',  # Show write\n",
    "    # audio='warn',  # Quiet\n",
    "):\n",
    "    if both:\n",
    "        cache = both\n",
    "        audio = both\n",
    "    memory.log.level = cache\n",
    "    log_levels({'load': audio.upper()})"
   ]
  },
  {
   "cell_type": "code",
   "execution_count": null,
   "metadata": {},
   "outputs": [
    {
     "data": {
      "text/html": "<table border=\"1\" class=\"dataframe\">\n  <thead>\n    <tr style=\"text-align: right;\">\n      <th></th>\n      <th>type</th>\n      <th>len</th>\n      <th>size</th>\n      <th>0</th>\n    </tr>\n  </thead>\n  <tbody>\n    <tr>\n      <th>xc_id</th>\n      <td><div class=\"not-number\">int</div></td>\n      <td>-1</td>\n      <td>28</td>\n      <td>417610</td>\n    </tr>\n    <tr>\n      <th>id</th>\n      <td><div class=\"not-number\">str</div></td>\n      <td>128</td>\n      <td>177</td>\n      <td><div class=\"not-number\">cache/audio/xc/data/TOSO/417610/audio.mp3.resample(22050,1,16).enc(wav).slice(0,10000).spectro_denoise().enc(mp4,libfdk_aac,32k)</div></td>\n    </tr>\n    <tr>\n      <th>audio_bytes</th>\n      <td><div class=\"not-number\">bytes</div></td>\n      <td>42401</td>\n      <td>42434</td>\n      <td><div class=\"not-number\">b'\\x00\\x00\\x00\\x1cftypisom\\x00\\x00\\x02\\x00isomiso2mp41\\x00\\x00\\x00\\x08free\\x00\\x00\\x9f\\x1dmdat\\x01@\"\\x80\\xa3} \\x85----------------------------------------------------------...</td>\n    </tr>\n    <tr>\n      <th>audio_bytes_mimetype</th>\n      <td><div class=\"not-number\">str</div></td>\n      <td>9</td>\n      <td>58</td>\n      <td><div class=\"not-number\">audio/mp4</div></td>\n    </tr>\n    <tr>\n      <th>spectro_bytes</th>\n      <td><div class=\"not-number\">bytes</div></td>\n      <td>59674</td>\n      <td>59707</td>\n      <td><div class=\"not-number\">b'\\x89PNG\\r\\n\\x1a\\n\\x00\\x00\\x00\\rIHDR\\x00\\x00\\x03`\\x00\\x00\\x00(\\x08\\x02\\x00\\x00\\x00\\x17\\x13\\x0eo\\x00\\x00\\xe8\\xe1IDATx\\x9c\\xec\\xfdw|\\xd4\\xc7\\x9d?\\x8e\\xbfff\\xabv\\xb5\\xab.\\xad...</td>\n    </tr>\n    <tr>\n      <th>feat</th>\n      <td><div class=\"not-number\">ndarray</div></td>\n      <td>1500</td>\n      <td>6000</td>\n      <td><div class=\"not-number\">[ 6.140e-02 -2.948e-02  1.953e-02 -3.798e-02  2.723e-02 -2.374e-03  5.391e-02 -5.180e-02  1.074e-01 -2.686e-02\n -1.881e-01  9.991e-02 -1.477e-02 -7.756e-02  9.021e-02 -1.45...</td>\n    </tr>\n    <tr>\n      <th>f_preds</th>\n      <td><div class=\"not-number\">ndarray</div></td>\n      <td>331</td>\n      <td>1324</td>\n      <td><div class=\"not-number\">[2.549e-03 1.458e-03 1.498e-04 1.324e-03 6.637e-04 2.818e-03 3.106e-03 1.472e-03 2.511e-03 4.366e-03 3.564e-04\n 9.183e-04 5.002e-03 9.269e-03 4.268e-03 2.612e-03 3.691e-04 ...</td>\n    </tr>\n  </tbody>\n</table>",
      "text/plain": "                         type    len   size                                                                                                                                                                                                        0\nxc_id                     int     -1     28                                                                                                                                                                                                   417610\nid                        str    128    177                                                                         cache/audio/xc/data/TOSO/417610/audio.mp3.resample(22050,1,16).enc(wav).slice(0,10000).spectro_denoise().enc(mp4,libfdk_aac,32k)\naudio_bytes             bytes  42401  42434  b'\\x00\\x00\\x00\\x1cftypisom\\x00\\x00\\x02\\x00isomiso2mp41\\x00\\x00\\x00\\x08free\\x00\\x00\\x9f\\x1dmdat\\x01@\"\\x80\\xa3} \\x85----------------------------------------------------------------------------------...\naudio_bytes_mimetype      str      9     58                                                                                                                                                                                                audio/mp4\nspectro_bytes           bytes  59674  59707  b'\\x89PNG\\r\\n\\x1a\\n\\x00\\x00\\x00\\rIHDR\\x00\\x00\\x03`\\x00\\x00\\x00(\\x08\\x02\\x00\\x00\\x00\\x17\\x13\\x0eo\\x00\\x00\\xe8\\xe1IDATx\\x9c\\xec\\xfdw|\\xd4\\xc7\\x9d?\\x8e\\xbfff\\xabv\\xb5\\xab.\\xadz\\x97\\x90\\x10B\\x14Q,z3\\x...\nfeat                  ndarray   1500   6000  [0.061403506, -0.029481066, 0.01952801, -0.037981223, 0.027227003, -0.0023738123, 0.05391393, -0.051803716, 0.10741602, -0.026860315, -0.18813689, 0.09990807, -0.014769095, -0.077562384, 0.0902056...\nf_preds               ndarray    331   1324  [0.0025490976, 0.0014581785, 0.00014983733, 0.0013239175, 0.00066372735, 0.0028184745, 0.0031057363, 0.0014720223, 0.0025107, 0.0043656128, 0.00035637402, 0.00091833324, 0.005002325, 0.009269086, ..."
     },
     "metadata": {},
     "output_type": "display_data",
     "transient": {}
    }
   ],
   "source": [
    "search_recs = sg.search_recs\n",
    "display(search_recs\n",
    "    [lambda df: [c for c in [\n",
    "        'xc_id', 'id',\n",
    "        'audio_bytes', 'audio_bytes_mimetype',\n",
    "        'spectro_bytes', 'spectro_bytes_mimetype'\n",
    "        'spectro_disp',\n",
    "        'feat', 'f_preds',\n",
    "    ] if c in df]]\n",
    "    [2:3].reset_index(drop=True).T\n",
    "    .pipe(df_assign_first,\n",
    "        type=lambda df: df[0].map(lambda x: type(x).__name__),\n",
    "        len=lambda df: df[0].map(lambda x: len(x) if hasattr(x, '__len__') else -1),\n",
    "        # size=lambda df: df.T.memory_usage(deep=True),\n",
    "        size=lambda df: df[0].map(lambda x: x.nbytes if hasattr(x, 'nbytes') else sys.getsizeof(x)),\n",
    "    )\n",
    ")"
   ]
  },
  {
   "cell_type": "code",
   "execution_count": null,
   "metadata": {},
   "outputs": [
    {
     "data": {
      "text/html": "<table border=\"1\" class=\"dataframe\">\n  <thead>\n    <tr style=\"text-align: right;\">\n      <th></th>\n      <th>0</th>\n      <th>1</th>\n      <th>2</th>\n      <th>3</th>\n      <th>4</th>\n      <th>5</th>\n      <th>6</th>\n      <th>7</th>\n      <th>8</th>\n      <th>9</th>\n    </tr>\n  </thead>\n  <tbody>\n    <tr>\n      <th>audio_bytes</th>\n      <td>42386</td>\n      <td>42404</td>\n      <td>42401</td>\n      <td>42346</td>\n      <td>42458</td>\n      <td>42325</td>\n      <td>33288</td>\n      <td>42353</td>\n      <td>42500</td>\n      <td>42384</td>\n    </tr>\n    <tr>\n      <th>spectro_bytes</th>\n      <td>52931</td>\n      <td>48898</td>\n      <td>59674</td>\n      <td>51585</td>\n      <td>47231</td>\n      <td>42053</td>\n      <td>39583</td>\n      <td>51961</td>\n      <td>43530</td>\n      <td>48252</td>\n    </tr>\n    <tr>\n      <th>feat</th>\n      <td>6000</td>\n      <td>6000</td>\n      <td>6000</td>\n      <td>6000</td>\n      <td>6000</td>\n      <td>6000</td>\n      <td>6000</td>\n      <td>6000</td>\n      <td>6000</td>\n      <td>6000</td>\n    </tr>\n    <tr>\n      <th>f_preds</th>\n      <td>1324</td>\n      <td>1324</td>\n      <td>1324</td>\n      <td>1324</td>\n      <td>1324</td>\n      <td>1324</td>\n      <td>1324</td>\n      <td>1324</td>\n      <td>1324</td>\n      <td>1324</td>\n    </tr>\n  </tbody>\n</table>",
      "text/plain": "                   0      1      2      3      4      5      6      7      8      9\naudio_bytes    42386  42404  42401  42346  42458  42325  33288  42353  42500  42384\nspectro_bytes  52931  48898  59674  51585  47231  42053  39583  51961  43530  48252\nfeat            6000   6000   6000   6000   6000   6000   6000   6000   6000   6000\nf_preds         1324   1324   1324   1324   1324   1324   1324   1324   1324   1324"
     },
     "execution_count": 4,
     "metadata": {},
     "output_type": "execute_result"
    }
   ],
   "source": [
    "(search_recs\n",
    "    .pipe(df_col_map,\n",
    "        audio_bytes=len,\n",
    "        spectro_bytes=len,\n",
    "        feat=lambda x: x.nbytes,\n",
    "        f_preds=lambda x: x.nbytes,\n",
    "    )\n",
    "    [['audio_bytes', 'spectro_bytes', 'feat', 'f_preds']]\n",
    "    .T\n",
    ")"
   ]
  },
  {
   "cell_type": "code",
   "execution_count": null,
   "metadata": {},
   "outputs": [],
   "source": []
  }
 ],
 "metadata": {
  "kernelspec": {
   "display_name": "bubo-features (PYTHONSTARTUP)",
   "language": "python",
   "name": "bubo-features (PYTHONSTARTUP)"
  }
 },
 "nbformat": 4,
 "nbformat_minor": 2
}
