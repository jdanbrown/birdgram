{
 "cells": [
  {
   "cell_type": "code",
   "execution_count": null,
   "metadata": {},
   "outputs": [],
   "source": [
    "from notebooks import *\n",
    "sg.init(None, skip=[sg_load.load_search_recs])"
   ]
  },
  {
   "cell_type": "code",
   "execution_count": null,
   "metadata": {},
   "outputs": [
    {
     "name": "stdout",
     "output_type": "stream",
     "text": "INFO     [13:54:59.134] [58604] 314 api.recs/get_search_recs"
    },
    {
     "name": "stdout",
     "output_type": "stream",
     "text": "\n"
    },
    {
     "name": "stdout",
     "output_type": "stream",
     "text": "INFO     [13:54:59.146] [58604]  61 payloads/df_cache_hybrid: Miss: payloads/search_recs-version[0],audio_s[10],limit[10],countries_k[na],com_names_k[ca],num_recs[None]-952c6bf"
    },
    {
     "name": "stdout",
     "output_type": "stream",
     "text": "\n"
    },
    {
     "name": "stderr",
     "output_type": "stream",
     "text": "\rdf_cache_hybrid:compute[search_recs]:   0%|                                                      | 0/1 [00:00<?, ?it/s]"
    },
    {
     "name": "stdout",
     "output_type": "stream",
     "text": "INFO     [13:54:59.155] [58604] 371 api.recs/_compute_search_recs: {len(sg.xc_meta): 35233, countries_k: na, com_names_k: ca, num_recs: null}"
    },
    {
     "name": "stdout",
     "output_type": "stream",
     "text": "\n"
    },
    {
     "name": "stdout",
     "output_type": "stream",
     "text": "\rf_preds: ["
    },
    {
     "name": "stdout",
     "output_type": "stream",
     "text": "                                                                                        "
    },
    {
     "name": "stdout",
     "output_type": "stream",
     "text": "] |   0% (10) |  0.0s"
    },
    {
     "name": "stdout",
     "output_type": "stream",
     "text": "\rf_preds: ["
    },
    {
     "name": "stdout",
     "output_type": "stream",
     "text": "                                                                                        "
    },
    {
     "name": "stdout",
     "output_type": "stream",
     "text": "] |   0% (10) |  0.1s"
    },
    {
     "name": "stdout",
     "output_type": "stream",
     "text": "\rf_preds: ["
    },
    {
     "name": "stdout",
     "output_type": "stream",
     "text": "                                                                                        "
    },
    {
     "name": "stdout",
     "output_type": "stream",
     "text": "] |   0% (10) |  0.2s"
    },
    {
     "name": "stdout",
     "output_type": "stream",
     "text": "\rf_preds: ["
    },
    {
     "name": "stdout",
     "output_type": "stream",
     "text": "########################################################################################"
    },
    {
     "name": "stdout",
     "output_type": "stream",
     "text": "] | 100% (10) |  0.3s"
    },
    {
     "name": "stdout",
     "output_type": "stream",
     "text": "\n"
    },
    {
     "name": "stderr",
     "output_type": "stream",
     "text": "\rdf_cache_hybrid:compute[search_recs]: 100%|██████████████████████████████████████████████| 1/1 [00:00<00:00,  2.49it/s]"
    },
    {
     "name": "stderr",
     "output_type": "stream",
     "text": "\n"
    },
    {
     "name": "stdout",
     "output_type": "stream",
     "text": "INFO     [13:54:59.572] [58604]  79 payloads/df_cache_hybrid: Miss: Inferred feat_cols['feat', 'f_preds']"
    },
    {
     "name": "stdout",
     "output_type": "stream",
     "text": "\n"
    },
    {
     "name": "stdout",
     "output_type": "stream",
     "text": "INFO     [13:54:59.626] [58604]  87 payloads/df_cache_hybrid: Miss: Wrote non_feats.parquet (32.0 kB)"
    },
    {
     "name": "stdout",
     "output_type": "stream",
     "text": "\n"
    },
    {
     "name": "stdout",
     "output_type": "stream",
     "text": "INFO     [13:54:59.634] [58604]  94 payloads/df_cache_hybrid: Miss: Wrote feat-feat.npy: float32 (60.1 kB)"
    },
    {
     "name": "stdout",
     "output_type": "stream",
     "text": "\n"
    },
    {
     "name": "stdout",
     "output_type": "stream",
     "text": "INFO     [13:54:59.642] [58604]  94 payloads/df_cache_hybrid: Miss: Wrote feat-f_preds.npy: float32 (13.4 kB)"
    },
    {
     "name": "stdout",
     "output_type": "stream",
     "text": "\n"
    },
    {
     "name": "stdout",
     "output_type": "stream",
     "text": "INFO     [13:54:59.649] [58604] 114 payloads/df_cache_hybrid: Miss: Done (took: 0.092s)"
    },
    {
     "name": "stdout",
     "output_type": "stream",
     "text": "\n"
    },
    {
     "data": {
      "text/html": "<table border=\"1\" class=\"dataframe\">\n  <thead>\n    <tr style=\"text-align: right;\">\n      <th></th>\n      <th>type</th>\n      <th>len</th>\n      <th>size</th>\n      <th>0</th>\n    </tr>\n  </thead>\n  <tbody>\n    <tr>\n      <th>xc_id</th>\n      <td><div class=\"not-number\">int</div></td>\n      <td>-1</td>\n      <td>132</td>\n      <td>417610</td>\n    </tr>\n    <tr>\n      <th>id</th>\n      <td><div class=\"not-number\">str</div></td>\n      <td>128</td>\n      <td>281</td>\n      <td><div class=\"not-number\">cache/audio/xc/data/TOSO/417610/audio.mp3.resample(22050,1,16).enc(wav).slice(0,10000).spectro_denoise().enc(mp4,libfdk_aac,32k)</div></td>\n    </tr>\n    <tr>\n      <th>feat</th>\n      <td><div class=\"not-number\">ndarray</div></td>\n      <td>1500</td>\n      <td>6204</td>\n      <td><div class=\"not-number\">[ 6.140e-02 -2.948e-02  1.953e-02 -3.798e-02  2.723e-02 -2.374e-03  5.391e-02 -5.180e-02  1.074e-01 -2.686e-02\n -1.881e-01  9.991e-02 -1.477e-02 -7.756e-02  9.021e-02 -1.45...</td>\n    </tr>\n    <tr>\n      <th>f_preds</th>\n      <td><div class=\"not-number\">ndarray</div></td>\n      <td>331</td>\n      <td>204</td>\n      <td><div class=\"not-number\">[2.549e-03 1.458e-03 1.498e-04 1.324e-03 6.637e-04 2.818e-03 3.106e-03 1.472e-03 2.511e-03 4.366e-03 3.564e-04\n 9.183e-04 5.002e-03 9.269e-03 4.268e-03 2.612e-03 3.691e-04 ...</td>\n    </tr>\n  </tbody>\n</table>",
      "text/plain": "            type   len  size                                                                                                                                                                                                        0\nxc_id        int    -1   132                                                                                                                                                                                                   417610\nid           str   128   281                                                                         cache/audio/xc/data/TOSO/417610/audio.mp3.resample(22050,1,16).enc(wav).slice(0,10000).spectro_denoise().enc(mp4,libfdk_aac,32k)\nfeat     ndarray  1500  6204  [0.061403506, -0.029481066, 0.01952801, -0.037981223, 0.027227003, -0.0023738123, 0.05391393, -0.051803716, 0.10741602, -0.026860315, -0.18813689, 0.09990807, -0.014769095, -0.077562384, 0.0902056...\nf_preds  ndarray   331   204  [0.0025490976, 0.0014581785, 0.00014983733, 0.0013239175, 0.00066372735, 0.0028184745, 0.0031057363, 0.0014720223, 0.0025107, 0.0043656128, 0.00035637402, 0.00091833324, 0.005002325, 0.009269086, ..."
     },
     "metadata": {},
     "output_type": "display_data",
     "transient": {}
    }
   ],
   "source": [
    "get_search_recs.cache_clear()  # Clear @lru_cache\n",
    "search_recs = get_search_recs(\n",
    "    refresh=True,\n",
    ")\n",
    "display(search_recs\n",
    "    [lambda df: [c for c in [\n",
    "        'xc_id', 'id',\n",
    "        'audio', 'spectro',  # TODO\n",
    "        'feat', 'f_preds',\n",
    "    ] if c in df]]\n",
    "    [2:3].reset_index(drop=True).T\n",
    "    .pipe(df_assign_first,\n",
    "        type=lambda df: df[0].map(lambda x: type(x).__name__),\n",
    "        len=lambda df: df[0].map(lambda x: len(x) if hasattr(x, '__len__') else -1),\n",
    "        size=lambda df: df.T.memory_usage(deep=True),\n",
    "    )\n",
    ")\n"
   ]
  },
  {
   "cell_type": "code",
   "execution_count": null,
   "metadata": {},
   "outputs": [],
   "source": []
  }
 ],
 "metadata": {
  "kernelspec": {
   "display_name": "bubo-features (PYTHONSTARTUP)",
   "language": "python",
   "name": "bubo-features (PYTHONSTARTUP)"
  }
 },
 "nbformat": 4,
 "nbformat_minor": 2
}
