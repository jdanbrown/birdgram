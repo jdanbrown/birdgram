{
 "cells": [
  {
   "cell_type": "code",
   "execution_count": null,
   "metadata": {},
   "outputs": [
    {
     "name": "stdout",
     "output_type": "stream",
     "text": "The autoreload extension is already loaded. To reload it, use:\n  %reload_ext autoreload\n"
    },
    {
     "name": "stdout",
     "output_type": "stream",
     "text": "The potoo.default_magic_magic extension is already loaded. To reload it, use:\n  %reload_ext potoo.default_magic_magic\nplatform:\n  machine: x86_64\n  node: Dan-B.local\n  processor: i386\n  release: 15.6.0\n  system: Darwin\n  version: 'Darwin Kernel Version 15.6.0: Thu Jun 23 18:25:34 PDT 2016; root:xnu-3248.60.10~1/RELEASE_X86_64'\ncpu: 8\nmem: 16g\nswap: 19g\n"
    }
   ],
   "source": [
    "from notebooks import *\n",
    "print_sys_info()"
   ]
  },
  {
   "cell_type": "code",
   "execution_count": null,
   "metadata": {},
   "outputs": [
    {
     "name": "stdout",
     "output_type": "stream",
     "text": "[02:16:29.939] DEBUG  Projection.load\n  path: /Users/danb/hack/bubo/features/data/models/projection/peterson-v0-26bae1c.pkl\n"
    }
   ],
   "source": [
    "# Load models\n",
    "load = Load()\n",
    "projection = Projection.load('peterson-v0-26bae1c', features=Features(load=load))"
   ]
  },
  {
   "cell_type": "code",
   "execution_count": null,
   "metadata": {
    "time": "4.453s"
   },
   "outputs": [
    {
     "name": "stdout",
     "output_type": "stream",
     "text": "all              9442/399859 (sp/recs)\ncountries         1148/59713 (sp/recs)\ncom_names          334/35236 (sp/recs)\n(downloaded)       334/35232 (sp/recs)\nrecs_at_least      296/34846 (sp/recs)\nnum_species        168/19640 (sp/recs)\n"
    },
    {
     "name": "stdout",
     "output_type": "stream",
     "text": "num_recs            168/3360 (sp/recs)\nrecs ≥ 2            168/3360 (sp/recs)\n"
    },
    {
     "data": {
      "text/plain": "'sp[168], recs[3360]'"
     },
     "metadata": {},
     "output_type": "display_data",
     "transient": {}
    },
    {
     "data": {
      "text/html": "<table border=\"1\" class=\"dataframe\">\n  <thead>\n    <tr style=\"text-align: right;\">\n      <th></th>\n      <th></th>\n      <th></th>\n      <th></th>\n      <th></th>\n      <th></th>\n      <th></th>\n      <th></th>\n      <th>min</th>\n      <th>25%</th>\n      <th>50%</th>\n      <th>75%</th>\n      <th>max</th>\n    </tr>\n    <tr>\n      <th></th>\n      <th>dtype</th>\n      <th>sizeof</th>\n      <th>len</th>\n      <th>count</th>\n      <th>nunique</th>\n      <th>mean</th>\n      <th>std</th>\n      <th></th>\n      <th></th>\n      <th></th>\n      <th></th>\n      <th></th>\n    </tr>\n  </thead>\n  <tbody>\n    <tr>\n      <th>downloaded</th>\n      <th>bool</th>\n      <th>94080</th>\n      <th>3360</th>\n      <th>3360</th>\n      <th>1</th>\n      <th>NaN</th>\n      <th>NaN</th>\n      <td><div class=\"not-number\">True</div></td>\n      <td><div class=\"not-number\">True</div></td>\n      <td><div class=\"not-number\">True</div></td>\n      <td><div class=\"not-number\">True</div></td>\n      <td><div class=\"not-number\">True</div></td>\n    </tr>\n    <tr>\n      <th>species</th>\n      <th>category</th>\n      <th>178080</th>\n      <th>3360</th>\n      <th>3360</th>\n      <th>168</th>\n      <th>NaN</th>\n      <th>NaN</th>\n      <td><div class=\"not-number\">GWFG</div></td>\n      <td><div class=\"not-number\">GBTE</div></td>\n      <td><div class=\"not-number\">REVI</div></td>\n      <td><div class=\"not-number\">NOWA</div></td>\n      <td><div class=\"not-number\">AMGO</div></td>\n    </tr>\n    <tr>\n      <th>id</th>\n      <th>int64</th>\n      <th>94080</th>\n      <th>3360</th>\n      <th>3360</th>\n      <th>3360</th>\n      <th>213283.439</th>\n      <th>108055.964</th>\n      <td>1133</td>\n      <td>138144</td>\n      <td>193564</td>\n      <td>308285</td>\n      <td>416744</td>\n    </tr>\n    <tr>\n      <th>sci_name</th>\n      <th>category</th>\n      <th>227200</th>\n      <th>3360</th>\n      <th>3360</th>\n      <th>168</th>\n      <th>NaN</th>\n      <th>NaN</th>\n      <td><div class=\"not-number\">Anser albifrons</div></td>\n      <td><div class=\"not-number\">Gelochelidon nilotica</div></td>\n      <td><div class=\"not-number\">Vireo olivaceus</div></td>\n      <td><div class=\"not-number\">Parkesia noveboracensis</div></td>\n      <td><div class=\"not-number\">Spinus tristis</div></td>\n    </tr>\n    <tr>\n      <th>com_name</th>\n      <th>category</th>\n      <th>220320</th>\n      <th>3360</th>\n      <th>3360</th>\n      <th>168</th>\n      <th>NaN</th>\n      <th>NaN</th>\n      <td><div class=\"not-number\">Greater White-fronted Goose</div></td>\n      <td><div class=\"not-number\">Gull-billed Tern</div></td>\n      <td><div class=\"not-number\">Red-eyed Vireo</div></td>\n      <td><div class=\"not-number\">Northern Waterthrush</div></td>\n      <td><div class=\"not-number\">American Goldfinch</div></td>\n    </tr>\n    <tr>\n      <th>subspecies</th>\n      <th>object</th>\n      <th>169603</th>\n      <th>3360</th>\n      <th>3360</th>\n      <th>205</th>\n      <th>NaN</th>\n      <th>NaN</th>\n      <td><div class=\"not-number\"></div></td>\n      <td><div class=\"not-number\"></div></td>\n      <td><div class=\"not-number\"></div></td>\n      <td><div class=\"not-number\"></div></td>\n      <td><div class=\"not-number\">zaboria</div></td>\n    </tr>\n    <tr>\n      <th>recordist</th>\n      <th>object</th>\n      <th>211728</th>\n      <th>3360</th>\n      <th>3360</th>\n      <th>291</th>\n      <th>NaN</th>\n      <th>NaN</th>\n      <td><div class=\"not-number\">AJ Knue</div></td>\n      <td><div class=\"not-number\">Frank Lambert</div></td>\n      <td><div class=\"not-number\">Matthias Feuersenger</div></td>\n      <td><div class=\"not-number\">Peter Boesman</div></td>\n      <td><div class=\"not-number\">tetiaroa</div></td>\n    </tr>\n    <tr>\n      <th>country</th>\n      <th>object</th>\n      <th>203063</th>\n      <th>3360</th>\n      <th>3360</th>\n      <th>3</th>\n      <th>NaN</th>\n      <th>NaN</th>\n      <td><div class=\"not-number\">Canada</div></td>\n      <td><div class=\"not-number\">United States</div></td>\n      <td><div class=\"not-number\">United States</div></td>\n      <td><div class=\"not-number\">United States</div></td>\n      <td><div class=\"not-number\">United States</div></td>\n    </tr>\n    <tr>\n      <th>locality</th>\n      <th>object</th>\n      <th>316516</th>\n      <th>3360</th>\n      <th>3360</th>\n      <th>1740</th>\n      <th>NaN</th>\n      <th>NaN</th>\n      <td><div class=\"not-number\"> Bahía la Ventosa, Salina Cruz, Oaxaca</div></td>\n      <td><div class=\"not-number\">Desert Beeline Highway, Maricopa County, Arizona</div></td>\n      <td><div class=\"not-number\">May Lake, Yosemite NP, California</div></td>\n      <td><div class=\"not-number\">Sabine Nature Trail loop, Cameron Parish, Louisiana</div></td>\n      <td><div class=\"not-number\">west of Thorp, WA</div></td>\n    </tr>\n    <tr>\n      <th>lat</th>\n      <th>float64</th>\n      <th>80640</th>\n      <th>3360</th>\n      <th>3308</th>\n      <th>1768</th>\n      <th>37.885</th>\n      <th>9.895</th>\n      <td>15.6</td>\n      <td>31.9</td>\n      <td>35.8</td>\n      <td>43.8</td>\n      <td>71.3</td>\n    </tr>\n    <tr>\n      <th>lng</th>\n      <th>float64</th>\n      <th>80640</th>\n      <th>3360</th>\n      <th>3308</th>\n      <th>1782</th>\n      <th>-107.691</th>\n      <th>19.351</th>\n      <td>-177</td>\n      <td>-118</td>\n      <td>-110</td>\n      <td>-95</td>\n      <td>-54</td>\n    </tr>\n    <tr>\n      <th>type</th>\n      <th>object</th>\n      <th>191561</th>\n      <th>3360</th>\n      <th>3360</th>\n      <th>339</th>\n      <th>NaN</th>\n      <th>NaN</th>\n      <td><div class=\"not-number\">\"chekurrrrrr\" call</div></td>\n      <td><div class=\"not-number\">call</div></td>\n      <td><div class=\"not-number\">call, male</div></td>\n      <td><div class=\"not-number\">song</div></td>\n      <td><div class=\"not-number\">wipe-out</div></td>\n    </tr>\n    <tr>\n      <th>quality</th>\n      <th>category</th>\n      <th>194711</th>\n      <th>3360</th>\n      <th>3360</th>\n      <th>6</th>\n      <th>NaN</th>\n      <th>NaN</th>\n      <td><div class=\"not-number\">A</div></td>\n      <td><div class=\"not-number\">A</div></td>\n      <td><div class=\"not-number\">B</div></td>\n      <td><div class=\"not-number\">B</div></td>\n      <td><div class=\"not-number\">no score</div></td>\n    </tr>\n    <tr>\n      <th>date</th>\n      <th>datetime64[ns]</th>\n      <th>430080</th>\n      <th>3360</th>\n      <th>3360</th>\n      <th>1569</th>\n      <th>NaN</th>\n      <th>NaN</th>\n      <td><div class=\"not-number\">1985-06-25 00:00:00</div></td>\n      <td><div class=\"not-number\">2011-09-28 00:00:00</div></td>\n      <td><div class=\"not-number\">2013-09-18 00:00:00</div></td>\n      <td><div class=\"not-number\">2015-06-12 00:00:00</div></td>\n      <td><div class=\"not-number\">2018-05-23 00:00:00</div></td>\n    </tr>\n    <tr>\n      <th>time</th>\n      <th>object</th>\n      <th>180924</th>\n      <th>3360</th>\n      <th>3360</th>\n      <th>896</th>\n      <th>NaN</th>\n      <th>NaN</th>\n      <td><div class=\"not-number\"> ?</div></td>\n      <td><div class=\"not-number\">0820</div></td>\n      <td><div class=\"not-number\">10:00am</div></td>\n      <td><div class=\"not-number\">1513</div></td>\n      <td><div class=\"not-number\">am</div></td>\n    </tr>\n    <tr>\n      <th>license_type</th>\n      <th>category</th>\n      <th>191388</th>\n      <th>3360</th>\n      <th>3360</th>\n      <th>3</th>\n      <th>NaN</th>\n      <th>NaN</th>\n      <td><div class=\"not-number\">by-nc-nd</div></td>\n      <td><div class=\"not-number\">by-nc-nd</div></td>\n      <td><div class=\"not-number\">by-nc-sa</div></td>\n      <td><div class=\"not-number\">by-nc-sa</div></td>\n      <td><div class=\"not-number\">by-sa</div></td>\n    </tr>\n    <tr>\n      <th>license_detail</th>\n      <th>category</th>\n      <th>174720</th>\n      <th>3360</th>\n      <th>3360</th>\n      <th>3</th>\n      <th>NaN</th>\n      <th>NaN</th>\n      <td><div class=\"not-number\">2.5</div></td>\n      <td><div class=\"not-number\">3.0</div></td>\n      <td><div class=\"not-number\">4.0</div></td>\n      <td><div class=\"not-number\">4.0</div></td>\n      <td><div class=\"not-number\">4.0</div></td>\n    </tr>\n    <tr>\n      <th>license</th>\n      <th>object</th>\n      <th>312348</th>\n      <th>3360</th>\n      <th>3360</th>\n      <th>7</th>\n      <th>NaN</th>\n      <th>NaN</th>\n      <td><div class=\"not-number\">//creativecommons.org/licenses/by-nc-nd/2.5/</div></td>\n      <td><div class=\"not-number\">//creativecommons.org/licenses/by-nc-nd/4.0/</div></td>\n      <td><div class=\"not-number\">//creativecommons.org/licenses/by-nc-sa/4.0/</div></td>\n      <td><div class=\"not-number\">//creativecommons.org/licenses/by-nc-sa/4.0/</div></td>\n      <td><div class=\"not-number\">//creativecommons.org/licenses/by-sa/4.0/</div></td>\n    </tr>\n    <tr>\n      <th>url</th>\n      <th>object</th>\n      <th>275034</th>\n      <th>3360</th>\n      <th>3360</th>\n      <th>3360</th>\n      <th>NaN</th>\n      <th>NaN</th>\n      <td><div class=\"not-number\">https://www.xeno-canto.org/100121</div></td>\n      <td><div class=\"not-number\">https://www.xeno-canto.org/160005</div></td>\n      <td><div class=\"not-number\">https://www.xeno-canto.org/236694</div></td>\n      <td><div class=\"not-number\">https://www.xeno-canto.org/34583</div></td>\n      <td><div class=\"not-number\">https://www.xeno-canto.org/99812</div></td>\n    </tr>\n    <tr>\n      <th>download</th>\n      <th>object</th>\n      <th>285114</th>\n      <th>3360</th>\n      <th>3360</th>\n      <th>3360</th>\n      <th>NaN</th>\n      <th>NaN</th>\n      <td><div class=\"not-number\">//www.xeno-canto.org/100121/download</div></td>\n      <td><div class=\"not-number\">//www.xeno-canto.org/160005/download</div></td>\n      <td><div class=\"not-number\">//www.xeno-canto.org/236694/download</div></td>\n      <td><div class=\"not-number\">//www.xeno-canto.org/34583/download</div></td>\n      <td><div class=\"not-number\">//www.xeno-canto.org/99812/download</div></td>\n    </tr>\n  </tbody>\n</table>",
      "text/plain": "                                                                                                                         min                                               25%                                           50%                                                  75%                                        max\n               dtype          sizeof len  count nunique mean        std                                                                                                                                                                                                                                                     \ndownloaded     bool           94080  3360 3360  1       NaN         NaN                                                 True                                              True                                          True                                                 True                                       True\nspecies        category       178080 3360 3360  168     NaN         NaN                                                 GWFG                                              GBTE                                          REVI                                                 NOWA                                       AMGO\nid             int64          94080  3360 3360  3360     213283.439 108055.964                                          1133                                            138144                                        193564                                               308285                                     416744\nsci_name       category       227200 3360 3360  168     NaN         NaN                                      Anser albifrons                             Gelochelidon nilotica                               Vireo olivaceus                              Parkesia noveboracensis                             Spinus tristis\ncom_name       category       220320 3360 3360  168     NaN         NaN                          Greater White-fronted Goose                                  Gull-billed Tern                                Red-eyed Vireo                                 Northern Waterthrush                         American Goldfinch\nsubspecies     object         169603 3360 3360  205     NaN         NaN                                                                                                                                                                                                                                              zaboria\nrecordist      object         211728 3360 3360  291     NaN         NaN                                              AJ Knue                                     Frank Lambert                          Matthias Feuersenger                                        Peter Boesman                                   tetiaroa\ncountry        object         203063 3360 3360  3       NaN         NaN                                               Canada                                     United States                                 United States                                        United States                              United States\nlocality       object         316516 3360 3360  1740    NaN         NaN                Bahía la Ventosa, Salina Cruz, Oaxaca  Desert Beeline Highway, Maricopa County, Arizona             May Lake, Yosemite NP, California  Sabine Nature Trail loop, Cameron Parish, Louisiana                          west of Thorp, WA\nlat            float64        80640  3360 3308  1768     37.885     9.895                                               15.6                                              31.9                                          35.8                                                 43.8                                       71.3\nlng            float64        80640  3360 3308  1782    -107.691    19.351                                              -177                                              -118                                          -110                                                  -95                                        -54\ntype           object         191561 3360 3360  339     NaN         NaN                                   \"chekurrrrrr\" call                                              call                                    call, male                                                 song                                   wipe-out\nquality        category       194711 3360 3360  6       NaN         NaN                                                    A                                                 A                                             B                                                    B                                   no score\ndate           datetime64[ns] 430080 3360 3360  1569    NaN         NaN                                  1985-06-25 00:00:00                               2011-09-28 00:00:00                           2013-09-18 00:00:00                                  2015-06-12 00:00:00                        2018-05-23 00:00:00\ntime           object         180924 3360 3360  896     NaN         NaN                                                    ?                                              0820                                       10:00am                                                 1513                                         am\nlicense_type   category       191388 3360 3360  3       NaN         NaN                                             by-nc-nd                                          by-nc-nd                                      by-nc-sa                                             by-nc-sa                                      by-sa\nlicense_detail category       174720 3360 3360  3       NaN         NaN                                                  2.5                                               3.0                                           4.0                                                  4.0                                        4.0\nlicense        object         312348 3360 3360  7       NaN         NaN         //creativecommons.org/licenses/by-nc-nd/2.5/      //creativecommons.org/licenses/by-nc-nd/4.0/  //creativecommons.org/licenses/by-nc-sa/4.0/         //creativecommons.org/licenses/by-nc-sa/4.0/  //creativecommons.org/licenses/by-sa/4.0/\nurl            object         275034 3360 3360  3360    NaN         NaN                    https://www.xeno-canto.org/100121                 https://www.xeno-canto.org/160005             https://www.xeno-canto.org/236694                     https://www.xeno-canto.org/34583           https://www.xeno-canto.org/99812\ndownload       object         285114 3360 3360  3360    NaN         NaN                 //www.xeno-canto.org/100121/download              //www.xeno-canto.org/160005/download          //www.xeno-canto.org/236694/download                  //www.xeno-canto.org/34583/download        //www.xeno-canto.org/99812/download"
     },
     "metadata": {},
     "output_type": "display_data",
     "transient": {}
    },
    {
     "data": {
      "text/html": "<table border=\"1\" class=\"dataframe\">\n  <thead>\n    <tr style=\"text-align: right;\">\n      <th></th>\n      <th></th>\n      <th>downloaded</th>\n      <th>species</th>\n      <th>id</th>\n      <th>sci_name</th>\n      <th>com_name</th>\n      <th>subspecies</th>\n      <th>recordist</th>\n      <th>country</th>\n      <th>locality</th>\n      <th>lat</th>\n      <th>lng</th>\n      <th>type</th>\n      <th>quality</th>\n      <th>date</th>\n      <th>time</th>\n      <th>license_type</th>\n      <th>license_detail</th>\n      <th>license</th>\n      <th>url</th>\n      <th>download</th>\n    </tr>\n    <tr>\n      <th>species</th>\n      <th></th>\n      <th></th>\n      <th></th>\n      <th></th>\n      <th></th>\n      <th></th>\n      <th></th>\n      <th></th>\n      <th></th>\n      <th></th>\n      <th></th>\n      <th></th>\n      <th></th>\n      <th></th>\n      <th></th>\n      <th></th>\n      <th></th>\n      <th></th>\n      <th></th>\n      <th></th>\n      <th></th>\n    </tr>\n  </thead>\n  <tbody>\n    <tr>\n      <th>COGA</th>\n      <th>205189</th>\n      <td><div class=\"not-number\">True</div></td>\n      <td><div class=\"not-number\">COGA</div></td>\n      <td>207451</td>\n      <td><div class=\"not-number\">Gallinula galeata</div></td>\n      <td><div class=\"not-number\">Common Gallinule</div></td>\n      <td><div class=\"not-number\">sandvicensis</div></td>\n      <td><div class=\"not-number\">Ross Gallardy</div></td>\n      <td><div class=\"not-number\">United States</div></td>\n      <td><div class=\"not-number\">Kailua, Honolulu County, Hawaii</div></td>\n      <td>21.4</td>\n      <td>-158.0</td>\n      <td><div class=\"not-number\">call</div></td>\n      <td><div class=\"not-number\">B</div></td>\n      <td><div class=\"not-number\">2014-12-21 00:00:00</div></td>\n      <td><div class=\"not-number\">07:30</div></td>\n      <td><div class=\"not-number\">by-nc-sa</div></td>\n      <td><div class=\"not-number\">4.0</div></td>\n      <td><div class=\"not-number\">//creativecommons.org/licenses/by-nc-sa/4.0/</div></td>\n      <td><div class=\"not-number\">https://www.xeno-canto.org/207451</div></td>\n      <td><div class=\"not-number\">//www.xeno-canto.org/207451/download</div></td>\n    </tr>\n    <tr>\n      <th>INDO</th>\n      <th>18832</th>\n      <td><div class=\"not-number\">True</div></td>\n      <td><div class=\"not-number\">INDO</div></td>\n      <td>398616</td>\n      <td><div class=\"not-number\">Columbina inca</div></td>\n      <td><div class=\"not-number\">Inca Dove</div></td>\n      <td><div class=\"not-number\"></div></td>\n      <td><div class=\"not-number\">Manuel Grosselet</div></td>\n      <td><div class=\"not-number\">Mexico</div></td>\n      <td><div class=\"not-number\">Lomas de Bezares Miguel Hidalgo Mexico city</div></td>\n      <td>19.4</td>\n      <td>-99.2</td>\n      <td><div class=\"not-number\">song</div></td>\n      <td><div class=\"not-number\">B</div></td>\n      <td><div class=\"not-number\">2018-01-07 00:00:00</div></td>\n      <td><div class=\"not-number\">08:00</div></td>\n      <td><div class=\"not-number\">by-nc-sa</div></td>\n      <td><div class=\"not-number\">4.0</div></td>\n      <td><div class=\"not-number\">//creativecommons.org/licenses/by-nc-sa/4.0/</div></td>\n      <td><div class=\"not-number\">https://www.xeno-canto.org/398616</div></td>\n      <td><div class=\"not-number\">//www.xeno-canto.org/398616/download</div></td>\n    </tr>\n    <tr>\n      <th>EWPW</th>\n      <th>223194</th>\n      <td><div class=\"not-number\">True</div></td>\n      <td><div class=\"not-number\">EWPW</div></td>\n      <td>188611</td>\n      <td><div class=\"not-number\">Antrostomus vociferus</div></td>\n      <td><div class=\"not-number\">Eastern Whip-poor-will</div></td>\n      <td><div class=\"not-number\"></div></td>\n      <td><div class=\"not-number\">David Jonas Weber</div></td>\n      <td><div class=\"not-number\">United States</div></td>\n      <td><div class=\"not-number\">Gravelly Hill Rd., Salem County, New Jersey</div></td>\n      <td>39.5</td>\n      <td>-75.4</td>\n      <td><div class=\"not-number\">song</div></td>\n      <td><div class=\"not-number\">C</div></td>\n      <td><div class=\"not-number\">2014-07-25 00:00:00</div></td>\n      <td><div class=\"not-number\">05:30</div></td>\n      <td><div class=\"not-number\">by-nc-sa</div></td>\n      <td><div class=\"not-number\">4.0</div></td>\n      <td><div class=\"not-number\">//creativecommons.org/licenses/by-nc-sa/4.0/</div></td>\n      <td><div class=\"not-number\">https://www.xeno-canto.org/188611</div></td>\n      <td><div class=\"not-number\">//www.xeno-canto.org/188611/download</div></td>\n    </tr>\n    <tr>\n      <th>NUWO</th>\n      <th>113835</th>\n      <td><div class=\"not-number\">True</div></td>\n      <td><div class=\"not-number\">NUWO</div></td>\n      <td>301366</td>\n      <td><div class=\"not-number\">Picoides nuttallii</div></td>\n      <td><div class=\"not-number\">Nuttall's Woodpecker</div></td>\n      <td><div class=\"not-number\"></div></td>\n      <td><div class=\"not-number\">Denise Wight</div></td>\n      <td><div class=\"not-number\">United States</div></td>\n      <td><div class=\"not-number\">Moraga, Contra Costa County, California</div></td>\n      <td>37.8</td>\n      <td>-122.0</td>\n      <td><div class=\"not-number\">Hawk mobbing call, alarm call</div></td>\n      <td><div class=\"not-number\">C</div></td>\n      <td><div class=\"not-number\">2016-01-25 00:00:00</div></td>\n      <td><div class=\"not-number\">10:00</div></td>\n      <td><div class=\"not-number\">by-nc-sa</div></td>\n      <td><div class=\"not-number\">4.0</div></td>\n      <td><div class=\"not-number\">//creativecommons.org/licenses/by-nc-sa/4.0/</div></td>\n      <td><div class=\"not-number\">https://www.xeno-canto.org/301366</div></td>\n      <td><div class=\"not-number\">//www.xeno-canto.org/301366/download</div></td>\n    </tr>\n    <tr>\n      <th>BBWO</th>\n      <th>80808</th>\n      <td><div class=\"not-number\">True</div></td>\n      <td><div class=\"not-number\">BBWO</div></td>\n      <td>335436</td>\n      <td><div class=\"not-number\">Picoides arcticus</div></td>\n      <td><div class=\"not-number\">Black-backed Woodpecker</div></td>\n      <td><div class=\"not-number\"></div></td>\n      <td><div class=\"not-number\">Lance A. M. Benner</div></td>\n      <td><div class=\"not-number\">United States</div></td>\n      <td><div class=\"not-number\">Blackrock Trailhead, Tulare County, California</div></td>\n      <td>36.2</td>\n      <td>-118.0</td>\n      <td><div class=\"not-number\">drumming, male</div></td>\n      <td><div class=\"not-number\">no score</div></td>\n      <td><div class=\"not-number\">2016-09-17 00:00:00</div></td>\n      <td><div class=\"not-number\">16:41</div></td>\n      <td><div class=\"not-number\">by-nc-sa</div></td>\n      <td><div class=\"not-number\">4.0</div></td>\n      <td><div class=\"not-number\">//creativecommons.org/licenses/by-nc-sa/4.0/</div></td>\n      <td><div class=\"not-number\">https://www.xeno-canto.org/335436</div></td>\n      <td><div class=\"not-number\">//www.xeno-canto.org/335436/download</div></td>\n    </tr>\n    <tr>\n      <th>HUVI</th>\n      <th>117936</th>\n      <td><div class=\"not-number\">True</div></td>\n      <td><div class=\"not-number\">HUVI</div></td>\n      <td>297126</td>\n      <td><div class=\"not-number\">Vireo huttoni</div></td>\n      <td><div class=\"not-number\">Hutton's Vireo</div></td>\n      <td><div class=\"not-number\"></div></td>\n      <td><div class=\"not-number\">Paul Marvin</div></td>\n      <td><div class=\"not-number\">United States</div></td>\n      <td><div class=\"not-number\">Kickapoo Cavern State Park, Brackettville, Texas</div></td>\n      <td>29.6</td>\n      <td>-100.0</td>\n      <td><div class=\"not-number\">song</div></td>\n      <td><div class=\"not-number\">C</div></td>\n      <td><div class=\"not-number\">2012-04-08 00:00:00</div></td>\n      <td><div class=\"not-number\">07:58</div></td>\n      <td><div class=\"not-number\">by-nc-sa</div></td>\n      <td><div class=\"not-number\">4.0</div></td>\n      <td><div class=\"not-number\">//creativecommons.org/licenses/by-nc-sa/4.0/</div></td>\n      <td><div class=\"not-number\">https://www.xeno-canto.org/297126</div></td>\n      <td><div class=\"not-number\">//www.xeno-canto.org/297126/download</div></td>\n    </tr>\n    <tr>\n      <th>MGWA</th>\n      <th>89731</th>\n      <td><div class=\"not-number\">True</div></td>\n      <td><div class=\"not-number\">MGWA</div></td>\n      <td>326299</td>\n      <td><div class=\"not-number\">Geothlypis tolmiei</div></td>\n      <td><div class=\"not-number\">MacGillivray's Warbler</div></td>\n      <td><div class=\"not-number\"></div></td>\n      <td><div class=\"not-number\">Lance A. M. Benner</div></td>\n      <td><div class=\"not-number\">United States</div></td>\n      <td><div class=\"not-number\">Buckhorn Campground, San Gabriel Mountains, Los Angeles County, California</div></td>\n      <td>34.3</td>\n      <td>-118.0</td>\n      <td><div class=\"not-number\">male, song</div></td>\n      <td><div class=\"not-number\">no score</div></td>\n      <td><div class=\"not-number\">2016-06-28 00:00:00</div></td>\n      <td><div class=\"not-number\">10:49</div></td>\n      <td><div class=\"not-number\">by-nc-sa</div></td>\n      <td><div class=\"not-number\">4.0</div></td>\n      <td><div class=\"not-number\">//creativecommons.org/licenses/by-nc-sa/4.0/</div></td>\n      <td><div class=\"not-number\">https://www.xeno-canto.org/326299</div></td>\n      <td><div class=\"not-number\">//www.xeno-canto.org/326299/download</div></td>\n    </tr>\n    <tr>\n      <th>PUFI</th>\n      <th>159786</th>\n      <td><div class=\"not-number\">True</div></td>\n      <td><div class=\"not-number\">PUFI</div></td>\n      <td>254326</td>\n      <td><div class=\"not-number\">Haemorhous purpureus</div></td>\n      <td><div class=\"not-number\">Purple Finch</div></td>\n      <td><div class=\"not-number\"></div></td>\n      <td><div class=\"not-number\">Iain</div></td>\n      <td><div class=\"not-number\">Canada</div></td>\n      <td><div class=\"not-number\">Algonquin Highlands, Haliburton County, Ontario</div></td>\n      <td>45.3</td>\n      <td>-78.8</td>\n      <td><div class=\"not-number\">song</div></td>\n      <td><div class=\"not-number\">C</div></td>\n      <td><div class=\"not-number\">2015-06-27 00:00:00</div></td>\n      <td><div class=\"not-number\">11:00</div></td>\n      <td><div class=\"not-number\">by-nc-sa</div></td>\n      <td><div class=\"not-number\">4.0</div></td>\n      <td><div class=\"not-number\">//creativecommons.org/licenses/by-nc-sa/4.0/</div></td>\n      <td><div class=\"not-number\">https://www.xeno-canto.org/254326</div></td>\n      <td><div class=\"not-number\">//www.xeno-canto.org/254326/download</div></td>\n    </tr>\n    <tr>\n      <th>CAFI</th>\n      <th>46804</th>\n      <td><div class=\"not-number\">True</div></td>\n      <td><div class=\"not-number\">CAFI</div></td>\n      <td>369971</td>\n      <td><div class=\"not-number\">Haemorhous cassinii</div></td>\n      <td><div class=\"not-number\">Cassin's Finch</div></td>\n      <td><div class=\"not-number\"></div></td>\n      <td><div class=\"not-number\">Eric DeFonso</div></td>\n      <td><div class=\"not-number\">United States</div></td>\n      <td><div class=\"not-number\">Dunton Rd area, San Juan National Forest, Dolores County, Colorado</div></td>\n      <td>37.8</td>\n      <td>-108.0</td>\n      <td><div class=\"not-number\">song</div></td>\n      <td><div class=\"not-number\">A</div></td>\n      <td><div class=\"not-number\">2016-06-28 00:00:00</div></td>\n      <td><div class=\"not-number\">15:00</div></td>\n      <td><div class=\"not-number\">by-nc-sa</div></td>\n      <td><div class=\"not-number\">4.0</div></td>\n      <td><div class=\"not-number\">//creativecommons.org/licenses/by-nc-sa/4.0/</div></td>\n      <td><div class=\"not-number\">https://www.xeno-canto.org/369971</div></td>\n      <td><div class=\"not-number\">//www.xeno-canto.org/369971/download</div></td>\n    </tr>\n    <tr>\n      <th>AMGO</th>\n      <th>256886</th>\n      <td><div class=\"not-number\">True</div></td>\n      <td><div class=\"not-number\">AMGO</div></td>\n      <td>153552</td>\n      <td><div class=\"not-number\">Spinus tristis</div></td>\n      <td><div class=\"not-number\">American Goldfinch</div></td>\n      <td><div class=\"not-number\"></div></td>\n      <td><div class=\"not-number\">Mike Schanbacher</div></td>\n      <td><div class=\"not-number\">United States</div></td>\n      <td><div class=\"not-number\">Falmouth, Barnstable, Massachusetts</div></td>\n      <td>41.5</td>\n      <td>-70.7</td>\n      <td><div class=\"not-number\">call, male</div></td>\n      <td><div class=\"not-number\">B</div></td>\n      <td><div class=\"not-number\">2013-05-01 00:00:00</div></td>\n      <td><div class=\"not-number\">12:00</div></td>\n      <td><div class=\"not-number\">by-nc-sa</div></td>\n      <td><div class=\"not-number\">3.0</div></td>\n      <td><div class=\"not-number\">//creativecommons.org/licenses/by-nc-sa/3.0/</div></td>\n      <td><div class=\"not-number\">https://www.xeno-canto.org/153552</div></td>\n      <td><div class=\"not-number\">//www.xeno-canto.org/153552/download</div></td>\n    </tr>\n  </tbody>\n</table>",
      "text/plain": "                downloaded species      id               sci_name                 com_name    subspecies           recordist        country                                                                    locality     lat      lng                           type   quality       date   time license_type license_detail                                       license                                url                              download\nspecies                                                                                                                                                                                                                                                                                                                                                                                                                                               \nCOGA    205189        True    COGA  207451      Gallinula galeata         Common Gallinule  sandvicensis       Ross Gallardy  United States                                             Kailua, Honolulu County, Hawaii  21.391 -157.743                           call         B 2014-12-21  07:30     by-nc-sa            4.0  //creativecommons.org/licenses/by-nc-sa/4.0/  https://www.xeno-canto.org/207451  //www.xeno-canto.org/207451/download\nINDO    18832         True    INDO  398616         Columbina inca                Inca Dove                  Manuel Grosselet         Mexico                                 Lomas de Bezares Miguel Hidalgo Mexico city  19.391  -99.244                           song         B 2018-01-07  08:00     by-nc-sa            4.0  //creativecommons.org/licenses/by-nc-sa/4.0/  https://www.xeno-canto.org/398616  //www.xeno-canto.org/398616/download\nEWPW    223194        True    EWPW  188611  Antrostomus vociferus   Eastern Whip-poor-will                 David Jonas Weber  United States                                 Gravelly Hill Rd., Salem County, New Jersey  39.495  -75.355                           song         C 2014-07-25  05:30     by-nc-sa            4.0  //creativecommons.org/licenses/by-nc-sa/4.0/  https://www.xeno-canto.org/188611  //www.xeno-canto.org/188611/download\nNUWO    113835        True    NUWO  301366     Picoides nuttallii     Nuttall's Woodpecker                      Denise Wight  United States                                     Moraga, Contra Costa County, California  37.832 -122.134  Hawk mobbing call, alarm call         C 2016-01-25  10:00     by-nc-sa            4.0  //creativecommons.org/licenses/by-nc-sa/4.0/  https://www.xeno-canto.org/301366  //www.xeno-canto.org/301366/download\nBBWO    80808         True    BBWO  335436      Picoides arcticus  Black-backed Woodpecker                Lance A. M. Benner  United States                              Blackrock Trailhead, Tulare County, California  36.175 -118.270                 drumming, male  no score 2016-09-17  16:41     by-nc-sa            4.0  //creativecommons.org/licenses/by-nc-sa/4.0/  https://www.xeno-canto.org/335436  //www.xeno-canto.org/335436/download\nHUVI    117936        True    HUVI  297126          Vireo huttoni           Hutton's Vireo                       Paul Marvin  United States                            Kickapoo Cavern State Park, Brackettville, Texas  29.618 -100.451                           song         C 2012-04-08  07:58     by-nc-sa            4.0  //creativecommons.org/licenses/by-nc-sa/4.0/  https://www.xeno-canto.org/297126  //www.xeno-canto.org/297126/download\nMGWA    89731         True    MGWA  326299     Geothlypis tolmiei   MacGillivray's Warbler                Lance A. M. Benner  United States  Buckhorn Campground, San Gabriel Mountains, Los Angeles County, California  34.346 -117.915                     male, song  no score 2016-06-28  10:49     by-nc-sa            4.0  //creativecommons.org/licenses/by-nc-sa/4.0/  https://www.xeno-canto.org/326299  //www.xeno-canto.org/326299/download\nPUFI    159786        True    PUFI  254326   Haemorhous purpureus             Purple Finch                              Iain         Canada                             Algonquin Highlands, Haliburton County, Ontario  45.306  -78.809                           song         C 2015-06-27  11:00     by-nc-sa            4.0  //creativecommons.org/licenses/by-nc-sa/4.0/  https://www.xeno-canto.org/254326  //www.xeno-canto.org/254326/download\nCAFI    46804         True    CAFI  369971    Haemorhous cassinii           Cassin's Finch                      Eric DeFonso  United States          Dunton Rd area, San Juan National Forest, Dolores County, Colorado  37.780 -108.040                           song         A 2016-06-28  15:00     by-nc-sa            4.0  //creativecommons.org/licenses/by-nc-sa/4.0/  https://www.xeno-canto.org/369971  //www.xeno-canto.org/369971/download\nAMGO    256886        True    AMGO  153552         Spinus tristis       American Goldfinch                  Mike Schanbacher  United States                                         Falmouth, Barnstable, Massachusetts  41.522  -70.668                     call, male         B 2013-05-01  12:00     by-nc-sa            3.0  //creativecommons.org/licenses/by-nc-sa/3.0/  https://www.xeno-canto.org/153552  //www.xeno-canto.org/153552/download"
     },
     "metadata": {},
     "output_type": "display_data",
     "transient": {}
    }
   ],
   "source": [
    "# Select recs\n",
    "#   1. countries: Filter recs to these countries\n",
    "#   2. com_names: Filter recs to these species\n",
    "#   3. recs_at_least: Filter species to those with at least this many recs\n",
    "#   4. num_species: Sample this many of the species\n",
    "#   5. num_recs: Sample this many recs per species\n",
    "get_recs_stats = lambda df: dict(sp=df.species.nunique(), recs=len(df))\n",
    "puts_stats = lambda desc: partial(tap, f=lambda df: print('%-15s %12s (sp/recs)' % (desc, '%(sp)s/%(recs)s' % get_recs_stats(df))))\n",
    "countries, com_names = countries_na, com_names_ca  # 400k/9.4k -> 60k/1.1k -> 35k/334\n",
    "# recs_at_least, num_species, num_recs = 100, 100, 100  # ca[334/35k -> 127/25k -> 100/21k -> 100/10k   -> 100/10k]\n",
    "# recs_at_least, num_species, num_recs =  50, 100, 100  # ca[334/35k -> 224/32k -> 100/16k -> 100/ 9.0k -> 100/ 9.0k]\n",
    "# recs_at_least, num_species, num_recs =   0, 100, 100  # ca[334/35k -> 334/35k -> 100/12k -> 100/ 6.8k ->  99/ 6.8k]\n",
    "# recs_at_least, num_species, num_recs =   0, 168, 100  # ca[334/34k -> 334/34k -> 168/18k -> 168/11k   -> 167/11k]    # (old 'all')\n",
    "# recs_at_least, num_species, num_recs =   0, 168,  20  # ca[334/34k -> 334/35k -> 168/18k -> 168/ 3.2k -> 167/ 3.2k]  # (old 'recs')\n",
    "recs_at_least, num_species, num_recs =  20, 168,  20    # ca[334/35k -> 296/35k -> 168/20k -> 168/ 3.4k -> 168/ 3.4k]  # (old 'recs')\n",
    "# recs_at_least, num_species, num_recs =  20, 50,  100  # Faster dev\n",
    "# recs_at_least, num_species, num_recs =  20, 50,  50   # Faster dev\n",
    "# recs_at_least, num_species, num_recs =  20, 50,  20   # Faster dev\n",
    "# recs_at_least, num_species, num_recs =  20, 50,  10   # Faster dev\n",
    "# recs_at_least, num_species, num_recs =  20, 50,  5    # Faster dev\n",
    "xcs = (xc.metadata\n",
    "    .pipe(puts_stats('all'))\n",
    "    # 1. countries: Filter recs to these countries\n",
    "    [lambda df: df.country.isin(countries)]\n",
    "    .pipe(puts_stats('countries'))\n",
    "    # 2. com_names: Filter recs to these species\n",
    "    [lambda df: df.com_name.isin(com_names)]\n",
    "    .pipe(puts_stats('com_names'))\n",
    "    # Omit not-downloaded recs (should be few within the selected countries)\n",
    "    [lambda df: df.downloaded]\n",
    "    .pipe(puts_stats('(downloaded)'))\n",
    "    # Remove empty cats for perf\n",
    "    .pipe(df_remove_unused_categories)\n",
    "    # 3. recs_at_least: Filter species to those with at least this many recs\n",
    "    [lambda df: df.species.isin(df.species.value_counts()[lambda s: s >= recs_at_least].index)]\n",
    "    .pipe(puts_stats('recs_at_least'))\n",
    "    # 4. num_species: Sample this many of the species\n",
    "    [lambda df: df.species.isin(df.species.drop_duplicates().pipe(lambda s: s.sample(n=min(len(s), num_species), random_state=0)))]\n",
    "    .pipe(puts_stats('num_species'))\n",
    "    # 5. num_recs: Sample this many recs per species\n",
    "    #   - Remove empty cats else .groupby fails on empty groups\n",
    "    .pipe(df_remove_unused_categories)\n",
    "    .groupby('species').apply(lambda g: g.sample(n=min(len(g), num_recs), random_state=0))\n",
    "    .pipe(puts_stats('num_recs'))\n",
    "    # Drop species with <2 recs, else StratifiedShuffleSplit complains (e.g. 'TUVU')\n",
    "    [lambda df: df.species.isin(df.species.value_counts()[lambda s: s >= 2].index)]\n",
    "    .pipe(puts_stats('recs ≥ 2'))\n",
    "    # Clean up for downstream\n",
    "    .pipe(df_remove_unused_categories)\n",
    ")\n",
    "_recs_stats = get_recs_stats(xcs)\n",
    "recs_stats = ', '.join(['%s[%s]' % (k, v) for k, v in _recs_stats.items()])\n",
    "display(\n",
    "    recs_stats,\n",
    "    df_summary(xcs).T,\n",
    "    xcs.sample(n=10, random_state=0).sort_values('species'),\n",
    ")"
   ]
  },
  {
   "cell_type": "code",
   "execution_count": null,
   "metadata": {},
   "outputs": [
    {
     "data": {
      "text/plain": "3360"
     },
     "metadata": {},
     "output_type": "display_data",
     "transient": {}
    }
   ],
   "source": [
    "xcs_paths = [\n",
    "    ('xc', f'{data_dir}/xc/data/{row.species}/{row.id}/audio.mp3')\n",
    "    for row in df_rows(xcs)\n",
    "]\n",
    "joblib.dump(xcs_paths, '/tmp/xcs_paths')  # In case you want to run load.recs in a terminal (it's long and verbose)\n",
    "display(\n",
    "    len(xcs_paths),\n",
    "    # xcs_paths[:2],\n",
    ")"
   ]
  },
  {
   "cell_type": "code",
   "execution_count": null,
   "metadata": {
    "once": false
   },
   "outputs": [
    {
     "data": {
      "text/html": "<table border=\"1\" class=\"dataframe\">\n  <thead>\n    <tr style=\"text-align: right;\">\n      <th></th>\n      <th></th>\n      <th></th>\n      <th></th>\n      <th></th>\n      <th></th>\n      <th></th>\n      <th></th>\n      <th>min</th>\n      <th>25%</th>\n      <th>50%</th>\n      <th>75%</th>\n      <th>max</th>\n    </tr>\n    <tr>\n      <th></th>\n      <th>dtype</th>\n      <th>sizeof</th>\n      <th>len</th>\n      <th>count</th>\n      <th>nunique</th>\n      <th>mean</th>\n      <th>std</th>\n      <th></th>\n      <th></th>\n      <th></th>\n      <th></th>\n      <th></th>\n    </tr>\n  </thead>\n  <tbody>\n    <tr>\n      <th>dataset</th>\n      <th>object</th>\n      <th>171360</th>\n      <th>3360</th>\n      <th>3360</th>\n      <th>1</th>\n      <th>NaN</th>\n      <th>NaN</th>\n      <td><div class=\"not-number\">xc</div></td>\n      <td><div class=\"not-number\">xc</div></td>\n      <td><div class=\"not-number\">xc</div></td>\n      <td><div class=\"not-number\">xc</div></td>\n      <td><div class=\"not-number\">xc</div></td>\n    </tr>\n    <tr>\n      <th>species</th>\n      <th>category</th>\n      <th>178080</th>\n      <th>3360</th>\n      <th>3360</th>\n      <th>168</th>\n      <th>NaN</th>\n      <th>NaN</th>\n      <td><div class=\"not-number\">GWFG</div></td>\n      <td><div class=\"not-number\">GBTE</div></td>\n      <td><div class=\"not-number\">REVI</div></td>\n      <td><div class=\"not-number\">NOWA</div></td>\n      <td><div class=\"not-number\">AMGO</div></td>\n    </tr>\n    <tr>\n      <th>species_com_name</th>\n      <th>category</th>\n      <th>219160</th>\n      <th>3360</th>\n      <th>3360</th>\n      <th>168</th>\n      <th>NaN</th>\n      <th>NaN</th>\n      <td><div class=\"not-number\">Greater White-fronted Goose</div></td>\n      <td><div class=\"not-number\">Gull-billed Tern</div></td>\n      <td><div class=\"not-number\">Red-eyed Vireo</div></td>\n      <td><div class=\"not-number\">Northern Waterthrush</div></td>\n      <td><div class=\"not-number\">American Goldfinch</div></td>\n    </tr>\n    <tr>\n      <th>species_query</th>\n      <th>object</th>\n      <th>178080</th>\n      <th>3360</th>\n      <th>3360</th>\n      <th>168</th>\n      <th>NaN</th>\n      <th>NaN</th>\n      <td><div class=\"not-number\">ACWO</div></td>\n      <td><div class=\"not-number\">CONI</div></td>\n      <td><div class=\"not-number\">LASP</div></td>\n      <td><div class=\"not-number\">RIRA</div></td>\n      <td><div class=\"not-number\">YRWA</div></td>\n    </tr>\n    <tr>\n      <th>duration_s</th>\n      <th>float64</th>\n      <th>80640</th>\n      <th>3360</th>\n      <th>3360</th>\n      <th>3054</th>\n      <th>5.430e+01</th>\n      <th>7.031e+01</th>\n      <td>0.697</td>\n      <td>14.4</td>\n      <td>31.8</td>\n      <td>65.4</td>\n      <td>940</td>\n    </tr>\n    <tr>\n      <th>samples_mb</th>\n      <th>float64</th>\n      <th>80640</th>\n      <th>3360</th>\n      <th>3360</th>\n      <th>3055</th>\n      <th>2.286e+00</th>\n      <th>2.958e+00</th>\n      <td>0.0293</td>\n      <td>0.604</td>\n      <td>1.34</td>\n      <td>2.76</td>\n      <td>39.5</td>\n    </tr>\n    <tr>\n      <th>samples_n</th>\n      <th>int64</th>\n      <th>94080</th>\n      <th>3360</th>\n      <th>3360</th>\n      <th>3055</th>\n      <th>1.198e+06</th>\n      <th>1.551e+06</th>\n      <td>15368</td>\n      <td>316510</td>\n      <td>701190</td>\n      <td>1444435</td>\n      <td>20731931</td>\n    </tr>\n    <tr>\n      <th>basename</th>\n      <th>object</th>\n      <th>181440</th>\n      <th>3360</th>\n      <th>3360</th>\n      <th>1</th>\n      <th>NaN</th>\n      <th>NaN</th>\n      <td><div class=\"not-number\">audio</div></td>\n      <td><div class=\"not-number\">audio</div></td>\n      <td><div class=\"not-number\">audio</div></td>\n      <td><div class=\"not-number\">audio</div></td>\n      <td><div class=\"not-number\">audio</div></td>\n    </tr>\n    <tr>\n      <th>species_longhand</th>\n      <th>category</th>\n      <th>242680</th>\n      <th>3360</th>\n      <th>3360</th>\n      <th>168</th>\n      <th>NaN</th>\n      <th>NaN</th>\n      <td><div class=\"not-number\">Greater White-fronted Goose - GWFG</div></td>\n      <td><div class=\"not-number\">Gull-billed Tern - GBTE</div></td>\n      <td><div class=\"not-number\">Red-eyed Vireo - REVI</div></td>\n      <td><div class=\"not-number\">Northern Waterthrush - NOWA</div></td>\n      <td><div class=\"not-number\">American Goldfinch - AMGO</div></td>\n    </tr>\n    <tr>\n      <th>id</th>\n      <th>object</th>\n      <th>248154</th>\n      <th>3360</th>\n      <th>3360</th>\n      <th>3360</th>\n      <th>NaN</th>\n      <th>NaN</th>\n      <td><div class=\"not-number\">xc/data/ACWO/153315/audio</div></td>\n      <td><div class=\"not-number\">xc/data/CONI/77526/audio</div></td>\n      <td><div class=\"not-number\">xc/data/LASP/72200/audio</div></td>\n      <td><div class=\"not-number\">xc/data/RIRA/408562/audio</div></td>\n      <td><div class=\"not-number\">xc/data/YRWA/78150/audio</div></td>\n    </tr>\n    <tr>\n      <th>path</th>\n      <th>object</th>\n      <th>261594</th>\n      <th>3360</th>\n      <th>3360</th>\n      <th>3360</th>\n      <th>NaN</th>\n      <th>NaN</th>\n      <td><div class=\"not-number\">xc/data/ACWO/153315/audio.mp3</div></td>\n      <td><div class=\"not-number\">xc/data/CONI/77526/audio.mp3</div></td>\n      <td><div class=\"not-number\">xc/data/LASP/72200/audio.mp3</div></td>\n      <td><div class=\"not-number\">xc/data/RIRA/408562/audio.mp3</div></td>\n      <td><div class=\"not-number\">xc/data/YRWA/78150/audio.mp3</div></td>\n    </tr>\n  </tbody>\n</table>",
      "text/plain": "                                                                                                        min                           25%                           50%                            75%                           max\n                 dtype    sizeof len  count nunique mean      std                                                                                                                                                                   \ndataset          object   171360 3360 3360  1       NaN       NaN                                        xc                            xc                            xc                             xc                            xc\nspecies          category 178080 3360 3360  168     NaN       NaN                                      GWFG                          GBTE                          REVI                           NOWA                          AMGO\nspecies_com_name category 219160 3360 3360  168     NaN       NaN               Greater White-fronted Goose              Gull-billed Tern                Red-eyed Vireo           Northern Waterthrush            American Goldfinch\nspecies_query    object   178080 3360 3360  168     NaN       NaN                                      ACWO                          CONI                          LASP                           RIRA                          YRWA\nduration_s       float64  80640  3360 3360  3054    5.430e+01 7.031e+01                               0.697                          14.4                          31.8                           65.4                           940\nsamples_mb       float64  80640  3360 3360  3055    2.286e+00 2.958e+00                              0.0293                         0.604                          1.34                           2.76                          39.5\nsamples_n        int64    94080  3360 3360  3055    1.198e+06 1.551e+06                               15368                        316510                        701190                        1444435                      20731931\nbasename         object   181440 3360 3360  1       NaN       NaN                                     audio                         audio                         audio                          audio                         audio\nspecies_longhand category 242680 3360 3360  168     NaN       NaN        Greater White-fronted Goose - GWFG       Gull-billed Tern - GBTE         Red-eyed Vireo - REVI    Northern Waterthrush - NOWA     American Goldfinch - AMGO\nid               object   248154 3360 3360  3360    NaN       NaN                 xc/data/ACWO/153315/audio      xc/data/CONI/77526/audio      xc/data/LASP/72200/audio      xc/data/RIRA/408562/audio      xc/data/YRWA/78150/audio\npath             object   261594 3360 3360  3360    NaN       NaN             xc/data/ACWO/153315/audio.mp3  xc/data/CONI/77526/audio.mp3  xc/data/LASP/72200/audio.mp3  xc/data/RIRA/408562/audio.mp3  xc/data/YRWA/78150/audio.mp3"
     },
     "metadata": {},
     "output_type": "display_data",
     "transient": {}
    },
    {
     "data": {
      "text/html": "<table border=\"1\" class=\"dataframe\">\n  <thead>\n    <tr style=\"text-align: right;\">\n      <th></th>\n      <th>dataset</th>\n      <th>species</th>\n      <th>species_com_name</th>\n      <th>species_query</th>\n      <th>duration_s</th>\n      <th>samples_mb</th>\n      <th>samples_n</th>\n      <th>basename</th>\n      <th>species_longhand</th>\n      <th>id</th>\n      <th>path</th>\n    </tr>\n  </thead>\n  <tbody>\n    <tr>\n      <th>0</th>\n      <td><div class=\"not-number\">xc</div></td>\n      <td><div class=\"not-number\">GWFG</div></td>\n      <td><div class=\"not-number\">Greater White-fronted Goose</div></td>\n      <td><div class=\"not-number\">GWFG</div></td>\n      <td>23.7</td>\n      <td>0.997</td>\n      <td>522850</td>\n      <td><div class=\"not-number\">audio</div></td>\n      <td><div class=\"not-number\">Greater White-fronted Goose - GWFG</div></td>\n      <td><div class=\"not-number\">xc/data/GWFG/149379/audio</div></td>\n      <td><div class=\"not-number\">xc/data/GWFG/149379/audio.mp3</div></td>\n    </tr>\n    <tr>\n      <th>1</th>\n      <td><div class=\"not-number\">xc</div></td>\n      <td><div class=\"not-number\">GWFG</div></td>\n      <td><div class=\"not-number\">Greater White-fronted Goose</div></td>\n      <td><div class=\"not-number\">GWFG</div></td>\n      <td>18.3</td>\n      <td>0.770</td>\n      <td>403780</td>\n      <td><div class=\"not-number\">audio</div></td>\n      <td><div class=\"not-number\">Greater White-fronted Goose - GWFG</div></td>\n      <td><div class=\"not-number\">xc/data/GWFG/276918/audio</div></td>\n      <td><div class=\"not-number\">xc/data/GWFG/276918/audio.mp3</div></td>\n    </tr>\n    <tr>\n      <th>2</th>\n      <td><div class=\"not-number\">xc</div></td>\n      <td><div class=\"not-number\">GWFG</div></td>\n      <td><div class=\"not-number\">Greater White-fronted Goose</div></td>\n      <td><div class=\"not-number\">GWFG</div></td>\n      <td>45.0</td>\n      <td>1.890</td>\n      <td>991296</td>\n      <td><div class=\"not-number\">audio</div></td>\n      <td><div class=\"not-number\">Greater White-fronted Goose - GWFG</div></td>\n      <td><div class=\"not-number\">xc/data/GWFG/210100/audio</div></td>\n      <td><div class=\"not-number\">xc/data/GWFG/210100/audio.mp3</div></td>\n    </tr>\n    <tr>\n      <th>3</th>\n      <td><div class=\"not-number\">xc</div></td>\n      <td><div class=\"not-number\">GWFG</div></td>\n      <td><div class=\"not-number\">Greater White-fronted Goose</div></td>\n      <td><div class=\"not-number\">GWFG</div></td>\n      <td>17.6</td>\n      <td>0.738</td>\n      <td>387072</td>\n      <td><div class=\"not-number\">audio</div></td>\n      <td><div class=\"not-number\">Greater White-fronted Goose - GWFG</div></td>\n      <td><div class=\"not-number\">xc/data/GWFG/323113/audio</div></td>\n      <td><div class=\"not-number\">xc/data/GWFG/323113/audio.mp3</div></td>\n    </tr>\n    <tr>\n      <th>4</th>\n      <td><div class=\"not-number\">xc</div></td>\n      <td><div class=\"not-number\">GWFG</div></td>\n      <td><div class=\"not-number\">Greater White-fronted Goose</div></td>\n      <td><div class=\"not-number\">GWFG</div></td>\n      <td>24.0</td>\n      <td>1.010</td>\n      <td>528142</td>\n      <td><div class=\"not-number\">audio</div></td>\n      <td><div class=\"not-number\">Greater White-fronted Goose - GWFG</div></td>\n      <td><div class=\"not-number\">xc/data/GWFG/276919/audio</div></td>\n      <td><div class=\"not-number\">xc/data/GWFG/276919/audio.mp3</div></td>\n    </tr>\n  </tbody>\n</table>",
      "text/plain": "  dataset species             species_com_name species_query  duration_s  samples_mb  samples_n basename                    species_longhand                         id                           path\n0      xc    GWFG  Greater White-fronted Goose          GWFG      23.712       0.997     522850    audio  Greater White-fronted Goose - GWFG  xc/data/GWFG/149379/audio  xc/data/GWFG/149379/audio.mp3\n1      xc    GWFG  Greater White-fronted Goose          GWFG      18.312       0.770     403780    audio  Greater White-fronted Goose - GWFG  xc/data/GWFG/276918/audio  xc/data/GWFG/276918/audio.mp3\n2      xc    GWFG  Greater White-fronted Goose          GWFG      44.957       1.891     991296    audio  Greater White-fronted Goose - GWFG  xc/data/GWFG/210100/audio  xc/data/GWFG/210100/audio.mp3\n3      xc    GWFG  Greater White-fronted Goose          GWFG      17.554       0.738     387072    audio  Greater White-fronted Goose - GWFG  xc/data/GWFG/323113/audio  xc/data/GWFG/323113/audio.mp3\n4      xc    GWFG  Greater White-fronted Goose          GWFG      23.952       1.007     528142    audio  Greater White-fronted Goose - GWFG  xc/data/GWFG/276919/audio  xc/data/GWFG/276919/audio.mp3"
     },
     "metadata": {},
     "output_type": "display_data",
     "transient": {}
    }
   ],
   "source": [
    "# TODO Restore once:true after debug [but think carefully how once:true interacts with the once:false params above]\n",
    "recs = load.recs(paths=xcs_paths)\n",
    "display(\n",
    "    df_summary(recs).T,\n",
    "    recs[:5],\n",
    ")"
   ]
  },
  {
   "cell_type": "code",
   "execution_count": null,
   "metadata": {},
   "outputs": [
    {
     "data": {
      "text/html": "<table border=\"1\" class=\"dataframe\">\n  <thead>\n    <tr style=\"text-align: right;\">\n      <th></th>\n      <th>species_longhand</th>\n      <th>num_recs</th>\n    </tr>\n  </thead>\n  <tbody>\n    <tr>\n      <th>0</th>\n      <td><div class=\"not-number\">Greater White-fronted Goose - GWFG</div></td>\n      <td><div class=\"not-number\">•••••••••••••••••••••••••••••••••••••••••••••••••••••••••••• /20</div></td>\n    </tr>\n    <tr>\n      <th>1</th>\n      <td><div class=\"not-number\">Gadwall - GADW</div></td>\n      <td><div class=\"not-number\">•••••••••••••••••••••••••••••••••••••••••••••••••••••••••••• /20</div></td>\n    </tr>\n    <tr>\n      <th>2</th>\n      <td><div class=\"not-number\">American Wigeon - AMWI</div></td>\n      <td><div class=\"not-number\">•••••••••••••••••••••••••••••••••••••••••••••••••••••••••••• /20</div></td>\n    </tr>\n    <tr>\n      <th>3</th>\n      <td><div class=\"not-number\">Mallard - MALL</div></td>\n      <td><div class=\"not-number\">•••••••••••••••••••••••••••••••••••••••••••••••••••••••••••• /20</div></td>\n    </tr>\n    <tr>\n      <th>4</th>\n      <td><div class=\"not-number\">Green-winged Teal - GWTE</div></td>\n      <td><div class=\"not-number\">•••••••••••••••••••••••••••••••••••••••••••••••••••••••••••• /20</div></td>\n    </tr>\n    <tr>\n      <th>5</th>\n      <td><div class=\"not-number\">California Quail - CAQU</div></td>\n      <td><div class=\"not-number\">•••••••••••••••••••••••••••••••••••••••••••••••••••••••••••• /20</div></td>\n    </tr>\n    <tr>\n      <th>6</th>\n      <td><div class=\"not-number\">Gambel's Quail - GAQU</div></td>\n      <td><div class=\"not-number\">•••••••••••••••••••••••••••••••••••••••••••••••••••••••••••• /20</div></td>\n    </tr>\n    <tr>\n      <th>7</th>\n      <td><div class=\"not-number\">Sooty Grouse - SOGR</div></td>\n      <td><div class=\"not-number\">•••••••••••••••••••••••••••••••••••••••••••••••••••••••••••• /20</div></td>\n    </tr>\n    <tr>\n      <th>8</th>\n      <td><div class=\"not-number\">Wild Turkey - WITU</div></td>\n      <td><div class=\"not-number\">•••••••••••••••••••••••••••••••••••••••••••••••••••••••••••• /20</div></td>\n    </tr>\n    <tr>\n      <th>9</th>\n      <td><div class=\"not-number\">Common Loon - COLO</div></td>\n      <td><div class=\"not-number\">•••••••••••••••••••••••••••••••••••••••••••••••••••••••••••• /20</div></td>\n    </tr>\n    <tr>\n      <th>10</th>\n      <td><div class=\"not-number\">Red-necked Grebe - RNGR</div></td>\n      <td><div class=\"not-number\">•••••••••••••••••••••••••••••••••••••••••••••••••••••••••••• /20</div></td>\n    </tr>\n    <tr>\n      <th>11</th>\n      <td><div class=\"not-number\">Black-footed Albatross - BFAL</div></td>\n      <td><div class=\"not-number\">•••••••••••••••••••••••••••••••••••••••••••••••••••••••••••• /20</div></td>\n    </tr>\n    <tr>\n      <th>12</th>\n      <td><div class=\"not-number\">Double-crested Cormorant - DCCO</div></td>\n      <td><div class=\"not-number\">•••••••••••••••••••••••••••••••••••••••••••••••••••••••••••• /20</div></td>\n    </tr>\n    <tr>\n      <th>13</th>\n      <td><div class=\"not-number\">American Bittern - AMBI</div></td>\n      <td><div class=\"not-number\">•••••••••••••••••••••••••••••••••••••••••••••••••••••••••••• /20</div></td>\n    </tr>\n    <tr>\n      <th>14</th>\n      <td><div class=\"not-number\">Least Bittern - LEBI</div></td>\n      <td><div class=\"not-number\">•••••••••••••••••••••••••••••••••••••••••••••••••••••••••••• /20</div></td>\n    </tr>\n    <tr>\n      <th>15</th>\n      <td><div class=\"not-number\">Great Blue Heron - GBHE</div></td>\n      <td><div class=\"not-number\">•••••••••••••••••••••••••••••••••••••••••••••••••••••••••••• /20</div></td>\n    </tr>\n    <tr>\n      <th>16</th>\n      <td><div class=\"not-number\">Great Egret - GREG</div></td>\n      <td><div class=\"not-number\">•••••••••••••••••••••••••••••••••••••••••••••••••••••••••••• /20</div></td>\n    </tr>\n    <tr>\n      <th>17</th>\n      <td><div class=\"not-number\">Snowy Egret - SNEG</div></td>\n      <td><div class=\"not-number\">•••••••••••••••••••••••••••••••••••••••••••••••••••••••••••• /20</div></td>\n    </tr>\n    <tr>\n      <th>18</th>\n      <td><div class=\"not-number\">Osprey - OSPR</div></td>\n      <td><div class=\"not-number\">•••••••••••••••••••••••••••••••••••••••••••••••••••••••••••• /20</div></td>\n    </tr>\n    <tr>\n      <th>19</th>\n      <td><div class=\"not-number\">Swainson's Hawk - SWHA</div></td>\n      <td><div class=\"not-number\">•••••••••••••••••••••••••••••••••••••••••••••••••••••••••••• /20</div></td>\n    </tr>\n    <tr>\n      <th>20</th>\n      <td><div class=\"not-number\">Red-tailed Hawk - RTHA</div></td>\n      <td><div class=\"not-number\">•••••••••••••••••••••••••••••••••••••••••••••••••••••••••••• /20</div></td>\n    </tr>\n    <tr>\n      <th>21</th>\n      <td><div class=\"not-number\">Black Rail - BLRA</div></td>\n      <td><div class=\"not-number\">•••••••••••••••••••••••••••••••••••••••••••••••••••••••••••• /20</div></td>\n    </tr>\n    <tr>\n      <th>22</th>\n      <td><div class=\"not-number\">Ridgway's Rail - RIRA</div></td>\n      <td><div class=\"not-number\">•••••••••••••••••••••••••••••••••••••••••••••••••••••••••••• /20</div></td>\n    </tr>\n    <tr>\n      <th>23</th>\n      <td><div class=\"not-number\">Common Gallinule - COGA</div></td>\n      <td><div class=\"not-number\">•••••••••••••••••••••••••••••••••••••••••••••••••••••••••••• /20</div></td>\n    </tr>\n    <tr>\n      <th>24</th>\n      <td><div class=\"not-number\">Black-necked Stilt - BNST</div></td>\n      <td><div class=\"not-number\">•••••••••••••••••••••••••••••••••••••••••••••••••••••••••••• /20</div></td>\n    </tr>\n    <tr>\n      <th>25</th>\n      <td><div class=\"not-number\">Black Oystercatcher - BLOY</div></td>\n      <td><div class=\"not-number\">•••••••••••••••••••••••••••••••••••••••••••••••••••••••••••• /20</div></td>\n    </tr>\n    <tr>\n      <th>26</th>\n      <td><div class=\"not-number\">Semipalmated Plover - SEPL</div></td>\n      <td><div class=\"not-number\">•••••••••••••••••••••••••••••••••••••••••••••••••••••••••••• /20</div></td>\n    </tr>\n    <tr>\n      <th>27</th>\n      <td><div class=\"not-number\">Whimbrel - WHIM</div></td>\n      <td><div class=\"not-number\">•••••••••••••••••••••••••••••••••••••••••••••••••••••••••••• /20</div></td>\n    </tr>\n    <tr>\n      <th>28</th>\n      <td><div class=\"not-number\">Long-billed Curlew - LBCU</div></td>\n      <td><div class=\"not-number\">•••••••••••••••••••••••••••••••••••••••••••••••••••••••••••• /20</div></td>\n    </tr>\n    <tr>\n      <th>29</th>\n      <td><div class=\"not-number\">Rock Sandpiper - ROSA</div></td>\n      <td><div class=\"not-number\">•••••••••••••••••••••••••••••••••••••••••••••••••••••••••••• /20</div></td>\n    </tr>\n    <tr>\n      <th>30</th>\n      <td><div class=\"not-number\">Least Sandpiper - LESA</div></td>\n      <td><div class=\"not-number\">•••••••••••••••••••••••••••••••••••••••••••••••••••••••••••• /20</div></td>\n    </tr>\n    <tr>\n      <th>31</th>\n      <td><div class=\"not-number\">Long-billed Dowitcher - LBDO</div></td>\n      <td><div class=\"not-number\">•••••••••••••••••••••••••••••••••••••••••••••••••••••••••••• /20</div></td>\n    </tr>\n    <tr>\n      <th>32</th>\n      <td><div class=\"not-number\">Red-necked Phalarope - RNPH</div></td>\n      <td><div class=\"not-number\">•••••••••••••••••••••••••••••••••••••••••••••••••••••••••••• /20</div></td>\n    </tr>\n    <tr>\n      <th>33</th>\n      <td><div class=\"not-number\">Greater Yellowlegs - GRYE</div></td>\n      <td><div class=\"not-number\">•••••••••••••••••••••••••••••••••••••••••••••••••••••••••••• /20</div></td>\n    </tr>\n    <tr>\n      <th>34</th>\n      <td><div class=\"not-number\">Bonaparte's Gull - BOGU</div></td>\n      <td><div class=\"not-number\">•••••••••••••••••••••••••••••••••••••••••••••••••••••••••••• /20</div></td>\n    </tr>\n    <tr>\n      <th>35</th>\n      <td><div class=\"not-number\">Laughing Gull - LAGU</div></td>\n      <td><div class=\"not-number\">•••••••••••••••••••••••••••••••••••••••••••••••••••••••••••• /20</div></td>\n    </tr>\n    <tr>\n      <th>36</th>\n      <td><div class=\"not-number\">Heermann's Gull - HEEG</div></td>\n      <td><div class=\"not-number\">•••••••••••••••••••••••••••••••••••••••••••••••••••••••••••• /20</div></td>\n    </tr>\n    <tr>\n      <th>37</th>\n      <td><div class=\"not-number\">Ring-billed Gull - RBGU</div></td>\n      <td><div class=\"not-number\">•••••••••••••••••••••••••••••••••••••••••••••••••••••••••••• /20</div></td>\n    </tr>\n    <tr>\n      <th>38</th>\n      <td><div class=\"not-number\">Western Gull - WEGU</div></td>\n      <td><div class=\"not-number\">•••••••••••••••••••••••••••••••••••••••••••••••••••••••••••• /20</div></td>\n    </tr>\n    <tr>\n      <th>39</th>\n      <td><div class=\"not-number\">California Gull - CAGU</div></td>\n      <td><div class=\"not-number\">•••••••••••••••••••••••••••••••••••••••••••••••••••••••••••• /20</div></td>\n    </tr>\n    <tr>\n      <th>40</th>\n      <td><div class=\"not-number\">Glaucous-winged Gull - GWGU</div></td>\n      <td><div class=\"not-number\">•••••••••••••••••••••••••••••••••••••••••••••••••••••••••••• /20</div></td>\n    </tr>\n    <tr>\n      <th>41</th>\n      <td><div class=\"not-number\">Gull-billed Tern - GBTE</div></td>\n      <td><div class=\"not-number\">•••••••••••••••••••••••••••••••••••••••••••••••••••••••••••• /20</div></td>\n    </tr>\n    <tr>\n      <th>42</th>\n      <td><div class=\"not-number\">Caspian Tern - CATE</div></td>\n      <td><div class=\"not-number\">•••••••••••••••••••••••••••••••••••••••••••••••••••••••••••• /20</div></td>\n    </tr>\n    <tr>\n      <th>43</th>\n      <td><div class=\"not-number\">Black Tern - BLTE</div></td>\n      <td><div class=\"not-number\">•••••••••••••••••••••••••••••••••••••••••••••••••••••••••••• /20</div></td>\n    </tr>\n    <tr>\n      <th>44</th>\n      <td><div class=\"not-number\">Royal Tern - ROYT</div></td>\n      <td><div class=\"not-number\">•••••••••••••••••••••••••••••••••••••••••••••••••••••••••••• /20</div></td>\n    </tr>\n    <tr>\n      <th>45</th>\n      <td><div class=\"not-number\">Band-tailed Pigeon - BTPI</div></td>\n      <td><div class=\"not-number\">•••••••••••••••••••••••••••••••••••••••••••••••••••••••••••• /20</div></td>\n    </tr>\n    <tr>\n      <th>46</th>\n      <td><div class=\"not-number\">Inca Dove - INDO</div></td>\n      <td><div class=\"not-number\">•••••••••••••••••••••••••••••••••••••••••••••••••••••••••••• /20</div></td>\n    </tr>\n    <tr>\n      <th>47</th>\n      <td><div class=\"not-number\">Common Ground-Dove - COGD</div></td>\n      <td><div class=\"not-number\">•••••••••••••••••••••••••••••••••••••••••••••••••••••••••••• /20</div></td>\n    </tr>\n    <tr>\n      <th>48</th>\n      <td><div class=\"not-number\">Yellow-billed Cuckoo - YBCU</div></td>\n      <td><div class=\"not-number\">•••••••••••••••••••••••••••••••••••••••••••••••••••••••••••• /20</div></td>\n    </tr>\n    <tr>\n      <th>49</th>\n      <td><div class=\"not-number\">Barn Owl - BANO</div></td>\n      <td><div class=\"not-number\">•••••••••••••••••••••••••••••••••••••••••••••••••••••••••••• /20</div></td>\n    </tr>\n    <tr>\n      <th>50</th>\n      <td><div class=\"not-number\">Great Horned Owl - GHOW</div></td>\n      <td><div class=\"not-number\">•••••••••••••••••••••••••••••••••••••••••••••••••••••••••••• /20</div></td>\n    </tr>\n    <tr>\n      <th>51</th>\n      <td><div class=\"not-number\">Elf Owl - ELOW</div></td>\n      <td><div class=\"not-number\">•••••••••••••••••••••••••••••••••••••••••••••••••••••••••••• /20</div></td>\n    </tr>\n    <tr>\n      <th>52</th>\n      <td><div class=\"not-number\">Spotted Owl - SPOW</div></td>\n      <td><div class=\"not-number\">•••••••••••••••••••••••••••••••••••••••••••••••••••••••••••• /20</div></td>\n    </tr>\n    <tr>\n      <th>53</th>\n      <td><div class=\"not-number\">Lesser Nighthawk - LENI</div></td>\n      <td><div class=\"not-number\">•••••••••••••••••••••••••••••••••••••••••••••••••••••••••••• /20</div></td>\n    </tr>\n    <tr>\n      <th>54</th>\n      <td><div class=\"not-number\">Common Nighthawk - CONI</div></td>\n      <td><div class=\"not-number\">•••••••••••••••••••••••••••••••••••••••••••••••••••••••••••• /20</div></td>\n    </tr>\n    <tr>\n      <th>55</th>\n      <td><div class=\"not-number\">Common Poorwill - COPO</div></td>\n      <td><div class=\"not-number\">•••••••••••••••••••••••••••••••••••••••••••••••••••••••••••• /20</div></td>\n    </tr>\n    <tr>\n      <th>56</th>\n      <td><div class=\"not-number\">Eastern Whip-poor-will - EWPW</div></td>\n      <td><div class=\"not-number\">•••••••••••••••••••••••••••••••••••••••••••••••••••••••••••• /20</div></td>\n    </tr>\n    <tr>\n      <th>57</th>\n      <td><div class=\"not-number\">Mexican Whip-poor-will - MWPW</div></td>\n      <td><div class=\"not-number\">•••••••••••••••••••••••••••••••••••••••••••••••••••••••••••• /20</div></td>\n    </tr>\n    <tr>\n      <th>58</th>\n      <td><div class=\"not-number\">White-throated Swift - WTSW</div></td>\n      <td><div class=\"not-number\">•••••••••••••••••••••••••••••••••••••••••••••••••••••••••••• /20</div></td>\n    </tr>\n    <tr>\n      <th>59</th>\n      <td><div class=\"not-number\">Black-chinned Hummingbird - BCHU</div></td>\n      <td><div class=\"not-number\">•••••••••••••••••••••••••••••••••••••••••••••••••••••••••••• /20</div></td>\n    </tr>\n    <tr>\n      <th>60</th>\n      <td><div class=\"not-number\">Broad-tailed Hummingbird - BTAH</div></td>\n      <td><div class=\"not-number\">•••••••••••••••••••••••••••••••••••••••••••••••••••••••••••• /20</div></td>\n    </tr>\n    <tr>\n      <th>61</th>\n      <td><div class=\"not-number\">Acorn Woodpecker - ACWO</div></td>\n      <td><div class=\"not-number\">•••••••••••••••••••••••••••••••••••••••••••••••••••••••••••• /20</div></td>\n    </tr>\n    <tr>\n      <th>62</th>\n      <td><div class=\"not-number\">Williamson's Sapsucker - WISA</div></td>\n      <td><div class=\"not-number\">•••••••••••••••••••••••••••••••••••••••••••••••••••••••••••• /20</div></td>\n    </tr>\n    <tr>\n      <th>63</th>\n      <td><div class=\"not-number\">Red-breasted Sapsucker - RBSA</div></td>\n      <td><div class=\"not-number\">•••••••••••••••••••••••••••••••••••••••••••••••••••••••••••• /20</div></td>\n    </tr>\n    <tr>\n      <th>64</th>\n      <td><div class=\"not-number\">Ladder-backed Woodpecker - LBWO</div></td>\n      <td><div class=\"not-number\">•••••••••••••••••••••••••••••••••••••••••••••••••••••••••••• /20</div></td>\n    </tr>\n    <tr>\n      <th>65</th>\n      <td><div class=\"not-number\">Nuttall's Woodpecker - NUWO</div></td>\n      <td><div class=\"not-number\">•••••••••••••••••••••••••••••••••••••••••••••••••••••••••••• /20</div></td>\n    </tr>\n    <tr>\n      <th>66</th>\n      <td><div class=\"not-number\">Hairy Woodpecker - HAWO</div></td>\n      <td><div class=\"not-number\">•••••••••••••••••••••••••••••••••••••••••••••••••••••••••••• /20</div></td>\n    </tr>\n    <tr>\n      <th>67</th>\n      <td><div class=\"not-number\">White-headed Woodpecker - WHWO</div></td>\n      <td><div class=\"not-number\">•••••••••••••••••••••••••••••••••••••••••••••••••••••••••••• /20</div></td>\n    </tr>\n    <tr>\n      <th>68</th>\n      <td><div class=\"not-number\">Black-backed Woodpecker - BBWO</div></td>\n      <td><div class=\"not-number\">•••••••••••••••••••••••••••••••••••••••••••••••••••••••••••• /20</div></td>\n    </tr>\n    <tr>\n      <th>69</th>\n      <td><div class=\"not-number\">Northern Flicker - NOFL</div></td>\n      <td><div class=\"not-number\">•••••••••••••••••••••••••••••••••••••••••••••••••••••••••••• /20</div></td>\n    </tr>\n    <tr>\n      <th>70</th>\n      <td><div class=\"not-number\">Western Wood-Pewee - WEWP</div></td>\n      <td><div class=\"not-number\">•••••••••••••••••••••••••••••••••••••••••••••••••••••••••••• /20</div></td>\n    </tr>\n    <tr>\n      <th>71</th>\n      <td><div class=\"not-number\">Least Flycatcher - LEFL</div></td>\n      <td><div class=\"not-number\">•••••••••••••••••••••••••••••••••••••••••••••••••••••••••••• /20</div></td>\n    </tr>\n    <tr>\n      <th>72</th>\n      <td><div class=\"not-number\">Gray Flycatcher - GRFL</div></td>\n      <td><div class=\"not-number\">•••••••••••••••••••••••••••••••••••••••••••••••••••••••••••• /20</div></td>\n    </tr>\n    <tr>\n      <th>73</th>\n      <td><div class=\"not-number\">Dusky Flycatcher - DUFL</div></td>\n      <td><div class=\"not-number\">•••••••••••••••••••••••••••••••••••••••••••••••••••••••••••• /20</div></td>\n    </tr>\n    <tr>\n      <th>74</th>\n      <td><div class=\"not-number\">Pacific-slope Flycatcher - PSFL</div></td>\n      <td><div class=\"not-number\">•••••••••••••••••••••••••••••••••••••••••••••••••••••••••••• /20</div></td>\n    </tr>\n    <tr>\n      <th>75</th>\n      <td><div class=\"not-number\">Eastern Phoebe - EAPH</div></td>\n      <td><div class=\"not-number\">•••••••••••••••••••••••••••••••••••••••••••••••••••••••••••• /20</div></td>\n    </tr>\n    <tr>\n      <th>76</th>\n      <td><div class=\"not-number\">Say's Phoebe - SAPH</div></td>\n      <td><div class=\"not-number\">•••••••••••••••••••••••••••••••••••••••••••••••••••••••••••• /20</div></td>\n    </tr>\n    <tr>\n      <th>77</th>\n      <td><div class=\"not-number\">Vermilion Flycatcher - VEFL</div></td>\n      <td><div class=\"not-number\">•••••••••••••••••••••••••••••••••••••••••••••••••••••••••••• /20</div></td>\n    </tr>\n    <tr>\n      <th>78</th>\n      <td><div class=\"not-number\">Dusky-capped Flycatcher - DCFL</div></td>\n      <td><div class=\"not-number\">•••••••••••••••••••••••••••••••••••••••••••••••••••••••••••• /20</div></td>\n    </tr>\n    <tr>\n      <th>79</th>\n      <td><div class=\"not-number\">Tropical Kingbird - TRKI</div></td>\n      <td><div class=\"not-number\">•••••••••••••••••••••••••••••••••••••••••••••••••••••••••••• /20</div></td>\n    </tr>\n    <tr>\n      <th>80</th>\n      <td><div class=\"not-number\">Couch's Kingbird - COKI</div></td>\n      <td><div class=\"not-number\">•••••••••••••••••••••••••••••••••••••••••••••••••••••••••••• /20</div></td>\n    </tr>\n    <tr>\n      <th>81</th>\n      <td><div class=\"not-number\">Hutton's Vireo - HUVI</div></td>\n      <td><div class=\"not-number\">•••••••••••••••••••••••••••••••••••••••••••••••••••••••••••• /20</div></td>\n    </tr>\n    <tr>\n      <th>82</th>\n      <td><div class=\"not-number\">Warbling Vireo - WAVI</div></td>\n      <td><div class=\"not-number\">•••••••••••••••••••••••••••••••••••••••••••••••••••••••••••• /20</div></td>\n    </tr>\n    <tr>\n      <th>83</th>\n      <td><div class=\"not-number\">Red-eyed Vireo - REVI</div></td>\n      <td><div class=\"not-number\">•••••••••••••••••••••••••••••••••••••••••••••••••••••••••••• /20</div></td>\n    </tr>\n    <tr>\n      <th>84</th>\n      <td><div class=\"not-number\">Yellow-green Vireo - YGVI</div></td>\n      <td><div class=\"not-number\">•••••••••••••••••••••••••••••••••••••••••••••••••••••••••••• /20</div></td>\n    </tr>\n    <tr>\n      <th>85</th>\n      <td><div class=\"not-number\">Gray Jay - GRAJ</div></td>\n      <td><div class=\"not-number\">•••••••••••••••••••••••••••••••••••••••••••••••••••••••••••• /20</div></td>\n    </tr>\n    <tr>\n      <th>86</th>\n      <td><div class=\"not-number\">Pinyon Jay - PIJA</div></td>\n      <td><div class=\"not-number\">•••••••••••••••••••••••••••••••••••••••••••••••••••••••••••• /20</div></td>\n    </tr>\n    <tr>\n      <th>87</th>\n      <td><div class=\"not-number\">Steller's Jay - STJA</div></td>\n      <td><div class=\"not-number\">•••••••••••••••••••••••••••••••••••••••••••••••••••••••••••• /20</div></td>\n    </tr>\n    <tr>\n      <th>88</th>\n      <td><div class=\"not-number\">California Scrub-Jay - CASJ</div></td>\n      <td><div class=\"not-number\">•••••••••••••••••••••••••••••••••••••••••••••••••••••••••••• /20</div></td>\n    </tr>\n    <tr>\n      <th>89</th>\n      <td><div class=\"not-number\">Woodhouse's Scrub-Jay - WOSJ</div></td>\n      <td><div class=\"not-number\">•••••••••••••••••••••••••••••••••••••••••••••••••••••••••••• /20</div></td>\n    </tr>\n    <tr>\n      <th>90</th>\n      <td><div class=\"not-number\">Clark's Nutcracker - CLNU</div></td>\n      <td><div class=\"not-number\">•••••••••••••••••••••••••••••••••••••••••••••••••••••••••••• /20</div></td>\n    </tr>\n    <tr>\n      <th>91</th>\n      <td><div class=\"not-number\">Common Raven - CORA</div></td>\n      <td><div class=\"not-number\">•••••••••••••••••••••••••••••••••••••••••••••••••••••••••••• /20</div></td>\n    </tr>\n    <tr>\n      <th>92</th>\n      <td><div class=\"not-number\">Northern Rough-winged Swallow - NRWS</div></td>\n      <td><div class=\"not-number\">•••••••••••••••••••••••••••••••••••••••••••••••••••••••••••• /20</div></td>\n    </tr>\n    <tr>\n      <th>93</th>\n      <td><div class=\"not-number\">Purple Martin - PUMA</div></td>\n      <td><div class=\"not-number\">•••••••••••••••••••••••••••••••••••••••••••••••••••••••••••• /20</div></td>\n    </tr>\n    <tr>\n      <th>94</th>\n      <td><div class=\"not-number\">Violet-green Swallow - VGSW</div></td>\n      <td><div class=\"not-number\">•••••••••••••••••••••••••••••••••••••••••••••••••••••••••••• /20</div></td>\n    </tr>\n    <tr>\n      <th>95</th>\n      <td><div class=\"not-number\">Cliff Swallow - CLSW</div></td>\n      <td><div class=\"not-number\">•••••••••••••••••••••••••••••••••••••••••••••••••••••••••••• /20</div></td>\n    </tr>\n    <tr>\n      <th>96</th>\n      <td><div class=\"not-number\">Mountain Chickadee - MOCH</div></td>\n      <td><div class=\"not-number\">•••••••••••••••••••••••••••••••••••••••••••••••••••••••••••• /20</div></td>\n    </tr>\n    <tr>\n      <th>97</th>\n      <td><div class=\"not-number\">Chestnut-backed Chickadee - CBCH</div></td>\n      <td><div class=\"not-number\">•••••••••••••••••••••••••••••••••••••••••••••••••••••••••••• /20</div></td>\n    </tr>\n    <tr>\n      <th>98</th>\n      <td><div class=\"not-number\">Verdin - VERD</div></td>\n      <td><div class=\"not-number\">•••••••••••••••••••••••••••••••••••••••••••••••••••••••••••• /20</div></td>\n    </tr>\n    <tr>\n      <th>99</th>\n      <td><div class=\"not-number\">Bushtit - BUSH</div></td>\n      <td><div class=\"not-number\">•••••••••••••••••••••••••••••••••••••••••••••••••••••••••••• /20</div></td>\n    </tr>\n    <tr>\n      <th>100</th>\n      <td><div class=\"not-number\">Red-breasted Nuthatch - RBNU</div></td>\n      <td><div class=\"not-number\">•••••••••••••••••••••••••••••••••••••••••••••••••••••••••••• /20</div></td>\n    </tr>\n    <tr>\n      <th>101</th>\n      <td><div class=\"not-number\">Rock Wren - ROWR</div></td>\n      <td><div class=\"not-number\">•••••••••••••••••••••••••••••••••••••••••••••••••••••••••••• /20</div></td>\n    </tr>\n    <tr>\n      <th>102</th>\n      <td><div class=\"not-number\">Canyon Wren - CANW</div></td>\n      <td><div class=\"not-number\">•••••••••••••••••••••••••••••••••••••••••••••••••••••••••••• /20</div></td>\n    </tr>\n    <tr>\n      <th>103</th>\n      <td><div class=\"not-number\">Winter Wren - WIWR</div></td>\n      <td><div class=\"not-number\">•••••••••••••••••••••••••••••••••••••••••••••••••••••••••••• /20</div></td>\n    </tr>\n    <tr>\n      <th>104</th>\n      <td><div class=\"not-number\">Marsh Wren - MAWR</div></td>\n      <td><div class=\"not-number\">•••••••••••••••••••••••••••••••••••••••••••••••••••••••••••• /20</div></td>\n    </tr>\n    <tr>\n      <th>105</th>\n      <td><div class=\"not-number\">Bewick's Wren - BEWR</div></td>\n      <td><div class=\"not-number\">•••••••••••••••••••••••••••••••••••••••••••••••••••••••••••• /20</div></td>\n    </tr>\n    <tr>\n      <th>106</th>\n      <td><div class=\"not-number\">Cactus Wren - CACW</div></td>\n      <td><div class=\"not-number\">•••••••••••••••••••••••••••••••••••••••••••••••••••••••••••• /20</div></td>\n    </tr>\n    <tr>\n      <th>107</th>\n      <td><div class=\"not-number\">California Gnatcatcher - CAGN</div></td>\n      <td><div class=\"not-number\">•••••••••••••••••••••••••••••••••••••••••••••••••••••••••••• /20</div></td>\n    </tr>\n    <tr>\n      <th>108</th>\n      <td><div class=\"not-number\">Black-tailed Gnatcatcher - BTGN</div></td>\n      <td><div class=\"not-number\">•••••••••••••••••••••••••••••••••••••••••••••••••••••••••••• /20</div></td>\n    </tr>\n    <tr>\n      <th>109</th>\n      <td><div class=\"not-number\">American Dipper - AMDI</div></td>\n      <td><div class=\"not-number\">•••••••••••••••••••••••••••••••••••••••••••••••••••••••••••• /20</div></td>\n    </tr>\n    <tr>\n      <th>110</th>\n      <td><div class=\"not-number\">Ruby-crowned Kinglet - RCKI</div></td>\n      <td><div class=\"not-number\">•••••••••••••••••••••••••••••••••••••••••••••••••••••••••••• /20</div></td>\n    </tr>\n    <tr>\n      <th>111</th>\n      <td><div class=\"not-number\">Western Bluebird - WEBL</div></td>\n      <td><div class=\"not-number\">•••••••••••••••••••••••••••••••••••••••••••••••••••••••••••• /20</div></td>\n    </tr>\n    <tr>\n      <th>112</th>\n      <td><div class=\"not-number\">Mountain Bluebird - MOBL</div></td>\n      <td><div class=\"not-number\">•••••••••••••••••••••••••••••••••••••••••••••••••••••••••••• /20</div></td>\n    </tr>\n    <tr>\n      <th>113</th>\n      <td><div class=\"not-number\">Townsend's Solitaire - TOSO</div></td>\n      <td><div class=\"not-number\">•••••••••••••••••••••••••••••••••••••••••••••••••••••••••••• /20</div></td>\n    </tr>\n    <tr>\n      <th>114</th>\n      <td><div class=\"not-number\">Swainson's Thrush - SWTH</div></td>\n      <td><div class=\"not-number\">•••••••••••••••••••••••••••••••••••••••••••••••••••••••••••• /20</div></td>\n    </tr>\n    <tr>\n      <th>115</th>\n      <td><div class=\"not-number\">Hermit Thrush - HETH</div></td>\n      <td><div class=\"not-number\">•••••••••••••••••••••••••••••••••••••••••••••••••••••••••••• /20</div></td>\n    </tr>\n    <tr>\n      <th>116</th>\n      <td><div class=\"not-number\">American Robin - AMRO</div></td>\n      <td><div class=\"not-number\">•••••••••••••••••••••••••••••••••••••••••••••••••••••••••••• /20</div></td>\n    </tr>\n    <tr>\n      <th>117</th>\n      <td><div class=\"not-number\">Gray Catbird - GRCA</div></td>\n      <td><div class=\"not-number\">•••••••••••••••••••••••••••••••••••••••••••••••••••••••••••• /20</div></td>\n    </tr>\n    <tr>\n      <th>118</th>\n      <td><div class=\"not-number\">Bendire's Thrasher - BETH</div></td>\n      <td><div class=\"not-number\">•••••••••••••••••••••••••••••••••••••••••••••••••••••••••••• /20</div></td>\n    </tr>\n    <tr>\n      <th>119</th>\n      <td><div class=\"not-number\">LeConte's Thrasher - LCTH</div></td>\n      <td><div class=\"not-number\">•••••••••••••••••••••••••••••••••••••••••••••••••••••••••••• /20</div></td>\n    </tr>\n    <tr>\n      <th>120</th>\n      <td><div class=\"not-number\">Crissal Thrasher - CRTH</div></td>\n      <td><div class=\"not-number\">•••••••••••••••••••••••••••••••••••••••••••••••••••••••••••• /20</div></td>\n    </tr>\n    <tr>\n      <th>121</th>\n      <td><div class=\"not-number\">European Starling - EUST</div></td>\n      <td><div class=\"not-number\">•••••••••••••••••••••••••••••••••••••••••••••••••••••••••••• /20</div></td>\n    </tr>\n    <tr>\n      <th>122</th>\n      <td><div class=\"not-number\">American Pipit - AMPI</div></td>\n      <td><div class=\"not-number\">•••••••••••••••••••••••••••••••••••••••••••••••••••••••••••• /20</div></td>\n    </tr>\n    <tr>\n      <th>123</th>\n      <td><div class=\"not-number\">Phainopepla - PHAI</div></td>\n      <td><div class=\"not-number\">•••••••••••••••••••••••••••••••••••••••••••••••••••••••••••• /20</div></td>\n    </tr>\n    <tr>\n      <th>124</th>\n      <td><div class=\"not-number\">Lapland Longspur - LALO</div></td>\n      <td><div class=\"not-number\">•••••••••••••••••••••••••••••••••••••••••••••••••••••••••••• /20</div></td>\n    </tr>\n    <tr>\n      <th>125</th>\n      <td><div class=\"not-number\">Northern Waterthrush - NOWA</div></td>\n      <td><div class=\"not-number\">•••••••••••••••••••••••••••••••••••••••••••••••••••••••••••• /20</div></td>\n    </tr>\n    <tr>\n      <th>126</th>\n      <td><div class=\"not-number\">Orange-crowned Warbler - OCWA</div></td>\n      <td><div class=\"not-number\">•••••••••••••••••••••••••••••••••••••••••••••••••••••••••••• /20</div></td>\n    </tr>\n    <tr>\n      <th>127</th>\n      <td><div class=\"not-number\">Lucy's Warbler - LUWA</div></td>\n      <td><div class=\"not-number\">•••••••••••••••••••••••••••••••••••••••••••••••••••••••••••• /20</div></td>\n    </tr>\n    <tr>\n      <th>128</th>\n      <td><div class=\"not-number\">Nashville Warbler - NAWA</div></td>\n      <td><div class=\"not-number\">•••••••••••••••••••••••••••••••••••••••••••••••••••••••••••• /20</div></td>\n    </tr>\n    <tr>\n      <th>129</th>\n      <td><div class=\"not-number\">MacGillivray's Warbler - MGWA</div></td>\n      <td><div class=\"not-number\">•••••••••••••••••••••••••••••••••••••••••••••••••••••••••••• /20</div></td>\n    </tr>\n    <tr>\n      <th>130</th>\n      <td><div class=\"not-number\">Common Yellowthroat - COYE</div></td>\n      <td><div class=\"not-number\">•••••••••••••••••••••••••••••••••••••••••••••••••••••••••••• /20</div></td>\n    </tr>\n    <tr>\n      <th>131</th>\n      <td><div class=\"not-number\">Hooded Warbler - HOWA</div></td>\n      <td><div class=\"not-number\">•••••••••••••••••••••••••••••••••••••••••••••••••••••••••••• /20</div></td>\n    </tr>\n    <tr>\n      <th>132</th>\n      <td><div class=\"not-number\">Northern Parula - NOPA</div></td>\n      <td><div class=\"not-number\">•••••••••••••••••••••••••••••••••••••••••••••••••••••••••••• /20</div></td>\n    </tr>\n    <tr>\n      <th>133</th>\n      <td><div class=\"not-number\">Chestnut-sided Warbler - CSWA</div></td>\n      <td><div class=\"not-number\">•••••••••••••••••••••••••••••••••••••••••••••••••••••••••••• /20</div></td>\n    </tr>\n    <tr>\n      <th>134</th>\n      <td><div class=\"not-number\">Yellow-rumped Warbler - YRWA</div></td>\n      <td><div class=\"not-number\">•••••••••••••••••••••••••••••••••••••••••••••••••••••••••••• /20</div></td>\n    </tr>\n    <tr>\n      <th>135</th>\n      <td><div class=\"not-number\">Prairie Warbler - PRAW</div></td>\n      <td><div class=\"not-number\">•••••••••••••••••••••••••••••••••••••••••••••••••••••••••••• /20</div></td>\n    </tr>\n    <tr>\n      <th>136</th>\n      <td><div class=\"not-number\">Grace's Warbler - GRWA</div></td>\n      <td><div class=\"not-number\">•••••••••••••••••••••••••••••••••••••••••••••••••••••••••••• /20</div></td>\n    </tr>\n    <tr>\n      <th>137</th>\n      <td><div class=\"not-number\">Hermit Warbler - HEWA</div></td>\n      <td><div class=\"not-number\">•••••••••••••••••••••••••••••••••••••••••••••••••••••••••••• /20</div></td>\n    </tr>\n    <tr>\n      <th>138</th>\n      <td><div class=\"not-number\">Cassin's Sparrow - CASP</div></td>\n      <td><div class=\"not-number\">•••••••••••••••••••••••••••••••••••••••••••••••••••••••••••• /20</div></td>\n    </tr>\n    <tr>\n      <th>139</th>\n      <td><div class=\"not-number\">Black-chinned Sparrow - BCSP</div></td>\n      <td><div class=\"not-number\">•••••••••••••••••••••••••••••••••••••••••••••••••••••••••••• /20</div></td>\n    </tr>\n    <tr>\n      <th>140</th>\n      <td><div class=\"not-number\">Black-throated Sparrow - BTSP</div></td>\n      <td><div class=\"not-number\">•••••••••••••••••••••••••••••••••••••••••••••••••••••••••••• /20</div></td>\n    </tr>\n    <tr>\n      <th>141</th>\n      <td><div class=\"not-number\">Lark Sparrow - LASP</div></td>\n      <td><div class=\"not-number\">•••••••••••••••••••••••••••••••••••••••••••••••••••••••••••• /20</div></td>\n    </tr>\n    <tr>\n      <th>142</th>\n      <td><div class=\"not-number\">Fox Sparrow - FOSP</div></td>\n      <td><div class=\"not-number\">•••••••••••••••••••••••••••••••••••••••••••••••••••••••••••• /20</div></td>\n    </tr>\n    <tr>\n      <th>143</th>\n      <td><div class=\"not-number\">White-crowned Sparrow - WCSP</div></td>\n      <td><div class=\"not-number\">•••••••••••••••••••••••••••••••••••••••••••••••••••••••••••• /20</div></td>\n    </tr>\n    <tr>\n      <th>144</th>\n      <td><div class=\"not-number\">Golden-crowned Sparrow - GCSP</div></td>\n      <td><div class=\"not-number\">•••••••••••••••••••••••••••••••••••••••••••••••••••••••••••• /20</div></td>\n    </tr>\n    <tr>\n      <th>145</th>\n      <td><div class=\"not-number\">White-throated Sparrow - WTSP</div></td>\n      <td><div class=\"not-number\">•••••••••••••••••••••••••••••••••••••••••••••••••••••••••••• /20</div></td>\n    </tr>\n    <tr>\n      <th>146</th>\n      <td><div class=\"not-number\">Vesper Sparrow - VESP</div></td>\n      <td><div class=\"not-number\">•••••••••••••••••••••••••••••••••••••••••••••••••••••••••••• /20</div></td>\n    </tr>\n    <tr>\n      <th>147</th>\n      <td><div class=\"not-number\">Song Sparrow - SOSP</div></td>\n      <td><div class=\"not-number\">•••••••••••••••••••••••••••••••••••••••••••••••••••••••••••• /20</div></td>\n    </tr>\n    <tr>\n      <th>148</th>\n      <td><div class=\"not-number\">Lincoln's Sparrow - LISP</div></td>\n      <td><div class=\"not-number\">•••••••••••••••••••••••••••••••••••••••••••••••••••••••••••• /20</div></td>\n    </tr>\n    <tr>\n      <th>149</th>\n      <td><div class=\"not-number\">Rufous-crowned Sparrow - RCSP</div></td>\n      <td><div class=\"not-number\">•••••••••••••••••••••••••••••••••••••••••••••••••••••••••••• /20</div></td>\n    </tr>\n    <tr>\n      <th>150</th>\n      <td><div class=\"not-number\">Yellow-breasted Chat - YBCH</div></td>\n      <td><div class=\"not-number\">•••••••••••••••••••••••••••••••••••••••••••••••••••••••••••• /20</div></td>\n    </tr>\n    <tr>\n      <th>151</th>\n      <td><div class=\"not-number\">Western Tanager - WETA</div></td>\n      <td><div class=\"not-number\">•••••••••••••••••••••••••••••••••••••••••••••••••••••••••••• /20</div></td>\n    </tr>\n    <tr>\n      <th>152</th>\n      <td><div class=\"not-number\">Northern Cardinal - NOCA</div></td>\n      <td><div class=\"not-number\">•••••••••••••••••••••••••••••••••••••••••••••••••••••••••••• /20</div></td>\n    </tr>\n    <tr>\n      <th>153</th>\n      <td><div class=\"not-number\">Rose-breasted Grosbeak - RBGR</div></td>\n      <td><div class=\"not-number\">•••••••••••••••••••••••••••••••••••••••••••••••••••••••••••• /20</div></td>\n    </tr>\n    <tr>\n      <th>154</th>\n      <td><div class=\"not-number\">Indigo Bunting - INBU</div></td>\n      <td><div class=\"not-number\">•••••••••••••••••••••••••••••••••••••••••••••••••••••••••••• /20</div></td>\n    </tr>\n    <tr>\n      <th>155</th>\n      <td><div class=\"not-number\">Yellow-headed Blackbird - YHBL</div></td>\n      <td><div class=\"not-number\">•••••••••••••••••••••••••••••••••••••••••••••••••••••••••••• /20</div></td>\n    </tr>\n    <tr>\n      <th>156</th>\n      <td><div class=\"not-number\">Scott's Oriole - SCOR</div></td>\n      <td><div class=\"not-number\">•••••••••••••••••••••••••••••••••••••••••••••••••••••••••••• /20</div></td>\n    </tr>\n    <tr>\n      <th>157</th>\n      <td><div class=\"not-number\">Red-winged Blackbird - RWBL</div></td>\n      <td><div class=\"not-number\">•••••••••••••••••••••••••••••••••••••••••••••••••••••••••••• /20</div></td>\n    </tr>\n    <tr>\n      <th>158</th>\n      <td><div class=\"not-number\">Brewer's Blackbird - BRBL</div></td>\n      <td><div class=\"not-number\">•••••••••••••••••••••••••••••••••••••••••••••••••••••••••••• /20</div></td>\n    </tr>\n    <tr>\n      <th>159</th>\n      <td><div class=\"not-number\">Great-tailed Grackle - GTGR</div></td>\n      <td><div class=\"not-number\">•••••••••••••••••••••••••••••••••••••••••••••••••••••••••••• /20</div></td>\n    </tr>\n    <tr>\n      <th>160</th>\n      <td><div class=\"not-number\">Pine Grosbeak - PIGR</div></td>\n      <td><div class=\"not-number\">•••••••••••••••••••••••••••••••••••••••••••••••••••••••••••• /20</div></td>\n    </tr>\n    <tr>\n      <th>161</th>\n      <td><div class=\"not-number\">House Finch - HOFI</div></td>\n      <td><div class=\"not-number\">•••••••••••••••••••••••••••••••••••••••••••••••••••••••••••• /20</div></td>\n    </tr>\n    <tr>\n      <th>162</th>\n      <td><div class=\"not-number\">Purple Finch - PUFI</div></td>\n      <td><div class=\"not-number\">•••••••••••••••••••••••••••••••••••••••••••••••••••••••••••• /20</div></td>\n    </tr>\n    <tr>\n      <th>163</th>\n      <td><div class=\"not-number\">Cassin's Finch - CAFI</div></td>\n      <td><div class=\"not-number\">•••••••••••••••••••••••••••••••••••••••••••••••••••••••••••• /20</div></td>\n    </tr>\n    <tr>\n      <th>164</th>\n      <td><div class=\"not-number\">Pine Siskin - PISI</div></td>\n      <td><div class=\"not-number\">•••••••••••••••••••••••••••••••••••••••••••••••••••••••••••• /20</div></td>\n    </tr>\n    <tr>\n      <th>165</th>\n      <td><div class=\"not-number\">Lesser Goldfinch - LEGO</div></td>\n      <td><div class=\"not-number\">•••••••••••••••••••••••••••••••••••••••••••••••••••••••••••• /20</div></td>\n    </tr>\n    <tr>\n      <th>166</th>\n      <td><div class=\"not-number\">Lawrence's Goldfinch - LAGO</div></td>\n      <td><div class=\"not-number\">•••••••••••••••••••••••••••••••••••••••••••••••••••••••••••• /20</div></td>\n    </tr>\n    <tr>\n      <th>167</th>\n      <td><div class=\"not-number\">American Goldfinch - AMGO</div></td>\n      <td><div class=\"not-number\">•••••••••••••••••••••••••••••••••••••••••••••••••••••••••••• /20</div></td>\n    </tr>\n  </tbody>\n</table>",
      "text/plain": "                         species_longhand                                                          num_recs\n0      Greater White-fronted Goose - GWFG  •••••••••••••••••••••••••••••••••••••••••••••••••••••••••••• /20\n1                          Gadwall - GADW  •••••••••••••••••••••••••••••••••••••••••••••••••••••••••••• /20\n2                  American Wigeon - AMWI  •••••••••••••••••••••••••••••••••••••••••••••••••••••••••••• /20\n3                          Mallard - MALL  •••••••••••••••••••••••••••••••••••••••••••••••••••••••••••• /20\n4                Green-winged Teal - GWTE  •••••••••••••••••••••••••••••••••••••••••••••••••••••••••••• /20\n5                 California Quail - CAQU  •••••••••••••••••••••••••••••••••••••••••••••••••••••••••••• /20\n6                   Gambel's Quail - GAQU  •••••••••••••••••••••••••••••••••••••••••••••••••••••••••••• /20\n7                     Sooty Grouse - SOGR  •••••••••••••••••••••••••••••••••••••••••••••••••••••••••••• /20\n8                      Wild Turkey - WITU  •••••••••••••••••••••••••••••••••••••••••••••••••••••••••••• /20\n9                      Common Loon - COLO  •••••••••••••••••••••••••••••••••••••••••••••••••••••••••••• /20\n10                Red-necked Grebe - RNGR  •••••••••••••••••••••••••••••••••••••••••••••••••••••••••••• /20\n11          Black-footed Albatross - BFAL  •••••••••••••••••••••••••••••••••••••••••••••••••••••••••••• /20\n12        Double-crested Cormorant - DCCO  •••••••••••••••••••••••••••••••••••••••••••••••••••••••••••• /20\n13                American Bittern - AMBI  •••••••••••••••••••••••••••••••••••••••••••••••••••••••••••• /20\n14                   Least Bittern - LEBI  •••••••••••••••••••••••••••••••••••••••••••••••••••••••••••• /20\n15                Great Blue Heron - GBHE  •••••••••••••••••••••••••••••••••••••••••••••••••••••••••••• /20\n16                     Great Egret - GREG  •••••••••••••••••••••••••••••••••••••••••••••••••••••••••••• /20\n17                     Snowy Egret - SNEG  •••••••••••••••••••••••••••••••••••••••••••••••••••••••••••• /20\n18                          Osprey - OSPR  •••••••••••••••••••••••••••••••••••••••••••••••••••••••••••• /20\n19                 Swainson's Hawk - SWHA  •••••••••••••••••••••••••••••••••••••••••••••••••••••••••••• /20\n20                 Red-tailed Hawk - RTHA  •••••••••••••••••••••••••••••••••••••••••••••••••••••••••••• /20\n21                      Black Rail - BLRA  •••••••••••••••••••••••••••••••••••••••••••••••••••••••••••• /20\n22                  Ridgway's Rail - RIRA  •••••••••••••••••••••••••••••••••••••••••••••••••••••••••••• /20\n23                Common Gallinule - COGA  •••••••••••••••••••••••••••••••••••••••••••••••••••••••••••• /20\n24              Black-necked Stilt - BNST  •••••••••••••••••••••••••••••••••••••••••••••••••••••••••••• /20\n25             Black Oystercatcher - BLOY  •••••••••••••••••••••••••••••••••••••••••••••••••••••••••••• /20\n26             Semipalmated Plover - SEPL  •••••••••••••••••••••••••••••••••••••••••••••••••••••••••••• /20\n27                        Whimbrel - WHIM  •••••••••••••••••••••••••••••••••••••••••••••••••••••••••••• /20\n28              Long-billed Curlew - LBCU  •••••••••••••••••••••••••••••••••••••••••••••••••••••••••••• /20\n29                  Rock Sandpiper - ROSA  •••••••••••••••••••••••••••••••••••••••••••••••••••••••••••• /20\n30                 Least Sandpiper - LESA  •••••••••••••••••••••••••••••••••••••••••••••••••••••••••••• /20\n31           Long-billed Dowitcher - LBDO  •••••••••••••••••••••••••••••••••••••••••••••••••••••••••••• /20\n32            Red-necked Phalarope - RNPH  •••••••••••••••••••••••••••••••••••••••••••••••••••••••••••• /20\n33              Greater Yellowlegs - GRYE  •••••••••••••••••••••••••••••••••••••••••••••••••••••••••••• /20\n34                Bonaparte's Gull - BOGU  •••••••••••••••••••••••••••••••••••••••••••••••••••••••••••• /20\n35                   Laughing Gull - LAGU  •••••••••••••••••••••••••••••••••••••••••••••••••••••••••••• /20\n36                 Heermann's Gull - HEEG  •••••••••••••••••••••••••••••••••••••••••••••••••••••••••••• /20\n37                Ring-billed Gull - RBGU  •••••••••••••••••••••••••••••••••••••••••••••••••••••••••••• /20\n38                    Western Gull - WEGU  •••••••••••••••••••••••••••••••••••••••••••••••••••••••••••• /20\n39                 California Gull - CAGU  •••••••••••••••••••••••••••••••••••••••••••••••••••••••••••• /20\n40            Glaucous-winged Gull - GWGU  •••••••••••••••••••••••••••••••••••••••••••••••••••••••••••• /20\n41                Gull-billed Tern - GBTE  •••••••••••••••••••••••••••••••••••••••••••••••••••••••••••• /20\n42                    Caspian Tern - CATE  •••••••••••••••••••••••••••••••••••••••••••••••••••••••••••• /20\n43                      Black Tern - BLTE  •••••••••••••••••••••••••••••••••••••••••••••••••••••••••••• /20\n44                      Royal Tern - ROYT  •••••••••••••••••••••••••••••••••••••••••••••••••••••••••••• /20\n45              Band-tailed Pigeon - BTPI  •••••••••••••••••••••••••••••••••••••••••••••••••••••••••••• /20\n46                       Inca Dove - INDO  •••••••••••••••••••••••••••••••••••••••••••••••••••••••••••• /20\n47              Common Ground-Dove - COGD  •••••••••••••••••••••••••••••••••••••••••••••••••••••••••••• /20\n48            Yellow-billed Cuckoo - YBCU  •••••••••••••••••••••••••••••••••••••••••••••••••••••••••••• /20\n49                        Barn Owl - BANO  •••••••••••••••••••••••••••••••••••••••••••••••••••••••••••• /20\n50                Great Horned Owl - GHOW  •••••••••••••••••••••••••••••••••••••••••••••••••••••••••••• /20\n51                         Elf Owl - ELOW  •••••••••••••••••••••••••••••••••••••••••••••••••••••••••••• /20\n52                     Spotted Owl - SPOW  •••••••••••••••••••••••••••••••••••••••••••••••••••••••••••• /20\n53                Lesser Nighthawk - LENI  •••••••••••••••••••••••••••••••••••••••••••••••••••••••••••• /20\n54                Common Nighthawk - CONI  •••••••••••••••••••••••••••••••••••••••••••••••••••••••••••• /20\n55                 Common Poorwill - COPO  •••••••••••••••••••••••••••••••••••••••••••••••••••••••••••• /20\n56          Eastern Whip-poor-will - EWPW  •••••••••••••••••••••••••••••••••••••••••••••••••••••••••••• /20\n57          Mexican Whip-poor-will - MWPW  •••••••••••••••••••••••••••••••••••••••••••••••••••••••••••• /20\n58            White-throated Swift - WTSW  •••••••••••••••••••••••••••••••••••••••••••••••••••••••••••• /20\n59       Black-chinned Hummingbird - BCHU  •••••••••••••••••••••••••••••••••••••••••••••••••••••••••••• /20\n60        Broad-tailed Hummingbird - BTAH  •••••••••••••••••••••••••••••••••••••••••••••••••••••••••••• /20\n61                Acorn Woodpecker - ACWO  •••••••••••••••••••••••••••••••••••••••••••••••••••••••••••• /20\n62          Williamson's Sapsucker - WISA  •••••••••••••••••••••••••••••••••••••••••••••••••••••••••••• /20\n63          Red-breasted Sapsucker - RBSA  •••••••••••••••••••••••••••••••••••••••••••••••••••••••••••• /20\n64        Ladder-backed Woodpecker - LBWO  •••••••••••••••••••••••••••••••••••••••••••••••••••••••••••• /20\n65            Nuttall's Woodpecker - NUWO  •••••••••••••••••••••••••••••••••••••••••••••••••••••••••••• /20\n66                Hairy Woodpecker - HAWO  •••••••••••••••••••••••••••••••••••••••••••••••••••••••••••• /20\n67         White-headed Woodpecker - WHWO  •••••••••••••••••••••••••••••••••••••••••••••••••••••••••••• /20\n68         Black-backed Woodpecker - BBWO  •••••••••••••••••••••••••••••••••••••••••••••••••••••••••••• /20\n69                Northern Flicker - NOFL  •••••••••••••••••••••••••••••••••••••••••••••••••••••••••••• /20\n70              Western Wood-Pewee - WEWP  •••••••••••••••••••••••••••••••••••••••••••••••••••••••••••• /20\n71                Least Flycatcher - LEFL  •••••••••••••••••••••••••••••••••••••••••••••••••••••••••••• /20\n72                 Gray Flycatcher - GRFL  •••••••••••••••••••••••••••••••••••••••••••••••••••••••••••• /20\n73                Dusky Flycatcher - DUFL  •••••••••••••••••••••••••••••••••••••••••••••••••••••••••••• /20\n74        Pacific-slope Flycatcher - PSFL  •••••••••••••••••••••••••••••••••••••••••••••••••••••••••••• /20\n75                  Eastern Phoebe - EAPH  •••••••••••••••••••••••••••••••••••••••••••••••••••••••••••• /20\n76                    Say's Phoebe - SAPH  •••••••••••••••••••••••••••••••••••••••••••••••••••••••••••• /20\n77            Vermilion Flycatcher - VEFL  •••••••••••••••••••••••••••••••••••••••••••••••••••••••••••• /20\n78         Dusky-capped Flycatcher - DCFL  •••••••••••••••••••••••••••••••••••••••••••••••••••••••••••• /20\n79               Tropical Kingbird - TRKI  •••••••••••••••••••••••••••••••••••••••••••••••••••••••••••• /20\n80                Couch's Kingbird - COKI  •••••••••••••••••••••••••••••••••••••••••••••••••••••••••••• /20\n81                  Hutton's Vireo - HUVI  •••••••••••••••••••••••••••••••••••••••••••••••••••••••••••• /20\n82                  Warbling Vireo - WAVI  •••••••••••••••••••••••••••••••••••••••••••••••••••••••••••• /20\n83                  Red-eyed Vireo - REVI  •••••••••••••••••••••••••••••••••••••••••••••••••••••••••••• /20\n84              Yellow-green Vireo - YGVI  •••••••••••••••••••••••••••••••••••••••••••••••••••••••••••• /20\n85                        Gray Jay - GRAJ  •••••••••••••••••••••••••••••••••••••••••••••••••••••••••••• /20\n86                      Pinyon Jay - PIJA  •••••••••••••••••••••••••••••••••••••••••••••••••••••••••••• /20\n87                   Steller's Jay - STJA  •••••••••••••••••••••••••••••••••••••••••••••••••••••••••••• /20\n88            California Scrub-Jay - CASJ  •••••••••••••••••••••••••••••••••••••••••••••••••••••••••••• /20\n89           Woodhouse's Scrub-Jay - WOSJ  •••••••••••••••••••••••••••••••••••••••••••••••••••••••••••• /20\n90              Clark's Nutcracker - CLNU  •••••••••••••••••••••••••••••••••••••••••••••••••••••••••••• /20\n91                    Common Raven - CORA  •••••••••••••••••••••••••••••••••••••••••••••••••••••••••••• /20\n92   Northern Rough-winged Swallow - NRWS  •••••••••••••••••••••••••••••••••••••••••••••••••••••••••••• /20\n93                   Purple Martin - PUMA  •••••••••••••••••••••••••••••••••••••••••••••••••••••••••••• /20\n94            Violet-green Swallow - VGSW  •••••••••••••••••••••••••••••••••••••••••••••••••••••••••••• /20\n95                   Cliff Swallow - CLSW  •••••••••••••••••••••••••••••••••••••••••••••••••••••••••••• /20\n96              Mountain Chickadee - MOCH  •••••••••••••••••••••••••••••••••••••••••••••••••••••••••••• /20\n97       Chestnut-backed Chickadee - CBCH  •••••••••••••••••••••••••••••••••••••••••••••••••••••••••••• /20\n98                          Verdin - VERD  •••••••••••••••••••••••••••••••••••••••••••••••••••••••••••• /20\n99                         Bushtit - BUSH  •••••••••••••••••••••••••••••••••••••••••••••••••••••••••••• /20\n100          Red-breasted Nuthatch - RBNU  •••••••••••••••••••••••••••••••••••••••••••••••••••••••••••• /20\n101                      Rock Wren - ROWR  •••••••••••••••••••••••••••••••••••••••••••••••••••••••••••• /20\n102                    Canyon Wren - CANW  •••••••••••••••••••••••••••••••••••••••••••••••••••••••••••• /20\n103                    Winter Wren - WIWR  •••••••••••••••••••••••••••••••••••••••••••••••••••••••••••• /20\n104                     Marsh Wren - MAWR  •••••••••••••••••••••••••••••••••••••••••••••••••••••••••••• /20\n105                  Bewick's Wren - BEWR  •••••••••••••••••••••••••••••••••••••••••••••••••••••••••••• /20\n106                    Cactus Wren - CACW  •••••••••••••••••••••••••••••••••••••••••••••••••••••••••••• /20\n107         California Gnatcatcher - CAGN  •••••••••••••••••••••••••••••••••••••••••••••••••••••••••••• /20\n108       Black-tailed Gnatcatcher - BTGN  •••••••••••••••••••••••••••••••••••••••••••••••••••••••••••• /20\n109                American Dipper - AMDI  •••••••••••••••••••••••••••••••••••••••••••••••••••••••••••• /20\n110           Ruby-crowned Kinglet - RCKI  •••••••••••••••••••••••••••••••••••••••••••••••••••••••••••• /20\n111               Western Bluebird - WEBL  •••••••••••••••••••••••••••••••••••••••••••••••••••••••••••• /20\n112              Mountain Bluebird - MOBL  •••••••••••••••••••••••••••••••••••••••••••••••••••••••••••• /20\n113           Townsend's Solitaire - TOSO  •••••••••••••••••••••••••••••••••••••••••••••••••••••••••••• /20\n114              Swainson's Thrush - SWTH  •••••••••••••••••••••••••••••••••••••••••••••••••••••••••••• /20\n115                  Hermit Thrush - HETH  •••••••••••••••••••••••••••••••••••••••••••••••••••••••••••• /20\n116                 American Robin - AMRO  •••••••••••••••••••••••••••••••••••••••••••••••••••••••••••• /20\n117                   Gray Catbird - GRCA  •••••••••••••••••••••••••••••••••••••••••••••••••••••••••••• /20\n118             Bendire's Thrasher - BETH  •••••••••••••••••••••••••••••••••••••••••••••••••••••••••••• /20\n119             LeConte's Thrasher - LCTH  •••••••••••••••••••••••••••••••••••••••••••••••••••••••••••• /20\n120               Crissal Thrasher - CRTH  •••••••••••••••••••••••••••••••••••••••••••••••••••••••••••• /20\n121              European Starling - EUST  •••••••••••••••••••••••••••••••••••••••••••••••••••••••••••• /20\n122                 American Pipit - AMPI  •••••••••••••••••••••••••••••••••••••••••••••••••••••••••••• /20\n123                    Phainopepla - PHAI  •••••••••••••••••••••••••••••••••••••••••••••••••••••••••••• /20\n124               Lapland Longspur - LALO  •••••••••••••••••••••••••••••••••••••••••••••••••••••••••••• /20\n125           Northern Waterthrush - NOWA  •••••••••••••••••••••••••••••••••••••••••••••••••••••••••••• /20\n126         Orange-crowned Warbler - OCWA  •••••••••••••••••••••••••••••••••••••••••••••••••••••••••••• /20\n127                 Lucy's Warbler - LUWA  •••••••••••••••••••••••••••••••••••••••••••••••••••••••••••• /20\n128              Nashville Warbler - NAWA  •••••••••••••••••••••••••••••••••••••••••••••••••••••••••••• /20\n129         MacGillivray's Warbler - MGWA  •••••••••••••••••••••••••••••••••••••••••••••••••••••••••••• /20\n130            Common Yellowthroat - COYE  •••••••••••••••••••••••••••••••••••••••••••••••••••••••••••• /20\n131                 Hooded Warbler - HOWA  •••••••••••••••••••••••••••••••••••••••••••••••••••••••••••• /20\n132                Northern Parula - NOPA  •••••••••••••••••••••••••••••••••••••••••••••••••••••••••••• /20\n133         Chestnut-sided Warbler - CSWA  •••••••••••••••••••••••••••••••••••••••••••••••••••••••••••• /20\n134          Yellow-rumped Warbler - YRWA  •••••••••••••••••••••••••••••••••••••••••••••••••••••••••••• /20\n135                Prairie Warbler - PRAW  •••••••••••••••••••••••••••••••••••••••••••••••••••••••••••• /20\n136                Grace's Warbler - GRWA  •••••••••••••••••••••••••••••••••••••••••••••••••••••••••••• /20\n137                 Hermit Warbler - HEWA  •••••••••••••••••••••••••••••••••••••••••••••••••••••••••••• /20\n138               Cassin's Sparrow - CASP  •••••••••••••••••••••••••••••••••••••••••••••••••••••••••••• /20\n139          Black-chinned Sparrow - BCSP  •••••••••••••••••••••••••••••••••••••••••••••••••••••••••••• /20\n140         Black-throated Sparrow - BTSP  •••••••••••••••••••••••••••••••••••••••••••••••••••••••••••• /20\n141                   Lark Sparrow - LASP  •••••••••••••••••••••••••••••••••••••••••••••••••••••••••••• /20\n142                    Fox Sparrow - FOSP  •••••••••••••••••••••••••••••••••••••••••••••••••••••••••••• /20\n143          White-crowned Sparrow - WCSP  •••••••••••••••••••••••••••••••••••••••••••••••••••••••••••• /20\n144         Golden-crowned Sparrow - GCSP  •••••••••••••••••••••••••••••••••••••••••••••••••••••••••••• /20\n145         White-throated Sparrow - WTSP  •••••••••••••••••••••••••••••••••••••••••••••••••••••••••••• /20\n146                 Vesper Sparrow - VESP  •••••••••••••••••••••••••••••••••••••••••••••••••••••••••••• /20\n147                   Song Sparrow - SOSP  •••••••••••••••••••••••••••••••••••••••••••••••••••••••••••• /20\n148              Lincoln's Sparrow - LISP  •••••••••••••••••••••••••••••••••••••••••••••••••••••••••••• /20\n149         Rufous-crowned Sparrow - RCSP  •••••••••••••••••••••••••••••••••••••••••••••••••••••••••••• /20\n150           Yellow-breasted Chat - YBCH  •••••••••••••••••••••••••••••••••••••••••••••••••••••••••••• /20\n151                Western Tanager - WETA  •••••••••••••••••••••••••••••••••••••••••••••••••••••••••••• /20\n152              Northern Cardinal - NOCA  •••••••••••••••••••••••••••••••••••••••••••••••••••••••••••• /20\n153         Rose-breasted Grosbeak - RBGR  •••••••••••••••••••••••••••••••••••••••••••••••••••••••••••• /20\n154                 Indigo Bunting - INBU  •••••••••••••••••••••••••••••••••••••••••••••••••••••••••••• /20\n155        Yellow-headed Blackbird - YHBL  •••••••••••••••••••••••••••••••••••••••••••••••••••••••••••• /20\n156                 Scott's Oriole - SCOR  •••••••••••••••••••••••••••••••••••••••••••••••••••••••••••• /20\n157           Red-winged Blackbird - RWBL  •••••••••••••••••••••••••••••••••••••••••••••••••••••••••••• /20\n158             Brewer's Blackbird - BRBL  •••••••••••••••••••••••••••••••••••••••••••••••••••••••••••• /20\n159           Great-tailed Grackle - GTGR  •••••••••••••••••••••••••••••••••••••••••••••••••••••••••••• /20\n160                  Pine Grosbeak - PIGR  •••••••••••••••••••••••••••••••••••••••••••••••••••••••••••• /20\n161                    House Finch - HOFI  •••••••••••••••••••••••••••••••••••••••••••••••••••••••••••• /20\n162                   Purple Finch - PUFI  •••••••••••••••••••••••••••••••••••••••••••••••••••••••••••• /20\n163                 Cassin's Finch - CAFI  •••••••••••••••••••••••••••••••••••••••••••••••••••••••••••• /20\n164                    Pine Siskin - PISI  •••••••••••••••••••••••••••••••••••••••••••••••••••••••••••• /20\n165               Lesser Goldfinch - LEGO  •••••••••••••••••••••••••••••••••••••••••••••••••••••••••••• /20\n166           Lawrence's Goldfinch - LAGO  •••••••••••••••••••••••••••••••••••••••••••••••••••••••••••• /20\n167             American Goldfinch - AMGO  •••••••••••••••••••••••••••••••••••••••••••••••••••••••••••• /20"
     },
     "execution_count": 6,
     "metadata": {},
     "output_type": "execute_result"
    }
   ],
   "source": [
    "# Fast-and-cheap version (<1s) of the plot below (7s)\n",
    "(recs\n",
    "    .species_longhand.value_counts().sort_index()\n",
    "    .reset_index().rename(columns={'index': 'species_longhand', 'species_longhand': 'num_recs'})\n",
    "    .assign(num_recs=lambda df: df.num_recs.map(lambda n: '%s /%s' % ('•' * int(n / df.num_recs.max() * 60), df.num_recs.max())))\n",
    ")"
   ]
  },
  {
   "cell_type": "code",
   "execution_count": null,
   "metadata": {
    "skip": true
   },
   "outputs": [
    {
     "name": "stdout",
     "output_type": "stream",
     "text": "[skip]"
    }
   ],
   "source": [
    "(recs\n",
    "    .assign(species=lambda df: df.species_longhand)\n",
    "    .assign(count=1)\n",
    "    # 0-fill all (species, dataset) combinations to create empty placeholders for missing bars\n",
    "    .pipe(lambda df: df.append(\n",
    "        pd.DataFrame([\n",
    "            dict(species=species, dataset=dataset, duration_s=0)\n",
    "            for species in df.species.unique()\n",
    "            for dataset in df.dataset.unique()\n",
    "        ])\n",
    "        .astype({'species': df.species.dtype})\n",
    "    ))\n",
    "    .groupby(['dataset', 'species'])[['count', 'duration_s']].sum().reset_index()\n",
    "    # Order by species by taxo\n",
    "    .pipe(df_reverse_cat, 'species')\n",
    "    # Order by species by count\n",
    "    # .pipe(df_ordered_cat, species=lambda df: df.sort_values('count').species)\n",
    "    .pipe(pd.melt, id_vars=['dataset', 'species'], value_vars=['count', 'duration_s'])\n",
    "    .pipe(df_remove_unused_categories)\n",
    "    .pipe(ggplot, aes(x='species', y='value', fill='dataset', color='dataset'))\n",
    "    + coord_flip()\n",
    "    + geom_bar(stat='identity', position=position_dodge(), width=.8)\n",
    "    + facet_wrap('variable', nrow=1, scales='free')\n",
    "    + xlab('')\n",
    "    + ylab('')\n",
    "    + scale_fill_cmap_d(mpl_cmap_concat('tab20', 'tab20b', 'tab20c'))\n",
    "    + scale_color_cmap_d(mpl_cmap_concat('tab20', 'tab20b', 'tab20c'))\n",
    "    + theme(panel_spacing=2.5)\n",
    "    + theme_figsize(width=18, aspect_ratio=4/1)\n",
    "    + ggtitle(f'recs: Total (count, duration_s) per (species, dataset)')\n",
    ")"
   ]
  },
  {
   "cell_type": "code",
   "execution_count": null,
   "metadata": {},
   "outputs": [],
   "source": [
    "# Add .feat\n",
    "recs = projection.transform(recs)"
   ]
  },
  {
   "cell_type": "code",
   "execution_count": null,
   "metadata": {},
   "outputs": [],
   "source": [
    "# GridSearchCV many models / model params\n",
    "#   - Order these roughly from most to least expensive, so that training runs fail fast (e.g. oom at the start, not the end)\n",
    "param_grid = list(unique_everseen([\n",
    "    dict(\n",
    "        classifier=[classifier],\n",
    "        n_species=[n_species if isinstance(n_species, int) else int(n_species * _recs_stats['sp'])],\n",
    "        n_recs=[\n",
    "            # n_recs if isinstance(n_recs, int) else int(n_recs * _recs_stats['recs']),\n",
    "            # TODO Figure out how to represent this as an n instead of a frac again [TODO interaction with test_size=.2 ...]\n",
    "            #   - TODO Also make clear in the plot descs when e.g. (recs[3360], n_species[33], n_recs[1.0]) -> n_recs[33*20 < 3360]\n",
    "            n_recs,\n",
    "        ],\n",
    "    )\n",
    "    for (n_species, n_recs) in [\n",
    "        # Subset for learning curves\n",
    "        #   - Biggest first, to fail fast\n",
    "\n",
    "        # (None, None),\n",
    "\n",
    "        (1.00, 1.00),\n",
    "        (1.00, 0.50),\n",
    "        (0.50, 1.00),\n",
    "\n",
    "        # (0.10, 0.10),  # Faster dev\n",
    "\n",
    "    ]\n",
    "    # model_size ~ forest_depth\n",
    "    for rf_mean_depth_at_168_sp in [93.5]\n",
    "    for rf_max_depth in [\n",
    "        'null',\n",
    "        int(rf_mean_depth_at_168_sp * n_species * 1),\n",
    "        int(rf_mean_depth_at_168_sp * n_species * 3/4),\n",
    "        int(rf_mean_depth_at_168_sp * n_species * 1/2),\n",
    "        int(rf_mean_depth_at_168_sp * n_species * 1/3),\n",
    "        int(rf_mean_depth_at_168_sp * n_species * 1/4),\n",
    "        int(rf_mean_depth_at_168_sp * n_species * 1/8),\n",
    "    ]\n",
    "    for ovr_rf_max_depth in [int(rf_max_depth / 10) if rf_max_depth != 'null' else 'null']\n",
    "    for xgb_rf_max_depth in [lambda x: x if x != 'null' else 100]\n",
    "    # for xgb_rf_max_depth in [\n",
    "    #     # TODO Run training for all of these\n",
    "    #     lambda x: 100,\n",
    "    #     lambda x: 46,\n",
    "    #     lambda x: 5,\n",
    "    #     lambda x: 4,\n",
    "    #     lambda x: 3,\n",
    "    #     lambda x: 2,\n",
    "    #     lambda x: 1,\n",
    "    # ]\n",
    "    for svm_kernel in ['rbf', 'linear', 'poly']\n",
    "    for svm_C in [.01, .1, 1, 10]\n",
    "    for classifier in [\n",
    "\n",
    "        # RandomForest(entropy)\n",
    "        #   - 'gini' tends has better accuracy\n",
    "        # 'cls: rf, criterion: entropy, n_estimators: 200',  # [SP14]\n",
    "\n",
    "        # RandomForest(gini)\n",
    "        #\n",
    "        # WARNING These two are not very mem safe...\n",
    "        #   - They finish, but they cause OSX to \"Not responding\" most/all of its apps at ~2-3 different times\n",
    "        # 'cls: rf, n_estimators: 2000',\n",
    "        # 'cls: rf, n_estimators: 1500',\n",
    "        #\n",
    "        # 'cls: rf, n_estimators: 1000',\n",
    "        # 'cls: rf, n_estimators: 800',\n",
    "        # 'cls: rf, n_estimators: 600',\n",
    "        # 'cls: rf, n_estimators: 400',\n",
    "        # 'cls: rf, n_estimators: 200',\n",
    "        # 'cls: rf, n_estimators: 100',\n",
    "        # 'cls: rf, n_estimators: 50',\n",
    "        # 'cls: rf, n_estimators: 10',\n",
    "        # 'cls: rf, n_estimators: 1',\n",
    "\n",
    "        # f'cls: xgbm, n_estimators: 100, max_depth: {xgb_rf_max_depth(rf_max_depth)}',\n",
    "        # f'cls: rf, n_estimators: 100, max_depth: {rf_max_depth}',\n",
    "        # f'cls: ovr-rf, n_estimators: 80, max_depth: {ovr_rf_max_depth}',\n",
    "        # f'cls: ovr-rf, n_estimators: 20, max_depth: {ovr_rf_max_depth}',\n",
    "\n",
    "        # TODO Train these\n",
    "        # f'cls: xgbm, n_estimators: 100, max_depth: {xgb_rf_max_depth(ovr_rf_max_depth)}',\n",
    "        # f'cls: xgbm, n_estimators: 50, max_depth: {xgb_rf_max_depth(ovr_rf_max_depth)}',\n",
    "        # f'cls: xgbm, n_estimators: 25, max_depth: {xgb_rf_max_depth(ovr_rf_max_depth)}',\n",
    "        # f'cls: ovr-rf, n_estimators: 100, max_depth: {ovr_rf_max_depth}',\n",
    "        # f'cls: ovr-rf, n_estimators: 50, max_depth: {ovr_rf_max_depth}',\n",
    "        # f'cls: ovr-rf, n_estimators: 25, max_depth: {ovr_rf_max_depth}',\n",
    "\n",
    "        # SVM\n",
    "        f'cls: svm, kernel: {svm_kernel}, C: {svm_C}',  # [SBF16] uses kernel: rbf, C: 10\n",
    "\n",
    "    ]\n",
    "]))\n",
    "\n",
    "# TODO Increase cv to decrease variance in eval metrics (this made Alex extremely squirmy)\n",
    "cv = GridSearchCVCached(\n",
    "    estimator=Search(projection=projection),\n",
    "    param_grid=param_grid,\n",
    "    refit=False,  # Don't spend time fitting cv.best_estimator_ at the end (default: True)\n",
    "    # cv=3,  # [SP14] uses two-/three-fold CV [why?]\n",
    "    # Stratified ensures that all classes have >0 instances in each split, which is statistically maybe fishy but avoids\n",
    "    # breaking various code that merges the split results back together and assumes all splits' classes are the same\n",
    "    cv=sk.model_selection.StratifiedShuffleSplit(\n",
    "        # n_splits=1,  # [for ~18/20 miss: ~19m, ~16g disk cache]\n",
    "        # n_splits=2,\n",
    "        n_splits=3,\n",
    "        # n_splits=5,\n",
    "        # n_splits=10,\n",
    "        # n_splits=20,  # Known good [>51m uncached, >25g disk cache]\n",
    "        # n_splits=100,  # [?m runtime, ?g disk cache]\n",
    "        test_size=.2,\n",
    "        random_state=0,\n",
    "    ),\n",
    "    return_train_score=True,\n",
    "    # return_estimator=True,  # Verrrry heavy, use extra_metrics instead\n",
    "    # recompute_extra_metrics=True,  # Loads estimator.pkl (fast) but doesn't return it (huge)\n",
    "    extra_metrics=dict(\n",
    "        # [How to specify SearchEvals here without creating caching headaches?]\n",
    "        #   - e.g. defs don't bust cache on code edit\n",
    "        #   - And avoid thrashing cache every time we refactor SearchEvals\n",
    "        classes='estimator.classes_',\n",
    "        train_i='train',\n",
    "        train_y='y_train',\n",
    "        train_predict_proba='estimator.classifier_.predict_proba(X_train)',\n",
    "        test_i='test',\n",
    "        test_y='y_test',\n",
    "        test_predict_proba='estimator.classifier_.predict_proba(X_test)',\n",
    "        model_size='len(joblib_dumps(estimator))',\n",
    "        model_stats='model_stats(estimator)',\n",
    "        proc_stats='proc_stats',\n",
    "    ),\n",
    "    # verbose=100,\n",
    "    # verbose=10,  # O(models * n_splits) lines of outputs\n",
    "    verbose=1,  # O(1) lines of outputs\n",
    "    # Use n_jobs=1\n",
    "    #   - All classifiers can parallelize .fit/.predict\n",
    "    #   - Avoid memory contention\n",
    "    # n_jobs=1,  # For %prun, and way faster for 100% loads\n",
    "    # n_jobs=2,\n",
    "    # n_jobs=8,  # For slow ovr serdes [why?]\n",
    "    n_jobs=16,  # For recomputing model_stats\n",
    "    artifacts=dict(\n",
    "        dir=f'{data_dir}/artifacts',  # TODO Iron out syncing across local/gs/remote\n",
    "        save=True,\n",
    "        reuse='20180709-211727-fd34af5-ovr_try_2',\n",
    "        # skip_compute_if_missing=True,  # TODO Tricky to implement: _fit_and_score_cached needs to be able to return nothing\n",
    "    ),\n",
    ")\n",
    "with contextlib.ExitStack() as stack:\n",
    "    # stack.enter_context(cache_control(refresh=True))  # Disk unsafe...\n",
    "    stack.enter_context(cache_control(enabled=False))  # Disk safe\n",
    "    # stack.enter_context(joblib.parallel_backend('threading'))  # Default: 'multiprocessing'\n",
    "    # stack.enter_context(joblib.parallel_backend('sequential'))  # For %prun [FIXME Has no effect; why?]\n",
    "    stack.enter_context(log.context(level='info'))\n",
    "    # stack.enter_context(log.context(level='debug'))\n",
    "    X, y = Search.Xy(recs)\n",
    "    cv.fit(X, y)"
   ]
  },
  {
   "cell_type": "code",
   "execution_count": null,
   "metadata": {},
   "outputs": [],
   "source": [
    "# Precompute eval metrics + dims for the plots below\n",
    "#   - Grain: models\n",
    "#   - Metrics: train_score, test_score, ...\n",
    "#   - Dims: model_id, fold, params_data, params_complexity, params_model, ...\n",
    "params_data = [\n",
    "    'n_species',\n",
    "    'n_recs',\n",
    "]\n",
    "params_complexity = [\n",
    "    # 'c_max_depth',\n",
    "    'c_C',\n",
    "]\n",
    "# params_model = ...  # Everything else\n",
    "# log.debug('Start')\n",
    "cv_models = (cv_results_splits_df(cv.cv_results_)\n",
    "    # Slow yaml parsing, compute up front\n",
    "    .assign(params_dict=lambda df: df.apply(axis=1, func=lambda row: dict(\n",
    "        **{strip_startswith(k, 'param_'): row[k] for k in df if k.startswith('param_') and k not in ['param_classifier']},\n",
    "        # HACK 'classifier.foo' -> 'c_foo'\n",
    "        #   - TODO Refactor Search.classifier to get rid of the yaml strs ('c_cls', 'c_n_estimators', ...)\n",
    "        **{'c_' + k: v for k, v in yaml.safe_load('{%s}' % row.param_classifier).items()},\n",
    "        # 'classifier': yaml.safe_load('{%s}' % row.param_classifier),\n",
    "    )))\n",
    "    [lambda df: [c for c in df if not c.startswith('param_')]]\n",
    "    # Dims from params (for validation curves, learning curves, etc.)\n",
    "    .assign(\n",
    "        params_data=lambda df: df.params_dict.apply(lambda d: ', '.join(\n",
    "            '%s[%s]' % (k, d[k]) for k in params_data if k in d\n",
    "        )),\n",
    "        params_complexity=lambda df: df.params_dict.apply(lambda d: ', '.join(\n",
    "            '%s[%s]' % (k, d[k]) for k in params_complexity if k in d\n",
    "        )),\n",
    "        params_model=lambda df: df.params_dict.apply(lambda d: ', '.join(\n",
    "            '%s[%s]' % (k, d[k]) for k in d if k not in params_data + params_complexity\n",
    "        )),\n",
    "    )\n",
    "    # HACK Convert yaml strs ('x: y') to bracket style ('x[y]'), for visual consistency\n",
    "    #   - TODO Refactor Search.classifier to get rid of the yaml strs ('c_cls', 'c_n_estimators', ...)\n",
    "    .applymap(lambda x: x if not isinstance(x, str) else (\n",
    "        re.sub(r'([^][:, ]+):\\s+([^][:,]+)(, )?', r'c_\\1[\\2]\\3',\n",
    "            re.sub(r'classifier\\[([^]]+)\\]', r'\\1',\n",
    "                x,\n",
    "            ),\n",
    "        )\n",
    "    ))\n",
    "    #   - Restore the cats we just destroyed [copied from cv_results_splits_df]\n",
    "    .pipe(df_ordered_cat,\n",
    "        model_id=lambda df: df.model_id.unique(),\n",
    "        params=lambda df: df.params.unique(),\n",
    "        params_data=lambda df: df.params_data.unique(),\n",
    "        # Order params_complexity like c_max_depth\n",
    "        params_complexity=lambda df: sorted(\n",
    "            df.params_complexity.unique(),\n",
    "            reverse=True,  # Match how the normal .unique() would come out (not clear why, and don't care)\n",
    "            key=lambda s: one(\n",
    "                or_else(-np.inf, lambda: float({'None': 'inf'}.get(x_str, x_str)))\n",
    "                for x_str in [strip_endswith(strip_startswith(s, 'c_max_depth['), ']')]\n",
    "            ),\n",
    "        ),\n",
    "        params_model=lambda df: df.params_model.unique(),\n",
    "    )\n",
    "    # .eval\n",
    "    .assign(\n",
    "        train_evals=lambda df: np.vectorize(SearchEvals)(\n",
    "            i=df.pop('train_i'),\n",
    "            y=df.pop('train_y'),\n",
    "            classes=df['classes'],\n",
    "            y_scores=df.pop('train_predict_proba'),\n",
    "            drop_missing_classes_for_n_species=True,  # HACK Migrate to sk Pipeline to avoid this\n",
    "        ),\n",
    "        test_evals=lambda df: np.vectorize(SearchEvals)(\n",
    "            i=df.pop('test_i'),\n",
    "            y=df.pop('test_y'),\n",
    "            classes=df['classes'],\n",
    "            y_scores=df.pop('test_predict_proba'),\n",
    "            drop_missing_classes_for_n_species=True,  # HACK Migrate to sk Pipeline to avoid this\n",
    "        ),\n",
    "    )\n",
    "    # .pipe(tap, f=lambda df: log.debug('SearchEvals.score'))\n",
    "    .assign(\n",
    "        # HACK Recompute (train_score, test_score) using SearchEvals.score so it can drop_missing_classes_for_n_species\n",
    "        #   - Else you'll get scores that are too low (bad) because they include some -np.inf's in the median\n",
    "        train_score=lambda df: df.train_evals.map(lambda x: x.score()),\n",
    "        test_score=lambda df: df.test_evals.map(lambda x: x.score()),\n",
    "        # train_score=lambda df: map_progress(lambda x: x.score(), df.train_evals, use='dask', scheduler='threads'),\n",
    "        # test_score=lambda df: map_progress(lambda x: x.score(), df.test_evals, use='dask', scheduler='threads'),\n",
    "    )\n",
    "    .drop(columns=[\n",
    "        'classes',\n",
    "    ])\n",
    "    # proc_stats\n",
    "    # .pipe(tap, f=lambda df: log.debug('proc_stats'))\n",
    "    .pipe(lambda df: df.join(df\n",
    "        .apply(axis=1, func=lambda row: (row.proc_stats.stats\n",
    "            .groupby('pid')[['cpu_user', 'cpu_system', 'mem_rss', 'mem_vms']].agg(lambda g: g.max() - g.min())\n",
    "            .sum(axis=0)\n",
    "        ))\n",
    "        .rename(columns={\n",
    "            'cpu_user': 'cpu_user_time',\n",
    "            'cpu_system': 'cpu_system_time',\n",
    "            'mem_rss': 'mem_rss_delta',\n",
    "            'mem_vms': 'mem_vms_delta',\n",
    "        })\n",
    "    ))\n",
    "    .assign(\n",
    "        cpu_time=lambda df: df.cpu_user_time + df.cpu_system_time,\n",
    "    )\n",
    "    # Reorder\n",
    "    .pipe(df_reorder_cols,\n",
    "        first=['model_id', 'params', 'params_dict', 'params_data', 'params_complexity', 'params_model'],\n",
    "        last=['train_evals', 'test_evals', 'proc_stats', 'model_stats', 'model'],\n",
    "    )\n",
    "    # .pipe(tap, f=lambda df: log.debug('display'))\n",
    "    .pipe(tap, f=lambda df: display(\n",
    "        # df_summary(df).T,\n",
    "        # df,\n",
    "        len(df),\n",
    "        df[:5],\n",
    "    ))\n",
    "    # .pipe(tap, f=lambda df: log.debug('Done'))\n",
    ")"
   ]
  },
  {
   "cell_type": "code",
   "execution_count": null,
   "metadata": {},
   "outputs": [],
   "source": [
    "# For rf / ovr\n",
    "cv_models = (cv_models\n",
    "    .assign(\n",
    "        c_multiclass=lambda df: df.params_dict.str.get('c_multiclass'),\n",
    "        c_max_depth=lambda df: df.params_dict.str.get('c_max_depth'),\n",
    "        # c_rf_max_depth=lambda df: df.apply(axis=1, func=lambda row: (\n",
    "        #     row['c_max_depth'] * (10 if row['c_multiclass'] == 'ovr' else 1)  # HACK Undo rf_max_depth -> ovr_rf_max_depth\n",
    "        # )),\n",
    "    )\n",
    ")"
   ]
  },
  {
   "cell_type": "code",
   "execution_count": null,
   "metadata": {
    "skip": true
   },
   "outputs": [
    {
     "name": "stdout",
     "output_type": "stream",
     "text": "[skip]"
    }
   ],
   "source": [
    "# TODO Very slow with ~200 models\n",
    "cv_models_proc_stats = (cv_models\n",
    "    # Enable these as needed (at the cost of mem usage)\n",
    "    [[\n",
    "        'model_id',\n",
    "        'params',\n",
    "        # 'params_dict',\n",
    "        'params_data',\n",
    "        'params_complexity',\n",
    "        'params_model',\n",
    "        'fold',\n",
    "        # 'train_score',\n",
    "        # 'test_score',\n",
    "        # 'fit_time',\n",
    "        # 'score_time',\n",
    "        'mem_rss_delta',\n",
    "        # 'mem_vms_delta',\n",
    "        # 'train_evals',\n",
    "        # 'test_evals',\n",
    "        'proc_stats',\n",
    "    ]]\n",
    "    # TODO Faster way to do this? (.merge is >2x slower)\n",
    "    .pipe(df_flatmap, lambda row: [\n",
    "        row.append(pd.Series(dict(**stats)))\n",
    "        for stats in row.proc_stats.stats\n",
    "    ])\n",
    "    # .pipe(lambda df: (df\n",
    "    #     .merge(how='left',\n",
    "    #         right=DF(\n",
    "    #             OrderedDict(model_id=row.model_id, **stats)\n",
    "    #             for row in df_rows(df)\n",
    "    #             for stats in row.proc_stats.stats\n",
    "    #         )\n",
    "    #     )\n",
    "    # ))\n",
    "    # HACK Restore the cats that the df_flatmap just destroyed [copied from cv_results_splits_df]\n",
    "    .pipe(df_ordered_cat,\n",
    "        model_id=lambda df: df.model_id.unique(),\n",
    "        params=lambda df: df.params.unique(),\n",
    "    )\n",
    "    .assign(\n",
    "        cpu_user=lambda df: df.cpu_user.diff() * 100,\n",
    "        cpu_system=lambda df: df.cpu_system.diff() * 100,\n",
    "    )\n",
    "    .pipe(tap, f=lambda df: display(\n",
    "        df_summary(df).T,\n",
    "        df[:5],\n",
    "    ))\n",
    ")"
   ]
  },
  {
   "cell_type": "code",
   "execution_count": null,
   "metadata": {
    "time": "1.464s"
   },
   "outputs": [],
   "source": [
    "# TODO TODO Why are xgb train/score times bimodal?\n",
    "#   - [x] Plot test_score ~ cpu_time -- anything informative here? [left panel!]\n",
    "#   - [ ] Maybe the bimodal tree depths cause bimodal train/score times? -- plot the relationship\n",
    "#       - But that'd be weird, since a gbm forest should avg out the individual tree depths...\n",
    "(cv_models\n",
    "    # Manually compute y.mean() per group\n",
    "    .groupby('params').apply(lambda g: g.assign(cpu_total_mean=lambda df: df.cpu_time.mean()))\n",
    "    .pipe(df_reverse_cat, 'params_complexity')\n",
    "    .pipe(ggplot)\n",
    "    + aes(x='params_complexity')\n",
    "    + facet_grid('params_data ~ params_model')\n",
    "    + geom_col(aes(y='cpu_total_mean'), fill='darkgray', position=position_dodge())\n",
    "    + geom_point(aes(y='cpu_time'), color='black', fill='none', size=2)\n",
    "    + coord_flip()\n",
    "    + ylab('cpu_time')\n",
    "    + theme_figsize(width=24, aspect_ratio=1/1.5)\n",
    "    + ggtitle(f'Train + score times ({recs_stats})')\n",
    ")"
   ]
  },
  {
   "cell_type": "code",
   "execution_count": null,
   "metadata": {
    "time": "1.459s"
   },
   "outputs": [],
   "source": [
    "(cv_models\n",
    "    # Manually compute y.mean() per group\n",
    "    .groupby('params').apply(lambda g: g.assign(model_size_mean=lambda df: df.model_size.mean()))\n",
    "    .pipe(df_reverse_cat, 'params_complexity')\n",
    "    .pipe(ggplot)\n",
    "    + aes(x='params_complexity')\n",
    "    + facet_grid('params_data ~ params_model')\n",
    "    + geom_col(aes(y='model_size_mean'), fill='darkgray', position=position_dodge()) # Summary per fold\n",
    "    + geom_point(aes(y='model_size'), color='black', fill='none', size=2) # Distribution of folds\n",
    "    + scale_y_continuous(labels=labels_bytes(), breaks=breaks_bytes())\n",
    "    + coord_flip()\n",
    "    + ylab('model_size')\n",
    "    + theme_figsize(width=24, aspect_ratio=1/1.5)\n",
    "    + ggtitle(f'Model size ({recs_stats})')\n",
    ")"
   ]
  },
  {
   "cell_type": "code",
   "execution_count": null,
   "metadata": {},
   "outputs": [],
   "source": [
    "# Forest depth stats so we can tune max_depth, model_size\n",
    "#   - TODO Generalize for models other than tree ensembles\n",
    "cv_models = (cv_models\n",
    "    .assign(\n",
    "        forest_depth_mean=lambda df: df.model_stats.map(lambda stats: or_else(None, lambda: stats.depth.mean())),\n",
    "        forest_depth_std=lambda df: df.model_stats.map(lambda stats: or_else(None, lambda: stats.depth.std())),\n",
    "    )\n",
    ")\n",
    "display(\n",
    "    # cv_models[['model_id', 'forest_depth_mean', 'forest_depth_std']][:5],\n",
    ")"
   ]
  },
  {
   "cell_type": "code",
   "execution_count": null,
   "metadata": {
    "skip": true
   },
   "outputs": [
    {
     "name": "stdout",
     "output_type": "stream",
     "text": "[skip]"
    }
   ],
   "source": [
    "# TODO TODO Make not barf on non-tree models (blocks rest of notebook)\n",
    "(cv_models\n",
    "    # Manually compute boxplot stats, else it's _really_ slow (or you have to downsample, which misses outliers)\n",
    "    #   - Based on stat_boxplot.compute_group\n",
    "    .merge(how='left', on='params', right=cv_models.groupby('params').apply(lambda g: one(\n",
    "        pd.Series(dict(\n",
    "            params=g.name,\n",
    "            ymin=boxplot['whislo'],\n",
    "            lower=boxplot['q1'],\n",
    "            middle=boxplot['med'],\n",
    "            upper=boxplot['q3'],\n",
    "            ymax=boxplot['whishi'],\n",
    "            outliers=np.unique(boxplot['fliers']),  # np.unique else really slow, because lots of repeated (int) points\n",
    "        ))\n",
    "        for [boxplot] in [mpl.cbook.boxplot_stats(  # [boxplot] is 1 elem because X.ndim = 1\n",
    "            X=np.concatenate([[] if x is None else x.depth for x in g.model_stats]),\n",
    "            whis=1.5,\n",
    "        )]\n",
    "    )))\n",
    "    .pipe(df_reverse_cat, 'params_complexity')\n",
    "    .pipe(ggplot)\n",
    "    + aes(x='params_complexity')\n",
    "    + facet_grid('params_data ~ params_model')\n",
    "    + geom_boxplot(\n",
    "        stat='identity',\n",
    "        outlier_size=.5,\n",
    "        mapping=aes(ymin='ymin', ymax='ymax', upper='upper', lower='lower', middle='middle', outliers='outliers',\n",
    "            width=.8,  # Close enough to geom_boxplot defaults [TODO Maybe should compute based on num categorical x's?]\n",
    "        ),\n",
    "    )\n",
    "    + ylab('tree_depth')\n",
    "    + coord_flip()\n",
    "    + theme_figsize(width=24, aspect_ratio=1/1.5)\n",
    "    + ggtitle(f'Tree depth ({recs_stats})')\n",
    "\n",
    ")"
   ]
  },
  {
   "cell_type": "code",
   "execution_count": null,
   "metadata": {
    "skip": true
   },
   "outputs": [
    {
     "name": "stdout",
     "output_type": "stream",
     "text": "[skip]"
    }
   ],
   "source": [
    "# XXX Revive if insightful\n",
    "(cv_models\n",
    "    .pipe(df_reverse_cat, 'params_no_ns')\n",
    "    .assign(n_species=lambda df: df.params_dict.str['n_species'])\n",
    "    .pipe(ggplot, aes(x='n_species', y='forest_depth_mean', color='params_no_ns'))\n",
    "    # + facet_wrap('params_no_ns', ncol=2)\n",
    "    + geom_point()\n",
    "    + geom_pointrange(aes(ymin='forest_depth_mean - 2*forest_depth_std', ymax='forest_depth_mean + 2*forest_depth_std'))\n",
    "    + geom_smooth(method='lm', se=False)  # Disable se because it only knows forest_depth_mean, no measure of spread\n",
    "    + expand_limits(x=0)\n",
    "    + scale_color_cmap_d(mpl_cmap_concat('tab20', 'tab20b', 'tab20c'))\n",
    "    + guides(color=guide_legend(reverse=True))\n",
    "    + theme(legend_position='bottom', legend_direction='vertical', legend_box_spacing=.4, legend_key_height=8)\n",
    "    # + theme_figsize(aspect_ratio=1/3)\n",
    "    + theme_figsize(aspect_ratio=1/3)\n",
    "    + ggtitle(f'RF depth vs. n_species ({recs_stats})')\n",
    ")"
   ]
  },
  {
   "cell_type": "code",
   "execution_count": null,
   "metadata": {
    "skip": true
   },
   "outputs": [
    {
     "name": "stdout",
     "output_type": "stream",
     "text": "[skip]"
    }
   ],
   "source": [
    "(cv_models\n",
    "    .pipe(df_reverse_cat, 'params', 'params_no_ns', 'ns')\n",
    "    # Manually compute y.mean() per group\n",
    "    .groupby('params').apply(lambda g: g.assign(mem_rss_delta_mean=lambda df: df.mem_rss_delta.mean()))\n",
    "    .pipe(ggplot, aes(x='ns', group='params_no_ns'))\n",
    "    + geom_col(aes(y='mem_rss_delta_mean', fill='params_no_ns'), position=position_dodge()) # Summary per fold\n",
    "    + geom_point(aes(y='mem_rss_delta'), fill='none', size=2, position=position_dodge(width=.9)) # Distribution of folds\n",
    "    + coord_flip()\n",
    "    + scale_fill_cmap_d(mpl_cmap_concat('tab20', 'tab20b', 'tab20c'))\n",
    "    + scale_y_continuous(labels=labels_bytes(), breaks=breaks_bytes())\n",
    "    + guides(fill=guide_legend(reverse=True))\n",
    "    + theme(legend_position='bottom', legend_direction='vertical', legend_box_spacing=.4, legend_key_height=8)\n",
    "    + theme_figsize(aspect_ratio=1/3*2)\n",
    "    + ggtitle(f'Mem rss spread ($max-min$) ({recs_stats})')\n",
    ")"
   ]
  },
  {
   "cell_type": "code",
   "execution_count": null,
   "metadata": {
    "skip": true
   },
   "outputs": [
    {
     "name": "stdout",
     "output_type": "stream",
     "text": "[skip]"
    }
   ],
   "source": [
    "# TODO Might need to stack/geom_area for overlapping runs\n",
    "(cv_models_proc_stats\n",
    "    .pipe(ggplot)\n",
    "    + aes(x='time', color='model_id')\n",
    "    + geom_line(aes(y='cpu_system'), linetype='dashed', size=.5)\n",
    "    + geom_line(aes(y='cpu_system + cpu_user'), linetype='solid', size=.5)\n",
    "    + expand_limits(y=0)\n",
    "    + ylab('cpu')\n",
    "    + scale_x_datetime(date_labels='%H:%M:%S')\n",
    "    + scale_y_continuous(labels=lambda labels: ['%.3g%%' % x for x in labels])\n",
    "    + theme(legend_position='bottom', legend_direction='vertical', legend_box_spacing=.4, legend_key_height=8)\n",
    "    + theme_figsize('inline_short')\n",
    "    + ggtitle('cpu over time (system + user)')\n",
    ")"
   ]
  },
  {
   "cell_type": "code",
   "execution_count": null,
   "metadata": {
    "skip": true
   },
   "outputs": [
    {
     "name": "stdout",
     "output_type": "stream",
     "text": "[skip]"
    }
   ],
   "source": [
    "(cv_models_proc_stats\n",
    "    .pipe(ggplot)\n",
    "    + aes(x='time', color='model_id')\n",
    "    + geom_line(aes(y='mem_rss'), linetype='solid', size=.5)\n",
    "    + geom_line(aes(y='mem_vms'), linetype='dashed', size=.5)\n",
    "    + expand_limits(y=0)\n",
    "    + ylab('mem')\n",
    "    + scale_x_datetime(date_labels='%H:%M:%S')\n",
    "    + scale_y_continuous(labels=labels_bytes(), breaks=breaks_bytes(pow=3))\n",
    "    + theme(legend_position='bottom', legend_direction='vertical', legend_box_spacing=.4, legend_key_height=8)\n",
    "    + theme_figsize('inline_short')\n",
    "    + ggtitle('Mem over time (rss, vms)')\n",
    ")"
   ]
  },
  {
   "cell_type": "code",
   "execution_count": null,
   "metadata": {
    "time": "1.932s"
   },
   "outputs": [],
   "source": [
    "# Train/test scores\n",
    "#   - Grain: models x {train,test}\n",
    "#   - Metrics: score\n",
    "#   - Dims: group, params\n",
    "(cv_models\n",
    "    .pipe(df_reverse_cat, 'params_complexity')\n",
    "    .pipe(lambda df: pd.melt(df,\n",
    "        id_vars=['params_data', 'params_model', 'params_complexity', 'params', 'fold'],\n",
    "        value_vars=['train_score', 'test_score'],\n",
    "        var_name='split',\n",
    "        value_name='score'),\n",
    "    )\n",
    "    .assign(\n",
    "        split=lambda df: df.split.str.replace('_score', ''),\n",
    "        group=lambda df: df.params_complexity.str.cat(df.split, '/'),\n",
    "    )\n",
    "    .pipe(df_ordered_cat,\n",
    "        group=lambda df: reversed(df.group.unique()),\n",
    "    )\n",
    "    .pipe(lambda df: (df\n",
    "        .pipe(ggplot)\n",
    "        + aes(x='params_complexity')\n",
    "        + aes(y='score')\n",
    "        + facet_grid('params_data ~ params_model')\n",
    "        + geom_hline(yintercept=-1, color='lightgrey')  # -1 is the max score (1 is the min coverage_error)\n",
    "        + geom_point(data=df[df.split == 'test'], shape='o', fill='none', size=2)\n",
    "        + geom_point(data=df[df.split == 'train'], shape='x', size=2)\n",
    "        + stat_summary(aes(group='group'), fun_data='mean_cl_boot', random_state=0, geom='errorbar')\n",
    "        + coord_flip(\n",
    "            ylim=(-30, 0),\n",
    "        )\n",
    "        + scale_shape_manual(values=['o', 'x'], guide=False)\n",
    "        + theme_figsize(width=24, aspect_ratio=1/1.5)\n",
    "        + ylab('score (-coverage_error)')\n",
    "        + ggtitle(f'Train/test scores ({recs_stats})')\n",
    "    ))\n",
    ")"
   ]
  },
  {
   "cell_type": "code",
   "execution_count": null,
   "metadata": {
    "time": "1.442s"
   },
   "outputs": [],
   "source": [
    "(cv_models\n",
    "    .pipe(ggplot)\n",
    "    + aes(x='model_size', y='test_score')\n",
    "    + aes(color='params_complexity')\n",
    "    + facet_grid('params_data ~ params_model')\n",
    "    + geom_point()\n",
    "    + geom_hline(yintercept=0, color='grey')\n",
    "    + scale_x_continuous(labels=labels_bytes(), breaks=breaks_bytes())\n",
    "    + expand_limits(x=0)\n",
    "    + ylim(-30, 0)\n",
    "    + scale_color_cmap_d(mpl_cmap_concat('tab20', 'tab20b', 'tab20c'))\n",
    "    + guides(color=guide_legend(ncol=1)) + theme(legend_position='right', legend_box_spacing=.4, legend_key_height=8)\n",
    "    + theme_figsize(width=24, aspect_ratio=1/1.5)\n",
    "    + ggtitle('test_score ~ model_size (tuned by e.g. max_depth)')\n",
    ")"
   ]
  },
  {
   "cell_type": "code",
   "execution_count": null,
   "metadata": {
    "time": "1.483s"
   },
   "outputs": [],
   "source": [
    "(cv_models\n",
    "    .pipe(ggplot)\n",
    "    + aes(x='cpu_time', y='test_score')\n",
    "    + aes(color='params_complexity')\n",
    "    + facet_grid('params_data ~ params_model')\n",
    "    + geom_point()\n",
    "    + geom_hline(yintercept=0, color='grey')\n",
    "    # + scale_x_continuous(labels=labels_bytes(), breaks=breaks_bytes())\n",
    "    + expand_limits(x=0)\n",
    "    + ylim(-30, 0)\n",
    "    + scale_color_cmap_d(mpl_cmap_concat('tab20', 'tab20b', 'tab20c'))\n",
    "    + guides(color=guide_legend(ncol=1)) + theme(legend_position='right', legend_box_spacing=.4, legend_key_height=8)\n",
    "    + theme_figsize(width=24, aspect_ratio=1/1.5)\n",
    "    + ggtitle('test_score ~ cpu_time (tuned by e.g. max_depth)')\n",
    ")"
   ]
  },
  {
   "cell_type": "code",
   "execution_count": null,
   "metadata": {},
   "outputs": [],
   "source": [
    "# SLOW_PLOTS_NEXT"
   ]
  },
  {
   "cell_type": "markdown",
   "metadata": {},
   "source": [
    "# Model diagnostics: all models, all folds"
   ]
  },
  {
   "cell_type": "code",
   "execution_count": null,
   "metadata": {},
   "outputs": [],
   "source": [
    "print('models:')\n",
    "print('  params[*/%s]' % len(cv_models.params.cat.categories))\n",
    "print('  fold[*/%s]' % cv.cv.n_splits)"
   ]
  },
  {
   "cell_type": "code",
   "execution_count": null,
   "metadata": {
    "time": "13.309s"
   },
   "outputs": [],
   "source": [
    "# TODO Cache\n",
    "# Coverage errors: all models, all folds\n",
    "#   - Subset: all models\n",
    "#   - Grain: sum(recs[model.test_i] for model)\n",
    "#   - Dims: model_id, params, fold, y_true, rec_id\n",
    "#   - Metrics: coverage_error\n",
    "coverage_errors_all_all = (cv_models\n",
    "    # .sample(n=5, random_state=0)  # For faster dev\n",
    "    .pipe(lambda df: DF(\n",
    "        OrderedDict(\n",
    "            # **row[['model_id', 'params', 'fold']],  # Slow (in this inner loop), unpack manually instead\n",
    "            model_id=row.model_id,\n",
    "            params=row.params,\n",
    "            params_data=row.params_data,\n",
    "            params_model=row.params_model,\n",
    "            params_complexity=row.params_complexity,\n",
    "            fold=row.fold,\n",
    "            i=i,\n",
    "            y_true=y_true,\n",
    "            coverage_error=coverage_error,\n",
    "        )\n",
    "        for row in iter_progress(df_rows(df), n=len(df))\n",
    "        for i, y_true, coverage_error in zip(\n",
    "            row.test_evals.i,\n",
    "            row.test_evals.y,\n",
    "            row.test_evals.coverage_errors(),\n",
    "        )\n",
    "    ))\n",
    "    .astype(dict(\n",
    "        model_id=cv_models.model_id.dtype,\n",
    "        params=cv_models.params.dtype,\n",
    "        params_data=cv_models.params_data.dtype,\n",
    "        params_model=cv_models.params_model.dtype,\n",
    "        params_complexity=cv_models.params_complexity.dtype,\n",
    "    ))\n",
    "    .pipe(tap, lambda df: display(\n",
    "        df_summary(df).T,\n",
    "        df[:10],\n",
    "    ))\n",
    ")"
   ]
  },
  {
   "cell_type": "code",
   "execution_count": null,
   "metadata": {},
   "outputs": [],
   "source": [
    "params_data = 'n_species[168], n_recs[1.0]'\n",
    "n_species = parse.search('n_species[{n_species:d}], n_recs[{n_recs:f}]', params_data)['n_species']"
   ]
  },
  {
   "cell_type": "code",
   "execution_count": null,
   "metadata": {
    "time": "56.931s"
   },
   "outputs": [],
   "source": [
    "# Facet by params_no_ns, order by median(coverage_error)\n",
    "#   - Subset: all models\n",
    "#   - Grain: sum(recs[model.test_i].groupby(params, y_true) for model)\n",
    "#       - Over: fold, rec_id\n",
    "#   - Dims: params, y_true\n",
    "#   - Metrics: coverage_error.median\n",
    "# in: coverage_errors_all_all, recs\n",
    "(coverage_errors_all_all\n",
    "    [lambda df: df.params_data == params_data]\n",
    "    # .sample(100, random_state=0)  # Faster dev\n",
    "    # .pipe(df_reverse_cat, 'params', 'params_no_ns', 'ns')\n",
    "    .pipe(df_ordered_cat,\n",
    "        y_true=lambda df: (\n",
    "            # Sort species by median(coverage_error) (across all models)\n",
    "            df.groupby('y_true').agg({'coverage_error': np.median}).reset_index().sort_values('coverage_error').y_true\n",
    "            # Sort species by taxo (hard to compare across models, unless they're pretty low noise)\n",
    "            # reversed(recs.species.cat.categories)\n",
    "        ),\n",
    "    )\n",
    "    .pipe(ggplot)\n",
    "    + aes(x='y_true', y='coverage_error')\n",
    "    + aes(color='y_true')\n",
    "    + facet_grid('params_complexity ~ params_model')\n",
    "    # + geom_line(aes(group='params'), stat='summary', fun_y=np.median)  # TODO Bad interpolation with n_species\n",
    "    + geom_point(aes(group='params'), stat='summary', fun_y=np.median)\n",
    "    + coord_flip()\n",
    "    # + geom_hline(yintercept=recs.species.nunique(), color='grey')\n",
    "    + scale_color_cmap_d(mpl_cmap_repeat(10, 'tab20', 'tab20b', 'tab20c'))\n",
    "    + theme_minimal()  # Before other theme()\n",
    "    + guides(color=guide_legend(nrow=70))\n",
    "    + theme(legend_position='right', legend_box_spacing=.4, legend_key_height=8, legend_text=element_text(size=8))\n",
    "    + theme(axis_text_y=element_blank())\n",
    "    + theme_figsize(width=12, aspect_ratio=1/2)\n",
    "    + ggtitle(rf'Coverage error over fold $\\times$ instance ({recs_stats}) [{params_data}]')\n",
    ")"
   ]
  },
  {
   "cell_type": "code",
   "execution_count": null,
   "metadata": {
    "time": "61.751s"
   },
   "outputs": [],
   "source": [
    "# TODO Slow, bad for notebook dev loop -- move lower, or disable by default?\n",
    "# Facet by species\n",
    "#   - Subset: all models\n",
    "#   - Grain: sum(recs[model.test_i].groupby(params, y_true) for model)\n",
    "#       - Over: fold, rec_id\n",
    "#   - Dims: params, y_true\n",
    "#   - Metrics: coverage_error.median\n",
    "# in: coverage_errors_all_all, recs\n",
    "# params_model = 'c_cls[rf], c_n_estimators[100]'\n",
    "params_model = 'c_cls[logreg_multi], c_solver[newton-cg]'\n",
    "(coverage_errors_all_all\n",
    "    [lambda df: df.params_data == params_data]\n",
    "    [lambda df: df.params_model == params_model]\n",
    "    # .sample(200, random_state=0)  # Faster dev\n",
    "    # [lambda df: df.y_true.isin(df.y_true.drop_duplicates().sample(n=3, random_state=0))]  # Faster dev\n",
    "    .astype({'y_true': metadata.species.df.shorthand.dtype})\n",
    "    .pipe(df_reverse_cat, 'params_complexity')\n",
    "    .pipe(ggplot)\n",
    "    + aes(x='params_complexity', y='coverage_error')\n",
    "    + aes(color='params_complexity')\n",
    "    + facet_wrap('y_true',\n",
    "        ncol=int((n_species * 1/(2/3)) ** .5),\n",
    "    )\n",
    "    + geom_hline(yintercept=1, color='grey')\n",
    "    # + geom_hline(yintercept=recs.species.nunique(), color='grey')\n",
    "    # Percentiles (faster, no overplot)\n",
    "    # + geom_point(stat='summary', fun_y=np.median)\n",
    "    # + geom_linerange(stat='summary', fun_ymin=partial(np.percentile, q=25), fun_ymax=partial(np.percentile, q=75))\n",
    "    # Violin (slow, no overplot)\n",
    "    # + geom_violin()\n",
    "    # Boxplot (very slow, no overplot)\n",
    "    # + geom_boxplot()\n",
    "    # Points (medium cost, high overplot)\n",
    "    #   - n (count) instead of prop (proportion)\n",
    "    #   - scale_size_area() instead of default scale_size(), because it's a count [I don't grok this but it looks good]\n",
    "    + geom_count(aes(size='..n..'), color='lightgray')\n",
    "    + scale_size_area()\n",
    "    # + geom_point(stat='summary', fun_y=np.median, shape='|', size=5, stroke=2)\n",
    "    + geom_point(stat='summary', fun_y=np.median, size=5)\n",
    "    + coord_flip(\n",
    "        ylim=(0, 40),\n",
    "    )\n",
    "    # + scale_color_cmap_d(mpl_cmap_repeat(10, 'tab10'))  # Strong\n",
    "    + scale_color_cmap_d(mpl_cmap_repeat(10, 'tab20', 'tab20b', 'tab20c'))\n",
    "    + guides(color=guide_legend(reverse=True))\n",
    "    + theme(axis_text_y=element_text(size=6))\n",
    "    + theme_minimal()  # [TODO Before other theme()]\n",
    "    + theme_figsize(width=24, aspect_ratio=1/1)\n",
    "    + ggtitle(rf'Coverage error over fold $\\times$ instance, by params_complexity ({recs_stats}) [{params_data}, {params_model}]')\n",
    ")"
   ]
  },
  {
   "cell_type": "code",
   "execution_count": null,
   "metadata": {
    "time": "28.636s"
   },
   "outputs": [],
   "source": [
    "# TODO Slow, bad for notebook dev loop -- move lower, or disable by default?\n",
    "# Facet by species\n",
    "#   - Subset: all models\n",
    "#   - Grain: sum(recs[model.test_i].groupby(params, y_true) for model)\n",
    "#       - Over: fold, rec_id\n",
    "#   - Dims: params, y_true\n",
    "#   - Metrics: coverage_error.median\n",
    "# in: coverage_errors_all_all, recs\n",
    "# params_complexity = 'c_max_depth[46]'\n",
    "params_complexity = ''\n",
    "(coverage_errors_all_all\n",
    "    [lambda df: df.params_data == params_data]\n",
    "    [lambda df: df.params_complexity == params_complexity]\n",
    "    # .sample(200, random_state=0)  # Faster dev\n",
    "    # [lambda df: df.y_true.isin(df.y_true.drop_duplicates().sample(n=3, random_state=0))]  # Faster dev\n",
    "    .astype({'y_true': metadata.species.df.shorthand.dtype})\n",
    "    .pipe(df_reverse_cat, 'params_model')\n",
    "    .pipe(ggplot)\n",
    "    + aes(x='params_model', y='coverage_error')\n",
    "    + aes(color='params_model')\n",
    "    + facet_wrap('y_true',\n",
    "        ncol=int((n_species * 1/(2/3)) ** .5),\n",
    "    )\n",
    "    + geom_hline(yintercept=1, color='grey')\n",
    "    # + geom_hline(yintercept=recs.species.nunique(), color='grey')\n",
    "    # Percentiles (faster, no overplot)\n",
    "    # + geom_point(stat='summary', fun_y=np.median)\n",
    "    # + geom_linerange(stat='summary', fun_ymin=partial(np.percentile, q=25), fun_ymax=partial(np.percentile, q=75))\n",
    "    # Violin (slow, no overplot)\n",
    "    # + geom_violin()\n",
    "    # Boxplot (very slow, no overplot)\n",
    "    # + geom_boxplot()\n",
    "    # Points (medium cost, high overplot)\n",
    "    #   - n (count) instead of prop (proportion)\n",
    "    #   - scale_size_area() instead of default scale_size(), because it's a count [I don't grok this but it looks good]\n",
    "    + geom_count(aes(size='..n..'), color='lightgray')\n",
    "    + scale_size_area()\n",
    "    # + geom_point(stat='summary', fun_y=np.median, shape='|', size=5, stroke=2)\n",
    "    + geom_point(stat='summary', fun_y=np.median, size=5)\n",
    "    + coord_flip(\n",
    "        ylim=(0, 40),\n",
    "    )\n",
    "    + scale_color_cmap_d('tab10')  # Strong\n",
    "    + guides(color=guide_legend(reverse=True))\n",
    "    + theme(axis_text_y=element_text(size=6))\n",
    "    + theme_minimal()  # [TODO Before other theme()]\n",
    "    + theme_figsize(width=24, aspect_ratio=1/1)\n",
    "    + ggtitle(rf'Coverage error over fold $\\times$ instance, by params_model ({recs_stats}) [{params_data}, {params_model}]')\n",
    ")"
   ]
  },
  {
   "cell_type": "code",
   "execution_count": null,
   "metadata": {},
   "outputs": [],
   "source": [
    "ONE_MODEL_PLOTS_NEXT"
   ]
  },
  {
   "cell_type": "markdown",
   "metadata": {},
   "source": [
    "# Model diagnostics: one model, all folds"
   ]
  },
  {
   "cell_type": "code",
   "execution_count": null,
   "metadata": {},
   "outputs": [],
   "source": [
    "params_i = 0\n",
    "params = cv_models.params.cat.categories[params_i]\n",
    "print(\"params:\\n%s\" % '\\n'.join('  %s: %r' % (i, x) for i, x in enumerate(cv_models.params.cat.categories)))\n",
    "print()\n",
    "print('models:')\n",
    "print('  params[%s/%s]: %r' % (params_i, len(cv_models.params.cat.categories), params))\n",
    "print('  fold[*/%s]' % cv.cv.n_splits)"
   ]
  },
  {
   "cell_type": "code",
   "execution_count": null,
   "metadata": {},
   "outputs": [],
   "source": [
    "# Coverage errors: one model, all folds\n",
    "#   - Subset: models.params == params\n",
    "#   - Grain: sum(recs[model.test_i] for model)\n",
    "#   - Dims: model_id, params, fold, y_true, rec_id\n",
    "#   - Metrics: coverage_error\n",
    "coverage_errors_one_all = (coverage_errors_all_all\n",
    "    [lambda df: df.params == params]  # One model, all folds\n",
    ")\n",
    "display(\n",
    "    df_summary(coverage_errors_one_all).T,\n",
    "    coverage_errors_one_all[:5],\n",
    ")"
   ]
  },
  {
   "cell_type": "code",
   "execution_count": null,
   "metadata": {
    "time": "8.193s"
   },
   "outputs": [],
   "source": [
    "#   - Subset: models.params == params\n",
    "#   - Grain: sum(recs[model.test_i].groupby(y_true) for model)\n",
    "#       - Over: fold, rec_id\n",
    "#   - Dims: y_true\n",
    "#   - Metrics: count, coverage_error.percentiles\n",
    "# in: coverage_errors_one_all, recs\n",
    "(coverage_errors_one_all\n",
    "    .astype({'y_true': metadata.species.df.shorthand.dtype})\n",
    "    .pipe(df_reverse_cat, 'y_true')\n",
    "    .pipe(ggplot, aes(x='y_true', y='coverage_error'))\n",
    "    + geom_hline(yintercept=1, color='grey')\n",
    "    + geom_hline(yintercept=10, color='grey')\n",
    "    + geom_hline(yintercept=recs.species.nunique(), color='grey')\n",
    "    + geom_count(aes(size='..n..'), alpha=1)  # n (count) instead of prop (proportion)\n",
    "    + scale_size_area()  # Instead of default scale_size(), because it's a count [I don't grok this but it looks good]\n",
    "    + geom_point(stat='summary', fun_y=np.median, alpha=1, color='red', shape='|', size=6, stroke=2)\n",
    "    + coord_flip()\n",
    "    # + theme_figsize('inline')\n",
    "    # + theme_figsize('square')\n",
    "    # + theme_figsize('half')\n",
    "    + theme_figsize('half_dense')\n",
    "    # + theme_figsize('full')\n",
    "    # + theme_figsize('full_dense')\n",
    "    + ggtitle(rf'Coverage error over fold $\\times$ instance ({params}) ({recs_stats})')\n",
    ")"
   ]
  },
  {
   "cell_type": "code",
   "execution_count": null,
   "metadata": {
    "time": "2.13s"
   },
   "outputs": [],
   "source": [
    "# One-model/all-folds confusion matrix\n",
    "with figsize(\n",
    "    # 'square',\n",
    "    # 'full',\n",
    "    'full_dense',\n",
    "):\n",
    "    (cv_models\n",
    "        [lambda df: df.params == params]\n",
    "        .pipe(lambda df: plot_confusion_matrix(\n",
    "            classes=df.iloc[0].test_evals.classes,\n",
    "            M=np.array([\n",
    "                row.test_evals.confusion_matrix_prob()\n",
    "                for row in df_rows(df)\n",
    "            ]).sum(axis=0),\n",
    "            # normalize=False,  # For counts\n",
    "            raw=True, scale=10,  # Faster dev\n",
    "            format=None,  # Omit numbers, too dense\n",
    "            title=f'({recs_stats})',\n",
    "        ))\n",
    "    )"
   ]
  },
  {
   "cell_type": "markdown",
   "metadata": {},
   "source": [
    "# Model diagnostics: one model, one fold"
   ]
  },
  {
   "cell_type": "code",
   "execution_count": null,
   "metadata": {
    "skip": true
   },
   "outputs": [
    {
     "name": "stdout",
     "output_type": "stream",
     "text": "[skip]"
    }
   ],
   "source": [
    "fold = 0\n",
    "# params_i = ...  # Comment out to reuse from above\n",
    "params = cv_models.params.cat.categories[params_i]\n",
    "[(_, model)] = list(cv_models[lambda df: (df.params == params) & (df.fold == fold)].iterrows())\n",
    "print(\"params:\\n%s\" % '\\n'.join('  %s: %r' % (i, x) for i, x in enumerate(cv_models.params.cat.categories)))\n",
    "print()\n",
    "print('model:')\n",
    "print('  params[%s/%s]: %r' % (params_i, len(cv_models.params.cat.categories), model.params))\n",
    "print('  fold[%s/%s]' % (model.fold, cv.cv.n_splits))\n",
    "print()\n",
    "print(model)"
   ]
  },
  {
   "cell_type": "code",
   "execution_count": null,
   "metadata": {
    "skip": true
   },
   "outputs": [
    {
     "name": "stdout",
     "output_type": "stream",
     "text": "[skip]"
    }
   ],
   "source": [
    "# in: model\n",
    "model_id = model.model_id\n",
    "params = model.params\n",
    "fold = model.fold\n",
    "# train_evals = model.train_evals\n",
    "test_evals = model.test_evals\n",
    "\n",
    "# in: model, recs\n",
    "# train_recs = recs.iloc[train_evals.i]\n",
    "# train_X = Search.X(recs)[train_evals.i]\n",
    "# train_y = Search.y(recs)[train_evals.i]\n",
    "test_recs = recs.iloc[test_evals.i]\n",
    "test_X = Search.X(recs)[test_evals.i]\n",
    "test_y = Search.y(recs)[test_evals.i]  # (Don't need to store cv_models.test_evals.y if we have recs -- which sometimes we don't?)\n",
    "\n",
    "display(\n",
    "    # len(train_recs),\n",
    "    len(test_recs),\n",
    ")"
   ]
  },
  {
   "cell_type": "code",
   "execution_count": null,
   "metadata": {
    "skip": true
   },
   "outputs": [
    {
     "name": "stdout",
     "output_type": "stream",
     "text": "[skip]"
    }
   ],
   "source": [
    "# TODO Restore this plot like 'Coverage error over ...' above, so we can see _one_ model instead of aggregating over n_splits models\n",
    "# # TODO Update [kill the .merge, then species -> y_true]\n",
    "# (search.coverage_error_by(test_recs, 'id')\n",
    "#     [:5]\n",
    "#     # .merge(test_recs[['id', 'species']], on='id', how='left')\n",
    "#     # .pipe(ggplot, aes(x='species', y='coverage_error'))\n",
    "#     # + geom_count(aes(size='..n..'))\n",
    "#     # + stat_summary(fun_y=np.median, geom='point', color='red', alpha=.5, shape='|', size=6, stroke=1)\n",
    "#     # + stat_summary(\n",
    "#     #     fun_ymin=partial(np.percentile, q=25), fun_ymax=partial(np.percentile, q=75),\n",
    "#     #     geom='linerange', color='red', alpha=.5, size=1,\n",
    "#     # )\n",
    "#     # + coord_flip()\n",
    "#     # + geom_hline(yintercept=len(search.classes_), color='grey')\n",
    "#     # + scale_x_discrete(limits=list(reversed(test_recs.species.cat.categories)))\n",
    "#     # + theme_figsize('square')\n",
    "#     # + ggtitle(rf'Coverage error over instance ({model_id}) ({recs_stats})')\n",
    "# )"
   ]
  },
  {
   "cell_type": "code",
   "execution_count": null,
   "metadata": {
    "skip": true
   },
   "outputs": [
    {
     "name": "stdout",
     "output_type": "stream",
     "text": "[skip]"
    }
   ],
   "source": [
    "# One-model/one-fold confusion matrix\n",
    "with figsize(\n",
    "    'square',\n",
    "    # 'full',\n",
    "    # 'full_dense',\n",
    "):\n",
    "    plot_confusion_matrix_df(\n",
    "        confusion_matrix_prob_df(model.test_evals.y, model.test_evals.y_scores, model.test_evals.classes),\n",
    "        title=model.model_id,\n",
    "        # normalize=False,  # For counts\n",
    "        raw=True, scale=10,  # Faster dev\n",
    "        title=f'({recs_stats})',\n",
    "    )"
   ]
  },
  {
   "cell_type": "code",
   "execution_count": null,
   "metadata": {},
   "outputs": [],
   "source": []
  }
 ],
 "metadata": {
  "kernelspec": {
   "display_name": "python",
   "language": "python",
   "name": "python"
  }
 },
 "nbformat": 4,
 "nbformat_minor": 2
}
