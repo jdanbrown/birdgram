{
 "cells": [
  {
   "cell_type": "code",
   "execution_count": null,
   "metadata": {
    "time": "1.062s"
   },
   "outputs": [],
   "source": [
    "from notebooks import *"
   ]
  },
  {
   "cell_type": "code",
   "execution_count": null,
   "metadata": {},
   "outputs": [],
   "source": [
    "# Query and save recent metadata\n",
    "#   - Total num recs: https://www.xeno-canto.org/explore?query=\n",
    "#   - Make query strings: https://www.xeno-canto.org/explore?query=q:E\n",
    "#   - Query docs: https://www.xeno-canto.org/help/search\n",
    "df = xc.query_and_save('since:30')  # days"
   ]
  }
 ],
 "metadata": {
  "kernelspec": {
   "display_name": "bubo-features (PYTHONSTARTUP)",
   "language": "python",
   "name": "bubo-features (PYTHONSTARTUP)"
  }
 },
 "nbformat": 4,
 "nbformat_minor": 2
}
