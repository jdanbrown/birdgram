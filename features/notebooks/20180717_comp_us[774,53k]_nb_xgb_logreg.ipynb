{
 "cells": [
  {
   "cell_type": "code",
   "execution_count": null,
   "metadata": {
    "time": "3.402s"
   },
   "outputs": [
    {
     "name": "stdout",
     "output_type": "stream",
     "text": "platform:\n  machine: x86_64\n  node: a104319b04ef\n  processor: x86_64\n  release: 4.14.33+\n  system: Linux\n  version: '#1 SMP Wed Jun 20 01:15:52 PDT 2018'\ncpu: 96\nmem: 85g\nswap: 0g\n"
    }
   ],
   "source": [
    "from notebooks import *\n",
    "print_sys_info()"
   ]
  },
  {
   "cell_type": "code",
   "execution_count": null,
   "metadata": {},
   "outputs": [
    {
     "name": "stdout",
     "output_type": "stream",
     "text": "[00:58:14.480] DEBUG  Projection.load\n  path: /app/data/models/projection/peterson-v0-26bae1c.pkl\n"
    }
   ],
   "source": [
    "# Load models\n",
    "load = Load()\n",
    "projection = Projection.load('peterson-v0-26bae1c', features=Features(load=load))"
   ]
  },
  {
   "cell_type": "code",
   "execution_count": null,
   "metadata": {
    "time": "11.05s"
   },
   "outputs": [
    {
     "name": "stdout",
     "output_type": "stream",
     "text": "all              9442/399859 (sp/recs)\ncountries         1148/59713 (sp/recs)\nspecies            334/35237 (sp/recs)\n(downloaded)       334/35229 (sp/recs)\nrecs_at_least      334/35229 (sp/recs)\nnum_species        334/35229 (sp/recs)\n"
    },
    {
     "name": "stdout",
     "output_type": "stream",
     "text": "num_recs           334/35229 (sp/recs)\nrecs ≥ 2           331/35226 (sp/recs)\n"
    },
    {
     "data": {
      "text/plain": "'sp[331], recs[35226]'"
     },
     "metadata": {},
     "output_type": "display_data",
     "transient": {}
    },
    {
     "data": {
      "text/html": "<table border=\"1\" class=\"dataframe\">\n  <thead>\n    <tr style=\"text-align: right;\">\n      <th></th>\n      <th></th>\n      <th></th>\n      <th></th>\n      <th></th>\n      <th></th>\n      <th></th>\n      <th></th>\n      <th>min</th>\n      <th>25%</th>\n      <th>50%</th>\n      <th>75%</th>\n      <th>max</th>\n    </tr>\n    <tr>\n      <th></th>\n      <th>dtype</th>\n      <th>sizeof</th>\n      <th>len</th>\n      <th>count</th>\n      <th>nunique</th>\n      <th>mean</th>\n      <th>std</th>\n      <th></th>\n      <th></th>\n      <th></th>\n      <th></th>\n      <th></th>\n    </tr>\n  </thead>\n  <tbody>\n    <tr>\n      <th>downloaded</th>\n      <th>bool</th>\n      <th>986328</th>\n      <th>35226</th>\n      <th>35226</th>\n      <th>1</th>\n      <th>NaN</th>\n      <th>NaN</th>\n      <td><div class=\"not-number\">True</div></td>\n      <td><div class=\"not-number\">True</div></td>\n      <td><div class=\"not-number\">True</div></td>\n      <td><div class=\"not-number\">True</div></td>\n      <td><div class=\"not-number\">True</div></td>\n    </tr>\n    <tr>\n      <th>species</th>\n      <th>category</th>\n      <th>1866988</th>\n      <th>35226</th>\n      <th>35226</th>\n      <th>331</th>\n      <th>NaN</th>\n      <th>NaN</th>\n      <td><div class=\"not-number\">SNGO</div></td>\n      <td><div class=\"not-number\">LEFL</div></td>\n      <td><div class=\"not-number\">CAGN</div></td>\n      <td><div class=\"not-number\">FOSP</div></td>\n      <td><div class=\"not-number\">PTWH</div></td>\n    </tr>\n    <tr>\n      <th>id</th>\n      <th>int64</th>\n      <th>986328</th>\n      <th>35226</th>\n      <th>35226</th>\n      <th>35226</th>\n      <th>219189.394</th>\n      <th>110898.575</th>\n      <td>584</td>\n      <td>135962</td>\n      <td>207428</td>\n      <td>320709</td>\n      <td>417729</td>\n    </tr>\n    <tr>\n      <th>sci_name</th>\n      <th>category</th>\n      <th>2363389</th>\n      <th>35226</th>\n      <th>35226</th>\n      <th>332</th>\n      <th>NaN</th>\n      <th>NaN</th>\n      <td><div class=\"not-number\">Chen caerulescens</div></td>\n      <td><div class=\"not-number\">Empidonax minimus</div></td>\n      <td><div class=\"not-number\">Polioptila californica</div></td>\n      <td><div class=\"not-number\">Passerella iliaca</div></td>\n      <td><div class=\"not-number\">Vidua macroura</div></td>\n    </tr>\n    <tr>\n      <th>com_name</th>\n      <th>category</th>\n      <th>2290009</th>\n      <th>35226</th>\n      <th>35226</th>\n      <th>332</th>\n      <th>NaN</th>\n      <th>NaN</th>\n      <td><div class=\"not-number\">Snow Goose</div></td>\n      <td><div class=\"not-number\">Least Flycatcher</div></td>\n      <td><div class=\"not-number\">California Gnatcatcher</div></td>\n      <td><div class=\"not-number\">Fox Sparrow</div></td>\n      <td><div class=\"not-number\">Pin-tailed Whydah</div></td>\n    </tr>\n    <tr>\n      <th>subspecies</th>\n      <th>object</th>\n      <th>1794442</th>\n      <th>35226</th>\n      <th>35226</th>\n      <th>715</th>\n      <th>NaN</th>\n      <th>NaN</th>\n      <td><div class=\"not-number\"></div></td>\n      <td><div class=\"not-number\"></div></td>\n      <td><div class=\"not-number\"></div></td>\n      <td><div class=\"not-number\"></div></td>\n      <td><div class=\"not-number\">zelotes</div></td>\n    </tr>\n    <tr>\n      <th>recordist</th>\n      <th>object</th>\n      <th>2227328</th>\n      <th>35226</th>\n      <th>35226</th>\n      <th>751</th>\n      <th>NaN</th>\n      <th>NaN</th>\n      <td><div class=\"not-number\">AJ Knue</div></td>\n      <td><div class=\"not-number\">Frank Lambert</div></td>\n      <td><div class=\"not-number\">Matt Wistrand</div></td>\n      <td><div class=\"not-number\">Richard E Webster</div></td>\n      <td><div class=\"not-number\">Étienne Leroy</div></td>\n    </tr>\n    <tr>\n      <th>country</th>\n      <th>object</th>\n      <th>2123560</th>\n      <th>35226</th>\n      <th>35226</th>\n      <th>3</th>\n      <th>NaN</th>\n      <th>NaN</th>\n      <td><div class=\"not-number\">Canada</div></td>\n      <td><div class=\"not-number\">United States</div></td>\n      <td><div class=\"not-number\">United States</div></td>\n      <td><div class=\"not-number\">United States</div></td>\n      <td><div class=\"not-number\">United States</div></td>\n    </tr>\n    <tr>\n      <th>locality</th>\n      <th>object</th>\n      <th>3318927</th>\n      <th>35226</th>\n      <th>35226</th>\n      <th>6444</th>\n      <th>NaN</th>\n      <th>NaN</th>\n      <td><div class=\"not-number\">  Bangor City Forest, Penobscot County, Maine</div></td>\n      <td><div class=\"not-number\">Durfee Hill, Glocester, Providence County, Rhode Island</div></td>\n      <td><div class=\"not-number\">Merritt Square Mall, Merritt Island, Brevard County, Florida</div></td>\n      <td><div class=\"not-number\">Round Valley, Chiricahua Mountains, Cochise Co., Arizona</div></td>\n      <td><div class=\"not-number\">Álvaro Obregón (near  Ciudad de México), Ciudad de México</div></td>\n    </tr>\n    <tr>\n      <th>lat</th>\n      <th>float64</th>\n      <th>845424</th>\n      <th>35226</th>\n      <th>34691</th>\n      <th>7274</th>\n      <th>38.278</th>\n      <th>9.294</th>\n      <td>-14.3</td>\n      <td>32</td>\n      <td>37</td>\n      <td>44.5</td>\n      <td>71.3</td>\n    </tr>\n    <tr>\n      <th>lng</th>\n      <th>float64</th>\n      <th>845424</th>\n      <th>35226</th>\n      <th>34691</th>\n      <th>7299</th>\n      <th>-105.305</th>\n      <th>18.300</th>\n      <td>-177</td>\n      <td>-118</td>\n      <td>-109</td>\n      <td>-93</td>\n      <td>-52.7</td>\n    </tr>\n    <tr>\n      <th>type</th>\n      <th>object</th>\n      <th>1991123</th>\n      <th>35226</th>\n      <th>35226</th>\n      <th>1994</th>\n      <th>NaN</th>\n      <th>NaN</th>\n      <td><div class=\"not-number\"> call</div></td>\n      <td><div class=\"not-number\">call</div></td>\n      <td><div class=\"not-number\">call, song</div></td>\n      <td><div class=\"not-number\">song</div></td>\n      <td><div class=\"not-number\">zweeoo call</div></td>\n    </tr>\n    <tr>\n      <th>quality</th>\n      <th>category</th>\n      <th>2041817</th>\n      <th>35226</th>\n      <th>35226</th>\n      <th>6</th>\n      <th>NaN</th>\n      <th>NaN</th>\n      <td><div class=\"not-number\">A</div></td>\n      <td><div class=\"not-number\">A</div></td>\n      <td><div class=\"not-number\">B</div></td>\n      <td><div class=\"not-number\">B</div></td>\n      <td><div class=\"not-number\">no score</div></td>\n    </tr>\n    <tr>\n      <th>date</th>\n      <th>datetime64[ns]</th>\n      <th>4508808</th>\n      <th>35226</th>\n      <th>35221</th>\n      <th>3713</th>\n      <th>NaN</th>\n      <th>NaN</th>\n      <td><div class=\"not-number\">1975-06-15 00:00:00</div></td>\n      <td><div class=\"not-number\">2011-12-23 00:00:00</div></td>\n      <td><div class=\"not-number\">2014-03-08 00:00:00</div></td>\n      <td><div class=\"not-number\">2015-08-15 00:00:00</div></td>\n      <td><div class=\"not-number\">2018-05-29 00:00:00</div></td>\n    </tr>\n    <tr>\n      <th>time</th>\n      <th>object</th>\n      <th>1895801</th>\n      <th>35226</th>\n      <th>35226</th>\n      <th>1937</th>\n      <th>NaN</th>\n      <th>NaN</th>\n      <td><div class=\"not-number\"> 07:5</div></td>\n      <td><div class=\"not-number\">07:52</div></td>\n      <td><div class=\"not-number\">10:00</div></td>\n      <td><div class=\"not-number\">14:56</div></td>\n      <td><div class=\"not-number\">pm</div></td>\n    </tr>\n    <tr>\n      <th>license_type</th>\n      <th>category</th>\n      <th>2006355</th>\n      <th>35226</th>\n      <th>35226</th>\n      <th>3</th>\n      <th>NaN</th>\n      <th>NaN</th>\n      <td><div class=\"not-number\">by-nc-nd</div></td>\n      <td><div class=\"not-number\">by-nc-nd</div></td>\n      <td><div class=\"not-number\">by-nc-sa</div></td>\n      <td><div class=\"not-number\">by-nc-sa</div></td>\n      <td><div class=\"not-number\">by-sa</div></td>\n    </tr>\n    <tr>\n      <th>license_detail</th>\n      <th>category</th>\n      <th>1831752</th>\n      <th>35226</th>\n      <th>35226</th>\n      <th>3</th>\n      <th>NaN</th>\n      <th>NaN</th>\n      <td><div class=\"not-number\">2.5</div></td>\n      <td><div class=\"not-number\">3.0</div></td>\n      <td><div class=\"not-number\">4.0</div></td>\n      <td><div class=\"not-number\">4.0</div></td>\n      <td><div class=\"not-number\">4.0</div></td>\n    </tr>\n    <tr>\n      <th>license</th>\n      <th>object</th>\n      <th>3274491</th>\n      <th>35226</th>\n      <th>35226</th>\n      <th>7</th>\n      <th>NaN</th>\n      <th>NaN</th>\n      <td><div class=\"not-number\">//creativecommons.org/licenses/by-nc-nd/2.5/</div></td>\n      <td><div class=\"not-number\">//creativecommons.org/licenses/by-nc-nd/4.0/</div></td>\n      <td><div class=\"not-number\">//creativecommons.org/licenses/by-nc-sa/4.0/</div></td>\n      <td><div class=\"not-number\">//creativecommons.org/licenses/by-nc-sa/4.0/</div></td>\n      <td><div class=\"not-number\">//creativecommons.org/licenses/by-sa/4.0/</div></td>\n    </tr>\n    <tr>\n      <th>url</th>\n      <th>object</th>\n      <th>2883291</th>\n      <th>35226</th>\n      <th>35226</th>\n      <th>35226</th>\n      <th>NaN</th>\n      <th>NaN</th>\n      <td><div class=\"not-number\">https://www.xeno-canto.org/100040</div></td>\n      <td><div class=\"not-number\">https://www.xeno-canto.org/161116</div></td>\n      <td><div class=\"not-number\">https://www.xeno-canto.org/255745</div></td>\n      <td><div class=\"not-number\">https://www.xeno-canto.org/350058</div></td>\n      <td><div class=\"not-number\">https://www.xeno-canto.org/99813</div></td>\n    </tr>\n    <tr>\n      <th>download</th>\n      <th>object</th>\n      <th>2988969</th>\n      <th>35226</th>\n      <th>35226</th>\n      <th>35226</th>\n      <th>NaN</th>\n      <th>NaN</th>\n      <td><div class=\"not-number\">//www.xeno-canto.org/100040/download</div></td>\n      <td><div class=\"not-number\">//www.xeno-canto.org/161116/download</div></td>\n      <td><div class=\"not-number\">//www.xeno-canto.org/255745/download</div></td>\n      <td><div class=\"not-number\">//www.xeno-canto.org/350058/download</div></td>\n      <td><div class=\"not-number\">//www.xeno-canto.org/99813/download</div></td>\n    </tr>\n  </tbody>\n</table>",
      "text/plain": "                                                                                                                            min  \\\n               dtype          sizeof  len   count nunique mean        std                                                         \ndownloaded     bool           986328  35226 35226 1       NaN         NaN                                                  True   \nspecies        category       1866988 35226 35226 331     NaN         NaN                                                  SNGO   \nid             int64          986328  35226 35226 35226    219189.394 110898.575                                            584   \nsci_name       category       2363389 35226 35226 332     NaN         NaN                                     Chen caerulescens   \ncom_name       category       2290009 35226 35226 332     NaN         NaN                                            Snow Goose   \nsubspecies     object         1794442 35226 35226 715     NaN         NaN                                                         \nrecordist      object         2227328 35226 35226 751     NaN         NaN                                               AJ Knue   \ncountry        object         2123560 35226 35226 3       NaN         NaN                                                Canada   \nlocality       object         3318927 35226 35226 6444    NaN         NaN           Bangor City Forest, Penobscot County, Maine   \nlat            float64        845424  35226 34691 7274     38.278     9.294                                               -14.3   \nlng            float64        845424  35226 34691 7299    -105.305    18.300                                               -177   \ntype           object         1991123 35226 35226 1994    NaN         NaN                                                  call   \nquality        category       2041817 35226 35226 6       NaN         NaN                                                     A   \ndate           datetime64[ns] 4508808 35226 35221 3713    NaN         NaN                                   1975-06-15 00:00:00   \ntime           object         1895801 35226 35226 1937    NaN         NaN                                                  07:5   \nlicense_type   category       2006355 35226 35226 3       NaN         NaN                                              by-nc-nd   \nlicense_detail category       1831752 35226 35226 3       NaN         NaN                                                   2.5   \nlicense        object         3274491 35226 35226 7       NaN         NaN          //creativecommons.org/licenses/by-nc-nd/2.5/   \nurl            object         2883291 35226 35226 35226   NaN         NaN                     https://www.xeno-canto.org/100040   \ndownload       object         2988969 35226 35226 35226   NaN         NaN                  //www.xeno-canto.org/100040/download   \n\n                                                                                                                                      25%  \\\n               dtype          sizeof  len   count nunique mean        std                                                                   \ndownloaded     bool           986328  35226 35226 1       NaN         NaN                                                            True   \nspecies        category       1866988 35226 35226 331     NaN         NaN                                                            LEFL   \nid             int64          986328  35226 35226 35226    219189.394 110898.575                                                   135962   \nsci_name       category       2363389 35226 35226 332     NaN         NaN                                               Empidonax minimus   \ncom_name       category       2290009 35226 35226 332     NaN         NaN                                                Least Flycatcher   \nsubspecies     object         1794442 35226 35226 715     NaN         NaN                                                                   \nrecordist      object         2227328 35226 35226 751     NaN         NaN                                                   Frank Lambert   \ncountry        object         2123560 35226 35226 3       NaN         NaN                                                   United States   \nlocality       object         3318927 35226 35226 6444    NaN         NaN         Durfee Hill, Glocester, Providence County, Rhode Island   \nlat            float64        845424  35226 34691 7274     38.278     9.294                                                            32   \nlng            float64        845424  35226 34691 7299    -105.305    18.300                                                         -118   \ntype           object         1991123 35226 35226 1994    NaN         NaN                                                            call   \nquality        category       2041817 35226 35226 6       NaN         NaN                                                               A   \ndate           datetime64[ns] 4508808 35226 35221 3713    NaN         NaN                                             2011-12-23 00:00:00   \ntime           object         1895801 35226 35226 1937    NaN         NaN                                                           07:52   \nlicense_type   category       2006355 35226 35226 3       NaN         NaN                                                        by-nc-nd   \nlicense_detail category       1831752 35226 35226 3       NaN         NaN                                                             3.0   \nlicense        object         3274491 35226 35226 7       NaN         NaN                    //creativecommons.org/licenses/by-nc-nd/4.0/   \nurl            object         2883291 35226 35226 35226   NaN         NaN                               https://www.xeno-canto.org/161116   \ndownload       object         2988969 35226 35226 35226   NaN         NaN                            //www.xeno-canto.org/161116/download   \n\n                                                                                                                                           50%  \\\n               dtype          sizeof  len   count nunique mean        std                                                                        \ndownloaded     bool           986328  35226 35226 1       NaN         NaN                                                                 True   \nspecies        category       1866988 35226 35226 331     NaN         NaN                                                                 CAGN   \nid             int64          986328  35226 35226 35226    219189.394 110898.575                                                        207428   \nsci_name       category       2363389 35226 35226 332     NaN         NaN                                               Polioptila californica   \ncom_name       category       2290009 35226 35226 332     NaN         NaN                                               California Gnatcatcher   \nsubspecies     object         1794442 35226 35226 715     NaN         NaN                                                                        \nrecordist      object         2227328 35226 35226 751     NaN         NaN                                                        Matt Wistrand   \ncountry        object         2123560 35226 35226 3       NaN         NaN                                                        United States   \nlocality       object         3318927 35226 35226 6444    NaN         NaN         Merritt Square Mall, Merritt Island, Brevard County, Florida   \nlat            float64        845424  35226 34691 7274     38.278     9.294                                                                 37   \nlng            float64        845424  35226 34691 7299    -105.305    18.300                                                              -109   \ntype           object         1991123 35226 35226 1994    NaN         NaN                                                           call, song   \nquality        category       2041817 35226 35226 6       NaN         NaN                                                                    B   \ndate           datetime64[ns] 4508808 35226 35221 3713    NaN         NaN                                                  2014-03-08 00:00:00   \ntime           object         1895801 35226 35226 1937    NaN         NaN                                                                10:00   \nlicense_type   category       2006355 35226 35226 3       NaN         NaN                                                             by-nc-sa   \nlicense_detail category       1831752 35226 35226 3       NaN         NaN                                                                  4.0   \nlicense        object         3274491 35226 35226 7       NaN         NaN                         //creativecommons.org/licenses/by-nc-sa/4.0/   \nurl            object         2883291 35226 35226 35226   NaN         NaN                                    https://www.xeno-canto.org/255745   \ndownload       object         2988969 35226 35226 35226   NaN         NaN                                 //www.xeno-canto.org/255745/download   \n\n                                                                                                                                       75%  \\\n               dtype          sizeof  len   count nunique mean        std                                                                    \ndownloaded     bool           986328  35226 35226 1       NaN         NaN                                                             True   \nspecies        category       1866988 35226 35226 331     NaN         NaN                                                             FOSP   \nid             int64          986328  35226 35226 35226    219189.394 110898.575                                                    320709   \nsci_name       category       2363389 35226 35226 332     NaN         NaN                                                Passerella iliaca   \ncom_name       category       2290009 35226 35226 332     NaN         NaN                                                      Fox Sparrow   \nsubspecies     object         1794442 35226 35226 715     NaN         NaN                                                                    \nrecordist      object         2227328 35226 35226 751     NaN         NaN                                                Richard E Webster   \ncountry        object         2123560 35226 35226 3       NaN         NaN                                                    United States   \nlocality       object         3318927 35226 35226 6444    NaN         NaN         Round Valley, Chiricahua Mountains, Cochise Co., Arizona   \nlat            float64        845424  35226 34691 7274     38.278     9.294                                                           44.5   \nlng            float64        845424  35226 34691 7299    -105.305    18.300                                                           -93   \ntype           object         1991123 35226 35226 1994    NaN         NaN                                                             song   \nquality        category       2041817 35226 35226 6       NaN         NaN                                                                B   \ndate           datetime64[ns] 4508808 35226 35221 3713    NaN         NaN                                              2015-08-15 00:00:00   \ntime           object         1895801 35226 35226 1937    NaN         NaN                                                            14:56   \nlicense_type   category       2006355 35226 35226 3       NaN         NaN                                                         by-nc-sa   \nlicense_detail category       1831752 35226 35226 3       NaN         NaN                                                              4.0   \nlicense        object         3274491 35226 35226 7       NaN         NaN                     //creativecommons.org/licenses/by-nc-sa/4.0/   \nurl            object         2883291 35226 35226 35226   NaN         NaN                                https://www.xeno-canto.org/350058   \ndownload       object         2988969 35226 35226 35226   NaN         NaN                             //www.xeno-canto.org/350058/download   \n\n                                                                                                                                        max  \n               dtype          sizeof  len   count nunique mean        std                                                                    \ndownloaded     bool           986328  35226 35226 1       NaN         NaN                                                              True  \nspecies        category       1866988 35226 35226 331     NaN         NaN                                                              PTWH  \nid             int64          986328  35226 35226 35226    219189.394 110898.575                                                     417729  \nsci_name       category       2363389 35226 35226 332     NaN         NaN                                                    Vidua macroura  \ncom_name       category       2290009 35226 35226 332     NaN         NaN                                                 Pin-tailed Whydah  \nsubspecies     object         1794442 35226 35226 715     NaN         NaN                                                           zelotes  \nrecordist      object         2227328 35226 35226 751     NaN         NaN                                                     Étienne Leroy  \ncountry        object         2123560 35226 35226 3       NaN         NaN                                                     United States  \nlocality       object         3318927 35226 35226 6444    NaN         NaN         Álvaro Obregón (near  Ciudad de México), Ciudad de México  \nlat            float64        845424  35226 34691 7274     38.278     9.294                                                            71.3  \nlng            float64        845424  35226 34691 7299    -105.305    18.300                                                          -52.7  \ntype           object         1991123 35226 35226 1994    NaN         NaN                                                       zweeoo call  \nquality        category       2041817 35226 35226 6       NaN         NaN                                                          no score  \ndate           datetime64[ns] 4508808 35226 35221 3713    NaN         NaN                                               2018-05-29 00:00:00  \ntime           object         1895801 35226 35226 1937    NaN         NaN                                                                pm  \nlicense_type   category       2006355 35226 35226 3       NaN         NaN                                                             by-sa  \nlicense_detail category       1831752 35226 35226 3       NaN         NaN                                                               4.0  \nlicense        object         3274491 35226 35226 7       NaN         NaN                         //creativecommons.org/licenses/by-sa/4.0/  \nurl            object         2883291 35226 35226 35226   NaN         NaN                                  https://www.xeno-canto.org/99813  \ndownload       object         2988969 35226 35226 35226   NaN         NaN                               //www.xeno-canto.org/99813/download"
     },
     "metadata": {},
     "output_type": "display_data",
     "transient": {}
    },
    {
     "data": {
      "text/html": "<table border=\"1\" class=\"dataframe\">\n  <thead>\n    <tr style=\"text-align: right;\">\n      <th></th>\n      <th></th>\n      <th>downloaded</th>\n      <th>species</th>\n      <th>id</th>\n      <th>sci_name</th>\n      <th>com_name</th>\n      <th>subspecies</th>\n      <th>recordist</th>\n      <th>country</th>\n      <th>locality</th>\n      <th>lat</th>\n      <th>lng</th>\n      <th>type</th>\n      <th>quality</th>\n      <th>date</th>\n      <th>time</th>\n      <th>license_type</th>\n      <th>license_detail</th>\n      <th>license</th>\n      <th>url</th>\n      <th>download</th>\n    </tr>\n    <tr>\n      <th>species</th>\n      <th></th>\n      <th></th>\n      <th></th>\n      <th></th>\n      <th></th>\n      <th></th>\n      <th></th>\n      <th></th>\n      <th></th>\n      <th></th>\n      <th></th>\n      <th></th>\n      <th></th>\n      <th></th>\n      <th></th>\n      <th></th>\n      <th></th>\n      <th></th>\n      <th></th>\n      <th></th>\n      <th></th>\n    </tr>\n  </thead>\n  <tbody>\n    <tr>\n      <th>SPOW</th>\n      <th>33738</th>\n      <td><div class=\"not-number\">True</div></td>\n      <td><div class=\"not-number\">SPOW</div></td>\n      <td>383310</td>\n      <td><div class=\"not-number\">Strix occidentalis</div></td>\n      <td><div class=\"not-number\">Spotted Owl</div></td>\n      <td><div class=\"not-number\">occidentalis</div></td>\n      <td><div class=\"not-number\">Lance A. M. Benner</div></td>\n      <td><div class=\"not-number\">United States</div></td>\n      <td><div class=\"not-number\">Red Box to Valley Forge Campground, Angeles National Forest, Los Angeles County, California</div></td>\n      <td>34.3</td>\n      <td>-118.0</td>\n      <td><div class=\"not-number\">call, female</div></td>\n      <td><div class=\"not-number\">no score</div></td>\n      <td><div class=\"not-number\">2017-08-05 00:00:00</div></td>\n      <td><div class=\"not-number\">20:33</div></td>\n      <td><div class=\"not-number\">by-nc-sa</div></td>\n      <td><div class=\"not-number\">4.0</div></td>\n      <td><div class=\"not-number\">//creativecommons.org/licenses/by-nc-sa/4.0/</div></td>\n      <td><div class=\"not-number\">https://www.xeno-canto.org/383310</div></td>\n      <td><div class=\"not-number\">//www.xeno-canto.org/383310/download</div></td>\n    </tr>\n    <tr>\n      <th>WBNU</th>\n      <th>334163</th>\n      <td><div class=\"not-number\">True</div></td>\n      <td><div class=\"not-number\">WBNU</div></td>\n      <td>72056</td>\n      <td><div class=\"not-number\">Sitta carolinensis</div></td>\n      <td><div class=\"not-number\">White-breasted Nuthatch</div></td>\n      <td><div class=\"not-number\">alexandrae</div></td>\n      <td><div class=\"not-number\">Richard E Webster</div></td>\n      <td><div class=\"not-number\">Mexico</div></td>\n      <td><div class=\"not-number\">La Corona Arriba, Sierra San Pedro Martir, Baja California</div></td>\n      <td>31.0</td>\n      <td>-116.0</td>\n      <td><div class=\"not-number\">call</div></td>\n      <td><div class=\"not-number\">C</div></td>\n      <td><div class=\"not-number\">2010-09-25 00:00:00</div></td>\n      <td><div class=\"not-number\">0824</div></td>\n      <td><div class=\"not-number\">by-nc-nd</div></td>\n      <td><div class=\"not-number\">2.5</div></td>\n      <td><div class=\"not-number\">//creativecommons.org/licenses/by-nc-nd/2.5/</div></td>\n      <td><div class=\"not-number\">https://www.xeno-canto.org/72056</div></td>\n      <td><div class=\"not-number\">//www.xeno-canto.org/72056/download</div></td>\n    </tr>\n    <tr>\n      <th>WOTH</th>\n      <th>369818</th>\n      <td><div class=\"not-number\">True</div></td>\n      <td><div class=\"not-number\">WOTH</div></td>\n      <td>33467</td>\n      <td><div class=\"not-number\">Hylocichla mustelina</div></td>\n      <td><div class=\"not-number\">Wood Thrush</div></td>\n      <td><div class=\"not-number\"></div></td>\n      <td><div class=\"not-number\">Andrew Spencer</div></td>\n      <td><div class=\"not-number\">United States</div></td>\n      <td><div class=\"not-number\">Steel Creek, Buffalo National River, Madison Co., Arkansas</div></td>\n      <td>36.0</td>\n      <td>-93.3</td>\n      <td><div class=\"not-number\">song</div></td>\n      <td><div class=\"not-number\">A</div></td>\n      <td><div class=\"not-number\">2009-04-26 00:00:00</div></td>\n      <td><div class=\"not-number\">07:35</div></td>\n      <td><div class=\"not-number\">by-nc-nd</div></td>\n      <td><div class=\"not-number\">2.5</div></td>\n      <td><div class=\"not-number\">//creativecommons.org/licenses/by-nc-nd/2.5/</div></td>\n      <td><div class=\"not-number\">https://www.xeno-canto.org/33467</div></td>\n      <td><div class=\"not-number\">//www.xeno-canto.org/33467/download</div></td>\n    </tr>\n    <tr>\n      <th>CATH</th>\n      <th>288038</th>\n      <td><div class=\"not-number\">True</div></td>\n      <td><div class=\"not-number\">CATH</div></td>\n      <td>121010</td>\n      <td><div class=\"not-number\">Toxostoma redivivum</div></td>\n      <td><div class=\"not-number\">California Thrasher</div></td>\n      <td><div class=\"not-number\"></div></td>\n      <td><div class=\"not-number\">Lance A. M. Benner</div></td>\n      <td><div class=\"not-number\">United States</div></td>\n      <td><div class=\"not-number\">Powder Canyon, Puente Hills, Los Angeles County, California</div></td>\n      <td>34.0</td>\n      <td>-118.0</td>\n      <td><div class=\"not-number\">song</div></td>\n      <td><div class=\"not-number\">B</div></td>\n      <td><div class=\"not-number\">2013-02-02 00:00:00</div></td>\n      <td><div class=\"not-number\">11:49</div></td>\n      <td><div class=\"not-number\">by-nc-sa</div></td>\n      <td><div class=\"not-number\">3.0</div></td>\n      <td><div class=\"not-number\">//creativecommons.org/licenses/by-nc-sa/3.0/</div></td>\n      <td><div class=\"not-number\">https://www.xeno-canto.org/121010</div></td>\n      <td><div class=\"not-number\">//www.xeno-canto.org/121010/download</div></td>\n    </tr>\n    <tr>\n      <th>GRWA</th>\n      <th>92364</th>\n      <td><div class=\"not-number\">True</div></td>\n      <td><div class=\"not-number\">GRWA</div></td>\n      <td>323600</td>\n      <td><div class=\"not-number\">Setophaga graciae</div></td>\n      <td><div class=\"not-number\">Grace's Warbler</div></td>\n      <td><div class=\"not-number\">graciae</div></td>\n      <td><div class=\"not-number\">Richard E. Webster</div></td>\n      <td><div class=\"not-number\">United States</div></td>\n      <td><div class=\"not-number\">Rucker Canyon, Chiricahua Mountains</div></td>\n      <td>31.8</td>\n      <td>-109.0</td>\n      <td><div class=\"not-number\">song</div></td>\n      <td><div class=\"not-number\">B</div></td>\n      <td><div class=\"not-number\">2015-05-30 00:00:00</div></td>\n      <td><div class=\"not-number\">19:00</div></td>\n      <td><div class=\"not-number\">by-nc-sa</div></td>\n      <td><div class=\"not-number\">4.0</div></td>\n      <td><div class=\"not-number\">//creativecommons.org/licenses/by-nc-sa/4.0/</div></td>\n      <td><div class=\"not-number\">https://www.xeno-canto.org/323600</div></td>\n      <td><div class=\"not-number\">//www.xeno-canto.org/323600/download</div></td>\n    </tr>\n    <tr>\n      <th>BCSP</th>\n      <th>283513</th>\n      <td><div class=\"not-number\">True</div></td>\n      <td><div class=\"not-number\">BCSP</div></td>\n      <td>125726</td>\n      <td><div class=\"not-number\">Spizella atrogularis</div></td>\n      <td><div class=\"not-number\">Black-chinned Sparrow</div></td>\n      <td><div class=\"not-number\">cana</div></td>\n      <td><div class=\"not-number\">Richard E. Webster</div></td>\n      <td><div class=\"not-number\">United States</div></td>\n      <td><div class=\"not-number\">Arrastre Creek at 2N02, San Bernardino Mountains, California</div></td>\n      <td>34.3</td>\n      <td>-117.0</td>\n      <td><div class=\"not-number\">song</div></td>\n      <td><div class=\"not-number\">A</div></td>\n      <td><div class=\"not-number\">2006-05-05 00:00:00</div></td>\n      <td><div class=\"not-number\">09:00</div></td>\n      <td><div class=\"not-number\">by-nc-sa</div></td>\n      <td><div class=\"not-number\">3.0</div></td>\n      <td><div class=\"not-number\">//creativecommons.org/licenses/by-nc-sa/3.0/</div></td>\n      <td><div class=\"not-number\">https://www.xeno-canto.org/125726</div></td>\n      <td><div class=\"not-number\">//www.xeno-canto.org/125726/download</div></td>\n    </tr>\n    <tr>\n      <th>BTSP</th>\n      <th>297229</th>\n      <td><div class=\"not-number\">True</div></td>\n      <td><div class=\"not-number\">BTSP</div></td>\n      <td>111342</td>\n      <td><div class=\"not-number\">Amphispiza bilineata</div></td>\n      <td><div class=\"not-number\">Black-throated Sparrow</div></td>\n      <td><div class=\"not-number\">deserticola</div></td>\n      <td><div class=\"not-number\">Richard E Webster</div></td>\n      <td><div class=\"not-number\">United States</div></td>\n      <td><div class=\"not-number\">Silver Creek, Cave Creek Canyon, Cochise County, Arizona</div></td>\n      <td>31.9</td>\n      <td>-109.0</td>\n      <td><div class=\"not-number\">subsong</div></td>\n      <td><div class=\"not-number\">A</div></td>\n      <td><div class=\"not-number\">2010-09-09 00:00:00</div></td>\n      <td><div class=\"not-number\">07:37</div></td>\n      <td><div class=\"not-number\">by-nc-nd</div></td>\n      <td><div class=\"not-number\">2.5</div></td>\n      <td><div class=\"not-number\">//creativecommons.org/licenses/by-nc-nd/2.5/</div></td>\n      <td><div class=\"not-number\">https://www.xeno-canto.org/111342</div></td>\n      <td><div class=\"not-number\">//www.xeno-canto.org/111342/download</div></td>\n    </tr>\n    <tr>\n      <th>GTTO</th>\n      <th>296563</th>\n      <td><div class=\"not-number\">True</div></td>\n      <td><div class=\"not-number\">GTTO</div></td>\n      <td>112024</td>\n      <td><div class=\"not-number\">Pipilo chlorurus</div></td>\n      <td><div class=\"not-number\">Green-tailed Towhee</div></td>\n      <td><div class=\"not-number\"></div></td>\n      <td><div class=\"not-number\">Richard E Webster</div></td>\n      <td><div class=\"not-number\">United States</div></td>\n      <td><div class=\"not-number\">Round Valley, Chiricahua Mountains, Cochise Co., Arizona</div></td>\n      <td>32.0</td>\n      <td>-109.0</td>\n      <td><div class=\"not-number\">call, song</div></td>\n      <td><div class=\"not-number\">A</div></td>\n      <td><div class=\"not-number\">2008-09-29 00:00:00</div></td>\n      <td><div class=\"not-number\">08:35</div></td>\n      <td><div class=\"not-number\">by-nc-nd</div></td>\n      <td><div class=\"not-number\">2.5</div></td>\n      <td><div class=\"not-number\">//creativecommons.org/licenses/by-nc-nd/2.5/</div></td>\n      <td><div class=\"not-number\">https://www.xeno-canto.org/112024</div></td>\n      <td><div class=\"not-number\">//www.xeno-canto.org/112024/download</div></td>\n    </tr>\n    <tr>\n      <th>BHGR</th>\n      <th>135981</th>\n      <td><div class=\"not-number\">True</div></td>\n      <td><div class=\"not-number\">BHGR</div></td>\n      <td>278681</td>\n      <td><div class=\"not-number\">Pheucticus melanocephalus</div></td>\n      <td><div class=\"not-number\">Black-headed Grosbeak</div></td>\n      <td><div class=\"not-number\"></div></td>\n      <td><div class=\"not-number\">Nick Komar</div></td>\n      <td><div class=\"not-number\">United States</div></td>\n      <td><div class=\"not-number\">Patagonia Roadside Rest Area, Patagonia, AZ</div></td>\n      <td>31.5</td>\n      <td>-111.0</td>\n      <td><div class=\"not-number\">begging call, juvenile</div></td>\n      <td><div class=\"not-number\">C</div></td>\n      <td><div class=\"not-number\">2015-09-08 00:00:00</div></td>\n      <td><div class=\"not-number\">09:15</div></td>\n      <td><div class=\"not-number\">by-nc-sa</div></td>\n      <td><div class=\"not-number\">4.0</div></td>\n      <td><div class=\"not-number\">//creativecommons.org/licenses/by-nc-sa/4.0/</div></td>\n      <td><div class=\"not-number\">https://www.xeno-canto.org/278681</div></td>\n      <td><div class=\"not-number\">//www.xeno-canto.org/278681/download</div></td>\n    </tr>\n    <tr>\n      <th>RECR</th>\n      <th>350421</th>\n      <td><div class=\"not-number\">True</div></td>\n      <td><div class=\"not-number\">RECR</div></td>\n      <td>54332</td>\n      <td><div class=\"not-number\">Loxia curvirostra</div></td>\n      <td><div class=\"not-number\">Red Crossbill</div></td>\n      <td><div class=\"not-number\">Type 5</div></td>\n      <td><div class=\"not-number\">Mike Nelson</div></td>\n      <td><div class=\"not-number\">United States</div></td>\n      <td><div class=\"not-number\">Genesee Park, Denver, Colorado</div></td>\n      <td>39.7</td>\n      <td>-105.0</td>\n      <td><div class=\"not-number\">flight call</div></td>\n      <td><div class=\"not-number\">C</div></td>\n      <td><div class=\"not-number\">2010-04-18 00:00:00</div></td>\n      <td><div class=\"not-number\">4:30pm</div></td>\n      <td><div class=\"not-number\">by-nc-sa</div></td>\n      <td><div class=\"not-number\">3.0</div></td>\n      <td><div class=\"not-number\">//creativecommons.org/licenses/by-nc-sa/3.0/</div></td>\n      <td><div class=\"not-number\">https://www.xeno-canto.org/54332</div></td>\n      <td><div class=\"not-number\">//www.xeno-canto.org/54332/download</div></td>\n    </tr>\n  </tbody>\n</table>",
      "text/plain": "                downloaded species      id                   sci_name                 com_name    subspecies           recordist  \\\nspecies                                                                                                                            \nSPOW    33738         True    SPOW  383310         Strix occidentalis              Spotted Owl  occidentalis  Lance A. M. Benner   \nWBNU    334163        True    WBNU   72056         Sitta carolinensis  White-breasted Nuthatch    alexandrae   Richard E Webster   \nWOTH    369818        True    WOTH   33467       Hylocichla mustelina              Wood Thrush                    Andrew Spencer   \nCATH    288038        True    CATH  121010        Toxostoma redivivum      California Thrasher                Lance A. M. Benner   \nGRWA    92364         True    GRWA  323600          Setophaga graciae          Grace's Warbler       graciae  Richard E. Webster   \nBCSP    283513        True    BCSP  125726       Spizella atrogularis    Black-chinned Sparrow          cana  Richard E. Webster   \nBTSP    297229        True    BTSP  111342       Amphispiza bilineata   Black-throated Sparrow   deserticola   Richard E Webster   \nGTTO    296563        True    GTTO  112024           Pipilo chlorurus      Green-tailed Towhee                 Richard E Webster   \nBHGR    135981        True    BHGR  278681  Pheucticus melanocephalus    Black-headed Grosbeak                        Nick Komar   \nRECR    350421        True    RECR   54332          Loxia curvirostra            Red Crossbill        Type 5         Mike Nelson   \n\n                      country                                                                                     locality     lat  \\\nspecies                                                                                                                              \nSPOW    33738   United States  Red Box to Valley Forge Campground, Angeles National Forest, Los Angeles County, California  34.256   \nWBNU    334163         Mexico                                   La Corona Arriba, Sierra San Pedro Martir, Baja California  30.980   \nWOTH    369818  United States                                   Steel Creek, Buffalo National River, Madison Co., Arkansas  36.040   \nCATH    288038  United States                                  Powder Canyon, Puente Hills, Los Angeles County, California  33.964   \nGRWA    92364   United States                                                          Rucker Canyon, Chiricahua Mountains  31.777   \nBCSP    283513  United States                                 Arrastre Creek at 2N02, San Bernardino Mountains, California  34.254   \nBTSP    297229  United States                                     Silver Creek, Cave Creek Canyon, Cochise County, Arizona  31.932   \nGTTO    296563  United States                                     Round Valley, Chiricahua Mountains, Cochise Co., Arizona  31.957   \nBHGR    135981  United States                                                  Patagonia Roadside Rest Area, Patagonia, AZ  31.508   \nRECR    350421  United States                                                               Genesee Park, Denver, Colorado  39.717   \n\n                    lng                    type   quality       date    time license_type license_detail  \\\nspecies                                                                                                    \nSPOW    33738  -118.090            call, female  no score 2017-08-05   20:33     by-nc-sa            4.0   \nWBNU    334163 -115.504                    call         C 2010-09-25    0824     by-nc-nd            2.5   \nWOTH    369818  -93.341                    song         A 2009-04-26   07:35     by-nc-nd            2.5   \nCATH    288038 -117.925                    song         B 2013-02-02   11:49     by-nc-sa            3.0   \nGRWA    92364  -109.312                    song         B 2015-05-30   19:00     by-nc-sa            4.0   \nBCSP    283513 -116.745                    song         A 2006-05-05   09:00     by-nc-sa            3.0   \nBTSP    297229 -109.191                 subsong         A 2010-09-09   07:37     by-nc-nd            2.5   \nGTTO    296563 -109.173              call, song         A 2008-09-29   08:35     by-nc-nd            2.5   \nBHGR    135981 -110.803  begging call, juvenile         C 2015-09-08   09:15     by-nc-sa            4.0   \nRECR    350421 -105.317             flight call         C 2010-04-18  4:30pm     by-nc-sa            3.0   \n\n                                                     license                                url  \\\nspecies                                                                                           \nSPOW    33738   //creativecommons.org/licenses/by-nc-sa/4.0/  https://www.xeno-canto.org/383310   \nWBNU    334163  //creativecommons.org/licenses/by-nc-nd/2.5/   https://www.xeno-canto.org/72056   \nWOTH    369818  //creativecommons.org/licenses/by-nc-nd/2.5/   https://www.xeno-canto.org/33467   \nCATH    288038  //creativecommons.org/licenses/by-nc-sa/3.0/  https://www.xeno-canto.org/121010   \nGRWA    92364   //creativecommons.org/licenses/by-nc-sa/4.0/  https://www.xeno-canto.org/323600   \nBCSP    283513  //creativecommons.org/licenses/by-nc-sa/3.0/  https://www.xeno-canto.org/125726   \nBTSP    297229  //creativecommons.org/licenses/by-nc-nd/2.5/  https://www.xeno-canto.org/111342   \nGTTO    296563  //creativecommons.org/licenses/by-nc-nd/2.5/  https://www.xeno-canto.org/112024   \nBHGR    135981  //creativecommons.org/licenses/by-nc-sa/4.0/  https://www.xeno-canto.org/278681   \nRECR    350421  //creativecommons.org/licenses/by-nc-sa/3.0/   https://www.xeno-canto.org/54332   \n\n                                            download  \nspecies                                               \nSPOW    33738   //www.xeno-canto.org/383310/download  \nWBNU    334163   //www.xeno-canto.org/72056/download  \nWOTH    369818   //www.xeno-canto.org/33467/download  \nCATH    288038  //www.xeno-canto.org/121010/download  \nGRWA    92364   //www.xeno-canto.org/323600/download  \nBCSP    283513  //www.xeno-canto.org/125726/download  \nBTSP    297229  //www.xeno-canto.org/111342/download  \nGTTO    296563  //www.xeno-canto.org/112024/download  \nBHGR    135981  //www.xeno-canto.org/278681/download  \nRECR    350421   //www.xeno-canto.org/54332/download"
     },
     "metadata": {},
     "output_type": "display_data",
     "transient": {}
    }
   ],
   "source": [
    "# Select recs\n",
    "#   1. countries: Filter recs to these countries\n",
    "#   2. species: Filter recs to these species\n",
    "#   3. recs_at_least: Filter species to those with at least this many recs\n",
    "#   4. num_species: Sample this many of the species\n",
    "#   5. num_recs: Sample this many recs per species\n",
    "inf = np.inf\n",
    "# countries_k, com_names_k = 'na', 'us'      # 9.4k/400k -> 1.1k/60k -> 774/53k\n",
    "countries_k, com_names_k = 'na', 'ca'      # 9.4k/400k -> 1.1k/60k -> 334/35k\n",
    "# countries_k, com_names_k = 'na', 'dan170'  # 9.4k/400k -> 1.1k/60k -> 170/24k\n",
    "recs_at_least, num_species, num_recs =   0, inf, inf  # US[334/35k ->1.1k/60k -> 774/53k -> 774/53k   -> 743/53k]    # All US\n",
    "# recs_at_least, num_species, num_recs = 100, 100, 100  # CA[334/35k -> 127/25k -> 100/21k -> 100/10k   -> 100/10k]\n",
    "# recs_at_least, num_species, num_recs =  50, 100, 100  # CA[334/35k -> 224/32k -> 100/16k -> 100/ 9.0k -> 100/ 9.0k]\n",
    "# recs_at_least, num_species, num_recs =   0, 100, 100  # CA[334/35k -> 334/35k -> 100/12k -> 100/ 6.8k ->  99/ 6.8k]\n",
    "# recs_at_least, num_species, num_recs =   0, 168, 100  # CA[334/34k -> 334/34k -> 168/18k -> 168/11k   -> 167/11k]    # (old 'all')\n",
    "# recs_at_least, num_species, num_recs =   0, 168,  20  # CA[334/34k -> 334/35k -> 168/18k -> 168/ 3.2k -> 167/ 3.2k]  # (old 'recs')\n",
    "# recs_at_least, num_species, num_recs =  20, 168,  20  # CA[334/35k -> 296/35k -> 168/20k -> 168/ 3.4k -> 168/ 3.4k]  # Familiar set\n",
    "# recs_at_least, num_species, num_recs =  20, 336,  20  # US[774/53k -> 528/51k -> 336/33k -> 336/ 6.7k -> 336/ 6.7k]  # Scale species\n",
    "# recs_at_least, num_species, num_recs =  10, 168,  20  # CA[334/35k ->                                             ]  # Class imbalance\n",
    "# recs_at_least, num_species, num_recs =   0, 168,  20  # CA[334/35k ->                                             ]  # Class imbalance\n",
    "# recs_at_least, num_species, num_recs =  20, 50,  100  # Faster dev\n",
    "# recs_at_least, num_species, num_recs =  20, 50,   50  # Faster dev\n",
    "# recs_at_least, num_species, num_recs =  20, 50,   20  # Faster dev\n",
    "# recs_at_least, num_species, num_recs =  20, 50,   10  # Faster dev\n",
    "# recs_at_least, num_species, num_recs =  20, 50,    5  # Faster dev\n",
    "get_recs_stats = lambda df: dict(sp=df.species.nunique(), recs=len(df))\n",
    "puts_stats = lambda desc: partial(tap, f=lambda df: print('%-15s %12s (sp/recs)' % (desc, '%(sp)s/%(recs)s' % get_recs_stats(df))))\n",
    "xcs = (xc.metadata\n",
    "    .pipe(puts_stats('all'))\n",
    "    # 1. countries: Filter recs to these countries\n",
    "    [lambda df: df.country.isin(constants.countries[countries_k])]\n",
    "    .pipe(puts_stats('countries'))\n",
    "    # 2. species: Filter recs to these species\n",
    "    [lambda df: df.species.isin(com_names_to_species(*com_names[com_names_k]))]\n",
    "    .pipe(puts_stats('species'))\n",
    "    # Omit not-downloaded recs (should be few within the selected countries)\n",
    "    [lambda df: df.downloaded]\n",
    "    .pipe(puts_stats('(downloaded)'))\n",
    "    # Remove empty cats for perf\n",
    "    .pipe(df_remove_unused_categories)\n",
    "    # 3. recs_at_least: Filter species to those with at least this many recs\n",
    "    [lambda df: df.species.isin(df.species.value_counts()[lambda s: s >= recs_at_least].index)]\n",
    "    .pipe(puts_stats('recs_at_least'))\n",
    "    # 4. num_species: Sample this many of the species\n",
    "    [lambda df: df.species.isin(df.species.drop_duplicates().pipe(lambda s: s.sample(n=min(len(s), num_species), random_state=0)))]\n",
    "    .pipe(puts_stats('num_species'))\n",
    "    # 5. num_recs: Sample this many recs per species\n",
    "    #   - Remove empty cats else .groupby fails on empty groups\n",
    "    .pipe(df_remove_unused_categories)\n",
    "    .groupby('species').apply(lambda g: g.sample(n=min(len(g), num_recs), random_state=0))\n",
    "    .pipe(puts_stats('num_recs'))\n",
    "    # Drop species with <2 recs, else StratifiedShuffleSplit complains (e.g. 'TUVU')\n",
    "    [lambda df: df.species.isin(df.species.value_counts()[lambda s: s >= 2].index)]\n",
    "    .pipe(puts_stats('recs ≥ 2'))\n",
    "    # Clean up for downstream\n",
    "    .pipe(df_remove_unused_categories)\n",
    ")\n",
    "_recs_stats = get_recs_stats(xcs)\n",
    "recs_stats = ', '.join(['%s[%s]' % (k, v) for k, v in _recs_stats.items()])\n",
    "display(\n",
    "    recs_stats,\n",
    "    df_summary(xcs).T,\n",
    "    xcs.sample(n=10, random_state=0).sort_values('species'),\n",
    ")"
   ]
  },
  {
   "cell_type": "code",
   "execution_count": null,
   "metadata": {
    "time": "3.995s"
   },
   "outputs": [
    {
     "data": {
      "text/plain": "'35226/35226'"
     },
     "metadata": {},
     "output_type": "display_data",
     "transient": {}
    }
   ],
   "source": [
    "xcs_paths = [\n",
    "    ('xc', f'{data_dir}/xc/data/{row.species}/{row.id}/audio.mp3')\n",
    "    for row in df_rows(xcs)\n",
    "]\n",
    "joblib.dump(xcs_paths, '/tmp/xcs_paths')  # In case you want to run load.recs in a terminal (it's long and verbose)\n",
    "display(\n",
    "    f\"{len(xcs_paths)}/{len(xcs)}\",\n",
    "    # xcs_paths[:2],\n",
    ")"
   ]
  },
  {
   "cell_type": "code",
   "execution_count": null,
   "metadata": {
    "once": false,
    "time": "1.944s"
   },
   "outputs": [
    {
     "data": {
      "text/html": "<table border=\"1\" class=\"dataframe\">\n  <thead>\n    <tr style=\"text-align: right;\">\n      <th></th>\n      <th></th>\n      <th></th>\n      <th></th>\n      <th></th>\n      <th></th>\n      <th></th>\n      <th></th>\n      <th>min</th>\n      <th>25%</th>\n      <th>50%</th>\n      <th>75%</th>\n      <th>max</th>\n    </tr>\n    <tr>\n      <th></th>\n      <th>dtype</th>\n      <th>sizeof</th>\n      <th>len</th>\n      <th>count</th>\n      <th>nunique</th>\n      <th>mean</th>\n      <th>std</th>\n      <th></th>\n      <th></th>\n      <th></th>\n      <th></th>\n      <th></th>\n    </tr>\n  </thead>\n  <tbody>\n    <tr>\n      <th>dataset</th>\n      <th>object</th>\n      <th>1795506</th>\n      <th>35206</th>\n      <th>35206</th>\n      <th>1</th>\n      <th>NaN</th>\n      <th>NaN</th>\n      <td><div class=\"not-number\">xc</div></td>\n      <td><div class=\"not-number\">xc</div></td>\n      <td><div class=\"not-number\">xc</div></td>\n      <td><div class=\"not-number\">xc</div></td>\n      <td><div class=\"not-number\">xc</div></td>\n    </tr>\n    <tr>\n      <th>species</th>\n      <th>category</th>\n      <th>1865928</th>\n      <th>35206</th>\n      <th>35206</th>\n      <th>331</th>\n      <th>NaN</th>\n      <th>NaN</th>\n      <td><div class=\"not-number\">SNGO</div></td>\n      <td><div class=\"not-number\">LEFL</div></td>\n      <td><div class=\"not-number\">CAGN</div></td>\n      <td><div class=\"not-number\">FOSP</div></td>\n      <td><div class=\"not-number\">PTWH</div></td>\n    </tr>\n    <tr>\n      <th>species_com_name</th>\n      <th>category</th>\n      <th>2284340</th>\n      <th>35206</th>\n      <th>35206</th>\n      <th>331</th>\n      <th>NaN</th>\n      <th>NaN</th>\n      <td><div class=\"not-number\">Snow Goose</div></td>\n      <td><div class=\"not-number\">Least Flycatcher</div></td>\n      <td><div class=\"not-number\">California Gnatcatcher</div></td>\n      <td><div class=\"not-number\">Fox Sparrow</div></td>\n      <td><div class=\"not-number\">Pin-tailed Whydah</div></td>\n    </tr>\n    <tr>\n      <th>species_query</th>\n      <th>object</th>\n      <th>1865928</th>\n      <th>35206</th>\n      <th>35206</th>\n      <th>331</th>\n      <th>NaN</th>\n      <th>NaN</th>\n      <td><div class=\"not-number\">ABTO</div></td>\n      <td><div class=\"not-number\">CONI</div></td>\n      <td><div class=\"not-number\">LEGO</div></td>\n      <td><div class=\"not-number\">SACR</div></td>\n      <td><div class=\"not-number\">yecpar</div></td>\n    </tr>\n    <tr>\n      <th>duration_s</th>\n      <th>float64</th>\n      <th>844944</th>\n      <th>35206</th>\n      <th>35206</th>\n      <th>21247</th>\n      <th>5.711e+01</th>\n      <th>7.221e+01</th>\n      <td>0.209</td>\n      <td>16.6</td>\n      <td>35</td>\n      <td>69.1</td>\n      <td>2.75e+03</td>\n    </tr>\n    <tr>\n      <th>samples_mb</th>\n      <th>float64</th>\n      <th>844944</th>\n      <th>35206</th>\n      <th>35206</th>\n      <th>21236</th>\n      <th>2.417e+00</th>\n      <th>3.070e+00</th>\n      <td>0.00879</td>\n      <td>0.7</td>\n      <td>1.47</td>\n      <td>2.92</td>\n      <td>115</td>\n    </tr>\n    <tr>\n      <th>samples_n</th>\n      <th>int64</th>\n      <th>985768</th>\n      <th>35206</th>\n      <th>35206</th>\n      <th>21236</th>\n      <th>1.267e+06</th>\n      <th>1.610e+06</th>\n      <td>4608</td>\n      <td>367030</td>\n      <td>772992</td>\n      <td>1533092</td>\n      <td>60534352</td>\n    </tr>\n    <tr>\n      <th>basename</th>\n      <th>object</th>\n      <th>1901124</th>\n      <th>35206</th>\n      <th>35206</th>\n      <th>1</th>\n      <th>NaN</th>\n      <th>NaN</th>\n      <td><div class=\"not-number\">audio</div></td>\n      <td><div class=\"not-number\">audio</div></td>\n      <td><div class=\"not-number\">audio</div></td>\n      <td><div class=\"not-number\">audio</div></td>\n      <td><div class=\"not-number\">audio</div></td>\n    </tr>\n    <tr>\n      <th>species_longhand</th>\n      <th>category</th>\n      <th>2530792</th>\n      <th>35206</th>\n      <th>35206</th>\n      <th>331</th>\n      <th>NaN</th>\n      <th>NaN</th>\n      <td><div class=\"not-number\">Snow Goose - SNGO</div></td>\n      <td><div class=\"not-number\">Least Flycatcher - LEFL</div></td>\n      <td><div class=\"not-number\">California Gnatcatcher - CAGN</div></td>\n      <td><div class=\"not-number\">Fox Sparrow - FOSP</div></td>\n      <td><div class=\"not-number\">Pin-tailed Whydah - PTWH</div></td>\n    </tr>\n    <tr>\n      <th>id</th>\n      <th>object</th>\n      <th>2600014</th>\n      <th>35206</th>\n      <th>35206</th>\n      <th>35206</th>\n      <th>NaN</th>\n      <th>NaN</th>\n      <td><div class=\"not-number\">xc/data/ABTO/110755/audio</div></td>\n      <td><div class=\"not-number\">xc/data/CONI/196129/audio</div></td>\n      <td><div class=\"not-number\">xc/data/LEGO/327512/audio</div></td>\n      <td><div class=\"not-number\">xc/data/SACR/208842/audio</div></td>\n      <td><div class=\"not-number\">xc/data/yecpar/166117/audio</div></td>\n    </tr>\n    <tr>\n      <th>path</th>\n      <th>object</th>\n      <th>2740838</th>\n      <th>35206</th>\n      <th>35206</th>\n      <th>35206</th>\n      <th>NaN</th>\n      <th>NaN</th>\n      <td><div class=\"not-number\">xc/data/ABTO/110755/audio.mp3</div></td>\n      <td><div class=\"not-number\">xc/data/CONI/196129/audio.mp3</div></td>\n      <td><div class=\"not-number\">xc/data/LEGO/327512/audio.mp3</div></td>\n      <td><div class=\"not-number\">xc/data/SACR/208842/audio.mp3</div></td>\n      <td><div class=\"not-number\">xc/data/yecpar/166117/audio.mp3</div></td>\n    </tr>\n  </tbody>\n</table>",
      "text/plain": "                                                                                                     min  \\\n                 dtype    sizeof  len   count nunique mean      std                                        \ndataset          object   1795506 35206 35206 1       NaN       NaN                                   xc   \nspecies          category 1865928 35206 35206 331     NaN       NaN                                 SNGO   \nspecies_com_name category 2284340 35206 35206 331     NaN       NaN                           Snow Goose   \nspecies_query    object   1865928 35206 35206 331     NaN       NaN                                 ABTO   \nduration_s       float64  844944  35206 35206 21247   5.711e+01 7.221e+01                          0.209   \nsamples_mb       float64  844944  35206 35206 21236   2.417e+00 3.070e+00                        0.00879   \nsamples_n        int64    985768  35206 35206 21236   1.267e+06 1.610e+06                           4608   \nbasename         object   1901124 35206 35206 1       NaN       NaN                                audio   \nspecies_longhand category 2530792 35206 35206 331     NaN       NaN                    Snow Goose - SNGO   \nid               object   2600014 35206 35206 35206   NaN       NaN            xc/data/ABTO/110755/audio   \npath             object   2740838 35206 35206 35206   NaN       NaN        xc/data/ABTO/110755/audio.mp3   \n\n                                                                                                     25%  \\\n                 dtype    sizeof  len   count nunique mean      std                                        \ndataset          object   1795506 35206 35206 1       NaN       NaN                                   xc   \nspecies          category 1865928 35206 35206 331     NaN       NaN                                 LEFL   \nspecies_com_name category 2284340 35206 35206 331     NaN       NaN                     Least Flycatcher   \nspecies_query    object   1865928 35206 35206 331     NaN       NaN                                 CONI   \nduration_s       float64  844944  35206 35206 21247   5.711e+01 7.221e+01                           16.6   \nsamples_mb       float64  844944  35206 35206 21236   2.417e+00 3.070e+00                            0.7   \nsamples_n        int64    985768  35206 35206 21236   1.267e+06 1.610e+06                         367030   \nbasename         object   1901124 35206 35206 1       NaN       NaN                                audio   \nspecies_longhand category 2530792 35206 35206 331     NaN       NaN              Least Flycatcher - LEFL   \nid               object   2600014 35206 35206 35206   NaN       NaN            xc/data/CONI/196129/audio   \npath             object   2740838 35206 35206 35206   NaN       NaN        xc/data/CONI/196129/audio.mp3   \n\n                                                                                                     50%  \\\n                 dtype    sizeof  len   count nunique mean      std                                        \ndataset          object   1795506 35206 35206 1       NaN       NaN                                   xc   \nspecies          category 1865928 35206 35206 331     NaN       NaN                                 CAGN   \nspecies_com_name category 2284340 35206 35206 331     NaN       NaN               California Gnatcatcher   \nspecies_query    object   1865928 35206 35206 331     NaN       NaN                                 LEGO   \nduration_s       float64  844944  35206 35206 21247   5.711e+01 7.221e+01                             35   \nsamples_mb       float64  844944  35206 35206 21236   2.417e+00 3.070e+00                           1.47   \nsamples_n        int64    985768  35206 35206 21236   1.267e+06 1.610e+06                         772992   \nbasename         object   1901124 35206 35206 1       NaN       NaN                                audio   \nspecies_longhand category 2530792 35206 35206 331     NaN       NaN        California Gnatcatcher - CAGN   \nid               object   2600014 35206 35206 35206   NaN       NaN            xc/data/LEGO/327512/audio   \npath             object   2740838 35206 35206 35206   NaN       NaN        xc/data/LEGO/327512/audio.mp3   \n\n                                                                                                     75%  \\\n                 dtype    sizeof  len   count nunique mean      std                                        \ndataset          object   1795506 35206 35206 1       NaN       NaN                                   xc   \nspecies          category 1865928 35206 35206 331     NaN       NaN                                 FOSP   \nspecies_com_name category 2284340 35206 35206 331     NaN       NaN                          Fox Sparrow   \nspecies_query    object   1865928 35206 35206 331     NaN       NaN                                 SACR   \nduration_s       float64  844944  35206 35206 21247   5.711e+01 7.221e+01                           69.1   \nsamples_mb       float64  844944  35206 35206 21236   2.417e+00 3.070e+00                           2.92   \nsamples_n        int64    985768  35206 35206 21236   1.267e+06 1.610e+06                        1533092   \nbasename         object   1901124 35206 35206 1       NaN       NaN                                audio   \nspecies_longhand category 2530792 35206 35206 331     NaN       NaN                   Fox Sparrow - FOSP   \nid               object   2600014 35206 35206 35206   NaN       NaN            xc/data/SACR/208842/audio   \npath             object   2740838 35206 35206 35206   NaN       NaN        xc/data/SACR/208842/audio.mp3   \n\n                                                                                                       max  \n                 dtype    sizeof  len   count nunique mean      std                                         \ndataset          object   1795506 35206 35206 1       NaN       NaN                                     xc  \nspecies          category 1865928 35206 35206 331     NaN       NaN                                   PTWH  \nspecies_com_name category 2284340 35206 35206 331     NaN       NaN                      Pin-tailed Whydah  \nspecies_query    object   1865928 35206 35206 331     NaN       NaN                                 yecpar  \nduration_s       float64  844944  35206 35206 21247   5.711e+01 7.221e+01                         2.75e+03  \nsamples_mb       float64  844944  35206 35206 21236   2.417e+00 3.070e+00                              115  \nsamples_n        int64    985768  35206 35206 21236   1.267e+06 1.610e+06                         60534352  \nbasename         object   1901124 35206 35206 1       NaN       NaN                                  audio  \nspecies_longhand category 2530792 35206 35206 331     NaN       NaN               Pin-tailed Whydah - PTWH  \nid               object   2600014 35206 35206 35206   NaN       NaN            xc/data/yecpar/166117/audio  \npath             object   2740838 35206 35206 35206   NaN       NaN        xc/data/yecpar/166117/audio.mp3"
     },
     "metadata": {},
     "output_type": "display_data",
     "transient": {}
    },
    {
     "data": {
      "text/html": "<table border=\"1\" class=\"dataframe\">\n  <thead>\n    <tr style=\"text-align: right;\">\n      <th></th>\n      <th>dataset</th>\n      <th>species</th>\n      <th>species_com_name</th>\n      <th>species_query</th>\n      <th>duration_s</th>\n      <th>samples_mb</th>\n      <th>samples_n</th>\n      <th>basename</th>\n      <th>species_longhand</th>\n      <th>id</th>\n      <th>path</th>\n    </tr>\n  </thead>\n  <tbody>\n    <tr>\n      <th>0</th>\n      <td><div class=\"not-number\">xc</div></td>\n      <td><div class=\"not-number\">SNGO</div></td>\n      <td><div class=\"not-number\">Snow Goose</div></td>\n      <td><div class=\"not-number\">SNGO</div></td>\n      <td>28.3</td>\n      <td>1.19</td>\n      <td>624456</td>\n      <td><div class=\"not-number\">audio</div></td>\n      <td><div class=\"not-number\">Snow Goose - SNGO</div></td>\n      <td><div class=\"not-number\">xc/data/SNGO/143620/audio</div></td>\n      <td><div class=\"not-number\">xc/data/SNGO/143620/audio.mp3</div></td>\n    </tr>\n    <tr>\n      <th>1</th>\n      <td><div class=\"not-number\">xc</div></td>\n      <td><div class=\"not-number\">SNGO</div></td>\n      <td><div class=\"not-number\">Snow Goose</div></td>\n      <td><div class=\"not-number\">SNGO</div></td>\n      <td>149.0</td>\n      <td>6.28</td>\n      <td>3293022</td>\n      <td><div class=\"not-number\">audio</div></td>\n      <td><div class=\"not-number\">Snow Goose - SNGO</div></td>\n      <td><div class=\"not-number\">xc/data/SNGO/298775/audio</div></td>\n      <td><div class=\"not-number\">xc/data/SNGO/298775/audio.mp3</div></td>\n    </tr>\n    <tr>\n      <th>2</th>\n      <td><div class=\"not-number\">xc</div></td>\n      <td><div class=\"not-number\">SNGO</div></td>\n      <td><div class=\"not-number\">Snow Goose</div></td>\n      <td><div class=\"not-number\">SNGO</div></td>\n      <td>21.6</td>\n      <td>0.91</td>\n      <td>476928</td>\n      <td><div class=\"not-number\">audio</div></td>\n      <td><div class=\"not-number\">Snow Goose - SNGO</div></td>\n      <td><div class=\"not-number\">xc/data/SNGO/116051/audio</div></td>\n      <td><div class=\"not-number\">xc/data/SNGO/116051/audio.mp3</div></td>\n    </tr>\n    <tr>\n      <th>3</th>\n      <td><div class=\"not-number\">xc</div></td>\n      <td><div class=\"not-number\">SNGO</div></td>\n      <td><div class=\"not-number\">Snow Goose</div></td>\n      <td><div class=\"not-number\">SNGO</div></td>\n      <td>44.6</td>\n      <td>1.88</td>\n      <td>983275</td>\n      <td><div class=\"not-number\">audio</div></td>\n      <td><div class=\"not-number\">Snow Goose - SNGO</div></td>\n      <td><div class=\"not-number\">xc/data/SNGO/392249/audio</div></td>\n      <td><div class=\"not-number\">xc/data/SNGO/392249/audio.mp3</div></td>\n    </tr>\n    <tr>\n      <th>4</th>\n      <td><div class=\"not-number\">xc</div></td>\n      <td><div class=\"not-number\">SNGO</div></td>\n      <td><div class=\"not-number\">Snow Goose</div></td>\n      <td><div class=\"not-number\">SNGO</div></td>\n      <td>148.0</td>\n      <td>6.23</td>\n      <td>3267214</td>\n      <td><div class=\"not-number\">audio</div></td>\n      <td><div class=\"not-number\">Snow Goose - SNGO</div></td>\n      <td><div class=\"not-number\">xc/data/SNGO/357958/audio</div></td>\n      <td><div class=\"not-number\">xc/data/SNGO/357958/audio.mp3</div></td>\n    </tr>\n  </tbody>\n</table>",
      "text/plain": "  dataset species species_com_name species_query  duration_s  samples_mb  samples_n basename   species_longhand  \\\n0      xc    SNGO       Snow Goose          SNGO      28.320       1.191     624456    audio  Snow Goose - SNGO   \n1      xc    SNGO       Snow Goose          SNGO     149.343       6.281    3293022    audio  Snow Goose - SNGO   \n2      xc    SNGO       Snow Goose          SNGO      21.629       0.910     476928    audio  Snow Goose - SNGO   \n3      xc    SNGO       Snow Goose          SNGO      44.593       1.875     983275    audio  Snow Goose - SNGO   \n4      xc    SNGO       Snow Goose          SNGO     148.173       6.232    3267214    audio  Snow Goose - SNGO   \n\n                          id                           path  \n0  xc/data/SNGO/143620/audio  xc/data/SNGO/143620/audio.mp3  \n1  xc/data/SNGO/298775/audio  xc/data/SNGO/298775/audio.mp3  \n2  xc/data/SNGO/116051/audio  xc/data/SNGO/116051/audio.mp3  \n3  xc/data/SNGO/392249/audio  xc/data/SNGO/392249/audio.mp3  \n4  xc/data/SNGO/357958/audio  xc/data/SNGO/357958/audio.mp3"
     },
     "metadata": {},
     "output_type": "display_data",
     "transient": {}
    }
   ],
   "source": [
    "# TODO Restore once:true after debug [but think carefully how once:true interacts with the once:false params above]\n",
    "recs = load.recs(paths=xcs_paths)\n",
    "display(\n",
    "    df_summary(recs).T,\n",
    "    recs[:5],\n",
    ")"
   ]
  },
  {
   "cell_type": "code",
   "execution_count": null,
   "metadata": {},
   "outputs": [
    {
     "data": {
      "text/html": "<table border=\"1\" class=\"dataframe\">\n  <thead>\n    <tr style=\"text-align: right;\">\n      <th></th>\n      <th>species_longhand</th>\n      <th>num_recs</th>\n    </tr>\n  </thead>\n  <tbody>\n    <tr>\n      <th>0</th>\n      <td><div class=\"not-number\">Snow Goose - SNGO</div></td>\n      <td><div class=\"not-number\">••••• /659</div></td>\n    </tr>\n    <tr>\n      <th>1</th>\n      <td><div class=\"not-number\">Greater White-fronted Goose - GWFG</div></td>\n      <td><div class=\"not-number\">••• /659</div></td>\n    </tr>\n    <tr>\n      <th>2</th>\n      <td><div class=\"not-number\">Brant - BRAN</div></td>\n      <td><div class=\"not-number\">•• /659</div></td>\n    </tr>\n    <tr>\n      <th>3</th>\n      <td><div class=\"not-number\">Cackling Goose - CACG</div></td>\n      <td><div class=\"not-number\">••• /659</div></td>\n    </tr>\n    <tr>\n      <th>4</th>\n      <td><div class=\"not-number\">Canada Goose - CANG</div></td>\n      <td><div class=\"not-number\">•••••••••• /659</div></td>\n    </tr>\n    <tr>\n      <th>5</th>\n      <td><div class=\"not-number\">Tundra Swan - TUSW</div></td>\n      <td><div class=\"not-number\">•• /659</div></td>\n    </tr>\n    <tr>\n      <th>6</th>\n      <td><div class=\"not-number\">Egyptian Goose - EGGO</div></td>\n      <td><div class=\"not-number\"> /659</div></td>\n    </tr>\n    <tr>\n      <th>7</th>\n      <td><div class=\"not-number\">Cinnamon Teal - CITE</div></td>\n      <td><div class=\"not-number\"> /659</div></td>\n    </tr>\n    <tr>\n      <th>8</th>\n      <td><div class=\"not-number\">Gadwall - GADW</div></td>\n      <td><div class=\"not-number\">•• /659</div></td>\n    </tr>\n    <tr>\n      <th>9</th>\n      <td><div class=\"not-number\">American Wigeon - AMWI</div></td>\n      <td><div class=\"not-number\">••• /659</div></td>\n    </tr>\n    <tr>\n      <th>10</th>\n      <td><div class=\"not-number\">Mallard - MALL</div></td>\n      <td><div class=\"not-number\">•••• /659</div></td>\n    </tr>\n    <tr>\n      <th>11</th>\n      <td><div class=\"not-number\">Green-winged Teal - GWTE</div></td>\n      <td><div class=\"not-number\">•••• /659</div></td>\n    </tr>\n    <tr>\n      <th>12</th>\n      <td><div class=\"not-number\">Redhead - REDH</div></td>\n      <td><div class=\"not-number\">• /659</div></td>\n    </tr>\n    <tr>\n      <th>13</th>\n      <td><div class=\"not-number\">Surf Scoter - SUSC</div></td>\n      <td><div class=\"not-number\">• /659</div></td>\n    </tr>\n    <tr>\n      <th>14</th>\n      <td><div class=\"not-number\">Bufflehead - BUFF</div></td>\n      <td><div class=\"not-number\">• /659</div></td>\n    </tr>\n    <tr>\n      <th>15</th>\n      <td><div class=\"not-number\">Mountain Quail - MOUQ</div></td>\n      <td><div class=\"not-number\">•••••• /659</div></td>\n    </tr>\n    <tr>\n      <th>16</th>\n      <td><div class=\"not-number\">California Quail - CAQU</div></td>\n      <td><div class=\"not-number\">••••• /659</div></td>\n    </tr>\n    <tr>\n      <th>17</th>\n      <td><div class=\"not-number\">Gambel's Quail - GAQU</div></td>\n      <td><div class=\"not-number\">•••••• /659</div></td>\n    </tr>\n    <tr>\n      <th>18</th>\n      <td><div class=\"not-number\">Sooty Grouse - SOGR</div></td>\n      <td><div class=\"not-number\">•• /659</div></td>\n    </tr>\n    <tr>\n      <th>19</th>\n      <td><div class=\"not-number\">Wild Turkey - WITU</div></td>\n      <td><div class=\"not-number\">•••• /659</div></td>\n    </tr>\n    <tr>\n      <th>20</th>\n      <td><div class=\"not-number\">Red-throated Loon - RTLO</div></td>\n      <td><div class=\"not-number\">• /659</div></td>\n    </tr>\n    <tr>\n      <th>21</th>\n      <td><div class=\"not-number\">Common Loon - COLO</div></td>\n      <td><div class=\"not-number\">•••• /659</div></td>\n    </tr>\n    <tr>\n      <th>22</th>\n      <td><div class=\"not-number\">Pied-billed Grebe - PBGR</div></td>\n      <td><div class=\"not-number\">••••• /659</div></td>\n    </tr>\n    <tr>\n      <th>23</th>\n      <td><div class=\"not-number\">Horned Grebe - HOGR</div></td>\n      <td><div class=\"not-number\">• /659</div></td>\n    </tr>\n    <tr>\n      <th>24</th>\n      <td><div class=\"not-number\">Red-necked Grebe - RNGR</div></td>\n      <td><div class=\"not-number\">•• /659</div></td>\n    </tr>\n    <tr>\n      <th>25</th>\n      <td><div class=\"not-number\">Western Grebe - WEGR</div></td>\n      <td><div class=\"not-number\">••• /659</div></td>\n    </tr>\n    <tr>\n      <th>26</th>\n      <td><div class=\"not-number\">Clark's Grebe - CLGR</div></td>\n      <td><div class=\"not-number\">• /659</div></td>\n    </tr>\n    <tr>\n      <th>27</th>\n      <td><div class=\"not-number\">Black-footed Albatross - BFAL</div></td>\n      <td><div class=\"not-number\">•• /659</div></td>\n    </tr>\n    <tr>\n      <th>28</th>\n      <td><div class=\"not-number\">Brandt's Cormorant - BRAC</div></td>\n      <td><div class=\"not-number\"> /659</div></td>\n    </tr>\n    <tr>\n      <th>29</th>\n      <td><div class=\"not-number\">Pelagic Cormorant - PECO</div></td>\n      <td><div class=\"not-number\"> /659</div></td>\n    </tr>\n    <tr>\n      <th>30</th>\n      <td><div class=\"not-number\">Double-crested Cormorant - DCCO</div></td>\n      <td><div class=\"not-number\">••• /659</div></td>\n    </tr>\n    <tr>\n      <th>31</th>\n      <td><div class=\"not-number\">American Bittern - AMBI</div></td>\n      <td><div class=\"not-number\">••••• /659</div></td>\n    </tr>\n    <tr>\n      <th>32</th>\n      <td><div class=\"not-number\">Least Bittern - LEBI</div></td>\n      <td><div class=\"not-number\">••••• /659</div></td>\n    </tr>\n    <tr>\n      <th>33</th>\n      <td><div class=\"not-number\">Great Blue Heron - GBHE</div></td>\n      <td><div class=\"not-number\">••••• /659</div></td>\n    </tr>\n    <tr>\n      <th>34</th>\n      <td><div class=\"not-number\">Great Egret - GREG</div></td>\n      <td><div class=\"not-number\">•••• /659</div></td>\n    </tr>\n    <tr>\n      <th>35</th>\n      <td><div class=\"not-number\">Snowy Egret - SNEG</div></td>\n      <td><div class=\"not-number\">•• /659</div></td>\n    </tr>\n    <tr>\n      <th>36</th>\n      <td><div class=\"not-number\">Green Heron - GRHE</div></td>\n      <td><div class=\"not-number\">•••• /659</div></td>\n    </tr>\n    <tr>\n      <th>37</th>\n      <td><div class=\"not-number\">Black-crowned Night-Heron - BCNH</div></td>\n      <td><div class=\"not-number\">•• /659</div></td>\n    </tr>\n    <tr>\n      <th>38</th>\n      <td><div class=\"not-number\">White-faced Ibis - WFIB</div></td>\n      <td><div class=\"not-number\">•• /659</div></td>\n    </tr>\n    <tr>\n      <th>39</th>\n      <td><div class=\"not-number\">Osprey - OSPR</div></td>\n      <td><div class=\"not-number\">•••••• /659</div></td>\n    </tr>\n    <tr>\n      <th>40</th>\n      <td><div class=\"not-number\">White-tailed Kite - WTKI</div></td>\n      <td><div class=\"not-number\">• /659</div></td>\n    </tr>\n    <tr>\n      <th>41</th>\n      <td><div class=\"not-number\">Northern Harrier - NOHA</div></td>\n      <td><div class=\"not-number\">••• /659</div></td>\n    </tr>\n    <tr>\n      <th>42</th>\n      <td><div class=\"not-number\">Cooper's Hawk - COHA</div></td>\n      <td><div class=\"not-number\">••••••• /659</div></td>\n    </tr>\n    <tr>\n      <th>43</th>\n      <td><div class=\"not-number\">Common Black Hawk - COBH</div></td>\n      <td><div class=\"not-number\">•• /659</div></td>\n    </tr>\n    <tr>\n      <th>44</th>\n      <td><div class=\"not-number\">Red-shouldered Hawk - RSHA</div></td>\n      <td><div class=\"not-number\">••••• /659</div></td>\n    </tr>\n    <tr>\n      <th>45</th>\n      <td><div class=\"not-number\">Swainson's Hawk - SWHA</div></td>\n      <td><div class=\"not-number\">• /659</div></td>\n    </tr>\n    <tr>\n      <th>46</th>\n      <td><div class=\"not-number\">Red-tailed Hawk - RTHA</div></td>\n      <td><div class=\"not-number\">•••••••• /659</div></td>\n    </tr>\n    <tr>\n      <th>47</th>\n      <td><div class=\"not-number\">Black Rail - BLRA</div></td>\n      <td><div class=\"not-number\">••••• /659</div></td>\n    </tr>\n    <tr>\n      <th>48</th>\n      <td><div class=\"not-number\">Ridgway's Rail - RIRA</div></td>\n      <td><div class=\"not-number\">••••• /659</div></td>\n    </tr>\n    <tr>\n      <th>49</th>\n      <td><div class=\"not-number\">Virginia Rail - VIRA</div></td>\n      <td><div class=\"not-number\">••••••••••••• /659</div></td>\n    </tr>\n    <tr>\n      <th>50</th>\n      <td><div class=\"not-number\">Sora - SORA</div></td>\n      <td><div class=\"not-number\">••••••••••• /659</div></td>\n    </tr>\n    <tr>\n      <th>51</th>\n      <td><div class=\"not-number\">Common Gallinule - COGA</div></td>\n      <td><div class=\"not-number\">•••••••• /659</div></td>\n    </tr>\n    <tr>\n      <th>52</th>\n      <td><div class=\"not-number\">American Coot - AMCO</div></td>\n      <td><div class=\"not-number\">••••••••• /659</div></td>\n    </tr>\n    <tr>\n      <th>53</th>\n      <td><div class=\"not-number\">Sandhill Crane - SACR</div></td>\n      <td><div class=\"not-number\">••••••••••• /659</div></td>\n    </tr>\n    <tr>\n      <th>54</th>\n      <td><div class=\"not-number\">Black-necked Stilt - BNST</div></td>\n      <td><div class=\"not-number\">•••••• /659</div></td>\n    </tr>\n    <tr>\n      <th>55</th>\n      <td><div class=\"not-number\">American Avocet - AMAV</div></td>\n      <td><div class=\"not-number\">•••• /659</div></td>\n    </tr>\n    <tr>\n      <th>56</th>\n      <td><div class=\"not-number\">Black Oystercatcher - BLOY</div></td>\n      <td><div class=\"not-number\">• /659</div></td>\n    </tr>\n    <tr>\n      <th>57</th>\n      <td><div class=\"not-number\">Black-bellied Plover - BBPL</div></td>\n      <td><div class=\"not-number\">•• /659</div></td>\n    </tr>\n    <tr>\n      <th>58</th>\n      <td><div class=\"not-number\">Pacific Golden-Plover - PAGP</div></td>\n      <td><div class=\"not-number\">• /659</div></td>\n    </tr>\n    <tr>\n      <th>59</th>\n      <td><div class=\"not-number\">Snowy Plover - SNPL</div></td>\n      <td><div class=\"not-number\">• /659</div></td>\n    </tr>\n    <tr>\n      <th>60</th>\n      <td><div class=\"not-number\">Semipalmated Plover - SEPL</div></td>\n      <td><div class=\"not-number\">•••••• /659</div></td>\n    </tr>\n    <tr>\n      <th>61</th>\n      <td><div class=\"not-number\">Killdeer - KILL</div></td>\n      <td><div class=\"not-number\">•••••••••••• /659</div></td>\n    </tr>\n    <tr>\n      <th>62</th>\n      <td><div class=\"not-number\">Whimbrel - WHIM</div></td>\n      <td><div class=\"not-number\">••• /659</div></td>\n    </tr>\n    <tr>\n      <th>63</th>\n      <td><div class=\"not-number\">Long-billed Curlew - LBCU</div></td>\n      <td><div class=\"not-number\">•••• /659</div></td>\n    </tr>\n    <tr>\n      <th>64</th>\n      <td><div class=\"not-number\">Marbled Godwit - MAGO</div></td>\n      <td><div class=\"not-number\">•••• /659</div></td>\n    </tr>\n    <tr>\n      <th>65</th>\n      <td><div class=\"not-number\">Black Turnstone - BLTU</div></td>\n      <td><div class=\"not-number\">• /659</div></td>\n    </tr>\n    <tr>\n      <th>66</th>\n      <td><div class=\"not-number\">Surfbird - SURF</div></td>\n      <td><div class=\"not-number\">• /659</div></td>\n    </tr>\n    <tr>\n      <th>67</th>\n      <td><div class=\"not-number\">Dunlin - DUNL</div></td>\n      <td><div class=\"not-number\">••••• /659</div></td>\n    </tr>\n    <tr>\n      <th>68</th>\n      <td><div class=\"not-number\">Rock Sandpiper - ROSA</div></td>\n      <td><div class=\"not-number\">•• /659</div></td>\n    </tr>\n    <tr>\n      <th>69</th>\n      <td><div class=\"not-number\">Least Sandpiper - LESA</div></td>\n      <td><div class=\"not-number\">•••••• /659</div></td>\n    </tr>\n    <tr>\n      <th>70</th>\n      <td><div class=\"not-number\">Western Sandpiper - WESA</div></td>\n      <td><div class=\"not-number\">••• /659</div></td>\n    </tr>\n    <tr>\n      <th>71</th>\n      <td><div class=\"not-number\">Short-billed Dowitcher - SBDO</div></td>\n      <td><div class=\"not-number\">•• /659</div></td>\n    </tr>\n    <tr>\n      <th>72</th>\n      <td><div class=\"not-number\">Long-billed Dowitcher - LBDO</div></td>\n      <td><div class=\"not-number\">••••• /659</div></td>\n    </tr>\n    <tr>\n      <th>73</th>\n      <td><div class=\"not-number\">Red-necked Phalarope - RNPH</div></td>\n      <td><div class=\"not-number\">•• /659</div></td>\n    </tr>\n    <tr>\n      <th>74</th>\n      <td><div class=\"not-number\">Spotted Sandpiper - SPSA</div></td>\n      <td><div class=\"not-number\">••••• /659</div></td>\n    </tr>\n    <tr>\n      <th>75</th>\n      <td><div class=\"not-number\">Solitary Sandpiper - SOSA</div></td>\n      <td><div class=\"not-number\">•••• /659</div></td>\n    </tr>\n    <tr>\n      <th>76</th>\n      <td><div class=\"not-number\">Wandering Tattler - WATA</div></td>\n      <td><div class=\"not-number\"> /659</div></td>\n    </tr>\n    <tr>\n      <th>77</th>\n      <td><div class=\"not-number\">Greater Yellowlegs - GRYE</div></td>\n      <td><div class=\"not-number\">•••••• /659</div></td>\n    </tr>\n    <tr>\n      <th>78</th>\n      <td><div class=\"not-number\">Willet - WILL</div></td>\n      <td><div class=\"not-number\">•••••••• /659</div></td>\n    </tr>\n    <tr>\n      <th>79</th>\n      <td><div class=\"not-number\">Common Murre - COMU</div></td>\n      <td><div class=\"not-number\">• /659</div></td>\n    </tr>\n    <tr>\n      <th>80</th>\n      <td><div class=\"not-number\">Marbled Murrelet - MAMU</div></td>\n      <td><div class=\"not-number\">• /659</div></td>\n    </tr>\n    <tr>\n      <th>81</th>\n      <td><div class=\"not-number\">Bonaparte's Gull - BOGU</div></td>\n      <td><div class=\"not-number\">••• /659</div></td>\n    </tr>\n    <tr>\n      <th>82</th>\n      <td><div class=\"not-number\">Laughing Gull - LAGU</div></td>\n      <td><div class=\"not-number\">•••• /659</div></td>\n    </tr>\n    <tr>\n      <th>83</th>\n      <td><div class=\"not-number\">Heermann's Gull - HEEG</div></td>\n      <td><div class=\"not-number\">•• /659</div></td>\n    </tr>\n    <tr>\n      <th>84</th>\n      <td><div class=\"not-number\">Mew Gull - MEGU</div></td>\n      <td><div class=\"not-number\">••• /659</div></td>\n    </tr>\n    <tr>\n      <th>85</th>\n      <td><div class=\"not-number\">Ring-billed Gull - RBGU</div></td>\n      <td><div class=\"not-number\">••••• /659</div></td>\n    </tr>\n    <tr>\n      <th>86</th>\n      <td><div class=\"not-number\">Western Gull - WEGU</div></td>\n      <td><div class=\"not-number\">•• /659</div></td>\n    </tr>\n    <tr>\n      <th>87</th>\n      <td><div class=\"not-number\">Yellow-footed Gull - YFGU</div></td>\n      <td><div class=\"not-number\">• /659</div></td>\n    </tr>\n    <tr>\n      <th>88</th>\n      <td><div class=\"not-number\">California Gull - CAGU</div></td>\n      <td><div class=\"not-number\">•••• /659</div></td>\n    </tr>\n    <tr>\n      <th>89</th>\n      <td><div class=\"not-number\">Glaucous-winged Gull - GWGU</div></td>\n      <td><div class=\"not-number\">••• /659</div></td>\n    </tr>\n    <tr>\n      <th>90</th>\n      <td><div class=\"not-number\">Least Tern - LETE</div></td>\n      <td><div class=\"not-number\">•••••• /659</div></td>\n    </tr>\n    <tr>\n      <th>91</th>\n      <td><div class=\"not-number\">Gull-billed Tern - GBTE</div></td>\n      <td><div class=\"not-number\">•• /659</div></td>\n    </tr>\n    <tr>\n      <th>92</th>\n      <td><div class=\"not-number\">Caspian Tern - CATE</div></td>\n      <td><div class=\"not-number\">••• /659</div></td>\n    </tr>\n    <tr>\n      <th>93</th>\n      <td><div class=\"not-number\">Black Tern - BLTE</div></td>\n      <td><div class=\"not-number\">••••• /659</div></td>\n    </tr>\n    <tr>\n      <th>94</th>\n      <td><div class=\"not-number\">Forster's Tern - FOTE</div></td>\n      <td><div class=\"not-number\">•••••• /659</div></td>\n    </tr>\n    <tr>\n      <th>95</th>\n      <td><div class=\"not-number\">Royal Tern - ROYT</div></td>\n      <td><div class=\"not-number\">•••• /659</div></td>\n    </tr>\n    <tr>\n      <th>96</th>\n      <td><div class=\"not-number\">Elegant Tern - ELTE</div></td>\n      <td><div class=\"not-number\">•••••• /659</div></td>\n    </tr>\n    <tr>\n      <th>97</th>\n      <td><div class=\"not-number\">Black Skimmer - BLSK</div></td>\n      <td><div class=\"not-number\">•• /659</div></td>\n    </tr>\n    <tr>\n      <th>98</th>\n      <td><div class=\"not-number\">Rock Pigeon - RODO</div></td>\n      <td><div class=\"not-number\">• /659</div></td>\n    </tr>\n    <tr>\n      <th>99</th>\n      <td><div class=\"not-number\">Band-tailed Pigeon - BTPI</div></td>\n      <td><div class=\"not-number\">••• /659</div></td>\n    </tr>\n    <tr>\n      <th>100</th>\n      <td><div class=\"not-number\">Eurasian Collared-Dove - EUCD</div></td>\n      <td><div class=\"not-number\">••• /659</div></td>\n    </tr>\n    <tr>\n      <th>101</th>\n      <td><div class=\"not-number\">African Collared-Dove - AFCD</div></td>\n      <td><div class=\"not-number\"> /659</div></td>\n    </tr>\n    <tr>\n      <th>102</th>\n      <td><div class=\"not-number\">Inca Dove - INDO</div></td>\n      <td><div class=\"not-number\">•••• /659</div></td>\n    </tr>\n    <tr>\n      <th>103</th>\n      <td><div class=\"not-number\">Common Ground-Dove - COGD</div></td>\n      <td><div class=\"not-number\">•••• /659</div></td>\n    </tr>\n    <tr>\n      <th>104</th>\n      <td><div class=\"not-number\">White-winged Dove - WWDO</div></td>\n      <td><div class=\"not-number\">••••••• /659</div></td>\n    </tr>\n    <tr>\n      <th>105</th>\n      <td><div class=\"not-number\">Mourning Dove - MODO</div></td>\n      <td><div class=\"not-number\">•••••••••• /659</div></td>\n    </tr>\n    <tr>\n      <th>106</th>\n      <td><div class=\"not-number\">Greater Roadrunner - GRRO</div></td>\n      <td><div class=\"not-number\">••••••• /659</div></td>\n    </tr>\n    <tr>\n      <th>107</th>\n      <td><div class=\"not-number\">Yellow-billed Cuckoo - YBCU</div></td>\n      <td><div class=\"not-number\">•••••••••••• /659</div></td>\n    </tr>\n    <tr>\n      <th>108</th>\n      <td><div class=\"not-number\">Barn Owl - BANO</div></td>\n      <td><div class=\"not-number\">•• /659</div></td>\n    </tr>\n    <tr>\n      <th>109</th>\n      <td><div class=\"not-number\">Flammulated Owl - FLOW</div></td>\n      <td><div class=\"not-number\">••••••• /659</div></td>\n    </tr>\n    <tr>\n      <th>110</th>\n      <td><div class=\"not-number\">Western Screech-Owl - WESO</div></td>\n      <td><div class=\"not-number\">•••••••••••• /659</div></td>\n    </tr>\n    <tr>\n      <th>111</th>\n      <td><div class=\"not-number\">Great Horned Owl - GHOW</div></td>\n      <td><div class=\"not-number\">••••••••••••••• /659</div></td>\n    </tr>\n    <tr>\n      <th>112</th>\n      <td><div class=\"not-number\">Elf Owl - ELOW</div></td>\n      <td><div class=\"not-number\">•••• /659</div></td>\n    </tr>\n    <tr>\n      <th>113</th>\n      <td><div class=\"not-number\">Burrowing Owl - BUOW</div></td>\n      <td><div class=\"not-number\">• /659</div></td>\n    </tr>\n    <tr>\n      <th>114</th>\n      <td><div class=\"not-number\">Spotted Owl - SPOW</div></td>\n      <td><div class=\"not-number\">•••••••• /659</div></td>\n    </tr>\n    <tr>\n      <th>115</th>\n      <td><div class=\"not-number\">Long-eared Owl - LEOW</div></td>\n      <td><div class=\"not-number\">••••• /659</div></td>\n    </tr>\n    <tr>\n      <th>116</th>\n      <td><div class=\"not-number\">Northern Saw-whet Owl - NSWO</div></td>\n      <td><div class=\"not-number\">••••••••••••••••• /659</div></td>\n    </tr>\n    <tr>\n      <th>117</th>\n      <td><div class=\"not-number\">Lesser Nighthawk - LENI</div></td>\n      <td><div class=\"not-number\">•• /659</div></td>\n    </tr>\n    <tr>\n      <th>118</th>\n      <td><div class=\"not-number\">Common Nighthawk - CONI</div></td>\n      <td><div class=\"not-number\">••••••• /659</div></td>\n    </tr>\n    <tr>\n      <th>119</th>\n      <td><div class=\"not-number\">Common Poorwill - COPO</div></td>\n      <td><div class=\"not-number\">•••••••• /659</div></td>\n    </tr>\n    <tr>\n      <th>120</th>\n      <td><div class=\"not-number\">Eastern Whip-poor-will - EWPW</div></td>\n      <td><div class=\"not-number\">•••••• /659</div></td>\n    </tr>\n    <tr>\n      <th>121</th>\n      <td><div class=\"not-number\">Mexican Whip-poor-will - MWPW</div></td>\n      <td><div class=\"not-number\">•••••• /659</div></td>\n    </tr>\n    <tr>\n      <th>122</th>\n      <td><div class=\"not-number\">Vaux's Swift - VASW</div></td>\n      <td><div class=\"not-number\">• /659</div></td>\n    </tr>\n    <tr>\n      <th>123</th>\n      <td><div class=\"not-number\">White-throated Swift - WTSW</div></td>\n      <td><div class=\"not-number\">•• /659</div></td>\n    </tr>\n    <tr>\n      <th>124</th>\n      <td><div class=\"not-number\">Black-chinned Hummingbird - BCHU</div></td>\n      <td><div class=\"not-number\">••••••• /659</div></td>\n    </tr>\n    <tr>\n      <th>125</th>\n      <td><div class=\"not-number\">Anna's Hummingbird - ANHU</div></td>\n      <td><div class=\"not-number\">•••••••••••• /659</div></td>\n    </tr>\n    <tr>\n      <th>126</th>\n      <td><div class=\"not-number\">Costa's Hummingbird - COHU</div></td>\n      <td><div class=\"not-number\">•• /659</div></td>\n    </tr>\n    <tr>\n      <th>127</th>\n      <td><div class=\"not-number\">Broad-tailed Hummingbird - BTAH</div></td>\n      <td><div class=\"not-number\">••••••••• /659</div></td>\n    </tr>\n    <tr>\n      <th>128</th>\n      <td><div class=\"not-number\">Allen's Hummingbird - ALHU</div></td>\n      <td><div class=\"not-number\">• /659</div></td>\n    </tr>\n    <tr>\n      <th>129</th>\n      <td><div class=\"not-number\">Calliope Hummingbird - CAHU</div></td>\n      <td><div class=\"not-number\">•• /659</div></td>\n    </tr>\n    <tr>\n      <th>130</th>\n      <td><div class=\"not-number\">Belted Kingfisher - BEKI</div></td>\n      <td><div class=\"not-number\">•••••• /659</div></td>\n    </tr>\n    <tr>\n      <th>131</th>\n      <td><div class=\"not-number\">Acorn Woodpecker - ACWO</div></td>\n      <td><div class=\"not-number\">••••••••••• /659</div></td>\n    </tr>\n    <tr>\n      <th>132</th>\n      <td><div class=\"not-number\">Gila Woodpecker - GIWO</div></td>\n      <td><div class=\"not-number\">••••••• /659</div></td>\n    </tr>\n    <tr>\n      <th>133</th>\n      <td><div class=\"not-number\">Williamson's Sapsucker - WISA</div></td>\n      <td><div class=\"not-number\">•••• /659</div></td>\n    </tr>\n    <tr>\n      <th>134</th>\n      <td><div class=\"not-number\">Red-breasted Sapsucker - RBSA</div></td>\n      <td><div class=\"not-number\">••• /659</div></td>\n    </tr>\n    <tr>\n      <th>135</th>\n      <td><div class=\"not-number\">Ladder-backed Woodpecker - LBWO</div></td>\n      <td><div class=\"not-number\">••••••• /659</div></td>\n    </tr>\n    <tr>\n      <th>136</th>\n      <td><div class=\"not-number\">Nuttall's Woodpecker - NUWO</div></td>\n      <td><div class=\"not-number\">••••• /659</div></td>\n    </tr>\n    <tr>\n      <th>137</th>\n      <td><div class=\"not-number\">Downy Woodpecker - DOWO</div></td>\n      <td><div class=\"not-number\">••••••••••••••• /659</div></td>\n    </tr>\n    <tr>\n      <th>138</th>\n      <td><div class=\"not-number\">Hairy Woodpecker - HAWO</div></td>\n      <td><div class=\"not-number\">•••••••••••••••••• /659</div></td>\n    </tr>\n    <tr>\n      <th>139</th>\n      <td><div class=\"not-number\">White-headed Woodpecker - WHWO</div></td>\n      <td><div class=\"not-number\">•• /659</div></td>\n    </tr>\n    <tr>\n      <th>140</th>\n      <td><div class=\"not-number\">Black-backed Woodpecker - BBWO</div></td>\n      <td><div class=\"not-number\">••• /659</div></td>\n    </tr>\n    <tr>\n      <th>141</th>\n      <td><div class=\"not-number\">Northern Flicker - NOFL</div></td>\n      <td><div class=\"not-number\">••••••••••••••••••• /659</div></td>\n    </tr>\n    <tr>\n      <th>142</th>\n      <td><div class=\"not-number\">Pileated Woodpecker - PIWO</div></td>\n      <td><div class=\"not-number\">•••••••••• /659</div></td>\n    </tr>\n    <tr>\n      <th>143</th>\n      <td><div class=\"not-number\">American Kestrel - AMKE</div></td>\n      <td><div class=\"not-number\">•• /659</div></td>\n    </tr>\n    <tr>\n      <th>144</th>\n      <td><div class=\"not-number\">Merlin - MERL</div></td>\n      <td><div class=\"not-number\">••• /659</div></td>\n    </tr>\n    <tr>\n      <th>145</th>\n      <td><div class=\"not-number\">Peregrine Falcon - PEFA</div></td>\n      <td><div class=\"not-number\">• /659</div></td>\n    </tr>\n    <tr>\n      <th>146</th>\n      <td><div class=\"not-number\">Cockatiel - COCK</div></td>\n      <td><div class=\"not-number\"> /659</div></td>\n    </tr>\n    <tr>\n      <th>147</th>\n      <td><div class=\"not-number\">Rose-ringed Parakeet - RRPA</div></td>\n      <td><div class=\"not-number\"> /659</div></td>\n    </tr>\n    <tr>\n      <th>148</th>\n      <td><div class=\"not-number\">Yellow-chevroned Parakeet - yecpar</div></td>\n      <td><div class=\"not-number\"> /659</div></td>\n    </tr>\n    <tr>\n      <th>149</th>\n      <td><div class=\"not-number\">Red-crowned Parrot - RCPA</div></td>\n      <td><div class=\"not-number\">•• /659</div></td>\n    </tr>\n    <tr>\n      <th>150</th>\n      <td><div class=\"not-number\">Lilac-crowned Parrot - LCPA</div></td>\n      <td><div class=\"not-number\">••• /659</div></td>\n    </tr>\n    <tr>\n      <th>151</th>\n      <td><div class=\"not-number\">Yellow-headed Parrot - YHPA</div></td>\n      <td><div class=\"not-number\">• /659</div></td>\n    </tr>\n    <tr>\n      <th>152</th>\n      <td><div class=\"not-number\">Nanday Parakeet - NAPA</div></td>\n      <td><div class=\"not-number\"> /659</div></td>\n    </tr>\n    <tr>\n      <th>153</th>\n      <td><div class=\"not-number\">Red-masked Parakeet - RMPA</div></td>\n      <td><div class=\"not-number\"> /659</div></td>\n    </tr>\n    <tr>\n      <th>154</th>\n      <td><div class=\"not-number\">Olive-sided Flycatcher - OSFL</div></td>\n      <td><div class=\"not-number\">••••••••• /659</div></td>\n    </tr>\n    <tr>\n      <th>155</th>\n      <td><div class=\"not-number\">Western Wood-Pewee - WEWP</div></td>\n      <td><div class=\"not-number\">••••••••••••• /659</div></td>\n    </tr>\n    <tr>\n      <th>156</th>\n      <td><div class=\"not-number\">Willow Flycatcher - WIFL</div></td>\n      <td><div class=\"not-number\">••••••••••••••• /659</div></td>\n    </tr>\n    <tr>\n      <th>157</th>\n      <td><div class=\"not-number\">Least Flycatcher - LEFL</div></td>\n      <td><div class=\"not-number\">•••••••••••••••• /659</div></td>\n    </tr>\n    <tr>\n      <th>158</th>\n      <td><div class=\"not-number\">Hammond's Flycatcher - HAFL</div></td>\n      <td><div class=\"not-number\">•••••••••• /659</div></td>\n    </tr>\n    <tr>\n      <th>159</th>\n      <td><div class=\"not-number\">Gray Flycatcher - GRFL</div></td>\n      <td><div class=\"not-number\">•••••••• /659</div></td>\n    </tr>\n    <tr>\n      <th>160</th>\n      <td><div class=\"not-number\">Dusky Flycatcher - DUFL</div></td>\n      <td><div class=\"not-number\">•••••••••• /659</div></td>\n    </tr>\n    <tr>\n      <th>161</th>\n      <td><div class=\"not-number\">Pacific-slope Flycatcher - PSFL</div></td>\n      <td><div class=\"not-number\">••••••••••••••• /659</div></td>\n    </tr>\n    <tr>\n      <th>162</th>\n      <td><div class=\"not-number\">Black Phoebe - BLPH</div></td>\n      <td><div class=\"not-number\">••••••• /659</div></td>\n    </tr>\n    <tr>\n      <th>163</th>\n      <td><div class=\"not-number\">Eastern Phoebe - EAPH</div></td>\n      <td><div class=\"not-number\">•••••••• /659</div></td>\n    </tr>\n    <tr>\n      <th>164</th>\n      <td><div class=\"not-number\">Say's Phoebe - SAPH</div></td>\n      <td><div class=\"not-number\">•••• /659</div></td>\n    </tr>\n    <tr>\n      <th>165</th>\n      <td><div class=\"not-number\">Vermilion Flycatcher - VEFL</div></td>\n      <td><div class=\"not-number\">•••• /659</div></td>\n    </tr>\n    <tr>\n      <th>166</th>\n      <td><div class=\"not-number\">Dusky-capped Flycatcher - DCFL</div></td>\n      <td><div class=\"not-number\">••••••••••• /659</div></td>\n    </tr>\n    <tr>\n      <th>167</th>\n      <td><div class=\"not-number\">Ash-throated Flycatcher - ATFL</div></td>\n      <td><div class=\"not-number\">••••••••••••••• /659</div></td>\n    </tr>\n    <tr>\n      <th>168</th>\n      <td><div class=\"not-number\">Brown-crested Flycatcher - BCFL</div></td>\n      <td><div class=\"not-number\">•••••••••••••••••••• /659</div></td>\n    </tr>\n    <tr>\n      <th>169</th>\n      <td><div class=\"not-number\">Tropical Kingbird - TRKI</div></td>\n      <td><div class=\"not-number\">••••• /659</div></td>\n    </tr>\n    <tr>\n      <th>170</th>\n      <td><div class=\"not-number\">Couch's Kingbird - COKI</div></td>\n      <td><div class=\"not-number\">••••• /659</div></td>\n    </tr>\n    <tr>\n      <th>171</th>\n      <td><div class=\"not-number\">Cassin's Kingbird - CAKI</div></td>\n      <td><div class=\"not-number\">••••••••• /659</div></td>\n    </tr>\n    <tr>\n      <th>172</th>\n      <td><div class=\"not-number\">Thick-billed Kingbird - TBKI</div></td>\n      <td><div class=\"not-number\">••••• /659</div></td>\n    </tr>\n    <tr>\n      <th>173</th>\n      <td><div class=\"not-number\">Western Kingbird - WEKI</div></td>\n      <td><div class=\"not-number\">•••••••• /659</div></td>\n    </tr>\n    <tr>\n      <th>174</th>\n      <td><div class=\"not-number\">Loggerhead Shrike - LOSH</div></td>\n      <td><div class=\"not-number\">••••••••••••• /659</div></td>\n    </tr>\n    <tr>\n      <th>175</th>\n      <td><div class=\"not-number\">White-eyed Vireo - WEVI</div></td>\n      <td><div class=\"not-number\">••••••••••••••••••••••• /659</div></td>\n    </tr>\n    <tr>\n      <th>176</th>\n      <td><div class=\"not-number\">Bell's Vireo - BEVI</div></td>\n      <td><div class=\"not-number\">••••••••••••••• /659</div></td>\n    </tr>\n    <tr>\n      <th>177</th>\n      <td><div class=\"not-number\">Gray Vireo - GRVI</div></td>\n      <td><div class=\"not-number\">••••••• /659</div></td>\n    </tr>\n    <tr>\n      <th>178</th>\n      <td><div class=\"not-number\">Hutton's Vireo - HUVI</div></td>\n      <td><div class=\"not-number\">•••••••••••••••• /659</div></td>\n    </tr>\n    <tr>\n      <th>179</th>\n      <td><div class=\"not-number\">Cassin's Vireo - CAVI</div></td>\n      <td><div class=\"not-number\">••••••••• /659</div></td>\n    </tr>\n    <tr>\n      <th>180</th>\n      <td><div class=\"not-number\">Plumbeous Vireo - PLVI</div></td>\n      <td><div class=\"not-number\">••••••••• /659</div></td>\n    </tr>\n    <tr>\n      <th>181</th>\n      <td><div class=\"not-number\">Warbling Vireo - WAVI</div></td>\n      <td><div class=\"not-number\">••••••••••••••••••••••••••••••••• /659</div></td>\n    </tr>\n    <tr>\n      <th>182</th>\n      <td><div class=\"not-number\">Red-eyed Vireo - REVI</div></td>\n      <td><div class=\"not-number\">••••••••••••••• /659</div></td>\n    </tr>\n    <tr>\n      <th>183</th>\n      <td><div class=\"not-number\">Yellow-green Vireo - YGVI</div></td>\n      <td><div class=\"not-number\">••• /659</div></td>\n    </tr>\n    <tr>\n      <th>184</th>\n      <td><div class=\"not-number\">Gray Jay - GRAJ</div></td>\n      <td><div class=\"not-number\">••••••••• /659</div></td>\n    </tr>\n    <tr>\n      <th>185</th>\n      <td><div class=\"not-number\">Black-throated Magpie-Jay - BTMJ</div></td>\n      <td><div class=\"not-number\">•••• /659</div></td>\n    </tr>\n    <tr>\n      <th>186</th>\n      <td><div class=\"not-number\">Pinyon Jay - PIJA</div></td>\n      <td><div class=\"not-number\">•••••• /659</div></td>\n    </tr>\n    <tr>\n      <th>187</th>\n      <td><div class=\"not-number\">Steller's Jay - STJA</div></td>\n      <td><div class=\"not-number\">•••••••••••••••• /659</div></td>\n    </tr>\n    <tr>\n      <th>188</th>\n      <td><div class=\"not-number\">Island Scrub-Jay - ISSJ</div></td>\n      <td><div class=\"not-number\">• /659</div></td>\n    </tr>\n    <tr>\n      <th>189</th>\n      <td><div class=\"not-number\">California Scrub-Jay - CASJ</div></td>\n      <td><div class=\"not-number\">••••• /659</div></td>\n    </tr>\n    <tr>\n      <th>190</th>\n      <td><div class=\"not-number\">Woodhouse's Scrub-Jay - WOSJ</div></td>\n      <td><div class=\"not-number\">••••••• /659</div></td>\n    </tr>\n    <tr>\n      <th>191</th>\n      <td><div class=\"not-number\">Yellow-billed Magpie - YBMA</div></td>\n      <td><div class=\"not-number\">•••• /659</div></td>\n    </tr>\n    <tr>\n      <th>192</th>\n      <td><div class=\"not-number\">Clark's Nutcracker - CLNU</div></td>\n      <td><div class=\"not-number\">••••••• /659</div></td>\n    </tr>\n    <tr>\n      <th>193</th>\n      <td><div class=\"not-number\">American Crow - AMCR</div></td>\n      <td><div class=\"not-number\">••••••••••••••••••• /659</div></td>\n    </tr>\n    <tr>\n      <th>194</th>\n      <td><div class=\"not-number\">Common Raven - CORA</div></td>\n      <td><div class=\"not-number\">••••••••••••••••••••••••• /659</div></td>\n    </tr>\n    <tr>\n      <th>195</th>\n      <td><div class=\"not-number\">Horned Lark - HOLA</div></td>\n      <td><div class=\"not-number\">••••••••• /659</div></td>\n    </tr>\n    <tr>\n      <th>196</th>\n      <td><div class=\"not-number\">Northern Rough-winged Swallow - NRWS</div></td>\n      <td><div class=\"not-number\">•• /659</div></td>\n    </tr>\n    <tr>\n      <th>197</th>\n      <td><div class=\"not-number\">Purple Martin - PUMA</div></td>\n      <td><div class=\"not-number\">•••••••• /659</div></td>\n    </tr>\n    <tr>\n      <th>198</th>\n      <td><div class=\"not-number\">Tree Swallow - TRES</div></td>\n      <td><div class=\"not-number\">•••••••• /659</div></td>\n    </tr>\n    <tr>\n      <th>199</th>\n      <td><div class=\"not-number\">Violet-green Swallow - VGSW</div></td>\n      <td><div class=\"not-number\">•••••• /659</div></td>\n    </tr>\n    <tr>\n      <th>200</th>\n      <td><div class=\"not-number\">Barn Swallow - BARS</div></td>\n      <td><div class=\"not-number\">••••••• /659</div></td>\n    </tr>\n    <tr>\n      <th>201</th>\n      <td><div class=\"not-number\">Cliff Swallow - CLSW</div></td>\n      <td><div class=\"not-number\">••••• /659</div></td>\n    </tr>\n    <tr>\n      <th>202</th>\n      <td><div class=\"not-number\">Mountain Chickadee - MOCH</div></td>\n      <td><div class=\"not-number\">••••••••••••••••••• /659</div></td>\n    </tr>\n    <tr>\n      <th>203</th>\n      <td><div class=\"not-number\">Chestnut-backed Chickadee - CBCH</div></td>\n      <td><div class=\"not-number\">••••••••• /659</div></td>\n    </tr>\n    <tr>\n      <th>204</th>\n      <td><div class=\"not-number\">Oak Titmouse - OATI</div></td>\n      <td><div class=\"not-number\">••••••••• /659</div></td>\n    </tr>\n    <tr>\n      <th>205</th>\n      <td><div class=\"not-number\">Juniper Titmouse - JUTI</div></td>\n      <td><div class=\"not-number\">••••• /659</div></td>\n    </tr>\n    <tr>\n      <th>206</th>\n      <td><div class=\"not-number\">Verdin - VERD</div></td>\n      <td><div class=\"not-number\">••••••••• /659</div></td>\n    </tr>\n    <tr>\n      <th>207</th>\n      <td><div class=\"not-number\">Bushtit - BUSH</div></td>\n      <td><div class=\"not-number\">••••••••••• /659</div></td>\n    </tr>\n    <tr>\n      <th>208</th>\n      <td><div class=\"not-number\">Red-breasted Nuthatch - RBNU</div></td>\n      <td><div class=\"not-number\">••••••••••••••• /659</div></td>\n    </tr>\n    <tr>\n      <th>209</th>\n      <td><div class=\"not-number\">White-breasted Nuthatch - WBNU</div></td>\n      <td><div class=\"not-number\">••••••••••••••••••••••••••• /659</div></td>\n    </tr>\n    <tr>\n      <th>210</th>\n      <td><div class=\"not-number\">Pygmy Nuthatch - PYNU</div></td>\n      <td><div class=\"not-number\">•••••••• /659</div></td>\n    </tr>\n    <tr>\n      <th>211</th>\n      <td><div class=\"not-number\">Brown Creeper - BRCR</div></td>\n      <td><div class=\"not-number\">••••••••••••••••••••• /659</div></td>\n    </tr>\n    <tr>\n      <th>212</th>\n      <td><div class=\"not-number\">Rock Wren - ROWR</div></td>\n      <td><div class=\"not-number\">•••••••• /659</div></td>\n    </tr>\n    <tr>\n      <th>213</th>\n      <td><div class=\"not-number\">Canyon Wren - CANW</div></td>\n      <td><div class=\"not-number\">•••••••••••••• /659</div></td>\n    </tr>\n    <tr>\n      <th>214</th>\n      <td><div class=\"not-number\">House Wren - HOWR</div></td>\n      <td><div class=\"not-number\">••••••••••••••••••••••••••••••••••••••••••• /659</div></td>\n    </tr>\n    <tr>\n      <th>215</th>\n      <td><div class=\"not-number\">Pacific Wren - PAWR</div></td>\n      <td><div class=\"not-number\">••••••••••••••• /659</div></td>\n    </tr>\n    <tr>\n      <th>216</th>\n      <td><div class=\"not-number\">Winter Wren - WIWR</div></td>\n      <td><div class=\"not-number\">•••••••••••••••••• /659</div></td>\n    </tr>\n    <tr>\n      <th>217</th>\n      <td><div class=\"not-number\">Marsh Wren - MAWR</div></td>\n      <td><div class=\"not-number\">•••••••••••••••••••••••••• /659</div></td>\n    </tr>\n    <tr>\n      <th>218</th>\n      <td><div class=\"not-number\">Bewick's Wren - BEWR</div></td>\n      <td><div class=\"not-number\">••••••••••••••••••••••••••••••••••••••••••••••• /659</div></td>\n    </tr>\n    <tr>\n      <th>219</th>\n      <td><div class=\"not-number\">Cactus Wren - CACW</div></td>\n      <td><div class=\"not-number\">••••••••••• /659</div></td>\n    </tr>\n    <tr>\n      <th>220</th>\n      <td><div class=\"not-number\">Blue-gray Gnatcatcher - BGGN</div></td>\n      <td><div class=\"not-number\">•••••••••••••••••••• /659</div></td>\n    </tr>\n    <tr>\n      <th>221</th>\n      <td><div class=\"not-number\">California Gnatcatcher - CAGN</div></td>\n      <td><div class=\"not-number\">••• /659</div></td>\n    </tr>\n    <tr>\n      <th>222</th>\n      <td><div class=\"not-number\">Black-tailed Gnatcatcher - BTGN</div></td>\n      <td><div class=\"not-number\">••••••• /659</div></td>\n    </tr>\n    <tr>\n      <th>223</th>\n      <td><div class=\"not-number\">American Dipper - AMDI</div></td>\n      <td><div class=\"not-number\">•• /659</div></td>\n    </tr>\n    <tr>\n      <th>224</th>\n      <td><div class=\"not-number\">Red-whiskered Bulbul - RWBU</div></td>\n      <td><div class=\"not-number\"> /659</div></td>\n    </tr>\n    <tr>\n      <th>225</th>\n      <td><div class=\"not-number\">Golden-crowned Kinglet - GCKI</div></td>\n      <td><div class=\"not-number\">••••••••••••••• /659</div></td>\n    </tr>\n    <tr>\n      <th>226</th>\n      <td><div class=\"not-number\">Ruby-crowned Kinglet - RCKI</div></td>\n      <td><div class=\"not-number\">••••••••••••••••••••••••• /659</div></td>\n    </tr>\n    <tr>\n      <th>227</th>\n      <td><div class=\"not-number\">Dusky Warbler - DUWA</div></td>\n      <td><div class=\"not-number\"> /659</div></td>\n    </tr>\n    <tr>\n      <th>228</th>\n      <td><div class=\"not-number\">Wrentit - WREN</div></td>\n      <td><div class=\"not-number\">•••••• /659</div></td>\n    </tr>\n    <tr>\n      <th>229</th>\n      <td><div class=\"not-number\">Japanese White-eye - JAWE</div></td>\n      <td><div class=\"not-number\">• /659</div></td>\n    </tr>\n    <tr>\n      <th>230</th>\n      <td><div class=\"not-number\">Western Bluebird - WEBL</div></td>\n      <td><div class=\"not-number\">••• /659</div></td>\n    </tr>\n    <tr>\n      <th>231</th>\n      <td><div class=\"not-number\">Mountain Bluebird - MOBL</div></td>\n      <td><div class=\"not-number\">•• /659</div></td>\n    </tr>\n    <tr>\n      <th>232</th>\n      <td><div class=\"not-number\">Townsend's Solitaire - TOSO</div></td>\n      <td><div class=\"not-number\">•••••• /659</div></td>\n    </tr>\n    <tr>\n      <th>233</th>\n      <td><div class=\"not-number\">Swainson's Thrush - SWTH</div></td>\n      <td><div class=\"not-number\">••••••••••••••••••••••••••••••••••• /659</div></td>\n    </tr>\n    <tr>\n      <th>234</th>\n      <td><div class=\"not-number\">Hermit Thrush - HETH</div></td>\n      <td><div class=\"not-number\">•••••••••••••••••••••••• /659</div></td>\n    </tr>\n    <tr>\n      <th>235</th>\n      <td><div class=\"not-number\">Wood Thrush - WOTH</div></td>\n      <td><div class=\"not-number\">••••••••••••••••••• /659</div></td>\n    </tr>\n    <tr>\n      <th>236</th>\n      <td><div class=\"not-number\">American Robin - AMRO</div></td>\n      <td><div class=\"not-number\">•••••••••••••••••••••••••••••••••••••••• /659</div></td>\n    </tr>\n    <tr>\n      <th>237</th>\n      <td><div class=\"not-number\">Varied Thrush - VATH</div></td>\n      <td><div class=\"not-number\">•••••• /659</div></td>\n    </tr>\n    <tr>\n      <th>238</th>\n      <td><div class=\"not-number\">Gray Catbird - GRCA</div></td>\n      <td><div class=\"not-number\">••••••••••••••••••••••••••• /659</div></td>\n    </tr>\n    <tr>\n      <th>239</th>\n      <td><div class=\"not-number\">Curve-billed Thrasher - CBTH</div></td>\n      <td><div class=\"not-number\">•••••••••••••••••••••••••••••• /659</div></td>\n    </tr>\n    <tr>\n      <th>240</th>\n      <td><div class=\"not-number\">Bendire's Thrasher - BETH</div></td>\n      <td><div class=\"not-number\">••• /659</div></td>\n    </tr>\n    <tr>\n      <th>241</th>\n      <td><div class=\"not-number\">California Thrasher - CATH</div></td>\n      <td><div class=\"not-number\">•••••••• /659</div></td>\n    </tr>\n    <tr>\n      <th>242</th>\n      <td><div class=\"not-number\">LeConte's Thrasher - LCTH</div></td>\n      <td><div class=\"not-number\">•• /659</div></td>\n    </tr>\n    <tr>\n      <th>243</th>\n      <td><div class=\"not-number\">Crissal Thrasher - CRTH</div></td>\n      <td><div class=\"not-number\">••••••••• /659</div></td>\n    </tr>\n    <tr>\n      <th>244</th>\n      <td><div class=\"not-number\">Sage Thrasher - SATH</div></td>\n      <td><div class=\"not-number\">•• /659</div></td>\n    </tr>\n    <tr>\n      <th>245</th>\n      <td><div class=\"not-number\">Northern Mockingbird - NOMO</div></td>\n      <td><div class=\"not-number\">••••••••••••••••••••••• /659</div></td>\n    </tr>\n    <tr>\n      <th>246</th>\n      <td><div class=\"not-number\">European Starling - EUST</div></td>\n      <td><div class=\"not-number\">••••••• /659</div></td>\n    </tr>\n    <tr>\n      <th>247</th>\n      <td><div class=\"not-number\">Red-throated Pipit - RTPI</div></td>\n      <td><div class=\"not-number\"> /659</div></td>\n    </tr>\n    <tr>\n      <th>248</th>\n      <td><div class=\"not-number\">American Pipit - AMPI</div></td>\n      <td><div class=\"not-number\">•••••• /659</div></td>\n    </tr>\n    <tr>\n      <th>249</th>\n      <td><div class=\"not-number\">Cedar Waxwing - CEDW</div></td>\n      <td><div class=\"not-number\">••••••••• /659</div></td>\n    </tr>\n    <tr>\n      <th>250</th>\n      <td><div class=\"not-number\">Phainopepla - PHAI</div></td>\n      <td><div class=\"not-number\">••••• /659</div></td>\n    </tr>\n    <tr>\n      <th>251</th>\n      <td><div class=\"not-number\">Lapland Longspur - LALO</div></td>\n      <td><div class=\"not-number\">•••••• /659</div></td>\n    </tr>\n    <tr>\n      <th>252</th>\n      <td><div class=\"not-number\">Worm-eating Warbler - WEWA</div></td>\n      <td><div class=\"not-number\">•••••••••• /659</div></td>\n    </tr>\n    <tr>\n      <th>253</th>\n      <td><div class=\"not-number\">Northern Waterthrush - NOWA</div></td>\n      <td><div class=\"not-number\">•••••••••••••••• /659</div></td>\n    </tr>\n    <tr>\n      <th>254</th>\n      <td><div class=\"not-number\">Orange-crowned Warbler - OCWA</div></td>\n      <td><div class=\"not-number\">••••••••••••••••••• /659</div></td>\n    </tr>\n    <tr>\n      <th>255</th>\n      <td><div class=\"not-number\">Lucy's Warbler - LUWA</div></td>\n      <td><div class=\"not-number\">•••••• /659</div></td>\n    </tr>\n    <tr>\n      <th>256</th>\n      <td><div class=\"not-number\">Nashville Warbler - NAWA</div></td>\n      <td><div class=\"not-number\">•••••••••••• /659</div></td>\n    </tr>\n    <tr>\n      <th>257</th>\n      <td><div class=\"not-number\">MacGillivray's Warbler - MGWA</div></td>\n      <td><div class=\"not-number\">•••••••••••••• /659</div></td>\n    </tr>\n    <tr>\n      <th>258</th>\n      <td><div class=\"not-number\">Mourning Warbler - MOWA</div></td>\n      <td><div class=\"not-number\">••••••••••• /659</div></td>\n    </tr>\n    <tr>\n      <th>259</th>\n      <td><div class=\"not-number\">Common Yellowthroat - COYE</div></td>\n      <td><div class=\"not-number\">•••••••••••••••••••••••••••••••• /659</div></td>\n    </tr>\n    <tr>\n      <th>260</th>\n      <td><div class=\"not-number\">Hooded Warbler - HOWA</div></td>\n      <td><div class=\"not-number\">••••••••••••••• /659</div></td>\n    </tr>\n    <tr>\n      <th>261</th>\n      <td><div class=\"not-number\">American Redstart - AMRE</div></td>\n      <td><div class=\"not-number\">•••••••••••••••••••••••• /659</div></td>\n    </tr>\n    <tr>\n      <th>262</th>\n      <td><div class=\"not-number\">Northern Parula - NOPA</div></td>\n      <td><div class=\"not-number\">••••••••••••••••• /659</div></td>\n    </tr>\n    <tr>\n      <th>263</th>\n      <td><div class=\"not-number\">Magnolia Warbler - MAWA</div></td>\n      <td><div class=\"not-number\">••••••••••••••• /659</div></td>\n    </tr>\n    <tr>\n      <th>264</th>\n      <td><div class=\"not-number\">Bay-breasted Warbler - BBWA</div></td>\n      <td><div class=\"not-number\">••••• /659</div></td>\n    </tr>\n    <tr>\n      <th>265</th>\n      <td><div class=\"not-number\">Chestnut-sided Warbler - CSWA</div></td>\n      <td><div class=\"not-number\">•••••••••••• /659</div></td>\n    </tr>\n    <tr>\n      <th>266</th>\n      <td><div class=\"not-number\">Pine Warbler - PIWA</div></td>\n      <td><div class=\"not-number\">•••••••••• /659</div></td>\n    </tr>\n    <tr>\n      <th>267</th>\n      <td><div class=\"not-number\">Yellow-rumped Warbler - YRWA</div></td>\n      <td><div class=\"not-number\">•••••••••••••••• /659</div></td>\n    </tr>\n    <tr>\n      <th>268</th>\n      <td><div class=\"not-number\">Prairie Warbler - PRAW</div></td>\n      <td><div class=\"not-number\">•••••••• /659</div></td>\n    </tr>\n    <tr>\n      <th>269</th>\n      <td><div class=\"not-number\">Grace's Warbler - GRWA</div></td>\n      <td><div class=\"not-number\">••••••• /659</div></td>\n    </tr>\n    <tr>\n      <th>270</th>\n      <td><div class=\"not-number\">Black-throated Gray Warbler - BTYW</div></td>\n      <td><div class=\"not-number\">•••••••••• /659</div></td>\n    </tr>\n    <tr>\n      <th>271</th>\n      <td><div class=\"not-number\">Townsend's Warbler - TOWA</div></td>\n      <td><div class=\"not-number\">•••••••••••• /659</div></td>\n    </tr>\n    <tr>\n      <th>272</th>\n      <td><div class=\"not-number\">Hermit Warbler - HEWA</div></td>\n      <td><div class=\"not-number\">•••• /659</div></td>\n    </tr>\n    <tr>\n      <th>273</th>\n      <td><div class=\"not-number\">Wilson's Warbler - WIWA</div></td>\n      <td><div class=\"not-number\">•••••••••••••••••• /659</div></td>\n    </tr>\n    <tr>\n      <th>274</th>\n      <td><div class=\"not-number\">Painted Redstart - PARE</div></td>\n      <td><div class=\"not-number\">•••••••••• /659</div></td>\n    </tr>\n    <tr>\n      <th>275</th>\n      <td><div class=\"not-number\">Cassin's Sparrow - CASP</div></td>\n      <td><div class=\"not-number\">•••••••••• /659</div></td>\n    </tr>\n    <tr>\n      <th>276</th>\n      <td><div class=\"not-number\">Grasshopper Sparrow - GRSP</div></td>\n      <td><div class=\"not-number\">••••••••••••• /659</div></td>\n    </tr>\n    <tr>\n      <th>277</th>\n      <td><div class=\"not-number\">Chipping Sparrow - CHSP</div></td>\n      <td><div class=\"not-number\">•••••••••••••••••••••• /659</div></td>\n    </tr>\n    <tr>\n      <th>278</th>\n      <td><div class=\"not-number\">Clay-colored Sparrow - CCSP</div></td>\n      <td><div class=\"not-number\">••••••••••• /659</div></td>\n    </tr>\n    <tr>\n      <th>279</th>\n      <td><div class=\"not-number\">Black-chinned Sparrow - BCSP</div></td>\n      <td><div class=\"not-number\">••••• /659</div></td>\n    </tr>\n    <tr>\n      <th>280</th>\n      <td><div class=\"not-number\">Brewer's Sparrow - BRSP</div></td>\n      <td><div class=\"not-number\">••••••••••••• /659</div></td>\n    </tr>\n    <tr>\n      <th>281</th>\n      <td><div class=\"not-number\">Black-throated Sparrow - BTSP</div></td>\n      <td><div class=\"not-number\">••••••••••••• /659</div></td>\n    </tr>\n    <tr>\n      <th>282</th>\n      <td><div class=\"not-number\">Lark Sparrow - LASP</div></td>\n      <td><div class=\"not-number\">•••••••••• /659</div></td>\n    </tr>\n    <tr>\n      <th>283</th>\n      <td><div class=\"not-number\">Fox Sparrow - FOSP</div></td>\n      <td><div class=\"not-number\">••••••••••••••••••••••••••••••••••••••••••••• /659</div></td>\n    </tr>\n    <tr>\n      <th>284</th>\n      <td><div class=\"not-number\">Dark-eyed Junco - DEJU</div></td>\n      <td><div class=\"not-number\">••••••••••••••••••••••••••••••••••• /659</div></td>\n    </tr>\n    <tr>\n      <th>285</th>\n      <td><div class=\"not-number\">White-crowned Sparrow - WCSP</div></td>\n      <td><div class=\"not-number\">•••••••••••••••••••••••••• /659</div></td>\n    </tr>\n    <tr>\n      <th>286</th>\n      <td><div class=\"not-number\">Golden-crowned Sparrow - GCSP</div></td>\n      <td><div class=\"not-number\">••••••••• /659</div></td>\n    </tr>\n    <tr>\n      <th>287</th>\n      <td><div class=\"not-number\">White-throated Sparrow - WTSP</div></td>\n      <td><div class=\"not-number\">••••••••••••••••••••••••••••••• /659</div></td>\n    </tr>\n    <tr>\n      <th>288</th>\n      <td><div class=\"not-number\">Sagebrush Sparrow - SABS</div></td>\n      <td><div class=\"not-number\">••• /659</div></td>\n    </tr>\n    <tr>\n      <th>289</th>\n      <td><div class=\"not-number\">Bell's Sparrow - BESP</div></td>\n      <td><div class=\"not-number\">•••••• /659</div></td>\n    </tr>\n    <tr>\n      <th>290</th>\n      <td><div class=\"not-number\">Vesper Sparrow - VESP</div></td>\n      <td><div class=\"not-number\">•••••••••••• /659</div></td>\n    </tr>\n    <tr>\n      <th>291</th>\n      <td><div class=\"not-number\">Savannah Sparrow - SAVS</div></td>\n      <td><div class=\"not-number\">•••••••••••••••••• /659</div></td>\n    </tr>\n    <tr>\n      <th>292</th>\n      <td><div class=\"not-number\">Song Sparrow - SOSP</div></td>\n      <td><div class=\"not-number\">•••••••••••••••••••••••••••••••••••••••••••••••••••••••••• /659</div></td>\n    </tr>\n    <tr>\n      <th>293</th>\n      <td><div class=\"not-number\">Lincoln's Sparrow - LISP</div></td>\n      <td><div class=\"not-number\">•••••••••••••••• /659</div></td>\n    </tr>\n    <tr>\n      <th>294</th>\n      <td><div class=\"not-number\">Abert's Towhee - ABTO</div></td>\n      <td><div class=\"not-number\">••••••• /659</div></td>\n    </tr>\n    <tr>\n      <th>295</th>\n      <td><div class=\"not-number\">California Towhee - CALT</div></td>\n      <td><div class=\"not-number\">•••••• /659</div></td>\n    </tr>\n    <tr>\n      <th>296</th>\n      <td><div class=\"not-number\">Rufous-crowned Sparrow - RCSP</div></td>\n      <td><div class=\"not-number\">••••••••••• /659</div></td>\n    </tr>\n    <tr>\n      <th>297</th>\n      <td><div class=\"not-number\">Green-tailed Towhee - GTTO</div></td>\n      <td><div class=\"not-number\">••••••••••••• /659</div></td>\n    </tr>\n    <tr>\n      <th>298</th>\n      <td><div class=\"not-number\">Spotted Towhee - SPTO</div></td>\n      <td><div class=\"not-number\">••••••••••••••••••••••••••••••••••••••••••••••• /659</div></td>\n    </tr>\n    <tr>\n      <th>299</th>\n      <td><div class=\"not-number\">Yellow-breasted Chat - YBCH</div></td>\n      <td><div class=\"not-number\">•••••••••••••••••• /659</div></td>\n    </tr>\n    <tr>\n      <th>300</th>\n      <td><div class=\"not-number\">Summer Tanager - SUTA</div></td>\n      <td><div class=\"not-number\">••••••••••••• /659</div></td>\n    </tr>\n    <tr>\n      <th>301</th>\n      <td><div class=\"not-number\">Western Tanager - WETA</div></td>\n      <td><div class=\"not-number\">•••••••••• /659</div></td>\n    </tr>\n    <tr>\n      <th>302</th>\n      <td><div class=\"not-number\">Northern Cardinal - NOCA</div></td>\n      <td><div class=\"not-number\">•••••••••••••••••••••••••••••••••••• /659</div></td>\n    </tr>\n    <tr>\n      <th>303</th>\n      <td><div class=\"not-number\">Rose-breasted Grosbeak - RBGR</div></td>\n      <td><div class=\"not-number\">•••••••••••• /659</div></td>\n    </tr>\n    <tr>\n      <th>304</th>\n      <td><div class=\"not-number\">Black-headed Grosbeak - BHGR</div></td>\n      <td><div class=\"not-number\">••••••••••••••• /659</div></td>\n    </tr>\n    <tr>\n      <th>305</th>\n      <td><div class=\"not-number\">Blue Grosbeak - BLGR</div></td>\n      <td><div class=\"not-number\">•••••••••• /659</div></td>\n    </tr>\n    <tr>\n      <th>306</th>\n      <td><div class=\"not-number\">Lazuli Bunting - LAZB</div></td>\n      <td><div class=\"not-number\">••••••••• /659</div></td>\n    </tr>\n    <tr>\n      <th>307</th>\n      <td><div class=\"not-number\">Indigo Bunting - INBU</div></td>\n      <td><div class=\"not-number\">•••••••••••••••• /659</div></td>\n    </tr>\n    <tr>\n      <th>308</th>\n      <td><div class=\"not-number\">Yellow-headed Blackbird - YHBL</div></td>\n      <td><div class=\"not-number\">••••••• /659</div></td>\n    </tr>\n    <tr>\n      <th>309</th>\n      <td><div class=\"not-number\">Western Meadowlark - WEME</div></td>\n      <td><div class=\"not-number\">••••••••••••••••••••••••• /659</div></td>\n    </tr>\n    <tr>\n      <th>310</th>\n      <td><div class=\"not-number\">Hooded Oriole - HOOR</div></td>\n      <td><div class=\"not-number\">••••••••••••• /659</div></td>\n    </tr>\n    <tr>\n      <th>311</th>\n      <td><div class=\"not-number\">Bullock's Oriole - BUOR</div></td>\n      <td><div class=\"not-number\">•••••••••••••••• /659</div></td>\n    </tr>\n    <tr>\n      <th>312</th>\n      <td><div class=\"not-number\">Scott's Oriole - SCOR</div></td>\n      <td><div class=\"not-number\">••••••••••••• /659</div></td>\n    </tr>\n    <tr>\n      <th>313</th>\n      <td><div class=\"not-number\">Red-winged Blackbird - RWBL</div></td>\n      <td><div class=\"not-number\">••••••••••••••••••••••••••••••••••••••••••••• /659</div></td>\n    </tr>\n    <tr>\n      <th>314</th>\n      <td><div class=\"not-number\">Tricolored Blackbird - TRBL</div></td>\n      <td><div class=\"not-number\">••••• /659</div></td>\n    </tr>\n    <tr>\n      <th>315</th>\n      <td><div class=\"not-number\">Brown-headed Cowbird - BHCO</div></td>\n      <td><div class=\"not-number\">••••••••••••••••• /659</div></td>\n    </tr>\n    <tr>\n      <th>316</th>\n      <td><div class=\"not-number\">Brewer's Blackbird - BRBL</div></td>\n      <td><div class=\"not-number\">•••••• /659</div></td>\n    </tr>\n    <tr>\n      <th>317</th>\n      <td><div class=\"not-number\">Great-tailed Grackle - GTGR</div></td>\n      <td><div class=\"not-number\">••••••••• /659</div></td>\n    </tr>\n    <tr>\n      <th>318</th>\n      <td><div class=\"not-number\">Evening Grosbeak - EVGR</div></td>\n      <td><div class=\"not-number\">••••••••••• /659</div></td>\n    </tr>\n    <tr>\n      <th>319</th>\n      <td><div class=\"not-number\">Pine Grosbeak - PIGR</div></td>\n      <td><div class=\"not-number\">••••• /659</div></td>\n    </tr>\n    <tr>\n      <th>320</th>\n      <td><div class=\"not-number\">House Finch - HOFI</div></td>\n      <td><div class=\"not-number\">••••••••••••••••••••• /659</div></td>\n    </tr>\n    <tr>\n      <th>321</th>\n      <td><div class=\"not-number\">Purple Finch - PUFI</div></td>\n      <td><div class=\"not-number\">•••••••••••••••••• /659</div></td>\n    </tr>\n    <tr>\n      <th>322</th>\n      <td><div class=\"not-number\">Cassin's Finch - CAFI</div></td>\n      <td><div class=\"not-number\">••••••••••• /659</div></td>\n    </tr>\n    <tr>\n      <th>323</th>\n      <td><div class=\"not-number\">Red Crossbill - RECR</div></td>\n      <td><div class=\"not-number\">•••••••••••••••••••••••••••••••••••••••••••••••••••••••••••• /659</div></td>\n    </tr>\n    <tr>\n      <th>324</th>\n      <td><div class=\"not-number\">Pine Siskin - PISI</div></td>\n      <td><div class=\"not-number\">••••••••••••••••• /659</div></td>\n    </tr>\n    <tr>\n      <th>325</th>\n      <td><div class=\"not-number\">Lesser Goldfinch - LEGO</div></td>\n      <td><div class=\"not-number\">•••••••••••• /659</div></td>\n    </tr>\n    <tr>\n      <th>326</th>\n      <td><div class=\"not-number\">Lawrence's Goldfinch - LAGO</div></td>\n      <td><div class=\"not-number\">••• /659</div></td>\n    </tr>\n    <tr>\n      <th>327</th>\n      <td><div class=\"not-number\">American Goldfinch - AMGO</div></td>\n      <td><div class=\"not-number\">•••••••••••••••• /659</div></td>\n    </tr>\n    <tr>\n      <th>328</th>\n      <td><div class=\"not-number\">House Sparrow - HOSP</div></td>\n      <td><div class=\"not-number\">•••••••••• /659</div></td>\n    </tr>\n    <tr>\n      <th>329</th>\n      <td><div class=\"not-number\">Scaly-breasted Munia - SBMU</div></td>\n      <td><div class=\"not-number\">• /659</div></td>\n    </tr>\n    <tr>\n      <th>330</th>\n      <td><div class=\"not-number\">Pin-tailed Whydah - PTWH</div></td>\n      <td><div class=\"not-number\"> /659</div></td>\n    </tr>\n  </tbody>\n</table>",
      "text/plain": "                       species_longhand                                                           num_recs\n0                     Snow Goose - SNGO                                                         ••••• /659\n1    Greater White-fronted Goose - GWFG                                                           ••• /659\n2                          Brant - BRAN                                                            •• /659\n3                 Cackling Goose - CACG                                                           ••• /659\n4                   Canada Goose - CANG                                                    •••••••••• /659\n5                    Tundra Swan - TUSW                                                            •• /659\n6                 Egyptian Goose - EGGO                                                               /659\n7                  Cinnamon Teal - CITE                                                               /659\n8                        Gadwall - GADW                                                            •• /659\n9                American Wigeon - AMWI                                                           ••• /659\n10                       Mallard - MALL                                                          •••• /659\n11             Green-winged Teal - GWTE                                                          •••• /659\n12                       Redhead - REDH                                                             • /659\n13                   Surf Scoter - SUSC                                                             • /659\n14                    Bufflehead - BUFF                                                             • /659\n15                Mountain Quail - MOUQ                                                        •••••• /659\n16              California Quail - CAQU                                                         ••••• /659\n17                Gambel's Quail - GAQU                                                        •••••• /659\n18                  Sooty Grouse - SOGR                                                            •• /659\n19                   Wild Turkey - WITU                                                          •••• /659\n20             Red-throated Loon - RTLO                                                             • /659\n21                   Common Loon - COLO                                                          •••• /659\n22             Pied-billed Grebe - PBGR                                                         ••••• /659\n23                  Horned Grebe - HOGR                                                             • /659\n24              Red-necked Grebe - RNGR                                                            •• /659\n25                 Western Grebe - WEGR                                                           ••• /659\n26                 Clark's Grebe - CLGR                                                             • /659\n27        Black-footed Albatross - BFAL                                                            •• /659\n28            Brandt's Cormorant - BRAC                                                               /659\n29             Pelagic Cormorant - PECO                                                               /659\n30      Double-crested Cormorant - DCCO                                                           ••• /659\n31              American Bittern - AMBI                                                         ••••• /659\n32                 Least Bittern - LEBI                                                         ••••• /659\n..                                  ...                                                                ...\n298               Spotted Towhee - SPTO               ••••••••••••••••••••••••••••••••••••••••••••••• /659\n299         Yellow-breasted Chat - YBCH                                            •••••••••••••••••• /659\n300               Summer Tanager - SUTA                                                 ••••••••••••• /659\n301              Western Tanager - WETA                                                    •••••••••• /659\n302            Northern Cardinal - NOCA                          •••••••••••••••••••••••••••••••••••• /659\n303       Rose-breasted Grosbeak - RBGR                                                  •••••••••••• /659\n304        Black-headed Grosbeak - BHGR                                               ••••••••••••••• /659\n305                Blue Grosbeak - BLGR                                                    •••••••••• /659\n306               Lazuli Bunting - LAZB                                                     ••••••••• /659\n307               Indigo Bunting - INBU                                              •••••••••••••••• /659\n308      Yellow-headed Blackbird - YHBL                                                       ••••••• /659\n309           Western Meadowlark - WEME                                     ••••••••••••••••••••••••• /659\n310                Hooded Oriole - HOOR                                                 ••••••••••••• /659\n311             Bullock's Oriole - BUOR                                              •••••••••••••••• /659\n312               Scott's Oriole - SCOR                                                 ••••••••••••• /659\n313         Red-winged Blackbird - RWBL                 ••••••••••••••••••••••••••••••••••••••••••••• /659\n314         Tricolored Blackbird - TRBL                                                         ••••• /659\n315         Brown-headed Cowbird - BHCO                                             ••••••••••••••••• /659\n316           Brewer's Blackbird - BRBL                                                        •••••• /659\n317         Great-tailed Grackle - GTGR                                                     ••••••••• /659\n318             Evening Grosbeak - EVGR                                                   ••••••••••• /659\n319                Pine Grosbeak - PIGR                                                         ••••• /659\n320                  House Finch - HOFI                                         ••••••••••••••••••••• /659\n321                 Purple Finch - PUFI                                            •••••••••••••••••• /659\n322               Cassin's Finch - CAFI                                                   ••••••••••• /659\n323                Red Crossbill - RECR  •••••••••••••••••••••••••••••••••••••••••••••••••••••••••••• /659\n324                  Pine Siskin - PISI                                             ••••••••••••••••• /659\n325             Lesser Goldfinch - LEGO                                                  •••••••••••• /659\n326         Lawrence's Goldfinch - LAGO                                                           ••• /659\n327           American Goldfinch - AMGO                                              •••••••••••••••• /659\n328                House Sparrow - HOSP                                                    •••••••••• /659\n329         Scaly-breasted Munia - SBMU                                                             • /659\n330            Pin-tailed Whydah - PTWH                                                               /659\n\n[331 rows x 2 columns]"
     },
     "execution_count": 6,
     "metadata": {},
     "output_type": "execute_result"
    }
   ],
   "source": [
    "# Fast-and-cheap version (<1s) of the plots below (~7s)\n",
    "(recs\n",
    "    .species_longhand.value_counts().sort_index()\n",
    "    .reset_index().rename(columns={'index': 'species_longhand', 'species_longhand': 'num_recs'})\n",
    "    .assign(num_recs=lambda df: df.num_recs.map(lambda n: '%s /%s' % ('•' * int(n / df.num_recs.max() * 60), df.num_recs.max())))\n",
    ")"
   ]
  },
  {
   "cell_type": "code",
   "execution_count": null,
   "metadata": {
    "skip": true
   },
   "outputs": [
    {
     "name": "stdout",
     "output_type": "stream",
     "text": "[skip]"
    }
   ],
   "source": [
    "# Num recs loaded for training + total num available [slow: ~7s]\n",
    "(recs\n",
    "    .pipe(df_reverse_cat, 'species_longhand')\n",
    "    .assign(recs_n=1).groupby(['species', 'species_longhand'])['recs_n'].sum().reset_index()\n",
    "    .set_index('species')\n",
    "    # [:100]\n",
    "    .join(how='left', other=(xc.metadata\n",
    "        .assign(total_n=1).groupby('species')['total_n'].sum().reset_index()\n",
    "        .set_index('species')\n",
    "    ))\n",
    "    .reset_index()\n",
    "    .pipe(ggplot)\n",
    "    + aes(x='species_longhand')\n",
    "    + geom_col(aes(y='total_n'), fill='darkgray')\n",
    "    + geom_col(aes(y='recs_n'), fill=scale_color_cmap(mpl.cm.tab10).palette(0))\n",
    "    # + geom_point(aes(y='total_n'), color='darkgray')\n",
    "    # + geom_point(aes(y='recs_n'), color=scale_color_cmap(mpl.cm.tab10).palette(0))\n",
    "    + expand_limits(y=0)\n",
    "    + coord_flip()\n",
    "    + theme(axis_text_y=element_text(size=4))\n",
    "    + theme_figsize(width=18, aspect_ratio=3/2)\n",
    "    + ggtitle('Num recs loaded for training + total num available')\n",
    ")"
   ]
  },
  {
   "cell_type": "code",
   "execution_count": null,
   "metadata": {
    "skip": true
   },
   "outputs": [
    {
     "name": "stdout",
     "output_type": "stream",
     "text": "[skip]"
    }
   ],
   "source": [
    "# Plot recs with duration [slow: ~7s]\n",
    "(recs\n",
    "    .assign(species=lambda df: df.species_longhand)\n",
    "    .assign(count=1)\n",
    "    # 0-fill all (species, dataset) combinations to create empty placeholders for missing bars\n",
    "    .pipe(lambda df: df.append(\n",
    "        pd.DataFrame([\n",
    "            dict(species=species, dataset=dataset, duration_s=0)\n",
    "            for species in df.species.unique()\n",
    "            for dataset in df.dataset.unique()\n",
    "        ])\n",
    "        .astype({'species': df.species.dtype})\n",
    "    ))\n",
    "    .groupby(['dataset', 'species'])[['count', 'duration_s']].sum().reset_index()\n",
    "    # Order by species by taxo\n",
    "    .pipe(df_reverse_cat, 'species')\n",
    "    # Order by species by count\n",
    "    # .pipe(df_ordered_cat, species=lambda df: df.sort_values('count').species)\n",
    "    .pipe(pd.melt, id_vars=['dataset', 'species'], value_vars=['count', 'duration_s'])\n",
    "    .pipe(df_remove_unused_categories)\n",
    "    .pipe(ggplot, aes(x='species', y='value', fill='dataset', color='dataset'))\n",
    "    + coord_flip()\n",
    "    + geom_bar(stat='identity', position=position_dodge(), width=.8)\n",
    "    + facet_wrap('variable', nrow=1, scales='free')\n",
    "    + xlab('')\n",
    "    + ylab('')\n",
    "    + scale_fill_cmap_d(mpl_cmap_concat('tab20', 'tab20b', 'tab20c'))\n",
    "    + scale_color_cmap_d(mpl_cmap_concat('tab20', 'tab20b', 'tab20c'))\n",
    "    + theme(panel_spacing=2.5)\n",
    "    + theme_figsize(width=18, aspect_ratio=4/1)\n",
    "    + ggtitle(f'recs: Total (count, duration_s) per (species, dataset)')\n",
    ")"
   ]
  },
  {
   "cell_type": "code",
   "execution_count": null,
   "metadata": {
    "time": "4.364s"
   },
   "outputs": [],
   "source": [
    "# Add .feat\n",
    "recs = projection.transform(recs)"
   ]
  },
  {
   "cell_type": "code",
   "execution_count": null,
   "metadata": {
    "time": "226.929s"
   },
   "outputs": [
    {
     "name": "stderr",
     "output_type": "stream",
     "text": "\r  0%|                                                                                                    | 0/900900 [00:00<?, ?it/s]"
    },
    {
     "name": "stderr",
     "output_type": "stream",
     "text": "\r  7%|██████▏                                                                             | 65970/900900 [00:00<00:01, 659552.81it/s]"
    },
    {
     "name": "stderr",
     "output_type": "stream",
     "text": "\r 13%|██████████▍                                                                        | 112837/900900 [00:00<00:01, 564092.74it/s]"
    },
    {
     "name": "stderr",
     "output_type": "stream",
     "text": "\r 17%|██████████████▏                                                                    | 154262/900900 [00:00<00:01, 514169.15it/s]"
    },
    {
     "name": "stderr",
     "output_type": "stream",
     "text": "\r 21%|█████████████████▌                                                                 | 190199/900900 [00:00<00:01, 475472.45it/s]"
    },
    {
     "name": "stderr",
     "output_type": "stream",
     "text": "\r 25%|████████████████████▌                                                              | 223357/900900 [00:00<00:01, 443431.74it/s]"
    },
    {
     "name": "stderr",
     "output_type": "stream",
     "text": "\r 28%|███████████████████████▌                                                           | 256163/900900 [00:00<00:01, 414452.37it/s]"
    },
    {
     "name": "stderr",
     "output_type": "stream",
     "text": "\r 32%|██████████████████████████▌                                                        | 287732/900900 [00:00<00:01, 390795.11it/s]"
    },
    {
     "name": "stderr",
     "output_type": "stream",
     "text": "\r 35%|█████████████████████████████▎                                                     | 317843/900900 [00:00<00:01, 369174.21it/s]"
    },
    {
     "name": "stderr",
     "output_type": "stream",
     "text": "\r 38%|███████████████████████████████▉                                                   | 346166/900900 [00:00<00:01, 353407.81it/s]"
    },
    {
     "name": "stderr",
     "output_type": "stream",
     "text": "\r 41%|██████████████████████████████████▍                                                | 373159/900900 [00:01<00:01, 335181.83it/s]"
    },
    {
     "name": "stderr",
     "output_type": "stream",
     "text": "\r 44%|████████████████████████████████████▋                                              | 398107/900900 [00:01<00:01, 321469.39it/s]"
    },
    {
     "name": "stderr",
     "output_type": "stream",
     "text": "\r 47%|██████████████████████████████████████▊                                            | 421554/900900 [00:01<00:01, 310166.52it/s]"
    },
    {
     "name": "stderr",
     "output_type": "stream",
     "text": "\r 49%|████████████████████████████████████████▉                                          | 443794/900900 [00:01<00:01, 298463.54it/s]"
    },
    {
     "name": "stderr",
     "output_type": "stream",
     "text": "\r 52%|██████████████████████████████████████████▊                                        | 464582/900900 [00:01<00:01, 289261.70it/s]"
    },
    {
     "name": "stderr",
     "output_type": "stream",
     "text": "\r 54%|████████████████████████████████████████████▌                                      | 484367/900900 [00:01<00:01, 281598.14it/s]"
    },
    {
     "name": "stderr",
     "output_type": "stream",
     "text": "\r 56%|██████████████████████████████████████████████▍                                    | 503425/900900 [00:01<00:01, 273582.76it/s]"
    },
    {
     "name": "stderr",
     "output_type": "stream",
     "text": "\r 58%|████████████████████████████████████████████████                                   | 521528/900900 [00:01<00:01, 266805.82it/s]"
    },
    {
     "name": "stderr",
     "output_type": "stream",
     "text": "\r 60%|█████████████████████████████████████████████████▋                                 | 538940/900900 [00:02<00:01, 261055.13it/s]"
    },
    {
     "name": "stderr",
     "output_type": "stream",
     "text": "\r 62%|███████████████████████████████████████████████████▏                               | 555888/900900 [00:02<00:01, 255780.24it/s]"
    },
    {
     "name": "stderr",
     "output_type": "stream",
     "text": "\r 64%|████████████████████████████████████████████████████▋                              | 572423/900900 [00:02<00:01, 249859.85it/s]"
    },
    {
     "name": "stderr",
     "output_type": "stream",
     "text": "\r 65%|██████████████████████████████████████████████████████▏                            | 588213/900900 [00:02<00:01, 244725.41it/s]"
    },
    {
     "name": "stderr",
     "output_type": "stream",
     "text": "\r 67%|███████████████████████████████████████████████████████▌                           | 603474/900900 [00:02<00:01, 240260.97it/s]"
    },
    {
     "name": "stderr",
     "output_type": "stream",
     "text": "\r 69%|████████████████████████████████████████████████████████▉                          | 618389/900900 [00:02<00:01, 236209.63it/s]"
    },
    {
     "name": "stderr",
     "output_type": "stream",
     "text": "\r 70%|██████████████████████████████████████████████████████████▎                        | 633042/900900 [00:02<00:01, 231937.64it/s]"
    },
    {
     "name": "stderr",
     "output_type": "stream",
     "text": "\r 72%|███████████████████████████████████████████████████████████▋                       | 647246/900900 [00:02<00:01, 227779.39it/s]"
    },
    {
     "name": "stderr",
     "output_type": "stream",
     "text": "\r 73%|████████████████████████████████████████████████████████████▉                      | 660987/900900 [00:02<00:01, 224064.67it/s]"
    },
    {
     "name": "stderr",
     "output_type": "stream",
     "text": "\r 75%|██████████████████████████████████████████████████████████████▏                    | 674407/900900 [00:03<00:01, 220668.08it/s]"
    },
    {
     "name": "stderr",
     "output_type": "stream",
     "text": "\r 76%|███████████████████████████████████████████████████████████████▎                   | 687592/900900 [00:03<00:00, 217555.58it/s]"
    },
    {
     "name": "stderr",
     "output_type": "stream",
     "text": "\r 78%|████████████████████████████████████████████████████████████████▌                  | 700613/900900 [00:03<00:00, 214375.95it/s]"
    },
    {
     "name": "stderr",
     "output_type": "stream",
     "text": "\r 79%|█████████████████████████████████████████████████████████████████▋                 | 713358/900900 [00:03<00:00, 211301.25it/s]"
    },
    {
     "name": "stderr",
     "output_type": "stream",
     "text": "\r 81%|██████████████████████████████████████████████████████████████████▊                | 725824/900900 [00:03<00:00, 208467.87it/s]"
    },
    {
     "name": "stderr",
     "output_type": "stream",
     "text": "\r 82%|████████████████████████████████████████████████████████████████████               | 738089/900900 [00:03<00:00, 205863.18it/s]"
    },
    {
     "name": "stderr",
     "output_type": "stream",
     "text": "\r 83%|█████████████████████████████████████████████████████████████████████              | 750225/900900 [00:03<00:00, 203410.30it/s]"
    },
    {
     "name": "stderr",
     "output_type": "stream",
     "text": "\r 85%|██████████████████████████████████████████████████████████████████████▏            | 762259/900900 [00:03<00:00, 201134.01it/s]"
    },
    {
     "name": "stderr",
     "output_type": "stream",
     "text": "\r 86%|███████████████████████████████████████████████████████████████████████▎           | 774237/900900 [00:03<00:00, 198468.97it/s]"
    },
    {
     "name": "stderr",
     "output_type": "stream",
     "text": "\r 87%|████████████████████████████████████████████████████████████████████████▍          | 785852/900900 [00:04<00:00, 196029.47it/s]"
    },
    {
     "name": "stderr",
     "output_type": "stream",
     "text": "\r 88%|█████████████████████████████████████████████████████████████████████████▍         | 797215/900900 [00:04<00:00, 193757.07it/s]"
    },
    {
     "name": "stderr",
     "output_type": "stream",
     "text": "\r 90%|██████████████████████████████████████████████████████████████████████████▍        | 808396/900900 [00:04<00:00, 191629.99it/s]"
    },
    {
     "name": "stderr",
     "output_type": "stream",
     "text": "\r 91%|███████████████████████████████████████████████████████████████████████████▍       | 819447/900900 [00:04<00:00, 189630.36it/s]"
    },
    {
     "name": "stderr",
     "output_type": "stream",
     "text": "\r 92%|████████████████████████████████████████████████████████████████████████████▌      | 830409/900900 [00:04<00:00, 187763.07it/s]"
    },
    {
     "name": "stderr",
     "output_type": "stream",
     "text": "\r 93%|█████████████████████████████████████████████████████████████████████████████▌     | 841328/900900 [00:04<00:00, 185654.92it/s]"
    },
    {
     "name": "stderr",
     "output_type": "stream",
     "text": "\r 95%|██████████████████████████████████████████████████████████████████████████████▍    | 851975/900900 [00:04<00:00, 183630.67it/s]"
    },
    {
     "name": "stderr",
     "output_type": "stream",
     "text": "\r 96%|███████████████████████████████████████████████████████████████████████████████▍   | 862388/900900 [00:04<00:00, 181767.20it/s]"
    },
    {
     "name": "stderr",
     "output_type": "stream",
     "text": "\r 97%|████████████████████████████████████████████████████████████████████████████████▍  | 872656/900900 [00:04<00:00, 180013.21it/s]"
    },
    {
     "name": "stderr",
     "output_type": "stream",
     "text": "\r 98%|█████████████████████████████████████████████████████████████████████████████████▎ | 882827/900900 [00:04<00:00, 178335.73it/s]"
    },
    {
     "name": "stderr",
     "output_type": "stream",
     "text": "\r 99%|██████████████████████████████████████████████████████████████████████████████████▎| 892920/900900 [00:05<00:00, 176754.36it/s]"
    },
    {
     "name": "stderr",
     "output_type": "stream",
     "text": "\r100%|███████████████████████████████████████████████████████████████████████████████████| 900900/900900 [00:05<00:00, 175519.78it/s]"
    },
    {
     "name": "stderr",
     "output_type": "stream",
     "text": "\n"
    },
    {
     "name": "stdout",
     "output_type": "stream",
     "text": "Fitting 1 folds for each of 143 candidates, totalling 143 fits\n[01:05:55.433] INFO   artifacts\n  dir: /app/data/artifacts\n  save: true\n  reuse: eval-na-ca\n  experiment_id: eval-na-ca\n"
    },
    {
     "name": "stdout",
     "output_type": "stream",
     "text": "[01:06:05.258] INFO   _fit_and_score: n[1/143], model_id[split_i=0,train=28164,test=7042,classes=331,estimator=Search(n_species=9,n_recs=0.03,classifier='cls=std-sgdlog,alpha=.0000001,class_weight=balanced',random_state=0)]: reuse.load[0.013s, 3.7 MB]: ret\n"
    },
    {
     "name": "stdout",
     "output_type": "stream",
     "text": "[01:06:05.655] INFO   _fit_and_score: n[2/143], model_id[split_i=0,train=28164,test=7042,classes=331,estimator=Search(n_species=9,n_recs=0.03,classifier='cls=std-sgdlog,alpha=.000001,class_weight=balanced',random_state=0)]: reuse.load[0.013s, 3.7 MB]: ret\n"
    },
    {
     "name": "stdout",
     "output_type": "stream",
     "text": "[01:06:06.052] INFO   _fit_and_score: n[3/143], model_id[split_i=0,train=28164,test=7042,classes=331,estimator=Search(n_species=9,n_recs=0.03,classifier='cls=std-sgdlog,alpha=.00001,class_weight=balanced',random_state=0)]: reuse.load[0.013s, 3.7 MB]: ret\n"
    },
    {
     "name": "stdout",
     "output_type": "stream",
     "text": "[01:06:06.447] INFO   _fit_and_score: n[4/143], model_id[split_i=0,train=28164,test=7042,classes=331,estimator=Search(n_species=9,n_recs=0.03,classifier='cls=std-sgdlog,alpha=0.0001,class_weight=balanced',random_state=0)]: reuse.load[0.013s, 3.7 MB]: ret\n"
    },
    {
     "name": "stdout",
     "output_type": "stream",
     "text": "[01:06:06.842] INFO   _fit_and_score: n[5/143], model_id[split_i=0,train=28164,test=7042,classes=331,estimator=Search(n_species=9,n_recs=0.03,classifier='cls=std-sgdlog,alpha=0.001,class_weight=balanced',random_state=0)]: reuse.load[0.013s, 3.7 MB]: ret\n"
    },
    {
     "name": "stdout",
     "output_type": "stream",
     "text": "[01:06:07.239] INFO   _fit_and_score: n[6/143], model_id[split_i=0,train=28164,test=7042,classes=331,estimator=Search(n_species=9,n_recs=0.03,classifier='cls=std-sgdlog,alpha=0.01,class_weight=balanced',random_state=0)]: reuse.load[0.013s, 3.7 MB]: ret\n"
    },
    {
     "name": "stdout",
     "output_type": "stream",
     "text": "[01:06:07.634] INFO   _fit_and_score: n[7/143], model_id[split_i=0,train=28164,test=7042,classes=331,estimator=Search(n_species=9,n_recs=0.03,classifier='cls=std-sgdlog,alpha=0.1,class_weight=balanced',random_state=0)]: reuse.load[0.013s, 3.7 MB]: ret\n"
    },
    {
     "name": "stdout",
     "output_type": "stream",
     "text": "[01:06:08.030] INFO   _fit_and_score: n[8/143], model_id[split_i=0,train=28164,test=7042,classes=331,estimator=Search(n_species=9,n_recs=0.03,classifier='cls=std-sgdlog,alpha=1,class_weight=balanced',random_state=0)]: reuse.load[0.013s, 3.7 MB]: ret\n"
    },
    {
     "name": "stdout",
     "output_type": "stream",
     "text": "[01:06:08.427] INFO   _fit_and_score: n[9/143], model_id[split_i=0,train=28164,test=7042,classes=331,estimator=Search(n_species=9,n_recs=0.03,classifier='cls=std-sgdlog,alpha=10,class_weight=balanced',random_state=0)]: reuse.load[0.013s, 3.7 MB]: ret\n"
    },
    {
     "name": "stdout",
     "output_type": "stream",
     "text": "[01:06:08.822] INFO   _fit_and_score: n[10/143], model_id[split_i=0,train=28164,test=7042,classes=331,estimator=Search(n_species=9,n_recs=0.03,classifier='cls=std-sgdlog,alpha=100,class_weight=balanced',random_state=0)]: reuse.load[0.013s, 3.7 MB]: ret\n"
    },
    {
     "name": "stdout",
     "output_type": "stream",
     "text": "[01:06:09.216] INFO   _fit_and_score: n[11/143], model_id[split_i=0,train=28164,test=7042,classes=331,estimator=Search(n_species=9,n_recs=0.03,classifier='cls=std-sgdlog,alpha=1000,class_weight=balanced',random_state=0)]: reuse.load[0.012s, 3.7 MB]: ret\n"
    },
    {
     "name": "stdout",
     "output_type": "stream",
     "text": "[01:06:09.614] INFO   _fit_and_score: n[12/143], model_id[split_i=0,train=28164,test=7042,classes=331,estimator=Search(n_species=9,n_recs=0.25,classifier='cls=std-sgdlog,alpha=.0000001,class_weight=balanced',random_state=0)]: reuse.load[0.013s, 3.7 MB]: ret\n"
    },
    {
     "name": "stdout",
     "output_type": "stream",
     "text": "[01:06:10.010] INFO   _fit_and_score: n[13/143], model_id[split_i=0,train=28164,test=7042,classes=331,estimator=Search(n_species=9,n_recs=0.25,classifier='cls=std-sgdlog,alpha=.000001,class_weight=balanced',random_state=0)]: reuse.load[0.013s, 3.7 MB]: ret\n"
    },
    {
     "name": "stdout",
     "output_type": "stream",
     "text": "[01:06:10.405] INFO   _fit_and_score: n[14/143], model_id[split_i=0,train=28164,test=7042,classes=331,estimator=Search(n_species=9,n_recs=0.25,classifier='cls=std-sgdlog,alpha=.00001,class_weight=balanced',random_state=0)]: reuse.load[0.013s, 3.7 MB]: ret\n"
    },
    {
     "name": "stdout",
     "output_type": "stream",
     "text": "[01:06:10.801] INFO   _fit_and_score: n[15/143], model_id[split_i=0,train=28164,test=7042,classes=331,estimator=Search(n_species=9,n_recs=0.25,classifier='cls=std-sgdlog,alpha=0.0001,class_weight=balanced',random_state=0)]: reuse.load[0.013s, 3.7 MB]: ret\n"
    },
    {
     "name": "stdout",
     "output_type": "stream",
     "text": "[01:06:11.197] INFO   _fit_and_score: n[16/143], model_id[split_i=0,train=28164,test=7042,classes=331,estimator=Search(n_species=9,n_recs=0.25,classifier='cls=std-sgdlog,alpha=0.001,class_weight=balanced',random_state=0)]: reuse.load[0.013s, 3.7 MB]: ret\n"
    },
    {
     "name": "stdout",
     "output_type": "stream",
     "text": "[01:06:11.592] INFO   _fit_and_score: n[17/143], model_id[split_i=0,train=28164,test=7042,classes=331,estimator=Search(n_species=9,n_recs=0.25,classifier='cls=std-sgdlog,alpha=0.01,class_weight=balanced',random_state=0)]: reuse.load[0.013s, 3.7 MB]: ret\n"
    },
    {
     "name": "stdout",
     "output_type": "stream",
     "text": "[01:06:11.989] INFO   _fit_and_score: n[18/143], model_id[split_i=0,train=28164,test=7042,classes=331,estimator=Search(n_species=9,n_recs=0.25,classifier='cls=std-sgdlog,alpha=0.1,class_weight=balanced',random_state=0)]: reuse.load[0.014s, 3.7 MB]: ret\n"
    },
    {
     "name": "stdout",
     "output_type": "stream",
     "text": "[01:06:12.384] INFO   _fit_and_score: n[19/143], model_id[split_i=0,train=28164,test=7042,classes=331,estimator=Search(n_species=9,n_recs=0.25,classifier='cls=std-sgdlog,alpha=1,class_weight=balanced',random_state=0)]: reuse.load[0.013s, 3.7 MB]: ret\n"
    },
    {
     "name": "stdout",
     "output_type": "stream",
     "text": "[01:06:12.781] INFO   _fit_and_score: n[20/143], model_id[split_i=0,train=28164,test=7042,classes=331,estimator=Search(n_species=9,n_recs=0.25,classifier='cls=std-sgdlog,alpha=10,class_weight=balanced',random_state=0)]: reuse.load[0.014s, 3.7 MB]: ret\n"
    },
    {
     "name": "stdout",
     "output_type": "stream",
     "text": "[01:06:13.180] INFO   _fit_and_score: n[21/143], model_id[split_i=0,train=28164,test=7042,classes=331,estimator=Search(n_species=9,n_recs=0.25,classifier='cls=std-sgdlog,alpha=100,class_weight=balanced',random_state=0)]: reuse.load[0.014s, 3.7 MB]: ret\n"
    },
    {
     "name": "stdout",
     "output_type": "stream",
     "text": "[01:06:13.574] INFO   _fit_and_score: n[22/143], model_id[split_i=0,train=28164,test=7042,classes=331,estimator=Search(n_species=9,n_recs=0.25,classifier='cls=std-sgdlog,alpha=1000,class_weight=balanced',random_state=0)]: reuse.load[0.013s, 3.7 MB]: ret\n"
    },
    {
     "name": "stdout",
     "output_type": "stream",
     "text": "[01:06:13.971] INFO   _fit_and_score: n[23/143], model_id[split_i=0,train=28164,test=7042,classes=331,estimator=Search(n_species=9,n_recs=0.5,classifier='cls=std-sgdlog,alpha=.0000001,class_weight=balanced',random_state=0)]: reuse.load[0.013s, 3.7 MB]: ret\n"
    },
    {
     "name": "stdout",
     "output_type": "stream",
     "text": "[01:06:14.368] INFO   _fit_and_score: n[24/143], model_id[split_i=0,train=28164,test=7042,classes=331,estimator=Search(n_species=9,n_recs=0.5,classifier='cls=std-sgdlog,alpha=.000001,class_weight=balanced',random_state=0)]: reuse.load[0.013s, 3.7 MB]: ret\n"
    },
    {
     "name": "stdout",
     "output_type": "stream",
     "text": "[01:06:14.764] INFO   _fit_and_score: n[25/143], model_id[split_i=0,train=28164,test=7042,classes=331,estimator=Search(n_species=9,n_recs=0.5,classifier='cls=std-sgdlog,alpha=.00001,class_weight=balanced',random_state=0)]: reuse.load[0.013s, 3.7 MB]: ret\n"
    },
    {
     "name": "stdout",
     "output_type": "stream",
     "text": "[01:06:15.159] INFO   _fit_and_score: n[26/143], model_id[split_i=0,train=28164,test=7042,classes=331,estimator=Search(n_species=9,n_recs=0.5,classifier='cls=std-sgdlog,alpha=0.0001,class_weight=balanced',random_state=0)]: reuse.load[0.013s, 3.7 MB]: ret\n"
    },
    {
     "name": "stdout",
     "output_type": "stream",
     "text": "[01:06:15.556] INFO   _fit_and_score: n[27/143], model_id[split_i=0,train=28164,test=7042,classes=331,estimator=Search(n_species=9,n_recs=0.5,classifier='cls=std-sgdlog,alpha=0.001,class_weight=balanced',random_state=0)]: reuse.load[0.014s, 3.7 MB]: ret\n"
    },
    {
     "name": "stdout",
     "output_type": "stream",
     "text": "[01:06:15.951] INFO   _fit_and_score: n[28/143], model_id[split_i=0,train=28164,test=7042,classes=331,estimator=Search(n_species=9,n_recs=0.5,classifier='cls=std-sgdlog,alpha=0.01,class_weight=balanced',random_state=0)]: reuse.load[0.013s, 3.7 MB]: ret\n"
    },
    {
     "name": "stdout",
     "output_type": "stream",
     "text": "[01:06:16.348] INFO   _fit_and_score: n[29/143], model_id[split_i=0,train=28164,test=7042,classes=331,estimator=Search(n_species=9,n_recs=0.5,classifier='cls=std-sgdlog,alpha=0.1,class_weight=balanced',random_state=0)]: reuse.load[0.014s, 3.7 MB]: ret\n"
    },
    {
     "name": "stdout",
     "output_type": "stream",
     "text": "[01:06:16.743] INFO   _fit_and_score: n[30/143], model_id[split_i=0,train=28164,test=7042,classes=331,estimator=Search(n_species=9,n_recs=0.5,classifier='cls=std-sgdlog,alpha=1,class_weight=balanced',random_state=0)]: reuse.load[0.013s, 3.7 MB]: ret\n"
    },
    {
     "name": "stdout",
     "output_type": "stream",
     "text": "[01:06:17.139] INFO   _fit_and_score: n[31/143], model_id[split_i=0,train=28164,test=7042,classes=331,estimator=Search(n_species=9,n_recs=0.5,classifier='cls=std-sgdlog,alpha=10,class_weight=balanced',random_state=0)]: reuse.load[0.013s, 3.7 MB]: ret\n"
    },
    {
     "name": "stdout",
     "output_type": "stream",
     "text": "[01:06:17.536] INFO   _fit_and_score: n[32/143], model_id[split_i=0,train=28164,test=7042,classes=331,estimator=Search(n_species=9,n_recs=0.5,classifier='cls=std-sgdlog,alpha=100,class_weight=balanced',random_state=0)]: reuse.load[0.013s, 3.7 MB]: ret\n"
    },
    {
     "name": "stdout",
     "output_type": "stream",
     "text": "[01:06:17.932] INFO   _fit_and_score: n[33/143], model_id[split_i=0,train=28164,test=7042,classes=331,estimator=Search(n_species=9,n_recs=0.5,classifier='cls=std-sgdlog,alpha=1000,class_weight=balanced',random_state=0)]: reuse.load[0.013s, 3.7 MB]: ret\n"
    },
    {
     "name": "stdout",
     "output_type": "stream",
     "text": "[01:06:18.327] INFO   _fit_and_score: n[34/143], model_id[split_i=0,train=28164,test=7042,classes=331,estimator=Search(n_species=9,n_recs=1.0,classifier='cls=std-sgdlog,alpha=.0000001,class_weight=balanced',random_state=0)]: reuse.load[0.013s, 3.7 MB]: ret\n"
    },
    {
     "name": "stdout",
     "output_type": "stream",
     "text": "[01:06:18.724] INFO   _fit_and_score: n[35/143], model_id[split_i=0,train=28164,test=7042,classes=331,estimator=Search(n_species=9,n_recs=1.0,classifier='cls=std-sgdlog,alpha=.000001,class_weight=balanced',random_state=0)]: reuse.load[0.013s, 3.7 MB]: ret\n"
    },
    {
     "name": "stdout",
     "output_type": "stream",
     "text": "[01:06:19.120] INFO   _fit_and_score: n[36/143], model_id[split_i=0,train=28164,test=7042,classes=331,estimator=Search(n_species=9,n_recs=1.0,classifier='cls=std-sgdlog,alpha=.00001,class_weight=balanced',random_state=0)]: reuse.load[0.013s, 3.7 MB]: ret\n"
    },
    {
     "name": "stdout",
     "output_type": "stream",
     "text": "[01:06:19.516] INFO   _fit_and_score: n[37/143], model_id[split_i=0,train=28164,test=7042,classes=331,estimator=Search(n_species=9,n_recs=1.0,classifier='cls=std-sgdlog,alpha=0.0001,class_weight=balanced',random_state=0)]: reuse.load[0.013s, 3.7 MB]: ret\n"
    },
    {
     "name": "stdout",
     "output_type": "stream",
     "text": "[01:06:19.912] INFO   _fit_and_score: n[38/143], model_id[split_i=0,train=28164,test=7042,classes=331,estimator=Search(n_species=9,n_recs=1.0,classifier='cls=std-sgdlog,alpha=0.001,class_weight=balanced',random_state=0)]: reuse.load[0.013s, 3.7 MB]: ret\n"
    },
    {
     "name": "stdout",
     "output_type": "stream",
     "text": "[01:06:20.307] INFO   _fit_and_score: n[39/143], model_id[split_i=0,train=28164,test=7042,classes=331,estimator=Search(n_species=9,n_recs=1.0,classifier='cls=std-sgdlog,alpha=0.01,class_weight=balanced',random_state=0)]: reuse.load[0.013s, 3.7 MB]: ret\n"
    },
    {
     "name": "stdout",
     "output_type": "stream",
     "text": "[01:06:20.701] INFO   _fit_and_score: n[40/143], model_id[split_i=0,train=28164,test=7042,classes=331,estimator=Search(n_species=9,n_recs=1.0,classifier='cls=std-sgdlog,alpha=0.1,class_weight=balanced',random_state=0)]: reuse.load[0.012s, 3.7 MB]: ret\n"
    },
    {
     "name": "stdout",
     "output_type": "stream",
     "text": "[01:06:21.099] INFO   _fit_and_score: n[41/143], model_id[split_i=0,train=28164,test=7042,classes=331,estimator=Search(n_species=9,n_recs=1.0,classifier='cls=std-sgdlog,alpha=1,class_weight=balanced',random_state=0)]: reuse.load[0.013s, 3.7 MB]: ret\n"
    },
    {
     "name": "stdout",
     "output_type": "stream",
     "text": "[01:06:21.495] INFO   _fit_and_score: n[42/143], model_id[split_i=0,train=28164,test=7042,classes=331,estimator=Search(n_species=9,n_recs=1.0,classifier='cls=std-sgdlog,alpha=10,class_weight=balanced',random_state=0)]: reuse.load[0.013s, 3.7 MB]: ret\n"
    },
    {
     "name": "stdout",
     "output_type": "stream",
     "text": "[01:06:21.892] INFO   _fit_and_score: n[43/143], model_id[split_i=0,train=28164,test=7042,classes=331,estimator=Search(n_species=9,n_recs=1.0,classifier='cls=std-sgdlog,alpha=100,class_weight=balanced',random_state=0)]: reuse.load[0.013s, 3.7 MB]: ret\n"
    },
    {
     "name": "stdout",
     "output_type": "stream",
     "text": "[01:06:22.287] INFO   _fit_and_score: n[44/143], model_id[split_i=0,train=28164,test=7042,classes=331,estimator=Search(n_species=9,n_recs=1.0,classifier='cls=std-sgdlog,alpha=1000,class_weight=balanced',random_state=0)]: reuse.load[0.013s, 3.7 MB]: ret\n"
    },
    {
     "name": "stdout",
     "output_type": "stream",
     "text": "[01:06:22.670] INFO   _fit_and_score: n[45/143], model_id[split_i=0,train=28164,test=7042,classes=331,estimator=Search(n_species=82,n_recs=0.25,classifier='cls=std-sgdlog,alpha=.0000001,class_weight=balanced',random_state=0)]: fit...\n"
    },
    {
     "name": "stdout",
     "output_type": "stream",
     "text": "[01:06:23.066] INFO   _fit_and_score: n[46/143], model_id[split_i=0,train=28164,test=7042,classes=331,estimator=Search(n_species=82,n_recs=0.25,classifier='cls=std-sgdlog,alpha=.000001,class_weight=balanced',random_state=0)]: fit...\n"
    },
    {
     "name": "stdout",
     "output_type": "stream",
     "text": "[01:06:23.461] INFO   _fit_and_score: n[47/143], model_id[split_i=0,train=28164,test=7042,classes=331,estimator=Search(n_species=82,n_recs=0.25,classifier='cls=std-sgdlog,alpha=.00001,class_weight=balanced',random_state=0)]: fit...\n"
    },
    {
     "name": "stdout",
     "output_type": "stream",
     "text": "[01:06:23.858] INFO   _fit_and_score: n[48/143], model_id[split_i=0,train=28164,test=7042,classes=331,estimator=Search(n_species=82,n_recs=0.25,classifier='cls=std-sgdlog,alpha=0.0001,class_weight=balanced',random_state=0)]: fit...\n"
    },
    {
     "name": "stdout",
     "output_type": "stream",
     "text": "[01:06:24.254] INFO   _fit_and_score: n[49/143], model_id[split_i=0,train=28164,test=7042,classes=331,estimator=Search(n_species=82,n_recs=0.25,classifier='cls=std-sgdlog,alpha=0.001,class_weight=balanced',random_state=0)]: fit...\n"
    },
    {
     "name": "stdout",
     "output_type": "stream",
     "text": "[01:06:24.651] INFO   _fit_and_score: n[50/143], model_id[split_i=0,train=28164,test=7042,classes=331,estimator=Search(n_species=82,n_recs=0.25,classifier='cls=std-sgdlog,alpha=0.01,class_weight=balanced',random_state=0)]: fit...\n"
    },
    {
     "name": "stdout",
     "output_type": "stream",
     "text": "[01:06:25.048] INFO   _fit_and_score: n[51/143], model_id[split_i=0,train=28164,test=7042,classes=331,estimator=Search(n_species=82,n_recs=0.25,classifier='cls=std-sgdlog,alpha=0.1,class_weight=balanced',random_state=0)]: fit...\n"
    },
    {
     "name": "stdout",
     "output_type": "stream",
     "text": "[01:06:25.444] INFO   _fit_and_score: n[52/143], model_id[split_i=0,train=28164,test=7042,classes=331,estimator=Search(n_species=82,n_recs=0.25,classifier='cls=std-sgdlog,alpha=1,class_weight=balanced',random_state=0)]: fit...\n"
    },
    {
     "name": "stdout",
     "output_type": "stream",
     "text": "[01:06:25.841] INFO   _fit_and_score: n[53/143], model_id[split_i=0,train=28164,test=7042,classes=331,estimator=Search(n_species=82,n_recs=0.25,classifier='cls=std-sgdlog,alpha=10,class_weight=balanced',random_state=0)]: fit...\n"
    },
    {
     "name": "stderr",
     "output_type": "stream",
     "text": "/opt/conda/lib/python3.6/site-packages/sklearn/linear_model/base.py:340: RuntimeWarning: overflow encountered in exp\n  np.exp(prob, prob)\n"
    },
    {
     "name": "stderr",
     "output_type": "stream",
     "text": "/opt/conda/lib/python3.6/site-packages/sklearn/linear_model/base.py:347: RuntimeWarning: invalid value encountered in true_divide\n  prob /= prob.sum(axis=1).reshape((prob.shape[0], -1))\n"
    },
    {
     "name": "stdout",
     "output_type": "stream",
     "text": "[01:06:26.237] INFO   _fit_and_score: n[54/143], model_id[split_i=0,train=28164,test=7042,classes=331,estimator=Search(n_species=82,n_recs=0.25,classifier='cls=std-sgdlog,alpha=100,class_weight=balanced',random_state=0)]: fit...\n"
    },
    {
     "name": "stderr",
     "output_type": "stream",
     "text": "/opt/conda/lib/python3.6/site-packages/sklearn/linear_model/base.py:340: RuntimeWarning: overflow encountered in exp\n  np.exp(prob, prob)\n"
    },
    {
     "name": "stderr",
     "output_type": "stream",
     "text": "/opt/conda/lib/python3.6/site-packages/sklearn/linear_model/base.py:347: RuntimeWarning: invalid value encountered in true_divide\n  prob /= prob.sum(axis=1).reshape((prob.shape[0], -1))\n"
    },
    {
     "name": "stdout",
     "output_type": "stream",
     "text": "[01:06:26.636] INFO   _fit_and_score: n[55/143], model_id[split_i=0,train=28164,test=7042,classes=331,estimator=Search(n_species=82,n_recs=0.25,classifier='cls=std-sgdlog,alpha=1000,class_weight=balanced',random_state=0)]: fit...\n"
    },
    {
     "name": "stderr",
     "output_type": "stream",
     "text": "/opt/conda/lib/python3.6/site-packages/sklearn/linear_model/base.py:340: RuntimeWarning: overflow encountered in exp\n  np.exp(prob, prob)\n"
    },
    {
     "name": "stderr",
     "output_type": "stream",
     "text": "/opt/conda/lib/python3.6/site-packages/sklearn/linear_model/base.py:347: RuntimeWarning: invalid value encountered in true_divide\n  prob /= prob.sum(axis=1).reshape((prob.shape[0], -1))\n"
    },
    {
     "name": "stdout",
     "output_type": "stream",
     "text": "[01:06:27.037] INFO   _fit_and_score: n[56/143], model_id[split_i=0,train=28164,test=7042,classes=331,estimator=Search(n_species=82,n_recs=0.5,classifier='cls=std-sgdlog,alpha=.0000001,class_weight=balanced',random_state=0)]: fit...\n"
    },
    {
     "name": "stderr",
     "output_type": "stream",
     "text": "/opt/conda/lib/python3.6/site-packages/sklearn/linear_model/base.py:340: RuntimeWarning: overflow encountered in exp\n  np.exp(prob, prob)\n"
    },
    {
     "name": "stderr",
     "output_type": "stream",
     "text": "/opt/conda/lib/python3.6/site-packages/sklearn/linear_model/base.py:347: RuntimeWarning: invalid value encountered in true_divide\n  prob /= prob.sum(axis=1).reshape((prob.shape[0], -1))\n"
    },
    {
     "name": "stdout",
     "output_type": "stream",
     "text": "[01:06:27.433] INFO   _fit_and_score: n[57/143], model_id[split_i=0,train=28164,test=7042,classes=331,estimator=Search(n_species=82,n_recs=0.5,classifier='cls=std-sgdlog,alpha=.000001,class_weight=balanced',random_state=0)]: fit...\n"
    },
    {
     "name": "stdout",
     "output_type": "stream",
     "text": "[01:06:27.539] INFO   _fit_and_score: n[45/143], model_id[split_i=0,train=28164,test=7042,classes=331,estimator=Search(n_species=82,n_recs=0.25,classifier='cls=std-sgdlog,alpha=.0000001,class_weight=balanced',random_state=0)]: fit[4.568s]\n"
    },
    {
     "name": "stdout",
     "output_type": "stream",
     "text": "[01:06:27.630] INFO   _fit_and_score: n[46/143], model_id[split_i=0,train=28164,test=7042,classes=331,estimator=Search(n_species=82,n_recs=0.25,classifier='cls=std-sgdlog,alpha=.000001,class_weight=balanced',random_state=0)]: fit[4.279s]\n"
    },
    {
     "name": "stdout",
     "output_type": "stream",
     "text": "[01:06:27.833] INFO   _fit_and_score: n[58/143], model_id[split_i=0,train=28164,test=7042,classes=331,estimator=Search(n_species=82,n_recs=0.5,classifier='cls=std-sgdlog,alpha=.00001,class_weight=balanced',random_state=0)]: fit...\n"
    },
    {
     "name": "stderr",
     "output_type": "stream",
     "text": "/opt/conda/lib/python3.6/site-packages/sklearn/linear_model/base.py:340: RuntimeWarning: overflow encountered in exp\n  np.exp(prob, prob)\n"
    },
    {
     "name": "stdout",
     "output_type": "stream",
     "text": "[01:06:28.099] INFO   _fit_and_score: n[47/143], model_id[split_i=0,train=28164,test=7042,classes=331,estimator=Search(n_species=82,n_recs=0.25,classifier='cls=std-sgdlog,alpha=.00001,class_weight=balanced',random_state=0)]: fit[4.343s]\n"
    },
    {
     "name": "stderr",
     "output_type": "stream",
     "text": "/opt/conda/lib/python3.6/site-packages/sklearn/linear_model/base.py:340: RuntimeWarning: overflow encountered in exp\n  np.exp(prob, prob)\n"
    },
    {
     "name": "stdout",
     "output_type": "stream",
     "text": "[01:06:28.241] INFO   _fit_and_score: n[59/143], model_id[split_i=0,train=28164,test=7042,classes=331,estimator=Search(n_species=82,n_recs=0.5,classifier='cls=std-sgdlog,alpha=0.0001,class_weight=balanced',random_state=0)]: fit...\n"
    },
    {
     "name": "stdout",
     "output_type": "stream",
     "text": "[01:06:28.600] INFO   _fit_and_score: n[45/143], model_id[split_i=0,train=28164,test=7042,classes=331,estimator=Search(n_species=82,n_recs=0.25,classifier='cls=std-sgdlog,alpha=.0000001,class_weight=balanced',random_state=0)]: extra_metrics... ['classes', 'train_i', 'train_y', 'train_predict_proba', 'test_i', 'test_y', 'test_predict_proba', 'model_size', 'model_stats', 'proc_stats']\n"
    },
    {
     "name": "stdout",
     "output_type": "stream",
     "text": "[01:06:28.640] INFO   _fit_and_score: n[48/143], model_id[split_i=0,train=28164,test=7042,classes=331,estimator=Search(n_species=82,n_recs=0.25,classifier='cls=std-sgdlog,alpha=0.0001,class_weight=balanced',random_state=0)]: fit[4.509s]\n"
    },
    {
     "name": "stdout",
     "output_type": "stream",
     "text": "[01:06:28.644] INFO   _fit_and_score: n[60/143], model_id[split_i=0,train=28164,test=7042,classes=331,estimator=Search(n_species=82,n_recs=0.5,classifier='cls=std-sgdlog,alpha=0.001,class_weight=balanced',random_state=0)]: fit...\n"
    },
    {
     "name": "stdout",
     "output_type": "stream",
     "text": "[01:06:28.765] INFO   _fit_and_score: n[46/143], model_id[split_i=0,train=28164,test=7042,classes=331,estimator=Search(n_species=82,n_recs=0.25,classifier='cls=std-sgdlog,alpha=.000001,class_weight=balanced',random_state=0)]: extra_metrics... ['classes', 'train_i', 'train_y', 'train_predict_proba', 'test_i', 'test_y', 'test_predict_proba', 'model_size', 'model_stats', 'proc_stats']\n"
    },
    {
     "name": "stdout",
     "output_type": "stream",
     "text": "[01:06:29.042] INFO   _fit_and_score: n[61/143], model_id[split_i=0,train=28164,test=7042,classes=331,estimator=Search(n_species=82,n_recs=0.5,classifier='cls=std-sgdlog,alpha=0.01,class_weight=balanced',random_state=0)]: fit...\n"
    },
    {
     "name": "stdout",
     "output_type": "stream",
     "text": "[01:06:29.316] INFO   _fit_and_score: n[47/143], model_id[split_i=0,train=28164,test=7042,classes=331,estimator=Search(n_species=82,n_recs=0.25,classifier='cls=std-sgdlog,alpha=.00001,class_weight=balanced',random_state=0)]: extra_metrics... ['classes', 'train_i', 'train_y', 'train_predict_proba', 'test_i', 'test_y', 'test_predict_proba', 'model_size', 'model_stats', 'proc_stats']\n"
    },
    {
     "name": "stdout",
     "output_type": "stream",
     "text": "[01:06:29.439] INFO   _fit_and_score: n[62/143], model_id[split_i=0,train=28164,test=7042,classes=331,estimator=Search(n_species=82,n_recs=0.5,classifier='cls=std-sgdlog,alpha=0.1,class_weight=balanced',random_state=0)]: fit...\n"
    },
    {
     "name": "stdout",
     "output_type": "stream",
     "text": "[01:06:29.447] INFO   _fit_and_score: n[49/143], model_id[split_i=0,train=28164,test=7042,classes=331,estimator=Search(n_species=82,n_recs=0.25,classifier='cls=std-sgdlog,alpha=0.001,class_weight=balanced',random_state=0)]: fit[4.873s]\n"
    },
    {
     "name": "stdout",
     "output_type": "stream",
     "text": "[01:06:29.713] INFO   _fit_and_score: n[48/143], model_id[split_i=0,train=28164,test=7042,classes=331,estimator=Search(n_species=82,n_recs=0.25,classifier='cls=std-sgdlog,alpha=0.0001,class_weight=balanced',random_state=0)]: extra_metrics... ['classes', 'train_i', 'train_y', 'train_predict_proba', 'test_i', 'test_y', 'test_predict_proba', 'model_size', 'model_stats', 'proc_stats']\n"
    },
    {
     "name": "stdout",
     "output_type": "stream",
     "text": "[01:06:29.768] INFO   _fit_and_score: n[50/143], model_id[split_i=0,train=28164,test=7042,classes=331,estimator=Search(n_species=82,n_recs=0.25,classifier='cls=std-sgdlog,alpha=0.01,class_weight=balanced',random_state=0)]: fit[4.829s]\n"
    },
    {
     "name": "stdout",
     "output_type": "stream",
     "text": "[01:06:29.849] INFO   _fit_and_score: n[63/143], model_id[split_i=0,train=28164,test=7042,classes=331,estimator=Search(n_species=82,n_recs=0.5,classifier='cls=std-sgdlog,alpha=1,class_weight=balanced',random_state=0)]: fit...\n"
    },
    {
     "name": "stdout",
     "output_type": "stream",
     "text": "[01:06:29.859] INFO   _fit_and_score: n[51/143], model_id[split_i=0,train=28164,test=7042,classes=331,estimator=Search(n_species=82,n_recs=0.25,classifier='cls=std-sgdlog,alpha=0.1,class_weight=balanced',random_state=0)]: fit[4.513s]\n"
    },
    {
     "name": "stdout",
     "output_type": "stream",
     "text": "[01:06:30.257] INFO   _fit_and_score: n[64/143], model_id[split_i=0,train=28164,test=7042,classes=331,estimator=Search(n_species=82,n_recs=0.5,classifier='cls=std-sgdlog,alpha=10,class_weight=balanced',random_state=0)]: fit...\n"
    },
    {
     "name": "stdout",
     "output_type": "stream",
     "text": "[01:06:30.330] INFO   _fit_and_score: n[46/143], model_id[split_i=0,train=28164,test=7042,classes=331,estimator=Search(n_species=82,n_recs=0.25,classifier='cls=std-sgdlog,alpha=.000001,class_weight=balanced',random_state=0)]: extra_metrics[1.534s, 24.2 MB]: ['classes', 'train_i', 'train_y', 'train_predict_proba', 'test_i', 'test_y', 'test_predict_proba', 'model_size', 'model_stats', 'proc_stats']\n"
    },
    {
     "name": "stdout",
     "output_type": "stream",
     "text": "[01:06:30.332] INFO   _fit_and_score: n[46/143], model_id[split_i=0,train=28164,test=7042,classes=331,estimator=Search(n_species=82,n_recs=0.25,classifier='cls=std-sgdlog,alpha=.000001,class_weight=balanced',random_state=0)]: save: ret...\n"
    },
    {
     "name": "stdout",
     "output_type": "stream",
     "text": "[01:06:30.397] INFO   _fit_and_score: n[45/143], model_id[split_i=0,train=28164,test=7042,classes=331,estimator=Search(n_species=82,n_recs=0.25,classifier='cls=std-sgdlog,alpha=.0000001,class_weight=balanced',random_state=0)]: extra_metrics[1.763s, 24.2 MB]: ['classes', 'train_i', 'train_y', 'train_predict_proba', 'test_i', 'test_y', 'test_predict_proba', 'model_size', 'model_stats', 'proc_stats']\n"
    },
    {
     "name": "stdout",
     "output_type": "stream",
     "text": "[01:06:30.399] INFO   _fit_and_score: n[45/143], model_id[split_i=0,train=28164,test=7042,classes=331,estimator=Search(n_species=82,n_recs=0.25,classifier='cls=std-sgdlog,alpha=.0000001,class_weight=balanced',random_state=0)]: save: ret...\n"
    },
    {
     "name": "stdout",
     "output_type": "stream",
     "text": "[01:06:30.481] INFO   _fit_and_score: n[52/143], model_id[split_i=0,train=28164,test=7042,classes=331,estimator=Search(n_species=82,n_recs=0.25,classifier='cls=std-sgdlog,alpha=1,class_weight=balanced',random_state=0)]: fit[4.750s]\n"
    },
    {
     "name": "stdout",
     "output_type": "stream",
     "text": "[01:06:30.636] INFO   _fit_and_score: n[46/143], model_id[split_i=0,train=28164,test=7042,classes=331,estimator=Search(n_species=82,n_recs=0.25,classifier='cls=std-sgdlog,alpha=.000001,class_weight=balanced',random_state=0)]: save[0.303s, 24.2 MB]: ret\n"
    },
    {
     "name": "stdout",
     "output_type": "stream",
     "text": "[01:06:30.639] INFO   _fit_and_score: n[46/143], model_id[split_i=0,train=28164,test=7042,classes=331,estimator=Search(n_species=82,n_recs=0.25,classifier='cls=std-sgdlog,alpha=.000001,class_weight=balanced',random_state=0)]: save: estimator...\n"
    },
    {
     "name": "stdout",
     "output_type": "stream",
     "text": "[01:06:30.673] INFO   _fit_and_score: n[65/143], model_id[split_i=0,train=28164,test=7042,classes=331,estimator=Search(n_species=82,n_recs=0.5,classifier='cls=std-sgdlog,alpha=100,class_weight=balanced',random_state=0)]: fit...\n"
    },
    {
     "name": "stdout",
     "output_type": "stream",
     "text": "[01:06:30.712] INFO   _fit_and_score: n[49/143], model_id[split_i=0,train=28164,test=7042,classes=331,estimator=Search(n_species=82,n_recs=0.25,classifier='cls=std-sgdlog,alpha=0.001,class_weight=balanced',random_state=0)]: extra_metrics... ['classes', 'train_i', 'train_y', 'train_predict_proba', 'test_i', 'test_y', 'test_predict_proba', 'model_size', 'model_stats', 'proc_stats']\n"
    },
    {
     "name": "stdout",
     "output_type": "stream",
     "text": "[01:06:30.727] INFO   _fit_and_score: n[45/143], model_id[split_i=0,train=28164,test=7042,classes=331,estimator=Search(n_species=82,n_recs=0.25,classifier='cls=std-sgdlog,alpha=.0000001,class_weight=balanced',random_state=0)]: save[0.326s, 24.2 MB]: ret\n"
    },
    {
     "name": "stdout",
     "output_type": "stream",
     "text": "[01:06:30.729] INFO   _fit_and_score: n[45/143], model_id[split_i=0,train=28164,test=7042,classes=331,estimator=Search(n_species=82,n_recs=0.25,classifier='cls=std-sgdlog,alpha=.0000001,class_weight=balanced',random_state=0)]: save: estimator...\n"
    },
    {
     "name": "stdout",
     "output_type": "stream",
     "text": "[01:06:30.774] INFO   _fit_and_score: n[50/143], model_id[split_i=0,train=28164,test=7042,classes=331,estimator=Search(n_species=82,n_recs=0.25,classifier='cls=std-sgdlog,alpha=0.01,class_weight=balanced',random_state=0)]: extra_metrics... ['classes', 'train_i', 'train_y', 'train_predict_proba', 'test_i', 'test_y', 'test_predict_proba', 'model_size', 'model_stats', 'proc_stats']\n"
    },
    {
     "name": "stdout",
     "output_type": "stream",
     "text": "[01:06:30.876] INFO   _fit_and_score: n[46/143], model_id[split_i=0,train=28164,test=7042,classes=331,estimator=Search(n_species=82,n_recs=0.25,classifier='cls=std-sgdlog,alpha=.000001,class_weight=balanced',random_state=0)]: save[0.235s, 11.7 MB]: estimator\n"
    },
    {
     "name": "stderr",
     "output_type": "stream",
     "text": "/opt/conda/lib/python3.6/site-packages/sklearn/linear_model/base.py:340: RuntimeWarning: overflow encountered in exp\n  np.exp(prob, prob)\n"
    },
    {
     "name": "stderr",
     "output_type": "stream",
     "text": "/opt/conda/lib/python3.6/site-packages/sklearn/linear_model/base.py:347: RuntimeWarning: invalid value encountered in true_divide\n  prob /= prob.sum(axis=1).reshape((prob.shape[0], -1))\n"
    },
    {
     "name": "stdout",
     "output_type": "stream",
     "text": "[01:06:30.934] INFO   _fit_and_score: n[53/143], model_id[split_i=0,train=28164,test=7042,classes=331,estimator=Search(n_species=82,n_recs=0.25,classifier='cls=std-sgdlog,alpha=10,class_weight=balanced',random_state=0)]: fit[4.779s]\n"
    },
    {
     "name": "stdout",
     "output_type": "stream",
     "text": "[01:06:30.937] INFO   _fit_and_score: n[51/143], model_id[split_i=0,train=28164,test=7042,classes=331,estimator=Search(n_species=82,n_recs=0.25,classifier='cls=std-sgdlog,alpha=0.1,class_weight=balanced',random_state=0)]: extra_metrics... ['classes', 'train_i', 'train_y', 'train_predict_proba', 'test_i', 'test_y', 'test_predict_proba', 'model_size', 'model_stats', 'proc_stats']\n"
    },
    {
     "name": "stdout",
     "output_type": "stream",
     "text": "[01:06:30.952] INFO   _fit_and_score: n[45/143], model_id[split_i=0,train=28164,test=7042,classes=331,estimator=Search(n_species=82,n_recs=0.25,classifier='cls=std-sgdlog,alpha=.0000001,class_weight=balanced',random_state=0)]: save[0.221s, 11.7 MB]: estimator\n"
    },
    {
     "name": "stdout",
     "output_type": "stream",
     "text": "[01:06:31.064] INFO   _fit_and_score: n[66/143], model_id[split_i=0,train=28164,test=7042,classes=331,estimator=Search(n_species=82,n_recs=0.5,classifier='cls=std-sgdlog,alpha=1000,class_weight=balanced',random_state=0)]: fit...\n"
    },
    {
     "name": "stdout",
     "output_type": "stream",
     "text": "[01:06:31.123] INFO   _fit_and_score: n[47/143], model_id[split_i=0,train=28164,test=7042,classes=331,estimator=Search(n_species=82,n_recs=0.25,classifier='cls=std-sgdlog,alpha=.00001,class_weight=balanced',random_state=0)]: extra_metrics[1.762s, 24.2 MB]: ['classes', 'train_i', 'train_y', 'train_predict_proba', 'test_i', 'test_y', 'test_predict_proba', 'model_size', 'model_stats', 'proc_stats']\n"
    },
    {
     "name": "stdout",
     "output_type": "stream",
     "text": "[01:06:31.125] INFO   _fit_and_score: n[47/143], model_id[split_i=0,train=28164,test=7042,classes=331,estimator=Search(n_species=82,n_recs=0.25,classifier='cls=std-sgdlog,alpha=.00001,class_weight=balanced',random_state=0)]: save: ret...\n"
    },
    {
     "name": "stderr",
     "output_type": "stream",
     "text": "/opt/conda/lib/python3.6/site-packages/sklearn/linear_model/base.py:340: RuntimeWarning: overflow encountered in exp\n  np.exp(prob, prob)\n"
    },
    {
     "name": "stderr",
     "output_type": "stream",
     "text": "/opt/conda/lib/python3.6/site-packages/sklearn/linear_model/base.py:347: RuntimeWarning: invalid value encountered in true_divide\n  prob /= prob.sum(axis=1).reshape((prob.shape[0], -1))\n"
    },
    {
     "name": "stdout",
     "output_type": "stream",
     "text": "[01:06:31.389] INFO   _fit_and_score: n[54/143], model_id[split_i=0,train=28164,test=7042,classes=331,estimator=Search(n_species=82,n_recs=0.25,classifier='cls=std-sgdlog,alpha=100,class_weight=balanced',random_state=0)]: fit[4.848s]\n"
    },
    {
     "name": "stdout",
     "output_type": "stream",
     "text": "[01:06:31.490] INFO   _fit_and_score: n[67/143], model_id[split_i=0,train=28164,test=7042,classes=331,estimator=Search(n_species=82,n_recs=1.0,classifier='cls=std-sgdlog,alpha=.0000001,class_weight=balanced',random_state=0)]: fit...\n"
    },
    {
     "name": "stdout",
     "output_type": "stream",
     "text": "[01:06:31.505] INFO   _fit_and_score: n[47/143], model_id[split_i=0,train=28164,test=7042,classes=331,estimator=Search(n_species=82,n_recs=0.25,classifier='cls=std-sgdlog,alpha=.00001,class_weight=balanced',random_state=0)]: save[0.378s, 24.2 MB]: ret\n"
    },
    {
     "name": "stdout",
     "output_type": "stream",
     "text": "[01:06:31.542] INFO   _fit_and_score: n[47/143], model_id[split_i=0,train=28164,test=7042,classes=331,estimator=Search(n_species=82,n_recs=0.25,classifier='cls=std-sgdlog,alpha=.00001,class_weight=balanced',random_state=0)]: save: estimator...\n"
    },
    {
     "name": "stdout",
     "output_type": "stream",
     "text": "[01:06:31.563] INFO   _fit_and_score: n[52/143], model_id[split_i=0,train=28164,test=7042,classes=331,estimator=Search(n_species=82,n_recs=0.25,classifier='cls=std-sgdlog,alpha=1,class_weight=balanced',random_state=0)]: extra_metrics... ['classes', 'train_i', 'train_y', 'train_predict_proba', 'test_i', 'test_y', 'test_predict_proba', 'model_size', 'model_stats', 'proc_stats']\n"
    },
    {
     "name": "stderr",
     "output_type": "stream",
     "text": "/opt/conda/lib/python3.6/site-packages/sklearn/linear_model/base.py:340: RuntimeWarning: overflow encountered in exp\n  np.exp(prob, prob)\n"
    },
    {
     "name": "stderr",
     "output_type": "stream",
     "text": "/opt/conda/lib/python3.6/site-packages/sklearn/linear_model/base.py:347: RuntimeWarning: invalid value encountered in true_divide\n  prob /= prob.sum(axis=1).reshape((prob.shape[0], -1))\n"
    },
    {
     "name": "stdout",
     "output_type": "stream",
     "text": "[01:06:31.627] INFO   _fit_and_score: n[48/143], model_id[split_i=0,train=28164,test=7042,classes=331,estimator=Search(n_species=82,n_recs=0.25,classifier='cls=std-sgdlog,alpha=0.0001,class_weight=balanced',random_state=0)]: extra_metrics[1.868s, 24.2 MB]: ['classes', 'train_i', 'train_y', 'train_predict_proba', 'test_i', 'test_y', 'test_predict_proba', 'model_size', 'model_stats', 'proc_stats']\n"
    },
    {
     "name": "stdout",
     "output_type": "stream",
     "text": "[01:06:31.629] INFO   _fit_and_score: n[48/143], model_id[split_i=0,train=28164,test=7042,classes=331,estimator=Search(n_species=82,n_recs=0.25,classifier='cls=std-sgdlog,alpha=0.0001,class_weight=balanced',random_state=0)]: save: ret...\n"
    },
    {
     "name": "stdout",
     "output_type": "stream",
     "text": "[01:06:31.737] INFO   _fit_and_score: n[55/143], model_id[split_i=0,train=28164,test=7042,classes=331,estimator=Search(n_species=82,n_recs=0.25,classifier='cls=std-sgdlog,alpha=1000,class_weight=balanced',random_state=0)]: fit[4.800s]\n"
    },
    {
     "name": "stdout",
     "output_type": "stream",
     "text": "[01:06:31.839] INFO   _fit_and_score: n[47/143], model_id[split_i=0,train=28164,test=7042,classes=331,estimator=Search(n_species=82,n_recs=0.25,classifier='cls=std-sgdlog,alpha=.00001,class_weight=balanced',random_state=0)]: save[0.274s, 11.7 MB]: estimator\n"
    },
    {
     "name": "stdout",
     "output_type": "stream",
     "text": "[01:06:31.910] INFO   _fit_and_score: n[68/143], model_id[split_i=0,train=28164,test=7042,classes=331,estimator=Search(n_species=82,n_recs=1.0,classifier='cls=std-sgdlog,alpha=.000001,class_weight=balanced',random_state=0)]: fit...\n"
    },
    {
     "name": "stdout",
     "output_type": "stream",
     "text": "[01:06:31.918] INFO   _fit_and_score: n[48/143], model_id[split_i=0,train=28164,test=7042,classes=331,estimator=Search(n_species=82,n_recs=0.25,classifier='cls=std-sgdlog,alpha=0.0001,class_weight=balanced',random_state=0)]: save[0.287s, 24.2 MB]: ret\n"
    },
    {
     "name": "stdout",
     "output_type": "stream",
     "text": "[01:06:31.921] INFO   _fit_and_score: n[48/143], model_id[split_i=0,train=28164,test=7042,classes=331,estimator=Search(n_species=82,n_recs=0.25,classifier='cls=std-sgdlog,alpha=0.0001,class_weight=balanced',random_state=0)]: save: estimator...\n"
    },
    {
     "name": "stdout",
     "output_type": "stream",
     "text": "[01:06:32.180] INFO   _fit_and_score: n[48/143], model_id[split_i=0,train=28164,test=7042,classes=331,estimator=Search(n_species=82,n_recs=0.25,classifier='cls=std-sgdlog,alpha=0.0001,class_weight=balanced',random_state=0)]: save[0.258s, 11.7 MB]: estimator\n"
    },
    {
     "name": "stderr",
     "output_type": "stream",
     "text": "/opt/conda/lib/python3.6/site-packages/sklearn/linear_model/base.py:340: RuntimeWarning: overflow encountered in exp\n  np.exp(prob, prob)\n"
    },
    {
     "name": "stderr",
     "output_type": "stream",
     "text": "/opt/conda/lib/python3.6/site-packages/sklearn/linear_model/base.py:347: RuntimeWarning: invalid value encountered in true_divide\n  prob /= prob.sum(axis=1).reshape((prob.shape[0], -1))\n"
    },
    {
     "name": "stdout",
     "output_type": "stream",
     "text": "[01:06:32.285] INFO   _fit_and_score: n[54/143], model_id[split_i=0,train=28164,test=7042,classes=331,estimator=Search(n_species=82,n_recs=0.25,classifier='cls=std-sgdlog,alpha=100,class_weight=balanced',random_state=0)]: extra_metrics... ['classes', 'train_i', 'train_y', 'train_predict_proba', 'test_i', 'test_y', 'test_predict_proba', 'model_size', 'model_stats', 'proc_stats']\n"
    },
    {
     "name": "stdout",
     "output_type": "stream",
     "text": "[01:06:32.327] INFO   _fit_and_score: n[69/143], model_id[split_i=0,train=28164,test=7042,classes=331,estimator=Search(n_species=82,n_recs=1.0,classifier='cls=std-sgdlog,alpha=.00001,class_weight=balanced',random_state=0)]: fit...\n"
    },
    {
     "name": "stdout",
     "output_type": "stream",
     "text": "[01:06:32.413] INFO   _fit_and_score: n[53/143], model_id[split_i=0,train=28164,test=7042,classes=331,estimator=Search(n_species=82,n_recs=0.25,classifier='cls=std-sgdlog,alpha=10,class_weight=balanced',random_state=0)]: extra_metrics... ['classes', 'train_i', 'train_y', 'train_predict_proba', 'test_i', 'test_y', 'test_predict_proba', 'model_size', 'model_stats', 'proc_stats']\n"
    },
    {
     "name": "stdout",
     "output_type": "stream",
     "text": "[01:06:32.418] INFO   _fit_and_score: n[49/143], model_id[split_i=0,train=28164,test=7042,classes=331,estimator=Search(n_species=82,n_recs=0.25,classifier='cls=std-sgdlog,alpha=0.001,class_weight=balanced',random_state=0)]: extra_metrics[1.674s, 24.2 MB]: ['classes', 'train_i', 'train_y', 'train_predict_proba', 'test_i', 'test_y', 'test_predict_proba', 'model_size', 'model_stats', 'proc_stats']\n"
    },
    {
     "name": "stdout",
     "output_type": "stream",
     "text": "[01:06:32.420] INFO   _fit_and_score: n[49/143], model_id[split_i=0,train=28164,test=7042,classes=331,estimator=Search(n_species=82,n_recs=0.25,classifier='cls=std-sgdlog,alpha=0.001,class_weight=balanced',random_state=0)]: save: ret...\n"
    },
    {
     "name": "stdout",
     "output_type": "stream",
     "text": "[01:06:32.643] INFO   _fit_and_score: n[50/143], model_id[split_i=0,train=28164,test=7042,classes=331,estimator=Search(n_species=82,n_recs=0.25,classifier='cls=std-sgdlog,alpha=0.01,class_weight=balanced',random_state=0)]: extra_metrics[1.831s, 24.2 MB]: ['classes', 'train_i', 'train_y', 'train_predict_proba', 'test_i', 'test_y', 'test_predict_proba', 'model_size', 'model_stats', 'proc_stats']\n"
    },
    {
     "name": "stdout",
     "output_type": "stream",
     "text": "[01:06:32.645] INFO   _fit_and_score: n[50/143], model_id[split_i=0,train=28164,test=7042,classes=331,estimator=Search(n_species=82,n_recs=0.25,classifier='cls=std-sgdlog,alpha=0.01,class_weight=balanced',random_state=0)]: save: ret...\n"
    },
    {
     "name": "stdout",
     "output_type": "stream",
     "text": "[01:06:32.721] INFO   _fit_and_score: n[51/143], model_id[split_i=0,train=28164,test=7042,classes=331,estimator=Search(n_species=82,n_recs=0.25,classifier='cls=std-sgdlog,alpha=0.1,class_weight=balanced',random_state=0)]: extra_metrics[1.754s, 24.2 MB]: ['classes', 'train_i', 'train_y', 'train_predict_proba', 'test_i', 'test_y', 'test_predict_proba', 'model_size', 'model_stats', 'proc_stats']\n"
    },
    {
     "name": "stdout",
     "output_type": "stream",
     "text": "[01:06:32.723] INFO   _fit_and_score: n[51/143], model_id[split_i=0,train=28164,test=7042,classes=331,estimator=Search(n_species=82,n_recs=0.25,classifier='cls=std-sgdlog,alpha=0.1,class_weight=balanced',random_state=0)]: save: ret...\n"
    },
    {
     "name": "stdout",
     "output_type": "stream",
     "text": "[01:06:32.740] INFO   _fit_and_score: n[55/143], model_id[split_i=0,train=28164,test=7042,classes=331,estimator=Search(n_species=82,n_recs=0.25,classifier='cls=std-sgdlog,alpha=1000,class_weight=balanced',random_state=0)]: extra_metrics... ['classes', 'train_i', 'train_y', 'train_predict_proba', 'test_i', 'test_y', 'test_predict_proba', 'model_size', 'model_stats', 'proc_stats']\n"
    },
    {
     "name": "stdout",
     "output_type": "stream",
     "text": "[01:06:32.743] INFO   _fit_and_score: n[70/143], model_id[split_i=0,train=28164,test=7042,classes=331,estimator=Search(n_species=82,n_recs=1.0,classifier='cls=std-sgdlog,alpha=0.0001,class_weight=balanced',random_state=0)]: fit...\n"
    },
    {
     "name": "stdout",
     "output_type": "stream",
     "text": "[01:06:32.745] INFO   _fit_and_score: n[49/143], model_id[split_i=0,train=28164,test=7042,classes=331,estimator=Search(n_species=82,n_recs=0.25,classifier='cls=std-sgdlog,alpha=0.001,class_weight=balanced',random_state=0)]: save[0.324s, 24.2 MB]: ret\n"
    },
    {
     "name": "stdout",
     "output_type": "stream",
     "text": "[01:06:32.748] INFO   _fit_and_score: n[49/143], model_id[split_i=0,train=28164,test=7042,classes=331,estimator=Search(n_species=82,n_recs=0.25,classifier='cls=std-sgdlog,alpha=0.001,class_weight=balanced',random_state=0)]: save: estimator...\n"
    },
    {
     "name": "stdout",
     "output_type": "stream",
     "text": "[01:06:32.776] INFO   _fit_and_score: n[56/143], model_id[split_i=0,train=28164,test=7042,classes=331,estimator=Search(n_species=82,n_recs=0.5,classifier='cls=std-sgdlog,alpha=.0000001,class_weight=balanced',random_state=0)]: fit[5.413s]\n"
    },
    {
     "name": "stdout",
     "output_type": "stream",
     "text": "[01:06:32.916] INFO   _fit_and_score: n[57/143], model_id[split_i=0,train=28164,test=7042,classes=331,estimator=Search(n_species=82,n_recs=0.5,classifier='cls=std-sgdlog,alpha=.000001,class_weight=balanced',random_state=0)]: fit[5.179s]\n"
    },
    {
     "name": "stdout",
     "output_type": "stream",
     "text": "[01:06:32.925] INFO   _fit_and_score: n[50/143], model_id[split_i=0,train=28164,test=7042,classes=331,estimator=Search(n_species=82,n_recs=0.25,classifier='cls=std-sgdlog,alpha=0.01,class_weight=balanced',random_state=0)]: save[0.277s, 24.2 MB]: ret\n"
    },
    {
     "name": "stdout",
     "output_type": "stream",
     "text": "[01:06:32.954] INFO   _fit_and_score: n[50/143], model_id[split_i=0,train=28164,test=7042,classes=331,estimator=Search(n_species=82,n_recs=0.25,classifier='cls=std-sgdlog,alpha=0.01,class_weight=balanced',random_state=0)]: save: estimator...\n"
    },
    {
     "name": "stderr",
     "output_type": "stream",
     "text": "/opt/conda/lib/python3.6/site-packages/sklearn/linear_model/base.py:340: RuntimeWarning: overflow encountered in exp\n  np.exp(prob, prob)\n"
    },
    {
     "name": "stdout",
     "output_type": "stream",
     "text": "[01:06:33.130] INFO   _fit_and_score: n[51/143], model_id[split_i=0,train=28164,test=7042,classes=331,estimator=Search(n_species=82,n_recs=0.25,classifier='cls=std-sgdlog,alpha=0.1,class_weight=balanced',random_state=0)]: save[0.405s, 24.2 MB]: ret\n"
    },
    {
     "name": "stdout",
     "output_type": "stream",
     "text": "[01:06:33.137] INFO   _fit_and_score: n[49/143], model_id[split_i=0,train=28164,test=7042,classes=331,estimator=Search(n_species=82,n_recs=0.25,classifier='cls=std-sgdlog,alpha=0.001,class_weight=balanced',random_state=0)]: save[0.388s, 11.7 MB]: estimator\n"
    },
    {
     "name": "stdout",
     "output_type": "stream",
     "text": "[01:06:33.158] INFO   _fit_and_score: n[51/143], model_id[split_i=0,train=28164,test=7042,classes=331,estimator=Search(n_species=82,n_recs=0.25,classifier='cls=std-sgdlog,alpha=0.1,class_weight=balanced',random_state=0)]: save: estimator...\n"
    },
    {
     "name": "stdout",
     "output_type": "stream",
     "text": "[01:06:33.184] INFO   _fit_and_score: n[71/143], model_id[split_i=0,train=28164,test=7042,classes=331,estimator=Search(n_species=82,n_recs=1.0,classifier='cls=std-sgdlog,alpha=0.001,class_weight=balanced',random_state=0)]: fit...\n"
    },
    {
     "name": "stderr",
     "output_type": "stream",
     "text": "/opt/conda/lib/python3.6/site-packages/sklearn/linear_model/base.py:340: RuntimeWarning: overflow encountered in exp\n  np.exp(prob, prob)\n"
    },
    {
     "name": "stdout",
     "output_type": "stream",
     "text": "[01:06:33.384] INFO   _fit_and_score: n[50/143], model_id[split_i=0,train=28164,test=7042,classes=331,estimator=Search(n_species=82,n_recs=0.25,classifier='cls=std-sgdlog,alpha=0.01,class_weight=balanced',random_state=0)]: save[0.408s, 11.7 MB]: estimator\n"
    },
    {
     "name": "stdout",
     "output_type": "stream",
     "text": "[01:06:33.403] INFO   _fit_and_score: n[52/143], model_id[split_i=0,train=28164,test=7042,classes=331,estimator=Search(n_species=82,n_recs=0.25,classifier='cls=std-sgdlog,alpha=1,class_weight=balanced',random_state=0)]: extra_metrics[1.805s, 24.2 MB]: ['classes', 'train_i', 'train_y', 'train_predict_proba', 'test_i', 'test_y', 'test_predict_proba', 'model_size', 'model_stats', 'proc_stats']\n"
    },
    {
     "name": "stdout",
     "output_type": "stream",
     "text": "[01:06:33.405] INFO   _fit_and_score: n[52/143], model_id[split_i=0,train=28164,test=7042,classes=331,estimator=Search(n_species=82,n_recs=0.25,classifier='cls=std-sgdlog,alpha=1,class_weight=balanced',random_state=0)]: save: ret...\n"
    },
    {
     "name": "stdout",
     "output_type": "stream",
     "text": "[01:06:33.455] INFO   _fit_and_score: n[51/143], model_id[split_i=0,train=28164,test=7042,classes=331,estimator=Search(n_species=82,n_recs=0.25,classifier='cls=std-sgdlog,alpha=0.1,class_weight=balanced',random_state=0)]: save[0.279s, 11.7 MB]: estimator\n"
    },
    {
     "name": "stdout",
     "output_type": "stream",
     "text": "[01:06:33.555] INFO   _fit_and_score: n[58/143], model_id[split_i=0,train=28164,test=7042,classes=331,estimator=Search(n_species=82,n_recs=0.5,classifier='cls=std-sgdlog,alpha=.00001,class_weight=balanced',random_state=0)]: fit[5.424s]\n"
    },
    {
     "name": "stdout",
     "output_type": "stream",
     "text": "[01:06:33.646] INFO   _fit_and_score: n[72/143], model_id[split_i=0,train=28164,test=7042,classes=331,estimator=Search(n_species=82,n_recs=1.0,classifier='cls=std-sgdlog,alpha=0.01,class_weight=balanced',random_state=0)]: fit...\n"
    },
    {
     "name": "stdout",
     "output_type": "stream",
     "text": "[01:06:33.729] INFO   _fit_and_score: n[56/143], model_id[split_i=0,train=28164,test=7042,classes=331,estimator=Search(n_species=82,n_recs=0.5,classifier='cls=std-sgdlog,alpha=.0000001,class_weight=balanced',random_state=0)]: extra_metrics... ['classes', 'train_i', 'train_y', 'train_predict_proba', 'test_i', 'test_y', 'test_predict_proba', 'model_size', 'model_stats', 'proc_stats']\n"
    },
    {
     "name": "stdout",
     "output_type": "stream",
     "text": "[01:06:33.778] INFO   _fit_and_score: n[52/143], model_id[split_i=0,train=28164,test=7042,classes=331,estimator=Search(n_species=82,n_recs=0.25,classifier='cls=std-sgdlog,alpha=1,class_weight=balanced',random_state=0)]: save[0.372s, 24.2 MB]: ret\n"
    },
    {
     "name": "stdout",
     "output_type": "stream",
     "text": "[01:06:33.782] INFO   _fit_and_score: n[52/143], model_id[split_i=0,train=28164,test=7042,classes=331,estimator=Search(n_species=82,n_recs=0.25,classifier='cls=std-sgdlog,alpha=1,class_weight=balanced',random_state=0)]: save: estimator...\n"
    },
    {
     "name": "stdout",
     "output_type": "stream",
     "text": "[01:06:33.898] INFO   _fit_and_score: n[59/143], model_id[split_i=0,train=28164,test=7042,classes=331,estimator=Search(n_species=82,n_recs=0.5,classifier='cls=std-sgdlog,alpha=0.0001,class_weight=balanced',random_state=0)]: fit[5.336s]\n"
    },
    {
     "name": "stdout",
     "output_type": "stream",
     "text": "[01:06:34.003] INFO   _fit_and_score: n[57/143], model_id[split_i=0,train=28164,test=7042,classes=331,estimator=Search(n_species=82,n_recs=0.5,classifier='cls=std-sgdlog,alpha=.000001,class_weight=balanced',random_state=0)]: extra_metrics... ['classes', 'train_i', 'train_y', 'train_predict_proba', 'test_i', 'test_y', 'test_predict_proba', 'model_size', 'model_stats', 'proc_stats']\n"
    },
    {
     "name": "stdout",
     "output_type": "stream",
     "text": "[01:06:34.026] INFO   _fit_and_score: n[52/143], model_id[split_i=0,train=28164,test=7042,classes=331,estimator=Search(n_species=82,n_recs=0.25,classifier='cls=std-sgdlog,alpha=1,class_weight=balanced',random_state=0)]: save[0.242s, 11.7 MB]: estimator\n"
    },
    {
     "name": "stdout",
     "output_type": "stream",
     "text": "[01:06:34.054] INFO   _fit_and_score: n[73/143], model_id[split_i=0,train=28164,test=7042,classes=331,estimator=Search(n_species=82,n_recs=1.0,classifier='cls=std-sgdlog,alpha=0.1,class_weight=balanced',random_state=0)]: fit...\n"
    },
    {
     "name": "stdout",
     "output_type": "stream",
     "text": "[01:06:34.078] INFO   _fit_and_score: n[54/143], model_id[split_i=0,train=28164,test=7042,classes=331,estimator=Search(n_species=82,n_recs=0.25,classifier='cls=std-sgdlog,alpha=100,class_weight=balanced',random_state=0)]: extra_metrics[1.762s, 24.2 MB]: ['classes', 'train_i', 'train_y', 'train_predict_proba', 'test_i', 'test_y', 'test_predict_proba', 'model_size', 'model_stats', 'proc_stats']\n"
    },
    {
     "name": "stdout",
     "output_type": "stream",
     "text": "[01:06:34.080] INFO   _fit_and_score: n[54/143], model_id[split_i=0,train=28164,test=7042,classes=331,estimator=Search(n_species=82,n_recs=0.25,classifier='cls=std-sgdlog,alpha=100,class_weight=balanced',random_state=0)]: save: ret...\n"
    },
    {
     "name": "stdout",
     "output_type": "stream",
     "text": "[01:06:34.263] INFO   _fit_and_score: n[53/143], model_id[split_i=0,train=28164,test=7042,classes=331,estimator=Search(n_species=82,n_recs=0.25,classifier='cls=std-sgdlog,alpha=10,class_weight=balanced',random_state=0)]: extra_metrics[1.820s, 24.2 MB]: ['classes', 'train_i', 'train_y', 'train_predict_proba', 'test_i', 'test_y', 'test_predict_proba', 'model_size', 'model_stats', 'proc_stats']\n"
    },
    {
     "name": "stdout",
     "output_type": "stream",
     "text": "[01:06:34.265] INFO   _fit_and_score: n[53/143], model_id[split_i=0,train=28164,test=7042,classes=331,estimator=Search(n_species=82,n_recs=0.25,classifier='cls=std-sgdlog,alpha=10,class_weight=balanced',random_state=0)]: save: ret...\n"
    },
    {
     "name": "stdout",
     "output_type": "stream",
     "text": "[01:06:34.307] INFO   _fit_and_score: n[58/143], model_id[split_i=0,train=28164,test=7042,classes=331,estimator=Search(n_species=82,n_recs=0.5,classifier='cls=std-sgdlog,alpha=.00001,class_weight=balanced',random_state=0)]: extra_metrics... ['classes', 'train_i', 'train_y', 'train_predict_proba', 'test_i', 'test_y', 'test_predict_proba', 'model_size', 'model_stats', 'proc_stats']\n"
    },
    {
     "name": "stdout",
     "output_type": "stream",
     "text": "[01:06:34.327] INFO   _fit_and_score: n[54/143], model_id[split_i=0,train=28164,test=7042,classes=331,estimator=Search(n_species=82,n_recs=0.25,classifier='cls=std-sgdlog,alpha=100,class_weight=balanced',random_state=0)]: save[0.246s, 24.2 MB]: ret\n"
    },
    {
     "name": "stdout",
     "output_type": "stream",
     "text": "[01:06:34.330] INFO   _fit_and_score: n[54/143], model_id[split_i=0,train=28164,test=7042,classes=331,estimator=Search(n_species=82,n_recs=0.25,classifier='cls=std-sgdlog,alpha=100,class_weight=balanced',random_state=0)]: save: estimator...\n"
    },
    {
     "name": "stdout",
     "output_type": "stream",
     "text": "[01:06:34.483] INFO   _fit_and_score: n[74/143], model_id[split_i=0,train=28164,test=7042,classes=331,estimator=Search(n_species=82,n_recs=1.0,classifier='cls=std-sgdlog,alpha=1,class_weight=balanced',random_state=0)]: fit...\n"
    },
    {
     "name": "stdout",
     "output_type": "stream",
     "text": "[01:06:34.652] INFO   _fit_and_score: n[60/143], model_id[split_i=0,train=28164,test=7042,classes=331,estimator=Search(n_species=82,n_recs=0.5,classifier='cls=std-sgdlog,alpha=0.001,class_weight=balanced',random_state=0)]: fit[5.675s]\n"
    },
    {
     "name": "stdout",
     "output_type": "stream",
     "text": "[01:06:34.672] INFO   _fit_and_score: n[53/143], model_id[split_i=0,train=28164,test=7042,classes=331,estimator=Search(n_species=82,n_recs=0.25,classifier='cls=std-sgdlog,alpha=10,class_weight=balanced',random_state=0)]: save[0.406s, 24.2 MB]: ret\n"
    },
    {
     "name": "stdout",
     "output_type": "stream",
     "text": "[01:06:34.672] INFO   _fit_and_score: n[54/143], model_id[split_i=0,train=28164,test=7042,classes=331,estimator=Search(n_species=82,n_recs=0.25,classifier='cls=std-sgdlog,alpha=100,class_weight=balanced',random_state=0)]: save[0.341s, 11.7 MB]: estimator\n"
    },
    {
     "name": "stdout",
     "output_type": "stream",
     "text": "[01:06:34.675] INFO   _fit_and_score: n[53/143], model_id[split_i=0,train=28164,test=7042,classes=331,estimator=Search(n_species=82,n_recs=0.25,classifier='cls=std-sgdlog,alpha=10,class_weight=balanced',random_state=0)]: save: estimator...\n"
    },
    {
     "name": "stdout",
     "output_type": "stream",
     "text": "[01:06:34.742] INFO   _fit_and_score: n[55/143], model_id[split_i=0,train=28164,test=7042,classes=331,estimator=Search(n_species=82,n_recs=0.25,classifier='cls=std-sgdlog,alpha=1000,class_weight=balanced',random_state=0)]: extra_metrics[1.972s, 24.2 MB]: ['classes', 'train_i', 'train_y', 'train_predict_proba', 'test_i', 'test_y', 'test_predict_proba', 'model_size', 'model_stats', 'proc_stats']\n"
    },
    {
     "name": "stdout",
     "output_type": "stream",
     "text": "[01:06:34.744] INFO   _fit_and_score: n[55/143], model_id[split_i=0,train=28164,test=7042,classes=331,estimator=Search(n_species=82,n_recs=0.25,classifier='cls=std-sgdlog,alpha=1000,class_weight=balanced',random_state=0)]: save: ret...\n"
    },
    {
     "name": "stdout",
     "output_type": "stream",
     "text": "[01:06:34.822] INFO   _fit_and_score: n[61/143], model_id[split_i=0,train=28164,test=7042,classes=331,estimator=Search(n_species=82,n_recs=0.5,classifier='cls=std-sgdlog,alpha=0.01,class_weight=balanced',random_state=0)]: fit[5.472s]\n"
    },
    {
     "name": "stdout",
     "output_type": "stream",
     "text": "[01:06:34.850] INFO   _fit_and_score: n[59/143], model_id[split_i=0,train=28164,test=7042,classes=331,estimator=Search(n_species=82,n_recs=0.5,classifier='cls=std-sgdlog,alpha=0.0001,class_weight=balanced',random_state=0)]: extra_metrics... ['classes', 'train_i', 'train_y', 'train_predict_proba', 'test_i', 'test_y', 'test_predict_proba', 'model_size', 'model_stats', 'proc_stats']\n"
    },
    {
     "name": "stdout",
     "output_type": "stream",
     "text": "[01:06:34.913] INFO   _fit_and_score: n[75/143], model_id[split_i=0,train=28164,test=7042,classes=331,estimator=Search(n_species=82,n_recs=1.0,classifier='cls=std-sgdlog,alpha=10,class_weight=balanced',random_state=0)]: fit...\n"
    },
    {
     "name": "stdout",
     "output_type": "stream",
     "text": "[01:06:34.935] INFO   _fit_and_score: n[53/143], model_id[split_i=0,train=28164,test=7042,classes=331,estimator=Search(n_species=82,n_recs=0.25,classifier='cls=std-sgdlog,alpha=10,class_weight=balanced',random_state=0)]: save[0.259s, 11.7 MB]: estimator\n"
    },
    {
     "name": "stdout",
     "output_type": "stream",
     "text": "[01:06:35.034] INFO   _fit_and_score: n[55/143], model_id[split_i=0,train=28164,test=7042,classes=331,estimator=Search(n_species=82,n_recs=0.25,classifier='cls=std-sgdlog,alpha=1000,class_weight=balanced',random_state=0)]: save[0.289s, 24.2 MB]: ret\n"
    },
    {
     "name": "stdout",
     "output_type": "stream",
     "text": "[01:06:35.053] INFO   _fit_and_score: n[55/143], model_id[split_i=0,train=28164,test=7042,classes=331,estimator=Search(n_species=82,n_recs=0.25,classifier='cls=std-sgdlog,alpha=1000,class_weight=balanced',random_state=0)]: save: estimator...\n"
    },
    {
     "name": "stdout",
     "output_type": "stream",
     "text": "[01:06:35.353] INFO   _fit_and_score: n[76/143], model_id[split_i=0,train=28164,test=7042,classes=331,estimator=Search(n_species=82,n_recs=1.0,classifier='cls=std-sgdlog,alpha=100,class_weight=balanced',random_state=0)]: fit...\n"
    },
    {
     "name": "stdout",
     "output_type": "stream",
     "text": "[01:06:35.505] INFO   _fit_and_score: n[62/143], model_id[split_i=0,train=28164,test=7042,classes=331,estimator=Search(n_species=82,n_recs=0.5,classifier='cls=std-sgdlog,alpha=0.1,class_weight=balanced',random_state=0)]: fit[5.665s]\n"
    },
    {
     "name": "stdout",
     "output_type": "stream",
     "text": "[01:06:35.547] INFO   _fit_and_score: n[55/143], model_id[split_i=0,train=28164,test=7042,classes=331,estimator=Search(n_species=82,n_recs=0.25,classifier='cls=std-sgdlog,alpha=1000,class_weight=balanced',random_state=0)]: save[0.461s, 11.7 MB]: estimator\n"
    },
    {
     "name": "stdout",
     "output_type": "stream",
     "text": "[01:06:35.575] INFO   _fit_and_score: n[60/143], model_id[split_i=0,train=28164,test=7042,classes=331,estimator=Search(n_species=82,n_recs=0.5,classifier='cls=std-sgdlog,alpha=0.001,class_weight=balanced',random_state=0)]: extra_metrics... ['classes', 'train_i', 'train_y', 'train_predict_proba', 'test_i', 'test_y', 'test_predict_proba', 'model_size', 'model_stats', 'proc_stats']\n"
    },
    {
     "name": "stdout",
     "output_type": "stream",
     "text": "[01:06:35.592] INFO   _fit_and_score: n[56/143], model_id[split_i=0,train=28164,test=7042,classes=331,estimator=Search(n_species=82,n_recs=0.5,classifier='cls=std-sgdlog,alpha=.0000001,class_weight=balanced',random_state=0)]: extra_metrics[1.833s, 24.2 MB]: ['classes', 'train_i', 'train_y', 'train_predict_proba', 'test_i', 'test_y', 'test_predict_proba', 'model_size', 'model_stats', 'proc_stats']\n"
    },
    {
     "name": "stdout",
     "output_type": "stream",
     "text": "[01:06:35.594] INFO   _fit_and_score: n[56/143], model_id[split_i=0,train=28164,test=7042,classes=331,estimator=Search(n_species=82,n_recs=0.5,classifier='cls=std-sgdlog,alpha=.0000001,class_weight=balanced',random_state=0)]: save: ret...\n"
    },
    {
     "name": "stdout",
     "output_type": "stream",
     "text": "[01:06:35.698] INFO   _fit_and_score: n[61/143], model_id[split_i=0,train=28164,test=7042,classes=331,estimator=Search(n_species=82,n_recs=0.5,classifier='cls=std-sgdlog,alpha=0.01,class_weight=balanced',random_state=0)]: extra_metrics... ['classes', 'train_i', 'train_y', 'train_predict_proba', 'test_i', 'test_y', 'test_predict_proba', 'model_size', 'model_stats', 'proc_stats']\n"
    },
    {
     "name": "stdout",
     "output_type": "stream",
     "text": "[01:06:35.824] INFO   _fit_and_score: n[77/143], model_id[split_i=0,train=28164,test=7042,classes=331,estimator=Search(n_species=82,n_recs=1.0,classifier='cls=std-sgdlog,alpha=1000,class_weight=balanced',random_state=0)]: fit...\n"
    },
    {
     "name": "stdout",
     "output_type": "stream",
     "text": "[01:06:36.169] INFO   _fit_and_score: n[57/143], model_id[split_i=0,train=28164,test=7042,classes=331,estimator=Search(n_species=82,n_recs=0.5,classifier='cls=std-sgdlog,alpha=.000001,class_weight=balanced',random_state=0)]: extra_metrics[2.138s, 24.2 MB]: ['classes', 'train_i', 'train_y', 'train_predict_proba', 'test_i', 'test_y', 'test_predict_proba', 'model_size', 'model_stats', 'proc_stats']\n"
    },
    {
     "name": "stdout",
     "output_type": "stream",
     "text": "[01:06:36.171] INFO   _fit_and_score: n[57/143], model_id[split_i=0,train=28164,test=7042,classes=331,estimator=Search(n_species=82,n_recs=0.5,classifier='cls=std-sgdlog,alpha=.000001,class_weight=balanced',random_state=0)]: save: ret...\n"
    },
    {
     "name": "stdout",
     "output_type": "stream",
     "text": "[01:06:36.197] INFO   _fit_and_score: n[63/143], model_id[split_i=0,train=28164,test=7042,classes=331,estimator=Search(n_species=82,n_recs=0.5,classifier='cls=std-sgdlog,alpha=1,class_weight=balanced',random_state=0)]: fit[5.946s]\n"
    },
    {
     "name": "stdout",
     "output_type": "stream",
     "text": "[01:06:36.442] INFO   _fit_and_score: n[62/143], model_id[split_i=0,train=28164,test=7042,classes=331,estimator=Search(n_species=82,n_recs=0.5,classifier='cls=std-sgdlog,alpha=0.1,class_weight=balanced',random_state=0)]: extra_metrics... ['classes', 'train_i', 'train_y', 'train_predict_proba', 'test_i', 'test_y', 'test_predict_proba', 'model_size', 'model_stats', 'proc_stats']\n"
    },
    {
     "name": "stdout",
     "output_type": "stream",
     "text": "[01:06:36.426] INFO   _fit_and_score: n[78/143], model_id[split_i=0,train=28164,test=7042,classes=331,estimator=Search(n_species=165,n_recs=0.25,classifier='cls=std-sgdlog,alpha=.0000001,class_weight=balanced',random_state=0)]: fit...\n"
    },
    {
     "name": "stdout",
     "output_type": "stream",
     "text": "[01:06:36.469] INFO   _fit_and_score: n[64/143], model_id[split_i=0,train=28164,test=7042,classes=331,estimator=Search(n_species=82,n_recs=0.5,classifier='cls=std-sgdlog,alpha=10,class_weight=balanced',random_state=0)]: fit[5.841s]\n"
    },
    {
     "name": "stdout",
     "output_type": "stream",
     "text": "[01:06:36.530] INFO   _fit_and_score: n[56/143], model_id[split_i=0,train=28164,test=7042,classes=331,estimator=Search(n_species=82,n_recs=0.5,classifier='cls=std-sgdlog,alpha=.0000001,class_weight=balanced',random_state=0)]: save[0.934s, 24.2 MB]: ret\n"
    },
    {
     "name": "stdout",
     "output_type": "stream",
     "text": "[01:06:36.535] INFO   _fit_and_score: n[56/143], model_id[split_i=0,train=28164,test=7042,classes=331,estimator=Search(n_species=82,n_recs=0.5,classifier='cls=std-sgdlog,alpha=.0000001,class_weight=balanced',random_state=0)]: save: estimator...\n"
    },
    {
     "name": "stderr",
     "output_type": "stream",
     "text": "/opt/conda/lib/python3.6/site-packages/sklearn/linear_model/base.py:340: RuntimeWarning: overflow encountered in exp\n  np.exp(prob, prob)\n"
    },
    {
     "name": "stderr",
     "output_type": "stream",
     "text": "/opt/conda/lib/python3.6/site-packages/sklearn/linear_model/base.py:347: RuntimeWarning: invalid value encountered in true_divide\n  prob /= prob.sum(axis=1).reshape((prob.shape[0], -1))\n"
    },
    {
     "name": "stdout",
     "output_type": "stream",
     "text": "[01:06:36.695] INFO   _fit_and_score: n[79/143], model_id[split_i=0,train=28164,test=7042,classes=331,estimator=Search(n_species=165,n_recs=0.25,classifier='cls=std-sgdlog,alpha=.000001,class_weight=balanced',random_state=0)]: fit...\n"
    },
    {
     "name": "stdout",
     "output_type": "stream",
     "text": "[01:06:36.703] INFO   _fit_and_score: n[57/143], model_id[split_i=0,train=28164,test=7042,classes=331,estimator=Search(n_species=82,n_recs=0.5,classifier='cls=std-sgdlog,alpha=.000001,class_weight=balanced',random_state=0)]: save[0.530s, 24.2 MB]: ret\n"
    },
    {
     "name": "stdout",
     "output_type": "stream",
     "text": "[01:06:36.706] INFO   _fit_and_score: n[57/143], model_id[split_i=0,train=28164,test=7042,classes=331,estimator=Search(n_species=82,n_recs=0.5,classifier='cls=std-sgdlog,alpha=.000001,class_weight=balanced',random_state=0)]: save: estimator...\n"
    },
    {
     "name": "stdout",
     "output_type": "stream",
     "text": "[01:06:36.725] INFO   _fit_and_score: n[58/143], model_id[split_i=0,train=28164,test=7042,classes=331,estimator=Search(n_species=82,n_recs=0.5,classifier='cls=std-sgdlog,alpha=.00001,class_weight=balanced',random_state=0)]: extra_metrics[2.392s, 24.2 MB]: ['classes', 'train_i', 'train_y', 'train_predict_proba', 'test_i', 'test_y', 'test_predict_proba', 'model_size', 'model_stats', 'proc_stats']\n"
    },
    {
     "name": "stdout",
     "output_type": "stream",
     "text": "[01:06:36.727] INFO   _fit_and_score: n[58/143], model_id[split_i=0,train=28164,test=7042,classes=331,estimator=Search(n_species=82,n_recs=0.5,classifier='cls=std-sgdlog,alpha=.00001,class_weight=balanced',random_state=0)]: save: ret...\n"
    },
    {
     "name": "stdout",
     "output_type": "stream",
     "text": "[01:06:36.953] INFO   _fit_and_score: n[59/143], model_id[split_i=0,train=28164,test=7042,classes=331,estimator=Search(n_species=82,n_recs=0.5,classifier='cls=std-sgdlog,alpha=0.0001,class_weight=balanced',random_state=0)]: extra_metrics[2.072s, 24.2 MB]: ['classes', 'train_i', 'train_y', 'train_predict_proba', 'test_i', 'test_y', 'test_predict_proba', 'model_size', 'model_stats', 'proc_stats']\n"
    },
    {
     "name": "stdout",
     "output_type": "stream",
     "text": "[01:06:36.980] INFO   _fit_and_score: n[59/143], model_id[split_i=0,train=28164,test=7042,classes=331,estimator=Search(n_species=82,n_recs=0.5,classifier='cls=std-sgdlog,alpha=0.0001,class_weight=balanced',random_state=0)]: save: ret...\n"
    },
    {
     "name": "stdout",
     "output_type": "stream",
     "text": "[01:06:37.029] INFO   _fit_and_score: n[56/143], model_id[split_i=0,train=28164,test=7042,classes=331,estimator=Search(n_species=82,n_recs=0.5,classifier='cls=std-sgdlog,alpha=.0000001,class_weight=balanced',random_state=0)]: save[0.484s, 22.7 MB]: estimator\n"
    },
    {
     "name": "stdout",
     "output_type": "stream",
     "text": "[01:06:37.181] INFO   _fit_and_score: n[80/143], model_id[split_i=0,train=28164,test=7042,classes=331,estimator=Search(n_species=165,n_recs=0.25,classifier='cls=std-sgdlog,alpha=.00001,class_weight=balanced',random_state=0)]: fit...\n"
    },
    {
     "name": "stderr",
     "output_type": "stream",
     "text": "/opt/conda/lib/python3.6/site-packages/sklearn/linear_model/base.py:340: RuntimeWarning: overflow encountered in exp\n  np.exp(prob, prob)\n"
    },
    {
     "name": "stdout",
     "output_type": "stream",
     "text": "[01:06:37.197] INFO   _fit_and_score: n[65/143], model_id[split_i=0,train=28164,test=7042,classes=331,estimator=Search(n_species=82,n_recs=0.5,classifier='cls=std-sgdlog,alpha=100,class_weight=balanced',random_state=0)]: fit[6.179s]\n"
    },
    {
     "name": "stderr",
     "output_type": "stream",
     "text": "/opt/conda/lib/python3.6/site-packages/sklearn/linear_model/base.py:347: RuntimeWarning: invalid value encountered in true_divide\n  prob /= prob.sum(axis=1).reshape((prob.shape[0], -1))\n"
    },
    {
     "name": "stdout",
     "output_type": "stream",
     "text": "[01:06:37.254] INFO   _fit_and_score: n[57/143], model_id[split_i=0,train=28164,test=7042,classes=331,estimator=Search(n_species=82,n_recs=0.5,classifier='cls=std-sgdlog,alpha=.000001,class_weight=balanced',random_state=0)]: save[0.546s, 22.7 MB]: estimator\n"
    },
    {
     "name": "stdout",
     "output_type": "stream",
     "text": "[01:06:37.272] INFO   _fit_and_score: n[58/143], model_id[split_i=0,train=28164,test=7042,classes=331,estimator=Search(n_species=82,n_recs=0.5,classifier='cls=std-sgdlog,alpha=.00001,class_weight=balanced',random_state=0)]: save[0.542s, 24.2 MB]: ret\n"
    },
    {
     "name": "stdout",
     "output_type": "stream",
     "text": "[01:06:37.275] INFO   _fit_and_score: n[58/143], model_id[split_i=0,train=28164,test=7042,classes=331,estimator=Search(n_species=82,n_recs=0.5,classifier='cls=std-sgdlog,alpha=.00001,class_weight=balanced',random_state=0)]: save: estimator...\n"
    },
    {
     "name": "stdout",
     "output_type": "stream",
     "text": "[01:06:37.429] INFO   _fit_and_score: n[59/143], model_id[split_i=0,train=28164,test=7042,classes=331,estimator=Search(n_species=82,n_recs=0.5,classifier='cls=std-sgdlog,alpha=0.0001,class_weight=balanced',random_state=0)]: save[0.423s, 24.2 MB]: ret\n"
    },
    {
     "name": "stdout",
     "output_type": "stream",
     "text": "[01:06:37.431] INFO   _fit_and_score: n[59/143], model_id[split_i=0,train=28164,test=7042,classes=331,estimator=Search(n_species=82,n_recs=0.5,classifier='cls=std-sgdlog,alpha=0.0001,class_weight=balanced',random_state=0)]: save: estimator...\n"
    },
    {
     "name": "stdout",
     "output_type": "stream",
     "text": "[01:06:37.450] INFO   _fit_and_score: n[66/143], model_id[split_i=0,train=28164,test=7042,classes=331,estimator=Search(n_species=82,n_recs=0.5,classifier='cls=std-sgdlog,alpha=1000,class_weight=balanced',random_state=0)]: fit[5.992s]\n"
    },
    {
     "name": "stdout",
     "output_type": "stream",
     "text": "[01:06:37.569] INFO   _fit_and_score: n[58/143], model_id[split_i=0,train=28164,test=7042,classes=331,estimator=Search(n_species=82,n_recs=0.5,classifier='cls=std-sgdlog,alpha=.00001,class_weight=balanced',random_state=0)]: save[0.291s, 22.7 MB]: estimator\n"
    },
    {
     "name": "stdout",
     "output_type": "stream",
     "text": "[01:06:37.611] INFO   _fit_and_score: n[81/143], model_id[split_i=0,train=28164,test=7042,classes=331,estimator=Search(n_species=165,n_recs=0.25,classifier='cls=std-sgdlog,alpha=0.0001,class_weight=balanced',random_state=0)]: fit...\n"
    },
    {
     "name": "stdout",
     "output_type": "stream",
     "text": "[01:06:37.718] INFO   _fit_and_score: n[60/143], model_id[split_i=0,train=28164,test=7042,classes=331,estimator=Search(n_species=82,n_recs=0.5,classifier='cls=std-sgdlog,alpha=0.001,class_weight=balanced',random_state=0)]: extra_metrics[2.111s, 24.2 MB]: ['classes', 'train_i', 'train_y', 'train_predict_proba', 'test_i', 'test_y', 'test_predict_proba', 'model_size', 'model_stats', 'proc_stats']\n"
    },
    {
     "name": "stdout",
     "output_type": "stream",
     "text": "[01:06:37.743] INFO   _fit_and_score: n[60/143], model_id[split_i=0,train=28164,test=7042,classes=331,estimator=Search(n_species=82,n_recs=0.5,classifier='cls=std-sgdlog,alpha=0.001,class_weight=balanced',random_state=0)]: save: ret...\n"
    },
    {
     "name": "stdout",
     "output_type": "stream",
     "text": "[01:06:37.863] INFO   _fit_and_score: n[64/143], model_id[split_i=0,train=28164,test=7042,classes=331,estimator=Search(n_species=82,n_recs=0.5,classifier='cls=std-sgdlog,alpha=10,class_weight=balanced',random_state=0)]: extra_metrics... ['classes', 'train_i', 'train_y', 'train_predict_proba', 'test_i', 'test_y', 'test_predict_proba', 'model_size', 'model_stats', 'proc_stats']\n"
    },
    {
     "name": "stdout",
     "output_type": "stream",
     "text": "[01:06:37.911] INFO   _fit_and_score: n[63/143], model_id[split_i=0,train=28164,test=7042,classes=331,estimator=Search(n_species=82,n_recs=0.5,classifier='cls=std-sgdlog,alpha=1,class_weight=balanced',random_state=0)]: extra_metrics... ['classes', 'train_i', 'train_y', 'train_predict_proba', 'test_i', 'test_y', 'test_predict_proba', 'model_size', 'model_stats', 'proc_stats']\n"
    },
    {
     "name": "stdout",
     "output_type": "stream",
     "text": "[01:06:37.913] INFO   _fit_and_score: n[59/143], model_id[split_i=0,train=28164,test=7042,classes=331,estimator=Search(n_species=82,n_recs=0.5,classifier='cls=std-sgdlog,alpha=0.0001,class_weight=balanced',random_state=0)]: save[0.481s, 22.7 MB]: estimator\n"
    },
    {
     "name": "stdout",
     "output_type": "stream",
     "text": "[01:06:38.023] INFO   _fit_and_score: n[61/143], model_id[split_i=0,train=28164,test=7042,classes=331,estimator=Search(n_species=82,n_recs=0.5,classifier='cls=std-sgdlog,alpha=0.01,class_weight=balanced',random_state=0)]: extra_metrics[2.302s, 24.2 MB]: ['classes', 'train_i', 'train_y', 'train_predict_proba', 'test_i', 'test_y', 'test_predict_proba', 'model_size', 'model_stats', 'proc_stats']\n"
    },
    {
     "name": "stdout",
     "output_type": "stream",
     "text": "[01:06:38.026] INFO   _fit_and_score: n[61/143], model_id[split_i=0,train=28164,test=7042,classes=331,estimator=Search(n_species=82,n_recs=0.5,classifier='cls=std-sgdlog,alpha=0.01,class_weight=balanced',random_state=0)]: save: ret...\n"
    },
    {
     "name": "stdout",
     "output_type": "stream",
     "text": "[01:06:38.088] INFO   _fit_and_score: n[60/143], model_id[split_i=0,train=28164,test=7042,classes=331,estimator=Search(n_species=82,n_recs=0.5,classifier='cls=std-sgdlog,alpha=0.001,class_weight=balanced',random_state=0)]: save[0.342s, 24.2 MB]: ret\n"
    },
    {
     "name": "stdout",
     "output_type": "stream",
     "text": "[01:06:38.105] INFO   _fit_and_score: n[82/143], model_id[split_i=0,train=28164,test=7042,classes=331,estimator=Search(n_species=165,n_recs=0.25,classifier='cls=std-sgdlog,alpha=0.001,class_weight=balanced',random_state=0)]: fit...\n"
    },
    {
     "name": "stdout",
     "output_type": "stream",
     "text": "[01:06:38.116] INFO   _fit_and_score: n[60/143], model_id[split_i=0,train=28164,test=7042,classes=331,estimator=Search(n_species=82,n_recs=0.5,classifier='cls=std-sgdlog,alpha=0.001,class_weight=balanced',random_state=0)]: save: estimator...\n"
    },
    {
     "name": "stderr",
     "output_type": "stream",
     "text": "/opt/conda/lib/python3.6/site-packages/sklearn/linear_model/base.py:340: RuntimeWarning: overflow encountered in exp\n  np.exp(prob, prob)\n"
    },
    {
     "name": "stderr",
     "output_type": "stream",
     "text": "/opt/conda/lib/python3.6/site-packages/sklearn/linear_model/base.py:347: RuntimeWarning: invalid value encountered in true_divide\n  prob /= prob.sum(axis=1).reshape((prob.shape[0], -1))\n"
    },
    {
     "name": "stdout",
     "output_type": "stream",
     "text": "[01:06:38.393] INFO   _fit_and_score: n[61/143], model_id[split_i=0,train=28164,test=7042,classes=331,estimator=Search(n_species=82,n_recs=0.5,classifier='cls=std-sgdlog,alpha=0.01,class_weight=balanced',random_state=0)]: save[0.364s, 24.2 MB]: ret\n"
    },
    {
     "name": "stdout",
     "output_type": "stream",
     "text": "[01:06:38.395] INFO   _fit_and_score: n[61/143], model_id[split_i=0,train=28164,test=7042,classes=331,estimator=Search(n_species=82,n_recs=0.5,classifier='cls=std-sgdlog,alpha=0.01,class_weight=balanced',random_state=0)]: save: estimator...\n"
    },
    {
     "name": "stdout",
     "output_type": "stream",
     "text": "[01:06:38.425] INFO   _fit_and_score: n[67/143], model_id[split_i=0,train=28164,test=7042,classes=331,estimator=Search(n_species=82,n_recs=1.0,classifier='cls=std-sgdlog,alpha=.0000001,class_weight=balanced',random_state=0)]: fit[6.547s]\n"
    },
    {
     "name": "stdout",
     "output_type": "stream",
     "text": "[01:06:38.506] INFO   _fit_and_score: n[60/143], model_id[split_i=0,train=28164,test=7042,classes=331,estimator=Search(n_species=82,n_recs=0.5,classifier='cls=std-sgdlog,alpha=0.001,class_weight=balanced',random_state=0)]: save[0.373s, 22.7 MB]: estimator\n"
    },
    {
     "name": "stderr",
     "output_type": "stream",
     "text": "/opt/conda/lib/python3.6/site-packages/sklearn/linear_model/base.py:340: RuntimeWarning: overflow encountered in exp\n  np.exp(prob, prob)\n"
    },
    {
     "name": "stderr",
     "output_type": "stream",
     "text": "/opt/conda/lib/python3.6/site-packages/sklearn/linear_model/base.py:347: RuntimeWarning: invalid value encountered in true_divide\n  prob /= prob.sum(axis=1).reshape((prob.shape[0], -1))\n"
    },
    {
     "name": "stdout",
     "output_type": "stream",
     "text": "[01:06:38.530] INFO   _fit_and_score: n[62/143], model_id[split_i=0,train=28164,test=7042,classes=331,estimator=Search(n_species=82,n_recs=0.5,classifier='cls=std-sgdlog,alpha=0.1,class_weight=balanced',random_state=0)]: extra_metrics[2.068s, 24.2 MB]: ['classes', 'train_i', 'train_y', 'train_predict_proba', 'test_i', 'test_y', 'test_predict_proba', 'model_size', 'model_stats', 'proc_stats']\n"
    },
    {
     "name": "stdout",
     "output_type": "stream",
     "text": "[01:06:38.532] INFO   _fit_and_score: n[62/143], model_id[split_i=0,train=28164,test=7042,classes=331,estimator=Search(n_species=82,n_recs=0.5,classifier='cls=std-sgdlog,alpha=0.1,class_weight=balanced',random_state=0)]: save: ret...\n"
    },
    {
     "name": "stdout",
     "output_type": "stream",
     "text": "[01:06:38.532] INFO   _fit_and_score: n[83/143], model_id[split_i=0,train=28164,test=7042,classes=331,estimator=Search(n_species=165,n_recs=0.25,classifier='cls=std-sgdlog,alpha=0.01,class_weight=balanced',random_state=0)]: fit...\n"
    },
    {
     "name": "stdout",
     "output_type": "stream",
     "text": "[01:06:38.723] INFO   _fit_and_score: n[65/143], model_id[split_i=0,train=28164,test=7042,classes=331,estimator=Search(n_species=82,n_recs=0.5,classifier='cls=std-sgdlog,alpha=100,class_weight=balanced',random_state=0)]: extra_metrics... ['classes', 'train_i', 'train_y', 'train_predict_proba', 'test_i', 'test_y', 'test_predict_proba', 'model_size', 'model_stats', 'proc_stats']\n"
    },
    {
     "name": "stdout",
     "output_type": "stream",
     "text": "[01:06:38.796] INFO   _fit_and_score: n[61/143], model_id[split_i=0,train=28164,test=7042,classes=331,estimator=Search(n_species=82,n_recs=0.5,classifier='cls=std-sgdlog,alpha=0.01,class_weight=balanced',random_state=0)]: save[0.399s, 22.7 MB]: estimator\n"
    },
    {
     "name": "stdout",
     "output_type": "stream",
     "text": "[01:06:38.881] INFO   _fit_and_score: n[66/143], model_id[split_i=0,train=28164,test=7042,classes=331,estimator=Search(n_species=82,n_recs=0.5,classifier='cls=std-sgdlog,alpha=1000,class_weight=balanced',random_state=0)]: extra_metrics... ['classes', 'train_i', 'train_y', 'train_predict_proba', 'test_i', 'test_y', 'test_predict_proba', 'model_size', 'model_stats', 'proc_stats']\n"
    },
    {
     "name": "stdout",
     "output_type": "stream",
     "text": "[01:06:39.154] INFO   _fit_and_score: n[68/143], model_id[split_i=0,train=28164,test=7042,classes=331,estimator=Search(n_species=82,n_recs=1.0,classifier='cls=std-sgdlog,alpha=.000001,class_weight=balanced',random_state=0)]: fit[6.770s]\n"
    },
    {
     "name": "stderr",
     "output_type": "stream",
     "text": "/opt/conda/lib/python3.6/site-packages/sklearn/linear_model/base.py:340: RuntimeWarning: overflow encountered in exp\n  np.exp(prob, prob)\n"
    },
    {
     "name": "stdout",
     "output_type": "stream",
     "text": "[01:06:39.336] INFO   _fit_and_score: n[62/143], model_id[split_i=0,train=28164,test=7042,classes=331,estimator=Search(n_species=82,n_recs=0.5,classifier='cls=std-sgdlog,alpha=0.1,class_weight=balanced',random_state=0)]: save: estimator...\n"
    },
    {
     "name": "stdout",
     "output_type": "stream",
     "text": "[01:06:39.333] INFO   _fit_and_score: n[62/143], model_id[split_i=0,train=28164,test=7042,classes=331,estimator=Search(n_species=82,n_recs=0.5,classifier='cls=std-sgdlog,alpha=0.1,class_weight=balanced',random_state=0)]: save[0.799s, 24.2 MB]: ret\n"
    },
    {
     "name": "stdout",
     "output_type": "stream",
     "text": "[01:06:39.399] INFO   _fit_and_score: n[84/143], model_id[split_i=0,train=28164,test=7042,classes=331,estimator=Search(n_species=165,n_recs=0.25,classifier='cls=std-sgdlog,alpha=0.1,class_weight=balanced',random_state=0)]: fit...\n"
    },
    {
     "name": "stderr",
     "output_type": "stream",
     "text": "/opt/conda/lib/python3.6/site-packages/sklearn/linear_model/base.py:340: RuntimeWarning: overflow encountered in exp\n  np.exp(prob, prob)\n"
    },
    {
     "name": "stdout",
     "output_type": "stream",
     "text": "[01:06:39.788] INFO   _fit_and_score: n[62/143], model_id[split_i=0,train=28164,test=7042,classes=331,estimator=Search(n_species=82,n_recs=0.5,classifier='cls=std-sgdlog,alpha=0.1,class_weight=balanced',random_state=0)]: save[0.450s, 22.7 MB]: estimator\n"
    },
    {
     "name": "stderr",
     "output_type": "stream",
     "text": "/opt/conda/lib/python3.6/site-packages/sklearn/linear_model/base.py:347: RuntimeWarning: invalid value encountered in true_divide\n  prob /= prob.sum(axis=1).reshape((prob.shape[0], -1))\n"
    },
    {
     "name": "stdout",
     "output_type": "stream",
     "text": "[01:06:39.870] INFO   _fit_and_score: n[85/143], model_id[split_i=0,train=28164,test=7042,classes=331,estimator=Search(n_species=165,n_recs=0.25,classifier='cls=std-sgdlog,alpha=1,class_weight=balanced',random_state=0)]: fit...\n"
    },
    {
     "name": "stdout",
     "output_type": "stream",
     "text": "[01:06:40.137] INFO   _fit_and_score: n[67/143], model_id[split_i=0,train=28164,test=7042,classes=331,estimator=Search(n_species=82,n_recs=1.0,classifier='cls=std-sgdlog,alpha=.0000001,class_weight=balanced',random_state=0)]: extra_metrics... ['classes', 'train_i', 'train_y', 'train_predict_proba', 'test_i', 'test_y', 'test_predict_proba', 'model_size', 'model_stats', 'proc_stats']\n"
    },
    {
     "name": "stdout",
     "output_type": "stream",
     "text": "[01:06:40.139] INFO   _fit_and_score: n[64/143], model_id[split_i=0,train=28164,test=7042,classes=331,estimator=Search(n_species=82,n_recs=0.5,classifier='cls=std-sgdlog,alpha=10,class_weight=balanced',random_state=0)]: extra_metrics[2.256s, 24.2 MB]: ['classes', 'train_i', 'train_y', 'train_predict_proba', 'test_i', 'test_y', 'test_predict_proba', 'model_size', 'model_stats', 'proc_stats']\n"
    },
    {
     "name": "stdout",
     "output_type": "stream",
     "text": "[01:06:40.140] INFO   _fit_and_score: n[64/143], model_id[split_i=0,train=28164,test=7042,classes=331,estimator=Search(n_species=82,n_recs=0.5,classifier='cls=std-sgdlog,alpha=10,class_weight=balanced',random_state=0)]: save: ret...\n"
    },
    {
     "name": "stdout",
     "output_type": "stream",
     "text": "[01:06:40.170] INFO   _fit_and_score: n[69/143], model_id[split_i=0,train=28164,test=7042,classes=331,estimator=Search(n_species=82,n_recs=1.0,classifier='cls=std-sgdlog,alpha=.00001,class_weight=balanced',random_state=0)]: fit[7.492s]\n"
    },
    {
     "name": "stdout",
     "output_type": "stream",
     "text": "[01:06:40.323] INFO   _fit_and_score: n[86/143], model_id[split_i=0,train=28164,test=7042,classes=331,estimator=Search(n_species=165,n_recs=0.25,classifier='cls=std-sgdlog,alpha=10,class_weight=balanced',random_state=0)]: fit...\n"
    },
    {
     "name": "stdout",
     "output_type": "stream",
     "text": "[01:06:40.389] INFO   _fit_and_score: n[64/143], model_id[split_i=0,train=28164,test=7042,classes=331,estimator=Search(n_species=82,n_recs=0.5,classifier='cls=std-sgdlog,alpha=10,class_weight=balanced',random_state=0)]: save[0.247s, 24.2 MB]: ret\n"
    },
    {
     "name": "stdout",
     "output_type": "stream",
     "text": "[01:06:40.391] INFO   _fit_and_score: n[64/143], model_id[split_i=0,train=28164,test=7042,classes=331,estimator=Search(n_species=82,n_recs=0.5,classifier='cls=std-sgdlog,alpha=10,class_weight=balanced',random_state=0)]: save: estimator...\n"
    },
    {
     "name": "stdout",
     "output_type": "stream",
     "text": "[01:06:40.632] INFO   _fit_and_score: n[64/143], model_id[split_i=0,train=28164,test=7042,classes=331,estimator=Search(n_species=82,n_recs=0.5,classifier='cls=std-sgdlog,alpha=10,class_weight=balanced',random_state=0)]: save[0.240s, 22.7 MB]: estimator\n"
    },
    {
     "name": "stdout",
     "output_type": "stream",
     "text": "[01:06:40.680] INFO   _fit_and_score: n[63/143], model_id[split_i=0,train=28164,test=7042,classes=331,estimator=Search(n_species=82,n_recs=0.5,classifier='cls=std-sgdlog,alpha=1,class_weight=balanced',random_state=0)]: extra_metrics[2.747s, 24.2 MB]: ['classes', 'train_i', 'train_y', 'train_predict_proba', 'test_i', 'test_y', 'test_predict_proba', 'model_size', 'model_stats', 'proc_stats']\n"
    },
    {
     "name": "stdout",
     "output_type": "stream",
     "text": "[01:06:40.682] INFO   _fit_and_score: n[63/143], model_id[split_i=0,train=28164,test=7042,classes=331,estimator=Search(n_species=82,n_recs=0.5,classifier='cls=std-sgdlog,alpha=1,class_weight=balanced',random_state=0)]: save: ret...\n"
    },
    {
     "name": "stdout",
     "output_type": "stream",
     "text": "[01:06:40.717] INFO   _fit_and_score: n[87/143], model_id[split_i=0,train=28164,test=7042,classes=331,estimator=Search(n_species=165,n_recs=0.25,classifier='cls=std-sgdlog,alpha=100,class_weight=balanced',random_state=0)]: fit...\n"
    },
    {
     "name": "stdout",
     "output_type": "stream",
     "text": "[01:06:40.737] INFO   _fit_and_score: n[68/143], model_id[split_i=0,train=28164,test=7042,classes=331,estimator=Search(n_species=82,n_recs=1.0,classifier='cls=std-sgdlog,alpha=.000001,class_weight=balanced',random_state=0)]: extra_metrics... ['classes', 'train_i', 'train_y', 'train_predict_proba', 'test_i', 'test_y', 'test_predict_proba', 'model_size', 'model_stats', 'proc_stats']\n"
    },
    {
     "name": "stdout",
     "output_type": "stream",
     "text": "[01:06:40.761] INFO   _fit_and_score: n[70/143], model_id[split_i=0,train=28164,test=7042,classes=331,estimator=Search(n_species=82,n_recs=1.0,classifier='cls=std-sgdlog,alpha=0.0001,class_weight=balanced',random_state=0)]: fit[7.617s]\n"
    },
    {
     "name": "stdout",
     "output_type": "stream",
     "text": "[01:06:40.917] INFO   _fit_and_score: n[65/143], model_id[split_i=0,train=28164,test=7042,classes=331,estimator=Search(n_species=82,n_recs=0.5,classifier='cls=std-sgdlog,alpha=100,class_weight=balanced',random_state=0)]: extra_metrics[2.152s, 24.2 MB]: ['classes', 'train_i', 'train_y', 'train_predict_proba', 'test_i', 'test_y', 'test_predict_proba', 'model_size', 'model_stats', 'proc_stats']\n"
    },
    {
     "name": "stdout",
     "output_type": "stream",
     "text": "[01:06:40.919] INFO   _fit_and_score: n[65/143], model_id[split_i=0,train=28164,test=7042,classes=331,estimator=Search(n_species=82,n_recs=0.5,classifier='cls=std-sgdlog,alpha=100,class_weight=balanced',random_state=0)]: save: ret...\n"
    },
    {
     "name": "stdout",
     "output_type": "stream",
     "text": "[01:06:40.930] INFO   _fit_and_score: n[63/143], model_id[split_i=0,train=28164,test=7042,classes=331,estimator=Search(n_species=82,n_recs=0.5,classifier='cls=std-sgdlog,alpha=1,class_weight=balanced',random_state=0)]: save[0.247s, 24.2 MB]: ret\n"
    },
    {
     "name": "stdout",
     "output_type": "stream",
     "text": "[01:06:40.932] INFO   _fit_and_score: n[63/143], model_id[split_i=0,train=28164,test=7042,classes=331,estimator=Search(n_species=82,n_recs=0.5,classifier='cls=std-sgdlog,alpha=1,class_weight=balanced',random_state=0)]: save: estimator...\n"
    },
    {
     "name": "stdout",
     "output_type": "stream",
     "text": "[01:06:41.078] INFO   _fit_and_score: n[72/143], model_id[split_i=0,train=28164,test=7042,classes=331,estimator=Search(n_species=82,n_recs=1.0,classifier='cls=std-sgdlog,alpha=0.01,class_weight=balanced',random_state=0)]: fit[7.089s]\n"
    },
    {
     "name": "stdout",
     "output_type": "stream",
     "text": "[01:06:41.115] INFO   _fit_and_score: n[88/143], model_id[split_i=0,train=28164,test=7042,classes=331,estimator=Search(n_species=165,n_recs=0.25,classifier='cls=std-sgdlog,alpha=1000,class_weight=balanced',random_state=0)]: fit...\n"
    },
    {
     "name": "stdout",
     "output_type": "stream",
     "text": "[01:06:41.180] INFO   _fit_and_score: n[65/143], model_id[split_i=0,train=28164,test=7042,classes=331,estimator=Search(n_species=82,n_recs=0.5,classifier='cls=std-sgdlog,alpha=100,class_weight=balanced',random_state=0)]: save[0.259s, 24.2 MB]: ret\n"
    },
    {
     "name": "stdout",
     "output_type": "stream",
     "text": "[01:06:41.181] INFO   _fit_and_score: n[63/143], model_id[split_i=0,train=28164,test=7042,classes=331,estimator=Search(n_species=82,n_recs=0.5,classifier='cls=std-sgdlog,alpha=1,class_weight=balanced',random_state=0)]: save[0.247s, 22.7 MB]: estimator\n"
    },
    {
     "name": "stdout",
     "output_type": "stream",
     "text": "[01:06:41.182] INFO   _fit_and_score: n[65/143], model_id[split_i=0,train=28164,test=7042,classes=331,estimator=Search(n_species=82,n_recs=0.5,classifier='cls=std-sgdlog,alpha=100,class_weight=balanced',random_state=0)]: save: estimator...\n"
    },
    {
     "name": "stdout",
     "output_type": "stream",
     "text": "[01:06:41.275] INFO   _fit_and_score: n[71/143], model_id[split_i=0,train=28164,test=7042,classes=331,estimator=Search(n_species=82,n_recs=1.0,classifier='cls=std-sgdlog,alpha=0.001,class_weight=balanced',random_state=0)]: fit[7.732s]\n"
    },
    {
     "name": "stdout",
     "output_type": "stream",
     "text": "[01:06:41.331] INFO   _fit_and_score: n[69/143], model_id[split_i=0,train=28164,test=7042,classes=331,estimator=Search(n_species=82,n_recs=1.0,classifier='cls=std-sgdlog,alpha=.00001,class_weight=balanced',random_state=0)]: extra_metrics... ['classes', 'train_i', 'train_y', 'train_predict_proba', 'test_i', 'test_y', 'test_predict_proba', 'model_size', 'model_stats', 'proc_stats']\n"
    },
    {
     "name": "stdout",
     "output_type": "stream",
     "text": "[01:06:41.334] INFO   _fit_and_score: n[66/143], model_id[split_i=0,train=28164,test=7042,classes=331,estimator=Search(n_species=82,n_recs=0.5,classifier='cls=std-sgdlog,alpha=1000,class_weight=balanced',random_state=0)]: extra_metrics[2.419s, 24.2 MB]: ['classes', 'train_i', 'train_y', 'train_predict_proba', 'test_i', 'test_y', 'test_predict_proba', 'model_size', 'model_stats', 'proc_stats']\n"
    },
    {
     "name": "stdout",
     "output_type": "stream",
     "text": "[01:06:41.336] INFO   _fit_and_score: n[66/143], model_id[split_i=0,train=28164,test=7042,classes=331,estimator=Search(n_species=82,n_recs=0.5,classifier='cls=std-sgdlog,alpha=1000,class_weight=balanced',random_state=0)]: save: ret...\n"
    },
    {
     "name": "stdout",
     "output_type": "stream",
     "text": "[01:06:41.497] INFO   _fit_and_score: n[65/143], model_id[split_i=0,train=28164,test=7042,classes=331,estimator=Search(n_species=82,n_recs=0.5,classifier='cls=std-sgdlog,alpha=100,class_weight=balanced',random_state=0)]: save[0.313s, 22.7 MB]: estimator\n"
    },
    {
     "name": "stdout",
     "output_type": "stream",
     "text": "[01:06:41.529] INFO   _fit_and_score: n[89/143], model_id[split_i=0,train=28164,test=7042,classes=331,estimator=Search(n_species=165,n_recs=0.5,classifier='cls=std-sgdlog,alpha=.0000001,class_weight=balanced',random_state=0)]: fit...\n"
    },
    {
     "name": "stdout",
     "output_type": "stream",
     "text": "[01:06:41.638] INFO   _fit_and_score: n[73/143], model_id[split_i=0,train=28164,test=7042,classes=331,estimator=Search(n_species=82,n_recs=1.0,classifier='cls=std-sgdlog,alpha=0.1,class_weight=balanced',random_state=0)]: fit[7.294s]\n"
    },
    {
     "name": "stdout",
     "output_type": "stream",
     "text": "[01:06:41.709] INFO   _fit_and_score: n[66/143], model_id[split_i=0,train=28164,test=7042,classes=331,estimator=Search(n_species=82,n_recs=0.5,classifier='cls=std-sgdlog,alpha=1000,class_weight=balanced',random_state=0)]: save[0.372s, 24.2 MB]: ret\n"
    },
    {
     "name": "stdout",
     "output_type": "stream",
     "text": "[01:06:41.711] INFO   _fit_and_score: n[66/143], model_id[split_i=0,train=28164,test=7042,classes=331,estimator=Search(n_species=82,n_recs=0.5,classifier='cls=std-sgdlog,alpha=1000,class_weight=balanced',random_state=0)]: save: estimator...\n"
    },
    {
     "name": "stdout",
     "output_type": "stream",
     "text": "[01:06:41.765] INFO   _fit_and_score: n[70/143], model_id[split_i=0,train=28164,test=7042,classes=331,estimator=Search(n_species=82,n_recs=1.0,classifier='cls=std-sgdlog,alpha=0.0001,class_weight=balanced',random_state=0)]: extra_metrics... ['classes', 'train_i', 'train_y', 'train_predict_proba', 'test_i', 'test_y', 'test_predict_proba', 'model_size', 'model_stats', 'proc_stats']\n"
    },
    {
     "name": "stdout",
     "output_type": "stream",
     "text": "[01:06:41.905] INFO   _fit_and_score: n[67/143], model_id[split_i=0,train=28164,test=7042,classes=331,estimator=Search(n_species=82,n_recs=1.0,classifier='cls=std-sgdlog,alpha=.0000001,class_weight=balanced',random_state=0)]: extra_metrics[1.743s, 24.2 MB]: ['classes', 'train_i', 'train_y', 'train_predict_proba', 'test_i', 'test_y', 'test_predict_proba', 'model_size', 'model_stats', 'proc_stats']\n"
    },
    {
     "name": "stdout",
     "output_type": "stream",
     "text": "[01:06:41.907] INFO   _fit_and_score: n[67/143], model_id[split_i=0,train=28164,test=7042,classes=331,estimator=Search(n_species=82,n_recs=1.0,classifier='cls=std-sgdlog,alpha=.0000001,class_weight=balanced',random_state=0)]: save: ret...\n"
    },
    {
     "name": "stdout",
     "output_type": "stream",
     "text": "[01:06:41.926] INFO   _fit_and_score: n[90/143], model_id[split_i=0,train=28164,test=7042,classes=331,estimator=Search(n_species=165,n_recs=0.5,classifier='cls=std-sgdlog,alpha=.000001,class_weight=balanced',random_state=0)]: fit...\n"
    },
    {
     "name": "stdout",
     "output_type": "stream",
     "text": "[01:06:41.932] INFO   _fit_and_score: n[74/143], model_id[split_i=0,train=28164,test=7042,classes=331,estimator=Search(n_species=82,n_recs=1.0,classifier='cls=std-sgdlog,alpha=1,class_weight=balanced',random_state=0)]: fit[7.125s]\n"
    },
    {
     "name": "stdout",
     "output_type": "stream",
     "text": "[01:06:41.956] INFO   _fit_and_score: n[66/143], model_id[split_i=0,train=28164,test=7042,classes=331,estimator=Search(n_species=82,n_recs=0.5,classifier='cls=std-sgdlog,alpha=1000,class_weight=balanced',random_state=0)]: save[0.243s, 22.7 MB]: estimator\n"
    },
    {
     "name": "stdout",
     "output_type": "stream",
     "text": "[01:06:42.058] INFO   _fit_and_score: n[72/143], model_id[split_i=0,train=28164,test=7042,classes=331,estimator=Search(n_species=82,n_recs=1.0,classifier='cls=std-sgdlog,alpha=0.01,class_weight=balanced',random_state=0)]: extra_metrics... ['classes', 'train_i', 'train_y', 'train_predict_proba', 'test_i', 'test_y', 'test_predict_proba', 'model_size', 'model_stats', 'proc_stats']\n"
    },
    {
     "name": "stdout",
     "output_type": "stream",
     "text": "[01:06:42.403] INFO   _fit_and_score: n[91/143], model_id[split_i=0,train=28164,test=7042,classes=331,estimator=Search(n_species=165,n_recs=0.5,classifier='cls=std-sgdlog,alpha=.00001,class_weight=balanced',random_state=0)]: fit...\n"
    },
    {
     "name": "stdout",
     "output_type": "stream",
     "text": "[01:06:42.531] INFO   _fit_and_score: n[67/143], model_id[split_i=0,train=28164,test=7042,classes=331,estimator=Search(n_species=82,n_recs=1.0,classifier='cls=std-sgdlog,alpha=.0000001,class_weight=balanced',random_state=0)]: save[0.623s, 24.2 MB]: ret\n"
    },
    {
     "name": "stdout",
     "output_type": "stream",
     "text": "[01:06:42.534] INFO   _fit_and_score: n[67/143], model_id[split_i=0,train=28164,test=7042,classes=331,estimator=Search(n_species=82,n_recs=1.0,classifier='cls=std-sgdlog,alpha=.0000001,class_weight=balanced',random_state=0)]: save: estimator...\n"
    },
    {
     "name": "stdout",
     "output_type": "stream",
     "text": "[01:06:42.748] INFO   _fit_and_score: n[68/143], model_id[split_i=0,train=28164,test=7042,classes=331,estimator=Search(n_species=82,n_recs=1.0,classifier='cls=std-sgdlog,alpha=.000001,class_weight=balanced',random_state=0)]: extra_metrics[1.987s, 24.2 MB]: ['classes', 'train_i', 'train_y', 'train_predict_proba', 'test_i', 'test_y', 'test_predict_proba', 'model_size', 'model_stats', 'proc_stats']\n"
    },
    {
     "name": "stdout",
     "output_type": "stream",
     "text": "[01:06:42.750] INFO   _fit_and_score: n[68/143], model_id[split_i=0,train=28164,test=7042,classes=331,estimator=Search(n_species=82,n_recs=1.0,classifier='cls=std-sgdlog,alpha=.000001,class_weight=balanced',random_state=0)]: save: ret...\n"
    },
    {
     "name": "stdout",
     "output_type": "stream",
     "text": "[01:06:42.750] INFO   _fit_and_score: n[75/143], model_id[split_i=0,train=28164,test=7042,classes=331,estimator=Search(n_species=82,n_recs=1.0,classifier='cls=std-sgdlog,alpha=10,class_weight=balanced',random_state=0)]: fit[7.272s]\n"
    },
    {
     "name": "stdout",
     "output_type": "stream",
     "text": "[01:06:42.778] INFO   _fit_and_score: n[76/143], model_id[split_i=0,train=28164,test=7042,classes=331,estimator=Search(n_species=82,n_recs=1.0,classifier='cls=std-sgdlog,alpha=100,class_weight=balanced',random_state=0)]: fit[6.978s]\n"
    },
    {
     "name": "stdout",
     "output_type": "stream",
     "text": "[01:06:42.777] INFO   _fit_and_score: n[92/143], model_id[split_i=0,train=28164,test=7042,classes=331,estimator=Search(n_species=165,n_recs=0.5,classifier='cls=std-sgdlog,alpha=0.0001,class_weight=balanced',random_state=0)]: fit...\n"
    },
    {
     "name": "stdout",
     "output_type": "stream",
     "text": "[01:06:42.800] INFO   _fit_and_score: n[67/143], model_id[split_i=0,train=28164,test=7042,classes=331,estimator=Search(n_species=82,n_recs=1.0,classifier='cls=std-sgdlog,alpha=.0000001,class_weight=balanced',random_state=0)]: save[0.265s, 44.6 MB]: estimator\n"
    },
    {
     "name": "stdout",
     "output_type": "stream",
     "text": "[01:06:42.862] INFO   _fit_and_score: n[77/143], model_id[split_i=0,train=28164,test=7042,classes=331,estimator=Search(n_species=82,n_recs=1.0,classifier='cls=std-sgdlog,alpha=1000,class_weight=balanced',random_state=0)]: fit[6.485s]\n"
    },
    {
     "name": "stdout",
     "output_type": "stream",
     "text": "[01:06:43.068] INFO   _fit_and_score: n[71/143], model_id[split_i=0,train=28164,test=7042,classes=331,estimator=Search(n_species=82,n_recs=1.0,classifier='cls=std-sgdlog,alpha=0.001,class_weight=balanced',random_state=0)]: extra_metrics... ['classes', 'train_i', 'train_y', 'train_predict_proba', 'test_i', 'test_y', 'test_predict_proba', 'model_size', 'model_stats', 'proc_stats']\n"
    },
    {
     "name": "stdout",
     "output_type": "stream",
     "text": "[01:06:43.073] INFO   _fit_and_score: n[74/143], model_id[split_i=0,train=28164,test=7042,classes=331,estimator=Search(n_species=82,n_recs=1.0,classifier='cls=std-sgdlog,alpha=1,class_weight=balanced',random_state=0)]: extra_metrics... ['classes', 'train_i', 'train_y', 'train_predict_proba', 'test_i', 'test_y', 'test_predict_proba', 'model_size', 'model_stats', 'proc_stats']\n"
    },
    {
     "name": "stdout",
     "output_type": "stream",
     "text": "[01:06:43.173] INFO   _fit_and_score: n[68/143], model_id[split_i=0,train=28164,test=7042,classes=331,estimator=Search(n_species=82,n_recs=1.0,classifier='cls=std-sgdlog,alpha=.000001,class_weight=balanced',random_state=0)]: save[0.421s, 24.2 MB]: ret\n"
    },
    {
     "name": "stdout",
     "output_type": "stream",
     "text": "[01:06:43.175] INFO   _fit_and_score: n[68/143], model_id[split_i=0,train=28164,test=7042,classes=331,estimator=Search(n_species=82,n_recs=1.0,classifier='cls=std-sgdlog,alpha=.000001,class_weight=balanced',random_state=0)]: save: estimator...\n"
    },
    {
     "name": "stdout",
     "output_type": "stream",
     "text": "[01:06:43.187] INFO   _fit_and_score: n[93/143], model_id[split_i=0,train=28164,test=7042,classes=331,estimator=Search(n_species=165,n_recs=0.5,classifier='cls=std-sgdlog,alpha=0.001,class_weight=balanced',random_state=0)]: fit...\n"
    },
    {
     "name": "stderr",
     "output_type": "stream",
     "text": "/opt/conda/lib/python3.6/site-packages/sklearn/linear_model/base.py:340: RuntimeWarning: overflow encountered in exp\n  np.exp(prob, prob)\n"
    },
    {
     "name": "stderr",
     "output_type": "stream",
     "text": "/opt/conda/lib/python3.6/site-packages/sklearn/linear_model/base.py:347: RuntimeWarning: invalid value encountered in true_divide\n  prob /= prob.sum(axis=1).reshape((prob.shape[0], -1))\n"
    },
    {
     "name": "stdout",
     "output_type": "stream",
     "text": "[01:06:43.383] INFO   _fit_and_score: n[73/143], model_id[split_i=0,train=28164,test=7042,classes=331,estimator=Search(n_species=82,n_recs=1.0,classifier='cls=std-sgdlog,alpha=0.1,class_weight=balanced',random_state=0)]: extra_metrics... ['classes', 'train_i', 'train_y', 'train_predict_proba', 'test_i', 'test_y', 'test_predict_proba', 'model_size', 'model_stats', 'proc_stats']\n"
    },
    {
     "name": "stdout",
     "output_type": "stream",
     "text": "[01:06:43.612] INFO   _fit_and_score: n[94/143], model_id[split_i=0,train=28164,test=7042,classes=331,estimator=Search(n_species=165,n_recs=0.5,classifier='cls=std-sgdlog,alpha=0.01,class_weight=balanced',random_state=0)]: fit...\n"
    },
    {
     "name": "stdout",
     "output_type": "stream",
     "text": "[01:06:43.724] INFO   _fit_and_score: n[69/143], model_id[split_i=0,train=28164,test=7042,classes=331,estimator=Search(n_species=82,n_recs=1.0,classifier='cls=std-sgdlog,alpha=.00001,class_weight=balanced',random_state=0)]: extra_metrics[2.346s, 24.2 MB]: ['classes', 'train_i', 'train_y', 'train_predict_proba', 'test_i', 'test_y', 'test_predict_proba', 'model_size', 'model_stats', 'proc_stats']\n"
    },
    {
     "name": "stdout",
     "output_type": "stream",
     "text": "[01:06:43.733] INFO   _fit_and_score: n[69/143], model_id[split_i=0,train=28164,test=7042,classes=331,estimator=Search(n_species=82,n_recs=1.0,classifier='cls=std-sgdlog,alpha=.00001,class_weight=balanced',random_state=0)]: save: ret...\n"
    },
    {
     "name": "stdout",
     "output_type": "stream",
     "text": "[01:06:43.702] INFO   _fit_and_score: n[68/143], model_id[split_i=0,train=28164,test=7042,classes=331,estimator=Search(n_species=82,n_recs=1.0,classifier='cls=std-sgdlog,alpha=.000001,class_weight=balanced',random_state=0)]: save[0.525s, 44.6 MB]: estimator\n"
    },
    {
     "name": "stdout",
     "output_type": "stream",
     "text": "[01:06:43.858] INFO   _fit_and_score: n[75/143], model_id[split_i=0,train=28164,test=7042,classes=331,estimator=Search(n_species=82,n_recs=1.0,classifier='cls=std-sgdlog,alpha=10,class_weight=balanced',random_state=0)]: extra_metrics... ['classes', 'train_i', 'train_y', 'train_predict_proba', 'test_i', 'test_y', 'test_predict_proba', 'model_size', 'model_stats', 'proc_stats']\n"
    },
    {
     "name": "stdout",
     "output_type": "stream",
     "text": "[01:06:44.028] INFO   _fit_and_score: n[70/143], model_id[split_i=0,train=28164,test=7042,classes=331,estimator=Search(n_species=82,n_recs=1.0,classifier='cls=std-sgdlog,alpha=0.0001,class_weight=balanced',random_state=0)]: extra_metrics[2.216s, 24.2 MB]: ['classes', 'train_i', 'train_y', 'train_predict_proba', 'test_i', 'test_y', 'test_predict_proba', 'model_size', 'model_stats', 'proc_stats']\n"
    },
    {
     "name": "stdout",
     "output_type": "stream",
     "text": "[01:06:44.043] INFO   _fit_and_score: n[70/143], model_id[split_i=0,train=28164,test=7042,classes=331,estimator=Search(n_species=82,n_recs=1.0,classifier='cls=std-sgdlog,alpha=0.0001,class_weight=balanced',random_state=0)]: save: ret...\n"
    },
    {
     "name": "stdout",
     "output_type": "stream",
     "text": "[01:06:44.048] INFO   _fit_and_score: n[76/143], model_id[split_i=0,train=28164,test=7042,classes=331,estimator=Search(n_species=82,n_recs=1.0,classifier='cls=std-sgdlog,alpha=100,class_weight=balanced',random_state=0)]: extra_metrics... ['classes', 'train_i', 'train_y', 'train_predict_proba', 'test_i', 'test_y', 'test_predict_proba', 'model_size', 'model_stats', 'proc_stats']\n"
    },
    {
     "name": "stdout",
     "output_type": "stream",
     "text": "[01:06:44.092] INFO   _fit_and_score: n[95/143], model_id[split_i=0,train=28164,test=7042,classes=331,estimator=Search(n_species=165,n_recs=0.5,classifier='cls=std-sgdlog,alpha=0.1,class_weight=balanced',random_state=0)]: fit...\n"
    },
    {
     "name": "stdout",
     "output_type": "stream",
     "text": "[01:06:44.255] INFO   _fit_and_score: n[69/143], model_id[split_i=0,train=28164,test=7042,classes=331,estimator=Search(n_species=82,n_recs=1.0,classifier='cls=std-sgdlog,alpha=.00001,class_weight=balanced',random_state=0)]: save[0.519s, 24.2 MB]: ret\n"
    },
    {
     "name": "stderr",
     "output_type": "stream",
     "text": "/opt/conda/lib/python3.6/site-packages/sklearn/linear_model/base.py:340: RuntimeWarning: overflow encountered in exp\n  np.exp(prob, prob)\n"
    },
    {
     "name": "stdout",
     "output_type": "stream",
     "text": "[01:06:44.272] INFO   _fit_and_score: n[69/143], model_id[split_i=0,train=28164,test=7042,classes=331,estimator=Search(n_species=82,n_recs=1.0,classifier='cls=std-sgdlog,alpha=.00001,class_weight=balanced',random_state=0)]: save: estimator...\n"
    },
    {
     "name": "stderr",
     "output_type": "stream",
     "text": "/opt/conda/lib/python3.6/site-packages/sklearn/linear_model/base.py:347: RuntimeWarning: invalid value encountered in true_divide\n  prob /= prob.sum(axis=1).reshape((prob.shape[0], -1))\n"
    },
    {
     "name": "stderr",
     "output_type": "stream",
     "text": "/opt/conda/lib/python3.6/site-packages/sklearn/linear_model/base.py:340: RuntimeWarning: overflow encountered in exp\n  np.exp(prob, prob)\n"
    },
    {
     "name": "stdout",
     "output_type": "stream",
     "text": "[01:06:44.333] INFO   _fit_and_score: n[77/143], model_id[split_i=0,train=28164,test=7042,classes=331,estimator=Search(n_species=82,n_recs=1.0,classifier='cls=std-sgdlog,alpha=1000,class_weight=balanced',random_state=0)]: extra_metrics... ['classes', 'train_i', 'train_y', 'train_predict_proba', 'test_i', 'test_y', 'test_predict_proba', 'model_size', 'model_stats', 'proc_stats']\n"
    },
    {
     "name": "stderr",
     "output_type": "stream",
     "text": "/opt/conda/lib/python3.6/site-packages/sklearn/linear_model/base.py:347: RuntimeWarning: invalid value encountered in true_divide\n  prob /= prob.sum(axis=1).reshape((prob.shape[0], -1))\n"
    },
    {
     "name": "stdout",
     "output_type": "stream",
     "text": "[01:06:44.556] INFO   _fit_and_score: n[96/143], model_id[split_i=0,train=28164,test=7042,classes=331,estimator=Search(n_species=165,n_recs=0.5,classifier='cls=std-sgdlog,alpha=1,class_weight=balanced',random_state=0)]: fit...\n"
    },
    {
     "name": "stdout",
     "output_type": "stream",
     "text": "[01:06:44.596] INFO   _fit_and_score: n[70/143], model_id[split_i=0,train=28164,test=7042,classes=331,estimator=Search(n_species=82,n_recs=1.0,classifier='cls=std-sgdlog,alpha=0.0001,class_weight=balanced',random_state=0)]: save[0.544s, 24.2 MB]: ret\n"
    },
    {
     "name": "stdout",
     "output_type": "stream",
     "text": "[01:06:44.621] INFO   _fit_and_score: n[70/143], model_id[split_i=0,train=28164,test=7042,classes=331,estimator=Search(n_species=82,n_recs=1.0,classifier='cls=std-sgdlog,alpha=0.0001,class_weight=balanced',random_state=0)]: save: estimator...\n"
    },
    {
     "name": "stdout",
     "output_type": "stream",
     "text": "[01:06:44.774] INFO   _fit_and_score: n[69/143], model_id[split_i=0,train=28164,test=7042,classes=331,estimator=Search(n_species=82,n_recs=1.0,classifier='cls=std-sgdlog,alpha=.00001,class_weight=balanced',random_state=0)]: save[0.496s, 44.6 MB]: estimator\n"
    },
    {
     "name": "stdout",
     "output_type": "stream",
     "text": "[01:06:44.860] INFO   _fit_and_score: n[72/143], model_id[split_i=0,train=28164,test=7042,classes=331,estimator=Search(n_species=82,n_recs=1.0,classifier='cls=std-sgdlog,alpha=0.01,class_weight=balanced',random_state=0)]: extra_metrics[2.733s, 24.2 MB]: ['classes', 'train_i', 'train_y', 'train_predict_proba', 'test_i', 'test_y', 'test_predict_proba', 'model_size', 'model_stats', 'proc_stats']\n"
    },
    {
     "name": "stdout",
     "output_type": "stream",
     "text": "[01:06:44.862] INFO   _fit_and_score: n[72/143], model_id[split_i=0,train=28164,test=7042,classes=331,estimator=Search(n_species=82,n_recs=1.0,classifier='cls=std-sgdlog,alpha=0.01,class_weight=balanced',random_state=0)]: save: ret...\n"
    },
    {
     "name": "stdout",
     "output_type": "stream",
     "text": "[01:06:44.946] INFO   _fit_and_score: n[97/143], model_id[split_i=0,train=28164,test=7042,classes=331,estimator=Search(n_species=165,n_recs=0.5,classifier='cls=std-sgdlog,alpha=10,class_weight=balanced',random_state=0)]: fit...\n"
    },
    {
     "name": "stdout",
     "output_type": "stream",
     "text": "[01:06:45.038] INFO   _fit_and_score: n[70/143], model_id[split_i=0,train=28164,test=7042,classes=331,estimator=Search(n_species=82,n_recs=1.0,classifier='cls=std-sgdlog,alpha=0.0001,class_weight=balanced',random_state=0)]: save[0.408s, 44.6 MB]: estimator\n"
    },
    {
     "name": "stdout",
     "output_type": "stream",
     "text": "[01:06:45.096] INFO   _fit_and_score: n[72/143], model_id[split_i=0,train=28164,test=7042,classes=331,estimator=Search(n_species=82,n_recs=1.0,classifier='cls=std-sgdlog,alpha=0.01,class_weight=balanced',random_state=0)]: save[0.233s, 24.2 MB]: ret\n"
    },
    {
     "name": "stdout",
     "output_type": "stream",
     "text": "[01:06:45.098] INFO   _fit_and_score: n[72/143], model_id[split_i=0,train=28164,test=7042,classes=331,estimator=Search(n_species=82,n_recs=1.0,classifier='cls=std-sgdlog,alpha=0.01,class_weight=balanced',random_state=0)]: save: estimator...\n"
    },
    {
     "name": "stdout",
     "output_type": "stream",
     "text": "[01:06:45.355] INFO   _fit_and_score: n[98/143], model_id[split_i=0,train=28164,test=7042,classes=331,estimator=Search(n_species=165,n_recs=0.5,classifier='cls=std-sgdlog,alpha=100,class_weight=balanced',random_state=0)]: fit...\n"
    },
    {
     "name": "stderr",
     "output_type": "stream",
     "text": "/opt/conda/lib/python3.6/site-packages/sklearn/linear_model/base.py:340: RuntimeWarning: overflow encountered in exp\n  np.exp(prob, prob)\n"
    },
    {
     "name": "stderr",
     "output_type": "stream",
     "text": "/opt/conda/lib/python3.6/site-packages/sklearn/linear_model/base.py:347: RuntimeWarning: invalid value encountered in true_divide\n  prob /= prob.sum(axis=1).reshape((prob.shape[0], -1))\n"
    },
    {
     "name": "stdout",
     "output_type": "stream",
     "text": "[01:06:45.574] INFO   _fit_and_score: n[74/143], model_id[split_i=0,train=28164,test=7042,classes=331,estimator=Search(n_species=82,n_recs=1.0,classifier='cls=std-sgdlog,alpha=1,class_weight=balanced',random_state=0)]: extra_metrics[2.451s, 24.2 MB]: ['classes', 'train_i', 'train_y', 'train_predict_proba', 'test_i', 'test_y', 'test_predict_proba', 'model_size', 'model_stats', 'proc_stats']\n"
    },
    {
     "name": "stdout",
     "output_type": "stream",
     "text": "[01:06:45.550] INFO   _fit_and_score: n[72/143], model_id[split_i=0,train=28164,test=7042,classes=331,estimator=Search(n_species=82,n_recs=1.0,classifier='cls=std-sgdlog,alpha=0.01,class_weight=balanced',random_state=0)]: save[0.450s, 44.6 MB]: estimator\n"
    },
    {
     "name": "stdout",
     "output_type": "stream",
     "text": "[01:06:45.601] INFO   _fit_and_score: n[74/143], model_id[split_i=0,train=28164,test=7042,classes=331,estimator=Search(n_species=82,n_recs=1.0,classifier='cls=std-sgdlog,alpha=1,class_weight=balanced',random_state=0)]: save: ret...\n"
    },
    {
     "name": "stdout",
     "output_type": "stream",
     "text": "[01:06:45.793] INFO   _fit_and_score: n[71/143], model_id[split_i=0,train=28164,test=7042,classes=331,estimator=Search(n_species=82,n_recs=1.0,classifier='cls=std-sgdlog,alpha=0.001,class_weight=balanced',random_state=0)]: extra_metrics[2.680s, 24.2 MB]: ['classes', 'train_i', 'train_y', 'train_predict_proba', 'test_i', 'test_y', 'test_predict_proba', 'model_size', 'model_stats', 'proc_stats']\n"
    },
    {
     "name": "stdout",
     "output_type": "stream",
     "text": "[01:06:45.799] INFO   _fit_and_score: n[71/143], model_id[split_i=0,train=28164,test=7042,classes=331,estimator=Search(n_species=82,n_recs=1.0,classifier='cls=std-sgdlog,alpha=0.001,class_weight=balanced',random_state=0)]: save: ret...\n"
    },
    {
     "name": "stdout",
     "output_type": "stream",
     "text": "[01:06:45.940] INFO   _fit_and_score: n[99/143], model_id[split_i=0,train=28164,test=7042,classes=331,estimator=Search(n_species=165,n_recs=0.5,classifier='cls=std-sgdlog,alpha=1000,class_weight=balanced',random_state=0)]: fit...\n"
    },
    {
     "name": "stderr",
     "output_type": "stream",
     "text": "/opt/conda/lib/python3.6/site-packages/sklearn/linear_model/base.py:340: RuntimeWarning: overflow encountered in exp\n  np.exp(prob, prob)\n"
    },
    {
     "name": "stdout",
     "output_type": "stream",
     "text": "[01:06:46.113] INFO   _fit_and_score: n[74/143], model_id[split_i=0,train=28164,test=7042,classes=331,estimator=Search(n_species=82,n_recs=1.0,classifier='cls=std-sgdlog,alpha=1,class_weight=balanced',random_state=0)]: save[0.486s, 24.2 MB]: ret\n"
    },
    {
     "name": "stdout",
     "output_type": "stream",
     "text": "[01:06:46.116] INFO   _fit_and_score: n[74/143], model_id[split_i=0,train=28164,test=7042,classes=331,estimator=Search(n_species=82,n_recs=1.0,classifier='cls=std-sgdlog,alpha=1,class_weight=balanced',random_state=0)]: save: estimator...\n"
    },
    {
     "name": "stdout",
     "output_type": "stream",
     "text": "[01:06:46.234] INFO   _fit_and_score: n[71/143], model_id[split_i=0,train=28164,test=7042,classes=331,estimator=Search(n_species=82,n_recs=1.0,classifier='cls=std-sgdlog,alpha=0.001,class_weight=balanced',random_state=0)]: save[0.431s, 24.2 MB]: ret\n"
    },
    {
     "name": "stdout",
     "output_type": "stream",
     "text": "[01:06:46.238] INFO   _fit_and_score: n[71/143], model_id[split_i=0,train=28164,test=7042,classes=331,estimator=Search(n_species=82,n_recs=1.0,classifier='cls=std-sgdlog,alpha=0.001,class_weight=balanced',random_state=0)]: save: estimator...\n"
    },
    {
     "name": "stderr",
     "output_type": "stream",
     "text": "/opt/conda/lib/python3.6/site-packages/sklearn/linear_model/base.py:340: RuntimeWarning: overflow encountered in exp\n  np.exp(prob, prob)\n"
    },
    {
     "name": "stdout",
     "output_type": "stream",
     "text": "[01:06:46.408] INFO   _fit_and_score: n[73/143], model_id[split_i=0,train=28164,test=7042,classes=331,estimator=Search(n_species=82,n_recs=1.0,classifier='cls=std-sgdlog,alpha=0.1,class_weight=balanced',random_state=0)]: extra_metrics[2.960s, 24.2 MB]: ['classes', 'train_i', 'train_y', 'train_predict_proba', 'test_i', 'test_y', 'test_predict_proba', 'model_size', 'model_stats', 'proc_stats']\n"
    },
    {
     "name": "stdout",
     "output_type": "stream",
     "text": "[01:06:46.411] INFO   _fit_and_score: n[73/143], model_id[split_i=0,train=28164,test=7042,classes=331,estimator=Search(n_species=82,n_recs=1.0,classifier='cls=std-sgdlog,alpha=0.1,class_weight=balanced',random_state=0)]: save: ret...\n"
    },
    {
     "name": "stdout",
     "output_type": "stream",
     "text": "[01:06:46.443] INFO   _fit_and_score: n[100/143], model_id[split_i=0,train=28164,test=7042,classes=331,estimator=Search(n_species=165,n_recs=1.0,classifier='cls=std-sgdlog,alpha=.0000001,class_weight=balanced',random_state=0)]: fit...\n"
    },
    {
     "name": "stdout",
     "output_type": "stream",
     "text": "[01:06:46.556] INFO   _fit_and_score: n[74/143], model_id[split_i=0,train=28164,test=7042,classes=331,estimator=Search(n_species=82,n_recs=1.0,classifier='cls=std-sgdlog,alpha=1,class_weight=balanced',random_state=0)]: save[0.435s, 44.6 MB]: estimator\n"
    },
    {
     "name": "stdout",
     "output_type": "stream",
     "text": "[01:06:46.565] INFO   _fit_and_score: n[78/143], model_id[split_i=0,train=28164,test=7042,classes=331,estimator=Search(n_species=165,n_recs=0.25,classifier='cls=std-sgdlog,alpha=.0000001,class_weight=balanced',random_state=0)]: fit[9.701s]\n"
    },
    {
     "name": "stdout",
     "output_type": "stream",
     "text": "[01:06:46.670] INFO   _fit_and_score: n[71/143], model_id[split_i=0,train=28164,test=7042,classes=331,estimator=Search(n_species=82,n_recs=1.0,classifier='cls=std-sgdlog,alpha=0.001,class_weight=balanced',random_state=0)]: save[0.426s, 44.6 MB]: estimator\n"
    },
    {
     "name": "stdout",
     "output_type": "stream",
     "text": "[01:06:46.699] INFO   _fit_and_score: n[76/143], model_id[split_i=0,train=28164,test=7042,classes=331,estimator=Search(n_species=82,n_recs=1.0,classifier='cls=std-sgdlog,alpha=100,class_weight=balanced',random_state=0)]: extra_metrics[2.618s, 24.2 MB]: ['classes', 'train_i', 'train_y', 'train_predict_proba', 'test_i', 'test_y', 'test_predict_proba', 'model_size', 'model_stats', 'proc_stats']\n"
    },
    {
     "name": "stdout",
     "output_type": "stream",
     "text": "[01:06:46.704] INFO   _fit_and_score: n[76/143], model_id[split_i=0,train=28164,test=7042,classes=331,estimator=Search(n_species=82,n_recs=1.0,classifier='cls=std-sgdlog,alpha=100,class_weight=balanced',random_state=0)]: save: ret...\n"
    },
    {
     "name": "stdout",
     "output_type": "stream",
     "text": "[01:06:46.734] INFO   _fit_and_score: n[75/143], model_id[split_i=0,train=28164,test=7042,classes=331,estimator=Search(n_species=82,n_recs=1.0,classifier='cls=std-sgdlog,alpha=10,class_weight=balanced',random_state=0)]: extra_metrics[2.830s, 24.2 MB]: ['classes', 'train_i', 'train_y', 'train_predict_proba', 'test_i', 'test_y', 'test_predict_proba', 'model_size', 'model_stats', 'proc_stats']\n"
    },
    {
     "name": "stdout",
     "output_type": "stream",
     "text": "[01:06:46.748] INFO   _fit_and_score: n[75/143], model_id[split_i=0,train=28164,test=7042,classes=331,estimator=Search(n_species=82,n_recs=1.0,classifier='cls=std-sgdlog,alpha=10,class_weight=balanced',random_state=0)]: save: ret...\n"
    },
    {
     "name": "stdout",
     "output_type": "stream",
     "text": "[01:06:46.822] INFO   _fit_and_score: n[73/143], model_id[split_i=0,train=28164,test=7042,classes=331,estimator=Search(n_species=82,n_recs=1.0,classifier='cls=std-sgdlog,alpha=0.1,class_weight=balanced',random_state=0)]: save[0.408s, 24.2 MB]: ret\n"
    },
    {
     "name": "stdout",
     "output_type": "stream",
     "text": "[01:06:46.824] INFO   _fit_and_score: n[73/143], model_id[split_i=0,train=28164,test=7042,classes=331,estimator=Search(n_species=82,n_recs=1.0,classifier='cls=std-sgdlog,alpha=0.1,class_weight=balanced',random_state=0)]: save: estimator...\n"
    },
    {
     "name": "stdout",
     "output_type": "stream",
     "text": "[01:06:46.849] INFO   _fit_and_score: n[101/143], model_id[split_i=0,train=28164,test=7042,classes=331,estimator=Search(n_species=165,n_recs=1.0,classifier='cls=std-sgdlog,alpha=.000001,class_weight=balanced',random_state=0)]: fit...\n"
    },
    {
     "name": "stdout",
     "output_type": "stream",
     "text": "[01:06:46.985] INFO   _fit_and_score: n[77/143], model_id[split_i=0,train=28164,test=7042,classes=331,estimator=Search(n_species=82,n_recs=1.0,classifier='cls=std-sgdlog,alpha=1000,class_weight=balanced',random_state=0)]: extra_metrics[2.626s, 24.2 MB]: ['classes', 'train_i', 'train_y', 'train_predict_proba', 'test_i', 'test_y', 'test_predict_proba', 'model_size', 'model_stats', 'proc_stats']\n"
    },
    {
     "name": "stdout",
     "output_type": "stream",
     "text": "[01:06:46.987] INFO   _fit_and_score: n[77/143], model_id[split_i=0,train=28164,test=7042,classes=331,estimator=Search(n_species=82,n_recs=1.0,classifier='cls=std-sgdlog,alpha=1000,class_weight=balanced',random_state=0)]: save: ret...\n"
    },
    {
     "name": "stdout",
     "output_type": "stream",
     "text": "[01:06:47.007] INFO   _fit_and_score: n[76/143], model_id[split_i=0,train=28164,test=7042,classes=331,estimator=Search(n_species=82,n_recs=1.0,classifier='cls=std-sgdlog,alpha=100,class_weight=balanced',random_state=0)]: save[0.300s, 24.2 MB]: ret\n"
    },
    {
     "name": "stdout",
     "output_type": "stream",
     "text": "[01:06:47.010] INFO   _fit_and_score: n[76/143], model_id[split_i=0,train=28164,test=7042,classes=331,estimator=Search(n_species=82,n_recs=1.0,classifier='cls=std-sgdlog,alpha=100,class_weight=balanced',random_state=0)]: save: estimator...\n"
    },
    {
     "name": "stdout",
     "output_type": "stream",
     "text": "[01:06:47.040] INFO   _fit_and_score: n[75/143], model_id[split_i=0,train=28164,test=7042,classes=331,estimator=Search(n_species=82,n_recs=1.0,classifier='cls=std-sgdlog,alpha=10,class_weight=balanced',random_state=0)]: save[0.278s, 24.2 MB]: ret\n"
    },
    {
     "name": "stdout",
     "output_type": "stream",
     "text": "[01:06:47.042] INFO   _fit_and_score: n[75/143], model_id[split_i=0,train=28164,test=7042,classes=331,estimator=Search(n_species=82,n_recs=1.0,classifier='cls=std-sgdlog,alpha=10,class_weight=balanced',random_state=0)]: save: estimator...\n"
    },
    {
     "name": "stdout",
     "output_type": "stream",
     "text": "[01:06:47.095] INFO   _fit_and_score: n[73/143], model_id[split_i=0,train=28164,test=7042,classes=331,estimator=Search(n_species=82,n_recs=1.0,classifier='cls=std-sgdlog,alpha=0.1,class_weight=balanced',random_state=0)]: save[0.269s, 44.6 MB]: estimator\n"
    },
    {
     "name": "stdout",
     "output_type": "stream",
     "text": "[01:06:47.206] INFO   _fit_and_score: n[77/143], model_id[split_i=0,train=28164,test=7042,classes=331,estimator=Search(n_species=82,n_recs=1.0,classifier='cls=std-sgdlog,alpha=1000,class_weight=balanced',random_state=0)]: save[0.218s, 24.2 MB]: ret\n"
    },
    {
     "name": "stdout",
     "output_type": "stream",
     "text": "[01:06:47.208] INFO   _fit_and_score: n[77/143], model_id[split_i=0,train=28164,test=7042,classes=331,estimator=Search(n_species=82,n_recs=1.0,classifier='cls=std-sgdlog,alpha=1000,class_weight=balanced',random_state=0)]: save: estimator...\n"
    },
    {
     "name": "stdout",
     "output_type": "stream",
     "text": "[01:06:47.245] INFO   _fit_and_score: n[102/143], model_id[split_i=0,train=28164,test=7042,classes=331,estimator=Search(n_species=165,n_recs=1.0,classifier='cls=std-sgdlog,alpha=.00001,class_weight=balanced',random_state=0)]: fit...\n"
    },
    {
     "name": "stdout",
     "output_type": "stream",
     "text": "[01:06:47.267] INFO   _fit_and_score: n[80/143], model_id[split_i=0,train=28164,test=7042,classes=331,estimator=Search(n_species=165,n_recs=0.25,classifier='cls=std-sgdlog,alpha=.00001,class_weight=balanced',random_state=0)]: fit[9.764s]\n"
    },
    {
     "name": "stdout",
     "output_type": "stream",
     "text": "[01:06:47.281] INFO   _fit_and_score: n[76/143], model_id[split_i=0,train=28164,test=7042,classes=331,estimator=Search(n_species=82,n_recs=1.0,classifier='cls=std-sgdlog,alpha=100,class_weight=balanced',random_state=0)]: save[0.269s, 44.6 MB]: estimator\n"
    },
    {
     "name": "stdout",
     "output_type": "stream",
     "text": "[01:06:47.317] INFO   _fit_and_score: n[75/143], model_id[split_i=0,train=28164,test=7042,classes=331,estimator=Search(n_species=82,n_recs=1.0,classifier='cls=std-sgdlog,alpha=10,class_weight=balanced',random_state=0)]: save[0.274s, 44.6 MB]: estimator\n"
    },
    {
     "name": "stdout",
     "output_type": "stream",
     "text": "[01:06:47.330] INFO   _fit_and_score: n[79/143], model_id[split_i=0,train=28164,test=7042,classes=331,estimator=Search(n_species=165,n_recs=0.25,classifier='cls=std-sgdlog,alpha=.000001,class_weight=balanced',random_state=0)]: fit[10.125s]\n"
    },
    {
     "name": "stdout",
     "output_type": "stream",
     "text": "[01:06:47.489] INFO   _fit_and_score: n[77/143], model_id[split_i=0,train=28164,test=7042,classes=331,estimator=Search(n_species=82,n_recs=1.0,classifier='cls=std-sgdlog,alpha=1000,class_weight=balanced',random_state=0)]: save[0.279s, 44.6 MB]: estimator\n"
    },
    {
     "name": "stdout",
     "output_type": "stream",
     "text": "[01:06:47.704] INFO   _fit_and_score: n[103/143], model_id[split_i=0,train=28164,test=7042,classes=331,estimator=Search(n_species=165,n_recs=1.0,classifier='cls=std-sgdlog,alpha=0.0001,class_weight=balanced',random_state=0)]: fit...\n"
    },
    {
     "name": "stdout",
     "output_type": "stream",
     "text": "[01:06:48.058] INFO   _fit_and_score: n[78/143], model_id[split_i=0,train=28164,test=7042,classes=331,estimator=Search(n_species=165,n_recs=0.25,classifier='cls=std-sgdlog,alpha=.0000001,class_weight=balanced',random_state=0)]: extra_metrics... ['classes', 'train_i', 'train_y', 'train_predict_proba', 'test_i', 'test_y', 'test_predict_proba', 'model_size', 'model_stats', 'proc_stats']\n"
    },
    {
     "name": "stdout",
     "output_type": "stream",
     "text": "[01:06:48.183] INFO   _fit_and_score: n[104/143], model_id[split_i=0,train=28164,test=7042,classes=331,estimator=Search(n_species=165,n_recs=1.0,classifier='cls=std-sgdlog,alpha=0.001,class_weight=balanced',random_state=0)]: fit...\n"
    },
    {
     "name": "stdout",
     "output_type": "stream",
     "text": "[01:06:48.189] INFO   _fit_and_score: n[81/143], model_id[split_i=0,train=28164,test=7042,classes=331,estimator=Search(n_species=165,n_recs=0.25,classifier='cls=std-sgdlog,alpha=0.0001,class_weight=balanced',random_state=0)]: fit[10.176s]\n"
    },
    {
     "name": "stdout",
     "output_type": "stream",
     "text": "[01:06:48.638] INFO   _fit_and_score: n[105/143], model_id[split_i=0,train=28164,test=7042,classes=331,estimator=Search(n_species=165,n_recs=1.0,classifier='cls=std-sgdlog,alpha=0.01,class_weight=balanced',random_state=0)]: fit...\n"
    },
    {
     "name": "stdout",
     "output_type": "stream",
     "text": "[01:06:48.647] INFO   _fit_and_score: n[83/143], model_id[split_i=0,train=28164,test=7042,classes=331,estimator=Search(n_species=165,n_recs=0.25,classifier='cls=std-sgdlog,alpha=0.01,class_weight=balanced',random_state=0)]: fit[9.643s]\n"
    },
    {
     "name": "stdout",
     "output_type": "stream",
     "text": "[01:06:48.980] INFO   _fit_and_score: n[80/143], model_id[split_i=0,train=28164,test=7042,classes=331,estimator=Search(n_species=165,n_recs=0.25,classifier='cls=std-sgdlog,alpha=.00001,class_weight=balanced',random_state=0)]: extra_metrics... ['classes', 'train_i', 'train_y', 'train_predict_proba', 'test_i', 'test_y', 'test_predict_proba', 'model_size', 'model_stats', 'proc_stats']\n"
    },
    {
     "name": "stdout",
     "output_type": "stream",
     "text": "[01:06:49.024] INFO   _fit_and_score: n[79/143], model_id[split_i=0,train=28164,test=7042,classes=331,estimator=Search(n_species=165,n_recs=0.25,classifier='cls=std-sgdlog,alpha=.000001,class_weight=balanced',random_state=0)]: extra_metrics... ['classes', 'train_i', 'train_y', 'train_predict_proba', 'test_i', 'test_y', 'test_predict_proba', 'model_size', 'model_stats', 'proc_stats']\n"
    },
    {
     "name": "stdout",
     "output_type": "stream",
     "text": "[01:06:49.055] INFO   _fit_and_score: n[106/143], model_id[split_i=0,train=28164,test=7042,classes=331,estimator=Search(n_species=165,n_recs=1.0,classifier='cls=std-sgdlog,alpha=0.1,class_weight=balanced',random_state=0)]: fit...\n"
    },
    {
     "name": "stdout",
     "output_type": "stream",
     "text": "[01:06:49.462] INFO   _fit_and_score: n[84/143], model_id[split_i=0,train=28164,test=7042,classes=331,estimator=Search(n_species=165,n_recs=0.25,classifier='cls=std-sgdlog,alpha=0.1,class_weight=balanced',random_state=0)]: fit[9.662s]\n"
    },
    {
     "name": "stdout",
     "output_type": "stream",
     "text": "[01:06:49.464] INFO   _fit_and_score: n[82/143], model_id[split_i=0,train=28164,test=7042,classes=331,estimator=Search(n_species=165,n_recs=0.25,classifier='cls=std-sgdlog,alpha=0.001,class_weight=balanced',random_state=0)]: fit[10.892s]\n"
    },
    {
     "name": "stdout",
     "output_type": "stream",
     "text": "[01:06:49.503] INFO   _fit_and_score: n[107/143], model_id[split_i=0,train=28164,test=7042,classes=331,estimator=Search(n_species=165,n_recs=1.0,classifier='cls=std-sgdlog,alpha=1,class_weight=balanced',random_state=0)]: fit...\n"
    },
    {
     "name": "stdout",
     "output_type": "stream",
     "text": "[01:06:50.004] INFO   _fit_and_score: n[108/143], model_id[split_i=0,train=28164,test=7042,classes=331,estimator=Search(n_species=165,n_recs=1.0,classifier='cls=std-sgdlog,alpha=10,class_weight=balanced',random_state=0)]: fit...\n"
    },
    {
     "name": "stdout",
     "output_type": "stream",
     "text": "[01:06:50.365] INFO   _fit_and_score: n[85/143], model_id[split_i=0,train=28164,test=7042,classes=331,estimator=Search(n_species=165,n_recs=0.25,classifier='cls=std-sgdlog,alpha=1,class_weight=balanced',random_state=0)]: fit[10.103s]\n"
    },
    {
     "name": "stdout",
     "output_type": "stream",
     "text": "[01:06:50.436] INFO   _fit_and_score: n[109/143], model_id[split_i=0,train=28164,test=7042,classes=331,estimator=Search(n_species=165,n_recs=1.0,classifier='cls=std-sgdlog,alpha=100,class_weight=balanced',random_state=0)]: fit...\n"
    },
    {
     "name": "stderr",
     "output_type": "stream",
     "text": "/opt/conda/lib/python3.6/site-packages/sklearn/linear_model/base.py:340: RuntimeWarning: overflow encountered in exp\n  np.exp(prob, prob)\n"
    },
    {
     "name": "stderr",
     "output_type": "stream",
     "text": "/opt/conda/lib/python3.6/site-packages/sklearn/linear_model/base.py:347: RuntimeWarning: invalid value encountered in true_divide\n  prob /= prob.sum(axis=1).reshape((prob.shape[0], -1))\n"
    },
    {
     "name": "stdout",
     "output_type": "stream",
     "text": "[01:06:50.780] INFO   _fit_and_score: n[82/143], model_id[split_i=0,train=28164,test=7042,classes=331,estimator=Search(n_species=165,n_recs=0.25,classifier='cls=std-sgdlog,alpha=0.001,class_weight=balanced',random_state=0)]: extra_metrics... ['classes', 'train_i', 'train_y', 'train_predict_proba', 'test_i', 'test_y', 'test_predict_proba', 'model_size', 'model_stats', 'proc_stats']\n"
    },
    {
     "name": "stdout",
     "output_type": "stream",
     "text": "[01:06:50.915] INFO   _fit_and_score: n[81/143], model_id[split_i=0,train=28164,test=7042,classes=331,estimator=Search(n_species=165,n_recs=0.25,classifier='cls=std-sgdlog,alpha=0.0001,class_weight=balanced',random_state=0)]: extra_metrics... ['classes', 'train_i', 'train_y', 'train_predict_proba', 'test_i', 'test_y', 'test_predict_proba', 'model_size', 'model_stats', 'proc_stats']\n"
    },
    {
     "name": "stdout",
     "output_type": "stream",
     "text": "[01:06:51.001] INFO   _fit_and_score: n[110/143], model_id[split_i=0,train=28164,test=7042,classes=331,estimator=Search(n_species=165,n_recs=1.0,classifier='cls=std-sgdlog,alpha=1000,class_weight=balanced',random_state=0)]: fit...\n"
    },
    {
     "name": "stdout",
     "output_type": "stream",
     "text": "[01:06:51.157] INFO   _fit_and_score: n[83/143], model_id[split_i=0,train=28164,test=7042,classes=331,estimator=Search(n_species=165,n_recs=0.25,classifier='cls=std-sgdlog,alpha=0.01,class_weight=balanced',random_state=0)]: extra_metrics... ['classes', 'train_i', 'train_y', 'train_predict_proba', 'test_i', 'test_y', 'test_predict_proba', 'model_size', 'model_stats', 'proc_stats']\n"
    },
    {
     "name": "stdout",
     "output_type": "stream",
     "text": "[01:06:51.298] INFO   _fit_and_score: n[78/143], model_id[split_i=0,train=28164,test=7042,classes=331,estimator=Search(n_species=165,n_recs=0.25,classifier='cls=std-sgdlog,alpha=.0000001,class_weight=balanced',random_state=0)]: extra_metrics[3.116s, 47.6 MB]: ['classes', 'train_i', 'train_y', 'train_predict_proba', 'test_i', 'test_y', 'test_predict_proba', 'model_size', 'model_stats', 'proc_stats']\n"
    },
    {
     "name": "stdout",
     "output_type": "stream",
     "text": "[01:06:51.301] INFO   _fit_and_score: n[78/143], model_id[split_i=0,train=28164,test=7042,classes=331,estimator=Search(n_species=165,n_recs=0.25,classifier='cls=std-sgdlog,alpha=.0000001,class_weight=balanced',random_state=0)]: save: ret...\n"
    },
    {
     "name": "stdout",
     "output_type": "stream",
     "text": "[01:06:51.461] INFO   _fit_and_score: n[111/143], model_id[split_i=0,train=28164,test=7042,classes=331,estimator=Search(n_species=331,n_recs=0.25,classifier='cls=std-sgdlog,alpha=.0000001,class_weight=balanced',random_state=0)]: fit...\n"
    },
    {
     "name": "stdout",
     "output_type": "stream",
     "text": "[01:06:51.523] INFO   _fit_and_score: n[87/143], model_id[split_i=0,train=28164,test=7042,classes=331,estimator=Search(n_species=165,n_recs=0.25,classifier='cls=std-sgdlog,alpha=100,class_weight=balanced',random_state=0)]: fit[10.505s]\n"
    },
    {
     "name": "stdout",
     "output_type": "stream",
     "text": "[01:06:51.671] INFO   _fit_and_score: n[86/143], model_id[split_i=0,train=28164,test=7042,classes=331,estimator=Search(n_species=165,n_recs=0.25,classifier='cls=std-sgdlog,alpha=10,class_weight=balanced',random_state=0)]: fit[11.025s]\n"
    },
    {
     "name": "stderr",
     "output_type": "stream",
     "text": "/opt/conda/lib/python3.6/site-packages/sklearn/linear_model/base.py:340: RuntimeWarning: overflow encountered in exp\n  np.exp(prob, prob)\n"
    },
    {
     "name": "stderr",
     "output_type": "stream",
     "text": "/opt/conda/lib/python3.6/site-packages/sklearn/linear_model/base.py:347: RuntimeWarning: invalid value encountered in true_divide\n  prob /= prob.sum(axis=1).reshape((prob.shape[0], -1))\n"
    },
    {
     "name": "stdout",
     "output_type": "stream",
     "text": "[01:06:52.026] INFO   _fit_and_score: n[112/143], model_id[split_i=0,train=28164,test=7042,classes=331,estimator=Search(n_species=331,n_recs=0.25,classifier='cls=std-sgdlog,alpha=.000001,class_weight=balanced',random_state=0)]: fit...\n"
    },
    {
     "name": "stdout",
     "output_type": "stream",
     "text": "[01:06:52.372] INFO   _fit_and_score: n[84/143], model_id[split_i=0,train=28164,test=7042,classes=331,estimator=Search(n_species=165,n_recs=0.25,classifier='cls=std-sgdlog,alpha=0.1,class_weight=balanced',random_state=0)]: extra_metrics... ['classes', 'train_i', 'train_y', 'train_predict_proba', 'test_i', 'test_y', 'test_predict_proba', 'model_size', 'model_stats', 'proc_stats']\n"
    },
    {
     "name": "stdout",
     "output_type": "stream",
     "text": "[01:06:53.167] INFO   _fit_and_score: n[113/143], model_id[split_i=0,train=28164,test=7042,classes=331,estimator=Search(n_species=331,n_recs=0.25,classifier='cls=std-sgdlog,alpha=.00001,class_weight=balanced',random_state=0)]: fit...\n"
    },
    {
     "name": "stdout",
     "output_type": "stream",
     "text": "[01:06:53.386] INFO   _fit_and_score: n[78/143], model_id[split_i=0,train=28164,test=7042,classes=331,estimator=Search(n_species=165,n_recs=0.25,classifier='cls=std-sgdlog,alpha=.0000001,class_weight=balanced',random_state=0)]: save[2.082s, 47.6 MB]: ret\n"
    },
    {
     "name": "stdout",
     "output_type": "stream",
     "text": "[01:06:53.422] INFO   _fit_and_score: n[78/143], model_id[split_i=0,train=28164,test=7042,classes=331,estimator=Search(n_species=165,n_recs=0.25,classifier='cls=std-sgdlog,alpha=.0000001,class_weight=balanced',random_state=0)]: save: estimator...\n"
    },
    {
     "name": "stdout",
     "output_type": "stream",
     "text": "[01:06:53.701] INFO   _fit_and_score: n[88/143], model_id[split_i=0,train=28164,test=7042,classes=331,estimator=Search(n_species=165,n_recs=0.25,classifier='cls=std-sgdlog,alpha=1000,class_weight=balanced',random_state=0)]: fit[12.283s]\n"
    },
    {
     "name": "stderr",
     "output_type": "stream",
     "text": "/opt/conda/lib/python3.6/site-packages/sklearn/linear_model/base.py:340: RuntimeWarning: overflow encountered in exp\n  np.exp(prob, prob)\n"
    },
    {
     "name": "stderr",
     "output_type": "stream",
     "text": "/opt/conda/lib/python3.6/site-packages/sklearn/linear_model/base.py:347: RuntimeWarning: invalid value encountered in true_divide\n  prob /= prob.sum(axis=1).reshape((prob.shape[0], -1))\n"
    },
    {
     "name": "stdout",
     "output_type": "stream",
     "text": "[01:06:54.924] INFO   _fit_and_score: n[79/143], model_id[split_i=0,train=28164,test=7042,classes=331,estimator=Search(n_species=165,n_recs=0.25,classifier='cls=std-sgdlog,alpha=.000001,class_weight=balanced',random_state=0)]: extra_metrics[5.204s, 47.6 MB]: ['classes', 'train_i', 'train_y', 'train_predict_proba', 'test_i', 'test_y', 'test_predict_proba', 'model_size', 'model_stats', 'proc_stats']\n"
    },
    {
     "name": "stdout",
     "output_type": "stream",
     "text": "[01:06:54.951] INFO   _fit_and_score: n[79/143], model_id[split_i=0,train=28164,test=7042,classes=331,estimator=Search(n_species=165,n_recs=0.25,classifier='cls=std-sgdlog,alpha=.000001,class_weight=balanced',random_state=0)]: save: ret...\n"
    },
    {
     "name": "stdout",
     "output_type": "stream",
     "text": "[01:06:55.057] INFO   _fit_and_score: n[114/143], model_id[split_i=0,train=28164,test=7042,classes=331,estimator=Search(n_species=331,n_recs=0.25,classifier='cls=std-sgdlog,alpha=0.0001,class_weight=balanced',random_state=0)]: fit...\n"
    },
    {
     "name": "stdout",
     "output_type": "stream",
     "text": "[01:06:55.096] INFO   _fit_and_score: n[78/143], model_id[split_i=0,train=28164,test=7042,classes=331,estimator=Search(n_species=165,n_recs=0.25,classifier='cls=std-sgdlog,alpha=.0000001,class_weight=balanced',random_state=0)]: save[1.626s, 22.3 MB]: estimator\n"
    },
    {
     "name": "stdout",
     "output_type": "stream",
     "text": "[01:06:55.256] INFO   _fit_and_score: n[85/143], model_id[split_i=0,train=28164,test=7042,classes=331,estimator=Search(n_species=165,n_recs=0.25,classifier='cls=std-sgdlog,alpha=1,class_weight=balanced',random_state=0)]: extra_metrics... ['classes', 'train_i', 'train_y', 'train_predict_proba', 'test_i', 'test_y', 'test_predict_proba', 'model_size', 'model_stats', 'proc_stats']\n"
    },
    {
     "name": "stdout",
     "output_type": "stream",
     "text": "[01:06:55.331] INFO   _fit_and_score: n[80/143], model_id[split_i=0,train=28164,test=7042,classes=331,estimator=Search(n_species=165,n_recs=0.25,classifier='cls=std-sgdlog,alpha=.00001,class_weight=balanced',random_state=0)]: extra_metrics[6.080s, 47.6 MB]: ['classes', 'train_i', 'train_y', 'train_predict_proba', 'test_i', 'test_y', 'test_predict_proba', 'model_size', 'model_stats', 'proc_stats']\n"
    },
    {
     "name": "stdout",
     "output_type": "stream",
     "text": "[01:06:55.355] INFO   _fit_and_score: n[80/143], model_id[split_i=0,train=28164,test=7042,classes=331,estimator=Search(n_species=165,n_recs=0.25,classifier='cls=std-sgdlog,alpha=.00001,class_weight=balanced',random_state=0)]: save: ret...\n"
    },
    {
     "name": "stderr",
     "output_type": "stream",
     "text": "/opt/conda/lib/python3.6/site-packages/sklearn/linear_model/base.py:340: RuntimeWarning: overflow encountered in exp\n  np.exp(prob, prob)\n"
    },
    {
     "name": "stderr",
     "output_type": "stream",
     "text": "/opt/conda/lib/python3.6/site-packages/sklearn/linear_model/base.py:347: RuntimeWarning: invalid value encountered in true_divide\n  prob /= prob.sum(axis=1).reshape((prob.shape[0], -1))\n"
    },
    {
     "name": "stdout",
     "output_type": "stream",
     "text": "[01:06:55.960] INFO   _fit_and_score: n[115/143], model_id[split_i=0,train=28164,test=7042,classes=331,estimator=Search(n_species=331,n_recs=0.25,classifier='cls=std-sgdlog,alpha=0.001,class_weight=balanced',random_state=0)]: fit...\n"
    },
    {
     "name": "stdout",
     "output_type": "stream",
     "text": "[01:06:56.096] INFO   _fit_and_score: n[80/143], model_id[split_i=0,train=28164,test=7042,classes=331,estimator=Search(n_species=165,n_recs=0.25,classifier='cls=std-sgdlog,alpha=.00001,class_weight=balanced',random_state=0)]: save[0.708s, 47.6 MB]: ret\n"
    },
    {
     "name": "stdout",
     "output_type": "stream",
     "text": "[01:06:56.100] INFO   _fit_and_score: n[80/143], model_id[split_i=0,train=28164,test=7042,classes=331,estimator=Search(n_species=165,n_recs=0.25,classifier='cls=std-sgdlog,alpha=.00001,class_weight=balanced',random_state=0)]: save: estimator...\n"
    },
    {
     "name": "stdout",
     "output_type": "stream",
     "text": "[01:06:56.110] INFO   _fit_and_score: n[86/143], model_id[split_i=0,train=28164,test=7042,classes=331,estimator=Search(n_species=165,n_recs=0.25,classifier='cls=std-sgdlog,alpha=10,class_weight=balanced',random_state=0)]: extra_metrics... ['classes', 'train_i', 'train_y', 'train_predict_proba', 'test_i', 'test_y', 'test_predict_proba', 'model_size', 'model_stats', 'proc_stats']\n"
    },
    {
     "name": "stdout",
     "output_type": "stream",
     "text": "[01:06:56.241] INFO   _fit_and_score: n[79/143], model_id[split_i=0,train=28164,test=7042,classes=331,estimator=Search(n_species=165,n_recs=0.25,classifier='cls=std-sgdlog,alpha=.000001,class_weight=balanced',random_state=0)]: save[1.274s, 47.6 MB]: ret\n"
    },
    {
     "name": "stdout",
     "output_type": "stream",
     "text": "[01:06:56.244] INFO   _fit_and_score: n[79/143], model_id[split_i=0,train=28164,test=7042,classes=331,estimator=Search(n_species=165,n_recs=0.25,classifier='cls=std-sgdlog,alpha=.000001,class_weight=balanced',random_state=0)]: save: estimator...\n"
    },
    {
     "name": "stdout",
     "output_type": "stream",
     "text": "[01:06:56.268] INFO   _fit_and_score: n[87/143], model_id[split_i=0,train=28164,test=7042,classes=331,estimator=Search(n_species=165,n_recs=0.25,classifier='cls=std-sgdlog,alpha=100,class_weight=balanced',random_state=0)]: extra_metrics... ['classes', 'train_i', 'train_y', 'train_predict_proba', 'test_i', 'test_y', 'test_predict_proba', 'model_size', 'model_stats', 'proc_stats']\n"
    },
    {
     "name": "stdout",
     "output_type": "stream",
     "text": "[01:06:56.368] INFO   _fit_and_score: n[116/143], model_id[split_i=0,train=28164,test=7042,classes=331,estimator=Search(n_species=331,n_recs=0.25,classifier='cls=std-sgdlog,alpha=0.01,class_weight=balanced',random_state=0)]: fit...\n"
    },
    {
     "name": "stdout",
     "output_type": "stream",
     "text": "[01:06:56.415] INFO   _fit_and_score: n[80/143], model_id[split_i=0,train=28164,test=7042,classes=331,estimator=Search(n_species=165,n_recs=0.25,classifier='cls=std-sgdlog,alpha=.00001,class_weight=balanced',random_state=0)]: save[0.312s, 22.3 MB]: estimator\n"
    },
    {
     "name": "stdout",
     "output_type": "stream",
     "text": "[01:06:56.541] INFO   _fit_and_score: n[79/143], model_id[split_i=0,train=28164,test=7042,classes=331,estimator=Search(n_species=165,n_recs=0.25,classifier='cls=std-sgdlog,alpha=.000001,class_weight=balanced',random_state=0)]: save[0.295s, 22.3 MB]: estimator\n"
    },
    {
     "name": "stdout",
     "output_type": "stream",
     "text": "[01:06:56.650] INFO   _fit_and_score: n[82/143], model_id[split_i=0,train=28164,test=7042,classes=331,estimator=Search(n_species=165,n_recs=0.25,classifier='cls=std-sgdlog,alpha=0.001,class_weight=balanced',random_state=0)]: extra_metrics[5.766s, 47.6 MB]: ['classes', 'train_i', 'train_y', 'train_predict_proba', 'test_i', 'test_y', 'test_predict_proba', 'model_size', 'model_stats', 'proc_stats']\n"
    },
    {
     "name": "stdout",
     "output_type": "stream",
     "text": "[01:06:56.652] INFO   _fit_and_score: n[82/143], model_id[split_i=0,train=28164,test=7042,classes=331,estimator=Search(n_species=165,n_recs=0.25,classifier='cls=std-sgdlog,alpha=0.001,class_weight=balanced',random_state=0)]: save: ret...\n"
    },
    {
     "name": "stdout",
     "output_type": "stream",
     "text": "[01:06:56.662] INFO   _fit_and_score: n[81/143], model_id[split_i=0,train=28164,test=7042,classes=331,estimator=Search(n_species=165,n_recs=0.25,classifier='cls=std-sgdlog,alpha=0.0001,class_weight=balanced',random_state=0)]: extra_metrics[5.584s, 47.6 MB]: ['classes', 'train_i', 'train_y', 'train_predict_proba', 'test_i', 'test_y', 'test_predict_proba', 'model_size', 'model_stats', 'proc_stats']\n"
    },
    {
     "name": "stdout",
     "output_type": "stream",
     "text": "[01:06:56.664] INFO   _fit_and_score: n[81/143], model_id[split_i=0,train=28164,test=7042,classes=331,estimator=Search(n_species=165,n_recs=0.25,classifier='cls=std-sgdlog,alpha=0.0001,class_weight=balanced',random_state=0)]: save: ret...\n"
    },
    {
     "name": "stdout",
     "output_type": "stream",
     "text": "[01:06:56.675] INFO   _fit_and_score: n[89/143], model_id[split_i=0,train=28164,test=7042,classes=331,estimator=Search(n_species=165,n_recs=0.5,classifier='cls=std-sgdlog,alpha=.0000001,class_weight=balanced',random_state=0)]: fit[14.794s]\n"
    },
    {
     "name": "stdout",
     "output_type": "stream",
     "text": "[01:06:56.699] INFO   _fit_and_score: n[88/143], model_id[split_i=0,train=28164,test=7042,classes=331,estimator=Search(n_species=165,n_recs=0.25,classifier='cls=std-sgdlog,alpha=1000,class_weight=balanced',random_state=0)]: extra_metrics... ['classes', 'train_i', 'train_y', 'train_predict_proba', 'test_i', 'test_y', 'test_predict_proba', 'model_size', 'model_stats', 'proc_stats']\n"
    },
    {
     "name": "stdout",
     "output_type": "stream",
     "text": "[01:06:56.822] INFO   _fit_and_score: n[117/143], model_id[split_i=0,train=28164,test=7042,classes=331,estimator=Search(n_species=331,n_recs=0.25,classifier='cls=std-sgdlog,alpha=0.1,class_weight=balanced',random_state=0)]: fit...\n"
    },
    {
     "name": "stderr",
     "output_type": "stream",
     "text": "/opt/conda/lib/python3.6/site-packages/sklearn/linear_model/base.py:340: RuntimeWarning: overflow encountered in exp\n  np.exp(prob, prob)\n"
    },
    {
     "name": "stdout",
     "output_type": "stream",
     "text": "[01:06:57.605] INFO   _fit_and_score: n[81/143], model_id[split_i=0,train=28164,test=7042,classes=331,estimator=Search(n_species=165,n_recs=0.25,classifier='cls=std-sgdlog,alpha=0.0001,class_weight=balanced',random_state=0)]: save[0.938s, 47.6 MB]: ret\n"
    },
    {
     "name": "stdout",
     "output_type": "stream",
     "text": "[01:06:57.644] INFO   _fit_and_score: n[81/143], model_id[split_i=0,train=28164,test=7042,classes=331,estimator=Search(n_species=165,n_recs=0.25,classifier='cls=std-sgdlog,alpha=0.0001,class_weight=balanced',random_state=0)]: save: estimator...\n"
    },
    {
     "name": "stderr",
     "output_type": "stream",
     "text": "/opt/conda/lib/python3.6/site-packages/sklearn/linear_model/base.py:340: RuntimeWarning: overflow encountered in exp\n  np.exp(prob, prob)\n"
    },
    {
     "name": "stdout",
     "output_type": "stream",
     "text": "[01:06:57.775] INFO   _fit_and_score: n[90/143], model_id[split_i=0,train=28164,test=7042,classes=331,estimator=Search(n_species=165,n_recs=0.5,classifier='cls=std-sgdlog,alpha=.000001,class_weight=balanced',random_state=0)]: fit[15.290s]\n"
    },
    {
     "name": "stdout",
     "output_type": "stream",
     "text": "[01:06:57.888] INFO   _fit_and_score: n[118/143], model_id[split_i=0,train=28164,test=7042,classes=331,estimator=Search(n_species=331,n_recs=0.25,classifier='cls=std-sgdlog,alpha=1,class_weight=balanced',random_state=0)]: fit...\n"
    },
    {
     "name": "stdout",
     "output_type": "stream",
     "text": "[01:06:58.011] INFO   _fit_and_score: n[82/143], model_id[split_i=0,train=28164,test=7042,classes=331,estimator=Search(n_species=165,n_recs=0.25,classifier='cls=std-sgdlog,alpha=0.001,class_weight=balanced',random_state=0)]: save[1.357s, 47.6 MB]: ret\n"
    },
    {
     "name": "stdout",
     "output_type": "stream",
     "text": "[01:06:58.039] INFO   _fit_and_score: n[82/143], model_id[split_i=0,train=28164,test=7042,classes=331,estimator=Search(n_species=165,n_recs=0.25,classifier='cls=std-sgdlog,alpha=0.001,class_weight=balanced',random_state=0)]: save: estimator...\n"
    },
    {
     "name": "stdout",
     "output_type": "stream",
     "text": "[01:06:58.075] INFO   _fit_and_score: n[83/143], model_id[split_i=0,train=28164,test=7042,classes=331,estimator=Search(n_species=165,n_recs=0.25,classifier='cls=std-sgdlog,alpha=0.01,class_weight=balanced',random_state=0)]: extra_metrics[6.373s, 47.6 MB]: ['classes', 'train_i', 'train_y', 'train_predict_proba', 'test_i', 'test_y', 'test_predict_proba', 'model_size', 'model_stats', 'proc_stats']\n"
    },
    {
     "name": "stdout",
     "output_type": "stream",
     "text": "[01:06:58.104] INFO   _fit_and_score: n[83/143], model_id[split_i=0,train=28164,test=7042,classes=331,estimator=Search(n_species=165,n_recs=0.25,classifier='cls=std-sgdlog,alpha=0.01,class_weight=balanced',random_state=0)]: save: ret...\n"
    },
    {
     "name": "stdout",
     "output_type": "stream",
     "text": "[01:06:58.282] INFO   _fit_and_score: n[91/143], model_id[split_i=0,train=28164,test=7042,classes=331,estimator=Search(n_species=165,n_recs=0.5,classifier='cls=std-sgdlog,alpha=.00001,class_weight=balanced',random_state=0)]: fit[15.473s]\n"
    },
    {
     "name": "stdout",
     "output_type": "stream",
     "text": "[01:06:58.541] INFO   _fit_and_score: n[84/143], model_id[split_i=0,train=28164,test=7042,classes=331,estimator=Search(n_species=165,n_recs=0.25,classifier='cls=std-sgdlog,alpha=0.1,class_weight=balanced',random_state=0)]: extra_metrics[5.939s, 47.6 MB]: ['classes', 'train_i', 'train_y', 'train_predict_proba', 'test_i', 'test_y', 'test_predict_proba', 'model_size', 'model_stats', 'proc_stats']\n"
    },
    {
     "name": "stdout",
     "output_type": "stream",
     "text": "[01:06:58.582] INFO   _fit_and_score: n[84/143], model_id[split_i=0,train=28164,test=7042,classes=331,estimator=Search(n_species=165,n_recs=0.25,classifier='cls=std-sgdlog,alpha=0.1,class_weight=balanced',random_state=0)]: save: ret...\n"
    },
    {
     "name": "stdout",
     "output_type": "stream",
     "text": "[01:06:58.591] INFO   _fit_and_score: n[81/143], model_id[split_i=0,train=28164,test=7042,classes=331,estimator=Search(n_species=165,n_recs=0.25,classifier='cls=std-sgdlog,alpha=0.0001,class_weight=balanced',random_state=0)]: save[0.923s, 22.3 MB]: estimator\n"
    },
    {
     "name": "stdout",
     "output_type": "stream",
     "text": "[01:06:58.654] INFO   _fit_and_score: n[119/143], model_id[split_i=0,train=28164,test=7042,classes=331,estimator=Search(n_species=331,n_recs=0.25,classifier='cls=std-sgdlog,alpha=10,class_weight=balanced',random_state=0)]: fit...\n"
    },
    {
     "name": "stdout",
     "output_type": "stream",
     "text": "[01:06:58.840] INFO   _fit_and_score: n[82/143], model_id[split_i=0,train=28164,test=7042,classes=331,estimator=Search(n_species=165,n_recs=0.25,classifier='cls=std-sgdlog,alpha=0.001,class_weight=balanced',random_state=0)]: save[0.776s, 22.3 MB]: estimator\n"
    },
    {
     "name": "stdout",
     "output_type": "stream",
     "text": "[01:06:59.146] INFO   _fit_and_score: n[83/143], model_id[split_i=0,train=28164,test=7042,classes=331,estimator=Search(n_species=165,n_recs=0.25,classifier='cls=std-sgdlog,alpha=0.01,class_weight=balanced',random_state=0)]: save[1.037s, 47.6 MB]: ret\n"
    },
    {
     "name": "stdout",
     "output_type": "stream",
     "text": "[01:06:59.188] INFO   _fit_and_score: n[83/143], model_id[split_i=0,train=28164,test=7042,classes=331,estimator=Search(n_species=165,n_recs=0.25,classifier='cls=std-sgdlog,alpha=0.01,class_weight=balanced',random_state=0)]: save: estimator...\n"
    },
    {
     "name": "stdout",
     "output_type": "stream",
     "text": "[01:06:59.338] INFO   _fit_and_score: n[89/143], model_id[split_i=0,train=28164,test=7042,classes=331,estimator=Search(n_species=165,n_recs=0.5,classifier='cls=std-sgdlog,alpha=.0000001,class_weight=balanced',random_state=0)]: extra_metrics... ['classes', 'train_i', 'train_y', 'train_predict_proba', 'test_i', 'test_y', 'test_predict_proba', 'model_size', 'model_stats', 'proc_stats']\n"
    },
    {
     "name": "stdout",
     "output_type": "stream",
     "text": "[01:06:59.384] INFO   _fit_and_score: n[92/143], model_id[split_i=0,train=28164,test=7042,classes=331,estimator=Search(n_species=165,n_recs=0.5,classifier='cls=std-sgdlog,alpha=0.0001,class_weight=balanced',random_state=0)]: fit[16.218s]\n"
    },
    {
     "name": "stdout",
     "output_type": "stream",
     "text": "[01:06:59.475] INFO   _fit_and_score: n[120/143], model_id[split_i=0,train=28164,test=7042,classes=331,estimator=Search(n_species=331,n_recs=0.25,classifier='cls=std-sgdlog,alpha=100,class_weight=balanced',random_state=0)]: fit...\n"
    },
    {
     "name": "stdout",
     "output_type": "stream",
     "text": "[01:07:00.136] INFO   _fit_and_score: n[121/143], model_id[split_i=0,train=28164,test=7042,classes=331,estimator=Search(n_species=331,n_recs=0.25,classifier='cls=std-sgdlog,alpha=1000,class_weight=balanced',random_state=0)]: fit...\n"
    },
    {
     "name": "stdout",
     "output_type": "stream",
     "text": "[01:07:00.551] INFO   _fit_and_score: n[85/143], model_id[split_i=0,train=28164,test=7042,classes=331,estimator=Search(n_species=165,n_recs=0.25,classifier='cls=std-sgdlog,alpha=1,class_weight=balanced',random_state=0)]: extra_metrics[4.372s, 47.6 MB]: ['classes', 'train_i', 'train_y', 'train_predict_proba', 'test_i', 'test_y', 'test_predict_proba', 'model_size', 'model_stats', 'proc_stats']\n"
    },
    {
     "name": "stdout",
     "output_type": "stream",
     "text": "[01:07:00.581] INFO   _fit_and_score: n[85/143], model_id[split_i=0,train=28164,test=7042,classes=331,estimator=Search(n_species=165,n_recs=0.25,classifier='cls=std-sgdlog,alpha=1,class_weight=balanced',random_state=0)]: save: ret...\n"
    },
    {
     "name": "stdout",
     "output_type": "stream",
     "text": "[01:07:00.614] INFO   _fit_and_score: n[84/143], model_id[split_i=0,train=28164,test=7042,classes=331,estimator=Search(n_species=165,n_recs=0.25,classifier='cls=std-sgdlog,alpha=0.1,class_weight=balanced',random_state=0)]: save[2.008s, 47.6 MB]: ret\n"
    },
    {
     "name": "stdout",
     "output_type": "stream",
     "text": "[01:07:00.654] INFO   _fit_and_score: n[84/143], model_id[split_i=0,train=28164,test=7042,classes=331,estimator=Search(n_species=165,n_recs=0.25,classifier='cls=std-sgdlog,alpha=0.1,class_weight=balanced',random_state=0)]: save: estimator...\n"
    },
    {
     "name": "stdout",
     "output_type": "stream",
     "text": "[01:07:00.754] INFO   _fit_and_score: n[122/143], model_id[split_i=0,train=28164,test=7042,classes=331,estimator=Search(n_species=331,n_recs=0.5,classifier='cls=std-sgdlog,alpha=.0000001,class_weight=balanced',random_state=0)]: fit...\n"
    },
    {
     "name": "stdout",
     "output_type": "stream",
     "text": "[01:07:01.173] INFO   _fit_and_score: n[83/143], model_id[split_i=0,train=28164,test=7042,classes=331,estimator=Search(n_species=165,n_recs=0.25,classifier='cls=std-sgdlog,alpha=0.01,class_weight=balanced',random_state=0)]: save[1.960s, 22.3 MB]: estimator\n"
    },
    {
     "name": "stdout",
     "output_type": "stream",
     "text": "[01:07:01.665] INFO   _fit_and_score: n[123/143], model_id[split_i=0,train=28164,test=7042,classes=331,estimator=Search(n_species=331,n_recs=0.5,classifier='cls=std-sgdlog,alpha=.000001,class_weight=balanced',random_state=0)]: fit...\n"
    },
    {
     "name": "stdout",
     "output_type": "stream",
     "text": "[01:07:01.980] INFO   _fit_and_score: n[90/143], model_id[split_i=0,train=28164,test=7042,classes=331,estimator=Search(n_species=165,n_recs=0.5,classifier='cls=std-sgdlog,alpha=.000001,class_weight=balanced',random_state=0)]: extra_metrics... ['classes', 'train_i', 'train_y', 'train_predict_proba', 'test_i', 'test_y', 'test_predict_proba', 'model_size', 'model_stats', 'proc_stats']\n"
    },
    {
     "name": "stdout",
     "output_type": "stream",
     "text": "[01:07:02.546] INFO   _fit_and_score: n[124/143], model_id[split_i=0,train=28164,test=7042,classes=331,estimator=Search(n_species=331,n_recs=0.5,classifier='cls=std-sgdlog,alpha=.00001,class_weight=balanced',random_state=0)]: fit...\n"
    },
    {
     "name": "stdout",
     "output_type": "stream",
     "text": "[01:07:02.569] INFO   _fit_and_score: n[84/143], model_id[split_i=0,train=28164,test=7042,classes=331,estimator=Search(n_species=165,n_recs=0.25,classifier='cls=std-sgdlog,alpha=0.1,class_weight=balanced',random_state=0)]: save[1.891s, 22.3 MB]: estimator\n"
    },
    {
     "name": "stdout",
     "output_type": "stream",
     "text": "[01:07:03.587] INFO   _fit_and_score: n[85/143], model_id[split_i=0,train=28164,test=7042,classes=331,estimator=Search(n_species=165,n_recs=0.25,classifier='cls=std-sgdlog,alpha=1,class_weight=balanced',random_state=0)]: save[2.980s, 47.6 MB]: ret\n"
    },
    {
     "name": "stdout",
     "output_type": "stream",
     "text": "[01:07:03.628] INFO   _fit_and_score: n[85/143], model_id[split_i=0,train=28164,test=7042,classes=331,estimator=Search(n_species=165,n_recs=0.25,classifier='cls=std-sgdlog,alpha=1,class_weight=balanced',random_state=0)]: save: estimator...\n"
    },
    {
     "name": "stdout",
     "output_type": "stream",
     "text": "[01:07:03.834] INFO   _fit_and_score: n[86/143], model_id[split_i=0,train=28164,test=7042,classes=331,estimator=Search(n_species=165,n_recs=0.25,classifier='cls=std-sgdlog,alpha=10,class_weight=balanced',random_state=0)]: extra_metrics[6.945s, 47.6 MB]: ['classes', 'train_i', 'train_y', 'train_predict_proba', 'test_i', 'test_y', 'test_predict_proba', 'model_size', 'model_stats', 'proc_stats']\n"
    },
    {
     "name": "stdout",
     "output_type": "stream",
     "text": "[01:07:03.863] INFO   _fit_and_score: n[86/143], model_id[split_i=0,train=28164,test=7042,classes=331,estimator=Search(n_species=165,n_recs=0.25,classifier='cls=std-sgdlog,alpha=10,class_weight=balanced',random_state=0)]: save: ret...\n"
    },
    {
     "name": "stdout",
     "output_type": "stream",
     "text": "[01:07:03.950] INFO   _fit_and_score: n[93/143], model_id[split_i=0,train=28164,test=7042,classes=331,estimator=Search(n_species=165,n_recs=0.5,classifier='cls=std-sgdlog,alpha=0.001,class_weight=balanced',random_state=0)]: fit[20.372s]\n"
    },
    {
     "name": "stdout",
     "output_type": "stream",
     "text": "[01:07:04.057] INFO   _fit_and_score: n[125/143], model_id[split_i=0,train=28164,test=7042,classes=331,estimator=Search(n_species=331,n_recs=0.5,classifier='cls=std-sgdlog,alpha=0.0001,class_weight=balanced',random_state=0)]: fit...\n"
    },
    {
     "name": "stdout",
     "output_type": "stream",
     "text": "[01:07:04.549] INFO   _fit_and_score: n[87/143], model_id[split_i=0,train=28164,test=7042,classes=331,estimator=Search(n_species=165,n_recs=0.25,classifier='cls=std-sgdlog,alpha=100,class_weight=balanced',random_state=0)]: extra_metrics[7.087s, 47.6 MB]: ['classes', 'train_i', 'train_y', 'train_predict_proba', 'test_i', 'test_y', 'test_predict_proba', 'model_size', 'model_stats', 'proc_stats']\n"
    },
    {
     "name": "stdout",
     "output_type": "stream",
     "text": "[01:07:04.574] INFO   _fit_and_score: n[87/143], model_id[split_i=0,train=28164,test=7042,classes=331,estimator=Search(n_species=165,n_recs=0.25,classifier='cls=std-sgdlog,alpha=100,class_weight=balanced',random_state=0)]: save: ret...\n"
    },
    {
     "name": "stdout",
     "output_type": "stream",
     "text": "[01:07:04.661] INFO   _fit_and_score: n[126/143], model_id[split_i=0,train=28164,test=7042,classes=331,estimator=Search(n_species=331,n_recs=0.5,classifier='cls=std-sgdlog,alpha=0.001,class_weight=balanced',random_state=0)]: fit...\n"
    },
    {
     "name": "stdout",
     "output_type": "stream",
     "text": "[01:07:04.889] INFO   _fit_and_score: n[85/143], model_id[split_i=0,train=28164,test=7042,classes=331,estimator=Search(n_species=165,n_recs=0.25,classifier='cls=std-sgdlog,alpha=1,class_weight=balanced',random_state=0)]: save[1.235s, 22.3 MB]: estimator\n"
    },
    {
     "name": "stdout",
     "output_type": "stream",
     "text": "[01:07:04.941] INFO   _fit_and_score: n[94/143], model_id[split_i=0,train=28164,test=7042,classes=331,estimator=Search(n_species=165,n_recs=0.5,classifier='cls=std-sgdlog,alpha=0.01,class_weight=balanced',random_state=0)]: fit[20.786s]\n"
    },
    {
     "name": "stdout",
     "output_type": "stream",
     "text": "[01:07:05.206] INFO   _fit_and_score: n[127/143], model_id[split_i=0,train=28164,test=7042,classes=331,estimator=Search(n_species=331,n_recs=0.5,classifier='cls=std-sgdlog,alpha=0.01,class_weight=balanced',random_state=0)]: fit...\n"
    },
    {
     "name": "stdout",
     "output_type": "stream",
     "text": "[01:07:05.217] INFO   _fit_and_score: n[91/143], model_id[split_i=0,train=28164,test=7042,classes=331,estimator=Search(n_species=165,n_recs=0.5,classifier='cls=std-sgdlog,alpha=.00001,class_weight=balanced',random_state=0)]: extra_metrics... ['classes', 'train_i', 'train_y', 'train_predict_proba', 'test_i', 'test_y', 'test_predict_proba', 'model_size', 'model_stats', 'proc_stats']\n"
    },
    {
     "name": "stdout",
     "output_type": "stream",
     "text": "[01:07:05.476] INFO   _fit_and_score: n[86/143], model_id[split_i=0,train=28164,test=7042,classes=331,estimator=Search(n_species=165,n_recs=0.25,classifier='cls=std-sgdlog,alpha=10,class_weight=balanced',random_state=0)]: save[1.592s, 47.6 MB]: ret\n"
    },
    {
     "name": "stdout",
     "output_type": "stream",
     "text": "[01:07:05.498] INFO   _fit_and_score: n[86/143], model_id[split_i=0,train=28164,test=7042,classes=331,estimator=Search(n_species=165,n_recs=0.25,classifier='cls=std-sgdlog,alpha=10,class_weight=balanced',random_state=0)]: save: estimator...\n"
    },
    {
     "name": "stdout",
     "output_type": "stream",
     "text": "[01:07:05.952] INFO   _fit_and_score: n[88/143], model_id[split_i=0,train=28164,test=7042,classes=331,estimator=Search(n_species=165,n_recs=0.25,classifier='cls=std-sgdlog,alpha=1000,class_weight=balanced',random_state=0)]: extra_metrics[8.105s, 47.6 MB]: ['classes', 'train_i', 'train_y', 'train_predict_proba', 'test_i', 'test_y', 'test_predict_proba', 'model_size', 'model_stats', 'proc_stats']\n"
    },
    {
     "name": "stdout",
     "output_type": "stream",
     "text": "[01:07:05.985] INFO   _fit_and_score: n[88/143], model_id[split_i=0,train=28164,test=7042,classes=331,estimator=Search(n_species=165,n_recs=0.25,classifier='cls=std-sgdlog,alpha=1000,class_weight=balanced',random_state=0)]: save: ret...\n"
    },
    {
     "name": "stdout",
     "output_type": "stream",
     "text": "[01:07:06.208] INFO   _fit_and_score: n[128/143], model_id[split_i=0,train=28164,test=7042,classes=331,estimator=Search(n_species=331,n_recs=0.5,classifier='cls=std-sgdlog,alpha=0.1,class_weight=balanced',random_state=0)]: fit...\n"
    },
    {
     "name": "stderr",
     "output_type": "stream",
     "text": "/opt/conda/lib/python3.6/site-packages/sklearn/linear_model/base.py:340: RuntimeWarning: overflow encountered in exp\n  np.exp(prob, prob)\n"
    },
    {
     "name": "stderr",
     "output_type": "stream",
     "text": "/opt/conda/lib/python3.6/site-packages/sklearn/linear_model/base.py:347: RuntimeWarning: invalid value encountered in true_divide\n  prob /= prob.sum(axis=1).reshape((prob.shape[0], -1))\n"
    },
    {
     "name": "stdout",
     "output_type": "stream",
     "text": "[01:07:06.590] INFO   _fit_and_score: n[87/143], model_id[split_i=0,train=28164,test=7042,classes=331,estimator=Search(n_species=165,n_recs=0.25,classifier='cls=std-sgdlog,alpha=100,class_weight=balanced',random_state=0)]: save[1.992s, 47.6 MB]: ret\n"
    },
    {
     "name": "stdout",
     "output_type": "stream",
     "text": "[01:07:06.619] INFO   _fit_and_score: n[87/143], model_id[split_i=0,train=28164,test=7042,classes=331,estimator=Search(n_species=165,n_recs=0.25,classifier='cls=std-sgdlog,alpha=100,class_weight=balanced',random_state=0)]: save: estimator...\n"
    },
    {
     "name": "stdout",
     "output_type": "stream",
     "text": "[01:07:06.702] INFO   _fit_and_score: n[86/143], model_id[split_i=0,train=28164,test=7042,classes=331,estimator=Search(n_species=165,n_recs=0.25,classifier='cls=std-sgdlog,alpha=10,class_weight=balanced',random_state=0)]: save[1.179s, 22.3 MB]: estimator\n"
    },
    {
     "name": "stdout",
     "output_type": "stream",
     "text": "[01:07:06.882] INFO   _fit_and_score: n[92/143], model_id[split_i=0,train=28164,test=7042,classes=331,estimator=Search(n_species=165,n_recs=0.5,classifier='cls=std-sgdlog,alpha=0.0001,class_weight=balanced',random_state=0)]: extra_metrics... ['classes', 'train_i', 'train_y', 'train_predict_proba', 'test_i', 'test_y', 'test_predict_proba', 'model_size', 'model_stats', 'proc_stats']\n"
    },
    {
     "name": "stdout",
     "output_type": "stream",
     "text": "[01:07:07.010] INFO   _fit_and_score: n[95/143], model_id[split_i=0,train=28164,test=7042,classes=331,estimator=Search(n_species=165,n_recs=0.5,classifier='cls=std-sgdlog,alpha=0.1,class_weight=balanced',random_state=0)]: fit[22.416s]\n"
    },
    {
     "name": "stdout",
     "output_type": "stream",
     "text": "[01:07:07.421] INFO   _fit_and_score: n[129/143], model_id[split_i=0,train=28164,test=7042,classes=331,estimator=Search(n_species=331,n_recs=0.5,classifier='cls=std-sgdlog,alpha=1,class_weight=balanced',random_state=0)]: fit...\n"
    },
    {
     "name": "stdout",
     "output_type": "stream",
     "text": "[01:07:08.584] INFO   _fit_and_score: n[130/143], model_id[split_i=0,train=28164,test=7042,classes=331,estimator=Search(n_species=331,n_recs=0.5,classifier='cls=std-sgdlog,alpha=10,class_weight=balanced',random_state=0)]: fit...\n"
    },
    {
     "name": "stdout",
     "output_type": "stream",
     "text": "[01:07:09.324] INFO   _fit_and_score: n[88/143], model_id[split_i=0,train=28164,test=7042,classes=331,estimator=Search(n_species=165,n_recs=0.25,classifier='cls=std-sgdlog,alpha=1000,class_weight=balanced',random_state=0)]: save[3.317s, 47.6 MB]: ret\n"
    },
    {
     "name": "stdout",
     "output_type": "stream",
     "text": "[01:07:09.360] INFO   _fit_and_score: n[88/143], model_id[split_i=0,train=28164,test=7042,classes=331,estimator=Search(n_species=165,n_recs=0.25,classifier='cls=std-sgdlog,alpha=1000,class_weight=balanced',random_state=0)]: save: estimator...\n"
    },
    {
     "name": "stdout",
     "output_type": "stream",
     "text": "[01:07:09.559] INFO   _fit_and_score: n[87/143], model_id[split_i=0,train=28164,test=7042,classes=331,estimator=Search(n_species=165,n_recs=0.25,classifier='cls=std-sgdlog,alpha=100,class_weight=balanced',random_state=0)]: save[2.907s, 22.3 MB]: estimator\n"
    },
    {
     "name": "stdout",
     "output_type": "stream",
     "text": "[01:07:10.734] INFO   _fit_and_score: n[131/143], model_id[split_i=0,train=28164,test=7042,classes=331,estimator=Search(n_species=331,n_recs=0.5,classifier='cls=std-sgdlog,alpha=100,class_weight=balanced',random_state=0)]: fit...\n"
    },
    {
     "name": "stderr",
     "output_type": "stream",
     "text": "/opt/conda/lib/python3.6/site-packages/sklearn/linear_model/base.py:340: RuntimeWarning: overflow encountered in exp\n  np.exp(prob, prob)\n"
    },
    {
     "name": "stdout",
     "output_type": "stream",
     "text": "[01:07:11.101] INFO   _fit_and_score: n[98/143], model_id[split_i=0,train=28164,test=7042,classes=331,estimator=Search(n_species=165,n_recs=0.5,classifier='cls=std-sgdlog,alpha=100,class_weight=balanced',random_state=0)]: fit[25.334s]\n"
    },
    {
     "name": "stderr",
     "output_type": "stream",
     "text": "/opt/conda/lib/python3.6/site-packages/sklearn/linear_model/base.py:347: RuntimeWarning: invalid value encountered in true_divide\n  prob /= prob.sum(axis=1).reshape((prob.shape[0], -1))\n"
    },
    {
     "name": "stdout",
     "output_type": "stream",
     "text": "[01:07:11.751] INFO   _fit_and_score: n[132/143], model_id[split_i=0,train=28164,test=7042,classes=331,estimator=Search(n_species=331,n_recs=0.5,classifier='cls=std-sgdlog,alpha=1000,class_weight=balanced',random_state=0)]: fit...\n"
    },
    {
     "name": "stdout",
     "output_type": "stream",
     "text": "[01:07:11.959] INFO   _fit_and_score: n[94/143], model_id[split_i=0,train=28164,test=7042,classes=331,estimator=Search(n_species=165,n_recs=0.5,classifier='cls=std-sgdlog,alpha=0.01,class_weight=balanced',random_state=0)]: extra_metrics... ['classes', 'train_i', 'train_y', 'train_predict_proba', 'test_i', 'test_y', 'test_predict_proba', 'model_size', 'model_stats', 'proc_stats']\n"
    },
    {
     "name": "stdout",
     "output_type": "stream",
     "text": "[01:07:12.013] INFO   _fit_and_score: n[88/143], model_id[split_i=0,train=28164,test=7042,classes=331,estimator=Search(n_species=165,n_recs=0.25,classifier='cls=std-sgdlog,alpha=1000,class_weight=balanced',random_state=0)]: save[2.633s, 22.3 MB]: estimator\n"
    },
    {
     "name": "stderr",
     "output_type": "stream",
     "text": "/opt/conda/lib/python3.6/site-packages/sklearn/linear_model/base.py:340: RuntimeWarning: overflow encountered in exp\n  np.exp(prob, prob)\n"
    },
    {
     "name": "stderr",
     "output_type": "stream",
     "text": "/opt/conda/lib/python3.6/site-packages/sklearn/linear_model/base.py:347: RuntimeWarning: invalid value encountered in true_divide\n  prob /= prob.sum(axis=1).reshape((prob.shape[0], -1))\n"
    },
    {
     "name": "stdout",
     "output_type": "stream",
     "text": "[01:07:12.479] INFO   _fit_and_score: n[89/143], model_id[split_i=0,train=28164,test=7042,classes=331,estimator=Search(n_species=165,n_recs=0.5,classifier='cls=std-sgdlog,alpha=.0000001,class_weight=balanced',random_state=0)]: extra_metrics[12.908s, 47.6 MB]: ['classes', 'train_i', 'train_y', 'train_predict_proba', 'test_i', 'test_y', 'test_predict_proba', 'model_size', 'model_stats', 'proc_stats']\n"
    },
    {
     "name": "stdout",
     "output_type": "stream",
     "text": "[01:07:12.508] INFO   _fit_and_score: n[89/143], model_id[split_i=0,train=28164,test=7042,classes=331,estimator=Search(n_species=165,n_recs=0.5,classifier='cls=std-sgdlog,alpha=.0000001,class_weight=balanced',random_state=0)]: save: ret...\n"
    },
    {
     "name": "stdout",
     "output_type": "stream",
     "text": "[01:07:12.783] INFO   _fit_and_score: n[96/143], model_id[split_i=0,train=28164,test=7042,classes=331,estimator=Search(n_species=165,n_recs=0.5,classifier='cls=std-sgdlog,alpha=1,class_weight=balanced',random_state=0)]: fit[27.643s]\n"
    },
    {
     "name": "stdout",
     "output_type": "stream",
     "text": "[01:07:12.875] INFO   _fit_and_score: n[93/143], model_id[split_i=0,train=28164,test=7042,classes=331,estimator=Search(n_species=165,n_recs=0.5,classifier='cls=std-sgdlog,alpha=0.001,class_weight=balanced',random_state=0)]: extra_metrics... ['classes', 'train_i', 'train_y', 'train_predict_proba', 'test_i', 'test_y', 'test_predict_proba', 'model_size', 'model_stats', 'proc_stats']\n"
    },
    {
     "name": "stdout",
     "output_type": "stream",
     "text": "[01:07:12.975] INFO   _fit_and_score: n[99/143], model_id[split_i=0,train=28164,test=7042,classes=331,estimator=Search(n_species=165,n_recs=0.5,classifier='cls=std-sgdlog,alpha=1000,class_weight=balanced',random_state=0)]: fit[26.395s]\n"
    },
    {
     "name": "stdout",
     "output_type": "stream",
     "text": "[01:07:13.457] INFO   _fit_and_score: n[133/143], model_id[split_i=0,train=28164,test=7042,classes=331,estimator=Search(n_species=331,n_recs=1.0,classifier='cls=std-sgdlog,alpha=.0000001,class_weight=balanced',random_state=0)]: fit...\n"
    },
    {
     "name": "stdout",
     "output_type": "stream",
     "text": "[01:07:14.025] INFO   _fit_and_score: n[95/143], model_id[split_i=0,train=28164,test=7042,classes=331,estimator=Search(n_species=165,n_recs=0.5,classifier='cls=std-sgdlog,alpha=0.1,class_weight=balanced',random_state=0)]: extra_metrics... ['classes', 'train_i', 'train_y', 'train_predict_proba', 'test_i', 'test_y', 'test_predict_proba', 'model_size', 'model_stats', 'proc_stats']\n"
    },
    {
     "name": "stdout",
     "output_type": "stream",
     "text": "[01:07:14.487] INFO   _fit_and_score: n[89/143], model_id[split_i=0,train=28164,test=7042,classes=331,estimator=Search(n_species=165,n_recs=0.5,classifier='cls=std-sgdlog,alpha=.0000001,class_weight=balanced',random_state=0)]: save[1.944s, 47.6 MB]: ret\n"
    },
    {
     "name": "stdout",
     "output_type": "stream",
     "text": "[01:07:14.527] INFO   _fit_and_score: n[89/143], model_id[split_i=0,train=28164,test=7042,classes=331,estimator=Search(n_species=165,n_recs=0.5,classifier='cls=std-sgdlog,alpha=.0000001,class_weight=balanced',random_state=0)]: save: estimator...\n"
    },
    {
     "name": "stdout",
     "output_type": "stream",
     "text": "[01:07:15.010] INFO   _fit_and_score: n[97/143], model_id[split_i=0,train=28164,test=7042,classes=331,estimator=Search(n_species=165,n_recs=0.5,classifier='cls=std-sgdlog,alpha=10,class_weight=balanced',random_state=0)]: fit[29.725s]\n"
    },
    {
     "name": "stdout",
     "output_type": "stream",
     "text": "[01:07:15.078] INFO   _fit_and_score: n[134/143], model_id[split_i=0,train=28164,test=7042,classes=331,estimator=Search(n_species=331,n_recs=1.0,classifier='cls=std-sgdlog,alpha=.000001,class_weight=balanced',random_state=0)]: fit...\n"
    },
    {
     "name": "stderr",
     "output_type": "stream",
     "text": "/opt/conda/lib/python3.6/site-packages/sklearn/linear_model/base.py:340: RuntimeWarning: overflow encountered in exp\n  np.exp(prob, prob)\n"
    },
    {
     "name": "stderr",
     "output_type": "stream",
     "text": "/opt/conda/lib/python3.6/site-packages/sklearn/linear_model/base.py:347: RuntimeWarning: invalid value encountered in true_divide\n  prob /= prob.sum(axis=1).reshape((prob.shape[0], -1))\n"
    },
    {
     "name": "stdout",
     "output_type": "stream",
     "text": "[01:07:15.780] INFO   _fit_and_score: n[98/143], model_id[split_i=0,train=28164,test=7042,classes=331,estimator=Search(n_species=165,n_recs=0.5,classifier='cls=std-sgdlog,alpha=100,class_weight=balanced',random_state=0)]: extra_metrics... ['classes', 'train_i', 'train_y', 'train_predict_proba', 'test_i', 'test_y', 'test_predict_proba', 'model_size', 'model_stats', 'proc_stats']\n"
    },
    {
     "name": "stdout",
     "output_type": "stream",
     "text": "[01:07:15.819] INFO   _fit_and_score: n[89/143], model_id[split_i=0,train=28164,test=7042,classes=331,estimator=Search(n_species=165,n_recs=0.5,classifier='cls=std-sgdlog,alpha=.0000001,class_weight=balanced',random_state=0)]: save[1.266s, 43.1 MB]: estimator\n"
    },
    {
     "name": "stdout",
     "output_type": "stream",
     "text": "[01:07:16.053] INFO   _fit_and_score: n[135/143], model_id[split_i=0,train=28164,test=7042,classes=331,estimator=Search(n_species=331,n_recs=1.0,classifier='cls=std-sgdlog,alpha=.00001,class_weight=balanced',random_state=0)]: fit...\n"
    },
    {
     "name": "stdout",
     "output_type": "stream",
     "text": "[01:07:16.152] INFO   _fit_and_score: n[92/143], model_id[split_i=0,train=28164,test=7042,classes=331,estimator=Search(n_species=165,n_recs=0.5,classifier='cls=std-sgdlog,alpha=0.0001,class_weight=balanced',random_state=0)]: extra_metrics[9.117s, 47.6 MB]: ['classes', 'train_i', 'train_y', 'train_predict_proba', 'test_i', 'test_y', 'test_predict_proba', 'model_size', 'model_stats', 'proc_stats']\n"
    },
    {
     "name": "stdout",
     "output_type": "stream",
     "text": "[01:07:16.159] INFO   _fit_and_score: n[92/143], model_id[split_i=0,train=28164,test=7042,classes=331,estimator=Search(n_species=165,n_recs=0.5,classifier='cls=std-sgdlog,alpha=0.0001,class_weight=balanced',random_state=0)]: save: ret...\n"
    },
    {
     "name": "stdout",
     "output_type": "stream",
     "text": "[01:07:16.179] INFO   _fit_and_score: n[100/143], model_id[split_i=0,train=28164,test=7042,classes=331,estimator=Search(n_species=165,n_recs=1.0,classifier='cls=std-sgdlog,alpha=.0000001,class_weight=balanced',random_state=0)]: fit[29.339s]\n"
    },
    {
     "name": "stdout",
     "output_type": "stream",
     "text": "[01:07:16.271] INFO   _fit_and_score: n[97/143], model_id[split_i=0,train=28164,test=7042,classes=331,estimator=Search(n_species=165,n_recs=0.5,classifier='cls=std-sgdlog,alpha=10,class_weight=balanced',random_state=0)]: extra_metrics... ['classes', 'train_i', 'train_y', 'train_predict_proba', 'test_i', 'test_y', 'test_predict_proba', 'model_size', 'model_stats', 'proc_stats']\n"
    },
    {
     "name": "stdout",
     "output_type": "stream",
     "text": "[01:07:16.302] INFO   _fit_and_score: n[90/143], model_id[split_i=0,train=28164,test=7042,classes=331,estimator=Search(n_species=165,n_recs=0.5,classifier='cls=std-sgdlog,alpha=.000001,class_weight=balanced',random_state=0)]: extra_metrics[14.119s, 47.6 MB]: ['classes', 'train_i', 'train_y', 'train_predict_proba', 'test_i', 'test_y', 'test_predict_proba', 'model_size', 'model_stats', 'proc_stats']\n"
    },
    {
     "name": "stdout",
     "output_type": "stream",
     "text": "[01:07:16.327] INFO   _fit_and_score: n[90/143], model_id[split_i=0,train=28164,test=7042,classes=331,estimator=Search(n_species=165,n_recs=0.5,classifier='cls=std-sgdlog,alpha=.000001,class_weight=balanced',random_state=0)]: save: ret...\n"
    },
    {
     "name": "stdout",
     "output_type": "stream",
     "text": "[01:07:16.653] INFO   _fit_and_score: n[136/143], model_id[split_i=0,train=28164,test=7042,classes=331,estimator=Search(n_species=331,n_recs=1.0,classifier='cls=std-sgdlog,alpha=0.0001,class_weight=balanced',random_state=0)]: fit...\n"
    },
    {
     "name": "stdout",
     "output_type": "stream",
     "text": "[01:07:16.975] INFO   _fit_and_score: n[92/143], model_id[split_i=0,train=28164,test=7042,classes=331,estimator=Search(n_species=165,n_recs=0.5,classifier='cls=std-sgdlog,alpha=0.0001,class_weight=balanced',random_state=0)]: save[0.809s, 47.6 MB]: ret\n"
    },
    {
     "name": "stdout",
     "output_type": "stream",
     "text": "[01:07:16.978] INFO   _fit_and_score: n[92/143], model_id[split_i=0,train=28164,test=7042,classes=331,estimator=Search(n_species=165,n_recs=0.5,classifier='cls=std-sgdlog,alpha=0.0001,class_weight=balanced',random_state=0)]: save: estimator...\n"
    },
    {
     "name": "stdout",
     "output_type": "stream",
     "text": "[01:07:17.101] INFO   _fit_and_score: n[102/143], model_id[split_i=0,train=28164,test=7042,classes=331,estimator=Search(n_species=165,n_recs=1.0,classifier='cls=std-sgdlog,alpha=.00001,class_weight=balanced',random_state=0)]: fit[29.405s]\n"
    },
    {
     "name": "stdout",
     "output_type": "stream",
     "text": "[01:07:17.102] INFO   _fit_and_score: n[90/143], model_id[split_i=0,train=28164,test=7042,classes=331,estimator=Search(n_species=165,n_recs=0.5,classifier='cls=std-sgdlog,alpha=.000001,class_weight=balanced',random_state=0)]: save[0.757s, 47.6 MB]: ret\n"
    },
    {
     "name": "stdout",
     "output_type": "stream",
     "text": "[01:07:17.105] INFO   _fit_and_score: n[90/143], model_id[split_i=0,train=28164,test=7042,classes=331,estimator=Search(n_species=165,n_recs=0.5,classifier='cls=std-sgdlog,alpha=.000001,class_weight=balanced',random_state=0)]: save: estimator...\n"
    },
    {
     "name": "stdout",
     "output_type": "stream",
     "text": "[01:07:17.121] INFO   _fit_and_score: n[137/143], model_id[split_i=0,train=28164,test=7042,classes=331,estimator=Search(n_species=331,n_recs=1.0,classifier='cls=std-sgdlog,alpha=0.001,class_weight=balanced',random_state=0)]: fit...\n"
    },
    {
     "name": "stdout",
     "output_type": "stream",
     "text": "[01:07:17.190] INFO   _fit_and_score: n[96/143], model_id[split_i=0,train=28164,test=7042,classes=331,estimator=Search(n_species=165,n_recs=0.5,classifier='cls=std-sgdlog,alpha=1,class_weight=balanced',random_state=0)]: extra_metrics... ['classes', 'train_i', 'train_y', 'train_predict_proba', 'test_i', 'test_y', 'test_predict_proba', 'model_size', 'model_stats', 'proc_stats']\n"
    },
    {
     "name": "stdout",
     "output_type": "stream",
     "text": "[01:07:17.352] INFO   _fit_and_score: n[92/143], model_id[split_i=0,train=28164,test=7042,classes=331,estimator=Search(n_species=165,n_recs=0.5,classifier='cls=std-sgdlog,alpha=0.0001,class_weight=balanced',random_state=0)]: save[0.371s, 43.1 MB]: estimator\n"
    },
    {
     "name": "stdout",
     "output_type": "stream",
     "text": "[01:07:17.355] INFO   _fit_and_score: n[99/143], model_id[split_i=0,train=28164,test=7042,classes=331,estimator=Search(n_species=165,n_recs=0.5,classifier='cls=std-sgdlog,alpha=1000,class_weight=balanced',random_state=0)]: extra_metrics... ['classes', 'train_i', 'train_y', 'train_predict_proba', 'test_i', 'test_y', 'test_predict_proba', 'model_size', 'model_stats', 'proc_stats']\n"
    },
    {
     "name": "stdout",
     "output_type": "stream",
     "text": "[01:07:17.749] INFO   _fit_and_score: n[90/143], model_id[split_i=0,train=28164,test=7042,classes=331,estimator=Search(n_species=165,n_recs=0.5,classifier='cls=std-sgdlog,alpha=.000001,class_weight=balanced',random_state=0)]: save[0.641s, 43.1 MB]: estimator\n"
    },
    {
     "name": "stdout",
     "output_type": "stream",
     "text": "[01:07:17.844] INFO   _fit_and_score: n[100/143], model_id[split_i=0,train=28164,test=7042,classes=331,estimator=Search(n_species=165,n_recs=1.0,classifier='cls=std-sgdlog,alpha=.0000001,class_weight=balanced',random_state=0)]: extra_metrics... ['classes', 'train_i', 'train_y', 'train_predict_proba', 'test_i', 'test_y', 'test_predict_proba', 'model_size', 'model_stats', 'proc_stats']\n"
    },
    {
     "name": "stdout",
     "output_type": "stream",
     "text": "[01:07:17.850] INFO   _fit_and_score: n[138/143], model_id[split_i=0,train=28164,test=7042,classes=331,estimator=Search(n_species=331,n_recs=1.0,classifier='cls=std-sgdlog,alpha=0.01,class_weight=balanced',random_state=0)]: fit...\n"
    },
    {
     "name": "stdout",
     "output_type": "stream",
     "text": "[01:07:17.872] INFO   _fit_and_score: n[91/143], model_id[split_i=0,train=28164,test=7042,classes=331,estimator=Search(n_species=165,n_recs=0.5,classifier='cls=std-sgdlog,alpha=.00001,class_weight=balanced',random_state=0)]: extra_metrics[12.552s, 47.6 MB]: ['classes', 'train_i', 'train_y', 'train_predict_proba', 'test_i', 'test_y', 'test_predict_proba', 'model_size', 'model_stats', 'proc_stats']\n"
    },
    {
     "name": "stdout",
     "output_type": "stream",
     "text": "[01:07:17.874] INFO   _fit_and_score: n[91/143], model_id[split_i=0,train=28164,test=7042,classes=331,estimator=Search(n_species=165,n_recs=0.5,classifier='cls=std-sgdlog,alpha=.00001,class_weight=balanced',random_state=0)]: save: ret...\n"
    },
    {
     "name": "stderr",
     "output_type": "stream",
     "text": "/opt/conda/lib/python3.6/site-packages/sklearn/linear_model/base.py:340: RuntimeWarning: overflow encountered in exp\n  np.exp(prob, prob)\n"
    },
    {
     "name": "stdout",
     "output_type": "stream",
     "text": "[01:07:18.177] INFO   _fit_and_score: n[91/143], model_id[split_i=0,train=28164,test=7042,classes=331,estimator=Search(n_species=165,n_recs=0.5,classifier='cls=std-sgdlog,alpha=.00001,class_weight=balanced',random_state=0)]: save[0.302s, 47.6 MB]: ret\n"
    },
    {
     "name": "stdout",
     "output_type": "stream",
     "text": "[01:07:18.180] INFO   _fit_and_score: n[91/143], model_id[split_i=0,train=28164,test=7042,classes=331,estimator=Search(n_species=165,n_recs=0.5,classifier='cls=std-sgdlog,alpha=.00001,class_weight=balanced',random_state=0)]: save: estimator...\n"
    },
    {
     "name": "stdout",
     "output_type": "stream",
     "text": "[01:07:18.197] INFO   _fit_and_score: n[94/143], model_id[split_i=0,train=28164,test=7042,classes=331,estimator=Search(n_species=165,n_recs=0.5,classifier='cls=std-sgdlog,alpha=0.01,class_weight=balanced',random_state=0)]: extra_metrics[6.099s, 47.6 MB]: ['classes', 'train_i', 'train_y', 'train_predict_proba', 'test_i', 'test_y', 'test_predict_proba', 'model_size', 'model_stats', 'proc_stats']\n"
    },
    {
     "name": "stdout",
     "output_type": "stream",
     "text": "[01:07:18.200] INFO   _fit_and_score: n[94/143], model_id[split_i=0,train=28164,test=7042,classes=331,estimator=Search(n_species=165,n_recs=0.5,classifier='cls=std-sgdlog,alpha=0.01,class_weight=balanced',random_state=0)]: save: ret...\n"
    },
    {
     "name": "stderr",
     "output_type": "stream",
     "text": "/opt/conda/lib/python3.6/site-packages/sklearn/linear_model/base.py:340: RuntimeWarning: overflow encountered in exp\n  np.exp(prob, prob)\n"
    },
    {
     "name": "stdout",
     "output_type": "stream",
     "text": "[01:07:18.255] INFO   _fit_and_score: n[101/143], model_id[split_i=0,train=28164,test=7042,classes=331,estimator=Search(n_species=165,n_recs=1.0,classifier='cls=std-sgdlog,alpha=.000001,class_weight=balanced',random_state=0)]: fit[31.087s]\n"
    },
    {
     "name": "stdout",
     "output_type": "stream",
     "text": "[01:07:18.256] INFO   _fit_and_score: n[139/143], model_id[split_i=0,train=28164,test=7042,classes=331,estimator=Search(n_species=331,n_recs=1.0,classifier='cls=std-sgdlog,alpha=0.1,class_weight=balanced',random_state=0)]: fit...\n"
    },
    {
     "name": "stdout",
     "output_type": "stream",
     "text": "[01:07:18.281] INFO   _fit_and_score: n[103/143], model_id[split_i=0,train=28164,test=7042,classes=331,estimator=Search(n_species=165,n_recs=1.0,classifier='cls=std-sgdlog,alpha=0.0001,class_weight=balanced',random_state=0)]: fit[29.944s]\n"
    },
    {
     "name": "stdout",
     "output_type": "stream",
     "text": "[01:07:18.364] INFO   _fit_and_score: n[102/143], model_id[split_i=0,train=28164,test=7042,classes=331,estimator=Search(n_species=165,n_recs=1.0,classifier='cls=std-sgdlog,alpha=.00001,class_weight=balanced',random_state=0)]: extra_metrics... ['classes', 'train_i', 'train_y', 'train_predict_proba', 'test_i', 'test_y', 'test_predict_proba', 'model_size', 'model_stats', 'proc_stats']\n"
    },
    {
     "name": "stdout",
     "output_type": "stream",
     "text": "[01:07:18.633] INFO   _fit_and_score: n[91/143], model_id[split_i=0,train=28164,test=7042,classes=331,estimator=Search(n_species=165,n_recs=0.5,classifier='cls=std-sgdlog,alpha=.00001,class_weight=balanced',random_state=0)]: save[0.451s, 43.1 MB]: estimator\n"
    },
    {
     "name": "stdout",
     "output_type": "stream",
     "text": "[01:07:18.916] INFO   _fit_and_score: n[140/143], model_id[split_i=0,train=28164,test=7042,classes=331,estimator=Search(n_species=331,n_recs=1.0,classifier='cls=std-sgdlog,alpha=1,class_weight=balanced',random_state=0)]: fit...\n"
    },
    {
     "name": "stdout",
     "output_type": "stream",
     "text": "[01:07:18.933] INFO   _fit_and_score: n[93/143], model_id[split_i=0,train=28164,test=7042,classes=331,estimator=Search(n_species=165,n_recs=0.5,classifier='cls=std-sgdlog,alpha=0.001,class_weight=balanced',random_state=0)]: extra_metrics[5.692s, 47.6 MB]: ['classes', 'train_i', 'train_y', 'train_predict_proba', 'test_i', 'test_y', 'test_predict_proba', 'model_size', 'model_stats', 'proc_stats']\n"
    },
    {
     "name": "stdout",
     "output_type": "stream",
     "text": "[01:07:18.935] INFO   _fit_and_score: n[93/143], model_id[split_i=0,train=28164,test=7042,classes=331,estimator=Search(n_species=165,n_recs=0.5,classifier='cls=std-sgdlog,alpha=0.001,class_weight=balanced',random_state=0)]: save: ret...\n"
    },
    {
     "name": "stdout",
     "output_type": "stream",
     "text": "[01:07:18.947] INFO   _fit_and_score: n[94/143], model_id[split_i=0,train=28164,test=7042,classes=331,estimator=Search(n_species=165,n_recs=0.5,classifier='cls=std-sgdlog,alpha=0.01,class_weight=balanced',random_state=0)]: save[0.746s, 47.6 MB]: ret\n"
    },
    {
     "name": "stdout",
     "output_type": "stream",
     "text": "[01:07:18.951] INFO   _fit_and_score: n[94/143], model_id[split_i=0,train=28164,test=7042,classes=331,estimator=Search(n_species=165,n_recs=0.5,classifier='cls=std-sgdlog,alpha=0.01,class_weight=balanced',random_state=0)]: save: estimator...\n"
    },
    {
     "name": "stdout",
     "output_type": "stream",
     "text": "[01:07:18.969] INFO   _fit_and_score: n[98/143], model_id[split_i=0,train=28164,test=7042,classes=331,estimator=Search(n_species=165,n_recs=0.5,classifier='cls=std-sgdlog,alpha=100,class_weight=balanced',random_state=0)]: extra_metrics[3.093s, 47.6 MB]: ['classes', 'train_i', 'train_y', 'train_predict_proba', 'test_i', 'test_y', 'test_predict_proba', 'model_size', 'model_stats', 'proc_stats']\n"
    },
    {
     "name": "stdout",
     "output_type": "stream",
     "text": "[01:07:18.971] INFO   _fit_and_score: n[98/143], model_id[split_i=0,train=28164,test=7042,classes=331,estimator=Search(n_species=165,n_recs=0.5,classifier='cls=std-sgdlog,alpha=100,class_weight=balanced',random_state=0)]: save: ret...\n"
    },
    {
     "name": "stdout",
     "output_type": "stream",
     "text": "[01:07:19.156] INFO   _fit_and_score: n[107/143], model_id[split_i=0,train=28164,test=7042,classes=331,estimator=Search(n_species=165,n_recs=1.0,classifier='cls=std-sgdlog,alpha=1,class_weight=balanced',random_state=0)]: fit[29.163s]\n"
    },
    {
     "name": "stdout",
     "output_type": "stream",
     "text": "[01:07:19.158] INFO   _fit_and_score: n[95/143], model_id[split_i=0,train=28164,test=7042,classes=331,estimator=Search(n_species=165,n_recs=0.5,classifier='cls=std-sgdlog,alpha=0.1,class_weight=balanced',random_state=0)]: extra_metrics[4.936s, 47.6 MB]: ['classes', 'train_i', 'train_y', 'train_predict_proba', 'test_i', 'test_y', 'test_predict_proba', 'model_size', 'model_stats', 'proc_stats']\n"
    },
    {
     "name": "stdout",
     "output_type": "stream",
     "text": "[01:07:19.160] INFO   _fit_and_score: n[95/143], model_id[split_i=0,train=28164,test=7042,classes=331,estimator=Search(n_species=165,n_recs=0.5,classifier='cls=std-sgdlog,alpha=0.1,class_weight=balanced',random_state=0)]: save: ret...\n"
    },
    {
     "name": "stdout",
     "output_type": "stream",
     "text": "[01:07:19.320] INFO   _fit_and_score: n[141/143], model_id[split_i=0,train=28164,test=7042,classes=331,estimator=Search(n_species=331,n_recs=1.0,classifier='cls=std-sgdlog,alpha=10,class_weight=balanced',random_state=0)]: fit...\n"
    },
    {
     "name": "stdout",
     "output_type": "stream",
     "text": "[01:07:19.384] INFO   _fit_and_score: n[93/143], model_id[split_i=0,train=28164,test=7042,classes=331,estimator=Search(n_species=165,n_recs=0.5,classifier='cls=std-sgdlog,alpha=0.001,class_weight=balanced',random_state=0)]: save[0.447s, 47.6 MB]: ret\n"
    },
    {
     "name": "stdout",
     "output_type": "stream",
     "text": "[01:07:19.387] INFO   _fit_and_score: n[93/143], model_id[split_i=0,train=28164,test=7042,classes=331,estimator=Search(n_species=165,n_recs=0.5,classifier='cls=std-sgdlog,alpha=0.001,class_weight=balanced',random_state=0)]: save: estimator...\n"
    },
    {
     "name": "stdout",
     "output_type": "stream",
     "text": "[01:07:19.428] INFO   _fit_and_score: n[106/143], model_id[split_i=0,train=28164,test=7042,classes=331,estimator=Search(n_species=165,n_recs=1.0,classifier='cls=std-sgdlog,alpha=0.1,class_weight=balanced',random_state=0)]: fit[29.739s]\n"
    },
    {
     "name": "stdout",
     "output_type": "stream",
     "text": "[01:07:19.448] INFO   _fit_and_score: n[97/143], model_id[split_i=0,train=28164,test=7042,classes=331,estimator=Search(n_species=165,n_recs=0.5,classifier='cls=std-sgdlog,alpha=10,class_weight=balanced',random_state=0)]: extra_metrics[3.088s, 47.6 MB]: ['classes', 'train_i', 'train_y', 'train_predict_proba', 'test_i', 'test_y', 'test_predict_proba', 'model_size', 'model_stats', 'proc_stats']\n"
    },
    {
     "name": "stdout",
     "output_type": "stream",
     "text": "[01:07:19.450] INFO   _fit_and_score: n[97/143], model_id[split_i=0,train=28164,test=7042,classes=331,estimator=Search(n_species=165,n_recs=0.5,classifier='cls=std-sgdlog,alpha=10,class_weight=balanced',random_state=0)]: save: ret...\n"
    },
    {
     "name": "stdout",
     "output_type": "stream",
     "text": "[01:07:19.453] INFO   _fit_and_score: n[94/143], model_id[split_i=0,train=28164,test=7042,classes=331,estimator=Search(n_species=165,n_recs=0.5,classifier='cls=std-sgdlog,alpha=0.01,class_weight=balanced',random_state=0)]: save[0.493s, 43.1 MB]: estimator\n"
    },
    {
     "name": "stdout",
     "output_type": "stream",
     "text": "[01:07:19.508] INFO   _fit_and_score: n[110/143], model_id[split_i=0,train=28164,test=7042,classes=331,estimator=Search(n_species=165,n_recs=1.0,classifier='cls=std-sgdlog,alpha=1000,class_weight=balanced',random_state=0)]: fit[27.648s]\n"
    },
    {
     "name": "stdout",
     "output_type": "stream",
     "text": "[01:07:19.543] INFO   _fit_and_score: n[98/143], model_id[split_i=0,train=28164,test=7042,classes=331,estimator=Search(n_species=165,n_recs=0.5,classifier='cls=std-sgdlog,alpha=100,class_weight=balanced',random_state=0)]: save[0.569s, 47.6 MB]: ret\n"
    },
    {
     "name": "stdout",
     "output_type": "stream",
     "text": "[01:07:19.546] INFO   _fit_and_score: n[98/143], model_id[split_i=0,train=28164,test=7042,classes=331,estimator=Search(n_species=165,n_recs=0.5,classifier='cls=std-sgdlog,alpha=100,class_weight=balanced',random_state=0)]: save: estimator...\n"
    },
    {
     "name": "stdout",
     "output_type": "stream",
     "text": "[01:07:19.557] INFO   _fit_and_score: n[95/143], model_id[split_i=0,train=28164,test=7042,classes=331,estimator=Search(n_species=165,n_recs=0.5,classifier='cls=std-sgdlog,alpha=0.1,class_weight=balanced',random_state=0)]: save[0.395s, 47.6 MB]: ret\n"
    },
    {
     "name": "stdout",
     "output_type": "stream",
     "text": "[01:07:19.559] INFO   _fit_and_score: n[95/143], model_id[split_i=0,train=28164,test=7042,classes=331,estimator=Search(n_species=165,n_recs=0.5,classifier='cls=std-sgdlog,alpha=0.1,class_weight=balanced',random_state=0)]: save: estimator...\n"
    },
    {
     "name": "stdout",
     "output_type": "stream",
     "text": "[01:07:19.606] INFO   _fit_and_score: n[103/143], model_id[split_i=0,train=28164,test=7042,classes=331,estimator=Search(n_species=165,n_recs=1.0,classifier='cls=std-sgdlog,alpha=0.0001,class_weight=balanced',random_state=0)]: extra_metrics... ['classes', 'train_i', 'train_y', 'train_predict_proba', 'test_i', 'test_y', 'test_predict_proba', 'model_size', 'model_stats', 'proc_stats']\n"
    },
    {
     "name": "stdout",
     "output_type": "stream",
     "text": "[01:07:19.713] INFO   _fit_and_score: n[93/143], model_id[split_i=0,train=28164,test=7042,classes=331,estimator=Search(n_species=165,n_recs=0.5,classifier='cls=std-sgdlog,alpha=0.001,class_weight=balanced',random_state=0)]: save[0.324s, 43.1 MB]: estimator\n"
    },
    {
     "name": "stdout",
     "output_type": "stream",
     "text": "[01:07:19.757] INFO   _fit_and_score: n[97/143], model_id[split_i=0,train=28164,test=7042,classes=331,estimator=Search(n_species=165,n_recs=0.5,classifier='cls=std-sgdlog,alpha=10,class_weight=balanced',random_state=0)]: save: estimator...\n"
    },
    {
     "name": "stdout",
     "output_type": "stream",
     "text": "[01:07:19.754] INFO   _fit_and_score: n[97/143], model_id[split_i=0,train=28164,test=7042,classes=331,estimator=Search(n_species=165,n_recs=0.5,classifier='cls=std-sgdlog,alpha=10,class_weight=balanced',random_state=0)]: save[0.302s, 47.6 MB]: ret\n"
    },
    {
     "name": "stdout",
     "output_type": "stream",
     "text": "[01:07:19.761] INFO   _fit_and_score: n[142/143], model_id[split_i=0,train=28164,test=7042,classes=331,estimator=Search(n_species=331,n_recs=1.0,classifier='cls=std-sgdlog,alpha=100,class_weight=balanced',random_state=0)]: fit...\n"
    },
    {
     "name": "stdout",
     "output_type": "stream",
     "text": "[01:07:19.854] INFO   _fit_and_score: n[95/143], model_id[split_i=0,train=28164,test=7042,classes=331,estimator=Search(n_species=165,n_recs=0.5,classifier='cls=std-sgdlog,alpha=0.1,class_weight=balanced',random_state=0)]: save[0.293s, 43.1 MB]: estimator\n"
    },
    {
     "name": "stdout",
     "output_type": "stream",
     "text": "[01:07:19.870] INFO   _fit_and_score: n[98/143], model_id[split_i=0,train=28164,test=7042,classes=331,estimator=Search(n_species=165,n_recs=0.5,classifier='cls=std-sgdlog,alpha=100,class_weight=balanced',random_state=0)]: save[0.323s, 43.1 MB]: estimator\n"
    },
    {
     "name": "stdout",
     "output_type": "stream",
     "text": "[01:07:19.979] INFO   _fit_and_score: n[109/143], model_id[split_i=0,train=28164,test=7042,classes=331,estimator=Search(n_species=165,n_recs=1.0,classifier='cls=std-sgdlog,alpha=100,class_weight=balanced',random_state=0)]: fit[28.760s]\n"
    },
    {
     "name": "stdout",
     "output_type": "stream",
     "text": "[01:07:20.102] INFO   _fit_and_score: n[101/143], model_id[split_i=0,train=28164,test=7042,classes=331,estimator=Search(n_species=165,n_recs=1.0,classifier='cls=std-sgdlog,alpha=.000001,class_weight=balanced',random_state=0)]: extra_metrics... ['classes', 'train_i', 'train_y', 'train_predict_proba', 'test_i', 'test_y', 'test_predict_proba', 'model_size', 'model_stats', 'proc_stats']\n"
    },
    {
     "name": "stdout",
     "output_type": "stream",
     "text": "[01:07:20.203] INFO   _fit_and_score: n[143/143], model_id[split_i=0,train=28164,test=7042,classes=331,estimator=Search(n_species=331,n_recs=1.0,classifier='cls=std-sgdlog,alpha=1000,class_weight=balanced',random_state=0)]: fit...\n"
    },
    {
     "name": "stdout",
     "output_type": "stream",
     "text": "[01:07:20.295] INFO   _fit_and_score: n[97/143], model_id[split_i=0,train=28164,test=7042,classes=331,estimator=Search(n_species=165,n_recs=0.5,classifier='cls=std-sgdlog,alpha=10,class_weight=balanced',random_state=0)]: save[0.536s, 43.1 MB]: estimator\n"
    },
    {
     "name": "stdout",
     "output_type": "stream",
     "text": "[01:07:20.773] INFO   _fit_and_score: n[96/143], model_id[split_i=0,train=28164,test=7042,classes=331,estimator=Search(n_species=165,n_recs=0.5,classifier='cls=std-sgdlog,alpha=1,class_weight=balanced',random_state=0)]: extra_metrics[3.472s, 47.6 MB]: ['classes', 'train_i', 'train_y', 'train_predict_proba', 'test_i', 'test_y', 'test_predict_proba', 'model_size', 'model_stats', 'proc_stats']\n"
    },
    {
     "name": "stdout",
     "output_type": "stream",
     "text": "[01:07:20.803] INFO   _fit_and_score: n[96/143], model_id[split_i=0,train=28164,test=7042,classes=331,estimator=Search(n_species=165,n_recs=0.5,classifier='cls=std-sgdlog,alpha=1,class_weight=balanced',random_state=0)]: save: ret...\n"
    },
    {
     "name": "stdout",
     "output_type": "stream",
     "text": "[01:07:20.860] INFO   _fit_and_score: n[107/143], model_id[split_i=0,train=28164,test=7042,classes=331,estimator=Search(n_species=165,n_recs=1.0,classifier='cls=std-sgdlog,alpha=1,class_weight=balanced',random_state=0)]: extra_metrics... ['classes', 'train_i', 'train_y', 'train_predict_proba', 'test_i', 'test_y', 'test_predict_proba', 'model_size', 'model_stats', 'proc_stats']\n"
    },
    {
     "name": "stdout",
     "output_type": "stream",
     "text": "[01:07:21.022] INFO   _fit_and_score: n[99/143], model_id[split_i=0,train=28164,test=7042,classes=331,estimator=Search(n_species=165,n_recs=0.5,classifier='cls=std-sgdlog,alpha=1000,class_weight=balanced',random_state=0)]: extra_metrics[3.521s, 47.6 MB]: ['classes', 'train_i', 'train_y', 'train_predict_proba', 'test_i', 'test_y', 'test_predict_proba', 'model_size', 'model_stats', 'proc_stats']\n"
    },
    {
     "name": "stdout",
     "output_type": "stream",
     "text": "[01:07:21.035] INFO   _fit_and_score: n[99/143], model_id[split_i=0,train=28164,test=7042,classes=331,estimator=Search(n_species=165,n_recs=0.5,classifier='cls=std-sgdlog,alpha=1000,class_weight=balanced',random_state=0)]: save: ret...\n"
    },
    {
     "name": "stdout",
     "output_type": "stream",
     "text": "[01:07:21.385] INFO   _fit_and_score: n[105/143], model_id[split_i=0,train=28164,test=7042,classes=331,estimator=Search(n_species=165,n_recs=1.0,classifier='cls=std-sgdlog,alpha=0.01,class_weight=balanced',random_state=0)]: fit[32.128s]\n"
    },
    {
     "name": "stdout",
     "output_type": "stream",
     "text": "[01:07:21.467] INFO   _fit_and_score: n[106/143], model_id[split_i=0,train=28164,test=7042,classes=331,estimator=Search(n_species=165,n_recs=1.0,classifier='cls=std-sgdlog,alpha=0.1,class_weight=balanced',random_state=0)]: extra_metrics... ['classes', 'train_i', 'train_y', 'train_predict_proba', 'test_i', 'test_y', 'test_predict_proba', 'model_size', 'model_stats', 'proc_stats']\n"
    },
    {
     "name": "stdout",
     "output_type": "stream",
     "text": "[01:07:21.483] INFO   _fit_and_score: n[109/143], model_id[split_i=0,train=28164,test=7042,classes=331,estimator=Search(n_species=165,n_recs=1.0,classifier='cls=std-sgdlog,alpha=100,class_weight=balanced',random_state=0)]: extra_metrics... ['classes', 'train_i', 'train_y', 'train_predict_proba', 'test_i', 'test_y', 'test_predict_proba', 'model_size', 'model_stats', 'proc_stats']\n"
    },
    {
     "name": "stdout",
     "output_type": "stream",
     "text": "[01:07:21.566] INFO   _fit_and_score: n[96/143], model_id[split_i=0,train=28164,test=7042,classes=331,estimator=Search(n_species=165,n_recs=0.5,classifier='cls=std-sgdlog,alpha=1,class_weight=balanced',random_state=0)]: save[0.740s, 47.6 MB]: ret\n"
    },
    {
     "name": "stdout",
     "output_type": "stream",
     "text": "[01:07:21.594] INFO   _fit_and_score: n[110/143], model_id[split_i=0,train=28164,test=7042,classes=331,estimator=Search(n_species=165,n_recs=1.0,classifier='cls=std-sgdlog,alpha=1000,class_weight=balanced',random_state=0)]: extra_metrics... ['classes', 'train_i', 'train_y', 'train_predict_proba', 'test_i', 'test_y', 'test_predict_proba', 'model_size', 'model_stats', 'proc_stats']\n"
    },
    {
     "name": "stdout",
     "output_type": "stream",
     "text": "[01:07:21.594] INFO   _fit_and_score: n[96/143], model_id[split_i=0,train=28164,test=7042,classes=331,estimator=Search(n_species=165,n_recs=0.5,classifier='cls=std-sgdlog,alpha=1,class_weight=balanced',random_state=0)]: save: estimator...\n"
    },
    {
     "name": "stdout",
     "output_type": "stream",
     "text": "[01:07:21.695] INFO   _fit_and_score: n[100/143], model_id[split_i=0,train=28164,test=7042,classes=331,estimator=Search(n_species=165,n_recs=1.0,classifier='cls=std-sgdlog,alpha=.0000001,class_weight=balanced',random_state=0)]: extra_metrics[3.702s, 47.6 MB]: ['classes', 'train_i', 'train_y', 'train_predict_proba', 'test_i', 'test_y', 'test_predict_proba', 'model_size', 'model_stats', 'proc_stats']\n"
    },
    {
     "name": "stdout",
     "output_type": "stream",
     "text": "[01:07:21.726] INFO   _fit_and_score: n[100/143], model_id[split_i=0,train=28164,test=7042,classes=331,estimator=Search(n_species=165,n_recs=1.0,classifier='cls=std-sgdlog,alpha=.0000001,class_weight=balanced',random_state=0)]: save: ret...\n"
    },
    {
     "name": "stdout",
     "output_type": "stream",
     "text": "[01:07:21.829] INFO   _fit_and_score: n[99/143], model_id[split_i=0,train=28164,test=7042,classes=331,estimator=Search(n_species=165,n_recs=0.5,classifier='cls=std-sgdlog,alpha=1000,class_weight=balanced',random_state=0)]: save[0.775s, 47.6 MB]: ret\n"
    },
    {
     "name": "stdout",
     "output_type": "stream",
     "text": "[01:07:21.855] INFO   _fit_and_score: n[99/143], model_id[split_i=0,train=28164,test=7042,classes=331,estimator=Search(n_species=165,n_recs=0.5,classifier='cls=std-sgdlog,alpha=1000,class_weight=balanced',random_state=0)]: save: estimator...\n"
    },
    {
     "name": "stderr",
     "output_type": "stream",
     "text": "[Parallel(n_jobs=-1)]: Done  96 out of 143 | elapsed:  1.3min remaining:   37.8s\n"
    },
    {
     "name": "stdout",
     "output_type": "stream",
     "text": "[01:07:22.152] INFO   _fit_and_score: n[104/143], model_id[split_i=0,train=28164,test=7042,classes=331,estimator=Search(n_species=165,n_recs=1.0,classifier='cls=std-sgdlog,alpha=0.001,class_weight=balanced',random_state=0)]: fit[33.247s]\n"
    },
    {
     "name": "stdout",
     "output_type": "stream",
     "text": "[01:07:22.695] INFO   _fit_and_score: n[96/143], model_id[split_i=0,train=28164,test=7042,classes=331,estimator=Search(n_species=165,n_recs=0.5,classifier='cls=std-sgdlog,alpha=1,class_weight=balanced',random_state=0)]: save[1.076s, 43.1 MB]: estimator\n"
    },
    {
     "name": "stdout",
     "output_type": "stream",
     "text": "[01:07:23.170] INFO   _fit_and_score: n[100/143], model_id[split_i=0,train=28164,test=7042,classes=331,estimator=Search(n_species=165,n_recs=1.0,classifier='cls=std-sgdlog,alpha=.0000001,class_weight=balanced',random_state=0)]: save[1.408s, 47.6 MB]: ret\n"
    },
    {
     "name": "stdout",
     "output_type": "stream",
     "text": "[01:07:23.205] INFO   _fit_and_score: n[100/143], model_id[split_i=0,train=28164,test=7042,classes=331,estimator=Search(n_species=165,n_recs=1.0,classifier='cls=std-sgdlog,alpha=.0000001,class_weight=balanced',random_state=0)]: save: estimator...\n"
    },
    {
     "name": "stdout",
     "output_type": "stream",
     "text": "[01:07:23.313] INFO   _fit_and_score: n[108/143], model_id[split_i=0,train=28164,test=7042,classes=331,estimator=Search(n_species=165,n_recs=1.0,classifier='cls=std-sgdlog,alpha=10,class_weight=balanced',random_state=0)]: fit[32.525s]\n"
    },
    {
     "name": "stdout",
     "output_type": "stream",
     "text": "[01:07:23.377] INFO   _fit_and_score: n[102/143], model_id[split_i=0,train=28164,test=7042,classes=331,estimator=Search(n_species=165,n_recs=1.0,classifier='cls=std-sgdlog,alpha=.00001,class_weight=balanced',random_state=0)]: extra_metrics[4.672s, 47.6 MB]: ['classes', 'train_i', 'train_y', 'train_predict_proba', 'test_i', 'test_y', 'test_predict_proba', 'model_size', 'model_stats', 'proc_stats']\n"
    },
    {
     "name": "stdout",
     "output_type": "stream",
     "text": "[01:07:23.401] INFO   _fit_and_score: n[102/143], model_id[split_i=0,train=28164,test=7042,classes=331,estimator=Search(n_species=165,n_recs=1.0,classifier='cls=std-sgdlog,alpha=.00001,class_weight=balanced',random_state=0)]: save: ret...\n"
    },
    {
     "name": "stdout",
     "output_type": "stream",
     "text": "[01:07:23.510] INFO   _fit_and_score: n[99/143], model_id[split_i=0,train=28164,test=7042,classes=331,estimator=Search(n_species=165,n_recs=0.5,classifier='cls=std-sgdlog,alpha=1000,class_weight=balanced',random_state=0)]: save[1.631s, 43.1 MB]: estimator\n"
    },
    {
     "name": "stdout",
     "output_type": "stream",
     "text": "[01:07:23.637] INFO   _fit_and_score: n[103/143], model_id[split_i=0,train=28164,test=7042,classes=331,estimator=Search(n_species=165,n_recs=1.0,classifier='cls=std-sgdlog,alpha=0.0001,class_weight=balanced',random_state=0)]: extra_metrics[3.877s, 47.6 MB]: ['classes', 'train_i', 'train_y', 'train_predict_proba', 'test_i', 'test_y', 'test_predict_proba', 'model_size', 'model_stats', 'proc_stats']\n"
    },
    {
     "name": "stdout",
     "output_type": "stream",
     "text": "[01:07:23.661] INFO   _fit_and_score: n[103/143], model_id[split_i=0,train=28164,test=7042,classes=331,estimator=Search(n_species=165,n_recs=1.0,classifier='cls=std-sgdlog,alpha=0.0001,class_weight=balanced',random_state=0)]: save: ret...\n"
    },
    {
     "name": "stdout",
     "output_type": "stream",
     "text": "[01:07:24.225] INFO   _fit_and_score: n[100/143], model_id[split_i=0,train=28164,test=7042,classes=331,estimator=Search(n_species=165,n_recs=1.0,classifier='cls=std-sgdlog,alpha=.0000001,class_weight=balanced',random_state=0)]: save[0.996s, 84.6 MB]: estimator\n"
    },
    {
     "name": "stdout",
     "output_type": "stream",
     "text": "[01:07:24.244] INFO   _fit_and_score: n[102/143], model_id[split_i=0,train=28164,test=7042,classes=331,estimator=Search(n_species=165,n_recs=1.0,classifier='cls=std-sgdlog,alpha=.00001,class_weight=balanced',random_state=0)]: save[0.811s, 47.6 MB]: ret\n"
    },
    {
     "name": "stdout",
     "output_type": "stream",
     "text": "[01:07:24.247] INFO   _fit_and_score: n[102/143], model_id[split_i=0,train=28164,test=7042,classes=331,estimator=Search(n_species=165,n_recs=1.0,classifier='cls=std-sgdlog,alpha=.00001,class_weight=balanced',random_state=0)]: save: estimator...\n"
    },
    {
     "name": "stdout",
     "output_type": "stream",
     "text": "[01:07:24.319] INFO   _fit_and_score: n[105/143], model_id[split_i=0,train=28164,test=7042,classes=331,estimator=Search(n_species=165,n_recs=1.0,classifier='cls=std-sgdlog,alpha=0.01,class_weight=balanced',random_state=0)]: extra_metrics... ['classes', 'train_i', 'train_y', 'train_predict_proba', 'test_i', 'test_y', 'test_predict_proba', 'model_size', 'model_stats', 'proc_stats']\n"
    },
    {
     "name": "stdout",
     "output_type": "stream",
     "text": "[01:07:24.327] INFO   _fit_and_score: n[101/143], model_id[split_i=0,train=28164,test=7042,classes=331,estimator=Search(n_species=165,n_recs=1.0,classifier='cls=std-sgdlog,alpha=.000001,class_weight=balanced',random_state=0)]: extra_metrics[4.134s, 47.6 MB]: ['classes', 'train_i', 'train_y', 'train_predict_proba', 'test_i', 'test_y', 'test_predict_proba', 'model_size', 'model_stats', 'proc_stats']\n"
    },
    {
     "name": "stdout",
     "output_type": "stream",
     "text": "[01:07:24.346] INFO   _fit_and_score: n[101/143], model_id[split_i=0,train=28164,test=7042,classes=331,estimator=Search(n_species=165,n_recs=1.0,classifier='cls=std-sgdlog,alpha=.000001,class_weight=balanced',random_state=0)]: save: ret...\n"
    },
    {
     "name": "stdout",
     "output_type": "stream",
     "text": "[01:07:24.421] INFO   _fit_and_score: n[103/143], model_id[split_i=0,train=28164,test=7042,classes=331,estimator=Search(n_species=165,n_recs=1.0,classifier='cls=std-sgdlog,alpha=0.0001,class_weight=balanced',random_state=0)]: save[0.740s, 47.6 MB]: ret\n"
    },
    {
     "name": "stdout",
     "output_type": "stream",
     "text": "[01:07:24.450] INFO   _fit_and_score: n[103/143], model_id[split_i=0,train=28164,test=7042,classes=331,estimator=Search(n_species=165,n_recs=1.0,classifier='cls=std-sgdlog,alpha=0.0001,class_weight=balanced',random_state=0)]: save: estimator...\n"
    },
    {
     "name": "stdout",
     "output_type": "stream",
     "text": "[01:07:24.626] INFO   _fit_and_score: n[104/143], model_id[split_i=0,train=28164,test=7042,classes=331,estimator=Search(n_species=165,n_recs=1.0,classifier='cls=std-sgdlog,alpha=0.001,class_weight=balanced',random_state=0)]: extra_metrics... ['classes', 'train_i', 'train_y', 'train_predict_proba', 'test_i', 'test_y', 'test_predict_proba', 'model_size', 'model_stats', 'proc_stats']\n"
    },
    {
     "name": "stdout",
     "output_type": "stream",
     "text": "[01:07:25.036] INFO   _fit_and_score: n[102/143], model_id[split_i=0,train=28164,test=7042,classes=331,estimator=Search(n_species=165,n_recs=1.0,classifier='cls=std-sgdlog,alpha=.00001,class_weight=balanced',random_state=0)]: save[0.786s, 84.6 MB]: estimator\n"
    },
    {
     "name": "stdout",
     "output_type": "stream",
     "text": "[01:07:25.236] INFO   _fit_and_score: n[101/143], model_id[split_i=0,train=28164,test=7042,classes=331,estimator=Search(n_species=165,n_recs=1.0,classifier='cls=std-sgdlog,alpha=.000001,class_weight=balanced',random_state=0)]: save[0.867s, 47.6 MB]: ret\n"
    },
    {
     "name": "stdout",
     "output_type": "stream",
     "text": "[01:07:25.268] INFO   _fit_and_score: n[101/143], model_id[split_i=0,train=28164,test=7042,classes=331,estimator=Search(n_species=165,n_recs=1.0,classifier='cls=std-sgdlog,alpha=.000001,class_weight=balanced',random_state=0)]: save: estimator...\n"
    },
    {
     "name": "stdout",
     "output_type": "stream",
     "text": "[01:07:25.331] INFO   _fit_and_score: n[107/143], model_id[split_i=0,train=28164,test=7042,classes=331,estimator=Search(n_species=165,n_recs=1.0,classifier='cls=std-sgdlog,alpha=1,class_weight=balanced',random_state=0)]: extra_metrics[4.137s, 47.6 MB]: ['classes', 'train_i', 'train_y', 'train_predict_proba', 'test_i', 'test_y', 'test_predict_proba', 'model_size', 'model_stats', 'proc_stats']\n"
    },
    {
     "name": "stdout",
     "output_type": "stream",
     "text": "[01:07:25.354] INFO   _fit_and_score: n[107/143], model_id[split_i=0,train=28164,test=7042,classes=331,estimator=Search(n_species=165,n_recs=1.0,classifier='cls=std-sgdlog,alpha=1,class_weight=balanced',random_state=0)]: save: ret...\n"
    },
    {
     "name": "stderr",
     "output_type": "stream",
     "text": "/opt/conda/lib/python3.6/site-packages/sklearn/linear_model/base.py:340: RuntimeWarning: overflow encountered in exp\n  np.exp(prob, prob)\n"
    },
    {
     "name": "stderr",
     "output_type": "stream",
     "text": "/opt/conda/lib/python3.6/site-packages/sklearn/linear_model/base.py:347: RuntimeWarning: invalid value encountered in true_divide\n  prob /= prob.sum(axis=1).reshape((prob.shape[0], -1))\n"
    },
    {
     "name": "stdout",
     "output_type": "stream",
     "text": "[01:07:25.578] INFO   _fit_and_score: n[103/143], model_id[split_i=0,train=28164,test=7042,classes=331,estimator=Search(n_species=165,n_recs=1.0,classifier='cls=std-sgdlog,alpha=0.0001,class_weight=balanced',random_state=0)]: save[1.098s, 84.6 MB]: estimator\n"
    },
    {
     "name": "stdout",
     "output_type": "stream",
     "text": "[01:07:25.653] INFO   _fit_and_score: n[106/143], model_id[split_i=0,train=28164,test=7042,classes=331,estimator=Search(n_species=165,n_recs=1.0,classifier='cls=std-sgdlog,alpha=0.1,class_weight=balanced',random_state=0)]: extra_metrics[3.989s, 47.6 MB]: ['classes', 'train_i', 'train_y', 'train_predict_proba', 'test_i', 'test_y', 'test_predict_proba', 'model_size', 'model_stats', 'proc_stats']\n"
    },
    {
     "name": "stdout",
     "output_type": "stream",
     "text": "[01:07:25.673] INFO   _fit_and_score: n[108/143], model_id[split_i=0,train=28164,test=7042,classes=331,estimator=Search(n_species=165,n_recs=1.0,classifier='cls=std-sgdlog,alpha=10,class_weight=balanced',random_state=0)]: extra_metrics... ['classes', 'train_i', 'train_y', 'train_predict_proba', 'test_i', 'test_y', 'test_predict_proba', 'model_size', 'model_stats', 'proc_stats']\n"
    },
    {
     "name": "stdout",
     "output_type": "stream",
     "text": "[01:07:25.684] INFO   _fit_and_score: n[106/143], model_id[split_i=0,train=28164,test=7042,classes=331,estimator=Search(n_species=165,n_recs=1.0,classifier='cls=std-sgdlog,alpha=0.1,class_weight=balanced',random_state=0)]: save: ret...\n"
    },
    {
     "name": "stdout",
     "output_type": "stream",
     "text": "[01:07:26.021] INFO   _fit_and_score: n[110/143], model_id[split_i=0,train=28164,test=7042,classes=331,estimator=Search(n_species=165,n_recs=1.0,classifier='cls=std-sgdlog,alpha=1000,class_weight=balanced',random_state=0)]: extra_metrics[4.297s, 47.6 MB]: ['classes', 'train_i', 'train_y', 'train_predict_proba', 'test_i', 'test_y', 'test_predict_proba', 'model_size', 'model_stats', 'proc_stats']\n"
    },
    {
     "name": "stdout",
     "output_type": "stream",
     "text": "[01:07:26.048] INFO   _fit_and_score: n[110/143], model_id[split_i=0,train=28164,test=7042,classes=331,estimator=Search(n_species=165,n_recs=1.0,classifier='cls=std-sgdlog,alpha=1000,class_weight=balanced',random_state=0)]: save: ret...\n"
    },
    {
     "name": "stdout",
     "output_type": "stream",
     "text": "[01:07:26.056] INFO   _fit_and_score: n[101/143], model_id[split_i=0,train=28164,test=7042,classes=331,estimator=Search(n_species=165,n_recs=1.0,classifier='cls=std-sgdlog,alpha=.000001,class_weight=balanced',random_state=0)]: save[0.764s, 84.6 MB]: estimator\n"
    },
    {
     "name": "stdout",
     "output_type": "stream",
     "text": "[01:07:26.283] INFO   _fit_and_score: n[109/143], model_id[split_i=0,train=28164,test=7042,classes=331,estimator=Search(n_species=165,n_recs=1.0,classifier='cls=std-sgdlog,alpha=100,class_weight=balanced',random_state=0)]: extra_metrics[4.612s, 47.6 MB]: ['classes', 'train_i', 'train_y', 'train_predict_proba', 'test_i', 'test_y', 'test_predict_proba', 'model_size', 'model_stats', 'proc_stats']\n"
    },
    {
     "name": "stdout",
     "output_type": "stream",
     "text": "[01:07:26.296] INFO   _fit_and_score: n[109/143], model_id[split_i=0,train=28164,test=7042,classes=331,estimator=Search(n_species=165,n_recs=1.0,classifier='cls=std-sgdlog,alpha=100,class_weight=balanced',random_state=0)]: save: ret...\n"
    },
    {
     "name": "stdout",
     "output_type": "stream",
     "text": "[01:07:26.510] INFO   _fit_and_score: n[106/143], model_id[split_i=0,train=28164,test=7042,classes=331,estimator=Search(n_species=165,n_recs=1.0,classifier='cls=std-sgdlog,alpha=0.1,class_weight=balanced',random_state=0)]: save[0.803s, 47.6 MB]: ret\n"
    },
    {
     "name": "stdout",
     "output_type": "stream",
     "text": "[01:07:26.534] INFO   _fit_and_score: n[106/143], model_id[split_i=0,train=28164,test=7042,classes=331,estimator=Search(n_species=165,n_recs=1.0,classifier='cls=std-sgdlog,alpha=0.1,class_weight=balanced',random_state=0)]: save: estimator...\n"
    },
    {
     "name": "stdout",
     "output_type": "stream",
     "text": "[01:07:26.659] INFO   _fit_and_score: n[107/143], model_id[split_i=0,train=28164,test=7042,classes=331,estimator=Search(n_species=165,n_recs=1.0,classifier='cls=std-sgdlog,alpha=1,class_weight=balanced',random_state=0)]: save[1.280s, 47.6 MB]: ret\n"
    },
    {
     "name": "stdout",
     "output_type": "stream",
     "text": "[01:07:26.676] INFO   _fit_and_score: n[107/143], model_id[split_i=0,train=28164,test=7042,classes=331,estimator=Search(n_species=165,n_recs=1.0,classifier='cls=std-sgdlog,alpha=1,class_weight=balanced',random_state=0)]: save: estimator...\n"
    },
    {
     "name": "stdout",
     "output_type": "stream",
     "text": "[01:07:27.029] INFO   _fit_and_score: n[110/143], model_id[split_i=0,train=28164,test=7042,classes=331,estimator=Search(n_species=165,n_recs=1.0,classifier='cls=std-sgdlog,alpha=1000,class_weight=balanced',random_state=0)]: save[0.958s, 47.6 MB]: ret\n"
    },
    {
     "name": "stdout",
     "output_type": "stream",
     "text": "[01:07:27.070] INFO   _fit_and_score: n[110/143], model_id[split_i=0,train=28164,test=7042,classes=331,estimator=Search(n_species=165,n_recs=1.0,classifier='cls=std-sgdlog,alpha=1000,class_weight=balanced',random_state=0)]: save: estimator...\n"
    },
    {
     "name": "stdout",
     "output_type": "stream",
     "text": "[01:07:27.265] INFO   _fit_and_score: n[109/143], model_id[split_i=0,train=28164,test=7042,classes=331,estimator=Search(n_species=165,n_recs=1.0,classifier='cls=std-sgdlog,alpha=100,class_weight=balanced',random_state=0)]: save[0.940s, 47.6 MB]: ret\n"
    },
    {
     "name": "stdout",
     "output_type": "stream",
     "text": "[01:07:27.274] INFO   _fit_and_score: n[109/143], model_id[split_i=0,train=28164,test=7042,classes=331,estimator=Search(n_species=165,n_recs=1.0,classifier='cls=std-sgdlog,alpha=100,class_weight=balanced',random_state=0)]: save: estimator...\n"
    },
    {
     "name": "stderr",
     "output_type": "stream",
     "text": "/opt/conda/lib/python3.6/site-packages/sklearn/linear_model/base.py:340: RuntimeWarning: overflow encountered in exp\n  np.exp(prob, prob)\n"
    },
    {
     "name": "stderr",
     "output_type": "stream",
     "text": "/opt/conda/lib/python3.6/site-packages/sklearn/linear_model/base.py:347: RuntimeWarning: invalid value encountered in true_divide\n  prob /= prob.sum(axis=1).reshape((prob.shape[0], -1))\n"
    },
    {
     "name": "stdout",
     "output_type": "stream",
     "text": "[01:07:27.576] INFO   _fit_and_score: n[106/143], model_id[split_i=0,train=28164,test=7042,classes=331,estimator=Search(n_species=165,n_recs=1.0,classifier='cls=std-sgdlog,alpha=0.1,class_weight=balanced',random_state=0)]: save[1.007s, 84.6 MB]: estimator\n"
    },
    {
     "name": "stdout",
     "output_type": "stream",
     "text": "[01:07:27.965] INFO   _fit_and_score: n[107/143], model_id[split_i=0,train=28164,test=7042,classes=331,estimator=Search(n_species=165,n_recs=1.0,classifier='cls=std-sgdlog,alpha=1,class_weight=balanced',random_state=0)]: save[1.266s, 84.6 MB]: estimator\n"
    },
    {
     "name": "stdout",
     "output_type": "stream",
     "text": "[01:07:28.116] INFO   _fit_and_score: n[109/143], model_id[split_i=0,train=28164,test=7042,classes=331,estimator=Search(n_species=165,n_recs=1.0,classifier='cls=std-sgdlog,alpha=100,class_weight=balanced',random_state=0)]: save[0.837s, 84.6 MB]: estimator\n"
    },
    {
     "name": "stdout",
     "output_type": "stream",
     "text": "[01:07:28.149] INFO   _fit_and_score: n[110/143], model_id[split_i=0,train=28164,test=7042,classes=331,estimator=Search(n_species=165,n_recs=1.0,classifier='cls=std-sgdlog,alpha=1000,class_weight=balanced',random_state=0)]: save[1.060s, 84.6 MB]: estimator\n"
    },
    {
     "name": "stderr",
     "output_type": "stream",
     "text": "/opt/conda/lib/python3.6/site-packages/sklearn/linear_model/base.py:340: RuntimeWarning: overflow encountered in exp\n  np.exp(prob, prob)\n"
    },
    {
     "name": "stderr",
     "output_type": "stream",
     "text": "/opt/conda/lib/python3.6/site-packages/sklearn/linear_model/base.py:347: RuntimeWarning: invalid value encountered in true_divide\n  prob /= prob.sum(axis=1).reshape((prob.shape[0], -1))\n"
    },
    {
     "name": "stdout",
     "output_type": "stream",
     "text": "[01:07:28.323] INFO   _fit_and_score: n[105/143], model_id[split_i=0,train=28164,test=7042,classes=331,estimator=Search(n_species=165,n_recs=1.0,classifier='cls=std-sgdlog,alpha=0.01,class_weight=balanced',random_state=0)]: extra_metrics[3.904s, 47.6 MB]: ['classes', 'train_i', 'train_y', 'train_predict_proba', 'test_i', 'test_y', 'test_predict_proba', 'model_size', 'model_stats', 'proc_stats']\n"
    },
    {
     "name": "stdout",
     "output_type": "stream",
     "text": "[01:07:28.348] INFO   _fit_and_score: n[105/143], model_id[split_i=0,train=28164,test=7042,classes=331,estimator=Search(n_species=165,n_recs=1.0,classifier='cls=std-sgdlog,alpha=0.01,class_weight=balanced',random_state=0)]: save: ret...\n"
    },
    {
     "name": "stdout",
     "output_type": "stream",
     "text": "[01:07:29.031] INFO   _fit_and_score: n[105/143], model_id[split_i=0,train=28164,test=7042,classes=331,estimator=Search(n_species=165,n_recs=1.0,classifier='cls=std-sgdlog,alpha=0.01,class_weight=balanced',random_state=0)]: save[0.649s, 47.6 MB]: ret\n"
    },
    {
     "name": "stdout",
     "output_type": "stream",
     "text": "[01:07:29.056] INFO   _fit_and_score: n[105/143], model_id[split_i=0,train=28164,test=7042,classes=331,estimator=Search(n_species=165,n_recs=1.0,classifier='cls=std-sgdlog,alpha=0.01,class_weight=balanced',random_state=0)]: save: estimator...\n"
    },
    {
     "name": "stdout",
     "output_type": "stream",
     "text": "[01:07:29.450] INFO   _fit_and_score: n[104/143], model_id[split_i=0,train=28164,test=7042,classes=331,estimator=Search(n_species=165,n_recs=1.0,classifier='cls=std-sgdlog,alpha=0.001,class_weight=balanced',random_state=0)]: extra_metrics[4.672s, 47.6 MB]: ['classes', 'train_i', 'train_y', 'train_predict_proba', 'test_i', 'test_y', 'test_predict_proba', 'model_size', 'model_stats', 'proc_stats']\n"
    },
    {
     "name": "stdout",
     "output_type": "stream",
     "text": "[01:07:29.480] INFO   _fit_and_score: n[104/143], model_id[split_i=0,train=28164,test=7042,classes=331,estimator=Search(n_species=165,n_recs=1.0,classifier='cls=std-sgdlog,alpha=0.001,class_weight=balanced',random_state=0)]: save: ret...\n"
    },
    {
     "name": "stdout",
     "output_type": "stream",
     "text": "[01:07:30.093] INFO   _fit_and_score: n[105/143], model_id[split_i=0,train=28164,test=7042,classes=331,estimator=Search(n_species=165,n_recs=1.0,classifier='cls=std-sgdlog,alpha=0.01,class_weight=balanced',random_state=0)]: save[1.012s, 84.6 MB]: estimator\n"
    },
    {
     "name": "stdout",
     "output_type": "stream",
     "text": "[01:07:30.496] INFO   _fit_and_score: n[108/143], model_id[split_i=0,train=28164,test=7042,classes=331,estimator=Search(n_species=165,n_recs=1.0,classifier='cls=std-sgdlog,alpha=10,class_weight=balanced',random_state=0)]: extra_metrics[4.699s, 47.6 MB]: ['classes', 'train_i', 'train_y', 'train_predict_proba', 'test_i', 'test_y', 'test_predict_proba', 'model_size', 'model_stats', 'proc_stats']\n"
    },
    {
     "name": "stdout",
     "output_type": "stream",
     "text": "[01:07:30.515] INFO   _fit_and_score: n[108/143], model_id[split_i=0,train=28164,test=7042,classes=331,estimator=Search(n_species=165,n_recs=1.0,classifier='cls=std-sgdlog,alpha=10,class_weight=balanced',random_state=0)]: save: ret...\n"
    },
    {
     "name": "stdout",
     "output_type": "stream",
     "text": "[01:07:30.596] INFO   _fit_and_score: n[104/143], model_id[split_i=0,train=28164,test=7042,classes=331,estimator=Search(n_species=165,n_recs=1.0,classifier='cls=std-sgdlog,alpha=0.001,class_weight=balanced',random_state=0)]: save[1.093s, 47.6 MB]: ret\n"
    },
    {
     "name": "stdout",
     "output_type": "stream",
     "text": "[01:07:30.628] INFO   _fit_and_score: n[104/143], model_id[split_i=0,train=28164,test=7042,classes=331,estimator=Search(n_species=165,n_recs=1.0,classifier='cls=std-sgdlog,alpha=0.001,class_weight=balanced',random_state=0)]: save: estimator...\n"
    },
    {
     "name": "stderr",
     "output_type": "stream",
     "text": "/opt/conda/lib/python3.6/site-packages/sklearn/linear_model/base.py:340: RuntimeWarning: overflow encountered in exp\n  np.exp(prob, prob)\n"
    },
    {
     "name": "stdout",
     "output_type": "stream",
     "text": "[01:07:31.365] INFO   _fit_and_score: n[108/143], model_id[split_i=0,train=28164,test=7042,classes=331,estimator=Search(n_species=165,n_recs=1.0,classifier='cls=std-sgdlog,alpha=10,class_weight=balanced',random_state=0)]: save[0.828s, 47.6 MB]: ret\n"
    },
    {
     "name": "stdout",
     "output_type": "stream",
     "text": "[01:07:31.402] INFO   _fit_and_score: n[108/143], model_id[split_i=0,train=28164,test=7042,classes=331,estimator=Search(n_species=165,n_recs=1.0,classifier='cls=std-sgdlog,alpha=10,class_weight=balanced',random_state=0)]: save: estimator...\n"
    },
    {
     "name": "stdout",
     "output_type": "stream",
     "text": "[01:07:31.487] INFO   _fit_and_score: n[104/143], model_id[split_i=0,train=28164,test=7042,classes=331,estimator=Search(n_species=165,n_recs=1.0,classifier='cls=std-sgdlog,alpha=0.001,class_weight=balanced',random_state=0)]: save[0.834s, 84.6 MB]: estimator\n"
    },
    {
     "name": "stdout",
     "output_type": "stream",
     "text": "[01:07:31.759] INFO   _fit_and_score: n[112/143], model_id[split_i=0,train=28164,test=7042,classes=331,estimator=Search(n_species=331,n_recs=0.25,classifier='cls=std-sgdlog,alpha=.000001,class_weight=balanced',random_state=0)]: fit[38.522s]\n"
    },
    {
     "name": "stderr",
     "output_type": "stream",
     "text": "/opt/conda/lib/python3.6/site-packages/sklearn/linear_model/base.py:340: RuntimeWarning: overflow encountered in exp\n  np.exp(prob, prob)\n"
    },
    {
     "name": "stderr",
     "output_type": "stream",
     "text": "/opt/conda/lib/python3.6/site-packages/sklearn/linear_model/base.py:347: RuntimeWarning: invalid value encountered in true_divide\n  prob /= prob.sum(axis=1).reshape((prob.shape[0], -1))\n"
    },
    {
     "name": "stdout",
     "output_type": "stream",
     "text": "[01:07:33.074] INFO   _fit_and_score: n[108/143], model_id[split_i=0,train=28164,test=7042,classes=331,estimator=Search(n_species=165,n_recs=1.0,classifier='cls=std-sgdlog,alpha=10,class_weight=balanced',random_state=0)]: save[1.648s, 84.6 MB]: estimator\n"
    },
    {
     "name": "stdout",
     "output_type": "stream",
     "text": "[01:07:33.576] INFO   _fit_and_score: n[111/143], model_id[split_i=0,train=28164,test=7042,classes=331,estimator=Search(n_species=331,n_recs=0.25,classifier='cls=std-sgdlog,alpha=.0000001,class_weight=balanced',random_state=0)]: fit[41.232s]\n"
    },
    {
     "name": "stdout",
     "output_type": "stream",
     "text": "[01:07:33.910] INFO   _fit_and_score: n[112/143], model_id[split_i=0,train=28164,test=7042,classes=331,estimator=Search(n_species=331,n_recs=0.25,classifier='cls=std-sgdlog,alpha=.000001,class_weight=balanced',random_state=0)]: extra_metrics... ['classes', 'train_i', 'train_y', 'train_predict_proba', 'test_i', 'test_y', 'test_predict_proba', 'model_size', 'model_stats', 'proc_stats']\n"
    },
    {
     "name": "stderr",
     "output_type": "stream",
     "text": "/opt/conda/lib/python3.6/site-packages/sklearn/linear_model/base.py:340: RuntimeWarning: overflow encountered in exp\n  np.exp(prob, prob)\n"
    },
    {
     "name": "stdout",
     "output_type": "stream",
     "text": "[01:07:35.431] INFO   _fit_and_score: n[113/143], model_id[split_i=0,train=28164,test=7042,classes=331,estimator=Search(n_species=331,n_recs=0.25,classifier='cls=std-sgdlog,alpha=.00001,class_weight=balanced',random_state=0)]: fit[39.684s]\n"
    },
    {
     "name": "stdout",
     "output_type": "stream",
     "text": "[01:07:39.237] INFO   _fit_and_score: n[111/143], model_id[split_i=0,train=28164,test=7042,classes=331,estimator=Search(n_species=331,n_recs=0.25,classifier='cls=std-sgdlog,alpha=.0000001,class_weight=balanced',random_state=0)]: extra_metrics... ['classes', 'train_i', 'train_y', 'train_predict_proba', 'test_i', 'test_y', 'test_predict_proba', 'model_size', 'model_stats', 'proc_stats']\n"
    },
    {
     "name": "stdout",
     "output_type": "stream",
     "text": "[01:07:42.363] INFO   _fit_and_score: n[115/143], model_id[split_i=0,train=28164,test=7042,classes=331,estimator=Search(n_species=331,n_recs=0.25,classifier='cls=std-sgdlog,alpha=0.001,class_weight=balanced',random_state=0)]: fit[45.919s]\n"
    },
    {
     "name": "stdout",
     "output_type": "stream",
     "text": "[01:07:46.102] INFO   _fit_and_score: n[113/143], model_id[split_i=0,train=28164,test=7042,classes=331,estimator=Search(n_species=331,n_recs=0.25,classifier='cls=std-sgdlog,alpha=.00001,class_weight=balanced',random_state=0)]: extra_metrics... ['classes', 'train_i', 'train_y', 'train_predict_proba', 'test_i', 'test_y', 'test_predict_proba', 'model_size', 'model_stats', 'proc_stats']\n"
    },
    {
     "name": "stdout",
     "output_type": "stream",
     "text": "[01:07:59.360] INFO   _fit_and_score: n[115/143], model_id[split_i=0,train=28164,test=7042,classes=331,estimator=Search(n_species=331,n_recs=0.25,classifier='cls=std-sgdlog,alpha=0.001,class_weight=balanced',random_state=0)]: extra_metrics... ['classes', 'train_i', 'train_y', 'train_predict_proba', 'test_i', 'test_y', 'test_predict_proba', 'model_size', 'model_stats', 'proc_stats']\n"
    },
    {
     "name": "stdout",
     "output_type": "stream",
     "text": "[01:08:03.484] INFO   _fit_and_score: n[112/143], model_id[split_i=0,train=28164,test=7042,classes=331,estimator=Search(n_species=331,n_recs=0.25,classifier='cls=std-sgdlog,alpha=.000001,class_weight=balanced',random_state=0)]: extra_metrics[27.147s, 94.4 MB]: ['classes', 'train_i', 'train_y', 'train_predict_proba', 'test_i', 'test_y', 'test_predict_proba', 'model_size', 'model_stats', 'proc_stats']\n"
    },
    {
     "name": "stdout",
     "output_type": "stream",
     "text": "[01:08:03.516] INFO   _fit_and_score: n[112/143], model_id[split_i=0,train=28164,test=7042,classes=331,estimator=Search(n_species=331,n_recs=0.25,classifier='cls=std-sgdlog,alpha=.000001,class_weight=balanced',random_state=0)]: save: ret...\n"
    },
    {
     "name": "stdout",
     "output_type": "stream",
     "text": "[01:08:03.797] INFO   _fit_and_score: n[114/143], model_id[split_i=0,train=28164,test=7042,classes=331,estimator=Search(n_species=331,n_recs=0.25,classifier='cls=std-sgdlog,alpha=0.0001,class_weight=balanced',random_state=0)]: fit[67.753s]\n"
    },
    {
     "name": "stdout",
     "output_type": "stream",
     "text": "[01:08:07.431] INFO   _fit_and_score: n[112/143], model_id[split_i=0,train=28164,test=7042,classes=331,estimator=Search(n_species=331,n_recs=0.25,classifier='cls=std-sgdlog,alpha=.000001,class_weight=balanced',random_state=0)]: save[3.881s, 94.4 MB]: ret\n"
    },
    {
     "name": "stdout",
     "output_type": "stream",
     "text": "[01:08:07.489] INFO   _fit_and_score: n[112/143], model_id[split_i=0,train=28164,test=7042,classes=331,estimator=Search(n_species=331,n_recs=0.25,classifier='cls=std-sgdlog,alpha=.000001,class_weight=balanced',random_state=0)]: save: estimator...\n"
    },
    {
     "name": "stdout",
     "output_type": "stream",
     "text": "[01:08:09.764] INFO   _fit_and_score: n[114/143], model_id[split_i=0,train=28164,test=7042,classes=331,estimator=Search(n_species=331,n_recs=0.25,classifier='cls=std-sgdlog,alpha=0.0001,class_weight=balanced',random_state=0)]: extra_metrics... ['classes', 'train_i', 'train_y', 'train_predict_proba', 'test_i', 'test_y', 'test_predict_proba', 'model_size', 'model_stats', 'proc_stats']\n"
    },
    {
     "name": "stdout",
     "output_type": "stream",
     "text": "[01:08:10.463] INFO   _fit_and_score: n[112/143], model_id[split_i=0,train=28164,test=7042,classes=331,estimator=Search(n_species=331,n_recs=0.25,classifier='cls=std-sgdlog,alpha=.000001,class_weight=balanced',random_state=0)]: save[2.946s, 45.6 MB]: estimator\n"
    },
    {
     "name": "stderr",
     "output_type": "stream",
     "text": "/opt/conda/lib/python3.6/site-packages/sklearn/linear_model/base.py:340: RuntimeWarning: overflow encountered in exp\n  np.exp(prob, prob)\n"
    },
    {
     "name": "stderr",
     "output_type": "stream",
     "text": "/opt/conda/lib/python3.6/site-packages/sklearn/linear_model/base.py:347: RuntimeWarning: invalid value encountered in true_divide\n  prob /= prob.sum(axis=1).reshape((prob.shape[0], -1))\n"
    },
    {
     "name": "stdout",
     "output_type": "stream",
     "text": "[01:08:11.454] INFO   _fit_and_score: n[116/143], model_id[split_i=0,train=28164,test=7042,classes=331,estimator=Search(n_species=331,n_recs=0.25,classifier='cls=std-sgdlog,alpha=0.01,class_weight=balanced',random_state=0)]: fit[74.663s]\n"
    },
    {
     "name": "stdout",
     "output_type": "stream",
     "text": "[01:08:11.721] INFO   _fit_and_score: n[111/143], model_id[split_i=0,train=28164,test=7042,classes=331,estimator=Search(n_species=331,n_recs=0.25,classifier='cls=std-sgdlog,alpha=.0000001,class_weight=balanced',random_state=0)]: extra_metrics[32.136s, 94.4 MB]: ['classes', 'train_i', 'train_y', 'train_predict_proba', 'test_i', 'test_y', 'test_predict_proba', 'model_size', 'model_stats', 'proc_stats']\n"
    },
    {
     "name": "stdout",
     "output_type": "stream",
     "text": "[01:08:11.767] INFO   _fit_and_score: n[111/143], model_id[split_i=0,train=28164,test=7042,classes=331,estimator=Search(n_species=331,n_recs=0.25,classifier='cls=std-sgdlog,alpha=.0000001,class_weight=balanced',random_state=0)]: save: ret...\n"
    },
    {
     "name": "stderr",
     "output_type": "stream",
     "text": "/opt/conda/lib/python3.6/site-packages/sklearn/linear_model/base.py:340: RuntimeWarning: overflow encountered in exp\n  np.exp(prob, prob)\n"
    },
    {
     "name": "stderr",
     "output_type": "stream",
     "text": "/opt/conda/lib/python3.6/site-packages/sklearn/linear_model/base.py:347: RuntimeWarning: invalid value encountered in true_divide\n  prob /= prob.sum(axis=1).reshape((prob.shape[0], -1))\n"
    },
    {
     "name": "stdout",
     "output_type": "stream",
     "text": "[01:08:12.939] INFO   _fit_and_score: n[118/143], model_id[split_i=0,train=28164,test=7042,classes=331,estimator=Search(n_species=331,n_recs=0.25,classifier='cls=std-sgdlog,alpha=1,class_weight=balanced',random_state=0)]: fit[74.032s]\n"
    },
    {
     "name": "stdout",
     "output_type": "stream",
     "text": "[01:08:13.366] INFO   _fit_and_score: n[111/143], model_id[split_i=0,train=28164,test=7042,classes=331,estimator=Search(n_species=331,n_recs=0.25,classifier='cls=std-sgdlog,alpha=.0000001,class_weight=balanced',random_state=0)]: save[1.576s, 94.4 MB]: ret\n"
    },
    {
     "name": "stdout",
     "output_type": "stream",
     "text": "[01:08:13.402] INFO   _fit_and_score: n[111/143], model_id[split_i=0,train=28164,test=7042,classes=331,estimator=Search(n_species=331,n_recs=0.25,classifier='cls=std-sgdlog,alpha=.0000001,class_weight=balanced',random_state=0)]: save: estimator...\n"
    },
    {
     "name": "stdout",
     "output_type": "stream",
     "text": "[01:08:14.072] INFO   _fit_and_score: n[113/143], model_id[split_i=0,train=28164,test=7042,classes=331,estimator=Search(n_species=331,n_recs=0.25,classifier='cls=std-sgdlog,alpha=.00001,class_weight=balanced',random_state=0)]: extra_metrics[27.134s, 94.4 MB]: ['classes', 'train_i', 'train_y', 'train_predict_proba', 'test_i', 'test_y', 'test_predict_proba', 'model_size', 'model_stats', 'proc_stats']\n"
    },
    {
     "name": "stdout",
     "output_type": "stream",
     "text": "[01:08:14.133] INFO   _fit_and_score: n[113/143], model_id[split_i=0,train=28164,test=7042,classes=331,estimator=Search(n_species=331,n_recs=0.25,classifier='cls=std-sgdlog,alpha=.00001,class_weight=balanced',random_state=0)]: save: ret...\n"
    },
    {
     "name": "stderr",
     "output_type": "stream",
     "text": "/opt/conda/lib/python3.6/site-packages/sklearn/linear_model/base.py:340: RuntimeWarning: overflow encountered in exp\n  np.exp(prob, prob)\n"
    },
    {
     "name": "stderr",
     "output_type": "stream",
     "text": "/opt/conda/lib/python3.6/site-packages/sklearn/linear_model/base.py:347: RuntimeWarning: invalid value encountered in true_divide\n  prob /= prob.sum(axis=1).reshape((prob.shape[0], -1))\n"
    },
    {
     "name": "stderr",
     "output_type": "stream",
     "text": "/opt/conda/lib/python3.6/site-packages/sklearn/linear_model/base.py:340: RuntimeWarning: overflow encountered in exp\n  np.exp(prob, prob)\n"
    },
    {
     "name": "stderr",
     "output_type": "stream",
     "text": "/opt/conda/lib/python3.6/site-packages/sklearn/linear_model/base.py:347: RuntimeWarning: invalid value encountered in true_divide\n  prob /= prob.sum(axis=1).reshape((prob.shape[0], -1))\n"
    },
    {
     "name": "stdout",
     "output_type": "stream",
     "text": "[01:08:15.976] INFO   _fit_and_score: n[111/143], model_id[split_i=0,train=28164,test=7042,classes=331,estimator=Search(n_species=331,n_recs=0.25,classifier='cls=std-sgdlog,alpha=.0000001,class_weight=balanced',random_state=0)]: save[2.540s, 45.6 MB]: estimator\n"
    },
    {
     "name": "stdout",
     "output_type": "stream",
     "text": "[01:08:16.228] INFO   _fit_and_score: n[120/143], model_id[split_i=0,train=28164,test=7042,classes=331,estimator=Search(n_species=331,n_recs=0.25,classifier='cls=std-sgdlog,alpha=100,class_weight=balanced',random_state=0)]: fit[74.805s]\n"
    },
    {
     "name": "stdout",
     "output_type": "stream",
     "text": "[01:08:16.449] INFO   _fit_and_score: n[118/143], model_id[split_i=0,train=28164,test=7042,classes=331,estimator=Search(n_species=331,n_recs=0.25,classifier='cls=std-sgdlog,alpha=1,class_weight=balanced',random_state=0)]: extra_metrics... ['classes', 'train_i', 'train_y', 'train_predict_proba', 'test_i', 'test_y', 'test_predict_proba', 'model_size', 'model_stats', 'proc_stats']\n"
    },
    {
     "name": "stdout",
     "output_type": "stream",
     "text": "[01:08:16.583] INFO   _fit_and_score: n[116/143], model_id[split_i=0,train=28164,test=7042,classes=331,estimator=Search(n_species=331,n_recs=0.25,classifier='cls=std-sgdlog,alpha=0.01,class_weight=balanced',random_state=0)]: extra_metrics... ['classes', 'train_i', 'train_y', 'train_predict_proba', 'test_i', 'test_y', 'test_predict_proba', 'model_size', 'model_stats', 'proc_stats']\n"
    },
    {
     "name": "stdout",
     "output_type": "stream",
     "text": "[01:08:16.766] INFO   _fit_and_score: n[113/143], model_id[split_i=0,train=28164,test=7042,classes=331,estimator=Search(n_species=331,n_recs=0.25,classifier='cls=std-sgdlog,alpha=.00001,class_weight=balanced',random_state=0)]: save[2.597s, 94.4 MB]: ret\n"
    },
    {
     "name": "stdout",
     "output_type": "stream",
     "text": "[01:08:16.805] INFO   _fit_and_score: n[113/143], model_id[split_i=0,train=28164,test=7042,classes=331,estimator=Search(n_species=331,n_recs=0.25,classifier='cls=std-sgdlog,alpha=.00001,class_weight=balanced',random_state=0)]: save: estimator...\n"
    },
    {
     "name": "stdout",
     "output_type": "stream",
     "text": "[01:08:17.640] INFO   _fit_and_score: n[115/143], model_id[split_i=0,train=28164,test=7042,classes=331,estimator=Search(n_species=331,n_recs=0.25,classifier='cls=std-sgdlog,alpha=0.001,class_weight=balanced',random_state=0)]: extra_metrics[17.740s, 94.4 MB]: ['classes', 'train_i', 'train_y', 'train_predict_proba', 'test_i', 'test_y', 'test_predict_proba', 'model_size', 'model_stats', 'proc_stats']\n"
    },
    {
     "name": "stdout",
     "output_type": "stream",
     "text": "[01:08:17.665] INFO   _fit_and_score: n[115/143], model_id[split_i=0,train=28164,test=7042,classes=331,estimator=Search(n_species=331,n_recs=0.25,classifier='cls=std-sgdlog,alpha=0.001,class_weight=balanced',random_state=0)]: save: ret...\n"
    },
    {
     "name": "stdout",
     "output_type": "stream",
     "text": "[01:08:18.186] INFO   _fit_and_score: n[117/143], model_id[split_i=0,train=28164,test=7042,classes=331,estimator=Search(n_species=331,n_recs=0.25,classifier='cls=std-sgdlog,alpha=0.1,class_weight=balanced',random_state=0)]: fit[80.189s]\n"
    },
    {
     "name": "stdout",
     "output_type": "stream",
     "text": "[01:08:18.340] INFO   _fit_and_score: n[113/143], model_id[split_i=0,train=28164,test=7042,classes=331,estimator=Search(n_species=331,n_recs=0.25,classifier='cls=std-sgdlog,alpha=.00001,class_weight=balanced',random_state=0)]: save[1.510s, 45.6 MB]: estimator\n"
    },
    {
     "name": "stdout",
     "output_type": "stream",
     "text": "[01:08:19.675] INFO   _fit_and_score: n[121/143], model_id[split_i=0,train=28164,test=7042,classes=331,estimator=Search(n_species=331,n_recs=0.25,classifier='cls=std-sgdlog,alpha=1000,class_weight=balanced',random_state=0)]: fit[76.214s]\n"
    },
    {
     "name": "stdout",
     "output_type": "stream",
     "text": "[01:08:20.081] INFO   _fit_and_score: n[120/143], model_id[split_i=0,train=28164,test=7042,classes=331,estimator=Search(n_species=331,n_recs=0.25,classifier='cls=std-sgdlog,alpha=100,class_weight=balanced',random_state=0)]: extra_metrics... ['classes', 'train_i', 'train_y', 'train_predict_proba', 'test_i', 'test_y', 'test_predict_proba', 'model_size', 'model_stats', 'proc_stats']\n"
    },
    {
     "name": "stdout",
     "output_type": "stream",
     "text": "[01:08:20.338] INFO   _fit_and_score: n[115/143], model_id[split_i=0,train=28164,test=7042,classes=331,estimator=Search(n_species=331,n_recs=0.25,classifier='cls=std-sgdlog,alpha=0.001,class_weight=balanced',random_state=0)]: save[2.655s, 94.4 MB]: ret\n"
    },
    {
     "name": "stdout",
     "output_type": "stream",
     "text": "[01:08:20.393] INFO   _fit_and_score: n[115/143], model_id[split_i=0,train=28164,test=7042,classes=331,estimator=Search(n_species=331,n_recs=0.25,classifier='cls=std-sgdlog,alpha=0.001,class_weight=balanced',random_state=0)]: save: estimator...\n"
    },
    {
     "name": "stderr",
     "output_type": "stream",
     "text": "/opt/conda/lib/python3.6/site-packages/sklearn/linear_model/base.py:340: RuntimeWarning: overflow encountered in exp\n  np.exp(prob, prob)\n"
    },
    {
     "name": "stdout",
     "output_type": "stream",
     "text": "[01:08:23.830] INFO   _fit_and_score: n[115/143], model_id[split_i=0,train=28164,test=7042,classes=331,estimator=Search(n_species=331,n_recs=0.25,classifier='cls=std-sgdlog,alpha=0.001,class_weight=balanced',random_state=0)]: save[3.408s, 45.6 MB]: estimator\n"
    },
    {
     "name": "stdout",
     "output_type": "stream",
     "text": "[01:08:24.383] INFO   _fit_and_score: n[121/143], model_id[split_i=0,train=28164,test=7042,classes=331,estimator=Search(n_species=331,n_recs=0.25,classifier='cls=std-sgdlog,alpha=1000,class_weight=balanced',random_state=0)]: extra_metrics... ['classes', 'train_i', 'train_y', 'train_predict_proba', 'test_i', 'test_y', 'test_predict_proba', 'model_size', 'model_stats', 'proc_stats']\n"
    },
    {
     "name": "stdout",
     "output_type": "stream",
     "text": "[01:08:25.686] INFO   _fit_and_score: n[119/143], model_id[split_i=0,train=28164,test=7042,classes=331,estimator=Search(n_species=331,n_recs=0.25,classifier='cls=std-sgdlog,alpha=10,class_weight=balanced',random_state=0)]: fit[85.543s]\n"
    },
    {
     "name": "stdout",
     "output_type": "stream",
     "text": "[01:08:27.292] INFO   _fit_and_score: n[117/143], model_id[split_i=0,train=28164,test=7042,classes=331,estimator=Search(n_species=331,n_recs=0.25,classifier='cls=std-sgdlog,alpha=0.1,class_weight=balanced',random_state=0)]: extra_metrics... ['classes', 'train_i', 'train_y', 'train_predict_proba', 'test_i', 'test_y', 'test_predict_proba', 'model_size', 'model_stats', 'proc_stats']\n"
    },
    {
     "name": "stdout",
     "output_type": "stream",
     "text": "[01:08:29.856] INFO   _fit_and_score: n[114/143], model_id[split_i=0,train=28164,test=7042,classes=331,estimator=Search(n_species=331,n_recs=0.25,classifier='cls=std-sgdlog,alpha=0.0001,class_weight=balanced',random_state=0)]: extra_metrics[17.952s, 94.4 MB]: ['classes', 'train_i', 'train_y', 'train_predict_proba', 'test_i', 'test_y', 'test_predict_proba', 'model_size', 'model_stats', 'proc_stats']\n"
    },
    {
     "name": "stdout",
     "output_type": "stream",
     "text": "[01:08:29.916] INFO   _fit_and_score: n[114/143], model_id[split_i=0,train=28164,test=7042,classes=331,estimator=Search(n_species=331,n_recs=0.25,classifier='cls=std-sgdlog,alpha=0.0001,class_weight=balanced',random_state=0)]: save: ret...\n"
    },
    {
     "name": "stdout",
     "output_type": "stream",
     "text": "[01:08:34.247] INFO   _fit_and_score: n[122/143], model_id[split_i=0,train=28164,test=7042,classes=331,estimator=Search(n_species=331,n_recs=0.5,classifier='cls=std-sgdlog,alpha=.0000001,class_weight=balanced',random_state=0)]: fit[90.847s]\n"
    },
    {
     "name": "stderr",
     "output_type": "stream",
     "text": "/opt/conda/lib/python3.6/site-packages/sklearn/linear_model/base.py:340: RuntimeWarning: overflow encountered in exp\n  np.exp(prob, prob)\n"
    },
    {
     "name": "stdout",
     "output_type": "stream",
     "text": "[01:08:36.600] INFO   _fit_and_score: n[119/143], model_id[split_i=0,train=28164,test=7042,classes=331,estimator=Search(n_species=331,n_recs=0.25,classifier='cls=std-sgdlog,alpha=10,class_weight=balanced',random_state=0)]: extra_metrics... ['classes', 'train_i', 'train_y', 'train_predict_proba', 'test_i', 'test_y', 'test_predict_proba', 'model_size', 'model_stats', 'proc_stats']\n"
    },
    {
     "name": "stdout",
     "output_type": "stream",
     "text": "[01:08:38.164] INFO   _fit_and_score: n[129/143], model_id[split_i=0,train=28164,test=7042,classes=331,estimator=Search(n_species=331,n_recs=0.5,classifier='cls=std-sgdlog,alpha=1,class_weight=balanced',random_state=0)]: fit[88.624s]\n"
    },
    {
     "name": "stdout",
     "output_type": "stream",
     "text": "[01:08:38.524] INFO   _fit_and_score: n[114/143], model_id[split_i=0,train=28164,test=7042,classes=331,estimator=Search(n_species=331,n_recs=0.25,classifier='cls=std-sgdlog,alpha=0.0001,class_weight=balanced',random_state=0)]: save[8.572s, 94.4 MB]: ret\n"
    },
    {
     "name": "stdout",
     "output_type": "stream",
     "text": "[01:08:38.584] INFO   _fit_and_score: n[114/143], model_id[split_i=0,train=28164,test=7042,classes=331,estimator=Search(n_species=331,n_recs=0.25,classifier='cls=std-sgdlog,alpha=0.0001,class_weight=balanced',random_state=0)]: save: estimator...\n"
    },
    {
     "name": "stdout",
     "output_type": "stream",
     "text": "[01:08:40.194] INFO   _fit_and_score: n[128/143], model_id[split_i=0,train=28164,test=7042,classes=331,estimator=Search(n_species=331,n_recs=0.5,classifier='cls=std-sgdlog,alpha=0.1,class_weight=balanced',random_state=0)]: fit[91.367s]\n"
    },
    {
     "name": "stdout",
     "output_type": "stream",
     "text": "[01:08:40.244] INFO   _fit_and_score: n[123/143], model_id[split_i=0,train=28164,test=7042,classes=331,estimator=Search(n_species=331,n_recs=0.5,classifier='cls=std-sgdlog,alpha=.000001,class_weight=balanced',random_state=0)]: fit[97.099s]\n"
    },
    {
     "name": "stdout",
     "output_type": "stream",
     "text": "[01:08:42.317] INFO   _fit_and_score: n[124/143], model_id[split_i=0,train=28164,test=7042,classes=331,estimator=Search(n_species=331,n_recs=0.5,classifier='cls=std-sgdlog,alpha=.00001,class_weight=balanced',random_state=0)]: fit[98.219s]\n"
    },
    {
     "name": "stdout",
     "output_type": "stream",
     "text": "[01:08:44.244] INFO   _fit_and_score: n[122/143], model_id[split_i=0,train=28164,test=7042,classes=331,estimator=Search(n_species=331,n_recs=0.5,classifier='cls=std-sgdlog,alpha=.0000001,class_weight=balanced',random_state=0)]: extra_metrics... ['classes', 'train_i', 'train_y', 'train_predict_proba', 'test_i', 'test_y', 'test_predict_proba', 'model_size', 'model_stats', 'proc_stats']\n"
    },
    {
     "name": "stdout",
     "output_type": "stream",
     "text": "[01:08:46.147] INFO   _fit_and_score: n[114/143], model_id[split_i=0,train=28164,test=7042,classes=331,estimator=Search(n_species=331,n_recs=0.25,classifier='cls=std-sgdlog,alpha=0.0001,class_weight=balanced',random_state=0)]: save[7.523s, 45.6 MB]: estimator\n"
    },
    {
     "name": "stdout",
     "output_type": "stream",
     "text": "[01:08:51.971] INFO   _fit_and_score: n[129/143], model_id[split_i=0,train=28164,test=7042,classes=331,estimator=Search(n_species=331,n_recs=0.5,classifier='cls=std-sgdlog,alpha=1,class_weight=balanced',random_state=0)]: extra_metrics... ['classes', 'train_i', 'train_y', 'train_predict_proba', 'test_i', 'test_y', 'test_predict_proba', 'model_size', 'model_stats', 'proc_stats']\n"
    },
    {
     "name": "stdout",
     "output_type": "stream",
     "text": "[01:08:52.225] INFO   _fit_and_score: n[125/143], model_id[split_i=0,train=28164,test=7042,classes=331,estimator=Search(n_species=331,n_recs=0.5,classifier='cls=std-sgdlog,alpha=0.0001,class_weight=balanced',random_state=0)]: fit[106.889s]\n"
    },
    {
     "name": "stdout",
     "output_type": "stream",
     "text": "[01:08:53.387] INFO   _fit_and_score: n[128/143], model_id[split_i=0,train=28164,test=7042,classes=331,estimator=Search(n_species=331,n_recs=0.5,classifier='cls=std-sgdlog,alpha=0.1,class_weight=balanced',random_state=0)]: extra_metrics... ['classes', 'train_i', 'train_y', 'train_predict_proba', 'test_i', 'test_y', 'test_predict_proba', 'model_size', 'model_stats', 'proc_stats']\n"
    },
    {
     "name": "stdout",
     "output_type": "stream",
     "text": "[01:08:54.061] INFO   _fit_and_score: n[123/143], model_id[split_i=0,train=28164,test=7042,classes=331,estimator=Search(n_species=331,n_recs=0.5,classifier='cls=std-sgdlog,alpha=.000001,class_weight=balanced',random_state=0)]: extra_metrics... ['classes', 'train_i', 'train_y', 'train_predict_proba', 'test_i', 'test_y', 'test_predict_proba', 'model_size', 'model_stats', 'proc_stats']\n"
    },
    {
     "name": "stdout",
     "output_type": "stream",
     "text": "[01:08:54.901] INFO   _fit_and_score: n[116/143], model_id[split_i=0,train=28164,test=7042,classes=331,estimator=Search(n_species=331,n_recs=0.25,classifier='cls=std-sgdlog,alpha=0.01,class_weight=balanced',random_state=0)]: extra_metrics[35.988s, 94.4 MB]: ['classes', 'train_i', 'train_y', 'train_predict_proba', 'test_i', 'test_y', 'test_predict_proba', 'model_size', 'model_stats', 'proc_stats']\n"
    },
    {
     "name": "stdout",
     "output_type": "stream",
     "text": "[01:08:54.947] INFO   _fit_and_score: n[116/143], model_id[split_i=0,train=28164,test=7042,classes=331,estimator=Search(n_species=331,n_recs=0.25,classifier='cls=std-sgdlog,alpha=0.01,class_weight=balanced',random_state=0)]: save: ret...\n"
    },
    {
     "name": "stdout",
     "output_type": "stream",
     "text": "[01:08:55.240] INFO   _fit_and_score: n[118/143], model_id[split_i=0,train=28164,test=7042,classes=331,estimator=Search(n_species=331,n_recs=0.25,classifier='cls=std-sgdlog,alpha=1,class_weight=balanced',random_state=0)]: extra_metrics[36.477s, 94.4 MB]: ['classes', 'train_i', 'train_y', 'train_predict_proba', 'test_i', 'test_y', 'test_predict_proba', 'model_size', 'model_stats', 'proc_stats']\n"
    },
    {
     "name": "stdout",
     "output_type": "stream",
     "text": "[01:08:55.301] INFO   _fit_and_score: n[118/143], model_id[split_i=0,train=28164,test=7042,classes=331,estimator=Search(n_species=331,n_recs=0.25,classifier='cls=std-sgdlog,alpha=1,class_weight=balanced',random_state=0)]: save: ret...\n"
    },
    {
     "name": "stdout",
     "output_type": "stream",
     "text": "[01:08:55.541] INFO   _fit_and_score: n[124/143], model_id[split_i=0,train=28164,test=7042,classes=331,estimator=Search(n_species=331,n_recs=0.5,classifier='cls=std-sgdlog,alpha=.00001,class_weight=balanced',random_state=0)]: extra_metrics... ['classes', 'train_i', 'train_y', 'train_predict_proba', 'test_i', 'test_y', 'test_predict_proba', 'model_size', 'model_stats', 'proc_stats']\n"
    },
    {
     "name": "stdout",
     "output_type": "stream",
     "text": "[01:08:56.473] INFO   _fit_and_score: n[132/143], model_id[split_i=0,train=28164,test=7042,classes=331,estimator=Search(n_species=331,n_recs=0.5,classifier='cls=std-sgdlog,alpha=1000,class_weight=balanced',random_state=0)]: fit[103.153s]\n"
    },
    {
     "name": "stdout",
     "output_type": "stream",
     "text": "[01:08:58.385] INFO   _fit_and_score: n[118/143], model_id[split_i=0,train=28164,test=7042,classes=331,estimator=Search(n_species=331,n_recs=0.25,classifier='cls=std-sgdlog,alpha=1,class_weight=balanced',random_state=0)]: save[3.024s, 94.4 MB]: ret\n"
    },
    {
     "name": "stdout",
     "output_type": "stream",
     "text": "[01:08:58.426] INFO   _fit_and_score: n[118/143], model_id[split_i=0,train=28164,test=7042,classes=331,estimator=Search(n_species=331,n_recs=0.25,classifier='cls=std-sgdlog,alpha=1,class_weight=balanced',random_state=0)]: save: estimator...\n"
    },
    {
     "name": "stdout",
     "output_type": "stream",
     "text": "[01:08:59.177] INFO   _fit_and_score: n[116/143], model_id[split_i=0,train=28164,test=7042,classes=331,estimator=Search(n_species=331,n_recs=0.25,classifier='cls=std-sgdlog,alpha=0.01,class_weight=balanced',random_state=0)]: save[4.190s, 94.4 MB]: ret\n"
    },
    {
     "name": "stdout",
     "output_type": "stream",
     "text": "[01:08:59.208] INFO   _fit_and_score: n[116/143], model_id[split_i=0,train=28164,test=7042,classes=331,estimator=Search(n_species=331,n_recs=0.25,classifier='cls=std-sgdlog,alpha=0.01,class_weight=balanced',random_state=0)]: save: estimator...\n"
    },
    {
     "name": "stdout",
     "output_type": "stream",
     "text": "[01:08:59.455] INFO   _fit_and_score: n[127/143], model_id[split_i=0,train=28164,test=7042,classes=331,estimator=Search(n_species=331,n_recs=0.5,classifier='cls=std-sgdlog,alpha=0.01,class_weight=balanced',random_state=0)]: fit[110.900s]\n"
    },
    {
     "name": "stdout",
     "output_type": "stream",
     "text": "[01:08:59.954] INFO   _fit_and_score: n[118/143], model_id[split_i=0,train=28164,test=7042,classes=331,estimator=Search(n_species=331,n_recs=0.25,classifier='cls=std-sgdlog,alpha=1,class_weight=balanced',random_state=0)]: save[1.515s, 45.6 MB]: estimator\n"
    },
    {
     "name": "stdout",
     "output_type": "stream",
     "text": "[01:09:00.939] INFO   _fit_and_score: n[132/143], model_id[split_i=0,train=28164,test=7042,classes=331,estimator=Search(n_species=331,n_recs=0.5,classifier='cls=std-sgdlog,alpha=1000,class_weight=balanced',random_state=0)]: extra_metrics... ['classes', 'train_i', 'train_y', 'train_predict_proba', 'test_i', 'test_y', 'test_predict_proba', 'model_size', 'model_stats', 'proc_stats']\n"
    },
    {
     "name": "stdout",
     "output_type": "stream",
     "text": "[01:09:01.296] INFO   _fit_and_score: n[116/143], model_id[split_i=0,train=28164,test=7042,classes=331,estimator=Search(n_species=331,n_recs=0.25,classifier='cls=std-sgdlog,alpha=0.01,class_weight=balanced',random_state=0)]: save[2.064s, 45.6 MB]: estimator\n"
    },
    {
     "name": "stdout",
     "output_type": "stream",
     "text": "[01:09:01.696] INFO   _fit_and_score: n[121/143], model_id[split_i=0,train=28164,test=7042,classes=331,estimator=Search(n_species=331,n_recs=0.25,classifier='cls=std-sgdlog,alpha=1000,class_weight=balanced',random_state=0)]: extra_metrics[36.832s, 94.4 MB]: ['classes', 'train_i', 'train_y', 'train_predict_proba', 'test_i', 'test_y', 'test_predict_proba', 'model_size', 'model_stats', 'proc_stats']\n"
    },
    {
     "name": "stdout",
     "output_type": "stream",
     "text": "[01:09:01.732] INFO   _fit_and_score: n[121/143], model_id[split_i=0,train=28164,test=7042,classes=331,estimator=Search(n_species=331,n_recs=0.25,classifier='cls=std-sgdlog,alpha=1000,class_weight=balanced',random_state=0)]: save: ret...\n"
    },
    {
     "name": "stdout",
     "output_type": "stream",
     "text": "[01:09:01.915] INFO   _fit_and_score: n[120/143], model_id[split_i=0,train=28164,test=7042,classes=331,estimator=Search(n_species=331,n_recs=0.25,classifier='cls=std-sgdlog,alpha=100,class_weight=balanced',random_state=0)]: extra_metrics[41.563s, 94.4 MB]: ['classes', 'train_i', 'train_y', 'train_predict_proba', 'test_i', 'test_y', 'test_predict_proba', 'model_size', 'model_stats', 'proc_stats']\n"
    },
    {
     "name": "stdout",
     "output_type": "stream",
     "text": "[01:09:01.950] INFO   _fit_and_score: n[120/143], model_id[split_i=0,train=28164,test=7042,classes=331,estimator=Search(n_species=331,n_recs=0.25,classifier='cls=std-sgdlog,alpha=100,class_weight=balanced',random_state=0)]: save: ret...\n"
    },
    {
     "name": "stdout",
     "output_type": "stream",
     "text": "[01:09:01.971] INFO   _fit_and_score: n[117/143], model_id[split_i=0,train=28164,test=7042,classes=331,estimator=Search(n_species=331,n_recs=0.25,classifier='cls=std-sgdlog,alpha=0.1,class_weight=balanced',random_state=0)]: extra_metrics[34.293s, 94.4 MB]: ['classes', 'train_i', 'train_y', 'train_predict_proba', 'test_i', 'test_y', 'test_predict_proba', 'model_size', 'model_stats', 'proc_stats']\n"
    },
    {
     "name": "stdout",
     "output_type": "stream",
     "text": "[01:09:01.976] INFO   _fit_and_score: n[125/143], model_id[split_i=0,train=28164,test=7042,classes=331,estimator=Search(n_species=331,n_recs=0.5,classifier='cls=std-sgdlog,alpha=0.0001,class_weight=balanced',random_state=0)]: extra_metrics... ['classes', 'train_i', 'train_y', 'train_predict_proba', 'test_i', 'test_y', 'test_predict_proba', 'model_size', 'model_stats', 'proc_stats']\n"
    },
    {
     "name": "stdout",
     "output_type": "stream",
     "text": "[01:09:02.001] INFO   _fit_and_score: n[117/143], model_id[split_i=0,train=28164,test=7042,classes=331,estimator=Search(n_species=331,n_recs=0.25,classifier='cls=std-sgdlog,alpha=0.1,class_weight=balanced',random_state=0)]: save: ret...\n"
    },
    {
     "name": "stdout",
     "output_type": "stream",
     "text": "[01:09:02.168] INFO   _fit_and_score: n[127/143], model_id[split_i=0,train=28164,test=7042,classes=331,estimator=Search(n_species=331,n_recs=0.5,classifier='cls=std-sgdlog,alpha=0.01,class_weight=balanced',random_state=0)]: extra_metrics... ['classes', 'train_i', 'train_y', 'train_predict_proba', 'test_i', 'test_y', 'test_predict_proba', 'model_size', 'model_stats', 'proc_stats']\n"
    },
    {
     "name": "stderr",
     "output_type": "stream",
     "text": "/opt/conda/lib/python3.6/site-packages/sklearn/linear_model/base.py:340: RuntimeWarning: overflow encountered in exp\n  np.exp(prob, prob)\n"
    },
    {
     "name": "stderr",
     "output_type": "stream",
     "text": "/opt/conda/lib/python3.6/site-packages/sklearn/linear_model/base.py:347: RuntimeWarning: invalid value encountered in true_divide\n  prob /= prob.sum(axis=1).reshape((prob.shape[0], -1))\n"
    },
    {
     "name": "stderr",
     "output_type": "stream",
     "text": "/opt/conda/lib/python3.6/site-packages/sklearn/linear_model/base.py:340: RuntimeWarning: overflow encountered in exp\n  np.exp(prob, prob)\n"
    },
    {
     "name": "stdout",
     "output_type": "stream",
     "text": "[01:09:02.639] INFO   _fit_and_score: n[121/143], model_id[split_i=0,train=28164,test=7042,classes=331,estimator=Search(n_species=331,n_recs=0.25,classifier='cls=std-sgdlog,alpha=1000,class_weight=balanced',random_state=0)]: save[0.880s, 94.4 MB]: ret\n"
    },
    {
     "name": "stdout",
     "output_type": "stream",
     "text": "[01:09:02.668] INFO   _fit_and_score: n[121/143], model_id[split_i=0,train=28164,test=7042,classes=331,estimator=Search(n_species=331,n_recs=0.25,classifier='cls=std-sgdlog,alpha=1000,class_weight=balanced',random_state=0)]: save: estimator...\n"
    },
    {
     "name": "stderr",
     "output_type": "stream",
     "text": "/opt/conda/lib/python3.6/site-packages/sklearn/linear_model/base.py:347: RuntimeWarning: invalid value encountered in true_divide\n  prob /= prob.sum(axis=1).reshape((prob.shape[0], -1))\n"
    },
    {
     "name": "stdout",
     "output_type": "stream",
     "text": "[01:09:03.118] INFO   _fit_and_score: n[117/143], model_id[split_i=0,train=28164,test=7042,classes=331,estimator=Search(n_species=331,n_recs=0.25,classifier='cls=std-sgdlog,alpha=0.1,class_weight=balanced',random_state=0)]: save[1.092s, 94.4 MB]: ret\n"
    },
    {
     "name": "stdout",
     "output_type": "stream",
     "text": "[01:09:03.156] INFO   _fit_and_score: n[117/143], model_id[split_i=0,train=28164,test=7042,classes=331,estimator=Search(n_species=331,n_recs=0.25,classifier='cls=std-sgdlog,alpha=0.1,class_weight=balanced',random_state=0)]: save: estimator...\n"
    },
    {
     "name": "stdout",
     "output_type": "stream",
     "text": "[01:09:03.423] INFO   _fit_and_score: n[120/143], model_id[split_i=0,train=28164,test=7042,classes=331,estimator=Search(n_species=331,n_recs=0.25,classifier='cls=std-sgdlog,alpha=100,class_weight=balanced',random_state=0)]: save[1.449s, 94.4 MB]: ret\n"
    },
    {
     "name": "stdout",
     "output_type": "stream",
     "text": "[01:09:03.457] INFO   _fit_and_score: n[120/143], model_id[split_i=0,train=28164,test=7042,classes=331,estimator=Search(n_species=331,n_recs=0.25,classifier='cls=std-sgdlog,alpha=100,class_weight=balanced',random_state=0)]: save: estimator...\n"
    },
    {
     "name": "stdout",
     "output_type": "stream",
     "text": "[01:09:03.591] INFO   _fit_and_score: n[119/143], model_id[split_i=0,train=28164,test=7042,classes=331,estimator=Search(n_species=331,n_recs=0.25,classifier='cls=std-sgdlog,alpha=10,class_weight=balanced',random_state=0)]: extra_metrics[26.711s, 94.4 MB]: ['classes', 'train_i', 'train_y', 'train_predict_proba', 'test_i', 'test_y', 'test_predict_proba', 'model_size', 'model_stats', 'proc_stats']\n"
    },
    {
     "name": "stdout",
     "output_type": "stream",
     "text": "[01:09:03.616] INFO   _fit_and_score: n[119/143], model_id[split_i=0,train=28164,test=7042,classes=331,estimator=Search(n_species=331,n_recs=0.25,classifier='cls=std-sgdlog,alpha=10,class_weight=balanced',random_state=0)]: save: ret...\n"
    },
    {
     "name": "stdout",
     "output_type": "stream",
     "text": "[01:09:03.892] INFO   _fit_and_score: n[122/143], model_id[split_i=0,train=28164,test=7042,classes=331,estimator=Search(n_species=331,n_recs=0.5,classifier='cls=std-sgdlog,alpha=.0000001,class_weight=balanced',random_state=0)]: extra_metrics[19.395s, 94.4 MB]: ['classes', 'train_i', 'train_y', 'train_predict_proba', 'test_i', 'test_y', 'test_predict_proba', 'model_size', 'model_stats', 'proc_stats']\n"
    },
    {
     "name": "stdout",
     "output_type": "stream",
     "text": "[01:09:03.937] INFO   _fit_and_score: n[122/143], model_id[split_i=0,train=28164,test=7042,classes=331,estimator=Search(n_species=331,n_recs=0.5,classifier='cls=std-sgdlog,alpha=.0000001,class_weight=balanced',random_state=0)]: save: ret...\n"
    },
    {
     "name": "stdout",
     "output_type": "stream",
     "text": "[01:09:04.070] INFO   _fit_and_score: n[121/143], model_id[split_i=0,train=28164,test=7042,classes=331,estimator=Search(n_species=331,n_recs=0.25,classifier='cls=std-sgdlog,alpha=1000,class_weight=balanced',random_state=0)]: save[1.379s, 45.6 MB]: estimator\n"
    },
    {
     "name": "stderr",
     "output_type": "stream",
     "text": "/opt/conda/lib/python3.6/site-packages/sklearn/linear_model/base.py:340: RuntimeWarning: overflow encountered in exp\n  np.exp(prob, prob)\n"
    },
    {
     "name": "stdout",
     "output_type": "stream",
     "text": "[01:09:04.101] INFO   _fit_and_score: n[117/143], model_id[split_i=0,train=28164,test=7042,classes=331,estimator=Search(n_species=331,n_recs=0.25,classifier='cls=std-sgdlog,alpha=0.1,class_weight=balanced',random_state=0)]: save[0.920s, 45.6 MB]: estimator\n"
    },
    {
     "name": "stderr",
     "output_type": "stream",
     "text": "/opt/conda/lib/python3.6/site-packages/sklearn/linear_model/base.py:347: RuntimeWarning: invalid value encountered in true_divide\n  prob /= prob.sum(axis=1).reshape((prob.shape[0], -1))\n"
    },
    {
     "name": "stdout",
     "output_type": "stream",
     "text": "[01:09:04.758] INFO   _fit_and_score: n[131/143], model_id[split_i=0,train=28164,test=7042,classes=331,estimator=Search(n_species=331,n_recs=0.5,classifier='cls=std-sgdlog,alpha=100,class_weight=balanced',random_state=0)]: fit[111.585s]\n"
    },
    {
     "name": "stdout",
     "output_type": "stream",
     "text": "[01:09:04.788] INFO   _fit_and_score: n[123/143], model_id[split_i=0,train=28164,test=7042,classes=331,estimator=Search(n_species=331,n_recs=0.5,classifier='cls=std-sgdlog,alpha=.000001,class_weight=balanced',random_state=0)]: extra_metrics[10.232s, 94.4 MB]: ['classes', 'train_i', 'train_y', 'train_predict_proba', 'test_i', 'test_y', 'test_predict_proba', 'model_size', 'model_stats', 'proc_stats']\n"
    },
    {
     "name": "stdout",
     "output_type": "stream",
     "text": "[01:09:04.818] INFO   _fit_and_score: n[123/143], model_id[split_i=0,train=28164,test=7042,classes=331,estimator=Search(n_species=331,n_recs=0.5,classifier='cls=std-sgdlog,alpha=.000001,class_weight=balanced',random_state=0)]: save: ret...\n"
    },
    {
     "name": "stdout",
     "output_type": "stream",
     "text": "[01:09:04.862] INFO   _fit_and_score: n[130/143], model_id[split_i=0,train=28164,test=7042,classes=331,estimator=Search(n_species=331,n_recs=0.5,classifier='cls=std-sgdlog,alpha=10,class_weight=balanced',random_state=0)]: fit[114.221s]\n"
    },
    {
     "name": "stdout",
     "output_type": "stream",
     "text": "[01:09:04.949] INFO   _fit_and_score: n[128/143], model_id[split_i=0,train=28164,test=7042,classes=331,estimator=Search(n_species=331,n_recs=0.5,classifier='cls=std-sgdlog,alpha=0.1,class_weight=balanced',random_state=0)]: extra_metrics[11.309s, 94.4 MB]: ['classes', 'train_i', 'train_y', 'train_predict_proba', 'test_i', 'test_y', 'test_predict_proba', 'model_size', 'model_stats', 'proc_stats']\n"
    },
    {
     "name": "stdout",
     "output_type": "stream",
     "text": "[01:09:04.976] INFO   _fit_and_score: n[128/143], model_id[split_i=0,train=28164,test=7042,classes=331,estimator=Search(n_species=331,n_recs=0.5,classifier='cls=std-sgdlog,alpha=0.1,class_weight=balanced',random_state=0)]: save: ret...\n"
    },
    {
     "name": "stdout",
     "output_type": "stream",
     "text": "[01:09:05.024] INFO   _fit_and_score: n[120/143], model_id[split_i=0,train=28164,test=7042,classes=331,estimator=Search(n_species=331,n_recs=0.25,classifier='cls=std-sgdlog,alpha=100,class_weight=balanced',random_state=0)]: save[1.530s, 45.6 MB]: estimator\n"
    },
    {
     "name": "stdout",
     "output_type": "stream",
     "text": "[01:09:05.349] INFO   _fit_and_score: n[122/143], model_id[split_i=0,train=28164,test=7042,classes=331,estimator=Search(n_species=331,n_recs=0.5,classifier='cls=std-sgdlog,alpha=.0000001,class_weight=balanced',random_state=0)]: save[1.385s, 94.4 MB]: ret\n"
    },
    {
     "name": "stdout",
     "output_type": "stream",
     "text": "[01:09:05.384] INFO   _fit_and_score: n[122/143], model_id[split_i=0,train=28164,test=7042,classes=331,estimator=Search(n_species=331,n_recs=0.5,classifier='cls=std-sgdlog,alpha=.0000001,class_weight=balanced',random_state=0)]: save: estimator...\n"
    },
    {
     "name": "stdout",
     "output_type": "stream",
     "text": "[01:09:05.408] INFO   _fit_and_score: n[119/143], model_id[split_i=0,train=28164,test=7042,classes=331,estimator=Search(n_species=331,n_recs=0.25,classifier='cls=std-sgdlog,alpha=10,class_weight=balanced',random_state=0)]: save[1.769s, 94.4 MB]: ret\n"
    },
    {
     "name": "stdout",
     "output_type": "stream",
     "text": "[01:09:05.430] INFO   _fit_and_score: n[119/143], model_id[split_i=0,train=28164,test=7042,classes=331,estimator=Search(n_species=331,n_recs=0.25,classifier='cls=std-sgdlog,alpha=10,class_weight=balanced',random_state=0)]: save: estimator...\n"
    },
    {
     "name": "stdout",
     "output_type": "stream",
     "text": "[01:09:05.504] INFO   _fit_and_score: n[124/143], model_id[split_i=0,train=28164,test=7042,classes=331,estimator=Search(n_species=331,n_recs=0.5,classifier='cls=std-sgdlog,alpha=.00001,class_weight=balanced',random_state=0)]: extra_metrics[9.678s, 94.4 MB]: ['classes', 'train_i', 'train_y', 'train_predict_proba', 'test_i', 'test_y', 'test_predict_proba', 'model_size', 'model_stats', 'proc_stats']\n"
    },
    {
     "name": "stdout",
     "output_type": "stream",
     "text": "[01:09:05.533] INFO   _fit_and_score: n[124/143], model_id[split_i=0,train=28164,test=7042,classes=331,estimator=Search(n_species=331,n_recs=0.5,classifier='cls=std-sgdlog,alpha=.00001,class_weight=balanced',random_state=0)]: save: ret...\n"
    },
    {
     "name": "stdout",
     "output_type": "stream",
     "text": "[01:09:05.662] INFO   _fit_and_score: n[126/143], model_id[split_i=0,train=28164,test=7042,classes=331,estimator=Search(n_species=331,n_recs=0.5,classifier='cls=std-sgdlog,alpha=0.001,class_weight=balanced',random_state=0)]: fit[118.843s]\n"
    },
    {
     "name": "stdout",
     "output_type": "stream",
     "text": "[01:09:05.708] INFO   _fit_and_score: n[129/143], model_id[split_i=0,train=28164,test=7042,classes=331,estimator=Search(n_species=331,n_recs=0.5,classifier='cls=std-sgdlog,alpha=1,class_weight=balanced',random_state=0)]: extra_metrics[13.430s, 94.4 MB]: ['classes', 'train_i', 'train_y', 'train_predict_proba', 'test_i', 'test_y', 'test_predict_proba', 'model_size', 'model_stats', 'proc_stats']\n"
    },
    {
     "name": "stdout",
     "output_type": "stream",
     "text": "[01:09:05.736] INFO   _fit_and_score: n[129/143], model_id[split_i=0,train=28164,test=7042,classes=331,estimator=Search(n_species=331,n_recs=0.5,classifier='cls=std-sgdlog,alpha=1,class_weight=balanced',random_state=0)]: save: ret...\n"
    },
    {
     "name": "stdout",
     "output_type": "stream",
     "text": "[01:09:06.010] INFO   _fit_and_score: n[123/143], model_id[split_i=0,train=28164,test=7042,classes=331,estimator=Search(n_species=331,n_recs=0.5,classifier='cls=std-sgdlog,alpha=.000001,class_weight=balanced',random_state=0)]: save[1.176s, 94.4 MB]: ret\n"
    },
    {
     "name": "stdout",
     "output_type": "stream",
     "text": "[01:09:06.034] INFO   _fit_and_score: n[123/143], model_id[split_i=0,train=28164,test=7042,classes=331,estimator=Search(n_species=331,n_recs=0.5,classifier='cls=std-sgdlog,alpha=.000001,class_weight=balanced',random_state=0)]: save: estimator...\n"
    },
    {
     "name": "stdout",
     "output_type": "stream",
     "text": "[01:09:06.068] INFO   _fit_and_score: n[128/143], model_id[split_i=0,train=28164,test=7042,classes=331,estimator=Search(n_species=331,n_recs=0.5,classifier='cls=std-sgdlog,alpha=0.1,class_weight=balanced',random_state=0)]: save[1.064s, 94.4 MB]: ret\n"
    },
    {
     "name": "stdout",
     "output_type": "stream",
     "text": "[01:09:06.098] INFO   _fit_and_score: n[128/143], model_id[split_i=0,train=28164,test=7042,classes=331,estimator=Search(n_species=331,n_recs=0.5,classifier='cls=std-sgdlog,alpha=0.1,class_weight=balanced',random_state=0)]: save: estimator...\n"
    },
    {
     "name": "stdout",
     "output_type": "stream",
     "text": "[01:09:06.316] INFO   _fit_and_score: n[119/143], model_id[split_i=0,train=28164,test=7042,classes=331,estimator=Search(n_species=331,n_recs=0.25,classifier='cls=std-sgdlog,alpha=10,class_weight=balanced',random_state=0)]: save[0.863s, 45.6 MB]: estimator\n"
    },
    {
     "name": "stdout",
     "output_type": "stream",
     "text": "[01:09:06.322] INFO   _fit_and_score: n[131/143], model_id[split_i=0,train=28164,test=7042,classes=331,estimator=Search(n_species=331,n_recs=0.5,classifier='cls=std-sgdlog,alpha=100,class_weight=balanced',random_state=0)]: extra_metrics... ['classes', 'train_i', 'train_y', 'train_predict_proba', 'test_i', 'test_y', 'test_predict_proba', 'model_size', 'model_stats', 'proc_stats']\n"
    },
    {
     "name": "stdout",
     "output_type": "stream",
     "text": "[01:09:06.395] INFO   _fit_and_score: n[122/143], model_id[split_i=0,train=28164,test=7042,classes=331,estimator=Search(n_species=331,n_recs=0.5,classifier='cls=std-sgdlog,alpha=.0000001,class_weight=balanced',random_state=0)]: save[0.985s, 88.4 MB]: estimator\n"
    },
    {
     "name": "stdout",
     "output_type": "stream",
     "text": "[01:09:06.700] INFO   _fit_and_score: n[124/143], model_id[split_i=0,train=28164,test=7042,classes=331,estimator=Search(n_species=331,n_recs=0.5,classifier='cls=std-sgdlog,alpha=.00001,class_weight=balanced',random_state=0)]: save[1.143s, 94.4 MB]: ret\n"
    },
    {
     "name": "stdout",
     "output_type": "stream",
     "text": "[01:09:06.725] INFO   _fit_and_score: n[124/143], model_id[split_i=0,train=28164,test=7042,classes=331,estimator=Search(n_species=331,n_recs=0.5,classifier='cls=std-sgdlog,alpha=.00001,class_weight=balanced',random_state=0)]: save: estimator...\n"
    },
    {
     "name": "stdout",
     "output_type": "stream",
     "text": "[01:09:06.829] INFO   _fit_and_score: n[129/143], model_id[split_i=0,train=28164,test=7042,classes=331,estimator=Search(n_species=331,n_recs=0.5,classifier='cls=std-sgdlog,alpha=1,class_weight=balanced',random_state=0)]: save[1.070s, 94.4 MB]: ret\n"
    },
    {
     "name": "stdout",
     "output_type": "stream",
     "text": "[01:09:06.860] INFO   _fit_and_score: n[129/143], model_id[split_i=0,train=28164,test=7042,classes=331,estimator=Search(n_species=331,n_recs=0.5,classifier='cls=std-sgdlog,alpha=1,class_weight=balanced',random_state=0)]: save: estimator...\n"
    },
    {
     "name": "stdout",
     "output_type": "stream",
     "text": "[01:09:06.901] INFO   _fit_and_score: n[130/143], model_id[split_i=0,train=28164,test=7042,classes=331,estimator=Search(n_species=331,n_recs=0.5,classifier='cls=std-sgdlog,alpha=10,class_weight=balanced',random_state=0)]: extra_metrics... ['classes', 'train_i', 'train_y', 'train_predict_proba', 'test_i', 'test_y', 'test_predict_proba', 'model_size', 'model_stats', 'proc_stats']\n"
    },
    {
     "name": "stdout",
     "output_type": "stream",
     "text": "[01:09:06.995] INFO   _fit_and_score: n[132/143], model_id[split_i=0,train=28164,test=7042,classes=331,estimator=Search(n_species=331,n_recs=0.5,classifier='cls=std-sgdlog,alpha=1000,class_weight=balanced',random_state=0)]: extra_metrics[5.788s, 94.4 MB]: ['classes', 'train_i', 'train_y', 'train_predict_proba', 'test_i', 'test_y', 'test_predict_proba', 'model_size', 'model_stats', 'proc_stats']\n"
    },
    {
     "name": "stdout",
     "output_type": "stream",
     "text": "[01:09:07.024] INFO   _fit_and_score: n[132/143], model_id[split_i=0,train=28164,test=7042,classes=331,estimator=Search(n_species=331,n_recs=0.5,classifier='cls=std-sgdlog,alpha=1000,class_weight=balanced',random_state=0)]: save: ret...\n"
    },
    {
     "name": "stdout",
     "output_type": "stream",
     "text": "[01:09:07.151] INFO   _fit_and_score: n[123/143], model_id[split_i=0,train=28164,test=7042,classes=331,estimator=Search(n_species=331,n_recs=0.5,classifier='cls=std-sgdlog,alpha=.000001,class_weight=balanced',random_state=0)]: save[1.092s, 88.4 MB]: estimator\n"
    },
    {
     "name": "stdout",
     "output_type": "stream",
     "text": "[01:09:07.174] INFO   _fit_and_score: n[128/143], model_id[split_i=0,train=28164,test=7042,classes=331,estimator=Search(n_species=331,n_recs=0.5,classifier='cls=std-sgdlog,alpha=0.1,class_weight=balanced',random_state=0)]: save[1.052s, 88.4 MB]: estimator\n"
    },
    {
     "name": "stdout",
     "output_type": "stream",
     "text": "[01:09:07.363] INFO   _fit_and_score: n[125/143], model_id[split_i=0,train=28164,test=7042,classes=331,estimator=Search(n_species=331,n_recs=0.5,classifier='cls=std-sgdlog,alpha=0.0001,class_weight=balanced',random_state=0)]: extra_metrics[5.064s, 94.4 MB]: ['classes', 'train_i', 'train_y', 'train_predict_proba', 'test_i', 'test_y', 'test_predict_proba', 'model_size', 'model_stats', 'proc_stats']\n"
    },
    {
     "name": "stdout",
     "output_type": "stream",
     "text": "[01:09:07.390] INFO   _fit_and_score: n[125/143], model_id[split_i=0,train=28164,test=7042,classes=331,estimator=Search(n_species=331,n_recs=0.5,classifier='cls=std-sgdlog,alpha=0.0001,class_weight=balanced',random_state=0)]: save: ret...\n"
    },
    {
     "name": "stdout",
     "output_type": "stream",
     "text": "[01:09:07.569] INFO   _fit_and_score: n[124/143], model_id[split_i=0,train=28164,test=7042,classes=331,estimator=Search(n_species=331,n_recs=0.5,classifier='cls=std-sgdlog,alpha=.00001,class_weight=balanced',random_state=0)]: save[0.820s, 88.4 MB]: estimator\n"
    },
    {
     "name": "stdout",
     "output_type": "stream",
     "text": "[01:09:08.023] INFO   _fit_and_score: n[129/143], model_id[split_i=0,train=28164,test=7042,classes=331,estimator=Search(n_species=331,n_recs=0.5,classifier='cls=std-sgdlog,alpha=1,class_weight=balanced',random_state=0)]: save[1.145s, 88.4 MB]: estimator\n"
    },
    {
     "name": "stderr",
     "output_type": "stream",
     "text": "/opt/conda/lib/python3.6/site-packages/sklearn/linear_model/base.py:340: RuntimeWarning: overflow encountered in exp\n  np.exp(prob, prob)\n"
    },
    {
     "name": "stdout",
     "output_type": "stream",
     "text": "[01:09:08.153] INFO   _fit_and_score: n[126/143], model_id[split_i=0,train=28164,test=7042,classes=331,estimator=Search(n_species=331,n_recs=0.5,classifier='cls=std-sgdlog,alpha=0.001,class_weight=balanced',random_state=0)]: extra_metrics... ['classes', 'train_i', 'train_y', 'train_predict_proba', 'test_i', 'test_y', 'test_predict_proba', 'model_size', 'model_stats', 'proc_stats']\n"
    },
    {
     "name": "stdout",
     "output_type": "stream",
     "text": "[01:09:08.180] INFO   _fit_and_score: n[132/143], model_id[split_i=0,train=28164,test=7042,classes=331,estimator=Search(n_species=331,n_recs=0.5,classifier='cls=std-sgdlog,alpha=1000,class_weight=balanced',random_state=0)]: save[1.127s, 94.4 MB]: ret\n"
    },
    {
     "name": "stdout",
     "output_type": "stream",
     "text": "[01:09:08.208] INFO   _fit_and_score: n[132/143], model_id[split_i=0,train=28164,test=7042,classes=331,estimator=Search(n_species=331,n_recs=0.5,classifier='cls=std-sgdlog,alpha=1000,class_weight=balanced',random_state=0)]: save: estimator...\n"
    },
    {
     "name": "stdout",
     "output_type": "stream",
     "text": "[01:09:08.256] INFO   _fit_and_score: n[127/143], model_id[split_i=0,train=28164,test=7042,classes=331,estimator=Search(n_species=331,n_recs=0.5,classifier='cls=std-sgdlog,alpha=0.01,class_weight=balanced',random_state=0)]: extra_metrics[5.766s, 94.4 MB]: ['classes', 'train_i', 'train_y', 'train_predict_proba', 'test_i', 'test_y', 'test_predict_proba', 'model_size', 'model_stats', 'proc_stats']\n"
    },
    {
     "name": "stderr",
     "output_type": "stream",
     "text": "/opt/conda/lib/python3.6/site-packages/sklearn/linear_model/base.py:347: RuntimeWarning: invalid value encountered in true_divide\n  prob /= prob.sum(axis=1).reshape((prob.shape[0], -1))\n"
    },
    {
     "name": "stdout",
     "output_type": "stream",
     "text": "[01:09:08.283] INFO   _fit_and_score: n[127/143], model_id[split_i=0,train=28164,test=7042,classes=331,estimator=Search(n_species=331,n_recs=0.5,classifier='cls=std-sgdlog,alpha=0.01,class_weight=balanced',random_state=0)]: save: ret...\n"
    },
    {
     "name": "stderr",
     "output_type": "stream",
     "text": "/opt/conda/lib/python3.6/site-packages/sklearn/linear_model/base.py:340: RuntimeWarning: overflow encountered in exp\n  np.exp(prob, prob)\n"
    },
    {
     "name": "stdout",
     "output_type": "stream",
     "text": "[01:09:08.669] INFO   _fit_and_score: n[125/143], model_id[split_i=0,train=28164,test=7042,classes=331,estimator=Search(n_species=331,n_recs=0.5,classifier='cls=std-sgdlog,alpha=0.0001,class_weight=balanced',random_state=0)]: save[1.248s, 94.4 MB]: ret\n"
    },
    {
     "name": "stdout",
     "output_type": "stream",
     "text": "[01:09:08.695] INFO   _fit_and_score: n[125/143], model_id[split_i=0,train=28164,test=7042,classes=331,estimator=Search(n_species=331,n_recs=0.5,classifier='cls=std-sgdlog,alpha=0.0001,class_weight=balanced',random_state=0)]: save: estimator...\n"
    },
    {
     "name": "stdout",
     "output_type": "stream",
     "text": "[01:09:08.750] INFO   _fit_and_score: n[143/143], model_id[split_i=0,train=28164,test=7042,classes=331,estimator=Search(n_species=331,n_recs=1.0,classifier='cls=std-sgdlog,alpha=1000,class_weight=balanced',random_state=0)]: fit[107.718s]\n"
    },
    {
     "name": "stdout",
     "output_type": "stream",
     "text": "[01:09:08.817] INFO   _fit_and_score: n[133/143], model_id[split_i=0,train=28164,test=7042,classes=331,estimator=Search(n_species=331,n_recs=1.0,classifier='cls=std-sgdlog,alpha=.0000001,class_weight=balanced',random_state=0)]: fit[114.053s]\n"
    },
    {
     "name": "stdout",
     "output_type": "stream",
     "text": "[01:09:09.140] INFO   _fit_and_score: n[134/143], model_id[split_i=0,train=28164,test=7042,classes=331,estimator=Search(n_species=331,n_recs=1.0,classifier='cls=std-sgdlog,alpha=.000001,class_weight=balanced',random_state=0)]: fit[113.546s]\n"
    },
    {
     "name": "stdout",
     "output_type": "stream",
     "text": "[01:09:09.414] INFO   _fit_and_score: n[132/143], model_id[split_i=0,train=28164,test=7042,classes=331,estimator=Search(n_species=331,n_recs=0.5,classifier='cls=std-sgdlog,alpha=1000,class_weight=balanced',random_state=0)]: save[1.182s, 88.4 MB]: estimator\n"
    },
    {
     "name": "stdout",
     "output_type": "stream",
     "text": "[01:09:09.577] INFO   _fit_and_score: n[127/143], model_id[split_i=0,train=28164,test=7042,classes=331,estimator=Search(n_species=331,n_recs=0.5,classifier='cls=std-sgdlog,alpha=0.01,class_weight=balanced',random_state=0)]: save[1.269s, 94.4 MB]: ret\n"
    },
    {
     "name": "stdout",
     "output_type": "stream",
     "text": "[01:09:09.603] INFO   _fit_and_score: n[127/143], model_id[split_i=0,train=28164,test=7042,classes=331,estimator=Search(n_species=331,n_recs=0.5,classifier='cls=std-sgdlog,alpha=0.01,class_weight=balanced',random_state=0)]: save: estimator...\n"
    },
    {
     "name": "stdout",
     "output_type": "stream",
     "text": "[01:09:09.823] INFO   _fit_and_score: n[125/143], model_id[split_i=0,train=28164,test=7042,classes=331,estimator=Search(n_species=331,n_recs=0.5,classifier='cls=std-sgdlog,alpha=0.0001,class_weight=balanced',random_state=0)]: save[1.103s, 88.4 MB]: estimator\n"
    },
    {
     "name": "stdout",
     "output_type": "stream",
     "text": "[01:09:10.048] INFO   _fit_and_score: n[139/143], model_id[split_i=0,train=28164,test=7042,classes=331,estimator=Search(n_species=331,n_recs=1.0,classifier='cls=std-sgdlog,alpha=0.1,class_weight=balanced',random_state=0)]: fit[111.437s]\n"
    },
    {
     "name": "stdout",
     "output_type": "stream",
     "text": "[01:09:10.315] INFO   _fit_and_score: n[136/143], model_id[split_i=0,train=28164,test=7042,classes=331,estimator=Search(n_species=331,n_recs=1.0,classifier='cls=std-sgdlog,alpha=0.0001,class_weight=balanced',random_state=0)]: fit[112.990s]\n"
    },
    {
     "name": "stdout",
     "output_type": "stream",
     "text": "[01:09:10.552] INFO   _fit_and_score: n[143/143], model_id[split_i=0,train=28164,test=7042,classes=331,estimator=Search(n_species=331,n_recs=1.0,classifier='cls=std-sgdlog,alpha=1000,class_weight=balanced',random_state=0)]: extra_metrics... ['classes', 'train_i', 'train_y', 'train_predict_proba', 'test_i', 'test_y', 'test_predict_proba', 'model_size', 'model_stats', 'proc_stats']\n"
    },
    {
     "name": "stdout",
     "output_type": "stream",
     "text": "[01:09:10.675] INFO   _fit_and_score: n[127/143], model_id[split_i=0,train=28164,test=7042,classes=331,estimator=Search(n_species=331,n_recs=0.5,classifier='cls=std-sgdlog,alpha=0.01,class_weight=balanced',random_state=0)]: save[1.047s, 88.4 MB]: estimator\n"
    },
    {
     "name": "stdout",
     "output_type": "stream",
     "text": "[01:09:10.908] INFO   _fit_and_score: n[134/143], model_id[split_i=0,train=28164,test=7042,classes=331,estimator=Search(n_species=331,n_recs=1.0,classifier='cls=std-sgdlog,alpha=.000001,class_weight=balanced',random_state=0)]: extra_metrics... ['classes', 'train_i', 'train_y', 'train_predict_proba', 'test_i', 'test_y', 'test_predict_proba', 'model_size', 'model_stats', 'proc_stats']\n"
    },
    {
     "name": "stdout",
     "output_type": "stream",
     "text": "[01:09:10.941] INFO   _fit_and_score: n[133/143], model_id[split_i=0,train=28164,test=7042,classes=331,estimator=Search(n_species=331,n_recs=1.0,classifier='cls=std-sgdlog,alpha=.0000001,class_weight=balanced',random_state=0)]: extra_metrics... ['classes', 'train_i', 'train_y', 'train_predict_proba', 'test_i', 'test_y', 'test_predict_proba', 'model_size', 'model_stats', 'proc_stats']\n"
    },
    {
     "name": "stdout",
     "output_type": "stream",
     "text": "[01:09:12.010] INFO   _fit_and_score: n[139/143], model_id[split_i=0,train=28164,test=7042,classes=331,estimator=Search(n_species=331,n_recs=1.0,classifier='cls=std-sgdlog,alpha=0.1,class_weight=balanced',random_state=0)]: extra_metrics... ['classes', 'train_i', 'train_y', 'train_predict_proba', 'test_i', 'test_y', 'test_predict_proba', 'model_size', 'model_stats', 'proc_stats']\n"
    },
    {
     "name": "stdout",
     "output_type": "stream",
     "text": "[01:09:12.378] INFO   _fit_and_score: n[142/143], model_id[split_i=0,train=28164,test=7042,classes=331,estimator=Search(n_species=331,n_recs=1.0,classifier='cls=std-sgdlog,alpha=100,class_weight=balanced',random_state=0)]: fit[112.075s]\n"
    },
    {
     "name": "stdout",
     "output_type": "stream",
     "text": "[01:09:12.500] INFO   _fit_and_score: n[136/143], model_id[split_i=0,train=28164,test=7042,classes=331,estimator=Search(n_species=331,n_recs=1.0,classifier='cls=std-sgdlog,alpha=0.0001,class_weight=balanced',random_state=0)]: extra_metrics... ['classes', 'train_i', 'train_y', 'train_predict_proba', 'test_i', 'test_y', 'test_predict_proba', 'model_size', 'model_stats', 'proc_stats']\n"
    },
    {
     "name": "stdout",
     "output_type": "stream",
     "text": "[01:09:12.680] INFO   _fit_and_score: n[131/143], model_id[split_i=0,train=28164,test=7042,classes=331,estimator=Search(n_species=331,n_recs=0.5,classifier='cls=std-sgdlog,alpha=100,class_weight=balanced',random_state=0)]: extra_metrics[6.022s, 94.4 MB]: ['classes', 'train_i', 'train_y', 'train_predict_proba', 'test_i', 'test_y', 'test_predict_proba', 'model_size', 'model_stats', 'proc_stats']\n"
    },
    {
     "name": "stdout",
     "output_type": "stream",
     "text": "[01:09:12.697] INFO   _fit_and_score: n[131/143], model_id[split_i=0,train=28164,test=7042,classes=331,estimator=Search(n_species=331,n_recs=0.5,classifier='cls=std-sgdlog,alpha=100,class_weight=balanced',random_state=0)]: save: ret...\n"
    },
    {
     "name": "stdout",
     "output_type": "stream",
     "text": "[01:09:13.313] INFO   _fit_and_score: n[130/143], model_id[split_i=0,train=28164,test=7042,classes=331,estimator=Search(n_species=331,n_recs=0.5,classifier='cls=std-sgdlog,alpha=10,class_weight=balanced',random_state=0)]: extra_metrics[6.073s, 94.4 MB]: ['classes', 'train_i', 'train_y', 'train_predict_proba', 'test_i', 'test_y', 'test_predict_proba', 'model_size', 'model_stats', 'proc_stats']\n"
    },
    {
     "name": "stdout",
     "output_type": "stream",
     "text": "[01:09:13.338] INFO   _fit_and_score: n[130/143], model_id[split_i=0,train=28164,test=7042,classes=331,estimator=Search(n_species=331,n_recs=0.5,classifier='cls=std-sgdlog,alpha=10,class_weight=balanced',random_state=0)]: save: ret...\n"
    },
    {
     "name": "stdout",
     "output_type": "stream",
     "text": "[01:09:13.536] INFO   _fit_and_score: n[138/143], model_id[split_i=0,train=28164,test=7042,classes=331,estimator=Search(n_species=331,n_recs=1.0,classifier='cls=std-sgdlog,alpha=0.01,class_weight=balanced',random_state=0)]: fit[115.283s]\n"
    },
    {
     "name": "stdout",
     "output_type": "stream",
     "text": "[01:09:13.976] INFO   _fit_and_score: n[131/143], model_id[split_i=0,train=28164,test=7042,classes=331,estimator=Search(n_species=331,n_recs=0.5,classifier='cls=std-sgdlog,alpha=100,class_weight=balanced',random_state=0)]: save[1.255s, 94.4 MB]: ret\n"
    },
    {
     "name": "stdout",
     "output_type": "stream",
     "text": "[01:09:14.008] INFO   _fit_and_score: n[140/143], model_id[split_i=0,train=28164,test=7042,classes=331,estimator=Search(n_species=331,n_recs=1.0,classifier='cls=std-sgdlog,alpha=1,class_weight=balanced',random_state=0)]: fit[114.513s]\n"
    },
    {
     "name": "stdout",
     "output_type": "stream",
     "text": "[01:09:14.010] INFO   _fit_and_score: n[131/143], model_id[split_i=0,train=28164,test=7042,classes=331,estimator=Search(n_species=331,n_recs=0.5,classifier='cls=std-sgdlog,alpha=100,class_weight=balanced',random_state=0)]: save: estimator...\n"
    },
    {
     "name": "stdout",
     "output_type": "stream",
     "text": "[01:09:14.057] INFO   _fit_and_score: n[126/143], model_id[split_i=0,train=28164,test=7042,classes=331,estimator=Search(n_species=331,n_recs=0.5,classifier='cls=std-sgdlog,alpha=0.001,class_weight=balanced',random_state=0)]: extra_metrics[5.544s, 94.4 MB]: ['classes', 'train_i', 'train_y', 'train_predict_proba', 'test_i', 'test_y', 'test_predict_proba', 'model_size', 'model_stats', 'proc_stats']\n"
    },
    {
     "name": "stdout",
     "output_type": "stream",
     "text": "[01:09:14.083] INFO   _fit_and_score: n[126/143], model_id[split_i=0,train=28164,test=7042,classes=331,estimator=Search(n_species=331,n_recs=0.5,classifier='cls=std-sgdlog,alpha=0.001,class_weight=balanced',random_state=0)]: save: ret...\n"
    },
    {
     "name": "stdout",
     "output_type": "stream",
     "text": "[01:09:14.227] INFO   _fit_and_score: n[142/143], model_id[split_i=0,train=28164,test=7042,classes=331,estimator=Search(n_species=331,n_recs=1.0,classifier='cls=std-sgdlog,alpha=100,class_weight=balanced',random_state=0)]: extra_metrics... ['classes', 'train_i', 'train_y', 'train_predict_proba', 'test_i', 'test_y', 'test_predict_proba', 'model_size', 'model_stats', 'proc_stats']\n"
    },
    {
     "name": "stdout",
     "output_type": "stream",
     "text": "[01:09:14.256] INFO   _fit_and_score: n[130/143], model_id[split_i=0,train=28164,test=7042,classes=331,estimator=Search(n_species=331,n_recs=0.5,classifier='cls=std-sgdlog,alpha=10,class_weight=balanced',random_state=0)]: save[0.893s, 94.4 MB]: ret\n"
    },
    {
     "name": "stdout",
     "output_type": "stream",
     "text": "[01:09:14.263] INFO   _fit_and_score: n[130/143], model_id[split_i=0,train=28164,test=7042,classes=331,estimator=Search(n_species=331,n_recs=0.5,classifier='cls=std-sgdlog,alpha=10,class_weight=balanced',random_state=0)]: save: estimator...\n"
    },
    {
     "name": "stdout",
     "output_type": "stream",
     "text": "[01:09:14.259] INFO   _fit_and_score: n[135/143], model_id[split_i=0,train=28164,test=7042,classes=331,estimator=Search(n_species=331,n_recs=1.0,classifier='cls=std-sgdlog,alpha=.00001,class_weight=balanced',random_state=0)]: fit[117.437s]\n"
    },
    {
     "name": "stdout",
     "output_type": "stream",
     "text": "[01:09:15.123] INFO   _fit_and_score: n[126/143], model_id[split_i=0,train=28164,test=7042,classes=331,estimator=Search(n_species=331,n_recs=0.5,classifier='cls=std-sgdlog,alpha=0.001,class_weight=balanced',random_state=0)]: save[1.015s, 94.4 MB]: ret\n"
    },
    {
     "name": "stdout",
     "output_type": "stream",
     "text": "[01:09:15.153] INFO   _fit_and_score: n[126/143], model_id[split_i=0,train=28164,test=7042,classes=331,estimator=Search(n_species=331,n_recs=0.5,classifier='cls=std-sgdlog,alpha=0.001,class_weight=balanced',random_state=0)]: save: estimator...\n"
    },
    {
     "name": "stdout",
     "output_type": "stream",
     "text": "[01:09:15.160] INFO   _fit_and_score: n[131/143], model_id[split_i=0,train=28164,test=7042,classes=331,estimator=Search(n_species=331,n_recs=0.5,classifier='cls=std-sgdlog,alpha=100,class_weight=balanced',random_state=0)]: save[1.125s, 88.4 MB]: estimator\n"
    },
    {
     "name": "stdout",
     "output_type": "stream",
     "text": "[01:09:15.360] INFO   _fit_and_score: n[138/143], model_id[split_i=0,train=28164,test=7042,classes=331,estimator=Search(n_species=331,n_recs=1.0,classifier='cls=std-sgdlog,alpha=0.01,class_weight=balanced',random_state=0)]: extra_metrics... ['classes', 'train_i', 'train_y', 'train_predict_proba', 'test_i', 'test_y', 'test_predict_proba', 'model_size', 'model_stats', 'proc_stats']\n"
    },
    {
     "name": "stdout",
     "output_type": "stream",
     "text": "[01:09:15.383] INFO   _fit_and_score: n[130/143], model_id[split_i=0,train=28164,test=7042,classes=331,estimator=Search(n_species=331,n_recs=0.5,classifier='cls=std-sgdlog,alpha=10,class_weight=balanced',random_state=0)]: save[1.104s, 88.4 MB]: estimator\n"
    },
    {
     "name": "stdout",
     "output_type": "stream",
     "text": "[01:09:15.739] INFO   _fit_and_score: n[140/143], model_id[split_i=0,train=28164,test=7042,classes=331,estimator=Search(n_species=331,n_recs=1.0,classifier='cls=std-sgdlog,alpha=1,class_weight=balanced',random_state=0)]: extra_metrics... ['classes', 'train_i', 'train_y', 'train_predict_proba', 'test_i', 'test_y', 'test_predict_proba', 'model_size', 'model_stats', 'proc_stats']\n"
    },
    {
     "name": "stdout",
     "output_type": "stream",
     "text": "[01:09:15.898] INFO   _fit_and_score: n[135/143], model_id[split_i=0,train=28164,test=7042,classes=331,estimator=Search(n_species=331,n_recs=1.0,classifier='cls=std-sgdlog,alpha=.00001,class_weight=balanced',random_state=0)]: extra_metrics... ['classes', 'train_i', 'train_y', 'train_predict_proba', 'test_i', 'test_y', 'test_predict_proba', 'model_size', 'model_stats', 'proc_stats']\n"
    },
    {
     "name": "stdout",
     "output_type": "stream",
     "text": "[01:09:15.908] INFO   _fit_and_score: n[126/143], model_id[split_i=0,train=28164,test=7042,classes=331,estimator=Search(n_species=331,n_recs=0.5,classifier='cls=std-sgdlog,alpha=0.001,class_weight=balanced',random_state=0)]: save[0.732s, 88.4 MB]: estimator\n"
    },
    {
     "name": "stdout",
     "output_type": "stream",
     "text": "[01:09:16.423] INFO   _fit_and_score: n[133/143], model_id[split_i=0,train=28164,test=7042,classes=331,estimator=Search(n_species=331,n_recs=1.0,classifier='cls=std-sgdlog,alpha=.0000001,class_weight=balanced',random_state=0)]: extra_metrics[5.270s, 94.4 MB]: ['classes', 'train_i', 'train_y', 'train_predict_proba', 'test_i', 'test_y', 'test_predict_proba', 'model_size', 'model_stats', 'proc_stats']\n"
    },
    {
     "name": "stdout",
     "output_type": "stream",
     "text": "[01:09:16.426] INFO   _fit_and_score: n[133/143], model_id[split_i=0,train=28164,test=7042,classes=331,estimator=Search(n_species=331,n_recs=1.0,classifier='cls=std-sgdlog,alpha=.0000001,class_weight=balanced',random_state=0)]: save: ret...\n"
    },
    {
     "name": "stdout",
     "output_type": "stream",
     "text": "[01:09:16.456] INFO   _fit_and_score: n[143/143], model_id[split_i=0,train=28164,test=7042,classes=331,estimator=Search(n_species=331,n_recs=1.0,classifier='cls=std-sgdlog,alpha=1000,class_weight=balanced',random_state=0)]: extra_metrics[5.693s, 94.4 MB]: ['classes', 'train_i', 'train_y', 'train_predict_proba', 'test_i', 'test_y', 'test_predict_proba', 'model_size', 'model_stats', 'proc_stats']\n"
    },
    {
     "name": "stdout",
     "output_type": "stream",
     "text": "[01:09:16.458] INFO   _fit_and_score: n[143/143], model_id[split_i=0,train=28164,test=7042,classes=331,estimator=Search(n_species=331,n_recs=1.0,classifier='cls=std-sgdlog,alpha=1000,class_weight=balanced',random_state=0)]: save: ret...\n"
    },
    {
     "name": "stdout",
     "output_type": "stream",
     "text": "[01:09:16.512] INFO   _fit_and_score: n[134/143], model_id[split_i=0,train=28164,test=7042,classes=331,estimator=Search(n_species=331,n_recs=1.0,classifier='cls=std-sgdlog,alpha=.000001,class_weight=balanced',random_state=0)]: extra_metrics[5.416s, 94.4 MB]: ['classes', 'train_i', 'train_y', 'train_predict_proba', 'test_i', 'test_y', 'test_predict_proba', 'model_size', 'model_stats', 'proc_stats']\n"
    },
    {
     "name": "stdout",
     "output_type": "stream",
     "text": "[01:09:16.514] INFO   _fit_and_score: n[134/143], model_id[split_i=0,train=28164,test=7042,classes=331,estimator=Search(n_species=331,n_recs=1.0,classifier='cls=std-sgdlog,alpha=.000001,class_weight=balanced',random_state=0)]: save: ret...\n"
    },
    {
     "name": "stderr",
     "output_type": "stream",
     "text": "/opt/conda/lib/python3.6/site-packages/sklearn/linear_model/base.py:340: RuntimeWarning: overflow encountered in exp\n  np.exp(prob, prob)\n"
    },
    {
     "name": "stdout",
     "output_type": "stream",
     "text": "[01:09:16.919] INFO   _fit_and_score: n[133/143], model_id[split_i=0,train=28164,test=7042,classes=331,estimator=Search(n_species=331,n_recs=1.0,classifier='cls=std-sgdlog,alpha=.0000001,class_weight=balanced',random_state=0)]: save[0.490s, 94.4 MB]: ret\n"
    },
    {
     "name": "stdout",
     "output_type": "stream",
     "text": "[01:09:16.922] INFO   _fit_and_score: n[133/143], model_id[split_i=0,train=28164,test=7042,classes=331,estimator=Search(n_species=331,n_recs=1.0,classifier='cls=std-sgdlog,alpha=.0000001,class_weight=balanced',random_state=0)]: save: estimator...\n"
    },
    {
     "name": "stdout",
     "output_type": "stream",
     "text": "[01:09:16.990] INFO   _fit_and_score: n[143/143], model_id[split_i=0,train=28164,test=7042,classes=331,estimator=Search(n_species=331,n_recs=1.0,classifier='cls=std-sgdlog,alpha=1000,class_weight=balanced',random_state=0)]: save[0.528s, 94.4 MB]: ret\n"
    },
    {
     "name": "stdout",
     "output_type": "stream",
     "text": "[01:09:16.993] INFO   _fit_and_score: n[143/143], model_id[split_i=0,train=28164,test=7042,classes=331,estimator=Search(n_species=331,n_recs=1.0,classifier='cls=std-sgdlog,alpha=1000,class_weight=balanced',random_state=0)]: save: estimator...\n"
    },
    {
     "name": "stdout",
     "output_type": "stream",
     "text": "[01:09:17.049] INFO   _fit_and_score: n[134/143], model_id[split_i=0,train=28164,test=7042,classes=331,estimator=Search(n_species=331,n_recs=1.0,classifier='cls=std-sgdlog,alpha=.000001,class_weight=balanced',random_state=0)]: save[0.532s, 94.4 MB]: ret\n"
    },
    {
     "name": "stdout",
     "output_type": "stream",
     "text": "[01:09:17.051] INFO   _fit_and_score: n[134/143], model_id[split_i=0,train=28164,test=7042,classes=331,estimator=Search(n_species=331,n_recs=1.0,classifier='cls=std-sgdlog,alpha=.000001,class_weight=balanced',random_state=0)]: save: estimator...\n"
    },
    {
     "name": "stdout",
     "output_type": "stream",
     "text": "[01:09:17.086] INFO   _fit_and_score: n[139/143], model_id[split_i=0,train=28164,test=7042,classes=331,estimator=Search(n_species=331,n_recs=1.0,classifier='cls=std-sgdlog,alpha=0.1,class_weight=balanced',random_state=0)]: extra_metrics[4.911s, 94.4 MB]: ['classes', 'train_i', 'train_y', 'train_predict_proba', 'test_i', 'test_y', 'test_predict_proba', 'model_size', 'model_stats', 'proc_stats']\n"
    },
    {
     "name": "stdout",
     "output_type": "stream",
     "text": "[01:09:17.087] INFO   _fit_and_score: n[139/143], model_id[split_i=0,train=28164,test=7042,classes=331,estimator=Search(n_species=331,n_recs=1.0,classifier='cls=std-sgdlog,alpha=0.1,class_weight=balanced',random_state=0)]: save: ret...\n"
    },
    {
     "name": "stdout",
     "output_type": "stream",
     "text": "[01:09:17.489] INFO   _fit_and_score: n[133/143], model_id[split_i=0,train=28164,test=7042,classes=331,estimator=Search(n_species=331,n_recs=1.0,classifier='cls=std-sgdlog,alpha=.0000001,class_weight=balanced',random_state=0)]: save[0.564s, 173.7 MB]: estimator\n"
    },
    {
     "name": "stdout",
     "output_type": "stream",
     "text": "[01:09:17.529] INFO   _fit_and_score: n[143/143], model_id[split_i=0,train=28164,test=7042,classes=331,estimator=Search(n_species=331,n_recs=1.0,classifier='cls=std-sgdlog,alpha=1000,class_weight=balanced',random_state=0)]: save[0.533s, 173.7 MB]: estimator\n"
    },
    {
     "name": "stdout",
     "output_type": "stream",
     "text": "[01:09:17.529] INFO   _fit_and_score: n[139/143], model_id[split_i=0,train=28164,test=7042,classes=331,estimator=Search(n_species=331,n_recs=1.0,classifier='cls=std-sgdlog,alpha=0.1,class_weight=balanced',random_state=0)]: save[0.437s, 94.4 MB]: ret\n"
    },
    {
     "name": "stdout",
     "output_type": "stream",
     "text": "[01:09:17.532] INFO   _fit_and_score: n[139/143], model_id[split_i=0,train=28164,test=7042,classes=331,estimator=Search(n_species=331,n_recs=1.0,classifier='cls=std-sgdlog,alpha=0.1,class_weight=balanced',random_state=0)]: save: estimator...\n"
    },
    {
     "name": "stdout",
     "output_type": "stream",
     "text": "[01:09:17.602] INFO   _fit_and_score: n[134/143], model_id[split_i=0,train=28164,test=7042,classes=331,estimator=Search(n_species=331,n_recs=1.0,classifier='cls=std-sgdlog,alpha=.000001,class_weight=balanced',random_state=0)]: save[0.549s, 173.7 MB]: estimator\n"
    },
    {
     "name": "stdout",
     "output_type": "stream",
     "text": "[01:09:17.634] INFO   _fit_and_score: n[136/143], model_id[split_i=0,train=28164,test=7042,classes=331,estimator=Search(n_species=331,n_recs=1.0,classifier='cls=std-sgdlog,alpha=0.0001,class_weight=balanced',random_state=0)]: extra_metrics[4.896s, 94.4 MB]: ['classes', 'train_i', 'train_y', 'train_predict_proba', 'test_i', 'test_y', 'test_predict_proba', 'model_size', 'model_stats', 'proc_stats']\n"
    },
    {
     "name": "stdout",
     "output_type": "stream",
     "text": "[01:09:17.635] INFO   _fit_and_score: n[136/143], model_id[split_i=0,train=28164,test=7042,classes=331,estimator=Search(n_species=331,n_recs=1.0,classifier='cls=std-sgdlog,alpha=0.0001,class_weight=balanced',random_state=0)]: save: ret...\n"
    },
    {
     "name": "stdout",
     "output_type": "stream",
     "text": "[01:09:17.965] INFO   _fit_and_score: n[139/143], model_id[split_i=0,train=28164,test=7042,classes=331,estimator=Search(n_species=331,n_recs=1.0,classifier='cls=std-sgdlog,alpha=0.1,class_weight=balanced',random_state=0)]: save[0.432s, 173.7 MB]: estimator\n"
    },
    {
     "name": "stdout",
     "output_type": "stream",
     "text": "[01:09:17.975] INFO   _fit_and_score: n[136/143], model_id[split_i=0,train=28164,test=7042,classes=331,estimator=Search(n_species=331,n_recs=1.0,classifier='cls=std-sgdlog,alpha=0.0001,class_weight=balanced',random_state=0)]: save[0.338s, 94.4 MB]: ret\n"
    },
    {
     "name": "stdout",
     "output_type": "stream",
     "text": "[01:09:17.978] INFO   _fit_and_score: n[136/143], model_id[split_i=0,train=28164,test=7042,classes=331,estimator=Search(n_species=331,n_recs=1.0,classifier='cls=std-sgdlog,alpha=0.0001,class_weight=balanced',random_state=0)]: save: estimator...\n"
    },
    {
     "name": "stdout",
     "output_type": "stream",
     "text": "[01:09:18.305] INFO   _fit_and_score: n[142/143], model_id[split_i=0,train=28164,test=7042,classes=331,estimator=Search(n_species=331,n_recs=1.0,classifier='cls=std-sgdlog,alpha=100,class_weight=balanced',random_state=0)]: extra_metrics[3.951s, 94.4 MB]: ['classes', 'train_i', 'train_y', 'train_predict_proba', 'test_i', 'test_y', 'test_predict_proba', 'model_size', 'model_stats', 'proc_stats']\n"
    },
    {
     "name": "stdout",
     "output_type": "stream",
     "text": "[01:09:18.307] INFO   _fit_and_score: n[142/143], model_id[split_i=0,train=28164,test=7042,classes=331,estimator=Search(n_species=331,n_recs=1.0,classifier='cls=std-sgdlog,alpha=100,class_weight=balanced',random_state=0)]: save: ret...\n"
    },
    {
     "name": "stdout",
     "output_type": "stream",
     "text": "[01:09:18.452] INFO   _fit_and_score: n[136/143], model_id[split_i=0,train=28164,test=7042,classes=331,estimator=Search(n_species=331,n_recs=1.0,classifier='cls=std-sgdlog,alpha=0.0001,class_weight=balanced',random_state=0)]: save[0.473s, 173.7 MB]: estimator\n"
    },
    {
     "name": "stdout",
     "output_type": "stream",
     "text": "[01:09:18.796] INFO   _fit_and_score: n[138/143], model_id[split_i=0,train=28164,test=7042,classes=331,estimator=Search(n_species=331,n_recs=1.0,classifier='cls=std-sgdlog,alpha=0.01,class_weight=balanced',random_state=0)]: extra_metrics[3.295s, 94.4 MB]: ['classes', 'train_i', 'train_y', 'train_predict_proba', 'test_i', 'test_y', 'test_predict_proba', 'model_size', 'model_stats', 'proc_stats']\n"
    },
    {
     "name": "stdout",
     "output_type": "stream",
     "text": "[01:09:18.797] INFO   _fit_and_score: n[138/143], model_id[split_i=0,train=28164,test=7042,classes=331,estimator=Search(n_species=331,n_recs=1.0,classifier='cls=std-sgdlog,alpha=0.01,class_weight=balanced',random_state=0)]: save: ret...\n"
    },
    {
     "name": "stdout",
     "output_type": "stream",
     "text": "[01:09:18.875] INFO   _fit_and_score: n[142/143], model_id[split_i=0,train=28164,test=7042,classes=331,estimator=Search(n_species=331,n_recs=1.0,classifier='cls=std-sgdlog,alpha=100,class_weight=balanced',random_state=0)]: save[0.567s, 94.4 MB]: ret\n"
    },
    {
     "name": "stdout",
     "output_type": "stream",
     "text": "[01:09:18.878] INFO   _fit_and_score: n[142/143], model_id[split_i=0,train=28164,test=7042,classes=331,estimator=Search(n_species=331,n_recs=1.0,classifier='cls=std-sgdlog,alpha=100,class_weight=balanced',random_state=0)]: save: estimator...\n"
    },
    {
     "name": "stdout",
     "output_type": "stream",
     "text": "[01:09:18.910] INFO   _fit_and_score: n[140/143], model_id[split_i=0,train=28164,test=7042,classes=331,estimator=Search(n_species=331,n_recs=1.0,classifier='cls=std-sgdlog,alpha=1,class_weight=balanced',random_state=0)]: extra_metrics[3.046s, 94.4 MB]: ['classes', 'train_i', 'train_y', 'train_predict_proba', 'test_i', 'test_y', 'test_predict_proba', 'model_size', 'model_stats', 'proc_stats']\n"
    },
    {
     "name": "stdout",
     "output_type": "stream",
     "text": "[01:09:18.912] INFO   _fit_and_score: n[140/143], model_id[split_i=0,train=28164,test=7042,classes=331,estimator=Search(n_species=331,n_recs=1.0,classifier='cls=std-sgdlog,alpha=1,class_weight=balanced',random_state=0)]: save: ret...\n"
    },
    {
     "name": "stdout",
     "output_type": "stream",
     "text": "[01:09:19.160] INFO   _fit_and_score: n[138/143], model_id[split_i=0,train=28164,test=7042,classes=331,estimator=Search(n_species=331,n_recs=1.0,classifier='cls=std-sgdlog,alpha=0.01,class_weight=balanced',random_state=0)]: save[0.361s, 94.4 MB]: ret\n"
    },
    {
     "name": "stdout",
     "output_type": "stream",
     "text": "[01:09:19.162] INFO   _fit_and_score: n[138/143], model_id[split_i=0,train=28164,test=7042,classes=331,estimator=Search(n_species=331,n_recs=1.0,classifier='cls=std-sgdlog,alpha=0.01,class_weight=balanced',random_state=0)]: save: estimator...\n"
    },
    {
     "name": "stdout",
     "output_type": "stream",
     "text": "[01:09:19.193] INFO   _fit_and_score: n[135/143], model_id[split_i=0,train=28164,test=7042,classes=331,estimator=Search(n_species=331,n_recs=1.0,classifier='cls=std-sgdlog,alpha=.00001,class_weight=balanced',random_state=0)]: extra_metrics[3.157s, 94.4 MB]: ['classes', 'train_i', 'train_y', 'train_predict_proba', 'test_i', 'test_y', 'test_predict_proba', 'model_size', 'model_stats', 'proc_stats']\n"
    },
    {
     "name": "stdout",
     "output_type": "stream",
     "text": "[01:09:19.195] INFO   _fit_and_score: n[135/143], model_id[split_i=0,train=28164,test=7042,classes=331,estimator=Search(n_species=331,n_recs=1.0,classifier='cls=std-sgdlog,alpha=.00001,class_weight=balanced',random_state=0)]: save: ret...\n"
    },
    {
     "name": "stdout",
     "output_type": "stream",
     "text": "[01:09:19.260] INFO   _fit_and_score: n[140/143], model_id[split_i=0,train=28164,test=7042,classes=331,estimator=Search(n_species=331,n_recs=1.0,classifier='cls=std-sgdlog,alpha=1,class_weight=balanced',random_state=0)]: save[0.347s, 94.4 MB]: ret\n"
    },
    {
     "name": "stdout",
     "output_type": "stream",
     "text": "[01:09:19.263] INFO   _fit_and_score: n[140/143], model_id[split_i=0,train=28164,test=7042,classes=331,estimator=Search(n_species=331,n_recs=1.0,classifier='cls=std-sgdlog,alpha=1,class_weight=balanced',random_state=0)]: save: estimator...\n"
    },
    {
     "name": "stdout",
     "output_type": "stream",
     "text": "[01:09:19.336] INFO   _fit_and_score: n[142/143], model_id[split_i=0,train=28164,test=7042,classes=331,estimator=Search(n_species=331,n_recs=1.0,classifier='cls=std-sgdlog,alpha=100,class_weight=balanced',random_state=0)]: save[0.457s, 173.7 MB]: estimator\n"
    },
    {
     "name": "stdout",
     "output_type": "stream",
     "text": "[01:09:19.595] INFO   _fit_and_score: n[135/143], model_id[split_i=0,train=28164,test=7042,classes=331,estimator=Search(n_species=331,n_recs=1.0,classifier='cls=std-sgdlog,alpha=.00001,class_weight=balanced',random_state=0)]: save[0.399s, 94.4 MB]: ret\n"
    },
    {
     "name": "stdout",
     "output_type": "stream",
     "text": "[01:09:19.597] INFO   _fit_and_score: n[135/143], model_id[split_i=0,train=28164,test=7042,classes=331,estimator=Search(n_species=331,n_recs=1.0,classifier='cls=std-sgdlog,alpha=.00001,class_weight=balanced',random_state=0)]: save: estimator...\n"
    },
    {
     "name": "stdout",
     "output_type": "stream",
     "text": "[01:09:19.673] INFO   _fit_and_score: n[138/143], model_id[split_i=0,train=28164,test=7042,classes=331,estimator=Search(n_species=331,n_recs=1.0,classifier='cls=std-sgdlog,alpha=0.01,class_weight=balanced',random_state=0)]: save[0.510s, 173.7 MB]: estimator\n"
    },
    {
     "name": "stdout",
     "output_type": "stream",
     "text": "[01:09:19.764] INFO   _fit_and_score: n[140/143], model_id[split_i=0,train=28164,test=7042,classes=331,estimator=Search(n_species=331,n_recs=1.0,classifier='cls=std-sgdlog,alpha=1,class_weight=balanced',random_state=0)]: save[0.500s, 173.7 MB]: estimator\n"
    },
    {
     "name": "stdout",
     "output_type": "stream",
     "text": "[01:09:19.774] INFO   _fit_and_score: n[137/143], model_id[split_i=0,train=28164,test=7042,classes=331,estimator=Search(n_species=331,n_recs=1.0,classifier='cls=std-sgdlog,alpha=0.001,class_weight=balanced',random_state=0)]: fit[122.216s]\n"
    },
    {
     "name": "stdout",
     "output_type": "stream",
     "text": "[01:09:20.021] INFO   _fit_and_score: n[135/143], model_id[split_i=0,train=28164,test=7042,classes=331,estimator=Search(n_species=331,n_recs=1.0,classifier='cls=std-sgdlog,alpha=.00001,class_weight=balanced',random_state=0)]: save[0.422s, 173.7 MB]: estimator\n"
    },
    {
     "name": "stdout",
     "output_type": "stream",
     "text": "[01:09:20.860] INFO   _fit_and_score: n[137/143], model_id[split_i=0,train=28164,test=7042,classes=331,estimator=Search(n_species=331,n_recs=1.0,classifier='cls=std-sgdlog,alpha=0.001,class_weight=balanced',random_state=0)]: extra_metrics... ['classes', 'train_i', 'train_y', 'train_predict_proba', 'test_i', 'test_y', 'test_predict_proba', 'model_size', 'model_stats', 'proc_stats']\n"
    },
    {
     "name": "stdout",
     "output_type": "stream",
     "text": "[01:09:21.784] INFO   _fit_and_score: n[141/143], model_id[split_i=0,train=28164,test=7042,classes=331,estimator=Search(n_species=331,n_recs=1.0,classifier='cls=std-sgdlog,alpha=10,class_weight=balanced',random_state=0)]: fit[121.950s]\n"
    },
    {
     "name": "stdout",
     "output_type": "stream",
     "text": "[01:09:22.896] INFO   _fit_and_score: n[141/143], model_id[split_i=0,train=28164,test=7042,classes=331,estimator=Search(n_species=331,n_recs=1.0,classifier='cls=std-sgdlog,alpha=10,class_weight=balanced',random_state=0)]: extra_metrics... ['classes', 'train_i', 'train_y', 'train_predict_proba', 'test_i', 'test_y', 'test_predict_proba', 'model_size', 'model_stats', 'proc_stats']\n"
    },
    {
     "name": "stdout",
     "output_type": "stream",
     "text": "[01:09:23.805] INFO   _fit_and_score: n[137/143], model_id[split_i=0,train=28164,test=7042,classes=331,estimator=Search(n_species=331,n_recs=1.0,classifier='cls=std-sgdlog,alpha=0.001,class_weight=balanced',random_state=0)]: extra_metrics[2.821s, 94.4 MB]: ['classes', 'train_i', 'train_y', 'train_predict_proba', 'test_i', 'test_y', 'test_predict_proba', 'model_size', 'model_stats', 'proc_stats']\n"
    },
    {
     "name": "stdout",
     "output_type": "stream",
     "text": "[01:09:23.807] INFO   _fit_and_score: n[137/143], model_id[split_i=0,train=28164,test=7042,classes=331,estimator=Search(n_species=331,n_recs=1.0,classifier='cls=std-sgdlog,alpha=0.001,class_weight=balanced',random_state=0)]: save: ret...\n"
    },
    {
     "name": "stdout",
     "output_type": "stream",
     "text": "[01:09:24.141] INFO   _fit_and_score: n[137/143], model_id[split_i=0,train=28164,test=7042,classes=331,estimator=Search(n_species=331,n_recs=1.0,classifier='cls=std-sgdlog,alpha=0.001,class_weight=balanced',random_state=0)]: save[0.333s, 94.4 MB]: ret\n"
    },
    {
     "name": "stdout",
     "output_type": "stream",
     "text": "[01:09:24.144] INFO   _fit_and_score: n[137/143], model_id[split_i=0,train=28164,test=7042,classes=331,estimator=Search(n_species=331,n_recs=1.0,classifier='cls=std-sgdlog,alpha=0.001,class_weight=balanced',random_state=0)]: save: estimator...\n"
    },
    {
     "name": "stdout",
     "output_type": "stream",
     "text": "[01:09:24.586] INFO   _fit_and_score: n[137/143], model_id[split_i=0,train=28164,test=7042,classes=331,estimator=Search(n_species=331,n_recs=1.0,classifier='cls=std-sgdlog,alpha=0.001,class_weight=balanced',random_state=0)]: save[0.441s, 173.7 MB]: estimator\n"
    },
    {
     "name": "stdout",
     "output_type": "stream",
     "text": "[01:09:25.741] INFO   _fit_and_score: n[141/143], model_id[split_i=0,train=28164,test=7042,classes=331,estimator=Search(n_species=331,n_recs=1.0,classifier='cls=std-sgdlog,alpha=10,class_weight=balanced',random_state=0)]: extra_metrics[2.730s, 94.4 MB]: ['classes', 'train_i', 'train_y', 'train_predict_proba', 'test_i', 'test_y', 'test_predict_proba', 'model_size', 'model_stats', 'proc_stats']\n"
    },
    {
     "name": "stdout",
     "output_type": "stream",
     "text": "[01:09:25.743] INFO   _fit_and_score: n[141/143], model_id[split_i=0,train=28164,test=7042,classes=331,estimator=Search(n_species=331,n_recs=1.0,classifier='cls=std-sgdlog,alpha=10,class_weight=balanced',random_state=0)]: save: ret...\n"
    },
    {
     "name": "stdout",
     "output_type": "stream",
     "text": "[01:09:26.066] INFO   _fit_and_score: n[141/143], model_id[split_i=0,train=28164,test=7042,classes=331,estimator=Search(n_species=331,n_recs=1.0,classifier='cls=std-sgdlog,alpha=10,class_weight=balanced',random_state=0)]: save[0.322s, 94.4 MB]: ret\n"
    },
    {
     "name": "stdout",
     "output_type": "stream",
     "text": "[01:09:26.069] INFO   _fit_and_score: n[141/143], model_id[split_i=0,train=28164,test=7042,classes=331,estimator=Search(n_species=331,n_recs=1.0,classifier='cls=std-sgdlog,alpha=10,class_weight=balanced',random_state=0)]: save: estimator...\n"
    },
    {
     "name": "stdout",
     "output_type": "stream",
     "text": "[01:09:26.474] INFO   _fit_and_score: n[141/143], model_id[split_i=0,train=28164,test=7042,classes=331,estimator=Search(n_species=331,n_recs=1.0,classifier='cls=std-sgdlog,alpha=10,class_weight=balanced',random_state=0)]: save[0.403s, 173.7 MB]: estimator\n"
    },
    {
     "name": "stderr",
     "output_type": "stream",
     "text": "[Parallel(n_jobs=-1)]: Done 143 out of 143 | elapsed:  3.4min finished\n"
    }
   ],
   "source": [
    "# GridSearchCV many models / model params\n",
    "#   - Order these roughly from most to least expensive, so that training runs fail fast (e.g. oom at the start, not the end)\n",
    "param_grid = list(unique_everseen(tqdm([\n",
    "    dict(\n",
    "        classifier=[classifier],\n",
    "        n_species=[n_species if isinstance(n_species, int) else int(n_species * _recs_stats['sp'])],\n",
    "        n_recs=[\n",
    "            # n_recs if isinstance(n_recs, int) else int(n_recs * _recs_stats['recs']),\n",
    "            # TODO Figure out how to represent this as an n instead of a frac again [TODO interaction with test_size=.2 ...]\n",
    "            #   - TODO Also make clear in the plot descs when e.g. (recs[3360], n_species[33], n_recs[1.0]) -> n_recs[33*20 < 3360]\n",
    "            n_recs,\n",
    "        ],\n",
    "    )\n",
    "    for (n_species, n_recs) in [\n",
    "        # Subset for learning curves\n",
    "        #   - Biggest first, to fail fast\n",
    "\n",
    "        # Faster dev\n",
    "        # (0.10, 0.10),\n",
    "\n",
    "        # TODO TODO n_species[10] for quick model comps\n",
    "        (0.03, 0.03),  # ~1000 recs in the train split\n",
    "        (0.03, 0.25),\n",
    "        (0.03, 0.50),\n",
    "        (0.03, 1.00),\n",
    "\n",
    "        # Scale data for n_species[86]\n",
    "        (0.25, 0.25),\n",
    "        (0.25, 0.50),\n",
    "        (0.25, 1.00),\n",
    "\n",
    "        # # Scale data for n_species[165]\n",
    "        (0.50, 0.25),\n",
    "        (0.50, 0.50),\n",
    "        (0.50, 1.00),\n",
    "\n",
    "        # # Scale data for n_species[331]\n",
    "        (1.00, 0.25),\n",
    "        (1.00, 0.50),\n",
    "        (1.00, 1.00),\n",
    "\n",
    "        # # Scale species for n_recs[1]\n",
    "        # (0.25, 1.00),\n",
    "        # (0.50, 1.00),\n",
    "        # (1.00, 1.00),\n",
    "\n",
    "        # (1.00, 1.00),\n",
    "        # (1.00, 0.50),\n",
    "        # (0.50, 1.00),\n",
    "\n",
    "        # (None, None),\n",
    "\n",
    "    ]\n",
    "    # model_size ~ forest_depth\n",
    "    for rf_max_depth in [\n",
    "        'null',\n",
    "        1, 2, 3, 4, 5,\n",
    "        12, 25, 50, 100,\n",
    "        # 12, 25, 33, 50, 75, 100,\n",
    "    ]\n",
    "    # for ovr_rf_max_depth in [int(rf_max_depth / 10) if rf_max_depth != 'null' else 'null']\n",
    "    # for xgb_rf_max_depth in [lambda x: x if x != 'null' else 100]\n",
    "    for ovr_rf_max_depth in [\n",
    "        # 'null',\n",
    "        # 46,  # Got 1 with n_est=100 -- after 8h x 32 cores!\n",
    "        # 35,  # Giving up on this one\n",
    "        # 12, 25, 33, 50, 75, 100,  # WARNING See previous lines\n",
    "        1, 2, 3, 4, 5,\n",
    "        # 1, 2, 3,\n",
    "    ]\n",
    "    for xgb_rf_max_depth_f in [lambda x: x if x != 'null' else 100]\n",
    "    for xgb_rf_max_depth in [\n",
    "        # xgb_rf_max_depth_f(rf_max_depth),\n",
    "        xgb_rf_max_depth_f(ovr_rf_max_depth),\n",
    "    ]\n",
    "    for rf_n_estimators in [\n",
    "        # 2000, 1500,  # WARNING Not mem safe on laptop\n",
    "        100, 200, 400,\n",
    "        # 50, 25,\n",
    "    ]\n",
    "    for xgb_rf_n_estimators in [\n",
    "        # 1600,\n",
    "        100, 200, 400,\n",
    "        # 25, 50,\n",
    "    ]\n",
    "    for ovr_rf_n_estimators in [\n",
    "        100,\n",
    "        # 50, 25,\n",
    "    ]\n",
    "    for logreg_cls, logreg_solver in [\n",
    "        ('logreg_ovr', 'liblinear'),  # 1 core\n",
    "        ('logreg_ovr', 'sag'),  # ~5 cores\n",
    "        # ('logreg_multi', 'sag'),  # 1 core\n",
    "        # ('ovr-logreg_ovr', 'liblinear'),\n",
    "    ]\n",
    "    for logreg_max_iter in (\n",
    "        [None] if logreg_solver in ['liblinear'] else [\n",
    "            # 800,\n",
    "            3200,\n",
    "            # 6400, 12800,\n",
    "        ]\n",
    "    )\n",
    "    for logreg_C in [\n",
    "        # 1/reg_strength: C=inf is no regularization, smaller C is more regularization (default: 1)\n",
    "        # .0005, .005, .05, .5, 5, 50,  # TODO TODO Re-enable after sgdlog is basically working\n",
    "        .0001, .001, .01, .1, 1, 10, 100,\n",
    "        # 1,\n",
    "        # .01, .1, 1,\n",
    "        # .01, 1, 100,\n",
    "        # .005, .05, .5,\n",
    "        # .001, .01, .1, 1, 10, 100, 1000,\n",
    "        # .0001, .001, .01, .1, 1,\n",
    "    ]\n",
    "    for logreg_tol in one([tols for solvers, tols in [\n",
    "        # Default: 1e-4\n",
    "        # (['liblinear'], ['.0000000000000001']),  # liblinear keeps going, but only at large C -> unstable coefs\n",
    "        (['sag'], [\n",
    "            # '.01',  # Faster than .001 (~5x) and even more suboptimal. Slower than liblinear, which has ~optimal acc.\n",
    "            # '.001',  # Faster than .0001 (~5x) and a little suboptimal. Maybe useful for quick prototyping.\n",
    "            None,  # Default: .0001, optimal-ish acc\n",
    "        ]),\n",
    "    ] if logreg_solver in solvers] or [[None]])\n",
    "    for logreg_class_weight in [\n",
    "        # None,  # TODO TODO Disabled to reduce noise. Re-enable to ponder the benefits of balance (slight but looks positive)\n",
    "        'balanced',  # No (visually) significant effect with class sizes 0-20 (see class_imbalance notebooks)\n",
    "    ]\n",
    "    for sgdlog_cls in [\n",
    "        # 'sgdlog',  # Acc is less good and more noisy than with std\n",
    "        'std-sgdlog',\n",
    "    ]\n",
    "    for sgdlog_alpha in [\n",
    "        # Multiplier for regularization, and influences learning_rate='optimal' (the default)\n",
    "        # Default: .0001\n",
    "        # .0001, .001, .01,\n",
    "        # '.00001', .0001, .001, .01, .1, 1, 10,\n",
    "        '.0000001', '.000001', '.00001', .0001, .001, .01, .1, 1, 10, 100, 1000,\n",
    "    ]\n",
    "    for sgdlog_tol in [\n",
    "        None,  # Default: .001\n",
    "        # .0001, '.00001',  # TODO TODO No observed improvement (at small scale)\n",
    "    ]\n",
    "    for sgdlog_average in [\n",
    "        None,\n",
    "        # 'true',  # TODO TODO No observed improvement (at small scale)\n",
    "    ]\n",
    "    for sgdlog_class_weight in [logreg_class_weight]\n",
    "    for classifier in [\n",
    "\n",
    "        # # Logistic regression\n",
    "        # ','.join(x for x in [\n",
    "        #     f'cls: {logreg_cls}',\n",
    "        #     f'solver: {logreg_solver}',\n",
    "        #     '' if logreg_max_iter is None else f'max_iter: {logreg_max_iter}',\n",
    "        #     '' if logreg_tol is None else f'tol: {logreg_tol}',\n",
    "        #     f'C: {logreg_C}',\n",
    "        #     '' if logreg_class_weight is None else f'class_weight: {logreg_class_weight}',\n",
    "        # ] if x),\n",
    "\n",
    "        # Logistic regression via SGD(loss=log)\n",
    "        ','.join(x for x in [\n",
    "            f'cls: {sgdlog_cls}',\n",
    "            f'alpha: {sgdlog_alpha}',\n",
    "            '' if not sgdlog_tol else f'tol: {sgdlog_tol}',\n",
    "            '' if not sgdlog_average else f'average: {sgdlog_average}',\n",
    "            '' if sgdlog_class_weight is None else f'class_weight: {sgdlog_class_weight}',\n",
    "        ] if x),\n",
    "\n",
    "        # RF\n",
    "        # f'cls: rf, n_estimators: {rf_n_estimators}, max_depth: {rf_max_depth}',\n",
    "        # f'cls: ovr-rf, n_estimators: {ovr_rf_n_estimators}, max_depth: {ovr_rf_max_depth}',\n",
    "        # f'cls: xgb_rf, n_estimators: {xgb_rf_n_estimators}, max_depth: {xgb_rf_max_depth}',\n",
    "\n",
    "    ]\n",
    "])))\n",
    "\n",
    "# TODO Increase cv to decrease variance in eval metrics (this made Alex extremely squirmy)\n",
    "cv = GridSearchCVCached(\n",
    "    estimator=Search(projection=projection),\n",
    "    param_grid=param_grid,\n",
    "    refit=False,  # Don't spend time fitting cv.best_estimator_ at the end (default: True)\n",
    "    # cv=3,  # [SP14] uses two-/three-fold CV [why?]\n",
    "    # Stratified ensures that all classes have >0 instances in each split, which is statistically maybe fishy but avoids\n",
    "    # breaking various code that merges the split results back together and assumes all splits' classes are the same\n",
    "    cv=sk.model_selection.StratifiedShuffleSplit(\n",
    "        n_splits=1,  # [for ~18/20 miss: ~19m, ~16g disk cache]\n",
    "        # n_splits=2,\n",
    "        # n_splits=3,\n",
    "        # n_splits=5,\n",
    "        # n_splits=10,\n",
    "        # n_splits=20,  # Known good [>51m uncached, >25g disk cache]\n",
    "        # n_splits=100,  # [?m runtime, ?g disk cache]\n",
    "        test_size=.2,\n",
    "        random_state=0,\n",
    "    ),\n",
    "    return_train_score=True,\n",
    "    # return_estimator=True,  # Verrrry heavy, use extra_metrics instead\n",
    "    # recompute_extra_metrics=True,  # Loads estimator.pkl (fast) but doesn't return it (huge)\n",
    "    extra_metrics=dict(\n",
    "        # [How to specify SearchEvals here without creating caching headaches?]\n",
    "        #   - e.g. defs don't bust cache on code edit\n",
    "        #   - And avoid thrashing cache every time we refactor SearchEvals\n",
    "        classes='estimator.classes_',\n",
    "        train_i='train',\n",
    "        train_y='y_train',\n",
    "        train_predict_proba='estimator.classifier_.predict_proba(X_train)',\n",
    "        test_i='test',\n",
    "        test_y='y_test',\n",
    "        test_predict_proba='estimator.classifier_.predict_proba(X_test)',\n",
    "        model_size='len(joblib_dumps(estimator))',\n",
    "        model_stats='model_stats(estimator)',\n",
    "        proc_stats='proc_stats',\n",
    "    ),\n",
    "    # verbose=10,  # O(models * n_splits) lines of outputs\n",
    "    verbose=1,  # O(1) lines of outputs\n",
    "    # Use n_jobs=1\n",
    "    #   - All classifiers can parallelize .fit/.predict\n",
    "    #   - Avoid memory contention\n",
    "    # n_jobs=-1,\n",
    "    # n_jobs=1,  # For %prun, and way faster for 100% loads\n",
    "    # n_jobs=2,\n",
    "    # n_jobs=4,\n",
    "    # n_jobs=6,  # For exactly 6 models\n",
    "    # n_jobs=8,  # For slow ovr serdes [why?]\n",
    "    # Manually tune n_jobs to saturate all cores, while ensuring that some jobs finish in ~short durations for incrementalism\n",
    "    #   - n1-highmem-64\n",
    "    # n_jobs=8,  # Too many 1-core liblinears, ~25% total cpu\n",
    "    # n_jobs=16,  # Often ~100% total cpu, but one time was ~80% total cpu\n",
    "    # n_jobs=20,  # ~90% total cpu\n",
    "    # n_jobs=24,  # ~95% total cpu\n",
    "    # n_jobs=32,  # Only 32 jobs launch, now that there are a bunch of cache hits\n",
    "    # n_jobs=32,  # ~45 jobs launch, many procs only getting ~25% cpu\n",
    "    # TODO TODO Manually tune n_jobs to saturate all cores, while ensuring that some jobs finish in ~short durations for incrementalism\n",
    "    #   - n1-highcpu-96 (skylake)\n",
    "    #   - ~4700% cpu - xgb_rf (measured with n_estimators=1600)\n",
    "    #   -  ~500% cpu - logreg_ovr(saga)\n",
    "    #   -   100% cpu - logreg_multi(*)\n",
    "    #   -   100% cpu - logreg_*(liblinear)\n",
    "    #   -   100% cpu - nb\n",
    "    n_jobs=-1,  # For liblinear\n",
    "    # n_jobs=1,  # For cache hits\n",
    "    # n_jobs=2,  # 95% total cpu (xgb_rf)\n",
    "    # n_jobs=3,  # xgb_rf (>100% cpu)\n",
    "    # n_jobs=4,\n",
    "    # n_jobs=8,  # 100% total cpu (xgb_rf)\n",
    "    # n_jobs=24,  # For sag/saga (~5 cores per proc)\n",
    "    # n_jobs=32,  # Estimating 32 = 96 / avg(1 cpu liblinear, 5 cpu saga)\n",
    "    # n_jobs=48,  # logreg: ~82 cpu\n",
    "    # n_jobs=64,\n",
    "    artifacts=dict(\n",
    "        dir=f'{data_dir}/artifacts',  # TODO Iron out syncing across local/gs/remote\n",
    "        save=True,\n",
    "        reuse=f'eval-{countries_k}-{com_names_k}',\n",
    "        # skip_compute_if_missing=True,\n",
    "    ),\n",
    ")\n",
    "with contextlib.ExitStack() as stack:\n",
    "    # stack.enter_context(cache_control(refresh=True))  # Disk unsafe...\n",
    "    stack.enter_context(cache_control(enabled=False))  # Disk safe\n",
    "    # stack.enter_context(joblib.parallel_backend('threading'))  # Default: 'multiprocessing'\n",
    "    # stack.enter_context(joblib.parallel_backend('sequential'))  # For %prun [FIXME Has no effect; why?]\n",
    "    stack.enter_context(log.context(level='info'))\n",
    "    # stack.enter_context(log.context(level='debug'))\n",
    "    X, y = Search.Xy(recs)\n",
    "    cv.fit(X, y)"
   ]
  },
  {
   "cell_type": "code",
   "execution_count": null,
   "metadata": {},
   "outputs": [],
   "source": [
    "# Precompute eval metrics + dims for the plots below\n",
    "#   - Grain: models\n",
    "#   - Metrics: train_score, test_score, ...\n",
    "#   - Dims: model_id, fold, params_data, params_complexity, params_model, ...\n",
    "facet = (\n",
    "    facet_wrap('params_data_and_model')\n",
    "    # facet_grid('params_data ~ params_model')\n",
    "    # facet_grid('params_model ~ params_data')\n",
    "    # facet_grid('n_recs ~ n_species', labeller='label_both')\n",
    ")\n",
    "ks_params_data = [\n",
    "    'n_species',\n",
    "    'n_recs',\n",
    "]\n",
    "ks_params_complexity = [\n",
    "    # 'c_n_estimators',\n",
    "    'c_max_depth',\n",
    "    'c_C',\n",
    "    # 'c_class_weight',\n",
    "]\n",
    "# params_model = ...  # Everything else\n",
    "# log.debug('Start')\n",
    "cv_models = (cv_results_splits_df(cv.cv_results_)\n",
    "    # Slow yaml parsing, compute up front\n",
    "    .assign(params_dict=lambda df: df.apply(axis=1, func=lambda row: dict(\n",
    "        **{strip_startswith(k, 'param_'): row[k] for k in df if k.startswith('param_') and k not in ['param_classifier']},\n",
    "        # HACK 'classifier.foo' -> 'c_foo'\n",
    "        #   - TODO Refactor Search.classifier to get rid of the yaml strs ('c_cls', 'c_n_estimators', ...)\n",
    "        **{'c_' + k: v for k, v in yaml.safe_load('{%s}' % row.param_classifier).items()},\n",
    "        # 'classifier': yaml.safe_load('{%s}' % row.param_classifier),\n",
    "    )))\n",
    "    [lambda df: [c for c in df if not c.startswith('param_')]]\n",
    "    # Dims from params (for validation curves, learning curves, etc.)\n",
    "    .assign(\n",
    "        n_species=lambda df: df.params_dict.apply(lambda d: d['n_species']),\n",
    "        n_recs=lambda df: df.params_dict.apply(lambda d: d['n_recs']),\n",
    "        params_data=lambda df: df.params_dict.apply(lambda d: ', '.join(\n",
    "            '%s[%s]' % (k, d[k]) for k in ks_params_data if k in d\n",
    "        )),\n",
    "        params_complexity=lambda df: df.params_dict.apply(lambda d: ', '.join(\n",
    "            '%s[%s]' % (k, d[k]) for k in ks_params_complexity if k in d\n",
    "        )),\n",
    "        params_model=lambda df: df.params_dict.apply(lambda d: ', '.join(\n",
    "            '%s[%s]' % (k, d[k]) for k in d if k not in ks_params_data + ks_params_complexity\n",
    "        )),\n",
    "        params_data_and_model=lambda df: df.apply(axis=1, func=lambda row: (\n",
    "            '\\n'.join([row.params_data, row.params_model])\n",
    "        )),\n",
    "        params_model_and_complexity=lambda df: df.apply(axis=1, func=lambda row: (\n",
    "            '\\n'.join([row.params_model, row.params_complexity])\n",
    "        )),\n",
    "    )\n",
    "    # HACK Convert yaml strs ('x: y') to bracket style ('x[y]'), for visual consistency\n",
    "    #   - TODO Refactor Search.classifier to get rid of the yaml strs ('c_cls', 'c_n_estimators', ...)\n",
    "    .applymap(lambda x: x if not isinstance(x, str) else (\n",
    "        re.sub(r'([^][:, ]+):\\s+([^][:,]+)(, )?', r'c_\\1[\\2]\\3',\n",
    "            re.sub(r'classifier\\[([^]]+)\\]', r'\\1',\n",
    "                x,\n",
    "            ),\n",
    "        )\n",
    "    ))\n",
    "    #   - Restore the cats we just destroyed [copied from cv_results_splits_df]\n",
    "    .pipe(df_ordered_cat,\n",
    "        model_id=lambda df: df.model_id.unique(),\n",
    "        params=lambda df: df.params.unique(),\n",
    "        params_data=lambda df: df.params_data.unique(),\n",
    "        # Order params_complexity like c_max_depth\n",
    "        params_complexity=lambda df: sorted(\n",
    "            df.params_complexity.unique(),\n",
    "            reverse=True,  # Match how the normal .unique() would come out (not clear why, and don't care)\n",
    "            key=lambda s: one(\n",
    "                (x['name'], or_else(-np.inf, lambda: float({'None': 'inf'}.get(x['value'], x['value']))))\n",
    "                for x in [\n",
    "                    parse.search('{name}[{value}]', s) or  # Parses first match, ignores rest\n",
    "                    {'name': 'unk', 'value': None}\n",
    "                ]\n",
    "            ),\n",
    "        ),\n",
    "        params_model=lambda df: df.params_model.unique(),\n",
    "    )\n",
    "    .pipe(df_ordered_cat,\n",
    "        params_data_and_model=lambda df: (df\n",
    "            .sort_values(['params_data', 'params_model']).params_data_and_model.unique()\n",
    "        ),\n",
    "        params_model_and_complexity=lambda df: (df\n",
    "            .sort_values(['params_model', 'params_complexity']).params_model_and_complexity.unique()\n",
    "        ),\n",
    "    )\n",
    "    # .eval\n",
    "    .assign(\n",
    "        train_evals=lambda df: np.vectorize(SearchEvals)(\n",
    "            i=df.pop('train_i'),\n",
    "            y=df.pop('train_y'),\n",
    "            classes=df['classes'],\n",
    "            y_scores=df.pop('train_predict_proba'),\n",
    "            drop_missing_classes_for_n_species=True,  # HACK Migrate to sk Pipeline to avoid this\n",
    "        ),\n",
    "        test_evals=lambda df: np.vectorize(SearchEvals)(\n",
    "            i=df.pop('test_i'),\n",
    "            y=df.pop('test_y'),\n",
    "            classes=df['classes'],\n",
    "            y_scores=df.pop('test_predict_proba'),\n",
    "            drop_missing_classes_for_n_species=True,  # HACK Migrate to sk Pipeline to avoid this\n",
    "        ),\n",
    "    )\n",
    "    # .pipe(tap, f=lambda df: log.debug('SearchEvals.score'))\n",
    "    .assign(\n",
    "        # HACK Recompute (train_score, test_score) using SearchEvals.score so it can drop_missing_classes_for_n_species\n",
    "        #   - Else you'll get scores that are too low (bad) because they include some -np.inf's in the median\n",
    "        train_score=lambda df: df.train_evals.map(lambda x: x.score()),\n",
    "        test_score=lambda df: df.test_evals.map(lambda x: x.score()),  # (= 50p)\n",
    "        test_75p_score=lambda df: df.test_evals.map(lambda x: x.score(agg=partial(np.percentile, q=75))),\n",
    "        test_95p_score=lambda df: df.test_evals.map(lambda x: x.score(agg=partial(np.percentile, q=95))),\n",
    "        # train_score=lambda df: map_progress(lambda x: x.score(), df.train_evals, use='dask', scheduler='threads'),\n",
    "        # test_score=lambda df: map_progress(lambda x: x.score(), df.test_evals, use='dask', scheduler='threads'),\n",
    "    )\n",
    "    .drop(columns=[\n",
    "        'classes',\n",
    "    ])\n",
    "    # proc_stats\n",
    "    # .pipe(tap, f=lambda df: log.debug('proc_stats'))\n",
    "    .pipe(lambda df: df.join(df\n",
    "        .apply(axis=1, func=lambda row: (row.proc_stats.stats\n",
    "            .groupby('pid')[['cpu_user', 'cpu_system', 'mem_rss', 'mem_vms']].agg(lambda g: g.max() - g.min())\n",
    "            .sum(axis=0)\n",
    "        ))\n",
    "        .rename(columns={\n",
    "            'cpu_user': 'cpu_user_time',\n",
    "            'cpu_system': 'cpu_system_time',\n",
    "            'mem_rss': 'mem_rss_delta',\n",
    "            'mem_vms': 'mem_vms_delta',\n",
    "        })\n",
    "    ))\n",
    "    .assign(\n",
    "        cpu_time=lambda df: df.cpu_user_time + df.cpu_system_time,\n",
    "        cpu_time_m=lambda df: df.cpu_time / 60,  # s -> m\n",
    "    )\n",
    "    # For xgb_rf, rf, ovr-rf\n",
    "    .assign(\n",
    "        c_multiclass=lambda df: df.params_dict.str.get('c_multiclass'),\n",
    "        c_max_depth=lambda df: df.params_dict.str.get('c_max_depth'),\n",
    "        # c_rf_max_depth=lambda df: df.apply(axis=1, func=lambda row: (\n",
    "        #     row['c_max_depth'] * (10 if row['c_multiclass'] == 'ovr' else 1)  # HACK Undo rf_max_depth -> ovr_rf_max_depth\n",
    "        # )),\n",
    "    )\n",
    "    # model_stats\n",
    "    .assign(\n",
    "        logreg_n_iter=lambda df: df.model_stats.map(lambda stats: or_else(None, lambda: stats.n_iter)),\n",
    "        forest_depth_mean=lambda df: df.model_stats.map(lambda stats: or_else(None, lambda: stats.depth.mean())),\n",
    "        forest_depth_std=lambda df: df.model_stats.map(lambda stats: or_else(None, lambda: stats.depth.std())),\n",
    "    )\n",
    "    # Reorder\n",
    "    .pipe(df_reorder_cols,\n",
    "        first=['model_id', 'params', 'params_dict', 'params_data', 'params_complexity', 'params_model'],\n",
    "        last=['train_evals', 'test_evals', 'proc_stats', 'model_stats', 'model'],\n",
    "    )\n",
    "    # .pipe(tap, f=lambda df: log.debug('display'))\n",
    "    .pipe(tap, f=lambda df: display(\n",
    "        # df_summary(df).T,\n",
    "        # df,\n",
    "        len(df),\n",
    "        df[:5],\n",
    "    ))\n",
    "    # .pipe(tap, f=lambda df: log.debug('Done'))\n",
    ")"
   ]
  },
  {
   "cell_type": "code",
   "execution_count": null,
   "metadata": {},
   "outputs": [],
   "source": [
    "# Tune n_iter\n",
    "(cv_models\n",
    "    .merge(how='left', on='model_id', right=df_flatmap(cv_models, lambda row: (\n",
    "        dict(model_id=row.model_id, n_iter=n_iter)\n",
    "        for n_iter in coalesce(row.logreg_n_iter, [0])\n",
    "    )))\n",
    "    # Manually compute y.mean() per group\n",
    "    # .groupby('params').apply(lambda g: g.assign(cpu_time_m_mean=lambda df: df.cpu_time_m.mean()))\n",
    "    .pipe(df_reverse_cat, 'params_complexity')\n",
    "    .pipe(ggplot)\n",
    "    + aes(x='params_complexity')\n",
    "    + facet\n",
    "    + geom_count(aes(y='n_iter', size='..n..')) + scale_size_area()\n",
    "    + expand_limits(y=0)\n",
    "    + coord_flip()\n",
    "    + theme_figsize(width=12*1, aspect_ratio=1/1.5)\n",
    "    + ggtitle(f'n_iter ({recs_stats})')\n",
    ")"
   ]
  },
  {
   "cell_type": "code",
   "execution_count": null,
   "metadata": {},
   "outputs": [],
   "source": [
    "# Train time ~ n_species\n",
    "(cv_models\n",
    "    .pipe(df_reverse_cat, 'params_complexity')\n",
    "    .pipe(ggplot)\n",
    "    + aes(x='n_species', y='cpu_time_m', color='params_complexity')\n",
    "    + facet\n",
    "    # + facet_wrap('params_model', nrow=1)\n",
    "    + geom_point()\n",
    "    + geom_line()\n",
    "    + theme_figsize(width=12*1, aspect_ratio=1/1.5)\n",
    "    + ggtitle(f'Train time ~ n_species ({recs_stats})')\n",
    ")"
   ]
  },
  {
   "cell_type": "code",
   "execution_count": null,
   "metadata": {},
   "outputs": [],
   "source": [
    "# Train time ~ n_recs\n",
    "(cv_models\n",
    "    .pipe(df_reverse_cat, 'params_complexity')\n",
    "    .pipe(ggplot)\n",
    "    + aes(x='n_recs', y='cpu_time_m', color='params_complexity')\n",
    "    + facet\n",
    "    # + facet_wrap('params_model', nrow=1)\n",
    "    + geom_point()\n",
    "    + geom_line()\n",
    "    + theme_figsize(width=12*1, aspect_ratio=1/1.5)\n",
    "    + ggtitle(f'Train time ~ n_recs ({recs_stats})')\n",
    ")"
   ]
  },
  {
   "cell_type": "code",
   "execution_count": null,
   "metadata": {},
   "outputs": [],
   "source": [
    "(cv_models\n",
    "    # Manually compute y.mean() per group\n",
    "    .groupby('params').apply(lambda g: g.assign(cpu_time_m_mean=lambda df: df.cpu_time_m.mean()))\n",
    "    .pipe(df_reverse_cat, 'params_complexity')\n",
    "    .pipe(ggplot)\n",
    "    + aes(x='params_complexity')\n",
    "    + facet\n",
    "    + geom_col(aes(y='cpu_time_m_mean'), fill='darkgray', position=position_dodge())\n",
    "    + geom_point(aes(y='cpu_time_m'), color='black', fill='none', size=2)\n",
    "    + coord_flip()\n",
    "    + theme_figsize(width=12*1, aspect_ratio=1/1.5)\n",
    "    + ggtitle(f'Train + score times ({recs_stats})')\n",
    ")"
   ]
  },
  {
   "cell_type": "code",
   "execution_count": null,
   "metadata": {},
   "outputs": [],
   "source": [
    "(cv_models\n",
    "    # Manually compute y.mean() per group\n",
    "    .groupby('params').apply(lambda g: g.assign(model_size_mean=lambda df: df.model_size.mean()))\n",
    "    .pipe(df_reverse_cat, 'params_complexity')\n",
    "    .pipe(ggplot)\n",
    "    + aes(x='params_complexity')\n",
    "    + facet\n",
    "    + geom_col(aes(y='model_size_mean'), fill='darkgray', position=position_dodge()) # Summary per fold\n",
    "    + geom_point(aes(y='model_size'), color='black', fill='none', size=2) # Distribution of folds\n",
    "    + scale_y_continuous(labels=labels_bytes(), breaks=breaks_bytes())\n",
    "    + coord_flip()\n",
    "    + ylab('model_size')\n",
    "    + theme_figsize(width=12*1, aspect_ratio=1/1.5)\n",
    "    + ggtitle(f'Model size ({recs_stats})')\n",
    ")"
   ]
  },
  {
   "cell_type": "code",
   "execution_count": null,
   "metadata": {},
   "outputs": [],
   "source": [
    "# TODO Make not barf on non-tree models (blocks rest of notebook)\n",
    "(cv_models\n",
    "    # Manually compute boxplot stats, else it's _really_ slow (or you have to downsample, which misses outliers)\n",
    "    #   - Based on stat_boxplot.compute_group\n",
    "    .merge(how='left', on='params', right=cv_models.groupby('params').apply(lambda g: one(\n",
    "        pd.Series(dict(\n",
    "            params=g.name,\n",
    "            ymin=boxplot['whislo'],\n",
    "            lower=boxplot['q1'],\n",
    "            middle=boxplot['med'],\n",
    "            upper=boxplot['q3'],\n",
    "            ymax=boxplot['whishi'],\n",
    "            outliers=np.unique(boxplot['fliers']),  # np.unique else really slow, because lots of repeated (int) points\n",
    "        ))\n",
    "        for [boxplot] in [mpl.cbook.boxplot_stats(  # [boxplot] is 1 elem because X.ndim = 1\n",
    "            X=np.concatenate([coalesce(x, {}).get('depth', []) for x in g.model_stats]),\n",
    "            whis=1.5,\n",
    "        )]\n",
    "    )))\n",
    "    .pipe(df_reverse_cat, 'params_complexity')\n",
    "    .pipe(ggplot)\n",
    "    + aes(x='params_complexity')\n",
    "    + facet\n",
    "    + geom_boxplot(\n",
    "        stat='identity',\n",
    "        outlier_size=.5,\n",
    "        mapping=aes(ymin='ymin', ymax='ymax', upper='upper', lower='lower', middle='middle', outliers='outliers',\n",
    "            width=.8,  # Close enough to geom_boxplot defaults [TODO Maybe should compute based on num categorical x's?]\n",
    "        ),\n",
    "    )\n",
    "    + ylab('tree_depth')\n",
    "    + coord_flip()\n",
    "    + theme_figsize(width=12*2, aspect_ratio=1/1.5)\n",
    "    + ggtitle(f'Tree depth ({recs_stats})')\n",
    ")"
   ]
  },
  {
   "cell_type": "code",
   "execution_count": null,
   "metadata": {},
   "outputs": [],
   "source": [
    "# Train/test scores\n",
    "#   - Grain: models x {train,test}\n",
    "#   - Metrics: score\n",
    "#   - Dims: group, params\n",
    "(cv_models\n",
    "    .pipe(df_reverse_cat, 'params_complexity')\n",
    "    .pipe(lambda df: pd.melt(df,\n",
    "        id_vars=[\n",
    "            'params', 'params_data', 'params_model', 'params_complexity',\n",
    "            'params_data_and_model', 'params_model_and_complexity',\n",
    "            'n_species', 'n_recs',\n",
    "            'fold',\n",
    "        ],\n",
    "        value_vars=[\n",
    "            # 'train_score',  # Boring\n",
    "            'test_score',\n",
    "            'test_75p_score',\n",
    "            'test_95p_score',\n",
    "        ],\n",
    "        var_name='metric',\n",
    "        value_name='score'),\n",
    "    )\n",
    "    .assign(\n",
    "        metric=lambda df: df.metric.str.replace('_score', ''),\n",
    "        group=lambda df: df.params_complexity.str.cat(df.metric, '/'),\n",
    "    )\n",
    "    .pipe(df_ordered_cat,\n",
    "        group=lambda df: reversed(df.group.unique()),\n",
    "    )\n",
    "    .pipe(ggplot)\n",
    "    + aes(x='params_complexity')\n",
    "    + aes(y='score')\n",
    "    + aes(color='metric')\n",
    "    # + facet_grid('params_data ~ params_model')\n",
    "    + facet\n",
    "    + geom_hline(yintercept=-1, color='lightgrey')  # -1 is the max score (1 is the min coverage_error)\n",
    "    + geom_point(alpha=.5)\n",
    "    # + geom_jitter(fill='none', size=3, height=1e-9, width=.05)\n",
    "    # + geom_count(aes(size='..n..')) + scale_size_area()\n",
    "    # + stat_summary(aes(group='group'), fun_data='mean_cl_boot', random_state=0, geom='errorbar')\n",
    "    + coord_flip(\n",
    "        # ylim=(-40, 0),\n",
    "    )\n",
    "    # + scale_color_cmap_d('tab10')\n",
    "    + scale_color_cmap_d('Set1')\n",
    "    + theme_figsize(width=12*1, aspect_ratio=1/1.5)\n",
    "    + ylab('score (-coverage_error)')\n",
    "    + ggtitle(f'Train/test scores ({recs_stats})')\n",
    ")"
   ]
  },
  {
   "cell_type": "code",
   "execution_count": null,
   "metadata": {},
   "outputs": [],
   "source": [
    "(cv_models\n",
    "    .pipe(ggplot)\n",
    "    + aes(x='cpu_time_m', y='test_score')\n",
    "    + aes(color='params_complexity')\n",
    "    + facet\n",
    "    + geom_point()\n",
    "    + geom_hline(yintercept=0, color='grey')\n",
    "    + expand_limits(x=0)\n",
    "    # + ylim(-30, 0)\n",
    "    + scale_color_cmap_d(mpl_cmap_concat('tab20', 'tab20b', 'tab20c'))\n",
    "    + guides(color=guide_legend(ncol=1)) + theme(legend_position='right', legend_box_spacing=.4, legend_key_height=8)\n",
    "    + theme_figsize(width=12*1, aspect_ratio=1/1.5)\n",
    "    + ggtitle('test_score ~ cpu_time_m')\n",
    ")"
   ]
  },
  {
   "cell_type": "code",
   "execution_count": null,
   "metadata": {},
   "outputs": [],
   "source": [
    "(cv_models\n",
    "    .pipe(ggplot)\n",
    "    + aes(x='model_size', y='test_score')\n",
    "    + aes(color='params_complexity')\n",
    "    + facet\n",
    "    + geom_point()\n",
    "    + geom_hline(yintercept=0, color='grey')\n",
    "    + scale_x_continuous(labels=labels_bytes(), breaks=breaks_bytes())\n",
    "    + expand_limits(x=0)\n",
    "    # + ylim(-30, 0)\n",
    "    + scale_color_cmap_d(mpl_cmap_concat('tab20', 'tab20b', 'tab20c'))\n",
    "    + guides(color=guide_legend(ncol=1)) + theme(legend_position='right', legend_box_spacing=.4, legend_key_height=8)\n",
    "    + theme_figsize(width=12*1, aspect_ratio=1/1.5)\n",
    "    + ggtitle('test_score ~ model_size')\n",
    ")"
   ]
  },
  {
   "cell_type": "code",
   "execution_count": null,
   "metadata": {},
   "outputs": [],
   "source": [
    "# SLOW_PLOTS_NEXT"
   ]
  },
  {
   "cell_type": "markdown",
   "metadata": {},
   "source": [
    "# Model diagnostics: all models, all folds"
   ]
  },
  {
   "cell_type": "code",
   "execution_count": null,
   "metadata": {},
   "outputs": [],
   "source": [
    "print('models:')\n",
    "print('  params[*/%s]' % len(cv_models.params.cat.categories))\n",
    "print('  fold[*/%s]' % cv.cv.n_splits)"
   ]
  },
  {
   "cell_type": "code",
   "execution_count": null,
   "metadata": {},
   "outputs": [],
   "source": [
    "# TODO Cache\n",
    "# Coverage errors: all models, all folds\n",
    "#   - Subset: all models\n",
    "#   - Grain: sum(recs[model.test_i] for model)\n",
    "#   - Dims: model_id, params, fold, y_true, rec_id\n",
    "#   - Metrics: coverage_error\n",
    "coverage_errors_all_all = (cv_models\n",
    "    # .sample(n=5, random_state=0)  # For faster dev\n",
    "    .pipe(lambda df: DF(\n",
    "        OrderedDict(\n",
    "            # **row[['model_id', 'params', 'fold']],  # Slow (in this inner loop), unpack manually instead\n",
    "            model_id=row.model_id,\n",
    "            params=row.params,\n",
    "            params_data=row.params_data,\n",
    "            params_model=row.params_model,\n",
    "            params_complexity=row.params_complexity,\n",
    "            params_data_and_model=row.params_data_and_model,\n",
    "            params_model_and_complexity=row.params_model_and_complexity,\n",
    "            fold=row.fold,\n",
    "            i=i,\n",
    "            y_true=y_true,\n",
    "            coverage_error=coverage_error,\n",
    "        )\n",
    "        for row in iter_progress(df_rows(df), n=len(df))\n",
    "        for i, y_true, coverage_error in zip(\n",
    "            row.test_evals.i,\n",
    "            row.test_evals.y,\n",
    "            row.test_evals.coverage_errors(),\n",
    "        )\n",
    "    ))\n",
    "    .astype(dict(\n",
    "        model_id=cv_models.model_id.dtype,\n",
    "        params=cv_models.params.dtype,\n",
    "        params_data=cv_models.params_data.dtype,\n",
    "        params_model=cv_models.params_model.dtype,\n",
    "        params_complexity=cv_models.params_complexity.dtype,\n",
    "        params_data_and_model=cv_models.params_data_and_model.dtype,\n",
    "        params_model_and_complexity=cv_models.params_model_and_complexity.dtype,\n",
    "    ))\n",
    "    .pipe(tap, lambda df: display(\n",
    "        df_summary(df).T,\n",
    "        df[:10],\n",
    "    ))\n",
    ")"
   ]
  },
  {
   "cell_type": "code",
   "execution_count": null,
   "metadata": {},
   "outputs": [],
   "source": [
    "[print(x) for x in coverage_errors_all_all.params_data.unique()];\n",
    "params_data = (\n",
    "    'n_species[168], n_recs[1.0]'\n",
    "    # 'n_species[336], n_recs[1.0]'\n",
    "    # 'n_species[159], n_recs[1.0]'\n",
    ")\n",
    "n_species = parse.search('n_species[{n_species:d}], n_recs[{n_recs:f}]', params_data)['n_species']"
   ]
  },
  {
   "cell_type": "code",
   "execution_count": null,
   "metadata": {},
   "outputs": [],
   "source": [
    "# TODO Class imbalance\n",
    "#   1. Is class imbalance causing a problem? [-> maybe]\n",
    "#   2. Is class_weight solving it? [-> maybe a little bit]\n",
    "#   - TODO Try again with larger class imbalance\n",
    "(coverage_errors_all_all\n",
    "    [lambda df: df.params_data == params_data]\n",
    "    # .sample(100, random_state=0)  # Faster dev\n",
    "    .merge(how='left', on='y_true', right=(recs\n",
    "        .assign(n_recs=1).groupby('species')['n_recs'].sum().reset_index()\n",
    "        .rename(columns={'species': 'y_true'})\n",
    "    ))\n",
    "    # .pipe(puts, f=lambda df: df[:3])  # XXX Debug\n",
    "    .pipe(ggplot)\n",
    "    # + facet_grid('params_complexity ~ params_model')\n",
    "    + facet_wrap('params_model_and_complexity')\n",
    "    + aes(x='n_recs', y='coverage_error')\n",
    "    + geom_count(aes(size='..n..')) + scale_size_area()\n",
    "    + expand_limits(x=0, y=0)\n",
    "    + coord_flip()\n",
    "    + theme_figsize(width=12*1, aspect_ratio=1/1)\n",
    "    + ggtitle(rf'Coverage error by n_recs per species ({recs_stats}) [{params_data}]')\n",
    ")"
   ]
  },
  {
   "cell_type": "code",
   "execution_count": null,
   "metadata": {},
   "outputs": [],
   "source": [
    "# Facet by params_no_ns, order by median(coverage_error)\n",
    "#   - Subset: all models\n",
    "#   - Grain: sum(recs[model.test_i].groupby(params, y_true) for model)\n",
    "#       - Over: fold, rec_id\n",
    "#   - Dims: params, y_true\n",
    "#   - Metrics: coverage_error.median\n",
    "# in: coverage_errors_all_all, recs\n",
    "(coverage_errors_all_all\n",
    "    [lambda df: df.params_data == params_data]\n",
    "    # .sample(100, random_state=0)  # Faster dev\n",
    "    # .pipe(df_reverse_cat, 'params', 'params_no_ns', 'ns')\n",
    "    .pipe(df_ordered_cat,\n",
    "        y_true=lambda df: (\n",
    "            # Sort species by median(coverage_error) (across all models)\n",
    "            df.groupby('y_true').agg({'coverage_error': np.median}).reset_index().sort_values('coverage_error').y_true\n",
    "            # Sort species by taxo (hard to compare across models, unless they're pretty low noise)\n",
    "            # reversed(recs.species.cat.categories)\n",
    "        ),\n",
    "    )\n",
    "    .pipe(ggplot)\n",
    "    + aes(x='y_true', y='coverage_error')\n",
    "    + aes(color='y_true')\n",
    "    # + facet_grid('params_complexity ~ params_model')\n",
    "    + facet_wrap('params_model_and_complexity', dir='v',\n",
    "        nrow=coverage_errors_all_all.params_model.nunique(),  # Bug: nrow instead of ncol [https://github.com/has2k1/plotnine/issues/163]\n",
    "    )\n",
    "    # + geom_line(aes(group='params'), stat='summary', fun_y=np.median)  # TODO Bad interpolation with n_species\n",
    "    + geom_point(aes(group='params'), stat='summary', fun_y=np.median)\n",
    "    + coord_flip()\n",
    "    # + geom_hline(yintercept=recs.species.nunique(), color='grey')\n",
    "    + scale_color_cmap_d(mpl_cmap_repeat(10, 'tab20', 'tab20b', 'tab20c'))\n",
    "    + theme_minimal()  # Before other theme()\n",
    "    + guides(color=guide_legend(nrow=70))\n",
    "    + theme(legend_position='right', legend_box_spacing=.4, legend_key_height=8, legend_text=element_text(size=8))\n",
    "    + theme(axis_text_y=element_blank())\n",
    "    + theme_figsize(width=12*1, aspect_ratio=1/2)\n",
    "    + ggtitle(rf'Coverage error over fold $\\times$ instance ({recs_stats}) [{params_data}]')\n",
    ")"
   ]
  },
  {
   "cell_type": "code",
   "execution_count": null,
   "metadata": {},
   "outputs": [],
   "source": [
    "# TODO Slow, bad for notebook dev loop -- move lower, or disable by default?\n",
    "# Facet by species\n",
    "#   - Subset: all models\n",
    "#   - Grain: sum(recs[model.test_i].groupby(params, y_true) for model)\n",
    "#       - Over: fold, rec_id\n",
    "#   - Dims: params, y_true\n",
    "#   - Metrics: coverage_error.median\n",
    "# in: coverage_errors_all_all, recs\n",
    "[print(x) for x in coverage_errors_all_all.params_model.unique()];\n",
    "params_model = [\n",
    "    # 'c_cls[rf], c_n_estimators[100]',\n",
    "    # 'c_cls[logreg_multi], c_solver[newton-cg]',\n",
    "    # 'c_cls[logreg_ovr], c_solver[liblinear]',\n",
    "    # 'c_cls[xgb_rf], c_n_estimators[100]',\n",
    "    # 'c_cls[logreg_ovr], c_solver[liblinear], c_C[0.1]',\n",
    "    'c_cls[nb]',\n",
    "]\n",
    "(coverage_errors_all_all\n",
    "    [lambda df: df.params_data == params_data]\n",
    "    [lambda df: df.params_model.isin(params_model)]\n",
    "    # .sample(200, random_state=0)  # Faster dev\n",
    "    # [lambda df: df.y_true.isin(df.y_true.drop_duplicates().sample(n=3, random_state=0))]  # Faster dev\n",
    "    .astype({'y_true': metadata.species.df.shorthand.dtype})\n",
    "    # .pipe(df_reverse_cat, 'params_complexity')\n",
    "    .pipe(ggplot)\n",
    "    + aes(x='params_complexity', y='coverage_error')\n",
    "    + aes(color='params_complexity')\n",
    "    + facet_wrap('y_true',\n",
    "        ncol=int((n_species * 1/(2/3)) ** .5),\n",
    "    )\n",
    "    + geom_hline(yintercept=1, color='grey')\n",
    "    # + geom_hline(yintercept=recs.species.nunique(), color='grey')\n",
    "    # Percentiles (faster, no overplot)\n",
    "    # + geom_point(stat='summary', fun_y=np.median)\n",
    "    # + geom_linerange(stat='summary', fun_ymin=partial(np.percentile, q=25), fun_ymax=partial(np.percentile, q=75))\n",
    "    # Violin (slow, no overplot)\n",
    "    # + geom_violin()\n",
    "    # Boxplot (very slow, no overplot)\n",
    "    # + geom_boxplot()\n",
    "    # Points (medium cost, high overplot)\n",
    "    #   - n (count) instead of prop (proportion)\n",
    "    #   - scale_size_area() instead of default scale_size(), because it's a count [I don't grok this but it looks good]\n",
    "    + geom_count(aes(size='..n..'), color='lightgray')\n",
    "    + scale_size_area()\n",
    "    # + geom_point(stat='summary', fun_y=np.median, shape='|', size=5, stroke=2)\n",
    "    + geom_point(stat='summary', fun_y=np.median, size=5)\n",
    "    + coord_flip(\n",
    "        # ylim=(0, 40),\n",
    "    )\n",
    "    # + scale_color_cmap_d(mpl_cmap_repeat(10, 'tab10'))  # Strong\n",
    "    + scale_color_cmap_d(mpl_cmap_repeat(1, 'tab20', 'tab20b', 'tab20c'))  # FIXME repeat(10) makes lots of blue/gray\n",
    "    + guides(color=guide_legend(reverse=True))\n",
    "    + theme(axis_text_y=element_text(size=6))\n",
    "    + theme_minimal()  # [TODO Before other theme()]\n",
    "    + theme_figsize(width=12*2, aspect_ratio=1/1)\n",
    "    + ggtitle(rf'Coverage error over fold $\\times$ instance, by params_complexity ({recs_stats}) [{params_data}, {params_model}]')\n",
    ")"
   ]
  },
  {
   "cell_type": "code",
   "execution_count": null,
   "metadata": {},
   "outputs": [],
   "source": [
    "# TODO Slow, bad for notebook dev loop -- move lower, or disable by default?\n",
    "# Facet by species\n",
    "#   - Subset: all models\n",
    "#   - Grain: sum(recs[model.test_i].groupby(params, y_true) for model)\n",
    "#       - Over: fold, rec_id\n",
    "#   - Dims: params, y_true\n",
    "#   - Metrics: coverage_error.median\n",
    "# in: coverage_errors_all_all, recs\n",
    "[print(x) for x in coverage_errors_all_all.params_complexity.unique()];\n",
    "params_complexity = [\n",
    "    # 'c_max_depth[46]',\n",
    "    # 'c_max_depth[1]',\n",
    "    # 'c_C[0.01]',\n",
    "    # 'c_class_weight[balanced]',\n",
    "    '',\n",
    "]\n",
    "(coverage_errors_all_all\n",
    "    [lambda df: df.params_data == params_data]\n",
    "    [lambda df: df.params_complexity.isin(params_complexity)]\n",
    "    # [lambda df: df.params.astype(str).str.contains(r'c_n_estimators\\[100\\]')]  # XXX Subset models\n",
    "    # .sample(200, random_state=0)  # Faster dev\n",
    "    # [lambda df: df.y_true.isin(df.y_true.drop_duplicates().sample(n=3, random_state=0))]  # Faster dev\n",
    "    .astype({'y_true': metadata.species.df.shorthand.dtype})\n",
    "    # .pipe(df_reverse_cat, 'params_model')\n",
    "    .pipe(ggplot)\n",
    "    + aes(x='params_model', y='coverage_error')\n",
    "    + aes(color='params_model')\n",
    "    + facet_wrap('y_true',\n",
    "        ncol=int((n_species * 1/(2/3)) ** .5),\n",
    "    )\n",
    "    + geom_hline(yintercept=1, color='grey')\n",
    "    # + geom_hline(yintercept=recs.species.nunique(), color='grey')\n",
    "    # Percentiles (faster, no overplot)\n",
    "    # + geom_point(stat='summary', fun_y=np.median)\n",
    "    # + geom_linerange(stat='summary', fun_ymin=partial(np.percentile, q=25), fun_ymax=partial(np.percentile, q=75))\n",
    "    # Violin (slow, no overplot)\n",
    "    # + geom_violin()\n",
    "    # Boxplot (very slow, no overplot)\n",
    "    # + geom_boxplot()\n",
    "    # Points (medium cost, high overplot)\n",
    "    #   - n (count) instead of prop (proportion)\n",
    "    #   - scale_size_area() instead of default scale_size(), because it's a count [I don't grok this but it looks good]\n",
    "    + geom_count(aes(size='..n..'), color='lightgray')\n",
    "    + scale_size_area()\n",
    "    # + geom_point(stat='summary', fun_y=np.median, shape='|', size=5, stroke=2)\n",
    "    + geom_point(stat='summary', fun_y=np.median, size=5)\n",
    "    + coord_flip(\n",
    "        ylim=(0, 40),\n",
    "    )\n",
    "    + scale_color_cmap_d(mpl_cmap_repeat(1, 'tab20', 'tab20b', 'tab20c'))  # FIXME repeat(10) makes lots of blue/gray\n",
    "    + guides(color=guide_legend(reverse=True))\n",
    "    + theme(axis_text_y=element_text(size=6))\n",
    "    + theme_minimal()  # [TODO Before other theme()]\n",
    "    + theme_figsize(width=12*2, aspect_ratio=1/1)\n",
    "    + ggtitle(rf'Coverage error over fold $\\times$ instance, by params_model ({recs_stats}) [{params_data}, {params_complexity}]')\n",
    ")"
   ]
  },
  {
   "cell_type": "code",
   "execution_count": null,
   "metadata": {},
   "outputs": [],
   "source": [
    "# ONE_MODEL_PLOTS_NEXT"
   ]
  },
  {
   "cell_type": "markdown",
   "metadata": {},
   "source": [
    "# Model diagnostics: one model, all folds"
   ]
  },
  {
   "cell_type": "code",
   "execution_count": null,
   "metadata": {},
   "outputs": [],
   "source": [
    "params_i = 0\n",
    "params = cv_models.params.cat.categories[params_i]\n",
    "print(\"params:\\n%s\" % '\\n'.join('  %s: %r' % (i, x) for i, x in enumerate(cv_models.params.cat.categories)))\n",
    "print()\n",
    "print('models:')\n",
    "print('  params[%s/%s]: %r' % (params_i, len(cv_models.params.cat.categories), params))\n",
    "print('  fold[*/%s]' % cv.cv.n_splits)"
   ]
  },
  {
   "cell_type": "code",
   "execution_count": null,
   "metadata": {},
   "outputs": [],
   "source": [
    "# Coverage errors: one model, all folds\n",
    "#   - Subset: models.params == params\n",
    "#   - Grain: sum(recs[model.test_i] for model)\n",
    "#   - Dims: model_id, params, fold, y_true, rec_id\n",
    "#   - Metrics: coverage_error\n",
    "coverage_errors_one_all = (coverage_errors_all_all\n",
    "    [lambda df: df.params == params]  # One model, all folds\n",
    ")\n",
    "display(\n",
    "    df_summary(coverage_errors_one_all).T,\n",
    "    coverage_errors_one_all[:5],\n",
    ")"
   ]
  },
  {
   "cell_type": "code",
   "execution_count": null,
   "metadata": {},
   "outputs": [],
   "source": [
    "#   - Subset: models.params == params\n",
    "#   - Grain: sum(recs[model.test_i].groupby(y_true) for model)\n",
    "#       - Over: fold, rec_id\n",
    "#   - Dims: y_true\n",
    "#   - Metrics: count, coverage_error.percentiles\n",
    "# in: coverage_errors_one_all, recs\n",
    "(coverage_errors_one_all\n",
    "    .astype({'y_true': metadata.species.df.shorthand.dtype})\n",
    "    .pipe(df_reverse_cat, 'y_true')\n",
    "    .pipe(ggplot, aes(x='y_true', y='coverage_error'))\n",
    "    + geom_hline(yintercept=1, color='grey')\n",
    "    + geom_hline(yintercept=10, color='grey')\n",
    "    + geom_hline(yintercept=recs.species.nunique(), color='grey')\n",
    "    + geom_count(aes(size='..n..'), alpha=1)  # n (count) instead of prop (proportion)\n",
    "    + scale_size_area()  # Instead of default scale_size(), because it's a count [I don't grok this but it looks good]\n",
    "    + geom_point(stat='summary', fun_y=np.median, alpha=1, color='red', shape='|', size=6, stroke=2)\n",
    "    + coord_flip()\n",
    "    # + theme_figsize('inline')\n",
    "    # + theme_figsize('square')\n",
    "    # + theme_figsize('half')\n",
    "    + theme_figsize('half_dense')\n",
    "    # + theme_figsize('full')\n",
    "    # + theme_figsize('full_dense')\n",
    "    + ggtitle(rf'Coverage error over fold $\\times$ instance ({params}) ({recs_stats})')\n",
    ")"
   ]
  },
  {
   "cell_type": "code",
   "execution_count": null,
   "metadata": {
    "time": "1.294s"
   },
   "outputs": [],
   "source": [
    "# One-model/all-folds confusion matrix\n",
    "with figsize(\n",
    "    # 'square',\n",
    "    # 'full',\n",
    "    'full_dense',\n",
    "):\n",
    "    (cv_models\n",
    "        [lambda df: df.params == params]\n",
    "        .pipe(lambda df: plot_confusion_matrix(\n",
    "            classes=df.iloc[0].test_evals.classes,\n",
    "            M=np.array([\n",
    "                row.test_evals.confusion_matrix_prob()\n",
    "                for row in df_rows(df)\n",
    "            ]).sum(axis=0),\n",
    "            # normalize=False,  # For counts\n",
    "            raw=True, scale=10,  # Faster dev\n",
    "            format=None,  # Omit numbers, too dense\n",
    "            title=f'({recs_stats})',\n",
    "        ))\n",
    "    )"
   ]
  },
  {
   "cell_type": "markdown",
   "metadata": {},
   "source": [
    "# Model diagnostics: one model, one fold"
   ]
  },
  {
   "cell_type": "code",
   "execution_count": null,
   "metadata": {
    "skip": true
   },
   "outputs": [],
   "source": [
    "fold = 0\n",
    "# params_i = ...  # Comment out to reuse from above\n",
    "params = cv_models.params.cat.categories[params_i]\n",
    "[(_, model)] = list(cv_models[lambda df: (df.params == params) & (df.fold == fold)].iterrows())\n",
    "print(\"params:\\n%s\" % '\\n'.join('  %s: %r' % (i, x) for i, x in enumerate(cv_models.params.cat.categories)))\n",
    "print()\n",
    "print('model:')\n",
    "print('  params[%s/%s]: %r' % (params_i, len(cv_models.params.cat.categories), model.params))\n",
    "print('  fold[%s/%s]' % (model.fold, cv.cv.n_splits))\n",
    "print()\n",
    "print(model)"
   ]
  },
  {
   "cell_type": "code",
   "execution_count": null,
   "metadata": {
    "skip": true
   },
   "outputs": [],
   "source": [
    "# in: model\n",
    "model_id = model.model_id\n",
    "params = model.params\n",
    "fold = model.fold\n",
    "# train_evals = model.train_evals\n",
    "test_evals = model.test_evals\n",
    "\n",
    "# in: model, recs\n",
    "# train_recs = recs.iloc[train_evals.i]\n",
    "# train_X = Search.X(recs)[train_evals.i]\n",
    "# train_y = Search.y(recs)[train_evals.i]\n",
    "test_recs = recs.iloc[test_evals.i]\n",
    "test_X = Search.X(recs)[test_evals.i]\n",
    "test_y = Search.y(recs)[test_evals.i]  # (Don't need to store cv_models.test_evals.y if we have recs -- which sometimes we don't?)\n",
    "\n",
    "display(\n",
    "    # len(train_recs),\n",
    "    len(test_recs),\n",
    ")"
   ]
  },
  {
   "cell_type": "code",
   "execution_count": null,
   "metadata": {
    "skip": true
   },
   "outputs": [],
   "source": [
    "# TODO Restore this plot like 'Coverage error over ...' above, so we can see _one_ model instead of aggregating over n_splits models\n",
    "# # TODO Update [kill the .merge, then species -> y_true]\n",
    "# (search.coverage_error_by(test_recs, 'id')\n",
    "#     [:5]\n",
    "#     # .merge(test_recs[['id', 'species']], on='id', how='left')\n",
    "#     # .pipe(ggplot, aes(x='species', y='coverage_error'))\n",
    "#     # + geom_count(aes(size='..n..'))\n",
    "#     # + stat_summary(fun_y=np.median, geom='point', color='red', alpha=.5, shape='|', size=6, stroke=1)\n",
    "#     # + stat_summary(\n",
    "#     #     fun_ymin=partial(np.percentile, q=25), fun_ymax=partial(np.percentile, q=75),\n",
    "#     #     geom='linerange', color='red', alpha=.5, size=1,\n",
    "#     # )\n",
    "#     # + coord_flip()\n",
    "#     # + geom_hline(yintercept=len(search.classes_), color='grey')\n",
    "#     # + scale_x_discrete(limits=list(reversed(test_recs.species.cat.categories)))\n",
    "#     # + theme_figsize('square')\n",
    "#     # + ggtitle(rf'Coverage error over instance ({model_id}) ({recs_stats})')\n",
    "# )"
   ]
  },
  {
   "cell_type": "code",
   "execution_count": null,
   "metadata": {
    "skip": true
   },
   "outputs": [],
   "source": [
    "# One-model/one-fold confusion matrix\n",
    "with figsize(\n",
    "    'square',\n",
    "    # 'full',\n",
    "    # 'full_dense',\n",
    "):\n",
    "    plot_confusion_matrix_df(\n",
    "        confusion_matrix_prob_df(model.test_evals.y, model.test_evals.y_scores, model.test_evals.classes),\n",
    "        title=model.model_id,\n",
    "        # normalize=False,  # For counts\n",
    "        raw=True, scale=10,  # Faster dev\n",
    "        title=f'({recs_stats})',\n",
    "    )"
   ]
  },
  {
   "cell_type": "code",
   "execution_count": null,
   "metadata": {},
   "outputs": [],
   "source": [
    "DEBUG_PLOTS_NEXT"
   ]
  },
  {
   "cell_type": "markdown",
   "metadata": {},
   "source": [
    "# Debug plots, ignored by default"
   ]
  },
  {
   "cell_type": "markdown",
   "metadata": {},
   "source": [
    "## Debug: resource usage"
   ]
  },
  {
   "cell_type": "code",
   "execution_count": null,
   "metadata": {},
   "outputs": [],
   "source": [
    "(cv_models\n",
    "    .pipe(df_reverse_cat, 'params', 'params_no_ns', 'ns')\n",
    "    # Manually compute y.mean() per group\n",
    "    .groupby('params').apply(lambda g: g.assign(mem_rss_delta_mean=lambda df: df.mem_rss_delta.mean()))\n",
    "    .pipe(ggplot, aes(x='ns', group='params_no_ns'))\n",
    "    + geom_col(aes(y='mem_rss_delta_mean', fill='params_no_ns'), position=position_dodge()) # Summary per fold\n",
    "    + geom_point(aes(y='mem_rss_delta'), fill='none', size=2, position=position_dodge(width=.9)) # Distribution of folds\n",
    "    + coord_flip()\n",
    "    + scale_fill_cmap_d(mpl_cmap_concat('tab20', 'tab20b', 'tab20c'))\n",
    "    + scale_y_continuous(labels=labels_bytes(), breaks=breaks_bytes())\n",
    "    + guides(fill=guide_legend(reverse=True))\n",
    "    + theme(legend_position='bottom', legend_direction='vertical', legend_box_spacing=.4, legend_key_height=8)\n",
    "    + theme_figsize(aspect_ratio=1/3*2)\n",
    "    + ggtitle(f'Mem rss spread ($max-min$) ({recs_stats})')\n",
    ")"
   ]
  },
  {
   "cell_type": "code",
   "execution_count": null,
   "metadata": {},
   "outputs": [],
   "source": [
    "# TODO Very slow with ~200 models\n",
    "cv_models_proc_stats = (cv_models\n",
    "    # Enable these as needed (at the cost of mem usage)\n",
    "    [[\n",
    "        'model_id',\n",
    "        'params',\n",
    "        # 'params_dict',\n",
    "        'params_data',\n",
    "        'params_complexity',\n",
    "        'params_model',\n",
    "        'fold',\n",
    "        # 'train_score',\n",
    "        # 'test_score',\n",
    "        # 'fit_time',\n",
    "        # 'score_time',\n",
    "        'mem_rss_delta',\n",
    "        # 'mem_vms_delta',\n",
    "        # 'train_evals',\n",
    "        # 'test_evals',\n",
    "        'proc_stats',\n",
    "    ]]\n",
    "    # TODO Faster way to do this? (.merge is >2x slower)\n",
    "    .pipe(df_flatmap, lambda row: [\n",
    "        row.append(pd.Series(dict(**stats)))\n",
    "        for stats in row.proc_stats.stats\n",
    "    ])\n",
    "    # .pipe(lambda df: (df\n",
    "    #     .merge(how='left',\n",
    "    #         right=DF(\n",
    "    #             OrderedDict(model_id=row.model_id, **stats)\n",
    "    #             for row in df_rows(df)\n",
    "    #             for stats in row.proc_stats.stats\n",
    "    #         )\n",
    "    #     )\n",
    "    # ))\n",
    "    # HACK Restore the cats that the df_flatmap just destroyed [copied from cv_results_splits_df]\n",
    "    .pipe(df_ordered_cat,\n",
    "        model_id=lambda df: df.model_id.unique(),\n",
    "        params=lambda df: df.params.unique(),\n",
    "    )\n",
    "    .assign(\n",
    "        cpu_user=lambda df: df.cpu_user.diff() * 100,\n",
    "        cpu_system=lambda df: df.cpu_system.diff() * 100,\n",
    "    )\n",
    "    .pipe(tap, f=lambda df: display(\n",
    "        df_summary(df).T,\n",
    "        df[:5],\n",
    "    ))\n",
    ")"
   ]
  },
  {
   "cell_type": "code",
   "execution_count": null,
   "metadata": {},
   "outputs": [],
   "source": [
    "# TODO Might need to stack/geom_area for overlapping runs\n",
    "(cv_models_proc_stats\n",
    "    .pipe(ggplot)\n",
    "    + aes(x='time', color='model_id')\n",
    "    + geom_line(aes(y='cpu_system'), linetype='dashed', size=.5)\n",
    "    + geom_line(aes(y='cpu_system + cpu_user'), linetype='solid', size=.5)\n",
    "    + expand_limits(y=0)\n",
    "    + ylab('cpu')\n",
    "    + scale_x_datetime(date_labels='%H:%M:%S')\n",
    "    + scale_y_continuous(labels=lambda labels: ['%.3g%%' % x for x in labels])\n",
    "    + theme(legend_position='bottom', legend_direction='vertical', legend_box_spacing=.4, legend_key_height=8)\n",
    "    + theme_figsize('inline_short')\n",
    "    + ggtitle('cpu over time (system + user)')\n",
    ")"
   ]
  },
  {
   "cell_type": "code",
   "execution_count": null,
   "metadata": {},
   "outputs": [],
   "source": [
    "(cv_models_proc_stats\n",
    "    .pipe(ggplot)\n",
    "    + aes(x='time', color='model_id')\n",
    "    + geom_line(aes(y='mem_rss'), linetype='solid', size=.5)\n",
    "    + geom_line(aes(y='mem_vms'), linetype='dashed', size=.5)\n",
    "    + expand_limits(y=0)\n",
    "    + ylab('mem')\n",
    "    + scale_x_datetime(date_labels='%H:%M:%S')\n",
    "    + scale_y_continuous(labels=labels_bytes(), breaks=breaks_bytes(pow=3))\n",
    "    + theme(legend_position='bottom', legend_direction='vertical', legend_box_spacing=.4, legend_key_height=8)\n",
    "    + theme_figsize('inline_short')\n",
    "    + ggtitle('Mem over time (rss, vms)')\n",
    ")"
   ]
  },
  {
   "cell_type": "markdown",
   "metadata": {},
   "source": [
    "## Debug: RF tuning"
   ]
  },
  {
   "cell_type": "code",
   "execution_count": null,
   "metadata": {},
   "outputs": [],
   "source": [
    "# TODO Revive if insightful\n",
    "(cv_models\n",
    "    .pipe(df_reverse_cat, 'params_no_ns')\n",
    "    .assign(n_species=lambda df: df.params_dict.str['n_species'])\n",
    "    .pipe(ggplot, aes(x='n_species', y='forest_depth_mean', color='params_no_ns'))\n",
    "    # + facet_wrap('params_no_ns', ncol=2)\n",
    "    + geom_point()\n",
    "    + geom_pointrange(aes(ymin='forest_depth_mean - 2*forest_depth_std', ymax='forest_depth_mean + 2*forest_depth_std'))\n",
    "    + geom_smooth(method='lm', se=False)  # Disable se because it only knows forest_depth_mean, no measure of spread\n",
    "    + expand_limits(x=0)\n",
    "    + scale_color_cmap_d(mpl_cmap_concat('tab20', 'tab20b', 'tab20c'))\n",
    "    + guides(color=guide_legend(reverse=True))\n",
    "    + theme(legend_position='bottom', legend_direction='vertical', legend_box_spacing=.4, legend_key_height=8)\n",
    "    # + theme_figsize(aspect_ratio=1/3)\n",
    "    + theme_figsize(aspect_ratio=1/3)\n",
    "    + ggtitle(f'RF depth vs. n_species ({recs_stats})')\n",
    ")"
   ]
  },
  {
   "cell_type": "code",
   "execution_count": null,
   "metadata": {},
   "outputs": [],
   "source": []
  }
 ],
 "metadata": {
  "kernelspec": {
   "display_name": "Python 3 (PYTHONSTARTUP)",
   "language": "python",
   "name": "Python 3 (PYTHONSTARTUP)"
  }
 },
 "nbformat": 4,
 "nbformat_minor": 2
}
