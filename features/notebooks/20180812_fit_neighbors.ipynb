{
 "cells": [
  {
   "cell_type": "code",
   "execution_count": null,
   "metadata": {},
   "outputs": [],
   "source": [
    "# XXX Maybe defunct (doing it all inline in app_ideas_2, so far...)"
   ]
  },
  {
   "cell_type": "code",
   "execution_count": null,
   "metadata": {},
   "outputs": [
    {
     "name": "stdout",
     "output_type": "stream",
     "text": "platform:\n  machine: x86_64\n  node: Dan-B.local\n  processor: i386\n  release: 15.6.0\n  system: Darwin\n  version: 'Darwin Kernel Version 15.6.0: Thu Jun 23 18:25:34 PDT 2016; root:xnu-3248.60.10~1/RELEASE_X86_64'\ncpu: 8\nmem: 16g\nswap: 10g\n"
    }
   ],
   "source": [
    "from notebooks import *\n",
    "print_sys_info()"
   ]
  },
  {
   "cell_type": "code",
   "execution_count": null,
   "metadata": {},
   "outputs": [
    {
     "name": "stdout",
     "output_type": "stream",
     "text": "[00:13:11.495] DEBUG  Projection.load\n  path: /Users/danb/hack/bubo/features/data/models/projection/peterson-v0-26bae1c.pkl\n"
    }
   ],
   "source": [
    "# Load models\n",
    "load = Load()\n",
    "projection = Projection.load('peterson-v0-26bae1c', features=Features(load=load))"
   ]
  },
  {
   "cell_type": "code",
   "execution_count": null,
   "metadata": {},
   "outputs": [],
   "source": [
    "# Experiment ID\n",
    "experiment_id_prefix = 'fit-neighbors'"
   ]
  },
  {
   "cell_type": "code",
   "execution_count": null,
   "metadata": {},
   "outputs": [
    {
     "name": "stdout",
     "output_type": "stream",
     "text": "all              9442/399859 (sp/recs)\n"
    },
    {
     "name": "stdout",
     "output_type": "stream",
     "text": "countries         1148/59713 (sp/recs)\nspecies               4/2167 (sp/recs)\n(downloaded)          4/2167 (sp/recs)\nrecs_at_least         4/2167 (sp/recs)\nnum_species           4/2167 (sp/recs)\nnum_recs              4/2167 (sp/recs)\nrecs ≥ 2              4/2167 (sp/recs)\n"
    },
    {
     "data": {
      "text/plain": "'sp[4], recs[2167]'"
     },
     "metadata": {},
     "output_type": "display_data",
     "transient": {}
    },
    {
     "data": {
      "text/html": "<table border=\"1\" class=\"dataframe\">\n  <thead>\n    <tr style=\"text-align: right;\">\n      <th></th>\n      <th></th>\n      <th></th>\n      <th></th>\n      <th></th>\n      <th></th>\n      <th></th>\n      <th></th>\n      <th>min</th>\n      <th>25%</th>\n      <th>50%</th>\n      <th>75%</th>\n      <th>max</th>\n    </tr>\n    <tr>\n      <th></th>\n      <th>dtype</th>\n      <th>sizeof</th>\n      <th>len</th>\n      <th>count</th>\n      <th>nunique</th>\n      <th>mean</th>\n      <th>std</th>\n      <th></th>\n      <th></th>\n      <th></th>\n      <th></th>\n      <th></th>\n    </tr>\n  </thead>\n  <tbody>\n    <tr>\n      <th>downloaded</th>\n      <th>bool</th>\n      <th>2167</th>\n      <th>2167</th>\n      <th>2167</th>\n      <th>1</th>\n      <th>NaN</th>\n      <th>NaN</th>\n      <td><div class=\"not-number\">True</div></td>\n      <td><div class=\"not-number\">True</div></td>\n      <td><div class=\"not-number\">True</div></td>\n      <td><div class=\"not-number\">True</div></td>\n      <td><div class=\"not-number\">True</div></td>\n    </tr>\n    <tr>\n      <th>species</th>\n      <th>category</th>\n      <th>2571</th>\n      <th>2167</th>\n      <th>2167</th>\n      <th>4</th>\n      <th>NaN</th>\n      <th>NaN</th>\n      <td><div class=\"not-number\">HOWR</div></td>\n      <td><div class=\"not-number\">BEWR</div></td>\n      <td><div class=\"not-number\">SOSP</div></td>\n      <td><div class=\"not-number\">SOSP</div></td>\n      <td><div class=\"not-number\">SPTO</div></td>\n    </tr>\n    <tr>\n      <th>id</th>\n      <th>int64</th>\n      <th>17336</th>\n      <th>2167</th>\n      <th>2167</th>\n      <th>2167</th>\n      <th>210208.898</th>\n      <th>107212.600</th>\n      <td>1211</td>\n      <td>127022</td>\n      <td>180587</td>\n      <td>307230</td>\n      <td>417352</td>\n    </tr>\n    <tr>\n      <th>sci_name</th>\n      <th>category</th>\n      <th>2624</th>\n      <th>2167</th>\n      <th>2167</th>\n      <th>4</th>\n      <th>NaN</th>\n      <th>NaN</th>\n      <td><div class=\"not-number\">Troglodytes aedon</div></td>\n      <td><div class=\"not-number\">Thryomanes bewickii</div></td>\n      <td><div class=\"not-number\">Melospiza melodia</div></td>\n      <td><div class=\"not-number\">Melospiza melodia</div></td>\n      <td><div class=\"not-number\">Pipilo maculatus</div></td>\n    </tr>\n    <tr>\n      <th>com_name</th>\n      <th>category</th>\n      <th>2604</th>\n      <th>2167</th>\n      <th>2167</th>\n      <th>4</th>\n      <th>NaN</th>\n      <th>NaN</th>\n      <td><div class=\"not-number\">House Wren</div></td>\n      <td><div class=\"not-number\">Bewick's Wren</div></td>\n      <td><div class=\"not-number\">Song Sparrow</div></td>\n      <td><div class=\"not-number\">Song Sparrow</div></td>\n      <td><div class=\"not-number\">Spotted Towhee</div></td>\n    </tr>\n    <tr>\n      <th>subspecies</th>\n      <th>object</th>\n      <th>129764</th>\n      <th>2167</th>\n      <th>2167</th>\n      <th>62</th>\n      <th>NaN</th>\n      <th>NaN</th>\n      <td><div class=\"not-number\"></div></td>\n      <td><div class=\"not-number\"></div></td>\n      <td><div class=\"not-number\"></div></td>\n      <td><div class=\"not-number\">eremophilus</div></td>\n      <td><div class=\"not-number\">umbraticola</div></td>\n    </tr>\n    <tr>\n      <th>recordist</th>\n      <th>object</th>\n      <th>154966</th>\n      <th>2167</th>\n      <th>2167</th>\n      <th>216</th>\n      <th>NaN</th>\n      <th>NaN</th>\n      <td><div class=\"not-number\">ASJ26</div></td>\n      <td><div class=\"not-number\">Ian Cruickshank</div></td>\n      <td><div class=\"not-number\">Manuel Grosselet</div></td>\n      <td><div class=\"not-number\">Richard E Webster</div></td>\n      <td><div class=\"not-number\">Étienne Leroy</div></td>\n    </tr>\n    <tr>\n      <th>country</th>\n      <th>object</th>\n      <th>146517</th>\n      <th>2167</th>\n      <th>2167</th>\n      <th>3</th>\n      <th>NaN</th>\n      <th>NaN</th>\n      <td><div class=\"not-number\">Canada</div></td>\n      <td><div class=\"not-number\">Mexico</div></td>\n      <td><div class=\"not-number\">United States</div></td>\n      <td><div class=\"not-number\">United States</div></td>\n      <td><div class=\"not-number\">United States</div></td>\n    </tr>\n    <tr>\n      <th>locality</th>\n      <th>object</th>\n      <th>220469</th>\n      <th>2167</th>\n      <th>2167</th>\n      <th>881</th>\n      <th>NaN</th>\n      <th>NaN</th>\n      <td><div class=\"not-number\"> Smithfield, Isle of Wight County, Virginia</div></td>\n      <td><div class=\"not-number\">General Bravo, Nuevo León</div></td>\n      <td><div class=\"not-number\">Mt. Ord, Tonto National Forest, Maricopa County, Arizona</div></td>\n      <td><div class=\"not-number\">San Bernardino National Wildlife Refuge, Cochise County, Arizona</div></td>\n      <td><div class=\"not-number\">west of Thorp, WA</div></td>\n    </tr>\n    <tr>\n      <th>lat</th>\n      <th>float64</th>\n      <th>17336</th>\n      <th>2167</th>\n      <th>2146</th>\n      <th>926</th>\n      <th>37.525</th>\n      <th>8.832</th>\n      <td>15.8</td>\n      <td>32.1</td>\n      <td>36.5</td>\n      <td>45</td>\n      <td>59.6</td>\n    </tr>\n    <tr>\n      <th>lng</th>\n      <th>float64</th>\n      <th>17336</th>\n      <th>2167</th>\n      <th>2146</th>\n      <th>929</th>\n      <th>-107.601</th>\n      <th>15.358</th>\n      <td>-152</td>\n      <td>-120</td>\n      <td>-111</td>\n      <td>-99.2</td>\n      <td>-63.6</td>\n    </tr>\n    <tr>\n      <th>type</th>\n      <th>object</th>\n      <th>136955</th>\n      <th>2167</th>\n      <th>2167</th>\n      <th>154</th>\n      <th>NaN</th>\n      <th>NaN</th>\n      <td><div class=\"not-number\">\"growl\", alarm call, male</div></td>\n      <td><div class=\"not-number\">call</div></td>\n      <td><div class=\"not-number\">song</div></td>\n      <td><div class=\"not-number\">song</div></td>\n      <td><div class=\"not-number\">uncommon call type with more regular calls at end</div></td>\n    </tr>\n    <tr>\n      <th>quality</th>\n      <th>category</th>\n      <th>2722</th>\n      <th>2167</th>\n      <th>2167</th>\n      <th>6</th>\n      <th>NaN</th>\n      <th>NaN</th>\n      <td><div class=\"not-number\">A</div></td>\n      <td><div class=\"not-number\">A</div></td>\n      <td><div class=\"not-number\">B</div></td>\n      <td><div class=\"not-number\">B</div></td>\n      <td><div class=\"not-number\">no score</div></td>\n    </tr>\n    <tr>\n      <th>date</th>\n      <th>datetime64[ns]</th>\n      <th>17336</th>\n      <th>2167</th>\n      <th>2167</th>\n      <th>1043</th>\n      <th>NaN</th>\n      <th>NaN</th>\n      <td><div class=\"not-number\">1988-08-02 00:00:00</div></td>\n      <td><div class=\"not-number\">2011-05-11 00:00:00</div></td>\n      <td><div class=\"not-number\">2013-04-26 00:00:00</div></td>\n      <td><div class=\"not-number\">2015-06-03 00:00:00</div></td>\n      <td><div class=\"not-number\">2018-05-28 00:00:00</div></td>\n    </tr>\n    <tr>\n      <th>time</th>\n      <th>object</th>\n      <th>133594</th>\n      <th>2167</th>\n      <th>2167</th>\n      <th>626</th>\n      <th>NaN</th>\n      <th>NaN</th>\n      <td><div class=\"not-number\"> 07:5</div></td>\n      <td><div class=\"not-number\">08:00</div></td>\n      <td><div class=\"not-number\">09:34</div></td>\n      <td><div class=\"not-number\">14:00</div></td>\n      <td><div class=\"not-number\">am</div></td>\n    </tr>\n    <tr>\n      <th>license_type</th>\n      <th>category</th>\n      <th>2439</th>\n      <th>2167</th>\n      <th>2167</th>\n      <th>3</th>\n      <th>NaN</th>\n      <th>NaN</th>\n      <td><div class=\"not-number\">by-nc-nd</div></td>\n      <td><div class=\"not-number\">by-nc-nd</div></td>\n      <td><div class=\"not-number\">by-nc-sa</div></td>\n      <td><div class=\"not-number\">by-nc-sa</div></td>\n      <td><div class=\"not-number\">by-sa</div></td>\n    </tr>\n    <tr>\n      <th>license_detail</th>\n      <th>category</th>\n      <th>2427</th>\n      <th>2167</th>\n      <th>2167</th>\n      <th>3</th>\n      <th>NaN</th>\n      <th>NaN</th>\n      <td><div class=\"not-number\">2.5</div></td>\n      <td><div class=\"not-number\">3.0</div></td>\n      <td><div class=\"not-number\">4.0</div></td>\n      <td><div class=\"not-number\">4.0</div></td>\n      <td><div class=\"not-number\">4.0</div></td>\n    </tr>\n    <tr>\n      <th>license</th>\n      <th>object</th>\n      <th>218765</th>\n      <th>2167</th>\n      <th>2167</th>\n      <th>7</th>\n      <th>NaN</th>\n      <th>NaN</th>\n      <td><div class=\"not-number\">//creativecommons.org/licenses/by-nc-nd/2.5/</div></td>\n      <td><div class=\"not-number\">//creativecommons.org/licenses/by-nc-nd/3.0/</div></td>\n      <td><div class=\"not-number\">//creativecommons.org/licenses/by-nc-sa/3.0/</div></td>\n      <td><div class=\"not-number\">//creativecommons.org/licenses/by-nc-sa/4.0/</div></td>\n      <td><div class=\"not-number\">//creativecommons.org/licenses/by-sa/4.0/</div></td>\n    </tr>\n    <tr>\n      <th>url</th>\n      <th>object</th>\n      <th>194741</th>\n      <th>2167</th>\n      <th>2167</th>\n      <th>2167</th>\n      <th>NaN</th>\n      <th>NaN</th>\n      <td><div class=\"not-number\">https://www.xeno-canto.org/100251</div></td>\n      <td><div class=\"not-number\">https://www.xeno-canto.org/159274</div></td>\n      <td><div class=\"not-number\">https://www.xeno-canto.org/217860</div></td>\n      <td><div class=\"not-number\">https://www.xeno-canto.org/347368</div></td>\n      <td><div class=\"not-number\">https://www.xeno-canto.org/99803</div></td>\n    </tr>\n    <tr>\n      <th>download</th>\n      <th>object</th>\n      <th>201242</th>\n      <th>2167</th>\n      <th>2167</th>\n      <th>2167</th>\n      <th>NaN</th>\n      <th>NaN</th>\n      <td><div class=\"not-number\">//www.xeno-canto.org/100251/download</div></td>\n      <td><div class=\"not-number\">//www.xeno-canto.org/159274/download</div></td>\n      <td><div class=\"not-number\">//www.xeno-canto.org/217860/download</div></td>\n      <td><div class=\"not-number\">//www.xeno-canto.org/347368/download</div></td>\n      <td><div class=\"not-number\">//www.xeno-canto.org/99803/download</div></td>\n    </tr>\n  </tbody>\n</table>",
      "text/plain": "                                                                                                                         min                                           25%                                                       50%                                                               75%                                                max\n               dtype          sizeof len  count nunique mean        std                                                                                                                                                                                                                                                                                  \ndownloaded     bool           2167   2167 2167  1       NaN         NaN                                                 True                                          True                                                      True                                                              True                                               True\nspecies        category       2571   2167 2167  4       NaN         NaN                                                 HOWR                                          BEWR                                                      SOSP                                                              SOSP                                               SPTO\nid             int64          17336  2167 2167  2167     210208.898 107212.600                                          1211                                        127022                                                    180587                                                            307230                                             417352\nsci_name       category       2624   2167 2167  4       NaN         NaN                                    Troglodytes aedon                           Thryomanes bewickii                                         Melospiza melodia                                                 Melospiza melodia                                   Pipilo maculatus\ncom_name       category       2604   2167 2167  4       NaN         NaN                                           House Wren                                 Bewick's Wren                                              Song Sparrow                                                      Song Sparrow                                     Spotted Towhee\nsubspecies     object         129764 2167 2167  62      NaN         NaN                                                                                                                                                                                                                    eremophilus                                        umbraticola\nrecordist      object         154966 2167 2167  216     NaN         NaN                                                ASJ26                               Ian Cruickshank                                          Manuel Grosselet                                                 Richard E Webster                                      Étienne Leroy\ncountry        object         146517 2167 2167  3       NaN         NaN                                               Canada                                        Mexico                                             United States                                                     United States                                      United States\nlocality       object         220469 2167 2167  881     NaN         NaN           Smithfield, Isle of Wight County, Virginia                     General Bravo, Nuevo León  Mt. Ord, Tonto National Forest, Maricopa County, Arizona  San Bernardino National Wildlife Refuge, Cochise County, Arizona                                  west of Thorp, WA\nlat            float64        17336  2167 2146  926      37.525     8.832                                               15.8                                          32.1                                                      36.5                                                                45                                               59.6\nlng            float64        17336  2167 2146  929     -107.601    15.358                                              -152                                          -120                                                      -111                                                             -99.2                                              -63.6\ntype           object         136955 2167 2167  154     NaN         NaN                            \"growl\", alarm call, male                                          call                                                      song                                                              song  uncommon call type with more regular calls at end\nquality        category       2722   2167 2167  6       NaN         NaN                                                    A                                             A                                                         B                                                                 B                                           no score\ndate           datetime64[ns] 17336  2167 2167  1043    NaN         NaN                                  1988-08-02 00:00:00                           2011-05-11 00:00:00                                       2013-04-26 00:00:00                                               2015-06-03 00:00:00                                2018-05-28 00:00:00\ntime           object         133594 2167 2167  626     NaN         NaN                                                 07:5                                         08:00                                                     09:34                                                             14:00                                                 am\nlicense_type   category       2439   2167 2167  3       NaN         NaN                                             by-nc-nd                                      by-nc-nd                                                  by-nc-sa                                                          by-nc-sa                                              by-sa\nlicense_detail category       2427   2167 2167  3       NaN         NaN                                                  2.5                                           3.0                                                       4.0                                                               4.0                                                4.0\nlicense        object         218765 2167 2167  7       NaN         NaN         //creativecommons.org/licenses/by-nc-nd/2.5/  //creativecommons.org/licenses/by-nc-nd/3.0/              //creativecommons.org/licenses/by-nc-sa/3.0/                      //creativecommons.org/licenses/by-nc-sa/4.0/          //creativecommons.org/licenses/by-sa/4.0/\nurl            object         194741 2167 2167  2167    NaN         NaN                    https://www.xeno-canto.org/100251             https://www.xeno-canto.org/159274                         https://www.xeno-canto.org/217860                                 https://www.xeno-canto.org/347368                   https://www.xeno-canto.org/99803\ndownload       object         201242 2167 2167  2167    NaN         NaN                 //www.xeno-canto.org/100251/download          //www.xeno-canto.org/159274/download                      //www.xeno-canto.org/217860/download                              //www.xeno-canto.org/347368/download                //www.xeno-canto.org/99803/download"
     },
     "metadata": {},
     "output_type": "display_data",
     "transient": {}
    },
    {
     "data": {
      "text/html": "<table border=\"1\" class=\"dataframe\">\n  <thead>\n    <tr style=\"text-align: right;\">\n      <th></th>\n      <th></th>\n      <th>downloaded</th>\n      <th>species</th>\n      <th>id</th>\n      <th>sci_name</th>\n      <th>com_name</th>\n      <th>subspecies</th>\n      <th>recordist</th>\n      <th>country</th>\n      <th>locality</th>\n      <th>lat</th>\n      <th>lng</th>\n      <th>type</th>\n      <th>quality</th>\n      <th>date</th>\n      <th>time</th>\n      <th>license_type</th>\n      <th>license_detail</th>\n      <th>license</th>\n      <th>url</th>\n      <th>download</th>\n    </tr>\n    <tr>\n      <th>species</th>\n      <th></th>\n      <th></th>\n      <th></th>\n      <th></th>\n      <th></th>\n      <th></th>\n      <th></th>\n      <th></th>\n      <th></th>\n      <th></th>\n      <th></th>\n      <th></th>\n      <th></th>\n      <th></th>\n      <th></th>\n      <th></th>\n      <th></th>\n      <th></th>\n      <th></th>\n      <th></th>\n      <th></th>\n    </tr>\n  </thead>\n  <tbody>\n    <tr>\n      <th rowspan=\"2\" valign=\"top\">HOWR</th>\n      <th>35927</th>\n      <td><div class=\"not-number\">True</div></td>\n      <td><div class=\"not-number\">HOWR</div></td>\n      <td>381077</td>\n      <td><div class=\"not-number\">Troglodytes aedon</div></td>\n      <td><div class=\"not-number\">House Wren</div></td>\n      <td><div class=\"not-number\"></div></td>\n      <td><div class=\"not-number\">Sue Riffe</div></td>\n      <td><div class=\"not-number\">United States</div></td>\n      <td><div class=\"not-number\">Tamarack Ranch SWA, E Sector, Logan County, Colorado</div></td>\n      <td>40.8</td>\n      <td>-103.0</td>\n      <td><div class=\"not-number\">song</div></td>\n      <td><div class=\"not-number\">A</div></td>\n      <td><div class=\"not-number\">2017-05-24 00:00:00</div></td>\n      <td><div class=\"not-number\">08:00</div></td>\n      <td><div class=\"not-number\">by-nc-sa</div></td>\n      <td><div class=\"not-number\">4.0</div></td>\n      <td><div class=\"not-number\">//creativecommons.org/licenses/by-nc-sa/4.0/</div></td>\n      <td><div class=\"not-number\">https://www.xeno-canto.org/381077</div></td>\n      <td><div class=\"not-number\">//www.xeno-canto.org/381077/download</div></td>\n    </tr>\n    <tr>\n      <th>150149</th>\n      <td><div class=\"not-number\">True</div></td>\n      <td><div class=\"not-number\">HOWR</div></td>\n      <td>264127</td>\n      <td><div class=\"not-number\">Troglodytes aedon</div></td>\n      <td><div class=\"not-number\">House Wren</div></td>\n      <td><div class=\"not-number\">peninsularis</div></td>\n      <td><div class=\"not-number\">Manuel Grosselet</div></td>\n      <td><div class=\"not-number\">Mexico</div></td>\n      <td><div class=\"not-number\">Minatitlan, refineria de SAnta Alejandrina, Veracruz</div></td>\n      <td>18.0</td>\n      <td>-94.6</td>\n      <td><div class=\"not-number\">alarm call</div></td>\n      <td><div class=\"not-number\">B</div></td>\n      <td><div class=\"not-number\">2015-07-27 00:00:00</div></td>\n      <td><div class=\"not-number\">08:00</div></td>\n      <td><div class=\"not-number\">by-nc-sa</div></td>\n      <td><div class=\"not-number\">4.0</div></td>\n      <td><div class=\"not-number\">//creativecommons.org/licenses/by-nc-sa/4.0/</div></td>\n      <td><div class=\"not-number\">https://www.xeno-canto.org/264127</div></td>\n      <td><div class=\"not-number\">//www.xeno-canto.org/264127/download</div></td>\n    </tr>\n    <tr>\n      <th rowspan=\"5\" valign=\"top\">BEWR</th>\n      <th>250418</th>\n      <td><div class=\"not-number\">True</div></td>\n      <td><div class=\"not-number\">BEWR</div></td>\n      <td>160158</td>\n      <td><div class=\"not-number\">Thryomanes bewickii</div></td>\n      <td><div class=\"not-number\">Bewick's Wren</div></td>\n      <td><div class=\"not-number\"></div></td>\n      <td><div class=\"not-number\">Ian Cruickshank</div></td>\n      <td><div class=\"not-number\">Canada</div></td>\n      <td><div class=\"not-number\">Swan Lake, Victoria, Vancouver Island, BC</div></td>\n      <td>48.5</td>\n      <td>-123.0</td>\n      <td><div class=\"not-number\">song</div></td>\n      <td><div class=\"not-number\">B</div></td>\n      <td><div class=\"not-number\">2013-04-14 00:00:00</div></td>\n      <td><div class=\"not-number\">10:20</div></td>\n      <td><div class=\"not-number\">by-nc-nd</div></td>\n      <td><div class=\"not-number\">3.0</div></td>\n      <td><div class=\"not-number\">//creativecommons.org/licenses/by-nc-nd/3.0/</div></td>\n      <td><div class=\"not-number\">https://www.xeno-canto.org/160158</div></td>\n      <td><div class=\"not-number\">//www.xeno-canto.org/160158/download</div></td>\n    </tr>\n    <tr>\n      <th>251638</th>\n      <td><div class=\"not-number\">True</div></td>\n      <td><div class=\"not-number\">BEWR</div></td>\n      <td>158936</td>\n      <td><div class=\"not-number\">Thryomanes bewickii</div></td>\n      <td><div class=\"not-number\">Bewick's Wren</div></td>\n      <td><div class=\"not-number\"></div></td>\n      <td><div class=\"not-number\">Ian Cruickshank</div></td>\n      <td><div class=\"not-number\">Canada</div></td>\n      <td><div class=\"not-number\">Island View Beach Regional Park, Central Saanich, Vancouver Island, BC</div></td>\n      <td>48.6</td>\n      <td>-123.0</td>\n      <td><div class=\"not-number\">song</div></td>\n      <td><div class=\"not-number\">A</div></td>\n      <td><div class=\"not-number\">2012-07-07 00:00:00</div></td>\n      <td><div class=\"not-number\">07:41</div></td>\n      <td><div class=\"not-number\">by-nc-nd</div></td>\n      <td><div class=\"not-number\">3.0</div></td>\n      <td><div class=\"not-number\">//creativecommons.org/licenses/by-nc-nd/3.0/</div></td>\n      <td><div class=\"not-number\">https://www.xeno-canto.org/158936</div></td>\n      <td><div class=\"not-number\">//www.xeno-canto.org/158936/download</div></td>\n    </tr>\n    <tr>\n      <th>199451</th>\n      <td><div class=\"not-number\">True</div></td>\n      <td><div class=\"not-number\">BEWR</div></td>\n      <td>213570</td>\n      <td><div class=\"not-number\">Thryomanes bewickii</div></td>\n      <td><div class=\"not-number\">Bewick's Wren</div></td>\n      <td><div class=\"not-number\"></div></td>\n      <td><div class=\"not-number\">Oscar Ballesteors</div></td>\n      <td><div class=\"not-number\">United States</div></td>\n      <td><div class=\"not-number\">Forth Hood, Texas</div></td>\n      <td>31.2</td>\n      <td>-97.6</td>\n      <td><div class=\"not-number\">song</div></td>\n      <td><div class=\"not-number\">B</div></td>\n      <td><div class=\"not-number\">2010-05-21 00:00:00</div></td>\n      <td><div class=\"not-number\">10:30</div></td>\n      <td><div class=\"not-number\">by-nc-sa</div></td>\n      <td><div class=\"not-number\">4.0</div></td>\n      <td><div class=\"not-number\">//creativecommons.org/licenses/by-nc-sa/4.0/</div></td>\n      <td><div class=\"not-number\">https://www.xeno-canto.org/213570</div></td>\n      <td><div class=\"not-number\">//www.xeno-canto.org/213570/download</div></td>\n    </tr>\n    <tr>\n      <th>268689</th>\n      <td><div class=\"not-number\">True</div></td>\n      <td><div class=\"not-number\">BEWR</div></td>\n      <td>141390</td>\n      <td><div class=\"not-number\">Thryomanes bewickii</div></td>\n      <td><div class=\"not-number\">Bewick's Wren</div></td>\n      <td><div class=\"not-number\"></div></td>\n      <td><div class=\"not-number\">Mike Nelson</div></td>\n      <td><div class=\"not-number\">United States</div></td>\n      <td><div class=\"not-number\">Friedrich Park, San Antonio, Bexar, Texas</div></td>\n      <td>29.6</td>\n      <td>-98.6</td>\n      <td><div class=\"not-number\">call, song</div></td>\n      <td><div class=\"not-number\">B</div></td>\n      <td><div class=\"not-number\">2013-06-27 00:00:00</div></td>\n      <td><div class=\"not-number\">10:30</div></td>\n      <td><div class=\"not-number\">by-nc-sa</div></td>\n      <td><div class=\"not-number\">3.0</div></td>\n      <td><div class=\"not-number\">//creativecommons.org/licenses/by-nc-sa/3.0/</div></td>\n      <td><div class=\"not-number\">https://www.xeno-canto.org/141390</div></td>\n      <td><div class=\"not-number\">//www.xeno-canto.org/141390/download</div></td>\n    </tr>\n    <tr>\n      <th>383686</th>\n      <td><div class=\"not-number\">True</div></td>\n      <td><div class=\"not-number\">BEWR</div></td>\n      <td>18046</td>\n      <td><div class=\"not-number\">Thryomanes bewickii</div></td>\n      <td><div class=\"not-number\">Bewick's Wren</div></td>\n      <td><div class=\"not-number\"></div></td>\n      <td><div class=\"not-number\">Andrew Spencer</div></td>\n      <td><div class=\"not-number\">United States</div></td>\n      <td><div class=\"not-number\">Catalina State Park, Pima Co., Arizona</div></td>\n      <td>32.4</td>\n      <td>-111.0</td>\n      <td><div class=\"not-number\">call</div></td>\n      <td><div class=\"not-number\">A</div></td>\n      <td><div class=\"not-number\">2008-02-23 00:00:00</div></td>\n      <td><div class=\"not-number\">06:50</div></td>\n      <td><div class=\"not-number\">by-nc-nd</div></td>\n      <td><div class=\"not-number\">2.5</div></td>\n      <td><div class=\"not-number\">//creativecommons.org/licenses/by-nc-nd/2.5/</div></td>\n      <td><div class=\"not-number\">https://www.xeno-canto.org/18046</div></td>\n      <td><div class=\"not-number\">//www.xeno-canto.org/18046/download</div></td>\n    </tr>\n    <tr>\n      <th rowspan=\"2\" valign=\"top\">SOSP</th>\n      <th>187812</th>\n      <td><div class=\"not-number\">True</div></td>\n      <td><div class=\"not-number\">SOSP</div></td>\n      <td>225619</td>\n      <td><div class=\"not-number\">Melospiza melodia</div></td>\n      <td><div class=\"not-number\">Song Sparrow</div></td>\n      <td><div class=\"not-number\">fallax</div></td>\n      <td><div class=\"not-number\">Peter Boesman</div></td>\n      <td><div class=\"not-number\">United States</div></td>\n      <td><div class=\"not-number\">Whitewater Draw NWR, AZ</div></td>\n      <td>31.6</td>\n      <td>-110.0</td>\n      <td><div class=\"not-number\">song</div></td>\n      <td><div class=\"not-number\">A</div></td>\n      <td><div class=\"not-number\">2007-02-18 00:00:00</div></td>\n      <td><div class=\"not-number\">07:15</div></td>\n      <td><div class=\"not-number\">by-nc-nd</div></td>\n      <td><div class=\"not-number\">4.0</div></td>\n      <td><div class=\"not-number\">//creativecommons.org/licenses/by-nc-nd/4.0/</div></td>\n      <td><div class=\"not-number\">https://www.xeno-canto.org/225619</div></td>\n      <td><div class=\"not-number\">//www.xeno-canto.org/225619/download</div></td>\n    </tr>\n    <tr>\n      <th>52294</th>\n      <td><div class=\"not-number\">True</div></td>\n      <td><div class=\"not-number\">SOSP</div></td>\n      <td>364415</td>\n      <td><div class=\"not-number\">Melospiza melodia</div></td>\n      <td><div class=\"not-number\">Song Sparrow</div></td>\n      <td><div class=\"not-number\"></div></td>\n      <td><div class=\"not-number\">Pat Lucas</div></td>\n      <td><div class=\"not-number\">Canada</div></td>\n      <td><div class=\"not-number\">Hwy 774 near the Beaver Mines Lake turnoff, Alberta</div></td>\n      <td>49.4</td>\n      <td>-114.0</td>\n      <td><div class=\"not-number\">male, song</div></td>\n      <td><div class=\"not-number\">B</div></td>\n      <td><div class=\"not-number\">2017-04-13 00:00:00</div></td>\n      <td><div class=\"not-number\">14:38</div></td>\n      <td><div class=\"not-number\">by-nc-sa</div></td>\n      <td><div class=\"not-number\">4.0</div></td>\n      <td><div class=\"not-number\">//creativecommons.org/licenses/by-nc-sa/4.0/</div></td>\n      <td><div class=\"not-number\">https://www.xeno-canto.org/364415</div></td>\n      <td><div class=\"not-number\">//www.xeno-canto.org/364415/download</div></td>\n    </tr>\n    <tr>\n      <th>SPTO</th>\n      <th>296443</th>\n      <td><div class=\"not-number\">True</div></td>\n      <td><div class=\"not-number\">SPTO</div></td>\n      <td>112149</td>\n      <td><div class=\"not-number\">Pipilo maculatus</div></td>\n      <td><div class=\"not-number\">Spotted Towhee</div></td>\n      <td><div class=\"not-number\">montanus</div></td>\n      <td><div class=\"not-number\">Richard E Webster</div></td>\n      <td><div class=\"not-number\">United States</div></td>\n      <td><div class=\"not-number\">Onion Saddle, Chiricahua Mountains, Cochise County, Arizona</div></td>\n      <td>31.9</td>\n      <td>-109.0</td>\n      <td><div class=\"not-number\">song</div></td>\n      <td><div class=\"not-number\">B</div></td>\n      <td><div class=\"not-number\">2009-05-19 00:00:00</div></td>\n      <td><div class=\"not-number\">06:38</div></td>\n      <td><div class=\"not-number\">by-nc-nd</div></td>\n      <td><div class=\"not-number\">2.5</div></td>\n      <td><div class=\"not-number\">//creativecommons.org/licenses/by-nc-nd/2.5/</div></td>\n      <td><div class=\"not-number\">https://www.xeno-canto.org/112149</div></td>\n      <td><div class=\"not-number\">//www.xeno-canto.org/112149/download</div></td>\n    </tr>\n  </tbody>\n</table>",
      "text/plain": "                downloaded species      id             sci_name        com_name    subspecies          recordist        country                                                                locality     lat      lng        type quality       date   time license_type license_detail                                       license                                url                              download\nspecies                                                                                                                                                                                                                                                                                                                                                                                                          \nHOWR    35927         True    HOWR  381077    Troglodytes aedon      House Wren                        Sue Riffe  United States                    Tamarack Ranch SWA, E Sector, Logan County, Colorado  40.841 -102.774        song       A 2017-05-24  08:00     by-nc-sa            4.0  //creativecommons.org/licenses/by-nc-sa/4.0/  https://www.xeno-canto.org/381077  //www.xeno-canto.org/381077/download\n        150149        True    HOWR  264127    Troglodytes aedon      House Wren  peninsularis   Manuel Grosselet         Mexico                    Minatitlan, refineria de SAnta Alejandrina, Veracruz  18.002  -94.565  alarm call       B 2015-07-27  08:00     by-nc-sa            4.0  //creativecommons.org/licenses/by-nc-sa/4.0/  https://www.xeno-canto.org/264127  //www.xeno-canto.org/264127/download\nBEWR    250418        True    BEWR  160158  Thryomanes bewickii   Bewick's Wren                  Ian Cruickshank         Canada                               Swan Lake, Victoria, Vancouver Island, BC  48.464 -123.373        song       B 2013-04-14  10:20     by-nc-nd            3.0  //creativecommons.org/licenses/by-nc-nd/3.0/  https://www.xeno-canto.org/160158  //www.xeno-canto.org/160158/download\n        251638        True    BEWR  158936  Thryomanes bewickii   Bewick's Wren                  Ian Cruickshank         Canada  Island View Beach Regional Park, Central Saanich, Vancouver Island, BC  48.577 -123.372        song       A 2012-07-07  07:41     by-nc-nd            3.0  //creativecommons.org/licenses/by-nc-nd/3.0/  https://www.xeno-canto.org/158936  //www.xeno-canto.org/158936/download\n        199451        True    BEWR  213570  Thryomanes bewickii   Bewick's Wren                Oscar Ballesteors  United States                                                       Forth Hood, Texas  31.222  -97.598        song       B 2010-05-21  10:30     by-nc-sa            4.0  //creativecommons.org/licenses/by-nc-sa/4.0/  https://www.xeno-canto.org/213570  //www.xeno-canto.org/213570/download\n        268689        True    BEWR  141390  Thryomanes bewickii   Bewick's Wren                      Mike Nelson  United States                               Friedrich Park, San Antonio, Bexar, Texas  29.637  -98.629  call, song       B 2013-06-27  10:30     by-nc-sa            3.0  //creativecommons.org/licenses/by-nc-sa/3.0/  https://www.xeno-canto.org/141390  //www.xeno-canto.org/141390/download\n        383686        True    BEWR   18046  Thryomanes bewickii   Bewick's Wren                   Andrew Spencer  United States                                  Catalina State Park, Pima Co., Arizona  32.436 -110.905        call       A 2008-02-23  06:50     by-nc-nd            2.5  //creativecommons.org/licenses/by-nc-nd/2.5/   https://www.xeno-canto.org/18046   //www.xeno-canto.org/18046/download\nSOSP    187812        True    SOSP  225619    Melospiza melodia    Song Sparrow        fallax      Peter Boesman  United States                                                 Whitewater Draw NWR, AZ  31.567 -109.722        song       A 2007-02-18  07:15     by-nc-nd            4.0  //creativecommons.org/licenses/by-nc-nd/4.0/  https://www.xeno-canto.org/225619  //www.xeno-canto.org/225619/download\n        52294         True    SOSP  364415    Melospiza melodia    Song Sparrow                        Pat Lucas         Canada                     Hwy 774 near the Beaver Mines Lake turnoff, Alberta  49.396 -114.335  male, song       B 2017-04-13  14:38     by-nc-sa            4.0  //creativecommons.org/licenses/by-nc-sa/4.0/  https://www.xeno-canto.org/364415  //www.xeno-canto.org/364415/download\nSPTO    296443        True    SPTO  112149     Pipilo maculatus  Spotted Towhee      montanus  Richard E Webster  United States             Onion Saddle, Chiricahua Mountains, Cochise County, Arizona  31.933 -109.264        song       B 2009-05-19  06:38     by-nc-nd            2.5  //creativecommons.org/licenses/by-nc-nd/2.5/  https://www.xeno-canto.org/112149  //www.xeno-canto.org/112149/download"
     },
     "metadata": {},
     "output_type": "display_data",
     "transient": {}
    }
   ],
   "source": [
    "# Select recs\n",
    "#   1. countries: Filter recs to these countries\n",
    "#   2. species: Filter recs to these species\n",
    "#   3. recs_at_least: Filter species to those with at least this many recs\n",
    "#   4. num_species: Sample this many of the species\n",
    "#   5. num_recs: Sample this many recs per species\n",
    "inf = np.inf\n",
    "# countries_k, com_names_k = 'na', 'us'      # 9.4k/400k -> 1.1k/60k -> 774/53k\n",
    "# countries_k, com_names_k = 'na', 'ca'      # 9.4k/400k -> 1.1k/60k -> 334/35k\n",
    "# countries_k, com_names_k = 'na', 'dan170'  # 9.4k/400k -> 1.1k/60k -> 170/3.4k\n",
    "countries_k, com_names_k = 'na', 'dan4'    # 9.4k/400k -> 1.1k/60k ->   4/2.2k\n",
    "recs_at_least, num_species, num_recs =   0, inf, inf  # US[334/35k ->1.1k/60k -> 774/53k -> 774/53k   -> 743/53k]    # All US\n",
    "# recs_at_least, num_species, num_recs = 100, 100, 100  # CA[334/35k -> 127/25k -> 100/21k -> 100/10k   -> 100/10k]\n",
    "# recs_at_least, num_species, num_recs =  50, 100, 100  # CA[334/35k -> 224/32k -> 100/16k -> 100/ 9.0k -> 100/ 9.0k]\n",
    "# recs_at_least, num_species, num_recs =   0, 100, 100  # CA[334/35k -> 334/35k -> 100/12k -> 100/ 6.8k ->  99/ 6.8k]\n",
    "# recs_at_least, num_species, num_recs =   0, 168, 100  # CA[334/34k -> 334/34k -> 168/18k -> 168/11k   -> 167/11k]    # (old 'all')\n",
    "# recs_at_least, num_species, num_recs =   0, 168,  20  # CA[334/34k -> 334/35k -> 168/18k -> 168/ 3.2k -> 167/ 3.2k]  # (old 'recs')\n",
    "# recs_at_least, num_species, num_recs =  20, 168,  20  # CA[334/35k -> 296/35k -> 168/20k -> 168/ 3.4k -> 168/ 3.4k]  # Familiar set\n",
    "# recs_at_least, num_species, num_recs =  20, 336,  20  # US[774/53k -> 528/51k -> 336/33k -> 336/ 6.7k -> 336/ 6.7k]  # Scale species\n",
    "# recs_at_least, num_species, num_recs =  10, 168,  20  # CA[334/35k ->                                             ]  # Class imbalance\n",
    "# recs_at_least, num_species, num_recs =   0, 168,  20  # CA[334/35k ->                                             ]  # Class imbalance\n",
    "# recs_at_least, num_species, num_recs =   0, inf,  20  # dan170 for app_brainstorm_1\n",
    "# recs_at_least, num_species, num_recs =  20, 50,  100  # Faster dev\n",
    "# recs_at_least, num_species, num_recs =  20, 50,   50  # Faster dev\n",
    "# recs_at_least, num_species, num_recs =  20, 50,   20  # Faster dev\n",
    "# recs_at_least, num_species, num_recs =  20, 50,   10  # Faster dev\n",
    "# recs_at_least, num_species, num_recs =  20, 50,    5  # Faster dev\n",
    "get_recs_stats = lambda df: dict(sp=df.species.nunique(), recs=len(df))\n",
    "puts_stats = lambda desc: partial(tap, f=lambda df: print('%-15s %12s (sp/recs)' % (desc, '%(sp)s/%(recs)s' % get_recs_stats(df))))\n",
    "xcs = (xc.metadata\n",
    "    .pipe(puts_stats('all'))\n",
    "    # 1. countries: Filter recs to these countries\n",
    "    [lambda df: df.country.isin(constants.countries[countries_k])]\n",
    "    .pipe(puts_stats('countries'))\n",
    "    # 2. species: Filter recs to these species\n",
    "    [lambda df: df.species.isin(com_names_to_species(*com_names[com_names_k]))]\n",
    "    .pipe(puts_stats('species'))\n",
    "    # Omit not-downloaded recs (should be few within the selected countries)\n",
    "    [lambda df: df.downloaded]\n",
    "    .pipe(puts_stats('(downloaded)'))\n",
    "    # Remove empty cats for perf\n",
    "    .pipe(df_remove_unused_categories)\n",
    "    # 3. recs_at_least: Filter species to those with at least this many recs\n",
    "    [lambda df: df.species.isin(df.species.value_counts()[lambda s: s >= recs_at_least].index)]\n",
    "    .pipe(puts_stats('recs_at_least'))\n",
    "    # 4. num_species: Sample this many of the species\n",
    "    [lambda df: df.species.isin(df.species.drop_duplicates().pipe(lambda s: s.sample(n=min(len(s), num_species), random_state=0)))]\n",
    "    .pipe(puts_stats('num_species'))\n",
    "    # 5. num_recs: Sample this many recs per species\n",
    "    #   - Remove empty cats else .groupby fails on empty groups\n",
    "    .pipe(df_remove_unused_categories)\n",
    "    .groupby('species').apply(lambda g: g.sample(n=min(len(g), num_recs), random_state=0))\n",
    "    .pipe(puts_stats('num_recs'))\n",
    "    # Drop species with <2 recs, else StratifiedShuffleSplit complains (e.g. 'TUVU')\n",
    "    [lambda df: df.species.isin(df.species.value_counts()[lambda s: s >= 2].index)]\n",
    "    .pipe(puts_stats('recs ≥ 2'))\n",
    "    # Clean up for downstream\n",
    "    .pipe(df_remove_unused_categories)\n",
    ")\n",
    "_recs_stats = get_recs_stats(xcs)\n",
    "recs_stats = ', '.join(['%s[%s]' % (k, v) for k, v in _recs_stats.items()])\n",
    "display(\n",
    "    recs_stats,\n",
    "    df_summary(xcs).T,\n",
    "    xcs.sample(n=10, random_state=0).sort_values('species'),\n",
    ")"
   ]
  },
  {
   "cell_type": "code",
   "execution_count": null,
   "metadata": {},
   "outputs": [
    {
     "data": {
      "text/plain": "'2167/2167'"
     },
     "metadata": {},
     "output_type": "display_data",
     "transient": {}
    }
   ],
   "source": [
    "xcs_paths = [\n",
    "    ('xc', f'{data_dir}/xc/data/{row.species}/{row.id}/audio.mp3')\n",
    "    for row in df_rows(xcs)\n",
    "]\n",
    "joblib.dump(xcs_paths, '/tmp/xcs_paths')  # In case you want to run load.recs in a terminal (it's long and verbose)\n",
    "display(\n",
    "    f\"{len(xcs_paths)}/{len(xcs)}\",\n",
    "    # xcs_paths[:2],\n",
    ")"
   ]
  },
  {
   "cell_type": "code",
   "execution_count": null,
   "metadata": {
    "once": false
   },
   "outputs": [
    {
     "data": {
      "text/html": "<table border=\"1\" class=\"dataframe\">\n  <thead>\n    <tr style=\"text-align: right;\">\n      <th></th>\n      <th></th>\n      <th></th>\n      <th></th>\n      <th></th>\n      <th></th>\n      <th></th>\n      <th></th>\n      <th>min</th>\n      <th>25%</th>\n      <th>50%</th>\n      <th>75%</th>\n      <th>max</th>\n    </tr>\n    <tr>\n      <th></th>\n      <th>dtype</th>\n      <th>sizeof</th>\n      <th>len</th>\n      <th>count</th>\n      <th>nunique</th>\n      <th>mean</th>\n      <th>std</th>\n      <th></th>\n      <th></th>\n      <th></th>\n      <th></th>\n      <th></th>\n    </tr>\n  </thead>\n  <tbody>\n    <tr>\n      <th>index</th>\n      <th>int64</th>\n      <th>17336</th>\n      <th>2167</th>\n      <th>2167</th>\n      <th>2167</th>\n      <th>1.083e+03</th>\n      <th>6.257e+02</th>\n      <td>0</td>\n      <td>541</td>\n      <td>1083</td>\n      <td>1624</td>\n      <td>2166</td>\n    </tr>\n    <tr>\n      <th>dataset</th>\n      <th>object</th>\n      <th>127853</th>\n      <th>2167</th>\n      <th>2167</th>\n      <th>1</th>\n      <th>NaN</th>\n      <th>NaN</th>\n      <td><div class=\"not-number\">xc</div></td>\n      <td><div class=\"not-number\">xc</div></td>\n      <td><div class=\"not-number\">xc</div></td>\n      <td><div class=\"not-number\">xc</div></td>\n      <td><div class=\"not-number\">xc</div></td>\n    </tr>\n    <tr>\n      <th>species</th>\n      <th>category</th>\n      <th>2571</th>\n      <th>2167</th>\n      <th>2167</th>\n      <th>4</th>\n      <th>NaN</th>\n      <th>NaN</th>\n      <td><div class=\"not-number\">HOWR</div></td>\n      <td><div class=\"not-number\">BEWR</div></td>\n      <td><div class=\"not-number\">SOSP</div></td>\n      <td><div class=\"not-number\">SOSP</div></td>\n      <td><div class=\"not-number\">SPTO</div></td>\n    </tr>\n    <tr>\n      <th>species_com_name</th>\n      <th>category</th>\n      <th>2604</th>\n      <th>2167</th>\n      <th>2167</th>\n      <th>4</th>\n      <th>NaN</th>\n      <th>NaN</th>\n      <td><div class=\"not-number\">House Wren</div></td>\n      <td><div class=\"not-number\">Bewick's Wren</div></td>\n      <td><div class=\"not-number\">Song Sparrow</div></td>\n      <td><div class=\"not-number\">Song Sparrow</div></td>\n      <td><div class=\"not-number\">Spotted Towhee</div></td>\n    </tr>\n    <tr>\n      <th>species_query</th>\n      <th>object</th>\n      <th>132187</th>\n      <th>2167</th>\n      <th>2167</th>\n      <th>4</th>\n      <th>NaN</th>\n      <th>NaN</th>\n      <td><div class=\"not-number\">BEWR</div></td>\n      <td><div class=\"not-number\">HOWR</div></td>\n      <td><div class=\"not-number\">SOSP</div></td>\n      <td><div class=\"not-number\">SOSP</div></td>\n      <td><div class=\"not-number\">SPTO</div></td>\n    </tr>\n    <tr>\n      <th>duration_s</th>\n      <th>float64</th>\n      <th>17336</th>\n      <th>2167</th>\n      <th>2167</th>\n      <th>2006</th>\n      <th>5.257e+01</th>\n      <th>6.337e+01</th>\n      <td>1.01</td>\n      <td>18.4</td>\n      <td>36.3</td>\n      <td>64.7</td>\n      <td>1.07e+03</td>\n    </tr>\n    <tr>\n      <th>samples_mb</th>\n      <th>float64</th>\n      <th>17336</th>\n      <th>2167</th>\n      <th>2167</th>\n      <th>2006</th>\n      <th>2.214e+00</th>\n      <th>2.667e+00</th>\n      <td>0.0424</td>\n      <td>0.774</td>\n      <td>1.52</td>\n      <td>2.72</td>\n      <td>44.9</td>\n    </tr>\n    <tr>\n      <th>samples_n</th>\n      <th>int64</th>\n      <th>17336</th>\n      <th>2167</th>\n      <th>2167</th>\n      <th>2006</th>\n      <th>1.161e+06</th>\n      <th>1.398e+06</th>\n      <td>22226</td>\n      <td>405720</td>\n      <td>799488</td>\n      <td>1426176</td>\n      <td>23533524</td>\n    </tr>\n    <tr>\n      <th>basename</th>\n      <th>object</th>\n      <th>134354</th>\n      <th>2167</th>\n      <th>2167</th>\n      <th>1</th>\n      <th>NaN</th>\n      <th>NaN</th>\n      <td><div class=\"not-number\">audio</div></td>\n      <td><div class=\"not-number\">audio</div></td>\n      <td><div class=\"not-number\">audio</div></td>\n      <td><div class=\"not-number\">audio</div></td>\n      <td><div class=\"not-number\">audio</div></td>\n    </tr>\n    <tr>\n      <th>species_longhand</th>\n      <th>category</th>\n      <th>2632</th>\n      <th>2167</th>\n      <th>2167</th>\n      <th>4</th>\n      <th>NaN</th>\n      <th>NaN</th>\n      <td><div class=\"not-number\">House Wren - HOWR</div></td>\n      <td><div class=\"not-number\">Bewick's Wren - BEWR</div></td>\n      <td><div class=\"not-number\">Song Sparrow - SOSP</div></td>\n      <td><div class=\"not-number\">Song Sparrow - SOSP</div></td>\n      <td><div class=\"not-number\">Spotted Towhee - SPTO</div></td>\n    </tr>\n    <tr>\n      <th>id</th>\n      <th>object</th>\n      <th>177405</th>\n      <th>2167</th>\n      <th>2167</th>\n      <th>2167</th>\n      <th>NaN</th>\n      <th>NaN</th>\n      <td><div class=\"not-number\">xc/data/BEWR/104637/audio</div></td>\n      <td><div class=\"not-number\">xc/data/HOWR/1213/audio</div></td>\n      <td><div class=\"not-number\">xc/data/SOSP/133566/audio</div></td>\n      <td><div class=\"not-number\">xc/data/SOSP/79633/audio</div></td>\n      <td><div class=\"not-number\">xc/data/SPTO/99803/audio</div></td>\n    </tr>\n    <tr>\n      <th>path</th>\n      <th>object</th>\n      <th>186073</th>\n      <th>2167</th>\n      <th>2167</th>\n      <th>2167</th>\n      <th>NaN</th>\n      <th>NaN</th>\n      <td><div class=\"not-number\">xc/data/BEWR/104637/audio.mp3</div></td>\n      <td><div class=\"not-number\">xc/data/HOWR/1213/audio.mp3</div></td>\n      <td><div class=\"not-number\">xc/data/SOSP/133566/audio.mp3</div></td>\n      <td><div class=\"not-number\">xc/data/SOSP/79633/audio.mp3</div></td>\n      <td><div class=\"not-number\">xc/data/SPTO/99803/audio.mp3</div></td>\n    </tr>\n  </tbody>\n</table>",
      "text/plain": "                                                                                                   min                          25%                            50%                           75%                           max\n                 dtype    sizeof len  count nunique mean      std                                                                                                                                                             \nindex            int64    17336  2167 2167  2167    1.083e+03 6.257e+02                              0                          541                           1083                          1624                          2166\ndataset          object   127853 2167 2167  1       NaN       NaN                                   xc                           xc                             xc                            xc                            xc\nspecies          category 2571   2167 2167  4       NaN       NaN                                 HOWR                         BEWR                           SOSP                          SOSP                          SPTO\nspecies_com_name category 2604   2167 2167  4       NaN       NaN                           House Wren                Bewick's Wren                   Song Sparrow                  Song Sparrow                Spotted Towhee\nspecies_query    object   132187 2167 2167  4       NaN       NaN                                 BEWR                         HOWR                           SOSP                          SOSP                          SPTO\nduration_s       float64  17336  2167 2167  2006    5.257e+01 6.337e+01                           1.01                         18.4                           36.3                          64.7                      1.07e+03\nsamples_mb       float64  17336  2167 2167  2006    2.214e+00 2.667e+00                         0.0424                        0.774                           1.52                          2.72                          44.9\nsamples_n        int64    17336  2167 2167  2006    1.161e+06 1.398e+06                          22226                       405720                         799488                       1426176                      23533524\nbasename         object   134354 2167 2167  1       NaN       NaN                                audio                        audio                          audio                         audio                         audio\nspecies_longhand category 2632   2167 2167  4       NaN       NaN                    House Wren - HOWR         Bewick's Wren - BEWR            Song Sparrow - SOSP           Song Sparrow - SOSP         Spotted Towhee - SPTO\nid               object   177405 2167 2167  2167    NaN       NaN            xc/data/BEWR/104637/audio      xc/data/HOWR/1213/audio      xc/data/SOSP/133566/audio      xc/data/SOSP/79633/audio      xc/data/SPTO/99803/audio\npath             object   186073 2167 2167  2167    NaN       NaN        xc/data/BEWR/104637/audio.mp3  xc/data/HOWR/1213/audio.mp3  xc/data/SOSP/133566/audio.mp3  xc/data/SOSP/79633/audio.mp3  xc/data/SPTO/99803/audio.mp3"
     },
     "metadata": {},
     "output_type": "display_data",
     "transient": {}
    },
    {
     "data": {
      "text/html": "<table border=\"1\" class=\"dataframe\">\n  <thead>\n    <tr style=\"text-align: right;\">\n      <th></th>\n      <th>dataset</th>\n      <th>species</th>\n      <th>species_com_name</th>\n      <th>species_query</th>\n      <th>duration_s</th>\n      <th>samples_mb</th>\n      <th>samples_n</th>\n      <th>basename</th>\n      <th>species_longhand</th>\n      <th>id</th>\n      <th>path</th>\n    </tr>\n  </thead>\n  <tbody>\n    <tr>\n      <th>0</th>\n      <td><div class=\"not-number\">xc</div></td>\n      <td><div class=\"not-number\">HOWR</div></td>\n      <td><div class=\"not-number\">House Wren</div></td>\n      <td><div class=\"not-number\">HOWR</div></td>\n      <td>18.5</td>\n      <td>0.777</td>\n      <td>407187</td>\n      <td><div class=\"not-number\">audio</div></td>\n      <td><div class=\"not-number\">House Wren - HOWR</div></td>\n      <td><div class=\"not-number\">xc/data/HOWR/231546/audio</div></td>\n      <td><div class=\"not-number\">xc/data/HOWR/231546/audio.mp3</div></td>\n    </tr>\n    <tr>\n      <th>1</th>\n      <td><div class=\"not-number\">xc</div></td>\n      <td><div class=\"not-number\">HOWR</div></td>\n      <td><div class=\"not-number\">House Wren</div></td>\n      <td><div class=\"not-number\">HOWR</div></td>\n      <td>119.0</td>\n      <td>5.020</td>\n      <td>2631168</td>\n      <td><div class=\"not-number\">audio</div></td>\n      <td><div class=\"not-number\">House Wren - HOWR</div></td>\n      <td><div class=\"not-number\">xc/data/HOWR/349362/audio</div></td>\n      <td><div class=\"not-number\">xc/data/HOWR/349362/audio.mp3</div></td>\n    </tr>\n    <tr>\n      <th>2</th>\n      <td><div class=\"not-number\">xc</div></td>\n      <td><div class=\"not-number\">HOWR</div></td>\n      <td><div class=\"not-number\">House Wren</div></td>\n      <td><div class=\"not-number\">HOWR</div></td>\n      <td>410.0</td>\n      <td>17.200</td>\n      <td>9032008</td>\n      <td><div class=\"not-number\">audio</div></td>\n      <td><div class=\"not-number\">House Wren - HOWR</div></td>\n      <td><div class=\"not-number\">xc/data/HOWR/188839/audio</div></td>\n      <td><div class=\"not-number\">xc/data/HOWR/188839/audio.mp3</div></td>\n    </tr>\n    <tr>\n      <th>3</th>\n      <td><div class=\"not-number\">xc</div></td>\n      <td><div class=\"not-number\">HOWR</div></td>\n      <td><div class=\"not-number\">House Wren</div></td>\n      <td><div class=\"not-number\">HOWR</div></td>\n      <td>25.6</td>\n      <td>1.080</td>\n      <td>564480</td>\n      <td><div class=\"not-number\">audio</div></td>\n      <td><div class=\"not-number\">House Wren - HOWR</div></td>\n      <td><div class=\"not-number\">xc/data/HOWR/190463/audio</div></td>\n      <td><div class=\"not-number\">xc/data/HOWR/190463/audio.mp3</div></td>\n    </tr>\n    <tr>\n      <th>4</th>\n      <td><div class=\"not-number\">xc</div></td>\n      <td><div class=\"not-number\">HOWR</div></td>\n      <td><div class=\"not-number\">House Wren</div></td>\n      <td><div class=\"not-number\">HOWR</div></td>\n      <td>19.6</td>\n      <td>0.823</td>\n      <td>431424</td>\n      <td><div class=\"not-number\">audio</div></td>\n      <td><div class=\"not-number\">House Wren - HOWR</div></td>\n      <td><div class=\"not-number\">xc/data/HOWR/321496/audio</div></td>\n      <td><div class=\"not-number\">xc/data/HOWR/321496/audio.mp3</div></td>\n    </tr>\n  </tbody>\n</table>",
      "text/plain": "  dataset species species_com_name species_query  duration_s  samples_mb  samples_n basename   species_longhand                         id                           path\n0      xc    HOWR       House Wren          HOWR      18.467       0.777     407187    audio  House Wren - HOWR  xc/data/HOWR/231546/audio  xc/data/HOWR/231546/audio.mp3\n1      xc    HOWR       House Wren          HOWR     119.327       5.019    2631168    audio  House Wren - HOWR  xc/data/HOWR/349362/audio  xc/data/HOWR/349362/audio.mp3\n2      xc    HOWR       House Wren          HOWR     409.615      17.227    9032008    audio  House Wren - HOWR  xc/data/HOWR/188839/audio  xc/data/HOWR/188839/audio.mp3\n3      xc    HOWR       House Wren          HOWR      25.600       1.077     564480    audio  House Wren - HOWR  xc/data/HOWR/190463/audio  xc/data/HOWR/190463/audio.mp3\n4      xc    HOWR       House Wren          HOWR      19.566       0.823     431424    audio  House Wren - HOWR  xc/data/HOWR/321496/audio  xc/data/HOWR/321496/audio.mp3"
     },
     "metadata": {},
     "output_type": "display_data",
     "transient": {}
    }
   ],
   "source": [
    "# TODO Restore once:true after debug [but think carefully how once:true interacts with the once:false params above]\n",
    "recs = load.recs(paths=xcs_paths)\n",
    "display(\n",
    "    df_summary(recs).T,\n",
    "    recs[:5],\n",
    ")"
   ]
  },
  {
   "cell_type": "code",
   "execution_count": null,
   "metadata": {},
   "outputs": [
    {
     "data": {
      "text/html": "<table border=\"1\" class=\"dataframe\">\n  <thead>\n    <tr style=\"text-align: right;\">\n      <th></th>\n      <th>species_longhand</th>\n      <th>num_recs</th>\n    </tr>\n  </thead>\n  <tbody>\n    <tr>\n      <th>0</th>\n      <td><div class=\"not-number\">House Wren - HOWR</div></td>\n      <td><div class=\"not-number\">•••••••••••••••••••••••••••••••••••••••••••• /648</div></td>\n    </tr>\n    <tr>\n      <th>1</th>\n      <td><div class=\"not-number\">Bewick's Wren - BEWR</div></td>\n      <td><div class=\"not-number\">•••••••••••••••••••••••••••••••••••••••••••••••• /648</div></td>\n    </tr>\n    <tr>\n      <th>2</th>\n      <td><div class=\"not-number\">Song Sparrow - SOSP</div></td>\n      <td><div class=\"not-number\">•••••••••••••••••••••••••••••••••••••••••••••••••••••••••••• /648</div></td>\n    </tr>\n    <tr>\n      <th>3</th>\n      <td><div class=\"not-number\">Spotted Towhee - SPTO</div></td>\n      <td><div class=\"not-number\">•••••••••••••••••••••••••••••••••••••••••••••••• /648</div></td>\n    </tr>\n  </tbody>\n</table>",
      "text/plain": "        species_longhand                                                           num_recs\n0      House Wren - HOWR                  •••••••••••••••••••••••••••••••••••••••••••• /648\n1   Bewick's Wren - BEWR              •••••••••••••••••••••••••••••••••••••••••••••••• /648\n2    Song Sparrow - SOSP  •••••••••••••••••••••••••••••••••••••••••••••••••••••••••••• /648\n3  Spotted Towhee - SPTO              •••••••••••••••••••••••••••••••••••••••••••••••• /648"
     },
     "execution_count": 9,
     "metadata": {},
     "output_type": "execute_result"
    }
   ],
   "source": [
    "# Fast-and-cheap version (<1s) of the plots below (~7s)\n",
    "(recs\n",
    "    .species_longhand.value_counts().sort_index()\n",
    "    .reset_index().rename(columns={'index': 'species_longhand', 'species_longhand': 'num_recs'})\n",
    "    .assign(num_recs=lambda df: df.num_recs.map(lambda n: '%s /%s' % ('•' * int(n / df.num_recs.max() * 60), df.num_recs.max())))\n",
    ")"
   ]
  },
  {
   "cell_type": "code",
   "execution_count": null,
   "metadata": {
    "skip": true
   },
   "outputs": [
    {
     "name": "stdout",
     "output_type": "stream",
     "text": "[skip]"
    }
   ],
   "source": [
    "# Num recs loaded for training + total num available [slow: ~7s]\n",
    "(recs\n",
    "    .pipe(df_reverse_cat, 'species_longhand')\n",
    "    .assign(recs_n=1).groupby(['species', 'species_longhand'])['recs_n'].sum().reset_index()\n",
    "    .set_index('species')\n",
    "    # [:100]\n",
    "    .join(how='left', other=(xc.metadata\n",
    "        .assign(total_n=1).groupby('species')['total_n'].sum().reset_index()\n",
    "        .set_index('species')\n",
    "    ))\n",
    "    .reset_index()\n",
    "    .pipe(ggplot)\n",
    "    + aes(x='species_longhand')\n",
    "    + geom_col(aes(y='total_n'), fill='darkgray')\n",
    "    + geom_col(aes(y='recs_n'), fill=scale_color_cmap(mpl.cm.tab10).palette(0))\n",
    "    # + geom_point(aes(y='total_n'), color='darkgray')\n",
    "    # + geom_point(aes(y='recs_n'), color=scale_color_cmap(mpl.cm.tab10).palette(0))\n",
    "    + expand_limits(y=0)\n",
    "    + coord_flip()\n",
    "    + theme(axis_text_y=element_text(size=4))\n",
    "    + theme_figsize(width=18, aspect_ratio=3/2)\n",
    "    + ggtitle('Num recs loaded for training + total num available')\n",
    ")"
   ]
  },
  {
   "cell_type": "code",
   "execution_count": null,
   "metadata": {
    "skip": true
   },
   "outputs": [
    {
     "name": "stdout",
     "output_type": "stream",
     "text": "[skip]"
    }
   ],
   "source": [
    "# Plot recs with duration [slow: ~7s]\n",
    "(recs\n",
    "    .assign(species=lambda df: df.species_longhand)\n",
    "    .assign(count=1)\n",
    "    # 0-fill all (species, dataset) combinations to create empty placeholders for missing bars\n",
    "    .pipe(lambda df: df.append(\n",
    "        pd.DataFrame([\n",
    "            dict(species=species, dataset=dataset, duration_s=0)\n",
    "            for species in df.species.unique()\n",
    "            for dataset in df.dataset.unique()\n",
    "        ])\n",
    "        .astype({'species': df.species.dtype})\n",
    "    ))\n",
    "    .groupby(['dataset', 'species'])[['count', 'duration_s']].sum().reset_index()\n",
    "    # Order by species by taxo\n",
    "    .pipe(df_reverse_cat, 'species')\n",
    "    # Order by species by count\n",
    "    # .pipe(df_ordered_cat, species=lambda df: df.sort_values('count').species)\n",
    "    .pipe(pd.melt, id_vars=['dataset', 'species'], value_vars=['count', 'duration_s'])\n",
    "    .pipe(df_remove_unused_categories)\n",
    "    .pipe(ggplot, aes(x='species', y='value', fill='dataset', color='dataset'))\n",
    "    + coord_flip()\n",
    "    + geom_bar(stat='identity', position=position_dodge(), width=.8)\n",
    "    + facet_wrap('variable', nrow=1, scales='free')\n",
    "    + xlab('')\n",
    "    + ylab('')\n",
    "    + scale_fill_cmap_d(mpl_cmap_concat('tab20', 'tab20b', 'tab20c'))\n",
    "    + scale_color_cmap_d(mpl_cmap_concat('tab20', 'tab20b', 'tab20c'))\n",
    "    + theme(panel_spacing=2.5)\n",
    "    + theme_figsize(width=18, aspect_ratio=4/1)\n",
    "    + ggtitle(f'recs: Total (count, duration_s) per (species, dataset)')\n",
    ")"
   ]
  },
  {
   "cell_type": "code",
   "execution_count": null,
   "metadata": {},
   "outputs": [],
   "source": [
    "# Add .feat\n",
    "recs = projection.transform(recs)"
   ]
  },
  {
   "cell_type": "code",
   "execution_count": null,
   "metadata": {
    "time": "23.265s"
   },
   "outputs": [
    {
     "name": "stderr",
     "output_type": "stream",
     "text": "\r  0%|                                                                                           | 0/27 [00:00<?, ?it/s]"
    },
    {
     "name": "stderr",
     "output_type": "stream",
     "text": "\r100%|███████████████████████████████████████████████████████████████████████████████| 27/27 [00:00<00:00, 78697.85it/s]"
    },
    {
     "name": "stdout",
     "output_type": "stream",
     "text": "Fitting 1 folds for each of 9 candidates, totalling 9 fits\n[00:55:21.427] INFO   artifacts\n  dir: /Users/danb/hack/bubo/features/data/artifacts\n  save: true\n  reuse: fit-neighbors-na-dan4\n  experiment_id: fit-neighbors-na-dan4\n"
    },
    {
     "name": "stderr",
     "output_type": "stream",
     "text": "\n"
    },
    {
     "name": "stdout",
     "output_type": "stream",
     "text": "[00:55:21.718] INFO   _fit_and_score: n[1/9], model_id[split_i=0,train=1733,test=434,classes=4,estimator=Search(n_species=4,n_recs=0.25,classifier='cls=logreg_ovr,solver=liblinear,C=0.01,class_weight=balanced',random_state=0)]: fit...\n"
    },
    {
     "name": "stdout",
     "output_type": "stream",
     "text": "[00:55:21.725] INFO   _fit_and_score: n[2/9], model_id[split_i=0,train=1733,test=434,classes=4,estimator=Search(n_species=4,n_recs=0.25,classifier='cls=logreg_ovr,solver=liblinear,C=1,class_weight=balanced',random_state=0)]: fit...\n"
    },
    {
     "name": "stdout",
     "output_type": "stream",
     "text": "[00:55:21.741] INFO   _fit_and_score: n[3/9], model_id[split_i=0,train=1733,test=434,classes=4,estimator=Search(n_species=4,n_recs=0.25,classifier='cls=logreg_ovr,solver=liblinear,C=100,class_weight=balanced',random_state=0)]: fit...\n"
    },
    {
     "name": "stdout",
     "output_type": "stream",
     "text": "[00:55:21.762] INFO   _fit_and_score: n[4/9], model_id[split_i=0,train=1733,test=434,classes=4,estimator=Search(n_species=4,n_recs=0.5,classifier='cls=logreg_ovr,solver=liblinear,C=0.01,class_weight=balanced',random_state=0)]: fit...\n"
    },
    {
     "name": "stdout",
     "output_type": "stream",
     "text": "[00:55:21.787] INFO   _fit_and_score: n[5/9], model_id[split_i=0,train=1733,test=434,classes=4,estimator=Search(n_species=4,n_recs=0.5,classifier='cls=logreg_ovr,solver=liblinear,C=1,class_weight=balanced',random_state=0)]: fit...\n"
    },
    {
     "name": "stdout",
     "output_type": "stream",
     "text": "[00:55:21.805] INFO   _fit_and_score: n[6/9], model_id[split_i=0,train=1733,test=434,classes=4,estimator=Search(n_species=4,n_recs=0.5,classifier='cls=logreg_ovr,solver=liblinear,C=100,class_weight=balanced',random_state=0)]: fit...\n"
    },
    {
     "name": "stdout",
     "output_type": "stream",
     "text": "[00:55:21.834] INFO   _fit_and_score: n[7/9], model_id[split_i=0,train=1733,test=434,classes=4,estimator=Search(n_species=4,n_recs=1.0,classifier='cls=logreg_ovr,solver=liblinear,C=0.01,class_weight=balanced',random_state=0)]: fit...\n"
    },
    {
     "name": "stdout",
     "output_type": "stream",
     "text": "[00:55:21.869] INFO   _fit_and_score: n[8/9], model_id[split_i=0,train=1733,test=434,classes=4,estimator=Search(n_species=4,n_recs=1.0,classifier='cls=logreg_ovr,solver=liblinear,C=1,class_weight=balanced',random_state=0)]: fit...\n"
    },
    {
     "name": "stderr",
     "output_type": "stream",
     "text": "/Users/danb/miniconda3/envs/bubo-features/lib/python3.6/site-packages/sklearn/linear_model/logistic.py:1228: UserWarning: 'n_jobs' > 1 does not have any effect when 'solver' is set to 'liblinear'. Got 'n_jobs' = -1.\n  \" = {}.\".format(self.n_jobs))\n"
    },
    {
     "name": "stderr",
     "output_type": "stream",
     "text": "/Users/danb/miniconda3/envs/bubo-features/lib/python3.6/site-packages/sklearn/linear_model/logistic.py:1228: UserWarning: 'n_jobs' > 1 does not have any effect when 'solver' is set to 'liblinear'. Got 'n_jobs' = -1.\n  \" = {}.\".format(self.n_jobs))\n"
    },
    {
     "name": "stderr",
     "output_type": "stream",
     "text": "/Users/danb/miniconda3/envs/bubo-features/lib/python3.6/site-packages/sklearn/linear_model/logistic.py:1228: UserWarning: 'n_jobs' > 1 does not have any effect when 'solver' is set to 'liblinear'. Got 'n_jobs' = -1.\n  \" = {}.\".format(self.n_jobs))\n"
    },
    {
     "name": "stderr",
     "output_type": "stream",
     "text": "/Users/danb/miniconda3/envs/bubo-features/lib/python3.6/site-packages/sklearn/linear_model/logistic.py:1228: UserWarning: 'n_jobs' > 1 does not have any effect when 'solver' is set to 'liblinear'. Got 'n_jobs' = -1.\n  \" = {}.\".format(self.n_jobs))\n"
    },
    {
     "name": "stderr",
     "output_type": "stream",
     "text": "/Users/danb/miniconda3/envs/bubo-features/lib/python3.6/site-packages/sklearn/linear_model/logistic.py:1228: UserWarning: 'n_jobs' > 1 does not have any effect when 'solver' is set to 'liblinear'. Got 'n_jobs' = -1.\n  \" = {}.\".format(self.n_jobs))\n"
    },
    {
     "name": "stderr",
     "output_type": "stream",
     "text": "/Users/danb/miniconda3/envs/bubo-features/lib/python3.6/site-packages/sklearn/linear_model/logistic.py:1228: UserWarning: 'n_jobs' > 1 does not have any effect when 'solver' is set to 'liblinear'. Got 'n_jobs' = -1.\n  \" = {}.\".format(self.n_jobs))\n"
    },
    {
     "name": "stderr",
     "output_type": "stream",
     "text": "/Users/danb/miniconda3/envs/bubo-features/lib/python3.6/site-packages/sklearn/linear_model/logistic.py:1228: UserWarning: 'n_jobs' > 1 does not have any effect when 'solver' is set to 'liblinear'. Got 'n_jobs' = -1.\n  \" = {}.\".format(self.n_jobs))\n"
    },
    {
     "name": "stderr",
     "output_type": "stream",
     "text": "/Users/danb/miniconda3/envs/bubo-features/lib/python3.6/site-packages/sklearn/linear_model/logistic.py:1228: UserWarning: 'n_jobs' > 1 does not have any effect when 'solver' is set to 'liblinear'. Got 'n_jobs' = -1.\n  \" = {}.\".format(self.n_jobs))\n"
    },
    {
     "name": "stdout",
     "output_type": "stream",
     "text": "[00:55:24.474] INFO   _fit_and_score: n[1/9], model_id[split_i=0,train=1733,test=434,classes=4,estimator=Search(n_species=4,n_recs=0.25,classifier='cls=logreg_ovr,solver=liblinear,C=0.01,class_weight=balanced',random_state=0)]: fit[2.275s]\n"
    },
    {
     "name": "stdout",
     "output_type": "stream",
     "text": "[00:55:25.263] INFO   _fit_and_score: n[1/9], model_id[split_i=0,train=1733,test=434,classes=4,estimator=Search(n_species=4,n_recs=0.25,classifier='cls=logreg_ovr,solver=liblinear,C=0.01,class_weight=balanced',random_state=0)]: extra_metrics... ['classes', 'train_i', 'train_y', 'train_predict_proba', 'test_i', 'test_y', 'test_predict_proba', 'model_size', 'model_stats', 'proc_stats']\n"
    },
    {
     "name": "stdout",
     "output_type": "stream",
     "text": "[00:55:25.329] INFO   _fit_and_score: n[1/9], model_id[split_i=0,train=1733,test=434,classes=4,estimator=Search(n_species=4,n_recs=0.25,classifier='cls=logreg_ovr,solver=liblinear,C=0.01,class_weight=balanced',random_state=0)]: extra_metrics[0.051s, 128.0 kB]: ['classes', 'train_i', 'train_y', 'train_predict_proba', 'test_i', 'test_y', 'test_predict_proba', 'model_size', 'model_stats', 'proc_stats']\n"
    },
    {
     "name": "stdout",
     "output_type": "stream",
     "text": "[00:55:25.333] INFO   _fit_and_score: n[1/9], model_id[split_i=0,train=1733,test=434,classes=4,estimator=Search(n_species=4,n_recs=0.25,classifier='cls=logreg_ovr,solver=liblinear,C=0.01,class_weight=balanced',random_state=0)]: save: ret...\n"
    },
    {
     "name": "stdout",
     "output_type": "stream",
     "text": "[00:55:25.355] INFO   _fit_and_score: n[1/9], model_id[split_i=0,train=1733,test=434,classes=4,estimator=Search(n_species=4,n_recs=0.25,classifier='cls=logreg_ovr,solver=liblinear,C=0.01,class_weight=balanced',random_state=0)]: save[0.020s, 128.0 kB]: ret\n"
    },
    {
     "name": "stdout",
     "output_type": "stream",
     "text": "[00:55:25.358] INFO   _fit_and_score: n[1/9], model_id[split_i=0,train=1733,test=434,classes=4,estimator=Search(n_species=4,n_recs=0.25,classifier='cls=logreg_ovr,solver=liblinear,C=0.01,class_weight=balanced',random_state=0)]: save: estimator...\n"
    },
    {
     "name": "stdout",
     "output_type": "stream",
     "text": "[00:55:25.385] INFO   _fit_and_score: n[1/9], model_id[split_i=0,train=1733,test=434,classes=4,estimator=Search(n_species=4,n_recs=0.25,classifier='cls=logreg_ovr,solver=liblinear,C=0.01,class_weight=balanced',random_state=0)]: save[0.024s, 2.6 MB]: estimator\n"
    },
    {
     "name": "stdout",
     "output_type": "stream",
     "text": "[00:55:25.417] INFO   _fit_and_score: n[9/9], model_id[split_i=0,train=1733,test=434,classes=4,estimator=Search(n_species=4,n_recs=1.0,classifier='cls=logreg_ovr,solver=liblinear,C=100,class_weight=balanced',random_state=0)]: fit...\n"
    },
    {
     "name": "stdout",
     "output_type": "stream",
     "text": "[00:55:25.630] INFO   _fit_and_score: n[2/9], model_id[split_i=0,train=1733,test=434,classes=4,estimator=Search(n_species=4,n_recs=0.25,classifier='cls=logreg_ovr,solver=liblinear,C=1,class_weight=balanced',random_state=0)]: fit[3.427s]\n"
    },
    {
     "name": "stdout",
     "output_type": "stream",
     "text": "[00:55:25.985] INFO   _fit_and_score: n[3/9], model_id[split_i=0,train=1733,test=434,classes=4,estimator=Search(n_species=4,n_recs=0.25,classifier='cls=logreg_ovr,solver=liblinear,C=100,class_weight=balanced',random_state=0)]: fit[3.716s]\n"
    },
    {
     "name": "stderr",
     "output_type": "stream",
     "text": "/Users/danb/miniconda3/envs/bubo-features/lib/python3.6/site-packages/sklearn/linear_model/logistic.py:1228: UserWarning: 'n_jobs' > 1 does not have any effect when 'solver' is set to 'liblinear'. Got 'n_jobs' = -1.\n  \" = {}.\".format(self.n_jobs))\n"
    },
    {
     "name": "stdout",
     "output_type": "stream",
     "text": "[00:55:26.286] INFO   _fit_and_score: n[2/9], model_id[split_i=0,train=1733,test=434,classes=4,estimator=Search(n_species=4,n_recs=0.25,classifier='cls=logreg_ovr,solver=liblinear,C=1,class_weight=balanced',random_state=0)]: extra_metrics... ['classes', 'train_i', 'train_y', 'train_predict_proba', 'test_i', 'test_y', 'test_predict_proba', 'model_size', 'model_stats', 'proc_stats']\n"
    },
    {
     "name": "stdout",
     "output_type": "stream",
     "text": "[00:55:26.343] INFO   _fit_and_score: n[2/9], model_id[split_i=0,train=1733,test=434,classes=4,estimator=Search(n_species=4,n_recs=0.25,classifier='cls=logreg_ovr,solver=liblinear,C=1,class_weight=balanced',random_state=0)]: extra_metrics[0.047s, 128.2 kB]: ['classes', 'train_i', 'train_y', 'train_predict_proba', 'test_i', 'test_y', 'test_predict_proba', 'model_size', 'model_stats', 'proc_stats']\n"
    },
    {
     "name": "stdout",
     "output_type": "stream",
     "text": "[00:55:26.345] INFO   _fit_and_score: n[2/9], model_id[split_i=0,train=1733,test=434,classes=4,estimator=Search(n_species=4,n_recs=0.25,classifier='cls=logreg_ovr,solver=liblinear,C=1,class_weight=balanced',random_state=0)]: save: ret...\n"
    },
    {
     "name": "stdout",
     "output_type": "stream",
     "text": "[00:55:26.365] INFO   _fit_and_score: n[2/9], model_id[split_i=0,train=1733,test=434,classes=4,estimator=Search(n_species=4,n_recs=0.25,classifier='cls=logreg_ovr,solver=liblinear,C=1,class_weight=balanced',random_state=0)]: save[0.018s, 128.3 kB]: ret\n"
    },
    {
     "name": "stdout",
     "output_type": "stream",
     "text": "[00:55:26.369] INFO   _fit_and_score: n[2/9], model_id[split_i=0,train=1733,test=434,classes=4,estimator=Search(n_species=4,n_recs=0.25,classifier='cls=logreg_ovr,solver=liblinear,C=1,class_weight=balanced',random_state=0)]: save: estimator...\n"
    },
    {
     "name": "stdout",
     "output_type": "stream",
     "text": "[00:55:26.392] INFO   _fit_and_score: n[2/9], model_id[split_i=0,train=1733,test=434,classes=4,estimator=Search(n_species=4,n_recs=0.25,classifier='cls=logreg_ovr,solver=liblinear,C=1,class_weight=balanced',random_state=0)]: save[0.020s, 2.6 MB]: estimator\n"
    },
    {
     "name": "stdout",
     "output_type": "stream",
     "text": "[00:55:26.758] INFO   _fit_and_score: n[4/9], model_id[split_i=0,train=1733,test=434,classes=4,estimator=Search(n_species=4,n_recs=0.5,classifier='cls=logreg_ovr,solver=liblinear,C=0.01,class_weight=balanced',random_state=0)]: fit[4.452s]\n"
    },
    {
     "name": "stdout",
     "output_type": "stream",
     "text": "[00:55:26.761] INFO   _fit_and_score: n[3/9], model_id[split_i=0,train=1733,test=434,classes=4,estimator=Search(n_species=4,n_recs=0.25,classifier='cls=logreg_ovr,solver=liblinear,C=100,class_weight=balanced',random_state=0)]: extra_metrics... ['classes', 'train_i', 'train_y', 'train_predict_proba', 'test_i', 'test_y', 'test_predict_proba', 'model_size', 'model_stats', 'proc_stats']\n"
    },
    {
     "name": "stdout",
     "output_type": "stream",
     "text": "[00:55:26.820] INFO   _fit_and_score: n[3/9], model_id[split_i=0,train=1733,test=434,classes=4,estimator=Search(n_species=4,n_recs=0.25,classifier='cls=logreg_ovr,solver=liblinear,C=100,class_weight=balanced',random_state=0)]: extra_metrics[0.047s, 128.2 kB]: ['classes', 'train_i', 'train_y', 'train_predict_proba', 'test_i', 'test_y', 'test_predict_proba', 'model_size', 'model_stats', 'proc_stats']\n"
    },
    {
     "name": "stdout",
     "output_type": "stream",
     "text": "[00:55:26.823] INFO   _fit_and_score: n[3/9], model_id[split_i=0,train=1733,test=434,classes=4,estimator=Search(n_species=4,n_recs=0.25,classifier='cls=logreg_ovr,solver=liblinear,C=100,class_weight=balanced',random_state=0)]: save: ret...\n"
    },
    {
     "name": "stdout",
     "output_type": "stream",
     "text": "[00:55:26.847] INFO   _fit_and_score: n[3/9], model_id[split_i=0,train=1733,test=434,classes=4,estimator=Search(n_species=4,n_recs=0.25,classifier='cls=logreg_ovr,solver=liblinear,C=100,class_weight=balanced',random_state=0)]: save[0.022s, 128.3 kB]: ret\n"
    },
    {
     "name": "stdout",
     "output_type": "stream",
     "text": "[00:55:26.850] INFO   _fit_and_score: n[3/9], model_id[split_i=0,train=1733,test=434,classes=4,estimator=Search(n_species=4,n_recs=0.25,classifier='cls=logreg_ovr,solver=liblinear,C=100,class_weight=balanced',random_state=0)]: save: estimator...\n"
    },
    {
     "name": "stdout",
     "output_type": "stream",
     "text": "[00:55:26.873] INFO   _fit_and_score: n[3/9], model_id[split_i=0,train=1733,test=434,classes=4,estimator=Search(n_species=4,n_recs=0.25,classifier='cls=logreg_ovr,solver=liblinear,C=100,class_weight=balanced',random_state=0)]: save[0.021s, 2.6 MB]: estimator\n"
    },
    {
     "name": "stdout",
     "output_type": "stream",
     "text": "[00:55:27.550] INFO   _fit_and_score: n[4/9], model_id[split_i=0,train=1733,test=434,classes=4,estimator=Search(n_species=4,n_recs=0.5,classifier='cls=logreg_ovr,solver=liblinear,C=0.01,class_weight=balanced',random_state=0)]: extra_metrics... ['classes', 'train_i', 'train_y', 'train_predict_proba', 'test_i', 'test_y', 'test_predict_proba', 'model_size', 'model_stats', 'proc_stats']\n"
    },
    {
     "name": "stdout",
     "output_type": "stream",
     "text": "[00:55:27.621] INFO   _fit_and_score: n[4/9], model_id[split_i=0,train=1733,test=434,classes=4,estimator=Search(n_species=4,n_recs=0.5,classifier='cls=logreg_ovr,solver=liblinear,C=0.01,class_weight=balanced',random_state=0)]: extra_metrics[0.058s, 128.4 kB]: ['classes', 'train_i', 'train_y', 'train_predict_proba', 'test_i', 'test_y', 'test_predict_proba', 'model_size', 'model_stats', 'proc_stats']\n"
    },
    {
     "name": "stdout",
     "output_type": "stream",
     "text": "[00:55:27.624] INFO   _fit_and_score: n[4/9], model_id[split_i=0,train=1733,test=434,classes=4,estimator=Search(n_species=4,n_recs=0.5,classifier='cls=logreg_ovr,solver=liblinear,C=0.01,class_weight=balanced',random_state=0)]: save: ret...\n"
    },
    {
     "name": "stdout",
     "output_type": "stream",
     "text": "[00:55:27.652] INFO   _fit_and_score: n[4/9], model_id[split_i=0,train=1733,test=434,classes=4,estimator=Search(n_species=4,n_recs=0.5,classifier='cls=logreg_ovr,solver=liblinear,C=0.01,class_weight=balanced',random_state=0)]: save[0.024s, 128.5 kB]: ret\n"
    },
    {
     "name": "stdout",
     "output_type": "stream",
     "text": "[00:55:27.654] INFO   _fit_and_score: n[4/9], model_id[split_i=0,train=1733,test=434,classes=4,estimator=Search(n_species=4,n_recs=0.5,classifier='cls=logreg_ovr,solver=liblinear,C=0.01,class_weight=balanced',random_state=0)]: save: estimator...\n"
    },
    {
     "name": "stdout",
     "output_type": "stream",
     "text": "[00:55:27.683] INFO   _fit_and_score: n[4/9], model_id[split_i=0,train=1733,test=434,classes=4,estimator=Search(n_species=4,n_recs=0.5,classifier='cls=logreg_ovr,solver=liblinear,C=0.01,class_weight=balanced',random_state=0)]: save[0.026s, 5.3 MB]: estimator\n"
    },
    {
     "name": "stderr",
     "output_type": "stream",
     "text": "[Parallel(n_jobs=8)]: Done   4 out of   9 | elapsed:    6.1s remaining:    7.6s\n"
    },
    {
     "name": "stdout",
     "output_type": "stream",
     "text": "[00:55:29.516] INFO   _fit_and_score: n[5/9], model_id[split_i=0,train=1733,test=434,classes=4,estimator=Search(n_species=4,n_recs=0.5,classifier='cls=logreg_ovr,solver=liblinear,C=1,class_weight=balanced',random_state=0)]: fit[7.223s]\n"
    },
    {
     "name": "stdout",
     "output_type": "stream",
     "text": "[00:55:29.906] INFO   _fit_and_score: n[6/9], model_id[split_i=0,train=1733,test=434,classes=4,estimator=Search(n_species=4,n_recs=0.5,classifier='cls=logreg_ovr,solver=liblinear,C=100,class_weight=balanced',random_state=0)]: fit[7.589s]\n"
    },
    {
     "name": "stdout",
     "output_type": "stream",
     "text": "[00:55:30.070] INFO   _fit_and_score: n[7/9], model_id[split_i=0,train=1733,test=434,classes=4,estimator=Search(n_species=4,n_recs=1.0,classifier='cls=logreg_ovr,solver=liblinear,C=0.01,class_weight=balanced',random_state=0)]: fit[7.722s]\n"
    },
    {
     "name": "stdout",
     "output_type": "stream",
     "text": "[00:55:30.417] INFO   _fit_and_score: n[5/9], model_id[split_i=0,train=1733,test=434,classes=4,estimator=Search(n_species=4,n_recs=0.5,classifier='cls=logreg_ovr,solver=liblinear,C=1,class_weight=balanced',random_state=0)]: extra_metrics... ['classes', 'train_i', 'train_y', 'train_predict_proba', 'test_i', 'test_y', 'test_predict_proba', 'model_size', 'model_stats', 'proc_stats']\n"
    },
    {
     "name": "stdout",
     "output_type": "stream",
     "text": "[00:55:30.418] INFO   _fit_and_score: n[6/9], model_id[split_i=0,train=1733,test=434,classes=4,estimator=Search(n_species=4,n_recs=0.5,classifier='cls=logreg_ovr,solver=liblinear,C=100,class_weight=balanced',random_state=0)]: extra_metrics... ['classes', 'train_i', 'train_y', 'train_predict_proba', 'test_i', 'test_y', 'test_predict_proba', 'model_size', 'model_stats', 'proc_stats']\n"
    },
    {
     "name": "stdout",
     "output_type": "stream",
     "text": "[00:55:30.471] INFO   _fit_and_score: n[7/9], model_id[split_i=0,train=1733,test=434,classes=4,estimator=Search(n_species=4,n_recs=1.0,classifier='cls=logreg_ovr,solver=liblinear,C=0.01,class_weight=balanced',random_state=0)]: extra_metrics... ['classes', 'train_i', 'train_y', 'train_predict_proba', 'test_i', 'test_y', 'test_predict_proba', 'model_size', 'model_stats', 'proc_stats']\n"
    },
    {
     "name": "stdout",
     "output_type": "stream",
     "text": "[00:55:30.479] INFO   _fit_and_score: n[5/9], model_id[split_i=0,train=1733,test=434,classes=4,estimator=Search(n_species=4,n_recs=0.5,classifier='cls=logreg_ovr,solver=liblinear,C=1,class_weight=balanced',random_state=0)]: extra_metrics[0.048s, 129.1 kB]: ['classes', 'train_i', 'train_y', 'train_predict_proba', 'test_i', 'test_y', 'test_predict_proba', 'model_size', 'model_stats', 'proc_stats']\n"
    },
    {
     "name": "stdout",
     "output_type": "stream",
     "text": "[00:55:30.480] INFO   _fit_and_score: n[6/9], model_id[split_i=0,train=1733,test=434,classes=4,estimator=Search(n_species=4,n_recs=0.5,classifier='cls=logreg_ovr,solver=liblinear,C=100,class_weight=balanced',random_state=0)]: extra_metrics[0.051s, 129.1 kB]: ['classes', 'train_i', 'train_y', 'train_predict_proba', 'test_i', 'test_y', 'test_predict_proba', 'model_size', 'model_stats', 'proc_stats']\n"
    },
    {
     "name": "stdout",
     "output_type": "stream",
     "text": "[00:55:30.481] INFO   _fit_and_score: n[5/9], model_id[split_i=0,train=1733,test=434,classes=4,estimator=Search(n_species=4,n_recs=0.5,classifier='cls=logreg_ovr,solver=liblinear,C=1,class_weight=balanced',random_state=0)]: save: ret...\n"
    },
    {
     "name": "stdout",
     "output_type": "stream",
     "text": "[00:55:30.485] INFO   _fit_and_score: n[6/9], model_id[split_i=0,train=1733,test=434,classes=4,estimator=Search(n_species=4,n_recs=0.5,classifier='cls=logreg_ovr,solver=liblinear,C=100,class_weight=balanced',random_state=0)]: save: ret...\n"
    },
    {
     "name": "stdout",
     "output_type": "stream",
     "text": "[00:55:30.504] INFO   _fit_and_score: n[5/9], model_id[split_i=0,train=1733,test=434,classes=4,estimator=Search(n_species=4,n_recs=0.5,classifier='cls=logreg_ovr,solver=liblinear,C=1,class_weight=balanced',random_state=0)]: save[0.019s, 129.2 kB]: ret\n"
    },
    {
     "name": "stdout",
     "output_type": "stream",
     "text": "[00:55:30.507] INFO   _fit_and_score: n[6/9], model_id[split_i=0,train=1733,test=434,classes=4,estimator=Search(n_species=4,n_recs=0.5,classifier='cls=logreg_ovr,solver=liblinear,C=100,class_weight=balanced',random_state=0)]: save[0.020s, 129.2 kB]: ret\n"
    },
    {
     "name": "stdout",
     "output_type": "stream",
     "text": "[00:55:30.510] INFO   _fit_and_score: n[5/9], model_id[split_i=0,train=1733,test=434,classes=4,estimator=Search(n_species=4,n_recs=0.5,classifier='cls=logreg_ovr,solver=liblinear,C=1,class_weight=balanced',random_state=0)]: save: estimator...\n"
    },
    {
     "name": "stdout",
     "output_type": "stream",
     "text": "[00:55:30.513] INFO   _fit_and_score: n[6/9], model_id[split_i=0,train=1733,test=434,classes=4,estimator=Search(n_species=4,n_recs=0.5,classifier='cls=logreg_ovr,solver=liblinear,C=100,class_weight=balanced',random_state=0)]: save: estimator...\n"
    },
    {
     "name": "stdout",
     "output_type": "stream",
     "text": "[00:55:30.549] INFO   _fit_and_score: n[7/9], model_id[split_i=0,train=1733,test=434,classes=4,estimator=Search(n_species=4,n_recs=1.0,classifier='cls=logreg_ovr,solver=liblinear,C=0.01,class_weight=balanced',random_state=0)]: extra_metrics[0.061s, 129.1 kB]: ['classes', 'train_i', 'train_y', 'train_predict_proba', 'test_i', 'test_y', 'test_predict_proba', 'model_size', 'model_stats', 'proc_stats']\n"
    },
    {
     "name": "stdout",
     "output_type": "stream",
     "text": "[00:55:30.552] INFO   _fit_and_score: n[5/9], model_id[split_i=0,train=1733,test=434,classes=4,estimator=Search(n_species=4,n_recs=0.5,classifier='cls=logreg_ovr,solver=liblinear,C=1,class_weight=balanced',random_state=0)]: save[0.037s, 5.3 MB]: estimator\n"
    },
    {
     "name": "stdout",
     "output_type": "stream",
     "text": "[00:55:30.555] INFO   _fit_and_score: n[7/9], model_id[split_i=0,train=1733,test=434,classes=4,estimator=Search(n_species=4,n_recs=1.0,classifier='cls=logreg_ovr,solver=liblinear,C=0.01,class_weight=balanced',random_state=0)]: save: ret...\n"
    },
    {
     "name": "stdout",
     "output_type": "stream",
     "text": "[00:55:30.558] INFO   _fit_and_score: n[6/9], model_id[split_i=0,train=1733,test=434,classes=4,estimator=Search(n_species=4,n_recs=0.5,classifier='cls=logreg_ovr,solver=liblinear,C=100,class_weight=balanced',random_state=0)]: save[0.043s, 5.3 MB]: estimator\n"
    },
    {
     "name": "stdout",
     "output_type": "stream",
     "text": "[00:55:30.576] INFO   _fit_and_score: n[7/9], model_id[split_i=0,train=1733,test=434,classes=4,estimator=Search(n_species=4,n_recs=1.0,classifier='cls=logreg_ovr,solver=liblinear,C=0.01,class_weight=balanced',random_state=0)]: save[0.019s, 129.2 kB]: ret\n"
    },
    {
     "name": "stdout",
     "output_type": "stream",
     "text": "[00:55:30.579] INFO   _fit_and_score: n[7/9], model_id[split_i=0,train=1733,test=434,classes=4,estimator=Search(n_species=4,n_recs=1.0,classifier='cls=logreg_ovr,solver=liblinear,C=0.01,class_weight=balanced',random_state=0)]: save: estimator...\n"
    },
    {
     "name": "stdout",
     "output_type": "stream",
     "text": "[00:55:30.606] INFO   _fit_and_score: n[7/9], model_id[split_i=0,train=1733,test=434,classes=4,estimator=Search(n_species=4,n_recs=1.0,classifier='cls=logreg_ovr,solver=liblinear,C=0.01,class_weight=balanced',random_state=0)]: save[0.025s, 10.5 MB]: estimator\n"
    },
    {
     "name": "stdout",
     "output_type": "stream",
     "text": "[00:55:38.607] INFO   _fit_and_score: n[8/9], model_id[split_i=0,train=1733,test=434,classes=4,estimator=Search(n_species=4,n_recs=1.0,classifier='cls=logreg_ovr,solver=liblinear,C=1,class_weight=balanced',random_state=0)]: fit[16.221s]\n"
    },
    {
     "name": "stdout",
     "output_type": "stream",
     "text": "[00:55:39.556] INFO   _fit_and_score: n[8/9], model_id[split_i=0,train=1733,test=434,classes=4,estimator=Search(n_species=4,n_recs=1.0,classifier='cls=logreg_ovr,solver=liblinear,C=1,class_weight=balanced',random_state=0)]: extra_metrics... ['classes', 'train_i', 'train_y', 'train_predict_proba', 'test_i', 'test_y', 'test_predict_proba', 'model_size', 'model_stats', 'proc_stats']\n"
    },
    {
     "name": "stdout",
     "output_type": "stream",
     "text": "[00:55:39.597] INFO   _fit_and_score: n[8/9], model_id[split_i=0,train=1733,test=434,classes=4,estimator=Search(n_species=4,n_recs=1.0,classifier='cls=logreg_ovr,solver=liblinear,C=1,class_weight=balanced',random_state=0)]: extra_metrics[0.035s, 131.3 kB]: ['classes', 'train_i', 'train_y', 'train_predict_proba', 'test_i', 'test_y', 'test_predict_proba', 'model_size', 'model_stats', 'proc_stats']\n"
    },
    {
     "name": "stdout",
     "output_type": "stream",
     "text": "[00:55:39.599] INFO   _fit_and_score: n[8/9], model_id[split_i=0,train=1733,test=434,classes=4,estimator=Search(n_species=4,n_recs=1.0,classifier='cls=logreg_ovr,solver=liblinear,C=1,class_weight=balanced',random_state=0)]: save: ret...\n"
    },
    {
     "name": "stdout",
     "output_type": "stream",
     "text": "[00:55:39.614] INFO   _fit_and_score: n[8/9], model_id[split_i=0,train=1733,test=434,classes=4,estimator=Search(n_species=4,n_recs=1.0,classifier='cls=logreg_ovr,solver=liblinear,C=1,class_weight=balanced',random_state=0)]: save[0.012s, 131.3 kB]: ret\n"
    },
    {
     "name": "stdout",
     "output_type": "stream",
     "text": "[00:55:39.615] INFO   _fit_and_score: n[8/9], model_id[split_i=0,train=1733,test=434,classes=4,estimator=Search(n_species=4,n_recs=1.0,classifier='cls=logreg_ovr,solver=liblinear,C=1,class_weight=balanced',random_state=0)]: save: estimator...\n"
    },
    {
     "name": "stdout",
     "output_type": "stream",
     "text": "[00:55:39.645] INFO   _fit_and_score: n[8/9], model_id[split_i=0,train=1733,test=434,classes=4,estimator=Search(n_species=4,n_recs=1.0,classifier='cls=logreg_ovr,solver=liblinear,C=1,class_weight=balanced',random_state=0)]: save[0.028s, 10.5 MB]: estimator\n"
    },
    {
     "name": "stdout",
     "output_type": "stream",
     "text": "[00:55:43.151] INFO   _fit_and_score: n[9/9], model_id[split_i=0,train=1733,test=434,classes=4,estimator=Search(n_species=4,n_recs=1.0,classifier='cls=logreg_ovr,solver=liblinear,C=100,class_weight=balanced',random_state=0)]: fit[17.272s]\n"
    },
    {
     "name": "stdout",
     "output_type": "stream",
     "text": "[00:55:44.033] INFO   _fit_and_score: n[9/9], model_id[split_i=0,train=1733,test=434,classes=4,estimator=Search(n_species=4,n_recs=1.0,classifier='cls=logreg_ovr,solver=liblinear,C=100,class_weight=balanced',random_state=0)]: extra_metrics... ['classes', 'train_i', 'train_y', 'train_predict_proba', 'test_i', 'test_y', 'test_predict_proba', 'model_size', 'model_stats', 'proc_stats']\n"
    },
    {
     "name": "stdout",
     "output_type": "stream",
     "text": "[00:55:44.069] INFO   _fit_and_score: n[9/9], model_id[split_i=0,train=1733,test=434,classes=4,estimator=Search(n_species=4,n_recs=1.0,classifier='cls=logreg_ovr,solver=liblinear,C=100,class_weight=balanced',random_state=0)]: extra_metrics[0.030s, 131.5 kB]: ['classes', 'train_i', 'train_y', 'train_predict_proba', 'test_i', 'test_y', 'test_predict_proba', 'model_size', 'model_stats', 'proc_stats']\n"
    },
    {
     "name": "stdout",
     "output_type": "stream",
     "text": "[00:55:44.071] INFO   _fit_and_score: n[9/9], model_id[split_i=0,train=1733,test=434,classes=4,estimator=Search(n_species=4,n_recs=1.0,classifier='cls=logreg_ovr,solver=liblinear,C=100,class_weight=balanced',random_state=0)]: save: ret...\n"
    },
    {
     "name": "stdout",
     "output_type": "stream",
     "text": "[00:55:44.080] INFO   _fit_and_score: n[9/9], model_id[split_i=0,train=1733,test=434,classes=4,estimator=Search(n_species=4,n_recs=1.0,classifier='cls=logreg_ovr,solver=liblinear,C=100,class_weight=balanced',random_state=0)]: save[0.008s, 131.6 kB]: ret\n"
    },
    {
     "name": "stdout",
     "output_type": "stream",
     "text": "[00:55:44.082] INFO   _fit_and_score: n[9/9], model_id[split_i=0,train=1733,test=434,classes=4,estimator=Search(n_species=4,n_recs=1.0,classifier='cls=logreg_ovr,solver=liblinear,C=100,class_weight=balanced',random_state=0)]: save: estimator...\n"
    },
    {
     "name": "stdout",
     "output_type": "stream",
     "text": "[00:55:44.106] INFO   _fit_and_score: n[9/9], model_id[split_i=0,train=1733,test=434,classes=4,estimator=Search(n_species=4,n_recs=1.0,classifier='cls=logreg_ovr,solver=liblinear,C=100,class_weight=balanced',random_state=0)]: save[0.022s, 10.5 MB]: estimator\n"
    },
    {
     "name": "stderr",
     "output_type": "stream",
     "text": "[Parallel(n_jobs=8)]: Done   9 out of   9 | elapsed:   22.5s finished\n"
    }
   ],
   "source": [
    "# GridSearchCV many models / model params\n",
    "#   - Order these roughly from most to least expensive, so that training runs fail fast (e.g. oom at the start, not the end)\n",
    "param_grid = list(unique_everseen(tqdm([\n",
    "    dict(\n",
    "        classifier=[classifier],\n",
    "        n_species=[n_species if isinstance(n_species, int) else int(n_species * _recs_stats['sp'])],\n",
    "        n_recs=[\n",
    "            # n_recs if isinstance(n_recs, int) else int(n_recs * _recs_stats['recs']),\n",
    "            # TODO Figure out how to represent this as an n instead of a frac again [TODO interaction with test_size=.2 ...]\n",
    "            #   - TODO Also make clear in the plot descs when e.g. (recs[3360], n_species[33], n_recs[1.0]) -> n_recs[33*20 < 3360]\n",
    "            n_recs,\n",
    "        ],\n",
    "    )\n",
    "    for (n_species, n_recs) in [\n",
    "        # Subset for learning curves\n",
    "        #   - Biggest first, to fail fast\n",
    "\n",
    "        # dan4\n",
    "        (1.00, 0.25),\n",
    "        (1.00, 0.50),\n",
    "        (1.00, 1.00),\n",
    "\n",
    "    ]\n",
    "    for logreg_cls, logreg_solver in [\n",
    "        ('logreg_ovr', 'liblinear'),  # 1 core\n",
    "        # ('ovr-logreg_ovr', 'liblinear'),\n",
    "    ]\n",
    "    for logreg_max_iter in (\n",
    "        [None] if logreg_solver in ['liblinear'] else [\n",
    "            # 800,\n",
    "            3200,\n",
    "            # 6400, 12800,\n",
    "        ]\n",
    "    )\n",
    "    for logreg_C in [\n",
    "        # 1/reg_strength: C=inf is no regularization, smaller C is more regularization (default: 1)\n",
    "        # .0005, .005, .05, .5, 5, 50,\n",
    "        # .0001, .001, .01, .1, 1, 10, 100,\n",
    "        # 1,\n",
    "        # .01, .1, 1,\n",
    "        .01, 1, 100,\n",
    "        # .005, .05, .5,\n",
    "        # .001, .01, .1, 1, 10, 100, 1000,\n",
    "        # .0001, .001, .01, .1, 1,\n",
    "    ]\n",
    "    for logreg_tol in one([tols for solvers, tols in [\n",
    "        # Default: 1e-4\n",
    "        # (['liblinear'], ['.0000000000000001']),  # liblinear keeps going, but only at large C -> unstable coefs\n",
    "        (['sag'], [\n",
    "            # '.01',  # Faster than .001 (~5x) and even more suboptimal. Slower than liblinear, which has ~optimal acc.\n",
    "            # '.001',  # Faster than .0001 (~5x) and a little suboptimal. Maybe useful for quick prototyping.\n",
    "            None,  # Default: .0001, optimal-ish acc\n",
    "        ]),\n",
    "    ] if logreg_solver in solvers] or [[None]])\n",
    "    for logreg_class_weight in [\n",
    "        # None,  # TODO TODO Disabled to reduce noise. Re-enable to ponder the benefits of balance (slight but looks positive)\n",
    "        'balanced',  # No (visually) significant effect with class sizes 0-20 (see class_imbalance notebooks)\n",
    "    ]\n",
    "    for sgdlog_cls in [\n",
    "        # 'sgdlog',  # Acc is less good and more noisy than with std\n",
    "        'std-sgdlog',\n",
    "    ]\n",
    "    for sgdlog_alpha in [\n",
    "        # Multiplier for regularization, and influences learning_rate='optimal' (the default)\n",
    "        # Default: .0001\n",
    "        .0001, .001, .01,\n",
    "        # '.00001', .0001, .001, .01, .1, 1, 10,\n",
    "        # '.0000001', '.000001', '.00001', .0001, .001, .01, .1, 1, 10, 100, 1000,\n",
    "    ]\n",
    "    for sgdlog_tol in [\n",
    "        None,  # Default: .001\n",
    "        # .0001, '.00001',  # TODO TODO No observed improvement (at small scale)\n",
    "    ]\n",
    "    for sgdlog_average in [\n",
    "        None,\n",
    "        # 'true',  # TODO TODO No observed improvement (at small scale)\n",
    "    ]\n",
    "    for sgdlog_class_weight in [logreg_class_weight]\n",
    "    for classifier in [\n",
    "\n",
    "        # Logistic regression\n",
    "        ','.join(x for x in [\n",
    "            f'cls: {logreg_cls}',\n",
    "            f'solver: {logreg_solver}',\n",
    "            '' if logreg_max_iter is None else f'max_iter: {logreg_max_iter}',\n",
    "            '' if logreg_tol is None else f'tol: {logreg_tol}',\n",
    "            f'C: {logreg_C}',\n",
    "            '' if logreg_class_weight is None else f'class_weight: {logreg_class_weight}',\n",
    "        ] if x),\n",
    "\n",
    "        # # Logistic regression via SGD(loss=log)\n",
    "        # ','.join(x for x in [\n",
    "        #     f'cls: {sgdlog_cls}',\n",
    "        #     f'alpha: {sgdlog_alpha}',\n",
    "        #     '' if not sgdlog_tol else f'tol: {sgdlog_tol}',\n",
    "        #     '' if not sgdlog_average else f'average: {sgdlog_average}',\n",
    "        #     '' if sgdlog_class_weight is None else f'class_weight: {sgdlog_class_weight}',\n",
    "        # ] if x),\n",
    "\n",
    "    ]\n",
    "])))\n",
    "\n",
    "# TODO Increase cv to decrease variance in eval metrics (this made Alex extremely squirmy)\n",
    "cv = GridSearchCVCached(\n",
    "    estimator=Search(projection=projection),\n",
    "    param_grid=param_grid,\n",
    "    refit=False,  # Don't spend time fitting cv.best_estimator_ at the end (default: True)\n",
    "    # cv=3,  # [SP14] uses two-/three-fold CV [why?]\n",
    "    # Stratified ensures that all classes have >0 instances in each split, which is statistically maybe fishy but avoids\n",
    "    # breaking various code that merges the split results back together and assumes all splits' classes are the same\n",
    "    cv=sk.model_selection.StratifiedShuffleSplit(\n",
    "        n_splits=1,  # [for ~18/20 miss: ~19m, ~16g disk cache]\n",
    "        # n_splits=2,\n",
    "        # n_splits=3,\n",
    "        # n_splits=5,\n",
    "        # n_splits=10,\n",
    "        # n_splits=20,  # Known good [>51m uncached, >25g disk cache]\n",
    "        # n_splits=100,  # [?m runtime, ?g disk cache]\n",
    "        test_size=.2,\n",
    "        random_state=0,\n",
    "    ),\n",
    "    return_train_score=True,\n",
    "    # return_estimator=True,  # Verrrry heavy, use extra_metrics instead\n",
    "    # recompute_extra_metrics=True,  # Loads estimator.pkl (fast) but doesn't return it (huge)\n",
    "    extra_metrics=dict(\n",
    "        # [How to specify SearchEvals here without creating caching headaches?]\n",
    "        #   - e.g. defs don't bust cache on code edit\n",
    "        #   - And avoid thrashing cache every time we refactor SearchEvals\n",
    "        classes='estimator.classes_',\n",
    "        train_i='train',\n",
    "        train_y='y_train',\n",
    "        train_predict_proba='estimator.classifier_.predict_proba(X_train)',\n",
    "        test_i='test',\n",
    "        test_y='y_test',\n",
    "        test_predict_proba='estimator.classifier_.predict_proba(X_test)',\n",
    "        model_size='len(joblib_dumps(estimator))',\n",
    "        model_stats='model_stats(estimator)',\n",
    "        proc_stats='proc_stats',\n",
    "    ),\n",
    "    # verbose=10,  # O(models * n_splits) lines of outputs\n",
    "    verbose=1,  # O(1) lines of outputs\n",
    "    # Use n_jobs=1\n",
    "    #   - All classifiers can parallelize .fit/.predict\n",
    "    #   - Avoid memory contention\n",
    "    # n_jobs=-1,\n",
    "    # n_jobs=1,  # For %prun, and way faster for 100% loads\n",
    "    # n_jobs=2,\n",
    "    # n_jobs=4,\n",
    "    # n_jobs=6,  # For exactly 6 models\n",
    "    n_jobs=8,  # For slow ovr serdes [why?]\n",
    "    # n_jobs=16,  # For recomputing model_stats\n",
    "    artifacts=dict(\n",
    "        dir=f'{data_dir}/artifacts',  # TODO Iron out syncing across local/gs/remote\n",
    "        save=True,\n",
    "        reuse=f'{experiment_id_prefix}-{countries_k}-{com_names_k}',\n",
    "        # skip_compute_if_missing=True,\n",
    "    ),\n",
    ")\n",
    "with contextlib.ExitStack() as stack:\n",
    "    # stack.enter_context(cache_control(refresh=True))  # Disk unsafe...\n",
    "    stack.enter_context(cache_control(enabled=False))  # Disk safe\n",
    "    # stack.enter_context(joblib.parallel_backend('threading'))  # Default: 'multiprocessing'\n",
    "    # stack.enter_context(joblib.parallel_backend('sequential'))  # For %prun [FIXME Has no effect; why?]\n",
    "    stack.enter_context(log.context(level='info'))\n",
    "    # stack.enter_context(log.context(level='debug'))\n",
    "    X, y = Search.Xy(recs)\n",
    "    cv.fit(X, y)"
   ]
  },
  {
   "cell_type": "code",
   "execution_count": null,
   "metadata": {},
   "outputs": [
    {
     "data": {
      "text/plain": "9"
     },
     "metadata": {},
     "output_type": "display_data",
     "transient": {}
    },
    {
     "data": {
      "text/html": "<table border=\"1\" class=\"dataframe\">\n  <thead>\n    <tr style=\"text-align: right;\">\n      <th></th>\n      <th>model_id</th>\n      <th>params</th>\n      <th>params_dict</th>\n      <th>params_data</th>\n      <th>params_complexity</th>\n      <th>params_model</th>\n      <th>fold</th>\n      <th>train_score</th>\n      <th>test_score</th>\n      <th>fit_time</th>\n      <th>score_time</th>\n      <th>model_size</th>\n      <th>n_species</th>\n      <th>n_recs</th>\n      <th>params_data_and_model</th>\n      <th>params_model_and_complexity</th>\n      <th>train_mean_score</th>\n      <th>train_50p_score</th>\n      <th>train_75p_score</th>\n      <th>train_95p_score</th>\n      <th>test_mean_score</th>\n      <th>test_50p_score</th>\n      <th>test_75p_score</th>\n      <th>test_95p_score</th>\n      <th>cpu_user_time</th>\n      <th>cpu_system_time</th>\n      <th>mem_rss_delta</th>\n      <th>mem_vms_delta</th>\n      <th>cpu_time</th>\n      <th>cpu_time_m</th>\n      <th>c_multiclass</th>\n      <th>c_max_depth</th>\n      <th>n_iters</th>\n      <th>forest_depth_mean</th>\n      <th>forest_depth_std</th>\n      <th>train_evals</th>\n      <th>test_evals</th>\n      <th>proc_stats</th>\n      <th>model_stats</th>\n      <th>model</th>\n    </tr>\n  </thead>\n  <tbody>\n    <tr>\n      <th>0</th>\n      <td><div class=\"not-number\">n_species[4], n_recs[0.25], c_cls[logreg_ovr],c_solver[liblinear],c_C[0.01],c_class_weight[balanced], fold[0]</div></td>\n      <td><div class=\"not-number\">n_species[4], n_recs[0.25], c_cls[logreg_ovr],c_solver[liblinear],c_C[0.01],c_class_weight[balanced]</div></td>\n      <td><div class=\"not-number\">{'n_recs': 0.25, 'n_species': 4, 'c_cls': 'logreg_ovr', 'c_solver': 'liblinear', 'c_C': 0.01, 'c_class_weight': 'balanced'}</div></td>\n      <td><div class=\"not-number\">sp[4], recs[0.25]</div></td>\n      <td><div class=\"not-number\">c_C[0.01]</div></td>\n      <td><div class=\"not-number\">c_cls[logreg_ovr], c_solver[liblinear], c_class_weight[balanced]</div></td>\n      <td>0</td>\n      <td>-1.0</td>\n      <td>-1.0</td>\n      <td>2.22</td>\n      <td>0.014</td>\n      <td>2648854</td>\n      <td>4</td>\n      <td>0.25</td>\n      <td><div class=\"not-number\">sp[4], recs[0.25]\\nc_cls[logreg_ovr], c_solver[liblinear], c_class_weight[balanced]</div></td>\n      <td><div class=\"not-number\">c_cls[logreg_ovr], c_solver[liblinear], c_class_weight[balanced]\\nc_C[0.01]</div></td>\n      <td>-1.42</td>\n      <td>-1.0</td>\n      <td>-2.0</td>\n      <td>-3.0</td>\n      <td>-1.55</td>\n      <td>-1.0</td>\n      <td>-2.0</td>\n      <td>-3.35</td>\n      <td>1.68</td>\n      <td>0.109</td>\n      <td>1.060e+08</td>\n      <td>5.340e+07</td>\n      <td>1.79</td>\n      <td>0.030</td>\n      <td><div class=\"not-number\">None</div></td>\n      <td><div class=\"not-number\">None</div></td>\n      <td>[11]</td>\n      <td><div class=\"not-number\">None</div></td>\n      <td><div class=\"not-number\">None</div></td>\n      <td><div class=\"not-number\">SearchEvals(i[(1733,)], y[(1733,)], classes[(4,)], y_scores[(1733, 4)])</div></td>\n      <td><div class=\"not-number\">SearchEvals(i[(434,)], y[(434,)], classes[(4,)], y_scores[(434, 4)])</div></td>\n      <td><div class=\"not-number\">ProcStats(interval=1.0, stats[3])</div></td>\n      <td><div class=\"not-number\">            type class_  n_iter\\n0  search/logreg      *      11</div></td>\n      <td>NaN</td>\n    </tr>\n    <tr>\n      <th>1</th>\n      <td><div class=\"not-number\">n_species[4], n_recs[0.25], c_cls[logreg_ovr],c_solver[liblinear],c_C[1],c_class_weight[balanced], fold[0]</div></td>\n      <td><div class=\"not-number\">n_species[4], n_recs[0.25], c_cls[logreg_ovr],c_solver[liblinear],c_C[1],c_class_weight[balanced]</div></td>\n      <td><div class=\"not-number\">{'n_recs': 0.25, 'n_species': 4, 'c_cls': 'logreg_ovr', 'c_solver': 'liblinear', 'c_C': 1, 'c_class_weight': 'balanced'}</div></td>\n      <td><div class=\"not-number\">sp[4], recs[0.25]</div></td>\n      <td><div class=\"not-number\">c_C[1]</div></td>\n      <td><div class=\"not-number\">c_cls[logreg_ovr], c_solver[liblinear], c_class_weight[balanced]</div></td>\n      <td>0</td>\n      <td>-1.0</td>\n      <td>-1.0</td>\n      <td>3.35</td>\n      <td>0.024</td>\n      <td>2648844</td>\n      <td>4</td>\n      <td>0.25</td>\n      <td><div class=\"not-number\">sp[4], recs[0.25]\\nc_cls[logreg_ovr], c_solver[liblinear], c_class_weight[balanced]</div></td>\n      <td><div class=\"not-number\">c_cls[logreg_ovr], c_solver[liblinear], c_class_weight[balanced]\\nc_C[1]</div></td>\n      <td>-1.43</td>\n      <td>-1.0</td>\n      <td>-2.0</td>\n      <td>-3.0</td>\n      <td>-1.57</td>\n      <td>-1.0</td>\n      <td>-2.0</td>\n      <td>-4.00</td>\n      <td>2.63</td>\n      <td>0.108</td>\n      <td>1.090e+08</td>\n      <td>4.680e+07</td>\n      <td>2.73</td>\n      <td>0.046</td>\n      <td><div class=\"not-number\">None</div></td>\n      <td><div class=\"not-number\">None</div></td>\n      <td>[16]</td>\n      <td><div class=\"not-number\">None</div></td>\n      <td><div class=\"not-number\">None</div></td>\n      <td><div class=\"not-number\">SearchEvals(i[(1733,)], y[(1733,)], classes[(4,)], y_scores[(1733, 4)])</div></td>\n      <td><div class=\"not-number\">SearchEvals(i[(434,)], y[(434,)], classes[(4,)], y_scores[(434, 4)])</div></td>\n      <td><div class=\"not-number\">ProcStats(interval=1.0, stats[4])</div></td>\n      <td><div class=\"not-number\">            type class_  n_iter\\n0  search/logreg      *      16</div></td>\n      <td>NaN</td>\n    </tr>\n    <tr>\n      <th>2</th>\n      <td><div class=\"not-number\">n_species[4], n_recs[0.25], c_cls[logreg_ovr],c_solver[liblinear],c_C[100],c_class_weight[balanced], fold[0]</div></td>\n      <td><div class=\"not-number\">n_species[4], n_recs[0.25], c_cls[logreg_ovr],c_solver[liblinear],c_C[100],c_class_weight[balanced]</div></td>\n      <td><div class=\"not-number\">{'n_recs': 0.25, 'n_species': 4, 'c_cls': 'logreg_ovr', 'c_solver': 'liblinear', 'c_C': 100, 'c_class_weight': 'balanced'}</div></td>\n      <td><div class=\"not-number\">sp[4], recs[0.25]</div></td>\n      <td><div class=\"not-number\">c_C[100]</div></td>\n      <td><div class=\"not-number\">c_cls[logreg_ovr], c_solver[liblinear], c_class_weight[balanced]</div></td>\n      <td>0</td>\n      <td>-1.0</td>\n      <td>-1.0</td>\n      <td>3.67</td>\n      <td>0.011</td>\n      <td>2648846</td>\n      <td>4</td>\n      <td>0.25</td>\n      <td><div class=\"not-number\">sp[4], recs[0.25]\\nc_cls[logreg_ovr], c_solver[liblinear], c_class_weight[balanced]</div></td>\n      <td><div class=\"not-number\">c_cls[logreg_ovr], c_solver[liblinear], c_class_weight[balanced]\\nc_C[100]</div></td>\n      <td>-1.45</td>\n      <td>-1.0</td>\n      <td>-2.0</td>\n      <td>-3.0</td>\n      <td>-1.57</td>\n      <td>-1.0</td>\n      <td>-2.0</td>\n      <td>-4.00</td>\n      <td>2.89</td>\n      <td>0.108</td>\n      <td>9.730e+07</td>\n      <td>4.710e+07</td>\n      <td>3.00</td>\n      <td>0.050</td>\n      <td><div class=\"not-number\">None</div></td>\n      <td><div class=\"not-number\">None</div></td>\n      <td>[19]</td>\n      <td><div class=\"not-number\">None</div></td>\n      <td><div class=\"not-number\">None</div></td>\n      <td><div class=\"not-number\">SearchEvals(i[(1733,)], y[(1733,)], classes[(4,)], y_scores[(1733, 4)])</div></td>\n      <td><div class=\"not-number\">SearchEvals(i[(434,)], y[(434,)], classes[(4,)], y_scores[(434, 4)])</div></td>\n      <td><div class=\"not-number\">ProcStats(interval=1.0, stats[4])</div></td>\n      <td><div class=\"not-number\">            type class_  n_iter\\n0  search/logreg      *      19</div></td>\n      <td>NaN</td>\n    </tr>\n    <tr>\n      <th>3</th>\n      <td><div class=\"not-number\">n_species[4], n_recs[0.5], c_cls[logreg_ovr],c_solver[liblinear],c_C[0.01],c_class_weight[balanced], fold[0]</div></td>\n      <td><div class=\"not-number\">n_species[4], n_recs[0.5], c_cls[logreg_ovr],c_solver[liblinear],c_C[0.01],c_class_weight[balanced]</div></td>\n      <td><div class=\"not-number\">{'n_recs': 0.5, 'n_species': 4, 'c_cls': 'logreg_ovr', 'c_solver': 'liblinear', 'c_C': 0.01, 'c_class_weight': 'balanced'}</div></td>\n      <td><div class=\"not-number\">sp[4], recs[0.5]</div></td>\n      <td><div class=\"not-number\">c_C[0.01]</div></td>\n      <td><div class=\"not-number\">c_cls[logreg_ovr], c_solver[liblinear], c_class_weight[balanced]</div></td>\n      <td>0</td>\n      <td>-1.0</td>\n      <td>-1.0</td>\n      <td>4.41</td>\n      <td>0.009</td>\n      <td>5253782</td>\n      <td>4</td>\n      <td>0.50</td>\n      <td><div class=\"not-number\">sp[4], recs[0.5]\\nc_cls[logreg_ovr], c_solver[liblinear], c_class_weight[balanced]</div></td>\n      <td><div class=\"not-number\">c_cls[logreg_ovr], c_solver[liblinear], c_class_weight[balanced]\\nc_C[0.01]</div></td>\n      <td>-1.30</td>\n      <td>-1.0</td>\n      <td>-1.0</td>\n      <td>-3.0</td>\n      <td>-1.47</td>\n      <td>-1.0</td>\n      <td>-2.0</td>\n      <td>-3.00</td>\n      <td>3.50</td>\n      <td>0.132</td>\n      <td>1.060e+08</td>\n      <td>2.830e+07</td>\n      <td>3.64</td>\n      <td>0.061</td>\n      <td><div class=\"not-number\">None</div></td>\n      <td><div class=\"not-number\">None</div></td>\n      <td>[14]</td>\n      <td><div class=\"not-number\">None</div></td>\n      <td><div class=\"not-number\">None</div></td>\n      <td><div class=\"not-number\">SearchEvals(i[(1733,)], y[(1733,)], classes[(4,)], y_scores[(1733, 4)])</div></td>\n      <td><div class=\"not-number\">SearchEvals(i[(434,)], y[(434,)], classes[(4,)], y_scores[(434, 4)])</div></td>\n      <td><div class=\"not-number\">ProcStats(interval=1.0, stats[5])</div></td>\n      <td><div class=\"not-number\">            type class_  n_iter\\n0  search/logreg      *      14</div></td>\n      <td>NaN</td>\n    </tr>\n    <tr>\n      <th>4</th>\n      <td><div class=\"not-number\">n_species[4], n_recs[0.5], c_cls[logreg_ovr],c_solver[liblinear],c_C[1],c_class_weight[balanced], fold[0]</div></td>\n      <td><div class=\"not-number\">n_species[4], n_recs[0.5], c_cls[logreg_ovr],c_solver[liblinear],c_C[1],c_class_weight[balanced]</div></td>\n      <td><div class=\"not-number\">{'n_recs': 0.5, 'n_species': 4, 'c_cls': 'logreg_ovr', 'c_solver': 'liblinear', 'c_C': 1, 'c_class_weight': 'balanced'}</div></td>\n      <td><div class=\"not-number\">sp[4], recs[0.5]</div></td>\n      <td><div class=\"not-number\">c_C[1]</div></td>\n      <td><div class=\"not-number\">c_cls[logreg_ovr], c_solver[liblinear], c_class_weight[balanced]</div></td>\n      <td>0</td>\n      <td>-1.0</td>\n      <td>-1.0</td>\n      <td>7.19</td>\n      <td>0.007</td>\n      <td>5253772</td>\n      <td>4</td>\n      <td>0.50</td>\n      <td><div class=\"not-number\">sp[4], recs[0.5]\\nc_cls[logreg_ovr], c_solver[liblinear], c_class_weight[balanced]</div></td>\n      <td><div class=\"not-number\">c_cls[logreg_ovr], c_solver[liblinear], c_class_weight[balanced]\\nc_C[1]</div></td>\n      <td>-1.26</td>\n      <td>-1.0</td>\n      <td>-1.0</td>\n      <td>-3.0</td>\n      <td>-1.48</td>\n      <td>-1.0</td>\n      <td>-2.0</td>\n      <td>-3.00</td>\n      <td>6.36</td>\n      <td>0.159</td>\n      <td>1.190e+08</td>\n      <td>5.510e+07</td>\n      <td>6.51</td>\n      <td>0.109</td>\n      <td><div class=\"not-number\">None</div></td>\n      <td><div class=\"not-number\">None</div></td>\n      <td>[22]</td>\n      <td><div class=\"not-number\">None</div></td>\n      <td><div class=\"not-number\">None</div></td>\n      <td><div class=\"not-number\">SearchEvals(i[(1733,)], y[(1733,)], classes[(4,)], y_scores[(1733, 4)])</div></td>\n      <td><div class=\"not-number\">SearchEvals(i[(434,)], y[(434,)], classes[(4,)], y_scores[(434, 4)])</div></td>\n      <td><div class=\"not-number\">ProcStats(interval=1.0, stats[8])</div></td>\n      <td><div class=\"not-number\">            type class_  n_iter\\n0  search/logreg      *      22</div></td>\n      <td>NaN</td>\n    </tr>\n  </tbody>\n</table>",
      "text/plain": "                                                                                                        model_id                                                                                                params                                                                                                                  params_dict        params_data params_complexity                                                      params_model  fold  train_score  test_score  fit_time  score_time  model_size  n_species  n_recs                                                                params_data_and_model                                                  params_model_and_complexity  train_mean_score  train_50p_score  train_75p_score  train_95p_score  test_mean_score  test_50p_score  test_75p_score  test_95p_score  cpu_user_time  cpu_system_time  mem_rss_delta  mem_vms_delta  cpu_time  cpu_time_m c_multiclass c_max_depth n_iters forest_depth_mean forest_depth_std                                                              train_evals                                                            test_evals                         proc_stats                                                      model_stats  model\n0  n_species[4], n_recs[0.25], c_cls[logreg_ovr],c_solver[liblinear],c_C[0.01],c_class_weight[balanced], fold[0]  n_species[4], n_recs[0.25], c_cls[logreg_ovr],c_solver[liblinear],c_C[0.01],c_class_weight[balanced]  {'n_recs': 0.25, 'n_species': 4, 'c_cls': 'logreg_ovr', 'c_solver': 'liblinear', 'c_C': 0.01, 'c_class_weight': 'balanced'}  sp[4], recs[0.25]         c_C[0.01]  c_cls[logreg_ovr], c_solver[liblinear], c_class_weight[balanced]     0         -1.0        -1.0     2.222       0.014     2648854          4    0.25  sp[4], recs[0.25]\\nc_cls[logreg_ovr], c_solver[liblinear], c_class_weight[balanced]  c_cls[logreg_ovr], c_solver[liblinear], c_class_weight[balanced]\\nc_C[0.01]            -1.418             -1.0             -2.0             -3.0           -1.553            -1.0            -2.0           -3.35          1.681            0.109      1.064e+08      5.338e+07     1.790       0.030         None        None    [11]              None             None  SearchEvals(i[(1733,)], y[(1733,)], classes[(4,)], y_scores[(1733, 4)])  SearchEvals(i[(434,)], y[(434,)], classes[(4,)], y_scores[(434, 4)])  ProcStats(interval=1.0, stats[3])              type class_  n_iter\n0  search/logreg      *      11    NaN\n1     n_species[4], n_recs[0.25], c_cls[logreg_ovr],c_solver[liblinear],c_C[1],c_class_weight[balanced], fold[0]     n_species[4], n_recs[0.25], c_cls[logreg_ovr],c_solver[liblinear],c_C[1],c_class_weight[balanced]     {'n_recs': 0.25, 'n_species': 4, 'c_cls': 'logreg_ovr', 'c_solver': 'liblinear', 'c_C': 1, 'c_class_weight': 'balanced'}  sp[4], recs[0.25]            c_C[1]  c_cls[logreg_ovr], c_solver[liblinear], c_class_weight[balanced]     0         -1.0        -1.0     3.350       0.024     2648844          4    0.25  sp[4], recs[0.25]\\nc_cls[logreg_ovr], c_solver[liblinear], c_class_weight[balanced]     c_cls[logreg_ovr], c_solver[liblinear], c_class_weight[balanced]\\nc_C[1]            -1.428             -1.0             -2.0             -3.0           -1.567            -1.0            -2.0           -4.00          2.626            0.108      1.086e+08      4.683e+07     2.734       0.046         None        None    [16]              None             None  SearchEvals(i[(1733,)], y[(1733,)], classes[(4,)], y_scores[(1733, 4)])  SearchEvals(i[(434,)], y[(434,)], classes[(4,)], y_scores[(434, 4)])  ProcStats(interval=1.0, stats[4])              type class_  n_iter\n0  search/logreg      *      16    NaN\n2   n_species[4], n_recs[0.25], c_cls[logreg_ovr],c_solver[liblinear],c_C[100],c_class_weight[balanced], fold[0]   n_species[4], n_recs[0.25], c_cls[logreg_ovr],c_solver[liblinear],c_C[100],c_class_weight[balanced]   {'n_recs': 0.25, 'n_species': 4, 'c_cls': 'logreg_ovr', 'c_solver': 'liblinear', 'c_C': 100, 'c_class_weight': 'balanced'}  sp[4], recs[0.25]          c_C[100]  c_cls[logreg_ovr], c_solver[liblinear], c_class_weight[balanced]     0         -1.0        -1.0     3.673       0.011     2648846          4    0.25  sp[4], recs[0.25]\\nc_cls[logreg_ovr], c_solver[liblinear], c_class_weight[balanced]   c_cls[logreg_ovr], c_solver[liblinear], c_class_weight[balanced]\\nc_C[100]            -1.448             -1.0             -2.0             -3.0           -1.571            -1.0            -2.0           -4.00          2.888            0.108      9.733e+07      4.709e+07     2.996       0.050         None        None    [19]              None             None  SearchEvals(i[(1733,)], y[(1733,)], classes[(4,)], y_scores[(1733, 4)])  SearchEvals(i[(434,)], y[(434,)], classes[(4,)], y_scores[(434, 4)])  ProcStats(interval=1.0, stats[4])              type class_  n_iter\n0  search/logreg      *      19    NaN\n3   n_species[4], n_recs[0.5], c_cls[logreg_ovr],c_solver[liblinear],c_C[0.01],c_class_weight[balanced], fold[0]   n_species[4], n_recs[0.5], c_cls[logreg_ovr],c_solver[liblinear],c_C[0.01],c_class_weight[balanced]   {'n_recs': 0.5, 'n_species': 4, 'c_cls': 'logreg_ovr', 'c_solver': 'liblinear', 'c_C': 0.01, 'c_class_weight': 'balanced'}   sp[4], recs[0.5]         c_C[0.01]  c_cls[logreg_ovr], c_solver[liblinear], c_class_weight[balanced]     0         -1.0        -1.0     4.405       0.009     5253782          4    0.50   sp[4], recs[0.5]\\nc_cls[logreg_ovr], c_solver[liblinear], c_class_weight[balanced]  c_cls[logreg_ovr], c_solver[liblinear], c_class_weight[balanced]\\nc_C[0.01]            -1.297             -1.0             -1.0             -3.0           -1.468            -1.0            -2.0           -3.00          3.505            0.132      1.055e+08      2.832e+07     3.637       0.061         None        None    [14]              None             None  SearchEvals(i[(1733,)], y[(1733,)], classes[(4,)], y_scores[(1733, 4)])  SearchEvals(i[(434,)], y[(434,)], classes[(4,)], y_scores[(434, 4)])  ProcStats(interval=1.0, stats[5])              type class_  n_iter\n0  search/logreg      *      14    NaN\n4      n_species[4], n_recs[0.5], c_cls[logreg_ovr],c_solver[liblinear],c_C[1],c_class_weight[balanced], fold[0]      n_species[4], n_recs[0.5], c_cls[logreg_ovr],c_solver[liblinear],c_C[1],c_class_weight[balanced]      {'n_recs': 0.5, 'n_species': 4, 'c_cls': 'logreg_ovr', 'c_solver': 'liblinear', 'c_C': 1, 'c_class_weight': 'balanced'}   sp[4], recs[0.5]            c_C[1]  c_cls[logreg_ovr], c_solver[liblinear], c_class_weight[balanced]     0         -1.0        -1.0     7.190       0.007     5253772          4    0.50   sp[4], recs[0.5]\\nc_cls[logreg_ovr], c_solver[liblinear], c_class_weight[balanced]     c_cls[logreg_ovr], c_solver[liblinear], c_class_weight[balanced]\\nc_C[1]            -1.261             -1.0             -1.0             -3.0           -1.482            -1.0            -2.0           -3.00          6.355            0.159      1.190e+08      5.505e+07     6.514       0.109         None        None    [22]              None             None  SearchEvals(i[(1733,)], y[(1733,)], classes[(4,)], y_scores[(1733, 4)])  SearchEvals(i[(434,)], y[(434,)], classes[(4,)], y_scores[(434, 4)])  ProcStats(interval=1.0, stats[8])              type class_  n_iter\n0  search/logreg      *      22    NaN"
     },
     "metadata": {},
     "output_type": "display_data",
     "transient": {}
    }
   ],
   "source": [
    "# Precompute eval metrics + dims for the plots below\n",
    "#   - Grain: models\n",
    "#   - Metrics: train_score, test_score, ...\n",
    "#   - Dims: model_id, fold, params_data, params_complexity, params_model, ...\n",
    "facet = (\n",
    "    facet_wrap('params_data_and_model')\n",
    "    # facet_grid('params_data ~ params_model')\n",
    "    # facet_grid('params_model ~ params_data')\n",
    "    # facet_grid('n_recs ~ n_species', labeller='label_both')\n",
    ")\n",
    "figsize_width = 12 * 1\n",
    "theme_ = (\n",
    "    # geom_blank()\n",
    "    theme(strip_text_x=element_text(angle=5))\n",
    "    # theme(strip_text_y=element_text(angle=-85))\n",
    ")\n",
    "# FIXME Default theme_gray() plots non-transparent bg, but theme_minimal() reverts back to transparent bg\n",
    "theme_minimal_white = lambda *args, **kwargs: theme_minimal(*args, **kwargs) + theme(plot_background=element_rect('white'))\n",
    "ks_params_data = {\n",
    "    'n_species': 'sp',\n",
    "    'n_recs': 'recs',\n",
    "    # 'c_tol': 'c_tol',  # TODO TODO Ad-hoc\n",
    "}\n",
    "ks_params_complexity = [\n",
    "    # 'c_n_estimators',\n",
    "    'c_max_depth',\n",
    "    'c_C',\n",
    "    'c_alpha',\n",
    "    # 'c_class_weight',\n",
    "]\n",
    "# params_model = ...  # Everything else\n",
    "# log.debug('Start')\n",
    "cv_models = (cv_results_splits_df(cv.cv_results_)\n",
    "    # Slow yaml parsing, compute up front\n",
    "    .assign(params_dict=lambda df: df.apply(axis=1, func=lambda row: dict(\n",
    "        **{strip_startswith(k, 'param_'): row[k] for k in df if k.startswith('param_') and k not in ['param_classifier']},\n",
    "        # HACK 'classifier.foo' -> 'c_foo'\n",
    "        #   - TODO Refactor Search.classifier to get rid of the yaml strs ('c_cls', 'c_n_estimators', ...)\n",
    "        **{'c_' + k: v for k, v in yaml.safe_load('{%s}' % row.param_classifier).items()},\n",
    "        # 'classifier': yaml.safe_load('{%s}' % row.param_classifier),\n",
    "    )))\n",
    "    [lambda df: [c for c in df if not c.startswith('param_')]]\n",
    "    # Dims from params (for validation curves, learning curves, etc.)\n",
    "    .assign(\n",
    "        n_species=lambda df: df.params_dict.apply(lambda d: d['n_species']),\n",
    "        n_recs=lambda df: df.params_dict.apply(lambda d: d['n_recs']),\n",
    "        params_data=lambda df: df.params_dict.apply(lambda d: ', '.join(\n",
    "            '%s[%s]' % (k_abbrev, d[k]) for k, k_abbrev in ks_params_data.items() if k in d\n",
    "        )),\n",
    "        params_complexity=lambda df: df.params_dict.apply(lambda d: ', '.join(\n",
    "            '%s[%s]' % (k, d[k]) for k in ks_params_complexity if k in d\n",
    "        )),\n",
    "        params_model=lambda df: df.params_dict.apply(lambda d: ', '.join(\n",
    "            '%s[%s]' % (k, d[k]) for k in d if k not in list(ks_params_data) + ks_params_complexity\n",
    "        )),\n",
    "        params_data_and_model=lambda df: df.apply(axis=1, func=lambda row: (\n",
    "            '\\n'.join([row.params_data, row.params_model])\n",
    "        )),\n",
    "        params_model_and_complexity=lambda df: df.apply(axis=1, func=lambda row: (\n",
    "            '\\n'.join([row.params_model, row.params_complexity])\n",
    "        )),\n",
    "    )\n",
    "    # HACK Convert yaml strs ('x: y') to bracket style ('x[y]'), for visual consistency\n",
    "    #   - TODO Refactor Search.classifier to get rid of the yaml strs ('c_cls', 'c_n_estimators', ...)\n",
    "    .applymap(lambda x: x if not isinstance(x, str) else (\n",
    "        re.sub(r'([^][:, ]+):\\s+([^][:,]+)(, )?', r'c_\\1[\\2]\\3',\n",
    "            re.sub(r'classifier\\[([^]]+)\\]', r'\\1',\n",
    "                x,\n",
    "            ),\n",
    "        )\n",
    "    ))\n",
    "    #   - Restore the cats we just destroyed [copied from cv_results_splits_df]\n",
    "    .pipe(df_ordered_cat,\n",
    "        model_id=lambda df: df.model_id.unique(),\n",
    "        params=lambda df: df.params.unique(),\n",
    "        # Order params_data by (sp, recs) descending\n",
    "        params_data=lambda df: sorted(\n",
    "            df.params_data.unique(),\n",
    "            reverse=True,\n",
    "            key=lambda s: [parse.parse('{}[{:g}]', t).fixed for t in s.split(', ')],\n",
    "        ),\n",
    "        # Order params_complexity like c_max_depth\n",
    "        params_complexity=lambda df: sorted(\n",
    "            df.params_complexity.unique(),\n",
    "            reverse=True,  # Match how the normal .unique() would come out (not clear why, and don't care)\n",
    "            key=lambda s: one(\n",
    "                (x['name'], or_else(-np.inf, lambda: float({'None': 'inf'}.get(x['value'], x['value']))))\n",
    "                for x in [\n",
    "                    parse.search('{name}[{value}]', s) or  # Parses first match, ignores rest\n",
    "                    {'name': 'unk', 'value': None}\n",
    "                ]\n",
    "            ),\n",
    "        ),\n",
    "        params_model=lambda df: df.params_model.unique(),\n",
    "    )\n",
    "    .pipe(df_ordered_cat,\n",
    "        params_data_and_model=lambda df: (df\n",
    "            .sort_values(['params_data', 'params_model']).params_data_and_model.unique()\n",
    "        ),\n",
    "        params_model_and_complexity=lambda df: (df\n",
    "            .sort_values(['params_model', 'params_complexity']).params_model_and_complexity.unique()\n",
    "        ),\n",
    "    )\n",
    "    # .eval\n",
    "    .assign(\n",
    "        train_evals=lambda df: np.vectorize(SearchEvals)(\n",
    "            i=df.pop('train_i'),\n",
    "            y=df.pop('train_y'),\n",
    "            classes=df['classes'],\n",
    "            y_scores=df.pop('train_predict_proba'),\n",
    "            drop_missing_classes_for_n_species=True,  # HACK Migrate to sk Pipeline to avoid this\n",
    "        ),\n",
    "        test_evals=lambda df: np.vectorize(SearchEvals)(\n",
    "            i=df.pop('test_i'),\n",
    "            y=df.pop('test_y'),\n",
    "            classes=df['classes'],\n",
    "            y_scores=df.pop('test_predict_proba'),\n",
    "            drop_missing_classes_for_n_species=True,  # HACK Migrate to sk Pipeline to avoid this\n",
    "        ),\n",
    "    )\n",
    "    # .pipe(tap, f=lambda df: log.debug('SearchEvals.score'))\n",
    "    .assign(\n",
    "        # HACK Recompute (train_score, test_score) using SearchEvals.score so it can drop_missing_classes_for_n_species\n",
    "        #   - Else you'll get scores that are too low (bad) because they include some -np.inf's in the median\n",
    "        train_score=lambda df: df.train_evals.map(lambda x: x.score()),\n",
    "        train_mean_score=lambda df: df.train_evals.map(lambda x: x.score(agg=np.mean)),\n",
    "        train_50p_score=lambda df: df.train_evals.map(lambda x: x.score(agg=partial(np.percentile, q=50))),\n",
    "        train_75p_score=lambda df: df.train_evals.map(lambda x: x.score(agg=partial(np.percentile, q=75))),\n",
    "        train_95p_score=lambda df: df.train_evals.map(lambda x: x.score(agg=partial(np.percentile, q=95))),\n",
    "        test_score=lambda df: df.test_evals.map(lambda x: x.score()),  # (= 50p)\n",
    "        test_mean_score=lambda df: df.test_evals.map(lambda x: x.score(agg=np.mean)),\n",
    "        test_50p_score=lambda df: df.test_evals.map(lambda x: x.score(agg=partial(np.percentile, q=50))),\n",
    "        test_75p_score=lambda df: df.test_evals.map(lambda x: x.score(agg=partial(np.percentile, q=75))),\n",
    "        test_95p_score=lambda df: df.test_evals.map(lambda x: x.score(agg=partial(np.percentile, q=95))),\n",
    "        # train_score=lambda df: map_progress(lambda x: x.score(), df.train_evals, use='dask', scheduler='threads'),\n",
    "        # test_score=lambda df: map_progress(lambda x: x.score(), df.test_evals, use='dask', scheduler='threads'),\n",
    "    )\n",
    "    .drop(columns=[\n",
    "        'classes',\n",
    "    ])\n",
    "    # proc_stats\n",
    "    # .pipe(tap, f=lambda df: log.debug('proc_stats'))\n",
    "    .pipe(lambda df: df.join(df\n",
    "        .apply(axis=1, func=lambda row: (row.proc_stats.stats\n",
    "            .groupby('pid')[['cpu_user', 'cpu_system', 'mem_rss', 'mem_vms']].agg(lambda g: g.max() - g.min())\n",
    "            .sum(axis=0)\n",
    "        ))\n",
    "        .rename(columns={\n",
    "            'cpu_user': 'cpu_user_time',\n",
    "            'cpu_system': 'cpu_system_time',\n",
    "            'mem_rss': 'mem_rss_delta',\n",
    "            'mem_vms': 'mem_vms_delta',\n",
    "        })\n",
    "    ))\n",
    "    .assign(\n",
    "        cpu_time=lambda df: df.cpu_user_time + df.cpu_system_time,\n",
    "        cpu_time_m=lambda df: df.cpu_time / 60,  # s -> m\n",
    "    )\n",
    "    # For xgb_rf, rf, ovr-rf\n",
    "    .assign(\n",
    "        c_multiclass=lambda df: df.params_dict.str.get('c_multiclass'),\n",
    "        c_max_depth=lambda df: df.params_dict.str.get('c_max_depth'),\n",
    "        # c_rf_max_depth=lambda df: df.apply(axis=1, func=lambda row: (\n",
    "        #     row['c_max_depth'] * (10 if row['c_multiclass'] == 'ovr' else 1)  # HACK Undo rf_max_depth -> ovr_rf_max_depth\n",
    "        # )),\n",
    "    )\n",
    "    # model_stats\n",
    "    .assign(\n",
    "        n_iters=lambda df: df.model_stats.map(lambda stats: or_else(None, lambda: stats.n_iter.tolist())),\n",
    "        forest_depth_mean=lambda df: df.model_stats.map(lambda stats: or_else(None, lambda: stats.depth.mean())),\n",
    "        forest_depth_std=lambda df: df.model_stats.map(lambda stats: or_else(None, lambda: stats.depth.std())),\n",
    "    )\n",
    "    # Reorder\n",
    "    .pipe(df_reorder_cols,\n",
    "        first=['model_id', 'params', 'params_dict', 'params_data', 'params_complexity', 'params_model'],\n",
    "        last=['train_evals', 'test_evals', 'proc_stats', 'model_stats', 'model'],\n",
    "    )\n",
    "    # .pipe(tap, f=lambda df: log.debug('display'))\n",
    "    .pipe(tap, f=lambda df: display(\n",
    "        # df_summary(df).T,\n",
    "        # df,\n",
    "        len(df),\n",
    "        df[:5],\n",
    "    ))\n",
    "    # .pipe(tap, f=lambda df: log.debug('Done'))\n",
    ")"
   ]
  },
  {
   "cell_type": "code",
   "execution_count": null,
   "metadata": {
    "time": "1.789s"
   },
   "outputs": [
    {
     "data": {
      "image/png": "[encoded data removed]",
      "text/plain": "<matplotlib.figure.Figure object at 0x11e437a20>"
     },
     "metadata": {
      "image/png": {
       "height": 223,
       "width": 821
      }
     },
     "output_type": "display_data",
     "transient": {}
    },
    {
     "data": {
      "text/html": " ",
      "text/plain": "<ggplot: (-9223372036543709552)>"
     },
     "execution_count": 106,
     "metadata": {},
     "output_type": "execute_result"
    }
   ],
   "source": [
    "# Train/test scores\n",
    "#   - Grain: models x {train,test}\n",
    "#   - Metrics: score\n",
    "#   - Dims: group, params\n",
    "metrics = [\n",
    "    'train_mean_score', 'test_mean_score',\n",
    "    'train_50p_score', 'test_50p_score',\n",
    "    'train_75p_score', 'test_75p_score',\n",
    "    'train_95p_score', 'test_95p_score',\n",
    "]\n",
    "(cv_models\n",
    "    .pipe(df_reverse_cat, 'params_complexity')\n",
    "    .pipe(lambda df: pd.melt(df,\n",
    "        id_vars=[\n",
    "            'params', 'params_data', 'params_model', 'params_complexity',\n",
    "            'params_data_and_model', 'params_model_and_complexity',\n",
    "            'n_species', 'n_recs',\n",
    "            'fold',\n",
    "        ],\n",
    "        value_vars=metrics,\n",
    "        var_name='split_metric',\n",
    "        value_name='score'),\n",
    "    )\n",
    "    .assign(\n",
    "        split_metric=lambda df: df.split_metric.str.replace('_score', ''),\n",
    "        split=lambda df: df.split_metric.str.split('_').str[0],\n",
    "        metric=lambda df: df.split_metric.str.split('_').str[1],\n",
    "        group=lambda df: df.params_complexity.str.cat(df.split_metric, '/'),\n",
    "    )\n",
    "    .pipe(df_ordered_cat,\n",
    "        split_metric=[strip_endswith(x, '_score') for x in metrics],\n",
    "        group=lambda df: reversed(df.group.unique()),\n",
    "    )\n",
    "    .pipe(lambda df: (df\n",
    "        .pipe(ggplot)\n",
    "        + aes(x='params_complexity')\n",
    "        + aes(y='score')\n",
    "        + aes(color='metric')\n",
    "        # + facet_grid('params_data ~ params_model')\n",
    "        + facet + theme_\n",
    "        + geom_hline(yintercept=-1, color='lightgrey')  # -1 is the max score (1 is the min coverage_error)\n",
    "        + geom_point(df[df.split == 'train'], alpha=.3, fill='none')\n",
    "        + geom_point(df[df.split == 'test'], alpha=.8)\n",
    "        + geom_line(df[df.split == 'train'], alpha=.3, mapping=aes(group='split_metric', color='metric'))\n",
    "        + geom_line(df[df.split == 'test'], alpha=.8, mapping=aes(group='split_metric', color='metric'))\n",
    "        # TODO How to manually add a legend that shows test:filled, train:unfilled?\n",
    "        # + geom_jitter(fill='none', size=3, height=1e-9, width=.05)\n",
    "        # + geom_count(aes(size='..n..')) + scale_size_area()\n",
    "        # + stat_summary(aes(group='group'), fun_data='mean_cl_boot', random_state=0, geom='errorbar')\n",
    "        + coord_flip(\n",
    "            # ylim=(-40, 0),\n",
    "        )\n",
    "        # + scale_y_continuous(breaks=np.arange(-10, 0))  # TODO TODO XXX\n",
    "        + scale_color_cmap_d('Set1')\n",
    "        + theme_figsize(width=figsize_width, aspect_ratio=1/1.5)\n",
    "        + ylab('score (-coverage_error)')\n",
    "        + ggtitle(f'Train/test scores ({recs_stats})')\n",
    "    ))\n",
    ")"
   ]
  },
  {
   "cell_type": "code",
   "execution_count": null,
   "metadata": {
    "skip": true
   },
   "outputs": [
    {
     "name": "stdout",
     "output_type": "stream",
     "text": "[skip]"
    }
   ],
   "source": [
    "(cv_models\n",
    "    .pipe(ggplot)\n",
    "    + aes(x='cpu_time_m')\n",
    "    + aes(color='params_complexity')\n",
    "    + facet + theme_\n",
    "    + geom_line(aes(y='train_mean_score'), alpha=.3, color='darkgray')\n",
    "    + geom_line(aes(y='test_mean_score'), alpha=.8, color='darkgray')\n",
    "    + geom_point(aes(y='train_mean_score'), alpha=.3, fill='none')\n",
    "    + geom_point(aes(y='test_mean_score'), alpha=.8)\n",
    "    + geom_hline(yintercept=0, color='grey')\n",
    "    + expand_limits(x=0)\n",
    "    + coord_flip(\n",
    "        # + ylim(-30, 0)\n",
    "    )\n",
    "    + scale_color_cmap_d(mpl_cmap_concat('tab20', 'tab20b', 'tab20c'))\n",
    "    + guides(color=guide_legend(ncol=1)) + theme(legend_position='right', legend_box_spacing=.4, legend_key_height=8)\n",
    "    + theme_figsize(width=figsize_width, aspect_ratio=1/1.5)\n",
    "    + ggtitle('mean_score ~ cpu_time_m')\n",
    ")"
   ]
  },
  {
   "cell_type": "code",
   "execution_count": null,
   "metadata": {
    "skip": true
   },
   "outputs": [
    {
     "name": "stdout",
     "output_type": "stream",
     "text": "[skip]"
    }
   ],
   "source": [
    "(cv_models\n",
    "    .pipe(ggplot)\n",
    "    + aes(x='cpu_time_m')\n",
    "    + aes(color='params_complexity')\n",
    "    + facet + theme_\n",
    "    + geom_line(aes(y='train_75p_score'), alpha=.3, color='darkgray')\n",
    "    + geom_line(aes(y='test_75p_score'), alpha=.8, color='darkgray')\n",
    "    + geom_point(aes(y='train_75p_score'), alpha=.3, fill='none')\n",
    "    + geom_point(aes(y='test_75p_score'), alpha=.8)\n",
    "    + geom_hline(yintercept=0, color='grey')\n",
    "    + expand_limits(x=0)\n",
    "    + coord_flip(\n",
    "        # + ylim(-30, 0)\n",
    "    )\n",
    "    + scale_color_cmap_d(mpl_cmap_concat('tab20', 'tab20b', 'tab20c'))\n",
    "    + guides(color=guide_legend(ncol=1)) + theme(legend_position='right', legend_box_spacing=.4, legend_key_height=8)\n",
    "    + theme_figsize(width=figsize_width, aspect_ratio=1/1.5)\n",
    "    + ggtitle('75p_score ~ cpu_time_m')\n",
    ")"
   ]
  },
  {
   "cell_type": "code",
   "execution_count": null,
   "metadata": {
    "skip": true
   },
   "outputs": [
    {
     "name": "stdout",
     "output_type": "stream",
     "text": "[skip]"
    }
   ],
   "source": [
    "(cv_models\n",
    "    .pipe(ggplot)\n",
    "    + aes(x='model_size')\n",
    "    + aes(color='params_complexity')\n",
    "    + facet + theme_\n",
    "    + geom_line(aes(y='train_75p_score'), alpha=.3, color='darkgray')\n",
    "    + geom_line(aes(y='test_75p_score'), alpha=.8, color='darkgray')\n",
    "    + geom_point(aes(y='train_75p_score'), alpha=.3, fill='none')\n",
    "    + geom_point(aes(y='test_75p_score'), alpha=.8)\n",
    "    + geom_hline(yintercept=0, color='grey')\n",
    "    + scale_x_continuous(labels=labels_bytes(), breaks=breaks_bytes())\n",
    "    + expand_limits(x=0)\n",
    "    + coord_flip(\n",
    "        # + ylim(-30, 0)\n",
    "    )\n",
    "    + scale_color_cmap_d(mpl_cmap_concat('tab20', 'tab20b', 'tab20c'))\n",
    "    + guides(color=guide_legend(ncol=1)) + theme(legend_position='right', legend_box_spacing=.4, legend_key_height=8)\n",
    "    + theme_figsize(width=figsize_width, aspect_ratio=1/1.5)\n",
    "    + ggtitle('test_75p_score ~ model_size')\n",
    ")"
   ]
  },
  {
   "cell_type": "code",
   "execution_count": null,
   "metadata": {},
   "outputs": [
    {
     "data": {
      "image/png": "[encoded data removed]",
      "text/plain": "<matplotlib.figure.Figure object at 0x11db84518>"
     },
     "metadata": {
      "image/png": {
       "height": 223,
       "width": 806
      }
     },
     "output_type": "display_data",
     "transient": {}
    },
    {
     "data": {
      "text/html": " ",
      "text/plain": "<ggplot: (-9223372036551624483)>"
     },
     "execution_count": 107,
     "metadata": {},
     "output_type": "execute_result"
    }
   ],
   "source": [
    "# Tune n_iter\n",
    "(cv_models\n",
    "    .merge(how='left', on='model_id', right=df_flatmap(cv_models, lambda row: (\n",
    "        dict(model_id=row.model_id, n_iter=n_iter)\n",
    "        for n_iter in coalesce(row.n_iters, [0])\n",
    "    )))\n",
    "    # Manually compute y.mean() per group\n",
    "    # .groupby('params').apply(lambda g: g.assign(cpu_time_m_mean=lambda df: df.cpu_time_m.mean()))\n",
    "    .pipe(df_reverse_cat, 'params_complexity')\n",
    "    .pipe(ggplot)\n",
    "    + aes(x='params_complexity')\n",
    "    + facet + theme_\n",
    "    + geom_count(aes(y='n_iter', size='..n..')) + scale_size_area()\n",
    "    + expand_limits(y=0)\n",
    "    + coord_flip(\n",
    "        ylim=(0, 100),  # TODO TODO\n",
    "    )\n",
    "    + theme_figsize(width=figsize_width, aspect_ratio=1/1.5)\n",
    "    + ggtitle(f'n_iter ({recs_stats})')\n",
    ")"
   ]
  },
  {
   "cell_type": "code",
   "execution_count": null,
   "metadata": {
    "skip": true
   },
   "outputs": [
    {
     "name": "stdout",
     "output_type": "stream",
     "text": "[skip]"
    }
   ],
   "source": [
    "# Train time ~ n_species\n",
    "(cv_models\n",
    "    .pipe(df_reverse_cat, 'params_complexity')\n",
    "    .pipe(ggplot)\n",
    "    + facet_grid('n_recs ~ params_model')\n",
    "    + aes(color='params_complexity')\n",
    "    + aes(x='n_species', y='cpu_time_m')\n",
    "    + geom_point()\n",
    "    + geom_line()\n",
    "    + scale_color_cmap_d(mpl_cmap_concat('tab20', 'tab20b', 'tab20c'))\n",
    "    + guides(color=guide_legend(ncol=1)) + theme(legend_position='right', legend_box_spacing=.4, legend_key_height=8)\n",
    "    + theme_figsize(width=figsize_width, aspect_ratio=1/1.5)\n",
    "    + ggtitle(f'Train time ~ n_species ({recs_stats})')\n",
    ")"
   ]
  },
  {
   "cell_type": "code",
   "execution_count": null,
   "metadata": {
    "skip": true
   },
   "outputs": [
    {
     "name": "stdout",
     "output_type": "stream",
     "text": "[skip]"
    }
   ],
   "source": [
    "# Train time ~ n_recs\n",
    "(cv_models\n",
    "    .pipe(df_reverse_cat, 'params_complexity')\n",
    "    .pipe(ggplot)\n",
    "    + facet_grid('n_species ~ params_model')\n",
    "    + aes(color='params_complexity')\n",
    "    + aes(x='n_recs', y='cpu_time_m')\n",
    "    + geom_point()\n",
    "    + geom_line()\n",
    "    + scale_color_cmap_d(mpl_cmap_concat('tab20', 'tab20b', 'tab20c'))\n",
    "    + guides(color=guide_legend(ncol=1)) + theme(legend_position='right', legend_box_spacing=.4, legend_key_height=8)\n",
    "    + theme_figsize(width=figsize_width, aspect_ratio=1/1.5)\n",
    "    + ggtitle(f'Train time ~ n_recs ({recs_stats})')\n",
    ")"
   ]
  },
  {
   "cell_type": "code",
   "execution_count": null,
   "metadata": {
    "time": "1.026s"
   },
   "outputs": [
    {
     "data": {
      "image/png": "[encoded data removed]",
      "text/plain": "<matplotlib.figure.Figure object at 0x128f2b5f8>"
     },
     "metadata": {
      "image/png": {
       "height": 223,
       "width": 774
      }
     },
     "output_type": "display_data",
     "transient": {}
    },
    {
     "data": {
      "text/html": " ",
      "text/plain": "<ggplot: (-9223372036543416814)>"
     },
     "execution_count": 108,
     "metadata": {},
     "output_type": "execute_result"
    }
   ],
   "source": [
    "(cv_models\n",
    "    # Manually compute y.mean() per group\n",
    "    .groupby('params').apply(lambda g: g.assign(cpu_time_m_mean=lambda df: df.cpu_time_m.mean()))\n",
    "    .pipe(df_reverse_cat, 'params_complexity')\n",
    "    .pipe(ggplot)\n",
    "    + aes(x='params_complexity')\n",
    "    + facet + theme_\n",
    "    + geom_col(aes(y='cpu_time_m_mean'), fill='darkgray', position=position_dodge())\n",
    "    + geom_point(aes(y='cpu_time_m'), color='black', fill='none', size=2)\n",
    "    + coord_flip()\n",
    "    + theme_figsize(width=figsize_width, aspect_ratio=1/1.5)\n",
    "    + ggtitle(f'Train + score times ({recs_stats})')\n",
    ")"
   ]
  },
  {
   "cell_type": "code",
   "execution_count": null,
   "metadata": {
    "skip": true
   },
   "outputs": [
    {
     "name": "stdout",
     "output_type": "stream",
     "text": "[skip]"
    }
   ],
   "source": [
    "(cv_models\n",
    "    # Manually compute y.mean() per group\n",
    "    .groupby('params').apply(lambda g: g.assign(model_size_mean=lambda df: df.model_size.mean()))\n",
    "    .pipe(df_reverse_cat, 'params_complexity')\n",
    "    .pipe(ggplot)\n",
    "    + aes(x='params_complexity')\n",
    "    + facet + theme_\n",
    "    + geom_col(aes(y='model_size_mean'), fill='darkgray', position=position_dodge()) # Summary per fold\n",
    "    + geom_point(aes(y='model_size'), color='black', fill='none', size=2) # Distribution of folds\n",
    "    + scale_y_continuous(labels=labels_bytes(), breaks=breaks_bytes())\n",
    "    + coord_flip()\n",
    "    + ylab('model_size')\n",
    "    + theme_figsize(width=figsize_width, aspect_ratio=1/1.5)\n",
    "    + ggtitle(f'Model size ({recs_stats})')\n",
    ")"
   ]
  },
  {
   "cell_type": "code",
   "execution_count": null,
   "metadata": {
    "skip": true
   },
   "outputs": [
    {
     "name": "stdout",
     "output_type": "stream",
     "text": "[skip]"
    }
   ],
   "source": [
    "# TODO Make not barf on non-tree models (blocks rest of notebook)\n",
    "(cv_models\n",
    "    # Manually compute boxplot stats, else it's _really_ slow (or you have to downsample, which misses outliers)\n",
    "    #   - Based on stat_boxplot.compute_group\n",
    "    .merge(how='left', on='params', right=cv_models.groupby('params').apply(lambda g: one(\n",
    "        pd.Series(dict(\n",
    "            params=g.name,\n",
    "            ymin=boxplot['whislo'],\n",
    "            lower=boxplot['q1'],\n",
    "            middle=boxplot['med'],\n",
    "            upper=boxplot['q3'],\n",
    "            ymax=boxplot['whishi'],\n",
    "            outliers=np.unique(boxplot['fliers']),  # np.unique else really slow, because lots of repeated (int) points\n",
    "        ))\n",
    "        for [boxplot] in [mpl.cbook.boxplot_stats(  # [boxplot] is 1 elem because X.ndim = 1\n",
    "            X=np.concatenate([[] if x is None else x.depth for x in g.model_stats]),\n",
    "            whis=1.5,\n",
    "        )]\n",
    "    )))\n",
    "    .pipe(df_reverse_cat, 'params_complexity')\n",
    "    .pipe(ggplot)\n",
    "    + aes(x='params_complexity')\n",
    "    + facet + theme_\n",
    "    + geom_boxplot(\n",
    "        stat='identity',\n",
    "        outlier_size=.5,\n",
    "        mapping=aes(ymin='ymin', ymax='ymax', upper='upper', lower='lower', middle='middle', outliers='outliers',\n",
    "            width=.8,  # Close enough to geom_boxplot defaults [TODO Maybe should compute based on num categorical x's?]\n",
    "        ),\n",
    "    )\n",
    "    + ylab('tree_depth')\n",
    "    + coord_flip()\n",
    "    + theme_figsize(width=figsize_width, aspect_ratio=1/1.5)\n",
    "    + ggtitle(f'Tree depth ({recs_stats})')\n",
    ")"
   ]
  },
  {
   "cell_type": "code",
   "execution_count": null,
   "metadata": {},
   "outputs": [
    {
     "ename": "NameError",
     "evalue": "name 'SLOW_PLOTS_NEXT' is not defined",
     "output_type": "error",
     "traceback": [
      "Traceback \u001b[0;36m(most recent call last)\u001b[0m:\n",
      "\u001b[0;36m  File \u001b[0;32m\"<ipython-input-109-cf9919437dad>\"\u001b[0;36m, line \u001b[0;32m1\u001b[0;36m, in \u001b[0;35m<module>\u001b[0;36m\u001b[0m\n\u001b[0;31m    SLOW_PLOTS_NEXT\u001b[0m\n",
      "\u001b[0;31mNameError\u001b[0m\u001b[0;31m:\u001b[0m name 'SLOW_PLOTS_NEXT' is not defined\n"
     ]
    }
   ],
   "source": [
    "SLOW_PLOTS_NEXT"
   ]
  },
  {
   "cell_type": "markdown",
   "metadata": {},
   "source": [
    "# Model diagnostics: all models, all folds"
   ]
  },
  {
   "cell_type": "code",
   "execution_count": null,
   "metadata": {},
   "outputs": [],
   "source": [
    "print('models:')\n",
    "print('  params[*/%s]' % len(cv_models.params.cat.categories))\n",
    "print('  fold[*/%s]' % cv.cv.n_splits)"
   ]
  },
  {
   "cell_type": "code",
   "execution_count": null,
   "metadata": {
    "time": "1.178s"
   },
   "outputs": [],
   "source": [
    "# TODO Cache\n",
    "# Coverage errors: all models, all folds\n",
    "#   - Subset: all models\n",
    "#   - Grain: sum(recs[model.test_i] for model)\n",
    "#   - Dims: model_id, params, fold, y_true, rec_id\n",
    "#   - Metrics: coverage_error\n",
    "coverage_errors_all_all = (cv_models\n",
    "    # .sample(n=5, random_state=0)  # For faster dev\n",
    "    .pipe(lambda df: DF(\n",
    "        OrderedDict(\n",
    "            # **row[['model_id', 'params', 'fold']],  # Slow (in this inner loop), unpack manually instead\n",
    "            model_id=row.model_id,\n",
    "            params=row.params,\n",
    "            params_data=row.params_data,\n",
    "            params_model=row.params_model,\n",
    "            params_complexity=row.params_complexity,\n",
    "            params_data_and_model=row.params_data_and_model,\n",
    "            params_model_and_complexity=row.params_model_and_complexity,\n",
    "            fold=row.fold,\n",
    "            i=i,\n",
    "            y_true=y_true,\n",
    "            coverage_error=coverage_error,\n",
    "        )\n",
    "        for row in iter_progress(df_rows(df), n=len(df))\n",
    "        for i, y_true, coverage_error in zip(\n",
    "            row.test_evals.i,\n",
    "            row.test_evals.y,\n",
    "            row.test_evals.coverage_errors(),\n",
    "        )\n",
    "    ))\n",
    "    .astype(dict(\n",
    "        model_id=cv_models.model_id.dtype,\n",
    "        params=cv_models.params.dtype,\n",
    "        params_data=cv_models.params_data.dtype,\n",
    "        params_model=cv_models.params_model.dtype,\n",
    "        params_complexity=cv_models.params_complexity.dtype,\n",
    "        params_data_and_model=cv_models.params_data_and_model.dtype,\n",
    "        params_model_and_complexity=cv_models.params_model_and_complexity.dtype,\n",
    "    ))\n",
    "    .pipe(tap, lambda df: display(\n",
    "        df_summary(df).T,\n",
    "        df[:10],\n",
    "    ))\n",
    ")"
   ]
  },
  {
   "cell_type": "code",
   "execution_count": null,
   "metadata": {},
   "outputs": [],
   "source": [
    "[print(x) for x in coverage_errors_all_all.params_data.unique()];\n",
    "params_data = (\n",
    "    'sp[4], recs[1.0]'\n",
    ")\n",
    "n_species = parse.search('sp[{n_species:d}], recs[{n_recs:f}]', params_data)['n_species']\n",
    "assert params_data in list(coverage_errors_all_all.params_data), params_data"
   ]
  },
  {
   "cell_type": "code",
   "execution_count": null,
   "metadata": {
    "time": "1.713s"
   },
   "outputs": [],
   "source": [
    "# TODO Class imbalance\n",
    "#   1. Is class imbalance causing a problem? [-> maybe]\n",
    "#   2. Is class_weight solving it? [-> maybe a little bit]\n",
    "#   - TODO Try again with larger class imbalance\n",
    "(coverage_errors_all_all\n",
    "    [lambda df: df.params_data == params_data]\n",
    "    # .sample(100, random_state=0)  # Faster dev\n",
    "    .merge(how='left', on='y_true', right=(recs\n",
    "        .assign(n_recs=1).groupby('species')['n_recs'].sum().reset_index()\n",
    "        .rename(columns={'species': 'y_true'})\n",
    "    ))\n",
    "    # .pipe(puts, f=lambda df: df[:3])  # XXX Debug\n",
    "    .pipe(ggplot)\n",
    "    # + facet_grid('params_complexity ~ params_model')\n",
    "    + facet_wrap('params_model_and_complexity')\n",
    "    + aes(x='n_recs', y='coverage_error')\n",
    "    + geom_count(aes(size='..n..')) + scale_size_area()\n",
    "    + expand_limits(x=0, y=0)\n",
    "    + coord_flip()\n",
    "    + theme_figsize(width=figsize_width, aspect_ratio=1/1)\n",
    "    + ggtitle(rf'Coverage error by n_recs per species ({recs_stats}) [{params_data}]')\n",
    ")"
   ]
  },
  {
   "cell_type": "code",
   "execution_count": null,
   "metadata": {
    "time": "1.431s"
   },
   "outputs": [],
   "source": [
    "# Facet by params_no_ns, order by median(coverage_error)\n",
    "#   - Subset: all models\n",
    "#   - Grain: sum(recs[model.test_i].groupby(params, y_true) for model)\n",
    "#       - Over: fold, rec_id\n",
    "#   - Dims: params, y_true\n",
    "#   - Metrics: coverage_error.median\n",
    "# in: coverage_errors_all_all, recs\n",
    "(coverage_errors_all_all\n",
    "    [lambda df: df.params_data == params_data]\n",
    "    # .sample(100, random_state=0)  # Faster dev\n",
    "    # .pipe(df_reverse_cat, 'params', 'params_no_ns', 'ns')\n",
    "    .pipe(df_ordered_cat,\n",
    "        y_true=lambda df: (\n",
    "            # Sort species by median(coverage_error) (across all models)\n",
    "            df.groupby('y_true').agg({'coverage_error': np.median}).reset_index().sort_values('coverage_error').y_true\n",
    "            # Sort species by taxo (hard to compare across models, unless they're pretty low noise)\n",
    "            # reversed(recs.species.cat.categories)\n",
    "        ),\n",
    "    )\n",
    "    .pipe(ggplot)\n",
    "    + aes(x='y_true', y='coverage_error')\n",
    "    + aes(color='y_true')\n",
    "    # + facet_grid('params_complexity ~ params_model')\n",
    "    + facet_wrap('params_model_and_complexity',\n",
    "        # Bug: dir='v' inverts nrow/ncol [https://github.com/has2k1/plotnine/issues/163]\n",
    "        # dir='v', nrow=coverage_errors_all_all.params_model.nunique(),\n",
    "    )\n",
    "    # + geom_line(aes(group='params'), stat='summary', fun_y=np.median)  # TODO Bad interpolation with n_species\n",
    "    + geom_point(aes(group='params'), stat='summary', fun_y=np.median)\n",
    "    + coord_flip()\n",
    "    # + geom_hline(yintercept=recs.species.nunique(), color='grey')\n",
    "    + scale_color_cmap_d(mpl_cmap_repeat(10, 'tab20', 'tab20b', 'tab20c'))\n",
    "    + theme_minimal_white()  # Before other theme()\n",
    "    + guides(color=guide_legend(nrow=70))\n",
    "    + theme(legend_position='right', legend_box_spacing=.4, legend_key_height=8, legend_text=element_text(size=8))\n",
    "    + theme(axis_text_y=element_blank())\n",
    "    + theme_figsize(width=figsize_width, aspect_ratio=1/2)\n",
    "    + ggtitle(rf'Coverage error over fold $\\times$ instance ({recs_stats}) [{params_data}]')\n",
    ")"
   ]
  },
  {
   "cell_type": "code",
   "execution_count": null,
   "metadata": {
    "time": "2.385s"
   },
   "outputs": [],
   "source": [
    "# TODO Slow, bad for notebook dev loop -- move lower, or disable by default?\n",
    "# Facet by species\n",
    "#   - Subset: all models\n",
    "#   - Grain: sum(recs[model.test_i].groupby(params, y_true) for model)\n",
    "#       - Over: fold, rec_id\n",
    "#   - Dims: params, y_true\n",
    "#   - Metrics: coverage_error.median\n",
    "# in: coverage_errors_all_all, recs\n",
    "[print(x) for x in coverage_errors_all_all.params_model.unique()];\n",
    "params_model = [\n",
    "    'c_cls[logreg_ovr], c_solver[liblinear], c_class_weight[balanced]',\n",
    "    # 'c_cls[logreg_ovr], c_solver[liblinear], c_C[0.1]',\n",
    "]\n",
    "(coverage_errors_all_all\n",
    "    [lambda df: df.params_data == params_data]\n",
    "    [lambda df: df.params_model.isin(params_model)]\n",
    "    # .sample(200, random_state=0)  # Faster dev\n",
    "    # [lambda df: df.y_true.isin(df.y_true.drop_duplicates().sample(n=3, random_state=0))]  # Faster dev\n",
    "    .astype({'y_true': metadata.species.df.shorthand.dtype})\n",
    "    # .pipe(df_reverse_cat, 'params_complexity')\n",
    "    .pipe(ggplot)\n",
    "    + aes(x='params_complexity', y='coverage_error')\n",
    "    + aes(color='params_complexity')\n",
    "    + facet_wrap('y_true',\n",
    "        ncol=int((n_species * 1/(2/3)) ** .5),\n",
    "    )\n",
    "    + geom_hline(yintercept=1, color='grey')\n",
    "    # + geom_hline(yintercept=recs.species.nunique(), color='grey')\n",
    "    # Percentiles (faster, no overplot)\n",
    "    # + geom_point(stat='summary', fun_y=np.median)\n",
    "    # + geom_linerange(stat='summary', fun_ymin=partial(np.percentile, q=25), fun_ymax=partial(np.percentile, q=75))\n",
    "    # Violin (slow, no overplot)\n",
    "    # + geom_violin()\n",
    "    # Boxplot (very slow, no overplot)\n",
    "    # + geom_boxplot()\n",
    "    # Points (medium cost, high overplot)\n",
    "    #   - n (count) instead of prop (proportion)\n",
    "    #   - scale_size_area() instead of default scale_size(), because it's a count [I don't grok this but it looks good]\n",
    "    + geom_count(aes(size='..n..'), color='lightgray')\n",
    "    + scale_size_area()\n",
    "    # + geom_point(stat='summary', fun_y=np.median, shape='|', size=5, stroke=2)\n",
    "    + geom_point(stat='summary', fun_y=np.median, size=5)\n",
    "    + coord_flip(\n",
    "        # ylim=(0, 40),\n",
    "    )\n",
    "    # + scale_color_cmap_d(mpl_cmap_repeat(10, 'tab10'))  # Strong\n",
    "    + scale_color_cmap_d(mpl_cmap_repeat(1, 'tab20', 'tab20b', 'tab20c'))  # FIXME repeat(10) makes lots of blue/gray\n",
    "    + guides(color=guide_legend(reverse=True))\n",
    "    + theme(axis_text_y=element_text(size=6))\n",
    "    + theme_minimal_white()  # [TODO Before other theme()]\n",
    "    + theme_figsize(width=figsize_width, aspect_ratio=1/1)\n",
    "    + ggtitle(rf'Coverage error over fold $\\times$ instance, by params_complexity ({recs_stats}) [{params_data}, {params_model}]')\n",
    ")"
   ]
  },
  {
   "cell_type": "code",
   "execution_count": null,
   "metadata": {
    "time": "2.173s"
   },
   "outputs": [],
   "source": [
    "# TODO Slow, bad for notebook dev loop -- move lower, or disable by default?\n",
    "# Facet by species\n",
    "#   - Subset: all models\n",
    "#   - Grain: sum(recs[model.test_i].groupby(params, y_true) for model)\n",
    "#       - Over: fold, rec_id\n",
    "#   - Dims: params, y_true\n",
    "#   - Metrics: coverage_error.median\n",
    "# in: coverage_errors_all_all, recs\n",
    "[print(x) for x in coverage_errors_all_all.params_complexity.unique()];\n",
    "params_complexity = [\n",
    "    # 'c_C[0.1]',\n",
    "    'c_C[0.01]',\n",
    "    # '',\n",
    "]\n",
    "(coverage_errors_all_all\n",
    "    [lambda df: df.params_data == params_data]\n",
    "    [lambda df: df.params_complexity.isin(params_complexity)]\n",
    "    # [lambda df: df.params.astype(str).str.contains(r'c_n_estimators\\[100\\]')]  # XXX Subset models\n",
    "    # .sample(200, random_state=0)  # Faster dev\n",
    "    # [lambda df: df.y_true.isin(df.y_true.drop_duplicates().sample(n=3, random_state=0))]  # Faster dev\n",
    "    .astype({'y_true': metadata.species.df.shorthand.dtype})\n",
    "    # .pipe(df_reverse_cat, 'params_model')\n",
    "    .pipe(ggplot)\n",
    "    + aes(x='params_model', y='coverage_error')\n",
    "    + aes(color='params_model')\n",
    "    + facet_wrap('y_true',\n",
    "        ncol=int((n_species * 1/(2/3)) ** .5),\n",
    "    )\n",
    "    + geom_hline(yintercept=1, color='grey')\n",
    "    # + geom_hline(yintercept=recs.species.nunique(), color='grey')\n",
    "    # Percentiles (faster, no overplot)\n",
    "    # + geom_point(stat='summary', fun_y=np.median)\n",
    "    # + geom_linerange(stat='summary', fun_ymin=partial(np.percentile, q=25), fun_ymax=partial(np.percentile, q=75))\n",
    "    # Violin (slow, no overplot)\n",
    "    # + geom_violin()\n",
    "    # Boxplot (very slow, no overplot)\n",
    "    # + geom_boxplot()\n",
    "    # Points (medium cost, high overplot)\n",
    "    #   - n (count) instead of prop (proportion)\n",
    "    #   - scale_size_area() instead of default scale_size(), because it's a count [I don't grok this but it looks good]\n",
    "    + geom_count(aes(size='..n..'), color='lightgray')\n",
    "    + scale_size_area()\n",
    "    # + geom_point(stat='summary', fun_y=np.median, shape='|', size=5, stroke=2)\n",
    "    + geom_point(stat='summary', fun_y=np.median, size=5)\n",
    "    + coord_flip(\n",
    "        ylim=(0, 40),\n",
    "    )\n",
    "    + scale_color_cmap_d(mpl_cmap_repeat(1, 'tab20', 'tab20b', 'tab20c'))  # FIXME repeat(10) makes lots of blue/gray\n",
    "    + guides(color=guide_legend(reverse=True))\n",
    "    + theme(axis_text_y=element_text(size=6))\n",
    "    + theme_minimal_white()  # [TODO Before other theme()]\n",
    "    + theme_figsize(width=figsize_width, aspect_ratio=1/1)\n",
    "    + ggtitle(rf'Coverage error over fold $\\times$ instance, by params_model ({recs_stats}) [{params_data}, {params_complexity}]')\n",
    ")"
   ]
  },
  {
   "cell_type": "code",
   "execution_count": null,
   "metadata": {},
   "outputs": [],
   "source": [
    "ONE_MODEL_PLOTS_NEXT"
   ]
  },
  {
   "cell_type": "markdown",
   "metadata": {},
   "source": [
    "# Model diagnostics: one model, all folds"
   ]
  },
  {
   "cell_type": "code",
   "execution_count": null,
   "metadata": {},
   "outputs": [],
   "source": [
    "params_i = 12\n",
    "params = cv_models.params.cat.categories[params_i]\n",
    "print(\"params:\\n%s\" % '\\n'.join('  %s: %r' % (i, x) for i, x in enumerate(cv_models.params.cat.categories)))\n",
    "print()\n",
    "print('models:')\n",
    "print('  params[%s/%s]: %r' % (params_i, len(cv_models.params.cat.categories), params))\n",
    "print('  fold[*/%s]' % cv.cv.n_splits)"
   ]
  },
  {
   "cell_type": "code",
   "execution_count": null,
   "metadata": {},
   "outputs": [],
   "source": [
    "# Coverage errors: one model, all folds\n",
    "#   - Subset: models.params == params\n",
    "#   - Grain: sum(recs[model.test_i] for model)\n",
    "#   - Dims: model_id, params, fold, y_true, rec_id\n",
    "#   - Metrics: coverage_error\n",
    "coverage_errors_one_all = (coverage_errors_all_all\n",
    "    [lambda df: df.params == params]  # One model, all folds\n",
    ")\n",
    "display(\n",
    "    df_summary(coverage_errors_one_all).T,\n",
    "    coverage_errors_one_all[:5],\n",
    ")"
   ]
  },
  {
   "cell_type": "code",
   "execution_count": null,
   "metadata": {
    "time": "4.892s"
   },
   "outputs": [],
   "source": [
    "#   - Subset: models.params == params\n",
    "#   - Grain: sum(recs[model.test_i].groupby(y_true) for model)\n",
    "#       - Over: fold, rec_id\n",
    "#   - Dims: y_true\n",
    "#   - Metrics: count, coverage_error.percentiles\n",
    "# in: coverage_errors_one_all, recs\n",
    "(coverage_errors_one_all\n",
    "    .astype({'y_true': metadata.species.df.shorthand.dtype})\n",
    "    .pipe(df_reverse_cat, 'y_true')\n",
    "    .pipe(ggplot, aes(x='y_true', y='coverage_error'))\n",
    "    + geom_hline(yintercept=1, color='grey')\n",
    "    + geom_hline(yintercept=10, color='grey')\n",
    "    + geom_hline(yintercept=recs.species.nunique(), color='grey')\n",
    "    + geom_count(aes(size='..n..'), alpha=1)  # n (count) instead of prop (proportion)\n",
    "    + scale_size_area()  # Instead of default scale_size(), because it's a count [I don't grok this but it looks good]\n",
    "    + geom_point(stat='summary', fun_y=np.median, alpha=1, color='red', shape='|', size=6, stroke=2)\n",
    "    + coord_flip()\n",
    "    # + theme_figsize('inline')\n",
    "    # + theme_figsize('square')\n",
    "    # + theme_figsize('half')\n",
    "    + theme_figsize('half_dense')\n",
    "    # + theme_figsize('full')\n",
    "    # + theme_figsize('full_dense')\n",
    "    + ggtitle(rf'Coverage error over fold $\\times$ instance ({params}) ({recs_stats})')\n",
    ")"
   ]
  },
  {
   "cell_type": "code",
   "execution_count": null,
   "metadata": {
    "time": "1.309s"
   },
   "outputs": [],
   "source": [
    "# One-model/all-folds confusion matrix\n",
    "with figsize(\n",
    "    # 'square',\n",
    "    # 'full',\n",
    "    'full_dense',\n",
    "):\n",
    "    (cv_models\n",
    "        [lambda df: df.params == params]\n",
    "        .pipe(lambda df: plot_confusion_matrix(\n",
    "            classes=df.iloc[0].test_evals.classes,\n",
    "            M=np.array([\n",
    "                row.test_evals.confusion_matrix_prob()\n",
    "                for row in df_rows(df)\n",
    "            ]).sum(axis=0),\n",
    "            # normalize=False,  # For counts\n",
    "            raw=True, scale=10,  # Faster dev\n",
    "            format=None,  # Omit numbers, too dense\n",
    "            title=f'({recs_stats})',\n",
    "        ))\n",
    "    )"
   ]
  },
  {
   "cell_type": "markdown",
   "metadata": {},
   "source": [
    "# Model diagnostics: one model, one fold"
   ]
  },
  {
   "cell_type": "code",
   "execution_count": null,
   "metadata": {
    "skip": true
   },
   "outputs": [
    {
     "name": "stdout",
     "output_type": "stream",
     "text": "[skip]"
    }
   ],
   "source": [
    "fold = 0\n",
    "# params_i = ...  # Comment out to reuse from above\n",
    "params = cv_models.params.cat.categories[params_i]\n",
    "[(_, model)] = list(cv_models[lambda df: (df.params == params) & (df.fold == fold)].iterrows())\n",
    "print(\"params:\\n%s\" % '\\n'.join('  %s: %r' % (i, x) for i, x in enumerate(cv_models.params.cat.categories)))\n",
    "print()\n",
    "print('model:')\n",
    "print('  params[%s/%s]: %r' % (params_i, len(cv_models.params.cat.categories), model.params))\n",
    "print('  fold[%s/%s]' % (model.fold, cv.cv.n_splits))\n",
    "print()\n",
    "print(model)"
   ]
  },
  {
   "cell_type": "code",
   "execution_count": null,
   "metadata": {
    "skip": true
   },
   "outputs": [
    {
     "name": "stdout",
     "output_type": "stream",
     "text": "[skip]"
    }
   ],
   "source": [
    "# in: model\n",
    "model_id = model.model_id\n",
    "params = model.params\n",
    "fold = model.fold\n",
    "# train_evals = model.train_evals\n",
    "test_evals = model.test_evals\n",
    "\n",
    "# in: model, recs\n",
    "# train_recs = recs.iloc[train_evals.i]\n",
    "# train_X = Search.X(recs)[train_evals.i]\n",
    "# train_y = Search.y(recs)[train_evals.i]\n",
    "test_recs = recs.iloc[test_evals.i]\n",
    "test_X = Search.X(recs)[test_evals.i]\n",
    "test_y = Search.y(recs)[test_evals.i]  # (Don't need to store cv_models.test_evals.y if we have recs -- which sometimes we don't?)\n",
    "\n",
    "display(\n",
    "    # len(train_recs),\n",
    "    len(test_recs),\n",
    ")"
   ]
  },
  {
   "cell_type": "code",
   "execution_count": null,
   "metadata": {
    "skip": true
   },
   "outputs": [
    {
     "name": "stdout",
     "output_type": "stream",
     "text": "[skip]"
    }
   ],
   "source": [
    "# TODO Restore this plot like 'Coverage error over ...' above, so we can see _one_ model instead of aggregating over n_splits models\n",
    "# # TODO Update [kill the .merge, then species -> y_true]\n",
    "# (search.coverage_error_by(test_recs, 'id')\n",
    "#     [:5]\n",
    "#     # .merge(test_recs[['id', 'species']], on='id', how='left')\n",
    "#     # .pipe(ggplot, aes(x='species', y='coverage_error'))\n",
    "#     # + geom_count(aes(size='..n..'))\n",
    "#     # + stat_summary(fun_y=np.median, geom='point', color='red', alpha=.5, shape='|', size=6, stroke=1)\n",
    "#     # + stat_summary(\n",
    "#     #     fun_ymin=partial(np.percentile, q=25), fun_ymax=partial(np.percentile, q=75),\n",
    "#     #     geom='linerange', color='red', alpha=.5, size=1,\n",
    "#     # )\n",
    "#     # + coord_flip()\n",
    "#     # + geom_hline(yintercept=len(search.classes_), color='grey')\n",
    "#     # + scale_x_discrete(limits=list(reversed(test_recs.species.cat.categories)))\n",
    "#     # + theme_figsize('square')\n",
    "#     # + ggtitle(rf'Coverage error over instance ({model_id}) ({recs_stats})')\n",
    "# )"
   ]
  },
  {
   "cell_type": "code",
   "execution_count": null,
   "metadata": {
    "skip": true
   },
   "outputs": [
    {
     "name": "stdout",
     "output_type": "stream",
     "text": "[skip]"
    }
   ],
   "source": [
    "# One-model/one-fold confusion matrix\n",
    "with figsize(\n",
    "    'square',\n",
    "    # 'full',\n",
    "    # 'full_dense',\n",
    "):\n",
    "    plot_confusion_matrix_df(\n",
    "        confusion_matrix_prob_df(model.test_evals.y, model.test_evals.y_scores, model.test_evals.classes),\n",
    "        title=model.model_id,\n",
    "        # normalize=False,  # For counts\n",
    "        raw=True, scale=10,  # Faster dev\n",
    "        title=f'({recs_stats})',\n",
    "    )"
   ]
  },
  {
   "cell_type": "code",
   "execution_count": null,
   "metadata": {},
   "outputs": [],
   "source": [
    "DEBUG_PLOTS_NEXT"
   ]
  },
  {
   "cell_type": "markdown",
   "metadata": {},
   "source": [
    "# Debug plots, ignored by default"
   ]
  },
  {
   "cell_type": "markdown",
   "metadata": {},
   "source": [
    "## Debug: resource usage"
   ]
  },
  {
   "cell_type": "code",
   "execution_count": null,
   "metadata": {
    "skip": true
   },
   "outputs": [
    {
     "name": "stdout",
     "output_type": "stream",
     "text": "[skip]"
    }
   ],
   "source": [
    "(cv_models\n",
    "    .pipe(df_reverse_cat, 'params', 'params_no_ns', 'ns')\n",
    "    # Manually compute y.mean() per group\n",
    "    .groupby('params').apply(lambda g: g.assign(mem_rss_delta_mean=lambda df: df.mem_rss_delta.mean()))\n",
    "    .pipe(ggplot, aes(x='ns', group='params_no_ns'))\n",
    "    + geom_col(aes(y='mem_rss_delta_mean', fill='params_no_ns'), position=position_dodge()) # Summary per fold\n",
    "    + geom_point(aes(y='mem_rss_delta'), fill='none', size=2, position=position_dodge(width=.9)) # Distribution of folds\n",
    "    + coord_flip()\n",
    "    + scale_fill_cmap_d(mpl_cmap_concat('tab20', 'tab20b', 'tab20c'))\n",
    "    + scale_y_continuous(labels=labels_bytes(), breaks=breaks_bytes())\n",
    "    + guides(fill=guide_legend(reverse=True))\n",
    "    + theme(legend_position='bottom', legend_direction='vertical', legend_box_spacing=.4, legend_key_height=8)\n",
    "    + theme_figsize(aspect_ratio=1/3*2)\n",
    "    + ggtitle(f'Mem rss spread ($max-min$) ({recs_stats})')\n",
    ")"
   ]
  },
  {
   "cell_type": "code",
   "execution_count": null,
   "metadata": {
    "skip": true
   },
   "outputs": [
    {
     "name": "stdout",
     "output_type": "stream",
     "text": "[skip]"
    }
   ],
   "source": [
    "# TODO Very slow with ~200 models\n",
    "cv_models_proc_stats = (cv_models\n",
    "    # Enable these as needed (at the cost of mem usage)\n",
    "    [[\n",
    "        'model_id',\n",
    "        'params',\n",
    "        # 'params_dict',\n",
    "        'params_data',\n",
    "        'params_complexity',\n",
    "        'params_model',\n",
    "        'fold',\n",
    "        # 'train_score',\n",
    "        # 'test_score',\n",
    "        # 'fit_time',\n",
    "        # 'score_time',\n",
    "        'mem_rss_delta',\n",
    "        # 'mem_vms_delta',\n",
    "        # 'train_evals',\n",
    "        # 'test_evals',\n",
    "        'proc_stats',\n",
    "    ]]\n",
    "    # TODO Faster way to do this? (.merge is >2x slower)\n",
    "    .pipe(df_flatmap, lambda row: [\n",
    "        row.append(pd.Series(dict(**stats)))\n",
    "        for stats in row.proc_stats.stats\n",
    "    ])\n",
    "    # .pipe(lambda df: (df\n",
    "    #     .merge(how='left',\n",
    "    #         right=DF(\n",
    "    #             OrderedDict(model_id=row.model_id, **stats)\n",
    "    #             for row in df_rows(df)\n",
    "    #             for stats in row.proc_stats.stats\n",
    "    #         )\n",
    "    #     )\n",
    "    # ))\n",
    "    # HACK Restore the cats that the df_flatmap just destroyed [copied from cv_results_splits_df]\n",
    "    .pipe(df_ordered_cat,\n",
    "        model_id=lambda df: df.model_id.unique(),\n",
    "        params=lambda df: df.params.unique(),\n",
    "    )\n",
    "    .assign(\n",
    "        cpu_user=lambda df: df.cpu_user.diff() * 100,\n",
    "        cpu_system=lambda df: df.cpu_system.diff() * 100,\n",
    "    )\n",
    "    .pipe(tap, f=lambda df: display(\n",
    "        df_summary(df).T,\n",
    "        df[:5],\n",
    "    ))\n",
    ")"
   ]
  },
  {
   "cell_type": "code",
   "execution_count": null,
   "metadata": {
    "skip": true
   },
   "outputs": [
    {
     "name": "stdout",
     "output_type": "stream",
     "text": "[skip]"
    }
   ],
   "source": [
    "# TODO Might need to stack/geom_area for overlapping runs\n",
    "(cv_models_proc_stats\n",
    "    .pipe(ggplot)\n",
    "    + aes(x='time', color='model_id')\n",
    "    + geom_line(aes(y='cpu_system'), linetype='dashed', size=.5)\n",
    "    + geom_line(aes(y='cpu_system + cpu_user'), linetype='solid', size=.5)\n",
    "    + expand_limits(y=0)\n",
    "    + ylab('cpu')\n",
    "    + scale_x_datetime(date_labels='%H:%M:%S')\n",
    "    + scale_y_continuous(labels=lambda labels: ['%.3g%%' % x for x in labels])\n",
    "    + theme(legend_position='bottom', legend_direction='vertical', legend_box_spacing=.4, legend_key_height=8)\n",
    "    + theme_figsize('inline_short')\n",
    "    + ggtitle('cpu over time (system + user)')\n",
    ")"
   ]
  },
  {
   "cell_type": "code",
   "execution_count": null,
   "metadata": {
    "skip": true
   },
   "outputs": [
    {
     "name": "stdout",
     "output_type": "stream",
     "text": "[skip]"
    }
   ],
   "source": [
    "(cv_models_proc_stats\n",
    "    .pipe(ggplot)\n",
    "    + aes(x='time', color='model_id')\n",
    "    + geom_line(aes(y='mem_rss'), linetype='solid', size=.5)\n",
    "    + geom_line(aes(y='mem_vms'), linetype='dashed', size=.5)\n",
    "    + expand_limits(y=0)\n",
    "    + ylab('mem')\n",
    "    + scale_x_datetime(date_labels='%H:%M:%S')\n",
    "    + scale_y_continuous(labels=labels_bytes(), breaks=breaks_bytes(pow=3))\n",
    "    + theme(legend_position='bottom', legend_direction='vertical', legend_box_spacing=.4, legend_key_height=8)\n",
    "    + theme_figsize('inline_short')\n",
    "    + ggtitle('Mem over time (rss, vms)')\n",
    ")"
   ]
  },
  {
   "cell_type": "markdown",
   "metadata": {},
   "source": [
    "## Debug: RF tuning"
   ]
  },
  {
   "cell_type": "code",
   "execution_count": null,
   "metadata": {
    "skip": true
   },
   "outputs": [
    {
     "name": "stdout",
     "output_type": "stream",
     "text": "[skip]"
    }
   ],
   "source": [
    "# TODO Revive if insightful\n",
    "(cv_models\n",
    "    .pipe(df_reverse_cat, 'params_no_ns')\n",
    "    .assign(n_species=lambda df: df.params_dict.str['n_species'])\n",
    "    .pipe(ggplot, aes(x='n_species', y='forest_depth_mean', color='params_no_ns'))\n",
    "    # + facet_wrap('params_no_ns', ncol=2)\n",
    "    + geom_point()\n",
    "    + geom_pointrange(aes(ymin='forest_depth_mean - 2*forest_depth_std', ymax='forest_depth_mean + 2*forest_depth_std'))\n",
    "    + geom_smooth(method='lm', se=False)  # Disable se because it only knows forest_depth_mean, no measure of spread\n",
    "    + expand_limits(x=0)\n",
    "    + scale_color_cmap_d(mpl_cmap_concat('tab20', 'tab20b', 'tab20c'))\n",
    "    + guides(color=guide_legend(reverse=True))\n",
    "    + theme(legend_position='bottom', legend_direction='vertical', legend_box_spacing=.4, legend_key_height=8)\n",
    "    # + theme_figsize(aspect_ratio=1/3)\n",
    "    + theme_figsize(aspect_ratio=1/3)\n",
    "    + ggtitle(f'RF depth vs. n_species ({recs_stats})')\n",
    ")"
   ]
  },
  {
   "cell_type": "code",
   "execution_count": null,
   "metadata": {},
   "outputs": [],
   "source": []
  }
 ],
 "metadata": {
  "kernelspec": {
   "display_name": "bubo-features (PYTHONSTARTUP)",
   "language": "python",
   "name": "bubo-features (PYTHONSTARTUP)"
  }
 },
 "nbformat": 4,
 "nbformat_minor": 2
}
