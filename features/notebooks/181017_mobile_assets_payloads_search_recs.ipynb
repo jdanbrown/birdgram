{
 "cells": [
  {
   "cell_type": "markdown",
   "metadata": {},
   "source": [
    "# Takeaways\n",
    "- Maintain separate payloads for api vs. mobile\n",
    "    - Faster to read/write .parquet + .npy, but only api can use those\n",
    "    - Mobile needs to use .sqlite + files (.png, .mp4), but it's slower for both read and write\n",
    "- TODO Still more room to compress mobile payloads\n",
    "    - 71% of payload: audio\n",
    "        - Can be cut in ~half if we can drop 32k -> 16k (maybe with aac_he?)\n",
    "        - Payload 1.98g -> ~1.28g -- ✅ ~35% of payload\n",
    "    - 21% of payload: spectro\n",
    "        - Not much excess: maybe ~5% of spectros (see notebooks/spectro_img_encode)\n",
    "        - Payload 1.98g -> ~1.96g -- ❌ ~1% of payload\n",
    "    - 5.9% of payload: f_preds_* sqlite cols (n_sp=331)\n",
    "        - (Based on: 119m = 164m with - 45m without)\n",
    "        - No float32 in sqlite, only float64 [❓ Unless we get clever and pack into int32/int16, or blob...]\n",
    "            - [e.g. blob: https://github.com/SeanTater/sqlite3-extras]\n",
    "        - Can pca compress, but can't achieve more than a few % of payload\n",
    "        - Payload 1.98g -> ~1.98g with n_components=331 -- min ~0% of payload\n",
    "        - Payload 1.98g -> ~1.93g with n_components=150 --  🔶 ~3% of payload\n",
    "        - Payload 1.98g -> ~1.90g with n_components=100 --  🔶 ~4% of payload\n",
    "        - Payload 1.98g -> ~1.86g with n_components=10  --  🔶 ~6% of payload\n",
    "        - Payload 1.98g -> ~1.86g with n_components=0   -- max ~6% of payload\n",
    "    - 2.2% of payload: rest of sqlite cols\n",
    "        - Max ~2% of payload -- ❌ low ROI\n"
   ]
  },
  {
   "cell_type": "code",
   "execution_count": null,
   "metadata": {
    "time": "2.979s"
   },
   "outputs": [
    {
     "name": "stdout",
     "output_type": "stream",
     "text": "INFO     [14:40:04.043] [65200] 150 logging_/<module>: {logging_yaml: None}"
    },
    {
     "name": "stdout",
     "output_type": "stream",
     "text": "\n"
    },
    {
     "name": "stdout",
     "output_type": "stream",
     "text": "INFO     [14:40:04.509] [65200]  32 api.server_globals/init"
    },
    {
     "name": "stdout",
     "output_type": "stream",
     "text": "\n"
    },
    {
     "name": "stdout",
     "output_type": "stream",
     "text": "DEBUG    [14:40:04.516] [65200]  75 api.server_globals/load: load_search..."
    },
    {
     "name": "stdout",
     "output_type": "stream",
     "text": "\n"
    },
    {
     "name": "stdout",
     "output_type": "stream",
     "text": "INFO     [14:40:04.823] [65200]  79 api.server_globals/load: load_search (took 0.301s)"
    },
    {
     "name": "stdout",
     "output_type": "stream",
     "text": "\n"
    },
    {
     "name": "stdout",
     "output_type": "stream",
     "text": "DEBUG    [14:40:04.829] [65200]  75 api.server_globals/load: load_xc_meta..."
    },
    {
     "name": "stdout",
     "output_type": "stream",
     "text": "\n"
    },
    {
     "name": "stdout",
     "output_type": "stream",
     "text": "INFO     [14:40:05.151] [65200]  79 api.server_globals/load: load_xc_meta (took 0.315s)"
    },
    {
     "name": "stdout",
     "output_type": "stream",
     "text": "\n"
    },
    {
     "name": "stdout",
     "output_type": "stream",
     "text": "DEBUG    [14:40:05.159] [65200]  75 api.server_globals/load: load_feat_info..."
    },
    {
     "name": "stdout",
     "output_type": "stream",
     "text": "\n"
    },
    {
     "name": "stdout",
     "output_type": "stream",
     "text": "INFO     [14:40:05.166] [65200] 110 api.server_globals/load_feat_info"
    },
    {
     "name": "stdout",
     "output_type": "stream",
     "text": "\n"
    },
    {
     "name": "stdout",
     "output_type": "stream",
     "text": "INFO     [14:40:05.172] [65200]  79 api.server_globals/load: load_feat_info (took 0.006s)"
    },
    {
     "name": "stdout",
     "output_type": "stream",
     "text": "\n"
    },
    {
     "name": "stdout",
     "output_type": "stream",
     "text": "WARNING  [14:40:05.180] [65200]  73 api.server_globals/load: load_search_recs [skipped]"
    },
    {
     "name": "stdout",
     "output_type": "stream",
     "text": "\n"
    },
    {
     "name": "stdout",
     "output_type": "stream",
     "text": "INFO     [14:40:05.187] [65200]  34 api.server_globals/init: done"
    },
    {
     "name": "stdout",
     "output_type": "stream",
     "text": "\n"
    }
   ],
   "source": [
    "from notebooks import *\n",
    "sg.init(None, skip=[sg_load.load_search_recs])\n",
    "get_search_recs.cache_clear()"
   ]
  },
  {
   "cell_type": "markdown",
   "metadata": {},
   "source": [
    "# Perf notes\n",
    "\n",
    "Before\n",
    "- Cold cache (warm pagecache but cold python proc)\n",
    "```\n",
    "search_recs(**{'cache_type': 'hybrid'})\n",
    "...\n",
    "DEBUG    [12:58:26.994] [37904] 119 payloads/df_cache_hybrid: Hit [start]\n",
    "DEBUG    [12:58:27.001] [37904] 129 payloads/df_cache_hybrid: Hit: Reading non_feats.parquet (1.8 GB)\n",
    "INFO     [12:58:32.028] [37904] 136 payloads/df_cache_hybrid: Hit: Read non_feats.parquet (1.8 GB)\n",
    "DEBUG    [12:58:32.040] [37904] 141 payloads/df_cache_hybrid: Hit: Reading feat-f_preds.npy (46.6 MB)\n",
    "INFO     [12:58:32.077] [37904] 143 payloads/df_cache_hybrid: Hit: Read feat-f_preds.npy: float32 (46.6 MB)\n",
    "DEBUG    [12:58:32.084] [37904] 141 payloads/df_cache_hybrid: Hit: Reading feat-feat.npy (211.4 MB)\n",
    "INFO     [12:58:32.211] [37904] 143 payloads/df_cache_hybrid: Hit: Read feat-feat.npy: float32 (211.4 MB)\n",
    "INFO     [12:58:32.218] [37904] 147 payloads/df_cache_hybrid: Hit: Join non_feats + feats\n",
    "INFO     [12:58:32.469] [37904] 155 payloads/df_cache_hybrid: Hit [5.475s]\n",
    "```"
   ]
  },
  {
   "cell_type": "code",
   "execution_count": null,
   "metadata": {
    "time": "71.835s"
   },
   "outputs": [
    {
     "name": "stdout",
     "output_type": "stream",
     "text": "search_recs(**{'cache_type': 'hybrid'})"
    },
    {
     "name": "stdout",
     "output_type": "stream",
     "text": "\n"
    },
    {
     "name": "stdout",
     "output_type": "stream",
     "text": "INFO     [14:40:05.397] [65200] 601 api.recs/get_search_recs"
    },
    {
     "name": "stdout",
     "output_type": "stream",
     "text": "\n"
    },
    {
     "name": "stdout",
     "output_type": "stream",
     "text": "INFO     [14:40:05.411] [65200] 150 payloads/df_cache_hybrid: Hit: payloads/search_recs-version[4],audio_s[10],countries_k[na],com_names_k[ca],num_recs[None]-7993b24"
    },
    {
     "name": "stdout",
     "output_type": "stream",
     "text": "\n"
    },
    {
     "name": "stdout",
     "output_type": "stream",
     "text": "INFO     [14:40:07.161] [65200] 167 payloads/df_cache_hybrid: Hit: Read api/lite.parquet (45.6 MB) [1.735s]"
    },
    {
     "name": "stdout",
     "output_type": "stream",
     "text": "\n"
    },
    {
     "name": "stdout",
     "output_type": "stream",
     "text": "INFO     [14:40:16.461] [65200] 179 payloads/df_cache_hybrid: Hit: Read api/bytes-audio_bytes.parquet (1.4 GB) [9.281s]"
    },
    {
     "name": "stdout",
     "output_type": "stream",
     "text": "\n"
    },
    {
     "name": "stdout",
     "output_type": "stream",
     "text": "INFO     [14:40:17.441] [65200] 179 payloads/df_cache_hybrid: Hit: Read api/bytes-spectro_bytes.parquet (382.8 MB) [0.903s]"
    },
    {
     "name": "stdout",
     "output_type": "stream",
     "text": "\n"
    },
    {
     "name": "stdout",
     "output_type": "stream",
     "text": "INFO     [14:40:17.493] [65200] 186 payloads/df_cache_hybrid: Hit: Read api/feat-f_preds.npy (46.6 MB) [float32, 0.039s]"
    },
    {
     "name": "stdout",
     "output_type": "stream",
     "text": "\n"
    },
    {
     "name": "stdout",
     "output_type": "stream",
     "text": "INFO     [14:40:17.670] [65200] 186 payloads/df_cache_hybrid: Hit: Read api/feat-feat.npy (211.4 MB) [float32, 0.165s]"
    },
    {
     "name": "stdout",
     "output_type": "stream",
     "text": "\n"
    },
    {
     "name": "stdout",
     "output_type": "stream",
     "text": "INFO     [14:40:17.677] [65200] 189 payloads/df_cache_hybrid: Hit: Join lite + bytes + feats"
    },
    {
     "name": "stdout",
     "output_type": "stream",
     "text": "\n"
    },
    {
     "name": "stdout",
     "output_type": "stream",
     "text": "INFO     [14:40:18.090] [65200] 200 payloads/df_cache_hybrid: Hit [12.669s]"
    },
    {
     "name": "stdout",
     "output_type": "stream",
     "text": "\n"
    },
    {
     "name": "stdout",
     "output_type": "stream",
     "text": "\rMobile: Ensure dirs: audio_bytes: ["
    },
    {
     "name": "stdout",
     "output_type": "stream",
     "text": "                                                              "
    },
    {
     "name": "stdout",
     "output_type": "stream",
     "text": "] |   0% (334) |  0.0s"
    },
    {
     "name": "stdout",
     "output_type": "stream",
     "text": "\rMobile: Ensure dirs: audio_bytes: ["
    },
    {
     "name": "stdout",
     "output_type": "stream",
     "text": "##############################################################"
    },
    {
     "name": "stdout",
     "output_type": "stream",
     "text": "] | 100% (334) |  0.1s"
    },
    {
     "name": "stdout",
     "output_type": "stream",
     "text": "\n"
    },
    {
     "name": "stdout",
     "output_type": "stream",
     "text": "\rMobile: Write files: audio_bytes: ["
    },
    {
     "name": "stdout",
     "output_type": "stream",
     "text": "                                                            "
    },
    {
     "name": "stdout",
     "output_type": "stream",
     "text": "] |   0% (35231) |  0.0s"
    },
    {
     "name": "stdout",
     "output_type": "stream",
     "text": "\rMobile: Write files: audio_bytes: ["
    },
    {
     "name": "stdout",
     "output_type": "stream",
     "text": "                                                            "
    },
    {
     "name": "stdout",
     "output_type": "stream",
     "text": "] |   0% (35231) |  0.2s"
    },
    {
     "name": "stdout",
     "output_type": "stream",
     "text": "\rMobile: Write files: audio_bytes: ["
    },
    {
     "name": "stdout",
     "output_type": "stream",
     "text": "                                                            "
    },
    {
     "name": "stdout",
     "output_type": "stream",
     "text": "] |   0% (35231) |  0.3s"
    },
    {
     "name": "stdout",
     "output_type": "stream",
     "text": "\rMobile: Write files: audio_bytes: ["
    },
    {
     "name": "stdout",
     "output_type": "stream",
     "text": "#                                                           "
    },
    {
     "name": "stdout",
     "output_type": "stream",
     "text": "] |   3% (35231) |  0.4s"
    },
    {
     "name": "stdout",
     "output_type": "stream",
     "text": "\rMobile: Write files: audio_bytes: ["
    },
    {
     "name": "stdout",
     "output_type": "stream",
     "text": "#                                                           "
    },
    {
     "name": "stdout",
     "output_type": "stream",
     "text": "] |   3% (35231) |  0.5s"
    },
    {
     "name": "stdout",
     "output_type": "stream",
     "text": "\rMobile: Write files: audio_bytes: ["
    },
    {
     "name": "stdout",
     "output_type": "stream",
     "text": "##                                                          "
    },
    {
     "name": "stdout",
     "output_type": "stream",
     "text": "] |   3% (35231) |  0.6s"
    },
    {
     "name": "stdout",
     "output_type": "stream",
     "text": "\rMobile: Write files: audio_bytes: ["
    },
    {
     "name": "stdout",
     "output_type": "stream",
     "text": "###                                                         "
    },
    {
     "name": "stdout",
     "output_type": "stream",
     "text": "] |   6% (35231) |  0.7s"
    },
    {
     "name": "stdout",
     "output_type": "stream",
     "text": "\rMobile: Write files: audio_bytes: ["
    },
    {
     "name": "stdout",
     "output_type": "stream",
     "text": "###                                                         "
    },
    {
     "name": "stdout",
     "output_type": "stream",
     "text": "] |   6% (35231) |  0.9s"
    },
    {
     "name": "stdout",
     "output_type": "stream",
     "text": "\rMobile: Write files: audio_bytes: ["
    },
    {
     "name": "stdout",
     "output_type": "stream",
     "text": "#####                                                       "
    },
    {
     "name": "stdout",
     "output_type": "stream",
     "text": "] |   9% (35231) |  1.0s"
    },
    {
     "name": "stdout",
     "output_type": "stream",
     "text": "\rMobile: Write files: audio_bytes: ["
    },
    {
     "name": "stdout",
     "output_type": "stream",
     "text": "#####                                                       "
    },
    {
     "name": "stdout",
     "output_type": "stream",
     "text": "] |   9% (35231) |  1.1s"
    },
    {
     "name": "stdout",
     "output_type": "stream",
     "text": "\rMobile: Write files: audio_bytes: ["
    },
    {
     "name": "stdout",
     "output_type": "stream",
     "text": "######                                                      "
    },
    {
     "name": "stdout",
     "output_type": "stream",
     "text": "] |  11% (35231) |  1.2s"
    },
    {
     "name": "stdout",
     "output_type": "stream",
     "text": "\rMobile: Write files: audio_bytes: ["
    },
    {
     "name": "stdout",
     "output_type": "stream",
     "text": "#######                                                     "
    },
    {
     "name": "stdout",
     "output_type": "stream",
     "text": "] |  12% (35231) |  1.3s"
    },
    {
     "name": "stdout",
     "output_type": "stream",
     "text": "\rMobile: Write files: audio_bytes: ["
    },
    {
     "name": "stdout",
     "output_type": "stream",
     "text": "#######                                                     "
    },
    {
     "name": "stdout",
     "output_type": "stream",
     "text": "] |  12% (35231) |  1.4s"
    },
    {
     "name": "stdout",
     "output_type": "stream",
     "text": "\rMobile: Write files: audio_bytes: ["
    },
    {
     "name": "stdout",
     "output_type": "stream",
     "text": "#########                                                   "
    },
    {
     "name": "stdout",
     "output_type": "stream",
     "text": "] |  15% (35231) |  1.6s"
    },
    {
     "name": "stdout",
     "output_type": "stream",
     "text": "\rMobile: Write files: audio_bytes: ["
    },
    {
     "name": "stdout",
     "output_type": "stream",
     "text": "#########                                                   "
    },
    {
     "name": "stdout",
     "output_type": "stream",
     "text": "] |  15% (35231) |  1.7s"
    },
    {
     "name": "stdout",
     "output_type": "stream",
     "text": "\rMobile: Write files: audio_bytes: ["
    },
    {
     "name": "stdout",
     "output_type": "stream",
     "text": "#########                                                   "
    },
    {
     "name": "stdout",
     "output_type": "stream",
     "text": "] |  16% (35231) |  1.8s"
    },
    {
     "name": "stdout",
     "output_type": "stream",
     "text": "\rMobile: Write files: audio_bytes: ["
    },
    {
     "name": "stdout",
     "output_type": "stream",
     "text": "##########                                                  "
    },
    {
     "name": "stdout",
     "output_type": "stream",
     "text": "] |  18% (35231) |  1.9s"
    },
    {
     "name": "stdout",
     "output_type": "stream",
     "text": "\rMobile: Write files: audio_bytes: ["
    },
    {
     "name": "stdout",
     "output_type": "stream",
     "text": "##########                                                  "
    },
    {
     "name": "stdout",
     "output_type": "stream",
     "text": "] |  18% (35231) |  2.0s"
    },
    {
     "name": "stdout",
     "output_type": "stream",
     "text": "\rMobile: Write files: audio_bytes: ["
    },
    {
     "name": "stdout",
     "output_type": "stream",
     "text": "############                                                "
    },
    {
     "name": "stdout",
     "output_type": "stream",
     "text": "] |  21% (35231) |  2.1s"
    },
    {
     "name": "stdout",
     "output_type": "stream",
     "text": "\rMobile: Write files: audio_bytes: ["
    },
    {
     "name": "stdout",
     "output_type": "stream",
     "text": "############                                                "
    },
    {
     "name": "stdout",
     "output_type": "stream",
     "text": "] |  21% (35231) |  2.2s"
    },
    {
     "name": "stdout",
     "output_type": "stream",
     "text": "\rMobile: Write files: audio_bytes: ["
    },
    {
     "name": "stdout",
     "output_type": "stream",
     "text": "#############                                               "
    },
    {
     "name": "stdout",
     "output_type": "stream",
     "text": "] |  21% (35231) |  2.4s"
    },
    {
     "name": "stdout",
     "output_type": "stream",
     "text": "\rMobile: Write files: audio_bytes: ["
    },
    {
     "name": "stdout",
     "output_type": "stream",
     "text": "##############                                              "
    },
    {
     "name": "stdout",
     "output_type": "stream",
     "text": "] |  24% (35231) |  2.5s"
    },
    {
     "name": "stdout",
     "output_type": "stream",
     "text": "\rMobile: Write files: audio_bytes: ["
    },
    {
     "name": "stdout",
     "output_type": "stream",
     "text": "##############                                              "
    },
    {
     "name": "stdout",
     "output_type": "stream",
     "text": "] |  24% (35231) |  2.6s"
    },
    {
     "name": "stdout",
     "output_type": "stream",
     "text": "\rMobile: Write files: audio_bytes: ["
    },
    {
     "name": "stdout",
     "output_type": "stream",
     "text": "################                                            "
    },
    {
     "name": "stdout",
     "output_type": "stream",
     "text": "] |  26% (35231) |  2.7s"
    },
    {
     "name": "stdout",
     "output_type": "stream",
     "text": "\rMobile: Write files: audio_bytes: ["
    },
    {
     "name": "stdout",
     "output_type": "stream",
     "text": "################                                            "
    },
    {
     "name": "stdout",
     "output_type": "stream",
     "text": "] |  27% (35231) |  2.8s"
    },
    {
     "name": "stdout",
     "output_type": "stream",
     "text": "\rMobile: Write files: audio_bytes: ["
    },
    {
     "name": "stdout",
     "output_type": "stream",
     "text": "################                                            "
    },
    {
     "name": "stdout",
     "output_type": "stream",
     "text": "] |  27% (35231) |  2.9s"
    },
    {
     "name": "stdout",
     "output_type": "stream",
     "text": "\rMobile: Write files: audio_bytes: ["
    },
    {
     "name": "stdout",
     "output_type": "stream",
     "text": "##################                                          "
    },
    {
     "name": "stdout",
     "output_type": "stream",
     "text": "] |  30% (35231) |  3.1s"
    },
    {
     "name": "stdout",
     "output_type": "stream",
     "text": "\rMobile: Write files: audio_bytes: ["
    },
    {
     "name": "stdout",
     "output_type": "stream",
     "text": "##################                                          "
    },
    {
     "name": "stdout",
     "output_type": "stream",
     "text": "] |  30% (35231) |  3.2s"
    },
    {
     "name": "stdout",
     "output_type": "stream",
     "text": "\rMobile: Write files: audio_bytes: ["
    },
    {
     "name": "stdout",
     "output_type": "stream",
     "text": "###################                                         "
    },
    {
     "name": "stdout",
     "output_type": "stream",
     "text": "] |  33% (35231) |  3.3s"
    },
    {
     "name": "stdout",
     "output_type": "stream",
     "text": "\rMobile: Write files: audio_bytes: ["
    },
    {
     "name": "stdout",
     "output_type": "stream",
     "text": "####################                                        "
    },
    {
     "name": "stdout",
     "output_type": "stream",
     "text": "] |  33% (35231) |  3.4s"
    },
    {
     "name": "stdout",
     "output_type": "stream",
     "text": "\rMobile: Write files: audio_bytes: ["
    },
    {
     "name": "stdout",
     "output_type": "stream",
     "text": "####################                                        "
    },
    {
     "name": "stdout",
     "output_type": "stream",
     "text": "] |  33% (35231) |  3.5s"
    },
    {
     "name": "stdout",
     "output_type": "stream",
     "text": "\rMobile: Write files: audio_bytes: ["
    },
    {
     "name": "stdout",
     "output_type": "stream",
     "text": "#####################                                       "
    },
    {
     "name": "stdout",
     "output_type": "stream",
     "text": "] |  36% (35231) |  3.6s"
    },
    {
     "name": "stdout",
     "output_type": "stream",
     "text": "\rMobile: Write files: audio_bytes: ["
    },
    {
     "name": "stdout",
     "output_type": "stream",
     "text": "#####################                                       "
    },
    {
     "name": "stdout",
     "output_type": "stream",
     "text": "] |  36% (35231) |  3.8s"
    },
    {
     "name": "stdout",
     "output_type": "stream",
     "text": "\rMobile: Write files: audio_bytes: ["
    },
    {
     "name": "stdout",
     "output_type": "stream",
     "text": "######################                                      "
    },
    {
     "name": "stdout",
     "output_type": "stream",
     "text": "] |  37% (35231) |  3.9s"
    },
    {
     "name": "stdout",
     "output_type": "stream",
     "text": "\rMobile: Write files: audio_bytes: ["
    },
    {
     "name": "stdout",
     "output_type": "stream",
     "text": "#######################                                     "
    },
    {
     "name": "stdout",
     "output_type": "stream",
     "text": "] |  39% (35231) |  4.0s"
    },
    {
     "name": "stdout",
     "output_type": "stream",
     "text": "\rMobile: Write files: audio_bytes: ["
    },
    {
     "name": "stdout",
     "output_type": "stream",
     "text": "#######################                                     "
    },
    {
     "name": "stdout",
     "output_type": "stream",
     "text": "] |  39% (35231) |  4.1s"
    },
    {
     "name": "stdout",
     "output_type": "stream",
     "text": "\rMobile: Write files: audio_bytes: ["
    },
    {
     "name": "stdout",
     "output_type": "stream",
     "text": "#######################                                     "
    },
    {
     "name": "stdout",
     "output_type": "stream",
     "text": "] |  39% (35231) |  4.2s"
    },
    {
     "name": "stdout",
     "output_type": "stream",
     "text": "\rMobile: Write files: audio_bytes: ["
    },
    {
     "name": "stdout",
     "output_type": "stream",
     "text": "#########################                                   "
    },
    {
     "name": "stdout",
     "output_type": "stream",
     "text": "] |  42% (35231) |  4.3s"
    },
    {
     "name": "stdout",
     "output_type": "stream",
     "text": "\rMobile: Write files: audio_bytes: ["
    },
    {
     "name": "stdout",
     "output_type": "stream",
     "text": "#########################                                   "
    },
    {
     "name": "stdout",
     "output_type": "stream",
     "text": "] |  42% (35231) |  4.4s"
    },
    {
     "name": "stdout",
     "output_type": "stream",
     "text": "\rMobile: Write files: audio_bytes: ["
    },
    {
     "name": "stdout",
     "output_type": "stream",
     "text": "#########################                                   "
    },
    {
     "name": "stdout",
     "output_type": "stream",
     "text": "] |  42% (35231) |  4.6s"
    },
    {
     "name": "stdout",
     "output_type": "stream",
     "text": "\rMobile: Write files: audio_bytes: ["
    },
    {
     "name": "stdout",
     "output_type": "stream",
     "text": "###########################                                 "
    },
    {
     "name": "stdout",
     "output_type": "stream",
     "text": "] |  45% (35231) |  4.7s"
    },
    {
     "name": "stdout",
     "output_type": "stream",
     "text": "\rMobile: Write files: audio_bytes: ["
    },
    {
     "name": "stdout",
     "output_type": "stream",
     "text": "###########################                                 "
    },
    {
     "name": "stdout",
     "output_type": "stream",
     "text": "] |  45% (35231) |  4.8s"
    },
    {
     "name": "stdout",
     "output_type": "stream",
     "text": "\rMobile: Write files: audio_bytes: ["
    },
    {
     "name": "stdout",
     "output_type": "stream",
     "text": "############################                                "
    },
    {
     "name": "stdout",
     "output_type": "stream",
     "text": "] |  47% (35231) |  4.9s"
    },
    {
     "name": "stdout",
     "output_type": "stream",
     "text": "\rMobile: Write files: audio_bytes: ["
    },
    {
     "name": "stdout",
     "output_type": "stream",
     "text": "#############################                               "
    },
    {
     "name": "stdout",
     "output_type": "stream",
     "text": "] |  48% (35231) |  5.0s"
    },
    {
     "name": "stdout",
     "output_type": "stream",
     "text": "\rMobile: Write files: audio_bytes: ["
    },
    {
     "name": "stdout",
     "output_type": "stream",
     "text": "#############################                               "
    },
    {
     "name": "stdout",
     "output_type": "stream",
     "text": "] |  49% (35231) |  5.1s"
    },
    {
     "name": "stdout",
     "output_type": "stream",
     "text": "\rMobile: Write files: audio_bytes: ["
    },
    {
     "name": "stdout",
     "output_type": "stream",
     "text": "###############################                             "
    },
    {
     "name": "stdout",
     "output_type": "stream",
     "text": "] |  51% (35231) |  5.3s"
    },
    {
     "name": "stdout",
     "output_type": "stream",
     "text": "\rMobile: Write files: audio_bytes: ["
    },
    {
     "name": "stdout",
     "output_type": "stream",
     "text": "###############################                             "
    },
    {
     "name": "stdout",
     "output_type": "stream",
     "text": "] |  51% (35231) |  5.4s"
    },
    {
     "name": "stdout",
     "output_type": "stream",
     "text": "\rMobile: Write files: audio_bytes: ["
    },
    {
     "name": "stdout",
     "output_type": "stream",
     "text": "################################                            "
    },
    {
     "name": "stdout",
     "output_type": "stream",
     "text": "] |  54% (35231) |  5.5s"
    },
    {
     "name": "stdout",
     "output_type": "stream",
     "text": "\rMobile: Write files: audio_bytes: ["
    },
    {
     "name": "stdout",
     "output_type": "stream",
     "text": "################################                            "
    },
    {
     "name": "stdout",
     "output_type": "stream",
     "text": "] |  54% (35231) |  5.6s"
    },
    {
     "name": "stdout",
     "output_type": "stream",
     "text": "\rMobile: Write files: audio_bytes: ["
    },
    {
     "name": "stdout",
     "output_type": "stream",
     "text": "#################################                           "
    },
    {
     "name": "stdout",
     "output_type": "stream",
     "text": "] |  56% (35231) |  5.7s"
    },
    {
     "name": "stdout",
     "output_type": "stream",
     "text": "\rMobile: Write files: audio_bytes: ["
    },
    {
     "name": "stdout",
     "output_type": "stream",
     "text": "##################################                          "
    },
    {
     "name": "stdout",
     "output_type": "stream",
     "text": "] |  57% (35231) |  5.8s"
    },
    {
     "name": "stdout",
     "output_type": "stream",
     "text": "\rMobile: Write files: audio_bytes: ["
    },
    {
     "name": "stdout",
     "output_type": "stream",
     "text": "##################################                          "
    },
    {
     "name": "stdout",
     "output_type": "stream",
     "text": "] |  57% (35231) |  6.0s"
    },
    {
     "name": "stdout",
     "output_type": "stream",
     "text": "\rMobile: Write files: audio_bytes: ["
    },
    {
     "name": "stdout",
     "output_type": "stream",
     "text": "####################################                        "
    },
    {
     "name": "stdout",
     "output_type": "stream",
     "text": "] |  60% (35231) |  6.1s"
    },
    {
     "name": "stdout",
     "output_type": "stream",
     "text": "\rMobile: Write files: audio_bytes: ["
    },
    {
     "name": "stdout",
     "output_type": "stream",
     "text": "####################################                        "
    },
    {
     "name": "stdout",
     "output_type": "stream",
     "text": "] |  60% (35231) |  6.2s"
    },
    {
     "name": "stdout",
     "output_type": "stream",
     "text": "\rMobile: Write files: audio_bytes: ["
    },
    {
     "name": "stdout",
     "output_type": "stream",
     "text": "#####################################                       "
    },
    {
     "name": "stdout",
     "output_type": "stream",
     "text": "] |  63% (35231) |  6.3s"
    },
    {
     "name": "stdout",
     "output_type": "stream",
     "text": "\rMobile: Write files: audio_bytes: ["
    },
    {
     "name": "stdout",
     "output_type": "stream",
     "text": "######################################                      "
    },
    {
     "name": "stdout",
     "output_type": "stream",
     "text": "] |  63% (35231) |  6.4s"
    },
    {
     "name": "stdout",
     "output_type": "stream",
     "text": "\rMobile: Write files: audio_bytes: ["
    },
    {
     "name": "stdout",
     "output_type": "stream",
     "text": "######################################                      "
    },
    {
     "name": "stdout",
     "output_type": "stream",
     "text": "] |  64% (35231) |  6.5s"
    },
    {
     "name": "stdout",
     "output_type": "stream",
     "text": "\rMobile: Write files: audio_bytes: ["
    },
    {
     "name": "stdout",
     "output_type": "stream",
     "text": "########################################                    "
    },
    {
     "name": "stdout",
     "output_type": "stream",
     "text": "] |  66% (35231) |  6.7s"
    },
    {
     "name": "stdout",
     "output_type": "stream",
     "text": "\rMobile: Write files: audio_bytes: ["
    },
    {
     "name": "stdout",
     "output_type": "stream",
     "text": "########################################                    "
    },
    {
     "name": "stdout",
     "output_type": "stream",
     "text": "] |  66% (35231) |  6.8s"
    },
    {
     "name": "stdout",
     "output_type": "stream",
     "text": "\rMobile: Write files: audio_bytes: ["
    },
    {
     "name": "stdout",
     "output_type": "stream",
     "text": "#########################################                   "
    },
    {
     "name": "stdout",
     "output_type": "stream",
     "text": "] |  68% (35231) |  6.9s"
    },
    {
     "name": "stdout",
     "output_type": "stream",
     "text": "\rMobile: Write files: audio_bytes: ["
    },
    {
     "name": "stdout",
     "output_type": "stream",
     "text": "#########################################                   "
    },
    {
     "name": "stdout",
     "output_type": "stream",
     "text": "] |  69% (35231) |  7.0s"
    },
    {
     "name": "stdout",
     "output_type": "stream",
     "text": "\rMobile: Write files: audio_bytes: ["
    },
    {
     "name": "stdout",
     "output_type": "stream",
     "text": "##########################################                  "
    },
    {
     "name": "stdout",
     "output_type": "stream",
     "text": "] |  70% (35231) |  7.1s"
    },
    {
     "name": "stdout",
     "output_type": "stream",
     "text": "\rMobile: Write files: audio_bytes: ["
    },
    {
     "name": "stdout",
     "output_type": "stream",
     "text": "###########################################                 "
    },
    {
     "name": "stdout",
     "output_type": "stream",
     "text": "] |  73% (35231) |  7.2s"
    },
    {
     "name": "stdout",
     "output_type": "stream",
     "text": "\rMobile: Write files: audio_bytes: ["
    },
    {
     "name": "stdout",
     "output_type": "stream",
     "text": "###########################################                 "
    },
    {
     "name": "stdout",
     "output_type": "stream",
     "text": "] |  73% (35231) |  7.3s"
    },
    {
     "name": "stdout",
     "output_type": "stream",
     "text": "\rMobile: Write files: audio_bytes: ["
    },
    {
     "name": "stdout",
     "output_type": "stream",
     "text": "############################################                "
    },
    {
     "name": "stdout",
     "output_type": "stream",
     "text": "] |  74% (35231) |  7.4s"
    },
    {
     "name": "stdout",
     "output_type": "stream",
     "text": "\rMobile: Write files: audio_bytes: ["
    },
    {
     "name": "stdout",
     "output_type": "stream",
     "text": "#############################################               "
    },
    {
     "name": "stdout",
     "output_type": "stream",
     "text": "] |  76% (35231) |  7.6s"
    },
    {
     "name": "stdout",
     "output_type": "stream",
     "text": "\rMobile: Write files: audio_bytes: ["
    },
    {
     "name": "stdout",
     "output_type": "stream",
     "text": "#############################################               "
    },
    {
     "name": "stdout",
     "output_type": "stream",
     "text": "] |  76% (35231) |  7.7s"
    },
    {
     "name": "stdout",
     "output_type": "stream",
     "text": "\rMobile: Write files: audio_bytes: ["
    },
    {
     "name": "stdout",
     "output_type": "stream",
     "text": "###############################################             "
    },
    {
     "name": "stdout",
     "output_type": "stream",
     "text": "] |  78% (35231) |  7.8s"
    },
    {
     "name": "stdout",
     "output_type": "stream",
     "text": "\rMobile: Write files: audio_bytes: ["
    },
    {
     "name": "stdout",
     "output_type": "stream",
     "text": "###############################################             "
    },
    {
     "name": "stdout",
     "output_type": "stream",
     "text": "] |  79% (35231) |  7.9s"
    },
    {
     "name": "stdout",
     "output_type": "stream",
     "text": "\rMobile: Write files: audio_bytes: ["
    },
    {
     "name": "stdout",
     "output_type": "stream",
     "text": "###############################################             "
    },
    {
     "name": "stdout",
     "output_type": "stream",
     "text": "] |  79% (35231) |  8.0s"
    },
    {
     "name": "stdout",
     "output_type": "stream",
     "text": "\rMobile: Write files: audio_bytes: ["
    },
    {
     "name": "stdout",
     "output_type": "stream",
     "text": "###############################################             "
    },
    {
     "name": "stdout",
     "output_type": "stream",
     "text": "] |  79% (35231) |  8.1s"
    },
    {
     "name": "stdout",
     "output_type": "stream",
     "text": "\rMobile: Write files: audio_bytes: ["
    },
    {
     "name": "stdout",
     "output_type": "stream",
     "text": "#################################################           "
    },
    {
     "name": "stdout",
     "output_type": "stream",
     "text": "] |  82% (35231) |  8.2s"
    },
    {
     "name": "stdout",
     "output_type": "stream",
     "text": "\rMobile: Write files: audio_bytes: ["
    },
    {
     "name": "stdout",
     "output_type": "stream",
     "text": "#################################################           "
    },
    {
     "name": "stdout",
     "output_type": "stream",
     "text": "] |  82% (35231) |  8.3s"
    },
    {
     "name": "stdout",
     "output_type": "stream",
     "text": "\rMobile: Write files: audio_bytes: ["
    },
    {
     "name": "stdout",
     "output_type": "stream",
     "text": "##################################################          "
    },
    {
     "name": "stdout",
     "output_type": "stream",
     "text": "] |  84% (35231) |  8.4s"
    },
    {
     "name": "stdout",
     "output_type": "stream",
     "text": "\rMobile: Write files: audio_bytes: ["
    },
    {
     "name": "stdout",
     "output_type": "stream",
     "text": "###################################################         "
    },
    {
     "name": "stdout",
     "output_type": "stream",
     "text": "] |  85% (35231) |  8.5s"
    },
    {
     "name": "stdout",
     "output_type": "stream",
     "text": "\rMobile: Write files: audio_bytes: ["
    },
    {
     "name": "stdout",
     "output_type": "stream",
     "text": "###################################################         "
    },
    {
     "name": "stdout",
     "output_type": "stream",
     "text": "] |  85% (35231) |  8.7s"
    },
    {
     "name": "stdout",
     "output_type": "stream",
     "text": "\rMobile: Write files: audio_bytes: ["
    },
    {
     "name": "stdout",
     "output_type": "stream",
     "text": "####################################################        "
    },
    {
     "name": "stdout",
     "output_type": "stream",
     "text": "] |  88% (35231) |  8.8s"
    },
    {
     "name": "stdout",
     "output_type": "stream",
     "text": "\rMobile: Write files: audio_bytes: ["
    },
    {
     "name": "stdout",
     "output_type": "stream",
     "text": "####################################################        "
    },
    {
     "name": "stdout",
     "output_type": "stream",
     "text": "] |  88% (35231) |  8.9s"
    },
    {
     "name": "stdout",
     "output_type": "stream",
     "text": "\rMobile: Write files: audio_bytes: ["
    },
    {
     "name": "stdout",
     "output_type": "stream",
     "text": "######################################################      "
    },
    {
     "name": "stdout",
     "output_type": "stream",
     "text": "] |  90% (35231) |  9.0s"
    },
    {
     "name": "stdout",
     "output_type": "stream",
     "text": "\rMobile: Write files: audio_bytes: ["
    },
    {
     "name": "stdout",
     "output_type": "stream",
     "text": "######################################################      "
    },
    {
     "name": "stdout",
     "output_type": "stream",
     "text": "] |  91% (35231) |  9.1s"
    },
    {
     "name": "stdout",
     "output_type": "stream",
     "text": "\rMobile: Write files: audio_bytes: ["
    },
    {
     "name": "stdout",
     "output_type": "stream",
     "text": "######################################################      "
    },
    {
     "name": "stdout",
     "output_type": "stream",
     "text": "] |  91% (35231) |  9.2s"
    },
    {
     "name": "stdout",
     "output_type": "stream",
     "text": "\rMobile: Write files: audio_bytes: ["
    },
    {
     "name": "stdout",
     "output_type": "stream",
     "text": "########################################################    "
    },
    {
     "name": "stdout",
     "output_type": "stream",
     "text": "] |  93% (35231) |  9.3s"
    },
    {
     "name": "stdout",
     "output_type": "stream",
     "text": "\rMobile: Write files: audio_bytes: ["
    },
    {
     "name": "stdout",
     "output_type": "stream",
     "text": "########################################################    "
    },
    {
     "name": "stdout",
     "output_type": "stream",
     "text": "] |  94% (35231) |  9.5s"
    },
    {
     "name": "stdout",
     "output_type": "stream",
     "text": "\rMobile: Write files: audio_bytes: ["
    },
    {
     "name": "stdout",
     "output_type": "stream",
     "text": "########################################################    "
    },
    {
     "name": "stdout",
     "output_type": "stream",
     "text": "] |  94% (35231) |  9.6s"
    },
    {
     "name": "stdout",
     "output_type": "stream",
     "text": "\rMobile: Write files: audio_bytes: ["
    },
    {
     "name": "stdout",
     "output_type": "stream",
     "text": "#########################################################   "
    },
    {
     "name": "stdout",
     "output_type": "stream",
     "text": "] |  95% (35231) |  9.7s"
    },
    {
     "name": "stdout",
     "output_type": "stream",
     "text": "\rMobile: Write files: audio_bytes: ["
    },
    {
     "name": "stdout",
     "output_type": "stream",
     "text": "##########################################################  "
    },
    {
     "name": "stdout",
     "output_type": "stream",
     "text": "] |  97% (35231) |  9.8s"
    },
    {
     "name": "stdout",
     "output_type": "stream",
     "text": "\rMobile: Write files: audio_bytes: ["
    },
    {
     "name": "stdout",
     "output_type": "stream",
     "text": "##########################################################  "
    },
    {
     "name": "stdout",
     "output_type": "stream",
     "text": "] |  97% (35231) | 10.0s"
    },
    {
     "name": "stdout",
     "output_type": "stream",
     "text": "\rMobile: Write files: audio_bytes: ["
    },
    {
     "name": "stdout",
     "output_type": "stream",
     "text": "############################################################"
    },
    {
     "name": "stdout",
     "output_type": "stream",
     "text": "] | 100% (35231) | 10.1s"
    },
    {
     "name": "stdout",
     "output_type": "stream",
     "text": "\n"
    },
    {
     "name": "stdout",
     "output_type": "stream",
     "text": "\rMobile: Ensure dirs: spectro_bytes: ["
    },
    {
     "name": "stdout",
     "output_type": "stream",
     "text": "                                                            "
    },
    {
     "name": "stdout",
     "output_type": "stream",
     "text": "] |   0% (334) |  0.0s"
    },
    {
     "name": "stdout",
     "output_type": "stream",
     "text": "\rMobile: Ensure dirs: spectro_bytes: ["
    },
    {
     "name": "stdout",
     "output_type": "stream",
     "text": "############################################################"
    },
    {
     "name": "stdout",
     "output_type": "stream",
     "text": "] | 100% (334) |  0.1s"
    },
    {
     "name": "stdout",
     "output_type": "stream",
     "text": "\n"
    },
    {
     "name": "stdout",
     "output_type": "stream",
     "text": "\rMobile: Write files: spectro_bytes: ["
    },
    {
     "name": "stdout",
     "output_type": "stream",
     "text": "                                                          "
    },
    {
     "name": "stdout",
     "output_type": "stream",
     "text": "] |   0% (35231) |  0.0s"
    },
    {
     "name": "stdout",
     "output_type": "stream",
     "text": "\rMobile: Write files: spectro_bytes: ["
    },
    {
     "name": "stdout",
     "output_type": "stream",
     "text": "                                                          "
    },
    {
     "name": "stdout",
     "output_type": "stream",
     "text": "] |   0% (35231) |  0.2s"
    },
    {
     "name": "stdout",
     "output_type": "stream",
     "text": "\rMobile: Write files: spectro_bytes: ["
    },
    {
     "name": "stdout",
     "output_type": "stream",
     "text": "                                                          "
    },
    {
     "name": "stdout",
     "output_type": "stream",
     "text": "] |   0% (35231) |  0.3s"
    },
    {
     "name": "stdout",
     "output_type": "stream",
     "text": "\rMobile: Write files: spectro_bytes: ["
    },
    {
     "name": "stdout",
     "output_type": "stream",
     "text": "                                                          "
    },
    {
     "name": "stdout",
     "output_type": "stream",
     "text": "] |   0% (35231) |  0.4s"
    },
    {
     "name": "stdout",
     "output_type": "stream",
     "text": "\rMobile: Write files: spectro_bytes: ["
    },
    {
     "name": "stdout",
     "output_type": "stream",
     "text": "                                                          "
    },
    {
     "name": "stdout",
     "output_type": "stream",
     "text": "] |   0% (35231) |  0.5s"
    },
    {
     "name": "stdout",
     "output_type": "stream",
     "text": "\rMobile: Write files: spectro_bytes: ["
    },
    {
     "name": "stdout",
     "output_type": "stream",
     "text": "                                                          "
    },
    {
     "name": "stdout",
     "output_type": "stream",
     "text": "] |   0% (35231) |  0.6s"
    },
    {
     "name": "stdout",
     "output_type": "stream",
     "text": "\rMobile: Write files: spectro_bytes: ["
    },
    {
     "name": "stdout",
     "output_type": "stream",
     "text": "                                                          "
    },
    {
     "name": "stdout",
     "output_type": "stream",
     "text": "] |   0% (35231) |  0.7s"
    },
    {
     "name": "stdout",
     "output_type": "stream",
     "text": "\rMobile: Write files: spectro_bytes: ["
    },
    {
     "name": "stdout",
     "output_type": "stream",
     "text": "                                                          "
    },
    {
     "name": "stdout",
     "output_type": "stream",
     "text": "] |   0% (35231) |  0.9s"
    },
    {
     "name": "stdout",
     "output_type": "stream",
     "text": "\rMobile: Write files: spectro_bytes: ["
    },
    {
     "name": "stdout",
     "output_type": "stream",
     "text": "                                                          "
    },
    {
     "name": "stdout",
     "output_type": "stream",
     "text": "] |   0% (35231) |  1.0s"
    },
    {
     "name": "stdout",
     "output_type": "stream",
     "text": "\rMobile: Write files: spectro_bytes: ["
    },
    {
     "name": "stdout",
     "output_type": "stream",
     "text": "                                                          "
    },
    {
     "name": "stdout",
     "output_type": "stream",
     "text": "] |   0% (35231) |  1.1s"
    },
    {
     "name": "stdout",
     "output_type": "stream",
     "text": "\rMobile: Write files: spectro_bytes: ["
    },
    {
     "name": "stdout",
     "output_type": "stream",
     "text": "                                                          "
    },
    {
     "name": "stdout",
     "output_type": "stream",
     "text": "] |   0% (35231) |  1.2s"
    },
    {
     "name": "stdout",
     "output_type": "stream",
     "text": "\rMobile: Write files: spectro_bytes: ["
    },
    {
     "name": "stdout",
     "output_type": "stream",
     "text": "                                                          "
    },
    {
     "name": "stdout",
     "output_type": "stream",
     "text": "] |   0% (35231) |  1.4s"
    },
    {
     "name": "stdout",
     "output_type": "stream",
     "text": "\rMobile: Write files: spectro_bytes: ["
    },
    {
     "name": "stdout",
     "output_type": "stream",
     "text": "                                                          "
    },
    {
     "name": "stdout",
     "output_type": "stream",
     "text": "] |   0% (35231) |  1.5s"
    },
    {
     "name": "stdout",
     "output_type": "stream",
     "text": "\rMobile: Write files: spectro_bytes: ["
    },
    {
     "name": "stdout",
     "output_type": "stream",
     "text": "                                                          "
    },
    {
     "name": "stdout",
     "output_type": "stream",
     "text": "] |   0% (35231) |  1.6s"
    },
    {
     "name": "stdout",
     "output_type": "stream",
     "text": "\rMobile: Write files: spectro_bytes: ["
    },
    {
     "name": "stdout",
     "output_type": "stream",
     "text": "                                                          "
    },
    {
     "name": "stdout",
     "output_type": "stream",
     "text": "] |   0% (35231) |  1.7s"
    },
    {
     "name": "stdout",
     "output_type": "stream",
     "text": "\rMobile: Write files: spectro_bytes: ["
    },
    {
     "name": "stdout",
     "output_type": "stream",
     "text": "                                                          "
    },
    {
     "name": "stdout",
     "output_type": "stream",
     "text": "] |   0% (35231) |  1.8s"
    },
    {
     "name": "stdout",
     "output_type": "stream",
     "text": "\rMobile: Write files: spectro_bytes: ["
    },
    {
     "name": "stdout",
     "output_type": "stream",
     "text": "                                                          "
    },
    {
     "name": "stdout",
     "output_type": "stream",
     "text": "] |   0% (35231) |  1.9s"
    },
    {
     "name": "stdout",
     "output_type": "stream",
     "text": "\rMobile: Write files: spectro_bytes: ["
    },
    {
     "name": "stdout",
     "output_type": "stream",
     "text": "                                                          "
    },
    {
     "name": "stdout",
     "output_type": "stream",
     "text": "] |   0% (35231) |  2.0s"
    },
    {
     "name": "stdout",
     "output_type": "stream",
     "text": "\rMobile: Write files: spectro_bytes: ["
    },
    {
     "name": "stdout",
     "output_type": "stream",
     "text": "########                                                  "
    },
    {
     "name": "stdout",
     "output_type": "stream",
     "text": "] |  15% (35231) |  2.1s"
    },
    {
     "name": "stdout",
     "output_type": "stream",
     "text": "\rMobile: Write files: spectro_bytes: ["
    },
    {
     "name": "stdout",
     "output_type": "stream",
     "text": "###########                                               "
    },
    {
     "name": "stdout",
     "output_type": "stream",
     "text": "] |  20% (35231) |  2.2s"
    },
    {
     "name": "stdout",
     "output_type": "stream",
     "text": "\rMobile: Write files: spectro_bytes: ["
    },
    {
     "name": "stdout",
     "output_type": "stream",
     "text": "###########                                               "
    },
    {
     "name": "stdout",
     "output_type": "stream",
     "text": "] |  20% (35231) |  2.4s"
    },
    {
     "name": "stdout",
     "output_type": "stream",
     "text": "\rMobile: Write files: spectro_bytes: ["
    },
    {
     "name": "stdout",
     "output_type": "stream",
     "text": "###########                                               "
    },
    {
     "name": "stdout",
     "output_type": "stream",
     "text": "] |  20% (35231) |  2.5s"
    },
    {
     "name": "stdout",
     "output_type": "stream",
     "text": "\rMobile: Write files: spectro_bytes: ["
    },
    {
     "name": "stdout",
     "output_type": "stream",
     "text": "###########                                               "
    },
    {
     "name": "stdout",
     "output_type": "stream",
     "text": "] |  20% (35231) |  2.6s"
    },
    {
     "name": "stdout",
     "output_type": "stream",
     "text": "\rMobile: Write files: spectro_bytes: ["
    },
    {
     "name": "stdout",
     "output_type": "stream",
     "text": "###########                                               "
    },
    {
     "name": "stdout",
     "output_type": "stream",
     "text": "] |  20% (35231) |  2.7s"
    },
    {
     "name": "stdout",
     "output_type": "stream",
     "text": "\rMobile: Write files: spectro_bytes: ["
    },
    {
     "name": "stdout",
     "output_type": "stream",
     "text": "###########                                               "
    },
    {
     "name": "stdout",
     "output_type": "stream",
     "text": "] |  20% (35231) |  2.8s"
    },
    {
     "name": "stdout",
     "output_type": "stream",
     "text": "\rMobile: Write files: spectro_bytes: ["
    },
    {
     "name": "stdout",
     "output_type": "stream",
     "text": "###########                                               "
    },
    {
     "name": "stdout",
     "output_type": "stream",
     "text": "] |  20% (35231) |  2.9s"
    },
    {
     "name": "stdout",
     "output_type": "stream",
     "text": "\rMobile: Write files: spectro_bytes: ["
    },
    {
     "name": "stdout",
     "output_type": "stream",
     "text": "###########                                               "
    },
    {
     "name": "stdout",
     "output_type": "stream",
     "text": "] |  20% (35231) |  3.0s"
    },
    {
     "name": "stdout",
     "output_type": "stream",
     "text": "\rMobile: Write files: spectro_bytes: ["
    },
    {
     "name": "stdout",
     "output_type": "stream",
     "text": "###########                                               "
    },
    {
     "name": "stdout",
     "output_type": "stream",
     "text": "] |  20% (35231) |  3.1s"
    },
    {
     "name": "stdout",
     "output_type": "stream",
     "text": "\rMobile: Write files: spectro_bytes: ["
    },
    {
     "name": "stdout",
     "output_type": "stream",
     "text": "###########                                               "
    },
    {
     "name": "stdout",
     "output_type": "stream",
     "text": "] |  20% (35231) |  3.3s"
    },
    {
     "name": "stdout",
     "output_type": "stream",
     "text": "\rMobile: Write files: spectro_bytes: ["
    },
    {
     "name": "stdout",
     "output_type": "stream",
     "text": "###########                                               "
    },
    {
     "name": "stdout",
     "output_type": "stream",
     "text": "] |  20% (35231) |  3.4s"
    },
    {
     "name": "stdout",
     "output_type": "stream",
     "text": "\rMobile: Write files: spectro_bytes: ["
    },
    {
     "name": "stdout",
     "output_type": "stream",
     "text": "###########                                               "
    },
    {
     "name": "stdout",
     "output_type": "stream",
     "text": "] |  20% (35231) |  3.5s"
    },
    {
     "name": "stdout",
     "output_type": "stream",
     "text": "\rMobile: Write files: spectro_bytes: ["
    },
    {
     "name": "stdout",
     "output_type": "stream",
     "text": "###########                                               "
    },
    {
     "name": "stdout",
     "output_type": "stream",
     "text": "] |  20% (35231) |  3.6s"
    },
    {
     "name": "stdout",
     "output_type": "stream",
     "text": "\rMobile: Write files: spectro_bytes: ["
    },
    {
     "name": "stdout",
     "output_type": "stream",
     "text": "###########                                               "
    },
    {
     "name": "stdout",
     "output_type": "stream",
     "text": "] |  20% (35231) |  3.7s"
    },
    {
     "name": "stdout",
     "output_type": "stream",
     "text": "\rMobile: Write files: spectro_bytes: ["
    },
    {
     "name": "stdout",
     "output_type": "stream",
     "text": "#######################                                   "
    },
    {
     "name": "stdout",
     "output_type": "stream",
     "text": "] |  40% (35231) |  3.8s"
    },
    {
     "name": "stdout",
     "output_type": "stream",
     "text": "\rMobile: Write files: spectro_bytes: ["
    },
    {
     "name": "stdout",
     "output_type": "stream",
     "text": "#######################                                   "
    },
    {
     "name": "stdout",
     "output_type": "stream",
     "text": "] |  40% (35231) |  3.9s"
    },
    {
     "name": "stdout",
     "output_type": "stream",
     "text": "\rMobile: Write files: spectro_bytes: ["
    },
    {
     "name": "stdout",
     "output_type": "stream",
     "text": "#######################                                   "
    },
    {
     "name": "stdout",
     "output_type": "stream",
     "text": "] |  40% (35231) |  4.0s"
    },
    {
     "name": "stdout",
     "output_type": "stream",
     "text": "\rMobile: Write files: spectro_bytes: ["
    },
    {
     "name": "stdout",
     "output_type": "stream",
     "text": "#######################                                   "
    },
    {
     "name": "stdout",
     "output_type": "stream",
     "text": "] |  40% (35231) |  4.1s"
    },
    {
     "name": "stdout",
     "output_type": "stream",
     "text": "\rMobile: Write files: spectro_bytes: ["
    },
    {
     "name": "stdout",
     "output_type": "stream",
     "text": "#######################                                   "
    },
    {
     "name": "stdout",
     "output_type": "stream",
     "text": "] |  40% (35231) |  4.3s"
    },
    {
     "name": "stdout",
     "output_type": "stream",
     "text": "\rMobile: Write files: spectro_bytes: ["
    },
    {
     "name": "stdout",
     "output_type": "stream",
     "text": "#######################                                   "
    },
    {
     "name": "stdout",
     "output_type": "stream",
     "text": "] |  40% (35231) |  4.4s"
    },
    {
     "name": "stdout",
     "output_type": "stream",
     "text": "\rMobile: Write files: spectro_bytes: ["
    },
    {
     "name": "stdout",
     "output_type": "stream",
     "text": "#######################                                   "
    },
    {
     "name": "stdout",
     "output_type": "stream",
     "text": "] |  40% (35231) |  4.5s"
    },
    {
     "name": "stdout",
     "output_type": "stream",
     "text": "\rMobile: Write files: spectro_bytes: ["
    },
    {
     "name": "stdout",
     "output_type": "stream",
     "text": "#######################                                   "
    },
    {
     "name": "stdout",
     "output_type": "stream",
     "text": "] |  40% (35231) |  4.6s"
    },
    {
     "name": "stdout",
     "output_type": "stream",
     "text": "\rMobile: Write files: spectro_bytes: ["
    },
    {
     "name": "stdout",
     "output_type": "stream",
     "text": "#######################                                   "
    },
    {
     "name": "stdout",
     "output_type": "stream",
     "text": "] |  40% (35231) |  4.7s"
    },
    {
     "name": "stdout",
     "output_type": "stream",
     "text": "\rMobile: Write files: spectro_bytes: ["
    },
    {
     "name": "stdout",
     "output_type": "stream",
     "text": "#######################                                   "
    },
    {
     "name": "stdout",
     "output_type": "stream",
     "text": "] |  40% (35231) |  4.8s"
    },
    {
     "name": "stdout",
     "output_type": "stream",
     "text": "\rMobile: Write files: spectro_bytes: ["
    },
    {
     "name": "stdout",
     "output_type": "stream",
     "text": "#######################                                   "
    },
    {
     "name": "stdout",
     "output_type": "stream",
     "text": "] |  40% (35231) |  4.9s"
    },
    {
     "name": "stdout",
     "output_type": "stream",
     "text": "\rMobile: Write files: spectro_bytes: ["
    },
    {
     "name": "stdout",
     "output_type": "stream",
     "text": "#######################                                   "
    },
    {
     "name": "stdout",
     "output_type": "stream",
     "text": "] |  40% (35231) |  5.0s"
    },
    {
     "name": "stdout",
     "output_type": "stream",
     "text": "\rMobile: Write files: spectro_bytes: ["
    },
    {
     "name": "stdout",
     "output_type": "stream",
     "text": "#######################                                   "
    },
    {
     "name": "stdout",
     "output_type": "stream",
     "text": "] |  40% (35231) |  5.2s"
    },
    {
     "name": "stdout",
     "output_type": "stream",
     "text": "\rMobile: Write files: spectro_bytes: ["
    },
    {
     "name": "stdout",
     "output_type": "stream",
     "text": "#######################                                   "
    },
    {
     "name": "stdout",
     "output_type": "stream",
     "text": "] |  40% (35231) |  5.3s"
    },
    {
     "name": "stdout",
     "output_type": "stream",
     "text": "\rMobile: Write files: spectro_bytes: ["
    },
    {
     "name": "stdout",
     "output_type": "stream",
     "text": "#######################                                   "
    },
    {
     "name": "stdout",
     "output_type": "stream",
     "text": "] |  40% (35231) |  5.4s"
    },
    {
     "name": "stdout",
     "output_type": "stream",
     "text": "\rMobile: Write files: spectro_bytes: ["
    },
    {
     "name": "stdout",
     "output_type": "stream",
     "text": "#############################                             "
    },
    {
     "name": "stdout",
     "output_type": "stream",
     "text": "] |  50% (35231) |  5.5s"
    },
    {
     "name": "stdout",
     "output_type": "stream",
     "text": "\rMobile: Write files: spectro_bytes: ["
    },
    {
     "name": "stdout",
     "output_type": "stream",
     "text": "##################################                        "
    },
    {
     "name": "stdout",
     "output_type": "stream",
     "text": "] |  60% (35231) |  5.6s"
    },
    {
     "name": "stdout",
     "output_type": "stream",
     "text": "\rMobile: Write files: spectro_bytes: ["
    },
    {
     "name": "stdout",
     "output_type": "stream",
     "text": "##################################                        "
    },
    {
     "name": "stdout",
     "output_type": "stream",
     "text": "] |  60% (35231) |  5.7s"
    },
    {
     "name": "stdout",
     "output_type": "stream",
     "text": "\rMobile: Write files: spectro_bytes: ["
    },
    {
     "name": "stdout",
     "output_type": "stream",
     "text": "##################################                        "
    },
    {
     "name": "stdout",
     "output_type": "stream",
     "text": "] |  60% (35231) |  5.8s"
    },
    {
     "name": "stdout",
     "output_type": "stream",
     "text": "\rMobile: Write files: spectro_bytes: ["
    },
    {
     "name": "stdout",
     "output_type": "stream",
     "text": "##################################                        "
    },
    {
     "name": "stdout",
     "output_type": "stream",
     "text": "] |  60% (35231) |  5.9s"
    },
    {
     "name": "stdout",
     "output_type": "stream",
     "text": "\rMobile: Write files: spectro_bytes: ["
    },
    {
     "name": "stdout",
     "output_type": "stream",
     "text": "##################################                        "
    },
    {
     "name": "stdout",
     "output_type": "stream",
     "text": "] |  60% (35231) |  6.0s"
    },
    {
     "name": "stdout",
     "output_type": "stream",
     "text": "\rMobile: Write files: spectro_bytes: ["
    },
    {
     "name": "stdout",
     "output_type": "stream",
     "text": "##################################                        "
    },
    {
     "name": "stdout",
     "output_type": "stream",
     "text": "] |  60% (35231) |  6.2s"
    },
    {
     "name": "stdout",
     "output_type": "stream",
     "text": "\rMobile: Write files: spectro_bytes: ["
    },
    {
     "name": "stdout",
     "output_type": "stream",
     "text": "##################################                        "
    },
    {
     "name": "stdout",
     "output_type": "stream",
     "text": "] |  60% (35231) |  6.3s"
    },
    {
     "name": "stdout",
     "output_type": "stream",
     "text": "\rMobile: Write files: spectro_bytes: ["
    },
    {
     "name": "stdout",
     "output_type": "stream",
     "text": "##################################                        "
    },
    {
     "name": "stdout",
     "output_type": "stream",
     "text": "] |  60% (35231) |  6.4s"
    },
    {
     "name": "stdout",
     "output_type": "stream",
     "text": "\rMobile: Write files: spectro_bytes: ["
    },
    {
     "name": "stdout",
     "output_type": "stream",
     "text": "##################################                        "
    },
    {
     "name": "stdout",
     "output_type": "stream",
     "text": "] |  60% (35231) |  6.5s"
    },
    {
     "name": "stdout",
     "output_type": "stream",
     "text": "\rMobile: Write files: spectro_bytes: ["
    },
    {
     "name": "stdout",
     "output_type": "stream",
     "text": "##################################                        "
    },
    {
     "name": "stdout",
     "output_type": "stream",
     "text": "] |  60% (35231) |  6.6s"
    },
    {
     "name": "stdout",
     "output_type": "stream",
     "text": "\rMobile: Write files: spectro_bytes: ["
    },
    {
     "name": "stdout",
     "output_type": "stream",
     "text": "##################################                        "
    },
    {
     "name": "stdout",
     "output_type": "stream",
     "text": "] |  60% (35231) |  6.7s"
    },
    {
     "name": "stdout",
     "output_type": "stream",
     "text": "\rMobile: Write files: spectro_bytes: ["
    },
    {
     "name": "stdout",
     "output_type": "stream",
     "text": "##################################                        "
    },
    {
     "name": "stdout",
     "output_type": "stream",
     "text": "] |  60% (35231) |  6.8s"
    },
    {
     "name": "stdout",
     "output_type": "stream",
     "text": "\rMobile: Write files: spectro_bytes: ["
    },
    {
     "name": "stdout",
     "output_type": "stream",
     "text": "##################################                        "
    },
    {
     "name": "stdout",
     "output_type": "stream",
     "text": "] |  60% (35231) |  6.9s"
    },
    {
     "name": "stdout",
     "output_type": "stream",
     "text": "\rMobile: Write files: spectro_bytes: ["
    },
    {
     "name": "stdout",
     "output_type": "stream",
     "text": "##################################                        "
    },
    {
     "name": "stdout",
     "output_type": "stream",
     "text": "] |  60% (35231) |  7.0s"
    },
    {
     "name": "stdout",
     "output_type": "stream",
     "text": "\rMobile: Write files: spectro_bytes: ["
    },
    {
     "name": "stdout",
     "output_type": "stream",
     "text": "##################################                        "
    },
    {
     "name": "stdout",
     "output_type": "stream",
     "text": "] |  60% (35231) |  7.2s"
    },
    {
     "name": "stdout",
     "output_type": "stream",
     "text": "\rMobile: Write files: spectro_bytes: ["
    },
    {
     "name": "stdout",
     "output_type": "stream",
     "text": "##################################                        "
    },
    {
     "name": "stdout",
     "output_type": "stream",
     "text": "] |  60% (35231) |  7.3s"
    },
    {
     "name": "stdout",
     "output_type": "stream",
     "text": "\rMobile: Write files: spectro_bytes: ["
    },
    {
     "name": "stdout",
     "output_type": "stream",
     "text": "##############################################            "
    },
    {
     "name": "stdout",
     "output_type": "stream",
     "text": "] |  80% (35231) |  7.4s"
    },
    {
     "name": "stdout",
     "output_type": "stream",
     "text": "\rMobile: Write files: spectro_bytes: ["
    },
    {
     "name": "stdout",
     "output_type": "stream",
     "text": "##############################################            "
    },
    {
     "name": "stdout",
     "output_type": "stream",
     "text": "] |  80% (35231) |  7.5s"
    },
    {
     "name": "stdout",
     "output_type": "stream",
     "text": "\rMobile: Write files: spectro_bytes: ["
    },
    {
     "name": "stdout",
     "output_type": "stream",
     "text": "##############################################            "
    },
    {
     "name": "stdout",
     "output_type": "stream",
     "text": "] |  80% (35231) |  7.6s"
    },
    {
     "name": "stdout",
     "output_type": "stream",
     "text": "\rMobile: Write files: spectro_bytes: ["
    },
    {
     "name": "stdout",
     "output_type": "stream",
     "text": "##############################################            "
    },
    {
     "name": "stdout",
     "output_type": "stream",
     "text": "] |  80% (35231) |  7.7s"
    },
    {
     "name": "stdout",
     "output_type": "stream",
     "text": "\rMobile: Write files: spectro_bytes: ["
    },
    {
     "name": "stdout",
     "output_type": "stream",
     "text": "##############################################            "
    },
    {
     "name": "stdout",
     "output_type": "stream",
     "text": "] |  80% (35231) |  7.8s"
    },
    {
     "name": "stdout",
     "output_type": "stream",
     "text": "\rMobile: Write files: spectro_bytes: ["
    },
    {
     "name": "stdout",
     "output_type": "stream",
     "text": "##############################################            "
    },
    {
     "name": "stdout",
     "output_type": "stream",
     "text": "] |  80% (35231) |  7.9s"
    },
    {
     "name": "stdout",
     "output_type": "stream",
     "text": "\rMobile: Write files: spectro_bytes: ["
    },
    {
     "name": "stdout",
     "output_type": "stream",
     "text": "##############################################            "
    },
    {
     "name": "stdout",
     "output_type": "stream",
     "text": "] |  80% (35231) |  8.1s"
    },
    {
     "name": "stdout",
     "output_type": "stream",
     "text": "\rMobile: Write files: spectro_bytes: ["
    },
    {
     "name": "stdout",
     "output_type": "stream",
     "text": "##############################################            "
    },
    {
     "name": "stdout",
     "output_type": "stream",
     "text": "] |  80% (35231) |  8.2s"
    },
    {
     "name": "stdout",
     "output_type": "stream",
     "text": "\rMobile: Write files: spectro_bytes: ["
    },
    {
     "name": "stdout",
     "output_type": "stream",
     "text": "##############################################            "
    },
    {
     "name": "stdout",
     "output_type": "stream",
     "text": "] |  80% (35231) |  8.3s"
    },
    {
     "name": "stdout",
     "output_type": "stream",
     "text": "\rMobile: Write files: spectro_bytes: ["
    },
    {
     "name": "stdout",
     "output_type": "stream",
     "text": "##############################################            "
    },
    {
     "name": "stdout",
     "output_type": "stream",
     "text": "] |  80% (35231) |  8.4s"
    },
    {
     "name": "stdout",
     "output_type": "stream",
     "text": "\rMobile: Write files: spectro_bytes: ["
    },
    {
     "name": "stdout",
     "output_type": "stream",
     "text": "##############################################            "
    },
    {
     "name": "stdout",
     "output_type": "stream",
     "text": "] |  80% (35231) |  8.5s"
    },
    {
     "name": "stdout",
     "output_type": "stream",
     "text": "\rMobile: Write files: spectro_bytes: ["
    },
    {
     "name": "stdout",
     "output_type": "stream",
     "text": "##############################################            "
    },
    {
     "name": "stdout",
     "output_type": "stream",
     "text": "] |  80% (35231) |  8.6s"
    },
    {
     "name": "stdout",
     "output_type": "stream",
     "text": "\rMobile: Write files: spectro_bytes: ["
    },
    {
     "name": "stdout",
     "output_type": "stream",
     "text": "##############################################            "
    },
    {
     "name": "stdout",
     "output_type": "stream",
     "text": "] |  80% (35231) |  8.7s"
    },
    {
     "name": "stdout",
     "output_type": "stream",
     "text": "\rMobile: Write files: spectro_bytes: ["
    },
    {
     "name": "stdout",
     "output_type": "stream",
     "text": "##############################################            "
    },
    {
     "name": "stdout",
     "output_type": "stream",
     "text": "] |  80% (35231) |  8.8s"
    },
    {
     "name": "stdout",
     "output_type": "stream",
     "text": "\rMobile: Write files: spectro_bytes: ["
    },
    {
     "name": "stdout",
     "output_type": "stream",
     "text": "##############################################            "
    },
    {
     "name": "stdout",
     "output_type": "stream",
     "text": "] |  80% (35231) |  8.9s"
    },
    {
     "name": "stdout",
     "output_type": "stream",
     "text": "\rMobile: Write files: spectro_bytes: ["
    },
    {
     "name": "stdout",
     "output_type": "stream",
     "text": "##############################################            "
    },
    {
     "name": "stdout",
     "output_type": "stream",
     "text": "] |  80% (35231) |  9.1s"
    },
    {
     "name": "stdout",
     "output_type": "stream",
     "text": "\rMobile: Write files: spectro_bytes: ["
    },
    {
     "name": "stdout",
     "output_type": "stream",
     "text": "##########################################################"
    },
    {
     "name": "stdout",
     "output_type": "stream",
     "text": "] | 100% (35231) |  9.2s"
    },
    {
     "name": "stdout",
     "output_type": "stream",
     "text": "\n"
    },
    {
     "name": "stdout",
     "output_type": "stream",
     "text": "INFO     [14:40:58.570] [65200] 272 payloads/df_cache_hybrid: Mobile: Expand feat col: f_preds (331) [5.431s]"
    },
    {
     "name": "stdout",
     "output_type": "stream",
     "text": "\n"
    },
    {
     "name": "stdout",
     "output_type": "stream",
     "text": "INFO     [14:40:59.007] [65200] 305 payloads/<dictcomp>: Mobile: Covert non-sql col: json_dumps_canonical(background) (35231) [0.178s]"
    },
    {
     "name": "stdout",
     "output_type": "stream",
     "text": "\n"
    },
    {
     "name": "stdout",
     "output_type": "stream",
     "text": "INFO     [14:40:59.199] [65200] 305 payloads/<dictcomp>: Mobile: Covert non-sql col: json_dumps_canonical(background_species) (35231) [0.178s]"
    },
    {
     "name": "stdout",
     "output_type": "stream",
     "text": "\n"
    },
    {
     "name": "stdout",
     "output_type": "stream",
     "text": "INFO     [14:41:15.030] [65200] 318 payloads/df_cache_hybrid: Mobile: Write mobile-version[0]/search_recs.sqlite3 [170.4 MB, 15.752s]"
    },
    {
     "name": "stdout",
     "output_type": "stream",
     "text": "\n"
    },
    {
     "name": "stdout",
     "output_type": "stream",
     "text": "INFO     [14:41:15.424] [65200] 318 payloads/df_cache_hybrid: Mobile: Write payload [57.320s]"
    },
    {
     "name": "stdout",
     "output_type": "stream",
     "text": "\n"
    },
    {
     "data": {
      "text/html": "<table border=\"1\" class=\"dataframe\">\n  <thead>\n    <tr style=\"text-align: right;\">\n      <th></th>\n      <th>dir</th>\n      <th>file</th>\n      <th>size</th>\n      <th>frac</th>\n    </tr>\n  </thead>\n  <tbody>\n    <tr>\n      <th>5</th>\n      <td><div class=\"not-number\">api</div></td>\n      <td><div class=\"not-number\">TOTAL</div></td>\n      <td>2098945907</td>\n      <td>1.000</td>\n    </tr>\n    <tr>\n      <th>1</th>\n      <td><div class=\"not-number\">api</div></td>\n      <td><div class=\"not-number\">api/bytes-audio_bytes.parquet</div></td>\n      <td>1412454635</td>\n      <td>0.673</td>\n    </tr>\n    <tr>\n      <th>2</th>\n      <td><div class=\"not-number\">api</div></td>\n      <td><div class=\"not-number\">api/bytes-spectro_bytes.parquet</div></td>\n      <td>382833212</td>\n      <td>0.182</td>\n    </tr>\n    <tr>\n      <th>4</th>\n      <td><div class=\"not-number\">api</div></td>\n      <td><div class=\"not-number\">api/feat-feat.npy: float32</div></td>\n      <td>211386128</td>\n      <td>0.101</td>\n    </tr>\n    <tr>\n      <th>3</th>\n      <td><div class=\"not-number\">api</div></td>\n      <td><div class=\"not-number\">api/feat-f_preds.npy: float32</div></td>\n      <td>46645972</td>\n      <td>0.022</td>\n    </tr>\n    <tr>\n      <th>0</th>\n      <td><div class=\"not-number\">api</div></td>\n      <td><div class=\"not-number\">api/lite.parquet</div></td>\n      <td>45625960</td>\n      <td>0.022</td>\n    </tr>\n    <tr>\n      <th>9</th>\n      <td><div class=\"not-number\">mobile-version[0]</div></td>\n      <td><div class=\"not-number\">TOTAL</div></td>\n      <td>2122682368</td>\n      <td>1.000</td>\n    </tr>\n    <tr>\n      <th>6</th>\n      <td><div class=\"not-number\">mobile-version[0]</div></td>\n      <td><div class=\"not-number\">mobile-version[0]/audio/</div></td>\n      <td>1502609408</td>\n      <td>0.708</td>\n    </tr>\n    <tr>\n      <th>7</th>\n      <td><div class=\"not-number\">mobile-version[0]</div></td>\n      <td><div class=\"not-number\">mobile-version[0]/spectro/</div></td>\n      <td>449687552</td>\n      <td>0.212</td>\n    </tr>\n    <tr>\n      <th>8</th>\n      <td><div class=\"not-number\">mobile-version[0]</div></td>\n      <td><div class=\"not-number\">mobile-version[0]/search_recs.sqlite3</div></td>\n      <td>170385408</td>\n      <td>0.080</td>\n    </tr>\n  </tbody>\n</table>",
      "text/plain": "                 dir                                   file        size   frac\n5                api                                  TOTAL  2098945907  1.000\n1                api          api/bytes-audio_bytes.parquet  1412454635  0.673\n2                api        api/bytes-spectro_bytes.parquet   382833212  0.182\n4                api             api/feat-feat.npy: float32   211386128  0.101\n3                api          api/feat-f_preds.npy: float32    46645972  0.022\n0                api                       api/lite.parquet    45625960  0.022\n9  mobile-version[0]                                  TOTAL  2122682368  1.000\n6  mobile-version[0]               mobile-version[0]/audio/  1502609408  0.708\n7  mobile-version[0]             mobile-version[0]/spectro/   449687552  0.212\n8  mobile-version[0]  mobile-version[0]/search_recs.sqlite3   170385408  0.080"
     },
     "metadata": {},
     "output_type": "display_data",
     "transient": {}
    },
    {
     "data": {
      "image/png": "[encoded data removed]",
      "text/plain": "<matplotlib.figure.Figure object at 0x16557a080>"
     },
     "metadata": {
      "image/png": {
       "height": 298,
       "width": 1070
      }
     },
     "output_type": "display_data",
     "transient": {}
    },
    {
     "data": {
      "text/html": " ",
      "text/plain": "<ggplot: (-9223372036446472020)>"
     },
     "metadata": {},
     "output_type": "display_data",
     "transient": {}
    },
    {
     "data": {
      "image/png": "[encoded data removed]",
      "text/plain": "<matplotlib.figure.Figure object at 0x1401d2358>"
     },
     "metadata": {
      "image/png": {
       "height": 211,
       "width": 996
      }
     },
     "output_type": "display_data",
     "transient": {}
    },
    {
     "data": {
      "text/html": " ",
      "text/plain": "<ggplot: (346407011)>"
     },
     "metadata": {},
     "output_type": "display_data",
     "transient": {}
    },
    {
     "data": {
      "text/html": "<table border=\"1\" class=\"dataframe\">\n  <thead>\n    <tr style=\"text-align: right;\">\n      <th></th>\n      <th>size</th>\n      <th>type</th>\n      <th>0</th>\n    </tr>\n  </thead>\n  <tbody>\n    <tr>\n      <th>xc_id</th>\n      <td>36</td>\n      <td><div class=\"not-number\">int</div></td>\n      <td>413174</td>\n    </tr>\n    <tr>\n      <th>feat</th>\n      <td>104</td>\n      <td><div class=\"not-number\">ndarray</div></td>\n      <td><div class=\"not-number\">[ 9.259e-02 -3.927e-02  4.972e-01 -4.154e-04 -4.900e-02 -6.117e-02  3.974e-02 -1.629e-01  6.649e-02 -1.643e-02\n -8.081e-02 -7.604e-02 -9.098e-02  4.766e-02 -4.830e-02 -6.90...</td>\n    </tr>\n    <tr>\n      <th>f_preds</th>\n      <td>104</td>\n      <td><div class=\"not-number\">ndarray</div></td>\n      <td><div class=\"not-number\">[3.219e-03 1.693e-03 4.284e-05 3.685e-03 1.657e-03 1.457e-02 9.939e-03 1.444e-03 2.617e-04 6.943e-04 4.435e-04\n 7.072e-04 2.569e-03 9.745e-03 8.396e-04 2.003e-03 7.801e-04 ...</td>\n    </tr>\n    <tr>\n      <th>background</th>\n      <td>80</td>\n      <td><div class=\"not-number\">list</div></td>\n      <td><div class=\"not-number\">['White-crowned Sparrow (Zonotrichia leucophrys)']</div></td>\n    </tr>\n    <tr>\n      <th>background_species</th>\n      <td>80</td>\n      <td><div class=\"not-number\">list</div></td>\n      <td><div class=\"not-number\">['WCSP']</div></td>\n    </tr>\n  </tbody>\n</table>",
      "text/plain": "                    size     type                                                                                                                                                                                                        0\nxc_id                 36      int                                                                                                                                                                                                   413174\nfeat                 104  ndarray  [0.09258732, -0.039267898, 0.49721217, -0.00041539228, -0.048999168, -0.0611713, 0.03974079, -0.16286443, 0.06649229, -0.016432613, -0.080809884, -0.076037146, -0.090977564, 0.047662657, -0.048301...\nf_preds              104  ndarray  [0.003219216, 0.0016933391, 4.2837153e-05, 0.0036848816, 0.0016570376, 0.014565381, 0.0099388985, 0.0014441155, 0.0002616892, 0.0006942802, 0.0004434612, 0.00070716365, 0.0025688438, 0.009744544, ...\nbackground            80     list                                                                                                                                                         [White-crowned Sparrow (Zonotrichia leucophrys)]\nbackground_species    80     list                                                                                                                                                                                                   [WCSP]"
     },
     "metadata": {},
     "output_type": "display_data",
     "transient": {}
    }
   ],
   "source": [
    "log_levels({\n",
    "    'payloads': 'INFO',\n",
    "    # 'payloads': 'DEBUG',\n",
    "})\n",
    "kwargss = [\n",
    "    # dict(cache_type='hybrid', refresh=True),  # Simulate cache miss\n",
    "    dict(cache_type='hybrid'),                # Simulate cache hit\n",
    "]\n",
    "search_recss = []\n",
    "for i, kwargs in enumerate(kwargss):\n",
    "    if i > 0: print()\n",
    "    print(f'search_recs(**{kwargs})')\n",
    "    get_search_recs.cache_clear()\n",
    "    search_recs = get_search_recs(**kwargs,\n",
    "        write_mobile_payload=True,\n",
    "        plot_sizes=True,\n",
    "    )\n",
    "    search_recss.append(search_recs)\n",
    "    display(search_recs\n",
    "        [['xc_id', 'feat', 'f_preds', 'background', 'background_species']]\n",
    "        [2:3].reset_index(drop=True).T\n",
    "        .pipe(df_assign_first,\n",
    "            size=lambda df: df.T.memory_usage(deep=True),\n",
    "            type=lambda df: df[0].map(lambda x: type(x).__name__),\n",
    "        )\n",
    "    )"
   ]
  },
  {
   "cell_type": "code",
   "execution_count": null,
   "metadata": {
    "skip": true
   },
   "outputs": [
    {
     "name": "stdout",
     "output_type": "stream",
     "text": "[skip]"
    }
   ],
   "source": [
    "# TODO Turn this into unit tests\n",
    "#   - Should roundtrip, should preserve category dtypes, should fail if index present\n",
    "assert len(search_recss) == 2, \"Test requires both 'cache hit' + 'cache miss' to be uncommented (above)\"\n",
    "[a, b] = search_recss\n",
    "pd.testing.assert_frame_equal(a, b, check_column_type=True,\n",
    "    check_index_type=False,  # Allow Int64Index vs. RangeIndex\n",
    ")"
   ]
  },
  {
   "cell_type": "code",
   "execution_count": null,
   "metadata": {},
   "outputs": [],
   "source": []
  }
 ],
 "metadata": {
  "kernelspec": {
   "display_name": "bubo-features (PYTHONSTARTUP)",
   "language": "python",
   "name": "bubo-features (PYTHONSTARTUP)"
  }
 },
 "nbformat": 4,
 "nbformat_minor": 2
}
