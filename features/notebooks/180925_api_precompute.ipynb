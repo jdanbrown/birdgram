{
 "cells": [
  {
   "cell_type": "code",
   "execution_count": null,
   "metadata": {
    "time": "25.715s"
   },
   "outputs": [],
   "source": [
    "from notebooks import *\n",
    "memory.log.level = 'debug'\n",
    "sg.init(app=None)"
   ]
  },
  {
   "cell_type": "code",
   "execution_count": null,
   "metadata": {},
   "outputs": [],
   "source": [
    "\n",
    "def opt(*args, **kwargs):\n",
    "    verbose_keys = ['cache', 'audio']\n",
    "    verbose(*args, **{k: v for k, v in kwargs.items() if k in verbose_keys})\n",
    "    par(**{k: v for k, v in kwargs.items() if k not in verbose_keys})\n",
    "\n",
    "def par(**kwargs):\n",
    "    \"\"\"\n",
    "    Usage:\n",
    "        par(use=None)                         # No par, no progress bars (easier to see audio read/write and cache hit/miss)\n",
    "        par(use='sync')                       # No par, cooperative progress bars (no lines printing over each other)\n",
    "        par(use='dask', scheduler='threads')  # Par, uncooperative progress bars (lines print over each other)\n",
    "    \"\"\"\n",
    "    progress_kwargs(override=kwargs)\n",
    "\n",
    "def verbose(\n",
    "    both=None,       # Shorthand, e.g. verbose('warn') = verbose(cache='warn', audio='warn')\n",
    "    *,\n",
    "    cache='debug',   # Show cache hit/miss lines # WARNING Frequent hangs during bigger xc_similar_html calls...\n",
    "    # cache='info',  # Show cache hit/miss chars # WARNING (same)\n",
    "    # cache='warn',  # Quiet\n",
    "    audio='debug',   # Show read/write\n",
    "    # audio='info',  # Show write\n",
    "    # audio='warn',  # Quiet\n",
    "):\n",
    "    if both:\n",
    "        cache = both\n",
    "        audio = both\n",
    "    memory.log.level = cache\n",
    "    log_levels({'load': audio.upper()})\n",
    "\n",
    "def n_recs_by_sp_quality(df):\n",
    "    return (df\n",
    "        # Count recs by (species, quality)\n",
    "        .pipe(df_remove_unused_categories)\n",
    "        .assign(n=1).groupby(['species', 'quality']).n.sum().reset_index()\n",
    "        # Strip and restore .species cat around .pivot_table to workaround category error when adding .total\n",
    "        .pipe(df_cat_to_str)\n",
    "        # Pivot\n",
    "        .pivot_table(index='species', columns='quality', values='n', fill_value=0, aggfunc='sum',\n",
    "            margins=True, margins_name='total',  # FIXME 'total' ends up as NaN because we cat .species\n",
    "        )\n",
    "        # Restore .species cat\n",
    "        .reset_index().astype({'species': metadata.species.df.shorthand.dtype}).sort_values('species').set_index('species')\n",
    "        # Drop columns.name from .pivot_table ('quality')\n",
    "        .T.pipe(df_set_index_name, None).T\n",
    "        # Add .total\n",
    "        # .pipe(df_assign_first, total=lambda df: df.sum(axis=1))\n",
    "        .pipe(df_reorder_cols, first=['total'])\n",
    "        # Sort\n",
    "        .sort_values('total', ascending=False)\n",
    "    )"
   ]
  },
  {
   "cell_type": "code",
   "execution_count": null,
   "metadata": {
    "time": "13.173s"
   },
   "outputs": [],
   "source": [
    "%%memit -c\n",
    "# Optimize perf\n",
    "#   - NOTE n_sp=None -> 27035/35233 recs because quality='ab'\n",
    "opt('warn', use='dask', scheduler='threads')  # Quiet + par + progress bars\n",
    "# opt('warn', use='sync')\n",
    "# opt('debug', use='sync')  # Verbose + sync + no progress bars\n",
    "with ExitStack() as stack:\n",
    "    stack.enter_context(cache_control(\n",
    "        # tags_fail_on_miss=['rec'],  # Require warmed cache for 'rec' funcs\n",
    "        # tags_refresh=['recs'],  # Measure un-warmed cache for 'recs' funcs\n",
    "        # tags_refresh=['sp14/model/species_proba'],  # XXX Dev\n",
    "    ))\n",
    "    display(\n",
    "        xc_similar_html(\n",
    "            sp_cols='species',\n",
    "\n",
    "            # Perf: search_recs\n",
    "            #   (countries_k='na', com_names_k='ca'): total[TODO] = meta[112s] feat[70s] f_p[91s]\n",
    "\n",
    "            # Perf bottlenecks\n",
    "            #   - meta: O(n) cache hits\n",
    "            #   - feat: O(n) cache hits\n",
    "            #   - p:    O(n) sg.search.predict_proba [@cache would achieve perf ~between meta and feat, which is only ~2x speedup]\n",
    "            # xc_id=381417, n_total=10,   n_sp=1,     # t[4.0s] n_recs[   32,0]\n",
    "            # xc_id=381417, n_total=10,   n_sp=2,     # t[    ] n_recs[       ]\n",
    "            # xc_id=381417, n_total=10,   n_sp=10,    # t[7.1s] n_recs[  717,0]\n",
    "            # xc_id=381417, n_total=10,   n_sp=40,    # t[ 25s] n_recs[ 3879,1]\n",
    "            # xc_id=381417, n_total=10,   n_sp=80,    # t[ 51s] n_recs[ 8203,1]\n",
    "            # xc_id=381417, n_total=10,   n_sp=160,   # t[111s] n_recs[15284,1]\n",
    "            xc_id=381417, n_total=10,   n_sp=None,  # t[192s] n_recs[27033,2]\n",
    "\n",
    "            # xc_id=414126, n_total=10,   n_sp=20,     # XXX Dev\n",
    "\n",
    "            view=False,  # For .pipe(n_recs_by_sp_quality): disable html view else junk .species values\n",
    "        )\n",
    "        # .pipe(n_recs_by_sp_quality)\n",
    "    )"
   ]
  },
  {
   "cell_type": "code",
   "execution_count": null,
   "metadata": {
    "time": "1.864s"
   },
   "outputs": [],
   "source": [
    "# Use /species\n",
    "xc_species_html(species='WTSP', n_recs=3)"
   ]
  },
  {
   "cell_type": "code",
   "execution_count": null,
   "metadata": {
    "time": "3.189s"
   },
   "outputs": [],
   "source": [
    "# Use /similar\n",
    "opt('warn', use='dask', scheduler='threads')  # Quiet + par + progress bars\n",
    "xc_similar_html(\n",
    "    # view=False,\n",
    "    # n_total=20,\n",
    "    # n_sp_recs=1,\n",
    "\n",
    "    # Examples (bad/good)\n",
    "    # xc_id=381417,  # YHBL (bad)\n",
    "    # xc_id=173272,  # LOSH (bad -- curious that d_f* does better than d_p*...)\n",
    "    # xc_id=15222,   # JUTI (bad)\n",
    "    # xc_id=406162,  # AMRO (wrong sp but good results)\n",
    "    # xc_id=408021,  # WREN (good)\n",
    "    # xc_id=348142,  # PSFL (good)\n",
    "    # xc_id=378376,  # WCSP (good)\n",
    "    # xc_id=381582,  # COYE (good)\n",
    "    # xc_id=416558,  # COYE (good)\n",
    "    xc_id=329879,  # WTSP (good)\n",
    "\n",
    "    n_sp=3,\n",
    "    # n_sp=10,\n",
    "    # n_sp=20,\n",
    "    # n_sp=40,\n",
    "    # n_sp=80,\n",
    "    # n_sp=160,\n",
    "    # n_sp=None,\n",
    "\n",
    ")"
   ]
  },
  {
   "cell_type": "code",
   "execution_count": null,
   "metadata": {},
   "outputs": [],
   "source": []
  }
 ],
 "metadata": {
  "kernelspec": {
   "display_name": "python",
   "language": "python",
   "name": "python"
  }
 },
 "nbformat": 4,
 "nbformat_minor": 2
}
