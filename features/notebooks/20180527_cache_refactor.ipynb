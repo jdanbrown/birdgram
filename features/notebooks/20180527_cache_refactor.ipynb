{
 "cells": [
  {
   "cell_type": "code",
   "execution_count": null,
   "metadata": {},
   "outputs": [],
   "source": [
    "import glob\n",
    "\n",
    "from potoo.plot import *\n",
    "from potoo.util import *\n",
    "import sklearn\n",
    "\n",
    "from cache import *\n",
    "from constants import *\n",
    "from datasets import *\n",
    "from features import *\n",
    "from load import *\n",
    "from sp14.model import *\n",
    "from util import *\n",
    "from viz import *\n",
    "\n",
    "figsize('inline_short');"
   ]
  },
  {
   "cell_type": "code",
   "execution_count": null,
   "metadata": {},
   "outputs": [
    {
     "name": "stdout",
     "output_type": "stream",
     "text": "[06:31:32.331] Load.metadata:in\n  len(recs): 633\n  len(recs) per dataset: {peterson-field-guide: 535, recordings: 98}\n\r[                                                                                          ] | 0% Completed |  0.0s"
    },
    {
     "name": "stdout",
     "output_type": "stream",
     "text": "\r[                                                                                          ] | 0% Completed |  0.1s"
    },
    {
     "name": "stdout",
     "output_type": "stream",
     "text": "\r[##################                                                                        ] | 20% Completed |  0.2s"
    },
    {
     "name": "stdout",
     "output_type": "stream",
     "text": "\r[#####################################                                                     ] | 41% Completed |  0.3s"
    },
    {
     "name": "stdout",
     "output_type": "stream",
     "text": "\r[######################################################                                    ] | 60% Completed |  0.4s"
    },
    {
     "name": "stdout",
     "output_type": "stream",
     "text": "\r[##########################################################################                ] | 82% Completed |  0.5s"
    },
    {
     "name": "stdout",
     "output_type": "stream",
     "text": "\r[##########################################################################################] | 100% Completed |  0.6s"
    },
    {
     "name": "stdout",
     "output_type": "stream",
     "text": "\n"
    },
    {
     "name": "stdout",
     "output_type": "stream",
     "text": "[06:31:33.027] Load.metadata:out\n  sum(duration_h): 5.07\n  sum(samples_mb): 768.0\n  sum(samples_n): 402551191\n  n_species: 55\n"
    },
    {
     "data": {
      "text/html": "<table border=\"1\" class=\"dataframe\">\n  <thead>\n    <tr>\n      <th></th>\n      <th>dataset</th>\n      <th>species</th>\n      <th>species_com_name</th>\n      <th>species_query</th>\n      <th>duration_s</th>\n      <th>samples_mb</th>\n      <th>samples_n</th>\n      <th>basename</th>\n      <th>species_longhand</th>\n      <th>id</th>\n      <th>path</th>\n    </tr>\n    <tr>\n      <th>dtype</th>\n      <th>object</th>\n      <th>category</th>\n      <th>category</th>\n      <th>object</th>\n      <th>float64</th>\n      <th>float64</th>\n      <th>int64</th>\n      <th>object</th>\n      <th>category</th>\n      <th>object</th>\n      <th>object</th>\n    </tr>\n    <tr>\n      <th>sizeof</th>\n      <th>51.6 KiB</th>\n      <th>11.4 KiB</th>\n      <th>11.9 KiB</th>\n      <th>43.8 KiB</th>\n      <th>9.9 KiB</th>\n      <th>9.9 KiB</th>\n      <th>9.9 KiB</th>\n      <th>55.7 KiB</th>\n      <th>12.3 KiB</th>\n      <th>74.6 KiB</th>\n      <th>77.1 KiB</th>\n    </tr>\n    <tr>\n      <th>len</th>\n      <th>633</th>\n      <th>633</th>\n      <th>633</th>\n      <th>633</th>\n      <th>633</th>\n      <th>633</th>\n      <th>633</th>\n      <th>633</th>\n      <th>633</th>\n      <th>633</th>\n      <th>633</th>\n    </tr>\n    <tr>\n      <th>count</th>\n      <th>633</th>\n      <th>633</th>\n      <th>633</th>\n      <th>633</th>\n      <th>633</th>\n      <th>633</th>\n      <th>633</th>\n      <th>633</th>\n      <th>633</th>\n      <th>633</th>\n      <th>633</th>\n    </tr>\n    <tr>\n      <th>nunique</th>\n      <th>2</th>\n      <th>55</th>\n      <th>55</th>\n      <th>64</th>\n      <th>537</th>\n      <th>537</th>\n      <th>537</th>\n      <th>633</th>\n      <th>55</th>\n      <th>633</th>\n      <th>633</th>\n    </tr>\n    <tr>\n      <th>mean</th>\n      <th>NaN</th>\n      <th>NaN</th>\n      <th>NaN</th>\n      <th>NaN</th>\n      <th>28.841</th>\n      <th>1.213</th>\n      <th>635941.850</th>\n      <th>NaN</th>\n      <th>NaN</th>\n      <th>NaN</th>\n      <th>NaN</th>\n    </tr>\n    <tr>\n      <th>std</th>\n      <th>NaN</th>\n      <th>NaN</th>\n      <th>NaN</th>\n      <th>NaN</th>\n      <th>32.301</th>\n      <th>1.358</th>\n      <th>712235.547</th>\n      <th>NaN</th>\n      <th>NaN</th>\n      <th>NaN</th>\n      <th>NaN</th>\n    </tr>\n  </thead>\n  <tbody>\n    <tr>\n      <th>min</th>\n      <td><div class=\"not-number\">peterson-field-guide</div></td>\n      <td><div class=\"not-number\">SCQU</div></td>\n      <td><div class=\"not-number\">Scaled Quail</div></td>\n      <td><div class=\"not-number\">BEWR</div></td>\n      <td>2.74</td>\n      <td>0.115</td>\n      <td>60480</td>\n      <td><div class=\"not-number\">081845</div></td>\n      <td><div class=\"not-number\">Scaled Quail - SCQU</div></td>\n      <td><div class=\"not-number\">peterson-field-guide/amecro/audio/43215281 Caw (clear)</div></td>\n      <td><div class=\"not-number\">peterson-field-guide/amecro/audio/43215281 Caw (clear).mp3</div></td>\n    </tr>\n    <tr>\n      <th>25%</th>\n      <td><div class=\"not-number\">peterson-field-guide</div></td>\n      <td><div class=\"not-number\">TUTI</div></td>\n      <td><div class=\"not-number\">Tufted Titmouse</div></td>\n      <td><div class=\"not-number\">bewwre</div></td>\n      <td>15.50</td>\n      <td>0.650</td>\n      <td>340992</td>\n      <td><div class=\"not-number\">43217721 Chick-a-dee Call</div></td>\n      <td><div class=\"not-number\">Tufted Titmouse - TUTI</div></td>\n      <td><div class=\"not-number\">peterson-field-guide/canwre/audio/43219271 Male Song (unusual)</div></td>\n      <td><div class=\"not-number\">peterson-field-guide/canwre/audio/43219271 Male Song (unusual).mp3</div></td>\n    </tr>\n    <tr>\n      <th>50%</th>\n      <td><div class=\"not-number\">peterson-field-guide</div></td>\n      <td><div class=\"not-number\">WIWR</div></td>\n      <td><div class=\"not-number\">Winter Wren</div></td>\n      <td><div class=\"not-number\">comrav</div></td>\n      <td>21.40</td>\n      <td>0.901</td>\n      <td>472320</td>\n      <td><div class=\"not-number\">43219841 Churt</div></td>\n      <td><div class=\"not-number\">Winter Wren - WIWR</div></td>\n      <td><div class=\"not-number\">peterson-field-guide/marwre/audio/44412311 Chit</div></td>\n      <td><div class=\"not-number\">peterson-field-guide/marwre/audio/44412311 Chit.mp3</div></td>\n    </tr>\n    <tr>\n      <th>75%</th>\n      <td><div class=\"not-number\">peterson-field-guide</div></td>\n      <td><div class=\"not-number\">EUST</div></td>\n      <td><div class=\"not-number\">European Starling</div></td>\n      <td><div class=\"not-number\">rocwre</div></td>\n      <td>29.80</td>\n      <td>1.250</td>\n      <td>656687</td>\n      <td><div class=\"not-number\">43227481 Tsit</div></td>\n      <td><div class=\"not-number\">European Starling - EUST</div></td>\n      <td><div class=\"not-number\">peterson-field-guide/whbnut/audio/43218701 Keer</div></td>\n      <td><div class=\"not-number\">peterson-field-guide/whbnut/audio/43218701 Keer.mp3</div></td>\n    </tr>\n    <tr>\n      <th>max</th>\n      <td><div class=\"not-number\">recordings</div></td>\n      <td><div class=\"not-number\">_UNK</div></td>\n      <td><div class=\"not-number\">Unknown</div></td>\n      <td><div class=\"not-number\">wlswar</div></td>\n      <td>349.00</td>\n      <td>14.700</td>\n      <td>7703036</td>\n      <td><div class=\"not-number\">wren- maybe house- maybe not bewicks- coyote hills</div></td>\n      <td><div class=\"not-number\">Unknown - _UNK</div></td>\n      <td><div class=\"not-number\">recordings/wren- maybe house- maybe not bewicks- coyote hills</div></td>\n      <td><div class=\"not-number\">recordings/wren- maybe house- maybe not bewicks- coyote hills.wav</div></td>\n    </tr>\n  </tbody>\n</table>",
      "text/plain": "                      dataset  species   species_com_name species_query duration_s samples_mb  samples_n                                            basename          species_longhand                                                              id                                                                path\ndtype                  object category           category        object    float64    float64      int64                                              object                  category                                                          object                                                              object\nsizeof               51.6 KiB 11.4 KiB           11.9 KiB      43.8 KiB    9.9 KiB    9.9 KiB    9.9 KiB                                            55.7 KiB                  12.3 KiB                                                        74.6 KiB                                                            77.1 KiB\nlen                       633      633                633           633        633        633        633                                                 633                       633                                                             633                                                                 633\ncount                     633      633                633           633        633        633        633                                                 633                       633                                                             633                                                                 633\nnunique                   2        55                 55            64         537        537        537                                                 633                       55                                                              633                                                                 633\nmean                      NaN      NaN                NaN           NaN 28.841     1.213      635941.850                                                 NaN                       NaN                                                             NaN                                                                 NaN\nstd                       NaN      NaN                NaN           NaN 32.301     1.358      712235.547                                                 NaN                       NaN                                                             NaN                                                                 NaN\nmin      peterson-field-guide     SCQU       Scaled Quail          BEWR       2.74      0.115      60480                                              081845       Scaled Quail - SCQU          peterson-field-guide/amecro/audio/43215281 Caw (clear)          peterson-field-guide/amecro/audio/43215281 Caw (clear).mp3\n25%      peterson-field-guide     TUTI    Tufted Titmouse        bewwre       15.5       0.65     340992                           43217721 Chick-a-dee Call    Tufted Titmouse - TUTI  peterson-field-guide/canwre/audio/43219271 Male Song (unusual)  peterson-field-guide/canwre/audio/43219271 Male Song (unusual).mp3\n50%      peterson-field-guide     WIWR        Winter Wren        comrav       21.4      0.901     472320                                      43219841 Churt        Winter Wren - WIWR                 peterson-field-guide/marwre/audio/44412311 Chit                 peterson-field-guide/marwre/audio/44412311 Chit.mp3\n75%      peterson-field-guide     EUST  European Starling        rocwre       29.8       1.25     656687                                       43227481 Tsit  European Starling - EUST                 peterson-field-guide/whbnut/audio/43218701 Keer                 peterson-field-guide/whbnut/audio/43218701 Keer.mp3\nmax                recordings     _UNK            Unknown        wlswar        349       14.7    7703036  wren- maybe house- maybe not bewicks- coyote hills            Unknown - _UNK   recordings/wren- maybe house- maybe not bewicks- coyote hills   recordings/wren- maybe house- maybe not bewicks- coyote hills.wav"
     },
     "metadata": {},
     "output_type": "display_data",
     "transient": {}
    },
    {
     "data": {
      "text/html": "<table border=\"1\" class=\"dataframe\">\n  <thead>\n    <tr style=\"text-align: right;\">\n      <th></th>\n      <th>dataset</th>\n      <th>species</th>\n      <th>species_com_name</th>\n      <th>species_query</th>\n      <th>duration_s</th>\n      <th>samples_mb</th>\n      <th>samples_n</th>\n      <th>basename</th>\n      <th>species_longhand</th>\n      <th>id</th>\n      <th>path</th>\n    </tr>\n  </thead>\n  <tbody>\n    <tr>\n      <th>479</th>\n      <td><div class=\"not-number\">peterson-field-guide</div></td>\n      <td><div class=\"not-number\">SCQU</div></td>\n      <td><div class=\"not-number\">Scaled Quail</div></td>\n      <td><div class=\"not-number\">scaqua</div></td>\n      <td>12.30</td>\n      <td>0.517</td>\n      <td>271296</td>\n      <td><div class=\"not-number\">43186591 Kuk-curr Series</div></td>\n      <td><div class=\"not-number\">Scaled Quail - SCQU</div></td>\n      <td><div class=\"not-number\">peterson-field-guide/scaqua/audio/43186591 Kuk-curr Series</div></td>\n      <td><div class=\"not-number\">peterson-field-guide/scaqua/audio/43186591 Kuk-curr Series.mp3</div></td>\n    </tr>\n    <tr>\n      <th>485</th>\n      <td><div class=\"not-number\">peterson-field-guide</div></td>\n      <td><div class=\"not-number\">SCQU</div></td>\n      <td><div class=\"not-number\">Scaled Quail</div></td>\n      <td><div class=\"not-number\">scaqua</div></td>\n      <td>12.10</td>\n      <td>0.509</td>\n      <td>266688</td>\n      <td><div class=\"not-number\">43186661 Chip-seer</div></td>\n      <td><div class=\"not-number\">Scaled Quail - SCQU</div></td>\n      <td><div class=\"not-number\">peterson-field-guide/scaqua/audio/43186661 Chip-seer</div></td>\n      <td><div class=\"not-number\">peterson-field-guide/scaqua/audio/43186661 Chip-seer.mp3</div></td>\n    </tr>\n    <tr>\n      <th>486</th>\n      <td><div class=\"not-number\">peterson-field-guide</div></td>\n      <td><div class=\"not-number\">SCQU</div></td>\n      <td><div class=\"not-number\">Scaled Quail</div></td>\n      <td><div class=\"not-number\">scaqua</div></td>\n      <td>15.60</td>\n      <td>0.657</td>\n      <td>344448</td>\n      <td><div class=\"not-number\">43186671 Kuk</div></td>\n      <td><div class=\"not-number\">Scaled Quail - SCQU</div></td>\n      <td><div class=\"not-number\">peterson-field-guide/scaqua/audio/43186671 Kuk</div></td>\n      <td><div class=\"not-number\">peterson-field-guide/scaqua/audio/43186671 Kuk.mp3</div></td>\n    </tr>\n    <tr>\n      <th>487</th>\n      <td><div class=\"not-number\">peterson-field-guide</div></td>\n      <td><div class=\"not-number\">SCQU</div></td>\n      <td><div class=\"not-number\">Scaled Quail</div></td>\n      <td><div class=\"not-number\">scaqua</div></td>\n      <td>7.73</td>\n      <td>0.325</td>\n      <td>170496</td>\n      <td><div class=\"not-number\">43186681 Wing sounds & Kuk</div></td>\n      <td><div class=\"not-number\">Scaled Quail - SCQU</div></td>\n      <td><div class=\"not-number\">peterson-field-guide/scaqua/audio/43186681 Wing sounds & Kuk</div></td>\n      <td><div class=\"not-number\">peterson-field-guide/scaqua/audio/43186681 Wing sounds & Kuk.mp3</div></td>\n    </tr>\n    <tr>\n      <th>482</th>\n      <td><div class=\"not-number\">peterson-field-guide</div></td>\n      <td><div class=\"not-number\">SCQU</div></td>\n      <td><div class=\"not-number\">Scaled Quail</div></td>\n      <td><div class=\"not-number\">scaqua</div></td>\n      <td>10.10</td>\n      <td>0.423</td>\n      <td>221760</td>\n      <td><div class=\"not-number\">43186621 Zreek Series</div></td>\n      <td><div class=\"not-number\">Scaled Quail - SCQU</div></td>\n      <td><div class=\"not-number\">peterson-field-guide/scaqua/audio/43186621 Zreek Series</div></td>\n      <td><div class=\"not-number\">peterson-field-guide/scaqua/audio/43186621 Zreek Series.mp3</div></td>\n    </tr>\n  </tbody>\n</table>",
      "text/plain": "                  dataset species species_com_name species_query  duration_s  samples_mb  samples_n                    basename     species_longhand                                                            id                                                              path\n479  peterson-field-guide    SCQU     Scaled Quail        scaqua      12.304       0.517     271296    43186591 Kuk-curr Series  Scaled Quail - SCQU    peterson-field-guide/scaqua/audio/43186591 Kuk-curr Series    peterson-field-guide/scaqua/audio/43186591 Kuk-curr Series.mp3\n485  peterson-field-guide    SCQU     Scaled Quail        scaqua      12.095       0.509     266688          43186661 Chip-seer  Scaled Quail - SCQU          peterson-field-guide/scaqua/audio/43186661 Chip-seer          peterson-field-guide/scaqua/audio/43186661 Chip-seer.mp3\n486  peterson-field-guide    SCQU     Scaled Quail        scaqua      15.621       0.657     344448                43186671 Kuk  Scaled Quail - SCQU                peterson-field-guide/scaqua/audio/43186671 Kuk                peterson-field-guide/scaqua/audio/43186671 Kuk.mp3\n487  peterson-field-guide    SCQU     Scaled Quail        scaqua       7.732       0.325     170496  43186681 Wing sounds & Kuk  Scaled Quail - SCQU  peterson-field-guide/scaqua/audio/43186681 Wing sounds & Kuk  peterson-field-guide/scaqua/audio/43186681 Wing sounds & Kuk.mp3\n482  peterson-field-guide    SCQU     Scaled Quail        scaqua      10.057       0.423     221760       43186621 Zreek Series  Scaled Quail - SCQU       peterson-field-guide/scaqua/audio/43186621 Zreek Series       peterson-field-guide/scaqua/audio/43186621 Zreek Series.mp3"
     },
     "metadata": {},
     "output_type": "display_data",
     "transient": {}
    }
   ],
   "source": [
    "load = Load()\n",
    "recs = load.recs(\n",
    "    # limit=30,  # XXX Faster dev\n",
    "    datasets=[\n",
    "        'peterson-field-guide',\n",
    "        'recordings',\n",
    "    ],\n",
    ")\n",
    "display(df_summary(recs), recs[:5])"
   ]
  },
  {
   "cell_type": "markdown",
   "metadata": {},
   "source": [
    "# Fit search"
   ]
  },
  {
   "cell_type": "code",
   "execution_count": null,
   "metadata": {},
   "outputs": [
    {
     "name": "stdout",
     "output_type": "stream",
     "text": "[06:31:33.225] Projection.load\n  path: /Users/danb/hack/bubo/data/models/projection/peterson-v0-26bae1c.pkl\n"
    }
   ],
   "source": [
    "# Load models\n",
    "projection = Projection.load('peterson-v0-26bae1c')\n",
    "features = projection.features\n",
    "load = features.load"
   ]
  },
  {
   "cell_type": "code",
   "execution_count": null,
   "metadata": {},
   "outputs": [
    {
     "name": "stdout",
     "output_type": "stream",
     "text": "[06:31:33.275] Features.spectros:in\n  len(recs): 633\n  len(recs) per dataset: {peterson-field-guide: 535, recordings: 98}\n  sum(duration_h): 5.07\n  sum(samples_mb): 768.0\n  sum(samples_n): 402551191\n\r[                                                                                          ] | 0% Completed |  0.0s"
    },
    {
     "name": "stdout",
     "output_type": "stream",
     "text": "\r[                                                                                          ] | 0% Completed |  0.1s"
    },
    {
     "name": "stdout",
     "output_type": "stream",
     "text": "\r[                                                                                          ] | 0% Completed |  0.2s"
    },
    {
     "name": "stdout",
     "output_type": "stream",
     "text": "\r[                                                                                          ] | 0% Completed |  0.3s"
    },
    {
     "name": "stdout",
     "output_type": "stream",
     "text": "\r[                                                                                          ] | 0% Completed |  0.4s"
    },
    {
     "name": "stdout",
     "output_type": "stream",
     "text": "\r[###########                                                                               ] | 12% Completed |  0.5s"
    },
    {
     "name": "stdout",
     "output_type": "stream",
     "text": "\r[###############                                                                           ] | 17% Completed |  0.6s"
    },
    {
     "name": "stdout",
     "output_type": "stream",
     "text": "\r[###############                                                                           ] | 17% Completed |  0.7s"
    },
    {
     "name": "stdout",
     "output_type": "stream",
     "text": "\r[##################                                                                        ] | 20% Completed |  0.8s"
    },
    {
     "name": "stdout",
     "output_type": "stream",
     "text": "\r[######################                                                                    ] | 25% Completed |  0.9s"
    },
    {
     "name": "stdout",
     "output_type": "stream",
     "text": "\r[###############################                                                           ] | 35% Completed |  1.0s"
    },
    {
     "name": "stdout",
     "output_type": "stream",
     "text": "\r[#################################                                                         ] | 37% Completed |  1.1s"
    },
    {
     "name": "stdout",
     "output_type": "stream",
     "text": "\r[####################################                                                      ] | 40% Completed |  1.2s"
    },
    {
     "name": "stdout",
     "output_type": "stream",
     "text": "\r[####################################                                                      ] | 40% Completed |  1.3s"
    },
    {
     "name": "stdout",
     "output_type": "stream",
     "text": "\r[##########################################                                                ] | 47% Completed |  1.4s"
    },
    {
     "name": "stdout",
     "output_type": "stream",
     "text": "\r[#################################################                                         ] | 55% Completed |  1.6s"
    },
    {
     "name": "stdout",
     "output_type": "stream",
     "text": "\r[######################################################                                    ] | 60% Completed |  1.7s"
    },
    {
     "name": "stdout",
     "output_type": "stream",
     "text": "\r[######################################################                                    ] | 60% Completed |  1.8s"
    },
    {
     "name": "stdout",
     "output_type": "stream",
     "text": "\r[##########################################################                                ] | 65% Completed |  1.9s"
    },
    {
     "name": "stdout",
     "output_type": "stream",
     "text": "\r[###################################################################                       ] | 75% Completed |  2.0s"
    },
    {
     "name": "stdout",
     "output_type": "stream",
     "text": "\r[#####################################################################                     ] | 77% Completed |  2.1s"
    },
    {
     "name": "stdout",
     "output_type": "stream",
     "text": "\r[########################################################################                  ] | 80% Completed |  2.2s"
    },
    {
     "name": "stdout",
     "output_type": "stream",
     "text": "\r[##########################################################################                ] | 82% Completed |  2.3s"
    },
    {
     "name": "stdout",
     "output_type": "stream",
     "text": "\r[##############################################################################            ] | 87% Completed |  2.4s"
    },
    {
     "name": "stdout",
     "output_type": "stream",
     "text": "\r[##############################################################################            ] | 87% Completed |  2.5s"
    },
    {
     "name": "stdout",
     "output_type": "stream",
     "text": "\r[###################################################################################       ] | 92% Completed |  2.6s"
    },
    {
     "name": "stdout",
     "output_type": "stream",
     "text": "\r[#####################################################################################     ] | 95% Completed |  2.7s"
    },
    {
     "name": "stdout",
     "output_type": "stream",
     "text": "\r[##########################################################################################] | 100% Completed |  2.8s"
    },
    {
     "name": "stdout",
     "output_type": "stream",
     "text": "\n"
    },
    {
     "name": "stdout",
     "output_type": "stream",
     "text": "[06:31:36.128] Features.spectros:out\n  (f, sum(t)): [40, 1571575]\n[06:31:36.133] Features.patches:in\n  len(recs): 633\n  len(recs) per dataset: {peterson-field-guide: 535, recordings: 98}\n  sum(duration_h): 5.07\n  sum(samples_mb): 768.0\n  sum(samples_n): 402551191\n  (f, sum(t)): [[40], 1571575]\n\r[                                                                                          ] | 0% Completed |  0.0s"
    },
    {
     "name": "stdout",
     "output_type": "stream",
     "text": "\r[##                                                                                        ] | 2% Completed |  0.1s"
    },
    {
     "name": "stdout",
     "output_type": "stream",
     "text": "\r[####                                                                                      ] | 5% Completed |  0.2s"
    },
    {
     "name": "stdout",
     "output_type": "stream",
     "text": "\r[######                                                                                    ] | 7% Completed |  0.3s"
    },
    {
     "name": "stdout",
     "output_type": "stream",
     "text": "\r[#########                                                                                 ] | 10% Completed |  0.4s"
    },
    {
     "name": "stdout",
     "output_type": "stream",
     "text": "\r[###########                                                                               ] | 12% Completed |  0.5s"
    },
    {
     "name": "stdout",
     "output_type": "stream",
     "text": "\r[#############                                                                             ] | 15% Completed |  0.6s"
    },
    {
     "name": "stdout",
     "output_type": "stream",
     "text": "\r[###############                                                                           ] | 17% Completed |  0.7s"
    },
    {
     "name": "stdout",
     "output_type": "stream",
     "text": "\r[##################                                                                        ] | 20% Completed |  0.8s"
    },
    {
     "name": "stdout",
     "output_type": "stream",
     "text": "\r[####################                                                                      ] | 22% Completed |  0.9s"
    },
    {
     "name": "stdout",
     "output_type": "stream",
     "text": "\r[########################                                                                  ] | 27% Completed |  1.0s"
    },
    {
     "name": "stdout",
     "output_type": "stream",
     "text": "\r[###########################                                                               ] | 30% Completed |  1.1s"
    },
    {
     "name": "stdout",
     "output_type": "stream",
     "text": "\r[#############################                                                             ] | 32% Completed |  1.2s"
    },
    {
     "name": "stdout",
     "output_type": "stream",
     "text": "\r[###############################                                                           ] | 35% Completed |  1.3s"
    },
    {
     "name": "stdout",
     "output_type": "stream",
     "text": "\r[#################################                                                         ] | 37% Completed |  1.4s"
    },
    {
     "name": "stdout",
     "output_type": "stream",
     "text": "\r[####################################                                                      ] | 40% Completed |  1.5s"
    },
    {
     "name": "stdout",
     "output_type": "stream",
     "text": "\r[######################################                                                    ] | 42% Completed |  1.6s"
    },
    {
     "name": "stdout",
     "output_type": "stream",
     "text": "\r[########################################                                                  ] | 45% Completed |  1.7s"
    },
    {
     "name": "stdout",
     "output_type": "stream",
     "text": "\r[##########################################                                                ] | 47% Completed |  1.8s"
    },
    {
     "name": "stdout",
     "output_type": "stream",
     "text": "\r[##########################################                                                ] | 47% Completed |  1.9s"
    },
    {
     "name": "stdout",
     "output_type": "stream",
     "text": "\r[#############################################                                             ] | 50% Completed |  2.0s"
    },
    {
     "name": "stdout",
     "output_type": "stream",
     "text": "\r[###############################################                                           ] | 52% Completed |  2.2s"
    },
    {
     "name": "stdout",
     "output_type": "stream",
     "text": "\r[#################################################                                         ] | 55% Completed |  2.3s"
    },
    {
     "name": "stdout",
     "output_type": "stream",
     "text": "\r[###################################################                                       ] | 57% Completed |  2.4s"
    },
    {
     "name": "stdout",
     "output_type": "stream",
     "text": "\r[######################################################                                    ] | 60% Completed |  2.5s"
    },
    {
     "name": "stdout",
     "output_type": "stream",
     "text": "\r[######################################################                                    ] | 60% Completed |  2.6s"
    },
    {
     "name": "stdout",
     "output_type": "stream",
     "text": "\r[########################################################                                  ] | 62% Completed |  2.7s"
    },
    {
     "name": "stdout",
     "output_type": "stream",
     "text": "\r[##########################################################                                ] | 65% Completed |  2.8s"
    },
    {
     "name": "stdout",
     "output_type": "stream",
     "text": "\r[############################################################                              ] | 67% Completed |  2.9s"
    },
    {
     "name": "stdout",
     "output_type": "stream",
     "text": "\r[##############################################################                            ] | 70% Completed |  3.0s"
    },
    {
     "name": "stdout",
     "output_type": "stream",
     "text": "\r[#################################################################                         ] | 72% Completed |  3.1s"
    },
    {
     "name": "stdout",
     "output_type": "stream",
     "text": "\r[###################################################################                       ] | 75% Completed |  3.2s"
    },
    {
     "name": "stdout",
     "output_type": "stream",
     "text": "\r[#####################################################################                     ] | 77% Completed |  3.3s"
    },
    {
     "name": "stdout",
     "output_type": "stream",
     "text": "\r[########################################################################                  ] | 80% Completed |  3.4s"
    },
    {
     "name": "stdout",
     "output_type": "stream",
     "text": "\r[########################################################################                  ] | 80% Completed |  3.5s"
    },
    {
     "name": "stdout",
     "output_type": "stream",
     "text": "\r[##########################################################################                ] | 82% Completed |  3.6s"
    },
    {
     "name": "stdout",
     "output_type": "stream",
     "text": "\r[##############################################################################            ] | 87% Completed |  3.7s"
    },
    {
     "name": "stdout",
     "output_type": "stream",
     "text": "\r[##############################################################################            ] | 87% Completed |  3.8s"
    },
    {
     "name": "stdout",
     "output_type": "stream",
     "text": "\r[#################################################################################         ] | 90% Completed |  3.9s"
    },
    {
     "name": "stdout",
     "output_type": "stream",
     "text": "\r[#################################################################################         ] | 90% Completed |  4.0s"
    },
    {
     "name": "stdout",
     "output_type": "stream",
     "text": "\r[#################################################################################         ] | 90% Completed |  4.1s"
    },
    {
     "name": "stdout",
     "output_type": "stream",
     "text": "\r[###################################################################################       ] | 92% Completed |  4.2s"
    },
    {
     "name": "stdout",
     "output_type": "stream",
     "text": "\r[###################################################################################       ] | 92% Completed |  4.3s"
    },
    {
     "name": "stdout",
     "output_type": "stream",
     "text": "\r[###################################################################################       ] | 92% Completed |  4.4s"
    },
    {
     "name": "stdout",
     "output_type": "stream",
     "text": "\r[#####################################################################################     ] | 95% Completed |  4.5s"
    },
    {
     "name": "stdout",
     "output_type": "stream",
     "text": "\r[#####################################################################################     ] | 95% Completed |  4.6s"
    },
    {
     "name": "stdout",
     "output_type": "stream",
     "text": "\r[#######################################################################################   ] | 97% Completed |  4.7s"
    },
    {
     "name": "stdout",
     "output_type": "stream",
     "text": "\r[##########################################################################################] | 100% Completed |  4.8s"
    },
    {
     "name": "stdout",
     "output_type": "stream",
     "text": "\n"
    },
    {
     "name": "stdout",
     "output_type": "stream",
     "text": "[06:31:40.981] Features.patches:out\n  (f*p, sum(t)): [160, 1569676]\n"
    },
    {
     "name": "stdout",
     "output_type": "stream",
     "text": "\r[                                                                                          ] | 0% Completed |  0.0s"
    },
    {
     "name": "stdout",
     "output_type": "stream",
     "text": "\r[                                                                                          ] | 0% Completed |  0.1s"
    },
    {
     "name": "stdout",
     "output_type": "stream",
     "text": "\r[######                                                                                    ] | 7% Completed |  0.2s"
    },
    {
     "name": "stdout",
     "output_type": "stream",
     "text": "\r[##################                                                                        ] | 20% Completed |  0.3s"
    },
    {
     "name": "stdout",
     "output_type": "stream",
     "text": "\r[####################                                                                      ] | 22% Completed |  0.4s"
    },
    {
     "name": "stdout",
     "output_type": "stream",
     "text": "\r[####################################                                                      ] | 40% Completed |  0.5s"
    },
    {
     "name": "stdout",
     "output_type": "stream",
     "text": "\r[####################################                                                      ] | 40% Completed |  0.6s"
    },
    {
     "name": "stdout",
     "output_type": "stream",
     "text": "\r[######################################################                                    ] | 60% Completed |  0.7s"
    },
    {
     "name": "stdout",
     "output_type": "stream",
     "text": "\r[######################################################                                    ] | 60% Completed |  0.8s"
    },
    {
     "name": "stdout",
     "output_type": "stream",
     "text": "\r[########################################################################                  ] | 80% Completed |  0.9s"
    },
    {
     "name": "stdout",
     "output_type": "stream",
     "text": "\r[########################################################################                  ] | 80% Completed |  1.0s"
    },
    {
     "name": "stdout",
     "output_type": "stream",
     "text": "\r[##########################################################################################] | 100% Completed |  1.2s"
    },
    {
     "name": "stdout",
     "output_type": "stream",
     "text": "\n"
    }
   ],
   "source": [
    "# Add features\n",
    "recs = features.transform(recs)\n",
    "recs = projection.transform(recs)"
   ]
  },
  {
   "cell_type": "code",
   "execution_count": null,
   "metadata": {},
   "outputs": [
    {
     "name": "stdout",
     "output_type": "stream",
     "text": "[06:31:48.305] params\n  recs_eval: 535\n  recs_train: 268\n  recs_test: 267\n"
    }
   ],
   "source": [
    "recs_eval = (recs\n",
    "    [lambda df: df.dataset == 'peterson-field-guide']\n",
    "    # [:10]  # Faster dev\n",
    "    .reset_index(drop=True)\n",
    ")\n",
    "train_n, test_n = (len(recs_eval)+1)//2, len(recs_eval)//2\n",
    "recs_train, recs_test = (recs_eval\n",
    "    .pipe(sklearn.utils.shuffle, random_state=0)\n",
    "    .sample(train_n + test_n, random_state=0)\n",
    "    .pipe(lambda df: (\n",
    "        df[:train_n],\n",
    "        df[train_n : train_n + test_n],\n",
    "    ))\n",
    ")\n",
    "log('params', **{\n",
    "    'recs_eval': len(recs_eval),\n",
    "    'recs_train': len(recs_train),\n",
    "    'recs_test': len(recs_test),\n",
    "})"
   ]
  },
  {
   "cell_type": "code",
   "execution_count": null,
   "metadata": {},
   "outputs": [
    {
     "name": "stderr",
     "output_type": "stream",
     "text": "WARNING:root:[MemorizedFunc(func=<function Search._fit at 0x122d507b8>, location=/Users/danb/hack/bubo/data/cache/joblib)]: Function _fit (identified by sp14/model/_fit) has changed, you should consider clearing the cache.\n"
    },
    {
     "name": "stderr",
     "output_type": "stream",
     "text": "WARNING:root:[MemorizedFunc(func=<function Search._fit at 0x122d507b8>, location=/Users/danb/hack/bubo/data/cache/joblib)]: Computing func _fit, argument hash d4b9026bd1ac5ed09ea7e7bc57bc8bba in location /Users/danb/hack/bubo/data/cache/joblib/sp14/model/_fit\n"
    },
    {
     "name": "stdout",
     "output_type": "stream",
     "text": "[06:31:48.340] Search.fit:in\n  recs: 268\n  (n, f*p): [268, 1500]\n"
    },
    {
     "name": "stdout",
     "output_type": "stream",
     "text": "________________________________________________________________________________\n[Memory] Calling sp14.model._fit...\n_fit({ 'key': ( 55                             peterson-field-guide/belkin1/audio/43205241 Low Rattle & High Rattle\n127                peterson-field-guide/bkcchi/audio/43217251 Whistled Song (plastic or incomplete)\n468                                    peterson-field-guide/orcwar/audio/43227341 Song (one series)\n479                          peterson-field-guide/orcwar/audio/43227311 Song (mostly single trills)\n277                                                 peterson-field-guide/houwre/audio/43219421 Song\n64                                    peterson-field-guide/amecro/audio/43215351 Caw (harsh) & Rasp\n57                                        peterson-field-guide/amecro/audio/43215421 Gurg..., \n{ 'args': ( Search(projection=Projection(features=Features(load=Load(channels=1, sample_rate=22050, sample_width_bit=16, cache_audio=True), sample_rate=22050, f_min=1000, f_bins=40, hop_length=256, frame_length=512, frame_window='hann', patch_length=4), skm_fit_max_t=600000, k=500, variance_explained=0.99, do_pca=True, pca_whiten=True, standardize=False, normalize=False, agg_funs=['mean', 'std', 'max']), n_neighbors=5),\n                              dataset species         species_com_name species_query  duration_s  samples_mb  samples_n                                                    basename                species_longhand                                                                 ...)\nPersisting in /Users/danb/hack/bubo/data/cache/joblib/sp14/model/_fit/d4b9026bd1ac5ed09ea7e7bc57bc8bba\n_____________________________________________________________fit - 45.7s, 0.8min\n"
    },
    {
     "name": "stdout",
     "output_type": "stream",
     "text": "[06:32:34.484] Search.fit:out\n  knn.get_params: {algorithm: auto, leaf_size: 30, metric: minkowski, metric_params: null, n_jobs: 1, n_neighbors: 5, p: 2, weights: uniform}\n  knn.classes_: [SCQU, MONQ, WITU, OSPR, KILL, BEKI, AMCR, CORA, CACH, BCCH, BOCH, TUTI, BCTI, BUSH, RBNU, WBNU, BRCR, CACW, ROWR, CANW, CARW, BEWR, HOWR, WIWR, SEWR, MAWR, SWTH, HETH, AMRO, EUST, CEDW, OCWA, WIWA, SOSP, WCSP]\n  knn.classes_.len: 35\n"
    },
    {
     "data": {
      "text/plain": "Search(projection=Projection(features=Features(load=Load(channels=1, sample_rate=22050, sample_width_bit=16, cache_audio=True), sample_rate=22050, f_min=1000, f_bins=40, hop_length=256, frame_length=512, frame_window='hann', patch_length=4), skm_fit_max_t=600000, k=500, variance_explained=0.99, do_pca=True, pca_whiten=True, standardize=False, normalize=False, agg_funs=['mean', 'std', 'max']), n_neighbors=5)"
     },
     "execution_count": 6,
     "metadata": {},
     "output_type": "execute_result"
    }
   ],
   "source": [
    "from sp14.model import *\n",
    "search = Search(\n",
    "    # n_neighbors=3,\n",
    "    n_neighbors=5,\n",
    "    # n_neighbors=10,\n",
    "    projection=projection,\n",
    ")\n",
    "search.fit(recs_train)"
   ]
  },
  {
   "cell_type": "code",
   "execution_count": null,
   "metadata": {},
   "outputs": [],
   "source": []
  }
 ],
 "metadata": {
  "kernelspec": {
   "display_name": "bubo-features (PYTHONSTARTUP)",
   "language": "python",
   "name": "bubo-features (PYTHONSTARTUP)"
  }
 },
 "nbformat": 4,
 "nbformat_minor": 2
}
