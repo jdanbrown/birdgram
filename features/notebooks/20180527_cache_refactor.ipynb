{
 "cells": [
  {
   "cell_type": "code",
   "execution_count": null,
   "metadata": {},
   "outputs": [],
   "source": [
    "import glob\n",
    "\n",
    "from potoo.plot import *\n",
    "from potoo.util import *\n",
    "import sklearn\n",
    "\n",
    "from cache import *\n",
    "from constants import *\n",
    "from datasets import *\n",
    "from features import *\n",
    "from load import *\n",
    "from sp14.model import *\n",
    "from util import *\n",
    "from viz import *\n",
    "\n",
    "figsize('inline_short');"
   ]
  },
  {
   "cell_type": "code",
   "execution_count": null,
   "metadata": {},
   "outputs": [
    {
     "name": "stdout",
     "output_type": "stream",
     "text": "\r[                                                                                          ] | 0% Completed |  0.0s"
    },
    {
     "name": "stdout",
     "output_type": "stream",
     "text": "\r[########################################                                                  ] | 44% Completed |  0.1s"
    },
    {
     "name": "stdout",
     "output_type": "stream",
     "text": "\r[##########################################################################################] | 100% Completed |  0.2s"
    },
    {
     "name": "stdout",
     "output_type": "stream",
     "text": "\n"
    },
    {
     "data": {
      "text/html": "<table border=\"1\" class=\"dataframe\">\n  <thead>\n    <tr>\n      <th></th>\n      <th>dataset</th>\n      <th>species</th>\n      <th>species_com_name</th>\n      <th>species_query</th>\n      <th>duration_s</th>\n      <th>samples_mb</th>\n      <th>samples_n</th>\n      <th>basename</th>\n      <th>species_longhand</th>\n      <th>id</th>\n      <th>path</th>\n    </tr>\n    <tr>\n      <th>dtype</th>\n      <th>object</th>\n      <th>category</th>\n      <th>category</th>\n      <th>object</th>\n      <th>float64</th>\n      <th>float64</th>\n      <th>int64</th>\n      <th>object</th>\n      <th>category</th>\n      <th>object</th>\n      <th>object</th>\n    </tr>\n    <tr>\n      <th>sizeof</th>\n      <th>2.2 KiB</th>\n      <th>2.6 KiB</th>\n      <th>3.8 KiB</th>\n      <th>2.0 KiB</th>\n      <th>1.2 KiB</th>\n      <th>1.2 KiB</th>\n      <th>1.3 KiB</th>\n      <th>2.9 KiB</th>\n      <th>4.8 KiB</th>\n      <th>3.3 KiB</th>\n      <th>3.4 KiB</th>\n    </tr>\n    <tr>\n      <th>len</th>\n      <th>30</th>\n      <th>30</th>\n      <th>30</th>\n      <th>30</th>\n      <th>30</th>\n      <th>30</th>\n      <th>30</th>\n      <th>30</th>\n      <th>30</th>\n      <th>30</th>\n      <th>30</th>\n    </tr>\n    <tr>\n      <th>count</th>\n      <th>30</th>\n      <th>30</th>\n      <th>30</th>\n      <th>30</th>\n      <th>30</th>\n      <th>30</th>\n      <th>30</th>\n      <th>30</th>\n      <th>30</th>\n      <th>30</th>\n      <th>30</th>\n    </tr>\n    <tr>\n      <th>nunique</th>\n      <th>1</th>\n      <th>12</th>\n      <th>12</th>\n      <th>12</th>\n      <th>29</th>\n      <th>29</th>\n      <th>29</th>\n      <th>30</th>\n      <th>12</th>\n      <th>30</th>\n      <th>30</th>\n    </tr>\n    <tr>\n      <th>mean</th>\n      <th>NaN</th>\n      <th>NaN</th>\n      <th>NaN</th>\n      <th>NaN</th>\n      <th>7.030e+01</th>\n      <th>2.957e+00</th>\n      <th>1.550e+06</th>\n      <th>NaN</th>\n      <th>NaN</th>\n      <th>NaN</th>\n      <th>NaN</th>\n    </tr>\n    <tr>\n      <th>std</th>\n      <th>NaN</th>\n      <th>NaN</th>\n      <th>NaN</th>\n      <th>NaN</th>\n      <th>4.552e+01</th>\n      <th>1.914e+00</th>\n      <th>1.004e+06</th>\n      <th>NaN</th>\n      <th>NaN</th>\n      <th>NaN</th>\n      <th>NaN</th>\n    </tr>\n  </thead>\n  <tbody>\n    <tr>\n      <th>min</th>\n      <td><div class=\"not-number\">recordings</div></td>\n      <td><div class=\"not-number\">HAWO</div></td>\n      <td><div class=\"not-number\">Hairy Woodpecker</div></td>\n      <td><div class=\"not-number\">BEWR</div></td>\n      <td>4.94</td>\n      <td>0.208</td>\n      <td>108928</td>\n      <td><div class=\"not-number\">081845</div></td>\n      <td><div class=\"not-number\">Hairy Woodpecker - HAWO</div></td>\n      <td><div class=\"not-number\">recordings/081845</div></td>\n      <td><div class=\"not-number\">recordings/081845.wav</div></td>\n    </tr>\n    <tr>\n      <th>25%</th>\n      <td><div class=\"not-number\">recordings</div></td>\n      <td><div class=\"not-number\">BRCR</div></td>\n      <td><div class=\"not-number\">Brown Creeper</div></td>\n      <td><div class=\"not-number\">CALT</div></td>\n      <td>32.90</td>\n      <td>1.380</td>\n      <td>725569</td>\n      <td><div class=\"not-number\">BRCR brown creeper- fault count</div></td>\n      <td><div class=\"not-number\">Brown Creeper - BRCR</div></td>\n      <td><div class=\"not-number\">recordings/BRCR brown creeper- fault count</div></td>\n      <td><div class=\"not-number\">recordings/BRCR brown creeper- fault count.wav</div></td>\n    </tr>\n    <tr>\n      <th>50%</th>\n      <td><div class=\"not-number\">recordings</div></td>\n      <td><div class=\"not-number\">BTYW</div></td>\n      <td><div class=\"not-number\">Black-throated Gray Warbler</div></td>\n      <td><div class=\"not-number\">FOSP</div></td>\n      <td>59.50</td>\n      <td>2.500</td>\n      <td>1311728</td>\n      <td><div class=\"not-number\">CEDW,WCSP cedar waxwing- white crowned sparrow- clipper garden</div></td>\n      <td><div class=\"not-number\">Black-throated Gray Warbler - BTYW</div></td>\n      <td><div class=\"not-number\">recordings/CEDW,WCSP cedar waxwing- white crowned sparrow- clipper garden</div></td>\n      <td><div class=\"not-number\">recordings/CEDW,WCSP cedar waxwing- white crowned sparrow- clipper garden.wav</div></td>\n    </tr>\n    <tr>\n      <th>75%</th>\n      <td><div class=\"not-number\">recordings</div></td>\n      <td><div class=\"not-number\">_UNK</div></td>\n      <td><div class=\"not-number\">Unknown</div></td>\n      <td><div class=\"not-number\">_UNK</div></td>\n      <td>83.30</td>\n      <td>3.500</td>\n      <td>1835765</td>\n      <td><div class=\"not-number\">HAWO hairy woodpecker (2)</div></td>\n      <td><div class=\"not-number\">Unknown - _UNK</div></td>\n      <td><div class=\"not-number\">recordings/HAWO hairy woodpecker (2)</div></td>\n      <td><div class=\"not-number\">recordings/HAWO hairy woodpecker (2).wav</div></td>\n    </tr>\n    <tr>\n      <th>max</th>\n      <td><div class=\"not-number\">recordings</div></td>\n      <td><div class=\"not-number\">_UNK</div></td>\n      <td><div class=\"not-number\">Unknown</div></td>\n      <td><div class=\"not-number\">_UNK</div></td>\n      <td>204.00</td>\n      <td>8.580</td>\n      <td>4496811</td>\n      <td><div class=\"not-number\">feeder: lots of chips, some palm tree, chickadees, maybe bush tits, maybe sparrows</div></td>\n      <td><div class=\"not-number\">Unknown - _UNK</div></td>\n      <td><div class=\"not-number\">recordings/feeder: lots of chips, some palm tree, chickadees, maybe bush tits, maybe sparrows</div></td>\n      <td><div class=\"not-number\">recordings/feeder: lots of chips, some palm tree, chickadees, maybe bush tits, maybe sparrows.wav</div></td>\n    </tr>\n  </tbody>\n</table>",
      "text/plain": "            dataset  species             species_com_name species_query duration_s samples_mb samples_n                                                                            basename                    species_longhand                                                                                             id                                                                                               path\ndtype        object category                     category        object    float64    float64     int64                                                                              object                            category                                                                                         object                                                                                             object\nsizeof      2.2 KiB  2.6 KiB                      3.8 KiB       2.0 KiB    1.2 KiB    1.2 KiB   1.3 KiB                                                                             2.9 KiB                             4.8 KiB                                                                                        3.3 KiB                                                                                            3.4 KiB\nlen              30       30                           30            30         30         30        30                                                                                  30                                  30                                                                                             30                                                                                                 30\ncount            30       30                           30            30         30         30        30                                                                                  30                                  30                                                                                             30                                                                                                 30\nnunique          1        12                           12            12         29         29        29                                                                                  30                                  12                                                                                             30                                                                                                 30\nmean            NaN      NaN                          NaN           NaN  7.030e+01  2.957e+00 1.550e+06                                                                                 NaN                                 NaN                                                                                            NaN                                                                                                NaN\nstd             NaN      NaN                          NaN           NaN  4.552e+01  1.914e+00 1.004e+06                                                                                 NaN                                 NaN                                                                                            NaN                                                                                                NaN\nmin      recordings     HAWO             Hairy Woodpecker          BEWR       4.94      0.208    108928                                                                              081845             Hairy Woodpecker - HAWO                                                                              recordings/081845                                                                              recordings/081845.wav\n25%      recordings     BRCR                Brown Creeper          CALT       32.9       1.38    725569                                                     BRCR brown creeper- fault count                Brown Creeper - BRCR                                                     recordings/BRCR brown creeper- fault count                                                     recordings/BRCR brown creeper- fault count.wav\n50%      recordings     BTYW  Black-throated Gray Warbler          FOSP       59.5        2.5   1311728                      CEDW,WCSP cedar waxwing- white crowned sparrow- clipper garden  Black-throated Gray Warbler - BTYW                      recordings/CEDW,WCSP cedar waxwing- white crowned sparrow- clipper garden                      recordings/CEDW,WCSP cedar waxwing- white crowned sparrow- clipper garden.wav\n75%      recordings     _UNK                      Unknown          _UNK       83.3        3.5   1835765                                                           HAWO hairy woodpecker (2)                      Unknown - _UNK                                                           recordings/HAWO hairy woodpecker (2)                                                           recordings/HAWO hairy woodpecker (2).wav\nmax      recordings     _UNK                      Unknown          _UNK        204       8.58   4496811  feeder: lots of chips, some palm tree, chickadees, maybe bush tits, maybe sparrows                      Unknown - _UNK  recordings/feeder: lots of chips, some palm tree, chickadees, maybe bush tits, maybe sparrows  recordings/feeder: lots of chips, some palm tree, chickadees, maybe bush tits, maybe sparrows.wav"
     },
     "metadata": {},
     "output_type": "display_data",
     "transient": {}
    },
    {
     "data": {
      "text/html": "<table border=\"1\" class=\"dataframe\">\n  <thead>\n    <tr style=\"text-align: right;\">\n      <th></th>\n      <th>dataset</th>\n      <th>species</th>\n      <th>species_com_name</th>\n      <th>species_query</th>\n      <th>duration_s</th>\n      <th>samples_mb</th>\n      <th>samples_n</th>\n      <th>basename</th>\n      <th>species_longhand</th>\n      <th>id</th>\n      <th>path</th>\n    </tr>\n  </thead>\n  <tbody>\n    <tr>\n      <th>29</th>\n      <td><div class=\"not-number\">recordings</div></td>\n      <td><div class=\"not-number\">HAWO</div></td>\n      <td><div class=\"not-number\">Hairy Woodpecker</div></td>\n      <td><div class=\"not-number\">HAWO</div></td>\n      <td>59.3</td>\n      <td>2.49</td>\n      <td>1307828</td>\n      <td><div class=\"not-number\">HAWO hairy woodpecker (2)</div></td>\n      <td><div class=\"not-number\">Hairy Woodpecker - HAWO</div></td>\n      <td><div class=\"not-number\">recordings/HAWO hairy woodpecker (2)</div></td>\n      <td><div class=\"not-number\">recordings/HAWO hairy woodpecker (2).wav</div></td>\n    </tr>\n    <tr>\n      <th>6</th>\n      <td><div class=\"not-number\">recordings</div></td>\n      <td><div class=\"not-number\">BLPH</div></td>\n      <td><div class=\"not-number\">Black Phoebe</div></td>\n      <td><div class=\"not-number\">BLPH</div></td>\n      <td>32.9</td>\n      <td>1.38</td>\n      <td>725569</td>\n      <td><div class=\"not-number\">BLPH black phoebe, chirps, noise</div></td>\n      <td><div class=\"not-number\">Black Phoebe - BLPH</div></td>\n      <td><div class=\"not-number\">recordings/BLPH black phoebe, chirps, noise</div></td>\n      <td><div class=\"not-number\">recordings/BLPH black phoebe, chirps, noise.wav</div></td>\n    </tr>\n    <tr>\n      <th>7</th>\n      <td><div class=\"not-number\">recordings</div></td>\n      <td><div class=\"not-number\">BLPH</div></td>\n      <td><div class=\"not-number\">Black Phoebe</div></td>\n      <td><div class=\"not-number\">BLPH</div></td>\n      <td>83.3</td>\n      <td>3.50</td>\n      <td>1835765</td>\n      <td><div class=\"not-number\">BLPH black phoebe, sitting and catching</div></td>\n      <td><div class=\"not-number\">Black Phoebe - BLPH</div></td>\n      <td><div class=\"not-number\">recordings/BLPH black phoebe, sitting and catching</div></td>\n      <td><div class=\"not-number\">recordings/BLPH black phoebe, sitting and catching.wav</div></td>\n    </tr>\n    <tr>\n      <th>13</th>\n      <td><div class=\"not-number\">recordings</div></td>\n      <td><div class=\"not-number\">CASJ</div></td>\n      <td><div class=\"not-number\">California Scrub-Jay</div></td>\n      <td><div class=\"not-number\">CASJ</div></td>\n      <td>204.0</td>\n      <td>8.58</td>\n      <td>4496811</td>\n      <td><div class=\"not-number\">CASJ scrub jays, misc</div></td>\n      <td><div class=\"not-number\">California Scrub-Jay - CASJ</div></td>\n      <td><div class=\"not-number\">recordings/CASJ scrub jays, misc</div></td>\n      <td><div class=\"not-number\">recordings/CASJ scrub jays, misc.wav</div></td>\n    </tr>\n    <tr>\n      <th>12</th>\n      <td><div class=\"not-number\">recordings</div></td>\n      <td><div class=\"not-number\">CASJ</div></td>\n      <td><div class=\"not-number\">California Scrub-Jay</div></td>\n      <td><div class=\"not-number\">CASJ</div></td>\n      <td>46.6</td>\n      <td>1.96</td>\n      <td>1027694</td>\n      <td><div class=\"not-number\">CASJ scrub jay</div></td>\n      <td><div class=\"not-number\">California Scrub-Jay - CASJ</div></td>\n      <td><div class=\"not-number\">recordings/CASJ scrub jay</div></td>\n      <td><div class=\"not-number\">recordings/CASJ scrub jay.wav</div></td>\n    </tr>\n  </tbody>\n</table>",
      "text/plain": "       dataset species      species_com_name species_query  duration_s  samples_mb  samples_n                                 basename             species_longhand                                                  id                                                    path\n29  recordings    HAWO      Hairy Woodpecker          HAWO      59.312       2.494    1307828                HAWO hairy woodpecker (2)      Hairy Woodpecker - HAWO                recordings/HAWO hairy woodpecker (2)                recordings/HAWO hairy woodpecker (2).wav\n6   recordings    BLPH          Black Phoebe          BLPH      32.906       1.384     725569         BLPH black phoebe, chirps, noise          Black Phoebe - BLPH         recordings/BLPH black phoebe, chirps, noise         recordings/BLPH black phoebe, chirps, noise.wav\n7   recordings    BLPH          Black Phoebe          BLPH      83.255       3.501    1835765  BLPH black phoebe, sitting and catching          Black Phoebe - BLPH  recordings/BLPH black phoebe, sitting and catching  recordings/BLPH black phoebe, sitting and catching.wav\n13  recordings    CASJ  California Scrub-Jay          CASJ     203.937       8.577    4496811                    CASJ scrub jays, misc  California Scrub-Jay - CASJ                    recordings/CASJ scrub jays, misc                    recordings/CASJ scrub jays, misc.wav\n12  recordings    CASJ  California Scrub-Jay          CASJ      46.607       1.960    1027694                           CASJ scrub jay  California Scrub-Jay - CASJ                           recordings/CASJ scrub jay                           recordings/CASJ scrub jay.wav"
     },
     "metadata": {},
     "output_type": "display_data",
     "transient": {}
    }
   ],
   "source": [
    "recs = (\n",
    "    load_recs([\n",
    "        'peterson-field-guide',\n",
    "        'recordings',\n",
    "    ])\n",
    "    [:30]  # XXX Faster dev\n",
    "    .pipe(recs_load_metadata)\n",
    ")\n",
    "display(df_summary(recs), recs[:5])"
   ]
  },
  {
   "cell_type": "code",
   "execution_count": null,
   "metadata": {},
   "outputs": [
    {
     "name": "stdout",
     "output_type": "stream",
     "text": "\r[                                                                                          ] | 0% Completed |  0.0s"
    },
    {
     "name": "stdout",
     "output_type": "stream",
     "text": "\r[#######                                                                                   ] | 8% Completed |  0.1s"
    },
    {
     "name": "stdout",
     "output_type": "stream",
     "text": "\r[##################                                                                        ] | 20% Completed |  0.2s"
    },
    {
     "name": "stdout",
     "output_type": "stream",
     "text": "\r[#############################                                                             ] | 32% Completed |  0.3s"
    },
    {
     "name": "stdout",
     "output_type": "stream",
     "text": "\r[#########################################                                                 ] | 46% Completed |  0.4s"
    },
    {
     "name": "stdout",
     "output_type": "stream",
     "text": "\r[######################################################                                    ] | 60% Completed |  0.6s"
    },
    {
     "name": "stdout",
     "output_type": "stream",
     "text": "\r[############################################################                              ] | 67% Completed |  0.7s"
    },
    {
     "name": "stdout",
     "output_type": "stream",
     "text": "\r[#######################################################################                   ] | 79% Completed |  0.8s"
    },
    {
     "name": "stdout",
     "output_type": "stream",
     "text": "\r[##################################################################################        ] | 91% Completed |  0.9s"
    },
    {
     "name": "stdout",
     "output_type": "stream",
     "text": "\r[##########################################################################################] | 100% Completed |  1.0s"
    },
    {
     "name": "stdout",
     "output_type": "stream",
     "text": "\n"
    },
    {
     "name": "stdout",
     "output_type": "stream",
     "text": "[02:32:20.957] Features.spectros:recs\n  len(recs): 30\n  sum(duration_h): 0.586\n  sum(samples_mb): 88.7\n  sum(samples_n): 46505701\n"
    },
    {
     "name": "stdout",
     "output_type": "stream",
     "text": "[02:32:21.303] Features.spectros:spectros\n  (f, sum(t)): [40, 181617]\n[02:32:21.305] Features.patches:recs\n  len(recs): 30\n  sum(duration_h): 0.586\n  sum(samples_mb): 88.7\n  sum(samples_n): 46505701\n  (f, sum(t)): [40, 181617]\n[02:32:21.488] Features.patches:patches\n  (f*p, sum(t)): [160, 181527]\n"
    },
    {
     "data": {
      "text/html": "<table border=\"1\" class=\"dataframe\">\n  <thead>\n    <tr>\n      <th></th>\n      <th>dataset</th>\n      <th>species</th>\n      <th>species_com_name</th>\n      <th>species_query</th>\n      <th>duration_s</th>\n      <th>samples_mb</th>\n      <th>samples_n</th>\n      <th>basename</th>\n      <th>species_longhand</th>\n      <th>id</th>\n      <th>path</th>\n      <th>audio</th>\n      <th>spectro</th>\n      <th>patches</th>\n    </tr>\n    <tr>\n      <th>dtype</th>\n      <th>object</th>\n      <th>category</th>\n      <th>category</th>\n      <th>object</th>\n      <th>float64</th>\n      <th>float64</th>\n      <th>int64</th>\n      <th>object</th>\n      <th>category</th>\n      <th>object</th>\n      <th>object</th>\n      <th>object</th>\n      <th>object</th>\n      <th>object</th>\n    </tr>\n    <tr>\n      <th>sizeof</th>\n      <th>2.2 KiB</th>\n      <th>2.6 KiB</th>\n      <th>3.8 KiB</th>\n      <th>2.0 KiB</th>\n      <th>1.2 KiB</th>\n      <th>1.2 KiB</th>\n      <th>1.3 KiB</th>\n      <th>2.9 KiB</th>\n      <th>4.8 KiB</th>\n      <th>3.3 KiB</th>\n      <th>3.4 KiB</th>\n      <th>1.4 KiB</th>\n      <th>1.4 KiB</th>\n      <th>3.8 KiB</th>\n    </tr>\n    <tr>\n      <th>len</th>\n      <th>30</th>\n      <th>30</th>\n      <th>30</th>\n      <th>30</th>\n      <th>30</th>\n      <th>30</th>\n      <th>30</th>\n      <th>30</th>\n      <th>30</th>\n      <th>30</th>\n      <th>30</th>\n      <th>30</th>\n      <th>30</th>\n      <th>30</th>\n    </tr>\n    <tr>\n      <th>count</th>\n      <th>30</th>\n      <th>30</th>\n      <th>30</th>\n      <th>30</th>\n      <th>30</th>\n      <th>30</th>\n      <th>30</th>\n      <th>30</th>\n      <th>30</th>\n      <th>30</th>\n      <th>30</th>\n      <th>30</th>\n      <th>30</th>\n      <th>30</th>\n    </tr>\n    <tr>\n      <th>nunique</th>\n      <th>1.0</th>\n      <th>12.0</th>\n      <th>12.0</th>\n      <th>12.0</th>\n      <th>29.0</th>\n      <th>29.0</th>\n      <th>29.0</th>\n      <th>30.0</th>\n      <th>12.0</th>\n      <th>30.0</th>\n      <th>30.0</th>\n      <th>NaN</th>\n      <th>30.0</th>\n      <th>NaN</th>\n    </tr>\n    <tr>\n      <th>mean</th>\n      <th>NaN</th>\n      <th>NaN</th>\n      <th>NaN</th>\n      <th>NaN</th>\n      <th>7.030e+01</th>\n      <th>2.957e+00</th>\n      <th>1.550e+06</th>\n      <th>NaN</th>\n      <th>NaN</th>\n      <th>NaN</th>\n      <th>NaN</th>\n      <th>NaN</th>\n      <th>NaN</th>\n      <th>NaN</th>\n    </tr>\n    <tr>\n      <th>std</th>\n      <th>NaN</th>\n      <th>NaN</th>\n      <th>NaN</th>\n      <th>NaN</th>\n      <th>4.552e+01</th>\n      <th>1.914e+00</th>\n      <th>1.004e+06</th>\n      <th>NaN</th>\n      <th>NaN</th>\n      <th>NaN</th>\n      <th>NaN</th>\n      <th>NaN</th>\n      <th>NaN</th>\n      <th>NaN</th>\n    </tr>\n  </thead>\n  <tbody>\n    <tr>\n      <th>min</th>\n      <td><div class=\"not-number\">recordings</div></td>\n      <td><div class=\"not-number\">HAWO</div></td>\n      <td><div class=\"not-number\">Hairy Woodpecker</div></td>\n      <td><div class=\"not-number\">BEWR</div></td>\n      <td>4.94</td>\n      <td>0.208</td>\n      <td>108928</td>\n      <td><div class=\"not-number\">081845</div></td>\n      <td><div class=\"not-number\">Hairy Woodpecker - HAWO</div></td>\n      <td><div class=\"not-number\">recordings/081845</div></td>\n      <td><div class=\"not-number\">recordings/081845.wav</div></td>\n      <td>NaN</td>\n      <td>NaN</td>\n      <td>NaN</td>\n    </tr>\n    <tr>\n      <th>25%</th>\n      <td><div class=\"not-number\">recordings</div></td>\n      <td><div class=\"not-number\">BRCR</div></td>\n      <td><div class=\"not-number\">Brown Creeper</div></td>\n      <td><div class=\"not-number\">CALT</div></td>\n      <td>32.90</td>\n      <td>1.380</td>\n      <td>725569</td>\n      <td><div class=\"not-number\">BRCR brown creeper- fault count</div></td>\n      <td><div class=\"not-number\">Brown Creeper - BRCR</div></td>\n      <td><div class=\"not-number\">recordings/BRCR brown creeper- fault count</div></td>\n      <td><div class=\"not-number\">recordings/BRCR brown creeper- fault count.wav</div></td>\n      <td>NaN</td>\n      <td>NaN</td>\n      <td>NaN</td>\n    </tr>\n    <tr>\n      <th>50%</th>\n      <td><div class=\"not-number\">recordings</div></td>\n      <td><div class=\"not-number\">BTYW</div></td>\n      <td><div class=\"not-number\">Black-throated Gray Warbler</div></td>\n      <td><div class=\"not-number\">FOSP</div></td>\n      <td>59.50</td>\n      <td>2.500</td>\n      <td>1311728</td>\n      <td><div class=\"not-number\">CEDW,WCSP cedar waxwing- white crowned sparrow- clipper garden</div></td>\n      <td><div class=\"not-number\">Black-throated Gray Warbler - BTYW</div></td>\n      <td><div class=\"not-number\">recordings/CEDW,WCSP cedar waxwing- white crowned sparrow- clipper garden</div></td>\n      <td><div class=\"not-number\">recordings/CEDW,WCSP cedar waxwing- white crowned sparrow- clipper garden.wav</div></td>\n      <td>NaN</td>\n      <td>NaN</td>\n      <td>NaN</td>\n    </tr>\n    <tr>\n      <th>75%</th>\n      <td><div class=\"not-number\">recordings</div></td>\n      <td><div class=\"not-number\">_UNK</div></td>\n      <td><div class=\"not-number\">Unknown</div></td>\n      <td><div class=\"not-number\">_UNK</div></td>\n      <td>83.30</td>\n      <td>3.500</td>\n      <td>1835765</td>\n      <td><div class=\"not-number\">HAWO hairy woodpecker (2)</div></td>\n      <td><div class=\"not-number\">Unknown - _UNK</div></td>\n      <td><div class=\"not-number\">recordings/HAWO hairy woodpecker (2)</div></td>\n      <td><div class=\"not-number\">recordings/HAWO hairy woodpecker (2).wav</div></td>\n      <td>NaN</td>\n      <td>NaN</td>\n      <td>NaN</td>\n    </tr>\n    <tr>\n      <th>max</th>\n      <td><div class=\"not-number\">recordings</div></td>\n      <td><div class=\"not-number\">_UNK</div></td>\n      <td><div class=\"not-number\">Unknown</div></td>\n      <td><div class=\"not-number\">_UNK</div></td>\n      <td>204.00</td>\n      <td>8.580</td>\n      <td>4496811</td>\n      <td><div class=\"not-number\">feeder: lots of chips, some palm tree, chickadees, maybe bush tits, maybe sparrows</div></td>\n      <td><div class=\"not-number\">Unknown - _UNK</div></td>\n      <td><div class=\"not-number\">recordings/feeder: lots of chips, some palm tree, chickadees, maybe bush tits, maybe sparrows</div></td>\n      <td><div class=\"not-number\">recordings/feeder: lots of chips, some palm tree, chickadees, maybe bush tits, maybe sparrows.wav</div></td>\n      <td>NaN</td>\n      <td>NaN</td>\n      <td>NaN</td>\n    </tr>\n  </tbody>\n</table>",
      "text/plain": "            dataset  species             species_com_name species_query duration_s samples_mb samples_n                                                                            basename                    species_longhand                                                                                             id                                                                                               path   audio spectro patches\ndtype        object category                     category        object    float64    float64     int64                                                                              object                            category                                                                                         object                                                                                             object  object  object  object\nsizeof      2.2 KiB  2.6 KiB                      3.8 KiB       2.0 KiB    1.2 KiB    1.2 KiB   1.3 KiB                                                                             2.9 KiB                             4.8 KiB                                                                                        3.3 KiB                                                                                            3.4 KiB 1.4 KiB 1.4 KiB 3.8 KiB\nlen              30       30                           30            30         30         30        30                                                                                  30                                  30                                                                                             30                                                                                                 30      30      30      30\ncount            30       30                           30            30         30         30        30                                                                                  30                                  30                                                                                             30                                                                                                 30      30      30      30\nnunique        1.0      12.0                         12.0          12.0       29.0       29.0      29.0                                                                                30.0                                12.0                                                                                           30.0                                                                                               30.0     NaN    30.0     NaN\nmean            NaN      NaN                          NaN           NaN  7.030e+01  2.957e+00 1.550e+06                                                                                 NaN                                 NaN                                                                                            NaN                                                                                                NaN     NaN     NaN     NaN\nstd             NaN      NaN                          NaN           NaN  4.552e+01  1.914e+00 1.004e+06                                                                                 NaN                                 NaN                                                                                            NaN                                                                                                NaN     NaN     NaN     NaN\nmin      recordings     HAWO             Hairy Woodpecker          BEWR       4.94      0.208    108928                                                                              081845             Hairy Woodpecker - HAWO                                                                              recordings/081845                                                                              recordings/081845.wav     NaN     NaN     NaN\n25%      recordings     BRCR                Brown Creeper          CALT       32.9       1.38    725569                                                     BRCR brown creeper- fault count                Brown Creeper - BRCR                                                     recordings/BRCR brown creeper- fault count                                                     recordings/BRCR brown creeper- fault count.wav     NaN     NaN     NaN\n50%      recordings     BTYW  Black-throated Gray Warbler          FOSP       59.5        2.5   1311728                      CEDW,WCSP cedar waxwing- white crowned sparrow- clipper garden  Black-throated Gray Warbler - BTYW                      recordings/CEDW,WCSP cedar waxwing- white crowned sparrow- clipper garden                      recordings/CEDW,WCSP cedar waxwing- white crowned sparrow- clipper garden.wav     NaN     NaN     NaN\n75%      recordings     _UNK                      Unknown          _UNK       83.3        3.5   1835765                                                           HAWO hairy woodpecker (2)                      Unknown - _UNK                                                           recordings/HAWO hairy woodpecker (2)                                                           recordings/HAWO hairy woodpecker (2).wav     NaN     NaN     NaN\nmax      recordings     _UNK                      Unknown          _UNK        204       8.58   4496811  feeder: lots of chips, some palm tree, chickadees, maybe bush tits, maybe sparrows                      Unknown - _UNK  recordings/feeder: lots of chips, some palm tree, chickadees, maybe bush tits, maybe sparrows  recordings/feeder: lots of chips, some palm tree, chickadees, maybe bush tits, maybe sparrows.wav     NaN     NaN     NaN"
     },
     "metadata": {},
     "output_type": "display_data",
     "transient": {}
    },
    {
     "data": {
      "text/html": "<table border=\"1\" class=\"dataframe\">\n  <thead>\n    <tr style=\"text-align: right;\">\n      <th></th>\n      <th>dataset</th>\n      <th>species</th>\n      <th>species_com_name</th>\n      <th>species_query</th>\n      <th>duration_s</th>\n      <th>samples_mb</th>\n      <th>samples_n</th>\n      <th>basename</th>\n      <th>species_longhand</th>\n      <th>id</th>\n      <th>path</th>\n      <th>audio</th>\n      <th>spectro</th>\n      <th>patches</th>\n    </tr>\n  </thead>\n  <tbody>\n    <tr>\n      <th>29</th>\n      <td><div class=\"not-number\">recordings</div></td>\n      <td><div class=\"not-number\">HAWO</div></td>\n      <td><div class=\"not-number\">Hairy Woodpecker</div></td>\n      <td><div class=\"not-number\">HAWO</div></td>\n      <td>59.3</td>\n      <td>2.49</td>\n      <td>1307828</td>\n      <td><div class=\"not-number\">HAWO hairy woodpecker (2)</div></td>\n      <td><div class=\"not-number\">Hairy Woodpecker - HAWO</div></td>\n      <td><div class=\"not-number\">recordings/HAWO hairy woodpecker (2)</div></td>\n      <td><div class=\"not-number\">recordings/HAWO hairy woodpecker (2).wav</div></td>\n      <td><div class=\"not-number\">recordings/HAWO hairy woodpecker (2): 1 channels, 16 bit, sampled @ 22.05 kHz, 59.312s long</div></td>\n      <td><div class=\"not-number\"><features.Melspectro object at 0x128e91240></div></td>\n      <td><div class=\"not-number\">[[0.    0.073 0.    ... 0.17  0.222 0.265]\\n [0.073 0.    0.    ... 0.222 0.265 0.179]\\n [0.    0.    0.    ... 0.265 0.179 0.226]\\n ...\\n [0.175 0.161 0.17  ... 0.    0.  ...</td>\n    </tr>\n    <tr>\n      <th>6</th>\n      <td><div class=\"not-number\">recordings</div></td>\n      <td><div class=\"not-number\">BLPH</div></td>\n      <td><div class=\"not-number\">Black Phoebe</div></td>\n      <td><div class=\"not-number\">BLPH</div></td>\n      <td>32.9</td>\n      <td>1.38</td>\n      <td>725569</td>\n      <td><div class=\"not-number\">BLPH black phoebe, chirps, noise</div></td>\n      <td><div class=\"not-number\">Black Phoebe - BLPH</div></td>\n      <td><div class=\"not-number\">recordings/BLPH black phoebe, chirps, noise</div></td>\n      <td><div class=\"not-number\">recordings/BLPH black phoebe, chirps, noise.wav</div></td>\n      <td><div class=\"not-number\">recordings/BLPH black phoebe, chirps, noise: 1 channels, 16 bit, sampled @ 22.05 kHz, 32.906s long</div></td>\n      <td><div class=\"not-number\"><features.Melspectro object at 0x10e4515c0></div></td>\n      <td><div class=\"not-number\">[[0.095 0.13  0.096 ... 0.    0.    0.   ]\\n [0.13  0.096 0.207 ... 0.    0.    0.   ]\\n [0.096 0.207 0.075 ... 0.    0.    0.   ]\\n ...\\n [0.27  0.332 0.304 ... 0.172 0.16...</td>\n    </tr>\n    <tr>\n      <th>7</th>\n      <td><div class=\"not-number\">recordings</div></td>\n      <td><div class=\"not-number\">BLPH</div></td>\n      <td><div class=\"not-number\">Black Phoebe</div></td>\n      <td><div class=\"not-number\">BLPH</div></td>\n      <td>83.3</td>\n      <td>3.50</td>\n      <td>1835765</td>\n      <td><div class=\"not-number\">BLPH black phoebe, sitting and catching</div></td>\n      <td><div class=\"not-number\">Black Phoebe - BLPH</div></td>\n      <td><div class=\"not-number\">recordings/BLPH black phoebe, sitting and catching</div></td>\n      <td><div class=\"not-number\">recordings/BLPH black phoebe, sitting and catching.wav</div></td>\n      <td><div class=\"not-number\">recordings/BLPH black phoebe, sitting and catching: 1 channels, 16 bit, sampled @ 22.05 kHz, 83.255s long</div></td>\n      <td><div class=\"not-number\"><features.Melspectro object at 0x11d0a70f0></div></td>\n      <td><div class=\"not-number\">[[0.    0.099 0.    ... 0.065 0.    0.126]\\n [0.099 0.    0.    ... 0.    0.126 0.   ]\\n [0.    0.    0.    ... 0.126 0.    0.04 ]\\n ...\\n [0.153 0.101 0.019 ... 0.    0.  ...</td>\n    </tr>\n    <tr>\n      <th>13</th>\n      <td><div class=\"not-number\">recordings</div></td>\n      <td><div class=\"not-number\">CASJ</div></td>\n      <td><div class=\"not-number\">California Scrub-Jay</div></td>\n      <td><div class=\"not-number\">CASJ</div></td>\n      <td>204.0</td>\n      <td>8.58</td>\n      <td>4496811</td>\n      <td><div class=\"not-number\">CASJ scrub jays, misc</div></td>\n      <td><div class=\"not-number\">California Scrub-Jay - CASJ</div></td>\n      <td><div class=\"not-number\">recordings/CASJ scrub jays, misc</div></td>\n      <td><div class=\"not-number\">recordings/CASJ scrub jays, misc.wav</div></td>\n      <td><div class=\"not-number\">recordings/CASJ scrub jays, misc: 1 channels, 16 bit, sampled @ 22.05 kHz, 203.937s long</div></td>\n      <td><div class=\"not-number\"><features.Melspectro object at 0x128e8bf60></div></td>\n      <td><div class=\"not-number\">[[0.    0.029 0.    ... 0.    0.    0.   ]\\n [0.029 0.    0.    ... 0.    0.    0.   ]\\n [0.    0.    0.    ... 0.    0.    0.   ]\\n ...\\n [0.062 0.147 0.179 ... 0.25  0.26...</td>\n    </tr>\n    <tr>\n      <th>12</th>\n      <td><div class=\"not-number\">recordings</div></td>\n      <td><div class=\"not-number\">CASJ</div></td>\n      <td><div class=\"not-number\">California Scrub-Jay</div></td>\n      <td><div class=\"not-number\">CASJ</div></td>\n      <td>46.6</td>\n      <td>1.96</td>\n      <td>1027694</td>\n      <td><div class=\"not-number\">CASJ scrub jay</div></td>\n      <td><div class=\"not-number\">California Scrub-Jay - CASJ</div></td>\n      <td><div class=\"not-number\">recordings/CASJ scrub jay</div></td>\n      <td><div class=\"not-number\">recordings/CASJ scrub jay.wav</div></td>\n      <td><div class=\"not-number\">recordings/CASJ scrub jay: 1 channels, 16 bit, sampled @ 22.05 kHz, 46.607s long</div></td>\n      <td><div class=\"not-number\"><features.Melspectro object at 0x1258e4ba8></div></td>\n      <td><div class=\"not-number\">[[0.026 0.    0.    ... 0.    0.021 0.   ]\\n [0.    0.    0.    ... 0.021 0.    0.011]\\n [0.    0.    0.    ... 0.    0.011 0.036]\\n ...\\n [0.    0.002 0.    ... 0.169 0.20...</td>\n    </tr>\n  </tbody>\n</table>",
      "text/plain": "       dataset species      species_com_name species_query  duration_s  samples_mb  samples_n                                 basename             species_longhand                                                  id                                                    path                                                                                                      audio                                      spectro                                                                                                                                                                                                  patches\n29  recordings    HAWO      Hairy Woodpecker          HAWO      59.312       2.494    1307828                HAWO hairy woodpecker (2)      Hairy Woodpecker - HAWO                recordings/HAWO hairy woodpecker (2)                recordings/HAWO hairy woodpecker (2).wav                recordings/HAWO hairy woodpecker (2): 1 channels, 16 bit, sampled @ 22.05 kHz, 59.312s long  <features.Melspectro object at 0x128e91240>  [[0.0, 0.07330636585357264, 0.0, 0.0, 0.0, 0.0, 0.006242171649157191, 0.009052870157057802, 0.0, 0.0, 0.11073470392087992, 0.013066306808882988, 0.04326911158894631, 0.02572363074079842, 0.0, 0.04...\n6   recordings    BLPH          Black Phoebe          BLPH      32.906       1.384     725569         BLPH black phoebe, chirps, noise          Black Phoebe - BLPH         recordings/BLPH black phoebe, chirps, noise         recordings/BLPH black phoebe, chirps, noise.wav         recordings/BLPH black phoebe, chirps, noise: 1 channels, 16 bit, sampled @ 22.05 kHz, 32.906s long  <features.Melspectro object at 0x10e4515c0>  [[0.09487626883621925, 0.1303508239677984, 0.09604182576255282, 0.20655299517721137, 0.07478129887667184, 0.09965424084738261, 0.10214558499149251, 0.02888613436537346, 0.12762026363976253, 0.1512...\n7   recordings    BLPH          Black Phoebe          BLPH      83.255       3.501    1835765  BLPH black phoebe, sitting and catching          Black Phoebe - BLPH  recordings/BLPH black phoebe, sitting and catching  recordings/BLPH black phoebe, sitting and catching.wav  recordings/BLPH black phoebe, sitting and catching: 1 channels, 16 bit, sampled @ 22.05 kHz, 83.255s long  <features.Melspectro object at 0x11d0a70f0>  [[0.0, 0.0994196968635166, 0.0, 0.0, 0.0, 0.03423708697927341, 0.1035894350315889, 0.0, 0.02022270102501733, 0.0, 0.02663250799258865, 0.08760951738252953, 0.0, 0.04230176064037061, 0.022119264944...\n13  recordings    CASJ  California Scrub-Jay          CASJ     203.937       8.577    4496811                    CASJ scrub jays, misc  California Scrub-Jay - CASJ                    recordings/CASJ scrub jays, misc                    recordings/CASJ scrub jays, misc.wav                   recordings/CASJ scrub jays, misc: 1 channels, 16 bit, sampled @ 22.05 kHz, 203.937s long  <features.Melspectro object at 0x128e8bf60>  [[0.0, 0.029002751204225685, 0.0, 0.0, 0.0, 0.0, 0.0, 0.0, 0.0, 0.0, 0.0, 0.0, 0.0, 0.0, 0.050169788663493975, 0.0, 0.0, 0.0, 0.0, 0.0, 0.0, 0.0, 0.0, 0.0, 0.0, 0.0, 0.0, 0.0, 0.0, 0.0, 0.00717828...\n12  recordings    CASJ  California Scrub-Jay          CASJ      46.607       1.960    1027694                           CASJ scrub jay  California Scrub-Jay - CASJ                           recordings/CASJ scrub jay                           recordings/CASJ scrub jay.wav                           recordings/CASJ scrub jay: 1 channels, 16 bit, sampled @ 22.05 kHz, 46.607s long  <features.Melspectro object at 0x1258e4ba8>  [[0.02616414277841228, 0.0, 0.0, 0.0, 0.0, 0.02876724193311908, 0.0, 0.0, 0.056363601216435466, 0.0, 0.06310331003097458, 0.05922359054145443, 0.015395509881688696, 0.0, 0.0, 0.0, 0.0, 0.0, 0.0, 0..."
     },
     "metadata": {},
     "output_type": "display_data",
     "transient": {}
    }
   ],
   "source": [
    "# TODO TODO Don't load .spectro/.audio when .patches missing but all are cached\n",
    "features = Features()\n",
    "recs = features.transform(recs)\n",
    "display(df_summary(recs), recs[:5])"
   ]
  },
  {
   "cell_type": "code",
   "execution_count": null,
   "metadata": {},
   "outputs": [],
   "source": [
    "# TODO TODO After sorting out caching in Features\n",
    "projection = Projection.load('peterson-v0')\n",
    "recs = projection.transform(recs)\n",
    "display(df_summary(recs), recs[:5])"
   ]
  },
  {
   "cell_type": "code",
   "execution_count": null,
   "metadata": {},
   "outputs": [],
   "source": [
    "# TODO TODO"
   ]
  },
  {
   "cell_type": "code",
   "execution_count": null,
   "metadata": {},
   "outputs": [],
   "source": [
    "display(\n",
    "    df_summary(recs),\n",
    "    recs[:5],\n",
    ")"
   ]
  },
  {
   "cell_type": "code",
   "execution_count": null,
   "metadata": {},
   "outputs": [],
   "source": [
    "# Stats\n",
    "(recs\n",
    "    .assign(\n",
    "        n=1,\n",
    "        duration_h=lambda df: df.duration_s / 3600,\n",
    "        samples_gb=lambda df: df.samples_mb / 1024,\n",
    "        species=lambda df: df.species.cat.remove_unused_categories(),  # Else groupby includes all categories\n",
    "    )\n",
    "    .groupby([\n",
    "        'dataset',\n",
    "        'species',\n",
    "    ])\n",
    "    [['n', 'duration_h', 'samples_gb', 'samples_n']]\n",
    "    .sum()\n",
    "    .dropna()\n",
    ")"
   ]
  },
  {
   "cell_type": "code",
   "execution_count": null,
   "metadata": {},
   "outputs": [],
   "source": [
    "(recs\n",
    "    .assign(species=lambda df: df.species_longhand)\n",
    "    .assign(n=1)\n",
    "    .pipe(lambda df: df.append(\n",
    "        pd.DataFrame([\n",
    "            dict(species=species, dataset=dataset, n=0)\n",
    "            for species in df.species.unique()\n",
    "            for dataset in df.dataset.unique()\n",
    "        ])\n",
    "        .astype({'species': df.species.dtype})\n",
    "    ))\n",
    "    .groupby(['dataset', 'species'])['n'].sum().reset_index()\n",
    "    .pipe(df_reverse_cat, 'species')\n",
    "    .pipe(ggplot, aes(x='species', y='n', color='dataset', fill='dataset'))\n",
    "    + coord_flip()\n",
    "    + stat_identity(geom='bar', position=position_dodge())\n",
    "    + ylab('num recordings')\n",
    "    + scale_color_cmap_d(mpl.cm.tab10)\n",
    "    + scale_fill_cmap_d(mpl.cm.tab10)\n",
    "    + theme_figsize('half')\n",
    "    + ggtitle('How many recs per species x dataset?')\n",
    ")"
   ]
  },
  {
   "cell_type": "code",
   "execution_count": null,
   "metadata": {},
   "outputs": [],
   "source": [
    "%%time\n",
    "# Fit search\n",
    "from sp14.model import *\n",
    "\n",
    "recs_eval = (recs\n",
    "    [lambda df: df.dataset == 'peterson-field-guide']\n",
    "    # [:10]  # Faster dev\n",
    "    .reset_index(drop=True)\n",
    ")\n",
    "train_n, test_n = (len(recs_eval)+1)//2, len(recs_eval)//2\n",
    "recs_train, recs_test = (recs_eval\n",
    "    .pipe(sklearn.utils.shuffle, random_state=0)\n",
    "    .sample(train_n + test_n, random_state=0)\n",
    "    .pipe(lambda df: (\n",
    "        df[:train_n],\n",
    "        df[train_n : train_n + test_n],\n",
    "    ))\n",
    ")\n",
    "log('params', **{\n",
    "    'recs_eval': len(recs_eval),\n",
    "    'recs_train': len(recs_train),\n",
    "    'recs_test': len(recs_test),\n",
    "})\n",
    "\n",
    "search = Search(\n",
    "    # n_neighbors=3,\n",
    "    n_neighbors=5,\n",
    "    # n_neighbors=10,\n",
    ")\n",
    "search.fit(recs_train)"
   ]
  },
  {
   "cell_type": "code",
   "execution_count": null,
   "metadata": {},
   "outputs": [],
   "source": [
    "(search.coverage_error(recs_test, by='species')\n",
    "    .pipe(lambda df: df_transform_cat(df, lambda _: df.sort_values('coverage_error').species, 'species'))\n",
    "    .pipe(ggplot, aes(x='species', y='coverage_error'))\n",
    "    + geom_point()\n",
    "    + coord_flip()\n",
    "    + geom_hline(yintercept=len(set(search.fit_classes_)), color='grey')\n",
    "    + theme_figsize('inline')\n",
    "    + ggtitle('Coverage error')\n",
    ")"
   ]
  },
  {
   "cell_type": "code",
   "execution_count": null,
   "metadata": {},
   "outputs": [],
   "source": [
    "%%time\n",
    "with with_figsize('full'):\n",
    "    search.plot_confusion_matrix(recs_test)"
   ]
  },
  {
   "cell_type": "code",
   "execution_count": null,
   "metadata": {},
   "outputs": [],
   "source": [
    "# Example usage\n",
    "# search.species(recs_test[:5])\n",
    "# search.species_probs(recs_test[:5]).T[:search.knn_.n_neighbors + 1].T\n",
    "# search.similar_recs(recs_test[:5], 10)"
   ]
  },
  {
   "cell_type": "code",
   "execution_count": null,
   "metadata": {},
   "outputs": [],
   "source": []
  }
 ],
 "metadata": {
  "kernelspec": {
   "display_name": "bubo-features (PYTHONSTARTUP)",
   "language": "python",
   "name": "bubo-features (PYTHONSTARTUP)"
  }
 },
 "nbformat": 4,
 "nbformat_minor": 2
}
