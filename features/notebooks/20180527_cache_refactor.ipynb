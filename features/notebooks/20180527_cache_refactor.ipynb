{
 "cells": [
  {
   "cell_type": "code",
   "execution_count": null,
   "metadata": {},
   "outputs": [],
   "source": [
    "import glob\n",
    "\n",
    "from potoo.plot import *\n",
    "from potoo.util import *\n",
    "import sklearn\n",
    "\n",
    "from cache import *\n",
    "from constants import *\n",
    "from datasets import *\n",
    "from features import *\n",
    "from load import *\n",
    "from sp14.model import *\n",
    "from util import *\n",
    "from viz import *\n",
    "\n",
    "figsize('inline_short');"
   ]
  },
  {
   "cell_type": "code",
   "execution_count": null,
   "metadata": {},
   "outputs": [],
   "source": [
    "load = Load()\n",
    "recs = load.recs(\n",
    "    # limit=30,  # XXX Faster dev\n",
    "    datasets=[\n",
    "        'peterson-field-guide',\n",
    "        'recordings',\n",
    "    ],\n",
    ")\n",
    "display(df_summary(recs), recs[:5])"
   ]
  },
  {
   "cell_type": "markdown",
   "metadata": {},
   "source": [
    "# Fit search"
   ]
  },
  {
   "cell_type": "code",
   "execution_count": null,
   "metadata": {},
   "outputs": [],
   "source": [
    "# Add .feat (for eval functions below)\n",
    "cache_control(refresh=True)  # XXX\n",
    "projection = Projection.load('peterson-v0-26bae1c')\n",
    "recs = projection.transform(recs\n",
    "    .drop(columns=['feat'])  # XXX\n",
    ")"
   ]
  },
  {
   "cell_type": "code",
   "execution_count": null,
   "metadata": {},
   "outputs": [],
   "source": [
    "recs_eval = (recs\n",
    "    [lambda df: df.dataset == 'peterson-field-guide']\n",
    "    # [:10]  # Faster dev\n",
    "    .reset_index(drop=True)\n",
    ")\n",
    "train_n, test_n = (len(recs_eval)+1)//2, len(recs_eval)//2\n",
    "recs_train, recs_test = (recs_eval\n",
    "    .pipe(sklearn.utils.shuffle, random_state=0)\n",
    "    .sample(train_n + test_n, random_state=0)\n",
    "    .pipe(lambda df: (\n",
    "        df[:train_n],\n",
    "        df[train_n : train_n + test_n],\n",
    "    ))\n",
    ")\n",
    "log('params', **{\n",
    "    'recs_eval': len(recs_eval),\n",
    "    'recs_train': len(recs_train),\n",
    "    'recs_test': len(recs_test),\n",
    "})"
   ]
  },
  {
   "cell_type": "code",
   "execution_count": null,
   "metadata": {},
   "outputs": [],
   "source": [
    "from sp14.model import *\n",
    "search = Search(\n",
    "    # n_neighbors=3,\n",
    "    n_neighbors=5,\n",
    "    # n_neighbors=10,\n",
    "    projection=projection,\n",
    ")\n",
    "search.fit(recs_train)"
   ]
  },
  {
   "cell_type": "markdown",
   "metadata": {},
   "source": [
    "# Eval search"
   ]
  },
  {
   "cell_type": "code",
   "execution_count": null,
   "metadata": {},
   "outputs": [],
   "source": [
    "(search.coverage_error(recs_test, by='species')\n",
    "    .pipe(lambda df: df_transform_cat(df, lambda _: df.sort_values('coverage_error').species, 'species'))\n",
    "    .pipe(ggplot, aes(x='species', y='coverage_error'))\n",
    "    + geom_point()\n",
    "    + coord_flip()\n",
    "    + geom_hline(yintercept=len(set(search.fit_classes_)), color='grey')\n",
    "    + theme_figsize('inline')\n",
    "    + ggtitle('Coverage error')\n",
    ")"
   ]
  },
  {
   "cell_type": "code",
   "execution_count": null,
   "metadata": {},
   "outputs": [],
   "source": [
    "%%time\n",
    "with with_figsize('full'):\n",
    "    search.plot_confusion_matrix(recs_test)"
   ]
  },
  {
   "cell_type": "code",
   "execution_count": null,
   "metadata": {},
   "outputs": [],
   "source": [
    "# More usage examples\n",
    "# search.species(recs_test[:5])\n",
    "# search.species_probs(recs_test[:5]).T[:search.knn_.n_neighbors + 1].T\n",
    "# search.similar_recs(recs_test[:5], 10)"
   ]
  },
  {
   "cell_type": "code",
   "execution_count": null,
   "metadata": {},
   "outputs": [],
   "source": []
  }
 ],
 "metadata": {
  "kernelspec": {
   "display_name": "bubo-features (PYTHONSTARTUP)",
   "language": "python",
   "name": "bubo-features (PYTHONSTARTUP)"
  }
 },
 "nbformat": 4,
 "nbformat_minor": 2
}
