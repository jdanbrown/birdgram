{
 "cells": [
  {
   "cell_type": "markdown",
   "metadata": {},
   "source": [
    "# skm performance measurements\n",
    "- `skm.fit_minibatch(X)` is comparable to `skm.fit(X)`\n",
    "- `skm.fit_minibatch(X_batches[i])` is significantly slower than `skm.fit(X)`\n",
    "- Stick with `skm.fit(X)`"
   ]
  },
  {
   "cell_type": "code",
   "execution_count": null,
   "metadata": {},
   "outputs": [],
   "source": [
    "figsize('inline_short')\n",
    "\n",
    "from collections import OrderedDict\n",
    "import glob\n",
    "import itertools\n",
    "import json\n",
    "import random\n",
    "from typing import List\n",
    "\n",
    "from skm import SKM\n",
    "\n",
    "import metadata\n",
    "from util import *"
   ]
  },
  {
   "cell_type": "code",
   "execution_count": null,
   "metadata": {},
   "outputs": [
    {
     "data": {
      "text/plain": "(478, 1)"
     },
     "metadata": {},
     "output_type": "display_data",
     "transient": {}
    },
    {
     "data": {
      "text/html": "<table border=\"1\" class=\"dataframe\">\n  <thead>\n    <tr style=\"text-align: right;\">\n      <th></th>\n      <th>path</th>\n    </tr>\n  </thead>\n  <tbody>\n    <tr>\n      <th>0</th>\n      <td><div class=\"not-number\">/Users/danb/hack/bubo/data/peterson-field-guide/bewwre/audio/43220301 Song.mp3</div></td>\n    </tr>\n    <tr>\n      <th>1</th>\n      <td><div class=\"not-number\">/Users/danb/hack/bubo/data/peterson-field-guide/bewwre/audio/43220321 Song.mp3</div></td>\n    </tr>\n    <tr>\n      <th>2</th>\n      <td><div class=\"not-number\">/Users/danb/hack/bubo/data/peterson-field-guide/bewwre/audio/43220351 Song.mp3</div></td>\n    </tr>\n    <tr>\n      <th>3</th>\n      <td><div class=\"not-number\">/Users/danb/hack/bubo/data/peterson-field-guide/bewwre/audio/43220371 Song (2 types).mp3</div></td>\n    </tr>\n    <tr>\n      <th>4</th>\n      <td><div class=\"not-number\">/Users/danb/hack/bubo/data/peterson-field-guide/bewwre/audio/43220391 Song, Chatter, Snarl, etc..mp3</div></td>\n    </tr>\n    <tr>\n      <th>473</th>\n      <td><div class=\"not-number\">/Users/danb/hack/bubo/data/recordings-new/x 20180414 unknown- long rolling finchy- GG Park Botanical Gardens.wav</div></td>\n    </tr>\n    <tr>\n      <th>474</th>\n      <td><div class=\"not-number\">/Users/danb/hack/bubo/data/recordings-new/x mixed 20170514 various (community garden by christopher playground).wav</div></td>\n    </tr>\n    <tr>\n      <th>475</th>\n      <td><div class=\"not-number\">/Users/danb/hack/bubo/data/recordings-new/x mixed 20180415 mixed sparrows- glen canyon.wav</div></td>\n    </tr>\n    <tr>\n      <th>476</th>\n      <td><div class=\"not-number\">/Users/danb/hack/bubo/data/recordings-new/x wren 20161023 wren sp, alert.wav</div></td>\n    </tr>\n    <tr>\n      <th>477</th>\n      <td><div class=\"not-number\">/Users/danb/hack/bubo/data/recordings-new/x wren 20161023 wren sp.wav</div></td>\n    </tr>\n  </tbody>\n</table>",
      "text/plain": "                                                                                                                    path\n0                                         /Users/danb/hack/bubo/data/peterson-field-guide/bewwre/audio/43220301 Song.mp3\n1                                         /Users/danb/hack/bubo/data/peterson-field-guide/bewwre/audio/43220321 Song.mp3\n2                                         /Users/danb/hack/bubo/data/peterson-field-guide/bewwre/audio/43220351 Song.mp3\n3                               /Users/danb/hack/bubo/data/peterson-field-guide/bewwre/audio/43220371 Song (2 types).mp3\n4                   /Users/danb/hack/bubo/data/peterson-field-guide/bewwre/audio/43220391 Song, Chatter, Snarl, etc..mp3\n473     /Users/danb/hack/bubo/data/recordings-new/x 20180414 unknown- long rolling finchy- GG Park Botanical Gardens.wav\n474  /Users/danb/hack/bubo/data/recordings-new/x mixed 20170514 various (community garden by christopher playground).wav\n475                           /Users/danb/hack/bubo/data/recordings-new/x mixed 20180415 mixed sparrows- glen canyon.wav\n476                                         /Users/danb/hack/bubo/data/recordings-new/x wren 20161023 wren sp, alert.wav\n477                                                /Users/danb/hack/bubo/data/recordings-new/x wren 20161023 wren sp.wav"
     },
     "metadata": {},
     "output_type": "display_data",
     "transient": {}
    },
    {
     "data": {
      "text/html": "<div style=\"white-space: pre\">peterson-field-guide    341\nrecordings-new           86\nrecordings               51\nName: path, dtype: int64</div>",
      "text/plain": "peterson-field-guide    341\nrecordings-new           86\nrecordings               51\nName: path, dtype: int64"
     },
     "metadata": {},
     "output_type": "display_data",
     "transient": {}
    }
   ],
   "source": [
    "# Load recordings paths\n",
    "recs_paths = pd.DataFrame([\n",
    "    OrderedDict(\n",
    "        path=path,\n",
    "    )\n",
    "    for path in flatten(glob.glob(f'{data_dir}/{g}') for g in [\n",
    "        'peterson-field-guide/*/audio/*',\n",
    "        'recordings/*',\n",
    "        'recordings-new/*',\n",
    "    ])\n",
    "    if not os.path.isdir(path)\n",
    "])\n",
    "display(\n",
    "    recs_paths.shape,\n",
    "    pd.concat([\n",
    "        recs_paths[:5],\n",
    "        recs_paths[-5:],\n",
    "    ]),\n",
    "    recs_paths.path.map(lambda path: os.path.relpath(path, data_dir).split('/')[0]).value_counts(),\n",
    ")"
   ]
  },
  {
   "cell_type": "code",
   "execution_count": null,
   "metadata": {},
   "outputs": [
    {
     "name": "stdout",
     "output_type": "stream",
     "text": "Progress[0/478, .../s, ETA ...]: {'path': '/Users/danb/hack/bubo/data/peterson-field-guide/bewwre/audio/43220301 Song.mp3'}\n"
    },
    {
     "name": "stdout",
     "output_type": "stream",
     "text": "Progress[478/478, 346/s, took 1.38s]\n"
    },
    {
     "data": {
      "text/plain": "(478, 2)"
     },
     "metadata": {},
     "output_type": "display_data",
     "transient": {}
    },
    {
     "data": {
      "text/html": "<div style=\"white-space: pre\">0                          peterson-field-guide/bewwre/audio/43220301 Song: 1 channels, 16 bit, sampled @ 22.05 kHz, 10.632s long\n1                          peterson-field-guide/bewwre/audio/43220321 Song: 1 channels, 16 bit, sampled @ 22.05 kHz, 17.162s long\n2                          peterson-field-guide/bewwre/audio/43220351 Song: 1 channels, 16 bit, sampled @ 22.05 kHz, 49.136s long\n3                peterson-field-guide/bewwre/audio/43220371 Song (2 types): 1 channels, 16 bit, sampled @ 22.05 kHz, 29.753s long\n4    peterson-field-guide/bewwre/audio/43220391 Song, Chatter, Snarl, etc.: 1 channels, 16 bit, sampled @ 22.05 kHz, 27.011s long\nName: audio, dtype: object</div>",
      "text/plain": "0                          peterson-field-guide/bewwre/audio/43220301 Song: 1 channels, 16 bit, sampled @ 22.05 kHz, 10.632s long\n1                          peterson-field-guide/bewwre/audio/43220321 Song: 1 channels, 16 bit, sampled @ 22.05 kHz, 17.162s long\n2                          peterson-field-guide/bewwre/audio/43220351 Song: 1 channels, 16 bit, sampled @ 22.05 kHz, 49.136s long\n3                peterson-field-guide/bewwre/audio/43220371 Song (2 types): 1 channels, 16 bit, sampled @ 22.05 kHz, 29.753s long\n4    peterson-field-guide/bewwre/audio/43220391 Song, Chatter, Snarl, etc.: 1 channels, 16 bit, sampled @ 22.05 kHz, 27.011s long\nName: audio, dtype: object"
     },
     "metadata": {},
     "output_type": "display_data",
     "transient": {}
    }
   ],
   "source": [
    "# Load audio data for each recording\n",
    "recs_audio = (recs_paths\n",
    "    # [lambda df: df.species == 'WIWA'].reset_index(drop=True)  # For faster dev\n",
    "    # [:10]  # For faster dev\n",
    "    .assign(audio=lambda df: df.reset_index(drop=True).pipe(df_apply_with_progress, f=lambda rec:\n",
    "        load_audio(rec.path, cache=True, verbose=False)\n",
    "    ))\n",
    ")\n",
    "display(\n",
    "    recs_audio.shape,\n",
    "    recs_audio.audio[:5],\n",
    ")"
   ]
  },
  {
   "cell_type": "code",
   "execution_count": null,
   "metadata": {},
   "outputs": [
    {
     "name": "stdout",
     "output_type": "stream",
     "text": "Progress[0/478, .../s, ETA ...]: {'path': '/Users/danb/hack/bubo/data/peterson-field-guide/bewwre/audio/43220301 Song.mp3', 'audio': peterson-field-guide/bewwre/audio/43220301 Song: 1 channels, 16 bit, sampled @ 22.05 kHz, 10.632s long}\n"
    },
    {
     "name": "stdout",
     "output_type": "stream",
     "text": "Progress[0/478, .../s, ETA ...]: {'path': '/Users/danb/hack/bubo/data/peterson-field-guide/bewwre/audio/43220301 Song.mp3', 'audio': peterson-field-guide/bewwre/audio/43220301 Song: 1 channels, 16 bit, sampled @ 22.05 kHz, 10.632s long}\n"
    },
    {
     "name": "stdout",
     "output_type": "stream",
     "text": "Progress[478/478, 489/s, took 0.978s]\n"
    },
    {
     "data": {
      "text/plain": "(478, 7)"
     },
     "metadata": {},
     "output_type": "display_data",
     "transient": {}
    },
    {
     "data": {
      "text/html": "<table border=\"1\" class=\"dataframe\">\n  <thead>\n    <tr style=\"text-align: right;\">\n      <th></th>\n      <th>name</th>\n      <th>source</th>\n      <th>species</th>\n      <th>basename</th>\n      <th>species_query</th>\n      <th>audio</th>\n      <th>samples</th>\n    </tr>\n  </thead>\n  <tbody>\n    <tr>\n      <th>0</th>\n      <td><div class=\"not-number\">peterson-field-guide/bewwre/audio/43220301 Song</div></td>\n      <td><div class=\"not-number\">peterson-field-guide</div></td>\n      <td><div class=\"not-number\">BEWR</div></td>\n      <td><div class=\"not-number\">43220301 Song</div></td>\n      <td><div class=\"not-number\">bewwre</div></td>\n      <td><div class=\"not-number\">peterson-field-guide/bewwre/audio/43220301 Song: 1 channels, 16 bit, sampled @ 22.05 kHz, 10.632s long</div></td>\n      <td><div class=\"not-number\">[ 0  0 -1 ...  0  0  0]</div></td>\n    </tr>\n    <tr>\n      <th>1</th>\n      <td><div class=\"not-number\">peterson-field-guide/bewwre/audio/43220321 Song</div></td>\n      <td><div class=\"not-number\">peterson-field-guide</div></td>\n      <td><div class=\"not-number\">BEWR</div></td>\n      <td><div class=\"not-number\">43220321 Song</div></td>\n      <td><div class=\"not-number\">bewwre</div></td>\n      <td><div class=\"not-number\">peterson-field-guide/bewwre/audio/43220321 Song: 1 channels, 16 bit, sampled @ 22.05 kHz, 17.162s long</div></td>\n      <td><div class=\"not-number\">[ 0  0  0 ... -1  0  1]</div></td>\n    </tr>\n    <tr>\n      <th>2</th>\n      <td><div class=\"not-number\">peterson-field-guide/bewwre/audio/43220351 Song</div></td>\n      <td><div class=\"not-number\">peterson-field-guide</div></td>\n      <td><div class=\"not-number\">BEWR</div></td>\n      <td><div class=\"not-number\">43220351 Song</div></td>\n      <td><div class=\"not-number\">bewwre</div></td>\n      <td><div class=\"not-number\">peterson-field-guide/bewwre/audio/43220351 Song: 1 channels, 16 bit, sampled @ 22.05 kHz, 49.136s long</div></td>\n      <td><div class=\"not-number\">[0 0 0 ... 1 0 0]</div></td>\n    </tr>\n    <tr>\n      <th>3</th>\n      <td><div class=\"not-number\">peterson-field-guide/bewwre/audio/43220371 Song (2 types)</div></td>\n      <td><div class=\"not-number\">peterson-field-guide</div></td>\n      <td><div class=\"not-number\">BEWR</div></td>\n      <td><div class=\"not-number\">43220371 Song (2 types)</div></td>\n      <td><div class=\"not-number\">bewwre</div></td>\n      <td><div class=\"not-number\">peterson-field-guide/bewwre/audio/43220371 Song (2 types): 1 channels, 16 bit, sampled @ 22.05 kHz, 29.753s long</div></td>\n      <td><div class=\"not-number\">[ 0 -1  1 ...  0  1 -1]</div></td>\n    </tr>\n    <tr>\n      <th>4</th>\n      <td><div class=\"not-number\">peterson-field-guide/bewwre/audio/43220391 Song, Chatter, Snarl, etc.</div></td>\n      <td><div class=\"not-number\">peterson-field-guide</div></td>\n      <td><div class=\"not-number\">BEWR</div></td>\n      <td><div class=\"not-number\">43220391 Song, Chatter, Snarl, etc.</div></td>\n      <td><div class=\"not-number\">bewwre</div></td>\n      <td><div class=\"not-number\">peterson-field-guide/bewwre/audio/43220391 Song, Chatter, Snarl, etc.: 1 channels, 16 bit, sampled @ 22.05 kHz, 27.011s long</div></td>\n      <td><div class=\"not-number\">[1 1 0 ... 0 0 0]</div></td>\n    </tr>\n  </tbody>\n</table>",
      "text/plain": "                                                                    name                source species                             basename species_query                                                                                                                         audio                                                                                                                                                                                                  samples\n0                        peterson-field-guide/bewwre/audio/43220301 Song  peterson-field-guide    BEWR                        43220301 Song        bewwre                        peterson-field-guide/bewwre/audio/43220301 Song: 1 channels, 16 bit, sampled @ 22.05 kHz, 10.632s long  [0, 0, -1, 0, 0, 1, 0, 0, 0, 0, -1, 0, 0, 0, 0, 0, 0, 1, 0, 1, -1, 0, 0, -1, 1, 0, 0, 1, 0, 0, 0, 0, 0, 0, -1, 1, 0, -1, 0, 0, 0, 1, 1, 0, 0, 0, 0, 0, 0, 0, 0, 0, 1, 0, 0, 0, 0, 0, 0, 0, 0, 0, 0, ...\n1                        peterson-field-guide/bewwre/audio/43220321 Song  peterson-field-guide    BEWR                        43220321 Song        bewwre                        peterson-field-guide/bewwre/audio/43220321 Song: 1 channels, 16 bit, sampled @ 22.05 kHz, 17.162s long  [0, 0, 0, -1, 0, 0, 0, 0, 0, -1, 0, 0, 0, 0, 1, 0, -1, 0, 0, 1, 0, 0, 0, 0, 0, 0, 0, 0, -1, -1, 0, 1, 0, 0, 0, -1, 1, 0, 0, 0, 0, -1, -1, 0, 1, 0, 0, 0, -1, 0, 0, 0, 0, 0, 0, 0, 0, 0, -1, 0, 0, 0,...\n2                        peterson-field-guide/bewwre/audio/43220351 Song  peterson-field-guide    BEWR                        43220351 Song        bewwre                        peterson-field-guide/bewwre/audio/43220351 Song: 1 channels, 16 bit, sampled @ 22.05 kHz, 49.136s long  [0, 0, 0, 0, 0, 0, 0, 0, 0, 0, 0, 0, 0, -1, 1, -1, 0, 0, 0, 0, 0, 0, -1, 0, -1, 0, 0, 0, 0, 0, 0, 0, -1, 0, 0, 0, -1, 0, 1, 0, 0, 0, 0, 0, 0, 0, 0, 0, 0, -1, 0, 0, -1, 0, 1, 1, 0, 0, 0, -1, -1, 0,...\n3              peterson-field-guide/bewwre/audio/43220371 Song (2 types)  peterson-field-guide    BEWR              43220371 Song (2 types)        bewwre              peterson-field-guide/bewwre/audio/43220371 Song (2 types): 1 channels, 16 bit, sampled @ 22.05 kHz, 29.753s long  [0, -1, 1, 0, -1, 0, 0, 1, 0, 0, -1, -1, 0, 1, 0, 0, 1, 1, 0, 0, 0, 0, 0, 0, 0, -1, 0, 0, 1, 0, -1, 1, 0, 0, 1, 0, 0, 0, 0, 1, 0, 1, 0, 0, 0, 0, 1, 0, 1, 0, 0, -1, 0, 0, 1, -1, 0, 0, 0, -1, 0, 0, ...\n4  peterson-field-guide/bewwre/audio/43220391 Song, Chatter, Snarl, etc.  peterson-field-guide    BEWR  43220391 Song, Chatter, Snarl, etc.        bewwre  peterson-field-guide/bewwre/audio/43220391 Song, Chatter, Snarl, etc.: 1 channels, 16 bit, sampled @ 22.05 kHz, 27.011s long  [1, 1, 0, 0, 1, 0, 0, 0, 1, 0, 0, 0, 0, 0, 1, -1, 1, 0, 0, 0, 0, 0, 0, 0, 0, 1, 0, 1, 0, 0, 0, 0, 0, 0, 0, 0, 0, 0, 0, 0, 0, 0, -1, 0, 0, 0, 0, 0, -1, -1, 1, -1, 0, -1, 0, 1, -1, -1, 0, 0, 0, 0, 0..."
     },
     "metadata": {},
     "output_type": "display_data",
     "transient": {}
    },
    {
     "data": {
      "text/html": "<table border=\"1\" class=\"dataframe\">\n  <thead>\n    <tr style=\"text-align: right;\">\n      <th></th>\n      <th></th>\n      <th>name</th>\n    </tr>\n    <tr>\n      <th>source</th>\n      <th>species</th>\n      <th></th>\n    </tr>\n  </thead>\n  <tbody>\n    <tr>\n      <th rowspan=\"21\" valign=\"top\">peterson-field-guide</th>\n      <th>BCCH</th>\n      <td>19</td>\n    </tr>\n    <tr>\n      <th>BCTI</th>\n      <td>20</td>\n    </tr>\n    <tr>\n      <th>BEWR</th>\n      <td>19</td>\n    </tr>\n    <tr>\n      <th>BOCH</th>\n      <td>12</td>\n    </tr>\n    <tr>\n      <th>BUSH</th>\n      <td>12</td>\n    </tr>\n    <tr>\n      <th>CACH</th>\n      <td>18</td>\n    </tr>\n    <tr>\n      <th>CACW</th>\n      <td>14</td>\n    </tr>\n    <tr>\n      <th>CANW</th>\n      <td>15</td>\n    </tr>\n    <tr>\n      <th>CARW</th>\n      <td>19</td>\n    </tr>\n    <tr>\n      <th>CEDW</th>\n      <td>7</td>\n    </tr>\n    <tr>\n      <th>HOWR</th>\n      <td>20</td>\n    </tr>\n    <tr>\n      <th>MAWR</th>\n      <td>20</td>\n    </tr>\n    <tr>\n      <th>RBNU</th>\n      <td>16</td>\n    </tr>\n    <tr>\n      <th>ROWR</th>\n      <td>13</td>\n    </tr>\n    <tr>\n      <th>SEWR</th>\n      <td>11</td>\n    </tr>\n    <tr>\n      <th>SOSP</th>\n      <td>19</td>\n    </tr>\n    <tr>\n      <th>TUTI</th>\n      <td>26</td>\n    </tr>\n    <tr>\n      <th>WBNU</th>\n      <td>17</td>\n    </tr>\n    <tr>\n      <th>WCSP</th>\n      <td>20</td>\n    </tr>\n    <tr>\n      <th>WIWA</th>\n      <td>15</td>\n    </tr>\n    <tr>\n      <th>WIWR</th>\n      <td>9</td>\n    </tr>\n    <tr>\n      <th>recordings</th>\n      <th></th>\n      <td>51</td>\n    </tr>\n    <tr>\n      <th rowspan=\"11\" valign=\"top\">recordings-new</th>\n      <th></th>\n      <td>34</td>\n    </tr>\n    <tr>\n      <th>BEWR</th>\n      <td>3</td>\n    </tr>\n    <tr>\n      <th>CATH</th>\n      <td>2</td>\n    </tr>\n    <tr>\n      <th>CEDW</th>\n      <td>1</td>\n    </tr>\n    <tr>\n      <th>GRCA</th>\n      <td>1</td>\n    </tr>\n    <tr>\n      <th>MAWR</th>\n      <td>1</td>\n    </tr>\n    <tr>\n      <th>OCWA</th>\n      <td>1</td>\n    </tr>\n    <tr>\n      <th>SOSP</th>\n      <td>8</td>\n    </tr>\n    <tr>\n      <th>STJA</th>\n      <td>1</td>\n    </tr>\n    <tr>\n      <th>WCSP</th>\n      <td>18</td>\n    </tr>\n    <tr>\n      <th>WIWA</th>\n      <td>16</td>\n    </tr>\n  </tbody>\n</table>",
      "text/plain": "                              name\nsource               species      \npeterson-field-guide BCCH       19\n                     BCTI       20\n                     BEWR       19\n                     BOCH       12\n                     BUSH       12\n                     CACH       18\n                     CACW       14\n                     CANW       15\n                     CARW       19\n                     CEDW        7\n                     HOWR       20\n                     MAWR       20\n                     RBNU       16\n                     ROWR       13\n                     SEWR       11\n                     SOSP       19\n                     TUTI       26\n                     WBNU       17\n                     WCSP       20\n                     WIWA       15\n                     WIWR        9\nrecordings                      51\nrecordings-new                  34\n                     BEWR        3\n                     CATH        2\n                     CEDW        1\n                     GRCA        1\n                     MAWR        1\n                     OCWA        1\n                     SOSP        8\n                     STJA        1\n                     WCSP       18\n                     WIWA       16"
     },
     "metadata": {},
     "output_type": "display_data",
     "transient": {}
    }
   ],
   "source": [
    "recs = (recs_audio\n",
    "    .pipe(df_apply_with_progress, f=lambda row: pd.Series(dict(\n",
    "        **row.to_dict(),\n",
    "        name=row.audio.name,\n",
    "        samples=row.audio.to_numpy_array(),\n",
    "        **lookup_audio_metadata(row.audio),\n",
    "    )))\n",
    "    .drop(columns=['path'])\n",
    "    .pipe(df_reorder_cols, first=['name', 'source', 'species', 'basename'], last=['audio', 'samples'])\n",
    ")\n",
    "display(\n",
    "    recs.shape,\n",
    "    recs[:5],\n",
    "    recs.fillna('').groupby(['source', 'species'])[['name']].count(),\n",
    ")"
   ]
  },
  {
   "cell_type": "code",
   "execution_count": null,
   "metadata": {},
   "outputs": [
    {
     "name": "stdout",
     "output_type": "stream",
     "text": "[00:50:17.999] init:params\n  rec_sample_rate: 22050 Hz\n  spectro_f_min: 1000 Hz\n    f_max: 11025 Hz\n  spectro_f_bins (f): 40 freq bins\n  spectro_hop_length: 256 samples (11.6 ms)\n  spectro_frame_length: 512 samples (23.2 ms)\n    frame_overlap: 50% overlap (256 samples)\n    frames/s (t/s): 86.1 samples/s\n  spectro_frame_window: '''hann'''\n  norm: '[TODO]'\n  patch_length (p): 4 frames (46.4 ms)\n  proj_skm_pca_var: 99% variance\n  proj_skm_k: 500 clusters\n  agg_funs: '[''mean'', ''std'', ''max'']'\n    a: 3 aggs\n    features: 1500 features\n  class_knn_k: 3\n[00:50:18.001] init:pipeline\n  spectro: (f, t)   (40, 86.1/s)\n  patch  : (f*p, t) (40*4, 86.1/s)\n  proj   : (k, t)   (500, 86.1/s)\n  agg    : (k, a)   (500, 3)\n  feat   : (k*a,)   (1500,)\n"
    }
   ],
   "source": [
    "from sp14.model import *\n",
    "model = Model(verbose_params=True)\n",
    "\n",
    "_recs = [Recording(**row._asdict()) for row in recs.itertuples(index=False)]\n",
    "random.seed(1); random.shuffle(_recs)"
   ]
  },
  {
   "cell_type": "code",
   "execution_count": null,
   "metadata": {},
   "outputs": [
    {
     "name": "stdout",
     "output_type": "stream",
     "text": "[00:51:02.845] patches:recs\n  len(recs): 10\n  (samples,): [494208, 438336, 617472, 172800, 1268729, 1541030, 451008, 661824, 548352, 801792]\n"
    },
    {
     "name": "stdout",
     "output_type": "stream",
     "text": "[00:51:03.347] patches:spectros\n  (f, t): [[40, 1929], [40, 1711], [40, 2411], [40, 674], [40, 4954], [40, 6018], [40, 1760], [40, 2584], [40, 2141], [40, 3131]]\n[00:51:03.420] patches:patches\n  (f*p, t): [[160, 1926], [160, 1708], [160, 2408], [160, 671], [160, 4951], [160, 6015], [160, 1757], [160, 2581], [160, 2138], [160, 3128]]\n[skm_X.shape: (160, 27283)]\n"
    },
    {
     "name": "stdout",
     "output_type": "stream",
     "text": "CPU times: user 11.4 s, sys: 3.67 s, total: 15.1 s\nWall time: 4.07 s\n"
    }
   ],
   "source": [
    "%%time\n",
    "patches = model.patches(_recs[:10])\n",
    "skm = SKM(model.proj_skm_k)\n",
    "skm_X = np.concatenate(patches, axis=1)\n",
    "print(f'[skm_X.shape: {skm_X.shape}]')\n",
    "skm.fit(skm_X)"
   ]
  },
  {
   "cell_type": "code",
   "execution_count": null,
   "metadata": {},
   "outputs": [
    {
     "name": "stdout",
     "output_type": "stream",
     "text": "[00:51:06.970] patches:recs\n  len(recs): 10\n  (samples,): [494208, 438336, 617472, 172800, 1268729, 1541030, 451008, 661824, 548352, 801792]\n"
    },
    {
     "name": "stdout",
     "output_type": "stream",
     "text": "[00:51:07.484] patches:spectros\n  (f, t): [[40, 1929], [40, 1711], [40, 2411], [40, 674], [40, 4954], [40, 6018], [40, 1760], [40, 2584], [40, 2141], [40, 3131]]\n[00:51:07.562] patches:patches\n  (f*p, t): [[160, 1926], [160, 1708], [160, 2408], [160, 671], [160, 4951], [160, 6015], [160, 1757], [160, 2581], [160, 2138], [160, 3128]]\n[skm_X.shape: (160, 27283)]\n"
    },
    {
     "name": "stdout",
     "output_type": "stream",
     "text": "EPOCH: 1 CHANGE: 1.0000\nEPOCH: 2 CHANGE: 0.5347\n"
    },
    {
     "name": "stdout",
     "output_type": "stream",
     "text": "EPOCH: 3 CHANGE: 0.3321\n"
    },
    {
     "name": "stdout",
     "output_type": "stream",
     "text": "EPOCH: 4 CHANGE: 0.2038\nEPOCH: 5 CHANGE: 0.1310\n"
    },
    {
     "name": "stdout",
     "output_type": "stream",
     "text": "EPOCH: 6 CHANGE: 0.0914\nEPOCH: 7 CHANGE: 0.0692\n"
    },
    {
     "name": "stdout",
     "output_type": "stream",
     "text": "EPOCH: 8 CHANGE: 0.0529\nEPOCH: 9 CHANGE: 0.0429\n"
    },
    {
     "name": "stdout",
     "output_type": "stream",
     "text": "EPOCH: 10 CHANGE: 0.0340\nEPOCH: 11 CHANGE: 0.0301\n"
    },
    {
     "name": "stdout",
     "output_type": "stream",
     "text": "EPOCH: 12 CHANGE: 0.0254\n"
    },
    {
     "name": "stdout",
     "output_type": "stream",
     "text": "EPOCH: 13 CHANGE: 0.0207\nEPOCH: 14 CHANGE: 0.0191\n"
    },
    {
     "name": "stdout",
     "output_type": "stream",
     "text": "EPOCH: 15 CHANGE: 0.0174\nEPOCH: 16 CHANGE: 0.0141\n"
    },
    {
     "name": "stdout",
     "output_type": "stream",
     "text": "EPOCH: 17 CHANGE: 0.0125\nEPOCH: 18 CHANGE: 0.0107\n"
    },
    {
     "name": "stdout",
     "output_type": "stream",
     "text": "EPOCH: 19 CHANGE: 0.0094\nCPU times: user 12.6 s, sys: 4.26 s, total: 16.8 s\nWall time: 4.7 s\n"
    }
   ],
   "source": [
    "%%time\n",
    "patches = model.patches(_recs[:10])\n",
    "skm = SKM(model.proj_skm_k)\n",
    "skm_X = np.concatenate(patches, axis=1)\n",
    "print(f'[skm_X.shape: {skm_X.shape}]')\n",
    "skm.fit_minibatch(skm_X)"
   ]
  },
  {
   "cell_type": "code",
   "execution_count": null,
   "metadata": {},
   "outputs": [
    {
     "name": "stdout",
     "output_type": "stream",
     "text": "[00:50:39.522] patches:recs\n  len(recs): 10\n  (samples,): [494208, 438336, 617472, 172800, 1268729, 1541030, 451008, 661824, 548352, 801792]\n"
    },
    {
     "name": "stdout",
     "output_type": "stream",
     "text": "[00:50:40.056] patches:spectros\n  (f, t): [[40, 1929], [40, 1711], [40, 2411], [40, 674], [40, 4954], [40, 6018], [40, 1760], [40, 2584], [40, 2141], [40, 3131]]\n[00:50:40.175] patches:patches\n  (f*p, t): [[160, 1926], [160, 1708], [160, 2408], [160, 671], [160, 4951], [160, 6015], [160, 1757], [160, 2581], [160, 2138], [160, 3128]]\n[batch.shape: (160, 1000)]\n"
    },
    {
     "name": "stdout",
     "output_type": "stream",
     "text": "EPOCH: 1 CHANGE: 1.0000\nEPOCH: 2 CHANGE: 0.5245\n"
    },
    {
     "name": "stdout",
     "output_type": "stream",
     "text": "EPOCH: 3 CHANGE: 0.3202\nEPOCH: 4 CHANGE: 0.1866\n"
    },
    {
     "name": "stdout",
     "output_type": "stream",
     "text": "EPOCH: 5 CHANGE: 0.1215\nEPOCH: 6 CHANGE: 0.0894\n"
    },
    {
     "name": "stdout",
     "output_type": "stream",
     "text": "EPOCH: 7 CHANGE: 0.0674\nEPOCH: 8 CHANGE: 0.0508\n"
    },
    {
     "name": "stdout",
     "output_type": "stream",
     "text": "EPOCH: 9 CHANGE: 0.0412\n"
    },
    {
     "name": "stdout",
     "output_type": "stream",
     "text": "EPOCH: 10 CHANGE: 0.0302\nEPOCH: 11 CHANGE: 0.0257\n"
    },
    {
     "name": "stdout",
     "output_type": "stream",
     "text": "EPOCH: 12 CHANGE: 0.0225\nEPOCH: 13 CHANGE: 0.0193\n"
    },
    {
     "name": "stdout",
     "output_type": "stream",
     "text": "EPOCH: 14 CHANGE: 0.0168\nEPOCH: 15 CHANGE: 0.0135\n"
    },
    {
     "name": "stdout",
     "output_type": "stream",
     "text": "EPOCH: 16 CHANGE: 0.0134\nEPOCH: 17 CHANGE: 0.0119\n"
    },
    {
     "name": "stdout",
     "output_type": "stream",
     "text": "EPOCH: 18 CHANGE: 0.0101\nEPOCH: 19 CHANGE: 0.0090\n[batch.shape: (160, 1000)]\n"
    },
    {
     "name": "stdout",
     "output_type": "stream",
     "text": "EPOCH: 1 CHANGE: 1.0000\nEPOCH: 2 CHANGE: 0.1986\n"
    },
    {
     "name": "stdout",
     "output_type": "stream",
     "text": "EPOCH: 3 CHANGE: 0.3716\nEPOCH: 4 CHANGE: 0.2659\n"
    },
    {
     "name": "stdout",
     "output_type": "stream",
     "text": "EPOCH: 5 CHANGE: 0.1366\nEPOCH: 6 CHANGE: 0.0790\n"
    },
    {
     "name": "stdout",
     "output_type": "stream",
     "text": "EPOCH: 7 CHANGE: 0.0560\nEPOCH: 8 CHANGE: 0.0423\n"
    },
    {
     "name": "stdout",
     "output_type": "stream",
     "text": "EPOCH: 9 CHANGE: 0.0325\nEPOCH: 10 CHANGE: 0.0279\n"
    },
    {
     "name": "stdout",
     "output_type": "stream",
     "text": "EPOCH: 11 CHANGE: 0.0256\nEPOCH: 12 CHANGE: 0.0213\n"
    },
    {
     "name": "stdout",
     "output_type": "stream",
     "text": "EPOCH: 13 CHANGE: 0.0180\nEPOCH: 14 CHANGE: 0.0158\n"
    },
    {
     "name": "stdout",
     "output_type": "stream",
     "text": "EPOCH: 15 CHANGE: 0.0137\nEPOCH: 16 CHANGE: 0.0126\n"
    },
    {
     "name": "stdout",
     "output_type": "stream",
     "text": "EPOCH: 17 CHANGE: 0.0109\nEPOCH: 18 CHANGE: 0.0096\n[batch.shape: (160, 1000)]\n"
    },
    {
     "name": "stdout",
     "output_type": "stream",
     "text": "EPOCH: 1 CHANGE: 1.0000\n"
    },
    {
     "name": "stdout",
     "output_type": "stream",
     "text": "EPOCH: 2 CHANGE: 0.0080\n[batch.shape: (160, 1000)]\n"
    },
    {
     "name": "stdout",
     "output_type": "stream",
     "text": "EPOCH: 1 CHANGE: 1.0000\nEPOCH: 2 CHANGE: 0.0059\n[batch.shape: (160, 1000)]\n"
    },
    {
     "name": "stdout",
     "output_type": "stream",
     "text": "EPOCH: 1 CHANGE: 1.0000\nEPOCH: 2 CHANGE: 0.0047\n[batch.shape: (160, 1000)]\n"
    },
    {
     "name": "stdout",
     "output_type": "stream",
     "text": "EPOCH: 1 CHANGE: 1.0000\nEPOCH: 2 CHANGE: 0.0045\n[batch.shape: (160, 1000)]\n"
    },
    {
     "name": "stdout",
     "output_type": "stream",
     "text": "EPOCH: 1 CHANGE: 1.0000\nEPOCH: 2 CHANGE: 0.0041\n[batch.shape: (160, 1000)]\n"
    },
    {
     "name": "stdout",
     "output_type": "stream",
     "text": "EPOCH: 1 CHANGE: 1.0000\nEPOCH: 2 CHANGE: 0.0037\n[batch.shape: (160, 1000)]\n"
    },
    {
     "name": "stdout",
     "output_type": "stream",
     "text": "EPOCH: 1 CHANGE: 1.0000\n"
    },
    {
     "name": "stdout",
     "output_type": "stream",
     "text": "EPOCH: 2 CHANGE: 0.0027\n[batch.shape: (160, 1000)]\n"
    },
    {
     "name": "stdout",
     "output_type": "stream",
     "text": "EPOCH: 1 CHANGE: 1.0000\nEPOCH: 2 CHANGE: 0.0030\n[batch.shape: (160, 1000)]\n"
    },
    {
     "name": "stdout",
     "output_type": "stream",
     "text": "EPOCH: 1 CHANGE: 1.0000\nEPOCH: 2 CHANGE: 0.0029\n[batch.shape: (160, 1000)]\n"
    },
    {
     "name": "stdout",
     "output_type": "stream",
     "text": "EPOCH: 1 CHANGE: 1.0000\n"
    },
    {
     "name": "stdout",
     "output_type": "stream",
     "text": "EPOCH: 2 CHANGE: 0.0024\n[batch.shape: (160, 1000)]\n"
    },
    {
     "name": "stdout",
     "output_type": "stream",
     "text": "EPOCH: 1 CHANGE: 1.0000\nEPOCH: 2 CHANGE: 0.0019\n[batch.shape: (160, 1000)]\n"
    },
    {
     "name": "stdout",
     "output_type": "stream",
     "text": "EPOCH: 1 CHANGE: 1.0000\nEPOCH: 2 CHANGE: 0.0015\n[batch.shape: (160, 1000)]\n"
    },
    {
     "name": "stdout",
     "output_type": "stream",
     "text": "EPOCH: 1 CHANGE: 1.0000\n"
    },
    {
     "name": "stdout",
     "output_type": "stream",
     "text": "EPOCH: 2 CHANGE: 0.0013\n[batch.shape: (160, 1000)]\n"
    },
    {
     "name": "stdout",
     "output_type": "stream",
     "text": "EPOCH: 1 CHANGE: 1.0000\nEPOCH: 2 CHANGE: 0.0012\n[batch.shape: (160, 1000)]\n"
    },
    {
     "name": "stdout",
     "output_type": "stream",
     "text": "EPOCH: 1 CHANGE: 1.0000\nEPOCH: 2 CHANGE: 0.0009\n[batch.shape: (160, 1000)]\n"
    },
    {
     "name": "stdout",
     "output_type": "stream",
     "text": "EPOCH: 1 CHANGE: 1.0000\nEPOCH: 2 CHANGE: 0.0007\n[batch.shape: (160, 1000)]\n"
    },
    {
     "name": "stdout",
     "output_type": "stream",
     "text": "EPOCH: 1 CHANGE: 1.0000\nEPOCH: 2 CHANGE: 0.0008\n[batch.shape: (160, 1000)]\n"
    },
    {
     "name": "stdout",
     "output_type": "stream",
     "text": "EPOCH: 1 CHANGE: 1.0000\nEPOCH: 2 CHANGE: 0.0010\n[batch.shape: (160, 1000)]\n"
    },
    {
     "name": "stdout",
     "output_type": "stream",
     "text": "EPOCH: 1 CHANGE: 1.0000\nEPOCH: 2 CHANGE: 0.0011\n[batch.shape: (160, 1000)]\n"
    },
    {
     "name": "stdout",
     "output_type": "stream",
     "text": "EPOCH: 1 CHANGE: 1.0000\n"
    },
    {
     "name": "stdout",
     "output_type": "stream",
     "text": "EPOCH: 2 CHANGE: 0.0005\n[batch.shape: (160, 1000)]\n"
    },
    {
     "name": "stdout",
     "output_type": "stream",
     "text": "EPOCH: 1 CHANGE: 1.0000\nEPOCH: 2 CHANGE: 0.0005\n[batch.shape: (160, 1000)]\n"
    },
    {
     "name": "stdout",
     "output_type": "stream",
     "text": "EPOCH: 1 CHANGE: 1.0000\nEPOCH: 2 CHANGE: 0.0005\n[batch.shape: (160, 1000)]\n"
    },
    {
     "name": "stdout",
     "output_type": "stream",
     "text": "EPOCH: 1 CHANGE: 1.0000\nEPOCH: 2 CHANGE: 0.0005\n[batch.shape: (160, 1000)]\n"
    },
    {
     "name": "stdout",
     "output_type": "stream",
     "text": "EPOCH: 1 CHANGE: 1.0000\n"
    },
    {
     "name": "stdout",
     "output_type": "stream",
     "text": "EPOCH: 2 CHANGE: 0.0003\n[batch.shape: (160, 1000)]\n"
    },
    {
     "name": "stdout",
     "output_type": "stream",
     "text": "EPOCH: 1 CHANGE: 1.0000\nEPOCH: 2 CHANGE: 0.0003\n[batch.shape: (160, 283)]\n"
    },
    {
     "name": "stdout",
     "output_type": "stream",
     "text": "EPOCH: 1 CHANGE: 1.0000\nEPOCH: 2 CHANGE: 0.0002\nCPU times: user 53.8 s, sys: 17.9 s, total: 1min 11s\nWall time: 19.9 s\n"
    }
   ],
   "source": [
    "%%time\n",
    "patches = model.patches(_recs[:10])\n",
    "skm = SKM(model.proj_skm_k)\n",
    "skm_X = np.concatenate(patches, axis=1)\n",
    "for i in range(1 + skm_X.shape[1] // 1000):\n",
    "    batch = skm_X[:, 1000*i : 1000*(i+1)]\n",
    "    print(f'[batch.shape: {batch.shape}]')\n",
    "    skm.fit_minibatch(skm_X)"
   ]
  }
 ],
 "metadata": {
  "kernelspec": {
   "display_name": "bubo-features (PYTHONSTARTUP)",
   "language": "python",
   "name": "bubo-features (PYTHONSTARTUP)"
  }
 },
 "nbformat": 4,
 "nbformat_minor": 2
}
